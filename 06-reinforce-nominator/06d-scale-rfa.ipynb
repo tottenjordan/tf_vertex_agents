{
 "cells": [
  {
   "cell_type": "markdown",
   "id": "0c44f1a5-2b6a-4d08-96be-a00137baded4",
   "metadata": {},
   "source": [
    "# Train REINFORCE Agent with Vertex Training"
   ]
  },
  {
   "cell_type": "code",
   "execution_count": 1,
   "id": "311b9428-8028-4da5-8ca4-4fe86a0055cd",
   "metadata": {},
   "outputs": [
    {
     "name": "stdout",
     "output_type": "stream",
     "text": [
      "PREFIX: rec-bandits-v2\n"
     ]
    }
   ],
   "source": [
    "VERSION        = \"v2\"                       # TODO\n",
    "PREFIX         = f'rec-bandits-{VERSION}'   # TODO\n",
    "\n",
    "print(f\"PREFIX: {PREFIX}\")"
   ]
  },
  {
   "cell_type": "code",
   "execution_count": 2,
   "id": "d01a25d2-bbda-45eb-9aef-ce3e1025713e",
   "metadata": {},
   "outputs": [
    {
     "name": "stdout",
     "output_type": "stream",
     "text": [
      "\n",
      "PROJECT_ID               = \"hybrid-vertex\"\n",
      "PROJECT_NUM              = \"934903580331\"\n",
      "LOCATION                 = \"us-central1\"\n",
      "\n",
      "REGION                   = \"us-central1\"\n",
      "BQ_LOCATION              = \"US\"\n",
      "VPC_NETWORK_NAME         = \"ucaip-haystack-vpc-network\"\n",
      "VERTEX_SA                = \"934903580331-compute@developer.gserviceaccount.com\"\n",
      "\n",
      "PREFIX                   = \"rec-bandits-v2\"\n",
      "VERSION                  = \"v2\"\n",
      "\n",
      "BUCKET_NAME              = \"rec-bandits-v2-hybrid-vertex-bucket\"\n",
      "BUCKET_URI               = \"gs://rec-bandits-v2-hybrid-vertex-bucket\"\n",
      "DATA_GCS_PREFIX          = \"data\"\n",
      "DATA_PATH                = \"gs://rec-bandits-v2-hybrid-vertex-bucket/data\"\n",
      "VOCAB_SUBDIR             = \"vocabs\"\n",
      "VOCAB_FILENAME           = \"vocab_dict.pkl\"\n",
      "\n",
      "VPC_NETWORK_FULL         = \"projects/934903580331/global/networks/ucaip-haystack-vpc-network\"\n",
      "\n",
      "BIGQUERY_DATASET_NAME    = \"mvlens_rec_bandits_v2\"\n",
      "BIGQUERY_TABLE_NAME      = \"training_dataset\"\n",
      "\n",
      "REPOSITORY               = \"rl-movielens-rec-bandits-v2\"\n",
      "\n",
      "DOCKERNAME_01            = \"Dockerfile_train_my_perarm_env\"\n",
      "IMAGE_NAME_01            = \"train-my-perarm-env-v2\"\n",
      "IMAGE_URI_01             = \"gcr.io/hybrid-vertex/train-my-perarm-env-v2\"\n",
      "\n",
      "DOCKERNAME_02            = \"Dockerfile_perarm_feats\"\n",
      "IMAGE_NAME_02            = \"train-perarm-feats-v2\"\n",
      "IMAGE_URI_02             = \"gcr.io/hybrid-vertex/train-perarm-feats-v2\"\n",
      "\n",
      "DOCKERNAME_03            = \"Dockerfile_ranking_bandit\"\n",
      "IMAGE_NAME_03            = \"train-rank-bandit-v2\"\n",
      "IMAGE_URI_03             = \"gcr.io/hybrid-vertex/train-rank-bandit-v2\"\n",
      "\n",
      "DOCKERNAME_04            = \"Dockerfile_train_bandit_e2e\"\n",
      "IMAGE_NAME_04            = \"train-mab-e2e-v2\"\n",
      "IMAGE_URI_04             = \"gcr.io/hybrid-vertex/train-mab-e2e-v2\"\n",
      "\n",
      "DOCKERNAME_04_pred       = \"Dockerfile_pred_bandit_e2e\"\n",
      "IMAGE_NAME_04_pred       = \"pred-mab-e2e-v2\"\n",
      "IMAGE_URI_04_pred        = \"gcr.io/hybrid-vertex/pred-mab-e2e-v2\"\n",
      "\n",
      "REMOTE_IMAGE_NAME        = \"us-central1-docker.pkg.dev/hybrid-vertex/rl-movielens-rec-bandits-v2/local_docker_tfa\"\n",
      "REPO_DOCKER_PATH_PREFIX  = \"src\"\n",
      "\n"
     ]
    }
   ],
   "source": [
    "# staging GCS\n",
    "GCP_PROJECTS             = !gcloud config get-value project\n",
    "PROJECT_ID               = GCP_PROJECTS[0]\n",
    "\n",
    "# GCS bucket and paths\n",
    "BUCKET_NAME              = f'{PREFIX}-{PROJECT_ID}-bucket'\n",
    "BUCKET_URI               = f'gs://{BUCKET_NAME}'\n",
    "\n",
    "config = !gsutil cat {BUCKET_URI}/config/notebook_env.py\n",
    "print(config.n)\n",
    "exec(config.n)"
   ]
  },
  {
   "cell_type": "markdown",
   "id": "b79b05cd-d898-41c9-8b32-99e4e37c5943",
   "metadata": {},
   "source": [
    "## Imports"
   ]
  },
  {
   "cell_type": "code",
   "execution_count": 3,
   "id": "48ee6c84-c633-4591-a007-bcf15b6e2ac4",
   "metadata": {},
   "outputs": [],
   "source": [
    "import os\n",
    "os.environ['TF_CPP_MIN_LOG_LEVEL'] = '2'"
   ]
  },
  {
   "cell_type": "code",
   "execution_count": 4,
   "id": "f8e3c7f0-297d-43eb-b141-570f4c1882c4",
   "metadata": {},
   "outputs": [],
   "source": [
    "import json\n",
    "import time\n",
    "import numpy as np\n",
    "import pandas as pd\n",
    "import pickle as pkl\n",
    "from pprint import pprint\n",
    "from datetime import datetime\n",
    "\n",
    "# logging\n",
    "import logging\n",
    "logging.disable(logging.WARNING)\n",
    "\n",
    "from google.cloud import aiplatform\n",
    "from google.cloud import storage\n",
    "\n",
    "storage_client = storage.Client(project=PROJECT_ID)\n",
    "aiplatform.init(project=PROJECT_ID,location=REGION)\n",
    "\n",
    "import sys\n",
    "sys.path.append(\"..\")\n",
    "\n",
    "from src.utils import train_utils\n",
    "from src.data import data_utils, data_config"
   ]
  },
  {
   "cell_type": "code",
   "execution_count": 5,
   "id": "000feffe-48f4-4a26-9d41-e2d00fb4b436",
   "metadata": {},
   "outputs": [
    {
     "name": "stdout",
     "output_type": "stream",
     "text": [
      "GCS_DATA_PATH: gs://rec-bandits-v2-hybrid-vertex-bucket/data/movielens/m1m\n"
     ]
    }
   ],
   "source": [
    "EXAMPLE_GEN_GCS_PATH = data_config.EXAMPLE_GEN_GCS_PATH\n",
    "GCS_DATA_PATH = f\"{BUCKET_URI}/{EXAMPLE_GEN_GCS_PATH}\"\n",
    "\n",
    "print(f\"GCS_DATA_PATH: {GCS_DATA_PATH}\")\n",
    "\n",
    "# !gsutil ls $GCS_DATA_PATH"
   ]
  },
  {
   "cell_type": "markdown",
   "id": "48a58a5a-230f-4ead-90b5-9b8f832dcbf3",
   "metadata": {},
   "source": [
    "## Custom train image\n",
    "\n",
    "> TODO: add to `notebook_env.py` config"
   ]
  },
  {
   "cell_type": "code",
   "execution_count": 6,
   "id": "75fd91d1-9c94-4489-862b-1febf4091ac3",
   "metadata": {
    "tags": []
   },
   "outputs": [
    {
     "name": "stdout",
     "output_type": "stream",
     "text": [
      "DOCKERNAME_06 = Dockerfile_reinforce_recsys\n",
      "IMAGE_NAME_06 = train-reinforce-agent-v1\n",
      "IMAGE_URI_06  = gcr.io/hybrid-vertex/train-reinforce-agent-v1\n",
      "REPOSITORY    = rl-movielens-rec-bandits-v2\n"
     ]
    }
   ],
   "source": [
    "DOCKERNAME_06 = \"Dockerfile_reinforce_recsys\"\n",
    "IMAGE_NAME_06 = \"train-reinforce-agent-v1\"\n",
    "IMAGE_URI_06 = f\"gcr.io/hybrid-vertex/{IMAGE_NAME_06}\"\n",
    "\n",
    "print(f\"DOCKERNAME_06 = {DOCKERNAME_06}\")\n",
    "print(f\"IMAGE_NAME_06 = {IMAGE_NAME_06}\")\n",
    "print(f\"IMAGE_URI_06  = {IMAGE_URI_06}\")\n",
    "print(f\"REPOSITORY    = {REPOSITORY}\")"
   ]
  },
  {
   "cell_type": "markdown",
   "id": "c095e0ae-7194-4ec1-a5c9-e70bd7b901c2",
   "metadata": {},
   "source": [
    "## Train compute"
   ]
  },
  {
   "cell_type": "code",
   "execution_count": 7,
   "id": "16d6fa15-ec5b-4dfb-8d84-55cad7917c0d",
   "metadata": {},
   "outputs": [
    {
     "name": "stdout",
     "output_type": "stream",
     "text": [
      "ACCELERATOR: t4\n"
     ]
    }
   ],
   "source": [
    "ACCELERATOR = \"t4\" # str: \"a100\" | \"t4\" | None | l4\n",
    "ACCELERATOR = str(ACCELERATOR)\n",
    "\n",
    "print(f\"ACCELERATOR: {ACCELERATOR}\")"
   ]
  },
  {
   "cell_type": "code",
   "execution_count": 8,
   "id": "015a37f8-e4bf-4c32-8c7d-54ccb1d2dd67",
   "metadata": {},
   "outputs": [
    {
     "name": "stdout",
     "output_type": "stream",
     "text": [
      "WORKER_MACHINE_TYPE            : n1-highmem-16\n",
      "REPLICA_COUNT                  : 1\n",
      "ACCELERATOR_TYPE               : NVIDIA_TESLA_T4\n",
      "PER_MACHINE_ACCELERATOR_COUNT  : 1\n",
      "DISTRIBUTE_STRATEGY            : single\n",
      "REDUCTION_SERVER_COUNT         : 0\n",
      "REDUCTION_SERVER_MACHINE_TYPE  : n1-highcpu-16\n"
     ]
    }
   ],
   "source": [
    "if ACCELERATOR == \"a100\":\n",
    "    WORKER_MACHINE_TYPE = 'a2-highgpu-1g'\n",
    "    REPLICA_COUNT = 1\n",
    "    ACCELERATOR_TYPE = 'NVIDIA_TESLA_A100'\n",
    "    PER_MACHINE_ACCELERATOR_COUNT = 1\n",
    "    REDUCTION_SERVER_COUNT = 0                                                      \n",
    "    REDUCTION_SERVER_MACHINE_TYPE = \"n1-highcpu-16\"\n",
    "    DISTRIBUTE_STRATEGY = 'single'\n",
    "elif ACCELERATOR == 't4':\n",
    "    # WORKER_MACHINE_TYPE = 'n1-highcpu-16'\n",
    "    WORKER_MACHINE_TYPE = 'n1-highmem-16'\n",
    "    REPLICA_COUNT = 1\n",
    "    ACCELERATOR_TYPE = 'NVIDIA_TESLA_T4'\n",
    "    PER_MACHINE_ACCELERATOR_COUNT = 1\n",
    "    DISTRIBUTE_STRATEGY = 'single'\n",
    "    REDUCTION_SERVER_COUNT = 0                                                      \n",
    "    REDUCTION_SERVER_MACHINE_TYPE = \"n1-highcpu-16\"\n",
    "elif ACCELERATOR == 'l4':\n",
    "    WORKER_MACHINE_TYPE = \"g2-standard-16\"\n",
    "    REPLICA_COUNT = 1\n",
    "    ACCELERATOR_TYPE = 'NVIDIA_L4'\n",
    "    PER_MACHINE_ACCELERATOR_COUNT = 1\n",
    "    DISTRIBUTE_STRATEGY = 'single'\n",
    "    REDUCTION_SERVER_COUNT = 0                                                      \n",
    "    REDUCTION_SERVER_MACHINE_TYPE = \"n1-highcpu-16\"\n",
    "elif ACCELERATOR == 'tpu':\n",
    "    WORKER_MACHINE_TYPE = \"cloud-tpu\"\n",
    "    REPLICA_COUNT = 1\n",
    "    ACCELERATOR_TYPE = 'TPU_v3'\n",
    "    PER_MACHINE_ACCELERATOR_COUNT = 8 # 8 | +32+ for TPU Pods\n",
    "    DISTRIBUTE_STRATEGY = 'single'\n",
    "    REDUCTION_SERVER_COUNT = 0                                                      \n",
    "    REDUCTION_SERVER_MACHINE_TYPE = None\n",
    "elif ACCELERATOR == \"False\":\n",
    "    WORKER_MACHINE_TYPE = 'n2-highmem-32' # 'n1-highmem-96'n | 'n2-highmem-92'\n",
    "    REPLICA_COUNT = 1\n",
    "    ACCELERATOR_TYPE = None\n",
    "    PER_MACHINE_ACCELERATOR_COUNT = 0\n",
    "    DISTRIBUTE_STRATEGY = 'single'\n",
    "    REDUCTION_SERVER_COUNT = 0                                                      \n",
    "    REDUCTION_SERVER_MACHINE_TYPE = \"n1-highcpu-16\"\n",
    "\n",
    "print(f\"WORKER_MACHINE_TYPE            : {WORKER_MACHINE_TYPE}\")\n",
    "print(f\"REPLICA_COUNT                  : {REPLICA_COUNT}\")\n",
    "print(f\"ACCELERATOR_TYPE               : {ACCELERATOR_TYPE}\")\n",
    "print(f\"PER_MACHINE_ACCELERATOR_COUNT  : {PER_MACHINE_ACCELERATOR_COUNT}\")\n",
    "print(f\"DISTRIBUTE_STRATEGY            : {DISTRIBUTE_STRATEGY}\")\n",
    "print(f\"REDUCTION_SERVER_COUNT         : {REDUCTION_SERVER_COUNT}\")\n",
    "print(f\"REDUCTION_SERVER_MACHINE_TYPE  : {REDUCTION_SERVER_MACHINE_TYPE}\")"
   ]
  },
  {
   "cell_type": "markdown",
   "id": "4786ffb0-d2e9-4afc-9848-78b67a131965",
   "metadata": {},
   "source": [
    "## set Vertex AI Experiment"
   ]
  },
  {
   "cell_type": "markdown",
   "id": "9dd8b364-74cf-4149-a159-d6d52632127a",
   "metadata": {},
   "source": [
    "**references**\n",
    "* [Using Vertex TensorBoard with Experiments](https://cloud.google.com/vertex-ai/docs/experiments/tensorboard-setup#use_default_instance)\n",
    "* `aiplatform.init()` [src](https://github.com/googleapis/python-aiplatform/blob/main/google/cloud/aiplatform/initializer.py#L163)"
   ]
  },
  {
   "cell_type": "code",
   "execution_count": 27,
   "id": "aee344d8-7cb2-4e98-9ee7-505405f76bef",
   "metadata": {},
   "outputs": [],
   "source": [
    "EXP_VERSION = \"v12\"\n",
    "\n",
    "RUN_TAG = None\n",
    "# RUN_TAG = \"rnn-mode\"\n",
    "# RUN_TAG = \"reinforce-mode\"\n",
    "# RUN_TAG = \"topk-reinforce-mode-256\"\n",
    "# RUN_TAG = \"gamma-games-v3\"\n",
    "# RUN_TAG = \"topk8\""
   ]
  },
  {
   "cell_type": "code",
   "execution_count": 28,
   "id": "c50a9ed7-1cb3-43d2-8ed1-6b5376abed33",
   "metadata": {},
   "outputs": [
    {
     "data": {
      "text/html": [
       "\n",
       "        \n",
       "    <link rel=\"stylesheet\" href=\"https://fonts.googleapis.com/icon?family=Material+Icons\">\n",
       "    <style>\n",
       "      .view-vertex-resource,\n",
       "      .view-vertex-resource:hover,\n",
       "      .view-vertex-resource:visited {\n",
       "        position: relative;\n",
       "        display: inline-flex;\n",
       "        flex-direction: row;\n",
       "        height: 32px;\n",
       "        padding: 0 12px;\n",
       "          margin: 4px 18px;\n",
       "        gap: 4px;\n",
       "        border-radius: 4px;\n",
       "\n",
       "        align-items: center;\n",
       "        justify-content: center;\n",
       "        background-color: rgb(255, 255, 255);\n",
       "        color: rgb(51, 103, 214);\n",
       "\n",
       "        font-family: Roboto,\"Helvetica Neue\",sans-serif;\n",
       "        font-size: 13px;\n",
       "        font-weight: 500;\n",
       "        text-transform: uppercase;\n",
       "        text-decoration: none !important;\n",
       "\n",
       "        transition: box-shadow 280ms cubic-bezier(0.4, 0, 0.2, 1) 0s;\n",
       "        box-shadow: 0px 3px 1px -2px rgba(0,0,0,0.2), 0px 2px 2px 0px rgba(0,0,0,0.14), 0px 1px 5px 0px rgba(0,0,0,0.12);\n",
       "      }\n",
       "      .view-vertex-resource:active {\n",
       "        box-shadow: 0px 5px 5px -3px rgba(0,0,0,0.2),0px 8px 10px 1px rgba(0,0,0,0.14),0px 3px 14px 2px rgba(0,0,0,0.12);\n",
       "      }\n",
       "      .view-vertex-resource:active .view-vertex-ripple::before {\n",
       "        position: absolute;\n",
       "        top: 0;\n",
       "        bottom: 0;\n",
       "        left: 0;\n",
       "        right: 0;\n",
       "        border-radius: 4px;\n",
       "        pointer-events: none;\n",
       "\n",
       "        content: '';\n",
       "        background-color: rgb(51, 103, 214);\n",
       "        opacity: 0.12;\n",
       "      }\n",
       "      .view-vertex-icon {\n",
       "        font-size: 18px;\n",
       "      }\n",
       "    </style>\n",
       "  \n",
       "        <a class=\"view-vertex-resource\" id=\"view-vertex-resource-c8bb7c1a-1219-4ed3-beea-23cb624a7b0e\" href=\"#view-view-vertex-resource-c8bb7c1a-1219-4ed3-beea-23cb624a7b0e\">\n",
       "          <span class=\"material-icons view-vertex-icon\">science</span>\n",
       "          <span>View Experiment</span>\n",
       "        </a>\n",
       "        \n",
       "        <script>\n",
       "          (function () {\n",
       "            const link = document.getElementById('view-vertex-resource-c8bb7c1a-1219-4ed3-beea-23cb624a7b0e');\n",
       "            link.addEventListener('click', (e) => {\n",
       "              if (window.google?.colab?.openUrl) {\n",
       "                window.google.colab.openUrl('https://console.cloud.google.com/vertex-ai/experiments/locations/us-central1/experiments/06d-rfa-v12/runs?project=hybrid-vertex');\n",
       "              } else {\n",
       "                window.open('https://console.cloud.google.com/vertex-ai/experiments/locations/us-central1/experiments/06d-rfa-v12/runs?project=hybrid-vertex', '_blank');\n",
       "              }\n",
       "              e.stopPropagation();\n",
       "              e.preventDefault();\n",
       "            });\n",
       "          })();\n",
       "        </script>\n",
       "    "
      ],
      "text/plain": [
       "<IPython.core.display.HTML object>"
      ]
     },
     "metadata": {},
     "output_type": "display_data"
    },
    {
     "name": "stdout",
     "output_type": "stream",
     "text": [
      "EXPERIMENT_NAME  : 06d-rfa-v12\n",
      "RUN_NAME         : run-20241213-212305\n",
      "\n",
      "EXPERIMENT_DIR   : gs://rec-bandits-v2-hybrid-vertex-bucket/06d-rfa-v12\n",
      "CHECKPT_DIR      : gs://rec-bandits-v2-hybrid-vertex-bucket/06d-rfa-v12/chkpoint\n",
      "BASE_OUTPUT_DIR  : gs://rec-bandits-v2-hybrid-vertex-bucket/06d-rfa-v12/run-20241213-212305\n",
      "LOG_DIR          : gs://rec-bandits-v2-hybrid-vertex-bucket/06d-rfa-v12/run-20241213-212305/logs\n",
      "ROOT_DIR         : gs://rec-bandits-v2-hybrid-vertex-bucket/06d-rfa-v12/run-20241213-212305/root\n",
      "ARTIFACTS_DIR    : gs://rec-bandits-v2-hybrid-vertex-bucket/06d-rfa-v12/run-20241213-212305/artifacts\n",
      "\n",
      "TB_RESOURCE_NAME : projects/934903580331/locations/us-central1/tensorboards/257140585364717568\n"
     ]
    }
   ],
   "source": [
    "EXPERIMENT_NAME   = f'06d-rfa-{EXP_VERSION}'\n",
    "invoke_time       = time.strftime(\"%Y%m%d-%H%M%S\")\n",
    "\n",
    "# new experiment run\n",
    "if RUN_TAG:\n",
    "    RUN_NAME      = f'run-{RUN_TAG}'\n",
    "else:\n",
    "    RUN_NAME      = f'run-{invoke_time}'\n",
    "\n",
    "EXPERIMENT_DIR    = os.path.join(BUCKET_URI, EXPERIMENT_NAME)\n",
    "CHECKPT_DIR       = os.path.join(EXPERIMENT_DIR, \"chkpoint\")\n",
    "BASE_OUTPUT_DIR   = os.path.join(EXPERIMENT_DIR, RUN_NAME)\n",
    "LOG_DIR           = os.path.join(BASE_OUTPUT_DIR, \"logs\")\n",
    "ROOT_DIR          = os.path.join(BASE_OUTPUT_DIR, \"root\")\n",
    "ARTIFACTS_DIR     = os.path.join(BASE_OUTPUT_DIR, \"artifacts\")\n",
    "\n",
    "aiplatform.init(\n",
    "    project=PROJECT_ID,\n",
    "    location=REGION,\n",
    "    experiment=EXPERIMENT_NAME,\n",
    "    experiment_tensorboard=True,\n",
    ")\n",
    "\n",
    "tensorboard = aiplatform.Experiment(EXPERIMENT_NAME).get_backing_tensorboard_resource()\n",
    "TB_RESOURCE_NAME = tensorboard.resource_name\n",
    "\n",
    "print(f\"EXPERIMENT_NAME  : {EXPERIMENT_NAME}\")\n",
    "print(f\"RUN_NAME         : {RUN_NAME}\\n\")\n",
    "print(f\"EXPERIMENT_DIR   : {EXPERIMENT_DIR}\")\n",
    "print(f\"CHECKPT_DIR      : {CHECKPT_DIR}\")\n",
    "print(f\"BASE_OUTPUT_DIR  : {BASE_OUTPUT_DIR}\")\n",
    "print(f\"LOG_DIR          : {LOG_DIR}\")\n",
    "print(f\"ROOT_DIR         : {ROOT_DIR}\")\n",
    "print(f\"ARTIFACTS_DIR    : {ARTIFACTS_DIR}\\n\")\n",
    "print(f\"TB_RESOURCE_NAME : {TB_RESOURCE_NAME}\")"
   ]
  },
  {
   "cell_type": "markdown",
   "id": "3f9829dd-4e38-415b-95f6-d5caf1a88f1d",
   "metadata": {},
   "source": [
    "## Set training args"
   ]
  },
  {
   "cell_type": "code",
   "execution_count": 29,
   "id": "04998e1c-de96-4b5d-a847-ce77e495b650",
   "metadata": {},
   "outputs": [
    {
     "name": "stdout",
     "output_type": "stream",
     "text": [
      "NUM_ITERATIONS   : 100000\n",
      "LOG_INTERVAL     : 1000\n",
      "EVAL_INTERVAL    : 25000\n",
      "SUMMARY_INTERVAL : 1000\n",
      "CHKPT_INTERVAL   : 50000\n",
      "\n"
     ]
    }
   ],
   "source": [
    "# ====================================================\n",
    "# hyperparams\n",
    "# ====================================================\n",
    "BATCH_SIZE       = 512\n",
    "EVAL_BATCH_SIZE  = 512\n",
    "NUM_EVAL_BATCHES = 0 # num batches to take; 0 == take all dataset\n",
    "\n",
    "# ====================================================\n",
    "# agent & networks\n",
    "# ====================================================\n",
    "INPUT_EMBEDDING_SIZE = 100\n",
    "INPUT_FC_LAYER_PARAMS = [100, 100]\n",
    "LSTM_SIZE = [25,]\n",
    "OUTPUT_FC_LAYER_PARAMS = [10,]\n",
    "\n",
    "# k actions recommended by policy\n",
    "POLICY_NUM_ACTIONS = 5\n",
    "\n",
    "# number of actions with highest Q value\n",
    "NUM_GREEDY_ACTIONS = 4\n",
    "\n",
    "# num negative actions used to compute sampled_softmax loss\n",
    "# if 0, regular softmax will be used instead of sampled_softmax\n",
    "SAMPLED_SOFTMAX_NEGATIVES = 0\n",
    "\n",
    "# number of actions to retrieve using SCANN in the policy\n",
    "# if 0, all actions used to compute softmax\n",
    "SCANN_NUM_CANDIDATES_ACTIONS = 0\n",
    "\n",
    "# K in off policy correction to compute alpha (Section 4.3 of paper)\n",
    "# if 0, no off-policy correction applied\n",
    "OFF_POLICY_CORRECT_EXP = 12     # 0 | 16\n",
    "\n",
    "# Trains policy with supervised loss (instead of \"Off-Policy REINFORCE loss\")\n",
    "# useful for debugging e.g. as a sanity check that the model can mimick the dataset behavior\n",
    "SUPERVISED_LOSS_MAIN_POLICY = False\n",
    "\n",
    "# discount factor for future rewards\n",
    "# eval: 0.9 | 0.5 | 0.1 | 0\n",
    "GAMMA = 0.9\n",
    "\n",
    "# log agent & network variables and gradients\n",
    "# impacts job performance\n",
    "SUMMARIZE_GRADS_AND_VARS = False\n",
    "\n",
    "# TODO: error with summary stats\n",
    "DEBUG_SUMMARIES = False\n",
    "\n",
    "# ====================================================\n",
    "# performance\n",
    "# ====================================================\n",
    "USE_GPU = True\n",
    "USE_TPU = False\n",
    "TF_GPU_THREAD_COUNT = \"1\" # '1' | '4' | '8'\n",
    "USE_TF_FUNCTIONS = True\n",
    "\n",
    "# ====================================================\n",
    "# train job\n",
    "# ====================================================\n",
    "NUM_ITERATIONS   = 100_000\n",
    "LOG_INTERVAL     = int(NUM_ITERATIONS/100)\n",
    "EVAL_INTERVAL    = int(NUM_ITERATIONS/4)\n",
    "SUMMARY_INTERVAL = int(NUM_ITERATIONS/100)\n",
    "CHKPT_INTERVAL   = int(NUM_ITERATIONS/2)\n",
    "LEARNING_RATE    = 1e-3\n",
    "\n",
    "print(f\"NUM_ITERATIONS   : {NUM_ITERATIONS}\")\n",
    "print(f\"LOG_INTERVAL     : {LOG_INTERVAL}\")\n",
    "print(f\"EVAL_INTERVAL    : {EVAL_INTERVAL}\")\n",
    "print(f\"SUMMARY_INTERVAL : {SUMMARY_INTERVAL}\")\n",
    "print(f\"CHKPT_INTERVAL   : {CHKPT_INTERVAL}\\n\")"
   ]
  },
  {
   "cell_type": "markdown",
   "id": "ae43e2e2-efe4-40f4-9a05-359af3657229",
   "metadata": {},
   "source": [
    "### worker args"
   ]
  },
  {
   "cell_type": "code",
   "execution_count": 30,
   "id": "ee1c4480-f365-4d15-94d0-7517808ec55e",
   "metadata": {
    "tags": []
   },
   "outputs": [
    {
     "name": "stdout",
     "output_type": "stream",
     "text": [
      "['--project=hybrid-vertex',\n",
      " '--project_number=934903580331',\n",
      " '--bucket_name=rec-bandits-v2-hybrid-vertex-bucket',\n",
      " '--artifacts_dir=gs://rec-bandits-v2-hybrid-vertex-bucket/06d-rfa-v12/run-20241213-212305/artifacts',\n",
      " '--chkpoint_dir=gs://rec-bandits-v2-hybrid-vertex-bucket/06d-rfa-v12/chkpoint',\n",
      " '--log_dir=gs://rec-bandits-v2-hybrid-vertex-bucket/06d-rfa-v12/run-20241213-212305/logs',\n",
      " '--data_dir_prefix_path=data/movielens/m1m',\n",
      " '--vocab_prefix_path=data/movielens/m1m/vocabs',\n",
      " '--vocab_filename=vocab_dict.pkl',\n",
      " '--batch_size=512',\n",
      " '--eval_batch_size=512',\n",
      " '--num_eval_batches=0',\n",
      " '--num_iterations=100000',\n",
      " '--input_embedding_size=100',\n",
      " '--input_fc_layer_params=[100, 100]',\n",
      " '--lstm_size=[25]',\n",
      " '--output_fc_layer_params=[10]',\n",
      " '--policy_num_actions=5',\n",
      " '--num_greedy_actions=4',\n",
      " '--sampled_softmax_num_negatives=0',\n",
      " '--off_policy_correction_exponent=12',\n",
      " '--scann_num_candidate_actions=0',\n",
      " '--gamma=0.9',\n",
      " '--log_interval=1000',\n",
      " '--summary_interval=1000',\n",
      " '--eval_interval=25000',\n",
      " '--chkpt_interval=50000',\n",
      " '--learning_rate=0.001',\n",
      " '--tb_resource_name=projects/934903580331/locations/us-central1/tensorboards/257140585364717568',\n",
      " '--experiment_name=06d-rfa-v12',\n",
      " '--experiment_run=run-20241213-212305',\n",
      " '--log_vertex_experiment',\n",
      " '--tf_gpu_thread_count=1',\n",
      " '--use_gpu',\n",
      " '--use_tf_functions']\n"
     ]
    }
   ],
   "source": [
    "WORKER_ARGS = [\n",
    "    f\"--project={PROJECT_ID}\"\n",
    "    , f\"--project_number={PROJECT_NUM}\"\n",
    "    , f\"--bucket_name={BUCKET_NAME}\"\n",
    "    , f\"--artifacts_dir={ARTIFACTS_DIR}\"\n",
    "    , f\"--chkpoint_dir={CHECKPT_DIR}\"\n",
    "    , f\"--log_dir={LOG_DIR}\"\n",
    "    , f\"--data_dir_prefix_path={EXAMPLE_GEN_GCS_PATH}\"\n",
    "    , f\"--vocab_prefix_path={EXAMPLE_GEN_GCS_PATH}/{VOCAB_SUBDIR}\"\n",
    "    , f\"--vocab_filename={VOCAB_FILENAME}\"\n",
    "    \n",
    "    ### hparams\n",
    "    , f\"--batch_size={BATCH_SIZE}\"\n",
    "    , f\"--eval_batch_size={EVAL_BATCH_SIZE}\"\n",
    "    , f\"--num_eval_batches={NUM_EVAL_BATCHES}\"\n",
    "    , f\"--num_iterations={NUM_ITERATIONS}\"\n",
    "    \n",
    "    ### agent and networks\n",
    "    , f\"--input_embedding_size={INPUT_EMBEDDING_SIZE}\"\n",
    "    , f\"--input_fc_layer_params={INPUT_FC_LAYER_PARAMS}\"\n",
    "    , f\"--lstm_size={LSTM_SIZE}\"\n",
    "    , f\"--output_fc_layer_params={OUTPUT_FC_LAYER_PARAMS}\"\n",
    "    , f\"--policy_num_actions={POLICY_NUM_ACTIONS}\"\n",
    "    , f\"--num_greedy_actions={NUM_GREEDY_ACTIONS}\"\n",
    "    , f\"--sampled_softmax_num_negatives={SAMPLED_SOFTMAX_NEGATIVES}\"\n",
    "    , f\"--off_policy_correction_exponent={OFF_POLICY_CORRECT_EXP}\"\n",
    "    , f\"--scann_num_candidate_actions={SCANN_NUM_CANDIDATES_ACTIONS}\"\n",
    "    , f\"--gamma={GAMMA}\"\n",
    "    \n",
    "    # train job\n",
    "    , f\"--log_interval={LOG_INTERVAL}\"\n",
    "    , f\"--summary_interval={SUMMARY_INTERVAL}\"\n",
    "    , f\"--eval_interval={EVAL_INTERVAL}\"\n",
    "    , f\"--chkpt_interval={CHKPT_INTERVAL}\"\n",
    "    , f\"--learning_rate={LEARNING_RATE}\"\n",
    "    , f\"--tb_resource_name={TB_RESOURCE_NAME}\"\n",
    "    \n",
    "    # experiment & runs\n",
    "    , f\"--experiment_name={EXPERIMENT_NAME}\"\n",
    "    , f\"--experiment_run={RUN_NAME}\"\n",
    "    , f\"--log_vertex_experiment\" # omit for False\n",
    "    \n",
    "    # performance \n",
    "    , f\"--tf_gpu_thread_count={TF_GPU_THREAD_COUNT}\"\n",
    "]\n",
    "\n",
    "if SUPERVISED_LOSS_MAIN_POLICY:\n",
    "    WORKER_ARGS.append(\"--use_supervised_loss_for_main_policy\")\n",
    "\n",
    "if SUMMARIZE_GRADS_AND_VARS:\n",
    "    WORKER_ARGS.append(\"--sum_grads_vars\")\n",
    "\n",
    "if DEBUG_SUMMARIES:\n",
    "    WORKER_ARGS.append(\"--debug_summaries\")\n",
    "\n",
    "if USE_GPU:\n",
    "    WORKER_ARGS.append(\"--use_gpu\")\n",
    "\n",
    "if USE_TPU:\n",
    "    WORKER_ARGS.append(\"--use_tpu\")\n",
    "\n",
    "if USE_TF_FUNCTIONS:\n",
    "    WORKER_ARGS.append(\"--use_tf_functions\")\n",
    "\n",
    "pprint(WORKER_ARGS)"
   ]
  },
  {
   "cell_type": "markdown",
   "id": "7ec90b77-e3ef-499c-ac85-1d197e8be570",
   "metadata": {},
   "source": [
    "### workerpool specs"
   ]
  },
  {
   "cell_type": "code",
   "execution_count": 31,
   "id": "15f77c71-9e4a-4db4-aa46-d9cf71c0b55d",
   "metadata": {
    "tags": []
   },
   "outputs": [
    {
     "name": "stdout",
     "output_type": "stream",
     "text": [
      "[{'container_spec': {'args': ['--project=hybrid-vertex',\n",
      "                              '--project_number=934903580331',\n",
      "                              '--bucket_name=rec-bandits-v2-hybrid-vertex-bucket',\n",
      "                              '--artifacts_dir=gs://rec-bandits-v2-hybrid-vertex-bucket/06d-rfa-v12/run-20241213-212305/artifacts',\n",
      "                              '--chkpoint_dir=gs://rec-bandits-v2-hybrid-vertex-bucket/06d-rfa-v12/chkpoint',\n",
      "                              '--log_dir=gs://rec-bandits-v2-hybrid-vertex-bucket/06d-rfa-v12/run-20241213-212305/logs',\n",
      "                              '--data_dir_prefix_path=data/movielens/m1m',\n",
      "                              '--vocab_prefix_path=data/movielens/m1m/vocabs',\n",
      "                              '--vocab_filename=vocab_dict.pkl',\n",
      "                              '--batch_size=512',\n",
      "                              '--eval_batch_size=512',\n",
      "                              '--num_eval_batches=0',\n",
      "                              '--num_iterations=100000',\n",
      "                              '--input_embedding_size=100',\n",
      "                              '--input_fc_layer_params=[100, 100]',\n",
      "                              '--lstm_size=[25]',\n",
      "                              '--output_fc_layer_params=[10]',\n",
      "                              '--policy_num_actions=5',\n",
      "                              '--num_greedy_actions=4',\n",
      "                              '--sampled_softmax_num_negatives=0',\n",
      "                              '--off_policy_correction_exponent=12',\n",
      "                              '--scann_num_candidate_actions=0',\n",
      "                              '--gamma=0.9',\n",
      "                              '--log_interval=1000',\n",
      "                              '--summary_interval=1000',\n",
      "                              '--eval_interval=25000',\n",
      "                              '--chkpt_interval=50000',\n",
      "                              '--learning_rate=0.001',\n",
      "                              '--tb_resource_name=projects/934903580331/locations/us-central1/tensorboards/257140585364717568',\n",
      "                              '--experiment_name=06d-rfa-v12',\n",
      "                              '--experiment_run=run-20241213-212305',\n",
      "                              '--log_vertex_experiment',\n",
      "                              '--tf_gpu_thread_count=1',\n",
      "                              '--use_gpu',\n",
      "                              '--use_tf_functions'],\n",
      "                     'image_uri': 'gcr.io/hybrid-vertex/train-reinforce-agent-v1:latest'},\n",
      "  'machine_spec': {'accelerator_count': 1,\n",
      "                   'accelerator_type': 'NVIDIA_TESLA_T4',\n",
      "                   'machine_type': 'n1-highmem-16'},\n",
      "  'replica_count': 1}]\n"
     ]
    }
   ],
   "source": [
    "WORKER_POOL_SPECS = train_utils.prepare_worker_pool_specs(\n",
    "    # image_uri=f\"{REMOTE_IMAGE_NAME}:latest\",\n",
    "    image_uri=f\"{IMAGE_URI_06}:latest\",\n",
    "    args=WORKER_ARGS,\n",
    "    replica_count=REPLICA_COUNT,\n",
    "    machine_type=WORKER_MACHINE_TYPE,\n",
    "    accelerator_count=PER_MACHINE_ACCELERATOR_COUNT,\n",
    "    accelerator_type=ACCELERATOR_TYPE,\n",
    "    reduction_server_count=REDUCTION_SERVER_COUNT,\n",
    "    reduction_server_machine_type=REDUCTION_SERVER_MACHINE_TYPE,\n",
    ")\n",
    "pprint(WORKER_POOL_SPECS)"
   ]
  },
  {
   "cell_type": "markdown",
   "id": "a62019b9-e92a-4ae5-90ec-764cfd2d5833",
   "metadata": {},
   "source": [
    "## Submit custom train job"
   ]
  },
  {
   "cell_type": "code",
   "execution_count": 32,
   "id": "061b381b-84fe-437c-810f-0d8eb26ae4ce",
   "metadata": {},
   "outputs": [
    {
     "name": "stdout",
     "output_type": "stream",
     "text": [
      "JOB_NAME: 06d-rfa-v12-run-20241213-212305\n"
     ]
    }
   ],
   "source": [
    "JOB_NAME = f\"{EXPERIMENT_NAME}-{RUN_NAME}\"\n",
    "print(f\"JOB_NAME: {JOB_NAME}\")"
   ]
  },
  {
   "cell_type": "code",
   "execution_count": 33,
   "id": "329f3042-8db8-4a96-8717-3649883e605e",
   "metadata": {
    "tags": []
   },
   "outputs": [],
   "source": [
    "# Create a CustomJob\n",
    "my_custom_job = aiplatform.CustomJob(\n",
    "    display_name=JOB_NAME\n",
    "    , project=PROJECT_ID\n",
    "    , worker_pool_specs=WORKER_POOL_SPECS\n",
    "    , base_output_dir=BASE_OUTPUT_DIR\n",
    "    , staging_bucket=ROOT_DIR\n",
    ")"
   ]
  },
  {
   "cell_type": "code",
   "execution_count": 34,
   "id": "e751d72e-3a16-40f3-8fe2-d9a76f5dc514",
   "metadata": {
    "tags": []
   },
   "outputs": [],
   "source": [
    "my_custom_job.run(\n",
    "    # experiment=EXPERIMENT_NAME,\n",
    "    # experiment_run=RUN_NAME,\n",
    "    tensorboard=TB_RESOURCE_NAME,\n",
    "    service_account=VERTEX_SA,\n",
    "    restart_job_on_worker_restart=False,\n",
    "    enable_web_access=True,\n",
    "    sync=False,\n",
    ")"
   ]
  },
  {
   "cell_type": "code",
   "execution_count": 35,
   "id": "156d6350-3790-48a1-a62e-ed34c40fa3cf",
   "metadata": {
    "tags": []
   },
   "outputs": [
    {
     "name": "stdout",
     "output_type": "stream",
     "text": [
      "Job Name: 06d-rfa-v12-run-20241213-212305\n",
      "Job Resource Name: projects/934903580331/locations/us-central1/customJobs/4407749941737291776\n",
      "\n"
     ]
    },
    {
     "data": {
      "text/plain": [
       "worker_pool_specs {\n",
       "  container_spec {\n",
       "    image_uri: \"gcr.io/hybrid-vertex/train-reinforce-agent-v1:latest\"\n",
       "    args: \"--project=hybrid-vertex\"\n",
       "    args: \"--project_number=934903580331\"\n",
       "    args: \"--bucket_name=rec-bandits-v2-hybrid-vertex-bucket\"\n",
       "    args: \"--artifacts_dir=gs://rec-bandits-v2-hybrid-vertex-bucket/06d-rfa-v12/run-20241213-212305/artifacts\"\n",
       "    args: \"--chkpoint_dir=gs://rec-bandits-v2-hybrid-vertex-bucket/06d-rfa-v12/chkpoint\"\n",
       "    args: \"--log_dir=gs://rec-bandits-v2-hybrid-vertex-bucket/06d-rfa-v12/run-20241213-212305/logs\"\n",
       "    args: \"--data_dir_prefix_path=data/movielens/m1m\"\n",
       "    args: \"--vocab_prefix_path=data/movielens/m1m/vocabs\"\n",
       "    args: \"--vocab_filename=vocab_dict.pkl\"\n",
       "    args: \"--batch_size=512\"\n",
       "    args: \"--eval_batch_size=512\"\n",
       "    args: \"--num_eval_batches=0\"\n",
       "    args: \"--num_iterations=100000\"\n",
       "    args: \"--input_embedding_size=100\"\n",
       "    args: \"--input_fc_layer_params=[100, 100]\"\n",
       "    args: \"--lstm_size=[25]\"\n",
       "    args: \"--output_fc_layer_params=[10]\"\n",
       "    args: \"--policy_num_actions=5\"\n",
       "    args: \"--num_greedy_actions=4\"\n",
       "    args: \"--sampled_softmax_num_negatives=0\"\n",
       "    args: \"--off_policy_correction_exponent=12\"\n",
       "    args: \"--scann_num_candidate_actions=0\"\n",
       "    args: \"--gamma=0.9\"\n",
       "    args: \"--log_interval=1000\"\n",
       "    args: \"--summary_interval=1000\"\n",
       "    args: \"--eval_interval=25000\"\n",
       "    args: \"--chkpt_interval=50000\"\n",
       "    args: \"--learning_rate=0.001\"\n",
       "    args: \"--tb_resource_name=projects/934903580331/locations/us-central1/tensorboards/257140585364717568\"\n",
       "    args: \"--experiment_name=06d-rfa-v12\"\n",
       "    args: \"--experiment_run=run-20241213-212305\"\n",
       "    args: \"--log_vertex_experiment\"\n",
       "    args: \"--tf_gpu_thread_count=1\"\n",
       "    args: \"--use_gpu\"\n",
       "    args: \"--use_tf_functions\"\n",
       "  }\n",
       "  machine_spec {\n",
       "    machine_type: \"n1-highmem-16\"\n",
       "    accelerator_type: NVIDIA_TESLA_T4\n",
       "    accelerator_count: 1\n",
       "  }\n",
       "  replica_count: 1\n",
       "  disk_spec {\n",
       "    boot_disk_type: \"pd-ssd\"\n",
       "    boot_disk_size_gb: 100\n",
       "  }\n",
       "}\n",
       "service_account: \"934903580331-compute@developer.gserviceaccount.com\"\n",
       "base_output_directory {\n",
       "  output_uri_prefix: \"gs://rec-bandits-v2-hybrid-vertex-bucket/06d-rfa-v12/run-20241213-212305\"\n",
       "}\n",
       "tensorboard: \"projects/934903580331/locations/us-central1/tensorboards/257140585364717568\"\n",
       "enable_web_access: true"
      ]
     },
     "execution_count": 35,
     "metadata": {},
     "output_type": "execute_result"
    }
   ],
   "source": [
    "print(f\"Job Name: {my_custom_job.display_name}\")\n",
    "print(f\"Job Resource Name: {my_custom_job.resource_name}\\n\")\n",
    "\n",
    "my_custom_job.job_spec"
   ]
  },
  {
   "cell_type": "markdown",
   "id": "942de3da-7934-43cd-a37b-c1810ee11c29",
   "metadata": {
    "tags": []
   },
   "source": [
    "#### tmp dubgging - START\n",
    "\n",
    "> Run training job with experiment tracking [code example](https://cloud.google.com/vertex-ai/docs/experiments/run-training-job-experiments#vertex_ai_experiment_training_job_manual_log-python_vertex_ai_sdk)\n",
    "\n",
    "args for `.from_local_script()` [src](https://github.com/googleapis/python-aiplatform/blob/main/google/cloud/aiplatform/jobs.py#L1925)\n",
    "* `script_path`: The path, relative to the working directory on your local file system, to the script that is the entry point for your training code.\n",
    "* `experiment`\n",
    "* `experiment_run`\n",
    "* 'experiment' and 'tensorboard' cannot be set together"
   ]
  },
  {
   "cell_type": "code",
   "execution_count": 18,
   "id": "103ced86-f00a-4e10-9cdb-f6e599389c80",
   "metadata": {
    "tags": []
   },
   "outputs": [
    {
     "name": "stdout",
     "output_type": "stream",
     "text": [
      "['google-cloud-aiplatform==1.71.0',\n",
      " 'google-cloud-storage',\n",
      " 'numpy',\n",
      " 'numba',\n",
      " 'matplotlib',\n",
      " 'tensorflow==2.13.0',\n",
      " 'tf-agents==0.17.0',\n",
      " 'tensorflow-recommenders==0.7.3',\n",
      " 'tensorflow-probability==0.20.1',\n",
      " 'tensorflow-datasets',\n",
      " 'tensorboard',\n",
      " 'tensorboard-plugin-profile',\n",
      " 'tensorboard-plugin-wit',\n",
      " 'tensorboard-data-server',\n",
      " 'tensorflow-io',\n",
      " 'protobuf==3.20.3']\n"
     ]
    }
   ],
   "source": [
    "with open('../requirements.txt', 'r') as file:\n",
    "    REQUIREMENT_LIST = [line.strip() for line in file if line.strip()]\n",
    "    pprint(REQUIREMENT_LIST)"
   ]
  },
  {
   "cell_type": "code",
   "execution_count": 19,
   "id": "38cdbcb1-b6d7-4d8c-a78f-1ecfca781719",
   "metadata": {
    "tags": []
   },
   "outputs": [],
   "source": [
    "# aiplatform.init(\n",
    "#     project=PROJECT_ID,\n",
    "#     location=REGION,\n",
    "#     experiment=EXPERIMENT_NAME,\n",
    "#     experiment_tensorboard=True,\n",
    "# )"
   ]
  },
  {
   "cell_type": "code",
   "execution_count": 20,
   "id": "3595d4c6-e692-4bb8-9e77-49686adc04bd",
   "metadata": {
    "tags": []
   },
   "outputs": [],
   "source": [
    "# # TODO: test from local script\n",
    "# my_custom_job = aiplatform.CustomJob.from_local_script(\n",
    "#     display_name=JOB_NAME,\n",
    "#     project=PROJECT_ID,\n",
    "#     location=REGION,\n",
    "#     staging_bucket=ROOT_DIR,\n",
    "#     base_output_dir=BASE_OUTPUT_DIR,\n",
    "    \n",
    "#     # train job\n",
    "#     script_path=\"../src/trainer/train_topkop_rfa.py\",\n",
    "#     container_uri=f\"{IMAGE_URI_06}:latest\",\n",
    "#     requirements=REQUIREMENT_LIST,\n",
    "#     args=WORKER_ARGS,\n",
    "#     # environment_variables=XXXXX, # Dict[str,str]\n",
    "    \n",
    "#     # compute\n",
    "#     replica_count = REPLICA_COUNT,\n",
    "#     machine_type = WORKER_MACHINE_TYPE,\n",
    "#     accelerator_count = PER_MACHINE_ACCELERATOR_COUNT,\n",
    "#     accelerator_type = ACCELERATOR_TYPE,\n",
    "#     enable_autolog = True,\n",
    "# )"
   ]
  },
  {
   "cell_type": "code",
   "execution_count": 44,
   "id": "3888c3af-e976-4476-bd7f-772fa1645c4e",
   "metadata": {
    "tags": []
   },
   "outputs": [],
   "source": [
    "# my_custom_job.run(\n",
    "#     experiment=EXPERIMENT_NAME,\n",
    "#     # experiment_run=RUN_NAME,\n",
    "#     # tensorboard=TB_RESOURCE_NAME,\n",
    "#     service_account=VERTEX_SA,\n",
    "#     restart_job_on_worker_restart=False,\n",
    "#     enable_web_access=True,\n",
    "#     sync=False,\n",
    "# )"
   ]
  },
  {
   "cell_type": "code",
   "execution_count": null,
   "id": "fed1173a-2c2d-4390-b371-a066b68119bc",
   "metadata": {
    "tags": []
   },
   "outputs": [],
   "source": [
    "# print(f\"Job Name: {my_custom_job.display_name}\")\n",
    "# print(f\"Job Resource Name: {my_custom_job.resource_name}\\n\")"
   ]
  },
  {
   "cell_type": "code",
   "execution_count": null,
   "id": "098b0e1c-2308-4450-a509-22415668473c",
   "metadata": {},
   "outputs": [],
   "source": [
    "# job.job_spec"
   ]
  },
  {
   "cell_type": "markdown",
   "id": "1fd0b2cb-6eac-4c01-a15e-d8b8a8a333e6",
   "metadata": {},
   "source": [
    "```python\n",
    "job = aiplatform.CustomJob.from_local_script(\n",
    "    display_name=\"my-custom-job\",\n",
    "    script_path=\"training_script.py\",\n",
    "    container_uri=\"gcr.io/cloud-aiplatform/training/tf-cpu.2-2:latest\",\n",
    "    requirements=[\"gcsfs==0.7.1\"],\n",
    "    replica_count=1,\n",
    "    args=['--dataset', 'gs://my-bucket/my-dataset',\n",
    "    '--model_output_uri', 'gs://my-bucket/model']\n",
    "    labels={'my_key': 'my_value'},\n",
    ")\n",
    "```"
   ]
  },
  {
   "cell_type": "code",
   "execution_count": 50,
   "id": "b87483a6-6b18-42ee-b285-a16dde2bd8d2",
   "metadata": {
    "tags": []
   },
   "outputs": [
    {
     "data": {
      "text/plain": [
       "frozenset({'distributions',\n",
       "           'graphs',\n",
       "           'histograms',\n",
       "           'hparams',\n",
       "           'images',\n",
       "           'profile',\n",
       "           'scalars',\n",
       "           'text'})"
      ]
     },
     "execution_count": 50,
     "metadata": {},
     "output_type": "execute_result"
    }
   ],
   "source": [
    "from google.cloud.aiplatform.tensorboard import uploader_constants\n",
    "\n",
    "uploader_constants.ALLOWED_PLUGINS"
   ]
  },
  {
   "cell_type": "code",
   "execution_count": 53,
   "id": "020ccb25-0785-404c-b01d-2b77a949d543",
   "metadata": {
    "tags": []
   },
   "outputs": [
    {
     "data": {
      "text/plain": [
       "'257140585364717568'"
      ]
     },
     "execution_count": 53,
     "metadata": {},
     "output_type": "execute_result"
    }
   ],
   "source": [
    "# TB_RESOURCE_NAME\n",
    "TB_ID = TB_RESOURCE_NAME.split('/')[-1]\n",
    "TB_ID"
   ]
  },
  {
   "cell_type": "code",
   "execution_count": 54,
   "id": "56e67cd9-f70c-46c6-9298-78652dd76d9f",
   "metadata": {
    "tags": []
   },
   "outputs": [
    {
     "data": {
      "text/plain": [
       "<google.cloud.aiplatform.tensorboard.tensorboard_resource.Tensorboard object at 0x7f47a1e02860> \n",
       "resource name: projects/934903580331/locations/us-central1/tensorboards/257140585364717568"
      ]
     },
     "execution_count": 54,
     "metadata": {},
     "output_type": "execute_result"
    }
   ],
   "source": [
    "# tensorboard = aiplatform.Experiment(experiment_name).get_backing_tensorboard_resource()\n",
    "tensorboard"
   ]
  },
  {
   "cell_type": "code",
   "execution_count": 55,
   "id": "7c8e5cbd-cbdf-46bd-b1d7-9634201723af",
   "metadata": {
    "tags": []
   },
   "outputs": [
    {
     "data": {
      "text/plain": [
       "{'name': 'projects/934903580331/locations/us-central1/tensorboards/257140585364717568',\n",
       " 'displayName': 'Default Tensorboard 2024-11-07 19:18:27.757496',\n",
       " 'createTime': '2024-11-07T19:18:28.183945Z',\n",
       " 'updateTime': '2024-11-07T19:18:28.544Z',\n",
       " 'etag': 'AMEw9yNES55QPajzlS7SzpFa8LkKQ-QICxojIuNha6HILTGJrqde6Z7AsrjMrV8AvBAz',\n",
       " 'blobStoragePathPrefix': 'cloud-ai-platform-5e3b4da5-183a-4327-a74b-c0d3d264301f',\n",
       " 'isDefault': True}"
      ]
     },
     "execution_count": 55,
     "metadata": {},
     "output_type": "execute_result"
    }
   ],
   "source": [
    "tensorboard.to_dict()"
   ]
  },
  {
   "cell_type": "markdown",
   "id": "f7ad041c-63ab-41ec-870c-965bab215cda",
   "metadata": {},
   "source": [
    "#### tmp dubgging - END"
   ]
  },
  {
   "cell_type": "markdown",
   "id": "696716e6-c83f-420d-af19-b0928fdff06a",
   "metadata": {},
   "source": [
    "# Get link to Vertex AI Experiment console"
   ]
  },
  {
   "cell_type": "code",
   "execution_count": null,
   "id": "9d0bcdeb-32f4-4fd6-b11a-774510319947",
   "metadata": {},
   "outputs": [],
   "source": [
    "vertex_experiment_run = aiplatform.ExperimentRun(\n",
    "    run_name=RUN_NAME, \n",
    "    experiment=EXPERIMENT_NAME, \n",
    "    project=PROJECT_ID,\n",
    "    location=REGION,\n",
    ")\n",
    "\n",
    "vertex_experiment_run"
   ]
  },
  {
   "cell_type": "code",
   "execution_count": null,
   "id": "61905011-50ef-4316-afae-40f9c67921d3",
   "metadata": {},
   "outputs": [],
   "source": [
    "# get summary metrics\n",
    "vertex_experiment_run.get_metrics()"
   ]
  },
  {
   "cell_type": "code",
   "execution_count": null,
   "id": "5a0ea03a-6d25-44d0-a720-8c57d7be2b54",
   "metadata": {},
   "outputs": [],
   "source": [
    "# get params\n",
    "vertex_experiment_run.get_params()"
   ]
  },
  {
   "cell_type": "code",
   "execution_count": null,
   "id": "fad76516-703d-4fb8-ab39-95f50bfe5622",
   "metadata": {},
   "outputs": [],
   "source": [
    "vertex_experiment_run.get_time_series_data_frame()"
   ]
  },
  {
   "cell_type": "code",
   "execution_count": null,
   "id": "bb784609-0af8-4e03-b04f-582dfd2abd80",
   "metadata": {},
   "outputs": [],
   "source": [
    "experiment_df = aiplatform.get_experiment_df()\n",
    "experiment_df = experiment_df[experiment_df.experiment_name == EXPERIMENT_NAME]\n",
    "experiment_df.T"
   ]
  },
  {
   "cell_type": "markdown",
   "id": "c9f64047-cba2-4908-95b8-1f5260ff500d",
   "metadata": {},
   "source": [
    "## TensorBoard"
   ]
  },
  {
   "cell_type": "code",
   "execution_count": null,
   "id": "18bcfa33-8ca8-463d-afe0-64fc1b35b918",
   "metadata": {},
   "outputs": [],
   "source": [
    "TRAIN_LOG_DIR = os.path.join(LOG_DIR, 'train')\n",
    "EVAL_LOG_DIR = os.path.join(LOG_DIR, 'eval')\n",
    "\n",
    "print(f'TRAIN_LOG_DIR : {TRAIN_LOG_DIR}')\n",
    "print(f'EVAL_LOG_DIR  : {EVAL_LOG_DIR}')"
   ]
  },
  {
   "cell_type": "code",
   "execution_count": null,
   "id": "8fae2caa-9eac-4ca8-92a5-b0357ee81c98",
   "metadata": {},
   "outputs": [],
   "source": [
    "# %load_ext tensorboard\n",
    "%reload_ext tensorboard"
   ]
  },
  {
   "cell_type": "code",
   "execution_count": null,
   "id": "af7508e2-5a75-455a-864d-8564560b6b26",
   "metadata": {},
   "outputs": [],
   "source": [
    "%tensorboard --logdir=$TRAIN_LOG_DIR"
   ]
  },
  {
   "cell_type": "markdown",
   "id": "a1bc3adc-cbc3-4566-abf8-eb75334d3a47",
   "metadata": {},
   "source": [
    "# Inference\n",
    "\n",
    "> TODO: need to figure out saver first"
   ]
  },
  {
   "cell_type": "code",
   "execution_count": null,
   "id": "fe37a3ad-fea6-4a3f-9a99-04a3bc14f34f",
   "metadata": {},
   "outputs": [],
   "source": []
  },
  {
   "cell_type": "markdown",
   "id": "4361927a-388c-429c-a3cd-73ab72562558",
   "metadata": {},
   "source": [
    "**Finished**"
   ]
  }
 ],
 "metadata": {
  "environment": {
   "kernel": "conda-base-py",
   "name": "workbench-notebooks.m126",
   "type": "gcloud",
   "uri": "us-docker.pkg.dev/deeplearning-platform-release/gcr.io/workbench-notebooks:m126"
  },
  "kernelspec": {
   "display_name": "Python 3 (ipykernel) (Local)",
   "language": "python",
   "name": "conda-base-py"
  },
  "language_info": {
   "codemirror_mode": {
    "name": "ipython",
    "version": 3
   },
   "file_extension": ".py",
   "mimetype": "text/x-python",
   "name": "python",
   "nbconvert_exporter": "python",
   "pygments_lexer": "ipython3",
   "version": "3.10.15"
  }
 },
 "nbformat": 4,
 "nbformat_minor": 5
}
