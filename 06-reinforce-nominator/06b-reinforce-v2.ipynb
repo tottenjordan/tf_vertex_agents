{
 "cells": [
  {
   "cell_type": "markdown",
   "id": "2cd3a873-bb85-40a2-882b-56fb85d74985",
   "metadata": {},
   "source": [
    "# REINFORCE agent for Recommendations"
   ]
  },
  {
   "cell_type": "code",
   "execution_count": 1,
   "id": "f0a67cad-2c4a-47d2-942b-e5d9918316ff",
   "metadata": {
    "tags": []
   },
   "outputs": [
    {
     "name": "stdout",
     "output_type": "stream",
     "text": [
      "PREFIX: rec-bandits-v2\n"
     ]
    }
   ],
   "source": [
    "VERSION        = \"v2\"                       # TODO\n",
    "PREFIX         = f'rec-bandits-{VERSION}'   # TODO\n",
    "\n",
    "print(f\"PREFIX: {PREFIX}\")"
   ]
  },
  {
   "cell_type": "code",
   "execution_count": 2,
   "id": "d211d666-4aae-4a2b-a94f-c3a5c99ac226",
   "metadata": {
    "tags": []
   },
   "outputs": [
    {
     "name": "stdout",
     "output_type": "stream",
     "text": [
      "\n",
      "PROJECT_ID               = \"hybrid-vertex\"\n",
      "PROJECT_NUM              = \"934903580331\"\n",
      "LOCATION                 = \"us-central1\"\n",
      "\n",
      "REGION                   = \"us-central1\"\n",
      "BQ_LOCATION              = \"US\"\n",
      "VPC_NETWORK_NAME         = \"ucaip-haystack-vpc-network\"\n",
      "VERTEX_SA                = \"934903580331-compute@developer.gserviceaccount.com\"\n",
      "\n",
      "PREFIX                   = \"rec-bandits-v2\"\n",
      "VERSION                  = \"v2\"\n",
      "\n",
      "BUCKET_NAME              = \"rec-bandits-v2-hybrid-vertex-bucket\"\n",
      "BUCKET_URI               = \"gs://rec-bandits-v2-hybrid-vertex-bucket\"\n",
      "DATA_GCS_PREFIX          = \"data\"\n",
      "DATA_PATH                = \"gs://rec-bandits-v2-hybrid-vertex-bucket/data\"\n",
      "VOCAB_SUBDIR             = \"vocabs\"\n",
      "VOCAB_FILENAME           = \"vocab_dict.pkl\"\n",
      "\n",
      "VPC_NETWORK_FULL         = \"projects/934903580331/global/networks/ucaip-haystack-vpc-network\"\n",
      "\n",
      "BIGQUERY_DATASET_NAME    = \"mvlens_rec_bandits_v2\"\n",
      "BIGQUERY_TABLE_NAME      = \"training_dataset\"\n",
      "\n",
      "REPOSITORY               = \"rl-movielens-rec-bandits-v2\"\n",
      "\n",
      "DOCKERNAME_01            = \"Dockerfile_train_my_perarm_env\"\n",
      "IMAGE_NAME_01            = \"train-my-perarm-env-v2\"\n",
      "IMAGE_URI_01             = \"gcr.io/hybrid-vertex/train-my-perarm-env-v2\"\n",
      "\n",
      "DOCKERNAME_02            = \"Dockerfile_perarm_feats\"\n",
      "IMAGE_NAME_02            = \"train-perarm-feats-v2\"\n",
      "IMAGE_URI_02             = \"gcr.io/hybrid-vertex/train-perarm-feats-v2\"\n",
      "\n",
      "DOCKERNAME_03            = \"Dockerfile_ranking_bandit\"\n",
      "IMAGE_NAME_03            = \"train-rank-bandit-v2\"\n",
      "IMAGE_URI_03             = \"gcr.io/hybrid-vertex/train-rank-bandit-v2\"\n",
      "\n",
      "DOCKERNAME_04            = \"Dockerfile_train_bandit_e2e\"\n",
      "IMAGE_NAME_04            = \"train-mab-e2e-v2\"\n",
      "IMAGE_URI_04             = \"gcr.io/hybrid-vertex/train-mab-e2e-v2\"\n",
      "\n",
      "DOCKERNAME_04_pred       = \"Dockerfile_pred_bandit_e2e\"\n",
      "IMAGE_NAME_04_pred       = \"pred-mab-e2e-v2\"\n",
      "IMAGE_URI_04_pred        = \"gcr.io/hybrid-vertex/pred-mab-e2e-v2\"\n",
      "\n",
      "REMOTE_IMAGE_NAME        = \"us-central1-docker.pkg.dev/hybrid-vertex/rl-movielens-rec-bandits-v2/local_docker_tfa\"\n",
      "REPO_DOCKER_PATH_PREFIX  = \"src\"\n",
      "\n"
     ]
    }
   ],
   "source": [
    "# staging GCS\n",
    "GCP_PROJECTS             = !gcloud config get-value project\n",
    "PROJECT_ID               = GCP_PROJECTS[0]\n",
    "\n",
    "# GCS bucket and paths\n",
    "BUCKET_NAME              = f'{PREFIX}-{PROJECT_ID}-bucket'\n",
    "BUCKET_URI               = f'gs://{BUCKET_NAME}'\n",
    "\n",
    "config = !gsutil cat {BUCKET_URI}/config/notebook_env.py\n",
    "print(config.n)\n",
    "exec(config.n)"
   ]
  },
  {
   "cell_type": "markdown",
   "id": "8b8cf4a8-4564-46b7-8dc2-6b004804b62a",
   "metadata": {},
   "source": [
    "## imports"
   ]
  },
  {
   "cell_type": "code",
   "execution_count": 3,
   "id": "bb611af7-59b7-444c-9955-73359bb52764",
   "metadata": {
    "tags": []
   },
   "outputs": [],
   "source": [
    "import os\n",
    "os.environ['TF_CPP_MIN_LOG_LEVEL'] = '2'"
   ]
  },
  {
   "cell_type": "code",
   "execution_count": 4,
   "id": "e8899897-b685-417e-91f2-fcfa9f109cba",
   "metadata": {
    "tags": []
   },
   "outputs": [
    {
     "name": "stdout",
     "output_type": "stream",
     "text": [
      "cudnn version      : 8\n",
      "cuda version       : 11.8\n",
      "Num GPUs Available : 1\n"
     ]
    }
   ],
   "source": [
    "import time\n",
    "import functools\n",
    "import collections\n",
    "import pandas as pd\n",
    "import pickle as pkl\n",
    "from pprint import pprint\n",
    "from collections import defaultdict\n",
    "from datetime import datetime\n",
    "from typing import Callable, Dict, List, Optional, TypeVar\n",
    "\n",
    "# logging\n",
    "import logging\n",
    "logging.disable(logging.WARNING)\n",
    "\n",
    "import matplotlib.pyplot as plt\n",
    "import numpy as np\n",
    "\n",
    "# google cloud\n",
    "from google.cloud import aiplatform, storage\n",
    "\n",
    "# tensorflow\n",
    "import tensorflow as tf\n",
    "from tensorflow.python.platform import build_info\n",
    "\n",
    "# tf-agents\n",
    "from tf_agents.utils import common\n",
    "from tf_agents.specs import tensor_spec\n",
    "from tf_agents.eval import metric_utils\n",
    "from tf_agents.metrics import tf_metrics\n",
    "from tf_agents.networks import sequential\n",
    "from tf_agents.metrics import export_utils\n",
    "from tf_agents.policies import policy_saver\n",
    "from tf_agents.trajectories import trajectory\n",
    "from tf_agents.train.utils import strategy_utils\n",
    "from tf_agents.policies import py_tf_eager_policy\n",
    "from tf_agents.trajectories import time_step as ts\n",
    "\n",
    "from tf_agents.replay_buffers import tf_uniform_replay_buffer\n",
    "\n",
    "# GPU\n",
    "from numba import cuda \n",
    "import gc\n",
    "from tensorflow.python.platform import build_info\n",
    "print(f\"cudnn version      : {build_info.build_info['cudnn_version']}\")\n",
    "print(f\"cuda version       : {build_info.build_info['cuda_version']}\")\n",
    "print(f\"Num GPUs Available : {len(tf.config.list_physical_devices('GPU'))}\")\n",
    "\n",
    "# tf exceptions and vars\n",
    "if tf.__version__[0] != \"2\":\n",
    "    raise Exception(\"The trainer only runs with TensorFlow version 2.\")\n",
    "\n",
    "T = TypeVar(\"T\")\n",
    "\n",
    "# this repo\n",
    "import sys\n",
    "sys.path.append(\"..\")\n",
    "\n",
    "from src.utils import rfa_utils as rfa_utils\n",
    "from src.utils import train_utils as train_utils\n",
    "from src.data import data_utils as data_utils\n",
    "from src.data import data_config as data_config\n",
    "from src.networks import encoding_network as emb_features"
   ]
  },
  {
   "cell_type": "code",
   "execution_count": 6,
   "id": "b8972994-122c-45cc-8d2a-8af049d63ac8",
   "metadata": {
    "tags": []
   },
   "outputs": [
    {
     "data": {
      "text/plain": [
       "14"
      ]
     },
     "execution_count": 6,
     "metadata": {},
     "output_type": "execute_result"
    }
   ],
   "source": [
    "device = cuda.get_current_device()\n",
    "device.reset()\n",
    "gc.collect()"
   ]
  },
  {
   "cell_type": "code",
   "execution_count": 7,
   "id": "49cd2f04-e8dd-4fa9-bf51-4c789fa3c692",
   "metadata": {
    "tags": []
   },
   "outputs": [
    {
     "name": "stdout",
     "output_type": "stream",
     "text": [
      "device: Tesla T4\n"
     ]
    }
   ],
   "source": [
    "print(f\"device: {device.name.decode()}\")\n",
    "\n",
    "# cloud storage client\n",
    "storage_client = storage.Client(project=PROJECT_ID)\n",
    "\n",
    "# Vertex client\n",
    "aiplatform.init(project=PROJECT_ID, location=LOCATION)"
   ]
  },
  {
   "cell_type": "markdown",
   "id": "75586449-2060-4f19-ab34-7430d1ad4ba7",
   "metadata": {},
   "source": [
    "# Data utils"
   ]
  },
  {
   "cell_type": "code",
   "execution_count": 8,
   "id": "58b4ae26-dd0c-4297-8efa-e40bc52d8cb9",
   "metadata": {
    "tags": []
   },
   "outputs": [
    {
     "name": "stdout",
     "output_type": "stream",
     "text": [
      "MAX_CONTEXT_LENGTH: 10\n",
      "GCS_DATA_PATH: gs://rec-bandits-v2-hybrid-vertex-bucket/data/movielens/m1m\n"
     ]
    }
   ],
   "source": [
    "data_config.MAX_CONTEXT_LENGTH\n",
    "print(f\"MAX_CONTEXT_LENGTH: {data_config.MAX_CONTEXT_LENGTH}\")\n",
    "\n",
    "EXAMPLE_GEN_GCS_PATH = data_config.EXAMPLE_GEN_GCS_PATH\n",
    "GCS_DATA_PATH = f\"{BUCKET_URI}/{EXAMPLE_GEN_GCS_PATH}\"\n",
    "\n",
    "print(f\"GCS_DATA_PATH: {GCS_DATA_PATH}\")\n",
    "# !gsutil ls $GCS_DATA_PATH"
   ]
  },
  {
   "cell_type": "markdown",
   "id": "c7761500-f394-40b8-97b5-2c10179ce10e",
   "metadata": {},
   "source": [
    "## TF Example to Trajectory"
   ]
  },
  {
   "cell_type": "code",
   "execution_count": 9,
   "id": "6b4dbcc1-429e-4125-a741-e9e473521b65",
   "metadata": {
    "tags": []
   },
   "outputs": [],
   "source": [
    "def example_proto_to_trajectory(\n",
    "    example_proto, # sequence_feature,\n",
    "    sequence_length: int\n",
    "):\n",
    "    \"\"\"\n",
    "    Converts a sequence example to a Trajectory and weights for training.\n",
    "\n",
    "    For now, we are using the following simplified features. At every point in\n",
    "    time, the `context_movie_id` field in the sequence is the action and the `context_movie_id`\n",
    "    at the previous time step (last action) is the observation. The `context_movie_rating` field\n",
    "    is converted to a binary reward.\n",
    "\n",
    "    If the sequence example is longer than than `sequence_length`, we only take\n",
    "    the last part of the sequence example. If it is shorter, we pad it with dummy\n",
    "    values at the end to equal `sequence_length`.\n",
    "\n",
    "    Args:\n",
    "    sequence_feature: A serialized SequenceExample to convert to a\n",
    "      trajectory.\n",
    "    sequence_length: The time dimension of the returned trajectory.\n",
    "\n",
    "    Returns:\n",
    "    trajectory: An unbatched trajectory. The time dimension will be equal to\n",
    "      sequence length. The agent assumes that this trajectory is a single\n",
    "      episode, so `trajectory.step_type` and `trajectory.discount` are ignored.\n",
    "    weights: A [T] float tensor of weights. Each row of `weights`\n",
    "        (along the time dimension) is usually a sequence of 0's, followed by\n",
    "        a sequence of 1's, again followed by a sequence of 0's. This divides\n",
    "        the trajectory into 3 parts. The first part is used to warm start\n",
    "        the state embedding network. The second part is used to compute\n",
    "        losses. Returns are computed using the second and third parts.\n",
    "    \"\"\"\n",
    "    \n",
    "    feature_description = {\n",
    "        'context_movie_id': tf.io.FixedLenFeature(shape=(data_config.MAX_CONTEXT_LENGTH), dtype=tf.string),\n",
    "        'context_movie_rating': tf.io.FixedLenFeature(shape=(data_config.MAX_CONTEXT_LENGTH), dtype=tf.float32),\n",
    "    }\n",
    "    \n",
    "    sequence_feature = tf.io.parse_single_sequence_example(example_proto, feature_description)\n",
    "    \n",
    "    context_id_int = tf.strings.to_number(\n",
    "        sequence_feature[0]['context_movie_id'],\n",
    "        out_type=tf.dtypes.int64,\n",
    "        name=None\n",
    "    )\n",
    "    \n",
    "    sequence_feature[0]['context_movie_id'] = context_id_int\n",
    "    actions = sequence_feature[0]['context_movie_id'][-sequence_length:]\n",
    "    rewards = sequence_feature[0]['context_movie_rating'][-sequence_length:]\n",
    "    observations = sequence_feature[0]['context_movie_id'][-(sequence_length+1):-1]\n",
    "\n",
    "    # actual length\n",
    "    actual_sequence_length = tf.shape(observations)[0]\n",
    "    \n",
    "    actions = actions[-actual_sequence_length:]\n",
    "    rewards = rewards[-actual_sequence_length:]\n",
    "\n",
    "    # padding\n",
    "    paddings = tf.stack([0, sequence_length - actual_sequence_length])\n",
    "    paddings = tf.expand_dims(paddings, 0)\n",
    "\n",
    "    rewards = tf.pad(rewards, paddings, 'CONSTANT', constant_values=0)\n",
    "    actions = tf.pad(actions, paddings, 'CONSTANT', constant_values=0)\n",
    "    observations = tf.pad(observations, paddings, 'CONSTANT', constant_values=0)\n",
    "\n",
    "    # steps & discounts\n",
    "    discounts = tf.ones((sequence_length,), dtype=tf.float32)\n",
    "    next_step_types = tf.ones(\n",
    "      (sequence_length,), dtype=tf.int32) * ts.StepType.MID\n",
    "    step_types = tf.concat([[ts.StepType.FIRST], next_step_types[1:]], axis=0)\n",
    "\n",
    "    # build trajectory\n",
    "    traj = trajectory.Trajectory(\n",
    "        step_type=step_types,\n",
    "        observation=observations,\n",
    "        action=actions,\n",
    "        policy_info=(),\n",
    "        next_step_type=next_step_types,\n",
    "        reward=rewards,\n",
    "        discount=discounts\n",
    "    )\n",
    "\n",
    "    # get importance weights\n",
    "    section_size = tf.cast(actual_sequence_length / 3, tf.int32)\n",
    "    # print(f\"section_size: {section_size}\")\n",
    "    \n",
    "    weights = tf.concat(\n",
    "        [\n",
    "            tf.zeros((section_size,)),\n",
    "            tf.ones((section_size,)),\n",
    "            tf.zeros((sequence_length - 2 * section_size,))\n",
    "        ], \n",
    "        axis=0\n",
    "    )\n",
    "    \n",
    "    return traj, weights # sequence_feature"
   ]
  },
  {
   "cell_type": "markdown",
   "id": "cdcefdbe-e7dd-4e77-8ae7-ee0c92a3ea5d",
   "metadata": {},
   "source": [
    "## Create TF Record Dataset"
   ]
  },
  {
   "cell_type": "code",
   "execution_count": 10,
   "id": "8c601729-0a08-4832-b743-163611b64934",
   "metadata": {
    "tags": []
   },
   "outputs": [],
   "source": [
    "def create_single_tfrecord_ds(\n",
    "    filename,\n",
    "    process_example_fn,\n",
    "    shuffle_buffer_size = 1,\n",
    "):\n",
    "    raw_ds = tf.data.TFRecordDataset(filename)\n",
    "    \n",
    "    ds = raw_ds.map(\n",
    "        process_example_fn,\n",
    "        num_parallel_calls=tf.data.AUTOTUNE\n",
    "    )\n",
    "    ds = ds.shuffle(shuffle_buffer_size)\n",
    "    ds = ds.prefetch(tf.data.AUTOTUNE)\n",
    "    return ds"
   ]
  },
  {
   "cell_type": "code",
   "execution_count": 11,
   "id": "acabf6e4-0f2d-4b4c-ad98-863b22962f49",
   "metadata": {
    "tags": []
   },
   "outputs": [],
   "source": [
    "def create_tfrecord_ds(\n",
    "    filenames,\n",
    "    process_example_fn,\n",
    "    batch_size: int,\n",
    "    shuffle_buffer_size_per_record: int = 1,\n",
    "    shuffle_buffer_size: int = 10000,\n",
    "    num_shards: int = 50,\n",
    "    cycle_length: int = tf.data.AUTOTUNE,\n",
    "    block_length: int = 10,\n",
    "    num_prefetch: int = 10,\n",
    "    num_parallel_calls: int = 10,\n",
    "    repeat: bool = True,\n",
    "    drop_remainder: bool = False\n",
    "):\n",
    "    filenames = list(filenames)\n",
    "    initial_len = len(filenames)\n",
    "    remainder = initial_len % num_shards\n",
    "    \n",
    "    for _ in range(num_shards - remainder):\n",
    "        filenames.append(\n",
    "            filenames[np.random.randint(low=0, high=initial_len)]\n",
    "        )\n",
    "        \n",
    "    filenames = np.array(filenames)\n",
    "    np.random.shuffle(filenames)\n",
    "    filenames = np.array_split(filenames, num_shards)\n",
    "    filename_ds = tf.data.Dataset.from_tensor_slices(filenames)\n",
    "    \n",
    "    if repeat:\n",
    "        filename_ds = filename_ds.repeat()\n",
    "    \n",
    "    filename_ds = filename_ds.shuffle(len(filenames))\n",
    "    \n",
    "    example_ds = filename_ds.interleave(\n",
    "        functools.partial(\n",
    "            create_single_tfrecord_ds,\n",
    "            process_example_fn=process_example_fn,\n",
    "            shuffle_buffer_size=shuffle_buffer_size_per_record,\n",
    "        ),\n",
    "        cycle_length=tf.data.AUTOTUNE,\n",
    "        block_length=block_length,\n",
    "        num_parallel_calls=tf.data.AUTOTUNE,\n",
    "    )\n",
    "    example_ds = example_ds.shuffle(shuffle_buffer_size)\n",
    "    \n",
    "    example_ds = example_ds.batch(\n",
    "        batch_size, drop_remainder=drop_remainder\n",
    "    ).prefetch(num_prefetch)\n",
    "  \n",
    "    return example_ds"
   ]
  },
  {
   "cell_type": "markdown",
   "id": "21500739-1321-47ab-b168-d648773755ad",
   "metadata": {},
   "source": [
    "## Vocab"
   ]
  },
  {
   "cell_type": "code",
   "execution_count": 12,
   "id": "a87c02ee-3551-40aa-93dc-56a9db4d1d8b",
   "metadata": {
    "tags": []
   },
   "outputs": [
    {
     "name": "stdout",
     "output_type": "stream",
     "text": [
      "Downloading vocab...\n",
      "Downloaded vocab from: gs://rec-bandits-v2-hybrid-vertex-bucket/data/movielens/m1m/vocabs/vocab_dict.pkl\n",
      "\n"
     ]
    }
   ],
   "source": [
    "print(f\"Downloading vocab...\")\n",
    "EXISTING_VOCAB_FILE = f'gs://{BUCKET_NAME}/{EXAMPLE_GEN_GCS_PATH}/vocabs/{VOCAB_FILENAME}'\n",
    "os.system(f'gsutil -q cp {EXISTING_VOCAB_FILE} .')\n",
    "print(f\"Downloaded vocab from: {EXISTING_VOCAB_FILE}\\n\")\n",
    "\n",
    "filehandler = open(VOCAB_FILENAME, 'rb')\n",
    "vocab_dict = pkl.load(filehandler)\n",
    "filehandler.close()\n",
    "\n",
    "# for key in vocab_dict.keys():\n",
    "#     pprint(key)\n",
    "\n",
    "# vocab_dict['movie_id']\n",
    "vocab_dict_decoded = [z.decode(\"utf-8\") for z in vocab_dict['movie_id']]\n",
    "vocab_dict_decoded.remove(\"UNK\")\n",
    "vocab_dict_decoded = tf.strings.to_number(\n",
    "    vocab_dict_decoded,\n",
    "    out_type=tf.dtypes.int64,\n",
    "    name=None\n",
    ")\n",
    "vocab_dict_decoded = vocab_dict_decoded.numpy()\n",
    "\n",
    "# update vocab_dict\n",
    "vocab_dict['movie_id_int'] = vocab_dict_decoded"
   ]
  },
  {
   "cell_type": "markdown",
   "id": "69ef3114-ffc2-47ba-ae4c-29994fc42324",
   "metadata": {},
   "source": [
    "## Lookup layers"
   ]
  },
  {
   "cell_type": "code",
   "execution_count": 13,
   "id": "60fe8e15-877d-4995-9929-ff74255c2136",
   "metadata": {
    "tags": []
   },
   "outputs": [
    {
     "name": "stdout",
     "output_type": "stream",
     "text": [
      "action_vocab_size : 3884\n",
      "obs_vocab_size    : 3884\n"
     ]
    }
   ],
   "source": [
    "action_lookup_layer = tf.keras.layers.IntegerLookup(\n",
    "    vocabulary=vocab_dict['movie_id_int'], \n",
    "    mask_value=None\n",
    ")\n",
    "\n",
    "inverse_action_lookup_layer = tf.keras.layers.IntegerLookup(\n",
    "    vocabulary=action_lookup_layer.get_vocabulary(), \n",
    "    mask_value=None,\n",
    "    invert=True\n",
    ")\n",
    "\n",
    "action_vocab_size = action_lookup_layer.vocab_size() # 3885\n",
    "\n",
    "# if observations are just past actions:\n",
    "observation_lookup_layer = tf.keras.layers.IntegerLookup(\n",
    "    vocabulary=vocab_dict['movie_id_int'], \n",
    "    mask_value=None\n",
    ")\n",
    "\n",
    "obs_vocab_size = observation_lookup_layer.vocab_size()\n",
    "\n",
    "print(f\"action_vocab_size : {action_vocab_size}\")\n",
    "print(f\"obs_vocab_size    : {obs_vocab_size}\")"
   ]
  },
  {
   "cell_type": "markdown",
   "id": "68abee01-bfb5-49dd-a00c-8fa1a2337162",
   "metadata": {},
   "source": [
    "# Agent Config"
   ]
  },
  {
   "cell_type": "markdown",
   "id": "2ceb881c-9af1-4d57-abeb-df224d19f8a8",
   "metadata": {},
   "source": [
    "## TensorSpecs"
   ]
  },
  {
   "cell_type": "code",
   "execution_count": 14,
   "id": "785ba1e1-3bbe-46b3-8e3e-c404b8e52d08",
   "metadata": {
    "tags": []
   },
   "outputs": [],
   "source": [
    "global_step = tf.compat.v1.train.get_or_create_global_step()\n",
    "\n",
    "observation_spec = tensor_spec.BoundedTensorSpec(\n",
    "    shape=[],\n",
    "    dtype=tf.int64, # tf.string | tf.int64,\n",
    "    minimum=0,\n",
    "    maximum=action_vocab_size - 1,\n",
    "    name='observation'\n",
    ")\n",
    "time_step_spec = ts.time_step_spec(observation_spec=observation_spec)\n",
    "\n",
    "action_spec = tensor_spec.BoundedTensorSpec(\n",
    "    shape=[],\n",
    "    dtype=tf.int64, # tf.string | tf.int64,\n",
    "    minimum=0,\n",
    "    maximum=action_vocab_size - 1,\n",
    "    name='action'\n",
    ")"
   ]
  },
  {
   "cell_type": "markdown",
   "id": "7fc60779-91b7-4d54-8a81-236b5158b944",
   "metadata": {},
   "source": [
    "## Network"
   ]
  },
  {
   "cell_type": "code",
   "execution_count": 15,
   "id": "21b742d4-3eca-45f8-9333-1fdf4e0002e3",
   "metadata": {
    "tags": []
   },
   "outputs": [
    {
     "data": {
      "text/plain": [
       "BoundedTensorSpec(shape=(), dtype=tf.int64, name='observation', minimum=array(0), maximum=array(3883))"
      ]
     },
     "execution_count": 15,
     "metadata": {},
     "output_type": "execute_result"
    }
   ],
   "source": [
    "input_embedding_size=100\n",
    "input_fc_layer_params=(100, 100)\n",
    "lstm_size=(25,)\n",
    "output_fc_layer_params=(10,)\n",
    "\n",
    "state_embedding_network = rfa_utils.create_state_embedding_network(\n",
    "    observation_lookup_layer=observation_lookup_layer,\n",
    "    input_embedding_size=input_embedding_size,\n",
    "    input_fc_layer_units=input_fc_layer_params,\n",
    "    lstm_size=lstm_size,\n",
    "    output_fc_layer_units=output_fc_layer_params\n",
    ")\n",
    "\n",
    "time_step_spec.observation"
   ]
  },
  {
   "cell_type": "markdown",
   "id": "c6617eba-2f76-4d90-a8a5-1b4d5a9f0a41",
   "metadata": {},
   "source": [
    "## Agent"
   ]
  },
  {
   "cell_type": "code",
   "execution_count": 16,
   "id": "7e4ff23e-ac85-4bc0-a587-70f9cbd7bd53",
   "metadata": {
    "tags": []
   },
   "outputs": [],
   "source": [
    "sys.path.append(\"..\")\n",
    "from src.agents import topk_reinforce_agent as topk_reinforce_agent\n",
    "\n",
    "from src.trainer import offline_evaluation as offline_evaluation\n",
    "from src.trainer import offline_metrics as offline_metrics"
   ]
  },
  {
   "cell_type": "code",
   "execution_count": 17,
   "id": "0e832f8a-3f65-45b6-9bc7-3eeaf7052dfe",
   "metadata": {
    "tags": []
   },
   "outputs": [],
   "source": [
    "learning_rate = 1e-3\n",
    "optimizer = tf.keras.optimizers.Adam(learning_rate=learning_rate)\n",
    "\n",
    "# k actions recommended by policy\n",
    "policy_num_actions=5\n",
    "\n",
    "# number of actions with highest Q value\n",
    "num_greedy_actions=4\n",
    "\n",
    "scann_num_candidate_actions=None\n",
    "sampled_softmax_num_negatives=None\n",
    "use_supervised_loss_for_main_policy=False\n",
    "off_policy_correction_exponent=None # None | 16\n",
    "\n",
    "GAMMA=0.5 # 0.9 | 0.5\n",
    "SUMMARIZE_GRADS_AND_VARS=False\n",
    "DEBUG_SUMMARIES=False # TODO: error with summary stats\n",
    "\n",
    "distribution_strategy = strategy_utils.get_strategy(\n",
    "    tpu=False, use_gpu=True\n",
    ")"
   ]
  },
  {
   "cell_type": "code",
   "execution_count": 18,
   "id": "b78a3744-ffce-4d47-b174-46c2cd81d375",
   "metadata": {
    "tags": []
   },
   "outputs": [
    {
     "name": "stdout",
     "output_type": "stream",
     "text": [
      "global step: 0\n"
     ]
    }
   ],
   "source": [
    "global_step = tf.compat.v1.train.get_or_create_global_step()\n",
    "\n",
    "tf_agent = topk_reinforce_agent.TopKOffPolicyReinforceAgent(\n",
    "    time_step_spec=time_step_spec,\n",
    "    action_spec=action_spec,\n",
    "    state_embedding_network=state_embedding_network,\n",
    "    optimizer=optimizer,\n",
    "    off_policy_correction_exponent=off_policy_correction_exponent,\n",
    "    action_lookup_layer=action_lookup_layer,                  # action_lookup_layer | None\n",
    "    inverse_action_lookup_layer=inverse_action_lookup_layer,  # inverse_action_lookup_layer | None\n",
    "    policy_num_actions=policy_num_actions,\n",
    "    use_supervised_loss_for_main_policy=use_supervised_loss_for_main_policy,\n",
    "    num_candidate_actions=scann_num_candidate_actions,\n",
    "    num_greedy_actions=policy_num_actions,\n",
    "    sampled_softmax_num_negatives=sampled_softmax_num_negatives,\n",
    "    train_step_counter=global_step,\n",
    "    gamma=GAMMA,\n",
    "    summarize_grads_and_vars=SUMMARIZE_GRADS_AND_VARS,\n",
    "    debug_summaries=DEBUG_SUMMARIES,\n",
    "    name='TopKOffPolicyReinforceAgent'\n",
    ")\n",
    "\n",
    "tf_agent.initialize()\n",
    "\n",
    "print(f\"global step: {global_step.numpy()}\")"
   ]
  },
  {
   "cell_type": "code",
   "execution_count": 19,
   "id": "f43ccf8e-8eb5-48d9-816b-95996dc1500e",
   "metadata": {
    "tags": []
   },
   "outputs": [
    {
     "name": "stdout",
     "output_type": "stream",
     "text": [
      "Model: \"sequential\"\n",
      "_________________________________________________________________\n",
      " Layer (type)                Output Shape              Param #   \n",
      "=================================================================\n",
      " integer_lookup_2 (IntegerL  multiple                  0         \n",
      " ookup)                                                          \n",
      "                                                                 \n",
      " embedding (Embedding)       multiple                  388400    \n",
      "                                                                 \n",
      " dense (Dense)               multiple                  10100     \n",
      "                                                                 \n",
      " dense_1 (Dense)             multiple                  10100     \n",
      "                                                                 \n",
      " dynamic_unroll (DynamicUnr  multiple                  12600     \n",
      " oll)                                                            \n",
      "                                                                 \n",
      " dense_2 (Dense)             multiple                  260       \n",
      "                                                                 \n",
      "=================================================================\n",
      "Total params: 421460 (1.61 MB)\n",
      "Trainable params: 421460 (1.61 MB)\n",
      "Non-trainable params: 0 (0.00 Byte)\n",
      "_________________________________________________________________\n"
     ]
    }
   ],
   "source": [
    "state_embedding_network.summary()\n",
    "\n",
    "# embedding = 3884 (obs vocab size) * INPUT_EMBEDDING_SIZE"
   ]
  },
  {
   "cell_type": "code",
   "execution_count": 20,
   "id": "d7148025-b72a-4334-9d5c-8b62ff5b7f90",
   "metadata": {
    "tags": []
   },
   "outputs": [
    {
     "name": "stdout",
     "output_type": "stream",
     "text": [
      "num train_files : 8\n",
      "num val_files   : 3\n"
     ]
    }
   ],
   "source": [
    "def get_filenames(\n",
    "    bucket_name,\n",
    "    prefix,\n",
    "    split,\n",
    "):\n",
    "    file_list = []\n",
    "    for blob in storage_client.list_blobs(\n",
    "        f\"{bucket_name}\", \n",
    "        prefix=f'{prefix}/{split}'\n",
    "    ):\n",
    "        if '.tfrecord' in blob.name:\n",
    "            file_list.append(\n",
    "                blob.public_url.replace(\n",
    "                    \"https://storage.googleapis.com/\", \"gs://\"\n",
    "                )\n",
    "            )\n",
    "    \n",
    "    return file_list\n",
    "\n",
    "train_files = get_filenames(\n",
    "    bucket_name=BUCKET_NAME,\n",
    "    prefix=EXAMPLE_GEN_GCS_PATH,\n",
    "    split=\"train\",\n",
    ")\n",
    "val_files = get_filenames(\n",
    "    bucket_name=BUCKET_NAME,\n",
    "    prefix=EXAMPLE_GEN_GCS_PATH,\n",
    "    split=\"val\",\n",
    ")\n",
    "\n",
    "print(f'num train_files : {len(train_files)}')\n",
    "print(f'num val_files   : {len(val_files)}')"
   ]
  },
  {
   "cell_type": "code",
   "execution_count": 21,
   "id": "f3ad26d5-8711-4f80-8dbf-79f088e5008b",
   "metadata": {
    "tags": []
   },
   "outputs": [
    {
     "name": "stdout",
     "output_type": "stream",
     "text": [
      "eval data size: 50\n",
      "\n"
     ]
    }
   ],
   "source": [
    "sequence_length  = data_config.MAX_CONTEXT_LENGTH # 10\n",
    "\n",
    "train_batch_size = 64  # 64 | 5 | 128\n",
    "eval_batch_size  = 64  # 64 | 5 | 128\n",
    "num_eval_batches = 50  # 10 | 1200\n",
    "\n",
    "# tf_agent.train = common.function(tf_agent.train)\n",
    "# ====================================================\n",
    "# create datasets\n",
    "# ====================================================\n",
    "process_example_fn = functools.partial(\n",
    "    example_proto_to_trajectory,\n",
    "    sequence_length=sequence_length\n",
    ")\n",
    "\n",
    "train_dataset = create_tfrecord_ds(\n",
    "    tf.io.gfile.glob(train_files),\n",
    "    num_shards=len(train_files),\n",
    "    process_example_fn=process_example_fn,\n",
    "    batch_size=train_batch_size\n",
    ")\n",
    "train_dataset_iterator = iter(train_dataset)\n",
    "\n",
    "eval_dataset = create_tfrecord_ds(\n",
    "    tf.io.gfile.glob(val_files),\n",
    "    process_example_fn=process_example_fn,\n",
    "    batch_size=eval_batch_size,\n",
    "    num_shards=len(val_files),\n",
    "    repeat=False,\n",
    "    drop_remainder=True\n",
    ")\n",
    "\n",
    "if num_eval_batches is not None:\n",
    "    eval_dataset = eval_dataset.take(num_eval_batches)\n",
    "    \n",
    "print(f\"eval data size: {len(list(eval_dataset))}\\n\")"
   ]
  },
  {
   "cell_type": "markdown",
   "id": "7032de7d-cef1-40e7-9745-482aac122a1c",
   "metadata": {},
   "source": [
    "### Eval metrics"
   ]
  },
  {
   "cell_type": "code",
   "execution_count": 23,
   "id": "d7065764-5a33-46bf-8e2e-e96b1d36891d",
   "metadata": {
    "tags": []
   },
   "outputs": [
    {
     "data": {
      "text/plain": [
       "[<src.agents.offline_metrics.AccuracyAtK at 0x7eff3062b250>,\n",
       " <src.agents.offline_metrics.AveragePerClassAccuracyAtK at 0x7eff30629210>,\n",
       " <src.agents.offline_metrics.WeightedReturns at 0x7eff46027a90>,\n",
       " <src.agents.offline_metrics.WeightedReturns at 0x7eff46027520>,\n",
       " <src.agents.offline_metrics.AccuracyAtK at 0x7eff3062be80>,\n",
       " <src.agents.offline_metrics.AccuracyAtK at 0x7eff46027d00>,\n",
       " <src.agents.offline_metrics.AccuracyAtK at 0x7eff44385d20>]"
      ]
     },
     "execution_count": 23,
     "metadata": {},
     "output_type": "execute_result"
    }
   ],
   "source": [
    "evaluate = offline_evaluation.evaluate\n",
    "\n",
    "def non_oov_filter(trajectory):\n",
    "    \"\"\"Returns True for non OOV actions.\"\"\"\n",
    "    return action_lookup_layer(trajectory.action) != 0\n",
    "\n",
    "offline_eval_metrics = [\n",
    "    offline_metrics.AccuracyAtK(),\n",
    "    offline_metrics.AveragePerClassAccuracyAtK(\n",
    "        action_vocab_size, action_lookup=action_lookup_layer\n",
    "    ),\n",
    "    offline_metrics.WeightedReturns(\n",
    "        gamma=1.,\n",
    "        action_lookup=action_lookup_layer,\n",
    "        weight_by_probabilities=False,\n",
    "        name='WeightedReturnsLogProb_gamma_1'),\n",
    "    offline_metrics.WeightedReturns(\n",
    "        gamma=1.,\n",
    "        action_lookup=action_lookup_layer,\n",
    "        weight_by_probabilities=True,\n",
    "        name='WeightedReturnsProb_gamma_1'),\n",
    "    # offline_metrics.LastActionAccuracyAtK(),\n",
    "]\n",
    "\n",
    "for k in [1, 5, 10]: # policy_num_actions\n",
    "    offline_eval_metrics.append(\n",
    "        offline_metrics.AccuracyAtK(\n",
    "            trajectory_filter=non_oov_filter,\n",
    "            name='AccuracyAtK_' + str(k),\n",
    "            k=k\n",
    "        )\n",
    "    )\n",
    "#     offline_eval_metrics.append(\n",
    "#         offline_metrics.AveragePerClassAccuracyAtK(\n",
    "#             action_vocab_size,\n",
    "#             action_lookup=action_lookup_layer,\n",
    "#             trajectory_filter=non_oov_filter,\n",
    "#             name='AveragePerClassAccuracyAtK_' + str(k),\n",
    "#             k=k)\n",
    "#     )\n",
    "#     offline_eval_metrics.append(\n",
    "#         offline_metrics.LastActionAccuracyAtK(\n",
    "#             trajectory_filter=non_oov_filter,\n",
    "#             name='LastActionAccuracyAtK_' + str(k),\n",
    "#             k=k)\n",
    "#     )\n",
    "\n",
    "offline_eval_metrics"
   ]
  },
  {
   "cell_type": "markdown",
   "id": "1e37c1d2-47ae-4ac3-8625-e6af8b449200",
   "metadata": {},
   "source": [
    "## Vertex Experiments"
   ]
  },
  {
   "cell_type": "code",
   "execution_count": 24,
   "id": "6c434c30-2353-4d80-ab37-f7d251f7d22f",
   "metadata": {
    "tags": []
   },
   "outputs": [],
   "source": [
    "EXP_VERSION=\"v16\""
   ]
  },
  {
   "cell_type": "code",
   "execution_count": 25,
   "id": "27a66115-ae50-4b5e-8b38-5dad0272aba7",
   "metadata": {
    "tags": []
   },
   "outputs": [
    {
     "name": "stdout",
     "output_type": "stream",
     "text": [
      "EXPERIMENT_NAME : reinforce-local-v16\n",
      "RUN_NAME        : run-20241211-215732\n",
      "\n",
      "EXPERIMENT_DIR  : gs://rec-bandits-v2-hybrid-vertex-bucket/reinforce-local-v16\n",
      "CHECKPT_DIR     : gs://rec-bandits-v2-hybrid-vertex-bucket/reinforce-local-v16/chkpoint\n",
      "BASE_OUTPUT_DIR : gs://rec-bandits-v2-hybrid-vertex-bucket/reinforce-local-v16/run-20241211-215732\n",
      "LOG_DIR         : gs://rec-bandits-v2-hybrid-vertex-bucket/reinforce-local-v16/run-20241211-215732/logs\n",
      "ROOT_DIR        : gs://rec-bandits-v2-hybrid-vertex-bucket/reinforce-local-v16/run-20241211-215732/root\n",
      "ARTIFACTS_DIR   : gs://rec-bandits-v2-hybrid-vertex-bucket/reinforce-local-v16/run-20241211-215732/artifacts\n",
      "\n",
      "TRAIN_LOG_DIR   : gs://rec-bandits-v2-hybrid-vertex-bucket/reinforce-local-v16/run-20241211-215732/logs/train\n",
      "EVAL_LOG_DIR    : gs://rec-bandits-v2-hybrid-vertex-bucket/reinforce-local-v16/run-20241211-215732/logs/eval\n"
     ]
    }
   ],
   "source": [
    "EXPERIMENT_NAME   = f'reinforce-local-{EXP_VERSION}'\n",
    "\n",
    "# new experiment\n",
    "invoke_time       = time.strftime(\"%Y%m%d-%H%M%S\")\n",
    "RUN_NAME          = f'run-{invoke_time}'\n",
    "\n",
    "EXPERIMENT_DIR    = os.path.join(BUCKET_URI, EXPERIMENT_NAME)\n",
    "CHECKPT_DIR       = os.path.join(EXPERIMENT_DIR, \"chkpoint\")\n",
    "BASE_OUTPUT_DIR   = os.path.join(EXPERIMENT_DIR, RUN_NAME)\n",
    "LOG_DIR           = os.path.join(BASE_OUTPUT_DIR, \"logs\")\n",
    "ROOT_DIR          = os.path.join(BASE_OUTPUT_DIR, \"root\")\n",
    "ARTIFACTS_DIR     = os.path.join(BASE_OUTPUT_DIR, \"artifacts\")\n",
    "\n",
    "TRAIN_LOG_DIR     = os.path.join(LOG_DIR, 'train')\n",
    "EVAL_LOG_DIR      = os.path.join(LOG_DIR, 'eval')\n",
    "\n",
    "print(f\"EXPERIMENT_NAME : {EXPERIMENT_NAME}\")\n",
    "print(f\"RUN_NAME        : {RUN_NAME}\\n\")\n",
    "print(f\"EXPERIMENT_DIR  : {EXPERIMENT_DIR}\")\n",
    "print(f\"CHECKPT_DIR     : {CHECKPT_DIR}\")\n",
    "print(f\"BASE_OUTPUT_DIR : {BASE_OUTPUT_DIR}\")\n",
    "print(f\"LOG_DIR         : {LOG_DIR}\")\n",
    "print(f\"ROOT_DIR        : {ROOT_DIR}\")\n",
    "print(f\"ARTIFACTS_DIR   : {ARTIFACTS_DIR}\\n\")\n",
    "print(f\"TRAIN_LOG_DIR   : {TRAIN_LOG_DIR}\")\n",
    "print(f\"EVAL_LOG_DIR    : {EVAL_LOG_DIR}\")"
   ]
  },
  {
   "cell_type": "markdown",
   "id": "c628e73c-34c4-4b6e-b639-b6ebbcae8453",
   "metadata": {},
   "source": [
    "### Checkpointer and Policy Saver"
   ]
  },
  {
   "cell_type": "code",
   "execution_count": 27,
   "id": "14b5fee7-3c99-4cbb-9f39-99d51e5c3675",
   "metadata": {
    "tags": []
   },
   "outputs": [],
   "source": [
    "# check for existing checkpoint(s)...\n",
    "! gsutil ls $CHECKPT_DIR"
   ]
  },
  {
   "cell_type": "code",
   "execution_count": 26,
   "id": "615ffdec-e52d-403d-a217-5e711ca8dd55",
   "metadata": {
    "tags": []
   },
   "outputs": [
    {
     "name": "stdout",
     "output_type": "stream",
     "text": [
      "setting train_checkpointer: gs://rec-bandits-v2-hybrid-vertex-bucket/reinforce-local-v16/chkpoint\n",
      "Did not find a pre-existing checkpoint. Starting from scratch.\n",
      "setting policy_checkpointer: gs://rec-bandits-v2-hybrid-vertex-bucket/reinforce-local-v16/chkpoint/policy\n",
      "\n",
      "saver signatures:\n"
     ]
    },
    {
     "data": {
      "text/plain": [
       "{'action': <tensorflow.python.eager.polymorphic_function.polymorphic_function.Function at 0x7eff3057f7f0>,\n",
       " 'get_initial_state': <tensorflow.python.eager.polymorphic_function.polymorphic_function.Function at 0x7eff3057c370>,\n",
       " 'get_train_step': <tensorflow.python.eager.polymorphic_function.polymorphic_function.Function at 0x7eff3057e470>,\n",
       " 'get_metadata': <tensorflow.python.eager.polymorphic_function.polymorphic_function.Function at 0x7eff3057c2b0>}"
      ]
     },
     "execution_count": 26,
     "metadata": {},
     "output_type": "execute_result"
    }
   ],
   "source": [
    "# `step_metric` records the number of individual rounds of bandit interaction;\n",
    "# that is, (number of trajectories) * batch_size.\n",
    "# step_metric = tf_metrics.EnvironmentSteps()\n",
    "\n",
    "# ====================================================\n",
    "# get checkpoint manager\n",
    "# ====================================================\n",
    "print(f\"setting train_checkpointer: {CHECKPT_DIR}\")\n",
    "train_checkpointer = train_utils.restore_and_get_checkpoint_manager(\n",
    "    root_dir=CHECKPT_DIR, \n",
    "    agent=tf_agent, \n",
    "    metrics=offline_eval_metrics, \n",
    "    step_metric=global_step\n",
    ")\n",
    "POLICY_CHEKPT_DIR = os.path.join(CHECKPT_DIR, 'policy')\n",
    "print(f\"setting policy_checkpointer: {POLICY_CHEKPT_DIR}\")\n",
    "policy_checkpointer = common.Checkpointer(\n",
    "    ckpt_dir=POLICY_CHEKPT_DIR,\n",
    "    policy=tf_agent.policy,\n",
    "    global_step=global_step\n",
    ")\n",
    "# ====================================================\n",
    "# saver\n",
    "# ====================================================\n",
    "topk_policy = tf_agent.policy\n",
    "time_step_spec_with_time_dim = tf.nest.map_structure(\n",
    "    lambda spec: policy_saver.add_batch_dim(spec, [None]),\n",
    "    topk_policy.time_step_spec,\n",
    ")\n",
    "input_fn_and_spec = (\n",
    "    lambda x: x,\n",
    "    (time_step_spec_with_time_dim, topk_policy.policy_state_spec),\n",
    ")\n",
    "saver = policy_saver.PolicySaver(\n",
    "    policy = tf_agent.policy, \n",
    "    train_step=global_step,\n",
    "    input_fn_and_spec = input_fn_and_spec,\n",
    ")\n",
    "print(f\"\\nsaver signatures:\")\n",
    "saver.signatures"
   ]
  },
  {
   "cell_type": "markdown",
   "id": "6fbf3ac9-3e8b-40f1-8abc-8ddfeeaa964c",
   "metadata": {},
   "source": [
    "### summary writers"
   ]
  },
  {
   "cell_type": "code",
   "execution_count": 27,
   "id": "40dc3c6d-74ff-4be6-a6f5-ead40d5dbfa1",
   "metadata": {
    "tags": []
   },
   "outputs": [
    {
     "name": "stdout",
     "output_type": "stream",
     "text": [
      "agent.train_step_counter: 0\n",
      "global_step             : 0\n"
     ]
    }
   ],
   "source": [
    "print(f\"agent.train_step_counter: {tf_agent.train_step_counter.value().numpy()}\")\n",
    "print(f\"global_step             : {global_step.numpy()}\")\n",
    "\n",
    "# ====================================================\n",
    "# summary writers\n",
    "# ====================================================\n",
    "train_summary_writer = tf.compat.v2.summary.create_file_writer(\n",
    "    TRAIN_LOG_DIR, flush_millis=10 * 1000\n",
    ")\n",
    "train_summary_writer.set_as_default()\n",
    "\n",
    "eval_summary_writer = tf.compat.v2.summary.create_file_writer(\n",
    "    EVAL_LOG_DIR, flush_millis=10 * 1000\n",
    ")"
   ]
  },
  {
   "cell_type": "markdown",
   "id": "27971809-23a3-4e03-ae50-56a1dcbb370e",
   "metadata": {},
   "source": [
    "# Train Loop\n",
    "\n",
    "* `tf_agent.post_process_policy()` only used with ScaNN index. see [src code](https://github.com/tottenjordan/tf_vertex_agents/blob/main/src/agents/topk_reinforce_agent.py#L340)"
   ]
  },
  {
   "cell_type": "code",
   "execution_count": 28,
   "id": "d31d9878-6691-42ec-8b4a-e318e6c05de2",
   "metadata": {
    "tags": []
   },
   "outputs": [
    {
     "name": "stdout",
     "output_type": "stream",
     "text": [
      "NUM_ITERATIONS       : 20000\n",
      "EVAL_INTERVAL        : 10000\n",
      "LOG_INTERVAL         : 1000\n",
      "SUMMARY_INTERVAL     : 100\n",
      "USE_TF_FUNCTIONS     : True\n",
      "\n",
      "TRAIN_CHKPT_INTERVAL : 80000\n",
      "POLICY_CHKPT_INTERVAL: 80000\n"
     ]
    }
   ],
   "source": [
    "NUM_ITERATIONS   = 20_000\n",
    "\n",
    "EVAL_INTERVAL    = int(NUM_ITERATIONS/2)\n",
    "LOG_INTERVAL     = int(NUM_ITERATIONS/20)\n",
    "SUMMARY_INTERVAL = 100\n",
    "\n",
    "TRAIN_CHKPT_INTERVAL = int(NUM_ITERATIONS*4)\n",
    "POLICY_CHKPT_INTERVAL= int(NUM_ITERATIONS*4)\n",
    "\n",
    "USE_TF_FUNCTIONS = True\n",
    "\n",
    "print(f\"NUM_ITERATIONS       : {NUM_ITERATIONS}\")\n",
    "print(f\"EVAL_INTERVAL        : {EVAL_INTERVAL}\")\n",
    "print(f\"LOG_INTERVAL         : {LOG_INTERVAL}\")\n",
    "print(f\"SUMMARY_INTERVAL     : {SUMMARY_INTERVAL}\")\n",
    "print(f\"USE_TF_FUNCTIONS     : {USE_TF_FUNCTIONS}\\n\")\n",
    "print(f\"TRAIN_CHKPT_INTERVAL : {TRAIN_CHKPT_INTERVAL}\")\n",
    "print(f\"POLICY_CHKPT_INTERVAL: {POLICY_CHKPT_INTERVAL}\")"
   ]
  },
  {
   "cell_type": "code",
   "execution_count": 29,
   "id": "c090e2ca-f6d8-41d1-a2f5-35f7173b2906",
   "metadata": {
    "tags": []
   },
   "outputs": [
    {
     "name": "stdout",
     "output_type": "stream",
     "text": [
      "starting train loop...\n",
      "step = 1000: loss = 46.714630126953125\n",
      "step = 2000: loss = 46.480064392089844\n",
      "step = 3000: loss = 46.12771224975586\n",
      "step = 4000: loss = 42.37116241455078\n",
      "step = 5000: loss = 40.556949615478516\n",
      "step = 6000: loss = 40.574310302734375\n",
      "step = 7000: loss = 45.21169662475586\n",
      "step = 8000: loss = 37.84819030761719\n",
      "step = 9000: loss = 42.34241485595703\n",
      "step = 10000: loss = 41.61832809448242\n",
      "\n",
      "48.145 steps/sec\n",
      "\n",
      "Eval at step: 10000...\n",
      "AccuracyAtK  =  0.086666666\n",
      "AveragePerClassAccuracyAtK  =  0.03240545\n",
      "WeightedReturnsLogProb_gamma_1  =  -326.8962\n",
      "WeightedReturnsProb_gamma_1  =  0.27652916\n",
      "AccuracyAtK_1  =  0.018645834\n",
      "AccuracyAtK_5  =  0.086666666\n",
      "AccuracyAtK_10  =  0.086666666\n",
      "========================================\n",
      "\n",
      "step = 11000: loss = 41.8713493347168\n",
      "step = 12000: loss = 40.231956481933594\n",
      "step = 13000: loss = 42.69541931152344\n",
      "step = 14000: loss = 39.9033088684082\n",
      "step = 15000: loss = 40.51089859008789\n",
      "step = 16000: loss = 41.831642150878906\n",
      "step = 17000: loss = 42.61149597167969\n",
      "step = 18000: loss = 40.95901870727539\n",
      "step = 19000: loss = 36.308876037597656\n",
      "step = 20000: loss = 42.93049240112305\n",
      "\n",
      "24.045 steps/sec\n",
      "\n",
      "Eval at step: 20000...\n",
      "AccuracyAtK  =  0.09708333\n",
      "AveragePerClassAccuracyAtK  =  0.046075832\n",
      "WeightedReturnsLogProb_gamma_1  =  -309.0151\n",
      "WeightedReturnsProb_gamma_1  =  0.4016139\n",
      "AccuracyAtK_1  =  0.022083333\n",
      "AccuracyAtK_5  =  0.09708333\n",
      "AccuracyAtK_10  =  0.09708333\n",
      "========================================\n",
      "\n",
      "total runtime : 7\n",
      "saved train_checkpointer to: gs://rec-bandits-v2-hybrid-vertex-bucket/reinforce-local-v16/chkpoint\n",
      "saved policy_checkpointer to: gs://rec-bandits-v2-hybrid-vertex-bucket/reinforce-local-v16/chkpoint/policy\n",
      "saved trained policy to: gs://rec-bandits-v2-hybrid-vertex-bucket/reinforce-local-v16/run-20241211-215732/artifacts\n"
     ]
    }
   ],
   "source": [
    "if USE_TF_FUNCTIONS:\n",
    "    tf_agent.train = common.function(tf_agent.train)\n",
    "\n",
    "def train_step():\n",
    "    trajectory, weights = next(train_dataset_iterator)\n",
    "    return tf_agent.train(trajectory, weights).loss\n",
    "\n",
    "if USE_TF_FUNCTIONS:\n",
    "    train_step = common.function(train_step)\n",
    "\n",
    "# start the timer and training\n",
    "with tf.compat.v2.summary.record_if(\n",
    "    lambda: tf.math.equal(global_step % SUMMARY_INTERVAL, 0)\n",
    "):\n",
    "    print(f\"starting train loop...\")\n",
    "    list_o_loss=[]\n",
    "    time_acc = 0\n",
    "    timed_at_step = global_step.numpy()\n",
    "\n",
    "    start_train = time.time()\n",
    "    \n",
    "    for i in range(NUM_ITERATIONS):\n",
    "        train_loss = train_step()\n",
    "        list_o_loss.append(train_loss.numpy())\n",
    "        \n",
    "        if global_step.numpy() % LOG_INTERVAL == 0:\n",
    "            print(f'step = {global_step.numpy()}: loss = {train_loss.numpy()}')\n",
    "        \n",
    "        if global_step.numpy() % EVAL_INTERVAL == 0:\n",
    "            # steps/sec\n",
    "            time_acc += time.time() - start_train\n",
    "            steps_per_sec = (global_step.numpy() - timed_at_step) / time_acc\n",
    "            print(f\"\\n{round(steps_per_sec,3)} steps/sec\")\n",
    "            timed_at_step = global_step.numpy()\n",
    "            time_acc = 0\n",
    "            \n",
    "            print(f\"\\nEval at step: {global_step.numpy()}...\")\n",
    "            # tf_agent.post_process_policy()\n",
    "            evaluate(\n",
    "                tf_agent.policy,\n",
    "                eval_dataset,\n",
    "                offline_eval_metrics=offline_eval_metrics,\n",
    "                train_step=global_step,\n",
    "                summary_writer=eval_summary_writer,\n",
    "                summary_prefix='Metrics',\n",
    "            )\n",
    "            metric_utils.log_metrics(offline_eval_metrics)\n",
    "            for metric in offline_eval_metrics:\n",
    "                print(metric.name, ' = ', metric.result().numpy())\n",
    "            \n",
    "            print(\"=\"*40 + \"\\n\")\n",
    "        \n",
    "        if global_step.numpy() % TRAIN_CHKPT_INTERVAL == 0:\n",
    "            train_checkpointer.save(global_step)\n",
    "            print(f\"saved train_checkpointer step {global_step.numpy()} to {CHECKPT_DIR}\")\n",
    "            \n",
    "        if global_step.numpy() % POLICY_CHKPT_INTERVAL == 0:\n",
    "            # print(f\"post processing policy...\")\n",
    "            # tf_agent.post_process_policy()\n",
    "            policy_checkpointer.save(global_step)\n",
    "            print(f\"saved policy_checkpointer step {global_step.numpy()} to {POLICY_CHEKPT_DIR}\")\n",
    "            \n",
    "runtime_mins = int((time.time() - start_train) / 60)\n",
    "print(f\"total runtime : {runtime_mins}\")\n",
    "\n",
    "train_checkpointer.save(global_step)\n",
    "print(f\"saved train_checkpointer to: {CHECKPT_DIR}\")\n",
    "\n",
    "# print(f\"post processing policy...\")\n",
    "# tf_agent.post_process_policy()\n",
    "policy_checkpointer.save(global_step)\n",
    "print(f\"saved policy_checkpointer to: {POLICY_CHEKPT_DIR}\")\n",
    "\n",
    "saver.save(ARTIFACTS_DIR) # options=tf.saved_model.SaveOptions(save_debug_info=True)\n",
    "print(f\"saved trained policy to: {ARTIFACTS_DIR}\")"
   ]
  },
  {
   "cell_type": "code",
   "execution_count": 30,
   "id": "2e0c897c-f401-438a-a7e8-966fbefc9719",
   "metadata": {
    "tags": []
   },
   "outputs": [
    {
     "name": "stdout",
     "output_type": "stream",
     "text": [
      "gs://rec-bandits-v2-hybrid-vertex-bucket/reinforce-local-v16/run-20241211-215732/artifacts/\n",
      "gs://rec-bandits-v2-hybrid-vertex-bucket/reinforce-local-v16/run-20241211-215732/artifacts/fingerprint.pb\n",
      "gs://rec-bandits-v2-hybrid-vertex-bucket/reinforce-local-v16/run-20241211-215732/artifacts/policy_specs.pbtxt\n",
      "gs://rec-bandits-v2-hybrid-vertex-bucket/reinforce-local-v16/run-20241211-215732/artifacts/saved_model.pb\n",
      "gs://rec-bandits-v2-hybrid-vertex-bucket/reinforce-local-v16/run-20241211-215732/artifacts/assets/\n",
      "gs://rec-bandits-v2-hybrid-vertex-bucket/reinforce-local-v16/run-20241211-215732/artifacts/variables/\n"
     ]
    }
   ],
   "source": [
    "! gsutil ls $ARTIFACTS_DIR"
   ]
  },
  {
   "cell_type": "code",
   "execution_count": 31,
   "id": "f2a5c0df-52e0-4ae2-a61c-1cb1eb87a467",
   "metadata": {
    "tags": []
   },
   "outputs": [
    {
     "name": "stdout",
     "output_type": "stream",
     "text": [
      "gs://rec-bandits-v2-hybrid-vertex-bucket/reinforce-local-v16/chkpoint/\n",
      "gs://rec-bandits-v2-hybrid-vertex-bucket/reinforce-local-v16/chkpoint/checkpoint\n",
      "gs://rec-bandits-v2-hybrid-vertex-bucket/reinforce-local-v16/chkpoint/ckpt-20000.data-00000-of-00001\n",
      "gs://rec-bandits-v2-hybrid-vertex-bucket/reinforce-local-v16/chkpoint/ckpt-20000.index\n",
      "gs://rec-bandits-v2-hybrid-vertex-bucket/reinforce-local-v16/chkpoint/policy/\n"
     ]
    }
   ],
   "source": [
    "! gsutil ls $CHECKPT_DIR"
   ]
  },
  {
   "cell_type": "code",
   "execution_count": 32,
   "id": "687473d9-280b-46f3-8da3-da9534f342ab",
   "metadata": {
    "tags": []
   },
   "outputs": [
    {
     "name": "stdout",
     "output_type": "stream",
     "text": [
      "\n",
      "Offline eval metrics:\n",
      "AccuracyAtK  =  0.09708\n",
      "\n",
      "Offline eval metrics:\n",
      "AveragePerClassAccuracyAtK  =  0.04608\n",
      "\n",
      "Offline eval metrics:\n",
      "WeightedReturnsLogProb_gamma_1  =  -309.01511\n",
      "\n",
      "Offline eval metrics:\n",
      "WeightedReturnsProb_gamma_1  =  0.40161\n",
      "\n",
      "Offline eval metrics:\n",
      "AccuracyAtK_1  =  0.02208\n",
      "\n",
      "Offline eval metrics:\n",
      "AccuracyAtK_5  =  0.09708\n",
      "\n",
      "Offline eval metrics:\n",
      "AccuracyAtK_10  =  0.09708\n"
     ]
    }
   ],
   "source": [
    "for metric in offline_eval_metrics:\n",
    "    print(f\"\\nOffline eval metrics:\")\n",
    "    print(metric.name, ' = ', round(float(metric.result().numpy()), 5))"
   ]
  },
  {
   "cell_type": "code",
   "execution_count": 33,
   "id": "d334f8c8-2913-471a-bc89-9bc1ee8cca78",
   "metadata": {
    "tags": []
   },
   "outputs": [
    {
     "data": {
      "image/png": "[encoded data removed]",
      "text/plain": [
       "<Figure size 640x480 with 1 Axes>"
      ]
     },
     "metadata": {},
     "output_type": "display_data"
    }
   ],
   "source": [
    "import matplotlib.pyplot as plt\n",
    "\n",
    "plt.plot(list_o_loss)\n",
    "# plt.ylim([0, 10])\n",
    "plt.ylabel('loss')\n",
    "plt.show()"
   ]
  },
  {
   "cell_type": "markdown",
   "id": "810e340e-df91-49e7-af28-4a359986bb6c",
   "metadata": {},
   "source": [
    "## TensorBoard"
   ]
  },
  {
   "cell_type": "code",
   "execution_count": 34,
   "id": "b21ac355-4335-4b04-95d8-74fe9c517118",
   "metadata": {
    "tags": []
   },
   "outputs": [],
   "source": [
    "from tensorboard import notebook\n",
    "# notebook.list() # View open TensorBoard instances"
   ]
  },
  {
   "cell_type": "code",
   "execution_count": 35,
   "id": "f5804160-c516-4e93-81b6-a099f164e5aa",
   "metadata": {
    "tags": []
   },
   "outputs": [],
   "source": [
    "# %load_ext tensorboard\n",
    "%reload_ext tensorboard"
   ]
  },
  {
   "cell_type": "code",
   "execution_count": 37,
   "id": "afe901b0-fd41-4c3b-a1d4-3c3b2df97873",
   "metadata": {
    "tags": []
   },
   "outputs": [],
   "source": [
    "# %tensorboard --logdir=$TRAIN_LOG_DIR\n",
    "# %tensorboard --logdir=$EVAL_LOG_DIR\n",
    "# %tensorboard --logdir=$LOG_DIR"
   ]
  },
  {
   "cell_type": "markdown",
   "id": "db2019e4-2b6a-427b-bf14-1f9c679834d4",
   "metadata": {},
   "source": [
    "# Serve saved policy\n",
    "\n",
    "\n",
    "`input_fn_and_spec` is a tuple of (`input_fn`, `tensor_spec`)\n",
    "* When `input_fn_and_spec` is set, `tensor_spec` is the input for the action signature. \n",
    "* When `input_fn_and_spec == None`, the action signature takes as input `(time_step, policy_state)`."
   ]
  },
  {
   "cell_type": "markdown",
   "id": "9db848ff-9973-4cd3-8d38-8cabe7da1a98",
   "metadata": {},
   "source": [
    "**TODOs**\n",
    "* register functions: `saver.register_function('q_network', network, self._time_step_spec.observation)`\n",
    "* specify input signature for `tf.function`: `@tf.function(input_signature=[tf.TensorSpec([], tf.float32)])`\n",
    "* write eval datasets to BQ table? see docs re: [load BQ table from dataframe](https://cloud.google.com/bigquery/docs/samples/bigquery-load-table-dataframe)"
   ]
  },
  {
   "cell_type": "code",
   "execution_count": 38,
   "id": "1b62080d-e218-4e79-aa22-d8c7097cfa16",
   "metadata": {
    "tags": []
   },
   "outputs": [
    {
     "name": "stdout",
     "output_type": "stream",
     "text": [
      "gs://rec-bandits-v2-hybrid-vertex-bucket/reinforce-local-v16/run-20241211-215732/artifacts/\n",
      "gs://rec-bandits-v2-hybrid-vertex-bucket/reinforce-local-v16/run-20241211-215732/artifacts/fingerprint.pb\n",
      "gs://rec-bandits-v2-hybrid-vertex-bucket/reinforce-local-v16/run-20241211-215732/artifacts/policy_specs.pbtxt\n",
      "gs://rec-bandits-v2-hybrid-vertex-bucket/reinforce-local-v16/run-20241211-215732/artifacts/saved_model.pb\n",
      "gs://rec-bandits-v2-hybrid-vertex-bucket/reinforce-local-v16/run-20241211-215732/artifacts/assets/\n",
      "gs://rec-bandits-v2-hybrid-vertex-bucket/reinforce-local-v16/run-20241211-215732/artifacts/variables/\n"
     ]
    }
   ],
   "source": [
    "! gsutil ls $ARTIFACTS_DIR"
   ]
  },
  {
   "cell_type": "code",
   "execution_count": 39,
   "id": "72c30b1f-1db4-4093-b835-4850e847d8a3",
   "metadata": {
    "tags": []
   },
   "outputs": [],
   "source": [
    "# ! gsutil ls $POLICY_CHEKPT_DIR"
   ]
  },
  {
   "cell_type": "code",
   "execution_count": 40,
   "id": "ac536673-b48a-47d3-9867-3397ec83f0f4",
   "metadata": {
    "tags": []
   },
   "outputs": [
    {
     "data": {
      "text/plain": [
       "<tensorflow.python.saved_model.load.Loader._recreate_base_user_object.<locals>._UserObject at 0x7f008948e770>"
      ]
     },
     "execution_count": 40,
     "metadata": {},
     "output_type": "execute_result"
    }
   ],
   "source": [
    "import json\n",
    "import pandas as pd\n",
    "from typing import Dict, List, Any\n",
    "\n",
    "def get_slice_tensor_fn(i):\n",
    "    def slice_tensor(tensor):\n",
    "        return tensor[:, i, tf.newaxis]\n",
    "    return slice_tensor\n",
    "\n",
    "def _build_infer_dict(\n",
    "    observed_action: int,\n",
    "    pred_actions: List,\n",
    "    pred_probs: List,\n",
    "    sequence_id: int,\n",
    ") -> Dict[str, Any]:\n",
    "    \n",
    "    dict_entry = {\n",
    "        \"sequence_id\": sequence_id,\n",
    "        \"observed_action_id\": observed_action,\n",
    "        \"top_k_pred_actions\": pred_actions,\n",
    "        \"top_k_pred_probs\": pred_probs,\n",
    "    }\n",
    "    return dict_entry\n",
    "\n",
    "trained_policy = tf.compat.v2.saved_model.load(ARTIFACTS_DIR)\n",
    "trained_policy"
   ]
  },
  {
   "cell_type": "markdown",
   "id": "996104a1-ebc0-40b5-90f0-b7ad5b932000",
   "metadata": {},
   "source": [
    "### config bigquery"
   ]
  },
  {
   "cell_type": "code",
   "execution_count": 41,
   "id": "5818e66c-9d7e-4488-8d5e-bdacf854fba2",
   "metadata": {
    "tags": []
   },
   "outputs": [
    {
     "name": "stdout",
     "output_type": "stream",
     "text": [
      "Tables contained in hybrid-vertex.mvlens_rec_bandits_v2:\n",
      "infer_rfa_v15\n",
      "mv_b128_g12_a16\n",
      "mv_b128_g12_a16_v4\n",
      "mv_b128_g12_a16_v5\n",
      "mv_b128_g12_a16_v6\n",
      "mv_b128_g12_a16_v7\n",
      "mv_b256_g12_a16_v7\n",
      "mv_b256_g12_a16_v8\n",
      "mv_b256_g36_a48_v9\n",
      "training_dataset\n"
     ]
    }
   ],
   "source": [
    "from google.cloud import bigquery\n",
    "\n",
    "bqclient = bigquery.Client(project=PROJECT_ID)\n",
    "\n",
    "BIGQUERY_TMP_FILE   = \"tmp_infer_to_bq.json\"\n",
    "BQ_DATASET_ID       = f\"{PROJECT_ID}.{BIGQUERY_DATASET_NAME}\"\n",
    "BIGQUERY_TABLE_NAME = f\"infer_rfa_{EXP_VERSION}\"\n",
    "BQ_TABLE_REF        = f\"{PROJECT_ID}.{BIGQUERY_DATASET_NAME}.{BIGQUERY_TABLE_NAME}\"\n",
    "\n",
    "tables = bqclient.list_tables(BQ_DATASET_ID)\n",
    "print(f\"Tables contained in {BQ_DATASET_ID}:\")\n",
    "for table in tables:\n",
    "    print(f\"{table.table_id}\")\n",
    "    \n",
    "print(f\"\\nBQ_TABLE_REF {BQ_TABLE_REF}:\")"
   ]
  },
  {
   "cell_type": "code",
   "execution_count": 44,
   "id": "1eccd7dc-d2d3-421a-ac48-bb3c8572496d",
   "metadata": {
    "tags": []
   },
   "outputs": [],
   "source": [
    "! rm -rf $BIGQUERY_TMP_FILE"
   ]
  },
  {
   "cell_type": "markdown",
   "id": "ef9ac12f-c42b-4309-84dd-d97a5aabba20",
   "metadata": {},
   "source": [
    "### create infer dataset"
   ]
  },
  {
   "cell_type": "code",
   "execution_count": 43,
   "id": "831d0ee0-21b2-4346-a183-7e89da43d29d",
   "metadata": {
    "tags": []
   },
   "outputs": [
    {
     "name": "stdout",
     "output_type": "stream",
     "text": [
      "inference_dataset size: 198834\n",
      "\n"
     ]
    }
   ],
   "source": [
    "NUM_INFER_BATCHES = 50\n",
    "\n",
    "inference_dataset = create_tfrecord_ds(\n",
    "    tf.io.gfile.glob(val_files),\n",
    "    process_example_fn=process_example_fn,\n",
    "    batch_size=1,\n",
    "    num_shards=len(val_files),\n",
    "    repeat=False,\n",
    "    drop_remainder=True\n",
    ")\n",
    "\n",
    "if NUM_INFER_BATCHES is not None:\n",
    "    inference_dataset = inference_dataset.take(NUM_INFER_BATCHES)\n",
    "    \n",
    "print(f\"inference_dataset size: {len(list(inference_dataset))}\\n\")"
   ]
  },
  {
   "cell_type": "markdown",
   "id": "214465a5-9eda-4445-a909-f507422316ab",
   "metadata": {},
   "source": [
    "## Write to local file\n",
    "\n",
    "**TODOs**\n",
    "* fix formatting of `< input sequence, output prediction >` pairs\n",
    "* optimize this.. only utilizing ~7% of instance CPU :("
   ]
  },
  {
   "cell_type": "code",
   "execution_count": null,
   "id": "cb833e20-4619-4eca-9e88-a25708525e45",
   "metadata": {
    "tags": []
   },
   "outputs": [],
   "source": [
    "dict_list = []\n",
    "\n",
    "with open(BIGQUERY_TMP_FILE, \"w\") as f:\n",
    "    \n",
    "    for batch in inference_dataset:\n",
    "\n",
    "        infer_trajectory, _ = batch\n",
    "        policy_state = trained_policy.get_initial_state(batch_size=1)\n",
    "        for i in tf.range(infer_trajectory.step_type.shape[1]): # 10\n",
    "            slice_tensor = get_slice_tensor_fn(i)\n",
    "            step_type = slice_tensor(infer_trajectory.step_type)    \n",
    "            if step_type == ts.StepType.LAST:\n",
    "                break\n",
    "            observation = tf.nest.map_structure(slice_tensor, infer_trajectory.observation)\n",
    "            time_step = ts.TimeStep(\n",
    "                step_type=step_type,\n",
    "                observation=observation,\n",
    "                reward=tf.zeros_like(step_type, tf.float32),\n",
    "                discount=tf.ones_like(step_type, tf.float32))\n",
    "\n",
    "            action_step = trained_policy.action((time_step, policy_state))\n",
    "            policy_state = action_step.state\n",
    "\n",
    "            # Remove singleton batch dim.\n",
    "            observed_action = tf.squeeze(slice_tensor(infer_trajectory.action), axis=0)\n",
    "            predicted_action = tf.squeeze(action_step.action, axis=0)\n",
    "            logits = tf.squeeze(action_step.info, axis=0)\n",
    "\n",
    "            predicted_action_logits = tf.gather(\n",
    "                logits, action_lookup_layer(predicted_action)\n",
    "            )\n",
    "            predicted_action_log_probs = (\n",
    "                tf.math.exp(predicted_action_logits) /\n",
    "                tf.math.exp(tf.reduce_logsumexp(logits))\n",
    "            )\n",
    "            # action_prob_list = [round(prob, 4) for prob in predicted_action_log_probs.numpy()]\n",
    "            \n",
    "            infer_dict = _build_infer_dict(\n",
    "                sequence_id = str(i.numpy()),\n",
    "                observed_action = int(observed_action.numpy()[0]),\n",
    "                pred_actions = predicted_action.numpy().tolist(),\n",
    "                pred_probs = predicted_action_log_probs.numpy().tolist(),\n",
    "            )\n",
    "            # dict_list.append(test_dict)\n",
    "            f.write(json.dumps(infer_dict) + \"\\n\")"
   ]
  },
  {
   "cell_type": "code",
   "execution_count": 46,
   "id": "bba3f75e-4dd0-49a4-acee-8ea20bbf165c",
   "metadata": {
    "tags": []
   },
   "outputs": [
    {
     "data": {
      "text/plain": [
       "{'sequence_id': '9',\n",
       " 'observed_action_id': 0,\n",
       " 'top_k_pred_actions': [0, 3045, 33, 591, 1132],\n",
       " 'top_k_pred_probs': [0.05052383989095688,\n",
       "  0.0380273275077343,\n",
       "  0.03791634365916252,\n",
       "  0.03497983515262604,\n",
       "  0.028388403356075287]}"
      ]
     },
     "execution_count": 46,
     "metadata": {},
     "output_type": "execute_result"
    }
   ],
   "source": [
    "infer_dict"
   ]
  },
  {
   "cell_type": "markdown",
   "id": "b25a92c3-b597-4119-ad5c-08a7f605e0e2",
   "metadata": {},
   "source": [
    "## Load BigQuery table from file"
   ]
  },
  {
   "cell_type": "code",
   "execution_count": 48,
   "id": "3fd9fbfc-34f6-40f7-ade1-13cdd2aff8e2",
   "metadata": {
    "tags": []
   },
   "outputs": [
    {
     "data": {
      "text/plain": [
       "LoadJob<project=hybrid-vertex, location=US, id=bca78b29-19b0-4715-bdbb-f904d4e4554e>"
      ]
     },
     "execution_count": 48,
     "metadata": {},
     "output_type": "execute_result"
    }
   ],
   "source": [
    "job_config = bigquery.LoadJobConfig(\n",
    "    schema=[\n",
    "        bigquery.SchemaField(\"sequence_id\", \"INT64\"),\n",
    "        bigquery.SchemaField(\"observed_action_id\", \"INT64\"),\n",
    "        bigquery.SchemaField(\"top_k_pred_actions\", \"INT64\", mode=\"REPEATED\"),\n",
    "        bigquery.SchemaField(\"top_k_pred_probs\", \"FLOAT64\", mode=\"REPEATED\"),\n",
    "    ],\n",
    "    source_format=bigquery.SourceFormat.NEWLINE_DELIMITED_JSON,\n",
    ")\n",
    "\n",
    "with open(BIGQUERY_TMP_FILE, \"rb\") as source_file:\n",
    "    load_job = bqclient.load_table_from_file(\n",
    "        source_file, \n",
    "        BQ_TABLE_REF, \n",
    "        job_config=job_config\n",
    "    )\n",
    "\n",
    "load_job.result()  # Wait for the job to complete."
   ]
  },
  {
   "cell_type": "markdown",
   "id": "2bbb1a89-f94f-4704-89f3-d4ba0ae7de29",
   "metadata": {
    "tags": []
   },
   "source": [
    "### check BigQuery table"
   ]
  },
  {
   "cell_type": "code",
   "execution_count": 214,
   "id": "6a587cc4-e39a-4f0d-b73b-65b26daf3e63",
   "metadata": {
    "tags": []
   },
   "outputs": [
    {
     "data": {
      "text/html": [
       "<div>\n",
       "<style scoped>\n",
       "    .dataframe tbody tr th:only-of-type {\n",
       "        vertical-align: middle;\n",
       "    }\n",
       "\n",
       "    .dataframe tbody tr th {\n",
       "        vertical-align: top;\n",
       "    }\n",
       "\n",
       "    .dataframe thead th {\n",
       "        text-align: right;\n",
       "    }\n",
       "</style>\n",
       "<table border=\"1\" class=\"dataframe\">\n",
       "  <thead>\n",
       "    <tr style=\"text-align: right;\">\n",
       "      <th></th>\n",
       "      <th>sequence_id</th>\n",
       "      <th>observed_action_id</th>\n",
       "      <th>top_k_pred_actions</th>\n",
       "      <th>top_k_pred_probs</th>\n",
       "    </tr>\n",
       "  </thead>\n",
       "  <tbody>\n",
       "    <tr>\n",
       "      <th>0</th>\n",
       "      <td>0</td>\n",
       "      <td>1272</td>\n",
       "      <td>[1245, 1854, 1816, 344, 2326]</td>\n",
       "      <td>[0.014563368633389473, 0.012623777613043785, 0...</td>\n",
       "    </tr>\n",
       "    <tr>\n",
       "      <th>1</th>\n",
       "      <td>0</td>\n",
       "      <td>2044</td>\n",
       "      <td>[1908, 1917, 2884, 2310, 1907]</td>\n",
       "      <td>[0.005249397829174995, 0.00501882191747427, 0....</td>\n",
       "    </tr>\n",
       "    <tr>\n",
       "      <th>2</th>\n",
       "      <td>0</td>\n",
       "      <td>3633</td>\n",
       "      <td>[1178, 2502, 1220, 1196, 537]</td>\n",
       "      <td>[0.05298368260264397, 0.03260182589292526, 0.0...</td>\n",
       "    </tr>\n",
       "    <tr>\n",
       "      <th>3</th>\n",
       "      <td>0</td>\n",
       "      <td>2645</td>\n",
       "      <td>[1372, 1726, 148, 1245, 505]</td>\n",
       "      <td>[0.002528125885874033, 0.002159023191779852, 0...</td>\n",
       "    </tr>\n",
       "    <tr>\n",
       "      <th>4</th>\n",
       "      <td>0</td>\n",
       "      <td>2330</td>\n",
       "      <td>[1245, 174, 1287, 3292, 2220]</td>\n",
       "      <td>[0.009872911497950554, 0.007305745035409927, 0...</td>\n",
       "    </tr>\n",
       "  </tbody>\n",
       "</table>\n",
       "</div>"
      ],
      "text/plain": [
       "   sequence_id  observed_action_id              top_k_pred_actions  \\\n",
       "0            0                1272   [1245, 1854, 1816, 344, 2326]   \n",
       "1            0                2044  [1908, 1917, 2884, 2310, 1907]   \n",
       "2            0                3633   [1178, 2502, 1220, 1196, 537]   \n",
       "3            0                2645    [1372, 1726, 148, 1245, 505]   \n",
       "4            0                2330   [1245, 174, 1287, 3292, 2220]   \n",
       "\n",
       "                                    top_k_pred_probs  \n",
       "0  [0.014563368633389473, 0.012623777613043785, 0...  \n",
       "1  [0.005249397829174995, 0.00501882191747427, 0....  \n",
       "2  [0.05298368260264397, 0.03260182589292526, 0.0...  \n",
       "3  [0.002528125885874033, 0.002159023191779852, 0...  \n",
       "4  [0.009872911497950554, 0.007305745035409927, 0...  "
      ]
     },
     "execution_count": 214,
     "metadata": {},
     "output_type": "execute_result"
    }
   ],
   "source": [
    "query = f\"\"\"\n",
    "    SELECT * \n",
    "    FROM `{BQ_TABLE_REF}`\n",
    "    LIMIT 5\n",
    "\"\"\"\n",
    "bqclient.query(query).to_dataframe()"
   ]
  },
  {
   "cell_type": "markdown",
   "id": "3171238b-8c8d-4425-baad-b163bb5f28a1",
   "metadata": {},
   "source": [
    "### tmp - original agent eval works"
   ]
  },
  {
   "cell_type": "code",
   "execution_count": 44,
   "id": "d4153dfc-29af-43a1-9440-9362b10210a2",
   "metadata": {
    "tags": []
   },
   "outputs": [
    {
     "name": "stdout",
     "output_type": "stream",
     "text": [
      "AccuracyAtK  =  0.08798958\n",
      "AveragePerClassAccuracyAtK  =  0.033557743\n",
      "WeightedReturns_gamma_1  =  -311.1016\n"
     ]
    }
   ],
   "source": [
    "eval_metric_results = evaluate(\n",
    "    policy=tf_agent.policy,\n",
    "    dataset=eval_dataset,\n",
    "    offline_eval_metrics=offline_eval_metrics,\n",
    "    train_step=global_step,\n",
    "    summary_writer=eval_summary_writer,\n",
    "    summary_prefix='Metrics',\n",
    ")\n",
    "metric_utils.log_metrics(offline_eval_metrics)\n",
    "for metric in offline_eval_metrics:\n",
    "    print(f\"{metric.name} = {metric.result().numpy()}\")"
   ]
  },
  {
   "cell_type": "code",
   "execution_count": 45,
   "id": "d75f30b7-d3ee-4a9d-985d-990e812ab23a",
   "metadata": {
    "tags": []
   },
   "outputs": [
    {
     "data": {
      "text/plain": [
       "OrderedDict([('AccuracyAtK',\n",
       "              <tf.Tensor: shape=(), dtype=float32, numpy=0.08798958>),\n",
       "             ('AveragePerClassAccuracyAtK',\n",
       "              <tf.Tensor: shape=(), dtype=float32, numpy=0.033557743>),\n",
       "             ('WeightedReturns_gamma_1',\n",
       "              <tf.Tensor: shape=(), dtype=float32, numpy=-311.1016>)])"
      ]
     },
     "execution_count": 45,
     "metadata": {},
     "output_type": "execute_result"
    }
   ],
   "source": [
    "eval_metric_results"
   ]
  },
  {
   "cell_type": "markdown",
   "id": "471ee879-596b-469c-bee7-a6df54e9679b",
   "metadata": {
    "tags": []
   },
   "source": [
    "# Inference"
   ]
  },
  {
   "cell_type": "code",
   "execution_count": 38,
   "id": "7bcb7f1b-a868-4463-bda1-3318c2d18c63",
   "metadata": {
    "tags": []
   },
   "outputs": [
    {
     "data": {
      "text/plain": [
       "Trajectory(\n",
       "{'action': <tf.Tensor: shape=(1, 10), dtype=int64, numpy=array([[1575, 1189,  257, 1373, 1222, 1179,  293, 1959, 2255,    0]])>,\n",
       " 'discount': <tf.Tensor: shape=(1, 10), dtype=float32, numpy=array([[1., 1., 1., 1., 1., 1., 1., 1., 1., 1.]], dtype=float32)>,\n",
       " 'next_step_type': <tf.Tensor: shape=(1, 10), dtype=int32, numpy=array([[1, 1, 1, 1, 1, 1, 1, 1, 1, 1]], dtype=int32)>,\n",
       " 'observation': <tf.Tensor: shape=(1, 10), dtype=int64, numpy=array([[1178, 1575, 1189,  257, 1373, 1222, 1179,  293, 1959,    0]])>,\n",
       " 'policy_info': (),\n",
       " 'reward': <tf.Tensor: shape=(1, 10), dtype=float32, numpy=array([[4., 4., 5., 3., 4., 5., 4., 4., 4., 0.]], dtype=float32)>,\n",
       " 'step_type': <tf.Tensor: shape=(1, 10), dtype=int32, numpy=array([[0, 1, 1, 1, 1, 1, 1, 1, 1, 1]], dtype=int32)>})"
      ]
     },
     "execution_count": 38,
     "metadata": {},
     "output_type": "execute_result"
    }
   ],
   "source": [
    "inference_dataset = create_tfrecord_ds(\n",
    "    tf.io.gfile.glob(val_files),\n",
    "    process_example_fn=process_example_fn,\n",
    "    batch_size=1,\n",
    "    num_shards=len(val_files),\n",
    "    repeat=False,\n",
    "    drop_remainder=True\n",
    ")\n",
    "infer_batch = list(inference_dataset.take(1))[0]\n",
    "traj_infer, weights_infer = infer_batch\n",
    "\n",
    "traj_infer"
   ]
  },
  {
   "cell_type": "code",
   "execution_count": 39,
   "id": "f3ec5552-c7f6-48b3-9429-744c71f58251",
   "metadata": {
    "tags": []
   },
   "outputs": [
    {
     "data": {
      "text/plain": [
       "((ListWrapper([<tf.Tensor: shape=(1, 25), dtype=float32, numpy=\n",
       "  array([[0., 0., 0., 0., 0., 0., 0., 0., 0., 0., 0., 0., 0., 0., 0., 0.,\n",
       "          0., 0., 0., 0., 0., 0., 0., 0., 0.]], dtype=float32)>, <tf.Tensor: shape=(1, 25), dtype=float32, numpy=\n",
       "  array([[0., 0., 0., 0., 0., 0., 0., 0., 0., 0., 0., 0., 0., 0., 0., 0.,\n",
       "          0., 0., 0., 0., 0., 0., 0., 0., 0.]], dtype=float32)>]),),)"
      ]
     },
     "execution_count": 39,
     "metadata": {},
     "output_type": "execute_result"
    }
   ],
   "source": [
    "policy_state = tf_agent.policy.get_initial_state(traj_infer.step_type.shape[0])\n",
    "policy_state"
   ]
  },
  {
   "cell_type": "code",
   "execution_count": 52,
   "id": "b15530b0-a828-4e11-b48d-478064261328",
   "metadata": {
    "tags": []
   },
   "outputs": [
    {
     "data": {
      "text/plain": [
       "10"
      ]
     },
     "execution_count": 52,
     "metadata": {},
     "output_type": "execute_result"
    }
   ],
   "source": [
    "traj_infer.step_type.shape[1]"
   ]
  },
  {
   "cell_type": "code",
   "execution_count": 53,
   "id": "8b171322-ce3a-4b4d-b9a7-a00f054b1d31",
   "metadata": {
    "tags": []
   },
   "outputs": [],
   "source": [
    "predicted_actions = []\n",
    "predicted_info = []\n",
    "\n",
    "for i in tf.range(traj_infer.step_type.shape[1]):\n",
    "\n",
    "    observation = traj_infer.observation[:, i, tf.newaxis]\n",
    "    step_type = traj_infer.step_type[:, i, tf.newaxis]\n",
    "    time_step = ts.TimeStep(\n",
    "        step_type=step_type,\n",
    "        observation=observation,\n",
    "        reward=tf.zeros_like(step_type, tf.float32),\n",
    "        discount=tf.ones_like(step_type, tf.float32)\n",
    "    )\n",
    "\n",
    "    action_step = tf_agent.policy.action(time_step, policy_state)\n",
    "    policy_state = action_step.state\n",
    "    predicted_actions.append(action_step.action)\n",
    "    predicted_info.append(action_step.info)"
   ]
  },
  {
   "cell_type": "code",
   "execution_count": 54,
   "id": "66272dee-0d6f-41ee-a2f7-eac71b79349f",
   "metadata": {
    "tags": []
   },
   "outputs": [
    {
     "data": {
      "text/plain": [
       "[<tf.Tensor: shape=(1, 5), dtype=int64, numpy=array([[2286, 2327, 2693, 2643, 2890]])>,\n",
       " <tf.Tensor: shape=(1, 5), dtype=int64, numpy=array([[ 604,  293,  589, 1203, 1178]])>,\n",
       " <tf.Tensor: shape=(1, 5), dtype=int64, numpy=array([[ 740,  537, 1203, 1176, 1201]])>,\n",
       " <tf.Tensor: shape=(1, 5), dtype=int64, numpy=array([[ 604, 1203,  589,  293, 1575]])>,\n",
       " <tf.Tensor: shape=(1, 5), dtype=int64, numpy=array([[ 604, 1203, 1575,  589,  523]])>,\n",
       " <tf.Tensor: shape=(1, 5), dtype=int64, numpy=array([[ 604, 1575, 1203,  523, 1176]])>,\n",
       " <tf.Tensor: shape=(1, 5), dtype=int64, numpy=array([[ 604, 1575, 1203,  523,  293]])>,\n",
       " <tf.Tensor: shape=(1, 5), dtype=int64, numpy=array([[ 604, 1203, 1575, 1186,  896]])>,\n",
       " <tf.Tensor: shape=(1, 5), dtype=int64, numpy=array([[ 604,  293, 1203, 1073, 1227]])>,\n",
       " <tf.Tensor: shape=(1, 5), dtype=int64, numpy=array([[1239, 2327,    0, 3045,  604]])>]"
      ]
     },
     "execution_count": 54,
     "metadata": {},
     "output_type": "execute_result"
    }
   ],
   "source": [
    "predicted_actions"
   ]
  },
  {
   "cell_type": "code",
   "execution_count": 56,
   "id": "75f7e9ce-8192-4b06-b65a-fd9a08028bca",
   "metadata": {
    "tags": []
   },
   "outputs": [],
   "source": [
    "from tf_agents.trajectories import policy_step\n",
    "\n",
    "predicted_policy_steps = policy_step.PolicyStep(\n",
    "    action=tf.stack(predicted_actions, axis=1),\n",
    "    info=tf.stack(predicted_info, axis=1),\n",
    "    state=(),\n",
    ")\n",
    "# predicted_policy_steps"
   ]
  },
  {
   "cell_type": "code",
   "execution_count": 57,
   "id": "44b37554-7206-428e-80c4-49c5409e3cde",
   "metadata": {
    "tags": []
   },
   "outputs": [
    {
     "data": {
      "text/plain": [
       "((ListWrapper([<tf.Tensor: shape=(1, 25), dtype=float32, numpy=\n",
       "  array([[-0.9924962 , -0.43294802, -0.13293791, -0.98814684, -0.95580554,\n",
       "          -0.75280285, -0.3342112 ,  0.04315013, -0.22813249, -0.48958498,\n",
       "           0.36431283, -0.05004348,  0.269563  ,  0.80608946, -0.75890887,\n",
       "           0.88578224,  0.5588108 ,  0.9820511 , -0.9309011 ,  0.25365648,\n",
       "           0.15573905, -0.25155395, -0.6851974 ,  0.58167934, -0.9428432 ]],\n",
       "        dtype=float32)>, <tf.Tensor: shape=(1, 25), dtype=float32, numpy=\n",
       "  array([[-3.8534534 , -0.58873487, -0.13497807, -3.422552  , -1.930584  ,\n",
       "          -0.9811599 , -0.34769666,  0.0431806 , -0.23406102, -0.5355571 ,\n",
       "           0.38509816, -0.0511927 ,  0.27639252,  1.1330612 , -1.0014565 ,\n",
       "           1.402878  ,  0.6784168 ,  2.3521845 , -1.6693163 ,  0.26190168,\n",
       "           0.15705466, -0.2570712 , -0.8388488 ,  0.9551589 , -1.8594316 ]],\n",
       "        dtype=float32)>]),),)"
      ]
     },
     "execution_count": 57,
     "metadata": {},
     "output_type": "execute_result"
    }
   ],
   "source": [
    "action_step.state"
   ]
  },
  {
   "cell_type": "code",
   "execution_count": 58,
   "id": "0707b51a-5feb-4a77-b010-c1c34e284414",
   "metadata": {
    "tags": []
   },
   "outputs": [
    {
     "data": {
      "text/plain": [
       "<tf.Tensor: shape=(1, 10, 1), dtype=int64, numpy=\n",
       "array([[[1230],\n",
       "        [ 740],\n",
       "        [2937],\n",
       "        [1203],\n",
       "        [ 911],\n",
       "        [1284],\n",
       "        [ 907],\n",
       "        [  33],\n",
       "        [ 220],\n",
       "        [   0]]])>"
      ]
     },
     "execution_count": 58,
     "metadata": {},
     "output_type": "execute_result"
    }
   ],
   "source": [
    "observed_actions = tf.expand_dims(traj_infer.action, axis=2)\n",
    "observed_actions"
   ]
  },
  {
   "cell_type": "code",
   "execution_count": 59,
   "id": "5913da67-976c-4f93-8d2b-fa3970969cfa",
   "metadata": {
    "tags": []
   },
   "outputs": [
    {
     "data": {
      "text/plain": [
       "<tf.Tensor: shape=(1, 10, 5), dtype=int64, numpy=\n",
       "array([[[2286, 2327, 2693, 2643, 2890],\n",
       "        [ 604,  293,  589, 1203, 1178],\n",
       "        [ 740,  537, 1203, 1176, 1201],\n",
       "        [ 604, 1203,  589,  293, 1575],\n",
       "        [ 604, 1203, 1575,  589,  523],\n",
       "        [ 604, 1575, 1203,  523, 1176],\n",
       "        [ 604, 1575, 1203,  523,  293],\n",
       "        [ 604, 1203, 1575, 1186,  896],\n",
       "        [ 604,  293, 1203, 1073, 1227],\n",
       "        [1239, 2327,    0, 3045,  604]]])>"
      ]
     },
     "execution_count": 59,
     "metadata": {},
     "output_type": "execute_result"
    }
   ],
   "source": [
    "predicted_actions_stacked = tf.stack(predicted_actions, axis=1)\n",
    "predicted_actions_stacked"
   ]
  },
  {
   "cell_type": "code",
   "execution_count": 60,
   "id": "2af98342-9ad3-4864-9fd7-e7de5fede10c",
   "metadata": {
    "tags": []
   },
   "outputs": [
    {
     "data": {
      "text/plain": [
       "<tf.Tensor: shape=(1, 10), dtype=bool, numpy=\n",
       "array([[False, False, False,  True, False, False, False, False, False,\n",
       "         True]])>"
      ]
     },
     "execution_count": 60,
     "metadata": {},
     "output_type": "execute_result"
    }
   ],
   "source": [
    "correct_predictions = tf.reduce_any(\n",
    "    predicted_actions_stacked == observed_actions, axis=2\n",
    ")\n",
    "correct_predictions"
   ]
  },
  {
   "cell_type": "code",
   "execution_count": 61,
   "id": "f9f046cc-75b3-4316-b81a-f0951ca0cade",
   "metadata": {
    "tags": []
   },
   "outputs": [
    {
     "name": "stdout",
     "output_type": "stream",
     "text": [
      "Correct Predictions:\n",
      "tf.Tensor([[False False False  True False False False False False  True]], shape=(1, 10), dtype=bool)\n",
      "--------------------------------------------------------------------------------\n"
     ]
    }
   ],
   "source": [
    "print('Correct Predictions:')\n",
    "print(correct_predictions)\n",
    "print('-' * 80)"
   ]
  },
  {
   "cell_type": "code",
   "execution_count": 62,
   "id": "cf5169b8-7086-430b-9caa-aefca67ff7d5",
   "metadata": {
    "tags": []
   },
   "outputs": [
    {
     "name": "stdout",
     "output_type": "stream",
     "text": [
      "Observed Actions (vocab):\n",
      "tf.Tensor([[1231  741 2938 1204  912 1285  908   34  221    1]], shape=(1, 10), dtype=int64)\n"
     ]
    }
   ],
   "source": [
    "print('Observed Actions (vocab):')\n",
    "print(action_lookup_layer(traj_infer.action))"
   ]
  },
  {
   "cell_type": "code",
   "execution_count": 63,
   "id": "0cf39639-5aa7-4120-817a-2b4a411110df",
   "metadata": {
    "tags": []
   },
   "outputs": [
    {
     "name": "stdout",
     "output_type": "stream",
     "text": [
      "Predicted Actions (vocab):\n",
      "tf.Tensor(\n",
      "[[[2287 2328 2694 2644 2891]]\n",
      "\n",
      " [[ 605  294  590 1204 1179]]\n",
      "\n",
      " [[ 741  538 1204 1177 1202]]\n",
      "\n",
      " [[ 605 1204  590  294 1576]]\n",
      "\n",
      " [[ 605 1204 1576  590  524]]\n",
      "\n",
      " [[ 605 1576 1204  524 1177]]\n",
      "\n",
      " [[ 605 1576 1204  524  294]]\n",
      "\n",
      " [[ 605 1204 1576 1187  897]]\n",
      "\n",
      " [[ 605  294 1204 1074 1228]]\n",
      "\n",
      " [[1240 2328    1 3046  605]]], shape=(10, 1, 5), dtype=int64)\n",
      "--------------------------------------------------------------------------------\n"
     ]
    }
   ],
   "source": [
    "print('Predicted Actions (vocab):')\n",
    "print(action_lookup_layer(predicted_actions))\n",
    "print('-' * 80)"
   ]
  },
  {
   "cell_type": "code",
   "execution_count": null,
   "id": "7add3359-2591-4eb5-ae4f-ba2edf5efc50",
   "metadata": {},
   "outputs": [],
   "source": []
  }
 ],
 "metadata": {
  "environment": {
   "kernel": "conda-base-py",
   "name": "workbench-notebooks.m126",
   "type": "gcloud",
   "uri": "us-docker.pkg.dev/deeplearning-platform-release/gcr.io/workbench-notebooks:m126"
  },
  "kernelspec": {
   "display_name": "Python 3 (ipykernel) (Local)",
   "language": "python",
   "name": "conda-base-py"
  },
  "language_info": {
   "codemirror_mode": {
    "name": "ipython",
    "version": 3
   },
   "file_extension": ".py",
   "mimetype": "text/x-python",
   "name": "python",
   "nbconvert_exporter": "python",
   "pygments_lexer": "ipython3",
   "version": "3.10.15"
  }
 },
 "nbformat": 4,
 "nbformat_minor": 5
}
