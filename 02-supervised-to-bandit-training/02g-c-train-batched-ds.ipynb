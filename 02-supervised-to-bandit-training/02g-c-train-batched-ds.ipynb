{
 "cells": [
  {
   "cell_type": "markdown",
   "id": "5a0231ee-2a08-483b-bdc8-12f086c00d98",
   "metadata": {},
   "source": [
    "# Optimized dataset of logged interactions"
   ]
  },
  {
   "cell_type": "markdown",
   "id": "7cefc3b2-0ef4-4be1-b543-f6374442a651",
   "metadata": {},
   "source": [
    "When incrementally training a bandit agent, one approach is to implement on-policy learning, where the agent (i) makes predictions based on existing item reward estimates and uncertainty, and (ii) refines its policy by using only user’s (and system’s) feedback to its previous predictions.\n",
    "\n",
    "One approach is to trigger an update or retraining after some number of `<context, prediction, reward>` tuples have been logged, where the total number of these tuples makes up an incremental training data slice. \n",
    "\n",
    "To minimize bottlenecks in our training data input pipeline, we can preprocess the training examples, batch them, and store them in a TF Record (which allows for fast sequential reads)\n",
    "\n",
    "<img src=\"imgs/online_learning_ra.png\" \n",
    "     align=\"center\" \n",
    "     width=\"850\"\n",
    "     height=\"850\"/>"
   ]
  },
  {
   "cell_type": "markdown",
   "id": "1ed859f3-29f8-44bb-a512-ed44a82a6c0b",
   "metadata": {},
   "source": [
    "### Notebook config"
   ]
  },
  {
   "cell_type": "code",
   "execution_count": 2,
   "id": "bdd95346-bca8-4f18-a63d-71757161d6a4",
   "metadata": {},
   "outputs": [
    {
     "name": "stdout",
     "output_type": "stream",
     "text": [
      "PREFIX: rec-bandits-v2\n"
     ]
    }
   ],
   "source": [
    "VERSION        = \"v2\"                       # TODO\n",
    "PREFIX         = f'rec-bandits-{VERSION}'   # TODO\n",
    "\n",
    "print(f\"PREFIX: {PREFIX}\")"
   ]
  },
  {
   "cell_type": "code",
   "execution_count": 3,
   "id": "8f04a33b-4e8d-43d8-ab66-21d7b826b60f",
   "metadata": {},
   "outputs": [
    {
     "name": "stdout",
     "output_type": "stream",
     "text": [
      "\n",
      "PROJECT_ID               = \"hybrid-vertex\"\n",
      "PROJECT_NUM              = \"934903580331\"\n",
      "LOCATION                 = \"us-central1\"\n",
      "\n",
      "REGION                   = \"us-central1\"\n",
      "BQ_LOCATION              = \"US\"\n",
      "VPC_NETWORK_NAME         = \"ucaip-haystack-vpc-network\"\n",
      "VERTEX_SA                = \"934903580331-compute@developer.gserviceaccount.com\"\n",
      "\n",
      "PREFIX                   = \"rec-bandits-v2\"\n",
      "VERSION                  = \"v2\"\n",
      "\n",
      "BUCKET_NAME              = \"rec-bandits-v2-hybrid-vertex-bucket\"\n",
      "BUCKET_URI               = \"gs://rec-bandits-v2-hybrid-vertex-bucket\"\n",
      "DATA_GCS_PREFIX          = \"data\"\n",
      "DATA_PATH                = \"gs://rec-bandits-v2-hybrid-vertex-bucket/data\"\n",
      "VOCAB_SUBDIR             = \"vocabs\"\n",
      "VOCAB_FILENAME           = \"vocab_dict.pkl\"\n",
      "\n",
      "VPC_NETWORK_FULL         = \"projects/934903580331/global/networks/ucaip-haystack-vpc-network\"\n",
      "\n",
      "BIGQUERY_DATASET_NAME    = \"mvlens_rec_bandits_v2\"\n",
      "BIGQUERY_TABLE_NAME      = \"training_dataset\"\n",
      "\n",
      "REPOSITORY               = \"rl-movielens-rec-bandits-v2\"\n",
      "\n",
      "DOCKERNAME_01            = \"Dockerfile_train_my_perarm_env\"\n",
      "IMAGE_NAME_01            = \"train-my-perarm-env-v2\"\n",
      "IMAGE_URI_01             = \"gcr.io/hybrid-vertex/train-my-perarm-env-v2\"\n",
      "\n",
      "DOCKERNAME_02            = \"Dockerfile_perarm_feats\"\n",
      "IMAGE_NAME_02            = \"train-perarm-feats-v2\"\n",
      "IMAGE_URI_02             = \"gcr.io/hybrid-vertex/train-perarm-feats-v2\"\n",
      "\n",
      "DOCKERNAME_03            = \"Dockerfile_ranking_bandit\"\n",
      "IMAGE_NAME_03            = \"train-rank-bandit-v2\"\n",
      "IMAGE_URI_03             = \"gcr.io/hybrid-vertex/train-rank-bandit-v2\"\n",
      "\n",
      "DOCKERNAME_04            = \"Dockerfile_train_bandit_e2e\"\n",
      "IMAGE_NAME_04            = \"train-mab-e2e-v2\"\n",
      "IMAGE_URI_04             = \"gcr.io/hybrid-vertex/train-mab-e2e-v2\"\n",
      "\n",
      "DOCKERNAME_04_pred       = \"Dockerfile_pred_bandit_e2e\"\n",
      "IMAGE_NAME_04_pred       = \"pred-mab-e2e-v2\"\n",
      "IMAGE_URI_04_pred        = \"gcr.io/hybrid-vertex/pred-mab-e2e-v2\"\n",
      "\n",
      "REMOTE_IMAGE_NAME        = \"us-central1-docker.pkg.dev/hybrid-vertex/rl-movielens-rec-bandits-v2/local_docker_tfa\"\n",
      "REPO_DOCKER_PATH_PREFIX  = \"src\"\n",
      "\n"
     ]
    }
   ],
   "source": [
    "# staging GCS\n",
    "GCP_PROJECTS             = !gcloud config get-value project\n",
    "PROJECT_ID               = GCP_PROJECTS[0]\n",
    "\n",
    "# GCS bucket and paths\n",
    "BUCKET_NAME              = f'{PREFIX}-{PROJECT_ID}-bucket'\n",
    "BUCKET_URI               = f'gs://{BUCKET_NAME}'\n",
    "\n",
    "config = !gsutil cat {BUCKET_URI}/config/notebook_env.py\n",
    "print(config.n)\n",
    "exec(config.n)"
   ]
  },
  {
   "cell_type": "markdown",
   "id": "372bb444-21aa-4199-903a-19b69b050e17",
   "metadata": {},
   "source": [
    "### imports"
   ]
  },
  {
   "cell_type": "code",
   "execution_count": 4,
   "id": "7b775305-5bab-4078-86a1-143e52245543",
   "metadata": {},
   "outputs": [],
   "source": [
    "import os\n",
    "os.environ['TF_CPP_MIN_LOG_LEVEL'] = '2'"
   ]
  },
  {
   "cell_type": "code",
   "execution_count": 5,
   "id": "b3ecc77a-455e-4cea-ae01-a747dd4eb2cc",
   "metadata": {},
   "outputs": [
    {
     "name": "stdout",
     "output_type": "stream",
     "text": [
      "Num GPUs Available:  1\n"
     ]
    }
   ],
   "source": [
    "import sys\n",
    "import json\n",
    "import time\n",
    "import functools\n",
    "import collections\n",
    "import pickle as pkl\n",
    "from pprint import pprint\n",
    "from typing import Callable, Dict, List, Optional, TypeVar, Any\n",
    "\n",
    "# logging\n",
    "import logging\n",
    "logging.disable(logging.WARNING)\n",
    "\n",
    "import warnings\n",
    "warnings.filterwarnings('ignore')\n",
    "\n",
    "import matplotlib.pyplot as plt\n",
    "import numpy as np\n",
    "\n",
    "# google cloud\n",
    "from google.cloud import aiplatform, storage, bigquery\n",
    "\n",
    "# tensorflow\n",
    "import tensorflow as tf\n",
    "\n",
    "# tf exceptions and vars\n",
    "if tf.__version__[0] != \"2\":\n",
    "    raise Exception(\"The trainer only runs with TensorFlow version 2.\")\n",
    "\n",
    "T = TypeVar(\"T\")\n",
    "\n",
    "from tf_agents.specs import tensor_spec\n",
    "from tf_agents.trajectories import time_step as ts\n",
    "from tf_agents.bandits.policies import policy_utilities\n",
    "from tf_agents.bandits.specs import utils as bandit_spec_utils\n",
    "from tf_agents.metrics import tf_metrics\n",
    "from tf_agents.bandits.metrics import tf_metrics as tf_bandit_metrics\n",
    "from tf_agents.trajectories import trajectory\n",
    "from tf_agents import trajectories\n",
    "\n",
    "from tf_agents.policies import py_tf_eager_policy\n",
    "from tf_agents.trajectories import time_step as ts\n",
    "from tf_agents.policies import policy_saver\n",
    "from tf_agents.metrics import export_utils\n",
    "from tf_agents.eval import metric_utils\n",
    "from tf_agents.utils import common\n",
    "\n",
    "# this repo\n",
    "sys.path.append(\"..\")\n",
    "from src.utils import train_utils\n",
    "from src.data import data_utils, data_config\n",
    "from src.trainer import train_batched_ds\n",
    "from src.data_preprocessor import preprocess_utils\n",
    "\n",
    "# Vertex client\n",
    "aiplatform.init(project=PROJECT_ID, location=LOCATION)\n",
    "# cloud storage client\n",
    "storage_client = storage.Client(project=PROJECT_ID)\n",
    "\n",
    "# GPU\n",
    "from numba import cuda \n",
    "import gc\n",
    "\n",
    "print(\"Num GPUs Available: \", len(tf.config.list_physical_devices('GPU')))"
   ]
  },
  {
   "cell_type": "code",
   "execution_count": 9,
   "id": "2f6b3aee-5fc9-411f-adf8-287c2dcfa283",
   "metadata": {},
   "outputs": [
    {
     "data": {
      "text/plain": [
       "14"
      ]
     },
     "execution_count": 9,
     "metadata": {},
     "output_type": "execute_result"
    }
   ],
   "source": [
    "device = cuda.get_current_device()\n",
    "device.reset()\n",
    "gc.collect()"
   ]
  },
  {
   "cell_type": "markdown",
   "id": "51fb12bc-cf71-41e1-8d6b-a74191997d5b",
   "metadata": {},
   "source": [
    "## Data prep"
   ]
  },
  {
   "cell_type": "markdown",
   "id": "8cdc9eda-931d-4206-89bf-ee913f85515d",
   "metadata": {},
   "source": [
    "### get data path"
   ]
  },
  {
   "cell_type": "code",
   "execution_count": 10,
   "id": "0879387a-2d75-4398-8bef-91652fe54e62",
   "metadata": {},
   "outputs": [
    {
     "name": "stdout",
     "output_type": "stream",
     "text": [
      "GCS_DATA_PATH: gs://rec-bandits-v2-hybrid-vertex-bucket/data/movielens/m1m\n",
      "gs://rec-bandits-v2-hybrid-vertex-bucket/data/movielens/m1m/mv_b128_g12_a16/\n",
      "gs://rec-bandits-v2-hybrid-vertex-bucket/data/movielens/m1m/mv_b128_g12_a16_v4/\n",
      "gs://rec-bandits-v2-hybrid-vertex-bucket/data/movielens/m1m/mv_b128_g12_a16_v5/\n",
      "gs://rec-bandits-v2-hybrid-vertex-bucket/data/movielens/m1m/mv_b128_g12_a16_v6/\n",
      "gs://rec-bandits-v2-hybrid-vertex-bucket/data/movielens/m1m/train/\n",
      "gs://rec-bandits-v2-hybrid-vertex-bucket/data/movielens/m1m/val/\n",
      "gs://rec-bandits-v2-hybrid-vertex-bucket/data/movielens/m1m/vocabs/\n"
     ]
    }
   ],
   "source": [
    "EXAMPLE_GEN_GCS_PATH = data_config.EXAMPLE_GEN_GCS_PATH\n",
    "GCS_DATA_PATH = f\"{BUCKET_URI}/{EXAMPLE_GEN_GCS_PATH}\"\n",
    "\n",
    "print(f\"GCS_DATA_PATH: {GCS_DATA_PATH}\")\n",
    "\n",
    "!gsutil ls $GCS_DATA_PATH"
   ]
  },
  {
   "cell_type": "code",
   "execution_count": 11,
   "id": "ea53b146-8806-4776-8a3c-761e71e7d114",
   "metadata": {},
   "outputs": [
    {
     "name": "stdout",
     "output_type": "stream",
     "text": [
      "gs://rec-bandits-v2-hybrid-vertex-bucket/data/movielens/m1m/mv_b128_g12_a16_v6/mv_b128_g12_a16_v6.tfrecord\n",
      "gs://rec-bandits-v2-hybrid-vertex-bucket/data/movielens/m1m/mv_b128_g12_a16_v6/tmp_bq.json\n"
     ]
    }
   ],
   "source": [
    "TFRECORD_NAME = \"mv_b128_g12_a16_v6\"\n",
    "TFR_DATA_PATH = f\"{BUCKET_URI}/{EXAMPLE_GEN_GCS_PATH}/{TFRECORD_NAME}\"\n",
    "!gsutil ls $TFR_DATA_PATH"
   ]
  },
  {
   "cell_type": "markdown",
   "id": "63374ead-4078-4e14-883c-899c81f3f4c8",
   "metadata": {},
   "source": [
    "**The file name tells us the `batch_size`, `global_dim`, and `per_arm_dim` used to create dataset**\n",
    "\n",
    "> `f\"mv_b{batch_size}_g{global_emb_size}_a{mv_emb_size}_{pipeline_version}\"`\n",
    "\n",
    "where `mv_b128_g12_a16_v6`\n",
    "* `batch_size`     : 128\n",
    "* `global_emb_size`: 12\n",
    "* `mv_emb_size`    : 16"
   ]
  },
  {
   "cell_type": "code",
   "execution_count": 12,
   "id": "cddece12-6639-4f73-a21b-f99bef5104db",
   "metadata": {},
   "outputs": [
    {
     "name": "stdout",
     "output_type": "stream",
     "text": [
      "TF Record : gs://rec-bandits-v2-hybrid-vertex-bucket/data/movielens/m1m/mv_b128_g12_a16_v6/mv_b128_g12_a16_v6.tfrecord\n",
      "GLOBAL_DIM : 72\n",
      "PER_ARM_DIM : 64\n"
     ]
    }
   ],
   "source": [
    "TFRECORD_FILE = (\n",
    "    f\"{BUCKET_URI}/{EXAMPLE_GEN_GCS_PATH}/{TFRECORD_NAME}/{TFRECORD_NAME}.tfrecord\"\n",
    ")\n",
    "\n",
    "GLOBAL_EMBEDDING_SIZE = 12\n",
    "MV_EMBEDDING_SIZE = 16\n",
    "\n",
    "# sanity check\n",
    "N_GLOBAL_FEATURES = len(data_utils.USER_FEATURE_NAMES)     # 6\n",
    "N_ARM_FEATURES    = len(data_utils.MOVIE_FEATURE_NAMES)    # 5\n",
    "GLOBAL_DIM        = GLOBAL_EMBEDDING_SIZE * N_GLOBAL_FEATURES\n",
    "PER_ARM_DIM       = MV_EMBEDDING_SIZE * N_ARM_FEATURES\n",
    "\n",
    "print(f\"TF Record : {TFRECORD_FILE}\")\n",
    "print(f\"GLOBAL_DIM : {GLOBAL_DIM}\")\n",
    "print(f\"PER_ARM_DIM : {PER_ARM_DIM}\")"
   ]
  },
  {
   "cell_type": "markdown",
   "id": "9a0564c2-69a6-484f-9f85-a9f6367c065a",
   "metadata": {},
   "source": [
    "### get vocabs"
   ]
  },
  {
   "cell_type": "code",
   "execution_count": 36,
   "id": "880718f5-de5a-417f-83a5-92d11ea5a658",
   "metadata": {},
   "outputs": [
    {
     "name": "stdout",
     "output_type": "stream",
     "text": [
      "Downloading vocab...\n",
      "Downloaded vocab from: gs://rec-bandits-v2-hybrid-vertex-bucket/data/movielens/m1m/vocabs/vocab_dict.pkl\n",
      "\n"
     ]
    }
   ],
   "source": [
    "EXISTING_VOCAB_FILE = f'gs://{BUCKET_NAME}/{EXAMPLE_GEN_GCS_PATH}/vocabs/{VOCAB_FILENAME}'\n",
    "print(f\"Downloading vocab...\")\n",
    "\n",
    "os.system(f'gsutil -q cp {EXISTING_VOCAB_FILE} .')\n",
    "print(f\"Downloaded vocab from: {EXISTING_VOCAB_FILE}\\n\")\n",
    "\n",
    "filehandler = open(VOCAB_FILENAME, 'rb')\n",
    "vocab_dict = pkl.load(filehandler)\n",
    "filehandler.close()"
   ]
  },
  {
   "cell_type": "markdown",
   "id": "7add9d37-a49f-4b32-bc23-d637677586b3",
   "metadata": {
    "tags": []
   },
   "source": [
    "#### tmp - debugging dataset - START"
   ]
  },
  {
   "cell_type": "code",
   "execution_count": 14,
   "id": "13d0c7d1-bf94-41e0-b2b6-d0f0581f1632",
   "metadata": {},
   "outputs": [
    {
     "data": {
      "text/plain": [
       "<tf.Tensor: shape=(), dtype=int32, numpy=5>"
      ]
     },
     "execution_count": 14,
     "metadata": {},
     "output_type": "execute_result"
    }
   ],
   "source": [
    "x = tf.constant([5, 1, 2, 4])\n",
    "tf.reduce_max(x, axis=0)"
   ]
  },
  {
   "cell_type": "code",
   "execution_count": 19,
   "id": "eb60b56f-6062-4151-b31c-f66d65b6bab0",
   "metadata": {},
   "outputs": [],
   "source": [
    "BATCH_SIZE      = 128\n",
    "EVAL_BATCH_SIZE = 1\n",
    "NUM_ACTIONS     = 2"
   ]
  },
  {
   "cell_type": "code",
   "execution_count": 10,
   "id": "a760c74f-e032-4e8b-8974-4c03fca1ba7a",
   "metadata": {},
   "outputs": [],
   "source": [
    "_raw_dataset = tf.data.TFRecordDataset([TFRECORD_FILE])\n",
    "_parsed_dataset = _raw_dataset.map(preprocess_utils._parse_record)"
   ]
  },
  {
   "cell_type": "code",
   "execution_count": 15,
   "id": "77b4b345-65f2-479b-b665-29465145f696",
   "metadata": {},
   "outputs": [
    {
     "data": {
      "text/plain": [
       "7766"
      ]
     },
     "execution_count": 15,
     "metadata": {},
     "output_type": "execute_result"
    }
   ],
   "source": [
    "NUM_BATCHES = len(list(_parsed_dataset))\n",
    "NUM_SAMPLES = NUM_BATCHES * BATCH_SIZE\n",
    "\n",
    "print(f\"NUM_BATCHES : {NUM_BATCHES}\")\n",
    "print(f\"NUM_SAMPLES : {NUM_SAMPLES}\")"
   ]
  },
  {
   "cell_type": "code",
   "execution_count": 93,
   "id": "706cf6d4-5e14-4c8c-a1c6-ac5a88e552c0",
   "metadata": {},
   "outputs": [],
   "source": [
    "def _get_rewards(observation):\n",
    "    return observation.reward\n",
    "\n",
    "def optimal_reward(observation):\n",
    "    \"\"\"\n",
    "    Outputs the maximum expected reward for every element in the batch\n",
    "    \"\"\"\n",
    "    return tf.reduce_max(_get_rewards(observation), axis=1)\n",
    "\n",
    "regret_metric = tf_bandit_metrics.RegretMetric(optimal_reward)"
   ]
  },
  {
   "cell_type": "code",
   "execution_count": 21,
   "id": "e48f6a82-9c31-49f4-bddb-2a6f2b90b644",
   "metadata": {
    "collapsed": true,
    "jupyter": {
     "outputs_hidden": true
    },
    "tags": []
   },
   "outputs": [
    {
     "name": "stdout",
     "output_type": "stream",
     "text": [
      "Trajectory(\n",
      "{'action': <tf.Tensor: shape=(128, 1), dtype=int32, numpy=\n",
      "array([[0],\n",
      "       [0],\n",
      "       [0],\n",
      "       [0],\n",
      "       [0],\n",
      "       [0],\n",
      "       [0],\n",
      "       [0],\n",
      "       [0],\n",
      "       [0],\n",
      "       [0],\n",
      "       [0],\n",
      "       [0],\n",
      "       [0],\n",
      "       [0],\n",
      "       [0],\n",
      "       [0],\n",
      "       [0],\n",
      "       [0],\n",
      "       [0],\n",
      "       [0],\n",
      "       [0],\n",
      "       [0],\n",
      "       [0],\n",
      "       [0],\n",
      "       [0],\n",
      "       [0],\n",
      "       [0],\n",
      "       [0],\n",
      "       [0],\n",
      "       [0],\n",
      "       [0],\n",
      "       [0],\n",
      "       [0],\n",
      "       [0],\n",
      "       [0],\n",
      "       [0],\n",
      "       [0],\n",
      "       [0],\n",
      "       [0],\n",
      "       [0],\n",
      "       [0],\n",
      "       [0],\n",
      "       [0],\n",
      "       [0],\n",
      "       [0],\n",
      "       [0],\n",
      "       [0],\n",
      "       [0],\n",
      "       [0],\n",
      "       [0],\n",
      "       [0],\n",
      "       [0],\n",
      "       [0],\n",
      "       [0],\n",
      "       [0],\n",
      "       [0],\n",
      "       [0],\n",
      "       [0],\n",
      "       [0],\n",
      "       [0],\n",
      "       [0],\n",
      "       [0],\n",
      "       [0],\n",
      "       [0],\n",
      "       [0],\n",
      "       [0],\n",
      "       [0],\n",
      "       [0],\n",
      "       [0],\n",
      "       [0],\n",
      "       [0],\n",
      "       [0],\n",
      "       [0],\n",
      "       [0],\n",
      "       [0],\n",
      "       [0],\n",
      "       [0],\n",
      "       [0],\n",
      "       [0],\n",
      "       [0],\n",
      "       [0],\n",
      "       [0],\n",
      "       [0],\n",
      "       [0],\n",
      "       [0],\n",
      "       [0],\n",
      "       [0],\n",
      "       [0],\n",
      "       [0],\n",
      "       [0],\n",
      "       [0],\n",
      "       [0],\n",
      "       [0],\n",
      "       [0],\n",
      "       [0],\n",
      "       [0],\n",
      "       [0],\n",
      "       [0],\n",
      "       [0],\n",
      "       [0],\n",
      "       [0],\n",
      "       [0],\n",
      "       [0],\n",
      "       [0],\n",
      "       [0],\n",
      "       [0],\n",
      "       [0],\n",
      "       [0],\n",
      "       [0],\n",
      "       [0],\n",
      "       [0],\n",
      "       [0],\n",
      "       [0],\n",
      "       [0],\n",
      "       [0],\n",
      "       [0],\n",
      "       [0],\n",
      "       [0],\n",
      "       [0],\n",
      "       [0],\n",
      "       [0],\n",
      "       [0],\n",
      "       [0],\n",
      "       [0],\n",
      "       [0],\n",
      "       [0],\n",
      "       [0]], dtype=int32)>,\n",
      " 'discount': <tf.Tensor: shape=(128, 1), dtype=float32, numpy=\n",
      "array([[0.],\n",
      "       [0.],\n",
      "       [0.],\n",
      "       [0.],\n",
      "       [0.],\n",
      "       [0.],\n",
      "       [0.],\n",
      "       [0.],\n",
      "       [0.],\n",
      "       [0.],\n",
      "       [0.],\n",
      "       [0.],\n",
      "       [0.],\n",
      "       [0.],\n",
      "       [0.],\n",
      "       [0.],\n",
      "       [0.],\n",
      "       [0.],\n",
      "       [0.],\n",
      "       [0.],\n",
      "       [0.],\n",
      "       [0.],\n",
      "       [0.],\n",
      "       [0.],\n",
      "       [0.],\n",
      "       [0.],\n",
      "       [0.],\n",
      "       [0.],\n",
      "       [0.],\n",
      "       [0.],\n",
      "       [0.],\n",
      "       [0.],\n",
      "       [0.],\n",
      "       [0.],\n",
      "       [0.],\n",
      "       [0.],\n",
      "       [0.],\n",
      "       [0.],\n",
      "       [0.],\n",
      "       [0.],\n",
      "       [0.],\n",
      "       [0.],\n",
      "       [0.],\n",
      "       [0.],\n",
      "       [0.],\n",
      "       [0.],\n",
      "       [0.],\n",
      "       [0.],\n",
      "       [0.],\n",
      "       [0.],\n",
      "       [0.],\n",
      "       [0.],\n",
      "       [0.],\n",
      "       [0.],\n",
      "       [0.],\n",
      "       [0.],\n",
      "       [0.],\n",
      "       [0.],\n",
      "       [0.],\n",
      "       [0.],\n",
      "       [0.],\n",
      "       [0.],\n",
      "       [0.],\n",
      "       [0.],\n",
      "       [0.],\n",
      "       [0.],\n",
      "       [0.],\n",
      "       [0.],\n",
      "       [0.],\n",
      "       [0.],\n",
      "       [0.],\n",
      "       [0.],\n",
      "       [0.],\n",
      "       [0.],\n",
      "       [0.],\n",
      "       [0.],\n",
      "       [0.],\n",
      "       [0.],\n",
      "       [0.],\n",
      "       [0.],\n",
      "       [0.],\n",
      "       [0.],\n",
      "       [0.],\n",
      "       [0.],\n",
      "       [0.],\n",
      "       [0.],\n",
      "       [0.],\n",
      "       [0.],\n",
      "       [0.],\n",
      "       [0.],\n",
      "       [0.],\n",
      "       [0.],\n",
      "       [0.],\n",
      "       [0.],\n",
      "       [0.],\n",
      "       [0.],\n",
      "       [0.],\n",
      "       [0.],\n",
      "       [0.],\n",
      "       [0.],\n",
      "       [0.],\n",
      "       [0.],\n",
      "       [0.],\n",
      "       [0.],\n",
      "       [0.],\n",
      "       [0.],\n",
      "       [0.],\n",
      "       [0.],\n",
      "       [0.],\n",
      "       [0.],\n",
      "       [0.],\n",
      "       [0.],\n",
      "       [0.],\n",
      "       [0.],\n",
      "       [0.],\n",
      "       [0.],\n",
      "       [0.],\n",
      "       [0.],\n",
      "       [0.],\n",
      "       [0.],\n",
      "       [0.],\n",
      "       [0.],\n",
      "       [0.],\n",
      "       [0.],\n",
      "       [0.],\n",
      "       [0.],\n",
      "       [0.],\n",
      "       [0.]], dtype=float32)>,\n",
      " 'next_step_type': <tf.Tensor: shape=(128, 1), dtype=int32, numpy=\n",
      "array([[2],\n",
      "       [2],\n",
      "       [2],\n",
      "       [2],\n",
      "       [2],\n",
      "       [2],\n",
      "       [2],\n",
      "       [2],\n",
      "       [2],\n",
      "       [2],\n",
      "       [2],\n",
      "       [2],\n",
      "       [2],\n",
      "       [2],\n",
      "       [2],\n",
      "       [2],\n",
      "       [2],\n",
      "       [2],\n",
      "       [2],\n",
      "       [2],\n",
      "       [2],\n",
      "       [2],\n",
      "       [2],\n",
      "       [2],\n",
      "       [2],\n",
      "       [2],\n",
      "       [2],\n",
      "       [2],\n",
      "       [2],\n",
      "       [2],\n",
      "       [2],\n",
      "       [2],\n",
      "       [2],\n",
      "       [2],\n",
      "       [2],\n",
      "       [2],\n",
      "       [2],\n",
      "       [2],\n",
      "       [2],\n",
      "       [2],\n",
      "       [2],\n",
      "       [2],\n",
      "       [2],\n",
      "       [2],\n",
      "       [2],\n",
      "       [2],\n",
      "       [2],\n",
      "       [2],\n",
      "       [2],\n",
      "       [2],\n",
      "       [2],\n",
      "       [2],\n",
      "       [2],\n",
      "       [2],\n",
      "       [2],\n",
      "       [2],\n",
      "       [2],\n",
      "       [2],\n",
      "       [2],\n",
      "       [2],\n",
      "       [2],\n",
      "       [2],\n",
      "       [2],\n",
      "       [2],\n",
      "       [2],\n",
      "       [2],\n",
      "       [2],\n",
      "       [2],\n",
      "       [2],\n",
      "       [2],\n",
      "       [2],\n",
      "       [2],\n",
      "       [2],\n",
      "       [2],\n",
      "       [2],\n",
      "       [2],\n",
      "       [2],\n",
      "       [2],\n",
      "       [2],\n",
      "       [2],\n",
      "       [2],\n",
      "       [2],\n",
      "       [2],\n",
      "       [2],\n",
      "       [2],\n",
      "       [2],\n",
      "       [2],\n",
      "       [2],\n",
      "       [2],\n",
      "       [2],\n",
      "       [2],\n",
      "       [2],\n",
      "       [2],\n",
      "       [2],\n",
      "       [2],\n",
      "       [2],\n",
      "       [2],\n",
      "       [2],\n",
      "       [2],\n",
      "       [2],\n",
      "       [2],\n",
      "       [2],\n",
      "       [2],\n",
      "       [2],\n",
      "       [2],\n",
      "       [2],\n",
      "       [2],\n",
      "       [2],\n",
      "       [2],\n",
      "       [2],\n",
      "       [2],\n",
      "       [2],\n",
      "       [2],\n",
      "       [2],\n",
      "       [2],\n",
      "       [2],\n",
      "       [2],\n",
      "       [2],\n",
      "       [2],\n",
      "       [2],\n",
      "       [2],\n",
      "       [2],\n",
      "       [2],\n",
      "       [2],\n",
      "       [2],\n",
      "       [2],\n",
      "       [2],\n",
      "       [2]], dtype=int32)>,\n",
      " 'observation': {'global': <tf.Tensor: shape=(128, 1, 72), dtype=float32, numpy=\n",
      "array([[[-0.00103871,  0.01805559,  0.02557157, ..., -0.04827393,\n",
      "          0.04356446,  0.03594733]],\n",
      "\n",
      "       [[-0.02234068, -0.02964271, -0.03346043, ...,  0.0194071 ,\n",
      "          0.04300621, -0.03528504]],\n",
      "\n",
      "       [[-0.01879015,  0.01610211,  0.0176771 , ..., -0.02434646,\n",
      "          0.02385675,  0.00569954]],\n",
      "\n",
      "       ...,\n",
      "\n",
      "       [[-0.0133015 ,  0.02857653,  0.03566079, ..., -0.04978133,\n",
      "         -0.02885852,  0.0273958 ]],\n",
      "\n",
      "       [[-0.02744306,  0.03265761,  0.03319338, ..., -0.00205316,\n",
      "         -0.01370217, -0.00598233]],\n",
      "\n",
      "       [[-0.04079435,  0.01167095, -0.04419073, ..., -0.02871854,\n",
      "         -0.03702276,  0.02692211]]], dtype=float32)>},\n",
      " 'policy_info': PerArmPolicyInfo(log_probability=(), predicted_rewards_mean=<tf.Tensor: shape=(128, 1, 2), dtype=float32, numpy=\n",
      "array([[[0., 0.]],\n",
      "\n",
      "       [[0., 0.]],\n",
      "\n",
      "       [[0., 0.]],\n",
      "\n",
      "       [[0., 0.]],\n",
      "\n",
      "       [[0., 0.]],\n",
      "\n",
      "       [[0., 0.]],\n",
      "\n",
      "       [[0., 0.]],\n",
      "\n",
      "       [[0., 0.]],\n",
      "\n",
      "       [[0., 0.]],\n",
      "\n",
      "       [[0., 0.]],\n",
      "\n",
      "       [[0., 0.]],\n",
      "\n",
      "       [[0., 0.]],\n",
      "\n",
      "       [[0., 0.]],\n",
      "\n",
      "       [[0., 0.]],\n",
      "\n",
      "       [[0., 0.]],\n",
      "\n",
      "       [[0., 0.]],\n",
      "\n",
      "       [[0., 0.]],\n",
      "\n",
      "       [[0., 0.]],\n",
      "\n",
      "       [[0., 0.]],\n",
      "\n",
      "       [[0., 0.]],\n",
      "\n",
      "       [[0., 0.]],\n",
      "\n",
      "       [[0., 0.]],\n",
      "\n",
      "       [[0., 0.]],\n",
      "\n",
      "       [[0., 0.]],\n",
      "\n",
      "       [[0., 0.]],\n",
      "\n",
      "       [[0., 0.]],\n",
      "\n",
      "       [[0., 0.]],\n",
      "\n",
      "       [[0., 0.]],\n",
      "\n",
      "       [[0., 0.]],\n",
      "\n",
      "       [[0., 0.]],\n",
      "\n",
      "       [[0., 0.]],\n",
      "\n",
      "       [[0., 0.]],\n",
      "\n",
      "       [[0., 0.]],\n",
      "\n",
      "       [[0., 0.]],\n",
      "\n",
      "       [[0., 0.]],\n",
      "\n",
      "       [[0., 0.]],\n",
      "\n",
      "       [[0., 0.]],\n",
      "\n",
      "       [[0., 0.]],\n",
      "\n",
      "       [[0., 0.]],\n",
      "\n",
      "       [[0., 0.]],\n",
      "\n",
      "       [[0., 0.]],\n",
      "\n",
      "       [[0., 0.]],\n",
      "\n",
      "       [[0., 0.]],\n",
      "\n",
      "       [[0., 0.]],\n",
      "\n",
      "       [[0., 0.]],\n",
      "\n",
      "       [[0., 0.]],\n",
      "\n",
      "       [[0., 0.]],\n",
      "\n",
      "       [[0., 0.]],\n",
      "\n",
      "       [[0., 0.]],\n",
      "\n",
      "       [[0., 0.]],\n",
      "\n",
      "       [[0., 0.]],\n",
      "\n",
      "       [[0., 0.]],\n",
      "\n",
      "       [[0., 0.]],\n",
      "\n",
      "       [[0., 0.]],\n",
      "\n",
      "       [[0., 0.]],\n",
      "\n",
      "       [[0., 0.]],\n",
      "\n",
      "       [[0., 0.]],\n",
      "\n",
      "       [[0., 0.]],\n",
      "\n",
      "       [[0., 0.]],\n",
      "\n",
      "       [[0., 0.]],\n",
      "\n",
      "       [[0., 0.]],\n",
      "\n",
      "       [[0., 0.]],\n",
      "\n",
      "       [[0., 0.]],\n",
      "\n",
      "       [[0., 0.]],\n",
      "\n",
      "       [[0., 0.]],\n",
      "\n",
      "       [[0., 0.]],\n",
      "\n",
      "       [[0., 0.]],\n",
      "\n",
      "       [[0., 0.]],\n",
      "\n",
      "       [[0., 0.]],\n",
      "\n",
      "       [[0., 0.]],\n",
      "\n",
      "       [[0., 0.]],\n",
      "\n",
      "       [[0., 0.]],\n",
      "\n",
      "       [[0., 0.]],\n",
      "\n",
      "       [[0., 0.]],\n",
      "\n",
      "       [[0., 0.]],\n",
      "\n",
      "       [[0., 0.]],\n",
      "\n",
      "       [[0., 0.]],\n",
      "\n",
      "       [[0., 0.]],\n",
      "\n",
      "       [[0., 0.]],\n",
      "\n",
      "       [[0., 0.]],\n",
      "\n",
      "       [[0., 0.]],\n",
      "\n",
      "       [[0., 0.]],\n",
      "\n",
      "       [[0., 0.]],\n",
      "\n",
      "       [[0., 0.]],\n",
      "\n",
      "       [[0., 0.]],\n",
      "\n",
      "       [[0., 0.]],\n",
      "\n",
      "       [[0., 0.]],\n",
      "\n",
      "       [[0., 0.]],\n",
      "\n",
      "       [[0., 0.]],\n",
      "\n",
      "       [[0., 0.]],\n",
      "\n",
      "       [[0., 0.]],\n",
      "\n",
      "       [[0., 0.]],\n",
      "\n",
      "       [[0., 0.]],\n",
      "\n",
      "       [[0., 0.]],\n",
      "\n",
      "       [[0., 0.]],\n",
      "\n",
      "       [[0., 0.]],\n",
      "\n",
      "       [[0., 0.]],\n",
      "\n",
      "       [[0., 0.]],\n",
      "\n",
      "       [[0., 0.]],\n",
      "\n",
      "       [[0., 0.]],\n",
      "\n",
      "       [[0., 0.]],\n",
      "\n",
      "       [[0., 0.]],\n",
      "\n",
      "       [[0., 0.]],\n",
      "\n",
      "       [[0., 0.]],\n",
      "\n",
      "       [[0., 0.]],\n",
      "\n",
      "       [[0., 0.]],\n",
      "\n",
      "       [[0., 0.]],\n",
      "\n",
      "       [[0., 0.]],\n",
      "\n",
      "       [[0., 0.]],\n",
      "\n",
      "       [[0., 0.]],\n",
      "\n",
      "       [[0., 0.]],\n",
      "\n",
      "       [[0., 0.]],\n",
      "\n",
      "       [[0., 0.]],\n",
      "\n",
      "       [[0., 0.]],\n",
      "\n",
      "       [[0., 0.]],\n",
      "\n",
      "       [[0., 0.]],\n",
      "\n",
      "       [[0., 0.]],\n",
      "\n",
      "       [[0., 0.]],\n",
      "\n",
      "       [[0., 0.]],\n",
      "\n",
      "       [[0., 0.]],\n",
      "\n",
      "       [[0., 0.]],\n",
      "\n",
      "       [[0., 0.]],\n",
      "\n",
      "       [[0., 0.]],\n",
      "\n",
      "       [[0., 0.]],\n",
      "\n",
      "       [[0., 0.]],\n",
      "\n",
      "       [[0., 0.]],\n",
      "\n",
      "       [[0., 0.]],\n",
      "\n",
      "       [[0., 0.]]], dtype=float32)>, multiobjective_scalarized_predicted_rewards_mean=(), predicted_rewards_optimistic=(), predicted_rewards_sampled=(), bandit_policy_type=<tf.Tensor: shape=(128, 1, 1), dtype=int32, numpy=\n",
      "array([[[0]],\n",
      "\n",
      "       [[0]],\n",
      "\n",
      "       [[0]],\n",
      "\n",
      "       [[0]],\n",
      "\n",
      "       [[0]],\n",
      "\n",
      "       [[0]],\n",
      "\n",
      "       [[0]],\n",
      "\n",
      "       [[0]],\n",
      "\n",
      "       [[0]],\n",
      "\n",
      "       [[0]],\n",
      "\n",
      "       [[0]],\n",
      "\n",
      "       [[0]],\n",
      "\n",
      "       [[0]],\n",
      "\n",
      "       [[0]],\n",
      "\n",
      "       [[0]],\n",
      "\n",
      "       [[0]],\n",
      "\n",
      "       [[0]],\n",
      "\n",
      "       [[0]],\n",
      "\n",
      "       [[0]],\n",
      "\n",
      "       [[0]],\n",
      "\n",
      "       [[0]],\n",
      "\n",
      "       [[0]],\n",
      "\n",
      "       [[0]],\n",
      "\n",
      "       [[0]],\n",
      "\n",
      "       [[0]],\n",
      "\n",
      "       [[0]],\n",
      "\n",
      "       [[0]],\n",
      "\n",
      "       [[0]],\n",
      "\n",
      "       [[0]],\n",
      "\n",
      "       [[0]],\n",
      "\n",
      "       [[0]],\n",
      "\n",
      "       [[0]],\n",
      "\n",
      "       [[0]],\n",
      "\n",
      "       [[0]],\n",
      "\n",
      "       [[0]],\n",
      "\n",
      "       [[0]],\n",
      "\n",
      "       [[0]],\n",
      "\n",
      "       [[0]],\n",
      "\n",
      "       [[0]],\n",
      "\n",
      "       [[0]],\n",
      "\n",
      "       [[0]],\n",
      "\n",
      "       [[0]],\n",
      "\n",
      "       [[0]],\n",
      "\n",
      "       [[0]],\n",
      "\n",
      "       [[0]],\n",
      "\n",
      "       [[0]],\n",
      "\n",
      "       [[0]],\n",
      "\n",
      "       [[0]],\n",
      "\n",
      "       [[0]],\n",
      "\n",
      "       [[0]],\n",
      "\n",
      "       [[0]],\n",
      "\n",
      "       [[0]],\n",
      "\n",
      "       [[0]],\n",
      "\n",
      "       [[0]],\n",
      "\n",
      "       [[0]],\n",
      "\n",
      "       [[0]],\n",
      "\n",
      "       [[0]],\n",
      "\n",
      "       [[0]],\n",
      "\n",
      "       [[0]],\n",
      "\n",
      "       [[0]],\n",
      "\n",
      "       [[0]],\n",
      "\n",
      "       [[0]],\n",
      "\n",
      "       [[0]],\n",
      "\n",
      "       [[0]],\n",
      "\n",
      "       [[0]],\n",
      "\n",
      "       [[0]],\n",
      "\n",
      "       [[0]],\n",
      "\n",
      "       [[0]],\n",
      "\n",
      "       [[0]],\n",
      "\n",
      "       [[0]],\n",
      "\n",
      "       [[0]],\n",
      "\n",
      "       [[0]],\n",
      "\n",
      "       [[0]],\n",
      "\n",
      "       [[0]],\n",
      "\n",
      "       [[0]],\n",
      "\n",
      "       [[0]],\n",
      "\n",
      "       [[0]],\n",
      "\n",
      "       [[0]],\n",
      "\n",
      "       [[0]],\n",
      "\n",
      "       [[0]],\n",
      "\n",
      "       [[0]],\n",
      "\n",
      "       [[0]],\n",
      "\n",
      "       [[0]],\n",
      "\n",
      "       [[0]],\n",
      "\n",
      "       [[0]],\n",
      "\n",
      "       [[0]],\n",
      "\n",
      "       [[0]],\n",
      "\n",
      "       [[0]],\n",
      "\n",
      "       [[0]],\n",
      "\n",
      "       [[0]],\n",
      "\n",
      "       [[0]],\n",
      "\n",
      "       [[0]],\n",
      "\n",
      "       [[0]],\n",
      "\n",
      "       [[0]],\n",
      "\n",
      "       [[0]],\n",
      "\n",
      "       [[0]],\n",
      "\n",
      "       [[0]],\n",
      "\n",
      "       [[0]],\n",
      "\n",
      "       [[0]],\n",
      "\n",
      "       [[0]],\n",
      "\n",
      "       [[0]],\n",
      "\n",
      "       [[0]],\n",
      "\n",
      "       [[0]],\n",
      "\n",
      "       [[0]],\n",
      "\n",
      "       [[0]],\n",
      "\n",
      "       [[0]],\n",
      "\n",
      "       [[0]],\n",
      "\n",
      "       [[0]],\n",
      "\n",
      "       [[0]],\n",
      "\n",
      "       [[0]],\n",
      "\n",
      "       [[0]],\n",
      "\n",
      "       [[0]],\n",
      "\n",
      "       [[0]],\n",
      "\n",
      "       [[0]],\n",
      "\n",
      "       [[0]],\n",
      "\n",
      "       [[0]],\n",
      "\n",
      "       [[0]],\n",
      "\n",
      "       [[0]],\n",
      "\n",
      "       [[0]],\n",
      "\n",
      "       [[0]],\n",
      "\n",
      "       [[0]],\n",
      "\n",
      "       [[0]],\n",
      "\n",
      "       [[0]],\n",
      "\n",
      "       [[0]],\n",
      "\n",
      "       [[0]],\n",
      "\n",
      "       [[0]],\n",
      "\n",
      "       [[0]],\n",
      "\n",
      "       [[0]]], dtype=int32)>, chosen_arm_features=<tf.Tensor: shape=(128, 1, 64), dtype=float32, numpy=\n",
      "array([[[-0.01032648, -0.03423737, -0.02330362, ..., -0.3317091 ,\n",
      "         -0.06140819, -0.36915892]],\n",
      "\n",
      "       [[-0.03413813,  0.02019053,  0.04502575, ..., -0.43814546,\n",
      "          0.07931746, -0.07643273]],\n",
      "\n",
      "       [[-0.01623   ,  0.02186112,  0.03335336, ..., -0.5445819 ,\n",
      "          0.22004312,  0.2162935 ]],\n",
      "\n",
      "       ...,\n",
      "\n",
      "       [[-0.01243703,  0.00067034,  0.03543871, ..., -0.38492727,\n",
      "          0.00895463, -0.22279584]],\n",
      "\n",
      "       [[-0.03298356,  0.03687162, -0.00243307, ..., -0.5445819 ,\n",
      "          0.22004312,  0.2162935 ]],\n",
      "\n",
      "       [[-0.03171787,  0.02745016, -0.03407444, ..., -0.3317091 ,\n",
      "         -0.06140819, -0.36915892]]], dtype=float32)>),\n",
      " 'reward': <tf.Tensor: shape=(128, 1), dtype=float32, numpy=\n",
      "array([[5.],\n",
      "       [4.],\n",
      "       [2.],\n",
      "       [2.],\n",
      "       [3.],\n",
      "       [3.],\n",
      "       [2.],\n",
      "       [4.],\n",
      "       [4.],\n",
      "       [4.],\n",
      "       [4.],\n",
      "       [1.],\n",
      "       [2.],\n",
      "       [4.],\n",
      "       [4.],\n",
      "       [4.],\n",
      "       [3.],\n",
      "       [2.],\n",
      "       [2.],\n",
      "       [3.],\n",
      "       [3.],\n",
      "       [4.],\n",
      "       [5.],\n",
      "       [3.],\n",
      "       [4.],\n",
      "       [3.],\n",
      "       [3.],\n",
      "       [5.],\n",
      "       [4.],\n",
      "       [1.],\n",
      "       [2.],\n",
      "       [5.],\n",
      "       [3.],\n",
      "       [5.],\n",
      "       [4.],\n",
      "       [3.],\n",
      "       [4.],\n",
      "       [4.],\n",
      "       [3.],\n",
      "       [3.],\n",
      "       [4.],\n",
      "       [4.],\n",
      "       [3.],\n",
      "       [3.],\n",
      "       [2.],\n",
      "       [2.],\n",
      "       [2.],\n",
      "       [5.],\n",
      "       [3.],\n",
      "       [3.],\n",
      "       [5.],\n",
      "       [4.],\n",
      "       [5.],\n",
      "       [3.],\n",
      "       [4.],\n",
      "       [3.],\n",
      "       [3.],\n",
      "       [5.],\n",
      "       [4.],\n",
      "       [2.],\n",
      "       [3.],\n",
      "       [2.],\n",
      "       [4.],\n",
      "       [3.],\n",
      "       [2.],\n",
      "       [5.],\n",
      "       [4.],\n",
      "       [4.],\n",
      "       [3.],\n",
      "       [3.],\n",
      "       [1.],\n",
      "       [2.],\n",
      "       [4.],\n",
      "       [3.],\n",
      "       [3.],\n",
      "       [4.],\n",
      "       [3.],\n",
      "       [4.],\n",
      "       [2.],\n",
      "       [5.],\n",
      "       [4.],\n",
      "       [3.],\n",
      "       [4.],\n",
      "       [2.],\n",
      "       [4.],\n",
      "       [4.],\n",
      "       [5.],\n",
      "       [2.],\n",
      "       [4.],\n",
      "       [4.],\n",
      "       [2.],\n",
      "       [5.],\n",
      "       [1.],\n",
      "       [2.],\n",
      "       [5.],\n",
      "       [5.],\n",
      "       [1.],\n",
      "       [4.],\n",
      "       [4.],\n",
      "       [1.],\n",
      "       [2.],\n",
      "       [4.],\n",
      "       [5.],\n",
      "       [2.],\n",
      "       [3.],\n",
      "       [4.],\n",
      "       [3.],\n",
      "       [2.],\n",
      "       [3.],\n",
      "       [3.],\n",
      "       [1.],\n",
      "       [3.],\n",
      "       [4.],\n",
      "       [4.],\n",
      "       [4.],\n",
      "       [4.],\n",
      "       [5.],\n",
      "       [3.],\n",
      "       [3.],\n",
      "       [4.],\n",
      "       [3.],\n",
      "       [2.],\n",
      "       [3.],\n",
      "       [3.],\n",
      "       [5.],\n",
      "       [3.],\n",
      "       [4.],\n",
      "       [4.]], dtype=float32)>,\n",
      " 'step_type': <tf.Tensor: shape=(128, 1), dtype=int32, numpy=\n",
      "array([[0],\n",
      "       [0],\n",
      "       [0],\n",
      "       [0],\n",
      "       [0],\n",
      "       [0],\n",
      "       [0],\n",
      "       [0],\n",
      "       [0],\n",
      "       [0],\n",
      "       [0],\n",
      "       [0],\n",
      "       [0],\n",
      "       [0],\n",
      "       [0],\n",
      "       [0],\n",
      "       [0],\n",
      "       [0],\n",
      "       [0],\n",
      "       [0],\n",
      "       [0],\n",
      "       [0],\n",
      "       [0],\n",
      "       [0],\n",
      "       [0],\n",
      "       [0],\n",
      "       [0],\n",
      "       [0],\n",
      "       [0],\n",
      "       [0],\n",
      "       [0],\n",
      "       [0],\n",
      "       [0],\n",
      "       [0],\n",
      "       [0],\n",
      "       [0],\n",
      "       [0],\n",
      "       [0],\n",
      "       [0],\n",
      "       [0],\n",
      "       [0],\n",
      "       [0],\n",
      "       [0],\n",
      "       [0],\n",
      "       [0],\n",
      "       [0],\n",
      "       [0],\n",
      "       [0],\n",
      "       [0],\n",
      "       [0],\n",
      "       [0],\n",
      "       [0],\n",
      "       [0],\n",
      "       [0],\n",
      "       [0],\n",
      "       [0],\n",
      "       [0],\n",
      "       [0],\n",
      "       [0],\n",
      "       [0],\n",
      "       [0],\n",
      "       [0],\n",
      "       [0],\n",
      "       [0],\n",
      "       [0],\n",
      "       [0],\n",
      "       [0],\n",
      "       [0],\n",
      "       [0],\n",
      "       [0],\n",
      "       [0],\n",
      "       [0],\n",
      "       [0],\n",
      "       [0],\n",
      "       [0],\n",
      "       [0],\n",
      "       [0],\n",
      "       [0],\n",
      "       [0],\n",
      "       [0],\n",
      "       [0],\n",
      "       [0],\n",
      "       [0],\n",
      "       [0],\n",
      "       [0],\n",
      "       [0],\n",
      "       [0],\n",
      "       [0],\n",
      "       [0],\n",
      "       [0],\n",
      "       [0],\n",
      "       [0],\n",
      "       [0],\n",
      "       [0],\n",
      "       [0],\n",
      "       [0],\n",
      "       [0],\n",
      "       [0],\n",
      "       [0],\n",
      "       [0],\n",
      "       [0],\n",
      "       [0],\n",
      "       [0],\n",
      "       [0],\n",
      "       [0],\n",
      "       [0],\n",
      "       [0],\n",
      "       [0],\n",
      "       [0],\n",
      "       [0],\n",
      "       [0],\n",
      "       [0],\n",
      "       [0],\n",
      "       [0],\n",
      "       [0],\n",
      "       [0],\n",
      "       [0],\n",
      "       [0],\n",
      "       [0],\n",
      "       [0],\n",
      "       [0],\n",
      "       [0],\n",
      "       [0],\n",
      "       [0],\n",
      "       [0],\n",
      "       [0],\n",
      "       [0],\n",
      "       [0]], dtype=int32)>})\n"
     ]
    }
   ],
   "source": [
    "for x in _parsed_dataset.take(1):\n",
    "    # print(x)\n",
    "    _parsed_trajectories = preprocess_utils.build_trajectory_from_tfrecord(x, BATCH_SIZE, NUM_ACTIONS)\n",
    "    print(_parsed_trajectories)\n",
    "    break"
   ]
  },
  {
   "cell_type": "code",
   "execution_count": 95,
   "id": "80215a54-c069-48de-bf14-d83a85814afd",
   "metadata": {},
   "outputs": [
    {
     "data": {
      "text/plain": [
       "TensorShape([128, 1])"
      ]
     },
     "execution_count": 95,
     "metadata": {},
     "output_type": "execute_result"
    }
   ],
   "source": [
    "_parsed_trajectories.reward.shape"
   ]
  },
  {
   "cell_type": "code",
   "execution_count": 99,
   "id": "36722c28-5da7-408d-91b2-5d58829bcdcd",
   "metadata": {},
   "outputs": [
    {
     "name": "stdout",
     "output_type": "stream",
     "text": [
      "(128, 1)\n",
      "batched_reward : [5. 4. 2. 2. 3. 3. 2. 4. 4. 4. 4. 1. 2. 4. 4. 4. 3. 2. 2. 3. 3. 4. 5. 3.\n",
      " 4. 3. 3. 5. 4. 1. 2. 5. 3. 5. 4. 3. 4. 4. 3. 3. 4. 4. 3. 3. 2. 2. 2. 5.\n",
      " 3. 3. 5. 4. 5. 3. 4. 3. 3. 5. 4. 2. 3. 2. 4. 3. 2. 5. 4. 4. 3. 3. 1. 2.\n",
      " 4. 3. 3. 4. 3. 4. 2. 5. 4. 3. 4. 2. 4. 4. 5. 2. 4. 4. 2. 5. 1. 2. 5. 5.\n",
      " 1. 4. 4. 1. 2. 4. 5. 2. 3. 4. 3. 2. 3. 3. 1. 3. 4. 4. 4. 4. 5. 3. 3. 4.\n",
      " 3. 2. 3. 3. 5. 3. 4. 4.]\n",
      "total_reward : 425.0\n"
     ]
    }
   ],
   "source": [
    "batched_reward = optimal_reward(_parsed_trajectories)\n",
    "total_reward = tf.reduce_sum(batched_reward)\n",
    "\n",
    "print(f\"batched_reward : {batched_reward}\")\n",
    "print(f\"total_reward : {total_reward}\")"
   ]
  },
  {
   "cell_type": "code",
   "execution_count": 85,
   "id": "c7d9a560-8f42-4a73-8af8-39011b18488d",
   "metadata": {},
   "outputs": [
    {
     "data": {
      "text/plain": [
       "<tf.Tensor: shape=(20, 70), dtype=int32, numpy=\n",
       "array([[4442, 4442, 4442, ..., 4442, 4442, 4442],\n",
       "       [4442, 4442, 4442, ..., 4442, 4442, 4442],\n",
       "       [4442, 4442, 4442, ..., 4442, 4442, 4442],\n",
       "       ...,\n",
       "       [4442, 4442, 4442, ..., 4442, 4442, 4442],\n",
       "       [4442, 4442, 4442, ..., 4442, 4442, 4442],\n",
       "       [4442, 4442, 4442, ..., 4442, 4442, 4442]], dtype=int32)>"
      ]
     },
     "execution_count": 85,
     "metadata": {},
     "output_type": "execute_result"
    }
   ],
   "source": [
    "# GLOBAL_DIM = 40 \n",
    "# PER_ARM_DIM = 50\n",
    "# reward_param = list(np.random.randint(0, 10, [GLOBAL_DIM + PER_ARM_DIM]))\n",
    "# global_obs = tf.constant(np.random.randint(1, 13, dtype=np.int32), shape=[20, 40])      # [20, 40]\n",
    "# per_arm_obs = tf.constant(np.random.randint(1, 13, dtype=np.int32), shape=[20, 70, 50])\n",
    "# num_actions = tf.shape(per_arm_obs)[1]\n",
    "# tiled_global = tf.tile(\n",
    "#     tf.expand_dims(global_obs, axis=1), [1, num_actions, 1] # [20, 70, 40]\n",
    "# )\n",
    "# concatenated = tf.concat([tiled_global, per_arm_obs], axis=-1) # [20, 70, 90]\n",
    "# rewards = tf.linalg.matvec(concatenated, reward_param)\n",
    "# rewards"
   ]
  },
  {
   "cell_type": "markdown",
   "id": "8255c7b3-58fd-4a45-84b8-fbad4763c59b",
   "metadata": {},
   "source": [
    "#### tmp - debugging dataset - END"
   ]
  },
  {
   "cell_type": "markdown",
   "id": "e44c70be-dcbb-4f7d-ace1-003dd5032f56",
   "metadata": {},
   "source": [
    "## Agent config"
   ]
  },
  {
   "cell_type": "code",
   "execution_count": 15,
   "id": "c021067a-2432-42a0-bee0-bd22af7ae87e",
   "metadata": {},
   "outputs": [
    {
     "name": "stdout",
     "output_type": "stream",
     "text": [
      "BATCH_SIZE      : 128\n",
      "EVAL_BATCH_SIZE : 1\n",
      "NUM_ACTIONS     : 2\n",
      "GLOBAL_DIM      : 72\n",
      "PER_ARM_DIM     : 64\n"
     ]
    }
   ],
   "source": [
    "BATCH_SIZE      = 128\n",
    "NUM_ACTIONS     = 2\n",
    "\n",
    "EVAL_BATCH_SIZE = 1\n",
    "\n",
    "AGENT_TYPE      = 'epsGreedy' # 'LinUCB' | 'LinTS |, 'epsGreedy' | 'NeuralLinUCB'\n",
    "AGENT_ALPHA     = 0.1\n",
    "EPSILON         = 0.01\n",
    "LR              = 0.05\n",
    "ENCODING_DIM    = 1\n",
    "EPS_PHASE_STEPS = 1000\n",
    "\n",
    "GLOBAL_LAYERS   = [GLOBAL_DIM, int(GLOBAL_DIM/2), int(GLOBAL_DIM/4)]\n",
    "ARM_LAYERS      = [PER_ARM_DIM, int(PER_ARM_DIM/2), int(PER_ARM_DIM/4)]\n",
    "FIRST_COMMON_LAYER = GLOBAL_LAYERS[-1] + ARM_LAYERS[-1] # min(GLOBAL_LAYERS[-1], ARM_LAYERS[-1])\n",
    "COMMON_LAYERS = [\n",
    "    int(FIRST_COMMON_LAYER),\n",
    "    # int(FIRST_COMMON_LAYER/2),\n",
    "    int(FIRST_COMMON_LAYER/4)\n",
    "]\n",
    "\n",
    "NETWORK_TYPE = \"commontower\" # 'commontower' | 'dotproduct'\n",
    "if AGENT_TYPE == 'NeuralLinUCB':\n",
    "    NETWORK_TYPE = 'commontower'\n",
    "    ENCODING_DIM = COMMON_LAYERS[-1] \n",
    "if NETWORK_TYPE == 'dotproduct':\n",
    "    assert GLOBAL_LAYERS[0] == ARM_LAYERS[0]\n",
    "\n",
    "print(f\"BATCH_SIZE      : {BATCH_SIZE}\")\n",
    "print(f\"EVAL_BATCH_SIZE : {EVAL_BATCH_SIZE}\")\n",
    "print(f\"NUM_ACTIONS     : {NUM_ACTIONS}\")\n",
    "print(f\"GLOBAL_DIM      : {GLOBAL_DIM}\")\n",
    "print(f\"PER_ARM_DIM     : {PER_ARM_DIM}\")"
   ]
  },
  {
   "cell_type": "code",
   "execution_count": 16,
   "id": "bd0287da-4183-484c-ae8f-c774527aa112",
   "metadata": {
    "tags": []
   },
   "outputs": [
    {
     "name": "stdout",
     "output_type": "stream",
     "text": [
      "{'agent_alpha': 0.1,\n",
      " 'agent_type': 'epsGreedy',\n",
      " 'arm_emb_size': 16,\n",
      " 'batch_size': 128,\n",
      " 'common_layers': [34, 8],\n",
      " 'debug_summaries': True,\n",
      " 'encoding_dim': 1,\n",
      " 'eps_phase_steps': 1000,\n",
      " 'epsilon': 0.01,\n",
      " 'eval_batch_size': 1,\n",
      " 'global_dim': 72,\n",
      " 'global_emb_size': 12,\n",
      " 'global_layers': [72, 36, 18],\n",
      " 'learning_rate': 0.05,\n",
      " 'network_type': 'commontower',\n",
      " 'num_actions': 2,\n",
      " 'per_arm_dim': 64,\n",
      " 'per_arm_layers': [64, 32, 16],\n",
      " 'summarize_grads_and_vars': False}\n"
     ]
    }
   ],
   "source": [
    "HPARAMS = {  # TODO - streamline and consolidate\n",
    "    \"batch_size\": BATCH_SIZE,\n",
    "    \"eval_batch_size\" : EVAL_BATCH_SIZE,\n",
    "    \"num_actions\": NUM_ACTIONS,\n",
    "    \"agent_type\": AGENT_TYPE,\n",
    "    \"network_type\": NETWORK_TYPE,\n",
    "    \"global_emb_size\": GLOBAL_EMBEDDING_SIZE,\n",
    "    \"arm_emb_size\": MV_EMBEDDING_SIZE,\n",
    "    \"global_dim\": GLOBAL_DIM,\n",
    "    \"per_arm_dim\": PER_ARM_DIM,\n",
    "    \"agent_alpha\": AGENT_ALPHA,\n",
    "    \"global_layers\": GLOBAL_LAYERS,\n",
    "    \"per_arm_layers\": ARM_LAYERS,\n",
    "    \"common_layers\": COMMON_LAYERS,\n",
    "    \"learning_rate\": LR,\n",
    "    \"epsilon\": EPSILON,\n",
    "    \"encoding_dim\": ENCODING_DIM,\n",
    "    \"eps_phase_steps\": EPS_PHASE_STEPS,\n",
    "    \"summarize_grads_and_vars\" : False,\n",
    "    \"debug_summaries\": True,\n",
    "}\n",
    "pprint(HPARAMS)"
   ]
  },
  {
   "cell_type": "markdown",
   "id": "b1502d95-6459-4aa1-83a1-ac1d3d44f1d8",
   "metadata": {},
   "source": [
    "## Define Vertex Experiment"
   ]
  },
  {
   "cell_type": "code",
   "execution_count": 17,
   "id": "8c4e6998-29df-4709-a0f7-241396b29df7",
   "metadata": {},
   "outputs": [
    {
     "name": "stdout",
     "output_type": "stream",
     "text": [
      "EXPERIMENT_NAME   : 2x-optimized-train-eval-v4\n",
      "RUN_NAME          : run-20240618-193056\n",
      "\n",
      "CHECKPT_DIR       : gs://rec-bandits-v2-hybrid-vertex-bucket/2x-optimized-train-eval-v4/chkpoint\n",
      "BASE_OUTPUT_DIR   : gs://rec-bandits-v2-hybrid-vertex-bucket/2x-optimized-train-eval-v4/run-20240618-193056\n",
      "LOG_DIR           : gs://rec-bandits-v2-hybrid-vertex-bucket/2x-optimized-train-eval-v4/run-20240618-193056/logs\n",
      "ARTIFACTS_DIR     : gs://rec-bandits-v2-hybrid-vertex-bucket/2x-optimized-train-eval-v4/run-20240618-193056/artifacts\n"
     ]
    }
   ],
   "source": [
    "EXPERIMENT_NAME   = f'2x-optimized-train-eval-v4'\n",
    "\n",
    "invoke_time       = time.strftime(\"%Y%m%d-%H%M%S\")\n",
    "RUN_NAME          = f'run-{invoke_time}'\n",
    "\n",
    "CHECKPT_DIR       = f\"{BUCKET_URI}/{EXPERIMENT_NAME}/chkpoint\"\n",
    "BASE_OUTPUT_DIR   = f\"{BUCKET_URI}/{EXPERIMENT_NAME}/{RUN_NAME}\"\n",
    "LOG_DIR           = f\"{BASE_OUTPUT_DIR}/logs\"\n",
    "ARTIFACTS_DIR     = f\"{BASE_OUTPUT_DIR}/artifacts\"\n",
    "\n",
    "print(f\"EXPERIMENT_NAME   : {EXPERIMENT_NAME}\")\n",
    "print(f\"RUN_NAME          : {RUN_NAME}\\n\")\n",
    "print(f\"CHECKPT_DIR       : {CHECKPT_DIR}\")\n",
    "print(f\"BASE_OUTPUT_DIR   : {BASE_OUTPUT_DIR}\")\n",
    "print(f\"LOG_DIR           : {LOG_DIR}\")\n",
    "print(f\"ARTIFACTS_DIR     : {ARTIFACTS_DIR}\")"
   ]
  },
  {
   "cell_type": "markdown",
   "id": "7d775809-a925-432c-b701-c34f2ad67ec9",
   "metadata": {},
   "source": [
    "## Train config\n",
    "\n",
    "> config training and evaluation loops"
   ]
  },
  {
   "cell_type": "code",
   "execution_count": 18,
   "id": "24966811-8e56-46a6-b867-781e0698a9a4",
   "metadata": {},
   "outputs": [],
   "source": [
    "NUM_EPOCHS       = 2\n",
    "LOG_INTERVAL     = 10\n",
    "CHKPT_INTERVAL   = 1000\n",
    "TOTAL_TRAIN_TAKE = 50\n",
    "TOTAL_TRAIN_SKIP = 0\n",
    "\n",
    "PROFILER   = False\n",
    "CACHE_DATA = False"
   ]
  },
  {
   "cell_type": "markdown",
   "id": "b5018cf2-1958-4e0a-a3d8-36e32ec0da54",
   "metadata": {},
   "source": [
    "### training loop"
   ]
  },
  {
   "cell_type": "code",
   "execution_count": 19,
   "id": "658c323f-1567-4f1a-a281-974d494bd4f5",
   "metadata": {
    "tags": []
   },
   "outputs": [
    {
     "data": {
      "text/html": [
       "\n",
       "        \n",
       "    <link rel=\"stylesheet\" href=\"https://fonts.googleapis.com/icon?family=Material+Icons\">\n",
       "    <style>\n",
       "      .view-vertex-resource,\n",
       "      .view-vertex-resource:hover,\n",
       "      .view-vertex-resource:visited {\n",
       "        position: relative;\n",
       "        display: inline-flex;\n",
       "        flex-direction: row;\n",
       "        height: 32px;\n",
       "        padding: 0 12px;\n",
       "          margin: 4px 18px;\n",
       "        gap: 4px;\n",
       "        border-radius: 4px;\n",
       "\n",
       "        align-items: center;\n",
       "        justify-content: center;\n",
       "        background-color: rgb(255, 255, 255);\n",
       "        color: rgb(51, 103, 214);\n",
       "\n",
       "        font-family: Roboto,\"Helvetica Neue\",sans-serif;\n",
       "        font-size: 13px;\n",
       "        font-weight: 500;\n",
       "        text-transform: uppercase;\n",
       "        text-decoration: none !important;\n",
       "\n",
       "        transition: box-shadow 280ms cubic-bezier(0.4, 0, 0.2, 1) 0s;\n",
       "        box-shadow: 0px 3px 1px -2px rgba(0,0,0,0.2), 0px 2px 2px 0px rgba(0,0,0,0.14), 0px 1px 5px 0px rgba(0,0,0,0.12);\n",
       "      }\n",
       "      .view-vertex-resource:active {\n",
       "        box-shadow: 0px 5px 5px -3px rgba(0,0,0,0.2),0px 8px 10px 1px rgba(0,0,0,0.14),0px 3px 14px 2px rgba(0,0,0,0.12);\n",
       "      }\n",
       "      .view-vertex-resource:active .view-vertex-ripple::before {\n",
       "        position: absolute;\n",
       "        top: 0;\n",
       "        bottom: 0;\n",
       "        left: 0;\n",
       "        right: 0;\n",
       "        border-radius: 4px;\n",
       "        pointer-events: none;\n",
       "\n",
       "        content: '';\n",
       "        background-color: rgb(51, 103, 214);\n",
       "        opacity: 0.12;\n",
       "      }\n",
       "      .view-vertex-icon {\n",
       "        font-size: 18px;\n",
       "      }\n",
       "    </style>\n",
       "  \n",
       "        <a class=\"view-vertex-resource\" id=\"view-vertex-resource-3105bc0d-1f3e-4a59-96ee-20d5fce6cf5d\" href=\"#view-view-vertex-resource-3105bc0d-1f3e-4a59-96ee-20d5fce6cf5d\">\n",
       "          <span class=\"material-icons view-vertex-icon\">science</span>\n",
       "          <span>View Experiment</span>\n",
       "        </a>\n",
       "        \n",
       "        <script>\n",
       "          (function () {\n",
       "            const link = document.getElementById('view-vertex-resource-3105bc0d-1f3e-4a59-96ee-20d5fce6cf5d');\n",
       "            link.addEventListener('click', (e) => {\n",
       "              if (window.google?.colab?.openUrl) {\n",
       "                window.google.colab.openUrl('https://console.cloud.google.com/vertex-ai/experiments/locations/us-central1/experiments/2x-optimized-train-eval-v4/runs?project=hybrid-vertex');\n",
       "              } else {\n",
       "                window.open('https://console.cloud.google.com/vertex-ai/experiments/locations/us-central1/experiments/2x-optimized-train-eval-v4/runs?project=hybrid-vertex', '_blank');\n",
       "              }\n",
       "              e.stopPropagation();\n",
       "              e.preventDefault();\n",
       "            });\n",
       "          })();\n",
       "        </script>\n",
       "    "
      ],
      "text/plain": [
       "<IPython.core.display.HTML object>"
      ]
     },
     "metadata": {},
     "output_type": "display_data"
    },
    {
     "name": "stdout",
     "output_type": "stream",
     "text": [
      "hparams dict:\n",
      "{'agent_alpha': 0.1,\n",
      " 'agent_type': 'epsGreedy',\n",
      " 'arm_emb_size': 16,\n",
      " 'batch_size': 128,\n",
      " 'common_layers': [34, 8],\n",
      " 'debug_summaries': True,\n",
      " 'encoding_dim': 1,\n",
      " 'eps_phase_steps': 1000,\n",
      " 'epsilon': 0.01,\n",
      " 'eval_batch_size': 1,\n",
      " 'global_dim': 72,\n",
      " 'global_emb_size': 12,\n",
      " 'global_layers': [72, 36, 18],\n",
      " 'learning_rate': 0.05,\n",
      " 'network_type': 'commontower',\n",
      " 'num_actions': 2,\n",
      " 'per_arm_dim': 64,\n",
      " 'per_arm_layers': [64, 32, 16],\n",
      " 'summarize_grads_and_vars': False}\n",
      "GLOBAL_BATCH_SIZE     : 128\n",
      "distribution_strategy : <tensorflow.python.distribute.mirrored_strategy.MirroredStrategy object at 0x7f973a4d2ef0>\n",
      "NUM_REPLICAS          : 1\n",
      "set checkpoint_manager: gs://rec-bandits-v2-hybrid-vertex-bucket/2x-optimized-train-eval-v4/chkpoint\n",
      "set saver: <tf_agents.policies.policy_saver.PolicySaver object at 0x7f97323bfd60>\n",
      "setting dataset total_take: 50\n",
      "starting train loop...\n",
      "epoch: 1\n",
      "step = 0: loss = 13.579999923706055\n",
      "step = 10: loss = 12.140000343322754\n",
      "step = 20: loss = 10.390000343322754\n",
      "step = 30: loss = 1.4500000476837158\n",
      "step = 40: loss = 2.4200000762939453\n",
      "epoch: 2\n",
      "step = 50: loss = 1.3200000524520874\n",
      "step = 60: loss = 1.2699999809265137\n",
      "step = 70: loss = 1.1200000047683716\n",
      "step = 80: loss = 1.3899999856948853\n",
      "step = 90: loss = 1.2300000190734863\n",
      "train runtime_mins          : 0\n",
      "saved to checkpoint_manager : gs://rec-bandits-v2-hybrid-vertex-bucket/2x-optimized-train-eval-v4/chkpoint\n",
      "saved trained policy to     : gs://rec-bandits-v2-hybrid-vertex-bucket/2x-optimized-train-eval-v4/run-20240618-193056/artifacts\n",
      "complete train job in 0 minutes\n"
     ]
    }
   ],
   "source": [
    "#start the timer and training\n",
    "start_time = time.time()\n",
    "\n",
    "# tf.profiler.experimental.start(LOG_DIR)\n",
    "train_loss, agent = train_batched_ds.train(\n",
    "    hparams=HPARAMS,\n",
    "    experiment_name=EXPERIMENT_NAME,\n",
    "    experiment_run=RUN_NAME,\n",
    "    num_epochs = NUM_EPOCHS,\n",
    "    log_dir=LOG_DIR,\n",
    "    artifacts_dir=ARTIFACTS_DIR,\n",
    "    chkpoint_dir=CHECKPT_DIR,\n",
    "    tfrecord_file=TFRECORD_FILE,\n",
    "    log_interval=LOG_INTERVAL,\n",
    "    # chkpt_interval=CHKPT_INTERVAL,\n",
    "    use_gpu = True,\n",
    "    # profiler = PROFILER,\n",
    "    total_take = TOTAL_TRAIN_TAKE,\n",
    "    total_skip = TOTAL_TRAIN_SKIP,\n",
    "    cache_train_data = CACHE_DATA,\n",
    ")\n",
    "# tf.profiler.experimental.stop()\n",
    "\n",
    "end_time = time.time()\n",
    "runtime_mins = int((end_time - start_time) / 60)\n",
    "print(f\"complete train job in {runtime_mins} minutes\")"
   ]
  },
  {
   "cell_type": "code",
   "execution_count": null,
   "id": "0d67614e-0601-48fb-8cc7-735469ad1601",
   "metadata": {},
   "outputs": [],
   "source": [
    "# tf.profiler.experimental.stop()"
   ]
  },
  {
   "cell_type": "code",
   "execution_count": 20,
   "id": "3ebc782f-59ed-49ea-8f11-afbadd5c0f47",
   "metadata": {},
   "outputs": [
    {
     "data": {
      "text/plain": [
       "1.0382987"
      ]
     },
     "execution_count": 20,
     "metadata": {},
     "output_type": "execute_result"
    }
   ],
   "source": [
    "train_loss[-1]"
   ]
  },
  {
   "cell_type": "code",
   "execution_count": 21,
   "id": "81f01889-1319-4f3b-a96c-35169ade4927",
   "metadata": {},
   "outputs": [
    {
     "data": {
      "text/plain": [
       "float"
      ]
     },
     "execution_count": 21,
     "metadata": {},
     "output_type": "execute_result"
    }
   ],
   "source": [
    "type(train_loss[0].tolist())"
   ]
  },
  {
   "cell_type": "markdown",
   "id": "8cf8eaf3-581a-4382-a39a-7bd6640cc4e2",
   "metadata": {
    "tags": []
   },
   "source": [
    "## Evaluate Train job"
   ]
  },
  {
   "cell_type": "code",
   "execution_count": 22,
   "id": "5b78fe5b-2178-48e3-a8b4-1704dc3f21ec",
   "metadata": {},
   "outputs": [
    {
     "data": {
      "image/png": "[encoded data removed]",
      "text/plain": [
       "<Figure size 640x480 with 1 Axes>"
      ]
     },
     "metadata": {},
     "output_type": "display_data"
    }
   ],
   "source": [
    "import matplotlib.pyplot as plt\n",
    "\n",
    "plt.plot(train_loss)\n",
    "plt.ylabel('loss')\n",
    "plt.show()"
   ]
  },
  {
   "cell_type": "markdown",
   "id": "e80b96b6-c621-48f6-89f2-a9501c7efd62",
   "metadata": {},
   "source": [
    "#### Load TensorBoard\n",
    "\n",
    "> on the right-hand side, find `PROFILE` in the drop down:\n",
    "\n",
    "<img src=\"imgs/getting_profiler.png\" \n",
    "     align=\"center\" \n",
    "     width=\"850\"\n",
    "     height=\"850\"/>\n",
    "     \n",
    "<!-- tf_vertex_agents/imgs/getting_profiler.png -->"
   ]
  },
  {
   "cell_type": "code",
   "execution_count": 23,
   "id": "b6877c9d-b4ed-4280-bec2-73a5a979538c",
   "metadata": {},
   "outputs": [],
   "source": [
    "# %load_ext tensorboard\n",
    "%reload_ext tensorboard"
   ]
  },
  {
   "cell_type": "code",
   "execution_count": 24,
   "id": "c5283ce6-c8e5-4492-868d-4cd48c5da313",
   "metadata": {},
   "outputs": [
    {
     "data": {
      "text/html": [
       "\n",
       "      <iframe id=\"tensorboard-frame-39ba464bfa93a2c5\" width=\"100%\" height=\"800\" frameborder=\"0\">\n",
       "      </iframe>\n",
       "      <script>\n",
       "        (function() {\n",
       "          const frame = document.getElementById(\"tensorboard-frame-39ba464bfa93a2c5\");\n",
       "          const url = new URL(\"/proxy/6006/\", window.location);\n",
       "          const port = 0;\n",
       "          if (port) {\n",
       "            url.port = port;\n",
       "          }\n",
       "          frame.src = url;\n",
       "        })();\n",
       "      </script>\n",
       "    "
      ],
      "text/plain": [
       "<IPython.core.display.HTML object>"
      ]
     },
     "metadata": {},
     "output_type": "display_data"
    }
   ],
   "source": [
    "%tensorboard --logdir=$LOG_DIR"
   ]
  },
  {
   "cell_type": "code",
   "execution_count": 25,
   "id": "4f6cdb72-d0b8-4b05-84e1-13e016980dde",
   "metadata": {},
   "outputs": [
    {
     "name": "stdout",
     "output_type": "stream",
     "text": [
      "gs://rec-bandits-v2-hybrid-vertex-bucket/2x-optimized-train-eval-v4/run-20240618-193056/artifacts/\n",
      "gs://rec-bandits-v2-hybrid-vertex-bucket/2x-optimized-train-eval-v4/run-20240618-193056/artifacts/fingerprint.pb\n",
      "gs://rec-bandits-v2-hybrid-vertex-bucket/2x-optimized-train-eval-v4/run-20240618-193056/artifacts/policy_specs.pbtxt\n",
      "gs://rec-bandits-v2-hybrid-vertex-bucket/2x-optimized-train-eval-v4/run-20240618-193056/artifacts/saved_model.pb\n",
      "gs://rec-bandits-v2-hybrid-vertex-bucket/2x-optimized-train-eval-v4/run-20240618-193056/artifacts/assets/\n",
      "gs://rec-bandits-v2-hybrid-vertex-bucket/2x-optimized-train-eval-v4/run-20240618-193056/artifacts/variables/\n"
     ]
    }
   ],
   "source": [
    "! gsutil ls $ARTIFACTS_DIR"
   ]
  },
  {
   "cell_type": "markdown",
   "id": "708eb7a7-510d-4d53-becc-49276f7a7532",
   "metadata": {
    "tags": []
   },
   "source": [
    "# Evaluate policy\n",
    "\n",
    "> Evaluate the agent's policy once after training"
   ]
  },
  {
   "cell_type": "markdown",
   "id": "5ec10a31-818d-4577-aae6-f07092ec6395",
   "metadata": {},
   "source": [
    "## Get eval dataset"
   ]
  },
  {
   "cell_type": "code",
   "execution_count": 26,
   "id": "36a61d1a-5265-4898-b88f-37a5670d1950",
   "metadata": {},
   "outputs": [],
   "source": [
    "def _get_rewards(observation):\n",
    "    return observation.target_movie_rating # reward\n",
    "\n",
    "def optimal_reward(observation):\n",
    "    \"\"\"\n",
    "    Outputs the maximum expected reward for every element in the batch\n",
    "    \"\"\"\n",
    "    return tf.reduce_max(_get_rewards(observation), axis=1)"
   ]
  },
  {
   "cell_type": "code",
   "execution_count": 27,
   "id": "ce79da3a-eb75-4abb-93db-85c8172307fa",
   "metadata": {},
   "outputs": [
    {
     "name": "stdout",
     "output_type": "stream",
     "text": [
      "NUM_EVAL_SAMPLES : 99417\n"
     ]
    }
   ],
   "source": [
    "SPLIT = \"val\"\n",
    "\n",
    "val_files = []\n",
    "for blob in storage_client.list_blobs(f\"{BUCKET_NAME}\", prefix=f'{EXAMPLE_GEN_GCS_PATH}/{SPLIT}'):\n",
    "    if '.tfrecord' in blob.name:\n",
    "        val_files.append(blob.public_url.replace(\"https://storage.googleapis.com/\", \"gs://\"))\n",
    "        \n",
    "val_dataset = tf.data.TFRecordDataset(val_files)\n",
    "val_dataset = val_dataset.map(data_utils._parse_function, num_parallel_calls=tf.data.AUTOTUNE)\n",
    "\n",
    "eval_ds = val_dataset.batch(HPARAMS[\"eval_batch_size\"])\n",
    "    \n",
    "NUM_EVAL_SAMPLES = len(list(eval_ds))\n",
    "print(f\"NUM_EVAL_SAMPLES : {NUM_EVAL_SAMPLES}\")"
   ]
  },
  {
   "cell_type": "code",
   "execution_count": 28,
   "id": "f073f0b3-b063-422f-b8c6-f1b3a806fe36",
   "metadata": {},
   "outputs": [
    {
     "data": {
      "text/plain": [
       "int"
      ]
     },
     "execution_count": 28,
     "metadata": {},
     "output_type": "execute_result"
    }
   ],
   "source": [
    "type(NUM_EVAL_SAMPLES)"
   ]
  },
  {
   "cell_type": "code",
   "execution_count": 29,
   "id": "4c3486e2-1cb5-436a-85b3-c58125596163",
   "metadata": {},
   "outputs": [],
   "source": [
    "NUM_EVAL_STEPS  = 10_000\n",
    "\n",
    "if NUM_EVAL_STEPS > 0:\n",
    "    eval_ds = eval_ds.take(NUM_EVAL_STEPS)"
   ]
  },
  {
   "cell_type": "code",
   "execution_count": 30,
   "id": "08de2fc1-6da1-494c-97ac-9f40392c26e3",
   "metadata": {},
   "outputs": [
    {
     "name": "stdout",
     "output_type": "stream",
     "text": [
      "total_val_reward : 35886.0\n"
     ]
    }
   ],
   "source": [
    "val_rewards = []\n",
    "\n",
    "for x in eval_ds:\n",
    "    # print(x)\n",
    "    # break\n",
    "    val_rewards.append(x['target_movie_rating'][0].numpy())\n",
    "    \n",
    "total_val_reward = tf.reduce_sum(val_rewards)\n",
    "print(f\"total_val_reward : {total_val_reward}\")"
   ]
  },
  {
   "cell_type": "code",
   "execution_count": 31,
   "id": "abadacdb-7023-4196-81cd-45b914210a5c",
   "metadata": {},
   "outputs": [
    {
     "data": {
      "text/plain": [
       "float"
      ]
     },
     "execution_count": 31,
     "metadata": {},
     "output_type": "execute_result"
    }
   ],
   "source": [
    "type(total_val_reward.numpy().tolist())"
   ]
  },
  {
   "cell_type": "code",
   "execution_count": 32,
   "id": "f5c79928-2bec-4743-9b3f-224c27853462",
   "metadata": {},
   "outputs": [
    {
     "data": {
      "text/plain": [
       "35886.0"
      ]
     },
     "execution_count": 32,
     "metadata": {},
     "output_type": "execute_result"
    }
   ],
   "source": [
    "total_val_reward.numpy().tolist()"
   ]
  },
  {
   "cell_type": "markdown",
   "id": "d57accb3-6571-4251-bd1c-e665ee2140b7",
   "metadata": {},
   "source": [
    "### load trained policy"
   ]
  },
  {
   "cell_type": "code",
   "execution_count": 33,
   "id": "f1a3719d-a35c-433f-b093-8d5b4173cc8f",
   "metadata": {},
   "outputs": [
    {
     "data": {
      "text/plain": [
       "<tf_agents.policies.py_tf_eager_policy.SavedModelPyTFEagerPolicy at 0x7f97304043a0>"
      ]
     },
     "execution_count": 33,
     "metadata": {},
     "output_type": "execute_result"
    }
   ],
   "source": [
    "trained_policy = py_tf_eager_policy.SavedModelPyTFEagerPolicy(\n",
    "    ARTIFACTS_DIR, load_specs_from_pbtxt=True\n",
    ")\n",
    "trained_policy"
   ]
  },
  {
   "cell_type": "code",
   "execution_count": 34,
   "id": "ef9a5b32-f273-4a0a-a211-1b15d58ac583",
   "metadata": {},
   "outputs": [],
   "source": [
    "from src.trainer import eval_perarm"
   ]
  },
  {
   "cell_type": "code",
   "execution_count": 37,
   "id": "f8257237-5c04-4bda-8105-58ba64fd1e09",
   "metadata": {},
   "outputs": [
    {
     "name": "stdout",
     "output_type": "stream",
     "text": [
      "evaluating trained Agent...\n",
      "post-train val_loss     : 1.2969787120819092\n",
      "post-train eval runtime : 9\n"
     ]
    }
   ],
   "source": [
    "# ====================================================\n",
    "# Evaluate the agent's policy once after training\n",
    "# ====================================================\n",
    "print(f\"evaluating trained Agent...\")\n",
    "\n",
    "# post_policy_tf = py_tf_eager_policy.PyTFEagerPolicy(agent.policy, use_tf_function=True)\n",
    "start_time = time.time()\n",
    "\n",
    "val_loss, preds, tr_rewards = eval_perarm._run_bandit_eval(\n",
    "    policy = trained_policy,\n",
    "    data = eval_ds,\n",
    "    eval_batch_size = HPARAMS['eval_batch_size'],\n",
    "    per_arm_dim = HPARAMS['per_arm_dim'],\n",
    "    global_dim = HPARAMS['global_dim'],\n",
    "    vocab_dict = vocab_dict,\n",
    "    num_oov_buckets = 1,\n",
    "    global_emb_size = HPARAMS['global_emb_size'],\n",
    "    mv_emb_size = HPARAMS['arm_emb_size'],\n",
    ")\n",
    "\n",
    "runtime_mins = int((time.time() - start_time) / 60)\n",
    "print(f\"post-train val_loss     : {val_loss}\")\n",
    "print(f\"post-train eval runtime : {runtime_mins}\")"
   ]
  },
  {
   "cell_type": "code",
   "execution_count": 38,
   "id": "441d2d20-0935-4048-ae09-e1179078f577",
   "metadata": {},
   "outputs": [
    {
     "data": {
      "text/plain": [
       "1.2969787"
      ]
     },
     "execution_count": 38,
     "metadata": {},
     "output_type": "execute_result"
    }
   ],
   "source": [
    "val_loss.numpy()"
   ]
  },
  {
   "cell_type": "code",
   "execution_count": 41,
   "id": "f2808d49-ec8b-436b-b33d-768f3461a605",
   "metadata": {
    "tags": []
   },
   "outputs": [],
   "source": [
    "predicted_rewards = preds\n",
    "# predicted_rewards"
   ]
  },
  {
   "cell_type": "code",
   "execution_count": 42,
   "id": "f4c907b4-7fcc-4bbd-9a4b-fb0b67ba0a78",
   "metadata": {
    "tags": []
   },
   "outputs": [],
   "source": [
    "actual_rewards = tr_rewards\n",
    "# actual_rewards"
   ]
  },
  {
   "cell_type": "code",
   "execution_count": 43,
   "id": "e236298d-1940-4a4f-ac6a-e4d742d3c74e",
   "metadata": {},
   "outputs": [
    {
     "name": "stdout",
     "output_type": "stream",
     "text": [
      "total_val_reward        : 35886.0\n",
      "total_actual_rewards    : 35886.0\n",
      "total_predicted_rewards : 34683.91796875\n",
      "reward_gap              : 1202.08203125\n",
      "reward_gap_percent      : 96.65%\n"
     ]
    }
   ],
   "source": [
    "total_actual_rewards = tf.reduce_sum(actual_rewards).numpy()\n",
    "total_predicted_rewards = tf.reduce_sum(predicted_rewards).numpy()\n",
    "reward_gap = total_val_reward - total_predicted_rewards\n",
    "reward_gap_percent = round((total_predicted_rewards / total_actual_rewards) * 100.0, 2)\n",
    "\n",
    "print(f\"total_val_reward        : {total_val_reward}\")\n",
    "print(f\"total_actual_rewards    : {total_actual_rewards}\")\n",
    "print(f\"total_predicted_rewards : {total_predicted_rewards}\")\n",
    "print(f\"reward_gap              : {reward_gap}\")\n",
    "print(f\"reward_gap_percent      : {reward_gap_percent}%\")"
   ]
  },
  {
   "cell_type": "markdown",
   "id": "8ecf7c75-1f28-426e-b0f1-9d949f956462",
   "metadata": {},
   "source": [
    "# Notes"
   ]
  },
  {
   "cell_type": "markdown",
   "id": "5d20dc86-0c53-45f1-b7e2-4fd9043e9391",
   "metadata": {},
   "source": [
    "### Train dataset"
   ]
  },
  {
   "cell_type": "code",
   "execution_count": 50,
   "id": "da400204-14cb-4069-aac2-7ef19bcd3dd1",
   "metadata": {},
   "outputs": [
    {
     "data": {
      "text/plain": [
       "'gs://rec-bandits-v2-hybrid-vertex-bucket/data/movielens/m1m/mv_b128_g12_a16_v6/mv_b128_g12_a16_v6.tfrecord'"
      ]
     },
     "execution_count": 50,
     "metadata": {},
     "output_type": "execute_result"
    }
   ],
   "source": [
    "TFRECORD_FILE"
   ]
  },
  {
   "cell_type": "code",
   "execution_count": 41,
   "id": "902eff4f-43de-44bc-9cff-3d33380a605c",
   "metadata": {},
   "outputs": [
    {
     "data": {
      "text/plain": [
       "<_MapDataset element_spec={'action': TensorSpec(shape=(), dtype=tf.string, name=None), 'chosen_arm_features': TensorSpec(shape=(), dtype=tf.string, name=None), 'discount': TensorSpec(shape=(), dtype=tf.string, name=None), 'next_step_type': TensorSpec(shape=(), dtype=tf.string, name=None), 'observation': TensorSpec(shape=(), dtype=tf.string, name=None), 'reward': TensorSpec(shape=(), dtype=tf.string, name=None), 'step_type': TensorSpec(shape=(), dtype=tf.string, name=None)}>"
      ]
     },
     "execution_count": 41,
     "metadata": {},
     "output_type": "execute_result"
    }
   ],
   "source": [
    "_raw_dataset = tf.data.TFRecordDataset([TFRECORD_FILE])\n",
    "_parsed_dataset = _raw_dataset.map(preprocess_utils._parse_record)\n",
    "_parsed_dataset"
   ]
  },
  {
   "cell_type": "code",
   "execution_count": 42,
   "id": "71514679-e5da-4fcb-8e92-ea23b1f97964",
   "metadata": {},
   "outputs": [
    {
     "name": "stdout",
     "output_type": "stream",
     "text": [
      "total_ds_size : 7766\n"
     ]
    }
   ],
   "source": [
    "total_ds_size = len(list(_parsed_dataset))\n",
    "\n",
    "print(f\"total_ds_size : {total_ds_size}\")"
   ]
  },
  {
   "cell_type": "code",
   "execution_count": 49,
   "id": "d9e22643-d225-4a45-afe8-c59e96aec766",
   "metadata": {},
   "outputs": [
    {
     "data": {
      "text/plain": [
       "10"
      ]
     },
     "execution_count": 49,
     "metadata": {},
     "output_type": "execute_result"
    }
   ],
   "source": [
    "total_take=10\n",
    "\n",
    "test_take_ds = _parsed_dataset.take(count=total_take)\n",
    "\n",
    "count = 0\n",
    "for x in test_take_ds:\n",
    "    _parsed_trajectories = preprocess_utils.build_trajectory_from_tfrecord(\n",
    "        x, HPARAMS['batch_size'], HPARAMS['num_actions']\n",
    "    )\n",
    "    count+=1\n",
    "    \n",
    "# _parsed_trajectories\n",
    "count"
   ]
  },
  {
   "cell_type": "markdown",
   "id": "fb05da6f-8def-4243-b586-691322edcd47",
   "metadata": {},
   "source": [
    "## Val dataset"
   ]
  },
  {
   "cell_type": "code",
   "execution_count": 43,
   "id": "72e13c0f-4225-4a64-a53e-aa5966fa35e7",
   "metadata": {},
   "outputs": [
    {
     "data": {
      "text/plain": [
       "<_ParallelMapDataset element_spec={'target_movie_genres': TensorSpec(shape=(10,), dtype=tf.string, name=None), 'target_movie_id': TensorSpec(shape=(), dtype=tf.string, name=None), 'target_movie_rating': TensorSpec(shape=(), dtype=tf.float32, name=None), 'target_movie_title': TensorSpec(shape=(), dtype=tf.string, name=None), 'target_movie_year': TensorSpec(shape=(), dtype=tf.int64, name=None), 'target_rating_timestamp': TensorSpec(shape=(), dtype=tf.int64, name=None), 'user_age': TensorSpec(shape=(), dtype=tf.int64, name=None), 'user_gender': TensorSpec(shape=(), dtype=tf.string, name=None), 'user_id': TensorSpec(shape=(), dtype=tf.string, name=None), 'user_occupation_text': TensorSpec(shape=(), dtype=tf.string, name=None), 'user_zip_code': TensorSpec(shape=(), dtype=tf.string, name=None)}>"
      ]
     },
     "execution_count": 43,
     "metadata": {},
     "output_type": "execute_result"
    }
   ],
   "source": [
    "val_dataset"
   ]
  },
  {
   "cell_type": "code",
   "execution_count": 44,
   "id": "ace0f23f-f1db-42c5-bfc3-7a27ce3fda8b",
   "metadata": {},
   "outputs": [
    {
     "name": "stdout",
     "output_type": "stream",
     "text": [
      "total_val_ds_size : 99417\n"
     ]
    }
   ],
   "source": [
    "total_val_ds_size = len(list(val_dataset))\n",
    "\n",
    "print(f\"total_val_ds_size : {total_val_ds_size}\")"
   ]
  },
  {
   "cell_type": "markdown",
   "id": "7f1dcddc-988b-4441-83f2-41a009820b22",
   "metadata": {},
   "source": [
    "**Finished**"
   ]
  }
 ],
 "metadata": {
  "environment": {
   "kernel": "python3",
   "name": "tf2-gpu.2-13.m112",
   "type": "gcloud",
   "uri": "gcr.io/deeplearning-platform-release/tf2-gpu.2-13:m112"
  },
  "kernelspec": {
   "display_name": "Python 3",
   "language": "python",
   "name": "python3"
  },
  "language_info": {
   "codemirror_mode": {
    "name": "ipython",
    "version": 3
   },
   "file_extension": ".py",
   "mimetype": "text/x-python",
   "name": "python",
   "nbconvert_exporter": "python",
   "pygments_lexer": "ipython3",
   "version": "3.10.12"
  }
 },
 "nbformat": 4,
 "nbformat_minor": 5
}
