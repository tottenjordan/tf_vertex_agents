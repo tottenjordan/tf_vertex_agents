{
 "cells": [
  {
   "cell_type": "markdown",
   "id": "c7ce31be-f37c-4b90-afed-054f4324cc83",
   "metadata": {},
   "source": [
    "# Optimize data loading\n",
    "\n",
    "* batching trajectories\n",
    "* storing in BigQuery\n",
    "* loading from BigQuery (in batches)"
   ]
  },
  {
   "cell_type": "markdown",
   "id": "68dd512e-2126-48b2-ad44-661d837845b0",
   "metadata": {},
   "source": [
    "### Notebook config"
   ]
  },
  {
   "cell_type": "code",
   "execution_count": 2,
   "id": "d4aac7dd-1e51-48fb-b1ca-7d4bde480e1c",
   "metadata": {
    "tags": []
   },
   "outputs": [
    {
     "name": "stdout",
     "output_type": "stream",
     "text": [
      "PREFIX: rec-bandits-v2\n"
     ]
    }
   ],
   "source": [
    "VERSION        = \"v2\"                       # TODO\n",
    "PREFIX         = f'rec-bandits-{VERSION}'   # TODO\n",
    "\n",
    "print(f\"PREFIX: {PREFIX}\")"
   ]
  },
  {
   "cell_type": "code",
   "execution_count": 3,
   "id": "47927c4e-d6b1-4df8-99cb-cdc4ff448c7c",
   "metadata": {
    "tags": []
   },
   "outputs": [
    {
     "name": "stdout",
     "output_type": "stream",
     "text": [
      "\n",
      "PROJECT_ID               = \"hybrid-vertex\"\n",
      "PROJECT_NUM              = \"934903580331\"\n",
      "LOCATION                 = \"us-central1\"\n",
      "\n",
      "REGION                   = \"us-central1\"\n",
      "BQ_LOCATION              = \"US\"\n",
      "VPC_NETWORK_NAME         = \"ucaip-haystack-vpc-network\"\n",
      "VERTEX_SA                = \"934903580331-compute@developer.gserviceaccount.com\"\n",
      "\n",
      "PREFIX                   = \"rec-bandits-v2\"\n",
      "VERSION                  = \"v2\"\n",
      "\n",
      "BUCKET_NAME              = \"rec-bandits-v2-hybrid-vertex-bucket\"\n",
      "BUCKET_URI               = \"gs://rec-bandits-v2-hybrid-vertex-bucket\"\n",
      "DATA_GCS_PREFIX          = \"data\"\n",
      "DATA_PATH                = \"gs://rec-bandits-v2-hybrid-vertex-bucket/data\"\n",
      "VOCAB_SUBDIR             = \"vocabs\"\n",
      "VOCAB_FILENAME           = \"vocab_dict.pkl\"\n",
      "\n",
      "VPC_NETWORK_FULL         = \"projects/934903580331/global/networks/ucaip-haystack-vpc-network\"\n",
      "\n",
      "BIGQUERY_DATASET_NAME    = \"mvlens_rec_bandits_v2\"\n",
      "BIGQUERY_TABLE_NAME      = \"training_dataset\"\n",
      "\n",
      "REPOSITORY               = \"rl-movielens-rec-bandits-v2\"\n",
      "\n",
      "DOCKERNAME_01            = \"Dockerfile_train_my_perarm_env\"\n",
      "IMAGE_NAME_01            = \"train-my-perarm-env-v2\"\n",
      "IMAGE_URI_01             = \"gcr.io/hybrid-vertex/train-my-perarm-env-v2\"\n",
      "\n",
      "DOCKERNAME_02            = \"Dockerfile_perarm_feats\"\n",
      "IMAGE_NAME_02            = \"train-perarm-feats-v2\"\n",
      "IMAGE_URI_02             = \"gcr.io/hybrid-vertex/train-perarm-feats-v2\"\n",
      "\n",
      "DOCKERNAME_03            = \"Dockerfile_ranking_bandit\"\n",
      "IMAGE_NAME_03            = \"train-rank-bandit-v2\"\n",
      "IMAGE_URI_03             = \"gcr.io/hybrid-vertex/train-rank-bandit-v2\"\n",
      "\n",
      "DOCKERNAME_04            = \"Dockerfile_train_bandit_e2e\"\n",
      "IMAGE_NAME_04            = \"train-mab-e2e-v2\"\n",
      "IMAGE_URI_04             = \"gcr.io/hybrid-vertex/train-mab-e2e-v2\"\n",
      "\n",
      "DOCKERNAME_04_pred       = \"Dockerfile_pred_bandit_e2e\"\n",
      "IMAGE_NAME_04_pred       = \"pred-mab-e2e-v2\"\n",
      "IMAGE_URI_04_pred        = \"gcr.io/hybrid-vertex/pred-mab-e2e-v2\"\n",
      "\n",
      "REMOTE_IMAGE_NAME        = \"us-central1-docker.pkg.dev/hybrid-vertex/rl-movielens-rec-bandits-v2/local_docker_tfa\"\n",
      "REPO_DOCKER_PATH_PREFIX  = \"src\"\n",
      "\n"
     ]
    }
   ],
   "source": [
    "# staging GCS\n",
    "GCP_PROJECTS             = !gcloud config get-value project\n",
    "PROJECT_ID               = GCP_PROJECTS[0]\n",
    "\n",
    "# GCS bucket and paths\n",
    "BUCKET_NAME              = f'{PREFIX}-{PROJECT_ID}-bucket'\n",
    "BUCKET_URI               = f'gs://{BUCKET_NAME}'\n",
    "\n",
    "config = !gsutil cat {BUCKET_URI}/config/notebook_env.py\n",
    "print(config.n)\n",
    "exec(config.n)"
   ]
  },
  {
   "cell_type": "code",
   "execution_count": 4,
   "id": "a04f477a-afea-4fda-a5b1-4ffa8f6f5733",
   "metadata": {
    "tags": []
   },
   "outputs": [],
   "source": [
    "import os\n",
    "os.environ['TF_CPP_MIN_LOG_LEVEL'] = '2'"
   ]
  },
  {
   "cell_type": "code",
   "execution_count": 5,
   "id": "9c02b659-12f5-45ad-b55f-78209bde14fa",
   "metadata": {
    "tags": []
   },
   "outputs": [],
   "source": [
    "import json\n",
    "import time\n",
    "import functools\n",
    "import collections\n",
    "import pickle as pkl\n",
    "from pprint import pprint\n",
    "from typing import Callable, Dict, List, Optional, TypeVar, Any\n",
    "\n",
    "# logging\n",
    "import logging\n",
    "logging.disable(logging.WARNING)\n",
    "\n",
    "import warnings\n",
    "warnings.filterwarnings('ignore')\n",
    "\n",
    "import matplotlib.pyplot as plt\n",
    "import numpy as np\n",
    "\n",
    "# google cloud\n",
    "from google.cloud import aiplatform, storage, bigquery\n",
    "\n",
    "# tensorflow\n",
    "import tensorflow as tf\n",
    "\n",
    "# tf exceptions and vars\n",
    "if tf.__version__[0] != \"2\":\n",
    "    raise Exception(\"The trainer only runs with TensorFlow version 2.\")\n",
    "\n",
    "T = TypeVar(\"T\")"
   ]
  },
  {
   "cell_type": "code",
   "execution_count": 6,
   "id": "b432e208-1bca-4143-a54c-8ae9edd5a7b8",
   "metadata": {
    "tags": []
   },
   "outputs": [],
   "source": [
    "from tf_agents.specs import tensor_spec\n",
    "from tf_agents.trajectories import time_step as ts\n",
    "from tf_agents.bandits.policies import policy_utilities\n",
    "from tf_agents.bandits.specs import utils as bandit_spec_utils\n",
    "from tf_agents.metrics import tf_metrics\n",
    "from tf_agents.bandits.metrics import tf_metrics as tf_bandit_metrics\n",
    "from tf_agents.trajectories import trajectory\n",
    "from tf_agents import trajectories\n",
    "\n",
    "from tf_agents.policies import py_tf_eager_policy\n",
    "from tf_agents.trajectories import time_step as ts\n",
    "from tf_agents.policies import policy_saver\n",
    "from tf_agents.metrics import export_utils\n",
    "from tf_agents.eval import metric_utils\n",
    "from tf_agents.utils import common"
   ]
  },
  {
   "cell_type": "code",
   "execution_count": 7,
   "id": "f22e047f-6b5c-4472-8106-5710ab2ee518",
   "metadata": {
    "tags": []
   },
   "outputs": [],
   "source": [
    "import sys\n",
    "sys.path.append(\"../..\")\n",
    "\n",
    "# this repo\n",
    "from src.utils import train_utils, reward_factory\n",
    "from src.data import data_utils, data_config\n",
    "from src.agents import agent_factory as agent_factory\n",
    "from src.networks import encoding_network as emb_features"
   ]
  },
  {
   "cell_type": "code",
   "execution_count": 8,
   "id": "07045692-7a76-4e4e-8eed-be74878580c5",
   "metadata": {
    "tags": []
   },
   "outputs": [
    {
     "name": "stdout",
     "output_type": "stream",
     "text": [
      "Num GPUs Available:  1\n"
     ]
    }
   ],
   "source": [
    "# GPU\n",
    "from numba import cuda \n",
    "import gc\n",
    "\n",
    "print(\"Num GPUs Available: \", len(tf.config.list_physical_devices('GPU')))"
   ]
  },
  {
   "cell_type": "code",
   "execution_count": 10,
   "id": "01c09829-a0ed-4585-b189-f95eeec9dc56",
   "metadata": {
    "tags": []
   },
   "outputs": [
    {
     "data": {
      "text/plain": [
       "14"
      ]
     },
     "execution_count": 10,
     "metadata": {},
     "output_type": "execute_result"
    }
   ],
   "source": [
    "device = cuda.get_current_device()\n",
    "device.reset()\n",
    "gc.collect()"
   ]
  },
  {
   "cell_type": "markdown",
   "id": "c51cceab-266a-414b-8a19-9165bb08f7c4",
   "metadata": {},
   "source": [
    "### GCP clients"
   ]
  },
  {
   "cell_type": "code",
   "execution_count": 11,
   "id": "33452557-55d3-487b-bd0b-5fcd24d0884f",
   "metadata": {
    "tags": []
   },
   "outputs": [],
   "source": [
    "# cloud storage client\n",
    "storage_client = storage.Client(project=PROJECT_ID)\n",
    "\n",
    "# Vertex client\n",
    "aiplatform.init(project=PROJECT_ID, location=LOCATION)\n",
    "\n",
    "# bigquery client\n",
    "bqclient = bigquery.Client(project=PROJECT_ID,)"
   ]
  },
  {
   "cell_type": "markdown",
   "id": "ed4c5c2c-ba42-4751-8d62-c7706a5f7243",
   "metadata": {},
   "source": [
    "## Get data"
   ]
  },
  {
   "cell_type": "code",
   "execution_count": 12,
   "id": "2fc9c194-eb4a-4cce-93a7-67392a180195",
   "metadata": {
    "tags": []
   },
   "outputs": [
    {
     "name": "stdout",
     "output_type": "stream",
     "text": [
      "GCS_DATA_PATH: gs://rec-bandits-v2-hybrid-vertex-bucket/data/movielens/m1m\n",
      "gs://rec-bandits-v2-hybrid-vertex-bucket/data/movielens/m1m/action-embeddings/\n",
      "gs://rec-bandits-v2-hybrid-vertex-bucket/data/movielens/m1m/mv_b128_g12_a16/\n",
      "gs://rec-bandits-v2-hybrid-vertex-bucket/data/movielens/m1m/mv_b128_g12_a16_v4/\n",
      "gs://rec-bandits-v2-hybrid-vertex-bucket/data/movielens/m1m/mv_b128_g12_a16_v5/\n",
      "gs://rec-bandits-v2-hybrid-vertex-bucket/data/movielens/m1m/mv_b128_g12_a16_v6/\n",
      "gs://rec-bandits-v2-hybrid-vertex-bucket/data/movielens/m1m/mv_b128_g12_a16_v7/\n",
      "gs://rec-bandits-v2-hybrid-vertex-bucket/data/movielens/m1m/train/\n",
      "gs://rec-bandits-v2-hybrid-vertex-bucket/data/movielens/m1m/val/\n",
      "gs://rec-bandits-v2-hybrid-vertex-bucket/data/movielens/m1m/vocabs/\n"
     ]
    }
   ],
   "source": [
    "EXAMPLE_GEN_GCS_PATH = data_config.EXAMPLE_GEN_GCS_PATH\n",
    "GCS_DATA_PATH = f\"{BUCKET_URI}/{EXAMPLE_GEN_GCS_PATH}\"\n",
    "\n",
    "print(f\"GCS_DATA_PATH: {GCS_DATA_PATH}\")\n",
    "\n",
    "!gsutil ls $GCS_DATA_PATH"
   ]
  },
  {
   "cell_type": "code",
   "execution_count": 13,
   "id": "9dfe4bb8-2e2a-484c-98fb-4f8f005230da",
   "metadata": {
    "tags": []
   },
   "outputs": [],
   "source": [
    "options = tf.data.Options()\n",
    "options.experimental_distribute.auto_shard_policy = tf.data.experimental.AutoShardPolicy.AUTO"
   ]
  },
  {
   "cell_type": "code",
   "execution_count": 14,
   "id": "2f189d69-b9ce-4bee-ac60-4ffb538ecba2",
   "metadata": {
    "tags": []
   },
   "outputs": [],
   "source": [
    "SPLIT = \"train\" # \"train\" | \"val\"\n",
    "\n",
    "train_files = []\n",
    "for blob in storage_client.list_blobs(f\"{BUCKET_NAME}\", prefix=f'{EXAMPLE_GEN_GCS_PATH}/{SPLIT}'):\n",
    "    if '.tfrecord' in blob.name:\n",
    "        train_files.append(blob.public_url.replace(\"https://storage.googleapis.com/\", \"gs://\"))\n",
    "        \n",
    "train_files = train_files[:2]\n",
    "train_dataset = tf.data.TFRecordDataset(train_files)\n",
    "train_dataset = train_dataset.map(data_utils._parse_function)\n",
    "\n",
    "# for x in train_dataset.batch(1).take(1):\n",
    "#     pprint(x)"
   ]
  },
  {
   "cell_type": "code",
   "execution_count": 15,
   "id": "00135c7b-7e96-445a-8666-94b3c6620b7b",
   "metadata": {
    "tags": []
   },
   "outputs": [
    {
     "name": "stdout",
     "output_type": "stream",
     "text": [
      "Downloading vocab...\n",
      "Downloaded vocab from: gs://rec-bandits-v2-hybrid-vertex-bucket/data/movielens/m1m/vocabs/vocab_dict.pkl\n",
      "\n"
     ]
    }
   ],
   "source": [
    "EXISTING_VOCAB_FILE = f'gs://{BUCKET_NAME}/{EXAMPLE_GEN_GCS_PATH}/vocabs/{VOCAB_FILENAME}'\n",
    "print(f\"Downloading vocab...\")\n",
    "\n",
    "os.system(f'gsutil -q cp {EXISTING_VOCAB_FILE} .')\n",
    "print(f\"Downloaded vocab from: {EXISTING_VOCAB_FILE}\\n\")\n",
    "\n",
    "filehandler = open(VOCAB_FILENAME, 'rb')\n",
    "vocab_dict = pkl.load(filehandler)\n",
    "filehandler.close()\n",
    "\n",
    "# for key in vocab_dict.keys():\n",
    "#     pprint(key)"
   ]
  },
  {
   "cell_type": "markdown",
   "id": "b627a292-1d26-4337-b8e7-9bace147376e",
   "metadata": {},
   "source": [
    "## Get feature pre-processing embeddings"
   ]
  },
  {
   "cell_type": "code",
   "execution_count": 16,
   "id": "0127b0c8-b395-4881-8a4f-882881921014",
   "metadata": {
    "tags": []
   },
   "outputs": [
    {
     "name": "stdout",
     "output_type": "stream",
     "text": [
      "BATCH_SIZE           : 5\n",
      "EVAL_BATCH_SIZE      : 2\n",
      "NUM_ACTIONS          : 2\n",
      "EXPECTED_GLOBAL_DIM  : 72\n",
      "EXPECTED_PER_ARM_DIM : 64\n"
     ]
    }
   ],
   "source": [
    "NUM_OOV_BUCKETS        = 1\n",
    "GLOBAL_EMBEDDING_SIZE  = 12 # 8\n",
    "MV_EMBEDDING_SIZE      = 16 # 8\n",
    "\n",
    "BATCH_SIZE             = 5\n",
    "EVAL_BATCH_SIZE        = 2\n",
    "NUM_ACTIONS            = 2\n",
    "\n",
    "NUM_GLOBAL_FEATURES = len(data_utils.USER_FEATURE_NAMES)     # 6\n",
    "NUM_ARM_FEATURES    = len(data_utils.MOVIE_FEATURE_NAMES)    # 5\n",
    "EXPECTED_GLOBAL_DIM  = GLOBAL_EMBEDDING_SIZE * NUM_GLOBAL_FEATURES\n",
    "EXPECTED_PER_ARM_DIM = MV_EMBEDDING_SIZE * NUM_ARM_FEATURES\n",
    "\n",
    "print(f\"BATCH_SIZE           : {BATCH_SIZE}\")\n",
    "print(f\"EVAL_BATCH_SIZE      : {EVAL_BATCH_SIZE}\")\n",
    "print(f\"NUM_ACTIONS          : {NUM_ACTIONS}\")\n",
    "print(f\"EXPECTED_GLOBAL_DIM  : {EXPECTED_GLOBAL_DIM}\")\n",
    "print(f\"EXPECTED_PER_ARM_DIM : {EXPECTED_PER_ARM_DIM}\")"
   ]
  },
  {
   "cell_type": "code",
   "execution_count": 26,
   "id": "75db5774-04fb-44af-bf68-6fa15835f61b",
   "metadata": {
    "tags": []
   },
   "outputs": [],
   "source": [
    "# test emb models\n",
    "for i in range(1):\n",
    "    \n",
    "    iterator = iter(train_dataset.batch(1))\n",
    "    data = next(iterator)\n",
    "\n",
    "# data"
   ]
  },
  {
   "cell_type": "code",
   "execution_count": 27,
   "id": "2409db48-ce31-47f0-a41b-08094782ad64",
   "metadata": {
    "tags": []
   },
   "outputs": [
    {
     "data": {
      "text/plain": [
       "<src.networks.encoding_network.EmbeddingModel at 0x7faaa89a82e0>"
      ]
     },
     "execution_count": 27,
     "metadata": {},
     "output_type": "execute_result"
    }
   ],
   "source": [
    "embs = emb_features.EmbeddingModel(\n",
    "    vocab_dict = vocab_dict,\n",
    "    num_oov_buckets = NUM_OOV_BUCKETS,\n",
    "    global_emb_size = GLOBAL_EMBEDDING_SIZE,\n",
    "    mv_emb_size = MV_EMBEDDING_SIZE,\n",
    "    max_genre_length = data_config.MAX_GENRE_LENGTH,\n",
    ")\n",
    "\n",
    "embs"
   ]
  },
  {
   "cell_type": "code",
   "execution_count": 28,
   "id": "13528f65-cc9f-450d-bd36-2b6f4134b872",
   "metadata": {
    "tags": []
   },
   "outputs": [
    {
     "name": "stdout",
     "output_type": "stream",
     "text": [
      "GLOBAL_DIM: 48\n",
      "PER_ARM_DIM: 32\n"
     ]
    }
   ],
   "source": [
    "test_globals = embs._get_global_context_features(data)\n",
    "\n",
    "GLOBAL_DIM = test_globals.shape[1]            \n",
    "# shape checks out at batch_dim, nactions, arm feats\n",
    "print(f\"GLOBAL_DIM: {GLOBAL_DIM}\")\n",
    "\n",
    "test_arms = embs._get_per_arm_features(data)\n",
    "\n",
    "PER_ARM_DIM = test_arms.shape[1]            \n",
    "# shape checks out at batch_dim, nactions, arm feats\n",
    "print(f\"PER_ARM_DIM: {PER_ARM_DIM}\")"
   ]
  },
  {
   "cell_type": "markdown",
   "id": "a2fe1026-72c8-4ecd-9c44-8c0ca532949d",
   "metadata": {},
   "source": [
    "## Trajectory function"
   ]
  },
  {
   "cell_type": "code",
   "execution_count": 29,
   "id": "afe87c1b-8bcc-41a5-8959-eb88aec3c522",
   "metadata": {
    "tags": []
   },
   "outputs": [],
   "source": [
    "BIGQUERY_TMP_FILE = \"tmp_bq.json\"\n",
    "# BATCH_SIZE = 8"
   ]
  },
  {
   "cell_type": "code",
   "execution_count": 30,
   "id": "6201467e-78be-4e70-9e93-23f9552589d8",
   "metadata": {
    "tags": []
   },
   "outputs": [
    {
     "name": "stdout",
     "output_type": "stream",
     "text": [
      "BQ_TABLE_REF  : hybrid-vertex.mvlens_rec_bandits_v2.test_mv_b5_g8_a8\n",
      "TFRECORD_FILE : gs://rec-bandits-v2-hybrid-vertex-bucket/data/from_bq_test/test_mv_b5_g8_a8.tfrecord\n"
     ]
    }
   ],
   "source": [
    "BIGQUERY_TABLE_NAME = f\"test_mv_b{BATCH_SIZE}_g{GLOBAL_EMBEDDING_SIZE}_a{MV_EMBEDDING_SIZE}\"\n",
    "BQ_TABLE_REF = f\"{PROJECT_ID}.{BIGQUERY_DATASET_NAME}.{BIGQUERY_TABLE_NAME}\"\n",
    "\n",
    "# Dataset parameters\n",
    "TFRECORD_FILE = (\n",
    "    f\"{BUCKET_URI}/data/from_bq_test/{BIGQUERY_TABLE_NAME}.tfrecord\"\n",
    ")\n",
    "\n",
    "print(f\"BQ_TABLE_REF  : {BQ_TABLE_REF}\")\n",
    "print(f\"TFRECORD_FILE : {TFRECORD_FILE}\")"
   ]
  },
  {
   "cell_type": "markdown",
   "id": "da00388b-55a7-4ef8-9d45-c6df5bcc2b9f",
   "metadata": {},
   "source": [
    "### Check BigQuery dataset, table names"
   ]
  },
  {
   "cell_type": "code",
   "execution_count": 32,
   "id": "0263c0c3-8b71-48e9-967b-00afce36deef",
   "metadata": {
    "tags": []
   },
   "outputs": [
    {
     "name": "stdout",
     "output_type": "stream",
     "text": [
      "DATASET_ID: hybrid-vertex.mvlens_rec_bandits_v2\n"
     ]
    }
   ],
   "source": [
    "# bqclient\n",
    "DATASET_ID = f\"{PROJECT_ID}.{BIGQUERY_DATASET_NAME}\"\n",
    "print(f\"DATASET_ID: {DATASET_ID}\")"
   ]
  },
  {
   "cell_type": "code",
   "execution_count": 36,
   "id": "df3182b0-3a06-4b80-b97a-c056ebc71c16",
   "metadata": {
    "tags": []
   },
   "outputs": [
    {
     "name": "stdout",
     "output_type": "stream",
     "text": [
      "Tables contained in 'hybrid-vertex.mvlens_rec_bandits_v2':\n",
      "\n",
      "mv_b128_g12_a16\n",
      "mv_b128_g12_a16_v4\n",
      "mv_b128_g12_a16_v5\n",
      "mv_b128_g12_a16_v6\n",
      "mv_b128_g12_a16_v7\n",
      "test_mv2_b3_g8_a8\n",
      "test_mv_b3_g8_a8\n",
      "test_mv_b8_g8_a8\n",
      "training_dataset\n"
     ]
    }
   ],
   "source": [
    "tables = bqclient.list_tables(DATASET_ID)  # Make an API request.\n",
    "\n",
    "print(\"Tables contained in '{}':\\n\".format(DATASET_ID))\n",
    "for table in tables:\n",
    "    print(f\"{table.table_id}\")  #.format(table.project, table.dataset_id, table.table_id))"
   ]
  },
  {
   "cell_type": "markdown",
   "id": "abc2537c-ff81-4dae-a0e6-de597b3f2e03",
   "metadata": {},
   "source": [
    "## my trajectory function"
   ]
  },
  {
   "cell_type": "code",
   "execution_count": 37,
   "id": "8d0b3e6f-2ae8-4dd4-97ac-134b0f0615c1",
   "metadata": {
    "tags": []
   },
   "outputs": [],
   "source": [
    "from tf_agents.trajectories import trajectory\n",
    "\n",
    "def my_trajectory_fn(element):\n",
    "    \n",
    "    \"\"\"Converts a dataset element into a trajectory.\"\"\"\n",
    "    global_features = embs._get_global_context_features(element)\n",
    "    arm_features = embs._get_per_arm_features(element)\n",
    "\n",
    "    observation = {\n",
    "        bandit_spec_utils.GLOBAL_FEATURE_KEY: global_features\n",
    "    }\n",
    "    reward = reward_factory._get_rewards(element)\n",
    "\n",
    "    policy_info = policy_utilities.PerArmPolicyInfo(\n",
    "        chosen_arm_features=arm_features,\n",
    "    )\n",
    "    return trajectory.single_step(\n",
    "        observation=observation,\n",
    "        action=tf.zeros_like(\n",
    "            reward, dtype=tf.int32\n",
    "        ),\n",
    "        policy_info=policy_info,\n",
    "        reward=reward,\n",
    "        discount=tf.zeros_like(reward)\n",
    "    )"
   ]
  },
  {
   "cell_type": "code",
   "execution_count": 38,
   "id": "71fe6507-a891-45ed-a042-016665e43f26",
   "metadata": {
    "tags": []
   },
   "outputs": [
    {
     "name": "stdout",
     "output_type": "stream",
     "text": [
      "traj.action.shape      : (5,)\n",
      "traj.discount.shape    : (5,)\n",
      "traj.reward.shape      : (5,)\n",
      "traj.observation.shape : (5, 48)\n"
     ]
    }
   ],
   "source": [
    "for x in train_dataset.batch(BATCH_SIZE).take(1):\n",
    "    test_traj = my_trajectory_fn(x)\n",
    "    \n",
    "print(f\"traj.action.shape      : {test_traj.action.shape}\") \n",
    "print(f\"traj.discount.shape    : {test_traj.discount.shape}\")\n",
    "print(f\"traj.reward.shape      : {test_traj.reward.shape}\")\n",
    "print(f\"traj.observation.shape : {test_traj.observation['global'].shape}\")"
   ]
  },
  {
   "cell_type": "code",
   "execution_count": 23,
   "id": "957f045a-3f00-441d-b5fe-6cdaae2cdc65",
   "metadata": {
    "tags": []
   },
   "outputs": [],
   "source": [
    "# test_traj"
   ]
  },
  {
   "cell_type": "markdown",
   "id": "cd2d93b2-45ef-49ab-87a4-d421350c9314",
   "metadata": {},
   "source": [
    "### build from trajectory for BQ"
   ]
  },
  {
   "cell_type": "code",
   "execution_count": 39,
   "id": "aca622f6-d1c0-4016-9ebe-ee2430cc4286",
   "metadata": {
    "tags": []
   },
   "outputs": [],
   "source": [
    "test_trajectory_dict = {\n",
    "    \"step_type\": test_traj.step_type.numpy().tolist(),\n",
    "    \"observation\": [{\n",
    "        \"observation_batch\": batch\n",
    "    } for batch in test_traj.observation['global'].numpy().tolist()],\n",
    "    \"chosen_arm_features\": [{\n",
    "        \"chosen_arm_features_batch\": batch\n",
    "    } for batch in test_traj.policy_info.chosen_arm_features.numpy().tolist()],\n",
    "    \"action\": test_traj.action.numpy().tolist(),\n",
    "    \"next_step_type\": test_traj.next_step_type.numpy().tolist(),\n",
    "    \"reward\": test_traj.reward.numpy().tolist(),\n",
    "    \"discount\": test_traj.discount.numpy().tolist(),\n",
    "}\n",
    "# test_trajectory_dict"
   ]
  },
  {
   "cell_type": "code",
   "execution_count": 40,
   "id": "9a49f807-41f8-48a3-bbea-34028f18d9ec",
   "metadata": {
    "tags": []
   },
   "outputs": [],
   "source": [
    "def build_dict_from_trajectory(\n",
    "    trajectory : trajectories.Trajectory\n",
    ") -> Dict[str, Any]:\n",
    "    trajectory_dict = {\n",
    "        \"step_type\": trajectory.step_type.numpy().tolist(),\n",
    "        \"observation\": [\n",
    "            {\n",
    "                \"observation_batch\": batch\n",
    "            } for batch in trajectory.observation['global'].numpy().tolist()\n",
    "        ],\n",
    "        \"chosen_arm_features\": [\n",
    "            {\n",
    "                \"chosen_arm_features_batch\": batch\n",
    "            } for batch in trajectory.policy_info.chosen_arm_features.numpy().tolist()\n",
    "        ],\n",
    "        \"action\": trajectory.action.numpy().tolist(),\n",
    "        \"next_step_type\": trajectory.next_step_type.numpy().tolist(),\n",
    "        \"reward\": trajectory.reward.numpy().tolist(),\n",
    "        \"discount\": trajectory.discount.numpy().tolist(),\n",
    "    }\n",
    "    return trajectory_dict"
   ]
  },
  {
   "cell_type": "code",
   "execution_count": 41,
   "id": "12c0584c-27c9-4701-8e16-a394b48b253b",
   "metadata": {
    "tags": []
   },
   "outputs": [
    {
     "data": {
      "text/plain": [
       "{'target_movie_genres': <tf.Tensor: shape=(5, 10), dtype=string, numpy=\n",
       " array([[b'Drama', b'UNK', b'UNK', b'UNK', b'UNK', b'UNK', b'UNK', b'UNK',\n",
       "         b'UNK', b'UNK'],\n",
       "        [b'Comedy', b'Drama', b'UNK', b'UNK', b'UNK', b'UNK', b'UNK',\n",
       "         b'UNK', b'UNK', b'UNK'],\n",
       "        [b'Comedy', b'UNK', b'UNK', b'UNK', b'UNK', b'UNK', b'UNK',\n",
       "         b'UNK', b'UNK', b'UNK'],\n",
       "        [b'Drama', b'UNK', b'UNK', b'UNK', b'UNK', b'UNK', b'UNK', b'UNK',\n",
       "         b'UNK', b'UNK'],\n",
       "        [b'Comedy', b'UNK', b'UNK', b'UNK', b'UNK', b'UNK', b'UNK',\n",
       "         b'UNK', b'UNK', b'UNK']], dtype=object)>,\n",
       " 'target_movie_id': <tf.Tensor: shape=(5,), dtype=string, numpy=array([b'1775', b'2789', b'2249', b'3104', b'142'], dtype=object)>,\n",
       " 'target_movie_rating': <tf.Tensor: shape=(5,), dtype=float32, numpy=array([4., 5., 5., 3., 4.], dtype=float32)>,\n",
       " 'target_movie_title': <tf.Tensor: shape=(5,), dtype=string, numpy=\n",
       " array([b'Live Flesh (1997)', b'American Beauty (1999)',\n",
       "        b'Happiness (1998)', b'Any Given Sunday (1999)',\n",
       "        b'Brothers McMullen, The (1995)'], dtype=object)>,\n",
       " 'target_movie_year': <tf.Tensor: shape=(5,), dtype=int64, numpy=array([1997, 1999, 1998, 1999, 1995])>,\n",
       " 'target_rating_timestamp': <tf.Tensor: shape=(5,), dtype=int64, numpy=array([974612615, 961944637, 965070782, 974858235, 976672629])>,\n",
       " 'user_age': <tf.Tensor: shape=(5,), dtype=int64, numpy=array([50, 18, 18, 35, 25])>,\n",
       " 'user_gender': <tf.Tensor: shape=(5,), dtype=string, numpy=array([b'M', b'M', b'M', b'M', b'M'], dtype=object)>,\n",
       " 'user_id': <tf.Tensor: shape=(5,), dtype=string, numpy=array([b'2173', b'5155', b'4464', b'1180', b'258'], dtype=object)>,\n",
       " 'user_occupation_text': <tf.Tensor: shape=(5,), dtype=string, numpy=\n",
       " array([b'programmer', b'sales/marketing', b'college/grad student',\n",
       "        b'executive/managerial', b'academic/educator'], dtype=object)>,\n",
       " 'user_zip_code': <tf.Tensor: shape=(5,), dtype=string, numpy=array([b'87505', b'10024', b'02148', b'20716', b'60615'], dtype=object)>}"
      ]
     },
     "execution_count": 41,
     "metadata": {},
     "output_type": "execute_result"
    }
   ],
   "source": [
    "for x in train_dataset.batch(BATCH_SIZE).take(1):\n",
    "    test_traj = my_trajectory_fn(x)\n",
    "    test_trajectory_dict = build_dict_from_trajectory(test_traj)\n",
    "    break\n",
    "\n",
    "x"
   ]
  },
  {
   "cell_type": "code",
   "execution_count": 44,
   "id": "b666de1f-57e8-469e-bf94-e1af121d8552",
   "metadata": {
    "tags": []
   },
   "outputs": [
    {
     "data": {
      "text/plain": [
       "Trajectory(\n",
       "{'action': <tf.Tensor: shape=(5,), dtype=int32, numpy=array([0, 0, 0, 0, 0], dtype=int32)>,\n",
       " 'discount': <tf.Tensor: shape=(5,), dtype=float32, numpy=array([0., 0., 0., 0., 0.], dtype=float32)>,\n",
       " 'next_step_type': <tf.Tensor: shape=(5,), dtype=int32, numpy=array([2, 2, 2, 2, 2], dtype=int32)>,\n",
       " 'observation': {'global': <tf.Tensor: shape=(5, 48), dtype=float32, numpy=\n",
       "array([[ 0.04865542, -0.02543367,  0.0365551 , -0.03714349, -0.01566206,\n",
       "        -0.01530646,  0.00896855, -0.04330239,  0.03075899,  0.0402616 ,\n",
       "         0.04576324,  0.00967751, -0.03646762,  0.01440937,  0.04652513,\n",
       "         0.04486601, -0.00011105,  0.00798317, -0.02641149, -0.02578688,\n",
       "         0.02145113, -0.04743207,  0.04958316, -0.04602955,  0.00040215,\n",
       "        -0.02368635, -0.01478941,  0.00512644,  0.0429013 ,  0.00645196,\n",
       "         0.02530661,  0.04880272,  0.01959846, -0.0416555 ,  0.00310005,\n",
       "        -0.03248279, -0.03752174,  0.01398626, -0.01002882, -0.02989262,\n",
       "         0.0037344 ,  0.01933528, -0.01826044,  0.04796332,  0.00030153,\n",
       "         0.03091378,  0.00107101,  0.03868953],\n",
       "       [-0.03863684, -0.04551459, -0.00888833,  0.04674748, -0.02401037,\n",
       "        -0.01298119,  0.01967138,  0.00372229,  0.01937214, -0.04474631,\n",
       "        -0.00402942, -0.04147521, -0.03976501, -0.03295131,  0.01379223,\n",
       "         0.02484057,  0.03107089, -0.02014612,  0.01606523, -0.01270998,\n",
       "         0.01972732, -0.01970036,  0.03671472, -0.0373763 ,  0.01009618,\n",
       "        -0.02701018, -0.00807623, -0.0212092 ,  0.01999208,  0.00129759,\n",
       "         0.0023197 , -0.02657312,  0.01959846, -0.0416555 ,  0.00310005,\n",
       "        -0.03248279, -0.03752174,  0.01398626, -0.01002882, -0.02989262,\n",
       "         0.02042579,  0.0188804 ,  0.03005571,  0.011788  ,  0.00382145,\n",
       "         0.00365661,  0.01890181, -0.04629248],\n",
       "       [-0.00219209, -0.0441315 ,  0.03631252,  0.03037015,  0.03088075,\n",
       "         0.04436317,  0.00190986,  0.04551836,  0.01937214, -0.04474631,\n",
       "        -0.00402942, -0.04147521, -0.03976501, -0.03295131,  0.01379223,\n",
       "         0.02484057,  0.01501593,  0.00085285,  0.02988384,  0.04845926,\n",
       "         0.00683749, -0.00955701, -0.0061189 , -0.0456966 , -0.00022632,\n",
       "        -0.03183923, -0.02968494,  0.03195331, -0.01702269,  0.03882362,\n",
       "        -0.01281349,  0.0326363 ,  0.01959846, -0.0416555 ,  0.00310005,\n",
       "        -0.03248279, -0.03752174,  0.01398626, -0.01002882, -0.02989262,\n",
       "         0.0057137 ,  0.03078058, -0.02979761, -0.02073753,  0.04915665,\n",
       "         0.01292405, -0.03029892, -0.01623045],\n",
       "       [-0.02881408, -0.01779457, -0.02595576,  0.04420597, -0.03035237,\n",
       "        -0.01168345,  0.01050442, -0.00141189, -0.00022263, -0.00449651,\n",
       "         0.03238107, -0.00095017, -0.01407912,  0.00864226,  0.01288942,\n",
       "         0.04910605,  0.00602503, -0.03653048,  0.01726054,  0.00947402,\n",
       "         0.02622448,  0.04429046, -0.03307547,  0.04886902,  0.00040215,\n",
       "        -0.02368635, -0.01478941,  0.00512644,  0.0429013 ,  0.00645196,\n",
       "         0.02530661,  0.04880272,  0.01959846, -0.0416555 ,  0.00310005,\n",
       "        -0.03248279, -0.03752174,  0.01398626, -0.01002882, -0.02989262,\n",
       "         0.02678552,  0.01540207,  0.02254761,  0.0006162 , -0.04188304,\n",
       "        -0.01847494,  0.01079301, -0.02102193],\n",
       "       [-0.02730118, -0.04348221, -0.03988687,  0.00680838, -0.03406422,\n",
       "         0.04437565,  0.03939178, -0.04084575,  0.04615309,  0.01614318,\n",
       "        -0.02932086, -0.00097036,  0.02026587,  0.01653384,  0.02985935,\n",
       "        -0.03599608,  0.03526329, -0.01624812, -0.02257629,  0.00375319,\n",
       "         0.01126393,  0.03689666, -0.00760977, -0.03132727, -0.03727126,\n",
       "        -0.02507305,  0.00895666, -0.03701989, -0.02376728,  0.02205067,\n",
       "         0.00513468,  0.01460436,  0.01959846, -0.0416555 ,  0.00310005,\n",
       "        -0.03248279, -0.03752174,  0.01398626, -0.01002882, -0.02989262,\n",
       "         0.01452806, -0.03232279, -0.04752935,  0.03740862, -0.04666311,\n",
       "        -0.01997749,  0.00150664, -0.02290169]], dtype=float32)>},\n",
       " 'policy_info': PerArmPolicyInfo(log_probability=(), predicted_rewards_mean=(), multiobjective_scalarized_predicted_rewards_mean=(), predicted_rewards_optimistic=(), predicted_rewards_sampled=(), bandit_policy_type=(), chosen_arm_features=<tf.Tensor: shape=(5, 32), dtype=float32, numpy=\n",
       "array([[ 0.0114063 , -0.00566115, -0.02711035,  0.04735981, -0.00246986,\n",
       "         0.0252262 ,  0.03615162, -0.04003752, -0.02171223,  0.03375146,\n",
       "        -0.0239987 , -0.03531051, -0.01018772, -0.00652643, -0.03702714,\n",
       "        -0.01909758, -0.01125202, -0.00800544, -0.01937085,  0.049911  ,\n",
       "        -0.01707149,  0.02549399, -0.00899513,  0.04016496,  0.02328867,\n",
       "         0.14902458,  0.03295453, -0.03118139, -0.07977778,  0.14820172,\n",
       "         0.07100633, -0.15406255],\n",
       "       [-0.00707943,  0.00798243, -0.03086767, -0.03093044, -0.02618084,\n",
       "        -0.04771018,  0.02150336,  0.04106611, -0.02171223,  0.03375146,\n",
       "        -0.0239987 , -0.03531051, -0.01018772, -0.00652643, -0.03702714,\n",
       "        -0.01909758, -0.00236861, -0.0059549 , -0.0271061 ,  0.01257125,\n",
       "        -0.02010117, -0.00889403, -0.04068933,  0.03792489,  0.02328867,\n",
       "         0.14902458,  0.03295453, -0.03118139, -0.07977778,  0.14820172,\n",
       "         0.07100633, -0.15406255],\n",
       "       [-0.04299277, -0.04681163,  0.04309226, -0.02059779, -0.03973489,\n",
       "         0.00714726,  0.00711938,  0.01080821, -0.02171223,  0.03375146,\n",
       "        -0.0239987 , -0.03531051, -0.01018772, -0.00652643, -0.03702714,\n",
       "        -0.01909758,  0.03303928, -0.04348321, -0.00403718,  0.026188  ,\n",
       "        -0.01575836, -0.02791982,  0.03547568,  0.00957398, -0.07877536,\n",
       "         0.08871107,  0.00210536,  0.03312497,  0.04104284,  0.05576773,\n",
       "        -0.0318903 , -0.21686536],\n",
       "       [ 0.00308002,  0.02462075,  0.00541807, -0.04430772, -0.0103728 ,\n",
       "        -0.01749758, -0.00724293, -0.01328943, -0.02171223,  0.03375146,\n",
       "        -0.0239987 , -0.03531051, -0.01018772, -0.00652643, -0.03702714,\n",
       "        -0.01909758, -0.00236861, -0.0059549 , -0.0271061 ,  0.01257125,\n",
       "        -0.02010117, -0.00889403, -0.04068933,  0.03792489,  0.1253527 ,\n",
       "         0.20933808,  0.06380369, -0.09548774, -0.20059839,  0.24063571,\n",
       "         0.17390294, -0.09125976],\n",
       "       [-0.02348733, -0.03487673,  0.02027583,  0.03827448, -0.03338338,\n",
       "         0.04784224, -0.01492854,  0.03012389, -0.02171223,  0.03375146,\n",
       "        -0.0239987 , -0.03531051, -0.01018772, -0.00652643, -0.03702714,\n",
       "        -0.01909758,  0.01277176, -0.04484167,  0.04714723,  0.01774852,\n",
       "        -0.02345024,  0.01243849,  0.02130318,  0.0219578 ,  0.1253527 ,\n",
       "         0.20933808,  0.06380369, -0.09548774, -0.20059839,  0.24063571,\n",
       "         0.17390294, -0.09125976]], dtype=float32)>),\n",
       " 'reward': <tf.Tensor: shape=(5,), dtype=float32, numpy=array([4., 5., 5., 3., 4.], dtype=float32)>,\n",
       " 'step_type': <tf.Tensor: shape=(5,), dtype=int32, numpy=array([0, 0, 0, 0, 0], dtype=int32)>})"
      ]
     },
     "execution_count": 44,
     "metadata": {},
     "output_type": "execute_result"
    }
   ],
   "source": [
    "test_traj"
   ]
  },
  {
   "cell_type": "code",
   "execution_count": 45,
   "id": "0fd1e1e0-52ce-47e9-9722-d941085f804f",
   "metadata": {
    "tags": []
   },
   "outputs": [
    {
     "data": {
      "text/plain": [
       "{'step_type': [0, 0, 0, 0, 0],\n",
       " 'observation': [{'observation_batch': [0.04865541681647301,\n",
       "    -0.025433672592043877,\n",
       "    0.03655510023236275,\n",
       "    -0.037143491208553314,\n",
       "    -0.015662062913179398,\n",
       "    -0.015306461602449417,\n",
       "    0.008968554437160492,\n",
       "    -0.043302394449710846,\n",
       "    0.030758988112211227,\n",
       "    0.04026160016655922,\n",
       "    0.04576324298977852,\n",
       "    0.009677506983280182,\n",
       "    -0.036467622965574265,\n",
       "    0.014409366995096207,\n",
       "    0.04652513191103935,\n",
       "    0.044866014271974564,\n",
       "    -0.00011105462908744812,\n",
       "    0.007983170449733734,\n",
       "    -0.02641148678958416,\n",
       "    -0.025786876678466797,\n",
       "    0.021451126784086227,\n",
       "    -0.0474320650100708,\n",
       "    0.04958316311240196,\n",
       "    -0.04602954536676407,\n",
       "    0.00040215253829956055,\n",
       "    -0.023686349391937256,\n",
       "    -0.014789413660764694,\n",
       "    0.005126439034938812,\n",
       "    0.04290130361914635,\n",
       "    0.006451964378356934,\n",
       "    0.02530660852789879,\n",
       "    0.04880272224545479,\n",
       "    0.01959845796227455,\n",
       "    -0.04165550321340561,\n",
       "    0.003100048750638962,\n",
       "    -0.03248279169201851,\n",
       "    -0.03752174228429794,\n",
       "    0.013986263424158096,\n",
       "    -0.010028816759586334,\n",
       "    -0.02989262342453003,\n",
       "    0.0037343986332416534,\n",
       "    0.01933528110384941,\n",
       "    -0.018260441720485687,\n",
       "    0.047963324934244156,\n",
       "    0.0003015287220478058,\n",
       "    0.030913781374692917,\n",
       "    0.0010710135102272034,\n",
       "    0.03868952766060829]},\n",
       "  {'observation_batch': [-0.038636840879917145,\n",
       "    -0.04551459476351738,\n",
       "    -0.008888326585292816,\n",
       "    0.04674747958779335,\n",
       "    -0.024010373279452324,\n",
       "    -0.012981187552213669,\n",
       "    0.019671384245157242,\n",
       "    0.0037222877144813538,\n",
       "    0.019372139126062393,\n",
       "    -0.04474630579352379,\n",
       "    -0.004029415547847748,\n",
       "    -0.041475214064121246,\n",
       "    -0.03976501151919365,\n",
       "    -0.03295131027698517,\n",
       "    0.013792227953672409,\n",
       "    0.024840567260980606,\n",
       "    0.03107089176774025,\n",
       "    -0.020146120339632034,\n",
       "    0.01606522873044014,\n",
       "    -0.012709975242614746,\n",
       "    0.019727323204278946,\n",
       "    -0.019700361415743828,\n",
       "    0.03671472147107124,\n",
       "    -0.037376295775175095,\n",
       "    0.010096181184053421,\n",
       "    -0.027010178193449974,\n",
       "    -0.008076228201389313,\n",
       "    -0.02120920456945896,\n",
       "    0.019992079585790634,\n",
       "    0.001297593116760254,\n",
       "    0.0023197047412395477,\n",
       "    -0.026573121547698975,\n",
       "    0.01959845796227455,\n",
       "    -0.04165550321340561,\n",
       "    0.003100048750638962,\n",
       "    -0.03248279169201851,\n",
       "    -0.03752174228429794,\n",
       "    0.013986263424158096,\n",
       "    -0.010028816759586334,\n",
       "    -0.02989262342453003,\n",
       "    0.020425785332918167,\n",
       "    0.01888040080666542,\n",
       "    0.030055712908506393,\n",
       "    0.011787999421358109,\n",
       "    0.00382145494222641,\n",
       "    0.0036566145718097687,\n",
       "    0.01890181377530098,\n",
       "    -0.04629248380661011]},\n",
       "  {'observation_batch': [-0.0021920911967754364,\n",
       "    -0.04413149505853653,\n",
       "    0.0363125242292881,\n",
       "    0.03037014976143837,\n",
       "    0.030880752950906754,\n",
       "    0.044363174587488174,\n",
       "    0.0019098632037639618,\n",
       "    0.04551836475729942,\n",
       "    0.019372139126062393,\n",
       "    -0.04474630579352379,\n",
       "    -0.004029415547847748,\n",
       "    -0.041475214064121246,\n",
       "    -0.03976501151919365,\n",
       "    -0.03295131027698517,\n",
       "    0.013792227953672409,\n",
       "    0.024840567260980606,\n",
       "    0.015015926212072372,\n",
       "    0.0008528456091880798,\n",
       "    0.029883835464715958,\n",
       "    0.0484592579305172,\n",
       "    0.00683748722076416,\n",
       "    -0.009557008743286133,\n",
       "    -0.006118904799222946,\n",
       "    -0.04569660499691963,\n",
       "    -0.0002263188362121582,\n",
       "    -0.03183922916650772,\n",
       "    -0.02968493662774563,\n",
       "    0.03195330873131752,\n",
       "    -0.017022691667079926,\n",
       "    0.03882361575961113,\n",
       "    -0.012813486158847809,\n",
       "    0.03263629600405693,\n",
       "    0.01959845796227455,\n",
       "    -0.04165550321340561,\n",
       "    0.003100048750638962,\n",
       "    -0.03248279169201851,\n",
       "    -0.03752174228429794,\n",
       "    0.013986263424158096,\n",
       "    -0.010028816759586334,\n",
       "    -0.02989262342453003,\n",
       "    0.005713701248168945,\n",
       "    0.030780579894781113,\n",
       "    -0.029797613620758057,\n",
       "    -0.020737528800964355,\n",
       "    0.04915665462613106,\n",
       "    0.01292404904961586,\n",
       "    -0.030298924073576927,\n",
       "    -0.016230452805757523]},\n",
       "  {'observation_batch': [-0.028814077377319336,\n",
       "    -0.017794571816921234,\n",
       "    -0.02595576085150242,\n",
       "    0.04420597478747368,\n",
       "    -0.030352367088198662,\n",
       "    -0.011683452874422073,\n",
       "    0.010504424571990967,\n",
       "    -0.0014118924736976624,\n",
       "    -0.00022263452410697937,\n",
       "    -0.004496514797210693,\n",
       "    0.03238106891512871,\n",
       "    -0.0009501688182353973,\n",
       "    -0.01407911628484726,\n",
       "    0.008642256259918213,\n",
       "    0.012889418751001358,\n",
       "    0.04910605028271675,\n",
       "    0.006025027483701706,\n",
       "    -0.03653048351407051,\n",
       "    0.017260540276765823,\n",
       "    0.009474016726016998,\n",
       "    0.02622448280453682,\n",
       "    0.0442904569208622,\n",
       "    -0.03307546675205231,\n",
       "    0.04886902496218681,\n",
       "    0.00040215253829956055,\n",
       "    -0.023686349391937256,\n",
       "    -0.014789413660764694,\n",
       "    0.005126439034938812,\n",
       "    0.04290130361914635,\n",
       "    0.006451964378356934,\n",
       "    0.02530660852789879,\n",
       "    0.04880272224545479,\n",
       "    0.01959845796227455,\n",
       "    -0.04165550321340561,\n",
       "    0.003100048750638962,\n",
       "    -0.03248279169201851,\n",
       "    -0.03752174228429794,\n",
       "    0.013986263424158096,\n",
       "    -0.010028816759586334,\n",
       "    -0.02989262342453003,\n",
       "    0.02678551897406578,\n",
       "    0.015402067452669144,\n",
       "    0.022547606378793716,\n",
       "    0.0006162039935588837,\n",
       "    -0.041883040219545364,\n",
       "    -0.018474936485290527,\n",
       "    0.010793007910251617,\n",
       "    -0.021021926775574684]},\n",
       "  {'observation_batch': [-0.027301181107759476,\n",
       "    -0.043482210487127304,\n",
       "    -0.03988686949014664,\n",
       "    0.006808377802371979,\n",
       "    -0.03406422212719917,\n",
       "    0.044375646859407425,\n",
       "    0.03939178213477135,\n",
       "    -0.04084575176239014,\n",
       "    0.04615309461951256,\n",
       "    0.016143176704645157,\n",
       "    -0.029320860281586647,\n",
       "    -0.0009703636169433594,\n",
       "    0.020265866070985794,\n",
       "    0.01653384044766426,\n",
       "    0.029859352856874466,\n",
       "    -0.035996079444885254,\n",
       "    0.035263288766145706,\n",
       "    -0.01624811813235283,\n",
       "    -0.022576285526156425,\n",
       "    0.003753185272216797,\n",
       "    0.011263929307460785,\n",
       "    0.036896657198667526,\n",
       "    -0.007609773427248001,\n",
       "    -0.0313272699713707,\n",
       "    -0.03727126121520996,\n",
       "    -0.02507305145263672,\n",
       "    0.008956659585237503,\n",
       "    -0.03701988607645035,\n",
       "    -0.02376728132367134,\n",
       "    0.02205066755414009,\n",
       "    0.00513467937707901,\n",
       "    0.0146043561398983,\n",
       "    0.01959845796227455,\n",
       "    -0.04165550321340561,\n",
       "    0.003100048750638962,\n",
       "    -0.03248279169201851,\n",
       "    -0.03752174228429794,\n",
       "    0.013986263424158096,\n",
       "    -0.010028816759586334,\n",
       "    -0.02989262342453003,\n",
       "    0.0145280621945858,\n",
       "    -0.03232278674840927,\n",
       "    -0.047529350966215134,\n",
       "    0.03740862384438515,\n",
       "    -0.046663105487823486,\n",
       "    -0.01997748576104641,\n",
       "    0.0015066377818584442,\n",
       "    -0.022901689633727074]}],\n",
       " 'chosen_arm_features': [{'chosen_arm_features_batch': [0.011406302452087402,\n",
       "    -0.0056611523032188416,\n",
       "    -0.027110351249575615,\n",
       "    0.04735981300473213,\n",
       "    -0.002469860017299652,\n",
       "    0.025226201862096786,\n",
       "    0.036151621490716934,\n",
       "    -0.040037523955106735,\n",
       "    -0.021712232381105423,\n",
       "    0.033751461654901505,\n",
       "    -0.023998703807592392,\n",
       "    -0.03531050682067871,\n",
       "    -0.0101877236738801,\n",
       "    -0.006526429671794176,\n",
       "    -0.03702714294195175,\n",
       "    -0.019097579643130302,\n",
       "    -0.0112520232796669,\n",
       "    -0.00800544023513794,\n",
       "    -0.019370853900909424,\n",
       "    0.04991099610924721,\n",
       "    -0.01707148551940918,\n",
       "    0.025493990629911423,\n",
       "    -0.00899512693285942,\n",
       "    0.04016495868563652,\n",
       "    0.02328866720199585,\n",
       "    0.1490245759487152,\n",
       "    0.03295452520251274,\n",
       "    -0.03118138760328293,\n",
       "    -0.0797777771949768,\n",
       "    0.14820171892642975,\n",
       "    0.07100632786750793,\n",
       "    -0.15406255424022675]},\n",
       "  {'chosen_arm_features_batch': [-0.007079433649778366,\n",
       "    0.007982432842254639,\n",
       "    -0.030867671594023705,\n",
       "    -0.03093043528497219,\n",
       "    -0.02618083916604519,\n",
       "    -0.04771018028259277,\n",
       "    0.021503355354070663,\n",
       "    0.041066113859415054,\n",
       "    -0.021712232381105423,\n",
       "    0.033751461654901505,\n",
       "    -0.023998703807592392,\n",
       "    -0.03531050682067871,\n",
       "    -0.0101877236738801,\n",
       "    -0.006526429671794176,\n",
       "    -0.03702714294195175,\n",
       "    -0.019097579643130302,\n",
       "    -0.0023686066269874573,\n",
       "    -0.00595489889383316,\n",
       "    -0.027106095105409622,\n",
       "    0.012571249157190323,\n",
       "    -0.020101165398955345,\n",
       "    -0.008894026279449463,\n",
       "    -0.04068932682275772,\n",
       "    0.03792488947510719,\n",
       "    0.02328866720199585,\n",
       "    0.1490245759487152,\n",
       "    0.03295452520251274,\n",
       "    -0.03118138760328293,\n",
       "    -0.0797777771949768,\n",
       "    0.14820171892642975,\n",
       "    0.07100632786750793,\n",
       "    -0.15406255424022675]},\n",
       "  {'chosen_arm_features_batch': [-0.04299277067184448,\n",
       "    -0.046811629086732864,\n",
       "    0.043092261999845505,\n",
       "    -0.0205977912992239,\n",
       "    -0.039734888821840286,\n",
       "    0.007147263735532761,\n",
       "    0.007119379937648773,\n",
       "    0.010808207094669342,\n",
       "    -0.021712232381105423,\n",
       "    0.033751461654901505,\n",
       "    -0.023998703807592392,\n",
       "    -0.03531050682067871,\n",
       "    -0.0101877236738801,\n",
       "    -0.006526429671794176,\n",
       "    -0.03702714294195175,\n",
       "    -0.019097579643130302,\n",
       "    0.03303928300738335,\n",
       "    -0.04348320886492729,\n",
       "    -0.004037179052829742,\n",
       "    0.02618800476193428,\n",
       "    -0.01575835794210434,\n",
       "    -0.027919817715883255,\n",
       "    0.035475682467222214,\n",
       "    0.009573984891176224,\n",
       "    -0.07877536118030548,\n",
       "    0.08871106803417206,\n",
       "    0.002105358988046646,\n",
       "    0.03312497213482857,\n",
       "    0.04104284197092056,\n",
       "    0.0557677298784256,\n",
       "    -0.03189029544591904,\n",
       "    -0.21686536073684692]},\n",
       "  {'chosen_arm_features_batch': [0.0030800215899944305,\n",
       "    0.024620745331048965,\n",
       "    0.005418073385953903,\n",
       "    -0.04430771991610527,\n",
       "    -0.010372795164585114,\n",
       "    -0.017497576773166656,\n",
       "    -0.007242929190397263,\n",
       "    -0.013289429247379303,\n",
       "    -0.021712232381105423,\n",
       "    0.033751461654901505,\n",
       "    -0.023998703807592392,\n",
       "    -0.03531050682067871,\n",
       "    -0.0101877236738801,\n",
       "    -0.006526429671794176,\n",
       "    -0.03702714294195175,\n",
       "    -0.019097579643130302,\n",
       "    -0.0023686066269874573,\n",
       "    -0.00595489889383316,\n",
       "    -0.027106095105409622,\n",
       "    0.012571249157190323,\n",
       "    -0.020101165398955345,\n",
       "    -0.008894026279449463,\n",
       "    -0.04068932682275772,\n",
       "    0.03792488947510719,\n",
       "    0.12535269558429718,\n",
       "    0.20933808386325836,\n",
       "    0.06380368769168854,\n",
       "    -0.09548774361610413,\n",
       "    -0.20059838891029358,\n",
       "    0.2406357079744339,\n",
       "    0.1739029437303543,\n",
       "    -0.09125975519418716]},\n",
       "  {'chosen_arm_features_batch': [-0.023487329483032227,\n",
       "    -0.03487672656774521,\n",
       "    0.020275834947824478,\n",
       "    0.038274478167295456,\n",
       "    -0.033383384346961975,\n",
       "    0.04784223809838295,\n",
       "    -0.014928542077541351,\n",
       "    0.030123893171548843,\n",
       "    -0.021712232381105423,\n",
       "    0.033751461654901505,\n",
       "    -0.023998703807592392,\n",
       "    -0.03531050682067871,\n",
       "    -0.0101877236738801,\n",
       "    -0.006526429671794176,\n",
       "    -0.03702714294195175,\n",
       "    -0.019097579643130302,\n",
       "    0.012771759182214737,\n",
       "    -0.04484167322516441,\n",
       "    0.047147225588560104,\n",
       "    0.017748523503541946,\n",
       "    -0.023450244218111038,\n",
       "    0.012438487261533737,\n",
       "    0.02130318060517311,\n",
       "    0.021957803517580032,\n",
       "    0.12535269558429718,\n",
       "    0.20933808386325836,\n",
       "    0.06380368769168854,\n",
       "    -0.09548774361610413,\n",
       "    -0.20059838891029358,\n",
       "    0.2406357079744339,\n",
       "    0.1739029437303543,\n",
       "    -0.09125975519418716]}],\n",
       " 'action': [0, 0, 0, 0, 0],\n",
       " 'next_step_type': [2, 2, 2, 2, 2],\n",
       " 'reward': [4.0, 5.0, 5.0, 3.0, 4.0],\n",
       " 'discount': [0.0, 0.0, 0.0, 0.0, 0.0]}"
      ]
     },
     "execution_count": 45,
     "metadata": {},
     "output_type": "execute_result"
    }
   ],
   "source": [
    "test_trajectory_dict"
   ]
  },
  {
   "cell_type": "markdown",
   "id": "1efe2640-8cd4-4725-b16d-6564fee4d5b5",
   "metadata": {},
   "source": [
    "## load examples to BQ"
   ]
  },
  {
   "cell_type": "markdown",
   "id": "bf001fef-bc4c-4cf8-9e1f-41a930807bcd",
   "metadata": {},
   "source": [
    "### write to local file"
   ]
  },
  {
   "cell_type": "code",
   "execution_count": 46,
   "id": "21d29d36-0610-4293-a154-614ef2709057",
   "metadata": {
    "tags": []
   },
   "outputs": [],
   "source": [
    "with open(BIGQUERY_TMP_FILE, \"w\") as f:\n",
    "    for example in train_dataset.batch(BATCH_SIZE, drop_remainder=True).take(count=50):\n",
    "        test_trajectories = my_trajectory_fn(example)\n",
    "        _traj_dict = build_dict_from_trajectory(test_trajectories)\n",
    "        f.write(json.dumps(_traj_dict) + \"\\n\")\n",
    "        # break"
   ]
  },
  {
   "cell_type": "code",
   "execution_count": 47,
   "id": "1697e88e-ceee-4880-b650-d53fd8f5e11f",
   "metadata": {
    "tags": []
   },
   "outputs": [
    {
     "data": {
      "text/plain": [
       "{'target_movie_genres': <tf.Tensor: shape=(5, 10), dtype=string, numpy=\n",
       " array([[b'Action', b'Adventure', b'Sci-Fi', b'War', b'UNK', b'UNK',\n",
       "         b'UNK', b'UNK', b'UNK', b'UNK'],\n",
       "        [b'Comedy', b'Crime', b'UNK', b'UNK', b'UNK', b'UNK', b'UNK',\n",
       "         b'UNK', b'UNK', b'UNK'],\n",
       "        [b'Action', b'War', b'UNK', b'UNK', b'UNK', b'UNK', b'UNK',\n",
       "         b'UNK', b'UNK', b'UNK'],\n",
       "        [b'Comedy', b'UNK', b'UNK', b'UNK', b'UNK', b'UNK', b'UNK',\n",
       "         b'UNK', b'UNK', b'UNK'],\n",
       "        [b'Action', b'Sci-Fi', b'Thriller', b'UNK', b'UNK', b'UNK',\n",
       "         b'UNK', b'UNK', b'UNK', b'UNK']], dtype=object)>,\n",
       " 'target_movie_id': <tf.Tensor: shape=(5,), dtype=string, numpy=array([b'1630', b'3178', b'2746', b'2719', b'2653'], dtype=object)>,\n",
       " 'target_movie_rating': <tf.Tensor: shape=(5,), dtype=float32, numpy=array([5., 3., 3., 5., 3.], dtype=float32)>,\n",
       " 'target_movie_title': <tf.Tensor: shape=(5,), dtype=string, numpy=\n",
       " array([b'Starship Troopers (1997)', b'Sister Act (1992)',\n",
       "        b'Iron Eagle (1986)',\n",
       "        b'And Now for Something Completely Different (1971)',\n",
       "        b'Deep Blue Sea (1999)'], dtype=object)>,\n",
       " 'target_movie_year': <tf.Tensor: shape=(5,), dtype=int64, numpy=array([1997, 1992, 1986, 1971, 1999])>,\n",
       " 'target_rating_timestamp': <tf.Tensor: shape=(5,), dtype=int64, numpy=array([965963987, 976307756, 998154442, 980553315, 976255592])>,\n",
       " 'user_age': <tf.Tensor: shape=(5,), dtype=int64, numpy=array([25, 18, 25, 35, 18])>,\n",
       " 'user_gender': <tf.Tensor: shape=(5,), dtype=string, numpy=array([b'M', b'M', b'F', b'M', b'M'], dtype=object)>,\n",
       " 'user_id': <tf.Tensor: shape=(5,), dtype=string, numpy=array([b'3807', b'402', b'1559', b'5629', b'428'], dtype=object)>,\n",
       " 'user_occupation_text': <tf.Tensor: shape=(5,), dtype=string, numpy=\n",
       " array([b'executive/managerial', b'college/grad student',\n",
       "        b'clerical/admin', b'technician/engineer', b'other'], dtype=object)>,\n",
       " 'user_zip_code': <tf.Tensor: shape=(5,), dtype=string, numpy=array([b'60010', b'02138', b'85226', b'06854', b'54901'], dtype=object)>}"
      ]
     },
     "execution_count": 47,
     "metadata": {},
     "output_type": "execute_result"
    }
   ],
   "source": [
    "example"
   ]
  },
  {
   "cell_type": "markdown",
   "id": "e24579a8-5774-41f8-baf0-1cdfbd709d6e",
   "metadata": {},
   "source": [
    "### load table from file"
   ]
  },
  {
   "cell_type": "code",
   "execution_count": 48,
   "id": "9c9ca3c4-2d16-4b68-82fb-1102704617af",
   "metadata": {
    "tags": []
   },
   "outputs": [],
   "source": [
    "job_config = bigquery.LoadJobConfig(\n",
    "    schema=[\n",
    "        bigquery.SchemaField(\"step_type\", \"INT64\", mode=\"REPEATED\"),\n",
    "        bigquery.SchemaField(\n",
    "            \"observation\",\n",
    "            \"RECORD\",\n",
    "            mode=\"REPEATED\",\n",
    "            fields=[\n",
    "                bigquery.SchemaField(\"observation_batch\", \"FLOAT64\",\n",
    "                                     \"REPEATED\")\n",
    "            ]),\n",
    "        bigquery.SchemaField(\n",
    "            \"chosen_arm_features\",\n",
    "            \"RECORD\",\n",
    "            mode=\"REPEATED\",\n",
    "            fields=[\n",
    "                bigquery.SchemaField(\"chosen_arm_features_batch\", \"FLOAT64\",\n",
    "                                     \"REPEATED\")\n",
    "            ]),\n",
    "        bigquery.SchemaField(\"action\", \"INT64\", mode=\"REPEATED\"),\n",
    "        bigquery.SchemaField(\"next_step_type\", \"INT64\", mode=\"REPEATED\"),\n",
    "        bigquery.SchemaField(\"reward\", \"FLOAT64\", mode=\"REPEATED\"),\n",
    "        bigquery.SchemaField(\"discount\", \"FLOAT64\", mode=\"REPEATED\"),\n",
    "    ],\n",
    "    source_format=bigquery.SourceFormat.NEWLINE_DELIMITED_JSON,\n",
    ")"
   ]
  },
  {
   "cell_type": "code",
   "execution_count": 50,
   "id": "358049ba-1f09-4179-8c78-8ddc6e085d18",
   "metadata": {
    "tags": []
   },
   "outputs": [
    {
     "data": {
      "text/plain": [
       "LoadJob<project=hybrid-vertex, location=US, id=9dc77135-abef-4420-80e0-c0ff1837dca1>"
      ]
     },
     "execution_count": 50,
     "metadata": {},
     "output_type": "execute_result"
    }
   ],
   "source": [
    "with open(BIGQUERY_TMP_FILE, \"rb\") as source_file:\n",
    "    load_job = bqclient.load_table_from_file(\n",
    "        source_file, BQ_TABLE_REF, job_config=job_config\n",
    "    )\n",
    "\n",
    "load_job.result()  # Wait for the job to complete."
   ]
  },
  {
   "cell_type": "code",
   "execution_count": 51,
   "id": "f8050709-b504-4283-bb83-ab9250034e6f",
   "metadata": {
    "tags": []
   },
   "outputs": [
    {
     "data": {
      "text/plain": [
       "'hybrid-vertex.mvlens_rec_bandits_v2.test_mv_b5_g8_a8'"
      ]
     },
     "execution_count": 51,
     "metadata": {},
     "output_type": "execute_result"
    }
   ],
   "source": [
    "BQ_TABLE_REF"
   ]
  },
  {
   "cell_type": "markdown",
   "id": "30658925-3bd3-428b-af71-ea07e0b8b799",
   "metadata": {},
   "source": [
    "## write TF Record"
   ]
  },
  {
   "cell_type": "code",
   "execution_count": 52,
   "id": "a69373d0-4e53-4bad-99e2-bff0ddc4cbcb",
   "metadata": {
    "tags": []
   },
   "outputs": [],
   "source": [
    "def _bytes_feature(tensor: tf.Tensor) -> tf.train.Feature:\n",
    "    \"\"\"\n",
    "    Returns a `tf.train.Feature` with bytes from `tensor`.\n",
    "\n",
    "    Args:\n",
    "      tensor: A `tf.Tensor` object.\n",
    "\n",
    "    Returns:\n",
    "      A `tf.train.Feature` object containing bytes that represent the content of\n",
    "      `tensor`.\n",
    "    \"\"\"\n",
    "    value = tf.io.serialize_tensor(tensor)\n",
    "    if isinstance(value, type(tf.constant(0))):\n",
    "        value = value.numpy()\n",
    "    return tf.train.Feature(bytes_list=tf.train.BytesList(value=[value]))\n",
    "\n",
    "def build_example_from_bq(data_row: bigquery.table.Row) -> tf.train.Example:\n",
    "    \"\"\"\n",
    "    Builds a `tf.train.Example` from `data_row` content.\n",
    "\n",
    "    Args:\n",
    "      data_row: \n",
    "        A `bigquery.table.Row` object that contains 7 pieces of data:\n",
    "          `step_type`, `observation`, `chosen_arm_features`, `action`, `policy_info`,\n",
    "          `next_step_type`,`reward`, `discount`. Each piece of data except `observation`\n",
    "          and `chosen_arm_features` are 1D arrays; \n",
    "          `observation` is a 1D array of `{\"observation_batch\": 1D array}.`\n",
    "          `chosen_arm_features` is a 1D array of `{\"chosen_arm_features_batch\": 1D array}.`\n",
    "\n",
    "    Returns:\n",
    "      A `tf.train.Example` object holding the same data as `data_row`.\n",
    "    \"\"\"\n",
    "    feature = {\n",
    "        \"observation\":\n",
    "            _bytes_feature([\n",
    "                observation[\"observation_batch\"]\n",
    "                for observation in data_row.get(\"observation\")\n",
    "            ]),\n",
    "        \"chosen_arm_features\":\n",
    "            _bytes_feature([\n",
    "                arm_feats[\"chosen_arm_features_batch\"]\n",
    "                for arm_feats in data_row.get(\"chosen_arm_features\")\n",
    "            ]),\n",
    "        \"step_type\":\n",
    "            _bytes_feature(data_row.get(\"step_type\")),\n",
    "        \"action\":\n",
    "            _bytes_feature(data_row.get(\"action\")),\n",
    "        \"next_step_type\":\n",
    "            _bytes_feature(data_row.get(\"next_step_type\")),\n",
    "        \"reward\":\n",
    "            _bytes_feature(data_row.get(\"reward\")),\n",
    "        \"discount\":\n",
    "            _bytes_feature(data_row.get(\"discount\")),\n",
    "    }\n",
    "    example_proto = tf.train.Example(\n",
    "        features=tf.train.Features(feature=feature))\n",
    "    return example_proto"
   ]
  },
  {
   "cell_type": "code",
   "execution_count": 53,
   "id": "a41dcde2-a642-4a19-be41-4104082f241c",
   "metadata": {
    "tags": []
   },
   "outputs": [
    {
     "name": "stdout",
     "output_type": "stream",
     "text": [
      "Got table: `hybrid-vertex.mvlens_rec_bandits_v2.test_mv_b5_g8_a8`\n",
      "Table has 50 rows\n"
     ]
    }
   ],
   "source": [
    "bq_table = bqclient.get_table(BQ_TABLE_REF)\n",
    "print(f\"Got table: `{bq_table.project}.{bq_table.dataset_id}.{bq_table.table_id}`\")\n",
    "print(\"Table has {} rows\".format(bq_table.num_rows))\n",
    "\n",
    "table_row_iter = bqclient.list_rows(bq_table)"
   ]
  },
  {
   "cell_type": "code",
   "execution_count": 54,
   "id": "fccd483f-b71b-4cf5-bdb9-a27cec099942",
   "metadata": {
    "tags": []
   },
   "outputs": [],
   "source": [
    "def write_tfrecords(\n",
    "    tfrecord_file: str,\n",
    "    table: bigquery.table.RowIterator\n",
    ") -> None:\n",
    "    \"\"\"\n",
    "    Writes the row data in `table` into TFRecords in `tfrecord_file`.\n",
    "\n",
    "    Args:\n",
    "      tfrecord_file: Path to file to write the TFRecords.\n",
    "      table: A row iterator over all data to be written.\n",
    "    \"\"\"\n",
    "    with tf.io.TFRecordWriter(tfrecord_file) as writer:\n",
    "        for data_row in table:\n",
    "            example = build_example_from_bq(data_row)\n",
    "            writer.write(\n",
    "                example.SerializeToString()\n",
    "            )"
   ]
  },
  {
   "cell_type": "code",
   "execution_count": 55,
   "id": "3c5d5e6b-a621-4243-bfc0-059ed45da59a",
   "metadata": {
    "tags": []
   },
   "outputs": [],
   "source": [
    "write_tfrecords(TFRECORD_FILE, table_row_iter)"
   ]
  },
  {
   "cell_type": "markdown",
   "id": "ef7d9235-acf7-4445-a671-0916378d468e",
   "metadata": {},
   "source": [
    "## consume TF Record"
   ]
  },
  {
   "cell_type": "code",
   "execution_count": 56,
   "id": "d20ce8e7-b664-4d25-8d1e-ed172561001b",
   "metadata": {
    "tags": []
   },
   "outputs": [],
   "source": [
    "# Mapping from feature name to serialized value\n",
    "feature_description = {\n",
    "    \"observation\": tf.io.FixedLenFeature((), tf.string),\n",
    "    \"chosen_arm_features\": tf.io.FixedLenFeature((), tf.string),\n",
    "    \"step_type\": tf.io.FixedLenFeature((), tf.string),\n",
    "    \"action\": tf.io.FixedLenFeature((), tf.string),\n",
    "    \"next_step_type\": tf.io.FixedLenFeature((), tf.string),\n",
    "    \"reward\": tf.io.FixedLenFeature((), tf.string),\n",
    "    \"discount\": tf.io.FixedLenFeature((), tf.string),\n",
    "}\n",
    "\n",
    "def _parse_record(raw_record: tf.Tensor) -> Dict[str, tf.Tensor]:\n",
    "    \"\"\"\n",
    "    Parses a serialized `tf.train.Example` proto.\n",
    "\n",
    "    Args:\n",
    "      raw_record: A serialized data record of a `tf.train.Example` proto.\n",
    "\n",
    "    Returns:\n",
    "      A dict mapping feature names to values as `tf.Tensor` objects of type\n",
    "      string containing serialized protos, following `feature_description`.\n",
    "    \"\"\"\n",
    "    return tf.io.parse_single_example(raw_record, feature_description)\n",
    "\n",
    "def build_trajectory_from_tfrecord(\n",
    "    parsed_record: Dict[str, tf.Tensor],\n",
    "    batch_size: int,\n",
    "    num_actions: int,\n",
    "    # policy_info: policies.utils.PolicyInfo\n",
    ") -> trajectories.Trajectory:\n",
    "    \"\"\"\n",
    "    Builds a `trajectories.Trajectory` object from `parsed_record`.\n",
    "\n",
    "    Args:\n",
    "      parsed_record: A dict mapping feature names to values as `tf.Tensor`\n",
    "        objects of type string containing serialized protos.\n",
    "      policy_info: Policy information specification.\n",
    "\n",
    "    Returns:\n",
    "      A `trajectories.Trajectory` object that contains values as de-serialized\n",
    "      `tf.Tensor` objects from `parsed_record`.\n",
    "    \"\"\"\n",
    "    # _batch_size = BATCH_SIZE\n",
    "    # _num_actions = 2\n",
    "    dummy_rewards = tf.zeros([batch_size, 1, num_actions])\n",
    "\n",
    "    global_features = tf.expand_dims(\n",
    "        tf.io.parse_tensor(parsed_record[\"observation\"], out_type=tf.float32),\n",
    "        axis=1\n",
    "    )\n",
    "    observation = {\n",
    "        bandit_spec_utils.GLOBAL_FEATURE_KEY: global_features\n",
    "    }\n",
    "    \n",
    "    arm_features = tf.expand_dims(\n",
    "        tf.io.parse_tensor(parsed_record[\"chosen_arm_features\"], out_type=tf.float32),\n",
    "        axis=1\n",
    "    )\n",
    "\n",
    "    policy_info = policy_utilities.PerArmPolicyInfo(\n",
    "        chosen_arm_features=arm_features,\n",
    "        predicted_rewards_mean=dummy_rewards,\n",
    "        bandit_policy_type=tf.zeros([batch_size, 1, 1], dtype=tf.int32)\n",
    "    )\n",
    "\n",
    "    return trajectories.Trajectory(\n",
    "        step_type=tf.expand_dims(\n",
    "            tf.io.parse_tensor(parsed_record[\"step_type\"], out_type=tf.int32),\n",
    "            axis=1\n",
    "        ),\n",
    "        observation = observation,\n",
    "        action=tf.expand_dims(\n",
    "            tf.io.parse_tensor(parsed_record[\"action\"], out_type=tf.int32),\n",
    "            axis=1\n",
    "        ),\n",
    "        policy_info=policy_info,\n",
    "        next_step_type=tf.expand_dims(\n",
    "            tf.io.parse_tensor(\n",
    "                parsed_record[\"next_step_type\"], out_type=tf.int32),\n",
    "            axis=1\n",
    "        ),\n",
    "        reward=tf.expand_dims(\n",
    "            tf.io.parse_tensor(parsed_record[\"reward\"], out_type=tf.float32),\n",
    "            axis=1\n",
    "        ),\n",
    "        discount=tf.expand_dims(\n",
    "            tf.io.parse_tensor(parsed_record[\"discount\"], out_type=tf.float32),\n",
    "            axis=1\n",
    "        )\n",
    "    )"
   ]
  },
  {
   "cell_type": "code",
   "execution_count": 57,
   "id": "d0c7265c-5984-45ae-b4e7-dbcef033299b",
   "metadata": {
    "tags": []
   },
   "outputs": [
    {
     "data": {
      "text/plain": [
       "<_MapDataset element_spec={'action': TensorSpec(shape=(), dtype=tf.string, name=None), 'chosen_arm_features': TensorSpec(shape=(), dtype=tf.string, name=None), 'discount': TensorSpec(shape=(), dtype=tf.string, name=None), 'next_step_type': TensorSpec(shape=(), dtype=tf.string, name=None), 'observation': TensorSpec(shape=(), dtype=tf.string, name=None), 'reward': TensorSpec(shape=(), dtype=tf.string, name=None), 'step_type': TensorSpec(shape=(), dtype=tf.string, name=None)}>"
      ]
     },
     "execution_count": 57,
     "metadata": {},
     "output_type": "execute_result"
    }
   ],
   "source": [
    "_raw_dataset = tf.data.TFRecordDataset([TFRECORD_FILE])\n",
    "_parsed_dataset = _raw_dataset.map(_parse_record)\n",
    "_parsed_dataset"
   ]
  },
  {
   "cell_type": "code",
   "execution_count": 58,
   "id": "bb934b95-510e-4f89-bb90-f8c78a0561f0",
   "metadata": {
    "tags": []
   },
   "outputs": [],
   "source": [
    "num_epochs = 2\n",
    "_batch_size = BATCH_SIZE \n",
    "\n",
    "for epoch in range(num_epochs):\n",
    "    for parsed_record in _parsed_dataset:\n",
    "        _parsed_trajectory = build_trajectory_from_tfrecord(parsed_record, _batch_size, NUM_ACTIONS)\n",
    "        break"
   ]
  },
  {
   "cell_type": "code",
   "execution_count": 59,
   "id": "16d2b3e6-2bba-43fd-9b56-08cc0a1cd247",
   "metadata": {
    "tags": []
   },
   "outputs": [
    {
     "data": {
      "text/plain": [
       "Trajectory(\n",
       "{'action': <tf.Tensor: shape=(5, 1), dtype=int32, numpy=\n",
       "array([[0],\n",
       "       [0],\n",
       "       [0],\n",
       "       [0],\n",
       "       [0]], dtype=int32)>,\n",
       " 'discount': <tf.Tensor: shape=(5, 1), dtype=float32, numpy=\n",
       "array([[0.],\n",
       "       [0.],\n",
       "       [0.],\n",
       "       [0.],\n",
       "       [0.]], dtype=float32)>,\n",
       " 'next_step_type': <tf.Tensor: shape=(5, 1), dtype=int32, numpy=\n",
       "array([[2],\n",
       "       [2],\n",
       "       [2],\n",
       "       [2],\n",
       "       [2]], dtype=int32)>,\n",
       " 'observation': {'global': <tf.Tensor: shape=(5, 1, 48), dtype=float32, numpy=\n",
       "array([[[-0.01734769,  0.02553505, -0.04406854, -0.04031812,\n",
       "         -0.04193129,  0.04592845,  0.02353188, -0.02037904,\n",
       "          0.04615309,  0.01614318, -0.02932086, -0.00097036,\n",
       "          0.02026587,  0.01653384,  0.02985935, -0.03599608,\n",
       "          0.0422455 ,  0.03379843,  0.00542443,  0.04299671,\n",
       "         -0.04014461,  0.03944049, -0.04809446, -0.03451681,\n",
       "          0.03500571, -0.02589898,  0.0345853 ,  0.00622436,\n",
       "         -0.0182314 ,  0.02379949,  0.00960375,  0.04081473,\n",
       "          0.01959846, -0.0416555 ,  0.00310005, -0.03248279,\n",
       "         -0.03752174,  0.01398626, -0.01002882, -0.02989262,\n",
       "         -0.01411375,  0.00964092, -0.01326451, -0.00907268,\n",
       "         -0.01817686, -0.02940894,  0.01656293,  0.00759296]],\n",
       "\n",
       "       [[ 0.01249273, -0.02871047,  0.03164978, -0.02766032,\n",
       "         -0.04348788, -0.01699141,  0.0376105 ,  0.04523547,\n",
       "          0.04615309,  0.01614318, -0.02932086, -0.00097036,\n",
       "          0.02026587,  0.01653384,  0.02985935, -0.03599608,\n",
       "         -0.04417068,  0.01111669,  0.0479745 ,  0.01227651,\n",
       "          0.02160103, -0.03148116,  0.00783471, -0.04647073,\n",
       "          0.02537687, -0.00757545,  0.01008243,  0.02942424,\n",
       "         -0.04348661, -0.02084695, -0.02690108,  0.00586058,\n",
       "          0.01959846, -0.0416555 ,  0.00310005, -0.03248279,\n",
       "         -0.03752174,  0.01398626, -0.01002882, -0.02989262,\n",
       "          0.03573981, -0.01428288, -0.02962217, -0.01133833,\n",
       "          0.02623086, -0.01056337,  0.03167461,  0.02144294]],\n",
       "\n",
       "       [[ 0.02519521,  0.0344586 , -0.02720667, -0.04262505,\n",
       "          0.00478501,  0.01686789, -0.03042858,  0.04658169,\n",
       "          0.04615309,  0.01614318, -0.02932086, -0.00097036,\n",
       "          0.02026587,  0.01653384,  0.02985935, -0.03599608,\n",
       "          0.01501593,  0.00085285,  0.02988384,  0.04845926,\n",
       "          0.00683749, -0.00955701, -0.0061189 , -0.0456966 ,\n",
       "         -0.03727126, -0.02507305,  0.00895666, -0.03701989,\n",
       "         -0.02376728,  0.02205067,  0.00513468,  0.01460436,\n",
       "          0.01959846, -0.0416555 ,  0.00310005, -0.03248279,\n",
       "         -0.03752174,  0.01398626, -0.01002882, -0.02989262,\n",
       "         -0.02147198, -0.01077119, -0.04222902, -0.01657338,\n",
       "         -0.0474437 , -0.03830049,  0.00902827, -0.00215005]],\n",
       "\n",
       "       [[-0.03553001, -0.02695649, -0.03450073,  0.02475879,\n",
       "         -0.00958335,  0.00446024, -0.00746315,  0.02863963,\n",
       "         -0.00022263, -0.00449651,  0.03238107, -0.00095017,\n",
       "         -0.01407912,  0.00864226,  0.01288942,  0.04910605,\n",
       "         -0.04417068,  0.01111669,  0.0479745 ,  0.01227651,\n",
       "          0.02160103, -0.03148116,  0.00783471, -0.04647073,\n",
       "          0.02537687, -0.00757545,  0.01008243,  0.02942424,\n",
       "         -0.04348661, -0.02084695, -0.02690108,  0.00586058,\n",
       "          0.00928034,  0.02651265,  0.03853904, -0.04073539,\n",
       "         -0.00826509, -0.00242981,  0.02881045,  0.04813567,\n",
       "         -0.03834748,  0.00183677,  0.03815648, -0.04020343,\n",
       "          0.04853929,  0.0147911 ,  0.01669934,  0.04266628]],\n",
       "\n",
       "       [[-0.00346367, -0.00218389,  0.02169624, -0.04621262,\n",
       "         -0.03465003, -0.00819399, -0.00207428, -0.02843182,\n",
       "          0.04615309,  0.01614318, -0.02932086, -0.00097036,\n",
       "          0.02026587,  0.01653384,  0.02985935, -0.03599608,\n",
       "          0.04445514, -0.00743305, -0.02789691,  0.02727591,\n",
       "          0.04902942, -0.01653052,  0.01583834, -0.00752001,\n",
       "          0.00460738, -0.02757206,  0.02914189,  0.01359458,\n",
       "          0.04764373,  0.01708037, -0.02901783, -0.0432299 ,\n",
       "          0.01959846, -0.0416555 ,  0.00310005, -0.03248279,\n",
       "         -0.03752174,  0.01398626, -0.01002882, -0.02989262,\n",
       "          0.01734525, -0.04609677, -0.01830782,  0.02044303,\n",
       "          0.01257585,  0.00215888,  0.04284134,  0.03579673]]],\n",
       "      dtype=float32)>},\n",
       " 'policy_info': PerArmPolicyInfo(log_probability=(), predicted_rewards_mean=<tf.Tensor: shape=(5, 1, 2), dtype=float32, numpy=\n",
       "array([[[0., 0.]],\n",
       "\n",
       "       [[0., 0.]],\n",
       "\n",
       "       [[0., 0.]],\n",
       "\n",
       "       [[0., 0.]],\n",
       "\n",
       "       [[0., 0.]]], dtype=float32)>, multiobjective_scalarized_predicted_rewards_mean=(), predicted_rewards_optimistic=(), predicted_rewards_sampled=(), bandit_policy_type=<tf.Tensor: shape=(5, 1, 1), dtype=int32, numpy=\n",
       "array([[[0]],\n",
       "\n",
       "       [[0]],\n",
       "\n",
       "       [[0]],\n",
       "\n",
       "       [[0]],\n",
       "\n",
       "       [[0]]], dtype=int32)>, chosen_arm_features=<tf.Tensor: shape=(5, 1, 32), dtype=float32, numpy=\n",
       "array([[[-0.00621355,  0.02152486,  0.04864315, -0.01221891,\n",
       "         -0.00688056, -0.04840251, -0.04515664,  0.04951173,\n",
       "         -0.02171223,  0.03375146, -0.0239987 , -0.03531051,\n",
       "         -0.01018772, -0.00652643, -0.03702714, -0.01909758,\n",
       "          0.01277176, -0.04484167,  0.04714723,  0.01774852,\n",
       "         -0.02345024,  0.01243849,  0.02130318,  0.0219578 ,\n",
       "         -0.07877536,  0.08871107,  0.00210536,  0.03312497,\n",
       "          0.04104284,  0.05576773, -0.0318903 , -0.21686536]],\n",
       "\n",
       "       [[-0.01882243,  0.04585094,  0.02314626,  0.01252458,\n",
       "          0.03795553,  0.02057812,  0.00799705,  0.00306505,\n",
       "         -0.02171223,  0.03375146, -0.0239987 , -0.03531051,\n",
       "         -0.01018772, -0.00652643, -0.03702714, -0.01909758,\n",
       "          0.01277176, -0.04484167,  0.04714723,  0.01774852,\n",
       "         -0.02345024,  0.01243849,  0.02130318,  0.0219578 ,\n",
       "          0.1253527 ,  0.20933808,  0.06380369, -0.09548774,\n",
       "         -0.20059839,  0.24063571,  0.17390294, -0.09125976]],\n",
       "\n",
       "       [[ 0.02129415,  0.04197366, -0.01231841, -0.02341147,\n",
       "         -0.04015929, -0.04198426, -0.02079526, -0.02035922,\n",
       "         -0.02171223,  0.03375146, -0.0239987 , -0.03531051,\n",
       "         -0.01018772, -0.00652643, -0.03702714, -0.01909758,\n",
       "         -0.00732423, -0.04538384, -0.01751284,  0.02507706,\n",
       "          0.04277173, -0.02555986, -0.00024264, -0.04647228,\n",
       "          0.1253527 ,  0.20933808,  0.06380369, -0.09548774,\n",
       "         -0.20059839,  0.24063571,  0.17390294, -0.09125976]],\n",
       "\n",
       "       [[ 0.04292805,  0.00119063, -0.0266582 ,  0.02514714,\n",
       "          0.02280012, -0.01100172, -0.03856983, -0.03832895,\n",
       "         -0.02171223,  0.03375146, -0.0239987 , -0.03531051,\n",
       "         -0.01018772, -0.00652643, -0.03702714, -0.01909758,\n",
       "          0.00470432,  0.04779379, -0.0223693 , -0.01256617,\n",
       "         -0.02622608,  0.04812172, -0.04440149, -0.01727439,\n",
       "         -0.07877536,  0.08871107,  0.00210536,  0.03312497,\n",
       "          0.04104284,  0.05576773, -0.0318903 , -0.21686536]],\n",
       "\n",
       "       [[ 0.00098381, -0.02030789, -0.04642928,  0.04508908,\n",
       "          0.04648039, -0.01858538, -0.02589337, -0.01730229,\n",
       "         -0.02171223,  0.03375146, -0.0239987 , -0.03531051,\n",
       "         -0.01018772, -0.00652643, -0.03702714, -0.01909758,\n",
       "          0.03303928, -0.04348321, -0.00403718,  0.026188  ,\n",
       "         -0.01575836, -0.02791982,  0.03547568,  0.00957398,\n",
       "         -0.07877536,  0.08871107,  0.00210536,  0.03312497,\n",
       "          0.04104284,  0.05576773, -0.0318903 , -0.21686536]]],\n",
       "      dtype=float32)>),\n",
       " 'reward': <tf.Tensor: shape=(5, 1), dtype=float32, numpy=\n",
       "array([[2.],\n",
       "       [2.],\n",
       "       [4.],\n",
       "       [2.],\n",
       "       [4.]], dtype=float32)>,\n",
       " 'step_type': <tf.Tensor: shape=(5, 1), dtype=int32, numpy=\n",
       "array([[0],\n",
       "       [0],\n",
       "       [0],\n",
       "       [0],\n",
       "       [0]], dtype=int32)>})"
      ]
     },
     "execution_count": 59,
     "metadata": {},
     "output_type": "execute_result"
    }
   ],
   "source": [
    "_parsed_trajectory"
   ]
  },
  {
   "cell_type": "markdown",
   "id": "a34c864e-0140-4528-b6cc-7ad96d42bae3",
   "metadata": {},
   "source": [
    "# Test on agent"
   ]
  },
  {
   "cell_type": "code",
   "execution_count": 61,
   "id": "a0583624-5417-4bb4-bce0-5abdf13dad1a",
   "metadata": {
    "tags": []
   },
   "outputs": [
    {
     "name": "stdout",
     "output_type": "stream",
     "text": [
      "BATCH_SIZE      : 5\n",
      "EVAL_BATCH_SIZE : 2\n",
      "NUM_ACTIONS     : 2\n",
      "GLOBAL_DIM      : 48\n",
      "PER_ARM_DIM     : 32\n"
     ]
    }
   ],
   "source": [
    "# BATCH_SIZE      = BATCH_SIZE\n",
    "# EVAL_BATCH_SIZE = 1\n",
    "# NUM_ACTIONS     = NUM_ACTIONS #this is kinda deceptive\n",
    "\n",
    "AGENT_TYPE      = 'epsGreedy' # 'LinUCB' | 'LinTS |, 'epsGreedy' | 'NeuralLinUCB'\n",
    "AGENT_ALPHA     = 0.1\n",
    "EPSILON         = 0.01\n",
    "LR              = 0.05\n",
    "ENCODING_DIM    = 1\n",
    "EPS_PHASE_STEPS = 1000\n",
    "\n",
    "# GLOBAL_DIM = EXPECTED_GLOBAL_DIM\n",
    "# PER_ARM_DIM = EXPECTED_PER_ARM_DIM\n",
    "\n",
    "GLOBAL_LAYERS   = [GLOBAL_DIM, int(GLOBAL_DIM/2), int(GLOBAL_DIM/4)]\n",
    "ARM_LAYERS      = [PER_ARM_DIM, int(PER_ARM_DIM/2), int(PER_ARM_DIM/4)]\n",
    "FIRST_COMMON_LAYER = GLOBAL_LAYERS[-1] + ARM_LAYERS[-1] # min(GLOBAL_LAYERS[-1], ARM_LAYERS[-1])\n",
    "COMMON_LAYERS = [\n",
    "    int(FIRST_COMMON_LAYER),\n",
    "    # int(FIRST_COMMON_LAYER/2),\n",
    "    int(FIRST_COMMON_LAYER/4)\n",
    "]\n",
    "\n",
    "NETWORK_TYPE = \"commontower\" # 'commontower' | 'dotproduct'\n",
    "if AGENT_TYPE == 'NeuralLinUCB':\n",
    "    NETWORK_TYPE = 'commontower'\n",
    "    ENCODING_DIM = COMMON_LAYERS[-1] \n",
    "if NETWORK_TYPE == 'dotproduct':\n",
    "    assert GLOBAL_LAYERS[0] == ARM_LAYERS[0]\n",
    "\n",
    "print(f\"BATCH_SIZE      : {BATCH_SIZE}\")\n",
    "print(f\"EVAL_BATCH_SIZE : {EVAL_BATCH_SIZE}\")\n",
    "print(f\"NUM_ACTIONS     : {NUM_ACTIONS}\")\n",
    "print(f\"GLOBAL_DIM      : {GLOBAL_DIM}\")\n",
    "print(f\"PER_ARM_DIM     : {PER_ARM_DIM}\")"
   ]
  },
  {
   "cell_type": "code",
   "execution_count": 62,
   "id": "0134ecea-8a5d-41b6-9ff4-64d3c6e6274c",
   "metadata": {
    "tags": []
   },
   "outputs": [
    {
     "name": "stdout",
     "output_type": "stream",
     "text": [
      "{'batch_size': 5,\n",
      " 'common_layers': [20, 5],\n",
      " 'encoding_dim': 1,\n",
      " 'epsilon': 0.01,\n",
      " 'eval_batch_size': 2,\n",
      " 'global_layers': [48, 24, 12],\n",
      " 'learning_rate': 0.05,\n",
      " 'model_type': 'epsGreedy',\n",
      " 'network_type': 'commontower',\n",
      " 'num_actions': 2,\n",
      " 'per_arm_layers': [32, 16, 8]}\n"
     ]
    }
   ],
   "source": [
    "HPARAMS = {  # TODO - streamline and consolidate\n",
    "    \"batch_size\": BATCH_SIZE,\n",
    "    \"eval_batch_size\" : EVAL_BATCH_SIZE,\n",
    "    \"num_actions\": NUM_ACTIONS,\n",
    "    \"model_type\": AGENT_TYPE,\n",
    "    \"network_type\": NETWORK_TYPE,\n",
    "    \"global_layers\": GLOBAL_LAYERS,\n",
    "    \"per_arm_layers\": ARM_LAYERS,\n",
    "    \"common_layers\": COMMON_LAYERS,\n",
    "    \"learning_rate\": LR,\n",
    "    \"epsilon\": EPSILON,\n",
    "    \"encoding_dim\": ENCODING_DIM\n",
    "}\n",
    "pprint(HPARAMS)"
   ]
  },
  {
   "cell_type": "code",
   "execution_count": 63,
   "id": "996b3ec4-190b-4811-84f4-4b5312c87843",
   "metadata": {
    "tags": []
   },
   "outputs": [],
   "source": [
    "from tf_agents.specs import array_spec\n",
    "\n",
    "observation_spec = {\n",
    "    'global': tf.TensorSpec([GLOBAL_DIM], tf.float32),\n",
    "    'per_arm': tf.TensorSpec([NUM_ACTIONS, PER_ARM_DIM], tf.float32) #excluding action dim here\n",
    "}\n",
    "\n",
    "action_spec = tensor_spec.BoundedTensorSpec(\n",
    "    shape=[], \n",
    "    dtype=tf.int32,\n",
    "    minimum=tf.constant(0),            \n",
    "    maximum=NUM_ACTIONS-1, # n degrees of freedom and will dictate the expected mean reward spec shape\n",
    "    name=\"action_spec\"\n",
    ")\n",
    "\n",
    "time_step_spec = ts.time_step_spec(observation_spec = observation_spec)\n",
    "\n",
    "reward_spec = {\n",
    "    \"reward\": array_spec.ArraySpec(\n",
    "        shape=[BATCH_SIZE], \n",
    "        dtype=np.float32, name=\"reward\"\n",
    "    )\n",
    "}\n",
    "reward_tensor_spec = train_utils.from_spec(reward_spec)"
   ]
  },
  {
   "cell_type": "code",
   "execution_count": 64,
   "id": "0b3f3df6-cd0e-489c-99a0-62155fde2e9a",
   "metadata": {
    "tags": []
   },
   "outputs": [
    {
     "name": "stdout",
     "output_type": "stream",
     "text": [
      "agent: NeuralEpsGreedyAgent\n",
      "Network: commontower\n"
     ]
    }
   ],
   "source": [
    "global_step = tf.compat.v1.train.get_or_create_global_step()\n",
    "agent = agent_factory.PerArmAgentFactory._get_agent(\n",
    "    agent_type = AGENT_TYPE,\n",
    "    network_type = NETWORK_TYPE,\n",
    "    time_step_spec = time_step_spec,\n",
    "    action_spec = action_spec,\n",
    "    observation_spec=observation_spec,\n",
    "    global_layers = GLOBAL_LAYERS,\n",
    "    arm_layers = ARM_LAYERS,\n",
    "    common_layers = COMMON_LAYERS,\n",
    "    agent_alpha = AGENT_ALPHA,\n",
    "    learning_rate = LR,\n",
    "    epsilon = EPSILON,\n",
    "    train_step_counter = global_step,\n",
    "    output_dim = ENCODING_DIM,\n",
    "    eps_phase_steps = EPS_PHASE_STEPS,\n",
    "    summarize_grads_and_vars = False,\n",
    "    debug_summaries = True\n",
    ")\n",
    "agent.initialize()\n",
    "print(f'agent: {agent.name}')\n",
    "if NETWORK_TYPE:\n",
    "    print(f\"Network: {NETWORK_TYPE}\")"
   ]
  },
  {
   "cell_type": "code",
   "execution_count": 65,
   "id": "adac39e2-5170-49ca-8642-6807d0e64f0f",
   "metadata": {
    "tags": []
   },
   "outputs": [],
   "source": [
    "VERSION = \"v3\""
   ]
  },
  {
   "cell_type": "code",
   "execution_count": 66,
   "id": "cdf446b6-108e-475d-8efe-7d7379c89bb2",
   "metadata": {
    "tags": []
   },
   "outputs": [
    {
     "name": "stdout",
     "output_type": "stream",
     "text": [
      "EXPERIMENT_NAME   : 02x-opt-data-v3\n",
      "RUN_NAME          : run-20241122-144354\n",
      "\n",
      "CHECKPT_DIR       : gs://rec-bandits-v2-hybrid-vertex-bucket/02x-opt-data-v3/chkpoint\n",
      "BASE_OUTPUT_DIR   : gs://rec-bandits-v2-hybrid-vertex-bucket/02x-opt-data-v3/run-20241122-144354\n",
      "LOG_DIR           : gs://rec-bandits-v2-hybrid-vertex-bucket/02x-opt-data-v3/run-20241122-144354/logs\n",
      "ROOT_DIR          : gs://rec-bandits-v2-hybrid-vertex-bucket/02x-opt-data-v3/run-20241122-144354/root\n",
      "ARTIFACTS_DIR     : gs://rec-bandits-v2-hybrid-vertex-bucket/02x-opt-data-v3/run-20241122-144354/artifacts\n"
     ]
    }
   ],
   "source": [
    "EXPERIMENT_NAME   = f'02x-opt-data-{VERSION}'\n",
    "invoke_time       = time.strftime(\"%Y%m%d-%H%M%S\")\n",
    "RUN_NAME          = f'run-{invoke_time}'\n",
    "CHECKPT_DIR       = f\"{BUCKET_URI}/{EXPERIMENT_NAME}/chkpoint\"\n",
    "BASE_OUTPUT_DIR   = f\"{BUCKET_URI}/{EXPERIMENT_NAME}/{RUN_NAME}\"\n",
    "LOG_DIR           = f\"{BASE_OUTPUT_DIR}/logs\"\n",
    "ROOT_DIR          = f\"{BASE_OUTPUT_DIR}/root\"\n",
    "ARTIFACTS_DIR     = f\"{BASE_OUTPUT_DIR}/artifacts\"\n",
    "\n",
    "print(f\"EXPERIMENT_NAME   : {EXPERIMENT_NAME}\")\n",
    "print(f\"RUN_NAME          : {RUN_NAME}\\n\")\n",
    "print(f\"CHECKPT_DIR       : {CHECKPT_DIR}\")\n",
    "print(f\"BASE_OUTPUT_DIR   : {BASE_OUTPUT_DIR}\")\n",
    "print(f\"LOG_DIR           : {LOG_DIR}\")\n",
    "print(f\"ROOT_DIR          : {ROOT_DIR}\")\n",
    "print(f\"ARTIFACTS_DIR     : {ARTIFACTS_DIR}\")"
   ]
  },
  {
   "cell_type": "code",
   "execution_count": 67,
   "id": "29feb7e0-79d0-4753-a102-7ef4d56206b4",
   "metadata": {
    "tags": []
   },
   "outputs": [
    {
     "name": "stdout",
     "output_type": "stream",
     "text": [
      "('metrics: [<tf_agents.metrics.tf_metrics.AverageReturnMetric object at '\n",
      " '0x7fa95069abf0>]')\n",
      "setting checkpoint_manager: gs://rec-bandits-v2-hybrid-vertex-bucket/02x-opt-data-v3/chkpoint\n",
      "\n",
      "'saver: <tf_agents.policies.policy_saver.PolicySaver object at 0x7fa95069bf40>'\n"
     ]
    }
   ],
   "source": [
    "train_summary_writer = tf.compat.v2.summary.create_file_writer(\n",
    "    f\"{LOG_DIR}\", flush_millis=10 * 1000\n",
    ")\n",
    "train_summary_writer.set_as_default()\n",
    "# ====================================================\n",
    "# metrics\n",
    "# ====================================================\n",
    "step_metric = tf_metrics.EnvironmentSteps()\n",
    "metrics = [\n",
    "    tf_metrics.AverageReturnMetric(batch_size=HPARAMS['batch_size'])\n",
    "]\n",
    "pprint(f\"metrics: {metrics}\")\n",
    "# ====================================================\n",
    "# get checkpoint manager\n",
    "# ====================================================\n",
    "print(f\"setting checkpoint_manager: {CHECKPT_DIR}\\n\")\n",
    "checkpoint_manager = train_utils.restore_and_get_checkpoint_manager(\n",
    "    root_dir=CHECKPT_DIR, \n",
    "    agent=agent, \n",
    "    metrics=metrics, \n",
    "    step_metric=step_metric\n",
    ")\n",
    "# ====================================================\n",
    "# policy saver\n",
    "# ====================================================\n",
    "saver = policy_saver.PolicySaver(\n",
    "    agent.policy, \n",
    "    train_step=global_step\n",
    ")\n",
    "pprint(f\"saver: {saver}\")"
   ]
  },
  {
   "cell_type": "code",
   "execution_count": 68,
   "id": "be71e783-b2a4-459c-bc10-452f6d813024",
   "metadata": {
    "tags": []
   },
   "outputs": [
    {
     "data": {
      "text/plain": [
       "<_PrefetchDataset element_spec={'action': TensorSpec(shape=(), dtype=tf.string, name=None), 'chosen_arm_features': TensorSpec(shape=(), dtype=tf.string, name=None), 'discount': TensorSpec(shape=(), dtype=tf.string, name=None), 'next_step_type': TensorSpec(shape=(), dtype=tf.string, name=None), 'observation': TensorSpec(shape=(), dtype=tf.string, name=None), 'reward': TensorSpec(shape=(), dtype=tf.string, name=None), 'step_type': TensorSpec(shape=(), dtype=tf.string, name=None)}>"
      ]
     },
     "execution_count": 68,
     "metadata": {},
     "output_type": "execute_result"
    }
   ],
   "source": [
    "NUM_EPOCHS = 5\n",
    "\n",
    "raw_dataset = tf.data.TFRecordDataset([TFRECORD_FILE])\n",
    "\n",
    "parsed_dataset = raw_dataset.map(_parse_record).prefetch(tf.data.experimental.AUTOTUNE) \n",
    "# .repeat(NUM_EPOCHS+1)\n",
    "\n",
    "parsed_dataset"
   ]
  },
  {
   "cell_type": "code",
   "execution_count": 69,
   "id": "f1a3a0cc-50b1-47d7-8678-35953c0ff964",
   "metadata": {
    "tags": []
   },
   "outputs": [
    {
     "name": "stdout",
     "output_type": "stream",
     "text": [
      "starting train job...\n",
      "epoch: 1\n",
      "step = 0: train loss = 9.960000038146973\n",
      "step = 10: train loss = 7.53000020980835\n",
      "step = 20: train loss = 2.569999933242798\n",
      "step = 30: train loss = 1.649999976158142\n",
      "step = 40: train loss = 2.359999895095825\n",
      "epoch: 2\n",
      "step = 50: train loss = 1.3200000524520874\n",
      "step = 60: train loss = 1.149999976158142\n",
      "step = 70: train loss = 2.2699999809265137\n",
      "step = 80: train loss = 0.5600000023841858\n",
      "step = 90: train loss = 1.909999966621399\n",
      "epoch: 3\n",
      "step = 100: train loss = 2.0799999237060547\n",
      "step = 110: train loss = 1.159999966621399\n",
      "step = 120: train loss = 3.7200000286102295\n",
      "step = 130: train loss = 0.8600000143051147\n",
      "step = 140: train loss = 1.659999966621399\n",
      "epoch: 4\n",
      "step = 150: train loss = 2.0299999713897705\n",
      "step = 160: train loss = 1.0499999523162842\n",
      "step = 170: train loss = 3.509999990463257\n",
      "step = 180: train loss = 0.7300000190734863\n",
      "step = 190: train loss = 1.590000033378601\n",
      "epoch: 5\n",
      "step = 200: train loss = 1.8899999856948853\n",
      "step = 210: train loss = 1.0399999618530273\n",
      "step = 220: train loss = 3.359999895095825\n",
      "step = 230: train loss = 0.7400000095367432\n",
      "step = 240: train loss = 1.5099999904632568\n",
      "train runtime_mins: 0\n",
      "saved trained policy to: gs://rec-bandits-v2-hybrid-vertex-bucket/02x-opt-data-v3/run-20241122-144354/artifacts\n"
     ]
    }
   ],
   "source": [
    "list_o_loss = []\n",
    "# Reset the train step\n",
    "agent.train_step_counter.assign(0)\n",
    "\n",
    "print(f\"starting train job...\")\n",
    "start_time = time.time()\n",
    "# tf.profiler.experimental.start(LOG_DIR)\n",
    "for i in range(NUM_EPOCHS):\n",
    "    \n",
    "    print(f\"epoch: {i+1}\")\n",
    "        \n",
    "    for parsed_record in parsed_dataset:\n",
    "\n",
    "        _trajectories = build_trajectory_from_tfrecord(\n",
    "            parsed_record, BATCH_SIZE, NUM_ACTIONS\n",
    "        )\n",
    "\n",
    "        step = agent.train_step_counter.numpy()\n",
    "        loss = agent.train(experience=_trajectories)\n",
    "        list_o_loss.append(loss.loss.numpy())\n",
    "\n",
    "        train_utils._export_metrics_and_summaries(\n",
    "            step=i, \n",
    "            metrics=metrics\n",
    "        )\n",
    "\n",
    "        # print step loss\n",
    "        if step % 10 == 0:\n",
    "            print(\n",
    "                'step = {0}: train loss = {1}'.format(\n",
    "                    step, round(loss.loss.numpy(), 2)\n",
    "                )\n",
    "            )\n",
    "# tf.profiler.experimental.stop()\n",
    "runtime_mins = int((time.time() - start_time) / 60)\n",
    "print(f\"train runtime_mins: {runtime_mins}\")\n",
    "saver.save(ARTIFACTS_DIR)\n",
    "print(f\"saved trained policy to: {ARTIFACTS_DIR}\")"
   ]
  },
  {
   "cell_type": "code",
   "execution_count": 70,
   "id": "20ac5aeb-aa63-4ac8-a027-0abde1f7b546",
   "metadata": {
    "tags": []
   },
   "outputs": [
    {
     "data": {
      "image/png": "[encoded data removed]",
      "text/plain": [
       "<Figure size 640x480 with 1 Axes>"
      ]
     },
     "metadata": {},
     "output_type": "display_data"
    }
   ],
   "source": [
    "import matplotlib.pyplot as plt\n",
    "\n",
    "plt.plot(list_o_loss)\n",
    "# plt.ylim([0, 10])\n",
    "plt.ylabel('loss')\n",
    "plt.show()"
   ]
  },
  {
   "cell_type": "code",
   "execution_count": 75,
   "id": "1370e59a-d228-4c5c-94ac-4f13d82ea302",
   "metadata": {
    "tags": []
   },
   "outputs": [],
   "source": [
    "from tensorboard import notebook\n",
    "notebook.list()"
   ]
  },
  {
   "cell_type": "code",
   "execution_count": 52,
   "id": "d7b43c30-84dc-4c97-9073-7a57a9ea73ae",
   "metadata": {},
   "outputs": [],
   "source": [
    "# %load_ext tensorboard\n",
    "%reload_ext tensorboard"
   ]
  },
  {
   "cell_type": "code",
   "execution_count": 54,
   "id": "b845dd1f-d30d-4e9d-b1b8-44cbdb562205",
   "metadata": {},
   "outputs": [],
   "source": [
    "%tensorboard --logdir=$LOG_DIR"
   ]
  },
  {
   "cell_type": "markdown",
   "id": "649b8997-1f16-48e7-a4af-f1fc26f4cc0d",
   "metadata": {},
   "source": [
    "**Finished**"
   ]
  }
 ],
 "metadata": {
  "environment": {
   "kernel": "conda-base-py",
   "name": "workbench-notebooks.m126",
   "type": "gcloud",
   "uri": "us-docker.pkg.dev/deeplearning-platform-release/gcr.io/workbench-notebooks:m126"
  },
  "kernelspec": {
   "display_name": "Python 3 (ipykernel) (Local)",
   "language": "python",
   "name": "conda-base-py"
  },
  "language_info": {
   "codemirror_mode": {
    "name": "ipython",
    "version": 3
   },
   "file_extension": ".py",
   "mimetype": "text/x-python",
   "name": "python",
   "nbconvert_exporter": "python",
   "pygments_lexer": "ipython3",
   "version": "3.10.15"
  }
 },
 "nbformat": 4,
 "nbformat_minor": 5
}
