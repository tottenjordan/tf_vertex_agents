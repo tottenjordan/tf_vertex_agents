{
 "cells": [
  {
   "cell_type": "markdown",
   "id": "5a0231ee-2a08-483b-bdc8-12f086c00d98",
   "metadata": {},
   "source": [
    "# Optimized dataset of logged interactions"
   ]
  },
  {
   "cell_type": "markdown",
   "id": "7cefc3b2-0ef4-4be1-b543-f6374442a651",
   "metadata": {},
   "source": [
    "When incrementally training a bandit agent, one approach is to implement on-policy learning, where the agent (i) makes predictions based on existing item reward estimates and uncertainty, and (ii) refines its policy by using only user’s (and system’s) feedback to its previous predictions.\n",
    "\n",
    "One approach is to trigger an update or retraining after some number of `<context, prediction, reward>` tuples have been logged, where the total number of these tuples makes up an incremental training data slice. \n",
    "\n",
    "To minimize bottlenecks in our training data input pipeline, we can preprocess the training examples, batch them, and store them in a TF Record (which allows for fast sequential reads)"
   ]
  },
  {
   "cell_type": "markdown",
   "id": "6d50d71c-a762-480e-9e24-4b9f0e096749",
   "metadata": {},
   "source": [
    "<p align=\"center\">\n",
    "    <img src='../imgs/online_learning_ra.png' width='800' />\n",
    "</p>"
   ]
  },
  {
   "cell_type": "markdown",
   "id": "1ed859f3-29f8-44bb-a512-ed44a82a6c0b",
   "metadata": {},
   "source": [
    "### Notebook config"
   ]
  },
  {
   "cell_type": "code",
   "execution_count": 1,
   "id": "bdd95346-bca8-4f18-a63d-71757161d6a4",
   "metadata": {
    "tags": []
   },
   "outputs": [
    {
     "name": "stdout",
     "output_type": "stream",
     "text": [
      "PREFIX: rec-bandits-v2\n"
     ]
    }
   ],
   "source": [
    "VERSION        = \"v2\"                       # TODO\n",
    "PREFIX         = f'rec-bandits-{VERSION}'   # TODO\n",
    "\n",
    "print(f\"PREFIX: {PREFIX}\")"
   ]
  },
  {
   "cell_type": "code",
   "execution_count": 2,
   "id": "8f04a33b-4e8d-43d8-ab66-21d7b826b60f",
   "metadata": {
    "tags": []
   },
   "outputs": [
    {
     "name": "stdout",
     "output_type": "stream",
     "text": [
      "\n",
      "PROJECT_ID               = \"hybrid-vertex\"\n",
      "PROJECT_NUM              = \"934903580331\"\n",
      "LOCATION                 = \"us-central1\"\n",
      "\n",
      "REGION                   = \"us-central1\"\n",
      "BQ_LOCATION              = \"US\"\n",
      "VPC_NETWORK_NAME         = \"ucaip-haystack-vpc-network\"\n",
      "VERTEX_SA                = \"934903580331-compute@developer.gserviceaccount.com\"\n",
      "\n",
      "PREFIX                   = \"rec-bandits-v2\"\n",
      "VERSION                  = \"v2\"\n",
      "\n",
      "BUCKET_NAME              = \"rec-bandits-v2-hybrid-vertex-bucket\"\n",
      "BUCKET_URI               = \"gs://rec-bandits-v2-hybrid-vertex-bucket\"\n",
      "DATA_GCS_PREFIX          = \"data\"\n",
      "DATA_PATH                = \"gs://rec-bandits-v2-hybrid-vertex-bucket/data\"\n",
      "VOCAB_SUBDIR             = \"vocabs\"\n",
      "VOCAB_FILENAME           = \"vocab_dict.pkl\"\n",
      "\n",
      "VPC_NETWORK_FULL         = \"projects/934903580331/global/networks/ucaip-haystack-vpc-network\"\n",
      "\n",
      "BIGQUERY_DATASET_NAME    = \"mvlens_rec_bandits_v2\"\n",
      "BIGQUERY_TABLE_NAME      = \"training_dataset\"\n",
      "\n",
      "REPOSITORY               = \"rl-movielens-rec-bandits-v2\"\n",
      "\n",
      "DOCKERNAME_01            = \"Dockerfile_train_my_perarm_env\"\n",
      "IMAGE_NAME_01            = \"train-my-perarm-env-v2\"\n",
      "IMAGE_URI_01             = \"gcr.io/hybrid-vertex/train-my-perarm-env-v2\"\n",
      "\n",
      "DOCKERNAME_02            = \"Dockerfile_perarm_feats\"\n",
      "IMAGE_NAME_02            = \"train-perarm-feats-v2\"\n",
      "IMAGE_URI_02             = \"gcr.io/hybrid-vertex/train-perarm-feats-v2\"\n",
      "\n",
      "DOCKERNAME_03            = \"Dockerfile_ranking_bandit\"\n",
      "IMAGE_NAME_03            = \"train-rank-bandit-v2\"\n",
      "IMAGE_URI_03             = \"gcr.io/hybrid-vertex/train-rank-bandit-v2\"\n",
      "\n",
      "DOCKERNAME_04            = \"Dockerfile_train_bandit_e2e\"\n",
      "IMAGE_NAME_04            = \"train-mab-e2e-v2\"\n",
      "IMAGE_URI_04             = \"gcr.io/hybrid-vertex/train-mab-e2e-v2\"\n",
      "\n",
      "DOCKERNAME_04_pred       = \"Dockerfile_pred_bandit_e2e\"\n",
      "IMAGE_NAME_04_pred       = \"pred-mab-e2e-v2\"\n",
      "IMAGE_URI_04_pred        = \"gcr.io/hybrid-vertex/pred-mab-e2e-v2\"\n",
      "\n",
      "REMOTE_IMAGE_NAME        = \"us-central1-docker.pkg.dev/hybrid-vertex/rl-movielens-rec-bandits-v2/local_docker_tfa\"\n",
      "REPO_DOCKER_PATH_PREFIX  = \"src\"\n",
      "\n"
     ]
    }
   ],
   "source": [
    "# staging GCS\n",
    "GCP_PROJECTS             = !gcloud config get-value project\n",
    "PROJECT_ID               = GCP_PROJECTS[0]\n",
    "\n",
    "# GCS bucket and paths\n",
    "BUCKET_NAME              = f'{PREFIX}-{PROJECT_ID}-bucket'\n",
    "BUCKET_URI               = f'gs://{BUCKET_NAME}'\n",
    "\n",
    "config = !gsutil cat {BUCKET_URI}/config/notebook_env.py\n",
    "print(config.n)\n",
    "exec(config.n)"
   ]
  },
  {
   "cell_type": "markdown",
   "id": "372bb444-21aa-4199-903a-19b69b050e17",
   "metadata": {},
   "source": [
    "### imports"
   ]
  },
  {
   "cell_type": "code",
   "execution_count": 3,
   "id": "7b775305-5bab-4078-86a1-143e52245543",
   "metadata": {
    "tags": []
   },
   "outputs": [],
   "source": [
    "import os\n",
    "os.environ['TF_CPP_MIN_LOG_LEVEL'] = '2'"
   ]
  },
  {
   "cell_type": "code",
   "execution_count": 4,
   "id": "b3ecc77a-455e-4cea-ae01-a747dd4eb2cc",
   "metadata": {
    "tags": []
   },
   "outputs": [
    {
     "name": "stdout",
     "output_type": "stream",
     "text": [
      "Num GPUs Available:  1\n"
     ]
    }
   ],
   "source": [
    "import sys\n",
    "import json\n",
    "import time\n",
    "import functools\n",
    "import collections\n",
    "import pickle as pkl\n",
    "from pprint import pprint\n",
    "from typing import Callable, Dict, List, Optional, TypeVar, Any\n",
    "\n",
    "# logging\n",
    "import logging\n",
    "logging.disable(logging.WARNING)\n",
    "\n",
    "import warnings\n",
    "warnings.filterwarnings('ignore')\n",
    "\n",
    "import matplotlib.pyplot as plt\n",
    "import numpy as np\n",
    "\n",
    "# google cloud\n",
    "from google.cloud import aiplatform, storage, bigquery\n",
    "\n",
    "# tensorflow\n",
    "import tensorflow as tf\n",
    "\n",
    "# tf exceptions and vars\n",
    "if tf.__version__[0] != \"2\":\n",
    "    raise Exception(\"The trainer only runs with TensorFlow version 2.\")\n",
    "\n",
    "T = TypeVar(\"T\")\n",
    "\n",
    "from tf_agents.specs import tensor_spec\n",
    "from tf_agents.trajectories import time_step as ts\n",
    "from tf_agents.bandits.policies import policy_utilities\n",
    "from tf_agents.bandits.specs import utils as bandit_spec_utils\n",
    "from tf_agents.metrics import tf_metrics\n",
    "from tf_agents.bandits.metrics import tf_metrics as tf_bandit_metrics\n",
    "from tf_agents.trajectories import trajectory\n",
    "from tf_agents import trajectories\n",
    "\n",
    "from tf_agents.policies import py_tf_eager_policy\n",
    "from tf_agents.trajectories import time_step as ts\n",
    "from tf_agents.policies import policy_saver\n",
    "from tf_agents.metrics import export_utils\n",
    "from tf_agents.eval import metric_utils\n",
    "from tf_agents.utils import common\n",
    "\n",
    "# this repo\n",
    "sys.path.append(\"../..\")\n",
    "from src.utils import train_utils\n",
    "from src.data import data_utils, data_config\n",
    "from src.trainer import train_batched_ds\n",
    "from src.data_preprocessor import preprocess_utils\n",
    "\n",
    "# Vertex client\n",
    "aiplatform.init(project=PROJECT_ID, location=LOCATION)\n",
    "# cloud storage client\n",
    "storage_client = storage.Client(project=PROJECT_ID)\n",
    "\n",
    "# GPU\n",
    "from numba import cuda \n",
    "import gc\n",
    "\n",
    "print(\"Num GPUs Available: \", len(tf.config.list_physical_devices('GPU')))"
   ]
  },
  {
   "cell_type": "code",
   "execution_count": 17,
   "id": "2f6b3aee-5fc9-411f-adf8-287c2dcfa283",
   "metadata": {
    "tags": []
   },
   "outputs": [
    {
     "name": "stdout",
     "output_type": "stream",
     "text": [
      "device: Tesla T4\n"
     ]
    },
    {
     "data": {
      "text/plain": [
       "14"
      ]
     },
     "execution_count": 17,
     "metadata": {},
     "output_type": "execute_result"
    }
   ],
   "source": [
    "device = cuda.get_current_device()\n",
    "print(f\"device: {device.name.decode()}\")\n",
    "\n",
    "device.reset()\n",
    "gc.collect()"
   ]
  },
  {
   "cell_type": "markdown",
   "id": "51fb12bc-cf71-41e1-8d6b-a74191997d5b",
   "metadata": {},
   "source": [
    "## Data prep"
   ]
  },
  {
   "cell_type": "markdown",
   "id": "8cdc9eda-931d-4206-89bf-ee913f85515d",
   "metadata": {},
   "source": [
    "### get data path"
   ]
  },
  {
   "cell_type": "code",
   "execution_count": 18,
   "id": "0879387a-2d75-4398-8bef-91652fe54e62",
   "metadata": {
    "tags": []
   },
   "outputs": [
    {
     "name": "stdout",
     "output_type": "stream",
     "text": [
      "GCS_DATA_PATH: gs://rec-bandits-v2-hybrid-vertex-bucket/data/movielens/m1m\n",
      "gs://rec-bandits-v2-hybrid-vertex-bucket/data/movielens/m1m/action-embeddings/\n",
      "gs://rec-bandits-v2-hybrid-vertex-bucket/data/movielens/m1m/mv_b128_g12_a16/\n",
      "gs://rec-bandits-v2-hybrid-vertex-bucket/data/movielens/m1m/mv_b128_g12_a16_v4/\n",
      "gs://rec-bandits-v2-hybrid-vertex-bucket/data/movielens/m1m/mv_b128_g12_a16_v5/\n",
      "gs://rec-bandits-v2-hybrid-vertex-bucket/data/movielens/m1m/mv_b128_g12_a16_v6/\n",
      "gs://rec-bandits-v2-hybrid-vertex-bucket/data/movielens/m1m/mv_b128_g12_a16_v7/\n",
      "gs://rec-bandits-v2-hybrid-vertex-bucket/data/movielens/m1m/train/\n",
      "gs://rec-bandits-v2-hybrid-vertex-bucket/data/movielens/m1m/val/\n",
      "gs://rec-bandits-v2-hybrid-vertex-bucket/data/movielens/m1m/vocabs/\n"
     ]
    }
   ],
   "source": [
    "EXAMPLE_GEN_GCS_PATH = data_config.EXAMPLE_GEN_GCS_PATH\n",
    "GCS_DATA_PATH = f\"{BUCKET_URI}/{EXAMPLE_GEN_GCS_PATH}\"\n",
    "\n",
    "print(f\"GCS_DATA_PATH: {GCS_DATA_PATH}\")\n",
    "\n",
    "!gsutil ls $GCS_DATA_PATH"
   ]
  },
  {
   "cell_type": "code",
   "execution_count": 19,
   "id": "ea53b146-8806-4776-8a3c-761e71e7d114",
   "metadata": {
    "tags": []
   },
   "outputs": [
    {
     "name": "stdout",
     "output_type": "stream",
     "text": [
      "gs://rec-bandits-v2-hybrid-vertex-bucket/data/movielens/m1m/mv_b128_g12_a16_v6/mv_b128_g12_a16_v6.tfrecord\n",
      "gs://rec-bandits-v2-hybrid-vertex-bucket/data/movielens/m1m/mv_b128_g12_a16_v6/tmp_bq.json\n"
     ]
    }
   ],
   "source": [
    "TFRECORD_NAME = \"mv_b128_g12_a16_v6\"\n",
    "TFR_DATA_PATH = f\"{BUCKET_URI}/{EXAMPLE_GEN_GCS_PATH}/{TFRECORD_NAME}\"\n",
    "!gsutil ls $TFR_DATA_PATH"
   ]
  },
  {
   "cell_type": "markdown",
   "id": "63374ead-4078-4e14-883c-899c81f3f4c8",
   "metadata": {},
   "source": [
    "**The file name tells us the `batch_size`, `global_dim`, and `per_arm_dim` used to create dataset**\n",
    "\n",
    "> `f\"mv_b{batch_size}_g{global_emb_size}_a{mv_emb_size}_{pipeline_version}\"`\n",
    "\n",
    "where `mv_b128_g12_a16_v6`\n",
    "* `batch_size`     : 128\n",
    "* `global_emb_size`: 12\n",
    "* `mv_emb_size`    : 16"
   ]
  },
  {
   "cell_type": "code",
   "execution_count": 20,
   "id": "cddece12-6639-4f73-a21b-f99bef5104db",
   "metadata": {
    "tags": []
   },
   "outputs": [
    {
     "name": "stdout",
     "output_type": "stream",
     "text": [
      "TF Record : gs://rec-bandits-v2-hybrid-vertex-bucket/data/movielens/m1m/mv_b128_g12_a16_v6/mv_b128_g12_a16_v6.tfrecord\n",
      "GLOBAL_DIM : 72\n",
      "PER_ARM_DIM : 64\n"
     ]
    }
   ],
   "source": [
    "TFRECORD_FILE = (\n",
    "    f\"{BUCKET_URI}/{EXAMPLE_GEN_GCS_PATH}/{TFRECORD_NAME}/{TFRECORD_NAME}.tfrecord\"\n",
    ")\n",
    "\n",
    "GLOBAL_EMBEDDING_SIZE = 12\n",
    "MV_EMBEDDING_SIZE = 16\n",
    "\n",
    "# sanity check\n",
    "N_GLOBAL_FEATURES = len(data_utils.USER_FEATURE_NAMES)     # 6\n",
    "N_ARM_FEATURES    = len(data_utils.MOVIE_FEATURE_NAMES)    # 5\n",
    "GLOBAL_DIM        = GLOBAL_EMBEDDING_SIZE * N_GLOBAL_FEATURES\n",
    "PER_ARM_DIM       = MV_EMBEDDING_SIZE * N_ARM_FEATURES\n",
    "\n",
    "print(f\"TF Record : {TFRECORD_FILE}\")\n",
    "print(f\"GLOBAL_DIM : {GLOBAL_DIM}\")\n",
    "print(f\"PER_ARM_DIM : {PER_ARM_DIM}\")"
   ]
  },
  {
   "cell_type": "markdown",
   "id": "9a0564c2-69a6-484f-9f85-a9f6367c065a",
   "metadata": {},
   "source": [
    "### get vocabs"
   ]
  },
  {
   "cell_type": "code",
   "execution_count": 21,
   "id": "880718f5-de5a-417f-83a5-92d11ea5a658",
   "metadata": {
    "tags": []
   },
   "outputs": [
    {
     "name": "stdout",
     "output_type": "stream",
     "text": [
      "Downloading vocab...\n",
      "Downloaded vocab from: gs://rec-bandits-v2-hybrid-vertex-bucket/data/movielens/m1m/vocabs/vocab_dict.pkl\n",
      "\n"
     ]
    }
   ],
   "source": [
    "EXISTING_VOCAB_FILE = f'gs://{BUCKET_NAME}/{EXAMPLE_GEN_GCS_PATH}/vocabs/{VOCAB_FILENAME}'\n",
    "print(f\"Downloading vocab...\")\n",
    "\n",
    "os.system(f'gsutil -q cp {EXISTING_VOCAB_FILE} .')\n",
    "print(f\"Downloaded vocab from: {EXISTING_VOCAB_FILE}\\n\")\n",
    "\n",
    "filehandler = open(VOCAB_FILENAME, 'rb')\n",
    "vocab_dict = pkl.load(filehandler)\n",
    "filehandler.close()"
   ]
  },
  {
   "cell_type": "markdown",
   "id": "7add9d37-a49f-4b32-bc23-d637677586b3",
   "metadata": {
    "tags": []
   },
   "source": [
    "#### tmp - debugging dataset - START"
   ]
  },
  {
   "cell_type": "code",
   "execution_count": 22,
   "id": "13d0c7d1-bf94-41e0-b2b6-d0f0581f1632",
   "metadata": {
    "tags": []
   },
   "outputs": [
    {
     "data": {
      "text/plain": [
       "<tf.Tensor: shape=(), dtype=int32, numpy=5>"
      ]
     },
     "execution_count": 22,
     "metadata": {},
     "output_type": "execute_result"
    }
   ],
   "source": [
    "x = tf.constant([5, 1, 2, 4])\n",
    "tf.reduce_max(x, axis=0)"
   ]
  },
  {
   "cell_type": "code",
   "execution_count": 23,
   "id": "eb60b56f-6062-4151-b31c-f66d65b6bab0",
   "metadata": {
    "tags": []
   },
   "outputs": [],
   "source": [
    "BATCH_SIZE      = 128\n",
    "EVAL_BATCH_SIZE = 1\n",
    "NUM_ACTIONS     = 2"
   ]
  },
  {
   "cell_type": "code",
   "execution_count": 24,
   "id": "a760c74f-e032-4e8b-8974-4c03fca1ba7a",
   "metadata": {
    "tags": []
   },
   "outputs": [],
   "source": [
    "_raw_dataset = tf.data.TFRecordDataset([TFRECORD_FILE])\n",
    "_parsed_dataset = _raw_dataset.map(preprocess_utils._parse_record)"
   ]
  },
  {
   "cell_type": "code",
   "execution_count": 25,
   "id": "77b4b345-65f2-479b-b665-29465145f696",
   "metadata": {
    "tags": []
   },
   "outputs": [
    {
     "name": "stdout",
     "output_type": "stream",
     "text": [
      "NUM_BATCHES : 7766\n",
      "NUM_SAMPLES : 994048\n"
     ]
    }
   ],
   "source": [
    "NUM_BATCHES = len(list(_parsed_dataset))\n",
    "NUM_SAMPLES = NUM_BATCHES * BATCH_SIZE\n",
    "\n",
    "print(f\"NUM_BATCHES : {NUM_BATCHES}\")\n",
    "print(f\"NUM_SAMPLES : {NUM_SAMPLES}\")"
   ]
  },
  {
   "cell_type": "code",
   "execution_count": 26,
   "id": "706cf6d4-5e14-4c8c-a1c6-ac5a88e552c0",
   "metadata": {
    "tags": []
   },
   "outputs": [],
   "source": [
    "def _get_rewards(observation):\n",
    "    return observation.reward\n",
    "\n",
    "def optimal_reward(observation):\n",
    "    \"\"\"\n",
    "    Outputs the maximum expected reward for every element in the batch\n",
    "    \"\"\"\n",
    "    return tf.reduce_max(_get_rewards(observation), axis=1)\n",
    "\n",
    "regret_metric = tf_bandit_metrics.RegretMetric(optimal_reward)"
   ]
  },
  {
   "cell_type": "code",
   "execution_count": 28,
   "id": "e48f6a82-9c31-49f4-bddb-2a6f2b90b644",
   "metadata": {
    "tags": []
   },
   "outputs": [],
   "source": [
    "# for x in _parsed_dataset.take(1):\n",
    "#     # print(x)\n",
    "#     _parsed_trajectories = preprocess_utils.build_trajectory_from_tfrecord(x, BATCH_SIZE, NUM_ACTIONS)\n",
    "#     print(_parsed_trajectories)\n",
    "#     break"
   ]
  },
  {
   "cell_type": "code",
   "execution_count": 29,
   "id": "80215a54-c069-48de-bf14-d83a85814afd",
   "metadata": {
    "tags": []
   },
   "outputs": [
    {
     "data": {
      "text/plain": [
       "TensorShape([128, 1])"
      ]
     },
     "execution_count": 29,
     "metadata": {},
     "output_type": "execute_result"
    }
   ],
   "source": [
    "_parsed_trajectories.reward.shape"
   ]
  },
  {
   "cell_type": "code",
   "execution_count": 30,
   "id": "36722c28-5da7-408d-91b2-5d58829bcdcd",
   "metadata": {
    "tags": []
   },
   "outputs": [
    {
     "name": "stdout",
     "output_type": "stream",
     "text": [
      "batched_reward : [5. 4. 2. 2. 3. 3. 2. 4. 4. 4. 4. 1. 2. 4. 4. 4. 3. 2. 2. 3. 3. 4. 5. 3.\n",
      " 4. 3. 3. 5. 4. 1. 2. 5. 3. 5. 4. 3. 4. 4. 3. 3. 4. 4. 3. 3. 2. 2. 2. 5.\n",
      " 3. 3. 5. 4. 5. 3. 4. 3. 3. 5. 4. 2. 3. 2. 4. 3. 2. 5. 4. 4. 3. 3. 1. 2.\n",
      " 4. 3. 3. 4. 3. 4. 2. 5. 4. 3. 4. 2. 4. 4. 5. 2. 4. 4. 2. 5. 1. 2. 5. 5.\n",
      " 1. 4. 4. 1. 2. 4. 5. 2. 3. 4. 3. 2. 3. 3. 1. 3. 4. 4. 4. 4. 5. 3. 3. 4.\n",
      " 3. 2. 3. 3. 5. 3. 4. 4.]\n",
      "total_reward : 425.0\n"
     ]
    }
   ],
   "source": [
    "batched_reward = optimal_reward(_parsed_trajectories)\n",
    "total_reward = tf.reduce_sum(batched_reward)\n",
    "\n",
    "print(f\"batched_reward : {batched_reward}\")\n",
    "print(f\"total_reward : {total_reward}\")"
   ]
  },
  {
   "cell_type": "code",
   "execution_count": 85,
   "id": "c7d9a560-8f42-4a73-8af8-39011b18488d",
   "metadata": {},
   "outputs": [
    {
     "data": {
      "text/plain": [
       "<tf.Tensor: shape=(20, 70), dtype=int32, numpy=\n",
       "array([[4442, 4442, 4442, ..., 4442, 4442, 4442],\n",
       "       [4442, 4442, 4442, ..., 4442, 4442, 4442],\n",
       "       [4442, 4442, 4442, ..., 4442, 4442, 4442],\n",
       "       ...,\n",
       "       [4442, 4442, 4442, ..., 4442, 4442, 4442],\n",
       "       [4442, 4442, 4442, ..., 4442, 4442, 4442],\n",
       "       [4442, 4442, 4442, ..., 4442, 4442, 4442]], dtype=int32)>"
      ]
     },
     "execution_count": 85,
     "metadata": {},
     "output_type": "execute_result"
    }
   ],
   "source": [
    "# GLOBAL_DIM = 40 \n",
    "# PER_ARM_DIM = 50\n",
    "# reward_param = list(np.random.randint(0, 10, [GLOBAL_DIM + PER_ARM_DIM]))\n",
    "# global_obs = tf.constant(np.random.randint(1, 13, dtype=np.int32), shape=[20, 40])      # [20, 40]\n",
    "# per_arm_obs = tf.constant(np.random.randint(1, 13, dtype=np.int32), shape=[20, 70, 50])\n",
    "# num_actions = tf.shape(per_arm_obs)[1]\n",
    "# tiled_global = tf.tile(\n",
    "#     tf.expand_dims(global_obs, axis=1), [1, num_actions, 1] # [20, 70, 40]\n",
    "# )\n",
    "# concatenated = tf.concat([tiled_global, per_arm_obs], axis=-1) # [20, 70, 90]\n",
    "# rewards = tf.linalg.matvec(concatenated, reward_param)\n",
    "# rewards"
   ]
  },
  {
   "cell_type": "markdown",
   "id": "8255c7b3-58fd-4a45-84b8-fbad4763c59b",
   "metadata": {},
   "source": [
    "#### tmp - debugging dataset - END"
   ]
  },
  {
   "cell_type": "markdown",
   "id": "e44c70be-dcbb-4f7d-ace1-003dd5032f56",
   "metadata": {},
   "source": [
    "## Agent config"
   ]
  },
  {
   "cell_type": "code",
   "execution_count": 31,
   "id": "c021067a-2432-42a0-bee0-bd22af7ae87e",
   "metadata": {
    "tags": []
   },
   "outputs": [
    {
     "name": "stdout",
     "output_type": "stream",
     "text": [
      "BATCH_SIZE      : 128\n",
      "EVAL_BATCH_SIZE : 1\n",
      "NUM_ACTIONS     : 2\n",
      "GLOBAL_DIM      : 72\n",
      "PER_ARM_DIM     : 64\n"
     ]
    }
   ],
   "source": [
    "BATCH_SIZE      = 128\n",
    "NUM_ACTIONS     = 2\n",
    "\n",
    "EVAL_BATCH_SIZE = 1\n",
    "\n",
    "AGENT_TYPE      = 'epsGreedy' # 'LinUCB' | 'LinTS |, 'epsGreedy' | 'NeuralLinUCB'\n",
    "AGENT_ALPHA     = 0.1\n",
    "EPSILON         = 0.01\n",
    "LR              = 0.05\n",
    "ENCODING_DIM    = 1\n",
    "EPS_PHASE_STEPS = 1000\n",
    "\n",
    "GLOBAL_LAYERS   = [GLOBAL_DIM, int(GLOBAL_DIM/2), int(GLOBAL_DIM/4)]\n",
    "ARM_LAYERS      = [PER_ARM_DIM, int(PER_ARM_DIM/2), int(PER_ARM_DIM/4)]\n",
    "FIRST_COMMON_LAYER = GLOBAL_LAYERS[-1] + ARM_LAYERS[-1] # min(GLOBAL_LAYERS[-1], ARM_LAYERS[-1])\n",
    "\n",
    "COMMON_LAYERS = [\n",
    "    int(FIRST_COMMON_LAYER),\n",
    "    # int(FIRST_COMMON_LAYER/2),\n",
    "    int(FIRST_COMMON_LAYER/4)\n",
    "]\n",
    "\n",
    "NETWORK_TYPE = \"commontower\" # 'commontower' | 'dotproduct'\n",
    "\n",
    "if AGENT_TYPE == 'NeuralLinUCB':\n",
    "    NETWORK_TYPE = 'commontower'\n",
    "    ENCODING_DIM = COMMON_LAYERS[-1] \n",
    "\n",
    "if NETWORK_TYPE == 'dotproduct':\n",
    "    assert GLOBAL_LAYERS[0] == ARM_LAYERS[0]\n",
    "\n",
    "print(f\"BATCH_SIZE      : {BATCH_SIZE}\")\n",
    "print(f\"EVAL_BATCH_SIZE : {EVAL_BATCH_SIZE}\")\n",
    "print(f\"NUM_ACTIONS     : {NUM_ACTIONS}\")\n",
    "print(f\"GLOBAL_DIM      : {GLOBAL_DIM}\")\n",
    "print(f\"PER_ARM_DIM     : {PER_ARM_DIM}\")"
   ]
  },
  {
   "cell_type": "code",
   "execution_count": 32,
   "id": "bd0287da-4183-484c-ae8f-c774527aa112",
   "metadata": {
    "tags": []
   },
   "outputs": [
    {
     "name": "stdout",
     "output_type": "stream",
     "text": [
      "{'agent_alpha': 0.1,\n",
      " 'agent_type': 'epsGreedy',\n",
      " 'arm_emb_size': 16,\n",
      " 'batch_size': 128,\n",
      " 'common_layers': [34, 8],\n",
      " 'debug_summaries': True,\n",
      " 'encoding_dim': 1,\n",
      " 'eps_phase_steps': 1000,\n",
      " 'epsilon': 0.01,\n",
      " 'eval_batch_size': 1,\n",
      " 'global_dim': 72,\n",
      " 'global_emb_size': 12,\n",
      " 'global_layers': [72, 36, 18],\n",
      " 'learning_rate': 0.05,\n",
      " 'network_type': 'commontower',\n",
      " 'num_actions': 2,\n",
      " 'per_arm_dim': 64,\n",
      " 'per_arm_layers': [64, 32, 16],\n",
      " 'summarize_grads_and_vars': False}\n"
     ]
    }
   ],
   "source": [
    "HPARAMS = {  # TODO - streamline and consolidate\n",
    "    \"batch_size\": BATCH_SIZE,\n",
    "    \"eval_batch_size\" : EVAL_BATCH_SIZE,\n",
    "    \"num_actions\": NUM_ACTIONS,\n",
    "    \"agent_type\": AGENT_TYPE,\n",
    "    \"network_type\": NETWORK_TYPE,\n",
    "    \"global_emb_size\": GLOBAL_EMBEDDING_SIZE,\n",
    "    \"arm_emb_size\": MV_EMBEDDING_SIZE,\n",
    "    \"global_dim\": GLOBAL_DIM,\n",
    "    \"per_arm_dim\": PER_ARM_DIM,\n",
    "    \"agent_alpha\": AGENT_ALPHA,\n",
    "    \"global_layers\": GLOBAL_LAYERS,\n",
    "    \"per_arm_layers\": ARM_LAYERS,\n",
    "    \"common_layers\": COMMON_LAYERS,\n",
    "    \"learning_rate\": LR,\n",
    "    \"epsilon\": EPSILON,\n",
    "    \"encoding_dim\": ENCODING_DIM,\n",
    "    \"eps_phase_steps\": EPS_PHASE_STEPS,\n",
    "    \"summarize_grads_and_vars\" : False,\n",
    "    \"debug_summaries\": True,\n",
    "}\n",
    "pprint(HPARAMS)"
   ]
  },
  {
   "cell_type": "markdown",
   "id": "b1502d95-6459-4aa1-83a1-ac1d3d44f1d8",
   "metadata": {},
   "source": [
    "## Define Vertex Experiment"
   ]
  },
  {
   "cell_type": "code",
   "execution_count": 33,
   "id": "bbc7d53c-f3ec-4a2e-9c63-c44c3594cb6f",
   "metadata": {
    "tags": []
   },
   "outputs": [
    {
     "data": {
      "text/plain": [
       "'v2'"
      ]
     },
     "execution_count": 33,
     "metadata": {},
     "output_type": "execute_result"
    }
   ],
   "source": [
    "VERSION"
   ]
  },
  {
   "cell_type": "code",
   "execution_count": 34,
   "id": "8c4e6998-29df-4709-a0f7-241396b29df7",
   "metadata": {
    "tags": []
   },
   "outputs": [
    {
     "name": "stdout",
     "output_type": "stream",
     "text": [
      "EXPERIMENT_NAME   : 2gc-optimized-train-eval-v2\n",
      "RUN_NAME          : run-20241122-151031\n",
      "\n",
      "CHECKPT_DIR       : gs://rec-bandits-v2-hybrid-vertex-bucket/2gc-optimized-train-eval-v2/chkpoint\n",
      "BASE_OUTPUT_DIR   : gs://rec-bandits-v2-hybrid-vertex-bucket/2gc-optimized-train-eval-v2/run-20241122-151031\n",
      "LOG_DIR           : gs://rec-bandits-v2-hybrid-vertex-bucket/2gc-optimized-train-eval-v2/run-20241122-151031/logs\n",
      "ARTIFACTS_DIR     : gs://rec-bandits-v2-hybrid-vertex-bucket/2gc-optimized-train-eval-v2/run-20241122-151031/artifacts\n"
     ]
    }
   ],
   "source": [
    "EXPERIMENT_NAME   = f'2gc-optimized-train-eval-{VERSION}'\n",
    "\n",
    "invoke_time       = time.strftime(\"%Y%m%d-%H%M%S\")\n",
    "RUN_NAME          = f'run-{invoke_time}'\n",
    "\n",
    "CHECKPT_DIR       = f\"{BUCKET_URI}/{EXPERIMENT_NAME}/chkpoint\"\n",
    "BASE_OUTPUT_DIR   = f\"{BUCKET_URI}/{EXPERIMENT_NAME}/{RUN_NAME}\"\n",
    "LOG_DIR           = f\"{BASE_OUTPUT_DIR}/logs\"\n",
    "ARTIFACTS_DIR     = f\"{BASE_OUTPUT_DIR}/artifacts\"\n",
    "\n",
    "print(f\"EXPERIMENT_NAME   : {EXPERIMENT_NAME}\")\n",
    "print(f\"RUN_NAME          : {RUN_NAME}\\n\")\n",
    "print(f\"CHECKPT_DIR       : {CHECKPT_DIR}\")\n",
    "print(f\"BASE_OUTPUT_DIR   : {BASE_OUTPUT_DIR}\")\n",
    "print(f\"LOG_DIR           : {LOG_DIR}\")\n",
    "print(f\"ARTIFACTS_DIR     : {ARTIFACTS_DIR}\")"
   ]
  },
  {
   "cell_type": "markdown",
   "id": "7d775809-a925-432c-b701-c34f2ad67ec9",
   "metadata": {},
   "source": [
    "## Train config\n",
    "\n",
    "> config training and evaluation loops"
   ]
  },
  {
   "cell_type": "code",
   "execution_count": 35,
   "id": "24966811-8e56-46a6-b867-781e0698a9a4",
   "metadata": {
    "tags": []
   },
   "outputs": [],
   "source": [
    "NUM_EPOCHS       = 3\n",
    "LOG_INTERVAL     = 10\n",
    "CHKPT_INTERVAL   = 1000\n",
    "TOTAL_TRAIN_TAKE = 50\n",
    "TOTAL_TRAIN_SKIP = 0\n",
    "\n",
    "PROFILER   = False\n",
    "CACHE_DATA = False"
   ]
  },
  {
   "cell_type": "markdown",
   "id": "b5018cf2-1958-4e0a-a3d8-36e32ec0da54",
   "metadata": {},
   "source": [
    "### training loop"
   ]
  },
  {
   "cell_type": "code",
   "execution_count": 36,
   "id": "658c323f-1567-4f1a-a281-974d494bd4f5",
   "metadata": {
    "tags": []
   },
   "outputs": [
    {
     "data": {
      "text/html": [
       "\n",
       "        \n",
       "    <link rel=\"stylesheet\" href=\"https://fonts.googleapis.com/icon?family=Material+Icons\">\n",
       "    <style>\n",
       "      .view-vertex-resource,\n",
       "      .view-vertex-resource:hover,\n",
       "      .view-vertex-resource:visited {\n",
       "        position: relative;\n",
       "        display: inline-flex;\n",
       "        flex-direction: row;\n",
       "        height: 32px;\n",
       "        padding: 0 12px;\n",
       "          margin: 4px 18px;\n",
       "        gap: 4px;\n",
       "        border-radius: 4px;\n",
       "\n",
       "        align-items: center;\n",
       "        justify-content: center;\n",
       "        background-color: rgb(255, 255, 255);\n",
       "        color: rgb(51, 103, 214);\n",
       "\n",
       "        font-family: Roboto,\"Helvetica Neue\",sans-serif;\n",
       "        font-size: 13px;\n",
       "        font-weight: 500;\n",
       "        text-transform: uppercase;\n",
       "        text-decoration: none !important;\n",
       "\n",
       "        transition: box-shadow 280ms cubic-bezier(0.4, 0, 0.2, 1) 0s;\n",
       "        box-shadow: 0px 3px 1px -2px rgba(0,0,0,0.2), 0px 2px 2px 0px rgba(0,0,0,0.14), 0px 1px 5px 0px rgba(0,0,0,0.12);\n",
       "      }\n",
       "      .view-vertex-resource:active {\n",
       "        box-shadow: 0px 5px 5px -3px rgba(0,0,0,0.2),0px 8px 10px 1px rgba(0,0,0,0.14),0px 3px 14px 2px rgba(0,0,0,0.12);\n",
       "      }\n",
       "      .view-vertex-resource:active .view-vertex-ripple::before {\n",
       "        position: absolute;\n",
       "        top: 0;\n",
       "        bottom: 0;\n",
       "        left: 0;\n",
       "        right: 0;\n",
       "        border-radius: 4px;\n",
       "        pointer-events: none;\n",
       "\n",
       "        content: '';\n",
       "        background-color: rgb(51, 103, 214);\n",
       "        opacity: 0.12;\n",
       "      }\n",
       "      .view-vertex-icon {\n",
       "        font-size: 18px;\n",
       "      }\n",
       "    </style>\n",
       "  \n",
       "        <a class=\"view-vertex-resource\" id=\"view-vertex-resource-f05ffd56-f606-45ad-affb-b1dc6e27f880\" href=\"#view-view-vertex-resource-f05ffd56-f606-45ad-affb-b1dc6e27f880\">\n",
       "          <span class=\"material-icons view-vertex-icon\">science</span>\n",
       "          <span>View Experiment</span>\n",
       "        </a>\n",
       "        \n",
       "        <script>\n",
       "          (function () {\n",
       "            const link = document.getElementById('view-vertex-resource-f05ffd56-f606-45ad-affb-b1dc6e27f880');\n",
       "            link.addEventListener('click', (e) => {\n",
       "              if (window.google?.colab?.openUrl) {\n",
       "                window.google.colab.openUrl('https://console.cloud.google.com/vertex-ai/experiments/locations/us-central1/experiments/2gc-optimized-train-eval-v2/runs?project=hybrid-vertex');\n",
       "              } else {\n",
       "                window.open('https://console.cloud.google.com/vertex-ai/experiments/locations/us-central1/experiments/2gc-optimized-train-eval-v2/runs?project=hybrid-vertex', '_blank');\n",
       "              }\n",
       "              e.stopPropagation();\n",
       "              e.preventDefault();\n",
       "            });\n",
       "          })();\n",
       "        </script>\n",
       "    "
      ],
      "text/plain": [
       "<IPython.core.display.HTML object>"
      ]
     },
     "metadata": {},
     "output_type": "display_data"
    },
    {
     "name": "stdout",
     "output_type": "stream",
     "text": [
      "hparams dict:\n",
      "{'agent_alpha': 0.1,\n",
      " 'agent_type': 'epsGreedy',\n",
      " 'arm_emb_size': 16,\n",
      " 'batch_size': 128,\n",
      " 'common_layers': [34, 8],\n",
      " 'debug_summaries': True,\n",
      " 'encoding_dim': 1,\n",
      " 'eps_phase_steps': 1000,\n",
      " 'epsilon': 0.01,\n",
      " 'eval_batch_size': 1,\n",
      " 'global_dim': 72,\n",
      " 'global_emb_size': 12,\n",
      " 'global_layers': [72, 36, 18],\n",
      " 'learning_rate': 0.05,\n",
      " 'network_type': 'commontower',\n",
      " 'num_actions': 2,\n",
      " 'per_arm_dim': 64,\n",
      " 'per_arm_layers': [64, 32, 16],\n",
      " 'summarize_grads_and_vars': False}\n",
      "GLOBAL_BATCH_SIZE     : 128\n",
      "distribution_strategy : <tensorflow.python.distribute.mirrored_strategy.MirroredStrategy object at 0x7fd2c54567d0>\n",
      "NUM_REPLICAS          : 1\n",
      "set checkpoint_manager: gs://rec-bandits-v2-hybrid-vertex-bucket/2gc-optimized-train-eval-v2/chkpoint\n",
      "set saver: <tf_agents.policies.policy_saver.PolicySaver object at 0x7fd2c506bcd0>\n",
      "setting dataset total_take: 50\n",
      "starting train loop...\n",
      "epoch: 1\n",
      "step = 0: loss = 13.569999694824219\n",
      "step = 10: loss = 7.820000171661377\n",
      "step = 20: loss = 1.840000033378601\n",
      "step = 30: loss = 1.4199999570846558\n",
      "step = 40: loss = 1.2799999713897705\n",
      "epoch: 2\n",
      "step = 50: loss = 1.2799999713897705\n",
      "step = 60: loss = 1.2100000381469727\n",
      "step = 70: loss = 1.090000033378601\n",
      "step = 80: loss = 1.2599999904632568\n",
      "step = 90: loss = 1.2699999809265137\n",
      "epoch: 3\n",
      "step = 100: loss = 1.309999942779541\n",
      "step = 110: loss = 1.190000057220459\n",
      "step = 120: loss = 1.0800000429153442\n",
      "step = 130: loss = 1.309999942779541\n",
      "step = 140: loss = 1.2699999809265137\n",
      "train runtime_mins          : 0\n",
      "saved to checkpoint_manager : gs://rec-bandits-v2-hybrid-vertex-bucket/2gc-optimized-train-eval-v2/chkpoint\n",
      "saved trained policy to     : gs://rec-bandits-v2-hybrid-vertex-bucket/2gc-optimized-train-eval-v2/run-20241122-151031/artifacts\n",
      "complete train job in 0 minutes\n"
     ]
    }
   ],
   "source": [
    "#start the timer and training\n",
    "start_time = time.time()\n",
    "\n",
    "# tf.profiler.experimental.start(LOG_DIR)\n",
    "train_loss, agent = train_batched_ds.train(\n",
    "    hparams=HPARAMS,\n",
    "    experiment_name=EXPERIMENT_NAME,\n",
    "    experiment_run=RUN_NAME,\n",
    "    num_epochs = NUM_EPOCHS,\n",
    "    log_dir=LOG_DIR,\n",
    "    artifacts_dir=ARTIFACTS_DIR,\n",
    "    chkpoint_dir=CHECKPT_DIR,\n",
    "    tfrecord_file=TFRECORD_FILE,\n",
    "    log_interval=LOG_INTERVAL,\n",
    "    # chkpt_interval=CHKPT_INTERVAL,\n",
    "    use_gpu = True,\n",
    "    # profiler = PROFILER,\n",
    "    total_take = TOTAL_TRAIN_TAKE,\n",
    "    total_skip = TOTAL_TRAIN_SKIP,\n",
    "    cache_train_data = CACHE_DATA,\n",
    ")\n",
    "# tf.profiler.experimental.stop()\n",
    "\n",
    "end_time = time.time()\n",
    "runtime_mins = int((end_time - start_time) / 60)\n",
    "print(f\"complete train job in {runtime_mins} minutes\")"
   ]
  },
  {
   "cell_type": "code",
   "execution_count": null,
   "id": "0d67614e-0601-48fb-8cc7-735469ad1601",
   "metadata": {},
   "outputs": [],
   "source": [
    "# tf.profiler.experimental.stop()"
   ]
  },
  {
   "cell_type": "code",
   "execution_count": 37,
   "id": "3ebc782f-59ed-49ea-8f11-afbadd5c0f47",
   "metadata": {
    "tags": []
   },
   "outputs": [
    {
     "data": {
      "text/plain": [
       "1.0623374"
      ]
     },
     "execution_count": 37,
     "metadata": {},
     "output_type": "execute_result"
    }
   ],
   "source": [
    "train_loss[-1]"
   ]
  },
  {
   "cell_type": "code",
   "execution_count": 38,
   "id": "81f01889-1319-4f3b-a96c-35169ade4927",
   "metadata": {
    "tags": []
   },
   "outputs": [
    {
     "data": {
      "text/plain": [
       "float"
      ]
     },
     "execution_count": 38,
     "metadata": {},
     "output_type": "execute_result"
    }
   ],
   "source": [
    "type(train_loss[0].tolist())"
   ]
  },
  {
   "cell_type": "markdown",
   "id": "8cf8eaf3-581a-4382-a39a-7bd6640cc4e2",
   "metadata": {
    "tags": []
   },
   "source": [
    "## Evaluate Train job"
   ]
  },
  {
   "cell_type": "code",
   "execution_count": 39,
   "id": "5b78fe5b-2178-48e3-a8b4-1704dc3f21ec",
   "metadata": {
    "tags": []
   },
   "outputs": [
    {
     "data": {
      "image/png": "[encoded data removed]",
      "text/plain": [
       "<Figure size 640x480 with 1 Axes>"
      ]
     },
     "metadata": {},
     "output_type": "display_data"
    }
   ],
   "source": [
    "import matplotlib.pyplot as plt\n",
    "\n",
    "plt.plot(train_loss)\n",
    "plt.ylabel('loss')\n",
    "plt.show()"
   ]
  },
  {
   "cell_type": "markdown",
   "id": "e80b96b6-c621-48f6-89f2-a9501c7efd62",
   "metadata": {},
   "source": [
    "#### Load TensorBoard\n",
    "\n",
    "> on the right-hand side, find `PROFILE` in the drop down:\n",
    "\n",
    "<img src=\"../imgs/getting_profiler.png\" \n",
    "     align=\"center\" \n",
    "     width=\"850\"\n",
    "     height=\"850\"/>\n",
    "     \n",
    "<!-- tf_vertex_agents/imgs/getting_profiler.png -->"
   ]
  },
  {
   "cell_type": "code",
   "execution_count": 23,
   "id": "b6877c9d-b4ed-4280-bec2-73a5a979538c",
   "metadata": {},
   "outputs": [],
   "source": [
    "# %load_ext tensorboard\n",
    "%reload_ext tensorboard"
   ]
  },
  {
   "cell_type": "code",
   "execution_count": 24,
   "id": "c5283ce6-c8e5-4492-868d-4cd48c5da313",
   "metadata": {},
   "outputs": [
    {
     "data": {
      "text/html": [
       "\n",
       "      <iframe id=\"tensorboard-frame-39ba464bfa93a2c5\" width=\"100%\" height=\"800\" frameborder=\"0\">\n",
       "      </iframe>\n",
       "      <script>\n",
       "        (function() {\n",
       "          const frame = document.getElementById(\"tensorboard-frame-39ba464bfa93a2c5\");\n",
       "          const url = new URL(\"/proxy/6006/\", window.location);\n",
       "          const port = 0;\n",
       "          if (port) {\n",
       "            url.port = port;\n",
       "          }\n",
       "          frame.src = url;\n",
       "        })();\n",
       "      </script>\n",
       "    "
      ],
      "text/plain": [
       "<IPython.core.display.HTML object>"
      ]
     },
     "metadata": {},
     "output_type": "display_data"
    }
   ],
   "source": [
    "%tensorboard --logdir=$LOG_DIR"
   ]
  },
  {
   "cell_type": "code",
   "execution_count": 40,
   "id": "4f6cdb72-d0b8-4b05-84e1-13e016980dde",
   "metadata": {
    "tags": []
   },
   "outputs": [
    {
     "name": "stdout",
     "output_type": "stream",
     "text": [
      "gs://rec-bandits-v2-hybrid-vertex-bucket/2gc-optimized-train-eval-v2/run-20241122-151031/artifacts/\n",
      "gs://rec-bandits-v2-hybrid-vertex-bucket/2gc-optimized-train-eval-v2/run-20241122-151031/artifacts/fingerprint.pb\n",
      "gs://rec-bandits-v2-hybrid-vertex-bucket/2gc-optimized-train-eval-v2/run-20241122-151031/artifacts/policy_specs.pbtxt\n",
      "gs://rec-bandits-v2-hybrid-vertex-bucket/2gc-optimized-train-eval-v2/run-20241122-151031/artifacts/saved_model.pb\n",
      "gs://rec-bandits-v2-hybrid-vertex-bucket/2gc-optimized-train-eval-v2/run-20241122-151031/artifacts/assets/\n",
      "gs://rec-bandits-v2-hybrid-vertex-bucket/2gc-optimized-train-eval-v2/run-20241122-151031/artifacts/variables/\n"
     ]
    }
   ],
   "source": [
    "! gsutil ls $ARTIFACTS_DIR"
   ]
  },
  {
   "cell_type": "markdown",
   "id": "708eb7a7-510d-4d53-becc-49276f7a7532",
   "metadata": {
    "tags": []
   },
   "source": [
    "# Evaluate policy\n",
    "\n",
    "> Evaluate the agent's policy once after training"
   ]
  },
  {
   "cell_type": "markdown",
   "id": "5ec10a31-818d-4577-aae6-f07092ec6395",
   "metadata": {},
   "source": [
    "## Get eval dataset"
   ]
  },
  {
   "cell_type": "code",
   "execution_count": 41,
   "id": "36a61d1a-5265-4898-b88f-37a5670d1950",
   "metadata": {
    "tags": []
   },
   "outputs": [],
   "source": [
    "def _get_rewards(observation):\n",
    "    return observation.target_movie_rating # reward\n",
    "\n",
    "def optimal_reward(observation):\n",
    "    \"\"\"\n",
    "    Outputs the maximum expected reward for every element in the batch\n",
    "    \"\"\"\n",
    "    return tf.reduce_max(_get_rewards(observation), axis=1)"
   ]
  },
  {
   "cell_type": "code",
   "execution_count": 42,
   "id": "ce79da3a-eb75-4abb-93db-85c8172307fa",
   "metadata": {
    "tags": []
   },
   "outputs": [
    {
     "name": "stdout",
     "output_type": "stream",
     "text": [
      "NUM_EVAL_SAMPLES : 99417\n"
     ]
    }
   ],
   "source": [
    "SPLIT = \"val\"\n",
    "\n",
    "val_files = []\n",
    "for blob in storage_client.list_blobs(f\"{BUCKET_NAME}\", prefix=f'{EXAMPLE_GEN_GCS_PATH}/{SPLIT}'):\n",
    "    if '.tfrecord' in blob.name:\n",
    "        val_files.append(blob.public_url.replace(\"https://storage.googleapis.com/\", \"gs://\"))\n",
    "        \n",
    "val_dataset = tf.data.TFRecordDataset(val_files)\n",
    "val_dataset = val_dataset.map(data_utils._parse_function, num_parallel_calls=tf.data.AUTOTUNE)\n",
    "\n",
    "eval_ds = val_dataset.batch(HPARAMS[\"eval_batch_size\"])\n",
    "    \n",
    "NUM_EVAL_SAMPLES = len(list(eval_ds))\n",
    "print(f\"NUM_EVAL_SAMPLES : {NUM_EVAL_SAMPLES}\")"
   ]
  },
  {
   "cell_type": "code",
   "execution_count": 43,
   "id": "f073f0b3-b063-422f-b8c6-f1b3a806fe36",
   "metadata": {
    "tags": []
   },
   "outputs": [
    {
     "data": {
      "text/plain": [
       "int"
      ]
     },
     "execution_count": 43,
     "metadata": {},
     "output_type": "execute_result"
    }
   ],
   "source": [
    "type(NUM_EVAL_SAMPLES)"
   ]
  },
  {
   "cell_type": "code",
   "execution_count": 44,
   "id": "4c3486e2-1cb5-436a-85b3-c58125596163",
   "metadata": {
    "tags": []
   },
   "outputs": [],
   "source": [
    "NUM_EVAL_STEPS  = 10_000\n",
    "\n",
    "if NUM_EVAL_STEPS > 0:\n",
    "    eval_ds = eval_ds.take(NUM_EVAL_STEPS)"
   ]
  },
  {
   "cell_type": "code",
   "execution_count": 45,
   "id": "08de2fc1-6da1-494c-97ac-9f40392c26e3",
   "metadata": {
    "tags": []
   },
   "outputs": [
    {
     "name": "stdout",
     "output_type": "stream",
     "text": [
      "total_val_reward : 35886.0\n"
     ]
    }
   ],
   "source": [
    "val_rewards = []\n",
    "\n",
    "for x in eval_ds:\n",
    "    # print(x)\n",
    "    # break\n",
    "    val_rewards.append(x['target_movie_rating'][0].numpy())\n",
    "    \n",
    "total_val_reward = tf.reduce_sum(val_rewards)\n",
    "print(f\"total_val_reward : {total_val_reward}\")"
   ]
  },
  {
   "cell_type": "code",
   "execution_count": 46,
   "id": "abadacdb-7023-4196-81cd-45b914210a5c",
   "metadata": {
    "tags": []
   },
   "outputs": [
    {
     "data": {
      "text/plain": [
       "float"
      ]
     },
     "execution_count": 46,
     "metadata": {},
     "output_type": "execute_result"
    }
   ],
   "source": [
    "type(total_val_reward.numpy().tolist())"
   ]
  },
  {
   "cell_type": "code",
   "execution_count": 47,
   "id": "f5c79928-2bec-4743-9b3f-224c27853462",
   "metadata": {
    "tags": []
   },
   "outputs": [
    {
     "data": {
      "text/plain": [
       "35886.0"
      ]
     },
     "execution_count": 47,
     "metadata": {},
     "output_type": "execute_result"
    }
   ],
   "source": [
    "total_val_reward.numpy().tolist()"
   ]
  },
  {
   "cell_type": "markdown",
   "id": "d57accb3-6571-4251-bd1c-e665ee2140b7",
   "metadata": {},
   "source": [
    "### load trained policy"
   ]
  },
  {
   "cell_type": "code",
   "execution_count": 48,
   "id": "f1a3719d-a35c-433f-b093-8d5b4173cc8f",
   "metadata": {
    "tags": []
   },
   "outputs": [
    {
     "data": {
      "text/plain": [
       "<tf_agents.policies.py_tf_eager_policy.SavedModelPyTFEagerPolicy at 0x7fd36327b010>"
      ]
     },
     "execution_count": 48,
     "metadata": {},
     "output_type": "execute_result"
    }
   ],
   "source": [
    "trained_policy = py_tf_eager_policy.SavedModelPyTFEagerPolicy(\n",
    "    ARTIFACTS_DIR, load_specs_from_pbtxt=True\n",
    ")\n",
    "trained_policy"
   ]
  },
  {
   "cell_type": "code",
   "execution_count": 49,
   "id": "ef9a5b32-f273-4a0a-a211-1b15d58ac583",
   "metadata": {
    "tags": []
   },
   "outputs": [],
   "source": [
    "sys.path.append(\"../..\")\n",
    "from src.trainer import eval_perarm"
   ]
  },
  {
   "cell_type": "code",
   "execution_count": 50,
   "id": "f8257237-5c04-4bda-8105-58ba64fd1e09",
   "metadata": {
    "tags": []
   },
   "outputs": [
    {
     "name": "stdout",
     "output_type": "stream",
     "text": [
      "evaluating trained Agent...\n",
      "post-train val_loss     : 1.3077208995819092\n",
      "post-train eval runtime : 8\n"
     ]
    }
   ],
   "source": [
    "# ====================================================\n",
    "# Evaluate the agent's policy once after training\n",
    "# ====================================================\n",
    "print(f\"evaluating trained Agent...\")\n",
    "\n",
    "# post_policy_tf = py_tf_eager_policy.PyTFEagerPolicy(agent.policy, use_tf_function=True)\n",
    "start_time = time.time()\n",
    "\n",
    "val_loss, preds, tr_rewards = eval_perarm._run_bandit_eval(\n",
    "    policy = trained_policy,\n",
    "    data = eval_ds,\n",
    "    eval_batch_size = HPARAMS['eval_batch_size'],\n",
    "    per_arm_dim = HPARAMS['per_arm_dim'],\n",
    "    global_dim = HPARAMS['global_dim'],\n",
    "    vocab_dict = vocab_dict,\n",
    "    num_oov_buckets = 1,\n",
    "    global_emb_size = HPARAMS['global_emb_size'],\n",
    "    mv_emb_size = HPARAMS['arm_emb_size'],\n",
    ")\n",
    "\n",
    "runtime_mins = int((time.time() - start_time) / 60)\n",
    "print(f\"post-train val_loss     : {val_loss}\")\n",
    "print(f\"post-train eval runtime : {runtime_mins}\")"
   ]
  },
  {
   "cell_type": "code",
   "execution_count": 51,
   "id": "441d2d20-0935-4048-ae09-e1179078f577",
   "metadata": {
    "tags": []
   },
   "outputs": [
    {
     "data": {
      "text/plain": [
       "1.3077209"
      ]
     },
     "execution_count": 51,
     "metadata": {},
     "output_type": "execute_result"
    }
   ],
   "source": [
    "val_loss.numpy()"
   ]
  },
  {
   "cell_type": "code",
   "execution_count": 53,
   "id": "f2808d49-ec8b-436b-b33d-768f3461a605",
   "metadata": {
    "tags": []
   },
   "outputs": [
    {
     "data": {
      "text/plain": [
       "[3.5653534, 3.5752828, 3.604161, 3.565338, 3.5663226]"
      ]
     },
     "execution_count": 53,
     "metadata": {},
     "output_type": "execute_result"
    }
   ],
   "source": [
    "predicted_rewards = preds\n",
    "predicted_rewards[0:5]"
   ]
  },
  {
   "cell_type": "code",
   "execution_count": 54,
   "id": "f4c907b4-7fcc-4bbd-9a4b-fb0b67ba0a78",
   "metadata": {
    "tags": []
   },
   "outputs": [
    {
     "data": {
      "text/plain": [
       "[4.0, 4.0, 1.0, 3.0, 4.0]"
      ]
     },
     "execution_count": 54,
     "metadata": {},
     "output_type": "execute_result"
    }
   ],
   "source": [
    "actual_rewards = tr_rewards\n",
    "actual_rewards[0:5]"
   ]
  },
  {
   "cell_type": "code",
   "execution_count": 55,
   "id": "e236298d-1940-4a4f-ac6a-e4d742d3c74e",
   "metadata": {
    "tags": []
   },
   "outputs": [
    {
     "name": "stdout",
     "output_type": "stream",
     "text": [
      "total_val_reward        : 35886.0\n",
      "total_actual_rewards    : 35886.0\n",
      "total_predicted_rewards : 37076.2421875\n",
      "reward_gap              : -1190.2421875\n",
      "reward_gap_percent      : 103.32%\n"
     ]
    }
   ],
   "source": [
    "total_actual_rewards = tf.reduce_sum(actual_rewards).numpy()\n",
    "total_predicted_rewards = tf.reduce_sum(predicted_rewards).numpy()\n",
    "reward_gap = total_val_reward - total_predicted_rewards\n",
    "reward_gap_percent = round((total_predicted_rewards / total_actual_rewards) * 100.0, 2)\n",
    "\n",
    "print(f\"total_val_reward        : {total_val_reward}\")\n",
    "print(f\"total_actual_rewards    : {total_actual_rewards}\")\n",
    "print(f\"total_predicted_rewards : {total_predicted_rewards}\")\n",
    "print(f\"reward_gap              : {reward_gap}\")\n",
    "print(f\"reward_gap_percent      : {reward_gap_percent}%\")"
   ]
  },
  {
   "cell_type": "markdown",
   "id": "8ecf7c75-1f28-426e-b0f1-9d949f956462",
   "metadata": {},
   "source": [
    "# Notes"
   ]
  },
  {
   "cell_type": "markdown",
   "id": "5d20dc86-0c53-45f1-b7e2-4fd9043e9391",
   "metadata": {},
   "source": [
    "### Train dataset"
   ]
  },
  {
   "cell_type": "code",
   "execution_count": 56,
   "id": "da400204-14cb-4069-aac2-7ef19bcd3dd1",
   "metadata": {
    "tags": []
   },
   "outputs": [
    {
     "data": {
      "text/plain": [
       "'gs://rec-bandits-v2-hybrid-vertex-bucket/data/movielens/m1m/mv_b128_g12_a16_v6/mv_b128_g12_a16_v6.tfrecord'"
      ]
     },
     "execution_count": 56,
     "metadata": {},
     "output_type": "execute_result"
    }
   ],
   "source": [
    "TFRECORD_FILE"
   ]
  },
  {
   "cell_type": "code",
   "execution_count": 41,
   "id": "902eff4f-43de-44bc-9cff-3d33380a605c",
   "metadata": {},
   "outputs": [
    {
     "data": {
      "text/plain": [
       "<_MapDataset element_spec={'action': TensorSpec(shape=(), dtype=tf.string, name=None), 'chosen_arm_features': TensorSpec(shape=(), dtype=tf.string, name=None), 'discount': TensorSpec(shape=(), dtype=tf.string, name=None), 'next_step_type': TensorSpec(shape=(), dtype=tf.string, name=None), 'observation': TensorSpec(shape=(), dtype=tf.string, name=None), 'reward': TensorSpec(shape=(), dtype=tf.string, name=None), 'step_type': TensorSpec(shape=(), dtype=tf.string, name=None)}>"
      ]
     },
     "execution_count": 41,
     "metadata": {},
     "output_type": "execute_result"
    }
   ],
   "source": [
    "_raw_dataset = tf.data.TFRecordDataset([TFRECORD_FILE])\n",
    "_parsed_dataset = _raw_dataset.map(preprocess_utils._parse_record)\n",
    "_parsed_dataset"
   ]
  },
  {
   "cell_type": "code",
   "execution_count": 42,
   "id": "71514679-e5da-4fcb-8e92-ea23b1f97964",
   "metadata": {},
   "outputs": [
    {
     "name": "stdout",
     "output_type": "stream",
     "text": [
      "total_ds_size : 7766\n"
     ]
    }
   ],
   "source": [
    "total_ds_size = len(list(_parsed_dataset))\n",
    "\n",
    "print(f\"total_ds_size : {total_ds_size}\")"
   ]
  },
  {
   "cell_type": "code",
   "execution_count": 49,
   "id": "d9e22643-d225-4a45-afe8-c59e96aec766",
   "metadata": {},
   "outputs": [
    {
     "data": {
      "text/plain": [
       "10"
      ]
     },
     "execution_count": 49,
     "metadata": {},
     "output_type": "execute_result"
    }
   ],
   "source": [
    "total_take=10\n",
    "\n",
    "test_take_ds = _parsed_dataset.take(count=total_take)\n",
    "\n",
    "count = 0\n",
    "for x in test_take_ds:\n",
    "    _parsed_trajectories = preprocess_utils.build_trajectory_from_tfrecord(\n",
    "        x, HPARAMS['batch_size'], HPARAMS['num_actions']\n",
    "    )\n",
    "    count+=1\n",
    "    \n",
    "# _parsed_trajectories\n",
    "count"
   ]
  },
  {
   "cell_type": "markdown",
   "id": "fb05da6f-8def-4243-b586-691322edcd47",
   "metadata": {},
   "source": [
    "## Val dataset"
   ]
  },
  {
   "cell_type": "code",
   "execution_count": 43,
   "id": "72e13c0f-4225-4a64-a53e-aa5966fa35e7",
   "metadata": {},
   "outputs": [
    {
     "data": {
      "text/plain": [
       "<_ParallelMapDataset element_spec={'target_movie_genres': TensorSpec(shape=(10,), dtype=tf.string, name=None), 'target_movie_id': TensorSpec(shape=(), dtype=tf.string, name=None), 'target_movie_rating': TensorSpec(shape=(), dtype=tf.float32, name=None), 'target_movie_title': TensorSpec(shape=(), dtype=tf.string, name=None), 'target_movie_year': TensorSpec(shape=(), dtype=tf.int64, name=None), 'target_rating_timestamp': TensorSpec(shape=(), dtype=tf.int64, name=None), 'user_age': TensorSpec(shape=(), dtype=tf.int64, name=None), 'user_gender': TensorSpec(shape=(), dtype=tf.string, name=None), 'user_id': TensorSpec(shape=(), dtype=tf.string, name=None), 'user_occupation_text': TensorSpec(shape=(), dtype=tf.string, name=None), 'user_zip_code': TensorSpec(shape=(), dtype=tf.string, name=None)}>"
      ]
     },
     "execution_count": 43,
     "metadata": {},
     "output_type": "execute_result"
    }
   ],
   "source": [
    "val_dataset"
   ]
  },
  {
   "cell_type": "code",
   "execution_count": 44,
   "id": "ace0f23f-f1db-42c5-bfc3-7a27ce3fda8b",
   "metadata": {},
   "outputs": [
    {
     "name": "stdout",
     "output_type": "stream",
     "text": [
      "total_val_ds_size : 99417\n"
     ]
    }
   ],
   "source": [
    "total_val_ds_size = len(list(val_dataset))\n",
    "\n",
    "print(f\"total_val_ds_size : {total_val_ds_size}\")"
   ]
  },
  {
   "cell_type": "markdown",
   "id": "7f1dcddc-988b-4441-83f2-41a009820b22",
   "metadata": {},
   "source": [
    "**Finished**"
   ]
  }
 ],
 "metadata": {
  "environment": {
   "kernel": "conda-base-py",
   "name": "workbench-notebooks.m126",
   "type": "gcloud",
   "uri": "us-docker.pkg.dev/deeplearning-platform-release/gcr.io/workbench-notebooks:m126"
  },
  "kernelspec": {
   "display_name": "Python 3 (ipykernel) (Local)",
   "language": "python",
   "name": "conda-base-py"
  },
  "language_info": {
   "codemirror_mode": {
    "name": "ipython",
    "version": 3
   },
   "file_extension": ".py",
   "mimetype": "text/x-python",
   "name": "python",
   "nbconvert_exporter": "python",
   "pygments_lexer": "ipython3",
   "version": "3.10.15"
  }
 },
 "nbformat": 4,
 "nbformat_minor": 5
}
