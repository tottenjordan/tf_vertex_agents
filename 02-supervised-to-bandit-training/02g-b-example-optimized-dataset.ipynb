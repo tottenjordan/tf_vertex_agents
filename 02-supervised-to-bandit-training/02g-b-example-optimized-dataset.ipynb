{
 "cells": [
  {
   "cell_type": "markdown",
   "id": "c7ce31be-f37c-4b90-afed-054f4324cc83",
   "metadata": {},
   "source": [
    "# Optimize data loading\n",
    "\n",
    "* batching trajectories\n",
    "* storing in BigQuery\n",
    "* loading from BigQuery (in batches)"
   ]
  },
  {
   "cell_type": "markdown",
   "id": "68dd512e-2126-48b2-ad44-661d837845b0",
   "metadata": {},
   "source": [
    "### Notebook config"
   ]
  },
  {
   "cell_type": "code",
   "execution_count": 1,
   "id": "d4aac7dd-1e51-48fb-b1ca-7d4bde480e1c",
   "metadata": {},
   "outputs": [
    {
     "name": "stdout",
     "output_type": "stream",
     "text": [
      "PREFIX: rec-bandits-v2\n"
     ]
    }
   ],
   "source": [
    "VERSION        = \"v2\"                       # TODO\n",
    "PREFIX         = f'rec-bandits-{VERSION}'   # TODO\n",
    "\n",
    "print(f\"PREFIX: {PREFIX}\")"
   ]
  },
  {
   "cell_type": "code",
   "execution_count": 2,
   "id": "47927c4e-d6b1-4df8-99cb-cdc4ff448c7c",
   "metadata": {},
   "outputs": [
    {
     "name": "stdout",
     "output_type": "stream",
     "text": [
      "\n",
      "PROJECT_ID               = \"hybrid-vertex\"\n",
      "PROJECT_NUM              = \"934903580331\"\n",
      "LOCATION                 = \"us-central1\"\n",
      "\n",
      "REGION                   = \"us-central1\"\n",
      "BQ_LOCATION              = \"US\"\n",
      "VPC_NETWORK_NAME         = \"ucaip-haystack-vpc-network\"\n",
      "VERTEX_SA                = \"934903580331-compute@developer.gserviceaccount.com\"\n",
      "\n",
      "PREFIX                   = \"rec-bandits-v2\"\n",
      "VERSION                  = \"v2\"\n",
      "\n",
      "BUCKET_NAME              = \"rec-bandits-v2-hybrid-vertex-bucket\"\n",
      "BUCKET_URI               = \"gs://rec-bandits-v2-hybrid-vertex-bucket\"\n",
      "DATA_GCS_PREFIX          = \"data\"\n",
      "DATA_PATH                = \"gs://rec-bandits-v2-hybrid-vertex-bucket/data\"\n",
      "VOCAB_SUBDIR             = \"vocabs\"\n",
      "VOCAB_FILENAME           = \"vocab_dict.pkl\"\n",
      "\n",
      "VPC_NETWORK_FULL         = \"projects/934903580331/global/networks/ucaip-haystack-vpc-network\"\n",
      "\n",
      "BIGQUERY_DATASET_NAME    = \"mvlens_rec_bandits_v2\"\n",
      "BIGQUERY_TABLE_NAME      = \"training_dataset\"\n",
      "\n",
      "REPOSITORY               = \"rl-movielens-rec-bandits-v2\"\n",
      "\n",
      "DOCKERNAME_01            = \"Dockerfile_train_my_perarm_env\"\n",
      "IMAGE_NAME_01            = \"train-my-perarm-env-v2\"\n",
      "IMAGE_URI_01             = \"gcr.io/hybrid-vertex/train-my-perarm-env-v2\"\n",
      "\n",
      "DOCKERNAME_02            = \"Dockerfile_perarm_feats\"\n",
      "IMAGE_NAME_02            = \"train-perarm-feats-v2\"\n",
      "IMAGE_URI_02             = \"gcr.io/hybrid-vertex/train-perarm-feats-v2\"\n",
      "\n",
      "DOCKERNAME_03            = \"Dockerfile_ranking_bandit\"\n",
      "IMAGE_NAME_03            = \"train-rank-bandit-v2\"\n",
      "IMAGE_URI_03             = \"gcr.io/hybrid-vertex/train-rank-bandit-v2\"\n",
      "\n",
      "DOCKERNAME_04            = \"Dockerfile_train_bandit_e2e\"\n",
      "IMAGE_NAME_04            = \"train-mab-e2e-v2\"\n",
      "IMAGE_URI_04             = \"gcr.io/hybrid-vertex/train-mab-e2e-v2\"\n",
      "\n",
      "DOCKERNAME_04_pred       = \"Dockerfile_pred_bandit_e2e\"\n",
      "IMAGE_NAME_04_pred       = \"pred-mab-e2e-v2\"\n",
      "IMAGE_URI_04_pred        = \"gcr.io/hybrid-vertex/pred-mab-e2e-v2\"\n",
      "\n",
      "REMOTE_IMAGE_NAME        = \"us-central1-docker.pkg.dev/hybrid-vertex/rl-movielens-rec-bandits-v2/local_docker_tfa\"\n",
      "REPO_DOCKER_PATH_PREFIX  = \"src\"\n",
      "\n"
     ]
    }
   ],
   "source": [
    "# staging GCS\n",
    "GCP_PROJECTS             = !gcloud config get-value project\n",
    "PROJECT_ID               = GCP_PROJECTS[0]\n",
    "\n",
    "# GCS bucket and paths\n",
    "BUCKET_NAME              = f'{PREFIX}-{PROJECT_ID}-bucket'\n",
    "BUCKET_URI               = f'gs://{BUCKET_NAME}'\n",
    "\n",
    "config = !gsutil cat {BUCKET_URI}/config/notebook_env.py\n",
    "print(config.n)\n",
    "exec(config.n)"
   ]
  },
  {
   "cell_type": "code",
   "execution_count": 3,
   "id": "a04f477a-afea-4fda-a5b1-4ffa8f6f5733",
   "metadata": {},
   "outputs": [],
   "source": [
    "import os\n",
    "os.environ['TF_CPP_MIN_LOG_LEVEL'] = '2'"
   ]
  },
  {
   "cell_type": "code",
   "execution_count": 4,
   "id": "9c02b659-12f5-45ad-b55f-78209bde14fa",
   "metadata": {},
   "outputs": [],
   "source": [
    "import json\n",
    "import time\n",
    "import functools\n",
    "import collections\n",
    "import pickle as pkl\n",
    "from pprint import pprint\n",
    "from typing import Callable, Dict, List, Optional, TypeVar, Any\n",
    "\n",
    "# logging\n",
    "import logging\n",
    "logging.disable(logging.WARNING)\n",
    "\n",
    "import warnings\n",
    "warnings.filterwarnings('ignore')\n",
    "\n",
    "import matplotlib.pyplot as plt\n",
    "import numpy as np\n",
    "\n",
    "# google cloud\n",
    "from google.cloud import aiplatform, storage, bigquery\n",
    "\n",
    "# tensorflow\n",
    "import tensorflow as tf\n",
    "\n",
    "# tf exceptions and vars\n",
    "if tf.__version__[0] != \"2\":\n",
    "    raise Exception(\"The trainer only runs with TensorFlow version 2.\")\n",
    "\n",
    "T = TypeVar(\"T\")"
   ]
  },
  {
   "cell_type": "code",
   "execution_count": 5,
   "id": "b432e208-1bca-4143-a54c-8ae9edd5a7b8",
   "metadata": {},
   "outputs": [],
   "source": [
    "from tf_agents.specs import tensor_spec\n",
    "from tf_agents.trajectories import time_step as ts\n",
    "from tf_agents.bandits.policies import policy_utilities\n",
    "from tf_agents.bandits.specs import utils as bandit_spec_utils\n",
    "from tf_agents.metrics import tf_metrics\n",
    "from tf_agents.bandits.metrics import tf_metrics as tf_bandit_metrics\n",
    "from tf_agents.trajectories import trajectory\n",
    "from tf_agents import trajectories\n",
    "\n",
    "from tf_agents.policies import py_tf_eager_policy\n",
    "from tf_agents.trajectories import time_step as ts\n",
    "from tf_agents.policies import policy_saver\n",
    "from tf_agents.metrics import export_utils\n",
    "from tf_agents.eval import metric_utils\n",
    "from tf_agents.utils import common"
   ]
  },
  {
   "cell_type": "code",
   "execution_count": 6,
   "id": "f22e047f-6b5c-4472-8106-5710ab2ee518",
   "metadata": {},
   "outputs": [],
   "source": [
    "import sys\n",
    "sys.path.append(\"..\")\n",
    "\n",
    "# this repo\n",
    "from src.utils import train_utils, reward_factory\n",
    "from src.data import data_utils, data_config\n",
    "from src.agents import agent_factory as agent_factory\n",
    "from src.networks import encoding_network as emb_features"
   ]
  },
  {
   "cell_type": "code",
   "execution_count": 7,
   "id": "07045692-7a76-4e4e-8eed-be74878580c5",
   "metadata": {},
   "outputs": [
    {
     "name": "stdout",
     "output_type": "stream",
     "text": [
      "Num GPUs Available:  1\n"
     ]
    }
   ],
   "source": [
    "# GPU\n",
    "from numba import cuda \n",
    "import gc\n",
    "\n",
    "print(\"Num GPUs Available: \", len(tf.config.list_physical_devices('GPU')))"
   ]
  },
  {
   "cell_type": "code",
   "execution_count": 9,
   "id": "01c09829-a0ed-4585-b189-f95eeec9dc56",
   "metadata": {},
   "outputs": [
    {
     "data": {
      "text/plain": [
       "14"
      ]
     },
     "execution_count": 9,
     "metadata": {},
     "output_type": "execute_result"
    }
   ],
   "source": [
    "device = cuda.get_current_device()\n",
    "device.reset()\n",
    "gc.collect()"
   ]
  },
  {
   "cell_type": "markdown",
   "id": "c51cceab-266a-414b-8a19-9165bb08f7c4",
   "metadata": {},
   "source": [
    "### GCP clients"
   ]
  },
  {
   "cell_type": "code",
   "execution_count": 10,
   "id": "33452557-55d3-487b-bd0b-5fcd24d0884f",
   "metadata": {},
   "outputs": [],
   "source": [
    "# cloud storage client\n",
    "storage_client = storage.Client(project=PROJECT_ID)\n",
    "\n",
    "# Vertex client\n",
    "aiplatform.init(project=PROJECT_ID, location=LOCATION)\n",
    "\n",
    "# bigquery client\n",
    "bqclient = bigquery.Client(project=PROJECT_ID,)"
   ]
  },
  {
   "cell_type": "markdown",
   "id": "ed4c5c2c-ba42-4751-8d62-c7706a5f7243",
   "metadata": {},
   "source": [
    "## Get data"
   ]
  },
  {
   "cell_type": "code",
   "execution_count": 11,
   "id": "2fc9c194-eb4a-4cce-93a7-67392a180195",
   "metadata": {},
   "outputs": [
    {
     "name": "stdout",
     "output_type": "stream",
     "text": [
      "GCS_DATA_PATH: gs://rec-bandits-v2-hybrid-vertex-bucket/data/movielens/m1m\n",
      "gs://rec-bandits-v2-hybrid-vertex-bucket/data/movielens/m1m/mv_b128_g12_a16/\n",
      "gs://rec-bandits-v2-hybrid-vertex-bucket/data/movielens/m1m/mv_b128_g12_a16_v4/\n",
      "gs://rec-bandits-v2-hybrid-vertex-bucket/data/movielens/m1m/mv_b128_g12_a16_v5/\n",
      "gs://rec-bandits-v2-hybrid-vertex-bucket/data/movielens/m1m/train/\n",
      "gs://rec-bandits-v2-hybrid-vertex-bucket/data/movielens/m1m/val/\n",
      "gs://rec-bandits-v2-hybrid-vertex-bucket/data/movielens/m1m/vocabs/\n"
     ]
    }
   ],
   "source": [
    "EXAMPLE_GEN_GCS_PATH = data_config.EXAMPLE_GEN_GCS_PATH\n",
    "GCS_DATA_PATH = f\"{BUCKET_URI}/{EXAMPLE_GEN_GCS_PATH}\"\n",
    "\n",
    "print(f\"GCS_DATA_PATH: {GCS_DATA_PATH}\")\n",
    "\n",
    "!gsutil ls $GCS_DATA_PATH"
   ]
  },
  {
   "cell_type": "code",
   "execution_count": 12,
   "id": "9dfe4bb8-2e2a-484c-98fb-4f8f005230da",
   "metadata": {},
   "outputs": [],
   "source": [
    "options = tf.data.Options()\n",
    "options.experimental_distribute.auto_shard_policy = tf.data.experimental.AutoShardPolicy.AUTO"
   ]
  },
  {
   "cell_type": "code",
   "execution_count": 13,
   "id": "2f189d69-b9ce-4bee-ac60-4ffb538ecba2",
   "metadata": {},
   "outputs": [],
   "source": [
    "SPLIT = \"train\" # \"train\" | \"val\"\n",
    "\n",
    "train_files = []\n",
    "for blob in storage_client.list_blobs(f\"{BUCKET_NAME}\", prefix=f'{EXAMPLE_GEN_GCS_PATH}/{SPLIT}'):\n",
    "    if '.tfrecord' in blob.name:\n",
    "        train_files.append(blob.public_url.replace(\"https://storage.googleapis.com/\", \"gs://\"))\n",
    "        \n",
    "train_files = train_files[:2]\n",
    "train_dataset = tf.data.TFRecordDataset(train_files)\n",
    "train_dataset = train_dataset.map(data_utils._parse_function)\n",
    "\n",
    "# for x in train_dataset.batch(1).take(1):\n",
    "#     pprint(x)"
   ]
  },
  {
   "cell_type": "code",
   "execution_count": 14,
   "id": "00135c7b-7e96-445a-8666-94b3c6620b7b",
   "metadata": {},
   "outputs": [
    {
     "name": "stdout",
     "output_type": "stream",
     "text": [
      "Downloading vocab...\n",
      "Downloaded vocab from: gs://rec-bandits-v2-hybrid-vertex-bucket/data/movielens/m1m/vocabs/vocab_dict.pkl\n",
      "\n"
     ]
    }
   ],
   "source": [
    "EXISTING_VOCAB_FILE = f'gs://{BUCKET_NAME}/{EXAMPLE_GEN_GCS_PATH}/vocabs/{VOCAB_FILENAME}'\n",
    "print(f\"Downloading vocab...\")\n",
    "\n",
    "os.system(f'gsutil -q cp {EXISTING_VOCAB_FILE} .')\n",
    "print(f\"Downloaded vocab from: {EXISTING_VOCAB_FILE}\\n\")\n",
    "\n",
    "filehandler = open(VOCAB_FILENAME, 'rb')\n",
    "vocab_dict = pkl.load(filehandler)\n",
    "filehandler.close()\n",
    "\n",
    "# for key in vocab_dict.keys():\n",
    "#     pprint(key)"
   ]
  },
  {
   "cell_type": "markdown",
   "id": "b627a292-1d26-4337-b8e7-9bace147376e",
   "metadata": {},
   "source": [
    "## Get feature pre-processing embeddings"
   ]
  },
  {
   "cell_type": "code",
   "execution_count": 15,
   "id": "0127b0c8-b395-4881-8a4f-882881921014",
   "metadata": {},
   "outputs": [
    {
     "name": "stdout",
     "output_type": "stream",
     "text": [
      "BATCH_SIZE           : 3\n",
      "EVAL_BATCH_SIZE      : 1\n",
      "NUM_ACTIONS          : 2\n",
      "EXPECTED_GLOBAL_DIM  : 48\n",
      "EXPECTED_PER_ARM_DIM : 32\n"
     ]
    }
   ],
   "source": [
    "NUM_OOV_BUCKETS        = 1\n",
    "GLOBAL_EMBEDDING_SIZE  = 8\n",
    "MV_EMBEDDING_SIZE      = 8\n",
    "\n",
    "BATCH_SIZE             = 3\n",
    "EVAL_BATCH_SIZE        = 1\n",
    "NUM_ACTIONS            = 2\n",
    "\n",
    "NUM_GLOBAL_FEATURES = len(data_utils.USER_FEATURE_NAMES)     # 6\n",
    "NUM_ARM_FEATURES    = len(data_utils.MOVIE_FEATURE_NAMES)    # 5\n",
    "EXPECTED_GLOBAL_DIM  = GLOBAL_EMBEDDING_SIZE * NUM_GLOBAL_FEATURES\n",
    "EXPECTED_PER_ARM_DIM = MV_EMBEDDING_SIZE * NUM_ARM_FEATURES\n",
    "\n",
    "print(f\"BATCH_SIZE           : {BATCH_SIZE}\")\n",
    "print(f\"EVAL_BATCH_SIZE      : {EVAL_BATCH_SIZE}\")\n",
    "print(f\"NUM_ACTIONS          : {NUM_ACTIONS}\")\n",
    "print(f\"EXPECTED_GLOBAL_DIM  : {EXPECTED_GLOBAL_DIM}\")\n",
    "print(f\"EXPECTED_PER_ARM_DIM : {EXPECTED_PER_ARM_DIM}\")"
   ]
  },
  {
   "cell_type": "code",
   "execution_count": 16,
   "id": "75db5774-04fb-44af-bf68-6fa15835f61b",
   "metadata": {},
   "outputs": [],
   "source": [
    "# test emb models\n",
    "for i in range(1):\n",
    "    \n",
    "    iterator = iter(train_dataset.batch(1))\n",
    "    data = next(iterator)\n",
    "\n",
    "# data"
   ]
  },
  {
   "cell_type": "code",
   "execution_count": 17,
   "id": "2409db48-ce31-47f0-a41b-08094782ad64",
   "metadata": {},
   "outputs": [
    {
     "data": {
      "text/plain": [
       "<src.networks.encoding_network.EmbeddingModel at 0x7f547f019180>"
      ]
     },
     "execution_count": 17,
     "metadata": {},
     "output_type": "execute_result"
    }
   ],
   "source": [
    "embs = emb_features.EmbeddingModel(\n",
    "    vocab_dict = vocab_dict,\n",
    "    num_oov_buckets = NUM_OOV_BUCKETS,\n",
    "    global_emb_size = GLOBAL_EMBEDDING_SIZE,\n",
    "    mv_emb_size = MV_EMBEDDING_SIZE,\n",
    "    max_genre_length = data_confg.MAX_GENRE_LENGTH,\n",
    ")\n",
    "\n",
    "embs"
   ]
  },
  {
   "cell_type": "code",
   "execution_count": 18,
   "id": "13528f65-cc9f-450d-bd36-2b6f4134b872",
   "metadata": {},
   "outputs": [
    {
     "name": "stdout",
     "output_type": "stream",
     "text": [
      "GLOBAL_DIM: 48\n",
      "PER_ARM_DIM: 32\n"
     ]
    }
   ],
   "source": [
    "test_globals = embs._get_global_context_features(data)\n",
    "\n",
    "GLOBAL_DIM = test_globals.shape[1]            \n",
    "# shape checks out at batch_dim, nactions, arm feats\n",
    "print(f\"GLOBAL_DIM: {GLOBAL_DIM}\")\n",
    "\n",
    "test_arms = embs._get_per_arm_features(data)\n",
    "\n",
    "PER_ARM_DIM = test_arms.shape[1]            \n",
    "# shape checks out at batch_dim, nactions, arm feats\n",
    "print(f\"PER_ARM_DIM: {PER_ARM_DIM}\")"
   ]
  },
  {
   "cell_type": "markdown",
   "id": "a2fe1026-72c8-4ecd-9c44-8c0ca532949d",
   "metadata": {},
   "source": [
    "## Trajectory function"
   ]
  },
  {
   "cell_type": "code",
   "execution_count": 19,
   "id": "afe87c1b-8bcc-41a5-8959-eb88aec3c522",
   "metadata": {},
   "outputs": [],
   "source": [
    "BIGQUERY_TMP_FILE = \"tmp_bq.json\"\n",
    "# BATCH_SIZE = 8"
   ]
  },
  {
   "cell_type": "code",
   "execution_count": 20,
   "id": "6201467e-78be-4e70-9e93-23f9552589d8",
   "metadata": {},
   "outputs": [
    {
     "name": "stdout",
     "output_type": "stream",
     "text": [
      "BQ_TABLE_REF  : hybrid-vertex.mvlens_rec_bandits_v2.test_mv_b3_g8_a8\n",
      "TFRECORD_FILE : gs://rec-bandits-v2-hybrid-vertex-bucket/data/from_bq_test/test_mv_b3_g8_a8.tfrecord\n"
     ]
    }
   ],
   "source": [
    "BIGQUERY_TABLE_NAME = f\"test_mv_b{BATCH_SIZE}_g{GLOBAL_EMBEDDING_SIZE}_a{MV_EMBEDDING_SIZE}\"\n",
    "BQ_TABLE_REF = f\"{PROJECT_ID}.{BIGQUERY_DATASET_NAME}.{BIGQUERY_TABLE_NAME}\"\n",
    "\n",
    "# Dataset parameters\n",
    "TFRECORD_FILE = (\n",
    "    f\"{BUCKET_URI}/data/from_bq_test/{BIGQUERY_TABLE_NAME}.tfrecord\"\n",
    ")\n",
    "\n",
    "print(f\"BQ_TABLE_REF  : {BQ_TABLE_REF}\")\n",
    "print(f\"TFRECORD_FILE : {TFRECORD_FILE}\")"
   ]
  },
  {
   "cell_type": "markdown",
   "id": "abc2537c-ff81-4dae-a0e6-de597b3f2e03",
   "metadata": {},
   "source": [
    "## my trajectory function"
   ]
  },
  {
   "cell_type": "code",
   "execution_count": 21,
   "id": "8d0b3e6f-2ae8-4dd4-97ac-134b0f0615c1",
   "metadata": {},
   "outputs": [],
   "source": [
    "from tf_agents.trajectories import trajectory\n",
    "\n",
    "def my_trajectory_fn(element):\n",
    "    \n",
    "    \"\"\"Converts a dataset element into a trajectory.\"\"\"\n",
    "    global_features = embs._get_global_context_features(element)\n",
    "    arm_features = embs._get_per_arm_features(element)\n",
    "\n",
    "    observation = {\n",
    "        bandit_spec_utils.GLOBAL_FEATURE_KEY: global_features\n",
    "    }\n",
    "    reward = reward_factory._get_rewards(element)\n",
    "\n",
    "    policy_info = policy_utilities.PerArmPolicyInfo(\n",
    "        chosen_arm_features=arm_features,\n",
    "    )\n",
    "    return trajectory.single_step(\n",
    "        observation=observation,\n",
    "        action=tf.zeros_like(\n",
    "            reward, dtype=tf.int32\n",
    "        ),\n",
    "        policy_info=policy_info,\n",
    "        reward=reward,\n",
    "        discount=tf.zeros_like(reward)\n",
    "    )"
   ]
  },
  {
   "cell_type": "code",
   "execution_count": 22,
   "id": "71fe6507-a891-45ed-a042-016665e43f26",
   "metadata": {},
   "outputs": [
    {
     "name": "stdout",
     "output_type": "stream",
     "text": [
      "traj.action.shape      : (3,)\n",
      "traj.discount.shape    : (3,)\n",
      "traj.reward.shape      : (3,)\n",
      "traj.observation.shape : (3, 48)\n"
     ]
    }
   ],
   "source": [
    "for x in train_dataset.batch(BATCH_SIZE).take(1):\n",
    "    test_traj = my_trajectory_fn(x)\n",
    "    \n",
    "print(f\"traj.action.shape      : {test_traj.action.shape}\") \n",
    "print(f\"traj.discount.shape    : {test_traj.discount.shape}\")\n",
    "print(f\"traj.reward.shape      : {test_traj.reward.shape}\")\n",
    "print(f\"traj.observation.shape : {test_traj.observation['global'].shape}\")"
   ]
  },
  {
   "cell_type": "code",
   "execution_count": 23,
   "id": "957f045a-3f00-441d-b5fe-6cdaae2cdc65",
   "metadata": {
    "tags": []
   },
   "outputs": [],
   "source": [
    "# test_traj"
   ]
  },
  {
   "cell_type": "markdown",
   "id": "cd2d93b2-45ef-49ab-87a4-d421350c9314",
   "metadata": {},
   "source": [
    "### build from trajectory for BQ"
   ]
  },
  {
   "cell_type": "code",
   "execution_count": 24,
   "id": "aca622f6-d1c0-4016-9ebe-ee2430cc4286",
   "metadata": {
    "tags": []
   },
   "outputs": [],
   "source": [
    "test_trajectory_dict = {\n",
    "    \"step_type\": test_traj.step_type.numpy().tolist(),\n",
    "    \"observation\": [{\n",
    "        \"observation_batch\": batch\n",
    "    } for batch in test_traj.observation['global'].numpy().tolist()],\n",
    "    \"chosen_arm_features\": [{\n",
    "        \"chosen_arm_features_batch\": batch\n",
    "    } for batch in test_traj.policy_info.chosen_arm_features.numpy().tolist()],\n",
    "    \"action\": test_traj.action.numpy().tolist(),\n",
    "    \"next_step_type\": test_traj.next_step_type.numpy().tolist(),\n",
    "    \"reward\": test_traj.reward.numpy().tolist(),\n",
    "    \"discount\": test_traj.discount.numpy().tolist(),\n",
    "}\n",
    "# test_trajectory_dict"
   ]
  },
  {
   "cell_type": "code",
   "execution_count": 25,
   "id": "9a49f807-41f8-48a3-bbea-34028f18d9ec",
   "metadata": {},
   "outputs": [],
   "source": [
    "def build_dict_from_trajectory(\n",
    "    trajectory : trajectories.Trajectory\n",
    ") -> Dict[str, Any]:\n",
    "    trajectory_dict = {\n",
    "        \"step_type\": trajectory.step_type.numpy().tolist(),\n",
    "        \"observation\": [\n",
    "            {\n",
    "                \"observation_batch\": batch\n",
    "            } for batch in trajectory.observation['global'].numpy().tolist()\n",
    "        ],\n",
    "        \"chosen_arm_features\": [\n",
    "            {\n",
    "                \"chosen_arm_features_batch\": batch\n",
    "            } for batch in trajectory.policy_info.chosen_arm_features.numpy().tolist()\n",
    "        ],\n",
    "        \"action\": trajectory.action.numpy().tolist(),\n",
    "        \"next_step_type\": trajectory.next_step_type.numpy().tolist(),\n",
    "        \"reward\": trajectory.reward.numpy().tolist(),\n",
    "        \"discount\": trajectory.discount.numpy().tolist(),\n",
    "    }\n",
    "    return trajectory_dict"
   ]
  },
  {
   "cell_type": "code",
   "execution_count": 26,
   "id": "12c0584c-27c9-4701-8e16-a394b48b253b",
   "metadata": {},
   "outputs": [
    {
     "data": {
      "text/plain": [
       "{'target_movie_genres': <tf.Tensor: shape=(3, 10), dtype=string, numpy=\n",
       " array([[b'Drama', b'UNK', b'UNK', b'UNK', b'UNK', b'UNK', b'UNK', b'UNK',\n",
       "         b'UNK', b'UNK'],\n",
       "        [b'Comedy', b'Drama', b'UNK', b'UNK', b'UNK', b'UNK', b'UNK',\n",
       "         b'UNK', b'UNK', b'UNK'],\n",
       "        [b'Comedy', b'UNK', b'UNK', b'UNK', b'UNK', b'UNK', b'UNK',\n",
       "         b'UNK', b'UNK', b'UNK']], dtype=object)>,\n",
       " 'target_movie_id': <tf.Tensor: shape=(3,), dtype=string, numpy=array([b'1775', b'2789', b'2249'], dtype=object)>,\n",
       " 'target_movie_rating': <tf.Tensor: shape=(3,), dtype=float32, numpy=array([4., 5., 5.], dtype=float32)>,\n",
       " 'target_movie_title': <tf.Tensor: shape=(3,), dtype=string, numpy=\n",
       " array([b'Live Flesh (1997)', b'American Beauty (1999)',\n",
       "        b'Happiness (1998)'], dtype=object)>,\n",
       " 'target_movie_year': <tf.Tensor: shape=(3,), dtype=int64, numpy=array([1997, 1999, 1998])>,\n",
       " 'target_rating_timestamp': <tf.Tensor: shape=(3,), dtype=int64, numpy=array([974612615, 961944637, 965070782])>,\n",
       " 'user_age': <tf.Tensor: shape=(3,), dtype=int64, numpy=array([50, 18, 18])>,\n",
       " 'user_gender': <tf.Tensor: shape=(3,), dtype=string, numpy=array([b'M', b'M', b'M'], dtype=object)>,\n",
       " 'user_id': <tf.Tensor: shape=(3,), dtype=string, numpy=array([b'2173', b'5155', b'4464'], dtype=object)>,\n",
       " 'user_occupation_text': <tf.Tensor: shape=(3,), dtype=string, numpy=\n",
       " array([b'programmer', b'sales/marketing', b'college/grad student'],\n",
       "       dtype=object)>,\n",
       " 'user_zip_code': <tf.Tensor: shape=(3,), dtype=string, numpy=array([b'87505', b'10024', b'02148'], dtype=object)>}"
      ]
     },
     "execution_count": 26,
     "metadata": {},
     "output_type": "execute_result"
    }
   ],
   "source": [
    "for x in train_dataset.batch(BATCH_SIZE).take(1):\n",
    "    test_traj = my_trajectory_fn(x)\n",
    "    test_trajectory_dict = build_dict_from_trajectory(test_traj)\n",
    "    break\n",
    "\n",
    "x"
   ]
  },
  {
   "cell_type": "code",
   "execution_count": 27,
   "id": "b666de1f-57e8-469e-bf94-e1af121d8552",
   "metadata": {
    "tags": []
   },
   "outputs": [],
   "source": [
    "# test_traj"
   ]
  },
  {
   "cell_type": "code",
   "execution_count": 28,
   "id": "0fd1e1e0-52ce-47e9-9722-d941085f804f",
   "metadata": {
    "tags": []
   },
   "outputs": [],
   "source": [
    "# test_trajectory_dict"
   ]
  },
  {
   "cell_type": "markdown",
   "id": "1efe2640-8cd4-4725-b16d-6564fee4d5b5",
   "metadata": {},
   "source": [
    "## load examples to BQ"
   ]
  },
  {
   "cell_type": "markdown",
   "id": "bf001fef-bc4c-4cf8-9e1f-41a930807bcd",
   "metadata": {},
   "source": [
    "### write to local file"
   ]
  },
  {
   "cell_type": "code",
   "execution_count": 29,
   "id": "21d29d36-0610-4293-a154-614ef2709057",
   "metadata": {},
   "outputs": [],
   "source": [
    "with open(BIGQUERY_TMP_FILE, \"w\") as f:\n",
    "    for example in train_dataset.batch(BATCH_SIZE, drop_remainder=True).take(count=50):\n",
    "        test_trajectories = my_trajectory_fn(example)\n",
    "        _traj_dict = build_dict_from_trajectory(test_trajectories)\n",
    "        f.write(json.dumps(_traj_dict) + \"\\n\")\n",
    "        # break"
   ]
  },
  {
   "cell_type": "code",
   "execution_count": 30,
   "id": "1697e88e-ceee-4880-b650-d53fd8f5e11f",
   "metadata": {},
   "outputs": [
    {
     "data": {
      "text/plain": [
       "{'target_movie_genres': <tf.Tensor: shape=(3, 10), dtype=string, numpy=\n",
       " array([[b'Action', b'Sci-Fi', b'UNK', b'UNK', b'UNK', b'UNK', b'UNK',\n",
       "         b'UNK', b'UNK', b'UNK'],\n",
       "        [b'Comedy', b'Drama', b'Romance', b'UNK', b'UNK', b'UNK', b'UNK',\n",
       "         b'UNK', b'UNK', b'UNK'],\n",
       "        [b'Drama', b'UNK', b'UNK', b'UNK', b'UNK', b'UNK', b'UNK', b'UNK',\n",
       "         b'UNK', b'UNK']], dtype=object)>,\n",
       " 'target_movie_id': <tf.Tensor: shape=(3,), dtype=string, numpy=array([b'3733', b'2174', b'3079'], dtype=object)>,\n",
       " 'target_movie_rating': <tf.Tensor: shape=(3,), dtype=float32, numpy=array([2., 3., 4.], dtype=float32)>,\n",
       " 'target_movie_title': <tf.Tensor: shape=(3,), dtype=string, numpy=\n",
       " array([b'Freejack (1992)', b'Broadcast News (1987)',\n",
       "        b'Cider House Rules, The (1999)'], dtype=object)>,\n",
       " 'target_movie_year': <tf.Tensor: shape=(3,), dtype=int64, numpy=array([1992, 1987, 1999])>,\n",
       " 'target_rating_timestamp': <tf.Tensor: shape=(3,), dtype=int64, numpy=array([974775209, 972057147, 976871432])>,\n",
       " 'user_age': <tf.Tensor: shape=(3,), dtype=int64, numpy=array([25, 35, 45])>,\n",
       " 'user_gender': <tf.Tensor: shape=(3,), dtype=string, numpy=array([b'M', b'M', b'M'], dtype=object)>,\n",
       " 'user_id': <tf.Tensor: shape=(3,), dtype=string, numpy=array([b'1623', b'2888', b'215'], dtype=object)>,\n",
       " 'user_occupation_text': <tf.Tensor: shape=(3,), dtype=string, numpy=array([b'other', b'clerical/admin', b'retired'], dtype=object)>,\n",
       " 'user_zip_code': <tf.Tensor: shape=(3,), dtype=string, numpy=array([b'06810', b'55104', b'52761'], dtype=object)>}"
      ]
     },
     "execution_count": 30,
     "metadata": {},
     "output_type": "execute_result"
    }
   ],
   "source": [
    "example"
   ]
  },
  {
   "cell_type": "markdown",
   "id": "e24579a8-5774-41f8-baf0-1cdfbd709d6e",
   "metadata": {},
   "source": [
    "### load table from file"
   ]
  },
  {
   "cell_type": "code",
   "execution_count": 31,
   "id": "9c9ca3c4-2d16-4b68-82fb-1102704617af",
   "metadata": {},
   "outputs": [],
   "source": [
    "job_config = bigquery.LoadJobConfig(\n",
    "    schema=[\n",
    "        bigquery.SchemaField(\"step_type\", \"INT64\", mode=\"REPEATED\"),\n",
    "        bigquery.SchemaField(\n",
    "            \"observation\",\n",
    "            \"RECORD\",\n",
    "            mode=\"REPEATED\",\n",
    "            fields=[\n",
    "                bigquery.SchemaField(\"observation_batch\", \"FLOAT64\",\n",
    "                                     \"REPEATED\")\n",
    "            ]),\n",
    "        bigquery.SchemaField(\n",
    "            \"chosen_arm_features\",\n",
    "            \"RECORD\",\n",
    "            mode=\"REPEATED\",\n",
    "            fields=[\n",
    "                bigquery.SchemaField(\"chosen_arm_features_batch\", \"FLOAT64\",\n",
    "                                     \"REPEATED\")\n",
    "            ]),\n",
    "        bigquery.SchemaField(\"action\", \"INT64\", mode=\"REPEATED\"),\n",
    "        bigquery.SchemaField(\"next_step_type\", \"INT64\", mode=\"REPEATED\"),\n",
    "        bigquery.SchemaField(\"reward\", \"FLOAT64\", mode=\"REPEATED\"),\n",
    "        bigquery.SchemaField(\"discount\", \"FLOAT64\", mode=\"REPEATED\"),\n",
    "    ],\n",
    "    source_format=bigquery.SourceFormat.NEWLINE_DELIMITED_JSON,\n",
    ")"
   ]
  },
  {
   "cell_type": "code",
   "execution_count": 32,
   "id": "358049ba-1f09-4179-8c78-8ddc6e085d18",
   "metadata": {},
   "outputs": [
    {
     "data": {
      "text/plain": [
       "LoadJob<project=hybrid-vertex, location=US, id=197cb78d-8356-432e-a6f5-7b42e553dab5>"
      ]
     },
     "execution_count": 32,
     "metadata": {},
     "output_type": "execute_result"
    }
   ],
   "source": [
    "with open(BIGQUERY_TMP_FILE, \"rb\") as source_file:\n",
    "    load_job = bqclient.load_table_from_file(\n",
    "        source_file, BQ_TABLE_REF, job_config=job_config\n",
    "    )\n",
    "\n",
    "load_job.result()  # Wait for the job to complete."
   ]
  },
  {
   "cell_type": "markdown",
   "id": "30658925-3bd3-428b-af71-ea07e0b8b799",
   "metadata": {},
   "source": [
    "## write TF Record"
   ]
  },
  {
   "cell_type": "code",
   "execution_count": 33,
   "id": "a69373d0-4e53-4bad-99e2-bff0ddc4cbcb",
   "metadata": {},
   "outputs": [],
   "source": [
    "def _bytes_feature(tensor: tf.Tensor) -> tf.train.Feature:\n",
    "    \"\"\"\n",
    "    Returns a `tf.train.Feature` with bytes from `tensor`.\n",
    "\n",
    "    Args:\n",
    "      tensor: A `tf.Tensor` object.\n",
    "\n",
    "    Returns:\n",
    "      A `tf.train.Feature` object containing bytes that represent the content of\n",
    "      `tensor`.\n",
    "    \"\"\"\n",
    "    value = tf.io.serialize_tensor(tensor)\n",
    "    if isinstance(value, type(tf.constant(0))):\n",
    "        value = value.numpy()\n",
    "    return tf.train.Feature(bytes_list=tf.train.BytesList(value=[value]))\n",
    "\n",
    "def build_example_from_bq(data_row: bigquery.table.Row) -> tf.train.Example:\n",
    "    \"\"\"\n",
    "    Builds a `tf.train.Example` from `data_row` content.\n",
    "\n",
    "    Args:\n",
    "      data_row: \n",
    "        A `bigquery.table.Row` object that contains 7 pieces of data:\n",
    "          `step_type`, `observation`, `chosen_arm_features`, `action`, `policy_info`,\n",
    "          `next_step_type`,`reward`, `discount`. Each piece of data except `observation`\n",
    "          and `chosen_arm_features` are 1D arrays; \n",
    "          `observation` is a 1D array of `{\"observation_batch\": 1D array}.`\n",
    "          `chosen_arm_features` is a 1D array of `{\"chosen_arm_features_batch\": 1D array}.`\n",
    "\n",
    "    Returns:\n",
    "      A `tf.train.Example` object holding the same data as `data_row`.\n",
    "    \"\"\"\n",
    "    feature = {\n",
    "        \"observation\":\n",
    "            _bytes_feature([\n",
    "                observation[\"observation_batch\"]\n",
    "                for observation in data_row.get(\"observation\")\n",
    "            ]),\n",
    "        \"chosen_arm_features\":\n",
    "            _bytes_feature([\n",
    "                arm_feats[\"chosen_arm_features_batch\"]\n",
    "                for arm_feats in data_row.get(\"chosen_arm_features\")\n",
    "            ]),\n",
    "        \"step_type\":\n",
    "            _bytes_feature(data_row.get(\"step_type\")),\n",
    "        \"action\":\n",
    "            _bytes_feature(data_row.get(\"action\")),\n",
    "        \"next_step_type\":\n",
    "            _bytes_feature(data_row.get(\"next_step_type\")),\n",
    "        \"reward\":\n",
    "            _bytes_feature(data_row.get(\"reward\")),\n",
    "        \"discount\":\n",
    "            _bytes_feature(data_row.get(\"discount\")),\n",
    "    }\n",
    "    example_proto = tf.train.Example(\n",
    "        features=tf.train.Features(feature=feature))\n",
    "    return example_proto"
   ]
  },
  {
   "cell_type": "code",
   "execution_count": 34,
   "id": "a41dcde2-a642-4a19-be41-4104082f241c",
   "metadata": {},
   "outputs": [
    {
     "name": "stdout",
     "output_type": "stream",
     "text": [
      "Got table: `hybrid-vertex.mvlens_rec_bandits_v2.test_mv_b3_g8_a8`\n",
      "Table has 110 rows\n"
     ]
    }
   ],
   "source": [
    "bq_table = bqclient.get_table(BQ_TABLE_REF)\n",
    "print(f\"Got table: `{bq_table.project}.{bq_table.dataset_id}.{bq_table.table_id}`\")\n",
    "print(\"Table has {} rows\".format(bq_table.num_rows))\n",
    "\n",
    "table_row_iter = bqclient.list_rows(bq_table)"
   ]
  },
  {
   "cell_type": "code",
   "execution_count": 35,
   "id": "fccd483f-b71b-4cf5-bdb9-a27cec099942",
   "metadata": {},
   "outputs": [],
   "source": [
    "def write_tfrecords(\n",
    "    tfrecord_file: str,\n",
    "    table: bigquery.table.RowIterator\n",
    ") -> None:\n",
    "    \"\"\"\n",
    "    Writes the row data in `table` into TFRecords in `tfrecord_file`.\n",
    "\n",
    "    Args:\n",
    "      tfrecord_file: Path to file to write the TFRecords.\n",
    "      table: A row iterator over all data to be written.\n",
    "    \"\"\"\n",
    "    with tf.io.TFRecordWriter(tfrecord_file) as writer:\n",
    "        for data_row in table:\n",
    "            example = build_example_from_bq(data_row)\n",
    "            writer.write(\n",
    "                example.SerializeToString()\n",
    "            )"
   ]
  },
  {
   "cell_type": "code",
   "execution_count": 36,
   "id": "3c5d5e6b-a621-4243-bfc0-059ed45da59a",
   "metadata": {},
   "outputs": [],
   "source": [
    "write_tfrecords(TFRECORD_FILE, table_row_iter)"
   ]
  },
  {
   "cell_type": "markdown",
   "id": "ef7d9235-acf7-4445-a671-0916378d468e",
   "metadata": {},
   "source": [
    "## consume TF Record"
   ]
  },
  {
   "cell_type": "code",
   "execution_count": 37,
   "id": "d20ce8e7-b664-4d25-8d1e-ed172561001b",
   "metadata": {},
   "outputs": [],
   "source": [
    "# Mapping from feature name to serialized value\n",
    "feature_description = {\n",
    "    \"observation\": tf.io.FixedLenFeature((), tf.string),\n",
    "    \"chosen_arm_features\": tf.io.FixedLenFeature((), tf.string),\n",
    "    \"step_type\": tf.io.FixedLenFeature((), tf.string),\n",
    "    \"action\": tf.io.FixedLenFeature((), tf.string),\n",
    "    \"next_step_type\": tf.io.FixedLenFeature((), tf.string),\n",
    "    \"reward\": tf.io.FixedLenFeature((), tf.string),\n",
    "    \"discount\": tf.io.FixedLenFeature((), tf.string),\n",
    "}\n",
    "\n",
    "def _parse_record(raw_record: tf.Tensor) -> Dict[str, tf.Tensor]:\n",
    "    \"\"\"\n",
    "    Parses a serialized `tf.train.Example` proto.\n",
    "\n",
    "    Args:\n",
    "      raw_record: A serialized data record of a `tf.train.Example` proto.\n",
    "\n",
    "    Returns:\n",
    "      A dict mapping feature names to values as `tf.Tensor` objects of type\n",
    "      string containing serialized protos, following `feature_description`.\n",
    "    \"\"\"\n",
    "    return tf.io.parse_single_example(raw_record, feature_description)\n",
    "\n",
    "def build_trajectory_from_tfrecord(\n",
    "    parsed_record: Dict[str, tf.Tensor],\n",
    "    batch_size: int,\n",
    "    num_actions: int,\n",
    "    # policy_info: policies.utils.PolicyInfo\n",
    ") -> trajectories.Trajectory:\n",
    "    \"\"\"\n",
    "    Builds a `trajectories.Trajectory` object from `parsed_record`.\n",
    "\n",
    "    Args:\n",
    "      parsed_record: A dict mapping feature names to values as `tf.Tensor`\n",
    "        objects of type string containing serialized protos.\n",
    "      policy_info: Policy information specification.\n",
    "\n",
    "    Returns:\n",
    "      A `trajectories.Trajectory` object that contains values as de-serialized\n",
    "      `tf.Tensor` objects from `parsed_record`.\n",
    "    \"\"\"\n",
    "    # _batch_size = BATCH_SIZE\n",
    "    # _num_actions = 2\n",
    "    dummy_rewards = tf.zeros([batch_size, 1, num_actions])\n",
    "\n",
    "    global_features = tf.expand_dims(\n",
    "        tf.io.parse_tensor(parsed_record[\"observation\"], out_type=tf.float32),\n",
    "        axis=1\n",
    "    )\n",
    "    observation = {\n",
    "        bandit_spec_utils.GLOBAL_FEATURE_KEY: global_features\n",
    "    }\n",
    "    \n",
    "    arm_features = tf.expand_dims(\n",
    "        tf.io.parse_tensor(parsed_record[\"chosen_arm_features\"], out_type=tf.float32),\n",
    "        axis=1\n",
    "    )\n",
    "\n",
    "    policy_info = policy_utilities.PerArmPolicyInfo(\n",
    "        chosen_arm_features=arm_features,\n",
    "        predicted_rewards_mean=dummy_rewards,\n",
    "        bandit_policy_type=tf.zeros([batch_size, 1, 1], dtype=tf.int32)\n",
    "    )\n",
    "\n",
    "    return trajectories.Trajectory(\n",
    "        step_type=tf.expand_dims(\n",
    "            tf.io.parse_tensor(parsed_record[\"step_type\"], out_type=tf.int32),\n",
    "            axis=1\n",
    "        ),\n",
    "        observation = observation,\n",
    "        action=tf.expand_dims(\n",
    "            tf.io.parse_tensor(parsed_record[\"action\"], out_type=tf.int32),\n",
    "            axis=1\n",
    "        ),\n",
    "        policy_info=policy_info,\n",
    "        next_step_type=tf.expand_dims(\n",
    "            tf.io.parse_tensor(\n",
    "                parsed_record[\"next_step_type\"], out_type=tf.int32),\n",
    "            axis=1\n",
    "        ),\n",
    "        reward=tf.expand_dims(\n",
    "            tf.io.parse_tensor(parsed_record[\"reward\"], out_type=tf.float32),\n",
    "            axis=1\n",
    "        ),\n",
    "        discount=tf.expand_dims(\n",
    "            tf.io.parse_tensor(parsed_record[\"discount\"], out_type=tf.float32),\n",
    "            axis=1\n",
    "        )\n",
    "    )"
   ]
  },
  {
   "cell_type": "code",
   "execution_count": 38,
   "id": "d0c7265c-5984-45ae-b4e7-dbcef033299b",
   "metadata": {},
   "outputs": [
    {
     "data": {
      "text/plain": [
       "<_MapDataset element_spec={'action': TensorSpec(shape=(), dtype=tf.string, name=None), 'chosen_arm_features': TensorSpec(shape=(), dtype=tf.string, name=None), 'discount': TensorSpec(shape=(), dtype=tf.string, name=None), 'next_step_type': TensorSpec(shape=(), dtype=tf.string, name=None), 'observation': TensorSpec(shape=(), dtype=tf.string, name=None), 'reward': TensorSpec(shape=(), dtype=tf.string, name=None), 'step_type': TensorSpec(shape=(), dtype=tf.string, name=None)}>"
      ]
     },
     "execution_count": 38,
     "metadata": {},
     "output_type": "execute_result"
    }
   ],
   "source": [
    "_raw_dataset = tf.data.TFRecordDataset([TFRECORD_FILE])\n",
    "_parsed_dataset = _raw_dataset.map(_parse_record)\n",
    "_parsed_dataset"
   ]
  },
  {
   "cell_type": "code",
   "execution_count": 39,
   "id": "bb934b95-510e-4f89-bb90-f8c78a0561f0",
   "metadata": {
    "tags": []
   },
   "outputs": [],
   "source": [
    "num_epochs = 2\n",
    "_batch_size = BATCH_SIZE \n",
    "\n",
    "for epoch in range(num_epochs):\n",
    "    for parsed_record in _parsed_dataset:\n",
    "        _parsed_trajectory = build_trajectory_from_tfrecord(parsed_record, _batch_size, NUM_ACTIONS)\n",
    "        break"
   ]
  },
  {
   "cell_type": "code",
   "execution_count": 40,
   "id": "16d2b3e6-2bba-43fd-9b56-08cc0a1cd247",
   "metadata": {
    "tags": []
   },
   "outputs": [
    {
     "data": {
      "text/plain": [
       "Trajectory(\n",
       "{'action': <tf.Tensor: shape=(3, 1), dtype=int32, numpy=\n",
       "array([[0],\n",
       "       [0],\n",
       "       [0]], dtype=int32)>,\n",
       " 'discount': <tf.Tensor: shape=(3, 1), dtype=float32, numpy=\n",
       "array([[0.],\n",
       "       [0.],\n",
       "       [0.]], dtype=float32)>,\n",
       " 'next_step_type': <tf.Tensor: shape=(3, 1), dtype=int32, numpy=\n",
       "array([[2],\n",
       "       [2],\n",
       "       [2]], dtype=int32)>,\n",
       " 'observation': {'global': <tf.Tensor: shape=(3, 1, 48), dtype=float32, numpy=\n",
       "array([[[-0.00681093, -0.02765373,  0.04409598,  0.03182497,\n",
       "          0.02206538,  0.01737293,  0.00991116,  0.0057017 ,\n",
       "         -0.00212519,  0.02042191, -0.03628967,  0.03813242,\n",
       "          0.01449466,  0.03532846,  0.03510979,  0.04488388,\n",
       "         -0.02132043,  0.02766968, -0.04646143, -0.0460656 ,\n",
       "         -0.0361957 ,  0.00352186, -0.03519659,  0.00198013,\n",
       "         -0.03777262,  0.03864605, -0.02607172,  0.00139223,\n",
       "         -0.03098521, -0.04802112, -0.00441202,  0.00785911,\n",
       "          0.02155152, -0.04518884, -0.01066204,  0.01225177,\n",
       "         -0.0040526 , -0.02131058, -0.02066804, -0.04562653,\n",
       "         -0.03175755,  0.0302113 ,  0.04557439, -0.03352064,\n",
       "         -0.04672003, -0.01198323, -0.02490237,  0.02996314]],\n",
       "\n",
       "       [[ 0.03412205,  0.01211629,  0.01395207,  0.02022268,\n",
       "         -0.04825983, -0.01427497, -0.00474786, -0.03882753,\n",
       "         -0.00212519,  0.02042191, -0.03628967,  0.03813242,\n",
       "          0.01449466,  0.03532846,  0.03510979,  0.04488388,\n",
       "         -0.01150123, -0.04683259, -0.04365329, -0.00726613,\n",
       "          0.0164729 ,  0.02353292,  0.04927928,  0.0371129 ,\n",
       "         -0.02941074,  0.02398452, -0.02340936,  0.02682896,\n",
       "          0.04918096, -0.02757869,  0.02784655, -0.02538483,\n",
       "          0.02155152, -0.04518884, -0.01066204,  0.01225177,\n",
       "         -0.0040526 , -0.02131058, -0.02066804, -0.04562653,\n",
       "         -0.04692893, -0.02639752,  0.04948444,  0.01374979,\n",
       "          0.01237183,  0.04203537,  0.02866978, -0.02430724]],\n",
       "\n",
       "       [[ 0.0115575 , -0.00046438,  0.03349172,  0.0253982 ,\n",
       "          0.0401971 ,  0.02243714,  0.04204397, -0.01934508,\n",
       "         -0.00212519,  0.02042191, -0.03628967,  0.03813242,\n",
       "          0.01449466,  0.03532846,  0.03510979,  0.04488388,\n",
       "         -0.00239327, -0.02409902,  0.01951358,  0.04090035,\n",
       "          0.00170346,  0.01993053,  0.02520351, -0.01479691,\n",
       "          0.00427549, -0.02615534,  0.01276571, -0.01320446,\n",
       "          0.0004009 ,  0.03502982,  0.01573565,  0.00493554,\n",
       "          0.02155152, -0.04518884, -0.01066204,  0.01225177,\n",
       "         -0.0040526 , -0.02131058, -0.02066804, -0.04562653,\n",
       "         -0.00566388, -0.03164711,  0.01230352, -0.04907576,\n",
       "          0.02261375,  0.00275241, -0.04700151,  0.04594766]]],\n",
       "      dtype=float32)>},\n",
       " 'policy_info': PerArmPolicyInfo(log_probability=(), predicted_rewards_mean=<tf.Tensor: shape=(3, 1, 2), dtype=float32, numpy=\n",
       "array([[[0., 0.]],\n",
       "\n",
       "       [[0., 0.]],\n",
       "\n",
       "       [[0., 0.]]], dtype=float32)>, multiobjective_scalarized_predicted_rewards_mean=(), predicted_rewards_optimistic=(), predicted_rewards_sampled=(), bandit_policy_type=<tf.Tensor: shape=(3, 1, 1), dtype=int32, numpy=\n",
       "array([[[0]],\n",
       "\n",
       "       [[0]],\n",
       "\n",
       "       [[0]]], dtype=int32)>, chosen_arm_features=<tf.Tensor: shape=(3, 1, 32), dtype=float32, numpy=\n",
       "array([[[-0.00076558,  0.02173931,  0.01919556, -0.04714397,\n",
       "         -0.01053517, -0.01211412, -0.03099159, -0.03745552,\n",
       "         -0.02931004,  0.01763092,  0.0392431 , -0.00350456,\n",
       "          0.04287358, -0.02296257, -0.00223431, -0.01473078,\n",
       "          0.0202662 ,  0.04268396, -0.02220485,  0.04168172,\n",
       "          0.02281466, -0.02440789,  0.00128825, -0.04410639,\n",
       "          0.4213174 ,  0.7252234 ,  0.4455672 , -0.30119905,\n",
       "          0.7251373 , -0.6654781 , -0.53498757, -0.29204836]],\n",
       "\n",
       "       [[-0.0043957 ,  0.04660988,  0.01116151, -0.04433942,\n",
       "         -0.03536018,  0.02277805,  0.03498361, -0.04841529,\n",
       "         -0.02931004,  0.01763092,  0.0392431 , -0.00350456,\n",
       "          0.04287358, -0.02296257, -0.00223431, -0.01473078,\n",
       "          0.02011727, -0.01287324,  0.02374694, -0.02189707,\n",
       "         -0.03604103,  0.01622679,  0.02250279, -0.04771475,\n",
       "          0.19745986,  0.61672145,  0.63737935, -0.14001872,\n",
       "         -0.21181189, -0.6695124 , -0.28197324,  0.30997816]],\n",
       "\n",
       "       [[ 0.04760983,  0.03972049, -0.02037014, -0.04005461,\n",
       "          0.02718714, -0.01217406, -0.00454814,  0.04463604,\n",
       "         -0.02931004,  0.01763092,  0.0392431 , -0.00350456,\n",
       "          0.04287358, -0.02296257, -0.00223431, -0.01473078,\n",
       "          0.00892832,  0.03985434,  0.00332566, -0.04168177,\n",
       "         -0.03457255, -0.03928787,  0.03212738, -0.01284113,\n",
       "          0.30938864,  0.6709724 ,  0.5414733 , -0.22060888,\n",
       "          0.2566628 , -0.6674952 , -0.40848047,  0.00896489]]],\n",
       "      dtype=float32)>),\n",
       " 'reward': <tf.Tensor: shape=(3, 1), dtype=float32, numpy=\n",
       "array([[2.],\n",
       "       [2.],\n",
       "       [3.]], dtype=float32)>,\n",
       " 'step_type': <tf.Tensor: shape=(3, 1), dtype=int32, numpy=\n",
       "array([[0],\n",
       "       [0],\n",
       "       [0]], dtype=int32)>})"
      ]
     },
     "execution_count": 40,
     "metadata": {},
     "output_type": "execute_result"
    }
   ],
   "source": [
    "_parsed_trajectory"
   ]
  },
  {
   "cell_type": "markdown",
   "id": "a34c864e-0140-4528-b6cc-7ad96d42bae3",
   "metadata": {},
   "source": [
    "# Test on agent"
   ]
  },
  {
   "cell_type": "code",
   "execution_count": 41,
   "id": "a0583624-5417-4bb4-bce0-5abdf13dad1a",
   "metadata": {},
   "outputs": [
    {
     "name": "stdout",
     "output_type": "stream",
     "text": [
      "BATCH_SIZE      : 3\n",
      "EVAL_BATCH_SIZE : 1\n",
      "NUM_ACTIONS     : 2\n",
      "GLOBAL_DIM      : 48\n",
      "PER_ARM_DIM     : 32\n"
     ]
    }
   ],
   "source": [
    "# BATCH_SIZE      = BATCH_SIZE\n",
    "EVAL_BATCH_SIZE = 1\n",
    "# NUM_ACTIONS     = NUM_ACTIONS #this is kinda deceptive\n",
    "\n",
    "AGENT_TYPE      = 'epsGreedy' # 'LinUCB' | 'LinTS |, 'epsGreedy' | 'NeuralLinUCB'\n",
    "AGENT_ALPHA     = 0.1\n",
    "EPSILON         = 0.01\n",
    "LR              = 0.05\n",
    "ENCODING_DIM    = 1\n",
    "EPS_PHASE_STEPS = 1000\n",
    "\n",
    "# GLOBAL_DIM = EXPECTED_GLOBAL_DIM\n",
    "# PER_ARM_DIM = EXPECTED_PER_ARM_DIM\n",
    "\n",
    "GLOBAL_LAYERS   = [GLOBAL_DIM, int(GLOBAL_DIM/2), int(GLOBAL_DIM/4)]\n",
    "ARM_LAYERS      = [PER_ARM_DIM, int(PER_ARM_DIM/2), int(PER_ARM_DIM/4)]\n",
    "FIRST_COMMON_LAYER = GLOBAL_LAYERS[-1] + ARM_LAYERS[-1] # min(GLOBAL_LAYERS[-1], ARM_LAYERS[-1])\n",
    "COMMON_LAYERS = [\n",
    "    int(FIRST_COMMON_LAYER),\n",
    "    # int(FIRST_COMMON_LAYER/2),\n",
    "    int(FIRST_COMMON_LAYER/4)\n",
    "]\n",
    "\n",
    "NETWORK_TYPE = \"commontower\" # 'commontower' | 'dotproduct'\n",
    "if AGENT_TYPE == 'NeuralLinUCB':\n",
    "    NETWORK_TYPE = 'commontower'\n",
    "    ENCODING_DIM = COMMON_LAYERS[-1] \n",
    "if NETWORK_TYPE == 'dotproduct':\n",
    "    assert GLOBAL_LAYERS[0] == ARM_LAYERS[0]\n",
    "\n",
    "print(f\"BATCH_SIZE      : {BATCH_SIZE}\")\n",
    "print(f\"EVAL_BATCH_SIZE : {EVAL_BATCH_SIZE}\")\n",
    "print(f\"NUM_ACTIONS     : {NUM_ACTIONS}\")\n",
    "print(f\"GLOBAL_DIM      : {GLOBAL_DIM}\")\n",
    "print(f\"PER_ARM_DIM     : {PER_ARM_DIM}\")"
   ]
  },
  {
   "cell_type": "code",
   "execution_count": 42,
   "id": "0134ecea-8a5d-41b6-9ff4-64d3c6e6274c",
   "metadata": {},
   "outputs": [
    {
     "name": "stdout",
     "output_type": "stream",
     "text": [
      "{'batch_size': 3,\n",
      " 'common_layers': [20, 5],\n",
      " 'encoding_dim': 1,\n",
      " 'epsilon': 0.01,\n",
      " 'eval_batch_size': 1,\n",
      " 'global_layers': [48, 24, 12],\n",
      " 'learning_rate': 0.05,\n",
      " 'model_type': 'epsGreedy',\n",
      " 'network_type': 'commontower',\n",
      " 'num_actions': 2,\n",
      " 'per_arm_layers': [32, 16, 8]}\n"
     ]
    }
   ],
   "source": [
    "HPARAMS = {  # TODO - streamline and consolidate\n",
    "    \"batch_size\": BATCH_SIZE,\n",
    "    \"eval_batch_size\" : EVAL_BATCH_SIZE,\n",
    "    \"num_actions\": NUM_ACTIONS,\n",
    "    \"model_type\": AGENT_TYPE,\n",
    "    \"network_type\": NETWORK_TYPE,\n",
    "    \"global_layers\": GLOBAL_LAYERS,\n",
    "    \"per_arm_layers\": ARM_LAYERS,\n",
    "    \"common_layers\": COMMON_LAYERS,\n",
    "    \"learning_rate\": LR,\n",
    "    \"epsilon\": EPSILON,\n",
    "    \"encoding_dim\": ENCODING_DIM\n",
    "}\n",
    "pprint(HPARAMS)"
   ]
  },
  {
   "cell_type": "code",
   "execution_count": 43,
   "id": "996b3ec4-190b-4811-84f4-4b5312c87843",
   "metadata": {},
   "outputs": [],
   "source": [
    "from tf_agents.specs import array_spec\n",
    "\n",
    "observation_spec = {\n",
    "    'global': tf.TensorSpec([GLOBAL_DIM], tf.float32),\n",
    "    'per_arm': tf.TensorSpec([NUM_ACTIONS, PER_ARM_DIM], tf.float32) #excluding action dim here\n",
    "}\n",
    "\n",
    "action_spec = tensor_spec.BoundedTensorSpec(\n",
    "    shape=[], \n",
    "    dtype=tf.int32,\n",
    "    minimum=tf.constant(0),            \n",
    "    maximum=NUM_ACTIONS-1, # n degrees of freedom and will dictate the expected mean reward spec shape\n",
    "    name=\"action_spec\"\n",
    ")\n",
    "\n",
    "time_step_spec = ts.time_step_spec(observation_spec = observation_spec)\n",
    "\n",
    "reward_spec = {\n",
    "    \"reward\": array_spec.ArraySpec(\n",
    "        shape=[BATCH_SIZE], \n",
    "        dtype=np.float32, name=\"reward\"\n",
    "    )\n",
    "}\n",
    "reward_tensor_spec = train_utils.from_spec(reward_spec)"
   ]
  },
  {
   "cell_type": "code",
   "execution_count": 60,
   "id": "0b3f3df6-cd0e-489c-99a0-62155fde2e9a",
   "metadata": {},
   "outputs": [
    {
     "name": "stdout",
     "output_type": "stream",
     "text": [
      "agent: NeuralEpsGreedyAgent\n",
      "Network: commontower\n"
     ]
    }
   ],
   "source": [
    "global_step = tf.compat.v1.train.get_or_create_global_step()\n",
    "agent = agent_factory.PerArmAgentFactory._get_agent(\n",
    "    agent_type = AGENT_TYPE,\n",
    "    network_type = NETWORK_TYPE,\n",
    "    time_step_spec = time_step_spec,\n",
    "    action_spec = action_spec,\n",
    "    observation_spec=observation_spec,\n",
    "    global_layers = GLOBAL_LAYERS,\n",
    "    arm_layers = ARM_LAYERS,\n",
    "    common_layers = COMMON_LAYERS,\n",
    "    agent_alpha = AGENT_ALPHA,\n",
    "    learning_rate = LR,\n",
    "    epsilon = EPSILON,\n",
    "    train_step_counter = global_step,\n",
    "    output_dim = ENCODING_DIM,\n",
    "    eps_phase_steps = EPS_PHASE_STEPS,\n",
    "    summarize_grads_and_vars = False,\n",
    "    debug_summaries = True\n",
    ")\n",
    "agent.initialize()\n",
    "print(f'agent: {agent.name}')\n",
    "if NETWORK_TYPE:\n",
    "    print(f\"Network: {NETWORK_TYPE}\")"
   ]
  },
  {
   "cell_type": "code",
   "execution_count": 62,
   "id": "cdf446b6-108e-475d-8efe-7d7379c89bb2",
   "metadata": {},
   "outputs": [
    {
     "name": "stdout",
     "output_type": "stream",
     "text": [
      "EXPERIMENT_NAME   : 02x-opt-data-v1\n",
      "RUN_NAME          : run-20240313-200514\n",
      "\n",
      "CHECKPT_DIR       : gs://rec-bandits-v2-hybrid-vertex-bucket/02x-opt-data-v1/chkpoint\n",
      "BASE_OUTPUT_DIR   : gs://rec-bandits-v2-hybrid-vertex-bucket/02x-opt-data-v1/run-20240313-200514\n",
      "LOG_DIR           : gs://rec-bandits-v2-hybrid-vertex-bucket/02x-opt-data-v1/run-20240313-200514/logs\n",
      "ROOT_DIR          : gs://rec-bandits-v2-hybrid-vertex-bucket/02x-opt-data-v1/run-20240313-200514/root\n",
      "ARTIFACTS_DIR     : gs://rec-bandits-v2-hybrid-vertex-bucket/02x-opt-data-v1/run-20240313-200514/artifacts\n"
     ]
    }
   ],
   "source": [
    "EXPERIMENT_NAME   = f'02x-opt-data-v1'\n",
    "invoke_time       = time.strftime(\"%Y%m%d-%H%M%S\")\n",
    "RUN_NAME          = f'run-{invoke_time}'\n",
    "CHECKPT_DIR       = f\"{BUCKET_URI}/{EXPERIMENT_NAME}/chkpoint\"\n",
    "BASE_OUTPUT_DIR   = f\"{BUCKET_URI}/{EXPERIMENT_NAME}/{RUN_NAME}\"\n",
    "LOG_DIR           = f\"{BASE_OUTPUT_DIR}/logs\"\n",
    "ROOT_DIR          = f\"{BASE_OUTPUT_DIR}/root\"\n",
    "ARTIFACTS_DIR     = f\"{BASE_OUTPUT_DIR}/artifacts\"\n",
    "\n",
    "print(f\"EXPERIMENT_NAME   : {EXPERIMENT_NAME}\")\n",
    "print(f\"RUN_NAME          : {RUN_NAME}\\n\")\n",
    "print(f\"CHECKPT_DIR       : {CHECKPT_DIR}\")\n",
    "print(f\"BASE_OUTPUT_DIR   : {BASE_OUTPUT_DIR}\")\n",
    "print(f\"LOG_DIR           : {LOG_DIR}\")\n",
    "print(f\"ROOT_DIR          : {ROOT_DIR}\")\n",
    "print(f\"ARTIFACTS_DIR     : {ARTIFACTS_DIR}\")"
   ]
  },
  {
   "cell_type": "code",
   "execution_count": 63,
   "id": "29feb7e0-79d0-4753-a102-7ef4d56206b4",
   "metadata": {},
   "outputs": [
    {
     "name": "stdout",
     "output_type": "stream",
     "text": [
      "('metrics: [<tf_agents.metrics.tf_metrics.AverageReturnMetric object at '\n",
      " '0x7f553c2a6350>]')\n",
      "setting checkpoint_manager: gs://rec-bandits-v2-hybrid-vertex-bucket/02x-opt-data-v1/chkpoint\n",
      "\n",
      "'saver: <tf_agents.policies.policy_saver.PolicySaver object at 0x7f4ff9ed1180>'\n"
     ]
    }
   ],
   "source": [
    "train_summary_writer = tf.compat.v2.summary.create_file_writer(\n",
    "    f\"{LOG_DIR}\", flush_millis=10 * 1000\n",
    ")\n",
    "train_summary_writer.set_as_default()\n",
    "# ====================================================\n",
    "# metrics\n",
    "# ====================================================\n",
    "step_metric = tf_metrics.EnvironmentSteps()\n",
    "metrics = [\n",
    "    tf_metrics.AverageReturnMetric(batch_size=HPARAMS['batch_size'])\n",
    "]\n",
    "pprint(f\"metrics: {metrics}\")\n",
    "# ====================================================\n",
    "# get checkpoint manager\n",
    "# ====================================================\n",
    "print(f\"setting checkpoint_manager: {CHECKPT_DIR}\\n\")\n",
    "checkpoint_manager = train_utils.restore_and_get_checkpoint_manager(\n",
    "    root_dir=CHECKPT_DIR, \n",
    "    agent=agent, \n",
    "    metrics=metrics, \n",
    "    step_metric=step_metric\n",
    ")\n",
    "# ====================================================\n",
    "# policy saver\n",
    "# ====================================================\n",
    "saver = policy_saver.PolicySaver(\n",
    "    agent.policy, \n",
    "    train_step=global_step\n",
    ")\n",
    "pprint(f\"saver: {saver}\")"
   ]
  },
  {
   "cell_type": "code",
   "execution_count": 65,
   "id": "be71e783-b2a4-459c-bc10-452f6d813024",
   "metadata": {},
   "outputs": [
    {
     "data": {
      "text/plain": [
       "<_PrefetchDataset element_spec={'action': TensorSpec(shape=(), dtype=tf.string, name=None), 'chosen_arm_features': TensorSpec(shape=(), dtype=tf.string, name=None), 'discount': TensorSpec(shape=(), dtype=tf.string, name=None), 'next_step_type': TensorSpec(shape=(), dtype=tf.string, name=None), 'observation': TensorSpec(shape=(), dtype=tf.string, name=None), 'reward': TensorSpec(shape=(), dtype=tf.string, name=None), 'step_type': TensorSpec(shape=(), dtype=tf.string, name=None)}>"
      ]
     },
     "execution_count": 65,
     "metadata": {},
     "output_type": "execute_result"
    }
   ],
   "source": [
    "NUM_EPOCHS = 5\n",
    "\n",
    "raw_dataset = tf.data.TFRecordDataset([TFRECORD_FILE])\n",
    "\n",
    "parsed_dataset = raw_dataset.map(_parse_record).prefetch(tf.data.experimental.AUTOTUNE) \n",
    "# .repeat(NUM_EPOCHS+1)\n",
    "\n",
    "parsed_dataset"
   ]
  },
  {
   "cell_type": "code",
   "execution_count": 66,
   "id": "f1a3a0cc-50b1-47d7-8678-35953c0ff964",
   "metadata": {},
   "outputs": [
    {
     "name": "stdout",
     "output_type": "stream",
     "text": [
      "starting train job...\n",
      "epoch: 1\n",
      "step = 0: train loss = 6.679999828338623\n",
      "step = 10: train loss = 7.269999980926514\n",
      "step = 20: train loss = 1.649999976158142\n",
      "step = 30: train loss = 6.070000171661377\n",
      "step = 40: train loss = 7.139999866485596\n",
      "step = 50: train loss = 5.630000114440918\n",
      "step = 60: train loss = 0.27000001072883606\n",
      "step = 70: train loss = 0.27000001072883606\n",
      "step = 80: train loss = 2.069999933242798\n",
      "step = 90: train loss = 1.5700000524520874\n",
      "step = 100: train loss = 1.0199999809265137\n",
      "epoch: 2\n",
      "step = 110: train loss = 0.800000011920929\n",
      "step = 120: train loss = 0.009999999776482582\n",
      "step = 130: train loss = 3.2100000381469727\n",
      "step = 140: train loss = 0.38999998569488525\n",
      "step = 150: train loss = 0.9700000286102295\n",
      "step = 160: train loss = 1.0800000429153442\n",
      "step = 170: train loss = 3.4000000953674316\n",
      "step = 180: train loss = 0.38999998569488525\n",
      "step = 190: train loss = 1.600000023841858\n",
      "step = 200: train loss = 1.6200000047683716\n",
      "step = 210: train loss = 0.8999999761581421\n",
      "epoch: 3\n",
      "step = 220: train loss = 2.0299999713897705\n",
      "step = 230: train loss = 0.4099999964237213\n",
      "step = 240: train loss = 4.53000020980835\n",
      "step = 250: train loss = 0.25\n",
      "step = 260: train loss = 0.8100000023841858\n",
      "step = 270: train loss = 1.2400000095367432\n",
      "step = 280: train loss = 2.5799999237060547\n",
      "step = 290: train loss = 0.6100000143051147\n",
      "step = 300: train loss = 1.559999942779541\n",
      "step = 310: train loss = 1.559999942779541\n",
      "step = 320: train loss = 0.8899999856948853\n",
      "epoch: 4\n",
      "step = 330: train loss = 2.2699999809265137\n",
      "step = 340: train loss = 0.4699999988079071\n",
      "step = 350: train loss = 4.559999942779541\n",
      "step = 360: train loss = 0.25\n",
      "step = 370: train loss = 0.8199999928474426\n",
      "step = 380: train loss = 1.2100000381469727\n",
      "step = 390: train loss = 2.680000066757202\n",
      "step = 400: train loss = 0.6299999952316284\n",
      "step = 410: train loss = 1.559999942779541\n",
      "step = 420: train loss = 1.5700000524520874\n",
      "step = 430: train loss = 0.8899999856948853\n",
      "epoch: 5\n",
      "step = 440: train loss = 2.309999942779541\n",
      "step = 450: train loss = 0.4699999988079071\n",
      "step = 460: train loss = 4.519999980926514\n",
      "step = 470: train loss = 0.25999999046325684\n",
      "step = 480: train loss = 0.8299999833106995\n",
      "step = 490: train loss = 1.190000057220459\n",
      "step = 500: train loss = 2.7699999809265137\n",
      "step = 510: train loss = 0.6399999856948853\n",
      "step = 520: train loss = 1.559999942779541\n",
      "step = 530: train loss = 1.5700000524520874\n",
      "step = 540: train loss = 0.8899999856948853\n",
      "train runtime_mins: 1\n",
      "saved trained policy to: gs://rec-bandits-v2-hybrid-vertex-bucket/02x-opt-data-v1/run-20240313-200514/artifacts\n"
     ]
    }
   ],
   "source": [
    "list_o_loss = []\n",
    "# Reset the train step\n",
    "agent.train_step_counter.assign(0)\n",
    "\n",
    "print(f\"starting train job...\")\n",
    "start_time = time.time()\n",
    "# tf.profiler.experimental.start(LOG_DIR)\n",
    "for i in range(NUM_EPOCHS):\n",
    "    \n",
    "    print(f\"epoch: {i+1}\")\n",
    "        \n",
    "    for parsed_record in parsed_dataset:\n",
    "\n",
    "        _trajectories = build_trajectory_from_tfrecord(\n",
    "            parsed_record, BATCH_SIZE, NUM_ACTIONS\n",
    "        )\n",
    "\n",
    "        step = agent.train_step_counter.numpy()\n",
    "        loss = agent.train(experience=_trajectories)\n",
    "        list_o_loss.append(loss.loss.numpy())\n",
    "\n",
    "        train_utils._export_metrics_and_summaries(\n",
    "            step=i, \n",
    "            metrics=metrics\n",
    "        )\n",
    "\n",
    "        # print step loss\n",
    "        if step % 10 == 0:\n",
    "            print(\n",
    "                'step = {0}: train loss = {1}'.format(\n",
    "                    step, round(loss.loss.numpy(), 2)\n",
    "                )\n",
    "            )\n",
    "# tf.profiler.experimental.stop()\n",
    "runtime_mins = int((time.time() - start_time) / 60)\n",
    "print(f\"train runtime_mins: {runtime_mins}\")\n",
    "saver.save(ARTIFACTS_DIR)\n",
    "print(f\"saved trained policy to: {ARTIFACTS_DIR}\")"
   ]
  },
  {
   "cell_type": "code",
   "execution_count": 67,
   "id": "20ac5aeb-aa63-4ac8-a027-0abde1f7b546",
   "metadata": {},
   "outputs": [
    {
     "data": {
      "image/png": "[encoded data removed]",
      "text/plain": [
       "<Figure size 640x480 with 1 Axes>"
      ]
     },
     "metadata": {},
     "output_type": "display_data"
    }
   ],
   "source": [
    "import matplotlib.pyplot as plt\n",
    "\n",
    "plt.plot(list_o_loss)\n",
    "# plt.ylim([0, 10])\n",
    "plt.ylabel('loss')\n",
    "plt.show()"
   ]
  },
  {
   "cell_type": "code",
   "execution_count": 51,
   "id": "1370e59a-d228-4c5c-94ac-4f13d82ea302",
   "metadata": {},
   "outputs": [],
   "source": [
    "from tensorboard import notebook\n",
    "notebook.list()"
   ]
  },
  {
   "cell_type": "code",
   "execution_count": 52,
   "id": "d7b43c30-84dc-4c97-9073-7a57a9ea73ae",
   "metadata": {},
   "outputs": [],
   "source": [
    "# %load_ext tensorboard\n",
    "# %reload_ext tensorboard"
   ]
  },
  {
   "cell_type": "code",
   "execution_count": 54,
   "id": "b845dd1f-d30d-4e9d-b1b8-44cbdb562205",
   "metadata": {},
   "outputs": [],
   "source": [
    "# %tensorboard --logdir=$LOG_DIR"
   ]
  },
  {
   "cell_type": "code",
   "execution_count": 30,
   "id": "30d162f4-544c-4b21-b6f2-fb000bc9c1ef",
   "metadata": {},
   "outputs": [
    {
     "name": "stdout",
     "output_type": "stream",
     "text": [
      "/bin/bash: line 1: kill: (1590886) - No such process\n"
     ]
    }
   ],
   "source": [
    "# !kill 1590886"
   ]
  },
  {
   "cell_type": "markdown",
   "id": "649b8997-1f16-48e7-a4af-f1fc26f4cc0d",
   "metadata": {},
   "source": [
    "**Finished**"
   ]
  }
 ],
 "metadata": {
  "environment": {
   "kernel": "python3",
   "name": "tf2-gpu.2-13.m112",
   "type": "gcloud",
   "uri": "gcr.io/deeplearning-platform-release/tf2-gpu.2-13:m112"
  },
  "kernelspec": {
   "display_name": "Python 3",
   "language": "python",
   "name": "python3"
  },
  "language_info": {
   "codemirror_mode": {
    "name": "ipython",
    "version": 3
   },
   "file_extension": ".py",
   "mimetype": "text/x-python",
   "name": "python",
   "nbconvert_exporter": "python",
   "pygments_lexer": "ipython3",
   "version": "3.10.12"
  }
 },
 "nbformat": 4,
 "nbformat_minor": 5
}
