{
 "cells": [
  {
   "cell_type": "markdown",
   "id": "3e406936-2fb6-4a23-a6dd-e51977dc5ee2",
   "metadata": {},
   "source": [
    "# Using GPUs & TPUs with TF-Agents"
   ]
  },
  {
   "cell_type": "markdown",
   "id": "c5219324-2f52-41a5-b36a-03958f224caf",
   "metadata": {},
   "source": [
    "### Profile in-notebook training\n",
    "\n",
    "> Note: this notebook will only be useful if you have an accelerator (GPU or TPU) attached to the instance.\n",
    "\n",
    "#### Goals\n",
    "\n",
    "* Use the [TensorBoard Profiler](https://www.tensorflow.org/guide/profiler) to profile the RL training job, and compare this to other ML training jobs\n",
    "* Visualize information such as operation statistics on different devices, tracing, etc. \n",
    "* Discuss these performance characteristics with respect to decisions in the code base (e.g., the structure of the Agent class), the use of TF helpers like `@tf.function`, and the order of operations in the input data pipeline\n",
    "\n",
    "**Why?**\n",
    "* Accelerators like GPUs and TPUs are certainly advantageous, but they are also the most expensive component(s) of a training job\n",
    "* Before scaling to a full training job, it's best to make sure we are fully utilizing the chosen device(s), and doing this in-notebook can quickly help uncover any red flags \n",
    "\n",
    "We'll mainly look to address any bottlenecks in the input pipeline"
   ]
  },
  {
   "cell_type": "markdown",
   "id": "965670ad-987d-401e-aeca-f0492a52dbea",
   "metadata": {},
   "source": [
    "## Load notebook config\n",
    "\n",
    "* use the prefix defined in `00-env-setup`"
   ]
  },
  {
   "cell_type": "code",
   "execution_count": 1,
   "id": "09b8d292-a86a-4c1c-9b22-244b0d28dc14",
   "metadata": {
    "tags": []
   },
   "outputs": [
    {
     "name": "stdout",
     "output_type": "stream",
     "text": [
      "PREFIX: rec-bandits-v2\n"
     ]
    }
   ],
   "source": [
    "VERSION        = \"v2\"                       # TODO\n",
    "PREFIX         = f'rec-bandits-{VERSION}'   # TODO\n",
    "\n",
    "print(f\"PREFIX: {PREFIX}\")"
   ]
  },
  {
   "cell_type": "code",
   "execution_count": 2,
   "id": "c137c648-e01c-4288-900c-608bd1f7bdd8",
   "metadata": {
    "tags": []
   },
   "outputs": [
    {
     "name": "stdout",
     "output_type": "stream",
     "text": [
      "\n",
      "PROJECT_ID               = \"hybrid-vertex\"\n",
      "PROJECT_NUM              = \"934903580331\"\n",
      "LOCATION                 = \"us-central1\"\n",
      "\n",
      "REGION                   = \"us-central1\"\n",
      "BQ_LOCATION              = \"US\"\n",
      "VPC_NETWORK_NAME         = \"ucaip-haystack-vpc-network\"\n",
      "VERTEX_SA                = \"934903580331-compute@developer.gserviceaccount.com\"\n",
      "\n",
      "PREFIX                   = \"rec-bandits-v2\"\n",
      "VERSION                  = \"v2\"\n",
      "\n",
      "BUCKET_NAME              = \"rec-bandits-v2-hybrid-vertex-bucket\"\n",
      "BUCKET_URI               = \"gs://rec-bandits-v2-hybrid-vertex-bucket\"\n",
      "DATA_GCS_PREFIX          = \"data\"\n",
      "DATA_PATH                = \"gs://rec-bandits-v2-hybrid-vertex-bucket/data\"\n",
      "VOCAB_SUBDIR             = \"vocabs\"\n",
      "VOCAB_FILENAME           = \"vocab_dict.pkl\"\n",
      "\n",
      "VPC_NETWORK_FULL         = \"projects/934903580331/global/networks/ucaip-haystack-vpc-network\"\n",
      "\n",
      "BIGQUERY_DATASET_NAME    = \"mvlens_rec_bandits_v2\"\n",
      "BIGQUERY_TABLE_NAME      = \"training_dataset\"\n",
      "\n",
      "REPOSITORY               = \"rl-movielens-rec-bandits-v2\"\n",
      "\n",
      "DOCKERNAME_01            = \"Dockerfile_train_my_perarm_env\"\n",
      "IMAGE_NAME_01            = \"train-my-perarm-env-v2\"\n",
      "IMAGE_URI_01             = \"gcr.io/hybrid-vertex/train-my-perarm-env-v2\"\n",
      "\n",
      "DOCKERNAME_02            = \"Dockerfile_perarm_feats\"\n",
      "IMAGE_NAME_02            = \"train-perarm-feats-v2\"\n",
      "IMAGE_URI_02             = \"gcr.io/hybrid-vertex/train-perarm-feats-v2\"\n",
      "\n",
      "DOCKERNAME_03            = \"Dockerfile_ranking_bandit\"\n",
      "IMAGE_NAME_03            = \"train-rank-bandit-v2\"\n",
      "IMAGE_URI_03             = \"gcr.io/hybrid-vertex/train-rank-bandit-v2\"\n",
      "\n",
      "DOCKERNAME_04            = \"Dockerfile_train_bandit_e2e\"\n",
      "IMAGE_NAME_04            = \"train-mab-e2e-v2\"\n",
      "IMAGE_URI_04             = \"gcr.io/hybrid-vertex/train-mab-e2e-v2\"\n",
      "\n",
      "DOCKERNAME_04_pred       = \"Dockerfile_pred_bandit_e2e\"\n",
      "IMAGE_NAME_04_pred       = \"pred-mab-e2e-v2\"\n",
      "IMAGE_URI_04_pred        = \"gcr.io/hybrid-vertex/pred-mab-e2e-v2\"\n",
      "\n",
      "REMOTE_IMAGE_NAME        = \"us-central1-docker.pkg.dev/hybrid-vertex/rl-movielens-rec-bandits-v2/local_docker_tfa\"\n",
      "REPO_DOCKER_PATH_PREFIX  = \"src\"\n",
      "\n"
     ]
    }
   ],
   "source": [
    "# staging GCS\n",
    "GCP_PROJECTS             = !gcloud config get-value project\n",
    "PROJECT_ID               = GCP_PROJECTS[0]\n",
    "\n",
    "# GCS bucket and paths\n",
    "BUCKET_NAME              = f'{PREFIX}-{PROJECT_ID}-bucket'\n",
    "BUCKET_URI               = f'gs://{BUCKET_NAME}'\n",
    "\n",
    "config = !gsutil cat {BUCKET_URI}/config/notebook_env.py\n",
    "print(config.n)\n",
    "exec(config.n)"
   ]
  },
  {
   "cell_type": "markdown",
   "id": "fd20dda8-6c27-4690-9981-59c251dc602b",
   "metadata": {},
   "source": [
    "### imports"
   ]
  },
  {
   "cell_type": "code",
   "execution_count": 3,
   "id": "e043029b-7540-49e2-a646-9e0e4f60ad36",
   "metadata": {
    "tags": []
   },
   "outputs": [],
   "source": [
    "import os\n",
    "os.environ['TF_CPP_MIN_LOG_LEVEL'] = '2'"
   ]
  },
  {
   "cell_type": "code",
   "execution_count": 4,
   "id": "37bc712f-c7d9-442a-ad92-9d865fa4faab",
   "metadata": {
    "tags": []
   },
   "outputs": [],
   "source": [
    "import functools\n",
    "from collections import defaultdict\n",
    "from typing import Callable, Dict, List, Optional, TypeVar\n",
    "from datetime import datetime\n",
    "import time\n",
    "from pprint import pprint\n",
    "import pickle as pkl\n",
    "\n",
    "# logging\n",
    "import logging\n",
    "logging.disable(logging.WARNING)\n",
    "\n",
    "import matplotlib.pyplot as plt\n",
    "import numpy as np\n",
    "\n",
    "# google cloud\n",
    "from google.cloud import aiplatform\n",
    "from google.cloud import storage\n",
    "\n",
    "# tensorflow\n",
    "import tensorflow as tf\n",
    "\n",
    "from tf_agents.bandits.metrics import tf_metrics as tf_bandit_metrics\n",
    "from tf_agents.metrics import tf_metrics\n",
    "\n",
    "from tf_agents.bandits.agents import neural_epsilon_greedy_agent\n",
    "from tf_agents.bandits.agents import neural_linucb_agent\n",
    "from tf_agents.bandits.networks import global_and_arm_feature_network\n",
    "\n",
    "from tf_agents.specs import tensor_spec\n",
    "from tf_agents.trajectories import time_step as ts\n",
    "from tf_agents.bandits.policies import policy_utilities\n",
    "from tf_agents.trajectories import trajectory\n",
    "from tf_agents.policies import policy_saver\n",
    "from tf_agents.specs import array_spec\n",
    "\n",
    "from tf_agents.bandits.specs import utils as bandit_spec_utils\n",
    "from tf_agents.train.utils import spec_utils\n",
    "from tf_agents.train.utils import strategy_utils\n",
    "from tf_agents.train.utils import train_utils as tfa_train_utils\n",
    "from tf_agents.utils import common\n",
    "\n",
    "# GPU\n",
    "from numba import cuda \n",
    "import gc\n",
    "\n",
    "import sys\n",
    "sys.path.append(\"..\")\n",
    "\n",
    "# this repo\n",
    "from src.utils import train_utils, reward_factory\n",
    "from src.data import data_utils, data_config\n",
    "from src.trainer import train_perarm as train_perarm\n",
    "from src.networks import encoding_network as emb_features\n",
    "from src.agents import agent_factory as agent_factory\n",
    "\n",
    "# tf exceptions and vars\n",
    "if tf.__version__[0] != \"2\":\n",
    "    raise Exception(\"The trainer only runs with TensorFlow version 2.\")\n",
    "\n",
    "T = TypeVar(\"T\")"
   ]
  },
  {
   "cell_type": "code",
   "execution_count": 5,
   "id": "6f49acb2-c5a7-4c82-97a4-eadd42335cea",
   "metadata": {
    "tags": []
   },
   "outputs": [
    {
     "name": "stdout",
     "output_type": "stream",
     "text": [
      "cudnn version  : 8\n",
      "cuda version   : 11.8\n",
      "wrapt          : 1.16.0\n",
      "tensorflow     : 2.13.0\n",
      "aiplatform SDK : 1.71.0\n",
      "Num GPUs Available:  1\n"
     ]
    }
   ],
   "source": [
    "import wrapt\n",
    "from tensorflow.python.platform import build_info\n",
    "\n",
    "print(f\"cudnn version  : {build_info.build_info['cudnn_version']}\")\n",
    "print(f\"cuda version   : {build_info.build_info['cuda_version']}\")\n",
    "\n",
    "print(f\"wrapt          : {wrapt.__version__}\")\n",
    "print(f\"tensorflow     : {tf.__version__}\")\n",
    "print(f\"aiplatform SDK : {aiplatform.__version__}\")\n",
    "\n",
    "print(\"Num GPUs Available: \", len(tf.config.list_physical_devices('GPU')))"
   ]
  },
  {
   "cell_type": "code",
   "execution_count": 7,
   "id": "b2522f6a-3826-4509-bd9b-f878c74ca8bb",
   "metadata": {
    "tags": []
   },
   "outputs": [
    {
     "data": {
      "text/plain": [
       "14"
      ]
     },
     "execution_count": 7,
     "metadata": {},
     "output_type": "execute_result"
    }
   ],
   "source": [
    "device = cuda.get_current_device()\n",
    "device.reset()\n",
    "gc.collect()"
   ]
  },
  {
   "cell_type": "code",
   "execution_count": 8,
   "id": "865d4b19-a078-44d3-b0bd-f407a16f6a8c",
   "metadata": {
    "tags": []
   },
   "outputs": [
    {
     "name": "stdout",
     "output_type": "stream",
     "text": [
      "device: Tesla T4\n"
     ]
    }
   ],
   "source": [
    "print(f\"device: {device.name.decode()}\")\n",
    "\n",
    "# cloud storage client\n",
    "storage_client = storage.Client(project=PROJECT_ID)\n",
    "\n",
    "# Vertex client\n",
    "aiplatform.init(project=PROJECT_ID, location=LOCATION)"
   ]
  },
  {
   "cell_type": "markdown",
   "id": "bc8857b7-1f7b-4bbf-8637-1bbff7ab8af1",
   "metadata": {},
   "source": [
    "## Specify dataset"
   ]
  },
  {
   "cell_type": "code",
   "execution_count": 9,
   "id": "fb00b2dc-cef0-42d2-8e8f-82289f874bd1",
   "metadata": {
    "tags": []
   },
   "outputs": [
    {
     "name": "stdout",
     "output_type": "stream",
     "text": [
      "GCS_DATA_PATH: gs://rec-bandits-v2-hybrid-vertex-bucket/data/movielens/m1m\n"
     ]
    }
   ],
   "source": [
    "EXAMPLE_GEN_GCS_PATH = data_config.EXAMPLE_GEN_GCS_PATH\n",
    "GCS_DATA_PATH = f\"{BUCKET_URI}/{EXAMPLE_GEN_GCS_PATH}\"\n",
    "\n",
    "print(f\"GCS_DATA_PATH: {GCS_DATA_PATH}\")\n",
    "\n",
    "# !gsutil ls $GCS_DATA_PATH"
   ]
  },
  {
   "cell_type": "markdown",
   "id": "9e75a40f-00ca-4bf9-93f8-063a1056ba48",
   "metadata": {},
   "source": [
    "### Generate Vocabs"
   ]
  },
  {
   "cell_type": "code",
   "execution_count": 10,
   "id": "aa227f5c-364b-4488-b65f-617a3a80cf93",
   "metadata": {
    "tags": []
   },
   "outputs": [
    {
     "name": "stdout",
     "output_type": "stream",
     "text": [
      "Downloading vocab...\n",
      "Downloaded vocab from: gs://rec-bandits-v2-hybrid-vertex-bucket/data/movielens/m1m/vocabs/vocab_dict.pkl\n",
      "\n"
     ]
    }
   ],
   "source": [
    "EXISTING_VOCAB_FILE = f'gs://{BUCKET_NAME}/{EXAMPLE_GEN_GCS_PATH}/vocabs/{VOCAB_FILENAME}'\n",
    "print(f\"Downloading vocab...\")\n",
    "\n",
    "os.system(f'gsutil -q cp {EXISTING_VOCAB_FILE} .')\n",
    "print(f\"Downloaded vocab from: {EXISTING_VOCAB_FILE}\\n\")\n",
    "\n",
    "filehandler = open(VOCAB_FILENAME, 'rb')\n",
    "vocab_dict = pkl.load(filehandler)\n",
    "filehandler.close()\n",
    "\n",
    "# for key in vocab_dict.keys():\n",
    "#     pprint(key)"
   ]
  },
  {
   "cell_type": "markdown",
   "id": "ef26da66-7284-4b5e-82cd-f261400726aa",
   "metadata": {},
   "source": [
    "### train config"
   ]
  },
  {
   "cell_type": "code",
   "execution_count": 11,
   "id": "4e71482f-b262-46f7-9bd2-c492b7df5189",
   "metadata": {
    "tags": []
   },
   "outputs": [
    {
     "name": "stdout",
     "output_type": "stream",
     "text": [
      "NUM_OOV_BUCKETS        : 1\n",
      "GLOBAL_EMBEDDING_SIZE  : 12\n",
      "MV_EMBEDDING_SIZE      : 16\n",
      "EXPECTED_GLOBAL_DIM    : 72\n",
      "EXPECTED_PER_ARM_DIM   : 64\n",
      "EXPECTED_GLOBAL_LAYERS : [72, 36, 18]\n",
      "EXPECTED_ARM_LAYERS    : [64, 32, 16]\n",
      "EXPECTED_COMMON_LAYERS : [34, 8]\n"
     ]
    }
   ],
   "source": [
    "NUM_OOV_BUCKETS       = 1\n",
    "GLOBAL_EMBEDDING_SIZE = 12\n",
    "MV_EMBEDDING_SIZE     = 16 #32\n",
    "\n",
    "NUM_GLOBAL_FEATURES   = len(data_utils.USER_FEATURE_NAMES)     # 6\n",
    "NUM_ARM_FEATURES      = len(data_utils.MOVIE_FEATURE_NAMES)    # 5\n",
    "\n",
    "EXPECTED_GLOBAL_DIM   = GLOBAL_EMBEDDING_SIZE * NUM_GLOBAL_FEATURES\n",
    "EXPECTED_PER_ARM_DIM  = MV_EMBEDDING_SIZE * NUM_ARM_FEATURES\n",
    "\n",
    "EXPECTED_GLOBAL_LAYERS   = [\n",
    "    EXPECTED_GLOBAL_DIM,\n",
    "    int(EXPECTED_GLOBAL_DIM/2),\n",
    "    int(EXPECTED_GLOBAL_DIM/4)\n",
    "]\n",
    "EXPECTED_ARM_LAYERS      = [\n",
    "    EXPECTED_PER_ARM_DIM,\n",
    "    int(EXPECTED_PER_ARM_DIM/2),\n",
    "    int(EXPECTED_PER_ARM_DIM/4)\n",
    "]\n",
    "EXPECTED_FIRST_COMMON_LAYER = EXPECTED_GLOBAL_LAYERS[-1] + EXPECTED_ARM_LAYERS[-1]\n",
    "EXPECTED_COMMON_LAYERS = [\n",
    "    int(EXPECTED_FIRST_COMMON_LAYER),\n",
    "    # int(EXPECTED_FIRST_COMMON_LAYER/2),\n",
    "    int(EXPECTED_FIRST_COMMON_LAYER/4)\n",
    "]\n",
    "\n",
    "print(f\"NUM_OOV_BUCKETS        : {NUM_OOV_BUCKETS}\")\n",
    "print(f\"GLOBAL_EMBEDDING_SIZE  : {GLOBAL_EMBEDDING_SIZE}\")\n",
    "print(f\"MV_EMBEDDING_SIZE      : {MV_EMBEDDING_SIZE}\")\n",
    "print(f\"EXPECTED_GLOBAL_DIM    : {EXPECTED_GLOBAL_DIM}\")\n",
    "print(f\"EXPECTED_PER_ARM_DIM   : {EXPECTED_PER_ARM_DIM}\")\n",
    "print(f\"EXPECTED_GLOBAL_LAYERS : {EXPECTED_GLOBAL_LAYERS}\")\n",
    "print(f\"EXPECTED_ARM_LAYERS    : {EXPECTED_ARM_LAYERS}\")\n",
    "print(f\"EXPECTED_COMMON_LAYERS : {EXPECTED_COMMON_LAYERS}\")"
   ]
  },
  {
   "cell_type": "code",
   "execution_count": 12,
   "id": "e0e134ff-f712-462c-aeab-55a6e3517c5b",
   "metadata": {
    "tags": []
   },
   "outputs": [
    {
     "name": "stdout",
     "output_type": "stream",
     "text": [
      "BATCH_SIZE      : 128\n",
      "EVAL_BATCH_SIZE : 1\n",
      "NUM_ACTIONS     : 2\n"
     ]
    }
   ],
   "source": [
    "BATCH_SIZE             = 128\n",
    "EVAL_BATCH_SIZE        = 1\n",
    "NUM_ACTIONS            = 2 \n",
    "#this is kinda deceptive - \n",
    "#our approach is to learn by \"flashing\" one movie rating at a time per user context. \n",
    "#The n_actions = show/don't show the movie with one degree of freedom (n-1)\n",
    "\n",
    "print(f\"BATCH_SIZE      : {BATCH_SIZE}\")\n",
    "print(f\"EVAL_BATCH_SIZE : {EVAL_BATCH_SIZE}\")\n",
    "print(f\"NUM_ACTIONS     : {NUM_ACTIONS}\")"
   ]
  },
  {
   "cell_type": "markdown",
   "id": "d99e98fb-9f15-4220-a00a-9b501929d672",
   "metadata": {},
   "source": [
    "#### confirm GLOBAL and PER_ARM DIMs"
   ]
  },
  {
   "cell_type": "markdown",
   "id": "d691a77f-3c1f-4d0d-8527-e2a4a27f9f7f",
   "metadata": {},
   "source": [
    "**we only need a subset of data for profiling!**"
   ]
  },
  {
   "cell_type": "code",
   "execution_count": 13,
   "id": "7e947733-3785-48e0-ab99-690090df58e9",
   "metadata": {
    "tags": []
   },
   "outputs": [
    {
     "data": {
      "text/plain": [
       "{'target_movie_genres': <tf.Tensor: shape=(1, 10), dtype=string, numpy=\n",
       " array([[b'Drama', b'UNK', b'UNK', b'UNK', b'UNK', b'UNK', b'UNK', b'UNK',\n",
       "         b'UNK', b'UNK']], dtype=object)>,\n",
       " 'target_movie_id': <tf.Tensor: shape=(1,), dtype=string, numpy=array([b'1775'], dtype=object)>,\n",
       " 'target_movie_rating': <tf.Tensor: shape=(1,), dtype=float32, numpy=array([4.], dtype=float32)>,\n",
       " 'target_movie_title': <tf.Tensor: shape=(1,), dtype=string, numpy=array([b'Live Flesh (1997)'], dtype=object)>,\n",
       " 'target_movie_year': <tf.Tensor: shape=(1,), dtype=int64, numpy=array([1997])>,\n",
       " 'target_rating_timestamp': <tf.Tensor: shape=(1,), dtype=int64, numpy=array([974612615])>,\n",
       " 'user_age': <tf.Tensor: shape=(1,), dtype=int64, numpy=array([50])>,\n",
       " 'user_gender': <tf.Tensor: shape=(1,), dtype=string, numpy=array([b'M'], dtype=object)>,\n",
       " 'user_id': <tf.Tensor: shape=(1,), dtype=string, numpy=array([b'2173'], dtype=object)>,\n",
       " 'user_occupation_text': <tf.Tensor: shape=(1,), dtype=string, numpy=array([b'programmer'], dtype=object)>,\n",
       " 'user_zip_code': <tf.Tensor: shape=(1,), dtype=string, numpy=array([b'87505'], dtype=object)>}"
      ]
     },
     "execution_count": 13,
     "metadata": {},
     "output_type": "execute_result"
    }
   ],
   "source": [
    "SPLIT = \"train\" # \"train\" | \"val\"\n",
    "\n",
    "train_files = []\n",
    "for blob in storage_client.list_blobs(f\"{BUCKET_NAME}\", prefix=f'{EXAMPLE_GEN_GCS_PATH}/{SPLIT}'):\n",
    "    if '.tfrecord' in blob.name:\n",
    "        train_files.append(blob.public_url.replace(\"https://storage.googleapis.com/\", \"gs://\"))\n",
    "        \n",
    "train_files = train_files[:3]\n",
    "train_dataset = tf.data.TFRecordDataset(train_files)\n",
    "train_dataset = train_dataset.map(data_utils._parse_function)\n",
    "\n",
    "for i in range(1):\n",
    "    \n",
    "    iterator = iter(train_dataset.batch(1))\n",
    "    data = next(iterator)\n",
    "\n",
    "data"
   ]
  },
  {
   "cell_type": "code",
   "execution_count": 14,
   "id": "3347c7ef-aa49-487e-8b95-ecb03e75b331",
   "metadata": {
    "tags": []
   },
   "outputs": [],
   "source": [
    "del iterator\n",
    "del train_dataset"
   ]
  },
  {
   "cell_type": "code",
   "execution_count": 15,
   "id": "165119f6-8f93-4188-a027-64dd0323f2f8",
   "metadata": {
    "tags": []
   },
   "outputs": [
    {
     "name": "stdout",
     "output_type": "stream",
     "text": [
      "GLOBAL_DIM: 72\n",
      "PER_ARM_DIM: 64\n"
     ]
    }
   ],
   "source": [
    "embs = emb_features.EmbeddingModel(\n",
    "    vocab_dict = vocab_dict,\n",
    "    num_oov_buckets = NUM_OOV_BUCKETS,\n",
    "    global_emb_size = GLOBAL_EMBEDDING_SIZE,\n",
    "    mv_emb_size = MV_EMBEDDING_SIZE,\n",
    "    max_genre_length = data_config.MAX_GENRE_LENGTH\n",
    ")\n",
    "\n",
    "test_globals = embs._get_global_context_features(data)\n",
    "test_arms = embs._get_per_arm_features(data)\n",
    "\n",
    "GLOBAL_DIM = test_globals.shape[1]\n",
    "print(f\"GLOBAL_DIM: {GLOBAL_DIM}\")\n",
    "\n",
    "PER_ARM_DIM = test_arms.shape[1]\n",
    "print(f\"PER_ARM_DIM: {PER_ARM_DIM}\")"
   ]
  },
  {
   "cell_type": "markdown",
   "id": "50d59ad1-e850-4bb3-ae4a-94efcbb89c9b",
   "metadata": {},
   "source": [
    "### TensorSpecs"
   ]
  },
  {
   "cell_type": "code",
   "execution_count": 16,
   "id": "84c1108e-9406-4dbc-a26a-3b3e0d6c99a6",
   "metadata": {
    "tags": []
   },
   "outputs": [],
   "source": [
    "from tf_agents.specs import array_spec\n",
    "\n",
    "observation_spec = {\n",
    "    'global': tf.TensorSpec([GLOBAL_DIM], tf.float32),\n",
    "    'per_arm': tf.TensorSpec([NUM_ACTIONS, PER_ARM_DIM], tf.float32) #excluding action dim here\n",
    "}\n",
    "\n",
    "action_spec = tensor_spec.BoundedTensorSpec(\n",
    "    shape=[], \n",
    "    dtype=tf.int32,\n",
    "    minimum=tf.constant(0),            \n",
    "    maximum=NUM_ACTIONS-1,\n",
    "    name=\"action_spec\"\n",
    ")\n",
    "\n",
    "time_step_spec = ts.time_step_spec(\n",
    "    observation_spec = observation_spec, \n",
    "    # reward_spec = _reward_spec\n",
    ")\n",
    "\n",
    "reward_spec = {\n",
    "    \"reward\": array_spec.ArraySpec(shape=[BATCH_SIZE], dtype=np.float32, name=\"reward\")\n",
    "}\n",
    "reward_tensor_spec = train_utils.from_spec(reward_spec)"
   ]
  },
  {
   "cell_type": "markdown",
   "id": "d1f73646-b69e-4f1a-960b-055602fd36fa",
   "metadata": {},
   "source": [
    "## Distribution strategy"
   ]
  },
  {
   "cell_type": "markdown",
   "id": "226a2cd7-5484-4db2-b7ac-a57a61a452f5",
   "metadata": {},
   "source": [
    "Use `strategy_utils` to generate a strategy. Under the hood, passing the parameter:\n",
    "\n",
    "* `use_gpu = False` returns `tf.distribute.get_strategy()`, which uses CPU\n",
    "* `use_gpu = True` returns `tf.distribute.MirroredStrategy()`, which uses all GPUs that are visible to TensorFlow on one machine"
   ]
  },
  {
   "cell_type": "code",
   "execution_count": 17,
   "id": "2aedc5c8-788e-443b-994b-3c4021a273a1",
   "metadata": {
    "tags": []
   },
   "outputs": [
    {
     "data": {
      "text/plain": [
       "1"
      ]
     },
     "execution_count": 17,
     "metadata": {},
     "output_type": "execute_result"
    }
   ],
   "source": [
    "use_gpu = True\n",
    "use_tpu = False\n",
    "\n",
    "distribution_strategy = strategy_utils.get_strategy(tpu=use_tpu, use_gpu=use_gpu)\n",
    "\n",
    "NUM_REPLICAS = distribution_strategy.num_replicas_in_sync\n",
    "NUM_REPLICAS"
   ]
  },
  {
   "cell_type": "markdown",
   "id": "86791ffd-ae3c-4558-8a08-335abb242a9c",
   "metadata": {},
   "source": [
    "### Config"
   ]
  },
  {
   "cell_type": "code",
   "execution_count": 18,
   "id": "6d8ff74e-fcdd-4523-838d-68e399bbb39b",
   "metadata": {
    "tags": []
   },
   "outputs": [
    {
     "name": "stdout",
     "output_type": "stream",
     "text": [
      "{'batch_size': 128,\n",
      " 'common_layers': [34, 8],\n",
      " 'epsilon': 0.01,\n",
      " 'eval_batch_size': 1,\n",
      " 'global_layers': [72, 36, 18],\n",
      " 'learning_rate': 0.05,\n",
      " 'model_type': 'NeuralLinUCB',\n",
      " 'network_type': 'commontower',\n",
      " 'num_actions': 2,\n",
      " 'per_arm_layers': [64, 32, 16]}\n"
     ]
    }
   ],
   "source": [
    "# ================================\n",
    "# Agents\n",
    "# ================================\n",
    "AGENT_TYPE      = 'NeuralLinUCB' # 'LinUCB' | 'LinTS |, 'epsGreedy' | 'NeuralLinUCB'\n",
    "\n",
    "# Parameters for linear agents (LinUCB and LinTS).\n",
    "AGENT_ALPHA     = 0.1\n",
    "\n",
    "# Parameters for neural agents (NeuralEpsGreedy and NerualLinUCB).\n",
    "EPSILON         = 0.01\n",
    "LR              = 0.05\n",
    "\n",
    "# Parameters for NeuralLinUCB\n",
    "ENCODING_DIM    = 1\n",
    "EPS_PHASE_STEPS = 1000\n",
    "\n",
    "# ==================================\n",
    "# Agent's Preprocess Network layers\n",
    "# ==================================\n",
    "NETWORK_TYPE       = \"commontower\" # 'dotproduct' | 'dotproduct'\n",
    "\n",
    "GLOBAL_LAYERS      = [GLOBAL_DIM, int(GLOBAL_DIM/2), int(GLOBAL_DIM/4)]\n",
    "ARM_LAYERS         = [PER_ARM_DIM, int(PER_ARM_DIM/2), int(PER_ARM_DIM/4)]\n",
    "FIRST_COMMON_LAYER = GLOBAL_LAYERS[-1] + ARM_LAYERS[-1] # min(GLOBAL_LAYERS[-1], ARM_LAYERS[-1])\n",
    "\n",
    "COMMON_LAYERS = [\n",
    "    int(FIRST_COMMON_LAYER), \n",
    "    # int(FIRST_COMMON_LAYER/2),\n",
    "    int(FIRST_COMMON_LAYER/4)\n",
    "]\n",
    "\n",
    "if AGENT_TYPE == 'NeuralLinUCB':\n",
    "    NETWORK_TYPE = 'commontower'\n",
    "    ENCODING_DIM = COMMON_LAYERS[-1]\n",
    "    \n",
    "if NETWORK_TYPE == 'dotproduct':\n",
    "    assert GLOBAL_LAYERS[0] == ARM_LAYERS[0]\n",
    "\n",
    "HPARAMS = {\n",
    "    \"batch_size\": BATCH_SIZE,\n",
    "    \"eval_batch_size\" : EVAL_BATCH_SIZE,\n",
    "    \"num_actions\": NUM_ACTIONS,\n",
    "    \"model_type\": AGENT_TYPE,\n",
    "    \"network_type\": NETWORK_TYPE,\n",
    "    \"global_layers\": GLOBAL_LAYERS,\n",
    "    \"per_arm_layers\": ARM_LAYERS,\n",
    "    \"common_layers\": COMMON_LAYERS,\n",
    "    \"learning_rate\": LR,\n",
    "    \"epsilon\": EPSILON,\n",
    "}\n",
    "pprint(HPARAMS)"
   ]
  },
  {
   "cell_type": "markdown",
   "id": "85c27bf4-7d1d-485c-9644-4c0d60d77a83",
   "metadata": {},
   "source": [
    "### trajectory function"
   ]
  },
  {
   "cell_type": "code",
   "execution_count": 19,
   "id": "5338c598-1c22-409b-8f67-b4a906d579ba",
   "metadata": {
    "tags": []
   },
   "outputs": [],
   "source": [
    "# with distribution_strategy.scope():\n",
    "    \n",
    "embs = emb_features.EmbeddingModel(\n",
    "    vocab_dict = vocab_dict,\n",
    "    num_oov_buckets = NUM_OOV_BUCKETS,\n",
    "    global_emb_size = GLOBAL_EMBEDDING_SIZE,\n",
    "    mv_emb_size = MV_EMBEDDING_SIZE,\n",
    "    max_genre_length = data_config.MAX_GENRE_LENGTH\n",
    ")"
   ]
  },
  {
   "cell_type": "markdown",
   "id": "7a634d31-306f-445c-8d34-e431ee5839a2",
   "metadata": {},
   "source": [
    "## Create Agent\n",
    "\n",
    "> Note: writting distributions and historgrams of gradients and variables will negatively impact training performance\n",
    "\n",
    "* set `summarize_grads_and_vars = False` for best training performance\n",
    "* keep `debug_summaries = True` to track training metrics (e.g., loss / regret)"
   ]
  },
  {
   "cell_type": "code",
   "execution_count": 20,
   "id": "5cd7b0e8-93aa-4846-b532-7b62dee81f28",
   "metadata": {
    "tags": []
   },
   "outputs": [
    {
     "name": "stdout",
     "output_type": "stream",
     "text": [
      "Agent: neural_linucb_agent\n",
      "NETWORK_TYPE: commontower\n"
     ]
    }
   ],
   "source": [
    "# with distribution_strategy.scope():\n",
    "    \n",
    "global_step = tf.compat.v1.train.get_or_create_global_step()\n",
    "\n",
    "agent = agent_factory.PerArmAgentFactory._get_agent(\n",
    "    agent_type = AGENT_TYPE,\n",
    "    network_type = NETWORK_TYPE,\n",
    "    time_step_spec = time_step_spec,\n",
    "    action_spec = action_spec,\n",
    "    observation_spec=observation_spec,\n",
    "    global_layers = GLOBAL_LAYERS,\n",
    "    arm_layers = ARM_LAYERS,\n",
    "    common_layers = COMMON_LAYERS,\n",
    "    agent_alpha = AGENT_ALPHA,\n",
    "    learning_rate = LR,\n",
    "    epsilon = EPSILON,\n",
    "    train_step_counter = global_step,\n",
    "    output_dim = ENCODING_DIM,\n",
    "    eps_phase_steps = EPS_PHASE_STEPS,\n",
    "    summarize_grads_and_vars = False,\n",
    "    debug_summaries = True\n",
    ")\n",
    "\n",
    "agent.initialize()\n",
    "\n",
    "print(f\"Agent: {agent.name}\")\n",
    "\n",
    "if NETWORK_TYPE:\n",
    "    print(f\"NETWORK_TYPE: {NETWORK_TYPE}\")"
   ]
  },
  {
   "cell_type": "markdown",
   "id": "3719520d-4eaa-4739-b0c3-b1e521afa234",
   "metadata": {},
   "source": [
    "### GPU stuff\n",
    "\n",
    "* `TF_GPU_THREAD_MODE=gpu_private` ensures that GPU kernels are launched from their own dedicated threads, and don't get queued behind tf.data work."
   ]
  },
  {
   "cell_type": "code",
   "execution_count": 23,
   "id": "91c4c959-03a0-46d1-b02c-09153820b192",
   "metadata": {
    "tags": []
   },
   "outputs": [],
   "source": [
    "import os\n",
    "\n",
    "TF_GPU_THREAD_COUNT   = '1'      # '1' | '4' | '8'\n",
    "\n",
    "os.environ['TF_CPP_MIN_LOG_LEVEL'] = '2'\n",
    "os.environ['TF_GPU_THREAD_MODE']='gpu_private'\n",
    "os.environ['TF_GPU_THREAD_COUNT']=f\"{TF_GPU_THREAD_COUNT}\"\n",
    "os.environ['TF_GPU_ALLOCATOR']='cuda_malloc_async'"
   ]
  },
  {
   "cell_type": "markdown",
   "id": "293aef61-3336-4041-befa-27cadbd756fa",
   "metadata": {},
   "source": [
    "## Vertex Experiment"
   ]
  },
  {
   "cell_type": "code",
   "execution_count": 25,
   "id": "581398da-77a4-4138-8bfa-f3776a3ffa5f",
   "metadata": {
    "tags": []
   },
   "outputs": [],
   "source": [
    "EXP_VERSION=\"v9\""
   ]
  },
  {
   "cell_type": "code",
   "execution_count": 26,
   "id": "6037dde7-e446-40b3-8c9d-5913b6139147",
   "metadata": {
    "tags": []
   },
   "outputs": [
    {
     "name": "stdout",
     "output_type": "stream",
     "text": [
      "EXPERIMENT_NAME   : 02c-bandit-gpu-v9\n",
      "RUN_NAME          : run-20241209-215822\n",
      "\n",
      "CHECKPT_DIR       : gs://rec-bandits-v2-hybrid-vertex-bucket/02c-bandit-gpu-v9/chkpoint\n",
      "BASE_OUTPUT_DIR   : gs://rec-bandits-v2-hybrid-vertex-bucket/02c-bandit-gpu-v9/run-20241209-215822\n",
      "LOG_DIR           : gs://rec-bandits-v2-hybrid-vertex-bucket/02c-bandit-gpu-v9/run-20241209-215822/logs\n",
      "ROOT_DIR          : gs://rec-bandits-v2-hybrid-vertex-bucket/02c-bandit-gpu-v9/run-20241209-215822/root\n",
      "ARTIFACTS_DIR     : gs://rec-bandits-v2-hybrid-vertex-bucket/02c-bandit-gpu-v9/run-20241209-215822/artifacts\n"
     ]
    }
   ],
   "source": [
    "EXPERIMENT_NAME   = f'02c-bandit-gpu-{EXP_VERSION}' # customize as needed\n",
    "\n",
    "# new experiment\n",
    "invoke_time       = time.strftime(\"%Y%m%d-%H%M%S\")\n",
    "RUN_NAME          = f'run-{invoke_time}'\n",
    "\n",
    "CHECKPT_DIR       = f\"{BUCKET_URI}/{EXPERIMENT_NAME}/chkpoint\"\n",
    "BASE_OUTPUT_DIR   = f\"{BUCKET_URI}/{EXPERIMENT_NAME}/{RUN_NAME}\"\n",
    "LOG_DIR           = f\"{BASE_OUTPUT_DIR}/logs\"\n",
    "ROOT_DIR          = f\"{BASE_OUTPUT_DIR}/root\"       # Root directory for writing logs/summaries/checkpoints.\n",
    "ARTIFACTS_DIR     = f\"{BASE_OUTPUT_DIR}/artifacts\"  # Where the trained model will be saved and restored.\n",
    "\n",
    "aiplatform.init(\n",
    "    project=PROJECT_ID,\n",
    "    location=REGION,\n",
    "    # experiment=EXPERIMENT_NAME\n",
    ")\n",
    "\n",
    "print(f\"EXPERIMENT_NAME   : {EXPERIMENT_NAME}\")\n",
    "print(f\"RUN_NAME          : {RUN_NAME}\\n\")\n",
    "print(f\"CHECKPT_DIR       : {CHECKPT_DIR}\")\n",
    "print(f\"BASE_OUTPUT_DIR   : {BASE_OUTPUT_DIR}\")\n",
    "print(f\"LOG_DIR           : {LOG_DIR}\")\n",
    "print(f\"ROOT_DIR          : {ROOT_DIR}\")\n",
    "print(f\"ARTIFACTS_DIR     : {ARTIFACTS_DIR}\")"
   ]
  },
  {
   "cell_type": "markdown",
   "id": "81fd56f4-1cf0-4224-9135-7f0fbe30bc44",
   "metadata": {},
   "source": [
    "### TB Summary writer"
   ]
  },
  {
   "cell_type": "code",
   "execution_count": 27,
   "id": "033135a5-0fd2-421a-a172-5a15e1e28dcc",
   "metadata": {
    "tags": []
   },
   "outputs": [],
   "source": [
    "# ====================================================\n",
    "# TB summary writer\n",
    "# ====================================================\n",
    "# with distribution_strategy.scope():\n",
    "\n",
    "train_summary_writer = tf.compat.v2.summary.create_file_writer(\n",
    "    f\"{LOG_DIR}\", flush_millis=10 * 1000\n",
    ")\n",
    "\n",
    "train_summary_writer.set_as_default()"
   ]
  },
  {
   "cell_type": "markdown",
   "id": "be2b102e-35c9-4ff3-8ae0-6b15103c27de",
   "metadata": {},
   "source": [
    "## Train loops"
   ]
  },
  {
   "cell_type": "code",
   "execution_count": 28,
   "id": "e68792ed-9b90-47aa-80d8-d190c4580079",
   "metadata": {
    "tags": []
   },
   "outputs": [
    {
     "name": "stdout",
     "output_type": "stream",
     "text": [
      "NUM_EPOCHS           : 3\n",
      "NUM_ITER_STEPS       : 100\n",
      "STEPS_PER_LOOP       : 1\n",
      "LOG_INTERVAL         : 10\n",
      "CHKPT_INTERVAL       : 1000\n"
     ]
    }
   ],
   "source": [
    "NUM_EPOCHS           = 3\n",
    "NUM_ITER_STEPS       = 100\n",
    "STEPS_PER_LOOP       = 1\n",
    "LOG_INTERVAL         = 10\n",
    "CHKPT_INTERVAL       = 1000\n",
    "\n",
    "print(f\"NUM_EPOCHS           : {NUM_EPOCHS}\")\n",
    "print(f\"NUM_ITER_STEPS       : {NUM_ITER_STEPS}\")\n",
    "print(f\"STEPS_PER_LOOP       : {STEPS_PER_LOOP}\")\n",
    "print(f\"LOG_INTERVAL         : {LOG_INTERVAL}\")\n",
    "print(f\"CHKPT_INTERVAL       : {CHKPT_INTERVAL}\")"
   ]
  },
  {
   "cell_type": "code",
   "execution_count": 29,
   "id": "c56c7092-b4cb-420c-9b7c-6f1410a740de",
   "metadata": {
    "tags": []
   },
   "outputs": [
    {
     "name": "stdout",
     "output_type": "stream",
     "text": [
      "distribution_strategy: <tensorflow.python.distribute.mirrored_strategy.MirroredStrategy object at 0x7fdec42d33a0>\n",
      "Inpsecting agent policy from train_peram file...\n",
      "agent.policy: <tf_agents.bandits.policies.neural_linucb_policy.NeuralLinUCBPolicy object at 0x7fdeb0285930>\n",
      "setting checkpoint_manager: gs://rec-bandits-v2-hybrid-vertex-bucket/02c-bandit-gpu-v9/chkpoint\n",
      "agent.train_step_counter: 0\n",
      "starting train loop...\n",
      "\n",
      "starting epoch: 1\n",
      "step = 0: loss = 14.520000457763672\n",
      "step = 10: loss = 3.319999933242798\n",
      "step = 20: loss = 1.4600000381469727\n",
      "step = 30: loss = 1.1299999952316284\n",
      "step = 40: loss = 1.0199999809265137\n",
      "step = 50: loss = 1.2999999523162842\n",
      "step = 60: loss = 1.6699999570846558\n",
      "step = 70: loss = 1.5299999713897705\n",
      "step = 80: loss = 0.9900000095367432\n",
      "step = 90: loss = 1.440000057220459\n",
      "epoch_mins: 0\n",
      "\n",
      "34.963 steps/sec\n",
      "\n",
      "starting epoch: 2\n",
      "step = 100: loss = 1.440000057220459\n",
      "step = 110: loss = 1.0700000524520874\n",
      "step = 120: loss = 1.149999976158142\n",
      "step = 130: loss = 1.0700000524520874\n",
      "step = 140: loss = 1.4700000286102295\n",
      "step = 150: loss = 1.309999942779541\n",
      "step = 160: loss = 1.1799999475479126\n",
      "step = 170: loss = 1.1399999856948853\n",
      "step = 180: loss = 1.159999966621399\n",
      "step = 190: loss = 1.3300000429153442\n",
      "epoch_mins: 0\n",
      "\n",
      "57.682 steps/sec\n",
      "\n",
      "starting epoch: 3\n",
      "step = 200: loss = 1.100000023841858\n",
      "step = 210: loss = 1.350000023841858\n",
      "step = 220: loss = 1.3899999856948853\n",
      "step = 230: loss = 1.3600000143051147\n",
      "step = 240: loss = 1.25\n",
      "step = 250: loss = 1.3799999952316284\n",
      "step = 260: loss = 1.1100000143051147\n",
      "step = 270: loss = 1.2999999523162842\n",
      "step = 280: loss = 1.149999976158142\n",
      "step = 290: loss = 1.0399999618530273\n",
      "epoch_mins: 0\n",
      "\n",
      "73.71 steps/sec\n",
      "runtime_mins: 0\n",
      "saved trained policy to: gs://rec-bandits-v2-hybrid-vertex-bucket/02c-bandit-gpu-v9/run-20241209-215822/artifacts\n",
      "saved to checkpoint_manager: gs://rec-bandits-v2-hybrid-vertex-bucket/02c-bandit-gpu-v9/chkpoint\n",
      "complete train job in 0 minutes\n"
     ]
    }
   ],
   "source": [
    "#start the timer and training\n",
    "start_time = time.time()\n",
    "\n",
    "metric_results, agent = train_perarm.train_perarm(\n",
    "    agent = agent,\n",
    "    embs = embs,\n",
    "    hparams = HPARAMS,\n",
    "    train_files = train_files,\n",
    "    reward_spec = reward_tensor_spec,\n",
    "    global_dim = GLOBAL_DIM,\n",
    "    per_arm_dim = PER_ARM_DIM,\n",
    "    num_epochs = NUM_EPOCHS,\n",
    "    num_iterations = NUM_ITER_STEPS,\n",
    "    steps_per_loop = STEPS_PER_LOOP,\n",
    "    chkpt_interval = CHKPT_INTERVAL,\n",
    "    log_interval = LOG_INTERVAL,\n",
    "    log_dir = LOG_DIR,\n",
    "    model_dir = ARTIFACTS_DIR,\n",
    "    chkpoint_dir = CHECKPT_DIR,\n",
    "    use_gpu = True,\n",
    "    use_tpu = False,\n",
    "    profiler = False,\n",
    "    global_step = global_step,\n",
    "    train_summary_writer = train_summary_writer,\n",
    "    strategy = distribution_strategy,\n",
    ")\n",
    "\n",
    "end_time = time.time()\n",
    "runtime_mins = int((end_time - start_time) / 60)\n",
    "print(f\"complete train job in {runtime_mins} minutes\")"
   ]
  },
  {
   "cell_type": "markdown",
   "id": "cd2e4260-97e3-4ad4-a429-6745f887769b",
   "metadata": {},
   "source": [
    "## Evaluate Train job"
   ]
  },
  {
   "cell_type": "code",
   "execution_count": 30,
   "id": "dd21d3b0-b922-446f-991b-488149e66938",
   "metadata": {
    "tags": []
   },
   "outputs": [
    {
     "data": {
      "image/png": "[encoded data removed]",
      "text/plain": [
       "<Figure size 640x480 with 1 Axes>"
      ]
     },
     "metadata": {},
     "output_type": "display_data"
    }
   ],
   "source": [
    "import matplotlib.pyplot as plt\n",
    "\n",
    "plt.plot(metric_results)\n",
    "plt.ylabel('loss')\n",
    "plt.show()"
   ]
  },
  {
   "cell_type": "markdown",
   "id": "0f923259-8cca-4a7b-9e4e-8ec9b543f34a",
   "metadata": {},
   "source": [
    "### GPU profiling"
   ]
  },
  {
   "cell_type": "markdown",
   "id": "e9ba9a3a-bb07-4619-88f0-34cb08fbdad1",
   "metadata": {},
   "source": [
    "#### Load TensorBoard\n",
    "\n",
    "> on the right-hand side, find `PROFILE` in the drop down:\n",
    "\n",
    "<img src=\"imgs/getting_profiler.png\" \n",
    "     align=\"center\" \n",
    "     width=\"850\"\n",
    "     height=\"850\"/>\n",
    "     \n",
    "<!-- tf_vertex_agents/imgs/getting_profiler.png -->"
   ]
  },
  {
   "cell_type": "code",
   "execution_count": 37,
   "id": "f03fe778-ebf1-4237-a269-d70639b4f984",
   "metadata": {
    "tags": []
   },
   "outputs": [],
   "source": [
    "from tensorboard import notebook\n",
    "# notebook.list() # View open TensorBoard instances"
   ]
  },
  {
   "cell_type": "code",
   "execution_count": 38,
   "id": "ae8de567-c152-4deb-99dc-54ed840c9e37",
   "metadata": {
    "tags": []
   },
   "outputs": [],
   "source": [
    "# %load_ext tensorboard\n",
    "%reload_ext tensorboard"
   ]
  },
  {
   "cell_type": "code",
   "execution_count": 40,
   "id": "e9ba7b2d-3ee7-478a-b634-c809a895103d",
   "metadata": {
    "tags": []
   },
   "outputs": [],
   "source": [
    "# %tensorboard --logdir=$LOG_DIR"
   ]
  },
  {
   "cell_type": "markdown",
   "id": "91d8a19f-c56e-4176-b29f-b62c1a3979e8",
   "metadata": {},
   "source": [
    "**Finished**"
   ]
  }
 ],
 "metadata": {
  "environment": {
   "kernel": "conda-base-py",
   "name": "workbench-notebooks.m126",
   "type": "gcloud",
   "uri": "us-docker.pkg.dev/deeplearning-platform-release/gcr.io/workbench-notebooks:m126"
  },
  "kernelspec": {
   "display_name": "Python 3 (ipykernel) (Local)",
   "language": "python",
   "name": "conda-base-py"
  },
  "language_info": {
   "codemirror_mode": {
    "name": "ipython",
    "version": 3
   },
   "file_extension": ".py",
   "mimetype": "text/x-python",
   "name": "python",
   "nbconvert_exporter": "python",
   "pygments_lexer": "ipython3",
   "version": "3.10.15"
  }
 },
 "nbformat": 4,
 "nbformat_minor": 5
}
