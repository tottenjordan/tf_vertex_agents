{
 "cells": [
  {
   "cell_type": "markdown",
   "id": "3e406936-2fb6-4a23-a6dd-e51977dc5ee2",
   "metadata": {},
   "source": [
    "# Using GPUs & TPUs with TF-Agents"
   ]
  },
  {
   "cell_type": "markdown",
   "id": "c5219324-2f52-41a5-b36a-03958f224caf",
   "metadata": {},
   "source": [
    "### Profile in-notebook training\n",
    "\n",
    "> Note: this notebook will only be useful if you have an accelerator (GPU or TPU) attached to the instance.\n",
    "\n",
    "#### Goals\n",
    "\n",
    "* Use the [TensorBoard Profiler](https://www.tensorflow.org/guide/profiler) to profile the RL training job, and compare this to other ML training jobs\n",
    "* Visualize information such as operation statistics on different devices, tracing, etc. \n",
    "* Discuss these performance characteristics with respect to decisions in the code base (e.g., the structure of the Agent class), the use of TF helpers like `@tf.function`, and the order of operations in the input data pipeline\n",
    "\n",
    "**Why?**\n",
    "* Accelerators like GPUs and TPUs are certainly advantageous, but they are also the most expensive component(s) of a training job\n",
    "* Before scaling to a full training job, it's best to make sure we are fully utilizing the chosen device(s), and doing this in-notebook can quickly help uncover any red flags \n",
    "\n",
    "We'll mainly look to address any bottlenecks in the input pipeline"
   ]
  },
  {
   "cell_type": "markdown",
   "id": "965670ad-987d-401e-aeca-f0492a52dbea",
   "metadata": {},
   "source": [
    "## Load notebook config\n",
    "\n",
    "* use the prefix defined in `00-env-setup`"
   ]
  },
  {
   "cell_type": "code",
   "execution_count": 1,
   "id": "09b8d292-a86a-4c1c-9b22-244b0d28dc14",
   "metadata": {},
   "outputs": [
    {
     "name": "stdout",
     "output_type": "stream",
     "text": [
      "PREFIX: rec-bandits-v2\n"
     ]
    }
   ],
   "source": [
    "# PREFIX = 'mabv1'\n",
    "VERSION        = \"v2\"                       # TODO\n",
    "PREFIX         = f'rec-bandits-{VERSION}'   # TODO\n",
    "\n",
    "print(f\"PREFIX: {PREFIX}\")"
   ]
  },
  {
   "cell_type": "code",
   "execution_count": 2,
   "id": "c137c648-e01c-4288-900c-608bd1f7bdd8",
   "metadata": {},
   "outputs": [
    {
     "name": "stdout",
     "output_type": "stream",
     "text": [
      "\n",
      "PROJECT_ID               = \"hybrid-vertex\"\n",
      "PROJECT_NUM              = \"934903580331\"\n",
      "LOCATION                 = \"us-central1\"\n",
      "\n",
      "REGION                   = \"us-central1\"\n",
      "BQ_LOCATION              = \"US\"\n",
      "VPC_NETWORK_NAME         = \"ucaip-haystack-vpc-network\"\n",
      "\n",
      "VERTEX_SA                = \"934903580331-compute@developer.gserviceaccount.com\"\n",
      "\n",
      "PREFIX                   = \"rec-bandits-v2\"\n",
      "VERSION                  = \"v2\"\n",
      "\n",
      "BUCKET_NAME              = \"rec-bandits-v2-hybrid-vertex-bucket\"\n",
      "BUCKET_URI               = \"gs://rec-bandits-v2-hybrid-vertex-bucket\"\n",
      "DATA_GCS_PREFIX          = \"data\"\n",
      "DATA_PATH                = \"gs://rec-bandits-v2-hybrid-vertex-bucket/data\"\n",
      "VOCAB_SUBDIR             = \"vocabs\"\n",
      "VOCAB_FILENAME           = \"vocab_dict.pkl\"\n",
      "DATA_PATH_KFP_DEMO       = \"gs://rec-bandits-v2-hybrid-vertex-bucket/data/kfp_demo_data/u.data\"\n",
      "\n",
      "VPC_NETWORK_FULL         = \"projects/934903580331/global/networks/ucaip-haystack-vpc-network\"\n",
      "\n",
      "BIGQUERY_DATASET_NAME    = \"mvlens_rec_bandits_v2\"\n",
      "BIGQUERY_TABLE_NAME      = \"training_dataset\"\n",
      "\n",
      "REPOSITORY               = \"rl-movielens-rec-bandits-v2\"\n",
      "\n",
      "DOCKERNAME_01            = \"Dockerfile_train_my_perarm_env\"\n",
      "IMAGE_NAME_01            = \"train-my-perarm-env-v2\"\n",
      "IMAGE_URI_01             = \"gcr.io/hybrid-vertex/train-my-perarm-env-v2\"\n",
      "\n",
      "DOCKERNAME_02            = \"Dockerfile_perarm_feats\"\n",
      "IMAGE_NAME_02            = \"train-perarm-feats-v2\"\n",
      "IMAGE_URI_02             = \"gcr.io/hybrid-vertex/train-perarm-feats-v2\"\n",
      "\n",
      "DOCKERNAME_03            = \"Dockerfile_ranking_bandit\"\n",
      "IMAGE_NAME_03            = \"train-rank-bandit-v2\"\n",
      "IMAGE_URI_03             = \"gcr.io/hybrid-vertex/train-rank-bandit-v2\"\n",
      "\n",
      "DOCKERNAME_04            = \"Dockerfile_train_mab_e2e\"\n",
      "IMAGE_NAME_04            = \"train-mab-e2e-v2\"\n",
      "IMAGE_URI_04             = \"gcr.io/hybrid-vertex/train-mab-e2e-v2\"\n",
      "\n",
      "DOCKERNAME_04_pred       = \"Dockerfile_pred_mab_e2e\"\n",
      "IMAGE_NAME_04_pred       = \"pred-mab-e2e-v2\"\n",
      "IMAGE_URI_04_pred        = \"gcr.io/hybrid-vertex/pred-mab-e2e-v2\"\n",
      "\n",
      "REMOTE_IMAGE_NAME        = \"us-central1-docker.pkg.dev/hybrid-vertex/rl-movielens-rec-bandits-v2/local_docker_tfa\"\n",
      "\n",
      "REPO_DOCKER_PATH_PREFIX  = \"src\"\n",
      "RL_SUB_DIR               = \"per_arm_rl\"\n",
      "\n"
     ]
    }
   ],
   "source": [
    "# staging GCS\n",
    "GCP_PROJECTS             = !gcloud config get-value project\n",
    "PROJECT_ID               = GCP_PROJECTS[0]\n",
    "\n",
    "# GCS bucket and paths\n",
    "BUCKET_NAME              = f'{PREFIX}-{PROJECT_ID}-bucket'\n",
    "BUCKET_URI               = f'gs://{BUCKET_NAME}'\n",
    "\n",
    "config = !gsutil cat {BUCKET_URI}/config/notebook_env.py\n",
    "print(config.n)\n",
    "exec(config.n)"
   ]
  },
  {
   "cell_type": "markdown",
   "id": "fd20dda8-6c27-4690-9981-59c251dc602b",
   "metadata": {},
   "source": [
    "### imports"
   ]
  },
  {
   "cell_type": "code",
   "execution_count": 3,
   "id": "39c34db9-39cf-4abe-b2c5-ade744338620",
   "metadata": {},
   "outputs": [
    {
     "data": {
      "text/plain": [
       "'1.14.1'"
      ]
     },
     "execution_count": 3,
     "metadata": {},
     "output_type": "execute_result"
    }
   ],
   "source": [
    "import wrapt\n",
    "\n",
    "wrapt.__version__"
   ]
  },
  {
   "cell_type": "code",
   "execution_count": 4,
   "id": "e043029b-7540-49e2-a646-9e0e4f60ad36",
   "metadata": {},
   "outputs": [],
   "source": [
    "import os\n",
    "os.environ['TF_CPP_MIN_LOG_LEVEL'] = '2'"
   ]
  },
  {
   "cell_type": "code",
   "execution_count": 5,
   "id": "37bc712f-c7d9-442a-ad92-9d865fa4faab",
   "metadata": {},
   "outputs": [],
   "source": [
    "import functools\n",
    "from collections import defaultdict\n",
    "from typing import Callable, Dict, List, Optional, TypeVar\n",
    "from datetime import datetime\n",
    "import time\n",
    "from pprint import pprint\n",
    "import pickle as pkl\n",
    "\n",
    "# logging\n",
    "import logging\n",
    "logging.disable(logging.WARNING)\n",
    "\n",
    "import matplotlib.pyplot as plt\n",
    "import numpy as np\n",
    "\n",
    "# google cloud\n",
    "from google.cloud import aiplatform as vertex_ai\n",
    "from google.cloud import storage\n",
    "\n",
    "# tensorflow\n",
    "import tensorflow as tf\n",
    "\n",
    "from tf_agents.bandits.metrics import tf_metrics as tf_bandit_metrics\n",
    "from tf_agents.metrics import tf_metrics\n",
    "\n",
    "from tf_agents.bandits.agents import neural_epsilon_greedy_agent\n",
    "from tf_agents.bandits.agents import neural_linucb_agent\n",
    "from tf_agents.bandits.networks import global_and_arm_feature_network\n",
    "\n",
    "from tf_agents.specs import tensor_spec\n",
    "from tf_agents.trajectories import time_step as ts\n",
    "from tf_agents.bandits.policies import policy_utilities\n",
    "from tf_agents.trajectories import trajectory\n",
    "from tf_agents.policies import policy_saver\n",
    "from tf_agents.specs import array_spec\n",
    "\n",
    "from tf_agents.bandits.specs import utils as bandit_spec_utils\n",
    "from tf_agents.train.utils import spec_utils\n",
    "from tf_agents.train.utils import strategy_utils\n",
    "from tf_agents.train.utils import train_utils as tfa_train_utils\n",
    "from tf_agents.utils import common\n",
    "\n",
    "# GPU\n",
    "from numba import cuda \n",
    "import gc\n",
    "\n",
    "import sys\n",
    "sys.path.append(\"..\")\n",
    "\n",
    "# this repo\n",
    "from src.per_arm_rl import data_utils\n",
    "from src.per_arm_rl import data_config\n",
    "from src.per_arm_rl import train_utils as train_utils\n",
    "\n",
    "# tf exceptions and vars\n",
    "if tf.__version__[0] != \"2\":\n",
    "    raise Exception(\"The trainer only runs with TensorFlow version 2.\")\n",
    "\n",
    "T = TypeVar(\"T\")"
   ]
  },
  {
   "cell_type": "code",
   "execution_count": 6,
   "id": "f884f232-2c14-43a9-b90e-ec80b25736d9",
   "metadata": {},
   "outputs": [],
   "source": [
    "from src.perarm_features import agent_factory as agent_factory\n",
    "from src.perarm_features import reward_factory as reward_factory\n",
    "from src.perarm_features import emb_features as emb_features"
   ]
  },
  {
   "cell_type": "code",
   "execution_count": 7,
   "id": "03eb0137-aff7-43f3-929b-03568d4cf287",
   "metadata": {},
   "outputs": [
    {
     "name": "stdout",
     "output_type": "stream",
     "text": [
      "Num GPUs Available:  1\n"
     ]
    }
   ],
   "source": [
    "print(\"Num GPUs Available: \", len(tf.config.list_physical_devices('GPU')))"
   ]
  },
  {
   "cell_type": "code",
   "execution_count": 9,
   "id": "b2522f6a-3826-4509-bd9b-f878c74ca8bb",
   "metadata": {},
   "outputs": [
    {
     "data": {
      "text/plain": [
       "14"
      ]
     },
     "execution_count": 9,
     "metadata": {},
     "output_type": "execute_result"
    }
   ],
   "source": [
    "device = cuda.get_current_device()\n",
    "device.reset()\n",
    "gc.collect()"
   ]
  },
  {
   "cell_type": "code",
   "execution_count": 10,
   "id": "865d4b19-a078-44d3-b0bd-f407a16f6a8c",
   "metadata": {},
   "outputs": [],
   "source": [
    "# cloud storage client\n",
    "storage_client = storage.Client(project=PROJECT_ID)\n",
    "\n",
    "# Vertex client\n",
    "vertex_ai.init(project=PROJECT_ID, location=LOCATION)"
   ]
  },
  {
   "cell_type": "markdown",
   "id": "bc8857b7-1f7b-4bbf-8637-1bbff7ab8af1",
   "metadata": {},
   "source": [
    "## Specify dataset"
   ]
  },
  {
   "cell_type": "code",
   "execution_count": 11,
   "id": "fb00b2dc-cef0-42d2-8e8f-82289f874bd1",
   "metadata": {},
   "outputs": [
    {
     "name": "stdout",
     "output_type": "stream",
     "text": [
      "DATA_TAG: movielens-100k\n",
      "gs://rec-bandits-v2-hybrid-vertex-bucket/data/movielens-100k/vocab_dict.pkl\n",
      "gs://rec-bandits-v2-hybrid-vertex-bucket/data/movielens-100k/all/\n",
      "gs://rec-bandits-v2-hybrid-vertex-bucket/data/movielens-100k/train/\n",
      "gs://rec-bandits-v2-hybrid-vertex-bucket/data/movielens-100k/val/\n"
     ]
    }
   ],
   "source": [
    "DATA_TAG = \"movielens-100k\" # movielens-100k | movielens-1m\n",
    "\n",
    "print(f\"DATA_TAG: {DATA_TAG}\")\n",
    "\n",
    "! gsutil ls $DATA_PATH/$DATA_TAG"
   ]
  },
  {
   "cell_type": "markdown",
   "id": "9e75a40f-00ca-4bf9-93f8-063a1056ba48",
   "metadata": {},
   "source": [
    "### Generate Vocabs"
   ]
  },
  {
   "cell_type": "code",
   "execution_count": 12,
   "id": "960f5c54-cee3-4563-ba77-4062265a6447",
   "metadata": {},
   "outputs": [
    {
     "name": "stdout",
     "output_type": "stream",
     "text": [
      "GENERATE_VOCABS: False\n"
     ]
    }
   ],
   "source": [
    "GENERATE_VOCABS = False\n",
    "\n",
    "print(f\"GENERATE_VOCABS: {GENERATE_VOCABS}\")"
   ]
  },
  {
   "cell_type": "code",
   "execution_count": 13,
   "id": "aa227f5c-364b-4488-b65f-617a3a80cf93",
   "metadata": {},
   "outputs": [
    {
     "name": "stdout",
     "output_type": "stream",
     "text": [
      "Downloading vocab...\n",
      "Downloaded vocab from: gs://rec-bandits-v2-hybrid-vertex-bucket/data/movielens-100k/vocab_dict.pkl\n",
      "\n",
      "'movie_id'\n",
      "'user_id'\n",
      "'user_occupation_text'\n",
      "'movie_genres'\n",
      "'bucketized_user_age'\n",
      "'max_timestamp'\n",
      "'min_timestamp'\n",
      "'timestamp_buckets'\n"
     ]
    }
   ],
   "source": [
    "if not GENERATE_VOCABS:\n",
    "\n",
    "    EXISTING_VOCAB_FILE = f'gs://{BUCKET_NAME}/{DATA_GCS_PREFIX}/{DATA_TAG}/{VOCAB_FILENAME}'\n",
    "    print(f\"Downloading vocab...\")\n",
    "    \n",
    "    os.system(f'gsutil -q cp {EXISTING_VOCAB_FILE} .')\n",
    "    print(f\"Downloaded vocab from: {EXISTING_VOCAB_FILE}\\n\")\n",
    "\n",
    "    filehandler = open(VOCAB_FILENAME, 'rb')\n",
    "    vocab_dict = pkl.load(filehandler)\n",
    "    filehandler.close()\n",
    "    \n",
    "    for key in vocab_dict.keys():\n",
    "        pprint(key)"
   ]
  },
  {
   "cell_type": "markdown",
   "id": "ef26da66-7284-4b5e-82cd-f261400726aa",
   "metadata": {},
   "source": [
    "### train config"
   ]
  },
  {
   "cell_type": "code",
   "execution_count": 14,
   "id": "4e71482f-b262-46f7-9bd2-c492b7df5189",
   "metadata": {},
   "outputs": [
    {
     "name": "stdout",
     "output_type": "stream",
     "text": [
      "NUM_OOV_BUCKETS        : 1\n",
      "GLOBAL_EMBEDDING_SIZE  : 16\n",
      "MV_EMBEDDING_SIZE      : 32\n",
      "GLOBAL_DIM             : 64\n",
      "PER_ARM_DIM            : 64\n",
      "BATCH_SIZE             : 128\n",
      "EVAL_BATCH_SIZE        : 1\n",
      "NUM_ACTIONS            : 2\n"
     ]
    }
   ],
   "source": [
    "NUM_OOV_BUCKETS        = 1\n",
    "GLOBAL_EMBEDDING_SIZE  = 16\n",
    "MV_EMBEDDING_SIZE      = 32 #32\n",
    "\n",
    "GLOBAL_DIM             = 64\n",
    "PER_ARM_DIM            = 64\n",
    "\n",
    "BATCH_SIZE             = 128\n",
    "EVAL_BATCH_SIZE        = 1\n",
    "NUM_ACTIONS            = 2 \n",
    "#this is kinda deceptive - \n",
    "#our approach is to learn by \"flashing\" one movie rating at a time per user context. \n",
    "#The n_actions = show/don't show the movie with one degree of freedom (n-1)\n",
    "\n",
    "print(f\"NUM_OOV_BUCKETS        : {NUM_OOV_BUCKETS}\")\n",
    "print(f\"GLOBAL_EMBEDDING_SIZE  : {GLOBAL_EMBEDDING_SIZE}\")\n",
    "print(f\"MV_EMBEDDING_SIZE      : {MV_EMBEDDING_SIZE}\")\n",
    "print(f\"GLOBAL_DIM             : {GLOBAL_DIM}\")\n",
    "print(f\"PER_ARM_DIM            : {PER_ARM_DIM}\")\n",
    "print(f\"BATCH_SIZE             : {BATCH_SIZE}\")\n",
    "print(f\"EVAL_BATCH_SIZE        : {EVAL_BATCH_SIZE}\")\n",
    "print(f\"NUM_ACTIONS            : {NUM_ACTIONS}\")"
   ]
  },
  {
   "cell_type": "markdown",
   "id": "d99e98fb-9f15-4220-a00a-9b501929d672",
   "metadata": {},
   "source": [
    "#### confirm GLOBAL and PER_ARM DIMs"
   ]
  },
  {
   "cell_type": "code",
   "execution_count": 15,
   "id": "f454002c-ece5-4bbe-9263-2b404e00b368",
   "metadata": {},
   "outputs": [
    {
     "data": {
      "text/plain": [
       "'data'"
      ]
     },
     "execution_count": 15,
     "metadata": {},
     "output_type": "execute_result"
    }
   ],
   "source": [
    "DATA_GCS_PREFIX"
   ]
  },
  {
   "cell_type": "code",
   "execution_count": 16,
   "id": "7e947733-3785-48e0-ab99-690090df58e9",
   "metadata": {},
   "outputs": [],
   "source": [
    "SPLIT = \"train\" # \"train\" | \"val\"\n",
    "\n",
    "train_files = []\n",
    "for blob in storage_client.list_blobs(f\"{BUCKET_NAME}\", prefix=f'{DATA_GCS_PREFIX}/{DATA_TAG}/{SPLIT}'):\n",
    "    if '.tfrecord' in blob.name:\n",
    "        train_files.append(blob.public_url.replace(\"https://storage.googleapis.com/\", \"gs://\"))\n",
    "\n",
    "train_dataset = tf.data.TFRecordDataset(train_files)\n",
    "train_dataset = train_dataset.map(data_utils.parse_tfrecord)"
   ]
  },
  {
   "cell_type": "code",
   "execution_count": 17,
   "id": "09f19f54-30e0-4e28-b49a-8e716e210bce",
   "metadata": {},
   "outputs": [
    {
     "data": {
      "text/plain": [
       "{'bucketized_user_age': <tf.Tensor: shape=(1,), dtype=float32, numpy=array([45.], dtype=float32)>,\n",
       " 'movie_genres': <tf.Tensor: shape=(1, 1), dtype=int64, numpy=array([[7]])>,\n",
       " 'movie_id': <tf.Tensor: shape=(1,), dtype=string, numpy=array([b'357'], dtype=object)>,\n",
       " 'timestamp': <tf.Tensor: shape=(1,), dtype=int64, numpy=array([879024327])>,\n",
       " 'user_id': <tf.Tensor: shape=(1,), dtype=string, numpy=array([b'138'], dtype=object)>,\n",
       " 'user_occupation_text': <tf.Tensor: shape=(1,), dtype=string, numpy=array([b'doctor'], dtype=object)>,\n",
       " 'user_rating': <tf.Tensor: shape=(1,), dtype=float32, numpy=array([4.], dtype=float32)>}"
      ]
     },
     "execution_count": 17,
     "metadata": {},
     "output_type": "execute_result"
    }
   ],
   "source": [
    "for i in range(1):\n",
    "    \n",
    "    iterator = iter(train_dataset.batch(1))\n",
    "    data = next(iterator)\n",
    "\n",
    "data"
   ]
  },
  {
   "cell_type": "code",
   "execution_count": 18,
   "id": "165119f6-8f93-4188-a027-64dd0323f2f8",
   "metadata": {},
   "outputs": [
    {
     "data": {
      "text/plain": [
       "<src.perarm_features.emb_features.EmbeddingModel at 0x7f2ab85adcc0>"
      ]
     },
     "execution_count": 18,
     "metadata": {},
     "output_type": "execute_result"
    }
   ],
   "source": [
    "embs = emb_features.EmbeddingModel(\n",
    "    vocab_dict = vocab_dict,\n",
    "    num_oov_buckets = NUM_OOV_BUCKETS,\n",
    "    global_emb_size = GLOBAL_EMBEDDING_SIZE,\n",
    "    mv_emb_size = MV_EMBEDDING_SIZE,\n",
    ")\n",
    "\n",
    "embs"
   ]
  },
  {
   "cell_type": "code",
   "execution_count": 19,
   "id": "c93478fd-8ec0-4cb6-bcdf-54cd434a43a2",
   "metadata": {},
   "outputs": [
    {
     "name": "stdout",
     "output_type": "stream",
     "text": [
      "GLOBAL_DIM: 64\n"
     ]
    },
    {
     "data": {
      "text/plain": [
       "<tf.Tensor: shape=(1, 64), dtype=float32, numpy=\n",
       "array([[ 0.00141325,  0.01234453, -0.03927494,  0.01070642, -0.01317291,\n",
       "         0.02535457, -0.00634104,  0.03300157, -0.00476879,  0.0397946 ,\n",
       "        -0.04240296, -0.02101274,  0.04542703,  0.04849777, -0.0073437 ,\n",
       "        -0.02197797, -0.01744487,  0.01334908, -0.04442598,  0.02730234,\n",
       "         0.00839327, -0.03646849, -0.00529665,  0.00398301,  0.04023801,\n",
       "         0.03442774,  0.03174491,  0.04655274, -0.01635902, -0.03853884,\n",
       "         0.02324041,  0.02629406, -0.0394177 , -0.04299327,  0.03476432,\n",
       "         0.01648473, -0.01495945,  0.02071415, -0.02225443, -0.03949076,\n",
       "        -0.04905539,  0.0454797 , -0.02187049,  0.02787686,  0.03201325,\n",
       "         0.00188607,  0.02459908,  0.03750366,  0.01340364, -0.04204972,\n",
       "         0.02384498,  0.0015341 , -0.04617469,  0.04112763,  0.0261503 ,\n",
       "        -0.01551272,  0.00758586,  0.02708191,  0.01951784, -0.01549109,\n",
       "         0.0457544 , -0.0013525 ,  0.0428067 ,  0.0265388 ]],\n",
       "      dtype=float32)>"
      ]
     },
     "execution_count": 19,
     "metadata": {},
     "output_type": "execute_result"
    }
   ],
   "source": [
    "test_globals = embs._get_global_context_features(data)\n",
    "\n",
    "GLOBAL_DIM = test_globals.shape[1]            \n",
    "# shape checks out at batch_dim, nactions, arm feats\n",
    "print(f\"GLOBAL_DIM: {GLOBAL_DIM}\")\n",
    "\n",
    "test_globals"
   ]
  },
  {
   "cell_type": "code",
   "execution_count": 20,
   "id": "a47b5c29-ecdf-458f-8068-5279e0fee08e",
   "metadata": {},
   "outputs": [
    {
     "name": "stdout",
     "output_type": "stream",
     "text": [
      "PER_ARM_DIM: 64\n"
     ]
    },
    {
     "data": {
      "text/plain": [
       "<tf.Tensor: shape=(1, 64), dtype=float32, numpy=\n",
       "array([[ 0.01972083,  0.03690945,  0.00046024, -0.04185577,  0.00420934,\n",
       "        -0.00259993,  0.03733131, -0.01375766,  0.04817568, -0.0412565 ,\n",
       "         0.02825978,  0.04338194, -0.00747422,  0.03918935, -0.02216744,\n",
       "         0.00172651, -0.01489244,  0.03184685, -0.03349788, -0.03085433,\n",
       "         0.03577412, -0.00632892,  0.0260354 , -0.00749518, -0.03406402,\n",
       "        -0.01639489,  0.00887556,  0.00882025,  0.01090615,  0.01866284,\n",
       "         0.01642719,  0.00658865,  0.04098869,  0.01933999, -0.04759602,\n",
       "         0.00432919, -0.00106417,  0.04463765, -0.02857497,  0.03014091,\n",
       "         0.00773251, -0.02999413, -0.03474252, -0.04199301, -0.0452517 ,\n",
       "         0.01858162,  0.04911694, -0.02386885,  0.0396041 ,  0.03976682,\n",
       "         0.04168351,  0.03211054, -0.02806428,  0.03945936, -0.01063033,\n",
       "        -0.03650666, -0.00055466, -0.0024147 ,  0.03000993, -0.04941002,\n",
       "        -0.01108555,  0.01233381,  0.01826813,  0.01511068]],\n",
       "      dtype=float32)>"
      ]
     },
     "execution_count": 20,
     "metadata": {},
     "output_type": "execute_result"
    }
   ],
   "source": [
    "test_arms = embs._get_per_arm_features(data)\n",
    "\n",
    "PER_ARM_DIM = test_arms.shape[1]            \n",
    "# shape checks out at batch_dim, nactions, arm feats\n",
    "print(f\"PER_ARM_DIM: {PER_ARM_DIM}\")\n",
    "\n",
    "test_arms"
   ]
  },
  {
   "cell_type": "markdown",
   "id": "50d59ad1-e850-4bb3-ae4a-94efcbb89c9b",
   "metadata": {},
   "source": [
    "### TensorSpecs"
   ]
  },
  {
   "cell_type": "markdown",
   "id": "0dc226a9-c5db-4d1e-a879-4e23248cb17a",
   "metadata": {},
   "source": [
    "#### Observation Spec"
   ]
  },
  {
   "cell_type": "code",
   "execution_count": 21,
   "id": "f03d7f8d-a168-4e47-92f1-5242fc723599",
   "metadata": {},
   "outputs": [
    {
     "data": {
      "text/plain": [
       "{'global': TensorSpec(shape=(64,), dtype=tf.float32, name=None),\n",
       " 'per_arm': TensorSpec(shape=(2, 64), dtype=tf.float32, name=None)}"
      ]
     },
     "execution_count": 21,
     "metadata": {},
     "output_type": "execute_result"
    }
   ],
   "source": [
    "observation_spec = {\n",
    "    'global': tf.TensorSpec([GLOBAL_DIM], tf.float32),\n",
    "    'per_arm': tf.TensorSpec([NUM_ACTIONS, PER_ARM_DIM], tf.float32) #excluding action dim here\n",
    "}\n",
    "observation_spec"
   ]
  },
  {
   "cell_type": "markdown",
   "id": "8db4eae7-e7a5-4f72-bd69-e88681e9438e",
   "metadata": {},
   "source": [
    "#### Action Spec"
   ]
  },
  {
   "cell_type": "code",
   "execution_count": 22,
   "id": "b927e6a2-d01c-4e9b-866f-9afaba5bb795",
   "metadata": {},
   "outputs": [
    {
     "data": {
      "text/plain": [
       "BoundedTensorSpec(shape=(), dtype=tf.int32, name=None, minimum=array(0, dtype=int32), maximum=array(1, dtype=int32))"
      ]
     },
     "execution_count": 22,
     "metadata": {},
     "output_type": "execute_result"
    }
   ],
   "source": [
    "action_spec = tensor_spec.BoundedTensorSpec(\n",
    "    shape=[], \n",
    "    dtype=tf.int32,\n",
    "    minimum=tf.constant(0),            \n",
    "    maximum=NUM_ACTIONS-1, # n degrees of freedom and will dictate the expected mean reward spec shape\n",
    "    # name=\"action_spec\"\n",
    ")\n",
    "\n",
    "action_spec"
   ]
  },
  {
   "cell_type": "markdown",
   "id": "fa475f6d-b204-4efc-9df7-65293109f830",
   "metadata": {},
   "source": [
    "#### TimeStep Spec"
   ]
  },
  {
   "cell_type": "code",
   "execution_count": 23,
   "id": "fd146ddd-0bf6-47c8-baf9-a81633909211",
   "metadata": {},
   "outputs": [
    {
     "data": {
      "text/plain": [
       "TimeStep(\n",
       "{'discount': BoundedTensorSpec(shape=(), dtype=tf.float32, name='discount', minimum=array(0., dtype=float32), maximum=array(1., dtype=float32)),\n",
       " 'observation': {'global': TensorSpec(shape=(64,), dtype=tf.float32, name=None),\n",
       "                 'per_arm': TensorSpec(shape=(2, 64), dtype=tf.float32, name=None)},\n",
       " 'reward': TensorSpec(shape=(), dtype=tf.float32, name='reward'),\n",
       " 'step_type': TensorSpec(shape=(), dtype=tf.int32, name='step_type')})"
      ]
     },
     "execution_count": 23,
     "metadata": {},
     "output_type": "execute_result"
    }
   ],
   "source": [
    "time_step_spec = ts.time_step_spec(\n",
    "    observation_spec = observation_spec, \n",
    "    # reward_spec = _reward_spec\n",
    ")\n",
    "time_step_spec"
   ]
  },
  {
   "cell_type": "markdown",
   "id": "dff14eae-f17b-461b-800d-3b6de70a73ba",
   "metadata": {},
   "source": [
    "#### Reward Spec"
   ]
  },
  {
   "cell_type": "code",
   "execution_count": 24,
   "id": "bf73029c-7919-4852-ac86-030f7ccd2b4e",
   "metadata": {},
   "outputs": [],
   "source": [
    "from tf_agents.specs import array_spec\n",
    "\n",
    "reward_spec = {\n",
    "    \"reward\": array_spec.ArraySpec(shape=[BATCH_SIZE], dtype=np.float32, name=\"reward\")\n",
    "}"
   ]
  },
  {
   "cell_type": "code",
   "execution_count": 25,
   "id": "7fc31d36-ec40-4260-a00a-02d3bb1c192e",
   "metadata": {},
   "outputs": [
    {
     "data": {
      "text/plain": [
       "{'reward': TensorSpec(shape=(128,), dtype=tf.float32, name='reward')}"
      ]
     },
     "execution_count": 25,
     "metadata": {},
     "output_type": "execute_result"
    }
   ],
   "source": [
    "reward_tensor_spec = train_utils.from_spec(reward_spec)\n",
    "reward_tensor_spec"
   ]
  },
  {
   "cell_type": "markdown",
   "id": "d1f73646-b69e-4f1a-960b-055602fd36fa",
   "metadata": {},
   "source": [
    "## Distribution strategy"
   ]
  },
  {
   "cell_type": "markdown",
   "id": "226a2cd7-5484-4db2-b7ac-a57a61a452f5",
   "metadata": {},
   "source": [
    "Use `strategy_utils` to generate a strategy. Under the hood, passing the parameter:\n",
    "\n",
    "* `use_gpu = False` returns `tf.distribute.get_strategy()`, which uses CPU\n",
    "* `use_gpu = True` returns `tf.distribute.MirroredStrategy()`, which uses all GPUs that are visible to TensorFlow on one machine"
   ]
  },
  {
   "cell_type": "code",
   "execution_count": 26,
   "id": "2aedc5c8-788e-443b-994b-3c4021a273a1",
   "metadata": {},
   "outputs": [
    {
     "data": {
      "text/plain": [
       "<tensorflow.python.distribute.mirrored_strategy.MirroredStrategy at 0x7f2acc705c00>"
      ]
     },
     "execution_count": 26,
     "metadata": {},
     "output_type": "execute_result"
    }
   ],
   "source": [
    "use_gpu = True\n",
    "use_tpu = False\n",
    "\n",
    "distribution_strategy = strategy_utils.get_strategy(tpu=use_tpu, use_gpu=use_gpu)\n",
    "distribution_strategy"
   ]
  },
  {
   "cell_type": "code",
   "execution_count": 27,
   "id": "781e1b7d-396b-48df-8657-71c8daf4e6c1",
   "metadata": {},
   "outputs": [
    {
     "data": {
      "text/plain": [
       "1"
      ]
     },
     "execution_count": 27,
     "metadata": {},
     "output_type": "execute_result"
    }
   ],
   "source": [
    "NUM_REPLICAS = distribution_strategy.num_replicas_in_sync\n",
    "NUM_REPLICAS"
   ]
  },
  {
   "cell_type": "markdown",
   "id": "86791ffd-ae3c-4558-8a08-335abb242a9c",
   "metadata": {},
   "source": [
    "### Config"
   ]
  },
  {
   "cell_type": "code",
   "execution_count": 28,
   "id": "6d8ff74e-fcdd-4523-838d-68e399bbb39b",
   "metadata": {},
   "outputs": [
    {
     "name": "stdout",
     "output_type": "stream",
     "text": [
      "{'batch_size': 128,\n",
      " 'common_layers': [16, 8],\n",
      " 'epsilon': 0.01,\n",
      " 'eval_batch_size': 1,\n",
      " 'global_layers': [64, 32, 16],\n",
      " 'learning_rate': 0.05,\n",
      " 'model_type': 'epsGreedy',\n",
      " 'network_type': 'commontower',\n",
      " 'num_actions': 2,\n",
      " 'num_eval_steps': 10000,\n",
      " 'per_arm_layers': [64, 32, 16]}\n"
     ]
    }
   ],
   "source": [
    "# ================================\n",
    "# Agents\n",
    "# ================================\n",
    "AGENT_TYPE      = 'epsGreedy' # 'LinUCB' | 'LinTS |, 'epsGreedy' | 'NeuralLinUCB'\n",
    "\n",
    "# Parameters for linear agents (LinUCB and LinTS).\n",
    "AGENT_ALPHA     = 0.1\n",
    "\n",
    "# Parameters for neural agents (NeuralEpsGreedy and NerualLinUCB).\n",
    "EPSILON         = 0.01\n",
    "LR              = 0.05\n",
    "\n",
    "# Parameters for NeuralLinUCB\n",
    "ENCODING_DIM    = 1\n",
    "EPS_PHASE_STEPS = 1000\n",
    "\n",
    "NUM_EVAL_STEPS = 10000\n",
    "\n",
    "# ================================\n",
    "# Agent's Preprocess Network\n",
    "# ================================\n",
    "NETWORK_TYPE    = \"commontower\" # 'commontower' | 'dotproduct'\n",
    "\n",
    "if AGENT_TYPE == 'NeuralLinUCB':\n",
    "    NETWORK_TYPE = 'commontower'\n",
    "    \n",
    "GLOBAL_LAYERS   = [64, 32, 16]\n",
    "ARM_LAYERS      = [64, 32, 16]\n",
    "COMMON_LAYERS   = [16, 8]\n",
    "\n",
    "HPARAMS = {  # TODO - streamline and consolidate\n",
    "    \"batch_size\": BATCH_SIZE,\n",
    "    \"eval_batch_size\" : EVAL_BATCH_SIZE,\n",
    "    \"num_actions\": NUM_ACTIONS,\n",
    "    \"model_type\": AGENT_TYPE,\n",
    "    \"network_type\": NETWORK_TYPE,\n",
    "    \"global_layers\": GLOBAL_LAYERS,\n",
    "    \"per_arm_layers\": ARM_LAYERS,\n",
    "    \"common_layers\": COMMON_LAYERS,\n",
    "    \"learning_rate\": LR,\n",
    "    \"epsilon\": EPSILON,\n",
    "    \"num_eval_steps\": NUM_EVAL_STEPS,\n",
    "}\n",
    "pprint(HPARAMS)"
   ]
  },
  {
   "cell_type": "markdown",
   "id": "85c27bf4-7d1d-485c-9644-4c0d60d77a83",
   "metadata": {},
   "source": [
    "### trajectory function"
   ]
  },
  {
   "cell_type": "code",
   "execution_count": 29,
   "id": "5338c598-1c22-409b-8f67-b4a906d579ba",
   "metadata": {},
   "outputs": [],
   "source": [
    "with distribution_strategy.scope():\n",
    "    \n",
    "    embs = emb_features.EmbeddingModel(\n",
    "        vocab_dict = vocab_dict,\n",
    "        num_oov_buckets = NUM_OOV_BUCKETS,\n",
    "        global_emb_size = GLOBAL_EMBEDDING_SIZE,\n",
    "        mv_emb_size = MV_EMBEDDING_SIZE,\n",
    "    )\n",
    "    \n",
    "    def _trajectory_fn(element): # hparams\n",
    "    \n",
    "        \"\"\"Converts a dataset element into a trajectory.\"\"\"\n",
    "        # global_features = _get_global_context_features(element)\n",
    "        # arm_features = _get_per_arm_features(element)\n",
    "\n",
    "        global_features = embs._get_global_context_features(element)\n",
    "        arm_features = embs._get_per_arm_features(element)\n",
    "\n",
    "        # Adds a time dimension.\n",
    "        arm_features = train_utils._add_outer_dimension(arm_features)\n",
    "\n",
    "        # obs spec\n",
    "        observation = {\n",
    "            bandit_spec_utils.GLOBAL_FEATURE_KEY:\n",
    "                train_utils._add_outer_dimension(global_features),\n",
    "        }\n",
    "\n",
    "        reward = train_utils._add_outer_dimension(reward_factory._get_rewards(element))\n",
    "\n",
    "        # To emit the predicted rewards in policy_info, we need to create dummy\n",
    "        # rewards to match the definition in TensorSpec for the ones specified in\n",
    "        # emit_policy_info set.\n",
    "        dummy_rewards = tf.zeros([HPARAMS['batch_size'], 1, HPARAMS['num_actions']])\n",
    "        policy_info = policy_utilities.PerArmPolicyInfo(\n",
    "            chosen_arm_features=arm_features,\n",
    "            # Pass dummy mean rewards here to match the model_spec for emitting\n",
    "            # mean rewards in policy info\n",
    "            predicted_rewards_mean=dummy_rewards,\n",
    "            bandit_policy_type=tf.zeros([HPARAMS['batch_size'], 1, 1], dtype=tf.int32)\n",
    "            # policy_utilities.create_bandit_policy_type_tensor_spec(shape=[1]) \n",
    "            # policy_utilities.BanditPolicyType.GREEDY\n",
    "            # tf.zeros([batch_size, 1, 1], dtype=tf.int32)\n",
    "        )\n",
    "\n",
    "        if HPARAMS['model_type'] == 'neural_ucb':\n",
    "            policy_info = policy_info._replace(\n",
    "                predicted_rewards_optimistic=dummy_rewards\n",
    "            )\n",
    "\n",
    "        return trajectory.single_step(\n",
    "            observation=observation,\n",
    "            action=tf.zeros_like(\n",
    "                reward, \n",
    "                dtype=tf.int32\n",
    "            ),  # Arm features are copied from policy info, put dummy zeros here\n",
    "            policy_info=policy_info,\n",
    "            reward=reward,\n",
    "            discount=tf.zeros_like(reward)\n",
    "        )"
   ]
  },
  {
   "cell_type": "markdown",
   "id": "697f8e95-eede-4b0e-8dd2-90bfc0ba18c2",
   "metadata": {
    "tags": []
   },
   "source": [
    "#### debugging - uncomment to view shapes n' dims"
   ]
  },
  {
   "cell_type": "code",
   "execution_count": 30,
   "id": "7d589417-c0f0-4e1b-96d9-f572d3eea5b8",
   "metadata": {
    "tags": []
   },
   "outputs": [],
   "source": [
    "# for x in train_dataset.batch(HPARAMS['batch_size']).take(1):\n",
    "#     test_traj_v1 = _trajectory_fn(x)\n",
    "    \n",
    "# test_traj_v1"
   ]
  },
  {
   "cell_type": "code",
   "execution_count": 31,
   "id": "df6c2218-ebef-4bb6-822c-9a67ee9b8f96",
   "metadata": {},
   "outputs": [],
   "source": [
    "# print(f\"test_traj_v1.action.shape: {test_traj_v1.action.shape}\")\n",
    "# print(f\"test_traj_v1.discount.shape: {test_traj_v1.discount.shape}\") \n",
    "# print(f\"test_traj_v1.observation.shape: {test_traj_v1.observation['global'].shape}\") \n",
    "# print(f\"test_traj_v1.reward.shape: {test_traj_v1.reward.shape}\") "
   ]
  },
  {
   "cell_type": "markdown",
   "id": "7a634d31-306f-445c-8d34-e431ee5839a2",
   "metadata": {},
   "source": [
    "## Create Agent\n",
    "\n",
    "> Note: writting distributions and historgrams of gradients and variables will negatively impact training performance\n",
    "\n",
    "* set `summarize_grads_and_vars = False` for best training performance\n",
    "* keep `debug_summaries = True` to track training metrics (e.g., loss / regret)"
   ]
  },
  {
   "cell_type": "code",
   "execution_count": 32,
   "id": "5cd7b0e8-93aa-4846-b532-7b62dee81f28",
   "metadata": {},
   "outputs": [
    {
     "name": "stdout",
     "output_type": "stream",
     "text": [
      "Agent: NeuralEpsGreedyAgent\n",
      "NETWORK_TYPE: commontower\n"
     ]
    }
   ],
   "source": [
    "with distribution_strategy.scope():\n",
    "    \n",
    "    global_step = tf.compat.v1.train.get_or_create_global_step()\n",
    "    # global_step = train_utils.create_train_step()\n",
    "    \n",
    "    agent = agent_factory.PerArmAgentFactory._get_agent(\n",
    "        agent_type = AGENT_TYPE,\n",
    "        network_type = NETWORK_TYPE,\n",
    "        time_step_spec = time_step_spec,\n",
    "        action_spec = action_spec,\n",
    "        observation_spec=observation_spec,\n",
    "        global_layers = GLOBAL_LAYERS,\n",
    "        arm_layers = ARM_LAYERS,\n",
    "        common_layers = COMMON_LAYERS,\n",
    "        agent_alpha = AGENT_ALPHA,\n",
    "        learning_rate = LR,\n",
    "        epsilon = EPSILON,\n",
    "        train_step_counter = global_step,\n",
    "        output_dim = ENCODING_DIM,\n",
    "        eps_phase_steps = EPS_PHASE_STEPS,\n",
    "        summarize_grads_and_vars = False,\n",
    "        debug_summaries = True\n",
    "    )\n",
    "    \n",
    "    agent.initialize()\n",
    "\n",
    "print(f\"Agent: {agent.name}\")\n",
    "\n",
    "if NETWORK_TYPE:\n",
    "    print(f\"NETWORK_TYPE: {NETWORK_TYPE}\")"
   ]
  },
  {
   "cell_type": "code",
   "execution_count": 33,
   "id": "55bf86b5-945e-46e7-b6e5-30e64e44870b",
   "metadata": {},
   "outputs": [
    {
     "data": {
      "text/plain": [
       "0"
      ]
     },
     "execution_count": 33,
     "metadata": {},
     "output_type": "execute_result"
    }
   ],
   "source": [
    "global_step.numpy()"
   ]
  },
  {
   "cell_type": "code",
   "execution_count": 34,
   "id": "ded6991c-ae8f-41c1-bb36-d7e3ccc6d27d",
   "metadata": {},
   "outputs": [
    {
     "data": {
      "text/plain": [
       "0"
      ]
     },
     "execution_count": 34,
     "metadata": {},
     "output_type": "execute_result"
    }
   ],
   "source": [
    "global_step.value().numpy()"
   ]
  },
  {
   "cell_type": "code",
   "execution_count": 35,
   "id": "594f6276-5c87-4f48-aa72-9b6288d0ac5a",
   "metadata": {},
   "outputs": [],
   "source": [
    "# type(agent.policy)\n",
    "# agent.policy.variables()\n",
    "\n",
    "\n",
    "### inspect shapes\n",
    "\n",
    "# agent.action_spec\n",
    "# agent.time_step_spec\n",
    "# agent.training_data_spec"
   ]
  },
  {
   "cell_type": "markdown",
   "id": "3719520d-4eaa-4739-b0c3-b1e521afa234",
   "metadata": {},
   "source": [
    "### GPU stuff\n",
    "\n",
    "* `TF_GPU_THREAD_MODE=gpu_private` ensures that GPU kernels are launched from their own dedicated threads, and don't get queued behind tf.data work."
   ]
  },
  {
   "cell_type": "code",
   "execution_count": 36,
   "id": "91c4c959-03a0-46d1-b02c-09153820b192",
   "metadata": {},
   "outputs": [],
   "source": [
    "import os\n",
    "\n",
    "TF_GPU_THREAD_COUNT   = '1'      # '1' | '4' | '8'\n",
    "\n",
    "os.environ['TF_CPP_MIN_LOG_LEVEL'] = '2'\n",
    "os.environ['TF_GPU_THREAD_MODE']='gpu_private'\n",
    "os.environ['TF_GPU_THREAD_COUNT']=f\"{TF_GPU_THREAD_COUNT}\"\n",
    "os.environ['TF_GPU_ALLOCATOR']='cuda_malloc_async'"
   ]
  },
  {
   "cell_type": "markdown",
   "id": "293aef61-3336-4041-befa-27cadbd756fa",
   "metadata": {},
   "source": [
    "## Vertex Experiment"
   ]
  },
  {
   "cell_type": "code",
   "execution_count": 37,
   "id": "6037dde7-e446-40b3-8c9d-5913b6139147",
   "metadata": {},
   "outputs": [
    {
     "name": "stdout",
     "output_type": "stream",
     "text": [
      "EXPERIMENT_NAME   : acc-bandits-local-v8-rec-bandits-v2\n",
      "RUN_NAME          : run-20240220-021031\n",
      "\n",
      "CHECKPT_DIR       : gs://rec-bandits-v2-hybrid-vertex-bucket/acc-bandits-local-v8-rec-bandits-v2/chkpoint\n",
      "BASE_OUTPUT_DIR   : gs://rec-bandits-v2-hybrid-vertex-bucket/acc-bandits-local-v8-rec-bandits-v2/run-20240220-021031\n",
      "LOG_DIR           : gs://rec-bandits-v2-hybrid-vertex-bucket/acc-bandits-local-v8-rec-bandits-v2/run-20240220-021031/logs\n",
      "ROOT_DIR          : gs://rec-bandits-v2-hybrid-vertex-bucket/acc-bandits-local-v8-rec-bandits-v2/run-20240220-021031/root\n",
      "ARTIFACTS_DIR     : gs://rec-bandits-v2-hybrid-vertex-bucket/acc-bandits-local-v8-rec-bandits-v2/run-20240220-021031/artifacts\n"
     ]
    }
   ],
   "source": [
    "EXPERIMENT_NAME   = f'acc-bandits-local-v8-{PREFIX}' # customize as needed\n",
    "\n",
    "# new experiment\n",
    "invoke_time       = time.strftime(\"%Y%m%d-%H%M%S\")\n",
    "RUN_NAME          = f'run-{invoke_time}'\n",
    "\n",
    "CHECKPT_DIR       = f\"{BUCKET_URI}/{EXPERIMENT_NAME}/chkpoint\"\n",
    "BASE_OUTPUT_DIR   = f\"{BUCKET_URI}/{EXPERIMENT_NAME}/{RUN_NAME}\"\n",
    "LOG_DIR           = f\"{BASE_OUTPUT_DIR}/logs\"\n",
    "ROOT_DIR          = f\"{BASE_OUTPUT_DIR}/root\"       # Root directory for writing logs/summaries/checkpoints.\n",
    "ARTIFACTS_DIR     = f\"{BASE_OUTPUT_DIR}/artifacts\"  # Where the trained model will be saved and restored.\n",
    "\n",
    "vertex_ai.init(\n",
    "    project=PROJECT_ID,\n",
    "    location=REGION,\n",
    "    experiment=EXPERIMENT_NAME\n",
    ")\n",
    "\n",
    "print(f\"EXPERIMENT_NAME   : {EXPERIMENT_NAME}\")\n",
    "print(f\"RUN_NAME          : {RUN_NAME}\\n\")\n",
    "print(f\"CHECKPT_DIR       : {CHECKPT_DIR}\")\n",
    "print(f\"BASE_OUTPUT_DIR   : {BASE_OUTPUT_DIR}\")\n",
    "print(f\"LOG_DIR           : {LOG_DIR}\")\n",
    "print(f\"ROOT_DIR          : {ROOT_DIR}\")\n",
    "print(f\"ARTIFACTS_DIR     : {ARTIFACTS_DIR}\")"
   ]
  },
  {
   "cell_type": "markdown",
   "id": "81fd56f4-1cf0-4224-9135-7f0fbe30bc44",
   "metadata": {},
   "source": [
    "### TB Summary writer"
   ]
  },
  {
   "cell_type": "code",
   "execution_count": 38,
   "id": "033135a5-0fd2-421a-a172-5a15e1e28dcc",
   "metadata": {},
   "outputs": [],
   "source": [
    "# ====================================================\n",
    "# TB summary writer\n",
    "# ====================================================\n",
    "with distribution_strategy.scope():\n",
    "    train_summary_writer = tf.compat.v2.summary.create_file_writer(\n",
    "        f\"{LOG_DIR}\", flush_millis=10 * 1000\n",
    "    )\n",
    "\n",
    "    train_summary_writer.set_as_default()"
   ]
  },
  {
   "cell_type": "markdown",
   "id": "be2b102e-35c9-4ff3-8ae0-6b15103c27de",
   "metadata": {},
   "source": [
    "## Train loops"
   ]
  },
  {
   "cell_type": "code",
   "execution_count": 39,
   "id": "e68792ed-9b90-47aa-80d8-d190c4580079",
   "metadata": {},
   "outputs": [
    {
     "name": "stdout",
     "output_type": "stream",
     "text": [
      "NUM_ITER_STEPS       : 100\n",
      "STEPS_PER_LOOP       : 1\n",
      "LOG_INTERVAL         : 10\n",
      "CHKPT_INTERVAL       : 1000\n",
      "NUM_EVAL_STEPS       : 100\n",
      "ASYNC_STEPS_PER_LOOP : 1\n"
     ]
    }
   ],
   "source": [
    "from src.perarm_features import train_perarm as train_perarm\n",
    "\n",
    "NUM_ITER_STEPS       = 100\n",
    "STEPS_PER_LOOP       = 1\n",
    "LOG_INTERVAL         = 10\n",
    "CHKPT_INTERVAL       = 1000\n",
    "NUM_EVAL_STEPS       = 100\n",
    "ASYNC_STEPS_PER_LOOP = 1\n",
    "\n",
    "print(f\"NUM_ITER_STEPS       : {NUM_ITER_STEPS}\")       #  = 50\n",
    "print(f\"STEPS_PER_LOOP       : {STEPS_PER_LOOP}\")       #  = 1\n",
    "print(f\"LOG_INTERVAL         : {LOG_INTERVAL}\")         #  = 10\n",
    "print(f\"CHKPT_INTERVAL       : {CHKPT_INTERVAL}\")       #  = 200\n",
    "print(f\"NUM_EVAL_STEPS       : {NUM_EVAL_STEPS}\")       #  = 100\n",
    "print(f\"ASYNC_STEPS_PER_LOOP : {ASYNC_STEPS_PER_LOOP}\") # = 1"
   ]
  },
  {
   "cell_type": "code",
   "execution_count": 40,
   "id": "ef52a68d-d601-4d64-8365-9df5998fae86",
   "metadata": {},
   "outputs": [
    {
     "data": {
      "text/plain": [
       "12800"
      ]
     },
     "execution_count": 40,
     "metadata": {},
     "output_type": "execute_result"
    }
   ],
   "source": [
    "TOTAL_TRAIN_TAKE = NUM_ITER_STEPS * HPARAMS['batch_size']\n",
    "TOTAL_TRAIN_TAKE"
   ]
  },
  {
   "cell_type": "code",
   "execution_count": 41,
   "id": "c56c7092-b4cb-420c-9b7c-6f1410a740de",
   "metadata": {
    "tags": []
   },
   "outputs": [
    {
     "name": "stdout",
     "output_type": "stream",
     "text": [
      "distribution_strategy: <tensorflow.python.distribute.mirrored_strategy.MirroredStrategy object at 0x7f2acc705c00>\n",
      "train_files: ['gs://rec-bandits-v2-hybrid-vertex-bucket/data/movielens-100k/train/ml-100k-ratings-train-01-of-05.tfrecord', 'gs://rec-bandits-v2-hybrid-vertex-bucket/data/movielens-100k/train/ml-100k-ratings-train-02-of-05.tfrecord', 'gs://rec-bandits-v2-hybrid-vertex-bucket/data/movielens-100k/train/ml-100k-ratings-train-03-of-05.tfrecord', 'gs://rec-bandits-v2-hybrid-vertex-bucket/data/movielens-100k/train/ml-100k-ratings-train-04-of-05.tfrecord']\n",
      "Inpsecting agent policy from train_peram file...\n",
      "agent.policy: <tf_agents.policies.epsilon_greedy_policy.EpsilonGreedyPolicy object at 0x7f29fce30be0>\n",
      "Inpsecting agent policy from train_peram file: Complete\n",
      "setting checkpoint_manager: gs://rec-bandits-v2-hybrid-vertex-bucket/acc-bandits-local-v8-rec-bandits-v2/chkpoint\n",
      "agent.train_step_counter: 0\n",
      "starting train loop...\n",
      "step = 10: loss = 11.8100004196167\n",
      "step = 20: loss = 2.259999990463257\n",
      "step = 30: loss = 1.8700000047683716\n",
      "step = 40: loss = 1.6799999475479126\n",
      "step = 50: loss = 1.559999942779541\n",
      "step = 60: loss = 1.350000023841858\n",
      "step = 70: loss = 1.0199999809265137\n",
      "step = 80: loss = 1.3200000524520874\n",
      "step = 90: loss = 1.1200000047683716\n",
      "step = 100: loss = 1.2200000286102295\n",
      "runtime_mins: 0\n",
      "saved trained policy to: gs://rec-bandits-v2-hybrid-vertex-bucket/acc-bandits-local-v8-rec-bandits-v2/run-20240220-021031/artifacts\n",
      "saved trained policy to: gs://rec-bandits-v2-hybrid-vertex-bucket/acc-bandits-local-v8-rec-bandits-v2/chkpoint\n",
      "complete train job in 0 minutes\n"
     ]
    }
   ],
   "source": [
    "#start the timer and training\n",
    "start_time = time.time()\n",
    "\n",
    "# Reset the train step\n",
    "# agent.train_step_counter.assign(0)\n",
    "\n",
    "metric_results, agent = train_perarm.train_perarm(\n",
    "    agent = agent,\n",
    "    reward_spec = reward_tensor_spec,\n",
    "    epsilon = HPARAMS['epsilon'],\n",
    "    global_dim = GLOBAL_DIM,\n",
    "    per_arm_dim = PER_ARM_DIM,\n",
    "    num_iterations = NUM_ITER_STEPS,\n",
    "    steps_per_loop = STEPS_PER_LOOP,\n",
    "    num_eval_steps = NUM_EVAL_STEPS,\n",
    "    # data\n",
    "    batch_size = HPARAMS['batch_size'],\n",
    "    eval_batch_size = HPARAMS['eval_batch_size'],\n",
    "    # functions\n",
    "    _trajectory_fn = _trajectory_fn,\n",
    "    # _run_bandit_eval_fn = _run_bandit_eval,\n",
    "    # train intervals\n",
    "    chkpt_interval = CHKPT_INTERVAL,\n",
    "    log_interval = LOG_INTERVAL,\n",
    "    # dirs\n",
    "    bucket_name = BUCKET_NAME,\n",
    "    data_dir_prefix_path = f\"{DATA_GCS_PREFIX}/{DATA_TAG}\",\n",
    "    log_dir = LOG_DIR,\n",
    "    model_dir = ARTIFACTS_DIR,\n",
    "    # root_dir = ROOT_DIR,\n",
    "    chkpoint_dir = CHECKPT_DIR,\n",
    "    async_steps_per_loop = ASYNC_STEPS_PER_LOOP,\n",
    "    resume_training_loops = False,\n",
    "    use_gpu = True,\n",
    "    use_tpu = False,\n",
    "    profiler = True,\n",
    "    global_step = global_step,\n",
    "    total_train_take = TOTAL_TRAIN_TAKE, # TODO - remove?\n",
    "    train_summary_writer = train_summary_writer,\n",
    "    # additional_metrics = metrics,\n",
    "    cache_train_data = False,\n",
    "    strategy = distribution_strategy,\n",
    "    # saver=saver,\n",
    ")\n",
    "\n",
    "end_time = time.time()\n",
    "runtime_mins = int((end_time - start_time) / 60)\n",
    "print(f\"complete train job in {runtime_mins} minutes\")"
   ]
  },
  {
   "cell_type": "markdown",
   "id": "cd2e4260-97e3-4ad4-a429-6745f887769b",
   "metadata": {},
   "source": [
    "## Evaluate Train job"
   ]
  },
  {
   "cell_type": "code",
   "execution_count": 42,
   "id": "26b0aaf4-3f62-47a3-8cd7-fc729b4128e6",
   "metadata": {},
   "outputs": [
    {
     "data": {
      "text/plain": [
       "1.2166991"
      ]
     },
     "execution_count": 42,
     "metadata": {},
     "output_type": "execute_result"
    }
   ],
   "source": [
    "# len(metric_results)\n",
    "metric_results[-1]"
   ]
  },
  {
   "cell_type": "code",
   "execution_count": 43,
   "id": "816f16c3-cbcb-40a3-820e-50917f29fd63",
   "metadata": {},
   "outputs": [
    {
     "data": {
      "text/plain": [
       "15.636248"
      ]
     },
     "execution_count": 43,
     "metadata": {},
     "output_type": "execute_result"
    }
   ],
   "source": [
    "metric_results[0]"
   ]
  },
  {
   "cell_type": "code",
   "execution_count": 44,
   "id": "dd21d3b0-b922-446f-991b-488149e66938",
   "metadata": {},
   "outputs": [
    {
     "data": {
      "image/png": "[encoded data removed]",
      "text/plain": [
       "<Figure size 640x480 with 1 Axes>"
      ]
     },
     "metadata": {},
     "output_type": "display_data"
    }
   ],
   "source": [
    "import matplotlib.pyplot as plt\n",
    "\n",
    "plt.plot(metric_results)\n",
    "plt.ylabel('loss')\n",
    "plt.show()"
   ]
  },
  {
   "cell_type": "markdown",
   "id": "0f923259-8cca-4a7b-9e4e-8ec9b543f34a",
   "metadata": {},
   "source": [
    "### GPU profiling"
   ]
  },
  {
   "cell_type": "markdown",
   "id": "e9ba9a3a-bb07-4619-88f0-34cb08fbdad1",
   "metadata": {},
   "source": [
    "#### Load TensorBoard\n",
    "\n",
    "> on the right-hand side, find `PROFILE` in the drop down:\n",
    "\n",
    "<img src=\"imgs/getting_profiler.png\" \n",
    "     align=\"center\" \n",
    "     width=\"850\"\n",
    "     height=\"850\"/>\n",
    "     \n",
    "<!-- tf_vertex_agents/imgs/getting_profiler.png -->"
   ]
  },
  {
   "cell_type": "code",
   "execution_count": 45,
   "id": "b1b61b02-8ca0-4d1c-9bf8-4914715611d3",
   "metadata": {},
   "outputs": [
    {
     "data": {
      "text/plain": [
       "'gs://rec-bandits-v2-hybrid-vertex-bucket/acc-bandits-local-v8-rec-bandits-v2/run-20240220-021031/logs'"
      ]
     },
     "execution_count": 45,
     "metadata": {},
     "output_type": "execute_result"
    }
   ],
   "source": [
    "LOG_DIR #= \"gs://rec-bandits-v2-hybrid-vertex-bucket/acc-bandits-local-v7-rec-bandits-v2/run-20240213-155909/logs\""
   ]
  },
  {
   "cell_type": "code",
   "execution_count": 46,
   "id": "f03fe778-ebf1-4237-a269-d70639b4f984",
   "metadata": {},
   "outputs": [
    {
     "name": "stdout",
     "output_type": "stream",
     "text": [
      "Known TensorBoard instances:\n",
      "  - port 6006: logdir gs://rec-bandits-v2-hybrid-vertex-bucket/02b-deep-bandits-rec-bandits-v2/run-20240214-180454/logs (started 5 days, 7:51:00 ago; pid 3029265)\n"
     ]
    }
   ],
   "source": [
    "from tensorboard import notebook\n",
    "notebook.list() # View open TensorBoard instances"
   ]
  },
  {
   "cell_type": "code",
   "execution_count": 47,
   "id": "ae8de567-c152-4deb-99dc-54ed840c9e37",
   "metadata": {},
   "outputs": [],
   "source": [
    "# %load_ext tensorboard\n",
    "%reload_ext tensorboard"
   ]
  },
  {
   "cell_type": "code",
   "execution_count": 48,
   "id": "e9ba7b2d-3ee7-478a-b634-c809a895103d",
   "metadata": {},
   "outputs": [
    {
     "data": {
      "text/html": [
       "\n",
       "      <iframe id=\"tensorboard-frame-e2a81bb49b829523\" width=\"100%\" height=\"800\" frameborder=\"0\">\n",
       "      </iframe>\n",
       "      <script>\n",
       "        (function() {\n",
       "          const frame = document.getElementById(\"tensorboard-frame-e2a81bb49b829523\");\n",
       "          const url = new URL(\"/proxy/6006/\", window.location);\n",
       "          const port = 0;\n",
       "          if (port) {\n",
       "            url.port = port;\n",
       "          }\n",
       "          frame.src = url;\n",
       "        })();\n",
       "      </script>\n",
       "    "
      ],
      "text/plain": [
       "<IPython.core.display.HTML object>"
      ]
     },
     "metadata": {},
     "output_type": "display_data"
    }
   ],
   "source": [
    "%tensorboard --logdir=$LOG_DIR"
   ]
  },
  {
   "cell_type": "markdown",
   "id": "91d8a19f-c56e-4176-b29f-b62c1a3979e8",
   "metadata": {},
   "source": [
    "**Finished**"
   ]
  }
 ],
 "metadata": {
  "environment": {
   "kernel": "python3",
   "name": "tf2-gpu.2-13.m112",
   "type": "gcloud",
   "uri": "gcr.io/deeplearning-platform-release/tf2-gpu.2-13:m112"
  },
  "kernelspec": {
   "display_name": "Python 3",
   "language": "python",
   "name": "python3"
  },
  "language_info": {
   "codemirror_mode": {
    "name": "ipython",
    "version": 3
   },
   "file_extension": ".py",
   "mimetype": "text/x-python",
   "name": "python",
   "nbconvert_exporter": "python",
   "pygments_lexer": "ipython3",
   "version": "3.10.12"
  }
 },
 "nbformat": 4,
 "nbformat_minor": 5
}
