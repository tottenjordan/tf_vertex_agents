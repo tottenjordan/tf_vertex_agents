{
 "cells": [
  {
   "cell_type": "markdown",
   "id": "64583cdb-2502-4f40-a254-8fa68abe7a32",
   "metadata": {},
   "source": [
    "# Build custom container for Vertex training"
   ]
  },
  {
   "cell_type": "code",
   "execution_count": 1,
   "id": "4e1beb37-0c48-4110-8ca0-24ab78c72b39",
   "metadata": {},
   "outputs": [
    {
     "name": "stdout",
     "output_type": "stream",
     "text": [
      "/home/jupyter/tf_vertex_agents/02-supervised-to-bandit-training\n"
     ]
    }
   ],
   "source": [
    "!pwd"
   ]
  },
  {
   "cell_type": "markdown",
   "id": "66298299-d4ad-460e-8ab3-ea9fbc012086",
   "metadata": {},
   "source": [
    "## Load env config\n",
    "\n",
    "* use the prefix from `00-env-setup`"
   ]
  },
  {
   "cell_type": "code",
   "execution_count": 2,
   "id": "f1d2542f-d87b-436d-b4bb-08edcbb532ee",
   "metadata": {},
   "outputs": [
    {
     "name": "stdout",
     "output_type": "stream",
     "text": [
      "PREFIX: rec-bandits-v2\n"
     ]
    }
   ],
   "source": [
    "VERSION        = \"v2\"                       # TODO\n",
    "PREFIX         = f'rec-bandits-{VERSION}'   # TODO\n",
    "\n",
    "print(f\"PREFIX: {PREFIX}\")"
   ]
  },
  {
   "cell_type": "code",
   "execution_count": 4,
   "id": "35449112-3c26-4ea9-8c3a-21c283951350",
   "metadata": {},
   "outputs": [
    {
     "name": "stdout",
     "output_type": "stream",
     "text": [
      "\n",
      "PROJECT_ID               = \"hybrid-vertex\"\n",
      "PROJECT_NUM              = \"934903580331\"\n",
      "LOCATION                 = \"us-central1\"\n",
      "\n",
      "REGION                   = \"us-central1\"\n",
      "BQ_LOCATION              = \"US\"\n",
      "VPC_NETWORK_NAME         = \"ucaip-haystack-vpc-network\"\n",
      "VERTEX_SA                = \"934903580331-compute@developer.gserviceaccount.com\"\n",
      "\n",
      "PREFIX                   = \"rec-bandits-v2\"\n",
      "VERSION                  = \"v2\"\n",
      "\n",
      "BUCKET_NAME              = \"rec-bandits-v2-hybrid-vertex-bucket\"\n",
      "BUCKET_URI               = \"gs://rec-bandits-v2-hybrid-vertex-bucket\"\n",
      "DATA_GCS_PREFIX          = \"data\"\n",
      "DATA_PATH                = \"gs://rec-bandits-v2-hybrid-vertex-bucket/data\"\n",
      "VOCAB_SUBDIR             = \"vocabs\"\n",
      "VOCAB_FILENAME           = \"vocab_dict.pkl\"\n",
      "\n",
      "VPC_NETWORK_FULL         = \"projects/934903580331/global/networks/ucaip-haystack-vpc-network\"\n",
      "\n",
      "BIGQUERY_DATASET_NAME    = \"mvlens_rec_bandits_v2\"\n",
      "BIGQUERY_TABLE_NAME      = \"training_dataset\"\n",
      "\n",
      "REPOSITORY               = \"rl-movielens-rec-bandits-v2\"\n",
      "\n",
      "DOCKERNAME_01            = \"Dockerfile_train_my_perarm_env\"\n",
      "IMAGE_NAME_01            = \"train-my-perarm-env-v2\"\n",
      "IMAGE_URI_01             = \"gcr.io/hybrid-vertex/train-my-perarm-env-v2\"\n",
      "\n",
      "DOCKERNAME_02            = \"Dockerfile_perarm_feats\"\n",
      "IMAGE_NAME_02            = \"train-perarm-feats-v2\"\n",
      "IMAGE_URI_02             = \"gcr.io/hybrid-vertex/train-perarm-feats-v2\"\n",
      "\n",
      "DOCKERNAME_03            = \"Dockerfile_ranking_bandit\"\n",
      "IMAGE_NAME_03            = \"train-rank-bandit-v2\"\n",
      "IMAGE_URI_03             = \"gcr.io/hybrid-vertex/train-rank-bandit-v2\"\n",
      "\n",
      "DOCKERNAME_04            = \"Dockerfile_train_bandit_e2e\"\n",
      "IMAGE_NAME_04            = \"train-mab-e2e-v2\"\n",
      "IMAGE_URI_04             = \"gcr.io/hybrid-vertex/train-mab-e2e-v2\"\n",
      "\n",
      "DOCKERNAME_04_pred       = \"Dockerfile_pred_bandit_e2e\"\n",
      "IMAGE_NAME_04_pred       = \"pred-mab-e2e-v2\"\n",
      "IMAGE_URI_04_pred        = \"gcr.io/hybrid-vertex/pred-mab-e2e-v2\"\n",
      "\n",
      "REMOTE_IMAGE_NAME        = \"us-central1-docker.pkg.dev/hybrid-vertex/rl-movielens-rec-bandits-v2/local_docker_tfa\"\n",
      "REPO_DOCKER_PATH_PREFIX  = \"src\"\n",
      "\n"
     ]
    }
   ],
   "source": [
    "# staging GCS\n",
    "GCP_PROJECTS             = !gcloud config get-value project\n",
    "PROJECT_ID               = GCP_PROJECTS[0]\n",
    "\n",
    "# GCS bucket and paths\n",
    "BUCKET_NAME              = f'{PREFIX}-{PROJECT_ID}-bucket'\n",
    "BUCKET_URI               = f'gs://{BUCKET_NAME}'\n",
    "\n",
    "config = !gsutil cat {BUCKET_URI}/config/notebook_env.py\n",
    "print(config.n)\n",
    "exec(config.n)"
   ]
  },
  {
   "cell_type": "code",
   "execution_count": 5,
   "id": "8b16af06-e188-4f4e-a04b-4e0eb8873ca1",
   "metadata": {},
   "outputs": [],
   "source": [
    "# ! gsutil ls $BUCKET_URI"
   ]
  },
  {
   "cell_type": "markdown",
   "id": "be79c652-45c8-4b5f-b410-4908829375a3",
   "metadata": {},
   "source": [
    "## imports"
   ]
  },
  {
   "cell_type": "code",
   "execution_count": 6,
   "id": "92272ed8-bfb5-4b40-b7f4-cdbe029f3bf6",
   "metadata": {},
   "outputs": [],
   "source": [
    "import os\n",
    "os.environ['TF_CPP_MIN_LOG_LEVEL'] = '2'"
   ]
  },
  {
   "cell_type": "markdown",
   "id": "261a452d-8ce7-427b-8091-d7d41c57e556",
   "metadata": {},
   "source": [
    "# Build Image"
   ]
  },
  {
   "cell_type": "code",
   "execution_count": 7,
   "id": "d192a4dd-b3e1-4c48-b69f-fd022078e85e",
   "metadata": {},
   "outputs": [],
   "source": [
    "# !tree src"
   ]
  },
  {
   "cell_type": "markdown",
   "id": "5b9bdef1-ac23-49be-96fd-25795f483643",
   "metadata": {},
   "source": [
    "## Container Image Variables"
   ]
  },
  {
   "cell_type": "code",
   "execution_count": 8,
   "id": "eedbe408-e2fe-4944-912f-f2b1f6587440",
   "metadata": {},
   "outputs": [
    {
     "name": "stdout",
     "output_type": "stream",
     "text": [
      "DOCKERNAME_02     = Dockerfile_perarm_feats\n",
      "REPOSITORY        = rl-movielens-rec-bandits-v2\n",
      "IMAGE_NAME_02     = train-perarm-feats-v2\n",
      "REMOTE_IMAGE_NAME = us-central1-docker.pkg.dev/hybrid-vertex/rl-movielens-rec-bandits-v2/local_docker_tfa\n",
      "IMAGE_URI_02      = gcr.io/hybrid-vertex/train-perarm-feats-v2\n"
     ]
    }
   ],
   "source": [
    "# DOCKERNAME = DOCKERNAME_02\n",
    "# IMAGE_NAME = IMAGE_NAME_02\n",
    "# IMAGE_URI = IMAGE_URI_02\n",
    "\n",
    "print(f\"DOCKERNAME_02     = {DOCKERNAME_02}\")\n",
    "print(f\"REPOSITORY        = {REPOSITORY}\")\n",
    "print(f\"IMAGE_NAME_02     = {IMAGE_NAME_02}\")\n",
    "print(f\"REMOTE_IMAGE_NAME = {REMOTE_IMAGE_NAME}\")\n",
    "print(f\"IMAGE_URI_02      = {IMAGE_URI_02}\")"
   ]
  },
  {
   "cell_type": "markdown",
   "id": "bf953a8e-d282-4d7b-9a7d-fd0bee28c70a",
   "metadata": {},
   "source": [
    "## Create Artifact Repository\n",
    "\n",
    "If you don't have an existing artifact repository, create one using the gcloud command below"
   ]
  },
  {
   "cell_type": "code",
   "execution_count": 9,
   "id": "f8288932-054a-46e6-90e8-326e015f2115",
   "metadata": {},
   "outputs": [],
   "source": [
    "# ! gcloud artifacts repositories create $REPOSITORY --repository-format=docker --location=$LOCATION"
   ]
  },
  {
   "cell_type": "markdown",
   "id": "cb1374bc-7b85-4e65-86ab-2721ce4908b3",
   "metadata": {},
   "source": [
    "## Create Dockerfile"
   ]
  },
  {
   "cell_type": "code",
   "execution_count": 10,
   "id": "88a8b25d-e55c-4a00-ab0e-1151eae8eaea",
   "metadata": {},
   "outputs": [
    {
     "data": {
      "text/plain": [
       "'/home/jupyter/tf_vertex_agents'"
      ]
     },
     "execution_count": 10,
     "metadata": {},
     "output_type": "execute_result"
    }
   ],
   "source": [
    "import os\n",
    "\n",
    "root_path = '..'\n",
    "os.chdir(root_path)\n",
    "os.getcwd()"
   ]
  },
  {
   "cell_type": "markdown",
   "id": "2bffd9bb-6d22-4d4e-9eb8-893472702837",
   "metadata": {},
   "source": [
    "## Create train image\n",
    "\n",
    "* see [example Dockerfile for GPU](https://github.com/GoogleCloudPlatform/cloudml-samples/blob/main/pytorch/containers/quickstart/mnist/Dockerfile-gpu) jobs in Vertex AI\n",
    "* see deep learning container [example here](https://cloud.google.com/deep-learning-containers/docs/derivative-container), and here for [available DL containers](https://cloud.google.com/deep-learning-containers/docs/choosing-container#versions)\n",
    "* installing [NVIDIA driver](https://docs.nvidia.com/datacenter/cloud-native/container-toolkit/latest/install-guide.htmlhttps://docs.nvidia.com/datacenter/cloud-native/container-toolkit/latest/install-guide.html)\n",
    "* [Tensorflow GPU images and compatiblity](https://www.tensorflow.org/install/source#gpuhttps://www.tensorflow.org/install/source#gpu)\n",
    "> `tensorflow 2.15` compatible with `CUDA 12.2` and `cuDNN 8.9`"
   ]
  },
  {
   "cell_type": "markdown",
   "id": "fced7fbd-9036-4045-9b19-00ded1b05fef",
   "metadata": {},
   "source": [
    "### GPU"
   ]
  },
  {
   "cell_type": "code",
   "execution_count": 11,
   "id": "699f6b9e-1ade-495c-8825-a3bf4d5def47",
   "metadata": {
    "tags": []
   },
   "outputs": [],
   "source": [
    "# !gcloud container images list --repository=\"us-docker.pkg.dev/deeplearning-platform-release/gcr.io\""
   ]
  },
  {
   "cell_type": "code",
   "execution_count": 12,
   "id": "7022f8d1-43d0-4291-91b8-4cb27491c2e5",
   "metadata": {},
   "outputs": [
    {
     "name": "stdout",
     "output_type": "stream",
     "text": [
      "gpu_profiling : True\n"
     ]
    }
   ],
   "source": [
    "gpu_profiling = True # True | False\n",
    "\n",
    "print(f\"gpu_profiling : {gpu_profiling}\")"
   ]
  },
  {
   "cell_type": "code",
   "execution_count": 13,
   "id": "4596864b-f059-438d-a04f-7416c436b644",
   "metadata": {},
   "outputs": [
    {
     "name": "stdout",
     "output_type": "stream",
     "text": [
      "TRAIN_BASE_IMAGE : gcr.io/deeplearning-platform-release/tf-gpu.2-13.py310\n",
      "NVTOP_RUN        : RUN apt update && apt -y install nvtop\n",
      "RUN_EXPORT       : RUN export PYTHONPATH=${PYTHONPATH}:${APP_HOME}/\n"
     ]
    }
   ],
   "source": [
    "if gpu_profiling:\n",
    "    # TRAIN_BASE_IMAGE = 'tensorflow/tensorflow:2.14.0-gpu'\n",
    "    # TRAIN_BASE_IMAGE = 'tensorflow/tensorflow:2.15.0-gpu'\n",
    "    # TRAIN_BASE_IMAGE = \"gcr.io/deeplearning-platform-release/tf-gpu.2-15\"     # need to test\n",
    "    TRAIN_BASE_IMAGE = 'gcr.io/deeplearning-platform-release/tf-gpu.2-13.py310' # works m111\n",
    "    NVTOP_RUN = 'RUN apt update && apt -y install nvtop'\n",
    "    # NVTOP_RUN = 'RUN apt-get update && apt-get -y install nvtop'\n",
    "else:\n",
    "    TRAIN_BASE_IMAGE = 'python:3.10'\n",
    "    NVTOP_RUN = \"\"\n",
    "    \n",
    "RUN_EXPORT = \"RUN export PYTHONPATH=${PYTHONPATH}:${APP_HOME}/\"\n",
    "    \n",
    "print(f\"TRAIN_BASE_IMAGE : {TRAIN_BASE_IMAGE}\")\n",
    "print(f\"NVTOP_RUN        : {NVTOP_RUN}\")\n",
    "print(f\"RUN_EXPORT       : {RUN_EXPORT}\")"
   ]
  },
  {
   "cell_type": "code",
   "execution_count": 14,
   "id": "1cd12da5-6845-4fa0-a99a-c122972ad76b",
   "metadata": {
    "tags": []
   },
   "outputs": [
    {
     "name": "stdout",
     "output_type": "stream",
     "text": [
      "\n",
      "FROM gcr.io/deeplearning-platform-release/tf-gpu.2-13.py310\n",
      "\n",
      "ENV PYTHONUNBUFFERED True\n",
      "\n",
      "ENV APP_HOME /workspace\n",
      "\n",
      "WORKDIR $APP_HOME\n",
      "\n",
      "COPY /requirements.txt $APP_HOME/requirements.txt\n",
      "\n",
      "RUN pip install --upgrade pip\n",
      "RUN pip install --no-cache-dir -r $APP_HOME/requirements.txt\n",
      "\n",
      "RUN ls $APP_HOME\n",
      "\n",
      "COPY src/reward_factory.py $APP_HOME/src/reward_factory.py\n",
      "COPY src/train_utils.py $APP_HOME/src/train_utils.py\n",
      "COPY src/agents $APP_HOME/src/agents\n",
      "COPY src/networks $APP_HOME/src/networks\n",
      "COPY src/trainer $APP_HOME/src/trainer\n",
      "COPY src/data $APP_HOME/src/data\n",
      "\n",
      "RUN apt update && apt -y install nvtop\n",
      "\n",
      "RUN ls $APP_HOME\n",
      "\n",
      "RUN export PYTHONPATH=${PYTHONPATH}:${APP_HOME}/\n",
      "\n",
      "RUN pip freeze\n",
      "\n",
      "# Sets up the entry point to invoke the task.\n",
      "ENTRYPOINT [\"python3\", \"-m\", \"src.trainer.task\"]\n",
      "\n"
     ]
    }
   ],
   "source": [
    "dockerfile = f'''\n",
    "FROM {TRAIN_BASE_IMAGE}\n",
    "\n",
    "ENV PYTHONUNBUFFERED True\n",
    "\n",
    "ENV APP_HOME /workspace\n",
    "\n",
    "WORKDIR $APP_HOME\n",
    "\n",
    "COPY /requirements.txt $APP_HOME/requirements.txt\n",
    "\n",
    "RUN pip install --upgrade pip\n",
    "RUN pip install --no-cache-dir -r $APP_HOME/requirements.txt\n",
    "\n",
    "RUN ls $APP_HOME\n",
    "\n",
    "COPY src/reward_factory.py $APP_HOME/src/reward_factory.py\n",
    "COPY src/train_utils.py $APP_HOME/src/train_utils.py\n",
    "COPY src/agents $APP_HOME/src/agents\n",
    "COPY src/networks $APP_HOME/src/networks\n",
    "COPY src/trainer $APP_HOME/src/trainer\n",
    "COPY src/data $APP_HOME/src/data\n",
    "\n",
    "{NVTOP_RUN}\n",
    "\n",
    "RUN ls $APP_HOME\n",
    "\n",
    "{RUN_EXPORT}\n",
    "\n",
    "RUN pip freeze\n",
    "\n",
    "# Sets up the entry point to invoke the task.\n",
    "ENTRYPOINT [\"python3\", \"-m\", \"src.trainer.task\"]\n",
    "'''\n",
    "print(dockerfile)"
   ]
  },
  {
   "cell_type": "markdown",
   "id": "41fa07e1-b8f1-43de-98a9-98b9e7542d29",
   "metadata": {},
   "source": [
    "## Write dockerfile"
   ]
  },
  {
   "cell_type": "code",
   "execution_count": 15,
   "id": "1cc6cb35-fcb6-4b4d-a665-b6c038ca6f29",
   "metadata": {},
   "outputs": [],
   "source": [
    "with open(f'{DOCKERNAME_02}', 'w') as f:\n",
    "    f.write(dockerfile)"
   ]
  },
  {
   "cell_type": "markdown",
   "id": "e04bd12e-c61b-4a5c-b2cb-b7843642ce0e",
   "metadata": {},
   "source": [
    "## Build image with Cloud Build\n",
    "\n",
    "Building images with Cloud Build is best practices\n",
    "* images are centrally stored and better managed for robust CI/CD\n",
    "* building images on local workbench instance can alter notebook image config (base image for notebooks vs train images are different)\n",
    "* if building locally, consider using virutal environments"
   ]
  },
  {
   "cell_type": "markdown",
   "id": "deb3ef36-2cfe-4199-963b-6c65bd0ec621",
   "metadata": {
    "tags": []
   },
   "source": [
    "#### set `.gcloudignore`\n",
    "* to adjust this see the `gcloudignore` section at the end of `00-env-setup.ipynb` notebook"
   ]
  },
  {
   "cell_type": "code",
   "execution_count": 27,
   "id": "857c7a59-92ec-49c0-bb6f-cfd77ecbb378",
   "metadata": {
    "tags": []
   },
   "outputs": [
    {
     "name": "stdout",
     "output_type": "stream",
     "text": [
      "Overwriting .gcloudignore\n"
     ]
    }
   ],
   "source": [
    "%%writefile .gcloudignore\n",
    ".gcloudignore\n",
    "WIP/*\n",
    "imgs/*\n",
    "learning/*\n",
    "*.pkl\n",
    "*.png\n",
    "*.ipynb\n",
    ".git\n",
    ".github\n",
    ".gitignore\n",
    ".DS_Store\n",
    "*.md\n",
    "*.tfrecord\n",
    ".ipynb_checkpoints/*\n",
    "*cpython-37.pyc\n",
    "**.cpython-310.pyc\n",
    "*/__pycache__/*\n",
    "src/ranking/*\n",
    "src/archive/*\n",
    "05-online-learning/*\n",
    "04-pipelines/*\n",
    "03-ranking/*\n",
    "01-baseline-perarm-bandit/*\n",
    "00-data-prep-eda/*\n",
    "src/pred/*\n",
    "Dockerfile_perarm_feats_tpu\n",
    "Dockerfile_predict_mab_02\n",
    "vertex_env/*\n",
    "credentials.json\n",
    "*/cpr_dir/*\n",
    "*/local_model_dir/*\n",
    "src/data_preprocessor/*\n",
    "src/data/local_data/*"
   ]
  },
  {
   "cell_type": "code",
   "execution_count": 29,
   "id": "9f9a8891-faa3-4659-a36e-521bf9f186e7",
   "metadata": {
    "tags": []
   },
   "outputs": [],
   "source": [
    "# check eligble files\n",
    "# !gcloud meta list-files-for-upload"
   ]
  },
  {
   "cell_type": "markdown",
   "id": "eb84e545-d287-431b-89c0-ab48ab1b59d9",
   "metadata": {
    "tags": []
   },
   "source": [
    "### Submit container to Cloud Build"
   ]
  },
  {
   "cell_type": "code",
   "execution_count": 30,
   "id": "9e3b8e87-3e4c-410c-a554-3be3b8ed3e93",
   "metadata": {},
   "outputs": [
    {
     "name": "stdout",
     "output_type": "stream",
     "text": [
      "DOCKERNAME_02 : Dockerfile_perarm_feats\n",
      "IMAGE_URI_02  : gcr.io/hybrid-vertex/train-perarm-feats-v2\n",
      "FILE_LOCATION : .\n",
      "MACHINE_TYPE  : e2-highcpu-32\n"
     ]
    }
   ],
   "source": [
    "# image definitions for training\n",
    "MACHINE_TYPE            ='e2-highcpu-32'\n",
    "FILE_LOCATION           = \".\" # './src'\n",
    "\n",
    "print(f\"DOCKERNAME_02 : {DOCKERNAME_02}\")\n",
    "print(f\"IMAGE_URI_02  : {IMAGE_URI_02}\")\n",
    "print(f\"FILE_LOCATION : {FILE_LOCATION}\")\n",
    "print(f\"MACHINE_TYPE  : {MACHINE_TYPE}\")"
   ]
  },
  {
   "cell_type": "code",
   "execution_count": 31,
   "id": "5d11ac85-16f7-4050-8632-cb6e4337a65a",
   "metadata": {
    "collapsed": true,
    "jupyter": {
     "outputs_hidden": true
    },
    "tags": []
   },
   "outputs": [
    {
     "name": "stdout",
     "output_type": "stream",
     "text": [
      "Creating temporary tarball archive of 34 file(s) totalling 260.4 KiB before compression.\n",
      "Uploading tarball of [.] to [gs://hybrid-vertex_cloudbuild/source/1710361828.20019-c7eb6a0edeb347bc9c167eaf34861ee9.tgz]\n",
      "Created [https://cloudbuild.googleapis.com/v1/projects/hybrid-vertex/locations/global/builds/48255c57-8d3a-49fb-80ed-f44f40b49eb6].\n",
      "Logs are available at [ https://console.cloud.google.com/cloud-build/builds/48255c57-8d3a-49fb-80ed-f44f40b49eb6?project=934903580331 ].\n",
      "----------------------------- REMOTE BUILD OUTPUT ------------------------------\n",
      "starting build \"48255c57-8d3a-49fb-80ed-f44f40b49eb6\"\n",
      "\n",
      "FETCHSOURCE\n",
      "Fetching storage object: gs://hybrid-vertex_cloudbuild/source/1710361828.20019-c7eb6a0edeb347bc9c167eaf34861ee9.tgz#1710361828856620\n",
      "Copying gs://hybrid-vertex_cloudbuild/source/1710361828.20019-c7eb6a0edeb347bc9c167eaf34861ee9.tgz#1710361828856620...\n",
      "/ [1 files][ 60.2 KiB/ 60.2 KiB]                                                \n",
      "Operation completed over 1 objects/60.2 KiB.\n",
      "BUILD\n",
      "Already have image (with digest): gcr.io/cloud-builders/docker\n",
      "Sending build context to Docker daemon  318.5kB\n",
      "Step 1/19 : FROM gcr.io/deeplearning-platform-release/tf-gpu.2-13.py310\n",
      "latest: Pulling from deeplearning-platform-release/tf-gpu.2-13.py310\n",
      "aece8493d397: Pulling fs layer\n",
      "5e3b7ee77381: Pulling fs layer\n",
      "5bd037f007fd: Pulling fs layer\n",
      "4cda774ad2ec: Pulling fs layer\n",
      "775f22adee62: Pulling fs layer\n",
      "263fc748118f: Pulling fs layer\n",
      "16c36d0187d0: Pulling fs layer\n",
      "e7a56570655c: Pulling fs layer\n",
      "507fc9045cba: Pulling fs layer\n",
      "23b7d8e07c16: Pulling fs layer\n",
      "922ac8fcb889: Pulling fs layer\n",
      "68075f2beca1: Pulling fs layer\n",
      "609a4b637edc: Pulling fs layer\n",
      "7e0031d35f5f: Pulling fs layer\n",
      "4f4fb700ef54: Pulling fs layer\n",
      "f8911f3b89d6: Pulling fs layer\n",
      "6a67d782338b: Pulling fs layer\n",
      "3bfbaeb13304: Pulling fs layer\n",
      "0947e54f5dea: Pulling fs layer\n",
      "d145428dc0fc: Pulling fs layer\n",
      "f7c07500e1f9: Pulling fs layer\n",
      "0b6f69807e8f: Pulling fs layer\n",
      "f7d62af6a8e2: Pulling fs layer\n",
      "f8cd098dee27: Pulling fs layer\n",
      "bf5624593d23: Pulling fs layer\n",
      "c1b9c1d8e05a: Pulling fs layer\n",
      "3fb611b54b88: Pulling fs layer\n",
      "f8911f3b89d6: Waiting\n",
      "2f12758b43c9: Pulling fs layer\n",
      "e18e38b665ba: Pulling fs layer\n",
      "6a67d782338b: Waiting\n",
      "9873f930afe5: Pulling fs layer\n",
      "16c36d0187d0: Waiting\n",
      "3bfbaeb13304: Waiting\n",
      "0e4ebee4d326: Pulling fs layer\n",
      "e7a56570655c: Waiting\n",
      "0947e54f5dea: Waiting\n",
      "507fc9045cba: Waiting\n",
      "d145428dc0fc: Waiting\n",
      "f1918dc61a2e: Pulling fs layer\n",
      "709872627553: Pulling fs layer\n",
      "7e0031d35f5f: Waiting\n",
      "fcbc00540e55: Pulling fs layer\n",
      "609a4b637edc: Waiting\n",
      "3440f006bf75: Pulling fs layer\n",
      "bc8dd17cbf90: Pulling fs layer\n",
      "23b7d8e07c16: Waiting\n",
      "4bbe534d60f6: Pulling fs layer\n",
      "d18fe370c411: Pulling fs layer\n",
      "b02a0b9930e6: Pulling fs layer\n",
      "6d4e0dc35264: Pulling fs layer\n",
      "4d1ffb5e3984: Pulling fs layer\n",
      "cab2f52a05cc: Pulling fs layer\n",
      "922ac8fcb889: Waiting\n",
      "775f22adee62: Waiting\n",
      "68075f2beca1: Waiting\n",
      "0e4ebee4d326: Waiting\n",
      "f1918dc61a2e: Waiting\n",
      "709872627553: Waiting\n",
      "2f12758b43c9: Waiting\n",
      "e18e38b665ba: Waiting\n",
      "d18fe370c411: Waiting\n",
      "f7c07500e1f9: Waiting\n",
      "f8cd098dee27: Waiting\n",
      "bf5624593d23: Waiting\n",
      "0b6f69807e8f: Waiting\n",
      "4cda774ad2ec: Waiting\n",
      "f7d62af6a8e2: Waiting\n",
      "c1b9c1d8e05a: Waiting\n",
      "cab2f52a05cc: Waiting\n",
      "3440f006bf75: Waiting\n",
      "b02a0b9930e6: Waiting\n",
      "6d4e0dc35264: Waiting\n",
      "4d1ffb5e3984: Waiting\n",
      "4f4fb700ef54: Waiting\n",
      "3fb611b54b88: Waiting\n",
      "fcbc00540e55: Waiting\n",
      "bc8dd17cbf90: Waiting\n",
      "4bbe534d60f6: Waiting\n",
      "263fc748118f: Waiting\n",
      "5e3b7ee77381: Verifying Checksum\n",
      "5e3b7ee77381: Download complete\n",
      "4cda774ad2ec: Verifying Checksum\n",
      "4cda774ad2ec: Download complete\n",
      "775f22adee62: Verifying Checksum\n",
      "775f22adee62: Download complete\n",
      "aece8493d397: Verifying Checksum\n",
      "aece8493d397: Download complete\n",
      "16c36d0187d0: Verifying Checksum\n",
      "16c36d0187d0: Download complete\n",
      "e7a56570655c: Download complete\n",
      "507fc9045cba: Download complete\n",
      "5bd037f007fd: Download complete\n",
      "922ac8fcb889: Verifying Checksum\n",
      "922ac8fcb889: Download complete\n",
      "aece8493d397: Pull complete\n",
      "5e3b7ee77381: Pull complete\n",
      "5bd037f007fd: Pull complete\n",
      "4cda774ad2ec: Pull complete\n",
      "775f22adee62: Pull complete\n",
      "263fc748118f: Verifying Checksum\n",
      "263fc748118f: Download complete\n",
      "609a4b637edc: Verifying Checksum\n",
      "609a4b637edc: Download complete\n",
      "7e0031d35f5f: Download complete\n",
      "68075f2beca1: Verifying Checksum\n",
      "68075f2beca1: Download complete\n",
      "4f4fb700ef54: Verifying Checksum\n",
      "4f4fb700ef54: Download complete\n",
      "6a67d782338b: Verifying Checksum\n",
      "6a67d782338b: Download complete\n",
      "f8911f3b89d6: Verifying Checksum\n",
      "f8911f3b89d6: Download complete\n",
      "0947e54f5dea: Verifying Checksum\n",
      "0947e54f5dea: Download complete\n",
      "3bfbaeb13304: Verifying Checksum\n",
      "3bfbaeb13304: Download complete\n",
      "f7c07500e1f9: Download complete\n",
      "d145428dc0fc: Verifying Checksum\n",
      "d145428dc0fc: Download complete\n",
      "0b6f69807e8f: Download complete\n",
      "f7d62af6a8e2: Verifying Checksum\n",
      "f7d62af6a8e2: Download complete\n",
      "bf5624593d23: Verifying Checksum\n",
      "bf5624593d23: Download complete\n",
      "c1b9c1d8e05a: Verifying Checksum\n",
      "c1b9c1d8e05a: Download complete\n",
      "3fb611b54b88: Download complete\n",
      "2f12758b43c9: Verifying Checksum\n",
      "2f12758b43c9: Download complete\n",
      "e18e38b665ba: Download complete\n",
      "9873f930afe5: Download complete\n",
      "0e4ebee4d326: Verifying Checksum\n",
      "0e4ebee4d326: Download complete\n",
      "f1918dc61a2e: Download complete\n",
      "709872627553: Verifying Checksum\n",
      "709872627553: Download complete\n",
      "fcbc00540e55: Verifying Checksum\n",
      "fcbc00540e55: Download complete\n",
      "3440f006bf75: Verifying Checksum\n",
      "3440f006bf75: Download complete\n",
      "f8cd098dee27: Verifying Checksum\n",
      "f8cd098dee27: Download complete\n",
      "4bbe534d60f6: Verifying Checksum\n",
      "4bbe534d60f6: Download complete\n",
      "23b7d8e07c16: Verifying Checksum\n",
      "23b7d8e07c16: Download complete\n",
      "b02a0b9930e6: Verifying Checksum\n",
      "b02a0b9930e6: Download complete\n",
      "6d4e0dc35264: Verifying Checksum\n",
      "6d4e0dc35264: Download complete\n",
      "4d1ffb5e3984: Verifying Checksum\n",
      "4d1ffb5e3984: Download complete\n",
      "cab2f52a05cc: Verifying Checksum\n",
      "cab2f52a05cc: Download complete\n",
      "bc8dd17cbf90: Verifying Checksum\n",
      "bc8dd17cbf90: Download complete\n",
      "263fc748118f: Pull complete\n",
      "16c36d0187d0: Pull complete\n",
      "e7a56570655c: Pull complete\n",
      "507fc9045cba: Pull complete\n",
      "d18fe370c411: Verifying Checksum\n",
      "d18fe370c411: Download complete\n",
      "23b7d8e07c16: Pull complete\n",
      "922ac8fcb889: Pull complete\n",
      "68075f2beca1: Pull complete\n",
      "609a4b637edc: Pull complete\n",
      "7e0031d35f5f: Pull complete\n",
      "4f4fb700ef54: Pull complete\n",
      "f8911f3b89d6: Pull complete\n",
      "6a67d782338b: Pull complete\n",
      "3bfbaeb13304: Pull complete\n",
      "0947e54f5dea: Pull complete\n",
      "d145428dc0fc: Pull complete\n",
      "f7c07500e1f9: Pull complete\n",
      "0b6f69807e8f: Pull complete\n",
      "f7d62af6a8e2: Pull complete\n",
      "f8cd098dee27: Pull complete\n",
      "bf5624593d23: Pull complete\n",
      "c1b9c1d8e05a: Pull complete\n",
      "3fb611b54b88: Pull complete\n",
      "2f12758b43c9: Pull complete\n",
      "e18e38b665ba: Pull complete\n",
      "9873f930afe5: Pull complete\n",
      "0e4ebee4d326: Pull complete\n",
      "f1918dc61a2e: Pull complete\n",
      "709872627553: Pull complete\n",
      "fcbc00540e55: Pull complete\n",
      "3440f006bf75: Pull complete\n",
      "bc8dd17cbf90: Pull complete\n",
      "4bbe534d60f6: Pull complete\n"
     ]
    }
   ],
   "source": [
    "! gcloud builds submit -q --config ./cloudbuild.yaml \\\n",
    "    --substitutions _DOCKERNAME=$DOCKERNAME_02,_IMAGE_URI=$IMAGE_URI_02,_FILE_LOCATION=$FILE_LOCATION \\\n",
    "    --timeout=2h \\\n",
    "    --machine-type=$MACHINE_TYPE"
   ]
  },
  {
   "cell_type": "markdown",
   "id": "629eb246-f2fc-48a0-8478-4f9c99dddd0b",
   "metadata": {
    "jp-MarkdownHeadingCollapsed": true,
    "tags": []
   },
   "source": [
    "## (Optional) Build Image Locally\n",
    "\n",
    "Building images with Cloud Build is best practices\n",
    "* images are centrally stored and better managed for robust CI/CD\n",
    "* building images on local workbench instance can alter notebook image config (base image for notebooks vs train images are different)\n",
    "* if building locally, consider using virutal environments"
   ]
  },
  {
   "cell_type": "markdown",
   "id": "5278eb39-1dbb-48fd-b872-9cd55643a1ed",
   "metadata": {},
   "source": [
    "Provide a name for your dockerfile and make sure you are authenticated"
   ]
  },
  {
   "cell_type": "code",
   "execution_count": 23,
   "id": "53874306-777f-459f-9250-4a59dbc283a7",
   "metadata": {},
   "outputs": [],
   "source": [
    "# ! gcloud auth configure-docker $REGION-docker.pkg.dev --quiet"
   ]
  },
  {
   "cell_type": "code",
   "execution_count": 24,
   "id": "25faef9c-cb5e-425d-9ee6-7ae8003a95af",
   "metadata": {},
   "outputs": [
    {
     "name": "stdout",
     "output_type": "stream",
     "text": [
      "copy these commands into terminal:\n",
      "\n",
      "virtualenv vertex_env\n",
      "source vertex_env/bin/activate\n"
     ]
    }
   ],
   "source": [
    "print(\"copy these commands into terminal:\\n\")\n",
    "print(f\"virtualenv vertex_env\")\n",
    "print(f\"source vertex_env/bin/activate\")"
   ]
  },
  {
   "cell_type": "code",
   "execution_count": 26,
   "id": "027de7fe-dd2a-4be5-80c4-877f7abe4753",
   "metadata": {},
   "outputs": [
    {
     "name": "stdout",
     "output_type": "stream",
     "text": [
      "copy these commands into terminal:\n",
      "\n",
      "export REMOTE_IMAGE_NAME=us-central1-docker.pkg.dev/hybrid-vertex/rl-movielens-rec-bandits-v2/train-perarm-feats-v2\n",
      "export DOCKERNAME=Dockerfile_perarm_feats\n",
      "docker build -t $REMOTE_IMAGE_NAME -f ./$DOCKERNAME .\n"
     ]
    }
   ],
   "source": [
    "# # set variables if running in terminal\n",
    "print(\"copy these commands into terminal:\\n\")\n",
    "print(f\"export REMOTE_IMAGE_NAME={REMOTE_IMAGE_NAME}\")\n",
    "print(f\"export DOCKERNAME={DOCKERNAME}\")\n",
    "print(f\"docker build -t $REMOTE_IMAGE_NAME -f ./$DOCKERNAME .\")"
   ]
  },
  {
   "cell_type": "code",
   "execution_count": 27,
   "id": "4a82cbe6-0ed5-478f-a38f-e6dedc114e2c",
   "metadata": {
    "tags": []
   },
   "outputs": [],
   "source": [
    "# !docker build -t $REMOTE_IMAGE_NAME -f $DOCKERNAME ."
   ]
  },
  {
   "cell_type": "markdown",
   "id": "a6110439-f66a-4d6b-8105-17a08ce9b8da",
   "metadata": {},
   "source": [
    "### Push container to Registry"
   ]
  },
  {
   "cell_type": "code",
   "execution_count": 28,
   "id": "54a714cf-053c-4f14-b375-2a42ae2092f9",
   "metadata": {},
   "outputs": [
    {
     "name": "stdout",
     "output_type": "stream",
     "text": [
      "copy this command into terminal:\n",
      "\n",
      "docker push $REMOTE_IMAGE_NAME\n"
     ]
    }
   ],
   "source": [
    "# ### push the container to registry\n",
    "\n",
    "print(\"copy this command into terminal:\\n\")\n",
    "print(f\"docker push $REMOTE_IMAGE_NAME\")\n",
    "\n",
    "# !docker push $REMOTE_IMAGE_NAME"
   ]
  },
  {
   "cell_type": "markdown",
   "id": "19bc85f6-a86e-48f2-a040-89f35376d57c",
   "metadata": {},
   "source": [
    "### GPU profiling\n",
    "\n",
    "> enter these commands in the Vertex interactive terminal:\n",
    "\n",
    "```bash\n",
    "sudo apt update\n",
    "sudo apt -y install nvtop\n",
    "```"
   ]
  },
  {
   "cell_type": "markdown",
   "id": "57151dcd-d756-490d-8909-76d06b402a4e",
   "metadata": {
    "jp-MarkdownHeadingCollapsed": true,
    "tags": []
   },
   "source": [
    "## TPU (wip)\n",
    "\n",
    "> TODO \n",
    "\n",
    "* Libtpu [versions](https://cloud.google.com/tpu/docs/supported-tpu-configurations#libtpu_versions)"
   ]
  },
  {
   "cell_type": "code",
   "execution_count": null,
   "id": "11abf5aa-d711-4b32-9af5-8c5e13151ae3",
   "metadata": {},
   "outputs": [],
   "source": [
    "# !gsutil ls gs://cloud-tpu-tpuvm-artifacts/tensorflow/tf-2.15.0\n",
    "# !gsutil ls gs://cloud-tpu-tpuvm-artifacts/tensorflow/tf-2.14.0"
   ]
  },
  {
   "cell_type": "code",
   "execution_count": null,
   "id": "6bea08e3-ea2b-411e-b632-1db406cefdc8",
   "metadata": {},
   "outputs": [],
   "source": [
    "# !gsutil ls gs://cloud-tpu-tpuvm-artifacts/libtpu/1.9.0"
   ]
  },
  {
   "cell_type": "code",
   "execution_count": null,
   "id": "98db58d1-fd25-4c7e-9052-e84c5521b3fc",
   "metadata": {},
   "outputs": [],
   "source": [
    "# dockerfile = f'''\n",
    "# FROM python:3.11\n",
    "\n",
    "# ENV PYTHONUNBUFFERED True\n",
    "\n",
    "# RUN wget https://storage.googleapis.com/cloud-tpu-tpuvm-artifacts/libtpu/1.8.0/libtpu.so -O /lib/libtpu.so\n",
    "# RUN chmod 777 /lib/libtpu.so\n",
    "\n",
    "# RUN wget https://storage.googleapis.com/cloud-tpu-tpuvm-artifacts/tensorflow/tf-2.14.0/tensorflow-2.14.0-cp310-cp310-manylinux_2_17_x86_64.manylinux2014_x86_64.whl\n",
    "# RUN pip3 install tensorflow-2.14.0-cp310-cp310-manylinux_2_17_x86_64.manylinux2014_x86_64.whl\n",
    "# RUN rm tensorflow-2.14.0-cp310-cp310-manylinux_2_17_x86_64.manylinux2014_x86_64.whl\n",
    "\n",
    "# ENV APP_HOME /workspace\n",
    "\n",
    "# WORKDIR $APP_HOME\n",
    "\n",
    "# COPY /requirements.txt $APP_HOME/requirements.txt\n",
    "\n",
    "# RUN pip install --upgrade pip\n",
    "# RUN pip install --no-cache-dir -r $APP_HOME/requirements.txt\n",
    "\n",
    "# RUN ls $APP_HOME\n",
    "\n",
    "# COPY src/perarm_features $APP_HOME/src/perarm_features\n",
    "# COPY src/per_arm_rl $APP_HOME/src/per_arm_rl\n",
    "\n",
    "# RUN ls $APP_HOME\n",
    "\n",
    "# {RUN_EXPORT}\n",
    "\n",
    "# RUN pip freeze\n",
    "\n",
    "# ENV TPU_NAME=local\n",
    "\n",
    "# # Sets up the entry point to invoke the task.\n",
    "# ENTRYPOINT [\"python3\", \"-m\", \"src.perarm_features.task\"]\n",
    "# '''\n",
    "# print(dockerfile)"
   ]
  },
  {
   "cell_type": "markdown",
   "id": "18df8169-e4ed-45fb-9279-85e966bc6f3e",
   "metadata": {},
   "source": [
    "**Finished**"
   ]
  }
 ],
 "metadata": {
  "environment": {
   "kernel": "python3",
   "name": "tf2-gpu.2-13.m112",
   "type": "gcloud",
   "uri": "gcr.io/deeplearning-platform-release/tf2-gpu.2-13:m112"
  },
  "kernelspec": {
   "display_name": "Python 3",
   "language": "python",
   "name": "python3"
  },
  "language_info": {
   "codemirror_mode": {
    "name": "ipython",
    "version": 3
   },
   "file_extension": ".py",
   "mimetype": "text/x-python",
   "name": "python",
   "nbconvert_exporter": "python",
   "pygments_lexer": "ipython3",
   "version": "3.10.12"
  }
 },
 "nbformat": 4,
 "nbformat_minor": 5
}
