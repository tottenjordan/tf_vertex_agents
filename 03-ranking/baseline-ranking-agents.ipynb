{
 "cells": [
  {
   "cell_type": "markdown",
   "id": "f462e3ae-0544-4a09-8345-01fc822192f0",
   "metadata": {},
   "source": [
    "# Contextual Bandits for Ranking with TF-Agents\n",
    "\n",
    "> see [ranking tutorial](https://www.tensorflow.org/agents/tutorials/ranking_tutorial)"
   ]
  },
  {
   "cell_type": "markdown",
   "id": "214b2409-ca72-4a2f-972b-32185fbf441c",
   "metadata": {},
   "source": [
    "### Overview\n",
    "\n",
    "* The contextual bandits approach is classified as an extension of multi-armed bandits\n",
    "* a contextual multi-armed banded problem is a simplified reinforcement learning algorithm where the agent takes an action from a set of possible actions \n",
    "\n",
    "> **TODO**\n",
    "\n",
    "The **Bandit Ranking** agent will be similar to the `NeuralEpsilonGreedy` agent. Main differences:\n",
    "\n",
    "* The item features are stored in the `per_arm` part of the observation, in the order of how they are recommended\n",
    "* Since this ordered list of items expresses what action was taken by the policy,\n",
    "the `action` value of the trajectory is not used by the agent.\n",
    "\n",
    "> Note: difference between the \"per-arm\" observation recieved by the policy vs the agent:\n",
    "\n",
    "While the agent receives the items in the recommendation slots, the policy receives the items that are available for recommendation. The user is responsible for converting the observation to the\n",
    "syntax required by the agent.\n",
    "\n",
    "\n",
    "The training observation contains the global features and the features of the items in the recommendation slots \n",
    "* The item features are stored in the `per_arm` part of the observation, in the order of how they are recommended\n",
    "* Note: since this ordered list of items expresses what action was taken by the policy, the action value of the trajectory is not used by the agent"
   ]
  },
  {
   "cell_type": "markdown",
   "id": "ce53b012-c8db-4874-90bc-e13ac83fae19",
   "metadata": {},
   "source": [
    "## Load notebook config\n",
    "\n",
    "* use the prefix defined in `00-env-setup`"
   ]
  },
  {
   "cell_type": "code",
   "execution_count": 1,
   "id": "056b54b6-79d5-4ed6-b94a-6a776fc7db36",
   "metadata": {},
   "outputs": [
    {
     "name": "stdout",
     "output_type": "stream",
     "text": [
      "PREFIX: rec-bandits-v2\n"
     ]
    }
   ],
   "source": [
    "VERSION        = \"v2\"                       # TODO\n",
    "PREFIX         = f'rec-bandits-{VERSION}'   # TODO\n",
    "\n",
    "# PREFIX = 'mabv1'\n",
    "\n",
    "print(f\"PREFIX: {PREFIX}\")"
   ]
  },
  {
   "cell_type": "code",
   "execution_count": 2,
   "id": "2d3596a1-670b-4974-b643-2079a5db0afa",
   "metadata": {},
   "outputs": [
    {
     "name": "stdout",
     "output_type": "stream",
     "text": [
      "\n",
      "PROJECT_ID               = \"hybrid-vertex\"\n",
      "PROJECT_NUM              = \"934903580331\"\n",
      "LOCATION                 = \"us-central1\"\n",
      "\n",
      "REGION                   = \"us-central1\"\n",
      "BQ_LOCATION              = \"US\"\n",
      "VPC_NETWORK_NAME         = \"ucaip-haystack-vpc-network\"\n",
      "\n",
      "VERTEX_SA                = \"934903580331-compute@developer.gserviceaccount.com\"\n",
      "\n",
      "PREFIX                   = \"rec-bandits-v2\"\n",
      "VERSION                  = \"v2\"\n",
      "\n",
      "BUCKET_NAME              = \"rec-bandits-v2-hybrid-vertex-bucket\"\n",
      "BUCKET_URI               = \"gs://rec-bandits-v2-hybrid-vertex-bucket\"\n",
      "DATA_GCS_PREFIX          = \"data\"\n",
      "DATA_PATH                = \"gs://rec-bandits-v2-hybrid-vertex-bucket/data\"\n",
      "VOCAB_SUBDIR             = \"vocabs\"\n",
      "VOCAB_FILENAME           = \"vocab_dict.pkl\"\n",
      "\n",
      "VPC_NETWORK_FULL         = \"projects/934903580331/global/networks/ucaip-haystack-vpc-network\"\n",
      "\n",
      "BIGQUERY_DATASET_ID      = \"hybrid_vertex.movielens_ds_rec_bandits_v2\"\n",
      "BIGQUERY_TABLE_ID        = \"hybrid_vertex.movielens_ds_rec_bandits_v2.training_dataset\"\n",
      "\n",
      "REPO_DOCKER_PATH_PREFIX  = \"src\"\n",
      "RL_SUB_DIR               = \"per_arm_rl\"\n",
      "\n",
      "REPOSITORY               = \"rl-movielens-rec-bandits-v2\"\n",
      "IMAGE_NAME               = \"train-perarm-feats-v2\"\n",
      "DOCKERNAME               = \"Dockerfile_perarm_feats\"\n",
      "\n",
      "IMAGE_URI                = \"gcr.io/hybrid-vertex/train-perarm-feats-v2\"\n",
      "\n",
      "REMOTE_IMAGE_NAME        = \"us-central1-docker.pkg.dev/hybrid-vertex/rl-movielens-rec-bandits-v2/train-perarm-feats-v2\"\n",
      "\n"
     ]
    }
   ],
   "source": [
    "# staging GCS\n",
    "GCP_PROJECTS             = !gcloud config get-value project\n",
    "PROJECT_ID               = GCP_PROJECTS[0]\n",
    "\n",
    "# GCS bucket and paths\n",
    "BUCKET_NAME              = f'{PREFIX}-{PROJECT_ID}-bucket'\n",
    "BUCKET_URI               = f'gs://{BUCKET_NAME}'\n",
    "\n",
    "config = !gsutil cat {BUCKET_URI}/config/notebook_env.py\n",
    "print(config.n)\n",
    "exec(config.n)"
   ]
  },
  {
   "cell_type": "markdown",
   "id": "940507dd-369b-4b93-a0c5-4b2d0e079269",
   "metadata": {},
   "source": [
    "## imports"
   ]
  },
  {
   "cell_type": "code",
   "execution_count": 3,
   "id": "d4fec363-3a69-4fc6-ab38-706230fba418",
   "metadata": {},
   "outputs": [],
   "source": [
    "import os\n",
    "os.environ['TF_CPP_MIN_LOG_LEVEL'] = '2'"
   ]
  },
  {
   "cell_type": "code",
   "execution_count": 4,
   "id": "70e611f2-2d75-4b8d-9c9b-3b4421f8e04e",
   "metadata": {},
   "outputs": [
    {
     "name": "stdout",
     "output_type": "stream",
     "text": [
      "/home/jupyter/tf_vertex_agents/03-ranking\n"
     ]
    }
   ],
   "source": [
    "!pwd"
   ]
  },
  {
   "cell_type": "code",
   "execution_count": 5,
   "id": "93b706f8-8739-426b-b3c0-49c5ae2163f1",
   "metadata": {},
   "outputs": [],
   "source": [
    "import functools\n",
    "from collections import defaultdict\n",
    "from typing import Callable, Dict, List, Optional, TypeVar, Iterable\n",
    "from datetime import datetime\n",
    "import time\n",
    "from pprint import pprint\n",
    "import pickle as pkl\n",
    "import pandas as pd\n",
    "\n",
    "from tqdm import tqdm\n",
    "\n",
    "# logging\n",
    "import logging\n",
    "logging.disable(logging.WARNING)\n",
    "\n",
    "import matplotlib.pyplot as plt\n",
    "import numpy as np\n",
    "\n",
    "# google cloud\n",
    "from google.cloud import aiplatform, storage\n",
    "\n",
    "# tensorflow\n",
    "import tensorflow as tf\n",
    "# from tf_agents.agents import TFAgent\n",
    "\n",
    "# from tf_agents.bandits.environments import stationary_stochastic_per_arm_py_environment as p_a_env\n",
    "from tf_agents.bandits.environments.ranking_environment import FeedbackModel\n",
    "from tf_agents.bandits.metrics import tf_metrics as tf_bandit_metrics\n",
    "# from tf_agents.drivers import dynamic_step_driver\n",
    "# from tf_agents.environments import tf_py_environment\n",
    "from tf_agents.replay_buffers import tf_uniform_replay_buffer\n",
    "from tf_agents.specs import tensor_spec\n",
    "from tf_agents.trajectories import time_step as ts\n",
    "\n",
    "# from tf_agents.bandits.agents import lin_ucb_agent\n",
    "# from tf_agents.bandits.agents import linear_thompson_sampling_agent as lin_ts_agent\n",
    "from tf_agents.bandits.agents import neural_epsilon_greedy_agent\n",
    "from tf_agents.bandits.agents import neural_linucb_agent\n",
    "from tf_agents.bandits.networks import global_and_arm_feature_network\n",
    "from tf_agents.bandits.policies import policy_utilities\n",
    "\n",
    "from tf_agents.bandits.specs import utils as bandit_spec_utils\n",
    "from tf_agents.trajectories import trajectory\n",
    "from tf_agents.bandits.environments import ranking_environment\n",
    "from tf_agents.bandits.agents import ranking_agent\n",
    "\n",
    "from tf_agents.utils import nest_utils\n",
    "from tf_agents.specs import array_spec\n",
    "\n",
    "# GPU\n",
    "from numba import cuda \n",
    "import gc\n",
    "\n",
    "import sys\n",
    "sys.path.append(\"..\")\n",
    "\n",
    "# this repo\n",
    "from src.per_arm_rl import data_utils\n",
    "from src.per_arm_rl import data_config\n",
    "from src.per_arm_rl import train_utils as train_utils\n",
    "\n",
    "# tf exceptions and vars\n",
    "if tf.__version__[0] != \"2\":\n",
    "    raise Exception(\"The trainer only runs with TensorFlow version 2.\")\n",
    "\n",
    "T = TypeVar(\"T\")"
   ]
  },
  {
   "cell_type": "code",
   "execution_count": 6,
   "id": "c5bc92e4-dac3-468e-a0f5-26d48ec63620",
   "metadata": {},
   "outputs": [
    {
     "name": "stdout",
     "output_type": "stream",
     "text": [
      "Num GPUs Available:  1\n"
     ]
    }
   ],
   "source": [
    "print(\"Num GPUs Available: \", len(tf.config.list_physical_devices('GPU')))"
   ]
  },
  {
   "cell_type": "code",
   "execution_count": 8,
   "id": "1d4c0818-64e0-4629-a9d8-2fed58a7086f",
   "metadata": {},
   "outputs": [
    {
     "data": {
      "text/plain": [
       "14"
      ]
     },
     "execution_count": 8,
     "metadata": {},
     "output_type": "execute_result"
    }
   ],
   "source": [
    "device = cuda.get_current_device()\n",
    "device.reset()\n",
    "gc.collect()"
   ]
  },
  {
   "cell_type": "code",
   "execution_count": 9,
   "id": "28167f0d-5870-40bb-ba1e-b4a2cc4bd7d6",
   "metadata": {},
   "outputs": [],
   "source": [
    "# cloud storage client\n",
    "storage_client = storage.Client(project=PROJECT_ID)\n",
    "\n",
    "# Vertex client\n",
    "aiplatform.init(project=PROJECT_ID, location=LOCATION)"
   ]
  },
  {
   "cell_type": "markdown",
   "id": "64b249f6-2e74-4e2a-bf04-be4bfd0732bd",
   "metadata": {},
   "source": [
    "# Data prep"
   ]
  },
  {
   "cell_type": "code",
   "execution_count": 10,
   "id": "4c726bc2-ff41-41b0-9671-113a499e55d5",
   "metadata": {},
   "outputs": [],
   "source": [
    "options = tf.data.Options()\n",
    "options.experimental_distribute.auto_shard_policy = tf.data.experimental.AutoShardPolicy.AUTO"
   ]
  },
  {
   "cell_type": "code",
   "execution_count": 11,
   "id": "de644e7f-8a6b-4c64-858f-1618fc76e373",
   "metadata": {},
   "outputs": [
    {
     "name": "stdout",
     "output_type": "stream",
     "text": [
      "SPLIT: listwise-3n-val\n"
     ]
    }
   ],
   "source": [
    "NUM_EXAMPLES_PER_LIST = 3 # 3 | 5\n",
    "\n",
    "# SPLIT = \"val\"\n",
    "# SPLIT = \"listwise-val\"\n",
    "SPLIT = f\"listwise-{NUM_EXAMPLES_PER_LIST}n-val\"\n",
    "\n",
    "print(f\"SPLIT: {SPLIT}\")"
   ]
  },
  {
   "cell_type": "code",
   "execution_count": 12,
   "id": "56222181-f72a-4a9c-946e-5cd94ab40caf",
   "metadata": {},
   "outputs": [
    {
     "name": "stdout",
     "output_type": "stream",
     "text": [
      "gs://rec-bandits-v2-hybrid-vertex-bucket/data/listwise-3n-val/ml-100k-listwise-3n-val.tfrecord\n"
     ]
    }
   ],
   "source": [
    "! gsutil ls $BUCKET_URI/$DATA_GCS_PREFIX/$SPLIT/"
   ]
  },
  {
   "cell_type": "markdown",
   "id": "3b22408a-fbfc-4b56-8f4b-b12462329fd3",
   "metadata": {},
   "source": [
    "### Val"
   ]
  },
  {
   "cell_type": "code",
   "execution_count": 13,
   "id": "8afaa02e-5638-40a8-964e-e51b27d433d0",
   "metadata": {},
   "outputs": [
    {
     "name": "stdout",
     "output_type": "stream",
     "text": [
      "{'movie_genres': <tf.Tensor: shape=(3,), dtype=int64, numpy=array([3, 0, 0])>,\n",
      " 'movie_id': <tf.Tensor: shape=(3,), dtype=string, numpy=array([b'94', b'245', b'403'], dtype=object)>,\n",
      " 'user_id': <tf.Tensor: shape=(), dtype=string, numpy=b'346'>,\n",
      " 'user_rating': <tf.Tensor: shape=(3,), dtype=float32, numpy=array([3., 4., 3.], dtype=float32)>}\n"
     ]
    }
   ],
   "source": [
    "SPLIT = \"val\"\n",
    "# SPLIT = \"listwise-val\"\n",
    "SPLIT = f\"listwise-{NUM_EXAMPLES_PER_LIST}n-val\"\n",
    "\n",
    "val_files = []\n",
    "for blob in storage_client.list_blobs(f\"{BUCKET_NAME}\", prefix=f'{DATA_GCS_PREFIX}/{SPLIT}'):\n",
    "    if '.tfrecord' in blob.name:\n",
    "        val_files.append(blob.public_url.replace(\"https://storage.googleapis.com/\", \"gs://\"))\n",
    "        \n",
    "val_dataset = tf.data.TFRecordDataset(val_files)\n",
    "val_dataset = val_dataset.map(data_utils.parse_lw_tfrecord, num_parallel_calls=tf.data.AUTOTUNE)\n",
    "\n",
    "for example in val_dataset.take(1):\n",
    "    pprint(example)"
   ]
  },
  {
   "cell_type": "markdown",
   "id": "d46862c4-dcbb-4b2d-aa53-765204f79250",
   "metadata": {},
   "source": [
    "### Train"
   ]
  },
  {
   "cell_type": "code",
   "execution_count": 14,
   "id": "3e814c64-1c96-47fd-a0f4-4c56bb15e0b0",
   "metadata": {},
   "outputs": [],
   "source": [
    "# SPLIT = \"train\"\n",
    "# SPLIT = \"listwise-train\"\n",
    "# SPLIT = f\"listwise-{NUM_EXAMPLES_PER_LIST}n-train\"\n",
    "\n",
    "# train_files = []\n",
    "# for blob in storage_client.list_blobs(f\"{BUCKET_NAME}\", prefix=f'{DATA_GCS_PREFIX}/{SPLIT}'):\n",
    "#     if '.tfrecord' in blob.name:\n",
    "#         train_files.append(blob.public_url.replace(\"https://storage.googleapis.com/\", \"gs://\"))\n",
    "        \n",
    "# train_dataset = tf.data.TFRecordDataset(train_files)\n",
    "# train_dataset = train_dataset.map(data_utils.parse_lw_tfrecord)\n",
    "\n",
    "# for x in train_dataset.batch(1).take(1):\n",
    "#     pprint(x)"
   ]
  },
  {
   "cell_type": "code",
   "execution_count": 15,
   "id": "b6ca4675-7c73-49b5-8146-0e2966fd3cfc",
   "metadata": {},
   "outputs": [],
   "source": [
    "train_dataset = val_dataset"
   ]
  },
  {
   "cell_type": "markdown",
   "id": "9501973f-6c96-46ba-adaa-6d85450c1256",
   "metadata": {},
   "source": [
    "### Vocab"
   ]
  },
  {
   "cell_type": "code",
   "execution_count": 16,
   "id": "4099e809-1152-4b27-b4aa-bc627652e45e",
   "metadata": {},
   "outputs": [
    {
     "name": "stdout",
     "output_type": "stream",
     "text": [
      "GENERATE_VOCABS: False\n"
     ]
    }
   ],
   "source": [
    "GENERATE_VOCABS = False\n",
    "\n",
    "print(f\"GENERATE_VOCABS: {GENERATE_VOCABS}\")"
   ]
  },
  {
   "cell_type": "code",
   "execution_count": 17,
   "id": "b136aa91-bc57-4acf-80f2-fff09b33acf8",
   "metadata": {},
   "outputs": [
    {
     "name": "stdout",
     "output_type": "stream",
     "text": [
      "Copying gs://mabv1-hybrid-vertex-bucket/vocabs/vocab_dict.pkl [Content-Type=application/octet-stream]...\n",
      "/ [1 files][142.9 KiB/142.9 KiB]                                                \n",
      "Operation completed over 1 objects/142.9 KiB.                                    \n"
     ]
    }
   ],
   "source": [
    "EXISTING_VOCAB_FILE = f'gs://{BUCKET_NAME}/{VOCAB_SUBDIR}/{VOCAB_FILENAME}'\n",
    "\n",
    "!gsutil cp gs://mabv1-hybrid-vertex-bucket/vocabs/vocab_dict.pkl $EXISTING_VOCAB_FILE"
   ]
  },
  {
   "cell_type": "code",
   "execution_count": 18,
   "id": "a2d881e8-b633-4c06-b8b0-c788e1806fb8",
   "metadata": {},
   "outputs": [
    {
     "name": "stdout",
     "output_type": "stream",
     "text": [
      "Downloaded storage object vocabs/vocab_dict.pkl from bucket rec-bandits-v2-hybrid-vertex-bucket to local file vocab_dict.pkl.\n",
      "'movie_id'\n",
      "'user_id'\n",
      "'user_occupation_text'\n",
      "'movie_genres'\n",
      "'bucketized_user_age'\n",
      "'max_timestamp'\n",
      "'min_timestamp'\n",
      "'timestamp_buckets'\n"
     ]
    }
   ],
   "source": [
    "data_utils.download_blob(\n",
    "    project_id = PROJECT_ID,\n",
    "    bucket_name = BUCKET_NAME, \n",
    "    source_blob_name = f\"{VOCAB_SUBDIR}/{VOCAB_FILENAME}\", \n",
    "    destination_file_name= VOCAB_FILENAME\n",
    ")\n",
    "\n",
    "filehandler = open(VOCAB_FILENAME, 'rb')\n",
    "vocab_dict = pkl.load(filehandler)\n",
    "filehandler.close()\n",
    "\n",
    "for key in vocab_dict.keys():\n",
    "    pprint(key)"
   ]
  },
  {
   "cell_type": "markdown",
   "id": "e9c58d83-52f1-4490-931b-3d65c157cc13",
   "metadata": {},
   "source": [
    "# Global & Per-Arm feature embedding models "
   ]
  },
  {
   "cell_type": "code",
   "execution_count": 19,
   "id": "c5dc1c53-af82-400a-b841-32775855578d",
   "metadata": {},
   "outputs": [
    {
     "name": "stdout",
     "output_type": "stream",
     "text": [
      "NUM_OOV_BUCKETS    : 2\n",
      "GLOBAL_EMB_SIZE    : 64\n",
      "MV_EMB_SIZE        : 32\n",
      "BATCH_SIZE         : 5\n",
      "EVAL_BATCH_SIZE    : 1\n",
      "NUM_ITEMS          : 3\n",
      "NUM_SLOTS          : 2\n",
      "DISTANCE_THRESHOLD : 0.5\n"
     ]
    }
   ],
   "source": [
    "NUM_OOV_BUCKETS       = 2\n",
    "GLOBAL_EMBEDDING_SIZE = 64 #64\n",
    "MV_EMBEDDING_SIZE     = 32 #32\n",
    "\n",
    "BATCH_SIZE            = 5 #128\n",
    "EVAL_BATCH_SIZE       = 1\n",
    "\n",
    "NUM_ITEMS             = NUM_EXAMPLES_PER_LIST # 3 | 5 \n",
    "NUM_SLOTS             = 2\n",
    "\n",
    "DISTANCE_THRESHOLD    = 0.5\n",
    "\n",
    "print(f\"NUM_OOV_BUCKETS    : {NUM_OOV_BUCKETS}\")\n",
    "print(f\"GLOBAL_EMB_SIZE    : {GLOBAL_EMBEDDING_SIZE}\")\n",
    "print(f\"MV_EMB_SIZE        : {MV_EMBEDDING_SIZE}\")\n",
    "print(f\"BATCH_SIZE         : {BATCH_SIZE}\")\n",
    "print(f\"EVAL_BATCH_SIZE    : {EVAL_BATCH_SIZE}\")\n",
    "print(f\"NUM_ITEMS          : {NUM_ITEMS}\")\n",
    "print(f\"NUM_SLOTS          : {NUM_SLOTS}\")\n",
    "print(f\"DISTANCE_THRESHOLD : {DISTANCE_THRESHOLD}\")"
   ]
  },
  {
   "cell_type": "code",
   "execution_count": 20,
   "id": "833f62ac-e6bf-4892-a168-b5d075771fb0",
   "metadata": {},
   "outputs": [
    {
     "data": {
      "text/plain": [
       "{'movie_genres': <tf.Tensor: shape=(2, 3), dtype=int64, numpy=\n",
       " array([[3, 0, 0],\n",
       "        [7, 0, 0]])>,\n",
       " 'movie_id': <tf.Tensor: shape=(2, 3), dtype=string, numpy=\n",
       " array([[b'94', b'245', b'403'],\n",
       "        [b'678', b'127', b'343']], dtype=object)>,\n",
       " 'user_id': <tf.Tensor: shape=(2,), dtype=string, numpy=array([b'346', b'602'], dtype=object)>,\n",
       " 'user_rating': <tf.Tensor: shape=(2, 3), dtype=float32, numpy=\n",
       " array([[3., 4., 3.],\n",
       "        [4., 5., 2.]], dtype=float32)>}"
      ]
     },
     "execution_count": 20,
     "metadata": {},
     "output_type": "execute_result"
    }
   ],
   "source": [
    "for i in range(1):\n",
    "    \n",
    "    iterator = iter(train_dataset.batch(2))\n",
    "    data = next(iterator)\n",
    "\n",
    "data"
   ]
  },
  {
   "cell_type": "markdown",
   "id": "a281a7ae-be08-41c6-a648-caab55ad1235",
   "metadata": {},
   "source": [
    "## Embedding layers"
   ]
  },
  {
   "cell_type": "markdown",
   "id": "3ec8212d-0b97-4db8-8126-6693af06d55a",
   "metadata": {},
   "source": [
    "#### User ID"
   ]
  },
  {
   "cell_type": "code",
   "execution_count": 21,
   "id": "fcc2d6f1-4559-466d-8f0f-53fc5c3bd4eb",
   "metadata": {},
   "outputs": [],
   "source": [
    "user_id_input_layer = tf.keras.Input(\n",
    "    name=\"user_id\",\n",
    "    shape=(1,),\n",
    "    dtype=tf.string\n",
    ")\n",
    "\n",
    "user_id_lookup = tf.keras.layers.StringLookup(\n",
    "    max_tokens=len(vocab_dict['user_id']) + NUM_OOV_BUCKETS,\n",
    "    num_oov_indices=NUM_OOV_BUCKETS,\n",
    "    mask_token=None,\n",
    "    vocabulary=vocab_dict['user_id'],\n",
    ")(user_id_input_layer)\n",
    "\n",
    "user_id_embedding = tf.keras.layers.Embedding(\n",
    "    # Let's use the explicit vocabulary lookup.\n",
    "    input_dim=len(vocab_dict['user_id']) + NUM_OOV_BUCKETS,\n",
    "    output_dim=GLOBAL_EMBEDDING_SIZE\n",
    ")(user_id_lookup)\n",
    "\n",
    "user_id_embedding = tf.reduce_sum(user_id_embedding, axis=-2)"
   ]
  },
  {
   "cell_type": "code",
   "execution_count": 22,
   "id": "5c31717b-900e-44dd-8fa8-4692caa4dc4b",
   "metadata": {},
   "outputs": [
    {
     "name": "stdout",
     "output_type": "stream",
     "text": [
      "tf.Tensor([b'346'], shape=(1,), dtype=string)\n",
      "tf.Tensor(\n",
      "[[ 0.04370818 -0.01135105  0.0266356   0.00445057  0.01794897 -0.01123155\n",
      "   0.01820037 -0.01236316 -0.04714687  0.01180333  0.03817843  0.00682211\n",
      "   0.04256009 -0.0283603  -0.00242324  0.00948932  0.01037207 -0.00822685\n",
      "   0.04582613 -0.01500129 -0.03047838  0.04197461  0.03291135  0.04426822\n",
      "   0.02072633 -0.00618589 -0.04319811  0.0090512  -0.04558665  0.02924452\n",
      "  -0.01990993  0.04883667  0.00903035  0.0130672   0.0298072  -0.00774354\n",
      "   0.03854993  0.03709947  0.00772595  0.04914529  0.02790226 -0.03761049\n",
      "   0.02432003 -0.00191277 -0.01236521 -0.04426353 -0.03791174 -0.04519391\n",
      "  -0.00229297 -0.01184074 -0.04209878 -0.01481508 -0.03921328 -0.04272251\n",
      "   0.01458052  0.03762467  0.03184244 -0.0199193  -0.03657435  0.02252989\n",
      "   0.01776868 -0.0383962  -0.03479626  0.04221696]], shape=(1, 64), dtype=float32)\n"
     ]
    }
   ],
   "source": [
    "test_user_id_model = tf.keras.Model(inputs=user_id_input_layer, outputs=user_id_embedding)\n",
    "\n",
    "for x in train_dataset.batch(1).take(1):\n",
    "    print(x[\"user_id\"])\n",
    "    print(test_user_id_model(x[\"user_id\"]))"
   ]
  },
  {
   "cell_type": "markdown",
   "id": "15a114a3-1cdd-46c7-b68d-3f9f55e06280",
   "metadata": {},
   "source": [
    "#### Movie ID"
   ]
  },
  {
   "cell_type": "code",
   "execution_count": 23,
   "id": "bcc5a95f-8298-4d68-92c0-7d3887b8364a",
   "metadata": {},
   "outputs": [],
   "source": [
    "# len(vocab_dict['movie_id'])"
   ]
  },
  {
   "cell_type": "code",
   "execution_count": 24,
   "id": "c7c494c2-5a71-4de4-a1a0-746653f805dd",
   "metadata": {},
   "outputs": [],
   "source": [
    "mv_id_input_layer = tf.keras.Input(\n",
    "    name=\"movie_id\",\n",
    "    shape=(1,),\n",
    "    dtype=tf.string\n",
    ")\n",
    "\n",
    "mv_id_lookup = tf.keras.layers.StringLookup(\n",
    "    max_tokens=len(vocab_dict['movie_id']) + NUM_OOV_BUCKETS,\n",
    "    num_oov_indices=NUM_OOV_BUCKETS,\n",
    "    mask_token=None,\n",
    "    vocabulary=vocab_dict['movie_id'],\n",
    ")(mv_id_input_layer)\n",
    "\n",
    "mv_id_embedding = tf.keras.layers.Embedding(\n",
    "    # Let's use the explicit vocabulary lookup.\n",
    "    input_dim=len(vocab_dict['movie_id']) + NUM_OOV_BUCKETS,\n",
    "    output_dim=MV_EMBEDDING_SIZE\n",
    ")(mv_id_lookup)\n",
    "\n",
    "# mv_id_embedding = tf.reduce_sum(mv_id_embedding, axis=-2)"
   ]
  },
  {
   "cell_type": "code",
   "execution_count": 25,
   "id": "6c448c58-fbc8-42b1-aa3e-d69f113ee093",
   "metadata": {},
   "outputs": [
    {
     "name": "stdout",
     "output_type": "stream",
     "text": [
      "tf.Tensor([[b'94' b'245' b'403']], shape=(1, 3), dtype=string)\n",
      "tf.Tensor(\n",
      "[[[ 1.26819871e-02  1.47836246e-02  1.43100135e-02 -1.93941947e-02\n",
      "    7.98638910e-03  3.71932723e-02  7.65300915e-03  2.07233690e-02\n",
      "    4.74291481e-02  2.48486884e-02 -3.65972407e-02  1.32403634e-02\n",
      "   -3.67226116e-02  1.88477673e-02 -2.69936454e-02 -2.82921642e-03\n",
      "   -1.29413232e-02 -8.74693319e-03 -2.30226871e-02 -3.13136131e-02\n",
      "    4.13347743e-02 -1.94737315e-02 -3.58124264e-02  6.30936772e-03\n",
      "    6.69068098e-03 -1.13114938e-02  1.99737214e-02  1.63485445e-02\n",
      "   -2.07304601e-02  3.55627425e-02 -3.32656391e-02 -1.68435574e-02]\n",
      "  [ 3.02490108e-02  4.40416485e-03  2.69909836e-02  2.99401172e-02\n",
      "   -6.63027167e-05  2.27944739e-02 -3.80651578e-02  1.48499273e-02\n",
      "    1.49717443e-02 -4.35329564e-02  1.66729204e-02  4.75808717e-02\n",
      "    2.64542177e-03  2.24997886e-02  2.01900862e-02 -2.46952064e-02\n",
      "   -4.22429703e-02  2.19405405e-02 -4.79789376e-02  4.59348001e-02\n",
      "    3.43324058e-02  9.05132294e-03  4.80602272e-02  9.03313234e-03\n",
      "    5.63108921e-03 -3.80748734e-02  2.88737305e-02  2.72508375e-02\n",
      "   -4.00614515e-02 -4.62130085e-02  9.86828655e-03  8.28745216e-03]\n",
      "  [ 2.82230638e-02  1.06202736e-02  7.63928890e-03  4.62494791e-04\n",
      "    4.07221951e-02  1.74276941e-02 -1.93351861e-02 -9.52624157e-03\n",
      "   -4.33275700e-02  3.10445093e-02 -2.24564429e-02  2.27340572e-02\n",
      "    3.84491943e-02  4.18619551e-02 -4.54040878e-02  2.66443156e-02\n",
      "   -4.28317674e-02  3.64790224e-02  8.08531046e-03 -2.90329810e-02\n",
      "   -2.06804033e-02  2.29137056e-02 -2.85901073e-02  2.78599747e-02\n",
      "   -4.09014113e-02 -2.45705377e-02  9.25271586e-03  1.50197782e-02\n",
      "   -6.63492829e-03  1.17424130e-02  5.46231121e-03 -2.18986757e-02]]], shape=(1, 3, 32), dtype=float32)\n"
     ]
    }
   ],
   "source": [
    "test_mv_id_model = tf.keras.Model(inputs=mv_id_input_layer, outputs=mv_id_embedding)\n",
    "\n",
    "for x in train_dataset.batch(1).take(1):\n",
    "    print(x[\"movie_id\"])\n",
    "    list_length = x[\"movie_id\"].shape[1]\n",
    "    print(test_mv_id_model(x[\"movie_id\"]))"
   ]
  },
  {
   "cell_type": "code",
   "execution_count": 26,
   "id": "b9da6dc0-a871-4b73-b975-87871e571cc3",
   "metadata": {},
   "outputs": [],
   "source": [
    "# list_length"
   ]
  },
  {
   "cell_type": "code",
   "execution_count": 27,
   "id": "e66ac33f-6def-4529-9a2d-f17482471757",
   "metadata": {},
   "outputs": [],
   "source": [
    "# for x in train_dataset.batch(1).take(1):\n",
    "#     print(x[\"movie_id\"])\n",
    "#     single_sample = x[\"movie_id\"][0]\n",
    "#     item_1 = tf.gather(x[\"movie_id\"][0], 0)\n",
    "#     print(item_1)"
   ]
  },
  {
   "cell_type": "code",
   "execution_count": 28,
   "id": "1e894e0c-b080-4e3c-ad2c-7fc460a2b97b",
   "metadata": {},
   "outputs": [],
   "source": [
    "# single_sample[0]"
   ]
  },
  {
   "cell_type": "markdown",
   "id": "c5886b2a-011b-4648-9834-b8a1e2d343f2",
   "metadata": {},
   "source": [
    "#### Movie Genres"
   ]
  },
  {
   "cell_type": "code",
   "execution_count": 29,
   "id": "dee33311-d565-4003-8d28-0d3dfc0ca68d",
   "metadata": {},
   "outputs": [],
   "source": [
    "# len(vocab_dict['movie_genres'])"
   ]
  },
  {
   "cell_type": "code",
   "execution_count": 30,
   "id": "052db904-0935-44db-bbba-548aa7b01c2b",
   "metadata": {},
   "outputs": [],
   "source": [
    "mv_genre_input_layer = tf.keras.Input(\n",
    "    name=\"movie_genres\",\n",
    "    shape=(1,),\n",
    "    dtype=tf.float32\n",
    ")\n",
    "\n",
    "mv_genre_lookup = tf.keras.layers.IntegerLookup(\n",
    "    vocabulary=vocab_dict['movie_genres'],\n",
    "    num_oov_indices=NUM_OOV_BUCKETS,\n",
    "    oov_value=0,\n",
    ")(mv_genre_input_layer)\n",
    "\n",
    "mv_genre_embedding = tf.keras.layers.Embedding(\n",
    "    # Let's use the explicit vocabulary lookup.\n",
    "    input_dim=len(vocab_dict['movie_genres']) + NUM_OOV_BUCKETS,\n",
    "    output_dim=MV_EMBEDDING_SIZE\n",
    ")(mv_genre_lookup)\n",
    "\n",
    "# mv_genre_embedding = tf.reduce_sum(mv_genre_embedding, axis=-2)"
   ]
  },
  {
   "cell_type": "code",
   "execution_count": 31,
   "id": "0cd72900-c9bc-4349-8984-8c0218c08efe",
   "metadata": {
    "tags": []
   },
   "outputs": [
    {
     "name": "stdout",
     "output_type": "stream",
     "text": [
      "tf.Tensor(\n",
      "[[3 0 0]\n",
      " [7 0 0]], shape=(2, 3), dtype=int64)\n",
      "tf.Tensor(\n",
      "[[[-0.00905252  0.01898391 -0.00024579 -0.020698    0.01857164\n",
      "    0.00074836  0.01230341 -0.02427216  0.03277064 -0.02594687\n",
      "   -0.03635303 -0.03331405  0.03208944  0.03972979  0.03509669\n",
      "   -0.00665893  0.0238544   0.0359375   0.04644355 -0.04636688\n",
      "   -0.01557895  0.02767905  0.0390648   0.01242439 -0.03174337\n",
      "    0.02715689 -0.0487331  -0.0014302  -0.03177358  0.00691553\n",
      "   -0.0137447   0.01497729]\n",
      "  [ 0.02349536  0.04710582  0.02036366 -0.04065933 -0.01117162\n",
      "    0.00973912  0.00879743 -0.04954852  0.03227177  0.0417361\n",
      "    0.04533937 -0.04180925  0.00312942 -0.02556071 -0.01017413\n",
      "   -0.04456032 -0.02658897  0.01132615  0.04729686 -0.04301446\n",
      "    0.0021451  -0.04593721 -0.03231512  0.03024571 -0.0459285\n",
      "   -0.0285256   0.04047512 -0.02652644  0.04642197 -0.00502851\n",
      "   -0.01014877  0.0341229 ]\n",
      "  [ 0.02349536  0.04710582  0.02036366 -0.04065933 -0.01117162\n",
      "    0.00973912  0.00879743 -0.04954852  0.03227177  0.0417361\n",
      "    0.04533937 -0.04180925  0.00312942 -0.02556071 -0.01017413\n",
      "   -0.04456032 -0.02658897  0.01132615  0.04729686 -0.04301446\n",
      "    0.0021451  -0.04593721 -0.03231512  0.03024571 -0.0459285\n",
      "   -0.0285256   0.04047512 -0.02652644  0.04642197 -0.00502851\n",
      "   -0.01014877  0.0341229 ]]\n",
      "\n",
      " [[-0.03588858  0.01442776  0.03449459  0.01941695  0.02201242\n",
      "   -0.0408589  -0.03424072  0.04632807 -0.00613634 -0.04440334\n",
      "    0.03628789  0.00704048  0.04007434  0.02105672 -0.01537855\n",
      "   -0.00594    -0.0302201  -0.04308375 -0.00372992 -0.03641585\n",
      "   -0.02412026 -0.03070924  0.00501379  0.04585855 -0.02142148\n",
      "   -0.04934189 -0.03918165 -0.02703496 -0.04609869 -0.04019326\n",
      "   -0.01847916  0.01670373]\n",
      "  [ 0.02349536  0.04710582  0.02036366 -0.04065933 -0.01117162\n",
      "    0.00973912  0.00879743 -0.04954852  0.03227177  0.0417361\n",
      "    0.04533937 -0.04180925  0.00312942 -0.02556071 -0.01017413\n",
      "   -0.04456032 -0.02658897  0.01132615  0.04729686 -0.04301446\n",
      "    0.0021451  -0.04593721 -0.03231512  0.03024571 -0.0459285\n",
      "   -0.0285256   0.04047512 -0.02652644  0.04642197 -0.00502851\n",
      "   -0.01014877  0.0341229 ]\n",
      "  [ 0.02349536  0.04710582  0.02036366 -0.04065933 -0.01117162\n",
      "    0.00973912  0.00879743 -0.04954852  0.03227177  0.0417361\n",
      "    0.04533937 -0.04180925  0.00312942 -0.02556071 -0.01017413\n",
      "   -0.04456032 -0.02658897  0.01132615  0.04729686 -0.04301446\n",
      "    0.0021451  -0.04593721 -0.03231512  0.03024571 -0.0459285\n",
      "   -0.0285256   0.04047512 -0.02652644  0.04642197 -0.00502851\n",
      "   -0.01014877  0.0341229 ]]], shape=(2, 3, 32), dtype=float32)\n"
     ]
    }
   ],
   "source": [
    "test_mv_gen_model = tf.keras.Model(inputs=mv_genre_input_layer, outputs=mv_genre_embedding)\n",
    "\n",
    "for x in train_dataset.batch(2).take(1):\n",
    "    print(x[\"movie_genres\"])\n",
    "    print(test_mv_gen_model(x[\"movie_genres\"]))"
   ]
  },
  {
   "cell_type": "code",
   "execution_count": 32,
   "id": "4799ad0c-abc8-4e56-88d0-93111bba6d76",
   "metadata": {},
   "outputs": [],
   "source": [
    "# for x in train_dataset.batch(1).take(1):\n",
    "#     print(x[\"movie_genres\"])\n",
    "#     mv_gen_sample = x[\"movie_genres\"]\n",
    "#     item_gen = tf.gather(x[\"movie_genres\"], 0)\n",
    "#     print(item_gen)"
   ]
  },
  {
   "cell_type": "code",
   "execution_count": 33,
   "id": "a3455b83-a3a0-4d07-9542-2e035cae612b",
   "metadata": {},
   "outputs": [],
   "source": [
    "# for x in train_dataset.batch(2).take(1):\n",
    "#     print(x[\"user_rating\"])\n",
    "#     # mv_gen_sample = x[\"movie_genres\"]\n",
    "#     # item_gen = tf.gather(x[\"movie_genres\"], 0)\n",
    "#     # print(item_gen)"
   ]
  },
  {
   "cell_type": "markdown",
   "id": "0415398e-3bbd-4497-aa31-1d618325fbb1",
   "metadata": {},
   "source": [
    "## Sampling Functions"
   ]
  },
  {
   "cell_type": "markdown",
   "id": "343c1dee-fc37-4075-8d65-6909d548eb43",
   "metadata": {},
   "source": [
    "#### item sampling"
   ]
  },
  {
   "cell_type": "code",
   "execution_count": 34,
   "id": "bfea1d42-c08f-4b3f-b4b8-97aefc6dd622",
   "metadata": {},
   "outputs": [],
   "source": [
    "# data"
   ]
  },
  {
   "cell_type": "code",
   "execution_count": 35,
   "id": "8f6d643f-ae9f-4174-9f22-e1f1cdf56824",
   "metadata": {},
   "outputs": [],
   "source": [
    "# for x in train_dataset.batch(2).take(1):\n",
    "#     ratings_list = x[\"user_rating\"] #[0]\n",
    "#     indices = tf.argsort(ratings_list, direction=\"DESCENDING\")\n",
    "    \n",
    "#     mv_ids = test_mv_id_model(x[\"movie_id\"])\n",
    "#     # mv_ids_sliced = tf.slice(mv_ids, begin=[0,0,0], size=[HPARAMS['num_slots']])\n",
    "    \n",
    "#     mv_gens = test_mv_gen_model(x[\"movie_genres\"])\n",
    "#     # mv_gens_sliced = tf.slice(mv_gens, begin=[0,0,0], size=[HPARAMS['num_slots']])\n",
    "    \n",
    "# #     concat_embeddings = tf.concat(\n",
    "# #         [mv_ids, mv_gens], axis=-1\n",
    "# #     )\n",
    "    \n",
    "# #     ordered_concat = tf.gather(concat_embeddings, indices, batch_dims=1)\n",
    "    \n",
    "# #     stacked_mvs = tf.stack(concat_embeddings, axis = 1)"
   ]
  },
  {
   "cell_type": "code",
   "execution_count": 36,
   "id": "58eadd47-746a-4b9f-8370-564e0cdafd84",
   "metadata": {},
   "outputs": [],
   "source": [
    "# len(ratings_list)"
   ]
  },
  {
   "cell_type": "code",
   "execution_count": 37,
   "id": "e8883e1c-0448-4486-bc2e-4ae3e3e54919",
   "metadata": {},
   "outputs": [],
   "source": [
    "def _get_per_arm_features(x):\n",
    "    \"\"\"\n",
    "    This function generates a single per-arm observation vector.\n",
    "    \"\"\"\n",
    "    ratings_list = x[\"user_rating\"] #[0]\n",
    "    indices = tf.argsort(ratings_list, direction=\"DESCENDING\")\n",
    "    _batch_size = len(ratings_list)\n",
    "    \n",
    "    mv_ids = test_mv_id_model(x[\"movie_id\"])\n",
    "    mv_gens = test_mv_gen_model(x[\"movie_genres\"])\n",
    "    \n",
    "    concat_embeddings = tf.concat(\n",
    "        [mv_ids, mv_gens], axis=-1\n",
    "    )\n",
    "    \n",
    "    ordered_concat = tf.gather(concat_embeddings, indices, batch_dims=1)\n",
    "    # feedback = tf.gather_nd(concat_embeddings, indices)\n",
    "    # print(f\"ordered_concat_embeddings: {ordered_concat_embeddings}\")\n",
    "    # ordered_concat = tf.reduce_sum(ordered_concat, axis=0)\n",
    "    \n",
    "    slotted_ordered_concat = tf.slice(\n",
    "        ordered_concat, begin=[0, 0, 0], size=[_batch_size, NUM_SLOTS, MV_EMBEDDING_SIZE * NUM_SLOTS]\n",
    "    )\n",
    "    \n",
    "    return slotted_ordered_concat\n",
    "    # return slotted_ordered_concat"
   ]
  },
  {
   "cell_type": "code",
   "execution_count": 38,
   "id": "d985e45c-7247-467d-80fb-fa977957e0bc",
   "metadata": {},
   "outputs": [
    {
     "data": {
      "text/plain": [
       "<tf.Tensor: shape=(2, 2, 64), dtype=float32, numpy=\n",
       "array([[[ 3.02490108e-02,  4.40416485e-03,  2.69909836e-02,\n",
       "          2.99401172e-02, -6.63027167e-05,  2.27944739e-02,\n",
       "         -3.80651578e-02,  1.48499273e-02,  1.49717443e-02,\n",
       "         -4.35329564e-02,  1.66729204e-02,  4.75808717e-02,\n",
       "          2.64542177e-03,  2.24997886e-02,  2.01900862e-02,\n",
       "         -2.46952064e-02, -4.22429703e-02,  2.19405405e-02,\n",
       "         -4.79789376e-02,  4.59348001e-02,  3.43324058e-02,\n",
       "          9.05132294e-03,  4.80602272e-02,  9.03313234e-03,\n",
       "          5.63108921e-03, -3.80748734e-02,  2.88737305e-02,\n",
       "          2.72508375e-02, -4.00614515e-02, -4.62130085e-02,\n",
       "          9.86828655e-03,  8.28745216e-03,  2.34953649e-02,\n",
       "          4.71058227e-02,  2.03636624e-02, -4.06593308e-02,\n",
       "         -1.11716166e-02,  9.73912328e-03,  8.79742950e-03,\n",
       "         -4.95485179e-02,  3.22717689e-02,  4.17360999e-02,\n",
       "          4.53393720e-02, -4.18092497e-02,  3.12942266e-03,\n",
       "         -2.55607124e-02, -1.01741329e-02, -4.45603244e-02,\n",
       "         -2.65889652e-02,  1.13261454e-02,  4.72968556e-02,\n",
       "         -4.30144556e-02,  2.14510038e-03, -4.59372066e-02,\n",
       "         -3.23151238e-02,  3.02457102e-02, -4.59285043e-02,\n",
       "         -2.85256039e-02,  4.04751189e-02, -2.65264399e-02,\n",
       "          4.64219712e-02, -5.02850860e-03, -1.01487748e-02,\n",
       "          3.41228954e-02],\n",
       "        [ 1.26819871e-02,  1.47836246e-02,  1.43100135e-02,\n",
       "         -1.93941947e-02,  7.98638910e-03,  3.71932723e-02,\n",
       "          7.65300915e-03,  2.07233690e-02,  4.74291481e-02,\n",
       "          2.48486884e-02, -3.65972407e-02,  1.32403634e-02,\n",
       "         -3.67226116e-02,  1.88477673e-02, -2.69936454e-02,\n",
       "         -2.82921642e-03, -1.29413232e-02, -8.74693319e-03,\n",
       "         -2.30226871e-02, -3.13136131e-02,  4.13347743e-02,\n",
       "         -1.94737315e-02, -3.58124264e-02,  6.30936772e-03,\n",
       "          6.69068098e-03, -1.13114938e-02,  1.99737214e-02,\n",
       "          1.63485445e-02, -2.07304601e-02,  3.55627425e-02,\n",
       "         -3.32656391e-02, -1.68435574e-02, -9.05251503e-03,\n",
       "          1.89839117e-02, -2.45787203e-04, -2.06979997e-02,\n",
       "          1.85716413e-02,  7.48358667e-04,  1.23034120e-02,\n",
       "         -2.42721569e-02,  3.27706374e-02, -2.59468686e-02,\n",
       "         -3.63530293e-02, -3.33140492e-02,  3.20894383e-02,\n",
       "          3.97297852e-02,  3.50966938e-02, -6.65893406e-03,\n",
       "          2.38544010e-02,  3.59374993e-02,  4.64435481e-02,\n",
       "         -4.63668816e-02, -1.55789480e-02,  2.76790522e-02,\n",
       "          3.90647985e-02,  1.24243870e-02, -3.17433700e-02,\n",
       "          2.71568932e-02, -4.87331040e-02, -1.43020228e-03,\n",
       "         -3.17735821e-02,  6.91553205e-03, -1.37447007e-02,\n",
       "          1.49772875e-02]],\n",
       "\n",
       "       [[ 3.18454765e-02, -3.98148894e-02, -7.06698745e-03,\n",
       "          1.81444176e-02,  1.82683393e-03,  1.19045377e-02,\n",
       "          4.68010046e-02,  4.01490964e-02,  1.59008615e-02,\n",
       "         -1.32915974e-02, -4.71376888e-02, -4.08318639e-02,\n",
       "         -4.90369201e-02,  1.00370161e-02,  1.92460157e-02,\n",
       "          2.29172371e-02,  2.22237445e-02, -8.56053084e-04,\n",
       "         -3.03217527e-02,  4.50407602e-02, -2.43744142e-02,\n",
       "         -4.18383703e-02,  2.65192054e-02, -2.62195710e-02,\n",
       "         -1.24298111e-02, -4.62413095e-02,  1.66140907e-02,\n",
       "          1.48584954e-02, -1.73949078e-03, -8.78386572e-03,\n",
       "         -1.11385956e-02, -1.14236251e-02,  2.34953649e-02,\n",
       "          4.71058227e-02,  2.03636624e-02, -4.06593308e-02,\n",
       "         -1.11716166e-02,  9.73912328e-03,  8.79742950e-03,\n",
       "         -4.95485179e-02,  3.22717689e-02,  4.17360999e-02,\n",
       "          4.53393720e-02, -4.18092497e-02,  3.12942266e-03,\n",
       "         -2.55607124e-02, -1.01741329e-02, -4.45603244e-02,\n",
       "         -2.65889652e-02,  1.13261454e-02,  4.72968556e-02,\n",
       "         -4.30144556e-02,  2.14510038e-03, -4.59372066e-02,\n",
       "         -3.23151238e-02,  3.02457102e-02, -4.59285043e-02,\n",
       "         -2.85256039e-02,  4.04751189e-02, -2.65264399e-02,\n",
       "          4.64219712e-02, -5.02850860e-03, -1.01487748e-02,\n",
       "          3.41228954e-02],\n",
       "        [-1.37740374e-03,  4.78386916e-02, -4.48298343e-02,\n",
       "          7.61795789e-04,  3.67887877e-02, -4.56753373e-02,\n",
       "          1.69747807e-02, -4.56805937e-02, -3.18535939e-02,\n",
       "          2.92328708e-02,  4.23294641e-02,  4.96131517e-02,\n",
       "         -1.29311793e-02,  1.91593170e-03, -1.75687559e-02,\n",
       "         -2.50096079e-02,  3.62509489e-03,  3.27052809e-02,\n",
       "          2.00335495e-02,  4.41754945e-02,  3.03018577e-02,\n",
       "          3.43579985e-02,  2.48065256e-02, -6.65011257e-03,\n",
       "         -4.70409170e-02,  1.19358785e-02,  4.89446037e-02,\n",
       "          1.75867714e-02, -4.94744889e-02, -1.05147474e-02,\n",
       "         -3.57963927e-02, -8.20352882e-03, -3.58885750e-02,\n",
       "          1.44277550e-02,  3.44945900e-02,  1.94169544e-02,\n",
       "          2.20124163e-02, -4.08589020e-02, -3.42407227e-02,\n",
       "          4.63280715e-02, -6.13633543e-03, -4.44033407e-02,\n",
       "          3.62878926e-02,  7.04047829e-03,  4.00743373e-02,\n",
       "          2.10567154e-02, -1.53785460e-02, -5.93999773e-03,\n",
       "         -3.02201044e-02, -4.30837534e-02, -3.72991711e-03,\n",
       "         -3.64158526e-02, -2.41202600e-02, -3.07092424e-02,\n",
       "          5.01378626e-03,  4.58585508e-02, -2.14214809e-02,\n",
       "         -4.93418947e-02, -3.91816497e-02, -2.70349625e-02,\n",
       "         -4.60986868e-02, -4.01932597e-02, -1.84791572e-02,\n",
       "          1.67037286e-02]]], dtype=float32)>"
      ]
     },
     "execution_count": 38,
     "metadata": {},
     "output_type": "execute_result"
    }
   ],
   "source": [
    "test_arms = _get_per_arm_features(data)\n",
    "test_arms #.shape"
   ]
  },
  {
   "cell_type": "code",
   "execution_count": 39,
   "id": "cd9b8a0a-6374-4584-8c99-1fd6adcbaea5",
   "metadata": {
    "tags": []
   },
   "outputs": [
    {
     "name": "stdout",
     "output_type": "stream",
     "text": [
      "PER_ARM_DIM: 64\n"
     ]
    }
   ],
   "source": [
    "test_arms = _get_per_arm_features(data)\n",
    "\n",
    "PER_ARM_DIM = test_arms.shape[2]            \n",
    "print(f\"PER_ARM_DIM: {PER_ARM_DIM}\")\n",
    "\n",
    "# test_arms"
   ]
  },
  {
   "cell_type": "markdown",
   "id": "1b01f1f2-a576-4b18-91ca-ee6c5bd90117",
   "metadata": {},
   "source": [
    "#### global sampling"
   ]
  },
  {
   "cell_type": "code",
   "execution_count": 40,
   "id": "dbffe5f6-8b37-448e-aadd-b578cfbe1395",
   "metadata": {},
   "outputs": [],
   "source": [
    "def _get_global_context_features(x):\n",
    "    \"\"\"\n",
    "    This function generates a single global observation vector.\n",
    "    \"\"\"\n",
    "    \n",
    "    return test_user_id_model(x['user_id'])"
   ]
  },
  {
   "cell_type": "code",
   "execution_count": 41,
   "id": "1644300b-f7b7-4f38-9f31-f83ba74ecf79",
   "metadata": {},
   "outputs": [
    {
     "name": "stdout",
     "output_type": "stream",
     "text": [
      "GLOBAL_DIM: 64\n"
     ]
    }
   ],
   "source": [
    "test_globals = _get_global_context_features(data)\n",
    "\n",
    "GLOBAL_DIM = test_globals.shape[1] \n",
    "print(f\"GLOBAL_DIM: {GLOBAL_DIM}\")\n",
    "\n",
    "# test_globals"
   ]
  },
  {
   "cell_type": "markdown",
   "id": "5ada148e-e36b-4c98-ae5b-234aa9940055",
   "metadata": {},
   "source": [
    "# Ranking Agent"
   ]
  },
  {
   "cell_type": "markdown",
   "id": "7d7fd210-4772-4073-9630-1173ac4f93e4",
   "metadata": {},
   "source": [
    "## Feedback type"
   ]
  },
  {
   "cell_type": "markdown",
   "id": "57a0da21-0b0f-4876-8b43-c012d1cc64c2",
   "metadata": {},
   "source": [
    "Ranking agents assume either a `score_vector` or `cascading feedback` framework for the feedback signal (reward). \n",
    "\n",
    "* `score_vector`: feedback is a vector of scores for every item in the slots. \n",
    "* `cascading feedback`: if the kth item was clicked, then the items up to k-1 receive a score of -1, the kth item receives a score based on a feedback value, while the rest of the items receive feedback of 0. \n",
    "\n",
    "Ranking agent objective: train the scoring network to be able to estimate the above scores"
   ]
  },
  {
   "cell_type": "code",
   "execution_count": 42,
   "id": "c49a7375-ec9f-403d-aa86-810134cd430c",
   "metadata": {},
   "outputs": [],
   "source": [
    "# feedback_model = ranking_environment.FeedbackModel.CASCADING\n",
    "feedback_model = FeedbackModel.SCORE_VECTOR"
   ]
  },
  {
   "cell_type": "markdown",
   "id": "a9b20c76-2950-4459-ab07-148cded078f2",
   "metadata": {},
   "source": [
    "## Tensor Specs"
   ]
  },
  {
   "cell_type": "markdown",
   "id": "3b43561b-f486-454e-a851-8cedfd6999d7",
   "metadata": {
    "tags": []
   },
   "source": [
    "example Tensor Spec structures..."
   ]
  },
  {
   "cell_type": "markdown",
   "id": "38cbb948-52c5-44a3-80ab-4e57ba6968ea",
   "metadata": {},
   "source": [
    "`observation_spec()`\n",
    "\n",
    "```python\n",
    "{'global': TensorSpec(shape=(9,), dtype=tf.float32, name=None),\n",
    " 'per_arm': TensorSpec(shape=(50, 11), dtype=tf.float32, name=None)}\n",
    "```\n",
    "\n",
    "`action_spec()`\n",
    "\n",
    "```python\n",
    "BoundedTensorSpec(shape=(3,), dtype=tf.int32, name='action', minimum=array(0, dtype=int32), maximum=array(49, dtype=int32))\n",
    "```\n",
    "\n",
    "`reward_spec()`\n",
    "\n",
    "```python\n",
    "{'chosen_index': BoundedTensorSpec(shape=(), dtype=tf.int32, name='chosen_index', minimum=array(0, dtype=int32), maximum=array(3, dtype=int32)),\n",
    " 'chosen_value': TensorSpec(shape=(), dtype=tf.float32, name='chosen_value')}\n",
    "```\n",
    "\n",
    "`time_step_spec()`\n",
    "\n",
    "```python\n",
    "TimeStep(\n",
    "{'discount': BoundedTensorSpec(shape=(), dtype=tf.float32, name='discount', minimum=array(0., dtype=float32), maximum=array(1., dtype=float32)),\n",
    " 'observation': {'global': TensorSpec(shape=(9,), dtype=tf.float32, name=None),\n",
    "                 'per_arm': TensorSpec(shape=(50, 11), dtype=tf.float32, name=None)},\n",
    " 'reward': {'chosen_index': BoundedTensorSpec(shape=(), dtype=tf.int32, name='chosen_index', minimum=array(0, dtype=int32), maximum=array(3, dtype=int32)),\n",
    "            'chosen_value': TensorSpec(shape=(), dtype=tf.float32, name='chosen_value')},\n",
    " 'step_type': TensorSpec(shape=(), dtype=tf.int32, name='step_type')})\n",
    "```"
   ]
  },
  {
   "cell_type": "code",
   "execution_count": 43,
   "id": "b8ab95f3-187b-45fc-a0bc-d4b53d4c5ca3",
   "metadata": {},
   "outputs": [],
   "source": [
    "# for i in range(1):\n",
    "    \n",
    "#     iterator = iter(train_dataset.batch(2))\n",
    "#     data_1 = next(iterator)\n",
    "\n",
    "# data_1"
   ]
  },
  {
   "cell_type": "code",
   "execution_count": 44,
   "id": "ecb5c85a-ca16-4474-8f0e-12df37e34107",
   "metadata": {},
   "outputs": [],
   "source": [
    "# global_spec = array_spec.ArraySpec.from_array(_get_global_context_features(data_1).numpy())\n",
    "# global_spec"
   ]
  },
  {
   "cell_type": "code",
   "execution_count": 45,
   "id": "4900700f-a344-45f3-b411-d761ac67f825",
   "metadata": {},
   "outputs": [],
   "source": [
    "# _get_per_arm_features(data_1)"
   ]
  },
  {
   "cell_type": "code",
   "execution_count": 46,
   "id": "3d6bc4ac-a7a3-4eef-9990-f277b12a5aac",
   "metadata": {},
   "outputs": [],
   "source": [
    "# item_spec = array_spec.add_outer_dims_nest(\n",
    "#     array_spec.ArraySpec.from_array(_get_per_arm_features(data_1).numpy()), (NUM_ITEMS,)\n",
    "# )\n",
    "# item_spec"
   ]
  },
  {
   "cell_type": "code",
   "execution_count": 47,
   "id": "6601ec58-da4a-42dc-9f92-d6b1cbe18582",
   "metadata": {},
   "outputs": [],
   "source": [
    "# GLOBAL_KEY = bandit_spec_utils.GLOBAL_FEATURE_KEY\n",
    "# PER_ARM_KEY = bandit_spec_utils.PER_ARM_FEATURE_KEY\n",
    "\n",
    "# observation_spec_test = {GLOBAL_KEY: global_spec, PER_ARM_KEY: item_spec}\n",
    "# observation_spec_test"
   ]
  },
  {
   "cell_type": "code",
   "execution_count": 48,
   "id": "3d69220f-5d64-4220-8ccd-62889036b98c",
   "metadata": {},
   "outputs": [],
   "source": [
    "# _global_dim = global_spec.shape[0]\n",
    "# _global_dim"
   ]
  },
  {
   "cell_type": "code",
   "execution_count": 49,
   "id": "92671d22-f376-4a00-8451-1bb4e0f7a3d6",
   "metadata": {},
   "outputs": [],
   "source": [
    "# _item_dim = item_spec.shape[-1]\n",
    "# _item_dim"
   ]
  },
  {
   "cell_type": "markdown",
   "id": "11d9cf3f-ac83-4580-a8f6-d98d93e49275",
   "metadata": {},
   "source": [
    "**from [ranking_environment.py](https://github.com/tensorflow/agents/blob/master/tf_agents/bandits/environments/ranking_environment.py#L152C1-L166C6)**\n",
    "\n",
    "```\n",
    "    global_spec = array_spec.ArraySpec.from_array(global_sampling_fn())\n",
    "    item_spec = array_spec.add_outer_dims_nest(\n",
    "        array_spec.ArraySpec.from_array(item_sampling_fn()), (num_items,)\n",
    "    )\n",
    "    observation_spec = {GLOBAL_KEY: global_spec, PER_ARM_KEY: item_spec}\n",
    "    self._global_dim = global_spec.shape[0]\n",
    "    self._item_dim = item_spec.shape[-1]\n",
    "\n",
    "    action_spec = array_spec.BoundedArraySpec(\n",
    "        shape=(num_slots,),\n",
    "        dtype=np.int32,\n",
    "        minimum=0,\n",
    "        maximum=num_items - 1,\n",
    "        name='action',\n",
    "    )\n",
    "```"
   ]
  },
  {
   "cell_type": "markdown",
   "id": "fae68b8a-8656-45cc-8977-70613629ce75",
   "metadata": {},
   "source": [
    "set vars"
   ]
  },
  {
   "cell_type": "code",
   "execution_count": 50,
   "id": "5426bb09-834b-4cb3-9bf4-8d84482307e9",
   "metadata": {},
   "outputs": [
    {
     "name": "stdout",
     "output_type": "stream",
     "text": [
      "BATCH_SIZE         : 5\n",
      "EVAL_BATCH_SIZE    : 1\n",
      "NUM_ITEMS          : 3\n",
      "NUM_SLOTS          : 2\n",
      "DISTANCE_THRESHOLD : 0.5\n",
      "GLOBAL_DIM         : 64\n",
      "PER_ARM_DIM        : 64\n"
     ]
    }
   ],
   "source": [
    "from tf_agents.specs import array_spec\n",
    "\n",
    "print(f\"BATCH_SIZE         : {BATCH_SIZE}\")\n",
    "print(f\"EVAL_BATCH_SIZE    : {EVAL_BATCH_SIZE}\")\n",
    "print(f\"NUM_ITEMS          : {NUM_ITEMS}\")\n",
    "print(f\"NUM_SLOTS          : {NUM_SLOTS}\")\n",
    "print(f\"DISTANCE_THRESHOLD : {DISTANCE_THRESHOLD}\")\n",
    "print(f\"GLOBAL_DIM         : {GLOBAL_DIM}\")\n",
    "print(f\"PER_ARM_DIM        : {PER_ARM_DIM}\")"
   ]
  },
  {
   "cell_type": "markdown",
   "id": "cc572702-592c-4d60-8719-50739f611e16",
   "metadata": {},
   "source": [
    "### Observation spec\n",
    "\n",
    "* The observation the agent ingests contains the global features and the features\n",
    "of the items in the recommendation slots. \n",
    "* The item features are stored in the `per_arm` part of the observation, in the order of how they are recommended.\n",
    "* Since this ordered list of items expresses what action was taken by the policy, the `action` value of the trajectory is not used by the agent."
   ]
  },
  {
   "cell_type": "code",
   "execution_count": 51,
   "id": "0b97866b-fb8c-4724-ac6f-ce789d5b7368",
   "metadata": {},
   "outputs": [
    {
     "data": {
      "text/plain": [
       "{'global': TensorSpec(shape=(64,), dtype=tf.float32, name=None),\n",
       " 'per_arm': TensorSpec(shape=(2, 64), dtype=tf.float32, name=None)}"
      ]
     },
     "execution_count": 51,
     "metadata": {},
     "output_type": "execute_result"
    }
   ],
   "source": [
    "observation_spec = {\n",
    "    'global': tf.TensorSpec([GLOBAL_DIM], tf.float32),\n",
    "    # 'per_arm': tf.TensorSpec([NUM_ITEMS, PER_ARM_DIM], tf.float32)\n",
    "    'per_arm': tf.TensorSpec([NUM_SLOTS, PER_ARM_DIM], tf.float32)\n",
    "}\n",
    "observation_spec"
   ]
  },
  {
   "cell_type": "markdown",
   "id": "80565f15-d41e-46db-99b3-6ea6a73ab6aa",
   "metadata": {},
   "source": [
    "### Action spec\n",
    "\n",
    "> Action spec for ranking models must have rank 1"
   ]
  },
  {
   "cell_type": "code",
   "execution_count": 52,
   "id": "73b90ec0-1fe2-4b08-8a47-1fd32058705f",
   "metadata": {},
   "outputs": [
    {
     "name": "stdout",
     "output_type": "stream",
     "text": [
      "action_spec rank: (2,)\n"
     ]
    },
    {
     "data": {
      "text/plain": [
       "BoundedArraySpec(shape=(2,), dtype=dtype('int32'), name='action', minimum=0, maximum=2)"
      ]
     },
     "execution_count": 52,
     "metadata": {},
     "output_type": "execute_result"
    }
   ],
   "source": [
    "# action_spec = tensor_spec.BoundedTensorSpec(\n",
    "#     shape=(NUM_SLOTS,),\n",
    "#     dtype=tf.int32,\n",
    "#     minimum=tf.constant(0),            \n",
    "#     maximum=NUM_ITEMS - 1, # n degrees of freedom and will dictate the expected mean reward spec shape\n",
    "#     name=\"action_spec\"\n",
    "# )\n",
    "\n",
    "action_spec = array_spec.BoundedArraySpec(\n",
    "    shape=(NUM_SLOTS,),\n",
    "    dtype=np.int32,\n",
    "    minimum=0,\n",
    "    maximum=NUM_ITEMS - 1,\n",
    "    name='action',\n",
    ")\n",
    "\n",
    "print(f\"action_spec rank: {action_spec.shape}\")\n",
    "\n",
    "action_spec"
   ]
  },
  {
   "cell_type": "markdown",
   "id": "ccdacef1-fd61-4569-9bf7-299c52903710",
   "metadata": {},
   "source": [
    "### Reward spec"
   ]
  },
  {
   "cell_type": "code",
   "execution_count": 53,
   "id": "166f53bd-cdb9-49c4-a4d8-2904a6300f4c",
   "metadata": {},
   "outputs": [
    {
     "data": {
      "text/plain": [
       "TensorSpec(shape=(2,), dtype=tf.float32, name='score_vector')"
      ]
     },
     "execution_count": 53,
     "metadata": {},
     "output_type": "execute_result"
    }
   ],
   "source": [
    "if feedback_model == ranking_environment.FeedbackModel.CASCADING:\n",
    "    # `chosen_index == num_slots` means no recommended item was clicked.\n",
    "    reward_spec = {\n",
    "        'chosen_index': array_spec.BoundedArraySpec(\n",
    "            shape=[],\n",
    "            minimum=0,\n",
    "            maximum=NUM_SLOTS,\n",
    "            dtype=np.int32,\n",
    "            name='chosen_index',\n",
    "        ),\n",
    "        'chosen_value': array_spec.ArraySpec(\n",
    "            shape=[], dtype=np.float32, name='chosen_value'\n",
    "        ),\n",
    "    }\n",
    "elif feedback_model == ranking_environment.FeedbackModel.SCORE_VECTOR:\n",
    "    reward_spec = tf.TensorSpec(\n",
    "        shape=[NUM_SLOTS], dtype=np.float32, name='score_vector'\n",
    "    )\n",
    "    # reward_spec = array_spec.ArraySpec(\n",
    "    #     shape=[NUM_SLOTS], dtype=np.float32, name='score_vector'\n",
    "    # )\n",
    "else:\n",
    "    reward_spec = f\"Feedback model: {feedback_model}, not implemented\"\n",
    "    \n",
    "reward_spec"
   ]
  },
  {
   "cell_type": "markdown",
   "id": "de0deb69-a259-4495-a58e-81c0fd2a97ab",
   "metadata": {},
   "source": [
    "### TimeStep spec"
   ]
  },
  {
   "cell_type": "code",
   "execution_count": 54,
   "id": "aa7a5d0e-d4c2-4f8c-b67e-84fe6d1e4fcb",
   "metadata": {},
   "outputs": [
    {
     "data": {
      "text/plain": [
       "TimeStep(\n",
       "{'discount': BoundedTensorSpec(shape=(), dtype=tf.float32, name='discount', minimum=array(0., dtype=float32), maximum=array(1., dtype=float32)),\n",
       " 'observation': {'global': TensorSpec(shape=(64,), dtype=tf.float32, name=None),\n",
       "                 'per_arm': TensorSpec(shape=(2, 64), dtype=tf.float32, name=None)},\n",
       " 'reward': TensorSpec(shape=(2,), dtype=tf.float32, name='score_vector'),\n",
       " 'step_type': TensorSpec(shape=(), dtype=tf.int32, name='step_type')})"
      ]
     },
     "execution_count": 54,
     "metadata": {},
     "output_type": "execute_result"
    }
   ],
   "source": [
    "# TODO - investigate adding reward_spec\n",
    "\"\"\"\n",
    "TypeError: Expected observation and reward specs to \n",
    "both be either tensor or array specs, but saw spec values \n",
    "TensorSpec(shape=(64,), dtype=tf.float32, name=None) \n",
    "vs. ArraySpec(shape=(2,), dtype=dtype('float32'), name='score_vector')\n",
    "\"\"\"\n",
    "\n",
    "\n",
    "time_step_spec = ts.time_step_spec(\n",
    "    observation_spec = observation_spec, \n",
    "    reward_spec = reward_spec             # TODO\n",
    ")\n",
    "time_step_spec"
   ]
  },
  {
   "cell_type": "markdown",
   "id": "f1ecc66c-ce8b-480b-8306-40eaf399f120",
   "metadata": {},
   "source": [
    "Inspect chosen arm features spec"
   ]
  },
  {
   "cell_type": "code",
   "execution_count": 55,
   "id": "164a5760-3ca3-4397-85b3-26bbcd987b52",
   "metadata": {},
   "outputs": [
    {
     "data": {
      "text/plain": [
       "{'global': TensorSpec(shape=(64,), dtype=tf.float32, name=None),\n",
       " 'per_arm': TensorSpec(shape=(2, 64), dtype=tf.float32, name=None)}"
      ]
     },
     "execution_count": 55,
     "metadata": {},
     "output_type": "execute_result"
    }
   ],
   "source": [
    "time_step_spec.observation"
   ]
  },
  {
   "cell_type": "markdown",
   "id": "ad033e89-1f1c-4f63-9084-bf6a6807915f",
   "metadata": {},
   "source": [
    "## Policy and Scoring Network\n",
    "\n",
    "> all ranking agents train a network that estimates scores of item/user pairs\n",
    "\n",
    "**Ranking Policies**\n",
    "* `DESCENDING_SCORES` - Stack rank deterministically by scores\n",
    "* `NO_PENALTY` - Sampling sequentially based on scores; no penalty applied\n",
    "* `COSINE_DISTANCE` - Sampling sequentally and taking diversity into account\n",
    "\n",
    "`penalty_mixture` parameter governs the balance between ranking based on scores and accounting for diversity\n",
    "* low positive value --> ranking has less diversity\n",
    "* higher value --> enforces more diversity\n",
    "\n",
    "`logits_temperature` - temperature parameter for non-deterministic policies\n",
    "* This value must be positive"
   ]
  },
  {
   "cell_type": "code",
   "execution_count": 56,
   "id": "5ce99346-5745-4d87-a469-9a36cb270987",
   "metadata": {},
   "outputs": [
    {
     "name": "stdout",
     "output_type": "stream",
     "text": [
      "GLOBAL_DIM  : 64\n",
      "PER_ARM_DIM : 64\n"
     ]
    }
   ],
   "source": [
    "print(f\"GLOBAL_DIM  : {GLOBAL_DIM}\")\n",
    "print(f\"PER_ARM_DIM : {PER_ARM_DIM}\")"
   ]
  },
  {
   "cell_type": "code",
   "execution_count": 57,
   "id": "c5aea87d-c993-4cd6-80ad-0522dcc91956",
   "metadata": {},
   "outputs": [
    {
     "name": "stdout",
     "output_type": "stream",
     "text": [
      "{'batch_size': 5,\n",
      " 'common_layers': [16, 8],\n",
      " 'eval_batch_size': 1,\n",
      " 'feedback_model': 2,\n",
      " 'global_layers': [64, 32, 16],\n",
      " 'learning_rate': 0.005,\n",
      " 'logits_temperature': 1.0,\n",
      " 'model_type': 'Ranking',\n",
      " 'network_type': 'dotproduct',\n",
      " 'num_itmes': 3,\n",
      " 'num_slots': 2,\n",
      " 'penalty_mixture': 1.0,\n",
      " 'per_arm_layers': [64, 32, 16],\n",
      " 'policy_type': <RankingPolicyType.COSINE_DISTANCE: 1>}\n"
     ]
    }
   ],
   "source": [
    "AGENT_TYPE = \"Ranking\"\n",
    "NETWORK_TYPE = \"dotproduct\"\n",
    "POLICY_TYPE = ranking_agent.RankingPolicyType.COSINE_DISTANCE # COSINE_DISTANCE | NO_PENALTY | DESCENDING_SCORES\n",
    "\n",
    "PENALTY_MIXTURE = 1.0\n",
    "LOGITS_TEMPERATURE = 1.0\n",
    "\n",
    "LEARNING_RATE = 0.005\n",
    "\n",
    "GLOBAL_LAYERS   = [64, 32, 16]\n",
    "ARM_LAYERS      = [64, 32, 16]\n",
    "COMMON_LAYERS   = [16, 8]\n",
    "\n",
    "HPARAMS = {  # TODO - streamline and consolidate\n",
    "    \"batch_size\": BATCH_SIZE,\n",
    "    \"eval_batch_size\" : EVAL_BATCH_SIZE,\n",
    "    \"num_itmes\": NUM_ITEMS,\n",
    "    \"num_slots\": NUM_SLOTS,\n",
    "    \"model_type\": AGENT_TYPE,\n",
    "    \"network_type\": NETWORK_TYPE,\n",
    "    \"global_layers\": GLOBAL_LAYERS,\n",
    "    \"per_arm_layers\": ARM_LAYERS,\n",
    "    \"common_layers\": COMMON_LAYERS,\n",
    "    \"learning_rate\": LEARNING_RATE,\n",
    "    \"policy_type\": POLICY_TYPE,\n",
    "    \"feedback_model\" : feedback_model,\n",
    "    \"penalty_mixture\": PENALTY_MIXTURE,\n",
    "    \"logits_temperature\": LOGITS_TEMPERATURE,\n",
    "}\n",
    "pprint(HPARAMS)"
   ]
  },
  {
   "cell_type": "code",
   "execution_count": 58,
   "id": "80d4e8a9-6582-425d-9c50-499aa883b2cb",
   "metadata": {},
   "outputs": [
    {
     "name": "stdout",
     "output_type": "stream",
     "text": [
      "Network: GlobalAndArmDotProductNetwork\n"
     ]
    }
   ],
   "source": [
    "if NETWORK_TYPE == 'commontower':\n",
    "    scoring_network = global_and_arm_feature_network.create_feed_forward_common_tower_network(\n",
    "        observation_spec = observation_spec, \n",
    "        global_layers = GLOBAL_LAYERS, \n",
    "        arm_layers = ARM_LAYERS, \n",
    "        common_layers = COMMON_LAYERS,\n",
    "        # output_dim = output_dim,\n",
    "    )\n",
    "    \n",
    "elif NETWORK_TYPE == 'dotproduct':\n",
    "    scoring_network = global_and_arm_feature_network.create_feed_forward_dot_product_network(\n",
    "        observation_spec = observation_spec, \n",
    "        global_layers = GLOBAL_LAYERS, \n",
    "        arm_layers = ARM_LAYERS\n",
    "    )\n",
    "    \n",
    "if NETWORK_TYPE:\n",
    "    print(f\"Network: {scoring_network.name}\")"
   ]
  },
  {
   "cell_type": "markdown",
   "id": "0e1939dc-7ee9-414c-aa89-85b08bcfb4cb",
   "metadata": {},
   "source": [
    "## Define Agent "
   ]
  },
  {
   "cell_type": "code",
   "execution_count": 59,
   "id": "5dad7dd6-3d19-4c79-8a72-078253f046e5",
   "metadata": {},
   "outputs": [
    {
     "data": {
      "text/plain": [
       "<tf_agents.bandits.agents.ranking_agent.RankingAgent at 0x7f3e4a111f60>"
      ]
     },
     "execution_count": 59,
     "metadata": {},
     "output_type": "execute_result"
    }
   ],
   "source": [
    "rank_agent = ranking_agent.RankingAgent(\n",
    "    time_step_spec=time_step_spec,\n",
    "    action_spec=action_spec,\n",
    "    scoring_network=scoring_network,\n",
    "    optimizer=tf.compat.v1.train.AdamOptimizer(learning_rate=HPARAMS['learning_rate']),\n",
    "    feedback_model=ranking_agent.FeedbackModel.SCORE_VECTOR, # FeedbackModel.SCORE_VECTOR, # feedback_model,\n",
    "    policy_type=HPARAMS['policy_type'],\n",
    "    logits_temperature=HPARAMS['logits_temperature'],\n",
    "    penalty_mixture_coefficient=HPARAMS['penalty_mixture'],\n",
    "    summarize_grads_and_vars=True\n",
    ")\n",
    "\n",
    "rank_agent"
   ]
  },
  {
   "cell_type": "code",
   "execution_count": 60,
   "id": "a38e772e-80b8-4dfe-811d-83fae71c912c",
   "metadata": {},
   "outputs": [
    {
     "data": {
      "text/plain": [
       "BoundedTensorSpec(shape=(2,), dtype=tf.int32, name='action', minimum=array(0, dtype=int32), maximum=array(2, dtype=int32))"
      ]
     },
     "execution_count": 60,
     "metadata": {},
     "output_type": "execute_result"
    }
   ],
   "source": [
    "rank_agent.action_spec"
   ]
  },
  {
   "cell_type": "code",
   "execution_count": 61,
   "id": "735ef8c6-1854-4118-aa9f-3ba875a664b4",
   "metadata": {},
   "outputs": [],
   "source": [
    "# time_step_spec"
   ]
  },
  {
   "cell_type": "code",
   "execution_count": 62,
   "id": "1616e93e-7555-4a52-a7e1-f9b895873620",
   "metadata": {},
   "outputs": [],
   "source": [
    "# rank_agent.time_step_spec"
   ]
  },
  {
   "cell_type": "code",
   "execution_count": 63,
   "id": "bff1a577-d86d-46d9-9071-0f10df0ca0cf",
   "metadata": {},
   "outputs": [],
   "source": [
    "# rank_agent.training_data_spec"
   ]
  },
  {
   "cell_type": "code",
   "execution_count": 64,
   "id": "fd594bbd-383b-41a8-bc5e-317db5b93a30",
   "metadata": {},
   "outputs": [
    {
     "data": {
      "text/plain": [
       "{'global': TensorSpec(shape=(64,), dtype=tf.float32, name=None),\n",
       " 'per_arm': TensorSpec(shape=(2, 64), dtype=tf.float32, name=None)}"
      ]
     },
     "execution_count": 64,
     "metadata": {},
     "output_type": "execute_result"
    }
   ],
   "source": [
    "rank_agent.training_data_spec.observation"
   ]
  },
  {
   "cell_type": "code",
   "execution_count": 65,
   "id": "7c38d4d1-6baf-47c1-8da7-d8a08ee15bd9",
   "metadata": {},
   "outputs": [],
   "source": [
    "# rank_agent.policy.action"
   ]
  },
  {
   "cell_type": "code",
   "execution_count": 66,
   "id": "21e2f27b-79b6-4ce6-bf61-0e777db54d6f",
   "metadata": {},
   "outputs": [
    {
     "data": {
      "text/plain": [
       "_TupleWrapper(TimeStep(\n",
       "{'discount': BoundedTensorSpec(shape=(), dtype=tf.float32, name='discount', minimum=array(0., dtype=float32), maximum=array(1., dtype=float32)),\n",
       " 'observation': DictWrapper({'global': TensorSpec(shape=(64,), dtype=tf.float32, name=None), 'per_arm': TensorSpec(shape=(2, 64), dtype=tf.float32, name=None)}),\n",
       " 'reward': TensorSpec(shape=(2,), dtype=tf.float32, name='score_vector'),\n",
       " 'step_type': TensorSpec(shape=(), dtype=tf.int32, name='step_type')}))"
      ]
     },
     "execution_count": 66,
     "metadata": {},
     "output_type": "execute_result"
    }
   ],
   "source": [
    "rank_agent.policy.time_step_spec"
   ]
  },
  {
   "cell_type": "code",
   "execution_count": 67,
   "id": "d6040423-c390-4e1a-90a9-69b9ab58b23c",
   "metadata": {},
   "outputs": [
    {
     "data": {
      "text/plain": [
       "_TupleWrapper(Trajectory(\n",
       "{'action': BoundedTensorSpec(shape=(2,), dtype=tf.int32, name=None, minimum=array(0, dtype=int32), maximum=array(1, dtype=int32)),\n",
       " 'discount': BoundedTensorSpec(shape=(), dtype=tf.float32, name='discount', minimum=array(0., dtype=float32), maximum=array(1., dtype=float32)),\n",
       " 'next_step_type': TensorSpec(shape=(), dtype=tf.int32, name='step_type'),\n",
       " 'observation': DictWrapper({'global': TensorSpec(shape=(64,), dtype=tf.float32, name=None), 'per_arm': TensorSpec(shape=(2, 64), dtype=tf.float32, name=None)}),\n",
       " 'policy_info': PolicyInfo(log_probability=(), predicted_rewards_mean=TensorSpec(shape=(2,), dtype=tf.float32, name=None), multiobjective_scalarized_predicted_rewards_mean=(), predicted_rewards_optimistic=(), predicted_rewards_sampled=(), bandit_policy_type=()),\n",
       " 'reward': TensorSpec(shape=(2,), dtype=tf.float32, name='score_vector'),\n",
       " 'step_type': TensorSpec(shape=(), dtype=tf.int32, name='step_type')}))"
      ]
     },
     "execution_count": 67,
     "metadata": {},
     "output_type": "execute_result"
    }
   ],
   "source": [
    "rank_agent.policy.trajectory_spec"
   ]
  },
  {
   "cell_type": "markdown",
   "id": "46435a9d-c901-4d32-8baa-1da60c427788",
   "metadata": {},
   "source": [
    "### Reward function\n",
    "\n",
    "* `_create_ranking_reward_features` - [src](https://source.corp.google.com/piper///depot/google3/learning/smartchoices/training/models/agent_factory_test.py?q=%22ranking_model_factory%22&sq=package:piper%20file:%2F%2Fdepot%2Fgoogle3%20-file:google3%2Fexperimental&start=1)\n",
    "\n",
    "* `_get_rewards_from_arm_features` "
   ]
  },
  {
   "cell_type": "code",
   "execution_count": 68,
   "id": "90b521c4-bb43-4cc5-b0fa-67d420b64834",
   "metadata": {},
   "outputs": [],
   "source": [
    "def _get_ranking_rewards_sv(x):\n",
    "    \"\"\"Calculates reward for the actions.\"\"\"\n",
    "    \n",
    "    # rating_scores_list = []\n",
    "    ratings_list = x[\"user_rating\"] #[0]\n",
    "    indices = tf.argsort(ratings_list, direction=\"DESCENDING\")\n",
    "    \n",
    "    feedback = tf.gather(ratings_list, indices, batch_dims=-1) #.numpy()\n",
    "    \n",
    "    # feedback = tf.math.top_k(feedback, k=HPARAMS['num_slots']).values\n",
    "    top_n_ratings = tf.slice(feedback, begin=[0, 0], size=[-1, HPARAMS['num_slots']])\n",
    "    \n",
    "    return top_n_ratings"
   ]
  },
  {
   "cell_type": "code",
   "execution_count": 69,
   "id": "997dbdd4-7048-4d9f-8f65-f5e99a28ef1a",
   "metadata": {},
   "outputs": [
    {
     "data": {
      "text/plain": [
       "<tf.Tensor: shape=(2, 2), dtype=float32, numpy=\n",
       "array([[4., 3.],\n",
       "       [5., 4.]], dtype=float32)>"
      ]
     },
     "execution_count": 69,
     "metadata": {},
     "output_type": "execute_result"
    }
   ],
   "source": [
    "test_ratings = _get_ranking_rewards_sv(data)\n",
    "test_ratings"
   ]
  },
  {
   "cell_type": "code",
   "execution_count": 70,
   "id": "31976a8d-c4ba-4fc1-a429-e24f812aac58",
   "metadata": {},
   "outputs": [],
   "source": [
    "def _rank_trajectory_fn(element): # hparams\n",
    "    \"\"\"Converts a dataset element into a trajectory.\"\"\"\n",
    "    # global_features = _get_global_context_features(element)\n",
    "    # arm_features = _get_per_arm_features(element)\n",
    "    \n",
    "    global_features = _get_global_context_features(element)\n",
    "    arm_features = _get_per_arm_features(element)\n",
    "    \n",
    "    # obs spec\n",
    "    observation = {\n",
    "        bandit_spec_utils.GLOBAL_FEATURE_KEY:\n",
    "            train_utils._add_outer_dimension(global_features),\n",
    "            # global_features,\n",
    "        bandit_spec_utils.PER_ARM_FEATURE_KEY: \n",
    "            train_utils._add_outer_dimension(arm_features)\n",
    "            # arm_features\n",
    "    }\n",
    "    \n",
    "    # reward = element['user_rating']\n",
    "    ranking_rewards = _get_ranking_rewards_sv(element)\n",
    "\n",
    "    \n",
    "    action = np.zeros((HPARAMS['num_slots']), dtype=np.int32)\n",
    "    # top_n_ratings = tf.slice(feedback, begin=[0, 0], size=[-1, HPARAMS['num_slots']])\n",
    "    # action=tf.zeros_like(ranking_rewards, dtype=tf.int32)\n",
    "    \n",
    "    discount = np.zeros((HPARAMS['num_slots']), dtype=np.float32)\n",
    "    # discount=tf.zeros_like(ranking_rewards, dtype=tf.int32)\n",
    "    return trajectory.single_step(\n",
    "        observation=observation,\n",
    "        action=action,\n",
    "        policy_info=(), #policy_info,\n",
    "        reward=ranking_rewards,\n",
    "        discount=discount\n",
    "    )\n"
   ]
  },
  {
   "cell_type": "code",
   "execution_count": 71,
   "id": "692bd7a5-a952-4cb6-99ac-14a1d196bb1b",
   "metadata": {},
   "outputs": [],
   "source": [
    "# test_arms # (2, 3, 64)\n",
    "\n",
    "# top_arms = tf.slice(test_arms, begin=[0, 0, 0], size=[-1, HPARAMS['num_slots']])\n",
    "# top_arms"
   ]
  },
  {
   "cell_type": "code",
   "execution_count": 72,
   "id": "c8221e8a-cdf2-4944-9856-6a2371d3f782",
   "metadata": {
    "tags": []
   },
   "outputs": [
    {
     "data": {
      "text/plain": [
       "Trajectory(\n",
       "{'action': <tf.Tensor: shape=(2,), dtype=int32, numpy=array([0, 0], dtype=int32)>,\n",
       " 'discount': <tf.Tensor: shape=(2,), dtype=float32, numpy=array([0., 0.], dtype=float32)>,\n",
       " 'next_step_type': <tf.Tensor: shape=(2,), dtype=int32, numpy=array([2, 2], dtype=int32)>,\n",
       " 'observation': {'global': <tf.Tensor: shape=(5, 1, 64), dtype=float32, numpy=\n",
       "array([[[ 0.04370818, -0.01135105,  0.0266356 ,  0.00445057,\n",
       "          0.01794897, -0.01123155,  0.01820037, -0.01236316,\n",
       "         -0.04714687,  0.01180333,  0.03817843,  0.00682211,\n",
       "          0.04256009, -0.0283603 , -0.00242324,  0.00948932,\n",
       "          0.01037207, -0.00822685,  0.04582613, -0.01500129,\n",
       "         -0.03047838,  0.04197461,  0.03291135,  0.04426822,\n",
       "          0.02072633, -0.00618589, -0.04319811,  0.0090512 ,\n",
       "         -0.04558665,  0.02924452, -0.01990993,  0.04883667,\n",
       "          0.00903035,  0.0130672 ,  0.0298072 , -0.00774354,\n",
       "          0.03854993,  0.03709947,  0.00772595,  0.04914529,\n",
       "          0.02790226, -0.03761049,  0.02432003, -0.00191277,\n",
       "         -0.01236521, -0.04426353, -0.03791174, -0.04519391,\n",
       "         -0.00229297, -0.01184074, -0.04209878, -0.01481508,\n",
       "         -0.03921328, -0.04272251,  0.01458052,  0.03762467,\n",
       "          0.03184244, -0.0199193 , -0.03657435,  0.02252989,\n",
       "          0.01776868, -0.0383962 , -0.03479626,  0.04221696]],\n",
       "\n",
       "       [[ 0.01277778, -0.03866661,  0.03230462, -0.02538696,\n",
       "          0.01017099, -0.03105248, -0.03321998,  0.01901932,\n",
       "          0.01253838, -0.01069219, -0.03511947, -0.02465129,\n",
       "          0.00993515,  0.04295162, -0.01951431,  0.02504697,\n",
       "         -0.00524599,  0.03894195, -0.02395999,  0.00566601,\n",
       "          0.02411691, -0.02027227, -0.04710409, -0.04097279,\n",
       "          0.03385014, -0.0342259 ,  0.0339765 ,  0.04105402,\n",
       "         -0.02804003, -0.00965079,  0.00332225, -0.02481269,\n",
       "          0.01392538, -0.04569791, -0.02535654,  0.04998427,\n",
       "          0.02086077,  0.0399381 ,  0.03396956, -0.03139266,\n",
       "         -0.01291484, -0.00024023,  0.02354458, -0.02902546,\n",
       "          0.00981517, -0.02698379,  0.04932311,  0.03421955,\n",
       "          0.04766791, -0.02827334, -0.02768913, -0.00997102,\n",
       "          0.04802426, -0.00878518, -0.04961466,  0.00455318,\n",
       "         -0.00211618,  0.00239702, -0.00103587,  0.0398293 ,\n",
       "         -0.01078305, -0.00828696,  0.02065411,  0.00164323]],\n",
       "\n",
       "       [[-0.0090932 , -0.00271031,  0.03882175, -0.03213441,\n",
       "          0.0060372 ,  0.04377185,  0.02100063, -0.04867416,\n",
       "          0.03275901, -0.03530239,  0.049778  ,  0.03045062,\n",
       "         -0.03868141,  0.04961684, -0.02118261,  0.03523305,\n",
       "          0.01687907,  0.03776517, -0.03146925, -0.04950693,\n",
       "         -0.00834308, -0.01120592,  0.02711837, -0.04416158,\n",
       "          0.01366359,  0.01769267, -0.00121708, -0.01109739,\n",
       "         -0.03471845, -0.01012682, -0.02131839, -0.04872142,\n",
       "          0.02977381,  0.00823982, -0.01915711, -0.03552332,\n",
       "          0.02231422,  0.01633971, -0.0081504 , -0.02839367,\n",
       "          0.04605652, -0.01511497, -0.04581325,  0.01583468,\n",
       "         -0.0218726 , -0.01995902, -0.04889542, -0.00549272,\n",
       "         -0.04368042,  0.04835466, -0.04976236, -0.01317527,\n",
       "          0.01673948,  0.02191378, -0.02307255,  0.03114353,\n",
       "          0.03148026, -0.03021021, -0.00433771,  0.04345635,\n",
       "          0.04621221, -0.00651047,  0.00803144,  0.01619646]],\n",
       "\n",
       "       [[ 0.03077717, -0.03715659, -0.00374006, -0.0195557 ,\n",
       "          0.01772347, -0.00428215, -0.00897085, -0.04316083,\n",
       "          0.02130463,  0.01257033,  0.04645969,  0.01364441,\n",
       "         -0.04259623, -0.03771492, -0.00084505,  0.00657318,\n",
       "          0.04381348, -0.0495327 ,  0.00648955,  0.01006541,\n",
       "          0.00255851, -0.03973566, -0.01959755, -0.04502664,\n",
       "         -0.03356178, -0.02320907,  0.01406193, -0.02722763,\n",
       "          0.04887168, -0.04388131, -0.03275681, -0.02495207,\n",
       "          0.00358571, -0.02860891, -0.01007348,  0.00526196,\n",
       "         -0.04846085,  0.01591003,  0.0184119 , -0.01863782,\n",
       "          0.03326596,  0.01197847, -0.02655056, -0.02553617,\n",
       "          0.04508973,  0.03592428,  0.03293154,  0.03115748,\n",
       "          0.00231303, -0.04089785,  0.04277169,  0.0109262 ,\n",
       "         -0.02733443, -0.02525592, -0.0406688 ,  0.01052576,\n",
       "         -0.03399359, -0.02981216,  0.03916145,  0.03472983,\n",
       "         -0.03767855,  0.04416882,  0.00265848,  0.04884335]],\n",
       "\n",
       "       [[ 0.0115309 ,  0.03096301, -0.03988846, -0.01188632,\n",
       "          0.01185151,  0.04263944, -0.04897165,  0.03481628,\n",
       "          0.02283395,  0.02083862,  0.02170776, -0.03031459,\n",
       "         -0.04556559,  0.03966424,  0.00317619, -0.01465577,\n",
       "          0.00510287, -0.03027469, -0.00209193, -0.04660723,\n",
       "         -0.01961278,  0.01779118, -0.04711042, -0.0463323 ,\n",
       "         -0.00413842, -0.04415262,  0.03018596, -0.01412348,\n",
       "         -0.00941981,  0.00405119,  0.04525348, -0.00426314,\n",
       "          0.01710305,  0.01293803,  0.04972514, -0.04252151,\n",
       "          0.03350762, -0.02439144,  0.02414328, -0.00683492,\n",
       "          0.03574195,  0.0159644 ,  0.04395102,  0.0223139 ,\n",
       "         -0.03494697,  0.03150561, -0.01184241, -0.01902229,\n",
       "          0.00366709,  0.04208089, -0.00101614, -0.01922268,\n",
       "         -0.04521279,  0.04312993, -0.01877122,  0.01649966,\n",
       "          0.02306959, -0.03746288,  0.02663458, -0.00326508,\n",
       "         -0.04502482,  0.01694502,  0.00777916, -0.01630171]]],\n",
       "      dtype=float32)>,\n",
       "                 'per_arm': <tf.Tensor: shape=(5, 1, 2, 64), dtype=float32, numpy=\n",
       "array([[[[ 3.02490108e-02,  4.40416485e-03,  2.69909836e-02,\n",
       "           2.99401172e-02, -6.63027167e-05,  2.27944739e-02,\n",
       "          -3.80651578e-02,  1.48499273e-02,  1.49717443e-02,\n",
       "          -4.35329564e-02,  1.66729204e-02,  4.75808717e-02,\n",
       "           2.64542177e-03,  2.24997886e-02,  2.01900862e-02,\n",
       "          -2.46952064e-02, -4.22429703e-02,  2.19405405e-02,\n",
       "          -4.79789376e-02,  4.59348001e-02,  3.43324058e-02,\n",
       "           9.05132294e-03,  4.80602272e-02,  9.03313234e-03,\n",
       "           5.63108921e-03, -3.80748734e-02,  2.88737305e-02,\n",
       "           2.72508375e-02, -4.00614515e-02, -4.62130085e-02,\n",
       "           9.86828655e-03,  8.28745216e-03,  2.34953649e-02,\n",
       "           4.71058227e-02,  2.03636624e-02, -4.06593308e-02,\n",
       "          -1.11716166e-02,  9.73912328e-03,  8.79742950e-03,\n",
       "          -4.95485179e-02,  3.22717689e-02,  4.17360999e-02,\n",
       "           4.53393720e-02, -4.18092497e-02,  3.12942266e-03,\n",
       "          -2.55607124e-02, -1.01741329e-02, -4.45603244e-02,\n",
       "          -2.65889652e-02,  1.13261454e-02,  4.72968556e-02,\n",
       "          -4.30144556e-02,  2.14510038e-03, -4.59372066e-02,\n",
       "          -3.23151238e-02,  3.02457102e-02, -4.59285043e-02,\n",
       "          -2.85256039e-02,  4.04751189e-02, -2.65264399e-02,\n",
       "           4.64219712e-02, -5.02850860e-03, -1.01487748e-02,\n",
       "           3.41228954e-02],\n",
       "         [ 1.26819871e-02,  1.47836246e-02,  1.43100135e-02,\n",
       "          -1.93941947e-02,  7.98638910e-03,  3.71932723e-02,\n",
       "           7.65300915e-03,  2.07233690e-02,  4.74291481e-02,\n",
       "           2.48486884e-02, -3.65972407e-02,  1.32403634e-02,\n",
       "          -3.67226116e-02,  1.88477673e-02, -2.69936454e-02,\n",
       "          -2.82921642e-03, -1.29413232e-02, -8.74693319e-03,\n",
       "          -2.30226871e-02, -3.13136131e-02,  4.13347743e-02,\n",
       "          -1.94737315e-02, -3.58124264e-02,  6.30936772e-03,\n",
       "           6.69068098e-03, -1.13114938e-02,  1.99737214e-02,\n",
       "           1.63485445e-02, -2.07304601e-02,  3.55627425e-02,\n",
       "          -3.32656391e-02, -1.68435574e-02, -9.05251503e-03,\n",
       "           1.89839117e-02, -2.45787203e-04, -2.06979997e-02,\n",
       "           1.85716413e-02,  7.48358667e-04,  1.23034120e-02,\n",
       "          -2.42721569e-02,  3.27706374e-02, -2.59468686e-02,\n",
       "          -3.63530293e-02, -3.33140492e-02,  3.20894383e-02,\n",
       "           3.97297852e-02,  3.50966938e-02, -6.65893406e-03,\n",
       "           2.38544010e-02,  3.59374993e-02,  4.64435481e-02,\n",
       "          -4.63668816e-02, -1.55789480e-02,  2.76790522e-02,\n",
       "           3.90647985e-02,  1.24243870e-02, -3.17433700e-02,\n",
       "           2.71568932e-02, -4.87331040e-02, -1.43020228e-03,\n",
       "          -3.17735821e-02,  6.91553205e-03, -1.37447007e-02,\n",
       "           1.49772875e-02]]],\n",
       "\n",
       "\n",
       "       [[[ 3.18454765e-02, -3.98148894e-02, -7.06698745e-03,\n",
       "           1.81444176e-02,  1.82683393e-03,  1.19045377e-02,\n",
       "           4.68010046e-02,  4.01490964e-02,  1.59008615e-02,\n",
       "          -1.32915974e-02, -4.71376888e-02, -4.08318639e-02,\n",
       "          -4.90369201e-02,  1.00370161e-02,  1.92460157e-02,\n",
       "           2.29172371e-02,  2.22237445e-02, -8.56053084e-04,\n",
       "          -3.03217527e-02,  4.50407602e-02, -2.43744142e-02,\n",
       "          -4.18383703e-02,  2.65192054e-02, -2.62195710e-02,\n",
       "          -1.24298111e-02, -4.62413095e-02,  1.66140907e-02,\n",
       "           1.48584954e-02, -1.73949078e-03, -8.78386572e-03,\n",
       "          -1.11385956e-02, -1.14236251e-02,  2.34953649e-02,\n",
       "           4.71058227e-02,  2.03636624e-02, -4.06593308e-02,\n",
       "          -1.11716166e-02,  9.73912328e-03,  8.79742950e-03,\n",
       "          -4.95485179e-02,  3.22717689e-02,  4.17360999e-02,\n",
       "           4.53393720e-02, -4.18092497e-02,  3.12942266e-03,\n",
       "          -2.55607124e-02, -1.01741329e-02, -4.45603244e-02,\n",
       "          -2.65889652e-02,  1.13261454e-02,  4.72968556e-02,\n",
       "          -4.30144556e-02,  2.14510038e-03, -4.59372066e-02,\n",
       "          -3.23151238e-02,  3.02457102e-02, -4.59285043e-02,\n",
       "          -2.85256039e-02,  4.04751189e-02, -2.65264399e-02,\n",
       "           4.64219712e-02, -5.02850860e-03, -1.01487748e-02,\n",
       "           3.41228954e-02],\n",
       "         [-1.37740374e-03,  4.78386916e-02, -4.48298343e-02,\n",
       "           7.61795789e-04,  3.67887877e-02, -4.56753373e-02,\n",
       "           1.69747807e-02, -4.56805937e-02, -3.18535939e-02,\n",
       "           2.92328708e-02,  4.23294641e-02,  4.96131517e-02,\n",
       "          -1.29311793e-02,  1.91593170e-03, -1.75687559e-02,\n",
       "          -2.50096079e-02,  3.62509489e-03,  3.27052809e-02,\n",
       "           2.00335495e-02,  4.41754945e-02,  3.03018577e-02,\n",
       "           3.43579985e-02,  2.48065256e-02, -6.65011257e-03,\n",
       "          -4.70409170e-02,  1.19358785e-02,  4.89446037e-02,\n",
       "           1.75867714e-02, -4.94744889e-02, -1.05147474e-02,\n",
       "          -3.57963927e-02, -8.20352882e-03, -3.58885750e-02,\n",
       "           1.44277550e-02,  3.44945900e-02,  1.94169544e-02,\n",
       "           2.20124163e-02, -4.08589020e-02, -3.42407227e-02,\n",
       "           4.63280715e-02, -6.13633543e-03, -4.44033407e-02,\n",
       "           3.62878926e-02,  7.04047829e-03,  4.00743373e-02,\n",
       "           2.10567154e-02, -1.53785460e-02, -5.93999773e-03,\n",
       "          -3.02201044e-02, -4.30837534e-02, -3.72991711e-03,\n",
       "          -3.64158526e-02, -2.41202600e-02, -3.07092424e-02,\n",
       "           5.01378626e-03,  4.58585508e-02, -2.14214809e-02,\n",
       "          -4.93418947e-02, -3.91816497e-02, -2.70349625e-02,\n",
       "          -4.60986868e-02, -4.01932597e-02, -1.84791572e-02,\n",
       "           1.67037286e-02]]],\n",
       "\n",
       "\n",
       "       [[[-3.48147526e-02, -1.12955086e-02, -3.32684889e-02,\n",
       "          -3.95580903e-02, -2.89424658e-02,  2.27665566e-02,\n",
       "           2.23442949e-02,  3.41952778e-02, -6.57282025e-03,\n",
       "           5.34588099e-03,  4.58653085e-02, -1.29008070e-02,\n",
       "           3.02623846e-02, -1.58715956e-02, -2.37422120e-02,\n",
       "           2.64783986e-02, -2.11457163e-03,  2.08566673e-02,\n",
       "          -4.30125855e-02,  1.38759650e-02, -3.88772972e-02,\n",
       "          -3.71256955e-02, -1.22809410e-02, -2.38637682e-02,\n",
       "           9.45719332e-03, -4.45127152e-02,  4.48725112e-02,\n",
       "           4.47248705e-02,  2.24268474e-02, -1.42701156e-02,\n",
       "          -1.56095996e-02, -2.29497310e-02, -1.80175789e-02,\n",
       "          -4.97752428e-03, -6.84873015e-03, -3.88777256e-03,\n",
       "           2.70821117e-02,  2.51932852e-02, -2.38301046e-02,\n",
       "           4.27000262e-02, -1.48845427e-02, -2.96232104e-02,\n",
       "          -3.17872763e-02, -4.62413207e-02,  2.38348171e-03,\n",
       "          -1.97128206e-03, -4.68799137e-02, -4.88818884e-02,\n",
       "           4.52721752e-02, -9.44728777e-03,  1.91488303e-02,\n",
       "          -1.00936666e-02, -2.62073632e-02, -1.83713324e-02,\n",
       "          -3.77395041e-02, -3.61004584e-02, -1.77531615e-02,\n",
       "          -3.52760665e-02, -2.90047880e-02,  7.38406181e-03,\n",
       "          -2.15264093e-02, -3.57744806e-02,  3.04612182e-02,\n",
       "          -1.04039423e-02],\n",
       "         [-2.36037374e-02, -7.56629556e-03,  2.19279863e-02,\n",
       "           3.89562510e-02,  2.68829577e-02,  4.63817269e-03,\n",
       "           3.66767906e-02,  1.95441954e-02,  8.26118141e-03,\n",
       "           2.65117995e-02, -2.94539332e-02,  1.24929771e-02,\n",
       "          -2.10517179e-02, -3.88066396e-02,  1.56310685e-02,\n",
       "          -2.46633645e-02,  4.15307283e-03, -6.74678013e-03,\n",
       "           5.17785549e-04,  1.63703077e-02,  3.64733823e-02,\n",
       "           1.85639299e-02, -1.37475356e-02, -2.81319860e-02,\n",
       "           3.94733883e-02,  1.21455789e-02, -2.71202568e-02,\n",
       "           1.30181573e-02,  1.39010660e-02,  2.37590112e-02,\n",
       "          -1.66059844e-02,  3.86923440e-02, -3.58885750e-02,\n",
       "           1.44277550e-02,  3.44945900e-02,  1.94169544e-02,\n",
       "           2.20124163e-02, -4.08589020e-02, -3.42407227e-02,\n",
       "           4.63280715e-02, -6.13633543e-03, -4.44033407e-02,\n",
       "           3.62878926e-02,  7.04047829e-03,  4.00743373e-02,\n",
       "           2.10567154e-02, -1.53785460e-02, -5.93999773e-03,\n",
       "          -3.02201044e-02, -4.30837534e-02, -3.72991711e-03,\n",
       "          -3.64158526e-02, -2.41202600e-02, -3.07092424e-02,\n",
       "           5.01378626e-03,  4.58585508e-02, -2.14214809e-02,\n",
       "          -4.93418947e-02, -3.91816497e-02, -2.70349625e-02,\n",
       "          -4.60986868e-02, -4.01932597e-02, -1.84791572e-02,\n",
       "           1.67037286e-02]]],\n",
       "\n",
       "\n",
       "       [[[-2.11665630e-02, -4.92749326e-02,  4.45681252e-02,\n",
       "          -2.05025319e-02,  4.02816869e-02,  4.76645939e-02,\n",
       "          -8.02112743e-03,  4.89316024e-02,  3.37786190e-02,\n",
       "           4.26348783e-02,  1.36214495e-03,  3.13563272e-03,\n",
       "           6.07740879e-03, -3.55609171e-02,  2.99430154e-02,\n",
       "           4.03024070e-02,  3.71386856e-03, -2.79026758e-02,\n",
       "           7.49181584e-03, -1.33975968e-02, -2.70449165e-02,\n",
       "          -3.11185475e-02,  2.04955451e-02, -4.27643061e-02,\n",
       "           2.13308372e-02,  3.47079076e-02,  8.98765400e-03,\n",
       "           4.64342870e-02, -4.65160720e-02,  2.17236020e-02,\n",
       "           1.27828829e-02,  1.56882741e-02, -1.80175789e-02,\n",
       "          -4.97752428e-03, -6.84873015e-03, -3.88777256e-03,\n",
       "           2.70821117e-02,  2.51932852e-02, -2.38301046e-02,\n",
       "           4.27000262e-02, -1.48845427e-02, -2.96232104e-02,\n",
       "          -3.17872763e-02, -4.62413207e-02,  2.38348171e-03,\n",
       "          -1.97128206e-03, -4.68799137e-02, -4.88818884e-02,\n",
       "           4.52721752e-02, -9.44728777e-03,  1.91488303e-02,\n",
       "          -1.00936666e-02, -2.62073632e-02, -1.83713324e-02,\n",
       "          -3.77395041e-02, -3.61004584e-02, -1.77531615e-02,\n",
       "          -3.52760665e-02, -2.90047880e-02,  7.38406181e-03,\n",
       "          -2.15264093e-02, -3.57744806e-02,  3.04612182e-02,\n",
       "          -1.04039423e-02],\n",
       "         [-3.38767767e-02,  2.25386135e-02, -1.62503347e-02,\n",
       "           4.50429954e-02, -1.69828534e-02, -8.58364254e-03,\n",
       "          -4.26105857e-02,  4.41409983e-02, -2.56870035e-02,\n",
       "           3.44136022e-02, -6.75570220e-04,  4.58291806e-02,\n",
       "           1.44717731e-02,  2.15533860e-02,  4.38529141e-02,\n",
       "          -4.00345102e-02,  3.56006734e-02, -2.31091734e-02,\n",
       "           1.40331723e-02, -1.82193406e-02, -7.93457031e-04,\n",
       "           3.26403864e-02,  4.26239483e-02,  2.75775529e-02,\n",
       "           7.29305670e-03,  2.94418000e-02, -3.64355072e-02,\n",
       "           7.94090331e-04, -3.07129696e-03,  4.35120948e-02,\n",
       "          -9.91911814e-03,  1.38711371e-02,  2.34953649e-02,\n",
       "           4.71058227e-02,  2.03636624e-02, -4.06593308e-02,\n",
       "          -1.11716166e-02,  9.73912328e-03,  8.79742950e-03,\n",
       "          -4.95485179e-02,  3.22717689e-02,  4.17360999e-02,\n",
       "           4.53393720e-02, -4.18092497e-02,  3.12942266e-03,\n",
       "          -2.55607124e-02, -1.01741329e-02, -4.45603244e-02,\n",
       "          -2.65889652e-02,  1.13261454e-02,  4.72968556e-02,\n",
       "          -4.30144556e-02,  2.14510038e-03, -4.59372066e-02,\n",
       "          -3.23151238e-02,  3.02457102e-02, -4.59285043e-02,\n",
       "          -2.85256039e-02,  4.04751189e-02, -2.65264399e-02,\n",
       "           4.64219712e-02, -5.02850860e-03, -1.01487748e-02,\n",
       "           3.41228954e-02]]],\n",
       "\n",
       "\n",
       "       [[[-2.77760513e-02, -2.39903219e-02,  4.66242544e-02,\n",
       "           3.57188843e-02,  3.54193151e-04, -4.26458009e-02,\n",
       "           2.14123167e-02,  9.62649658e-03,  4.55731787e-02,\n",
       "          -1.33419037e-03, -6.93988055e-04,  2.83441804e-02,\n",
       "           4.50626500e-02, -1.79023519e-02, -1.86291225e-02,\n",
       "          -2.07305551e-02,  4.24654521e-02, -3.58451121e-02,\n",
       "          -1.96987633e-02,  1.79481767e-02,  3.83908860e-02,\n",
       "           2.30039284e-03,  4.70238589e-02, -4.50486541e-02,\n",
       "          -3.13398242e-02,  4.21710871e-02, -1.92549359e-02,\n",
       "           3.27819623e-02,  4.39719446e-02, -2.70339102e-03,\n",
       "           2.99177803e-02,  8.01582262e-03, -3.58885750e-02,\n",
       "           1.44277550e-02,  3.44945900e-02,  1.94169544e-02,\n",
       "           2.20124163e-02, -4.08589020e-02, -3.42407227e-02,\n",
       "           4.63280715e-02, -6.13633543e-03, -4.44033407e-02,\n",
       "           3.62878926e-02,  7.04047829e-03,  4.00743373e-02,\n",
       "           2.10567154e-02, -1.53785460e-02, -5.93999773e-03,\n",
       "          -3.02201044e-02, -4.30837534e-02, -3.72991711e-03,\n",
       "          -3.64158526e-02, -2.41202600e-02, -3.07092424e-02,\n",
       "           5.01378626e-03,  4.58585508e-02, -2.14214809e-02,\n",
       "          -4.93418947e-02, -3.91816497e-02, -2.70349625e-02,\n",
       "          -4.60986868e-02, -4.01932597e-02, -1.84791572e-02,\n",
       "           1.67037286e-02],\n",
       "         [ 1.51693560e-02, -2.18830463e-02,  2.77713202e-02,\n",
       "          -4.33991328e-02, -1.44206174e-02, -4.74786162e-02,\n",
       "           4.23494466e-02,  4.18017395e-02, -2.61213668e-02,\n",
       "          -4.99499924e-02, -4.00396362e-02, -3.78911123e-02,\n",
       "           1.61120333e-02,  4.20455821e-02, -4.50338051e-03,\n",
       "           4.49550264e-02, -3.67438309e-02, -3.45504656e-02,\n",
       "          -1.44260041e-02, -1.63418055e-03,  1.37490295e-02,\n",
       "           3.87640335e-02,  4.08450402e-02, -1.96371321e-02,\n",
       "          -4.04856317e-02, -3.75036597e-02,  1.65490396e-02,\n",
       "           8.86937231e-03, -3.69495861e-02, -4.10945639e-02,\n",
       "           2.86181234e-02,  2.46587731e-02,  2.34953649e-02,\n",
       "           4.71058227e-02,  2.03636624e-02, -4.06593308e-02,\n",
       "          -1.11716166e-02,  9.73912328e-03,  8.79742950e-03,\n",
       "          -4.95485179e-02,  3.22717689e-02,  4.17360999e-02,\n",
       "           4.53393720e-02, -4.18092497e-02,  3.12942266e-03,\n",
       "          -2.55607124e-02, -1.01741329e-02, -4.45603244e-02,\n",
       "          -2.65889652e-02,  1.13261454e-02,  4.72968556e-02,\n",
       "          -4.30144556e-02,  2.14510038e-03, -4.59372066e-02,\n",
       "          -3.23151238e-02,  3.02457102e-02, -4.59285043e-02,\n",
       "          -2.85256039e-02,  4.04751189e-02, -2.65264399e-02,\n",
       "           4.64219712e-02, -5.02850860e-03, -1.01487748e-02,\n",
       "           3.41228954e-02]]]], dtype=float32)>},\n",
       " 'policy_info': (),\n",
       " 'reward': <tf.Tensor: shape=(5, 2), dtype=float32, numpy=\n",
       "array([[4., 3.],\n",
       "       [5., 4.],\n",
       "       [4., 3.],\n",
       "       [5., 5.],\n",
       "       [5., 3.]], dtype=float32)>,\n",
       " 'step_type': <tf.Tensor: shape=(2,), dtype=int32, numpy=array([0, 0], dtype=int32)>})"
      ]
     },
     "execution_count": 72,
     "metadata": {},
     "output_type": "execute_result"
    }
   ],
   "source": [
    "for x in train_dataset.batch(HPARAMS['batch_size']).take(1):\n",
    "    test_traj = _rank_trajectory_fn(x)\n",
    "    \n",
    "test_traj"
   ]
  },
  {
   "cell_type": "code",
   "execution_count": 73,
   "id": "57fd5848-4d75-4fae-8cd7-0d7310562508",
   "metadata": {},
   "outputs": [
    {
     "name": "stdout",
     "output_type": "stream",
     "text": [
      "test_traj.observation.shape: (5, 1, 64)\n",
      "test_traj.observation.shape: (5, 1, 2, 64)\n",
      "test_traj.discount.shape   : (2,)\n",
      "expected_num_actions: 3\n",
      "predicted_rewards_mean: TensorSpec(shape=(3,), dtype=tf.float32, name=None)\n"
     ]
    }
   ],
   "source": [
    "print(f\"test_traj.observation.shape: {test_traj.observation['global'].shape}\")\n",
    "print(f\"test_traj.observation.shape: {test_traj.observation['per_arm'].shape}\")\n",
    "print(f\"test_traj.discount.shape   : {test_traj.discount.shape}\") \n",
    "\n",
    "expected_num_actions = action_spec.maximum - action_spec.minimum + 1\n",
    "print(f\"expected_num_actions: {expected_num_actions}\")\n",
    "\n",
    "predicted_rewards_mean = tensor_spec.TensorSpec([expected_num_actions])\n",
    "print(f\"predicted_rewards_mean: {predicted_rewards_mean}\")"
   ]
  },
  {
   "cell_type": "markdown",
   "id": "37f5ac56-3153-48e3-999a-a818ca673129",
   "metadata": {},
   "source": [
    "# Train Ranking Agent"
   ]
  },
  {
   "cell_type": "code",
   "execution_count": 74,
   "id": "43cd93ee-4ed8-4b11-9350-5e606ccca87a",
   "metadata": {},
   "outputs": [
    {
     "name": "stdout",
     "output_type": "stream",
     "text": [
      "EXPERIMENT_NAME   : local-ranker-rec-bandits-v2\n",
      "RUN_NAME          : run-20231010-121806\n",
      "\n",
      "BASE_OUTPUT_DIR   : gs://rec-bandits-v2-hybrid-vertex-bucket/local-ranker-rec-bandits-v2/run-20231010-121806\n",
      "LOG_DIR           : gs://rec-bandits-v2-hybrid-vertex-bucket/local-ranker-rec-bandits-v2/run-20231010-121806/logs\n",
      "ROOT_DIR          : gs://rec-bandits-v2-hybrid-vertex-bucket/local-ranker-rec-bandits-v2/run-20231010-121806/root\n",
      "ARTIFACTS_DIR     : gs://rec-bandits-v2-hybrid-vertex-bucket/local-ranker-rec-bandits-v2/run-20231010-121806/artifacts\n"
     ]
    }
   ],
   "source": [
    "EXPERIMENT_NAME   = f'local-ranker-{PREFIX}'\n",
    "\n",
    "# new experiment\n",
    "invoke_time       = time.strftime(\"%Y%m%d-%H%M%S\")\n",
    "RUN_NAME          = f'run-{invoke_time}'\n",
    "\n",
    "BASE_OUTPUT_DIR   = f'{BUCKET_URI}/{EXPERIMENT_NAME}/{RUN_NAME}'\n",
    "LOG_DIR           = f\"{BASE_OUTPUT_DIR}/logs\"\n",
    "ROOT_DIR          = f\"{BASE_OUTPUT_DIR}/root\"       # Root directory for writing logs/summaries/checkpoints.\n",
    "ARTIFACTS_DIR     = f\"{BASE_OUTPUT_DIR}/artifacts\"  # Where the trained model will be saved and restored.\n",
    "\n",
    "aiplatform.init(\n",
    "    project=PROJECT_ID,\n",
    "    location=REGION,\n",
    "    experiment=EXPERIMENT_NAME\n",
    ")\n",
    "\n",
    "print(f\"EXPERIMENT_NAME   : {EXPERIMENT_NAME}\")\n",
    "print(f\"RUN_NAME          : {RUN_NAME}\\n\")\n",
    "print(f\"BASE_OUTPUT_DIR   : {BASE_OUTPUT_DIR}\")\n",
    "print(f\"LOG_DIR           : {LOG_DIR}\")\n",
    "print(f\"ROOT_DIR          : {ROOT_DIR}\")\n",
    "print(f\"ARTIFACTS_DIR     : {ARTIFACTS_DIR}\")"
   ]
  },
  {
   "cell_type": "code",
   "execution_count": 75,
   "id": "99169818-818e-4148-b045-25eded36f553",
   "metadata": {},
   "outputs": [
    {
     "name": "stdout",
     "output_type": "stream",
     "text": [
      "tf_agents version: 0.17.0\n",
      "tensorflow version: 2.13.0\n"
     ]
    }
   ],
   "source": [
    "import collections\n",
    "\n",
    "from tf_agents.policies import py_tf_eager_policy\n",
    "from tf_agents.policies import tf_policy\n",
    "from tf_agents.trajectories import time_step as ts\n",
    "from tf_agents.policies import policy_saver\n",
    "from tf_agents.metrics import export_utils\n",
    "from tf_agents.metrics import tf_metrics\n",
    "from tf_agents.eval import metric_utils\n",
    "from tf_agents.utils import common\n",
    "\n",
    "import tf_agents\n",
    "\n",
    "print(f\"tf_agents version: {tf_agents.__version__}\")\n",
    "print(f\"tensorflow version: {tf.__version__}\")"
   ]
  },
  {
   "cell_type": "markdown",
   "id": "01f7b1cc-a927-45c0-b64d-30a70250fb8d",
   "metadata": {},
   "source": [
    "### logs & checkpoints"
   ]
  },
  {
   "cell_type": "code",
   "execution_count": 76,
   "id": "e6f63092-48ba-4cb2-8ee4-9b30bd4c23c2",
   "metadata": {},
   "outputs": [
    {
     "name": "stdout",
     "output_type": "stream",
     "text": [
      "agent: ranking_agent\n",
      "agent: penalize_cosine_distance_ranking_policy\n"
     ]
    }
   ],
   "source": [
    "global_step = tf.compat.v1.train.get_or_create_global_step()\n",
    "\n",
    "rank_agent.initialize()\n",
    "print(f'agent: {rank_agent.name}')\n",
    "print(f'agent: {rank_agent.policy.name}')"
   ]
  },
  {
   "cell_type": "code",
   "execution_count": 77,
   "id": "dd893a5d-449e-4c21-b9fc-3cf5114dd2b2",
   "metadata": {},
   "outputs": [
    {
     "name": "stdout",
     "output_type": "stream",
     "text": [
      "('metrics: [<tf_agents.metrics.tf_metrics.AverageReturnMetric object at '\n",
      " '0x7f3e4a12faf0>]')\n",
      "setting checkpoint_manager: gs://rec-bandits-v2-hybrid-vertex-bucket/local-ranker-rec-bandits-v2/run-20231010-121806/root/chkpoint\n"
     ]
    }
   ],
   "source": [
    "# ====================================================\n",
    "# TB summary writer\n",
    "# ====================================================\n",
    "train_summary_writer = tf.compat.v2.summary.create_file_writer(\n",
    "    f\"{LOG_DIR}\", flush_millis=10 * 1000\n",
    ")\n",
    "# train_summary_writer.set_as_default()\n",
    "\n",
    "# eval_summary_writer = tf.compat.v2.summary.create_file_writer(\n",
    "#     f\"{LOG_DIR}/eval\", flush_millis=10 * 1000\n",
    "# )\n",
    "# ====================================================\n",
    "# metrics\n",
    "# ====================================================\n",
    "# `step_metric` records the number of individual rounds of bandit interaction;\n",
    "# that is, (number of trajectories) * batch_size\n",
    "step_metric = tf_metrics.EnvironmentSteps()\n",
    "\n",
    "if feedback_model == ranking_environment.FeedbackModel.SCORE_VECTOR:\n",
    "    reward_metric = tf_metrics.AverageReturnMetric(\n",
    "        batch_size=HPARAMS['batch_size'],\n",
    "        buffer_size=20\n",
    "    )\n",
    "else:\n",
    "    reward_metric = tf_metrics.AverageReturnMultiMetric(\n",
    "        reward_spec=environment.reward_spec(),\n",
    "        batch_size=HPARAMS['batch_size'],\n",
    "        buffer_size=20\n",
    "    )\n",
    "    \n",
    "metrics = [reward_metric]\n",
    "\n",
    "pprint(f\"metrics: {metrics}\")\n",
    "\n",
    "# ====================================================\n",
    "# get checkpoint manager\n",
    "# ====================================================\n",
    "CHKPOINT_DIR = f\"{ROOT_DIR}/chkpoint\"\n",
    "print(f\"setting checkpoint_manager: {CHKPOINT_DIR}\")\n",
    "\n",
    "checkpoint_manager = train_utils.restore_and_get_checkpoint_manager(\n",
    "    root_dir=CHKPOINT_DIR, \n",
    "    agent=rank_agent, \n",
    "    metrics=metrics, \n",
    "    step_metric=step_metric\n",
    ")"
   ]
  },
  {
   "cell_type": "code",
   "execution_count": 78,
   "id": "dd8bc05c-81f1-4919-9668-a0236f35a061",
   "metadata": {},
   "outputs": [],
   "source": [
    "# # ====================================================\n",
    "# # policy saver\n",
    "# # ====================================================\n",
    "# saver = policy_saver.PolicySaver(\n",
    "#     policy = rank_agent.policy, \n",
    "#     # train_step=global_step\n",
    "# )"
   ]
  },
  {
   "cell_type": "code",
   "execution_count": 79,
   "id": "4bb1d475-446e-498f-a4c1-a813de6352e1",
   "metadata": {},
   "outputs": [],
   "source": [
    "policy = rank_agent.policy\n",
    "# isinstance(policy, tf_policy.TFPolicy)"
   ]
  },
  {
   "cell_type": "code",
   "execution_count": 80,
   "id": "9ca1261c-7ed9-4661-a705-7b5d674a7ab5",
   "metadata": {},
   "outputs": [
    {
     "data": {
      "text/plain": [
       "917"
      ]
     },
     "execution_count": 80,
     "metadata": {},
     "output_type": "execute_result"
    }
   ],
   "source": [
    "len(list(train_dataset))"
   ]
  },
  {
   "cell_type": "markdown",
   "id": "db9af553-9512-47e0-ae9d-d593139143e0",
   "metadata": {},
   "source": [
    "## Train config"
   ]
  },
  {
   "cell_type": "code",
   "execution_count": 81,
   "id": "50ef435c-3d9b-432d-a5e2-ab5d60e93cdf",
   "metadata": {},
   "outputs": [
    {
     "name": "stdout",
     "output_type": "stream",
     "text": [
      "TRAIN_DATA_SIZE : 900\n",
      "NUM_TRAIN_STEPS : 180\n",
      "EVAL_DATA_SIZE : 900\n",
      "NUM_EVAL_STEPS : 100\n",
      "CHKPT_INTERVAL: 180\n",
      "LOG_INTERVAL : 10\n"
     ]
    }
   ],
   "source": [
    "TRAIN_DATA_SIZE = 900          # len(list(train_dataset))\n",
    "NUM_TRAIN_STEPS = 180            # TRAIN_DATA_SIZE // HPARAMS['batch_size']\n",
    "\n",
    "EVAL_DATA_SIZE  = 900          # len(list(val_dataset))\n",
    "NUM_EVAL_STEPS  = 100           # EVAL_DATA_SIZE // HPARAMS['eval_batch_size']\n",
    "\n",
    "CHKPT_INTERVAL  = NUM_TRAIN_STEPS # // 5\n",
    "LOG_INTERVAL    = 10\n",
    "# EVAL_INTERVAL = NUM_TRAIN_STEPS // 2\n",
    "\n",
    "print(f\"TRAIN_DATA_SIZE : {TRAIN_DATA_SIZE}\")\n",
    "print(f\"NUM_TRAIN_STEPS : {NUM_TRAIN_STEPS}\")\n",
    "print(f\"EVAL_DATA_SIZE : {EVAL_DATA_SIZE}\")\n",
    "print(f\"NUM_EVAL_STEPS : {NUM_EVAL_STEPS}\")\n",
    "print(f\"CHKPT_INTERVAL: {CHKPT_INTERVAL}\")\n",
    "print(f\"LOG_INTERVAL : {LOG_INTERVAL}\")\n",
    "# print(f\"EVAL_INTERVAL : {EVAL_INTERVAL}\")"
   ]
  },
  {
   "cell_type": "code",
   "execution_count": 82,
   "id": "d4fa546c-bb88-4fef-976d-98b245ee842a",
   "metadata": {},
   "outputs": [],
   "source": [
    "# train data\n",
    "train_ds_iterator = iter(train_dataset.batch(HPARAMS['batch_size']))\n",
    "# train_ds_iterator = iter(train_dataset)\n",
    "\n",
    "# eval dataset\n",
    "eval_ds = val_dataset.batch(HPARAMS[\"eval_batch_size\"])\n",
    "\n",
    "if NUM_EVAL_STEPS > 0:\n",
    "    eval_ds = eval_ds.take(NUM_EVAL_STEPS)\n",
    "\n",
    "# eval_ds = eval_ds.prefetch(tf.data.AUTOTUNE)\n",
    "# eval_ds"
   ]
  },
  {
   "cell_type": "markdown",
   "id": "3c4d8449-6285-478a-8876-3f67c47cc6be",
   "metadata": {},
   "source": [
    "[ranking_agent](https://github.com/tensorflow/agents/blob/master/tf_agents/bandits/agents/ranking_agent.py#L288C1-L310C8)\n",
    "\n",
    "```\n",
    "  def _loss(\n",
    "      self,\n",
    "      experience: types.NestedTensor,\n",
    "      weights: Optional[types.Tensor] = None,\n",
    "      training: bool = False,\n",
    "  ) -> tf_agent.LossInfo:\n",
    "    \"\"\"Computes loss for training the reward and constraint networks.\n",
    "\n",
    "    Args:\n",
    "      experience: A batch of experience data in the form of a `Trajectory` or\n",
    "        `Transition`.\n",
    "      weights: Optional scalar or elementwise (per-batch-entry) importance\n",
    "        weights.  The output batch loss will be scaled by these weights, and the\n",
    "        final scalar loss is the mean of these values.\n",
    "      training: Whether the loss is being used for training.\n",
    "\n",
    "    Returns:\n",
    "      A `LossInfo` containing the loss for the training step.\n",
    "\n",
    "    Raises:\n",
    "      ValueError:\n",
    "        if the number of actions is greater than 1.\n",
    "    \"\"\"\n",
    "```"
   ]
  },
  {
   "cell_type": "code",
   "execution_count": 83,
   "id": "032770fc-8c04-4d3f-af21-9938501a7c62",
   "metadata": {},
   "outputs": [
    {
     "name": "stdout",
     "output_type": "stream",
     "text": [
      "starting train loop...\n",
      "step = 0: train loss = 17.479999542236328\n",
      "step = 10: train loss = 7.900000095367432\n",
      "step = 20: train loss = 1.0099999904632568\n",
      "step = 30: train loss = 1.100000023841858\n",
      "step = 40: train loss = 0.8100000023841858\n",
      "step = 50: train loss = 0.6499999761581421\n",
      "step = 60: train loss = 0.9300000071525574\n",
      "step = 70: train loss = 0.4000000059604645\n",
      "step = 80: train loss = 0.9100000262260437\n",
      "step = 90: train loss = 2.3299999237060547\n",
      "step = 100: train loss = 0.5199999809265137\n",
      "step = 110: train loss = 1.1299999952316284\n",
      "step = 120: train loss = 0.800000011920929\n",
      "step = 130: train loss = 0.6700000166893005\n",
      "step = 140: train loss = 1.0\n",
      "step = 150: train loss = 1.9500000476837158\n",
      "step = 160: train loss = 0.3499999940395355\n",
      "step = 170: train loss = 0.1899999976158142\n",
      "train runtime_mins: 11\n"
     ]
    }
   ],
   "source": [
    "list_o_loss = []\n",
    "\n",
    "rank_agent.train_step_counter.assign(0)\n",
    "\n",
    "print(f\"starting train loop...\")\n",
    "start_time = time.time()\n",
    "\n",
    "# for i in tqdm(range(NUM_TRAIN_STEPS)):\n",
    "for i in range(NUM_TRAIN_STEPS):\n",
    "    \n",
    "    with train_summary_writer.as_default():\n",
    "\n",
    "        data = next(train_ds_iterator)\n",
    "        trajectories = _rank_trajectory_fn(data)\n",
    "\n",
    "        # All tensors in experience must be shaped [batch, time, ...] \n",
    "        step = rank_agent.train_step_counter.numpy()\n",
    "        loss = rank_agent.train(experience=trajectories)\n",
    "        list_o_loss.append(loss.loss.numpy())\n",
    "        \n",
    "        train_utils._export_metrics_and_summaries(\n",
    "            step=i, \n",
    "            metrics=metrics\n",
    "        )\n",
    "        \n",
    "        # print step loss\n",
    "        if step % LOG_INTERVAL == 0:\n",
    "            print(\n",
    "                'step = {0}: train loss = {1}'.format(\n",
    "                    step, round(loss.loss.numpy(), 2)\n",
    "                )\n",
    "            )\n",
    "\n",
    "        if i > 0 and i % CHKPT_INTERVAL == 0:\n",
    "            saver.save(os.path.join(CHKPOINT_DIR, 'policy_%d' % step_metric.result()))\n",
    "            print(f\"saved policy to: {CHKPOINT_DIR}\")\n",
    "            \n",
    "runtime_mins = int((time.time() - start_time) / 60)\n",
    "print(f\"train runtime_mins: {runtime_mins}\")"
   ]
  },
  {
   "cell_type": "code",
   "execution_count": 85,
   "id": "e657df42-b168-46f2-9b21-f99a91315a73",
   "metadata": {},
   "outputs": [
    {
     "name": "stdout",
     "output_type": "stream",
     "text": [
      "gs://rec-bandits-v2-hybrid-vertex-bucket/local-ranker-rec-bandits-v2/run-20231010-121806/logs/\n",
      "gs://rec-bandits-v2-hybrid-vertex-bucket/local-ranker-rec-bandits-v2/run-20231010-121806/logs/events.out.tfevents.1696940294.jt-tfa-bandit-rankers-2023-v2.177543.0.v2\n"
     ]
    }
   ],
   "source": [
    "# LOG_DIR\n",
    "\n",
    "! gsutil ls $LOG_DIR \n",
    "#/train"
   ]
  },
  {
   "cell_type": "code",
   "execution_count": 86,
   "id": "6b5e10ef-9f79-4030-b863-c821b695b957",
   "metadata": {},
   "outputs": [],
   "source": [
    "# %load_ext tensorboard\n",
    "%reload_ext tensorboard"
   ]
  },
  {
   "cell_type": "code",
   "execution_count": 88,
   "id": "85177c16-2b71-4be4-b378-59aa2cc8913a",
   "metadata": {},
   "outputs": [
    {
     "data": {
      "text/html": [
       "\n",
       "      <iframe id=\"tensorboard-frame-b3a6e23d364ab659\" width=\"100%\" height=\"800\" frameborder=\"0\">\n",
       "      </iframe>\n",
       "      <script>\n",
       "        (function() {\n",
       "          const frame = document.getElementById(\"tensorboard-frame-b3a6e23d364ab659\");\n",
       "          const url = new URL(\"/proxy/6010/\", window.location);\n",
       "          const port = 0;\n",
       "          if (port) {\n",
       "            url.port = port;\n",
       "          }\n",
       "          frame.src = url;\n",
       "        })();\n",
       "      </script>\n",
       "    "
      ],
      "text/plain": [
       "<IPython.core.display.HTML object>"
      ]
     },
     "metadata": {},
     "output_type": "display_data"
    }
   ],
   "source": [
    "%tensorboard --logdir=$LOG_DIR"
   ]
  },
  {
   "cell_type": "markdown",
   "id": "7cfdf7dc-d7c2-4eb4-86f0-57b784b65916",
   "metadata": {},
   "source": [
    "### Save Bandit Ranker"
   ]
  },
  {
   "cell_type": "code",
   "execution_count": 89,
   "id": "0110823a-ebd4-4fbf-8146-316d349fdd22",
   "metadata": {
    "tags": []
   },
   "outputs": [],
   "source": [
    "# save bandit\n",
    "tf.saved_model.save(rank_agent, ARTIFACTS_DIR)"
   ]
  },
  {
   "cell_type": "code",
   "execution_count": 90,
   "id": "30ab5d46-b98e-4532-87a2-467a6ea737c6",
   "metadata": {},
   "outputs": [
    {
     "name": "stdout",
     "output_type": "stream",
     "text": [
      "gs://rec-bandits-v2-hybrid-vertex-bucket/local-ranker-rec-bandits-v2/run-20231010-121806/artifacts/\n",
      "gs://rec-bandits-v2-hybrid-vertex-bucket/local-ranker-rec-bandits-v2/run-20231010-121806/artifacts/fingerprint.pb\n",
      "gs://rec-bandits-v2-hybrid-vertex-bucket/local-ranker-rec-bandits-v2/run-20231010-121806/artifacts/saved_model.pb\n",
      "gs://rec-bandits-v2-hybrid-vertex-bucket/local-ranker-rec-bandits-v2/run-20231010-121806/artifacts/assets/\n",
      "gs://rec-bandits-v2-hybrid-vertex-bucket/local-ranker-rec-bandits-v2/run-20231010-121806/artifacts/variables/\n"
     ]
    }
   ],
   "source": [
    "!gsutil ls $ARTIFACTS_DIR"
   ]
  },
  {
   "cell_type": "markdown",
   "id": "3bddd75a-21b0-4d09-9518-785246bd0a10",
   "metadata": {},
   "source": [
    "# Evaluate bandit ranking\n",
    "\n",
    "> **TODO**"
   ]
  },
  {
   "cell_type": "code",
   "execution_count": 248,
   "id": "ba6205d1-c8fc-4bd0-9c0e-7c3dc496d5cf",
   "metadata": {},
   "outputs": [
    {
     "data": {
      "text/plain": [
       "{'batch_size': 5,\n",
       " 'eval_batch_size': 1,\n",
       " 'num_itmes': 3,\n",
       " 'num_slots': 2,\n",
       " 'model_type': 'Ranking',\n",
       " 'network_type': 'dotproduct',\n",
       " 'global_layers': [64, 32, 16],\n",
       " 'per_arm_layers': [64, 32, 16],\n",
       " 'common_layers': [16, 8],\n",
       " 'learning_rate': 0.005,\n",
       " 'policy_type': <RankingPolicyType.COSINE_DISTANCE: 1>,\n",
       " 'feedback_model': 2,\n",
       " 'penalty_mixture': 1.0,\n",
       " 'logits_temperature': 1.0}"
      ]
     },
     "execution_count": 248,
     "metadata": {},
     "output_type": "execute_result"
    }
   ],
   "source": [
    "HPARAMS"
   ]
  },
  {
   "cell_type": "code",
   "execution_count": 247,
   "id": "fa2c92b9-5fb5-4945-a5ee-0feb525189c6",
   "metadata": {},
   "outputs": [],
   "source": [
    "def _create_random_ranking(\n",
    "    num_ranked_items: int, num_allowed_values: int, batch_size: int\n",
    "):\n",
    "    \"\"\"Returns a batch of `batch_size` rankings each of length `num_ranked_items`.\n",
    "\n",
    "    1. If `num_ranked_items` is no greater than `num_allowed_values`, each ranking\n",
    "    is a subset of [0, 1, ..., num_allowed_values - 1], of size\n",
    "    `num_ranked_items`.\n",
    "    2. If `num_ranked_items` is greater than `num_allowed_values`, the first\n",
    "    `num_allowed_values` of each ranking is a permutation of\n",
    "    [0, 1, ... num_allowed_values - 1]. The remaining `num_ranked_items -\n",
    "    num_allowed_values` of the ranking are unspecified.\n",
    "\n",
    "    Args:\n",
    "    num_ranked_items: the expected number of items in the output ranking, as\n",
    "      specified in the study config.\n",
    "    num_allowed_values: the number of items to select from.\n",
    "    batch_size: the number of batches of random rankings to return.\n",
    "    \"\"\"\n",
    "    num_valid_indices = min(num_ranked_items, num_allowed_values)\n",
    "    ranking = np.full(\n",
    "        (batch_size, num_ranked_items), np.iinfo(np.int32).max, dtype=np.int32\n",
    "    )\n",
    "    for idx in range(batch_size):\n",
    "        ranking[idx, :num_valid_indices] = np.random.choice(\n",
    "            num_allowed_values, size=num_valid_indices, replace=False\n",
    "        )\n",
    "    return ranking"
   ]
  },
  {
   "cell_type": "code",
   "execution_count": 249,
   "id": "f186a9b2-c72b-434c-a572-195b7edf36c6",
   "metadata": {},
   "outputs": [
    {
     "data": {
      "text/plain": [
       "array([[0, 1],\n",
       "       [1, 2],\n",
       "       [2, 1],\n",
       "       [1, 0],\n",
       "       [1, 0]], dtype=int32)"
      ]
     },
     "execution_count": 249,
     "metadata": {},
     "output_type": "execute_result"
    }
   ],
   "source": [
    "rand_rank_batch = _create_random_ranking(\n",
    "    num_ranked_items=HPARAMS['num_slots'],\n",
    "    num_allowed_values=HPARAMS['num_itmes'],\n",
    "    batch_size=HPARAMS['batch_size']\n",
    ")\n",
    "rand_rank_batch"
   ]
  },
  {
   "cell_type": "code",
   "execution_count": 238,
   "id": "4e0ce70d-cb79-45ad-888e-231c52e9504b",
   "metadata": {},
   "outputs": [
    {
     "data": {
      "text/plain": [
       "<tf_agents.policies.py_tf_eager_policy.PyTFEagerPolicy at 0x7fbae45bba90>"
      ]
     },
     "execution_count": 238,
     "metadata": {},
     "output_type": "execute_result"
    }
   ],
   "source": [
    "# from src.perarm_features import eval_perarm as eval_perarm\n",
    "eval_policy_tf = py_tf_eager_policy.PyTFEagerPolicy(rank_agent.policy, use_tf_function=True)\n",
    "eval_policy_tf"
   ]
  },
  {
   "cell_type": "code",
   "execution_count": 243,
   "id": "d0012588-b4c2-4ff6-b495-2c9e35aa7b27",
   "metadata": {},
   "outputs": [],
   "source": [
    "# eval_policy_tf.time_step_spec"
   ]
  },
  {
   "cell_type": "code",
   "execution_count": 244,
   "id": "c879333b-11f4-4a8a-add5-567f8ec6a9bc",
   "metadata": {},
   "outputs": [],
   "source": [
    "# eval_policy_tf.trajectory_spec"
   ]
  },
  {
   "cell_type": "code",
   "execution_count": 246,
   "id": "96e8f626-b650-474f-b085-fa1b90e2c478",
   "metadata": {},
   "outputs": [],
   "source": [
    "prediction = eval_policy_tf.action(trajectories)\n",
    "prediction"
   ]
  },
  {
   "cell_type": "code",
   "execution_count": 317,
   "id": "bbad1383-8c00-4bef-8ed2-d0e9201cab3a",
   "metadata": {},
   "outputs": [
    {
     "name": "stdout",
     "output_type": "stream",
     "text": [
      "concat_embeddings shape: (5, 64)\n",
      "concat_embeddings shape: (5, 64)\n"
     ]
    }
   ],
   "source": [
    "for x in eval_ds:\n",
    "\n",
    "    filter_mask = None\n",
    "    # get feature tensors\n",
    "\n",
    "#     global_feat_infer = _get_global_context_features(x)\n",
    "#     arm_feat_infer = _get_per_arm_features(x)\n",
    "    \n",
    "#     feature = {'global': global_feat_infer, 'per_arm': arm_feat_infer}\n",
    "\n",
    "#     rewards = x['user_rating']\n",
    "    \n",
    "    # reshape arm features\n",
    "    # arm_feat_infer = tf.reshape(arm_feat_infer, [HPARAMS['eval_batch_size'], PER_ARM_DIM])\n",
    "    # concat_arm = tf.concat([arm_feat_infer, dummy_arm], axis=0)\n",
    "    \n",
    "    # trajectory_step = train_utils._get_eval_step(feature, rewards.numpy()[0])\n",
    "    trajectory_step = _rank_trajectory_fn(x)\n",
    "    \n",
    "    break"
   ]
  },
  {
   "cell_type": "code",
   "execution_count": 321,
   "id": "226292aa-b55a-4958-b44c-da01a41c8cdf",
   "metadata": {},
   "outputs": [],
   "source": [
    "# rewards.numpy()[0]"
   ]
  },
  {
   "cell_type": "code",
   "execution_count": 320,
   "id": "6978ad56-1a57-4509-a5b4-30093a3f7f16",
   "metadata": {},
   "outputs": [],
   "source": [
    "# feature"
   ]
  },
  {
   "cell_type": "code",
   "execution_count": 322,
   "id": "9b04a614-9803-44b3-9435-04b441a36be5",
   "metadata": {},
   "outputs": [],
   "source": [
    "# arm_feat_infer"
   ]
  },
  {
   "cell_type": "code",
   "execution_count": null,
   "id": "c4cb0117-a91c-4a05-8c4b-93426cb911c8",
   "metadata": {},
   "outputs": [],
   "source": []
  },
  {
   "cell_type": "code",
   "execution_count": null,
   "id": "d1243ef3-ddcd-4f81-b08c-df89af563f44",
   "metadata": {},
   "outputs": [],
   "source": [
    "# ====================================================\n",
    "# Evaluate the agent's policy once before training\n",
    "# ====================================================\n",
    "# Reset the train step\n",
    "rank_agent.train_step_counter.assign(0)\n",
    "\n",
    "pre_policy_tf = py_tf_eager_policy.PyTFEagerPolicy(rank_agent.policy, use_tf_function=True)\n",
    "\n",
    "print(f\"evaluating pre-trained Agent...\")\n",
    "start_time = time.time()\n",
    "\n",
    "pre_val_loss, pre_preds, pre_tr_rewards = eval_perarm._run_bandit_eval(\n",
    "    policy = pre_policy_tf,\n",
    "    data = eval_ds,\n",
    "    eval_batch_size = HPARAMS['eval_batch_size'],\n",
    "    per_arm_dim = PER_ARM_DIM,\n",
    "    global_dim = GLOBAL_DIM,\n",
    "    vocab_dict = vocab_dict,\n",
    "    num_oov_buckets = NUM_OOV_BUCKETS,\n",
    "    global_emb_size = GLOBAL_EMBEDDING_SIZE,\n",
    "    mv_emb_size = MV_EMBEDDING_SIZE,\n",
    ")\n",
    "\n",
    "runtime_mins = int((time.time() - start_time) / 60)\n",
    "print(f\"pre-train val_loss     : {pre_val_loss}\")\n",
    "print(f\"pre-train eval runtime : {runtime_mins}\")\n",
    "# ====================================================\n",
    "# train loop\n",
    "# ====================================================\n",
    "print(f\"starting train loop...\")\n",
    "start_time = time.time()"
   ]
  },
  {
   "cell_type": "code",
   "execution_count": null,
   "id": "21fbf39b-90ca-4088-ab84-61d6f9b78152",
   "metadata": {},
   "outputs": [],
   "source": []
  },
  {
   "cell_type": "code",
   "execution_count": null,
   "id": "a8f9a1e3-80e3-4dd2-95d6-5e5c4d49010d",
   "metadata": {},
   "outputs": [],
   "source": []
  },
  {
   "cell_type": "code",
   "execution_count": null,
   "id": "c558330c-93d7-4851-b0b6-393b8a2a8e09",
   "metadata": {},
   "outputs": [],
   "source": []
  },
  {
   "cell_type": "code",
   "execution_count": null,
   "id": "cbe298e2-9dc2-43d5-a34b-3a20d48c2ef9",
   "metadata": {},
   "outputs": [],
   "source": []
  },
  {
   "cell_type": "code",
   "execution_count": null,
   "id": "994e3319-9984-4bd3-ba88-ee8538fff37a",
   "metadata": {},
   "outputs": [],
   "source": []
  },
  {
   "cell_type": "code",
   "execution_count": null,
   "id": "6a6592aa-5a59-4d2d-8772-9d5aaf41521c",
   "metadata": {},
   "outputs": [],
   "source": []
  },
  {
   "cell_type": "code",
   "execution_count": null,
   "id": "4f72d29a-fe8a-48cb-9d0c-2879d880fff8",
   "metadata": {},
   "outputs": [],
   "source": []
  },
  {
   "cell_type": "code",
   "execution_count": null,
   "id": "41e00513-8be9-46da-bca5-7cd342bd1c78",
   "metadata": {},
   "outputs": [],
   "source": []
  },
  {
   "cell_type": "markdown",
   "id": "9b54e1a2-daf0-4da6-97e9-62bb2c521652",
   "metadata": {},
   "source": [
    "## Ranking Bandit"
   ]
  },
  {
   "cell_type": "code",
   "execution_count": 32,
   "id": "1c209cd0-3e99-47dd-8cf6-069250024747",
   "metadata": {},
   "outputs": [
    {
     "name": "stdout",
     "output_type": "stream",
     "text": [
      "BATCH_SIZE      : 128\n",
      "EVAL_BATCH_SIZE : 1\n",
      "NUM_ACTIONS     : 2\n",
      "GLOBAL_DIM      : 64\n",
      "PER_ARM_DIM     : 64\n"
     ]
    }
   ],
   "source": [
    "BATCH_SIZE      = 128\n",
    "EVAL_BATCH_SIZE = 1\n",
    "\n",
    "NUM_ACTIONS = 2\n",
    "NUM_ITEMS  = 50\n",
    "NUM_SLOTS  = 3 \n",
    "\n",
    "print(f\"BATCH_SIZE      : {BATCH_SIZE}\")\n",
    "print(f\"EVAL_BATCH_SIZE : {EVAL_BATCH_SIZE}\")\n",
    "print(f\"NUM_ACTIONS     : {NUM_ACTIONS}\")\n",
    "print(f\"GLOBAL_DIM      : {GLOBAL_DIM}\")\n",
    "print(f\"PER_ARM_DIM     : {PER_ARM_DIM}\")"
   ]
  },
  {
   "cell_type": "markdown",
   "id": "13a47d2f-81c7-422c-8835-476d04617b66",
   "metadata": {},
   "source": [
    "## specs"
   ]
  },
  {
   "cell_type": "markdown",
   "id": "a7328484-bb4f-44cb-916d-a87bd4862ff5",
   "metadata": {},
   "source": [
    "### Observation Spec\n",
    "\n",
    "**example config:**\n",
    "```\n",
    "global_dim = 9  #@param{ type: \"integer\"}\n",
    "item_dim   = 11  #@param{ type: \"integer\"}\n",
    "num_items  = 50 #@param{ type: \"integer\"}\n",
    "num_slots  = 3  #@param{ type: \"integer\"}\n",
    "```\n",
    "**example obs sepc:**\n",
    "\n",
    "```\n",
    "{'global': TensorSpec(shape=(9,), dtype=tf.float32, name=None),\n",
    " 'per_arm': TensorSpec(shape=(50, 11), dtype=tf.float32, name=None)}\n",
    " ```"
   ]
  },
  {
   "cell_type": "code",
   "execution_count": 33,
   "id": "d2d296f6-1587-486a-a143-8ec69aae97a8",
   "metadata": {},
   "outputs": [
    {
     "data": {
      "text/plain": [
       "{'global': TensorSpec(shape=(64,), dtype=tf.float32, name=None),\n",
       " 'per_arm': TensorSpec(shape=(2, 64), dtype=tf.float32, name=None)}"
      ]
     },
     "execution_count": 33,
     "metadata": {},
     "output_type": "execute_result"
    }
   ],
   "source": [
    "observation_spec = {\n",
    "    'global': tf.TensorSpec([GLOBAL_DIM], tf.float32),\n",
    "    'per_arm': tf.TensorSpec([NUM_ACTIONS, PER_ARM_DIM], tf.float32) #excluding action dim here\n",
    "}\n",
    "observation_spec"
   ]
  },
  {
   "cell_type": "markdown",
   "id": "a2e88b4e-79f9-4a5a-8ba1-af28201fd01d",
   "metadata": {},
   "source": [
    "### Action Spec\n",
    "\n",
    "```\n",
    "BoundedTensorSpec(shape=(3,), dtype=tf.int32, name='action', minimum=array(0, dtype=int32), maximum=array(49, dtype=int32))\n",
    "\n",
    "```"
   ]
  },
  {
   "cell_type": "code",
   "execution_count": 34,
   "id": "d6304e73-7101-4cf8-92e6-fb2770e6de27",
   "metadata": {},
   "outputs": [
    {
     "data": {
      "text/plain": [
       "BoundedTensorSpec(shape=(), dtype=tf.int32, name='action_spec', minimum=array(0, dtype=int32), maximum=array(2, dtype=int32))"
      ]
     },
     "execution_count": 34,
     "metadata": {},
     "output_type": "execute_result"
    }
   ],
   "source": [
    "action_spec = tensor_spec.BoundedTensorSpec(\n",
    "    shape=[], \n",
    "    dtype=tf.int32,\n",
    "    minimum=tf.constant(0),            \n",
    "    maximum=NUM_SLOTS-1, # n degrees of freedom and will dictate the expected mean reward spec shape\n",
    "    name=\"action_spec\"\n",
    ")\n",
    "\n",
    "action_spec"
   ]
  },
  {
   "cell_type": "markdown",
   "id": "7bb4f836-ef3f-479b-8923-eb5f75dead56",
   "metadata": {},
   "source": [
    "### TimeStep Spec\n",
    "\n",
    "```\n",
    "TimeStep(\n",
    "{'discount': BoundedTensorSpec(shape=(), dtype=tf.float32, name='discount', minimum=array(0., dtype=float32), maximum=array(1., dtype=float32)),\n",
    " 'observation': {'global': TensorSpec(shape=(9,), dtype=tf.float32, name=None),\n",
    "                 'per_arm': TensorSpec(shape=(50, 11), dtype=tf.float32, name=None)},\n",
    " 'reward': {'chosen_index': BoundedTensorSpec(shape=(), dtype=tf.int32, name='chosen_index', minimum=array(0, dtype=int32), maximum=array(3, dtype=int32)),\n",
    "            'chosen_value': TensorSpec(shape=(), dtype=tf.float32, name='chosen_value')},\n",
    " 'step_type': TensorSpec(shape=(), dtype=tf.int32, name='step_type')})\n",
    " ```"
   ]
  },
  {
   "cell_type": "code",
   "execution_count": 35,
   "id": "1d29187a-f262-48bb-8b92-bca02fc1c155",
   "metadata": {},
   "outputs": [
    {
     "data": {
      "text/plain": [
       "TimeStep(\n",
       "{'discount': BoundedTensorSpec(shape=(), dtype=tf.float32, name='discount', minimum=array(0., dtype=float32), maximum=array(1., dtype=float32)),\n",
       " 'observation': {'global': TensorSpec(shape=(64,), dtype=tf.float32, name=None),\n",
       "                 'per_arm': TensorSpec(shape=(2, 64), dtype=tf.float32, name=None)},\n",
       " 'reward': TensorSpec(shape=(), dtype=tf.float32, name='reward'),\n",
       " 'step_type': TensorSpec(shape=(), dtype=tf.int32, name='step_type')})"
      ]
     },
     "execution_count": 35,
     "metadata": {},
     "output_type": "execute_result"
    }
   ],
   "source": [
    "time_step_spec = ts.time_step_spec(observation_spec)#, reward_spec=tf.TensorSpec([1, NUM_ACTIONS]))\n",
    "time_step_spec"
   ]
  },
  {
   "cell_type": "code",
   "execution_count": null,
   "id": "b5e6729f-dda4-43db-a639-d2c01df902c6",
   "metadata": {},
   "outputs": [],
   "source": [
    "feedback_model = ranking_environment.FeedbackModel"
   ]
  },
  {
   "cell_type": "code",
   "execution_count": null,
   "id": "06655962-6239-4ea1-b24c-72f1fd21faef",
   "metadata": {},
   "outputs": [],
   "source": []
  },
  {
   "cell_type": "code",
   "execution_count": null,
   "id": "fbdcafb1-90cd-4383-a386-17fce005ade0",
   "metadata": {},
   "outputs": [],
   "source": [
    "from src.perarm_features import ranking_bandit_policy\n",
    "# policy = ranking_bandit_policy.GenLinearRankingBanditPolicy("
   ]
  },
  {
   "cell_type": "code",
   "execution_count": null,
   "id": "341894e4-85fd-4b72-a9ed-64cbba150480",
   "metadata": {},
   "outputs": [],
   "source": [
    "from src.perarm_features import agent_factory as agent_factory\n",
    "ranking_bandit_agent = agent_factory.GenLinearRankingBanditAgent(XXX)"
   ]
  },
  {
   "cell_type": "code",
   "execution_count": null,
   "id": "bb694d9b-4d90-4644-9231-23dd9eb4dbf3",
   "metadata": {},
   "outputs": [],
   "source": []
  },
  {
   "cell_type": "code",
   "execution_count": null,
   "id": "da61e837-0482-4cd6-b36e-22404ba732ad",
   "metadata": {},
   "outputs": [],
   "source": []
  },
  {
   "cell_type": "code",
   "execution_count": null,
   "id": "e7661cad-e3cd-45dd-a435-551cec2fe2de",
   "metadata": {},
   "outputs": [],
   "source": []
  },
  {
   "cell_type": "code",
   "execution_count": null,
   "id": "7ea60997-803c-41f2-8f7a-db22b88785ba",
   "metadata": {},
   "outputs": [],
   "source": []
  },
  {
   "cell_type": "code",
   "execution_count": null,
   "id": "7a0dbd2e-0f00-495b-a487-b68b5d9e3821",
   "metadata": {},
   "outputs": [],
   "source": []
  },
  {
   "cell_type": "code",
   "execution_count": null,
   "id": "59da27af-157f-4adb-97b9-b4967d825b4c",
   "metadata": {},
   "outputs": [],
   "source": []
  },
  {
   "cell_type": "code",
   "execution_count": null,
   "id": "21e35cee-b0ee-4067-885e-144ad9c2554f",
   "metadata": {},
   "outputs": [],
   "source": []
  },
  {
   "cell_type": "code",
   "execution_count": null,
   "id": "c0f44b94-998c-43c2-b1c4-1443a5083ea4",
   "metadata": {},
   "outputs": [],
   "source": []
  },
  {
   "cell_type": "code",
   "execution_count": null,
   "id": "907c1573-cccd-422f-911e-06c5cb8e6ae9",
   "metadata": {},
   "outputs": [],
   "source": []
  }
 ],
 "metadata": {
  "environment": {
   "kernel": "python3",
   "name": "tf2-gpu.2-13.m112",
   "type": "gcloud",
   "uri": "gcr.io/deeplearning-platform-release/tf2-gpu.2-13:m112"
  },
  "kernelspec": {
   "display_name": "Python 3",
   "language": "python",
   "name": "python3"
  },
  "language_info": {
   "codemirror_mode": {
    "name": "ipython",
    "version": 3
   },
   "file_extension": ".py",
   "mimetype": "text/x-python",
   "name": "python",
   "nbconvert_exporter": "python",
   "pygments_lexer": "ipython3",
   "version": "3.10.12"
  }
 },
 "nbformat": 4,
 "nbformat_minor": 5
}
