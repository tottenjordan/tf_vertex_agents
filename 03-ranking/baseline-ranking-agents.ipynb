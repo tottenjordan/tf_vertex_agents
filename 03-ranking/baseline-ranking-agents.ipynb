{
 "cells": [
  {
   "cell_type": "markdown",
   "id": "f462e3ae-0544-4a09-8345-01fc822192f0",
   "metadata": {},
   "source": [
    "# Contextual Bandits for Ranking with TF-Agents\n",
    "\n",
    "> see [ranking tutorial](https://www.tensorflow.org/agents/tutorials/ranking_tutorial)"
   ]
  },
  {
   "cell_type": "markdown",
   "id": "214b2409-ca72-4a2f-972b-32185fbf441c",
   "metadata": {},
   "source": [
    "### Overview\n",
    "\n",
    "* The contextual bandits approach is classified as an extension of multi-armed bandits\n",
    "* a contextual multi-armed banded problem is a simplified reinforcement learning algorithm where the agent takes an action from a set of possible actions \n",
    "\n",
    "> **TODO**\n",
    "\n",
    "The **Bandit Ranking** agent will be similar to the `NeuralEpsilonGreedy` agent. Main differences:\n",
    "\n",
    "* The item features are stored in the `per_arm` part of the observation, in the order of how they are recommended\n",
    "* Since this ordered list of items expresses what action was taken by the policy,\n",
    "the `action` value of the trajectory is not used by the agent.\n",
    "\n",
    "> Note: difference between the \"per-arm\" observation recieved by the policy vs the agent:\n",
    "\n",
    "While the agent receives the items in the recommendation slots, the policy receives the items that are available for recommendation. The user is responsible for converting the observation to the\n",
    "syntax required by the agent.\n",
    "\n",
    "\n",
    "The training observation contains the global features and the features of the items in the recommendation slots \n",
    "* The item features are stored in the `per_arm` part of the observation, in the order of how they are recommended\n",
    "* Note: since this ordered list of items expresses what action was taken by the policy, the action value of the trajectory is not used by the agent"
   ]
  },
  {
   "cell_type": "markdown",
   "id": "ce53b012-c8db-4874-90bc-e13ac83fae19",
   "metadata": {},
   "source": [
    "## Load notebook config\n",
    "\n",
    "* use the prefix defined in `00-env-setup`"
   ]
  },
  {
   "cell_type": "code",
   "execution_count": 1,
   "id": "056b54b6-79d5-4ed6-b94a-6a776fc7db36",
   "metadata": {},
   "outputs": [
    {
     "name": "stdout",
     "output_type": "stream",
     "text": [
      "PREFIX: rec-bandits-v1\n"
     ]
    }
   ],
   "source": [
    "VERSION        = \"v1\"                       # TODO\n",
    "PREFIX         = f'rec-bandits-{VERSION}'   # TODO\n",
    "\n",
    "# PREFIX = 'mabv1'\n",
    "\n",
    "print(f\"PREFIX: {PREFIX}\")"
   ]
  },
  {
   "cell_type": "code",
   "execution_count": 2,
   "id": "2d3596a1-670b-4974-b643-2079a5db0afa",
   "metadata": {},
   "outputs": [
    {
     "name": "stdout",
     "output_type": "stream",
     "text": [
      "\n",
      "PROJECT_ID               = \"hybrid-vertex\"\n",
      "PROJECT_NUM              = \"934903580331\"\n",
      "LOCATION                 = \"us-central1\"\n",
      "\n",
      "REGION                   = \"us-central1\"\n",
      "BQ_LOCATION              = \"US\"\n",
      "VPC_NETWORK_NAME         = \"ucaip-haystack-vpc-network\"\n",
      "\n",
      "VERTEX_SA                = \"934903580331-compute@developer.gserviceaccount.com\"\n",
      "\n",
      "PREFIX                   = \"rec-bandits-v1\"\n",
      "VERSION                  = \"v1\"\n",
      "\n",
      "BUCKET_NAME              = \"rec-bandits-v1-hybrid-vertex-bucket\"\n",
      "BUCKET_URI               = \"gs://rec-bandits-v1-hybrid-vertex-bucket\"\n",
      "DATA_GCS_PREFIX          = \"data\"\n",
      "DATA_PATH                = \"gs://rec-bandits-v1-hybrid-vertex-bucket/data\"\n",
      "VOCAB_SUBDIR             = \"vocabs\"\n",
      "VOCAB_FILENAME           = \"vocab_dict.pkl\"\n",
      "\n",
      "VPC_NETWORK_FULL         = \"projects/934903580331/global/networks/ucaip-haystack-vpc-network\"\n",
      "\n",
      "BIGQUERY_DATASET_ID      = \"hybrid_vertex.movielens_ds_rec_bandits_v1\"\n",
      "BIGQUERY_TABLE_ID        = \"hybrid_vertex.movielens_ds_rec_bandits_v1.training_dataset\"\n",
      "\n",
      "REPO_DOCKER_PATH_PREFIX  = \"src\"\n",
      "RL_SUB_DIR               = \"per_arm_rl\"\n",
      "\n",
      "REPOSITORY               = \"rl-movielens-rec-bandits-v1\"\n",
      "IMAGE_NAME               = \"train-perarm-feats-v1\"\n",
      "REMOTE_IMAGE_NAME        = \"us-central1-docker.pkg.dev/hybrid-vertex/rl-movielens-rec-bandits-v1/train-perarm-feats-v1\"\n",
      "DOCKERNAME               = \"Dockerfile_perarm_feats\"\n",
      "\n"
     ]
    }
   ],
   "source": [
    "# staging GCS\n",
    "GCP_PROJECTS             = !gcloud config get-value project\n",
    "PROJECT_ID               = GCP_PROJECTS[0]\n",
    "\n",
    "# GCS bucket and paths\n",
    "BUCKET_NAME              = f'{PREFIX}-{PROJECT_ID}-bucket'\n",
    "BUCKET_URI               = f'gs://{BUCKET_NAME}'\n",
    "\n",
    "config = !gsutil cat {BUCKET_URI}/config/notebook_env.py\n",
    "print(config.n)\n",
    "exec(config.n)"
   ]
  },
  {
   "cell_type": "markdown",
   "id": "940507dd-369b-4b93-a0c5-4b2d0e079269",
   "metadata": {},
   "source": [
    "## imports"
   ]
  },
  {
   "cell_type": "code",
   "execution_count": 3,
   "id": "d4fec363-3a69-4fc6-ab38-706230fba418",
   "metadata": {},
   "outputs": [],
   "source": [
    "import os\n",
    "os.environ['TF_CPP_MIN_LOG_LEVEL'] = '2'"
   ]
  },
  {
   "cell_type": "code",
   "execution_count": 4,
   "id": "70e611f2-2d75-4b8d-9c9b-3b4421f8e04e",
   "metadata": {},
   "outputs": [
    {
     "name": "stdout",
     "output_type": "stream",
     "text": [
      "/home/jupyter/tf_vertex_agents/03-ranking\n"
     ]
    }
   ],
   "source": [
    "!pwd"
   ]
  },
  {
   "cell_type": "code",
   "execution_count": 55,
   "id": "93b706f8-8739-426b-b3c0-49c5ae2163f1",
   "metadata": {},
   "outputs": [],
   "source": [
    "import functools\n",
    "from collections import defaultdict\n",
    "from typing import Callable, Dict, List, Optional, TypeVar, Iterable\n",
    "from datetime import datetime\n",
    "import time\n",
    "from pprint import pprint\n",
    "import pickle as pkl\n",
    "import pandas as pd\n",
    "\n",
    "from tqdm import tqdm\n",
    "\n",
    "# logging\n",
    "import logging\n",
    "logging.disable(logging.WARNING)\n",
    "\n",
    "import matplotlib.pyplot as plt\n",
    "import numpy as np\n",
    "\n",
    "# google cloud\n",
    "from google.cloud import aiplatform, storage\n",
    "\n",
    "# tensorflow\n",
    "import tensorflow as tf\n",
    "# from tf_agents.agents import TFAgent\n",
    "\n",
    "# from tf_agents.bandits.environments import stationary_stochastic_per_arm_py_environment as p_a_env\n",
    "from tf_agents.bandits.environments.ranking_environment import FeedbackModel\n",
    "from tf_agents.bandits.metrics import tf_metrics as tf_bandit_metrics\n",
    "# from tf_agents.drivers import dynamic_step_driver\n",
    "# from tf_agents.environments import tf_py_environment\n",
    "from tf_agents.replay_buffers import tf_uniform_replay_buffer\n",
    "from tf_agents.specs import tensor_spec\n",
    "from tf_agents.trajectories import time_step as ts\n",
    "\n",
    "# from tf_agents.bandits.agents import lin_ucb_agent\n",
    "# from tf_agents.bandits.agents import linear_thompson_sampling_agent as lin_ts_agent\n",
    "from tf_agents.bandits.agents import neural_epsilon_greedy_agent\n",
    "from tf_agents.bandits.agents import neural_linucb_agent\n",
    "from tf_agents.bandits.networks import global_and_arm_feature_network\n",
    "from tf_agents.bandits.policies import policy_utilities\n",
    "\n",
    "from tf_agents.bandits.specs import utils as bandit_spec_utils\n",
    "from tf_agents.trajectories import trajectory\n",
    "from tf_agents.bandits.environments import ranking_environment\n",
    "from tf_agents.bandits.agents import ranking_agent\n",
    "\n",
    "from tf_agents.utils import nest_utils\n",
    "from tf_agents.specs import array_spec\n",
    "\n",
    "# GPU\n",
    "from numba import cuda \n",
    "import gc\n",
    "\n",
    "import sys\n",
    "sys.path.append(\"..\")\n",
    "\n",
    "# this repo\n",
    "from src.per_arm_rl import data_utils\n",
    "from src.per_arm_rl import data_config\n",
    "from src.per_arm_rl import train_utils as train_utils\n",
    "\n",
    "# tf exceptions and vars\n",
    "if tf.__version__[0] != \"2\":\n",
    "    raise Exception(\"The trainer only runs with TensorFlow version 2.\")\n",
    "\n",
    "T = TypeVar(\"T\")"
   ]
  },
  {
   "cell_type": "code",
   "execution_count": 6,
   "id": "c5bc92e4-dac3-468e-a0f5-26d48ec63620",
   "metadata": {},
   "outputs": [
    {
     "name": "stdout",
     "output_type": "stream",
     "text": [
      "Num GPUs Available:  1\n"
     ]
    }
   ],
   "source": [
    "print(\"Num GPUs Available: \", len(tf.config.list_physical_devices('GPU')))"
   ]
  },
  {
   "cell_type": "code",
   "execution_count": 9,
   "id": "1d4c0818-64e0-4629-a9d8-2fed58a7086f",
   "metadata": {},
   "outputs": [
    {
     "data": {
      "text/plain": [
       "14"
      ]
     },
     "execution_count": 9,
     "metadata": {},
     "output_type": "execute_result"
    }
   ],
   "source": [
    "device = cuda.get_current_device()\n",
    "device.reset()\n",
    "gc.collect()"
   ]
  },
  {
   "cell_type": "code",
   "execution_count": 10,
   "id": "28167f0d-5870-40bb-ba1e-b4a2cc4bd7d6",
   "metadata": {},
   "outputs": [],
   "source": [
    "# cloud storage client\n",
    "storage_client = storage.Client(project=PROJECT_ID)\n",
    "\n",
    "# Vertex client\n",
    "aiplatform.init(project=PROJECT_ID, location=LOCATION)"
   ]
  },
  {
   "cell_type": "markdown",
   "id": "64b249f6-2e74-4e2a-bf04-be4bfd0732bd",
   "metadata": {},
   "source": [
    "# Data prep"
   ]
  },
  {
   "cell_type": "code",
   "execution_count": 11,
   "id": "4c726bc2-ff41-41b0-9671-113a499e55d5",
   "metadata": {},
   "outputs": [],
   "source": [
    "options = tf.data.Options()\n",
    "options.experimental_distribute.auto_shard_policy = tf.data.experimental.AutoShardPolicy.AUTO"
   ]
  },
  {
   "cell_type": "code",
   "execution_count": 12,
   "id": "de644e7f-8a6b-4c64-858f-1618fc76e373",
   "metadata": {},
   "outputs": [
    {
     "name": "stdout",
     "output_type": "stream",
     "text": [
      "SPLIT: listwise-3n-val\n"
     ]
    }
   ],
   "source": [
    "NUM_EXAMPLES_PER_LIST = 3 # 3 | 5\n",
    "\n",
    "# SPLIT = \"val\"\n",
    "# SPLIT = \"listwise-val\"\n",
    "SPLIT = f\"listwise-{NUM_EXAMPLES_PER_LIST}n-val\"\n",
    "\n",
    "print(f\"SPLIT: {SPLIT}\")"
   ]
  },
  {
   "cell_type": "code",
   "execution_count": 13,
   "id": "56222181-f72a-4a9c-946e-5cd94ab40caf",
   "metadata": {},
   "outputs": [
    {
     "name": "stdout",
     "output_type": "stream",
     "text": [
      "gs://rec-bandits-v1-hybrid-vertex-bucket/data/listwise-3n-val/\n",
      "gs://rec-bandits-v1-hybrid-vertex-bucket/data/listwise-3n-val/ml-100k-listwise-3n-val.tfrecord\n"
     ]
    }
   ],
   "source": [
    "! gsutil ls $BUCKET_URI/$DATA_GCS_PREFIX/$SPLIT/"
   ]
  },
  {
   "cell_type": "markdown",
   "id": "3b22408a-fbfc-4b56-8f4b-b12462329fd3",
   "metadata": {},
   "source": [
    "### Val"
   ]
  },
  {
   "cell_type": "code",
   "execution_count": 14,
   "id": "8afaa02e-5638-40a8-964e-e51b27d433d0",
   "metadata": {},
   "outputs": [
    {
     "name": "stdout",
     "output_type": "stream",
     "text": [
      "{'movie_genres': <tf.Tensor: shape=(3,), dtype=int64, numpy=array([3, 0, 0])>,\n",
      " 'movie_id': <tf.Tensor: shape=(3,), dtype=string, numpy=array([b'94', b'245', b'403'], dtype=object)>,\n",
      " 'user_id': <tf.Tensor: shape=(), dtype=string, numpy=b'346'>,\n",
      " 'user_rating': <tf.Tensor: shape=(3,), dtype=float32, numpy=array([3., 4., 3.], dtype=float32)>}\n"
     ]
    }
   ],
   "source": [
    "SPLIT = \"val\"\n",
    "# SPLIT = \"listwise-val\"\n",
    "SPLIT = f\"listwise-{NUM_EXAMPLES_PER_LIST}n-val\"\n",
    "\n",
    "val_files = []\n",
    "for blob in storage_client.list_blobs(f\"{BUCKET_NAME}\", prefix=f'{DATA_GCS_PREFIX}/{SPLIT}'):\n",
    "    if '.tfrecord' in blob.name:\n",
    "        val_files.append(blob.public_url.replace(\"https://storage.googleapis.com/\", \"gs://\"))\n",
    "        \n",
    "val_dataset = tf.data.TFRecordDataset(val_files)\n",
    "val_dataset = val_dataset.map(data_utils.parse_lw_tfrecord, num_parallel_calls=tf.data.AUTOTUNE)\n",
    "\n",
    "for example in val_dataset.take(1):\n",
    "    pprint(example)"
   ]
  },
  {
   "cell_type": "markdown",
   "id": "d46862c4-dcbb-4b2d-aa53-765204f79250",
   "metadata": {},
   "source": [
    "### Train"
   ]
  },
  {
   "cell_type": "code",
   "execution_count": 15,
   "id": "3e814c64-1c96-47fd-a0f4-4c56bb15e0b0",
   "metadata": {},
   "outputs": [],
   "source": [
    "# SPLIT = \"train\"\n",
    "# SPLIT = \"listwise-train\"\n",
    "# SPLIT = f\"listwise-{NUM_EXAMPLES_PER_LIST}n-train\"\n",
    "\n",
    "# train_files = []\n",
    "# for blob in storage_client.list_blobs(f\"{BUCKET_NAME}\", prefix=f'{DATA_GCS_PREFIX}/{SPLIT}'):\n",
    "#     if '.tfrecord' in blob.name:\n",
    "#         train_files.append(blob.public_url.replace(\"https://storage.googleapis.com/\", \"gs://\"))\n",
    "        \n",
    "# train_dataset = tf.data.TFRecordDataset(train_files)\n",
    "# train_dataset = train_dataset.map(data_utils.parse_lw_tfrecord)\n",
    "\n",
    "# for x in train_dataset.batch(1).take(1):\n",
    "#     pprint(x)"
   ]
  },
  {
   "cell_type": "code",
   "execution_count": 16,
   "id": "b6ca4675-7c73-49b5-8146-0e2966fd3cfc",
   "metadata": {},
   "outputs": [],
   "source": [
    "train_dataset = val_dataset"
   ]
  },
  {
   "cell_type": "markdown",
   "id": "9501973f-6c96-46ba-adaa-6d85450c1256",
   "metadata": {},
   "source": [
    "### Vocab"
   ]
  },
  {
   "cell_type": "code",
   "execution_count": 17,
   "id": "4099e809-1152-4b27-b4aa-bc627652e45e",
   "metadata": {},
   "outputs": [
    {
     "name": "stdout",
     "output_type": "stream",
     "text": [
      "GENERATE_VOCABS: False\n"
     ]
    }
   ],
   "source": [
    "GENERATE_VOCABS = False\n",
    "\n",
    "print(f\"GENERATE_VOCABS: {GENERATE_VOCABS}\")"
   ]
  },
  {
   "cell_type": "code",
   "execution_count": 18,
   "id": "b136aa91-bc57-4acf-80f2-fff09b33acf8",
   "metadata": {},
   "outputs": [
    {
     "name": "stdout",
     "output_type": "stream",
     "text": [
      "Copying gs://mabv1-hybrid-vertex-bucket/vocabs/vocab_dict.pkl [Content-Type=application/octet-stream]...\n",
      "/ [1 files][142.9 KiB/142.9 KiB]                                                \n",
      "Operation completed over 1 objects/142.9 KiB.                                    \n"
     ]
    }
   ],
   "source": [
    "EXISTING_VOCAB_FILE = f'gs://{BUCKET_NAME}/{VOCAB_SUBDIR}/{VOCAB_FILENAME}'\n",
    "\n",
    "!gsutil cp gs://mabv1-hybrid-vertex-bucket/vocabs/vocab_dict.pkl $EXISTING_VOCAB_FILE"
   ]
  },
  {
   "cell_type": "code",
   "execution_count": 19,
   "id": "a2d881e8-b633-4c06-b8b0-c788e1806fb8",
   "metadata": {},
   "outputs": [
    {
     "name": "stdout",
     "output_type": "stream",
     "text": [
      "Downloaded storage object vocabs/vocab_dict.pkl from bucket rec-bandits-v1-hybrid-vertex-bucket to local file vocab_dict.pkl.\n",
      "'movie_id'\n",
      "'user_id'\n",
      "'user_occupation_text'\n",
      "'movie_genres'\n",
      "'bucketized_user_age'\n",
      "'max_timestamp'\n",
      "'min_timestamp'\n",
      "'timestamp_buckets'\n"
     ]
    }
   ],
   "source": [
    "data_utils.download_blob(\n",
    "    project_id = PROJECT_ID,\n",
    "    bucket_name = BUCKET_NAME, \n",
    "    source_blob_name = f\"{VOCAB_SUBDIR}/{VOCAB_FILENAME}\", \n",
    "    destination_file_name= VOCAB_FILENAME\n",
    ")\n",
    "\n",
    "filehandler = open(VOCAB_FILENAME, 'rb')\n",
    "vocab_dict = pkl.load(filehandler)\n",
    "filehandler.close()\n",
    "\n",
    "for key in vocab_dict.keys():\n",
    "    pprint(key)"
   ]
  },
  {
   "cell_type": "markdown",
   "id": "e9c58d83-52f1-4490-931b-3d65c157cc13",
   "metadata": {},
   "source": [
    "# Global & Per-Arm feature embedding models "
   ]
  },
  {
   "cell_type": "code",
   "execution_count": 20,
   "id": "c5dc1c53-af82-400a-b841-32775855578d",
   "metadata": {},
   "outputs": [
    {
     "name": "stdout",
     "output_type": "stream",
     "text": [
      "NUM_OOV_BUCKETS    : 2\n",
      "GLOBAL_EMB_SIZE    : 64\n",
      "MV_EMB_SIZE        : 32\n",
      "BATCH_SIZE         : 5\n",
      "EVAL_BATCH_SIZE    : 1\n",
      "NUM_ITEMS          : 3\n",
      "NUM_SLOTS          : 2\n",
      "DISTANCE_THRESHOLD : 0.5\n"
     ]
    }
   ],
   "source": [
    "NUM_OOV_BUCKETS       = 2\n",
    "GLOBAL_EMBEDDING_SIZE = 64 #64\n",
    "MV_EMBEDDING_SIZE     = 32 #32\n",
    "\n",
    "BATCH_SIZE            = 5 #128\n",
    "EVAL_BATCH_SIZE       = 1\n",
    "\n",
    "NUM_ITEMS             = NUM_EXAMPLES_PER_LIST # 3 | 5 \n",
    "NUM_SLOTS             = 2\n",
    "\n",
    "DISTANCE_THRESHOLD    = 0.5\n",
    "\n",
    "print(f\"NUM_OOV_BUCKETS    : {NUM_OOV_BUCKETS}\")\n",
    "print(f\"GLOBAL_EMB_SIZE    : {GLOBAL_EMBEDDING_SIZE}\")\n",
    "print(f\"MV_EMB_SIZE        : {MV_EMBEDDING_SIZE}\")\n",
    "print(f\"BATCH_SIZE         : {BATCH_SIZE}\")\n",
    "print(f\"EVAL_BATCH_SIZE    : {EVAL_BATCH_SIZE}\")\n",
    "print(f\"NUM_ITEMS          : {NUM_ITEMS}\")\n",
    "print(f\"NUM_SLOTS          : {NUM_SLOTS}\")\n",
    "print(f\"DISTANCE_THRESHOLD : {DISTANCE_THRESHOLD}\")"
   ]
  },
  {
   "cell_type": "code",
   "execution_count": 21,
   "id": "833f62ac-e6bf-4892-a168-b5d075771fb0",
   "metadata": {},
   "outputs": [
    {
     "data": {
      "text/plain": [
       "{'movie_genres': <tf.Tensor: shape=(2, 3), dtype=int64, numpy=\n",
       " array([[3, 0, 0],\n",
       "        [7, 0, 0]])>,\n",
       " 'movie_id': <tf.Tensor: shape=(2, 3), dtype=string, numpy=\n",
       " array([[b'94', b'245', b'403'],\n",
       "        [b'678', b'127', b'343']], dtype=object)>,\n",
       " 'user_id': <tf.Tensor: shape=(2,), dtype=string, numpy=array([b'346', b'602'], dtype=object)>,\n",
       " 'user_rating': <tf.Tensor: shape=(2, 3), dtype=float32, numpy=\n",
       " array([[3., 4., 3.],\n",
       "        [4., 5., 2.]], dtype=float32)>}"
      ]
     },
     "execution_count": 21,
     "metadata": {},
     "output_type": "execute_result"
    }
   ],
   "source": [
    "for i in range(1):\n",
    "    \n",
    "    iterator = iter(train_dataset.batch(2))\n",
    "    data = next(iterator)\n",
    "\n",
    "data"
   ]
  },
  {
   "cell_type": "markdown",
   "id": "a281a7ae-be08-41c6-a648-caab55ad1235",
   "metadata": {},
   "source": [
    "## Embedding layers"
   ]
  },
  {
   "cell_type": "markdown",
   "id": "3ec8212d-0b97-4db8-8126-6693af06d55a",
   "metadata": {},
   "source": [
    "#### User ID"
   ]
  },
  {
   "cell_type": "code",
   "execution_count": 22,
   "id": "fcc2d6f1-4559-466d-8f0f-53fc5c3bd4eb",
   "metadata": {},
   "outputs": [],
   "source": [
    "user_id_input_layer = tf.keras.Input(\n",
    "    name=\"user_id\",\n",
    "    shape=(1,),\n",
    "    dtype=tf.string\n",
    ")\n",
    "\n",
    "user_id_lookup = tf.keras.layers.StringLookup(\n",
    "    max_tokens=len(vocab_dict['user_id']) + NUM_OOV_BUCKETS,\n",
    "    num_oov_indices=NUM_OOV_BUCKETS,\n",
    "    mask_token=None,\n",
    "    vocabulary=vocab_dict['user_id'],\n",
    ")(user_id_input_layer)\n",
    "\n",
    "user_id_embedding = tf.keras.layers.Embedding(\n",
    "    # Let's use the explicit vocabulary lookup.\n",
    "    input_dim=len(vocab_dict['user_id']) + NUM_OOV_BUCKETS,\n",
    "    output_dim=GLOBAL_EMBEDDING_SIZE\n",
    ")(user_id_lookup)\n",
    "\n",
    "user_id_embedding = tf.reduce_sum(user_id_embedding, axis=-2)"
   ]
  },
  {
   "cell_type": "code",
   "execution_count": 23,
   "id": "5c31717b-900e-44dd-8fa8-4692caa4dc4b",
   "metadata": {},
   "outputs": [
    {
     "name": "stdout",
     "output_type": "stream",
     "text": [
      "tf.Tensor([b'346'], shape=(1,), dtype=string)\n",
      "tf.Tensor(\n",
      "[[-0.04510836 -0.01461592  0.00770677  0.04204747 -0.00924635 -0.01018108\n",
      "  -0.04596233 -0.00837723 -0.00347102 -0.0068957  -0.01775461  0.0090416\n",
      "   0.04809824  0.03467536 -0.04250095 -0.03506067  0.01995752 -0.00546695\n",
      "  -0.01674759  0.02334571  0.01948984 -0.03423426 -0.02586756  0.0457896\n",
      "   0.03089165  0.04648015 -0.04581205 -0.04512256  0.0003287   0.01441902\n",
      "   0.00889022 -0.00048994  0.01116199  0.01446914 -0.00978378 -0.00022703\n",
      "  -0.01350053 -0.04478947 -0.01071664 -0.03093039  0.00020204 -0.04765705\n",
      "   0.01124777 -0.04240603 -0.02329489 -0.01200432  0.00047122  0.04078263\n",
      "   0.03959742 -0.04721263 -0.03085576  0.01985625 -0.01839566 -0.04364425\n",
      "   0.04029223 -0.04719517 -0.04802272 -0.03289916 -0.04724872  0.00737771\n",
      "  -0.01302718 -0.02338597 -0.00221323 -0.01346039]], shape=(1, 64), dtype=float32)\n"
     ]
    }
   ],
   "source": [
    "test_user_id_model = tf.keras.Model(inputs=user_id_input_layer, outputs=user_id_embedding)\n",
    "\n",
    "for x in train_dataset.batch(1).take(1):\n",
    "    print(x[\"user_id\"])\n",
    "    print(test_user_id_model(x[\"user_id\"]))"
   ]
  },
  {
   "cell_type": "markdown",
   "id": "15a114a3-1cdd-46c7-b68d-3f9f55e06280",
   "metadata": {},
   "source": [
    "#### Movie ID"
   ]
  },
  {
   "cell_type": "code",
   "execution_count": 24,
   "id": "bcc5a95f-8298-4d68-92c0-7d3887b8364a",
   "metadata": {},
   "outputs": [],
   "source": [
    "# len(vocab_dict['movie_id'])"
   ]
  },
  {
   "cell_type": "code",
   "execution_count": 25,
   "id": "c7c494c2-5a71-4de4-a1a0-746653f805dd",
   "metadata": {},
   "outputs": [],
   "source": [
    "mv_id_input_layer = tf.keras.Input(\n",
    "    name=\"movie_id\",\n",
    "    shape=(1,),\n",
    "    dtype=tf.string\n",
    ")\n",
    "\n",
    "mv_id_lookup = tf.keras.layers.StringLookup(\n",
    "    max_tokens=len(vocab_dict['movie_id']) + NUM_OOV_BUCKETS,\n",
    "    num_oov_indices=NUM_OOV_BUCKETS,\n",
    "    mask_token=None,\n",
    "    vocabulary=vocab_dict['movie_id'],\n",
    ")(mv_id_input_layer)\n",
    "\n",
    "mv_id_embedding = tf.keras.layers.Embedding(\n",
    "    # Let's use the explicit vocabulary lookup.\n",
    "    input_dim=len(vocab_dict['movie_id']) + NUM_OOV_BUCKETS,\n",
    "    output_dim=MV_EMBEDDING_SIZE\n",
    ")(mv_id_lookup)\n",
    "\n",
    "# mv_id_embedding = tf.reduce_sum(mv_id_embedding, axis=-2)"
   ]
  },
  {
   "cell_type": "code",
   "execution_count": 26,
   "id": "6c448c58-fbc8-42b1-aa3e-d69f113ee093",
   "metadata": {},
   "outputs": [
    {
     "name": "stdout",
     "output_type": "stream",
     "text": [
      "tf.Tensor([[b'94' b'245' b'403']], shape=(1, 3), dtype=string)\n",
      "tf.Tensor(\n",
      "[[[-0.02075218 -0.02518197  0.00935019 -0.02039017 -0.0060747\n",
      "    0.02940648 -0.00077151 -0.0142175   0.01365696  0.00599173\n",
      "   -0.00904816 -0.00712298 -0.0114792  -0.00961747  0.04800364\n",
      "    0.0206403  -0.03127102  0.02803541 -0.0492443   0.0382865\n",
      "   -0.03352864 -0.00537881  0.00536567 -0.04988984 -0.03978216\n",
      "    0.00857846 -0.02540852  0.03808824  0.01429715  0.02641895\n",
      "    0.04793328 -0.03682051]\n",
      "  [-0.00221809  0.00212697 -0.01776307  0.02202714  0.00695673\n",
      "    0.04619673 -0.03804877 -0.03006124  0.02544511  0.04939878\n",
      "    0.01507909  0.02770242 -0.04664897  0.00355108  0.04007271\n",
      "    0.01703392 -0.0475984   0.00127201  0.03054974 -0.03834845\n",
      "    0.03257037  0.03192686  0.01993984 -0.04573517 -0.01830922\n",
      "   -0.03321083 -0.0162503   0.0350841   0.03455014 -0.02904942\n",
      "    0.02065786  0.03537193]\n",
      "  [-0.0304287   0.03697541  0.02303139 -0.00553061  0.0121292\n",
      "    0.02472271 -0.03859114 -0.04530044 -0.02515707 -0.04388563\n",
      "   -0.02536633  0.04556001  0.00162432 -0.00636016 -0.0310939\n",
      "    0.03574688 -0.01579916 -0.0345049   0.0274846   0.00745337\n",
      "    0.01863024  0.022932   -0.0409715  -0.00415826 -0.02899996\n",
      "   -0.01571799 -0.04539424  0.01080861 -0.02857727 -0.01158577\n",
      "   -0.02593868 -0.03674708]]], shape=(1, 3, 32), dtype=float32)\n"
     ]
    }
   ],
   "source": [
    "test_mv_id_model = tf.keras.Model(inputs=mv_id_input_layer, outputs=mv_id_embedding)\n",
    "\n",
    "for x in train_dataset.batch(1).take(1):\n",
    "    print(x[\"movie_id\"])\n",
    "    list_length = x[\"movie_id\"].shape[1]\n",
    "    print(test_mv_id_model(x[\"movie_id\"]))"
   ]
  },
  {
   "cell_type": "code",
   "execution_count": 27,
   "id": "b9da6dc0-a871-4b73-b975-87871e571cc3",
   "metadata": {},
   "outputs": [],
   "source": [
    "# list_length"
   ]
  },
  {
   "cell_type": "code",
   "execution_count": 28,
   "id": "e66ac33f-6def-4529-9a2d-f17482471757",
   "metadata": {},
   "outputs": [],
   "source": [
    "# for x in train_dataset.batch(1).take(1):\n",
    "#     print(x[\"movie_id\"])\n",
    "#     single_sample = x[\"movie_id\"][0]\n",
    "#     item_1 = tf.gather(x[\"movie_id\"][0], 0)\n",
    "#     print(item_1)"
   ]
  },
  {
   "cell_type": "code",
   "execution_count": 29,
   "id": "1e894e0c-b080-4e3c-ad2c-7fc460a2b97b",
   "metadata": {},
   "outputs": [],
   "source": [
    "# single_sample[0]"
   ]
  },
  {
   "cell_type": "markdown",
   "id": "c5886b2a-011b-4648-9834-b8a1e2d343f2",
   "metadata": {},
   "source": [
    "#### Movie Genres"
   ]
  },
  {
   "cell_type": "code",
   "execution_count": 30,
   "id": "dee33311-d565-4003-8d28-0d3dfc0ca68d",
   "metadata": {},
   "outputs": [],
   "source": [
    "# len(vocab_dict['movie_genres'])"
   ]
  },
  {
   "cell_type": "code",
   "execution_count": 31,
   "id": "052db904-0935-44db-bbba-548aa7b01c2b",
   "metadata": {},
   "outputs": [],
   "source": [
    "mv_genre_input_layer = tf.keras.Input(\n",
    "    name=\"movie_genres\",\n",
    "    shape=(1,),\n",
    "    dtype=tf.float32\n",
    ")\n",
    "\n",
    "mv_genre_lookup = tf.keras.layers.IntegerLookup(\n",
    "    vocabulary=vocab_dict['movie_genres'],\n",
    "    num_oov_indices=NUM_OOV_BUCKETS,\n",
    "    oov_value=0,\n",
    ")(mv_genre_input_layer)\n",
    "\n",
    "mv_genre_embedding = tf.keras.layers.Embedding(\n",
    "    # Let's use the explicit vocabulary lookup.\n",
    "    input_dim=len(vocab_dict['movie_genres']) + NUM_OOV_BUCKETS,\n",
    "    output_dim=MV_EMBEDDING_SIZE\n",
    ")(mv_genre_lookup)\n",
    "\n",
    "# mv_genre_embedding = tf.reduce_sum(mv_genre_embedding, axis=-2)"
   ]
  },
  {
   "cell_type": "code",
   "execution_count": 32,
   "id": "0cd72900-c9bc-4349-8984-8c0218c08efe",
   "metadata": {
    "tags": []
   },
   "outputs": [
    {
     "name": "stdout",
     "output_type": "stream",
     "text": [
      "tf.Tensor(\n",
      "[[3 0 0]\n",
      " [7 0 0]], shape=(2, 3), dtype=int64)\n",
      "tf.Tensor(\n",
      "[[[ 0.04015854  0.04596749 -0.0186877   0.04889097 -0.04662633\n",
      "   -0.0117444  -0.03260888 -0.02548739 -0.00677264 -0.01575788\n",
      "   -0.03315045  0.01460529  0.01102506  0.00047202 -0.03327484\n",
      "   -0.04465969  0.00102418 -0.01881944 -0.00113717  0.02666784\n",
      "    0.04586372 -0.01727357 -0.02061465  0.01628523  0.01621313\n",
      "   -0.01722851  0.01645831  0.02814711 -0.03024566  0.03152083\n",
      "   -0.0393101  -0.01000111]\n",
      "  [-0.02603816  0.04899352 -0.00714712  0.0057664   0.00637082\n",
      "   -0.0197966   0.00898081  0.02328176  0.0225943   0.03598758\n",
      "    0.01765051 -0.02606072  0.01387334 -0.02715429  0.02693263\n",
      "    0.04955653  0.00381722 -0.01025523  0.01256665  0.04791\n",
      "    0.02106674  0.02780247 -0.02403205  0.01286789  0.03230281\n",
      "    0.02831483  0.00092293  0.01056018 -0.04488467 -0.03336569\n",
      "    0.02808854  0.03740979]\n",
      "  [-0.02603816  0.04899352 -0.00714712  0.0057664   0.00637082\n",
      "   -0.0197966   0.00898081  0.02328176  0.0225943   0.03598758\n",
      "    0.01765051 -0.02606072  0.01387334 -0.02715429  0.02693263\n",
      "    0.04955653  0.00381722 -0.01025523  0.01256665  0.04791\n",
      "    0.02106674  0.02780247 -0.02403205  0.01286789  0.03230281\n",
      "    0.02831483  0.00092293  0.01056018 -0.04488467 -0.03336569\n",
      "    0.02808854  0.03740979]]\n",
      "\n",
      " [[-0.02103451 -0.00308447  0.04548666  0.03894765 -0.04336954\n",
      "   -0.03746959 -0.03753585  0.00814002  0.03281232  0.00772104\n",
      "   -0.02185674  0.03114826 -0.04880112  0.01364755  0.01118503\n",
      "   -0.02733239  0.03445497  0.04181446  0.03469454  0.04943749\n",
      "    0.04702293  0.03910041  0.03141303 -0.0207502  -0.00283358\n",
      "   -0.02138715 -0.01248813  0.00109521 -0.0119423   0.01703605\n",
      "   -0.03445546 -0.02869073]\n",
      "  [-0.02603816  0.04899352 -0.00714712  0.0057664   0.00637082\n",
      "   -0.0197966   0.00898081  0.02328176  0.0225943   0.03598758\n",
      "    0.01765051 -0.02606072  0.01387334 -0.02715429  0.02693263\n",
      "    0.04955653  0.00381722 -0.01025523  0.01256665  0.04791\n",
      "    0.02106674  0.02780247 -0.02403205  0.01286789  0.03230281\n",
      "    0.02831483  0.00092293  0.01056018 -0.04488467 -0.03336569\n",
      "    0.02808854  0.03740979]\n",
      "  [-0.02603816  0.04899352 -0.00714712  0.0057664   0.00637082\n",
      "   -0.0197966   0.00898081  0.02328176  0.0225943   0.03598758\n",
      "    0.01765051 -0.02606072  0.01387334 -0.02715429  0.02693263\n",
      "    0.04955653  0.00381722 -0.01025523  0.01256665  0.04791\n",
      "    0.02106674  0.02780247 -0.02403205  0.01286789  0.03230281\n",
      "    0.02831483  0.00092293  0.01056018 -0.04488467 -0.03336569\n",
      "    0.02808854  0.03740979]]], shape=(2, 3, 32), dtype=float32)\n"
     ]
    }
   ],
   "source": [
    "test_mv_gen_model = tf.keras.Model(inputs=mv_genre_input_layer, outputs=mv_genre_embedding)\n",
    "\n",
    "for x in train_dataset.batch(2).take(1):\n",
    "    print(x[\"movie_genres\"])\n",
    "    print(test_mv_gen_model(x[\"movie_genres\"]))"
   ]
  },
  {
   "cell_type": "code",
   "execution_count": 33,
   "id": "4799ad0c-abc8-4e56-88d0-93111bba6d76",
   "metadata": {},
   "outputs": [],
   "source": [
    "# for x in train_dataset.batch(1).take(1):\n",
    "#     print(x[\"movie_genres\"])\n",
    "#     mv_gen_sample = x[\"movie_genres\"]\n",
    "#     item_gen = tf.gather(x[\"movie_genres\"], 0)\n",
    "#     print(item_gen)"
   ]
  },
  {
   "cell_type": "code",
   "execution_count": 34,
   "id": "a3455b83-a3a0-4d07-9542-2e035cae612b",
   "metadata": {},
   "outputs": [],
   "source": [
    "# for x in train_dataset.batch(2).take(1):\n",
    "#     print(x[\"user_rating\"])\n",
    "#     # mv_gen_sample = x[\"movie_genres\"]\n",
    "#     # item_gen = tf.gather(x[\"movie_genres\"], 0)\n",
    "#     # print(item_gen)"
   ]
  },
  {
   "cell_type": "markdown",
   "id": "0415398e-3bbd-4497-aa31-1d618325fbb1",
   "metadata": {},
   "source": [
    "## Sampling Functions"
   ]
  },
  {
   "cell_type": "markdown",
   "id": "343c1dee-fc37-4075-8d65-6909d548eb43",
   "metadata": {},
   "source": [
    "#### item sampling"
   ]
  },
  {
   "cell_type": "code",
   "execution_count": 35,
   "id": "bfea1d42-c08f-4b3f-b4b8-97aefc6dd622",
   "metadata": {},
   "outputs": [],
   "source": [
    "# data"
   ]
  },
  {
   "cell_type": "code",
   "execution_count": 36,
   "id": "8f6d643f-ae9f-4174-9f22-e1f1cdf56824",
   "metadata": {},
   "outputs": [],
   "source": [
    "# for x in train_dataset.batch(2).take(1):\n",
    "#     ratings_list = x[\"user_rating\"] #[0]\n",
    "#     indices = tf.argsort(ratings_list, direction=\"DESCENDING\")\n",
    "    \n",
    "#     mv_ids = test_mv_id_model(x[\"movie_id\"])\n",
    "#     # mv_ids_sliced = tf.slice(mv_ids, begin=[0,0,0], size=[HPARAMS['num_slots']])\n",
    "    \n",
    "#     mv_gens = test_mv_gen_model(x[\"movie_genres\"])\n",
    "#     # mv_gens_sliced = tf.slice(mv_gens, begin=[0,0,0], size=[HPARAMS['num_slots']])\n",
    "    \n",
    "# #     concat_embeddings = tf.concat(\n",
    "# #         [mv_ids, mv_gens], axis=-1\n",
    "# #     )\n",
    "    \n",
    "# #     ordered_concat = tf.gather(concat_embeddings, indices, batch_dims=1)\n",
    "    \n",
    "# #     stacked_mvs = tf.stack(concat_embeddings, axis = 1)"
   ]
  },
  {
   "cell_type": "code",
   "execution_count": 37,
   "id": "58eadd47-746a-4b9f-8370-564e0cdafd84",
   "metadata": {},
   "outputs": [
    {
     "data": {
      "text/plain": [
       "2"
      ]
     },
     "execution_count": 37,
     "metadata": {},
     "output_type": "execute_result"
    }
   ],
   "source": [
    "# len(ratings_list)"
   ]
  },
  {
   "cell_type": "code",
   "execution_count": 48,
   "id": "e8883e1c-0448-4486-bc2e-4ae3e3e54919",
   "metadata": {},
   "outputs": [],
   "source": [
    "def _get_per_arm_features(x):\n",
    "    \"\"\"\n",
    "    This function generates a single per-arm observation vector.\n",
    "    \"\"\"\n",
    "    ratings_list = x[\"user_rating\"] #[0]\n",
    "    indices = tf.argsort(ratings_list, direction=\"DESCENDING\")\n",
    "    _batch_size = len(ratings_list)\n",
    "    \n",
    "    mv_ids = test_mv_id_model(x[\"movie_id\"])\n",
    "    mv_gens = test_mv_gen_model(x[\"movie_genres\"])\n",
    "    \n",
    "    concat_embeddings = tf.concat(\n",
    "        [mv_ids, mv_gens], axis=-1\n",
    "    )\n",
    "    \n",
    "    ordered_concat = tf.gather(concat_embeddings, indices, batch_dims=1)\n",
    "    # feedback = tf.gather_nd(concat_embeddings, indices)\n",
    "    # print(f\"ordered_concat_embeddings: {ordered_concat_embeddings}\")\n",
    "    # ordered_concat = tf.reduce_sum(ordered_concat, axis=0)\n",
    "    \n",
    "    slotted_ordered_concat = tf.slice(\n",
    "        ordered_concat, begin=[0, 0, 0], size=[_batch_size, NUM_SLOTS, MV_EMBEDDING_SIZE * NUM_SLOTS]\n",
    "    )\n",
    "    \n",
    "    return slotted_ordered_concat\n",
    "    # return slotted_ordered_concat"
   ]
  },
  {
   "cell_type": "code",
   "execution_count": 50,
   "id": "d985e45c-7247-467d-80fb-fa977957e0bc",
   "metadata": {},
   "outputs": [
    {
     "data": {
      "text/plain": [
       "<tf.Tensor: shape=(2, 2, 64), dtype=float32, numpy=\n",
       "array([[[-0.00221809,  0.00212697, -0.01776307,  0.02202714,\n",
       "          0.00695673,  0.04619673, -0.03804877, -0.03006124,\n",
       "          0.02544511,  0.04939878,  0.01507909,  0.02770242,\n",
       "         -0.04664897,  0.00355108,  0.04007271,  0.01703392,\n",
       "         -0.0475984 ,  0.00127201,  0.03054974, -0.03834845,\n",
       "          0.03257037,  0.03192686,  0.01993984, -0.04573517,\n",
       "         -0.01830922, -0.03321083, -0.0162503 ,  0.0350841 ,\n",
       "          0.03455014, -0.02904942,  0.02065786,  0.03537193,\n",
       "         -0.02603816,  0.04899352, -0.00714712,  0.0057664 ,\n",
       "          0.00637082, -0.0197966 ,  0.00898081,  0.02328176,\n",
       "          0.0225943 ,  0.03598758,  0.01765051, -0.02606072,\n",
       "          0.01387334, -0.02715429,  0.02693263,  0.04955653,\n",
       "          0.00381722, -0.01025523,  0.01256665,  0.04791   ,\n",
       "          0.02106674,  0.02780247, -0.02403205,  0.01286789,\n",
       "          0.03230281,  0.02831483,  0.00092293,  0.01056018,\n",
       "         -0.04488467, -0.03336569,  0.02808854,  0.03740979],\n",
       "        [-0.02075218, -0.02518197,  0.00935019, -0.02039017,\n",
       "         -0.0060747 ,  0.02940648, -0.00077151, -0.0142175 ,\n",
       "          0.01365696,  0.00599173, -0.00904816, -0.00712298,\n",
       "         -0.0114792 , -0.00961747,  0.04800364,  0.0206403 ,\n",
       "         -0.03127102,  0.02803541, -0.0492443 ,  0.0382865 ,\n",
       "         -0.03352864, -0.00537881,  0.00536567, -0.04988984,\n",
       "         -0.03978216,  0.00857846, -0.02540852,  0.03808824,\n",
       "          0.01429715,  0.02641895,  0.04793328, -0.03682051,\n",
       "          0.04015854,  0.04596749, -0.0186877 ,  0.04889097,\n",
       "         -0.04662633, -0.0117444 , -0.03260888, -0.02548739,\n",
       "         -0.00677264, -0.01575788, -0.03315045,  0.01460529,\n",
       "          0.01102506,  0.00047202, -0.03327484, -0.04465969,\n",
       "          0.00102418, -0.01881944, -0.00113717,  0.02666784,\n",
       "          0.04586372, -0.01727357, -0.02061465,  0.01628523,\n",
       "          0.01621313, -0.01722851,  0.01645831,  0.02814711,\n",
       "         -0.03024566,  0.03152083, -0.0393101 , -0.01000111]],\n",
       "\n",
       "       [[-0.02170953,  0.047061  ,  0.01365726, -0.02824075,\n",
       "         -0.04639262,  0.00982993, -0.01850715, -0.0127983 ,\n",
       "          0.01120316,  0.00990137, -0.0272926 , -0.00638765,\n",
       "         -0.01971824,  0.02365899,  0.03854727, -0.02051178,\n",
       "          0.01100398, -0.00262707, -0.00766934, -0.00143468,\n",
       "          0.01476437, -0.01263288,  0.02744523, -0.01862276,\n",
       "         -0.0055748 , -0.01659238, -0.02847223,  0.02199337,\n",
       "         -0.04781369, -0.04440106,  0.02712597, -0.01506212,\n",
       "         -0.02603816,  0.04899352, -0.00714712,  0.0057664 ,\n",
       "          0.00637082, -0.0197966 ,  0.00898081,  0.02328176,\n",
       "          0.0225943 ,  0.03598758,  0.01765051, -0.02606072,\n",
       "          0.01387334, -0.02715429,  0.02693263,  0.04955653,\n",
       "          0.00381722, -0.01025523,  0.01256665,  0.04791   ,\n",
       "          0.02106674,  0.02780247, -0.02403205,  0.01286789,\n",
       "          0.03230281,  0.02831483,  0.00092293,  0.01056018,\n",
       "         -0.04488467, -0.03336569,  0.02808854,  0.03740979],\n",
       "        [-0.00361662,  0.00960775,  0.03253632,  0.04055918,\n",
       "         -0.03657558,  0.04095563,  0.02723423, -0.02820667,\n",
       "         -0.02000313,  0.03939818,  0.02983937, -0.0107976 ,\n",
       "         -0.03188057, -0.01600676,  0.00351255,  0.02898376,\n",
       "          0.03520682,  0.01010666, -0.01555023,  0.03465908,\n",
       "         -0.02117741,  0.01470853, -0.01943908,  0.04315882,\n",
       "          0.04011643,  0.04708136, -0.0258885 , -0.00046581,\n",
       "          0.04021752,  0.02713441, -0.01764767,  0.00279022,\n",
       "         -0.02103451, -0.00308447,  0.04548666,  0.03894765,\n",
       "         -0.04336954, -0.03746959, -0.03753585,  0.00814002,\n",
       "          0.03281232,  0.00772104, -0.02185674,  0.03114826,\n",
       "         -0.04880112,  0.01364755,  0.01118503, -0.02733239,\n",
       "          0.03445497,  0.04181446,  0.03469454,  0.04943749,\n",
       "          0.04702293,  0.03910041,  0.03141303, -0.0207502 ,\n",
       "         -0.00283358, -0.02138715, -0.01248813,  0.00109521,\n",
       "         -0.0119423 ,  0.01703605, -0.03445546, -0.02869073]]],\n",
       "      dtype=float32)>"
      ]
     },
     "execution_count": 50,
     "metadata": {},
     "output_type": "execute_result"
    }
   ],
   "source": [
    "test_arms = _get_per_arm_features(data)\n",
    "test_arms #.shape"
   ]
  },
  {
   "cell_type": "code",
   "execution_count": 51,
   "id": "cd9b8a0a-6374-4584-8c99-1fd6adcbaea5",
   "metadata": {
    "tags": []
   },
   "outputs": [
    {
     "name": "stdout",
     "output_type": "stream",
     "text": [
      "PER_ARM_DIM: 64\n"
     ]
    }
   ],
   "source": [
    "test_arms = _get_per_arm_features(data)\n",
    "\n",
    "PER_ARM_DIM = test_arms.shape[2]            \n",
    "print(f\"PER_ARM_DIM: {PER_ARM_DIM}\")\n",
    "\n",
    "# test_arms"
   ]
  },
  {
   "cell_type": "markdown",
   "id": "1b01f1f2-a576-4b18-91ca-ee6c5bd90117",
   "metadata": {},
   "source": [
    "#### global sampling"
   ]
  },
  {
   "cell_type": "code",
   "execution_count": 52,
   "id": "dbffe5f6-8b37-448e-aadd-b578cfbe1395",
   "metadata": {},
   "outputs": [],
   "source": [
    "def _get_global_context_features(x):\n",
    "    \"\"\"\n",
    "    This function generates a single global observation vector.\n",
    "    \"\"\"\n",
    "    \n",
    "    return test_user_id_model(x['user_id'])"
   ]
  },
  {
   "cell_type": "code",
   "execution_count": 53,
   "id": "1644300b-f7b7-4f38-9f31-f83ba74ecf79",
   "metadata": {},
   "outputs": [
    {
     "name": "stdout",
     "output_type": "stream",
     "text": [
      "GLOBAL_DIM: 64\n"
     ]
    }
   ],
   "source": [
    "test_globals = _get_global_context_features(data)\n",
    "\n",
    "GLOBAL_DIM = test_globals.shape[1] \n",
    "print(f\"GLOBAL_DIM: {GLOBAL_DIM}\")\n",
    "\n",
    "# test_globals"
   ]
  },
  {
   "cell_type": "markdown",
   "id": "5ada148e-e36b-4c98-ae5b-234aa9940055",
   "metadata": {},
   "source": [
    "# Ranking Agent"
   ]
  },
  {
   "cell_type": "markdown",
   "id": "7d7fd210-4772-4073-9630-1173ac4f93e4",
   "metadata": {},
   "source": [
    "## Feedback type"
   ]
  },
  {
   "cell_type": "markdown",
   "id": "57a0da21-0b0f-4876-8b43-c012d1cc64c2",
   "metadata": {},
   "source": [
    "Ranking agents assume either a `score_vector` or `cascading feedback` framework for the feedback signal (reward). \n",
    "\n",
    "* `score_vector`: feedback is a vector of scores for every item in the slots. \n",
    "* `cascading feedback`: if the kth item was clicked, then the items up to k-1 receive a score of -1, the kth item receives a score based on a feedback value, while the rest of the items receive feedback of 0. \n",
    "\n",
    "Ranking agent objective: train the scoring network to be able to estimate the above scores"
   ]
  },
  {
   "cell_type": "code",
   "execution_count": 56,
   "id": "c49a7375-ec9f-403d-aa86-810134cd430c",
   "metadata": {},
   "outputs": [
    {
     "data": {
      "text/plain": [
       "2"
      ]
     },
     "execution_count": 56,
     "metadata": {},
     "output_type": "execute_result"
    }
   ],
   "source": [
    "# feedback_model = ranking_environment.FeedbackModel.CASCADING\n",
    "feedback_model = FeedbackModel.SCORE_VECTOR"
   ]
  },
  {
   "cell_type": "markdown",
   "id": "a9b20c76-2950-4459-ab07-148cded078f2",
   "metadata": {},
   "source": [
    "## Tensor Specs"
   ]
  },
  {
   "cell_type": "markdown",
   "id": "3b43561b-f486-454e-a851-8cedfd6999d7",
   "metadata": {
    "tags": []
   },
   "source": [
    "example Tensor Spec structures..."
   ]
  },
  {
   "cell_type": "markdown",
   "id": "38cbb948-52c5-44a3-80ab-4e57ba6968ea",
   "metadata": {},
   "source": [
    "`observation_spec()`\n",
    "\n",
    "```python\n",
    "{'global': TensorSpec(shape=(9,), dtype=tf.float32, name=None),\n",
    " 'per_arm': TensorSpec(shape=(50, 11), dtype=tf.float32, name=None)}\n",
    "```\n",
    "\n",
    "`action_spec()`\n",
    "\n",
    "```python\n",
    "BoundedTensorSpec(shape=(3,), dtype=tf.int32, name='action', minimum=array(0, dtype=int32), maximum=array(49, dtype=int32))\n",
    "```\n",
    "\n",
    "`reward_spec()`\n",
    "\n",
    "```python\n",
    "{'chosen_index': BoundedTensorSpec(shape=(), dtype=tf.int32, name='chosen_index', minimum=array(0, dtype=int32), maximum=array(3, dtype=int32)),\n",
    " 'chosen_value': TensorSpec(shape=(), dtype=tf.float32, name='chosen_value')}\n",
    "```\n",
    "\n",
    "`time_step_spec()`\n",
    "\n",
    "```python\n",
    "TimeStep(\n",
    "{'discount': BoundedTensorSpec(shape=(), dtype=tf.float32, name='discount', minimum=array(0., dtype=float32), maximum=array(1., dtype=float32)),\n",
    " 'observation': {'global': TensorSpec(shape=(9,), dtype=tf.float32, name=None),\n",
    "                 'per_arm': TensorSpec(shape=(50, 11), dtype=tf.float32, name=None)},\n",
    " 'reward': {'chosen_index': BoundedTensorSpec(shape=(), dtype=tf.int32, name='chosen_index', minimum=array(0, dtype=int32), maximum=array(3, dtype=int32)),\n",
    "            'chosen_value': TensorSpec(shape=(), dtype=tf.float32, name='chosen_value')},\n",
    " 'step_type': TensorSpec(shape=(), dtype=tf.int32, name='step_type')})\n",
    "```"
   ]
  },
  {
   "cell_type": "code",
   "execution_count": 58,
   "id": "b8ab95f3-187b-45fc-a0bc-d4b53d4c5ca3",
   "metadata": {},
   "outputs": [
    {
     "data": {
      "text/plain": [
       "{'movie_genres': <tf.Tensor: shape=(2, 3), dtype=int64, numpy=\n",
       " array([[3, 0, 0],\n",
       "        [7, 0, 0]])>,\n",
       " 'movie_id': <tf.Tensor: shape=(2, 3), dtype=string, numpy=\n",
       " array([[b'94', b'245', b'403'],\n",
       "        [b'678', b'127', b'343']], dtype=object)>,\n",
       " 'user_id': <tf.Tensor: shape=(2,), dtype=string, numpy=array([b'346', b'602'], dtype=object)>,\n",
       " 'user_rating': <tf.Tensor: shape=(2, 3), dtype=float32, numpy=\n",
       " array([[3., 4., 3.],\n",
       "        [4., 5., 2.]], dtype=float32)>}"
      ]
     },
     "execution_count": 58,
     "metadata": {},
     "output_type": "execute_result"
    }
   ],
   "source": [
    "# for i in range(1):\n",
    "    \n",
    "#     iterator = iter(train_dataset.batch(2))\n",
    "#     data_1 = next(iterator)\n",
    "\n",
    "# data_1"
   ]
  },
  {
   "cell_type": "code",
   "execution_count": 59,
   "id": "ecb5c85a-ca16-4474-8f0e-12df37e34107",
   "metadata": {},
   "outputs": [
    {
     "data": {
      "text/plain": [
       "ArraySpec(shape=(2, 64), dtype=dtype('float32'), name=None)"
      ]
     },
     "execution_count": 59,
     "metadata": {},
     "output_type": "execute_result"
    }
   ],
   "source": [
    "# global_spec = array_spec.ArraySpec.from_array(_get_global_context_features(data_1).numpy())\n",
    "# global_spec"
   ]
  },
  {
   "cell_type": "code",
   "execution_count": 60,
   "id": "4900700f-a344-45f3-b411-d761ac67f825",
   "metadata": {},
   "outputs": [],
   "source": [
    "# _get_per_arm_features(data_1)"
   ]
  },
  {
   "cell_type": "code",
   "execution_count": 61,
   "id": "3d6bc4ac-a7a3-4eef-9990-f277b12a5aac",
   "metadata": {},
   "outputs": [
    {
     "data": {
      "text/plain": [
       "ArraySpec(shape=(3, 2, 2, 64), dtype=dtype('float32'), name=None)"
      ]
     },
     "execution_count": 61,
     "metadata": {},
     "output_type": "execute_result"
    }
   ],
   "source": [
    "# item_spec = array_spec.add_outer_dims_nest(\n",
    "#     array_spec.ArraySpec.from_array(_get_per_arm_features(data_1).numpy()), (NUM_ITEMS,)\n",
    "# )\n",
    "# item_spec"
   ]
  },
  {
   "cell_type": "code",
   "execution_count": 62,
   "id": "6601ec58-da4a-42dc-9f92-d6b1cbe18582",
   "metadata": {},
   "outputs": [
    {
     "data": {
      "text/plain": [
       "{'global': ArraySpec(shape=(2, 64), dtype=dtype('float32'), name=None),\n",
       " 'per_arm': ArraySpec(shape=(3, 2, 2, 64), dtype=dtype('float32'), name=None)}"
      ]
     },
     "execution_count": 62,
     "metadata": {},
     "output_type": "execute_result"
    }
   ],
   "source": [
    "# GLOBAL_KEY = bandit_spec_utils.GLOBAL_FEATURE_KEY\n",
    "# PER_ARM_KEY = bandit_spec_utils.PER_ARM_FEATURE_KEY\n",
    "\n",
    "# observation_spec_test = {GLOBAL_KEY: global_spec, PER_ARM_KEY: item_spec}\n",
    "# observation_spec_test"
   ]
  },
  {
   "cell_type": "code",
   "execution_count": 63,
   "id": "3d69220f-5d64-4220-8ccd-62889036b98c",
   "metadata": {},
   "outputs": [
    {
     "data": {
      "text/plain": [
       "2"
      ]
     },
     "execution_count": 63,
     "metadata": {},
     "output_type": "execute_result"
    }
   ],
   "source": [
    "# _global_dim = global_spec.shape[0]\n",
    "# _global_dim"
   ]
  },
  {
   "cell_type": "code",
   "execution_count": 64,
   "id": "92671d22-f376-4a00-8451-1bb4e0f7a3d6",
   "metadata": {},
   "outputs": [
    {
     "data": {
      "text/plain": [
       "64"
      ]
     },
     "execution_count": 64,
     "metadata": {},
     "output_type": "execute_result"
    }
   ],
   "source": [
    "# _item_dim = item_spec.shape[-1]\n",
    "# _item_dim"
   ]
  },
  {
   "cell_type": "markdown",
   "id": "11d9cf3f-ac83-4580-a8f6-d98d93e49275",
   "metadata": {},
   "source": [
    "**from [ranking_environment.py](https://github.com/tensorflow/agents/blob/master/tf_agents/bandits/environments/ranking_environment.py#L152C1-L166C6)**\n",
    "\n",
    "```\n",
    "    global_spec = array_spec.ArraySpec.from_array(global_sampling_fn())\n",
    "    item_spec = array_spec.add_outer_dims_nest(\n",
    "        array_spec.ArraySpec.from_array(item_sampling_fn()), (num_items,)\n",
    "    )\n",
    "    observation_spec = {GLOBAL_KEY: global_spec, PER_ARM_KEY: item_spec}\n",
    "    self._global_dim = global_spec.shape[0]\n",
    "    self._item_dim = item_spec.shape[-1]\n",
    "\n",
    "    action_spec = array_spec.BoundedArraySpec(\n",
    "        shape=(num_slots,),\n",
    "        dtype=np.int32,\n",
    "        minimum=0,\n",
    "        maximum=num_items - 1,\n",
    "        name='action',\n",
    "    )\n",
    "```"
   ]
  },
  {
   "cell_type": "markdown",
   "id": "fae68b8a-8656-45cc-8977-70613629ce75",
   "metadata": {},
   "source": [
    "set vars"
   ]
  },
  {
   "cell_type": "code",
   "execution_count": 65,
   "id": "5426bb09-834b-4cb3-9bf4-8d84482307e9",
   "metadata": {},
   "outputs": [
    {
     "name": "stdout",
     "output_type": "stream",
     "text": [
      "BATCH_SIZE         : 5\n",
      "EVAL_BATCH_SIZE    : 1\n",
      "NUM_ITEMS          : 3\n",
      "NUM_SLOTS          : 2\n",
      "DISTANCE_THRESHOLD : 0.5\n",
      "GLOBAL_DIM         : 64\n",
      "PER_ARM_DIM        : 64\n"
     ]
    }
   ],
   "source": [
    "from tf_agents.specs import array_spec\n",
    "\n",
    "print(f\"BATCH_SIZE         : {BATCH_SIZE}\")\n",
    "print(f\"EVAL_BATCH_SIZE    : {EVAL_BATCH_SIZE}\")\n",
    "print(f\"NUM_ITEMS          : {NUM_ITEMS}\")\n",
    "print(f\"NUM_SLOTS          : {NUM_SLOTS}\")\n",
    "print(f\"DISTANCE_THRESHOLD : {DISTANCE_THRESHOLD}\")\n",
    "print(f\"GLOBAL_DIM         : {GLOBAL_DIM}\")\n",
    "print(f\"PER_ARM_DIM        : {PER_ARM_DIM}\")"
   ]
  },
  {
   "cell_type": "markdown",
   "id": "cc572702-592c-4d60-8719-50739f611e16",
   "metadata": {},
   "source": [
    "### Observation spec\n",
    "\n",
    "* The observation the agent ingests contains the global features and the features\n",
    "of the items in the recommendation slots. \n",
    "* The item features are stored in the `per_arm` part of the observation, in the order of how they are recommended.\n",
    "* Since this ordered list of items expresses what action was taken by the policy, the `action` value of the trajectory is not used by the agent."
   ]
  },
  {
   "cell_type": "code",
   "execution_count": 66,
   "id": "0b97866b-fb8c-4724-ac6f-ce789d5b7368",
   "metadata": {},
   "outputs": [
    {
     "data": {
      "text/plain": [
       "{'global': TensorSpec(shape=(64,), dtype=tf.float32, name=None),\n",
       " 'per_arm': TensorSpec(shape=(2, 64), dtype=tf.float32, name=None)}"
      ]
     },
     "execution_count": 66,
     "metadata": {},
     "output_type": "execute_result"
    }
   ],
   "source": [
    "observation_spec = {\n",
    "    'global': tf.TensorSpec([GLOBAL_DIM], tf.float32),\n",
    "    # 'per_arm': tf.TensorSpec([NUM_ITEMS, PER_ARM_DIM], tf.float32)\n",
    "    'per_arm': tf.TensorSpec([NUM_SLOTS, PER_ARM_DIM], tf.float32)\n",
    "}\n",
    "observation_spec"
   ]
  },
  {
   "cell_type": "markdown",
   "id": "80565f15-d41e-46db-99b3-6ea6a73ab6aa",
   "metadata": {},
   "source": [
    "### Action spec\n",
    "\n",
    "> Action spec for ranking models must have rank 1"
   ]
  },
  {
   "cell_type": "code",
   "execution_count": 67,
   "id": "73b90ec0-1fe2-4b08-8a47-1fd32058705f",
   "metadata": {},
   "outputs": [
    {
     "name": "stdout",
     "output_type": "stream",
     "text": [
      "action_spec rank: (2,)\n"
     ]
    },
    {
     "data": {
      "text/plain": [
       "BoundedArraySpec(shape=(2,), dtype=dtype('int32'), name='action', minimum=0, maximum=2)"
      ]
     },
     "execution_count": 67,
     "metadata": {},
     "output_type": "execute_result"
    }
   ],
   "source": [
    "# action_spec = tensor_spec.BoundedTensorSpec(\n",
    "#     shape=(NUM_SLOTS,),\n",
    "#     dtype=tf.int32,\n",
    "#     minimum=tf.constant(0),            \n",
    "#     maximum=NUM_ITEMS - 1, # n degrees of freedom and will dictate the expected mean reward spec shape\n",
    "#     name=\"action_spec\"\n",
    "# )\n",
    "\n",
    "action_spec = array_spec.BoundedArraySpec(\n",
    "    shape=(NUM_SLOTS,),\n",
    "    dtype=np.int32,\n",
    "    minimum=0,\n",
    "    maximum=NUM_ITEMS - 1,\n",
    "    name='action',\n",
    ")\n",
    "\n",
    "print(f\"action_spec rank: {action_spec.shape}\")\n",
    "\n",
    "action_spec"
   ]
  },
  {
   "cell_type": "markdown",
   "id": "ccdacef1-fd61-4569-9bf7-299c52903710",
   "metadata": {},
   "source": [
    "### Reward spec"
   ]
  },
  {
   "cell_type": "code",
   "execution_count": 185,
   "id": "166f53bd-cdb9-49c4-a4d8-2904a6300f4c",
   "metadata": {},
   "outputs": [
    {
     "data": {
      "text/plain": [
       "TensorSpec(shape=(2,), dtype=tf.float32, name='score_vector')"
      ]
     },
     "execution_count": 185,
     "metadata": {},
     "output_type": "execute_result"
    }
   ],
   "source": [
    "if feedback_model == ranking_environment.FeedbackModel.CASCADING:\n",
    "    # `chosen_index == num_slots` means no recommended item was clicked.\n",
    "    reward_spec = {\n",
    "        'chosen_index': array_spec.BoundedArraySpec(\n",
    "            shape=[],\n",
    "            minimum=0,\n",
    "            maximum=NUM_SLOTS,\n",
    "            dtype=np.int32,\n",
    "            name='chosen_index',\n",
    "        ),\n",
    "        'chosen_value': array_spec.ArraySpec(\n",
    "            shape=[], dtype=np.float32, name='chosen_value'\n",
    "        ),\n",
    "    }\n",
    "elif feedback_model == ranking_environment.FeedbackModel.SCORE_VECTOR:\n",
    "    reward_spec = tf.TensorSpec(\n",
    "        shape=[NUM_SLOTS], dtype=np.float32, name='score_vector'\n",
    "    )\n",
    "    # reward_spec = array_spec.ArraySpec(\n",
    "    #     shape=[NUM_SLOTS], dtype=np.float32, name='score_vector'\n",
    "    # )\n",
    "else:\n",
    "    reward_spec = f\"Feedback model: {feedback_model}, not implemented\"\n",
    "    \n",
    "reward_spec"
   ]
  },
  {
   "cell_type": "markdown",
   "id": "de0deb69-a259-4495-a58e-81c0fd2a97ab",
   "metadata": {},
   "source": [
    "### TimeStep spec"
   ]
  },
  {
   "cell_type": "code",
   "execution_count": 186,
   "id": "aa7a5d0e-d4c2-4f8c-b67e-84fe6d1e4fcb",
   "metadata": {},
   "outputs": [
    {
     "data": {
      "text/plain": [
       "TimeStep(\n",
       "{'discount': BoundedTensorSpec(shape=(), dtype=tf.float32, name='discount', minimum=array(0., dtype=float32), maximum=array(1., dtype=float32)),\n",
       " 'observation': {'global': TensorSpec(shape=(64,), dtype=tf.float32, name=None),\n",
       "                 'per_arm': TensorSpec(shape=(2, 64), dtype=tf.float32, name=None)},\n",
       " 'reward': TensorSpec(shape=(2,), dtype=tf.float32, name='score_vector'),\n",
       " 'step_type': TensorSpec(shape=(), dtype=tf.int32, name='step_type')})"
      ]
     },
     "execution_count": 186,
     "metadata": {},
     "output_type": "execute_result"
    }
   ],
   "source": [
    "# TODO - investigate adding reward_spec\n",
    "\"\"\"\n",
    "TypeError: Expected observation and reward specs to \n",
    "both be either tensor or array specs, but saw spec values \n",
    "TensorSpec(shape=(64,), dtype=tf.float32, name=None) \n",
    "vs. ArraySpec(shape=(2,), dtype=dtype('float32'), name='score_vector')\n",
    "\"\"\"\n",
    "\n",
    "\n",
    "time_step_spec = ts.time_step_spec(\n",
    "    observation_spec = observation_spec, \n",
    "    reward_spec = reward_spec             # TODO\n",
    ")\n",
    "time_step_spec"
   ]
  },
  {
   "cell_type": "markdown",
   "id": "f1ecc66c-ce8b-480b-8306-40eaf399f120",
   "metadata": {},
   "source": [
    "Inspect chosen arm features spec"
   ]
  },
  {
   "cell_type": "code",
   "execution_count": 187,
   "id": "164a5760-3ca3-4397-85b3-26bbcd987b52",
   "metadata": {},
   "outputs": [
    {
     "data": {
      "text/plain": [
       "{'global': TensorSpec(shape=(64,), dtype=tf.float32, name=None),\n",
       " 'per_arm': TensorSpec(shape=(2, 64), dtype=tf.float32, name=None)}"
      ]
     },
     "execution_count": 187,
     "metadata": {},
     "output_type": "execute_result"
    }
   ],
   "source": [
    "time_step_spec.observation"
   ]
  },
  {
   "cell_type": "markdown",
   "id": "ad033e89-1f1c-4f63-9084-bf6a6807915f",
   "metadata": {},
   "source": [
    "## Policy and Scoring Network\n",
    "\n",
    "> all ranking agents train a network that estimates scores of item/user pairs\n",
    "\n",
    "**Ranking Policies**\n",
    "* `DESCENDING_SCORES` - Stack rank deterministically by scores\n",
    "* `NO_PENALTY` - Sampling sequentially based on scores; no penalty applied\n",
    "* `COSINE_DISTANCE` - Sampling sequentally and taking diversity into account\n",
    "\n",
    "`penalty_mixture` parameter governs the balance between ranking based on scores and accounting for diversity\n",
    "* low positive value --> ranking has less diversity\n",
    "* higher value --> enforces more diversity\n",
    "\n",
    "`logits_temperature` - temperature parameter for non-deterministic policies\n",
    "* This value must be positive"
   ]
  },
  {
   "cell_type": "code",
   "execution_count": 188,
   "id": "5ce99346-5745-4d87-a469-9a36cb270987",
   "metadata": {},
   "outputs": [
    {
     "name": "stdout",
     "output_type": "stream",
     "text": [
      "GLOBAL_DIM  : 64\n",
      "PER_ARM_DIM : 64\n"
     ]
    }
   ],
   "source": [
    "print(f\"GLOBAL_DIM  : {GLOBAL_DIM}\")\n",
    "print(f\"PER_ARM_DIM : {PER_ARM_DIM}\")"
   ]
  },
  {
   "cell_type": "code",
   "execution_count": 189,
   "id": "c5aea87d-c993-4cd6-80ad-0522dcc91956",
   "metadata": {},
   "outputs": [
    {
     "name": "stdout",
     "output_type": "stream",
     "text": [
      "{'batch_size': 5,\n",
      " 'common_layers': [16, 8],\n",
      " 'eval_batch_size': 1,\n",
      " 'feedback_model': 2,\n",
      " 'global_layers': [64, 32, 16],\n",
      " 'learning_rate': 0.005,\n",
      " 'logits_temperature': 1.0,\n",
      " 'model_type': 'Ranking',\n",
      " 'network_type': 'dotproduct',\n",
      " 'num_itmes': 3,\n",
      " 'num_slots': 2,\n",
      " 'penalty_mixture': 1.0,\n",
      " 'per_arm_layers': [64, 32, 16],\n",
      " 'policy_type': <RankingPolicyType.COSINE_DISTANCE: 1>}\n"
     ]
    }
   ],
   "source": [
    "AGENT_TYPE = \"Ranking\"\n",
    "NETWORK_TYPE = \"dotproduct\"\n",
    "POLICY_TYPE = ranking_agent.RankingPolicyType.COSINE_DISTANCE # COSINE_DISTANCE | NO_PENALTY | DESCENDING_SCORES\n",
    "\n",
    "PENALTY_MIXTURE = 1.0\n",
    "LOGITS_TEMPERATURE = 1.0\n",
    "\n",
    "LEARNING_RATE = 0.005\n",
    "\n",
    "GLOBAL_LAYERS   = [64, 32, 16]\n",
    "ARM_LAYERS      = [64, 32, 16]\n",
    "COMMON_LAYERS   = [16, 8]\n",
    "\n",
    "HPARAMS = {  # TODO - streamline and consolidate\n",
    "    \"batch_size\": BATCH_SIZE,\n",
    "    \"eval_batch_size\" : EVAL_BATCH_SIZE,\n",
    "    \"num_itmes\": NUM_ITEMS,\n",
    "    \"num_slots\": NUM_SLOTS,\n",
    "    \"model_type\": AGENT_TYPE,\n",
    "    \"network_type\": NETWORK_TYPE,\n",
    "    \"global_layers\": GLOBAL_LAYERS,\n",
    "    \"per_arm_layers\": ARM_LAYERS,\n",
    "    \"common_layers\": COMMON_LAYERS,\n",
    "    \"learning_rate\": LEARNING_RATE,\n",
    "    \"policy_type\": POLICY_TYPE,\n",
    "    \"feedback_model\" : feedback_model,\n",
    "    \"penalty_mixture\": PENALTY_MIXTURE,\n",
    "    \"logits_temperature\": LOGITS_TEMPERATURE,\n",
    "}\n",
    "pprint(HPARAMS)"
   ]
  },
  {
   "cell_type": "code",
   "execution_count": 190,
   "id": "80d4e8a9-6582-425d-9c50-499aa883b2cb",
   "metadata": {},
   "outputs": [
    {
     "name": "stdout",
     "output_type": "stream",
     "text": [
      "Network: GlobalAndArmDotProductNetwork\n"
     ]
    }
   ],
   "source": [
    "if NETWORK_TYPE == 'commontower':\n",
    "    scoring_network = global_and_arm_feature_network.create_feed_forward_common_tower_network(\n",
    "        observation_spec = observation_spec, \n",
    "        global_layers = GLOBAL_LAYERS, \n",
    "        arm_layers = ARM_LAYERS, \n",
    "        common_layers = COMMON_LAYERS,\n",
    "        # output_dim = output_dim,\n",
    "    )\n",
    "    \n",
    "elif NETWORK_TYPE == 'dotproduct':\n",
    "    scoring_network = global_and_arm_feature_network.create_feed_forward_dot_product_network(\n",
    "        observation_spec = observation_spec, \n",
    "        global_layers = GLOBAL_LAYERS, \n",
    "        arm_layers = ARM_LAYERS\n",
    "    )\n",
    "    \n",
    "if NETWORK_TYPE:\n",
    "    print(f\"Network: {scoring_network.name}\")"
   ]
  },
  {
   "cell_type": "markdown",
   "id": "0e1939dc-7ee9-414c-aa89-85b08bcfb4cb",
   "metadata": {},
   "source": [
    "## Define Agent "
   ]
  },
  {
   "cell_type": "code",
   "execution_count": 192,
   "id": "5dad7dd6-3d19-4c79-8a72-078253f046e5",
   "metadata": {},
   "outputs": [
    {
     "data": {
      "text/plain": [
       "<tf_agents.bandits.agents.ranking_agent.RankingAgent at 0x7fbae444f6d0>"
      ]
     },
     "execution_count": 192,
     "metadata": {},
     "output_type": "execute_result"
    }
   ],
   "source": [
    "rank_agent = ranking_agent.RankingAgent(\n",
    "    time_step_spec=time_step_spec,\n",
    "    action_spec=action_spec,\n",
    "    scoring_network=scoring_network,\n",
    "    optimizer=tf.compat.v1.train.AdamOptimizer(learning_rate=HPARAMS['learning_rate']),\n",
    "    feedback_model=ranking_agent.FeedbackModel.SCORE_VECTOR, # FeedbackModel.SCORE_VECTOR, # feedback_model,\n",
    "    policy_type=HPARAMS['policy_type'],\n",
    "    logits_temperature=HPARAMS['logits_temperature'],\n",
    "    penalty_mixture_coefficient=HPARAMS['penalty_mixture'],\n",
    "    summarize_grads_and_vars=True\n",
    ")\n",
    "\n",
    "rank_agent"
   ]
  },
  {
   "cell_type": "code",
   "execution_count": 194,
   "id": "a38e772e-80b8-4dfe-811d-83fae71c912c",
   "metadata": {},
   "outputs": [
    {
     "data": {
      "text/plain": [
       "BoundedTensorSpec(shape=(2,), dtype=tf.int32, name='action', minimum=array(0, dtype=int32), maximum=array(2, dtype=int32))"
      ]
     },
     "execution_count": 194,
     "metadata": {},
     "output_type": "execute_result"
    }
   ],
   "source": [
    "rank_agent.action_spec"
   ]
  },
  {
   "cell_type": "code",
   "execution_count": 195,
   "id": "735ef8c6-1854-4118-aa9f-3ba875a664b4",
   "metadata": {},
   "outputs": [
    {
     "data": {
      "text/plain": [
       "TimeStep(\n",
       "{'discount': BoundedTensorSpec(shape=(), dtype=tf.float32, name='discount', minimum=array(0., dtype=float32), maximum=array(1., dtype=float32)),\n",
       " 'observation': {'global': TensorSpec(shape=(64,), dtype=tf.float32, name=None),\n",
       "                 'per_arm': TensorSpec(shape=(2, 64), dtype=tf.float32, name=None)},\n",
       " 'reward': TensorSpec(shape=(2,), dtype=tf.float32, name='score_vector'),\n",
       " 'step_type': TensorSpec(shape=(), dtype=tf.int32, name='step_type')})"
      ]
     },
     "execution_count": 195,
     "metadata": {},
     "output_type": "execute_result"
    }
   ],
   "source": [
    "# time_step_spec"
   ]
  },
  {
   "cell_type": "code",
   "execution_count": 196,
   "id": "1616e93e-7555-4a52-a7e1-f9b895873620",
   "metadata": {},
   "outputs": [
    {
     "data": {
      "text/plain": [
       "_TupleWrapper(TimeStep(\n",
       "{'discount': BoundedTensorSpec(shape=(), dtype=tf.float32, name='discount', minimum=array(0., dtype=float32), maximum=array(1., dtype=float32)),\n",
       " 'observation': DictWrapper({'global': TensorSpec(shape=(64,), dtype=tf.float32, name=None), 'per_arm': TensorSpec(shape=(2, 64), dtype=tf.float32, name=None)}),\n",
       " 'reward': TensorSpec(shape=(2,), dtype=tf.float32, name='score_vector'),\n",
       " 'step_type': TensorSpec(shape=(), dtype=tf.int32, name='step_type')}))"
      ]
     },
     "execution_count": 196,
     "metadata": {},
     "output_type": "execute_result"
    }
   ],
   "source": [
    "# rank_agent.time_step_spec"
   ]
  },
  {
   "cell_type": "code",
   "execution_count": 197,
   "id": "bff1a577-d86d-46d9-9071-0f10df0ca0cf",
   "metadata": {},
   "outputs": [
    {
     "data": {
      "text/plain": [
       "_TupleWrapper(Trajectory(\n",
       "{'action': (),\n",
       " 'discount': BoundedTensorSpec(shape=(), dtype=tf.float32, name='discount', minimum=array(0., dtype=float32), maximum=array(1., dtype=float32)),\n",
       " 'next_step_type': TensorSpec(shape=(), dtype=tf.int32, name='step_type'),\n",
       " 'observation': DictWrapper({'global': TensorSpec(shape=(64,), dtype=tf.float32, name=None), 'per_arm': TensorSpec(shape=(2, 64), dtype=tf.float32, name=None)}),\n",
       " 'policy_info': (),\n",
       " 'reward': TensorSpec(shape=(2,), dtype=tf.float32, name='score_vector'),\n",
       " 'step_type': TensorSpec(shape=(), dtype=tf.int32, name='step_type')}))"
      ]
     },
     "execution_count": 197,
     "metadata": {},
     "output_type": "execute_result"
    }
   ],
   "source": [
    "# rank_agent.training_data_spec"
   ]
  },
  {
   "cell_type": "code",
   "execution_count": 198,
   "id": "fd594bbd-383b-41a8-bc5e-317db5b93a30",
   "metadata": {},
   "outputs": [
    {
     "data": {
      "text/plain": [
       "{'global': TensorSpec(shape=(64,), dtype=tf.float32, name=None),\n",
       " 'per_arm': TensorSpec(shape=(2, 64), dtype=tf.float32, name=None)}"
      ]
     },
     "execution_count": 198,
     "metadata": {},
     "output_type": "execute_result"
    }
   ],
   "source": [
    "rank_agent.training_data_spec.observation"
   ]
  },
  {
   "cell_type": "code",
   "execution_count": 200,
   "id": "7c38d4d1-6baf-47c1-8da7-d8a08ee15bd9",
   "metadata": {},
   "outputs": [
    {
     "data": {
      "text/plain": [
       "<bound method TFPolicy.action of <tf_agents.bandits.policies.ranking_policy.PenalizeCosineDistanceRankingPolicy object at 0x7fbaf4465840>>"
      ]
     },
     "execution_count": 200,
     "metadata": {},
     "output_type": "execute_result"
    }
   ],
   "source": [
    "# rank_agent.policy.action"
   ]
  },
  {
   "cell_type": "code",
   "execution_count": 201,
   "id": "21e2f27b-79b6-4ce6-bf61-0e777db54d6f",
   "metadata": {},
   "outputs": [
    {
     "data": {
      "text/plain": [
       "_TupleWrapper(TimeStep(\n",
       "{'discount': BoundedTensorSpec(shape=(), dtype=tf.float32, name='discount', minimum=array(0., dtype=float32), maximum=array(1., dtype=float32)),\n",
       " 'observation': DictWrapper({'global': TensorSpec(shape=(64,), dtype=tf.float32, name=None), 'per_arm': TensorSpec(shape=(2, 64), dtype=tf.float32, name=None)}),\n",
       " 'reward': TensorSpec(shape=(2,), dtype=tf.float32, name='score_vector'),\n",
       " 'step_type': TensorSpec(shape=(), dtype=tf.int32, name='step_type')}))"
      ]
     },
     "execution_count": 201,
     "metadata": {},
     "output_type": "execute_result"
    }
   ],
   "source": [
    "rank_agent.policy.time_step_spec"
   ]
  },
  {
   "cell_type": "code",
   "execution_count": 202,
   "id": "d6040423-c390-4e1a-90a9-69b9ab58b23c",
   "metadata": {},
   "outputs": [
    {
     "data": {
      "text/plain": [
       "_TupleWrapper(Trajectory(\n",
       "{'action': BoundedTensorSpec(shape=(2,), dtype=tf.int32, name=None, minimum=array(0, dtype=int32), maximum=array(1, dtype=int32)),\n",
       " 'discount': BoundedTensorSpec(shape=(), dtype=tf.float32, name='discount', minimum=array(0., dtype=float32), maximum=array(1., dtype=float32)),\n",
       " 'next_step_type': TensorSpec(shape=(), dtype=tf.int32, name='step_type'),\n",
       " 'observation': DictWrapper({'global': TensorSpec(shape=(64,), dtype=tf.float32, name=None), 'per_arm': TensorSpec(shape=(2, 64), dtype=tf.float32, name=None)}),\n",
       " 'policy_info': PolicyInfo(log_probability=(), predicted_rewards_mean=TensorSpec(shape=(2,), dtype=tf.float32, name=None), multiobjective_scalarized_predicted_rewards_mean=(), predicted_rewards_optimistic=(), predicted_rewards_sampled=(), bandit_policy_type=()),\n",
       " 'reward': TensorSpec(shape=(2,), dtype=tf.float32, name='score_vector'),\n",
       " 'step_type': TensorSpec(shape=(), dtype=tf.int32, name='step_type')}))"
      ]
     },
     "execution_count": 202,
     "metadata": {},
     "output_type": "execute_result"
    }
   ],
   "source": [
    "rank_agent.policy.trajectory_spec"
   ]
  },
  {
   "cell_type": "markdown",
   "id": "46435a9d-c901-4d32-8baa-1da60c427788",
   "metadata": {},
   "source": [
    "### Reward function\n",
    "\n",
    "* `_create_ranking_reward_features` - [src](https://source.corp.google.com/piper///depot/google3/learning/smartchoices/training/models/agent_factory_test.py?q=%22ranking_model_factory%22&sq=package:piper%20file:%2F%2Fdepot%2Fgoogle3%20-file:google3%2Fexperimental&start=1)\n",
    "\n",
    "* `_get_rewards_from_arm_features` "
   ]
  },
  {
   "cell_type": "code",
   "execution_count": 203,
   "id": "90b521c4-bb43-4cc5-b0fa-67d420b64834",
   "metadata": {},
   "outputs": [],
   "source": [
    "def _get_ranking_rewards_sv(x):\n",
    "    \"\"\"Calculates reward for the actions.\"\"\"\n",
    "    \n",
    "    # rating_scores_list = []\n",
    "    ratings_list = x[\"user_rating\"] #[0]\n",
    "    indices = tf.argsort(ratings_list, direction=\"DESCENDING\")\n",
    "    \n",
    "    feedback = tf.gather(ratings_list, indices, batch_dims=-1) #.numpy()\n",
    "    \n",
    "    # feedback = tf.math.top_k(feedback, k=HPARAMS['num_slots']).values\n",
    "    top_n_ratings = tf.slice(feedback, begin=[0, 0], size=[-1, HPARAMS['num_slots']])\n",
    "    \n",
    "    return top_n_ratings"
   ]
  },
  {
   "cell_type": "code",
   "execution_count": 204,
   "id": "997dbdd4-7048-4d9f-8f65-f5e99a28ef1a",
   "metadata": {},
   "outputs": [
    {
     "data": {
      "text/plain": [
       "<tf.Tensor: shape=(5, 2), dtype=float32, numpy=\n",
       "array([[4., 3.],\n",
       "       [5., 4.],\n",
       "       [4., 3.],\n",
       "       [5., 5.],\n",
       "       [5., 3.]], dtype=float32)>"
      ]
     },
     "execution_count": 204,
     "metadata": {},
     "output_type": "execute_result"
    }
   ],
   "source": [
    "test_ratings = _get_ranking_rewards_sv(data)\n",
    "test_ratings"
   ]
  },
  {
   "cell_type": "code",
   "execution_count": 207,
   "id": "31976a8d-c4ba-4fc1-a429-e24f812aac58",
   "metadata": {},
   "outputs": [],
   "source": [
    "def _rank_trajectory_fn(element): # hparams\n",
    "    \"\"\"Converts a dataset element into a trajectory.\"\"\"\n",
    "    # global_features = _get_global_context_features(element)\n",
    "    # arm_features = _get_per_arm_features(element)\n",
    "    \n",
    "    global_features = _get_global_context_features(element)\n",
    "    arm_features = _get_per_arm_features(element)\n",
    "    \n",
    "    # obs spec\n",
    "    observation = {\n",
    "        bandit_spec_utils.GLOBAL_FEATURE_KEY:\n",
    "            train_utils._add_outer_dimension(global_features),\n",
    "            # global_features,\n",
    "        bandit_spec_utils.PER_ARM_FEATURE_KEY: \n",
    "            train_utils._add_outer_dimension(arm_features)\n",
    "            # arm_features\n",
    "    }\n",
    "    \n",
    "    # reward = element['user_rating']\n",
    "    ranking_rewards = _get_ranking_rewards_sv(element)\n",
    "\n",
    "    \n",
    "    action = np.zeros((HPARAMS['num_slots']), dtype=np.int32)\n",
    "    # top_n_ratings = tf.slice(feedback, begin=[0, 0], size=[-1, HPARAMS['num_slots']])\n",
    "    # action=tf.zeros_like(ranking_rewards, dtype=tf.int32)\n",
    "    \n",
    "    discount = np.zeros((HPARAMS['num_slots']), dtype=np.float32)\n",
    "    # discount=tf.zeros_like(ranking_rewards, dtype=tf.int32)\n",
    "    return trajectory.single_step(\n",
    "        observation=observation,\n",
    "        action=action,\n",
    "        policy_info=(), #policy_info,\n",
    "        reward=ranking_rewards,\n",
    "        discount=discount\n",
    "    )\n"
   ]
  },
  {
   "cell_type": "code",
   "execution_count": 208,
   "id": "692bd7a5-a952-4cb6-99ac-14a1d196bb1b",
   "metadata": {},
   "outputs": [],
   "source": [
    "# test_arms # (2, 3, 64)\n",
    "\n",
    "# top_arms = tf.slice(test_arms, begin=[0, 0, 0], size=[-1, HPARAMS['num_slots']])\n",
    "# top_arms"
   ]
  },
  {
   "cell_type": "code",
   "execution_count": 209,
   "id": "c8221e8a-cdf2-4944-9856-6a2371d3f782",
   "metadata": {
    "tags": []
   },
   "outputs": [
    {
     "data": {
      "text/plain": [
       "Trajectory(\n",
       "{'action': <tf.Tensor: shape=(2,), dtype=int32, numpy=array([0, 0], dtype=int32)>,\n",
       " 'discount': <tf.Tensor: shape=(2,), dtype=float32, numpy=array([0., 0.], dtype=float32)>,\n",
       " 'next_step_type': <tf.Tensor: shape=(2,), dtype=int32, numpy=array([2, 2], dtype=int32)>,\n",
       " 'observation': {'global': <tf.Tensor: shape=(5, 1, 64), dtype=float32, numpy=\n",
       "array([[[-4.51083556e-02, -1.46159157e-02,  7.70677254e-03,\n",
       "          4.20474671e-02, -9.24634933e-03, -1.01810805e-02,\n",
       "         -4.59623337e-02, -8.37723166e-03, -3.47101688e-03,\n",
       "         -6.89569861e-03, -1.77546144e-02,  9.04159620e-03,\n",
       "          4.80982400e-02,  3.46753635e-02, -4.25009504e-02,\n",
       "         -3.50606665e-02,  1.99575163e-02, -5.46694919e-03,\n",
       "         -1.67475939e-02,  2.33457126e-02,  1.94898359e-02,\n",
       "         -3.42342630e-02, -2.58675572e-02,  4.57896031e-02,\n",
       "          3.08916457e-02,  4.64801528e-02, -4.58120480e-02,\n",
       "         -4.51225638e-02,  3.28697264e-04,  1.44190229e-02,\n",
       "          8.89022276e-03, -4.89939004e-04,  1.11619942e-02,\n",
       "          1.44691356e-02, -9.78378206e-03, -2.27034092e-04,\n",
       "         -1.35005340e-02, -4.47894707e-02, -1.07166395e-02,\n",
       "         -3.09303887e-02,  2.02037394e-04, -4.76570502e-02,\n",
       "          1.12477653e-02, -4.24060337e-02, -2.32948903e-02,\n",
       "         -1.20043159e-02,  4.71223146e-04,  4.07826342e-02,\n",
       "          3.95974182e-02, -4.72126268e-02, -3.08557637e-02,\n",
       "          1.98562481e-02, -1.83956623e-02, -4.36442494e-02,\n",
       "          4.02922295e-02, -4.71951738e-02, -4.80227247e-02,\n",
       "         -3.28991637e-02, -4.72487211e-02,  7.37770647e-03,\n",
       "         -1.30271800e-02, -2.33859662e-02, -2.21322849e-03,\n",
       "         -1.34603865e-02]],\n",
       "\n",
       "       [[-4.60591689e-02, -7.42673874e-05,  1.25543587e-02,\n",
       "         -3.71138826e-02, -3.01718712e-03,  6.78212568e-03,\n",
       "          1.14583485e-02,  2.51886137e-02, -3.56038585e-02,\n",
       "          4.59919311e-02,  1.47665627e-02, -1.91599019e-02,\n",
       "          4.16922607e-02, -4.04668823e-02, -1.76222101e-02,\n",
       "          1.28647573e-02,  3.45945247e-02, -1.28694884e-02,\n",
       "          3.83637585e-02, -3.37961540e-02,  3.18280570e-02,\n",
       "         -4.26601879e-02, -1.07939020e-02, -4.11007032e-02,\n",
       "          9.17880610e-03,  3.12468894e-02,  2.20538117e-02,\n",
       "         -2.79112216e-02, -1.08438507e-02, -4.56034541e-02,\n",
       "          1.42047070e-02,  3.75356413e-02, -4.65537794e-02,\n",
       "         -4.65770811e-03,  4.47376110e-02,  3.59716751e-02,\n",
       "          5.63528389e-03, -3.07740923e-02, -4.03032415e-02,\n",
       "         -1.53689459e-03, -3.83016244e-02, -1.13166086e-02,\n",
       "         -3.22395563e-02, -2.64951233e-02,  7.19734281e-03,\n",
       "         -3.13140526e-02, -2.58242134e-02,  2.31178440e-02,\n",
       "         -6.77866861e-03,  4.90616821e-02,  1.56424530e-02,\n",
       "          4.20190357e-02,  2.12473311e-02,  3.95488404e-02,\n",
       "          4.76997830e-02,  2.05970146e-02,  2.50688232e-02,\n",
       "         -2.40389239e-02, -6.07675314e-03,  9.27532837e-03,\n",
       "         -2.24935059e-02,  4.77822870e-03, -4.28971052e-02,\n",
       "          2.85362080e-03]],\n",
       "\n",
       "       [[ 3.38763706e-02, -6.40680641e-03,  1.22096650e-02,\n",
       "         -2.34046467e-02, -2.74673942e-02,  7.08203390e-03,\n",
       "         -1.91303249e-02, -1.40731707e-02,  4.69883345e-02,\n",
       "          2.68388055e-02,  1.87646598e-04,  4.00758907e-03,\n",
       "          1.06032379e-02,  4.97091748e-02, -3.73888128e-02,\n",
       "         -3.20343971e-02,  4.69144918e-02,  4.23821546e-02,\n",
       "         -4.62149493e-02,  5.48262522e-03, -2.14539766e-02,\n",
       "         -2.48140097e-03, -1.05779991e-02,  4.23435606e-02,\n",
       "         -3.90379503e-03, -2.54380237e-02, -3.16035636e-02,\n",
       "          2.23798193e-02, -4.39284928e-02, -1.90742612e-02,\n",
       "         -5.84807247e-03, -1.01163387e-02, -1.88659318e-02,\n",
       "          4.80271019e-02,  3.22160162e-02,  2.53404640e-02,\n",
       "          4.93234657e-02,  1.43235922e-03, -1.15130097e-03,\n",
       "          7.67510012e-03, -3.92235890e-02, -2.07249280e-02,\n",
       "         -4.99801636e-02, -3.26052904e-02,  4.65045609e-02,\n",
       "         -1.51624903e-02,  8.97049904e-05, -3.64552140e-02,\n",
       "          4.21997644e-02, -2.40179189e-02,  3.66913714e-02,\n",
       "         -2.26154812e-02,  2.37248093e-03,  1.59111358e-02,\n",
       "         -8.68039206e-03,  3.62583734e-02,  3.79304178e-02,\n",
       "         -2.51705889e-02,  3.70681770e-02, -2.51392480e-02,\n",
       "         -3.87606621e-02,  1.85763948e-02,  3.62272374e-02,\n",
       "          2.48110034e-02]],\n",
       "\n",
       "       [[-2.43674871e-02,  2.80981772e-02, -1.70252472e-03,\n",
       "          2.83137299e-02,  3.75401713e-02,  1.99447386e-02,\n",
       "         -1.15914121e-02, -1.86789148e-02, -2.47041471e-02,\n",
       "          4.65783216e-02, -4.69785444e-02,  2.91909464e-02,\n",
       "         -2.55842935e-02, -4.48004976e-02,  4.45063449e-02,\n",
       "         -4.41753045e-02, -3.14167291e-02,  7.96948746e-03,\n",
       "         -6.52668625e-03, -8.95415619e-03,  3.95735763e-02,\n",
       "         -2.30381619e-02, -3.71697657e-02, -2.61243582e-02,\n",
       "         -4.73071262e-03, -4.70605977e-02,  4.26914729e-02,\n",
       "         -3.86680365e-02,  3.09303738e-02,  3.57914008e-02,\n",
       "          4.02217247e-02,  9.08516720e-03, -4.90060709e-02,\n",
       "         -9.62710381e-03, -1.34196766e-02, -2.64234897e-02,\n",
       "          2.21207626e-02, -3.24814804e-02,  1.44687779e-02,\n",
       "         -4.19360511e-02,  1.52362622e-02, -1.89304836e-02,\n",
       "         -2.94633862e-02, -1.79648995e-02,  1.01338737e-02,\n",
       "         -7.92215019e-03, -2.06936356e-02,  1.35494396e-03,\n",
       "         -4.67562936e-02, -4.56678160e-02, -4.86810580e-02,\n",
       "         -2.20723636e-02, -2.09517833e-02, -1.86637267e-02,\n",
       "         -3.84499431e-02,  2.92317979e-02, -7.02619553e-04,\n",
       "          2.76742913e-02,  1.06703267e-02, -3.45777869e-02,\n",
       "         -4.71264012e-02, -4.87679355e-02, -4.87693921e-02,\n",
       "          1.30876638e-02]],\n",
       "\n",
       "       [[-4.30748351e-02,  4.54122312e-02, -1.32182837e-02,\n",
       "         -3.56074199e-02, -4.76750992e-02,  4.20281179e-02,\n",
       "         -2.16536410e-02, -4.98023294e-02, -4.05203924e-02,\n",
       "         -1.03956461e-03,  2.09556706e-02, -2.13007573e-02,\n",
       "          4.92821075e-02,  2.19963826e-02,  4.57633287e-04,\n",
       "         -1.93650723e-02,  7.32283667e-03, -2.24883687e-02,\n",
       "         -2.65762806e-02,  3.02929319e-02,  1.69982202e-02,\n",
       "          4.33690809e-02,  2.54810788e-02, -3.92275825e-02,\n",
       "         -1.13277547e-02, -4.64667343e-02, -3.32059152e-02,\n",
       "         -3.93504724e-02, -1.12800486e-02, -3.44847664e-02,\n",
       "         -3.12781483e-02,  3.94641049e-02, -2.24096701e-03,\n",
       "         -4.93906736e-02, -1.40523314e-02, -2.08313223e-02,\n",
       "         -3.75616774e-02, -3.54632735e-02,  2.82084085e-02,\n",
       "          8.98670405e-04, -2.25761775e-02,  2.81593092e-02,\n",
       "         -2.64862068e-02, -8.39530304e-03,  3.02245282e-02,\n",
       "          3.02058198e-02, -1.50611773e-02,  2.66953148e-02,\n",
       "          4.68954928e-02,  4.37920354e-02, -4.34951559e-02,\n",
       "          1.60578825e-02, -7.49383122e-03,  2.94906609e-02,\n",
       "         -1.36909001e-02,  4.64293025e-02,  4.92621101e-02,\n",
       "         -3.15096155e-02, -4.78241593e-03,  4.16700505e-02,\n",
       "          3.20866443e-02,  2.71803476e-02, -2.02844981e-02,\n",
       "         -3.52326147e-02]]], dtype=float32)>,\n",
       "                 'per_arm': <tf.Tensor: shape=(5, 1, 2, 64), dtype=float32, numpy=\n",
       "array([[[[-0.00221809,  0.00212697, -0.01776307,  0.02202714,\n",
       "           0.00695673,  0.04619673, -0.03804877, -0.03006124,\n",
       "           0.02544511,  0.04939878,  0.01507909,  0.02770242,\n",
       "          -0.04664897,  0.00355108,  0.04007271,  0.01703392,\n",
       "          -0.0475984 ,  0.00127201,  0.03054974, -0.03834845,\n",
       "           0.03257037,  0.03192686,  0.01993984, -0.04573517,\n",
       "          -0.01830922, -0.03321083, -0.0162503 ,  0.0350841 ,\n",
       "           0.03455014, -0.02904942,  0.02065786,  0.03537193,\n",
       "          -0.02603816,  0.04899352, -0.00714712,  0.0057664 ,\n",
       "           0.00637082, -0.0197966 ,  0.00898081,  0.02328176,\n",
       "           0.0225943 ,  0.03598758,  0.01765051, -0.02606072,\n",
       "           0.01387334, -0.02715429,  0.02693263,  0.04955653,\n",
       "           0.00381722, -0.01025523,  0.01256665,  0.04791   ,\n",
       "           0.02106674,  0.02780247, -0.02403205,  0.01286789,\n",
       "           0.03230281,  0.02831483,  0.00092293,  0.01056018,\n",
       "          -0.04488467, -0.03336569,  0.02808854,  0.03740979],\n",
       "         [-0.02075218, -0.02518197,  0.00935019, -0.02039017,\n",
       "          -0.0060747 ,  0.02940648, -0.00077151, -0.0142175 ,\n",
       "           0.01365696,  0.00599173, -0.00904816, -0.00712298,\n",
       "          -0.0114792 , -0.00961747,  0.04800364,  0.0206403 ,\n",
       "          -0.03127102,  0.02803541, -0.0492443 ,  0.0382865 ,\n",
       "          -0.03352864, -0.00537881,  0.00536567, -0.04988984,\n",
       "          -0.03978216,  0.00857846, -0.02540852,  0.03808824,\n",
       "           0.01429715,  0.02641895,  0.04793328, -0.03682051,\n",
       "           0.04015854,  0.04596749, -0.0186877 ,  0.04889097,\n",
       "          -0.04662633, -0.0117444 , -0.03260888, -0.02548739,\n",
       "          -0.00677264, -0.01575788, -0.03315045,  0.01460529,\n",
       "           0.01102506,  0.00047202, -0.03327484, -0.04465969,\n",
       "           0.00102418, -0.01881944, -0.00113717,  0.02666784,\n",
       "           0.04586372, -0.01727357, -0.02061465,  0.01628523,\n",
       "           0.01621313, -0.01722851,  0.01645831,  0.02814711,\n",
       "          -0.03024566,  0.03152083, -0.0393101 , -0.01000111]]],\n",
       "\n",
       "\n",
       "       [[[-0.02170953,  0.047061  ,  0.01365726, -0.02824075,\n",
       "          -0.04639262,  0.00982993, -0.01850715, -0.0127983 ,\n",
       "           0.01120316,  0.00990137, -0.0272926 , -0.00638765,\n",
       "          -0.01971824,  0.02365899,  0.03854727, -0.02051178,\n",
       "           0.01100398, -0.00262707, -0.00766934, -0.00143468,\n",
       "           0.01476437, -0.01263288,  0.02744523, -0.01862276,\n",
       "          -0.0055748 , -0.01659238, -0.02847223,  0.02199337,\n",
       "          -0.04781369, -0.04440106,  0.02712597, -0.01506212,\n",
       "          -0.02603816,  0.04899352, -0.00714712,  0.0057664 ,\n",
       "           0.00637082, -0.0197966 ,  0.00898081,  0.02328176,\n",
       "           0.0225943 ,  0.03598758,  0.01765051, -0.02606072,\n",
       "           0.01387334, -0.02715429,  0.02693263,  0.04955653,\n",
       "           0.00381722, -0.01025523,  0.01256665,  0.04791   ,\n",
       "           0.02106674,  0.02780247, -0.02403205,  0.01286789,\n",
       "           0.03230281,  0.02831483,  0.00092293,  0.01056018,\n",
       "          -0.04488467, -0.03336569,  0.02808854,  0.03740979],\n",
       "         [-0.00361662,  0.00960775,  0.03253632,  0.04055918,\n",
       "          -0.03657558,  0.04095563,  0.02723423, -0.02820667,\n",
       "          -0.02000313,  0.03939818,  0.02983937, -0.0107976 ,\n",
       "          -0.03188057, -0.01600676,  0.00351255,  0.02898376,\n",
       "           0.03520682,  0.01010666, -0.01555023,  0.03465908,\n",
       "          -0.02117741,  0.01470853, -0.01943908,  0.04315882,\n",
       "           0.04011643,  0.04708136, -0.0258885 , -0.00046581,\n",
       "           0.04021752,  0.02713441, -0.01764767,  0.00279022,\n",
       "          -0.02103451, -0.00308447,  0.04548666,  0.03894765,\n",
       "          -0.04336954, -0.03746959, -0.03753585,  0.00814002,\n",
       "           0.03281232,  0.00772104, -0.02185674,  0.03114826,\n",
       "          -0.04880112,  0.01364755,  0.01118503, -0.02733239,\n",
       "           0.03445497,  0.04181446,  0.03469454,  0.04943749,\n",
       "           0.04702293,  0.03910041,  0.03141303, -0.0207502 ,\n",
       "          -0.00283358, -0.02138715, -0.01248813,  0.00109521,\n",
       "          -0.0119423 ,  0.01703605, -0.03445546, -0.02869073]]],\n",
       "\n",
       "\n",
       "       [[[ 0.02550138,  0.03194806, -0.04983858, -0.02016449,\n",
       "           0.03153056, -0.02693859, -0.04805024,  0.03730278,\n",
       "          -0.02386048,  0.03493854,  0.013807  , -0.01652038,\n",
       "          -0.04883183, -0.03912828,  0.03439442, -0.00669705,\n",
       "          -0.04533293,  0.03053254,  0.01199552, -0.04587091,\n",
       "          -0.03591825,  0.04968614,  0.01200344,  0.04830797,\n",
       "          -0.03863363, -0.00367624,  0.03957162, -0.02359333,\n",
       "           0.02513242,  0.0475514 , -0.02419429,  0.00746155,\n",
       "          -0.02186408,  0.02309834, -0.02490873,  0.04081712,\n",
       "          -0.02080411, -0.04923094, -0.027235  ,  0.04009983,\n",
       "           0.01829262, -0.04585603,  0.04372806,  0.00571928,\n",
       "           0.02270689, -0.03626827,  0.04527814, -0.04917663,\n",
       "          -0.04579372, -0.00263112, -0.02379261, -0.01660497,\n",
       "           0.03467542,  0.03226734,  0.03370913, -0.03950929,\n",
       "          -0.03249145,  0.03288635, -0.0165702 ,  0.01289611,\n",
       "          -0.04042042,  0.03810089,  0.03433749, -0.02867695],\n",
       "         [ 0.00536297, -0.00350034,  0.0145422 ,  0.02099029,\n",
       "          -0.04025997,  0.04402018, -0.00904692, -0.03488951,\n",
       "           0.0176315 ,  0.03456608,  0.00275674,  0.00808406,\n",
       "           0.03154287, -0.0470384 , -0.02132754,  0.03763633,\n",
       "           0.00119418, -0.02052053, -0.02653778,  0.01528256,\n",
       "          -0.04609314, -0.02504569, -0.04497103, -0.03772227,\n",
       "          -0.03643168, -0.03785021,  0.00080265, -0.0421028 ,\n",
       "           0.00829206,  0.03274801,  0.04309423,  0.01716411,\n",
       "          -0.02103451, -0.00308447,  0.04548666,  0.03894765,\n",
       "          -0.04336954, -0.03746959, -0.03753585,  0.00814002,\n",
       "           0.03281232,  0.00772104, -0.02185674,  0.03114826,\n",
       "          -0.04880112,  0.01364755,  0.01118503, -0.02733239,\n",
       "           0.03445497,  0.04181446,  0.03469454,  0.04943749,\n",
       "           0.04702293,  0.03910041,  0.03141303, -0.0207502 ,\n",
       "          -0.00283358, -0.02138715, -0.01248813,  0.00109521,\n",
       "          -0.0119423 ,  0.01703605, -0.03445546, -0.02869073]]],\n",
       "\n",
       "\n",
       "       [[[-0.03895564,  0.04400985, -0.04015004,  0.02240441,\n",
       "           0.00615161,  0.02534015, -0.03788242,  0.03279585,\n",
       "          -0.03547206, -0.03183012,  0.00173927,  0.04604175,\n",
       "          -0.0356391 , -0.03212605, -0.01186491,  0.00104318,\n",
       "          -0.04572878,  0.00456705, -0.03048172,  0.0201486 ,\n",
       "           0.00905378,  0.01089574,  0.00161456, -0.02061725,\n",
       "           0.00370385, -0.01005484, -0.03418946, -0.00399965,\n",
       "           0.03186439, -0.01929849,  0.03469774,  0.0403029 ,\n",
       "          -0.02186408,  0.02309834, -0.02490873,  0.04081712,\n",
       "          -0.02080411, -0.04923094, -0.027235  ,  0.04009983,\n",
       "           0.01829262, -0.04585603,  0.04372806,  0.00571928,\n",
       "           0.02270689, -0.03626827,  0.04527814, -0.04917663,\n",
       "          -0.04579372, -0.00263112, -0.02379261, -0.01660497,\n",
       "           0.03467542,  0.03226734,  0.03370913, -0.03950929,\n",
       "          -0.03249145,  0.03288635, -0.0165702 ,  0.01289611,\n",
       "          -0.04042042,  0.03810089,  0.03433749, -0.02867695],\n",
       "         [-0.01825034, -0.02633703, -0.00930153, -0.00174923,\n",
       "          -0.03488847,  0.01515346, -0.04820998,  0.00473157,\n",
       "          -0.01103758, -0.02845696,  0.04327391, -0.01849623,\n",
       "           0.00920273, -0.027904  ,  0.0037967 , -0.01725293,\n",
       "          -0.00944384,  0.03015672,  0.03928715,  0.04473138,\n",
       "          -0.00538995, -0.01143724, -0.01853295, -0.01806898,\n",
       "           0.03357801,  0.04770087,  0.00098398,  0.00973396,\n",
       "           0.02193041,  0.03699915, -0.03707379,  0.03203012,\n",
       "          -0.02603816,  0.04899352, -0.00714712,  0.0057664 ,\n",
       "           0.00637082, -0.0197966 ,  0.00898081,  0.02328176,\n",
       "           0.0225943 ,  0.03598758,  0.01765051, -0.02606072,\n",
       "           0.01387334, -0.02715429,  0.02693263,  0.04955653,\n",
       "           0.00381722, -0.01025523,  0.01256665,  0.04791   ,\n",
       "           0.02106674,  0.02780247, -0.02403205,  0.01286789,\n",
       "           0.03230281,  0.02831483,  0.00092293,  0.01056018,\n",
       "          -0.04488467, -0.03336569,  0.02808854,  0.03740979]]],\n",
       "\n",
       "\n",
       "       [[[-0.00320432, -0.01999071, -0.00182494, -0.02855959,\n",
       "          -0.00268446,  0.04665269,  0.03748529,  0.03255666,\n",
       "          -0.01428585,  0.02247107,  0.03879971,  0.03911493,\n",
       "           0.01509083,  0.03915029, -0.04565768,  0.03154511,\n",
       "          -0.02160984,  0.03692125, -0.03334867, -0.03771913,\n",
       "          -0.00923197, -0.04962646,  0.02991884, -0.02127188,\n",
       "          -0.01921842,  0.026159  ,  0.03311297, -0.03768457,\n",
       "           0.0169115 , -0.01837164, -0.00183594, -0.04734044,\n",
       "          -0.02103451, -0.00308447,  0.04548666,  0.03894765,\n",
       "          -0.04336954, -0.03746959, -0.03753585,  0.00814002,\n",
       "           0.03281232,  0.00772104, -0.02185674,  0.03114826,\n",
       "          -0.04880112,  0.01364755,  0.01118503, -0.02733239,\n",
       "           0.03445497,  0.04181446,  0.03469454,  0.04943749,\n",
       "           0.04702293,  0.03910041,  0.03141303, -0.0207502 ,\n",
       "          -0.00283358, -0.02138715, -0.01248813,  0.00109521,\n",
       "          -0.0119423 ,  0.01703605, -0.03445546, -0.02869073],\n",
       "         [ 0.0357751 ,  0.0387805 , -0.0324281 ,  0.00550433,\n",
       "           0.0346139 , -0.02804731,  0.01282993, -0.00669978,\n",
       "          -0.0453326 ,  0.00862602,  0.01746987,  0.02326922,\n",
       "           0.00681721, -0.04402782,  0.03970082, -0.00576698,\n",
       "           0.04657124, -0.03312559,  0.01638656,  0.04772217,\n",
       "          -0.00582276, -0.00947214, -0.01425717,  0.01621613,\n",
       "          -0.01209589, -0.0147149 ,  0.03730503, -0.04449371,\n",
       "           0.02432069, -0.04385728,  0.03495823,  0.00298706,\n",
       "          -0.02603816,  0.04899352, -0.00714712,  0.0057664 ,\n",
       "           0.00637082, -0.0197966 ,  0.00898081,  0.02328176,\n",
       "           0.0225943 ,  0.03598758,  0.01765051, -0.02606072,\n",
       "           0.01387334, -0.02715429,  0.02693263,  0.04955653,\n",
       "           0.00381722, -0.01025523,  0.01256665,  0.04791   ,\n",
       "           0.02106674,  0.02780247, -0.02403205,  0.01286789,\n",
       "           0.03230281,  0.02831483,  0.00092293,  0.01056018,\n",
       "          -0.04488467, -0.03336569,  0.02808854,  0.03740979]]]],\n",
       "      dtype=float32)>},\n",
       " 'policy_info': (),\n",
       " 'reward': <tf.Tensor: shape=(5, 2), dtype=float32, numpy=\n",
       "array([[4., 3.],\n",
       "       [5., 4.],\n",
       "       [4., 3.],\n",
       "       [5., 5.],\n",
       "       [5., 3.]], dtype=float32)>,\n",
       " 'step_type': <tf.Tensor: shape=(2,), dtype=int32, numpy=array([0, 0], dtype=int32)>})"
      ]
     },
     "execution_count": 209,
     "metadata": {},
     "output_type": "execute_result"
    }
   ],
   "source": [
    "for x in train_dataset.batch(HPARAMS['batch_size']).take(1):\n",
    "    test_traj = _rank_trajectory_fn(x)\n",
    "    \n",
    "test_traj"
   ]
  },
  {
   "cell_type": "code",
   "execution_count": 214,
   "id": "57fd5848-4d75-4fae-8cd7-0d7310562508",
   "metadata": {},
   "outputs": [
    {
     "name": "stdout",
     "output_type": "stream",
     "text": [
      "test_traj.observation.shape: (5, 1, 64)\n"
     ]
    }
   ],
   "source": [
    "print(f\"test_traj.observation.shape: {test_traj.observation['global'].shape}\")\n",
    "print(f\"test_traj.observation.shape: {test_traj.observation['per_arm'].shape}\")\n",
    "print(f\"test_traj.discount.shape   : {test_traj.discount.shape}\") \n",
    "\n",
    "expected_num_actions = action_spec.maximum - action_spec.minimum + 1\n",
    "print(f\"expected_num_actions: {expected_num_actions}\")\n",
    "\n",
    "predicted_rewards_mean = tensor_spec.TensorSpec([expected_num_actions])\n",
    "print(f\"predicted_rewards_mean: {predicted_rewards_mean}\")"
   ]
  },
  {
   "cell_type": "markdown",
   "id": "37f5ac56-3153-48e3-999a-a818ca673129",
   "metadata": {},
   "source": [
    "# Train Ranking Agent"
   ]
  },
  {
   "cell_type": "code",
   "execution_count": 225,
   "id": "43cd93ee-4ed8-4b11-9350-5e606ccca87a",
   "metadata": {},
   "outputs": [
    {
     "name": "stdout",
     "output_type": "stream",
     "text": [
      "EXPERIMENT_NAME   : local-ranker-rec-bandits-v1\n",
      "RUN_NAME          : run-20231005-090455\n",
      "\n",
      "BASE_OUTPUT_DIR   : gs://rec-bandits-v1-hybrid-vertex-bucket/local-ranker-rec-bandits-v1/run-20231005-090455\n",
      "LOG_DIR           : gs://rec-bandits-v1-hybrid-vertex-bucket/local-ranker-rec-bandits-v1/run-20231005-090455/logs\n",
      "ROOT_DIR          : gs://rec-bandits-v1-hybrid-vertex-bucket/local-ranker-rec-bandits-v1/run-20231005-090455/root\n",
      "ARTIFACTS_DIR     : gs://rec-bandits-v1-hybrid-vertex-bucket/local-ranker-rec-bandits-v1/run-20231005-090455/artifacts\n"
     ]
    }
   ],
   "source": [
    "EXPERIMENT_NAME   = f'local-ranker-{PREFIX}'\n",
    "\n",
    "# new experiment\n",
    "invoke_time       = time.strftime(\"%Y%m%d-%H%M%S\")\n",
    "RUN_NAME          = f'run-{invoke_time}'\n",
    "\n",
    "BASE_OUTPUT_DIR   = f'{BUCKET_URI}/{EXPERIMENT_NAME}/{RUN_NAME}'\n",
    "LOG_DIR           = f\"{BASE_OUTPUT_DIR}/logs\"\n",
    "ROOT_DIR          = f\"{BASE_OUTPUT_DIR}/root\"       # Root directory for writing logs/summaries/checkpoints.\n",
    "ARTIFACTS_DIR     = f\"{BASE_OUTPUT_DIR}/artifacts\"  # Where the trained model will be saved and restored.\n",
    "\n",
    "aiplatform.init(\n",
    "    project=PROJECT_ID,\n",
    "    location=REGION,\n",
    "    experiment=EXPERIMENT_NAME\n",
    ")\n",
    "\n",
    "print(f\"EXPERIMENT_NAME   : {EXPERIMENT_NAME}\")\n",
    "print(f\"RUN_NAME          : {RUN_NAME}\\n\")\n",
    "print(f\"BASE_OUTPUT_DIR   : {BASE_OUTPUT_DIR}\")\n",
    "print(f\"LOG_DIR           : {LOG_DIR}\")\n",
    "print(f\"ROOT_DIR          : {ROOT_DIR}\")\n",
    "print(f\"ARTIFACTS_DIR     : {ARTIFACTS_DIR}\")"
   ]
  },
  {
   "cell_type": "code",
   "execution_count": 226,
   "id": "99169818-818e-4148-b045-25eded36f553",
   "metadata": {},
   "outputs": [
    {
     "name": "stdout",
     "output_type": "stream",
     "text": [
      "tf_agents version: 0.18.0\n",
      "tensorflow version: 2.14.0\n"
     ]
    }
   ],
   "source": [
    "import collections\n",
    "\n",
    "from tf_agents.policies import py_tf_eager_policy\n",
    "from tf_agents.policies import tf_policy\n",
    "from tf_agents.trajectories import time_step as ts\n",
    "from tf_agents.policies import policy_saver\n",
    "from tf_agents.metrics import export_utils\n",
    "from tf_agents.metrics import tf_metrics\n",
    "from tf_agents.eval import metric_utils\n",
    "from tf_agents.utils import common\n",
    "\n",
    "import tf_agents\n",
    "\n",
    "print(f\"tf_agents version: {tf_agents.__version__}\")\n",
    "print(f\"tensorflow version: {tf.__version__}\")"
   ]
  },
  {
   "cell_type": "markdown",
   "id": "01f7b1cc-a927-45c0-b64d-30a70250fb8d",
   "metadata": {},
   "source": [
    "### logs & checkpoints"
   ]
  },
  {
   "cell_type": "code",
   "execution_count": 227,
   "id": "e6f63092-48ba-4cb2-8ee4-9b30bd4c23c2",
   "metadata": {},
   "outputs": [
    {
     "name": "stdout",
     "output_type": "stream",
     "text": [
      "agent: ranking_agent\n",
      "agent: penalize_cosine_distance_ranking_policy\n"
     ]
    }
   ],
   "source": [
    "global_step = tf.compat.v1.train.get_or_create_global_step()\n",
    "\n",
    "rank_agent.initialize()\n",
    "print(f'agent: {rank_agent.name}')\n",
    "print(f'agent: {rank_agent.policy.name}')"
   ]
  },
  {
   "cell_type": "code",
   "execution_count": 228,
   "id": "dd893a5d-449e-4c21-b9fc-3cf5114dd2b2",
   "metadata": {},
   "outputs": [
    {
     "name": "stdout",
     "output_type": "stream",
     "text": [
      "('metrics: [<tf_agents.metrics.tf_metrics.AverageReturnMetric object at '\n",
      " '0x7fbae4402800>]')\n",
      "setting checkpoint_manager: gs://rec-bandits-v1-hybrid-vertex-bucket/local-ranker-rec-bandits-v1/run-20231005-090455/root/chkpoint\n"
     ]
    }
   ],
   "source": [
    "# ====================================================\n",
    "# TB summary writer\n",
    "# ====================================================\n",
    "train_summary_writer = tf.compat.v2.summary.create_file_writer(\n",
    "    f\"{LOG_DIR}\", flush_millis=10 * 1000\n",
    ")\n",
    "# train_summary_writer.set_as_default()\n",
    "\n",
    "# eval_summary_writer = tf.compat.v2.summary.create_file_writer(\n",
    "#     f\"{LOG_DIR}/eval\", flush_millis=10 * 1000\n",
    "# )\n",
    "# ====================================================\n",
    "# metrics\n",
    "# ====================================================\n",
    "# `step_metric` records the number of individual rounds of bandit interaction;\n",
    "# that is, (number of trajectories) * batch_size\n",
    "step_metric = tf_metrics.EnvironmentSteps()\n",
    "\n",
    "if feedback_model == ranking_environment.FeedbackModel.SCORE_VECTOR:\n",
    "    reward_metric = tf_metrics.AverageReturnMetric(\n",
    "        batch_size=HPARAMS['batch_size'],\n",
    "        buffer_size=20\n",
    "    )\n",
    "else:\n",
    "    reward_metric = tf_metrics.AverageReturnMultiMetric(\n",
    "        reward_spec=environment.reward_spec(),\n",
    "        batch_size=HPARAMS['batch_size'],\n",
    "        buffer_size=20\n",
    "    )\n",
    "    \n",
    "metrics = [reward_metric]\n",
    "\n",
    "pprint(f\"metrics: {metrics}\")\n",
    "\n",
    "# ====================================================\n",
    "# get checkpoint manager\n",
    "# ====================================================\n",
    "CHKPOINT_DIR = f\"{ROOT_DIR}/chkpoint\"\n",
    "print(f\"setting checkpoint_manager: {CHKPOINT_DIR}\")\n",
    "\n",
    "checkpoint_manager = train_utils.restore_and_get_checkpoint_manager(\n",
    "    root_dir=CHKPOINT_DIR, \n",
    "    agent=rank_agent, \n",
    "    metrics=metrics, \n",
    "    step_metric=step_metric\n",
    ")"
   ]
  },
  {
   "cell_type": "code",
   "execution_count": 229,
   "id": "dd8bc05c-81f1-4919-9668-a0236f35a061",
   "metadata": {},
   "outputs": [],
   "source": [
    "# # ====================================================\n",
    "# # policy saver\n",
    "# # ====================================================\n",
    "# saver = policy_saver.PolicySaver(\n",
    "#     policy = rank_agent.policy, \n",
    "#     # train_step=global_step\n",
    "# )"
   ]
  },
  {
   "cell_type": "code",
   "execution_count": 230,
   "id": "4bb1d475-446e-498f-a4c1-a813de6352e1",
   "metadata": {},
   "outputs": [
    {
     "data": {
      "text/plain": [
       "True"
      ]
     },
     "execution_count": 230,
     "metadata": {},
     "output_type": "execute_result"
    }
   ],
   "source": [
    "policy = rank_agent.policy\n",
    "# isinstance(policy, tf_policy.TFPolicy)"
   ]
  },
  {
   "cell_type": "markdown",
   "id": "db9af553-9512-47e0-ae9d-d593139143e0",
   "metadata": {},
   "source": [
    "## Train config"
   ]
  },
  {
   "cell_type": "code",
   "execution_count": 231,
   "id": "50ef435c-3d9b-432d-a5e2-ab5d60e93cdf",
   "metadata": {},
   "outputs": [
    {
     "name": "stdout",
     "output_type": "stream",
     "text": [
      "TRAIN_DATA_SIZE : 900\n",
      "NUM_TRAIN_STEPS : 180\n",
      "EVAL_DATA_SIZE : 900\n",
      "NUM_EVAL_STEPS : 100\n",
      "CHKPT_INTERVAL: 180\n",
      "LOG_INTERVAL : 10\n"
     ]
    }
   ],
   "source": [
    "TRAIN_DATA_SIZE = 900          # len(list(train_dataset))\n",
    "NUM_TRAIN_STEPS = 180            # TRAIN_DATA_SIZE // HPARAMS['batch_size']\n",
    "\n",
    "EVAL_DATA_SIZE  = 900          # len(list(val_dataset))\n",
    "NUM_EVAL_STEPS  = 100           # EVAL_DATA_SIZE // HPARAMS['eval_batch_size']\n",
    "\n",
    "CHKPT_INTERVAL  = NUM_TRAIN_STEPS # // 5\n",
    "LOG_INTERVAL    = 10\n",
    "# EVAL_INTERVAL = NUM_TRAIN_STEPS // 2\n",
    "\n",
    "print(f\"TRAIN_DATA_SIZE : {TRAIN_DATA_SIZE}\")\n",
    "print(f\"NUM_TRAIN_STEPS : {NUM_TRAIN_STEPS}\")\n",
    "print(f\"EVAL_DATA_SIZE : {EVAL_DATA_SIZE}\")\n",
    "print(f\"NUM_EVAL_STEPS : {NUM_EVAL_STEPS}\")\n",
    "print(f\"CHKPT_INTERVAL: {CHKPT_INTERVAL}\")\n",
    "print(f\"LOG_INTERVAL : {LOG_INTERVAL}\")\n",
    "# print(f\"EVAL_INTERVAL : {EVAL_INTERVAL}\")"
   ]
  },
  {
   "cell_type": "code",
   "execution_count": 233,
   "id": "d4fa546c-bb88-4fef-976d-98b245ee842a",
   "metadata": {},
   "outputs": [],
   "source": [
    "# train data\n",
    "train_ds_iterator = iter(train_dataset.batch(HPARAMS['batch_size']))\n",
    "# train_ds_iterator = iter(train_dataset)\n",
    "\n",
    "# eval dataset\n",
    "eval_ds = val_dataset.batch(HPARAMS[\"eval_batch_size\"])\n",
    "\n",
    "if NUM_EVAL_STEPS > 0:\n",
    "    eval_ds = eval_ds.take(NUM_EVAL_STEPS)\n",
    "\n",
    "# eval_ds = eval_ds.prefetch(tf.data.AUTOTUNE)\n",
    "# eval_ds"
   ]
  },
  {
   "cell_type": "markdown",
   "id": "3c4d8449-6285-478a-8876-3f67c47cc6be",
   "metadata": {},
   "source": [
    "[ranking_agent](https://github.com/tensorflow/agents/blob/master/tf_agents/bandits/agents/ranking_agent.py#L288C1-L310C8)\n",
    "\n",
    "```\n",
    "  def _loss(\n",
    "      self,\n",
    "      experience: types.NestedTensor,\n",
    "      weights: Optional[types.Tensor] = None,\n",
    "      training: bool = False,\n",
    "  ) -> tf_agent.LossInfo:\n",
    "    \"\"\"Computes loss for training the reward and constraint networks.\n",
    "\n",
    "    Args:\n",
    "      experience: A batch of experience data in the form of a `Trajectory` or\n",
    "        `Transition`.\n",
    "      weights: Optional scalar or elementwise (per-batch-entry) importance\n",
    "        weights.  The output batch loss will be scaled by these weights, and the\n",
    "        final scalar loss is the mean of these values.\n",
    "      training: Whether the loss is being used for training.\n",
    "\n",
    "    Returns:\n",
    "      A `LossInfo` containing the loss for the training step.\n",
    "\n",
    "    Raises:\n",
    "      ValueError:\n",
    "        if the number of actions is greater than 1.\n",
    "    \"\"\"\n",
    "```"
   ]
  },
  {
   "cell_type": "code",
   "execution_count": 234,
   "id": "032770fc-8c04-4d3f-af21-9938501a7c62",
   "metadata": {},
   "outputs": [
    {
     "name": "stdout",
     "output_type": "stream",
     "text": [
      "starting train loop...\n",
      "step = 0: train loss = 17.479999542236328\n",
      "step = 10: train loss = 5.699999809265137\n",
      "step = 20: train loss = 1.2999999523162842\n",
      "step = 30: train loss = 1.9800000190734863\n",
      "step = 40: train loss = 1.0499999523162842\n",
      "step = 50: train loss = 0.6100000143051147\n",
      "step = 60: train loss = 0.5899999737739563\n",
      "step = 70: train loss = 0.8999999761581421\n",
      "step = 80: train loss = 0.75\n",
      "step = 90: train loss = 1.3200000524520874\n",
      "step = 100: train loss = 0.47999998927116394\n",
      "step = 110: train loss = 0.6499999761581421\n",
      "step = 120: train loss = 0.6800000071525574\n",
      "step = 130: train loss = 0.6700000166893005\n",
      "step = 140: train loss = 0.4699999988079071\n",
      "step = 150: train loss = 1.2699999809265137\n",
      "step = 160: train loss = 0.2800000011920929\n",
      "step = 170: train loss = 0.5\n",
      "train runtime_mins: 10\n"
     ]
    }
   ],
   "source": [
    "list_o_loss = []\n",
    "\n",
    "rank_agent.train_step_counter.assign(0)\n",
    "\n",
    "print(f\"starting train loop...\")\n",
    "start_time = time.time()\n",
    "\n",
    "# for i in tqdm(range(NUM_TRAIN_STEPS)):\n",
    "for i in range(NUM_TRAIN_STEPS):\n",
    "    \n",
    "    with train_summary_writer.as_default():\n",
    "\n",
    "        data = next(train_ds_iterator)\n",
    "        trajectories = _rank_trajectory_fn(data)\n",
    "\n",
    "        # All tensors in experience must be shaped [batch, time, ...] \n",
    "        step = rank_agent.train_step_counter.numpy()\n",
    "        loss = rank_agent.train(experience=trajectories)\n",
    "        list_o_loss.append(loss.loss.numpy())\n",
    "        \n",
    "        train_utils._export_metrics_and_summaries(\n",
    "            step=i, \n",
    "            metrics=metrics\n",
    "        )\n",
    "        \n",
    "        # print step loss\n",
    "        if step % LOG_INTERVAL == 0:\n",
    "            print(\n",
    "                'step = {0}: train loss = {1}'.format(\n",
    "                    step, round(loss.loss.numpy(), 2)\n",
    "                )\n",
    "            )\n",
    "\n",
    "        if i > 0 and i % CHKPT_INTERVAL == 0:\n",
    "            saver.save(os.path.join(CHKPOINT_DIR, 'policy_%d' % step_metric.result()))\n",
    "            print(f\"saved policy to: {CHKPOINT_DIR}\")\n",
    "            \n",
    "runtime_mins = int((time.time() - start_time) / 60)\n",
    "print(f\"train runtime_mins: {runtime_mins}\")"
   ]
  },
  {
   "cell_type": "code",
   "execution_count": 235,
   "id": "e657df42-b168-46f2-9b21-f99a91315a73",
   "metadata": {},
   "outputs": [
    {
     "name": "stdout",
     "output_type": "stream",
     "text": [
      "gs://rec-bandits-v1-hybrid-vertex-bucket/local-ranker-rec-bandits-v1/run-20231005-090455/logs/train/\n",
      "gs://rec-bandits-v1-hybrid-vertex-bucket/local-ranker-rec-bandits-v1/run-20231005-090455/logs/train/events.out.tfevents.1696496701.jt-tfa-bandit-rankers-2023.88289.2.v2\n"
     ]
    }
   ],
   "source": [
    "# LOG_DIR\n",
    "\n",
    "! gsutil ls $LOG_DIR/train"
   ]
  },
  {
   "cell_type": "code",
   "execution_count": 236,
   "id": "6b5e10ef-9f79-4030-b863-c821b695b957",
   "metadata": {},
   "outputs": [],
   "source": [
    "# %load_ext tensorboard\n",
    "%reload_ext tensorboard"
   ]
  },
  {
   "cell_type": "code",
   "execution_count": 237,
   "id": "85177c16-2b71-4be4-b378-59aa2cc8913a",
   "metadata": {},
   "outputs": [
    {
     "data": {
      "text/html": [
       "\n",
       "      <iframe id=\"tensorboard-frame-6f9900c656b4cc0e\" width=\"100%\" height=\"800\" frameborder=\"0\">\n",
       "      </iframe>\n",
       "      <script>\n",
       "        (function() {\n",
       "          const frame = document.getElementById(\"tensorboard-frame-6f9900c656b4cc0e\");\n",
       "          const url = new URL(\"/proxy/6006/\", window.location);\n",
       "          const port = 0;\n",
       "          if (port) {\n",
       "            url.port = port;\n",
       "          }\n",
       "          frame.src = url;\n",
       "        })();\n",
       "      </script>\n",
       "    "
      ],
      "text/plain": [
       "<IPython.core.display.HTML object>"
      ]
     },
     "metadata": {},
     "output_type": "display_data"
    }
   ],
   "source": [
    "%tensorboard --logdir=$LOG_DIR/train"
   ]
  },
  {
   "cell_type": "markdown",
   "id": "7cfdf7dc-d7c2-4eb4-86f0-57b784b65916",
   "metadata": {},
   "source": [
    "### Save Bandit Ranker"
   ]
  },
  {
   "cell_type": "code",
   "execution_count": 252,
   "id": "0110823a-ebd4-4fbf-8146-316d349fdd22",
   "metadata": {
    "tags": []
   },
   "outputs": [],
   "source": [
    "# trajectories\n",
    "tf.saved_model.save(rank_agent, ARTIFACTS_DIR)"
   ]
  },
  {
   "cell_type": "code",
   "execution_count": 253,
   "id": "30ab5d46-b98e-4532-87a2-467a6ea737c6",
   "metadata": {},
   "outputs": [
    {
     "name": "stdout",
     "output_type": "stream",
     "text": [
      "gs://rec-bandits-v1-hybrid-vertex-bucket/local-ranker-rec-bandits-v1/run-20231005-090455/artifacts/\n",
      "gs://rec-bandits-v1-hybrid-vertex-bucket/local-ranker-rec-bandits-v1/run-20231005-090455/artifacts/fingerprint.pb\n",
      "gs://rec-bandits-v1-hybrid-vertex-bucket/local-ranker-rec-bandits-v1/run-20231005-090455/artifacts/saved_model.pb\n",
      "gs://rec-bandits-v1-hybrid-vertex-bucket/local-ranker-rec-bandits-v1/run-20231005-090455/artifacts/assets/\n",
      "gs://rec-bandits-v1-hybrid-vertex-bucket/local-ranker-rec-bandits-v1/run-20231005-090455/artifacts/variables/\n"
     ]
    }
   ],
   "source": [
    "!gsutil ls $ARTIFACTS_DIR"
   ]
  },
  {
   "cell_type": "markdown",
   "id": "3bddd75a-21b0-4d09-9518-785246bd0a10",
   "metadata": {},
   "source": [
    "# Evaluate bandit ranking\n",
    "\n",
    "> **TODO**"
   ]
  },
  {
   "cell_type": "code",
   "execution_count": 248,
   "id": "ba6205d1-c8fc-4bd0-9c0e-7c3dc496d5cf",
   "metadata": {},
   "outputs": [
    {
     "data": {
      "text/plain": [
       "{'batch_size': 5,\n",
       " 'eval_batch_size': 1,\n",
       " 'num_itmes': 3,\n",
       " 'num_slots': 2,\n",
       " 'model_type': 'Ranking',\n",
       " 'network_type': 'dotproduct',\n",
       " 'global_layers': [64, 32, 16],\n",
       " 'per_arm_layers': [64, 32, 16],\n",
       " 'common_layers': [16, 8],\n",
       " 'learning_rate': 0.005,\n",
       " 'policy_type': <RankingPolicyType.COSINE_DISTANCE: 1>,\n",
       " 'feedback_model': 2,\n",
       " 'penalty_mixture': 1.0,\n",
       " 'logits_temperature': 1.0}"
      ]
     },
     "execution_count": 248,
     "metadata": {},
     "output_type": "execute_result"
    }
   ],
   "source": [
    "HPARAMS"
   ]
  },
  {
   "cell_type": "code",
   "execution_count": 247,
   "id": "fa2c92b9-5fb5-4945-a5ee-0feb525189c6",
   "metadata": {},
   "outputs": [],
   "source": [
    "def _create_random_ranking(\n",
    "    num_ranked_items: int, num_allowed_values: int, batch_size: int\n",
    "):\n",
    "    \"\"\"Returns a batch of `batch_size` rankings each of length `num_ranked_items`.\n",
    "\n",
    "    1. If `num_ranked_items` is no greater than `num_allowed_values`, each ranking\n",
    "    is a subset of [0, 1, ..., num_allowed_values - 1], of size\n",
    "    `num_ranked_items`.\n",
    "    2. If `num_ranked_items` is greater than `num_allowed_values`, the first\n",
    "    `num_allowed_values` of each ranking is a permutation of\n",
    "    [0, 1, ... num_allowed_values - 1]. The remaining `num_ranked_items -\n",
    "    num_allowed_values` of the ranking are unspecified.\n",
    "\n",
    "    Args:\n",
    "    num_ranked_items: the expected number of items in the output ranking, as\n",
    "      specified in the study config.\n",
    "    num_allowed_values: the number of items to select from.\n",
    "    batch_size: the number of batches of random rankings to return.\n",
    "    \"\"\"\n",
    "    num_valid_indices = min(num_ranked_items, num_allowed_values)\n",
    "    ranking = np.full(\n",
    "        (batch_size, num_ranked_items), np.iinfo(np.int32).max, dtype=np.int32\n",
    "    )\n",
    "    for idx in range(batch_size):\n",
    "        ranking[idx, :num_valid_indices] = np.random.choice(\n",
    "            num_allowed_values, size=num_valid_indices, replace=False\n",
    "        )\n",
    "    return ranking"
   ]
  },
  {
   "cell_type": "code",
   "execution_count": 249,
   "id": "f186a9b2-c72b-434c-a572-195b7edf36c6",
   "metadata": {},
   "outputs": [
    {
     "data": {
      "text/plain": [
       "array([[0, 1],\n",
       "       [1, 2],\n",
       "       [2, 1],\n",
       "       [1, 0],\n",
       "       [1, 0]], dtype=int32)"
      ]
     },
     "execution_count": 249,
     "metadata": {},
     "output_type": "execute_result"
    }
   ],
   "source": [
    "rand_rank_batch = _create_random_ranking(\n",
    "    num_ranked_items=HPARAMS['num_slots'],\n",
    "    num_allowed_values=HPARAMS['num_itmes'],\n",
    "    batch_size=HPARAMS['batch_size']\n",
    ")\n",
    "rand_rank_batch"
   ]
  },
  {
   "cell_type": "code",
   "execution_count": 238,
   "id": "4e0ce70d-cb79-45ad-888e-231c52e9504b",
   "metadata": {},
   "outputs": [
    {
     "data": {
      "text/plain": [
       "<tf_agents.policies.py_tf_eager_policy.PyTFEagerPolicy at 0x7fbae45bba90>"
      ]
     },
     "execution_count": 238,
     "metadata": {},
     "output_type": "execute_result"
    }
   ],
   "source": [
    "# from src.perarm_features import eval_perarm as eval_perarm\n",
    "eval_policy_tf = py_tf_eager_policy.PyTFEagerPolicy(rank_agent.policy, use_tf_function=True)\n",
    "eval_policy_tf"
   ]
  },
  {
   "cell_type": "code",
   "execution_count": 243,
   "id": "d0012588-b4c2-4ff6-b495-2c9e35aa7b27",
   "metadata": {},
   "outputs": [],
   "source": [
    "# eval_policy_tf.time_step_spec"
   ]
  },
  {
   "cell_type": "code",
   "execution_count": 244,
   "id": "c879333b-11f4-4a8a-add5-567f8ec6a9bc",
   "metadata": {},
   "outputs": [],
   "source": [
    "# eval_policy_tf.trajectory_spec"
   ]
  },
  {
   "cell_type": "code",
   "execution_count": 246,
   "id": "96e8f626-b650-474f-b085-fa1b90e2c478",
   "metadata": {},
   "outputs": [],
   "source": [
    "prediction = eval_policy_tf.action(trajectories)\n",
    "prediction"
   ]
  },
  {
   "cell_type": "code",
   "execution_count": 317,
   "id": "bbad1383-8c00-4bef-8ed2-d0e9201cab3a",
   "metadata": {},
   "outputs": [
    {
     "name": "stdout",
     "output_type": "stream",
     "text": [
      "concat_embeddings shape: (5, 64)\n",
      "concat_embeddings shape: (5, 64)\n"
     ]
    }
   ],
   "source": [
    "for x in eval_ds:\n",
    "\n",
    "    filter_mask = None\n",
    "    # get feature tensors\n",
    "\n",
    "#     global_feat_infer = _get_global_context_features(x)\n",
    "#     arm_feat_infer = _get_per_arm_features(x)\n",
    "    \n",
    "#     feature = {'global': global_feat_infer, 'per_arm': arm_feat_infer}\n",
    "\n",
    "#     rewards = x['user_rating']\n",
    "    \n",
    "    # reshape arm features\n",
    "    # arm_feat_infer = tf.reshape(arm_feat_infer, [HPARAMS['eval_batch_size'], PER_ARM_DIM])\n",
    "    # concat_arm = tf.concat([arm_feat_infer, dummy_arm], axis=0)\n",
    "    \n",
    "    # trajectory_step = train_utils._get_eval_step(feature, rewards.numpy()[0])\n",
    "    trajectory_step = _rank_trajectory_fn(x)\n",
    "    \n",
    "    break"
   ]
  },
  {
   "cell_type": "code",
   "execution_count": 321,
   "id": "226292aa-b55a-4958-b44c-da01a41c8cdf",
   "metadata": {},
   "outputs": [],
   "source": [
    "# rewards.numpy()[0]"
   ]
  },
  {
   "cell_type": "code",
   "execution_count": 320,
   "id": "6978ad56-1a57-4509-a5b4-30093a3f7f16",
   "metadata": {},
   "outputs": [],
   "source": [
    "# feature"
   ]
  },
  {
   "cell_type": "code",
   "execution_count": 322,
   "id": "9b04a614-9803-44b3-9435-04b441a36be5",
   "metadata": {},
   "outputs": [],
   "source": [
    "# arm_feat_infer"
   ]
  },
  {
   "cell_type": "code",
   "execution_count": null,
   "id": "c4cb0117-a91c-4a05-8c4b-93426cb911c8",
   "metadata": {},
   "outputs": [],
   "source": []
  },
  {
   "cell_type": "code",
   "execution_count": null,
   "id": "d1243ef3-ddcd-4f81-b08c-df89af563f44",
   "metadata": {},
   "outputs": [],
   "source": [
    "# ====================================================\n",
    "# Evaluate the agent's policy once before training\n",
    "# ====================================================\n",
    "# Reset the train step\n",
    "rank_agent.train_step_counter.assign(0)\n",
    "\n",
    "pre_policy_tf = py_tf_eager_policy.PyTFEagerPolicy(rank_agent.policy, use_tf_function=True)\n",
    "\n",
    "print(f\"evaluating pre-trained Agent...\")\n",
    "start_time = time.time()\n",
    "\n",
    "pre_val_loss, pre_preds, pre_tr_rewards = eval_perarm._run_bandit_eval(\n",
    "    policy = pre_policy_tf,\n",
    "    data = eval_ds,\n",
    "    eval_batch_size = HPARAMS['eval_batch_size'],\n",
    "    per_arm_dim = PER_ARM_DIM,\n",
    "    global_dim = GLOBAL_DIM,\n",
    "    vocab_dict = vocab_dict,\n",
    "    num_oov_buckets = NUM_OOV_BUCKETS,\n",
    "    global_emb_size = GLOBAL_EMBEDDING_SIZE,\n",
    "    mv_emb_size = MV_EMBEDDING_SIZE,\n",
    ")\n",
    "\n",
    "runtime_mins = int((time.time() - start_time) / 60)\n",
    "print(f\"pre-train val_loss     : {pre_val_loss}\")\n",
    "print(f\"pre-train eval runtime : {runtime_mins}\")\n",
    "# ====================================================\n",
    "# train loop\n",
    "# ====================================================\n",
    "print(f\"starting train loop...\")\n",
    "start_time = time.time()"
   ]
  },
  {
   "cell_type": "code",
   "execution_count": null,
   "id": "21fbf39b-90ca-4088-ab84-61d6f9b78152",
   "metadata": {},
   "outputs": [],
   "source": []
  },
  {
   "cell_type": "code",
   "execution_count": null,
   "id": "a8f9a1e3-80e3-4dd2-95d6-5e5c4d49010d",
   "metadata": {},
   "outputs": [],
   "source": []
  },
  {
   "cell_type": "code",
   "execution_count": null,
   "id": "c558330c-93d7-4851-b0b6-393b8a2a8e09",
   "metadata": {},
   "outputs": [],
   "source": []
  },
  {
   "cell_type": "code",
   "execution_count": null,
   "id": "cbe298e2-9dc2-43d5-a34b-3a20d48c2ef9",
   "metadata": {},
   "outputs": [],
   "source": []
  },
  {
   "cell_type": "code",
   "execution_count": null,
   "id": "994e3319-9984-4bd3-ba88-ee8538fff37a",
   "metadata": {},
   "outputs": [],
   "source": []
  },
  {
   "cell_type": "code",
   "execution_count": null,
   "id": "6a6592aa-5a59-4d2d-8772-9d5aaf41521c",
   "metadata": {},
   "outputs": [],
   "source": []
  },
  {
   "cell_type": "code",
   "execution_count": null,
   "id": "4f72d29a-fe8a-48cb-9d0c-2879d880fff8",
   "metadata": {},
   "outputs": [],
   "source": []
  },
  {
   "cell_type": "code",
   "execution_count": null,
   "id": "41e00513-8be9-46da-bca5-7cd342bd1c78",
   "metadata": {},
   "outputs": [],
   "source": []
  },
  {
   "cell_type": "markdown",
   "id": "9b54e1a2-daf0-4da6-97e9-62bb2c521652",
   "metadata": {},
   "source": [
    "## Ranking Bandit"
   ]
  },
  {
   "cell_type": "code",
   "execution_count": 32,
   "id": "1c209cd0-3e99-47dd-8cf6-069250024747",
   "metadata": {},
   "outputs": [
    {
     "name": "stdout",
     "output_type": "stream",
     "text": [
      "BATCH_SIZE      : 128\n",
      "EVAL_BATCH_SIZE : 1\n",
      "NUM_ACTIONS     : 2\n",
      "GLOBAL_DIM      : 64\n",
      "PER_ARM_DIM     : 64\n"
     ]
    }
   ],
   "source": [
    "BATCH_SIZE      = 128\n",
    "EVAL_BATCH_SIZE = 1\n",
    "\n",
    "NUM_ACTIONS = 2\n",
    "NUM_ITEMS  = 50\n",
    "NUM_SLOTS  = 3 \n",
    "\n",
    "print(f\"BATCH_SIZE      : {BATCH_SIZE}\")\n",
    "print(f\"EVAL_BATCH_SIZE : {EVAL_BATCH_SIZE}\")\n",
    "print(f\"NUM_ACTIONS     : {NUM_ACTIONS}\")\n",
    "print(f\"GLOBAL_DIM      : {GLOBAL_DIM}\")\n",
    "print(f\"PER_ARM_DIM     : {PER_ARM_DIM}\")"
   ]
  },
  {
   "cell_type": "markdown",
   "id": "13a47d2f-81c7-422c-8835-476d04617b66",
   "metadata": {},
   "source": [
    "## specs"
   ]
  },
  {
   "cell_type": "markdown",
   "id": "a7328484-bb4f-44cb-916d-a87bd4862ff5",
   "metadata": {},
   "source": [
    "### Observation Spec\n",
    "\n",
    "**example config:**\n",
    "```\n",
    "global_dim = 9  #@param{ type: \"integer\"}\n",
    "item_dim   = 11  #@param{ type: \"integer\"}\n",
    "num_items  = 50 #@param{ type: \"integer\"}\n",
    "num_slots  = 3  #@param{ type: \"integer\"}\n",
    "```\n",
    "**example obs sepc:**\n",
    "\n",
    "```\n",
    "{'global': TensorSpec(shape=(9,), dtype=tf.float32, name=None),\n",
    " 'per_arm': TensorSpec(shape=(50, 11), dtype=tf.float32, name=None)}\n",
    " ```"
   ]
  },
  {
   "cell_type": "code",
   "execution_count": 33,
   "id": "d2d296f6-1587-486a-a143-8ec69aae97a8",
   "metadata": {},
   "outputs": [
    {
     "data": {
      "text/plain": [
       "{'global': TensorSpec(shape=(64,), dtype=tf.float32, name=None),\n",
       " 'per_arm': TensorSpec(shape=(2, 64), dtype=tf.float32, name=None)}"
      ]
     },
     "execution_count": 33,
     "metadata": {},
     "output_type": "execute_result"
    }
   ],
   "source": [
    "observation_spec = {\n",
    "    'global': tf.TensorSpec([GLOBAL_DIM], tf.float32),\n",
    "    'per_arm': tf.TensorSpec([NUM_ACTIONS, PER_ARM_DIM], tf.float32) #excluding action dim here\n",
    "}\n",
    "observation_spec"
   ]
  },
  {
   "cell_type": "markdown",
   "id": "a2e88b4e-79f9-4a5a-8ba1-af28201fd01d",
   "metadata": {},
   "source": [
    "### Action Spec\n",
    "\n",
    "```\n",
    "BoundedTensorSpec(shape=(3,), dtype=tf.int32, name='action', minimum=array(0, dtype=int32), maximum=array(49, dtype=int32))\n",
    "\n",
    "```"
   ]
  },
  {
   "cell_type": "code",
   "execution_count": 34,
   "id": "d6304e73-7101-4cf8-92e6-fb2770e6de27",
   "metadata": {},
   "outputs": [
    {
     "data": {
      "text/plain": [
       "BoundedTensorSpec(shape=(), dtype=tf.int32, name='action_spec', minimum=array(0, dtype=int32), maximum=array(2, dtype=int32))"
      ]
     },
     "execution_count": 34,
     "metadata": {},
     "output_type": "execute_result"
    }
   ],
   "source": [
    "action_spec = tensor_spec.BoundedTensorSpec(\n",
    "    shape=[], \n",
    "    dtype=tf.int32,\n",
    "    minimum=tf.constant(0),            \n",
    "    maximum=NUM_SLOTS-1, # n degrees of freedom and will dictate the expected mean reward spec shape\n",
    "    name=\"action_spec\"\n",
    ")\n",
    "\n",
    "action_spec"
   ]
  },
  {
   "cell_type": "markdown",
   "id": "7bb4f836-ef3f-479b-8923-eb5f75dead56",
   "metadata": {},
   "source": [
    "### TimeStep Spec\n",
    "\n",
    "```\n",
    "TimeStep(\n",
    "{'discount': BoundedTensorSpec(shape=(), dtype=tf.float32, name='discount', minimum=array(0., dtype=float32), maximum=array(1., dtype=float32)),\n",
    " 'observation': {'global': TensorSpec(shape=(9,), dtype=tf.float32, name=None),\n",
    "                 'per_arm': TensorSpec(shape=(50, 11), dtype=tf.float32, name=None)},\n",
    " 'reward': {'chosen_index': BoundedTensorSpec(shape=(), dtype=tf.int32, name='chosen_index', minimum=array(0, dtype=int32), maximum=array(3, dtype=int32)),\n",
    "            'chosen_value': TensorSpec(shape=(), dtype=tf.float32, name='chosen_value')},\n",
    " 'step_type': TensorSpec(shape=(), dtype=tf.int32, name='step_type')})\n",
    " ```"
   ]
  },
  {
   "cell_type": "code",
   "execution_count": 35,
   "id": "1d29187a-f262-48bb-8b92-bca02fc1c155",
   "metadata": {},
   "outputs": [
    {
     "data": {
      "text/plain": [
       "TimeStep(\n",
       "{'discount': BoundedTensorSpec(shape=(), dtype=tf.float32, name='discount', minimum=array(0., dtype=float32), maximum=array(1., dtype=float32)),\n",
       " 'observation': {'global': TensorSpec(shape=(64,), dtype=tf.float32, name=None),\n",
       "                 'per_arm': TensorSpec(shape=(2, 64), dtype=tf.float32, name=None)},\n",
       " 'reward': TensorSpec(shape=(), dtype=tf.float32, name='reward'),\n",
       " 'step_type': TensorSpec(shape=(), dtype=tf.int32, name='step_type')})"
      ]
     },
     "execution_count": 35,
     "metadata": {},
     "output_type": "execute_result"
    }
   ],
   "source": [
    "time_step_spec = ts.time_step_spec(observation_spec)#, reward_spec=tf.TensorSpec([1, NUM_ACTIONS]))\n",
    "time_step_spec"
   ]
  },
  {
   "cell_type": "code",
   "execution_count": null,
   "id": "b5e6729f-dda4-43db-a639-d2c01df902c6",
   "metadata": {},
   "outputs": [],
   "source": [
    "feedback_model = ranking_environment.FeedbackModel"
   ]
  },
  {
   "cell_type": "code",
   "execution_count": null,
   "id": "06655962-6239-4ea1-b24c-72f1fd21faef",
   "metadata": {},
   "outputs": [],
   "source": []
  },
  {
   "cell_type": "code",
   "execution_count": null,
   "id": "fbdcafb1-90cd-4383-a386-17fce005ade0",
   "metadata": {},
   "outputs": [],
   "source": [
    "from src.perarm_features import ranking_bandit_policy\n",
    "# policy = ranking_bandit_policy.GenLinearRankingBanditPolicy("
   ]
  },
  {
   "cell_type": "code",
   "execution_count": null,
   "id": "341894e4-85fd-4b72-a9ed-64cbba150480",
   "metadata": {},
   "outputs": [],
   "source": [
    "from src.perarm_features import agent_factory as agent_factory\n",
    "ranking_bandit_agent = agent_factory.GenLinearRankingBanditAgent(XXX)"
   ]
  },
  {
   "cell_type": "code",
   "execution_count": null,
   "id": "bb694d9b-4d90-4644-9231-23dd9eb4dbf3",
   "metadata": {},
   "outputs": [],
   "source": []
  },
  {
   "cell_type": "code",
   "execution_count": null,
   "id": "da61e837-0482-4cd6-b36e-22404ba732ad",
   "metadata": {},
   "outputs": [],
   "source": []
  },
  {
   "cell_type": "code",
   "execution_count": null,
   "id": "e7661cad-e3cd-45dd-a435-551cec2fe2de",
   "metadata": {},
   "outputs": [],
   "source": []
  },
  {
   "cell_type": "code",
   "execution_count": null,
   "id": "7ea60997-803c-41f2-8f7a-db22b88785ba",
   "metadata": {},
   "outputs": [],
   "source": []
  },
  {
   "cell_type": "code",
   "execution_count": null,
   "id": "7a0dbd2e-0f00-495b-a487-b68b5d9e3821",
   "metadata": {},
   "outputs": [],
   "source": []
  },
  {
   "cell_type": "code",
   "execution_count": null,
   "id": "59da27af-157f-4adb-97b9-b4967d825b4c",
   "metadata": {},
   "outputs": [],
   "source": []
  },
  {
   "cell_type": "code",
   "execution_count": null,
   "id": "21e35cee-b0ee-4067-885e-144ad9c2554f",
   "metadata": {},
   "outputs": [],
   "source": []
  },
  {
   "cell_type": "code",
   "execution_count": null,
   "id": "c0f44b94-998c-43c2-b1c4-1443a5083ea4",
   "metadata": {},
   "outputs": [],
   "source": []
  },
  {
   "cell_type": "code",
   "execution_count": null,
   "id": "907c1573-cccd-422f-911e-06c5cb8e6ae9",
   "metadata": {},
   "outputs": [],
   "source": []
  }
 ],
 "metadata": {
  "environment": {
   "kernel": "python3",
   "name": "tf2-gpu.2-11.m109",
   "type": "gcloud",
   "uri": "gcr.io/deeplearning-platform-release/tf2-gpu.2-11:m109"
  },
  "kernelspec": {
   "display_name": "Python 3",
   "language": "python",
   "name": "python3"
  },
  "language_info": {
   "codemirror_mode": {
    "name": "ipython",
    "version": 3
   },
   "file_extension": ".py",
   "mimetype": "text/x-python",
   "name": "python",
   "nbconvert_exporter": "python",
   "pygments_lexer": "ipython3",
   "version": "3.10.11"
  }
 },
 "nbformat": 4,
 "nbformat_minor": 5
}
