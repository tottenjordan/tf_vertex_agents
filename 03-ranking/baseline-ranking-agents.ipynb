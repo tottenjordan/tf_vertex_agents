{
 "cells": [
  {
   "cell_type": "markdown",
   "id": "f462e3ae-0544-4a09-8345-01fc822192f0",
   "metadata": {},
   "source": [
    "# Contextual Bandits for Ranking with TF-Agents\n",
    "\n",
    "> see [ranking tutorial](https://www.tensorflow.org/agents/tutorials/ranking_tutorial)"
   ]
  },
  {
   "cell_type": "markdown",
   "id": "214b2409-ca72-4a2f-972b-32185fbf441c",
   "metadata": {},
   "source": [
    "### Overview\n",
    "\n",
    "* The contextual bandits approach is classified as an extension of multi-armed bandits\n",
    "* a contextual multi-armed banded problem is a simplified reinforcement learning algorithm where the agent takes an action from a set of possible actions \n",
    "\n",
    "> **TODO**\n",
    "\n",
    "The **Bandit Ranking** agent will be similar to the `NeuralEpsilonGreedy` agent. Main differences:\n",
    "\n",
    "* The item features are stored in the `per_arm` part of the observation, in the order of how they are recommended\n",
    "* Since this ordered list of items expresses what action was taken by the policy,\n",
    "the `action` value of the trajectory is not used by the agent.\n",
    "\n",
    "> Note: difference between the \"per-arm\" observation recieved by the policy vs the agent:\n",
    "\n",
    "While the agent receives the items in the recommendation slots, the policy receives the items that are available for recommendation. The user is responsible for converting the observation to the\n",
    "syntax required by the agent.\n",
    "\n",
    "\n",
    "The training observation contains the global features and the features of the items in the recommendation slots \n",
    "* The item features are stored in the `per_arm` part of the observation, in the order of how they are recommended\n",
    "* Note: since this ordered list of items expresses what action was taken by the policy, the action value of the trajectory is not used by the agent"
   ]
  },
  {
   "cell_type": "markdown",
   "id": "ce53b012-c8db-4874-90bc-e13ac83fae19",
   "metadata": {},
   "source": [
    "## Load notebook config\n",
    "\n",
    "* use the prefix defined in `00-env-setup`"
   ]
  },
  {
   "cell_type": "code",
   "execution_count": 41,
   "id": "056b54b6-79d5-4ed6-b94a-6a776fc7db36",
   "metadata": {},
   "outputs": [
    {
     "name": "stdout",
     "output_type": "stream",
     "text": [
      "PREFIX: rec-bandits-v1\n"
     ]
    }
   ],
   "source": [
    "VERSION        = \"v1\"                       # TODO\n",
    "PREFIX         = f'rec-bandits-{VERSION}'   # TODO\n",
    "\n",
    "# PREFIX = 'mabv1'\n",
    "\n",
    "print(f\"PREFIX: {PREFIX}\")"
   ]
  },
  {
   "cell_type": "code",
   "execution_count": 2,
   "id": "2d3596a1-670b-4974-b643-2079a5db0afa",
   "metadata": {},
   "outputs": [
    {
     "name": "stdout",
     "output_type": "stream",
     "text": [
      "\n",
      "PROJECT_ID               = \"hybrid-vertex\"\n",
      "PROJECT_NUM              = \"934903580331\"\n",
      "LOCATION                 = \"us-central1\"\n",
      "\n",
      "REGION                   = \"us-central1\"\n",
      "BQ_LOCATION              = \"US\"\n",
      "VPC_NETWORK_NAME         = \"ucaip-haystack-vpc-network\"\n",
      "\n",
      "VERTEX_SA                = \"934903580331-compute@developer.gserviceaccount.com\"\n",
      "\n",
      "PREFIX                   = \"rec-bandits-v1\"\n",
      "VERSION                  = \"v1\"\n",
      "\n",
      "BUCKET_NAME              = \"rec-bandits-v1-hybrid-vertex-bucket\"\n",
      "BUCKET_URI               = \"gs://rec-bandits-v1-hybrid-vertex-bucket\"\n",
      "DATA_GCS_PREFIX          = \"data\"\n",
      "DATA_PATH                = \"gs://rec-bandits-v1-hybrid-vertex-bucket/data\"\n",
      "VOCAB_SUBDIR             = \"vocabs\"\n",
      "VOCAB_FILENAME           = \"vocab_dict.pkl\"\n",
      "\n",
      "VPC_NETWORK_FULL         = \"projects/934903580331/global/networks/ucaip-haystack-vpc-network\"\n",
      "\n",
      "BIGQUERY_DATASET_ID      = \"hybrid_vertex.movielens_ds_rec_bandits_v1\"\n",
      "BIGQUERY_TABLE_ID        = \"hybrid_vertex.movielens_ds_rec_bandits_v1.training_dataset\"\n",
      "\n",
      "REPO_DOCKER_PATH_PREFIX  = \"src\"\n",
      "RL_SUB_DIR               = \"per_arm_rl\"\n",
      "\n",
      "REPOSITORY               = \"rl-movielens-rec-bandits-v1\"\n",
      "IMAGE_NAME               = \"train-perarm-feats-v1\"\n",
      "REMOTE_IMAGE_NAME        = \"us-central1-docker.pkg.dev/hybrid-vertex/rl-movielens-rec-bandits-v1/train-perarm-feats-v1\"\n",
      "DOCKERNAME               = \"Dockerfile_perarm_feats\"\n",
      "\n"
     ]
    }
   ],
   "source": [
    "# staging GCS\n",
    "GCP_PROJECTS             = !gcloud config get-value project\n",
    "PROJECT_ID               = GCP_PROJECTS[0]\n",
    "\n",
    "# GCS bucket and paths\n",
    "BUCKET_NAME              = f'{PREFIX}-{PROJECT_ID}-bucket'\n",
    "BUCKET_URI               = f'gs://{BUCKET_NAME}'\n",
    "\n",
    "config = !gsutil cat {BUCKET_URI}/config/notebook_env.py\n",
    "print(config.n)\n",
    "exec(config.n)"
   ]
  },
  {
   "cell_type": "markdown",
   "id": "940507dd-369b-4b93-a0c5-4b2d0e079269",
   "metadata": {},
   "source": [
    "## imports"
   ]
  },
  {
   "cell_type": "code",
   "execution_count": 3,
   "id": "d4fec363-3a69-4fc6-ab38-706230fba418",
   "metadata": {},
   "outputs": [],
   "source": [
    "import os\n",
    "os.environ['TF_CPP_MIN_LOG_LEVEL'] = '2'"
   ]
  },
  {
   "cell_type": "code",
   "execution_count": 5,
   "id": "70e611f2-2d75-4b8d-9c9b-3b4421f8e04e",
   "metadata": {},
   "outputs": [
    {
     "name": "stdout",
     "output_type": "stream",
     "text": [
      "/home/jupyter/tf_vertex_agents/03-ranking\n"
     ]
    }
   ],
   "source": [
    "!pwd"
   ]
  },
  {
   "cell_type": "code",
   "execution_count": 193,
   "id": "93b706f8-8739-426b-b3c0-49c5ae2163f1",
   "metadata": {},
   "outputs": [],
   "source": [
    "import functools\n",
    "from collections import defaultdict\n",
    "from typing import Callable, Dict, List, Optional, TypeVar\n",
    "from datetime import datetime\n",
    "import time\n",
    "from pprint import pprint\n",
    "import pickle as pkl\n",
    "import pandas as pd\n",
    "\n",
    "from tqdm import tqdm\n",
    "\n",
    "# logging\n",
    "import logging\n",
    "logging.disable(logging.WARNING)\n",
    "\n",
    "import matplotlib.pyplot as plt\n",
    "import numpy as np\n",
    "\n",
    "# google cloud\n",
    "from google.cloud import aiplatform, storage\n",
    "\n",
    "# tensorflow\n",
    "import tensorflow as tf\n",
    "# from tf_agents.agents import TFAgent\n",
    "\n",
    "# from tf_agents.bandits.environments import stationary_stochastic_per_arm_py_environment as p_a_env\n",
    "from tf_agents.bandits.metrics import tf_metrics as tf_bandit_metrics\n",
    "# from tf_agents.drivers import dynamic_step_driver\n",
    "# from tf_agents.environments import tf_py_environment\n",
    "from tf_agents.replay_buffers import tf_uniform_replay_buffer\n",
    "from tf_agents.specs import tensor_spec\n",
    "from tf_agents.trajectories import time_step as ts\n",
    "\n",
    "# from tf_agents.bandits.agents import lin_ucb_agent\n",
    "# from tf_agents.bandits.agents import linear_thompson_sampling_agent as lin_ts_agent\n",
    "from tf_agents.bandits.agents import neural_epsilon_greedy_agent\n",
    "from tf_agents.bandits.agents import neural_linucb_agent\n",
    "from tf_agents.bandits.networks import global_and_arm_feature_network\n",
    "from tf_agents.bandits.policies import policy_utilities\n",
    "\n",
    "from tf_agents.bandits.specs import utils as bandit_spec_utils\n",
    "from tf_agents.trajectories import trajectory\n",
    "from tf_agents.bandits.environments import ranking_environment\n",
    "from tf_agents.bandits.agents import ranking_agent\n",
    "\n",
    "# GPU\n",
    "from numba import cuda \n",
    "import gc\n",
    "\n",
    "import sys\n",
    "sys.path.append(\"..\")\n",
    "\n",
    "# this repo\n",
    "from src.per_arm_rl import data_utils\n",
    "from src.per_arm_rl import data_config\n",
    "from src.per_arm_rl import train_utils as train_utils\n",
    "\n",
    "# tf exceptions and vars\n",
    "if tf.__version__[0] != \"2\":\n",
    "    raise Exception(\"The trainer only runs with TensorFlow version 2.\")\n",
    "\n",
    "T = TypeVar(\"T\")"
   ]
  },
  {
   "cell_type": "code",
   "execution_count": 7,
   "id": "c5bc92e4-dac3-468e-a0f5-26d48ec63620",
   "metadata": {},
   "outputs": [
    {
     "name": "stdout",
     "output_type": "stream",
     "text": [
      "Num GPUs Available:  1\n"
     ]
    }
   ],
   "source": [
    "print(\"Num GPUs Available: \", len(tf.config.list_physical_devices('GPU')))"
   ]
  },
  {
   "cell_type": "code",
   "execution_count": 9,
   "id": "1d4c0818-64e0-4629-a9d8-2fed58a7086f",
   "metadata": {},
   "outputs": [
    {
     "data": {
      "text/plain": [
       "14"
      ]
     },
     "execution_count": 9,
     "metadata": {},
     "output_type": "execute_result"
    }
   ],
   "source": [
    "device = cuda.get_current_device()\n",
    "device.reset()\n",
    "gc.collect()"
   ]
  },
  {
   "cell_type": "code",
   "execution_count": 10,
   "id": "28167f0d-5870-40bb-ba1e-b4a2cc4bd7d6",
   "metadata": {},
   "outputs": [],
   "source": [
    "# cloud storage client\n",
    "storage_client = storage.Client(project=PROJECT_ID)\n",
    "\n",
    "# Vertex client\n",
    "aiplatform.init(project=PROJECT_ID, location=LOCATION)"
   ]
  },
  {
   "cell_type": "markdown",
   "id": "64b249f6-2e74-4e2a-bf04-be4bfd0732bd",
   "metadata": {},
   "source": [
    "# Data prep"
   ]
  },
  {
   "cell_type": "code",
   "execution_count": 11,
   "id": "4c726bc2-ff41-41b0-9671-113a499e55d5",
   "metadata": {},
   "outputs": [],
   "source": [
    "options = tf.data.Options()\n",
    "options.experimental_distribute.auto_shard_policy = tf.data.experimental.AutoShardPolicy.AUTO"
   ]
  },
  {
   "cell_type": "markdown",
   "id": "3b22408a-fbfc-4b56-8f4b-b12462329fd3",
   "metadata": {},
   "source": [
    "### Val"
   ]
  },
  {
   "cell_type": "code",
   "execution_count": 12,
   "id": "8afaa02e-5638-40a8-964e-e51b27d433d0",
   "metadata": {},
   "outputs": [
    {
     "name": "stdout",
     "output_type": "stream",
     "text": [
      "{'movie_genres': <tf.Tensor: shape=(3,), dtype=int64, numpy=array([3, 0, 0])>,\n",
      " 'movie_id': <tf.Tensor: shape=(3,), dtype=string, numpy=array([b'94', b'245', b'403'], dtype=object)>,\n",
      " 'user_id': <tf.Tensor: shape=(), dtype=string, numpy=b'346'>,\n",
      " 'user_rating': <tf.Tensor: shape=(3,), dtype=float32, numpy=array([3., 4., 3.], dtype=float32)>}\n"
     ]
    }
   ],
   "source": [
    "SPLIT = \"val\"\n",
    "# SPLIT = \"listwise-val\"\n",
    "\n",
    "val_files = []\n",
    "for blob in storage_client.list_blobs(f\"{BUCKET_NAME}\", prefix=f'{DATA_GCS_PREFIX}/{SPLIT}'):\n",
    "    if '.tfrecord' in blob.name:\n",
    "        val_files.append(blob.public_url.replace(\"https://storage.googleapis.com/\", \"gs://\"))\n",
    "        \n",
    "val_dataset = tf.data.TFRecordDataset(val_files)\n",
    "val_dataset = val_dataset.map(data_utils.parse_lw_tfrecord, num_parallel_calls=tf.data.AUTOTUNE)\n",
    "\n",
    "for example in val_dataset.take(1):\n",
    "    pprint(example)"
   ]
  },
  {
   "cell_type": "markdown",
   "id": "d46862c4-dcbb-4b2d-aa53-765204f79250",
   "metadata": {},
   "source": [
    "### Train"
   ]
  },
  {
   "cell_type": "code",
   "execution_count": 13,
   "id": "3e814c64-1c96-47fd-a0f4-4c56bb15e0b0",
   "metadata": {},
   "outputs": [],
   "source": [
    "# SPLIT = \"train\"\n",
    "# SPLIT = \"listwise-train\"\n",
    "\n",
    "# train_files = []\n",
    "# for blob in storage_client.list_blobs(f\"{BUCKET_NAME}\", prefix=f'{DATA_GCS_PREFIX}/{SPLIT}'):\n",
    "#     if '.tfrecord' in blob.name:\n",
    "#         train_files.append(blob.public_url.replace(\"https://storage.googleapis.com/\", \"gs://\"))\n",
    "        \n",
    "# train_dataset = tf.data.TFRecordDataset(train_files)\n",
    "# train_dataset = train_dataset.map(data_utils.parse_lw_tfrecord)\n",
    "\n",
    "# for x in train_dataset.batch(1).take(1):\n",
    "#     pprint(x)"
   ]
  },
  {
   "cell_type": "code",
   "execution_count": 23,
   "id": "b6ca4675-7c73-49b5-8146-0e2966fd3cfc",
   "metadata": {},
   "outputs": [],
   "source": [
    "train_dataset = val_dataset"
   ]
  },
  {
   "cell_type": "markdown",
   "id": "9501973f-6c96-46ba-adaa-6d85450c1256",
   "metadata": {},
   "source": [
    "### Vocab"
   ]
  },
  {
   "cell_type": "code",
   "execution_count": 14,
   "id": "4099e809-1152-4b27-b4aa-bc627652e45e",
   "metadata": {},
   "outputs": [
    {
     "name": "stdout",
     "output_type": "stream",
     "text": [
      "GENERATE_VOCABS: False\n"
     ]
    }
   ],
   "source": [
    "GENERATE_VOCABS = False\n",
    "\n",
    "print(f\"GENERATE_VOCABS: {GENERATE_VOCABS}\")"
   ]
  },
  {
   "cell_type": "code",
   "execution_count": 15,
   "id": "b136aa91-bc57-4acf-80f2-fff09b33acf8",
   "metadata": {},
   "outputs": [
    {
     "name": "stdout",
     "output_type": "stream",
     "text": [
      "Copying gs://mabv1-hybrid-vertex-bucket/vocabs/vocab_dict.pkl [Content-Type=application/octet-stream]...\n",
      "/ [1 files][142.9 KiB/142.9 KiB]                                                \n",
      "Operation completed over 1 objects/142.9 KiB.                                    \n"
     ]
    }
   ],
   "source": [
    "EXISTING_VOCAB_FILE = f'gs://{BUCKET_NAME}/{VOCAB_SUBDIR}/{VOCAB_FILENAME}'\n",
    "\n",
    "!gsutil cp gs://mabv1-hybrid-vertex-bucket/vocabs/vocab_dict.pkl $EXISTING_VOCAB_FILE"
   ]
  },
  {
   "cell_type": "code",
   "execution_count": 16,
   "id": "a2d881e8-b633-4c06-b8b0-c788e1806fb8",
   "metadata": {},
   "outputs": [
    {
     "name": "stdout",
     "output_type": "stream",
     "text": [
      "Downloaded storage object vocabs/vocab_dict.pkl from bucket rec-bandits-v1-hybrid-vertex-bucket to local file vocab_dict.pkl.\n",
      "'movie_id'\n",
      "'user_id'\n",
      "'user_occupation_text'\n",
      "'movie_genres'\n",
      "'bucketized_user_age'\n",
      "'max_timestamp'\n",
      "'min_timestamp'\n",
      "'timestamp_buckets'\n"
     ]
    }
   ],
   "source": [
    "data_utils.download_blob(\n",
    "    project_id = PROJECT_ID,\n",
    "    bucket_name = BUCKET_NAME, \n",
    "    source_blob_name = f\"{VOCAB_SUBDIR}/{VOCAB_FILENAME}\", \n",
    "    destination_file_name= VOCAB_FILENAME\n",
    ")\n",
    "\n",
    "filehandler = open(VOCAB_FILENAME, 'rb')\n",
    "vocab_dict = pkl.load(filehandler)\n",
    "filehandler.close()\n",
    "\n",
    "for key in vocab_dict.keys():\n",
    "    pprint(key)"
   ]
  },
  {
   "cell_type": "markdown",
   "id": "e9c58d83-52f1-4490-931b-3d65c157cc13",
   "metadata": {},
   "source": [
    "# Global & Per-Arm feature embedding models "
   ]
  },
  {
   "cell_type": "code",
   "execution_count": 167,
   "id": "c5dc1c53-af82-400a-b841-32775855578d",
   "metadata": {},
   "outputs": [
    {
     "name": "stdout",
     "output_type": "stream",
     "text": [
      "NUM_OOV_BUCKETS    : 2\n",
      "GLOBAL_EMB_SIZE    : 32\n",
      "MV_EMB_SIZE        : 32\n",
      "BATCH_SIZE         : 5\n",
      "EVAL_BATCH_SIZE    : 1\n",
      "NUM_ITEMS          : 3\n",
      "NUM_SLOTS          : 2\n",
      "DISTANCE_THRESHOLD : 0.5\n"
     ]
    }
   ],
   "source": [
    "NUM_OOV_BUCKETS       = 2\n",
    "GLOBAL_EMBEDDING_SIZE = 32\n",
    "MV_EMBEDDING_SIZE     = 32 #32\n",
    "\n",
    "BATCH_SIZE            = 5 #128\n",
    "EVAL_BATCH_SIZE       = 1\n",
    "\n",
    "NUM_ITEMS             = 3 \n",
    "NUM_SLOTS             = 2\n",
    "\n",
    "DISTANCE_THRESHOLD    = 0.5\n",
    "\n",
    "print(f\"NUM_OOV_BUCKETS    : {NUM_OOV_BUCKETS}\")\n",
    "print(f\"GLOBAL_EMB_SIZE    : {GLOBAL_EMBEDDING_SIZE}\")\n",
    "print(f\"MV_EMB_SIZE        : {MV_EMBEDDING_SIZE}\")\n",
    "print(f\"BATCH_SIZE         : {BATCH_SIZE}\")\n",
    "print(f\"EVAL_BATCH_SIZE    : {EVAL_BATCH_SIZE}\")\n",
    "print(f\"NUM_ITEMS          : {NUM_ITEMS}\")\n",
    "print(f\"NUM_SLOTS          : {NUM_SLOTS}\")\n",
    "print(f\"DISTANCE_THRESHOLD : {DISTANCE_THRESHOLD}\")"
   ]
  },
  {
   "cell_type": "code",
   "execution_count": 168,
   "id": "833f62ac-e6bf-4892-a168-b5d075771fb0",
   "metadata": {},
   "outputs": [
    {
     "data": {
      "text/plain": [
       "{'movie_genres': <tf.Tensor: shape=(1, 3), dtype=int64, numpy=array([[3, 0, 0]])>,\n",
       " 'movie_id': <tf.Tensor: shape=(1, 3), dtype=string, numpy=array([[b'94', b'245', b'403']], dtype=object)>,\n",
       " 'user_id': <tf.Tensor: shape=(1,), dtype=string, numpy=array([b'346'], dtype=object)>,\n",
       " 'user_rating': <tf.Tensor: shape=(1, 3), dtype=float32, numpy=array([[3., 4., 3.]], dtype=float32)>}"
      ]
     },
     "execution_count": 168,
     "metadata": {},
     "output_type": "execute_result"
    }
   ],
   "source": [
    "for i in range(1):\n",
    "    \n",
    "    iterator = iter(train_dataset.batch(1))\n",
    "    data = next(iterator)\n",
    "\n",
    "data"
   ]
  },
  {
   "cell_type": "markdown",
   "id": "a281a7ae-be08-41c6-a648-caab55ad1235",
   "metadata": {},
   "source": [
    "## Embedding layers"
   ]
  },
  {
   "cell_type": "markdown",
   "id": "3ec8212d-0b97-4db8-8126-6693af06d55a",
   "metadata": {},
   "source": [
    "#### User ID"
   ]
  },
  {
   "cell_type": "code",
   "execution_count": 48,
   "id": "fcc2d6f1-4559-466d-8f0f-53fc5c3bd4eb",
   "metadata": {},
   "outputs": [],
   "source": [
    "user_id_input_layer = tf.keras.Input(\n",
    "    name=\"user_id\",\n",
    "    shape=(1,),\n",
    "    dtype=tf.string\n",
    ")\n",
    "\n",
    "user_id_lookup = tf.keras.layers.StringLookup(\n",
    "    max_tokens=len(vocab_dict['user_id']) + NUM_OOV_BUCKETS,\n",
    "    num_oov_indices=NUM_OOV_BUCKETS,\n",
    "    mask_token=None,\n",
    "    vocabulary=vocab_dict['user_id'],\n",
    ")(user_id_input_layer)\n",
    "\n",
    "user_id_embedding = tf.keras.layers.Embedding(\n",
    "    # Let's use the explicit vocabulary lookup.\n",
    "    input_dim=len(vocab_dict['user_id']) + NUM_OOV_BUCKETS,\n",
    "    output_dim=GLOBAL_EMBEDDING_SIZE\n",
    ")(user_id_lookup)\n",
    "\n",
    "user_id_embedding = tf.reduce_sum(user_id_embedding, axis=-2)"
   ]
  },
  {
   "cell_type": "code",
   "execution_count": 49,
   "id": "5c31717b-900e-44dd-8fa8-4692caa4dc4b",
   "metadata": {},
   "outputs": [
    {
     "name": "stdout",
     "output_type": "stream",
     "text": [
      "tf.Tensor([b'346'], shape=(1,), dtype=string)\n",
      "tf.Tensor(\n",
      "[[-0.00393863 -0.01478862 -0.01024078  0.0088415  -0.04419738  0.00215956\n",
      "   0.04627681  0.00932204 -0.03822122  0.01907711  0.04298531  0.03985386\n",
      "  -0.02062283  0.04563275 -0.04217682 -0.00670524 -0.00452264  0.00888044\n",
      "  -0.00630587 -0.04180532  0.02169652 -0.03667367 -0.04886571 -0.02383516\n",
      "  -0.02696766 -0.01847826  0.04542513  0.03135038  0.03640084 -0.00571319\n",
      "  -0.03599992  0.04219032]], shape=(1, 32), dtype=float32)\n"
     ]
    }
   ],
   "source": [
    "test_user_id_model = tf.keras.Model(inputs=user_id_input_layer, outputs=user_id_embedding)\n",
    "\n",
    "for x in train_dataset.batch(1).take(1):\n",
    "    print(x[\"user_id\"])\n",
    "    print(test_user_id_model(x[\"user_id\"]))"
   ]
  },
  {
   "cell_type": "markdown",
   "id": "15a114a3-1cdd-46c7-b68d-3f9f55e06280",
   "metadata": {},
   "source": [
    "#### Movie ID"
   ]
  },
  {
   "cell_type": "code",
   "execution_count": 50,
   "id": "bcc5a95f-8298-4d68-92c0-7d3887b8364a",
   "metadata": {},
   "outputs": [
    {
     "data": {
      "text/plain": [
       "1683"
      ]
     },
     "execution_count": 50,
     "metadata": {},
     "output_type": "execute_result"
    }
   ],
   "source": [
    "len(vocab_dict['movie_id'])"
   ]
  },
  {
   "cell_type": "code",
   "execution_count": 76,
   "id": "c7c494c2-5a71-4de4-a1a0-746653f805dd",
   "metadata": {},
   "outputs": [],
   "source": [
    "mv_id_input_layer = tf.keras.Input(\n",
    "    name=\"movie_id\",\n",
    "    shape=(1,),\n",
    "    dtype=tf.string\n",
    ")\n",
    "\n",
    "mv_id_lookup = tf.keras.layers.StringLookup(\n",
    "    max_tokens=len(vocab_dict['movie_id']) + NUM_OOV_BUCKETS,\n",
    "    num_oov_indices=NUM_OOV_BUCKETS,\n",
    "    mask_token=None,\n",
    "    vocabulary=vocab_dict['movie_id'],\n",
    ")(mv_id_input_layer)\n",
    "\n",
    "mv_id_embedding = tf.keras.layers.Embedding(\n",
    "    # Let's use the explicit vocabulary lookup.\n",
    "    input_dim=len(vocab_dict['movie_id']) + NUM_OOV_BUCKETS,\n",
    "    output_dim=MV_EMBEDDING_SIZE\n",
    ")(mv_id_lookup)\n",
    "\n",
    "# mv_id_embedding = tf.reduce_sum(mv_id_embedding, axis=-2)"
   ]
  },
  {
   "cell_type": "code",
   "execution_count": 77,
   "id": "6c448c58-fbc8-42b1-aa3e-d69f113ee093",
   "metadata": {},
   "outputs": [
    {
     "name": "stdout",
     "output_type": "stream",
     "text": [
      "tf.Tensor([[b'94' b'245' b'403']], shape=(1, 3), dtype=string)\n",
      "tf.Tensor(\n",
      "[[[ 0.03050664  0.03452467  0.01929859 -0.03016851 -0.04490181\n",
      "    0.04495033 -0.01774796  0.04843504  0.01318759  0.04657273\n",
      "    0.02429909 -0.02757381 -0.00995559  0.01978866  0.01136253\n",
      "    0.04364896  0.04103352  0.0455398  -0.01450343  0.00424021\n",
      "   -0.00881096 -0.0438289   0.00205433  0.04403717  0.00738447\n",
      "    0.03068563 -0.00179168 -0.00264094  0.03268982 -0.02675745\n",
      "   -0.03784177  0.01306761]\n",
      "  [ 0.00577787  0.0122431  -0.02149691  0.03003612 -0.02810937\n",
      "   -0.0125915   0.02658392 -0.00172039  0.02875276 -0.01784836\n",
      "    0.00809086  0.01872133 -0.04263928  0.01754406 -0.03548434\n",
      "   -0.0333968   0.04308026  0.04450091  0.04334522 -0.00350161\n",
      "    0.0447993   0.01374742  0.03079316 -0.03866627  0.04232742\n",
      "    0.01990027 -0.03715102 -0.04539511  0.00783726 -0.01542069\n",
      "    0.03001601 -0.00413753]\n",
      "  [ 0.02755487  0.03619394 -0.0323962  -0.0024258   0.03511808\n",
      "   -0.0052348  -0.02147862 -0.02546663  0.00826268  0.02907007\n",
      "    0.01704646  0.03348896 -0.02649962  0.00299782  0.01761886\n",
      "    0.01078919  0.04474063 -0.02759011 -0.02515518  0.00314265\n",
      "   -0.00788137 -0.04082309  0.04731032  0.0107073  -0.01411822\n",
      "    0.0427035   0.0472188  -0.04109193 -0.0305061  -0.01197817\n",
      "   -0.010698   -0.01237272]]], shape=(1, 3, 32), dtype=float32)\n"
     ]
    }
   ],
   "source": [
    "test_mv_id_model = tf.keras.Model(inputs=mv_id_input_layer, outputs=mv_id_embedding)\n",
    "\n",
    "for x in train_dataset.batch(1).take(1):\n",
    "    print(x[\"movie_id\"])\n",
    "    list_length = x[\"movie_id\"].shape[1]\n",
    "    print(test_mv_id_model(x[\"movie_id\"]))"
   ]
  },
  {
   "cell_type": "code",
   "execution_count": 75,
   "id": "e029d9e9-dc1c-4ddf-9343-6f3f47b58f30",
   "metadata": {},
   "outputs": [
    {
     "name": "stdout",
     "output_type": "stream",
     "text": [
      "tf.Tensor([[b'94' b'245' b'403']], shape=(1, 3), dtype=string)\n",
      "tf.Tensor(\n",
      "[[ 1.7583370e-05 -1.4263079e-02  5.6903195e-02  4.2184461e-02\n",
      "  -1.1682469e-01 -1.0959180e-01 -2.2887114e-02  1.1789737e-02\n",
      "  -1.8289816e-02  6.6622853e-02 -3.8519870e-02 -1.1065304e-01\n",
      "  -2.4848282e-02  3.8464189e-02  3.4744382e-02  2.5068682e-02\n",
      "  -1.6277503e-02  2.2770487e-02  9.9196211e-02  3.0800123e-02\n",
      "   6.7065902e-02  2.0802226e-02  3.3779763e-02  3.1289876e-02\n",
      "  -9.0174600e-02 -3.8113795e-02 -5.1432721e-02  6.5908685e-02\n",
      "  -1.3190128e-02  2.7517868e-02 -7.0997179e-03  9.1689751e-02]], shape=(1, 32), dtype=float32)\n"
     ]
    }
   ],
   "source": [
    "test_mv_id_model = tf.keras.Model(inputs=mv_id_input_layer, outputs=mv_id_embedding)\n",
    "\n",
    "for x in train_dataset.batch(1).take(1):\n",
    "    print(x[\"movie_id\"])\n",
    "    list_length = x[\"movie_id\"].shape[1]\n",
    "    print(test_mv_id_model(x[\"movie_id\"]))"
   ]
  },
  {
   "cell_type": "code",
   "execution_count": 32,
   "id": "b9da6dc0-a871-4b73-b975-87871e571cc3",
   "metadata": {},
   "outputs": [
    {
     "data": {
      "text/plain": [
       "3"
      ]
     },
     "execution_count": 32,
     "metadata": {},
     "output_type": "execute_result"
    }
   ],
   "source": [
    "list_length"
   ]
  },
  {
   "cell_type": "code",
   "execution_count": 63,
   "id": "e66ac33f-6def-4529-9a2d-f17482471757",
   "metadata": {},
   "outputs": [
    {
     "name": "stdout",
     "output_type": "stream",
     "text": [
      "tf.Tensor([[b'94' b'245' b'403']], shape=(1, 3), dtype=string)\n",
      "tf.Tensor(b'94', shape=(), dtype=string)\n"
     ]
    }
   ],
   "source": [
    "for x in train_dataset.batch(1).take(1):\n",
    "    print(x[\"movie_id\"])\n",
    "    single_sample = x[\"movie_id\"][0]\n",
    "    item_1 = tf.gather(x[\"movie_id\"][0], 0)\n",
    "    print(item_1)"
   ]
  },
  {
   "cell_type": "code",
   "execution_count": 64,
   "id": "1e894e0c-b080-4e3c-ad2c-7fc460a2b97b",
   "metadata": {},
   "outputs": [
    {
     "data": {
      "text/plain": [
       "<tf.Tensor: shape=(), dtype=string, numpy=b'94'>"
      ]
     },
     "execution_count": 64,
     "metadata": {},
     "output_type": "execute_result"
    }
   ],
   "source": [
    "single_sample[0]"
   ]
  },
  {
   "cell_type": "markdown",
   "id": "c5886b2a-011b-4648-9834-b8a1e2d343f2",
   "metadata": {},
   "source": [
    "#### Movie Genres"
   ]
  },
  {
   "cell_type": "code",
   "execution_count": 44,
   "id": "dee33311-d565-4003-8d28-0d3dfc0ca68d",
   "metadata": {},
   "outputs": [
    {
     "data": {
      "text/plain": [
       "13"
      ]
     },
     "execution_count": 44,
     "metadata": {},
     "output_type": "execute_result"
    }
   ],
   "source": [
    "len(vocab_dict['movie_genres'])"
   ]
  },
  {
   "cell_type": "code",
   "execution_count": 102,
   "id": "052db904-0935-44db-bbba-548aa7b01c2b",
   "metadata": {},
   "outputs": [],
   "source": [
    "mv_genre_input_layer = tf.keras.Input(\n",
    "    name=\"movie_genres\",\n",
    "    shape=(1,),\n",
    "    dtype=tf.float32\n",
    ")\n",
    "\n",
    "mv_genre_lookup = tf.keras.layers.IntegerLookup(\n",
    "    vocabulary=vocab_dict['movie_genres'],\n",
    "    num_oov_indices=NUM_OOV_BUCKETS,\n",
    "    oov_value=0,\n",
    ")(mv_genre_input_layer)\n",
    "\n",
    "mv_genre_embedding = tf.keras.layers.Embedding(\n",
    "    # Let's use the explicit vocabulary lookup.\n",
    "    input_dim=len(vocab_dict['movie_genres']) + NUM_OOV_BUCKETS,\n",
    "    output_dim=MV_EMBEDDING_SIZE\n",
    ")(mv_genre_lookup)\n",
    "\n",
    "# mv_genre_embedding = tf.reduce_sum(mv_genre_embedding, axis=-2)"
   ]
  },
  {
   "cell_type": "code",
   "execution_count": 103,
   "id": "0cd72900-c9bc-4349-8984-8c0218c08efe",
   "metadata": {},
   "outputs": [
    {
     "name": "stdout",
     "output_type": "stream",
     "text": [
      "tf.Tensor([[3 0 0]], shape=(1, 3), dtype=int64)\n",
      "tf.Tensor(\n",
      "[[[ 0.04654622 -0.02054758  0.04463777  0.04845568  0.04217536\n",
      "    0.02371256 -0.00654475  0.04740763  0.01182047  0.01892675\n",
      "    0.02788329  0.01762689 -0.02070785  0.04260923 -0.01979904\n",
      "    0.03063042 -0.00118067  0.00089129  0.00308929  0.02104905\n",
      "   -0.03149561  0.02938651 -0.04440167  0.04309526  0.02933786\n",
      "   -0.03683791 -0.03504019 -0.01172578 -0.04470687  0.02467886\n",
      "   -0.01176022  0.03032222]\n",
      "  [-0.00102632 -0.01604797 -0.00651725 -0.00096395 -0.03562502\n",
      "    0.03203006 -0.04658392 -0.047096   -0.04104569  0.0042726\n",
      "    0.02974394 -0.02726482  0.04814638 -0.03978167  0.0095977\n",
      "   -0.01238691  0.03174281  0.00192732  0.03645868 -0.01030538\n",
      "   -0.02524411 -0.03020107  0.04387722 -0.01896127 -0.04798398\n",
      "   -0.03728454  0.02068731  0.02813515  0.00399685 -0.01831045\n",
      "    0.02500174  0.02712907]\n",
      "  [-0.00102632 -0.01604797 -0.00651725 -0.00096395 -0.03562502\n",
      "    0.03203006 -0.04658392 -0.047096   -0.04104569  0.0042726\n",
      "    0.02974394 -0.02726482  0.04814638 -0.03978167  0.0095977\n",
      "   -0.01238691  0.03174281  0.00192732  0.03645868 -0.01030538\n",
      "   -0.02524411 -0.03020107  0.04387722 -0.01896127 -0.04798398\n",
      "   -0.03728454  0.02068731  0.02813515  0.00399685 -0.01831045\n",
      "    0.02500174  0.02712907]]], shape=(1, 3, 32), dtype=float32)\n"
     ]
    }
   ],
   "source": [
    "test_mv_gen_model = tf.keras.Model(inputs=mv_genre_input_layer, outputs=mv_genre_embedding)\n",
    "\n",
    "for x in train_dataset.batch(1).take(1):\n",
    "    print(x[\"movie_genres\"])\n",
    "    print(test_mv_gen_model(x[\"movie_genres\"]))"
   ]
  },
  {
   "cell_type": "code",
   "execution_count": 104,
   "id": "4799ad0c-abc8-4e56-88d0-93111bba6d76",
   "metadata": {},
   "outputs": [
    {
     "name": "stdout",
     "output_type": "stream",
     "text": [
      "tf.Tensor([[3 0 0]], shape=(1, 3), dtype=int64)\n",
      "tf.Tensor([3 0 0], shape=(3,), dtype=int64)\n"
     ]
    }
   ],
   "source": [
    "for x in train_dataset.batch(1).take(1):\n",
    "    print(x[\"movie_genres\"])\n",
    "    mv_gen_sample = x[\"movie_genres\"]\n",
    "    item_gen = tf.gather(x[\"movie_genres\"], 0)\n",
    "    print(item_gen)"
   ]
  },
  {
   "cell_type": "markdown",
   "id": "0415398e-3bbd-4497-aa31-1d618325fbb1",
   "metadata": {},
   "source": [
    "## Sampling Functions"
   ]
  },
  {
   "cell_type": "markdown",
   "id": "343c1dee-fc37-4075-8d65-6909d548eb43",
   "metadata": {},
   "source": [
    "#### item sampling"
   ]
  },
  {
   "cell_type": "code",
   "execution_count": 169,
   "id": "e8883e1c-0448-4486-bc2e-4ae3e3e54919",
   "metadata": {},
   "outputs": [],
   "source": [
    "def _get_per_arm_features(x):\n",
    "    \"\"\"\n",
    "    This function generates a single per-arm observation vector.\n",
    "    \"\"\"\n",
    "    \n",
    "    id_1 = tf.gather(x[\"movie_id\"][0], 0)\n",
    "    id_2 = tf.gather(x[\"movie_id\"][0], 1)\n",
    "    id_3 = tf.gather(x[\"movie_id\"][0], 2)\n",
    "    # print(f\"id_1 shape: {id_1.shape}\")\n",
    "    \n",
    "    stacked_ids = tf.stack(\n",
    "        [\n",
    "            test_mv_id_model(id_1), \n",
    "            test_mv_id_model(id_2), \n",
    "            test_mv_id_model(id_3)\n",
    "        ], axis = 0\n",
    "    )\n",
    "    # print(f\"stacked_ids shape: {stacked_ids.shape}\")\n",
    "    \n",
    "    gen_1 = tf.gather(x[\"movie_genres\"][0], 0)\n",
    "    gen_2 = tf.gather(x[\"movie_genres\"][0], 1)\n",
    "    gen_3 = tf.gather(x[\"movie_genres\"][0], 2)\n",
    "    # print(f\"gen_1 shape: {gen_1.shape}\")\n",
    "    \n",
    "    stacked_gens = tf.stack(\n",
    "        [\n",
    "            test_mv_gen_model(gen_1), \n",
    "            test_mv_gen_model(gen_2), \n",
    "            test_mv_gen_model(gen_3)\n",
    "        ], axis = 0\n",
    "    )\n",
    "    # print(f\"stacked_gens shape: {stacked_gens.shape}\")\n",
    "\n",
    "    \n",
    "    concat_embeddings = tf.concat(\n",
    "        [stacked_ids, stacked_gens], axis=1\n",
    "    )\n",
    "    # print(f\"concat_embeddings shape: {concat_embeddings.shape}\")\n",
    "    \n",
    "    return concat_embeddings"
   ]
  },
  {
   "cell_type": "code",
   "execution_count": 170,
   "id": "75348620-1891-4cf9-9304-67c142ee446f",
   "metadata": {},
   "outputs": [
    {
     "name": "stdout",
     "output_type": "stream",
     "text": [
      "PER_ARM_DIM: 64\n"
     ]
    },
    {
     "data": {
      "text/plain": [
       "<tf.Tensor: shape=(3, 64), dtype=float32, numpy=\n",
       "array([[ 0.03050664,  0.03452467,  0.01929859, -0.03016851, -0.04490181,\n",
       "         0.04495033, -0.01774796,  0.04843504,  0.01318759,  0.04657273,\n",
       "         0.02429909, -0.02757381, -0.00995559,  0.01978866,  0.01136253,\n",
       "         0.04364896,  0.04103352,  0.0455398 , -0.01450343,  0.00424021,\n",
       "        -0.00881096, -0.0438289 ,  0.00205433,  0.04403717,  0.00738447,\n",
       "         0.03068563, -0.00179168, -0.00264094,  0.03268982, -0.02675745,\n",
       "        -0.03784177,  0.01306761,  0.04654622, -0.02054758,  0.04463777,\n",
       "         0.04845568,  0.04217536,  0.02371256, -0.00654475,  0.04740763,\n",
       "         0.01182047,  0.01892675,  0.02788329,  0.01762689, -0.02070785,\n",
       "         0.04260923, -0.01979904,  0.03063042, -0.00118067,  0.00089129,\n",
       "         0.00308929,  0.02104905, -0.03149561,  0.02938651, -0.04440167,\n",
       "         0.04309526,  0.02933786, -0.03683791, -0.03504019, -0.01172578,\n",
       "        -0.04470687,  0.02467886, -0.01176022,  0.03032222],\n",
       "       [ 0.00577787,  0.0122431 , -0.02149691,  0.03003612, -0.02810937,\n",
       "        -0.0125915 ,  0.02658392, -0.00172039,  0.02875276, -0.01784836,\n",
       "         0.00809086,  0.01872133, -0.04263928,  0.01754406, -0.03548434,\n",
       "        -0.0333968 ,  0.04308026,  0.04450091,  0.04334522, -0.00350161,\n",
       "         0.0447993 ,  0.01374742,  0.03079316, -0.03866627,  0.04232742,\n",
       "         0.01990027, -0.03715102, -0.04539511,  0.00783726, -0.01542069,\n",
       "         0.03001601, -0.00413753, -0.00102632, -0.01604797, -0.00651725,\n",
       "        -0.00096395, -0.03562502,  0.03203006, -0.04658392, -0.047096  ,\n",
       "        -0.04104569,  0.0042726 ,  0.02974394, -0.02726482,  0.04814638,\n",
       "        -0.03978167,  0.0095977 , -0.01238691,  0.03174281,  0.00192732,\n",
       "         0.03645868, -0.01030538, -0.02524411, -0.03020107,  0.04387722,\n",
       "        -0.01896127, -0.04798398, -0.03728454,  0.02068731,  0.02813515,\n",
       "         0.00399685, -0.01831045,  0.02500174,  0.02712907],\n",
       "       [ 0.02755487,  0.03619394, -0.0323962 , -0.0024258 ,  0.03511808,\n",
       "        -0.0052348 , -0.02147862, -0.02546663,  0.00826268,  0.02907007,\n",
       "         0.01704646,  0.03348896, -0.02649962,  0.00299782,  0.01761886,\n",
       "         0.01078919,  0.04474063, -0.02759011, -0.02515518,  0.00314265,\n",
       "        -0.00788137, -0.04082309,  0.04731032,  0.0107073 , -0.01411822,\n",
       "         0.0427035 ,  0.0472188 , -0.04109193, -0.0305061 , -0.01197817,\n",
       "        -0.010698  , -0.01237272, -0.00102632, -0.01604797, -0.00651725,\n",
       "        -0.00096395, -0.03562502,  0.03203006, -0.04658392, -0.047096  ,\n",
       "        -0.04104569,  0.0042726 ,  0.02974394, -0.02726482,  0.04814638,\n",
       "        -0.03978167,  0.0095977 , -0.01238691,  0.03174281,  0.00192732,\n",
       "         0.03645868, -0.01030538, -0.02524411, -0.03020107,  0.04387722,\n",
       "        -0.01896127, -0.04798398, -0.03728454,  0.02068731,  0.02813515,\n",
       "         0.00399685, -0.01831045,  0.02500174,  0.02712907]],\n",
       "      dtype=float32)>"
      ]
     },
     "execution_count": 170,
     "metadata": {},
     "output_type": "execute_result"
    }
   ],
   "source": [
    "test_arms = _get_per_arm_features(data)\n",
    "\n",
    "PER_ARM_DIM = test_arms.shape[1]            \n",
    "print(f\"PER_ARM_DIM: {PER_ARM_DIM}\")\n",
    "\n",
    "test_arms"
   ]
  },
  {
   "cell_type": "markdown",
   "id": "1b01f1f2-a576-4b18-91ca-ee6c5bd90117",
   "metadata": {},
   "source": [
    "#### global sampling"
   ]
  },
  {
   "cell_type": "code",
   "execution_count": 171,
   "id": "dbffe5f6-8b37-448e-aadd-b578cfbe1395",
   "metadata": {},
   "outputs": [],
   "source": [
    "def _get_global_context_features(x):\n",
    "    \"\"\"\n",
    "    This function generates a single global observation vector.\n",
    "    \"\"\"\n",
    "    # _id_1 = test_user_id_model(x['user_id'])\n",
    "    \n",
    "    return test_user_id_model(x['user_id'])\n",
    "    \n",
    "    # list_length = x[\"movie_id\"].shape[1]"
   ]
  },
  {
   "cell_type": "code",
   "execution_count": 172,
   "id": "1644300b-f7b7-4f38-9f31-f83ba74ecf79",
   "metadata": {},
   "outputs": [
    {
     "name": "stdout",
     "output_type": "stream",
     "text": [
      "GLOBAL_DIM: 32\n"
     ]
    },
    {
     "data": {
      "text/plain": [
       "<tf.Tensor: shape=(1, 32), dtype=float32, numpy=\n",
       "array([[-0.00393863, -0.01478862, -0.01024078,  0.0088415 , -0.04419738,\n",
       "         0.00215956,  0.04627681,  0.00932204, -0.03822122,  0.01907711,\n",
       "         0.04298531,  0.03985386, -0.02062283,  0.04563275, -0.04217682,\n",
       "        -0.00670524, -0.00452264,  0.00888044, -0.00630587, -0.04180532,\n",
       "         0.02169652, -0.03667367, -0.04886571, -0.02383516, -0.02696766,\n",
       "        -0.01847826,  0.04542513,  0.03135038,  0.03640084, -0.00571319,\n",
       "        -0.03599992,  0.04219032]], dtype=float32)>"
      ]
     },
     "execution_count": 172,
     "metadata": {},
     "output_type": "execute_result"
    }
   ],
   "source": [
    "test_globals = _get_global_context_features(data)\n",
    "\n",
    "GLOBAL_DIM = test_globals.shape[1] \n",
    "print(f\"GLOBAL_DIM: {GLOBAL_DIM}\")\n",
    "\n",
    "test_globals"
   ]
  },
  {
   "cell_type": "markdown",
   "id": "5ada148e-e36b-4c98-ae5b-234aa9940055",
   "metadata": {},
   "source": [
    "# Ranking Agent"
   ]
  },
  {
   "cell_type": "markdown",
   "id": "7d7fd210-4772-4073-9630-1173ac4f93e4",
   "metadata": {},
   "source": [
    "## Feedback type"
   ]
  },
  {
   "cell_type": "markdown",
   "id": "57a0da21-0b0f-4876-8b43-c012d1cc64c2",
   "metadata": {},
   "source": [
    "Ranking agents assume either a `score_vector` or `cascading feedback` framework for the feedback signal (reward). \n",
    "\n",
    "* `score_vector`: feedback is a vector of scores for every item in the slots. \n",
    "* `cascading feedback`: if the kth item was clicked, then the items up to k-1 receive a score of -1, the kth item receives a score based on a feedback value, while the rest of the items receive feedback of 0. \n",
    "\n",
    "Ranking agent objective: train the scoring network to be able to estimate the above scores"
   ]
  },
  {
   "cell_type": "code",
   "execution_count": 194,
   "id": "c49a7375-ec9f-403d-aa86-810134cd430c",
   "metadata": {},
   "outputs": [],
   "source": [
    "# feedback_model = ranking_environment.FeedbackModel.CASCADING\n",
    "feedback_model = ranking_environment.FeedbackModel.SCORE_VECTOR\n",
    "\n",
    "# feedback_model"
   ]
  },
  {
   "cell_type": "markdown",
   "id": "a9b20c76-2950-4459-ab07-148cded078f2",
   "metadata": {},
   "source": [
    "## Tensor Specs"
   ]
  },
  {
   "cell_type": "markdown",
   "id": "3b43561b-f486-454e-a851-8cedfd6999d7",
   "metadata": {
    "tags": []
   },
   "source": [
    "example Tensor Spec structures..."
   ]
  },
  {
   "cell_type": "markdown",
   "id": "38cbb948-52c5-44a3-80ab-4e57ba6968ea",
   "metadata": {},
   "source": [
    "`observation_spec()`\n",
    "\n",
    "```python\n",
    "{'global': TensorSpec(shape=(9,), dtype=tf.float32, name=None),\n",
    " 'per_arm': TensorSpec(shape=(50, 11), dtype=tf.float32, name=None)}\n",
    "```\n",
    "\n",
    "`action_spec()`\n",
    "\n",
    "```python\n",
    "BoundedTensorSpec(shape=(3,), dtype=tf.int32, name='action', minimum=array(0, dtype=int32), maximum=array(49, dtype=int32))\n",
    "```\n",
    "\n",
    "`reward_spec()`\n",
    "\n",
    "```python\n",
    "{'chosen_index': BoundedTensorSpec(shape=(), dtype=tf.int32, name='chosen_index', minimum=array(0, dtype=int32), maximum=array(3, dtype=int32)),\n",
    " 'chosen_value': TensorSpec(shape=(), dtype=tf.float32, name='chosen_value')}\n",
    "```\n",
    "\n",
    "`time_step_spec()`\n",
    "\n",
    "```python\n",
    "TimeStep(\n",
    "{'discount': BoundedTensorSpec(shape=(), dtype=tf.float32, name='discount', minimum=array(0., dtype=float32), maximum=array(1., dtype=float32)),\n",
    " 'observation': {'global': TensorSpec(shape=(9,), dtype=tf.float32, name=None),\n",
    "                 'per_arm': TensorSpec(shape=(50, 11), dtype=tf.float32, name=None)},\n",
    " 'reward': {'chosen_index': BoundedTensorSpec(shape=(), dtype=tf.int32, name='chosen_index', minimum=array(0, dtype=int32), maximum=array(3, dtype=int32)),\n",
    "            'chosen_value': TensorSpec(shape=(), dtype=tf.float32, name='chosen_value')},\n",
    " 'step_type': TensorSpec(shape=(), dtype=tf.int32, name='step_type')})\n",
    "```"
   ]
  },
  {
   "cell_type": "markdown",
   "id": "fae68b8a-8656-45cc-8977-70613629ce75",
   "metadata": {},
   "source": [
    "set vars"
   ]
  },
  {
   "cell_type": "code",
   "execution_count": 174,
   "id": "5426bb09-834b-4cb3-9bf4-8d84482307e9",
   "metadata": {},
   "outputs": [
    {
     "name": "stdout",
     "output_type": "stream",
     "text": [
      "BATCH_SIZE         : 5\n",
      "EVAL_BATCH_SIZE    : 1\n",
      "NUM_ITEMS          : 3\n",
      "NUM_SLOTS          : 2\n",
      "DISTANCE_THRESHOLD : 0.5\n",
      "GLOBAL_DIM         : 32\n",
      "PER_ARM_DIM        : 64\n"
     ]
    }
   ],
   "source": [
    "from tf_agents.specs import array_spec\n",
    "\n",
    "print(f\"BATCH_SIZE         : {BATCH_SIZE}\")\n",
    "print(f\"EVAL_BATCH_SIZE    : {EVAL_BATCH_SIZE}\")\n",
    "print(f\"NUM_ITEMS          : {NUM_ITEMS}\")\n",
    "print(f\"NUM_SLOTS          : {NUM_SLOTS}\")\n",
    "print(f\"DISTANCE_THRESHOLD : {DISTANCE_THRESHOLD}\")\n",
    "print(f\"GLOBAL_DIM         : {GLOBAL_DIM}\")\n",
    "print(f\"PER_ARM_DIM        : {PER_ARM_DIM}\")"
   ]
  },
  {
   "cell_type": "markdown",
   "id": "cc572702-592c-4d60-8719-50739f611e16",
   "metadata": {},
   "source": [
    "### Observation spec"
   ]
  },
  {
   "cell_type": "code",
   "execution_count": 195,
   "id": "0b97866b-fb8c-4724-ac6f-ce789d5b7368",
   "metadata": {},
   "outputs": [
    {
     "data": {
      "text/plain": [
       "{'global': TensorSpec(shape=(32,), dtype=tf.float32, name=None),\n",
       " 'per_arm': TensorSpec(shape=(3, 64), dtype=tf.float32, name=None)}"
      ]
     },
     "execution_count": 195,
     "metadata": {},
     "output_type": "execute_result"
    }
   ],
   "source": [
    "observation_spec = {\n",
    "    'global': tf.TensorSpec([GLOBAL_DIM], tf.float32),\n",
    "    'per_arm': tf.TensorSpec([NUM_ITEMS, PER_ARM_DIM], tf.float32) #excluding action dim here\n",
    "}\n",
    "observation_spec"
   ]
  },
  {
   "cell_type": "markdown",
   "id": "80565f15-d41e-46db-99b3-6ea6a73ab6aa",
   "metadata": {},
   "source": [
    "### Action spec\n",
    "\n",
    "> Action spec for ranking models must have rank 1"
   ]
  },
  {
   "cell_type": "code",
   "execution_count": 196,
   "id": "73b90ec0-1fe2-4b08-8a47-1fd32058705f",
   "metadata": {},
   "outputs": [
    {
     "name": "stdout",
     "output_type": "stream",
     "text": [
      "action_spec rank: 1\n"
     ]
    },
    {
     "data": {
      "text/plain": [
       "BoundedTensorSpec(shape=(2,), dtype=tf.int32, name='action_spec', minimum=array(0, dtype=int32), maximum=array(2, dtype=int32))"
      ]
     },
     "execution_count": 196,
     "metadata": {},
     "output_type": "execute_result"
    }
   ],
   "source": [
    "action_spec = tensor_spec.BoundedTensorSpec(\n",
    "    shape=(NUM_SLOTS,),\n",
    "    dtype=tf.int32,\n",
    "    minimum=tf.constant(0),            \n",
    "    maximum=NUM_ITEMS-1, # n degrees of freedom and will dictate the expected mean reward spec shape\n",
    "    name=\"action_spec\"\n",
    ")\n",
    "\n",
    "print(f\"action_spec rank: {action_spec.shape.rank}\")\n",
    "\n",
    "action_spec"
   ]
  },
  {
   "cell_type": "markdown",
   "id": "ccdacef1-fd61-4569-9bf7-299c52903710",
   "metadata": {},
   "source": [
    "### Reward spec"
   ]
  },
  {
   "cell_type": "code",
   "execution_count": 197,
   "id": "166f53bd-cdb9-49c4-a4d8-2904a6300f4c",
   "metadata": {},
   "outputs": [
    {
     "data": {
      "text/plain": [
       "ArraySpec(shape=(2,), dtype=dtype('float32'), name='score_vector')"
      ]
     },
     "execution_count": 197,
     "metadata": {},
     "output_type": "execute_result"
    }
   ],
   "source": [
    "if feedback_model == ranking_environment.FeedbackModel.CASCADING:\n",
    "    # `chosen_index == num_slots` means no recommended item was clicked.\n",
    "    reward_spec = {\n",
    "        'chosen_index': array_spec.BoundedArraySpec(\n",
    "            shape=[],\n",
    "            minimum=0,\n",
    "            maximum=NUM_SLOTS,\n",
    "            dtype=np.int32,\n",
    "            name='chosen_index',\n",
    "        ),\n",
    "        'chosen_value': array_spec.ArraySpec(\n",
    "            shape=[], dtype=np.float32, name='chosen_value'\n",
    "        ),\n",
    "    }\n",
    "elif feedback_model == ranking_environment.FeedbackModel.SCORE_VECTOR:\n",
    "    reward_spec = array_spec.ArraySpec(\n",
    "        shape=[NUM_SLOTS], dtype=np.float32, name='score_vector'\n",
    "    )\n",
    "else:\n",
    "    reward_spec = f\"Feedback model: {feedback_model}, not implemented\"\n",
    "    \n",
    "reward_spec"
   ]
  },
  {
   "cell_type": "markdown",
   "id": "de0deb69-a259-4495-a58e-81c0fd2a97ab",
   "metadata": {},
   "source": [
    "### TimeStep spec"
   ]
  },
  {
   "cell_type": "code",
   "execution_count": 198,
   "id": "aa7a5d0e-d4c2-4f8c-b67e-84fe6d1e4fcb",
   "metadata": {},
   "outputs": [
    {
     "data": {
      "text/plain": [
       "TimeStep(\n",
       "{'discount': BoundedTensorSpec(shape=(), dtype=tf.float32, name='discount', minimum=array(0., dtype=float32), maximum=array(1., dtype=float32)),\n",
       " 'observation': {'global': TensorSpec(shape=(32,), dtype=tf.float32, name=None),\n",
       "                 'per_arm': TensorSpec(shape=(3, 64), dtype=tf.float32, name=None)},\n",
       " 'reward': TensorSpec(shape=(), dtype=tf.float32, name='reward'),\n",
       " 'step_type': TensorSpec(shape=(), dtype=tf.int32, name='step_type')})"
      ]
     },
     "execution_count": 198,
     "metadata": {},
     "output_type": "execute_result"
    }
   ],
   "source": [
    "time_step_spec = ts.time_step_spec(\n",
    "    observation_spec = observation_spec, \n",
    "    # reward_spec = reward_spec\n",
    ")\n",
    "time_step_spec"
   ]
  },
  {
   "cell_type": "markdown",
   "id": "f1ecc66c-ce8b-480b-8306-40eaf399f120",
   "metadata": {},
   "source": [
    "Inspect chosen arm features spec"
   ]
  },
  {
   "cell_type": "code",
   "execution_count": 199,
   "id": "164a5760-3ca3-4397-85b3-26bbcd987b52",
   "metadata": {},
   "outputs": [
    {
     "data": {
      "text/plain": [
       "{'global': TensorSpec(shape=(32,), dtype=tf.float32, name=None),\n",
       " 'per_arm': TensorSpec(shape=(3, 64), dtype=tf.float32, name=None)}"
      ]
     },
     "execution_count": 199,
     "metadata": {},
     "output_type": "execute_result"
    }
   ],
   "source": [
    "time_step_spec.observation"
   ]
  },
  {
   "cell_type": "markdown",
   "id": "ad033e89-1f1c-4f63-9084-bf6a6807915f",
   "metadata": {},
   "source": [
    "## Policy and Scoring Network\n",
    "\n",
    "> all ranking agents train a network that estimates scores of item/user pairs\n",
    "\n",
    "**Ranking Policies**\n",
    "* `DESCENDING_SCORES` - Stack rank deterministically by scores\n",
    "* `NO_PENALTY` - Sampling sequentially based on scores; no penalty applied\n",
    "* `COSINE_DISTANCE` - Sampling sequentally and taking diversity into account\n",
    "\n",
    "`penalty_mixture` parameter governs the balance between ranking based on scores and accounting for diversity\n",
    "* low positive value --> ranking has less diversity\n",
    "* higher value --> enforces more diversity\n",
    "\n",
    "`logits_temperature` - temperature parameter for non-deterministic policies\n",
    "* This value must be positive"
   ]
  },
  {
   "cell_type": "code",
   "execution_count": 207,
   "id": "c5aea87d-c993-4cd6-80ad-0522dcc91956",
   "metadata": {},
   "outputs": [
    {
     "name": "stdout",
     "output_type": "stream",
     "text": [
      "{'batch_size': 5,\n",
      " 'common_layers': [16, 8],\n",
      " 'eval_batch_size': 1,\n",
      " 'feedback_model': 2,\n",
      " 'global_layers': [32, 16],\n",
      " 'learning_rate': 0.005,\n",
      " 'logits_temperature': 1.0,\n",
      " 'model_type': 'Ranking',\n",
      " 'network_type': 'dotproduct',\n",
      " 'num_itmes': 3,\n",
      " 'num_slots': 2,\n",
      " 'penalty_mixture': 1.0,\n",
      " 'per_arm_layers': [64, 32, 16],\n",
      " 'policy_type': <RankingPolicyType.COSINE_DISTANCE: 1>}\n"
     ]
    }
   ],
   "source": [
    "AGENT_TYPE = \"Ranking\"\n",
    "NETWORK_TYPE = \"dotproduct\"\n",
    "POLICY_TYPE = ranking_agent.RankingPolicyType.COSINE_DISTANCE # COSINE_DISTANCE | NO_PENALTY | DESCENDING_SCORES\n",
    "\n",
    "PENALTY_MIXTURE = 1.0\n",
    "LOGITS_TEMPERATURE = 1.0\n",
    "\n",
    "LEARNING_RATE = 0.005\n",
    "\n",
    "GLOBAL_LAYERS   = [GLOBAL_DIM, int(GLOBAL_DIM / 2)]\n",
    "ARM_LAYERS      = [PER_ARM_DIM, int(PER_ARM_DIM / 2), int(PER_ARM_DIM / 4)]\n",
    "COMMON_LAYERS   = [16, 8]\n",
    "\n",
    "HPARAMS = {  # TODO - streamline and consolidate\n",
    "    \"batch_size\": BATCH_SIZE,\n",
    "    \"eval_batch_size\" : EVAL_BATCH_SIZE,\n",
    "    \"num_itmes\": NUM_ITEMS,\n",
    "    \"num_slots\": NUM_SLOTS,\n",
    "    \"model_type\": AGENT_TYPE,\n",
    "    \"network_type\": NETWORK_TYPE,\n",
    "    \"global_layers\": GLOBAL_LAYERS,\n",
    "    \"per_arm_layers\": ARM_LAYERS,\n",
    "    \"common_layers\": COMMON_LAYERS,\n",
    "    \"learning_rate\": LEARNING_RATE,\n",
    "    \"policy_type\": POLICY_TYPE,\n",
    "    \"feedback_model\" : feedback_model,\n",
    "    \"penalty_mixture\": PENALTY_MIXTURE,\n",
    "    \"logits_temperature\": LOGITS_TEMPERATURE,\n",
    "}\n",
    "pprint(HPARAMS)"
   ]
  },
  {
   "cell_type": "code",
   "execution_count": 209,
   "id": "80d4e8a9-6582-425d-9c50-499aa883b2cb",
   "metadata": {},
   "outputs": [
    {
     "name": "stdout",
     "output_type": "stream",
     "text": [
      "Network: GlobalAndArmDotProductNetwork\n"
     ]
    }
   ],
   "source": [
    "if NETWORK_TYPE == 'commontower':\n",
    "    scoring_network = global_and_arm_feature_network.create_feed_forward_common_tower_network(\n",
    "        observation_spec = observation_spec, \n",
    "        global_layers = GLOBAL_LAYERS, \n",
    "        arm_layers = ARM_LAYERS, \n",
    "        common_layers = COMMON_LAYERS,\n",
    "        # output_dim = output_dim,\n",
    "    )\n",
    "    \n",
    "elif NETWORK_TYPE == 'dotproduct':\n",
    "    scoring_network = global_and_arm_feature_network.create_feed_forward_dot_product_network(\n",
    "        observation_spec = observation_spec, \n",
    "        global_layers = GLOBAL_LAYERS, \n",
    "        arm_layers = ARM_LAYERS\n",
    "    )\n",
    "    \n",
    "if NETWORK_TYPE:\n",
    "    print(f\"Network: {scoring_network.name}\")"
   ]
  },
  {
   "cell_type": "markdown",
   "id": "0e1939dc-7ee9-414c-aa89-85b08bcfb4cb",
   "metadata": {},
   "source": [
    "## Define Agent "
   ]
  },
  {
   "cell_type": "code",
   "execution_count": 210,
   "id": "5dad7dd6-3d19-4c79-8a72-078253f046e5",
   "metadata": {},
   "outputs": [
    {
     "data": {
      "text/plain": [
       "<tf_agents.bandits.agents.ranking_agent.RankingAgent at 0x7fd7c2df2980>"
      ]
     },
     "execution_count": 210,
     "metadata": {},
     "output_type": "execute_result"
    }
   ],
   "source": [
    "rank_agent = ranking_agent.RankingAgent(\n",
    "    time_step_spec=time_step_spec,\n",
    "    action_spec=action_spec,\n",
    "    scoring_network=scoring_network,\n",
    "    optimizer=tf.compat.v1.train.AdamOptimizer(learning_rate=HPARAMS['learning_rate']),\n",
    "    feedback_model=feedback_model,\n",
    "    policy_type=HPARAMS['policy_type'],\n",
    "    logits_temperature=HPARAMS['logits_temperature'],\n",
    "    penalty_mixture_coefficient=HPARAMS['penalty_mixture'],\n",
    "    summarize_grads_and_vars=True\n",
    ")\n",
    "\n",
    "rank_agent"
   ]
  },
  {
   "cell_type": "code",
   "execution_count": 211,
   "id": "a38e772e-80b8-4dfe-811d-83fae71c912c",
   "metadata": {},
   "outputs": [
    {
     "data": {
      "text/plain": [
       "BoundedTensorSpec(shape=(2,), dtype=tf.int32, name='action_spec', minimum=array(0, dtype=int32), maximum=array(2, dtype=int32))"
      ]
     },
     "execution_count": 211,
     "metadata": {},
     "output_type": "execute_result"
    }
   ],
   "source": [
    "rank_agent.action_spec"
   ]
  },
  {
   "cell_type": "code",
   "execution_count": 212,
   "id": "1616e93e-7555-4a52-a7e1-f9b895873620",
   "metadata": {},
   "outputs": [
    {
     "data": {
      "text/plain": [
       "_TupleWrapper(TimeStep(\n",
       "{'discount': BoundedTensorSpec(shape=(), dtype=tf.float32, name='discount', minimum=array(0., dtype=float32), maximum=array(1., dtype=float32)),\n",
       " 'observation': DictWrapper({'global': TensorSpec(shape=(32,), dtype=tf.float32, name=None), 'per_arm': TensorSpec(shape=(3, 64), dtype=tf.float32, name=None)}),\n",
       " 'reward': TensorSpec(shape=(), dtype=tf.float32, name='reward'),\n",
       " 'step_type': TensorSpec(shape=(), dtype=tf.int32, name='step_type')}))"
      ]
     },
     "execution_count": 212,
     "metadata": {},
     "output_type": "execute_result"
    }
   ],
   "source": [
    "rank_agent.time_step_spec"
   ]
  },
  {
   "cell_type": "code",
   "execution_count": 213,
   "id": "bff1a577-d86d-46d9-9071-0f10df0ca0cf",
   "metadata": {},
   "outputs": [
    {
     "data": {
      "text/plain": [
       "_TupleWrapper(Trajectory(\n",
       "{'action': (),\n",
       " 'discount': BoundedTensorSpec(shape=(), dtype=tf.float32, name='discount', minimum=array(0., dtype=float32), maximum=array(1., dtype=float32)),\n",
       " 'next_step_type': TensorSpec(shape=(), dtype=tf.int32, name='step_type'),\n",
       " 'observation': DictWrapper({'global': TensorSpec(shape=(32,), dtype=tf.float32, name=None), 'per_arm': TensorSpec(shape=(2, 64), dtype=tf.float32, name=None)}),\n",
       " 'policy_info': (),\n",
       " 'reward': TensorSpec(shape=(), dtype=tf.float32, name='reward'),\n",
       " 'step_type': TensorSpec(shape=(), dtype=tf.int32, name='step_type')}))"
      ]
     },
     "execution_count": 213,
     "metadata": {},
     "output_type": "execute_result"
    }
   ],
   "source": [
    "rank_agent.training_data_spec"
   ]
  },
  {
   "cell_type": "code",
   "execution_count": 228,
   "id": "31976a8d-c4ba-4fc1-a429-e24f812aac58",
   "metadata": {},
   "outputs": [],
   "source": [
    "def _rank_trajectory_fn(element): # hparams\n",
    "    \"\"\"Converts a dataset element into a trajectory.\"\"\"\n",
    "    # global_features = _get_global_context_features(element)\n",
    "    # arm_features = _get_per_arm_features(element)\n",
    "    \n",
    "    global_features = _get_global_context_features(element)\n",
    "    arm_features = _get_per_arm_features(element)\n",
    "    \n",
    "    # obs spec\n",
    "    observation = {\n",
    "        bandit_spec_utils.GLOBAL_FEATURE_KEY:\n",
    "            train_utils._add_outer_dimension(global_features),\n",
    "        bandit_spec_utils.PER_ARM_FEATURE_KEY: \n",
    "            train_utils._add_outer_dimension(arm_features)\n",
    "    }\n",
    "    \n",
    "    reward = element['user_rating']\n",
    "    \n",
    "    policy_info = policy_utilities.PolicyInfo(\n",
    "        predicted_rewards_mean=tf.zeros([HPARAMS['batch_size'], 1, HPARAMS['num_slots']]),\n",
    "        # Ranking policies do not use the `bandit_policy_type` info field\n",
    "        # bandit_policy_type=tf.zeros([HPARAMS['batch_size'], 1, 1], dtype=tf.int32),\n",
    "    )\n",
    "    \n",
    "    # dummy_rewards = tf.zeros([HPARAMS['batch_size'], 1, HPARAMS['num_actions']])\n",
    "    return trajectory.single_step(\n",
    "        observation=observation,\n",
    "        action=tf.zeros_like(\n",
    "            reward, dtype=tf.int32\n",
    "        ),\n",
    "        policy_info=policy_info,\n",
    "        reward=reward,\n",
    "        discount=tf.zeros_like(reward)\n",
    "    )\n"
   ]
  },
  {
   "cell_type": "code",
   "execution_count": 230,
   "id": "c8221e8a-cdf2-4944-9856-6a2371d3f782",
   "metadata": {
    "tags": []
   },
   "outputs": [],
   "source": [
    "for x in train_dataset.batch(HPARAMS['batch_size']).take(1):\n",
    "    test_traj = _rank_trajectory_fn(x)\n",
    "    \n",
    "# test_traj"
   ]
  },
  {
   "cell_type": "code",
   "execution_count": 231,
   "id": "05f77acf-53dc-443c-817d-7f8a091be627",
   "metadata": {},
   "outputs": [
    {
     "name": "stdout",
     "output_type": "stream",
     "text": [
      "test_traj.action.shape: (5, 3)\n"
     ]
    }
   ],
   "source": [
    "print(f\"test_traj.action.shape: {test_traj.action.shape}\") "
   ]
  },
  {
   "cell_type": "code",
   "execution_count": 232,
   "id": "8a3b97e5-fac3-4e5e-9db2-f90766e07651",
   "metadata": {},
   "outputs": [
    {
     "name": "stdout",
     "output_type": "stream",
     "text": [
      "test_traj.discount.shape: (5, 3)\n"
     ]
    }
   ],
   "source": [
    "print(f\"test_traj.discount.shape: {test_traj.discount.shape}\") "
   ]
  },
  {
   "cell_type": "code",
   "execution_count": 233,
   "id": "0ae43e6c-33e1-4440-a891-df36b646f770",
   "metadata": {},
   "outputs": [
    {
     "name": "stdout",
     "output_type": "stream",
     "text": [
      "test_traj.reward.shape: (5, 3)\n"
     ]
    }
   ],
   "source": [
    "print(f\"test_traj.reward.shape: {test_traj.reward.shape}\") "
   ]
  },
  {
   "cell_type": "code",
   "execution_count": 234,
   "id": "57fd5848-4d75-4fae-8cd7-0d7310562508",
   "metadata": {},
   "outputs": [
    {
     "name": "stdout",
     "output_type": "stream",
     "text": [
      "test_traj.observation.shape: (5, 1, 32)\n"
     ]
    }
   ],
   "source": [
    "print(f\"test_traj.observation.shape: {test_traj.observation['global'].shape}\") "
   ]
  },
  {
   "cell_type": "code",
   "execution_count": 235,
   "id": "94d81624-513c-4ccb-8caf-1638a8983dbb",
   "metadata": {},
   "outputs": [
    {
     "name": "stdout",
     "output_type": "stream",
     "text": [
      "test_traj.observation.shape: (3, 1, 64)\n"
     ]
    }
   ],
   "source": [
    "print(f\"test_traj.observation.shape: {test_traj.observation['per_arm'].shape}\") "
   ]
  },
  {
   "cell_type": "code",
   "execution_count": 217,
   "id": "3f4387d6-3637-494b-b389-813d07e0c727",
   "metadata": {},
   "outputs": [
    {
     "data": {
      "text/plain": [
       "{'global': TensorSpec(shape=(32,), dtype=tf.float32, name=None),\n",
       " 'per_arm': TensorSpec(shape=(3, 64), dtype=tf.float32, name=None)}"
      ]
     },
     "execution_count": 217,
     "metadata": {},
     "output_type": "execute_result"
    }
   ],
   "source": [
    "observation_spec"
   ]
  },
  {
   "cell_type": "code",
   "execution_count": 236,
   "id": "80ae1e4f-2fe4-4c70-9b5b-99b68be00221",
   "metadata": {},
   "outputs": [
    {
     "name": "stdout",
     "output_type": "stream",
     "text": [
      "expected_num_actions: 3\n",
      "predicted_rewards_mean: TensorSpec(shape=(3,), dtype=tf.float32, name=None)\n"
     ]
    }
   ],
   "source": [
    "expected_num_actions = action_spec.maximum - action_spec.minimum + 1\n",
    "print(f\"expected_num_actions: {expected_num_actions}\")\n",
    "\n",
    "predicted_rewards_mean = tensor_spec.TensorSpec([expected_num_actions])\n",
    "print(f\"predicted_rewards_mean: {predicted_rewards_mean}\")"
   ]
  },
  {
   "cell_type": "markdown",
   "id": "37f5ac56-3153-48e3-999a-a818ca673129",
   "metadata": {},
   "source": [
    "# Train Ranking Agent"
   ]
  },
  {
   "cell_type": "code",
   "execution_count": 237,
   "id": "43cd93ee-4ed8-4b11-9350-5e606ccca87a",
   "metadata": {},
   "outputs": [
    {
     "name": "stdout",
     "output_type": "stream",
     "text": [
      "EXPERIMENT_NAME   : local-ranker-rec-bandits-v1\n",
      "RUN_NAME          : run-20230928-082819\n",
      "\n",
      "BASE_OUTPUT_DIR   : gs://rec-bandits-v1-hybrid-vertex-bucket/local-ranker-rec-bandits-v1/run-20230928-082819\n",
      "LOG_DIR           : gs://rec-bandits-v1-hybrid-vertex-bucket/local-ranker-rec-bandits-v1/run-20230928-082819/logs\n",
      "ROOT_DIR          : gs://rec-bandits-v1-hybrid-vertex-bucket/local-ranker-rec-bandits-v1/run-20230928-082819/root\n",
      "ARTIFACTS_DIR     : gs://rec-bandits-v1-hybrid-vertex-bucket/local-ranker-rec-bandits-v1/run-20230928-082819/artifacts\n"
     ]
    }
   ],
   "source": [
    "EXPERIMENT_NAME   = f'local-ranker-{PREFIX}'\n",
    "\n",
    "# new experiment\n",
    "invoke_time       = time.strftime(\"%Y%m%d-%H%M%S\")\n",
    "RUN_NAME          = f'run-{invoke_time}'\n",
    "\n",
    "BASE_OUTPUT_DIR   = f'{BUCKET_URI}/{EXPERIMENT_NAME}/{RUN_NAME}'\n",
    "LOG_DIR           = f\"{BASE_OUTPUT_DIR}/logs\"\n",
    "ROOT_DIR          = f\"{BASE_OUTPUT_DIR}/root\"       # Root directory for writing logs/summaries/checkpoints.\n",
    "ARTIFACTS_DIR     = f\"{BASE_OUTPUT_DIR}/artifacts\"  # Where the trained model will be saved and restored.\n",
    "\n",
    "aiplatform.init(\n",
    "    project=PROJECT_ID,\n",
    "    location=REGION,\n",
    "    experiment=EXPERIMENT_NAME\n",
    ")\n",
    "\n",
    "print(f\"EXPERIMENT_NAME   : {EXPERIMENT_NAME}\")\n",
    "print(f\"RUN_NAME          : {RUN_NAME}\\n\")\n",
    "print(f\"BASE_OUTPUT_DIR   : {BASE_OUTPUT_DIR}\")\n",
    "print(f\"LOG_DIR           : {LOG_DIR}\")\n",
    "print(f\"ROOT_DIR          : {ROOT_DIR}\")\n",
    "print(f\"ARTIFACTS_DIR     : {ARTIFACTS_DIR}\")"
   ]
  },
  {
   "cell_type": "code",
   "execution_count": 256,
   "id": "99169818-818e-4148-b045-25eded36f553",
   "metadata": {},
   "outputs": [
    {
     "name": "stdout",
     "output_type": "stream",
     "text": [
      "tf_agents version: 0.17.0\n",
      "tensorflow version: 2.13.0\n"
     ]
    }
   ],
   "source": [
    "import collections\n",
    "\n",
    "from tf_agents.policies import py_tf_eager_policy\n",
    "from tf_agents.policies import tf_policy\n",
    "from tf_agents.trajectories import time_step as ts\n",
    "from tf_agents.policies import policy_saver\n",
    "from tf_agents.metrics import export_utils\n",
    "from tf_agents.metrics import tf_metrics\n",
    "from tf_agents.eval import metric_utils\n",
    "from tf_agents.utils import common\n",
    "\n",
    "import tf_agents\n",
    "\n",
    "print(f\"tf_agents version: {tf_agents.__version__}\")\n",
    "print(f\"tensorflow version: {tf.__version__}\")"
   ]
  },
  {
   "cell_type": "markdown",
   "id": "01f7b1cc-a927-45c0-b64d-30a70250fb8d",
   "metadata": {},
   "source": [
    "### logs & checkpoints"
   ]
  },
  {
   "cell_type": "code",
   "execution_count": 247,
   "id": "e6f63092-48ba-4cb2-8ee4-9b30bd4c23c2",
   "metadata": {},
   "outputs": [
    {
     "name": "stdout",
     "output_type": "stream",
     "text": [
      "agent: ranking_agent\n",
      "agent: penalize_cosine_distance_ranking_policy\n"
     ]
    }
   ],
   "source": [
    "global_step = tf.compat.v1.train.get_or_create_global_step()\n",
    "\n",
    "rank_agent.initialize()\n",
    "print(f'agent: {rank_agent.name}')\n",
    "print(f'agent: {rank_agent.policy.name}')"
   ]
  },
  {
   "cell_type": "code",
   "execution_count": 252,
   "id": "dd893a5d-449e-4c21-b9fc-3cf5114dd2b2",
   "metadata": {},
   "outputs": [
    {
     "name": "stdout",
     "output_type": "stream",
     "text": [
      "('metrics: [<tf_agents.metrics.tf_metrics.AverageReturnMetric object at '\n",
      " '0x7fd85c29c340>]')\n",
      "setting checkpoint_manager: gs://rec-bandits-v1-hybrid-vertex-bucket/local-ranker-rec-bandits-v1/run-20230928-082819/root/chkpoint\n"
     ]
    }
   ],
   "source": [
    "# ====================================================\n",
    "# TB summary writer\n",
    "# ====================================================\n",
    "train_summary_writer = tf.compat.v2.summary.create_file_writer(\n",
    "    f\"{LOG_DIR}/train\", flush_millis=10 * 1000\n",
    ")\n",
    "# train_summary_writer.set_as_default()\n",
    "\n",
    "# eval_summary_writer = tf.compat.v2.summary.create_file_writer(\n",
    "#     f\"{LOG_DIR}/eval\", flush_millis=10 * 1000\n",
    "# )\n",
    "# ====================================================\n",
    "# metrics\n",
    "# ====================================================\n",
    "# `step_metric` records the number of individual rounds of bandit interaction;\n",
    "# that is, (number of trajectories) * batch_size\n",
    "step_metric = tf_metrics.EnvironmentSteps()\n",
    "\n",
    "if feedback_model == ranking_environment.FeedbackModel.SCORE_VECTOR:\n",
    "    reward_metric = tf_metrics.AverageReturnMetric(\n",
    "        batch_size=HPARAMS['batch_size'],\n",
    "        buffer_size=20\n",
    "    )\n",
    "else:\n",
    "    reward_metric = tf_metrics.AverageReturnMultiMetric(\n",
    "        reward_spec=environment.reward_spec(),\n",
    "        batch_size=HPARAMS['batch_size'],\n",
    "        buffer_size=20\n",
    "    )\n",
    "    \n",
    "metrics = [reward_metric]\n",
    "\n",
    "pprint(f\"metrics: {metrics}\")\n",
    "\n",
    "# ====================================================\n",
    "# get checkpoint manager\n",
    "# ====================================================\n",
    "CHKPOINT_DIR = f\"{ROOT_DIR}/chkpoint\"\n",
    "print(f\"setting checkpoint_manager: {CHKPOINT_DIR}\")\n",
    "\n",
    "checkpoint_manager = train_utils.restore_and_get_checkpoint_manager(\n",
    "    root_dir=CHKPOINT_DIR, \n",
    "    agent=rank_agent, \n",
    "    metrics=metrics, \n",
    "    step_metric=step_metric\n",
    ")"
   ]
  },
  {
   "cell_type": "code",
   "execution_count": 258,
   "id": "dd8bc05c-81f1-4919-9668-a0236f35a061",
   "metadata": {},
   "outputs": [],
   "source": [
    "# # ====================================================\n",
    "# # policy saver\n",
    "# # ====================================================\n",
    "# saver = policy_saver.PolicySaver(\n",
    "#     policy = rank_agent.policy, \n",
    "#     # train_step=global_step\n",
    "# )"
   ]
  },
  {
   "cell_type": "code",
   "execution_count": null,
   "id": "4bb1d475-446e-498f-a4c1-a813de6352e1",
   "metadata": {},
   "outputs": [],
   "source": [
    "policy = rank_agent.policy\n",
    "isinstance(policy, tf_policy.TFPolicy)"
   ]
  },
  {
   "cell_type": "markdown",
   "id": "db9af553-9512-47e0-ae9d-d593139143e0",
   "metadata": {},
   "source": [
    "## Train config"
   ]
  },
  {
   "cell_type": "code",
   "execution_count": 262,
   "id": "50ef435c-3d9b-432d-a5e2-ab5d60e93cdf",
   "metadata": {},
   "outputs": [
    {
     "name": "stdout",
     "output_type": "stream",
     "text": [
      "TRAIN_DATA_SIZE : 900\n",
      "NUM_TRAIN_STEPS : 180\n",
      "EVAL_DATA_SIZE : 900\n",
      "NUM_EVAL_STEPS : 100\n",
      "CHKPT_INTERVAL: 180\n",
      "LOG_INTERVAL : 10\n"
     ]
    }
   ],
   "source": [
    "TRAIN_DATA_SIZE = 900          # len(list(train_dataset))\n",
    "NUM_TRAIN_STEPS = 180            # TRAIN_DATA_SIZE // HPARAMS['batch_size']\n",
    "\n",
    "EVAL_DATA_SIZE  = 900          # len(list(val_dataset))\n",
    "NUM_EVAL_STEPS  = 100           # EVAL_DATA_SIZE // HPARAMS['eval_batch_size']\n",
    "\n",
    "CHKPT_INTERVAL  = NUM_TRAIN_STEPS # // 5\n",
    "LOG_INTERVAL    = 10\n",
    "# EVAL_INTERVAL = NUM_TRAIN_STEPS // 2\n",
    "\n",
    "print(f\"TRAIN_DATA_SIZE : {TRAIN_DATA_SIZE}\")\n",
    "print(f\"NUM_TRAIN_STEPS : {NUM_TRAIN_STEPS}\")\n",
    "print(f\"EVAL_DATA_SIZE : {EVAL_DATA_SIZE}\")\n",
    "print(f\"NUM_EVAL_STEPS : {NUM_EVAL_STEPS}\")\n",
    "print(f\"CHKPT_INTERVAL: {CHKPT_INTERVAL}\")\n",
    "print(f\"LOG_INTERVAL : {LOG_INTERVAL}\")\n",
    "# print(f\"EVAL_INTERVAL : {EVAL_INTERVAL}\")"
   ]
  },
  {
   "cell_type": "code",
   "execution_count": 263,
   "id": "d4fa546c-bb88-4fef-976d-98b245ee842a",
   "metadata": {},
   "outputs": [
    {
     "data": {
      "text/plain": [
       "<_TakeDataset element_spec={'movie_genres': TensorSpec(shape=(None, 3), dtype=tf.int64, name=None), 'movie_id': TensorSpec(shape=(None, 3), dtype=tf.string, name=None), 'user_id': TensorSpec(shape=(None,), dtype=tf.string, name=None), 'user_rating': TensorSpec(shape=(None, 3), dtype=tf.float32, name=None)}>"
      ]
     },
     "execution_count": 263,
     "metadata": {},
     "output_type": "execute_result"
    }
   ],
   "source": [
    "# train data\n",
    "train_ds_iterator = iter(train_dataset.batch(HPARAMS['batch_size']).repeat())\n",
    "\n",
    "# eval dataset\n",
    "eval_ds = val_dataset.batch(HPARAMS[\"eval_batch_size\"])\n",
    "\n",
    "if NUM_EVAL_STEPS > 0:\n",
    "    eval_ds = eval_ds.take(NUM_EVAL_STEPS)\n",
    "\n",
    "# eval_ds = eval_ds.prefetch(tf.data.AUTOTUNE)\n",
    "\n",
    "eval_ds"
   ]
  },
  {
   "cell_type": "markdown",
   "id": "3bddd75a-21b0-4d09-9518-785246bd0a10",
   "metadata": {},
   "source": [
    "### pre-training eval loop"
   ]
  },
  {
   "cell_type": "code",
   "execution_count": 264,
   "id": "4e0ce70d-cb79-45ad-888e-231c52e9504b",
   "metadata": {},
   "outputs": [],
   "source": [
    "from src.perarm_features import eval_perarm as eval_perarm"
   ]
  },
  {
   "cell_type": "code",
   "execution_count": 266,
   "id": "0fae5f66-b9d5-476b-bdee-a7b0de1548d8",
   "metadata": {},
   "outputs": [
    {
     "data": {
      "text/plain": [
       "<tf.Tensor: shape=(1, 64), dtype=float32, numpy=\n",
       "array([[0., 0., 0., 0., 0., 0., 0., 0., 0., 0., 0., 0., 0., 0., 0., 0.,\n",
       "        0., 0., 0., 0., 0., 0., 0., 0., 0., 0., 0., 0., 0., 0., 0., 0.,\n",
       "        0., 0., 0., 0., 0., 0., 0., 0., 0., 0., 0., 0., 0., 0., 0., 0.,\n",
       "        0., 0., 0., 0., 0., 0., 0., 0., 0., 0., 0., 0., 0., 0., 0., 0.]],\n",
       "      dtype=float32)>"
      ]
     },
     "execution_count": 266,
     "metadata": {},
     "output_type": "execute_result"
    }
   ],
   "source": [
    "dummy_arm = tf.zeros([HPARAMS['eval_batch_size'], PER_ARM_DIM], dtype=tf.float32)\n",
    "dummy_arm"
   ]
  },
  {
   "cell_type": "code",
   "execution_count": null,
   "id": "5001cd5d-8c7d-4652-b235-bf55c47faca5",
   "metadata": {},
   "outputs": [],
   "source": []
  },
  {
   "cell_type": "code",
   "execution_count": null,
   "id": "25f596e2-8bfa-4c08-805e-56e439049103",
   "metadata": {},
   "outputs": [],
   "source": [
    "serving_trajectory_fn(experience.observation)"
   ]
  },
  {
   "cell_type": "code",
   "execution_count": 277,
   "id": "bbad1383-8c00-4bef-8ed2-d0e9201cab3a",
   "metadata": {},
   "outputs": [
    {
     "ename": "TypeError",
     "evalue": "Eager execution of tf.constant with unsupported shape. Tensor [3. 4. 3.] (converted from [3. 4. 3.]) has 3 elements, but got `shape` () with 1 elements).",
     "output_type": "error",
     "traceback": [
      "\u001b[0;31m---------------------------------------------------------------------------\u001b[0m",
      "\u001b[0;31mTypeError\u001b[0m                                 Traceback (most recent call last)",
      "Cell \u001b[0;32mIn[277], line 17\u001b[0m\n\u001b[1;32m     11\u001b[0m rewards \u001b[38;5;241m=\u001b[39m x[\u001b[38;5;124m'\u001b[39m\u001b[38;5;124muser_rating\u001b[39m\u001b[38;5;124m'\u001b[39m]\n\u001b[1;32m     13\u001b[0m \u001b[38;5;66;03m# reshape arm features\u001b[39;00m\n\u001b[1;32m     14\u001b[0m \u001b[38;5;66;03m# arm_feat_infer = tf.reshape(arm_feat_infer, [HPARAMS['eval_batch_size'], PER_ARM_DIM])\u001b[39;00m\n\u001b[1;32m     15\u001b[0m \u001b[38;5;66;03m# concat_arm = tf.concat([arm_feat_infer, dummy_arm], axis=0)\u001b[39;00m\n\u001b[0;32m---> 17\u001b[0m trajectory_step \u001b[38;5;241m=\u001b[39m \u001b[43mtrain_utils\u001b[49m\u001b[38;5;241;43m.\u001b[39;49m\u001b[43m_get_eval_step\u001b[49m\u001b[43m(\u001b[49m\u001b[43mfeature\u001b[49m\u001b[43m,\u001b[49m\u001b[43m \u001b[49m\u001b[43mrewards\u001b[49m\u001b[38;5;241;43m.\u001b[39;49m\u001b[43mnumpy\u001b[49m\u001b[43m(\u001b[49m\u001b[43m)\u001b[49m\u001b[43m[\u001b[49m\u001b[38;5;241;43m0\u001b[39;49m\u001b[43m]\u001b[49m\u001b[43m)\u001b[49m\n\u001b[1;32m     19\u001b[0m \u001b[38;5;28;01mbreak\u001b[39;00m\n",
      "File \u001b[0;32m~/tf_vertex_agents/03-ranking/../src/per_arm_rl/train_utils.py:414\u001b[0m, in \u001b[0;36m_get_eval_step\u001b[0;34m(feature, reward_np)\u001b[0m\n\u001b[1;32m    402\u001b[0m \u001b[38;5;28;01mdef\u001b[39;00m \u001b[38;5;21m_get_eval_step\u001b[39m(\n\u001b[1;32m    403\u001b[0m     feature, \n\u001b[1;32m    404\u001b[0m     reward_np\n\u001b[1;32m    405\u001b[0m ):\n\u001b[1;32m    407\u001b[0m     infer_step \u001b[38;5;241m=\u001b[39m ts\u001b[38;5;241m.\u001b[39mTimeStep(\n\u001b[1;32m    408\u001b[0m         tf\u001b[38;5;241m.\u001b[39mconstant(\n\u001b[1;32m    409\u001b[0m             ts\u001b[38;5;241m.\u001b[39mStepType\u001b[38;5;241m.\u001b[39mFIRST, \n\u001b[1;32m    410\u001b[0m             dtype\u001b[38;5;241m=\u001b[39mtf\u001b[38;5;241m.\u001b[39mint32, \n\u001b[1;32m    411\u001b[0m             shape\u001b[38;5;241m=\u001b[39m[],\n\u001b[1;32m    412\u001b[0m             name\u001b[38;5;241m=\u001b[39m\u001b[38;5;124m'\u001b[39m\u001b[38;5;124mstep_type\u001b[39m\u001b[38;5;124m'\u001b[39m\n\u001b[1;32m    413\u001b[0m         ),\n\u001b[0;32m--> 414\u001b[0m         \u001b[43mtf\u001b[49m\u001b[38;5;241;43m.\u001b[39;49m\u001b[43mconstant\u001b[49m\u001b[43m(\u001b[49m\n\u001b[1;32m    415\u001b[0m \u001b[43m            \u001b[49m\u001b[43mreward_np\u001b[49m\u001b[43m,\u001b[49m\u001b[43m \u001b[49m\u001b[43mdtype\u001b[49m\u001b[38;5;241;43m=\u001b[39;49m\u001b[43mtf\u001b[49m\u001b[38;5;241;43m.\u001b[39;49m\u001b[43mfloat32\u001b[49m\u001b[43m,\u001b[49m\u001b[43m \u001b[49m\u001b[43mshape\u001b[49m\u001b[38;5;241;43m=\u001b[39;49m\u001b[43m[\u001b[49m\u001b[43m]\u001b[49m\u001b[43m,\u001b[49m\u001b[43m \u001b[49m\u001b[43mname\u001b[49m\u001b[38;5;241;43m=\u001b[39;49m\u001b[38;5;124;43m'\u001b[39;49m\u001b[38;5;124;43mreward\u001b[39;49m\u001b[38;5;124;43m'\u001b[39;49m\n\u001b[1;32m    416\u001b[0m \u001b[43m        \u001b[49m\u001b[43m)\u001b[49m,\n\u001b[1;32m    417\u001b[0m         tf\u001b[38;5;241m.\u001b[39mconstant(\n\u001b[1;32m    418\u001b[0m             \u001b[38;5;241m1.0\u001b[39m, dtype\u001b[38;5;241m=\u001b[39mtf\u001b[38;5;241m.\u001b[39mfloat32, shape\u001b[38;5;241m=\u001b[39m[], name\u001b[38;5;241m=\u001b[39m\u001b[38;5;124m'\u001b[39m\u001b[38;5;124mdiscount\u001b[39m\u001b[38;5;124m'\u001b[39m\n\u001b[1;32m    419\u001b[0m         ),\n\u001b[1;32m    420\u001b[0m         feature\n\u001b[1;32m    421\u001b[0m     )\n\u001b[1;32m    423\u001b[0m     \u001b[38;5;28;01mreturn\u001b[39;00m infer_step\n",
      "File \u001b[0;32m/opt/conda/lib/python3.10/site-packages/tensorflow/python/framework/constant_op.py:263\u001b[0m, in \u001b[0;36mconstant\u001b[0;34m(value, dtype, shape, name)\u001b[0m\n\u001b[1;32m    166\u001b[0m \u001b[38;5;129m@tf_export\u001b[39m(\u001b[38;5;124m\"\u001b[39m\u001b[38;5;124mconstant\u001b[39m\u001b[38;5;124m\"\u001b[39m, v1\u001b[38;5;241m=\u001b[39m[])\n\u001b[1;32m    167\u001b[0m \u001b[38;5;28;01mdef\u001b[39;00m \u001b[38;5;21mconstant\u001b[39m(value, dtype\u001b[38;5;241m=\u001b[39m\u001b[38;5;28;01mNone\u001b[39;00m, shape\u001b[38;5;241m=\u001b[39m\u001b[38;5;28;01mNone\u001b[39;00m, name\u001b[38;5;241m=\u001b[39m\u001b[38;5;124m\"\u001b[39m\u001b[38;5;124mConst\u001b[39m\u001b[38;5;124m\"\u001b[39m):\n\u001b[1;32m    168\u001b[0m \u001b[38;5;250m  \u001b[39m\u001b[38;5;124;03m\"\"\"Creates a constant tensor from a tensor-like object.\u001b[39;00m\n\u001b[1;32m    169\u001b[0m \n\u001b[1;32m    170\u001b[0m \u001b[38;5;124;03m  Note: All eager `tf.Tensor` values are immutable (in contrast to\u001b[39;00m\n\u001b[0;32m   (...)\u001b[0m\n\u001b[1;32m    261\u001b[0m \u001b[38;5;124;03m    ValueError: if called on a symbolic tensor.\u001b[39;00m\n\u001b[1;32m    262\u001b[0m \u001b[38;5;124;03m  \"\"\"\u001b[39;00m\n\u001b[0;32m--> 263\u001b[0m   \u001b[38;5;28;01mreturn\u001b[39;00m \u001b[43m_constant_impl\u001b[49m\u001b[43m(\u001b[49m\u001b[43mvalue\u001b[49m\u001b[43m,\u001b[49m\u001b[43m \u001b[49m\u001b[43mdtype\u001b[49m\u001b[43m,\u001b[49m\u001b[43m \u001b[49m\u001b[43mshape\u001b[49m\u001b[43m,\u001b[49m\u001b[43m \u001b[49m\u001b[43mname\u001b[49m\u001b[43m,\u001b[49m\u001b[43m \u001b[49m\u001b[43mverify_shape\u001b[49m\u001b[38;5;241;43m=\u001b[39;49m\u001b[38;5;28;43;01mFalse\u001b[39;49;00m\u001b[43m,\u001b[49m\n\u001b[1;32m    264\u001b[0m \u001b[43m                        \u001b[49m\u001b[43mallow_broadcast\u001b[49m\u001b[38;5;241;43m=\u001b[39;49m\u001b[38;5;28;43;01mTrue\u001b[39;49;00m\u001b[43m)\u001b[49m\n",
      "File \u001b[0;32m/opt/conda/lib/python3.10/site-packages/tensorflow/python/framework/constant_op.py:275\u001b[0m, in \u001b[0;36m_constant_impl\u001b[0;34m(value, dtype, shape, name, verify_shape, allow_broadcast)\u001b[0m\n\u001b[1;32m    273\u001b[0m     \u001b[38;5;28;01mwith\u001b[39;00m trace\u001b[38;5;241m.\u001b[39mTrace(\u001b[38;5;124m\"\u001b[39m\u001b[38;5;124mtf.constant\u001b[39m\u001b[38;5;124m\"\u001b[39m):\n\u001b[1;32m    274\u001b[0m       \u001b[38;5;28;01mreturn\u001b[39;00m _constant_eager_impl(ctx, value, dtype, shape, verify_shape)\n\u001b[0;32m--> 275\u001b[0m   \u001b[38;5;28;01mreturn\u001b[39;00m \u001b[43m_constant_eager_impl\u001b[49m\u001b[43m(\u001b[49m\u001b[43mctx\u001b[49m\u001b[43m,\u001b[49m\u001b[43m \u001b[49m\u001b[43mvalue\u001b[49m\u001b[43m,\u001b[49m\u001b[43m \u001b[49m\u001b[43mdtype\u001b[49m\u001b[43m,\u001b[49m\u001b[43m \u001b[49m\u001b[43mshape\u001b[49m\u001b[43m,\u001b[49m\u001b[43m \u001b[49m\u001b[43mverify_shape\u001b[49m\u001b[43m)\u001b[49m\n\u001b[1;32m    277\u001b[0m const_tensor \u001b[38;5;241m=\u001b[39m ops\u001b[38;5;241m.\u001b[39m_create_graph_constant(  \u001b[38;5;66;03m# pylint: disable=protected-access\u001b[39;00m\n\u001b[1;32m    278\u001b[0m     value, dtype, shape, name, verify_shape, allow_broadcast\n\u001b[1;32m    279\u001b[0m )\n\u001b[1;32m    280\u001b[0m \u001b[38;5;28;01mreturn\u001b[39;00m const_tensor\n",
      "File \u001b[0;32m/opt/conda/lib/python3.10/site-packages/tensorflow/python/framework/constant_op.py:307\u001b[0m, in \u001b[0;36m_constant_eager_impl\u001b[0;34m(ctx, value, dtype, shape, verify_shape)\u001b[0m\n\u001b[1;32m    305\u001b[0m   \u001b[38;5;28;01melse\u001b[39;00m:\n\u001b[1;32m    306\u001b[0m     \u001b[38;5;28;01mreturn\u001b[39;00m _eager_fill(shape\u001b[38;5;241m.\u001b[39mas_list(), t, ctx)\n\u001b[0;32m--> 307\u001b[0m \u001b[38;5;28;01mraise\u001b[39;00m \u001b[38;5;167;01mTypeError\u001b[39;00m(\u001b[38;5;124m\"\u001b[39m\u001b[38;5;124mEager execution of tf.constant with unsupported shape. \u001b[39m\u001b[38;5;124m\"\u001b[39m\n\u001b[1;32m    308\u001b[0m                 \u001b[38;5;124mf\u001b[39m\u001b[38;5;124m\"\u001b[39m\u001b[38;5;124mTensor \u001b[39m\u001b[38;5;132;01m{\u001b[39;00mt\u001b[38;5;132;01m}\u001b[39;00m\u001b[38;5;124m (converted from \u001b[39m\u001b[38;5;132;01m{\u001b[39;00mvalue\u001b[38;5;132;01m}\u001b[39;00m\u001b[38;5;124m) has \u001b[39m\u001b[38;5;132;01m{\u001b[39;00mnum_t\u001b[38;5;132;01m:\u001b[39;00m\u001b[38;5;124md\u001b[39m\u001b[38;5;132;01m}\u001b[39;00m\u001b[38;5;124m \u001b[39m\u001b[38;5;124m\"\u001b[39m\n\u001b[1;32m    309\u001b[0m                 \u001b[38;5;124mf\u001b[39m\u001b[38;5;124m\"\u001b[39m\u001b[38;5;124melements, but got `shape` \u001b[39m\u001b[38;5;132;01m{\u001b[39;00mshape\u001b[38;5;132;01m}\u001b[39;00m\u001b[38;5;124m with \u001b[39m\u001b[38;5;124m\"\u001b[39m\n\u001b[1;32m    310\u001b[0m                 \u001b[38;5;124mf\u001b[39m\u001b[38;5;124m\"\u001b[39m\u001b[38;5;132;01m{\u001b[39;00mshape\u001b[38;5;241m.\u001b[39mnum_elements()\u001b[38;5;132;01m}\u001b[39;00m\u001b[38;5;124m elements).\u001b[39m\u001b[38;5;124m\"\u001b[39m)\n",
      "\u001b[0;31mTypeError\u001b[0m: Eager execution of tf.constant with unsupported shape. Tensor [3. 4. 3.] (converted from [3. 4. 3.]) has 3 elements, but got `shape` () with 1 elements)."
     ]
    }
   ],
   "source": [
    "for x in eval_ds:\n",
    "\n",
    "    filter_mask = None\n",
    "    # get feature tensors\n",
    "\n",
    "    global_feat_infer = _get_global_context_features(x)\n",
    "    arm_feat_infer = _get_per_arm_features(x)\n",
    "    \n",
    "    feature = {'global': global_feat_infer, 'per_arm': arm_feat_infer}\n",
    "\n",
    "    rewards = x['user_rating']\n",
    "    \n",
    "    # reshape arm features\n",
    "    # arm_feat_infer = tf.reshape(arm_feat_infer, [HPARAMS['eval_batch_size'], PER_ARM_DIM])\n",
    "    # concat_arm = tf.concat([arm_feat_infer, dummy_arm], axis=0)\n",
    "    \n",
    "    trajectory_step = train_utils._get_eval_step(feature, rewards.numpy()[0])\n",
    "    \n",
    "    break"
   ]
  },
  {
   "cell_type": "code",
   "execution_count": null,
   "id": "9cfa3202-0612-4b8f-bf39-df4e0aae4c3d",
   "metadata": {},
   "outputs": [],
   "source": [
    "trajectory_step"
   ]
  },
  {
   "cell_type": "code",
   "execution_count": 276,
   "id": "226292aa-b55a-4958-b44c-da01a41c8cdf",
   "metadata": {},
   "outputs": [
    {
     "data": {
      "text/plain": [
       "array([3., 4., 3.], dtype=float32)"
      ]
     },
     "execution_count": 276,
     "metadata": {},
     "output_type": "execute_result"
    }
   ],
   "source": [
    "rewards.numpy()[0]"
   ]
  },
  {
   "cell_type": "code",
   "execution_count": 271,
   "id": "6978ad56-1a57-4509-a5b4-30093a3f7f16",
   "metadata": {},
   "outputs": [
    {
     "data": {
      "text/plain": [
       "{'global': <tf.Tensor: shape=(1, 32), dtype=float32, numpy=\n",
       " array([[-0.00393863, -0.01478862, -0.01024078,  0.0088415 , -0.04419738,\n",
       "          0.00215956,  0.04627681,  0.00932204, -0.03822122,  0.01907711,\n",
       "          0.04298531,  0.03985386, -0.02062283,  0.04563275, -0.04217682,\n",
       "         -0.00670524, -0.00452264,  0.00888044, -0.00630587, -0.04180532,\n",
       "          0.02169652, -0.03667367, -0.04886571, -0.02383516, -0.02696766,\n",
       "         -0.01847826,  0.04542513,  0.03135038,  0.03640084, -0.00571319,\n",
       "         -0.03599992,  0.04219032]], dtype=float32)>,\n",
       " 'per_arm': <tf.Tensor: shape=(3, 64), dtype=float32, numpy=\n",
       " array([[ 0.03050664,  0.03452467,  0.01929859, -0.03016851, -0.04490181,\n",
       "          0.04495033, -0.01774796,  0.04843504,  0.01318759,  0.04657273,\n",
       "          0.02429909, -0.02757381, -0.00995559,  0.01978866,  0.01136253,\n",
       "          0.04364896,  0.04103352,  0.0455398 , -0.01450343,  0.00424021,\n",
       "         -0.00881096, -0.0438289 ,  0.00205433,  0.04403717,  0.00738447,\n",
       "          0.03068563, -0.00179168, -0.00264094,  0.03268982, -0.02675745,\n",
       "         -0.03784177,  0.01306761,  0.04654622, -0.02054758,  0.04463777,\n",
       "          0.04845568,  0.04217536,  0.02371256, -0.00654475,  0.04740763,\n",
       "          0.01182047,  0.01892675,  0.02788329,  0.01762689, -0.02070785,\n",
       "          0.04260923, -0.01979904,  0.03063042, -0.00118067,  0.00089129,\n",
       "          0.00308929,  0.02104905, -0.03149561,  0.02938651, -0.04440167,\n",
       "          0.04309526,  0.02933786, -0.03683791, -0.03504019, -0.01172578,\n",
       "         -0.04470687,  0.02467886, -0.01176022,  0.03032222],\n",
       "        [ 0.00577787,  0.0122431 , -0.02149691,  0.03003612, -0.02810937,\n",
       "         -0.0125915 ,  0.02658392, -0.00172039,  0.02875276, -0.01784836,\n",
       "          0.00809086,  0.01872133, -0.04263928,  0.01754406, -0.03548434,\n",
       "         -0.0333968 ,  0.04308026,  0.04450091,  0.04334522, -0.00350161,\n",
       "          0.0447993 ,  0.01374742,  0.03079316, -0.03866627,  0.04232742,\n",
       "          0.01990027, -0.03715102, -0.04539511,  0.00783726, -0.01542069,\n",
       "          0.03001601, -0.00413753, -0.00102632, -0.01604797, -0.00651725,\n",
       "         -0.00096395, -0.03562502,  0.03203006, -0.04658392, -0.047096  ,\n",
       "         -0.04104569,  0.0042726 ,  0.02974394, -0.02726482,  0.04814638,\n",
       "         -0.03978167,  0.0095977 , -0.01238691,  0.03174281,  0.00192732,\n",
       "          0.03645868, -0.01030538, -0.02524411, -0.03020107,  0.04387722,\n",
       "         -0.01896127, -0.04798398, -0.03728454,  0.02068731,  0.02813515,\n",
       "          0.00399685, -0.01831045,  0.02500174,  0.02712907],\n",
       "        [ 0.02755487,  0.03619394, -0.0323962 , -0.0024258 ,  0.03511808,\n",
       "         -0.0052348 , -0.02147862, -0.02546663,  0.00826268,  0.02907007,\n",
       "          0.01704646,  0.03348896, -0.02649962,  0.00299782,  0.01761886,\n",
       "          0.01078919,  0.04474063, -0.02759011, -0.02515518,  0.00314265,\n",
       "         -0.00788137, -0.04082309,  0.04731032,  0.0107073 , -0.01411822,\n",
       "          0.0427035 ,  0.0472188 , -0.04109193, -0.0305061 , -0.01197817,\n",
       "         -0.010698  , -0.01237272, -0.00102632, -0.01604797, -0.00651725,\n",
       "         -0.00096395, -0.03562502,  0.03203006, -0.04658392, -0.047096  ,\n",
       "         -0.04104569,  0.0042726 ,  0.02974394, -0.02726482,  0.04814638,\n",
       "         -0.03978167,  0.0095977 , -0.01238691,  0.03174281,  0.00192732,\n",
       "          0.03645868, -0.01030538, -0.02524411, -0.03020107,  0.04387722,\n",
       "         -0.01896127, -0.04798398, -0.03728454,  0.02068731,  0.02813515,\n",
       "          0.00399685, -0.01831045,  0.02500174,  0.02712907]],\n",
       "       dtype=float32)>}"
      ]
     },
     "execution_count": 271,
     "metadata": {},
     "output_type": "execute_result"
    }
   ],
   "source": [
    "feature"
   ]
  },
  {
   "cell_type": "code",
   "execution_count": 268,
   "id": "9b04a614-9803-44b3-9435-04b441a36be5",
   "metadata": {},
   "outputs": [
    {
     "data": {
      "text/plain": [
       "<tf.Tensor: shape=(3, 64), dtype=float32, numpy=\n",
       "array([[ 0.03050664,  0.03452467,  0.01929859, -0.03016851, -0.04490181,\n",
       "         0.04495033, -0.01774796,  0.04843504,  0.01318759,  0.04657273,\n",
       "         0.02429909, -0.02757381, -0.00995559,  0.01978866,  0.01136253,\n",
       "         0.04364896,  0.04103352,  0.0455398 , -0.01450343,  0.00424021,\n",
       "        -0.00881096, -0.0438289 ,  0.00205433,  0.04403717,  0.00738447,\n",
       "         0.03068563, -0.00179168, -0.00264094,  0.03268982, -0.02675745,\n",
       "        -0.03784177,  0.01306761,  0.04654622, -0.02054758,  0.04463777,\n",
       "         0.04845568,  0.04217536,  0.02371256, -0.00654475,  0.04740763,\n",
       "         0.01182047,  0.01892675,  0.02788329,  0.01762689, -0.02070785,\n",
       "         0.04260923, -0.01979904,  0.03063042, -0.00118067,  0.00089129,\n",
       "         0.00308929,  0.02104905, -0.03149561,  0.02938651, -0.04440167,\n",
       "         0.04309526,  0.02933786, -0.03683791, -0.03504019, -0.01172578,\n",
       "        -0.04470687,  0.02467886, -0.01176022,  0.03032222],\n",
       "       [ 0.00577787,  0.0122431 , -0.02149691,  0.03003612, -0.02810937,\n",
       "        -0.0125915 ,  0.02658392, -0.00172039,  0.02875276, -0.01784836,\n",
       "         0.00809086,  0.01872133, -0.04263928,  0.01754406, -0.03548434,\n",
       "        -0.0333968 ,  0.04308026,  0.04450091,  0.04334522, -0.00350161,\n",
       "         0.0447993 ,  0.01374742,  0.03079316, -0.03866627,  0.04232742,\n",
       "         0.01990027, -0.03715102, -0.04539511,  0.00783726, -0.01542069,\n",
       "         0.03001601, -0.00413753, -0.00102632, -0.01604797, -0.00651725,\n",
       "        -0.00096395, -0.03562502,  0.03203006, -0.04658392, -0.047096  ,\n",
       "        -0.04104569,  0.0042726 ,  0.02974394, -0.02726482,  0.04814638,\n",
       "        -0.03978167,  0.0095977 , -0.01238691,  0.03174281,  0.00192732,\n",
       "         0.03645868, -0.01030538, -0.02524411, -0.03020107,  0.04387722,\n",
       "        -0.01896127, -0.04798398, -0.03728454,  0.02068731,  0.02813515,\n",
       "         0.00399685, -0.01831045,  0.02500174,  0.02712907],\n",
       "       [ 0.02755487,  0.03619394, -0.0323962 , -0.0024258 ,  0.03511808,\n",
       "        -0.0052348 , -0.02147862, -0.02546663,  0.00826268,  0.02907007,\n",
       "         0.01704646,  0.03348896, -0.02649962,  0.00299782,  0.01761886,\n",
       "         0.01078919,  0.04474063, -0.02759011, -0.02515518,  0.00314265,\n",
       "        -0.00788137, -0.04082309,  0.04731032,  0.0107073 , -0.01411822,\n",
       "         0.0427035 ,  0.0472188 , -0.04109193, -0.0305061 , -0.01197817,\n",
       "        -0.010698  , -0.01237272, -0.00102632, -0.01604797, -0.00651725,\n",
       "        -0.00096395, -0.03562502,  0.03203006, -0.04658392, -0.047096  ,\n",
       "        -0.04104569,  0.0042726 ,  0.02974394, -0.02726482,  0.04814638,\n",
       "        -0.03978167,  0.0095977 , -0.01238691,  0.03174281,  0.00192732,\n",
       "         0.03645868, -0.01030538, -0.02524411, -0.03020107,  0.04387722,\n",
       "        -0.01896127, -0.04798398, -0.03728454,  0.02068731,  0.02813515,\n",
       "         0.00399685, -0.01831045,  0.02500174,  0.02712907]],\n",
       "      dtype=float32)>"
      ]
     },
     "execution_count": 268,
     "metadata": {},
     "output_type": "execute_result"
    }
   ],
   "source": [
    "arm_feat_infer"
   ]
  },
  {
   "cell_type": "code",
   "execution_count": null,
   "id": "c4cb0117-a91c-4a05-8c4b-93426cb911c8",
   "metadata": {},
   "outputs": [],
   "source": []
  },
  {
   "cell_type": "code",
   "execution_count": null,
   "id": "d1243ef3-ddcd-4f81-b08c-df89af563f44",
   "metadata": {},
   "outputs": [],
   "source": [
    "# ====================================================\n",
    "# Evaluate the agent's policy once before training\n",
    "# ====================================================\n",
    "# Reset the train step\n",
    "rank_agent.train_step_counter.assign(0)\n",
    "\n",
    "pre_policy_tf = py_tf_eager_policy.PyTFEagerPolicy(rank_agent.policy, use_tf_function=True)\n",
    "\n",
    "print(f\"evaluating pre-trained Agent...\")\n",
    "start_time = time.time()\n",
    "\n",
    "pre_val_loss, pre_preds, pre_tr_rewards = eval_perarm._run_bandit_eval(\n",
    "    policy = pre_policy_tf,\n",
    "    data = eval_ds,\n",
    "    eval_batch_size = HPARAMS['eval_batch_size'],\n",
    "    per_arm_dim = PER_ARM_DIM,\n",
    "    global_dim = GLOBAL_DIM,\n",
    "    vocab_dict = vocab_dict,\n",
    "    num_oov_buckets = NUM_OOV_BUCKETS,\n",
    "    global_emb_size = GLOBAL_EMBEDDING_SIZE,\n",
    "    mv_emb_size = MV_EMBEDDING_SIZE,\n",
    ")\n",
    "\n",
    "runtime_mins = int((time.time() - start_time) / 60)\n",
    "print(f\"pre-train val_loss     : {pre_val_loss}\")\n",
    "print(f\"pre-train eval runtime : {runtime_mins}\")\n",
    "# ====================================================\n",
    "# train loop\n",
    "# ====================================================\n",
    "print(f\"starting train loop...\")\n",
    "start_time = time.time()"
   ]
  },
  {
   "cell_type": "code",
   "execution_count": null,
   "id": "21fbf39b-90ca-4088-ab84-61d6f9b78152",
   "metadata": {},
   "outputs": [],
   "source": []
  },
  {
   "cell_type": "code",
   "execution_count": null,
   "id": "a8f9a1e3-80e3-4dd2-95d6-5e5c4d49010d",
   "metadata": {},
   "outputs": [],
   "source": []
  },
  {
   "cell_type": "code",
   "execution_count": null,
   "id": "c558330c-93d7-4851-b0b6-393b8a2a8e09",
   "metadata": {},
   "outputs": [],
   "source": []
  },
  {
   "cell_type": "markdown",
   "id": "48cc2852-d9c5-4e18-8e93-1d1770d72232",
   "metadata": {},
   "source": [
    "### Ranking Task"
   ]
  },
  {
   "cell_type": "code",
   "execution_count": null,
   "id": "77eceb80-d2a6-423e-95b9-81558b2d30e5",
   "metadata": {},
   "outputs": [],
   "source": [
    "task = tfrs.tasks.Ranking(\n",
    "      loss=loss,\n",
    "      metrics=[\n",
    "        tfr.keras.metrics.NDCGMetric(name=\"ndcg_metric\"),\n",
    "        tf.keras.metrics.RootMeanSquaredError()\n",
    "      ]\n",
    "    )"
   ]
  },
  {
   "cell_type": "code",
   "execution_count": null,
   "id": "cbe298e2-9dc2-43d5-a34b-3a20d48c2ef9",
   "metadata": {},
   "outputs": [],
   "source": []
  },
  {
   "cell_type": "code",
   "execution_count": null,
   "id": "994e3319-9984-4bd3-ba88-ee8538fff37a",
   "metadata": {},
   "outputs": [],
   "source": []
  },
  {
   "cell_type": "code",
   "execution_count": null,
   "id": "6a6592aa-5a59-4d2d-8772-9d5aaf41521c",
   "metadata": {},
   "outputs": [],
   "source": []
  },
  {
   "cell_type": "code",
   "execution_count": null,
   "id": "4f72d29a-fe8a-48cb-9d0c-2879d880fff8",
   "metadata": {},
   "outputs": [],
   "source": []
  },
  {
   "cell_type": "code",
   "execution_count": null,
   "id": "41e00513-8be9-46da-bca5-7cd342bd1c78",
   "metadata": {},
   "outputs": [],
   "source": []
  },
  {
   "cell_type": "code",
   "execution_count": 21,
   "id": "cd95da1c-bdd5-4436-a589-e02bac36c199",
   "metadata": {},
   "outputs": [
    {
     "data": {
      "text/plain": [
       "<src.perarm_features.emb_features.EmbeddingModel at 0x7efbaa8d6fe0>"
      ]
     },
     "execution_count": 21,
     "metadata": {},
     "output_type": "execute_result"
    }
   ],
   "source": [
    "from src.perarm_features import emb_features as emb_features\n",
    "\n",
    "embs = emb_features.EmbeddingModel(\n",
    "    vocab_dict = vocab_dict,\n",
    "    num_oov_buckets = NUM_OOV_BUCKETS,\n",
    "    global_emb_size = GLOBAL_EMBEDDING_SIZE,\n",
    "    mv_emb_size = MV_EMBEDDING_SIZE,\n",
    ")\n",
    "\n",
    "embs"
   ]
  },
  {
   "cell_type": "code",
   "execution_count": 23,
   "id": "42ebcddd-4f91-4bf8-9886-34f42219f37e",
   "metadata": {},
   "outputs": [
    {
     "name": "stdout",
     "output_type": "stream",
     "text": [
      "GLOBAL_DIM: 64\n"
     ]
    },
    {
     "data": {
      "text/plain": [
       "array([[ 0.02324566,  0.03847075,  0.0009382 ,  0.01037087, -0.0168501 ,\n",
       "         0.02229491, -0.00090174, -0.03733226,  0.04767699, -0.04324825,\n",
       "         0.03009412, -0.00325273,  0.00937269,  0.01162167,  0.04858048,\n",
       "        -0.03228705, -0.00880662,  0.00480435,  0.0266616 , -0.01046257,\n",
       "        -0.01173887, -0.04642478,  0.0118764 , -0.03422302,  0.0312058 ,\n",
       "        -0.02052242,  0.00459113, -0.0279305 , -0.00947496, -0.00711267,\n",
       "         0.04388683, -0.02854126, -0.02312779, -0.04988689,  0.03593904,\n",
       "        -0.02224693, -0.01872089,  0.0384705 ,  0.0432454 ,  0.01695739,\n",
       "        -0.02577996, -0.01301978, -0.01603407,  0.02314747, -0.01779956,\n",
       "         0.03170073,  0.00098064, -0.0470944 , -0.02522329,  0.01904691,\n",
       "         0.00721593,  0.0179752 ,  0.00104992,  0.00527094, -0.04577625,\n",
       "        -0.02623909, -0.04071148, -0.01163318, -0.02864906, -0.00920088,\n",
       "        -0.00450635, -0.0427685 ,  0.04297205,  0.04952253]],\n",
       "      dtype=float32)"
      ]
     },
     "execution_count": 23,
     "metadata": {},
     "output_type": "execute_result"
    }
   ],
   "source": [
    "test_globals = embs._get_global_context_features(data)\n",
    " \n",
    "GLOBAL_DIM = test_globals.shape[1]   \n",
    "\n",
    "# test_globals = embs._get_global_context_features_v2(data)\n",
    "# GLOBAL_DIM, _ = test_globals #.shape[1]  \n",
    "# GLOBAL_DIM = GLOBAL_DIM.shape[1]\n",
    "\n",
    "print(f\"GLOBAL_DIM: {GLOBAL_DIM}\")\n",
    "test_globals"
   ]
  },
  {
   "cell_type": "code",
   "execution_count": 24,
   "id": "6a4becf4-0884-4879-9a64-af3f4e82d27e",
   "metadata": {},
   "outputs": [
    {
     "name": "stdout",
     "output_type": "stream",
     "text": [
      "PER_ARM_DIM: 64\n"
     ]
    },
    {
     "data": {
      "text/plain": [
       "array([[ 0.02343505,  0.0119458 ,  0.02910166, -0.03252503,  0.00803228,\n",
       "         0.03554758,  0.01453496, -0.01542882, -0.01640511, -0.03279047,\n",
       "         0.01140917, -0.03903098,  0.03479561,  0.0006261 ,  0.01132431,\n",
       "         0.0158616 , -0.0487823 ,  0.04276118,  0.01437578,  0.02662202,\n",
       "         0.01141692,  0.03396836,  0.04457219,  0.01392839, -0.04691635,\n",
       "         0.01952115,  0.00976838,  0.04489179,  0.04724428, -0.02655888,\n",
       "         0.04153249, -0.00589923,  0.01623068,  0.00170443, -0.00777126,\n",
       "        -0.0101654 ,  0.01170176, -0.01047592, -0.04902004,  0.01853789,\n",
       "        -0.04450876,  0.0009967 , -0.01994429,  0.02006539, -0.02091893,\n",
       "         0.01542037, -0.01819051, -0.03646524, -0.02382381,  0.01859686,\n",
       "         0.03186891,  0.01153149, -0.03137907, -0.01640514,  0.01935514,\n",
       "        -0.03642275, -0.02170839, -0.04142233,  0.01269498, -0.0153484 ,\n",
       "        -0.01838543, -0.00584408, -0.01540409,  0.03383145]],\n",
       "      dtype=float32)"
      ]
     },
     "execution_count": 24,
     "metadata": {},
     "output_type": "execute_result"
    }
   ],
   "source": [
    "test_arms = embs._get_per_arm_features(data)\n",
    "\n",
    "PER_ARM_DIM = test_arms.shape[1]            \n",
    "# shape checks out at batch_dim, nactions, arm feats\n",
    "print(f\"PER_ARM_DIM: {PER_ARM_DIM}\")\n",
    "\n",
    "test_arms"
   ]
  },
  {
   "cell_type": "markdown",
   "id": "62d464ee-07ab-4119-b6c3-3d13bfe4980f",
   "metadata": {},
   "source": [
    "### Create a moive lookup Table"
   ]
  },
  {
   "cell_type": "code",
   "execution_count": 25,
   "id": "f950a2ac-9857-46f4-9ed8-b09afc12a9fc",
   "metadata": {},
   "outputs": [],
   "source": [
    "movie_lookup_table = {\n",
    "    'id': [],\n",
    "    'movie_features': [],\n",
    "    # 'movie_title': [],\n",
    "    'movie_genres': []\n",
    "}\n",
    "    \n",
    "iterator = iter(train_dataset.batch(1000))\n",
    "\n",
    "for data in iterator:\n",
    "    embs._get_per_arm_features(data)\n",
    "    movie_lookup_table['id'].extend(data['movie_id'].numpy())\n",
    "    # movie_lookup_table['movie_title'].extend(data['movie_title'].numpy())\n",
    "    movie_lookup_table['movie_genres'].extend(data['movie_genres'].numpy())\n",
    "    movie_lookup_table['movie_features'].extend(embs._get_per_arm_features(data))\n",
    "    \n",
    "#fix string ids to integers for random lookup later\n",
    "movie_lookup_table['id'] = [int(x) for x in movie_lookup_table['id']]"
   ]
  },
  {
   "cell_type": "code",
   "execution_count": 26,
   "id": "513a50ba-cf50-4549-90c6-9429ebfcec3d",
   "metadata": {},
   "outputs": [],
   "source": [
    "movie_lookup_table = pd.DataFrame(movie_lookup_table)\n",
    "movie_lookup_table.set_index(['id'])\n",
    "\n",
    "unique_table = movie_lookup_table.groupby(['id'])[\n",
    "    [\n",
    "        'movie_features', \n",
    "        # 'movie_title', \n",
    "        'movie_genres'\n",
    "    ]\n",
    "].first().reset_index() #resetting index to get consecutive counts from min-max (no gaps)\n",
    "# unique_table = unique_table['movie_features']\n",
    "MAX_ARM_ID = len(unique_table)-1\n",
    "MIN_ARM_ID = 0\n",
    "\n",
    "# unique_table\n",
    "# print(f\"Max movie id is: {MAX_ARM_ID} \\nMin movie id is: {MIN_ARM_ID}\")"
   ]
  },
  {
   "cell_type": "code",
   "execution_count": 27,
   "id": "9eb3338d-3882-4377-8c79-e4fa58345173",
   "metadata": {},
   "outputs": [
    {
     "data": {
      "text/plain": [
       "array([ 0.02495834, -0.01222584,  0.02913784,  0.00382224, -0.00345637,\n",
       "       -0.02219919,  0.03300631,  0.02205736, -0.03309649, -0.02158695,\n",
       "        0.04930801, -0.00045602, -0.00740384,  0.04815162,  0.00566232,\n",
       "       -0.01206527, -0.04011983,  0.00283178,  0.03639659, -0.04393387,\n",
       "        0.02940616,  0.02252943, -0.04776486, -0.00800429,  0.02306003,\n",
       "        0.03619469, -0.02831327, -0.01686976,  0.04269502, -0.02647526,\n",
       "        0.00538781,  0.04991165,  0.02267591,  0.01639385, -0.02517967,\n",
       "        0.01744567, -0.03633409, -0.01866313,  0.01826422,  0.04594373,\n",
       "        0.01793351, -0.04969008,  0.03802439, -0.00140975,  0.02682305,\n",
       "       -0.0081509 , -0.0046325 ,  0.01475661,  0.03066139, -0.0255517 ,\n",
       "        0.00646546,  0.00037592, -0.0198789 ,  0.0383074 , -0.04167994,\n",
       "       -0.00177239, -0.01200641, -0.00897124,  0.03143324, -0.03409   ,\n",
       "       -0.01962967, -0.0414306 , -0.04632906,  0.00900277], dtype=float32)"
      ]
     },
     "execution_count": 27,
     "metadata": {},
     "output_type": "execute_result"
    }
   ],
   "source": [
    "unique_table.iloc[2,:]['movie_features'] #example of getting a ra movie"
   ]
  },
  {
   "cell_type": "code",
   "execution_count": 28,
   "id": "ba191f58-8414-4654-896f-41ac0874f479",
   "metadata": {},
   "outputs": [
    {
     "data": {
      "text/plain": [
       "(<tf.Tensor: shape=(1, 64), dtype=float32, numpy=\n",
       " array([[ 0.02758646, -0.02364726,  0.00326383, -0.00670724, -0.02581365,\n",
       "          0.02811625, -0.02409014,  0.02277763,  0.03388413,  0.01355955,\n",
       "         -0.04816724, -0.04114227,  0.01485746,  0.01675477,  0.02701057,\n",
       "         -0.018884  ,  0.00393082, -0.01786947,  0.01814145,  0.00791826,\n",
       "         -0.03671928,  0.02370023, -0.03795796,  0.00273353,  0.01422632,\n",
       "          0.00815446,  0.03875173, -0.00820974,  0.03643649, -0.04565177,\n",
       "         -0.01958307, -0.00754724,  0.01623068,  0.00170443, -0.00777126,\n",
       "         -0.0101654 ,  0.01170176, -0.01047592, -0.04902004,  0.01853789,\n",
       "         -0.04450876,  0.0009967 , -0.01994429,  0.02006539, -0.02091893,\n",
       "          0.01542037, -0.01819051, -0.03646524, -0.02382381,  0.01859686,\n",
       "          0.03186891,  0.01153149, -0.03137907, -0.01640514,  0.01935514,\n",
       "         -0.03642275, -0.02170839, -0.04142233,  0.01269498, -0.0153484 ,\n",
       "         -0.01838543, -0.00584408, -0.01540409,  0.03383145]],\n",
       "       dtype=float32)>,\n",
       " [array([7])])"
      ]
     },
     "execution_count": 28,
     "metadata": {},
     "output_type": "execute_result"
    }
   ],
   "source": [
    "def get_random_arm_features(movie_id):\n",
    "    movie_info = unique_table.iloc[movie_id]\n",
    "    tensor = tf.constant(movie_info['movie_features'], dtype=tf.float32)\n",
    "    return tf.reshape(tensor, [1, tensor.shape[0]]), [movie_info['movie_genres']],\n",
    "                                                     # movie_info['movie_genres']]\n",
    "\n",
    "get_random_arm_features(222)"
   ]
  },
  {
   "cell_type": "code",
   "execution_count": 29,
   "id": "329290a7-1b06-4f28-886f-34c7e496d680",
   "metadata": {},
   "outputs": [],
   "source": [
    "def get_random_set_of_arm_features(n_actions):\n",
    "    random_arm_ids = list(np.random.randint(MIN_ARM_ID, MAX_ARM_ID, n_actions))\n",
    "    features = [get_random_arm_features(x) for x in random_arm_ids]\n",
    "    just_features = [x[0] for x in features]\n",
    "    movie_info = [x[1] for x in features]\n",
    "    return tf.concat(just_features, axis=0), movie_info"
   ]
  },
  {
   "cell_type": "code",
   "execution_count": 30,
   "id": "9b9ccc9b-49c0-42c7-9436-c0a5178a63a2",
   "metadata": {},
   "outputs": [
    {
     "data": {
      "text/plain": [
       "<tf.Tensor: shape=(2, 64), dtype=float32, numpy=\n",
       "array([[ 0.03378742,  0.01706399,  0.03097352, -0.03447683,  0.00684074,\n",
       "        -0.02467006, -0.03587176, -0.00194854,  0.00817044,  0.00660542,\n",
       "         0.02049113,  0.02787698, -0.01884164,  0.0250637 , -0.02671324,\n",
       "         0.00575078,  0.00014221,  0.02990893, -0.01085119, -0.03606417,\n",
       "         0.02069755, -0.02867526,  0.03644859,  0.02053731, -0.03130388,\n",
       "         0.02352465,  0.04758057, -0.02958646, -0.02110904, -0.02467135,\n",
       "        -0.04586595,  0.00947623,  0.03001981,  0.02514908,  0.03943818,\n",
       "         0.03974951, -0.02048717,  0.00589327, -0.01928915, -0.01875315,\n",
       "         0.03245391,  0.02953072, -0.01104504, -0.04738101, -0.01941533,\n",
       "        -0.03232567, -0.04955465,  0.04904519, -0.01213044,  0.01257041,\n",
       "         0.0311668 , -0.03899008, -0.0284349 ,  0.02622536,  0.02824564,\n",
       "         0.00210474,  0.03348925, -0.00880535,  0.04751078,  0.03034684,\n",
       "         0.02982635, -0.00188724, -0.0043234 , -0.0364937 ],\n",
       "       [ 0.00172817,  0.01529957,  0.03815719,  0.00257808,  0.00235979,\n",
       "         0.01648862,  0.0487544 , -0.01878456,  0.01096349,  0.00662468,\n",
       "         0.00970044, -0.04433699, -0.04931436, -0.04127917, -0.01287106,\n",
       "         0.0432303 ,  0.02469137, -0.03563502, -0.0017385 ,  0.01963843,\n",
       "        -0.02953632, -0.00357578, -0.00098377,  0.0429565 , -0.01179807,\n",
       "        -0.01143935,  0.04759617, -0.0277766 ,  0.00683711, -0.03661916,\n",
       "        -0.02201967, -0.03742575,  0.01623068,  0.00170443, -0.00777126,\n",
       "        -0.0101654 ,  0.01170176, -0.01047592, -0.04902004,  0.01853789,\n",
       "        -0.04450876,  0.0009967 , -0.01994429,  0.02006539, -0.02091893,\n",
       "         0.01542037, -0.01819051, -0.03646524, -0.02382381,  0.01859686,\n",
       "         0.03186891,  0.01153149, -0.03137907, -0.01640514,  0.01935514,\n",
       "        -0.03642275, -0.02170839, -0.04142233,  0.01269498, -0.0153484 ,\n",
       "        -0.01838543, -0.00584408, -0.01540409,  0.03383145]],\n",
       "      dtype=float32)>"
      ]
     },
     "execution_count": 30,
     "metadata": {},
     "output_type": "execute_result"
    }
   ],
   "source": [
    "#NEW - there's a tuple returned with the movies we will use for PALM!\n",
    "get_random_set_of_arm_features(n_actions=2)[0]"
   ]
  },
  {
   "cell_type": "code",
   "execution_count": 31,
   "id": "d2dfa60c-b133-422b-be44-1e4457fb9c72",
   "metadata": {},
   "outputs": [],
   "source": [
    "# ### Look at the raw input features to format a good prompt for ranking movies\n",
    "# NUM_ACTIONS = 5\n",
    "# batch_size = 8\n",
    "# iterator = iter(train_dataset.batch(batch_size))\n",
    "# data = next(iterator)\n",
    "\n",
    "# _, user_info = embs._get_global_context_features_v2(data)\n",
    "# ###NEW - we are getting the arm features here\n",
    "# _, movie_info = get_random_set_of_arm_features(n_actions=NUM_ACTIONS)\n",
    "\n",
    "# print(user_info, movie_info)"
   ]
  },
  {
   "cell_type": "code",
   "execution_count": 32,
   "id": "24f9d01b-d4f3-401f-8d00-b8e828bd0ddc",
   "metadata": {},
   "outputs": [
    {
     "data": {
      "text/plain": [
       "'Wed Jan 21 19:05:15 1998'"
      ]
     },
     "execution_count": 32,
     "metadata": {},
     "output_type": "execute_result"
    }
   ],
   "source": [
    "from datetime import datetime\n",
    "dt = datetime.utcfromtimestamp(885409515)\n",
    "dt.ctime()"
   ]
  },
  {
   "cell_type": "code",
   "execution_count": 33,
   "id": "db939986-df81-40ef-bbf4-49e6262d1349",
   "metadata": {},
   "outputs": [],
   "source": [
    "# movie_info"
   ]
  },
  {
   "cell_type": "markdown",
   "id": "9b54e1a2-daf0-4da6-97e9-62bb2c521652",
   "metadata": {},
   "source": [
    "## Ranking Bandit"
   ]
  },
  {
   "cell_type": "code",
   "execution_count": 32,
   "id": "1c209cd0-3e99-47dd-8cf6-069250024747",
   "metadata": {},
   "outputs": [
    {
     "name": "stdout",
     "output_type": "stream",
     "text": [
      "BATCH_SIZE      : 128\n",
      "EVAL_BATCH_SIZE : 1\n",
      "NUM_ACTIONS     : 2\n",
      "GLOBAL_DIM      : 64\n",
      "PER_ARM_DIM     : 64\n"
     ]
    }
   ],
   "source": [
    "BATCH_SIZE      = 128\n",
    "EVAL_BATCH_SIZE = 1\n",
    "\n",
    "NUM_ACTIONS = 2\n",
    "NUM_ITEMS  = 50\n",
    "NUM_SLOTS  = 3 \n",
    "\n",
    "print(f\"BATCH_SIZE      : {BATCH_SIZE}\")\n",
    "print(f\"EVAL_BATCH_SIZE : {EVAL_BATCH_SIZE}\")\n",
    "print(f\"NUM_ACTIONS     : {NUM_ACTIONS}\")\n",
    "print(f\"GLOBAL_DIM      : {GLOBAL_DIM}\")\n",
    "print(f\"PER_ARM_DIM     : {PER_ARM_DIM}\")"
   ]
  },
  {
   "cell_type": "markdown",
   "id": "13a47d2f-81c7-422c-8835-476d04617b66",
   "metadata": {},
   "source": [
    "## specs"
   ]
  },
  {
   "cell_type": "markdown",
   "id": "a7328484-bb4f-44cb-916d-a87bd4862ff5",
   "metadata": {},
   "source": [
    "### Observation Spec\n",
    "\n",
    "**example config:**\n",
    "```\n",
    "global_dim = 9  #@param{ type: \"integer\"}\n",
    "item_dim   = 11  #@param{ type: \"integer\"}\n",
    "num_items  = 50 #@param{ type: \"integer\"}\n",
    "num_slots  = 3  #@param{ type: \"integer\"}\n",
    "```\n",
    "**example obs sepc:**\n",
    "\n",
    "```\n",
    "{'global': TensorSpec(shape=(9,), dtype=tf.float32, name=None),\n",
    " 'per_arm': TensorSpec(shape=(50, 11), dtype=tf.float32, name=None)}\n",
    " ```"
   ]
  },
  {
   "cell_type": "code",
   "execution_count": 33,
   "id": "d2d296f6-1587-486a-a143-8ec69aae97a8",
   "metadata": {},
   "outputs": [
    {
     "data": {
      "text/plain": [
       "{'global': TensorSpec(shape=(64,), dtype=tf.float32, name=None),\n",
       " 'per_arm': TensorSpec(shape=(2, 64), dtype=tf.float32, name=None)}"
      ]
     },
     "execution_count": 33,
     "metadata": {},
     "output_type": "execute_result"
    }
   ],
   "source": [
    "observation_spec = {\n",
    "    'global': tf.TensorSpec([GLOBAL_DIM], tf.float32),\n",
    "    'per_arm': tf.TensorSpec([NUM_ACTIONS, PER_ARM_DIM], tf.float32) #excluding action dim here\n",
    "}\n",
    "observation_spec"
   ]
  },
  {
   "cell_type": "markdown",
   "id": "a2e88b4e-79f9-4a5a-8ba1-af28201fd01d",
   "metadata": {},
   "source": [
    "### Action Spec\n",
    "\n",
    "```\n",
    "BoundedTensorSpec(shape=(3,), dtype=tf.int32, name='action', minimum=array(0, dtype=int32), maximum=array(49, dtype=int32))\n",
    "\n",
    "```"
   ]
  },
  {
   "cell_type": "code",
   "execution_count": 34,
   "id": "d6304e73-7101-4cf8-92e6-fb2770e6de27",
   "metadata": {},
   "outputs": [
    {
     "data": {
      "text/plain": [
       "BoundedTensorSpec(shape=(), dtype=tf.int32, name='action_spec', minimum=array(0, dtype=int32), maximum=array(2, dtype=int32))"
      ]
     },
     "execution_count": 34,
     "metadata": {},
     "output_type": "execute_result"
    }
   ],
   "source": [
    "action_spec = tensor_spec.BoundedTensorSpec(\n",
    "    shape=[], \n",
    "    dtype=tf.int32,\n",
    "    minimum=tf.constant(0),            \n",
    "    maximum=NUM_SLOTS-1, # n degrees of freedom and will dictate the expected mean reward spec shape\n",
    "    name=\"action_spec\"\n",
    ")\n",
    "\n",
    "action_spec"
   ]
  },
  {
   "cell_type": "markdown",
   "id": "7bb4f836-ef3f-479b-8923-eb5f75dead56",
   "metadata": {},
   "source": [
    "### TimeStep Spec\n",
    "\n",
    "```\n",
    "TimeStep(\n",
    "{'discount': BoundedTensorSpec(shape=(), dtype=tf.float32, name='discount', minimum=array(0., dtype=float32), maximum=array(1., dtype=float32)),\n",
    " 'observation': {'global': TensorSpec(shape=(9,), dtype=tf.float32, name=None),\n",
    "                 'per_arm': TensorSpec(shape=(50, 11), dtype=tf.float32, name=None)},\n",
    " 'reward': {'chosen_index': BoundedTensorSpec(shape=(), dtype=tf.int32, name='chosen_index', minimum=array(0, dtype=int32), maximum=array(3, dtype=int32)),\n",
    "            'chosen_value': TensorSpec(shape=(), dtype=tf.float32, name='chosen_value')},\n",
    " 'step_type': TensorSpec(shape=(), dtype=tf.int32, name='step_type')})\n",
    " ```"
   ]
  },
  {
   "cell_type": "code",
   "execution_count": 35,
   "id": "1d29187a-f262-48bb-8b92-bca02fc1c155",
   "metadata": {},
   "outputs": [
    {
     "data": {
      "text/plain": [
       "TimeStep(\n",
       "{'discount': BoundedTensorSpec(shape=(), dtype=tf.float32, name='discount', minimum=array(0., dtype=float32), maximum=array(1., dtype=float32)),\n",
       " 'observation': {'global': TensorSpec(shape=(64,), dtype=tf.float32, name=None),\n",
       "                 'per_arm': TensorSpec(shape=(2, 64), dtype=tf.float32, name=None)},\n",
       " 'reward': TensorSpec(shape=(), dtype=tf.float32, name='reward'),\n",
       " 'step_type': TensorSpec(shape=(), dtype=tf.int32, name='step_type')})"
      ]
     },
     "execution_count": 35,
     "metadata": {},
     "output_type": "execute_result"
    }
   ],
   "source": [
    "time_step_spec = ts.time_step_spec(observation_spec)#, reward_spec=tf.TensorSpec([1, NUM_ACTIONS]))\n",
    "time_step_spec"
   ]
  },
  {
   "cell_type": "code",
   "execution_count": null,
   "id": "b5e6729f-dda4-43db-a639-d2c01df902c6",
   "metadata": {},
   "outputs": [],
   "source": [
    "feedback_model = ranking_environment.FeedbackModel"
   ]
  },
  {
   "cell_type": "code",
   "execution_count": null,
   "id": "06655962-6239-4ea1-b24c-72f1fd21faef",
   "metadata": {},
   "outputs": [],
   "source": []
  },
  {
   "cell_type": "code",
   "execution_count": null,
   "id": "fbdcafb1-90cd-4383-a386-17fce005ade0",
   "metadata": {},
   "outputs": [],
   "source": [
    "from src.perarm_features import ranking_bandit_policy\n",
    "# policy = ranking_bandit_policy.GenLinearRankingBanditPolicy("
   ]
  },
  {
   "cell_type": "code",
   "execution_count": null,
   "id": "341894e4-85fd-4b72-a9ed-64cbba150480",
   "metadata": {},
   "outputs": [],
   "source": [
    "from src.perarm_features import agent_factory as agent_factory\n",
    "ranking_bandit_agent = agent_factory.GenLinearRankingBanditAgent(XXX)"
   ]
  },
  {
   "cell_type": "code",
   "execution_count": null,
   "id": "bb694d9b-4d90-4644-9231-23dd9eb4dbf3",
   "metadata": {},
   "outputs": [],
   "source": []
  },
  {
   "cell_type": "code",
   "execution_count": null,
   "id": "da61e837-0482-4cd6-b36e-22404ba732ad",
   "metadata": {},
   "outputs": [],
   "source": []
  },
  {
   "cell_type": "code",
   "execution_count": null,
   "id": "e7661cad-e3cd-45dd-a435-551cec2fe2de",
   "metadata": {},
   "outputs": [],
   "source": []
  },
  {
   "cell_type": "code",
   "execution_count": null,
   "id": "7ea60997-803c-41f2-8f7a-db22b88785ba",
   "metadata": {},
   "outputs": [],
   "source": []
  },
  {
   "cell_type": "code",
   "execution_count": null,
   "id": "7a0dbd2e-0f00-495b-a487-b68b5d9e3821",
   "metadata": {},
   "outputs": [],
   "source": []
  },
  {
   "cell_type": "code",
   "execution_count": null,
   "id": "59da27af-157f-4adb-97b9-b4967d825b4c",
   "metadata": {},
   "outputs": [],
   "source": []
  },
  {
   "cell_type": "code",
   "execution_count": null,
   "id": "21e35cee-b0ee-4067-885e-144ad9c2554f",
   "metadata": {},
   "outputs": [],
   "source": []
  },
  {
   "cell_type": "code",
   "execution_count": null,
   "id": "c0f44b94-998c-43c2-b1c4-1443a5083ea4",
   "metadata": {},
   "outputs": [],
   "source": []
  },
  {
   "cell_type": "code",
   "execution_count": null,
   "id": "907c1573-cccd-422f-911e-06c5cb8e6ae9",
   "metadata": {},
   "outputs": [],
   "source": []
  }
 ],
 "metadata": {
  "environment": {
   "kernel": "python3",
   "name": "tf2-gpu.2-11.m109",
   "type": "gcloud",
   "uri": "gcr.io/deeplearning-platform-release/tf2-gpu.2-11:m109"
  },
  "kernelspec": {
   "display_name": "Python 3",
   "language": "python",
   "name": "python3"
  },
  "language_info": {
   "codemirror_mode": {
    "name": "ipython",
    "version": 3
   },
   "file_extension": ".py",
   "mimetype": "text/x-python",
   "name": "python",
   "nbconvert_exporter": "python",
   "pygments_lexer": "ipython3",
   "version": "3.10.11"
  }
 },
 "nbformat": 4,
 "nbformat_minor": 5
}
