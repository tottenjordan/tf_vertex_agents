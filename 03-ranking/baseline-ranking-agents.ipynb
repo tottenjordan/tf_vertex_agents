{
 "cells": [
  {
   "cell_type": "markdown",
   "id": "f462e3ae-0544-4a09-8345-01fc822192f0",
   "metadata": {},
   "source": [
    "# Contextual Bandits for Ranking with TF-Agents\n",
    "\n",
    "> see [ranking tutorial](https://www.tensorflow.org/agents/tutorials/ranking_tutorial)"
   ]
  },
  {
   "cell_type": "markdown",
   "id": "214b2409-ca72-4a2f-972b-32185fbf441c",
   "metadata": {},
   "source": [
    "### Overview\n",
    "\n",
    "* The contextual bandits approach is classified as an extension of multi-armed bandits\n",
    "* a contextual multi-armed banded problem is a simplified reinforcement learning algorithm where the agent takes an action from a set of possible actions \n",
    "\n",
    "> **TODO**\n",
    "\n",
    "The **Bandit Ranking** agent will be similar to the `NeuralEpsilonGreedy` agent. Main differences:\n",
    "\n",
    "* The item features are stored in the `per_arm` part of the observation, in the order of how they are recommended\n",
    "* Since this ordered list of items expresses what action was taken by the policy,\n",
    "the `action` value of the trajectory is not used by the agent.\n",
    "\n",
    "> Note: difference between the \"per-arm\" observation recieved by the policy vs the agent:\n",
    "\n",
    "While the agent receives the items in the recommendation slots, the policy receives the items that are available for recommendation. The user is responsible for converting the observation to the\n",
    "syntax required by the agent.\n",
    "\n",
    "\n",
    "The training observation contains the global features and the features of the items in the recommendation slots \n",
    "* The item features are stored in the `per_arm` part of the observation, in the order of how they are recommended\n",
    "* Note: since this ordered list of items expresses what action was taken by the policy, the action value of the trajectory is not used by the agent"
   ]
  },
  {
   "cell_type": "markdown",
   "id": "ce53b012-c8db-4874-90bc-e13ac83fae19",
   "metadata": {},
   "source": [
    "## Load notebook config\n",
    "\n",
    "* use the prefix defined in `00-env-setup`"
   ]
  },
  {
   "cell_type": "code",
   "execution_count": 1,
   "id": "056b54b6-79d5-4ed6-b94a-6a776fc7db36",
   "metadata": {},
   "outputs": [
    {
     "name": "stdout",
     "output_type": "stream",
     "text": [
      "PREFIX: rec-bandits-v1\n"
     ]
    }
   ],
   "source": [
    "VERSION        = \"v1\"                       # TODO\n",
    "PREFIX         = f'rec-bandits-{VERSION}'   # TODO\n",
    "\n",
    "# PREFIX = 'mabv1'\n",
    "\n",
    "print(f\"PREFIX: {PREFIX}\")"
   ]
  },
  {
   "cell_type": "code",
   "execution_count": 2,
   "id": "2d3596a1-670b-4974-b643-2079a5db0afa",
   "metadata": {},
   "outputs": [
    {
     "name": "stdout",
     "output_type": "stream",
     "text": [
      "\n",
      "PROJECT_ID               = \"hybrid-vertex\"\n",
      "PROJECT_NUM              = \"934903580331\"\n",
      "LOCATION                 = \"us-central1\"\n",
      "\n",
      "REGION                   = \"us-central1\"\n",
      "BQ_LOCATION              = \"US\"\n",
      "VPC_NETWORK_NAME         = \"ucaip-haystack-vpc-network\"\n",
      "\n",
      "VERTEX_SA                = \"934903580331-compute@developer.gserviceaccount.com\"\n",
      "\n",
      "PREFIX                   = \"rec-bandits-v1\"\n",
      "VERSION                  = \"v1\"\n",
      "\n",
      "BUCKET_NAME              = \"rec-bandits-v1-hybrid-vertex-bucket\"\n",
      "BUCKET_URI               = \"gs://rec-bandits-v1-hybrid-vertex-bucket\"\n",
      "DATA_GCS_PREFIX          = \"data\"\n",
      "DATA_PATH                = \"gs://rec-bandits-v1-hybrid-vertex-bucket/data\"\n",
      "VOCAB_SUBDIR             = \"vocabs\"\n",
      "VOCAB_FILENAME           = \"vocab_dict.pkl\"\n",
      "\n",
      "VPC_NETWORK_FULL         = \"projects/934903580331/global/networks/ucaip-haystack-vpc-network\"\n",
      "\n",
      "BIGQUERY_DATASET_ID      = \"hybrid_vertex.movielens_ds_rec_bandits_v1\"\n",
      "BIGQUERY_TABLE_ID        = \"hybrid_vertex.movielens_ds_rec_bandits_v1.training_dataset\"\n",
      "\n",
      "REPO_DOCKER_PATH_PREFIX  = \"src\"\n",
      "RL_SUB_DIR               = \"per_arm_rl\"\n",
      "\n",
      "REPOSITORY               = \"rl-movielens-rec-bandits-v1\"\n",
      "IMAGE_NAME               = \"train-perarm-feats-v1\"\n",
      "REMOTE_IMAGE_NAME        = \"us-central1-docker.pkg.dev/hybrid-vertex/rl-movielens-rec-bandits-v1/train-perarm-feats-v1\"\n",
      "DOCKERNAME               = \"Dockerfile_perarm_feats\"\n",
      "\n"
     ]
    }
   ],
   "source": [
    "# staging GCS\n",
    "GCP_PROJECTS             = !gcloud config get-value project\n",
    "PROJECT_ID               = GCP_PROJECTS[0]\n",
    "\n",
    "# GCS bucket and paths\n",
    "BUCKET_NAME              = f'{PREFIX}-{PROJECT_ID}-bucket'\n",
    "BUCKET_URI               = f'gs://{BUCKET_NAME}'\n",
    "\n",
    "config = !gsutil cat {BUCKET_URI}/config/notebook_env.py\n",
    "print(config.n)\n",
    "exec(config.n)"
   ]
  },
  {
   "cell_type": "markdown",
   "id": "940507dd-369b-4b93-a0c5-4b2d0e079269",
   "metadata": {},
   "source": [
    "## imports"
   ]
  },
  {
   "cell_type": "code",
   "execution_count": 3,
   "id": "d4fec363-3a69-4fc6-ab38-706230fba418",
   "metadata": {},
   "outputs": [],
   "source": [
    "import os\n",
    "os.environ['TF_CPP_MIN_LOG_LEVEL'] = '2'"
   ]
  },
  {
   "cell_type": "code",
   "execution_count": 4,
   "id": "70e611f2-2d75-4b8d-9c9b-3b4421f8e04e",
   "metadata": {},
   "outputs": [
    {
     "name": "stdout",
     "output_type": "stream",
     "text": [
      "/home/jupyter/tf_vertex_agents/03-ranking\n"
     ]
    }
   ],
   "source": [
    "!pwd"
   ]
  },
  {
   "cell_type": "code",
   "execution_count": 5,
   "id": "93b706f8-8739-426b-b3c0-49c5ae2163f1",
   "metadata": {},
   "outputs": [],
   "source": [
    "import functools\n",
    "from collections import defaultdict\n",
    "from typing import Callable, Dict, List, Optional, TypeVar, Iterable\n",
    "from datetime import datetime\n",
    "import time\n",
    "from pprint import pprint\n",
    "import pickle as pkl\n",
    "import pandas as pd\n",
    "\n",
    "from tqdm import tqdm\n",
    "\n",
    "# logging\n",
    "import logging\n",
    "logging.disable(logging.WARNING)\n",
    "\n",
    "import matplotlib.pyplot as plt\n",
    "import numpy as np\n",
    "\n",
    "# google cloud\n",
    "from google.cloud import aiplatform, storage\n",
    "\n",
    "# tensorflow\n",
    "import tensorflow as tf\n",
    "# from tf_agents.agents import TFAgent\n",
    "\n",
    "# from tf_agents.bandits.environments import stationary_stochastic_per_arm_py_environment as p_a_env\n",
    "from tf_agents.bandits.metrics import tf_metrics as tf_bandit_metrics\n",
    "# from tf_agents.drivers import dynamic_step_driver\n",
    "# from tf_agents.environments import tf_py_environment\n",
    "from tf_agents.replay_buffers import tf_uniform_replay_buffer\n",
    "from tf_agents.specs import tensor_spec\n",
    "from tf_agents.trajectories import time_step as ts\n",
    "\n",
    "# from tf_agents.bandits.agents import lin_ucb_agent\n",
    "# from tf_agents.bandits.agents import linear_thompson_sampling_agent as lin_ts_agent\n",
    "from tf_agents.bandits.agents import neural_epsilon_greedy_agent\n",
    "from tf_agents.bandits.agents import neural_linucb_agent\n",
    "from tf_agents.bandits.networks import global_and_arm_feature_network\n",
    "from tf_agents.bandits.policies import policy_utilities\n",
    "\n",
    "from tf_agents.bandits.specs import utils as bandit_spec_utils\n",
    "from tf_agents.trajectories import trajectory\n",
    "from tf_agents.bandits.environments import ranking_environment\n",
    "from tf_agents.bandits.agents import ranking_agent\n",
    "\n",
    "# GPU\n",
    "from numba import cuda \n",
    "import gc\n",
    "\n",
    "import sys\n",
    "sys.path.append(\"..\")\n",
    "\n",
    "# this repo\n",
    "from src.per_arm_rl import data_utils\n",
    "from src.per_arm_rl import data_config\n",
    "from src.per_arm_rl import train_utils as train_utils\n",
    "\n",
    "# tf exceptions and vars\n",
    "if tf.__version__[0] != \"2\":\n",
    "    raise Exception(\"The trainer only runs with TensorFlow version 2.\")\n",
    "\n",
    "T = TypeVar(\"T\")"
   ]
  },
  {
   "cell_type": "code",
   "execution_count": 6,
   "id": "c5bc92e4-dac3-468e-a0f5-26d48ec63620",
   "metadata": {},
   "outputs": [
    {
     "name": "stdout",
     "output_type": "stream",
     "text": [
      "Num GPUs Available:  1\n"
     ]
    }
   ],
   "source": [
    "print(\"Num GPUs Available: \", len(tf.config.list_physical_devices('GPU')))"
   ]
  },
  {
   "cell_type": "code",
   "execution_count": 7,
   "id": "1d4c0818-64e0-4629-a9d8-2fed58a7086f",
   "metadata": {},
   "outputs": [
    {
     "data": {
      "text/plain": [
       "14"
      ]
     },
     "execution_count": 7,
     "metadata": {},
     "output_type": "execute_result"
    }
   ],
   "source": [
    "device = cuda.get_current_device()\n",
    "device.reset()\n",
    "gc.collect()"
   ]
  },
  {
   "cell_type": "code",
   "execution_count": 8,
   "id": "28167f0d-5870-40bb-ba1e-b4a2cc4bd7d6",
   "metadata": {},
   "outputs": [],
   "source": [
    "# cloud storage client\n",
    "storage_client = storage.Client(project=PROJECT_ID)\n",
    "\n",
    "# Vertex client\n",
    "aiplatform.init(project=PROJECT_ID, location=LOCATION)"
   ]
  },
  {
   "cell_type": "markdown",
   "id": "64b249f6-2e74-4e2a-bf04-be4bfd0732bd",
   "metadata": {},
   "source": [
    "# Data prep"
   ]
  },
  {
   "cell_type": "code",
   "execution_count": 10,
   "id": "4c726bc2-ff41-41b0-9671-113a499e55d5",
   "metadata": {},
   "outputs": [],
   "source": [
    "options = tf.data.Options()\n",
    "options.experimental_distribute.auto_shard_policy = tf.data.experimental.AutoShardPolicy.AUTO"
   ]
  },
  {
   "cell_type": "code",
   "execution_count": 11,
   "id": "de644e7f-8a6b-4c64-858f-1618fc76e373",
   "metadata": {},
   "outputs": [
    {
     "name": "stdout",
     "output_type": "stream",
     "text": [
      "SPLIT: listwise-5n-val\n"
     ]
    }
   ],
   "source": [
    "NUM_EXAMPLES_PER_LIST = 5 # 3 | 5\n",
    "\n",
    "# SPLIT = \"val\"\n",
    "# SPLIT = \"listwise-val\"\n",
    "SPLIT = f\"listwise-{NUM_EXAMPLES_PER_LIST}n-val\"\n",
    "\n",
    "print(f\"SPLIT: {SPLIT}\")"
   ]
  },
  {
   "cell_type": "code",
   "execution_count": 12,
   "id": "56222181-f72a-4a9c-946e-5cd94ab40caf",
   "metadata": {},
   "outputs": [
    {
     "name": "stdout",
     "output_type": "stream",
     "text": [
      "gs://rec-bandits-v1-hybrid-vertex-bucket/data/listwise-5n-val/ml-100k-listwise-5n-val.tfrecord\n"
     ]
    }
   ],
   "source": [
    "! gsutil ls $BUCKET_URI/$DATA_GCS_PREFIX/$SPLIT/"
   ]
  },
  {
   "cell_type": "markdown",
   "id": "3b22408a-fbfc-4b56-8f4b-b12462329fd3",
   "metadata": {},
   "source": [
    "### Val"
   ]
  },
  {
   "cell_type": "code",
   "execution_count": 13,
   "id": "8afaa02e-5638-40a8-964e-e51b27d433d0",
   "metadata": {},
   "outputs": [
    {
     "name": "stdout",
     "output_type": "stream",
     "text": [
      "{'movie_genres': <tf.Tensor: shape=(5,), dtype=int64, numpy=array([ 3,  0,  0,  0, 19])>,\n",
      " 'movie_id': <tf.Tensor: shape=(5,), dtype=string, numpy=array([b'94', b'245', b'403', b'50', b'470'], dtype=object)>,\n",
      " 'user_id': <tf.Tensor: shape=(), dtype=string, numpy=b'346'>,\n",
      " 'user_rating': <tf.Tensor: shape=(5,), dtype=float32, numpy=array([3., 4., 3., 5., 3.], dtype=float32)>}\n"
     ]
    }
   ],
   "source": [
    "SPLIT = \"val\"\n",
    "# SPLIT = \"listwise-val\"\n",
    "SPLIT = f\"listwise-{NUM_EXAMPLES_PER_LIST}n-val\"\n",
    "\n",
    "val_files = []\n",
    "for blob in storage_client.list_blobs(f\"{BUCKET_NAME}\", prefix=f'{DATA_GCS_PREFIX}/{SPLIT}'):\n",
    "    if '.tfrecord' in blob.name:\n",
    "        val_files.append(blob.public_url.replace(\"https://storage.googleapis.com/\", \"gs://\"))\n",
    "        \n",
    "val_dataset = tf.data.TFRecordDataset(val_files)\n",
    "val_dataset = val_dataset.map(data_utils.parse_lw_tfrecord, num_parallel_calls=tf.data.AUTOTUNE)\n",
    "\n",
    "for example in val_dataset.take(1):\n",
    "    pprint(example)"
   ]
  },
  {
   "cell_type": "markdown",
   "id": "d46862c4-dcbb-4b2d-aa53-765204f79250",
   "metadata": {},
   "source": [
    "### Train"
   ]
  },
  {
   "cell_type": "code",
   "execution_count": 14,
   "id": "3e814c64-1c96-47fd-a0f4-4c56bb15e0b0",
   "metadata": {},
   "outputs": [],
   "source": [
    "# SPLIT = \"train\"\n",
    "# SPLIT = \"listwise-train\"\n",
    "# SPLIT = f\"listwise-{NUM_EXAMPLES_PER_LIST}n-train\"\n",
    "\n",
    "# train_files = []\n",
    "# for blob in storage_client.list_blobs(f\"{BUCKET_NAME}\", prefix=f'{DATA_GCS_PREFIX}/{SPLIT}'):\n",
    "#     if '.tfrecord' in blob.name:\n",
    "#         train_files.append(blob.public_url.replace(\"https://storage.googleapis.com/\", \"gs://\"))\n",
    "        \n",
    "# train_dataset = tf.data.TFRecordDataset(train_files)\n",
    "# train_dataset = train_dataset.map(data_utils.parse_lw_tfrecord)\n",
    "\n",
    "# for x in train_dataset.batch(1).take(1):\n",
    "#     pprint(x)"
   ]
  },
  {
   "cell_type": "code",
   "execution_count": 15,
   "id": "b6ca4675-7c73-49b5-8146-0e2966fd3cfc",
   "metadata": {},
   "outputs": [],
   "source": [
    "train_dataset = val_dataset"
   ]
  },
  {
   "cell_type": "markdown",
   "id": "9501973f-6c96-46ba-adaa-6d85450c1256",
   "metadata": {},
   "source": [
    "### Vocab"
   ]
  },
  {
   "cell_type": "code",
   "execution_count": 16,
   "id": "4099e809-1152-4b27-b4aa-bc627652e45e",
   "metadata": {},
   "outputs": [
    {
     "name": "stdout",
     "output_type": "stream",
     "text": [
      "GENERATE_VOCABS: False\n"
     ]
    }
   ],
   "source": [
    "GENERATE_VOCABS = False\n",
    "\n",
    "print(f\"GENERATE_VOCABS: {GENERATE_VOCABS}\")"
   ]
  },
  {
   "cell_type": "code",
   "execution_count": 17,
   "id": "b136aa91-bc57-4acf-80f2-fff09b33acf8",
   "metadata": {},
   "outputs": [
    {
     "name": "stdout",
     "output_type": "stream",
     "text": [
      "Copying gs://mabv1-hybrid-vertex-bucket/vocabs/vocab_dict.pkl [Content-Type=application/octet-stream]...\n",
      "/ [1 files][142.9 KiB/142.9 KiB]                                                \n",
      "Operation completed over 1 objects/142.9 KiB.                                    \n"
     ]
    }
   ],
   "source": [
    "EXISTING_VOCAB_FILE = f'gs://{BUCKET_NAME}/{VOCAB_SUBDIR}/{VOCAB_FILENAME}'\n",
    "\n",
    "!gsutil cp gs://mabv1-hybrid-vertex-bucket/vocabs/vocab_dict.pkl $EXISTING_VOCAB_FILE"
   ]
  },
  {
   "cell_type": "code",
   "execution_count": 18,
   "id": "a2d881e8-b633-4c06-b8b0-c788e1806fb8",
   "metadata": {},
   "outputs": [
    {
     "name": "stdout",
     "output_type": "stream",
     "text": [
      "Downloaded storage object vocabs/vocab_dict.pkl from bucket rec-bandits-v1-hybrid-vertex-bucket to local file vocab_dict.pkl.\n",
      "'movie_id'\n",
      "'user_id'\n",
      "'user_occupation_text'\n",
      "'movie_genres'\n",
      "'bucketized_user_age'\n",
      "'max_timestamp'\n",
      "'min_timestamp'\n",
      "'timestamp_buckets'\n"
     ]
    }
   ],
   "source": [
    "data_utils.download_blob(\n",
    "    project_id = PROJECT_ID,\n",
    "    bucket_name = BUCKET_NAME, \n",
    "    source_blob_name = f\"{VOCAB_SUBDIR}/{VOCAB_FILENAME}\", \n",
    "    destination_file_name= VOCAB_FILENAME\n",
    ")\n",
    "\n",
    "filehandler = open(VOCAB_FILENAME, 'rb')\n",
    "vocab_dict = pkl.load(filehandler)\n",
    "filehandler.close()\n",
    "\n",
    "for key in vocab_dict.keys():\n",
    "    pprint(key)"
   ]
  },
  {
   "cell_type": "markdown",
   "id": "e9c58d83-52f1-4490-931b-3d65c157cc13",
   "metadata": {},
   "source": [
    "# Global & Per-Arm feature embedding models "
   ]
  },
  {
   "cell_type": "code",
   "execution_count": 19,
   "id": "c5dc1c53-af82-400a-b841-32775855578d",
   "metadata": {},
   "outputs": [
    {
     "name": "stdout",
     "output_type": "stream",
     "text": [
      "NUM_OOV_BUCKETS    : 2\n",
      "GLOBAL_EMB_SIZE    : 64\n",
      "MV_EMB_SIZE        : 32\n",
      "BATCH_SIZE         : 5\n",
      "EVAL_BATCH_SIZE    : 1\n",
      "NUM_ITEMS          : 5\n",
      "NUM_SLOTS          : 2\n",
      "DISTANCE_THRESHOLD : 0.5\n"
     ]
    }
   ],
   "source": [
    "NUM_OOV_BUCKETS       = 2\n",
    "GLOBAL_EMBEDDING_SIZE = 64\n",
    "MV_EMBEDDING_SIZE     = 32 #32\n",
    "\n",
    "BATCH_SIZE            = 5 #128\n",
    "EVAL_BATCH_SIZE       = 1\n",
    "\n",
    "NUM_ITEMS             = NUM_EXAMPLES_PER_LIST # 3 | 5 \n",
    "NUM_SLOTS             = 2\n",
    "\n",
    "DISTANCE_THRESHOLD    = 0.5\n",
    "\n",
    "print(f\"NUM_OOV_BUCKETS    : {NUM_OOV_BUCKETS}\")\n",
    "print(f\"GLOBAL_EMB_SIZE    : {GLOBAL_EMBEDDING_SIZE}\")\n",
    "print(f\"MV_EMB_SIZE        : {MV_EMBEDDING_SIZE}\")\n",
    "print(f\"BATCH_SIZE         : {BATCH_SIZE}\")\n",
    "print(f\"EVAL_BATCH_SIZE    : {EVAL_BATCH_SIZE}\")\n",
    "print(f\"NUM_ITEMS          : {NUM_ITEMS}\")\n",
    "print(f\"NUM_SLOTS          : {NUM_SLOTS}\")\n",
    "print(f\"DISTANCE_THRESHOLD : {DISTANCE_THRESHOLD}\")"
   ]
  },
  {
   "cell_type": "code",
   "execution_count": 20,
   "id": "833f62ac-e6bf-4892-a168-b5d075771fb0",
   "metadata": {},
   "outputs": [
    {
     "data": {
      "text/plain": [
       "{'movie_genres': <tf.Tensor: shape=(1, 5), dtype=int64, numpy=array([[ 3,  0,  0,  0, 19]])>,\n",
       " 'movie_id': <tf.Tensor: shape=(1, 5), dtype=string, numpy=array([[b'94', b'245', b'403', b'50', b'470']], dtype=object)>,\n",
       " 'user_id': <tf.Tensor: shape=(1,), dtype=string, numpy=array([b'346'], dtype=object)>,\n",
       " 'user_rating': <tf.Tensor: shape=(1, 5), dtype=float32, numpy=array([[3., 4., 3., 5., 3.]], dtype=float32)>}"
      ]
     },
     "execution_count": 20,
     "metadata": {},
     "output_type": "execute_result"
    }
   ],
   "source": [
    "for i in range(1):\n",
    "    \n",
    "    iterator = iter(train_dataset.batch(1))\n",
    "    data = next(iterator)\n",
    "\n",
    "data"
   ]
  },
  {
   "cell_type": "markdown",
   "id": "a281a7ae-be08-41c6-a648-caab55ad1235",
   "metadata": {},
   "source": [
    "## Embedding layers"
   ]
  },
  {
   "cell_type": "markdown",
   "id": "3ec8212d-0b97-4db8-8126-6693af06d55a",
   "metadata": {},
   "source": [
    "#### User ID"
   ]
  },
  {
   "cell_type": "code",
   "execution_count": 21,
   "id": "fcc2d6f1-4559-466d-8f0f-53fc5c3bd4eb",
   "metadata": {},
   "outputs": [],
   "source": [
    "user_id_input_layer = tf.keras.Input(\n",
    "    name=\"user_id\",\n",
    "    shape=(1,),\n",
    "    dtype=tf.string\n",
    ")\n",
    "\n",
    "user_id_lookup = tf.keras.layers.StringLookup(\n",
    "    max_tokens=len(vocab_dict['user_id']) + NUM_OOV_BUCKETS,\n",
    "    num_oov_indices=NUM_OOV_BUCKETS,\n",
    "    mask_token=None,\n",
    "    vocabulary=vocab_dict['user_id'],\n",
    ")(user_id_input_layer)\n",
    "\n",
    "user_id_embedding = tf.keras.layers.Embedding(\n",
    "    # Let's use the explicit vocabulary lookup.\n",
    "    input_dim=len(vocab_dict['user_id']) + NUM_OOV_BUCKETS,\n",
    "    output_dim=GLOBAL_EMBEDDING_SIZE\n",
    ")(user_id_lookup)\n",
    "\n",
    "# user_id_embedding = tf.reduce_sum(user_id_embedding, axis=-2)"
   ]
  },
  {
   "cell_type": "code",
   "execution_count": 22,
   "id": "5c31717b-900e-44dd-8fa8-4692caa4dc4b",
   "metadata": {},
   "outputs": [
    {
     "name": "stdout",
     "output_type": "stream",
     "text": [
      "tf.Tensor([b'346'], shape=(1,), dtype=string)\n",
      "tf.Tensor(\n",
      "[[[-0.00946199 -0.00779102  0.02253656 -0.0281036  -0.04907619\n",
      "   -0.00111315  0.01590214 -0.01033651 -0.02272823 -0.03619151\n",
      "   -0.02710731 -0.02966145 -0.00131334 -0.0435203  -0.0052826\n",
      "   -0.03779681 -0.04004806 -0.04469528  0.03358519 -0.03440194\n",
      "    0.0200894   0.0077446   0.04805661  0.04013901  0.02096145\n",
      "   -0.00709069 -0.00105106  0.00118973  0.03069612 -0.0464071\n",
      "    0.03246001  0.04133833 -0.03127392  0.00970823  0.04900965\n",
      "    0.01276049 -0.02910261  0.04109125  0.02205325 -0.04546207\n",
      "   -0.02464928  0.04513765 -0.0467082   0.04213704  0.04484126\n",
      "    0.01052315  0.04005774 -0.00830711  0.00455688  0.02888402\n",
      "    0.04418704 -0.02264543  0.04993678 -0.02518172 -0.00902994\n",
      "    0.00110137 -0.04690304 -0.0430104  -0.02446631 -0.04867182\n",
      "   -0.01480299  0.02161438  0.03757143  0.00906471]]], shape=(1, 1, 64), dtype=float32)\n"
     ]
    }
   ],
   "source": [
    "test_user_id_model = tf.keras.Model(inputs=user_id_input_layer, outputs=user_id_embedding)\n",
    "\n",
    "for x in train_dataset.batch(1).take(1):\n",
    "    print(x[\"user_id\"])\n",
    "    print(test_user_id_model(x[\"user_id\"]))"
   ]
  },
  {
   "cell_type": "markdown",
   "id": "15a114a3-1cdd-46c7-b68d-3f9f55e06280",
   "metadata": {},
   "source": [
    "#### Movie ID"
   ]
  },
  {
   "cell_type": "code",
   "execution_count": 23,
   "id": "bcc5a95f-8298-4d68-92c0-7d3887b8364a",
   "metadata": {},
   "outputs": [
    {
     "data": {
      "text/plain": [
       "1683"
      ]
     },
     "execution_count": 23,
     "metadata": {},
     "output_type": "execute_result"
    }
   ],
   "source": [
    "len(vocab_dict['movie_id'])"
   ]
  },
  {
   "cell_type": "code",
   "execution_count": 24,
   "id": "c7c494c2-5a71-4de4-a1a0-746653f805dd",
   "metadata": {},
   "outputs": [],
   "source": [
    "mv_id_input_layer = tf.keras.Input(\n",
    "    name=\"movie_id\",\n",
    "    shape=(1,),\n",
    "    dtype=tf.string\n",
    ")\n",
    "\n",
    "mv_id_lookup = tf.keras.layers.StringLookup(\n",
    "    max_tokens=len(vocab_dict['movie_id']) + NUM_OOV_BUCKETS,\n",
    "    num_oov_indices=NUM_OOV_BUCKETS,\n",
    "    mask_token=None,\n",
    "    vocabulary=vocab_dict['movie_id'],\n",
    ")(mv_id_input_layer)\n",
    "\n",
    "mv_id_embedding = tf.keras.layers.Embedding(\n",
    "    # Let's use the explicit vocabulary lookup.\n",
    "    input_dim=len(vocab_dict['movie_id']) + NUM_OOV_BUCKETS,\n",
    "    output_dim=MV_EMBEDDING_SIZE\n",
    ")(mv_id_lookup)\n",
    "\n",
    "# mv_id_embedding = tf.reduce_sum(mv_id_embedding, axis=-2)"
   ]
  },
  {
   "cell_type": "code",
   "execution_count": 25,
   "id": "6c448c58-fbc8-42b1-aa3e-d69f113ee093",
   "metadata": {},
   "outputs": [
    {
     "name": "stdout",
     "output_type": "stream",
     "text": [
      "tf.Tensor([[b'94' b'245' b'403' b'50' b'470']], shape=(1, 5), dtype=string)\n",
      "tf.Tensor(\n",
      "[[[-0.01636115 -0.04689224 -0.013713    0.02641647  0.0194614\n",
      "    0.04733548  0.03533632 -0.00333887  0.02818942  0.02723351\n",
      "    0.01625511  0.03942041  0.00359466  0.01963184 -0.03519678\n",
      "   -0.00671798 -0.0414732  -0.03343675  0.00793576  0.02577437\n",
      "    0.04504141 -0.03399416  0.02853381 -0.03645446  0.01590827\n",
      "    0.00858242  0.04317639  0.0464666  -0.02829629 -0.04383949\n",
      "    0.04908258  0.00221925]\n",
      "  [ 0.04584137  0.00485065 -0.00277252  0.04626917 -0.04966178\n",
      "    0.04113512  0.00662166 -0.0210382   0.00072246  0.0453555\n",
      "   -0.03763857 -0.00435748  0.00706385 -0.01044433  0.01312664\n",
      "    0.03961308 -0.03077385  0.04214424 -0.02181128 -0.00564315\n",
      "    0.0445034   0.03317592  0.00708282 -0.00159972  0.04386225\n",
      "   -0.0009255   0.04063422  0.02419226  0.00123237  0.0248446\n",
      "   -0.02588284 -0.03315727]\n",
      "  [-0.04244614  0.01901117  0.01638852  0.02880948 -0.03012358\n",
      "    0.00730245 -0.00808992  0.04261055  0.03442588 -0.01406871\n",
      "    0.04797779 -0.02104313 -0.02259507 -0.00683409 -0.04973872\n",
      "   -0.02054611 -0.02429569  0.0026101   0.02210115 -0.04328134\n",
      "    0.03200215  0.0038403  -0.03453036 -0.01297148 -0.00583944\n",
      "    0.04909613  0.03479316  0.03122649 -0.02220322 -0.04685635\n",
      "    0.01043098 -0.04067659]\n",
      "  [-0.01262735  0.04159347 -0.02607339 -0.00838691 -0.01095136\n",
      "    0.04700704 -0.04773307 -0.03636311  0.00042745  0.03841687\n",
      "   -0.03513163 -0.04167819 -0.01803546  0.04939934 -0.02313657\n",
      "    0.02390401 -0.04207359 -0.00994622 -0.00927622 -0.03942372\n",
      "    0.0190847  -0.01225699 -0.00377958 -0.00768159  0.00158616\n",
      "    0.03286053  0.02306056  0.03820402  0.00747006 -0.00412952\n",
      "    0.03081229 -0.02270855]\n",
      "  [-0.03648503  0.0380994   0.04364878 -0.00856081  0.03049255\n",
      "    0.02705398 -0.04392083  0.01295025 -0.02187661 -0.02820929\n",
      "    0.00720372  0.02400759  0.04509563  0.03307414 -0.01887922\n",
      "    0.02311257  0.0014362   0.00176992  0.04291156  0.00454894\n",
      "   -0.0297959   0.04514952  0.01831767  0.03250479 -0.0336365\n",
      "    0.02232608  0.03048413 -0.03185636  0.04496628  0.01844201\n",
      "   -0.00512897  0.02584756]]], shape=(1, 5, 32), dtype=float32)\n"
     ]
    }
   ],
   "source": [
    "test_mv_id_model = tf.keras.Model(inputs=mv_id_input_layer, outputs=mv_id_embedding)\n",
    "\n",
    "for x in train_dataset.batch(1).take(1):\n",
    "    print(x[\"movie_id\"])\n",
    "    list_length = x[\"movie_id\"].shape[1]\n",
    "    print(test_mv_id_model(x[\"movie_id\"]))"
   ]
  },
  {
   "cell_type": "code",
   "execution_count": 26,
   "id": "e029d9e9-dc1c-4ddf-9343-6f3f47b58f30",
   "metadata": {},
   "outputs": [
    {
     "name": "stdout",
     "output_type": "stream",
     "text": [
      "tf.Tensor([[b'94' b'245' b'403' b'50' b'470']], shape=(1, 5), dtype=string)\n",
      "tf.Tensor(\n",
      "[[[-0.01636115 -0.04689224 -0.013713    0.02641647  0.0194614\n",
      "    0.04733548  0.03533632 -0.00333887  0.02818942  0.02723351\n",
      "    0.01625511  0.03942041  0.00359466  0.01963184 -0.03519678\n",
      "   -0.00671798 -0.0414732  -0.03343675  0.00793576  0.02577437\n",
      "    0.04504141 -0.03399416  0.02853381 -0.03645446  0.01590827\n",
      "    0.00858242  0.04317639  0.0464666  -0.02829629 -0.04383949\n",
      "    0.04908258  0.00221925]\n",
      "  [ 0.04584137  0.00485065 -0.00277252  0.04626917 -0.04966178\n",
      "    0.04113512  0.00662166 -0.0210382   0.00072246  0.0453555\n",
      "   -0.03763857 -0.00435748  0.00706385 -0.01044433  0.01312664\n",
      "    0.03961308 -0.03077385  0.04214424 -0.02181128 -0.00564315\n",
      "    0.0445034   0.03317592  0.00708282 -0.00159972  0.04386225\n",
      "   -0.0009255   0.04063422  0.02419226  0.00123237  0.0248446\n",
      "   -0.02588284 -0.03315727]\n",
      "  [-0.04244614  0.01901117  0.01638852  0.02880948 -0.03012358\n",
      "    0.00730245 -0.00808992  0.04261055  0.03442588 -0.01406871\n",
      "    0.04797779 -0.02104313 -0.02259507 -0.00683409 -0.04973872\n",
      "   -0.02054611 -0.02429569  0.0026101   0.02210115 -0.04328134\n",
      "    0.03200215  0.0038403  -0.03453036 -0.01297148 -0.00583944\n",
      "    0.04909613  0.03479316  0.03122649 -0.02220322 -0.04685635\n",
      "    0.01043098 -0.04067659]\n",
      "  [-0.01262735  0.04159347 -0.02607339 -0.00838691 -0.01095136\n",
      "    0.04700704 -0.04773307 -0.03636311  0.00042745  0.03841687\n",
      "   -0.03513163 -0.04167819 -0.01803546  0.04939934 -0.02313657\n",
      "    0.02390401 -0.04207359 -0.00994622 -0.00927622 -0.03942372\n",
      "    0.0190847  -0.01225699 -0.00377958 -0.00768159  0.00158616\n",
      "    0.03286053  0.02306056  0.03820402  0.00747006 -0.00412952\n",
      "    0.03081229 -0.02270855]\n",
      "  [-0.03648503  0.0380994   0.04364878 -0.00856081  0.03049255\n",
      "    0.02705398 -0.04392083  0.01295025 -0.02187661 -0.02820929\n",
      "    0.00720372  0.02400759  0.04509563  0.03307414 -0.01887922\n",
      "    0.02311257  0.0014362   0.00176992  0.04291156  0.00454894\n",
      "   -0.0297959   0.04514952  0.01831767  0.03250479 -0.0336365\n",
      "    0.02232608  0.03048413 -0.03185636  0.04496628  0.01844201\n",
      "   -0.00512897  0.02584756]]], shape=(1, 5, 32), dtype=float32)\n"
     ]
    }
   ],
   "source": [
    "test_mv_id_model = tf.keras.Model(inputs=mv_id_input_layer, outputs=mv_id_embedding)\n",
    "\n",
    "for x in train_dataset.batch(1).take(1):\n",
    "    print(x[\"movie_id\"])\n",
    "    list_length = x[\"movie_id\"].shape[1]\n",
    "    print(test_mv_id_model(x[\"movie_id\"]))"
   ]
  },
  {
   "cell_type": "code",
   "execution_count": 27,
   "id": "b9da6dc0-a871-4b73-b975-87871e571cc3",
   "metadata": {},
   "outputs": [
    {
     "data": {
      "text/plain": [
       "5"
      ]
     },
     "execution_count": 27,
     "metadata": {},
     "output_type": "execute_result"
    }
   ],
   "source": [
    "list_length"
   ]
  },
  {
   "cell_type": "code",
   "execution_count": 28,
   "id": "e66ac33f-6def-4529-9a2d-f17482471757",
   "metadata": {},
   "outputs": [
    {
     "name": "stdout",
     "output_type": "stream",
     "text": [
      "tf.Tensor([[b'94' b'245' b'403' b'50' b'470']], shape=(1, 5), dtype=string)\n",
      "tf.Tensor(b'94', shape=(), dtype=string)\n"
     ]
    }
   ],
   "source": [
    "for x in train_dataset.batch(1).take(1):\n",
    "    print(x[\"movie_id\"])\n",
    "    single_sample = x[\"movie_id\"][0]\n",
    "    item_1 = tf.gather(x[\"movie_id\"][0], 0)\n",
    "    print(item_1)"
   ]
  },
  {
   "cell_type": "code",
   "execution_count": 29,
   "id": "1e894e0c-b080-4e3c-ad2c-7fc460a2b97b",
   "metadata": {},
   "outputs": [
    {
     "data": {
      "text/plain": [
       "<tf.Tensor: shape=(), dtype=string, numpy=b'94'>"
      ]
     },
     "execution_count": 29,
     "metadata": {},
     "output_type": "execute_result"
    }
   ],
   "source": [
    "single_sample[0]"
   ]
  },
  {
   "cell_type": "markdown",
   "id": "c5886b2a-011b-4648-9834-b8a1e2d343f2",
   "metadata": {},
   "source": [
    "#### Movie Genres"
   ]
  },
  {
   "cell_type": "code",
   "execution_count": 30,
   "id": "dee33311-d565-4003-8d28-0d3dfc0ca68d",
   "metadata": {},
   "outputs": [
    {
     "data": {
      "text/plain": [
       "20"
      ]
     },
     "execution_count": 30,
     "metadata": {},
     "output_type": "execute_result"
    }
   ],
   "source": [
    "len(vocab_dict['movie_genres'])"
   ]
  },
  {
   "cell_type": "code",
   "execution_count": 31,
   "id": "052db904-0935-44db-bbba-548aa7b01c2b",
   "metadata": {},
   "outputs": [],
   "source": [
    "mv_genre_input_layer = tf.keras.Input(\n",
    "    name=\"movie_genres\",\n",
    "    shape=(1,),\n",
    "    dtype=tf.float32\n",
    ")\n",
    "\n",
    "mv_genre_lookup = tf.keras.layers.IntegerLookup(\n",
    "    vocabulary=vocab_dict['movie_genres'],\n",
    "    num_oov_indices=NUM_OOV_BUCKETS,\n",
    "    oov_value=0,\n",
    ")(mv_genre_input_layer)\n",
    "\n",
    "mv_genre_embedding = tf.keras.layers.Embedding(\n",
    "    # Let's use the explicit vocabulary lookup.\n",
    "    input_dim=len(vocab_dict['movie_genres']) + NUM_OOV_BUCKETS,\n",
    "    output_dim=MV_EMBEDDING_SIZE\n",
    ")(mv_genre_lookup)\n",
    "\n",
    "# mv_genre_embedding = tf.reduce_sum(mv_genre_embedding, axis=-2)"
   ]
  },
  {
   "cell_type": "code",
   "execution_count": 32,
   "id": "0cd72900-c9bc-4349-8984-8c0218c08efe",
   "metadata": {},
   "outputs": [
    {
     "name": "stdout",
     "output_type": "stream",
     "text": [
      "tf.Tensor([[ 3  0  0  0 19]], shape=(1, 5), dtype=int64)\n",
      "tf.Tensor(\n",
      "[[[ 2.3156811e-02  1.3729598e-02 -3.7662707e-02  1.5712153e-02\n",
      "    7.7462420e-03  8.3059892e-03  1.4813986e-02 -3.0442357e-02\n",
      "    4.0788677e-02 -2.4301970e-02 -1.7502319e-02  2.7880523e-02\n",
      "   -4.4727266e-02  5.2415729e-03  9.1277249e-03 -2.7250314e-02\n",
      "    4.7937755e-02  2.5181398e-03 -8.1559271e-04  4.5005251e-02\n",
      "   -4.2149793e-02  3.2151666e-02  2.5014345e-02 -1.8513452e-02\n",
      "    2.0792056e-02 -2.4676992e-02 -4.9909770e-02  2.4801467e-02\n",
      "    3.0246112e-02  6.7820661e-03  3.1125795e-02 -2.4241043e-02]\n",
      "  [-2.1569444e-02 -1.1244036e-02  4.6417009e-02 -3.7423253e-02\n",
      "    4.7383953e-02 -9.3461387e-03  4.0958151e-03 -1.9301726e-02\n",
      "    2.1182824e-02  1.2697231e-02  9.1457143e-03  4.3180738e-02\n",
      "    1.6883980e-02  3.6405336e-02 -1.2547530e-02 -4.8290838e-02\n",
      "   -4.3536045e-02  4.2986125e-05 -3.3918679e-02 -1.9695951e-02\n",
      "    1.6248491e-02 -3.5038937e-02 -7.7270754e-03 -1.5462540e-02\n",
      "    1.0850299e-02 -4.8117749e-03  4.1247036e-02  2.9190782e-02\n",
      "   -3.9295863e-02  3.1530332e-02 -1.2984194e-02  3.3257548e-02]\n",
      "  [-2.1569444e-02 -1.1244036e-02  4.6417009e-02 -3.7423253e-02\n",
      "    4.7383953e-02 -9.3461387e-03  4.0958151e-03 -1.9301726e-02\n",
      "    2.1182824e-02  1.2697231e-02  9.1457143e-03  4.3180738e-02\n",
      "    1.6883980e-02  3.6405336e-02 -1.2547530e-02 -4.8290838e-02\n",
      "   -4.3536045e-02  4.2986125e-05 -3.3918679e-02 -1.9695951e-02\n",
      "    1.6248491e-02 -3.5038937e-02 -7.7270754e-03 -1.5462540e-02\n",
      "    1.0850299e-02 -4.8117749e-03  4.1247036e-02  2.9190782e-02\n",
      "   -3.9295863e-02  3.1530332e-02 -1.2984194e-02  3.3257548e-02]\n",
      "  [-2.1569444e-02 -1.1244036e-02  4.6417009e-02 -3.7423253e-02\n",
      "    4.7383953e-02 -9.3461387e-03  4.0958151e-03 -1.9301726e-02\n",
      "    2.1182824e-02  1.2697231e-02  9.1457143e-03  4.3180738e-02\n",
      "    1.6883980e-02  3.6405336e-02 -1.2547530e-02 -4.8290838e-02\n",
      "   -4.3536045e-02  4.2986125e-05 -3.3918679e-02 -1.9695951e-02\n",
      "    1.6248491e-02 -3.5038937e-02 -7.7270754e-03 -1.5462540e-02\n",
      "    1.0850299e-02 -4.8117749e-03  4.1247036e-02  2.9190782e-02\n",
      "   -3.9295863e-02  3.1530332e-02 -1.2984194e-02  3.3257548e-02]\n",
      "  [ 4.1315924e-02 -2.6515830e-02 -8.1036240e-04 -4.3530870e-02\n",
      "   -2.8920472e-02 -2.8816296e-02  3.8918089e-02  1.4241103e-02\n",
      "   -3.4073845e-02 -3.8560640e-02 -2.9255040e-03 -7.5978525e-03\n",
      "   -1.1872210e-02  2.6941929e-02  1.5809957e-02  3.7256230e-02\n",
      "   -1.2004152e-03 -3.5881840e-02  4.9964953e-02 -4.5914520e-02\n",
      "    1.6588699e-02 -1.6832724e-03 -1.8836372e-03  2.0485591e-02\n",
      "    9.3830451e-03  2.6167367e-02  2.8102841e-02 -8.7347403e-03\n",
      "    9.6493736e-03  2.6115600e-02  1.4041256e-02  1.8114138e-02]]], shape=(1, 5, 32), dtype=float32)\n"
     ]
    }
   ],
   "source": [
    "test_mv_gen_model = tf.keras.Model(inputs=mv_genre_input_layer, outputs=mv_genre_embedding)\n",
    "\n",
    "for x in train_dataset.batch(1).take(1):\n",
    "    print(x[\"movie_genres\"])\n",
    "    print(test_mv_gen_model(x[\"movie_genres\"]))"
   ]
  },
  {
   "cell_type": "code",
   "execution_count": 33,
   "id": "4799ad0c-abc8-4e56-88d0-93111bba6d76",
   "metadata": {},
   "outputs": [
    {
     "name": "stdout",
     "output_type": "stream",
     "text": [
      "tf.Tensor([[ 3  0  0  0 19]], shape=(1, 5), dtype=int64)\n",
      "tf.Tensor([ 3  0  0  0 19], shape=(5,), dtype=int64)\n"
     ]
    }
   ],
   "source": [
    "for x in train_dataset.batch(1).take(1):\n",
    "    print(x[\"movie_genres\"])\n",
    "    mv_gen_sample = x[\"movie_genres\"]\n",
    "    item_gen = tf.gather(x[\"movie_genres\"], 0)\n",
    "    print(item_gen)"
   ]
  },
  {
   "cell_type": "code",
   "execution_count": 34,
   "id": "a3455b83-a3a0-4d07-9542-2e035cae612b",
   "metadata": {},
   "outputs": [
    {
     "name": "stdout",
     "output_type": "stream",
     "text": [
      "tf.Tensor([[3. 4. 3. 5. 3.]], shape=(1, 5), dtype=float32)\n"
     ]
    }
   ],
   "source": [
    "for x in train_dataset.batch(1).take(1):\n",
    "    print(x[\"user_rating\"])\n",
    "    # mv_gen_sample = x[\"movie_genres\"]\n",
    "    # item_gen = tf.gather(x[\"movie_genres\"], 0)\n",
    "    # print(item_gen)"
   ]
  },
  {
   "cell_type": "markdown",
   "id": "0415398e-3bbd-4497-aa31-1d618325fbb1",
   "metadata": {},
   "source": [
    "## Sampling Functions"
   ]
  },
  {
   "cell_type": "markdown",
   "id": "343c1dee-fc37-4075-8d65-6909d548eb43",
   "metadata": {},
   "source": [
    "#### item sampling"
   ]
  },
  {
   "cell_type": "code",
   "execution_count": 36,
   "id": "87ee3ea2-83f7-4769-9270-767901d366bf",
   "metadata": {
    "jupyter": {
     "source_hidden": true
    },
    "tags": []
   },
   "outputs": [],
   "source": [
    "# def _get_per_arm_features(x):\n",
    "#     \"\"\"\n",
    "#     This function generates a single per-arm observation vector.\n",
    "#     \"\"\"\n",
    "    \n",
    "#     id_1 = tf.gather(x[\"movie_id\"][0], 0)\n",
    "#     id_2 = tf.gather(x[\"movie_id\"][0], 1)\n",
    "#     id_3 = tf.gather(x[\"movie_id\"][0], 2)\n",
    "#     # print(f\"id_1 shape: {id_1.shape}\")\n",
    "    \n",
    "#     stacked_ids = tf.stack(\n",
    "#         [\n",
    "#             test_mv_id_model(id_1), \n",
    "#             test_mv_id_model(id_2), \n",
    "#             test_mv_id_model(id_3)\n",
    "#         ], axis = 0\n",
    "#     )\n",
    "#     # print(f\"stacked_ids shape: {stacked_ids.shape}\")\n",
    "#     # print(f\"stacked_ids: {stacked_ids}\")\n",
    "        \n",
    "    \n",
    "#     gen_1 = tf.gather(x[\"movie_genres\"][0], 0)\n",
    "#     gen_2 = tf.gather(x[\"movie_genres\"][0], 1)\n",
    "#     gen_3 = tf.gather(x[\"movie_genres\"][0], 2)\n",
    "#     # print(f\"gen_1 shape: {gen_1.shape}\")\n",
    "    \n",
    "#     stacked_gens = tf.stack(\n",
    "#         [\n",
    "#             test_mv_gen_model(gen_1), \n",
    "#             test_mv_gen_model(gen_2), \n",
    "#             test_mv_gen_model(gen_3)\n",
    "#         ], axis = 0\n",
    "#     )\n",
    "#     # print(f\"stacked_gens shape: {stacked_gens.shape}\")\n",
    "#     # print(f\"stacked_gens: {stacked_gens}\")\n",
    "    \n",
    "#     ratings_list = []\n",
    "\n",
    "    \n",
    "#     concat_embeddings = tf.concat(\n",
    "#         [stacked_ids, stacked_gens], axis=1\n",
    "#     )\n",
    "#     # print(f\"concat_embeddings shape: {concat_embeddings.shape}\")\n",
    "    \n",
    "#     return concat_embeddings"
   ]
  },
  {
   "cell_type": "code",
   "execution_count": 38,
   "id": "e8883e1c-0448-4486-bc2e-4ae3e3e54919",
   "metadata": {},
   "outputs": [],
   "source": [
    "def _get_per_arm_features(x):\n",
    "    \"\"\"\n",
    "    This function generates a single per-arm observation vector.\n",
    "    \"\"\"\n",
    "    \n",
    "    # user rating\n",
    "    ratings_list = x[\"user_rating\"] #[0]\n",
    "    indices = tf.argsort(ratings_list, direction=\"DESCENDING\")\n",
    "    \n",
    "    # arm features\n",
    "    arm_ids = []\n",
    "    arm_gens = []\n",
    "    \n",
    "    for i in range(0, NUM_EXAMPLES_PER_LIST):\n",
    "        arm_ids.append(test_mv_id_model(tf.gather(x[\"movie_id\"][0], i)))\n",
    "        # arm_ids.append(test_mv_id_model(tf.gather(x[\"movie_id\"], i)))\n",
    "        \n",
    "    stacked_ids = tf.stack(arm_ids, axis = 0)\n",
    "    \n",
    "    for i in range(0, NUM_EXAMPLES_PER_LIST):\n",
    "        arm_gens.append(test_mv_gen_model(tf.gather(x[\"movie_genres\"][0], i)))\n",
    "        # arm_gens.append(test_mv_gen_model(tf.gather(x[\"movie_genres\"], i)))\n",
    "        \n",
    "    stacked_gens = tf.stack(arm_gens, axis = 0)\n",
    "    \n",
    "    concat_embeddings = tf.concat(\n",
    "        [stacked_ids, stacked_gens], axis=1\n",
    "    )\n",
    "    print(f\"concat_embeddings shape: {concat_embeddings.shape}\")\n",
    "    \n",
    "    ordered_concat = tf.gather(concat_embeddings, indices, batch_dims=0) #.numpy()\n",
    "    ordered_concat_embeddings = tf.stack(ordered_concat, axis = 0)\n",
    "    \n",
    "    # return concat_embeddings\n",
    "    return ordered_concat_embeddings"
   ]
  },
  {
   "cell_type": "code",
   "execution_count": 39,
   "id": "1d69ce4c-1676-4b74-9297-b21510f08372",
   "metadata": {},
   "outputs": [],
   "source": [
    "# def return_ranking_rewards(x):\n",
    "    \n",
    "#     # ratings_list = []\n",
    "    \n",
    "#     # for i in range(0, NUM_EXAMPLES_PER_LIST):\n",
    "#         # ratings_list.append(tf.gather(x[\"user_rating\"][0], i))\n",
    "#         # ratings_list.append(x[\"user_rating\"][0])\n",
    "    \n",
    "#     ratings_list = x[\"user_rating\"][0]\n",
    "#     print(f\"ratings_list: {ratings_list}\")\n",
    "    \n",
    "#     indices = tf.argsort(ratings_list, direction=\"DESCENDING\")\n",
    "#     print(f\"indices: {indices}\")\n",
    "    \n",
    "#     ordered_list = tf.gather(ratings_list, indices, batch_dims=-1) #.numpy()\n",
    "#     print(f\"ordered_list: {ordered_list}\")\n",
    "    \n",
    "#     return ordered_list\n",
    "\n",
    "    \n",
    "# ratings_list = return_ranking_rewards(data)\n",
    "# ratings_list"
   ]
  },
  {
   "cell_type": "code",
   "execution_count": 40,
   "id": "cd9b8a0a-6374-4584-8c99-1fd6adcbaea5",
   "metadata": {
    "tags": []
   },
   "outputs": [
    {
     "name": "stdout",
     "output_type": "stream",
     "text": [
      "concat_embeddings shape: (5, 64)\n",
      "PER_ARM_DIM: 5\n"
     ]
    },
    {
     "data": {
      "text/plain": [
       "<tf.Tensor: shape=(1, 5, 64), dtype=float32, numpy=\n",
       "array([[[-1.26273520e-02,  4.15934660e-02, -2.60733850e-02,\n",
       "         -8.38690996e-03, -1.09513626e-02,  4.70070355e-02,\n",
       "         -4.77330685e-02, -3.63631137e-02,  4.27447259e-04,\n",
       "          3.84168737e-02, -3.51316333e-02, -4.16781902e-02,\n",
       "         -1.80354603e-02,  4.93993424e-02, -2.31365692e-02,\n",
       "          2.39040144e-02, -4.20735851e-02, -9.94621590e-03,\n",
       "         -9.27622244e-03, -3.94237153e-02,  1.90847032e-02,\n",
       "         -1.22569911e-02, -3.77957895e-03, -7.68158585e-03,\n",
       "          1.58616155e-03,  3.28605287e-02,  2.30605640e-02,\n",
       "          3.82040180e-02,  7.47006014e-03, -4.12951782e-03,\n",
       "          3.08122896e-02, -2.27085482e-02, -2.15694439e-02,\n",
       "         -1.12440363e-02,  4.64170091e-02, -3.74232531e-02,\n",
       "          4.73839529e-02, -9.34613869e-03,  4.09581512e-03,\n",
       "         -1.93017256e-02,  2.11828239e-02,  1.26972310e-02,\n",
       "          9.14571434e-03,  4.31807376e-02,  1.68839805e-02,\n",
       "          3.64053361e-02, -1.25475302e-02, -4.82908376e-02,\n",
       "         -4.35360447e-02,  4.29861248e-05, -3.39186788e-02,\n",
       "         -1.96959507e-02,  1.62484907e-02, -3.50389369e-02,\n",
       "         -7.72707537e-03, -1.54625401e-02,  1.08502991e-02,\n",
       "         -4.81177494e-03,  4.12470363e-02,  2.91907825e-02,\n",
       "         -3.92958634e-02,  3.15303318e-02, -1.29841939e-02,\n",
       "          3.32575478e-02],\n",
       "        [ 4.58413698e-02,  4.85064834e-03, -2.77252123e-03,\n",
       "          4.62691672e-02, -4.96617816e-02,  4.11351211e-02,\n",
       "          6.62165880e-03, -2.10381988e-02,  7.22456723e-04,\n",
       "          4.53555025e-02, -3.76385674e-02, -4.35747951e-03,\n",
       "          7.06385449e-03, -1.04443319e-02,  1.31266378e-02,\n",
       "          3.96130793e-02, -3.07738539e-02,  4.21442427e-02,\n",
       "         -2.18112823e-02, -5.64315170e-03,  4.45034020e-02,\n",
       "          3.31759192e-02,  7.08281994e-03, -1.59971789e-03,\n",
       "          4.38622497e-02, -9.25503671e-04,  4.06342186e-02,\n",
       "          2.41922624e-02,  1.23237446e-03,  2.48445980e-02,\n",
       "         -2.58828402e-02, -3.31572667e-02, -2.15694439e-02,\n",
       "         -1.12440363e-02,  4.64170091e-02, -3.74232531e-02,\n",
       "          4.73839529e-02, -9.34613869e-03,  4.09581512e-03,\n",
       "         -1.93017256e-02,  2.11828239e-02,  1.26972310e-02,\n",
       "          9.14571434e-03,  4.31807376e-02,  1.68839805e-02,\n",
       "          3.64053361e-02, -1.25475302e-02, -4.82908376e-02,\n",
       "         -4.35360447e-02,  4.29861248e-05, -3.39186788e-02,\n",
       "         -1.96959507e-02,  1.62484907e-02, -3.50389369e-02,\n",
       "         -7.72707537e-03, -1.54625401e-02,  1.08502991e-02,\n",
       "         -4.81177494e-03,  4.12470363e-02,  2.91907825e-02,\n",
       "         -3.92958634e-02,  3.15303318e-02, -1.29841939e-02,\n",
       "          3.32575478e-02],\n",
       "        [-1.63611546e-02, -4.68922369e-02, -1.37130022e-02,\n",
       "          2.64164694e-02,  1.94613971e-02,  4.73354794e-02,\n",
       "          3.53363194e-02, -3.33887339e-03,  2.81894244e-02,\n",
       "          2.72335075e-02,  1.62551068e-02,  3.94204147e-02,\n",
       "          3.59465927e-03,  1.96318366e-02, -3.51967812e-02,\n",
       "         -6.71797991e-03, -4.14731987e-02, -3.34367529e-02,\n",
       "          7.93576241e-03,  2.57743709e-02,  4.50414084e-02,\n",
       "         -3.39941606e-02,  2.85338052e-02, -3.64544615e-02,\n",
       "          1.59082673e-02,  8.58242437e-03,  4.31763865e-02,\n",
       "          4.64666001e-02, -2.82962918e-02, -4.38394919e-02,\n",
       "          4.90825810e-02,  2.21924856e-03,  2.31568106e-02,\n",
       "          1.37295984e-02, -3.76627073e-02,  1.57121532e-02,\n",
       "          7.74624199e-03,  8.30598921e-03,  1.48139857e-02,\n",
       "         -3.04423571e-02,  4.07886766e-02, -2.43019704e-02,\n",
       "         -1.75023191e-02,  2.78805234e-02, -4.47272658e-02,\n",
       "          5.24157286e-03,  9.12772492e-03, -2.72503141e-02,\n",
       "          4.79377545e-02,  2.51813978e-03, -8.15592706e-04,\n",
       "          4.50052507e-02, -4.21497934e-02,  3.21516655e-02,\n",
       "          2.50143446e-02, -1.85134523e-02,  2.07920559e-02,\n",
       "         -2.46769916e-02, -4.99097705e-02,  2.48014666e-02,\n",
       "          3.02461125e-02,  6.78206608e-03,  3.11257951e-02,\n",
       "         -2.42410433e-02],\n",
       "        [-4.24461365e-02,  1.90111659e-02,  1.63885243e-02,\n",
       "          2.88094766e-02, -3.01235802e-02,  7.30245188e-03,\n",
       "         -8.08992237e-03,  4.26105522e-02,  3.44258808e-02,\n",
       "         -1.40687115e-02,  4.79777940e-02, -2.10431349e-02,\n",
       "         -2.25950722e-02, -6.83408976e-03, -4.97387163e-02,\n",
       "         -2.05461141e-02, -2.42956877e-02,  2.61009857e-03,\n",
       "          2.21011527e-02, -4.32813428e-02,  3.20021547e-02,\n",
       "          3.84030491e-03, -3.45303640e-02, -1.29714832e-02,\n",
       "         -5.83944470e-03,  4.90961336e-02,  3.47931646e-02,\n",
       "          3.12264897e-02, -2.22032201e-02, -4.68563549e-02,\n",
       "          1.04309805e-02, -4.06765938e-02, -2.15694439e-02,\n",
       "         -1.12440363e-02,  4.64170091e-02, -3.74232531e-02,\n",
       "          4.73839529e-02, -9.34613869e-03,  4.09581512e-03,\n",
       "         -1.93017256e-02,  2.11828239e-02,  1.26972310e-02,\n",
       "          9.14571434e-03,  4.31807376e-02,  1.68839805e-02,\n",
       "          3.64053361e-02, -1.25475302e-02, -4.82908376e-02,\n",
       "         -4.35360447e-02,  4.29861248e-05, -3.39186788e-02,\n",
       "         -1.96959507e-02,  1.62484907e-02, -3.50389369e-02,\n",
       "         -7.72707537e-03, -1.54625401e-02,  1.08502991e-02,\n",
       "         -4.81177494e-03,  4.12470363e-02,  2.91907825e-02,\n",
       "         -3.92958634e-02,  3.15303318e-02, -1.29841939e-02,\n",
       "          3.32575478e-02],\n",
       "        [-3.64850275e-02,  3.80993970e-02,  4.36487831e-02,\n",
       "         -8.56081396e-03,  3.04925479e-02,  2.70539783e-02,\n",
       "         -4.39208262e-02,  1.29502527e-02, -2.18766090e-02,\n",
       "         -2.82092933e-02,  7.20372051e-03,  2.40075924e-02,\n",
       "          4.50956337e-02,  3.30741443e-02, -1.88792236e-02,\n",
       "          2.31125690e-02,  1.43619627e-03,  1.76992267e-03,\n",
       "          4.29115556e-02,  4.54894453e-03, -2.97958981e-02,\n",
       "          4.51495163e-02,  1.83176734e-02,  3.25047858e-02,\n",
       "         -3.36364992e-02,  2.23260783e-02,  3.04841287e-02,\n",
       "         -3.18563581e-02,  4.49662842e-02,  1.84420086e-02,\n",
       "         -5.12896851e-03,  2.58475579e-02,  4.13159244e-02,\n",
       "         -2.65158303e-02, -8.10362399e-04, -4.35308702e-02,\n",
       "         -2.89204717e-02, -2.88162958e-02,  3.89180891e-02,\n",
       "          1.42411031e-02, -3.40738446e-02, -3.85606401e-02,\n",
       "         -2.92550400e-03, -7.59785250e-03, -1.18722096e-02,\n",
       "          2.69419290e-02,  1.58099569e-02,  3.72562297e-02,\n",
       "         -1.20041519e-03, -3.58818397e-02,  4.99649532e-02,\n",
       "         -4.59145196e-02,  1.65886991e-02, -1.68327242e-03,\n",
       "         -1.88363716e-03,  2.04855911e-02,  9.38304514e-03,\n",
       "          2.61673667e-02,  2.81028412e-02, -8.73474032e-03,\n",
       "          9.64937359e-03,  2.61156000e-02,  1.40412562e-02,\n",
       "          1.81141384e-02]]], dtype=float32)>"
      ]
     },
     "execution_count": 40,
     "metadata": {},
     "output_type": "execute_result"
    }
   ],
   "source": [
    "test_arms = _get_per_arm_features(data)\n",
    "\n",
    "PER_ARM_DIM = test_arms.shape[1]            \n",
    "print(f\"PER_ARM_DIM: {PER_ARM_DIM}\")\n",
    "\n",
    "test_arms"
   ]
  },
  {
   "cell_type": "markdown",
   "id": "1b01f1f2-a576-4b18-91ca-ee6c5bd90117",
   "metadata": {},
   "source": [
    "#### global sampling"
   ]
  },
  {
   "cell_type": "code",
   "execution_count": 41,
   "id": "dbffe5f6-8b37-448e-aadd-b578cfbe1395",
   "metadata": {},
   "outputs": [],
   "source": [
    "def _get_global_context_features(x):\n",
    "    \"\"\"\n",
    "    This function generates a single global observation vector.\n",
    "    \"\"\"\n",
    "    # _id_1 = test_user_id_model(x['user_id'])\n",
    "    \n",
    "    return test_user_id_model(x['user_id'])\n",
    "    \n",
    "    # list_length = x[\"movie_id\"].shape[1]"
   ]
  },
  {
   "cell_type": "code",
   "execution_count": 47,
   "id": "1644300b-f7b7-4f38-9f31-f83ba74ecf79",
   "metadata": {},
   "outputs": [
    {
     "name": "stdout",
     "output_type": "stream",
     "text": [
      "GLOBAL_DIM: 64\n"
     ]
    },
    {
     "data": {
      "text/plain": [
       "<tf.Tensor: shape=(1, 1, 64), dtype=float32, numpy=\n",
       "array([[[-0.00946199, -0.00779102,  0.02253656, -0.0281036 ,\n",
       "         -0.04907619, -0.00111315,  0.01590214, -0.01033651,\n",
       "         -0.02272823, -0.03619151, -0.02710731, -0.02966145,\n",
       "         -0.00131334, -0.0435203 , -0.0052826 , -0.03779681,\n",
       "         -0.04004806, -0.04469528,  0.03358519, -0.03440194,\n",
       "          0.0200894 ,  0.0077446 ,  0.04805661,  0.04013901,\n",
       "          0.02096145, -0.00709069, -0.00105106,  0.00118973,\n",
       "          0.03069612, -0.0464071 ,  0.03246001,  0.04133833,\n",
       "         -0.03127392,  0.00970823,  0.04900965,  0.01276049,\n",
       "         -0.02910261,  0.04109125,  0.02205325, -0.04546207,\n",
       "         -0.02464928,  0.04513765, -0.0467082 ,  0.04213704,\n",
       "          0.04484126,  0.01052315,  0.04005774, -0.00830711,\n",
       "          0.00455688,  0.02888402,  0.04418704, -0.02264543,\n",
       "          0.04993678, -0.02518172, -0.00902994,  0.00110137,\n",
       "         -0.04690304, -0.0430104 , -0.02446631, -0.04867182,\n",
       "         -0.01480299,  0.02161438,  0.03757143,  0.00906471]]],\n",
       "      dtype=float32)>"
      ]
     },
     "execution_count": 47,
     "metadata": {},
     "output_type": "execute_result"
    }
   ],
   "source": [
    "test_globals = _get_global_context_features(data)\n",
    "\n",
    "GLOBAL_DIM = test_globals.shape[2] \n",
    "print(f\"GLOBAL_DIM: {GLOBAL_DIM}\")\n",
    "\n",
    "test_globals"
   ]
  },
  {
   "cell_type": "markdown",
   "id": "5ada148e-e36b-4c98-ae5b-234aa9940055",
   "metadata": {},
   "source": [
    "# Ranking Agent"
   ]
  },
  {
   "cell_type": "markdown",
   "id": "7d7fd210-4772-4073-9630-1173ac4f93e4",
   "metadata": {},
   "source": [
    "## Feedback type"
   ]
  },
  {
   "cell_type": "markdown",
   "id": "57a0da21-0b0f-4876-8b43-c012d1cc64c2",
   "metadata": {},
   "source": [
    "Ranking agents assume either a `score_vector` or `cascading feedback` framework for the feedback signal (reward). \n",
    "\n",
    "* `score_vector`: feedback is a vector of scores for every item in the slots. \n",
    "* `cascading feedback`: if the kth item was clicked, then the items up to k-1 receive a score of -1, the kth item receives a score based on a feedback value, while the rest of the items receive feedback of 0. \n",
    "\n",
    "Ranking agent objective: train the scoring network to be able to estimate the above scores"
   ]
  },
  {
   "cell_type": "code",
   "execution_count": 48,
   "id": "c49a7375-ec9f-403d-aa86-810134cd430c",
   "metadata": {},
   "outputs": [],
   "source": [
    "# feedback_model = ranking_environment.FeedbackModel.CASCADING\n",
    "feedback_model = ranking_environment.FeedbackModel.SCORE_VECTOR\n",
    "\n",
    "# feedback_model"
   ]
  },
  {
   "cell_type": "markdown",
   "id": "a9b20c76-2950-4459-ab07-148cded078f2",
   "metadata": {},
   "source": [
    "## Tensor Specs"
   ]
  },
  {
   "cell_type": "markdown",
   "id": "3b43561b-f486-454e-a851-8cedfd6999d7",
   "metadata": {
    "tags": []
   },
   "source": [
    "example Tensor Spec structures..."
   ]
  },
  {
   "cell_type": "markdown",
   "id": "38cbb948-52c5-44a3-80ab-4e57ba6968ea",
   "metadata": {},
   "source": [
    "`observation_spec()`\n",
    "\n",
    "```python\n",
    "{'global': TensorSpec(shape=(9,), dtype=tf.float32, name=None),\n",
    " 'per_arm': TensorSpec(shape=(50, 11), dtype=tf.float32, name=None)}\n",
    "```\n",
    "\n",
    "`action_spec()`\n",
    "\n",
    "```python\n",
    "BoundedTensorSpec(shape=(3,), dtype=tf.int32, name='action', minimum=array(0, dtype=int32), maximum=array(49, dtype=int32))\n",
    "```\n",
    "\n",
    "`reward_spec()`\n",
    "\n",
    "```python\n",
    "{'chosen_index': BoundedTensorSpec(shape=(), dtype=tf.int32, name='chosen_index', minimum=array(0, dtype=int32), maximum=array(3, dtype=int32)),\n",
    " 'chosen_value': TensorSpec(shape=(), dtype=tf.float32, name='chosen_value')}\n",
    "```\n",
    "\n",
    "`time_step_spec()`\n",
    "\n",
    "```python\n",
    "TimeStep(\n",
    "{'discount': BoundedTensorSpec(shape=(), dtype=tf.float32, name='discount', minimum=array(0., dtype=float32), maximum=array(1., dtype=float32)),\n",
    " 'observation': {'global': TensorSpec(shape=(9,), dtype=tf.float32, name=None),\n",
    "                 'per_arm': TensorSpec(shape=(50, 11), dtype=tf.float32, name=None)},\n",
    " 'reward': {'chosen_index': BoundedTensorSpec(shape=(), dtype=tf.int32, name='chosen_index', minimum=array(0, dtype=int32), maximum=array(3, dtype=int32)),\n",
    "            'chosen_value': TensorSpec(shape=(), dtype=tf.float32, name='chosen_value')},\n",
    " 'step_type': TensorSpec(shape=(), dtype=tf.int32, name='step_type')})\n",
    "```"
   ]
  },
  {
   "cell_type": "markdown",
   "id": "fae68b8a-8656-45cc-8977-70613629ce75",
   "metadata": {},
   "source": [
    "set vars"
   ]
  },
  {
   "cell_type": "code",
   "execution_count": 49,
   "id": "5426bb09-834b-4cb3-9bf4-8d84482307e9",
   "metadata": {},
   "outputs": [
    {
     "name": "stdout",
     "output_type": "stream",
     "text": [
      "BATCH_SIZE         : 5\n",
      "EVAL_BATCH_SIZE    : 1\n",
      "NUM_ITEMS          : 5\n",
      "NUM_SLOTS          : 2\n",
      "DISTANCE_THRESHOLD : 0.5\n",
      "GLOBAL_DIM         : 64\n",
      "PER_ARM_DIM        : 5\n"
     ]
    }
   ],
   "source": [
    "from tf_agents.specs import array_spec\n",
    "\n",
    "print(f\"BATCH_SIZE         : {BATCH_SIZE}\")\n",
    "print(f\"EVAL_BATCH_SIZE    : {EVAL_BATCH_SIZE}\")\n",
    "print(f\"NUM_ITEMS          : {NUM_ITEMS}\")\n",
    "print(f\"NUM_SLOTS          : {NUM_SLOTS}\")\n",
    "print(f\"DISTANCE_THRESHOLD : {DISTANCE_THRESHOLD}\")\n",
    "print(f\"GLOBAL_DIM         : {GLOBAL_DIM}\")\n",
    "print(f\"PER_ARM_DIM        : {PER_ARM_DIM}\")"
   ]
  },
  {
   "cell_type": "markdown",
   "id": "cc572702-592c-4d60-8719-50739f611e16",
   "metadata": {},
   "source": [
    "### Observation spec"
   ]
  },
  {
   "cell_type": "code",
   "execution_count": 50,
   "id": "0b97866b-fb8c-4724-ac6f-ce789d5b7368",
   "metadata": {},
   "outputs": [
    {
     "data": {
      "text/plain": [
       "{'global': TensorSpec(shape=(64,), dtype=tf.float32, name=None),\n",
       " 'per_arm': TensorSpec(shape=(5, 5), dtype=tf.float32, name=None)}"
      ]
     },
     "execution_count": 50,
     "metadata": {},
     "output_type": "execute_result"
    }
   ],
   "source": [
    "observation_spec = {\n",
    "    'global': tf.TensorSpec([GLOBAL_DIM], tf.float32),\n",
    "    'per_arm': tf.TensorSpec([NUM_ITEMS, PER_ARM_DIM], tf.float32) #excluding action dim here\n",
    "}\n",
    "observation_spec"
   ]
  },
  {
   "cell_type": "markdown",
   "id": "80565f15-d41e-46db-99b3-6ea6a73ab6aa",
   "metadata": {},
   "source": [
    "### Action spec\n",
    "\n",
    "> Action spec for ranking models must have rank 1"
   ]
  },
  {
   "cell_type": "code",
   "execution_count": 51,
   "id": "73b90ec0-1fe2-4b08-8a47-1fd32058705f",
   "metadata": {},
   "outputs": [
    {
     "name": "stdout",
     "output_type": "stream",
     "text": [
      "action_spec rank: 1\n"
     ]
    },
    {
     "data": {
      "text/plain": [
       "BoundedTensorSpec(shape=(2,), dtype=tf.int32, name='action_spec', minimum=array(0, dtype=int32), maximum=array(4, dtype=int32))"
      ]
     },
     "execution_count": 51,
     "metadata": {},
     "output_type": "execute_result"
    }
   ],
   "source": [
    "action_spec = tensor_spec.BoundedTensorSpec(\n",
    "    shape=(NUM_SLOTS,),\n",
    "    dtype=tf.int32,\n",
    "    minimum=tf.constant(0),            \n",
    "    maximum=NUM_ITEMS-1, # n degrees of freedom and will dictate the expected mean reward spec shape\n",
    "    name=\"action_spec\"\n",
    ")\n",
    "\n",
    "print(f\"action_spec rank: {action_spec.shape.rank}\")\n",
    "\n",
    "action_spec"
   ]
  },
  {
   "cell_type": "markdown",
   "id": "ccdacef1-fd61-4569-9bf7-299c52903710",
   "metadata": {},
   "source": [
    "### Reward spec"
   ]
  },
  {
   "cell_type": "code",
   "execution_count": 52,
   "id": "166f53bd-cdb9-49c4-a4d8-2904a6300f4c",
   "metadata": {},
   "outputs": [
    {
     "data": {
      "text/plain": [
       "ArraySpec(shape=(2,), dtype=dtype('float32'), name='score_vector')"
      ]
     },
     "execution_count": 52,
     "metadata": {},
     "output_type": "execute_result"
    }
   ],
   "source": [
    "if feedback_model == ranking_environment.FeedbackModel.CASCADING:\n",
    "    # `chosen_index == num_slots` means no recommended item was clicked.\n",
    "    reward_spec = {\n",
    "        'chosen_index': array_spec.BoundedArraySpec(\n",
    "            shape=[],\n",
    "            minimum=0,\n",
    "            maximum=NUM_SLOTS,\n",
    "            dtype=np.int32,\n",
    "            name='chosen_index',\n",
    "        ),\n",
    "        'chosen_value': array_spec.ArraySpec(\n",
    "            shape=[], dtype=np.float32, name='chosen_value'\n",
    "        ),\n",
    "    }\n",
    "elif feedback_model == ranking_environment.FeedbackModel.SCORE_VECTOR:\n",
    "    reward_spec = array_spec.ArraySpec(\n",
    "        shape=[NUM_SLOTS], dtype=np.float32, name='score_vector'\n",
    "    )\n",
    "else:\n",
    "    reward_spec = f\"Feedback model: {feedback_model}, not implemented\"\n",
    "    \n",
    "reward_spec"
   ]
  },
  {
   "cell_type": "markdown",
   "id": "de0deb69-a259-4495-a58e-81c0fd2a97ab",
   "metadata": {},
   "source": [
    "### TimeStep spec"
   ]
  },
  {
   "cell_type": "code",
   "execution_count": 53,
   "id": "aa7a5d0e-d4c2-4f8c-b67e-84fe6d1e4fcb",
   "metadata": {},
   "outputs": [
    {
     "data": {
      "text/plain": [
       "TimeStep(\n",
       "{'discount': BoundedTensorSpec(shape=(), dtype=tf.float32, name='discount', minimum=array(0., dtype=float32), maximum=array(1., dtype=float32)),\n",
       " 'observation': {'global': TensorSpec(shape=(64,), dtype=tf.float32, name=None),\n",
       "                 'per_arm': TensorSpec(shape=(5, 5), dtype=tf.float32, name=None)},\n",
       " 'reward': TensorSpec(shape=(), dtype=tf.float32, name='reward'),\n",
       " 'step_type': TensorSpec(shape=(), dtype=tf.int32, name='step_type')})"
      ]
     },
     "execution_count": 53,
     "metadata": {},
     "output_type": "execute_result"
    }
   ],
   "source": [
    "time_step_spec = ts.time_step_spec(\n",
    "    observation_spec = observation_spec, \n",
    "    # reward_spec = reward_spec\n",
    ")\n",
    "time_step_spec"
   ]
  },
  {
   "cell_type": "markdown",
   "id": "f1ecc66c-ce8b-480b-8306-40eaf399f120",
   "metadata": {},
   "source": [
    "Inspect chosen arm features spec"
   ]
  },
  {
   "cell_type": "code",
   "execution_count": 54,
   "id": "164a5760-3ca3-4397-85b3-26bbcd987b52",
   "metadata": {},
   "outputs": [
    {
     "data": {
      "text/plain": [
       "{'global': TensorSpec(shape=(64,), dtype=tf.float32, name=None),\n",
       " 'per_arm': TensorSpec(shape=(5, 5), dtype=tf.float32, name=None)}"
      ]
     },
     "execution_count": 54,
     "metadata": {},
     "output_type": "execute_result"
    }
   ],
   "source": [
    "time_step_spec.observation"
   ]
  },
  {
   "cell_type": "markdown",
   "id": "ad033e89-1f1c-4f63-9084-bf6a6807915f",
   "metadata": {},
   "source": [
    "## Policy and Scoring Network\n",
    "\n",
    "> all ranking agents train a network that estimates scores of item/user pairs\n",
    "\n",
    "**Ranking Policies**\n",
    "* `DESCENDING_SCORES` - Stack rank deterministically by scores\n",
    "* `NO_PENALTY` - Sampling sequentially based on scores; no penalty applied\n",
    "* `COSINE_DISTANCE` - Sampling sequentally and taking diversity into account\n",
    "\n",
    "`penalty_mixture` parameter governs the balance between ranking based on scores and accounting for diversity\n",
    "* low positive value --> ranking has less diversity\n",
    "* higher value --> enforces more diversity\n",
    "\n",
    "`logits_temperature` - temperature parameter for non-deterministic policies\n",
    "* This value must be positive"
   ]
  },
  {
   "cell_type": "code",
   "execution_count": 55,
   "id": "c5aea87d-c993-4cd6-80ad-0522dcc91956",
   "metadata": {},
   "outputs": [
    {
     "name": "stdout",
     "output_type": "stream",
     "text": [
      "{'batch_size': 5,\n",
      " 'common_layers': [16, 8],\n",
      " 'eval_batch_size': 1,\n",
      " 'feedback_model': 2,\n",
      " 'global_layers': [64, 32, 16],\n",
      " 'learning_rate': 0.005,\n",
      " 'logits_temperature': 1.0,\n",
      " 'model_type': 'Ranking',\n",
      " 'network_type': 'dotproduct',\n",
      " 'num_itmes': 5,\n",
      " 'num_slots': 2,\n",
      " 'penalty_mixture': 1.0,\n",
      " 'per_arm_layers': [64, 32, 16],\n",
      " 'policy_type': <RankingPolicyType.COSINE_DISTANCE: 1>}\n"
     ]
    }
   ],
   "source": [
    "AGENT_TYPE = \"Ranking\"\n",
    "NETWORK_TYPE = \"dotproduct\"\n",
    "POLICY_TYPE = ranking_agent.RankingPolicyType.COSINE_DISTANCE # COSINE_DISTANCE | NO_PENALTY | DESCENDING_SCORES\n",
    "\n",
    "PENALTY_MIXTURE = 1.0\n",
    "LOGITS_TEMPERATURE = 1.0\n",
    "\n",
    "LEARNING_RATE = 0.005\n",
    "\n",
    "GLOBAL_LAYERS   = [64, 32, 16]\n",
    "ARM_LAYERS      = [64, 32, 16]\n",
    "COMMON_LAYERS   = [16, 8]\n",
    "\n",
    "HPARAMS = {  # TODO - streamline and consolidate\n",
    "    \"batch_size\": BATCH_SIZE,\n",
    "    \"eval_batch_size\" : EVAL_BATCH_SIZE,\n",
    "    \"num_itmes\": NUM_ITEMS,\n",
    "    \"num_slots\": NUM_SLOTS,\n",
    "    \"model_type\": AGENT_TYPE,\n",
    "    \"network_type\": NETWORK_TYPE,\n",
    "    \"global_layers\": GLOBAL_LAYERS,\n",
    "    \"per_arm_layers\": ARM_LAYERS,\n",
    "    \"common_layers\": COMMON_LAYERS,\n",
    "    \"learning_rate\": LEARNING_RATE,\n",
    "    \"policy_type\": POLICY_TYPE,\n",
    "    \"feedback_model\" : feedback_model,\n",
    "    \"penalty_mixture\": PENALTY_MIXTURE,\n",
    "    \"logits_temperature\": LOGITS_TEMPERATURE,\n",
    "}\n",
    "pprint(HPARAMS)"
   ]
  },
  {
   "cell_type": "code",
   "execution_count": 56,
   "id": "80d4e8a9-6582-425d-9c50-499aa883b2cb",
   "metadata": {},
   "outputs": [
    {
     "name": "stdout",
     "output_type": "stream",
     "text": [
      "Network: GlobalAndArmDotProductNetwork\n"
     ]
    }
   ],
   "source": [
    "if NETWORK_TYPE == 'commontower':\n",
    "    scoring_network = global_and_arm_feature_network.create_feed_forward_common_tower_network(\n",
    "        observation_spec = observation_spec, \n",
    "        global_layers = GLOBAL_LAYERS, \n",
    "        arm_layers = ARM_LAYERS, \n",
    "        common_layers = COMMON_LAYERS,\n",
    "        # output_dim = output_dim,\n",
    "    )\n",
    "    \n",
    "elif NETWORK_TYPE == 'dotproduct':\n",
    "    scoring_network = global_and_arm_feature_network.create_feed_forward_dot_product_network(\n",
    "        observation_spec = observation_spec, \n",
    "        global_layers = GLOBAL_LAYERS, \n",
    "        arm_layers = ARM_LAYERS\n",
    "    )\n",
    "    \n",
    "if NETWORK_TYPE:\n",
    "    print(f\"Network: {scoring_network.name}\")"
   ]
  },
  {
   "cell_type": "markdown",
   "id": "0e1939dc-7ee9-414c-aa89-85b08bcfb4cb",
   "metadata": {},
   "source": [
    "## Define Agent "
   ]
  },
  {
   "cell_type": "code",
   "execution_count": 57,
   "id": "5dad7dd6-3d19-4c79-8a72-078253f046e5",
   "metadata": {},
   "outputs": [
    {
     "data": {
      "text/plain": [
       "<tf_agents.bandits.agents.ranking_agent.RankingAgent at 0x7f57580c3d00>"
      ]
     },
     "execution_count": 57,
     "metadata": {},
     "output_type": "execute_result"
    }
   ],
   "source": [
    "rank_agent = ranking_agent.RankingAgent(\n",
    "    time_step_spec=time_step_spec,\n",
    "    action_spec=action_spec,\n",
    "    scoring_network=scoring_network,\n",
    "    optimizer=tf.compat.v1.train.AdamOptimizer(learning_rate=HPARAMS['learning_rate']),\n",
    "    feedback_model=feedback_model,\n",
    "    policy_type=HPARAMS['policy_type'],\n",
    "    logits_temperature=HPARAMS['logits_temperature'],\n",
    "    penalty_mixture_coefficient=HPARAMS['penalty_mixture'],\n",
    "    summarize_grads_and_vars=True\n",
    ")\n",
    "\n",
    "rank_agent"
   ]
  },
  {
   "cell_type": "code",
   "execution_count": 58,
   "id": "a38e772e-80b8-4dfe-811d-83fae71c912c",
   "metadata": {},
   "outputs": [
    {
     "data": {
      "text/plain": [
       "BoundedTensorSpec(shape=(2,), dtype=tf.int32, name='action_spec', minimum=array(0, dtype=int32), maximum=array(4, dtype=int32))"
      ]
     },
     "execution_count": 58,
     "metadata": {},
     "output_type": "execute_result"
    }
   ],
   "source": [
    "rank_agent.action_spec"
   ]
  },
  {
   "cell_type": "code",
   "execution_count": 59,
   "id": "1616e93e-7555-4a52-a7e1-f9b895873620",
   "metadata": {},
   "outputs": [
    {
     "data": {
      "text/plain": [
       "_TupleWrapper(TimeStep(\n",
       "{'discount': BoundedTensorSpec(shape=(), dtype=tf.float32, name='discount', minimum=array(0., dtype=float32), maximum=array(1., dtype=float32)),\n",
       " 'observation': DictWrapper({'global': TensorSpec(shape=(64,), dtype=tf.float32, name=None), 'per_arm': TensorSpec(shape=(5, 5), dtype=tf.float32, name=None)}),\n",
       " 'reward': TensorSpec(shape=(), dtype=tf.float32, name='reward'),\n",
       " 'step_type': TensorSpec(shape=(), dtype=tf.int32, name='step_type')}))"
      ]
     },
     "execution_count": 59,
     "metadata": {},
     "output_type": "execute_result"
    }
   ],
   "source": [
    "rank_agent.time_step_spec"
   ]
  },
  {
   "cell_type": "code",
   "execution_count": 60,
   "id": "bff1a577-d86d-46d9-9071-0f10df0ca0cf",
   "metadata": {},
   "outputs": [
    {
     "data": {
      "text/plain": [
       "_TupleWrapper(Trajectory(\n",
       "{'action': (),\n",
       " 'discount': BoundedTensorSpec(shape=(), dtype=tf.float32, name='discount', minimum=array(0., dtype=float32), maximum=array(1., dtype=float32)),\n",
       " 'next_step_type': TensorSpec(shape=(), dtype=tf.int32, name='step_type'),\n",
       " 'observation': DictWrapper({'global': TensorSpec(shape=(64,), dtype=tf.float32, name=None), 'per_arm': TensorSpec(shape=(2, 5), dtype=tf.float32, name=None)}),\n",
       " 'policy_info': (),\n",
       " 'reward': TensorSpec(shape=(), dtype=tf.float32, name='reward'),\n",
       " 'step_type': TensorSpec(shape=(), dtype=tf.int32, name='step_type')}))"
      ]
     },
     "execution_count": 60,
     "metadata": {},
     "output_type": "execute_result"
    }
   ],
   "source": [
    "rank_agent.training_data_spec"
   ]
  },
  {
   "cell_type": "markdown",
   "id": "46435a9d-c901-4d32-8baa-1da60c427788",
   "metadata": {},
   "source": [
    "### Reward function\n",
    "\n",
    "* `_create_ranking_reward_features` - [src](https://source.corp.google.com/piper///depot/google3/learning/smartchoices/training/models/agent_factory_test.py?q=%22ranking_model_factory%22&sq=package:piper%20file:%2F%2Fdepot%2Fgoogle3%20-file:google3%2Fexperimental&start=1)\n",
    "\n",
    "* `_get_rewards_from_arm_features` "
   ]
  },
  {
   "cell_type": "markdown",
   "id": "d8c09ab4-fc8d-494a-94e6-aa56ee41bff0",
   "metadata": {},
   "source": [
    "#### tmp - debugging"
   ]
  },
  {
   "cell_type": "code",
   "execution_count": 71,
   "id": "90b521c4-bb43-4cc5-b0fa-67d420b64834",
   "metadata": {},
   "outputs": [],
   "source": [
    "def _get_ranking_rewards_sv(x):\n",
    "    \"\"\"Calculates reward for the actions.\"\"\"\n",
    "    \n",
    "    # rating_scores_list = []\n",
    "    ratings_list = x[\"user_rating\"] #[0]\n",
    "    indices = tf.argsort(ratings_list, direction=\"DESCENDING\")\n",
    "    \n",
    "    feedback = tf.gather(ratings_list, indices, batch_dims=-1) #.numpy()\n",
    "    \n",
    "    feedback = tf.math.top_k(feedback, k=HPARAMS['num_slots']).values\n",
    "    \n",
    "    return feedback"
   ]
  },
  {
   "cell_type": "code",
   "execution_count": 72,
   "id": "997dbdd4-7048-4d9f-8f65-f5e99a28ef1a",
   "metadata": {},
   "outputs": [
    {
     "data": {
      "text/plain": [
       "<tf.Tensor: shape=(1, 2), dtype=float32, numpy=array([[5., 4.]], dtype=float32)>"
      ]
     },
     "execution_count": 72,
     "metadata": {},
     "output_type": "execute_result"
    }
   ],
   "source": [
    "test_ratings = _get_ranking_rewards_sv(data)\n",
    "test_ratings"
   ]
  },
  {
   "cell_type": "code",
   "execution_count": 74,
   "id": "2fe12f45-80e3-410c-b12e-f6ba31bd65dc",
   "metadata": {},
   "outputs": [],
   "source": [
    "# _get_rewards_from_arm_features"
   ]
  },
  {
   "cell_type": "code",
   "execution_count": 97,
   "id": "31976a8d-c4ba-4fc1-a429-e24f812aac58",
   "metadata": {},
   "outputs": [],
   "source": [
    "def _rank_trajectory_fn(element): # hparams\n",
    "    \"\"\"Converts a dataset element into a trajectory.\"\"\"\n",
    "    # global_features = _get_global_context_features(element)\n",
    "    # arm_features = _get_per_arm_features(element)\n",
    "    \n",
    "    global_features = _get_global_context_features(element)\n",
    "    arm_features = _get_per_arm_features(element)\n",
    "    \n",
    "    # obs spec\n",
    "    observation = {\n",
    "        bandit_spec_utils.GLOBAL_FEATURE_KEY:\n",
    "            # train_utils._add_outer_dimension(global_features),\n",
    "            global_features,\n",
    "        bandit_spec_utils.PER_ARM_FEATURE_KEY: \n",
    "            # train_utils._add_outer_dimension(arm_features)\n",
    "            arm_features\n",
    "    }\n",
    "    \n",
    "    # reward = element['user_rating']\n",
    "    ranking_rewards = _get_ranking_rewards_sv(element)\n",
    "    # ranking_rewards = train_utils._add_outer_dimension(_get_ranking_rewards_sv(element))\n",
    "    \n",
    "    policy_info = policy_utilities.PolicyInfo(\n",
    "        # predicted_rewards_mean=tf.zeros([HPARAMS['batch_size'], 1, HPARAMS['num_slots']]),\n",
    "        predicted_rewards_mean=HPARAMS['num_slots'],\n",
    "        # Ranking policies do not use the `bandit_policy_type` info field\n",
    "        # bandit_policy_type=tf.zeros([HPARAMS['batch_size'], 1, 1], dtype=tf.int32),\n",
    "    )\n",
    "    \n",
    "    action = np.zeros((HPARAMS['batch_size']), dtype=np.float32)\n",
    "    # action=tf.zeros_like(ranking_rewards, dtype=tf.int32)\n",
    "    \n",
    "    discount = np.zeros((HPARAMS['batch_size']), dtype=np.float32)\n",
    "    # discount=tf.zeros_like(ranking_rewards, dtype=tf.int32)\n",
    "    return trajectory.single_step(\n",
    "        observation=observation,\n",
    "        action=action,\n",
    "        policy_info=(), #policy_info,\n",
    "        reward=ranking_rewards,\n",
    "        discount=discount\n",
    "    )\n"
   ]
  },
  {
   "cell_type": "code",
   "execution_count": 98,
   "id": "c8221e8a-cdf2-4944-9856-6a2371d3f782",
   "metadata": {
    "tags": []
   },
   "outputs": [
    {
     "name": "stdout",
     "output_type": "stream",
     "text": [
      "concat_embeddings shape: (5, 64)\n"
     ]
    },
    {
     "data": {
      "text/plain": [
       "Trajectory(\n",
       "{'action': <tf.Tensor: shape=(5,), dtype=float32, numpy=array([0., 0., 0., 0., 0.], dtype=float32)>,\n",
       " 'discount': <tf.Tensor: shape=(5,), dtype=float32, numpy=array([0., 0., 0., 0., 0.], dtype=float32)>,\n",
       " 'next_step_type': <tf.Tensor: shape=(5,), dtype=int32, numpy=array([2, 2, 2, 2, 2], dtype=int32)>,\n",
       " 'observation': {'global': <tf.Tensor: shape=(5, 1, 1, 64), dtype=float32, numpy=\n",
       "array([[[[-9.46198776e-03, -7.79101998e-03,  2.25365646e-02,\n",
       "          -2.81036031e-02, -4.90761884e-02, -1.11315399e-03,\n",
       "           1.59021355e-02, -1.03365071e-02, -2.27282289e-02,\n",
       "          -3.61915119e-02, -2.71073114e-02, -2.96614524e-02,\n",
       "          -1.31333992e-03, -4.35202979e-02, -5.28260320e-03,\n",
       "          -3.77968065e-02, -4.00480628e-02, -4.46952842e-02,\n",
       "           3.35851945e-02, -3.44019420e-02,  2.00893991e-02,\n",
       "           7.74459913e-03,  4.80566062e-02,  4.01390083e-02,\n",
       "           2.09614523e-02, -7.09068775e-03, -1.05105713e-03,\n",
       "           1.18973106e-03,  3.06961201e-02, -4.64071035e-02,\n",
       "           3.24600078e-02,  4.13383283e-02, -3.12739238e-02,\n",
       "           9.70822573e-03,  4.90096472e-02,  1.27604939e-02,\n",
       "          -2.91026123e-02,  4.10912521e-02,  2.20532529e-02,\n",
       "          -4.54620719e-02, -2.46492755e-02,  4.51376475e-02,\n",
       "          -4.67082039e-02,  4.21370380e-02,  4.48412634e-02,\n",
       "           1.05231516e-02,  4.00577448e-02, -8.30711052e-03,\n",
       "           4.55688313e-03,  2.88840197e-02,  4.41870354e-02,\n",
       "          -2.26454269e-02,  4.99367751e-02, -2.51817238e-02,\n",
       "          -9.02993605e-03,  1.10137463e-03, -4.69030403e-02,\n",
       "          -4.30104025e-02, -2.44663116e-02, -4.86718193e-02,\n",
       "          -1.48029923e-02,  2.16143839e-02,  3.75714339e-02,\n",
       "           9.06471163e-03]]],\n",
       "\n",
       "\n",
       "       [[[ 4.16174047e-02,  1.34420730e-02,  3.47238295e-02,\n",
       "          -2.18948964e-02,  1.25265121e-03, -3.45918313e-02,\n",
       "           4.48976196e-02,  8.03334638e-03,  2.01590545e-02,\n",
       "          -2.40300540e-02,  3.38223241e-02,  2.23982446e-02,\n",
       "          -1.28790848e-02, -9.58368927e-03, -2.93478854e-02,\n",
       "          -4.10761684e-03,  1.59432031e-02,  3.55242975e-02,\n",
       "          -1.11946575e-02,  3.83041054e-03, -3.44034545e-02,\n",
       "           5.35947084e-03, -2.36774441e-02,  4.60370667e-02,\n",
       "           2.79878639e-02,  3.09957154e-02, -4.87770438e-02,\n",
       "           3.51322182e-02,  4.09330241e-02,  3.61378901e-02,\n",
       "           4.08960320e-02, -7.91870058e-04, -6.10942766e-03,\n",
       "          -2.86510345e-02, -1.64308324e-02,  4.10781167e-02,\n",
       "           3.59181277e-02, -8.60859081e-03, -2.02602744e-02,\n",
       "          -3.38734761e-02,  2.44677067e-04, -2.23734621e-02,\n",
       "          -4.11316641e-02,  3.89204137e-02,  4.10479419e-02,\n",
       "          -2.20012553e-02, -8.77127796e-03,  1.37643851e-02,\n",
       "           1.19028464e-02,  4.35475223e-02, -4.89056110e-02,\n",
       "          -4.25558574e-02, -2.89142728e-02,  2.07717530e-02,\n",
       "          -4.83281389e-02,  6.14394993e-03, -4.59960811e-02,\n",
       "          -8.93765688e-03, -3.29453237e-02,  2.29969956e-02,\n",
       "          -4.97484319e-02,  3.34283747e-02,  3.40592153e-02,\n",
       "           4.11356948e-02]]],\n",
       "\n",
       "\n",
       "       [[[-2.20012311e-02, -2.81180069e-03,  4.17274497e-02,\n",
       "           4.02251631e-03,  4.98035587e-02,  1.74654610e-02,\n",
       "           4.39195707e-03,  1.10005513e-02, -2.96131019e-02,\n",
       "          -1.46849044e-02, -1.94092877e-02, -2.02028882e-02,\n",
       "           1.32022537e-02,  9.74298641e-03,  4.05805744e-02,\n",
       "           1.13264695e-02,  1.80305131e-02,  4.83692810e-03,\n",
       "          -5.68734482e-03,  2.32426636e-02, -2.31301915e-02,\n",
       "          -4.37158607e-02,  2.08006538e-02,  4.82552089e-02,\n",
       "          -2.78437734e-02,  3.66408750e-03,  2.42637284e-02,\n",
       "           3.96850221e-02,  3.07089575e-02, -2.43303906e-02,\n",
       "          -3.21455821e-02,  2.68785097e-02,  1.92610510e-02,\n",
       "           4.97845523e-02,  2.61719152e-03, -2.84863245e-02,\n",
       "          -1.12956874e-02, -3.29194553e-02,  8.55856016e-03,\n",
       "           2.13553198e-02,  4.99509275e-04, -3.67739685e-02,\n",
       "          -2.61524674e-02,  2.70940550e-02,  1.02038011e-02,\n",
       "           1.55296065e-02,  2.39894278e-02,  3.43403257e-02,\n",
       "           4.98326160e-02, -3.94321308e-02, -4.81756441e-02,\n",
       "          -1.49704106e-02,  4.22174223e-02,  1.11194365e-02,\n",
       "           1.72890723e-04,  5.80221415e-03,  3.10636796e-02,\n",
       "          -2.04458591e-02,  3.65799777e-02, -7.77461380e-03,\n",
       "          -3.32511812e-02,  1.63479932e-02, -3.00489739e-03,\n",
       "           9.35456902e-03]]],\n",
       "\n",
       "\n",
       "       [[[-1.19526163e-02, -3.23151499e-02,  4.70465906e-02,\n",
       "           6.10904768e-03, -3.39374170e-02,  1.35874040e-02,\n",
       "           4.56272699e-02,  2.03449391e-02,  2.01006792e-02,\n",
       "          -4.20598499e-02, -4.42711599e-02,  1.41434930e-02,\n",
       "          -6.11320138e-05, -5.76152653e-03, -4.13493626e-02,\n",
       "           1.20836385e-02, -5.13178110e-03,  4.96990792e-02,\n",
       "           2.44952105e-02, -1.59744509e-02,  6.38964027e-03,\n",
       "           2.12763622e-03, -4.73476052e-02, -2.80424599e-02,\n",
       "          -1.71720609e-02, -4.29771543e-02,  6.87599182e-03,\n",
       "           5.90268523e-03, -2.71067508e-02,  3.42083015e-02,\n",
       "          -3.92684937e-02,  1.54162310e-02,  3.48764658e-03,\n",
       "          -2.17002761e-02,  4.46943194e-03,  1.58914067e-02,\n",
       "           3.76983769e-02,  2.37254016e-02,  7.22142309e-03,\n",
       "           1.94975995e-02, -8.47431272e-03,  2.79563554e-02,\n",
       "          -2.37027891e-02, -3.23519111e-02,  4.56196107e-02,\n",
       "           7.83620030e-03,  1.86469071e-02, -2.51765139e-02,\n",
       "           8.44781473e-03,  2.91855372e-02,  4.12194170e-02,\n",
       "          -6.05852529e-03,  2.62973346e-02,  1.42944120e-02,\n",
       "           4.81558703e-02, -4.32560556e-02, -4.41096313e-02,\n",
       "           3.60933803e-02, -3.92139070e-02, -6.41122460e-05,\n",
       "           1.47684254e-02,  2.31411792e-02, -5.46414778e-03,\n",
       "          -7.11578131e-03]]],\n",
       "\n",
       "\n",
       "       [[[ 2.80487575e-02,  2.16499679e-02,  1.74571201e-03,\n",
       "           3.72042321e-02, -4.97315414e-02, -4.25075367e-03,\n",
       "           1.52538158e-02,  2.79154219e-02,  1.46717690e-02,\n",
       "          -1.89195033e-02, -6.73085451e-03,  1.96770690e-02,\n",
       "           4.40244116e-02,  3.72294821e-02,  8.75878334e-03,\n",
       "           3.64772938e-02, -2.13422906e-02,  2.17723511e-02,\n",
       "          -3.82862091e-02, -1.15493536e-02,  4.42128442e-02,\n",
       "           2.82534473e-02, -9.16342810e-03,  4.69081514e-02,\n",
       "          -2.18606722e-02, -2.52931602e-02, -2.78121475e-02,\n",
       "          -6.33759424e-03, -3.40461731e-03, -8.47520679e-03,\n",
       "           3.85165252e-02, -2.55977269e-02,  4.02890779e-02,\n",
       "           9.48189571e-03, -4.96533401e-02,  8.57619196e-03,\n",
       "          -3.58100645e-02, -2.55236626e-02,  2.11089589e-02,\n",
       "          -8.28664377e-03,  1.30756386e-02,  2.57188119e-02,\n",
       "          -3.58101018e-02, -1.91531666e-02, -2.97562722e-02,\n",
       "           3.00256051e-02, -3.28814760e-02, -3.69806215e-03,\n",
       "           9.27609205e-03,  6.33162260e-03,  3.53524201e-02,\n",
       "           1.20789781e-02, -3.78373377e-02,  4.64672931e-02,\n",
       "           1.05294101e-02,  1.56322829e-02,  1.76131763e-02,\n",
       "           1.20821968e-02,  3.81287672e-02, -2.39403248e-02,\n",
       "           2.91708373e-02, -9.88040119e-03,  4.31307442e-02,\n",
       "           2.54594423e-02]]]], dtype=float32)>,\n",
       "                 'per_arm': <tf.Tensor: shape=(5, 1, 5, 64), dtype=float32, numpy=\n",
       "array([[[[-0.01262735,  0.04159347, -0.02607339, ...,  0.03153033,\n",
       "          -0.01298419,  0.03325755],\n",
       "         [ 0.04584137,  0.00485065, -0.00277252, ...,  0.03153033,\n",
       "          -0.01298419,  0.03325755],\n",
       "         [-0.01636115, -0.04689224, -0.013713  , ...,  0.00678207,\n",
       "           0.0311258 , -0.02424104],\n",
       "         [-0.04244614,  0.01901117,  0.01638852, ...,  0.03153033,\n",
       "          -0.01298419,  0.03325755],\n",
       "         [-0.03648503,  0.0380994 ,  0.04364878, ...,  0.0261156 ,\n",
       "           0.01404126,  0.01811414]]],\n",
       "\n",
       "\n",
       "       [[[ 0.04584137,  0.00485065, -0.00277252, ...,  0.03153033,\n",
       "          -0.01298419,  0.03325755],\n",
       "         [-0.01636115, -0.04689224, -0.013713  , ...,  0.00678207,\n",
       "           0.0311258 , -0.02424104],\n",
       "         [-0.01262735,  0.04159347, -0.02607339, ...,  0.03153033,\n",
       "          -0.01298419,  0.03325755],\n",
       "         [-0.03648503,  0.0380994 ,  0.04364878, ...,  0.0261156 ,\n",
       "           0.01404126,  0.01811414],\n",
       "         [-0.04244614,  0.01901117,  0.01638852, ...,  0.03153033,\n",
       "          -0.01298419,  0.03325755]]],\n",
       "\n",
       "\n",
       "       [[[-0.01636115, -0.04689224, -0.013713  , ...,  0.00678207,\n",
       "           0.0311258 , -0.02424104],\n",
       "         [ 0.04584137,  0.00485065, -0.00277252, ...,  0.03153033,\n",
       "          -0.01298419,  0.03325755],\n",
       "         [-0.04244614,  0.01901117,  0.01638852, ...,  0.03153033,\n",
       "          -0.01298419,  0.03325755],\n",
       "         [-0.03648503,  0.0380994 ,  0.04364878, ...,  0.0261156 ,\n",
       "           0.01404126,  0.01811414],\n",
       "         [-0.01262735,  0.04159347, -0.02607339, ...,  0.03153033,\n",
       "          -0.01298419,  0.03325755]]],\n",
       "\n",
       "\n",
       "       [[[ 0.04584137,  0.00485065, -0.00277252, ...,  0.03153033,\n",
       "          -0.01298419,  0.03325755],\n",
       "         [-0.04244614,  0.01901117,  0.01638852, ...,  0.03153033,\n",
       "          -0.01298419,  0.03325755],\n",
       "         [-0.01262735,  0.04159347, -0.02607339, ...,  0.03153033,\n",
       "          -0.01298419,  0.03325755],\n",
       "         [-0.03648503,  0.0380994 ,  0.04364878, ...,  0.0261156 ,\n",
       "           0.01404126,  0.01811414],\n",
       "         [-0.01636115, -0.04689224, -0.013713  , ...,  0.00678207,\n",
       "           0.0311258 , -0.02424104]]],\n",
       "\n",
       "\n",
       "       [[[-0.01636115, -0.04689224, -0.013713  , ...,  0.00678207,\n",
       "           0.0311258 , -0.02424104],\n",
       "         [-0.01262735,  0.04159347, -0.02607339, ...,  0.03153033,\n",
       "          -0.01298419,  0.03325755],\n",
       "         [-0.03648503,  0.0380994 ,  0.04364878, ...,  0.0261156 ,\n",
       "           0.01404126,  0.01811414],\n",
       "         [ 0.04584137,  0.00485065, -0.00277252, ...,  0.03153033,\n",
       "          -0.01298419,  0.03325755],\n",
       "         [-0.04244614,  0.01901117,  0.01638852, ...,  0.03153033,\n",
       "          -0.01298419,  0.03325755]]]], dtype=float32)>},\n",
       " 'policy_info': (),\n",
       " 'reward': <tf.Tensor: shape=(5, 2), dtype=float32, numpy=\n",
       "array([[5., 4.],\n",
       "       [5., 4.],\n",
       "       [4., 3.],\n",
       "       [5., 5.],\n",
       "       [5., 4.]], dtype=float32)>,\n",
       " 'step_type': <tf.Tensor: shape=(5,), dtype=int32, numpy=array([0, 0, 0, 0, 0], dtype=int32)>})"
      ]
     },
     "execution_count": 98,
     "metadata": {},
     "output_type": "execute_result"
    }
   ],
   "source": [
    "for x in train_dataset.batch(HPARAMS['batch_size']).take(1):\n",
    "    test_traj = _rank_trajectory_fn(x)\n",
    "    \n",
    "test_traj"
   ]
  },
  {
   "cell_type": "code",
   "execution_count": 99,
   "id": "05f77acf-53dc-443c-817d-7f8a091be627",
   "metadata": {},
   "outputs": [
    {
     "name": "stdout",
     "output_type": "stream",
     "text": [
      "test_traj.action.shape: (5,)\n"
     ]
    }
   ],
   "source": [
    "print(f\"test_traj.action.shape: {test_traj.action.shape}\") "
   ]
  },
  {
   "cell_type": "code",
   "execution_count": 100,
   "id": "8a3b97e5-fac3-4e5e-9db2-f90766e07651",
   "metadata": {},
   "outputs": [
    {
     "name": "stdout",
     "output_type": "stream",
     "text": [
      "test_traj.discount.shape: (5,)\n"
     ]
    }
   ],
   "source": [
    "print(f\"test_traj.discount.shape: {test_traj.discount.shape}\") "
   ]
  },
  {
   "cell_type": "code",
   "execution_count": 101,
   "id": "0ae43e6c-33e1-4440-a891-df36b646f770",
   "metadata": {},
   "outputs": [
    {
     "name": "stdout",
     "output_type": "stream",
     "text": [
      "test_traj.reward.shape: (5, 2)\n"
     ]
    }
   ],
   "source": [
    "print(f\"test_traj.reward.shape: {test_traj.reward.shape}\") "
   ]
  },
  {
   "cell_type": "code",
   "execution_count": 102,
   "id": "57fd5848-4d75-4fae-8cd7-0d7310562508",
   "metadata": {},
   "outputs": [
    {
     "name": "stdout",
     "output_type": "stream",
     "text": [
      "test_traj.observation.shape: (5, 1, 1, 64)\n"
     ]
    }
   ],
   "source": [
    "print(f\"test_traj.observation.shape: {test_traj.observation['global'].shape}\") "
   ]
  },
  {
   "cell_type": "code",
   "execution_count": 103,
   "id": "94d81624-513c-4ccb-8caf-1638a8983dbb",
   "metadata": {},
   "outputs": [
    {
     "name": "stdout",
     "output_type": "stream",
     "text": [
      "test_traj.observation.shape: (5, 1, 5, 64)\n"
     ]
    }
   ],
   "source": [
    "print(f\"test_traj.observation.shape: {test_traj.observation['per_arm'].shape}\") "
   ]
  },
  {
   "cell_type": "code",
   "execution_count": 104,
   "id": "3f4387d6-3637-494b-b389-813d07e0c727",
   "metadata": {},
   "outputs": [
    {
     "data": {
      "text/plain": [
       "{'global': TensorSpec(shape=(64,), dtype=tf.float32, name=None),\n",
       " 'per_arm': TensorSpec(shape=(5, 5), dtype=tf.float32, name=None)}"
      ]
     },
     "execution_count": 104,
     "metadata": {},
     "output_type": "execute_result"
    }
   ],
   "source": [
    "observation_spec"
   ]
  },
  {
   "cell_type": "code",
   "execution_count": 105,
   "id": "80ae1e4f-2fe4-4c70-9b5b-99b68be00221",
   "metadata": {},
   "outputs": [
    {
     "name": "stdout",
     "output_type": "stream",
     "text": [
      "expected_num_actions: 5\n",
      "predicted_rewards_mean: TensorSpec(shape=(5,), dtype=tf.float32, name=None)\n"
     ]
    }
   ],
   "source": [
    "expected_num_actions = action_spec.maximum - action_spec.minimum + 1\n",
    "print(f\"expected_num_actions: {expected_num_actions}\")\n",
    "\n",
    "predicted_rewards_mean = tensor_spec.TensorSpec([expected_num_actions])\n",
    "print(f\"predicted_rewards_mean: {predicted_rewards_mean}\")"
   ]
  },
  {
   "cell_type": "markdown",
   "id": "37f5ac56-3153-48e3-999a-a818ca673129",
   "metadata": {},
   "source": [
    "# Train Ranking Agent"
   ]
  },
  {
   "cell_type": "code",
   "execution_count": 106,
   "id": "43cd93ee-4ed8-4b11-9350-5e606ccca87a",
   "metadata": {},
   "outputs": [
    {
     "name": "stdout",
     "output_type": "stream",
     "text": [
      "EXPERIMENT_NAME   : local-ranker-rec-bandits-v1\n",
      "RUN_NAME          : run-20231003-203431\n",
      "\n",
      "BASE_OUTPUT_DIR   : gs://rec-bandits-v1-hybrid-vertex-bucket/local-ranker-rec-bandits-v1/run-20231003-203431\n",
      "LOG_DIR           : gs://rec-bandits-v1-hybrid-vertex-bucket/local-ranker-rec-bandits-v1/run-20231003-203431/logs\n",
      "ROOT_DIR          : gs://rec-bandits-v1-hybrid-vertex-bucket/local-ranker-rec-bandits-v1/run-20231003-203431/root\n",
      "ARTIFACTS_DIR     : gs://rec-bandits-v1-hybrid-vertex-bucket/local-ranker-rec-bandits-v1/run-20231003-203431/artifacts\n"
     ]
    }
   ],
   "source": [
    "EXPERIMENT_NAME   = f'local-ranker-{PREFIX}'\n",
    "\n",
    "# new experiment\n",
    "invoke_time       = time.strftime(\"%Y%m%d-%H%M%S\")\n",
    "RUN_NAME          = f'run-{invoke_time}'\n",
    "\n",
    "BASE_OUTPUT_DIR   = f'{BUCKET_URI}/{EXPERIMENT_NAME}/{RUN_NAME}'\n",
    "LOG_DIR           = f\"{BASE_OUTPUT_DIR}/logs\"\n",
    "ROOT_DIR          = f\"{BASE_OUTPUT_DIR}/root\"       # Root directory for writing logs/summaries/checkpoints.\n",
    "ARTIFACTS_DIR     = f\"{BASE_OUTPUT_DIR}/artifacts\"  # Where the trained model will be saved and restored.\n",
    "\n",
    "aiplatform.init(\n",
    "    project=PROJECT_ID,\n",
    "    location=REGION,\n",
    "    experiment=EXPERIMENT_NAME\n",
    ")\n",
    "\n",
    "print(f\"EXPERIMENT_NAME   : {EXPERIMENT_NAME}\")\n",
    "print(f\"RUN_NAME          : {RUN_NAME}\\n\")\n",
    "print(f\"BASE_OUTPUT_DIR   : {BASE_OUTPUT_DIR}\")\n",
    "print(f\"LOG_DIR           : {LOG_DIR}\")\n",
    "print(f\"ROOT_DIR          : {ROOT_DIR}\")\n",
    "print(f\"ARTIFACTS_DIR     : {ARTIFACTS_DIR}\")"
   ]
  },
  {
   "cell_type": "code",
   "execution_count": 107,
   "id": "99169818-818e-4148-b045-25eded36f553",
   "metadata": {},
   "outputs": [
    {
     "name": "stdout",
     "output_type": "stream",
     "text": [
      "tf_agents version: 0.17.0\n",
      "tensorflow version: 2.13.0\n"
     ]
    }
   ],
   "source": [
    "import collections\n",
    "\n",
    "from tf_agents.policies import py_tf_eager_policy\n",
    "from tf_agents.policies import tf_policy\n",
    "from tf_agents.trajectories import time_step as ts\n",
    "from tf_agents.policies import policy_saver\n",
    "from tf_agents.metrics import export_utils\n",
    "from tf_agents.metrics import tf_metrics\n",
    "from tf_agents.eval import metric_utils\n",
    "from tf_agents.utils import common\n",
    "\n",
    "import tf_agents\n",
    "\n",
    "print(f\"tf_agents version: {tf_agents.__version__}\")\n",
    "print(f\"tensorflow version: {tf.__version__}\")"
   ]
  },
  {
   "cell_type": "markdown",
   "id": "01f7b1cc-a927-45c0-b64d-30a70250fb8d",
   "metadata": {},
   "source": [
    "### logs & checkpoints"
   ]
  },
  {
   "cell_type": "code",
   "execution_count": 108,
   "id": "e6f63092-48ba-4cb2-8ee4-9b30bd4c23c2",
   "metadata": {},
   "outputs": [
    {
     "name": "stdout",
     "output_type": "stream",
     "text": [
      "agent: ranking_agent\n",
      "agent: penalize_cosine_distance_ranking_policy\n"
     ]
    }
   ],
   "source": [
    "global_step = tf.compat.v1.train.get_or_create_global_step()\n",
    "\n",
    "rank_agent.initialize()\n",
    "print(f'agent: {rank_agent.name}')\n",
    "print(f'agent: {rank_agent.policy.name}')"
   ]
  },
  {
   "cell_type": "code",
   "execution_count": 109,
   "id": "dd893a5d-449e-4c21-b9fc-3cf5114dd2b2",
   "metadata": {},
   "outputs": [
    {
     "name": "stdout",
     "output_type": "stream",
     "text": [
      "('metrics: [<tf_agents.metrics.tf_metrics.AverageReturnMetric object at '\n",
      " '0x7f584696ffa0>]')\n",
      "setting checkpoint_manager: gs://rec-bandits-v1-hybrid-vertex-bucket/local-ranker-rec-bandits-v1/run-20231003-203431/root/chkpoint\n"
     ]
    }
   ],
   "source": [
    "# ====================================================\n",
    "# TB summary writer\n",
    "# ====================================================\n",
    "train_summary_writer = tf.compat.v2.summary.create_file_writer(\n",
    "    f\"{LOG_DIR}/train\", flush_millis=10 * 1000\n",
    ")\n",
    "# train_summary_writer.set_as_default()\n",
    "\n",
    "# eval_summary_writer = tf.compat.v2.summary.create_file_writer(\n",
    "#     f\"{LOG_DIR}/eval\", flush_millis=10 * 1000\n",
    "# )\n",
    "# ====================================================\n",
    "# metrics\n",
    "# ====================================================\n",
    "# `step_metric` records the number of individual rounds of bandit interaction;\n",
    "# that is, (number of trajectories) * batch_size\n",
    "step_metric = tf_metrics.EnvironmentSteps()\n",
    "\n",
    "if feedback_model == ranking_environment.FeedbackModel.SCORE_VECTOR:\n",
    "    reward_metric = tf_metrics.AverageReturnMetric(\n",
    "        batch_size=HPARAMS['batch_size'],\n",
    "        buffer_size=20\n",
    "    )\n",
    "else:\n",
    "    reward_metric = tf_metrics.AverageReturnMultiMetric(\n",
    "        reward_spec=environment.reward_spec(),\n",
    "        batch_size=HPARAMS['batch_size'],\n",
    "        buffer_size=20\n",
    "    )\n",
    "    \n",
    "metrics = [reward_metric]\n",
    "\n",
    "pprint(f\"metrics: {metrics}\")\n",
    "\n",
    "# ====================================================\n",
    "# get checkpoint manager\n",
    "# ====================================================\n",
    "CHKPOINT_DIR = f\"{ROOT_DIR}/chkpoint\"\n",
    "print(f\"setting checkpoint_manager: {CHKPOINT_DIR}\")\n",
    "\n",
    "checkpoint_manager = train_utils.restore_and_get_checkpoint_manager(\n",
    "    root_dir=CHKPOINT_DIR, \n",
    "    agent=rank_agent, \n",
    "    metrics=metrics, \n",
    "    step_metric=step_metric\n",
    ")"
   ]
  },
  {
   "cell_type": "code",
   "execution_count": 110,
   "id": "dd8bc05c-81f1-4919-9668-a0236f35a061",
   "metadata": {},
   "outputs": [],
   "source": [
    "# # ====================================================\n",
    "# # policy saver\n",
    "# # ====================================================\n",
    "# saver = policy_saver.PolicySaver(\n",
    "#     policy = rank_agent.policy, \n",
    "#     # train_step=global_step\n",
    "# )"
   ]
  },
  {
   "cell_type": "code",
   "execution_count": 111,
   "id": "4bb1d475-446e-498f-a4c1-a813de6352e1",
   "metadata": {},
   "outputs": [
    {
     "data": {
      "text/plain": [
       "True"
      ]
     },
     "execution_count": 111,
     "metadata": {},
     "output_type": "execute_result"
    }
   ],
   "source": [
    "policy = rank_agent.policy\n",
    "isinstance(policy, tf_policy.TFPolicy)"
   ]
  },
  {
   "cell_type": "markdown",
   "id": "db9af553-9512-47e0-ae9d-d593139143e0",
   "metadata": {},
   "source": [
    "## Train config"
   ]
  },
  {
   "cell_type": "code",
   "execution_count": 112,
   "id": "50ef435c-3d9b-432d-a5e2-ab5d60e93cdf",
   "metadata": {},
   "outputs": [
    {
     "name": "stdout",
     "output_type": "stream",
     "text": [
      "TRAIN_DATA_SIZE : 900\n",
      "NUM_TRAIN_STEPS : 180\n",
      "EVAL_DATA_SIZE : 900\n",
      "NUM_EVAL_STEPS : 100\n",
      "CHKPT_INTERVAL: 180\n",
      "LOG_INTERVAL : 10\n"
     ]
    }
   ],
   "source": [
    "TRAIN_DATA_SIZE = 900          # len(list(train_dataset))\n",
    "NUM_TRAIN_STEPS = 180            # TRAIN_DATA_SIZE // HPARAMS['batch_size']\n",
    "\n",
    "EVAL_DATA_SIZE  = 900          # len(list(val_dataset))\n",
    "NUM_EVAL_STEPS  = 100           # EVAL_DATA_SIZE // HPARAMS['eval_batch_size']\n",
    "\n",
    "CHKPT_INTERVAL  = NUM_TRAIN_STEPS # // 5\n",
    "LOG_INTERVAL    = 10\n",
    "# EVAL_INTERVAL = NUM_TRAIN_STEPS // 2\n",
    "\n",
    "print(f\"TRAIN_DATA_SIZE : {TRAIN_DATA_SIZE}\")\n",
    "print(f\"NUM_TRAIN_STEPS : {NUM_TRAIN_STEPS}\")\n",
    "print(f\"EVAL_DATA_SIZE : {EVAL_DATA_SIZE}\")\n",
    "print(f\"NUM_EVAL_STEPS : {NUM_EVAL_STEPS}\")\n",
    "print(f\"CHKPT_INTERVAL: {CHKPT_INTERVAL}\")\n",
    "print(f\"LOG_INTERVAL : {LOG_INTERVAL}\")\n",
    "# print(f\"EVAL_INTERVAL : {EVAL_INTERVAL}\")"
   ]
  },
  {
   "cell_type": "code",
   "execution_count": 113,
   "id": "8137550f-3316-4af2-919e-268584e3941f",
   "metadata": {},
   "outputs": [
    {
     "data": {
      "text/plain": [
       "<_ParallelMapDataset element_spec={'movie_genres': TensorSpec(shape=(5,), dtype=tf.int64, name=None), 'movie_id': TensorSpec(shape=(5,), dtype=tf.string, name=None), 'user_id': TensorSpec(shape=(), dtype=tf.string, name=None), 'user_rating': TensorSpec(shape=(5,), dtype=tf.float32, name=None)}>"
      ]
     },
     "execution_count": 113,
     "metadata": {},
     "output_type": "execute_result"
    }
   ],
   "source": [
    "train_dataset"
   ]
  },
  {
   "cell_type": "code",
   "execution_count": 114,
   "id": "d4fa546c-bb88-4fef-976d-98b245ee842a",
   "metadata": {},
   "outputs": [
    {
     "data": {
      "text/plain": [
       "<_TakeDataset element_spec={'movie_genres': TensorSpec(shape=(None, 5), dtype=tf.int64, name=None), 'movie_id': TensorSpec(shape=(None, 5), dtype=tf.string, name=None), 'user_id': TensorSpec(shape=(None,), dtype=tf.string, name=None), 'user_rating': TensorSpec(shape=(None, 5), dtype=tf.float32, name=None)}>"
      ]
     },
     "execution_count": 114,
     "metadata": {},
     "output_type": "execute_result"
    }
   ],
   "source": [
    "# train data\n",
    "# train_ds_iterator = iter(train_dataset.batch(HPARAMS['batch_size']))\n",
    "train_ds_iterator = iter(train_dataset)\n",
    "\n",
    "# eval dataset\n",
    "eval_ds = val_dataset.batch(HPARAMS[\"eval_batch_size\"])\n",
    "\n",
    "if NUM_EVAL_STEPS > 0:\n",
    "    eval_ds = eval_ds.take(NUM_EVAL_STEPS)\n",
    "\n",
    "# eval_ds = eval_ds.prefetch(tf.data.AUTOTUNE)\n",
    "\n",
    "eval_ds"
   ]
  },
  {
   "cell_type": "code",
   "execution_count": 115,
   "id": "032770fc-8c04-4d3f-af21-9938501a7c62",
   "metadata": {},
   "outputs": [
    {
     "name": "stdout",
     "output_type": "stream",
     "text": [
      "starting train loop...\n"
     ]
    },
    {
     "ename": "InvalidArgumentError",
     "evalue": "{{function_node __wrapped__GatherV2_device_/job:localhost/replica:0/task:0/device:CPU:0}} params must be at least 1 dimensional [Op:GatherV2] name: ",
     "output_type": "error",
     "traceback": [
      "\u001b[0;31m---------------------------------------------------------------------------\u001b[0m",
      "\u001b[0;31mInvalidArgumentError\u001b[0m                      Traceback (most recent call last)",
      "Cell \u001b[0;32mIn[115], line 14\u001b[0m\n\u001b[1;32m     11\u001b[0m \u001b[38;5;28;01mwith\u001b[39;00m train_summary_writer\u001b[38;5;241m.\u001b[39mas_default():\n\u001b[1;32m     13\u001b[0m     data \u001b[38;5;241m=\u001b[39m \u001b[38;5;28mnext\u001b[39m(train_ds_iterator)\n\u001b[0;32m---> 14\u001b[0m     trajectories \u001b[38;5;241m=\u001b[39m \u001b[43m_rank_trajectory_fn\u001b[49m\u001b[43m(\u001b[49m\u001b[43mdata\u001b[49m\u001b[43m)\u001b[49m\n\u001b[1;32m     16\u001b[0m     \u001b[38;5;66;03m# All tensors in experience must be shaped [batch, time, ...] \u001b[39;00m\n\u001b[1;32m     17\u001b[0m     step \u001b[38;5;241m=\u001b[39m rank_agent\u001b[38;5;241m.\u001b[39mtrain_step_counter\u001b[38;5;241m.\u001b[39mnumpy()\n",
      "Cell \u001b[0;32mIn[97], line 7\u001b[0m, in \u001b[0;36m_rank_trajectory_fn\u001b[0;34m(element)\u001b[0m\n\u001b[1;32m      3\u001b[0m \u001b[38;5;66;03m# global_features = _get_global_context_features(element)\u001b[39;00m\n\u001b[1;32m      4\u001b[0m \u001b[38;5;66;03m# arm_features = _get_per_arm_features(element)\u001b[39;00m\n\u001b[1;32m      6\u001b[0m global_features \u001b[38;5;241m=\u001b[39m _get_global_context_features(element)\n\u001b[0;32m----> 7\u001b[0m arm_features \u001b[38;5;241m=\u001b[39m \u001b[43m_get_per_arm_features\u001b[49m\u001b[43m(\u001b[49m\u001b[43melement\u001b[49m\u001b[43m)\u001b[49m\n\u001b[1;32m      9\u001b[0m \u001b[38;5;66;03m# obs spec\u001b[39;00m\n\u001b[1;32m     10\u001b[0m observation \u001b[38;5;241m=\u001b[39m {\n\u001b[1;32m     11\u001b[0m     bandit_spec_utils\u001b[38;5;241m.\u001b[39mGLOBAL_FEATURE_KEY:\n\u001b[1;32m     12\u001b[0m         train_utils\u001b[38;5;241m.\u001b[39m_add_outer_dimension(global_features),\n\u001b[0;32m   (...)\u001b[0m\n\u001b[1;32m     16\u001b[0m         \u001b[38;5;66;03m# arm_features\u001b[39;00m\n\u001b[1;32m     17\u001b[0m }\n",
      "Cell \u001b[0;32mIn[38], line 15\u001b[0m, in \u001b[0;36m_get_per_arm_features\u001b[0;34m(x)\u001b[0m\n\u001b[1;32m     12\u001b[0m arm_gens \u001b[38;5;241m=\u001b[39m []\n\u001b[1;32m     14\u001b[0m \u001b[38;5;28;01mfor\u001b[39;00m i \u001b[38;5;129;01min\u001b[39;00m \u001b[38;5;28mrange\u001b[39m(\u001b[38;5;241m0\u001b[39m, NUM_EXAMPLES_PER_LIST):\n\u001b[0;32m---> 15\u001b[0m     arm_ids\u001b[38;5;241m.\u001b[39mappend(test_mv_id_model(\u001b[43mtf\u001b[49m\u001b[38;5;241;43m.\u001b[39;49m\u001b[43mgather\u001b[49m\u001b[43m(\u001b[49m\u001b[43mx\u001b[49m\u001b[43m[\u001b[49m\u001b[38;5;124;43m\"\u001b[39;49m\u001b[38;5;124;43mmovie_id\u001b[39;49m\u001b[38;5;124;43m\"\u001b[39;49m\u001b[43m]\u001b[49m\u001b[43m[\u001b[49m\u001b[38;5;241;43m0\u001b[39;49m\u001b[43m]\u001b[49m\u001b[43m,\u001b[49m\u001b[43m \u001b[49m\u001b[43mi\u001b[49m\u001b[43m)\u001b[49m))\n\u001b[1;32m     16\u001b[0m     \u001b[38;5;66;03m# arm_ids.append(test_mv_id_model(tf.gather(x[\"movie_id\"], i)))\u001b[39;00m\n\u001b[1;32m     18\u001b[0m stacked_ids \u001b[38;5;241m=\u001b[39m tf\u001b[38;5;241m.\u001b[39mstack(arm_ids, axis \u001b[38;5;241m=\u001b[39m \u001b[38;5;241m0\u001b[39m)\n",
      "File \u001b[0;32m/opt/conda/lib/python3.10/site-packages/tensorflow/python/util/traceback_utils.py:153\u001b[0m, in \u001b[0;36mfilter_traceback.<locals>.error_handler\u001b[0;34m(*args, **kwargs)\u001b[0m\n\u001b[1;32m    151\u001b[0m \u001b[38;5;28;01mexcept\u001b[39;00m \u001b[38;5;167;01mException\u001b[39;00m \u001b[38;5;28;01mas\u001b[39;00m e:\n\u001b[1;32m    152\u001b[0m   filtered_tb \u001b[38;5;241m=\u001b[39m _process_traceback_frames(e\u001b[38;5;241m.\u001b[39m__traceback__)\n\u001b[0;32m--> 153\u001b[0m   \u001b[38;5;28;01mraise\u001b[39;00m e\u001b[38;5;241m.\u001b[39mwith_traceback(filtered_tb) \u001b[38;5;28;01mfrom\u001b[39;00m \u001b[38;5;28;01mNone\u001b[39;00m\n\u001b[1;32m    154\u001b[0m \u001b[38;5;28;01mfinally\u001b[39;00m:\n\u001b[1;32m    155\u001b[0m   \u001b[38;5;28;01mdel\u001b[39;00m filtered_tb\n",
      "File \u001b[0;32m/opt/conda/lib/python3.10/site-packages/tensorflow/python/framework/ops.py:6656\u001b[0m, in \u001b[0;36mraise_from_not_ok_status\u001b[0;34m(e, name)\u001b[0m\n\u001b[1;32m   6654\u001b[0m \u001b[38;5;28;01mdef\u001b[39;00m \u001b[38;5;21mraise_from_not_ok_status\u001b[39m(e, name):\n\u001b[1;32m   6655\u001b[0m   e\u001b[38;5;241m.\u001b[39mmessage \u001b[38;5;241m+\u001b[39m\u001b[38;5;241m=\u001b[39m (\u001b[38;5;124m\"\u001b[39m\u001b[38;5;124m name: \u001b[39m\u001b[38;5;124m\"\u001b[39m \u001b[38;5;241m+\u001b[39m \u001b[38;5;28mstr\u001b[39m(name \u001b[38;5;28;01mif\u001b[39;00m name \u001b[38;5;129;01mis\u001b[39;00m \u001b[38;5;129;01mnot\u001b[39;00m \u001b[38;5;28;01mNone\u001b[39;00m \u001b[38;5;28;01melse\u001b[39;00m \u001b[38;5;124m\"\u001b[39m\u001b[38;5;124m\"\u001b[39m))\n\u001b[0;32m-> 6656\u001b[0m   \u001b[38;5;28;01mraise\u001b[39;00m core\u001b[38;5;241m.\u001b[39m_status_to_exception(e) \u001b[38;5;28;01mfrom\u001b[39;00m \u001b[38;5;28;01mNone\u001b[39;00m\n",
      "\u001b[0;31mInvalidArgumentError\u001b[0m: {{function_node __wrapped__GatherV2_device_/job:localhost/replica:0/task:0/device:CPU:0}} params must be at least 1 dimensional [Op:GatherV2] name: "
     ]
    }
   ],
   "source": [
    "list_o_loss = []\n",
    "\n",
    "rank_agent.train_step_counter.assign(0)\n",
    "\n",
    "print(f\"starting train loop...\")\n",
    "start_time = time.time()\n",
    "\n",
    "# for i in tqdm(range(NUM_TRAIN_STEPS)):\n",
    "for i in range(NUM_TRAIN_STEPS):\n",
    "    \n",
    "    with train_summary_writer.as_default():\n",
    "\n",
    "        data = next(train_ds_iterator)\n",
    "        trajectories = _rank_trajectory_fn(data)\n",
    "\n",
    "        # All tensors in experience must be shaped [batch, time, ...] \n",
    "        step = rank_agent.train_step_counter.numpy()\n",
    "        loss = rank_agent.train(experience=trajectories)\n",
    "        list_o_loss.append(loss.loss.numpy())\n",
    "        \n",
    "        train_utils._export_metrics_and_summaries(\n",
    "            step=i, \n",
    "            metrics=metrics\n",
    "        )\n",
    "        \n",
    "        # print step loss\n",
    "        if step % LOG_INTERVAL == 0:\n",
    "            print(\n",
    "                'step = {0}: train loss = {1}'.format(\n",
    "                    step, round(loss.loss.numpy(), 2)\n",
    "                )\n",
    "            )\n",
    "\n",
    "        if i > 0 and i % CHKPT_INTERVAL == 0:\n",
    "            saver.save(os.path.join(CHKPOINT_DIR, 'policy_%d' % step_metric.result()))\n",
    "            print(f\"saved policy to: {CHKPOINT_DIR}\")\n",
    "            \n",
    "runtime_mins = int((time.time() - start_time) / 60)\n",
    "print(f\"train runtime_mins: {runtime_mins}\")"
   ]
  },
  {
   "cell_type": "code",
   "execution_count": 94,
   "id": "74861b9f-7ea7-472b-9d1d-3f1d10c9ae2d",
   "metadata": {},
   "outputs": [
    {
     "data": {
      "text/plain": [
       "{'movie_genres': <tf.Tensor: shape=(5,), dtype=int64, numpy=array([ 3,  0,  0,  0, 19])>,\n",
       " 'movie_id': <tf.Tensor: shape=(5,), dtype=string, numpy=array([b'94', b'245', b'403', b'50', b'470'], dtype=object)>,\n",
       " 'user_id': <tf.Tensor: shape=(), dtype=string, numpy=b'346'>,\n",
       " 'user_rating': <tf.Tensor: shape=(5,), dtype=float32, numpy=array([3., 4., 3., 5., 3.], dtype=float32)>}"
      ]
     },
     "execution_count": 94,
     "metadata": {},
     "output_type": "execute_result"
    }
   ],
   "source": [
    "data"
   ]
  },
  {
   "cell_type": "code",
   "execution_count": null,
   "id": "49ea6a7d-ef1a-495a-ba63-78cad8e0cd21",
   "metadata": {},
   "outputs": [],
   "source": []
  },
  {
   "cell_type": "code",
   "execution_count": null,
   "id": "0ab9b825-504e-418d-9c51-d5aa9806174c",
   "metadata": {},
   "outputs": [],
   "source": []
  },
  {
   "cell_type": "markdown",
   "id": "3bddd75a-21b0-4d09-9518-785246bd0a10",
   "metadata": {},
   "source": [
    "### pre-training eval loop"
   ]
  },
  {
   "cell_type": "code",
   "execution_count": 312,
   "id": "4e0ce70d-cb79-45ad-888e-231c52e9504b",
   "metadata": {},
   "outputs": [],
   "source": [
    "from src.perarm_features import eval_perarm as eval_perarm"
   ]
  },
  {
   "cell_type": "code",
   "execution_count": 313,
   "id": "0fae5f66-b9d5-476b-bdee-a7b0de1548d8",
   "metadata": {},
   "outputs": [
    {
     "data": {
      "text/plain": [
       "<tf.Tensor: shape=(1, 5), dtype=float32, numpy=array([[0., 0., 0., 0., 0.]], dtype=float32)>"
      ]
     },
     "execution_count": 313,
     "metadata": {},
     "output_type": "execute_result"
    }
   ],
   "source": [
    "# dummy_arm = tf.zeros([HPARAMS['eval_batch_size'], PER_ARM_DIM], dtype=tf.float32)\n",
    "# dummy_arm"
   ]
  },
  {
   "cell_type": "code",
   "execution_count": 315,
   "id": "25f596e2-8bfa-4c08-805e-56e439049103",
   "metadata": {},
   "outputs": [],
   "source": [
    "# serving_trajectory_fn(experience.observation)"
   ]
  },
  {
   "cell_type": "code",
   "execution_count": 317,
   "id": "bbad1383-8c00-4bef-8ed2-d0e9201cab3a",
   "metadata": {},
   "outputs": [
    {
     "name": "stdout",
     "output_type": "stream",
     "text": [
      "concat_embeddings shape: (5, 64)\n",
      "concat_embeddings shape: (5, 64)\n"
     ]
    }
   ],
   "source": [
    "for x in eval_ds:\n",
    "\n",
    "    filter_mask = None\n",
    "    # get feature tensors\n",
    "\n",
    "#     global_feat_infer = _get_global_context_features(x)\n",
    "#     arm_feat_infer = _get_per_arm_features(x)\n",
    "    \n",
    "#     feature = {'global': global_feat_infer, 'per_arm': arm_feat_infer}\n",
    "\n",
    "#     rewards = x['user_rating']\n",
    "    \n",
    "    # reshape arm features\n",
    "    # arm_feat_infer = tf.reshape(arm_feat_infer, [HPARAMS['eval_batch_size'], PER_ARM_DIM])\n",
    "    # concat_arm = tf.concat([arm_feat_infer, dummy_arm], axis=0)\n",
    "    \n",
    "    # trajectory_step = train_utils._get_eval_step(feature, rewards.numpy()[0])\n",
    "    trajectory_step = _rank_trajectory_fn(x)\n",
    "    \n",
    "    break"
   ]
  },
  {
   "cell_type": "code",
   "execution_count": 321,
   "id": "226292aa-b55a-4958-b44c-da01a41c8cdf",
   "metadata": {},
   "outputs": [],
   "source": [
    "# rewards.numpy()[0]"
   ]
  },
  {
   "cell_type": "code",
   "execution_count": 320,
   "id": "6978ad56-1a57-4509-a5b4-30093a3f7f16",
   "metadata": {},
   "outputs": [],
   "source": [
    "# feature"
   ]
  },
  {
   "cell_type": "code",
   "execution_count": 322,
   "id": "9b04a614-9803-44b3-9435-04b441a36be5",
   "metadata": {},
   "outputs": [],
   "source": [
    "# arm_feat_infer"
   ]
  },
  {
   "cell_type": "code",
   "execution_count": null,
   "id": "c4cb0117-a91c-4a05-8c4b-93426cb911c8",
   "metadata": {},
   "outputs": [],
   "source": []
  },
  {
   "cell_type": "code",
   "execution_count": null,
   "id": "d1243ef3-ddcd-4f81-b08c-df89af563f44",
   "metadata": {},
   "outputs": [],
   "source": [
    "# ====================================================\n",
    "# Evaluate the agent's policy once before training\n",
    "# ====================================================\n",
    "# Reset the train step\n",
    "rank_agent.train_step_counter.assign(0)\n",
    "\n",
    "pre_policy_tf = py_tf_eager_policy.PyTFEagerPolicy(rank_agent.policy, use_tf_function=True)\n",
    "\n",
    "print(f\"evaluating pre-trained Agent...\")\n",
    "start_time = time.time()\n",
    "\n",
    "pre_val_loss, pre_preds, pre_tr_rewards = eval_perarm._run_bandit_eval(\n",
    "    policy = pre_policy_tf,\n",
    "    data = eval_ds,\n",
    "    eval_batch_size = HPARAMS['eval_batch_size'],\n",
    "    per_arm_dim = PER_ARM_DIM,\n",
    "    global_dim = GLOBAL_DIM,\n",
    "    vocab_dict = vocab_dict,\n",
    "    num_oov_buckets = NUM_OOV_BUCKETS,\n",
    "    global_emb_size = GLOBAL_EMBEDDING_SIZE,\n",
    "    mv_emb_size = MV_EMBEDDING_SIZE,\n",
    ")\n",
    "\n",
    "runtime_mins = int((time.time() - start_time) / 60)\n",
    "print(f\"pre-train val_loss     : {pre_val_loss}\")\n",
    "print(f\"pre-train eval runtime : {runtime_mins}\")\n",
    "# ====================================================\n",
    "# train loop\n",
    "# ====================================================\n",
    "print(f\"starting train loop...\")\n",
    "start_time = time.time()"
   ]
  },
  {
   "cell_type": "code",
   "execution_count": null,
   "id": "21fbf39b-90ca-4088-ab84-61d6f9b78152",
   "metadata": {},
   "outputs": [],
   "source": []
  },
  {
   "cell_type": "code",
   "execution_count": null,
   "id": "a8f9a1e3-80e3-4dd2-95d6-5e5c4d49010d",
   "metadata": {},
   "outputs": [],
   "source": []
  },
  {
   "cell_type": "code",
   "execution_count": null,
   "id": "c558330c-93d7-4851-b0b6-393b8a2a8e09",
   "metadata": {},
   "outputs": [],
   "source": []
  },
  {
   "cell_type": "markdown",
   "id": "48cc2852-d9c5-4e18-8e93-1d1770d72232",
   "metadata": {},
   "source": [
    "### Ranking Task"
   ]
  },
  {
   "cell_type": "code",
   "execution_count": null,
   "id": "77eceb80-d2a6-423e-95b9-81558b2d30e5",
   "metadata": {},
   "outputs": [],
   "source": [
    "task = tfrs.tasks.Ranking(\n",
    "      loss=loss,\n",
    "      metrics=[\n",
    "        tfr.keras.metrics.NDCGMetric(name=\"ndcg_metric\"),\n",
    "        tf.keras.metrics.RootMeanSquaredError()\n",
    "      ]\n",
    "    )"
   ]
  },
  {
   "cell_type": "code",
   "execution_count": null,
   "id": "cbe298e2-9dc2-43d5-a34b-3a20d48c2ef9",
   "metadata": {},
   "outputs": [],
   "source": []
  },
  {
   "cell_type": "code",
   "execution_count": null,
   "id": "994e3319-9984-4bd3-ba88-ee8538fff37a",
   "metadata": {},
   "outputs": [],
   "source": []
  },
  {
   "cell_type": "code",
   "execution_count": null,
   "id": "6a6592aa-5a59-4d2d-8772-9d5aaf41521c",
   "metadata": {},
   "outputs": [],
   "source": []
  },
  {
   "cell_type": "code",
   "execution_count": null,
   "id": "4f72d29a-fe8a-48cb-9d0c-2879d880fff8",
   "metadata": {},
   "outputs": [],
   "source": []
  },
  {
   "cell_type": "code",
   "execution_count": null,
   "id": "41e00513-8be9-46da-bca5-7cd342bd1c78",
   "metadata": {},
   "outputs": [],
   "source": []
  },
  {
   "cell_type": "code",
   "execution_count": 21,
   "id": "cd95da1c-bdd5-4436-a589-e02bac36c199",
   "metadata": {},
   "outputs": [
    {
     "data": {
      "text/plain": [
       "<src.perarm_features.emb_features.EmbeddingModel at 0x7efbaa8d6fe0>"
      ]
     },
     "execution_count": 21,
     "metadata": {},
     "output_type": "execute_result"
    }
   ],
   "source": [
    "from src.perarm_features import emb_features as emb_features\n",
    "\n",
    "embs = emb_features.EmbeddingModel(\n",
    "    vocab_dict = vocab_dict,\n",
    "    num_oov_buckets = NUM_OOV_BUCKETS,\n",
    "    global_emb_size = GLOBAL_EMBEDDING_SIZE,\n",
    "    mv_emb_size = MV_EMBEDDING_SIZE,\n",
    ")\n",
    "\n",
    "embs"
   ]
  },
  {
   "cell_type": "code",
   "execution_count": 23,
   "id": "42ebcddd-4f91-4bf8-9886-34f42219f37e",
   "metadata": {},
   "outputs": [
    {
     "name": "stdout",
     "output_type": "stream",
     "text": [
      "GLOBAL_DIM: 64\n"
     ]
    },
    {
     "data": {
      "text/plain": [
       "array([[ 0.02324566,  0.03847075,  0.0009382 ,  0.01037087, -0.0168501 ,\n",
       "         0.02229491, -0.00090174, -0.03733226,  0.04767699, -0.04324825,\n",
       "         0.03009412, -0.00325273,  0.00937269,  0.01162167,  0.04858048,\n",
       "        -0.03228705, -0.00880662,  0.00480435,  0.0266616 , -0.01046257,\n",
       "        -0.01173887, -0.04642478,  0.0118764 , -0.03422302,  0.0312058 ,\n",
       "        -0.02052242,  0.00459113, -0.0279305 , -0.00947496, -0.00711267,\n",
       "         0.04388683, -0.02854126, -0.02312779, -0.04988689,  0.03593904,\n",
       "        -0.02224693, -0.01872089,  0.0384705 ,  0.0432454 ,  0.01695739,\n",
       "        -0.02577996, -0.01301978, -0.01603407,  0.02314747, -0.01779956,\n",
       "         0.03170073,  0.00098064, -0.0470944 , -0.02522329,  0.01904691,\n",
       "         0.00721593,  0.0179752 ,  0.00104992,  0.00527094, -0.04577625,\n",
       "        -0.02623909, -0.04071148, -0.01163318, -0.02864906, -0.00920088,\n",
       "        -0.00450635, -0.0427685 ,  0.04297205,  0.04952253]],\n",
       "      dtype=float32)"
      ]
     },
     "execution_count": 23,
     "metadata": {},
     "output_type": "execute_result"
    }
   ],
   "source": [
    "test_globals = embs._get_global_context_features(data)\n",
    " \n",
    "GLOBAL_DIM = test_globals.shape[1]   \n",
    "\n",
    "# test_globals = embs._get_global_context_features_v2(data)\n",
    "# GLOBAL_DIM, _ = test_globals #.shape[1]  \n",
    "# GLOBAL_DIM = GLOBAL_DIM.shape[1]\n",
    "\n",
    "print(f\"GLOBAL_DIM: {GLOBAL_DIM}\")\n",
    "test_globals"
   ]
  },
  {
   "cell_type": "code",
   "execution_count": 24,
   "id": "6a4becf4-0884-4879-9a64-af3f4e82d27e",
   "metadata": {},
   "outputs": [
    {
     "name": "stdout",
     "output_type": "stream",
     "text": [
      "PER_ARM_DIM: 64\n"
     ]
    },
    {
     "data": {
      "text/plain": [
       "array([[ 0.02343505,  0.0119458 ,  0.02910166, -0.03252503,  0.00803228,\n",
       "         0.03554758,  0.01453496, -0.01542882, -0.01640511, -0.03279047,\n",
       "         0.01140917, -0.03903098,  0.03479561,  0.0006261 ,  0.01132431,\n",
       "         0.0158616 , -0.0487823 ,  0.04276118,  0.01437578,  0.02662202,\n",
       "         0.01141692,  0.03396836,  0.04457219,  0.01392839, -0.04691635,\n",
       "         0.01952115,  0.00976838,  0.04489179,  0.04724428, -0.02655888,\n",
       "         0.04153249, -0.00589923,  0.01623068,  0.00170443, -0.00777126,\n",
       "        -0.0101654 ,  0.01170176, -0.01047592, -0.04902004,  0.01853789,\n",
       "        -0.04450876,  0.0009967 , -0.01994429,  0.02006539, -0.02091893,\n",
       "         0.01542037, -0.01819051, -0.03646524, -0.02382381,  0.01859686,\n",
       "         0.03186891,  0.01153149, -0.03137907, -0.01640514,  0.01935514,\n",
       "        -0.03642275, -0.02170839, -0.04142233,  0.01269498, -0.0153484 ,\n",
       "        -0.01838543, -0.00584408, -0.01540409,  0.03383145]],\n",
       "      dtype=float32)"
      ]
     },
     "execution_count": 24,
     "metadata": {},
     "output_type": "execute_result"
    }
   ],
   "source": [
    "test_arms = embs._get_per_arm_features(data)\n",
    "\n",
    "PER_ARM_DIM = test_arms.shape[1]            \n",
    "# shape checks out at batch_dim, nactions, arm feats\n",
    "print(f\"PER_ARM_DIM: {PER_ARM_DIM}\")\n",
    "\n",
    "test_arms"
   ]
  },
  {
   "cell_type": "markdown",
   "id": "62d464ee-07ab-4119-b6c3-3d13bfe4980f",
   "metadata": {},
   "source": [
    "### Create a moive lookup Table"
   ]
  },
  {
   "cell_type": "code",
   "execution_count": 25,
   "id": "f950a2ac-9857-46f4-9ed8-b09afc12a9fc",
   "metadata": {},
   "outputs": [],
   "source": [
    "movie_lookup_table = {\n",
    "    'id': [],\n",
    "    'movie_features': [],\n",
    "    # 'movie_title': [],\n",
    "    'movie_genres': []\n",
    "}\n",
    "    \n",
    "iterator = iter(train_dataset.batch(1000))\n",
    "\n",
    "for data in iterator:\n",
    "    embs._get_per_arm_features(data)\n",
    "    movie_lookup_table['id'].extend(data['movie_id'].numpy())\n",
    "    # movie_lookup_table['movie_title'].extend(data['movie_title'].numpy())\n",
    "    movie_lookup_table['movie_genres'].extend(data['movie_genres'].numpy())\n",
    "    movie_lookup_table['movie_features'].extend(embs._get_per_arm_features(data))\n",
    "    \n",
    "#fix string ids to integers for random lookup later\n",
    "movie_lookup_table['id'] = [int(x) for x in movie_lookup_table['id']]"
   ]
  },
  {
   "cell_type": "code",
   "execution_count": 26,
   "id": "513a50ba-cf50-4549-90c6-9429ebfcec3d",
   "metadata": {},
   "outputs": [],
   "source": [
    "movie_lookup_table = pd.DataFrame(movie_lookup_table)\n",
    "movie_lookup_table.set_index(['id'])\n",
    "\n",
    "unique_table = movie_lookup_table.groupby(['id'])[\n",
    "    [\n",
    "        'movie_features', \n",
    "        # 'movie_title', \n",
    "        'movie_genres'\n",
    "    ]\n",
    "].first().reset_index() #resetting index to get consecutive counts from min-max (no gaps)\n",
    "# unique_table = unique_table['movie_features']\n",
    "MAX_ARM_ID = len(unique_table)-1\n",
    "MIN_ARM_ID = 0\n",
    "\n",
    "# unique_table\n",
    "# print(f\"Max movie id is: {MAX_ARM_ID} \\nMin movie id is: {MIN_ARM_ID}\")"
   ]
  },
  {
   "cell_type": "code",
   "execution_count": 27,
   "id": "9eb3338d-3882-4377-8c79-e4fa58345173",
   "metadata": {},
   "outputs": [
    {
     "data": {
      "text/plain": [
       "array([ 0.02495834, -0.01222584,  0.02913784,  0.00382224, -0.00345637,\n",
       "       -0.02219919,  0.03300631,  0.02205736, -0.03309649, -0.02158695,\n",
       "        0.04930801, -0.00045602, -0.00740384,  0.04815162,  0.00566232,\n",
       "       -0.01206527, -0.04011983,  0.00283178,  0.03639659, -0.04393387,\n",
       "        0.02940616,  0.02252943, -0.04776486, -0.00800429,  0.02306003,\n",
       "        0.03619469, -0.02831327, -0.01686976,  0.04269502, -0.02647526,\n",
       "        0.00538781,  0.04991165,  0.02267591,  0.01639385, -0.02517967,\n",
       "        0.01744567, -0.03633409, -0.01866313,  0.01826422,  0.04594373,\n",
       "        0.01793351, -0.04969008,  0.03802439, -0.00140975,  0.02682305,\n",
       "       -0.0081509 , -0.0046325 ,  0.01475661,  0.03066139, -0.0255517 ,\n",
       "        0.00646546,  0.00037592, -0.0198789 ,  0.0383074 , -0.04167994,\n",
       "       -0.00177239, -0.01200641, -0.00897124,  0.03143324, -0.03409   ,\n",
       "       -0.01962967, -0.0414306 , -0.04632906,  0.00900277], dtype=float32)"
      ]
     },
     "execution_count": 27,
     "metadata": {},
     "output_type": "execute_result"
    }
   ],
   "source": [
    "unique_table.iloc[2,:]['movie_features'] #example of getting a ra movie"
   ]
  },
  {
   "cell_type": "code",
   "execution_count": 28,
   "id": "ba191f58-8414-4654-896f-41ac0874f479",
   "metadata": {},
   "outputs": [
    {
     "data": {
      "text/plain": [
       "(<tf.Tensor: shape=(1, 64), dtype=float32, numpy=\n",
       " array([[ 0.02758646, -0.02364726,  0.00326383, -0.00670724, -0.02581365,\n",
       "          0.02811625, -0.02409014,  0.02277763,  0.03388413,  0.01355955,\n",
       "         -0.04816724, -0.04114227,  0.01485746,  0.01675477,  0.02701057,\n",
       "         -0.018884  ,  0.00393082, -0.01786947,  0.01814145,  0.00791826,\n",
       "         -0.03671928,  0.02370023, -0.03795796,  0.00273353,  0.01422632,\n",
       "          0.00815446,  0.03875173, -0.00820974,  0.03643649, -0.04565177,\n",
       "         -0.01958307, -0.00754724,  0.01623068,  0.00170443, -0.00777126,\n",
       "         -0.0101654 ,  0.01170176, -0.01047592, -0.04902004,  0.01853789,\n",
       "         -0.04450876,  0.0009967 , -0.01994429,  0.02006539, -0.02091893,\n",
       "          0.01542037, -0.01819051, -0.03646524, -0.02382381,  0.01859686,\n",
       "          0.03186891,  0.01153149, -0.03137907, -0.01640514,  0.01935514,\n",
       "         -0.03642275, -0.02170839, -0.04142233,  0.01269498, -0.0153484 ,\n",
       "         -0.01838543, -0.00584408, -0.01540409,  0.03383145]],\n",
       "       dtype=float32)>,\n",
       " [array([7])])"
      ]
     },
     "execution_count": 28,
     "metadata": {},
     "output_type": "execute_result"
    }
   ],
   "source": [
    "def get_random_arm_features(movie_id):\n",
    "    movie_info = unique_table.iloc[movie_id]\n",
    "    tensor = tf.constant(movie_info['movie_features'], dtype=tf.float32)\n",
    "    return tf.reshape(tensor, [1, tensor.shape[0]]), [movie_info['movie_genres']],\n",
    "                                                     # movie_info['movie_genres']]\n",
    "\n",
    "get_random_arm_features(222)"
   ]
  },
  {
   "cell_type": "code",
   "execution_count": 29,
   "id": "329290a7-1b06-4f28-886f-34c7e496d680",
   "metadata": {},
   "outputs": [],
   "source": [
    "def get_random_set_of_arm_features(n_actions):\n",
    "    random_arm_ids = list(np.random.randint(MIN_ARM_ID, MAX_ARM_ID, n_actions))\n",
    "    features = [get_random_arm_features(x) for x in random_arm_ids]\n",
    "    just_features = [x[0] for x in features]\n",
    "    movie_info = [x[1] for x in features]\n",
    "    return tf.concat(just_features, axis=0), movie_info"
   ]
  },
  {
   "cell_type": "code",
   "execution_count": 30,
   "id": "9b9ccc9b-49c0-42c7-9436-c0a5178a63a2",
   "metadata": {},
   "outputs": [
    {
     "data": {
      "text/plain": [
       "<tf.Tensor: shape=(2, 64), dtype=float32, numpy=\n",
       "array([[ 0.03378742,  0.01706399,  0.03097352, -0.03447683,  0.00684074,\n",
       "        -0.02467006, -0.03587176, -0.00194854,  0.00817044,  0.00660542,\n",
       "         0.02049113,  0.02787698, -0.01884164,  0.0250637 , -0.02671324,\n",
       "         0.00575078,  0.00014221,  0.02990893, -0.01085119, -0.03606417,\n",
       "         0.02069755, -0.02867526,  0.03644859,  0.02053731, -0.03130388,\n",
       "         0.02352465,  0.04758057, -0.02958646, -0.02110904, -0.02467135,\n",
       "        -0.04586595,  0.00947623,  0.03001981,  0.02514908,  0.03943818,\n",
       "         0.03974951, -0.02048717,  0.00589327, -0.01928915, -0.01875315,\n",
       "         0.03245391,  0.02953072, -0.01104504, -0.04738101, -0.01941533,\n",
       "        -0.03232567, -0.04955465,  0.04904519, -0.01213044,  0.01257041,\n",
       "         0.0311668 , -0.03899008, -0.0284349 ,  0.02622536,  0.02824564,\n",
       "         0.00210474,  0.03348925, -0.00880535,  0.04751078,  0.03034684,\n",
       "         0.02982635, -0.00188724, -0.0043234 , -0.0364937 ],\n",
       "       [ 0.00172817,  0.01529957,  0.03815719,  0.00257808,  0.00235979,\n",
       "         0.01648862,  0.0487544 , -0.01878456,  0.01096349,  0.00662468,\n",
       "         0.00970044, -0.04433699, -0.04931436, -0.04127917, -0.01287106,\n",
       "         0.0432303 ,  0.02469137, -0.03563502, -0.0017385 ,  0.01963843,\n",
       "        -0.02953632, -0.00357578, -0.00098377,  0.0429565 , -0.01179807,\n",
       "        -0.01143935,  0.04759617, -0.0277766 ,  0.00683711, -0.03661916,\n",
       "        -0.02201967, -0.03742575,  0.01623068,  0.00170443, -0.00777126,\n",
       "        -0.0101654 ,  0.01170176, -0.01047592, -0.04902004,  0.01853789,\n",
       "        -0.04450876,  0.0009967 , -0.01994429,  0.02006539, -0.02091893,\n",
       "         0.01542037, -0.01819051, -0.03646524, -0.02382381,  0.01859686,\n",
       "         0.03186891,  0.01153149, -0.03137907, -0.01640514,  0.01935514,\n",
       "        -0.03642275, -0.02170839, -0.04142233,  0.01269498, -0.0153484 ,\n",
       "        -0.01838543, -0.00584408, -0.01540409,  0.03383145]],\n",
       "      dtype=float32)>"
      ]
     },
     "execution_count": 30,
     "metadata": {},
     "output_type": "execute_result"
    }
   ],
   "source": [
    "#NEW - there's a tuple returned with the movies we will use for PALM!\n",
    "get_random_set_of_arm_features(n_actions=2)[0]"
   ]
  },
  {
   "cell_type": "code",
   "execution_count": 31,
   "id": "d2dfa60c-b133-422b-be44-1e4457fb9c72",
   "metadata": {},
   "outputs": [],
   "source": [
    "# ### Look at the raw input features to format a good prompt for ranking movies\n",
    "# NUM_ACTIONS = 5\n",
    "# batch_size = 8\n",
    "# iterator = iter(train_dataset.batch(batch_size))\n",
    "# data = next(iterator)\n",
    "\n",
    "# _, user_info = embs._get_global_context_features_v2(data)\n",
    "# ###NEW - we are getting the arm features here\n",
    "# _, movie_info = get_random_set_of_arm_features(n_actions=NUM_ACTIONS)\n",
    "\n",
    "# print(user_info, movie_info)"
   ]
  },
  {
   "cell_type": "code",
   "execution_count": 32,
   "id": "24f9d01b-d4f3-401f-8d00-b8e828bd0ddc",
   "metadata": {},
   "outputs": [
    {
     "data": {
      "text/plain": [
       "'Wed Jan 21 19:05:15 1998'"
      ]
     },
     "execution_count": 32,
     "metadata": {},
     "output_type": "execute_result"
    }
   ],
   "source": [
    "from datetime import datetime\n",
    "dt = datetime.utcfromtimestamp(885409515)\n",
    "dt.ctime()"
   ]
  },
  {
   "cell_type": "code",
   "execution_count": 33,
   "id": "db939986-df81-40ef-bbf4-49e6262d1349",
   "metadata": {},
   "outputs": [],
   "source": [
    "# movie_info"
   ]
  },
  {
   "cell_type": "markdown",
   "id": "9b54e1a2-daf0-4da6-97e9-62bb2c521652",
   "metadata": {},
   "source": [
    "## Ranking Bandit"
   ]
  },
  {
   "cell_type": "code",
   "execution_count": 32,
   "id": "1c209cd0-3e99-47dd-8cf6-069250024747",
   "metadata": {},
   "outputs": [
    {
     "name": "stdout",
     "output_type": "stream",
     "text": [
      "BATCH_SIZE      : 128\n",
      "EVAL_BATCH_SIZE : 1\n",
      "NUM_ACTIONS     : 2\n",
      "GLOBAL_DIM      : 64\n",
      "PER_ARM_DIM     : 64\n"
     ]
    }
   ],
   "source": [
    "BATCH_SIZE      = 128\n",
    "EVAL_BATCH_SIZE = 1\n",
    "\n",
    "NUM_ACTIONS = 2\n",
    "NUM_ITEMS  = 50\n",
    "NUM_SLOTS  = 3 \n",
    "\n",
    "print(f\"BATCH_SIZE      : {BATCH_SIZE}\")\n",
    "print(f\"EVAL_BATCH_SIZE : {EVAL_BATCH_SIZE}\")\n",
    "print(f\"NUM_ACTIONS     : {NUM_ACTIONS}\")\n",
    "print(f\"GLOBAL_DIM      : {GLOBAL_DIM}\")\n",
    "print(f\"PER_ARM_DIM     : {PER_ARM_DIM}\")"
   ]
  },
  {
   "cell_type": "markdown",
   "id": "13a47d2f-81c7-422c-8835-476d04617b66",
   "metadata": {},
   "source": [
    "## specs"
   ]
  },
  {
   "cell_type": "markdown",
   "id": "a7328484-bb4f-44cb-916d-a87bd4862ff5",
   "metadata": {},
   "source": [
    "### Observation Spec\n",
    "\n",
    "**example config:**\n",
    "```\n",
    "global_dim = 9  #@param{ type: \"integer\"}\n",
    "item_dim   = 11  #@param{ type: \"integer\"}\n",
    "num_items  = 50 #@param{ type: \"integer\"}\n",
    "num_slots  = 3  #@param{ type: \"integer\"}\n",
    "```\n",
    "**example obs sepc:**\n",
    "\n",
    "```\n",
    "{'global': TensorSpec(shape=(9,), dtype=tf.float32, name=None),\n",
    " 'per_arm': TensorSpec(shape=(50, 11), dtype=tf.float32, name=None)}\n",
    " ```"
   ]
  },
  {
   "cell_type": "code",
   "execution_count": 33,
   "id": "d2d296f6-1587-486a-a143-8ec69aae97a8",
   "metadata": {},
   "outputs": [
    {
     "data": {
      "text/plain": [
       "{'global': TensorSpec(shape=(64,), dtype=tf.float32, name=None),\n",
       " 'per_arm': TensorSpec(shape=(2, 64), dtype=tf.float32, name=None)}"
      ]
     },
     "execution_count": 33,
     "metadata": {},
     "output_type": "execute_result"
    }
   ],
   "source": [
    "observation_spec = {\n",
    "    'global': tf.TensorSpec([GLOBAL_DIM], tf.float32),\n",
    "    'per_arm': tf.TensorSpec([NUM_ACTIONS, PER_ARM_DIM], tf.float32) #excluding action dim here\n",
    "}\n",
    "observation_spec"
   ]
  },
  {
   "cell_type": "markdown",
   "id": "a2e88b4e-79f9-4a5a-8ba1-af28201fd01d",
   "metadata": {},
   "source": [
    "### Action Spec\n",
    "\n",
    "```\n",
    "BoundedTensorSpec(shape=(3,), dtype=tf.int32, name='action', minimum=array(0, dtype=int32), maximum=array(49, dtype=int32))\n",
    "\n",
    "```"
   ]
  },
  {
   "cell_type": "code",
   "execution_count": 34,
   "id": "d6304e73-7101-4cf8-92e6-fb2770e6de27",
   "metadata": {},
   "outputs": [
    {
     "data": {
      "text/plain": [
       "BoundedTensorSpec(shape=(), dtype=tf.int32, name='action_spec', minimum=array(0, dtype=int32), maximum=array(2, dtype=int32))"
      ]
     },
     "execution_count": 34,
     "metadata": {},
     "output_type": "execute_result"
    }
   ],
   "source": [
    "action_spec = tensor_spec.BoundedTensorSpec(\n",
    "    shape=[], \n",
    "    dtype=tf.int32,\n",
    "    minimum=tf.constant(0),            \n",
    "    maximum=NUM_SLOTS-1, # n degrees of freedom and will dictate the expected mean reward spec shape\n",
    "    name=\"action_spec\"\n",
    ")\n",
    "\n",
    "action_spec"
   ]
  },
  {
   "cell_type": "markdown",
   "id": "7bb4f836-ef3f-479b-8923-eb5f75dead56",
   "metadata": {},
   "source": [
    "### TimeStep Spec\n",
    "\n",
    "```\n",
    "TimeStep(\n",
    "{'discount': BoundedTensorSpec(shape=(), dtype=tf.float32, name='discount', minimum=array(0., dtype=float32), maximum=array(1., dtype=float32)),\n",
    " 'observation': {'global': TensorSpec(shape=(9,), dtype=tf.float32, name=None),\n",
    "                 'per_arm': TensorSpec(shape=(50, 11), dtype=tf.float32, name=None)},\n",
    " 'reward': {'chosen_index': BoundedTensorSpec(shape=(), dtype=tf.int32, name='chosen_index', minimum=array(0, dtype=int32), maximum=array(3, dtype=int32)),\n",
    "            'chosen_value': TensorSpec(shape=(), dtype=tf.float32, name='chosen_value')},\n",
    " 'step_type': TensorSpec(shape=(), dtype=tf.int32, name='step_type')})\n",
    " ```"
   ]
  },
  {
   "cell_type": "code",
   "execution_count": 35,
   "id": "1d29187a-f262-48bb-8b92-bca02fc1c155",
   "metadata": {},
   "outputs": [
    {
     "data": {
      "text/plain": [
       "TimeStep(\n",
       "{'discount': BoundedTensorSpec(shape=(), dtype=tf.float32, name='discount', minimum=array(0., dtype=float32), maximum=array(1., dtype=float32)),\n",
       " 'observation': {'global': TensorSpec(shape=(64,), dtype=tf.float32, name=None),\n",
       "                 'per_arm': TensorSpec(shape=(2, 64), dtype=tf.float32, name=None)},\n",
       " 'reward': TensorSpec(shape=(), dtype=tf.float32, name='reward'),\n",
       " 'step_type': TensorSpec(shape=(), dtype=tf.int32, name='step_type')})"
      ]
     },
     "execution_count": 35,
     "metadata": {},
     "output_type": "execute_result"
    }
   ],
   "source": [
    "time_step_spec = ts.time_step_spec(observation_spec)#, reward_spec=tf.TensorSpec([1, NUM_ACTIONS]))\n",
    "time_step_spec"
   ]
  },
  {
   "cell_type": "code",
   "execution_count": null,
   "id": "b5e6729f-dda4-43db-a639-d2c01df902c6",
   "metadata": {},
   "outputs": [],
   "source": [
    "feedback_model = ranking_environment.FeedbackModel"
   ]
  },
  {
   "cell_type": "code",
   "execution_count": null,
   "id": "06655962-6239-4ea1-b24c-72f1fd21faef",
   "metadata": {},
   "outputs": [],
   "source": []
  },
  {
   "cell_type": "code",
   "execution_count": null,
   "id": "fbdcafb1-90cd-4383-a386-17fce005ade0",
   "metadata": {},
   "outputs": [],
   "source": [
    "from src.perarm_features import ranking_bandit_policy\n",
    "# policy = ranking_bandit_policy.GenLinearRankingBanditPolicy("
   ]
  },
  {
   "cell_type": "code",
   "execution_count": null,
   "id": "341894e4-85fd-4b72-a9ed-64cbba150480",
   "metadata": {},
   "outputs": [],
   "source": [
    "from src.perarm_features import agent_factory as agent_factory\n",
    "ranking_bandit_agent = agent_factory.GenLinearRankingBanditAgent(XXX)"
   ]
  },
  {
   "cell_type": "code",
   "execution_count": null,
   "id": "bb694d9b-4d90-4644-9231-23dd9eb4dbf3",
   "metadata": {},
   "outputs": [],
   "source": []
  },
  {
   "cell_type": "code",
   "execution_count": null,
   "id": "da61e837-0482-4cd6-b36e-22404ba732ad",
   "metadata": {},
   "outputs": [],
   "source": []
  },
  {
   "cell_type": "code",
   "execution_count": null,
   "id": "e7661cad-e3cd-45dd-a435-551cec2fe2de",
   "metadata": {},
   "outputs": [],
   "source": []
  },
  {
   "cell_type": "code",
   "execution_count": null,
   "id": "7ea60997-803c-41f2-8f7a-db22b88785ba",
   "metadata": {},
   "outputs": [],
   "source": []
  },
  {
   "cell_type": "code",
   "execution_count": null,
   "id": "7a0dbd2e-0f00-495b-a487-b68b5d9e3821",
   "metadata": {},
   "outputs": [],
   "source": []
  },
  {
   "cell_type": "code",
   "execution_count": null,
   "id": "59da27af-157f-4adb-97b9-b4967d825b4c",
   "metadata": {},
   "outputs": [],
   "source": []
  },
  {
   "cell_type": "code",
   "execution_count": null,
   "id": "21e35cee-b0ee-4067-885e-144ad9c2554f",
   "metadata": {},
   "outputs": [],
   "source": []
  },
  {
   "cell_type": "code",
   "execution_count": null,
   "id": "c0f44b94-998c-43c2-b1c4-1443a5083ea4",
   "metadata": {},
   "outputs": [],
   "source": []
  },
  {
   "cell_type": "code",
   "execution_count": null,
   "id": "907c1573-cccd-422f-911e-06c5cb8e6ae9",
   "metadata": {},
   "outputs": [],
   "source": []
  }
 ],
 "metadata": {
  "environment": {
   "kernel": "python3",
   "name": "tf2-gpu.2-11.m109",
   "type": "gcloud",
   "uri": "gcr.io/deeplearning-platform-release/tf2-gpu.2-11:m109"
  },
  "kernelspec": {
   "display_name": "Python 3",
   "language": "python",
   "name": "python3"
  },
  "language_info": {
   "codemirror_mode": {
    "name": "ipython",
    "version": 3
   },
   "file_extension": ".py",
   "mimetype": "text/x-python",
   "name": "python",
   "nbconvert_exporter": "python",
   "pygments_lexer": "ipython3",
   "version": "3.10.11"
  }
 },
 "nbformat": 4,
 "nbformat_minor": 5
}
