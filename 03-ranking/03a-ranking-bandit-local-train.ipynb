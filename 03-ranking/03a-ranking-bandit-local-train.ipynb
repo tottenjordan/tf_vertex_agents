{
 "cells": [
  {
   "cell_type": "markdown",
   "id": "f462e3ae-0544-4a09-8345-01fc822192f0",
   "metadata": {},
   "source": [
    "# Contextual Bandits for Ranking with TF-Agents\n",
    "\n",
    "> see [ranking tutorial](https://www.tensorflow.org/agents/tutorials/ranking_tutorial)"
   ]
  },
  {
   "cell_type": "markdown",
   "id": "214b2409-ca72-4a2f-972b-32185fbf441c",
   "metadata": {},
   "source": [
    "### Overview\n",
    "\n",
    "* The contextual bandits approach is classified as an extension of multi-armed bandits\n",
    "* a contextual multi-armed banded problem is a simplified reinforcement learning algorithm where the agent takes an action from a set of possible actions \n",
    "\n",
    "> **TODO**\n",
    "\n",
    "The **Bandit Ranking** agent will be similar to the `NeuralEpsilonGreedy` agent. Main differences:\n",
    "\n",
    "* The item features are stored in the `per_arm` part of the observation, in the order of how they are recommended\n",
    "* Since this ordered list of items expresses what action was taken by the policy,\n",
    "the `action` value of the trajectory is not used by the agent.\n",
    "\n",
    "> Note: difference between the \"per-arm\" observation recieved by the policy vs the agent:\n",
    "\n",
    "While the agent receives the items in the recommendation slots, the policy receives the items that are available for recommendation. The user is responsible for converting the observation to the\n",
    "syntax required by the agent.\n",
    "\n",
    "\n",
    "The training observation contains the global features and the features of the items in the recommendation slots \n",
    "* The item features are stored in the `per_arm` part of the observation, in the order of how they are recommended\n",
    "* Note: since this ordered list of items expresses what action was taken by the policy, the action value of the trajectory is not used by the agent"
   ]
  },
  {
   "cell_type": "markdown",
   "id": "ce53b012-c8db-4874-90bc-e13ac83fae19",
   "metadata": {},
   "source": [
    "## Load notebook config\n",
    "\n",
    "* use the prefix defined in `00-env-setup`"
   ]
  },
  {
   "cell_type": "code",
   "execution_count": 1,
   "id": "056b54b6-79d5-4ed6-b94a-6a776fc7db36",
   "metadata": {
    "tags": []
   },
   "outputs": [
    {
     "name": "stdout",
     "output_type": "stream",
     "text": [
      "PREFIX: rec-bandits-v2\n"
     ]
    }
   ],
   "source": [
    "VERSION        = \"v2\"                       # TODO\n",
    "PREFIX         = f'rec-bandits-{VERSION}'   # TODO\n",
    "\n",
    "print(f\"PREFIX: {PREFIX}\")"
   ]
  },
  {
   "cell_type": "code",
   "execution_count": 2,
   "id": "2d3596a1-670b-4974-b643-2079a5db0afa",
   "metadata": {
    "tags": []
   },
   "outputs": [
    {
     "name": "stdout",
     "output_type": "stream",
     "text": [
      "\n",
      "PROJECT_ID               = \"hybrid-vertex\"\n",
      "PROJECT_NUM              = \"934903580331\"\n",
      "LOCATION                 = \"us-central1\"\n",
      "\n",
      "REGION                   = \"us-central1\"\n",
      "BQ_LOCATION              = \"US\"\n",
      "VPC_NETWORK_NAME         = \"ucaip-haystack-vpc-network\"\n",
      "VERTEX_SA                = \"934903580331-compute@developer.gserviceaccount.com\"\n",
      "\n",
      "PREFIX                   = \"rec-bandits-v2\"\n",
      "VERSION                  = \"v2\"\n",
      "\n",
      "BUCKET_NAME              = \"rec-bandits-v2-hybrid-vertex-bucket\"\n",
      "BUCKET_URI               = \"gs://rec-bandits-v2-hybrid-vertex-bucket\"\n",
      "DATA_GCS_PREFIX          = \"data\"\n",
      "DATA_PATH                = \"gs://rec-bandits-v2-hybrid-vertex-bucket/data\"\n",
      "VOCAB_SUBDIR             = \"vocabs\"\n",
      "VOCAB_FILENAME           = \"vocab_dict.pkl\"\n",
      "\n",
      "VPC_NETWORK_FULL         = \"projects/934903580331/global/networks/ucaip-haystack-vpc-network\"\n",
      "\n",
      "BIGQUERY_DATASET_NAME    = \"mvlens_rec_bandits_v2\"\n",
      "BIGQUERY_TABLE_NAME      = \"training_dataset\"\n",
      "\n",
      "REPOSITORY               = \"rl-movielens-rec-bandits-v2\"\n",
      "\n",
      "DOCKERNAME_01            = \"Dockerfile_train_my_perarm_env\"\n",
      "IMAGE_NAME_01            = \"train-my-perarm-env-v2\"\n",
      "IMAGE_URI_01             = \"gcr.io/hybrid-vertex/train-my-perarm-env-v2\"\n",
      "\n",
      "DOCKERNAME_02            = \"Dockerfile_perarm_feats\"\n",
      "IMAGE_NAME_02            = \"train-perarm-feats-v2\"\n",
      "IMAGE_URI_02             = \"gcr.io/hybrid-vertex/train-perarm-feats-v2\"\n",
      "\n",
      "DOCKERNAME_03            = \"Dockerfile_ranking_bandit\"\n",
      "IMAGE_NAME_03            = \"train-rank-bandit-v2\"\n",
      "IMAGE_URI_03             = \"gcr.io/hybrid-vertex/train-rank-bandit-v2\"\n",
      "\n",
      "DOCKERNAME_04            = \"Dockerfile_train_bandit_e2e\"\n",
      "IMAGE_NAME_04            = \"train-mab-e2e-v2\"\n",
      "IMAGE_URI_04             = \"gcr.io/hybrid-vertex/train-mab-e2e-v2\"\n",
      "\n",
      "DOCKERNAME_04_pred       = \"Dockerfile_pred_bandit_e2e\"\n",
      "IMAGE_NAME_04_pred       = \"pred-mab-e2e-v2\"\n",
      "IMAGE_URI_04_pred        = \"gcr.io/hybrid-vertex/pred-mab-e2e-v2\"\n",
      "\n",
      "REMOTE_IMAGE_NAME        = \"us-central1-docker.pkg.dev/hybrid-vertex/rl-movielens-rec-bandits-v2/local_docker_tfa\"\n",
      "REPO_DOCKER_PATH_PREFIX  = \"src\"\n",
      "\n"
     ]
    }
   ],
   "source": [
    "# staging GCS\n",
    "GCP_PROJECTS             = !gcloud config get-value project\n",
    "PROJECT_ID               = GCP_PROJECTS[0]\n",
    "\n",
    "# GCS bucket and paths\n",
    "BUCKET_NAME              = f'{PREFIX}-{PROJECT_ID}-bucket'\n",
    "BUCKET_URI               = f'gs://{BUCKET_NAME}'\n",
    "\n",
    "config = !gsutil cat {BUCKET_URI}/config/notebook_env.py\n",
    "print(config.n)\n",
    "exec(config.n)"
   ]
  },
  {
   "cell_type": "markdown",
   "id": "940507dd-369b-4b93-a0c5-4b2d0e079269",
   "metadata": {},
   "source": [
    "## imports"
   ]
  },
  {
   "cell_type": "code",
   "execution_count": 3,
   "id": "d4fec363-3a69-4fc6-ab38-706230fba418",
   "metadata": {
    "tags": []
   },
   "outputs": [],
   "source": [
    "import os\n",
    "os.environ['TF_CPP_MIN_LOG_LEVEL'] = '2'"
   ]
  },
  {
   "cell_type": "code",
   "execution_count": 4,
   "id": "70e611f2-2d75-4b8d-9c9b-3b4421f8e04e",
   "metadata": {
    "tags": []
   },
   "outputs": [
    {
     "name": "stdout",
     "output_type": "stream",
     "text": [
      "/home/jupyter/tf_vertex_agents/03-ranking\n"
     ]
    }
   ],
   "source": [
    "!pwd"
   ]
  },
  {
   "cell_type": "code",
   "execution_count": 5,
   "id": "93b706f8-8739-426b-b3c0-49c5ae2163f1",
   "metadata": {
    "tags": []
   },
   "outputs": [],
   "source": [
    "import functools\n",
    "from collections import defaultdict\n",
    "from typing import Callable, Dict, List, Optional, TypeVar, Iterable, Tuple\n",
    "from datetime import datetime\n",
    "import time\n",
    "from pprint import pprint\n",
    "import pickle as pkl\n",
    "import pandas as pd\n",
    "\n",
    "from tqdm import tqdm\n",
    "\n",
    "# logging\n",
    "import logging\n",
    "logging.disable(logging.WARNING)\n",
    "\n",
    "import matplotlib.pyplot as plt\n",
    "import numpy as np\n",
    "\n",
    "# google cloud\n",
    "from google.cloud import aiplatform, storage\n",
    "\n",
    "# tensorflow\n",
    "import tensorflow as tf\n",
    "# from tf_agents.agents import TFAgent\n",
    "\n",
    "# from tf_agents.bandits.environments import stationary_stochastic_per_arm_py_environment as p_a_env\n",
    "from tf_agents.bandits.environments.ranking_environment import FeedbackModel\n",
    "from tf_agents.bandits.metrics import tf_metrics as tf_bandit_metrics\n",
    "# from tf_agents.drivers import dynamic_step_driver\n",
    "# from tf_agents.environments import tf_py_environment\n",
    "from tf_agents.replay_buffers import tf_uniform_replay_buffer\n",
    "from tf_agents.specs import tensor_spec\n",
    "from tf_agents.trajectories import time_step as ts\n",
    "\n",
    "# from tf_agents.bandits.agents import lin_ucb_agent\n",
    "# from tf_agents.bandits.agents import linear_thompson_sampling_agent as lin_ts_agent\n",
    "from tf_agents.bandits.agents import neural_epsilon_greedy_agent\n",
    "from tf_agents.bandits.agents import neural_linucb_agent\n",
    "from tf_agents.bandits.networks import global_and_arm_feature_network\n",
    "from tf_agents.bandits.policies import policy_utilities\n",
    "\n",
    "from tf_agents.bandits.specs import utils as bandit_spec_utils\n",
    "from tf_agents.trajectories import trajectory\n",
    "from tf_agents.bandits.environments import ranking_environment\n",
    "from tf_agents.bandits.agents import ranking_agent\n",
    "\n",
    "from tf_agents.utils import nest_utils\n",
    "from tf_agents.specs import array_spec\n",
    "\n",
    "# GPU\n",
    "from numba import cuda \n",
    "import gc\n",
    "\n",
    "import sys\n",
    "sys.path.append(\"..\")\n",
    "\n",
    "# this repo\n",
    "from src.utils import train_utils\n",
    "from src.data import data_utils, data_config\n",
    "\n",
    "# tf exceptions and vars\n",
    "if tf.__version__[0] != \"2\":\n",
    "    raise Exception(\"The trainer only runs with TensorFlow version 2.\")\n",
    "\n",
    "T = TypeVar(\"T\")"
   ]
  },
  {
   "cell_type": "code",
   "execution_count": 6,
   "id": "c5bc92e4-dac3-468e-a0f5-26d48ec63620",
   "metadata": {
    "tags": []
   },
   "outputs": [
    {
     "name": "stdout",
     "output_type": "stream",
     "text": [
      "Num GPUs Available:  1\n"
     ]
    }
   ],
   "source": [
    "print(\"Num GPUs Available: \", len(tf.config.list_physical_devices('GPU')))"
   ]
  },
  {
   "cell_type": "code",
   "execution_count": 8,
   "id": "1d4c0818-64e0-4629-a9d8-2fed58a7086f",
   "metadata": {
    "tags": []
   },
   "outputs": [
    {
     "data": {
      "text/plain": [
       "14"
      ]
     },
     "execution_count": 8,
     "metadata": {},
     "output_type": "execute_result"
    }
   ],
   "source": [
    "device = cuda.get_current_device()\n",
    "device.reset()\n",
    "gc.collect()"
   ]
  },
  {
   "cell_type": "code",
   "execution_count": 9,
   "id": "28167f0d-5870-40bb-ba1e-b4a2cc4bd7d6",
   "metadata": {
    "tags": []
   },
   "outputs": [],
   "source": [
    "# cloud storage client\n",
    "storage_client = storage.Client(project=PROJECT_ID)\n",
    "\n",
    "# Vertex client\n",
    "aiplatform.init(project=PROJECT_ID, location=LOCATION)"
   ]
  },
  {
   "cell_type": "markdown",
   "id": "64b249f6-2e74-4e2a-bf04-be4bfd0732bd",
   "metadata": {},
   "source": [
    "# Data prep"
   ]
  },
  {
   "cell_type": "code",
   "execution_count": 10,
   "id": "4c726bc2-ff41-41b0-9671-113a499e55d5",
   "metadata": {
    "tags": []
   },
   "outputs": [],
   "source": [
    "options = tf.data.Options()\n",
    "options.experimental_distribute.auto_shard_policy = tf.data.experimental.AutoShardPolicy.AUTO\n",
    "\n",
    "MAX_LIST_LENGTH = 3\n",
    "\n",
    "def get_all_lw_features(MAX_LIST_LENGTH):\n",
    "    '''\n",
    "    listwise features\n",
    "    '''\n",
    "    feats = {\n",
    "        'user_id': tf.io.FixedLenFeature(shape=(), dtype=tf.string),\n",
    "        \"movie_id\": tf.io.FixedLenFeature(dtype=tf.string, shape=(MAX_LIST_LENGTH,)), \n",
    "        \"movie_genres\": tf.io.FixedLenFeature(dtype=tf.int64, shape=(MAX_LIST_LENGTH,)), \n",
    "        \"user_rating\": tf.io.FixedLenFeature(dtype=tf.float32, shape=(MAX_LIST_LENGTH,))\n",
    "    }\n",
    "    return feats\n",
    "\n",
    "def parse_lw_tfrecord(example):\n",
    "    \"\"\"\n",
    "    Reads a serialized example from GCS and converts to tfrecord\n",
    "    \"\"\"\n",
    "    feats = get_all_lw_features(MAX_LIST_LENGTH)\n",
    "    \n",
    "    # example = tf.io.parse_single_example(\n",
    "    example = tf.io.parse_example(\n",
    "        example,\n",
    "        feats\n",
    "        # features=feats\n",
    "    )\n",
    "    return example"
   ]
  },
  {
   "cell_type": "code",
   "execution_count": 11,
   "id": "de644e7f-8a6b-4c64-858f-1618fc76e373",
   "metadata": {
    "tags": []
   },
   "outputs": [
    {
     "name": "stdout",
     "output_type": "stream",
     "text": [
      "SPLIT: listwise-3n-val\n"
     ]
    }
   ],
   "source": [
    "# 3 | 5\n",
    "NUM_EXAMPLES_PER_LIST = MAX_LIST_LENGTH\n",
    "\n",
    "# SPLIT = \"val\"\n",
    "# SPLIT = \"listwise-val\"\n",
    "SPLIT = f\"listwise-{NUM_EXAMPLES_PER_LIST}n-val\"\n",
    "\n",
    "print(f\"SPLIT: {SPLIT}\")"
   ]
  },
  {
   "cell_type": "code",
   "execution_count": 12,
   "id": "56222181-f72a-4a9c-946e-5cd94ab40caf",
   "metadata": {
    "tags": []
   },
   "outputs": [
    {
     "name": "stdout",
     "output_type": "stream",
     "text": [
      "gs://rec-bandits-v2-hybrid-vertex-bucket/data/listwise-3n-val/ml-100k-listwise-3n-val.tfrecord\n"
     ]
    }
   ],
   "source": [
    "! gsutil ls $BUCKET_URI/$DATA_GCS_PREFIX/$SPLIT/"
   ]
  },
  {
   "cell_type": "markdown",
   "id": "3b22408a-fbfc-4b56-8f4b-b12462329fd3",
   "metadata": {},
   "source": [
    "### Val"
   ]
  },
  {
   "cell_type": "code",
   "execution_count": 13,
   "id": "8afaa02e-5638-40a8-964e-e51b27d433d0",
   "metadata": {
    "tags": []
   },
   "outputs": [
    {
     "name": "stdout",
     "output_type": "stream",
     "text": [
      "{'movie_genres': <tf.Tensor: shape=(3,), dtype=int64, numpy=array([3, 0, 0])>,\n",
      " 'movie_id': <tf.Tensor: shape=(3,), dtype=string, numpy=array([b'94', b'245', b'403'], dtype=object)>,\n",
      " 'user_id': <tf.Tensor: shape=(), dtype=string, numpy=b'346'>,\n",
      " 'user_rating': <tf.Tensor: shape=(3,), dtype=float32, numpy=array([3., 4., 3.], dtype=float32)>}\n"
     ]
    }
   ],
   "source": [
    "# SPLIT = \"val\"\n",
    "# SPLIT = \"listwise-val\"\n",
    "SPLIT = f\"listwise-{NUM_EXAMPLES_PER_LIST}n-val\"\n",
    "\n",
    "val_files = []\n",
    "for blob in storage_client.list_blobs(f\"{BUCKET_NAME}\", prefix=f'{DATA_GCS_PREFIX}/{SPLIT}'):\n",
    "    if '.tfrecord' in blob.name:\n",
    "        val_files.append(blob.public_url.replace(\"https://storage.googleapis.com/\", \"gs://\"))\n",
    "        \n",
    "val_dataset = tf.data.TFRecordDataset(val_files)\n",
    "val_dataset = val_dataset.map(parse_lw_tfrecord, num_parallel_calls=tf.data.AUTOTUNE)\n",
    "\n",
    "for example in val_dataset.take(1):\n",
    "    pprint(example)"
   ]
  },
  {
   "cell_type": "markdown",
   "id": "d46862c4-dcbb-4b2d-aa53-765204f79250",
   "metadata": {},
   "source": [
    "### Train"
   ]
  },
  {
   "cell_type": "code",
   "execution_count": 14,
   "id": "3e814c64-1c96-47fd-a0f4-4c56bb15e0b0",
   "metadata": {
    "tags": []
   },
   "outputs": [],
   "source": [
    "# SPLIT = \"train\"\n",
    "# SPLIT = \"listwise-train\"\n",
    "# SPLIT = f\"listwise-{NUM_EXAMPLES_PER_LIST}n-train\"\n",
    "\n",
    "# train_files = []\n",
    "# for blob in storage_client.list_blobs(f\"{BUCKET_NAME}\", prefix=f'{DATA_GCS_PREFIX}/{SPLIT}'):\n",
    "#     if '.tfrecord' in blob.name:\n",
    "#         train_files.append(blob.public_url.replace(\"https://storage.googleapis.com/\", \"gs://\"))\n",
    "        \n",
    "# train_dataset = tf.data.TFRecordDataset(train_files)\n",
    "# train_dataset = train_dataset.map(data_utils.parse_lw_tfrecord)\n",
    "\n",
    "# for x in train_dataset.batch(1).take(1):\n",
    "#     pprint(x)"
   ]
  },
  {
   "cell_type": "code",
   "execution_count": 15,
   "id": "b6ca4675-7c73-49b5-8146-0e2966fd3cfc",
   "metadata": {
    "tags": []
   },
   "outputs": [],
   "source": [
    "train_dataset = val_dataset"
   ]
  },
  {
   "cell_type": "markdown",
   "id": "9501973f-6c96-46ba-adaa-6d85450c1256",
   "metadata": {},
   "source": [
    "### Vocab"
   ]
  },
  {
   "cell_type": "code",
   "execution_count": 16,
   "id": "4099e809-1152-4b27-b4aa-bc627652e45e",
   "metadata": {
    "tags": []
   },
   "outputs": [
    {
     "name": "stdout",
     "output_type": "stream",
     "text": [
      "GENERATE_VOCABS: False\n"
     ]
    }
   ],
   "source": [
    "GENERATE_VOCABS = False\n",
    "\n",
    "print(f\"GENERATE_VOCABS: {GENERATE_VOCABS}\")"
   ]
  },
  {
   "cell_type": "code",
   "execution_count": 17,
   "id": "b136aa91-bc57-4acf-80f2-fff09b33acf8",
   "metadata": {
    "tags": []
   },
   "outputs": [
    {
     "name": "stdout",
     "output_type": "stream",
     "text": [
      "Copying gs://mabv1-hybrid-vertex-bucket/vocabs/vocab_dict.pkl [Content-Type=application/octet-stream]...\n",
      "/ [1 files][142.9 KiB/142.9 KiB]                                                \n",
      "Operation completed over 1 objects/142.9 KiB.                                    \n"
     ]
    }
   ],
   "source": [
    "EXISTING_VOCAB_FILE = f'gs://{BUCKET_NAME}/{VOCAB_SUBDIR}/{VOCAB_FILENAME}'\n",
    "\n",
    "!gsutil cp gs://mabv1-hybrid-vertex-bucket/vocabs/vocab_dict.pkl $EXISTING_VOCAB_FILE"
   ]
  },
  {
   "cell_type": "code",
   "execution_count": 18,
   "id": "a2d881e8-b633-4c06-b8b0-c788e1806fb8",
   "metadata": {
    "tags": []
   },
   "outputs": [
    {
     "name": "stdout",
     "output_type": "stream",
     "text": [
      "Downloaded storage object vocabs/vocab_dict.pkl from bucket rec-bandits-v2-hybrid-vertex-bucket to local file vocab_dict.pkl.\n",
      "'movie_id'\n",
      "'user_id'\n",
      "'user_occupation_text'\n",
      "'movie_genres'\n",
      "'bucketized_user_age'\n",
      "'max_timestamp'\n",
      "'min_timestamp'\n",
      "'timestamp_buckets'\n"
     ]
    }
   ],
   "source": [
    "data_utils.download_blob(\n",
    "    project_id = PROJECT_ID,\n",
    "    bucket_name = BUCKET_NAME, \n",
    "    source_blob_name = f\"{VOCAB_SUBDIR}/{VOCAB_FILENAME}\", \n",
    "    destination_file_name= VOCAB_FILENAME\n",
    ")\n",
    "\n",
    "filehandler = open(VOCAB_FILENAME, 'rb')\n",
    "vocab_dict = pkl.load(filehandler)\n",
    "filehandler.close()\n",
    "\n",
    "for key in vocab_dict.keys():\n",
    "    pprint(key)"
   ]
  },
  {
   "cell_type": "markdown",
   "id": "e9c58d83-52f1-4490-931b-3d65c157cc13",
   "metadata": {},
   "source": [
    "# Global & Per-Arm feature embedding models "
   ]
  },
  {
   "cell_type": "code",
   "execution_count": 19,
   "id": "c5dc1c53-af82-400a-b841-32775855578d",
   "metadata": {
    "tags": []
   },
   "outputs": [
    {
     "name": "stdout",
     "output_type": "stream",
     "text": [
      "NUM_OOV_BUCKETS    : 2\n",
      "GLOBAL_EMB_SIZE    : 64\n",
      "MV_EMB_SIZE        : 32\n",
      "BATCH_SIZE         : 5\n",
      "EVAL_BATCH_SIZE    : 1\n",
      "NUM_ITEMS          : 3\n",
      "NUM_SLOTS          : 2\n",
      "DISTANCE_THRESHOLD : 0.5\n"
     ]
    }
   ],
   "source": [
    "NUM_OOV_BUCKETS       = 2\n",
    "GLOBAL_EMBEDDING_SIZE = 64 #64\n",
    "MV_EMBEDDING_SIZE     = 32 #32\n",
    "\n",
    "BATCH_SIZE            = 5 #128\n",
    "EVAL_BATCH_SIZE       = 1\n",
    "\n",
    "NUM_ITEMS             = NUM_EXAMPLES_PER_LIST # 3 | 5 \n",
    "NUM_SLOTS             = 2\n",
    "\n",
    "DISTANCE_THRESHOLD    = 0.5\n",
    "\n",
    "print(f\"NUM_OOV_BUCKETS    : {NUM_OOV_BUCKETS}\")\n",
    "print(f\"GLOBAL_EMB_SIZE    : {GLOBAL_EMBEDDING_SIZE}\")\n",
    "print(f\"MV_EMB_SIZE        : {MV_EMBEDDING_SIZE}\")\n",
    "print(f\"BATCH_SIZE         : {BATCH_SIZE}\")\n",
    "print(f\"EVAL_BATCH_SIZE    : {EVAL_BATCH_SIZE}\")\n",
    "print(f\"NUM_ITEMS          : {NUM_ITEMS}\")\n",
    "print(f\"NUM_SLOTS          : {NUM_SLOTS}\")\n",
    "print(f\"DISTANCE_THRESHOLD : {DISTANCE_THRESHOLD}\")"
   ]
  },
  {
   "cell_type": "code",
   "execution_count": 20,
   "id": "833f62ac-e6bf-4892-a168-b5d075771fb0",
   "metadata": {
    "tags": []
   },
   "outputs": [
    {
     "data": {
      "text/plain": [
       "{'movie_genres': <tf.Tensor: shape=(2, 3), dtype=int64, numpy=\n",
       " array([[3, 0, 0],\n",
       "        [7, 0, 0]])>,\n",
       " 'movie_id': <tf.Tensor: shape=(2, 3), dtype=string, numpy=\n",
       " array([[b'94', b'245', b'403'],\n",
       "        [b'678', b'127', b'343']], dtype=object)>,\n",
       " 'user_id': <tf.Tensor: shape=(2,), dtype=string, numpy=array([b'346', b'602'], dtype=object)>,\n",
       " 'user_rating': <tf.Tensor: shape=(2, 3), dtype=float32, numpy=\n",
       " array([[3., 4., 3.],\n",
       "        [4., 5., 2.]], dtype=float32)>}"
      ]
     },
     "execution_count": 20,
     "metadata": {},
     "output_type": "execute_result"
    }
   ],
   "source": [
    "for i in range(1):\n",
    "    \n",
    "    iterator = iter(train_dataset.batch(2))\n",
    "    data = next(iterator)\n",
    "\n",
    "data"
   ]
  },
  {
   "cell_type": "markdown",
   "id": "a281a7ae-be08-41c6-a648-caab55ad1235",
   "metadata": {},
   "source": [
    "## Embedding layers"
   ]
  },
  {
   "cell_type": "markdown",
   "id": "3ec8212d-0b97-4db8-8126-6693af06d55a",
   "metadata": {},
   "source": [
    "#### User ID"
   ]
  },
  {
   "cell_type": "code",
   "execution_count": 21,
   "id": "fcc2d6f1-4559-466d-8f0f-53fc5c3bd4eb",
   "metadata": {
    "tags": []
   },
   "outputs": [],
   "source": [
    "user_id_input_layer = tf.keras.Input(\n",
    "    name=\"user_id\",\n",
    "    shape=(1,),\n",
    "    dtype=tf.string\n",
    ")\n",
    "\n",
    "user_id_lookup = tf.keras.layers.StringLookup(\n",
    "    max_tokens=len(vocab_dict['user_id']) + NUM_OOV_BUCKETS,\n",
    "    num_oov_indices=NUM_OOV_BUCKETS,\n",
    "    mask_token=None,\n",
    "    vocabulary=vocab_dict['user_id'],\n",
    ")(user_id_input_layer)\n",
    "\n",
    "user_id_embedding = tf.keras.layers.Embedding(\n",
    "    # Let's use the explicit vocabulary lookup.\n",
    "    input_dim=len(vocab_dict['user_id']) + NUM_OOV_BUCKETS,\n",
    "    output_dim=GLOBAL_EMBEDDING_SIZE\n",
    ")(user_id_lookup)\n",
    "\n",
    "user_id_embedding = tf.reduce_sum(user_id_embedding, axis=-2)"
   ]
  },
  {
   "cell_type": "code",
   "execution_count": 22,
   "id": "5c31717b-900e-44dd-8fa8-4692caa4dc4b",
   "metadata": {
    "tags": []
   },
   "outputs": [
    {
     "name": "stdout",
     "output_type": "stream",
     "text": [
      "tf.Tensor([b'346'], shape=(1,), dtype=string)\n",
      "tf.Tensor(\n",
      "[[-0.04060321 -0.01655465 -0.013512   -0.01588846  0.01201389 -0.01844791\n",
      "  -0.03626658  0.00394806  0.04651405 -0.04853141 -0.00966315 -0.03933873\n",
      "   0.0269871   0.04153986 -0.01484632 -0.04931954  0.01870462  0.02610353\n",
      "  -0.03695767 -0.00339975  0.03006348 -0.00055307  0.01057228  0.02693157\n",
      "  -0.02072923 -0.02094797 -0.01204436  0.02553106  0.04389599  0.01274185\n",
      "   0.01623205 -0.04331223  0.01707685 -0.04395906 -0.04691389 -0.04004325\n",
      "   0.03547789  0.02261453 -0.02054854  0.04166413 -0.03763374  0.00970464\n",
      "   0.00697171  0.03652561  0.03390005 -0.02980416  0.00745809  0.00123277\n",
      "  -0.02763804  0.04796367 -0.04169714  0.02442802 -0.04594627  0.01083803\n",
      "  -0.03641246 -0.02538355 -0.03818608  0.00983963  0.02764695  0.01996979\n",
      "   0.01099852  0.0468596  -0.02501249 -0.03903406]], shape=(1, 64), dtype=float32)\n"
     ]
    }
   ],
   "source": [
    "test_user_id_model = tf.keras.Model(inputs=user_id_input_layer, outputs=user_id_embedding)\n",
    "\n",
    "for x in train_dataset.batch(1).take(1):\n",
    "    print(x[\"user_id\"])\n",
    "    print(test_user_id_model(x[\"user_id\"]))"
   ]
  },
  {
   "cell_type": "markdown",
   "id": "15a114a3-1cdd-46c7-b68d-3f9f55e06280",
   "metadata": {},
   "source": [
    "#### Movie ID"
   ]
  },
  {
   "cell_type": "code",
   "execution_count": 23,
   "id": "bcc5a95f-8298-4d68-92c0-7d3887b8364a",
   "metadata": {
    "tags": []
   },
   "outputs": [],
   "source": [
    "# len(vocab_dict['movie_id'])"
   ]
  },
  {
   "cell_type": "code",
   "execution_count": 24,
   "id": "c7c494c2-5a71-4de4-a1a0-746653f805dd",
   "metadata": {
    "tags": []
   },
   "outputs": [],
   "source": [
    "mv_id_input_layer = tf.keras.Input(\n",
    "    name=\"movie_id\",\n",
    "    shape=(1,),\n",
    "    dtype=tf.string\n",
    ")\n",
    "\n",
    "mv_id_lookup = tf.keras.layers.StringLookup(\n",
    "    max_tokens=len(vocab_dict['movie_id']) + NUM_OOV_BUCKETS,\n",
    "    num_oov_indices=NUM_OOV_BUCKETS,\n",
    "    mask_token=None,\n",
    "    vocabulary=vocab_dict['movie_id'],\n",
    ")(mv_id_input_layer)\n",
    "\n",
    "mv_id_embedding = tf.keras.layers.Embedding(\n",
    "    # Let's use the explicit vocabulary lookup.\n",
    "    input_dim=len(vocab_dict['movie_id']) + NUM_OOV_BUCKETS,\n",
    "    output_dim=MV_EMBEDDING_SIZE\n",
    ")(mv_id_lookup)\n",
    "\n",
    "# mv_id_embedding = tf.reduce_sum(mv_id_embedding, axis=-2)"
   ]
  },
  {
   "cell_type": "code",
   "execution_count": 25,
   "id": "6c448c58-fbc8-42b1-aa3e-d69f113ee093",
   "metadata": {
    "tags": []
   },
   "outputs": [
    {
     "name": "stdout",
     "output_type": "stream",
     "text": [
      "tf.Tensor([[b'94' b'245' b'403']], shape=(1, 3), dtype=string)\n",
      "tf.Tensor(\n",
      "[[[-0.00550125  0.04508681 -0.01101776 -0.02124425 -0.03821179\n",
      "   -0.04999049 -0.04950333  0.04533776  0.04766313  0.02385047\n",
      "    0.01145978 -0.02199166 -0.04791831 -0.03037078  0.01486554\n",
      "   -0.01937258  0.02510489  0.02750975  0.02617743  0.01489239\n",
      "   -0.011874    0.00220197 -0.00374115 -0.02660939  0.01584618\n",
      "   -0.03366101 -0.00043065 -0.03346916 -0.0247119  -0.00525386\n",
      "    0.03158767 -0.02280638]\n",
      "  [-0.00897503 -0.00727518  0.01143936 -0.03420898  0.03010663\n",
      "    0.01368104  0.04747229 -0.04197438 -0.03019835 -0.03499292\n",
      "   -0.00029786 -0.0021824  -0.03477731  0.02611     0.01024071\n",
      "   -0.02102232  0.00052661 -0.04763191 -0.04789667 -0.04680897\n",
      "   -0.00919986 -0.01765344 -0.04033849  0.01225144  0.024659\n",
      "   -0.01305405  0.01440387  0.04649707  0.04113059 -0.04577768\n",
      "   -0.03910523 -0.03110167]\n",
      "  [ 0.01260752  0.0032235  -0.02442534  0.03770136  0.04929182\n",
      "    0.04388699  0.0407583  -0.00737512 -0.04598884 -0.02351781\n",
      "   -0.02698755  0.03399822  0.02137143 -0.01427873 -0.01909555\n",
      "   -0.01847144  0.04285132  0.02326456  0.00505644  0.00461904\n",
      "   -0.0189724  -0.00092025  0.00661731 -0.01618765  0.0169586\n",
      "    0.00118254  0.01486036  0.01274829 -0.04670257  0.03523947\n",
      "    0.00400474 -0.01876235]]], shape=(1, 3, 32), dtype=float32)\n"
     ]
    }
   ],
   "source": [
    "test_mv_id_model = tf.keras.Model(inputs=mv_id_input_layer, outputs=mv_id_embedding)\n",
    "\n",
    "for x in train_dataset.batch(1).take(1):\n",
    "    print(x[\"movie_id\"])\n",
    "    list_length = x[\"movie_id\"].shape[1]\n",
    "    print(test_mv_id_model(x[\"movie_id\"]))"
   ]
  },
  {
   "cell_type": "markdown",
   "id": "c5886b2a-011b-4648-9834-b8a1e2d343f2",
   "metadata": {},
   "source": [
    "#### Movie Genres"
   ]
  },
  {
   "cell_type": "code",
   "execution_count": 26,
   "id": "dee33311-d565-4003-8d28-0d3dfc0ca68d",
   "metadata": {
    "tags": []
   },
   "outputs": [],
   "source": [
    "# len(vocab_dict['movie_genres'])"
   ]
  },
  {
   "cell_type": "code",
   "execution_count": 27,
   "id": "052db904-0935-44db-bbba-548aa7b01c2b",
   "metadata": {
    "tags": []
   },
   "outputs": [],
   "source": [
    "mv_genre_input_layer = tf.keras.Input(\n",
    "    name=\"movie_genres\",\n",
    "    shape=(1,),\n",
    "    dtype=tf.float32\n",
    ")\n",
    "\n",
    "mv_genre_lookup = tf.keras.layers.IntegerLookup(\n",
    "    vocabulary=vocab_dict['movie_genres'],\n",
    "    num_oov_indices=NUM_OOV_BUCKETS,\n",
    "    oov_value=0,\n",
    ")(mv_genre_input_layer)\n",
    "\n",
    "mv_genre_embedding = tf.keras.layers.Embedding(\n",
    "    # Let's use the explicit vocabulary lookup.\n",
    "    input_dim=len(vocab_dict['movie_genres']) + NUM_OOV_BUCKETS,\n",
    "    output_dim=MV_EMBEDDING_SIZE\n",
    ")(mv_genre_lookup)\n",
    "\n",
    "# mv_genre_embedding = tf.reduce_sum(mv_genre_embedding, axis=-2)"
   ]
  },
  {
   "cell_type": "code",
   "execution_count": 28,
   "id": "0cd72900-c9bc-4349-8984-8c0218c08efe",
   "metadata": {
    "tags": []
   },
   "outputs": [
    {
     "name": "stdout",
     "output_type": "stream",
     "text": [
      "tf.Tensor(\n",
      "[[3 0 0]\n",
      " [7 0 0]], shape=(2, 3), dtype=int64)\n",
      "tf.Tensor(\n",
      "[[[-0.02387483 -0.01094604 -0.03073199  0.01453476 -0.02907463\n",
      "    0.0494186  -0.03536667 -0.02610589 -0.01514065  0.01573828\n",
      "    0.02282779  0.01102275 -0.0018098   0.03573176  0.00916896\n",
      "    0.02328921 -0.01495224 -0.00705608  0.00275165  0.04925189\n",
      "    0.0143618  -0.01831417 -0.03787997  0.02609415  0.04274878\n",
      "    0.02646365  0.03383193 -0.0092683  -0.03662746 -0.01975822\n",
      "    0.03119681  0.02847514]\n",
      "  [-0.02346635 -0.04966192 -0.00128305 -0.01283627  0.02176699\n",
      "   -0.02031562 -0.0348658   0.02050615 -0.03254505 -0.0074871\n",
      "   -0.04561358  0.0476375  -0.01517812  0.03772027 -0.0335598\n",
      "    0.00396391 -0.04924505 -0.02025696  0.02334091  0.04911682\n",
      "   -0.03460226  0.03596878  0.01169761 -0.00945803  0.04790508\n",
      "   -0.00274339 -0.04168537  0.03609477 -0.02004907 -0.01119034\n",
      "   -0.03674506  0.02750831]\n",
      "  [-0.02346635 -0.04966192 -0.00128305 -0.01283627  0.02176699\n",
      "   -0.02031562 -0.0348658   0.02050615 -0.03254505 -0.0074871\n",
      "   -0.04561358  0.0476375  -0.01517812  0.03772027 -0.0335598\n",
      "    0.00396391 -0.04924505 -0.02025696  0.02334091  0.04911682\n",
      "   -0.03460226  0.03596878  0.01169761 -0.00945803  0.04790508\n",
      "   -0.00274339 -0.04168537  0.03609477 -0.02004907 -0.01119034\n",
      "   -0.03674506  0.02750831]]\n",
      "\n",
      " [[-0.0408895  -0.04865397 -0.02212243 -0.04710212  0.03072022\n",
      "    0.02853495  0.03249857  0.0254951  -0.00971599 -0.04677675\n",
      "   -0.03450445 -0.00756898  0.02268567 -0.04693124  0.04624814\n",
      "   -0.02439268 -0.02779319  0.00714525  0.04326571  0.04714878\n",
      "    0.03997568 -0.01622041  0.01183666  0.02076243  0.02681016\n",
      "   -0.01648385 -0.0434678   0.02511575  0.01478216 -0.0127079\n",
      "    0.02391169 -0.04670885]\n",
      "  [-0.02346635 -0.04966192 -0.00128305 -0.01283627  0.02176699\n",
      "   -0.02031562 -0.0348658   0.02050615 -0.03254505 -0.0074871\n",
      "   -0.04561358  0.0476375  -0.01517812  0.03772027 -0.0335598\n",
      "    0.00396391 -0.04924505 -0.02025696  0.02334091  0.04911682\n",
      "   -0.03460226  0.03596878  0.01169761 -0.00945803  0.04790508\n",
      "   -0.00274339 -0.04168537  0.03609477 -0.02004907 -0.01119034\n",
      "   -0.03674506  0.02750831]\n",
      "  [-0.02346635 -0.04966192 -0.00128305 -0.01283627  0.02176699\n",
      "   -0.02031562 -0.0348658   0.02050615 -0.03254505 -0.0074871\n",
      "   -0.04561358  0.0476375  -0.01517812  0.03772027 -0.0335598\n",
      "    0.00396391 -0.04924505 -0.02025696  0.02334091  0.04911682\n",
      "   -0.03460226  0.03596878  0.01169761 -0.00945803  0.04790508\n",
      "   -0.00274339 -0.04168537  0.03609477 -0.02004907 -0.01119034\n",
      "   -0.03674506  0.02750831]]], shape=(2, 3, 32), dtype=float32)\n"
     ]
    }
   ],
   "source": [
    "test_mv_gen_model = tf.keras.Model(inputs=mv_genre_input_layer, outputs=mv_genre_embedding)\n",
    "\n",
    "for x in train_dataset.batch(2).take(1):\n",
    "    print(x[\"movie_genres\"])\n",
    "    print(test_mv_gen_model(x[\"movie_genres\"]))"
   ]
  },
  {
   "cell_type": "markdown",
   "id": "0415398e-3bbd-4497-aa31-1d618325fbb1",
   "metadata": {},
   "source": [
    "## Sampling Functions"
   ]
  },
  {
   "cell_type": "markdown",
   "id": "343c1dee-fc37-4075-8d65-6909d548eb43",
   "metadata": {},
   "source": [
    "#### item sampling"
   ]
  },
  {
   "cell_type": "code",
   "execution_count": 29,
   "id": "e8883e1c-0448-4486-bc2e-4ae3e3e54919",
   "metadata": {
    "tags": []
   },
   "outputs": [],
   "source": [
    "def _get_per_arm_features(x):\n",
    "    \"\"\"\n",
    "    This function generates a single per-arm observation vector.\n",
    "    \"\"\"\n",
    "    ratings_list = x[\"user_rating\"] #[0]\n",
    "    indices = tf.argsort(ratings_list, direction=\"DESCENDING\")\n",
    "    _batch_size = len(ratings_list)\n",
    "    \n",
    "    mv_ids = test_mv_id_model(x[\"movie_id\"])\n",
    "    mv_gens = test_mv_gen_model(x[\"movie_genres\"])\n",
    "    \n",
    "    concat_embeddings = tf.concat(\n",
    "        [mv_ids, mv_gens], axis=-1\n",
    "    )\n",
    "    \n",
    "    ordered_concat = tf.gather(concat_embeddings, indices, batch_dims=1)\n",
    "    # feedback = tf.gather_nd(concat_embeddings, indices)\n",
    "    # print(f\"ordered_concat_embeddings: {ordered_concat_embeddings}\")\n",
    "    # ordered_concat = tf.reduce_sum(ordered_concat, axis=0)\n",
    "    \n",
    "    slotted_ordered_concat = tf.slice(\n",
    "        ordered_concat, begin=[0, 0, 0], size=[_batch_size, NUM_SLOTS, MV_EMBEDDING_SIZE * NUM_SLOTS]\n",
    "    )\n",
    "    \n",
    "    return slotted_ordered_concat"
   ]
  },
  {
   "cell_type": "code",
   "execution_count": 30,
   "id": "d985e45c-7247-467d-80fb-fa977957e0bc",
   "metadata": {
    "tags": []
   },
   "outputs": [
    {
     "data": {
      "text/plain": [
       "<tf.Tensor: shape=(2, 2, 64), dtype=float32, numpy=\n",
       "array([[[-0.00897503, -0.00727518,  0.01143936, -0.03420898,\n",
       "          0.03010663,  0.01368104,  0.04747229, -0.04197438,\n",
       "         -0.03019835, -0.03499292, -0.00029786, -0.0021824 ,\n",
       "         -0.03477731,  0.02611   ,  0.01024071, -0.02102232,\n",
       "          0.00052661, -0.04763191, -0.04789667, -0.04680897,\n",
       "         -0.00919986, -0.01765344, -0.04033849,  0.01225144,\n",
       "          0.024659  , -0.01305405,  0.01440387,  0.04649707,\n",
       "          0.04113059, -0.04577768, -0.03910523, -0.03110167,\n",
       "         -0.02346635, -0.04966192, -0.00128305, -0.01283627,\n",
       "          0.02176699, -0.02031562, -0.0348658 ,  0.02050615,\n",
       "         -0.03254505, -0.0074871 , -0.04561358,  0.0476375 ,\n",
       "         -0.01517812,  0.03772027, -0.0335598 ,  0.00396391,\n",
       "         -0.04924505, -0.02025696,  0.02334091,  0.04911682,\n",
       "         -0.03460226,  0.03596878,  0.01169761, -0.00945803,\n",
       "          0.04790508, -0.00274339, -0.04168537,  0.03609477,\n",
       "         -0.02004907, -0.01119034, -0.03674506,  0.02750831],\n",
       "        [-0.00550125,  0.04508681, -0.01101776, -0.02124425,\n",
       "         -0.03821179, -0.04999049, -0.04950333,  0.04533776,\n",
       "          0.04766313,  0.02385047,  0.01145978, -0.02199166,\n",
       "         -0.04791831, -0.03037078,  0.01486554, -0.01937258,\n",
       "          0.02510489,  0.02750975,  0.02617743,  0.01489239,\n",
       "         -0.011874  ,  0.00220197, -0.00374115, -0.02660939,\n",
       "          0.01584618, -0.03366101, -0.00043065, -0.03346916,\n",
       "         -0.0247119 , -0.00525386,  0.03158767, -0.02280638,\n",
       "         -0.02387483, -0.01094604, -0.03073199,  0.01453476,\n",
       "         -0.02907463,  0.0494186 , -0.03536667, -0.02610589,\n",
       "         -0.01514065,  0.01573828,  0.02282779,  0.01102275,\n",
       "         -0.0018098 ,  0.03573176,  0.00916896,  0.02328921,\n",
       "         -0.01495224, -0.00705608,  0.00275165,  0.04925189,\n",
       "          0.0143618 , -0.01831417, -0.03787997,  0.02609415,\n",
       "          0.04274878,  0.02646365,  0.03383193, -0.0092683 ,\n",
       "         -0.03662746, -0.01975822,  0.03119681,  0.02847514]],\n",
       "\n",
       "       [[-0.01121098, -0.01838179, -0.04381165,  0.0432884 ,\n",
       "          0.00925529, -0.02692082, -0.0293955 , -0.00258665,\n",
       "         -0.04182445, -0.0257511 ,  0.04144956, -0.02375468,\n",
       "         -0.02663732, -0.01127504,  0.00821948, -0.00465429,\n",
       "         -0.01092999, -0.0100402 , -0.04519862, -0.03935336,\n",
       "          0.02812533,  0.01274878, -0.00129618,  0.04689452,\n",
       "         -0.01108167,  0.0144388 ,  0.03120087, -0.00916561,\n",
       "         -0.0064921 , -0.01573481,  0.00344719,  0.03039174,\n",
       "         -0.02346635, -0.04966192, -0.00128305, -0.01283627,\n",
       "          0.02176699, -0.02031562, -0.0348658 ,  0.02050615,\n",
       "         -0.03254505, -0.0074871 , -0.04561358,  0.0476375 ,\n",
       "         -0.01517812,  0.03772027, -0.0335598 ,  0.00396391,\n",
       "         -0.04924505, -0.02025696,  0.02334091,  0.04911682,\n",
       "         -0.03460226,  0.03596878,  0.01169761, -0.00945803,\n",
       "          0.04790508, -0.00274339, -0.04168537,  0.03609477,\n",
       "         -0.02004907, -0.01119034, -0.03674506,  0.02750831],\n",
       "        [-0.03082175,  0.04369146, -0.02315254,  0.01160825,\n",
       "         -0.03553391,  0.041372  , -0.04545554, -0.04903207,\n",
       "          0.01261297, -0.03278537, -0.02268959,  0.00909499,\n",
       "         -0.00745238,  0.00435083, -0.02554684,  0.01114567,\n",
       "          0.00448047,  0.03322447, -0.00238105, -0.03843688,\n",
       "          0.04069097, -0.02965467,  0.04437431, -0.02617316,\n",
       "         -0.02371372, -0.03117758, -0.00068478, -0.03693477,\n",
       "         -0.04378188, -0.03543868,  0.02264896,  0.03909468,\n",
       "         -0.0408895 , -0.04865397, -0.02212243, -0.04710212,\n",
       "          0.03072022,  0.02853495,  0.03249857,  0.0254951 ,\n",
       "         -0.00971599, -0.04677675, -0.03450445, -0.00756898,\n",
       "          0.02268567, -0.04693124,  0.04624814, -0.02439268,\n",
       "         -0.02779319,  0.00714525,  0.04326571,  0.04714878,\n",
       "          0.03997568, -0.01622041,  0.01183666,  0.02076243,\n",
       "          0.02681016, -0.01648385, -0.0434678 ,  0.02511575,\n",
       "          0.01478216, -0.0127079 ,  0.02391169, -0.04670885]]],\n",
       "      dtype=float32)>"
      ]
     },
     "execution_count": 30,
     "metadata": {},
     "output_type": "execute_result"
    }
   ],
   "source": [
    "test_arms = _get_per_arm_features(data)\n",
    "test_arms #.shape"
   ]
  },
  {
   "cell_type": "code",
   "execution_count": 31,
   "id": "cd9b8a0a-6374-4584-8c99-1fd6adcbaea5",
   "metadata": {
    "tags": []
   },
   "outputs": [
    {
     "name": "stdout",
     "output_type": "stream",
     "text": [
      "PER_ARM_DIM: 64\n"
     ]
    }
   ],
   "source": [
    "test_arms = _get_per_arm_features(data)\n",
    "\n",
    "PER_ARM_DIM = test_arms.shape[2]            \n",
    "print(f\"PER_ARM_DIM: {PER_ARM_DIM}\")\n",
    "\n",
    "# test_arms"
   ]
  },
  {
   "cell_type": "markdown",
   "id": "1b01f1f2-a576-4b18-91ca-ee6c5bd90117",
   "metadata": {},
   "source": [
    "#### global sampling"
   ]
  },
  {
   "cell_type": "code",
   "execution_count": 32,
   "id": "dbffe5f6-8b37-448e-aadd-b578cfbe1395",
   "metadata": {
    "tags": []
   },
   "outputs": [],
   "source": [
    "def _get_global_context_features(x):\n",
    "    \"\"\"\n",
    "    This function generates a single global observation vector.\n",
    "    \"\"\"\n",
    "    \n",
    "    return test_user_id_model(x['user_id'])"
   ]
  },
  {
   "cell_type": "code",
   "execution_count": 33,
   "id": "1644300b-f7b7-4f38-9f31-f83ba74ecf79",
   "metadata": {
    "tags": []
   },
   "outputs": [
    {
     "name": "stdout",
     "output_type": "stream",
     "text": [
      "GLOBAL_DIM: 64\n"
     ]
    }
   ],
   "source": [
    "test_globals = _get_global_context_features(data)\n",
    "\n",
    "GLOBAL_DIM = test_globals.shape[1] \n",
    "print(f\"GLOBAL_DIM: {GLOBAL_DIM}\")\n",
    "\n",
    "# test_globals"
   ]
  },
  {
   "cell_type": "markdown",
   "id": "5ada148e-e36b-4c98-ae5b-234aa9940055",
   "metadata": {},
   "source": [
    "# Ranking Agent"
   ]
  },
  {
   "cell_type": "markdown",
   "id": "7d7fd210-4772-4073-9630-1173ac4f93e4",
   "metadata": {},
   "source": [
    "## Feedback type"
   ]
  },
  {
   "cell_type": "markdown",
   "id": "57a0da21-0b0f-4876-8b43-c012d1cc64c2",
   "metadata": {},
   "source": [
    "Ranking agents assume either a `score_vector` or `cascading feedback` framework for the feedback signal (reward). \n",
    "\n",
    "* `score_vector`: feedback is a vector of scores for every item in the slots. \n",
    "* `cascading feedback`: if the kth item was clicked, then the items up to k-1 receive a score of -1, the kth item receives a score based on a feedback value, while the rest of the items receive feedback of 0. \n",
    "\n",
    "Ranking agent objective: train the scoring network to be able to estimate the above scores"
   ]
  },
  {
   "cell_type": "code",
   "execution_count": 34,
   "id": "c49a7375-ec9f-403d-aa86-810134cd430c",
   "metadata": {
    "tags": []
   },
   "outputs": [],
   "source": [
    "# feedback_model = ranking_environment.FeedbackModel.CASCADING\n",
    "feedback_model = FeedbackModel.SCORE_VECTOR"
   ]
  },
  {
   "cell_type": "markdown",
   "id": "a9b20c76-2950-4459-ab07-148cded078f2",
   "metadata": {},
   "source": [
    "## Tensor Specs"
   ]
  },
  {
   "cell_type": "markdown",
   "id": "3b43561b-f486-454e-a851-8cedfd6999d7",
   "metadata": {
    "tags": []
   },
   "source": [
    "example Tensor Spec structures..."
   ]
  },
  {
   "cell_type": "markdown",
   "id": "38cbb948-52c5-44a3-80ab-4e57ba6968ea",
   "metadata": {},
   "source": [
    "`observation_spec()`\n",
    "\n",
    "```python\n",
    "{'global': TensorSpec(shape=(9,), dtype=tf.float32, name=None),\n",
    " 'per_arm': TensorSpec(shape=(50, 11), dtype=tf.float32, name=None)}\n",
    "```\n",
    "\n",
    "`action_spec()`\n",
    "\n",
    "```python\n",
    "BoundedTensorSpec(shape=(3,), dtype=tf.int32, name='action', minimum=array(0, dtype=int32), maximum=array(49, dtype=int32))\n",
    "```\n",
    "\n",
    "`reward_spec()`\n",
    "\n",
    "```python\n",
    "{'chosen_index': BoundedTensorSpec(shape=(), dtype=tf.int32, name='chosen_index', minimum=array(0, dtype=int32), maximum=array(3, dtype=int32)),\n",
    " 'chosen_value': TensorSpec(shape=(), dtype=tf.float32, name='chosen_value')}\n",
    "```\n",
    "\n",
    "`time_step_spec()`\n",
    "\n",
    "```python\n",
    "TimeStep(\n",
    "{'discount': BoundedTensorSpec(shape=(), dtype=tf.float32, name='discount', minimum=array(0., dtype=float32), maximum=array(1., dtype=float32)),\n",
    " 'observation': {'global': TensorSpec(shape=(9,), dtype=tf.float32, name=None),\n",
    "                 'per_arm': TensorSpec(shape=(50, 11), dtype=tf.float32, name=None)},\n",
    " 'reward': {'chosen_index': BoundedTensorSpec(shape=(), dtype=tf.int32, name='chosen_index', minimum=array(0, dtype=int32), maximum=array(3, dtype=int32)),\n",
    "            'chosen_value': TensorSpec(shape=(), dtype=tf.float32, name='chosen_value')},\n",
    " 'step_type': TensorSpec(shape=(), dtype=tf.int32, name='step_type')})\n",
    "```"
   ]
  },
  {
   "cell_type": "markdown",
   "id": "11d9cf3f-ac83-4580-a8f6-d98d93e49275",
   "metadata": {},
   "source": [
    "**from [ranking_environment.py](https://github.com/tensorflow/agents/blob/master/tf_agents/bandits/environments/ranking_environment.py#L152C1-L166C6)**\n",
    "\n",
    "```\n",
    "    global_spec = array_spec.ArraySpec.from_array(global_sampling_fn())\n",
    "    item_spec = array_spec.add_outer_dims_nest(\n",
    "        array_spec.ArraySpec.from_array(item_sampling_fn()), (num_items,)\n",
    "    )\n",
    "    observation_spec = {GLOBAL_KEY: global_spec, PER_ARM_KEY: item_spec}\n",
    "    self._global_dim = global_spec.shape[0]\n",
    "    self._item_dim = item_spec.shape[-1]\n",
    "\n",
    "    action_spec = array_spec.BoundedArraySpec(\n",
    "        shape=(num_slots,),\n",
    "        dtype=np.int32,\n",
    "        minimum=0,\n",
    "        maximum=num_items - 1,\n",
    "        name='action',\n",
    "    )\n",
    "```"
   ]
  },
  {
   "cell_type": "markdown",
   "id": "fae68b8a-8656-45cc-8977-70613629ce75",
   "metadata": {},
   "source": [
    "set vars"
   ]
  },
  {
   "cell_type": "code",
   "execution_count": 35,
   "id": "5426bb09-834b-4cb3-9bf4-8d84482307e9",
   "metadata": {
    "tags": []
   },
   "outputs": [
    {
     "name": "stdout",
     "output_type": "stream",
     "text": [
      "BATCH_SIZE         : 5\n",
      "EVAL_BATCH_SIZE    : 1\n",
      "NUM_ITEMS          : 3\n",
      "NUM_SLOTS          : 2\n",
      "DISTANCE_THRESHOLD : 0.5\n",
      "GLOBAL_DIM         : 64\n",
      "PER_ARM_DIM        : 64\n"
     ]
    }
   ],
   "source": [
    "from tf_agents.specs import array_spec\n",
    "\n",
    "print(f\"BATCH_SIZE         : {BATCH_SIZE}\")\n",
    "print(f\"EVAL_BATCH_SIZE    : {EVAL_BATCH_SIZE}\")\n",
    "print(f\"NUM_ITEMS          : {NUM_ITEMS}\")\n",
    "print(f\"NUM_SLOTS          : {NUM_SLOTS}\")\n",
    "print(f\"DISTANCE_THRESHOLD : {DISTANCE_THRESHOLD}\")\n",
    "print(f\"GLOBAL_DIM         : {GLOBAL_DIM}\")\n",
    "print(f\"PER_ARM_DIM        : {PER_ARM_DIM}\")"
   ]
  },
  {
   "cell_type": "markdown",
   "id": "cc572702-592c-4d60-8719-50739f611e16",
   "metadata": {},
   "source": [
    "### Observation spec\n",
    "\n",
    "* The observation the agent ingests contains the global features and the features\n",
    "of the items in the recommendation slots. \n",
    "* The item features are stored in the `per_arm` part of the observation, in the order of how they are recommended.\n",
    "* Since this ordered list of items expresses what action was taken by the policy, the `action` value of the trajectory is not used by the agent."
   ]
  },
  {
   "cell_type": "code",
   "execution_count": 36,
   "id": "0b97866b-fb8c-4724-ac6f-ce789d5b7368",
   "metadata": {
    "tags": []
   },
   "outputs": [
    {
     "data": {
      "text/plain": [
       "{'global': TensorSpec(shape=(64,), dtype=tf.float32, name=None),\n",
       " 'per_arm': TensorSpec(shape=(2, 64), dtype=tf.float32, name=None)}"
      ]
     },
     "execution_count": 36,
     "metadata": {},
     "output_type": "execute_result"
    }
   ],
   "source": [
    "observation_spec = {\n",
    "    'global': tf.TensorSpec([GLOBAL_DIM], tf.float32),\n",
    "    # 'per_arm': tf.TensorSpec([NUM_ITEMS, PER_ARM_DIM], tf.float32)\n",
    "    'per_arm': tf.TensorSpec([NUM_SLOTS, PER_ARM_DIM], tf.float32)\n",
    "}\n",
    "observation_spec"
   ]
  },
  {
   "cell_type": "markdown",
   "id": "80565f15-d41e-46db-99b3-6ea6a73ab6aa",
   "metadata": {},
   "source": [
    "### Action spec\n",
    "\n",
    "> Action spec for ranking models must have rank 1"
   ]
  },
  {
   "cell_type": "code",
   "execution_count": 37,
   "id": "73b90ec0-1fe2-4b08-8a47-1fd32058705f",
   "metadata": {
    "tags": []
   },
   "outputs": [
    {
     "name": "stdout",
     "output_type": "stream",
     "text": [
      "action_spec rank: (2,)\n"
     ]
    },
    {
     "data": {
      "text/plain": [
       "BoundedArraySpec(shape=(2,), dtype=dtype('int32'), name='action', minimum=0, maximum=2)"
      ]
     },
     "execution_count": 37,
     "metadata": {},
     "output_type": "execute_result"
    }
   ],
   "source": [
    "action_spec = array_spec.BoundedArraySpec(\n",
    "    shape=(NUM_SLOTS,),\n",
    "    dtype=np.int32,\n",
    "    minimum=0,\n",
    "    maximum=NUM_ITEMS - 1,\n",
    "    name='action',\n",
    ")\n",
    "\n",
    "print(f\"action_spec rank: {action_spec.shape}\")\n",
    "\n",
    "action_spec"
   ]
  },
  {
   "cell_type": "markdown",
   "id": "ccdacef1-fd61-4569-9bf7-299c52903710",
   "metadata": {},
   "source": [
    "### Reward spec"
   ]
  },
  {
   "cell_type": "code",
   "execution_count": 38,
   "id": "166f53bd-cdb9-49c4-a4d8-2904a6300f4c",
   "metadata": {
    "tags": []
   },
   "outputs": [
    {
     "data": {
      "text/plain": [
       "TensorSpec(shape=(2,), dtype=tf.float32, name='score_vector')"
      ]
     },
     "execution_count": 38,
     "metadata": {},
     "output_type": "execute_result"
    }
   ],
   "source": [
    "if feedback_model == ranking_environment.FeedbackModel.CASCADING:\n",
    "    # `chosen_index == num_slots` means no recommended item was clicked.\n",
    "    reward_spec = {\n",
    "        'chosen_index': array_spec.BoundedArraySpec(\n",
    "            shape=[],\n",
    "            minimum=0,\n",
    "            maximum=NUM_SLOTS,\n",
    "            dtype=np.int32,\n",
    "            name='chosen_index',\n",
    "        ),\n",
    "        'chosen_value': array_spec.ArraySpec(\n",
    "            shape=[], dtype=np.float32, name='chosen_value'\n",
    "        ),\n",
    "    }\n",
    "elif feedback_model == ranking_environment.FeedbackModel.SCORE_VECTOR:\n",
    "    reward_spec = tf.TensorSpec(\n",
    "        shape=[NUM_SLOTS], dtype=np.float32, name='score_vector'\n",
    "    )\n",
    "    # reward_spec = array_spec.ArraySpec(\n",
    "    #     shape=[NUM_SLOTS], dtype=np.float32, name='score_vector'\n",
    "    # )\n",
    "else:\n",
    "    reward_spec = f\"Feedback model: {feedback_model}, not implemented\"\n",
    "    \n",
    "reward_spec"
   ]
  },
  {
   "cell_type": "markdown",
   "id": "de0deb69-a259-4495-a58e-81c0fd2a97ab",
   "metadata": {},
   "source": [
    "### TimeStep spec"
   ]
  },
  {
   "cell_type": "code",
   "execution_count": 39,
   "id": "aa7a5d0e-d4c2-4f8c-b67e-84fe6d1e4fcb",
   "metadata": {
    "tags": []
   },
   "outputs": [
    {
     "data": {
      "text/plain": [
       "TimeStep(\n",
       "{'discount': BoundedTensorSpec(shape=(), dtype=tf.float32, name='discount', minimum=array(0., dtype=float32), maximum=array(1., dtype=float32)),\n",
       " 'observation': {'global': TensorSpec(shape=(64,), dtype=tf.float32, name=None),\n",
       "                 'per_arm': TensorSpec(shape=(2, 64), dtype=tf.float32, name=None)},\n",
       " 'reward': TensorSpec(shape=(2,), dtype=tf.float32, name='score_vector'),\n",
       " 'step_type': TensorSpec(shape=(), dtype=tf.int32, name='step_type')})"
      ]
     },
     "execution_count": 39,
     "metadata": {},
     "output_type": "execute_result"
    }
   ],
   "source": [
    "# TODO - investigate adding reward_spec\n",
    "\"\"\"\n",
    "TypeError: Expected observation and reward specs to \n",
    "both be either tensor or array specs, but saw spec values \n",
    "TensorSpec(shape=(64,), dtype=tf.float32, name=None) \n",
    "vs. ArraySpec(shape=(2,), dtype=dtype('float32'), name='score_vector')\n",
    "\"\"\"\n",
    "\n",
    "\n",
    "time_step_spec = ts.time_step_spec(\n",
    "    observation_spec = observation_spec, \n",
    "    reward_spec = reward_spec             # TODO\n",
    ")\n",
    "time_step_spec"
   ]
  },
  {
   "cell_type": "markdown",
   "id": "f1ecc66c-ce8b-480b-8306-40eaf399f120",
   "metadata": {},
   "source": [
    "Inspect chosen arm features spec"
   ]
  },
  {
   "cell_type": "code",
   "execution_count": 40,
   "id": "164a5760-3ca3-4397-85b3-26bbcd987b52",
   "metadata": {
    "tags": []
   },
   "outputs": [
    {
     "data": {
      "text/plain": [
       "{'global': TensorSpec(shape=(64,), dtype=tf.float32, name=None),\n",
       " 'per_arm': TensorSpec(shape=(2, 64), dtype=tf.float32, name=None)}"
      ]
     },
     "execution_count": 40,
     "metadata": {},
     "output_type": "execute_result"
    }
   ],
   "source": [
    "time_step_spec.observation"
   ]
  },
  {
   "cell_type": "markdown",
   "id": "ad033e89-1f1c-4f63-9084-bf6a6807915f",
   "metadata": {},
   "source": [
    "## Policy and Scoring Network\n",
    "\n",
    "> all ranking agents train a network that estimates scores of item/user pairs\n",
    "\n",
    "**Ranking Policies**\n",
    "* `DESCENDING_SCORES` - Stack rank deterministically by scores\n",
    "* `NO_PENALTY` - Sampling sequentially based on scores; no penalty applied\n",
    "* `COSINE_DISTANCE` - Sampling sequentally and taking diversity into account\n",
    "\n",
    "`penalty_mixture` parameter governs the balance between ranking based on scores and accounting for diversity\n",
    "* low positive value --> ranking has less diversity\n",
    "* higher value --> enforces more diversity\n",
    "\n",
    "`logits_temperature` - temperature parameter for non-deterministic policies\n",
    "* This value must be positive"
   ]
  },
  {
   "cell_type": "code",
   "execution_count": 41,
   "id": "5ce99346-5745-4d87-a469-9a36cb270987",
   "metadata": {
    "tags": []
   },
   "outputs": [
    {
     "name": "stdout",
     "output_type": "stream",
     "text": [
      "GLOBAL_DIM  : 64\n",
      "PER_ARM_DIM : 64\n"
     ]
    }
   ],
   "source": [
    "print(f\"GLOBAL_DIM  : {GLOBAL_DIM}\")\n",
    "print(f\"PER_ARM_DIM : {PER_ARM_DIM}\")"
   ]
  },
  {
   "cell_type": "code",
   "execution_count": 42,
   "id": "c5aea87d-c993-4cd6-80ad-0522dcc91956",
   "metadata": {
    "tags": []
   },
   "outputs": [
    {
     "name": "stdout",
     "output_type": "stream",
     "text": [
      "{'batch_size': 5,\n",
      " 'common_layers': [16, 8],\n",
      " 'eval_batch_size': 1,\n",
      " 'feedback_model': 2,\n",
      " 'global_layers': [64, 32, 16],\n",
      " 'learning_rate': 0.005,\n",
      " 'logits_temperature': 1.0,\n",
      " 'model_type': 'Ranking',\n",
      " 'network_type': 'dotproduct',\n",
      " 'num_items': 3,\n",
      " 'num_slots': 2,\n",
      " 'penalty_mixture': 1.0,\n",
      " 'per_arm_layers': [64, 32, 16],\n",
      " 'policy_type': <RankingPolicyType.DESCENDING_SCORES: 3>}\n"
     ]
    }
   ],
   "source": [
    "AGENT_TYPE = \"Ranking\"\n",
    "NETWORK_TYPE = \"dotproduct\"\n",
    "POLICY_TYPE = ranking_agent.RankingPolicyType.DESCENDING_SCORES # COSINE_DISTANCE | NO_PENALTY | DESCENDING_SCORES\n",
    "\n",
    "PENALTY_MIXTURE = 1.0\n",
    "LOGITS_TEMPERATURE = 1.0\n",
    "\n",
    "LEARNING_RATE = 0.005\n",
    "\n",
    "GLOBAL_LAYERS   = [64, 32, 16]\n",
    "ARM_LAYERS      = [64, 32, 16]\n",
    "COMMON_LAYERS   = [16, 8]\n",
    "\n",
    "HPARAMS = {  # TODO - streamline and consolidate\n",
    "    \"batch_size\": BATCH_SIZE,\n",
    "    \"eval_batch_size\" : EVAL_BATCH_SIZE,\n",
    "    \"num_items\": NUM_ITEMS,\n",
    "    \"num_slots\": NUM_SLOTS,\n",
    "    \"model_type\": AGENT_TYPE,\n",
    "    \"network_type\": NETWORK_TYPE,\n",
    "    \"global_layers\": GLOBAL_LAYERS,\n",
    "    \"per_arm_layers\": ARM_LAYERS,\n",
    "    \"common_layers\": COMMON_LAYERS,\n",
    "    \"learning_rate\": LEARNING_RATE,\n",
    "    \"policy_type\": POLICY_TYPE,\n",
    "    \"feedback_model\" : feedback_model,\n",
    "    \"penalty_mixture\": PENALTY_MIXTURE,\n",
    "    \"logits_temperature\": LOGITS_TEMPERATURE,\n",
    "}\n",
    "pprint(HPARAMS)"
   ]
  },
  {
   "cell_type": "code",
   "execution_count": 43,
   "id": "80d4e8a9-6582-425d-9c50-499aa883b2cb",
   "metadata": {
    "tags": []
   },
   "outputs": [
    {
     "name": "stdout",
     "output_type": "stream",
     "text": [
      "Network: GlobalAndArmDotProductNetwork\n"
     ]
    }
   ],
   "source": [
    "if NETWORK_TYPE == 'commontower':\n",
    "    scoring_network = global_and_arm_feature_network.create_feed_forward_common_tower_network(\n",
    "        observation_spec = observation_spec, \n",
    "        global_layers = GLOBAL_LAYERS, \n",
    "        arm_layers = ARM_LAYERS, \n",
    "        common_layers = COMMON_LAYERS,\n",
    "        # output_dim = output_dim,\n",
    "    )\n",
    "    \n",
    "elif NETWORK_TYPE == 'dotproduct':\n",
    "    scoring_network = global_and_arm_feature_network.create_feed_forward_dot_product_network(\n",
    "        observation_spec = observation_spec, \n",
    "        global_layers = GLOBAL_LAYERS, \n",
    "        arm_layers = ARM_LAYERS\n",
    "    )\n",
    "    \n",
    "if NETWORK_TYPE:\n",
    "    print(f\"Network: {scoring_network.name}\")"
   ]
  },
  {
   "cell_type": "markdown",
   "id": "0e1939dc-7ee9-414c-aa89-85b08bcfb4cb",
   "metadata": {},
   "source": [
    "## Define Agent "
   ]
  },
  {
   "cell_type": "code",
   "execution_count": 44,
   "id": "5dad7dd6-3d19-4c79-8a72-078253f046e5",
   "metadata": {
    "tags": []
   },
   "outputs": [
    {
     "name": "stdout",
     "output_type": "stream",
     "text": [
      "rank_agent: ranking_agent\n"
     ]
    }
   ],
   "source": [
    "rank_agent = ranking_agent.RankingAgent(\n",
    "    time_step_spec=time_step_spec,\n",
    "    action_spec=action_spec,\n",
    "    scoring_network=scoring_network,\n",
    "    optimizer=tf.compat.v1.train.AdamOptimizer(learning_rate=HPARAMS['learning_rate']),\n",
    "    feedback_model=ranking_agent.FeedbackModel.SCORE_VECTOR, # FeedbackModel.SCORE_VECTOR, # feedback_model,\n",
    "    policy_type=HPARAMS['policy_type'],\n",
    "    logits_temperature=HPARAMS['logits_temperature'],\n",
    "    penalty_mixture_coefficient=HPARAMS['penalty_mixture'],\n",
    "    summarize_grads_and_vars=True\n",
    ")\n",
    "\n",
    "rank_agent.initialize()\n",
    "\n",
    "print(f'rank_agent: {rank_agent.name}')"
   ]
  },
  {
   "cell_type": "code",
   "execution_count": 45,
   "id": "cf04067d-7f83-43f7-bb97-88ddfd1b3d19",
   "metadata": {
    "tags": []
   },
   "outputs": [
    {
     "data": {
      "text/plain": [
       "<tf_agents.bandits.policies.ranking_policy.DescendingScoreRankingPolicy at 0x7f4ff0561ed0>"
      ]
     },
     "execution_count": 45,
     "metadata": {},
     "output_type": "execute_result"
    }
   ],
   "source": [
    "rank_agent.policy"
   ]
  },
  {
   "cell_type": "code",
   "execution_count": 46,
   "id": "a38e772e-80b8-4dfe-811d-83fae71c912c",
   "metadata": {
    "tags": []
   },
   "outputs": [
    {
     "data": {
      "text/plain": [
       "BoundedTensorSpec(shape=(2,), dtype=tf.int32, name='action', minimum=array(0, dtype=int32), maximum=array(2, dtype=int32))"
      ]
     },
     "execution_count": 46,
     "metadata": {},
     "output_type": "execute_result"
    }
   ],
   "source": [
    "rank_agent.action_spec"
   ]
  },
  {
   "cell_type": "code",
   "execution_count": 47,
   "id": "fd594bbd-383b-41a8-bc5e-317db5b93a30",
   "metadata": {
    "tags": []
   },
   "outputs": [
    {
     "data": {
      "text/plain": [
       "{'global': TensorSpec(shape=(64,), dtype=tf.float32, name=None),\n",
       " 'per_arm': TensorSpec(shape=(2, 64), dtype=tf.float32, name=None)}"
      ]
     },
     "execution_count": 47,
     "metadata": {},
     "output_type": "execute_result"
    }
   ],
   "source": [
    "rank_agent.training_data_spec.observation"
   ]
  },
  {
   "cell_type": "code",
   "execution_count": 48,
   "id": "21e2f27b-79b6-4ce6-bf61-0e777db54d6f",
   "metadata": {
    "tags": []
   },
   "outputs": [
    {
     "data": {
      "text/plain": [
       "_TupleWrapper(TimeStep(\n",
       "{'discount': BoundedTensorSpec(shape=(), dtype=tf.float32, name='discount', minimum=array(0., dtype=float32), maximum=array(1., dtype=float32)),\n",
       " 'observation': DictWrapper({'global': TensorSpec(shape=(64,), dtype=tf.float32, name=None), 'per_arm': TensorSpec(shape=(2, 64), dtype=tf.float32, name=None)}),\n",
       " 'reward': TensorSpec(shape=(2,), dtype=tf.float32, name='score_vector'),\n",
       " 'step_type': TensorSpec(shape=(), dtype=tf.int32, name='step_type')}))"
      ]
     },
     "execution_count": 48,
     "metadata": {},
     "output_type": "execute_result"
    }
   ],
   "source": [
    "rank_agent.policy.time_step_spec"
   ]
  },
  {
   "cell_type": "code",
   "execution_count": 49,
   "id": "d6040423-c390-4e1a-90a9-69b9ab58b23c",
   "metadata": {
    "tags": []
   },
   "outputs": [
    {
     "data": {
      "text/plain": [
       "_TupleWrapper(Trajectory(\n",
       "{'action': BoundedTensorSpec(shape=(2,), dtype=tf.int32, name=None, minimum=array(0, dtype=int32), maximum=array(1, dtype=int32)),\n",
       " 'discount': BoundedTensorSpec(shape=(), dtype=tf.float32, name='discount', minimum=array(0., dtype=float32), maximum=array(1., dtype=float32)),\n",
       " 'next_step_type': TensorSpec(shape=(), dtype=tf.int32, name='step_type'),\n",
       " 'observation': DictWrapper({'global': TensorSpec(shape=(64,), dtype=tf.float32, name=None), 'per_arm': TensorSpec(shape=(2, 64), dtype=tf.float32, name=None)}),\n",
       " 'policy_info': PolicyInfo(log_probability=(), predicted_rewards_mean=TensorSpec(shape=(2,), dtype=tf.float32, name=None), multiobjective_scalarized_predicted_rewards_mean=(), predicted_rewards_optimistic=(), predicted_rewards_sampled=(), bandit_policy_type=()),\n",
       " 'reward': TensorSpec(shape=(2,), dtype=tf.float32, name='score_vector'),\n",
       " 'step_type': TensorSpec(shape=(), dtype=tf.int32, name='step_type')}))"
      ]
     },
     "execution_count": 49,
     "metadata": {},
     "output_type": "execute_result"
    }
   ],
   "source": [
    "rank_agent.policy.trajectory_spec"
   ]
  },
  {
   "cell_type": "markdown",
   "id": "46435a9d-c901-4d32-8baa-1da60c427788",
   "metadata": {},
   "source": [
    "### Reward function\n",
    "\n",
    "**TODO**\n",
    "* `_create_ranking_reward_features`\n",
    "* `_get_rewards_from_arm_features` "
   ]
  },
  {
   "cell_type": "code",
   "execution_count": 50,
   "id": "90b521c4-bb43-4cc5-b0fa-67d420b64834",
   "metadata": {
    "tags": []
   },
   "outputs": [],
   "source": [
    "def _get_ranking_rewards_sv(x):\n",
    "    \"\"\"Calculates reward for the actions.\"\"\"\n",
    "    \n",
    "    # rating_scores_list = []\n",
    "    ratings_list = x[\"user_rating\"] #[0]\n",
    "    indices = tf.argsort(ratings_list, direction=\"DESCENDING\")\n",
    "    \n",
    "    feedback = tf.gather(ratings_list, indices, batch_dims=-1) #.numpy()\n",
    "    \n",
    "    # feedback = tf.math.top_k(feedback, k=HPARAMS['num_slots']).values\n",
    "    top_n_ratings = tf.slice(feedback, begin=[0, 0], size=[-1, HPARAMS['num_slots']])\n",
    "    \n",
    "    return top_n_ratings"
   ]
  },
  {
   "cell_type": "code",
   "execution_count": 51,
   "id": "997dbdd4-7048-4d9f-8f65-f5e99a28ef1a",
   "metadata": {
    "tags": []
   },
   "outputs": [
    {
     "data": {
      "text/plain": [
       "<tf.Tensor: shape=(2, 2), dtype=float32, numpy=\n",
       "array([[4., 3.],\n",
       "       [5., 4.]], dtype=float32)>"
      ]
     },
     "execution_count": 51,
     "metadata": {},
     "output_type": "execute_result"
    }
   ],
   "source": [
    "test_ratings = _get_ranking_rewards_sv(data)\n",
    "test_ratings"
   ]
  },
  {
   "cell_type": "code",
   "execution_count": 52,
   "id": "31976a8d-c4ba-4fc1-a429-e24f812aac58",
   "metadata": {
    "tags": []
   },
   "outputs": [],
   "source": [
    "def _rank_trajectory_fn(element): # hparams\n",
    "    \"\"\"Converts a dataset element into a trajectory.\"\"\"\n",
    "    # global_features = _get_global_context_features(element)\n",
    "    # arm_features = _get_per_arm_features(element)\n",
    "    \n",
    "    global_features = _get_global_context_features(element)\n",
    "    arm_features = _get_per_arm_features(element)\n",
    "    \n",
    "    # obs spec\n",
    "    observation = {\n",
    "        bandit_spec_utils.GLOBAL_FEATURE_KEY:\n",
    "            train_utils._add_outer_dimension(global_features),\n",
    "            # global_features,\n",
    "        bandit_spec_utils.PER_ARM_FEATURE_KEY: \n",
    "            train_utils._add_outer_dimension(arm_features)\n",
    "            # arm_features\n",
    "    }\n",
    "    \n",
    "    # reward = element['user_rating']\n",
    "    ranking_rewards = _get_ranking_rewards_sv(element)\n",
    "\n",
    "    \n",
    "    # action = np.zeros((HPARAMS['num_slots']), dtype=np.int32)\n",
    "    action=tf.zeros_like(HPARAMS['num_slots'], dtype=tf.int32)\n",
    "    \n",
    "    # discount = np.zeros((HPARAMS['num_slots']), dtype=np.float32)\n",
    "    discount=tf.zeros_like(HPARAMS['num_slots'], dtype=tf.int32)\n",
    "    return trajectory.single_step(\n",
    "        observation=observation,\n",
    "        action=action,\n",
    "        policy_info=(), #policy_info,\n",
    "        reward=ranking_rewards,\n",
    "        discount=discount\n",
    "    )\n"
   ]
  },
  {
   "cell_type": "code",
   "execution_count": 53,
   "id": "c8221e8a-cdf2-4944-9856-6a2371d3f782",
   "metadata": {
    "tags": []
   },
   "outputs": [],
   "source": [
    "for x in train_dataset.batch(HPARAMS['batch_size']).take(1):\n",
    "    test_traj = _rank_trajectory_fn(x)\n",
    "    \n",
    "# test_traj"
   ]
  },
  {
   "cell_type": "code",
   "execution_count": 54,
   "id": "4d231c92-cf2a-496b-baa4-afeaee1af872",
   "metadata": {
    "collapsed": true,
    "jupyter": {
     "outputs_hidden": true
    },
    "tags": []
   },
   "outputs": [
    {
     "data": {
      "text/plain": [
       "Trajectory(\n",
       "{'action': <tf.Tensor: shape=(), dtype=int32, numpy=0>,\n",
       " 'discount': <tf.Tensor: shape=(), dtype=int32, numpy=0>,\n",
       " 'next_step_type': <tf.Tensor: shape=(), dtype=int32, numpy=2>,\n",
       " 'observation': {'global': <tf.Tensor: shape=(5, 1, 64), dtype=float32, numpy=\n",
       "array([[[ 3.58744599e-02,  4.06086333e-02,  1.65843479e-02,\n",
       "          4.88881133e-02, -4.34852950e-02,  2.20158137e-02,\n",
       "          6.70757145e-03,  4.17699553e-02,  4.56101410e-02,\n",
       "         -4.14903387e-02,  2.87679546e-02, -2.77934913e-02,\n",
       "          3.08319665e-02,  2.42299102e-02, -1.30652301e-02,\n",
       "         -4.69043963e-02,  4.61859964e-02, -4.23259996e-02,\n",
       "          2.88787819e-02,  1.09393708e-02, -2.39308719e-02,\n",
       "         -2.42043138e-02,  1.34402514e-03,  4.48107012e-02,\n",
       "         -4.68876734e-02, -2.27454435e-02, -1.21721737e-02,\n",
       "          2.64799595e-03,  7.38717616e-04, -4.94922176e-02,\n",
       "          3.67024876e-02, -4.94284555e-03, -3.14615853e-02,\n",
       "          2.03740038e-02,  2.00892352e-02,  2.15639137e-02,\n",
       "          7.92882591e-03, -4.57277186e-02,  1.80248953e-02,\n",
       "          2.08269246e-02, -2.59027369e-02, -3.71540561e-02,\n",
       "         -5.33276796e-03,  6.31622225e-03, -3.25338021e-02,\n",
       "         -1.24162436e-03,  1.75560452e-02,  2.03644112e-03,\n",
       "         -4.78337891e-02, -1.13524571e-02, -2.33843680e-02,\n",
       "          3.83130200e-02,  3.71217243e-02, -1.94374081e-02,\n",
       "         -2.54797097e-02, -9.81234387e-03, -1.34063251e-02,\n",
       "          4.69402336e-02, -2.58201249e-02, -3.92215252e-02,\n",
       "          2.90819295e-02,  7.24296644e-03,  4.59770076e-02,\n",
       "          2.58465149e-02]],\n",
       "\n",
       "       [[ 4.05919217e-02,  3.91215347e-02, -1.17398985e-02,\n",
       "          9.08982754e-03,  5.25089353e-03,  3.31200100e-02,\n",
       "          1.27359517e-02, -2.68367287e-02,  4.53527309e-02,\n",
       "         -3.24092805e-04,  1.82349198e-02, -2.17306502e-02,\n",
       "          1.43592618e-02, -1.34668238e-02,  4.35118191e-02,\n",
       "         -3.56382355e-02,  3.13966759e-02, -2.46330742e-02,\n",
       "         -2.25469954e-02, -3.41908485e-02,  4.15936746e-02,\n",
       "         -7.50522688e-03, -4.35916446e-02,  4.25479673e-02,\n",
       "         -3.37102637e-02, -1.15757100e-02, -2.96364669e-02,\n",
       "          4.76675518e-02, -4.74827774e-02,  8.28769058e-03,\n",
       "         -4.95060533e-03,  2.07356326e-02,  3.92323397e-02,\n",
       "         -2.66658198e-02,  6.46974891e-03,  4.69052456e-02,\n",
       "         -3.48451249e-02, -1.89347621e-02, -4.53450084e-02,\n",
       "         -3.29968818e-02, -8.06416199e-03, -4.14193161e-02,\n",
       "         -8.92765820e-05,  4.28388380e-02, -2.60591265e-02,\n",
       "         -2.13202126e-02,  2.36652605e-02, -2.88451202e-02,\n",
       "         -2.27274653e-02, -1.52268261e-03, -1.35367736e-02,\n",
       "         -4.49676178e-02,  3.82669829e-02,  4.86125462e-02,\n",
       "         -2.73009185e-02,  1.09989867e-02,  9.02793556e-03,\n",
       "          4.42406647e-02,  4.17865813e-04,  9.87052917e-03,\n",
       "          4.41734828e-02, -2.18994543e-03, -1.06065981e-02,\n",
       "         -4.94075678e-02]],\n",
       "\n",
       "       [[ 4.12324406e-02,  4.51742448e-02, -4.94890213e-02,\n",
       "         -3.36239487e-03, -2.30532289e-02,  4.53617014e-02,\n",
       "         -1.10690817e-02,  4.82918285e-02, -4.50322144e-02,\n",
       "          4.24248688e-02,  3.31292301e-03,  5.77997416e-04,\n",
       "         -4.28025015e-02, -1.59655325e-02,  9.43374634e-03,\n",
       "         -2.60201693e-02,  3.74932028e-02,  5.14415652e-03,\n",
       "          1.88039057e-02, -2.34235767e-02,  2.04966106e-02,\n",
       "          3.48600261e-02, -3.33852693e-03,  2.14917101e-02,\n",
       "          1.37816742e-03, -1.56426914e-02, -4.81848121e-02,\n",
       "         -7.20549747e-03,  1.14826187e-02,  2.15750672e-02,\n",
       "          4.97993082e-03, -4.30810228e-02,  4.05770428e-02,\n",
       "         -4.59606424e-02, -4.58773039e-02, -4.33700196e-02,\n",
       "          4.68672179e-02, -4.43638340e-02, -3.58907096e-02,\n",
       "         -4.08177972e-02,  2.43438594e-02,  4.88545336e-02,\n",
       "         -1.57317035e-02,  3.52562107e-02, -4.28071395e-02,\n",
       "          6.34235144e-03,  3.37897427e-02,  1.19984634e-02,\n",
       "         -3.70835662e-02, -4.76061814e-02,  1.10359117e-03,\n",
       "          2.37150528e-02, -1.83915012e-02,  1.93052329e-02,\n",
       "         -3.74392383e-02,  1.29274242e-02,  4.38166745e-02,\n",
       "         -2.11897977e-02, -4.32793498e-02, -1.80334933e-02,\n",
       "          4.27733324e-02,  4.64256853e-03,  4.74885963e-02,\n",
       "          1.66619085e-02]],\n",
       "\n",
       "       [[ 1.58906318e-02, -1.14902630e-02, -1.02043152e-04,\n",
       "          4.52570803e-02,  2.88033001e-02, -1.41985342e-03,\n",
       "         -2.11931355e-02,  2.64821984e-02, -7.80801848e-03,\n",
       "          2.08339132e-02,  3.05362679e-02, -1.22071989e-02,\n",
       "         -4.33834083e-02,  4.24490087e-02, -1.12848505e-02,\n",
       "         -1.91419199e-03, -2.87765265e-02,  2.37792395e-02,\n",
       "          1.87141187e-02, -1.74458995e-02,  1.71648748e-02,\n",
       "          3.72715257e-02,  1.06510036e-02, -4.80348356e-02,\n",
       "          1.65695213e-02,  2.01480128e-02, -3.46104279e-02,\n",
       "         -2.15073470e-02,  4.49079536e-02, -3.06351781e-02,\n",
       "         -2.24319845e-03,  1.79562010e-02, -1.68909915e-02,\n",
       "          2.92079933e-02, -1.02920644e-02, -2.83831358e-03,\n",
       "          4.28122915e-02, -4.76426259e-02,  3.82786654e-02,\n",
       "          4.83037718e-02,  2.93538719e-03,  2.91159004e-03,\n",
       "         -2.85920035e-02,  3.87447216e-02,  2.33157016e-02,\n",
       "          2.15973966e-02,  2.08528899e-02, -4.85952757e-02,\n",
       "         -3.07124257e-02, -4.66677547e-02,  2.01856978e-02,\n",
       "          2.56363489e-02,  3.63928117e-02,  7.93747976e-03,\n",
       "         -4.11402807e-02,  1.58382319e-02,  3.11458968e-02,\n",
       "         -3.18367630e-02,  1.61849521e-02, -2.47024540e-02,\n",
       "         -1.78359374e-02, -1.83829293e-02, -2.55037304e-02,\n",
       "         -6.75540045e-03]],\n",
       "\n",
       "       [[-3.82835642e-02, -8.22184235e-03,  3.76450531e-02,\n",
       "          3.90504263e-02, -2.17693690e-02,  4.20709886e-02,\n",
       "         -4.83488441e-02, -2.80712135e-02,  3.63598019e-03,\n",
       "          3.64165939e-02, -6.98683411e-03,  2.79743560e-02,\n",
       "          4.55591716e-02,  3.06076519e-02, -3.40782292e-02,\n",
       "          8.45987722e-03,  3.56630236e-03,  3.11608352e-02,\n",
       "          2.59575956e-02, -3.68354693e-02, -3.12421210e-02,\n",
       "         -2.61807684e-02,  4.32854332e-02, -4.27736640e-02,\n",
       "          4.09986116e-02, -4.29817215e-02,  8.03027302e-03,\n",
       "         -3.19474116e-02,  1.70199163e-02, -9.45125893e-03,\n",
       "          3.13529260e-02,  4.09889854e-02, -4.26715612e-02,\n",
       "         -2.65177246e-02, -4.56798188e-02, -4.15936224e-02,\n",
       "          4.39122058e-02, -2.49022003e-02, -4.04752120e-02,\n",
       "          1.23754367e-02, -1.91392303e-02, -1.24569051e-02,\n",
       "         -3.07991263e-02,  1.93418600e-02, -3.15466300e-02,\n",
       "          2.73974054e-02, -1.67190656e-02, -1.44045576e-02,\n",
       "          8.63097981e-03,  1.45938732e-02,  3.59272398e-02,\n",
       "          4.73492630e-02,  8.33586603e-03, -1.24886855e-02,\n",
       "          2.83239223e-02, -3.72618213e-02,  2.91641094e-02,\n",
       "          3.48065384e-02, -4.11657915e-02, -1.22890621e-03,\n",
       "         -7.29632378e-03,  1.53123178e-02,  2.86243819e-02,\n",
       "         -2.10893154e-03]]], dtype=float32)>,\n",
       "                 'per_arm': <tf.Tensor: shape=(5, 1, 2, 64), dtype=float32, numpy=\n",
       "array([[[[ 3.44298370e-02, -1.41622536e-02,  1.39869936e-02,\n",
       "           1.27507374e-03,  4.12249826e-02, -5.17392159e-03,\n",
       "          -3.83564942e-02, -1.00344196e-02, -2.43113041e-02,\n",
       "           9.16372612e-03, -2.19086409e-02,  1.08441338e-02,\n",
       "          -3.76552120e-02,  5.11620194e-03, -1.34855509e-03,\n",
       "           1.22606754e-04,  1.46427415e-02,  2.97108032e-02,\n",
       "          -3.92400511e-02,  3.78897451e-02, -1.66140795e-02,\n",
       "          -2.65213139e-02,  4.21235710e-03, -1.87289715e-02,\n",
       "          -4.10457700e-03, -4.47020307e-02, -5.78588247e-03,\n",
       "          -2.01489087e-02, -3.39260697e-02, -4.05662656e-02,\n",
       "           3.39815877e-02, -2.07271110e-02, -4.49700356e-02,\n",
       "          -1.65732875e-02, -1.82070620e-02,  1.06019862e-02,\n",
       "           3.82826366e-02, -1.41471513e-02, -2.99427640e-02,\n",
       "          -7.78566673e-03,  3.74667309e-02, -4.13739569e-02,\n",
       "           2.35664882e-02, -4.09396738e-03,  4.80065234e-02,\n",
       "          -4.65514772e-02,  8.54002312e-03,  3.33681814e-02,\n",
       "           2.39641927e-02,  3.63408811e-02,  1.42778493e-02,\n",
       "          -1.82275064e-02,  2.69686095e-02, -1.36383660e-02,\n",
       "          -2.17414983e-02, -4.74316478e-02,  4.27508838e-02,\n",
       "          -2.55884659e-02,  6.16997480e-03,  3.39393951e-02,\n",
       "          -2.94560324e-02, -5.17047942e-04,  4.01995331e-03,\n",
       "          -1.99215487e-03],\n",
       "         [-1.48610100e-02,  4.30342890e-02,  5.35847992e-03,\n",
       "          -3.28520089e-02, -4.32236567e-02, -2.05351245e-02,\n",
       "           2.51551531e-02, -2.08024271e-02,  4.58960272e-02,\n",
       "          -1.72659978e-02,  1.17188320e-02,  1.11115575e-02,\n",
       "           2.05303915e-02,  8.49793106e-03, -2.78540608e-02,\n",
       "           2.42625959e-02,  6.90790266e-03, -4.84706871e-02,\n",
       "          -3.53919491e-02,  3.31665203e-03, -1.72302350e-02,\n",
       "          -1.06136911e-02,  3.82833816e-02, -2.03305129e-02,\n",
       "          -2.52093002e-03, -4.69595082e-02, -3.98659706e-02,\n",
       "          -2.91442033e-02, -4.62973118e-03,  1.06425211e-03,\n",
       "          -4.89240661e-02,  2.94712298e-02, -4.50150259e-02,\n",
       "          -4.24971431e-03, -3.01192049e-02, -3.27527411e-02,\n",
       "           3.68623473e-02, -4.99386676e-02, -4.28813696e-03,\n",
       "          -9.61943716e-03, -2.35809013e-03,  6.87048584e-03,\n",
       "           2.98992731e-02,  5.43604046e-03, -2.73761507e-02,\n",
       "           2.71349214e-02, -4.11764607e-02, -1.89815406e-02,\n",
       "          -5.83003834e-03, -1.08663328e-02,  1.91051401e-02,\n",
       "           6.13595173e-03,  2.78015770e-02, -4.02406827e-02,\n",
       "          -2.39315871e-02,  1.41013749e-02,  2.78743356e-03,\n",
       "          -3.80925052e-02,  6.45717233e-03, -2.18420159e-02,\n",
       "          -5.22018597e-03, -2.89484859e-02, -1.76250450e-02,\n",
       "           4.78683598e-02]]],\n",
       "\n",
       "\n",
       "       [[[ 3.37994099e-03,  3.13005708e-02, -4.59146500e-03,\n",
       "          -3.95302400e-02, -9.35626030e-03,  5.30951098e-03,\n",
       "           2.80430354e-02, -2.67339479e-02,  2.34990232e-02,\n",
       "           3.19091566e-02,  3.95389311e-02,  1.05268881e-03,\n",
       "          -4.89329472e-02,  3.01760323e-02, -8.39350373e-03,\n",
       "           3.82692255e-02,  2.17221268e-02,  1.95389502e-02,\n",
       "          -4.85328697e-02,  3.94305326e-02,  4.67298180e-03,\n",
       "          -1.06505267e-02,  4.78057377e-02, -2.13178247e-03,\n",
       "           2.11375691e-02, -5.22971153e-03,  4.02698033e-02,\n",
       "           1.04485266e-02,  2.84307934e-02, -4.97932918e-02,\n",
       "           2.62340568e-02, -1.05111375e-02, -4.49700356e-02,\n",
       "          -1.65732875e-02, -1.82070620e-02,  1.06019862e-02,\n",
       "           3.82826366e-02, -1.41471513e-02, -2.99427640e-02,\n",
       "          -7.78566673e-03,  3.74667309e-02, -4.13739569e-02,\n",
       "           2.35664882e-02, -4.09396738e-03,  4.80065234e-02,\n",
       "          -4.65514772e-02,  8.54002312e-03,  3.33681814e-02,\n",
       "           2.39641927e-02,  3.63408811e-02,  1.42778493e-02,\n",
       "          -1.82275064e-02,  2.69686095e-02, -1.36383660e-02,\n",
       "          -2.17414983e-02, -4.74316478e-02,  4.27508838e-02,\n",
       "          -2.55884659e-02,  6.16997480e-03,  3.39393951e-02,\n",
       "          -2.94560324e-02, -5.17047942e-04,  4.01995331e-03,\n",
       "          -1.99215487e-03],\n",
       "         [ 1.96904279e-02, -2.66825445e-02, -1.56072266e-02,\n",
       "           2.90538110e-02, -4.44018729e-02, -1.91845056e-02,\n",
       "           3.41522433e-02, -4.68796492e-02,  1.97748430e-02,\n",
       "          -1.39767304e-02, -3.08262240e-02,  3.02473642e-02,\n",
       "           3.39563377e-02,  3.99479382e-02, -1.68110728e-02,\n",
       "           1.86247714e-02,  4.41550054e-02,  1.08422264e-02,\n",
       "          -4.06905785e-02,  3.86185534e-02,  2.99108140e-02,\n",
       "          -3.11978105e-02, -3.53358984e-02, -1.36125833e-04,\n",
       "          -3.01349163e-03, -1.30344741e-02, -4.65214849e-02,\n",
       "          -3.10189724e-02, -4.08111811e-02,  2.28110813e-02,\n",
       "           2.17867382e-02, -4.74276058e-02, -2.86408663e-02,\n",
       "          -2.84615401e-02,  3.41646746e-03,  4.62542064e-02,\n",
       "           8.47668573e-03,  2.63885371e-02, -3.21446545e-02,\n",
       "          -4.48816083e-02, -2.26072911e-02, -4.89186533e-02,\n",
       "           4.20052670e-02,  3.10416482e-02,  4.36456092e-02,\n",
       "           1.59785263e-02, -4.12893891e-02,  3.88873480e-02,\n",
       "          -1.05926767e-02, -4.89307530e-02,  2.49803700e-02,\n",
       "           2.77532600e-02, -3.96170020e-02, -4.41846959e-02,\n",
       "          -1.35069378e-02, -3.09399962e-02,  4.56093810e-02,\n",
       "          -3.60555872e-02,  1.61777474e-02, -4.98729013e-02,\n",
       "          -4.32930104e-02, -2.07078215e-02,  4.72830608e-03,\n",
       "           4.12772186e-02]]],\n",
       "\n",
       "\n",
       "       [[[ 1.12985596e-02, -5.82494587e-03, -7.28410482e-03,\n",
       "          -3.02059539e-02, -4.61220257e-02, -1.22101195e-02,\n",
       "           1.19076967e-02, -4.84074242e-02, -3.53442505e-03,\n",
       "          -1.25203505e-02, -3.02413832e-02, -9.95496660e-03,\n",
       "           9.09869745e-03, -9.38091427e-03, -4.01626006e-02,\n",
       "           9.01863724e-03, -3.52754816e-02,  2.49204971e-02,\n",
       "           3.50533836e-02, -1.22493505e-02, -3.00792214e-02,\n",
       "           3.43242548e-02,  4.52854149e-02, -3.09664011e-03,\n",
       "           4.38344814e-02,  4.01980765e-02,  2.13105790e-02,\n",
       "           4.48030718e-02, -3.08053251e-02,  1.45969056e-02,\n",
       "          -4.07574177e-02, -1.75429955e-02,  4.32601832e-02,\n",
       "          -4.96949330e-02,  7.40573555e-03, -1.65783055e-02,\n",
       "           2.62787454e-02,  3.12210955e-02, -2.78244261e-02,\n",
       "          -1.84110180e-02, -7.25941733e-03, -3.47683579e-03,\n",
       "           2.29580142e-02,  2.43597142e-02,  4.74640615e-02,\n",
       "          -7.28823990e-03,  2.53017433e-02,  1.40323080e-02,\n",
       "           4.31177951e-02,  1.06650814e-02, -4.34157513e-02,\n",
       "          -2.17472911e-02, -9.20581818e-03, -4.04505618e-02,\n",
       "          -4.72199582e-02,  4.85125817e-02, -4.48435210e-02,\n",
       "           1.71311758e-02, -8.05962086e-03,  2.35169791e-02,\n",
       "          -3.66449952e-02, -1.51204951e-02,  1.61840953e-02,\n",
       "           4.15826552e-02],\n",
       "         [ 3.75279672e-02,  3.60110439e-02, -1.58575401e-02,\n",
       "           3.72691639e-02, -4.56386805e-03,  1.26429535e-02,\n",
       "          -1.00984424e-03, -1.75027028e-02, -4.48341630e-02,\n",
       "           4.54132073e-02,  3.03761102e-02, -2.19762325e-03,\n",
       "           1.85440890e-02, -1.69024616e-03, -8.37237760e-03,\n",
       "          -3.60935554e-02, -2.72061359e-02,  7.83108547e-03,\n",
       "          -7.00131059e-05, -5.58226183e-03, -9.50152799e-03,\n",
       "           4.84487154e-02,  2.27720663e-03, -4.33012620e-02,\n",
       "           3.26872952e-02,  4.76312675e-02, -4.22401913e-02,\n",
       "          -3.46914679e-03,  4.37754393e-03,  2.61789002e-02,\n",
       "           3.36470865e-02, -1.29747875e-02, -2.86408663e-02,\n",
       "          -2.84615401e-02,  3.41646746e-03,  4.62542064e-02,\n",
       "           8.47668573e-03,  2.63885371e-02, -3.21446545e-02,\n",
       "          -4.48816083e-02, -2.26072911e-02, -4.89186533e-02,\n",
       "           4.20052670e-02,  3.10416482e-02,  4.36456092e-02,\n",
       "           1.59785263e-02, -4.12893891e-02,  3.88873480e-02,\n",
       "          -1.05926767e-02, -4.89307530e-02,  2.49803700e-02,\n",
       "           2.77532600e-02, -3.96170020e-02, -4.41846959e-02,\n",
       "          -1.35069378e-02, -3.09399962e-02,  4.56093810e-02,\n",
       "          -3.60555872e-02,  1.61777474e-02, -4.98729013e-02,\n",
       "          -4.32930104e-02, -2.07078215e-02,  4.72830608e-03,\n",
       "           4.12772186e-02]]],\n",
       "\n",
       "\n",
       "       [[[-6.43142313e-03,  4.57572676e-02, -3.90451923e-02,\n",
       "          -1.84731856e-02,  2.42812373e-02,  7.38565996e-03,\n",
       "          -3.48000042e-02,  8.68477672e-03, -1.88223366e-02,\n",
       "          -2.43372843e-03, -1.63418651e-02,  3.35312001e-02,\n",
       "           1.69140436e-02,  2.07876824e-02, -1.16537325e-02,\n",
       "          -1.41742453e-02, -2.76760813e-02,  5.39600849e-03,\n",
       "          -7.14095682e-03,  8.80122185e-03, -9.48856026e-03,\n",
       "          -1.90842748e-02,  4.81463782e-02, -2.09615380e-03,\n",
       "           3.36691029e-02,  2.87279226e-02,  4.69100140e-02,\n",
       "           7.44949654e-03,  2.91437171e-02, -3.50539200e-02,\n",
       "           4.57449667e-02, -2.41984017e-02,  4.32601832e-02,\n",
       "          -4.96949330e-02,  7.40573555e-03, -1.65783055e-02,\n",
       "           2.62787454e-02,  3.12210955e-02, -2.78244261e-02,\n",
       "          -1.84110180e-02, -7.25941733e-03, -3.47683579e-03,\n",
       "           2.29580142e-02,  2.43597142e-02,  4.74640615e-02,\n",
       "          -7.28823990e-03,  2.53017433e-02,  1.40323080e-02,\n",
       "           4.31177951e-02,  1.06650814e-02, -4.34157513e-02,\n",
       "          -2.17472911e-02, -9.20581818e-03, -4.04505618e-02,\n",
       "          -4.72199582e-02,  4.85125817e-02, -4.48435210e-02,\n",
       "           1.71311758e-02, -8.05962086e-03,  2.35169791e-02,\n",
       "          -3.66449952e-02, -1.51204951e-02,  1.61840953e-02,\n",
       "           4.15826552e-02],\n",
       "         [-1.24047175e-02,  5.52449375e-03, -4.42149043e-02,\n",
       "          -4.75317128e-02,  4.41164710e-02,  1.07541904e-02,\n",
       "          -3.72703075e-02,  3.99531759e-02,  1.28531717e-02,\n",
       "          -2.65806671e-02,  8.50187615e-03, -2.02196967e-02,\n",
       "          -4.65218313e-02,  3.63558792e-02, -1.76500194e-02,\n",
       "          -4.36534658e-02,  8.77600908e-03,  1.44882239e-02,\n",
       "           5.48949093e-03,  9.48309898e-04, -1.03269219e-02,\n",
       "           4.55293916e-02,  4.83067892e-02,  4.86677922e-02,\n",
       "           3.50955985e-02, -2.85782348e-02,  3.76424305e-02,\n",
       "           7.69407675e-03, -3.77880335e-02,  2.11837329e-02,\n",
       "          -2.30908394e-03,  2.93447264e-02, -4.49700356e-02,\n",
       "          -1.65732875e-02, -1.82070620e-02,  1.06019862e-02,\n",
       "           3.82826366e-02, -1.41471513e-02, -2.99427640e-02,\n",
       "          -7.78566673e-03,  3.74667309e-02, -4.13739569e-02,\n",
       "           2.35664882e-02, -4.09396738e-03,  4.80065234e-02,\n",
       "          -4.65514772e-02,  8.54002312e-03,  3.33681814e-02,\n",
       "           2.39641927e-02,  3.63408811e-02,  1.42778493e-02,\n",
       "          -1.82275064e-02,  2.69686095e-02, -1.36383660e-02,\n",
       "          -2.17414983e-02, -4.74316478e-02,  4.27508838e-02,\n",
       "          -2.55884659e-02,  6.16997480e-03,  3.39393951e-02,\n",
       "          -2.94560324e-02, -5.17047942e-04,  4.01995331e-03,\n",
       "          -1.99215487e-03]]],\n",
       "\n",
       "\n",
       "       [[[ 1.84504129e-02, -3.11647058e-02,  2.52604485e-03,\n",
       "           3.34908031e-02,  2.31122710e-02,  8.81259516e-03,\n",
       "           2.26918943e-02, -6.69062138e-04,  1.16974488e-02,\n",
       "          -1.42505057e-02, -4.80894558e-02, -3.08126453e-02,\n",
       "          -1.38435476e-02, -2.16605198e-02, -3.11266426e-02,\n",
       "           1.25370510e-02,  3.19056027e-02,  9.55336168e-03,\n",
       "          -4.93270643e-02, -3.79034281e-02, -2.61211749e-02,\n",
       "           3.01980041e-02,  3.74119915e-02,  4.07281630e-02,\n",
       "           2.55879797e-02, -2.47882493e-02, -1.15617737e-02,\n",
       "           2.26015970e-03, -3.15126330e-02, -3.38880904e-02,\n",
       "          -4.36085351e-02, -4.52019088e-02, -2.86408663e-02,\n",
       "          -2.84615401e-02,  3.41646746e-03,  4.62542064e-02,\n",
       "           8.47668573e-03,  2.63885371e-02, -3.21446545e-02,\n",
       "          -4.48816083e-02, -2.26072911e-02, -4.89186533e-02,\n",
       "           4.20052670e-02,  3.10416482e-02,  4.36456092e-02,\n",
       "           1.59785263e-02, -4.12893891e-02,  3.88873480e-02,\n",
       "          -1.05926767e-02, -4.89307530e-02,  2.49803700e-02,\n",
       "           2.77532600e-02, -3.96170020e-02, -4.41846959e-02,\n",
       "          -1.35069378e-02, -3.09399962e-02,  4.56093810e-02,\n",
       "          -3.60555872e-02,  1.61777474e-02, -4.98729013e-02,\n",
       "          -4.32930104e-02, -2.07078215e-02,  4.72830608e-03,\n",
       "           4.12772186e-02],\n",
       "         [ 1.96639039e-02,  4.13609184e-02, -1.28478892e-02,\n",
       "          -5.34006208e-03, -4.39349413e-02,  4.66280468e-02,\n",
       "           4.82514165e-02, -5.15270233e-03, -1.71645992e-02,\n",
       "           4.10077721e-03,  3.60646099e-03, -3.75180729e-02,\n",
       "          -4.37255986e-02, -4.26972881e-02,  2.52829231e-02,\n",
       "          -4.13389578e-02,  3.88706960e-02, -3.12023051e-02,\n",
       "           1.89068578e-02,  1.95377134e-02, -2.11161375e-02,\n",
       "          -2.35864166e-02, -4.91389893e-02, -1.93330999e-02,\n",
       "          -1.74623728e-03, -4.82168905e-02,  4.94053997e-02,\n",
       "          -1.51575804e-02,  2.07207091e-02,  1.92201175e-02,\n",
       "          -2.65534054e-02,  4.02498506e-02, -4.49700356e-02,\n",
       "          -1.65732875e-02, -1.82070620e-02,  1.06019862e-02,\n",
       "           3.82826366e-02, -1.41471513e-02, -2.99427640e-02,\n",
       "          -7.78566673e-03,  3.74667309e-02, -4.13739569e-02,\n",
       "           2.35664882e-02, -4.09396738e-03,  4.80065234e-02,\n",
       "          -4.65514772e-02,  8.54002312e-03,  3.33681814e-02,\n",
       "           2.39641927e-02,  3.63408811e-02,  1.42778493e-02,\n",
       "          -1.82275064e-02,  2.69686095e-02, -1.36383660e-02,\n",
       "          -2.17414983e-02, -4.74316478e-02,  4.27508838e-02,\n",
       "          -2.55884659e-02,  6.16997480e-03,  3.39393951e-02,\n",
       "          -2.94560324e-02, -5.17047942e-04,  4.01995331e-03,\n",
       "          -1.99215487e-03]]]], dtype=float32)>},\n",
       " 'policy_info': (),\n",
       " 'reward': <tf.Tensor: shape=(5, 2), dtype=float32, numpy=\n",
       "array([[4., 3.],\n",
       "       [5., 4.],\n",
       "       [4., 3.],\n",
       "       [5., 5.],\n",
       "       [5., 3.]], dtype=float32)>,\n",
       " 'step_type': <tf.Tensor: shape=(), dtype=int32, numpy=0>})"
      ]
     },
     "execution_count": 54,
     "metadata": {},
     "output_type": "execute_result"
    }
   ],
   "source": [
    "test_traj"
   ]
  },
  {
   "cell_type": "code",
   "execution_count": 54,
   "id": "57fd5848-4d75-4fae-8cd7-0d7310562508",
   "metadata": {
    "tags": []
   },
   "outputs": [
    {
     "name": "stdout",
     "output_type": "stream",
     "text": [
      "test_traj.observation.shape: (5, 1, 64)\n",
      "test_traj.observation.shape: (5, 1, 2, 64)\n",
      "test_traj.discount.shape   : ()\n",
      "expected_num_actions: 3\n",
      "predicted_rewards_mean: TensorSpec(shape=(3,), dtype=tf.float32, name=None)\n"
     ]
    }
   ],
   "source": [
    "print(f\"test_traj.observation.shape: {test_traj.observation['global'].shape}\")\n",
    "print(f\"test_traj.observation.shape: {test_traj.observation['per_arm'].shape}\")\n",
    "print(f\"test_traj.discount.shape   : {test_traj.discount.shape}\") \n",
    "\n",
    "expected_num_actions = action_spec.maximum - action_spec.minimum + 1\n",
    "print(f\"expected_num_actions: {expected_num_actions}\")\n",
    "\n",
    "predicted_rewards_mean = tensor_spec.TensorSpec([expected_num_actions])\n",
    "print(f\"predicted_rewards_mean: {predicted_rewards_mean}\")"
   ]
  },
  {
   "cell_type": "markdown",
   "id": "37f5ac56-3153-48e3-999a-a818ca673129",
   "metadata": {},
   "source": [
    "# Train Ranking Agent"
   ]
  },
  {
   "cell_type": "code",
   "execution_count": 55,
   "id": "43cd93ee-4ed8-4b11-9350-5e606ccca87a",
   "metadata": {
    "tags": []
   },
   "outputs": [
    {
     "data": {
      "text/html": [
       "\n",
       "        \n",
       "    <link rel=\"stylesheet\" href=\"https://fonts.googleapis.com/icon?family=Material+Icons\">\n",
       "    <style>\n",
       "      .view-vertex-resource,\n",
       "      .view-vertex-resource:hover,\n",
       "      .view-vertex-resource:visited {\n",
       "        position: relative;\n",
       "        display: inline-flex;\n",
       "        flex-direction: row;\n",
       "        height: 32px;\n",
       "        padding: 0 12px;\n",
       "          margin: 4px 18px;\n",
       "        gap: 4px;\n",
       "        border-radius: 4px;\n",
       "\n",
       "        align-items: center;\n",
       "        justify-content: center;\n",
       "        background-color: rgb(255, 255, 255);\n",
       "        color: rgb(51, 103, 214);\n",
       "\n",
       "        font-family: Roboto,\"Helvetica Neue\",sans-serif;\n",
       "        font-size: 13px;\n",
       "        font-weight: 500;\n",
       "        text-transform: uppercase;\n",
       "        text-decoration: none !important;\n",
       "\n",
       "        transition: box-shadow 280ms cubic-bezier(0.4, 0, 0.2, 1) 0s;\n",
       "        box-shadow: 0px 3px 1px -2px rgba(0,0,0,0.2), 0px 2px 2px 0px rgba(0,0,0,0.14), 0px 1px 5px 0px rgba(0,0,0,0.12);\n",
       "      }\n",
       "      .view-vertex-resource:active {\n",
       "        box-shadow: 0px 5px 5px -3px rgba(0,0,0,0.2),0px 8px 10px 1px rgba(0,0,0,0.14),0px 3px 14px 2px rgba(0,0,0,0.12);\n",
       "      }\n",
       "      .view-vertex-resource:active .view-vertex-ripple::before {\n",
       "        position: absolute;\n",
       "        top: 0;\n",
       "        bottom: 0;\n",
       "        left: 0;\n",
       "        right: 0;\n",
       "        border-radius: 4px;\n",
       "        pointer-events: none;\n",
       "\n",
       "        content: '';\n",
       "        background-color: rgb(51, 103, 214);\n",
       "        opacity: 0.12;\n",
       "      }\n",
       "      .view-vertex-icon {\n",
       "        font-size: 18px;\n",
       "      }\n",
       "    </style>\n",
       "  \n",
       "        <a class=\"view-vertex-resource\" id=\"view-vertex-resource-6a894012-3fa8-4b54-9e2c-89b0d35593e4\" href=\"#view-view-vertex-resource-6a894012-3fa8-4b54-9e2c-89b0d35593e4\">\n",
       "          <span class=\"material-icons view-vertex-icon\">science</span>\n",
       "          <span>View Experiment</span>\n",
       "        </a>\n",
       "        \n",
       "        <script>\n",
       "          (function () {\n",
       "            const link = document.getElementById('view-vertex-resource-6a894012-3fa8-4b54-9e2c-89b0d35593e4');\n",
       "            link.addEventListener('click', (e) => {\n",
       "              if (window.google?.colab?.openUrl) {\n",
       "                window.google.colab.openUrl('https://console.cloud.google.com/vertex-ai/experiments/locations/us-central1/experiments/new-ranker-v2/runs?project=hybrid-vertex');\n",
       "              } else {\n",
       "                window.open('https://console.cloud.google.com/vertex-ai/experiments/locations/us-central1/experiments/new-ranker-v2/runs?project=hybrid-vertex', '_blank');\n",
       "              }\n",
       "              e.stopPropagation();\n",
       "              e.preventDefault();\n",
       "            });\n",
       "          })();\n",
       "        </script>\n",
       "    "
      ],
      "text/plain": [
       "<IPython.core.display.HTML object>"
      ]
     },
     "metadata": {},
     "output_type": "display_data"
    },
    {
     "name": "stdout",
     "output_type": "stream",
     "text": [
      "EXPERIMENT_NAME   : new-ranker-v2\n",
      "RUN_NAME          : run-20250124-193034\n",
      "\n",
      "CHECKPT_DIR       : gs://rec-bandits-v2-hybrid-vertex-bucket/new-ranker-v2/chkpoint\n",
      "BASE_OUTPUT_DIR   : gs://rec-bandits-v2-hybrid-vertex-bucket/new-ranker-v2/run-20250124-193034\n",
      "LOG_DIR           : gs://rec-bandits-v2-hybrid-vertex-bucket/new-ranker-v2/run-20250124-193034/logs\n",
      "ROOT_DIR          : gs://rec-bandits-v2-hybrid-vertex-bucket/new-ranker-v2/run-20250124-193034/root\n",
      "ARTIFACTS_DIR     : gs://rec-bandits-v2-hybrid-vertex-bucket/new-ranker-v2/run-20250124-193034/artifacts\n"
     ]
    }
   ],
   "source": [
    "EXPERIMENT_NAME   = 'new-ranker-v2'\n",
    "\n",
    "# new experiment\n",
    "invoke_time       = time.strftime(\"%Y%m%d-%H%M%S\")\n",
    "RUN_NAME          = f'run-{invoke_time}'\n",
    "\n",
    "CHECKPT_DIR       = f\"{BUCKET_URI}/{EXPERIMENT_NAME}/chkpoint\"\n",
    "BASE_OUTPUT_DIR   = f\"{BUCKET_URI}/{EXPERIMENT_NAME}/{RUN_NAME}\"\n",
    "LOG_DIR           = f\"{BASE_OUTPUT_DIR}/logs\"\n",
    "ROOT_DIR          = f\"{BASE_OUTPUT_DIR}/root\"\n",
    "ARTIFACTS_DIR     = f\"{BASE_OUTPUT_DIR}/artifacts\"  # Where the trained model will be saved and restored.\n",
    "\n",
    "aiplatform.init(\n",
    "    project=PROJECT_ID,\n",
    "    location=REGION,\n",
    "    experiment=EXPERIMENT_NAME\n",
    ")\n",
    "\n",
    "print(f\"EXPERIMENT_NAME   : {EXPERIMENT_NAME}\")\n",
    "print(f\"RUN_NAME          : {RUN_NAME}\\n\")\n",
    "print(f\"CHECKPT_DIR       : {CHECKPT_DIR}\")\n",
    "print(f\"BASE_OUTPUT_DIR   : {BASE_OUTPUT_DIR}\")\n",
    "print(f\"LOG_DIR           : {LOG_DIR}\")\n",
    "print(f\"ROOT_DIR          : {ROOT_DIR}\")\n",
    "print(f\"ARTIFACTS_DIR     : {ARTIFACTS_DIR}\")"
   ]
  },
  {
   "cell_type": "code",
   "execution_count": 56,
   "id": "99169818-818e-4148-b045-25eded36f553",
   "metadata": {
    "tags": []
   },
   "outputs": [
    {
     "name": "stdout",
     "output_type": "stream",
     "text": [
      "tf_agents version: 0.17.0\n",
      "tensorflow version: 2.13.0\n"
     ]
    }
   ],
   "source": [
    "import collections\n",
    "\n",
    "from tf_agents.policies import py_tf_eager_policy\n",
    "# from tf_agents.policies import tf_policy\n",
    "# from tf_agents.trajectories import time_step as ts\n",
    "# from tf_agents.policies import policy_saver\n",
    "# from tf_agents.metrics import export_utils\n",
    "from tf_agents.metrics import tf_metrics\n",
    "# from tf_agents.eval import metric_utils\n",
    "# from tf_agents.utils import common\n",
    "\n",
    "import tf_agents\n",
    "\n",
    "print(f\"tf_agents version: {tf_agents.__version__}\")\n",
    "print(f\"tensorflow version: {tf.__version__}\")"
   ]
  },
  {
   "cell_type": "markdown",
   "id": "01f7b1cc-a927-45c0-b64d-30a70250fb8d",
   "metadata": {},
   "source": [
    "### logs & checkpoints"
   ]
  },
  {
   "cell_type": "code",
   "execution_count": 57,
   "id": "e6f63092-48ba-4cb2-8ee4-9b30bd4c23c2",
   "metadata": {
    "tags": []
   },
   "outputs": [
    {
     "name": "stdout",
     "output_type": "stream",
     "text": [
      "agent: ranking_agent\n",
      "agent: descending_score_ranking_policy\n"
     ]
    }
   ],
   "source": [
    "global_step = tf.compat.v1.train.get_or_create_global_step()\n",
    "\n",
    "rank_agent.initialize()\n",
    "print(f'agent: {rank_agent.name}')\n",
    "print(f'agent: {rank_agent.policy.name}')"
   ]
  },
  {
   "cell_type": "code",
   "execution_count": 59,
   "id": "dd893a5d-449e-4c21-b9fc-3cf5114dd2b2",
   "metadata": {
    "tags": []
   },
   "outputs": [
    {
     "name": "stdout",
     "output_type": "stream",
     "text": [
      "('metrics: [<tf_agents.metrics.tf_metrics.AverageReturnMetric object at '\n",
      " '0x7f4ff0593f10>]')\n",
      "setting checkpoint_manager: gs://rec-bandits-v2-hybrid-vertex-bucket/new-ranker-v2/chkpoint\n",
      "\n",
      "Restoring checkpoint from gs://rec-bandits-v2-hybrid-vertex-bucket/new-ranker-v2/chkpoint/ckpt-50\n",
      "Successfully restored to step 0\n"
     ]
    }
   ],
   "source": [
    "# ====================================================\n",
    "# TB summary writer\n",
    "# ====================================================\n",
    "train_summary_writer = tf.compat.v2.summary.create_file_writer(\n",
    "    f\"{LOG_DIR}\", flush_millis=10 * 1000\n",
    ")\n",
    "# train_summary_writer.set_as_default()\n",
    "\n",
    "# eval_summary_writer = tf.compat.v2.summary.create_file_writer(\n",
    "#     f\"{LOG_DIR}/eval\", flush_millis=10 * 1000\n",
    "# )\n",
    "# ====================================================\n",
    "# metrics\n",
    "# ====================================================\n",
    "# `step_metric` records the number of individual rounds of bandit interaction;\n",
    "# that is, (number of trajectories) * batch_size\n",
    "step_metric = tf_metrics.EnvironmentSteps()\n",
    "\n",
    "if feedback_model == ranking_environment.FeedbackModel.SCORE_VECTOR:\n",
    "    reward_metric = tf_metrics.AverageReturnMetric(\n",
    "        batch_size=HPARAMS['batch_size'],\n",
    "        buffer_size=20\n",
    "    )\n",
    "else:\n",
    "    reward_metric = tf_metrics.AverageReturnMultiMetric(\n",
    "        reward_spec=environment.reward_spec(),\n",
    "        batch_size=HPARAMS['batch_size'],\n",
    "        buffer_size=20\n",
    "    )\n",
    "    \n",
    "metrics = [reward_metric]\n",
    "\n",
    "pprint(f\"metrics: {metrics}\")\n",
    "# ====================================================\n",
    "# get checkpoint manager\n",
    "# ====================================================\n",
    "print(f\"setting checkpoint_manager: {CHECKPT_DIR}\\n\")\n",
    "\n",
    "checkpoint_manager = train_utils.restore_and_get_checkpoint_manager(\n",
    "    root_dir=CHECKPT_DIR, \n",
    "    agent=rank_agent, \n",
    "    metrics=metrics, \n",
    "    step_metric=global_step # step_metric\n",
    ")"
   ]
  },
  {
   "cell_type": "code",
   "execution_count": 60,
   "id": "3f92e06a-e199-4798-9de1-ca9ce919a6b3",
   "metadata": {
    "tags": []
   },
   "outputs": [
    {
     "data": {
      "text/plain": [
       "<tf.Tensor: shape=(), dtype=int64, numpy=0>"
      ]
     },
     "execution_count": 60,
     "metadata": {},
     "output_type": "execute_result"
    }
   ],
   "source": [
    "step_metric.result()"
   ]
  },
  {
   "cell_type": "code",
   "execution_count": 61,
   "id": "61271fe5-8517-445c-bd98-8d01616ec7ce",
   "metadata": {
    "tags": []
   },
   "outputs": [
    {
     "data": {
      "text/plain": [
       "<tf.Variable 'global_step:0' shape=() dtype=int64, numpy=0>"
      ]
     },
     "execution_count": 61,
     "metadata": {},
     "output_type": "execute_result"
    }
   ],
   "source": [
    "global_step"
   ]
  },
  {
   "cell_type": "markdown",
   "id": "b0e6e434-f8dd-43ac-8dfc-d6e5ceeb10d0",
   "metadata": {},
   "source": [
    "#### Saving Ranking Bandits\n",
    "\n",
    "> Note: [open issue](https://github.com/tensorflow/agents/issues/891) regarding saving ranking bandit models\n",
    "\n",
    "Until this is resolved, use the `checkpoint_manager` to restore the latest trained policy. \n",
    "\n",
    "More on this in the `Inference` section below"
   ]
  },
  {
   "cell_type": "code",
   "execution_count": 62,
   "id": "dd8bc05c-81f1-4919-9668-a0236f35a061",
   "metadata": {
    "tags": []
   },
   "outputs": [],
   "source": [
    "# ====================================================\n",
    "# policy saver\n",
    "# ====================================================\n",
    "\n",
    "# saver = policy_saver.PolicySaver(\n",
    "#     policy = rank_agent.policy, \n",
    "#     # train_step=global_step\n",
    "# )"
   ]
  },
  {
   "cell_type": "code",
   "execution_count": 63,
   "id": "4bb1d475-446e-498f-a4c1-a813de6352e1",
   "metadata": {
    "tags": []
   },
   "outputs": [
    {
     "data": {
      "text/plain": [
       "<tf_agents.bandits.policies.ranking_policy.DescendingScoreRankingPolicy at 0x7f4ff0561ed0>"
      ]
     },
     "execution_count": 63,
     "metadata": {},
     "output_type": "execute_result"
    }
   ],
   "source": [
    "policy = rank_agent.policy\n",
    "policy"
   ]
  },
  {
   "cell_type": "code",
   "execution_count": 64,
   "id": "9ca1261c-7ed9-4661-a705-7b5d674a7ab5",
   "metadata": {
    "tags": []
   },
   "outputs": [],
   "source": [
    "# len(list(train_dataset))"
   ]
  },
  {
   "cell_type": "markdown",
   "id": "db9af553-9512-47e0-ae9d-d593139143e0",
   "metadata": {},
   "source": [
    "## Train config"
   ]
  },
  {
   "cell_type": "code",
   "execution_count": 65,
   "id": "50ef435c-3d9b-432d-a5e2-ab5d60e93cdf",
   "metadata": {
    "tags": []
   },
   "outputs": [
    {
     "name": "stdout",
     "output_type": "stream",
     "text": [
      "TRAIN_DATA_SIZE : 900\n",
      "NUM_TRAIN_STEPS : 50\n",
      "EVAL_DATA_SIZE : 900\n",
      "NUM_EVAL_STEPS : 100\n",
      "CHKPT_INTERVAL: 49\n",
      "LOG_INTERVAL : 10\n"
     ]
    }
   ],
   "source": [
    "TRAIN_DATA_SIZE = 900          # len(list(train_dataset))\n",
    "NUM_TRAIN_STEPS = 50            # TRAIN_DATA_SIZE // HPARAMS['batch_size']\n",
    "\n",
    "EVAL_DATA_SIZE  = 900          # len(list(val_dataset))\n",
    "NUM_EVAL_STEPS  = 100           # EVAL_DATA_SIZE // HPARAMS['eval_batch_size']\n",
    "\n",
    "CHKPT_INTERVAL  = NUM_TRAIN_STEPS - 1 # // 5\n",
    "LOG_INTERVAL    = 10\n",
    "# EVAL_INTERVAL = NUM_TRAIN_STEPS // 2\n",
    "\n",
    "print(f\"TRAIN_DATA_SIZE : {TRAIN_DATA_SIZE}\")\n",
    "print(f\"NUM_TRAIN_STEPS : {NUM_TRAIN_STEPS}\")\n",
    "print(f\"EVAL_DATA_SIZE : {EVAL_DATA_SIZE}\")\n",
    "print(f\"NUM_EVAL_STEPS : {NUM_EVAL_STEPS}\")\n",
    "print(f\"CHKPT_INTERVAL: {CHKPT_INTERVAL}\")\n",
    "print(f\"LOG_INTERVAL : {LOG_INTERVAL}\")\n",
    "# print(f\"EVAL_INTERVAL : {EVAL_INTERVAL}\")"
   ]
  },
  {
   "cell_type": "code",
   "execution_count": 66,
   "id": "d4fa546c-bb88-4fef-976d-98b245ee842a",
   "metadata": {
    "tags": []
   },
   "outputs": [],
   "source": [
    "# train data\n",
    "train_ds_iterator = iter(train_dataset.batch(HPARAMS['batch_size']))\n",
    "\n",
    "# eval dataset\n",
    "eval_ds = val_dataset.batch(HPARAMS[\"eval_batch_size\"])\n",
    "\n",
    "if NUM_EVAL_STEPS > 0:\n",
    "    eval_ds = eval_ds.take(NUM_EVAL_STEPS)"
   ]
  },
  {
   "cell_type": "markdown",
   "id": "3c4d8449-6285-478a-8876-3f67c47cc6be",
   "metadata": {},
   "source": [
    "[ranking_agent](https://github.com/tensorflow/agents/blob/master/tf_agents/bandits/agents/ranking_agent.py#L288C1-L310C8)\n",
    "\n",
    "```\n",
    "  def _loss(\n",
    "      self,\n",
    "      experience: types.NestedTensor,\n",
    "      weights: Optional[types.Tensor] = None,\n",
    "      training: bool = False,\n",
    "  ) -> tf_agent.LossInfo:\n",
    "    \"\"\"Computes loss for training the reward and constraint networks.\n",
    "\n",
    "    Args:\n",
    "      experience: A batch of experience data in the form of a `Trajectory` or\n",
    "        `Transition`.\n",
    "      weights: Optional scalar or elementwise (per-batch-entry) importance\n",
    "        weights.  The output batch loss will be scaled by these weights, and the\n",
    "        final scalar loss is the mean of these values.\n",
    "      training: Whether the loss is being used for training.\n",
    "\n",
    "    Returns:\n",
    "      A `LossInfo` containing the loss for the training step.\n",
    "\n",
    "    Raises:\n",
    "      ValueError:\n",
    "        if the number of actions is greater than 1.\n",
    "    \"\"\"\n",
    "```"
   ]
  },
  {
   "cell_type": "code",
   "execution_count": 67,
   "id": "adae35ea-e3ff-4245-8c34-739dc70dec9f",
   "metadata": {
    "tags": []
   },
   "outputs": [],
   "source": [
    "# ====================================================\n",
    "# train setp function\n",
    "# ====================================================\n",
    "@tf.function\n",
    "def _train_step_fn():\n",
    "\n",
    "    data = next(train_ds_iterator)\n",
    "    trajectories = _rank_trajectory_fn(data)\n",
    "    loss = rank_agent.train(experience=trajectories)\n",
    "\n",
    "    return loss"
   ]
  },
  {
   "cell_type": "code",
   "execution_count": 68,
   "id": "032770fc-8c04-4d3f-af21-9938501a7c62",
   "metadata": {
    "tags": []
   },
   "outputs": [
    {
     "name": "stdout",
     "output_type": "stream",
     "text": [
      "starting train loop...\n",
      "step = 0: train loss = 1.2100000381469727\n",
      "step = 10: train loss = 1.690000057220459\n",
      "step = 20: train loss = 0.7099999785423279\n",
      "step = 30: train loss = 0.6700000166893005\n",
      "step = 40: train loss = 1.149999976158142\n",
      "saved to checkpoint_manager: gs://rec-bandits-v2-hybrid-vertex-bucket/new-ranker-v2/chkpoint\n",
      "train runtime_mins: 3\n"
     ]
    }
   ],
   "source": [
    "list_o_loss = []\n",
    "\n",
    "rank_agent.train_step_counter.assign(0)\n",
    "\n",
    "print(f\"starting train loop...\")\n",
    "start_time = time.time()\n",
    "\n",
    "for i in range(NUM_TRAIN_STEPS):\n",
    "    \n",
    "    with train_summary_writer.as_default():\n",
    "\n",
    "        step = rank_agent.train_step_counter.numpy()\n",
    "        \n",
    "#         data = next(train_ds_iterator)\n",
    "#         trajectories = _rank_trajectory_fn(data)\n",
    "\n",
    "#         # All tensors in experience must be shaped [batch, time, ...] \n",
    "#         loss = rank_agent.train(experience=trajectories)\n",
    "\n",
    "        loss = _train_step_fn()\n",
    "        list_o_loss.append(loss.loss.numpy())\n",
    "        \n",
    "        train_utils._export_metrics_and_summaries(\n",
    "            step=i, \n",
    "            metrics=metrics\n",
    "        )\n",
    "        \n",
    "        # print step loss\n",
    "        if step % LOG_INTERVAL == 0:\n",
    "            print(\n",
    "                'step = {0}: train loss = {1}'.format(\n",
    "                    step, round(loss.loss.numpy(), 2)\n",
    "                )\n",
    "            )\n",
    "            \n",
    "checkpoint_manager.save(global_step)\n",
    "print(f\"saved to checkpoint_manager: {CHECKPT_DIR}\")\n",
    "runtime_mins = int((time.time() - start_time) / 60)\n",
    "print(f\"train runtime_mins: {runtime_mins}\")"
   ]
  },
  {
   "cell_type": "markdown",
   "id": "b818bc45-7a81-4cc8-974d-4da4f171b8d6",
   "metadata": {},
   "source": [
    "## Evaluate train job"
   ]
  },
  {
   "cell_type": "code",
   "execution_count": 69,
   "id": "01e6207f-de75-4e93-b7e0-4e2fecbc6211",
   "metadata": {
    "tags": []
   },
   "outputs": [
    {
     "data": {
      "image/png": "[encoded data removed]",
      "text/plain": [
       "<Figure size 640x480 with 1 Axes>"
      ]
     },
     "metadata": {},
     "output_type": "display_data"
    }
   ],
   "source": [
    "import matplotlib.pyplot as plt\n",
    "\n",
    "plt.plot(list_o_loss)\n",
    "# plt.ylim([0, 10])\n",
    "plt.ylabel('loss')\n",
    "plt.show()"
   ]
  },
  {
   "cell_type": "markdown",
   "id": "1c3e6532-1bb5-4816-a37e-980074468239",
   "metadata": {},
   "source": [
    "### TensorBoard\n",
    "\n",
    "\n",
    "kill orphan TB proccess running on port 6006:\n",
    "\n",
    "```bash\n",
    "lsof -i:6006\n",
    "kill $(lsof -t -i:6006)\n",
    "```\n"
   ]
  },
  {
   "cell_type": "code",
   "execution_count": 70,
   "id": "e657df42-b168-46f2-9b21-f99a91315a73",
   "metadata": {
    "tags": []
   },
   "outputs": [
    {
     "name": "stdout",
     "output_type": "stream",
     "text": [
      "gs://rec-bandits-v2-hybrid-vertex-bucket/new-ranker-v2/run-20250124-193034/logs/\n",
      "gs://rec-bandits-v2-hybrid-vertex-bucket/new-ranker-v2/run-20250124-193034/logs/events.out.tfevents.1737747064.rl-agents-for-recsys-2024.854046.0.v2\n"
     ]
    }
   ],
   "source": [
    "! gsutil ls $LOG_DIR"
   ]
  },
  {
   "cell_type": "code",
   "execution_count": 71,
   "id": "6b5e10ef-9f79-4030-b863-c821b695b957",
   "metadata": {
    "tags": []
   },
   "outputs": [],
   "source": [
    "# %load_ext tensorboard\n",
    "%reload_ext tensorboard"
   ]
  },
  {
   "cell_type": "code",
   "execution_count": 73,
   "id": "85177c16-2b71-4be4-b378-59aa2cc8913a",
   "metadata": {
    "tags": []
   },
   "outputs": [],
   "source": [
    "# %tensorboard --logdir=$LOG_DIR"
   ]
  },
  {
   "cell_type": "markdown",
   "id": "9c33700d-7294-4beb-9436-9ad7d724b850",
   "metadata": {},
   "source": [
    "## Save Ranking Policy\n",
    "\n",
    "Unable to save ranking policies: https://github.com/tensorflow/agents/issues/891"
   ]
  },
  {
   "cell_type": "code",
   "execution_count": 82,
   "id": "da892f30-e6c8-4f63-a366-04ac8ca32fb3",
   "metadata": {
    "tags": []
   },
   "outputs": [],
   "source": [
    "# tf.saved_model.save(model, export_dir, signatures=signatures)"
   ]
  },
  {
   "cell_type": "markdown",
   "id": "265ca435-3e97-4d4e-b583-2f83040f041c",
   "metadata": {},
   "source": [
    "# Inference\n",
    "\n",
    "**Prediction response**\n",
    "> **TODO:** explain prediction response, e.g., `predicted_rewards_mean=array([3.1828353, 3.6808753]`"
   ]
  },
  {
   "cell_type": "code",
   "execution_count": 74,
   "id": "36d9b4d5-1ce0-4245-b0e5-a6c7e3135a8f",
   "metadata": {
    "tags": []
   },
   "outputs": [
    {
     "data": {
      "text/plain": [
       "<tf_agents.bandits.policies.ranking_policy.DescendingScoreRankingPolicy at 0x7f4ff0561ed0>"
      ]
     },
     "execution_count": 74,
     "metadata": {},
     "output_type": "execute_result"
    }
   ],
   "source": [
    "deployment_agent = rank_agent.policy\n",
    "deployment_agent"
   ]
  },
  {
   "cell_type": "code",
   "execution_count": 75,
   "id": "977399bc-1d75-4dc2-bb2d-e7ff0a957a89",
   "metadata": {
    "tags": []
   },
   "outputs": [
    {
     "data": {
      "text/plain": [
       "<tf_agents.policies.py_tf_eager_policy.PyTFEagerPolicy at 0x7f4ff05e0820>"
      ]
     },
     "execution_count": 75,
     "metadata": {},
     "output_type": "execute_result"
    }
   ],
   "source": [
    "post_policy_tf = py_tf_eager_policy.PyTFEagerPolicy(deployment_agent, use_tf_function=True)\n",
    "post_policy_tf"
   ]
  },
  {
   "cell_type": "markdown",
   "id": "a948171e-984a-46c7-871a-02fbfb67ee1b",
   "metadata": {},
   "source": [
    "## Get Predictions"
   ]
  },
  {
   "cell_type": "markdown",
   "id": "59cf4fd4-6f7f-4505-b86e-49ee44fc66f8",
   "metadata": {},
   "source": [
    "To generate an inference request, we need to create a single [TimeStep](https://github.com/tensorflow/agents/blob/master/tf_agents/trajectories/time_step.py#L54C1-L64C3) with the following schema:\n",
    "\n",
    "```python\n",
    "class TimeStep(\n",
    "    NamedTuple(\n",
    "        'TimeStep',\n",
    "        [\n",
    "            ('step_type', types.SpecTensorOrArray),\n",
    "            ('reward', types.NestedSpecTensorOrArray),\n",
    "            ('discount', types.SpecTensorOrArray),\n",
    "            ('observation', types.NestedSpecTensorOrArray),\n",
    "        ],\n",
    "    )\n",
    "):\n",
    "```\n",
    "* the `infer_step` below is functionally equivalent to:\n",
    "\n",
    "```python\n",
    "prediction = post_policy_tf.action(\n",
    "    ts.restart(observation, batch_size=HPARAMS['eval_batch_size']), ()\n",
    ")\n",
    "```"
   ]
  },
  {
   "cell_type": "code",
   "execution_count": 76,
   "id": "a627a3fa-890b-434c-8681-339327ec02f3",
   "metadata": {
    "tags": []
   },
   "outputs": [],
   "source": [
    "INFER_SIZE = 1\n",
    "# dummy_arm = tf.zeros([INFER_SIZE, PER_ARM_DIM], dtype=tf.float32)\n",
    "\n",
    "SKIP_NUM = 10\n",
    "\n",
    "for x in eval_ds.skip(SKIP_NUM).take(INFER_SIZE):\n",
    "    \n",
    "    # global context features\n",
    "    global_features = _get_global_context_features(x)\n",
    "    global_features = tf.reshape(global_features, [GLOBAL_DIM]) # flatten\n",
    "    \n",
    "    # TODO: pass   : NUM_ITEMS items to trained policy\n",
    "    #       return : ranking for NUM_SLOTS\n",
    "    arm_features = _get_per_arm_features(x)\n",
    "    arm_feat_infer = tf.reshape(arm_features, [ HPARAMS['num_slots'], HPARAMS['eval_batch_size'], PER_ARM_DIM ]) # perarm_dim\n",
    "    arm_feat_infer = train_utils._remove_outer_dimension(arm_feat_infer)\n",
    "    \n",
    "    # train observation\n",
    "    observation = {'global': global_features, 'per_arm': arm_feat_infer}\n",
    "    \n",
    "    ranking_rewards = _get_ranking_rewards_sv(x)\n",
    "    \n",
    "    action = np.zeros((HPARAMS['num_slots']), dtype=np.int32)\n",
    "    discount = np.zeros((HPARAMS['num_slots']), dtype=np.float32)\n",
    "    \n",
    "    infer_step = ts.TimeStep(\n",
    "        step_type = tf.constant(\n",
    "            ts.StepType.FIRST, \n",
    "            dtype=tf.int32, \n",
    "            shape=[],\n",
    "            name='step_type'\n",
    "        ),\n",
    "        reward = ranking_rewards,\n",
    "        discount = tf.constant(\n",
    "            1.0, dtype=tf.float32, shape=[], name='discount'\n",
    "        ),\n",
    "        observation = observation\n",
    "    )\n",
    "    \n",
    "    prediction = post_policy_tf.action(infer_step)"
   ]
  },
  {
   "cell_type": "code",
   "execution_count": 77,
   "id": "8990e512-7099-476d-bd55-44be8f49256b",
   "metadata": {
    "tags": []
   },
   "outputs": [
    {
     "data": {
      "text/plain": [
       "PolicyStep(action=array([1, 0], dtype=int32), state=(), info=PolicyInfo(log_probability=(), predicted_rewards_mean=array([3.7947938, 3.8121471], dtype=float32), multiobjective_scalarized_predicted_rewards_mean=(), predicted_rewards_optimistic=(), predicted_rewards_sampled=(), bandit_policy_type=()))"
      ]
     },
     "execution_count": 77,
     "metadata": {},
     "output_type": "execute_result"
    }
   ],
   "source": [
    "prediction"
   ]
  },
  {
   "cell_type": "code",
   "execution_count": 78,
   "id": "082cee1d-703e-4143-8c78-d1976a6d341c",
   "metadata": {
    "tags": []
   },
   "outputs": [
    {
     "data": {
      "text/plain": [
       "array([1, 0], dtype=int32)"
      ]
     },
     "execution_count": 78,
     "metadata": {},
     "output_type": "execute_result"
    }
   ],
   "source": [
    "prediction.action"
   ]
  },
  {
   "cell_type": "code",
   "execution_count": 79,
   "id": "6112efc7-3e76-46d4-902e-a7c009a1d13e",
   "metadata": {
    "tags": []
   },
   "outputs": [
    {
     "data": {
      "text/plain": [
       "array([3.7947938, 3.8121471], dtype=float32)"
      ]
     },
     "execution_count": 79,
     "metadata": {},
     "output_type": "execute_result"
    }
   ],
   "source": [
    "prediction.info.predicted_rewards_mean"
   ]
  },
  {
   "cell_type": "markdown",
   "id": "6066995c-5c9c-485c-96a2-973b65107471",
   "metadata": {},
   "source": [
    "#### restart trajectory (?)"
   ]
  },
  {
   "cell_type": "code",
   "execution_count": 80,
   "id": "a2450fbd-ad0d-4270-a4db-d662c9ef09b3",
   "metadata": {
    "tags": []
   },
   "outputs": [
    {
     "data": {
      "text/plain": [
       "PolicyStep(action=array([1, 0], dtype=int32), state=(), info=PolicyInfo(log_probability=(), predicted_rewards_mean=array([3.7947938, 3.8121471], dtype=float32), multiobjective_scalarized_predicted_rewards_mean=(), predicted_rewards_optimistic=(), predicted_rewards_sampled=(), bandit_policy_type=()))"
      ]
     },
     "execution_count": 80,
     "metadata": {},
     "output_type": "execute_result"
    }
   ],
   "source": [
    "prediction = post_policy_tf.action(\n",
    "    ts.restart(observation, batch_size=HPARAMS['eval_batch_size']), ()\n",
    ")\n",
    "prediction"
   ]
  },
  {
   "cell_type": "markdown",
   "id": "3bddd75a-21b0-4d09-9518-785246bd0a10",
   "metadata": {},
   "source": [
    "## Load a trained Ranking Bandit policy\n",
    "\n",
    "```\n",
    "├── chkpt_dir\n",
    "│   ├── checkpoint\n",
    "│   │   ├── checkpoint\n",
    "│   │   ├── ckpt-250.data-00000-of-00001\n",
    "│   │   ├── ckpt-250.index\n",
    "│   │   ├── ckpt-50.data-00000-of-00001\n",
    "│   │   └── ckpt-50.index\n",
    "```"
   ]
  },
  {
   "cell_type": "markdown",
   "id": "ea032cca-891f-4c20-b389-3a24f9d3b074",
   "metadata": {},
   "source": [
    "Here we'll show how to load a trained policy, as you would for a prediction endpoint. You need 3 objects to restore a trained policy from the last checkpoint:\n",
    "* **agent**: a tf-agents agent object following the same specs used during training\n",
    "* **metrics**: metrics tracked during training\n",
    "* **step metric**: `tf_metrics.EnvironmentSteps()` \n",
    "\n",
    "Becasue we already have these initialized in this notebook session, we can resuse them here and just pass the root folder of latest checkpoint (e.g., `CHECKPT_DIR`)\n",
    "* this restores the `agent` object to reflect the checkpointed policy\n",
    "> Note: when restoring the checkpointed policy in a new environment, we'll need to also initialize the three python objects above\n",
    "\n",
    "Then, we wrap the loaded policy with [PyTFEagerPolicy()](https://www.tensorflow.org/agents/api_docs/python/tf_agents/policies/PyTFEagerPolicy) to use it in eager mode"
   ]
  },
  {
   "cell_type": "code",
   "execution_count": 81,
   "id": "5ac794d1-b753-468e-9d3a-aee50620c910",
   "metadata": {
    "tags": []
   },
   "outputs": [
    {
     "name": "stdout",
     "output_type": "stream",
     "text": [
      "gs://rec-bandits-v2-hybrid-vertex-bucket/new-ranker-v2/chkpoint/\n",
      "gs://rec-bandits-v2-hybrid-vertex-bucket/new-ranker-v2/chkpoint/checkpoint\n",
      "gs://rec-bandits-v2-hybrid-vertex-bucket/new-ranker-v2/chkpoint/ckpt-50.data-00000-of-00001\n",
      "gs://rec-bandits-v2-hybrid-vertex-bucket/new-ranker-v2/chkpoint/ckpt-50.index\n"
     ]
    }
   ],
   "source": [
    "!gsutil ls $CHECKPT_DIR"
   ]
  },
  {
   "cell_type": "code",
   "execution_count": 83,
   "id": "2fecf83a-57b7-4fde-85bc-8f6f8a142816",
   "metadata": {
    "tags": []
   },
   "outputs": [
    {
     "name": "stdout",
     "output_type": "stream",
     "text": [
      "Restoring checkpoint from gs://rec-bandits-v2-hybrid-vertex-bucket/new-ranker-v2/chkpoint/ckpt-50\n",
      "Successfully restored to step 50\n"
     ]
    },
    {
     "data": {
      "text/plain": [
       "<tensorflow.python.checkpoint.checkpoint_management.CheckpointManager at 0x7f4ee0191b40>"
      ]
     },
     "execution_count": 83,
     "metadata": {},
     "output_type": "execute_result"
    }
   ],
   "source": [
    "restore_policy = train_utils.restore_and_get_checkpoint_manager(\n",
    "    root_dir=CHECKPT_DIR, \n",
    "    agent=rank_agent, \n",
    "    metrics=metrics, \n",
    "    step_metric=global_step\n",
    ")\n",
    "restore_policy"
   ]
  },
  {
   "cell_type": "code",
   "execution_count": 85,
   "id": "c5fe51de-a204-43c3-8ff6-cab00ae79908",
   "metadata": {
    "tags": []
   },
   "outputs": [
    {
     "data": {
      "text/plain": [
       "<tf_agents.policies.py_tf_eager_policy.PyTFEagerPolicy at 0x7f4ff0592c20>"
      ]
     },
     "execution_count": 85,
     "metadata": {},
     "output_type": "execute_result"
    }
   ],
   "source": [
    "from tf_agents.policies import py_tf_eager_policy\n",
    "\n",
    "deployment_agent = rank_agent.policy\n",
    "\n",
    "post_policy_tf = py_tf_eager_policy.PyTFEagerPolicy(deployment_agent, use_tf_function=True)\n",
    "post_policy_tf"
   ]
  },
  {
   "cell_type": "markdown",
   "id": "26e852bc-3af3-4bac-b107-d070eb93740b",
   "metadata": {},
   "source": [
    "#### Test inference with restored policy..."
   ]
  },
  {
   "cell_type": "code",
   "execution_count": 86,
   "id": "e1a82da1-5db4-4b57-aa52-d7f674e4ea88",
   "metadata": {
    "tags": []
   },
   "outputs": [
    {
     "data": {
      "text/plain": [
       "PolicyStep(action=array([1, 0], dtype=int32), state=(), info=PolicyInfo(log_probability=(), predicted_rewards_mean=array([3.7947938, 3.8121471], dtype=float32), multiobjective_scalarized_predicted_rewards_mean=(), predicted_rewards_optimistic=(), predicted_rewards_sampled=(), bandit_policy_type=()))"
      ]
     },
     "execution_count": 86,
     "metadata": {},
     "output_type": "execute_result"
    }
   ],
   "source": [
    "pred_test = post_policy_tf.action(\n",
    "    ts.restart(observation, batch_size=HPARAMS['eval_batch_size']), ()\n",
    ")\n",
    "pred_test"
   ]
  },
  {
   "cell_type": "markdown",
   "id": "2f05ccfd-7263-40a7-813e-453ad90daad0",
   "metadata": {},
   "source": [
    "# Evaluation Loop\n",
    "\n",
    "> Evaluate the agent's policy after training\n",
    "\n",
    "**TODOs**\n",
    "* Need better ranking metric for listwise data\n",
    "* Latest version of [TF-Ranking](https://github.com/tensorflow/ranking) (`0.5.3`) requires `tensorflow==2.11.0`. Currently using `tensorflow==2.13.0` (consider downgrading?) "
   ]
  },
  {
   "cell_type": "markdown",
   "id": "7ce0ee84-05e9-4e70-83c7-799ef0b37187",
   "metadata": {},
   "source": [
    "### Sampling rankings\n",
    "\n",
    "A simple way to produce a ranking is to score each item and sort them by predicted rewards.\n",
    "* To induce exploration, we could occasionally ignore the predicted reward and produce random lists in an epsilon-greedy manner.\n",
    "\n",
    "Alternatively, we could produce a score of all the items and use the `Plackett Luce` distribution to sample permutations of the items.\n",
    "* An implementation exists in `tf-probability`:\n",
    "\n",
    "```python\n",
    "scores = [...]\n",
    "dist = tfd.PlackettLuce(scores)  # Scores have to be non-negative.\n",
    "sample = dist.sample(...)\n",
    "# We can also compute sampling probabilities of the ranking\n",
    "prob = dist.prob(...)\n",
    "```"
   ]
  },
  {
   "cell_type": "code",
   "execution_count": 108,
   "id": "30e5df69-e6c0-4345-98cc-2a0d3d1abcfa",
   "metadata": {
    "tags": []
   },
   "outputs": [],
   "source": [
    "def _levenshtein_distance(hypothesis, truth):\n",
    "    dist_tensor = tf.edit_distance(\n",
    "        tf.sparse.from_dense(tf.constant(hypothesis, dtype=tf.int32)),\n",
    "        tf.sparse.from_dense(tf.constant(truth, dtype=tf.int32)),\n",
    "    )\n",
    "    return dist_tensor\n",
    "\n",
    "def _get_rewards_from_input_features(\n",
    "    data: Dict[str, tf.Tensor],\n",
    "    num_slots: int,\n",
    ") -> tf.Tensor:\n",
    "    \n",
    "    unmasked_rewards = _get_ranking_rewards_sv(data)\n",
    "    \n",
    "    _, num_arms = unmasked_rewards.get_shape().as_list()\n",
    "    mask = tf.expand_dims(tf.range(num_arms), axis=0) < tf.expand_dims(\n",
    "        num_slots, axis=-1\n",
    "    )\n",
    "    masked_rewards = tf.where(mask, unmasked_rewards, float('-5000000'))\n",
    "    \n",
    "    return masked_rewards"
   ]
  },
  {
   "cell_type": "code",
   "execution_count": 109,
   "id": "da61e837-0482-4cd6-b36e-22404ba732ad",
   "metadata": {
    "tags": []
   },
   "outputs": [],
   "source": [
    "# INFER_SIZE = 1\n",
    "# dummy_arm = tf.zeros([INFER_SIZE, PER_ARM_DIM], dtype=tf.float32)\n",
    "\n",
    "# SKIP_NUM = 10\n",
    "\n",
    "def evaluate_ranking(\n",
    "    agent_policy,\n",
    "    data: Dict[str, tf.Tensor],\n",
    "    batch_size: int,\n",
    ") -> Tuple[np.ndarray, np.ndarray]:\n",
    "    \n",
    "    unranked_rewards = _get_rewards_from_input_features(\n",
    "        data=data, \n",
    "        num_slots=HPARAMS['num_slots']\n",
    "    )\n",
    "    # rewards calc - array([[0, 1]])\n",
    "    optimal_ranking = np.argsort(unranked_rewards)[:, ::-1][\n",
    "      :, :HPARAMS['num_slots']\n",
    "    ]\n",
    "    optimal_rewards = np.take(unranked_rewards, optimal_ranking, axis=None)\n",
    "    \n",
    "    # global context features\n",
    "    global_features = _get_global_context_features(data)\n",
    "    global_features = tf.reshape(global_features, [GLOBAL_DIM]) # flatten\n",
    "    \n",
    "    # TODO: pass   : NUM_ITEMS items to trained policy\n",
    "    #       return : ranking for NUM_SLOTS\n",
    "    arm_features = _get_per_arm_features(x)\n",
    "    arm_feat_infer = tf.reshape(\n",
    "        arm_features, \n",
    "        [ HPARAMS['num_slots'], HPARAMS['eval_batch_size'], PER_ARM_DIM ]\n",
    "    )\n",
    "    arm_feat_infer = train_utils._remove_outer_dimension(arm_feat_infer)\n",
    "    \n",
    "    # train observation\n",
    "    observation = {'global': global_features, 'per_arm': arm_feat_infer}\n",
    "    \n",
    "    # get predicted rewards / ranking\n",
    "    prediction = agent_policy.action(\n",
    "        ts.restart(observation, batch_size=HPARAMS['eval_batch_size']), ()\n",
    "    )\n",
    "    candidate_rewards = prediction.info.predicted_rewards_mean\n",
    "    candidate_ranking = pred_test.action\n",
    "    valid_candidate_ranking = candidate_ranking[:HPARAMS['num_slots']]\n",
    "    \n",
    "    batched_candidate_rewards = np.take(\n",
    "        candidate_rewards, valid_candidate_ranking\n",
    "    )\n",
    "    \n",
    "    # compute metrics\n",
    "    batched_rewards_diff = np.abs(optimal_rewards - batched_candidate_rewards)\n",
    "    mean_rewards_diff = tf.math.reduce_mean(\n",
    "        batched_rewards_diff, axis=None,\n",
    "    )\n",
    "    \n",
    "    # TODO\n",
    "    # batched_edit_dist = _levenshtein_distance(valid_candidate_ranking, optimal_ranking)\n",
    "    \n",
    "    return mean_rewards_diff"
   ]
  },
  {
   "cell_type": "code",
   "execution_count": 110,
   "id": "0bdd5b77-1446-47b0-8287-8b85d8ca744c",
   "metadata": {
    "tags": []
   },
   "outputs": [],
   "source": [
    "EVAL_LOOP_BATCH_SIZE = 1"
   ]
  },
  {
   "cell_type": "code",
   "execution_count": 111,
   "id": "0a4a09c5-0eb4-4d43-b250-1b8080e7d514",
   "metadata": {
    "tags": []
   },
   "outputs": [
    {
     "data": {
      "text/plain": [
       "{'movie_genres': <tf.Tensor: shape=(1, 3), dtype=int64, numpy=array([[3, 0, 0]])>,\n",
       " 'movie_id': <tf.Tensor: shape=(1, 3), dtype=string, numpy=array([[b'94', b'245', b'403']], dtype=object)>,\n",
       " 'user_id': <tf.Tensor: shape=(1,), dtype=string, numpy=array([b'346'], dtype=object)>,\n",
       " 'user_rating': <tf.Tensor: shape=(1, 3), dtype=float32, numpy=array([[3., 4., 3.]], dtype=float32)>}"
      ]
     },
     "execution_count": 111,
     "metadata": {},
     "output_type": "execute_result"
    }
   ],
   "source": [
    "for i in range(1):\n",
    "    \n",
    "    iterator = iter(train_dataset.batch(EVAL_LOOP_BATCH_SIZE))\n",
    "    data = next(iterator)\n",
    "\n",
    "data"
   ]
  },
  {
   "cell_type": "code",
   "execution_count": 91,
   "id": "9e9781d8-fb68-4772-9561-570cacd35101",
   "metadata": {
    "tags": []
   },
   "outputs": [
    {
     "data": {
      "text/plain": [
       "<tf.Tensor: shape=(), dtype=float32, numpy=1.2541337>"
      ]
     },
     "execution_count": 91,
     "metadata": {},
     "output_type": "execute_result"
    }
   ],
   "source": [
    "eval_test = evaluate_ranking(\n",
    "    agent_policy=post_policy_tf,\n",
    "    data=data,\n",
    "    batch_size=HPARAMS['eval_batch_size']\n",
    ")\n",
    "eval_test"
   ]
  },
  {
   "cell_type": "markdown",
   "id": "e9719344-0c90-43a0-97b3-88e64f15f4ab",
   "metadata": {},
   "source": [
    "### Compare with untrained policy and random rankings\n",
    "\n",
    "> **TODO**"
   ]
  },
  {
   "cell_type": "code",
   "execution_count": 92,
   "id": "940e8a03-b696-4ece-b7f7-ca377425fbef",
   "metadata": {
    "tags": []
   },
   "outputs": [],
   "source": [
    "def _create_random_ranking(\n",
    "    num_ranked_items: int, num_allowed_values: int, batch_size: int\n",
    "):\n",
    "    \"\"\"Returns a batch of `batch_size` rankings each of length `num_ranked_items`.\n",
    "\n",
    "    1. If `num_ranked_items` is no greater than `num_allowed_values`, each ranking\n",
    "    is a subset of [0, 1, ..., num_allowed_values - 1], of size\n",
    "    `num_ranked_items`.\n",
    "    2. If `num_ranked_items` is greater than `num_allowed_values`, the first\n",
    "    `num_allowed_values` of each ranking is a permutation of\n",
    "    [0, 1, ... num_allowed_values - 1]. The remaining `num_ranked_items -\n",
    "    num_allowed_values` of the ranking are unspecified.\n",
    "\n",
    "    Args:\n",
    "    num_ranked_items: the expected number of items in the output ranking, as\n",
    "      specified in the study config.\n",
    "    num_allowed_values: the number of items to select from.\n",
    "    batch_size: the number of batches of random rankings to return.\n",
    "    \"\"\"\n",
    "    num_valid_indices = min(num_ranked_items, num_allowed_values)\n",
    "    ranking = np.full(\n",
    "        (batch_size, num_ranked_items), np.iinfo(np.int32).max, dtype=np.int32\n",
    "    )\n",
    "    for idx in range(batch_size):\n",
    "        ranking[idx, :num_valid_indices] = np.random.choice(\n",
    "            num_allowed_values, size=num_valid_indices, replace=False\n",
    "        )\n",
    "    return ranking"
   ]
  },
  {
   "cell_type": "code",
   "execution_count": 93,
   "id": "1de89282-54f3-470c-b833-f2ff46a1b223",
   "metadata": {
    "tags": []
   },
   "outputs": [
    {
     "data": {
      "text/plain": [
       "array([[0, 1],\n",
       "       [2, 1],\n",
       "       [1, 2],\n",
       "       [2, 1],\n",
       "       [1, 0]], dtype=int32)"
      ]
     },
     "execution_count": 93,
     "metadata": {},
     "output_type": "execute_result"
    }
   ],
   "source": [
    "rand_rank_batch = _create_random_ranking(\n",
    "    num_ranked_items=HPARAMS['num_slots'],\n",
    "    num_allowed_values=HPARAMS['num_items'],\n",
    "    batch_size=HPARAMS['batch_size']\n",
    ")\n",
    "rand_rank_batch"
   ]
  },
  {
   "cell_type": "code",
   "execution_count": null,
   "id": "fcffd471-7516-4361-8512-13fdf9b360a6",
   "metadata": {},
   "outputs": [],
   "source": []
  }
 ],
 "metadata": {
  "environment": {
   "kernel": "conda-base-py",
   "name": "workbench-notebooks.m126",
   "type": "gcloud",
   "uri": "us-docker.pkg.dev/deeplearning-platform-release/gcr.io/workbench-notebooks:m126"
  },
  "kernelspec": {
   "display_name": "Python 3 (ipykernel) (Local)",
   "language": "python",
   "name": "conda-base-py"
  },
  "language_info": {
   "codemirror_mode": {
    "name": "ipython",
    "version": 3
   },
   "file_extension": ".py",
   "mimetype": "text/x-python",
   "name": "python",
   "nbconvert_exporter": "python",
   "pygments_lexer": "ipython3",
   "version": "3.10.15"
  }
 },
 "nbformat": 4,
 "nbformat_minor": 5
}
