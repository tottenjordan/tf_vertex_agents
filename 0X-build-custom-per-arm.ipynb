{
 "cells": [
  {
   "cell_type": "markdown",
   "id": "e888c2fa-8bba-4d0c-8ae5-5a83224215f3",
   "metadata": {},
   "source": [
    "# Build per-arm Bandit model with TF-Agents and execute locally with Vertex AI"
   ]
  },
  {
   "cell_type": "markdown",
   "id": "cf77d870-0f7d-4736-a5ed-6b14ad825e52",
   "metadata": {},
   "source": [
    "## background\n",
    "\n",
    "**Arm features**\n",
    "* In some bandits use cases, each arm has its own features. For example, in movie recommendation problems, the user features play the role of the context and the movies play the role of the arms (aka actions) \n",
    "* Each movie has its own features, such as `text description`, `metadata`, `trailer content` features and so on\n",
    "\n",
    "These problems are often referred to as `arm features problems`"
   ]
  },
  {
   "cell_type": "code",
   "execution_count": 1,
   "id": "a02fe987-d962-44b5-ae30-8669d80f3464",
   "metadata": {},
   "outputs": [
    {
     "name": "stdout",
     "output_type": "stream",
     "text": [
      "aiplatform SDK version: 1.26.0\n"
     ]
    }
   ],
   "source": [
    "! python3 -c \"import google.cloud.aiplatform; print('aiplatform SDK version: {}'.format(google.cloud.aiplatform.__version__))\""
   ]
  },
  {
   "cell_type": "markdown",
   "id": "baa85e9e-47cb-41ec-b3d0-e4cc9e494613",
   "metadata": {},
   "source": [
    "## Load env config\n",
    "\n",
    "* use the prefix from `00-env-setup`"
   ]
  },
  {
   "cell_type": "code",
   "execution_count": 2,
   "id": "be5c2458-ac47-4542-a005-222e2529fb88",
   "metadata": {},
   "outputs": [],
   "source": [
    "PREFIX = 'mabv1'"
   ]
  },
  {
   "cell_type": "markdown",
   "id": "3a605f33-a1f3-4e98-be57-a5cdae4bc8f8",
   "metadata": {},
   "source": [
    "**run the next cell to populate env vars**"
   ]
  },
  {
   "cell_type": "code",
   "execution_count": 3,
   "id": "26c0d6d1-8264-46d2-a1a9-98ef8539e33e",
   "metadata": {},
   "outputs": [
    {
     "name": "stdout",
     "output_type": "stream",
     "text": [
      "\n",
      "PROJECT_ID               = \"hybrid-vertex\"\n",
      "PROJECT_NUM              = \"934903580331\"\n",
      "LOCATION                 = \"us-central1\"\n",
      "\n",
      "REGION                   = \"us-central1\"\n",
      "BQ_LOCATION              = \"US\"\n",
      "VPC_NETWORK_NAME         = \"ucaip-haystack-vpc-network\"\n",
      "\n",
      "VERTEX_SA                = \"934903580331-compute@developer.gserviceaccount.com\"\n",
      "\n",
      "PREFIX                   = \"mabv1\"\n",
      "VERSION                  = \"v1\"\n",
      "\n",
      "BUCKET_NAME              = \"mabv1-hybrid-vertex-bucket\"\n",
      "DATA_GCS_PREFIX          = \"data\"\n",
      "DATA_PATH                = \"gs://mabv1-hybrid-vertex-bucket/data\"\n",
      "BUCKET_URI               = \"gs://mabv1-hybrid-vertex-bucket\"\n",
      "\n",
      "VPC_NETWORK_FULL         = \"projects/934903580331/global/networks/ucaip-haystack-vpc-network\"\n",
      "\n",
      "BIGQUERY_DATASET_ID      = \"hybrid-vertex.movielens_dataset_mabv1\"\n",
      "BIGQUERY_TABLE_ID        = \"hybrid-vertex.movielens_dataset_mabv1.training_dataset\"\n",
      "\n",
      "REPO_DOCKER_PATH_PREFIX  = \"src\"\n",
      "RL_SUB_DIR               = \"per_arm_rl\"\n",
      "\n"
     ]
    }
   ],
   "source": [
    "# staging GCS\n",
    "GCP_PROJECTS             = !gcloud config get-value project\n",
    "PROJECT_ID               = GCP_PROJECTS[0]\n",
    "\n",
    "# GCS bucket and paths\n",
    "BUCKET_NAME              = f'{PREFIX}-{PROJECT_ID}-bucket'\n",
    "BUCKET_URI               = f'gs://{BUCKET_NAME}'\n",
    "\n",
    "config = !gsutil cat {BUCKET_URI}/config/notebook_env.py\n",
    "print(config.n)\n",
    "exec(config.n)"
   ]
  },
  {
   "cell_type": "code",
   "execution_count": 4,
   "id": "cf267dfa-3e59-4ea1-a0b6-e1c7f1ce8675",
   "metadata": {},
   "outputs": [],
   "source": [
    "# ! gsutil ls $BUCKET_URI"
   ]
  },
  {
   "cell_type": "markdown",
   "id": "e2e03648-23ef-4ebb-b4f4-c28dd2a3c7b0",
   "metadata": {},
   "source": [
    "## imports"
   ]
  },
  {
   "cell_type": "code",
   "execution_count": 5,
   "id": "edf25e4c-afd4-4be2-9784-ee43124f9101",
   "metadata": {},
   "outputs": [],
   "source": [
    "import os\n",
    "os.environ['TF_CPP_MIN_LOG_LEVEL'] = '2'"
   ]
  },
  {
   "cell_type": "code",
   "execution_count": 6,
   "id": "1000b866-e997-43bf-9891-6ce80aa69019",
   "metadata": {},
   "outputs": [],
   "source": [
    "import functools\n",
    "import json\n",
    "from collections import defaultdict\n",
    "from typing import Callable, Dict, List, Optional, TypeVar\n",
    "from datetime import datetime\n",
    "import time\n",
    "from pprint import pprint\n",
    "import pickle as pkl\n",
    "\n",
    "import attr\n",
    "\n",
    "import logging\n",
    "logging.disable(logging.WARNING)\n",
    "\n",
    "import matplotlib.pyplot as plt\n",
    "import numpy as np\n",
    "\n",
    "# google cloud\n",
    "from google.cloud import aiplatform, storage\n",
    "\n",
    "# tensorflow\n",
    "import tensorflow as tf\n",
    "from tf_agents.agents import TFAgent\n",
    "from tf_agents.bandits.agents import lin_ucb_agent\n",
    "from tf_agents.bandits.agents.examples.v2 import trainer\n",
    "from tf_agents.bandits.environments import (environment_utilities,\n",
    "                                            movielens_py_environment,\n",
    "                                            movielens_per_arm_py_environment)\n",
    "from tf_agents.bandits.metrics import tf_metrics as tf_bandit_metrics\n",
    "from tf_agents.drivers import dynamic_step_driver\n",
    "from tf_agents.environments import TFEnvironment, tf_py_environment\n",
    "from tf_agents.eval import metric_utils\n",
    "from tf_agents.metrics import tf_metrics\n",
    "from tf_agents.metrics.tf_metric import TFStepMetric\n",
    "from tf_agents.policies import policy_saver\n",
    "\n",
    "\n",
    "from tf_agents.trajectories import time_step as ts\n",
    "from tf_agents.specs import tensor_spec\n",
    "\n",
    "# GPU\n",
    "from numba import cuda \n",
    "import gc\n",
    "\n",
    "# my project\n",
    "from src.per_arm_rl import data_utils\n",
    "from src.per_arm_rl import data_config\n",
    "\n",
    "# tf exceptions and vars\n",
    "if tf.__version__[0] != \"2\":\n",
    "    raise Exception(\"The trainer only runs with TensorFlow version 2.\")\n",
    "\n",
    "T = TypeVar(\"T\")"
   ]
  },
  {
   "cell_type": "markdown",
   "id": "10411736-7b03-418a-883e-0157cc183d04",
   "metadata": {},
   "source": [
    "### detect GPUs & reset devices"
   ]
  },
  {
   "cell_type": "code",
   "execution_count": 7,
   "id": "c3cc5e8e-4b02-4df4-8eea-7c40466cd241",
   "metadata": {},
   "outputs": [
    {
     "name": "stdout",
     "output_type": "stream",
     "text": [
      "Num GPUs Available:  1\n"
     ]
    }
   ],
   "source": [
    "# gpus = tf.config.experimental.list_physical_devices('GPU')\n",
    "# for gpu in gpus:\n",
    "#     tf.config.experimental.set_memory_growth(gpu, True)\n",
    "    \n",
    "# gpus\n",
    "\n",
    "print(\"Num GPUs Available: \", len(tf.config.list_physical_devices('GPU')))"
   ]
  },
  {
   "cell_type": "code",
   "execution_count": 8,
   "id": "a75044a2-d511-4727-84d2-780648fc191a",
   "metadata": {},
   "outputs": [
    {
     "data": {
      "text/plain": [
       "23"
      ]
     },
     "execution_count": 8,
     "metadata": {},
     "output_type": "execute_result"
    }
   ],
   "source": [
    "device = cuda.get_current_device()\n",
    "device.reset()\n",
    "gc.collect()"
   ]
  },
  {
   "cell_type": "markdown",
   "id": "6f7e69b4-7fe1-40fd-b42c-e3a24f8f4598",
   "metadata": {},
   "source": [
    "### Initialize Google Cloud SDK Clients"
   ]
  },
  {
   "cell_type": "code",
   "execution_count": 9,
   "id": "ef21e778-2043-450e-a78b-4c75416bf7fc",
   "metadata": {},
   "outputs": [],
   "source": [
    "# cloud storage client\n",
    "storage_client = storage.Client(project=PROJECT_ID)\n",
    "\n",
    "# Vertex client\n",
    "aiplatform.init(project=PROJECT_ID, location=LOCATION)"
   ]
  },
  {
   "cell_type": "markdown",
   "id": "99900b37-e159-43dd-b63b-e7c0e20a4ab1",
   "metadata": {},
   "source": [
    "# Data prep"
   ]
  },
  {
   "cell_type": "markdown",
   "id": "041283b5-de0f-4fbc-a40f-81f28e38ed0c",
   "metadata": {},
   "source": [
    "### Load data config"
   ]
  },
  {
   "cell_type": "code",
   "execution_count": 10,
   "id": "bad14ac8-0789-4ad5-bb52-e22e23db3860",
   "metadata": {},
   "outputs": [],
   "source": [
    "# # test variables are set\n",
    "# print(f\"USER_AGE_LOOKUP: {data_config.USER_AGE_LOOKUP}\")\n",
    "# print(f\"USER_AGE_DIM: {data_config.USER_AGE_DIM}\")\n",
    "\n",
    "# print(f\"USER_OCC_LOOKUP: {data_config.USER_OCC_LOOKUP}\")\n",
    "# print(f\"USER_OCC_DIM: {data_config.USER_OCC_DIM}\")\n",
    "\n",
    "# print(f\"MOVIE_GEN_LOOKUP: {data_config.MOVIE_GEN_LOOKUP}\")\n",
    "# print(f\"MOVIE_GEN_DIM: {data_config.MOVIE_GEN_DIM}\")\n",
    "\n",
    "# print(f\"MOVIELENS_NUM_MOVIES: {data_config.MOVIELENS_NUM_MOVIES}\")\n",
    "# print(f\"MOVIELENS_NUM_USERS: {data_config.MOVIELENS_NUM_USERS}\")"
   ]
  },
  {
   "cell_type": "markdown",
   "id": "201610e6-b3be-4e09-a290-ea3c24230c70",
   "metadata": {},
   "source": [
    "### Read TF Records"
   ]
  },
  {
   "cell_type": "code",
   "execution_count": 11,
   "id": "1265b4ca-e231-475e-a63e-515b673cf39d",
   "metadata": {},
   "outputs": [],
   "source": [
    "options = tf.data.Options()\n",
    "options.experimental_distribute.auto_shard_policy = tf.data.experimental.AutoShardPolicy.AUTO"
   ]
  },
  {
   "cell_type": "code",
   "execution_count": 12,
   "id": "40cb3c57-c48b-499d-8a2e-fc1006818b97",
   "metadata": {},
   "outputs": [
    {
     "data": {
      "text/plain": [
       "['gs://mabv1-hybrid-vertex-bucket/data/val/ml-ratings-100k-val.tfrecord']"
      ]
     },
     "execution_count": 12,
     "metadata": {},
     "output_type": "execute_result"
    }
   ],
   "source": [
    "train_files = []\n",
    "for blob in storage_client.list_blobs(f\"{BUCKET_NAME}\", prefix=f'{DATA_GCS_PREFIX}/val'):\n",
    "# for blob in storage_client.list_blobs(f\"{BUCKET_NAME}\", prefix=f'{DATA_GCS_PREFIX}/train'):\n",
    "    if '.tfrecord' in blob.name:\n",
    "        train_files.append(blob.public_url.replace(\"https://storage.googleapis.com/\", \"gs://\"))\n",
    "        \n",
    "train_files"
   ]
  },
  {
   "cell_type": "code",
   "execution_count": 13,
   "id": "15e942d0-e779-4de9-9e32-6dc65fd27fe4",
   "metadata": {},
   "outputs": [
    {
     "name": "stdout",
     "output_type": "stream",
     "text": [
      "{'bucketized_user_age': <tf.Tensor: shape=(1,), dtype=float32, numpy=array([25.], dtype=float32)>,\n",
      " 'movie_genres': <tf.Tensor: shape=(1, 1), dtype=int64, numpy=array([[4]])>,\n",
      " 'movie_id': <tf.Tensor: shape=(1,), dtype=string, numpy=array([b'211'], dtype=object)>,\n",
      " 'timestamp': <tf.Tensor: shape=(1,), dtype=int64, numpy=array([874948475])>,\n",
      " 'user_id': <tf.Tensor: shape=(1,), dtype=string, numpy=array([b'346'], dtype=object)>,\n",
      " 'user_occupation_text': <tf.Tensor: shape=(1,), dtype=string, numpy=array([b'other'], dtype=object)>,\n",
      " 'user_rating': <tf.Tensor: shape=(1,), dtype=float32, numpy=array([4.], dtype=float32)>}\n"
     ]
    }
   ],
   "source": [
    "train_dataset = tf.data.TFRecordDataset(train_files)\n",
    "train_dataset = train_dataset.map(data_utils.parse_tfrecord)\n",
    "\n",
    "for x in train_dataset.batch(1).take(1):\n",
    "    pprint(x)"
   ]
  },
  {
   "cell_type": "code",
   "execution_count": 14,
   "id": "94ea2320-8567-4f39-8980-baa2aaa91043",
   "metadata": {},
   "outputs": [],
   "source": [
    "# def _get_rewards(element):\n",
    "#     \"\"\"Calculates reward for the actions.\"\"\"\n",
    "#     x = tf.cast(element['user_rating'], tf.float32)\n",
    "#     return x"
   ]
  },
  {
   "cell_type": "code",
   "execution_count": 15,
   "id": "9123dbad-414c-4531-b77a-dcc1604f0099",
   "metadata": {},
   "outputs": [],
   "source": [
    "# for x in train_dataset.batch(1).take(2):\n",
    "#     print(_get_rewards(x))"
   ]
  },
  {
   "cell_type": "markdown",
   "id": "427a7490-9f6d-42cf-b9b6-85b06f6269df",
   "metadata": {},
   "source": [
    "## calculate lookups\n",
    "\n",
    "**TODO** - modularize "
   ]
  },
  {
   "cell_type": "code",
   "execution_count": 16,
   "id": "8bf78311-943b-49df-a2ac-d8a60d6e7485",
   "metadata": {},
   "outputs": [
    {
     "name": "stdout",
     "output_type": "stream",
     "text": [
      "GENERATE_VOCABS: False\n"
     ]
    }
   ],
   "source": [
    "GENERATE_VOCABS = False\n",
    "print(f\"GENERATE_VOCABS: {GENERATE_VOCABS}\")\n",
    "\n",
    "VOCAB_SUBDIR   = \"vocabs\"\n",
    "VOCAB_FILENAME = \"vocab_dict.pkl\""
   ]
  },
  {
   "cell_type": "code",
   "execution_count": 17,
   "id": "92a43115-ae4d-455d-b979-0b1326da156f",
   "metadata": {},
   "outputs": [
    {
     "name": "stdout",
     "output_type": "stream",
     "text": [
      "Downloading vocab...\n",
      "Downloaded vocab from: gs://mabv1-hybrid-vertex-bucket/vocabs/vocab_dict.pkl\n",
      "\n",
      "'movie_id'\n",
      "'user_id'\n",
      "'user_occupation_text'\n",
      "'movie_genres'\n",
      "'bucketized_user_age'\n",
      "'max_timestamp'\n",
      "'min_timestamp'\n",
      "'timestamp_buckets'\n"
     ]
    }
   ],
   "source": [
    "if not GENERATE_VOCABS:\n",
    "\n",
    "    EXISTING_VOCAB_FILE = f'gs://{BUCKET_NAME}/{VOCAB_SUBDIR}/{VOCAB_FILENAME}'\n",
    "    print(f\"Downloading vocab...\")\n",
    "    \n",
    "    os.system(f'gsutil -q cp {EXISTING_VOCAB_FILE} .')\n",
    "    print(f\"Downloaded vocab from: {EXISTING_VOCAB_FILE}\\n\")\n",
    "\n",
    "    filehandler = open(VOCAB_FILENAME, 'rb')\n",
    "    vocab_dict = pkl.load(filehandler)\n",
    "    filehandler.close()\n",
    "    \n",
    "    for key in vocab_dict.keys():\n",
    "        pprint(key)"
   ]
  },
  {
   "cell_type": "markdown",
   "id": "66de1704-8332-4004-9d44-17fc7070cef3",
   "metadata": {},
   "source": [
    "### user featrues"
   ]
  },
  {
   "cell_type": "code",
   "execution_count": 18,
   "id": "60747f86-3417-41bf-9a03-7e742d918273",
   "metadata": {},
   "outputs": [],
   "source": [
    "if GENERATE_VOCABS:\n",
    "    start_time = time.time()\n",
    "\n",
    "    user_id_lookup = tf.keras.layers.StringLookup()\n",
    "    user_id_lookup.adapt(train_dataset.map(lambda x: x[\"user_id\"]))\n",
    "    print(f\"Vocabulary user_id_lookup: {user_id_lookup.get_vocabulary()[:3]}\")\n",
    "\n",
    "    end_time = time.time()\n",
    "    runtime_mins = int((end_time - start_time) / 60)\n",
    "    print(f\"runtime_mins: {runtime_mins}\")"
   ]
  },
  {
   "cell_type": "code",
   "execution_count": 19,
   "id": "79583578-e3f0-44bc-bec0-bff661afd79a",
   "metadata": {},
   "outputs": [],
   "source": [
    "if GENERATE_VOCABS:\n",
    "    start_time = time.time()\n",
    "\n",
    "    user_age_lookup = tf.keras.layers.IntegerLookup()\n",
    "    user_age_lookup.adapt(train_dataset.map(lambda x: int(x[\"bucketized_user_age\"])))\n",
    "    print(f\"Vocabulary user_age_lookup: {user_age_lookup.get_vocabulary()[:3]}\")\n",
    "\n",
    "    end_time = time.time()\n",
    "    runtime_mins = int((end_time - start_time) / 60)\n",
    "    print(f\"runtime_mins: {runtime_mins}\")"
   ]
  },
  {
   "cell_type": "code",
   "execution_count": 20,
   "id": "deac5b22-a61d-4277-90e7-8a78d67d1616",
   "metadata": {},
   "outputs": [],
   "source": [
    "if GENERATE_VOCABS:\n",
    "    start_time = time.time()\n",
    "\n",
    "    user_occ_lookup = tf.keras.layers.StringLookup()\n",
    "    user_occ_lookup.adapt(train_dataset.map(lambda x: x[\"user_occupation_text\"]))\n",
    "    print(f\"Vocabulary user_age_lookup: {user_occ_lookup.get_vocabulary()[:3]}\")\n",
    "\n",
    "    end_time = time.time()\n",
    "    runtime_mins = int((end_time - start_time) / 60)\n",
    "    print(f\"runtime_mins: {runtime_mins}\")"
   ]
  },
  {
   "cell_type": "code",
   "execution_count": 21,
   "id": "97d8b747-8eb1-4b0e-8abe-a689d9ace350",
   "metadata": {},
   "outputs": [],
   "source": [
    "if GENERATE_VOCABS:\n",
    "    start_time = time.time()\n",
    "\n",
    "    max_timestamp = train_dataset.map(lambda x: x[\"timestamp\"]).reduce(\n",
    "        tf.cast(0, tf.int64), tf.maximum).numpy().max()\n",
    "    min_timestamp = train_dataset.map(lambda x: x[\"timestamp\"]).reduce(\n",
    "        np.int64(1e9), tf.minimum).numpy().min()\n",
    "\n",
    "    timestamp_buckets = np.linspace(\n",
    "        min_timestamp, max_timestamp, num=1000)\n",
    "\n",
    "    print(f\"Buckets: {timestamp_buckets[:3]}\")\n",
    "\n",
    "    end_time = time.time()\n",
    "    runtime_mins = int((end_time - start_time) / 60)\n",
    "    print(f\"runtime_mins: {runtime_mins}\\n\")\n",
    "    \n",
    "    print(f\"max_timestamp          : {max_timestamp}\")\n",
    "    print(f\"min_timestamp          : {min_timestamp}\")\n",
    "    print(f\"len(timestamp_buckets) : {len(timestamp_buckets)}\")"
   ]
  },
  {
   "cell_type": "markdown",
   "id": "3292f90f-5055-4cd2-8d6c-ac328d5ae8a9",
   "metadata": {},
   "source": [
    "### movie features"
   ]
  },
  {
   "cell_type": "code",
   "execution_count": 22,
   "id": "0b5b8cbd-f445-48d0-8f37-5397d5ffa60d",
   "metadata": {},
   "outputs": [],
   "source": [
    "if GENERATE_VOCABS:\n",
    "    start_time = time.time()\n",
    "\n",
    "    movie_id_lookup = tf.keras.layers.StringLookup()\n",
    "    movie_id_lookup.adapt(train_dataset.map(lambda x: x[\"movie_id\"]))\n",
    "    print(f\"Vocabulary movie_id_lookup: {movie_id_lookup.get_vocabulary()[:3]}\")\n",
    "\n",
    "    end_time = time.time()\n",
    "    runtime_mins = int((end_time - start_time) / 60)\n",
    "    print(f\"runtime_mins: {runtime_mins}\")"
   ]
  },
  {
   "cell_type": "code",
   "execution_count": 23,
   "id": "f9593c17-2ed7-4713-a639-ce9679063768",
   "metadata": {},
   "outputs": [],
   "source": [
    "if GENERATE_VOCABS:\n",
    "    start_time = time.time()\n",
    "\n",
    "    movie_gen_lookup = tf.keras.layers.IntegerLookup()\n",
    "    movie_gen_lookup.adapt(train_dataset.map(lambda x: int(x[\"movie_genres\"])))\n",
    "    print(f\"Vocabulary user_age_lookup: {movie_gen_lookup.get_vocabulary()[:3]}\")\n",
    "\n",
    "    end_time = time.time()\n",
    "    runtime_mins = int((end_time - start_time) / 60)\n",
    "    print(f\"runtime_mins: {runtime_mins}\")"
   ]
  },
  {
   "cell_type": "markdown",
   "id": "a13c1d7d-d139-456b-adf8-bacb0c0284cc",
   "metadata": {},
   "source": [
    "## write vocabularies"
   ]
  },
  {
   "cell_type": "code",
   "execution_count": 24,
   "id": "9e59f319-9ae3-4c27-ba4d-8f6a21447700",
   "metadata": {},
   "outputs": [
    {
     "name": "stdout",
     "output_type": "stream",
     "text": [
      "PROJECT_ID      : hybrid-vertex\n",
      "BUCKET_NAME     : mabv1-hybrid-vertex-bucket\n",
      "VOCAB_SUBDIR    : vocabs\n",
      "VOCAB_FILENAME  : vocab_dict.pkl\n",
      "GENERATE_VOCABS : False\n"
     ]
    }
   ],
   "source": [
    "print(f\"PROJECT_ID      : {PROJECT_ID}\")\n",
    "print(f\"BUCKET_NAME     : {BUCKET_NAME}\")\n",
    "print(f\"VOCAB_SUBDIR    : {VOCAB_SUBDIR}\")\n",
    "print(f\"VOCAB_FILENAME  : {VOCAB_FILENAME}\")\n",
    "print(f\"GENERATE_VOCABS : {GENERATE_VOCABS}\")"
   ]
  },
  {
   "cell_type": "code",
   "execution_count": 25,
   "id": "ca77ff10-0682-4472-a280-2cb2dd6e0241",
   "metadata": {},
   "outputs": [
    {
     "name": "stdout",
     "output_type": "stream",
     "text": [
      "'movie_id'\n",
      "'user_id'\n",
      "'user_occupation_text'\n",
      "'movie_genres'\n",
      "'bucketized_user_age'\n",
      "'max_timestamp'\n",
      "'min_timestamp'\n",
      "'timestamp_buckets'\n"
     ]
    }
   ],
   "source": [
    "if GENERATE_VOCABS:\n",
    "    \n",
    "    vocab_dict = {\n",
    "        \"movie_id\" : movie_id_lookup.get_vocabulary(),\n",
    "        \"user_id\" : user_id_lookup.get_vocabulary(),\n",
    "        \"user_occupation_text\" : user_occ_lookup.get_vocabulary(), \n",
    "        \"movie_genres\" : movie_gen_lookup.get_vocabulary(),\n",
    "        \"bucketized_user_age\" : user_age_lookup.get_vocabulary(),\n",
    "        \"max_timestamp\" : max_timestamp,\n",
    "        \"min_timestamp\" : min_timestamp,\n",
    "        \"timestamp_buckets\" : timestamp_buckets,\n",
    "    }\n",
    "    \n",
    "for key in vocab_dict.keys():\n",
    "    pprint(key)"
   ]
  },
  {
   "cell_type": "code",
   "execution_count": 26,
   "id": "c2af2e88-5284-49b1-826c-b3223253dfe1",
   "metadata": {},
   "outputs": [],
   "source": [
    "filehandler = open(VOCAB_FILENAME, 'wb')\n",
    "pkl.dump(vocab_dict, filehandler)\n",
    "\n",
    "filehandler.close()\n",
    "\n",
    "# data_utils.upload_blob(\n",
    "#     project_id = PROJECT_ID, \n",
    "#     bucket_name = BUCKET_NAME, \n",
    "#     source_file_name = VOCAB_FILENAME, \n",
    "#     destination_blob_name =f\"{VOCAB_SUBDIR}/{VOCAB_FILENAME}'\n",
    "# )"
   ]
  },
  {
   "cell_type": "markdown",
   "id": "10082ab7-872c-4502-a83f-ac92ae1576fa",
   "metadata": {
    "tags": []
   },
   "source": [
    "## create embedding layers\n",
    "\n",
    "**TODO** - modularize "
   ]
  },
  {
   "cell_type": "code",
   "execution_count": 27,
   "id": "6a5718c2-05db-4d95-98a1-aa3ed934d806",
   "metadata": {},
   "outputs": [
    {
     "name": "stdout",
     "output_type": "stream",
     "text": [
      "GENERATE_VOCABS: True\n"
     ]
    }
   ],
   "source": [
    "USER_EMBEDDING_SIZE = 4 # 16\n",
    "\n",
    "GENERATE_VOCABS = True\n",
    "print(f\"GENERATE_VOCABS: {GENERATE_VOCABS}\")"
   ]
  },
  {
   "cell_type": "markdown",
   "id": "dc792f46-e23b-414f-a89d-a061704c0776",
   "metadata": {
    "tags": []
   },
   "source": [
    "### user features"
   ]
  },
  {
   "cell_type": "code",
   "execution_count": 28,
   "id": "bb5c4963-2044-47b2-950c-1f0175705252",
   "metadata": {},
   "outputs": [
    {
     "name": "stdout",
     "output_type": "stream",
     "text": [
      "tf.Tensor([[-0.00418743 -0.01463846 -0.02581253 -0.02650603]], shape=(1, 4), dtype=float32)\n"
     ]
    }
   ],
   "source": [
    "if GENERATE_VOCABS:\n",
    "    \n",
    "    user_id_lookup = tf.keras.layers.StringLookup(\n",
    "        vocabulary=vocab_dict['user_id'], \n",
    "        mask_token=None\n",
    "    )\n",
    "    \n",
    "    user_id_embedding = tf.keras.layers.Embedding(\n",
    "        # Let's use the explicit vocabulary lookup.\n",
    "        input_dim=len(vocab_dict['user_id']) + 1,\n",
    "        output_dim=USER_EMBEDDING_SIZE\n",
    "    )\n",
    "\n",
    "    # test \n",
    "    user_id_model = tf.keras.Sequential([user_id_lookup, user_id_embedding])\n",
    "    print(user_id_model([\"405\"]))"
   ]
  },
  {
   "cell_type": "code",
   "execution_count": 29,
   "id": "55b9b61d-6d87-4b93-9dd8-9b9f28b18d0c",
   "metadata": {},
   "outputs": [
    {
     "name": "stdout",
     "output_type": "stream",
     "text": [
      "tf.Tensor([[ 0.01056468 -0.00726784 -0.01059502  0.00801397]], shape=(1, 4), dtype=float32)\n"
     ]
    }
   ],
   "source": [
    "if GENERATE_VOCABS:\n",
    "    \n",
    "    user_age_lookup = tf.keras.layers.IntegerLookup(\n",
    "        vocabulary=vocab_dict['bucketized_user_age'], \n",
    "        mask_token=None\n",
    "    )\n",
    "    \n",
    "    user_age_embedding = tf.keras.layers.Embedding(\n",
    "        # Let's use the explicit vocabulary lookup.\n",
    "        input_dim=len(vocab_dict['bucketized_user_age']) + 1,\n",
    "        output_dim=USER_EMBEDDING_SIZE\n",
    "    )\n",
    "\n",
    "    # test \n",
    "    user_age_model = tf.keras.Sequential([user_age_lookup, user_age_embedding])\n",
    "    print(user_age_model([18]))"
   ]
  },
  {
   "cell_type": "code",
   "execution_count": 30,
   "id": "5d1431a0-697c-43c0-9af8-fa7d992e2e79",
   "metadata": {},
   "outputs": [
    {
     "name": "stdout",
     "output_type": "stream",
     "text": [
      "tf.Tensor([[ 0.04639946 -0.00862887 -0.02267009 -0.01237652]], shape=(1, 4), dtype=float32)\n"
     ]
    }
   ],
   "source": [
    "if GENERATE_VOCABS:\n",
    "    \n",
    "    user_occ_lookup = tf.keras.layers.StringLookup(\n",
    "        vocabulary=vocab_dict['user_occupation_text'], \n",
    "        mask_token=None\n",
    "    )\n",
    "    \n",
    "    user_occ_embedding = tf.keras.layers.Embedding(\n",
    "        # Let's use the explicit vocabulary lookup.\n",
    "        input_dim=len(vocab_dict['user_occupation_text']) + 1,\n",
    "        output_dim=USER_EMBEDDING_SIZE\n",
    "    )\n",
    "\n",
    "    # test \n",
    "    user_occ_model = tf.keras.Sequential([user_occ_lookup, user_occ_embedding])\n",
    "    print(user_occ_model(['student']))"
   ]
  },
  {
   "cell_type": "code",
   "execution_count": 31,
   "id": "0063577f-4658-4f54-877b-8cb431b89f15",
   "metadata": {},
   "outputs": [
    {
     "name": "stdout",
     "output_type": "stream",
     "text": [
      "tf.Tensor([[-0.04745347 -0.01749183  0.01788032  0.03968443]], shape=(1, 4), dtype=float32)\n"
     ]
    }
   ],
   "source": [
    "if GENERATE_VOCABS:\n",
    "    \n",
    "    timestamp_embedding_model = tf.keras.Sequential([\n",
    "        tf.keras.layers.Discretization(vocab_dict['timestamp_buckets'].tolist()),\n",
    "        tf.keras.layers.Embedding(\n",
    "        input_dim = len(vocab_dict['timestamp_buckets'].tolist()) + 1,\n",
    "        output_dim = USER_EMBEDDING_SIZE\n",
    "        )\n",
    "    ])\n",
    "\n",
    "    print(timestamp_embedding_model([879024327]))"
   ]
  },
  {
   "cell_type": "markdown",
   "id": "3e69ca2a-568d-4544-9239-fa8d01b45d90",
   "metadata": {},
   "source": [
    "### movie features"
   ]
  },
  {
   "cell_type": "code",
   "execution_count": 32,
   "id": "57e6f857-a6c3-4c62-b658-1eef5f9beeb5",
   "metadata": {},
   "outputs": [],
   "source": [
    "MV_EMBEDDING_SIZE = 8 #32"
   ]
  },
  {
   "cell_type": "code",
   "execution_count": 33,
   "id": "d6eb53a2-54e0-4372-9d42-3525ff77ed26",
   "metadata": {},
   "outputs": [
    {
     "name": "stdout",
     "output_type": "stream",
     "text": [
      "tf.Tensor(\n",
      "[[ 0.04179702 -0.01784285 -0.00802907  0.03941233 -0.01345735  0.01327837\n",
      "  -0.04878799  0.03622211]], shape=(1, 8), dtype=float32)\n"
     ]
    }
   ],
   "source": [
    "if GENERATE_VOCABS:\n",
    "    \n",
    "    movie_id_lookup = tf.keras.layers.StringLookup(\n",
    "        vocabulary=vocab_dict['movie_id'], \n",
    "        mask_token=None\n",
    "    )\n",
    "    \n",
    "    movie_id_embedding = tf.keras.layers.Embedding(\n",
    "        # Let's use the explicit vocabulary lookup.\n",
    "        input_dim=len(vocab_dict['movie_id']) + 1,\n",
    "        output_dim=MV_EMBEDDING_SIZE\n",
    "    )\n",
    "\n",
    "    # test \n",
    "    mv_id_model = tf.keras.Sequential([movie_id_lookup, movie_id_embedding])\n",
    "    print(mv_id_model([\"357\"]))"
   ]
  },
  {
   "cell_type": "code",
   "execution_count": 34,
   "id": "77099a9d-65d4-45bb-8a96-79eae7d69bf2",
   "metadata": {},
   "outputs": [
    {
     "name": "stdout",
     "output_type": "stream",
     "text": [
      "tf.Tensor(\n",
      "[[-0.04562704  0.0112003  -0.04429579 -0.02796419 -0.03948722  0.01015388\n",
      "   0.03885848  0.04382923]], shape=(1, 8), dtype=float32)\n"
     ]
    }
   ],
   "source": [
    "if GENERATE_VOCABS:\n",
    "    \n",
    "    movie_gen_lookup = tf.keras.layers.IntegerLookup(\n",
    "        vocabulary=vocab_dict['movie_genres'], \n",
    "        mask_token=None\n",
    "    )\n",
    "    \n",
    "    movie_gen_embedding = tf.keras.layers.Embedding(\n",
    "        # Let's use the explicit vocabulary lookup.\n",
    "        input_dim = len(vocab_dict['movie_genres']) + 1,\n",
    "        output_dim = MV_EMBEDDING_SIZE\n",
    "    )\n",
    "\n",
    "    # test \n",
    "    mv_gen_model = tf.keras.Sequential([movie_gen_lookup, movie_gen_embedding])\n",
    "    print(mv_gen_model([7]))"
   ]
  },
  {
   "cell_type": "markdown",
   "id": "9db4270f-19fb-48fb-a900-8f775398bb36",
   "metadata": {
    "tags": []
   },
   "source": [
    "# Bandit model components"
   ]
  },
  {
   "cell_type": "markdown",
   "id": "02f2ad41-4dff-475b-99d8-ca828829e861",
   "metadata": {
    "tags": []
   },
   "source": [
    "## Environment\n",
    "\n",
    "* A problem can be expressed in terms of an “environment”. \n",
    "* An environment is a class that generates observations (aka contexts), and also outputs a reward after being presented with actions"
   ]
  },
  {
   "cell_type": "markdown",
   "id": "a8fa9d49-56b1-48e7-9321-5e324c4ef71a",
   "metadata": {},
   "source": [
    "### global input functions"
   ]
  },
  {
   "cell_type": "code",
   "execution_count": 35,
   "id": "967ea89e-bfee-4307-9102-8787299c1558",
   "metadata": {},
   "outputs": [],
   "source": [
    "# EMBEDDING_SIZE = 32\n",
    "\n",
    "def global_context_sampling_fn():\n",
    "    \"\"\"\n",
    "    This function generates a single global observation vector.\n",
    "    \"\"\"\n",
    "    for x in train_dataset.take(1).as_numpy_iterator():\n",
    "        user_id_value = x['user_id']\n",
    "        user_age_value = x['bucketized_user_age']\n",
    "        user_occ_value = x['user_occupation_text']\n",
    "        user_ts_value = x['timestamp']\n",
    "        \n",
    "        # print(str(user_id_value.decode('utf-8')))\n",
    "        # print(int(user_age_value))\n",
    "        # print(user_occ_value.decode('utf-8'))\n",
    "        # print(user_ts_value)\n",
    "        \n",
    "        id_emb = user_id_model([str(user_id_value.decode('utf-8'))])\n",
    "        age_emb = user_age_model([int(user_age_value)])\n",
    "        occ_emb = user_occ_model([user_occ_value.decode('utf-8')])\n",
    "        ts_emb = timestamp_embedding_model([user_ts_value])\n",
    "        \n",
    "        id_emb = id_emb.numpy().flatten()\n",
    "        age_emb = age_emb.numpy().flatten()\n",
    "        occ_emb = occ_emb.numpy().flatten()\n",
    "        ts_emb = ts_emb.numpy().flatten()\n",
    "\n",
    "        # print(id_emb.shape)\n",
    "        # print(age_emb.shape)\n",
    "        # print(occ_emb.shape)\n",
    "        # print(ts_emb.shape)\n",
    "\n",
    "        combined_user_features = np.concatenate(\n",
    "            (\n",
    "                id_emb,\n",
    "                age_emb,\n",
    "                occ_emb,\n",
    "                ts_emb\n",
    "            )\n",
    "            # , axis=1\n",
    "        )\n",
    "\n",
    "    return combined_user_features"
   ]
  },
  {
   "cell_type": "code",
   "execution_count": 36,
   "id": "69ddb191-ebe5-45e1-9bf4-dccbe9f84cc4",
   "metadata": {},
   "outputs": [
    {
     "name": "stdout",
     "output_type": "stream",
     "text": [
      "(16,)\n"
     ]
    }
   ],
   "source": [
    "global_con = global_context_sampling_fn()\n",
    "print(global_con.shape)\n",
    "# global_con"
   ]
  },
  {
   "cell_type": "code",
   "execution_count": 37,
   "id": "03b45f5f-1d94-4fbd-92e6-5e65596b35c3",
   "metadata": {},
   "outputs": [],
   "source": [
    "def per_arm_context_sampling_fn():\n",
    "    \"\"\"\n",
    "    This function generates a single per-arm observation vector\n",
    "    \"\"\"\n",
    "    for x in train_dataset.take(1).as_numpy_iterator():\n",
    "        mv_id_value = x['movie_id']\n",
    "        mv_gen_value = x['movie_genres'][0]\n",
    "        \n",
    "#         print(mv_id_value)\n",
    "#         print(mv_gen_value)\n",
    "        \n",
    "        mv_id_emb = mv_id_model([str(mv_id_value.decode('utf-8'))])\n",
    "        mv_gen_emb = mv_gen_model([int(mv_gen_value)])\n",
    "        \n",
    "        # print(mv_id_emb)\n",
    "        # print(mv_gen_emb)\n",
    "        \n",
    "        mv_id_emb = mv_id_emb.numpy().flatten()\n",
    "        mv_gen_emb = mv_gen_emb.numpy().flatten()\n",
    "        \n",
    "#         print(mv_id_emb.shape)\n",
    "#         print(mv_gen_emb.shape)\n",
    "        \n",
    "#         print(mv_id_emb)\n",
    "#         print(mv_gen_emb)\n",
    "        \n",
    "        combined_mv_features = np.concatenate(\n",
    "            (\n",
    "                mv_id_emb,\n",
    "                # tf.expand_dims(mv_gen_emb, axis=0)\n",
    "                mv_gen_emb\n",
    "            )\n",
    "            # , axis=1\n",
    "        )\n",
    "        \n",
    "    return combined_mv_features"
   ]
  },
  {
   "cell_type": "code",
   "execution_count": 38,
   "id": "2455ee70-b31c-4fbd-93de-0d7e98d794ae",
   "metadata": {},
   "outputs": [
    {
     "name": "stdout",
     "output_type": "stream",
     "text": [
      "(16,)\n"
     ]
    }
   ],
   "source": [
    "global_arm = per_arm_context_sampling_fn()\n",
    "print(global_arm.shape)\n",
    "# global_arm\n",
    "\n",
    "# per_arm_context_sampling_fn()"
   ]
  },
  {
   "cell_type": "markdown",
   "id": "a97f3811-4111-40cc-a2b6-141c22e185be",
   "metadata": {
    "tags": []
   },
   "source": [
    "### reward function"
   ]
  },
  {
   "cell_type": "code",
   "execution_count": 39,
   "id": "c50dc020-baac-4db3-920f-45b74e0b2565",
   "metadata": {},
   "outputs": [],
   "source": [
    "PARAM_BOUND = 10\n",
    "GLOBAL_DIM = global_con.shape[0]\n",
    "PER_ARM_DIM = global_arm.shape[0]\n",
    "VARIANCE = 100.0\n",
    "\n",
    "reward_param = list(np.random.randint(\n",
    "      -PARAM_BOUND, PARAM_BOUND, [GLOBAL_DIM + PER_ARM_DIM]))\n",
    "\n",
    "# reward_param"
   ]
  },
  {
   "cell_type": "code",
   "execution_count": 40,
   "id": "b7eab55c-177a-4097-9a9e-6247516e5c46",
   "metadata": {},
   "outputs": [],
   "source": [
    "# inner_prod = np.dot(global_arm[0], global_con[0])\n",
    "# inner_prod"
   ]
  },
  {
   "cell_type": "code",
   "execution_count": 41,
   "id": "5d960c25-63ae-42e4-816c-6f3dcbd85660",
   "metadata": {},
   "outputs": [],
   "source": [
    "def linear_normal_reward_fn(x):\n",
    "    \"\"\"This function generates a reward from the concatenated global and per-arm observations.\"\"\"\n",
    "    mu = np.dot(x, reward_param)\n",
    "    return np.random.normal(mu, VARIANCE)"
   ]
  },
  {
   "cell_type": "markdown",
   "id": "47eb1c32-e25a-4af7-a12d-730896387ea6",
   "metadata": {
    "tags": []
   },
   "source": [
    "### set environment"
   ]
  },
  {
   "cell_type": "code",
   "execution_count": 42,
   "id": "5405c575-6338-4c14-bdaa-457e0667a7ec",
   "metadata": {},
   "outputs": [
    {
     "name": "stdout",
     "output_type": "stream",
     "text": [
      "GLOBAL_DIM   : 16\n",
      "PER_ARM_DIM  : 16\n",
      "NUM_ACTIONS  : 32\n",
      "BATCH_SIZE   : 20\n"
     ]
    }
   ],
   "source": [
    "# The dimension of the global features.\n",
    "GLOBAL_DIM = global_con.shape[0]\n",
    "PER_ARM_DIM = global_arm.shape[0] \n",
    "# The elements of the PER-ARM feature will be integers in [-PER_ARM_BOUND, PER_ARM_BOUND).\n",
    "\n",
    "NUM_ACTIONS = 32 \n",
    "BATCH_SIZE = 20\n",
    "\n",
    "# The variance of the Gaussian distribution that generates the rewards.\n",
    "VARIANCE = 100.0\n",
    "PARAM_BOUND = 10\n",
    "\n",
    "print(f\"GLOBAL_DIM   : {GLOBAL_DIM}\")\n",
    "print(f\"PER_ARM_DIM  : {PER_ARM_DIM}\")\n",
    "print(f\"NUM_ACTIONS  : {NUM_ACTIONS}\")\n",
    "print(f\"BATCH_SIZE   : {BATCH_SIZE}\")"
   ]
  },
  {
   "cell_type": "code",
   "execution_count": 43,
   "id": "4e67b869-9d8b-4b23-b61a-f59b287d903a",
   "metadata": {},
   "outputs": [],
   "source": [
    "from tf_agents.bandits.environments import stationary_stochastic_per_arm_py_environment as p_a_env\n",
    "\n",
    "per_arm_py_env = p_a_env.StationaryStochasticPerArmPyEnvironment(\n",
    "    global_context_sampling_fn,\n",
    "    per_arm_context_sampling_fn,\n",
    "    NUM_ACTIONS,\n",
    "    linear_normal_reward_fn,\n",
    "    batch_size=BATCH_SIZE\n",
    ")\n",
    "per_arm_tf_env = tf_py_environment.TFPyEnvironment(per_arm_py_env)"
   ]
  },
  {
   "cell_type": "code",
   "execution_count": 44,
   "id": "2370f3e2-c328-4466-a6bd-ec1768ad9bbf",
   "metadata": {
    "tags": []
   },
   "outputs": [
    {
     "name": "stdout",
     "output_type": "stream",
     "text": [
      "observation spec:  {'global': TensorSpec(shape=(16,), dtype=tf.float32, name=None), 'per_arm': TensorSpec(shape=(32, 16), dtype=tf.float32, name=None)}\n"
     ]
    }
   ],
   "source": [
    "print('observation spec: ', per_arm_tf_env.observation_spec())"
   ]
  },
  {
   "cell_type": "code",
   "execution_count": 45,
   "id": "95a2cbcd-4762-427c-a8dc-4bc1ca21ea1a",
   "metadata": {
    "tags": []
   },
   "outputs": [
    {
     "name": "stdout",
     "output_type": "stream",
     "text": [
      "\n",
      "An observation:  {'global': <tf.Tensor: shape=(20, 16), dtype=float32, numpy=\n",
      "array([[-0.01728938, -0.02086926, -0.04968672, -0.03426378, -0.01175826,\n",
      "        -0.02271139, -0.03254964,  0.04004109, -0.0283347 ,  0.02551827,\n",
      "         0.02943689, -0.01260965, -0.01195727,  0.02701879, -0.04284294,\n",
      "         0.02336944],\n",
      "       [-0.01728938, -0.02086926, -0.04968672, -0.03426378, -0.01175826,\n",
      "        -0.02271139, -0.03254964,  0.04004109, -0.0283347 ,  0.02551827,\n",
      "         0.02943689, -0.01260965, -0.01195727,  0.02701879, -0.04284294,\n",
      "         0.02336944],\n",
      "       [-0.01728938, -0.02086926, -0.04968672, -0.03426378, -0.01175826,\n",
      "        -0.02271139, -0.03254964,  0.04004109, -0.0283347 ,  0.02551827,\n",
      "         0.02943689, -0.01260965, -0.01195727,  0.02701879, -0.04284294,\n",
      "         0.02336944],\n",
      "       [-0.01728938, -0.02086926, -0.04968672, -0.03426378, -0.01175826,\n",
      "        -0.02271139, -0.03254964,  0.04004109, -0.0283347 ,  0.02551827,\n",
      "         0.02943689, -0.01260965, -0.01195727,  0.02701879, -0.04284294,\n",
      "         0.02336944],\n",
      "       [-0.01728938, -0.02086926, -0.04968672, -0.03426378, -0.01175826,\n",
      "        -0.02271139, -0.03254964,  0.04004109, -0.0283347 ,  0.02551827,\n",
      "         0.02943689, -0.01260965, -0.01195727,  0.02701879, -0.04284294,\n",
      "         0.02336944],\n",
      "       [-0.01728938, -0.02086926, -0.04968672, -0.03426378, -0.01175826,\n",
      "        -0.02271139, -0.03254964,  0.04004109, -0.0283347 ,  0.02551827,\n",
      "         0.02943689, -0.01260965, -0.01195727,  0.02701879, -0.04284294,\n",
      "         0.02336944],\n",
      "       [-0.01728938, -0.02086926, -0.04968672, -0.03426378, -0.01175826,\n",
      "        -0.02271139, -0.03254964,  0.04004109, -0.0283347 ,  0.02551827,\n",
      "         0.02943689, -0.01260965, -0.01195727,  0.02701879, -0.04284294,\n",
      "         0.02336944],\n",
      "       [-0.01728938, -0.02086926, -0.04968672, -0.03426378, -0.01175826,\n",
      "        -0.02271139, -0.03254964,  0.04004109, -0.0283347 ,  0.02551827,\n",
      "         0.02943689, -0.01260965, -0.01195727,  0.02701879, -0.04284294,\n",
      "         0.02336944],\n",
      "       [-0.01728938, -0.02086926, -0.04968672, -0.03426378, -0.01175826,\n",
      "        -0.02271139, -0.03254964,  0.04004109, -0.0283347 ,  0.02551827,\n",
      "         0.02943689, -0.01260965, -0.01195727,  0.02701879, -0.04284294,\n",
      "         0.02336944],\n",
      "       [-0.01728938, -0.02086926, -0.04968672, -0.03426378, -0.01175826,\n",
      "        -0.02271139, -0.03254964,  0.04004109, -0.0283347 ,  0.02551827,\n",
      "         0.02943689, -0.01260965, -0.01195727,  0.02701879, -0.04284294,\n",
      "         0.02336944],\n",
      "       [-0.01728938, -0.02086926, -0.04968672, -0.03426378, -0.01175826,\n",
      "        -0.02271139, -0.03254964,  0.04004109, -0.0283347 ,  0.02551827,\n",
      "         0.02943689, -0.01260965, -0.01195727,  0.02701879, -0.04284294,\n",
      "         0.02336944],\n",
      "       [-0.01728938, -0.02086926, -0.04968672, -0.03426378, -0.01175826,\n",
      "        -0.02271139, -0.03254964,  0.04004109, -0.0283347 ,  0.02551827,\n",
      "         0.02943689, -0.01260965, -0.01195727,  0.02701879, -0.04284294,\n",
      "         0.02336944],\n",
      "       [-0.01728938, -0.02086926, -0.04968672, -0.03426378, -0.01175826,\n",
      "        -0.02271139, -0.03254964,  0.04004109, -0.0283347 ,  0.02551827,\n",
      "         0.02943689, -0.01260965, -0.01195727,  0.02701879, -0.04284294,\n",
      "         0.02336944],\n",
      "       [-0.01728938, -0.02086926, -0.04968672, -0.03426378, -0.01175826,\n",
      "        -0.02271139, -0.03254964,  0.04004109, -0.0283347 ,  0.02551827,\n",
      "         0.02943689, -0.01260965, -0.01195727,  0.02701879, -0.04284294,\n",
      "         0.02336944],\n",
      "       [-0.01728938, -0.02086926, -0.04968672, -0.03426378, -0.01175826,\n",
      "        -0.02271139, -0.03254964,  0.04004109, -0.0283347 ,  0.02551827,\n",
      "         0.02943689, -0.01260965, -0.01195727,  0.02701879, -0.04284294,\n",
      "         0.02336944],\n",
      "       [-0.01728938, -0.02086926, -0.04968672, -0.03426378, -0.01175826,\n",
      "        -0.02271139, -0.03254964,  0.04004109, -0.0283347 ,  0.02551827,\n",
      "         0.02943689, -0.01260965, -0.01195727,  0.02701879, -0.04284294,\n",
      "         0.02336944],\n",
      "       [-0.01728938, -0.02086926, -0.04968672, -0.03426378, -0.01175826,\n",
      "        -0.02271139, -0.03254964,  0.04004109, -0.0283347 ,  0.02551827,\n",
      "         0.02943689, -0.01260965, -0.01195727,  0.02701879, -0.04284294,\n",
      "         0.02336944],\n",
      "       [-0.01728938, -0.02086926, -0.04968672, -0.03426378, -0.01175826,\n",
      "        -0.02271139, -0.03254964,  0.04004109, -0.0283347 ,  0.02551827,\n",
      "         0.02943689, -0.01260965, -0.01195727,  0.02701879, -0.04284294,\n",
      "         0.02336944],\n",
      "       [-0.01728938, -0.02086926, -0.04968672, -0.03426378, -0.01175826,\n",
      "        -0.02271139, -0.03254964,  0.04004109, -0.0283347 ,  0.02551827,\n",
      "         0.02943689, -0.01260965, -0.01195727,  0.02701879, -0.04284294,\n",
      "         0.02336944],\n",
      "       [-0.01728938, -0.02086926, -0.04968672, -0.03426378, -0.01175826,\n",
      "        -0.02271139, -0.03254964,  0.04004109, -0.0283347 ,  0.02551827,\n",
      "         0.02943689, -0.01260965, -0.01195727,  0.02701879, -0.04284294,\n",
      "         0.02336944]], dtype=float32)>, 'per_arm': <tf.Tensor: shape=(20, 32, 16), dtype=float32, numpy=\n",
      "array([[[-0.03765963, -0.03285593, -0.01980767, ...,  0.00633289,\n",
      "          0.01288649, -0.03389837],\n",
      "        [-0.03765963, -0.03285593, -0.01980767, ...,  0.00633289,\n",
      "          0.01288649, -0.03389837],\n",
      "        [-0.03765963, -0.03285593, -0.01980767, ...,  0.00633289,\n",
      "          0.01288649, -0.03389837],\n",
      "        ...,\n",
      "        [-0.03765963, -0.03285593, -0.01980767, ...,  0.00633289,\n",
      "          0.01288649, -0.03389837],\n",
      "        [-0.03765963, -0.03285593, -0.01980767, ...,  0.00633289,\n",
      "          0.01288649, -0.03389837],\n",
      "        [-0.03765963, -0.03285593, -0.01980767, ...,  0.00633289,\n",
      "          0.01288649, -0.03389837]],\n",
      "\n",
      "       [[-0.03765963, -0.03285593, -0.01980767, ...,  0.00633289,\n",
      "          0.01288649, -0.03389837],\n",
      "        [-0.03765963, -0.03285593, -0.01980767, ...,  0.00633289,\n",
      "          0.01288649, -0.03389837],\n",
      "        [-0.03765963, -0.03285593, -0.01980767, ...,  0.00633289,\n",
      "          0.01288649, -0.03389837],\n",
      "        ...,\n",
      "        [-0.03765963, -0.03285593, -0.01980767, ...,  0.00633289,\n",
      "          0.01288649, -0.03389837],\n",
      "        [-0.03765963, -0.03285593, -0.01980767, ...,  0.00633289,\n",
      "          0.01288649, -0.03389837],\n",
      "        [-0.03765963, -0.03285593, -0.01980767, ...,  0.00633289,\n",
      "          0.01288649, -0.03389837]],\n",
      "\n",
      "       [[-0.03765963, -0.03285593, -0.01980767, ...,  0.00633289,\n",
      "          0.01288649, -0.03389837],\n",
      "        [-0.03765963, -0.03285593, -0.01980767, ...,  0.00633289,\n",
      "          0.01288649, -0.03389837],\n",
      "        [-0.03765963, -0.03285593, -0.01980767, ...,  0.00633289,\n",
      "          0.01288649, -0.03389837],\n",
      "        ...,\n",
      "        [-0.03765963, -0.03285593, -0.01980767, ...,  0.00633289,\n",
      "          0.01288649, -0.03389837],\n",
      "        [-0.03765963, -0.03285593, -0.01980767, ...,  0.00633289,\n",
      "          0.01288649, -0.03389837],\n",
      "        [-0.03765963, -0.03285593, -0.01980767, ...,  0.00633289,\n",
      "          0.01288649, -0.03389837]],\n",
      "\n",
      "       ...,\n",
      "\n",
      "       [[-0.03765963, -0.03285593, -0.01980767, ...,  0.00633289,\n",
      "          0.01288649, -0.03389837],\n",
      "        [-0.03765963, -0.03285593, -0.01980767, ...,  0.00633289,\n",
      "          0.01288649, -0.03389837],\n",
      "        [-0.03765963, -0.03285593, -0.01980767, ...,  0.00633289,\n",
      "          0.01288649, -0.03389837],\n",
      "        ...,\n",
      "        [-0.03765963, -0.03285593, -0.01980767, ...,  0.00633289,\n",
      "          0.01288649, -0.03389837],\n",
      "        [-0.03765963, -0.03285593, -0.01980767, ...,  0.00633289,\n",
      "          0.01288649, -0.03389837],\n",
      "        [-0.03765963, -0.03285593, -0.01980767, ...,  0.00633289,\n",
      "          0.01288649, -0.03389837]],\n",
      "\n",
      "       [[-0.03765963, -0.03285593, -0.01980767, ...,  0.00633289,\n",
      "          0.01288649, -0.03389837],\n",
      "        [-0.03765963, -0.03285593, -0.01980767, ...,  0.00633289,\n",
      "          0.01288649, -0.03389837],\n",
      "        [-0.03765963, -0.03285593, -0.01980767, ...,  0.00633289,\n",
      "          0.01288649, -0.03389837],\n",
      "        ...,\n",
      "        [-0.03765963, -0.03285593, -0.01980767, ...,  0.00633289,\n",
      "          0.01288649, -0.03389837],\n",
      "        [-0.03765963, -0.03285593, -0.01980767, ...,  0.00633289,\n",
      "          0.01288649, -0.03389837],\n",
      "        [-0.03765963, -0.03285593, -0.01980767, ...,  0.00633289,\n",
      "          0.01288649, -0.03389837]],\n",
      "\n",
      "       [[-0.03765963, -0.03285593, -0.01980767, ...,  0.00633289,\n",
      "          0.01288649, -0.03389837],\n",
      "        [-0.03765963, -0.03285593, -0.01980767, ...,  0.00633289,\n",
      "          0.01288649, -0.03389837],\n",
      "        [-0.03765963, -0.03285593, -0.01980767, ...,  0.00633289,\n",
      "          0.01288649, -0.03389837],\n",
      "        ...,\n",
      "        [-0.03765963, -0.03285593, -0.01980767, ...,  0.00633289,\n",
      "          0.01288649, -0.03389837],\n",
      "        [-0.03765963, -0.03285593, -0.01980767, ...,  0.00633289,\n",
      "          0.01288649, -0.03389837],\n",
      "        [-0.03765963, -0.03285593, -0.01980767, ...,  0.00633289,\n",
      "          0.01288649, -0.03389837]]], dtype=float32)>}\n",
      "runtime_mins: 1\n"
     ]
    }
   ],
   "source": [
    "start_time = time.time()\n",
    "print('\\nAn observation: ', per_arm_tf_env.reset().observation)\n",
    "\n",
    "end_time = time.time()\n",
    "runtime_mins = int((end_time - start_time) / 60)\n",
    "print(f\"runtime_mins: {runtime_mins}\")"
   ]
  },
  {
   "cell_type": "code",
   "execution_count": null,
   "id": "a2f380c7-dc37-402b-ae4f-1ef8b8a4379c",
   "metadata": {},
   "outputs": [],
   "source": [
    "action = tf.zeros(BATCH_SIZE, dtype=tf.int32)\n",
    "action"
   ]
  },
  {
   "cell_type": "code",
   "execution_count": 111,
   "id": "e146a0dd-ca78-4dbd-b220-6344e24f5b8b",
   "metadata": {},
   "outputs": [
    {
     "name": "stdout",
     "output_type": "stream",
     "text": [
      "\n",
      "Rewards after taking an action:  tf.Tensor(\n",
      "[-9.20845795e+01  6.28346901e+01 -9.77791214e+01  3.48323178e+00\n",
      "  1.23169876e+02  5.20816002e+01 -6.11318665e+01  8.65554581e+01\n",
      "  8.15191498e+01 -8.82366257e+01 -1.70474172e-01 -2.20726028e+02\n",
      " -1.46828629e+02 -1.47762375e+02 -2.70863800e+01  3.39633598e+01\n",
      " -2.09574570e+02 -1.19612350e+02 -1.27088997e+02  1.25970444e+02], shape=(20,), dtype=float32)\n"
     ]
    }
   ],
   "source": [
    "time_step = per_arm_tf_env.step(action)\n",
    "print('\\nRewards after taking an action: ', time_step.reward) "
   ]
  },
  {
   "cell_type": "markdown",
   "id": "95c8c841-aa8d-46a1-9a4f-87bdfd98967b",
   "metadata": {
    "tags": []
   },
   "source": [
    "## LinUCB Agent"
   ]
  },
  {
   "cell_type": "code",
   "execution_count": 112,
   "id": "fcda6b14-b5a4-4fe2-a45e-d8eacca593a1",
   "metadata": {},
   "outputs": [
    {
     "data": {
      "text/plain": [
       "{'global': TensorSpec(shape=(64,), dtype=tf.float32, name=None),\n",
       " 'per_arm': TensorSpec(shape=(32, 64), dtype=tf.float32, name=None)}"
      ]
     },
     "execution_count": 112,
     "metadata": {},
     "output_type": "execute_result"
    }
   ],
   "source": [
    "observation_spec = per_arm_tf_env.observation_spec()\n",
    "observation_spec"
   ]
  },
  {
   "cell_type": "code",
   "execution_count": 113,
   "id": "644073c0-234b-4eef-b440-206f8cf17f5d",
   "metadata": {},
   "outputs": [
    {
     "data": {
      "text/plain": [
       "TimeStep(\n",
       "{'discount': BoundedTensorSpec(shape=(), dtype=tf.float32, name='discount', minimum=array(0., dtype=float32), maximum=array(1., dtype=float32)),\n",
       " 'observation': {'global': TensorSpec(shape=(64,), dtype=tf.float32, name=None),\n",
       "                 'per_arm': TensorSpec(shape=(32, 64), dtype=tf.float32, name=None)},\n",
       " 'reward': TensorSpec(shape=(), dtype=tf.float32, name='reward'),\n",
       " 'step_type': TensorSpec(shape=(), dtype=tf.int32, name='step_type')})"
      ]
     },
     "execution_count": 113,
     "metadata": {},
     "output_type": "execute_result"
    }
   ],
   "source": [
    "time_step_spec = ts.time_step_spec(observation_spec)\n",
    "time_step_spec"
   ]
  },
  {
   "cell_type": "code",
   "execution_count": 114,
   "id": "c682d4b6-dfa4-4643-a551-c8d985d2ccfe",
   "metadata": {},
   "outputs": [
    {
     "data": {
      "text/plain": [
       "BoundedTensorSpec(shape=(), dtype=tf.int32, name=None, minimum=array(0, dtype=int32), maximum=array(31, dtype=int32))"
      ]
     },
     "execution_count": 114,
     "metadata": {},
     "output_type": "execute_result"
    }
   ],
   "source": [
    "action_spec = tensor_spec.BoundedTensorSpec(\n",
    "    dtype=tf.int32, shape=(), minimum=0, maximum=NUM_ACTIONS - 1)\n",
    "\n",
    "action_spec"
   ]
  },
  {
   "cell_type": "code",
   "execution_count": 115,
   "id": "ef34f492-5b88-4f24-b783-e6f66b0b4b09",
   "metadata": {},
   "outputs": [
    {
     "data": {
      "text/plain": [
       "<tf_agents.bandits.agents.lin_ucb_agent.LinearUCBAgent at 0x7fc6dc1277c0>"
      ]
     },
     "execution_count": 115,
     "metadata": {},
     "output_type": "execute_result"
    }
   ],
   "source": [
    "agent = lin_ucb_agent.LinearUCBAgent(time_step_spec=time_step_spec,\n",
    "                                     action_spec=action_spec,\n",
    "                                     accepts_per_arm_features=True)\n",
    "\n",
    "agent"
   ]
  },
  {
   "cell_type": "markdown",
   "id": "371460d8-ec0c-4dbc-8bcd-b215026e46d9",
   "metadata": {},
   "source": [
    "### The Flow of Training Data"
   ]
  },
  {
   "cell_type": "code",
   "execution_count": 116,
   "id": "004cc79c-e06f-43f8-a3cc-e7efd4bdbe73",
   "metadata": {},
   "outputs": [
    {
     "name": "stdout",
     "output_type": "stream",
     "text": [
      "training data spec:  Trajectory(\n",
      "{'action': BoundedTensorSpec(shape=(), dtype=tf.int32, name=None, minimum=array(0, dtype=int32), maximum=array(31, dtype=int32)),\n",
      " 'discount': BoundedTensorSpec(shape=(), dtype=tf.float32, name='discount', minimum=array(0., dtype=float32), maximum=array(1., dtype=float32)),\n",
      " 'next_step_type': TensorSpec(shape=(), dtype=tf.int32, name='step_type'),\n",
      " 'observation': DictWrapper({'global': TensorSpec(shape=(64,), dtype=tf.float32, name=None)}),\n",
      " 'policy_info': PerArmPolicyInfo(log_probability=(), predicted_rewards_mean=(), multiobjective_scalarized_predicted_rewards_mean=(), predicted_rewards_optimistic=(), predicted_rewards_sampled=(), bandit_policy_type=(), chosen_arm_features=TensorSpec(shape=(64,), dtype=tf.float32, name=None)),\n",
      " 'reward': TensorSpec(shape=(), dtype=tf.float32, name='reward'),\n",
      " 'step_type': TensorSpec(shape=(), dtype=tf.int32, name='step_type')})\n"
     ]
    }
   ],
   "source": [
    "print('training data spec: ', agent.training_data_spec)"
   ]
  },
  {
   "cell_type": "code",
   "execution_count": 117,
   "id": "c434f70c-4d3f-4daf-9984-fb7376f939cb",
   "metadata": {},
   "outputs": [
    {
     "name": "stdout",
     "output_type": "stream",
     "text": [
      "observation spec in training:  {'global': TensorSpec(shape=(64,), dtype=tf.float32, name=None)}\n"
     ]
    }
   ],
   "source": [
    "print('observation spec in training: ', agent.training_data_spec.observation)"
   ]
  },
  {
   "cell_type": "code",
   "execution_count": 118,
   "id": "3dac50e6-7e14-48a0-b7fa-be7460651119",
   "metadata": {},
   "outputs": [
    {
     "name": "stdout",
     "output_type": "stream",
     "text": [
      "chosen arm features:  TensorSpec(shape=(64,), dtype=tf.float32, name=None)\n"
     ]
    }
   ],
   "source": [
    "print('chosen arm features: ', agent.training_data_spec.policy_info.chosen_arm_features)"
   ]
  },
  {
   "cell_type": "markdown",
   "id": "0c186b44-f193-4d27-ac7c-febfd2d59146",
   "metadata": {
    "jp-MarkdownHeadingCollapsed": true,
    "tags": []
   },
   "source": [
    "## Regret Metric\n",
    "\n",
    "Bandits' most important metric is **regret**, calculated as the difference between the reward collected by the agent and the expected reward of an oracle policy that has access to the reward functions of the environment. The [RegretMetric](https://github.com/tensorflow/agents/blob/master/tf_agents/bandits/metrics/tf_metrics.py) thus needs a `baseline_reward_fn` function that calculates the best achievable expected reward given an observation. For our example, we need to take the maximum of the no-noise equivalents of the reward functions that we already defined for the environment."
   ]
  },
  {
   "cell_type": "code",
   "execution_count": 139,
   "id": "05eb74f4-8bf6-4672-92c2-6465fe0f3b89",
   "metadata": {},
   "outputs": [],
   "source": [
    "def _all_rewards(observation, hidden_param):\n",
    "    \"\"\"Outputs rewards for all actions, given an observation.\"\"\"\n",
    "    hidden_param = tf.cast(hidden_param, dtype=tf.float32)\n",
    "    global_obs = observation['global']\n",
    "    per_arm_obs = observation['per_arm']\n",
    "    num_actions = tf.shape(per_arm_obs)[1]\n",
    "    tiled_global = tf.tile(\n",
    "        tf.expand_dims(global_obs, axis=1), [1, num_actions, 1])\n",
    "    concatenated = tf.concat([tiled_global, per_arm_obs], axis=-1)\n",
    "    rewards = tf.linalg.matvec(concatenated, hidden_param)\n",
    "    return rewards\n",
    "\n",
    "def optimal_reward(observation):\n",
    "    \"\"\"Outputs the maximum expected reward for every element in the batch.\"\"\"\n",
    "    return tf.reduce_max(_all_rewards(observation, reward_param), axis=1)\n",
    "\n",
    "regret_metric = tf_bandit_metrics.RegretMetric(optimal_reward)"
   ]
  },
  {
   "cell_type": "code",
   "execution_count": 142,
   "id": "abe4b217-d99d-43bb-a550-e0f0cf40efe5",
   "metadata": {},
   "outputs": [],
   "source": [
    "# ====================================================\n",
    "# metrics\n",
    "# ====================================================\n",
    "\n",
    "# `step_metric` records the number of individual rounds of bandit interaction;\n",
    "# that is, (number of trajectories) * batch_size.\n",
    "step_metric = tf_metrics.EnvironmentSteps()\n",
    "\n",
    "metrics = [\n",
    "    tf_metrics.NumberOfEpisodes(),\n",
    "    tf_metrics.AverageEpisodeLengthMetric(batch_size=per_arm_tf_env.batch_size)\n",
    "]\n",
    "\n",
    "if isinstance(per_arm_tf_env.reward_spec(), dict):\n",
    "    metrics += [\n",
    "        tf_metrics.AverageReturnMultiMetric(\n",
    "            reward_spec=per_arm_tf_env.reward_spec(),\n",
    "            batch_size=per_arm_tf_env.batch_size)\n",
    "    ]\n",
    "else:\n",
    "    metrics += [\n",
    "        tf_metrics.AverageReturnMetric(batch_size=per_arm_tf_env.batch_size)\n",
    "    ]"
   ]
  },
  {
   "cell_type": "code",
   "execution_count": 143,
   "id": "e01f2913-c226-4621-8c79-403b6459231d",
   "metadata": {},
   "outputs": [
    {
     "data": {
      "text/plain": [
       "[<tf_agents.metrics.tf_metrics.NumberOfEpisodes at 0x7fc684694970>,\n",
       " <tf_agents.metrics.tf_metrics.AverageEpisodeLengthMetric at 0x7fc6846b41c0>,\n",
       " <tf_agents.metrics.tf_metrics.AverageReturnMetric at 0x7fc68473cb20>]"
      ]
     },
     "execution_count": 143,
     "metadata": {},
     "output_type": "execute_result"
    }
   ],
   "source": [
    "metrics"
   ]
  },
  {
   "cell_type": "markdown",
   "id": "a4306485-4320-4e2a-91d5-a5890685ff3a",
   "metadata": {
    "tags": []
   },
   "source": [
    "## Train loop"
   ]
  },
  {
   "cell_type": "code",
   "execution_count": 144,
   "id": "739a1da2-3743-4050-b715-37bc224fe757",
   "metadata": {},
   "outputs": [
    {
     "name": "stdout",
     "output_type": "stream",
     "text": [
      "EXPERIMENT_NAME   : custom-neural-bandits-v1\n",
      "RUN_NAME          : run-20230720-062655\n",
      "LOG_DIR           : gs://mabv1-hybrid-vertex-bucket/custom-neural-bandits-v1/run-20230720-062655/tb-logs\n",
      "ROOT_DIR          : gs://mabv1-hybrid-vertex-bucket/custom-neural-bandits-v1/run-20230720-062655/root\n",
      "ARTIFACTS_DIR     : gs://mabv1-hybrid-vertex-bucket/custom-neural-bandits-v1/run-20230720-062655/artifacts\n"
     ]
    }
   ],
   "source": [
    "EXPERIMENT_NAME   = f'custom-neural-bandits-v1'\n",
    "\n",
    "invoke_time       = time.strftime(\"%Y%m%d-%H%M%S\")\n",
    "RUN_NAME          = f'run-{invoke_time}'\n",
    "\n",
    "LOG_DIR           = f\"{BUCKET_URI}/{EXPERIMENT_NAME}/{RUN_NAME}/tb-logs\"\n",
    "ROOT_DIR          = f\"{BUCKET_URI}/{EXPERIMENT_NAME}/{RUN_NAME}/root\"       # Root directory for writing logs/summaries/checkpoints.\n",
    "ARTIFACTS_DIR     = f\"{BUCKET_URI}/{EXPERIMENT_NAME}/{RUN_NAME}/artifacts\"  # Where the trained model will be saved and restored.\n",
    "\n",
    "aiplatform.init(\n",
    "    project=PROJECT_ID,\n",
    "    location=REGION,\n",
    "    experiment=EXPERIMENT_NAME\n",
    ")\n",
    "\n",
    "print(f\"EXPERIMENT_NAME   : {EXPERIMENT_NAME}\")\n",
    "print(f\"RUN_NAME          : {RUN_NAME}\")\n",
    "print(f\"LOG_DIR           : {LOG_DIR}\")\n",
    "print(f\"ROOT_DIR          : {ROOT_DIR}\")\n",
    "print(f\"ARTIFACTS_DIR     : {ARTIFACTS_DIR}\")"
   ]
  },
  {
   "cell_type": "code",
   "execution_count": 145,
   "id": "80ebdf80-0e48-4ddf-8793-ac4503615c3c",
   "metadata": {},
   "outputs": [],
   "source": [
    "num_iterations = 5 # @param\n",
    "steps_per_loop = 1 # @param"
   ]
  },
  {
   "cell_type": "code",
   "execution_count": 146,
   "id": "6897daca-3f31-4e0d-9069-ac4481fd24ab",
   "metadata": {},
   "outputs": [
    {
     "data": {
      "text/plain": [
       "<tf_agents.replay_buffers.tf_uniform_replay_buffer.TFUniformReplayBuffer at 0x7fc6846b43a0>"
      ]
     },
     "execution_count": 146,
     "metadata": {},
     "output_type": "execute_result"
    }
   ],
   "source": [
    "from tf_agents.replay_buffers import tf_uniform_replay_buffer\n",
    "\n",
    "replay_buffer = tf_uniform_replay_buffer.TFUniformReplayBuffer(\n",
    "    data_spec=agent.policy.trajectory_spec,\n",
    "    batch_size=BATCH_SIZE,\n",
    "    max_length=steps_per_loop)\n",
    "\n",
    "replay_buffer"
   ]
  },
  {
   "cell_type": "code",
   "execution_count": 147,
   "id": "1d8bf971-b1f6-41fa-8444-8db4a03476a9",
   "metadata": {},
   "outputs": [
    {
     "data": {
      "text/plain": [
       "[<bound method ReplayBuffer.add_batch of <tf_agents.replay_buffers.tf_uniform_replay_buffer.TFUniformReplayBuffer object at 0x7fc6846b43a0>>,\n",
       " <tf_agents.bandits.metrics.tf_metrics.RegretMetric at 0x7fc6847c7c40>,\n",
       " <tf_agents.metrics.tf_metrics.NumberOfEpisodes at 0x7fc684694970>,\n",
       " <tf_agents.metrics.tf_metrics.AverageEpisodeLengthMetric at 0x7fc6846b41c0>,\n",
       " <tf_agents.metrics.tf_metrics.AverageReturnMetric at 0x7fc68473cb20>]"
      ]
     },
     "execution_count": 147,
     "metadata": {},
     "output_type": "execute_result"
    }
   ],
   "source": [
    "# observers = [replay_buffer.add_batch, regret_metric]\n",
    "observers = [replay_buffer.add_batch, regret_metric] + metrics\n",
    "\n",
    "observers"
   ]
  },
  {
   "cell_type": "code",
   "execution_count": 148,
   "id": "f03ce6d9-aeaf-4ada-9050-9d00bcc8f03c",
   "metadata": {},
   "outputs": [
    {
     "data": {
      "text/plain": [
       "<tf_agents.drivers.dynamic_step_driver.DynamicStepDriver at 0x7fc684697b80>"
      ]
     },
     "execution_count": 148,
     "metadata": {},
     "output_type": "execute_result"
    }
   ],
   "source": [
    "driver = dynamic_step_driver.DynamicStepDriver(\n",
    "    env=per_arm_tf_env,\n",
    "    policy=agent.collect_policy,\n",
    "    num_steps=steps_per_loop * BATCH_SIZE,\n",
    "    observers=observers\n",
    ")\n",
    "\n",
    "driver"
   ]
  },
  {
   "cell_type": "code",
   "execution_count": 155,
   "id": "7fff7310-abba-4a78-98e4-f4430e5f9eec",
   "metadata": {},
   "outputs": [
    {
     "name": "stdout",
     "output_type": "stream",
     "text": [
      "num_iterations = 5\n",
      "steps_per_loop = 1\n"
     ]
    }
   ],
   "source": [
    "print(f\"num_iterations = {num_iterations}\")\n",
    "print(f\"steps_per_loop = {steps_per_loop}\")"
   ]
  },
  {
   "cell_type": "code",
   "execution_count": 156,
   "id": "93fa5824-bff4-453e-8fe3-954569f4c305",
   "metadata": {},
   "outputs": [],
   "source": [
    "from tf_agents.eval import metric_utils\n",
    "from tf_agents.metrics import export_utils\n",
    "from src.per_arm_rl import train_utils\n",
    "\n",
    "def train_perarm(\n",
    "    num_iterations: int,\n",
    "    steps_per_loop: int,\n",
    "    start_profiling_step: int,\n",
    "    stop_profiling_step: int,\n",
    "    profiling_log_dir: str,\n",
    "    log_interval: int = 1,\n",
    "    additional_metrics: Optional[List[TFStepMetric]] = None,\n",
    ") -> Dict[str, List[float]]:\n",
    "\n",
    "    metrics = []\n",
    "    if additional_metrics:\n",
    "        metrics += additional_metrics\n",
    "\n",
    "    # Store intermediate metric results, indexed by metric names.\n",
    "    metric_results = defaultdict(list)\n",
    "\n",
    "    # ====================================================\n",
    "    # train loop\n",
    "    # ====================================================\n",
    "    @tf.function(autograph=False)\n",
    "    def train_step():\n",
    "        return agent.train(replay_buffer.gather_all())\n",
    "\n",
    "    regret_values = []\n",
    "    # log_interval = 1\n",
    "\n",
    "    #start the timer and training\n",
    "    print(f\"starting train loop...\")\n",
    "    start_time = time.time()\n",
    "\n",
    "    for step in range(num_iterations):\n",
    "        \n",
    "        start_step_time = time.time()\n",
    "        \n",
    "        if step == start_profiling_step:\n",
    "            print(f\"profiler initialized...\")\n",
    "            tf.profiler.experimental.start(logdir=profiling_log_dir)\n",
    "        if step == stop_profiling_step:\n",
    "            print(f\"stopping profiler...\")\n",
    "            tf.profiler.experimental.stop(save=True)\n",
    "            \n",
    "        driver.run()\n",
    "\n",
    "        train_utils._export_metrics_and_summaries(\n",
    "            step=step, metrics=metrics\n",
    "        )\n",
    "        # loss_info = agent.train(replay_buffer.gather_all())\n",
    "        loss_info = train_step()\n",
    "\n",
    "        replay_buffer.clear()\n",
    "        regret_values.append(regret_metric.result())\n",
    "\n",
    "        step_time = int((time.time() - start_step_time) / 60)\n",
    "        if log_interval and step % log_interval == 0:\n",
    "            print('step = {0}: loss = {1}; execution time: {2}'.format(step, round(loss_info.loss.numpy(), 2), step_time))\n",
    "\n",
    "        export_utils.export_metrics(\n",
    "            step=step,\n",
    "            metrics=[],\n",
    "            loss_info=loss_info\n",
    "        )\n",
    "\n",
    "        metric_utils.log_metrics(metrics)\n",
    "        for metric in metrics:\n",
    "            metric.tf_summaries(train_step=step_metric.result())\n",
    "            metric_results[type(metric).__name__].append(metric.result().numpy())\n",
    "\n",
    "        # print(f\"step: {step} completed in {step_time}\")\n",
    "\n",
    "    runtime_mins = int((time.time() - start_time) / 60)\n",
    "    print(f\"runtime_mins: {runtime_mins}\")\n",
    "    \n",
    "    # return metric_results\n",
    "    return metric_results, regret_values"
   ]
  },
  {
   "cell_type": "code",
   "execution_count": 157,
   "id": "e2f3630c-d9e1-4166-92a2-9c8d5edd50f9",
   "metadata": {},
   "outputs": [
    {
     "name": "stdout",
     "output_type": "stream",
     "text": [
      "starting train loop...\n",
      "step = 0: loss = 5368.83984375; execution time: 2\n",
      "profiler initialized...\n",
      "step = 1: loss = 7839.43994140625; execution time: 2\n",
      "stopping profiler...\n",
      "step = 2: loss = 11010.3798828125; execution time: 2\n",
      "step = 3: loss = 18516.009765625; execution time: 2\n",
      "step = 4: loss = 10113.4296875; execution time: 2\n",
      "runtime_mins: 12\n",
      "defaultdict(<class 'list'>,\n",
      "            {'AverageEpisodeLengthMetric': [1.0, 1.0, 1.0, 1.0, 1.0],\n",
      "             'AverageReturnMetric': [36.403503,\n",
      "                                     10.014593,\n",
      "                                     60.466473,\n",
      "                                     116.35649,\n",
      "                                     -44.669456],\n",
      "             'NumberOfEpisodes': [20, 40, 60, 80, 100],\n",
      "             'RegretMetric': [-37.04702,\n",
      "                              -8.980457,\n",
      "                              -39.605476,\n",
      "                              -59.219067,\n",
      "                              31.753143]})\n"
     ]
    }
   ],
   "source": [
    "\n",
    "metric_results, regret_values = train_perarm(\n",
    "    num_iterations = num_iterations,\n",
    "    steps_per_loop = steps_per_loop,\n",
    "    start_profiling_step=1,\n",
    "    stop_profiling_step=2,\n",
    "    log_interval = 1,\n",
    "    additional_metrics = [regret_metric] + metrics,\n",
    "    profiling_log_dir=LOG_DIR\n",
    ")\n",
    "\n",
    "pprint(metric_results)"
   ]
  },
  {
   "cell_type": "markdown",
   "id": "1e990656-89af-4b23-8cda-fa200632f1a6",
   "metadata": {},
   "source": [
    "### Plot eval metrics"
   ]
  },
  {
   "cell_type": "code",
   "execution_count": 161,
   "id": "772cff65-c9bf-4321-b3d1-0172a74290ee",
   "metadata": {},
   "outputs": [],
   "source": [
    "# plt.plot(regret_values)\n",
    "# plt.title('Regret of LinUCB on the Linear per-arm environment')\n",
    "# plt.xlabel('Number of Iterations')\n",
    "# _ = plt.ylabel('Average Regret')"
   ]
  },
  {
   "cell_type": "code",
   "execution_count": 158,
   "id": "095a821d-27df-4886-8b07-7c72ef26876f",
   "metadata": {},
   "outputs": [],
   "source": [
    "def plot(metric_results, metric_name):\n",
    "    plt.plot(metric_results[metric_name])\n",
    "    plt.ylabel(metric_name)\n",
    "    plt.xlabel(\"Step\")\n",
    "    plt.title(\"{} versus Step\".format(metric_name))"
   ]
  },
  {
   "cell_type": "code",
   "execution_count": 159,
   "id": "ac3b6e37-9538-4ff6-9ef3-c24fb06b1cad",
   "metadata": {},
   "outputs": [
    {
     "data": {
      "image/png": "[encoded data removed]",
      "text/plain": [
       "<Figure size 640x480 with 1 Axes>"
      ]
     },
     "metadata": {},
     "output_type": "display_data"
    }
   ],
   "source": [
    "plot(metric_results, \"RegretMetric\")"
   ]
  },
  {
   "cell_type": "code",
   "execution_count": 160,
   "id": "c9f3c22c-2070-41bf-8d5d-8d3b659a1f3f",
   "metadata": {},
   "outputs": [
    {
     "data": {
      "image/png": "[encoded data removed]",
      "text/plain": [
       "<Figure size 640x480 with 1 Axes>"
      ]
     },
     "metadata": {},
     "output_type": "display_data"
    }
   ],
   "source": [
    "plot(metric_results, \"AverageReturnMetric\")"
   ]
  },
  {
   "cell_type": "markdown",
   "id": "d9e65af9-4d19-4d26-842f-c3424cf2226e",
   "metadata": {},
   "source": [
    "### TensorBoard"
   ]
  },
  {
   "cell_type": "code",
   "execution_count": null,
   "id": "679e36dd-32a9-40d5-8760-fb434dfae893",
   "metadata": {},
   "outputs": [],
   "source": [
    "%load_ext tensorboard\n",
    "# %reload_ext tensorboard"
   ]
  },
  {
   "cell_type": "code",
   "execution_count": null,
   "id": "53af5d94-3f6f-47c4-b477-69059e6d1052",
   "metadata": {},
   "outputs": [],
   "source": [
    "%tensorboard --logdir=$LOG_DIR"
   ]
  },
  {
   "cell_type": "markdown",
   "id": "7e4b7c9c-23d2-45dd-935e-2776b15424ff",
   "metadata": {},
   "source": [
    "# Encoding Network(s)"
   ]
  },
  {
   "cell_type": "markdown",
   "id": "abe1ae91-3c9a-4858-91db-d93045177acd",
   "metadata": {},
   "source": [
    "An actor policy can be created using either:\n",
    "* a network that maps `time_steps` to `actions` \n",
    "* or a network that maps `time_steps` to *distributions* over `actions`.\n",
    "\n",
    "**Main Networks:**\n",
    "* `ActorNetworks`: Learn a mapping from observations to actions. These networks are usually used by our policies to generate actions.\n",
    "* `ActorDistributionNetworks`: Similar to ActorNetworks but these generate a distribution which a policy can then sample to generate actions.\n",
    "\n",
    "**Helper Networks**\n",
    "* `EncodingNetwork`: Allows users to easily define a mapping of pre-processing layers to apply to a network's input.\n",
    "\n",
    "> see all `Network` types and details in the [Networks tutorial](https://www.tensorflow.org/agents/tutorials/8_networks_tutorial#encodingnetwork)"
   ]
  },
  {
   "cell_type": "code",
   "execution_count": 39,
   "id": "55354b92-62a6-402e-bc15-1a47b883a84e",
   "metadata": {},
   "outputs": [],
   "source": [
    "from tf_agents.networks import network\n",
    "from tf_agents.networks import encoding_network\n",
    "from tf_agents.utils import nest_utils\n",
    "from tf_agents.utils import common as common_utils\n",
    "from tf_agents.networks import utils\n",
    "from tf_agents.bandits.specs import utils as bandit_spec_utils\n",
    "\n",
    "from tf_agents.trajectories import time_step\n",
    "from tf_agents.bandits.agents import neural_linucb_agent\n",
    "from tf_agents.bandits.networks import global_and_arm_feature_network\n",
    "\n",
    "from src.per_arm_rl import train_utils"
   ]
  },
  {
   "cell_type": "markdown",
   "id": "63b70e09-e3ba-465c-bf19-0505134185ea",
   "metadata": {},
   "source": [
    "## feed foward common tower network"
   ]
  },
  {
   "cell_type": "markdown",
   "id": "90bcfd9c-269f-4a98-aa37-8744fa94a65b",
   "metadata": {
    "tags": []
   },
   "source": [
    "* The network produced by this function can be used either in `GreedyRewardPredictionPolicy`, or `NeuralLinUCBPolicy`\n",
    "* `GreedyRewardPredictionPolicy`: the network must have `output_dim=1`, it is going to be an instance of QNetwork, and used in the policy as a reward prediction network. \n",
    "* `NeuralLinUCBPolicy`: the network will be an encoding network with its output consumed by a reward layer or a `LinUCB` method. The specified output_dim will be the encoding dimension.\n",
    "\n",
    "\n",
    "**TODO:**\n",
    "* consider problem framing, predicting:\n",
    ">* (1) click vs no-click(`GreedyReward`)\n",
    ">* (2) categorical rating [`1...n`] (`NeuralLinUCB`)"
   ]
  },
  {
   "cell_type": "markdown",
   "id": "3675c07d-68fd-402f-9c3e-39d143693d51",
   "metadata": {},
   "source": [
    "### set parameters"
   ]
  },
  {
   "cell_type": "code",
   "execution_count": 40,
   "id": "0ca02c19-3bc2-4beb-bfd3-72323e5fa197",
   "metadata": {},
   "outputs": [
    {
     "name": "stdout",
     "output_type": "stream",
     "text": [
      "16\n",
      "16\n"
     ]
    }
   ],
   "source": [
    "GLOBAL_DIM = global_con.shape[0]\n",
    "PER_ARM_DIM = global_arm.shape[0]\n",
    "print(GLOBAL_DIM)\n",
    "print(PER_ARM_DIM)\n",
    "\n",
    "# reward_param = list(\n",
    "#     np.random.randint(1, 5, [GLOBAL_DIM + PER_ARM_DIM])\n",
    "# )\n",
    "\n",
    "# pprint(len(reward_param))"
   ]
  },
  {
   "cell_type": "code",
   "execution_count": 41,
   "id": "3392a1bd-8260-4b75-9733-808cbdd4babc",
   "metadata": {},
   "outputs": [],
   "source": [
    "# Environment and driver parameters.\n",
    "BATCH_SIZE     = 16\n",
    "NUM_ACTIONS    = 5\n",
    "HIDDEN_PARAM   = 1 # [1.0, 2.0, 3.0, 4.0, 5.0]\n",
    "TRAINING_LOOPS = 5\n",
    "STEPS_PER_LOOP = 2\n",
    "\n",
    "# Parameters for linear agents (LinUCB and LinTS).\n",
    "AGENT_ALPHA    = 0.1\n",
    "\n",
    "# Parameters for neural agents (NeuralEpsGreedy and NerualLinUCB)\n",
    "EPSILON        = 0.01\n",
    "LR             = 0.05\n",
    "\n",
    "# Parameters for NeuralLinUCB. ENCODING_DIM is the output dimension of the\n",
    "# encoding network. This output will be used by either a linear reward layer and\n",
    "# epsilon greedy exploration, or by a LinUCB logic, depending on the number of\n",
    "# training steps executed so far. If the number of steps is less than or equal\n",
    "# to EPS_PHASE_STEPS, epsilon greedy is used, otherwise LinUCB.\n",
    "\n",
    "ENCODING_DIM    = 9 \n",
    "EPS_PHASE_STEPS = 1000"
   ]
  },
  {
   "cell_type": "markdown",
   "id": "ea5b39a3-a001-493b-94c5-08ea9218e457",
   "metadata": {},
   "source": [
    "### define reward function"
   ]
  },
  {
   "cell_type": "code",
   "execution_count": 42,
   "id": "2519473b-8737-4d7c-a8c0-f32d701c2f10",
   "metadata": {},
   "outputs": [],
   "source": [
    "# class LinearNormalReward(object):\n",
    "\n",
    "#     def __init__(self, theta):\n",
    "#         self.theta = theta\n",
    "\n",
    "#     def __call__(self, x):\n",
    "#         mu = np.dot(x, self.theta)\n",
    "#         return np.random.normal(mu, 1)\n",
    "\n",
    "def _get_rewards(element):\n",
    "    \"\"\"Calculates reward for the actions.\"\"\"\n",
    "    x = tf.cast(element['user_rating'], tf.float32)\n",
    "    return x"
   ]
  },
  {
   "cell_type": "code",
   "execution_count": 43,
   "id": "b2eaa152-afa0-46b6-9f42-0b4791bb44f9",
   "metadata": {},
   "outputs": [],
   "source": [
    "# _reward_fn = LinearNormalReward(HIDDEN_PARAM)"
   ]
  },
  {
   "cell_type": "markdown",
   "id": "45a7d87c-ca82-4553-a70a-fe07a2274237",
   "metadata": {},
   "source": [
    "### define input functions"
   ]
  },
  {
   "cell_type": "code",
   "execution_count": 44,
   "id": "04b9abfc-d9d5-48ec-894e-083114625891",
   "metadata": {},
   "outputs": [],
   "source": [
    "# # use functions from previous step\n",
    "# global_con = global_context_sampling_fn()\n",
    "# print(global_con.shape)\n",
    "# # global_con"
   ]
  },
  {
   "cell_type": "code",
   "execution_count": 45,
   "id": "c2eadbb6-c3e6-4304-b9af-b0f54e5a0676",
   "metadata": {},
   "outputs": [],
   "source": [
    "# global_arm = per_arm_context_sampling_fn()\n",
    "# print(global_arm.shape)\n",
    "# # global_arm"
   ]
  },
  {
   "cell_type": "markdown",
   "id": "8029cb3f-01f1-4edb-b44f-03bcecb0cecc",
   "metadata": {},
   "source": [
    "### define preprocessing combiner functions"
   ]
  },
  {
   "cell_type": "code",
   "execution_count": 46,
   "id": "e69dd69a-25aa-4dea-a35e-5a106d64d762",
   "metadata": {},
   "outputs": [],
   "source": [
    "# def _get_arm_feature_preprocess_layer(hparams):\n",
    "#     \"\"\"Returns arm feature preprocessing layer.\"\"\"\n",
    "#     inputs = []\n",
    "#     features = []\n",
    "#     embedding_configs = [\n",
    "#       _EmbeddingConfig('ad_block_key', tf.int64, hparams.docid_embedding_dim),\n",
    "#   ]\n",
    "#   for embedding_config in embedding_configs:\n",
    "#     input_feature = tf.keras.Input(\n",
    "#         name=embedding_config.feature_key,\n",
    "#         shape=(3,),\n",
    "#         dtype=embedding_config.dtype)\n",
    "#     tf.keras.backend.print_tensor(input_feature)\n",
    "#     embedding_input = tf.keras.layers.Embedding(\n",
    "#         input_dim=1000*1000, output_dim=embedding_config.embedding_dim)(\n",
    "#             input_feature)\n",
    "#     embedding_input = tf.reduce_sum(embedding_input, axis=-2)\n",
    "#     inputs.append(input_feature)\n",
    "#     features.append(embedding_input)\n",
    "#   # outputs = tf.keras.layers.concatenate(features, axis=-1)\n",
    "#   return tf.keras.Model(inputs=inputs, outputs=features[0])"
   ]
  },
  {
   "cell_type": "markdown",
   "id": "3762e9da-ac02-4a3c-ad9b-7cb163a0f052",
   "metadata": {},
   "source": [
    "### num actions"
   ]
  },
  {
   "cell_type": "code",
   "execution_count": 47,
   "id": "2925da7a-ee08-46a9-a323-9ee7345f63c3",
   "metadata": {},
   "outputs": [],
   "source": [
    "observation_and_action_constraint_splitter = None\n",
    "\n",
    "# In case `num_action_fn` is specified, the number of actions will be dynamic\n",
    "# and a `num_actions` feature key indicates the number of actions in any given\n",
    "# sample\n",
    "\n",
    "# _num_actions_fn = lambda: NUM_ACTIONS\n",
    "_num_actions_fn = None"
   ]
  },
  {
   "cell_type": "markdown",
   "id": "84f326d7-8025-4cb0-b63a-8e55185e7a9c",
   "metadata": {},
   "source": [
    "### set environment "
   ]
  },
  {
   "cell_type": "code",
   "execution_count": 48,
   "id": "4a8e0705-9766-4219-a873-b7e315eb1d6d",
   "metadata": {},
   "outputs": [],
   "source": [
    "from tf_agents.bandits.environments import stationary_stochastic_per_arm_py_environment as sspe\n",
    "\n",
    "env = sspe.StationaryStochasticPerArmPyEnvironment(\n",
    "    global_context_sampling_fn = global_context_sampling_fn,\n",
    "    arm_context_sampling_fn = per_arm_context_sampling_fn,\n",
    "    max_num_actions = NUM_ACTIONS,\n",
    "    reward_fn = _get_rewards, #_reward_fn,\n",
    "    num_actions_fn = _num_actions_fn,\n",
    "    batch_size = BATCH_SIZE\n",
    ")\n",
    "\n",
    "environment = tf_py_environment.TFPyEnvironment(env)"
   ]
  },
  {
   "cell_type": "markdown",
   "id": "0bc47722-faf1-4e0a-b7c3-9320de851671",
   "metadata": {},
   "source": [
    "### observation spec"
   ]
  },
  {
   "cell_type": "code",
   "execution_count": 49,
   "id": "8bdea850-d410-46ad-bac4-2a9b42f64b18",
   "metadata": {},
   "outputs": [
    {
     "data": {
      "text/plain": [
       "{'global': TensorSpec(shape=(16,), dtype=tf.float32, name=None),\n",
       " 'per_arm': TensorSpec(shape=(5, 16), dtype=tf.float32, name=None)}"
      ]
     },
     "execution_count": 49,
     "metadata": {},
     "output_type": "execute_result"
    }
   ],
   "source": [
    "observation_spec = environment.observation_spec()\n",
    "observation_spec"
   ]
  },
  {
   "cell_type": "markdown",
   "id": "d0e6aa81-f5db-49a9-b5b0-0addef60dccc",
   "metadata": {},
   "source": [
    "### define network"
   ]
  },
  {
   "cell_type": "code",
   "execution_count": 50,
   "id": "9a4955ab-14b9-4f60-b7f4-d52adee5a4fa",
   "metadata": {},
   "outputs": [],
   "source": [
    "# create_feed_forward_common_tower_network(\n",
    "#     obs_spec, \n",
    "#     (40, 30), \n",
    "#     (30, 40), \n",
    "#     (40, 20), \n",
    "#     ENCODING_DIM\n",
    "# )"
   ]
  },
  {
   "cell_type": "code",
   "execution_count": 51,
   "id": "e6dfdf83-327a-4d2e-90b4-cab49a347af0",
   "metadata": {},
   "outputs": [
    {
     "name": "stdout",
     "output_type": "stream",
     "text": [
      "LAYERS           : (20, 20)\n",
      "GLOBAL_INPUT_DIM : 16\n",
      "ARM_INPUT_DIM    : 16\n",
      "OUTPUT_DIM       : 16\n",
      "GLOBAL_LAYERS    : [16, 16]\n",
      "ARM_LAYERS       : [16, 16]\n",
      "COMMON_LAYERS    : [4]\n"
     ]
    }
   ],
   "source": [
    "LAYERS = (20, 20)\n",
    "\n",
    "GLOBAL_INPUT_DIM = global_con.shape[0]\n",
    "ARM_INPUT_DIM = global_arm.shape[0]\n",
    "\n",
    "OUTPUT_DIM = 16 #5\n",
    "\n",
    "# GLOBAL_LAYERS = [GLOBAL_INPUT_DIM, 32, OUTPUT_DIM]\n",
    "# ARM_LAYERS = [ARM_INPUT_DIM, 32, OUTPUT_DIM]\n",
    "GLOBAL_LAYERS = [GLOBAL_INPUT_DIM, OUTPUT_DIM]\n",
    "ARM_LAYERS = [ARM_INPUT_DIM, OUTPUT_DIM]\n",
    "\n",
    "COMMON_LAYERS = [4]\n",
    "\n",
    "print(f\"LAYERS           : {LAYERS}\")\n",
    "print(f\"GLOBAL_INPUT_DIM : {GLOBAL_INPUT_DIM}\")\n",
    "print(f\"ARM_INPUT_DIM    : {ARM_INPUT_DIM}\")\n",
    "print(f\"OUTPUT_DIM       : {OUTPUT_DIM}\")\n",
    "print(f\"GLOBAL_LAYERS    : {GLOBAL_LAYERS}\")\n",
    "print(f\"ARM_LAYERS       : {ARM_LAYERS}\")\n",
    "print(f\"COMMON_LAYERS    : {COMMON_LAYERS}\")"
   ]
  },
  {
   "cell_type": "code",
   "execution_count": 52,
   "id": "9923a644-9bac-48a9-b48d-2c8ef996e1a3",
   "metadata": {},
   "outputs": [],
   "source": [
    "from tf_agents.bandits.networks import global_and_arm_feature_network\n",
    "\n",
    "activation_fn = tf.keras.activations.relu\n",
    "\n",
    "network = (\n",
    "    global_and_arm_feature_network.create_feed_forward_common_tower_network(\n",
    "        observation_spec=observation_spec,\n",
    "        global_layers=GLOBAL_LAYERS,\n",
    "        arm_layers=ARM_LAYERS,\n",
    "        common_layers=COMMON_LAYERS,\n",
    "        output_dim=OUTPUT_DIM,\n",
    "        # global_preprocessing_combiner=global_preprocessing_combiner, # TODO\n",
    "        # arm_preprocessing_combiner=arm_preprocessing_combiner,       # TODO\n",
    "        activation_fn=activation_fn,\n",
    "        name=\"ff_common_tower_nn\"\n",
    "    )\n",
    ")\n",
    "\n",
    "# network = (\n",
    "#     global_and_arm_feature_network.create_feed_forward_dot_product_network(\n",
    "#         observation_spec=observation_spec,\n",
    "#         global_layers=GLOBAL_LAYERS,\n",
    "#         arm_layers=ARM_LAYERS,\n",
    "#         # activation_fn=activation_fn, # defaults to ReLu\n",
    "#         # name=\"ff_common_dot_tower_nn\"\n",
    "#     )\n",
    "# )"
   ]
  },
  {
   "cell_type": "code",
   "execution_count": 53,
   "id": "dadb0ead-0822-4262-a605-3dd62e142743",
   "metadata": {},
   "outputs": [
    {
     "name": "stdout",
     "output_type": "stream",
     "text": [
      "0 EncodingNetwork\n",
      "1 EncodingNetwork\n",
      "2 EncodingNetwork\n"
     ]
    }
   ],
   "source": [
    "# network.layers\n",
    "for i, l in enumerate(network.layers):\n",
    "    print(i, l.name)"
   ]
  },
  {
   "cell_type": "markdown",
   "id": "69dc6f66-6803-46fd-9ea4-3d2832f687bb",
   "metadata": {},
   "source": [
    "### define agent"
   ]
  },
  {
   "cell_type": "code",
   "execution_count": 54,
   "id": "cd7d73ce-6016-4054-8294-d47b294fa4e3",
   "metadata": {},
   "outputs": [],
   "source": [
    "from tf_agents.bandits.agents import neural_linucb_agent\n",
    "\n",
    "ENCODE_NETWORK_NUM_TRAIN_STEPS = 4\n",
    "OPTIMIZER = tf.compat.v1.train.AdamOptimizer(learning_rate=LR)\n",
    "\n",
    "# An agent implementing the LinUCB algorithm on top of a neural network\n",
    "neural_agent = neural_linucb_agent.NeuralLinUCBAgent(\n",
    "    time_step_spec=environment.time_step_spec(),\n",
    "    action_spec=environment.action_spec(),\n",
    "    encoding_network=network,\n",
    "    encoding_network_num_train_steps=ENCODE_NETWORK_NUM_TRAIN_STEPS,\n",
    "    encoding_dim=OUTPUT_DIM,\n",
    "    optimizer=OPTIMIZER,\n",
    "    accepts_per_arm_features=True\n",
    ")\n",
    "\n",
    "# TODO: args for selecting network and agent per \"dotproduct\" or \"feedforward\"\n",
    "# agent = neural_epsilon_greedy_agent.NeuralEpsilonGreedyAgent(\n",
    "#     time_step_spec=environment.time_step_spec(),\n",
    "#     action_spec=environment.action_spec(),\n",
    "#     reward_network=network,\n",
    "#     optimizer=tf.compat.v1.train.AdamOptimizer(learning_rate=LR),\n",
    "#     epsilon=EPSILON,\n",
    "#     observation_and_action_constraint_splitter=(\n",
    "#         observation_and_action_constraint_splitter),\n",
    "#     accepts_per_arm_features=True,\n",
    "#     emit_policy_info=policy_utilities.InfoFields.PREDICTED_REWARDS_MEAN)"
   ]
  },
  {
   "cell_type": "code",
   "execution_count": 55,
   "id": "94ce7bdc-44ff-49b5-ad42-d37569b990e7",
   "metadata": {},
   "outputs": [
    {
     "name": "stdout",
     "output_type": "stream",
     "text": [
      "training data spec:  Trajectory(\n",
      "{'action': BoundedTensorSpec(shape=(), dtype=tf.int32, name='action', minimum=array(0, dtype=int32), maximum=array(4, dtype=int32)),\n",
      " 'discount': BoundedTensorSpec(shape=(), dtype=tf.float32, name='discount', minimum=array(0., dtype=float32), maximum=array(1., dtype=float32)),\n",
      " 'next_step_type': TensorSpec(shape=(), dtype=tf.int32, name='step_type'),\n",
      " 'observation': DictWrapper({'global': TensorSpec(shape=(16,), dtype=tf.float32, name=None)}),\n",
      " 'policy_info': PerArmPolicyInfo(log_probability=(), predicted_rewards_mean=(), multiobjective_scalarized_predicted_rewards_mean=(), predicted_rewards_optimistic=(), predicted_rewards_sampled=(), bandit_policy_type=(), chosen_arm_features=TensorSpec(shape=(16,), dtype=tf.float32, name=None)),\n",
      " 'reward': TensorSpec(shape=(), dtype=tf.float32, name='reward'),\n",
      " 'step_type': TensorSpec(shape=(), dtype=tf.int32, name='step_type')})\n"
     ]
    }
   ],
   "source": [
    "print('training data spec: ', neural_agent.training_data_spec)"
   ]
  },
  {
   "cell_type": "code",
   "execution_count": 56,
   "id": "0c2476ed-215f-4039-a0db-f3c2ebe5bb46",
   "metadata": {},
   "outputs": [
    {
     "name": "stdout",
     "output_type": "stream",
     "text": [
      "observation spec in training:  {'global': TensorSpec(shape=(16,), dtype=tf.float32, name=None)}\n"
     ]
    }
   ],
   "source": [
    "print('observation spec in training: ', neural_agent.training_data_spec.observation)"
   ]
  },
  {
   "cell_type": "code",
   "execution_count": 57,
   "id": "f25c145a-2802-421f-8fe0-c339f539d3d9",
   "metadata": {},
   "outputs": [
    {
     "name": "stdout",
     "output_type": "stream",
     "text": [
      "chosen arm features:  TensorSpec(shape=(16,), dtype=tf.float32, name=None)\n"
     ]
    }
   ],
   "source": [
    "print('chosen arm features: ', neural_agent.training_data_spec.policy_info.chosen_arm_features)"
   ]
  },
  {
   "cell_type": "markdown",
   "id": "a60765cd-4ad2-4d8c-badf-6e3919481073",
   "metadata": {},
   "source": [
    "### all rewards function"
   ]
  },
  {
   "cell_type": "code",
   "execution_count": 58,
   "id": "3acb2b2b-6f15-4c19-87e1-4c412039c62a",
   "metadata": {},
   "outputs": [],
   "source": [
    "# per_arm_obs_test = observation_spec[bandit_spec_utils.PER_ARM_FEATURE_KEY]\n",
    "# # per_arm_obs_test = tf.shape(per_arm_obs_test)[1]\n",
    "# per_arm_obs_test"
   ]
  },
  {
   "cell_type": "code",
   "execution_count": 59,
   "id": "83c65723-54c1-4f8c-ab30-0d757f18163e",
   "metadata": {},
   "outputs": [],
   "source": [
    "def _all_rewards(observation, hidden_param):\n",
    "    \n",
    "    \"\"\"\n",
    "    Outputs rewards for all actions, given an observation\n",
    "    \"\"\"\n",
    "    hidden_param = tf.cast(hidden_param, dtype=tf.float32)\n",
    "    global_obs = observation[bandit_spec_utils.GLOBAL_FEATURE_KEY]\n",
    "    per_arm_obs = observation[bandit_spec_utils.PER_ARM_FEATURE_KEY]\n",
    "    num_actions = tf.shape(per_arm_obs)[1]\n",
    "    tiled_global = tf.tile(\n",
    "        tf.expand_dims(global_obs, axis=1), [1, num_actions, 1])\n",
    "    concatenated = tf.concat([tiled_global, per_arm_obs], axis=-1)\n",
    "    rewards = tf.linalg.matvec(concatenated, hidden_param)\n",
    "    return rewards\n",
    "\n",
    "def optimal_reward(observation, hidden_param):\n",
    "    return tf.reduce_max(_all_rewards(observation, hidden_param), axis=1)\n",
    "\n",
    "def optimal_action(observation, hidden_param):\n",
    "    return tf.argmax(\n",
    "        _all_rewards(observation, hidden_param), axis=1, output_type=tf.int32)"
   ]
  },
  {
   "cell_type": "code",
   "execution_count": 60,
   "id": "884112f1-beaa-4137-a399-458d546bf8d9",
   "metadata": {},
   "outputs": [],
   "source": [
    "optimal_reward_fn = functools.partial(\n",
    "      optimal_reward, hidden_param=HIDDEN_PARAM\n",
    ")\n",
    "\n",
    "optimal_action_fn = functools.partial(\n",
    "      optimal_action, hidden_param=HIDDEN_PARAM\n",
    ")\n",
    "\n",
    "regret_metric = tf_bandit_metrics.RegretMetric(optimal_reward_fn)\n",
    "\n",
    "suboptimal_arms_metric = tf_bandit_metrics.SuboptimalArmsMetric(\n",
    "      optimal_action_fn)"
   ]
  },
  {
   "cell_type": "code",
   "execution_count": 61,
   "id": "9583c8c9-8b5b-40e6-bc30-9a4e626030c2",
   "metadata": {},
   "outputs": [],
   "source": [
    "drop_arm_feature_fn = None"
   ]
  },
  {
   "cell_type": "markdown",
   "id": "82666071-1f04-4bae-a711-048750fc4ed4",
   "metadata": {},
   "source": [
    "### replay buffer"
   ]
  },
  {
   "cell_type": "code",
   "execution_count": 62,
   "id": "1ab29fae-987d-4ff9-bb0a-abc96f6487ba",
   "metadata": {},
   "outputs": [],
   "source": [
    "AGENT_CHECKPOINT_NAME = 'agent'\n",
    "STEP_CHECKPOINT_NAME = 'step'\n",
    "CHECKPOINT_FILE_PREFIX = 'ckpt'"
   ]
  },
  {
   "cell_type": "code",
   "execution_count": 63,
   "id": "3bb4130b-ed7c-4ab3-b77f-097fea5db2af",
   "metadata": {},
   "outputs": [],
   "source": [
    "def _get_replay_buffer(\n",
    "    data_spec, batch_size, steps_per_loop, async_steps_per_loop\n",
    "):\n",
    "    \n",
    "    \"\"\"Return a `TFUniformReplayBuffer` for the given `agent`.\"\"\"\n",
    "    return bandit_replay_buffer.BanditReplayBuffer(\n",
    "        data_spec=data_spec,\n",
    "        batch_size=batch_size,\n",
    "        max_length=steps_per_loop * async_steps_per_loop\n",
    "    )\n",
    "\n",
    "\n",
    "def set_expected_shape(experience, num_steps):\n",
    "    \"\"\"Sets expected shape.\"\"\"\n",
    "    def set_time_dim(input_tensor, steps):\n",
    "        tensor_shape = input_tensor.shape.as_list()\n",
    "        if len(tensor_shape) < 2:\n",
    "            raise ValueError(\n",
    "                'input_tensor is expected to be of rank-2, but found otherwise: '\n",
    "                f'input_tensor={input_tensor}, tensor_shape={tensor_shape}'\n",
    "            )\n",
    "        tensor_shape[1] = steps\n",
    "        input_tensor.set_shape(tensor_shape)\n",
    "    tf.nest.map_structure(lambda t: set_time_dim(t, num_steps), experience)"
   ]
  },
  {
   "cell_type": "markdown",
   "id": "a0fc4c71-4981-43ce-acd0-1d7d6d59167f",
   "metadata": {},
   "source": [
    "### define training loop"
   ]
  },
  {
   "cell_type": "code",
   "execution_count": 64,
   "id": "bfb519b6-fa02-4477-bf8e-18ab243d52f7",
   "metadata": {},
   "outputs": [],
   "source": [
    "def _get_training_loop(driver, replay_buffer, agent, steps,\n",
    "                       async_steps_per_loop):\n",
    "    \"\"\"\n",
    "    Returns a `tf.function` that runs the driver and training loops.\n",
    "\n",
    "    Args:\n",
    "      driver: an instance of `Driver`.\n",
    "      replay_buffer: an instance of `ReplayBuffer`.\n",
    "      agent: an instance of `TFAgent`.\n",
    "      steps: an integer indicating how many driver steps should be\n",
    "        executed and presented to the trainer during each training loop.\n",
    "      async_steps_per_loop: an integer. In each training loop, the driver runs\n",
    "        this many times, and then the agent gets asynchronously trained over this\n",
    "        many batches sampled from the replay buffer.\n",
    "    \"\"\"\n",
    "\n",
    "    def _export_metrics_and_summaries(step, metrics):\n",
    "        \"\"\"Exports metrics and tf summaries.\"\"\"\n",
    "        metric_utils.log_metrics(metrics)\n",
    "        export_utils.export_metrics(step=step, metrics=metrics)\n",
    "        for metric in metrics:\n",
    "            metric.tf_summaries(train_step=step)\n",
    "\n",
    "    def training_loop(train_step, metrics):\n",
    "        \"\"\"Returns a function that runs a single training loop and logs metrics.\"\"\"\n",
    "        for batch_id in range(async_steps_per_loop):\n",
    "            driver.run()\n",
    "            _export_metrics_and_summaries(\n",
    "                step=train_step * async_steps_per_loop + batch_id, metrics=metrics)\n",
    "        batch_size = driver.env.batch_size\n",
    "        \n",
    "        dataset_it = iter(\n",
    "            replay_buffer.as_dataset(\n",
    "                sample_batch_size=batch_size,\n",
    "                num_steps=steps,\n",
    "                single_deterministic_pass=True\n",
    "            )\n",
    "        )\n",
    "        log_interval = 1\n",
    "        \n",
    "        for batch_id in range(async_steps_per_loop):\n",
    "            experience, unused_buffer_info = dataset_it.get_next()\n",
    "            set_expected_shape(experience, steps)\n",
    "            loss_info = agent.train(experience)\n",
    "            export_utils.export_metrics(\n",
    "                step=train_step * async_steps_per_loop + batch_id,\n",
    "                metrics=[],\n",
    "                loss_info=loss_info\n",
    "            )\n",
    "        if log_interval and train_step % log_interval == 0:\n",
    "            print('step = {0}: loss = {1}'.format(train_step, round(loss_info.loss.numpy(), 2)))\n",
    "\n",
    "        replay_buffer.clear()\n",
    "\n",
    "    return training_loop"
   ]
  },
  {
   "cell_type": "markdown",
   "id": "5355b3ac-a6b8-4c9b-b699-36c685ecad4e",
   "metadata": {},
   "source": [
    "### model checkpoints"
   ]
  },
  {
   "cell_type": "code",
   "execution_count": 65,
   "id": "c6d08808-99a7-45ab-af70-0755da1171c9",
   "metadata": {},
   "outputs": [],
   "source": [
    "def restore_and_get_checkpoint_manager(root_dir, agent, metrics, step_metric):\n",
    "    \"\"\"Restores from `root_dir` and returns a function that writes checkpoints.\"\"\"\n",
    "    trackable_objects = {metric.name: metric for metric in metrics}\n",
    "    trackable_objects[AGENT_CHECKPOINT_NAME] = agent\n",
    "    trackable_objects[STEP_CHECKPOINT_NAME] = step_metric\n",
    "    checkpoint = tf.train.Checkpoint(**trackable_objects)\n",
    "    checkpoint_manager = tf.train.CheckpointManager(\n",
    "        checkpoint=checkpoint,\n",
    "        directory=root_dir,\n",
    "        max_to_keep=5\n",
    "    )\n",
    "    latest = checkpoint_manager.latest_checkpoint\n",
    "    if latest is not None:\n",
    "        logging.info('Restoring checkpoint from %s.', latest)\n",
    "        checkpoint.restore(latest)\n",
    "        logging.info('Successfully restored to step %s.', step_metric.result())\n",
    "    else:\n",
    "        logging.info(\n",
    "            'Did not find a pre-existing checkpoint. '\n",
    "            'Starting from scratch.'\n",
    "        )\n",
    "    return checkpoint_manager"
   ]
  },
  {
   "cell_type": "markdown",
   "id": "268e75c5-5ac3-4e54-801d-418a4287cde6",
   "metadata": {},
   "source": [
    "## Train neural bandit"
   ]
  },
  {
   "cell_type": "code",
   "execution_count": 66,
   "id": "36395e3a-af4f-4923-96fb-41cd0897337d",
   "metadata": {},
   "outputs": [],
   "source": [
    "import logging\n",
    "\n",
    "from tf_agents.bandits.replay_buffers import bandit_replay_buffer\n",
    "from src.per_arm_rl import train_utils\n",
    "\n",
    "def train_neural_bandit(\n",
    "    root_dir,\n",
    "    log_dir,\n",
    "    agent,\n",
    "    environment,\n",
    "    training_loops,\n",
    "    steps_per_loop,\n",
    "    distribute_strategy,\n",
    "    async_steps_per_loop=None,\n",
    "    additional_metrics=(),\n",
    "    get_replay_buffer_fn=None,\n",
    "    get_training_loop_fn=None,\n",
    "    training_data_spec_transformation_fn=None,\n",
    "    save_policy=True,\n",
    "    resume_training_loops=False\n",
    "):\n",
    "    \n",
    "    \"\"\"\n",
    "    Perform `training_loops` iterations of training\n",
    "    \"\"\"\n",
    "    tf.compat.v1.enable_v2_behavior()\n",
    "    \n",
    "    # ======================================\n",
    "    # GPU stuff\n",
    "    # ======================================\n",
    "    # tf.debugging.set_log_device_placement(True)\n",
    "    \n",
    "#     # limiting GPU growth\n",
    "#     gpus = tf.config.list_physical_devices('GPU')\n",
    "#     if gpus:\n",
    "#         try:\n",
    "#             for gpu in gpus:\n",
    "#                 tf.config.experimental.set_memory_growth(gpu, True)\n",
    "#             logging.info(f'detected: {len(gpus)} GPUs')\n",
    "#         except RuntimeError as e:\n",
    "#             # Memory growth must be set before GPUs have been initialized\n",
    "#             logging.info(e)\n",
    "                \n",
    "#     # tf.debugging.set_log_device_placement(True) # logs all tf ops and their device placement;\n",
    "#     os.environ['TF_GPU_THREAD_MODE'] = 'gpu_private'\n",
    "#     os.environ['TF_GPU_THREAD_COUNT'] = '8'\n",
    "#     os.environ['TF_GPU_ALLOCATOR'] = 'cuda_malloc_async'\n",
    "    \n",
    "    # strategy = train_utils.get_train_strategy(distribute_arg=distribute_strategy)\n",
    "    # logging.info(f'TF training strategy = {strategy}')\n",
    "  \n",
    "    # TODO(b/127641485): create evaluation loop with configurable metrics.\n",
    "    if training_data_spec_transformation_fn is None:\n",
    "        data_spec = agent.policy.trajectory_spec\n",
    "    else:\n",
    "        data_spec = training_data_spec_transformation_fn(\n",
    "            agent.policy.trajectory_spec\n",
    "        )\n",
    "    \n",
    "    if async_steps_per_loop is None:\n",
    "        async_steps_per_loop = 1\n",
    "    \n",
    "    if get_replay_buffer_fn is None:\n",
    "        get_replay_buffer_fn = _get_replay_buffer\n",
    "    \n",
    "    # dont place within distribute scope\n",
    "    replay_buffer = get_replay_buffer_fn(\n",
    "        data_spec, environment.batch_size, steps_per_loop, async_steps_per_loop\n",
    "    )\n",
    "\n",
    "    # with strategy.scope():\n",
    "        # train_step = train_utils.create_train_step()\n",
    "        \n",
    "        # `step_metric` records the number of individual rounds of bandit interaction;\n",
    "        # that is, (number of trajectories) * batch_size.\n",
    "    step_metric = tf_metrics.EnvironmentSteps()\n",
    "    \n",
    "    metrics = [\n",
    "        tf_metrics.NumberOfEpisodes(),\n",
    "        tf_metrics.AverageEpisodeLengthMetric(batch_size=environment.batch_size)\n",
    "    ] + list(additional_metrics)\n",
    "    \n",
    "    # If the reward anything else than a single scalar, we're adding multimetric\n",
    "    # average reward.\n",
    "    if isinstance(environment.reward_spec(),\n",
    "                  dict) or environment.reward_spec().shape != tf.TensorShape(()):\n",
    "        metrics += [tf_metrics.AverageReturnMultiMetric(\n",
    "            reward_spec=environment.reward_spec(), \n",
    "            batch_size=environment.batch_size)]\n",
    "    \n",
    "    if not isinstance(environment.reward_spec(), dict):\n",
    "        metrics += [\n",
    "            tf_metrics.AverageReturnMetric(batch_size=environment.batch_size)]\n",
    "\n",
    "    if training_data_spec_transformation_fn is not None:\n",
    "        add_batch_fn = lambda data: replay_buffer.add_batch(\n",
    "            training_data_spec_transformation_fn(data))\n",
    "    else:\n",
    "        add_batch_fn = replay_buffer.add_batch\n",
    "\n",
    "    observers = [add_batch_fn, step_metric] + metrics\n",
    "    \n",
    "    driver = dynamic_step_driver.DynamicStepDriver(\n",
    "        env=environment,\n",
    "        policy=agent.collect_policy,\n",
    "        num_steps=steps_per_loop * environment.batch_size,\n",
    "        observers=observers\n",
    "    )\n",
    "\n",
    "    if get_training_loop_fn is None:\n",
    "        get_training_loop_fn = _get_training_loop\n",
    "    \n",
    "    training_loop = get_training_loop_fn(\n",
    "        driver, replay_buffer, agent, steps_per_loop, async_steps_per_loop\n",
    "    )\n",
    "    \n",
    "    # checkpoint_manager = restore_and_get_checkpoint_manager(\n",
    "    #   root_dir, agent, metrics, step_metric)\n",
    "    \n",
    "    train_step_counter = tf.compat.v1.train.get_or_create_global_step()\n",
    "    \n",
    "    if save_policy:\n",
    "        saver = policy_saver.PolicySaver(\n",
    "            agent.policy, train_step=train_step_counter)\n",
    "\n",
    "    train_summary_writer = tf.compat.v2.summary.create_file_writer(\n",
    "        log_dir, flush_millis=10 * 1000\n",
    "    )\n",
    "    train_summary_writer.set_as_default()\n",
    "    \n",
    "    starting_loop = 0\n",
    "    \n",
    "#     if resume_training_loops:\n",
    "#         train_step_count_per_loop = (\n",
    "#             steps_per_loop * environment.batch_size * async_steps_per_loop)\n",
    "#         last_checkpointed_step = step_metric.result().numpy()\n",
    "    \n",
    "#         if last_checkpointed_step % train_step_count_per_loop != 0:\n",
    "#             raise ValueError(\n",
    "#                 f'Last checkpointed step is expected to be a multiple of '\n",
    "#                 'steps_per_loop * batch_size * async_steps_per_loop, but found '\n",
    "#                 f'otherwise: last checkpointed step: {last_checkpointed_step}, '\n",
    "#                 f'steps_per_loop: {steps_per_loop}, batch_size: '\n",
    "#                 f'{environment.batch_size}, async_steps_per_loop: '\n",
    "#                 f'{async_steps_per_loop}')\n",
    "    \n",
    "#         starting_loop = last_checkpointed_step // train_step_count_per_loop\n",
    "#     else:\n",
    "#         starting_loop = 0\n",
    "\n",
    "    for i in range(starting_loop, training_loops):\n",
    "        training_loop(train_step=i, metrics=metrics)\n",
    "        # checkpoint_manager.save()\n",
    "        if save_policy & (i % 100 == 0):\n",
    "            saver.save(os.path.join(root_dir, 'policy_%d' % step_metric.result()))"
   ]
  },
  {
   "cell_type": "markdown",
   "id": "d1e3c36f-b61e-426b-b110-6a04b20dd04a",
   "metadata": {},
   "source": [
    "### reset GPU"
   ]
  },
  {
   "cell_type": "code",
   "execution_count": 67,
   "id": "2a74c443-eccd-4c16-9957-dc366a50c8fc",
   "metadata": {},
   "outputs": [
    {
     "data": {
      "text/plain": [
       "14"
      ]
     },
     "execution_count": 67,
     "metadata": {},
     "output_type": "execute_result"
    }
   ],
   "source": [
    "device = cuda.get_current_device()\n",
    "device.reset()\n",
    "gc.collect()"
   ]
  },
  {
   "cell_type": "markdown",
   "id": "127052d6-9454-42e1-9ef1-0a38b196b942",
   "metadata": {},
   "source": [
    "### set Vertex Experiment & TensorBoard"
   ]
  },
  {
   "cell_type": "code",
   "execution_count": 68,
   "id": "69b2bead-db5a-4995-94f5-bf859e2b5f31",
   "metadata": {},
   "outputs": [
    {
     "name": "stdout",
     "output_type": "stream",
     "text": [
      "EXPERIMENT_NAME   : neural-bandit-v2\n",
      "RUN_NAME          : run-20230724-190500\n",
      "LOG_DIR           : gs://mabv1-hybrid-vertex-bucket/neural-bandit-v2/run-20230724-190500/tb-logs\n",
      "ROOT_DIR          : gs://mabv1-hybrid-vertex-bucket/neural-bandit-v2/run-20230724-190500/root\n",
      "ARTIFACTS_DIR     : gs://mabv1-hybrid-vertex-bucket/neural-bandit-v2/run-20230724-190500/artifacts\n"
     ]
    }
   ],
   "source": [
    "EXPERIMENT_NAME   = f'neural-bandit-v2'\n",
    "\n",
    "invoke_time       = time.strftime(\"%Y%m%d-%H%M%S\")\n",
    "RUN_NAME          = f'run-{invoke_time}'\n",
    "\n",
    "LOG_DIR           = f\"{BUCKET_URI}/{EXPERIMENT_NAME}/{RUN_NAME}/tb-logs\"\n",
    "ROOT_DIR          = f\"{BUCKET_URI}/{EXPERIMENT_NAME}/{RUN_NAME}/root\"       # Root directory for writing logs/summaries/checkpoints.\n",
    "ARTIFACTS_DIR     = f\"{BUCKET_URI}/{EXPERIMENT_NAME}/{RUN_NAME}/artifacts\"  # Where the trained model will be saved and restored.\n",
    "\n",
    "aiplatform.init(\n",
    "    project=PROJECT_ID,\n",
    "    location=REGION,\n",
    "    experiment=EXPERIMENT_NAME\n",
    ")\n",
    "\n",
    "print(f\"EXPERIMENT_NAME   : {EXPERIMENT_NAME}\")\n",
    "print(f\"RUN_NAME          : {RUN_NAME}\")\n",
    "print(f\"LOG_DIR           : {LOG_DIR}\")\n",
    "print(f\"ROOT_DIR          : {ROOT_DIR}\")\n",
    "print(f\"ARTIFACTS_DIR     : {ARTIFACTS_DIR}\")"
   ]
  },
  {
   "cell_type": "code",
   "execution_count": 69,
   "id": "dc3d5d3e-c6be-4167-afc8-2f9362bf82e9",
   "metadata": {},
   "outputs": [
    {
     "name": "stdout",
     "output_type": "stream",
     "text": [
      "TB_RESOURCE_NAME: projects/934903580331/locations/us-central1/tensorboards/2696873324515950592\n"
     ]
    }
   ],
   "source": [
    "# # create new TB instance\n",
    "TENSORBOARD_DISPLAY_NAME=f\"{EXPERIMENT_NAME}-{RUN_NAME}\"\n",
    "tensorboard = aiplatform.Tensorboard.create(display_name=TENSORBOARD_DISPLAY_NAME)\n",
    "TB_RESOURCE_NAME = tensorboard.resource_name\n",
    "\n",
    "# use existing TB instance\n",
    "# TB_RESOURCE_NAME = 'projects/934903580331/locations/us-central1/tensorboards/472921941339013120'\n",
    "\n",
    "print(f\"TB_RESOURCE_NAME: {TB_RESOURCE_NAME}\")"
   ]
  },
  {
   "cell_type": "markdown",
   "id": "ee8c688d-ce49-49b4-b9b1-94490e4c0379",
   "metadata": {},
   "source": [
    "### run training loop (locally)"
   ]
  },
  {
   "cell_type": "code",
   "execution_count": null,
   "id": "fdedc0f5-1804-4e33-a94d-5c5a5268c9bf",
   "metadata": {},
   "outputs": [],
   "source": [
    "#start the timer and training\n",
    "start_time = time.time()\n",
    "\n",
    "metric_results = train_neural_bandit(\n",
    "    root_dir=ROOT_DIR,\n",
    "    log_dir=LOG_DIR,\n",
    "    agent=neural_agent,\n",
    "    environment=environment,\n",
    "    training_loops=TRAINING_LOOPS,\n",
    "    steps_per_loop=STEPS_PER_LOOP,\n",
    "    additional_metrics=[regret_metric, suboptimal_arms_metric],\n",
    "    training_data_spec_transformation_fn=drop_arm_feature_fn,\n",
    "    distribute_strategy='single',\n",
    "    save_policy=False\n",
    ")\n",
    "\n",
    "runtime_mins = int((time.time() - start_time) / 60)\n",
    "print(f\"runtime_mins: {runtime_mins}\")"
   ]
  },
  {
   "cell_type": "code",
   "execution_count": null,
   "id": "737164ad-93a5-4d82-b5fc-ae3ad8a92c51",
   "metadata": {},
   "outputs": [],
   "source": [
    "pprint(metric_results)"
   ]
  },
  {
   "cell_type": "code",
   "execution_count": null,
   "id": "e37462fa-ae46-4bb6-9c87-1c1ba49d190c",
   "metadata": {},
   "outputs": [],
   "source": [
    "aiplatform.start_run(\n",
    "    RUN_NAME\n",
    "    , tensorboard=TB_RESOURCE_NAME\n",
    "    , resume=False\n",
    ")\n",
    "\n",
    "aiplatform.log_params(\n",
    "    {\n",
    "        \"runtime\": runtime_mins,\n",
    "        \"batch_size\": BATCH_SIZE, \n",
    "        \"training_loops\": TRAINING_LOOPS,\n",
    "        \"steps_pre_loop\": STEPS_PER_LOOP,\n",
    "        \"rank_k\": RANK_K,\n",
    "        \"num_actions\": NUM_ACTIONS,\n",
    "        \"per_arm\": PER_ARM,\n",
    "        \"tikhonov_weight\": TIKHONOV_WEIGHT,\n",
    "        \"agent_alpha\": AGENT_ALPHA,\n",
    "    }\n",
    ")\n",
    "\n",
    "# gather the metrics for the last epoch to be saved in metrics\n",
    "aiplatform.log_metrics(\n",
    "    {\n",
    "        \"AverageReturnMetric\" : float(metric_results[\"AverageReturnMetric\"][-1])\n",
    "        , \"FinalRegretMetric\" : float(metric_results[\"RegretMetric\"][-1])\n",
    "    }\n",
    ")\n",
    "\n",
    "aiplatform.end_run()"
   ]
  },
  {
   "cell_type": "markdown",
   "id": "823db86d-1b73-47a4-b88e-25aca1238c17",
   "metadata": {},
   "source": [
    "### plot eval metrics"
   ]
  },
  {
   "cell_type": "code",
   "execution_count": null,
   "id": "d276fb8b-3197-4a56-9943-dcd8db53ce3d",
   "metadata": {},
   "outputs": [],
   "source": [
    "def plot(metric_results, metric_name):\n",
    "    plt.plot(metric_results[metric_name])\n",
    "    plt.ylabel(metric_name)\n",
    "    plt.xlabel(\"Step\")\n",
    "    plt.title(\"{} versus Step\".format(metric_name))"
   ]
  },
  {
   "cell_type": "code",
   "execution_count": null,
   "id": "3222ebc2-b2f9-4b41-b39c-7a0ca95002a1",
   "metadata": {},
   "outputs": [],
   "source": [
    "plot(metric_results, \"RegretMetric\")"
   ]
  },
  {
   "cell_type": "code",
   "execution_count": null,
   "id": "0e7a90da-1c91-491d-b74d-0e7c955a0656",
   "metadata": {},
   "outputs": [],
   "source": [
    "plot(metric_results, \"AverageReturnMetric\")"
   ]
  },
  {
   "cell_type": "code",
   "execution_count": null,
   "id": "97b57d1a-ccaa-49c9-abbb-d842fdee3044",
   "metadata": {},
   "outputs": [],
   "source": []
  },
  {
   "cell_type": "code",
   "execution_count": null,
   "id": "a7ffc890-1432-4b43-9b80-2f45cc4082b0",
   "metadata": {},
   "outputs": [],
   "source": []
  },
  {
   "cell_type": "code",
   "execution_count": null,
   "id": "65029b31-343d-4e39-82ac-8462379d6e57",
   "metadata": {},
   "outputs": [],
   "source": []
  },
  {
   "cell_type": "code",
   "execution_count": null,
   "id": "15928840-7605-4379-94c7-99363bd31c9a",
   "metadata": {},
   "outputs": [],
   "source": []
  },
  {
   "cell_type": "markdown",
   "id": "e0600d4e-e315-4f1f-8a1b-7efc3f7de53b",
   "metadata": {},
   "source": [
    "## Actor Networks\n",
    "\n",
    "* in TF, most network layers are designed for batch operations, so we expect the input `time_steps` to be batched, and the output of the network will be batched as well\n",
    "* the network is responsible for producing `actions` in the correct range of the given action_spec \n",
    "* This is conventionally done using e.g. a `tanh activation` for the final layer to produce actions in [-1, 1] and then scaling and shifting this to the correct range as the input action_spec (see `tf_agents/agents/ddpg/networks.actor_network()`)\n",
    "\n",
    "**Removing num actions from obs spec**\n",
    "> Note: `_remove_num_actions_dim_from_spec()` \"Removes the extra `num_actions` dimension from the observation spec.\"\n",
    "* see [src code](https://github.com/tensorflow/agents/blob/v0.17.0/tf_agents/bandits/networks/global_and_arm_feature_network.py#L36)"
   ]
  },
  {
   "cell_type": "code",
   "execution_count": null,
   "id": "721fcba7-1cfc-4983-bb3b-362847df22b5",
   "metadata": {},
   "outputs": [],
   "source": [
    "from tf_agents.networks import network\n",
    "from tf_agents.networks import encoding_network\n",
    "from tf_agents.utils import nest_utils\n",
    "from tf_agents.utils import common as common_utils\n",
    "from tf_agents.networks import utils\n",
    "\n",
    "class ActorNetwork(network.Network):\n",
    "\n",
    "    def __init__(\n",
    "        self,\n",
    "        observation_spec,\n",
    "        action_spec,\n",
    "        preprocessing_layers=None,\n",
    "        preprocessing_combiner=None,\n",
    "        conv_layer_params=None,\n",
    "        fc_layer_params=(75, 40),\n",
    "        dropout_layer_params=None,\n",
    "        activation_fn=tf.keras.activations.relu,\n",
    "        enable_last_layer_zero_initializer=False,\n",
    "        name='ActorNetwork'\n",
    "    ):\n",
    "        super(ActorNetwork, self).__init__(\n",
    "            input_tensor_spec=observation_spec, \n",
    "            state_spec=(), \n",
    "            name=name\n",
    "        )\n",
    "        \n",
    "        # For simplicity we will only support a single action float output.\n",
    "        self._action_spec = action_spec\n",
    "\n",
    "        flat_action_spec = tf.nest.flatten(action_spec)\n",
    "        if len(flat_action_spec) > 1:\n",
    "            raise ValueError('Only a single action is supported by this network')\n",
    "\n",
    "        self._single_action_spec = flat_action_spec[0]\n",
    "        # if self._single_action_spec.dtype not in [tf.float32, tf.float64]:\n",
    "        #     raise ValueError('Only float actions are supported by this network.')\n",
    "\n",
    "        kernel_initializer = tf.keras.initializers.VarianceScaling(\n",
    "            scale=1. / 3., \n",
    "            mode='fan_in', \n",
    "            distribution='uniform'\n",
    "        )\n",
    "        self._encoder = encoding_network.EncodingNetwork(\n",
    "            observation_spec,\n",
    "            preprocessing_layers=preprocessing_layers,\n",
    "            preprocessing_combiner=preprocessing_combiner,\n",
    "            conv_layer_params=conv_layer_params,\n",
    "            fc_layer_params=fc_layer_params,\n",
    "            dropout_layer_params=dropout_layer_params,\n",
    "            activation_fn=activation_fn,\n",
    "            kernel_initializer=kernel_initializer,\n",
    "            batch_squash=False\n",
    "        )\n",
    "\n",
    "        initializer = tf.keras.initializers.RandomUniform(\n",
    "            minval=-0.003, maxval=0.003)\n",
    "\n",
    "        self._action_projection_layer = tf.keras.layers.Dense(\n",
    "            flat_action_spec[0].shape.num_elements(),\n",
    "            activation=tf.keras.activations.tanh,\n",
    "            kernel_initializer=initializer,\n",
    "            name='action')\n",
    "\n",
    "    def call(self, observations, step_type=(), network_state=()):\n",
    "        outer_rank = nest_utils.get_outer_rank(observations, self.input_tensor_spec)\n",
    "        # We use batch_squash here in case the observations have a time sequence\n",
    "        # compoment.\n",
    "        batch_squash = utils.BatchSquash(outer_rank)\n",
    "        observations = tf.nest.map_structure(batch_squash.flatten, observations)\n",
    "\n",
    "        state, network_state = self._encoder(\n",
    "            observations, step_type=step_type, network_state=network_state)\n",
    "        actions = self._action_projection_layer(state)\n",
    "        actions = common_utils.scale_to_spec(actions, self._single_action_spec)\n",
    "        actions = batch_squash.unflatten(actions)\n",
    "        return tf.nest.pack_sequence_as(self._action_spec, [actions]), network_state"
   ]
  },
  {
   "cell_type": "markdown",
   "id": "8263ab45-7731-4049-9300-cbe8a0effef6",
   "metadata": {},
   "source": [
    "### preprocess layers: option 1"
   ]
  },
  {
   "cell_type": "code",
   "execution_count": 164,
   "id": "0b3b350d-d6c6-47b2-8a1f-c4ab9f367434",
   "metadata": {},
   "outputs": [],
   "source": [
    "layer_sizes = [128, 64]\n",
    "seed = 42"
   ]
  },
  {
   "cell_type": "code",
   "execution_count": 165,
   "id": "07c23215-7e34-47e9-ac9c-7705974e2deb",
   "metadata": {},
   "outputs": [],
   "source": [
    "# =====================================\n",
    "# user feature layers\n",
    "# =====================================\n",
    "\n",
    "global_dense_layers = tf.keras.Sequential(name=\"global_dense_layers\")\n",
    "\n",
    "for layer_size in layer_sizes:\n",
    "    global_dense_layers.add(\n",
    "        tf.keras.layers.Dense(\n",
    "            layer_size,\n",
    "            activation=\"relu\", \n",
    "            kernel_initializer=tf.keras.initializers.GlorotUniform(seed=seed),\n",
    "        )\n",
    "    )\n",
    "\n",
    "# normalization layer\n",
    "# global_dense_layers.add(tf.keras.layers.LayerNormalization(name=\"normalize_dense\"))\n",
    "        \n",
    "# =====================================\n",
    "# movie feature layers\n",
    "# =====================================\n",
    "\n",
    "perarm_dense_layers = tf.keras.Sequential(name=\"perarm_dense_layers\")\n",
    "\n",
    "for layer_size in layer_sizes:\n",
    "    perarm_dense_layers.add(\n",
    "        tf.keras.layers.Dense(\n",
    "            layer_size,\n",
    "            activation=\"relu\", \n",
    "            kernel_initializer=tf.keras.initializers.GlorotUniform(seed=seed),\n",
    "        )\n",
    "    )\n",
    "\n",
    "# normalization layer\n",
    "# perarm_dense_layers.add(tf.keras.layers.LayerNormalization(name=\"normalize_dense\"))\n",
    "\n",
    "# =====================================\n",
    "# layer dict\n",
    "# =====================================\n",
    "preprocessing_layers = {\n",
    "    'global': global_dense_layers,\n",
    "    'per_arm': perarm_dense_layers\n",
    "}\n",
    "\n",
    "preprocessing_combiner = tf.keras.layers.Concatenate(axis=-1)"
   ]
  },
  {
   "cell_type": "code",
   "execution_count": 166,
   "id": "efab7b2a-03e5-40ba-ba2a-6324d13fb147",
   "metadata": {},
   "outputs": [
    {
     "data": {
      "text/plain": [
       "{'global': TensorSpec(shape=(64,), dtype=tf.float32, name=None),\n",
       " 'per_arm': TensorSpec(shape=(32, 64), dtype=tf.float32, name=None)}"
      ]
     },
     "execution_count": 166,
     "metadata": {},
     "output_type": "execute_result"
    }
   ],
   "source": [
    "per_arm_tf_env.observation_spec()"
   ]
  },
  {
   "cell_type": "code",
   "execution_count": 167,
   "id": "ec72c2be-9b9e-4e49-8c24-4597f4ad5c78",
   "metadata": {},
   "outputs": [
    {
     "data": {
      "text/plain": [
       "BoundedTensorSpec(shape=(), dtype=tf.int32, name='action', minimum=array(0, dtype=int32), maximum=array(31, dtype=int32))"
      ]
     },
     "execution_count": 167,
     "metadata": {},
     "output_type": "execute_result"
    }
   ],
   "source": [
    "per_arm_tf_env.action_spec()"
   ]
  },
  {
   "cell_type": "code",
   "execution_count": 168,
   "id": "329f76ce-4584-495f-930c-417d078f6cf6",
   "metadata": {},
   "outputs": [],
   "source": [
    "actor = ActorNetwork(\n",
    "    per_arm_tf_env.observation_spec(), \n",
    "    per_arm_tf_env.action_spec(),\n",
    "    preprocessing_layers=preprocessing_layers,\n",
    "    preprocessing_combiner=preprocessing_combiner\n",
    ")"
   ]
  },
  {
   "cell_type": "code",
   "execution_count": 169,
   "id": "482d2cda-a686-48e5-975d-350137c0a283",
   "metadata": {
    "collapsed": true,
    "jupyter": {
     "outputs_hidden": true
    },
    "tags": []
   },
   "outputs": [
    {
     "name": "stdout",
     "output_type": "stream",
     "text": [
      "runtime_mins: 2\n"
     ]
    },
    {
     "data": {
      "text/plain": [
       "TimeStep(\n",
       "{'discount': <tf.Tensor: shape=(20,), dtype=float32, numpy=\n",
       "array([1., 1., 1., 1., 1., 1., 1., 1., 1., 1., 1., 1., 1., 1., 1., 1., 1.,\n",
       "       1., 1., 1.], dtype=float32)>,\n",
       " 'observation': {'global': <tf.Tensor: shape=(20, 64), dtype=float32, numpy=\n",
       "array([[ 0.00769776, -0.04573976, -0.0261811 , ..., -0.01125817,\n",
       "         0.02525475, -0.01148219],\n",
       "       [ 0.00769776, -0.04573976, -0.0261811 , ..., -0.01125817,\n",
       "         0.02525475, -0.01148219],\n",
       "       [ 0.00769776, -0.04573976, -0.0261811 , ..., -0.01125817,\n",
       "         0.02525475, -0.01148219],\n",
       "       ...,\n",
       "       [ 0.00769776, -0.04573976, -0.0261811 , ..., -0.01125817,\n",
       "         0.02525475, -0.01148219],\n",
       "       [ 0.00769776, -0.04573976, -0.0261811 , ..., -0.01125817,\n",
       "         0.02525475, -0.01148219],\n",
       "       [ 0.00769776, -0.04573976, -0.0261811 , ..., -0.01125817,\n",
       "         0.02525475, -0.01148219]], dtype=float32)>,\n",
       "                 'per_arm': <tf.Tensor: shape=(20, 32, 64), dtype=float32, numpy=\n",
       "array([[[ 0.0332768 ,  0.00593678, -0.00208191, ..., -0.02867944,\n",
       "         -0.00778712,  0.00371379],\n",
       "        [ 0.0332768 ,  0.00593678, -0.00208191, ..., -0.02867944,\n",
       "         -0.00778712,  0.00371379],\n",
       "        [ 0.0332768 ,  0.00593678, -0.00208191, ..., -0.02867944,\n",
       "         -0.00778712,  0.00371379],\n",
       "        ...,\n",
       "        [ 0.0332768 ,  0.00593678, -0.00208191, ..., -0.02867944,\n",
       "         -0.00778712,  0.00371379],\n",
       "        [ 0.0332768 ,  0.00593678, -0.00208191, ..., -0.02867944,\n",
       "         -0.00778712,  0.00371379],\n",
       "        [ 0.0332768 ,  0.00593678, -0.00208191, ..., -0.02867944,\n",
       "         -0.00778712,  0.00371379]],\n",
       "\n",
       "       [[ 0.0332768 ,  0.00593678, -0.00208191, ..., -0.02867944,\n",
       "         -0.00778712,  0.00371379],\n",
       "        [ 0.0332768 ,  0.00593678, -0.00208191, ..., -0.02867944,\n",
       "         -0.00778712,  0.00371379],\n",
       "        [ 0.0332768 ,  0.00593678, -0.00208191, ..., -0.02867944,\n",
       "         -0.00778712,  0.00371379],\n",
       "        ...,\n",
       "        [ 0.0332768 ,  0.00593678, -0.00208191, ..., -0.02867944,\n",
       "         -0.00778712,  0.00371379],\n",
       "        [ 0.0332768 ,  0.00593678, -0.00208191, ..., -0.02867944,\n",
       "         -0.00778712,  0.00371379],\n",
       "        [ 0.0332768 ,  0.00593678, -0.00208191, ..., -0.02867944,\n",
       "         -0.00778712,  0.00371379]],\n",
       "\n",
       "       [[ 0.0332768 ,  0.00593678, -0.00208191, ..., -0.02867944,\n",
       "         -0.00778712,  0.00371379],\n",
       "        [ 0.0332768 ,  0.00593678, -0.00208191, ..., -0.02867944,\n",
       "         -0.00778712,  0.00371379],\n",
       "        [ 0.0332768 ,  0.00593678, -0.00208191, ..., -0.02867944,\n",
       "         -0.00778712,  0.00371379],\n",
       "        ...,\n",
       "        [ 0.0332768 ,  0.00593678, -0.00208191, ..., -0.02867944,\n",
       "         -0.00778712,  0.00371379],\n",
       "        [ 0.0332768 ,  0.00593678, -0.00208191, ..., -0.02867944,\n",
       "         -0.00778712,  0.00371379],\n",
       "        [ 0.0332768 ,  0.00593678, -0.00208191, ..., -0.02867944,\n",
       "         -0.00778712,  0.00371379]],\n",
       "\n",
       "       ...,\n",
       "\n",
       "       [[ 0.0332768 ,  0.00593678, -0.00208191, ..., -0.02867944,\n",
       "         -0.00778712,  0.00371379],\n",
       "        [ 0.0332768 ,  0.00593678, -0.00208191, ..., -0.02867944,\n",
       "         -0.00778712,  0.00371379],\n",
       "        [ 0.0332768 ,  0.00593678, -0.00208191, ..., -0.02867944,\n",
       "         -0.00778712,  0.00371379],\n",
       "        ...,\n",
       "        [ 0.0332768 ,  0.00593678, -0.00208191, ..., -0.02867944,\n",
       "         -0.00778712,  0.00371379],\n",
       "        [ 0.0332768 ,  0.00593678, -0.00208191, ..., -0.02867944,\n",
       "         -0.00778712,  0.00371379],\n",
       "        [ 0.0332768 ,  0.00593678, -0.00208191, ..., -0.02867944,\n",
       "         -0.00778712,  0.00371379]],\n",
       "\n",
       "       [[ 0.0332768 ,  0.00593678, -0.00208191, ..., -0.02867944,\n",
       "         -0.00778712,  0.00371379],\n",
       "        [ 0.0332768 ,  0.00593678, -0.00208191, ..., -0.02867944,\n",
       "         -0.00778712,  0.00371379],\n",
       "        [ 0.0332768 ,  0.00593678, -0.00208191, ..., -0.02867944,\n",
       "         -0.00778712,  0.00371379],\n",
       "        ...,\n",
       "        [ 0.0332768 ,  0.00593678, -0.00208191, ..., -0.02867944,\n",
       "         -0.00778712,  0.00371379],\n",
       "        [ 0.0332768 ,  0.00593678, -0.00208191, ..., -0.02867944,\n",
       "         -0.00778712,  0.00371379],\n",
       "        [ 0.0332768 ,  0.00593678, -0.00208191, ..., -0.02867944,\n",
       "         -0.00778712,  0.00371379]],\n",
       "\n",
       "       [[ 0.0332768 ,  0.00593678, -0.00208191, ..., -0.02867944,\n",
       "         -0.00778712,  0.00371379],\n",
       "        [ 0.0332768 ,  0.00593678, -0.00208191, ..., -0.02867944,\n",
       "         -0.00778712,  0.00371379],\n",
       "        [ 0.0332768 ,  0.00593678, -0.00208191, ..., -0.02867944,\n",
       "         -0.00778712,  0.00371379],\n",
       "        ...,\n",
       "        [ 0.0332768 ,  0.00593678, -0.00208191, ..., -0.02867944,\n",
       "         -0.00778712,  0.00371379],\n",
       "        [ 0.0332768 ,  0.00593678, -0.00208191, ..., -0.02867944,\n",
       "         -0.00778712,  0.00371379],\n",
       "        [ 0.0332768 ,  0.00593678, -0.00208191, ..., -0.02867944,\n",
       "         -0.00778712,  0.00371379]]], dtype=float32)>},\n",
       " 'reward': <tf.Tensor: shape=(20,), dtype=float32, numpy=\n",
       "array([0., 0., 0., 0., 0., 0., 0., 0., 0., 0., 0., 0., 0., 0., 0., 0., 0.,\n",
       "       0., 0., 0.], dtype=float32)>,\n",
       " 'step_type': <tf.Tensor: shape=(20,), dtype=int32, numpy=\n",
       "array([0, 0, 0, 0, 0, 0, 0, 0, 0, 0, 0, 0, 0, 0, 0, 0, 0, 0, 0, 0],\n",
       "      dtype=int32)>})"
      ]
     },
     "execution_count": 169,
     "metadata": {},
     "output_type": "execute_result"
    }
   ],
   "source": [
    "start_time = time.time()\n",
    "\n",
    "time_step = per_arm_tf_env.reset()\n",
    "\n",
    "end_time = time.time()\n",
    "runtime_mins = int((end_time - start_time) / 60)\n",
    "print(f\"runtime_mins: {runtime_mins}\")\n",
    "\n",
    "time_step"
   ]
  },
  {
   "cell_type": "code",
   "execution_count": 170,
   "id": "e890f345-c40c-4480-9133-5a0fc86bf4c8",
   "metadata": {
    "tags": []
   },
   "outputs": [
    {
     "ename": "ValueError",
     "evalue": "Exception encountered when calling layer 'EncodingNetwork' (type EncodingNetwork).\n\nA `Concatenate` layer requires inputs with matching shapes except for the concatenation axis. Received: input_shape=[(20, 64), (20, 32, 64)]\n\nCall arguments received by layer 'EncodingNetwork' (type EncodingNetwork):\n  • observation={'global': 'tf.Tensor(shape=(20, 64), dtype=float32)', 'per_arm': 'tf.Tensor(shape=(20, 32, 64), dtype=float32)'}\n  • step_type=tf.Tensor(shape=(20,), dtype=int32)\n  • network_state=()\n  • training=False",
     "output_type": "error",
     "traceback": [
      "\u001b[0;31m---------------------------------------------------------------------------\u001b[0m",
      "\u001b[0;31mValueError\u001b[0m                                Traceback (most recent call last)",
      "Cell \u001b[0;32mIn[170], line 1\u001b[0m\n\u001b[0;32m----> 1\u001b[0m \u001b[43mactor\u001b[49m\u001b[43m(\u001b[49m\u001b[43mtime_step\u001b[49m\u001b[38;5;241;43m.\u001b[39;49m\u001b[43mobservation\u001b[49m\u001b[43m,\u001b[49m\u001b[43m \u001b[49m\u001b[43mtime_step\u001b[49m\u001b[38;5;241;43m.\u001b[39;49m\u001b[43mstep_type\u001b[49m\u001b[43m)\u001b[49m\n",
      "File \u001b[0;32m~/.local/lib/python3.10/site-packages/tf_agents/networks/network.py:425\u001b[0m, in \u001b[0;36mNetwork.__call__\u001b[0;34m(self, inputs, *args, **kwargs)\u001b[0m\n\u001b[1;32m    419\u001b[0m \u001b[38;5;28;01mif\u001b[39;00m (\u001b[38;5;129;01mnot\u001b[39;00m tf\u001b[38;5;241m.\u001b[39mis_tensor(network_state)\n\u001b[1;32m    420\u001b[0m     \u001b[38;5;129;01mand\u001b[39;00m network_state \u001b[38;5;129;01min\u001b[39;00m (\u001b[38;5;28;01mNone\u001b[39;00m, ())\n\u001b[1;32m    421\u001b[0m     \u001b[38;5;129;01mand\u001b[39;00m \u001b[38;5;124m\"\u001b[39m\u001b[38;5;124mnetwork_state\u001b[39m\u001b[38;5;124m\"\u001b[39m \u001b[38;5;129;01mnot\u001b[39;00m \u001b[38;5;129;01min\u001b[39;00m call_argspec\u001b[38;5;241m.\u001b[39margs\n\u001b[1;32m    422\u001b[0m     \u001b[38;5;129;01mand\u001b[39;00m \u001b[38;5;129;01mnot\u001b[39;00m call_argspec\u001b[38;5;241m.\u001b[39mkeywords):\n\u001b[1;32m    423\u001b[0m   normalized_kwargs\u001b[38;5;241m.\u001b[39mpop(\u001b[38;5;124m\"\u001b[39m\u001b[38;5;124mnetwork_state\u001b[39m\u001b[38;5;124m\"\u001b[39m, \u001b[38;5;28;01mNone\u001b[39;00m)\n\u001b[0;32m--> 425\u001b[0m outputs, new_state \u001b[38;5;241m=\u001b[39m \u001b[38;5;28;43msuper\u001b[39;49m\u001b[43m(\u001b[49m\u001b[43mNetwork\u001b[49m\u001b[43m,\u001b[49m\u001b[43m \u001b[49m\u001b[38;5;28;43mself\u001b[39;49m\u001b[43m)\u001b[49m\u001b[38;5;241;43m.\u001b[39;49m\u001b[38;5;21;43m__call__\u001b[39;49m\u001b[43m(\u001b[49m\u001b[38;5;241;43m*\u001b[39;49m\u001b[38;5;241;43m*\u001b[39;49m\u001b[43mnormalized_kwargs\u001b[49m\u001b[43m)\u001b[49m  \u001b[38;5;66;03m# pytype: disable=attribute-error  # typed-keras\u001b[39;00m\n\u001b[1;32m    427\u001b[0m nest_utils\u001b[38;5;241m.\u001b[39massert_matching_dtypes_and_inner_shapes(\n\u001b[1;32m    428\u001b[0m     new_state,\n\u001b[1;32m    429\u001b[0m     \u001b[38;5;28mself\u001b[39m\u001b[38;5;241m.\u001b[39mstate_spec,\n\u001b[0;32m   (...)\u001b[0m\n\u001b[1;32m    432\u001b[0m     tensors_name\u001b[38;5;241m=\u001b[39m\u001b[38;5;124m\"\u001b[39m\u001b[38;5;124m`new_state`\u001b[39m\u001b[38;5;124m\"\u001b[39m,\n\u001b[1;32m    433\u001b[0m     specs_name\u001b[38;5;241m=\u001b[39m\u001b[38;5;124m\"\u001b[39m\u001b[38;5;124m`state_spec`\u001b[39m\u001b[38;5;124m\"\u001b[39m)\n\u001b[1;32m    435\u001b[0m \u001b[38;5;28;01mreturn\u001b[39;00m outputs, new_state\n",
      "File \u001b[0;32m~/.local/lib/python3.10/site-packages/keras/utils/traceback_utils.py:70\u001b[0m, in \u001b[0;36mfilter_traceback.<locals>.error_handler\u001b[0;34m(*args, **kwargs)\u001b[0m\n\u001b[1;32m     67\u001b[0m     filtered_tb \u001b[38;5;241m=\u001b[39m _process_traceback_frames(e\u001b[38;5;241m.\u001b[39m__traceback__)\n\u001b[1;32m     68\u001b[0m     \u001b[38;5;66;03m# To get the full stack trace, call:\u001b[39;00m\n\u001b[1;32m     69\u001b[0m     \u001b[38;5;66;03m# `tf.debugging.disable_traceback_filtering()`\u001b[39;00m\n\u001b[0;32m---> 70\u001b[0m     \u001b[38;5;28;01mraise\u001b[39;00m e\u001b[38;5;241m.\u001b[39mwith_traceback(filtered_tb) \u001b[38;5;28;01mfrom\u001b[39;00m \u001b[38;5;28;01mNone\u001b[39;00m\n\u001b[1;32m     71\u001b[0m \u001b[38;5;28;01mfinally\u001b[39;00m:\n\u001b[1;32m     72\u001b[0m     \u001b[38;5;28;01mdel\u001b[39;00m filtered_tb\n",
      "Cell \u001b[0;32mIn[162], line 72\u001b[0m, in \u001b[0;36mActorNetwork.call\u001b[0;34m(self, observations, step_type, network_state)\u001b[0m\n\u001b[1;32m     69\u001b[0m batch_squash \u001b[38;5;241m=\u001b[39m utils\u001b[38;5;241m.\u001b[39mBatchSquash(outer_rank)\n\u001b[1;32m     70\u001b[0m observations \u001b[38;5;241m=\u001b[39m tf\u001b[38;5;241m.\u001b[39mnest\u001b[38;5;241m.\u001b[39mmap_structure(batch_squash\u001b[38;5;241m.\u001b[39mflatten, observations)\n\u001b[0;32m---> 72\u001b[0m state, network_state \u001b[38;5;241m=\u001b[39m \u001b[38;5;28;43mself\u001b[39;49m\u001b[38;5;241;43m.\u001b[39;49m\u001b[43m_encoder\u001b[49m\u001b[43m(\u001b[49m\n\u001b[1;32m     73\u001b[0m \u001b[43m    \u001b[49m\u001b[43mobservations\u001b[49m\u001b[43m,\u001b[49m\u001b[43m \u001b[49m\u001b[43mstep_type\u001b[49m\u001b[38;5;241;43m=\u001b[39;49m\u001b[43mstep_type\u001b[49m\u001b[43m,\u001b[49m\u001b[43m \u001b[49m\u001b[43mnetwork_state\u001b[49m\u001b[38;5;241;43m=\u001b[39;49m\u001b[43mnetwork_state\u001b[49m\u001b[43m)\u001b[49m\n\u001b[1;32m     74\u001b[0m actions \u001b[38;5;241m=\u001b[39m \u001b[38;5;28mself\u001b[39m\u001b[38;5;241m.\u001b[39m_action_projection_layer(state)\n\u001b[1;32m     75\u001b[0m actions \u001b[38;5;241m=\u001b[39m common_utils\u001b[38;5;241m.\u001b[39mscale_to_spec(actions, \u001b[38;5;28mself\u001b[39m\u001b[38;5;241m.\u001b[39m_single_action_spec)\n",
      "File \u001b[0;32m~/.local/lib/python3.10/site-packages/tf_agents/networks/network.py:425\u001b[0m, in \u001b[0;36mNetwork.__call__\u001b[0;34m(self, inputs, *args, **kwargs)\u001b[0m\n\u001b[1;32m    419\u001b[0m \u001b[38;5;28;01mif\u001b[39;00m (\u001b[38;5;129;01mnot\u001b[39;00m tf\u001b[38;5;241m.\u001b[39mis_tensor(network_state)\n\u001b[1;32m    420\u001b[0m     \u001b[38;5;129;01mand\u001b[39;00m network_state \u001b[38;5;129;01min\u001b[39;00m (\u001b[38;5;28;01mNone\u001b[39;00m, ())\n\u001b[1;32m    421\u001b[0m     \u001b[38;5;129;01mand\u001b[39;00m \u001b[38;5;124m\"\u001b[39m\u001b[38;5;124mnetwork_state\u001b[39m\u001b[38;5;124m\"\u001b[39m \u001b[38;5;129;01mnot\u001b[39;00m \u001b[38;5;129;01min\u001b[39;00m call_argspec\u001b[38;5;241m.\u001b[39margs\n\u001b[1;32m    422\u001b[0m     \u001b[38;5;129;01mand\u001b[39;00m \u001b[38;5;129;01mnot\u001b[39;00m call_argspec\u001b[38;5;241m.\u001b[39mkeywords):\n\u001b[1;32m    423\u001b[0m   normalized_kwargs\u001b[38;5;241m.\u001b[39mpop(\u001b[38;5;124m\"\u001b[39m\u001b[38;5;124mnetwork_state\u001b[39m\u001b[38;5;124m\"\u001b[39m, \u001b[38;5;28;01mNone\u001b[39;00m)\n\u001b[0;32m--> 425\u001b[0m outputs, new_state \u001b[38;5;241m=\u001b[39m \u001b[38;5;28;43msuper\u001b[39;49m\u001b[43m(\u001b[49m\u001b[43mNetwork\u001b[49m\u001b[43m,\u001b[49m\u001b[43m \u001b[49m\u001b[38;5;28;43mself\u001b[39;49m\u001b[43m)\u001b[49m\u001b[38;5;241;43m.\u001b[39;49m\u001b[38;5;21;43m__call__\u001b[39;49m\u001b[43m(\u001b[49m\u001b[38;5;241;43m*\u001b[39;49m\u001b[38;5;241;43m*\u001b[39;49m\u001b[43mnormalized_kwargs\u001b[49m\u001b[43m)\u001b[49m  \u001b[38;5;66;03m# pytype: disable=attribute-error  # typed-keras\u001b[39;00m\n\u001b[1;32m    427\u001b[0m nest_utils\u001b[38;5;241m.\u001b[39massert_matching_dtypes_and_inner_shapes(\n\u001b[1;32m    428\u001b[0m     new_state,\n\u001b[1;32m    429\u001b[0m     \u001b[38;5;28mself\u001b[39m\u001b[38;5;241m.\u001b[39mstate_spec,\n\u001b[0;32m   (...)\u001b[0m\n\u001b[1;32m    432\u001b[0m     tensors_name\u001b[38;5;241m=\u001b[39m\u001b[38;5;124m\"\u001b[39m\u001b[38;5;124m`new_state`\u001b[39m\u001b[38;5;124m\"\u001b[39m,\n\u001b[1;32m    433\u001b[0m     specs_name\u001b[38;5;241m=\u001b[39m\u001b[38;5;124m\"\u001b[39m\u001b[38;5;124m`state_spec`\u001b[39m\u001b[38;5;124m\"\u001b[39m)\n\u001b[1;32m    435\u001b[0m \u001b[38;5;28;01mreturn\u001b[39;00m outputs, new_state\n",
      "File \u001b[0;32m~/.local/lib/python3.10/site-packages/tf_agents/networks/encoding_network.py:325\u001b[0m, in \u001b[0;36mEncodingNetwork.call\u001b[0;34m(***failed resolving arguments***)\u001b[0m\n\u001b[1;32m    322\u001b[0m states \u001b[38;5;241m=\u001b[39m processed\n\u001b[1;32m    324\u001b[0m \u001b[38;5;28;01mif\u001b[39;00m \u001b[38;5;28mself\u001b[39m\u001b[38;5;241m.\u001b[39m_preprocessing_combiner \u001b[38;5;129;01mis\u001b[39;00m \u001b[38;5;129;01mnot\u001b[39;00m \u001b[38;5;28;01mNone\u001b[39;00m:\n\u001b[0;32m--> 325\u001b[0m   states \u001b[38;5;241m=\u001b[39m \u001b[38;5;28;43mself\u001b[39;49m\u001b[38;5;241;43m.\u001b[39;49m\u001b[43m_preprocessing_combiner\u001b[49m\u001b[43m(\u001b[49m\u001b[43mstates\u001b[49m\u001b[43m)\u001b[49m\n\u001b[1;32m    327\u001b[0m \u001b[38;5;28;01mfor\u001b[39;00m layer \u001b[38;5;129;01min\u001b[39;00m \u001b[38;5;28mself\u001b[39m\u001b[38;5;241m.\u001b[39m_postprocessing_layers:\n\u001b[1;32m    328\u001b[0m   states \u001b[38;5;241m=\u001b[39m layer(states, training\u001b[38;5;241m=\u001b[39mtraining)\n",
      "\u001b[0;31mValueError\u001b[0m: Exception encountered when calling layer 'EncodingNetwork' (type EncodingNetwork).\n\nA `Concatenate` layer requires inputs with matching shapes except for the concatenation axis. Received: input_shape=[(20, 64), (20, 32, 64)]\n\nCall arguments received by layer 'EncodingNetwork' (type EncodingNetwork):\n  • observation={'global': 'tf.Tensor(shape=(20, 64), dtype=float32)', 'per_arm': 'tf.Tensor(shape=(20, 32, 64), dtype=float32)'}\n  • step_type=tf.Tensor(shape=(20,), dtype=int32)\n  • network_state=()\n  • training=False"
     ]
    }
   ],
   "source": [
    "actor(time_step.observation, time_step.step_type)"
   ]
  },
  {
   "cell_type": "markdown",
   "id": "70bf3af3-a7c2-4622-86ea-9647d2015b0f",
   "metadata": {
    "jp-MarkdownHeadingCollapsed": true,
    "tags": []
   },
   "source": [
    "#### tmp - debugging "
   ]
  },
  {
   "cell_type": "code",
   "execution_count": 176,
   "id": "5a798947-fa72-4078-ba69-d53f93ac9b6e",
   "metadata": {},
   "outputs": [
    {
     "data": {
      "text/plain": [
       "(20, 64)"
      ]
     },
     "execution_count": 176,
     "metadata": {},
     "output_type": "execute_result"
    }
   ],
   "source": [
    "# global_arm.shape\n",
    "\n",
    "test_g_dim = np.ones((20,64))\n",
    "test_g_dim.shape"
   ]
  },
  {
   "cell_type": "code",
   "execution_count": 174,
   "id": "93e48dda-5dec-409c-bfff-b08343ba1527",
   "metadata": {},
   "outputs": [],
   "source": [
    "def _add_outer_dimension(x):\n",
    "    \"\"\"Adds an extra outer dimension.\"\"\"\n",
    "    if isinstance(x, dict):\n",
    "        for key, value in x.items():\n",
    "            x[key] = tf.expand_dims(value, 1)\n",
    "        return x\n",
    "    return tf.expand_dims(x, 1)"
   ]
  },
  {
   "cell_type": "code",
   "execution_count": 177,
   "id": "d133b0c2-e245-40d0-b721-6c111b58200a",
   "metadata": {},
   "outputs": [
    {
     "name": "stdout",
     "output_type": "stream",
     "text": [
      "(20, 1, 64)\n"
     ]
    },
    {
     "data": {
      "text/plain": [
       "<tf.Tensor: shape=(20, 1, 64), dtype=float64, numpy=\n",
       "array([[[1., 1., 1., ..., 1., 1., 1.]],\n",
       "\n",
       "       [[1., 1., 1., ..., 1., 1., 1.]],\n",
       "\n",
       "       [[1., 1., 1., ..., 1., 1., 1.]],\n",
       "\n",
       "       ...,\n",
       "\n",
       "       [[1., 1., 1., ..., 1., 1., 1.]],\n",
       "\n",
       "       [[1., 1., 1., ..., 1., 1., 1.]],\n",
       "\n",
       "       [[1., 1., 1., ..., 1., 1., 1.]]])>"
      ]
     },
     "execution_count": 177,
     "metadata": {},
     "output_type": "execute_result"
    }
   ],
   "source": [
    "exp_global_arm = _add_outer_dimension(test_g_dim)\n",
    "print(exp_global_arm.shape)\n",
    "exp_global_arm"
   ]
  },
  {
   "cell_type": "code",
   "execution_count": null,
   "id": "306a8348-b470-4d51-a194-b5ca20256671",
   "metadata": {},
   "outputs": [],
   "source": [
    "# Adds a time dimension.\n",
    "arm_features = _add_outer_dimension(arm_features)\n",
    "observation = {\n",
    "  utils.GLOBAL_FEATURE_KEY:\n",
    "      _add_outer_dimension(tf.concat(global_features, axis=1))\n",
    "}\n",
    "reward = _add_outer_dimension(_get_rewards(element))"
   ]
  },
  {
   "cell_type": "markdown",
   "id": "e387ab2d-ead6-4403-987b-66e45142a093",
   "metadata": {
    "tags": []
   },
   "source": [
    "### preprocess layers: option 2"
   ]
  },
  {
   "cell_type": "code",
   "execution_count": null,
   "id": "10ec57fe-09ea-473b-a40c-d93b7046ed7b",
   "metadata": {
    "tags": []
   },
   "outputs": [],
   "source": [
    "# # =====================================\n",
    "# # user feature layers\n",
    "# # =====================================\n",
    "\n",
    "# # user id\n",
    "# user_id_emb_layer = tf.keras.Sequential([\n",
    "#     tf.keras.layers.StringLookup(\n",
    "#         vocabulary=vocab_dict['user_id'], \n",
    "#         mask_token=None\n",
    "#     ),\n",
    "#     tf.keras.layers.Embedding(\n",
    "#         input_dim = data_config.MOVIELENS_NUM_USERS + 1, \n",
    "#         output_dim = 32\n",
    "#     ),\n",
    "# ])\n",
    "\n",
    "# # user age bucketized\n",
    "# user_age_emb_layer = tf.keras.Sequential([\n",
    "#     tf.keras.layers.IntegerLookup(\n",
    "#         vocabulary=vocab_dict['bucketized_user_age'], \n",
    "#         mask_token=None\n",
    "#     ),\n",
    "#     tf.keras.layers.Embedding(\n",
    "#         input_dim = len(vocab_dict['bucketized_user_age']) + 1, \n",
    "#         output_dim = 32\n",
    "#     ),\n",
    "# ])\n",
    "\n",
    "# # user occ bucketized\n",
    "# user_occ_emb_layer = tf.keras.Sequential([\n",
    "#     tf.keras.layers.StringLookup(\n",
    "#         vocabulary=vocab_dict['user_occupation_text'], \n",
    "#         mask_token=None\n",
    "#     ),\n",
    "#     tf.keras.layers.Embedding(\n",
    "#         input_dim = len(vocab_dict['user_occupation_text']) + 1, \n",
    "#         output_dim = 32\n",
    "#     ),\n",
    "# ])\n",
    "\n",
    "# timestamp_emb_layer = tf.keras.Sequential([\n",
    "#     tf.keras.layers.Discretization(vocab_dict['timestamp_buckets'].tolist()),\n",
    "#     tf.keras.layers.Embedding(\n",
    "#         input_dim = len(vocab_dict['timestamp_buckets'].tolist()) + 1, \n",
    "#         output_dim = 32\n",
    "#     ),\n",
    "# ])\n",
    "\n",
    "# # =====================================\n",
    "# # movie feature layers\n",
    "# # =====================================\n",
    "\n",
    "# # movie ID\n",
    "# mv_id_emb_layer = tf.keras.Sequential([\n",
    "#     tf.keras.layers.StringLookup(\n",
    "#         vocabulary=vocab_dict['movie_id'], \n",
    "#         mask_token=None\n",
    "#     ),\n",
    "#     tf.keras.layers.Embedding(\n",
    "#         input_dim = data_config.MOVIELENS_NUM_MOVIES + 1, \n",
    "#         output_dim = 32\n",
    "#     ),\n",
    "# ])\n",
    "    \n",
    "# # movie genres\n",
    "# mv_gen_emb_layer = tf.keras.Sequential([\n",
    "#     tf.keras.layers.IntegerLookup(\n",
    "#         vocabulary=vocab_dict['movie_genres'], \n",
    "#         mask_token=None\n",
    "#     ),\n",
    "#     tf.keras.layers.Embedding(\n",
    "#         input_dim = len(vocab_dict['movie_genres']) + 1, \n",
    "#         output_dim = 32\n",
    "#     ),\n",
    "# ])"
   ]
  },
  {
   "cell_type": "code",
   "execution_count": 150,
   "id": "8e67faa5-9f71-453c-b74a-98dabfa8c77a",
   "metadata": {},
   "outputs": [
    {
     "data": {
      "text/plain": [
       "943"
      ]
     },
     "execution_count": 150,
     "metadata": {},
     "output_type": "execute_result"
    }
   ],
   "source": [
    "data_config.MOVIELENS_NUM_USERS"
   ]
  },
  {
   "cell_type": "code",
   "execution_count": 156,
   "id": "e7135775-2295-4059-8f2b-3a3d386263ac",
   "metadata": {},
   "outputs": [
    {
     "data": {
      "text/plain": [
       "20"
      ]
     },
     "execution_count": 156,
     "metadata": {},
     "output_type": "execute_result"
    }
   ],
   "source": [
    "len(vocab_dict['movie_genres'])\n",
    "\n",
    "# len(vocab_dict['timestamp_buckets'].tolist())"
   ]
  },
  {
   "cell_type": "markdown",
   "id": "b9ea0d2a-4685-4c7a-b148-7359abf3351d",
   "metadata": {},
   "source": [
    "### multiple per-arm features in observation spec\n",
    "\n",
    "```\n",
    "  obs_spec = {\n",
    "      utils.GLOBAL_FEATURE_KEY:\n",
    "          tensor_spec.TensorSpec(shape=(global_dim,), dtype=tf.float32),\n",
    "      utils.PER_ARM_FEATURE_KEY: {\n",
    "          'doc_id':\n",
    "              tensor_spec.TensorSpec(\n",
    "                  shape=(hparams.num_docs_to_rank,), dtype=tf.int64),\n",
    "          'app_region_tag':\n",
    "              tensor_spec.TensorSpec(\n",
    "                  shape=(hparams.num_docs_to_rank,), dtype=tf.string),\n",
    "          'app_language_tag':\n",
    "              tensor_spec.TensorSpec(\n",
    "                  shape=(hparams.num_docs_to_rank,), dtype=tf.string)\n",
    "      }\n",
    "  }\n",
    " ```"
   ]
  },
  {
   "cell_type": "code",
   "execution_count": null,
   "id": "ea457917-ad99-407b-8fb0-7e776c0e71f2",
   "metadata": {},
   "outputs": [],
   "source": [
    "movie_id_lookup = tf.keras.layers.StringLookup(\n",
    "    vocabulary=vocab_dict['movie_id'], \n",
    "    mask_token=None\n",
    ")\n",
    "action_vocab_size = movie_id_lookup.vocabulary_size()"
   ]
  },
  {
   "cell_type": "markdown",
   "id": "37bcaf16-ef88-4dce-a8e2-72f20d244dff",
   "metadata": {},
   "source": [
    "# Train RL modules"
   ]
  },
  {
   "cell_type": "markdown",
   "id": "5195e0ff-6a36-4cb8-b170-fb0c8910660a",
   "metadata": {
    "tags": []
   },
   "source": [
    "## Train (locally)"
   ]
  },
  {
   "cell_type": "markdown",
   "id": "765c72aa-73fc-4900-9a5b-c9e831cfd922",
   "metadata": {},
   "source": [
    "A **policy** in a bandit problem works the same way as in an RL problem: it provides an action (or a distribution of actions), given an observation as input.\n",
    "* For more details, see the [TF-Agents Policy tutorial](https://github.com/tensorflow/agents/blob/master/docs/tutorials/3_policies_tutorial.ipynb).\n",
    "* As with environments, there are two ways to construct a policy: One can create a `PyPolicy` and wrap it with `TFPyPolicy`, or directly create a `TFPolicy`\n",
    "\n",
    "**Replay buffers**\n",
    "* Reinforcement learning algorithms use `replay buffers` to store trajectories of experience when executing a policy in an environment. * During training, replay buffers are queried for a subset of the trajectories (either a sequential subset or a sample) to \"replay\" the agent's experience."
   ]
  },
  {
   "cell_type": "markdown",
   "id": "db72a780-63b6-4eb7-a274-3d9e357fdf85",
   "metadata": {},
   "source": [
    "### Define the training logic (on-policy training)"
   ]
  },
  {
   "cell_type": "markdown",
   "id": "d9523045-4f43-4a67-83a6-275aa3118e31",
   "metadata": {},
   "source": [
    "> The following function is the same as [trainer.train](https://github.com/tensorflow/agents/blob/master/tf_agents/bandits/agents/examples/v2/trainer.py#L130), but it keeps track of intermediate metric values and saves different artifacts to different locations. You can also directly invoke [trainer.train](https://github.com/tensorflow/agents/blob/master/tf_agents/bandits/agents/examples/v2/trainer.py#L130) which also trains the policy."
   ]
  },
  {
   "cell_type": "code",
   "execution_count": 41,
   "id": "1d1d82ff-4cc4-4207-a0e6-a60b13b872f4",
   "metadata": {},
   "outputs": [],
   "source": [
    "# num_iterations = 20 # @param\n",
    "# steps_per_loop = 1 # @param"
   ]
  },
  {
   "cell_type": "code",
   "execution_count": 43,
   "id": "e1af4fc9-6e2d-4cf3-bf10-36c0de0fd17c",
   "metadata": {},
   "outputs": [
    {
     "data": {
      "text/plain": [
       "<tf_agents.replay_buffers.tf_uniform_replay_buffer.TFUniformReplayBuffer at 0x7f0f981d0f10>"
      ]
     },
     "execution_count": 43,
     "metadata": {},
     "output_type": "execute_result"
    }
   ],
   "source": [
    "# from tf_agents.replay_buffers import tf_uniform_replay_buffer\n",
    "\n",
    "# replay_buffer = tf_uniform_replay_buffer.TFUniformReplayBuffer(\n",
    "#     data_spec=agent.policy.trajectory_spec,\n",
    "#     batch_size=BATCH_SIZE,\n",
    "#     max_length=steps_per_loop)\n",
    "# replay_buffer"
   ]
  },
  {
   "cell_type": "code",
   "execution_count": 45,
   "id": "8ae4da42-2a32-42a9-8368-b46a7fc5486f",
   "metadata": {},
   "outputs": [
    {
     "data": {
      "text/plain": [
       "[<bound method ReplayBuffer.add_batch of <tf_agents.replay_buffers.tf_uniform_replay_buffer.TFUniformReplayBuffer object at 0x7f0f981d0f10>>,\n",
       " <tf_agents.bandits.metrics.tf_metrics.RegretMetric at 0x7f0f8064fa00>]"
      ]
     },
     "execution_count": 45,
     "metadata": {},
     "output_type": "execute_result"
    }
   ],
   "source": [
    "# observers = [replay_buffer.add_batch, regret_metric]\n",
    "# observers"
   ]
  },
  {
   "cell_type": "code",
   "execution_count": 47,
   "id": "38b96f0f-bfce-4484-a185-dd6908ece2e7",
   "metadata": {},
   "outputs": [
    {
     "data": {
      "text/plain": [
       "<tf_agents.drivers.dynamic_step_driver.DynamicStepDriver at 0x7f0f8064e290>"
      ]
     },
     "execution_count": 47,
     "metadata": {},
     "output_type": "execute_result"
    }
   ],
   "source": [
    "# driver = dynamic_step_driver.DynamicStepDriver(\n",
    "#     env=environment,\n",
    "#     policy=agent.collect_policy,\n",
    "#     num_steps=steps_per_loop * BATCH_SIZE,\n",
    "#     observers=observers)\n",
    "\n",
    "# driver"
   ]
  },
  {
   "cell_type": "code",
   "execution_count": 144,
   "id": "3709b606-e09f-46ac-84b5-bbba3ff16f4d",
   "metadata": {},
   "outputs": [],
   "source": [
    "# regret_values = []\n",
    "\n",
    "# for _ in range(num_iterations):\n",
    "#     driver.run()\n",
    "#     loss_info = agent.train(replay_buffer.gather_all())\n",
    "#     replay_buffer.clear()\n",
    "#     regret_values.append(regret_metric.result())"
   ]
  },
  {
   "cell_type": "code",
   "execution_count": null,
   "id": "7d4c47b0-2d04-4fdf-896c-e97f206f89dd",
   "metadata": {},
   "outputs": [],
   "source": [
    "\n",
    "# plt.plot(regret_values)\n",
    "# plt.title('Regret of LinUCB on the Linear per-arm environment')\n",
    "# plt.xlabel('Number of Iterations')\n",
    "# _ = plt.ylabel('Average Regret')"
   ]
  },
  {
   "cell_type": "code",
   "execution_count": 97,
   "id": "83bfb300-9b8d-4a9d-8f76-addb8404c207",
   "metadata": {},
   "outputs": [],
   "source": [
    "# def train(\n",
    "#     root_dir: str,\n",
    "#     agent: TFAgent,\n",
    "#     environment: TFEnvironment,\n",
    "#     training_loops: int,\n",
    "#     steps_per_loop: int,\n",
    "#     additional_metrics: Optional[List[TFStepMetric]] = None,\n",
    "#     training_data_spec_transformation_fn: Optional[Callable[[T], T]] = None,\n",
    "# ) -> Dict[str, List[float]]:\n",
    "#     \"\"\"Performs `training_loops` iterations of training on the agent's policy.\n",
    "\n",
    "#     Uses the `environment` as the problem formulation and source of immediate\n",
    "#     feedback and the agent's algorithm, to perform `training-loops` iterations\n",
    "#     of on-policy training on the policy.\n",
    "#     If one or more baseline_reward_fns are provided, the regret is computed\n",
    "#     against each one of them. Here is example baseline_reward_fn:\n",
    "#     def baseline_reward_fn(observation, per_action_reward_fns):\n",
    "#         rewards = ... # compute reward for each arm\n",
    "#         optimal_action_reward = ... # take the maximum reward\n",
    "#         return optimal_action_reward\n",
    "\n",
    "#     Args:\n",
    "#         root_dir: Path to the directory where training artifacts are written.\n",
    "#         agent: An instance of `TFAgent`.\n",
    "#         environment: An instance of `TFEnvironment`.\n",
    "#         training_loops: An integer indicating how many training loops should be run.\n",
    "#         steps_per_loop: An integer indicating how many driver steps should be\n",
    "#            executed and presented to the trainer during each training loop.\n",
    "#         additional_metrics: Optional; list of metric objects to log, in addition to\n",
    "#           default metrics `NumberOfEpisodes`, `AverageReturnMetric`, and\n",
    "#           `AverageEpisodeLengthMetric`.\n",
    "#         training_data_spec_transformation_fn: Optional; function that transforms\n",
    "#           the data items before they get to the replay buffer.\n",
    "\n",
    "#     Returns:\n",
    "#         A dict mapping metric names (eg. \"AverageReturnMetric\") to a list of\n",
    "#         intermediate metric values over `training_loops` iterations of training.\n",
    "#     \"\"\"\n",
    "    \n",
    "#     # ====================================================\n",
    "#     # get data spec\n",
    "#     # ====================================================\n",
    "#     if training_data_spec_transformation_fn is None:\n",
    "#         data_spec = agent.policy.trajectory_spec\n",
    "#     else:\n",
    "#         data_spec = training_data_spec_transformation_fn(\n",
    "#             agent.policy.trajectory_spec\n",
    "#         )\n",
    "        \n",
    "#     # ====================================================\n",
    "#     # define replay buffer\n",
    "#     # ====================================================\n",
    "#     replay_buffer = trainer._get_replay_buffer(\n",
    "#         data_spec\n",
    "#         , environment.batch_size\n",
    "#         ,steps_per_loop\n",
    "#         , 1\n",
    "#     )\n",
    "\n",
    "#     # ====================================================\n",
    "#     # metrics\n",
    "#     # ====================================================\n",
    "    \n",
    "#     # `step_metric` records the number of individual rounds of bandit interaction;\n",
    "#     # that is, (number of trajectories) * batch_size.\n",
    "#     step_metric = tf_metrics.EnvironmentSteps()\n",
    "    \n",
    "#     metrics = [\n",
    "#         tf_metrics.NumberOfEpisodes(),\n",
    "#         tf_metrics.AverageEpisodeLengthMetric(batch_size=environment.batch_size)\n",
    "#     ]\n",
    "#     if additional_metrics:\n",
    "#         metrics += additional_metrics\n",
    "\n",
    "#     if isinstance(environment.reward_spec(), dict):\n",
    "#         metrics += [\n",
    "#             tf_metrics.AverageReturnMultiMetric(\n",
    "#                 reward_spec=environment.reward_spec(),\n",
    "#                 batch_size=environment.batch_size\n",
    "#             )\n",
    "#         ]\n",
    "#     else:\n",
    "#         metrics += [\n",
    "#             tf_metrics.AverageReturnMetric(batch_size=environment.batch_size)\n",
    "#         ]\n",
    "\n",
    "#     # Store intermediate metric results, indexed by metric names.\n",
    "#     metric_results = defaultdict(list)\n",
    "#     print(f\"metric_results: {metric_results}\")\n",
    "    \n",
    "#     # ====================================================\n",
    "#     # Driver\n",
    "#     # ====================================================\n",
    "#     if training_data_spec_transformation_fn is not None:\n",
    "#         def add_batch_fn(data): return replay_buffer.add_batch(\n",
    "#             training_data_spec_transformation_fn(data)\n",
    "#         ) \n",
    "        \n",
    "#     else:\n",
    "#         add_batch_fn = replay_buffer.add_batch\n",
    "\n",
    "#     observers = [add_batch_fn, step_metric] + metrics\n",
    "\n",
    "#     driver = dynamic_step_driver.DynamicStepDriver(\n",
    "#         env = environment\n",
    "#         , policy = agent.collect_policy\n",
    "#         , num_steps = steps_per_loop * environment.batch_size\n",
    "#         , observers = observers\n",
    "#     )\n",
    "\n",
    "#     # ====================================================\n",
    "#     # training_loop\n",
    "#     # ====================================================\n",
    "#     training_loop = trainer._get_training_loop(\n",
    "#         driver=driver\n",
    "#         , replay_buffer=replay_buffer\n",
    "#         , agent=agent\n",
    "#         , steps=steps_per_loop\n",
    "#         , async_steps_per_loop=1\n",
    "#     )\n",
    "#     saver = policy_saver.PolicySaver(agent.policy)\n",
    "\n",
    "#     # for _ in range(training_loops):\n",
    "#     for train_step in range(training_loops):\n",
    "#         training_loop(                         # JT TODO\n",
    "#             train_step=train_step\n",
    "#             , metrics=metrics\n",
    "#         )\n",
    "#         metric_utils.log_metrics(metrics)\n",
    "#         for metric in metrics:\n",
    "#             metric.tf_summaries(train_step=step_metric.result())\n",
    "#             metric_results[type(metric).__name__].append(metric.result().numpy())\n",
    "#     saver.save(root_dir)\n",
    "    \n",
    "#     return metric_results"
   ]
  },
  {
   "cell_type": "markdown",
   "id": "e887e408-45db-4c95-aa84-268b0f573252",
   "metadata": {},
   "source": [
    "### set Vertex Exeperiment"
   ]
  },
  {
   "cell_type": "code",
   "execution_count": 98,
   "id": "bea2c0a5-96f2-44fb-8e28-3f5b68698d39",
   "metadata": {},
   "outputs": [
    {
     "name": "stdout",
     "output_type": "stream",
     "text": [
      "EXPERIMENT_NAME   : perarm-local-test\n",
      "RUN_NAME          : run-20230713-154556\n",
      "LOG_DIR           : gs://mabv1-hybrid-vertex-bucket/perarm-local-test/run-20230713-154556/tb-logs\n",
      "ROOT_DIR          : gs://mabv1-hybrid-vertex-bucket/perarm-local-test/run-20230713-154556/root\n",
      "ARTIFACTS_DIR     : gs://mabv1-hybrid-vertex-bucket/perarm-local-test/run-20230713-154556/artifacts\n"
     ]
    }
   ],
   "source": [
    "EXPERIMENT_NAME   = f'perarm-local-test'\n",
    "\n",
    "invoke_time       = time.strftime(\"%Y%m%d-%H%M%S\")\n",
    "RUN_NAME          = f'run-{invoke_time}'\n",
    "\n",
    "LOG_DIR           = f\"{BUCKET_URI}/{EXPERIMENT_NAME}/{RUN_NAME}/tb-logs\"\n",
    "ROOT_DIR          = f\"{BUCKET_URI}/{EXPERIMENT_NAME}/{RUN_NAME}/root\"       # Root directory for writing logs/summaries/checkpoints.\n",
    "ARTIFACTS_DIR     = f\"{BUCKET_URI}/{EXPERIMENT_NAME}/{RUN_NAME}/artifacts\"  # Where the trained model will be saved and restored.\n",
    "\n",
    "aiplatform.init(\n",
    "    project=PROJECT_ID,\n",
    "    location=REGION,\n",
    "    experiment=EXPERIMENT_NAME\n",
    ")\n",
    "\n",
    "print(f\"EXPERIMENT_NAME   : {EXPERIMENT_NAME}\")\n",
    "print(f\"RUN_NAME          : {RUN_NAME}\")\n",
    "print(f\"LOG_DIR           : {LOG_DIR}\")\n",
    "print(f\"ROOT_DIR          : {ROOT_DIR}\")\n",
    "print(f\"ARTIFACTS_DIR     : {ARTIFACTS_DIR}\")"
   ]
  },
  {
   "cell_type": "markdown",
   "id": "1ca02ce7-a030-419b-85d3-40fc9f4f4532",
   "metadata": {},
   "source": [
    "### Managed Tensorboard"
   ]
  },
  {
   "cell_type": "code",
   "execution_count": 99,
   "id": "7b143c2b-3212-4fed-8a3e-64ee23d03184",
   "metadata": {},
   "outputs": [
    {
     "name": "stdout",
     "output_type": "stream",
     "text": [
      "TB_RESOURCE_NAME: projects/934903580331/locations/us-central1/tensorboards/4226126872984944640\n"
     ]
    }
   ],
   "source": [
    "# # create new TB instance\n",
    "TENSORBOARD_DISPLAY_NAME=f\"{EXPERIMENT_NAME}-{RUN_NAME}\"\n",
    "tensorboard = aiplatform.Tensorboard.create(display_name=TENSORBOARD_DISPLAY_NAME)\n",
    "TB_RESOURCE_NAME = tensorboard.resource_name\n",
    "\n",
    "# use existing TB instance\n",
    "# TB_RESOURCE_NAME = 'projects/934903580331/locations/us-central1/tensorboards/472921941339013120'\n",
    "\n",
    "print(f\"TB_RESOURCE_NAME: {TB_RESOURCE_NAME}\")"
   ]
  },
  {
   "cell_type": "markdown",
   "id": "21bbf357-011e-48fe-a714-1d9f8012329d",
   "metadata": {},
   "source": [
    "### train RL agent"
   ]
  },
  {
   "cell_type": "code",
   "execution_count": 100,
   "id": "bd567c85-810d-4bcf-b920-29fad009349f",
   "metadata": {},
   "outputs": [
    {
     "name": "stdout",
     "output_type": "stream",
     "text": [
      "metric_results: defaultdict(<class 'list'>, {})\n"
     ]
    },
    {
     "name": "stderr",
     "output_type": "stream",
     "text": [
      "/home/jupyter/.local/lib/python3.10/site-packages/tensorflow/python/saved_model/nested_structure_coder.py:497: UserWarning: Encoding a StructuredValue with type tfp.distributions.Deterministic_ACTTypeSpec; loading this StructuredValue will require that this type be imported and registered.\n",
      "  warnings.warn(\"Encoding a StructuredValue with type %s; loading this \"\n"
     ]
    }
   ],
   "source": [
    "#start the timer and training\n",
    "start_time = time.time()\n",
    "\n",
    "tf.profiler.experimental.start(LOG_DIR)\n",
    "metric_results = train(\n",
    "    root_dir=ROOT_DIR,\n",
    "    agent=agent,\n",
    "    environment=environment,\n",
    "    training_loops=TRAINING_LOOPS,\n",
    "    steps_per_loop=STEPS_PER_LOOP,\n",
    "    additional_metrics=metrics\n",
    ")\n",
    "tf.profiler.experimental.stop()\n",
    "\n",
    "end_time = time.time()\n",
    "runtime_mins = int((end_time - start_time) / 60)"
   ]
  },
  {
   "cell_type": "code",
   "execution_count": 145,
   "id": "abfa8137-834c-4fe7-998e-6d585c347dec",
   "metadata": {
    "tags": []
   },
   "outputs": [],
   "source": [
    "# metric_results"
   ]
  },
  {
   "cell_type": "markdown",
   "id": "25933df7-7527-4eda-b25c-d166f93b29b0",
   "metadata": {},
   "source": [
    "### log Vertex Experiment run"
   ]
  },
  {
   "cell_type": "code",
   "execution_count": 102,
   "id": "cb43ea65-3c72-44c8-9373-e5c7ea46e2d5",
   "metadata": {},
   "outputs": [],
   "source": [
    "aiplatform.start_run(\n",
    "    RUN_NAME\n",
    "    , tensorboard=TB_RESOURCE_NAME\n",
    "    , resume=False\n",
    ")\n",
    "\n",
    "aiplatform.log_params(\n",
    "    {\n",
    "        \"runtime\": runtime_mins,\n",
    "        \"batch_size\": BATCH_SIZE, \n",
    "        \"training_loops\": TRAINING_LOOPS,\n",
    "        \"steps_pre_loop\": STEPS_PER_LOOP,\n",
    "        \"rank_k\": RANK_K,\n",
    "        \"num_actions\": NUM_ACTIONS,\n",
    "        \"per_arm\": PER_ARM,\n",
    "        \"tikhonov_weight\": TIKHONOV_WEIGHT,\n",
    "        \"agent_alpha\": AGENT_ALPHA,\n",
    "    }\n",
    ")\n",
    "\n",
    "# gather the metrics for the last epoch to be saved in metrics\n",
    "aiplatform.log_metrics(\n",
    "    {\n",
    "        \"AverageReturnMetric\" : float(metric_results[\"AverageReturnMetric\"][-1])\n",
    "        , \"FinalRegretMetric\" : float(metric_results[\"RegretMetric\"][-1])\n",
    "    }\n",
    ")\n",
    "\n",
    "aiplatform.end_run()"
   ]
  },
  {
   "cell_type": "code",
   "execution_count": 103,
   "id": "75d1843b-c763-4ca3-bed6-d954c680a66d",
   "metadata": {},
   "outputs": [],
   "source": [
    "def plot(metric_results, metric_name):\n",
    "    plt.plot(metric_results[metric_name])\n",
    "    plt.ylabel(metric_name)\n",
    "    plt.xlabel(\"Step\")\n",
    "    plt.title(\"{} versus Step\".format(metric_name))"
   ]
  },
  {
   "cell_type": "code",
   "execution_count": 104,
   "id": "9a7ada8a-77b3-43f4-8631-aee319dc6523",
   "metadata": {},
   "outputs": [
    {
     "data": {
      "image/png": "[encoded data removed]",
      "text/plain": [
       "<Figure size 640x480 with 1 Axes>"
      ]
     },
     "metadata": {},
     "output_type": "display_data"
    }
   ],
   "source": [
    "plot(metric_results, \"RegretMetric\")"
   ]
  },
  {
   "cell_type": "code",
   "execution_count": 105,
   "id": "5ea3de56-3540-4258-88ce-fafea4ec50a7",
   "metadata": {},
   "outputs": [
    {
     "data": {
      "image/png": "[encoded data removed]",
      "text/plain": [
       "<Figure size 640x480 with 1 Axes>"
      ]
     },
     "metadata": {},
     "output_type": "display_data"
    }
   ],
   "source": [
    "plot(metric_results, \"AverageReturnMetric\")"
   ]
  },
  {
   "cell_type": "markdown",
   "id": "a2ceaca0-c58d-4c37-90ea-f4a00e034aee",
   "metadata": {
    "tags": []
   },
   "source": [
    "### Profiler"
   ]
  },
  {
   "cell_type": "code",
   "execution_count": 106,
   "id": "f3401ad6-ac68-49a6-8d16-3b3edf667eaf",
   "metadata": {},
   "outputs": [],
   "source": [
    "%load_ext tensorboard\n",
    "# %reload_ext tensorboard"
   ]
  },
  {
   "cell_type": "code",
   "execution_count": 146,
   "id": "22644f6b-1996-4c16-a81c-431b5cd68977",
   "metadata": {},
   "outputs": [],
   "source": [
    "%tensorboard --logdir=$LOG_DIR"
   ]
  },
  {
   "cell_type": "markdown",
   "id": "55ac6fd2-87c4-4c35-9ad5-96ff18235297",
   "metadata": {},
   "source": [
    "## load trained policy"
   ]
  },
  {
   "cell_type": "code",
   "execution_count": 118,
   "id": "588302a5-f514-44db-807a-af741e78b1ef",
   "metadata": {},
   "outputs": [
    {
     "data": {
      "text/plain": [
       "'gs://mabv1-hybrid-vertex-bucket/perarm-local-test/run-20230713-154556/root'"
      ]
     },
     "execution_count": 118,
     "metadata": {},
     "output_type": "execute_result"
    }
   ],
   "source": [
    "ROOT_DIR"
   ]
  },
  {
   "cell_type": "code",
   "execution_count": 119,
   "id": "6e580390-784b-4d3c-8a19-35fa3c4a1a89",
   "metadata": {},
   "outputs": [
    {
     "data": {
      "text/plain": [
       "<tensorflow.python.saved_model.load.Loader._recreate_base_user_object.<locals>._UserObject at 0x7ff4b8f31ff0>"
      ]
     },
     "execution_count": 119,
     "metadata": {},
     "output_type": "execute_result"
    }
   ],
   "source": [
    "trained_policy = tf.saved_model.load(ROOT_DIR)\n",
    "trained_policy"
   ]
  },
  {
   "cell_type": "code",
   "execution_count": 189,
   "id": "4b02504c-ec8d-464f-b847-1d313f77f0f5",
   "metadata": {
    "collapsed": true,
    "jupyter": {
     "outputs_hidden": true
    },
    "tags": []
   },
   "outputs": [
    {
     "name": "stdout",
     "output_type": "stream",
     "text": [
      "observation_dict  : {'global': array([[0, 0, 0, 0, 0, 0, 0, 0, 0, 0, 0, 0, 0, 0, 0, 0, 0, 0, 0, 0, 0, 0],\n",
      "       [0, 0, 0, 0, 0, 0, 0, 0, 0, 0, 0, 0, 0, 0, 0, 0, 0, 0, 0, 0, 0, 0],\n",
      "       [0, 0, 0, 0, 0, 0, 0, 0, 0, 0, 0, 0, 0, 0, 0, 0, 0, 0, 0, 0, 0, 0],\n",
      "       [0, 0, 0, 0, 0, 0, 0, 0, 0, 0, 0, 0, 0, 0, 0, 0, 0, 0, 0, 0, 0, 0],\n",
      "       [0, 0, 0, 0, 0, 0, 0, 0, 0, 0, 0, 0, 0, 0, 0, 0, 0, 0, 0, 0, 0, 0],\n",
      "       [0, 0, 0, 0, 0, 0, 0, 0, 0, 0, 0, 0, 0, 0, 0, 0, 0, 0, 0, 0, 0, 0],\n",
      "       [0, 0, 0, 0, 0, 0, 0, 0, 0, 0, 0, 0, 0, 0, 0, 0, 0, 0, 0, 0, 0, 0],\n",
      "       [0, 0, 0, 0, 0, 0, 0, 0, 0, 0, 0, 0, 0, 0, 0, 0, 0, 0, 0, 0, 0, 0]],\n",
      "      dtype=int32), 'per_arm': array([[[0, 0, 0, ..., 0, 0, 0],\n",
      "        [0, 0, 0, ..., 0, 0, 0],\n",
      "        [0, 0, 0, ..., 0, 0, 0],\n",
      "        ...,\n",
      "        [0, 0, 0, ..., 0, 0, 0],\n",
      "        [0, 0, 0, ..., 0, 0, 0],\n",
      "        [0, 0, 0, ..., 0, 0, 0]],\n",
      "\n",
      "       [[0, 0, 0, ..., 0, 0, 0],\n",
      "        [0, 0, 0, ..., 0, 0, 0],\n",
      "        [0, 0, 0, ..., 0, 0, 0],\n",
      "        ...,\n",
      "        [0, 0, 0, ..., 0, 0, 0],\n",
      "        [0, 0, 0, ..., 0, 0, 0],\n",
      "        [0, 0, 0, ..., 0, 0, 0]],\n",
      "\n",
      "       [[0, 0, 0, ..., 0, 0, 0],\n",
      "        [0, 0, 0, ..., 0, 0, 0],\n",
      "        [0, 0, 0, ..., 0, 0, 0],\n",
      "        ...,\n",
      "        [0, 0, 0, ..., 0, 0, 0],\n",
      "        [0, 0, 0, ..., 0, 0, 0],\n",
      "        [0, 0, 0, ..., 0, 0, 0]],\n",
      "\n",
      "       ...,\n",
      "\n",
      "       [[0, 0, 0, ..., 0, 0, 0],\n",
      "        [0, 0, 0, ..., 0, 0, 0],\n",
      "        [0, 0, 0, ..., 0, 0, 0],\n",
      "        ...,\n",
      "        [0, 0, 0, ..., 0, 0, 0],\n",
      "        [0, 0, 0, ..., 0, 0, 0],\n",
      "        [0, 0, 0, ..., 0, 0, 0]],\n",
      "\n",
      "       [[0, 0, 0, ..., 0, 0, 0],\n",
      "        [0, 0, 0, ..., 0, 0, 0],\n",
      "        [0, 0, 0, ..., 0, 0, 0],\n",
      "        ...,\n",
      "        [0, 0, 0, ..., 0, 0, 0],\n",
      "        [0, 0, 0, ..., 0, 0, 0],\n",
      "        [0, 0, 0, ..., 0, 0, 0]],\n",
      "\n",
      "       [[0, 0, 0, ..., 0, 0, 0],\n",
      "        [0, 0, 0, ..., 0, 0, 0],\n",
      "        [0, 0, 0, ..., 0, 0, 0],\n",
      "        ...,\n",
      "        [0, 0, 0, ..., 0, 0, 0],\n",
      "        [0, 0, 0, ..., 0, 0, 0],\n",
      "        [0, 0, 0, ..., 0, 0, 0]]], dtype=int32)}\n"
     ]
    }
   ],
   "source": [
    "# observation_list = [list(np.ones(RANK_K + 2)) for _ in range(BATCH_SIZE)]\n",
    "# observation_list\n",
    "\n",
    "# batched_observations = {\n",
    "#     GLOBAL_KEY:\n",
    "#         tf.convert_to_tensor(combined_user_features, dtype=tf.float32),\n",
    "#     PER_ARM_KEY:\n",
    "#         tf.convert_to_tensor(current_movies, dtype=tf.float32),\n",
    "# }\n",
    "\n",
    "# batched_observations\n",
    "\n",
    "observation_dict = {\n",
    "    GLOBAL_KEY:\n",
    "        np.zeros([BATCH_SIZE, RANK_K + 2], dtype=np.int32), #making space like above for dimensions\n",
    "    PER_ARM_KEY:\n",
    "        np.zeros([BATCH_SIZE, NUM_ACTIONS, RANK_K + 1], dtype=np.int32),\n",
    "}\n",
    "\n",
    "print(f\"observation_dict  : {observation_dict}\")"
   ]
  },
  {
   "cell_type": "code",
   "execution_count": 191,
   "id": "d183ac62-c7d6-4564-bdc0-83274eab02ad",
   "metadata": {},
   "outputs": [
    {
     "data": {
      "text/plain": [
       "TimeStep(\n",
       "{'discount': array([1., 1., 1., 1., 1., 1., 1., 1.], dtype=float32),\n",
       " 'observation': {'global': array([[0, 0, 0, 0, 0, 0, 0, 0, 0, 0, 0, 0, 0, 0, 0, 0, 0, 0, 0, 0, 0, 0],\n",
       "       [0, 0, 0, 0, 0, 0, 0, 0, 0, 0, 0, 0, 0, 0, 0, 0, 0, 0, 0, 0, 0, 0],\n",
       "       [0, 0, 0, 0, 0, 0, 0, 0, 0, 0, 0, 0, 0, 0, 0, 0, 0, 0, 0, 0, 0, 0],\n",
       "       [0, 0, 0, 0, 0, 0, 0, 0, 0, 0, 0, 0, 0, 0, 0, 0, 0, 0, 0, 0, 0, 0],\n",
       "       [0, 0, 0, 0, 0, 0, 0, 0, 0, 0, 0, 0, 0, 0, 0, 0, 0, 0, 0, 0, 0, 0],\n",
       "       [0, 0, 0, 0, 0, 0, 0, 0, 0, 0, 0, 0, 0, 0, 0, 0, 0, 0, 0, 0, 0, 0],\n",
       "       [0, 0, 0, 0, 0, 0, 0, 0, 0, 0, 0, 0, 0, 0, 0, 0, 0, 0, 0, 0, 0, 0],\n",
       "       [0, 0, 0, 0, 0, 0, 0, 0, 0, 0, 0, 0, 0, 0, 0, 0, 0, 0, 0, 0, 0, 0]],\n",
       "      dtype=int32),\n",
       "                 'per_arm': array([[[0, 0, 0, ..., 0, 0, 0],\n",
       "        [0, 0, 0, ..., 0, 0, 0],\n",
       "        [0, 0, 0, ..., 0, 0, 0],\n",
       "        ...,\n",
       "        [0, 0, 0, ..., 0, 0, 0],\n",
       "        [0, 0, 0, ..., 0, 0, 0],\n",
       "        [0, 0, 0, ..., 0, 0, 0]],\n",
       "\n",
       "       [[0, 0, 0, ..., 0, 0, 0],\n",
       "        [0, 0, 0, ..., 0, 0, 0],\n",
       "        [0, 0, 0, ..., 0, 0, 0],\n",
       "        ...,\n",
       "        [0, 0, 0, ..., 0, 0, 0],\n",
       "        [0, 0, 0, ..., 0, 0, 0],\n",
       "        [0, 0, 0, ..., 0, 0, 0]],\n",
       "\n",
       "       [[0, 0, 0, ..., 0, 0, 0],\n",
       "        [0, 0, 0, ..., 0, 0, 0],\n",
       "        [0, 0, 0, ..., 0, 0, 0],\n",
       "        ...,\n",
       "        [0, 0, 0, ..., 0, 0, 0],\n",
       "        [0, 0, 0, ..., 0, 0, 0],\n",
       "        [0, 0, 0, ..., 0, 0, 0]],\n",
       "\n",
       "       ...,\n",
       "\n",
       "       [[0, 0, 0, ..., 0, 0, 0],\n",
       "        [0, 0, 0, ..., 0, 0, 0],\n",
       "        [0, 0, 0, ..., 0, 0, 0],\n",
       "        ...,\n",
       "        [0, 0, 0, ..., 0, 0, 0],\n",
       "        [0, 0, 0, ..., 0, 0, 0],\n",
       "        [0, 0, 0, ..., 0, 0, 0]],\n",
       "\n",
       "       [[0, 0, 0, ..., 0, 0, 0],\n",
       "        [0, 0, 0, ..., 0, 0, 0],\n",
       "        [0, 0, 0, ..., 0, 0, 0],\n",
       "        ...,\n",
       "        [0, 0, 0, ..., 0, 0, 0],\n",
       "        [0, 0, 0, ..., 0, 0, 0],\n",
       "        [0, 0, 0, ..., 0, 0, 0]],\n",
       "\n",
       "       [[0, 0, 0, ..., 0, 0, 0],\n",
       "        [0, 0, 0, ..., 0, 0, 0],\n",
       "        [0, 0, 0, ..., 0, 0, 0],\n",
       "        ...,\n",
       "        [0, 0, 0, ..., 0, 0, 0],\n",
       "        [0, 0, 0, ..., 0, 0, 0],\n",
       "        [0, 0, 0, ..., 0, 0, 0]]], dtype=int32)},\n",
       " 'reward': array([0., 0., 0., 0., 0., 0., 0., 0.], dtype=float32),\n",
       " 'step_type': array([0, 0, 0, 0, 0, 0, 0, 0], dtype=int32)})"
      ]
     },
     "execution_count": 191,
     "metadata": {},
     "output_type": "execute_result"
    }
   ],
   "source": [
    "time_step = tf_agents.trajectories.restart(\n",
    "    observation=observation_dict,\n",
    "    batch_size=tf.convert_to_tensor([BATCH_SIZE]),\n",
    ")\n",
    "time_step"
   ]
  },
  {
   "cell_type": "code",
   "execution_count": null,
   "id": "a68d3fc4-69f3-4c92-a8a0-738b57937963",
   "metadata": {},
   "outputs": [],
   "source": [
    "action_step = trained_policy.action(time_step)\n",
    "action_step.action.numpy().tolist()"
   ]
  },
  {
   "cell_type": "code",
   "execution_count": 184,
   "id": "d894e533-1adb-46ad-b2b7-690d4910a1ef",
   "metadata": {},
   "outputs": [
    {
     "data": {
      "text/plain": [
       "[10, 17, 10, 15, 0, 14, 1, 15]"
      ]
     },
     "execution_count": 184,
     "metadata": {},
     "output_type": "execute_result"
    }
   ],
   "source": [
    "observation_array = environment._observe()\n",
    "\n",
    "time_step = tf_agents.trajectories.restart(\n",
    "    observation=observation_array,\n",
    "    batch_size=tf.convert_to_tensor([BATCH_SIZE]),\n",
    ")\n",
    "\n",
    "action_step = trained_policy.action(time_step)\n",
    "\n",
    "action_step.action.numpy().tolist()"
   ]
  },
  {
   "cell_type": "code",
   "execution_count": 122,
   "id": "c1347b22-95ad-4659-aa1b-5542322f9928",
   "metadata": {
    "tags": []
   },
   "outputs": [
    {
     "data": {
      "text/plain": [
       "{'global': <tf.Tensor: shape=(8, 22), dtype=float32, numpy=\n",
       " array([[-1.2873987e-02, -2.1390352e-02,  4.6473794e-02,  1.2905279e-02,\n",
       "          1.8002745e-02,  1.7323282e-02,  4.0619403e-02, -1.8831192e-03,\n",
       "          3.5232522e-02, -4.7737733e-02,  3.5911977e-02,  2.8632969e-02,\n",
       "          1.5208208e-03, -8.5478518e-03, -1.0778209e-02,  4.2909261e-02,\n",
       "          4.1823767e-02,  2.3449438e-03, -2.0098533e-02,  5.6047082e-02,\n",
       "          3.0000999e+00,  2.0000999e+00],\n",
       "        [-1.7549284e-02,  3.1996551e-03,  1.8386850e-02,  1.2473919e-02,\n",
       "          4.3198387e-03, -3.2752186e-02,  4.4371351e-03, -1.9762106e-02,\n",
       "          1.8484747e-02, -2.2252942e-03,  1.6091483e-02,  1.3519984e-02,\n",
       "         -1.0761653e-02,  8.0836611e-03, -1.6782213e-02, -4.3056097e-02,\n",
       "          6.2738741e-03,  4.5072705e-02,  3.1135675e-02, -3.9139803e-02,\n",
       "          2.0000999e+00,  6.0001001e+00],\n",
       "        [-3.9113931e-02,  2.2795230e-02,  5.0533485e-02, -1.0424367e-02,\n",
       "          2.6395298e-03,  4.1149292e-02, -3.2692634e-02, -7.8519657e-02,\n",
       "         -4.8243895e-02, -2.7656512e-02, -2.0028943e-02,  4.0305164e-02,\n",
       "         -6.9849446e-02, -6.1262265e-02, -2.4702676e-02,  3.0071849e-02,\n",
       "         -1.4172895e-02,  3.9096251e-03, -9.3963020e-02,  1.0849109e-02,\n",
       "          3.0000999e+00,  1.0001000e+00],\n",
       "        [-2.2663567e-03, -1.2628444e-02,  9.8473970e-03, -1.2694818e-02,\n",
       "         -1.0959377e-02,  1.9858012e-04,  3.1304575e-04,  4.7121397e-03,\n",
       "         -1.2588921e-02, -8.7891007e-03,  3.1366097e-03, -1.2273650e-02,\n",
       "         -8.3603797e-04,  4.6333144e-03, -4.7809560e-02,  6.3083405e-03,\n",
       "          4.9088523e-04, -4.4955194e-04, -1.8104333e-02,  1.3597207e-02,\n",
       "          6.0001001e+00,  7.0001001e+00],\n",
       "        [-2.2167875e-02,  1.2536277e-02, -1.7687703e-02, -3.4533106e-03,\n",
       "         -9.7395561e-04, -3.9468765e-02, -5.0388258e-03, -5.2861206e-02,\n",
       "         -1.1303232e-02,  2.0371899e-03,  3.3693574e-02, -2.4683505e-02,\n",
       "         -5.8054896e-03,  6.1930665e-03,  1.0427003e-02,  4.1616924e-02,\n",
       "         -1.5383828e-02, -3.2544232e-03, -2.5327120e-02, -1.2492494e-02,\n",
       "          1.0001000e+00,  1.0000100e+01],\n",
       "        [-4.1911234e-03, -2.1382326e-02,  2.2324307e-02, -2.7237877e-02,\n",
       "         -3.2178011e-02,  2.3002455e-03,  8.8810585e-03, -4.1775783e-03,\n",
       "         -2.1771407e-03, -4.8314328e-03, -6.9652050e-04, -7.2319941e-03,\n",
       "          3.6515722e-03,  3.7923125e-03,  1.4353522e-02, -1.3905171e-02,\n",
       "          2.1384411e-02,  8.0052391e-03,  1.0051272e-02, -8.3712366e-05,\n",
       "          3.0000999e+00,  1.0001000e+00],\n",
       "        [-4.6851360e-03, -2.6658496e-02,  2.3727177e-02, -4.4710722e-02,\n",
       "         -3.5555456e-02,  5.8987434e-04,  4.9641971e-03, -5.0817900e-03,\n",
       "         -3.4699070e-03, -1.3401484e-03, -1.8579310e-02, -1.8398866e-02,\n",
       "          6.5504727e-03,  2.7638904e-03,  2.1280380e-02, -6.1360123e-03,\n",
       "          1.9883523e-02,  6.9567114e-03,  3.0264968e-02,  3.4094385e-03,\n",
       "          4.0001001e+00,  1.0000100e+01],\n",
       "        [-4.0815556e-03, -2.1441216e-02,  2.0187514e-02, -1.8101037e-02,\n",
       "         -3.3084545e-02,  1.9783156e-03,  1.2061572e-02,  5.3611257e-06,\n",
       "         -1.8473940e-02, -3.0445675e-03,  4.2965794e-03, -6.1851898e-03,\n",
       "         -1.6279216e-03, -7.1232617e-03, -2.3565523e-02, -7.6087648e-03,\n",
       "          3.2481069e-03, -9.5731067e-03, -2.6677027e-02,  1.7741676e-02,\n",
       "          1.0001000e+00,  1.6000099e+01]], dtype=float32)>,\n",
       " 'per_arm': <tf.Tensor: shape=(8, 20, 21), dtype=float32, numpy=\n",
       " array([[[-2.45361007e-03, -2.92136287e-03, -5.75422216e-03, ...,\n",
       "          -4.81287250e-04, -2.11178837e-03,  1.00010002e+00],\n",
       "         [-3.05079102e-05, -3.14309873e-04,  1.38755247e-04, ...,\n",
       "          -1.36341993e-03, -4.51916800e-04,  9.99999975e-05],\n",
       "         [-3.79535579e-03, -3.25503119e-04,  5.68946963e-03, ...,\n",
       "          -1.94089692e-02, -1.90546121e-02,  4.00010014e+00],\n",
       "         ...,\n",
       "         [-1.11329940e-03,  1.43702328e-03,  2.02982780e-03, ...,\n",
       "           2.78853159e-03,  1.29813673e-02,  3.00009990e+00],\n",
       "         [-4.07728627e-02,  3.73689756e-02,  4.69364822e-02, ...,\n",
       "          -1.80372801e-02,  3.16854753e-02,  7.00010014e+00],\n",
       "         [-1.37804542e-03, -2.85017828e-04, -2.67751236e-03, ...,\n",
       "           5.52168535e-03,  3.16262455e-03,  9.99999975e-05]],\n",
       " \n",
       "        [[-1.20330823e-03, -4.98745264e-03,  1.50035985e-03, ...,\n",
       "          -9.95009579e-03,  4.25171480e-03,  5.00010014e+00],\n",
       "         [-1.68291898e-03, -1.32073625e-03, -4.95322561e-03, ...,\n",
       "           5.22100972e-03, -4.80568316e-03,  7.00010014e+00],\n",
       "         [-3.23382020e-02, -6.03822321e-02,  3.86517085e-02, ...,\n",
       "           5.63373119e-02,  2.24683322e-02,  9.99999975e-05],\n",
       "         ...,\n",
       "         [-2.24759593e-03, -2.71949032e-03,  9.98066831e-03, ...,\n",
       "          -5.07900119e-03,  8.86321254e-03,  9.99999975e-05],\n",
       "         [-9.20904786e-05, -2.85553942e-05, -1.99222864e-04, ...,\n",
       "          -1.73619163e-04, -1.20851997e-04,  1.50001001e+01],\n",
       "         [-2.91126333e-02, -3.90886003e-03, -3.06362808e-02, ...,\n",
       "           6.04755320e-02,  1.81077956e-03,  7.00010014e+00]],\n",
       " \n",
       "        [[-6.49211556e-03, -1.87542066e-02, -8.78968742e-03, ...,\n",
       "          -1.51654659e-02, -2.36299913e-02,  3.00009990e+00],\n",
       "         [-1.42169390e-02,  2.19279267e-02,  1.61169395e-02, ...,\n",
       "          -2.56459811e-03,  2.46088132e-02,  9.99999975e-05],\n",
       "         [-3.83604225e-03, -4.63060220e-04,  8.44266091e-04, ...,\n",
       "           7.53060158e-04,  5.40694175e-03,  7.00010014e+00],\n",
       "         ...,\n",
       "         [-2.20500771e-03, -5.73565811e-03,  8.58613476e-03, ...,\n",
       "          -9.98645835e-03,  1.04255800e-03,  9.99999975e-05],\n",
       "         [-8.82324353e-02,  3.06533072e-02,  1.75767783e-02, ...,\n",
       "          -3.41812405e-03, -3.69071998e-02,  9.99999975e-05],\n",
       "         [-3.38992081e-03,  3.99953499e-03,  9.26515460e-03, ...,\n",
       "           1.49930781e-03,  4.63056099e-03,  9.99999975e-05]],\n",
       " \n",
       "        ...,\n",
       " \n",
       "        [[-4.33196463e-02, -1.42904953e-03, -6.44150702e-03, ...,\n",
       "          -4.44425531e-02, -1.63391158e-02,  7.00010014e+00],\n",
       "         [-2.71668006e-03, -1.60325447e-03, -8.78070714e-05, ...,\n",
       "           2.88806227e-03, -7.07147643e-03,  7.00010014e+00],\n",
       "         [-3.99636710e-03, -1.01199951e-02,  7.84650911e-03, ...,\n",
       "          -1.56412758e-02,  1.05380290e-03,  4.00010014e+00],\n",
       "         ...,\n",
       "         [-2.07843888e-03, -4.74509830e-03,  4.31946618e-03, ...,\n",
       "          -1.23380814e-02, -3.30665614e-03,  1.00001001e+01],\n",
       "         [-3.13063711e-02,  4.16836672e-04, -9.87183955e-03, ...,\n",
       "          -1.77202765e-02, -1.57370660e-02,  7.00010014e+00],\n",
       "         [-1.76518485e-02, -3.04364171e-02, -1.84713025e-02, ...,\n",
       "          -1.92363989e-02, -2.81894952e-02,  7.00010014e+00]],\n",
       " \n",
       "        [[-1.06811300e-02,  1.81978494e-02,  1.93559676e-02, ...,\n",
       "           3.37250158e-02, -4.07577900e-04,  9.99999975e-05],\n",
       "         [-3.38634327e-02,  1.61442608e-02, -1.10798869e-02, ...,\n",
       "           1.74906440e-02, -1.60444509e-02,  4.00010014e+00],\n",
       "         [-9.57235534e-05,  2.19103051e-04, -2.45190895e-04, ...,\n",
       "           1.42034236e-03, -1.59646734e-03,  7.00010014e+00],\n",
       "         ...,\n",
       "         [-2.77776234e-02,  1.26524188e-03, -4.66899984e-02, ...,\n",
       "           2.93325458e-04,  2.61382945e-02,  1.00010002e+00],\n",
       "         [-6.34083117e-04, -4.70469211e-04, -1.21125160e-03, ...,\n",
       "           2.29137787e-03,  3.57117085e-03,  7.00010014e+00],\n",
       "         [-8.52288038e-04,  9.69147484e-04,  1.30425498e-03, ...,\n",
       "          -3.68028507e-03,  3.79158417e-04,  5.00010014e+00]],\n",
       " \n",
       "        [[-4.28768653e-05, -5.75652753e-04,  5.00363007e-04, ...,\n",
       "           2.61078618e-04, -3.10227653e-04,  7.00010014e+00],\n",
       "         [-7.59480172e-04, -1.38399715e-03,  4.63851867e-03, ...,\n",
       "          -5.15667070e-03,  1.70866144e-03,  4.00010014e+00],\n",
       "         [-4.05767420e-03, -6.32916577e-03,  9.61427484e-03, ...,\n",
       "          -2.26913430e-02, -2.29998287e-02,  9.99999975e-05],\n",
       "         ...,\n",
       "         [-5.37639891e-04, -5.24676405e-04, -7.10247376e-04, ...,\n",
       "          -3.04722297e-03, -5.76995197e-04,  9.99999975e-05],\n",
       "         [-8.30628350e-03,  8.67146906e-03, -1.03562595e-02, ...,\n",
       "          -7.58770155e-03,  3.17260064e-02,  1.00001001e+01],\n",
       "         [-9.89714358e-03, -1.74833331e-02, -1.80335995e-02, ...,\n",
       "          -1.06928870e-02, -6.26652502e-03,  1.00001001e+01]]],\n",
       "       dtype=float32)>}"
      ]
     },
     "execution_count": 122,
     "metadata": {},
     "output_type": "execute_result"
    }
   ],
   "source": [
    "observation_array = environment._observe()\n",
    "observation_array"
   ]
  },
  {
   "cell_type": "code",
   "execution_count": 123,
   "id": "5f8c4b93-79a9-40ce-a0f4-89730044d97e",
   "metadata": {},
   "outputs": [
    {
     "data": {
      "text/plain": [
       "TimeStep(\n",
       "{'discount': <tf.Tensor: shape=(8,), dtype=float32, numpy=array([1., 1., 1., 1., 1., 1., 1., 1.], dtype=float32)>,\n",
       " 'observation': {'global': <tf.Tensor: shape=(8, 22), dtype=float32, numpy=\n",
       "array([[-1.2873987e-02, -2.1390352e-02,  4.6473794e-02,  1.2905279e-02,\n",
       "         1.8002745e-02,  1.7323282e-02,  4.0619403e-02, -1.8831192e-03,\n",
       "         3.5232522e-02, -4.7737733e-02,  3.5911977e-02,  2.8632969e-02,\n",
       "         1.5208208e-03, -8.5478518e-03, -1.0778209e-02,  4.2909261e-02,\n",
       "         4.1823767e-02,  2.3449438e-03, -2.0098533e-02,  5.6047082e-02,\n",
       "         3.0000999e+00,  2.0000999e+00],\n",
       "       [-1.7549284e-02,  3.1996551e-03,  1.8386850e-02,  1.2473919e-02,\n",
       "         4.3198387e-03, -3.2752186e-02,  4.4371351e-03, -1.9762106e-02,\n",
       "         1.8484747e-02, -2.2252942e-03,  1.6091483e-02,  1.3519984e-02,\n",
       "        -1.0761653e-02,  8.0836611e-03, -1.6782213e-02, -4.3056097e-02,\n",
       "         6.2738741e-03,  4.5072705e-02,  3.1135675e-02, -3.9139803e-02,\n",
       "         2.0000999e+00,  6.0001001e+00],\n",
       "       [-3.9113931e-02,  2.2795230e-02,  5.0533485e-02, -1.0424367e-02,\n",
       "         2.6395298e-03,  4.1149292e-02, -3.2692634e-02, -7.8519657e-02,\n",
       "        -4.8243895e-02, -2.7656512e-02, -2.0028943e-02,  4.0305164e-02,\n",
       "        -6.9849446e-02, -6.1262265e-02, -2.4702676e-02,  3.0071849e-02,\n",
       "        -1.4172895e-02,  3.9096251e-03, -9.3963020e-02,  1.0849109e-02,\n",
       "         3.0000999e+00,  1.0001000e+00],\n",
       "       [-2.2663567e-03, -1.2628444e-02,  9.8473970e-03, -1.2694818e-02,\n",
       "        -1.0959377e-02,  1.9858012e-04,  3.1304575e-04,  4.7121397e-03,\n",
       "        -1.2588921e-02, -8.7891007e-03,  3.1366097e-03, -1.2273650e-02,\n",
       "        -8.3603797e-04,  4.6333144e-03, -4.7809560e-02,  6.3083405e-03,\n",
       "         4.9088523e-04, -4.4955194e-04, -1.8104333e-02,  1.3597207e-02,\n",
       "         6.0001001e+00,  7.0001001e+00],\n",
       "       [-2.2167875e-02,  1.2536277e-02, -1.7687703e-02, -3.4533106e-03,\n",
       "        -9.7395561e-04, -3.9468765e-02, -5.0388258e-03, -5.2861206e-02,\n",
       "        -1.1303232e-02,  2.0371899e-03,  3.3693574e-02, -2.4683505e-02,\n",
       "        -5.8054896e-03,  6.1930665e-03,  1.0427003e-02,  4.1616924e-02,\n",
       "        -1.5383828e-02, -3.2544232e-03, -2.5327120e-02, -1.2492494e-02,\n",
       "         1.0001000e+00,  1.0000100e+01],\n",
       "       [-4.1911234e-03, -2.1382326e-02,  2.2324307e-02, -2.7237877e-02,\n",
       "        -3.2178011e-02,  2.3002455e-03,  8.8810585e-03, -4.1775783e-03,\n",
       "        -2.1771407e-03, -4.8314328e-03, -6.9652050e-04, -7.2319941e-03,\n",
       "         3.6515722e-03,  3.7923125e-03,  1.4353522e-02, -1.3905171e-02,\n",
       "         2.1384411e-02,  8.0052391e-03,  1.0051272e-02, -8.3712366e-05,\n",
       "         3.0000999e+00,  1.0001000e+00],\n",
       "       [-4.6851360e-03, -2.6658496e-02,  2.3727177e-02, -4.4710722e-02,\n",
       "        -3.5555456e-02,  5.8987434e-04,  4.9641971e-03, -5.0817900e-03,\n",
       "        -3.4699070e-03, -1.3401484e-03, -1.8579310e-02, -1.8398866e-02,\n",
       "         6.5504727e-03,  2.7638904e-03,  2.1280380e-02, -6.1360123e-03,\n",
       "         1.9883523e-02,  6.9567114e-03,  3.0264968e-02,  3.4094385e-03,\n",
       "         4.0001001e+00,  1.0000100e+01],\n",
       "       [-4.0815556e-03, -2.1441216e-02,  2.0187514e-02, -1.8101037e-02,\n",
       "        -3.3084545e-02,  1.9783156e-03,  1.2061572e-02,  5.3611257e-06,\n",
       "        -1.8473940e-02, -3.0445675e-03,  4.2965794e-03, -6.1851898e-03,\n",
       "        -1.6279216e-03, -7.1232617e-03, -2.3565523e-02, -7.6087648e-03,\n",
       "         3.2481069e-03, -9.5731067e-03, -2.6677027e-02,  1.7741676e-02,\n",
       "         1.0001000e+00,  1.6000099e+01]], dtype=float32)>,\n",
       "                 'per_arm': <tf.Tensor: shape=(8, 20, 21), dtype=float32, numpy=\n",
       "array([[[-2.45361007e-03, -2.92136287e-03, -5.75422216e-03, ...,\n",
       "         -4.81287250e-04, -2.11178837e-03,  1.00010002e+00],\n",
       "        [-3.05079102e-05, -3.14309873e-04,  1.38755247e-04, ...,\n",
       "         -1.36341993e-03, -4.51916800e-04,  9.99999975e-05],\n",
       "        [-3.79535579e-03, -3.25503119e-04,  5.68946963e-03, ...,\n",
       "         -1.94089692e-02, -1.90546121e-02,  4.00010014e+00],\n",
       "        ...,\n",
       "        [-1.11329940e-03,  1.43702328e-03,  2.02982780e-03, ...,\n",
       "          2.78853159e-03,  1.29813673e-02,  3.00009990e+00],\n",
       "        [-4.07728627e-02,  3.73689756e-02,  4.69364822e-02, ...,\n",
       "         -1.80372801e-02,  3.16854753e-02,  7.00010014e+00],\n",
       "        [-1.37804542e-03, -2.85017828e-04, -2.67751236e-03, ...,\n",
       "          5.52168535e-03,  3.16262455e-03,  9.99999975e-05]],\n",
       "\n",
       "       [[-1.20330823e-03, -4.98745264e-03,  1.50035985e-03, ...,\n",
       "         -9.95009579e-03,  4.25171480e-03,  5.00010014e+00],\n",
       "        [-1.68291898e-03, -1.32073625e-03, -4.95322561e-03, ...,\n",
       "          5.22100972e-03, -4.80568316e-03,  7.00010014e+00],\n",
       "        [-3.23382020e-02, -6.03822321e-02,  3.86517085e-02, ...,\n",
       "          5.63373119e-02,  2.24683322e-02,  9.99999975e-05],\n",
       "        ...,\n",
       "        [-2.24759593e-03, -2.71949032e-03,  9.98066831e-03, ...,\n",
       "         -5.07900119e-03,  8.86321254e-03,  9.99999975e-05],\n",
       "        [-9.20904786e-05, -2.85553942e-05, -1.99222864e-04, ...,\n",
       "         -1.73619163e-04, -1.20851997e-04,  1.50001001e+01],\n",
       "        [-2.91126333e-02, -3.90886003e-03, -3.06362808e-02, ...,\n",
       "          6.04755320e-02,  1.81077956e-03,  7.00010014e+00]],\n",
       "\n",
       "       [[-6.49211556e-03, -1.87542066e-02, -8.78968742e-03, ...,\n",
       "         -1.51654659e-02, -2.36299913e-02,  3.00009990e+00],\n",
       "        [-1.42169390e-02,  2.19279267e-02,  1.61169395e-02, ...,\n",
       "         -2.56459811e-03,  2.46088132e-02,  9.99999975e-05],\n",
       "        [-3.83604225e-03, -4.63060220e-04,  8.44266091e-04, ...,\n",
       "          7.53060158e-04,  5.40694175e-03,  7.00010014e+00],\n",
       "        ...,\n",
       "        [-2.20500771e-03, -5.73565811e-03,  8.58613476e-03, ...,\n",
       "         -9.98645835e-03,  1.04255800e-03,  9.99999975e-05],\n",
       "        [-8.82324353e-02,  3.06533072e-02,  1.75767783e-02, ...,\n",
       "         -3.41812405e-03, -3.69071998e-02,  9.99999975e-05],\n",
       "        [-3.38992081e-03,  3.99953499e-03,  9.26515460e-03, ...,\n",
       "          1.49930781e-03,  4.63056099e-03,  9.99999975e-05]],\n",
       "\n",
       "       ...,\n",
       "\n",
       "       [[-4.33196463e-02, -1.42904953e-03, -6.44150702e-03, ...,\n",
       "         -4.44425531e-02, -1.63391158e-02,  7.00010014e+00],\n",
       "        [-2.71668006e-03, -1.60325447e-03, -8.78070714e-05, ...,\n",
       "          2.88806227e-03, -7.07147643e-03,  7.00010014e+00],\n",
       "        [-3.99636710e-03, -1.01199951e-02,  7.84650911e-03, ...,\n",
       "         -1.56412758e-02,  1.05380290e-03,  4.00010014e+00],\n",
       "        ...,\n",
       "        [-2.07843888e-03, -4.74509830e-03,  4.31946618e-03, ...,\n",
       "         -1.23380814e-02, -3.30665614e-03,  1.00001001e+01],\n",
       "        [-3.13063711e-02,  4.16836672e-04, -9.87183955e-03, ...,\n",
       "         -1.77202765e-02, -1.57370660e-02,  7.00010014e+00],\n",
       "        [-1.76518485e-02, -3.04364171e-02, -1.84713025e-02, ...,\n",
       "         -1.92363989e-02, -2.81894952e-02,  7.00010014e+00]],\n",
       "\n",
       "       [[-1.06811300e-02,  1.81978494e-02,  1.93559676e-02, ...,\n",
       "          3.37250158e-02, -4.07577900e-04,  9.99999975e-05],\n",
       "        [-3.38634327e-02,  1.61442608e-02, -1.10798869e-02, ...,\n",
       "          1.74906440e-02, -1.60444509e-02,  4.00010014e+00],\n",
       "        [-9.57235534e-05,  2.19103051e-04, -2.45190895e-04, ...,\n",
       "          1.42034236e-03, -1.59646734e-03,  7.00010014e+00],\n",
       "        ...,\n",
       "        [-2.77776234e-02,  1.26524188e-03, -4.66899984e-02, ...,\n",
       "          2.93325458e-04,  2.61382945e-02,  1.00010002e+00],\n",
       "        [-6.34083117e-04, -4.70469211e-04, -1.21125160e-03, ...,\n",
       "          2.29137787e-03,  3.57117085e-03,  7.00010014e+00],\n",
       "        [-8.52288038e-04,  9.69147484e-04,  1.30425498e-03, ...,\n",
       "         -3.68028507e-03,  3.79158417e-04,  5.00010014e+00]],\n",
       "\n",
       "       [[-4.28768653e-05, -5.75652753e-04,  5.00363007e-04, ...,\n",
       "          2.61078618e-04, -3.10227653e-04,  7.00010014e+00],\n",
       "        [-7.59480172e-04, -1.38399715e-03,  4.63851867e-03, ...,\n",
       "         -5.15667070e-03,  1.70866144e-03,  4.00010014e+00],\n",
       "        [-4.05767420e-03, -6.32916577e-03,  9.61427484e-03, ...,\n",
       "         -2.26913430e-02, -2.29998287e-02,  9.99999975e-05],\n",
       "        ...,\n",
       "        [-5.37639891e-04, -5.24676405e-04, -7.10247376e-04, ...,\n",
       "         -3.04722297e-03, -5.76995197e-04,  9.99999975e-05],\n",
       "        [-8.30628350e-03,  8.67146906e-03, -1.03562595e-02, ...,\n",
       "         -7.58770155e-03,  3.17260064e-02,  1.00001001e+01],\n",
       "        [-9.89714358e-03, -1.74833331e-02, -1.80335995e-02, ...,\n",
       "         -1.06928870e-02, -6.26652502e-03,  1.00001001e+01]]],\n",
       "      dtype=float32)>},\n",
       " 'reward': <tf.Tensor: shape=(8,), dtype=float32, numpy=array([0., 0., 0., 0., 0., 0., 0., 0.], dtype=float32)>,\n",
       " 'step_type': <tf.Tensor: shape=(8,), dtype=int32, numpy=array([0, 0, 0, 0, 0, 0, 0, 0], dtype=int32)>})"
      ]
     },
     "execution_count": 123,
     "metadata": {},
     "output_type": "execute_result"
    }
   ],
   "source": [
    "import tf_agents\n",
    "\n",
    "time_step = tf_agents.trajectories.restart(\n",
    "    observation=observation_array,\n",
    "    batch_size=tf.convert_to_tensor([BATCH_SIZE]),\n",
    ")\n",
    "time_step"
   ]
  },
  {
   "cell_type": "code",
   "execution_count": 124,
   "id": "998fcca0-9388-4070-a8d2-aad4b4f594fe",
   "metadata": {},
   "outputs": [
    {
     "data": {
      "text/plain": [
       "PolicyStep(action=<tf.Tensor: shape=(8,), dtype=int32, numpy=array([18,  4, 18,  8, 18,  6, 17, 14], dtype=int32)>, state=(), info=PerArmPolicyInfo(log_probability=(), predicted_rewards_mean=(), multiobjective_scalarized_predicted_rewards_mean=(), predicted_rewards_optimistic=(), predicted_rewards_sampled=(), bandit_policy_type=(), chosen_arm_features=<tf.Tensor: shape=(8, 21), dtype=float32, numpy=\n",
       "array([[-4.07728627e-02,  3.73689756e-02,  4.69364822e-02,\n",
       "        -1.36779407e-02,  4.09221426e-02,  7.41495490e-02,\n",
       "         2.38642823e-02, -2.87586208e-02,  7.93194398e-02,\n",
       "        -9.33892429e-02, -6.31138384e-02,  1.45214591e-02,\n",
       "        -2.04371829e-02, -3.38719003e-02, -3.12873907e-02,\n",
       "         1.15584182e-02, -2.91644130e-03,  1.69797353e-02,\n",
       "        -1.80372801e-02,  3.16854753e-02,  7.00010014e+00],\n",
       "       [-9.31553021e-02,  2.30988413e-02, -4.64833453e-02,\n",
       "        -4.15738858e-03, -4.10822546e-03, -1.66582465e-02,\n",
       "         1.56104028e-01, -3.71573344e-02, -3.01199071e-02,\n",
       "         4.21681032e-02, -5.88604771e-02, -3.97748798e-02,\n",
       "        -1.11259654e-01, -6.23396151e-02, -2.41564102e-02,\n",
       "        -5.13379462e-02, -7.10714236e-03,  2.41655093e-02,\n",
       "        -4.31774668e-02, -5.73795289e-02,  9.99999975e-05],\n",
       "       [-8.82324353e-02,  3.06533072e-02,  1.75767783e-02,\n",
       "        -2.63533108e-02,  4.23102118e-02, -7.91078899e-03,\n",
       "        -2.85310466e-02, -2.10500672e-01, -3.11932191e-02,\n",
       "         1.74277946e-02, -5.03268540e-02,  8.78900662e-02,\n",
       "         5.81769198e-02,  4.17553261e-02, -6.89416006e-02,\n",
       "        -1.11602275e-02,  4.03245203e-02,  6.19316809e-02,\n",
       "        -3.41812405e-03, -3.69071998e-02,  9.99999975e-05],\n",
       "       [-8.08746293e-02,  2.10797470e-02, -5.09998389e-02,\n",
       "         3.92500013e-02, -8.19609091e-02, -9.39707160e-02,\n",
       "         1.74429733e-02, -1.10248290e-02,  4.30527329e-02,\n",
       "        -8.26750621e-02, -1.01708155e-02,  9.23709292e-03,\n",
       "        -7.84891173e-02,  3.73213142e-02,  3.32216322e-02,\n",
       "        -2.25259643e-02, -5.70911095e-02,  1.82144493e-02,\n",
       "        -3.97694632e-02, -2.91890115e-03,  9.99999975e-05],\n",
       "       [-6.10209629e-02, -1.24717616e-01,  8.87469724e-02,\n",
       "        -1.55724853e-01, -1.05198823e-01,  9.72299278e-03,\n",
       "         4.45707254e-02, -2.88579371e-02, -2.56256126e-02,\n",
       "        -9.74794757e-03, -5.66305108e-02,  7.25218430e-02,\n",
       "         5.90866338e-03,  2.20090114e-02,  2.44719416e-01,\n",
       "         1.16708688e-02,  2.19240606e-01, -4.08418961e-02,\n",
       "         1.14927888e-01,  7.58887967e-03,  9.99999975e-05],\n",
       "       [-7.84080848e-02,  2.04515178e-02, -5.14324717e-02,\n",
       "        -4.29082327e-02,  2.93800309e-02, -9.71257873e-03,\n",
       "         2.81866025e-02, -8.39408487e-02, -4.48698699e-02,\n",
       "         3.35951033e-03, -2.52580829e-02,  4.30716015e-02,\n",
       "         2.02637482e-02,  1.02797426e-01, -5.76781929e-02,\n",
       "        -5.67455366e-02, -1.36804464e-03, -6.83914870e-02,\n",
       "        -4.25246358e-03, -3.63940038e-02,  4.00010014e+00],\n",
       "       [-2.77776234e-02,  1.26524188e-03, -4.66899984e-02,\n",
       "        -1.90920681e-02, -3.14943530e-02, -1.72748454e-02,\n",
       "         1.15352524e-02,  4.15332019e-02,  5.71609139e-02,\n",
       "        -6.20739311e-02,  4.39759679e-02, -1.34277679e-02,\n",
       "         4.34905998e-02,  3.72010395e-02,  2.89525073e-02,\n",
       "        -6.74220920e-03,  2.95090303e-03, -1.65622737e-02,\n",
       "         2.93325458e-04,  2.61382945e-02,  1.00010002e+00],\n",
       "       [-6.36621118e-02, -1.32046521e-01,  2.51102913e-02,\n",
       "        -9.67510492e-02, -1.62268989e-02, -5.29066771e-02,\n",
       "         2.34329631e-03,  1.62236616e-02, -9.34461430e-02,\n",
       "         8.43402464e-03, -2.53591519e-02, -9.94303823e-02,\n",
       "        -4.57088985e-02,  9.00954474e-03, -2.06989780e-01,\n",
       "         4.35381010e-02,  2.56925914e-02, -9.26750805e-03,\n",
       "         8.94687511e-03,  1.20044626e-01,  9.99999975e-05]], dtype=float32)>))"
      ]
     },
     "execution_count": 124,
     "metadata": {},
     "output_type": "execute_result"
    }
   ],
   "source": [
    "action_step = trained_policy.action(time_step)\n",
    "action_step"
   ]
  },
  {
   "cell_type": "code",
   "execution_count": 125,
   "id": "467e46da-f9c1-4763-afee-4c398ac2bec1",
   "metadata": {},
   "outputs": [
    {
     "data": {
      "text/plain": [
       "[18, 4, 18, 8, 18, 6, 17, 14]"
      ]
     },
     "execution_count": 125,
     "metadata": {},
     "output_type": "execute_result"
    }
   ],
   "source": [
    "action_step = trained_policy.action(time_step)\n",
    "\n",
    "action_step.action.numpy().tolist()"
   ]
  },
  {
   "cell_type": "code",
   "execution_count": 126,
   "id": "335054a0-8e35-4429-9a5a-611c24a80a6a",
   "metadata": {},
   "outputs": [
    {
     "data": {
      "text/plain": [
       "[18, 4, 18, 8, 18, 6, 17, 14]"
      ]
     },
     "execution_count": 126,
     "metadata": {},
     "output_type": "execute_result"
    }
   ],
   "source": [
    "action_step = trained_policy.action(time_step)\n",
    "\n",
    "action_step.action.numpy().tolist()"
   ]
  },
  {
   "cell_type": "code",
   "execution_count": 127,
   "id": "2d0ea358-eb00-4ac8-b680-52c01bac54c4",
   "metadata": {},
   "outputs": [
    {
     "data": {
      "text/plain": [
       "[17, 3, 1, 19, 16, 6, 12, 5]"
      ]
     },
     "execution_count": 127,
     "metadata": {},
     "output_type": "execute_result"
    }
   ],
   "source": [
    "observation_array = environment._observe()\n",
    "\n",
    "time_step = tf_agents.trajectories.restart(\n",
    "    observation=observation_array,\n",
    "    batch_size=tf.convert_to_tensor([BATCH_SIZE]),\n",
    ")\n",
    "\n",
    "action_step = trained_policy.action(time_step)\n",
    "\n",
    "action_step.action.numpy().tolist()"
   ]
  },
  {
   "cell_type": "code",
   "execution_count": 128,
   "id": "0e9f0594-e466-4309-b478-39e5b78c2154",
   "metadata": {},
   "outputs": [
    {
     "data": {
      "text/plain": [
       "[14, 0, 13, 17, 1, 3, 3, 2]"
      ]
     },
     "execution_count": 128,
     "metadata": {},
     "output_type": "execute_result"
    }
   ],
   "source": [
    "observation_array = environment._observe()\n",
    "\n",
    "time_step = tf_agents.trajectories.restart(\n",
    "    observation=observation_array,\n",
    "    batch_size=tf.convert_to_tensor([BATCH_SIZE]),\n",
    ")\n",
    "\n",
    "action_step = trained_policy.action(time_step)\n",
    "\n",
    "action_step.action.numpy().tolist()"
   ]
  },
  {
   "cell_type": "code",
   "execution_count": null,
   "id": "75ca54ee-d193-4522-990c-823c7d122859",
   "metadata": {},
   "outputs": [],
   "source": [
    "environment._u_hat\n",
    "\n",
    "sampled_user_ages = np.ones(BATCH_SIZE)\n",
    "sampled_user_occ = np.ones(BATCH_SIZE)\n",
    "\n",
    "SAMPLED_USER_INDICES = np.random.randint(NUM_USERS, size=BATCH_SIZE)\n",
    "SAMPLED_USER_INDICES\n",
    "\n",
    "combined_user_features = np.concatenate(\n",
    "    (\n",
    "        environment._u_hat[SAMPLED_USER_INDICES]\n",
    "        , sampled_user_ages.reshape(-1,1)\n",
    "        , sampled_user_occ.reshape(-1,1)\n",
    "    )\n",
    "    , axis=1\n",
    ")\n",
    "\n",
    "combined_user_features\n",
    "\n",
    "###\n",
    "\n",
    "import random\n",
    "\n",
    "sampled_movie_indices = np.array([\n",
    "    random.sample(range(environment._num_movies), environment._num_actions)\n",
    "    for _ in range(environment._batch_size)\n",
    "])\n",
    "\n",
    "# current_users = combined_user_features.reshape([self.batch_size, self._rank_k+2])\n",
    "\n",
    "movie_index_vector = sampled_movie_indices.reshape(-1)\n",
    "\n",
    "flat_genre_list = environment._mov_gen_int[movie_index_vector] # shape of 1\n",
    "flat_movie_list = environment._v_hat[movie_index_vector]       # shape of 2\n",
    "\n",
    "combined_movie_features = np.concatenate(\n",
    "    (\n",
    "        flat_movie_list\n",
    "        , flat_genre_list.reshape(-1,1)\n",
    "    )\n",
    "    , axis=1\n",
    ")\n",
    "\n",
    "current_movies = combined_movie_features.reshape(\n",
    "    [environment._batch_size, environment._num_actions, environment._rank_k + 1]\n",
    ")\n",
    "current_movies\n",
    "###\n",
    "\n",
    "sampled_movie_indices.shape\n",
    "\n",
    "observation_array = environment._observe()\n",
    "\n",
    "time_step = tf_agents.trajectories.restart(\n",
    "    observation=observation_array,\n",
    "    batch_size=tf.convert_to_tensor([BATCH_SIZE]),\n",
    ")\n",
    "\n",
    "action_step = trained_policy.action(time_step)\n",
    "\n",
    "action_step_np = action_step.action.numpy().tolist()\n",
    "action_step_np\n",
    "\n",
    "action_step.action\n",
    "np.expand_dims(action_step.action, axis=-1)\n",
    "\n",
    "\n",
    "\n",
    "sampled_movie_indices[:,action_step.action]\n",
    "sampled_movie_indices[:,np.expand_dims(action_step.action, axis=-1)] # [:,action_step]"
   ]
  }
 ],
 "metadata": {
  "environment": {
   "kernel": "python3",
   "name": "tf2-gpu.2-11.m109",
   "type": "gcloud",
   "uri": "gcr.io/deeplearning-platform-release/tf2-gpu.2-11:m109"
  },
  "kernelspec": {
   "display_name": "Python 3",
   "language": "python",
   "name": "python3"
  },
  "language_info": {
   "codemirror_mode": {
    "name": "ipython",
    "version": 3
   },
   "file_extension": ".py",
   "mimetype": "text/x-python",
   "name": "python",
   "nbconvert_exporter": "python",
   "pygments_lexer": "ipython3",
   "version": "3.10.11"
  }
 },
 "nbformat": 4,
 "nbformat_minor": 5
}
