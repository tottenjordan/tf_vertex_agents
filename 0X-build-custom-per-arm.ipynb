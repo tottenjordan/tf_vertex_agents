{
 "cells": [
  {
   "cell_type": "markdown",
   "id": "e888c2fa-8bba-4d0c-8ae5-5a83224215f3",
   "metadata": {},
   "source": [
    "# Build per-arm Bandit model with TF-Agents and execute locally with Vertex AI"
   ]
  },
  {
   "cell_type": "markdown",
   "id": "cf77d870-0f7d-4736-a5ed-6b14ad825e52",
   "metadata": {},
   "source": [
    "## background\n",
    "\n",
    "**Arm features**\n",
    "* In some bandits use cases, each arm has its own features. For example, in movie recommendation problems, the user features play the role of the context and the movies play the role of the arms (aka actions) \n",
    "* Each movie has its own features, such as `text description`, `metadata`, `trailer content` features and so on\n",
    "\n",
    "These problems are often referred to as `arm features problems`"
   ]
  },
  {
   "cell_type": "code",
   "execution_count": 1,
   "id": "a02fe987-d962-44b5-ae30-8669d80f3464",
   "metadata": {},
   "outputs": [
    {
     "name": "stdout",
     "output_type": "stream",
     "text": [
      "aiplatform SDK version: 1.26.0\n"
     ]
    }
   ],
   "source": [
    "! python3 -c \"import google.cloud.aiplatform; print('aiplatform SDK version: {}'.format(google.cloud.aiplatform.__version__))\""
   ]
  },
  {
   "cell_type": "markdown",
   "id": "baa85e9e-47cb-41ec-b3d0-e4cc9e494613",
   "metadata": {},
   "source": [
    "## Load env config\n",
    "\n",
    "* use the prefix from `00-env-setup`"
   ]
  },
  {
   "cell_type": "code",
   "execution_count": 2,
   "id": "be5c2458-ac47-4542-a005-222e2529fb88",
   "metadata": {},
   "outputs": [],
   "source": [
    "PREFIX = 'mabv1'"
   ]
  },
  {
   "cell_type": "markdown",
   "id": "3a605f33-a1f3-4e98-be57-a5cdae4bc8f8",
   "metadata": {},
   "source": [
    "**run the next cell to populate env vars**"
   ]
  },
  {
   "cell_type": "code",
   "execution_count": 3,
   "id": "26c0d6d1-8264-46d2-a1a9-98ef8539e33e",
   "metadata": {},
   "outputs": [
    {
     "name": "stdout",
     "output_type": "stream",
     "text": [
      "\n",
      "PROJECT_ID               = \"hybrid-vertex\"\n",
      "PROJECT_NUM              = \"934903580331\"\n",
      "LOCATION                 = \"us-central1\"\n",
      "\n",
      "REGION                   = \"us-central1\"\n",
      "BQ_LOCATION              = \"US\"\n",
      "VPC_NETWORK_NAME         = \"ucaip-haystack-vpc-network\"\n",
      "\n",
      "VERTEX_SA                = \"934903580331-compute@developer.gserviceaccount.com\"\n",
      "\n",
      "PREFIX                   = \"mabv1\"\n",
      "VERSION                  = \"v1\"\n",
      "\n",
      "BUCKET_NAME              = \"mabv1-hybrid-vertex-bucket\"\n",
      "DATA_GCS_PREFIX          = \"data\"\n",
      "DATA_PATH                = \"gs://mabv1-hybrid-vertex-bucket/data\"\n",
      "BUCKET_URI               = \"gs://mabv1-hybrid-vertex-bucket\"\n",
      "\n",
      "VPC_NETWORK_FULL         = \"projects/934903580331/global/networks/ucaip-haystack-vpc-network\"\n",
      "\n",
      "BIGQUERY_DATASET_ID      = \"hybrid-vertex.movielens_dataset_mabv1\"\n",
      "BIGQUERY_TABLE_ID        = \"hybrid-vertex.movielens_dataset_mabv1.training_dataset\"\n",
      "\n",
      "REPO_DOCKER_PATH_PREFIX  = \"src\"\n",
      "RL_SUB_DIR               = \"per_arm_rl\"\n",
      "\n"
     ]
    }
   ],
   "source": [
    "# staging GCS\n",
    "GCP_PROJECTS             = !gcloud config get-value project\n",
    "PROJECT_ID               = GCP_PROJECTS[0]\n",
    "\n",
    "# GCS bucket and paths\n",
    "BUCKET_NAME              = f'{PREFIX}-{PROJECT_ID}-bucket'\n",
    "BUCKET_URI               = f'gs://{BUCKET_NAME}'\n",
    "\n",
    "config = !gsutil cat {BUCKET_URI}/config/notebook_env.py\n",
    "print(config.n)\n",
    "exec(config.n)"
   ]
  },
  {
   "cell_type": "code",
   "execution_count": 4,
   "id": "cf267dfa-3e59-4ea1-a0b6-e1c7f1ce8675",
   "metadata": {},
   "outputs": [
    {
     "name": "stdout",
     "output_type": "stream",
     "text": [
      "gs://mabv1-hybrid-vertex-bucket/aiplatform-custom-training-2023-07-13-22:02:47.458/\n",
      "gs://mabv1-hybrid-vertex-bucket/aiplatform-custom-training-2023-07-14-12:09:06.643/\n",
      "gs://mabv1-hybrid-vertex-bucket/aiplatform-custom-training-2023-07-14-12:46:07.509/\n",
      "gs://mabv1-hybrid-vertex-bucket/aiplatform-custom-training-2023-07-14-13:48:08.938/\n",
      "gs://mabv1-hybrid-vertex-bucket/aiplatform-custom-training-2023-07-17-18:35:00.675/\n",
      "gs://mabv1-hybrid-vertex-bucket/aiplatform-custom-training-2023-07-17-18:50:42.146/\n",
      "gs://mabv1-hybrid-vertex-bucket/archived/\n",
      "gs://mabv1-hybrid-vertex-bucket/config/\n",
      "gs://mabv1-hybrid-vertex-bucket/data/\n",
      "gs://mabv1-hybrid-vertex-bucket/data_stats/\n",
      "gs://mabv1-hybrid-vertex-bucket/perarm-local-test/\n",
      "gs://mabv1-hybrid-vertex-bucket/scale-perarm-hpt-v2/\n",
      "gs://mabv1-hybrid-vertex-bucket/scale-perarm-hpt-v3/\n",
      "gs://mabv1-hybrid-vertex-bucket/scale-perarm-hpt/\n"
     ]
    }
   ],
   "source": [
    "! gsutil ls $BUCKET_URI"
   ]
  },
  {
   "cell_type": "markdown",
   "id": "e2e03648-23ef-4ebb-b4f4-c28dd2a3c7b0",
   "metadata": {},
   "source": [
    "## imports"
   ]
  },
  {
   "cell_type": "code",
   "execution_count": 5,
   "id": "edf25e4c-afd4-4be2-9784-ee43124f9101",
   "metadata": {},
   "outputs": [],
   "source": [
    "import os\n",
    "os.environ['TF_CPP_MIN_LOG_LEVEL'] = '2'"
   ]
  },
  {
   "cell_type": "code",
   "execution_count": 29,
   "id": "1000b866-e997-43bf-9891-6ce80aa69019",
   "metadata": {},
   "outputs": [],
   "source": [
    "import functools\n",
    "import json\n",
    "from collections import defaultdict\n",
    "from typing import Callable, Dict, List, Optional, TypeVar\n",
    "from datetime import datetime\n",
    "import time\n",
    "from pprint import pprint\n",
    "\n",
    "import logging\n",
    "logging.disable(logging.WARNING)\n",
    "\n",
    "import matplotlib.pyplot as plt\n",
    "import numpy as np\n",
    "\n",
    "# google cloud\n",
    "from google.cloud import aiplatform, storage\n",
    "\n",
    "# tensorflow\n",
    "import tensorflow as tf\n",
    "from tf_agents.agents import TFAgent\n",
    "from tf_agents.bandits.agents import lin_ucb_agent\n",
    "from tf_agents.bandits.agents.examples.v2 import trainer\n",
    "from tf_agents.bandits.environments import (environment_utilities,\n",
    "                                            movielens_py_environment,\n",
    "                                            movielens_per_arm_py_environment)\n",
    "from tf_agents.bandits.metrics import tf_metrics as tf_bandit_metrics\n",
    "from tf_agents.drivers import dynamic_step_driver\n",
    "from tf_agents.environments import TFEnvironment, tf_py_environment\n",
    "from tf_agents.eval import metric_utils\n",
    "from tf_agents.metrics import tf_metrics\n",
    "from tf_agents.metrics.tf_metric import TFStepMetric\n",
    "from tf_agents.policies import policy_saver\n",
    "\n",
    "\n",
    "from tf_agents.trajectories import time_step as ts\n",
    "from tf_agents.specs import tensor_spec\n",
    "\n",
    "# GPU\n",
    "from numba import cuda \n",
    "import gc\n",
    "\n",
    "# my project\n",
    "from src.per_arm_rl import data_utils\n",
    "from src.per_arm_rl import data_config\n",
    "\n",
    "# tf exceptions and vars\n",
    "if tf.__version__[0] != \"2\":\n",
    "    raise Exception(\"The trainer only runs with TensorFlow version 2.\")\n",
    "\n",
    "T = TypeVar(\"T\")"
   ]
  },
  {
   "cell_type": "markdown",
   "id": "10411736-7b03-418a-883e-0157cc183d04",
   "metadata": {},
   "source": [
    "### detect GPUs & reset devices"
   ]
  },
  {
   "cell_type": "code",
   "execution_count": 7,
   "id": "c3cc5e8e-4b02-4df4-8eea-7c40466cd241",
   "metadata": {},
   "outputs": [
    {
     "data": {
      "text/plain": [
       "[PhysicalDevice(name='/physical_device:GPU:0', device_type='GPU'),\n",
       " PhysicalDevice(name='/physical_device:GPU:1', device_type='GPU')]"
      ]
     },
     "execution_count": 7,
     "metadata": {},
     "output_type": "execute_result"
    }
   ],
   "source": [
    "gpus = tf.config.experimental.list_physical_devices('GPU')\n",
    "for gpu in gpus:\n",
    "    tf.config.experimental.set_memory_growth(gpu, True)\n",
    "    \n",
    "gpus"
   ]
  },
  {
   "cell_type": "code",
   "execution_count": 8,
   "id": "a75044a2-d511-4727-84d2-780648fc191a",
   "metadata": {},
   "outputs": [
    {
     "data": {
      "text/plain": [
       "23"
      ]
     },
     "execution_count": 8,
     "metadata": {},
     "output_type": "execute_result"
    }
   ],
   "source": [
    "device = cuda.get_current_device()\n",
    "device.reset()\n",
    "gc.collect()"
   ]
  },
  {
   "cell_type": "markdown",
   "id": "6f7e69b4-7fe1-40fd-b42c-e3a24f8f4598",
   "metadata": {},
   "source": [
    "### Initialize Google Cloud SDK Clients"
   ]
  },
  {
   "cell_type": "code",
   "execution_count": 9,
   "id": "ef21e778-2043-450e-a78b-4c75416bf7fc",
   "metadata": {},
   "outputs": [],
   "source": [
    "# cloud storage client\n",
    "storage_client = storage.Client(project=PROJECT_ID)\n",
    "\n",
    "# Vertex client\n",
    "aiplatform.init(project=PROJECT_ID, location=LOCATION)"
   ]
  },
  {
   "cell_type": "markdown",
   "id": "99900b37-e159-43dd-b63b-e7c0e20a4ab1",
   "metadata": {},
   "source": [
    "# Data prep"
   ]
  },
  {
   "cell_type": "markdown",
   "id": "29776aca-6af4-4002-934d-fef353b60b33",
   "metadata": {},
   "source": [
    "### copy sample data to $DATA_PATH"
   ]
  },
  {
   "cell_type": "markdown",
   "id": "041283b5-de0f-4fbc-a40f-81f28e38ed0c",
   "metadata": {},
   "source": [
    "### Load data config"
   ]
  },
  {
   "cell_type": "code",
   "execution_count": 10,
   "id": "bad14ac8-0789-4ad5-bb52-e22e23db3860",
   "metadata": {},
   "outputs": [
    {
     "name": "stdout",
     "output_type": "stream",
     "text": [
      "USER_AGE_LOOKUP: {1.0: 0, 35.0: 1, 45.0: 2, 18.0: 3, 50.0: 4, 56.0: 5, 25.0: 6}\n",
      "USER_AGE_DIM: 7\n",
      "USER_OCC_LOOKUP: {b'homemaker': 0, b'doctor': 1, b'educator': 2, b'none': 3, b'librarian': 4, b'other': 5, b'artist': 6, b'administrator': 7, b'student': 8, b'programmer': 9, b'salesman': 10, b'healthcare': 11, b'retired': 12, b'executive': 13, b'lawyer': 14, b'entertainment': 15, b'marketing': 16, b'scientist': 17, b'engineer': 18, b'technician': 19, b'writer': 20}\n",
      "USER_OCC_DIM: 21\n",
      "MOVIE_GEN_LOOKUP: {0: 0, 1: 1, 2: 2, 3: 3, 4: 4, 5: 5, 6: 6, 7: 7, 8: 8, 9: 9, 10: 10, 12: 11, 13: 12, 14: 13, 15: 14, 16: 15, 17: 16, 18: 17, 19: 18}\n",
      "MOVIE_GEN_DIM: 19\n",
      "MOVIELENS_NUM_MOVIES: 1682\n",
      "MOVIELENS_NUM_USERS: 943\n"
     ]
    }
   ],
   "source": [
    "# test variables are set\n",
    "print(f\"USER_AGE_LOOKUP: {data_config.USER_AGE_LOOKUP}\")\n",
    "print(f\"USER_AGE_DIM: {data_config.USER_AGE_DIM}\")\n",
    "\n",
    "print(f\"USER_OCC_LOOKUP: {data_config.USER_OCC_LOOKUP}\")\n",
    "print(f\"USER_OCC_DIM: {data_config.USER_OCC_DIM}\")\n",
    "\n",
    "print(f\"MOVIE_GEN_LOOKUP: {data_config.MOVIE_GEN_LOOKUP}\")\n",
    "print(f\"MOVIE_GEN_DIM: {data_config.MOVIE_GEN_DIM}\")\n",
    "\n",
    "print(f\"MOVIELENS_NUM_MOVIES: {data_config.MOVIELENS_NUM_MOVIES}\")\n",
    "print(f\"MOVIELENS_NUM_USERS: {data_config.MOVIELENS_NUM_USERS}\")"
   ]
  },
  {
   "cell_type": "code",
   "execution_count": 11,
   "id": "048786b6-e466-4cb6-84e2-50c6184405e5",
   "metadata": {},
   "outputs": [
    {
     "data": {
      "text/plain": [
       "dict"
      ]
     },
     "execution_count": 11,
     "metadata": {},
     "output_type": "execute_result"
    }
   ],
   "source": [
    "type(data_config.USER_OCC_LOOKUP)"
   ]
  },
  {
   "cell_type": "markdown",
   "id": "201610e6-b3be-4e09-a290-ea3c24230c70",
   "metadata": {},
   "source": [
    "### Read TF Records"
   ]
  },
  {
   "cell_type": "code",
   "execution_count": 12,
   "id": "1265b4ca-e231-475e-a63e-515b673cf39d",
   "metadata": {},
   "outputs": [],
   "source": [
    "options = tf.data.Options()\n",
    "options.experimental_distribute.auto_shard_policy = tf.data.experimental.AutoShardPolicy.AUTO"
   ]
  },
  {
   "cell_type": "code",
   "execution_count": 13,
   "id": "40cb3c57-c48b-499d-8a2e-fc1006818b97",
   "metadata": {},
   "outputs": [
    {
     "data": {
      "text/plain": [
       "['gs://mabv1-hybrid-vertex-bucket/data/ml-ratings-100k-train.tfrecord']"
      ]
     },
     "execution_count": 13,
     "metadata": {},
     "output_type": "execute_result"
    }
   ],
   "source": [
    "train_files = []\n",
    "for blob in storage_client.list_blobs(f\"{BUCKET_NAME}\", prefix=f'{DATA_GCS_PREFIX}/'):\n",
    "    if '.tfrecord' in blob.name:\n",
    "        train_files.append(blob.public_url.replace(\"https://storage.googleapis.com/\", \"gs://\"))\n",
    "        \n",
    "train_files"
   ]
  },
  {
   "cell_type": "code",
   "execution_count": 14,
   "id": "8580ef60-9448-44be-8b81-19e7ebae7a67",
   "metadata": {},
   "outputs": [
    {
     "data": {
      "text/plain": [
       "<_MapDataset element_spec={'bucketized_user_age': TensorSpec(shape=(), dtype=tf.float32, name=None), 'movie_genres': TensorSpec(shape=(1,), dtype=tf.int64, name=None), 'movie_id': TensorSpec(shape=(), dtype=tf.string, name=None), 'timestamp': TensorSpec(shape=(), dtype=tf.int64, name=None), 'user_id': TensorSpec(shape=(), dtype=tf.string, name=None), 'user_occupation_text': TensorSpec(shape=(), dtype=tf.string, name=None), 'user_rating': TensorSpec(shape=(), dtype=tf.float32, name=None)}>"
      ]
     },
     "execution_count": 14,
     "metadata": {},
     "output_type": "execute_result"
    }
   ],
   "source": [
    "train_dataset = tf.data.TFRecordDataset(train_files)\n",
    "\n",
    "train_dataset = train_dataset.map(data_utils.parse_tfrecord)\n",
    "\n",
    "train_dataset"
   ]
  },
  {
   "cell_type": "code",
   "execution_count": 49,
   "id": "15e942d0-e779-4de9-9e32-6dc65fd27fe4",
   "metadata": {},
   "outputs": [
    {
     "name": "stdout",
     "output_type": "stream",
     "text": [
      "{'bucketized_user_age': <tf.Tensor: shape=(1,), dtype=float32, numpy=array([45.], dtype=float32)>,\n",
      " 'movie_genres': <tf.Tensor: shape=(1, 1), dtype=int64, numpy=array([[7]])>,\n",
      " 'movie_id': <tf.Tensor: shape=(1,), dtype=string, numpy=array([b'357'], dtype=object)>,\n",
      " 'timestamp': <tf.Tensor: shape=(1,), dtype=int64, numpy=array([879024327])>,\n",
      " 'user_id': <tf.Tensor: shape=(1,), dtype=string, numpy=array([b'138'], dtype=object)>,\n",
      " 'user_occupation_text': <tf.Tensor: shape=(1,), dtype=string, numpy=array([b'doctor'], dtype=object)>,\n",
      " 'user_rating': <tf.Tensor: shape=(1,), dtype=float32, numpy=array([4.], dtype=float32)>}\n"
     ]
    }
   ],
   "source": [
    "for x in train_dataset.batch(1).take(1):\n",
    "    pprint(x)"
   ]
  },
  {
   "cell_type": "markdown",
   "id": "427a7490-9f6d-42cf-b9b6-85b06f6269df",
   "metadata": {},
   "source": [
    "## calculate lookups"
   ]
  },
  {
   "cell_type": "markdown",
   "id": "66de1704-8332-4004-9d44-17fc7070cef3",
   "metadata": {},
   "source": [
    "### user featrues"
   ]
  },
  {
   "cell_type": "code",
   "execution_count": 70,
   "id": "60747f86-3417-41bf-9a03-7e742d918273",
   "metadata": {},
   "outputs": [
    {
     "name": "stdout",
     "output_type": "stream",
     "text": [
      "Vocabulary user_id_lookup: ['[UNK]', '405', '655']\n"
     ]
    }
   ],
   "source": [
    "start_time = time.time()\n",
    "\n",
    "user_id_lookup = tf.keras.layers.StringLookup()\n",
    "user_id_lookup.adapt(train_dataset.map(lambda x: x[\"user_id\"]))\n",
    "print(f\"Vocabulary user_id_lookup: {user_id_lookup.get_vocabulary()[:3]}\")\n",
    "\n",
    "end_time = time.time()\n",
    "runtime_mins = int((end_time - start_time) / 60)\n",
    "print(f\"runtime_mins: {runtime_mins}\")"
   ]
  },
  {
   "cell_type": "code",
   "execution_count": 71,
   "id": "79583578-e3f0-44bc-bec0-bff661afd79a",
   "metadata": {},
   "outputs": [
    {
     "name": "stdout",
     "output_type": "stream",
     "text": [
      "Vocabulary user_age_lookup: [-1, 25, 18]\n",
      "runtime_mins: 2\n"
     ]
    }
   ],
   "source": [
    "start_time = time.time()\n",
    "\n",
    "user_age_lookup = tf.keras.layers.IntegerLookup()\n",
    "user_age_lookup.adapt(train_dataset.map(lambda x: int(x[\"bucketized_user_age\"])))\n",
    "print(f\"Vocabulary user_age_lookup: {user_age_lookup.get_vocabulary()[:3]}\")\n",
    "\n",
    "end_time = time.time()\n",
    "runtime_mins = int((end_time - start_time) / 60)\n",
    "print(f\"runtime_mins: {runtime_mins}\")"
   ]
  },
  {
   "cell_type": "code",
   "execution_count": 72,
   "id": "deac5b22-a61d-4277-90e7-8a78d67d1616",
   "metadata": {},
   "outputs": [
    {
     "name": "stdout",
     "output_type": "stream",
     "text": [
      "Vocabulary user_age_lookup: ['[UNK]', 'student', 'other']\n",
      "runtime_mins: 1\n"
     ]
    }
   ],
   "source": [
    "start_time = time.time()\n",
    "\n",
    "user_occ_lookup = tf.keras.layers.StringLookup()\n",
    "user_occ_lookup.adapt(train_dataset.map(lambda x: x[\"user_occupation_text\"]))\n",
    "print(f\"Vocabulary user_age_lookup: {user_occ_lookup.get_vocabulary()[:3]}\")\n",
    "\n",
    "end_time = time.time()\n",
    "runtime_mins = int((end_time - start_time) / 60)\n",
    "print(f\"runtime_mins: {runtime_mins}\")"
   ]
  },
  {
   "cell_type": "code",
   "execution_count": 139,
   "id": "97d8b747-8eb1-4b0e-8abe-a689d9ace350",
   "metadata": {},
   "outputs": [
    {
     "name": "stdout",
     "output_type": "stream",
     "text": [
      "Buckets: [8.74724710e+08 8.74743291e+08 8.74761871e+08]\n",
      "runtime_mins: 0\n"
     ]
    }
   ],
   "source": [
    "start_time = time.time()\n",
    "\n",
    "max_timestamp = train_dataset.map(lambda x: x[\"timestamp\"]).reduce(\n",
    "    tf.cast(0, tf.int64), tf.maximum).numpy().max()\n",
    "min_timestamp = train_dataset.map(lambda x: x[\"timestamp\"]).reduce(\n",
    "    np.int64(1e9), tf.minimum).numpy().min()\n",
    "\n",
    "timestamp_buckets = np.linspace(\n",
    "    min_timestamp, max_timestamp, num=1000)\n",
    "\n",
    "print(f\"Buckets: {timestamp_buckets[:3]}\")\n",
    "\n",
    "end_time = time.time()\n",
    "runtime_mins = int((end_time - start_time) / 60)\n",
    "print(f\"runtime_mins: {runtime_mins}\")"
   ]
  },
  {
   "cell_type": "markdown",
   "id": "3292f90f-5055-4cd2-8d6c-ac328d5ae8a9",
   "metadata": {},
   "source": [
    "### movie features"
   ]
  },
  {
   "cell_type": "code",
   "execution_count": 155,
   "id": "0b5b8cbd-f445-48d0-8f37-5397d5ffa60d",
   "metadata": {},
   "outputs": [
    {
     "name": "stdout",
     "output_type": "stream",
     "text": [
      "Vocabulary movie_id_lookup: ['[UNK]', '50', '258']\n",
      "runtime_mins: 1\n"
     ]
    }
   ],
   "source": [
    "start_time = time.time()\n",
    "\n",
    "movie_id_lookup = tf.keras.layers.StringLookup()\n",
    "movie_id_lookup.adapt(train_dataset.map(lambda x: x[\"movie_id\"]))\n",
    "print(f\"Vocabulary movie_id_lookup: {movie_id_lookup.get_vocabulary()[:3]}\")\n",
    "\n",
    "end_time = time.time()\n",
    "runtime_mins = int((end_time - start_time) / 60)\n",
    "print(f\"runtime_mins: {runtime_mins}\")"
   ]
  },
  {
   "cell_type": "code",
   "execution_count": 156,
   "id": "f9593c17-2ed7-4713-a639-ce9679063768",
   "metadata": {},
   "outputs": [
    {
     "name": "stdout",
     "output_type": "stream",
     "text": [
      "Vocabulary user_age_lookup: [-1, 7, 0]\n",
      "runtime_mins: 2\n"
     ]
    }
   ],
   "source": [
    "start_time = time.time()\n",
    "\n",
    "movie_gen_lookup = tf.keras.layers.IntegerLookup()\n",
    "movie_gen_lookup.adapt(train_dataset.map(lambda x: int(x[\"movie_genres\"])))\n",
    "print(f\"Vocabulary user_age_lookup: {movie_gen_lookup.get_vocabulary()[:3]}\")\n",
    "\n",
    "end_time = time.time()\n",
    "runtime_mins = int((end_time - start_time) / 60)\n",
    "print(f\"runtime_mins: {runtime_mins}\")"
   ]
  },
  {
   "cell_type": "markdown",
   "id": "10082ab7-872c-4502-a83f-ac92ae1576fa",
   "metadata": {},
   "source": [
    "## create embedding layers"
   ]
  },
  {
   "cell_type": "code",
   "execution_count": 163,
   "id": "6a5718c2-05db-4d95-98a1-aa3ed934d806",
   "metadata": {},
   "outputs": [],
   "source": [
    "USER_EMBEDDING_SIZE = 32"
   ]
  },
  {
   "cell_type": "markdown",
   "id": "dc792f46-e23b-414f-a89d-a061704c0776",
   "metadata": {
    "tags": []
   },
   "source": [
    "### user features"
   ]
  },
  {
   "cell_type": "code",
   "execution_count": 164,
   "id": "bb5c4963-2044-47b2-950c-1f0175705252",
   "metadata": {},
   "outputs": [
    {
     "data": {
      "text/plain": [
       "<tf.Tensor: shape=(1, 32), dtype=float32, numpy=\n",
       "array([[ 0.02133915, -0.00847285,  0.00553839,  0.04956971, -0.04884202,\n",
       "        -0.01423628,  0.0264388 , -0.04991373, -0.02720488,  0.01465893,\n",
       "        -0.02321799, -0.001456  ,  0.0016151 , -0.01616285, -0.02516576,\n",
       "         0.033454  , -0.00654262,  0.0121565 , -0.03020301, -0.01902446,\n",
       "         0.03618702, -0.01718481, -0.02821301,  0.02466765, -0.02811155,\n",
       "        -0.0439539 , -0.00154681, -0.04077569, -0.01556192, -0.02991946,\n",
       "        -0.03799347,  0.02890993]], dtype=float32)>"
      ]
     },
     "execution_count": 164,
     "metadata": {},
     "output_type": "execute_result"
    }
   ],
   "source": [
    "user_id_embedding = tf.keras.layers.Embedding(\n",
    "    # Let's use the explicit vocabulary lookup.\n",
    "    input_dim=user_id_lookup.vocab_size(),\n",
    "    output_dim=USER_EMBEDDING_SIZE\n",
    ")\n",
    "\n",
    "# test \n",
    "user_id_model = tf.keras.Sequential([user_id_lookup, user_id_embedding])\n",
    "user_id_model([\"405\"])"
   ]
  },
  {
   "cell_type": "code",
   "execution_count": 177,
   "id": "55b9b61d-6d87-4b93-9dd8-9b9f28b18d0c",
   "metadata": {},
   "outputs": [
    {
     "data": {
      "text/plain": [
       "<tf.Tensor: shape=(1, 32), dtype=float32, numpy=\n",
       "array([[ 0.04955554, -0.03696743, -0.02703919, -0.03803464,  0.02941333,\n",
       "         0.01766728, -0.04564461, -0.04960386,  0.03014806, -0.03454351,\n",
       "         0.0069787 , -0.03808462, -0.01598325,  0.03316562,  0.00559319,\n",
       "         0.02124805, -0.02898613,  0.04364777,  0.01769495,  0.02354963,\n",
       "         0.01089784, -0.0093568 , -0.0104007 , -0.04296106,  0.00458118,\n",
       "         0.04897146, -0.01993024,  0.04496826,  0.0498344 , -0.0248399 ,\n",
       "         0.00816529,  0.02084908]], dtype=float32)>"
      ]
     },
     "execution_count": 177,
     "metadata": {},
     "output_type": "execute_result"
    }
   ],
   "source": [
    "user_age_embedding = tf.keras.layers.Embedding(\n",
    "    # Let's use the explicit vocabulary lookup.\n",
    "    input_dim=user_age_lookup.vocab_size(),\n",
    "    output_dim=USER_EMBEDDING_SIZE\n",
    ")\n",
    "\n",
    "# test \n",
    "user_age_model = tf.keras.Sequential([user_age_lookup, user_age_embedding])\n",
    "user_age_model([18])"
   ]
  },
  {
   "cell_type": "code",
   "execution_count": 178,
   "id": "5d1431a0-697c-43c0-9af8-fa7d992e2e79",
   "metadata": {},
   "outputs": [
    {
     "data": {
      "text/plain": [
       "<tf.Tensor: shape=(1, 32), dtype=float32, numpy=\n",
       "array([[-0.00357937,  0.00057608, -0.04822962,  0.02149484,  0.04358511,\n",
       "        -0.00020391, -0.04226958, -0.03229029, -0.01697419,  0.00133302,\n",
       "        -0.00420284, -0.04311797, -0.01580453,  0.03785564,  0.03659142,\n",
       "        -0.0272304 ,  0.03761942,  0.03034199, -0.01186401, -0.02073176,\n",
       "        -0.04327046,  0.02613885,  0.04544634,  0.0228441 , -0.01388736,\n",
       "         0.0227215 ,  0.01658596,  0.03440824,  0.04198724, -0.02106375,\n",
       "        -0.0093264 ,  0.01118464]], dtype=float32)>"
      ]
     },
     "execution_count": 178,
     "metadata": {},
     "output_type": "execute_result"
    }
   ],
   "source": [
    "user_occ_embedding = tf.keras.layers.Embedding(\n",
    "    # Let's use the explicit vocabulary lookup.\n",
    "    input_dim=user_occ_lookup.vocab_size(),\n",
    "    output_dim=USER_EMBEDDING_SIZE\n",
    ")\n",
    "\n",
    "# test \n",
    "user_occ_model = tf.keras.Sequential([user_occ_lookup, user_occ_embedding])\n",
    "user_occ_model(['student'])"
   ]
  },
  {
   "cell_type": "code",
   "execution_count": 179,
   "id": "0063577f-4658-4f54-877b-8cb431b89f15",
   "metadata": {},
   "outputs": [
    {
     "data": {
      "text/plain": [
       "<tf.Tensor: shape=(1, 32), dtype=float32, numpy=\n",
       "array([[-0.00066044,  0.0462102 ,  0.02651751, -0.01013513,  0.02495512,\n",
       "        -0.04824067,  0.00352935,  0.00144993, -0.03210543,  0.00653744,\n",
       "         0.0346578 , -0.00644116,  0.04339662,  0.0362441 , -0.02874855,\n",
       "        -0.02325262, -0.01967307, -0.01586573, -0.01194584, -0.03948327,\n",
       "         0.02814636, -0.04869805,  0.01532048,  0.01815101, -0.03741697,\n",
       "        -0.02495186,  0.04297521, -0.02860105,  0.01560897,  0.00582739,\n",
       "         0.01044911,  0.00554369]], dtype=float32)>"
      ]
     },
     "execution_count": 179,
     "metadata": {},
     "output_type": "execute_result"
    }
   ],
   "source": [
    "timestamp_embedding_model = tf.keras.Sequential([\n",
    "  tf.keras.layers.Discretization(timestamp_buckets.tolist()),\n",
    "  tf.keras.layers.Embedding(len(timestamp_buckets) + 1, USER_EMBEDDING_SIZE)\n",
    "])\n",
    "\n",
    "# for timestamp in ratings.take(1).map(lambda x: x[\"timestamp\"]).batch(1).as_numpy_iterator():\n",
    "#   print(f\"Timestamp embedding: {timestamp_embedding_model(timestamp)}.\")\n",
    "timestamp_embedding_model([879024327])"
   ]
  },
  {
   "cell_type": "markdown",
   "id": "3e69ca2a-568d-4544-9239-fa8d01b45d90",
   "metadata": {},
   "source": [
    "### movie features"
   ]
  },
  {
   "cell_type": "code",
   "execution_count": 212,
   "id": "57e6f857-a6c3-4c62-b658-1eef5f9beeb5",
   "metadata": {},
   "outputs": [],
   "source": [
    "MV_EMBEDDING_SIZE = 64"
   ]
  },
  {
   "cell_type": "code",
   "execution_count": 213,
   "id": "d6eb53a2-54e0-4372-9d42-3525ff77ed26",
   "metadata": {},
   "outputs": [
    {
     "data": {
      "text/plain": [
       "<tf.Tensor: shape=(1, 64), dtype=float32, numpy=\n",
       "array([[ 3.08278315e-02,  4.26267870e-02, -1.39455311e-02,\n",
       "        -3.25039253e-02, -2.83411983e-02,  2.11210288e-02,\n",
       "         1.29451491e-02,  1.42774470e-02,  1.96418427e-02,\n",
       "         6.03280962e-04,  2.89575495e-02, -1.73527971e-02,\n",
       "         1.16245821e-03, -1.09732263e-02,  1.39176510e-02,\n",
       "         2.09697820e-02, -2.79950034e-02,  5.65215200e-03,\n",
       "        -2.23914534e-03,  3.22854035e-02,  1.38306729e-02,\n",
       "        -1.04766004e-02, -1.42583735e-02, -7.60564953e-03,\n",
       "         3.28443684e-02,  1.06181502e-02, -3.21645364e-02,\n",
       "        -4.49722670e-02,  8.46122578e-03, -4.96131778e-02,\n",
       "         3.76042463e-02, -4.01291847e-02, -4.57051881e-02,\n",
       "         4.50771339e-02,  4.67248075e-02,  1.86170824e-02,\n",
       "        -2.78911721e-02, -2.72371415e-02, -1.82448402e-02,\n",
       "         8.78946856e-03, -4.50686812e-02,  4.26644720e-02,\n",
       "        -3.28459144e-02, -9.63952392e-03,  1.40556954e-02,\n",
       "        -6.43993542e-03, -2.84257885e-02,  3.23246382e-02,\n",
       "        -1.84206367e-02,  3.72829922e-02,  1.80780031e-02,\n",
       "        -1.46543980e-02, -1.31540522e-02, -6.96778297e-05,\n",
       "        -6.73074648e-03, -2.69768964e-02,  4.82407920e-02,\n",
       "        -2.97912210e-03, -3.31534892e-02, -4.15248983e-02,\n",
       "         1.71085484e-02, -3.77373807e-02,  4.43335511e-02,\n",
       "        -3.87682542e-02]], dtype=float32)>"
      ]
     },
     "execution_count": 213,
     "metadata": {},
     "output_type": "execute_result"
    }
   ],
   "source": [
    "movie_id_embedding = tf.keras.layers.Embedding(\n",
    "    # Let's use the explicit vocabulary lookup.\n",
    "    input_dim=movie_id_lookup.vocab_size(),\n",
    "    output_dim=MV_EMBEDDING_SIZE\n",
    ")\n",
    "\n",
    "# test \n",
    "mv_id_model = tf.keras.Sequential([movie_id_lookup, movie_id_embedding])\n",
    "mv_id_model([\"357\"])"
   ]
  },
  {
   "cell_type": "code",
   "execution_count": 214,
   "id": "77099a9d-65d4-45bb-8a96-79eae7d69bf2",
   "metadata": {},
   "outputs": [
    {
     "data": {
      "text/plain": [
       "<tf.Tensor: shape=(64,), dtype=float32, numpy=\n",
       "array([-4.58238013e-02,  5.81582636e-03, -3.76645476e-03, -1.93797238e-02,\n",
       "        3.73208858e-02,  1.39762871e-02,  3.03233787e-03,  1.42685510e-02,\n",
       "       -3.50592285e-03, -2.16763150e-02,  3.88072766e-02,  1.18336901e-02,\n",
       "        3.39148678e-02, -3.98270786e-05,  4.69145291e-02,  3.98651846e-02,\n",
       "        3.21034454e-02,  2.10494660e-02,  2.53681056e-02, -2.59850156e-02,\n",
       "        4.71412279e-02, -3.27730551e-02,  3.81659605e-02,  3.13382037e-02,\n",
       "        2.74869055e-03, -2.93345805e-02, -3.16557437e-02,  1.16098896e-02,\n",
       "       -2.56407261e-02,  5.22757694e-03, -4.34020273e-02,  1.72342919e-02,\n",
       "        4.45606373e-02, -1.13725178e-02, -2.11489201e-03,  3.73524539e-02,\n",
       "       -4.85084206e-03,  1.27805360e-02,  1.22262947e-02, -1.55347958e-02,\n",
       "       -1.06399767e-02,  2.09057964e-02, -4.63314317e-02,  2.76353471e-02,\n",
       "        1.58879496e-02,  3.94936539e-02, -4.59056981e-02, -2.77342442e-02,\n",
       "        2.02686712e-03, -1.43091679e-02, -3.97934802e-02,  3.01002748e-02,\n",
       "       -1.30622759e-02, -2.68903505e-02,  3.88751291e-02, -3.63295078e-02,\n",
       "       -3.58502641e-02,  1.41853094e-03, -6.53993338e-04, -4.27230112e-02,\n",
       "        4.52987291e-02,  4.32098545e-02, -1.15949735e-02, -4.33901921e-02],\n",
       "      dtype=float32)>"
      ]
     },
     "execution_count": 214,
     "metadata": {},
     "output_type": "execute_result"
    }
   ],
   "source": [
    "movie_gen_embedding = tf.keras.layers.Embedding(\n",
    "    # Let's use the explicit vocabulary lookup.\n",
    "    input_dim=movie_gen_lookup.vocab_size(),\n",
    "    output_dim=MV_EMBEDDING_SIZE\n",
    ")\n",
    "\n",
    "# test \n",
    "mv_gen_model = tf.keras.Sequential([movie_gen_lookup, movie_gen_embedding])\n",
    "mv_gen_model([7])"
   ]
  },
  {
   "cell_type": "markdown",
   "id": "bb74d286-7681-4dda-9944-aa0b8d93f569",
   "metadata": {
    "jp-MarkdownHeadingCollapsed": true,
    "tags": []
   },
   "source": [
    "### test concat"
   ]
  },
  {
   "cell_type": "code",
   "execution_count": 81,
   "id": "13f755d1-f45e-49ca-9701-c43fca413857",
   "metadata": {},
   "outputs": [
    {
     "name": "stdout",
     "output_type": "stream",
     "text": [
      "(1, 32)\n"
     ]
    },
    {
     "data": {
      "text/plain": [
       "array([[-0.02592905,  0.04963319, -0.03509563,  0.00360916, -0.03130561,\n",
       "         0.04330171,  0.01078621, -0.02183689,  0.04216427,  0.02194181,\n",
       "         0.00648174,  0.00144852, -0.00538989, -0.00426998, -0.0305585 ,\n",
       "        -0.02309582,  0.02268947, -0.02398355,  0.02846402, -0.00684224,\n",
       "        -0.01771741, -0.0222518 , -0.02820476,  0.02480245, -0.0310462 ,\n",
       "         0.04410451, -0.04268888,  0.02448532, -0.04435045, -0.04490483,\n",
       "         0.03554393, -0.02463512]], dtype=float32)"
      ]
     },
     "execution_count": 81,
     "metadata": {},
     "output_type": "execute_result"
    }
   ],
   "source": [
    "test_id_value = user_id_model([\"405\"]).numpy()\n",
    "\n",
    "print(test_id_value.shape)\n",
    "test_id_value"
   ]
  },
  {
   "cell_type": "code",
   "execution_count": 82,
   "id": "69c1ed7a-9476-4603-ac42-9f47fdf2330b",
   "metadata": {},
   "outputs": [
    {
     "name": "stdout",
     "output_type": "stream",
     "text": [
      "(1, 32)\n"
     ]
    },
    {
     "data": {
      "text/plain": [
       "array([[-0.02379255,  0.04369508,  0.02165151, -0.02074115,  0.01820816,\n",
       "        -0.03143139,  0.01334475, -0.01282028,  0.03167496,  0.0029224 ,\n",
       "        -0.02275851, -0.00485495, -0.01782919,  0.0149723 ,  0.0330332 ,\n",
       "         0.00656012, -0.00169833,  0.03387184, -0.03083158, -0.0168779 ,\n",
       "         0.00936011,  0.0053486 ,  0.01424874, -0.00229301, -0.00721395,\n",
       "         0.01856655,  0.0414192 ,  0.01789801,  0.04218565, -0.03640497,\n",
       "        -0.04073054, -0.0429283 ]], dtype=float32)"
      ]
     },
     "execution_count": 82,
     "metadata": {},
     "output_type": "execute_result"
    }
   ],
   "source": [
    "test_age_value = user_age_model([18]).numpy()\n",
    "\n",
    "print(test_age_value.shape)\n",
    "test_age_value"
   ]
  },
  {
   "cell_type": "code",
   "execution_count": 83,
   "id": "9a4f4580-f907-4fc1-996b-791d8015c37e",
   "metadata": {},
   "outputs": [
    {
     "name": "stdout",
     "output_type": "stream",
     "text": [
      "(1, 32)\n"
     ]
    },
    {
     "data": {
      "text/plain": [
       "array([[ 0.03178695, -0.0353423 ,  0.0002742 ,  0.01620188,  0.01725006,\n",
       "        -0.02861638, -0.01205734,  0.01757014, -0.03417969,  0.02328005,\n",
       "         0.03930822, -0.00564992,  0.03237546, -0.00562776,  0.03641622,\n",
       "        -0.01852721, -0.03211895,  0.03783574, -0.00918182, -0.03582566,\n",
       "         0.01940243,  0.02046399, -0.00882613,  0.03882194,  0.04925608,\n",
       "        -0.04498097, -0.01861153, -0.02901036,  0.01418642, -0.03193836,\n",
       "        -0.04334359, -0.02535138]], dtype=float32)"
      ]
     },
     "execution_count": 83,
     "metadata": {},
     "output_type": "execute_result"
    }
   ],
   "source": [
    "test_occ_value = user_occ_model(['student']).numpy()\n",
    "\n",
    "print(test_occ_value.shape)\n",
    "test_occ_value"
   ]
  },
  {
   "cell_type": "code",
   "execution_count": 84,
   "id": "ca3fcc00-8e4b-4df5-a99d-9a0734e9ea47",
   "metadata": {},
   "outputs": [
    {
     "data": {
      "text/plain": [
       "array([[-0.02592905,  0.04963319, -0.03509563,  0.00360916, -0.03130561,\n",
       "         0.04330171,  0.01078621, -0.02183689,  0.04216427,  0.02194181,\n",
       "         0.00648174,  0.00144852, -0.00538989, -0.00426998, -0.0305585 ,\n",
       "        -0.02309582,  0.02268947, -0.02398355,  0.02846402, -0.00684224,\n",
       "        -0.01771741, -0.0222518 , -0.02820476,  0.02480245, -0.0310462 ,\n",
       "         0.04410451, -0.04268888,  0.02448532, -0.04435045, -0.04490483,\n",
       "         0.03554393, -0.02463512, -0.02379255,  0.04369508,  0.02165151,\n",
       "        -0.02074115,  0.01820816, -0.03143139,  0.01334475, -0.01282028,\n",
       "         0.03167496,  0.0029224 , -0.02275851, -0.00485495, -0.01782919,\n",
       "         0.0149723 ,  0.0330332 ,  0.00656012, -0.00169833,  0.03387184,\n",
       "        -0.03083158, -0.0168779 ,  0.00936011,  0.0053486 ,  0.01424874,\n",
       "        -0.00229301, -0.00721395,  0.01856655,  0.0414192 ,  0.01789801,\n",
       "         0.04218565, -0.03640497, -0.04073054, -0.0429283 ,  0.03178695,\n",
       "        -0.0353423 ,  0.0002742 ,  0.01620188,  0.01725006, -0.02861638,\n",
       "        -0.01205734,  0.01757014, -0.03417969,  0.02328005,  0.03930822,\n",
       "        -0.00564992,  0.03237546, -0.00562776,  0.03641622, -0.01852721,\n",
       "        -0.03211895,  0.03783574, -0.00918182, -0.03582566,  0.01940243,\n",
       "         0.02046399, -0.00882613,  0.03882194,  0.04925608, -0.04498097,\n",
       "        -0.01861153, -0.02901036,  0.01418642, -0.03193836, -0.04334359,\n",
       "        -0.02535138]], dtype=float32)"
      ]
     },
     "execution_count": 84,
     "metadata": {},
     "output_type": "execute_result"
    }
   ],
   "source": [
    "combined_user_features = np.concatenate(\n",
    "    (\n",
    "        test_id_value,\n",
    "        test_age_value,\n",
    "        test_occ_value\n",
    "    )\n",
    "    , axis=1\n",
    ")\n",
    "\n",
    "combined_user_features"
   ]
  },
  {
   "cell_type": "code",
   "execution_count": 86,
   "id": "ecee4c8a-f057-46e9-870d-5f78708fd075",
   "metadata": {},
   "outputs": [
    {
     "data": {
      "text/plain": [
       "96"
      ]
     },
     "execution_count": 86,
     "metadata": {},
     "output_type": "execute_result"
    }
   ],
   "source": [
    "combined_user_features.shape[1]"
   ]
  },
  {
   "cell_type": "code",
   "execution_count": 110,
   "id": "df7ca994-9166-49d8-89fe-10118ee50422",
   "metadata": {},
   "outputs": [
    {
     "name": "stdout",
     "output_type": "stream",
     "text": [
      "(b'138',)\n",
      "(45,)\n",
      "b'doctor'\n",
      "(1, 32)\n",
      "(1, 32)\n",
      "(1, 32)\n",
      "(1, 96)\n"
     ]
    }
   ],
   "source": [
    "# for x in train_dataset.batch(1).take(1):\n",
    "#     user_id_value = x['user_id'].numpy().tolist()[0],\n",
    "#     user_age_value = int(x['bucketized_user_age'].numpy().tolist()[0]),\n",
    "#     user_occ_value = x['user_occupation_text'].numpy().tolist()[0]\n",
    "\n",
    "#     print(user_id_value)\n",
    "#     print(user_age_value)\n",
    "#     print(user_occ_value)\n",
    "    \n",
    "#     id_emb = user_id_model([user_id_value[0].decode('utf-8')])\n",
    "#     age_emb = user_age_model([user_age_value[0]])\n",
    "#     occ_emb = user_occ_model([user_occ_value.decode('utf-8')])\n",
    "    \n",
    "#     print(id_emb.shape)\n",
    "#     print(age_emb.shape)\n",
    "#     print(occ_emb.shape)\n",
    "    \n",
    "#     combined_user_features = np.concatenate(\n",
    "#         (\n",
    "#             id_emb,\n",
    "#             age_emb,\n",
    "#             occ_emb\n",
    "#         )\n",
    "#         , axis=1\n",
    "#     )\n",
    "#     print(combined_user_features.shape)"
   ]
  },
  {
   "cell_type": "code",
   "execution_count": 103,
   "id": "7c24c0f4-ff4a-49e7-bd0e-c3e77389229e",
   "metadata": {},
   "outputs": [
    {
     "data": {
      "text/plain": [
       "'138'"
      ]
     },
     "execution_count": 103,
     "metadata": {},
     "output_type": "execute_result"
    }
   ],
   "source": [
    "user_id_value[0].decode('utf-8')"
   ]
  },
  {
   "cell_type": "code",
   "execution_count": 105,
   "id": "28ad6791-ca94-4d5f-a305-2c7fb0850e40",
   "metadata": {},
   "outputs": [
    {
     "data": {
      "text/plain": [
       "45"
      ]
     },
     "execution_count": 105,
     "metadata": {},
     "output_type": "execute_result"
    }
   ],
   "source": [
    "user_age_value[0]"
   ]
  },
  {
   "cell_type": "code",
   "execution_count": 107,
   "id": "685f023c-2019-45f3-87eb-8721c9268bef",
   "metadata": {},
   "outputs": [
    {
     "data": {
      "text/plain": [
       "'doctor'"
      ]
     },
     "execution_count": 107,
     "metadata": {},
     "output_type": "execute_result"
    }
   ],
   "source": [
    "user_occ_value.decode('utf-8')"
   ]
  },
  {
   "cell_type": "code",
   "execution_count": 149,
   "id": "c2c48ce6-077a-42e2-a793-4f2b77020f2f",
   "metadata": {},
   "outputs": [
    {
     "name": "stdout",
     "output_type": "stream",
     "text": [
      "138\n",
      "45\n",
      "doctor\n",
      "879024327\n",
      "(1, 32)\n",
      "(1, 32)\n",
      "(1, 32)\n",
      "(1, 32)\n",
      "(1, 128)\n"
     ]
    }
   ],
   "source": [
    "for x in train_dataset.take(1).as_numpy_iterator():\n",
    "    user_id_value = x['user_id']\n",
    "    user_age_value = x['bucketized_user_age']\n",
    "    user_occ_value = x['user_occupation_text']\n",
    "    user_ts_value = x['timestamp']\n",
    "\n",
    "    # print(user_id_value[0].decode('utf-8'))\n",
    "    # print(int(user_age_value[0]))\n",
    "    # print(user_occ_value.decode('utf-8'))\n",
    "    \n",
    "    print(str(user_id_value.decode('utf-8')))\n",
    "    print(int(user_age_value))\n",
    "    print(user_occ_value.decode('utf-8'))\n",
    "    print(user_ts_value)\n",
    "    \n",
    "    id_emb = user_id_model([str(user_id_value.decode('utf-8'))])\n",
    "    age_emb = user_age_model([int(user_age_value)])\n",
    "    occ_emb = user_occ_model([user_occ_value.decode('utf-8')])\n",
    "    ts_emb = timestamp_embedding_model([user_ts_value])\n",
    "    \n",
    "    print(id_emb.shape)\n",
    "    print(age_emb.shape)\n",
    "    print(occ_emb.shape)\n",
    "    print(ts_emb.shape)\n",
    "    \n",
    "    combined_user_features = np.concatenate(\n",
    "        (\n",
    "            id_emb,\n",
    "            age_emb,\n",
    "            occ_emb,\n",
    "            ts_emb\n",
    "        )\n",
    "        , axis=1\n",
    "    )\n",
    "    print(combined_user_features.shape)"
   ]
  },
  {
   "cell_type": "markdown",
   "id": "bc7e9877-dd32-4968-af11-d2b0934a3fce",
   "metadata": {},
   "source": [
    "## global input functions"
   ]
  },
  {
   "cell_type": "code",
   "execution_count": 250,
   "id": "2cec4067-caaf-43df-89b3-771077fd4c0a",
   "metadata": {},
   "outputs": [
    {
     "name": "stdout",
     "output_type": "stream",
     "text": [
      "(1, 128)\n"
     ]
    },
    {
     "data": {
      "text/plain": [
       "array([[-8.5508823e-03, -4.8447624e-03,  1.8828992e-02,  2.7534548e-02,\n",
       "        -1.5263185e-03, -7.9958811e-03,  2.3095980e-03,  2.1651689e-02,\n",
       "         4.1292641e-02, -7.6190829e-03,  3.1629551e-02,  1.9993670e-03,\n",
       "        -2.1431930e-03,  4.5911226e-02,  4.8037682e-02, -1.7330516e-02,\n",
       "         3.8603257e-02,  4.7624335e-03,  1.5749265e-02,  3.5174195e-02,\n",
       "        -1.8469024e-02, -3.0042959e-02,  3.9486576e-02,  9.4417110e-03,\n",
       "         4.5821939e-02, -3.3114873e-02,  1.9345928e-02,  4.0754054e-02,\n",
       "         4.1269254e-02, -3.7472237e-02,  2.2480417e-02,  9.7856410e-03,\n",
       "         3.9251816e-02, -1.6916394e-02,  5.2018650e-03, -2.4589265e-02,\n",
       "        -1.7954599e-02, -4.9004704e-04,  1.7117858e-03, -4.8918139e-02,\n",
       "         2.8843060e-03,  1.5893247e-02, -7.7363364e-03,  3.7663709e-02,\n",
       "        -3.0551303e-02,  4.3893162e-02, -8.6724758e-05, -4.8247017e-02,\n",
       "         3.3032186e-03,  4.7936551e-03,  2.8672185e-02,  4.4083003e-02,\n",
       "        -2.9565429e-02, -3.6866151e-02,  3.7373293e-02,  8.7205060e-03,\n",
       "        -4.2126380e-02, -3.4011260e-02,  4.0177416e-02, -4.8413526e-02,\n",
       "         3.0168783e-02, -4.2855717e-02,  2.4112109e-02, -1.4186583e-02,\n",
       "        -9.7102523e-03,  8.8757165e-03,  2.4446059e-02, -2.2538161e-02,\n",
       "         9.8533034e-03,  4.9000774e-02, -3.5163902e-02,  2.2662330e-02,\n",
       "         4.7282401e-02, -1.2755621e-02, -9.5338933e-03, -2.7440358e-02,\n",
       "         4.5809262e-03,  4.3307375e-02,  4.9807671e-02, -3.4639727e-02,\n",
       "        -1.7195307e-02, -2.3153652e-02, -4.2045772e-02, -2.0010114e-02,\n",
       "        -2.0046329e-02, -3.9210178e-02,  3.8713787e-02, -1.8797135e-02,\n",
       "        -7.4421391e-03,  3.7923362e-02, -1.7327249e-02,  3.6802445e-02,\n",
       "         1.3558056e-02, -2.5243685e-04,  3.1941283e-02,  2.0208944e-02,\n",
       "        -6.6044182e-04,  4.6210196e-02,  2.6517514e-02, -1.0135125e-02,\n",
       "         2.4955120e-02, -4.8240673e-02,  3.5293475e-03,  1.4499314e-03,\n",
       "        -3.2105435e-02,  6.5374374e-03,  3.4657802e-02, -6.4411648e-03,\n",
       "         4.3396618e-02,  3.6244098e-02, -2.8748548e-02, -2.3252619e-02,\n",
       "        -1.9673074e-02, -1.5865732e-02, -1.1945844e-02, -3.9483272e-02,\n",
       "         2.8146360e-02, -4.8698045e-02,  1.5320484e-02,  1.8151011e-02,\n",
       "        -3.7416972e-02, -2.4951864e-02,  4.2975213e-02, -2.8601050e-02,\n",
       "         1.5608970e-02,  5.8273897e-03,  1.0449111e-02,  5.5436864e-03]],\n",
       "      dtype=float32)"
      ]
     },
     "execution_count": 250,
     "metadata": {},
     "output_type": "execute_result"
    }
   ],
   "source": [
    "EMBEDDING_SIZE = 32\n",
    "\n",
    "def global_context_sampling_fn():\n",
    "    \"\"\"\n",
    "    This function generates a single global observation vector.\n",
    "    \"\"\"\n",
    "    for x in train_dataset.take(1).as_numpy_iterator():\n",
    "        user_id_value = x['user_id']\n",
    "        user_age_value = x['bucketized_user_age']\n",
    "        user_occ_value = x['user_occupation_text']\n",
    "        user_ts_value = x['timestamp']\n",
    "        \n",
    "        # print(str(user_id_value.decode('utf-8')))\n",
    "        # print(int(user_age_value))\n",
    "        # print(user_occ_value.decode('utf-8'))\n",
    "        # print(user_ts_value)\n",
    "        \n",
    "        id_emb = user_id_model([str(user_id_value.decode('utf-8'))])\n",
    "        age_emb = user_age_model([int(user_age_value)])\n",
    "        occ_emb = user_occ_model([user_occ_value.decode('utf-8')])\n",
    "        ts_emb = timestamp_embedding_model([user_ts_value])\n",
    "\n",
    "        # print(id_emb.shape)\n",
    "        # print(age_emb.shape)\n",
    "        # print(occ_emb.shape)\n",
    "        # print(ts_emb.shape)\n",
    "\n",
    "        combined_user_features = np.concatenate(\n",
    "            (\n",
    "                id_emb,\n",
    "                age_emb,\n",
    "                occ_emb,\n",
    "                ts_emb\n",
    "            )\n",
    "            , axis=1\n",
    "        )\n",
    "\n",
    "    return combined_user_features\n",
    "\n",
    "global_con = global_context_sampling_fn()\n",
    "print(global_con.shape)\n",
    "global_con"
   ]
  },
  {
   "cell_type": "code",
   "execution_count": 251,
   "id": "e70a643a-2845-41ec-bc86-da73f49800a6",
   "metadata": {},
   "outputs": [
    {
     "name": "stdout",
     "output_type": "stream",
     "text": [
      "(1, 128)\n"
     ]
    },
    {
     "data": {
      "text/plain": [
       "array([[ 3.08278315e-02,  4.26267870e-02, -1.39455311e-02,\n",
       "        -3.25039253e-02, -2.83411983e-02,  2.11210288e-02,\n",
       "         1.29451491e-02,  1.42774470e-02,  1.96418427e-02,\n",
       "         6.03280962e-04,  2.89575495e-02, -1.73527971e-02,\n",
       "         1.16245821e-03, -1.09732263e-02,  1.39176510e-02,\n",
       "         2.09697820e-02, -2.79950034e-02,  5.65215200e-03,\n",
       "        -2.23914534e-03,  3.22854035e-02,  1.38306729e-02,\n",
       "        -1.04766004e-02, -1.42583735e-02, -7.60564953e-03,\n",
       "         3.28443684e-02,  1.06181502e-02, -3.21645364e-02,\n",
       "        -4.49722670e-02,  8.46122578e-03, -4.96131778e-02,\n",
       "         3.76042463e-02, -4.01291847e-02, -4.57051881e-02,\n",
       "         4.50771339e-02,  4.67248075e-02,  1.86170824e-02,\n",
       "        -2.78911721e-02, -2.72371415e-02, -1.82448402e-02,\n",
       "         8.78946856e-03, -4.50686812e-02,  4.26644720e-02,\n",
       "        -3.28459144e-02, -9.63952392e-03,  1.40556954e-02,\n",
       "        -6.43993542e-03, -2.84257885e-02,  3.23246382e-02,\n",
       "        -1.84206367e-02,  3.72829922e-02,  1.80780031e-02,\n",
       "        -1.46543980e-02, -1.31540522e-02, -6.96778297e-05,\n",
       "        -6.73074648e-03, -2.69768964e-02,  4.82407920e-02,\n",
       "        -2.97912210e-03, -3.31534892e-02, -4.15248983e-02,\n",
       "         1.71085484e-02, -3.77373807e-02,  4.43335511e-02,\n",
       "        -3.87682542e-02, -4.58238013e-02,  5.81582636e-03,\n",
       "        -3.76645476e-03, -1.93797238e-02,  3.73208858e-02,\n",
       "         1.39762871e-02,  3.03233787e-03,  1.42685510e-02,\n",
       "        -3.50592285e-03, -2.16763150e-02,  3.88072766e-02,\n",
       "         1.18336901e-02,  3.39148678e-02, -3.98270786e-05,\n",
       "         4.69145291e-02,  3.98651846e-02,  3.21034454e-02,\n",
       "         2.10494660e-02,  2.53681056e-02, -2.59850156e-02,\n",
       "         4.71412279e-02, -3.27730551e-02,  3.81659605e-02,\n",
       "         3.13382037e-02,  2.74869055e-03, -2.93345805e-02,\n",
       "        -3.16557437e-02,  1.16098896e-02, -2.56407261e-02,\n",
       "         5.22757694e-03, -4.34020273e-02,  1.72342919e-02,\n",
       "         4.45606373e-02, -1.13725178e-02, -2.11489201e-03,\n",
       "         3.73524539e-02, -4.85084206e-03,  1.27805360e-02,\n",
       "         1.22262947e-02, -1.55347958e-02, -1.06399767e-02,\n",
       "         2.09057964e-02, -4.63314317e-02,  2.76353471e-02,\n",
       "         1.58879496e-02,  3.94936539e-02, -4.59056981e-02,\n",
       "        -2.77342442e-02,  2.02686712e-03, -1.43091679e-02,\n",
       "        -3.97934802e-02,  3.01002748e-02, -1.30622759e-02,\n",
       "        -2.68903505e-02,  3.88751291e-02, -3.63295078e-02,\n",
       "        -3.58502641e-02,  1.41853094e-03, -6.53993338e-04,\n",
       "        -4.27230112e-02,  4.52987291e-02,  4.32098545e-02,\n",
       "        -1.15949735e-02, -4.33901921e-02]], dtype=float32)"
      ]
     },
     "execution_count": 251,
     "metadata": {},
     "output_type": "execute_result"
    }
   ],
   "source": [
    "def per_arm_context_sampling_fn():\n",
    "    \"\"\"\n",
    "    This function generates a single per-arm observation vector\n",
    "    \"\"\"\n",
    "    for x in train_dataset.take(1).as_numpy_iterator():\n",
    "        mv_id_value = x['movie_id']\n",
    "        mv_gen_value = x['movie_genres'][0]\n",
    "        \n",
    "        # print(mv_id_value)\n",
    "        # print(mv_gen_value)\n",
    "        \n",
    "        mv_id_emb = mv_id_model([str(mv_id_value.decode('utf-8'))])\n",
    "        mv_gen_emb = mv_gen_model([int(mv_gen_value)])\n",
    "        \n",
    "        # print(mv_id_emb.shape)\n",
    "        # print(mv_gen_emb.shape)\n",
    "        \n",
    "        combined_mv_features = np.concatenate(\n",
    "            (\n",
    "                mv_id_emb,\n",
    "                tf.expand_dims(mv_gen_emb, axis=0)\n",
    "            )\n",
    "            , axis=1\n",
    "        )\n",
    "        \n",
    "    return combined_mv_features\n",
    "\n",
    "global_arm = per_arm_context_sampling_fn()\n",
    "print(global_arm.shape)\n",
    "global_arm\n",
    "\n",
    "# per_arm_context_sampling_fn(dataset = train_dataset)"
   ]
  },
  {
   "cell_type": "markdown",
   "id": "e547e745-dad5-4088-bbbf-27b61f38c1a6",
   "metadata": {},
   "source": [
    "## reward function"
   ]
  },
  {
   "cell_type": "code",
   "execution_count": 241,
   "id": "dc9d7df2-8c14-4adc-b4c3-a41f51986d20",
   "metadata": {},
   "outputs": [
    {
     "data": {
      "text/plain": [
       "(128,)"
      ]
     },
     "execution_count": 241,
     "metadata": {},
     "output_type": "execute_result"
    }
   ],
   "source": [
    "# global_con[0]\n",
    "global_con[0].shape"
   ]
  },
  {
   "cell_type": "code",
   "execution_count": 240,
   "id": "9a3b621f-1aa8-4c6a-a3f6-2e0d549e610d",
   "metadata": {},
   "outputs": [
    {
     "data": {
      "text/plain": [
       "(128,)"
      ]
     },
     "execution_count": 240,
     "metadata": {},
     "output_type": "execute_result"
    }
   ],
   "source": [
    "# global_arm[0] #[0]\n",
    "global_arm[0].shape"
   ]
  },
  {
   "cell_type": "code",
   "execution_count": 232,
   "id": "df694219-f112-4514-93e8-633353351c60",
   "metadata": {},
   "outputs": [
    {
     "data": {
      "text/plain": [
       "0.004005814"
      ]
     },
     "execution_count": 232,
     "metadata": {},
     "output_type": "execute_result"
    }
   ],
   "source": [
    "inner_prod = np.dot(global_arm[0], global_con[0])\n",
    "inner_prod"
   ]
  },
  {
   "cell_type": "code",
   "execution_count": 244,
   "id": "35c63767-9123-4b26-be84-403713d334ba",
   "metadata": {},
   "outputs": [
    {
     "data": {
      "text/plain": [
       "(256,)"
      ]
     },
     "execution_count": 244,
     "metadata": {},
     "output_type": "execute_result"
    }
   ],
   "source": [
    "reward_param = np.concatenate(\n",
    "    (\n",
    "        global_con[0],\n",
    "        global_arm[0]\n",
    "    )\n",
    ")\n",
    "reward_param.shape"
   ]
  },
  {
   "cell_type": "code",
   "execution_count": 235,
   "id": "031330ea-6cca-44a2-841a-1a404b821d61",
   "metadata": {},
   "outputs": [],
   "source": [
    "# def linear_normal_reward_fn(context_features, arm_features):\n",
    "#     \"\"\"\n",
    "#     This function generates a reward from the concatenated global and per-arm observations.\n",
    "#     \"\"\"\n",
    "#     inner_prod = np.dot(context_features, arm_features)\n",
    "#     return inner_prod"
   ]
  },
  {
   "cell_type": "code",
   "execution_count": 236,
   "id": "4e5a8448-e310-4157-9499-a25bfcfb0860",
   "metadata": {},
   "outputs": [
    {
     "data": {
      "text/plain": [
       "0.004005814"
      ]
     },
     "execution_count": 236,
     "metadata": {},
     "output_type": "execute_result"
    }
   ],
   "source": [
    "# linear_normal_reward_fn(global_arm[0], global_con[0])"
   ]
  },
  {
   "cell_type": "code",
   "execution_count": 252,
   "id": "095182f1-fc32-4755-aa9c-0cdacb00c967",
   "metadata": {},
   "outputs": [
    {
     "name": "stdout",
     "output_type": "stream",
     "text": [
      "GLOBAL_DIM   : 128\n",
      "PER_ARM_DIM  : 128\n",
      "NUM_ACTIONS  : 70\n",
      "BATCH_SIZE   : 20\n"
     ]
    }
   ],
   "source": [
    "# The dimension of the global features.\n",
    "GLOBAL_DIM = global_con.shape[1] \n",
    "\n",
    "PER_ARM_DIM = global_arm.shape[1]  \n",
    "# The elements of the PER-ARM feature will be integers in [-PER_ARM_BOUND, PER_ARM_BOUND).\n",
    "\n",
    "NUM_ACTIONS = 70 \n",
    "BATCH_SIZE = 20\n",
    "\n",
    "# The variance of the Gaussian distribution that generates the rewards.\n",
    "VARIANCE = 100.0\n",
    "\n",
    "reward_param = np.concatenate(\n",
    "    (\n",
    "        global_con[0],\n",
    "        global_arm[0]\n",
    "    )\n",
    ")\n",
    "# reward_param.shape\n",
    "\n",
    "print(f\"GLOBAL_DIM   : {GLOBAL_DIM}\")\n",
    "print(f\"PER_ARM_DIM  : {PER_ARM_DIM}\")\n",
    "print(f\"NUM_ACTIONS  : {NUM_ACTIONS}\")\n",
    "print(f\"BATCH_SIZE   : {BATCH_SIZE}\")"
   ]
  },
  {
   "cell_type": "code",
   "execution_count": 253,
   "id": "192a17ac-1190-41e0-92b9-2c7fcef47bc8",
   "metadata": {},
   "outputs": [],
   "source": [
    "def linear_normal_reward_fn(x):\n",
    "    \"\"\"This function generates a reward from the concatenated global and per-arm observations.\"\"\"\n",
    "    mu = np.dot(x, reward_param)\n",
    "    return np.random.normal(mu, VARIANCE)"
   ]
  },
  {
   "cell_type": "code",
   "execution_count": 254,
   "id": "abbeee2d-3114-49f9-ab98-203ea9f8fe79",
   "metadata": {},
   "outputs": [
    {
     "data": {
      "text/plain": [
       "<function __main__.linear_normal_reward_fn(x)>"
      ]
     },
     "execution_count": 254,
     "metadata": {},
     "output_type": "execute_result"
    }
   ],
   "source": [
    "linear_normal_reward_fn"
   ]
  },
  {
   "cell_type": "code",
   "execution_count": 255,
   "id": "f8c73dc0-b359-4e11-94bb-b74e326684a8",
   "metadata": {},
   "outputs": [],
   "source": [
    "from tf_agents.bandits.environments import stationary_stochastic_per_arm_py_environment as p_a_env\n",
    "\n",
    "per_arm_py_env = p_a_env.StationaryStochasticPerArmPyEnvironment(\n",
    "    global_context_sampling_fn,\n",
    "    per_arm_context_sampling_fn,\n",
    "    NUM_ACTIONS,\n",
    "    linear_normal_reward_fn,\n",
    "    batch_size=BATCH_SIZE\n",
    ")\n",
    "per_arm_tf_env = tf_py_environment.TFPyEnvironment(per_arm_py_env)"
   ]
  },
  {
   "cell_type": "code",
   "execution_count": null,
   "id": "2370f3e2-c328-4466-a6bd-ec1768ad9bbf",
   "metadata": {},
   "outputs": [
    {
     "name": "stdout",
     "output_type": "stream",
     "text": [
      "observation spec:  {'global': TensorSpec(shape=(1, 128), dtype=tf.float32, name=None), 'per_arm': TensorSpec(shape=(70, 1, 128), dtype=tf.float32, name=None)}\n"
     ]
    }
   ],
   "source": [
    "print('observation spec: ', per_arm_tf_env.observation_spec())\n",
    "print('\\nAn observation: ', per_arm_tf_env.reset().observation)\n",
    "\n",
    "action = tf.zeros(BATCH_SIZE, dtype=tf.int32)\n",
    "time_step = per_arm_tf_env.step(action)\n",
    "print('\\nRewards after taking an action: ', time_step.reward)"
   ]
  },
  {
   "cell_type": "code",
   "execution_count": null,
   "id": "06b270d2-bae8-4147-a1f1-b266f3103441",
   "metadata": {},
   "outputs": [],
   "source": []
  },
  {
   "cell_type": "code",
   "execution_count": null,
   "id": "d5ec1dde-96c8-47f2-a1f7-cede30665c30",
   "metadata": {},
   "outputs": [],
   "source": []
  },
  {
   "cell_type": "code",
   "execution_count": null,
   "id": "3ddb24ea-ec39-4e53-80b9-7e588bfa21d2",
   "metadata": {},
   "outputs": [],
   "source": []
  },
  {
   "cell_type": "code",
   "execution_count": null,
   "id": "ed3265f9-dbc0-47e1-afd0-02b6ca7219d2",
   "metadata": {},
   "outputs": [],
   "source": []
  },
  {
   "cell_type": "code",
   "execution_count": null,
   "id": "102bd136-faba-420c-9b97-94fc86b8016f",
   "metadata": {},
   "outputs": [],
   "source": []
  },
  {
   "cell_type": "code",
   "execution_count": null,
   "id": "c12a1b5d-73b0-4e97-bf55-e953b707db64",
   "metadata": {},
   "outputs": [],
   "source": []
  },
  {
   "cell_type": "code",
   "execution_count": null,
   "id": "3ef7968a-bab4-4716-9cf5-72684d67ae7f",
   "metadata": {},
   "outputs": [],
   "source": []
  },
  {
   "cell_type": "code",
   "execution_count": null,
   "id": "400dd112-133c-4bb9-8bca-4b808c002d0f",
   "metadata": {},
   "outputs": [],
   "source": []
  },
  {
   "cell_type": "code",
   "execution_count": null,
   "id": "0bd1a9ee-d54e-412d-b51b-6182057c4e20",
   "metadata": {},
   "outputs": [],
   "source": []
  },
  {
   "cell_type": "code",
   "execution_count": null,
   "id": "cdfec136-abb0-455d-9e71-678f03c41bb9",
   "metadata": {},
   "outputs": [],
   "source": []
  },
  {
   "cell_type": "code",
   "execution_count": null,
   "id": "f23c6377-4bc7-40e9-beb2-a2dcbbf91913",
   "metadata": {},
   "outputs": [],
   "source": []
  },
  {
   "cell_type": "code",
   "execution_count": null,
   "id": "5174251c-d657-4c97-9ab5-c876919d5dd1",
   "metadata": {},
   "outputs": [],
   "source": []
  },
  {
   "cell_type": "markdown",
   "id": "695f980f-8ae9-415c-8978-08e0e9112c1e",
   "metadata": {},
   "source": [
    "# Define RL modules"
   ]
  },
  {
   "cell_type": "code",
   "execution_count": 16,
   "id": "faee5299-1516-4ce5-95c5-23400ccb0143",
   "metadata": {},
   "outputs": [],
   "source": [
    "# REPO_DOCKER_PATH_PREFIX = 'src'\n",
    "# RL_SUB_DIR = 'per_arm_rl'\n",
    "\n",
    "# TODO - fix between 00-data notebook\n",
    "# ! rm -rf {REPO_DOCKER_PATH_PREFIX}/{RL_SUB_DIR}\n",
    "# ! mkdir -p {REPO_DOCKER_PATH_PREFIX}/{RL_SUB_DIR}\n",
    "# ! touch {REPO_DOCKER_PATH_PREFIX}/{RL_SUB_DIR}/__init__.py"
   ]
  },
  {
   "cell_type": "markdown",
   "id": "479c1f90-3443-4137-b1ce-bd5225395d83",
   "metadata": {},
   "source": [
    "### per_arm environment"
   ]
  },
  {
   "cell_type": "code",
   "execution_count": 17,
   "id": "3655e5cf-82b2-4cd0-83c5-b757ed852b5a",
   "metadata": {},
   "outputs": [
    {
     "name": "stdout",
     "output_type": "stream",
     "text": [
      "Overwriting src/per_arm_rl/my_per_arm_py_env.py\n"
     ]
    }
   ],
   "source": [
    "%%writefile {REPO_DOCKER_PATH_PREFIX}/{RL_SUB_DIR}/my_per_arm_py_env.py\n",
    "# Copyright 2021 Google Inc. All Rights Reserved.\n",
    "#\n",
    "# Licensed under the Apache License, Version 2.0 (the \"License\");\n",
    "# you may not use this file except in compliance with the License.\n",
    "# You may obtain a copy of the License at\n",
    "#\n",
    "#            http://www.apache.org/licenses/LICENSE-2.0\n",
    "#\n",
    "# Unless required by applicable law or agreed to in writing, software\n",
    "# distributed under the License is distributed on an \"AS IS\" BASIS,\n",
    "# WITHOUT WARRANTIES OR CONDITIONS OF ANY KIND, either express or implied.\n",
    "# See the License for the specific language governing permissions and\n",
    "\"\"\"Class implementation of the per-arm MovieLens Bandit environment.\"\"\"\n",
    "from __future__ import absolute_import\n",
    "import os\n",
    "import gin\n",
    "import random\n",
    "import numpy as np\n",
    "from typing import Optional, Text\n",
    "\n",
    "import logging\n",
    "\n",
    "import tensorflow as tf\n",
    "\n",
    "tf.compat.v1.enable_v2_behavior()\n",
    "\n",
    "from tf_agents.bandits.environments import bandit_py_environment\n",
    "from tf_agents.bandits.environments import dataset_utilities\n",
    "from tf_agents.bandits.specs import utils as bandit_spec_utils\n",
    "from tf_agents.specs import array_spec\n",
    "from tf_agents.trajectories import time_step as ts\n",
    "\n",
    "from . import data_utils\n",
    "\n",
    "GLOBAL_KEY = bandit_spec_utils.GLOBAL_FEATURE_KEY\n",
    "PER_ARM_KEY = bandit_spec_utils.PER_ARM_FEATURE_KEY\n",
    "\n",
    "# @gin.configurable\n",
    "class MyMovieLensPerArmPyEnvironment(bandit_py_environment.BanditPyEnvironment):\n",
    "    \"\"\"Implements the per-arm version of the MovieLens Bandit environment.\n",
    "\n",
    "    This environment implements the MovieLens 100K dataset, available at:\n",
    "    https://www.kaggle.com/prajitdatta/movielens-100k-dataset\n",
    "\n",
    "    This dataset contains 100K ratings from 943 users on 1682 items.\n",
    "    This environment computes a low-rank matrix factorization (using SVD) of the\n",
    "    data matrix `A`, such that: `A ~= U * Sigma * V^T`.\n",
    "\n",
    "    The environment uses the rows of `U` as global (or user) features, and the\n",
    "    rows of `V` as per-arm (or movie) features.\n",
    "\n",
    "    The reward of recommending movie `v` to user `u` is `u * Sigma * v^T`.\n",
    "    \"\"\"\n",
    "\n",
    "    def __init__(\n",
    "        self\n",
    "        , project_number\n",
    "        , data_path: str\n",
    "        , bucket_name: str\n",
    "        , data_gcs_prefix: str\n",
    "        , user_age_lookup_dict: dict\n",
    "        , user_occ_lookup_dict: dict\n",
    "        , movie_gen_lookup_dict: dict\n",
    "        , num_users: int = 943\n",
    "        , num_movies: int = 1682\n",
    "        , rank_k: int = 2\n",
    "        , batch_size: int = 10\n",
    "        , num_actions: int = 100\n",
    "        , name: Optional[Text] = 'movielens_per_arm'\n",
    "    ):\n",
    "        \"\"\"Initializes the Per-arm MovieLens Bandit environment.\n",
    "\n",
    "        Args:\n",
    "          data_dir: (string) Directory where the data lies (in text form).\n",
    "          rank_k : (int) Which rank to use in the matrix factorization. This will\n",
    "            also be the feature dimension of both the user and the movie features.\n",
    "          batch_size: (int) Number of observations generated per call.\n",
    "          num_actions: (int) How many movies to choose from per round.\n",
    "          name: (string) The name of this environment instance.\n",
    "        \"\"\"\n",
    "        self.project_number = project_number\n",
    "        self.data_path = data_path\n",
    "        self.bucket_name = bucket_name\n",
    "        self.data_gcs_prefix = data_gcs_prefix\n",
    "        self._batch_size = batch_size\n",
    "        self._num_actions = num_actions\n",
    "        self._rank_k = rank_k\n",
    "        self.num_users = num_users\n",
    "        self.num_movies = num_movies\n",
    "        self.user_age_lookup_dict = user_age_lookup_dict\n",
    "        self.user_occ_lookup_dict = user_occ_lookup_dict\n",
    "        self.movie_gen_lookup_dict = movie_gen_lookup_dict\n",
    "        \n",
    "        # =============================================\n",
    "        # set GCP clients\n",
    "        # =============================================\n",
    "        from google.cloud import aiplatform as vertex_ai\n",
    "        from google.cloud import storage\n",
    "        \n",
    "        # project_number = os.environ[\"CLOUD_ML_PROJECT_ID\"]\n",
    "        storage_client = storage.Client(project=self.project_number)\n",
    "        vertex_ai.init(\n",
    "            project=self.project_number,\n",
    "            location='us-central1',\n",
    "            # experiment=args.experiment_name\n",
    "        )\n",
    "        \n",
    "        # =============================================\n",
    "        # GPUs\n",
    "        # =============================================\n",
    "        \n",
    "        # limiting GPU growth\n",
    "        gpus = tf.config.list_physical_devices('GPU')\n",
    "        if gpus:\n",
    "            try:\n",
    "                for gpu in gpus:\n",
    "                    tf.config.experimental.set_memory_growth(gpu, True)\n",
    "                logging.info(f'detected: {len(gpus)} GPUs')\n",
    "            except RuntimeError as e:\n",
    "                # Memory growth must be set before GPUs have been initialized\n",
    "                logging.info(e)\n",
    "\n",
    "        # tf.debugging.set_log_device_placement(True)        # logs all tf ops and their device placement;\n",
    "        os.environ['TF_GPU_THREAD_MODE']='gpu_private'\n",
    "        os.environ['TF_GPU_THREAD_COUNT']=f'8'               # TODO - parametrize | 1\n",
    "        os.environ['TF_GPU_ALLOCATOR']='cuda_malloc_async'\n",
    "        \n",
    "        # =============================================\n",
    "        # get TF dataset\n",
    "        # =============================================\n",
    "        logging.info(\"Creating TRAIN dataset...\")\n",
    "        logging.info(f'Path to TRAIN files: gs://{self.bucket_name}/{self.data_gcs_prefix}')\n",
    "        \n",
    "        options = tf.data.Options()\n",
    "        options.experimental_distribute.auto_shard_policy = tf.data.experimental.AutoShardPolicy.DATA\n",
    "        \n",
    "        train_files = []\n",
    "        for blob in storage_client.list_blobs(f\"{self.bucket_name}\", prefix=f'{self.data_gcs_prefix}/'):\n",
    "            if '.tfrecord' in blob.name:\n",
    "                train_files.append(blob.public_url.replace(\"https://storage.googleapis.com/\", \"gs://\"))\n",
    "                \n",
    "        logging.info(f'train_files: {train_files}')\n",
    "        \n",
    "        train_dataset = tf.data.TFRecordDataset(train_files)\n",
    "        train_dataset = train_dataset.map(data_utils.parse_tfrecord)\n",
    "        \n",
    "        self.dataset = train_dataset\n",
    "        # =============================================\n",
    "        # load data & compute ratings matrix\n",
    "        # =============================================\n",
    "        self._data_matrix, self._user_age_int, self._user_occ_int, self._mov_gen_int = data_utils.load_movielens_ratings(\n",
    "            ratings_dataset = self.dataset\n",
    "            , num_users = self.num_users\n",
    "            , num_movies = self.num_movies\n",
    "            , user_age_lookup_dict = self.user_age_lookup_dict\n",
    "            , user_occ_lookup_dict = self.user_occ_lookup_dict\n",
    "            , movie_gen_lookup_dict = self.movie_gen_lookup_dict\n",
    "        )\n",
    "        self._num_users, self._num_movies = self._data_matrix.shape\n",
    "        \n",
    "        # Compute the SVD.\n",
    "        # TODO - compute SVD in tf - see: https://www.tensorflow.org/api_docs/python/tf/linalg/svd\n",
    "        u, s, vh = np.linalg.svd(self._data_matrix, full_matrices=False)\n",
    "        \n",
    "        # Keep only the largest singular values.\n",
    "        self._u_hat = u[:, :self._rank_k].astype(np.float32)\n",
    "        self._s_hat = s[:self._rank_k].astype(np.float32)\n",
    "        self._v_hat = np.transpose(vh[:self._rank_k]).astype(np.float32)\n",
    "\n",
    "        self._approx_ratings_matrix = np.matmul(\n",
    "            self._u_hat * self._s_hat\n",
    "            , np.transpose(self._v_hat)\n",
    "        )\n",
    "        \n",
    "        # =============================================\n",
    "        # action spec\n",
    "        # =============================================\n",
    "        self._action_spec = array_spec.BoundedArraySpec(\n",
    "            shape=()\n",
    "            , dtype=np.int32\n",
    "            , minimum=0\n",
    "            , maximum=self._num_actions - 1\n",
    "            , name='action'\n",
    "        )\n",
    "        \n",
    "        # =============================================\n",
    "        # observation spec\n",
    "        # =============================================\n",
    "        observation_spec = {\n",
    "            GLOBAL_KEY:\n",
    "                array_spec.ArraySpec(shape=[self._rank_k + 2], dtype=np.float32),     # creating +space for user age and occupation\n",
    "            PER_ARM_KEY:\n",
    "                array_spec.ArraySpec(\n",
    "                    shape=[self._num_actions, self._rank_k + 1], dtype=np.float32),   # creating +1 space for movie genre\n",
    "        }\n",
    "        self._time_step_spec = ts.time_step_spec(observation_spec)\n",
    "\n",
    "        self._current_user_indices = np.zeros(self._batch_size, dtype=np.int32)\n",
    "        self._previous_user_indices = np.zeros(self._batch_size, dtype=np.int32)\n",
    "\n",
    "        self._current_movie_indices = np.zeros(\n",
    "            [self._batch_size, self._num_actions], dtype=np.int32\n",
    "        )\n",
    "        self._previous_movie_indices = np.zeros(\n",
    "            [self._batch_size, self._num_actions], dtype=np.int32\n",
    "        )\n",
    "        \n",
    "        self._observation = {\n",
    "            GLOBAL_KEY:\n",
    "                np.zeros([self._batch_size, self._rank_k + 2], dtype=np.int32), #making space like above for dimensions\n",
    "            PER_ARM_KEY:\n",
    "                np.zeros([self._batch_size, self._num_actions, self._rank_k + 1], dtype=np.int32),\n",
    "        }\n",
    "        \n",
    "        # =============================================\n",
    "        # super init\n",
    "        # =============================================\n",
    "        super(MyMovieLensPerArmPyEnvironment, self).__init__(\n",
    "            observation_spec, self._action_spec, name=name\n",
    "        )\n",
    "        \n",
    "    # =============================================\n",
    "    # batched observations\n",
    "    # =============================================\n",
    "    @property\n",
    "    def batch_size(self):\n",
    "        return self._batch_size\n",
    "\n",
    "    @property\n",
    "    def batched(self):\n",
    "        return True\n",
    "\n",
    "    def _observe(self):\n",
    "        sampled_user_indices = np.random.randint(\n",
    "            self._num_users, size=self._batch_size\n",
    "        )\n",
    "        self._previous_user_indices = self._current_user_indices\n",
    "        self._current_user_indices = sampled_user_indices\n",
    "\n",
    "        sampled_movie_indices = np.array([\n",
    "            random.sample(range(self._num_movies), self._num_actions)\n",
    "            for _ in range(self._batch_size)\n",
    "        ])\n",
    "        sampled_user_ages = self._user_age_int[sampled_user_indices]\n",
    "        sampled_user_occ = self._user_occ_int[sampled_user_indices]\n",
    "        combined_user_features = np.concatenate(\n",
    "            (\n",
    "                self._u_hat[sampled_user_indices]\n",
    "                , sampled_user_ages.reshape(-1,1)\n",
    "                , sampled_user_occ.reshape(-1,1)\n",
    "            )\n",
    "            , axis=1\n",
    "        )\n",
    "        # current_users = combined_user_features.reshape([self.batch_size, self._rank_k+2])\n",
    "        \n",
    "        movie_index_vector = sampled_movie_indices.reshape(-1)\n",
    "        # print(movie_index_vector.shape)\n",
    "        flat_genre_list = self._mov_gen_int[movie_index_vector] # shape of 1\n",
    "        flat_movie_list = self._v_hat[movie_index_vector]       # shape of 2\n",
    "        \n",
    "        combined_movie_features = np.concatenate(\n",
    "            (\n",
    "                flat_movie_list\n",
    "                , flat_genre_list.reshape(-1,1)\n",
    "            )\n",
    "            , axis=1\n",
    "        )\n",
    "        current_movies = combined_movie_features.reshape(\n",
    "            [self._batch_size, self._num_actions, self._rank_k + 1]\n",
    "        )\n",
    "\n",
    "        self._previous_movie_indices = self._current_movie_indices\n",
    "        self._current_movie_indices = sampled_movie_indices\n",
    "\n",
    "        batched_observations = {\n",
    "            GLOBAL_KEY:\n",
    "                tf.convert_to_tensor(combined_user_features, dtype=tf.float32),\n",
    "            PER_ARM_KEY:\n",
    "                tf.convert_to_tensor(current_movies, dtype=tf.float32),\n",
    "        }\n",
    "        return batched_observations\n",
    "\n",
    "    def _apply_action(self, action):\n",
    "        chosen_arm_indices = self._current_movie_indices[\n",
    "            range(self._batch_size), action\n",
    "        ]\n",
    "        return self._approx_ratings_matrix[\n",
    "            self._current_user_indices, chosen_arm_indices\n",
    "        ]\n",
    "\n",
    "    def _rewards_for_all_actions(self):\n",
    "        rewards_matrix = self._approx_ratings_matrix[\n",
    "            np.expand_dims(self._previous_user_indices, axis=-1)\n",
    "            , self._previous_movie_indices\n",
    "        ]\n",
    "        return rewards_matrix\n",
    "\n",
    "    def compute_optimal_action(self):\n",
    "        return np.argmax(self._rewards_for_all_actions(), axis=-1)\n",
    "\n",
    "    def compute_optimal_reward(self):\n",
    "        return np.max(self._rewards_for_all_actions(), axis=-1)"
   ]
  },
  {
   "cell_type": "markdown",
   "id": "37bcaf16-ef88-4dce-a8e2-72f20d244dff",
   "metadata": {},
   "source": [
    "# Train RL modules"
   ]
  },
  {
   "cell_type": "code",
   "execution_count": 18,
   "id": "96a99630-4364-40ff-9a2a-c1f02d706f96",
   "metadata": {},
   "outputs": [],
   "source": [
    "from src.per_arm_rl import my_per_arm_py_env as my_per_arm_py_env"
   ]
  },
  {
   "cell_type": "markdown",
   "id": "19dd649a-1055-4376-8c1c-1543bfd849f1",
   "metadata": {},
   "source": [
    "### set hyperparameters"
   ]
  },
  {
   "cell_type": "code",
   "execution_count": 19,
   "id": "30fd48c5-b137-4823-80d0-7ac462684fee",
   "metadata": {},
   "outputs": [
    {
     "name": "stdout",
     "output_type": "stream",
     "text": [
      "BATCH_SIZE       : 8\n",
      "TRAINING_LOOPS   : 10\n",
      "STEPS_PER_LOOP   : 6\n",
      "RANK_K           : 20\n",
      "NUM_ACTIONS      : 20\n",
      "PER_ARM          : True\n",
      "TIKHONOV_WEIGHT  : 0.001\n",
      "AGENT_ALPHA      : 10.0\n"
     ]
    }
   ],
   "source": [
    "# Set hyperparameters.\n",
    "BATCH_SIZE       = 8      # Training and prediction batch size.\n",
    "TRAINING_LOOPS   = 10      # Number of training iterations.\n",
    "STEPS_PER_LOOP   = 6      # Number of driver steps per training iteration.\n",
    "\n",
    "# Set MovieLens simulation environment parameters.\n",
    "RANK_K           = 20     # Rank for matrix factorization in the MovieLens environment; also the observation dimension.\n",
    "NUM_ACTIONS      = 20     # Number of actions (movie items) to choose from.\n",
    "PER_ARM          = True   # Use the non-per-arm version of the MovieLens environment.\n",
    "\n",
    "# Set agent parameters.\n",
    "TIKHONOV_WEIGHT  = 0.001   # LinUCB Tikhonov regularization weight.\n",
    "AGENT_ALPHA      = 10.0    # LinUCB exploration parameter that multiplies the confidence intervals.\n",
    "\n",
    "print(f\"BATCH_SIZE       : {BATCH_SIZE}\")\n",
    "print(f\"TRAINING_LOOPS   : {TRAINING_LOOPS}\")\n",
    "print(f\"STEPS_PER_LOOP   : {STEPS_PER_LOOP}\")\n",
    "print(f\"RANK_K           : {RANK_K}\")\n",
    "print(f\"NUM_ACTIONS      : {NUM_ACTIONS}\")\n",
    "print(f\"PER_ARM          : {PER_ARM}\")\n",
    "print(f\"TIKHONOV_WEIGHT  : {TIKHONOV_WEIGHT}\")\n",
    "print(f\"AGENT_ALPHA      : {AGENT_ALPHA}\")"
   ]
  },
  {
   "cell_type": "markdown",
   "id": "c024c122-7701-4391-97c1-48660589b098",
   "metadata": {},
   "source": [
    "### Define RL environment"
   ]
  },
  {
   "cell_type": "markdown",
   "id": "1fed298e-0361-4b28-9ee9-e82af4c6d4ea",
   "metadata": {},
   "source": [
    "One can define a bandit environment by subclassing `BanditTFEnvironment`, or, similarly to RL environments, one can define a `BanditPyEnvironment` and wrap it with `TFPyEnvironment`"
   ]
  },
  {
   "cell_type": "code",
   "execution_count": 21,
   "id": "00eddb55-19f3-4bd8-89cf-3a1a75bcba9a",
   "metadata": {},
   "outputs": [],
   "source": [
    "env = my_per_arm_py_env.MyMovieLensPerArmPyEnvironment(\n",
    "    project_number = PROJECT_NUM\n",
    "    , data_path = DATA_PATH\n",
    "    , bucket_name = BUCKET_NAME\n",
    "    , data_gcs_prefix = DATA_GCS_PREFIX\n",
    "    , user_age_lookup_dict = data_config.USER_AGE_LOOKUP\n",
    "    , user_occ_lookup_dict = data_config.USER_OCC_LOOKUP\n",
    "    , movie_gen_lookup_dict = data_config.MOVIE_GEN_LOOKUP\n",
    "    , num_users = data_config.MOVIELENS_NUM_USERS\n",
    "    , num_movies = data_config.MOVIELENS_NUM_MOVIES\n",
    "    , rank_k = RANK_K\n",
    "    , batch_size = BATCH_SIZE\n",
    "    , num_actions = NUM_ACTIONS\n",
    ")\n",
    "\n",
    "environment = tf_py_environment.TFPyEnvironment(env)"
   ]
  },
  {
   "cell_type": "code",
   "execution_count": 22,
   "id": "9e724379-898d-4dfb-955e-c481a186beb4",
   "metadata": {
    "collapsed": true,
    "jupyter": {
     "outputs_hidden": true
    },
    "tags": []
   },
   "outputs": [
    {
     "name": "stdout",
     "output_type": "stream",
     "text": [
      "observation spec:  {'global': TensorSpec(shape=(22,), dtype=tf.float32, name=None), 'per_arm': TensorSpec(shape=(20, 21), dtype=tf.float32, name=None)}\n",
      "\n",
      "An observation:  {'global': <tf.Tensor: shape=(8, 22), dtype=float32, numpy=\n",
      "array([[-2.28528548e-02, -3.51785943e-02, -3.05424985e-02,\n",
      "        -3.92608456e-02,  2.89941318e-02, -9.31560155e-03,\n",
      "         2.95473784e-02,  4.05030102e-02, -1.04723804e-01,\n",
      "        -4.41837572e-02,  3.32700983e-02,  7.12576136e-02,\n",
      "        -3.18237469e-02,  4.58331257e-02, -4.35423851e-02,\n",
      "         3.39798443e-02,  5.78484125e-02,  3.90710557e-06,\n",
      "         1.82714015e-02,  9.83974338e-03,  4.00010014e+00,\n",
      "         2.00009990e+00],\n",
      "       [-3.88121768e-03, -2.10101362e-02,  1.87191181e-02,\n",
      "        -2.26724315e-02, -2.37291846e-02,  1.20723969e-03,\n",
      "         8.09682161e-03,  1.28388021e-03, -1.68351661e-02,\n",
      "        -6.52995287e-03,  6.31455623e-04, -1.49870189e-02,\n",
      "        -9.42895305e-04, -7.06600258e-03, -2.54058447e-02,\n",
      "         8.35340106e-05,  1.90908108e-02, -1.70709612e-03,\n",
      "        -1.95749830e-02,  2.71996446e-02,  6.00010014e+00,\n",
      "         5.00010014e+00],\n",
      "       [-1.73790324e-02, -2.67367214e-02,  1.47021692e-02,\n",
      "         3.04695684e-02, -6.47003064e-03, -1.95936020e-02,\n",
      "        -7.27545423e-03, -4.24014218e-03, -2.08570007e-02,\n",
      "         3.69269140e-02, -8.57979152e-03,  2.40060762e-02,\n",
      "        -1.44713959e-02,  3.27981217e-03,  3.10399309e-02,\n",
      "        -5.50796103e-04,  1.52320778e-02, -2.48082913e-02,\n",
      "        -1.12082139e-02,  5.88506972e-03,  6.00010014e+00,\n",
      "         6.00010014e+00],\n",
      "       [-1.45955095e-02, -5.28773591e-02,  4.03829515e-02,\n",
      "        -1.73060654e-03, -1.34873558e-02, -1.37417903e-02,\n",
      "         1.67663321e-02,  5.05343731e-03, -1.19466698e-02,\n",
      "         7.95600936e-03,  2.82156058e-02,  2.38765888e-02,\n",
      "         1.10772047e-02, -3.23792435e-02,  4.34258878e-02,\n",
      "        -2.62656305e-02,  2.01075599e-02, -1.51030831e-02,\n",
      "         4.00603153e-02, -5.25465293e-04,  5.00010014e+00,\n",
      "         2.00009990e+00],\n",
      "       [-6.50633723e-02,  3.19501571e-02, -4.63652201e-02,\n",
      "        -5.00238352e-02,  3.11325360e-02,  5.63663617e-03,\n",
      "         2.97128260e-02,  1.61606018e-02,  3.40650305e-02,\n",
      "        -3.01686935e-02,  1.42493155e-02,  1.00094909e-02,\n",
      "         6.08466826e-02, -1.34377470e-02, -1.64959002e-02,\n",
      "         1.89957377e-02, -3.12694609e-02,  1.95351690e-02,\n",
      "        -1.62582919e-02,  1.19276550e-02,  6.00010014e+00,\n",
      "         2.00009990e+00],\n",
      "       [-2.08035354e-02,  2.42233891e-02,  1.83491763e-02,\n",
      "        -2.41030212e-02, -1.24686295e-02, -4.93584163e-02,\n",
      "         1.03200376e-02, -1.46279512e-02, -2.62933541e-02,\n",
      "         5.57489786e-03, -5.67535986e-04,  3.62230837e-03,\n",
      "        -1.14150606e-02,  8.95377994e-03, -1.10240616e-02,\n",
      "         5.28596304e-02,  1.16946583e-03,  1.99818294e-02,\n",
      "        -6.07333984e-03, -3.98628525e-02,  6.00010014e+00,\n",
      "         8.00010014e+00],\n",
      "       [-5.83424345e-02, -4.11141925e-02, -8.71416926e-02,\n",
      "         1.07279001e-02,  2.76334025e-03, -9.28675197e-03,\n",
      "        -1.92388648e-03, -1.70821100e-02,  2.76328959e-02,\n",
      "        -3.73600945e-02,  6.32443232e-03, -4.36463356e-02,\n",
      "         6.93528075e-03,  2.02175379e-02,  8.36757105e-03,\n",
      "         2.14789547e-02, -1.69696920e-02,  1.59375183e-02,\n",
      "         1.12847686e-02,  8.44542831e-02,  6.00010014e+00,\n",
      "         1.30001001e+01],\n",
      "       [-3.86064174e-03, -1.73161570e-02,  8.88182502e-03,\n",
      "        -3.12672905e-03,  7.70959165e-03,  3.81899835e-03,\n",
      "         2.79158796e-03,  6.53344393e-03, -1.27928108e-02,\n",
      "         5.81186824e-03,  9.56608821e-03, -1.70019530e-02,\n",
      "        -2.84830295e-03, -4.96259658e-03, -2.76921899e-03,\n",
      "         8.30969494e-03, -5.60498331e-03, -1.91132985e-02,\n",
      "         7.71166175e-04,  2.20829509e-02,  6.00010014e+00,\n",
      "         8.00010014e+00]], dtype=float32)>, 'per_arm': <tf.Tensor: shape=(8, 20, 21), dtype=float32, numpy=\n",
      "array([[[-1.6256765e-03, -2.7025247e-03,  2.0205553e-04, ...,\n",
      "         -3.9689206e-03, -1.1132955e-02,  9.9999997e-05],\n",
      "        [-1.7152432e-03,  1.0904067e-03,  5.6691682e-03, ...,\n",
      "          6.6017737e-03,  2.6826025e-03,  4.0001001e+00],\n",
      "        [-1.5545200e-02,  1.1378247e-02, -2.7554577e-05, ...,\n",
      "         -9.0729110e-03, -1.6850723e-02,  7.0001001e+00],\n",
      "        ...,\n",
      "        [-3.5913233e-02, -2.1760987e-02,  5.7748724e-02, ...,\n",
      "         -1.7989619e-02, -8.5529320e-02,  4.0001001e+00],\n",
      "        [-1.8304981e-02, -5.4859137e-03,  1.5870854e-02, ...,\n",
      "          1.5896119e-02, -1.9542016e-02,  7.0001001e+00],\n",
      "        [-8.1907902e-03, -7.5455068e-04, -1.7348424e-02, ...,\n",
      "          1.3386077e-02, -1.0797914e-02,  7.0001001e+00]],\n",
      "\n",
      "       [[-7.1922207e-04, -6.0375087e-04, -5.1508099e-04, ...,\n",
      "          1.8405287e-03,  1.8713723e-03,  1.0000100e+01],\n",
      "        [-2.8860826e-02,  1.8864579e-02, -1.7240092e-02, ...,\n",
      "          2.0223867e-02, -4.3392636e-02,  9.9999997e-05],\n",
      "        [-4.8540598e-03, -1.0575134e-02,  3.1382616e-03, ...,\n",
      "         -9.5142229e-03, -1.1406561e-02,  5.0001001e+00],\n",
      "        ...,\n",
      "        [-2.3366343e-03, -3.0525860e-03, -3.1598576e-03, ...,\n",
      "          9.5383683e-03, -7.4640070e-03,  1.5000100e+01],\n",
      "        [-5.0325971e-04, -2.0807318e-03,  4.9782102e-04, ...,\n",
      "         -3.4711361e-03, -2.8580311e-03,  9.9999997e-05],\n",
      "        [-1.3945958e-02, -2.8969737e-02,  9.8648630e-03, ...,\n",
      "         -5.8540560e-02, -2.5534026e-02,  7.0001001e+00]],\n",
      "\n",
      "       [[-1.1744476e-03, -4.8288304e-04,  1.8691436e-03, ...,\n",
      "         -9.0166397e-04,  8.5178716e-04,  9.9999997e-05],\n",
      "        [-4.8753180e-02,  7.3971592e-02,  4.2849403e-02, ...,\n",
      "         -4.0938240e-02,  3.7690789e-02,  4.0001001e+00],\n",
      "        [-2.1808213e-03, -1.9924638e-03,  7.6275752e-03, ...,\n",
      "         -1.2851307e-02,  7.1431538e-03,  5.0001001e+00],\n",
      "        ...,\n",
      "        [-4.9616482e-02, -9.3965106e-02, -6.0398569e-03, ...,\n",
      "         -3.4776613e-02, -5.4715392e-03,  1.0000100e+01],\n",
      "        [-2.3591824e-02,  3.3120021e-02,  3.6725763e-02, ...,\n",
      "          1.1753321e-02,  6.0657840e-02,  4.0001001e+00],\n",
      "        [-1.5646987e-02, -3.7618144e-03, -9.3150716e-03, ...,\n",
      "          3.8745284e-02, -3.2415725e-02,  4.0001001e+00]],\n",
      "\n",
      "       ...,\n",
      "\n",
      "       [[-3.5179514e-02, -7.0250579e-03, -6.2503919e-02, ...,\n",
      "          2.0535531e-02, -6.3271415e-03,  4.0001001e+00],\n",
      "        [-8.1868414e-03, -7.4830535e-03, -1.8784197e-02, ...,\n",
      "          2.1930220e-02,  7.0294342e-03,  7.0001001e+00],\n",
      "        [-3.4675647e-02,  5.4224987e-02,  2.3329450e-02, ...,\n",
      "         -5.6085251e-03, -2.2216719e-02,  9.9999997e-05],\n",
      "        ...,\n",
      "        [-5.2011866e-02,  3.1834181e-02, -3.3451084e-02, ...,\n",
      "         -3.0711358e-02,  2.3628207e-02,  2.0000999e+00],\n",
      "        [-3.6089511e-03, -1.4652982e-02,  2.0782968e-02, ...,\n",
      "         -2.4089646e-02,  7.4237578e-05,  4.0001001e+00],\n",
      "        [-8.6219395e-03, -4.0808055e-03, -2.1212867e-02, ...,\n",
      "          6.0134628e-03, -1.6993897e-03,  7.0001001e+00]],\n",
      "\n",
      "       [[-2.1655174e-02,  8.3310837e-03, -2.8729429e-03, ...,\n",
      "          3.6041804e-02, -3.5305727e-02,  9.9999997e-05],\n",
      "        [-2.8352339e-03,  1.5026956e-03,  2.1770224e-03, ...,\n",
      "         -5.3913915e-03,  1.0467486e-02,  7.0001001e+00],\n",
      "        [-1.7595256e-03, -7.0363173e-04, -5.1191109e-03, ...,\n",
      "          1.7313169e-02, -8.1241867e-03,  4.0001001e+00],\n",
      "        ...,\n",
      "        [-2.8627031e-04, -7.3958293e-04,  3.9891800e-04, ...,\n",
      "          1.8688828e-03, -4.1101929e-03,  7.0001001e+00],\n",
      "        [-3.5875145e-02,  4.0308449e-02,  3.9330699e-02, ...,\n",
      "          3.9804272e-02, -3.5540462e-02,  9.9999997e-05],\n",
      "        [-1.0581609e-03, -1.0627919e-03, -1.0638494e-03, ...,\n",
      "          6.3763778e-03,  2.4798210e-04,  5.0001001e+00]],\n",
      "\n",
      "       [[-1.8906973e-02,  2.5673550e-02, -1.6425739e-03, ...,\n",
      "         -3.5373196e-02,  1.1338829e-02,  4.0001001e+00],\n",
      "        [-3.8360422e-03, -4.6306022e-04,  8.4426609e-04, ...,\n",
      "          7.5306016e-04,  5.4069418e-03,  7.0001001e+00],\n",
      "        [-1.8676575e-02,  2.7582985e-03, -2.8314555e-02, ...,\n",
      "          4.7414612e-02, -1.4669755e-04,  1.0001000e+00],\n",
      "        ...,\n",
      "        [-3.9188322e-03, -1.0148673e-02, -5.4370621e-03, ...,\n",
      "         -3.7896069e-04, -2.2435727e-02,  4.0001001e+00],\n",
      "        [-6.9248299e-03, -2.9503610e-03, -1.0926464e-02, ...,\n",
      "         -1.6015832e-03, -5.9629390e-03,  9.9999997e-05],\n",
      "        [-2.7650319e-02,  9.2610223e-03, -4.6430491e-02, ...,\n",
      "         -8.9007095e-03, -1.0102519e-02,  4.0001001e+00]]], dtype=float32)>}\n",
      "\n",
      "Rewards after taking an action:  tf.Tensor(\n",
      "[-0.07835436  0.04328331 -0.00462331  0.02372383  0.65174997 -0.07983837\n",
      "  0.71407974  0.05985877], shape=(8,), dtype=float32)\n"
     ]
    }
   ],
   "source": [
    "print('observation spec: ', environment.observation_spec())\n",
    "print('\\nAn observation: ', environment.reset().observation)\n",
    "\n",
    "action = tf.zeros(BATCH_SIZE, dtype=tf.int32)\n",
    "time_step = environment.step(action)\n",
    "print('\\nRewards after taking an action: ', time_step.reward)"
   ]
  },
  {
   "cell_type": "markdown",
   "id": "a2105b5f-1d7d-448e-a222-b117288444e5",
   "metadata": {},
   "source": [
    "### Define RL agent/algorithm"
   ]
  },
  {
   "cell_type": "code",
   "execution_count": 24,
   "id": "b1c47fc2-0add-4b89-a097-d50e791681b8",
   "metadata": {},
   "outputs": [
    {
     "data": {
      "text/plain": [
       "{'global': TensorSpec(shape=(22,), dtype=tf.float32, name=None),\n",
       " 'per_arm': TensorSpec(shape=(20, 21), dtype=tf.float32, name=None)}"
      ]
     },
     "execution_count": 24,
     "metadata": {},
     "output_type": "execute_result"
    }
   ],
   "source": [
    "observation_spec = environment.observation_spec()\n",
    "observation_spec"
   ]
  },
  {
   "cell_type": "code",
   "execution_count": 27,
   "id": "4a7076a3-c212-4834-a9c2-44a7d02b56d8",
   "metadata": {},
   "outputs": [
    {
     "data": {
      "text/plain": [
       "TimeStep(\n",
       "{'discount': BoundedTensorSpec(shape=(), dtype=tf.float32, name='discount', minimum=array(0., dtype=float32), maximum=array(1., dtype=float32)),\n",
       " 'observation': {'global': TensorSpec(shape=(22,), dtype=tf.float32, name=None),\n",
       "                 'per_arm': TensorSpec(shape=(20, 21), dtype=tf.float32, name=None)},\n",
       " 'reward': TensorSpec(shape=(), dtype=tf.float32, name='reward'),\n",
       " 'step_type': TensorSpec(shape=(), dtype=tf.int32, name='step_type')})"
      ]
     },
     "execution_count": 27,
     "metadata": {},
     "output_type": "execute_result"
    }
   ],
   "source": [
    "time_step_spec = ts.time_step_spec(observation_spec)\n",
    "time_step_spec"
   ]
  },
  {
   "cell_type": "code",
   "execution_count": 30,
   "id": "2a41b9c3-6f7b-45d9-83cd-ad719eeff65c",
   "metadata": {},
   "outputs": [
    {
     "data": {
      "text/plain": [
       "BoundedTensorSpec(shape=(), dtype=tf.int32, name=None, minimum=array(0, dtype=int32), maximum=array(19, dtype=int32))"
      ]
     },
     "execution_count": 30,
     "metadata": {},
     "output_type": "execute_result"
    }
   ],
   "source": [
    "action_spec = tensor_spec.BoundedTensorSpec(\n",
    "    dtype=tf.int32, shape=(), minimum=0, maximum=NUM_ACTIONS - 1)\n",
    "\n",
    "action_spec"
   ]
  },
  {
   "cell_type": "code",
   "execution_count": 32,
   "id": "ddb82b68-49fe-48d5-a3a2-27a2fc9c88bc",
   "metadata": {},
   "outputs": [],
   "source": [
    "# agent = lin_ucb_agent.LinearUCBAgent(\n",
    "#     time_step_spec = environment.time_step_spec()\n",
    "#     , action_spec = environment.action_spec()\n",
    "#     , tikhonov_weight = TIKHONOV_WEIGHT\n",
    "#     , alpha = AGENT_ALPHA\n",
    "#     , dtype = tf.float32\n",
    "#     , accepts_per_arm_features = PER_ARM\n",
    "# )\n",
    "\n",
    "agent = lin_ucb_agent.LinearUCBAgent(\n",
    "    time_step_spec=time_step_spec,\n",
    "    action_spec=action_spec,\n",
    "    accepts_per_arm_features=True\n",
    ")"
   ]
  },
  {
   "cell_type": "code",
   "execution_count": 33,
   "id": "26004a4f-0a8a-430f-a1b3-b1bfbc074af9",
   "metadata": {},
   "outputs": [
    {
     "name": "stdout",
     "output_type": "stream",
     "text": [
      "TimeStep Spec (for each batch):\n",
      " TimeStep(\n",
      "{'discount': BoundedTensorSpec(shape=(), dtype=tf.float32, name='discount', minimum=array(0., dtype=float32), maximum=array(1., dtype=float32)),\n",
      " 'observation': DictWrapper({'global': TensorSpec(shape=(22,), dtype=tf.float32, name=None), 'per_arm': TensorSpec(shape=(20, 21), dtype=tf.float32, name=None)}),\n",
      " 'reward': TensorSpec(shape=(), dtype=tf.float32, name='reward'),\n",
      " 'step_type': TensorSpec(shape=(), dtype=tf.int32, name='step_type')}) \n",
      "\n"
     ]
    }
   ],
   "source": [
    "print(\"TimeStep Spec (for each batch):\\n\", agent.time_step_spec, \"\\n\")"
   ]
  },
  {
   "cell_type": "code",
   "execution_count": 34,
   "id": "8929f91a-bdc9-4923-ae47-16f39665d34e",
   "metadata": {},
   "outputs": [
    {
     "name": "stdout",
     "output_type": "stream",
     "text": [
      "Action Spec (for each batch)  :\n",
      " BoundedTensorSpec(shape=(), dtype=tf.int32, name=None, minimum=array(0, dtype=int32), maximum=array(19, dtype=int32)) \n",
      "\n"
     ]
    }
   ],
   "source": [
    "print(\"Action Spec (for each batch)  :\\n\", agent.action_spec, \"\\n\")"
   ]
  },
  {
   "cell_type": "code",
   "execution_count": 35,
   "id": "99e962b5-99b9-4ecc-a3c0-d66bad8002d5",
   "metadata": {},
   "outputs": [
    {
     "name": "stdout",
     "output_type": "stream",
     "text": [
      "Reward Spec (for each batch)  :\n",
      " TensorSpec(shape=(), dtype=tf.float32, name='reward') \n",
      "\n"
     ]
    }
   ],
   "source": [
    "print(\"Reward Spec (for each batch)  :\\n\", environment.reward_spec(), \"\\n\")"
   ]
  },
  {
   "cell_type": "code",
   "execution_count": 36,
   "id": "7f3eb808-2cd8-4617-8592-1aaaf88d3ad1",
   "metadata": {},
   "outputs": [
    {
     "name": "stdout",
     "output_type": "stream",
     "text": [
      "training data spec:  Trajectory(\n",
      "{'action': BoundedTensorSpec(shape=(), dtype=tf.int32, name=None, minimum=array(0, dtype=int32), maximum=array(19, dtype=int32)),\n",
      " 'discount': BoundedTensorSpec(shape=(), dtype=tf.float32, name='discount', minimum=array(0., dtype=float32), maximum=array(1., dtype=float32)),\n",
      " 'next_step_type': TensorSpec(shape=(), dtype=tf.int32, name='step_type'),\n",
      " 'observation': DictWrapper({'global': TensorSpec(shape=(22,), dtype=tf.float32, name=None)}),\n",
      " 'policy_info': PerArmPolicyInfo(log_probability=(), predicted_rewards_mean=(), multiobjective_scalarized_predicted_rewards_mean=(), predicted_rewards_optimistic=(), predicted_rewards_sampled=(), bandit_policy_type=(), chosen_arm_features=TensorSpec(shape=(21,), dtype=tf.float32, name=None)),\n",
      " 'reward': TensorSpec(shape=(), dtype=tf.float32, name='reward'),\n",
      " 'step_type': TensorSpec(shape=(), dtype=tf.int32, name='step_type')})\n"
     ]
    }
   ],
   "source": [
    "print('training data spec: ', agent.training_data_spec)"
   ]
  },
  {
   "cell_type": "code",
   "execution_count": 37,
   "id": "6314d2d5-a166-4693-8dbe-2d346ad41ced",
   "metadata": {},
   "outputs": [
    {
     "name": "stdout",
     "output_type": "stream",
     "text": [
      "observation spec in training:  {'global': TensorSpec(shape=(22,), dtype=tf.float32, name=None)}\n"
     ]
    }
   ],
   "source": [
    "print('observation spec in training: ', agent.training_data_spec.observation)"
   ]
  },
  {
   "cell_type": "code",
   "execution_count": 38,
   "id": "2a2dd771-4bc9-45e4-8b54-b30efd3256b9",
   "metadata": {},
   "outputs": [
    {
     "name": "stdout",
     "output_type": "stream",
     "text": [
      "chosen arm features:  TensorSpec(shape=(21,), dtype=tf.float32, name=None)\n"
     ]
    }
   ],
   "source": [
    "print('chosen arm features: ', agent.training_data_spec.policy_info.chosen_arm_features)"
   ]
  },
  {
   "cell_type": "markdown",
   "id": "6df5785f-66f8-45f8-aa03-58cf3a117d64",
   "metadata": {},
   "source": [
    "### Define RL metric"
   ]
  },
  {
   "cell_type": "markdown",
   "id": "0fdc7f42-13cd-4e7a-9220-934166fcd9ef",
   "metadata": {},
   "source": [
    "Bandits' most important metric is **regret**, calculated as the difference between the reward collected by the agent and the expected reward of an oracle policy that has access to the reward functions of the environment. The [RegretMetric](https://github.com/tensorflow/agents/blob/master/tf_agents/bandits/metrics/tf_metrics.py) thus needs a `baseline_reward_fn` function that calculates the best achievable expected reward given an observation. For our example, we need to take the maximum of the no-noise equivalents of the reward functions that we already defined for the environment."
   ]
  },
  {
   "cell_type": "code",
   "execution_count": 39,
   "id": "8680c971-1b81-439f-877d-1893f4a8a158",
   "metadata": {},
   "outputs": [],
   "source": [
    "# optimal_reward_fn = functools.partial(\n",
    "#     environment_utilities.compute_optimal_reward_with_movielens_environment\n",
    "#     , environment=environment\n",
    "# )\n",
    "\n",
    "# regret_metric = tf_bandit_metrics.RegretMetric(optimal_reward_fn)\n",
    "\n",
    "# metrics = [regret_metric]\n",
    "\n",
    "\n",
    "def _all_rewards(observation, hidden_param):\n",
    "    \"\"\"Outputs rewards for all actions, given an observation.\"\"\"\n",
    "    hidden_param = tf.cast(hidden_param, dtype=tf.float32)\n",
    "    global_obs = observation['global']\n",
    "    per_arm_obs = observation['per_arm']\n",
    "    num_actions = tf.shape(per_arm_obs)[1]\n",
    "    tiled_global = tf.tile(\n",
    "        tf.expand_dims(global_obs, axis=1), [1, num_actions, 1])\n",
    "    concatenated = tf.concat([tiled_global, per_arm_obs], axis=-1)\n",
    "    rewards = tf.linalg.matvec(concatenated, hidden_param)\n",
    "    return rewards\n",
    "\n",
    "def optimal_reward(observation):\n",
    "    \"\"\"Outputs the maximum expected reward for every element in the batch.\"\"\"\n",
    "    return tf.reduce_max(_all_rewards(observation, reward_param), axis=1)\n",
    "\n",
    "regret_metric = tf_bandit_metrics.RegretMetric(optimal_reward)"
   ]
  },
  {
   "cell_type": "code",
   "execution_count": 40,
   "id": "cd128d9e-1274-488c-8431-cb96f77c9b1d",
   "metadata": {},
   "outputs": [
    {
     "data": {
      "text/plain": [
       "<tf_agents.bandits.metrics.tf_metrics.RegretMetric at 0x7f0f8064fa00>"
      ]
     },
     "execution_count": 40,
     "metadata": {},
     "output_type": "execute_result"
    }
   ],
   "source": [
    "regret_metric"
   ]
  },
  {
   "cell_type": "markdown",
   "id": "5195e0ff-6a36-4cb8-b170-fb0c8910660a",
   "metadata": {},
   "source": [
    "## Train (locally)"
   ]
  },
  {
   "cell_type": "markdown",
   "id": "765c72aa-73fc-4900-9a5b-c9e831cfd922",
   "metadata": {},
   "source": [
    "A **policy** in a bandit problem works the same way as in an RL problem: it provides an action (or a distribution of actions), given an observation as input.\n",
    "* For more details, see the [TF-Agents Policy tutorial](https://github.com/tensorflow/agents/blob/master/docs/tutorials/3_policies_tutorial.ipynb).\n",
    "* As with environments, there are two ways to construct a policy: One can create a `PyPolicy` and wrap it with `TFPyPolicy`, or directly create a `TFPolicy`\n",
    "\n",
    "**Replay buffers**\n",
    "* Reinforcement learning algorithms use `replay buffers` to store trajectories of experience when executing a policy in an environment. * During training, replay buffers are queried for a subset of the trajectories (either a sequential subset or a sample) to \"replay\" the agent's experience."
   ]
  },
  {
   "cell_type": "markdown",
   "id": "db72a780-63b6-4eb7-a274-3d9e357fdf85",
   "metadata": {},
   "source": [
    "### Define the training logic (on-policy training)"
   ]
  },
  {
   "cell_type": "markdown",
   "id": "d9523045-4f43-4a67-83a6-275aa3118e31",
   "metadata": {},
   "source": [
    "> The following function is the same as [trainer.train](https://github.com/tensorflow/agents/blob/master/tf_agents/bandits/agents/examples/v2/trainer.py#L130), but it keeps track of intermediate metric values and saves different artifacts to different locations. You can also directly invoke [trainer.train](https://github.com/tensorflow/agents/blob/master/tf_agents/bandits/agents/examples/v2/trainer.py#L130) which also trains the policy."
   ]
  },
  {
   "cell_type": "code",
   "execution_count": 41,
   "id": "1d1d82ff-4cc4-4207-a0e6-a60b13b872f4",
   "metadata": {},
   "outputs": [],
   "source": [
    "num_iterations = 20 # @param\n",
    "steps_per_loop = 1 # @param"
   ]
  },
  {
   "cell_type": "code",
   "execution_count": 43,
   "id": "e1af4fc9-6e2d-4cf3-bf10-36c0de0fd17c",
   "metadata": {},
   "outputs": [
    {
     "data": {
      "text/plain": [
       "<tf_agents.replay_buffers.tf_uniform_replay_buffer.TFUniformReplayBuffer at 0x7f0f981d0f10>"
      ]
     },
     "execution_count": 43,
     "metadata": {},
     "output_type": "execute_result"
    }
   ],
   "source": [
    "from tf_agents.replay_buffers import tf_uniform_replay_buffer\n",
    "\n",
    "replay_buffer = tf_uniform_replay_buffer.TFUniformReplayBuffer(\n",
    "    data_spec=agent.policy.trajectory_spec,\n",
    "    batch_size=BATCH_SIZE,\n",
    "    max_length=steps_per_loop)\n",
    "replay_buffer"
   ]
  },
  {
   "cell_type": "code",
   "execution_count": 45,
   "id": "8ae4da42-2a32-42a9-8368-b46a7fc5486f",
   "metadata": {},
   "outputs": [
    {
     "data": {
      "text/plain": [
       "[<bound method ReplayBuffer.add_batch of <tf_agents.replay_buffers.tf_uniform_replay_buffer.TFUniformReplayBuffer object at 0x7f0f981d0f10>>,\n",
       " <tf_agents.bandits.metrics.tf_metrics.RegretMetric at 0x7f0f8064fa00>]"
      ]
     },
     "execution_count": 45,
     "metadata": {},
     "output_type": "execute_result"
    }
   ],
   "source": [
    "observers = [replay_buffer.add_batch, regret_metric]\n",
    "observers"
   ]
  },
  {
   "cell_type": "code",
   "execution_count": 47,
   "id": "38b96f0f-bfce-4484-a185-dd6908ece2e7",
   "metadata": {},
   "outputs": [
    {
     "data": {
      "text/plain": [
       "<tf_agents.drivers.dynamic_step_driver.DynamicStepDriver at 0x7f0f8064e290>"
      ]
     },
     "execution_count": 47,
     "metadata": {},
     "output_type": "execute_result"
    }
   ],
   "source": [
    "driver = dynamic_step_driver.DynamicStepDriver(\n",
    "    env=environment,\n",
    "    policy=agent.collect_policy,\n",
    "    num_steps=steps_per_loop * BATCH_SIZE,\n",
    "    observers=observers)\n",
    "\n",
    "driver"
   ]
  },
  {
   "cell_type": "code",
   "execution_count": 48,
   "id": "3709b606-e09f-46ac-84b5-bbba3ff16f4d",
   "metadata": {},
   "outputs": [
    {
     "name": "stderr",
     "output_type": "stream",
     "text": [
      "/home/jupyter/.local/lib/python3.10/site-packages/tf_agents/utils/common.py:1443: SyntaxWarning: \"is not\" with a literal. Did you mean \"!=\"?\n",
      "  return state is not None and state is not () and state is not []\n",
      "/home/jupyter/.local/lib/python3.10/site-packages/tf_agents/utils/common.py:1443: SyntaxWarning: \"is not\" with a literal. Did you mean \"!=\"?\n",
      "  return state is not None and state is not () and state is not []\n"
     ]
    },
    {
     "ename": "NameError",
     "evalue": "name 'reward_param' is not defined",
     "output_type": "error",
     "traceback": [
      "\u001b[0;31m---------------------------------------------------------------------------\u001b[0m",
      "\u001b[0;31mNameError\u001b[0m                                 Traceback (most recent call last)",
      "Cell \u001b[0;32mIn[48], line 4\u001b[0m\n\u001b[1;32m      1\u001b[0m regret_values \u001b[38;5;241m=\u001b[39m []\n\u001b[1;32m      3\u001b[0m \u001b[38;5;28;01mfor\u001b[39;00m _ \u001b[38;5;129;01min\u001b[39;00m \u001b[38;5;28mrange\u001b[39m(num_iterations):\n\u001b[0;32m----> 4\u001b[0m     \u001b[43mdriver\u001b[49m\u001b[38;5;241;43m.\u001b[39;49m\u001b[43mrun\u001b[49m\u001b[43m(\u001b[49m\u001b[43m)\u001b[49m\n\u001b[1;32m      5\u001b[0m     loss_info \u001b[38;5;241m=\u001b[39m agent\u001b[38;5;241m.\u001b[39mtrain(replay_buffer\u001b[38;5;241m.\u001b[39mgather_all())\n\u001b[1;32m      6\u001b[0m     replay_buffer\u001b[38;5;241m.\u001b[39mclear()\n",
      "File \u001b[0;32m~/.local/lib/python3.10/site-packages/tf_agents/drivers/dynamic_step_driver.py:182\u001b[0m, in \u001b[0;36mDynamicStepDriver.run\u001b[0;34m(self, time_step, policy_state, maximum_iterations)\u001b[0m\n\u001b[1;32m    165\u001b[0m \u001b[38;5;28;01mdef\u001b[39;00m \u001b[38;5;21mrun\u001b[39m(\u001b[38;5;28mself\u001b[39m, time_step\u001b[38;5;241m=\u001b[39m\u001b[38;5;28;01mNone\u001b[39;00m, policy_state\u001b[38;5;241m=\u001b[39m\u001b[38;5;28;01mNone\u001b[39;00m, maximum_iterations\u001b[38;5;241m=\u001b[39m\u001b[38;5;28;01mNone\u001b[39;00m):\n\u001b[1;32m    166\u001b[0m \u001b[38;5;250m  \u001b[39m\u001b[38;5;124;03m\"\"\"Takes steps in the environment using the policy while updating observers.\u001b[39;00m\n\u001b[1;32m    167\u001b[0m \n\u001b[1;32m    168\u001b[0m \u001b[38;5;124;03m  Args:\u001b[39;00m\n\u001b[0;32m   (...)\u001b[0m\n\u001b[1;32m    180\u001b[0m \u001b[38;5;124;03m    policy_state: Tensor with final step policy state.\u001b[39;00m\n\u001b[1;32m    181\u001b[0m \u001b[38;5;124;03m  \"\"\"\u001b[39;00m\n\u001b[0;32m--> 182\u001b[0m   \u001b[38;5;28;01mreturn\u001b[39;00m \u001b[38;5;28;43mself\u001b[39;49m\u001b[38;5;241;43m.\u001b[39;49m\u001b[43m_run_fn\u001b[49m\u001b[43m(\u001b[49m\n\u001b[1;32m    183\u001b[0m \u001b[43m      \u001b[49m\u001b[43mtime_step\u001b[49m\u001b[38;5;241;43m=\u001b[39;49m\u001b[43mtime_step\u001b[49m\u001b[43m,\u001b[49m\n\u001b[1;32m    184\u001b[0m \u001b[43m      \u001b[49m\u001b[43mpolicy_state\u001b[49m\u001b[38;5;241;43m=\u001b[39;49m\u001b[43mpolicy_state\u001b[49m\u001b[43m,\u001b[49m\n\u001b[1;32m    185\u001b[0m \u001b[43m      \u001b[49m\u001b[43mmaximum_iterations\u001b[49m\u001b[38;5;241;43m=\u001b[39;49m\u001b[43mmaximum_iterations\u001b[49m\u001b[43m)\u001b[49m\n",
      "File \u001b[0;32m~/.local/lib/python3.10/site-packages/tf_agents/utils/common.py:188\u001b[0m, in \u001b[0;36mfunction_in_tf1.<locals>.maybe_wrap.<locals>.with_check_resource_vars\u001b[0;34m(*fn_args, **fn_kwargs)\u001b[0m\n\u001b[1;32m    184\u001b[0m check_tf1_allowed()\n\u001b[1;32m    185\u001b[0m \u001b[38;5;28;01mif\u001b[39;00m has_eager_been_enabled():\n\u001b[1;32m    186\u001b[0m   \u001b[38;5;66;03m# We're either in eager mode or in tf.function mode (no in-between); so\u001b[39;00m\n\u001b[1;32m    187\u001b[0m   \u001b[38;5;66;03m# autodep-like behavior is already expected of fn.\u001b[39;00m\n\u001b[0;32m--> 188\u001b[0m   \u001b[38;5;28;01mreturn\u001b[39;00m \u001b[43mfn\u001b[49m\u001b[43m(\u001b[49m\u001b[38;5;241;43m*\u001b[39;49m\u001b[43mfn_args\u001b[49m\u001b[43m,\u001b[49m\u001b[43m \u001b[49m\u001b[38;5;241;43m*\u001b[39;49m\u001b[38;5;241;43m*\u001b[39;49m\u001b[43mfn_kwargs\u001b[49m\u001b[43m)\u001b[49m\n\u001b[1;32m    189\u001b[0m \u001b[38;5;28;01mif\u001b[39;00m \u001b[38;5;129;01mnot\u001b[39;00m resource_variables_enabled():\n\u001b[1;32m    190\u001b[0m   \u001b[38;5;28;01mraise\u001b[39;00m \u001b[38;5;167;01mRuntimeError\u001b[39;00m(MISSING_RESOURCE_VARIABLES_ERROR)\n",
      "File \u001b[0;32m~/.local/lib/python3.10/site-packages/tf_agents/drivers/dynamic_step_driver.py:202\u001b[0m, in \u001b[0;36mDynamicStepDriver._run\u001b[0;34m(self, time_step, policy_state, maximum_iterations)\u001b[0m\n\u001b[1;32m    196\u001b[0m batch_dims \u001b[38;5;241m=\u001b[39m nest_utils\u001b[38;5;241m.\u001b[39mget_outer_shape(time_step,\n\u001b[1;32m    197\u001b[0m                                         \u001b[38;5;28mself\u001b[39m\u001b[38;5;241m.\u001b[39menv\u001b[38;5;241m.\u001b[39mtime_step_spec())\n\u001b[1;32m    198\u001b[0m counter \u001b[38;5;241m=\u001b[39m tf\u001b[38;5;241m.\u001b[39mzeros(batch_dims, tf\u001b[38;5;241m.\u001b[39mint32)\n\u001b[1;32m    200\u001b[0m [_, time_step, policy_state] \u001b[38;5;241m=\u001b[39m tf\u001b[38;5;241m.\u001b[39mnest\u001b[38;5;241m.\u001b[39mmap_structure(\n\u001b[1;32m    201\u001b[0m     tf\u001b[38;5;241m.\u001b[39mstop_gradient,\n\u001b[0;32m--> 202\u001b[0m     \u001b[43mtf\u001b[49m\u001b[38;5;241;43m.\u001b[39;49m\u001b[43mwhile_loop\u001b[49m\u001b[43m(\u001b[49m\n\u001b[1;32m    203\u001b[0m \u001b[43m        \u001b[49m\u001b[43mcond\u001b[49m\u001b[38;5;241;43m=\u001b[39;49m\u001b[38;5;28;43mself\u001b[39;49m\u001b[38;5;241;43m.\u001b[39;49m\u001b[43m_loop_condition_fn\u001b[49m\u001b[43m(\u001b[49m\u001b[43m)\u001b[49m\u001b[43m,\u001b[49m\n\u001b[1;32m    204\u001b[0m \u001b[43m        \u001b[49m\u001b[43mbody\u001b[49m\u001b[38;5;241;43m=\u001b[39;49m\u001b[38;5;28;43mself\u001b[39;49m\u001b[38;5;241;43m.\u001b[39;49m\u001b[43m_loop_body_fn\u001b[49m\u001b[43m(\u001b[49m\u001b[43m)\u001b[49m\u001b[43m,\u001b[49m\n\u001b[1;32m    205\u001b[0m \u001b[43m        \u001b[49m\u001b[43mloop_vars\u001b[49m\u001b[38;5;241;43m=\u001b[39;49m\u001b[43m[\u001b[49m\u001b[43mcounter\u001b[49m\u001b[43m,\u001b[49m\u001b[43m \u001b[49m\u001b[43mtime_step\u001b[49m\u001b[43m,\u001b[49m\u001b[43m \u001b[49m\u001b[43mpolicy_state\u001b[49m\u001b[43m]\u001b[49m\u001b[43m,\u001b[49m\n\u001b[1;32m    206\u001b[0m \u001b[43m        \u001b[49m\u001b[43mparallel_iterations\u001b[49m\u001b[38;5;241;43m=\u001b[39;49m\u001b[38;5;241;43m1\u001b[39;49m\u001b[43m,\u001b[49m\n\u001b[1;32m    207\u001b[0m \u001b[43m        \u001b[49m\u001b[43mmaximum_iterations\u001b[49m\u001b[38;5;241;43m=\u001b[39;49m\u001b[43mmaximum_iterations\u001b[49m\u001b[43m,\u001b[49m\n\u001b[1;32m    208\u001b[0m \u001b[43m        \u001b[49m\u001b[43mname\u001b[49m\u001b[38;5;241;43m=\u001b[39;49m\u001b[38;5;124;43m'\u001b[39;49m\u001b[38;5;124;43mdriver_loop\u001b[39;49m\u001b[38;5;124;43m'\u001b[39;49m\u001b[43m)\u001b[49m)\n\u001b[1;32m    209\u001b[0m \u001b[38;5;28;01mreturn\u001b[39;00m time_step, policy_state\n",
      "File \u001b[0;32m~/.local/lib/python3.10/site-packages/tensorflow/python/util/deprecation.py:648\u001b[0m, in \u001b[0;36mdeprecated_arg_values.<locals>.deprecated_wrapper.<locals>.new_func\u001b[0;34m(*args, **kwargs)\u001b[0m\n\u001b[1;32m    640\u001b[0m           _PRINTED_WARNING[(func, arg_name)] \u001b[38;5;241m=\u001b[39m \u001b[38;5;28;01mTrue\u001b[39;00m\n\u001b[1;32m    641\u001b[0m         logging\u001b[38;5;241m.\u001b[39mwarning(\n\u001b[1;32m    642\u001b[0m             \u001b[38;5;124m'\u001b[39m\u001b[38;5;124mFrom \u001b[39m\u001b[38;5;132;01m%s\u001b[39;00m\u001b[38;5;124m: calling \u001b[39m\u001b[38;5;132;01m%s\u001b[39;00m\u001b[38;5;124m (from \u001b[39m\u001b[38;5;132;01m%s\u001b[39;00m\u001b[38;5;124m) with \u001b[39m\u001b[38;5;132;01m%s\u001b[39;00m\u001b[38;5;124m=\u001b[39m\u001b[38;5;132;01m%s\u001b[39;00m\u001b[38;5;124m is deprecated and \u001b[39m\u001b[38;5;124m'\u001b[39m\n\u001b[1;32m    643\u001b[0m             \u001b[38;5;124m'\u001b[39m\u001b[38;5;124mwill be removed \u001b[39m\u001b[38;5;132;01m%s\u001b[39;00m\u001b[38;5;124m.\u001b[39m\u001b[38;5;130;01m\\n\u001b[39;00m\u001b[38;5;124mInstructions for updating:\u001b[39m\u001b[38;5;130;01m\\n\u001b[39;00m\u001b[38;5;132;01m%s\u001b[39;00m\u001b[38;5;124m'\u001b[39m,\n\u001b[0;32m   (...)\u001b[0m\n\u001b[1;32m    646\u001b[0m             \u001b[38;5;124m'\u001b[39m\u001b[38;5;124min a future version\u001b[39m\u001b[38;5;124m'\u001b[39m \u001b[38;5;28;01mif\u001b[39;00m date \u001b[38;5;129;01mis\u001b[39;00m \u001b[38;5;28;01mNone\u001b[39;00m \u001b[38;5;28;01melse\u001b[39;00m\n\u001b[1;32m    647\u001b[0m             (\u001b[38;5;124m'\u001b[39m\u001b[38;5;124mafter \u001b[39m\u001b[38;5;132;01m%s\u001b[39;00m\u001b[38;5;124m'\u001b[39m \u001b[38;5;241m%\u001b[39m date), instructions)\n\u001b[0;32m--> 648\u001b[0m \u001b[38;5;28;01mreturn\u001b[39;00m \u001b[43mfunc\u001b[49m\u001b[43m(\u001b[49m\u001b[38;5;241;43m*\u001b[39;49m\u001b[43margs\u001b[49m\u001b[43m,\u001b[49m\u001b[43m \u001b[49m\u001b[38;5;241;43m*\u001b[39;49m\u001b[38;5;241;43m*\u001b[39;49m\u001b[43mkwargs\u001b[49m\u001b[43m)\u001b[49m\n",
      "File \u001b[0;32m~/.local/lib/python3.10/site-packages/tensorflow/python/ops/control_flow_ops.py:2574\u001b[0m, in \u001b[0;36mwhile_loop_v2\u001b[0;34m(cond, body, loop_vars, shape_invariants, parallel_iterations, back_prop, swap_memory, maximum_iterations, name)\u001b[0m\n\u001b[1;32m   2368\u001b[0m \u001b[38;5;129m@tf_export\u001b[39m(\u001b[38;5;124m\"\u001b[39m\u001b[38;5;124mwhile_loop\u001b[39m\u001b[38;5;124m\"\u001b[39m, v1\u001b[38;5;241m=\u001b[39m[])\n\u001b[1;32m   2369\u001b[0m \u001b[38;5;129m@deprecation\u001b[39m\u001b[38;5;241m.\u001b[39mdeprecated_arg_values(\n\u001b[1;32m   2370\u001b[0m     \u001b[38;5;28;01mNone\u001b[39;00m,\n\u001b[0;32m   (...)\u001b[0m\n\u001b[1;32m   2385\u001b[0m                   maximum_iterations\u001b[38;5;241m=\u001b[39m\u001b[38;5;28;01mNone\u001b[39;00m,\n\u001b[1;32m   2386\u001b[0m                   name\u001b[38;5;241m=\u001b[39m\u001b[38;5;28;01mNone\u001b[39;00m):\n\u001b[1;32m   2387\u001b[0m \u001b[38;5;250m  \u001b[39m\u001b[38;5;124;03m\"\"\"Repeat `body` while the condition `cond` is true.\u001b[39;00m\n\u001b[1;32m   2388\u001b[0m \n\u001b[1;32m   2389\u001b[0m \u001b[38;5;124;03m  Note: This op is automatically used in a `tf.function` to convert Python for-\u001b[39;00m\n\u001b[0;32m   (...)\u001b[0m\n\u001b[1;32m   2572\u001b[0m \n\u001b[1;32m   2573\u001b[0m \u001b[38;5;124;03m  \"\"\"\u001b[39;00m\n\u001b[0;32m-> 2574\u001b[0m   \u001b[38;5;28;01mreturn\u001b[39;00m \u001b[43mwhile_loop\u001b[49m\u001b[43m(\u001b[49m\n\u001b[1;32m   2575\u001b[0m \u001b[43m      \u001b[49m\u001b[43mcond\u001b[49m\u001b[38;5;241;43m=\u001b[39;49m\u001b[43mcond\u001b[49m\u001b[43m,\u001b[49m\n\u001b[1;32m   2576\u001b[0m \u001b[43m      \u001b[49m\u001b[43mbody\u001b[49m\u001b[38;5;241;43m=\u001b[39;49m\u001b[43mbody\u001b[49m\u001b[43m,\u001b[49m\n\u001b[1;32m   2577\u001b[0m \u001b[43m      \u001b[49m\u001b[43mloop_vars\u001b[49m\u001b[38;5;241;43m=\u001b[39;49m\u001b[43mloop_vars\u001b[49m\u001b[43m,\u001b[49m\n\u001b[1;32m   2578\u001b[0m \u001b[43m      \u001b[49m\u001b[43mshape_invariants\u001b[49m\u001b[38;5;241;43m=\u001b[39;49m\u001b[43mshape_invariants\u001b[49m\u001b[43m,\u001b[49m\n\u001b[1;32m   2579\u001b[0m \u001b[43m      \u001b[49m\u001b[43mparallel_iterations\u001b[49m\u001b[38;5;241;43m=\u001b[39;49m\u001b[43mparallel_iterations\u001b[49m\u001b[43m,\u001b[49m\n\u001b[1;32m   2580\u001b[0m \u001b[43m      \u001b[49m\u001b[43mback_prop\u001b[49m\u001b[38;5;241;43m=\u001b[39;49m\u001b[43mback_prop\u001b[49m\u001b[43m,\u001b[49m\n\u001b[1;32m   2581\u001b[0m \u001b[43m      \u001b[49m\u001b[43mswap_memory\u001b[49m\u001b[38;5;241;43m=\u001b[39;49m\u001b[43mswap_memory\u001b[49m\u001b[43m,\u001b[49m\n\u001b[1;32m   2582\u001b[0m \u001b[43m      \u001b[49m\u001b[43mname\u001b[49m\u001b[38;5;241;43m=\u001b[39;49m\u001b[43mname\u001b[49m\u001b[43m,\u001b[49m\n\u001b[1;32m   2583\u001b[0m \u001b[43m      \u001b[49m\u001b[43mmaximum_iterations\u001b[49m\u001b[38;5;241;43m=\u001b[39;49m\u001b[43mmaximum_iterations\u001b[49m\u001b[43m,\u001b[49m\n\u001b[1;32m   2584\u001b[0m \u001b[43m      \u001b[49m\u001b[43mreturn_same_structure\u001b[49m\u001b[38;5;241;43m=\u001b[39;49m\u001b[38;5;28;43;01mTrue\u001b[39;49;00m\u001b[43m)\u001b[49m\n",
      "File \u001b[0;32m~/.local/lib/python3.10/site-packages/tensorflow/python/ops/control_flow_ops.py:2823\u001b[0m, in \u001b[0;36mwhile_loop\u001b[0;34m(cond, body, loop_vars, shape_invariants, parallel_iterations, back_prop, swap_memory, name, maximum_iterations, return_same_structure)\u001b[0m\n\u001b[1;32m   2820\u001b[0m loop_var_structure \u001b[38;5;241m=\u001b[39m nest\u001b[38;5;241m.\u001b[39mmap_structure(type_spec\u001b[38;5;241m.\u001b[39mtype_spec_from_value,\n\u001b[1;32m   2821\u001b[0m                                         \u001b[38;5;28mlist\u001b[39m(loop_vars))\n\u001b[1;32m   2822\u001b[0m \u001b[38;5;28;01mwhile\u001b[39;00m cond(\u001b[38;5;241m*\u001b[39mloop_vars):\n\u001b[0;32m-> 2823\u001b[0m   loop_vars \u001b[38;5;241m=\u001b[39m \u001b[43mbody\u001b[49m\u001b[43m(\u001b[49m\u001b[38;5;241;43m*\u001b[39;49m\u001b[43mloop_vars\u001b[49m\u001b[43m)\u001b[49m\n\u001b[1;32m   2824\u001b[0m   \u001b[38;5;28;01mif\u001b[39;00m try_to_pack \u001b[38;5;129;01mand\u001b[39;00m \u001b[38;5;129;01mnot\u001b[39;00m \u001b[38;5;28misinstance\u001b[39m(loop_vars, (\u001b[38;5;28mlist\u001b[39m, _basetuple)):\n\u001b[1;32m   2825\u001b[0m     packed \u001b[38;5;241m=\u001b[39m \u001b[38;5;28;01mTrue\u001b[39;00m\n",
      "File \u001b[0;32m~/.local/lib/python3.10/site-packages/tf_agents/drivers/dynamic_step_driver.py:148\u001b[0m, in \u001b[0;36mDynamicStepDriver._loop_body_fn.<locals>.loop_body\u001b[0;34m(counter, time_step, policy_state)\u001b[0m\n\u001b[1;32m    144\u001b[0m   time_step \u001b[38;5;241m=\u001b[39m time_step\u001b[38;5;241m.\u001b[39m_replace(\n\u001b[1;32m    145\u001b[0m       step_type\u001b[38;5;241m=\u001b[39mtf\u001b[38;5;241m.\u001b[39mfill(batch_size, ts\u001b[38;5;241m.\u001b[39mStepType\u001b[38;5;241m.\u001b[39mFIRST))\n\u001b[1;32m    147\u001b[0m traj \u001b[38;5;241m=\u001b[39m trajectory\u001b[38;5;241m.\u001b[39mfrom_transition(time_step, action_step, next_time_step)\n\u001b[0;32m--> 148\u001b[0m observer_ops \u001b[38;5;241m=\u001b[39m [observer(traj) \u001b[38;5;28;01mfor\u001b[39;00m observer \u001b[38;5;129;01min\u001b[39;00m \u001b[38;5;28mself\u001b[39m\u001b[38;5;241m.\u001b[39m_observers]\n\u001b[1;32m    149\u001b[0m transition_observer_ops \u001b[38;5;241m=\u001b[39m [\n\u001b[1;32m    150\u001b[0m     observer((time_step, action_step, next_time_step))\n\u001b[1;32m    151\u001b[0m     \u001b[38;5;28;01mfor\u001b[39;00m observer \u001b[38;5;129;01min\u001b[39;00m \u001b[38;5;28mself\u001b[39m\u001b[38;5;241m.\u001b[39m_transition_observers\n\u001b[1;32m    152\u001b[0m ]\n\u001b[1;32m    153\u001b[0m \u001b[38;5;28;01mwith\u001b[39;00m tf\u001b[38;5;241m.\u001b[39mcontrol_dependencies(\n\u001b[1;32m    154\u001b[0m     [tf\u001b[38;5;241m.\u001b[39mgroup(observer_ops \u001b[38;5;241m+\u001b[39m transition_observer_ops)]):\n",
      "File \u001b[0;32m~/.local/lib/python3.10/site-packages/tf_agents/drivers/dynamic_step_driver.py:148\u001b[0m, in \u001b[0;36m<listcomp>\u001b[0;34m(.0)\u001b[0m\n\u001b[1;32m    144\u001b[0m   time_step \u001b[38;5;241m=\u001b[39m time_step\u001b[38;5;241m.\u001b[39m_replace(\n\u001b[1;32m    145\u001b[0m       step_type\u001b[38;5;241m=\u001b[39mtf\u001b[38;5;241m.\u001b[39mfill(batch_size, ts\u001b[38;5;241m.\u001b[39mStepType\u001b[38;5;241m.\u001b[39mFIRST))\n\u001b[1;32m    147\u001b[0m traj \u001b[38;5;241m=\u001b[39m trajectory\u001b[38;5;241m.\u001b[39mfrom_transition(time_step, action_step, next_time_step)\n\u001b[0;32m--> 148\u001b[0m observer_ops \u001b[38;5;241m=\u001b[39m [\u001b[43mobserver\u001b[49m\u001b[43m(\u001b[49m\u001b[43mtraj\u001b[49m\u001b[43m)\u001b[49m \u001b[38;5;28;01mfor\u001b[39;00m observer \u001b[38;5;129;01min\u001b[39;00m \u001b[38;5;28mself\u001b[39m\u001b[38;5;241m.\u001b[39m_observers]\n\u001b[1;32m    149\u001b[0m transition_observer_ops \u001b[38;5;241m=\u001b[39m [\n\u001b[1;32m    150\u001b[0m     observer((time_step, action_step, next_time_step))\n\u001b[1;32m    151\u001b[0m     \u001b[38;5;28;01mfor\u001b[39;00m observer \u001b[38;5;129;01min\u001b[39;00m \u001b[38;5;28mself\u001b[39m\u001b[38;5;241m.\u001b[39m_transition_observers\n\u001b[1;32m    152\u001b[0m ]\n\u001b[1;32m    153\u001b[0m \u001b[38;5;28;01mwith\u001b[39;00m tf\u001b[38;5;241m.\u001b[39mcontrol_dependencies(\n\u001b[1;32m    154\u001b[0m     [tf\u001b[38;5;241m.\u001b[39mgroup(observer_ops \u001b[38;5;241m+\u001b[39m transition_observer_ops)]):\n",
      "File \u001b[0;32m~/.local/lib/python3.10/site-packages/tf_agents/metrics/tf_metric.py:93\u001b[0m, in \u001b[0;36mTFStepMetric.__call__\u001b[0;34m(self, *args, **kwargs)\u001b[0m\n\u001b[1;32m     83\u001b[0m \u001b[38;5;28;01mdef\u001b[39;00m \u001b[38;5;21m__call__\u001b[39m(\u001b[38;5;28mself\u001b[39m, \u001b[38;5;241m*\u001b[39margs, \u001b[38;5;241m*\u001b[39m\u001b[38;5;241m*\u001b[39mkwargs):\n\u001b[1;32m     84\u001b[0m \u001b[38;5;250m  \u001b[39m\u001b[38;5;124;03m\"\"\"Returns op to execute to update this metric for these inputs.\u001b[39;00m\n\u001b[1;32m     85\u001b[0m \n\u001b[1;32m     86\u001b[0m \u001b[38;5;124;03m  Returns None if eager execution is enabled.\u001b[39;00m\n\u001b[0;32m   (...)\u001b[0m\n\u001b[1;32m     91\u001b[0m \u001b[38;5;124;03m    **kwargs: A mini-batch of inputs to the Metric, passed on to `call()`.\u001b[39;00m\n\u001b[1;32m     92\u001b[0m \u001b[38;5;124;03m  \"\"\"\u001b[39;00m\n\u001b[0;32m---> 93\u001b[0m   \u001b[38;5;28;01mreturn\u001b[39;00m \u001b[38;5;28;43mself\u001b[39;49m\u001b[38;5;241;43m.\u001b[39;49m\u001b[43m_update_state\u001b[49m\u001b[43m(\u001b[49m\u001b[38;5;241;43m*\u001b[39;49m\u001b[43margs\u001b[49m\u001b[43m,\u001b[49m\u001b[43m \u001b[49m\u001b[38;5;241;43m*\u001b[39;49m\u001b[38;5;241;43m*\u001b[39;49m\u001b[43mkwargs\u001b[49m\u001b[43m)\u001b[49m\n",
      "File \u001b[0;32m~/.local/lib/python3.10/site-packages/tensorflow/python/util/traceback_utils.py:153\u001b[0m, in \u001b[0;36mfilter_traceback.<locals>.error_handler\u001b[0;34m(*args, **kwargs)\u001b[0m\n\u001b[1;32m    151\u001b[0m \u001b[38;5;28;01mexcept\u001b[39;00m \u001b[38;5;167;01mException\u001b[39;00m \u001b[38;5;28;01mas\u001b[39;00m e:\n\u001b[1;32m    152\u001b[0m   filtered_tb \u001b[38;5;241m=\u001b[39m _process_traceback_frames(e\u001b[38;5;241m.\u001b[39m__traceback__)\n\u001b[0;32m--> 153\u001b[0m   \u001b[38;5;28;01mraise\u001b[39;00m e\u001b[38;5;241m.\u001b[39mwith_traceback(filtered_tb) \u001b[38;5;28;01mfrom\u001b[39;00m \u001b[38;5;28;01mNone\u001b[39;00m\n\u001b[1;32m    154\u001b[0m \u001b[38;5;28;01mfinally\u001b[39;00m:\n\u001b[1;32m    155\u001b[0m   \u001b[38;5;28;01mdel\u001b[39;00m filtered_tb\n",
      "File \u001b[0;32m~/.local/lib/python3.10/site-packages/tf_agents/metrics/tf_metric.py:81\u001b[0m, in \u001b[0;36mTFStepMetric._update_state\u001b[0;34m(self, *arg, **kwargs)\u001b[0m\n\u001b[1;32m     78\u001b[0m \u001b[38;5;129m@common\u001b[39m\u001b[38;5;241m.\u001b[39mfunction\n\u001b[1;32m     79\u001b[0m \u001b[38;5;28;01mdef\u001b[39;00m \u001b[38;5;21m_update_state\u001b[39m(\u001b[38;5;28mself\u001b[39m, \u001b[38;5;241m*\u001b[39marg, \u001b[38;5;241m*\u001b[39m\u001b[38;5;241m*\u001b[39mkwargs):\n\u001b[1;32m     80\u001b[0m \u001b[38;5;250m  \u001b[39m\u001b[38;5;124;03m\"\"\"A function wrapping the implementor-defined call method.\"\"\"\u001b[39;00m\n\u001b[0;32m---> 81\u001b[0m   \u001b[38;5;28;01mreturn\u001b[39;00m \u001b[38;5;28;43mself\u001b[39;49m\u001b[38;5;241;43m.\u001b[39;49m\u001b[43mcall\u001b[49m\u001b[43m(\u001b[49m\u001b[38;5;241;43m*\u001b[39;49m\u001b[43marg\u001b[49m\u001b[43m,\u001b[49m\u001b[43m \u001b[49m\u001b[38;5;241;43m*\u001b[39;49m\u001b[38;5;241;43m*\u001b[39;49m\u001b[43mkwargs\u001b[49m\u001b[43m)\u001b[49m\n",
      "File \u001b[0;32m~/.local/lib/python3.10/site-packages/tf_agents/bandits/metrics/tf_metrics.py:70\u001b[0m, in \u001b[0;36mRegretMetric.call\u001b[0;34m(self, trajectory)\u001b[0m\n\u001b[1;32m     61\u001b[0m \u001b[38;5;28;01mdef\u001b[39;00m \u001b[38;5;21mcall\u001b[39m(\u001b[38;5;28mself\u001b[39m, trajectory):\n\u001b[1;32m     62\u001b[0m \u001b[38;5;250m  \u001b[39m\u001b[38;5;124;03m\"\"\"Update the regret value.\u001b[39;00m\n\u001b[1;32m     63\u001b[0m \n\u001b[1;32m     64\u001b[0m \u001b[38;5;124;03m  Args:\u001b[39;00m\n\u001b[0;32m   (...)\u001b[0m\n\u001b[1;32m     68\u001b[0m \u001b[38;5;124;03m    The arguments, for easy chaining.\u001b[39;00m\n\u001b[1;32m     69\u001b[0m \u001b[38;5;124;03m  \"\"\"\u001b[39;00m\n\u001b[0;32m---> 70\u001b[0m   baseline_reward \u001b[38;5;241m=\u001b[39m \u001b[38;5;28;43mself\u001b[39;49m\u001b[38;5;241;43m.\u001b[39;49m\u001b[43m_baseline_reward_fn\u001b[49m\u001b[43m(\u001b[49m\u001b[43mtrajectory\u001b[49m\u001b[38;5;241;43m.\u001b[39;49m\u001b[43mobservation\u001b[49m\u001b[43m)\u001b[49m\n\u001b[1;32m     71\u001b[0m   trajectory_reward \u001b[38;5;241m=\u001b[39m trajectory\u001b[38;5;241m.\u001b[39mreward\n\u001b[1;32m     72\u001b[0m   \u001b[38;5;28;01mif\u001b[39;00m \u001b[38;5;28misinstance\u001b[39m(trajectory\u001b[38;5;241m.\u001b[39mreward, \u001b[38;5;28mdict\u001b[39m):\n",
      "Cell \u001b[0;32mIn[39], line 25\u001b[0m, in \u001b[0;36moptimal_reward\u001b[0;34m(observation)\u001b[0m\n\u001b[1;32m     23\u001b[0m \u001b[38;5;28;01mdef\u001b[39;00m \u001b[38;5;21moptimal_reward\u001b[39m(observation):\n\u001b[1;32m     24\u001b[0m \u001b[38;5;250m    \u001b[39m\u001b[38;5;124;03m\"\"\"Outputs the maximum expected reward for every element in the batch.\"\"\"\u001b[39;00m\n\u001b[0;32m---> 25\u001b[0m     \u001b[38;5;28;01mreturn\u001b[39;00m tf\u001b[38;5;241m.\u001b[39mreduce_max(_all_rewards(observation, \u001b[43mreward_param\u001b[49m), axis\u001b[38;5;241m=\u001b[39m\u001b[38;5;241m1\u001b[39m)\n",
      "\u001b[0;31mNameError\u001b[0m: name 'reward_param' is not defined"
     ]
    }
   ],
   "source": [
    "regret_values = []\n",
    "\n",
    "for _ in range(num_iterations):\n",
    "    driver.run()\n",
    "    loss_info = agent.train(replay_buffer.gather_all())\n",
    "    replay_buffer.clear()\n",
    "    regret_values.append(regret_metric.result())"
   ]
  },
  {
   "cell_type": "code",
   "execution_count": null,
   "id": "7d4c47b0-2d04-4fdf-896c-e97f206f89dd",
   "metadata": {},
   "outputs": [],
   "source": [
    "\n",
    "plt.plot(regret_values)\n",
    "plt.title('Regret of LinUCB on the Linear per-arm environment')\n",
    "plt.xlabel('Number of Iterations')\n",
    "_ = plt.ylabel('Average Regret')"
   ]
  },
  {
   "cell_type": "code",
   "execution_count": null,
   "id": "a898351d-1624-451e-b83f-e9a4f6a00459",
   "metadata": {},
   "outputs": [],
   "source": []
  },
  {
   "cell_type": "code",
   "execution_count": null,
   "id": "c4fb7c3c-2ad2-405c-a5a8-c7c13a8e8581",
   "metadata": {},
   "outputs": [],
   "source": []
  },
  {
   "cell_type": "code",
   "execution_count": 97,
   "id": "83bfb300-9b8d-4a9d-8f76-addb8404c207",
   "metadata": {},
   "outputs": [],
   "source": [
    "# def train(\n",
    "#     root_dir: str,\n",
    "#     agent: TFAgent,\n",
    "#     environment: TFEnvironment,\n",
    "#     training_loops: int,\n",
    "#     steps_per_loop: int,\n",
    "#     additional_metrics: Optional[List[TFStepMetric]] = None,\n",
    "#     training_data_spec_transformation_fn: Optional[Callable[[T], T]] = None,\n",
    "# ) -> Dict[str, List[float]]:\n",
    "#     \"\"\"Performs `training_loops` iterations of training on the agent's policy.\n",
    "\n",
    "#     Uses the `environment` as the problem formulation and source of immediate\n",
    "#     feedback and the agent's algorithm, to perform `training-loops` iterations\n",
    "#     of on-policy training on the policy.\n",
    "#     If one or more baseline_reward_fns are provided, the regret is computed\n",
    "#     against each one of them. Here is example baseline_reward_fn:\n",
    "#     def baseline_reward_fn(observation, per_action_reward_fns):\n",
    "#         rewards = ... # compute reward for each arm\n",
    "#         optimal_action_reward = ... # take the maximum reward\n",
    "#         return optimal_action_reward\n",
    "\n",
    "#     Args:\n",
    "#         root_dir: Path to the directory where training artifacts are written.\n",
    "#         agent: An instance of `TFAgent`.\n",
    "#         environment: An instance of `TFEnvironment`.\n",
    "#         training_loops: An integer indicating how many training loops should be run.\n",
    "#         steps_per_loop: An integer indicating how many driver steps should be\n",
    "#            executed and presented to the trainer during each training loop.\n",
    "#         additional_metrics: Optional; list of metric objects to log, in addition to\n",
    "#           default metrics `NumberOfEpisodes`, `AverageReturnMetric`, and\n",
    "#           `AverageEpisodeLengthMetric`.\n",
    "#         training_data_spec_transformation_fn: Optional; function that transforms\n",
    "#           the data items before they get to the replay buffer.\n",
    "\n",
    "#     Returns:\n",
    "#         A dict mapping metric names (eg. \"AverageReturnMetric\") to a list of\n",
    "#         intermediate metric values over `training_loops` iterations of training.\n",
    "#     \"\"\"\n",
    "    \n",
    "#     # ====================================================\n",
    "#     # get data spec\n",
    "#     # ====================================================\n",
    "#     if training_data_spec_transformation_fn is None:\n",
    "#         data_spec = agent.policy.trajectory_spec\n",
    "#     else:\n",
    "#         data_spec = training_data_spec_transformation_fn(\n",
    "#             agent.policy.trajectory_spec\n",
    "#         )\n",
    "        \n",
    "#     # ====================================================\n",
    "#     # define replay buffer\n",
    "#     # ====================================================\n",
    "#     replay_buffer = trainer._get_replay_buffer(\n",
    "#         data_spec\n",
    "#         , environment.batch_size\n",
    "#         ,steps_per_loop\n",
    "#         , 1\n",
    "#     )\n",
    "\n",
    "#     # ====================================================\n",
    "#     # metrics\n",
    "#     # ====================================================\n",
    "    \n",
    "#     # `step_metric` records the number of individual rounds of bandit interaction;\n",
    "#     # that is, (number of trajectories) * batch_size.\n",
    "#     step_metric = tf_metrics.EnvironmentSteps()\n",
    "    \n",
    "#     metrics = [\n",
    "#         tf_metrics.NumberOfEpisodes(),\n",
    "#         tf_metrics.AverageEpisodeLengthMetric(batch_size=environment.batch_size)\n",
    "#     ]\n",
    "#     if additional_metrics:\n",
    "#         metrics += additional_metrics\n",
    "\n",
    "#     if isinstance(environment.reward_spec(), dict):\n",
    "#         metrics += [\n",
    "#             tf_metrics.AverageReturnMultiMetric(\n",
    "#                 reward_spec=environment.reward_spec(),\n",
    "#                 batch_size=environment.batch_size\n",
    "#             )\n",
    "#         ]\n",
    "#     else:\n",
    "#         metrics += [\n",
    "#             tf_metrics.AverageReturnMetric(batch_size=environment.batch_size)\n",
    "#         ]\n",
    "\n",
    "#     # Store intermediate metric results, indexed by metric names.\n",
    "#     metric_results = defaultdict(list)\n",
    "#     print(f\"metric_results: {metric_results}\")\n",
    "    \n",
    "#     # ====================================================\n",
    "#     # Driver\n",
    "#     # ====================================================\n",
    "#     if training_data_spec_transformation_fn is not None:\n",
    "#         def add_batch_fn(data): return replay_buffer.add_batch(\n",
    "#             training_data_spec_transformation_fn(data)\n",
    "#         ) \n",
    "        \n",
    "#     else:\n",
    "#         add_batch_fn = replay_buffer.add_batch\n",
    "\n",
    "#     observers = [add_batch_fn, step_metric] + metrics\n",
    "\n",
    "#     driver = dynamic_step_driver.DynamicStepDriver(\n",
    "#         env = environment\n",
    "#         , policy = agent.collect_policy\n",
    "#         , num_steps = steps_per_loop * environment.batch_size\n",
    "#         , observers = observers\n",
    "#     )\n",
    "\n",
    "#     # ====================================================\n",
    "#     # training_loop\n",
    "#     # ====================================================\n",
    "#     training_loop = trainer._get_training_loop(\n",
    "#         driver=driver\n",
    "#         , replay_buffer=replay_buffer\n",
    "#         , agent=agent\n",
    "#         , steps=steps_per_loop\n",
    "#         , async_steps_per_loop=1\n",
    "#     )\n",
    "#     saver = policy_saver.PolicySaver(agent.policy)\n",
    "\n",
    "#     # for _ in range(training_loops):\n",
    "#     for train_step in range(training_loops):\n",
    "#         training_loop(                         # JT TODO\n",
    "#             train_step=train_step\n",
    "#             , metrics=metrics\n",
    "#         )\n",
    "#         metric_utils.log_metrics(metrics)\n",
    "#         for metric in metrics:\n",
    "#             metric.tf_summaries(train_step=step_metric.result())\n",
    "#             metric_results[type(metric).__name__].append(metric.result().numpy())\n",
    "#     saver.save(root_dir)\n",
    "    \n",
    "#     return metric_results"
   ]
  },
  {
   "cell_type": "markdown",
   "id": "e887e408-45db-4c95-aa84-268b0f573252",
   "metadata": {},
   "source": [
    "### set Vertex Exeperiment"
   ]
  },
  {
   "cell_type": "code",
   "execution_count": 98,
   "id": "bea2c0a5-96f2-44fb-8e28-3f5b68698d39",
   "metadata": {},
   "outputs": [
    {
     "name": "stdout",
     "output_type": "stream",
     "text": [
      "EXPERIMENT_NAME   : perarm-local-test\n",
      "RUN_NAME          : run-20230713-154556\n",
      "LOG_DIR           : gs://mabv1-hybrid-vertex-bucket/perarm-local-test/run-20230713-154556/tb-logs\n",
      "ROOT_DIR          : gs://mabv1-hybrid-vertex-bucket/perarm-local-test/run-20230713-154556/root\n",
      "ARTIFACTS_DIR     : gs://mabv1-hybrid-vertex-bucket/perarm-local-test/run-20230713-154556/artifacts\n"
     ]
    }
   ],
   "source": [
    "EXPERIMENT_NAME   = f'perarm-local-test'\n",
    "\n",
    "invoke_time       = time.strftime(\"%Y%m%d-%H%M%S\")\n",
    "RUN_NAME          = f'run-{invoke_time}'\n",
    "\n",
    "LOG_DIR           = f\"{BUCKET_URI}/{EXPERIMENT_NAME}/{RUN_NAME}/tb-logs\"\n",
    "ROOT_DIR          = f\"{BUCKET_URI}/{EXPERIMENT_NAME}/{RUN_NAME}/root\"       # Root directory for writing logs/summaries/checkpoints.\n",
    "ARTIFACTS_DIR     = f\"{BUCKET_URI}/{EXPERIMENT_NAME}/{RUN_NAME}/artifacts\"  # Where the trained model will be saved and restored.\n",
    "\n",
    "aiplatform.init(\n",
    "    project=PROJECT_ID,\n",
    "    location=REGION,\n",
    "    experiment=EXPERIMENT_NAME\n",
    ")\n",
    "\n",
    "print(f\"EXPERIMENT_NAME   : {EXPERIMENT_NAME}\")\n",
    "print(f\"RUN_NAME          : {RUN_NAME}\")\n",
    "print(f\"LOG_DIR           : {LOG_DIR}\")\n",
    "print(f\"ROOT_DIR          : {ROOT_DIR}\")\n",
    "print(f\"ARTIFACTS_DIR     : {ARTIFACTS_DIR}\")"
   ]
  },
  {
   "cell_type": "markdown",
   "id": "1ca02ce7-a030-419b-85d3-40fc9f4f4532",
   "metadata": {},
   "source": [
    "### Managed Tensorboard"
   ]
  },
  {
   "cell_type": "code",
   "execution_count": 99,
   "id": "7b143c2b-3212-4fed-8a3e-64ee23d03184",
   "metadata": {},
   "outputs": [
    {
     "name": "stdout",
     "output_type": "stream",
     "text": [
      "TB_RESOURCE_NAME: projects/934903580331/locations/us-central1/tensorboards/4226126872984944640\n"
     ]
    }
   ],
   "source": [
    "# # create new TB instance\n",
    "TENSORBOARD_DISPLAY_NAME=f\"{EXPERIMENT_NAME}-{RUN_NAME}\"\n",
    "tensorboard = aiplatform.Tensorboard.create(display_name=TENSORBOARD_DISPLAY_NAME)\n",
    "TB_RESOURCE_NAME = tensorboard.resource_name\n",
    "\n",
    "# use existing TB instance\n",
    "# TB_RESOURCE_NAME = 'projects/934903580331/locations/us-central1/tensorboards/472921941339013120'\n",
    "\n",
    "print(f\"TB_RESOURCE_NAME: {TB_RESOURCE_NAME}\")"
   ]
  },
  {
   "cell_type": "markdown",
   "id": "21bbf357-011e-48fe-a714-1d9f8012329d",
   "metadata": {},
   "source": [
    "### train RL agent"
   ]
  },
  {
   "cell_type": "code",
   "execution_count": 100,
   "id": "bd567c85-810d-4bcf-b920-29fad009349f",
   "metadata": {},
   "outputs": [
    {
     "name": "stdout",
     "output_type": "stream",
     "text": [
      "metric_results: defaultdict(<class 'list'>, {})\n"
     ]
    },
    {
     "name": "stderr",
     "output_type": "stream",
     "text": [
      "/home/jupyter/.local/lib/python3.10/site-packages/tensorflow/python/saved_model/nested_structure_coder.py:497: UserWarning: Encoding a StructuredValue with type tfp.distributions.Deterministic_ACTTypeSpec; loading this StructuredValue will require that this type be imported and registered.\n",
      "  warnings.warn(\"Encoding a StructuredValue with type %s; loading this \"\n"
     ]
    }
   ],
   "source": [
    "#start the timer and training\n",
    "start_time = time.time()\n",
    "\n",
    "tf.profiler.experimental.start(LOG_DIR)\n",
    "metric_results = train(\n",
    "    root_dir=ROOT_DIR,\n",
    "    agent=agent,\n",
    "    environment=environment,\n",
    "    training_loops=TRAINING_LOOPS,\n",
    "    steps_per_loop=STEPS_PER_LOOP,\n",
    "    additional_metrics=metrics\n",
    ")\n",
    "tf.profiler.experimental.stop()\n",
    "\n",
    "end_time = time.time()\n",
    "runtime_mins = int((end_time - start_time) / 60)"
   ]
  },
  {
   "cell_type": "code",
   "execution_count": 101,
   "id": "abfa8137-834c-4fe7-998e-6d585c347dec",
   "metadata": {
    "tags": []
   },
   "outputs": [
    {
     "data": {
      "text/plain": [
       "defaultdict(list,\n",
       "            {'NumberOfEpisodes': [48,\n",
       "              96,\n",
       "              144,\n",
       "              192,\n",
       "              240,\n",
       "              288,\n",
       "              336,\n",
       "              384,\n",
       "              432,\n",
       "              480],\n",
       "             'AverageEpisodeLengthMetric': [1.0,\n",
       "              1.0,\n",
       "              1.0,\n",
       "              1.0,\n",
       "              1.0,\n",
       "              1.0,\n",
       "              1.0,\n",
       "              1.0,\n",
       "              1.0,\n",
       "              1.0],\n",
       "             'RegretMetric': [1.0119307,\n",
       "              1.074147,\n",
       "              0.44905764,\n",
       "              0.8111209,\n",
       "              0.66253877,\n",
       "              0.2559061,\n",
       "              0.577085,\n",
       "              0.4155762,\n",
       "              0.50134087,\n",
       "              0.40863454],\n",
       "             'AverageReturnMetric': [0.15229103,\n",
       "              1.6384208,\n",
       "              0.8681714,\n",
       "              1.798214,\n",
       "              1.5430243,\n",
       "              1.1815403,\n",
       "              0.71159726,\n",
       "              0.7688997,\n",
       "              0.91992855,\n",
       "              1.3769543]})"
      ]
     },
     "execution_count": 101,
     "metadata": {},
     "output_type": "execute_result"
    }
   ],
   "source": [
    "metric_results"
   ]
  },
  {
   "cell_type": "markdown",
   "id": "25933df7-7527-4eda-b25c-d166f93b29b0",
   "metadata": {},
   "source": [
    "### log Vertex Experiment run"
   ]
  },
  {
   "cell_type": "code",
   "execution_count": 102,
   "id": "cb43ea65-3c72-44c8-9373-e5c7ea46e2d5",
   "metadata": {},
   "outputs": [],
   "source": [
    "aiplatform.start_run(\n",
    "    RUN_NAME\n",
    "    , tensorboard=TB_RESOURCE_NAME\n",
    "    , resume=False\n",
    ")\n",
    "\n",
    "aiplatform.log_params(\n",
    "    {\n",
    "        \"runtime\": runtime_mins,\n",
    "        \"batch_size\": BATCH_SIZE, \n",
    "        \"training_loops\": TRAINING_LOOPS,\n",
    "        \"steps_pre_loop\": STEPS_PER_LOOP,\n",
    "        \"rank_k\": RANK_K,\n",
    "        \"num_actions\": NUM_ACTIONS,\n",
    "        \"per_arm\": PER_ARM,\n",
    "        \"tikhonov_weight\": TIKHONOV_WEIGHT,\n",
    "        \"agent_alpha\": AGENT_ALPHA,\n",
    "    }\n",
    ")\n",
    "\n",
    "# gather the metrics for the last epoch to be saved in metrics\n",
    "aiplatform.log_metrics(\n",
    "    {\n",
    "        \"AverageReturnMetric\" : float(metric_results[\"AverageReturnMetric\"][-1])\n",
    "        , \"FinalRegretMetric\" : float(metric_results[\"RegretMetric\"][-1])\n",
    "    }\n",
    ")\n",
    "\n",
    "aiplatform.end_run()"
   ]
  },
  {
   "cell_type": "markdown",
   "id": "eb309b7e-ea8d-496a-88d8-61c18cf1259c",
   "metadata": {},
   "source": [
    "## Evaluate RL metrics"
   ]
  },
  {
   "cell_type": "code",
   "execution_count": 103,
   "id": "75d1843b-c763-4ca3-bed6-d954c680a66d",
   "metadata": {},
   "outputs": [],
   "source": [
    "def plot(metric_results, metric_name):\n",
    "    plt.plot(metric_results[metric_name])\n",
    "    plt.ylabel(metric_name)\n",
    "    plt.xlabel(\"Step\")\n",
    "    plt.title(\"{} versus Step\".format(metric_name))"
   ]
  },
  {
   "cell_type": "code",
   "execution_count": 104,
   "id": "9a7ada8a-77b3-43f4-8631-aee319dc6523",
   "metadata": {},
   "outputs": [
    {
     "data": {
      "image/png": "[encoded data removed]",
      "text/plain": [
       "<Figure size 640x480 with 1 Axes>"
      ]
     },
     "metadata": {},
     "output_type": "display_data"
    }
   ],
   "source": [
    "plot(metric_results, \"RegretMetric\")"
   ]
  },
  {
   "cell_type": "code",
   "execution_count": 105,
   "id": "5ea3de56-3540-4258-88ce-fafea4ec50a7",
   "metadata": {},
   "outputs": [
    {
     "data": {
      "image/png": "[encoded data removed]",
      "text/plain": [
       "<Figure size 640x480 with 1 Axes>"
      ]
     },
     "metadata": {},
     "output_type": "display_data"
    }
   ],
   "source": [
    "plot(metric_results, \"AverageReturnMetric\")"
   ]
  },
  {
   "cell_type": "markdown",
   "id": "a2ceaca0-c58d-4c37-90ea-f4a00e034aee",
   "metadata": {
    "jp-MarkdownHeadingCollapsed": true,
    "tags": []
   },
   "source": [
    "### Profiler"
   ]
  },
  {
   "cell_type": "code",
   "execution_count": 106,
   "id": "f3401ad6-ac68-49a6-8d16-3b3edf667eaf",
   "metadata": {},
   "outputs": [],
   "source": [
    "%load_ext tensorboard\n",
    "# %reload_ext tensorboard"
   ]
  },
  {
   "cell_type": "code",
   "execution_count": 107,
   "id": "22644f6b-1996-4c16-a81c-431b5cd68977",
   "metadata": {},
   "outputs": [
    {
     "data": {
      "text/html": [
       "\n",
       "      <iframe id=\"tensorboard-frame-19c49af3e9ff104b\" width=\"100%\" height=\"800\" frameborder=\"0\">\n",
       "      </iframe>\n",
       "      <script>\n",
       "        (function() {\n",
       "          const frame = document.getElementById(\"tensorboard-frame-19c49af3e9ff104b\");\n",
       "          const url = new URL(\"/proxy/6006/\", window.location);\n",
       "          const port = 0;\n",
       "          if (port) {\n",
       "            url.port = port;\n",
       "          }\n",
       "          frame.src = url;\n",
       "        })();\n",
       "      </script>\n",
       "    "
      ],
      "text/plain": [
       "<IPython.core.display.HTML object>"
      ]
     },
     "metadata": {},
     "output_type": "display_data"
    }
   ],
   "source": [
    "%tensorboard --logdir=$LOG_DIR"
   ]
  },
  {
   "cell_type": "markdown",
   "id": "55ac6fd2-87c4-4c35-9ad5-96ff18235297",
   "metadata": {},
   "source": [
    "### load trained policy"
   ]
  },
  {
   "cell_type": "code",
   "execution_count": 118,
   "id": "588302a5-f514-44db-807a-af741e78b1ef",
   "metadata": {},
   "outputs": [
    {
     "data": {
      "text/plain": [
       "'gs://mabv1-hybrid-vertex-bucket/perarm-local-test/run-20230713-154556/root'"
      ]
     },
     "execution_count": 118,
     "metadata": {},
     "output_type": "execute_result"
    }
   ],
   "source": [
    "ROOT_DIR"
   ]
  },
  {
   "cell_type": "code",
   "execution_count": 119,
   "id": "6e580390-784b-4d3c-8a19-35fa3c4a1a89",
   "metadata": {},
   "outputs": [
    {
     "data": {
      "text/plain": [
       "<tensorflow.python.saved_model.load.Loader._recreate_base_user_object.<locals>._UserObject at 0x7ff4b8f31ff0>"
      ]
     },
     "execution_count": 119,
     "metadata": {},
     "output_type": "execute_result"
    }
   ],
   "source": [
    "trained_policy = tf.saved_model.load(ROOT_DIR)\n",
    "trained_policy"
   ]
  },
  {
   "cell_type": "markdown",
   "id": "3e58e1c3-2005-41df-a1ad-a4fc285a4bda",
   "metadata": {},
   "source": [
    "# Make predictions"
   ]
  },
  {
   "cell_type": "code",
   "execution_count": 189,
   "id": "4b02504c-ec8d-464f-b847-1d313f77f0f5",
   "metadata": {
    "collapsed": true,
    "jupyter": {
     "outputs_hidden": true
    },
    "tags": []
   },
   "outputs": [
    {
     "name": "stdout",
     "output_type": "stream",
     "text": [
      "observation_dict  : {'global': array([[0, 0, 0, 0, 0, 0, 0, 0, 0, 0, 0, 0, 0, 0, 0, 0, 0, 0, 0, 0, 0, 0],\n",
      "       [0, 0, 0, 0, 0, 0, 0, 0, 0, 0, 0, 0, 0, 0, 0, 0, 0, 0, 0, 0, 0, 0],\n",
      "       [0, 0, 0, 0, 0, 0, 0, 0, 0, 0, 0, 0, 0, 0, 0, 0, 0, 0, 0, 0, 0, 0],\n",
      "       [0, 0, 0, 0, 0, 0, 0, 0, 0, 0, 0, 0, 0, 0, 0, 0, 0, 0, 0, 0, 0, 0],\n",
      "       [0, 0, 0, 0, 0, 0, 0, 0, 0, 0, 0, 0, 0, 0, 0, 0, 0, 0, 0, 0, 0, 0],\n",
      "       [0, 0, 0, 0, 0, 0, 0, 0, 0, 0, 0, 0, 0, 0, 0, 0, 0, 0, 0, 0, 0, 0],\n",
      "       [0, 0, 0, 0, 0, 0, 0, 0, 0, 0, 0, 0, 0, 0, 0, 0, 0, 0, 0, 0, 0, 0],\n",
      "       [0, 0, 0, 0, 0, 0, 0, 0, 0, 0, 0, 0, 0, 0, 0, 0, 0, 0, 0, 0, 0, 0]],\n",
      "      dtype=int32), 'per_arm': array([[[0, 0, 0, ..., 0, 0, 0],\n",
      "        [0, 0, 0, ..., 0, 0, 0],\n",
      "        [0, 0, 0, ..., 0, 0, 0],\n",
      "        ...,\n",
      "        [0, 0, 0, ..., 0, 0, 0],\n",
      "        [0, 0, 0, ..., 0, 0, 0],\n",
      "        [0, 0, 0, ..., 0, 0, 0]],\n",
      "\n",
      "       [[0, 0, 0, ..., 0, 0, 0],\n",
      "        [0, 0, 0, ..., 0, 0, 0],\n",
      "        [0, 0, 0, ..., 0, 0, 0],\n",
      "        ...,\n",
      "        [0, 0, 0, ..., 0, 0, 0],\n",
      "        [0, 0, 0, ..., 0, 0, 0],\n",
      "        [0, 0, 0, ..., 0, 0, 0]],\n",
      "\n",
      "       [[0, 0, 0, ..., 0, 0, 0],\n",
      "        [0, 0, 0, ..., 0, 0, 0],\n",
      "        [0, 0, 0, ..., 0, 0, 0],\n",
      "        ...,\n",
      "        [0, 0, 0, ..., 0, 0, 0],\n",
      "        [0, 0, 0, ..., 0, 0, 0],\n",
      "        [0, 0, 0, ..., 0, 0, 0]],\n",
      "\n",
      "       ...,\n",
      "\n",
      "       [[0, 0, 0, ..., 0, 0, 0],\n",
      "        [0, 0, 0, ..., 0, 0, 0],\n",
      "        [0, 0, 0, ..., 0, 0, 0],\n",
      "        ...,\n",
      "        [0, 0, 0, ..., 0, 0, 0],\n",
      "        [0, 0, 0, ..., 0, 0, 0],\n",
      "        [0, 0, 0, ..., 0, 0, 0]],\n",
      "\n",
      "       [[0, 0, 0, ..., 0, 0, 0],\n",
      "        [0, 0, 0, ..., 0, 0, 0],\n",
      "        [0, 0, 0, ..., 0, 0, 0],\n",
      "        ...,\n",
      "        [0, 0, 0, ..., 0, 0, 0],\n",
      "        [0, 0, 0, ..., 0, 0, 0],\n",
      "        [0, 0, 0, ..., 0, 0, 0]],\n",
      "\n",
      "       [[0, 0, 0, ..., 0, 0, 0],\n",
      "        [0, 0, 0, ..., 0, 0, 0],\n",
      "        [0, 0, 0, ..., 0, 0, 0],\n",
      "        ...,\n",
      "        [0, 0, 0, ..., 0, 0, 0],\n",
      "        [0, 0, 0, ..., 0, 0, 0],\n",
      "        [0, 0, 0, ..., 0, 0, 0]]], dtype=int32)}\n"
     ]
    }
   ],
   "source": [
    "# observation_list = [list(np.ones(RANK_K + 2)) for _ in range(BATCH_SIZE)]\n",
    "# observation_list\n",
    "\n",
    "# batched_observations = {\n",
    "#     GLOBAL_KEY:\n",
    "#         tf.convert_to_tensor(combined_user_features, dtype=tf.float32),\n",
    "#     PER_ARM_KEY:\n",
    "#         tf.convert_to_tensor(current_movies, dtype=tf.float32),\n",
    "# }\n",
    "\n",
    "# batched_observations\n",
    "\n",
    "observation_dict = {\n",
    "    GLOBAL_KEY:\n",
    "        np.zeros([BATCH_SIZE, RANK_K + 2], dtype=np.int32), #making space like above for dimensions\n",
    "    PER_ARM_KEY:\n",
    "        np.zeros([BATCH_SIZE, NUM_ACTIONS, RANK_K + 1], dtype=np.int32),\n",
    "}\n",
    "\n",
    "print(f\"observation_dict  : {observation_dict}\")"
   ]
  },
  {
   "cell_type": "code",
   "execution_count": 191,
   "id": "d183ac62-c7d6-4564-bdc0-83274eab02ad",
   "metadata": {},
   "outputs": [
    {
     "data": {
      "text/plain": [
       "TimeStep(\n",
       "{'discount': array([1., 1., 1., 1., 1., 1., 1., 1.], dtype=float32),\n",
       " 'observation': {'global': array([[0, 0, 0, 0, 0, 0, 0, 0, 0, 0, 0, 0, 0, 0, 0, 0, 0, 0, 0, 0, 0, 0],\n",
       "       [0, 0, 0, 0, 0, 0, 0, 0, 0, 0, 0, 0, 0, 0, 0, 0, 0, 0, 0, 0, 0, 0],\n",
       "       [0, 0, 0, 0, 0, 0, 0, 0, 0, 0, 0, 0, 0, 0, 0, 0, 0, 0, 0, 0, 0, 0],\n",
       "       [0, 0, 0, 0, 0, 0, 0, 0, 0, 0, 0, 0, 0, 0, 0, 0, 0, 0, 0, 0, 0, 0],\n",
       "       [0, 0, 0, 0, 0, 0, 0, 0, 0, 0, 0, 0, 0, 0, 0, 0, 0, 0, 0, 0, 0, 0],\n",
       "       [0, 0, 0, 0, 0, 0, 0, 0, 0, 0, 0, 0, 0, 0, 0, 0, 0, 0, 0, 0, 0, 0],\n",
       "       [0, 0, 0, 0, 0, 0, 0, 0, 0, 0, 0, 0, 0, 0, 0, 0, 0, 0, 0, 0, 0, 0],\n",
       "       [0, 0, 0, 0, 0, 0, 0, 0, 0, 0, 0, 0, 0, 0, 0, 0, 0, 0, 0, 0, 0, 0]],\n",
       "      dtype=int32),\n",
       "                 'per_arm': array([[[0, 0, 0, ..., 0, 0, 0],\n",
       "        [0, 0, 0, ..., 0, 0, 0],\n",
       "        [0, 0, 0, ..., 0, 0, 0],\n",
       "        ...,\n",
       "        [0, 0, 0, ..., 0, 0, 0],\n",
       "        [0, 0, 0, ..., 0, 0, 0],\n",
       "        [0, 0, 0, ..., 0, 0, 0]],\n",
       "\n",
       "       [[0, 0, 0, ..., 0, 0, 0],\n",
       "        [0, 0, 0, ..., 0, 0, 0],\n",
       "        [0, 0, 0, ..., 0, 0, 0],\n",
       "        ...,\n",
       "        [0, 0, 0, ..., 0, 0, 0],\n",
       "        [0, 0, 0, ..., 0, 0, 0],\n",
       "        [0, 0, 0, ..., 0, 0, 0]],\n",
       "\n",
       "       [[0, 0, 0, ..., 0, 0, 0],\n",
       "        [0, 0, 0, ..., 0, 0, 0],\n",
       "        [0, 0, 0, ..., 0, 0, 0],\n",
       "        ...,\n",
       "        [0, 0, 0, ..., 0, 0, 0],\n",
       "        [0, 0, 0, ..., 0, 0, 0],\n",
       "        [0, 0, 0, ..., 0, 0, 0]],\n",
       "\n",
       "       ...,\n",
       "\n",
       "       [[0, 0, 0, ..., 0, 0, 0],\n",
       "        [0, 0, 0, ..., 0, 0, 0],\n",
       "        [0, 0, 0, ..., 0, 0, 0],\n",
       "        ...,\n",
       "        [0, 0, 0, ..., 0, 0, 0],\n",
       "        [0, 0, 0, ..., 0, 0, 0],\n",
       "        [0, 0, 0, ..., 0, 0, 0]],\n",
       "\n",
       "       [[0, 0, 0, ..., 0, 0, 0],\n",
       "        [0, 0, 0, ..., 0, 0, 0],\n",
       "        [0, 0, 0, ..., 0, 0, 0],\n",
       "        ...,\n",
       "        [0, 0, 0, ..., 0, 0, 0],\n",
       "        [0, 0, 0, ..., 0, 0, 0],\n",
       "        [0, 0, 0, ..., 0, 0, 0]],\n",
       "\n",
       "       [[0, 0, 0, ..., 0, 0, 0],\n",
       "        [0, 0, 0, ..., 0, 0, 0],\n",
       "        [0, 0, 0, ..., 0, 0, 0],\n",
       "        ...,\n",
       "        [0, 0, 0, ..., 0, 0, 0],\n",
       "        [0, 0, 0, ..., 0, 0, 0],\n",
       "        [0, 0, 0, ..., 0, 0, 0]]], dtype=int32)},\n",
       " 'reward': array([0., 0., 0., 0., 0., 0., 0., 0.], dtype=float32),\n",
       " 'step_type': array([0, 0, 0, 0, 0, 0, 0, 0], dtype=int32)})"
      ]
     },
     "execution_count": 191,
     "metadata": {},
     "output_type": "execute_result"
    }
   ],
   "source": [
    "time_step = tf_agents.trajectories.restart(\n",
    "    observation=observation_dict,\n",
    "    batch_size=tf.convert_to_tensor([BATCH_SIZE]),\n",
    ")\n",
    "time_step"
   ]
  },
  {
   "cell_type": "code",
   "execution_count": null,
   "id": "a68d3fc4-69f3-4c92-a8a0-738b57937963",
   "metadata": {},
   "outputs": [],
   "source": [
    "action_step = trained_policy.action(time_step)\n",
    "action_step.action.numpy().tolist()"
   ]
  },
  {
   "cell_type": "code",
   "execution_count": 184,
   "id": "d894e533-1adb-46ad-b2b7-690d4910a1ef",
   "metadata": {},
   "outputs": [
    {
     "data": {
      "text/plain": [
       "[10, 17, 10, 15, 0, 14, 1, 15]"
      ]
     },
     "execution_count": 184,
     "metadata": {},
     "output_type": "execute_result"
    }
   ],
   "source": [
    "observation_array = environment._observe()\n",
    "\n",
    "time_step = tf_agents.trajectories.restart(\n",
    "    observation=observation_array,\n",
    "    batch_size=tf.convert_to_tensor([BATCH_SIZE]),\n",
    ")\n",
    "\n",
    "action_step = trained_policy.action(time_step)\n",
    "\n",
    "action_step.action.numpy().tolist()"
   ]
  },
  {
   "cell_type": "markdown",
   "id": "180dd65b-3eb7-453f-a406-736e657e4b69",
   "metadata": {},
   "source": [
    "### debugging"
   ]
  },
  {
   "cell_type": "code",
   "execution_count": 122,
   "id": "c1347b22-95ad-4659-aa1b-5542322f9928",
   "metadata": {
    "tags": []
   },
   "outputs": [
    {
     "data": {
      "text/plain": [
       "{'global': <tf.Tensor: shape=(8, 22), dtype=float32, numpy=\n",
       " array([[-1.2873987e-02, -2.1390352e-02,  4.6473794e-02,  1.2905279e-02,\n",
       "          1.8002745e-02,  1.7323282e-02,  4.0619403e-02, -1.8831192e-03,\n",
       "          3.5232522e-02, -4.7737733e-02,  3.5911977e-02,  2.8632969e-02,\n",
       "          1.5208208e-03, -8.5478518e-03, -1.0778209e-02,  4.2909261e-02,\n",
       "          4.1823767e-02,  2.3449438e-03, -2.0098533e-02,  5.6047082e-02,\n",
       "          3.0000999e+00,  2.0000999e+00],\n",
       "        [-1.7549284e-02,  3.1996551e-03,  1.8386850e-02,  1.2473919e-02,\n",
       "          4.3198387e-03, -3.2752186e-02,  4.4371351e-03, -1.9762106e-02,\n",
       "          1.8484747e-02, -2.2252942e-03,  1.6091483e-02,  1.3519984e-02,\n",
       "         -1.0761653e-02,  8.0836611e-03, -1.6782213e-02, -4.3056097e-02,\n",
       "          6.2738741e-03,  4.5072705e-02,  3.1135675e-02, -3.9139803e-02,\n",
       "          2.0000999e+00,  6.0001001e+00],\n",
       "        [-3.9113931e-02,  2.2795230e-02,  5.0533485e-02, -1.0424367e-02,\n",
       "          2.6395298e-03,  4.1149292e-02, -3.2692634e-02, -7.8519657e-02,\n",
       "         -4.8243895e-02, -2.7656512e-02, -2.0028943e-02,  4.0305164e-02,\n",
       "         -6.9849446e-02, -6.1262265e-02, -2.4702676e-02,  3.0071849e-02,\n",
       "         -1.4172895e-02,  3.9096251e-03, -9.3963020e-02,  1.0849109e-02,\n",
       "          3.0000999e+00,  1.0001000e+00],\n",
       "        [-2.2663567e-03, -1.2628444e-02,  9.8473970e-03, -1.2694818e-02,\n",
       "         -1.0959377e-02,  1.9858012e-04,  3.1304575e-04,  4.7121397e-03,\n",
       "         -1.2588921e-02, -8.7891007e-03,  3.1366097e-03, -1.2273650e-02,\n",
       "         -8.3603797e-04,  4.6333144e-03, -4.7809560e-02,  6.3083405e-03,\n",
       "          4.9088523e-04, -4.4955194e-04, -1.8104333e-02,  1.3597207e-02,\n",
       "          6.0001001e+00,  7.0001001e+00],\n",
       "        [-2.2167875e-02,  1.2536277e-02, -1.7687703e-02, -3.4533106e-03,\n",
       "         -9.7395561e-04, -3.9468765e-02, -5.0388258e-03, -5.2861206e-02,\n",
       "         -1.1303232e-02,  2.0371899e-03,  3.3693574e-02, -2.4683505e-02,\n",
       "         -5.8054896e-03,  6.1930665e-03,  1.0427003e-02,  4.1616924e-02,\n",
       "         -1.5383828e-02, -3.2544232e-03, -2.5327120e-02, -1.2492494e-02,\n",
       "          1.0001000e+00,  1.0000100e+01],\n",
       "        [-4.1911234e-03, -2.1382326e-02,  2.2324307e-02, -2.7237877e-02,\n",
       "         -3.2178011e-02,  2.3002455e-03,  8.8810585e-03, -4.1775783e-03,\n",
       "         -2.1771407e-03, -4.8314328e-03, -6.9652050e-04, -7.2319941e-03,\n",
       "          3.6515722e-03,  3.7923125e-03,  1.4353522e-02, -1.3905171e-02,\n",
       "          2.1384411e-02,  8.0052391e-03,  1.0051272e-02, -8.3712366e-05,\n",
       "          3.0000999e+00,  1.0001000e+00],\n",
       "        [-4.6851360e-03, -2.6658496e-02,  2.3727177e-02, -4.4710722e-02,\n",
       "         -3.5555456e-02,  5.8987434e-04,  4.9641971e-03, -5.0817900e-03,\n",
       "         -3.4699070e-03, -1.3401484e-03, -1.8579310e-02, -1.8398866e-02,\n",
       "          6.5504727e-03,  2.7638904e-03,  2.1280380e-02, -6.1360123e-03,\n",
       "          1.9883523e-02,  6.9567114e-03,  3.0264968e-02,  3.4094385e-03,\n",
       "          4.0001001e+00,  1.0000100e+01],\n",
       "        [-4.0815556e-03, -2.1441216e-02,  2.0187514e-02, -1.8101037e-02,\n",
       "         -3.3084545e-02,  1.9783156e-03,  1.2061572e-02,  5.3611257e-06,\n",
       "         -1.8473940e-02, -3.0445675e-03,  4.2965794e-03, -6.1851898e-03,\n",
       "         -1.6279216e-03, -7.1232617e-03, -2.3565523e-02, -7.6087648e-03,\n",
       "          3.2481069e-03, -9.5731067e-03, -2.6677027e-02,  1.7741676e-02,\n",
       "          1.0001000e+00,  1.6000099e+01]], dtype=float32)>,\n",
       " 'per_arm': <tf.Tensor: shape=(8, 20, 21), dtype=float32, numpy=\n",
       " array([[[-2.45361007e-03, -2.92136287e-03, -5.75422216e-03, ...,\n",
       "          -4.81287250e-04, -2.11178837e-03,  1.00010002e+00],\n",
       "         [-3.05079102e-05, -3.14309873e-04,  1.38755247e-04, ...,\n",
       "          -1.36341993e-03, -4.51916800e-04,  9.99999975e-05],\n",
       "         [-3.79535579e-03, -3.25503119e-04,  5.68946963e-03, ...,\n",
       "          -1.94089692e-02, -1.90546121e-02,  4.00010014e+00],\n",
       "         ...,\n",
       "         [-1.11329940e-03,  1.43702328e-03,  2.02982780e-03, ...,\n",
       "           2.78853159e-03,  1.29813673e-02,  3.00009990e+00],\n",
       "         [-4.07728627e-02,  3.73689756e-02,  4.69364822e-02, ...,\n",
       "          -1.80372801e-02,  3.16854753e-02,  7.00010014e+00],\n",
       "         [-1.37804542e-03, -2.85017828e-04, -2.67751236e-03, ...,\n",
       "           5.52168535e-03,  3.16262455e-03,  9.99999975e-05]],\n",
       " \n",
       "        [[-1.20330823e-03, -4.98745264e-03,  1.50035985e-03, ...,\n",
       "          -9.95009579e-03,  4.25171480e-03,  5.00010014e+00],\n",
       "         [-1.68291898e-03, -1.32073625e-03, -4.95322561e-03, ...,\n",
       "           5.22100972e-03, -4.80568316e-03,  7.00010014e+00],\n",
       "         [-3.23382020e-02, -6.03822321e-02,  3.86517085e-02, ...,\n",
       "           5.63373119e-02,  2.24683322e-02,  9.99999975e-05],\n",
       "         ...,\n",
       "         [-2.24759593e-03, -2.71949032e-03,  9.98066831e-03, ...,\n",
       "          -5.07900119e-03,  8.86321254e-03,  9.99999975e-05],\n",
       "         [-9.20904786e-05, -2.85553942e-05, -1.99222864e-04, ...,\n",
       "          -1.73619163e-04, -1.20851997e-04,  1.50001001e+01],\n",
       "         [-2.91126333e-02, -3.90886003e-03, -3.06362808e-02, ...,\n",
       "           6.04755320e-02,  1.81077956e-03,  7.00010014e+00]],\n",
       " \n",
       "        [[-6.49211556e-03, -1.87542066e-02, -8.78968742e-03, ...,\n",
       "          -1.51654659e-02, -2.36299913e-02,  3.00009990e+00],\n",
       "         [-1.42169390e-02,  2.19279267e-02,  1.61169395e-02, ...,\n",
       "          -2.56459811e-03,  2.46088132e-02,  9.99999975e-05],\n",
       "         [-3.83604225e-03, -4.63060220e-04,  8.44266091e-04, ...,\n",
       "           7.53060158e-04,  5.40694175e-03,  7.00010014e+00],\n",
       "         ...,\n",
       "         [-2.20500771e-03, -5.73565811e-03,  8.58613476e-03, ...,\n",
       "          -9.98645835e-03,  1.04255800e-03,  9.99999975e-05],\n",
       "         [-8.82324353e-02,  3.06533072e-02,  1.75767783e-02, ...,\n",
       "          -3.41812405e-03, -3.69071998e-02,  9.99999975e-05],\n",
       "         [-3.38992081e-03,  3.99953499e-03,  9.26515460e-03, ...,\n",
       "           1.49930781e-03,  4.63056099e-03,  9.99999975e-05]],\n",
       " \n",
       "        ...,\n",
       " \n",
       "        [[-4.33196463e-02, -1.42904953e-03, -6.44150702e-03, ...,\n",
       "          -4.44425531e-02, -1.63391158e-02,  7.00010014e+00],\n",
       "         [-2.71668006e-03, -1.60325447e-03, -8.78070714e-05, ...,\n",
       "           2.88806227e-03, -7.07147643e-03,  7.00010014e+00],\n",
       "         [-3.99636710e-03, -1.01199951e-02,  7.84650911e-03, ...,\n",
       "          -1.56412758e-02,  1.05380290e-03,  4.00010014e+00],\n",
       "         ...,\n",
       "         [-2.07843888e-03, -4.74509830e-03,  4.31946618e-03, ...,\n",
       "          -1.23380814e-02, -3.30665614e-03,  1.00001001e+01],\n",
       "         [-3.13063711e-02,  4.16836672e-04, -9.87183955e-03, ...,\n",
       "          -1.77202765e-02, -1.57370660e-02,  7.00010014e+00],\n",
       "         [-1.76518485e-02, -3.04364171e-02, -1.84713025e-02, ...,\n",
       "          -1.92363989e-02, -2.81894952e-02,  7.00010014e+00]],\n",
       " \n",
       "        [[-1.06811300e-02,  1.81978494e-02,  1.93559676e-02, ...,\n",
       "           3.37250158e-02, -4.07577900e-04,  9.99999975e-05],\n",
       "         [-3.38634327e-02,  1.61442608e-02, -1.10798869e-02, ...,\n",
       "           1.74906440e-02, -1.60444509e-02,  4.00010014e+00],\n",
       "         [-9.57235534e-05,  2.19103051e-04, -2.45190895e-04, ...,\n",
       "           1.42034236e-03, -1.59646734e-03,  7.00010014e+00],\n",
       "         ...,\n",
       "         [-2.77776234e-02,  1.26524188e-03, -4.66899984e-02, ...,\n",
       "           2.93325458e-04,  2.61382945e-02,  1.00010002e+00],\n",
       "         [-6.34083117e-04, -4.70469211e-04, -1.21125160e-03, ...,\n",
       "           2.29137787e-03,  3.57117085e-03,  7.00010014e+00],\n",
       "         [-8.52288038e-04,  9.69147484e-04,  1.30425498e-03, ...,\n",
       "          -3.68028507e-03,  3.79158417e-04,  5.00010014e+00]],\n",
       " \n",
       "        [[-4.28768653e-05, -5.75652753e-04,  5.00363007e-04, ...,\n",
       "           2.61078618e-04, -3.10227653e-04,  7.00010014e+00],\n",
       "         [-7.59480172e-04, -1.38399715e-03,  4.63851867e-03, ...,\n",
       "          -5.15667070e-03,  1.70866144e-03,  4.00010014e+00],\n",
       "         [-4.05767420e-03, -6.32916577e-03,  9.61427484e-03, ...,\n",
       "          -2.26913430e-02, -2.29998287e-02,  9.99999975e-05],\n",
       "         ...,\n",
       "         [-5.37639891e-04, -5.24676405e-04, -7.10247376e-04, ...,\n",
       "          -3.04722297e-03, -5.76995197e-04,  9.99999975e-05],\n",
       "         [-8.30628350e-03,  8.67146906e-03, -1.03562595e-02, ...,\n",
       "          -7.58770155e-03,  3.17260064e-02,  1.00001001e+01],\n",
       "         [-9.89714358e-03, -1.74833331e-02, -1.80335995e-02, ...,\n",
       "          -1.06928870e-02, -6.26652502e-03,  1.00001001e+01]]],\n",
       "       dtype=float32)>}"
      ]
     },
     "execution_count": 122,
     "metadata": {},
     "output_type": "execute_result"
    }
   ],
   "source": [
    "observation_array = environment._observe()\n",
    "observation_array"
   ]
  },
  {
   "cell_type": "code",
   "execution_count": 123,
   "id": "5f8c4b93-79a9-40ce-a0f4-89730044d97e",
   "metadata": {},
   "outputs": [
    {
     "data": {
      "text/plain": [
       "TimeStep(\n",
       "{'discount': <tf.Tensor: shape=(8,), dtype=float32, numpy=array([1., 1., 1., 1., 1., 1., 1., 1.], dtype=float32)>,\n",
       " 'observation': {'global': <tf.Tensor: shape=(8, 22), dtype=float32, numpy=\n",
       "array([[-1.2873987e-02, -2.1390352e-02,  4.6473794e-02,  1.2905279e-02,\n",
       "         1.8002745e-02,  1.7323282e-02,  4.0619403e-02, -1.8831192e-03,\n",
       "         3.5232522e-02, -4.7737733e-02,  3.5911977e-02,  2.8632969e-02,\n",
       "         1.5208208e-03, -8.5478518e-03, -1.0778209e-02,  4.2909261e-02,\n",
       "         4.1823767e-02,  2.3449438e-03, -2.0098533e-02,  5.6047082e-02,\n",
       "         3.0000999e+00,  2.0000999e+00],\n",
       "       [-1.7549284e-02,  3.1996551e-03,  1.8386850e-02,  1.2473919e-02,\n",
       "         4.3198387e-03, -3.2752186e-02,  4.4371351e-03, -1.9762106e-02,\n",
       "         1.8484747e-02, -2.2252942e-03,  1.6091483e-02,  1.3519984e-02,\n",
       "        -1.0761653e-02,  8.0836611e-03, -1.6782213e-02, -4.3056097e-02,\n",
       "         6.2738741e-03,  4.5072705e-02,  3.1135675e-02, -3.9139803e-02,\n",
       "         2.0000999e+00,  6.0001001e+00],\n",
       "       [-3.9113931e-02,  2.2795230e-02,  5.0533485e-02, -1.0424367e-02,\n",
       "         2.6395298e-03,  4.1149292e-02, -3.2692634e-02, -7.8519657e-02,\n",
       "        -4.8243895e-02, -2.7656512e-02, -2.0028943e-02,  4.0305164e-02,\n",
       "        -6.9849446e-02, -6.1262265e-02, -2.4702676e-02,  3.0071849e-02,\n",
       "        -1.4172895e-02,  3.9096251e-03, -9.3963020e-02,  1.0849109e-02,\n",
       "         3.0000999e+00,  1.0001000e+00],\n",
       "       [-2.2663567e-03, -1.2628444e-02,  9.8473970e-03, -1.2694818e-02,\n",
       "        -1.0959377e-02,  1.9858012e-04,  3.1304575e-04,  4.7121397e-03,\n",
       "        -1.2588921e-02, -8.7891007e-03,  3.1366097e-03, -1.2273650e-02,\n",
       "        -8.3603797e-04,  4.6333144e-03, -4.7809560e-02,  6.3083405e-03,\n",
       "         4.9088523e-04, -4.4955194e-04, -1.8104333e-02,  1.3597207e-02,\n",
       "         6.0001001e+00,  7.0001001e+00],\n",
       "       [-2.2167875e-02,  1.2536277e-02, -1.7687703e-02, -3.4533106e-03,\n",
       "        -9.7395561e-04, -3.9468765e-02, -5.0388258e-03, -5.2861206e-02,\n",
       "        -1.1303232e-02,  2.0371899e-03,  3.3693574e-02, -2.4683505e-02,\n",
       "        -5.8054896e-03,  6.1930665e-03,  1.0427003e-02,  4.1616924e-02,\n",
       "        -1.5383828e-02, -3.2544232e-03, -2.5327120e-02, -1.2492494e-02,\n",
       "         1.0001000e+00,  1.0000100e+01],\n",
       "       [-4.1911234e-03, -2.1382326e-02,  2.2324307e-02, -2.7237877e-02,\n",
       "        -3.2178011e-02,  2.3002455e-03,  8.8810585e-03, -4.1775783e-03,\n",
       "        -2.1771407e-03, -4.8314328e-03, -6.9652050e-04, -7.2319941e-03,\n",
       "         3.6515722e-03,  3.7923125e-03,  1.4353522e-02, -1.3905171e-02,\n",
       "         2.1384411e-02,  8.0052391e-03,  1.0051272e-02, -8.3712366e-05,\n",
       "         3.0000999e+00,  1.0001000e+00],\n",
       "       [-4.6851360e-03, -2.6658496e-02,  2.3727177e-02, -4.4710722e-02,\n",
       "        -3.5555456e-02,  5.8987434e-04,  4.9641971e-03, -5.0817900e-03,\n",
       "        -3.4699070e-03, -1.3401484e-03, -1.8579310e-02, -1.8398866e-02,\n",
       "         6.5504727e-03,  2.7638904e-03,  2.1280380e-02, -6.1360123e-03,\n",
       "         1.9883523e-02,  6.9567114e-03,  3.0264968e-02,  3.4094385e-03,\n",
       "         4.0001001e+00,  1.0000100e+01],\n",
       "       [-4.0815556e-03, -2.1441216e-02,  2.0187514e-02, -1.8101037e-02,\n",
       "        -3.3084545e-02,  1.9783156e-03,  1.2061572e-02,  5.3611257e-06,\n",
       "        -1.8473940e-02, -3.0445675e-03,  4.2965794e-03, -6.1851898e-03,\n",
       "        -1.6279216e-03, -7.1232617e-03, -2.3565523e-02, -7.6087648e-03,\n",
       "         3.2481069e-03, -9.5731067e-03, -2.6677027e-02,  1.7741676e-02,\n",
       "         1.0001000e+00,  1.6000099e+01]], dtype=float32)>,\n",
       "                 'per_arm': <tf.Tensor: shape=(8, 20, 21), dtype=float32, numpy=\n",
       "array([[[-2.45361007e-03, -2.92136287e-03, -5.75422216e-03, ...,\n",
       "         -4.81287250e-04, -2.11178837e-03,  1.00010002e+00],\n",
       "        [-3.05079102e-05, -3.14309873e-04,  1.38755247e-04, ...,\n",
       "         -1.36341993e-03, -4.51916800e-04,  9.99999975e-05],\n",
       "        [-3.79535579e-03, -3.25503119e-04,  5.68946963e-03, ...,\n",
       "         -1.94089692e-02, -1.90546121e-02,  4.00010014e+00],\n",
       "        ...,\n",
       "        [-1.11329940e-03,  1.43702328e-03,  2.02982780e-03, ...,\n",
       "          2.78853159e-03,  1.29813673e-02,  3.00009990e+00],\n",
       "        [-4.07728627e-02,  3.73689756e-02,  4.69364822e-02, ...,\n",
       "         -1.80372801e-02,  3.16854753e-02,  7.00010014e+00],\n",
       "        [-1.37804542e-03, -2.85017828e-04, -2.67751236e-03, ...,\n",
       "          5.52168535e-03,  3.16262455e-03,  9.99999975e-05]],\n",
       "\n",
       "       [[-1.20330823e-03, -4.98745264e-03,  1.50035985e-03, ...,\n",
       "         -9.95009579e-03,  4.25171480e-03,  5.00010014e+00],\n",
       "        [-1.68291898e-03, -1.32073625e-03, -4.95322561e-03, ...,\n",
       "          5.22100972e-03, -4.80568316e-03,  7.00010014e+00],\n",
       "        [-3.23382020e-02, -6.03822321e-02,  3.86517085e-02, ...,\n",
       "          5.63373119e-02,  2.24683322e-02,  9.99999975e-05],\n",
       "        ...,\n",
       "        [-2.24759593e-03, -2.71949032e-03,  9.98066831e-03, ...,\n",
       "         -5.07900119e-03,  8.86321254e-03,  9.99999975e-05],\n",
       "        [-9.20904786e-05, -2.85553942e-05, -1.99222864e-04, ...,\n",
       "         -1.73619163e-04, -1.20851997e-04,  1.50001001e+01],\n",
       "        [-2.91126333e-02, -3.90886003e-03, -3.06362808e-02, ...,\n",
       "          6.04755320e-02,  1.81077956e-03,  7.00010014e+00]],\n",
       "\n",
       "       [[-6.49211556e-03, -1.87542066e-02, -8.78968742e-03, ...,\n",
       "         -1.51654659e-02, -2.36299913e-02,  3.00009990e+00],\n",
       "        [-1.42169390e-02,  2.19279267e-02,  1.61169395e-02, ...,\n",
       "         -2.56459811e-03,  2.46088132e-02,  9.99999975e-05],\n",
       "        [-3.83604225e-03, -4.63060220e-04,  8.44266091e-04, ...,\n",
       "          7.53060158e-04,  5.40694175e-03,  7.00010014e+00],\n",
       "        ...,\n",
       "        [-2.20500771e-03, -5.73565811e-03,  8.58613476e-03, ...,\n",
       "         -9.98645835e-03,  1.04255800e-03,  9.99999975e-05],\n",
       "        [-8.82324353e-02,  3.06533072e-02,  1.75767783e-02, ...,\n",
       "         -3.41812405e-03, -3.69071998e-02,  9.99999975e-05],\n",
       "        [-3.38992081e-03,  3.99953499e-03,  9.26515460e-03, ...,\n",
       "          1.49930781e-03,  4.63056099e-03,  9.99999975e-05]],\n",
       "\n",
       "       ...,\n",
       "\n",
       "       [[-4.33196463e-02, -1.42904953e-03, -6.44150702e-03, ...,\n",
       "         -4.44425531e-02, -1.63391158e-02,  7.00010014e+00],\n",
       "        [-2.71668006e-03, -1.60325447e-03, -8.78070714e-05, ...,\n",
       "          2.88806227e-03, -7.07147643e-03,  7.00010014e+00],\n",
       "        [-3.99636710e-03, -1.01199951e-02,  7.84650911e-03, ...,\n",
       "         -1.56412758e-02,  1.05380290e-03,  4.00010014e+00],\n",
       "        ...,\n",
       "        [-2.07843888e-03, -4.74509830e-03,  4.31946618e-03, ...,\n",
       "         -1.23380814e-02, -3.30665614e-03,  1.00001001e+01],\n",
       "        [-3.13063711e-02,  4.16836672e-04, -9.87183955e-03, ...,\n",
       "         -1.77202765e-02, -1.57370660e-02,  7.00010014e+00],\n",
       "        [-1.76518485e-02, -3.04364171e-02, -1.84713025e-02, ...,\n",
       "         -1.92363989e-02, -2.81894952e-02,  7.00010014e+00]],\n",
       "\n",
       "       [[-1.06811300e-02,  1.81978494e-02,  1.93559676e-02, ...,\n",
       "          3.37250158e-02, -4.07577900e-04,  9.99999975e-05],\n",
       "        [-3.38634327e-02,  1.61442608e-02, -1.10798869e-02, ...,\n",
       "          1.74906440e-02, -1.60444509e-02,  4.00010014e+00],\n",
       "        [-9.57235534e-05,  2.19103051e-04, -2.45190895e-04, ...,\n",
       "          1.42034236e-03, -1.59646734e-03,  7.00010014e+00],\n",
       "        ...,\n",
       "        [-2.77776234e-02,  1.26524188e-03, -4.66899984e-02, ...,\n",
       "          2.93325458e-04,  2.61382945e-02,  1.00010002e+00],\n",
       "        [-6.34083117e-04, -4.70469211e-04, -1.21125160e-03, ...,\n",
       "          2.29137787e-03,  3.57117085e-03,  7.00010014e+00],\n",
       "        [-8.52288038e-04,  9.69147484e-04,  1.30425498e-03, ...,\n",
       "         -3.68028507e-03,  3.79158417e-04,  5.00010014e+00]],\n",
       "\n",
       "       [[-4.28768653e-05, -5.75652753e-04,  5.00363007e-04, ...,\n",
       "          2.61078618e-04, -3.10227653e-04,  7.00010014e+00],\n",
       "        [-7.59480172e-04, -1.38399715e-03,  4.63851867e-03, ...,\n",
       "         -5.15667070e-03,  1.70866144e-03,  4.00010014e+00],\n",
       "        [-4.05767420e-03, -6.32916577e-03,  9.61427484e-03, ...,\n",
       "         -2.26913430e-02, -2.29998287e-02,  9.99999975e-05],\n",
       "        ...,\n",
       "        [-5.37639891e-04, -5.24676405e-04, -7.10247376e-04, ...,\n",
       "         -3.04722297e-03, -5.76995197e-04,  9.99999975e-05],\n",
       "        [-8.30628350e-03,  8.67146906e-03, -1.03562595e-02, ...,\n",
       "         -7.58770155e-03,  3.17260064e-02,  1.00001001e+01],\n",
       "        [-9.89714358e-03, -1.74833331e-02, -1.80335995e-02, ...,\n",
       "         -1.06928870e-02, -6.26652502e-03,  1.00001001e+01]]],\n",
       "      dtype=float32)>},\n",
       " 'reward': <tf.Tensor: shape=(8,), dtype=float32, numpy=array([0., 0., 0., 0., 0., 0., 0., 0.], dtype=float32)>,\n",
       " 'step_type': <tf.Tensor: shape=(8,), dtype=int32, numpy=array([0, 0, 0, 0, 0, 0, 0, 0], dtype=int32)>})"
      ]
     },
     "execution_count": 123,
     "metadata": {},
     "output_type": "execute_result"
    }
   ],
   "source": [
    "import tf_agents\n",
    "\n",
    "time_step = tf_agents.trajectories.restart(\n",
    "    observation=observation_array,\n",
    "    batch_size=tf.convert_to_tensor([BATCH_SIZE]),\n",
    ")\n",
    "time_step"
   ]
  },
  {
   "cell_type": "code",
   "execution_count": 124,
   "id": "998fcca0-9388-4070-a8d2-aad4b4f594fe",
   "metadata": {},
   "outputs": [
    {
     "data": {
      "text/plain": [
       "PolicyStep(action=<tf.Tensor: shape=(8,), dtype=int32, numpy=array([18,  4, 18,  8, 18,  6, 17, 14], dtype=int32)>, state=(), info=PerArmPolicyInfo(log_probability=(), predicted_rewards_mean=(), multiobjective_scalarized_predicted_rewards_mean=(), predicted_rewards_optimistic=(), predicted_rewards_sampled=(), bandit_policy_type=(), chosen_arm_features=<tf.Tensor: shape=(8, 21), dtype=float32, numpy=\n",
       "array([[-4.07728627e-02,  3.73689756e-02,  4.69364822e-02,\n",
       "        -1.36779407e-02,  4.09221426e-02,  7.41495490e-02,\n",
       "         2.38642823e-02, -2.87586208e-02,  7.93194398e-02,\n",
       "        -9.33892429e-02, -6.31138384e-02,  1.45214591e-02,\n",
       "        -2.04371829e-02, -3.38719003e-02, -3.12873907e-02,\n",
       "         1.15584182e-02, -2.91644130e-03,  1.69797353e-02,\n",
       "        -1.80372801e-02,  3.16854753e-02,  7.00010014e+00],\n",
       "       [-9.31553021e-02,  2.30988413e-02, -4.64833453e-02,\n",
       "        -4.15738858e-03, -4.10822546e-03, -1.66582465e-02,\n",
       "         1.56104028e-01, -3.71573344e-02, -3.01199071e-02,\n",
       "         4.21681032e-02, -5.88604771e-02, -3.97748798e-02,\n",
       "        -1.11259654e-01, -6.23396151e-02, -2.41564102e-02,\n",
       "        -5.13379462e-02, -7.10714236e-03,  2.41655093e-02,\n",
       "        -4.31774668e-02, -5.73795289e-02,  9.99999975e-05],\n",
       "       [-8.82324353e-02,  3.06533072e-02,  1.75767783e-02,\n",
       "        -2.63533108e-02,  4.23102118e-02, -7.91078899e-03,\n",
       "        -2.85310466e-02, -2.10500672e-01, -3.11932191e-02,\n",
       "         1.74277946e-02, -5.03268540e-02,  8.78900662e-02,\n",
       "         5.81769198e-02,  4.17553261e-02, -6.89416006e-02,\n",
       "        -1.11602275e-02,  4.03245203e-02,  6.19316809e-02,\n",
       "        -3.41812405e-03, -3.69071998e-02,  9.99999975e-05],\n",
       "       [-8.08746293e-02,  2.10797470e-02, -5.09998389e-02,\n",
       "         3.92500013e-02, -8.19609091e-02, -9.39707160e-02,\n",
       "         1.74429733e-02, -1.10248290e-02,  4.30527329e-02,\n",
       "        -8.26750621e-02, -1.01708155e-02,  9.23709292e-03,\n",
       "        -7.84891173e-02,  3.73213142e-02,  3.32216322e-02,\n",
       "        -2.25259643e-02, -5.70911095e-02,  1.82144493e-02,\n",
       "        -3.97694632e-02, -2.91890115e-03,  9.99999975e-05],\n",
       "       [-6.10209629e-02, -1.24717616e-01,  8.87469724e-02,\n",
       "        -1.55724853e-01, -1.05198823e-01,  9.72299278e-03,\n",
       "         4.45707254e-02, -2.88579371e-02, -2.56256126e-02,\n",
       "        -9.74794757e-03, -5.66305108e-02,  7.25218430e-02,\n",
       "         5.90866338e-03,  2.20090114e-02,  2.44719416e-01,\n",
       "         1.16708688e-02,  2.19240606e-01, -4.08418961e-02,\n",
       "         1.14927888e-01,  7.58887967e-03,  9.99999975e-05],\n",
       "       [-7.84080848e-02,  2.04515178e-02, -5.14324717e-02,\n",
       "        -4.29082327e-02,  2.93800309e-02, -9.71257873e-03,\n",
       "         2.81866025e-02, -8.39408487e-02, -4.48698699e-02,\n",
       "         3.35951033e-03, -2.52580829e-02,  4.30716015e-02,\n",
       "         2.02637482e-02,  1.02797426e-01, -5.76781929e-02,\n",
       "        -5.67455366e-02, -1.36804464e-03, -6.83914870e-02,\n",
       "        -4.25246358e-03, -3.63940038e-02,  4.00010014e+00],\n",
       "       [-2.77776234e-02,  1.26524188e-03, -4.66899984e-02,\n",
       "        -1.90920681e-02, -3.14943530e-02, -1.72748454e-02,\n",
       "         1.15352524e-02,  4.15332019e-02,  5.71609139e-02,\n",
       "        -6.20739311e-02,  4.39759679e-02, -1.34277679e-02,\n",
       "         4.34905998e-02,  3.72010395e-02,  2.89525073e-02,\n",
       "        -6.74220920e-03,  2.95090303e-03, -1.65622737e-02,\n",
       "         2.93325458e-04,  2.61382945e-02,  1.00010002e+00],\n",
       "       [-6.36621118e-02, -1.32046521e-01,  2.51102913e-02,\n",
       "        -9.67510492e-02, -1.62268989e-02, -5.29066771e-02,\n",
       "         2.34329631e-03,  1.62236616e-02, -9.34461430e-02,\n",
       "         8.43402464e-03, -2.53591519e-02, -9.94303823e-02,\n",
       "        -4.57088985e-02,  9.00954474e-03, -2.06989780e-01,\n",
       "         4.35381010e-02,  2.56925914e-02, -9.26750805e-03,\n",
       "         8.94687511e-03,  1.20044626e-01,  9.99999975e-05]], dtype=float32)>))"
      ]
     },
     "execution_count": 124,
     "metadata": {},
     "output_type": "execute_result"
    }
   ],
   "source": [
    "action_step = trained_policy.action(time_step)\n",
    "action_step"
   ]
  },
  {
   "cell_type": "code",
   "execution_count": 125,
   "id": "467e46da-f9c1-4763-afee-4c398ac2bec1",
   "metadata": {},
   "outputs": [
    {
     "data": {
      "text/plain": [
       "[18, 4, 18, 8, 18, 6, 17, 14]"
      ]
     },
     "execution_count": 125,
     "metadata": {},
     "output_type": "execute_result"
    }
   ],
   "source": [
    "action_step = trained_policy.action(time_step)\n",
    "\n",
    "action_step.action.numpy().tolist()"
   ]
  },
  {
   "cell_type": "code",
   "execution_count": 126,
   "id": "335054a0-8e35-4429-9a5a-611c24a80a6a",
   "metadata": {},
   "outputs": [
    {
     "data": {
      "text/plain": [
       "[18, 4, 18, 8, 18, 6, 17, 14]"
      ]
     },
     "execution_count": 126,
     "metadata": {},
     "output_type": "execute_result"
    }
   ],
   "source": [
    "action_step = trained_policy.action(time_step)\n",
    "\n",
    "action_step.action.numpy().tolist()"
   ]
  },
  {
   "cell_type": "code",
   "execution_count": 127,
   "id": "2d0ea358-eb00-4ac8-b680-52c01bac54c4",
   "metadata": {},
   "outputs": [
    {
     "data": {
      "text/plain": [
       "[17, 3, 1, 19, 16, 6, 12, 5]"
      ]
     },
     "execution_count": 127,
     "metadata": {},
     "output_type": "execute_result"
    }
   ],
   "source": [
    "observation_array = environment._observe()\n",
    "\n",
    "time_step = tf_agents.trajectories.restart(\n",
    "    observation=observation_array,\n",
    "    batch_size=tf.convert_to_tensor([BATCH_SIZE]),\n",
    ")\n",
    "\n",
    "action_step = trained_policy.action(time_step)\n",
    "\n",
    "action_step.action.numpy().tolist()"
   ]
  },
  {
   "cell_type": "code",
   "execution_count": 128,
   "id": "0e9f0594-e466-4309-b478-39e5b78c2154",
   "metadata": {},
   "outputs": [
    {
     "data": {
      "text/plain": [
       "[14, 0, 13, 17, 1, 3, 3, 2]"
      ]
     },
     "execution_count": 128,
     "metadata": {},
     "output_type": "execute_result"
    }
   ],
   "source": [
    "observation_array = environment._observe()\n",
    "\n",
    "time_step = tf_agents.trajectories.restart(\n",
    "    observation=observation_array,\n",
    "    batch_size=tf.convert_to_tensor([BATCH_SIZE]),\n",
    ")\n",
    "\n",
    "action_step = trained_policy.action(time_step)\n",
    "\n",
    "action_step.action.numpy().tolist()"
   ]
  },
  {
   "cell_type": "markdown",
   "id": "d1f10523-3ad1-47f5-8e99-7d969520a948",
   "metadata": {
    "jp-MarkdownHeadingCollapsed": true,
    "tags": []
   },
   "source": [
    "### JT & JW sync 07/18"
   ]
  },
  {
   "cell_type": "code",
   "execution_count": null,
   "id": "75ca54ee-d193-4522-990c-823c7d122859",
   "metadata": {},
   "outputs": [],
   "source": [
    "environment._u_hat\n",
    "\n",
    "sampled_user_ages = np.ones(BATCH_SIZE)\n",
    "sampled_user_occ = np.ones(BATCH_SIZE)\n",
    "\n",
    "SAMPLED_USER_INDICES = np.random.randint(NUM_USERS, size=BATCH_SIZE)\n",
    "SAMPLED_USER_INDICES\n",
    "\n",
    "combined_user_features = np.concatenate(\n",
    "    (\n",
    "        environment._u_hat[SAMPLED_USER_INDICES]\n",
    "        , sampled_user_ages.reshape(-1,1)\n",
    "        , sampled_user_occ.reshape(-1,1)\n",
    "    )\n",
    "    , axis=1\n",
    ")\n",
    "\n",
    "combined_user_features\n",
    "\n",
    "###\n",
    "\n",
    "import random\n",
    "\n",
    "sampled_movie_indices = np.array([\n",
    "    random.sample(range(environment._num_movies), environment._num_actions)\n",
    "    for _ in range(environment._batch_size)\n",
    "])\n",
    "\n",
    "# current_users = combined_user_features.reshape([self.batch_size, self._rank_k+2])\n",
    "\n",
    "movie_index_vector = sampled_movie_indices.reshape(-1)\n",
    "\n",
    "flat_genre_list = environment._mov_gen_int[movie_index_vector] # shape of 1\n",
    "flat_movie_list = environment._v_hat[movie_index_vector]       # shape of 2\n",
    "\n",
    "combined_movie_features = np.concatenate(\n",
    "    (\n",
    "        flat_movie_list\n",
    "        , flat_genre_list.reshape(-1,1)\n",
    "    )\n",
    "    , axis=1\n",
    ")\n",
    "\n",
    "current_movies = combined_movie_features.reshape(\n",
    "    [environment._batch_size, environment._num_actions, environment._rank_k + 1]\n",
    ")\n",
    "current_movies\n",
    "###\n",
    "\n",
    "sampled_movie_indices.shape\n",
    "\n",
    "observation_array = environment._observe()\n",
    "\n",
    "time_step = tf_agents.trajectories.restart(\n",
    "    observation=observation_array,\n",
    "    batch_size=tf.convert_to_tensor([BATCH_SIZE]),\n",
    ")\n",
    "\n",
    "action_step = trained_policy.action(time_step)\n",
    "\n",
    "action_step_np = action_step.action.numpy().tolist()\n",
    "action_step_np\n",
    "\n",
    "action_step.action\n",
    "np.expand_dims(action_step.action, axis=-1)\n",
    "\n",
    "\n",
    "\n",
    "sampled_movie_indices[:,action_step.action]\n",
    "sampled_movie_indices[:,np.expand_dims(action_step.action, axis=-1)] # [:,action_step]"
   ]
  }
 ],
 "metadata": {
  "environment": {
   "kernel": "python3",
   "name": "tf2-gpu.2-11.m109",
   "type": "gcloud",
   "uri": "gcr.io/deeplearning-platform-release/tf2-gpu.2-11:m109"
  },
  "kernelspec": {
   "display_name": "Python 3",
   "language": "python",
   "name": "python3"
  },
  "language_info": {
   "codemirror_mode": {
    "name": "ipython",
    "version": 3
   },
   "file_extension": ".py",
   "mimetype": "text/x-python",
   "name": "python",
   "nbconvert_exporter": "python",
   "pygments_lexer": "ipython3",
   "version": "3.10.11"
  }
 },
 "nbformat": 4,
 "nbformat_minor": 5
}
