{
 "cells": [
  {
   "cell_type": "code",
   "execution_count": null,
   "metadata": {
    "id": "f11e1b3d"
   },
   "outputs": [],
   "source": [
    "# Copyright 2021 Google LLC\n",
    "#\n",
    "# Licensed under the Apache License, Version 2.0 (the \"License\");\n",
    "# you may not use this file except in compliance with the License.\n",
    "# You may obtain a copy of the License at\n",
    "#\n",
    "#     https://www.apache.org/licenses/LICENSE-2.0\n",
    "#\n",
    "# Unless required by applicable law or agreed to in writing, software\n",
    "# distributed under the License is distributed on an \"AS IS\" BASIS,\n",
    "# WITHOUT WARRANTIES OR CONDITIONS OF ANY KIND, either express or implied.\n",
    "# See the License for the specific language governing permissions and\n",
    "# limitations under the License."
   ]
  },
  {
   "cell_type": "markdown",
   "metadata": {
    "id": "aa8753fd"
   },
   "source": [
    "# Step by Step Guide to Building Reinforcement Learning Applications using Vertex AI"
   ]
  },
  {
   "cell_type": "markdown",
   "metadata": {
    "id": "b36aad4b"
   },
   "source": [
    "<table align=\"left\">\n",
    "\n",
    "  <td>\n",
    "    <a href=\"https://colab.research.google.com/github/GoogleCloudPlatform/vertex-ai-samples/tree/master/community-content/tf_agents_bandits_movie_recommendation_with_kfp_and_vertex_sdk/step_by_step_sdk_tf_agents_bandits_movie_recommendation/step_by_step_sdk_tf_agents_bandits_movie_recommendation.ipynb\">\n",
    "      <img src=\"https://cloud.google.com/ml-engine/images/colab-logo-32px.png\" alt=\"Colab logo\"> Run in Colab\n",
    "    </a>\n",
    "  </td>\n",
    "  <td>\n",
    "    <a href=\"https://github.com/GoogleCloudPlatform/vertex-ai-samples/tree/master/community-content/tf_agents_bandits_movie_recommendation_with_kfp_and_vertex_sdk/step_by_step_sdk_tf_agents_bandits_movie_recommendation/step_by_step_sdk_tf_agents_bandits_movie_recommendation.ipynb\">\n",
    "      <img src=\"https://cloud.google.com/ml-engine/images/github-logo-32px.png\" alt=\"GitHub logo\">\n",
    "      View on GitHub\n",
    "    </a>\n",
    "  </td>\n",
    "</table>"
   ]
  },
  {
   "cell_type": "markdown",
   "metadata": {
    "id": "a27e7ec1"
   },
   "source": [
    "## Overview\n",
    "This demo showcases the use of [TF-Agents](https://www.tensorflow.org/agents) and [Vertex AI](https://cloud.google.com/vertex-ai) in building a movie recommendation system with reinforcement learning. The demo is intended for developers interested in creating reinforcement learning applications using TensorFlow and the TF-Agents library, leveraging Vertex AI services (including custom training, custom prediction, model deployment over managed endpoints, and prediction fetching). It is recommended for developers to have familiarity with basic reinforcement learning theory, particularly the contextual bandits formulation, and the TF-Agents interface. Note that contextual bandits form a special case of RL, where the actions taken by the agent do not alter the state of the environment. “Contextual” refers to the fact that the agent chooses among a set of actions while having knowledge of the context (environment observation).\n",
    "\n",
    "### Dataset\n",
    "This demo uses the [MovieLens 100K](https://www.kaggle.com/prajitdatta/movielens-100k-dataset) dataset to simulate an environment with users and their respective preferences. It is available at `gs://cloud-samples-data/vertex-ai/community-content/tf_agents_bandits_movie_recommendation_with_kfp_and_vertex_sdk/u.data`.\n",
    "\n",
    "### Objective\n",
    "In this notebook, you will learn how to build a TF-Agents (particularly the bandits module) based reinforcement application using the custom training, custom prediction and endpoint deployment services of Vertex AI.\n",
    "For custom training, you will implement on-policy training, in which you actively interact with a simulation environment based on MovieLens to (1) obtain environment observations, (2) choose actions using the data-collecting policy given the observations, and (3) obtain environment feedback in the form of rewards that correspond to (1)(2). These pieces of data form the training data records. This process is different from off-policy training, where you do not necessarily have training data asscociated with the actual actions outputted by the policy.\n",
    "\n",
    "This demo consists of 2 main steps:\n",
    "1. Run locally with a [TF-Agents](https://www.tensorflow.org/agents) implementation.\n",
    "2. Execute in [Vertex AI](https://cloud.google.com/vertex-ai).\n",
    "\n",
    "In addition to the training, prediction and prediction workflow, the demo also showcases the following optimizations:\n",
    "1. Hyperparameter tuning with Vertex AI\n",
    "2. Profiling of the training process and resources with TensorBoard Profiler, which can inform designs for purposes like speed improvements, scaling\n",
    "\n",
    "This demo references code from [this TF-Agents example](https://github.com/tensorflow/agents/blob/master/tf_agents/bandits/agents/examples/v2/train_eval_movielens.py), [this Vertex AI SDK custom container training example](https://github.com/GoogleCloudPlatform/ai-platform-samples/blob/master/ai-platform-unified/notebooks/unofficial/sdk/AI_Platform_(Unified)_SDK_BigQuery_Custom_Container_Training.ipynb), and [this Vertex AI SDK custom container prediction example](https://github.com/GoogleCloudPlatform/ai-platform-samples/blob/master/ai-platform-unified/notebooks/unofficial/sdk/AI_Platform_(Unified)_SDK_Custom_Container_Prediction.ipynb).\n",
    "\n",
    "### Costs\n",
    "\n",
    "This tutorial uses billable components of Google Cloud:\n",
    "\n",
    "* Vertex AI\n",
    "* Cloud Build\n",
    "* Cloud Storage\n",
    "* Container Registry\n",
    "\n",
    "Learn about [Vertex AI\n",
    "pricing](https://cloud.google.com/vertex-ai/pricing), [Cloud Build pricing](https://cloud.google.com/build/pricing), [Cloud Storage\n",
    "pricing](https://cloud.google.com/storage/pricing), and [Container Registry pricing](https://cloud.google.com/container-registry/pricing) use the [Pricing\n",
    "Calculator](https://cloud.google.com/products/calculator/)\n",
    "to generate a cost estimate based on your projected usage."
   ]
  },
  {
   "cell_type": "markdown",
   "metadata": {
    "id": "8f78d1d3"
   },
   "source": [
    "### Set up your local development environment\n",
    "\n",
    "**If you are using Colab or Google Cloud Notebooks**, your environment already meets\n",
    "all the requirements to run this notebook. You can skip this step."
   ]
  },
  {
   "cell_type": "markdown",
   "metadata": {
    "id": "17c51ff4"
   },
   "source": [
    "**Otherwise**, make sure your environment meets this notebook's requirements.\n",
    "You need the following:\n",
    "\n",
    "* The Google Cloud SDK\n",
    "* Git\n",
    "* Python 3\n",
    "* virtualenv\n",
    "* Jupyter notebook running in a virtual environment with Python 3\n",
    "\n",
    "The Google Cloud guide to [Setting up a Python development\n",
    "environment](https://cloud.google.com/python/setup) and the [Jupyter\n",
    "installation guide](https://jupyter.org/install) provide detailed instructions\n",
    "for meeting these requirements. The following steps provide a condensed set of\n",
    "instructions:\n",
    "\n",
    "1. [Install and initialize the Cloud SDK.](https://cloud.google.com/sdk/docs/)\n",
    "\n",
    "1. [Install Python 3.](https://cloud.google.com/python/setup#installing_python)\n",
    "\n",
    "1. [Install\n",
    "   virtualenv](https://cloud.google.com/python/setup#installing_and_using_virtualenv)\n",
    "   and create a virtual environment that uses Python 3. Activate the virtual environment.\n",
    "\n",
    "1. To install Jupyter, run `pip3 install jupyter` on the\n",
    "command-line in a terminal shell.\n",
    "\n",
    "1. To launch Jupyter, run `jupyter notebook` on the command-line in a terminal shell.\n",
    "\n",
    "1. Open this notebook in the Jupyter Notebook Dashboard."
   ]
  },
  {
   "cell_type": "markdown",
   "metadata": {
    "id": "525895b8"
   },
   "source": [
    "### Install additional packages\n",
    "\n",
    "Install additional package dependencies not installed in your notebook environment, such as the AI Platform SDK and TF-Agents. Use the latest major GA version of each package."
   ]
  },
  {
   "cell_type": "code",
   "execution_count": 1,
   "metadata": {
    "id": "e36c4ded"
   },
   "outputs": [],
   "source": [
    "import os\n",
    "\n",
    "# The Google Cloud Notebook product has specific requirements\n",
    "IS_GOOGLE_CLOUD_NOTEBOOK = os.path.exists(\"/opt/deeplearning/metadata/env_version\")\n",
    "\n",
    "# Google Cloud Notebook requires dependencies to be installed with '--user'\n",
    "USER_FLAG = \"\"\n",
    "if IS_GOOGLE_CLOUD_NOTEBOOK:\n",
    "    USER_FLAG = \"--user\""
   ]
  },
  {
   "cell_type": "code",
   "execution_count": 6,
   "metadata": {},
   "outputs": [],
   "source": [
    "VERSION='v1'"
   ]
  },
  {
   "cell_type": "code",
   "execution_count": 3,
   "metadata": {
    "id": "ede5245e",
    "tags": []
   },
   "outputs": [],
   "source": [
    "# ! pip3 install {USER_FLAG} google-cloud-aiplatform\n",
    "# ! pip3 install {USER_FLAG} google-cloud-storage\n",
    "# ! pip3 install {USER_FLAG} numpy\n",
    "# ! pip3 install {USER_FLAG} cloudml-hypertune\n",
    "# ! pip3 install {USER_FLAG} --upgrade tensorflow\n",
    "# ! pip3 install {USER_FLAG} --upgrade pillow\n",
    "# ! pip3 install {USER_FLAG} --upgrade tf-agents\n",
    "# ! pip3 install {USER_FLAG} --upgrade tensorboard-plugin-profile"
   ]
  },
  {
   "cell_type": "markdown",
   "metadata": {
    "id": "ed24f0a0"
   },
   "source": [
    "### Restart the kernel\n",
    "\n",
    "After you install the additional packages, you need to restart the notebook kernel so it can find the packages."
   ]
  },
  {
   "cell_type": "code",
   "execution_count": 4,
   "metadata": {
    "id": "3ef50bba"
   },
   "outputs": [],
   "source": [
    "# Automatically restart kernel after installs\n",
    "import os\n",
    "\n",
    "if not os.getenv(\"IS_TESTING\"):\n",
    "    # Automatically restart kernel after installs\n",
    "    import IPython\n",
    "\n",
    "    app = IPython.Application.instance()\n",
    "    app.kernel.do_shutdown(True)"
   ]
  },
  {
   "cell_type": "markdown",
   "metadata": {
    "id": "a1c2d29f"
   },
   "source": [
    "## Before you begin\n",
    "\n",
    "### Select a GPU runtime\n",
    "\n",
    "**Make sure you're running this notebook in a GPU runtime if you have that option. In Colab, select \"Runtime --> Change runtime type > GPU\"**"
   ]
  },
  {
   "cell_type": "markdown",
   "metadata": {
    "id": "8c8c8359"
   },
   "source": [
    "### Set up your Google Cloud project\n",
    "\n",
    "**The following steps are required, regardless of your notebook environment.**\n",
    "\n",
    "1. [Select or create a Google Cloud project](https://console.cloud.google.com/cloud-resource-manager). When you first create an account, you get a $300 free credit towards your compute/storage costs.\n",
    "\n",
    "1. [Make sure that billing is enabled for your project](https://cloud.google.com/billing/docs/how-to/modify-project).\n",
    "\n",
    "1. [Enable the Vertex AI API, Cloud Build API, Cloud Storage API, and Container Registry API](https://console.cloud.google.com/flows/enableapi?apiid=aiplatform.googleapis.com,cloudbuild.googleapis.com,storage.googleapis.com,containerregistry.googleapis.com).\n",
    "\n",
    "1. If you are running this notebook locally, you will need to install the [Cloud SDK](https://cloud.google.com/sdk).\n",
    "\n",
    "1. Enter your project ID in the cell below. Then run the cell to make sure the\n",
    "Cloud SDK uses the right project for all the commands in this notebook.\n",
    "\n",
    "**Note**: Jupyter runs lines prefixed with `!` as shell commands, and it interpolates Python variables prefixed with `$` into these commands."
   ]
  },
  {
   "cell_type": "markdown",
   "metadata": {
    "id": "df1b5637"
   },
   "source": [
    "#### Set your project ID\n",
    "\n",
    "**If you don't know your project ID**, you may be able to get your project ID using `gcloud`."
   ]
  },
  {
   "cell_type": "code",
   "execution_count": 1,
   "metadata": {
    "id": "503e374c"
   },
   "outputs": [
    {
     "name": "stdout",
     "output_type": "stream",
     "text": [
      "Project ID:  hybrid-vertex\n"
     ]
    }
   ],
   "source": [
    "import os\n",
    "\n",
    "# Get your Google Cloud project ID from gcloud\n",
    "if not os.getenv(\"IS_TESTING\"):\n",
    "    shell_output = !gcloud config list --format 'value(core.project)' 2>/dev/null\n",
    "    PROJECT_ID = shell_output[0]\n",
    "    print(\"Project ID: \", PROJECT_ID)"
   ]
  },
  {
   "cell_type": "markdown",
   "metadata": {
    "id": "40209c4d"
   },
   "source": [
    "Otherwise, set your project ID here."
   ]
  },
  {
   "cell_type": "code",
   "execution_count": 2,
   "metadata": {
    "id": "2f665b78"
   },
   "outputs": [],
   "source": [
    "if PROJECT_ID == \"\" or PROJECT_ID is None:\n",
    "    PROJECT_ID = \"[your-project-id]\"  # @param {type:\"string\"}"
   ]
  },
  {
   "cell_type": "markdown",
   "metadata": {
    "id": "6d3d2d6b"
   },
   "source": [
    "#### Timestamp\n",
    "\n",
    "If you are in a live tutorial session, you might be using a shared test account or project. To avoid name collisions between users on resources created, you create a timestamp for each instance session, and append it onto the name of resources you create in this tutorial."
   ]
  },
  {
   "cell_type": "code",
   "execution_count": 3,
   "metadata": {
    "id": "9954b4b2"
   },
   "outputs": [],
   "source": [
    "from datetime import datetime\n",
    "\n",
    "TIMESTAMP = datetime.now().strftime(\"%Y%m%d%H%M%S\")"
   ]
  },
  {
   "cell_type": "markdown",
   "metadata": {
    "id": "ba11364f"
   },
   "source": [
    "### Authenticate your Google Cloud account\n",
    "\n",
    "**If you are using Google Cloud Notebooks**, your environment is already\n",
    "authenticated. Skip this step."
   ]
  },
  {
   "cell_type": "markdown",
   "metadata": {
    "id": "5620ef36"
   },
   "source": [
    "**If you are using Colab**, run the cell below and follow the instructions\n",
    "when prompted to authenticate your account via oAuth.\n",
    "\n",
    "**Otherwise**, follow these steps:\n",
    "\n",
    "1. In the Cloud Console, go to the [**Create service account key**\n",
    "   page](https://console.cloud.google.com/apis/credentials/serviceaccountkey).\n",
    "\n",
    "2. Click **Create service account**.\n",
    "\n",
    "3. In the **Service account name** field, enter a name, and\n",
    "   click **Create**.\n",
    "\n",
    "4. In the **Grant this service account access to project** section, click the **Role** drop-down list. Type \"Vertex AI\"\n",
    "into the filter box, and select\n",
    "   **Vertex AI Administrator**. Type \"Storage Object Admin\" into the filter box, and select **Storage Object Admin**.\n",
    "\n",
    "5. Click *Create*. A JSON file that contains your key downloads to your\n",
    "local environment.\n",
    "\n",
    "6. Enter the path to your service account key as the\n",
    "`GOOGLE_APPLICATION_CREDENTIALS` variable in the cell below and run the cell."
   ]
  },
  {
   "cell_type": "code",
   "execution_count": 4,
   "metadata": {
    "id": "de998f81"
   },
   "outputs": [],
   "source": [
    "import os\n",
    "import sys\n",
    "\n",
    "# If you are running this notebook in Colab, run this cell and follow the\n",
    "# instructions to authenticate your GCP account. This provides access to your\n",
    "# Cloud Storage bucket and lets you submit training jobs and prediction\n",
    "# requests.\n",
    "\n",
    "# The Google Cloud Notebook product has specific requirements\n",
    "IS_GOOGLE_CLOUD_NOTEBOOK = os.path.exists(\"/opt/deeplearning/metadata/env_version\")\n",
    "\n",
    "# If on Google Cloud Notebooks, then don't execute this code\n",
    "if not IS_GOOGLE_CLOUD_NOTEBOOK:\n",
    "    if \"google.colab\" in sys.modules:\n",
    "        from google.colab import auth as google_auth\n",
    "        google_auth.authenticate_user()\n",
    "\n",
    "    # If you are running this notebook locally, replace the string below with the\n",
    "    # path to your service account key and run this cell to authenticate your GCP\n",
    "    # account.\n",
    "    elif not os.getenv(\"IS_TESTING\"):\n",
    "        %env GOOGLE_APPLICATION_CREDENTIALS ''"
   ]
  },
  {
   "cell_type": "markdown",
   "metadata": {
    "id": "1275cce1"
   },
   "source": [
    "### Create a Cloud Storage bucket\n",
    "\n",
    "**The following steps are required, regardless of your notebook environment.**\n",
    "\n",
    "In this tutorial, a Cloud Storage bucket holds the MovieLens dataset files to be used for model\n",
    "training. Vertex AI also saves the trained model that results from your training job in the same\n",
    "bucket. Using this model artifact, you can then create Vertex AI model and endpoint resources in\n",
    "order to serve online predictions.\n",
    "\n",
    "Set the name of your Cloud Storage bucket below. It must be unique across all\n",
    "Cloud Storage buckets.\n",
    "\n",
    "You may also change the `REGION` variable, which is used for operations\n",
    "throughout the rest of this notebook. Make sure to [choose a region where Vertex AI services are\n",
    "available](https://cloud.google.com/vertex-ai/docs/general/locations#available_regions). You may\n",
    "not use a Multi-Regional Storage bucket for training with Vertex AI."
   ]
  },
  {
   "cell_type": "code",
   "execution_count": 7,
   "metadata": {
    "id": "a686c328"
   },
   "outputs": [],
   "source": [
    "BUCKET_NAME = f\"gs://tf-agents-bandits-{VERSION}\"  # @param {type:\"string\"} The bucket should be in same region as uCAIP. The bucket should not be multi-regional for custom training jobs to work.\n",
    "REGION = \"us-central1\"  # @param {type:\"string\"}"
   ]
  },
  {
   "cell_type": "code",
   "execution_count": 8,
   "metadata": {
    "id": "4acc461c"
   },
   "outputs": [],
   "source": [
    "if BUCKET_NAME == \"\" or BUCKET_NAME is None or BUCKET_NAME == \"gs://[your-bucket-name]\":\n",
    "    BUCKET_NAME = \"gs://\" + PROJECT_ID + \"aip-\" + TIMESTAMP"
   ]
  },
  {
   "cell_type": "markdown",
   "metadata": {
    "id": "443d5920"
   },
   "source": [
    "**Only if your bucket doesn't already exist**: Run the following cell to create your Cloud Storage bucket."
   ]
  },
  {
   "cell_type": "code",
   "execution_count": 14,
   "metadata": {
    "id": "2f75ab50"
   },
   "outputs": [
    {
     "name": "stdout",
     "output_type": "stream",
     "text": [
      "Creating gs://tf-agents-bandits-v1/...\n"
     ]
    }
   ],
   "source": [
    "! gsutil mb -l $REGION $BUCKET_NAME"
   ]
  },
  {
   "cell_type": "markdown",
   "metadata": {
    "id": "1d0bfd8d"
   },
   "source": [
    "Finally, validate access to your Cloud Storage bucket by examining its contents:"
   ]
  },
  {
   "cell_type": "code",
   "execution_count": 9,
   "metadata": {
    "id": "39a302fb"
   },
   "outputs": [
    {
     "name": "stdout",
     "output_type": "stream",
     "text": [
      "                                 gs://tf-agents-bandits-v1/artifacts/\n"
     ]
    }
   ],
   "source": [
    "! gsutil ls -al $BUCKET_NAME"
   ]
  },
  {
   "cell_type": "markdown",
   "metadata": {
    "id": "d5eee5de"
   },
   "source": [
    "### Import libraries and define constants"
   ]
  },
  {
   "cell_type": "code",
   "execution_count": null,
   "metadata": {},
   "outputs": [],
   "source": [
    "os.environ['TF_CPP_MIN_LOG_LEVEL'] = '2'"
   ]
  },
  {
   "cell_type": "code",
   "execution_count": 11,
   "metadata": {
    "id": "fcf2a9c4"
   },
   "outputs": [],
   "source": [
    "import functools\n",
    "import json\n",
    "import os\n",
    "from collections import defaultdict\n",
    "from typing import Callable, Dict, List, Optional, TypeVar\n",
    "\n",
    "import matplotlib.pyplot as plt\n",
    "import numpy as np\n",
    "\n",
    "import tensorflow as tf\n",
    "\n",
    "from google.cloud import aiplatform, storage\n",
    "\n",
    "from tf_agents.agents import TFAgent\n",
    "from tf_agents.bandits.agents import lin_ucb_agent\n",
    "from tf_agents.bandits.agents.examples.v2 import trainer\n",
    "from tf_agents.bandits.environments import (environment_utilities,\n",
    "                                            movielens_py_environment)\n",
    "from tf_agents.bandits.metrics import tf_metrics as tf_bandit_metrics\n",
    "from tf_agents.drivers import dynamic_step_driver\n",
    "from tf_agents.environments import TFEnvironment, tf_py_environment\n",
    "from tf_agents.eval import metric_utils\n",
    "from tf_agents.metrics import tf_metrics\n",
    "from tf_agents.metrics.tf_metric import TFStepMetric\n",
    "from tf_agents.policies import policy_saver\n",
    "\n",
    "if tf.__version__[0] != \"2\":\n",
    "    raise Exception(\"The trainer only runs with TensorFlow version 2.\")\n",
    "\n",
    "T = TypeVar(\"T\")"
   ]
  },
  {
   "cell_type": "code",
   "execution_count": 12,
   "metadata": {
    "id": "1b5689db"
   },
   "outputs": [],
   "source": [
    "ROOT_DIR = f\"{BUCKET_NAME}/artifacts\"  # @param {type:\"string\"} Root directory for writing logs/summaries/checkpoints.\n",
    "ARTIFACTS_DIR = f\"{BUCKET_NAME}/artifacts\"  # @param {type:\"string\"} Where the trained model will be saved and restored.\n",
    "PROFILER_DIR = f\"{BUCKET_NAME}/profiler\"  # @param {type:\"string\"} Directory for TensorBoard Profiler artifacts.\n",
    "DATA_PATH = f\"{BUCKET_NAME}/artifacts/u.data\"  # Location of the MovieLens 100K dataset's \"u.data\" file.\n",
    "RAW_BUCKET_NAME = BUCKET_NAME[5:]  # Remove the prefix `gs://`."
   ]
  },
  {
   "cell_type": "code",
   "execution_count": 13,
   "metadata": {
    "id": "347158a267fe"
   },
   "outputs": [
    {
     "name": "stdout",
     "output_type": "stream",
     "text": [
      "Copying gs://cloud-samples-data/vertex-ai/community-content/tf_agents_bandits_movie_recommendation_with_kfp_and_vertex_sdk/u.data [Content-Type=application/octet-stream]...\n",
      "/ [1 files][  1.9 MiB/  1.9 MiB]                                                \n",
      "Operation completed over 1 objects/1.9 MiB.                                      \n"
     ]
    }
   ],
   "source": [
    "# Copy the sample data into your DATA_PATH\n",
    "! gsutil cp \"gs://cloud-samples-data/vertex-ai/community-content/tf_agents_bandits_movie_recommendation_with_kfp_and_vertex_sdk/u.data\"  $DATA_PATH"
   ]
  },
  {
   "cell_type": "code",
   "execution_count": 14,
   "metadata": {
    "id": "a6cdf060"
   },
   "outputs": [],
   "source": [
    "# Set hyperparameters.\n",
    "BATCH_SIZE = 8  # @param {type:\"integer\"} Training and prediction batch size.\n",
    "TRAINING_LOOPS = 5  # @param {type:\"integer\"} Number of training iterations.\n",
    "STEPS_PER_LOOP = 2  # @param {type:\"integer\"} Number of driver steps per training iteration.\n",
    "\n",
    "# Set MovieLens simulation environment parameters.\n",
    "RANK_K = 20  # @param {type:\"integer\"} Rank for matrix factorization in the MovieLens environment; also the observation dimension.\n",
    "NUM_ACTIONS = 20  # @param {type:\"integer\"} Number of actions (movie items) to choose from.\n",
    "PER_ARM = False  # Use the non-per-arm version of the MovieLens environment.\n",
    "\n",
    "# Set agent parameters.\n",
    "TIKHONOV_WEIGHT = 0.001  # @param {type:\"number\"} LinUCB Tikhonov regularization weight.\n",
    "AGENT_ALPHA = 10.0  # @param {type:\"number\"} LinUCB exploration parameter that multiplies the confidence intervals."
   ]
  },
  {
   "cell_type": "markdown",
   "metadata": {
    "id": "a172d4ef"
   },
   "source": [
    "## Implement and execute locally (optional)"
   ]
  },
  {
   "cell_type": "markdown",
   "metadata": {
    "id": "c4554cda"
   },
   "source": [
    "### Define RL modules [locally]\n",
    "\n",
    "Define a [MovieLens-specific bandits environment](https://www.tensorflow.org/agents/api_docs/python/tf_agents/bandits/environments/movielens_py_environment/MovieLensPyEnvironment), a [Linear UCB agent](https://www.tensorflow.org/agents/api_docs/python/tf_agents/bandits/agents/lin_ucb_agent) and the [regret metric](https://www.tensorflow.org/agents/api_docs/python/tf_agents/bandits/metrics/tf_metrics/RegretMetric)."
   ]
  },
  {
   "cell_type": "code",
   "execution_count": 15,
   "metadata": {
    "id": "797db45e"
   },
   "outputs": [
    {
     "name": "stderr",
     "output_type": "stream",
     "text": [
      "2023-07-03 14:45:37.683228: I tensorflow/compiler/xla/stream_executor/cuda/cuda_gpu_executor.cc:996] successful NUMA node read from SysFS had negative value (-1), but there must be at least one NUMA node, so returning NUMA node zero. See more at https://github.com/torvalds/linux/blob/v6.0/Documentation/ABI/testing/sysfs-bus-pci#L344-L355\n",
      "2023-07-03 14:45:37.685354: I tensorflow/compiler/xla/stream_executor/cuda/cuda_gpu_executor.cc:996] successful NUMA node read from SysFS had negative value (-1), but there must be at least one NUMA node, so returning NUMA node zero. See more at https://github.com/torvalds/linux/blob/v6.0/Documentation/ABI/testing/sysfs-bus-pci#L344-L355\n",
      "2023-07-03 14:45:37.696471: I tensorflow/compiler/xla/stream_executor/cuda/cuda_gpu_executor.cc:996] successful NUMA node read from SysFS had negative value (-1), but there must be at least one NUMA node, so returning NUMA node zero. See more at https://github.com/torvalds/linux/blob/v6.0/Documentation/ABI/testing/sysfs-bus-pci#L344-L355\n",
      "2023-07-03 14:45:37.698678: I tensorflow/compiler/xla/stream_executor/cuda/cuda_gpu_executor.cc:996] successful NUMA node read from SysFS had negative value (-1), but there must be at least one NUMA node, so returning NUMA node zero. See more at https://github.com/torvalds/linux/blob/v6.0/Documentation/ABI/testing/sysf"
     ]
    },
    {
     "name": "stdout",
     "output_type": "stream",
     "text": [
      "TimeStep Spec (for each batch):\n",
      " TimeStep(\n",
      "{'discount': BoundedTensorSpec(shape=(), dtype=tf.float32, name='discount', minimum=array(0., dtype=float32), maximum=array(1., dtype=float32)),\n",
      " 'observation': TensorSpec(shape=(20,), dtype=tf.float64, name='observation'),\n",
      " 'reward': TensorSpec(shape=(), dtype=tf.float32, name='reward'),\n",
      " 'step_type': TensorSpec(shape=(), dtype=tf.int32, name='step_type')}) \n",
      "\n",
      "Action Spec (for each batch):\n",
      " BoundedTensorSpec(shape=(), dtype=tf.int32, name='action', minimum=array(0, dtype=int32), maximum=array(19, dtype=int32)) \n",
      "\n",
      "Reward Spec (for each batch):\n",
      " TensorSpec(shape=(), dtype=tf.float32, name='reward') \n",
      "\n"
     ]
    },
    {
     "name": "stderr",
     "output_type": "stream",
     "text": [
      "s-bus-pci#L344-L355\n",
      "2023-07-03 14:45:37.700590: I tensorflow/compiler/xla/stream_executor/cuda/cuda_gpu_executor.cc:996] successful NUMA node read from SysFS had negative value (-1), but there must be at least one NUMA node, so returning NUMA node zero. See more at https://github.com/torvalds/linux/blob/v6.0/Documentation/ABI/testing/sysfs-bus-pci#L344-L355\n",
      "2023-07-03 14:45:37.702552: I tensorflow/compiler/xla/stream_executor/cuda/cuda_gpu_executor.cc:996] successful NUMA node read from SysFS had negative value (-1), but there must be at least one NUMA node, so returning NUMA node zero. See more at https://github.com/torvalds/linux/blob/v6.0/Documentation/ABI/testing/sysfs-bus-pci#L344-L355\n",
      "2023-07-03 14:45:38.434763: I tensorflow/compiler/xla/stream_executor/cuda/cuda_gpu_executor.cc:996] successful NUMA node read from SysFS had negative value (-1), but there must be at least one NUMA node, so returning NUMA node zero. See more at https://github.com/torvalds/linux/blob/v6.0/Documentation/ABI/testing/sysfs-bus-pci#L344-L355\n",
      "2023-07-03 14:45:38.436295: I tensorflow/compiler/xla/stream_executor/cuda/cuda_gpu_executor.cc:996] successful NUMA node read from SysFS had negative value (-1), but there must be at least one NUMA node, so returning NUMA node zero. See more at https://github.com/torvalds/linux/blob/v6.0/Documentation/ABI/testing/sysfs-bus-pci#L344-L355\n",
      "2023-07-03 14:45:38.438077: I tensorflow/compiler/xla/stream_executor/cuda/cuda_gpu_executor.cc:996] successful NUMA node read from SysFS had negative value (-1), but there must be at least one NUMA node, so returning NUMA node zero. See more at https://github.com/torvalds/linux/blob/v6.0/Documentation/ABI/testing/sysfs-bus-pci#L344-L355\n",
      "2023-07-03 14:45:38.439426: I tensorflow/compiler/xla/stream_executor/cuda/cuda_gpu_executor.cc:996] successful NUMA node read from SysFS had negative value (-1), but there must be at least one NUMA node, so returning NUMA node zero. See more at https://github.com/torvalds/linux/blob/v6.0/Documentation/ABI/testing/sysfs-bus-pci#L344-L355\n",
      "2023-07-03 14:45:38.441010: I tensorflow/compiler/xla/stream_executor/cuda/cuda_gpu_executor.cc:996] successful NUMA node read from SysFS had negative value (-1), but there must be at least one NUMA node, so returning NUMA node zero. See more at https://github.com/torvalds/linux/blob/v6.0/Documentation/ABI/testing/sysfs-bus-pci#L344-L355\n",
      "2023-07-03 14:45:38.442387: I tensorflow/compiler/xla/stream_executor/cuda/cuda_gpu_executor.cc:996] successful NUMA node read from SysFS had negative value (-1), but there must be at least one NUMA node, so returning NUMA node zero. See more at https://github.com/torvalds/linux/blob/v6.0/Documentation/ABI/testing/sysfs-bus-pci#L344-L355\n",
      "2023-07-03 14:45:39.735026: I tensorflow/compiler/xla/stream_executor/cuda/cuda_gpu_executor.cc:996] successful NUMA node read from SysFS had negative value (-1), but there must be at least one NUMA node, so returning NUMA node zero. See more at https://github.com/torvalds/linux/blob/v6.0/Documentation/ABI/testing/sysfs-bus-pci#L344-L355\n",
      "2023-07-03 14:45:39.736692: I tensorflow/compiler/xla/stream_executor/cuda/cuda_gpu_executor.cc:996] successful NUMA node read from SysFS had negative value (-1), but there must be at least one NUMA node, so returning NUMA node zero. See more at https://github.com/torvalds/linux/blob/v6.0/Documentation/ABI/testing/sysfs-bus-pci#L344-L355\n",
      "2023-07-03 14:45:39.738606: I tensorflow/compiler/xla/stream_executor/cuda/cuda_gpu_executor.cc:996] successful NUMA node read from SysFS had negative value (-1), but there must be at least one NUMA node, so returning NUMA node zero. See more at https://github.com/torvalds/linux/blob/v6.0/Documentation/ABI/testing/sysfs-bus-pci#L344-L355\n",
      "2023-07-03 14:45:39.739958: I tensorflow/compiler/xla/stream_executor/cuda/cuda_gpu_executor.cc:996] successful NUMA node read from SysFS had negative value (-1), but there must be at least one NUMA node, so returning NUMA node zero. See more at https://github.com/torvalds/linux/blob/v6.0/Documentation/ABI/testing/sysfs-bus-pci#L344-L355\n",
      "2023-07-03 14:45:39.741568: I tensorflow/compiler/xla/stream_executor/cuda/cuda_gpu_executor.cc:996] successful NUMA node read from SysFS had negative value (-1), but there must be at least one NUMA node, so returning NUMA node zero. See more at https://github.com/torvalds/linux/blob/v6.0/Documentation/ABI/testing/sysfs-bus-pci#L344-L355\n",
      "2023-07-03 14:45:39.742909: I tensorflow/core/common_runtime/gpu/gpu_device.cc:1635] Created device /job:localhost/replica:0/task:0/device:GPU:0 with 512 MB memory:  -> device: 0, name: Tesla T4, pci bus id: 0000:00:04.0, compute capability: 7.5\n",
      "2023-07-03 14:45:39.743402: I tensorflow/compiler/xla/stream_executor/cuda/cuda_gpu_executor.cc:996] successful NUMA node read from SysFS had negative value (-1), but there must be at least one NUMA node, so returning NUMA node zero. See more at https://github.com/torvalds/linux/blob/v6.0/Documentation/ABI/testing/sysfs-bus-pci#L344-L355\n",
      "2023-07-03 14:45:39.745000: I tensorflow/core/common_runtime/gpu/gpu_device.cc:1635] Created device /job:localhost/replica:0/task:0/device:GPU:1 with 12721 MB memory:  -> device: 1, name: Tesla T4, pci bus id: 0000:00:05.0, compute capability: 7.5\n"
     ]
    }
   ],
   "source": [
    "# Define RL environment.\n",
    "env = movielens_py_environment.MovieLensPyEnvironment(\n",
    "    DATA_PATH, RANK_K, BATCH_SIZE, num_movies=NUM_ACTIONS, csv_delimiter=\"\\t\")\n",
    "environment = tf_py_environment.TFPyEnvironment(env)\n",
    "\n",
    "# Define RL agent/algorithm.\n",
    "agent = lin_ucb_agent.LinearUCBAgent(\n",
    "    time_step_spec=environment.time_step_spec(),\n",
    "    action_spec=environment.action_spec(),\n",
    "    tikhonov_weight=TIKHONOV_WEIGHT,\n",
    "    alpha=AGENT_ALPHA,\n",
    "    dtype=tf.float32,\n",
    "    accepts_per_arm_features=PER_ARM)\n",
    "print(\"TimeStep Spec (for each batch):\\n\", agent.time_step_spec, \"\\n\")\n",
    "print(\"Action Spec (for each batch):\\n\", agent.action_spec, \"\\n\")\n",
    "print(\"Reward Spec (for each batch):\\n\", environment.reward_spec(), \"\\n\")\n",
    "\n",
    "# Define RL metric.\n",
    "optimal_reward_fn = functools.partial(\n",
    "    environment_utilities.compute_optimal_reward_with_movielens_environment,\n",
    "    environment=environment)\n",
    "regret_metric = tf_bandit_metrics.RegretMetric(optimal_reward_fn)\n",
    "metrics = [regret_metric]"
   ]
  },
  {
   "cell_type": "markdown",
   "metadata": {
    "id": "5d59e7c7"
   },
   "source": [
    "### Train the model [locally]\n",
    "\n",
    "Define the training logic (on-policy training). The following function is the same as [trainer.train](https://github.com/tensorflow/agents/blob/r0.8.0/tf_agents/bandits/agents/examples/v2/trainer.py#L104), but it keeps track of intermediate metric values and saves different artifacts to different locations. You can also directly invoke [trainer.train](https://github.com/tensorflow/agents/blob/r0.8.0/tf_agents/bandits/agents/examples/v2/trainer.py#L104) which also trains the policy."
   ]
  },
  {
   "cell_type": "code",
   "execution_count": 29,
   "metadata": {
    "id": "3ba2b6e7"
   },
   "outputs": [],
   "source": [
    "def train(\n",
    "    root_dir: str,\n",
    "    agent: TFAgent,\n",
    "    environment: TFEnvironment,\n",
    "    training_loops: int,\n",
    "    steps_per_loop: int,\n",
    "    additional_metrics: Optional[List[TFStepMetric]] = None,\n",
    "    training_data_spec_transformation_fn: Optional[Callable[[T], T]] = None,\n",
    ") -> Dict[str, List[float]]:\n",
    "    \"\"\"Performs `training_loops` iterations of training on the agent's policy.\n",
    "\n",
    "    Uses the `environment` as the problem formulation and source of immediate\n",
    "    feedback and the agent's algorithm, to perform `training-loops` iterations\n",
    "    of on-policy training on the policy.\n",
    "    If one or more baseline_reward_fns are provided, the regret is computed\n",
    "    against each one of them. Here is example baseline_reward_fn:\n",
    "    def baseline_reward_fn(observation, per_action_reward_fns):\n",
    "        rewards = ... # compute reward for each arm\n",
    "        optimal_action_reward = ... # take the maximum reward\n",
    "        return optimal_action_reward\n",
    "\n",
    "    Args:\n",
    "        root_dir: Path to the directory where training artifacts are written.\n",
    "        agent: An instance of `TFAgent`.\n",
    "        environment: An instance of `TFEnvironment`.\n",
    "        training_loops: An integer indicating how many training loops should be run.\n",
    "        steps_per_loop: An integer indicating how many driver steps should be\n",
    "           executed and presented to the trainer during each training loop.\n",
    "        additional_metrics: Optional; list of metric objects to log, in addition to\n",
    "          default metrics `NumberOfEpisodes`, `AverageReturnMetric`, and\n",
    "          `AverageEpisodeLengthMetric`.\n",
    "        training_data_spec_transformation_fn: Optional; function that transforms\n",
    "          the data items before they get to the replay buffer.\n",
    "\n",
    "    Returns:\n",
    "        A dict mapping metric names (eg. \"AverageReturnMetric\") to a list of\n",
    "        intermediate metric values over `training_loops` iterations of training.\n",
    "    \"\"\"\n",
    "    if training_data_spec_transformation_fn is None:\n",
    "        data_spec = agent.policy.trajectory_spec\n",
    "    else:\n",
    "        data_spec = training_data_spec_transformation_fn(\n",
    "            agent.policy.trajectory_spec)\n",
    "    replay_buffer = trainer._get_replay_buffer(\n",
    "        data_spec\n",
    "        , environment.batch_size\n",
    "        ,steps_per_loop\n",
    "        , 1\n",
    "    )\n",
    "\n",
    "    # `step_metric` records the number of individual rounds of bandit interaction;\n",
    "    # that is, (number of trajectories) * batch_size.\n",
    "    step_metric = tf_metrics.EnvironmentSteps()\n",
    "    metrics = [\n",
    "        tf_metrics.NumberOfEpisodes(),\n",
    "        tf_metrics.AverageEpisodeLengthMetric(batch_size=environment.batch_size)\n",
    "    ]\n",
    "    if additional_metrics:\n",
    "        metrics += additional_metrics\n",
    "\n",
    "    if isinstance(environment.reward_spec(), dict):\n",
    "        metrics += [tf_metrics.AverageReturnMultiMetric(\n",
    "            reward_spec=environment.reward_spec(),\n",
    "            batch_size=environment.batch_size)]\n",
    "    else:\n",
    "        metrics += [\n",
    "            tf_metrics.AverageReturnMetric(batch_size=environment.batch_size)]\n",
    "\n",
    "    # Store intermediate metric results, indexed by metric names.\n",
    "    metric_results = defaultdict(list)\n",
    "\n",
    "    if training_data_spec_transformation_fn is not None:\n",
    "        def add_batch_fn(data): return replay_buffer.add_batch(training_data_spec_transformation_fn(data)) \n",
    "        \n",
    "    else:\n",
    "        add_batch_fn = replay_buffer.add_batch\n",
    "\n",
    "    observers = [add_batch_fn, step_metric] + metrics\n",
    "\n",
    "    driver = dynamic_step_driver.DynamicStepDriver(\n",
    "        env=environment,\n",
    "        policy=agent.collect_policy,\n",
    "        num_steps=steps_per_loop * environment.batch_size,\n",
    "        observers=observers)\n",
    "\n",
    "    # training_loop = trainer.get_training_loop_fn(\n",
    "    training_loop = trainer._get_training_loop(        # jt TODO\n",
    "        driver=driver\n",
    "        , replay_buffer=replay_buffer\n",
    "        , agent=agent\n",
    "        , steps=steps_per_loop\n",
    "        , async_steps_per_loop=1\n",
    "    )\n",
    "    saver = policy_saver.PolicySaver(agent.policy)\n",
    "\n",
    "    # for _ in range(training_loops):\n",
    "    for train_step in range(training_loops):\n",
    "        training_loop(    # JT TODO\n",
    "            train_step=train_step\n",
    "            , metrics=metrics\n",
    "        )\n",
    "        metric_utils.log_metrics(metrics)\n",
    "        for metric in metrics:\n",
    "            metric.tf_summaries(train_step=step_metric.result())\n",
    "            metric_results[type(metric).__name__].append(metric.result().numpy())\n",
    "    saver.save(root_dir)\n",
    "    return metric_results"
   ]
  },
  {
   "cell_type": "markdown",
   "metadata": {
    "id": "35fb761a"
   },
   "source": [
    "Train the RL policy and gather intermediate metric results. At the same time, use [TensorBoard Profiler](https://www.tensorflow.org/guide/profiler) to profile the training process and resources."
   ]
  },
  {
   "cell_type": "code",
   "execution_count": 28,
   "metadata": {},
   "outputs": [
    {
     "name": "stderr",
     "output_type": "stream",
     "text": [
      "2023-07-03 15:05:56.561089: I tensorflow/tsl/profiler/lib/profiler_session.cc:70] Profiler session collecting data.\n",
      "2023-07-03 15:05:56.561684: I tensorflow/compiler/xla/backends/profiler/gpu/cupti_tracer.cc:1813] CUPTI activity buffer flushed\n",
      "2023-07-03 15:05:56.618174: I tensorflow/compiler/xla/backends/profiler/gpu/cupti_collector.cc:541]  GpuTracer has collected 10 callback api events and 10 activity events. \n",
      "2023-07-03 15:05:56.622006: I tensorflow/tsl/profiler/lib/profiler_session.cc:131] Profiler session tear down.\n"
     ]
    }
   ],
   "source": [
    "tf.profiler.experimental.stop()"
   ]
  },
  {
   "cell_type": "code",
   "execution_count": 30,
   "metadata": {
    "id": "416255c2"
   },
   "outputs": [
    {
     "name": "stderr",
     "output_type": "stream",
     "text": [
      "2023-07-03 15:06:02.169085: I tensorflow/tsl/profiler/lib/profiler_session.cc:104] Profiler session initializing.\n",
      "2023-07-03 15:06:02.169130: I tensorflow/tsl/profiler/lib/profiler_session.cc:119] Profiler session started.\n",
      "2023-07-03 15:06:04.595149: I tensorflow/core/common_runtime/executor.cc:1197] [/device:CPU:0] (DEBUG INFO) Executor start aborting (this does not indicate an error and you can ignore this message): INVALID_ARGUMENT: You must feed a value for placeholder tensor 'arg_0' with dtype int32 and shape [8]\n",
      "\t [[{{node arg_0}}]]\n",
      "2023-07-03 15:06:04.595277: I tensorflow/core/common_runtime/executor.cc:1197] [/device:CPU:0] (DEBUG INFO) Executor start aborting (this does not indicate an error and you can ignore this message): INVALID_ARGUMENT: You must feed a value for placeholder tensor 'arg_0_3' with dtype int32 and shape [8]\n",
      "\t [[{{node arg_0_3}}]]\n"
     ]
    },
    {
     "name": "stdout",
     "output_type": "stream",
     "text": [
      "WARNING:tensorflow:5 out of the last 5 calls to <function TFStepMetric._update_state at 0x7fc87c6b6200> triggered tf.function retracing. Tracing is expensive and the excessive number of tracings could be due to (1) creating @tf.function repeatedly in a loop, (2) passing tensors with different shapes, (3) passing Python objects instead of tensors. For (1), please define your @tf.function outside of the loop. For (2), @tf.function has reduce_retracing=True option that can avoid unnecessary retracing. For (3), please refer to https://www.tensorflow.org/guide/function#controlling_retracing and https://www.tensorflow.org/api_docs/python/tf/function for  more details.\n"
     ]
    },
    {
     "name": "stderr",
     "output_type": "stream",
     "text": [
      "2023-07-03 15:06:05.876833: I tensorflow/core/common_runtime/executor.cc:1197] [/device:CPU:0] (DEBUG INFO) Executor start aborting (this does not indicate an error and you can ignore this message): INVALID_ARGUMENT: You must feed a value for placeholder tensor 'Placeholder/_8' with dtype resource\n",
      "\t [[{{node Placeholder/_8}}]]\n",
      "2023-07-03 15:06:05.877194: I tensorflow/core/common_runtime/executor.cc:1197] [/device:CPU:0] (DEBUG INFO) Executor start aborting (this does not indicate an error and you can ignore this message): INVALID_ARGUMENT: You must feed a value for placeholder tensor 'Placeholder/_12' with dtype resource\n",
      "\t [[{{node Placeholder/_12}}]]\n",
      "2023-07-03 15:06:07.081751: I tensorflow/core/common_runtime/executor.cc:1197] [/device:CPU:0] (DEBUG INFO) Executor start aborting (this does not indicate an error and you can ignore this message): INVALID_ARGUMENT: You must feed a value for placeholder tensor 'Placeholder/_12' with dtype resource\n",
      "\t [[{{node Placeholder/_12}}]]\n",
      "2023-07-03 15:06:07.082255: I tensorflow/core/common_runtime/executor.cc:1197] [/device:CPU:0] (DEBUG INFO) Executor start aborting (this does not indicate an error and you can ignore this message): INVALID_ARGUMENT: You must feed a value for placeholder tensor 'Placeholder/_11' with dtype resource\n",
      "\t [[{{node Placeholder/_11}}]]\n",
      "2023-07-03 15:06:08.255170: I tensorflow/core/common_runtime/executor.cc:1197] [/device:CPU:0] (DEBUG INFO) Executor start aborting (this does not indicate an error and you can ignore this message): INVALID_ARGUMENT: You must feed a value for placeholder tensor 'Placeholder/_5' with dtype resource\n",
      "\t [[{{node Placeholder/_5}}]]\n",
      "2023-07-03 15:06:08.255538: I tensorflow/core/common_runtime/executor.cc:1197] [/device:CPU:0] (DEBUG INFO) Executor start aborting (this does not indicate an error and you can ignore this message): INVALID_ARGUMENT: You must feed a value for placeholder tensor 'Placeholder/_12' with dtype resource\n",
      "\t [[{{node Placeholder/_12}}]]\n",
      "2023-07-03 15:06:09.459705: I tensorflow/core/common_runtime/executor.cc:1197] [/device:CPU:0] (DEBUG INFO) Executor start aborting (this does not indicate an error and you can ignore this message): INVALID_ARGUMENT: You must feed a value for placeholder tensor 'Placeholder/_10' with dtype resource\n",
      "\t [[{{node Placeholder/_10}}]]\n",
      "2023-07-03 15:06:09.460146: I tensorflow/core/common_runtime/executor.cc:1197] [/device:CPU:0] (DEBUG INFO) Executor start aborting (this does not indicate an error and you can ignore this message): INVALID_ARGUMENT: You must feed a value for placeholder tensor 'Placeholder/_9' with dtype resource\n",
      "\t [[{{node Placeholder/_9}}]]\n",
      "2023-07-03 15:06:10.641860: I tensorflow/core/common_runtime/executor.cc:1197] [/device:CPU:0] (DEBUG INFO) Executor start aborting (this does not indicate an error and you can ignore this message): INVALID_ARGUMENT: You must feed a value for placeholder tensor 'Placeholder/_5' with dtype resource\n",
      "\t [[{{node Placeholder/_5}}]]\n",
      "2023-07-03 15:06:10.642284: I tensorflow/core/common_runtime/executor.cc:1197] [/device:CPU:0] (DEBUG INFO) Executor start aborting (this does not indicate an error and you can ignore this message): INVALID_ARGUMENT: You must feed a value for placeholder tensor 'Placeholder/_9' with dtype resource\n",
      "\t [[{{node Placeholder/_9}}]]\n",
      "WARNING:absl:Function `function_with_signature` contains input name(s) 0/step_type, 0/reward, 0/discount, 0/observation with unsupported characters which will be renamed to step_type, reward, discount, observation in the SavedModel.\n",
      "WARNING:absl:`0/step_type` is not a valid tf.function parameter name. Sanitizing to `arg_0_step_type`.\n",
      "WARNING:absl:`0/reward` is not a valid tf.function parameter name. Sanitizing to `arg_0_reward`.\n",
      "WARNING:absl:`0/discount` is not a valid tf.function parameter name. Sanitizing to `arg_0_discount`.\n",
      "WARNING:absl:`0/observation` is not a valid tf.function parameter name. Sanitizing to `arg_0_observation`.\n",
      "WARNING:absl:`0/step_type` is not a valid tf.function parameter name. Sanitizing to `arg_0_step_type`.\n",
      "/home/jupyter/.local/lib/python3.10/site-packages/tensorflow/python/saved_model/nested_structure_coder.py:497: UserWarning: Encoding a StructuredValue with type tfp.distributions.Deterministic_ACTTypeSpec; loading this StructuredValue will require that this type be imported and registered.\n",
      "  warnings.warn(\"Encoding a StructuredValue with type %s; loading this \"\n"
     ]
    },
    {
     "name": "stdout",
     "output_type": "stream",
     "text": [
      "INFO:tensorflow:Assets written to: gs://tf-agents-bandits-v1/artifacts/assets\n"
     ]
    },
    {
     "name": "stderr",
     "output_type": "stream",
     "text": [
      "INFO:tensorflow:Assets written to: gs://tf-agents-bandits-v1/artifacts/assets\n",
      "2023-07-03 15:06:15.946800: I tensorflow/tsl/profiler/lib/profiler_session.cc:70] Profiler session collecting data.\n",
      "2023-07-03 15:06:15.952745: I tensorflow/compiler/xla/backends/profiler/gpu/cupti_tracer.cc:1813] CUPTI activity buffer flushed\n",
      "2023-07-03 15:06:16.699966: I tensorflow/compiler/xla/backends/profiler/gpu/cupti_collector.cc:541]  GpuTracer has collected 126279 callback api events and 125771 activity events. \n",
      "2023-07-03 15:06:17.441346: I tensorflow/tsl/profiler/lib/profiler_session.cc:131] Profiler session tear down.\n"
     ]
    }
   ],
   "source": [
    "tf.profiler.experimental.start(PROFILER_DIR)\n",
    "\n",
    "metric_results = train(\n",
    "    root_dir=ROOT_DIR,\n",
    "    agent=agent,\n",
    "    environment=environment,\n",
    "    training_loops=TRAINING_LOOPS,\n",
    "    steps_per_loop=STEPS_PER_LOOP,\n",
    "    additional_metrics=metrics\n",
    ")\n",
    "\n",
    "tf.profiler.experimental.stop()"
   ]
  },
  {
   "cell_type": "markdown",
   "metadata": {
    "id": "9b8cd364"
   },
   "source": [
    "### Evaluate RL metrics [locally]\n",
    "\n",
    "You can visualize how the regret and average return metrics evolve over training steps."
   ]
  },
  {
   "cell_type": "code",
   "execution_count": 31,
   "metadata": {
    "id": "02da0069"
   },
   "outputs": [],
   "source": [
    "def plot(metric_results, metric_name):\n",
    "    plt.plot(metric_results[metric_name])\n",
    "    plt.ylabel(metric_name)\n",
    "    plt.xlabel(\"Step\")\n",
    "    plt.title(\"{} versus Step\".format(metric_name))"
   ]
  },
  {
   "cell_type": "code",
   "execution_count": 32,
   "metadata": {
    "id": "37c36cb2"
   },
   "outputs": [
    {
     "data": {
      "image/png": "[encoded data removed]",
      "text/plain": [
       "<Figure size 640x480 with 1 Axes>"
      ]
     },
     "metadata": {},
     "output_type": "display_data"
    }
   ],
   "source": [
    "plot(metric_results, \"RegretMetric\")"
   ]
  },
  {
   "cell_type": "code",
   "execution_count": 33,
   "metadata": {
    "id": "c58d38a2"
   },
   "outputs": [
    {
     "data": {
      "image/png": "[encoded data removed]",
      "text/plain": [
       "<Figure size 640x480 with 1 Axes>"
      ]
     },
     "metadata": {},
     "output_type": "display_data"
    }
   ],
   "source": [
    "plot(metric_results, \"AverageReturnMetric\")"
   ]
  },
  {
   "cell_type": "markdown",
   "metadata": {
    "id": "df762eee"
   },
   "source": [
    "### Profile training [optional]\n",
    "\n",
    "Load [TensorBoard Profiler](https://www.tensorflow.org/guide/profiler) artifacts for the training process and resources. Visualize information such as operation statistics on different devices, operation tracing, and so on [1]. These pieces of information can enable you to identitfy bottlenecks in training performance and can inform you on potential improvements in speed and/or scalability."
   ]
  },
  {
   "cell_type": "code",
   "execution_count": 34,
   "metadata": {
    "id": "ab99a957"
   },
   "outputs": [],
   "source": [
    "# # If on Google Cloud Notebooks, then don't execute this code.\n",
    "# if not IS_GOOGLE_CLOUD_NOTEBOOK:\n",
    "#     if \"google.colab\" in sys.modules:\n",
    "\n",
    "#         # Load the TensorBoard notebook extension.\n",
    "#         %load_ext tensorboard"
   ]
  },
  {
   "cell_type": "code",
   "execution_count": 35,
   "metadata": {
    "id": "6c51d88c"
   },
   "outputs": [],
   "source": [
    "# # If on Google Cloud Notebooks, then don't execute this code.\n",
    "# if not IS_GOOGLE_CLOUD_NOTEBOOK:\n",
    "#     if \"google.colab\" in sys.modules:\n",
    "\n",
    "#         %tensorboard --logdir $PROFILER_DIR"
   ]
  },
  {
   "cell_type": "markdown",
   "metadata": {
    "id": "7abd938a"
   },
   "source": [
    "[1] For Google Cloud Notebooks, you can do the following:\n",
    "\n",
    "1. Open [Cloud Shell](https://cloud.google.com/shell) from the GCP Console.\n",
    "2. Install dependencies: `pip3 install tensorflow==2.5.0 tensorboard-plugin-profile==2.5.0`.\n",
    "3. Run the following command: `tensorboard --logdir <PROFILER_DIR>`. You will see a message \"TensorBoard 2.5.0 at http://localhost:<PORT\\>/ (Press CTRL+C to quit)\" as the output. Take note of the port number.\n",
    "4. You can click on the [Web Preview](https://cloud.google.com/shell/docs/using-web-preview) button and view the TensorBoard dashboard and profiling results. You need to configure Web Preview's port to be the same port as you receive from step 3."
   ]
  },
  {
   "cell_type": "code",
   "execution_count": 39,
   "metadata": {},
   "outputs": [
    {
     "data": {
      "text/plain": [
       "'gs://tf-agents-bandits-v1/profiler'"
      ]
     },
     "execution_count": 39,
     "metadata": {},
     "output_type": "execute_result"
    }
   ],
   "source": [
    "PROFILER_DIR"
   ]
  },
  {
   "cell_type": "code",
   "execution_count": 37,
   "metadata": {},
   "outputs": [],
   "source": [
    "%load_ext tensorboard\n",
    "# %reload_ext tensorboard"
   ]
  },
  {
   "cell_type": "code",
   "execution_count": 38,
   "metadata": {},
   "outputs": [
    {
     "data": {
      "text/html": [
       "\n",
       "      <iframe id=\"tensorboard-frame-55773d3d974712d\" width=\"100%\" height=\"800\" frameborder=\"0\">\n",
       "      </iframe>\n",
       "      <script>\n",
       "        (function() {\n",
       "          const frame = document.getElementById(\"tensorboard-frame-55773d3d974712d\");\n",
       "          const url = new URL(\"/proxy/6006/\", window.location);\n",
       "          const port = 0;\n",
       "          if (port) {\n",
       "            url.port = port;\n",
       "          }\n",
       "          frame.src = url;\n",
       "        })();\n",
       "      </script>\n",
       "    "
      ],
      "text/plain": [
       "<IPython.core.display.HTML object>"
      ]
     },
     "metadata": {},
     "output_type": "display_data"
    }
   ],
   "source": [
    "%tensorboard --logdir=$PROFILER_DIR\n",
    "# tensorboard --logdir=gs://tf-agents-bandits-v1/profiler"
   ]
  },
  {
   "cell_type": "markdown",
   "metadata": {
    "id": "18f04365"
   },
   "source": [
    "## Execute in Vertex AI\n",
    "\n",
    "This section consists of the following steps:\n",
    "1.   Run unit tests on `policy_util` and `task` modules\n",
    "2.   Create hyperparameter tuning and training custom container\n",
    "3.   Submit hyperparameter tuning job [optional]\n",
    "4.   Create custom prediction container\n",
    "5.   Submit custom container training job\n",
    "6.   Deploy trained model to Endpoint\n",
    "7.   Predict on the Endpoint"
   ]
  },
  {
   "cell_type": "markdown",
   "metadata": {
    "id": "db60f0d0"
   },
   "source": [
    "### Run unit tests on `policy_util` and `task` modules\n",
    "\n",
    "Run unit tests on the modules in `src/training/`.\n",
    "\n",
    "Locate the tests in `src/tests/`, and fill in the configurations that are marked with \"FILL IN\" in the test files."
   ]
  },
  {
   "cell_type": "code",
   "execution_count": 56,
   "metadata": {},
   "outputs": [],
   "source": [
    "from numba import cuda \n",
    "device = cuda.get_current_device()\n",
    "device.reset()"
   ]
  },
  {
   "cell_type": "code",
   "execution_count": 57,
   "metadata": {},
   "outputs": [
    {
     "data": {
      "text/plain": [
       "14"
      ]
     },
     "execution_count": 57,
     "metadata": {},
     "output_type": "execute_result"
    }
   ],
   "source": [
    "import gc\n",
    "gc.collect()"
   ]
  },
  {
   "cell_type": "code",
   "execution_count": 112,
   "metadata": {
    "id": "262fc060"
   },
   "outputs": [],
   "source": [
    "# ! python3 -m unittest src/tests/test_policy_util.py"
   ]
  },
  {
   "cell_type": "code",
   "execution_count": 113,
   "metadata": {
    "id": "b60196e2"
   },
   "outputs": [],
   "source": [
    "# ! python3 -m unittest src/tests/test_task.py"
   ]
  },
  {
   "cell_type": "markdown",
   "metadata": {
    "id": "3726c506"
   },
   "source": [
    "### Create hyperparameter tuning and training custom container\n",
    "\n",
    "Create a custom container that can be used for both hyperparameter tuning and training. The associated source code is in `src/training/`. This serves as the inner script of the custom container.\n",
    "As before, the training function is the same as [trainer.train](https://github.com/tensorflow/agents/blob/r0.8.0/tf_agents/bandits/agents/examples/v2/trainer.py#L104), but it keeps track of intermediate metric values, supports hyperparameter tuning, and (for training) saves artifacts to different locations. The training logic for hyperparameter tuning and training is the same.\n",
    "\n",
    "#### Execute hyperparameter tuning:\n",
    "- The code does not save model artifacts. It takes in command-line arguments as hyperparameter values from the Vertex AI Hyperparameter Tuning service, and reports training result metric to Vertex AI at each trial using cloudml-hypertune.\n",
    "- Note that if you decide to save model artifacts, saving them to the same directory may cause overwriting errors if you use parallel trials in the hyperparameter tuning job. The recommended approach is to save each trial's artifacts to a different sub-directory. This would also allow you to recover all the artifacts from different trials and can potentially save you from re-training.\n",
    "- Read more about hyperparameter tuning for custom containers [here](https://cloud.google.com/vertex-ai/docs/training/containers-overview#hyperparameter_tuning_with_custom_containers); read about hyperparameter tuning support [here](https://cloud.google.com/vertex-ai/docs/training/hyperparameter-tuning-overview).\n",
    "\n",
    "#### Execute training:\n",
    "- The code saves model artifacts to `os.environ[\"AIP_MODEL_DIR\"]` in addition to `ARTIFACTS_DIR`, as required [here](https://github.com/googleapis/python-aiplatform/blob/v0.8.0/google/cloud/aiplatform/training_jobs.py#L2202).\n",
    "- If you want to make changes to the function, make sure to still save the trained policy as a SavedModel to clean directories, and avoid saving checkpoints and other artifacts, so that deploying the model to endpoints works."
   ]
  },
  {
   "cell_type": "code",
   "execution_count": 42,
   "metadata": {
    "id": "bc407245"
   },
   "outputs": [],
   "source": [
    "HPTUNING_TRAINING_CONTAINER = \"hptuning-training-custom-container\"  # @param {type:\"string\"} Name of the container image."
   ]
  },
  {
   "cell_type": "markdown",
   "metadata": {
    "id": "0cb2b0eb"
   },
   "source": [
    "#### Create a Cloud Build YAML file\n",
    "\n",
    "Use [Kaniko](https://github.com/GoogleContainerTools/kaniko) to build the hyperparameter-tuning/training container. You can apply caching and specify the build machine type. Alternatively, you can also use Docker build."
   ]
  },
  {
   "cell_type": "code",
   "execution_count": 43,
   "metadata": {
    "id": "29bd8084"
   },
   "outputs": [],
   "source": [
    "cloudbuild_yaml = \"\"\"steps:\n",
    "- name: 'gcr.io/kaniko-project/executor:latest'\n",
    "  args: ['--destination=gcr.io/{PROJECT_ID}/{HPTUNING_TRAINING_CONTAINER}:latest',\n",
    "         '--cache=true',\n",
    "         '--cache-ttl=99h']\n",
    "options:\n",
    "  machineType: 'E2_HIGHCPU_8'\"\"\".format(\n",
    "    PROJECT_ID=PROJECT_ID,\n",
    "    HPTUNING_TRAINING_CONTAINER=HPTUNING_TRAINING_CONTAINER,\n",
    ")\n",
    "\n",
    "with open(\"cloudbuild.yaml\", \"w\") as fp:\n",
    "    fp.write(cloudbuild_yaml)"
   ]
  },
  {
   "cell_type": "markdown",
   "metadata": {
    "id": "eb8520d3"
   },
   "source": [
    "#### Write a Dockerfile\n",
    "\n",
    "- Use the [cloudml-hypertune](https://github.com/GoogleCloudPlatform/cloudml-hypertune) Python package to report training metrics to Vertex AI for hyperparameter tuning.\n",
    "- Use the Google [Cloud Storage client library](https://cloud.google.com/storage/docs/reference/libraries) to read the best hyperparameters learned from a previous hyperarameter tuning job during training."
   ]
  },
  {
   "cell_type": "code",
   "execution_count": 70,
   "metadata": {
    "id": "7105edd4"
   },
   "outputs": [
    {
     "name": "stdout",
     "output_type": "stream",
     "text": [
      "Overwriting Dockerfile\n"
     ]
    }
   ],
   "source": [
    "%%writefile Dockerfile\n",
    "\n",
    "# Specifies base image and tag.\n",
    "FROM gcr.io/google-appengine/python\n",
    "WORKDIR /root\n",
    "\n",
    "# Installs additional packages.\n",
    "RUN pip3 install cloudml-hypertune==0.1.0.dev6\n",
    "RUN pip3 install google-cloud-storage==1.39.0\n",
    "RUN pip3 install tensorflow==2.5.0\n",
    "RUN pip3 install tensorboard-plugin-profile==2.5.0\n",
    "RUN pip3 install tf-agents==0.8.0\n",
    "RUN pip3 install matplotlib==3.4.2\n",
    "RUN pip3 install urllib3==1.26.6 \n",
    "\n",
    "####\n",
    "# google-cloud-aiplatform>=1.26.1\n",
    "# tensorflow-recommenders==0.7.2\n",
    "# tensorboard==2.10.1\n",
    "# tensorboard-data-server==0.6.1\n",
    "# tensorboard-plugin-profile==2.11.1\n",
    "# tensorflow-io==0.27.0\n",
    "# google-cloud-aiplatform[cloud_profiler]>=1.26.1\n",
    "\n",
    "# Copies training code to the Docker image.\n",
    "COPY src/training /root/src/training\n",
    "\n",
    "# Sets up the entry point to invoke the task.\n",
    "ENTRYPOINT [\"python3\", \"-m\", \"src.training.task\"]"
   ]
  },
  {
   "cell_type": "markdown",
   "metadata": {
    "id": "e8dcc653"
   },
   "source": [
    "#### Build the custom container with Cloud Build"
   ]
  },
  {
   "cell_type": "code",
   "execution_count": 71,
   "metadata": {
    "collapsed": true,
    "id": "313967e3",
    "jupyter": {
     "outputs_hidden": true
    },
    "tags": []
   },
   "outputs": [
    {
     "name": "stdout",
     "output_type": "stream",
     "text": [
      "Creating temporary tarball archive of 17 file(s) totalling 398.3 KiB before compression.\n",
      "Uploading tarball of [.] to [gs://hybrid-vertex_cloudbuild/source/1688399007.550035-0f50253998ca461580227dd56dec7cc4.tgz]\n",
      "Created [https://cloudbuild.googleapis.com/v1/projects/hybrid-vertex/locations/global/builds/55af5934-80f2-476f-8d16-3ae5c6527d9f].\n",
      "Logs are available at [ https://console.cloud.google.com/cloud-build/builds/55af5934-80f2-476f-8d16-3ae5c6527d9f?project=934903580331 ].\n",
      "----------------------------- REMOTE BUILD OUTPUT ------------------------------\n",
      "starting build \"55af5934-80f2-476f-8d16-3ae5c6527d9f\"\n",
      "\n",
      "FETCHSOURCE\n",
      "Fetching storage object: gs://hybrid-vertex_cloudbuild/source/1688399007.550035-0f50253998ca461580227dd56dec7cc4.tgz#1688399007788579\n",
      "Copying gs://hybrid-vertex_cloudbuild/source/1688399007.550035-0f50253998ca461580227dd56dec7cc4.tgz#1688399007788579...\n",
      "/ [1 files][157.1 KiB/157.1 KiB]                                                \n",
      "Operation completed over 1 objects/157.1 KiB.\n",
      "BUILD\n",
      "Pulling image: gcr.io/kaniko-project/executor:latest\n",
      "latest: Pulling from kaniko-project/executor\n",
      "570836b5c4f5: Pulling fs layer\n",
      "b5365d3e8235: Pulling fs layer\n",
      "d218211dfbaf: Pulling fs layer\n",
      "fa91064be0b5: Pulling fs layer\n",
      "3c9b472a3060: Pulling fs layer\n",
      "f622203fd988: Pulling fs layer\n",
      "4f5b87f29bc3: Pulling fs layer\n",
      "1c83819d2a11: Pulling fs layer\n",
      "15bf4ac154d6: Pulling fs layer\n",
      "fa91064be0b5: Waiting\n",
      "3c9b472a3060: Waiting\n",
      "f622203fd988: Waiting\n",
      "4f5b87f29bc3: Waiting\n",
      "1c83819d2a11: Waiting\n",
      "15bf4ac154d6: Waiting\n",
      "570836b5c4f5: Download complete\n",
      "d218211dfbaf: Verifying Checksum\n",
      "d218211dfbaf: Download complete\n",
      "b5365d3e8235: Download complete\n",
      "570836b5c4f5: Pull complete\n",
      "fa91064be0b5: Verifying Checksum\n",
      "fa91064be0b5: Download complete\n",
      "3c9b472a3060: Download complete\n",
      "b5365d3e8235: Pull complete\n",
      "f622203fd988: Verifying Checksum\n",
      "f622203fd988: Download complete\n",
      "4f5b87f29bc3: Download complete\n",
      "1c83819d2a11: Verifying Checksum\n",
      "1c83819d2a11: Download complete\n",
      "d218211dfbaf: Pull complete\n",
      "15bf4ac154d6: Download complete\n",
      "fa91064be0b5: Pull complete\n",
      "3c9b472a3060: Pull complete\n",
      "f622203fd988: Pull complete\n",
      "4f5b87f29bc3: Pull complete\n",
      "1c83819d2a11: Pull complete\n",
      "15bf4ac154d6: Pull complete\n",
      "Digest: sha256:fd1385380edf4ecc76f5133750f1caa418dcd31b5fd423931fce30ce7a5421e4\n",
      "Status: Downloaded newer image for gcr.io/kaniko-project/executor:latest\n",
      "gcr.io/kaniko-project/executor:latest\n",
      "\u001b[36mINFO\u001b[0m[0000] Retrieving image manifest gcr.io/google-appengine/python \n",
      "\u001b[36mINFO\u001b[0m[0000] Retrieving image gcr.io/google-appengine/python from registry gcr.io \n",
      "\u001b[36mINFO\u001b[0m[0000] Retrieving image manifest gcr.io/google-appengine/python \n",
      "\u001b[36mINFO\u001b[0m[0000] Returning cached image manifest              \n",
      "\u001b[36mINFO\u001b[0m[0000] Built cross stage deps: map[]                \n",
      "\u001b[36mINFO\u001b[0m[0000] Retrieving image manifest gcr.io/google-appengine/python \n",
      "\u001b[36mINFO\u001b[0m[0000] Returning cached image manifest              \n",
      "\u001b[36mINFO\u001b[0m[0000] Retrieving image manifest gcr.io/google-appengine/python \n",
      "\u001b[36mINFO\u001b[0m[0000] Returning cached image manifest              \n",
      "\u001b[36mINFO\u001b[0m[0000] Executing 0 build triggers                   \n",
      "\u001b[36mINFO\u001b[0m[0000] Building stage 'gcr.io/google-appengine/python' [idx: '0', base-idx: '-1'] \n",
      "\u001b[36mINFO\u001b[0m[0000] Checking for cached layer gcr.io/hybrid-vertex/hptuning-training-custom-container/cache:cc85530860f5aa3aba33e50348f422e84bdb80960d0ea6279de3d2271f3d84e6...\n",
      "\u001b[36mINFO\u001b[0m[0001] Using caching version of cmd: RUN pip3 install cloudml-hypertune==0.1.0.dev6 \n",
      "\u001b[36mINFO\u001b[0m[0001] Checking for cached layer gcr.io/hybrid-vertex/hptuning-training-custom-container/cache:41069aa5912ae37744ac260ce53cedc34b5c0b338a3c2086716da5cc98f52244...\n",
      "\u001b[36mINFO\u001b[0m[0002] Using caching version of cmd: RUN pip3 install google-cloud-storage==1.39.0 \n",
      "\u001b[36mINFO\u001b[0m[0002] Checking for cached layer gcr.io/hybrid-vertex/hptuning-training-custom-container/cache:ea6dcf0da9d951dd96179c95e17e44d9b09d5fd8c8a17bf4fd2d781c183424f1... \n",
      "\u001b[36mINFO\u001b[0m[0002] Using caching version of cmd: RUN pip3 install tensorflow==2.5.0 \n",
      "\u001b[36mINFO\u001b[0m[0002] Checking for cached layer gcr.io/hybrid-vertex/hptuning-training-custom-container/cache:22734f74f4800f8f2bd958d78441346912bd458fa86dc2fe60cff38d88b567dc...\n",
      "\u001b[36mINFO\u001b[0m[0003] Using caching version of cmd: RUN pip3 install tensorboard-plugin-profile==2.5.0 \n",
      "\u001b[36mINFO\u001b[0m[0003] Checking for cached layer gcr.io/hybrid-vertex/hptuning-training-custom-container/cache:364070625b3bd24458f24db0f67b61cb7c252419ec46a2069242f9a6cb10c2f9...\n",
      "\u001b[36mINFO\u001b[0m[0004] Using caching version of cmd: RUN pip3 install tf-agents==0.8.0 \n",
      "\u001b[36mINFO\u001b[0m[0004] Checking for cached layer gcr.io/hybrid-vertex/hptuning-training-custom-container/cache:e5fd30cddebdde53f92cd2015d08537dd7c8f8fbdfcc1ae553b4ae4928f92040... \n",
      "\u001b[36mINFO\u001b[0m[0004] Using caching version of cmd: RUN pip3 install matplotlib==3.4.2 \n",
      "\u001b[36mINFO\u001b[0m[0004] Checking for cached layer gcr.io/hybrid-vertex/hptuning-training-custom-container/cache:ef4e8fe69fa827f3a44d9c73ff7d681d7d711164363977c6cd8846e40d93b52a...\n",
      "\u001b[36mINFO\u001b[0m[0005] No cached layer found for cmd RUN pip3 install urllib3==1.26.6 \n",
      "\u001b[36mINFO\u001b[0m[0005] Unpacking rootfs as cmd RUN pip3 install urllib3==1.26.6 requires it.\n",
      "\u001b[36mINFO\u001b[0m[0022] WORKDIR /root                                \n",
      "\u001b[36mINFO\u001b[0m[0022] Cmd: workdir                                 \n",
      "\u001b[36mINFO\u001b[0m[0022] Changed working directory to /root           \n",
      "\u001b[36mINFO\u001b[0m[0022] No files changed in this command, skipping snapshotting. \n",
      "\u001b[36mINFO\u001b[0m[0022] RUN pip3 install cloudml-hypertune==0.1.0.dev6 \n",
      "\u001b[36mINFO\u001b[0m[0022] Found cached layer, extracting to filesystem \n",
      "\u001b[36mINFO\u001b[0m[0022] RUN pip3 install google-cloud-storage==1.39.0 \n",
      "\u001b[36mINFO\u001b[0m[0022] Found cached layer, extracting to filesystem\n",
      "\u001b[36mINFO\u001b[0m[0023] RUN pip3 install tensorflow==2.5.0           \n",
      "\u001b[36mINFO\u001b[0m[0023] Found cached layer, extracting to filesystem\n",
      "\u001b[36mINFO\u001b[0m[0053] RUN pip3 install tensorboard-plugin-profile==2.5.0 \n",
      "\u001b[36mINFO\u001b[0m[0053] Found cached layer, extracting to filesystem\n",
      "\u001b[36mINFO\u001b[0m[0054] RUN pip3 install tf-agents==0.8.0            \n",
      "\u001b[36mINFO\u001b[0m[0054] Found cached layer, extracting to filesystem\n",
      "\u001b[36mINFO\u001b[0m[0055] RUN pip3 install matplotlib==3.4.2           \n",
      "\u001b[36mINFO\u001b[0m[0055] Found cached layer, extracting to filesystem\n",
      "\u001b[36mINFO\u001b[0m[0057] RUN pip3 install urllib3==1.26.6             \n",
      "\u001b[36mINFO\u001b[0m[0057] Initializing snapshotter ...                 \n",
      "\u001b[36mINFO\u001b[0m[0057] Taking snapshot of full filesystem...\n",
      "\u001b[36mINFO\u001b[0m[0065] Cmd: /bin/sh                                 \n",
      "\u001b[36mINFO\u001b[0m[0065] Args: [-c pip3 install urllib3==1.26.6]      \n",
      "\u001b[36mINFO\u001b[0m[0065] Running: [/bin/sh -c pip3 install urllib3==1.26.6]\n",
      "WARNING: Ignoring invalid distribution -wh-wheel (/opt/python3.7/lib/python3.7/site-packages)\n",
      "WARNING: Ignoring invalid distribution -wh-six (/opt/python3.7/lib/python3.7/site-packages)\n",
      "WARNING: Ignoring invalid distribution -wh-setuptools (/opt/python3.7/lib/python3.7/site-packages)\n",
      "WARNING: Ignoring invalid distribution -wh-protobuf (/opt/python3.7/lib/python3.7/site-packages)\n",
      "WARNING: Ignoring invalid distribution -wh-wheel (/opt/python3.7/lib/python3.7/site-packages)\n",
      "WARNING: Ignoring invalid distribution -wh-six (/opt/python3.7/lib/python3.7/site-packages)\n",
      "WARNING: Ignoring invalid distribution -wh-setuptools (/opt/python3.7/lib/python3.7/site-packages)\n",
      "WARNING: Ignoring invalid distribution -wh-protobuf (/opt/python3.7/lib/python3.7/site-packages)\n",
      "Collecting urllib3==1.26.6\n",
      "  Downloading urllib3-1.26.6-py2.py3-none-any.whl (138 kB)\n",
      "WARNING: Ignoring invalid distribution -wh-wheel (/opt/python3.7/lib/python3.7/site-packages)\n",
      "WARNING: Ignoring invalid distribution -wh-six (/opt/python3.7/lib/python3.7/site-packages)\n",
      "WARNING: Ignoring invalid distribution -wh-setuptools (/opt/python3.7/lib/python3.7/site-packages)\n",
      "WARNING: Ignoring invalid distribution -wh-protobuf (/opt/python3.7/lib/python3.7/site-packages)\n",
      "    WARNING: Ignoring invalid distribution -wh-wheel (/opt/python3.7/lib/python3.7/site-packages)\n",
      "Installing collected packages: urllib3\n",
      "  Attempting uninstall: urllib3\n",
      "    WARNING: Ignoring invalid distribution -wh-six (/opt/python3.7/lib/python3.7/site-packages)\n",
      "    WARNING: Ignoring invalid distribution -wh-setuptools (/opt/python3.7/lib/python3.7/site-packages)\n",
      "    WARNING: Ignoring invalid distribution -wh-protobuf (/opt/python3.7/lib/python3.7/site-packages)\n",
      "    Found existing installation: urllib3 2.0.3\n",
      "    Uninstalling urllib3-2.0.3:\n",
      "      Successfully uninstalled urllib3-2.0.3\n",
      "WARNING: Ignoring invalid distribution -wh-wheel (/opt/python3.7/lib/python3.7/site-packages)\n",
      "WARNING: Ignoring invalid distribution -wh-six (/opt/python3.7/lib/python3.7/site-packages)\n",
      "WARNING: Ignoring invalid distribution -wh-setuptools (/opt/python3.7/lib/python3.7/site-packages)\n",
      "WARNING: Ignoring invalid distribution -wh-protobuf (/opt/python3.7/lib/python3.7/site-packages)\n",
      "Successfully installed urllib3-1.26.6\n",
      "WARNING: Running pip as the 'root' user can result in broken permissions and conflicting behaviour with the system package manager. It is recommended to use a virtual environment instead: https://pip.pypa.io/warnings/venv\n",
      "WARNING: Ignoring invalid distribution -wh-wheel (/opt/python3.7/lib/python3.7/site-packages)\n",
      "WARNING: Ignoring invalid distribution -wh-six (/opt/python3.7/lib/python3.7/site-packages)\n",
      "WARNING: Ignoring invalid distribution -wh-setuptools (/opt/python3.7/lib/python3.7/site-packages)\n",
      "WARNING: Ignoring invalid distribution -wh-protobuf (/opt/python3.7/lib/python3.7/site-packages)\n",
      "WARNING: Ignoring invalid distribution -wh-wheel (/opt/python3.7/lib/python3.7/site-packages)\n",
      "WARNING: Ignoring invalid distribution -wh-six (/opt/python3.7/lib/python3.7/site-packages)\n",
      "WARNING: Ignoring invalid distribution -wh-setuptools (/opt/python3.7/lib/python3.7/site-packages)\n",
      "WARNING: Ignoring invalid distribution -wh-protobuf (/opt/python3.7/lib/python3.7/site-packages)\n",
      "WARNING: Ignoring invalid distribution -wh-wheel (/opt/python3.7/lib/python3.7/site-packages)\n",
      "WARNING: Ignoring invalid distribution -wh-six (/opt/python3.7/lib/python3.7/site-packages)\n",
      "WARNING: Ignoring invalid distribution -wh-setuptools (/opt/python3.7/lib/python3.7/site-packages)\n",
      "WARNING: Ignoring invalid distribution -wh-protobuf (/opt/python3.7/lib/python3.7/site-packages)\n",
      "WARNING: You are using pip version 21.2.4; however, version 23.1.2 is available.\n",
      "You should consider upgrading via the '/opt/python3.7/bin/python3.7 -m pip install --upgrade pip' command.\n",
      "\u001b[36mINFO\u001b[0m[0067] Taking snapshot of full filesystem...\n",
      "\u001b[36mINFO\u001b[0m[0069] Pushing layer gcr.io/hybrid-vertex/hptuning-training-custom-container/cache:ef4e8fe69fa827f3a44d9c73ff7d681d7d711164363977c6cd8846e40d93b52a to cache now \n",
      "\u001b[36mINFO\u001b[0m[0069] Pushing image to gcr.io/hybrid-vertex/hptuning-training-custom-container/cache:ef4e8fe69fa827f3a44d9c73ff7d681d7d711164363977c6cd8846e40d93b52a \n",
      "\u001b[36mINFO\u001b[0m[0069] COPY src/training /root/src/training         \n",
      "\u001b[36mINFO\u001b[0m[0069] Taking snapshot of files...                  \n",
      "\u001b[36mINFO\u001b[0m[0069] ENTRYPOINT [\"python3\", \"-m\", \"src.training.task\"] \n",
      "\u001b[36mINFO\u001b[0m[0069] No files changed in this command, skipping snapshotting.\n",
      "\u001b[36mINFO\u001b[0m[0071] Pushed gcr.io/hybrid-vertex/hptuning-training-custom-container/cache@sha256:ac4eec8f2303075f09d6f386e9f66c9d87bc10cddb294a0f5ebdb5681500b4cc \n",
      "\u001b[36mINFO\u001b[0m[0071] Pushing image to gcr.io/hybrid-vertex/hptuning-training-custom-container:latest\n",
      "\u001b[36mINFO\u001b[0m[0074] Pushed gcr.io/hybrid-vertex/hptuning-training-custom-container@sha256:26a3822e173bca4b1042960f7d4ee4404a275c1e72abcb4c9328db52d7021bbd\n",
      "PUSH\n",
      "DONE\n",
      "--------------------------------------------------------------------------------\n",
      "ID                                    CREATE_TIME                DURATION  SOURCE                                                                                       IMAGES  STATUS\n",
      "55af5934-80f2-476f-8d16-3ae5c6527d9f  2023-07-03T15:43:27+00:00  1M29S     gs://hybrid-vertex_cloudbuild/source/1688399007.550035-0f50253998ca461580227dd56dec7cc4.tgz  -       SUCCESS\n"
     ]
    }
   ],
   "source": [
    "! gcloud builds submit --config cloudbuild.yaml"
   ]
  },
  {
   "cell_type": "markdown",
   "metadata": {
    "id": "2bb1b30a"
   },
   "source": [
    "### Submit hyperparameter tuning job [optional]\n",
    "\n",
    "- Submit a hyperparameter training job with the custom container. Read more details for using Python packages as an alternative to using custom containers in the example shown [here](https://cloud.google.com/vertex-ai/docs/training/using-hyperparameter-tuning#create).\n",
    "- Define the hyperparameter(s), max trial count, parallel trial count, parameter search algorithm, machine spec, accelerators, worker pool, etc."
   ]
  },
  {
   "cell_type": "code",
   "execution_count": 72,
   "metadata": {
    "id": "9fb3158b"
   },
   "outputs": [],
   "source": [
    "RUN_HYPERPARAMETER_TUNING = True  # Execute hyperparameter tuning instead of regular training.\n",
    "TRAIN_WITH_BEST_HYPERPARAMETERS = False  # Do not train.\n",
    "\n",
    "HPTUNING_RESULT_DIR = \"hptuning/\"  # @param {type: \"string\"} Directory to store the best hyperparameter(s) in `BUCKET_NAME` and locally (temporarily).\n",
    "HPTUNING_RESULT_PATH = os.path.join(HPTUNING_RESULT_DIR, \"result.json\")  # @param {type: \"string\"} Path to the file containing the best hyperparameter(s)."
   ]
  },
  {
   "cell_type": "code",
   "execution_count": 73,
   "metadata": {
    "id": "f1222fe3"
   },
   "outputs": [],
   "source": [
    "aiplatform.init(project=PROJECT_ID, location=REGION, staging_bucket=BUCKET_NAME)"
   ]
  },
  {
   "cell_type": "code",
   "execution_count": 74,
   "metadata": {
    "id": "6dbfdf0f"
   },
   "outputs": [],
   "source": [
    "def create_hyperparameter_tuning_job_sample(\n",
    "    project: str,\n",
    "    display_name: str,\n",
    "    image_uri: str,\n",
    "    args: List[str],\n",
    "    location: str = \"us-central1\",\n",
    "    api_endpoint: str = \"us-central1-aiplatform.googleapis.com\"\n",
    ") -> None:\n",
    "    \"\"\"Creates a hyperparameter tuning job using a custom container.\n",
    "\n",
    "    Args:\n",
    "        project: GCP project ID.\n",
    "        display_name: GCP console display name for the hyperparameter tuning job in\n",
    "            Vertex AI.\n",
    "        image_uri: URI to the hyperparameter tuning container image in Container\n",
    "            Registry.\n",
    "        args: Arguments passed to the container.\n",
    "        location: Service location.\n",
    "        api_endpoint: API endpoint, eg. `<location>-aiplatform.googleapis.com`.\n",
    "\n",
    "    Returns:\n",
    "        A string of the hyperparameter tuning job ID.\n",
    "    \"\"\"\n",
    "    # The AI Platform services require regional API endpoints.\n",
    "    client_options = {\"api_endpoint\": api_endpoint}\n",
    "    # Initialize client that will be used to create and send requests.\n",
    "    # This client only needs to be created once, and can be reused for multiple requests.\n",
    "    client = aiplatform.gapic.JobServiceClient(client_options=client_options)\n",
    "\n",
    "    # study_spec\n",
    "    # Metric based on which to evaluate which combination of hyperparameter(s) to choose\n",
    "    metric = {\n",
    "        \"metric_id\": \"final_average_return\",  # Metric you report to Vertex AI.\n",
    "        \"goal\": aiplatform.gapic.StudySpec.MetricSpec.GoalType.MAXIMIZE,\n",
    "    }\n",
    "\n",
    "    # Hyperparameter(s) to tune\n",
    "    training_loops = {\n",
    "        \"parameter_id\": \"training-loops\",\n",
    "        \"discrete_value_spec\": {\"values\": [4, 16]},\n",
    "        \"scale_type\": aiplatform.gapic.StudySpec.ParameterSpec.ScaleType.UNIT_LINEAR_SCALE,\n",
    "    }\n",
    "    steps_per_loop = {\n",
    "        \"parameter_id\": \"steps-per-loop\",\n",
    "        \"discrete_value_spec\": {\"values\": [1, 2]},\n",
    "        \"scale_type\": aiplatform.gapic.StudySpec.ParameterSpec.ScaleType.UNIT_LINEAR_SCALE,\n",
    "    }\n",
    "\n",
    "    # trial_job_spec\n",
    "    machine_spec = {\n",
    "        \"machine_type\": \"n1-standard-4\",\n",
    "        \"accelerator_type\": aiplatform.gapic.AcceleratorType.ACCELERATOR_TYPE_UNSPECIFIED,\n",
    "        \"accelerator_count\": None,\n",
    "    }\n",
    "    worker_pool_spec = {\n",
    "        \"machine_spec\": machine_spec,\n",
    "        \"replica_count\": 1,\n",
    "        \"container_spec\": {\n",
    "            \"image_uri\": image_uri,\n",
    "            \"args\": args,\n",
    "        },\n",
    "    }\n",
    "\n",
    "    # hyperparameter_tuning_job\n",
    "    hyperparameter_tuning_job = {\n",
    "        \"display_name\": display_name,\n",
    "        \"max_trial_count\": 4,\n",
    "        \"parallel_trial_count\": 2,\n",
    "        \"study_spec\": {\n",
    "            \"metrics\": [metric],\n",
    "            \"parameters\": [training_loops, steps_per_loop],\n",
    "            \"algorithm\": aiplatform.gapic.StudySpec.Algorithm.RANDOM_SEARCH,\n",
    "        },\n",
    "        \"trial_job_spec\": {\"worker_pool_specs\": [worker_pool_spec]},\n",
    "    }\n",
    "    parent = f\"projects/{project}/locations/{location}\"\n",
    "\n",
    "    # Create job\n",
    "    response = client.create_hyperparameter_tuning_job(\n",
    "        parent=parent,\n",
    "        hyperparameter_tuning_job=hyperparameter_tuning_job)\n",
    "    job_id = response.name.split(\"/\")[-1]\n",
    "    print(\"Job ID:\", job_id)\n",
    "    print(\"Job config:\", response)\n",
    "\n",
    "    return job_id"
   ]
  },
  {
   "cell_type": "code",
   "execution_count": 75,
   "metadata": {
    "id": "aa831e5e"
   },
   "outputs": [],
   "source": [
    "args = [\n",
    "    f\"--data-path={DATA_PATH}\",\n",
    "    f\"--batch-size={BATCH_SIZE}\",\n",
    "    f\"--rank-k={RANK_K}\",\n",
    "    f\"--num-actions={NUM_ACTIONS}\",\n",
    "    f\"--tikhonov-weight={TIKHONOV_WEIGHT}\",\n",
    "    f\"--agent-alpha={AGENT_ALPHA}\",\n",
    "]\n",
    "if RUN_HYPERPARAMETER_TUNING:\n",
    "    args.append(\"--run-hyperparameter-tuning\")\n",
    "elif TRAIN_WITH_BEST_HYPERPARAMETERS:\n",
    "    args.append(\"--train-with-best-hyperparameters\")"
   ]
  },
  {
   "cell_type": "code",
   "execution_count": 76,
   "metadata": {
    "id": "763c9af3"
   },
   "outputs": [
    {
     "name": "stdout",
     "output_type": "stream",
     "text": [
      "Job ID: 838967023131164672\n",
      "Job config: name: \"projects/934903580331/locations/us-central1/hyperparameterTuningJobs/838967023131164672\"\n",
      "display_name: \"movielens-hyperparameter-tuning-job\"\n",
      "study_spec {\n",
      "  metrics {\n",
      "    metric_id: \"final_average_return\"\n",
      "    goal: MAXIMIZE\n",
      "  }\n",
      "  parameters {\n",
      "    discrete_value_spec {\n",
      "      values: 4\n",
      "      values: 16\n",
      "    }\n",
      "    parameter_id: \"training-loops\"\n",
      "    scale_type: UNIT_LINEAR_SCALE\n",
      "  }\n",
      "  parameters {\n",
      "    discrete_value_spec {\n",
      "      values: 1\n",
      "      values: 2\n",
      "    }\n",
      "    parameter_id: \"steps-per-loop\"\n",
      "    scale_type: UNIT_LINEAR_SCALE\n",
      "  }\n",
      "  algorithm: RANDOM_SEARCH\n",
      "}\n",
      "max_trial_count: 4\n",
      "parallel_trial_count: 2\n",
      "trial_job_spec {\n",
      "  worker_pool_specs {\n",
      "    container_spec {\n",
      "      image_uri: \"gcr.io/hybrid-vertex/hptuning-training-custom-container:latest\"\n",
      "      args: \"--data-path=gs://tf-agents-bandits-v1/artifacts/u.data\"\n",
      "      args: \"--batch-size=8\"\n",
      "      args: \"--rank-k=20\"\n",
      "      args: \"--num-actions=20\"\n",
      "      args: \"--tikhonov-weight=0.001\"\n",
      "      args: \"--agent-alpha=10.0\"\n",
      "      args: \"--run-hyperparameter-tuning\"\n",
      "    }\n",
      "    machine_spec {\n",
      "      machine_type: \"n1-standard-4\"\n",
      "    }\n",
      "    replica_count: 1\n",
      "    disk_spec {\n",
      "      boot_disk_type: \"pd-ssd\"\n",
      "      boot_disk_size_gb: 100\n",
      "    }\n",
      "  }\n",
      "}\n",
      "state: JOB_STATE_PENDING\n",
      "create_time {\n",
      "  seconds: 1688399250\n",
      "  nanos: 291690000\n",
      "}\n",
      "update_time {\n",
      "  seconds: 1688399250\n",
      "  nanos: 291690000\n",
      "}\n",
      "\n"
     ]
    }
   ],
   "source": [
    "job_id = create_hyperparameter_tuning_job_sample(\n",
    "    project=PROJECT_ID,\n",
    "    display_name=\"movielens-hyperparameter-tuning-job\",\n",
    "    image_uri=f\"gcr.io/{PROJECT_ID}/{HPTUNING_TRAINING_CONTAINER}:latest\",\n",
    "    args=args,\n",
    "    location=REGION,\n",
    "    api_endpoint=f\"{REGION}-aiplatform.googleapis.com\")"
   ]
  },
  {
   "cell_type": "markdown",
   "metadata": {
    "id": "bafc0e05"
   },
   "source": [
    "It will take ~20 minutes to complete.\n",
    "\n",
    "#### Check hyperparameter tuning job status\n",
    "\n",
    "- Read more about managing jobs [here](https://cloud.google.com/vertex-ai/docs/training/using-hyperparameter-tuning#manage)."
   ]
  },
  {
   "cell_type": "code",
   "execution_count": 77,
   "metadata": {
    "id": "c959a9f3"
   },
   "outputs": [],
   "source": [
    "def get_hyperparameter_tuning_job_sample(\n",
    "    project: str,\n",
    "    hyperparameter_tuning_job_id: str,\n",
    "    location: str = \"us-central1\",\n",
    "    api_endpoint: str = \"us-central1-aiplatform.googleapis.com\",\n",
    ") -> aiplatform.HyperparameterTuningJob:\n",
    "    \"\"\"Gets the current status of a hyperparameter tuning job.\n",
    "\n",
    "    Args:\n",
    "        project: GCP project ID.\n",
    "        hyperparameter_tuning_job_id: Hyperparameter tuning job ID.\n",
    "        location: Service location.\n",
    "        api_endpoint: API endpoint, eg. `<location>-aiplatform.googleapis.com`.\n",
    "\n",
    "    Returns:\n",
    "        Details of the hyperparameter tuning job, such as its running status,\n",
    "        results of its trials, etc.\n",
    "    \"\"\"\n",
    "    # The AI Platform services require regional API endpoints.\n",
    "    client_options = {\"api_endpoint\": api_endpoint}\n",
    "    # Initialize client that will be used to create and send requests.\n",
    "    # This client only needs to be created once, and can be reused for multiple requests.\n",
    "    client = aiplatform.gapic.JobServiceClient(client_options=client_options)\n",
    "    name = client.hyperparameter_tuning_job_path(\n",
    "        project=project,\n",
    "        location=location,\n",
    "        hyperparameter_tuning_job=hyperparameter_tuning_job_id)\n",
    "    response = client.get_hyperparameter_tuning_job(name=name)\n",
    "    return response"
   ]
  },
  {
   "cell_type": "code",
   "execution_count": 78,
   "metadata": {
    "id": "7742abe2"
   },
   "outputs": [
    {
     "name": "stdout",
     "output_type": "stream",
     "text": [
      "Current job status: JOB_STATE_QUEUED.\n",
      "Current job status: JOB_STATE_QUEUED.\n",
      "Current job status: JOB_STATE_QUEUED.\n",
      "Current job status: JOB_STATE_RUNNING.\n",
      "Current job status: JOB_STATE_RUNNING.\n",
      "Current job status: JOB_STATE_RUNNING.\n",
      "Current job status: JOB_STATE_RUNNING.\n",
      "Current job status: JOB_STATE_RUNNING.\n",
      "Current job status: JOB_STATE_RUNNING.\n",
      "Current job status: JOB_STATE_RUNNING.\n",
      "Current job status: JOB_STATE_RUNNING.\n",
      "Current job status: JOB_STATE_RUNNING.\n",
      "Current job status: JOB_STATE_RUNNING.\n",
      "Current job status: JOB_STATE_RUNNING.\n",
      "Current job status: JOB_STATE_RUNNING.\n",
      "Current job status: JOB_STATE_RUNNING.\n",
      "Current job status: JOB_STATE_RUNNING.\n",
      "Current job status: JOB_STATE_RUNNING.\n",
      "Job succeeded.\n",
      "Job Time: 0:18:07.045734\n",
      "Trials: [id: \"1\"\n",
      "state: SUCCEEDED\n",
      "parameters {\n",
      "  parameter_id: \"steps-per-loop\"\n",
      "  value {\n",
      "    number_value: 2\n",
      "  }\n",
      "}\n",
      "parameters {\n",
      "  parameter_id: \"training-loops\"\n",
      "  value {\n",
      "    number_value: 16\n",
      "  }\n",
      "}\n",
      "final_measurement {\n",
      "  step_count: 1\n",
      "  metrics {\n",
      "    metric_id: \"final_average_return\"\n",
      "    value: 0.40000000596046448\n",
      "  }\n",
      "}\n",
      "start_time {\n",
      "  seconds: 1688399395\n",
      "  nanos: 843137199\n",
      "}\n",
      "end_time {\n",
      "  seconds: 1688399505\n",
      "}\n",
      ", id: \"2\"\n",
      "state: SUCCEEDED\n",
      "parameters {\n",
      "  parameter_id: \"steps-per-loop\"\n",
      "  value {\n",
      "    number_value: 1\n",
      "  }\n",
      "}\n",
      "parameters {\n",
      "  parameter_id: \"training-loops\"\n",
      "  value {\n",
      "    number_value: 16\n",
      "  }\n",
      "}\n",
      "final_measurement {\n",
      "  step_count: 1\n",
      "  metrics {\n",
      "    metric_id: \"final_average_return\"\n",
      "    value: 4.5530443429147791e-15\n",
      "  }\n",
      "}\n",
      "start_time {\n",
      "  seconds: 1688399395\n",
      "  nanos: 843263665\n",
      "}\n",
      "end_time {\n",
      "  seconds: 1688399545\n",
      "}\n",
      ", id: \"3\"\n",
      "state: SUCCEEDED\n",
      "parameters {\n",
      "  parameter_id: \"steps-per-loop\"\n",
      "  value {\n",
      "    number_value: 1\n",
      "  }\n",
      "}\n",
      "parameters {\n",
      "  parameter_id: \"training-loops\"\n",
      "  value {\n",
      "    number_value: 16\n",
      "  }\n",
      "}\n",
      "final_measurement {\n",
      "  step_count: 1\n",
      "  metrics {\n",
      "    metric_id: \"final_average_return\"\n",
      "    value: 1\n",
      "  }\n",
      "}\n",
      "start_time {\n",
      "  seconds: 1688399865\n",
      "  nanos: 464432701\n",
      "}\n",
      "end_time {\n",
      "  seconds: 1688399978\n",
      "}\n",
      ", id: \"4\"\n",
      "state: SUCCEEDED\n",
      "parameters {\n",
      "  parameter_id: \"steps-per-loop\"\n",
      "  value {\n",
      "    number_value: 1\n",
      "  }\n",
      "}\n",
      "parameters {\n",
      "  parameter_id: \"training-loops\"\n",
      "  value {\n",
      "    number_value: 16\n",
      "  }\n",
      "}\n",
      "final_measurement {\n",
      "  step_count: 1\n",
      "  metrics {\n",
      "    metric_id: \"final_average_return\"\n",
      "    value: 0.5\n",
      "  }\n",
      "}\n",
      "start_time {\n",
      "  seconds: 1688399868\n",
      "  nanos: 466791719\n",
      "}\n",
      "end_time {\n",
      "  seconds: 1688399973\n",
      "}\n",
      "]\n"
     ]
    }
   ],
   "source": [
    "import time\n",
    "\n",
    "trials = None\n",
    "while True:\n",
    "    response = get_hyperparameter_tuning_job_sample(\n",
    "        project=PROJECT_ID,\n",
    "        hyperparameter_tuning_job_id=job_id,\n",
    "        location=REGION,\n",
    "        api_endpoint=f\"{REGION}-aiplatform.googleapis.com\")\n",
    "    if response.state.name == 'JOB_STATE_SUCCEEDED':\n",
    "        print(\"Job succeeded.\\nJob Time:\", response.update_time - response.create_time)\n",
    "        trials = response.trials\n",
    "        print(\"Trials:\", trials)\n",
    "        break\n",
    "    elif response.state.name == \"JOB_STATE_FAILED\":\n",
    "        print(\"Job failed.\")\n",
    "        break\n",
    "    elif response.state.name == \"JOB_STATE_CANCELLED\":\n",
    "        print(\"Job cancelled.\")\n",
    "        break\n",
    "    else:\n",
    "        print(f\"Current job status: {response.state.name}.\")\n",
    "    time.sleep(60)"
   ]
  },
  {
   "cell_type": "markdown",
   "metadata": {
    "id": "72e0a69d"
   },
   "source": [
    "#### Find the best combination(s) hyperparameter(s) for each metric"
   ]
  },
  {
   "cell_type": "code",
   "execution_count": 79,
   "metadata": {
    "id": "389e131c"
   },
   "outputs": [
    {
     "name": "stdout",
     "output_type": "stream",
     "text": [
      "Best hyperparameter value(s):\n",
      "Metric=final_average_return: [{'steps-per-loop': 1.0, 'training-loops': 16.0}]\n"
     ]
    }
   ],
   "source": [
    "if trials:\n",
    "    # Dict mapping from metric names to the best metric values seen so far\n",
    "    best_objective_values = dict.fromkeys(\n",
    "        [metric.metric_id for metric in trials[0].final_measurement.metrics],\n",
    "        -np.inf)\n",
    "    # Dict mapping from metric names to a list of the best combination(s) of\n",
    "    # hyperparameter(s). Each combination is a dict mapping from hyperparameter\n",
    "    # names to their values.\n",
    "    best_params = defaultdict(list)\n",
    "    for trial in trials:\n",
    "        # `final_measurement` and `parameters` are `RepeatedComposite` objects.\n",
    "        # Reference the structure above to extract the value of your interest.\n",
    "        for metric in trial.final_measurement.metrics:\n",
    "            params = {\n",
    "                param.parameter_id: param.value for param in trial.parameters}\n",
    "            if metric.value > best_objective_values[metric.metric_id]:\n",
    "                best_params[metric.metric_id] = [params]\n",
    "            elif metric.value == best_objective_values[metric.metric_id]:\n",
    "                best_params[param.parameter_id].append(params)  # Handle cases where multiple hyperparameter values lead to the same performance.\n",
    "    print(\"Best hyperparameter value(s):\")\n",
    "    for metric, params in best_params.items():\n",
    "        print(f\"Metric={metric}: {sorted(params)}\")\n",
    "else:\n",
    "    print(\"No hyperparameter tuning job trials found.\")"
   ]
  },
  {
   "cell_type": "markdown",
   "metadata": {
    "id": "a0497a5c"
   },
   "source": [
    "#### Convert a combination of best hyperparameter(s) for a metric of interest to JSON"
   ]
  },
  {
   "cell_type": "code",
   "execution_count": 80,
   "metadata": {
    "id": "ebced166"
   },
   "outputs": [],
   "source": [
    "! mkdir $HPTUNING_RESULT_DIR\n",
    "\n",
    "with open(HPTUNING_RESULT_PATH, \"w\") as f:\n",
    "    json.dump(best_params[\"final_average_return\"][0], f)"
   ]
  },
  {
   "cell_type": "markdown",
   "metadata": {
    "id": "4a38871a"
   },
   "source": [
    "#### Upload the best hyperparameter(s) to GCS for use in training"
   ]
  },
  {
   "cell_type": "code",
   "execution_count": 81,
   "metadata": {
    "id": "0a674285"
   },
   "outputs": [],
   "source": [
    "storage_client = storage.Client(project=PROJECT_ID)\n",
    "bucket = storage_client.bucket(RAW_BUCKET_NAME)\n",
    "blob = bucket.blob(HPTUNING_RESULT_PATH)\n",
    "blob.upload_from_filename(HPTUNING_RESULT_PATH)"
   ]
  },
  {
   "cell_type": "markdown",
   "metadata": {
    "id": "2b402962"
   },
   "source": [
    "### Create custom prediction container\n",
    "\n",
    "As with training, create a custom prediction container. This container handles the TF-Agents specific logic that is different from a regular TensorFlow Model. Specifically, it finds the predicted action using a trained policy. The associated source code is in `src/prediction/`.\n",
    "See other options for Vertex AI predictions [here](https://cloud.google.com/vertex-ai/docs/predictions/getting-predictions).\n",
    "\n",
    "#### Serve predictions:\n",
    "- Use [`tensorflow.saved_model.load`](https://www.tensorflow.org/agents/api_docs/python/tf_agents/policies/PolicySaver#usage), instead of [`tf_agents.policies.policy_loader.load`](https://github.com/tensorflow/agents/blob/r0.8.0/tf_agents/policies/policy_loader.py#L26), to load the trained policy, because the latter produces an object of type [`SavedModelPyTFEagerPolicy`](https://github.com/tensorflow/agents/blob/402b8aa81ca1b578ec1f687725d4ccb4115386d2/tf_agents/policies/py_tf_eager_policy.py#L137) whose `action()` is not compatible for use here.\n",
    "- Note that prediction requests contain only observation data but not reward. This is because: The prediction task is a standalone request that doesn't require prior knowledge of the system state. Meanwhile, end users only know what they observe at the moment. Reward is a piece of information that comes after the action has been made, so the end users would not have knowledge of said reward. In handling prediction requests, you create a [`TimeStep`](https://www.tensorflow.org/agents/api_docs/python/tf_agents/trajectories/TimeStep) object (consisting of `observation`, `reward`, `discount`, `step_type`) using the [`restart()`](https://www.tensorflow.org/agents/api_docs/python/tf_agents/trajectories/restart) function which takes in an `observation`. This function creates the *first* TimeStep in a trajectory of steps, where reward is 0, discount is 1 and step_type is marked as the first timestep. In other words, each prediction request forms the first `TimeStep` in a brand new trajectory.\n",
    "- For the prediction response, avoid using NumPy-typed values; instead, convert them to native Python values using methods such as [`tolist()`](https://numpy.org/doc/stable/reference/generated/numpy.ndarray.tolist.html) as opposed to `list()`.\n",
    "- There exists a prestart script in `src/prediction`. FastAPI executes this script before starting up the server. The `PORT` environment variable is set to equal `AIP_HTTP_PORT` in order to run FastAPI on the same port expected by Vertex AI."
   ]
  },
  {
   "cell_type": "code",
   "execution_count": 82,
   "metadata": {
    "id": "1723a927"
   },
   "outputs": [],
   "source": [
    "PREDICTION_CONTAINER = \"prediction-custom-container\"  # @param {type:\"string\"} Name of the container image."
   ]
  },
  {
   "cell_type": "markdown",
   "metadata": {
    "id": "e3dc8994"
   },
   "source": [
    "#### Create a Cloud Build YAML file\n",
    "\n",
    "Use [Kaniko](https://github.com/GoogleContainerTools/kaniko) to build the custom prediction container."
   ]
  },
  {
   "cell_type": "code",
   "execution_count": 114,
   "metadata": {
    "id": "15ca50b2"
   },
   "outputs": [],
   "source": [
    "cloudbuild_yaml = \"\"\"steps:\n",
    "- name: 'gcr.io/kaniko-project/executor:latest'\n",
    "  args: ['--destination=gcr.io/{PROJECT_ID}/{PREDICTION_CONTAINER}:latest',\n",
    "         '--cache=false',\n",
    "         '--cache-ttl=99h']\n",
    "  env: ['AIP_STORAGE_URI={ARTIFACTS_DIR}']\n",
    "options:\n",
    "  machineType: 'E2_HIGHCPU_8'\"\"\".format(\n",
    "    PROJECT_ID=PROJECT_ID,\n",
    "    PREDICTION_CONTAINER=PREDICTION_CONTAINER,\n",
    "    ARTIFACTS_DIR=ARTIFACTS_DIR\n",
    ")\n",
    "\n",
    "with open(\"cloudbuild.yaml\", \"w\") as fp:\n",
    "    fp.write(cloudbuild_yaml)"
   ]
  },
  {
   "cell_type": "markdown",
   "metadata": {
    "id": "65e32312"
   },
   "source": [
    "#### Define dependencies\n",
    "\n",
    "- Note that the dependencies should be compatiable with one another (eg. tensorflow==2.5.0 requires numpy<=1.19.2)."
   ]
  },
  {
   "cell_type": "code",
   "execution_count": 115,
   "metadata": {
    "id": "4945bc35"
   },
   "outputs": [
    {
     "name": "stdout",
     "output_type": "stream",
     "text": [
      "Overwriting requirements.txt\n"
     ]
    }
   ],
   "source": [
    "%%writefile requirements.txt\n",
    "\n",
    "numpy\n",
    "six\n",
    "typing-extensions~=4.6.3\n",
    "pillow\n",
    "tf-agents==0.16.0\n",
    "tensorflow==2.12.0"
   ]
  },
  {
   "cell_type": "markdown",
   "metadata": {
    "id": "201c8b24"
   },
   "source": [
    "#### Write a Dockerfile\n",
    "\n",
    "Note: leave the server directory `app`."
   ]
  },
  {
   "cell_type": "code",
   "execution_count": 116,
   "metadata": {
    "id": "3f8b0df0"
   },
   "outputs": [
    {
     "name": "stdout",
     "output_type": "stream",
     "text": [
      "Overwriting Dockerfile\n"
     ]
    }
   ],
   "source": [
    "%%writefile Dockerfile\n",
    "\n",
    "FROM tiangolo/uvicorn-gunicorn-fastapi:python3.10\n",
    "\n",
    "COPY src/prediction /app\n",
    "COPY requirements.txt /app/requirements.txt\n",
    "\n",
    "RUN pip3 install -r /app/requirements.txt"
   ]
  },
  {
   "cell_type": "markdown",
   "metadata": {
    "id": "9dd4cffc"
   },
   "source": [
    "#### Build the prediction container with Cloud Build"
   ]
  },
  {
   "cell_type": "code",
   "execution_count": 117,
   "metadata": {
    "collapsed": true,
    "id": "9d4417c4",
    "jupyter": {
     "outputs_hidden": true
    },
    "tags": []
   },
   "outputs": [
    {
     "name": "stdout",
     "output_type": "stream",
     "text": [
      "Creating temporary tarball archive of 21 file(s) totalling 425.0 KiB before compression.\n",
      "Uploading tarball of [.] to [gs://hybrid-vertex_cloudbuild/source/1688406972.461754-48cb017386c44015ba6d9a205da79337.tgz]\n",
      "Created [https://cloudbuild.googleapis.com/v1/projects/hybrid-vertex/locations/global/builds/242712c9-8d53-4d49-a3fe-afdc31eeee24].\n",
      "Logs are available at [ https://console.cloud.google.com/cloud-build/builds/242712c9-8d53-4d49-a3fe-afdc31eeee24?project=934903580331 ].\n",
      "----------------------------- REMOTE BUILD OUTPUT ------------------------------\n",
      "starting build \"242712c9-8d53-4d49-a3fe-afdc31eeee24\"\n",
      "\n",
      "FETCHSOURCE\n",
      "Fetching storage object: gs://hybrid-vertex_cloudbuild/source/1688406972.461754-48cb017386c44015ba6d9a205da79337.tgz#1688406972714983\n",
      "Copying gs://hybrid-vertex_cloudbuild/source/1688406972.461754-48cb017386c44015ba6d9a205da79337.tgz#1688406972714983...\n",
      "/ [1 files][160.4 KiB/160.4 KiB]                                                \n",
      "Operation completed over 1 objects/160.4 KiB.\n",
      "BUILD\n",
      "Pulling image: gcr.io/kaniko-project/executor:latest\n",
      "latest: Pulling from kaniko-project/executor\n",
      "570836b5c4f5: Pulling fs layer\n",
      "b5365d3e8235: Pulling fs layer\n",
      "d218211dfbaf: Pulling fs layer\n",
      "fa91064be0b5: Pulling fs layer\n",
      "3c9b472a3060: Pulling fs layer\n",
      "f622203fd988: Pulling fs layer\n",
      "4f5b87f29bc3: Pulling fs layer\n",
      "1c83819d2a11: Pulling fs layer\n",
      "15bf4ac154d6: Pulling fs layer\n",
      "fa91064be0b5: Waiting\n",
      "3c9b472a3060: Waiting\n",
      "f622203fd988: Waiting\n",
      "1c83819d2a11: Waiting\n",
      "15bf4ac154d6: Waiting\n",
      "d218211dfbaf: Verifying Checksum\n",
      "d218211dfbaf: Download complete\n",
      "570836b5c4f5: Verifying Checksum\n",
      "570836b5c4f5: Download complete\n",
      "b5365d3e8235: Verifying Checksum\n",
      "b5365d3e8235: Download complete\n",
      "570836b5c4f5: Pull complete\n",
      "fa91064be0b5: Download complete\n",
      "3c9b472a3060: Verifying Checksum\n",
      "3c9b472a3060: Download complete\n",
      "f622203fd988: Verifying Checksum\n",
      "f622203fd988: Download complete\n",
      "b5365d3e8235: Pull complete\n",
      "1c83819d2a11: Verifying Checksum\n",
      "1c83819d2a11: Download complete\n",
      "4f5b87f29bc3: Verifying Checksum\n",
      "4f5b87f29bc3: Download complete\n",
      "d218211dfbaf: Pull complete\n",
      "15bf4ac154d6: Verifying Checksum\n",
      "15bf4ac154d6: Download complete\n",
      "fa91064be0b5: Pull complete\n",
      "3c9b472a3060: Pull complete\n",
      "f622203fd988: Pull complete\n",
      "4f5b87f29bc3: Pull complete\n",
      "1c83819d2a11: Pull complete\n",
      "15bf4ac154d6: Pull complete\n",
      "Digest: sha256:fd1385380edf4ecc76f5133750f1caa418dcd31b5fd423931fce30ce7a5421e4\n",
      "Status: Downloaded newer image for gcr.io/kaniko-project/executor:latest\n",
      "gcr.io/kaniko-project/executor:latest\n",
      "\u001b[36mINFO\u001b[0m[0000] Retrieving image manifest tiangolo/uvicorn-gunicorn-fastapi:python3.10 \n",
      "\u001b[36mINFO\u001b[0m[0000] Retrieving image tiangolo/uvicorn-gunicorn-fastapi:python3.10 from registry index.docker.io \n",
      "\u001b[36mINFO\u001b[0m[0000] Built cross stage deps: map[]                \n",
      "\u001b[36mINFO\u001b[0m[0000] Retrieving image manifest tiangolo/uvicorn-gunicorn-fastapi:python3.10 \n",
      "\u001b[36mINFO\u001b[0m[0000] Returning cached image manifest              \n",
      "\u001b[36mINFO\u001b[0m[0000] Executing 0 build triggers                   \n",
      "\u001b[36mINFO\u001b[0m[0000] Building stage 'tiangolo/uvicorn-gunicorn-fastapi:python3.10' [idx: '0', base-idx: '-1'] \n",
      "\u001b[36mINFO\u001b[0m[0000] Unpacking rootfs as cmd COPY src/prediction /app requires it.\n",
      "\u001b[36mINFO\u001b[0m[0013] COPY src/prediction /app                     \n",
      "\u001b[36mINFO\u001b[0m[0013] Taking snapshot of files...                  \n",
      "\u001b[36mINFO\u001b[0m[0013] COPY requirements.txt /app/requirements.txt  \n",
      "\u001b[36mINFO\u001b[0m[0013] Taking snapshot of files...                  \n",
      "\u001b[36mINFO\u001b[0m[0013] RUN pip3 install -r /app/requirements.txt    \n",
      "\u001b[36mINFO\u001b[0m[0013] Initializing snapshotter ...                 \n",
      "\u001b[36mINFO\u001b[0m[0013] Taking snapshot of full filesystem...\n",
      "\u001b[36mINFO\u001b[0m[0017] Cmd: /bin/sh                                 \n",
      "\u001b[36mINFO\u001b[0m[0017] Args: [-c pip3 install -r /app/requirements.txt] \n",
      "\u001b[36mINFO\u001b[0m[0017] Running: [/bin/sh -c pip3 install -r /app/requirements.txt]\n",
      "Collecting numpy\n",
      "  Downloading numpy-1.25.0-cp310-cp310-manylinux_2_17_x86_64.manylinux2014_x86_64.whl (17.6 MB)\n",
      "     ━━━━━━━━━━━━━━━━━━━━━━━━━━━━━━━━━━━━━━━━ 17.6/17.6 MB 95.4 MB/s eta 0:00:00\n",
      "Collecting six\n",
      "  Downloading six-1.16.0-py2.py3-none-any.whl (11 kB)\n",
      "Collecting typing-extensions~=4.6.3\n",
      "  Downloading typing_extensions-4.6.3-py3-none-any.whl (31 kB)\n",
      "Collecting pillow\n",
      "  Downloading Pillow-10.0.0-cp310-cp310-manylinux_2_28_x86_64.whl (3.4 MB)\n",
      "     ━━━━━━━━━━━━━━━━━━━━━━━━━━━━━━━━━━━━━━━━ 3.4/3.4 MB 79.3 MB/s eta 0:00:00\n",
      "Collecting tf-agents==0.16.0\n",
      "  Downloading tf_agents-0.16.0-py3-none-any.whl (1.4 MB)\n",
      "     ━━━━━━━━━━━━━━━━━━━━━━━━━━━━━━━━━━━━━━━━ 1.4/1.4 MB 92.2 MB/s eta 0:00:00\n",
      "Collecting tensorflow==2.12.0\n",
      "  Downloading tensorflow-2.12.0-cp310-cp310-manylinux_2_17_x86_64.manylinux2014_x86_64.whl (585.9 MB)\n",
      "     ━━━━━━━━━━━━━━━━━━━━━━━━━━━━━━━━━━━━━━━ 585.9/585.9 MB 3.1 MB/s eta 0:00:00\n",
      "Collecting absl-py>=0.6.1\n",
      "  Downloading absl_py-1.4.0-py3-none-any.whl (126 kB)\n",
      "     ━━━━━━━━━━━━━━━━━━━━━━━━━━━━━━━━━━━━━━ 126.5/126.5 kB 21.2 MB/s eta 0:00:00\n",
      "Collecting protobuf>=3.11.3\n",
      "  Downloading protobuf-4.23.3-cp37-abi3-manylinux2014_x86_64.whl (304 kB)\n",
      "     ━━━━━━━━━━━━━━━━━━━━━━━━━━━━━━━━━━━━━━ 304.5/304.5 kB 39.0 MB/s eta 0:00:00\n",
      "Collecting cloudpickle>=1.3\n",
      "  Downloading cloudpickle-2.2.1-py3-none-any.whl (25 kB)\n",
      "Collecting wrapt>=1.11.1\n",
      "  Downloading wrapt-1.15.0-cp310-cp310-manylinux_2_5_x86_64.manylinux1_x86_64.manylinux_2_17_x86_64.manylinux2014_x86_64.whl (78 kB)\n",
      "     ━━━━━━━━━━━━━━━━━━━━━━━━━━━━━━━━━━━━━━━━ 78.4/78.4 kB 14.9 MB/s eta 0:00:00\n",
      "Collecting pygame==2.1.3\n",
      "  Downloading pygame-2.1.3-cp310-cp310-manylinux_2_17_x86_64.manylinux2014_x86_64.whl (13.7 MB)\n",
      "     ━━━━━━━━━━━━━━━━━━━━━━━━━━━━━━━━━━━━━━━ 13.7/13.7 MB 102.0 MB/s eta 0:00:00\n",
      "Collecting gym<=0.23.0,>=0.17.0\n",
      "  Downloading gym-0.23.0.tar.gz (624 kB)\n",
      "     ━━━━━━━━━━━━━━━━━━━━━━━━━━━━━━━━━━━━━━ 624.4/624.4 kB 62.3 MB/s eta 0:00:00\n",
      "  Installing build dependencies: started\n",
      "  Installing build dependencies: finished with status 'done'\n",
      "  Getting requirements to build wheel: started\n",
      "  Getting requirements to build wheel: finished with status 'done'\n",
      "  Preparing metadata (pyproject.toml): started\n",
      "  Preparing metadata (pyproject.toml): finished with status 'done'\n",
      "Collecting tensorflow-probability~=0.19.0\n",
      "  Downloading tensorflow_probability-0.19.0-py2.py3-none-any.whl (6.7 MB)\n",
      "     ━━━━━━━━━━━━━━━━━━━━━━━━━━━━━━━━━━━━━━━━ 6.7/6.7 MB 113.4 MB/s eta 0:00:00\n",
      "Collecting gin-config>=0.4.0\n",
      "  Downloading gin_config-0.5.0-py3-none-any.whl (61 kB)\n",
      "     ━━━━━━━━━━━━━━━━━━━━━━━━━━━━━━━━━━━━━━━━ 61.3/61.3 kB 10.9 MB/s eta 0:00:00\n",
      "Collecting numpy\n",
      "  Downloading numpy-1.23.5-cp310-cp310-manylinux_2_17_x86_64.manylinux2014_x86_64.whl (17.1 MB)\n",
      "     ━━━━━━━━━━━━━━━━━━━━━━━━━━━━━━━━━━━━━━━ 17.1/17.1 MB 103.0 MB/s eta 0:00:00\n",
      "Collecting tensorboard<2.13,>=2.12\n",
      "  Downloading tensorboard-2.12.3-py3-none-any.whl (5.6 MB)\n",
      "     ━━━━━━━━━━━━━━━━━━━━━━━━━━━━━━━━━━━━━━━━ 5.6/5.6 MB 127.5 MB/s eta 0:00:00\n",
      "Collecting libclang>=13.0.0\n",
      "  Downloading libclang-16.0.0-py2.py3-none-manylinux2010_x86_64.whl (22.9 MB)\n",
      "     ━━━━━━━━━━━━━━━━━━━━━━━━━━━━━━━━━━━━━━━ 22.9/22.9 MB 106.7 MB/s eta 0:00:00\n",
      "Collecting google-pasta>=0.1.1\n",
      "  Downloading google_pasta-0.2.0-py3-none-any.whl (57 kB)\n",
      "     ━━━━━━━━━━━━━━━━━━━━━━━━━━━━━━━━━━━━━━━━ 57.5/57.5 kB 9.6 MB/s eta 0:00:00\n",
      "Collecting wrapt>=1.11.1\n",
      "  Downloading wrapt-1.14.1-cp310-cp310-manylinux_2_5_x86_64.manylinux1_x86_64.manylinux_2_17_x86_64.manylinux2014_x86_64.whl (77 kB)\n",
      "     ━━━━━━━━━━━━━━━━━━━━━━━━━━━━━━━━━━━━━━━━ 77.9/77.9 kB 13.7 MB/s eta 0:00:00\n",
      "Collecting grpcio<2.0,>=1.24.3\n",
      "  Downloading grpcio-1.56.0-cp310-cp310-manylinux_2_17_x86_64.manylinux2014_x86_64.whl (5.2 MB)\n",
      "     ━━━━━━━━━━━━━━━━━━━━━━━━━━━━━━━━━━━━━━━━ 5.2/5.2 MB 125.5 MB/s eta 0:00:00\n",
      "Collecting astunparse>=1.6.0\n",
      "  Downloading astunparse-1.6.3-py2.py3-none-any.whl (12 kB)\n",
      "Collecting h5py>=2.9.0\n",
      "  Downloading h5py-3.9.0-cp310-cp310-manylinux_2_17_x86_64.manylinux2014_x86_64.whl (4.8 MB)\n",
      "     ━━━━━━━━━━━━━━━━━━━━━━━━━━━━━━━━━━━━━━━━ 4.8/4.8 MB 134.7 MB/s eta 0:00:00\n",
      "Requirement already satisfied: setuptools in /usr/local/lib/python3.10/site-packages (from tensorflow==2.12.0->-r /app/requirements.txt (line 7)) (65.5.1)\n",
      "Collecting packaging\n",
      "  Downloading packaging-23.1-py3-none-any.whl (48 kB)\n",
      "     ━━━━━━━━━━━━━━━━━━━━━━━━━━━━━━━━━━━━━━━━ 48.9/48.9 kB 7.6 MB/s eta 0:00:00\n",
      "Collecting tensorflow-estimator<2.13,>=2.12.0\n",
      "  Downloading tensorflow_estimator-2.12.0-py2.py3-none-any.whl (440 kB)\n",
      "     ━━━━━━━━━━━━━━━━━━━━━━━━━━━━━━━━━━━━━━ 440.7/440.7 kB 50.9 MB/s eta 0:00:00\n",
      "Collecting tensorflow-io-gcs-filesystem>=0.23.1\n",
      "  Downloading tensorflow_io_gcs_filesystem-0.32.0-cp310-cp310-manylinux_2_12_x86_64.manylinux2010_x86_64.whl (2.4 MB)\n",
      "     ━━━━━━━━━━━━━━━━━━━━━━━━━━━━━━━━━━━━━━━━ 2.4/2.4 MB 50.9 MB/s eta 0:00:00\n",
      "Collecting termcolor>=1.1.0\n",
      "  Downloading termcolor-2.3.0-py3-none-any.whl (6.9 kB)\n",
      "Collecting opt-einsum>=2.3.2\n",
      "  Downloading opt_einsum-3.3.0-py3-none-any.whl (65 kB)\n",
      "     ━━━━━━━━━━━━━━━━━━━━━━━━━━━━━━━━━━━━━━━━ 65.5/65.5 kB 12.2 MB/s eta 0:00:00\n",
      "Collecting jax>=0.3.15\n",
      "  Downloading jax-0.4.13.tar.gz (1.3 MB)\n",
      "     ━━━━━━━━━━━━━━━━━━━━━━━━━━━━━━━━━━━━━━━━ 1.3/1.3 MB 100.0 MB/s eta 0:00:00\n",
      "  Installing build dependencies: started\n",
      "  Installing build dependencies: finished with status 'done'\n",
      "  Getting requirements to build wheel: started\n",
      "  Getting requirements to build wheel: finished with status 'done'\n",
      "  Preparing metadata (pyproject.toml): started\n",
      "  Preparing metadata (pyproject.toml): finished with status 'done'\n",
      "Collecting keras<2.13,>=2.12.0\n",
      "  Downloading keras-2.12.0-py2.py3-none-any.whl (1.7 MB)\n",
      "     ━━━━━━━━━━━━━━━━━━━━━━━━━━━━━━━━━━━━━━━━ 1.7/1.7 MB 87.8 MB/s eta 0:00:00\n",
      "Collecting flatbuffers>=2.0\n",
      "  Downloading flatbuffers-23.5.26-py2.py3-none-any.whl (26 kB)\n",
      "Collecting gast<=0.4.0,>=0.2.1\n",
      "  Downloading gast-0.4.0-py3-none-any.whl (9.8 kB)\n",
      "Requirement already satisfied: wheel<1.0,>=0.23.0 in /usr/local/lib/python3.10/site-packages (from astunparse>=1.6.0->tensorflow==2.12.0->-r /app/requirements.txt (line 7)) (0.40.0)\n",
      "Collecting gym-notices>=0.0.4\n",
      "  Downloading gym_notices-0.0.8-py3-none-any.whl (3.0 kB)\n",
      "Collecting ml-dtypes>=0.1.0\n",
      "  Downloading ml_dtypes-0.2.0-cp310-cp310-manylinux_2_17_x86_64.manylinux2014_x86_64.whl (1.0 MB)\n",
      "     ━━━━━━━━━━━━━━━━━━━━━━━━━━━━━━━━━━━━━━━━ 1.0/1.0 MB 70.9 MB/s eta 0:00:00\n",
      "Collecting scipy>=1.7\n",
      "  Downloading scipy-1.11.1-cp310-cp310-manylinux_2_17_x86_64.manylinux2014_x86_64.whl (36.3 MB)\n",
      "     ━━━━━━━━━━━━━━━━━━━━━━━━━━━━━━━━━━━━━━━━ 36.3/36.3 MB 66.9 MB/s eta 0:00:00\n",
      "Collecting tensorboard-data-server<0.8.0,>=0.7.0\n",
      "  Downloading tensorboard_data_server-0.7.1-py3-none-manylinux2014_x86_64.whl (6.6 MB)\n",
      "     ━━━━━━━━━━━━━━━━━━━━━━━━━━━━━━━━━━━━━━━━ 6.6/6.6 MB 138.5 MB/s eta 0:00:00\n",
      "Collecting google-auth-oauthlib<1.1,>=0.5\n",
      "  Downloading google_auth_oauthlib-1.0.0-py2.py3-none-any.whl (18 kB)\n",
      "Collecting markdown>=2.6.8\n",
      "  Downloading Markdown-3.4.3-py3-none-any.whl (93 kB)\n",
      "     ━━━━━━━━━━━━━━━━━━━━━━━━━━━━━━━━━━━━━━━━ 93.9/93.9 kB 15.6 MB/s eta 0:00:00\n",
      "Collecting werkzeug>=1.0.1\n",
      "  Downloading Werkzeug-2.3.6-py3-none-any.whl (242 kB)\n",
      "     ━━━━━━━━━━━━━━━━━━━━━━━━━━━━━━━━━━━━━━ 242.5/242.5 kB 42.3 MB/s eta 0:00:00\n",
      "Collecting requests<3,>=2.21.0\n",
      "  Downloading requests-2.31.0-py3-none-any.whl (62 kB)\n",
      "     ━━━━━━━━━━━━━━━━━━━━━━━━━━━━━━━━━━━━━━━━ 62.6/62.6 kB 13.6 MB/s eta 0:00:00\n",
      "Collecting google-auth<3,>=1.6.3\n",
      "  Downloading google_auth-2.21.0-py2.py3-none-any.whl (182 kB)\n",
      "     ━━━━━━━━━━━━━━━━━━━━━━━━━━━━━━━━━━━━━━ 182.1/182.1 kB 28.7 MB/s eta 0:00:00\n",
      "Collecting dm-tree\n",
      "  Downloading dm_tree-0.1.8-cp310-cp310-manylinux_2_17_x86_64.manylinux2014_x86_64.whl (152 kB)\n",
      "     ━━━━━━━━━━━━━━━━━━━━━━━━━━━━━━━━━━━━━━ 152.8/152.8 kB 24.2 MB/s eta 0:00:00\n",
      "Collecting decorator\n",
      "  Downloading decorator-5.1.1-py3-none-any.whl (9.1 kB)\n",
      "Collecting pyasn1-modules>=0.2.1\n",
      "  Downloading pyasn1_modules-0.3.0-py2.py3-none-any.whl (181 kB)\n",
      "     ━━━━━━━━━━━━━━━━━━━━━━━━━━━━━━━━━━━━━━ 181.3/181.3 kB 29.1 MB/s eta 0:00:00\n",
      "Collecting cachetools<6.0,>=2.0.0\n",
      "  Downloading cachetools-5.3.1-py3-none-any.whl (9.3 kB)\n",
      "Collecting rsa<5,>=3.1.4\n",
      "  Downloading rsa-4.9-py3-none-any.whl (34 kB)\n",
      "Collecting urllib3<2.0\n",
      "  Downloading urllib3-1.26.16-py2.py3-none-any.whl (143 kB)\n",
      "     ━━━━━━━━━━━━━━━━━━━━━━━━━━━━━━━━━━━━━━ 143.1/143.1 kB 23.3 MB/s eta 0:00:00\n",
      "Collecting requests-oauthlib>=0.7.0\n",
      "  Downloading requests_oauthlib-1.3.1-py2.py3-none-any.whl (23 kB)\n",
      "Collecting charset-normalizer<4,>=2\n",
      "  Downloading charset_normalizer-3.1.0-cp310-cp310-manylinux_2_17_x86_64.manylinux2014_x86_64.whl (199 kB)\n",
      "     ━━━━━━━━━━━━━━━━━━━━━━━━━━━━━━━━━━━━━━ 199.3/199.3 kB 32.9 MB/s eta 0:00:00\n",
      "Requirement already satisfied: certifi>=2017.4.17 in /usr/local/lib/python3.10/site-packages (from requests<3,>=2.21.0->tensorboard<2.13,>=2.12->tensorflow==2.12.0->-r /app/requirements.txt (line 7)) (2023.5.7)\n",
      "Requirement already satisfied: idna<4,>=2.5 in /usr/local/lib/python3.10/site-packages (from requests<3,>=2.21.0->tensorboard<2.13,>=2.12->tensorflow==2.12.0->-r /app/requirements.txt (line 7)) (3.4)\n",
      "Requirement already satisfied: MarkupSafe>=2.1.1 in /usr/local/lib/python3.10/site-packages (from werkzeug>=1.0.1->tensorboard<2.13,>=2.12->tensorflow==2.12.0->-r /app/requirements.txt (line 7)) (2.1.3)\n",
      "Collecting pyasn1<0.6.0,>=0.4.6\n",
      "  Downloading pyasn1-0.5.0-py2.py3-none-any.whl (83 kB)\n",
      "     ━━━━━━━━━━━━━━━━━━━━━━━━━━━━━━━━━━━━━━━━ 83.9/83.9 kB 12.8 MB/s eta 0:00:00\n",
      "Collecting oauthlib>=3.0.0\n",
      "  Downloading oauthlib-3.2.2-py3-none-any.whl (151 kB)\n",
      "     ━━━━━━━━━━━━━━━━━━━━━━━━━━━━━━━━━━━━━━ 151.7/151.7 kB 24.5 MB/s eta 0:00:00\n",
      "Building wheels for collected packages: gym, jax\n",
      "  Building wheel for gym (pyproject.toml): started\n",
      "  Building wheel for gym (pyproject.toml): finished with status 'done'\n",
      "  Created wheel for gym: filename=gym-0.23.0-py3-none-any.whl size=697641 sha256=504086b825675d2ca6fb6f4fb3fd858c2948da08287ed8876fabd79ceeb46340\n",
      "  Stored in directory: /root/.cache/pip/wheels/3d/6f/b4/3991d4fae11d0ecb0754c11cc1b4e7745012850da4efaaf0b1\n",
      "  Building wheel for jax (pyproject.toml): started\n",
      "  Building wheel for jax (pyproject.toml): finished with status 'done'\n",
      "  Created wheel for jax: filename=jax-0.4.13-py3-none-any.whl size=1518707 sha256=cffd4600c55bdc9d95258fad954660fc9702fe64e07ff7df795142c874ce6c47\n",
      "  Stored in directory: /root/.cache/pip/wheels/f3/7a/25/f297f69029b5e4064e4736a0c4b3996a44cc27781c120bcb99\n",
      "Successfully built gym jax\n",
      "Installing collected packages: libclang, gym-notices, gin-config, flatbuffers, dm-tree, wrapt, werkzeug, urllib3, typing-extensions, termcolor, tensorflow-io-gcs-filesystem, tensorflow-estimator, tensorboard-data-server, six, pygame, pyasn1, protobuf, pillow, packaging, oauthlib, numpy, markdown, keras, grpcio, gast, decorator, cloudpickle, charset-normalizer, cachetools, absl-py, tensorflow-probability, scipy, rsa, requests, pyasn1-modules, opt-einsum, ml-dtypes, h5py, gym, google-pasta, astunparse, tf-agents, requests-oauthlib, jax, google-auth, google-auth-oauthlib, tensorboard, tensorflow\n",
      "  Attempting uninstall: typing-extensions\n",
      "    Found existing installation: typing_extensions 4.7.1\n",
      "    Uninstalling typing_extensions-4.7.1:\n",
      "      Successfully uninstalled typing_extensions-4.7.1\n",
      "Successfully installed absl-py-1.4.0 astunparse-1.6.3 cachetools-5.3.1 charset-normalizer-3.1.0 cloudpickle-2.2.1 decorator-5.1.1 dm-tree-0.1.8 flatbuffers-23.5.26 gast-0.4.0 gin-config-0.5.0 google-auth-2.21.0 google-auth-oauthlib-1.0.0 google-pasta-0.2.0 grpcio-1.56.0 gym-0.23.0 gym-notices-0.0.8 h5py-3.9.0 jax-0.4.13 keras-2.12.0 libclang-16.0.0 markdown-3.4.3 ml-dtypes-0.2.0 numpy-1.23.5 oauthlib-3.2.2 opt-einsum-3.3.0 packaging-23.1 pillow-10.0.0 protobuf-4.23.3 pyasn1-0.5.0 pyasn1-modules-0.3.0 pygame-2.1.3 requests-2.31.0 requests-oauthlib-1.3.1 rsa-4.9 scipy-1.11.1 six-1.16.0 tensorboard-2.12.3 tensorboard-data-server-0.7.1 tensorflow-2.12.0 tensorflow-estimator-2.12.0 tensorflow-io-gcs-filesystem-0.32.0 tensorflow-probability-0.19.0 termcolor-2.3.0 tf-agents-0.16.0 typing-extensions-4.6.3 urllib3-1.26.16 werkzeug-2.3.6 wrapt-1.14.1\n",
      "WARNING: Running pip as the 'root' user can result in broken permissions and conflicting behaviour with the system package manager. It is recommended to use a virtual environment instead: https://pip.pypa.io/warnings/venv\n",
      "\n",
      "[notice] A new release of pip is available: 23.0.1 -> 23.1.2\n",
      "[notice] To update, run: pip install --upgrade pip\n",
      "\u001b[36mINFO\u001b[0m[0061] Taking snapshot of full filesystem...\n",
      "\u001b[36mINFO\u001b[0m[0112] Pushing image to gcr.io/hybrid-vertex/prediction-custom-container:latest\n",
      "\u001b[36mINFO\u001b[0m[0135] Pushed gcr.io/hybrid-vertex/prediction-custom-container@sha256:dcf249899bd8ed63ccd64abe5d3fd7528ba8fa5d8be704a321b3b53c48947c25\n",
      "PUSH\n",
      "DONE\n",
      "--------------------------------------------------------------------------------\n",
      "ID                                    CREATE_TIME                DURATION  SOURCE                                                                                       IMAGES  STATUS\n",
      "242712c9-8d53-4d49-a3fe-afdc31eeee24  2023-07-03T17:56:12+00:00  2M32S     gs://hybrid-vertex_cloudbuild/source/1688406972.461754-48cb017386c44015ba6d9a205da79337.tgz  -       SUCCESS\n"
     ]
    }
   ],
   "source": [
    "! gcloud builds submit --config cloudbuild.yaml"
   ]
  },
  {
   "cell_type": "markdown",
   "metadata": {
    "id": "6895e6d5"
   },
   "source": [
    "### Submit custom container training job\n",
    "\n",
    "- Note again that the bucket must be in the same regional location as the service location and it should not be multi-regional.\n",
    "- Read more of CustomContainerTrainingJob's source code [here](https://github.com/googleapis/python-aiplatform/blob/v0.8.0/google/cloud/aiplatform/training_jobs.py#L2153).\n",
    "- Like with local execution, you can use TensorBoard Profiler to track the training process and resources, and visualize the corresponding artifacts using the command: `%tensorboard --logdir $PROFILER_DIR`."
   ]
  },
  {
   "cell_type": "code",
   "execution_count": 118,
   "metadata": {
    "id": "9f05d08a"
   },
   "outputs": [],
   "source": [
    "aiplatform.init(project=PROJECT_ID, location=REGION, staging_bucket=BUCKET_NAME)"
   ]
  },
  {
   "cell_type": "code",
   "execution_count": 119,
   "metadata": {
    "id": "ab31a8da"
   },
   "outputs": [],
   "source": [
    "RUN_HYPERPARAMETER_TUNING = False  # Execute regular training instead of hyperparameter tuning.\n",
    "TRAIN_WITH_BEST_HYPERPARAMETERS = True  # @param {type:\"bool\"} Whether to use learned hyperparameters in training."
   ]
  },
  {
   "cell_type": "code",
   "execution_count": 120,
   "metadata": {
    "id": "218eca21"
   },
   "outputs": [],
   "source": [
    "args = [\n",
    "    f\"--artifacts-dir={ARTIFACTS_DIR}\",\n",
    "    f\"--profiler-dir={PROFILER_DIR}\",\n",
    "    f\"--data-path={DATA_PATH}\",\n",
    "    f\"--batch-size={BATCH_SIZE}\",\n",
    "    f\"--rank-k={RANK_K}\",\n",
    "    f\"--num-actions={NUM_ACTIONS}\",\n",
    "    f\"--tikhonov-weight={TIKHONOV_WEIGHT}\",\n",
    "    f\"--agent-alpha={AGENT_ALPHA}\",\n",
    "]\n",
    "if RUN_HYPERPARAMETER_TUNING:\n",
    "    args.append(\"--run-hyperparameter-tuning\")\n",
    "elif TRAIN_WITH_BEST_HYPERPARAMETERS:\n",
    "    args.append(\"--train-with-best-hyperparameters\")\n",
    "    args.append(f\"--best-hyperparameters-bucket={RAW_BUCKET_NAME}\")\n",
    "    args.append(f\"--best-hyperparameters-path={HPTUNING_RESULT_PATH}\")"
   ]
  },
  {
   "cell_type": "code",
   "execution_count": 121,
   "metadata": {
    "id": "e8080155"
   },
   "outputs": [
    {
     "name": "stdout",
     "output_type": "stream",
     "text": [
      "Training Spec: container_spec {\n",
      "  image_uri: \"gcr.io/hybrid-vertex/prediction-custom-container:latest\"\n",
      "  predict_route: \"/predict\"\n",
      "  health_route: \"/health\"\n",
      "}\n",
      "\n",
      "Training Output directory:\n",
      "gs://tf-agents-bandits-v1/aiplatform-custom-training-2023-07-03-17:59:53.213 \n"
     ]
    },
    {
     "name": "stderr",
     "output_type": "stream",
     "text": [
      "INFO:google.cloud.aiplatform.training_jobs:Training Output directory:\n",
      "gs://tf-agents-bandits-v1/aiplatform-custom-training-2023-07-03-17:59:53.213 \n"
     ]
    },
    {
     "name": "stdout",
     "output_type": "stream",
     "text": [
      "View Training:\n",
      "https://console.cloud.google.com/ai/platform/locations/us-central1/training/8335490077866065920?project=934903580331\n"
     ]
    },
    {
     "name": "stderr",
     "output_type": "stream",
     "text": [
      "INFO:google.cloud.aiplatform.training_jobs:View Training:\n",
      "https://console.cloud.google.com/ai/platform/locations/us-central1/training/8335490077866065920?project=934903580331\n"
     ]
    },
    {
     "name": "stdout",
     "output_type": "stream",
     "text": [
      "CustomContainerTrainingJob projects/934903580331/locations/us-central1/trainingPipelines/8335490077866065920 current state:\n",
      "PipelineState.PIPELINE_STATE_RUNNING\n"
     ]
    },
    {
     "name": "stderr",
     "output_type": "stream",
     "text": [
      "INFO:google.cloud.aiplatform.training_jobs:CustomContainerTrainingJob projects/934903580331/locations/us-central1/trainingPipelines/8335490077866065920 current state:\n",
      "PipelineState.PIPELINE_STATE_RUNNING\n"
     ]
    },
    {
     "name": "stdout",
     "output_type": "stream",
     "text": [
      "View backing custom job:\n",
      "https://console.cloud.google.com/ai/platform/locations/us-central1/training/4168244251571781632?project=934903580331\n"
     ]
    },
    {
     "name": "stderr",
     "output_type": "stream",
     "text": [
      "INFO:google.cloud.aiplatform.training_jobs:View backing custom job:\n",
      "https://console.cloud.google.com/ai/platform/locations/us-central1/training/4168244251571781632?project=934903580331\n"
     ]
    },
    {
     "name": "stdout",
     "output_type": "stream",
     "text": [
      "CustomContainerTrainingJob projects/934903580331/locations/us-central1/trainingPipelines/8335490077866065920 current state:\n",
      "PipelineState.PIPELINE_STATE_RUNNING\n"
     ]
    },
    {
     "name": "stderr",
     "output_type": "stream",
     "text": [
      "INFO:google.cloud.aiplatform.training_jobs:CustomContainerTrainingJob projects/934903580331/locations/us-central1/trainingPipelines/8335490077866065920 current state:\n",
      "PipelineState.PIPELINE_STATE_RUNNING\n"
     ]
    },
    {
     "name": "stdout",
     "output_type": "stream",
     "text": [
      "CustomContainerTrainingJob projects/934903580331/locations/us-central1/trainingPipelines/8335490077866065920 current state:\n",
      "PipelineState.PIPELINE_STATE_RUNNING\n"
     ]
    },
    {
     "name": "stderr",
     "output_type": "stream",
     "text": [
      "INFO:google.cloud.aiplatform.training_jobs:CustomContainerTrainingJob projects/934903580331/locations/us-central1/trainingPipelines/8335490077866065920 current state:\n",
      "PipelineState.PIPELINE_STATE_RUNNING\n"
     ]
    },
    {
     "name": "stdout",
     "output_type": "stream",
     "text": [
      "CustomContainerTrainingJob projects/934903580331/locations/us-central1/trainingPipelines/8335490077866065920 current state:\n",
      "PipelineState.PIPELINE_STATE_RUNNING\n"
     ]
    },
    {
     "name": "stderr",
     "output_type": "stream",
     "text": [
      "INFO:google.cloud.aiplatform.training_jobs:CustomContainerTrainingJob projects/934903580331/locations/us-central1/trainingPipelines/8335490077866065920 current state:\n",
      "PipelineState.PIPELINE_STATE_RUNNING\n"
     ]
    },
    {
     "name": "stdout",
     "output_type": "stream",
     "text": [
      "CustomContainerTrainingJob projects/934903580331/locations/us-central1/trainingPipelines/8335490077866065920 current state:\n",
      "PipelineState.PIPELINE_STATE_RUNNING\n"
     ]
    },
    {
     "name": "stderr",
     "output_type": "stream",
     "text": [
      "INFO:google.cloud.aiplatform.training_jobs:CustomContainerTrainingJob projects/934903580331/locations/us-central1/trainingPipelines/8335490077866065920 current state:\n",
      "PipelineState.PIPELINE_STATE_RUNNING\n"
     ]
    },
    {
     "name": "stdout",
     "output_type": "stream",
     "text": [
      "CustomContainerTrainingJob run completed. Resource name: projects/934903580331/locations/us-central1/trainingPipelines/8335490077866065920\n"
     ]
    },
    {
     "name": "stderr",
     "output_type": "stream",
     "text": [
      "INFO:google.cloud.aiplatform.training_jobs:CustomContainerTrainingJob run completed. Resource name: projects/934903580331/locations/us-central1/trainingPipelines/8335490077866065920\n"
     ]
    },
    {
     "name": "stdout",
     "output_type": "stream",
     "text": [
      "Model available at projects/934903580331/locations/us-central1/models/1011297809879531520\n"
     ]
    },
    {
     "name": "stderr",
     "output_type": "stream",
     "text": [
      "INFO:google.cloud.aiplatform.training_jobs:Model available at projects/934903580331/locations/us-central1/models/1011297809879531520\n"
     ]
    }
   ],
   "source": [
    "job = aiplatform.CustomContainerTrainingJob(\n",
    "    display_name=\"train-movielens\",\n",
    "    container_uri=f\"gcr.io/{PROJECT_ID}/{HPTUNING_TRAINING_CONTAINER}:latest\",\n",
    "    command=[\"python3\", \"-m\", \"src.training.task\"] + args,  # Pass in training arguments, including hyperparameters.\n",
    "    model_serving_container_image_uri=f\"gcr.io/{PROJECT_ID}/{PREDICTION_CONTAINER}:latest\",\n",
    "    model_serving_container_predict_route=\"/predict\",\n",
    "    model_serving_container_health_route=\"/health\")\n",
    "\n",
    "print(\"Training Spec:\", job._managed_model)\n",
    "\n",
    "model = job.run(\n",
    "    model_display_name=\"movielens-model\",\n",
    "    replica_count=1,\n",
    "    machine_type=\"n1-standard-4\",\n",
    "    accelerator_type=\"ACCELERATOR_TYPE_UNSPECIFIED\",\n",
    "    accelerator_count=0,\n",
    "    sync=False\n",
    ")\n",
    "    "
   ]
  },
  {
   "cell_type": "code",
   "execution_count": 122,
   "metadata": {
    "id": "3971b79d"
   },
   "outputs": [
    {
     "name": "stdout",
     "output_type": "stream",
     "text": [
      "Model display name: movielens-model\n",
      "Model ID: 1011297809879531520\n"
     ]
    }
   ],
   "source": [
    "print(\"Model display name:\", model.display_name)\n",
    "print(\"Model ID:\", model.name)"
   ]
  },
  {
   "cell_type": "markdown",
   "metadata": {
    "id": "bfd47f03"
   },
   "source": [
    "### Deploy trained model to an Endpoint"
   ]
  },
  {
   "cell_type": "code",
   "execution_count": 123,
   "metadata": {
    "id": "1c2fd020"
   },
   "outputs": [
    {
     "name": "stdout",
     "output_type": "stream",
     "text": [
      "Creating Endpoint\n"
     ]
    },
    {
     "name": "stderr",
     "output_type": "stream",
     "text": [
      "INFO:google.cloud.aiplatform.models:Creating Endpoint\n"
     ]
    },
    {
     "name": "stdout",
     "output_type": "stream",
     "text": [
      "Create Endpoint backing LRO: projects/934903580331/locations/us-central1/endpoints/1232081943760207872/operations/6405804427604656128\n"
     ]
    },
    {
     "name": "stderr",
     "output_type": "stream",
     "text": [
      "INFO:google.cloud.aiplatform.models:Create Endpoint backing LRO: projects/934903580331/locations/us-central1/endpoints/1232081943760207872/operations/6405804427604656128\n"
     ]
    },
    {
     "name": "stdout",
     "output_type": "stream",
     "text": [
      "Endpoint created. Resource name: projects/934903580331/locations/us-central1/endpoints/1232081943760207872\n"
     ]
    },
    {
     "name": "stderr",
     "output_type": "stream",
     "text": [
      "INFO:google.cloud.aiplatform.models:Endpoint created. Resource name: projects/934903580331/locations/us-central1/endpoints/1232081943760207872\n"
     ]
    },
    {
     "name": "stdout",
     "output_type": "stream",
     "text": [
      "To use this Endpoint in another session:\n"
     ]
    },
    {
     "name": "stderr",
     "output_type": "stream",
     "text": [
      "INFO:google.cloud.aiplatform.models:To use this Endpoint in another session:\n"
     ]
    },
    {
     "name": "stdout",
     "output_type": "stream",
     "text": [
      "endpoint = aiplatform.Endpoint('projects/934903580331/locations/us-central1/endpoints/1232081943760207872')\n"
     ]
    },
    {
     "name": "stderr",
     "output_type": "stream",
     "text": [
      "INFO:google.cloud.aiplatform.models:endpoint = aiplatform.Endpoint('projects/934903580331/locations/us-central1/endpoints/1232081943760207872')\n"
     ]
    },
    {
     "name": "stdout",
     "output_type": "stream",
     "text": [
      "Deploying model to Endpoint : projects/934903580331/locations/us-central1/endpoints/1232081943760207872\n"
     ]
    },
    {
     "name": "stderr",
     "output_type": "stream",
     "text": [
      "INFO:google.cloud.aiplatform.models:Deploying model to Endpoint : projects/934903580331/locations/us-central1/endpoints/1232081943760207872\n"
     ]
    },
    {
     "name": "stdout",
     "output_type": "stream",
     "text": [
      "Deploy Endpoint model backing LRO: projects/934903580331/locations/us-central1/endpoints/1232081943760207872/operations/6423818826114138112\n"
     ]
    },
    {
     "name": "stderr",
     "output_type": "stream",
     "text": [
      "INFO:google.cloud.aiplatform.models:Deploy Endpoint model backing LRO: projects/934903580331/locations/us-central1/endpoints/1232081943760207872/operations/6423818826114138112\n"
     ]
    },
    {
     "name": "stdout",
     "output_type": "stream",
     "text": [
      "Endpoint model deployed. Resource name: projects/934903580331/locations/us-central1/endpoints/1232081943760207872\n"
     ]
    },
    {
     "name": "stderr",
     "output_type": "stream",
     "text": [
      "INFO:google.cloud.aiplatform.models:Endpoint model deployed. Resource name: projects/934903580331/locations/us-central1/endpoints/1232081943760207872\n"
     ]
    }
   ],
   "source": [
    "endpoint = model.deploy(machine_type=\"n1-standard-4\")"
   ]
  },
  {
   "cell_type": "code",
   "execution_count": 124,
   "metadata": {
    "id": "cffc159f"
   },
   "outputs": [
    {
     "name": "stdout",
     "output_type": "stream",
     "text": [
      "Endpoint display name: movielens-model_endpoint\n",
      "Endpoint ID: 1232081943760207872\n"
     ]
    }
   ],
   "source": [
    "print(\"Endpoint display name:\", endpoint.display_name)\n",
    "print(\"Endpoint ID:\", endpoint.name)"
   ]
  },
  {
   "cell_type": "markdown",
   "metadata": {
    "id": "c85b31b0"
   },
   "source": [
    "### Predict on the Endpoint\n",
    "- Put prediction input(s) into a list named `instances`. The observation should of dimension (BATCH_SIZE, RANK_K). Read more about the MovieLens simulation environment observation [here](https://github.com/tensorflow/agents/blob/v0.8.0/tf_agents/bandits/environments/movielens_py_environment.py#L32-L138).\n",
    "- Read more about the endpoint prediction API [here](https://cloud.google.com/sdk/gcloud/reference/ai/endpoints/predict)."
   ]
  },
  {
   "cell_type": "code",
   "execution_count": 128,
   "metadata": {
    "id": "670e5055"
   },
   "outputs": [
    {
     "data": {
      "text/plain": [
       "Prediction(predictions=[{'PolicyStep 0': [4.0, 4.0, 4.0, 4.0, 4.0, 4.0, 4.0, 4.0]}], deployed_model_id='518989279519571968', model_version_id='1', model_resource_name='projects/934903580331/locations/us-central1/models/1011297809879531520', explanations=None)"
      ]
     },
     "execution_count": 128,
     "metadata": {},
     "output_type": "execute_result"
    }
   ],
   "source": [
    "endpoint.predict(\n",
    "    instances=[\n",
    "        {\"observation\": [list(np.ones(20)) for _ in range(8)]},\n",
    "    ]\n",
    ")"
   ]
  },
  {
   "cell_type": "markdown",
   "metadata": {
    "id": "51780141"
   },
   "source": [
    "## Summary\n",
    "\n",
    "### What exactly is the purpose of the MovieLens simulation environment?\n",
    "\n",
    "The MovieLens environment *simulates* real-world environment containing users and their respective preferences. Internally, the MovieLens simulation environment takes the user-by-movie-item rating matrix and performs a `RANK_K` matrix factorization on the rating matrix, in order to address the sparsity of the matrix. After this construction step, the environment can generate user vectors of dimension `RANK_K` to represent users in the simulation environment, and is able to determine the approximate reward for any user and movie item pair. In RL's language, user vectors are observations, recommended movie items are actions, and approximate ratings are rewards. This environment therefore defines the RL problem at hand: how to recommend movies that maximize user ratings, in a simulated world of users with their respective preferences defined by the MovieLens dataset, while having zero knowledge of the internal mechanism of the environment.\n",
    "\n",
    "Note here the user vectors may not be in the same dimension as in the original rating matrix, and the approximate ratings (to address the sparsity of rating data) may not equal the original ratings. The individual entries in the user vectors do not correspond to real-world meanings, such as user age, etc.. In prediction requests, the observations are user vectors that lie in the same space as those generated by the MovieLens simulation environment. In other words, they represent users in the same way as the user vectors/observations generated by the MovieLens environment.\n",
    "\n",
    "The reason why this demo adopts the MovieLens environment is to base itself on a public dataset without needing to communicate with the real world; such communication adds overhead to the necessary steps of the demo and likely relies on a specific implementation that is difficult to generalize to your production requirements.\n",
    "\n",
    "### How to apply this demo in production\n",
    "\n",
    "#### Step 0: Demo\n",
    "\n",
    "Walk through this demo, which uses the MovieLens simulation environment.\n",
    "\n",
    "#### Step 1: Offline Simulation\n",
    "\n",
    "To evaluate the performance of your RL model, you may need to run offline simulation first to determine if your RL model meets production criteria. In this case, you may have a static dataset, similar to the MovieLens dataset but potentially larger, and you can construct a custom simulation environment to use in place of the MovieLens one. In the custom environment, you may decide how to formulate observations and rewards, such as in terms of how to represent users with user vectors and what those vectors look like, perhaps via an embedding layer in a neural network. You may apply the rest of the steps and code in this demo just as you did for MovieLens, and then evaluate your model. After offline simulation, you may proceed to the next-steps of launching your model, such as A/B testing.\n",
    "\n",
    "#### Step 2: Real-World System\n",
    "\n",
    "When you deploy the steps in this demo in production, you would replace the MovieLens simulation environment with a real-world system or communication mechanism that binds to the real world. In training, you pull user vectors/observations and ratings/rewards from the real-world environment. Now, the individual entries in the user vectors may have actual meanings such as user age. Again, you may decide how to formulate observations and rewards. In prediction, the observations packaged in prediction requests are again the same kind of user vectors as in training, with the same real-world meanings; you would generate them with the same mechanism.\n",
    "\n",
    "Your goal for prediction would again be to determine what movie items to recommend for a particular user. You would represent said user with a user vector using the mechanism you determined, send that vector in as the observation, and obtain the recommended movie item in the response.\n",
    "\n",
    "### Performance and scalability analysis\n",
    "\n",
    "You can use TensorBoard Profiler, as well as other TensorBoard features, to analyze training performance and find solutions to speed up and/or better scale your application."
   ]
  },
  {
   "cell_type": "markdown",
   "metadata": {
    "id": "f532a8c5"
   },
   "source": [
    "## Cleaning up\n",
    "\n",
    "To clean up all Google Cloud resources used in this project, you can [delete the Google Cloud\n",
    "project](https://cloud.google.com/resource-manager/docs/creating-managing-projects#shutting_down_projects) you used for the tutorial.\n",
    "\n",
    "Otherwise, you can delete the individual resources you created in this tutorial:"
   ]
  },
  {
   "cell_type": "code",
   "execution_count": null,
   "metadata": {
    "id": "4eb6a875"
   },
   "outputs": [],
   "source": [
    "# Delete endpoint resource\n",
    "! gcloud ai endpoints delete $endpoint.name --quiet --region $REGION\n",
    "\n",
    "# Delete model resource\n",
    "! gcloud ai models delete $model.name --quiet\n",
    "\n",
    "# Delete Cloud Storage objects that were created\n",
    "! gsutil -m rm -r $ARTIFACTS_DIR"
   ]
  }
 ],
 "metadata": {
  "colab": {
   "collapsed_sections": [],
   "name": "step_by_step_sdk_tf_agents_bandits_movie_recommendation.ipynb",
   "toc_visible": true
  },
  "environment": {
   "kernel": "python3",
   "name": "tf2-gpu.2-11.m109",
   "type": "gcloud",
   "uri": "gcr.io/deeplearning-platform-release/tf2-gpu.2-11:m109"
  },
  "kernelspec": {
   "display_name": "Python 3",
   "language": "python",
   "name": "python3"
  },
  "language_info": {
   "codemirror_mode": {
    "name": "ipython",
    "version": 3
   },
   "file_extension": ".py",
   "mimetype": "text/x-python",
   "name": "python",
   "nbconvert_exporter": "python",
   "pygments_lexer": "ipython3",
   "version": "3.10.11"
  }
 },
 "nbformat": 4,
 "nbformat_minor": 4
}
