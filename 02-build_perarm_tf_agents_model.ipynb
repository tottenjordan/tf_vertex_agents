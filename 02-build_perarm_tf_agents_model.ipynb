{
 "cells": [
  {
   "cell_type": "markdown",
   "id": "e888c2fa-8bba-4d0c-8ae5-5a83224215f3",
   "metadata": {},
   "source": [
    "# Build per-arm Bandit model with TF-Agents and execute locally with Vertex AI"
   ]
  },
  {
   "cell_type": "markdown",
   "id": "cf77d870-0f7d-4736-a5ed-6b14ad825e52",
   "metadata": {},
   "source": [
    "## background\n",
    "\n",
    "**Arm features**\n",
    "* In some bandits use cases, each arm has its own features. For example, in movie recommendation problems, the user features play the role of the context and the movies play the role of the arms (aka actions) \n",
    "* Each movie has its own features, such as `text description`, `metadata`, `trailer content` features and so on\n",
    "\n",
    "These problems are often referred to as `arm features problems`"
   ]
  },
  {
   "cell_type": "code",
   "execution_count": 2,
   "id": "a02fe987-d962-44b5-ae30-8669d80f3464",
   "metadata": {},
   "outputs": [
    {
     "name": "stdout",
     "output_type": "stream",
     "text": [
      "aiplatform SDK version: 1.26.0\n"
     ]
    }
   ],
   "source": [
    "! python3 -c \"import google.cloud.aiplatform; print('aiplatform SDK version: {}'.format(google.cloud.aiplatform.__version__))\""
   ]
  },
  {
   "cell_type": "markdown",
   "id": "baa85e9e-47cb-41ec-b3d0-e4cc9e494613",
   "metadata": {},
   "source": [
    "## Load env config\n",
    "\n",
    "* use the prefix from `00-env-setup`"
   ]
  },
  {
   "cell_type": "code",
   "execution_count": 114,
   "id": "be5c2458-ac47-4542-a005-222e2529fb88",
   "metadata": {},
   "outputs": [],
   "source": [
    "PREFIX = 'mabv1'"
   ]
  },
  {
   "cell_type": "markdown",
   "id": "3a605f33-a1f3-4e98-be57-a5cdae4bc8f8",
   "metadata": {},
   "source": [
    "**run the next cell to populate env vars**"
   ]
  },
  {
   "cell_type": "code",
   "execution_count": 115,
   "id": "26c0d6d1-8264-46d2-a1a9-98ef8539e33e",
   "metadata": {},
   "outputs": [
    {
     "name": "stdout",
     "output_type": "stream",
     "text": [
      "\n",
      "PROJECT_ID               = \"hybrid-vertex\"\n",
      "PROJECT_NUM              = \"934903580331\"\n",
      "LOCATION                 = \"us-central1\"\n",
      "\n",
      "REGION                   = \"us-central1\"\n",
      "BQ_LOCATION              = \"US\"\n",
      "VPC_NETWORK_NAME         = \"ucaip-haystack-vpc-network\"\n",
      "\n",
      "VERTEX_SA                = \"934903580331-compute@developer.gserviceaccount.com\"\n",
      "\n",
      "PREFIX                   = \"mabv1\"\n",
      "VERSION                  = \"v1\"\n",
      "\n",
      "BUCKET_NAME              = \"mabv1-hybrid-vertex-bucket\"\n",
      "DATA_GCS_PREFIX          = \"data\"\n",
      "DATA_PATH                = \"gs://mabv1-hybrid-vertex-bucket/data\"\n",
      "BUCKET_URI               = \"gs://mabv1-hybrid-vertex-bucket\"\n",
      "\n",
      "VPC_NETWORK_FULL         = \"projects/934903580331/global/networks/ucaip-haystack-vpc-network\"\n",
      "\n",
      "BIGQUERY_DATASET_ID      = \"hybrid-vertex.movielens_dataset_mabv1\"\n",
      "BIGQUERY_TABLE_ID        = \"hybrid-vertex.movielens_dataset_mabv1.training_dataset\"\n",
      "\n"
     ]
    }
   ],
   "source": [
    "# staging GCS\n",
    "GCP_PROJECTS             = !gcloud config get-value project\n",
    "PROJECT_ID               = GCP_PROJECTS[0]\n",
    "\n",
    "# GCS bucket and paths\n",
    "BUCKET_NAME              = f'{PREFIX}-{PROJECT_ID}-bucket'\n",
    "BUCKET_URI               = f'gs://{BUCKET_NAME}'\n",
    "\n",
    "config = !gsutil cat {BUCKET_URI}/config/notebook_env.py\n",
    "print(config.n)\n",
    "exec(config.n)"
   ]
  },
  {
   "cell_type": "code",
   "execution_count": 116,
   "id": "cf267dfa-3e59-4ea1-a0b6-e1c7f1ce8675",
   "metadata": {},
   "outputs": [
    {
     "name": "stdout",
     "output_type": "stream",
     "text": [
      "gs://mabv1-hybrid-vertex-bucket/aiplatform-custom-training-2023-07-13-22:02:47.458/\n",
      "gs://mabv1-hybrid-vertex-bucket/aiplatform-custom-training-2023-07-14-12:09:06.643/\n",
      "gs://mabv1-hybrid-vertex-bucket/aiplatform-custom-training-2023-07-14-12:46:07.509/\n",
      "gs://mabv1-hybrid-vertex-bucket/aiplatform-custom-training-2023-07-14-13:48:08.938/\n",
      "gs://mabv1-hybrid-vertex-bucket/archived/\n",
      "gs://mabv1-hybrid-vertex-bucket/config/\n",
      "gs://mabv1-hybrid-vertex-bucket/data/\n",
      "gs://mabv1-hybrid-vertex-bucket/data_stats/\n",
      "gs://mabv1-hybrid-vertex-bucket/perarm-local-test/\n",
      "gs://mabv1-hybrid-vertex-bucket/scale-perarm-hpt/\n"
     ]
    }
   ],
   "source": [
    "! gsutil ls $BUCKET_URI"
   ]
  },
  {
   "cell_type": "markdown",
   "id": "e2e03648-23ef-4ebb-b4f4-c28dd2a3c7b0",
   "metadata": {},
   "source": [
    "## imports"
   ]
  },
  {
   "cell_type": "code",
   "execution_count": 9,
   "id": "edf25e4c-afd4-4be2-9784-ee43124f9101",
   "metadata": {},
   "outputs": [],
   "source": [
    "import os\n",
    "os.environ['TF_CPP_MIN_LOG_LEVEL'] = '2'"
   ]
  },
  {
   "cell_type": "code",
   "execution_count": 72,
   "id": "1000b866-e997-43bf-9891-6ce80aa69019",
   "metadata": {},
   "outputs": [],
   "source": [
    "import functools\n",
    "import json\n",
    "from collections import defaultdict\n",
    "from typing import Callable, Dict, List, Optional, TypeVar\n",
    "from datetime import datetime\n",
    "import time\n",
    "from pprint import pprint\n",
    "\n",
    "import logging\n",
    "logging.disable(logging.WARNING)\n",
    "\n",
    "import matplotlib.pyplot as plt\n",
    "import numpy as np\n",
    "\n",
    "# google cloud\n",
    "from google.cloud import aiplatform, storage\n",
    "\n",
    "# tensorflow\n",
    "import tensorflow as tf\n",
    "from tf_agents.agents import TFAgent\n",
    "from tf_agents.bandits.agents import lin_ucb_agent\n",
    "from tf_agents.bandits.agents.examples.v2 import trainer\n",
    "from tf_agents.bandits.environments import (environment_utilities,\n",
    "                                            movielens_py_environment,\n",
    "                                            movielens_per_arm_py_environment)\n",
    "from tf_agents.bandits.metrics import tf_metrics as tf_bandit_metrics\n",
    "from tf_agents.drivers import dynamic_step_driver\n",
    "from tf_agents.environments import TFEnvironment, tf_py_environment\n",
    "from tf_agents.eval import metric_utils\n",
    "from tf_agents.metrics import tf_metrics\n",
    "from tf_agents.metrics.tf_metric import TFStepMetric\n",
    "from tf_agents.policies import policy_saver\n",
    "\n",
    "# GPU\n",
    "from numba import cuda \n",
    "import gc\n",
    "\n",
    "# my project\n",
    "from src.per_arm_rl import data_utils\n",
    "from src.per_arm_rl import data_config\n",
    "\n",
    "# tf exceptions and vars\n",
    "if tf.__version__[0] != \"2\":\n",
    "    raise Exception(\"The trainer only runs with TensorFlow version 2.\")\n",
    "\n",
    "T = TypeVar(\"T\")"
   ]
  },
  {
   "cell_type": "markdown",
   "id": "10411736-7b03-418a-883e-0157cc183d04",
   "metadata": {},
   "source": [
    "### detect GPUs & reset devices"
   ]
  },
  {
   "cell_type": "code",
   "execution_count": 11,
   "id": "c3cc5e8e-4b02-4df4-8eea-7c40466cd241",
   "metadata": {},
   "outputs": [
    {
     "data": {
      "text/plain": [
       "[PhysicalDevice(name='/physical_device:GPU:0', device_type='GPU'),\n",
       " PhysicalDevice(name='/physical_device:GPU:1', device_type='GPU')]"
      ]
     },
     "execution_count": 11,
     "metadata": {},
     "output_type": "execute_result"
    }
   ],
   "source": [
    "gpus = tf.config.experimental.list_physical_devices('GPU')\n",
    "for gpu in gpus:\n",
    "    tf.config.experimental.set_memory_growth(gpu, True)\n",
    "    \n",
    "gpus"
   ]
  },
  {
   "cell_type": "code",
   "execution_count": 14,
   "id": "a75044a2-d511-4727-84d2-780648fc191a",
   "metadata": {},
   "outputs": [],
   "source": [
    "device = cuda.get_current_device()\n",
    "device.reset()\n",
    "gc.collect()"
   ]
  },
  {
   "cell_type": "markdown",
   "id": "6f7e69b4-7fe1-40fd-b42c-e3a24f8f4598",
   "metadata": {},
   "source": [
    "### Initialize Google Cloud SDK Clients"
   ]
  },
  {
   "cell_type": "code",
   "execution_count": 16,
   "id": "ef21e778-2043-450e-a78b-4c75416bf7fc",
   "metadata": {},
   "outputs": [],
   "source": [
    "# cloud storage client\n",
    "storage_client = storage.Client(project=PROJECT_ID)\n",
    "\n",
    "# Vertex client\n",
    "aiplatform.init(project=PROJECT_ID, location=LOCATION)"
   ]
  },
  {
   "cell_type": "markdown",
   "id": "99900b37-e159-43dd-b63b-e7c0e20a4ab1",
   "metadata": {},
   "source": [
    "# Data prep"
   ]
  },
  {
   "cell_type": "markdown",
   "id": "29776aca-6af4-4002-934d-fef353b60b33",
   "metadata": {},
   "source": [
    "### copy sample data to $DATA_PATH"
   ]
  },
  {
   "cell_type": "markdown",
   "id": "041283b5-de0f-4fbc-a40f-81f28e38ed0c",
   "metadata": {},
   "source": [
    "### Load data config"
   ]
  },
  {
   "cell_type": "code",
   "execution_count": 18,
   "id": "bad14ac8-0789-4ad5-bb52-e22e23db3860",
   "metadata": {},
   "outputs": [
    {
     "name": "stdout",
     "output_type": "stream",
     "text": [
      "USER_AGE_LOOKUP: {1.0: 0, 35.0: 1, 45.0: 2, 18.0: 3, 50.0: 4, 56.0: 5, 25.0: 6}\n",
      "USER_AGE_DIM: 7\n",
      "USER_OCC_LOOKUP: {b'artist': 0, b'student': 1, b'other': 2, b'librarian': 3, b'doctor': 4, b'engineer': 5, b'technician': 6, b'programmer': 7, b'scientist': 8, b'entertainment': 9, b'healthcare': 10, b'none': 11, b'educator': 12, b'administrator': 13, b'salesman': 14, b'retired': 15, b'marketing': 16, b'executive': 17, b'writer': 18, b'lawyer': 19, b'homemaker': 20}\n",
      "USER_OCC_DIM: 21\n",
      "MOVIE_GEN_LOOKUP: {0: 0, 1: 1, 2: 2, 3: 3, 4: 4, 5: 5, 6: 6, 7: 7, 8: 8, 9: 9, 10: 10, 12: 11, 13: 12, 14: 13, 15: 14, 16: 15, 17: 16, 18: 17, 19: 18}\n",
      "MOVIE_GEN_DIM: 19\n",
      "MOVIELENS_NUM_MOVIES: 1682\n",
      "MOVIELENS_NUM_USERS: 943\n"
     ]
    }
   ],
   "source": [
    "# test variables are set\n",
    "print(f\"USER_AGE_LOOKUP: {data_config.USER_AGE_LOOKUP}\")\n",
    "print(f\"USER_AGE_DIM: {data_config.USER_AGE_DIM}\")\n",
    "\n",
    "print(f\"USER_OCC_LOOKUP: {data_config.USER_OCC_LOOKUP}\")\n",
    "print(f\"USER_OCC_DIM: {data_config.USER_OCC_DIM}\")\n",
    "\n",
    "print(f\"MOVIE_GEN_LOOKUP: {data_config.MOVIE_GEN_LOOKUP}\")\n",
    "print(f\"MOVIE_GEN_DIM: {data_config.MOVIE_GEN_DIM}\")\n",
    "\n",
    "print(f\"MOVIELENS_NUM_MOVIES: {data_config.MOVIELENS_NUM_MOVIES}\")\n",
    "print(f\"MOVIELENS_NUM_USERS: {data_config.MOVIELENS_NUM_USERS}\")"
   ]
  },
  {
   "cell_type": "code",
   "execution_count": 19,
   "id": "048786b6-e466-4cb6-84e2-50c6184405e5",
   "metadata": {},
   "outputs": [
    {
     "data": {
      "text/plain": [
       "dict"
      ]
     },
     "execution_count": 19,
     "metadata": {},
     "output_type": "execute_result"
    }
   ],
   "source": [
    "type(data_config.USER_OCC_LOOKUP)"
   ]
  },
  {
   "cell_type": "markdown",
   "id": "201610e6-b3be-4e09-a290-ea3c24230c70",
   "metadata": {},
   "source": [
    "### Read TF Records"
   ]
  },
  {
   "cell_type": "code",
   "execution_count": 20,
   "id": "1265b4ca-e231-475e-a63e-515b673cf39d",
   "metadata": {},
   "outputs": [],
   "source": [
    "options = tf.data.Options()\n",
    "options.experimental_distribute.auto_shard_policy = tf.data.experimental.AutoShardPolicy.AUTO"
   ]
  },
  {
   "cell_type": "code",
   "execution_count": 21,
   "id": "40cb3c57-c48b-499d-8a2e-fc1006818b97",
   "metadata": {},
   "outputs": [
    {
     "data": {
      "text/plain": [
       "['gs://mabv1-hybrid-vertex-bucket/data/ml-ratings-100k-train.tfrecord']"
      ]
     },
     "execution_count": 21,
     "metadata": {},
     "output_type": "execute_result"
    }
   ],
   "source": [
    "train_files = []\n",
    "for blob in storage_client.list_blobs(f\"{BUCKET_NAME}\", prefix=f'{DATA_GCS_PREFIX}/'):\n",
    "    if '.tfrecord' in blob.name:\n",
    "        train_files.append(blob.public_url.replace(\"https://storage.googleapis.com/\", \"gs://\"))\n",
    "        \n",
    "train_files"
   ]
  },
  {
   "cell_type": "code",
   "execution_count": 22,
   "id": "8580ef60-9448-44be-8b81-19e7ebae7a67",
   "metadata": {},
   "outputs": [
    {
     "data": {
      "text/plain": [
       "<TFRecordDatasetV2 element_spec=TensorSpec(shape=(), dtype=tf.string, name=None)>"
      ]
     },
     "execution_count": 22,
     "metadata": {},
     "output_type": "execute_result"
    }
   ],
   "source": [
    "train_dataset = tf.data.TFRecordDataset(train_files)\n",
    "\n",
    "train_dataset = train_dataset.map(data_utils.parse_tfrecord)\n",
    "\n",
    "train_dataset"
   ]
  },
  {
   "cell_type": "code",
   "execution_count": 24,
   "id": "15e942d0-e779-4de9-9e32-6dc65fd27fe4",
   "metadata": {},
   "outputs": [
    {
     "name": "stdout",
     "output_type": "stream",
     "text": [
      "{'bucketized_user_age': <tf.Tensor: shape=(1,), dtype=float32, numpy=array([45.], dtype=float32)>,\n",
      " 'movie_genres': <tf.Tensor: shape=(1, 1), dtype=int64, numpy=array([[7]])>,\n",
      " 'movie_id': <tf.Tensor: shape=(1,), dtype=string, numpy=array([b'357'], dtype=object)>,\n",
      " 'timestamp': <tf.Tensor: shape=(1,), dtype=int64, numpy=array([879024327])>,\n",
      " 'user_id': <tf.Tensor: shape=(1,), dtype=string, numpy=array([b'138'], dtype=object)>,\n",
      " 'user_occupation_text': <tf.Tensor: shape=(1,), dtype=string, numpy=array([b'doctor'], dtype=object)>,\n",
      " 'user_rating': <tf.Tensor: shape=(1,), dtype=float32, numpy=array([4.], dtype=float32)>}\n",
      "{'bucketized_user_age': <tf.Tensor: shape=(1,), dtype=float32, numpy=array([25.], dtype=float32)>,\n",
      " 'movie_genres': <tf.Tensor: shape=(1, 1), dtype=int64, numpy=array([[4]])>,\n",
      " 'movie_id': <tf.Tensor: shape=(1,), dtype=string, numpy=array([b'709'], dtype=object)>,\n",
      " 'timestamp': <tf.Tensor: shape=(1,), dtype=int64, numpy=array([875654590])>,\n",
      " 'user_id': <tf.Tensor: shape=(1,), dtype=string, numpy=array([b'92'], dtype=object)>,\n",
      " 'user_occupation_text': <tf.Tensor: shape=(1,), dtype=string, numpy=array([b'entertainment'], dtype=object)>,\n",
      " 'user_rating': <tf.Tensor: shape=(1,), dtype=float32, numpy=array([2.], dtype=float32)>}\n"
     ]
    }
   ],
   "source": [
    "for x in train_dataset.batch(1).take(2):\n",
    "    pprint(x)"
   ]
  },
  {
   "cell_type": "markdown",
   "id": "695f980f-8ae9-415c-8978-08e0e9112c1e",
   "metadata": {},
   "source": [
    "# Define RL modules"
   ]
  },
  {
   "cell_type": "code",
   "execution_count": 27,
   "id": "faee5299-1516-4ce5-95c5-23400ccb0143",
   "metadata": {},
   "outputs": [],
   "source": [
    "# REPO_DOCKER_PATH_PREFIX = 'src'\n",
    "# RL_SUB_DIR = 'per_arm_rl'\n",
    "\n",
    "# TODO - fix between 00-data notebook\n",
    "# ! rm -rf {REPO_DOCKER_PATH_PREFIX}/{RL_SUB_DIR}\n",
    "# ! mkdir -p {REPO_DOCKER_PATH_PREFIX}/{RL_SUB_DIR}\n",
    "# ! touch {REPO_DOCKER_PATH_PREFIX}/{RL_SUB_DIR}/__init__.py"
   ]
  },
  {
   "cell_type": "markdown",
   "id": "479c1f90-3443-4137-b1ce-bd5225395d83",
   "metadata": {},
   "source": [
    "### per_arm environment"
   ]
  },
  {
   "cell_type": "code",
   "execution_count": 109,
   "id": "3655e5cf-82b2-4cd0-83c5-b757ed852b5a",
   "metadata": {},
   "outputs": [
    {
     "name": "stdout",
     "output_type": "stream",
     "text": [
      "Overwriting src/per_arm_rl/my_per_arm_py_env.py\n"
     ]
    }
   ],
   "source": [
    "%%writefile {REPO_DOCKER_PATH_PREFIX}/{RL_SUB_DIR}/my_per_arm_py_env.py\n",
    "# Copyright 2021 Google Inc. All Rights Reserved.\n",
    "#\n",
    "# Licensed under the Apache License, Version 2.0 (the \"License\");\n",
    "# you may not use this file except in compliance with the License.\n",
    "# You may obtain a copy of the License at\n",
    "#\n",
    "#            http://www.apache.org/licenses/LICENSE-2.0\n",
    "#\n",
    "# Unless required by applicable law or agreed to in writing, software\n",
    "# distributed under the License is distributed on an \"AS IS\" BASIS,\n",
    "# WITHOUT WARRANTIES OR CONDITIONS OF ANY KIND, either express or implied.\n",
    "# See the License for the specific language governing permissions and\n",
    "\"\"\"Class implementation of the per-arm MovieLens Bandit environment.\"\"\"\n",
    "from __future__ import absolute_import\n",
    "import os\n",
    "import gin\n",
    "import random\n",
    "import numpy as np\n",
    "from typing import Optional, Text\n",
    "\n",
    "import logging\n",
    "\n",
    "import tensorflow as tf\n",
    "\n",
    "tf.compat.v1.enable_v2_behavior()\n",
    "\n",
    "from tf_agents.bandits.environments import bandit_py_environment\n",
    "from tf_agents.bandits.environments import dataset_utilities\n",
    "from tf_agents.bandits.specs import utils as bandit_spec_utils\n",
    "from tf_agents.specs import array_spec\n",
    "from tf_agents.trajectories import time_step as ts\n",
    "\n",
    "from . import data_utils\n",
    "\n",
    "GLOBAL_KEY = bandit_spec_utils.GLOBAL_FEATURE_KEY\n",
    "PER_ARM_KEY = bandit_spec_utils.PER_ARM_FEATURE_KEY\n",
    "\n",
    "# @gin.configurable\n",
    "class MyMovieLensPerArmPyEnvironment(bandit_py_environment.BanditPyEnvironment):\n",
    "    \"\"\"Implements the per-arm version of the MovieLens Bandit environment.\n",
    "\n",
    "    This environment implements the MovieLens 100K dataset, available at:\n",
    "    https://www.kaggle.com/prajitdatta/movielens-100k-dataset\n",
    "\n",
    "    This dataset contains 100K ratings from 943 users on 1682 items.\n",
    "    This environment computes a low-rank matrix factorization (using SVD) of the\n",
    "    data matrix `A`, such that: `A ~= U * Sigma * V^T`.\n",
    "\n",
    "    The environment uses the rows of `U` as global (or user) features, and the\n",
    "    rows of `V` as per-arm (or movie) features.\n",
    "\n",
    "    The reward of recommending movie `v` to user `u` is `u * Sigma * v^T`.\n",
    "    \"\"\"\n",
    "\n",
    "    def __init__(\n",
    "        self\n",
    "        , project_number\n",
    "        , data_path: str\n",
    "        , bucket_name: str\n",
    "        , data_gcs_prefix: str\n",
    "        , user_age_lookup_dict: dict\n",
    "        , user_occ_lookup_dict: dict\n",
    "        , movie_gen_lookup_dict: dict\n",
    "        , num_users: int = 943\n",
    "        , num_movies: int = 1682\n",
    "        , rank_k: int = 2\n",
    "        , batch_size: int = 10\n",
    "        , num_actions: int = 100\n",
    "        , name: Optional[Text] = 'movielens_per_arm'\n",
    "    ):\n",
    "        \"\"\"Initializes the Per-arm MovieLens Bandit environment.\n",
    "\n",
    "        Args:\n",
    "          data_dir: (string) Directory where the data lies (in text form).\n",
    "          rank_k : (int) Which rank to use in the matrix factorization. This will\n",
    "            also be the feature dimension of both the user and the movie features.\n",
    "          batch_size: (int) Number of observations generated per call.\n",
    "          num_actions: (int) How many movies to choose from per round.\n",
    "          name: (string) The name of this environment instance.\n",
    "        \"\"\"\n",
    "        self.project_number = project_number\n",
    "        self.data_path = data_path\n",
    "        self.bucket_name = bucket_name\n",
    "        self.data_gcs_prefix = data_gcs_prefix\n",
    "        self._batch_size = batch_size\n",
    "        self._num_actions = num_actions\n",
    "        self._rank_k = rank_k\n",
    "        self.num_users = num_users\n",
    "        self.num_movies = num_movies\n",
    "        self.user_age_lookup_dict = user_age_lookup_dict\n",
    "        self.user_occ_lookup_dict = user_occ_lookup_dict\n",
    "        self.movie_gen_lookup_dict = movie_gen_lookup_dict\n",
    "        \n",
    "        # =============================================\n",
    "        # set GCP clients\n",
    "        # =============================================\n",
    "        from google.cloud import aiplatform as vertex_ai\n",
    "        from google.cloud import storage\n",
    "        \n",
    "        # project_number = os.environ[\"CLOUD_ML_PROJECT_ID\"]\n",
    "        storage_client = storage.Client(project=self.project_number)\n",
    "        vertex_ai.init(\n",
    "            project=self.project_number,\n",
    "            location='us-central1',\n",
    "            # experiment=args.experiment_name\n",
    "        )\n",
    "        \n",
    "        # =============================================\n",
    "        # GPUs\n",
    "        # =============================================\n",
    "        \n",
    "        # limiting GPU growth\n",
    "        gpus = tf.config.list_physical_devices('GPU')\n",
    "        if gpus:\n",
    "            try:\n",
    "                for gpu in gpus:\n",
    "                    tf.config.experimental.set_memory_growth(gpu, True)\n",
    "                logging.info(f'detected: {len(gpus)} GPUs')\n",
    "            except RuntimeError as e:\n",
    "                # Memory growth must be set before GPUs have been initialized\n",
    "                logging.info(e)\n",
    "\n",
    "        # tf.debugging.set_log_device_placement(True)        # logs all tf ops and their device placement;\n",
    "        os.environ['TF_GPU_THREAD_MODE']='gpu_private'\n",
    "        os.environ['TF_GPU_THREAD_COUNT']=f'8'               # TODO - parametrize | 1\n",
    "        os.environ['TF_GPU_ALLOCATOR']='cuda_malloc_async'\n",
    "        \n",
    "        # =============================================\n",
    "        # get TF dataset\n",
    "        # =============================================\n",
    "        logging.info(\"Creating TRAIN dataset...\")\n",
    "        logging.info(f'Path to TRAIN files: gs://{self.bucket_name}/{self.data_gcs_prefix}')\n",
    "        \n",
    "        options = tf.data.Options()\n",
    "        options.experimental_distribute.auto_shard_policy = tf.data.experimental.AutoShardPolicy.DATA\n",
    "        \n",
    "        train_files = []\n",
    "        for blob in storage_client.list_blobs(f\"{self.bucket_name}\", prefix=f'{self.data_gcs_prefix}/'):\n",
    "            if '.tfrecord' in blob.name:\n",
    "                train_files.append(blob.public_url.replace(\"https://storage.googleapis.com/\", \"gs://\"))\n",
    "                \n",
    "        logging.info(f'train_files: {train_files}')\n",
    "        \n",
    "        train_dataset = tf.data.TFRecordDataset(train_files)\n",
    "        train_dataset = train_dataset.map(data_utils.parse_tfrecord)\n",
    "        \n",
    "        self.dataset = train_dataset\n",
    "        # =============================================\n",
    "        # load data & compute ratings matrix\n",
    "        # =============================================\n",
    "        self._data_matrix, self._user_age_int, self._user_occ_int, self._mov_gen_int = data_utils.load_movielens_ratings(\n",
    "            ratings_dataset = self.dataset\n",
    "            , num_users = self.num_users\n",
    "            , num_movies = self.num_movies\n",
    "            , user_age_lookup_dict = self.user_age_lookup_dict\n",
    "            , user_occ_lookup_dict = self.user_occ_lookup_dict\n",
    "            , movie_gen_lookup_dict = self.movie_gen_lookup_dict\n",
    "        )\n",
    "        self._num_users, self._num_movies = self._data_matrix.shape\n",
    "        \n",
    "        # Compute the SVD.\n",
    "        # TODO - compute SVD in tf - see: https://www.tensorflow.org/api_docs/python/tf/linalg/svd\n",
    "        u, s, vh = np.linalg.svd(self._data_matrix, full_matrices=False)\n",
    "        \n",
    "        # Keep only the largest singular values.\n",
    "        self._u_hat = u[:, :self._rank_k].astype(np.float32)\n",
    "        self._s_hat = s[:self._rank_k].astype(np.float32)\n",
    "        self._v_hat = np.transpose(vh[:self._rank_k]).astype(np.float32)\n",
    "\n",
    "        self._approx_ratings_matrix = np.matmul(\n",
    "            self._u_hat * self._s_hat\n",
    "            , np.transpose(self._v_hat)\n",
    "        )\n",
    "        \n",
    "        # =============================================\n",
    "        # action spec\n",
    "        # =============================================\n",
    "        self._action_spec = array_spec.BoundedArraySpec(\n",
    "            shape=()\n",
    "            , dtype=np.int32\n",
    "            , minimum=0\n",
    "            , maximum=self._num_actions - 1\n",
    "            , name='action'\n",
    "        )\n",
    "        \n",
    "        # =============================================\n",
    "        # observation spec\n",
    "        # =============================================\n",
    "        observation_spec = {\n",
    "            GLOBAL_KEY:\n",
    "                array_spec.ArraySpec(shape=[self._rank_k + 2], dtype=np.float32),     # creating +space for user age and occupation\n",
    "            PER_ARM_KEY:\n",
    "                array_spec.ArraySpec(\n",
    "                    shape=[self._num_actions, self._rank_k + 1], dtype=np.float32),   # creating +1 space for movie genre\n",
    "        }\n",
    "        self._time_step_spec = ts.time_step_spec(observation_spec)\n",
    "\n",
    "        self._current_user_indices = np.zeros(self._batch_size, dtype=np.int32)\n",
    "        self._previous_user_indices = np.zeros(self._batch_size, dtype=np.int32)\n",
    "\n",
    "        self._current_movie_indices = np.zeros(\n",
    "            [self._batch_size, self._num_actions], dtype=np.int32\n",
    "        )\n",
    "        self._previous_movie_indices = np.zeros(\n",
    "            [self._batch_size, self._num_actions], dtype=np.int32\n",
    "        )\n",
    "        \n",
    "        self._observation = {\n",
    "            GLOBAL_KEY:\n",
    "                np.zeros([self._batch_size, self._rank_k + 2], dtype=np.int32), #making space like above for dimensions\n",
    "            PER_ARM_KEY:\n",
    "                np.zeros([self._batch_size, self._num_actions, self._rank_k + 1], dtype=np.int32),\n",
    "        }\n",
    "        \n",
    "        # =============================================\n",
    "        # super init\n",
    "        # =============================================\n",
    "        super(MyMovieLensPerArmPyEnvironment, self).__init__(\n",
    "            observation_spec, self._action_spec, name=name\n",
    "        )\n",
    "        \n",
    "    # =============================================\n",
    "    # batched observations\n",
    "    # =============================================\n",
    "    @property\n",
    "    def batch_size(self):\n",
    "        return self._batch_size\n",
    "\n",
    "    @property\n",
    "    def batched(self):\n",
    "        return True\n",
    "\n",
    "    def _observe(self):\n",
    "        sampled_user_indices = np.random.randint(\n",
    "            self._num_users, size=self._batch_size\n",
    "        )\n",
    "        self._previous_user_indices = self._current_user_indices\n",
    "        self._current_user_indices = sampled_user_indices\n",
    "\n",
    "        sampled_movie_indices = np.array([\n",
    "            random.sample(range(self._num_movies), self._num_actions)\n",
    "            for _ in range(self._batch_size)\n",
    "        ])\n",
    "        sampled_user_ages = self._user_age_int[sampled_user_indices]\n",
    "        sampled_user_occ = self._user_occ_int[sampled_user_indices]\n",
    "        combined_user_features = np.concatenate(\n",
    "            (\n",
    "                self._u_hat[sampled_user_indices]\n",
    "                , sampled_user_ages.reshape(-1,1)\n",
    "                , sampled_user_occ.reshape(-1,1)\n",
    "            )\n",
    "            , axis=1\n",
    "        )\n",
    "        # current_users = combined_user_features.reshape([self.batch_size, self._rank_k+2])\n",
    "        \n",
    "        movie_index_vector = sampled_movie_indices.reshape(-1)\n",
    "        # print(movie_index_vector.shape)\n",
    "        flat_genre_list = self._mov_gen_int[movie_index_vector] # shape of 1\n",
    "        flat_movie_list = self._v_hat[movie_index_vector]       # shape of 2\n",
    "        \n",
    "        combined_movie_features = np.concatenate(\n",
    "            (\n",
    "                flat_movie_list\n",
    "                , flat_genre_list.reshape(-1,1)\n",
    "            )\n",
    "            , axis=1\n",
    "        )\n",
    "        current_movies = combined_movie_features.reshape(\n",
    "            [self._batch_size, self._num_actions, self._rank_k + 1]\n",
    "        )\n",
    "\n",
    "        self._previous_movie_indices = self._current_movie_indices\n",
    "        self._current_movie_indices = sampled_movie_indices\n",
    "\n",
    "        batched_observations = {\n",
    "            GLOBAL_KEY:\n",
    "                tf.convert_to_tensor(combined_user_features, dtype=tf.float32),\n",
    "            PER_ARM_KEY:\n",
    "                tf.convert_to_tensor(current_movies, dtype=tf.float32),\n",
    "        }\n",
    "        return batched_observations\n",
    "\n",
    "    def _apply_action(self, action):\n",
    "        chosen_arm_indices = self._current_movie_indices[\n",
    "            range(self._batch_size), action\n",
    "        ]\n",
    "        return self._approx_ratings_matrix[\n",
    "            self._current_user_indices, chosen_arm_indices\n",
    "        ]\n",
    "\n",
    "    def _rewards_for_all_actions(self):\n",
    "        rewards_matrix = self._approx_ratings_matrix[\n",
    "            np.expand_dims(self._previous_user_indices, axis=-1)\n",
    "            , self._previous_movie_indices\n",
    "        ]\n",
    "        return rewards_matrix\n",
    "\n",
    "    def compute_optimal_action(self):\n",
    "        return np.argmax(self._rewards_for_all_actions(), axis=-1)\n",
    "\n",
    "    def compute_optimal_reward(self):\n",
    "        return np.max(self._rewards_for_all_actions(), axis=-1)"
   ]
  },
  {
   "cell_type": "markdown",
   "id": "37bcaf16-ef88-4dce-a8e2-72f20d244dff",
   "metadata": {},
   "source": [
    "# Train RL modules"
   ]
  },
  {
   "cell_type": "code",
   "execution_count": 66,
   "id": "96a99630-4364-40ff-9a2a-c1f02d706f96",
   "metadata": {},
   "outputs": [],
   "source": [
    "from src.per_arm_rl import my_per_arm_py_env as my_per_arm_py_env"
   ]
  },
  {
   "cell_type": "markdown",
   "id": "19dd649a-1055-4376-8c1c-1543bfd849f1",
   "metadata": {},
   "source": [
    "### set hyperparameters"
   ]
  },
  {
   "cell_type": "code",
   "execution_count": 92,
   "id": "30fd48c5-b137-4823-80d0-7ac462684fee",
   "metadata": {},
   "outputs": [
    {
     "name": "stdout",
     "output_type": "stream",
     "text": [
      "BATCH_SIZE       : 8\n",
      "TRAINING_LOOPS   : 10\n",
      "STEPS_PER_LOOP   : 6\n",
      "RANK_K           : 20\n",
      "NUM_ACTIONS      : 20\n",
      "PER_ARM          : True\n",
      "TIKHONOV_WEIGHT  : 0.001\n",
      "AGENT_ALPHA      : 10.0\n"
     ]
    }
   ],
   "source": [
    "# Set hyperparameters.\n",
    "BATCH_SIZE       = 8      # Training and prediction batch size.\n",
    "TRAINING_LOOPS   = 10      # Number of training iterations.\n",
    "STEPS_PER_LOOP   = 6      # Number of driver steps per training iteration.\n",
    "\n",
    "# Set MovieLens simulation environment parameters.\n",
    "RANK_K           = 20     # Rank for matrix factorization in the MovieLens environment; also the observation dimension.\n",
    "NUM_ACTIONS      = 20     # Number of actions (movie items) to choose from.\n",
    "PER_ARM          = True   # Use the non-per-arm version of the MovieLens environment.\n",
    "\n",
    "# Set agent parameters.\n",
    "TIKHONOV_WEIGHT  = 0.001   # LinUCB Tikhonov regularization weight.\n",
    "AGENT_ALPHA      = 10.0    # LinUCB exploration parameter that multiplies the confidence intervals.\n",
    "\n",
    "print(f\"BATCH_SIZE       : {BATCH_SIZE}\")\n",
    "print(f\"TRAINING_LOOPS   : {TRAINING_LOOPS}\")\n",
    "print(f\"STEPS_PER_LOOP   : {STEPS_PER_LOOP}\")\n",
    "print(f\"RANK_K           : {RANK_K}\")\n",
    "print(f\"NUM_ACTIONS      : {NUM_ACTIONS}\")\n",
    "print(f\"PER_ARM          : {PER_ARM}\")\n",
    "print(f\"TIKHONOV_WEIGHT  : {TIKHONOV_WEIGHT}\")\n",
    "print(f\"AGENT_ALPHA      : {AGENT_ALPHA}\")"
   ]
  },
  {
   "cell_type": "markdown",
   "id": "c024c122-7701-4391-97c1-48660589b098",
   "metadata": {},
   "source": [
    "### Define RL environment"
   ]
  },
  {
   "cell_type": "markdown",
   "id": "1fed298e-0361-4b28-9ee9-e82af4c6d4ea",
   "metadata": {},
   "source": [
    "One can define a bandit environment by subclassing `BanditTFEnvironment`, or, similarly to RL environments, one can define a `BanditPyEnvironment` and wrap it with `TFPyEnvironment`"
   ]
  },
  {
   "cell_type": "code",
   "execution_count": 93,
   "id": "00eddb55-19f3-4bd8-89cf-3a1a75bcba9a",
   "metadata": {},
   "outputs": [],
   "source": [
    "env = my_per_arm_py_env.MyMovieLensPerArmPyEnvironment(\n",
    "    project_number = PROJECT_NUM\n",
    "    , data_path = DATA_PATH\n",
    "    , bucket_name = BUCKET_NAME\n",
    "    , data_gcs_prefix = DATA_GCS_PREFIX\n",
    "    , user_age_lookup_dict = data_config.USER_AGE_LOOKUP\n",
    "    , user_occ_lookup_dict = data_config.USER_OCC_LOOKUP\n",
    "    , movie_gen_lookup_dict = data_config.MOVIE_GEN_LOOKUP\n",
    "    , num_users = data_config.MOVIELENS_NUM_USERS\n",
    "    , num_movies = data_config.MOVIELENS_NUM_MOVIES\n",
    "    , rank_k = RANK_K\n",
    "    , batch_size = BATCH_SIZE\n",
    "    , num_actions = NUM_ACTIONS\n",
    ")\n",
    "\n",
    "environment = tf_py_environment.TFPyEnvironment(env)"
   ]
  },
  {
   "cell_type": "markdown",
   "id": "a2105b5f-1d7d-448e-a222-b117288444e5",
   "metadata": {},
   "source": [
    "### Define RL agent/algorithm"
   ]
  },
  {
   "cell_type": "code",
   "execution_count": 94,
   "id": "ddb82b68-49fe-48d5-a3a2-27a2fc9c88bc",
   "metadata": {},
   "outputs": [
    {
     "name": "stdout",
     "output_type": "stream",
     "text": [
      "TimeStep Spec (for each batch):\n",
      " TimeStep(\n",
      "{'discount': BoundedTensorSpec(shape=(), dtype=tf.float32, name='discount', minimum=array(0., dtype=float32), maximum=array(1., dtype=float32)),\n",
      " 'observation': DictWrapper({'global': TensorSpec(shape=(22,), dtype=tf.float32, name=None), 'per_arm': TensorSpec(shape=(20, 21), dtype=tf.float32, name=None)}),\n",
      " 'reward': TensorSpec(shape=(), dtype=tf.float32, name='reward'),\n",
      " 'step_type': TensorSpec(shape=(), dtype=tf.int32, name='step_type')}) \n",
      "\n",
      "Action Spec (for each batch)  :\n",
      " BoundedTensorSpec(shape=(), dtype=tf.int32, name='action', minimum=array(0, dtype=int32), maximum=array(19, dtype=int32)) \n",
      "\n",
      "Reward Spec (for each batch)  :\n",
      " TensorSpec(shape=(), dtype=tf.float32, name='reward') \n",
      "\n"
     ]
    }
   ],
   "source": [
    "agent = lin_ucb_agent.LinearUCBAgent(\n",
    "    time_step_spec = environment.time_step_spec()\n",
    "    , action_spec = environment.action_spec()\n",
    "    , tikhonov_weight = TIKHONOV_WEIGHT\n",
    "    , alpha = AGENT_ALPHA\n",
    "    , dtype = tf.float32\n",
    "    , accepts_per_arm_features = PER_ARM\n",
    ")\n",
    "\n",
    "print(\"TimeStep Spec (for each batch):\\n\", agent.time_step_spec, \"\\n\")\n",
    "print(\"Action Spec (for each batch)  :\\n\", agent.action_spec, \"\\n\")\n",
    "print(\"Reward Spec (for each batch)  :\\n\", environment.reward_spec(), \"\\n\")"
   ]
  },
  {
   "cell_type": "code",
   "execution_count": 95,
   "id": "7f3eb808-2cd8-4617-8592-1aaaf88d3ad1",
   "metadata": {},
   "outputs": [
    {
     "name": "stdout",
     "output_type": "stream",
     "text": [
      "training data spec:  Trajectory(\n",
      "{'action': BoundedTensorSpec(shape=(), dtype=tf.int32, name='action', minimum=array(0, dtype=int32), maximum=array(19, dtype=int32)),\n",
      " 'discount': BoundedTensorSpec(shape=(), dtype=tf.float32, name='discount', minimum=array(0., dtype=float32), maximum=array(1., dtype=float32)),\n",
      " 'next_step_type': TensorSpec(shape=(), dtype=tf.int32, name='step_type'),\n",
      " 'observation': DictWrapper({'global': TensorSpec(shape=(22,), dtype=tf.float32, name=None)}),\n",
      " 'policy_info': PerArmPolicyInfo(log_probability=(), predicted_rewards_mean=(), multiobjective_scalarized_predicted_rewards_mean=(), predicted_rewards_optimistic=(), predicted_rewards_sampled=(), bandit_policy_type=(), chosen_arm_features=TensorSpec(shape=(21,), dtype=tf.float32, name=None)),\n",
      " 'reward': TensorSpec(shape=(), dtype=tf.float32, name='reward'),\n",
      " 'step_type': TensorSpec(shape=(), dtype=tf.int32, name='step_type')})\n"
     ]
    }
   ],
   "source": [
    "print('training data spec: ', agent.training_data_spec)"
   ]
  },
  {
   "cell_type": "markdown",
   "id": "6df5785f-66f8-45f8-aa03-58cf3a117d64",
   "metadata": {},
   "source": [
    "### Define RL metric"
   ]
  },
  {
   "cell_type": "markdown",
   "id": "0fdc7f42-13cd-4e7a-9220-934166fcd9ef",
   "metadata": {},
   "source": [
    "Bandits' most important metric is **regret**, calculated as the difference between the reward collected by the agent and the expected reward of an oracle policy that has access to the reward functions of the environment. The [RegretMetric](https://github.com/tensorflow/agents/blob/master/tf_agents/bandits/metrics/tf_metrics.py) thus needs a `baseline_reward_fn` function that calculates the best achievable expected reward given an observation. For our example, we need to take the maximum of the no-noise equivalents of the reward functions that we already defined for the environment."
   ]
  },
  {
   "cell_type": "code",
   "execution_count": 96,
   "id": "8680c971-1b81-439f-877d-1893f4a8a158",
   "metadata": {},
   "outputs": [],
   "source": [
    "optimal_reward_fn = functools.partial(\n",
    "    environment_utilities.compute_optimal_reward_with_movielens_environment\n",
    "    , environment=environment\n",
    ")\n",
    "\n",
    "regret_metric = tf_bandit_metrics.RegretMetric(optimal_reward_fn)\n",
    "\n",
    "metrics = [regret_metric]"
   ]
  },
  {
   "cell_type": "markdown",
   "id": "5195e0ff-6a36-4cb8-b170-fb0c8910660a",
   "metadata": {},
   "source": [
    "## Train (locally)"
   ]
  },
  {
   "cell_type": "markdown",
   "id": "765c72aa-73fc-4900-9a5b-c9e831cfd922",
   "metadata": {},
   "source": [
    "A **policy** in a bandit problem works the same way as in an RL problem: it provides an action (or a distribution of actions), given an observation as input.\n",
    "* For more details, see the [TF-Agents Policy tutorial](https://github.com/tensorflow/agents/blob/master/docs/tutorials/3_policies_tutorial.ipynb).\n",
    "* As with environments, there are two ways to construct a policy: One can create a `PyPolicy` and wrap it with `TFPyPolicy`, or directly create a `TFPolicy`\n",
    "\n",
    "**Replay buffers**\n",
    "* Reinforcement learning algorithms use `replay buffers` to store trajectories of experience when executing a policy in an environment. * During training, replay buffers are queried for a subset of the trajectories (either a sequential subset or a sample) to \"replay\" the agent's experience."
   ]
  },
  {
   "cell_type": "markdown",
   "id": "db72a780-63b6-4eb7-a274-3d9e357fdf85",
   "metadata": {},
   "source": [
    "### Define the training logic (on-policy training)"
   ]
  },
  {
   "cell_type": "markdown",
   "id": "d9523045-4f43-4a67-83a6-275aa3118e31",
   "metadata": {},
   "source": [
    "> The following function is the same as [trainer.train](https://github.com/tensorflow/agents/blob/master/tf_agents/bandits/agents/examples/v2/trainer.py#L130), but it keeps track of intermediate metric values and saves different artifacts to different locations. You can also directly invoke [trainer.train](https://github.com/tensorflow/agents/blob/master/tf_agents/bandits/agents/examples/v2/trainer.py#L130) which also trains the policy."
   ]
  },
  {
   "cell_type": "code",
   "execution_count": 97,
   "id": "83bfb300-9b8d-4a9d-8f76-addb8404c207",
   "metadata": {},
   "outputs": [],
   "source": [
    "def train(\n",
    "    root_dir: str,\n",
    "    agent: TFAgent,\n",
    "    environment: TFEnvironment,\n",
    "    training_loops: int,\n",
    "    steps_per_loop: int,\n",
    "    additional_metrics: Optional[List[TFStepMetric]] = None,\n",
    "    training_data_spec_transformation_fn: Optional[Callable[[T], T]] = None,\n",
    ") -> Dict[str, List[float]]:\n",
    "    \"\"\"Performs `training_loops` iterations of training on the agent's policy.\n",
    "\n",
    "    Uses the `environment` as the problem formulation and source of immediate\n",
    "    feedback and the agent's algorithm, to perform `training-loops` iterations\n",
    "    of on-policy training on the policy.\n",
    "    If one or more baseline_reward_fns are provided, the regret is computed\n",
    "    against each one of them. Here is example baseline_reward_fn:\n",
    "    def baseline_reward_fn(observation, per_action_reward_fns):\n",
    "        rewards = ... # compute reward for each arm\n",
    "        optimal_action_reward = ... # take the maximum reward\n",
    "        return optimal_action_reward\n",
    "\n",
    "    Args:\n",
    "        root_dir: Path to the directory where training artifacts are written.\n",
    "        agent: An instance of `TFAgent`.\n",
    "        environment: An instance of `TFEnvironment`.\n",
    "        training_loops: An integer indicating how many training loops should be run.\n",
    "        steps_per_loop: An integer indicating how many driver steps should be\n",
    "           executed and presented to the trainer during each training loop.\n",
    "        additional_metrics: Optional; list of metric objects to log, in addition to\n",
    "          default metrics `NumberOfEpisodes`, `AverageReturnMetric`, and\n",
    "          `AverageEpisodeLengthMetric`.\n",
    "        training_data_spec_transformation_fn: Optional; function that transforms\n",
    "          the data items before they get to the replay buffer.\n",
    "\n",
    "    Returns:\n",
    "        A dict mapping metric names (eg. \"AverageReturnMetric\") to a list of\n",
    "        intermediate metric values over `training_loops` iterations of training.\n",
    "    \"\"\"\n",
    "    \n",
    "    # ====================================================\n",
    "    # get data spec\n",
    "    # ====================================================\n",
    "    if training_data_spec_transformation_fn is None:\n",
    "        data_spec = agent.policy.trajectory_spec\n",
    "    else:\n",
    "        data_spec = training_data_spec_transformation_fn(\n",
    "            agent.policy.trajectory_spec\n",
    "        )\n",
    "        \n",
    "    # ====================================================\n",
    "    # define replay buffer\n",
    "    # ====================================================\n",
    "    replay_buffer = trainer._get_replay_buffer(\n",
    "        data_spec\n",
    "        , environment.batch_size\n",
    "        ,steps_per_loop\n",
    "        , 1\n",
    "    )\n",
    "\n",
    "    # ====================================================\n",
    "    # metrics\n",
    "    # ====================================================\n",
    "    \n",
    "    # `step_metric` records the number of individual rounds of bandit interaction;\n",
    "    # that is, (number of trajectories) * batch_size.\n",
    "    step_metric = tf_metrics.EnvironmentSteps()\n",
    "    \n",
    "    metrics = [\n",
    "        tf_metrics.NumberOfEpisodes(),\n",
    "        tf_metrics.AverageEpisodeLengthMetric(batch_size=environment.batch_size)\n",
    "    ]\n",
    "    if additional_metrics:\n",
    "        metrics += additional_metrics\n",
    "\n",
    "    if isinstance(environment.reward_spec(), dict):\n",
    "        metrics += [\n",
    "            tf_metrics.AverageReturnMultiMetric(\n",
    "                reward_spec=environment.reward_spec(),\n",
    "                batch_size=environment.batch_size)\n",
    "        ]\n",
    "    else:\n",
    "        metrics += [\n",
    "            tf_metrics.AverageReturnMetric(batch_size=environment.batch_size)\n",
    "        ]\n",
    "\n",
    "    # Store intermediate metric results, indexed by metric names.\n",
    "    metric_results = defaultdict(list)\n",
    "    print(f\"metric_results: {metric_results}\")\n",
    "    \n",
    "    # ====================================================\n",
    "    # Driver\n",
    "    # ====================================================\n",
    "    if training_data_spec_transformation_fn is not None:\n",
    "        def add_batch_fn(data): return replay_buffer.add_batch(\n",
    "            training_data_spec_transformation_fn(data)\n",
    "        ) \n",
    "        \n",
    "    else:\n",
    "        add_batch_fn = replay_buffer.add_batch\n",
    "\n",
    "    observers = [add_batch_fn, step_metric] + metrics\n",
    "\n",
    "    driver = dynamic_step_driver.DynamicStepDriver(\n",
    "        env = environment\n",
    "        , policy = agent.collect_policy\n",
    "        , num_steps = steps_per_loop * environment.batch_size\n",
    "        , observers = observers\n",
    "    )\n",
    "\n",
    "    # ====================================================\n",
    "    # training_loop\n",
    "    # ====================================================\n",
    "    training_loop = trainer._get_training_loop(\n",
    "        driver=driver\n",
    "        , replay_buffer=replay_buffer\n",
    "        , agent=agent\n",
    "        , steps=steps_per_loop\n",
    "        , async_steps_per_loop=1\n",
    "    )\n",
    "    saver = policy_saver.PolicySaver(agent.policy)\n",
    "\n",
    "    # for _ in range(training_loops):\n",
    "    for train_step in range(training_loops):\n",
    "        training_loop(                         # JT TODO\n",
    "            train_step=train_step\n",
    "            , metrics=metrics\n",
    "        )\n",
    "        metric_utils.log_metrics(metrics)\n",
    "        for metric in metrics:\n",
    "            metric.tf_summaries(train_step=step_metric.result())\n",
    "            metric_results[type(metric).__name__].append(metric.result().numpy())\n",
    "    saver.save(root_dir)\n",
    "    \n",
    "    return metric_results"
   ]
  },
  {
   "cell_type": "markdown",
   "id": "e887e408-45db-4c95-aa84-268b0f573252",
   "metadata": {},
   "source": [
    "### set Vertex Exeperiment"
   ]
  },
  {
   "cell_type": "code",
   "execution_count": 98,
   "id": "bea2c0a5-96f2-44fb-8e28-3f5b68698d39",
   "metadata": {},
   "outputs": [
    {
     "name": "stdout",
     "output_type": "stream",
     "text": [
      "EXPERIMENT_NAME   : perarm-local-test\n",
      "RUN_NAME          : run-20230713-154556\n",
      "LOG_DIR           : gs://mabv1-hybrid-vertex-bucket/perarm-local-test/run-20230713-154556/tb-logs\n",
      "ROOT_DIR          : gs://mabv1-hybrid-vertex-bucket/perarm-local-test/run-20230713-154556/root\n",
      "ARTIFACTS_DIR     : gs://mabv1-hybrid-vertex-bucket/perarm-local-test/run-20230713-154556/artifacts\n"
     ]
    }
   ],
   "source": [
    "EXPERIMENT_NAME   = f'perarm-local-test'\n",
    "\n",
    "invoke_time       = time.strftime(\"%Y%m%d-%H%M%S\")\n",
    "RUN_NAME          = f'run-{invoke_time}'\n",
    "\n",
    "LOG_DIR           = f\"{BUCKET_URI}/{EXPERIMENT_NAME}/{RUN_NAME}/tb-logs\"\n",
    "ROOT_DIR          = f\"{BUCKET_URI}/{EXPERIMENT_NAME}/{RUN_NAME}/root\"       # Root directory for writing logs/summaries/checkpoints.\n",
    "ARTIFACTS_DIR     = f\"{BUCKET_URI}/{EXPERIMENT_NAME}/{RUN_NAME}/artifacts\"  # Where the trained model will be saved and restored.\n",
    "\n",
    "aiplatform.init(\n",
    "    project=PROJECT_ID,\n",
    "    location=REGION,\n",
    "    experiment=EXPERIMENT_NAME\n",
    ")\n",
    "\n",
    "print(f\"EXPERIMENT_NAME   : {EXPERIMENT_NAME}\")\n",
    "print(f\"RUN_NAME          : {RUN_NAME}\")\n",
    "print(f\"LOG_DIR           : {LOG_DIR}\")\n",
    "print(f\"ROOT_DIR          : {ROOT_DIR}\")\n",
    "print(f\"ARTIFACTS_DIR     : {ARTIFACTS_DIR}\")"
   ]
  },
  {
   "cell_type": "markdown",
   "id": "1ca02ce7-a030-419b-85d3-40fc9f4f4532",
   "metadata": {},
   "source": [
    "### Managed Tensorboard"
   ]
  },
  {
   "cell_type": "code",
   "execution_count": 99,
   "id": "7b143c2b-3212-4fed-8a3e-64ee23d03184",
   "metadata": {},
   "outputs": [
    {
     "name": "stdout",
     "output_type": "stream",
     "text": [
      "TB_RESOURCE_NAME: projects/934903580331/locations/us-central1/tensorboards/4226126872984944640\n"
     ]
    }
   ],
   "source": [
    "# # create new TB instance\n",
    "TENSORBOARD_DISPLAY_NAME=f\"{EXPERIMENT_NAME}-{RUN_NAME}\"\n",
    "tensorboard = aiplatform.Tensorboard.create(display_name=TENSORBOARD_DISPLAY_NAME)\n",
    "TB_RESOURCE_NAME = tensorboard.resource_name\n",
    "\n",
    "# use existing TB instance\n",
    "# TB_RESOURCE_NAME = 'projects/934903580331/locations/us-central1/tensorboards/472921941339013120'\n",
    "\n",
    "print(f\"TB_RESOURCE_NAME: {TB_RESOURCE_NAME}\")"
   ]
  },
  {
   "cell_type": "markdown",
   "id": "21bbf357-011e-48fe-a714-1d9f8012329d",
   "metadata": {},
   "source": [
    "### train RL agent"
   ]
  },
  {
   "cell_type": "code",
   "execution_count": 100,
   "id": "bd567c85-810d-4bcf-b920-29fad009349f",
   "metadata": {},
   "outputs": [
    {
     "name": "stdout",
     "output_type": "stream",
     "text": [
      "metric_results: defaultdict(<class 'list'>, {})\n"
     ]
    },
    {
     "name": "stderr",
     "output_type": "stream",
     "text": [
      "/home/jupyter/.local/lib/python3.10/site-packages/tensorflow/python/saved_model/nested_structure_coder.py:497: UserWarning: Encoding a StructuredValue with type tfp.distributions.Deterministic_ACTTypeSpec; loading this StructuredValue will require that this type be imported and registered.\n",
      "  warnings.warn(\"Encoding a StructuredValue with type %s; loading this \"\n"
     ]
    }
   ],
   "source": [
    "#start the timer and training\n",
    "start_time = time.time()\n",
    "\n",
    "tf.profiler.experimental.start(LOG_DIR)\n",
    "metric_results = train(\n",
    "    root_dir=ROOT_DIR,\n",
    "    agent=agent,\n",
    "    environment=environment,\n",
    "    training_loops=TRAINING_LOOPS,\n",
    "    steps_per_loop=STEPS_PER_LOOP,\n",
    "    additional_metrics=metrics\n",
    ")\n",
    "tf.profiler.experimental.stop()\n",
    "\n",
    "end_time = time.time()\n",
    "runtime_mins = int((end_time - start_time) / 60)"
   ]
  },
  {
   "cell_type": "code",
   "execution_count": 101,
   "id": "abfa8137-834c-4fe7-998e-6d585c347dec",
   "metadata": {
    "collapsed": true,
    "jupyter": {
     "outputs_hidden": true
    },
    "tags": []
   },
   "outputs": [
    {
     "data": {
      "text/plain": [
       "defaultdict(list,\n",
       "            {'NumberOfEpisodes': [48,\n",
       "              96,\n",
       "              144,\n",
       "              192,\n",
       "              240,\n",
       "              288,\n",
       "              336,\n",
       "              384,\n",
       "              432,\n",
       "              480],\n",
       "             'AverageEpisodeLengthMetric': [1.0,\n",
       "              1.0,\n",
       "              1.0,\n",
       "              1.0,\n",
       "              1.0,\n",
       "              1.0,\n",
       "              1.0,\n",
       "              1.0,\n",
       "              1.0,\n",
       "              1.0],\n",
       "             'RegretMetric': [1.0119307,\n",
       "              1.074147,\n",
       "              0.44905764,\n",
       "              0.8111209,\n",
       "              0.66253877,\n",
       "              0.2559061,\n",
       "              0.577085,\n",
       "              0.4155762,\n",
       "              0.50134087,\n",
       "              0.40863454],\n",
       "             'AverageReturnMetric': [0.15229103,\n",
       "              1.6384208,\n",
       "              0.8681714,\n",
       "              1.798214,\n",
       "              1.5430243,\n",
       "              1.1815403,\n",
       "              0.71159726,\n",
       "              0.7688997,\n",
       "              0.91992855,\n",
       "              1.3769543]})"
      ]
     },
     "execution_count": 101,
     "metadata": {},
     "output_type": "execute_result"
    }
   ],
   "source": [
    "metric_results"
   ]
  },
  {
   "cell_type": "markdown",
   "id": "25933df7-7527-4eda-b25c-d166f93b29b0",
   "metadata": {},
   "source": [
    "### log Vertex Experiment run"
   ]
  },
  {
   "cell_type": "code",
   "execution_count": 102,
   "id": "cb43ea65-3c72-44c8-9373-e5c7ea46e2d5",
   "metadata": {},
   "outputs": [],
   "source": [
    "aiplatform.start_run(\n",
    "    RUN_NAME\n",
    "    , tensorboard=TB_RESOURCE_NAME\n",
    "    , resume=False\n",
    ")\n",
    "\n",
    "aiplatform.log_params(\n",
    "    {\n",
    "        \"runtime\": runtime_mins,\n",
    "        \"batch_size\": BATCH_SIZE, \n",
    "        \"training_loops\": TRAINING_LOOPS,\n",
    "        \"steps_pre_loop\": STEPS_PER_LOOP,\n",
    "        \"rank_k\": RANK_K,\n",
    "        \"num_actions\": NUM_ACTIONS,\n",
    "        \"per_arm\": PER_ARM,\n",
    "        \"tikhonov_weight\": TIKHONOV_WEIGHT,\n",
    "        \"agent_alpha\": AGENT_ALPHA,\n",
    "    }\n",
    ")\n",
    "\n",
    "# gather the metrics for the last epoch to be saved in metrics\n",
    "aiplatform.log_metrics(\n",
    "    {\n",
    "        \"AverageReturnMetric\" : float(metric_results[\"AverageReturnMetric\"][-1])\n",
    "        , \"FinalRegretMetric\" : float(metric_results[\"RegretMetric\"][-1])\n",
    "    }\n",
    ")\n",
    "\n",
    "aiplatform.end_run()"
   ]
  },
  {
   "cell_type": "markdown",
   "id": "eb309b7e-ea8d-496a-88d8-61c18cf1259c",
   "metadata": {},
   "source": [
    "## Evaluate RL metrics"
   ]
  },
  {
   "cell_type": "code",
   "execution_count": 103,
   "id": "75d1843b-c763-4ca3-bed6-d954c680a66d",
   "metadata": {},
   "outputs": [],
   "source": [
    "def plot(metric_results, metric_name):\n",
    "    plt.plot(metric_results[metric_name])\n",
    "    plt.ylabel(metric_name)\n",
    "    plt.xlabel(\"Step\")\n",
    "    plt.title(\"{} versus Step\".format(metric_name))"
   ]
  },
  {
   "cell_type": "code",
   "execution_count": 104,
   "id": "9a7ada8a-77b3-43f4-8631-aee319dc6523",
   "metadata": {},
   "outputs": [
    {
     "data": {
      "image/png": "[encoded data removed]",
      "text/plain": [
       "<Figure size 640x480 with 1 Axes>"
      ]
     },
     "metadata": {},
     "output_type": "display_data"
    }
   ],
   "source": [
    "plot(metric_results, \"RegretMetric\")"
   ]
  },
  {
   "cell_type": "code",
   "execution_count": 105,
   "id": "5ea3de56-3540-4258-88ce-fafea4ec50a7",
   "metadata": {},
   "outputs": [
    {
     "data": {
      "image/png": "[encoded data removed]",
      "text/plain": [
       "<Figure size 640x480 with 1 Axes>"
      ]
     },
     "metadata": {},
     "output_type": "display_data"
    }
   ],
   "source": [
    "plot(metric_results, \"AverageReturnMetric\")"
   ]
  },
  {
   "cell_type": "markdown",
   "id": "a2ceaca0-c58d-4c37-90ea-f4a00e034aee",
   "metadata": {},
   "source": [
    "### Profiler"
   ]
  },
  {
   "cell_type": "code",
   "execution_count": 106,
   "id": "f3401ad6-ac68-49a6-8d16-3b3edf667eaf",
   "metadata": {},
   "outputs": [],
   "source": [
    "%load_ext tensorboard\n",
    "# %reload_ext tensorboard"
   ]
  },
  {
   "cell_type": "code",
   "execution_count": 107,
   "id": "22644f6b-1996-4c16-a81c-431b5cd68977",
   "metadata": {},
   "outputs": [
    {
     "data": {
      "text/html": [
       "\n",
       "      <iframe id=\"tensorboard-frame-19c49af3e9ff104b\" width=\"100%\" height=\"800\" frameborder=\"0\">\n",
       "      </iframe>\n",
       "      <script>\n",
       "        (function() {\n",
       "          const frame = document.getElementById(\"tensorboard-frame-19c49af3e9ff104b\");\n",
       "          const url = new URL(\"/proxy/6006/\", window.location);\n",
       "          const port = 0;\n",
       "          if (port) {\n",
       "            url.port = port;\n",
       "          }\n",
       "          frame.src = url;\n",
       "        })();\n",
       "      </script>\n",
       "    "
      ],
      "text/plain": [
       "<IPython.core.display.HTML object>"
      ]
     },
     "metadata": {},
     "output_type": "display_data"
    }
   ],
   "source": [
    "%tensorboard --logdir=$LOG_DIR"
   ]
  },
  {
   "cell_type": "markdown",
   "id": "55ac6fd2-87c4-4c35-9ad5-96ff18235297",
   "metadata": {},
   "source": [
    "### load trained policy"
   ]
  },
  {
   "cell_type": "code",
   "execution_count": 108,
   "id": "6e580390-784b-4d3c-8a19-35fa3c4a1a89",
   "metadata": {},
   "outputs": [
    {
     "data": {
      "text/plain": [
       "<tensorflow.python.saved_model.load.Loader._recreate_base_user_object.<locals>._UserObject at 0x7ff3001d7c10>"
      ]
     },
     "execution_count": 108,
     "metadata": {},
     "output_type": "execute_result"
    }
   ],
   "source": [
    "loaded_policy = tf.saved_model.load(ROOT_DIR)\n",
    "loaded_policy"
   ]
  }
 ],
 "metadata": {
  "environment": {
   "kernel": "python3",
   "name": "tf2-gpu.2-11.m109",
   "type": "gcloud",
   "uri": "gcr.io/deeplearning-platform-release/tf2-gpu.2-11:m109"
  },
  "kernelspec": {
   "display_name": "Python 3",
   "language": "python",
   "name": "python3"
  },
  "language_info": {
   "codemirror_mode": {
    "name": "ipython",
    "version": 3
   },
   "file_extension": ".py",
   "mimetype": "text/x-python",
   "name": "python",
   "nbconvert_exporter": "python",
   "pygments_lexer": "ipython3",
   "version": "3.10.11"
  }
 },
 "nbformat": 4,
 "nbformat_minor": 5
}
