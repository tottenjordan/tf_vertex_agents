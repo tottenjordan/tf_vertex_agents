{
 "cells": [
  {
   "cell_type": "markdown",
   "id": "e888c2fa-8bba-4d0c-8ae5-5a83224215f3",
   "metadata": {},
   "source": [
    "# Build TF-Agents Bandit model and execute locally"
   ]
  },
  {
   "cell_type": "code",
   "execution_count": 2,
   "id": "7b72a722-a7e4-4fd8-99bf-1c0ebbf07d2e",
   "metadata": {},
   "outputs": [],
   "source": [
    "# pip install --user google-cloud-aiplatform\n",
    "# pip install --user google-cloud-storage\n",
    "# pip install --user numpy\n",
    "# pip install --user cloudml-hypertune\n",
    "# pip install --user tensorflow==2.12.0 tensorflow-serving-api==2.11.0\n",
    "# pip install --user tf-agents==0.16.0\n",
    "# pip install --user tensorboard-data-server==0.7.1\n",
    "# pip install --user tensorboard-plugin-profile==2.13.0\n",
    "# pip install --user tensorflow-io==0.29.0\n",
    "# pip install --user --upgrade pillow"
   ]
  },
  {
   "cell_type": "code",
   "execution_count": 3,
   "id": "a02fe987-d962-44b5-ae30-8669d80f3464",
   "metadata": {},
   "outputs": [
    {
     "name": "stdout",
     "output_type": "stream",
     "text": [
      "aiplatform SDK version: 1.26.0\n"
     ]
    }
   ],
   "source": [
    "! python3 -c \"import google.cloud.aiplatform; print('aiplatform SDK version: {}'.format(google.cloud.aiplatform.__version__))\""
   ]
  },
  {
   "cell_type": "code",
   "execution_count": 4,
   "id": "0af1feec-5960-4ffa-9e4c-72314c8275e4",
   "metadata": {},
   "outputs": [
    {
     "name": "stdout",
     "output_type": "stream",
     "text": [
      "/home/jupyter/jt-github/tf_vertex_agents\n"
     ]
    }
   ],
   "source": [
    "!pwd"
   ]
  },
  {
   "cell_type": "markdown",
   "id": "8ef9c996-c9b2-4800-acd9-3d4499749179",
   "metadata": {},
   "source": [
    "### set vars"
   ]
  },
  {
   "cell_type": "code",
   "execution_count": 5,
   "id": "57387e4b-2044-4c34-a87c-25137d35c5ec",
   "metadata": {},
   "outputs": [],
   "source": [
    "PREFIX = 'tabv1'"
   ]
  },
  {
   "cell_type": "code",
   "execution_count": 6,
   "id": "48c8a6f8-2ae0-4ceb-ab5a-516ccb3c5890",
   "metadata": {},
   "outputs": [
    {
     "name": "stdout",
     "output_type": "stream",
     "text": [
      "PROJECT_ID       = hybrid-vertex\n",
      "PROJECT_NUM      = 934903580331\n",
      "VPC_NETWORK_NAME = genai-haystack-vpc\n",
      "LOCATION         = us-central1\n",
      "REGION           = us-central1\n",
      "BQ_LOCATION      = US\n"
     ]
    }
   ],
   "source": [
    "# creds, PROJECT_ID = google.auth.default()\n",
    "GCP_PROJECTS             = !gcloud config get-value project\n",
    "PROJECT_ID               = GCP_PROJECTS[0]\n",
    "\n",
    "PROJECT_NUM              = !gcloud projects describe $PROJECT_ID --format=\"value(projectNumber)\"\n",
    "PROJECT_NUM              = PROJECT_NUM[0]\n",
    "\n",
    "VERTEX_SA                = f'{PROJECT_NUM}-compute@developer.gserviceaccount.com'\n",
    "\n",
    "VPC_NETWORK_NAME         = \"ucaip-haystack-vpc-network\"\n",
    "\n",
    "# locations / regions for cloud resources\n",
    "LOCATION                 = 'us-central1'        \n",
    "REGION                   = LOCATION\n",
    "BQ_LOCATION              = 'US'\n",
    "\n",
    "print(f\"PROJECT_ID       = {PROJECT_ID}\")\n",
    "print(f\"PROJECT_NUM      = {PROJECT_NUM}\")\n",
    "print(f\"VPC_NETWORK_NAME = {VPC_NETWORK_NAME}\")\n",
    "print(f\"LOCATION         = {LOCATION}\")\n",
    "print(f\"REGION           = {REGION}\")\n",
    "print(f\"BQ_LOCATION      = {BQ_LOCATION}\")"
   ]
  },
  {
   "cell_type": "code",
   "execution_count": 7,
   "id": "4c5a062c-fd25-4f5d-86d8-8b4728ef98fd",
   "metadata": {},
   "outputs": [
    {
     "name": "stdout",
     "output_type": "stream",
     "text": [
      "BUCKET_NAME       : tabv1-hybrid-vertex-bucket\n",
      "BUCKET_URI        : gs://tabv1-hybrid-vertex-bucket\n",
      "DATA_PATH         : gs://tabv1-hybrid-vertex-bucket/artifacts/u.data\n",
      "VPC_NETWORK_FULL  : projects/934903580331/global/networks/genai-haystack-vpc\n",
      "MY_BQ_DATASET     : tabv1_hybrid_vertex_bucket\n"
     ]
    }
   ],
   "source": [
    "# GCS bucket and paths\n",
    "BUCKET_NAME              = f'{PREFIX}-{PROJECT_ID}-bucket'\n",
    "BUCKET_URI               = f'gs://{BUCKET_NAME}'\n",
    "\n",
    "# Location of the MovieLens 100K dataset's \"u.data\" file.\n",
    "DATA_PATH                = f\"{BUCKET_URI}/artifacts/u.data\"\n",
    "\n",
    "VPC_NETWORK_FULL         = f\"projects/{PROJECT_NUM}/global/networks/{VPC_NETWORK_NAME}\"\n",
    "\n",
    "MY_BQ_DATASET            = BUCKET_NAME.lower().replace(\"-\",\"_\")\n",
    "\n",
    "print(f\"BUCKET_NAME       : {BUCKET_NAME}\")\n",
    "print(f\"BUCKET_URI        : {BUCKET_URI}\")\n",
    "print(f\"DATA_PATH         : {DATA_PATH}\")\n",
    "print(f\"VPC_NETWORK_FULL  : {VPC_NETWORK_FULL}\")\n",
    "print(f\"MY_BQ_DATASET     : {MY_BQ_DATASET}\")"
   ]
  },
  {
   "cell_type": "markdown",
   "id": "a6b1ca8a-d1db-42c0-834f-298669e06abf",
   "metadata": {},
   "source": [
    "#### create GCS bucket"
   ]
  },
  {
   "cell_type": "code",
   "execution_count": 9,
   "id": "1b62cca6-c485-4276-a126-a969a5b072a3",
   "metadata": {},
   "outputs": [
    {
     "name": "stdout",
     "output_type": "stream",
     "text": [
      "Creating gs://tabv1-hybrid-vertex-bucket/...\n"
     ]
    }
   ],
   "source": [
    "# create bucket\n",
    "! gsutil mb -l $REGION $BUCKET_URI"
   ]
  },
  {
   "cell_type": "code",
   "execution_count": 10,
   "id": "cf267dfa-3e59-4ea1-a0b6-e1c7f1ce8675",
   "metadata": {},
   "outputs": [],
   "source": [
    "! gsutil ls -al $BUCKET_URI"
   ]
  },
  {
   "cell_type": "markdown",
   "id": "e2e03648-23ef-4ebb-b4f4-c28dd2a3c7b0",
   "metadata": {},
   "source": [
    "### imports"
   ]
  },
  {
   "cell_type": "code",
   "execution_count": 12,
   "id": "edf25e4c-afd4-4be2-9784-ee43124f9101",
   "metadata": {},
   "outputs": [],
   "source": [
    "import os\n",
    "os.environ['TF_CPP_MIN_LOG_LEVEL'] = '2'"
   ]
  },
  {
   "cell_type": "code",
   "execution_count": 30,
   "id": "1000b866-e997-43bf-9891-6ce80aa69019",
   "metadata": {},
   "outputs": [],
   "source": [
    "import functools\n",
    "import json\n",
    "from collections import defaultdict\n",
    "from typing import Callable, Dict, List, Optional, TypeVar\n",
    "from datetime import datetime\n",
    "import time\n",
    "\n",
    "import logging\n",
    "logging.disable(logging.WARNING)\n",
    "\n",
    "import matplotlib.pyplot as plt\n",
    "import numpy as np\n",
    "\n",
    "# google cloud\n",
    "from google.cloud import aiplatform, storage\n",
    "\n",
    "# tensorflow\n",
    "import tensorflow as tf\n",
    "from tf_agents.agents import TFAgent\n",
    "from tf_agents.bandits.agents import lin_ucb_agent\n",
    "from tf_agents.bandits.agents.examples.v2 import trainer\n",
    "from tf_agents.bandits.environments import (environment_utilities,\n",
    "                                            movielens_py_environment)\n",
    "from tf_agents.bandits.metrics import tf_metrics as tf_bandit_metrics\n",
    "from tf_agents.drivers import dynamic_step_driver\n",
    "from tf_agents.environments import TFEnvironment, tf_py_environment\n",
    "from tf_agents.eval import metric_utils\n",
    "from tf_agents.metrics import tf_metrics\n",
    "from tf_agents.metrics.tf_metric import TFStepMetric\n",
    "from tf_agents.policies import policy_saver\n",
    "\n",
    "if tf.__version__[0] != \"2\":\n",
    "    raise Exception(\"The trainer only runs with TensorFlow version 2.\")\n",
    "\n",
    "T = TypeVar(\"T\")"
   ]
  },
  {
   "cell_type": "markdown",
   "id": "10411736-7b03-418a-883e-0157cc183d04",
   "metadata": {},
   "source": [
    "### detect GPUs & reset devices"
   ]
  },
  {
   "cell_type": "code",
   "execution_count": 16,
   "id": "c3cc5e8e-4b02-4df4-8eea-7c40466cd241",
   "metadata": {},
   "outputs": [
    {
     "data": {
      "text/plain": [
       "[PhysicalDevice(name='/physical_device:GPU:0', device_type='GPU'),\n",
       " PhysicalDevice(name='/physical_device:GPU:1', device_type='GPU')]"
      ]
     },
     "execution_count": 16,
     "metadata": {},
     "output_type": "execute_result"
    }
   ],
   "source": [
    "gpus = tf.config.experimental.list_physical_devices('GPU')\n",
    "for gpu in gpus:\n",
    "    tf.config.experimental.set_memory_growth(gpu, True)\n",
    "    \n",
    "gpus"
   ]
  },
  {
   "cell_type": "code",
   "execution_count": 17,
   "id": "a75044a2-d511-4727-84d2-780648fc191a",
   "metadata": {},
   "outputs": [],
   "source": [
    "from numba import cuda \n",
    "device = cuda.get_current_device()\n",
    "device.reset()"
   ]
  },
  {
   "cell_type": "code",
   "execution_count": 18,
   "id": "930a786e-c91f-4558-be40-bf31512bafcb",
   "metadata": {},
   "outputs": [
    {
     "data": {
      "text/plain": [
       "14"
      ]
     },
     "execution_count": 18,
     "metadata": {},
     "output_type": "execute_result"
    }
   ],
   "source": [
    "import gc\n",
    "gc.collect()"
   ]
  },
  {
   "cell_type": "markdown",
   "id": "6f7e69b4-7fe1-40fd-b42c-e3a24f8f4598",
   "metadata": {},
   "source": [
    "### Initialize Google Cloud SDK Clients"
   ]
  },
  {
   "cell_type": "code",
   "execution_count": 20,
   "id": "ef21e778-2043-450e-a78b-4c75416bf7fc",
   "metadata": {},
   "outputs": [],
   "source": [
    "# cloud storage client\n",
    "storage_client = storage.Client(project=PROJECT_ID)\n",
    "\n",
    "# Vertex client\n",
    "aiplatform.init(project=PROJECT_ID, location=LOCATION)\n",
    "\n",
    "# # bigquery client\n",
    "# bqclient = bigquery.Client(\n",
    "#     project=PROJECT_ID,\n",
    "#     # location=LOCATION\n",
    "# )"
   ]
  },
  {
   "cell_type": "markdown",
   "id": "99900b37-e159-43dd-b63b-e7c0e20a4ab1",
   "metadata": {},
   "source": [
    "## Data prep"
   ]
  },
  {
   "cell_type": "markdown",
   "id": "29776aca-6af4-4002-934d-fef353b60b33",
   "metadata": {},
   "source": [
    "### copy sample data to $DATA_PATH"
   ]
  },
  {
   "cell_type": "code",
   "execution_count": 21,
   "id": "e90401b5-b352-4df7-8041-3bcb7fb0a9d7",
   "metadata": {},
   "outputs": [
    {
     "name": "stdout",
     "output_type": "stream",
     "text": [
      "Copying gs://cloud-samples-data/vertex-ai/community-content/tf_agents_bandits_movie_recommendation_with_kfp_and_vertex_sdk/u.data [Content-Type=application/octet-stream]...\n",
      "/ [1 files][  1.9 MiB/  1.9 MiB]                                                \n",
      "Operation completed over 1 objects/1.9 MiB.                                      \n"
     ]
    }
   ],
   "source": [
    "SAMPLE_DATA_URI = \"gs://cloud-samples-data/vertex-ai/community-content/tf_agents_bandits_movie_recommendation_with_kfp_and_vertex_sdk/u.data\"\n",
    "\n",
    "! gsutil cp $SAMPLE_DATA_URI $DATA_PATH"
   ]
  },
  {
   "cell_type": "code",
   "execution_count": 22,
   "id": "affe7d36-69f3-422a-8c56-2879e5dae4cd",
   "metadata": {},
   "outputs": [
    {
     "name": "stdout",
     "output_type": "stream",
     "text": [
      "   1979173  2023-07-04T12:47:39Z  gs://tabv1-hybrid-vertex-bucket/artifacts/u.data#1688474859744626  metageneration=1\n",
      "TOTAL: 1 objects, 1979173 bytes (1.89 MiB)\n"
     ]
    }
   ],
   "source": [
    "! gsutil ls -al $DATA_PATH"
   ]
  },
  {
   "cell_type": "markdown",
   "id": "37bcaf16-ef88-4dce-a8e2-72f20d244dff",
   "metadata": {},
   "source": [
    "## Define & Train RL modules"
   ]
  },
  {
   "cell_type": "markdown",
   "id": "19dd649a-1055-4376-8c1c-1543bfd849f1",
   "metadata": {},
   "source": [
    "### set hyperparameters"
   ]
  },
  {
   "cell_type": "code",
   "execution_count": 24,
   "id": "30fd48c5-b137-4823-80d0-7ac462684fee",
   "metadata": {},
   "outputs": [
    {
     "name": "stdout",
     "output_type": "stream",
     "text": [
      "BATCH_SIZE       : 8\n",
      "TRAINING_LOOPS   : 5\n",
      "STEPS_PER_LOOP   : 2\n",
      "RANK_K           : 20\n",
      "NUM_ACTIONS      : 20\n",
      "PER_ARM          : False\n",
      "TIKHONOV_WEIGHT  : 0.001\n",
      "AGENT_ALPHA      : 10.0\n"
     ]
    }
   ],
   "source": [
    "# Set hyperparameters.\n",
    "BATCH_SIZE       = 8      # Training and prediction batch size.\n",
    "TRAINING_LOOPS   = 5      # Number of training iterations.\n",
    "STEPS_PER_LOOP   = 2      # Number of driver steps per training iteration.\n",
    "\n",
    "# Set MovieLens simulation environment parameters.\n",
    "RANK_K           = 20     # Rank for matrix factorization in the MovieLens environment; also the observation dimension.\n",
    "NUM_ACTIONS      = 20     # Number of actions (movie items) to choose from.\n",
    "PER_ARM          = False  # Use the non-per-arm version of the MovieLens environment.\n",
    "\n",
    "# Set agent parameters.\n",
    "TIKHONOV_WEIGHT  = 0.001   # LinUCB Tikhonov regularization weight.\n",
    "AGENT_ALPHA      = 10.0    # LinUCB exploration parameter that multiplies the confidence intervals.\n",
    "\n",
    "print(f\"BATCH_SIZE       : {BATCH_SIZE}\")\n",
    "print(f\"TRAINING_LOOPS   : {TRAINING_LOOPS}\")\n",
    "print(f\"STEPS_PER_LOOP   : {STEPS_PER_LOOP}\")\n",
    "print(f\"RANK_K           : {RANK_K}\")\n",
    "print(f\"NUM_ACTIONS      : {NUM_ACTIONS}\")\n",
    "print(f\"PER_ARM          : {PER_ARM}\")\n",
    "print(f\"TIKHONOV_WEIGHT  : {TIKHONOV_WEIGHT}\")\n",
    "print(f\"AGENT_ALPHA      : {AGENT_ALPHA}\")"
   ]
  },
  {
   "cell_type": "markdown",
   "id": "c024c122-7701-4391-97c1-48660589b098",
   "metadata": {},
   "source": [
    "### Define RL environment"
   ]
  },
  {
   "cell_type": "markdown",
   "id": "1fed298e-0361-4b28-9ee9-e82af4c6d4ea",
   "metadata": {},
   "source": [
    "One can define a bandit environment by subclassing `BanditTFEnvironment`, or, similarly to RL environments, one can define a `BanditPyEnvironment` and wrap it with `TFPyEnvironment`"
   ]
  },
  {
   "cell_type": "code",
   "execution_count": 25,
   "id": "00eddb55-19f3-4bd8-89cf-3a1a75bcba9a",
   "metadata": {},
   "outputs": [],
   "source": [
    "env = movielens_py_environment.MovieLensPyEnvironment(\n",
    "    data_dir = DATA_PATH\n",
    "    , rank_k = RANK_K\n",
    "    , batch_size = BATCH_SIZE\n",
    "    , num_movies = NUM_ACTIONS\n",
    "    , csv_delimiter = \"\\t\"\n",
    ")\n",
    "\n",
    "environment = tf_py_environment.TFPyEnvironment(env)"
   ]
  },
  {
   "cell_type": "markdown",
   "id": "a2105b5f-1d7d-448e-a222-b117288444e5",
   "metadata": {},
   "source": [
    "### Define RL agent/algorithm"
   ]
  },
  {
   "cell_type": "code",
   "execution_count": 26,
   "id": "ddb82b68-49fe-48d5-a3a2-27a2fc9c88bc",
   "metadata": {},
   "outputs": [
    {
     "name": "stdout",
     "output_type": "stream",
     "text": [
      "TimeStep Spec (for each batch):\n",
      " TimeStep(\n",
      "{'discount': BoundedTensorSpec(shape=(), dtype=tf.float32, name='discount', minimum=array(0., dtype=float32), maximum=array(1., dtype=float32)),\n",
      " 'observation': TensorSpec(shape=(20,), dtype=tf.float64, name='observation'),\n",
      " 'reward': TensorSpec(shape=(), dtype=tf.float32, name='reward'),\n",
      " 'step_type': TensorSpec(shape=(), dtype=tf.int32, name='step_type')}) \n",
      "\n",
      "Action Spec (for each batch)  :\n",
      " BoundedTensorSpec(shape=(), dtype=tf.int32, name='action', minimum=array(0, dtype=int32), maximum=array(19, dtype=int32)) \n",
      "\n",
      "Reward Spec (for each batch)  :\n",
      " TensorSpec(shape=(), dtype=tf.float32, name='reward') \n",
      "\n"
     ]
    }
   ],
   "source": [
    "agent = lin_ucb_agent.LinearUCBAgent(\n",
    "    time_step_spec = environment.time_step_spec()\n",
    "    , action_spec = environment.action_spec()\n",
    "    , tikhonov_weight = TIKHONOV_WEIGHT\n",
    "    , alpha = AGENT_ALPHA\n",
    "    , dtype = tf.float32\n",
    "    , accepts_per_arm_features = PER_ARM\n",
    ")\n",
    "\n",
    "print(\"TimeStep Spec (for each batch):\\n\", agent.time_step_spec, \"\\n\")\n",
    "print(\"Action Spec (for each batch)  :\\n\", agent.action_spec, \"\\n\")\n",
    "print(\"Reward Spec (for each batch)  :\\n\", environment.reward_spec(), \"\\n\")"
   ]
  },
  {
   "cell_type": "markdown",
   "id": "6df5785f-66f8-45f8-aa03-58cf3a117d64",
   "metadata": {},
   "source": [
    "### Define RL metric"
   ]
  },
  {
   "cell_type": "markdown",
   "id": "0fdc7f42-13cd-4e7a-9220-934166fcd9ef",
   "metadata": {},
   "source": [
    "Bandits' most important metric is **regret**, calculated as the difference between the reward collected by the agent and the expected reward of an oracle policy that has access to the reward functions of the environment. The [RegretMetric](https://github.com/tensorflow/agents/blob/master/tf_agents/bandits/metrics/tf_metrics.py) thus needs a `baseline_reward_fn` function that calculates the best achievable expected reward given an observation. For our example, we need to take the maximum of the no-noise equivalents of the reward functions that we already defined for the environment."
   ]
  },
  {
   "cell_type": "code",
   "execution_count": 27,
   "id": "8680c971-1b81-439f-877d-1893f4a8a158",
   "metadata": {},
   "outputs": [],
   "source": [
    "optimal_reward_fn = functools.partial(\n",
    "    environment_utilities.compute_optimal_reward_with_movielens_environment\n",
    "    , environment=environment\n",
    ")\n",
    "\n",
    "regret_metric = tf_bandit_metrics.RegretMetric(optimal_reward_fn)\n",
    "\n",
    "metrics = [regret_metric]"
   ]
  },
  {
   "cell_type": "markdown",
   "id": "5195e0ff-6a36-4cb8-b170-fb0c8910660a",
   "metadata": {},
   "source": [
    "## Train (locally)"
   ]
  },
  {
   "cell_type": "markdown",
   "id": "765c72aa-73fc-4900-9a5b-c9e831cfd922",
   "metadata": {},
   "source": [
    "A **policy** in a bandit problem works the same way as in an RL problem: it provides an action (or a distribution of actions), given an observation as input.\n",
    "* For more details, see the [TF-Agents Policy tutorial](https://github.com/tensorflow/agents/blob/master/docs/tutorials/3_policies_tutorial.ipynb).\n",
    "* As with environments, there are two ways to construct a policy: One can create a `PyPolicy` and wrap it with `TFPyPolicy`, or directly create a `TFPolicy`\n",
    "\n",
    "**Replay buffers**\n",
    "* Reinforcement learning algorithms use `replay buffers` to store trajectories of experience when executing a policy in an environment. * During training, replay buffers are queried for a subset of the trajectories (either a sequential subset or a sample) to \"replay\" the agent's experience."
   ]
  },
  {
   "cell_type": "markdown",
   "id": "db72a780-63b6-4eb7-a274-3d9e357fdf85",
   "metadata": {},
   "source": [
    "### Define the training logic (on-policy training)"
   ]
  },
  {
   "cell_type": "markdown",
   "id": "d9523045-4f43-4a67-83a6-275aa3118e31",
   "metadata": {},
   "source": [
    "> The following function is the same as [trainer.train](https://github.com/tensorflow/agents/blob/master/tf_agents/bandits/agents/examples/v2/trainer.py#L130), but it keeps track of intermediate metric values and saves different artifacts to different locations. You can also directly invoke [trainer.train](https://github.com/tensorflow/agents/blob/master/tf_agents/bandits/agents/examples/v2/trainer.py#L130) which also trains the policy."
   ]
  },
  {
   "cell_type": "code",
   "execution_count": 28,
   "id": "83bfb300-9b8d-4a9d-8f76-addb8404c207",
   "metadata": {},
   "outputs": [],
   "source": [
    "def train(\n",
    "    root_dir: str,\n",
    "    agent: TFAgent,\n",
    "    environment: TFEnvironment,\n",
    "    training_loops: int,\n",
    "    steps_per_loop: int,\n",
    "    additional_metrics: Optional[List[TFStepMetric]] = None,\n",
    "    training_data_spec_transformation_fn: Optional[Callable[[T], T]] = None,\n",
    ") -> Dict[str, List[float]]:\n",
    "    \"\"\"Performs `training_loops` iterations of training on the agent's policy.\n",
    "\n",
    "    Uses the `environment` as the problem formulation and source of immediate\n",
    "    feedback and the agent's algorithm, to perform `training-loops` iterations\n",
    "    of on-policy training on the policy.\n",
    "    If one or more baseline_reward_fns are provided, the regret is computed\n",
    "    against each one of them. Here is example baseline_reward_fn:\n",
    "    def baseline_reward_fn(observation, per_action_reward_fns):\n",
    "        rewards = ... # compute reward for each arm\n",
    "        optimal_action_reward = ... # take the maximum reward\n",
    "        return optimal_action_reward\n",
    "\n",
    "    Args:\n",
    "        root_dir: Path to the directory where training artifacts are written.\n",
    "        agent: An instance of `TFAgent`.\n",
    "        environment: An instance of `TFEnvironment`.\n",
    "        training_loops: An integer indicating how many training loops should be run.\n",
    "        steps_per_loop: An integer indicating how many driver steps should be\n",
    "           executed and presented to the trainer during each training loop.\n",
    "        additional_metrics: Optional; list of metric objects to log, in addition to\n",
    "          default metrics `NumberOfEpisodes`, `AverageReturnMetric`, and\n",
    "          `AverageEpisodeLengthMetric`.\n",
    "        training_data_spec_transformation_fn: Optional; function that transforms\n",
    "          the data items before they get to the replay buffer.\n",
    "\n",
    "    Returns:\n",
    "        A dict mapping metric names (eg. \"AverageReturnMetric\") to a list of\n",
    "        intermediate metric values over `training_loops` iterations of training.\n",
    "    \"\"\"\n",
    "    \n",
    "    # ====================================================\n",
    "    # get data spec\n",
    "    # ====================================================\n",
    "    if training_data_spec_transformation_fn is None:\n",
    "        data_spec = agent.policy.trajectory_spec\n",
    "    else:\n",
    "        data_spec = training_data_spec_transformation_fn(\n",
    "            agent.policy.trajectory_spec\n",
    "        )\n",
    "        \n",
    "    # ====================================================\n",
    "    # define replay buffer\n",
    "    # ====================================================\n",
    "    replay_buffer = trainer._get_replay_buffer(\n",
    "        data_spec\n",
    "        , environment.batch_size\n",
    "        ,steps_per_loop\n",
    "        , 1\n",
    "    )\n",
    "\n",
    "    # ====================================================\n",
    "    # metrics\n",
    "    # ====================================================\n",
    "    \n",
    "    # `step_metric` records the number of individual rounds of bandit interaction;\n",
    "    # that is, (number of trajectories) * batch_size.\n",
    "    step_metric = tf_metrics.EnvironmentSteps()\n",
    "    \n",
    "    metrics = [\n",
    "        tf_metrics.NumberOfEpisodes(),\n",
    "        tf_metrics.AverageEpisodeLengthMetric(batch_size=environment.batch_size)\n",
    "    ]\n",
    "    if additional_metrics:\n",
    "        metrics += additional_metrics\n",
    "\n",
    "    if isinstance(environment.reward_spec(), dict):\n",
    "        metrics += [\n",
    "            tf_metrics.AverageReturnMultiMetric(\n",
    "                reward_spec=environment.reward_spec(),\n",
    "                batch_size=environment.batch_size)\n",
    "        ]\n",
    "    else:\n",
    "        metrics += [\n",
    "            tf_metrics.AverageReturnMetric(batch_size=environment.batch_size)\n",
    "        ]\n",
    "\n",
    "    # Store intermediate metric results, indexed by metric names.\n",
    "    metric_results = defaultdict(list)\n",
    "    print(f\"metric_results: {metric_results}\")\n",
    "    \n",
    "    # ====================================================\n",
    "    # Driver\n",
    "    # ====================================================\n",
    "    if training_data_spec_transformation_fn is not None:\n",
    "        def add_batch_fn(data): return replay_buffer.add_batch(training_data_spec_transformation_fn(data)) \n",
    "        \n",
    "    else:\n",
    "        add_batch_fn = replay_buffer.add_batch\n",
    "\n",
    "    observers = [add_batch_fn, step_metric] + metrics\n",
    "\n",
    "    driver = dynamic_step_driver.DynamicStepDriver(\n",
    "        env = environment\n",
    "        , policy = agent.collect_policy\n",
    "        , num_steps = steps_per_loop * environment.batch_size\n",
    "        , observers = observers\n",
    "    )\n",
    "\n",
    "    # ====================================================\n",
    "    # training_loop\n",
    "    # ====================================================\n",
    "    training_loop = trainer._get_training_loop(\n",
    "        driver=driver\n",
    "        , replay_buffer=replay_buffer\n",
    "        , agent=agent\n",
    "        , steps=steps_per_loop\n",
    "        , async_steps_per_loop=1\n",
    "    )\n",
    "    saver = policy_saver.PolicySaver(agent.policy)\n",
    "\n",
    "    # for _ in range(training_loops):\n",
    "    for train_step in range(training_loops):\n",
    "        training_loop(    # JT TODO\n",
    "            train_step=train_step\n",
    "            , metrics=metrics\n",
    "        )\n",
    "        metric_utils.log_metrics(metrics)\n",
    "        for metric in metrics:\n",
    "            metric.tf_summaries(train_step=step_metric.result())\n",
    "            metric_results[type(metric).__name__].append(metric.result().numpy())\n",
    "    saver.save(root_dir)\n",
    "    \n",
    "    return metric_results"
   ]
  },
  {
   "cell_type": "markdown",
   "id": "e887e408-45db-4c95-aa84-268b0f573252",
   "metadata": {},
   "source": [
    "### set Vertex Exeperiment"
   ]
  },
  {
   "cell_type": "code",
   "execution_count": 32,
   "id": "bea2c0a5-96f2-44fb-8e28-3f5b68698d39",
   "metadata": {},
   "outputs": [
    {
     "name": "stdout",
     "output_type": "stream",
     "text": [
      "EXPERIMENT_NAME   : build-local-test\n",
      "RUN_NAME          : run-20230704-125143\n",
      "LOG_DIR           : gs://tabv1-hybrid-vertex-bucket/build-local-test/run-20230704-125143/tb-logs\n",
      "ROOT_DIR          : gs://tabv1-hybrid-vertex-bucket/build-local-test/run-20230704-125143/root\n",
      "ARTIFACTS_DIR     : gs://tabv1-hybrid-vertex-bucket/build-local-test/run-20230704-125143/artifacts\n"
     ]
    }
   ],
   "source": [
    "EXPERIMENT_NAME   = f'build-local-test'\n",
    "\n",
    "invoke_time       = time.strftime(\"%Y%m%d-%H%M%S\")\n",
    "RUN_NAME          = f'run-{invoke_time}'\n",
    "\n",
    "LOG_DIR           = f\"{BUCKET_URI}/{EXPERIMENT_NAME}/{RUN_NAME}/tb-logs\"\n",
    "ROOT_DIR          = f\"{BUCKET_URI}/{EXPERIMENT_NAME}/{RUN_NAME}/root\"       # Root directory for writing logs/summaries/checkpoints.\n",
    "ARTIFACTS_DIR     = f\"{BUCKET_URI}/{EXPERIMENT_NAME}/{RUN_NAME}/artifacts\"  # Where the trained model will be saved and restored.\n",
    "\n",
    "aiplatform.init(\n",
    "    project=PROJECT_ID,\n",
    "    location=REGION,\n",
    "    experiment=EXPERIMENT_NAME\n",
    ")\n",
    "\n",
    "print(f\"EXPERIMENT_NAME   : {EXPERIMENT_NAME}\")\n",
    "print(f\"RUN_NAME          : {RUN_NAME}\")\n",
    "print(f\"LOG_DIR           : {LOG_DIR}\")\n",
    "print(f\"ROOT_DIR          : {ROOT_DIR}\")\n",
    "print(f\"ARTIFACTS_DIR     : {ARTIFACTS_DIR}\")"
   ]
  },
  {
   "cell_type": "markdown",
   "id": "1ca02ce7-a030-419b-85d3-40fc9f4f4532",
   "metadata": {},
   "source": [
    "### Managed Tensorboard"
   ]
  },
  {
   "cell_type": "code",
   "execution_count": 33,
   "id": "7b143c2b-3212-4fed-8a3e-64ee23d03184",
   "metadata": {},
   "outputs": [
    {
     "name": "stdout",
     "output_type": "stream",
     "text": [
      "TB_RESOURCE_NAME: projects/934903580331/locations/us-central1/tensorboards/3607444874174922752\n"
     ]
    }
   ],
   "source": [
    "# # create new TB instance\n",
    "TENSORBOARD_DISPLAY_NAME=f\"{EXPERIMENT_NAME}-{RUN_NAME}\"\n",
    "tensorboard = aiplatform.Tensorboard.create(display_name=TENSORBOARD_DISPLAY_NAME)\n",
    "TB_RESOURCE_NAME = tensorboard.resource_name\n",
    "\n",
    "# use existing TB instance\n",
    "# TB_RESOURCE_NAME = 'projects/934903580331/locations/us-central1/tensorboards/472921941339013120'\n",
    "\n",
    "print(f\"TB_RESOURCE_NAME: {TB_RESOURCE_NAME}\")"
   ]
  },
  {
   "cell_type": "markdown",
   "id": "21bbf357-011e-48fe-a714-1d9f8012329d",
   "metadata": {},
   "source": [
    "### train RL agent"
   ]
  },
  {
   "cell_type": "code",
   "execution_count": 34,
   "id": "bd567c85-810d-4bcf-b920-29fad009349f",
   "metadata": {},
   "outputs": [
    {
     "name": "stderr",
     "output_type": "stream",
     "text": [
      "/home/jupyter/.local/lib/python3.10/site-packages/tensorflow/python/saved_model/nested_structure_coder.py:497: UserWarning: Encoding a StructuredValue with type tfp.distributions.Deterministic_ACTTypeSpec; loading this StructuredValue will require that this type be imported and registered.\n",
      "  warnings.warn(\"Encoding a StructuredValue with type %s; loading this \"\n"
     ]
    }
   ],
   "source": [
    "#start the timer and training\n",
    "start_time = time.time()\n",
    "\n",
    "tf.profiler.experimental.start(LOG_DIR)\n",
    "metric_results = train(\n",
    "    root_dir=ROOT_DIR,\n",
    "    agent=agent,\n",
    "    environment=environment,\n",
    "    training_loops=TRAINING_LOOPS,\n",
    "    steps_per_loop=STEPS_PER_LOOP,\n",
    "    additional_metrics=metrics\n",
    ")\n",
    "tf.profiler.experimental.stop()\n",
    "\n",
    "end_time = time.time()\n",
    "runtime_mins = int((end_time - start_time) / 60)"
   ]
  },
  {
   "cell_type": "code",
   "execution_count": 35,
   "id": "abfa8137-834c-4fe7-998e-6d585c347dec",
   "metadata": {},
   "outputs": [
    {
     "data": {
      "text/plain": [
       "defaultdict(list,\n",
       "            {'NumberOfEpisodes': [16, 32, 48, 64, 80],\n",
       "             'AverageEpisodeLengthMetric': [1.0, 1.0, 1.0, 1.0, 1.0],\n",
       "             'RegretMetric': [2.875, 4.5, 4.5, 3.375, 4.75],\n",
       "             'AverageReturnMetric': [1.8,\n",
       "              0.3,\n",
       "              -8.2687896e-16,\n",
       "              0.8,\n",
       "              -3.0805627e-15]})"
      ]
     },
     "execution_count": 35,
     "metadata": {},
     "output_type": "execute_result"
    }
   ],
   "source": [
    "metric_results"
   ]
  },
  {
   "cell_type": "markdown",
   "id": "25933df7-7527-4eda-b25c-d166f93b29b0",
   "metadata": {},
   "source": [
    "### log Vertex Experiment run"
   ]
  },
  {
   "cell_type": "code",
   "execution_count": 38,
   "id": "cb43ea65-3c72-44c8-9373-e5c7ea46e2d5",
   "metadata": {},
   "outputs": [],
   "source": [
    "aiplatform.start_run(RUN_NAME, tensorboard=TB_RESOURCE_NAME)\n",
    "\n",
    "aiplatform.log_params(\n",
    "    {\n",
    "        \"runtime\": runtime_mins,\n",
    "        \"batch_size\": BATCH_SIZE, \n",
    "        \"training_loops\": TRAINING_LOOPS,\n",
    "        \"steps_pre_loop\": STEPS_PER_LOOP,\n",
    "        \"rank_k\": RANK_K,\n",
    "        \"num_actions\": NUM_ACTIONS,\n",
    "        \"per_arm\": PER_ARM,\n",
    "        \"tikhonov_weight\": TIKHONOV_WEIGHT,\n",
    "        \"agent_alpha\": AGENT_ALPHA,\n",
    "    }\n",
    ")\n",
    "\n",
    "# gather the metrics for the last epoch to be saved in metrics\n",
    "aiplatform.log_metrics(\n",
    "    {\n",
    "        \"AverageReturnMetric\" : metric_results[\"AverageReturnMetric\"][-1]\n",
    "        , \"FinalRegretMetric\" : metric_results[\"RegretMetric\"][-1]\n",
    "    }\n",
    ")\n",
    "\n",
    "aiplatform.end_run()"
   ]
  },
  {
   "cell_type": "markdown",
   "id": "eb309b7e-ea8d-496a-88d8-61c18cf1259c",
   "metadata": {},
   "source": [
    "## Evaluate RL metrics"
   ]
  },
  {
   "cell_type": "code",
   "execution_count": 41,
   "id": "75d1843b-c763-4ca3-bed6-d954c680a66d",
   "metadata": {},
   "outputs": [],
   "source": [
    "def plot(metric_results, metric_name):\n",
    "    plt.plot(metric_results[metric_name])\n",
    "    plt.ylabel(metric_name)\n",
    "    plt.xlabel(\"Step\")\n",
    "    plt.title(\"{} versus Step\".format(metric_name))"
   ]
  },
  {
   "cell_type": "code",
   "execution_count": 42,
   "id": "9a7ada8a-77b3-43f4-8631-aee319dc6523",
   "metadata": {},
   "outputs": [
    {
     "data": {
      "image/png": "[encoded data removed]",
      "text/plain": [
       "<Figure size 640x480 with 1 Axes>"
      ]
     },
     "metadata": {},
     "output_type": "display_data"
    }
   ],
   "source": [
    "plot(metric_results, \"RegretMetric\")"
   ]
  },
  {
   "cell_type": "code",
   "execution_count": 43,
   "id": "5ea3de56-3540-4258-88ce-fafea4ec50a7",
   "metadata": {},
   "outputs": [
    {
     "data": {
      "image/png": "[encoded data removed]",
      "text/plain": [
       "<Figure size 640x480 with 1 Axes>"
      ]
     },
     "metadata": {},
     "output_type": "display_data"
    }
   ],
   "source": [
    "plot(metric_results, \"AverageReturnMetric\")"
   ]
  },
  {
   "cell_type": "markdown",
   "id": "a2ceaca0-c58d-4c37-90ea-f4a00e034aee",
   "metadata": {},
   "source": [
    "### Profiler"
   ]
  },
  {
   "cell_type": "code",
   "execution_count": 44,
   "id": "f3401ad6-ac68-49a6-8d16-3b3edf667eaf",
   "metadata": {},
   "outputs": [],
   "source": [
    "%load_ext tensorboard\n",
    "# %reload_ext tensorboard"
   ]
  },
  {
   "cell_type": "code",
   "execution_count": 45,
   "id": "22644f6b-1996-4c16-a81c-431b5cd68977",
   "metadata": {},
   "outputs": [
    {
     "data": {
      "text/html": [
       "\n",
       "      <iframe id=\"tensorboard-frame-137d224b16644e21\" width=\"100%\" height=\"800\" frameborder=\"0\">\n",
       "      </iframe>\n",
       "      <script>\n",
       "        (function() {\n",
       "          const frame = document.getElementById(\"tensorboard-frame-137d224b16644e21\");\n",
       "          const url = new URL(\"/proxy/6006/\", window.location);\n",
       "          const port = 0;\n",
       "          if (port) {\n",
       "            url.port = port;\n",
       "          }\n",
       "          frame.src = url;\n",
       "        })();\n",
       "      </script>\n",
       "    "
      ],
      "text/plain": [
       "<IPython.core.display.HTML object>"
      ]
     },
     "metadata": {},
     "output_type": "display_data"
    }
   ],
   "source": [
    "%tensorboard --logdir=$LOG_DIR"
   ]
  },
  {
   "cell_type": "markdown",
   "id": "55ac6fd2-87c4-4c35-9ad5-96ff18235297",
   "metadata": {},
   "source": [
    "### load trained policy"
   ]
  },
  {
   "cell_type": "code",
   "execution_count": 46,
   "id": "6e580390-784b-4d3c-8a19-35fa3c4a1a89",
   "metadata": {},
   "outputs": [
    {
     "data": {
      "text/plain": [
       "<tensorflow.python.saved_model.load.Loader._recreate_base_user_object.<locals>._UserObject at 0x7f7ae46e97e0>"
      ]
     },
     "execution_count": 46,
     "metadata": {},
     "output_type": "execute_result"
    }
   ],
   "source": [
    "loaded_policy = tf.saved_model.load(ROOT_DIR)\n",
    "loaded_policy"
   ]
  },
  {
   "cell_type": "code",
   "execution_count": null,
   "id": "be90602f-c456-4950-954f-010950a5cb9f",
   "metadata": {},
   "outputs": [],
   "source": []
  }
 ],
 "metadata": {
  "environment": {
   "kernel": "python3",
   "name": "tf2-gpu.2-11.m109",
   "type": "gcloud",
   "uri": "gcr.io/deeplearning-platform-release/tf2-gpu.2-11:m109"
  },
  "kernelspec": {
   "display_name": "Python 3",
   "language": "python",
   "name": "python3"
  },
  "language_info": {
   "codemirror_mode": {
    "name": "ipython",
    "version": 3
   },
   "file_extension": ".py",
   "mimetype": "text/x-python",
   "name": "python",
   "nbconvert_exporter": "python",
   "pygments_lexer": "ipython3",
   "version": "3.10.11"
  }
 },
 "nbformat": 4,
 "nbformat_minor": 5
}
