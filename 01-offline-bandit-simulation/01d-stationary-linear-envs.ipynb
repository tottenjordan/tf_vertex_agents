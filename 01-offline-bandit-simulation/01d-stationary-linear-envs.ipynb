{
 "cells": [
  {
   "cell_type": "markdown",
   "id": "df8395e4-7907-4cf5-9b15-4f9d3683a74f",
   "metadata": {},
   "source": [
    "# Train and evaluate stationary, linear envrionments\n",
    "\n",
    ">  tests different bandit agents against stationary linear environments"
   ]
  },
  {
   "cell_type": "markdown",
   "id": "9adc3c3f-c46d-4fb1-960a-a28b9f4c36f4",
   "metadata": {},
   "source": [
    "By the end of this notebook, you will have logged training params and metrics to Vertex Experiments, creating a dashboard like this:\n",
    "\n",
    "<img src=\"imgs/vertex_experiments_linear_bandits.png\" \n",
    "     align=\"center\" \n",
    "     width=\"850\"\n",
    "     height=\"850\"/>"
   ]
  },
  {
   "cell_type": "markdown",
   "id": "1db92281-d650-4e82-89e2-b3c4e98c8ea8",
   "metadata": {},
   "source": [
    "### Load env config\n",
    "\n",
    "* use the prefix from `00-env-setup`"
   ]
  },
  {
   "cell_type": "code",
   "execution_count": 1,
   "id": "a18daa5f-66d8-4946-b270-49e201cfc53c",
   "metadata": {
    "tags": []
   },
   "outputs": [
    {
     "name": "stdout",
     "output_type": "stream",
     "text": [
      "PREFIX: rec-bandits-v2\n"
     ]
    }
   ],
   "source": [
    "VERSION        = \"v2\"                       # TODO\n",
    "PREFIX         = f'rec-bandits-{VERSION}'   # TODO\n",
    "\n",
    "print(f\"PREFIX: {PREFIX}\")"
   ]
  },
  {
   "cell_type": "code",
   "execution_count": 2,
   "id": "ec936645-f6d3-4c87-99f5-916f466d60b1",
   "metadata": {
    "tags": []
   },
   "outputs": [
    {
     "name": "stdout",
     "output_type": "stream",
     "text": [
      "\n",
      "PROJECT_ID               = \"hybrid-vertex\"\n",
      "PROJECT_NUM              = \"934903580331\"\n",
      "LOCATION                 = \"us-central1\"\n",
      "\n",
      "REGION                   = \"us-central1\"\n",
      "BQ_LOCATION              = \"US\"\n",
      "VPC_NETWORK_NAME         = \"ucaip-haystack-vpc-network\"\n",
      "VERTEX_SA                = \"934903580331-compute@developer.gserviceaccount.com\"\n",
      "\n",
      "PREFIX                   = \"rec-bandits-v2\"\n",
      "VERSION                  = \"v2\"\n",
      "\n",
      "BUCKET_NAME              = \"rec-bandits-v2-hybrid-vertex-bucket\"\n",
      "BUCKET_URI               = \"gs://rec-bandits-v2-hybrid-vertex-bucket\"\n",
      "DATA_GCS_PREFIX          = \"data\"\n",
      "DATA_PATH                = \"gs://rec-bandits-v2-hybrid-vertex-bucket/data\"\n",
      "VOCAB_SUBDIR             = \"vocabs\"\n",
      "VOCAB_FILENAME           = \"vocab_dict.pkl\"\n",
      "\n",
      "VPC_NETWORK_FULL         = \"projects/934903580331/global/networks/ucaip-haystack-vpc-network\"\n",
      "\n",
      "BIGQUERY_DATASET_NAME    = \"mvlens_rec_bandits_v2\"\n",
      "BIGQUERY_TABLE_NAME      = \"training_dataset\"\n",
      "\n",
      "REPOSITORY               = \"rl-movielens-rec-bandits-v2\"\n",
      "\n",
      "DOCKERNAME_01            = \"Dockerfile_train_my_perarm_env\"\n",
      "IMAGE_NAME_01            = \"train-my-perarm-env-v2\"\n",
      "IMAGE_URI_01             = \"gcr.io/hybrid-vertex/train-my-perarm-env-v2\"\n",
      "\n",
      "DOCKERNAME_02            = \"Dockerfile_perarm_feats\"\n",
      "IMAGE_NAME_02            = \"train-perarm-feats-v2\"\n",
      "IMAGE_URI_02             = \"gcr.io/hybrid-vertex/train-perarm-feats-v2\"\n",
      "\n",
      "DOCKERNAME_03            = \"Dockerfile_ranking_bandit\"\n",
      "IMAGE_NAME_03            = \"train-rank-bandit-v2\"\n",
      "IMAGE_URI_03             = \"gcr.io/hybrid-vertex/train-rank-bandit-v2\"\n",
      "\n",
      "DOCKERNAME_04            = \"Dockerfile_train_bandit_e2e\"\n",
      "IMAGE_NAME_04            = \"train-mab-e2e-v2\"\n",
      "IMAGE_URI_04             = \"gcr.io/hybrid-vertex/train-mab-e2e-v2\"\n",
      "\n",
      "DOCKERNAME_04_pred       = \"Dockerfile_pred_bandit_e2e\"\n",
      "IMAGE_NAME_04_pred       = \"pred-mab-e2e-v2\"\n",
      "IMAGE_URI_04_pred        = \"gcr.io/hybrid-vertex/pred-mab-e2e-v2\"\n",
      "\n",
      "REMOTE_IMAGE_NAME        = \"us-central1-docker.pkg.dev/hybrid-vertex/rl-movielens-rec-bandits-v2/local_docker_tfa\"\n",
      "REPO_DOCKER_PATH_PREFIX  = \"src\"\n",
      "\n"
     ]
    }
   ],
   "source": [
    "# staging GCS\n",
    "GCP_PROJECTS             = !gcloud config get-value project\n",
    "PROJECT_ID               = GCP_PROJECTS[0]\n",
    "\n",
    "# GCS bucket and paths\n",
    "BUCKET_NAME              = f'{PREFIX}-{PROJECT_ID}-bucket'\n",
    "BUCKET_URI               = f'gs://{BUCKET_NAME}'\n",
    "\n",
    "config = !gsutil cat {BUCKET_URI}/config/notebook_env.py\n",
    "print(config.n)\n",
    "exec(config.n)"
   ]
  },
  {
   "cell_type": "markdown",
   "id": "7418a2d4-075b-4e53-89f0-ebaa872b2c56",
   "metadata": {},
   "source": [
    "### imports"
   ]
  },
  {
   "cell_type": "code",
   "execution_count": 3,
   "id": "7f764ba7-d93c-4f08-a961-55568ebafa42",
   "metadata": {
    "tags": []
   },
   "outputs": [],
   "source": [
    "import functools\n",
    "\n",
    "import os\n",
    "os.environ['TF_CPP_MIN_LOG_LEVEL'] = '2'\n",
    "\n",
    "# logging\n",
    "import logging\n",
    "logging.disable(logging.WARNING)\n",
    "\n",
    "import warnings\n",
    "warnings.filterwarnings('ignore')\n",
    "\n",
    "import time\n",
    "import numpy as np\n",
    "import pandas as pd\n",
    "from pprint import pprint\n",
    "import matplotlib.pyplot as plt"
   ]
  },
  {
   "cell_type": "code",
   "execution_count": 4,
   "id": "3cca5956-eaae-439d-9b61-4359ffc60e14",
   "metadata": {
    "tags": []
   },
   "outputs": [],
   "source": [
    "import tensorflow as tf\n",
    "from tf_agents.bandits.agents import exp3_mixture_agent\n",
    "from tf_agents.bandits.agents import lin_ucb_agent\n",
    "from tf_agents.bandits.agents import linear_thompson_sampling_agent as lin_ts_agent\n",
    "from tf_agents.bandits.agents import neural_boltzmann_agent\n",
    "from tf_agents.bandits.agents import neural_epsilon_greedy_agent\n",
    "from tf_agents.bandits.agents.examples.v2 import trainer\n",
    "from tf_agents.bandits.environments import environment_utilities\n",
    "from tf_agents.bandits.environments import stationary_stochastic_py_environment as sspe\n",
    "from tf_agents.bandits.metrics import tf_metrics as tf_bandit_metrics\n",
    "from tf_agents.environments import tf_py_environment\n",
    "from tf_agents.environments import wrappers\n",
    "from tf_agents.networks import q_network\n",
    "from tf_agents.policies import utils as policy_utilities\n",
    "\n",
    "# google cloud\n",
    "from google.cloud import aiplatform, storage\n",
    "\n",
    "# GPU\n",
    "from numba import cuda \n",
    "import gc\n",
    "\n",
    "import sys\n",
    "sys.path.append(\"..\")\n",
    "\n",
    "from src.utils import policy_util"
   ]
  },
  {
   "cell_type": "markdown",
   "id": "689044d4-4bf7-4477-b443-6d56f0d1d641",
   "metadata": {},
   "source": [
    "### Set GPU (local) device"
   ]
  },
  {
   "cell_type": "code",
   "execution_count": 5,
   "id": "ae3e52a8-e53a-492f-80a5-f006b96335a6",
   "metadata": {
    "tags": []
   },
   "outputs": [
    {
     "name": "stdout",
     "output_type": "stream",
     "text": [
      "Num GPUs Available:  1\n"
     ]
    }
   ],
   "source": [
    "print(\"Num GPUs Available: \", len(tf.config.list_physical_devices('GPU')))"
   ]
  },
  {
   "cell_type": "code",
   "execution_count": 7,
   "id": "14401433-e037-4fdf-9dc1-9f3ccf3ad0f3",
   "metadata": {
    "tags": []
   },
   "outputs": [
    {
     "data": {
      "text/plain": [
       "14"
      ]
     },
     "execution_count": 7,
     "metadata": {},
     "output_type": "execute_result"
    }
   ],
   "source": [
    "device = cuda.get_current_device()\n",
    "device.reset()\n",
    "gc.collect()"
   ]
  },
  {
   "cell_type": "code",
   "execution_count": 8,
   "id": "f7a6d17c-edd3-43be-978d-f72e92df0ab5",
   "metadata": {
    "tags": []
   },
   "outputs": [],
   "source": [
    "# cloud storage client\n",
    "storage_client = storage.Client(project=PROJECT_ID)\n",
    "\n",
    "# Vertex client\n",
    "aiplatform.init(project=PROJECT_ID, location=LOCATION)"
   ]
  },
  {
   "cell_type": "markdown",
   "id": "1b8dced8-6691-4b47-8e4a-6f611903a6be",
   "metadata": {},
   "source": [
    "### Set dimensions"
   ]
  },
  {
   "cell_type": "code",
   "execution_count": 9,
   "id": "fba2a9b5-3189-416b-8f09-18e9a5167b8c",
   "metadata": {
    "tags": []
   },
   "outputs": [],
   "source": [
    "# normalize_reward_fns - Whether to normalize the reward functions so that rewards are close to being in [0, 1].\n",
    "NORMALIZE_REWARD_FN = False # True | False\n",
    "\n",
    "# num_disabled_actions - If non-zero, there will be extra actions that are always disabled\n",
    "NUM_DISABLED_ACTIONS = 0 "
   ]
  },
  {
   "cell_type": "code",
   "execution_count": 10,
   "id": "8c71ea92-73a3-4786-a66e-67b0840d92df",
   "metadata": {
    "tags": []
   },
   "outputs": [],
   "source": [
    "BATCH_SIZE = 8\n",
    "CONTEXT_DIM = 15\n",
    "NUM_ACTIONS = 5\n",
    "REWARD_NOISE_VARIANCE = 0.01\n",
    "# AGENT_ALPHA = 0.1\n",
    "# TEMPERATURE = 0.1\n",
    "\n",
    "# EPSILON = 0.05\n",
    "# LAYERS = [50, 50, 50]\n",
    "# LR = 0.001"
   ]
  },
  {
   "cell_type": "markdown",
   "id": "23d9f474-8e98-438c-89df-2d6dc8ef2a1e",
   "metadata": {},
   "source": [
    "## [1] Define simulation environment"
   ]
  },
  {
   "cell_type": "code",
   "execution_count": 11,
   "id": "d76a714a-2ab4-4537-b8be-6bb9deb2db92",
   "metadata": {
    "tags": []
   },
   "outputs": [
    {
     "data": {
      "text/plain": [
       "[<tf_agents.bandits.environments.environment_utilities.LinearNormalReward at 0x7f1cfebc7e20>,\n",
       " <tf_agents.bandits.environments.environment_utilities.LinearNormalReward at 0x7f1cfebc68f0>,\n",
       " <tf_agents.bandits.environments.environment_utilities.LinearNormalReward at 0x7f1cfebc7850>,\n",
       " <tf_agents.bandits.environments.environment_utilities.LinearNormalReward at 0x7f1cfcc1add0>,\n",
       " <tf_agents.bandits.environments.environment_utilities.LinearNormalReward at 0x7f1cfcc1a860>]"
      ]
     },
     "execution_count": 11,
     "metadata": {},
     "output_type": "execute_result"
    }
   ],
   "source": [
    "if NORMALIZE_REWARD_FN:\n",
    "    action_reward_fns = (\n",
    "        environment_utilities.normalized_sliding_linear_reward_fn_generator(\n",
    "            CONTEXT_DIM, \n",
    "            NUM_ACTIONS, \n",
    "            REWARD_NOISE_VARIANCE\n",
    "        )\n",
    "    )\n",
    "else:\n",
    "    action_reward_fns = (\n",
    "        environment_utilities.sliding_linear_reward_fn_generator(\n",
    "            CONTEXT_DIM, \n",
    "            NUM_ACTIONS, \n",
    "            REWARD_NOISE_VARIANCE\n",
    "        )\n",
    "    )\n",
    "    \n",
    "action_reward_fns"
   ]
  },
  {
   "cell_type": "code",
   "execution_count": 12,
   "id": "0304067d-f76e-4759-9047-1707ac5a33f2",
   "metadata": {
    "tags": []
   },
   "outputs": [
    {
     "data": {
      "text/plain": [
       "<tf_agents.environments.tf_py_environment.TFPyEnvironment at 0x7f1cfebc6470>"
      ]
     },
     "execution_count": 12,
     "metadata": {},
     "output_type": "execute_result"
    }
   ],
   "source": [
    "env = sspe.StationaryStochasticPyEnvironment(\n",
    "    functools.partial(\n",
    "        environment_utilities.context_sampling_fn,\n",
    "        batch_size=BATCH_SIZE,\n",
    "        context_dim=CONTEXT_DIM,\n",
    "    ),\n",
    "    action_reward_fns,\n",
    "    batch_size=BATCH_SIZE,\n",
    ")\n",
    "\n",
    "mask_split_fn = None\n",
    "\n",
    "if NUM_DISABLED_ACTIONS > 0:\n",
    "    mask_split_fn = lambda x: (x[0], x[1])\n",
    "    env = wrappers.ExtraDisabledActionsWrapper(\n",
    "        env, \n",
    "        NUM_DISABLED_ACTIONS\n",
    "    )\n",
    "    \n",
    "environment = tf_py_environment.TFPyEnvironment(env)\n",
    "environment"
   ]
  },
  {
   "cell_type": "markdown",
   "id": "0228cfd5-065c-407b-9515-c0aab45a6857",
   "metadata": {},
   "source": [
    "### Optimal rewards and actions"
   ]
  },
  {
   "cell_type": "code",
   "execution_count": 13,
   "id": "e9173777-21da-4f5b-bd2d-814add6991af",
   "metadata": {
    "tags": []
   },
   "outputs": [],
   "source": [
    "optimal_reward_fn = functools.partial(\n",
    "    environment_utilities.tf_compute_optimal_reward,\n",
    "    per_action_reward_fns=action_reward_fns,\n",
    ")\n",
    "\n",
    "optimal_action_fn = functools.partial(\n",
    "    environment_utilities.tf_compute_optimal_action,\n",
    "    per_action_reward_fns=action_reward_fns,\n",
    ")"
   ]
  },
  {
   "cell_type": "markdown",
   "id": "f9a0d9af-3d0b-41d1-852c-6771de70bcf0",
   "metadata": {},
   "source": [
    "## [2] Train Bandit policy"
   ]
  },
  {
   "cell_type": "markdown",
   "id": "f1c92856-61a9-495d-b978-5d8d21122b18",
   "metadata": {},
   "source": [
    "### Network\n",
    "\n",
    "> use a network to define the model that is trained by an agent\n",
    "\n",
    "`QNetwork`: \n",
    "* Used in Qlearning for environments with discrete actions, this network maps an observation to value estimates for each possible action."
   ]
  },
  {
   "cell_type": "code",
   "execution_count": 14,
   "id": "10e44eac-dd6d-42dc-9c75-5749176be11b",
   "metadata": {
    "tags": []
   },
   "outputs": [
    {
     "data": {
      "text/plain": [
       "TensorSpec(shape=(15,), dtype=tf.float32, name=None)"
      ]
     },
     "execution_count": 14,
     "metadata": {},
     "output_type": "execute_result"
    }
   ],
   "source": [
    "LAYERS = [32,16,8]\n",
    "\n",
    "network_input_spec = environment.time_step_spec().observation\n",
    "network_input_spec"
   ]
  },
  {
   "cell_type": "code",
   "execution_count": 15,
   "id": "c6c3e3ce-2a8a-408c-93cb-ace04e6248d9",
   "metadata": {
    "tags": []
   },
   "outputs": [],
   "source": [
    "if NUM_DISABLED_ACTIONS > 0:\n",
    "    def _apply_only_to_observation(fn):\n",
    "        def result_fn(obs):\n",
    "            return fn(obs[0])\n",
    "\n",
    "        return result_fn\n",
    "\n",
    "    optimal_action_fn = _apply_only_to_observation(optimal_action_fn)\n",
    "    optimal_reward_fn = _apply_only_to_observation(optimal_reward_fn)\n",
    "    network_input_spec = network_input_spec[0]\n",
    "    \n",
    "network = q_network.QNetwork(\n",
    "        input_tensor_spec=network_input_spec,\n",
    "        action_spec=environment.action_spec(),\n",
    "        fc_layer_params=LAYERS,\n",
    "    )"
   ]
  },
  {
   "cell_type": "markdown",
   "id": "c094d61f-f7dd-4460-8e1e-aa2e4a739552",
   "metadata": {},
   "source": [
    "### Defining the Agent\n",
    "\n",
    "*Documentation references:*\n",
    "* [LinearUCBAgent](https://www.tensorflow.org/agents/api_docs/python/tf_agents/bandits/agents/lin_ucb_agent/LinearUCBAgent)\n",
    "* [LinearThompsonSamplingAgent](https://www.tensorflow.org/agents/api_docs/python/tf_agents/bandits/agents/linear_thompson_sampling_agent/LinearThompsonSamplingAgent)\n",
    "* [NeuralBoltzmannAgent](https://www.tensorflow.org/agents/api_docs/python/tf_agents/bandits/agents/neural_boltzmann_agent/NeuralBoltzmannAgent)\n",
    "* [Exp3MixtureAgent](https://www.tensorflow.org/agents/api_docs/python/tf_agents/bandits/agents/exp3_mixture_agent/Exp3MixtureAgent)"
   ]
  },
  {
   "cell_type": "markdown",
   "id": "3a8d70e5-1d39-4c8a-ad30-31f2a890d84c",
   "metadata": {},
   "source": [
    "*helper function...*"
   ]
  },
  {
   "cell_type": "code",
   "execution_count": 16,
   "id": "c6586c69-9c0e-46ef-b34c-9936120d3d86",
   "metadata": {
    "tags": []
   },
   "outputs": [],
   "source": [
    "def _get_bandit_agent(\n",
    "    AGENT_TYPE, \n",
    "    environment, \n",
    "    AGENT_ALPHA, \n",
    "    TEMPERATURE, \n",
    "    LR, \n",
    "    NUM_DISABLED_ACTIONS, \n",
    "    EPSILON,\n",
    "    FORGETTING_FACTOR,\n",
    "    DEBUG_BOOL = True,\n",
    "    SUMMARIZE_GRADS_AND_VARS = True,\n",
    "    ENABLE_SUMMARIES = True,\n",
    "):\n",
    "                      \n",
    "    if AGENT_TYPE == 'LinUCB':\n",
    "        agent = lin_ucb_agent.LinearUCBAgent(\n",
    "            time_step_spec=environment.time_step_spec(),\n",
    "            action_spec=environment.action_spec(),\n",
    "            alpha=AGENT_ALPHA,\n",
    "            dtype=tf.float32,\n",
    "            observation_and_action_constraint_splitter=mask_split_fn,\n",
    "            debug_summaries=DEBUG_BOOL,\n",
    "            summarize_grads_and_vars=SUMMARIZE_GRADS_AND_VARS,\n",
    "            enable_summaries=ENABLE_SUMMARIES,\n",
    "            gamma = FORGETTING_FACTOR,\n",
    "        )\n",
    "        EPSILON = \"N/A\"\n",
    "        NETWORK_TYPE = \"N/A\"\n",
    "    elif AGENT_TYPE == 'LinTS':\n",
    "        agent = lin_ts_agent.LinearThompsonSamplingAgent(\n",
    "            time_step_spec=environment.time_step_spec(),\n",
    "            action_spec=environment.action_spec(),\n",
    "            alpha=AGENT_ALPHA,\n",
    "            dtype=tf.float32,\n",
    "            observation_and_action_constraint_splitter=mask_split_fn,\n",
    "            debug_summaries=DEBUG_BOOL,\n",
    "            summarize_grads_and_vars=SUMMARIZE_GRADS_AND_VARS,\n",
    "            enable_summaries=ENABLE_SUMMARIES,\n",
    "            gamma = FORGETTING_FACTOR,\n",
    "        )\n",
    "        EPSILON = \"N/A\"\n",
    "        NETWORK_TYPE = \"N/A\"\n",
    "    elif AGENT_TYPE == 'epsGreedy':\n",
    "        agent = neural_epsilon_greedy_agent.NeuralEpsilonGreedyAgent(\n",
    "            time_step_spec=environment.time_step_spec(),\n",
    "            action_spec=environment.action_spec(),\n",
    "            reward_network=network,\n",
    "            optimizer=tf.compat.v1.train.AdamOptimizer(learning_rate=LR),\n",
    "            epsilon=EPSILON,\n",
    "            observation_and_action_constraint_splitter=mask_split_fn,\n",
    "            debug_summaries=DEBUG_BOOL,\n",
    "            summarize_grads_and_vars=SUMMARIZE_GRADS_AND_VARS,\n",
    "            enable_summaries=ENABLE_SUMMARIES,\n",
    "        )\n",
    "        FORGETTING_FACTOR = \"N/A\"\n",
    "        AGENT_ALPHA = \"N/A\"\n",
    "        NETWORK_TYPE = network.name\n",
    "    elif AGENT_TYPE == 'Boltzmann':\n",
    "        '''\n",
    "        agent receives a neural network that it trains to predict rewards. \n",
    "        The action is chosen by a stochastic policy that uses Boltzmann exploration\n",
    "        '''\n",
    "        train_step_counter = tf.compat.v1.train.get_or_create_global_step()\n",
    "        boundaries = [500]\n",
    "        temp_values = [1000.0, TEMPERATURE]\n",
    "        temp_schedule = tf.keras.optimizers.schedules.PiecewiseConstantDecay(\n",
    "            boundaries, \n",
    "            temp_values\n",
    "        )\n",
    "\n",
    "        def _temperature_fn():\n",
    "            # Any variable used in the function needs to be saved in the policy.\n",
    "            # This is true by default for the `train_step_counter`.\n",
    "            return temp_schedule(train_step_counter)\n",
    "\n",
    "        agent = neural_boltzmann_agent.NeuralBoltzmannAgent(\n",
    "            time_step_spec=environment.time_step_spec(),\n",
    "            action_spec=environment.action_spec(),\n",
    "            reward_network=network,\n",
    "            temperature=_temperature_fn,\n",
    "            optimizer=tf.compat.v1.train.AdamOptimizer(learning_rate=LR),\n",
    "            observation_and_action_constraint_splitter=mask_split_fn,\n",
    "            train_step_counter=train_step_counter,\n",
    "        )\n",
    "        # This is needed, otherwise the PolicySaver complains.\n",
    "        agent.policy.step = train_step_counter\n",
    "        FORGETTING_FACTOR = \"N/A\"\n",
    "        EPSILON = \"N/A\"\n",
    "        NETWORK_TYPE = network.name\n",
    "    elif AGENT_TYPE == 'BoltzmannGumbel':\n",
    "        '''\n",
    "        agent implements Neural Bandit with Boltzmann-Gumbel exploration from the paper: \n",
    "            N. Cesa-Bianchi et al., \"Boltzmann Exploration Done Right\", NIPS 2017\n",
    "            \n",
    "        TODO:\n",
    "            (1) Can we log exploration factor so it's consistent with \"epsilon\"?\n",
    "        '''\n",
    "        \n",
    "        num_samples_list = [\n",
    "            tf.compat.v2.Variable(\n",
    "                0, \n",
    "                dtype=tf.int64, \n",
    "                name='num_samples_{}'.format(k)\n",
    "            ) for k in range(NUM_ACTIONS)\n",
    "        ]\n",
    "        agent = neural_boltzmann_agent.NeuralBoltzmannAgent(\n",
    "            time_step_spec=environment.time_step_spec(),\n",
    "            action_spec=environment.action_spec(),\n",
    "            reward_network=network,\n",
    "            boltzmann_gumbel_exploration_constant=250.0,\n",
    "            optimizer=tf.compat.v1.train.AdamOptimizer(learning_rate=LR),\n",
    "            observation_and_action_constraint_splitter=mask_split_fn,\n",
    "            num_samples_list=num_samples_list,\n",
    "        )\n",
    "        AGENT_ALPHA = \"N/A\"\n",
    "        FORGETTING_FACTOR = \"N/A\"\n",
    "        EPSILON = \"N/A\"\n",
    "        NETWORK_TYPE = network.name\n",
    "    elif AGENT_TYPE == 'Mix':\n",
    "        '''\n",
    "        Creates an agent that mixes a set of agents and updates the weights with Exp3\n",
    "            The update uses a modified version of EXP3 to better distribute weights to all agents\n",
    "            \n",
    "        To smooth the weights, two extra measures are taken:\n",
    "            (1) forgetting factor: ensures the aggregated reward estimates do not grow indefinitely\n",
    "            (2) inverse temperature: has a maximum parameter that prevents it from growing indefinitely \n",
    "        For both smoothing factors to work nicely, recommended to set:\n",
    "            forgetting_factor = 1 - (1 / max_inverse_temperature)\n",
    "            \n",
    "        For every data sample, the agent updates the sub-agent that was used to make \n",
    "            the action choice in that sample. For this update to happen, the mixture agent \n",
    "            needs to have the information on which sub-agent is \"responsible\" for the action. \n",
    "            This information is in a policy info field `mixture_choice_info`\n",
    "        '''\n",
    "        assert (NUM_DISABLED_ACTIONS == 0), 'Extra actions with mixture agent not supported.'\n",
    "\n",
    "        emit_policy_info = policy_utilities.InfoFields.PREDICTED_REWARDS_MEAN\n",
    "\n",
    "        agent_linucb = lin_ucb_agent.LinearUCBAgent(\n",
    "            time_step_spec=environment.time_step_spec(),\n",
    "            action_spec=environment.action_spec(),\n",
    "            emit_policy_info=emit_policy_info,\n",
    "            alpha=AGENT_ALPHA,\n",
    "            dtype=tf.float32,\n",
    "            debug_summaries=DEBUG_BOOL,\n",
    "            summarize_grads_and_vars=SUMMARIZE_GRADS_AND_VARS,\n",
    "            enable_summaries=ENABLE_SUMMARIES,\n",
    "            # gamma = FORGETTING_FACTOR,\n",
    "        )\n",
    "        agent_lints = lin_ts_agent.LinearThompsonSamplingAgent(\n",
    "            time_step_spec=environment.time_step_spec(),\n",
    "            action_spec=environment.action_spec(),\n",
    "            emit_policy_info=emit_policy_info,\n",
    "            alpha=AGENT_ALPHA,\n",
    "            dtype=tf.float32,\n",
    "            debug_summaries=DEBUG_BOOL,\n",
    "            summarize_grads_and_vars=SUMMARIZE_GRADS_AND_VARS,\n",
    "            enable_summaries=ENABLE_SUMMARIES,\n",
    "            # gamma = FORGETTING_FACTOR,\n",
    "        )\n",
    "        agent_epsgreedy = neural_epsilon_greedy_agent.NeuralEpsilonGreedyAgent(\n",
    "            time_step_spec=environment.time_step_spec(),\n",
    "            action_spec=environment.action_spec(),\n",
    "            reward_network=network,\n",
    "            optimizer=tf.compat.v1.train.AdamOptimizer(learning_rate=LR),\n",
    "            emit_policy_info=emit_policy_info,\n",
    "            epsilon=EPSILON,\n",
    "            debug_summaries=DEBUG_BOOL,\n",
    "            summarize_grads_and_vars=SUMMARIZE_GRADS_AND_VARS,\n",
    "            enable_summaries=ENABLE_SUMMARIES,\n",
    "        )\n",
    "        agent = exp3_mixture_agent.Exp3MixtureAgent(\n",
    "            agents = (\n",
    "                agent_linucb, \n",
    "                agent_lints, \n",
    "                agent_epsgreedy\n",
    "            ),\n",
    "            forgetting = FORGETTING_FACTOR,\n",
    "            # max_inverse_temperature = MAX_INVERSE_TEMP\n",
    "        )\n",
    "        NETWORK_TYPE = network.name\n",
    "        agent.initialize()\n",
    "    \n",
    "    AGENT_CONFIG = {\n",
    "        \"network\": NETWORK_TYPE,\n",
    "        \"agent\" : agent,\n",
    "        \"agent_type\": agent.name,\n",
    "        \"alpha\" : AGENT_ALPHA,\n",
    "        \"temp\": TEMPERATURE,\n",
    "        \"lr\": LR,\n",
    "        \"disabled_actions\": NUM_DISABLED_ACTIONS,\n",
    "        \"epsilon\": EPSILON,\n",
    "        \"forget\": FORGETTING_FACTOR,\n",
    "        \"summaries\": str(ENABLE_SUMMARIES),\n",
    "    }\n",
    "    \n",
    "    pprint(AGENT_CONFIG)\n",
    "    \n",
    "    return AGENT_CONFIG"
   ]
  },
  {
   "cell_type": "markdown",
   "id": "43d3b672-5f3d-4b5d-b7d5-14bd3aeb7deb",
   "metadata": {},
   "source": [
    "*Agent config*\n",
    "\n",
    "**Temperature**\n",
    "* Temperature is a parameter that is used in the Boltzmann exploration algorithm. It controls the amount of exploration that the agent does. \n",
    "  * High == the agent is more likely to explore new actions\n",
    "  * Low == the agent is more likely to exploit the actions that it has already learned.\n",
    "  \n",
    "**Forgetting Factor / Gamma**\n",
    "* a float forgetting factor in [0.0, 1.0]. When set to 1.0, the algorithm does not forget"
   ]
  },
  {
   "cell_type": "code",
   "execution_count": 17,
   "id": "e605fc30-63d4-45fb-aaaf-60c6c2f6652b",
   "metadata": {
    "tags": []
   },
   "outputs": [],
   "source": [
    "# agent - Which agent to use\n",
    "AGENT_TYPE = 'epsGreedy' # 'LinUCB', 'LinTS', 'epsGreedy', 'Mix', 'Boltzmann', 'BoltzmannGumbel'\n",
    "\n",
    "AGENT_ALPHA = 0.1\n",
    "\n",
    "# explore vs exploit\n",
    "EPSILON = 0.05\n",
    "TEMPERATURE = 0.05\n",
    "\n",
    "LR = 0.001\n",
    "\n",
    "FORGETTING_FACTOR = 0.98 # 0.99 | 0.98 | 0.9 "
   ]
  },
  {
   "cell_type": "code",
   "execution_count": 18,
   "id": "871f5895-8d94-4ce4-a77a-7b88ebfa9e67",
   "metadata": {
    "tags": []
   },
   "outputs": [
    {
     "name": "stdout",
     "output_type": "stream",
     "text": [
      "{'agent': <tf_agents.bandits.agents.neural_epsilon_greedy_agent.NeuralEpsilonGreedyAgent object at 0x7f1cfcb3c070>,\n",
      " 'agent_type': 'neural_epsilon_greedy_agent',\n",
      " 'alpha': 'N/A',\n",
      " 'disabled_actions': 0,\n",
      " 'epsilon': 0.05,\n",
      " 'forget': 'N/A',\n",
      " 'lr': 0.001,\n",
      " 'network': 'QNetwork',\n",
      " 'summaries': 'True',\n",
      " 'temp': 0.05}\n"
     ]
    }
   ],
   "source": [
    "agent_config = _get_bandit_agent(\n",
    "    AGENT_TYPE = AGENT_TYPE, \n",
    "    environment = environment, \n",
    "    AGENT_ALPHA = AGENT_ALPHA, \n",
    "    TEMPERATURE = TEMPERATURE, \n",
    "    LR = LR, \n",
    "    NUM_DISABLED_ACTIONS = NUM_DISABLED_ACTIONS,\n",
    "    FORGETTING_FACTOR = FORGETTING_FACTOR,\n",
    "    EPSILON = EPSILON,\n",
    "    DEBUG_BOOL = True,\n",
    "    SUMMARIZE_GRADS_AND_VARS = True,\n",
    "    ENABLE_SUMMARIES = True,\n",
    ")"
   ]
  },
  {
   "cell_type": "code",
   "execution_count": 19,
   "id": "1f57a055-3ac6-4a3b-ab43-45526290b759",
   "metadata": {
    "tags": []
   },
   "outputs": [
    {
     "data": {
      "text/plain": [
       "<tf.Variable 'global_step:0' shape=() dtype=int64, numpy=0>"
      ]
     },
     "execution_count": 19,
     "metadata": {},
     "output_type": "execute_result"
    }
   ],
   "source": [
    "global_step = tf.compat.v1.train.get_or_create_global_step()\n",
    "global_step"
   ]
  },
  {
   "cell_type": "markdown",
   "id": "b930ff58-2a83-446d-a315-d7af354e81f1",
   "metadata": {},
   "source": [
    "### Regret and SubOptimal Arm metrics"
   ]
  },
  {
   "cell_type": "code",
   "execution_count": 20,
   "id": "476479f0-694c-444b-92b2-8346a5b6fe2c",
   "metadata": {
    "tags": []
   },
   "outputs": [],
   "source": [
    "regret_metric = tf_bandit_metrics.RegretMetric(optimal_reward_fn)\n",
    "\n",
    "suboptimal_arms_metric = tf_bandit_metrics.SuboptimalArmsMetric(\n",
    "    optimal_action_fn\n",
    ")\n",
    "\n",
    "metrics = [regret_metric, suboptimal_arms_metric]"
   ]
  },
  {
   "cell_type": "markdown",
   "id": "d70b4533-65b4-4f8d-918f-4f286635f946",
   "metadata": {},
   "source": [
    "## [3] Vertex AI Experiments"
   ]
  },
  {
   "cell_type": "code",
   "execution_count": 21,
   "id": "8f5d83b6-61ff-4d00-b9ba-cc2c6397b89e",
   "metadata": {
    "tags": []
   },
   "outputs": [],
   "source": [
    "LOCAL_VERSION = \"v4\""
   ]
  },
  {
   "cell_type": "code",
   "execution_count": 22,
   "id": "27e2fb81-1284-4b6a-a064-252041bf2fa4",
   "metadata": {
    "tags": []
   },
   "outputs": [
    {
     "name": "stdout",
     "output_type": "stream",
     "text": [
      "EXPERIMENT_NAME   : 01-linear-bandits-v4\n",
      "RUN_NAME          : epsgreedy-20241121-220630\n",
      "\n",
      "BASE_OUTPUT_DIR   : gs://rec-bandits-v2-hybrid-vertex-bucket/01-linear-bandits-v4/epsgreedy-20241121-220630\n",
      "LOG_DIR           : gs://rec-bandits-v2-hybrid-vertex-bucket/01-linear-bandits-v4/epsgreedy-20241121-220630/logs\n",
      "ROOT_DIR          : gs://rec-bandits-v2-hybrid-vertex-bucket/01-linear-bandits-v4/epsgreedy-20241121-220630/root\n",
      "ARTIFACTS_DIR     : gs://rec-bandits-v2-hybrid-vertex-bucket/01-linear-bandits-v4/epsgreedy-20241121-220630/artifacts\n"
     ]
    }
   ],
   "source": [
    "EXPERIMENT_NAME   = f'01-linear-bandits-{LOCAL_VERSION}'\n",
    "\n",
    "# new experiment\n",
    "invoke_time       = time.strftime(\"%Y%m%d-%H%M%S\")\n",
    "RUN_NAME          = f'{AGENT_TYPE}-{invoke_time}'.lower()\n",
    "\n",
    "BASE_OUTPUT_DIR   = f'{BUCKET_URI}/{EXPERIMENT_NAME}/{RUN_NAME}'\n",
    "LOG_DIR           = f\"{BASE_OUTPUT_DIR}/logs\"\n",
    "ROOT_DIR          = f\"{BASE_OUTPUT_DIR}/root\"       # Root directory for writing logs/summaries/checkpoints.\n",
    "ARTIFACTS_DIR     = f\"{BASE_OUTPUT_DIR}/artifacts\"  # Where the trained model will be saved and restored.\n",
    "\n",
    "print(f\"EXPERIMENT_NAME   : {EXPERIMENT_NAME}\")\n",
    "print(f\"RUN_NAME          : {RUN_NAME}\\n\")\n",
    "print(f\"BASE_OUTPUT_DIR   : {BASE_OUTPUT_DIR}\")\n",
    "print(f\"LOG_DIR           : {LOG_DIR}\")\n",
    "print(f\"ROOT_DIR          : {ROOT_DIR}\")\n",
    "print(f\"ARTIFACTS_DIR     : {ARTIFACTS_DIR}\")"
   ]
  },
  {
   "cell_type": "markdown",
   "id": "e8747c3e-2532-4123-8cb3-01be0fbd2610",
   "metadata": {},
   "source": [
    "### TensorBoard"
   ]
  },
  {
   "cell_type": "code",
   "execution_count": 23,
   "id": "75f9641b-5a72-49ab-8ee0-754ad8c5c4d3",
   "metadata": {
    "tags": []
   },
   "outputs": [],
   "source": [
    "# NEW_TENSORBOARD = False"
   ]
  },
  {
   "cell_type": "code",
   "execution_count": 25,
   "id": "fd433e2c-0dcd-4378-9325-6286bd09a486",
   "metadata": {},
   "outputs": [],
   "source": [
    "# if NEW_TENSORBOARD:\n",
    "#     # # create new TB instance\n",
    "#     TENSORBOARD_DISPLAY_NAME=f\"{EXPERIMENT_NAME}\"\n",
    "\n",
    "#     tensorboard = aiplatform.Tensorboard.create(\n",
    "#         display_name=TENSORBOARD_DISPLAY_NAME\n",
    "#         , project=PROJECT_ID\n",
    "#         , location=REGION\n",
    "#     )\n",
    "\n",
    "#     TB_RESOURCE_NAME = tensorboard.resource_name\n",
    "# else:\n",
    "#     # use existing TB instance\n",
    "#     TB_RESOURCE_NAME = 'projects/934903580331/locations/us-central1/tensorboards/8118622335684050944' # TODO\n",
    "#     tensorboard = aiplatform.Tensorboard(\n",
    "#         tensorboard_name=TB_RESOURCE_NAME\n",
    "#     )\n",
    "\n",
    "# TB_ID = TB_RESOURCE_NAME.split('/')[-1]\n",
    "\n",
    "# print(f\"TB_RESOURCE_NAME : {TB_RESOURCE_NAME}\")\n",
    "# print(f\"TB display name  : {tensorboard.display_name}\")\n",
    "# print(f\"TB_ID            : {TB_ID}\")"
   ]
  },
  {
   "cell_type": "code",
   "execution_count": 26,
   "id": "d263cbe4-2e08-4e34-b4f0-944b0c3d0805",
   "metadata": {},
   "outputs": [],
   "source": [
    "# # Delete Tensorboard\n",
    "# vertex_ai_tb.delete()"
   ]
  },
  {
   "cell_type": "markdown",
   "id": "a13bda4e-7ef4-4985-ab73-ee474747146b",
   "metadata": {},
   "source": [
    "### Initialize Vertex Experiment autologging\n",
    "\n",
    "A default TensorBoard instance is automatically created when initializing a Vertex AI experiment. This backing TensorBoard is associated with the Vertex AI experiment and is used with all subsequent Vertex AI Experiments runs. This is the easiest way to get started with Vertex AI TensorBoard and should meet most users needs - [src](https://cloud.google.com/vertex-ai/docs/experiments/tensorboard-setup#use_default_instance)\n",
    "\n",
    "* If `experiment_tensorboard` is provided and `experiment` is not, the provided `experiment_tensorboard` will be set as the global Tensorboard\n",
    "* Any subsequent calls to aiplatform.init() with `experiment` and without `experiment_tensorboard` will automatically assign the global Tensorboard to the `experiment`\n",
    "\n",
    "If `experiment_tensorboard` is ommitted or set to `True` or `None` the global Tensorboard will be assigned to the `experiment`\n",
    "* If a global Tensorboard is not set, the default Tensorboard instance will be used, and created if it deos not exist.\n",
    "* To disable creating and using Tensorboard with `experiment`, set `experiment_tensorboard` to False.\n",
    "* Any subsequent calls to aiplatform.init() should include this setting as well.\n",
    "\n",
    "**references**\n",
    "* `aiplatform.init()` [src](https://github.com/googleapis/python-aiplatform/blob/main/google/cloud/aiplatform/initializer.py#L125)"
   ]
  },
  {
   "cell_type": "code",
   "execution_count": 24,
   "id": "5b467291-e5bb-49d7-8e9f-d58df032df9b",
   "metadata": {
    "tags": []
   },
   "outputs": [
    {
     "data": {
      "text/html": [
       "\n",
       "        \n",
       "    <link rel=\"stylesheet\" href=\"https://fonts.googleapis.com/icon?family=Material+Icons\">\n",
       "    <style>\n",
       "      .view-vertex-resource,\n",
       "      .view-vertex-resource:hover,\n",
       "      .view-vertex-resource:visited {\n",
       "        position: relative;\n",
       "        display: inline-flex;\n",
       "        flex-direction: row;\n",
       "        height: 32px;\n",
       "        padding: 0 12px;\n",
       "          margin: 4px 18px;\n",
       "        gap: 4px;\n",
       "        border-radius: 4px;\n",
       "\n",
       "        align-items: center;\n",
       "        justify-content: center;\n",
       "        background-color: rgb(255, 255, 255);\n",
       "        color: rgb(51, 103, 214);\n",
       "\n",
       "        font-family: Roboto,\"Helvetica Neue\",sans-serif;\n",
       "        font-size: 13px;\n",
       "        font-weight: 500;\n",
       "        text-transform: uppercase;\n",
       "        text-decoration: none !important;\n",
       "\n",
       "        transition: box-shadow 280ms cubic-bezier(0.4, 0, 0.2, 1) 0s;\n",
       "        box-shadow: 0px 3px 1px -2px rgba(0,0,0,0.2), 0px 2px 2px 0px rgba(0,0,0,0.14), 0px 1px 5px 0px rgba(0,0,0,0.12);\n",
       "      }\n",
       "      .view-vertex-resource:active {\n",
       "        box-shadow: 0px 5px 5px -3px rgba(0,0,0,0.2),0px 8px 10px 1px rgba(0,0,0,0.14),0px 3px 14px 2px rgba(0,0,0,0.12);\n",
       "      }\n",
       "      .view-vertex-resource:active .view-vertex-ripple::before {\n",
       "        position: absolute;\n",
       "        top: 0;\n",
       "        bottom: 0;\n",
       "        left: 0;\n",
       "        right: 0;\n",
       "        border-radius: 4px;\n",
       "        pointer-events: none;\n",
       "\n",
       "        content: '';\n",
       "        background-color: rgb(51, 103, 214);\n",
       "        opacity: 0.12;\n",
       "      }\n",
       "      .view-vertex-icon {\n",
       "        font-size: 18px;\n",
       "      }\n",
       "    </style>\n",
       "  \n",
       "        <a class=\"view-vertex-resource\" id=\"view-vertex-resource-53fc2371-a894-45c9-aef2-76c8166bb4b7\" href=\"#view-view-vertex-resource-53fc2371-a894-45c9-aef2-76c8166bb4b7\">\n",
       "          <span class=\"material-icons view-vertex-icon\">science</span>\n",
       "          <span>View Experiment</span>\n",
       "        </a>\n",
       "        \n",
       "        <script>\n",
       "          (function () {\n",
       "            const link = document.getElementById('view-vertex-resource-53fc2371-a894-45c9-aef2-76c8166bb4b7');\n",
       "            link.addEventListener('click', (e) => {\n",
       "              if (window.google?.colab?.openUrl) {\n",
       "                window.google.colab.openUrl('https://console.cloud.google.com/vertex-ai/experiments/locations/us-central1/experiments/01-linear-bandits-v4/runs?project=hybrid-vertex');\n",
       "              } else {\n",
       "                window.open('https://console.cloud.google.com/vertex-ai/experiments/locations/us-central1/experiments/01-linear-bandits-v4/runs?project=hybrid-vertex', '_blank');\n",
       "              }\n",
       "              e.stopPropagation();\n",
       "              e.preventDefault();\n",
       "            });\n",
       "          })();\n",
       "        </script>\n",
       "    "
      ],
      "text/plain": [
       "<IPython.core.display.HTML object>"
      ]
     },
     "metadata": {},
     "output_type": "display_data"
    }
   ],
   "source": [
    "aiplatform.init(\n",
    "    project=PROJECT_ID,\n",
    "    location=REGION,\n",
    "    experiment=EXPERIMENT_NAME,\n",
    "    # experiment_tensorboard=TB_ID # TB_ID\n",
    ")"
   ]
  },
  {
   "cell_type": "markdown",
   "id": "69745cb5-7dc9-4066-8bc8-bc55e7ee3f7c",
   "metadata": {},
   "source": [
    "## [4] Bandit Training"
   ]
  },
  {
   "cell_type": "markdown",
   "id": "a38a968c-1d86-483c-a234-ebabea058462",
   "metadata": {},
   "source": [
    "### train config"
   ]
  },
  {
   "cell_type": "code",
   "execution_count": 25,
   "id": "e6bf2dd5-bcdb-484b-9073-c780bc70536e",
   "metadata": {
    "tags": []
   },
   "outputs": [
    {
     "name": "stdout",
     "output_type": "stream",
     "text": [
      "TEST_HPT_FLAG  : False\n",
      "_ARTIFACTS_DIR : gs://rec-bandits-v2-hybrid-vertex-bucket/01-linear-bandits-v4/epsgreedy-20241121-220630/artifacts\n",
      "_ROOT_DIR      : gs://rec-bandits-v2-hybrid-vertex-bucket/01-linear-bandits-v4/epsgreedy-20241121-220630/root\n",
      "TRAINING_LOOPS : 50\n",
      "STEPS_PER_LOOP : 1\n",
      "LOG_INTERVAL   : 5\n"
     ]
    }
   ],
   "source": [
    "TEST_HPT_FLAG  = False # True | False\n",
    "\n",
    "_ARTIFACTS_DIR = ARTIFACTS_DIR if not TEST_HPT_FLAG else None\n",
    "_ROOT_DIR      = ROOT_DIR if not TEST_HPT_FLAG else None\n",
    "\n",
    "print(f\"TEST_HPT_FLAG  : {TEST_HPT_FLAG}\")\n",
    "print(f\"_ARTIFACTS_DIR : {_ARTIFACTS_DIR}\")\n",
    "print(f\"_ROOT_DIR      : {_ROOT_DIR}\")\n",
    "\n",
    "TRAINING_LOOPS = 50\n",
    "STEPS_PER_LOOP = 1\n",
    "LOG_INTERVAL = TRAINING_LOOPS // 10\n",
    "\n",
    "print(f\"TRAINING_LOOPS : {TRAINING_LOOPS}\")\n",
    "print(f\"STEPS_PER_LOOP : {STEPS_PER_LOOP}\")\n",
    "print(f'LOG_INTERVAL   : {LOG_INTERVAL}')\n",
    "\n",
    "summary_writer = tf.summary.create_file_writer(LOG_DIR)\n",
    "summary_writer.set_as_default()"
   ]
  },
  {
   "cell_type": "markdown",
   "id": "c9f9c2df-1091-4d49-bdc3-bb0780f1ce15",
   "metadata": {},
   "source": [
    "Start experiment run..."
   ]
  },
  {
   "cell_type": "markdown",
   "id": "91a67b87-25fa-425f-a052-a005db72bbde",
   "metadata": {},
   "source": [
    "### Train loop"
   ]
  },
  {
   "cell_type": "code",
   "execution_count": 26,
   "id": "b6325d6b-f0ca-4593-8d78-6016bafe8536",
   "metadata": {
    "tags": []
   },
   "outputs": [
    {
     "name": "stdout",
     "output_type": "stream",
     "text": [
      "step = 0: train loss = 31580.677734375\n",
      "step = 10: train loss = 46721.625\n",
      "step = 20: train loss = 30942.125\n",
      "step = 30: train loss = 114939.9140625\n",
      "step = 40: train loss = 29120.7578125\n",
      "runtime_mins: 3\n",
      "saved policy checkpoint to: gs://rec-bandits-v2-hybrid-vertex-bucket/01-linear-bandits-v4/epsgreedy-20241121-220630/chkpts\n",
      "train runtime_mins: 3\n"
     ]
    }
   ],
   "source": [
    "#start the timer and training\n",
    "start_time = time.time()\n",
    "\n",
    "metric_results = policy_util.train(\n",
    "    agent=agent_config['agent'],\n",
    "    environment=environment,\n",
    "    log_dir=LOG_DIR,\n",
    "    # model_dir = BASE_OUTPUT_DIR,\n",
    "    chkpt_dir = f\"{BASE_OUTPUT_DIR}/chkpts\",\n",
    "    training_loops=TRAINING_LOOPS,\n",
    "    steps_per_loop=STEPS_PER_LOOP,\n",
    "    additional_metrics=metrics,\n",
    "    # save_policy=True,\n",
    "    artifacts_dir=_ARTIFACTS_DIR,\n",
    "    root_dir=_ROOT_DIR,\n",
    "    run_hyperparameter_tuning=TEST_HPT_FLAG,\n",
    "    profiler = False,\n",
    "    train_summary_writer = summary_writer,\n",
    "    chkpt_interval = 10,\n",
    "    global_step = global_step\n",
    ")\n",
    "\n",
    "end_time = time.time()\n",
    "runtime_mins = int((end_time - start_time) / 60)\n",
    "print(f\"train runtime_mins: {runtime_mins}\")"
   ]
  },
  {
   "cell_type": "code",
   "execution_count": 27,
   "id": "d7f8060a-7400-45a7-80ec-f41060f131cf",
   "metadata": {
    "tags": []
   },
   "outputs": [
    {
     "name": "stdout",
     "output_type": "stream",
     "text": [
      "dict_keys(['NumberOfEpisodes', 'EnvironmentSteps', 'AverageEpisodeLengthMetric', 'RegretMetric', 'SuboptimalArmsMetric', 'AverageReturnMetric'])\n"
     ]
    }
   ],
   "source": [
    "# aiplatform.end_run()\n",
    "# vertex_ai.autolog(disable=True)\n",
    "\n",
    "pprint(metric_results.keys())"
   ]
  },
  {
   "cell_type": "markdown",
   "id": "8e952558-6c00-4eff-8d19-57ed2c144c50",
   "metadata": {},
   "source": [
    "### plot bandit metrics"
   ]
  },
  {
   "cell_type": "code",
   "execution_count": 28,
   "id": "b47b7236-1992-4651-9fee-58cad0ca51ef",
   "metadata": {
    "tags": []
   },
   "outputs": [
    {
     "data": {
      "image/png": "[encoded data removed]",
      "text/plain": [
       "<Figure size 640x480 with 1 Axes>"
      ]
     },
     "metadata": {},
     "output_type": "display_data"
    }
   ],
   "source": [
    "plt.plot(metric_results['RegretMetric'])\n",
    "plt.ylabel('RegretMetric')\n",
    "plt.show()"
   ]
  },
  {
   "cell_type": "code",
   "execution_count": 29,
   "id": "9b81f2f2-0b03-4f0c-905d-9317b471ffee",
   "metadata": {
    "tags": []
   },
   "outputs": [
    {
     "data": {
      "image/png": "[encoded data removed]",
      "text/plain": [
       "<Figure size 640x480 with 1 Axes>"
      ]
     },
     "metadata": {},
     "output_type": "display_data"
    }
   ],
   "source": [
    "plt.plot(metric_results['SuboptimalArmsMetric'])\n",
    "plt.ylabel('SuboptimalArmsMetric')\n",
    "plt.show()"
   ]
  },
  {
   "cell_type": "code",
   "execution_count": 30,
   "id": "e14c3bd2-c465-4db8-95f6-5ea568808301",
   "metadata": {
    "tags": []
   },
   "outputs": [
    {
     "data": {
      "image/png": "[encoded data removed]",
      "text/plain": [
       "<Figure size 640x480 with 1 Axes>"
      ]
     },
     "metadata": {},
     "output_type": "display_data"
    }
   ],
   "source": [
    "plt.plot(metric_results['AverageReturnMetric'])\n",
    "plt.ylabel('AverageReturnMetric')\n",
    "plt.show()"
   ]
  },
  {
   "cell_type": "markdown",
   "id": "2bb4f82d-7851-4607-be58-48d4d90d8a47",
   "metadata": {},
   "source": [
    "## [5] View policy gradients and network variables with TensorBoard"
   ]
  },
  {
   "cell_type": "code",
   "execution_count": 35,
   "id": "d97d574a-a0d1-4e56-9f1e-9f60bb3572a1",
   "metadata": {},
   "outputs": [],
   "source": [
    "# %load_ext tensorboard\n",
    "# %reload_ext tensorboard"
   ]
  },
  {
   "cell_type": "code",
   "execution_count": 36,
   "id": "2ff58fb5-1a38-413e-8bf9-8399863e4be4",
   "metadata": {},
   "outputs": [],
   "source": [
    "# %tensorboard --logdir=$LOG_DIR "
   ]
  },
  {
   "cell_type": "markdown",
   "id": "53614359-103e-4f63-b35c-87bf85a57493",
   "metadata": {},
   "source": [
    "## [6] Log bandit metrics and params to Vertex Experiments"
   ]
  },
  {
   "cell_type": "code",
   "execution_count": 31,
   "id": "85ab611a-990b-48cc-aa17-8672b64c5078",
   "metadata": {
    "tags": []
   },
   "outputs": [
    {
     "name": "stdout",
     "output_type": "stream",
     "text": [
      "{'agent': 'neural_epsilon_greedy_agent',\n",
      " 'agent_alpha': 'N/A',\n",
      " 'batch_size': 8,\n",
      " 'context_dim': 15,\n",
      " 'epsilon': 0.05,\n",
      " 'forget': 'N/A',\n",
      " 'layers': '[32, 16, 8]',\n",
      " 'network': 'QNetwork',\n",
      " 'num_actions': 5,\n",
      " 'per_arm': 'False',\n",
      " 'runtime': 3,\n",
      " 'temp': 0.05,\n",
      " 'training_loops': 50}\n"
     ]
    }
   ],
   "source": [
    "# gather the param values\n",
    "exp_params = {\n",
    "    \"agent\": agent_config['agent_type']\n",
    "    , \"network\": agent_config['network']\n",
    "    , \"layers\": str(LAYERS)\n",
    "    , \"batch_size\": BATCH_SIZE\n",
    "    , \"training_loops\": TRAINING_LOOPS\n",
    "    # , \"steps_per_loop\": STEPS_PER_LOOP\n",
    "    # , \"lr\": LR\n",
    "    , \"context_dim\": CONTEXT_DIM\n",
    "    , \"num_actions\": NUM_ACTIONS\n",
    "    , \"epsilon\": agent_config['epsilon']\n",
    "    , \"forget\" : agent_config['forget']\n",
    "    , \"temp\" : agent_config['temp']\n",
    "    , \"agent_alpha\": agent_config['alpha']\n",
    "    , \"runtime\": runtime_mins\n",
    "    , \"per_arm\": \"False\"\n",
    "}\n",
    "\n",
    "pprint(exp_params)"
   ]
  },
  {
   "cell_type": "code",
   "execution_count": 32,
   "id": "3b5b5b13-1f71-4454-83cf-a1fc386c6b14",
   "metadata": {
    "tags": []
   },
   "outputs": [
    {
     "name": "stdout",
     "output_type": "stream",
     "text": [
      "{'FinalRegret': 53.25}\n"
     ]
    }
   ],
   "source": [
    "# log results to Vertex Experiment\n",
    "\n",
    "# gather the metrics for the last epoch to be saved in metrics\n",
    "exp_metrics = {\n",
    "    # \"AvgReturn\" : round(float(metric_results[\"AverageReturnMetric\"][-1]),2)\n",
    "    \"FinalRegret\" : round(float(metric_results[\"RegretMetric\"][-1]),2)\n",
    "    # , \"SuboptimalArms\" : round(float(metric_results[\"SuboptimalArmsMetric\"][-1]),2)\n",
    "}\n",
    "\n",
    "pprint(exp_metrics)"
   ]
  },
  {
   "cell_type": "code",
   "execution_count": 33,
   "id": "be2c0efe-ef0f-45a4-a938-a39aad5256dd",
   "metadata": {
    "tags": []
   },
   "outputs": [
    {
     "data": {
      "text/html": [
       "\n",
       "        \n",
       "    <link rel=\"stylesheet\" href=\"https://fonts.googleapis.com/icon?family=Material+Icons\">\n",
       "    <style>\n",
       "      .view-vertex-resource,\n",
       "      .view-vertex-resource:hover,\n",
       "      .view-vertex-resource:visited {\n",
       "        position: relative;\n",
       "        display: inline-flex;\n",
       "        flex-direction: row;\n",
       "        height: 32px;\n",
       "        padding: 0 12px;\n",
       "          margin: 4px 18px;\n",
       "        gap: 4px;\n",
       "        border-radius: 4px;\n",
       "\n",
       "        align-items: center;\n",
       "        justify-content: center;\n",
       "        background-color: rgb(255, 255, 255);\n",
       "        color: rgb(51, 103, 214);\n",
       "\n",
       "        font-family: Roboto,\"Helvetica Neue\",sans-serif;\n",
       "        font-size: 13px;\n",
       "        font-weight: 500;\n",
       "        text-transform: uppercase;\n",
       "        text-decoration: none !important;\n",
       "\n",
       "        transition: box-shadow 280ms cubic-bezier(0.4, 0, 0.2, 1) 0s;\n",
       "        box-shadow: 0px 3px 1px -2px rgba(0,0,0,0.2), 0px 2px 2px 0px rgba(0,0,0,0.14), 0px 1px 5px 0px rgba(0,0,0,0.12);\n",
       "      }\n",
       "      .view-vertex-resource:active {\n",
       "        box-shadow: 0px 5px 5px -3px rgba(0,0,0,0.2),0px 8px 10px 1px rgba(0,0,0,0.14),0px 3px 14px 2px rgba(0,0,0,0.12);\n",
       "      }\n",
       "      .view-vertex-resource:active .view-vertex-ripple::before {\n",
       "        position: absolute;\n",
       "        top: 0;\n",
       "        bottom: 0;\n",
       "        left: 0;\n",
       "        right: 0;\n",
       "        border-radius: 4px;\n",
       "        pointer-events: none;\n",
       "\n",
       "        content: '';\n",
       "        background-color: rgb(51, 103, 214);\n",
       "        opacity: 0.12;\n",
       "      }\n",
       "      .view-vertex-icon {\n",
       "        font-size: 18px;\n",
       "      }\n",
       "    </style>\n",
       "  \n",
       "        <a class=\"view-vertex-resource\" id=\"view-vertex-resource-0fc4466f-3b4b-46af-b882-66a40aaf79b1\" href=\"#view-view-vertex-resource-0fc4466f-3b4b-46af-b882-66a40aaf79b1\">\n",
       "          <span class=\"material-icons view-vertex-icon\">science</span>\n",
       "          <span>View Experiment</span>\n",
       "        </a>\n",
       "        \n",
       "        <script>\n",
       "          (function () {\n",
       "            const link = document.getElementById('view-vertex-resource-0fc4466f-3b4b-46af-b882-66a40aaf79b1');\n",
       "            link.addEventListener('click', (e) => {\n",
       "              if (window.google?.colab?.openUrl) {\n",
       "                window.google.colab.openUrl('https://console.cloud.google.com/vertex-ai/experiments/locations/us-central1/experiments/01-linear-bandits-v4/runs?project=hybrid-vertex');\n",
       "              } else {\n",
       "                window.open('https://console.cloud.google.com/vertex-ai/experiments/locations/us-central1/experiments/01-linear-bandits-v4/runs?project=hybrid-vertex', '_blank');\n",
       "              }\n",
       "              e.stopPropagation();\n",
       "              e.preventDefault();\n",
       "            });\n",
       "          })();\n",
       "        </script>\n",
       "    "
      ],
      "text/plain": [
       "<IPython.core.display.HTML object>"
      ]
     },
     "metadata": {},
     "output_type": "display_data"
    },
    {
     "data": {
      "text/html": [
       "\n",
       "        \n",
       "    <link rel=\"stylesheet\" href=\"https://fonts.googleapis.com/icon?family=Material+Icons\">\n",
       "    <style>\n",
       "      .view-vertex-resource,\n",
       "      .view-vertex-resource:hover,\n",
       "      .view-vertex-resource:visited {\n",
       "        position: relative;\n",
       "        display: inline-flex;\n",
       "        flex-direction: row;\n",
       "        height: 32px;\n",
       "        padding: 0 12px;\n",
       "          margin: 4px 18px;\n",
       "        gap: 4px;\n",
       "        border-radius: 4px;\n",
       "\n",
       "        align-items: center;\n",
       "        justify-content: center;\n",
       "        background-color: rgb(255, 255, 255);\n",
       "        color: rgb(51, 103, 214);\n",
       "\n",
       "        font-family: Roboto,\"Helvetica Neue\",sans-serif;\n",
       "        font-size: 13px;\n",
       "        font-weight: 500;\n",
       "        text-transform: uppercase;\n",
       "        text-decoration: none !important;\n",
       "\n",
       "        transition: box-shadow 280ms cubic-bezier(0.4, 0, 0.2, 1) 0s;\n",
       "        box-shadow: 0px 3px 1px -2px rgba(0,0,0,0.2), 0px 2px 2px 0px rgba(0,0,0,0.14), 0px 1px 5px 0px rgba(0,0,0,0.12);\n",
       "      }\n",
       "      .view-vertex-resource:active {\n",
       "        box-shadow: 0px 5px 5px -3px rgba(0,0,0,0.2),0px 8px 10px 1px rgba(0,0,0,0.14),0px 3px 14px 2px rgba(0,0,0,0.12);\n",
       "      }\n",
       "      .view-vertex-resource:active .view-vertex-ripple::before {\n",
       "        position: absolute;\n",
       "        top: 0;\n",
       "        bottom: 0;\n",
       "        left: 0;\n",
       "        right: 0;\n",
       "        border-radius: 4px;\n",
       "        pointer-events: none;\n",
       "\n",
       "        content: '';\n",
       "        background-color: rgb(51, 103, 214);\n",
       "        opacity: 0.12;\n",
       "      }\n",
       "      .view-vertex-icon {\n",
       "        font-size: 18px;\n",
       "      }\n",
       "    </style>\n",
       "  \n",
       "        <a class=\"view-vertex-resource\" id=\"view-vertex-resource-b4f9b2ff-d134-4cee-a243-003703304cce\" href=\"#view-view-vertex-resource-b4f9b2ff-d134-4cee-a243-003703304cce\">\n",
       "          <span class=\"material-icons view-vertex-icon\">science</span>\n",
       "          <span>View Experiment Run</span>\n",
       "        </a>\n",
       "        \n",
       "        <script>\n",
       "          (function () {\n",
       "            const link = document.getElementById('view-vertex-resource-b4f9b2ff-d134-4cee-a243-003703304cce');\n",
       "            link.addEventListener('click', (e) => {\n",
       "              if (window.google?.colab?.openUrl) {\n",
       "                window.google.colab.openUrl('https://console.cloud.google.com/vertex-ai/experiments/locations/us-central1/experiments/01-linear-bandits-v4/runs/01-linear-bandits-v4-epsgreedy-20241121-220630?project=hybrid-vertex');\n",
       "              } else {\n",
       "                window.open('https://console.cloud.google.com/vertex-ai/experiments/locations/us-central1/experiments/01-linear-bandits-v4/runs/01-linear-bandits-v4-epsgreedy-20241121-220630?project=hybrid-vertex', '_blank');\n",
       "              }\n",
       "              e.stopPropagation();\n",
       "              e.preventDefault();\n",
       "            });\n",
       "          })();\n",
       "        </script>\n",
       "    "
      ],
      "text/plain": [
       "<IPython.core.display.HTML object>"
      ]
     },
     "metadata": {},
     "output_type": "display_data"
    },
    {
     "name": "stdout",
     "output_type": "stream",
     "text": [
      "logging time-series metrics...\n"
     ]
    }
   ],
   "source": [
    "aiplatform.init(\n",
    "    project=PROJECT_ID,\n",
    "    location=REGION,\n",
    "    experiment=EXPERIMENT_NAME,\n",
    "    # experiment_tensorboard=TB_ID\n",
    ")\n",
    "\n",
    "with aiplatform.start_run(\n",
    "    f'{RUN_NAME}',\n",
    ") as my_run:\n",
    "\n",
    "    logging.info(f\"logging metrics...\")\n",
    "\n",
    "    my_run.log_params(exp_params)\n",
    "    my_run.log_metrics(exp_metrics)\n",
    "    print(f\"logging time-series metrics...\")\n",
    "    for i in range(0, len(metric_results[\"RegretMetric\"])):\n",
    "        aiplatform.log_time_series_metrics({'RegretMetric': metric_results[\"RegretMetric\"][i]}, step=i)\n",
    "        aiplatform.log_time_series_metrics({'AverageReturnMetric': metric_results[\"AverageReturnMetric\"][i]}, step=i)\n",
    "        aiplatform.log_time_series_metrics({'SuboptimalArmsMetric': metric_results[\"SuboptimalArmsMetric\"][i]}, step=i)\n",
    "\n",
    "    aiplatform.end_run()"
   ]
  },
  {
   "cell_type": "markdown",
   "id": "b1eb0fba-71fa-4b11-a6f9-0153dd19d74a",
   "metadata": {},
   "source": [
    "## [7] Running an experiment \n",
    "\n",
    "> see [docs](https://cloud.google.com/vertex-ai/docs/experiments/create-manage-exp-run#create-and-start-run) for more on Vertex Ai Experiments"
   ]
  },
  {
   "cell_type": "code",
   "execution_count": 45,
   "id": "04f3b696-21cc-4d1f-b162-5523c605ab84",
   "metadata": {},
   "outputs": [],
   "source": [
    "LOCAL_EXP_VERSION = \"v1\"\n",
    "EXPERIMENT_NAME = f\"01d-linear-reward-bandits-{LOCAL_EXP_VERSION}\""
   ]
  },
  {
   "cell_type": "markdown",
   "id": "a3711f9c-70e1-4592-a97f-8ab130cf785f",
   "metadata": {},
   "source": [
    "#### helper function"
   ]
  },
  {
   "cell_type": "code",
   "execution_count": 46,
   "id": "04b00890-75e7-471b-a72e-bdd355c0706a",
   "metadata": {},
   "outputs": [],
   "source": [
    "from tf_agents.environments import TFEnvironment\n",
    "\n",
    "def run_bandit_experiment(\n",
    "    experiment_name: str,\n",
    "    experiment_run: str,\n",
    "    agent_type: str,\n",
    "    agent_alpha: float,\n",
    "    epsilon: float,\n",
    "    temperature: float,\n",
    "    learning_rate: float,\n",
    "    forgetting_factor: float,\n",
    "    env: TFEnvironment,\n",
    "    training_loops: int,\n",
    "    base_output_dir: str,\n",
    "    log_dir: str,\n",
    "    root_dir: str,\n",
    "    artifacts_dir: str,\n",
    "    test_hpt_flag: bool = False,\n",
    "):\n",
    "    \n",
    "    summary_writer = tf.summary.create_file_writer(LOG_DIR)\n",
    "    summary_writer.set_as_default()\n",
    "\n",
    "    _ARTIFACTS_DIR = artifacts_dir if not test_hpt_flag else None\n",
    "    _ROOT_DIR      = root_dir if not test_hpt_flag else None\n",
    "    \n",
    "    _agent_config = _get_bandit_agent(\n",
    "        AGENT_TYPE = agent_type, \n",
    "        environment = env, \n",
    "        AGENT_ALPHA = agent_alpha, \n",
    "        TEMPERATURE = temperature, \n",
    "        LR = learning_rate, \n",
    "        NUM_DISABLED_ACTIONS = NUM_DISABLED_ACTIONS,\n",
    "        FORGETTING_FACTOR = forgetting_factor,\n",
    "        EPSILON = epsilon,\n",
    "        DEBUG_BOOL = True,\n",
    "        SUMMARIZE_GRADS_AND_VARS = True,\n",
    "        ENABLE_SUMMARIES = True,\n",
    "    )\n",
    "\n",
    "    global_step = tf.compat.v1.train.get_or_create_global_step()\n",
    "    \n",
    "    #start the timer and training\n",
    "    start_time = time.time()\n",
    "    metric_results = policy_util.train(\n",
    "        agent= _agent_config['agent'],\n",
    "        environment=env,\n",
    "        log_dir=LOG_DIR,\n",
    "        # model_dir = base_output_dir,\n",
    "        chkpt_dir = f\"{base_output_dir}/chkpts\",\n",
    "        training_loops=training_loops,\n",
    "        steps_per_loop=1,\n",
    "        additional_metrics=metrics,\n",
    "        # save_policy=True,\n",
    "        artifacts_dir=_ARTIFACTS_DIR,\n",
    "        root_dir=_ROOT_DIR,\n",
    "        run_hyperparameter_tuning=test_hpt_flag,\n",
    "        profiler = False,\n",
    "        train_summary_writer = summary_writer,\n",
    "        chkpt_interval = 10,\n",
    "        global_step = global_step\n",
    "    )\n",
    "    runtime_mins = int((time.time() - start_time) / 60)\n",
    "    print(f\"train runtime_mins: {runtime_mins}\")\n",
    "\n",
    "    # log Vertex Experiments\n",
    "    exp_params = {\n",
    "        \"agent\": _agent_config['agent_type']\n",
    "        , \"network\": _agent_config['network']\n",
    "        , \"layers\": str(LAYERS)\n",
    "        , \"batch_size\": BATCH_SIZE\n",
    "        , \"training_loops\": training_loops\n",
    "        # , \"steps_per_loop\": STEPS_PER_LOOP\n",
    "        # , \"lr\": LR\n",
    "        , \"context_dim\": CONTEXT_DIM\n",
    "        , \"num_actions\": NUM_ACTIONS\n",
    "        , \"epsilon\": _agent_config['epsilon']\n",
    "        , \"forget\" : _agent_config['forget']\n",
    "        , \"temp\" : _agent_config['temp']\n",
    "        , \"agent_alpha\": _agent_config['alpha']\n",
    "        , \"runtime\": runtime_mins\n",
    "        , \"per_arm\": \"False\"\n",
    "    }\n",
    "\n",
    "    # gather the metrics for the last epoch to be saved in metrics\n",
    "    exp_metrics = {\n",
    "        # \"AvgReturn\" : round(float(metric_results[\"AverageReturnMetric\"][-1]),2)\n",
    "        \"FinalRegret\" : round(float(metric_results[\"RegretMetric\"][-1]),2)\n",
    "        # , \"SuboptimalArms\" : round(float(metric_results[\"SuboptimalArmsMetric\"][-1]),2)\n",
    "    }\n",
    "    \n",
    "    with aiplatform.start_run(\n",
    "        f'{experiment_run}',\n",
    "    ) as my_run:\n",
    "\n",
    "        logging.info(f\"logging metrics...\")\n",
    "\n",
    "        my_run.log_params(exp_params)\n",
    "        my_run.log_metrics(exp_metrics)\n",
    "        print(f\"logging time-series metrics...\")\n",
    "        for i in range(0, len(metric_results[\"RegretMetric\"])):\n",
    "            aiplatform.log_time_series_metrics({'RegretMetric': metric_results[\"RegretMetric\"][i]}, step=i)\n",
    "            aiplatform.log_time_series_metrics({'AverageReturnMetric': metric_results[\"AverageReturnMetric\"][i]}, step=i)\n",
    "            aiplatform.log_time_series_metrics({'SuboptimalArmsMetric': metric_results[\"SuboptimalArmsMetric\"][i]}, step=i)\n",
    "\n",
    "        aiplatform.end_run()\n",
    "        \n",
    "    print(f\"Finished logging {experiment_run} metrics to Vertex AI\\n\")\n",
    "        \n",
    "    return metric_results"
   ]
  },
  {
   "cell_type": "markdown",
   "id": "c35da98f-d597-481b-83ef-112c7b953c94",
   "metadata": {},
   "source": [
    "### set experiment config"
   ]
  },
  {
   "cell_type": "code",
   "execution_count": 48,
   "id": "bd5a9592-cc55-42d8-9330-68161a858274",
   "metadata": {},
   "outputs": [],
   "source": [
    "# aiplatform.init(\n",
    "#     project=PROJECT_ID,\n",
    "#     location=REGION,\n",
    "#     experiment=EXPERIMENT_NAME,\n",
    "# )"
   ]
  },
  {
   "cell_type": "code",
   "execution_count": 49,
   "id": "d2b718d4-d309-4ee2-9abd-860880c92e5f",
   "metadata": {},
   "outputs": [
    {
     "name": "stdout",
     "output_type": "stream",
     "text": [
      "len(configs): 3\n"
     ]
    },
    {
     "data": {
      "text/plain": [
       "[{'agent_type': 'LinUCB',\n",
       "  'experiment_name': '01d-linear-reward-bandits-v1',\n",
       "  'experiment_run_tag': 'LinUCB',\n",
       "  'agent_alpha': 0.1,\n",
       "  'epsilon': 0.05,\n",
       "  'temperature': 0.05,\n",
       "  'learning_rate': 0.001,\n",
       "  'forgetting_factor': 0.98,\n",
       "  'training_loops': 50,\n",
       "  'environment': <tf_agents.environments.tf_py_environment.TFPyEnvironment at 0x7f8cfe6a4310>},\n",
       " {'agent_type': 'LinTS',\n",
       "  'experiment_name': '01d-linear-reward-bandits-v1',\n",
       "  'experiment_run_tag': 'LinTS',\n",
       "  'agent_alpha': 0.1,\n",
       "  'epsilon': 0.05,\n",
       "  'temperature': 0.05,\n",
       "  'learning_rate': 0.001,\n",
       "  'forgetting_factor': 0.98,\n",
       "  'training_loops': 50,\n",
       "  'environment': <tf_agents.environments.tf_py_environment.TFPyEnvironment at 0x7f8cfe6a4310>},\n",
       " {'agent_type': 'epsGreedy',\n",
       "  'experiment_name': '01d-linear-reward-bandits-v1',\n",
       "  'experiment_run_tag': 'epsGreedy',\n",
       "  'agent_alpha': 0.1,\n",
       "  'epsilon': 0.05,\n",
       "  'temperature': 0.05,\n",
       "  'learning_rate': 0.001,\n",
       "  'forgetting_factor': 0.98,\n",
       "  'training_loops': 50,\n",
       "  'environment': <tf_agents.environments.tf_py_environment.TFPyEnvironment at 0x7f8cfe6a4310>}]"
      ]
     },
     "execution_count": 49,
     "metadata": {},
     "output_type": "execute_result"
    }
   ],
   "source": [
    "# agent - Which agent to use\n",
    "AGENT_TYPE    = 'epsGreedy' # 'LinUCB', 'LinTS', 'epsGreedy', 'Mix', 'Boltzmann', 'BoltzmannGumbel'\n",
    "AGENT_ALPHA   = 0.1\n",
    "\n",
    "# explore vs exploit\n",
    "EPSILON       = 0.05\n",
    "TEMPERATURE   = 0.05\n",
    "LR            = 0.001\n",
    "FORGET_FACTOR = 0.98 # 0.99 | 0.98 | 0.9 \n",
    "\n",
    "# train job\n",
    "TRAINING_LOOPS=50\n",
    "STEPS_PER_LOOP=1\n",
    "\n",
    "# config dicts\n",
    "exp_configs = []\n",
    "# exp_vars = [0.05,0.10,0.15]\n",
    "exp_vars = ['LinUCB', 'LinTS', 'epsGreedy']\n",
    "\n",
    "for VAR in exp_vars:\n",
    "    \n",
    "    config = {\n",
    "        \"agent_type\": VAR, # vars are agent types in this example\n",
    "        \"experiment_name\": EXPERIMENT_NAME,\n",
    "        \"experiment_run_tag\": VAR,\n",
    "        \"agent_alpha\": AGENT_ALPHA,\n",
    "        \"epsilon\": EPSILON,\n",
    "        \"temperature\": TEMPERATURE,\n",
    "        \"learning_rate\": LR,\n",
    "        \"forgetting_factor\": FORGET_FACTOR,\n",
    "        \"training_loops\": TRAINING_LOOPS,\n",
    "        \"environment\": environment,\n",
    "    }\n",
    "    exp_configs.append(config)\n",
    "    \n",
    "print(f\"len(configs): {len(exp_configs)}\")\n",
    "\n",
    "exp_configs"
   ]
  },
  {
   "cell_type": "markdown",
   "id": "90e07d9f-1b66-4430-82e0-b11288b390c3",
   "metadata": {},
   "source": [
    "### run experiment"
   ]
  },
  {
   "cell_type": "code",
   "execution_count": 50,
   "id": "652cb8c6-9755-46bf-8994-85812026b0ed",
   "metadata": {},
   "outputs": [
    {
     "name": "stdout",
     "output_type": "stream",
     "text": [
      "Beginning new run...\n",
      "Experiment name: 01d-linear-reward-bandits-v1\n",
      "Experiment run : linucb-20240313-183942\n",
      "\n",
      "{'agent': <tf_agents.bandits.agents.lin_ucb_agent.LinearUCBAgent object at 0x7f8cfe6a4b20>,\n",
      " 'agent_type': 'linear_ucb_agent',\n",
      " 'alpha': 0.1,\n",
      " 'disabled_actions': 0,\n",
      " 'epsilon': 'N/A',\n",
      " 'forget': 0.98,\n",
      " 'lr': 0.001,\n",
      " 'network': 'N/A',\n",
      " 'summaries': 'True',\n",
      " 'temp': 0.05}\n",
      "step = 0: train loss = 34837.46875\n",
      "step = 10: train loss = 3640.1787109375\n",
      "step = 20: train loss = 0.6676999926567078\n",
      "step = 30: train loss = 0.05460000038146973\n",
      "step = 40: train loss = 0.00419999985024333\n",
      "runtime_mins: 3\n",
      "saved policy checkpoint to: gs://rec-bandits-v2-hybrid-vertex-bucket/01d-linear-reward-bandits-v1/linucb-20240313-183942/chkpts\n",
      "train runtime_mins: 3\n",
      "logging time-series metrics...\n",
      "Finished logging linucb-20240313-183942 metrics to Vertex AI\n",
      "\n",
      "Beginning new run...\n",
      "Experiment name: 01d-linear-reward-bandits-v1\n",
      "Experiment run : lints-20240313-184305\n",
      "\n",
      "{'agent': <tf_agents.bandits.agents.linear_thompson_sampling_agent.LinearThompsonSamplingAgent object at 0x7f8bd423a890>,\n",
      " 'agent_type': 'linear_thompson_sampling_agent',\n",
      " 'alpha': 0.1,\n",
      " 'disabled_actions': 0,\n",
      " 'epsilon': 'N/A',\n",
      " 'forget': 0.98,\n",
      " 'lr': 0.001,\n",
      " 'network': 'N/A',\n",
      " 'summaries': 'True',\n",
      " 'temp': 0.05}\n",
      "step = 0: train loss = 22446.408203125\n",
      "step = 10: train loss = 347.6622009277344\n",
      "step = 20: train loss = 0.07819999754428864\n",
      "step = 30: train loss = 0.019700000062584877\n",
      "step = 40: train loss = 0.016100000590085983\n",
      "runtime_mins: 3\n",
      "saved policy checkpoint to: gs://rec-bandits-v2-hybrid-vertex-bucket/01d-linear-reward-bandits-v1/lints-20240313-184305/chkpts\n",
      "train runtime_mins: 3\n",
      "logging time-series metrics...\n",
      "Finished logging lints-20240313-184305 metrics to Vertex AI\n",
      "\n",
      "Beginning new run...\n",
      "Experiment name: 01d-linear-reward-bandits-v1\n",
      "Experiment run : epsgreedy-20240313-184653\n",
      "\n",
      "{'agent': <tf_agents.bandits.agents.neural_epsilon_greedy_agent.NeuralEpsilonGreedyAgent object at 0x7f8b64c20160>,\n",
      " 'agent_type': 'neural_epsilon_greedy_agent',\n",
      " 'alpha': 'N/A',\n",
      " 'disabled_actions': 0,\n",
      " 'epsilon': 0.05,\n",
      " 'forget': 'N/A',\n",
      " 'lr': 0.001,\n",
      " 'network': 'QNetwork',\n",
      " 'summaries': 'True',\n",
      " 'temp': 0.05}\n",
      "step = 0: train loss = 68197.828125\n",
      "step = 10: train loss = 30210.349609375\n",
      "step = 20: train loss = 120187.046875\n",
      "step = 30: train loss = 103136.2890625\n",
      "step = 40: train loss = 82949.65625\n",
      "runtime_mins: 3\n",
      "saved policy checkpoint to: gs://rec-bandits-v2-hybrid-vertex-bucket/01d-linear-reward-bandits-v1/epsgreedy-20240313-184653/chkpts\n",
      "train runtime_mins: 3\n",
      "logging time-series metrics...\n",
      "Finished logging epsgreedy-20240313-184653 metrics to Vertex AI\n",
      "\n"
     ]
    }
   ],
   "source": [
    "all_metrics = {}\n",
    "\n",
    "for config in exp_configs:\n",
    "    print(\"Beginning new run...\")\n",
    "    \n",
    "    invoke_time = time.strftime(\"%Y%m%d-%H%M%S\")\n",
    "    RUN_NAME    = f\"{config['experiment_run_tag']}-{invoke_time}\".lower()\n",
    "    print(f\"Experiment name: {config['experiment_name']}\")\n",
    "    print(f\"Experiment run : {RUN_NAME}\\n\")\n",
    "    \n",
    "    BASE_OUTPUT_DIR   = f'{BUCKET_URI}/{config[\"experiment_name\"]}/{RUN_NAME}'\n",
    "    LOG_DIR           = f\"{BASE_OUTPUT_DIR}/logs\"\n",
    "    ROOT_DIR          = f\"{BASE_OUTPUT_DIR}/root\"\n",
    "    ARTIFACTS_DIR     = f\"{BASE_OUTPUT_DIR}/artifacts\"\n",
    "    \n",
    "    run_metrics = run_bandit_experiment(\n",
    "        experiment_name = config['experiment_name'],\n",
    "        experiment_run = RUN_NAME,\n",
    "        agent_type = config['agent_type'],\n",
    "        agent_alpha = config['agent_alpha'],\n",
    "        epsilon = config['epsilon'],\n",
    "        temperature = config['temperature'],\n",
    "        learning_rate = config['learning_rate'],\n",
    "        forgetting_factor = config['forgetting_factor'],\n",
    "        env = config['environment'],\n",
    "        training_loops = config[\"training_loops\"],\n",
    "        test_hpt_flag=False,\n",
    "        base_output_dir=BASE_OUTPUT_DIR,\n",
    "        log_dir = LOG_DIR,\n",
    "        root_dir = ROOT_DIR,\n",
    "        artifacts_dir = ARTIFACTS_DIR,\n",
    "    )\n",
    "    \n",
    "    all_metrics[f\"{config['experiment_run_tag']}\"] = {\n",
    "        \"run_name\": RUN_NAME,\n",
    "        \"log_dir\" : LOG_DIR,\n",
    "        \"metrics\": run_metrics\n",
    "    }"
   ]
  },
  {
   "cell_type": "code",
   "execution_count": null,
   "id": "813d2a13-0bd3-45c0-949f-4be6aa5fb62f",
   "metadata": {
    "tags": []
   },
   "outputs": [],
   "source": [
    "# all_metrics['LinUCB']['run_name']\n",
    "# all_metrics['LinUCB']['log_dir']\n",
    "# all_metrics['LinUCB']['metrics']['RegretMetric']\n",
    "# all_metrics['LinUCB']['metrics']['AverageReturnMetric']\n",
    "# all_metrics['LinUCB']['metrics']['SuboptimalArmsMetric']"
   ]
  },
  {
   "cell_type": "code",
   "execution_count": 51,
   "id": "3b67e8a7-4115-492b-86dd-42fa66c86f64",
   "metadata": {},
   "outputs": [],
   "source": [
    "all_regrets = {}\n",
    "all_avg_returns = {}\n",
    "all_suboptimals = {}\n",
    "all_tags = []\n",
    "all_run_names = []\n",
    "\n",
    "for x in exp_configs:\n",
    "    \n",
    "    tag = x['experiment_run_tag']\n",
    "    all_tags.append(tag)\n",
    "    all_run_names.append(all_metrics[tag]['run_name'])\n",
    "    \n",
    "    all_regrets[tag] = all_metrics[tag]['metrics']['RegretMetric']\n",
    "    all_avg_returns[tag] = all_metrics[tag]['metrics']['AverageReturnMetric']\n",
    "    all_suboptimals[tag] = all_metrics[tag]['metrics']['SuboptimalArmsMetric']\n",
    "    \n",
    "regret_df = pd.DataFrame(all_regrets)\n",
    "avg_return_df = pd.DataFrame(all_avg_returns)\n",
    "suboptimal_df = pd.DataFrame(all_suboptimals)"
   ]
  },
  {
   "cell_type": "code",
   "execution_count": 52,
   "id": "c7610d92-95f0-48e0-ac4f-e30b15c3772e",
   "metadata": {},
   "outputs": [
    {
     "data": {
      "text/plain": [
       "['LinUCB', 'LinTS', 'epsGreedy']"
      ]
     },
     "execution_count": 52,
     "metadata": {},
     "output_type": "execute_result"
    }
   ],
   "source": [
    "all_tags"
   ]
  },
  {
   "cell_type": "markdown",
   "id": "7449b3d9-78d8-431e-9520-c50ea49a97d7",
   "metadata": {},
   "source": [
    "#### plot metrics"
   ]
  },
  {
   "cell_type": "code",
   "execution_count": 53,
   "id": "108387ce-3254-485a-813f-f2a32f1f579d",
   "metadata": {},
   "outputs": [],
   "source": [
    "# import seaborn as sns\n",
    "FONT_SIZE = 10\n",
    "FIG_SIZE = (10,4)\n",
    "# plt.style.use('fivethirtyeight')\n",
    "plt.style.use('default') "
   ]
  },
  {
   "cell_type": "code",
   "execution_count": 54,
   "id": "ddd5c739-29ba-425a-bd24-59f3dc945314",
   "metadata": {},
   "outputs": [
    {
     "data": {
      "image/png": "[encoded data removed]",
      "text/plain": [
       "<Figure size 1000x400 with 1 Axes>"
      ]
     },
     "metadata": {},
     "output_type": "display_data"
    }
   ],
   "source": [
    "ax = regret_df.plot(linewidth=2, fontsize=FONT_SIZE, figsize=FIG_SIZE);\n",
    "\n",
    "# Additional customizations\n",
    "ax.set_title(\"RegretMetric\")\n",
    "ax.set_xlabel('step');\n",
    "ax.legend(fontsize=FONT_SIZE);"
   ]
  },
  {
   "cell_type": "code",
   "execution_count": 55,
   "id": "28db02a5-cca9-493e-9570-12fd7bcf5c10",
   "metadata": {},
   "outputs": [
    {
     "data": {
      "image/png": "[encoded data removed]",
      "text/plain": [
       "<Figure size 1000x400 with 1 Axes>"
      ]
     },
     "metadata": {},
     "output_type": "display_data"
    }
   ],
   "source": [
    "ax = avg_return_df.plot(linewidth=2, fontsize=FONT_SIZE, figsize=FIG_SIZE);\n",
    "\n",
    "# Additional customizations\n",
    "ax.set_title(\"AverageReturnMetric\")\n",
    "ax.set_xlabel('step');\n",
    "ax.legend(fontsize=FONT_SIZE);"
   ]
  },
  {
   "cell_type": "code",
   "execution_count": 56,
   "id": "a1cd47f0-32e5-40e3-bd37-186ccc272f4c",
   "metadata": {},
   "outputs": [
    {
     "data": {
      "image/png": "[encoded data removed]",
      "text/plain": [
       "<Figure size 1000x400 with 1 Axes>"
      ]
     },
     "metadata": {},
     "output_type": "display_data"
    }
   ],
   "source": [
    "ax = suboptimal_df.plot(linewidth=2, fontsize=FONT_SIZE, figsize=FIG_SIZE);\n",
    "\n",
    "# Additional customizations\n",
    "ax.set_title(\"SuboptimalArmsMetric\")\n",
    "ax.set_xlabel('step');\n",
    "ax.legend(fontsize=FONT_SIZE);"
   ]
  },
  {
   "cell_type": "markdown",
   "id": "00235831-be10-45a4-8963-e694f38ae788",
   "metadata": {},
   "source": [
    "### get Vertex Experiment dataframe"
   ]
  },
  {
   "cell_type": "code",
   "execution_count": 57,
   "id": "15cab04b-dd6b-460b-a8c4-7563969c38fe",
   "metadata": {},
   "outputs": [
    {
     "data": {
      "text/html": [
       "<div>\n",
       "<style scoped>\n",
       "    .dataframe tbody tr th:only-of-type {\n",
       "        vertical-align: middle;\n",
       "    }\n",
       "\n",
       "    .dataframe tbody tr th {\n",
       "        vertical-align: top;\n",
       "    }\n",
       "\n",
       "    .dataframe thead th {\n",
       "        text-align: right;\n",
       "    }\n",
       "</style>\n",
       "<table border=\"1\" class=\"dataframe\">\n",
       "  <thead>\n",
       "    <tr style=\"text-align: right;\">\n",
       "      <th></th>\n",
       "      <th>0</th>\n",
       "      <th>1</th>\n",
       "      <th>2</th>\n",
       "    </tr>\n",
       "  </thead>\n",
       "  <tbody>\n",
       "    <tr>\n",
       "      <th>experiment_name</th>\n",
       "      <td>01d-linear-reward-bandits-v1</td>\n",
       "      <td>01d-linear-reward-bandits-v1</td>\n",
       "      <td>01d-linear-reward-bandits-v1</td>\n",
       "    </tr>\n",
       "    <tr>\n",
       "      <th>run_name</th>\n",
       "      <td>epsgreedy-20240313-184653</td>\n",
       "      <td>lints-20240313-184305</td>\n",
       "      <td>linucb-20240313-183942</td>\n",
       "    </tr>\n",
       "    <tr>\n",
       "      <th>run_type</th>\n",
       "      <td>system.ExperimentRun</td>\n",
       "      <td>system.ExperimentRun</td>\n",
       "      <td>system.ExperimentRun</td>\n",
       "    </tr>\n",
       "    <tr>\n",
       "      <th>state</th>\n",
       "      <td>COMPLETE</td>\n",
       "      <td>COMPLETE</td>\n",
       "      <td>COMPLETE</td>\n",
       "    </tr>\n",
       "    <tr>\n",
       "      <th>param.agent_alpha</th>\n",
       "      <td>N/A</td>\n",
       "      <td>0.1</td>\n",
       "      <td>0.1</td>\n",
       "    </tr>\n",
       "    <tr>\n",
       "      <th>param.training_loops</th>\n",
       "      <td>50.0</td>\n",
       "      <td>50.0</td>\n",
       "      <td>50.0</td>\n",
       "    </tr>\n",
       "    <tr>\n",
       "      <th>param.network</th>\n",
       "      <td>QNetwork</td>\n",
       "      <td>N/A</td>\n",
       "      <td>N/A</td>\n",
       "    </tr>\n",
       "    <tr>\n",
       "      <th>param.forget</th>\n",
       "      <td>N/A</td>\n",
       "      <td>0.98</td>\n",
       "      <td>0.98</td>\n",
       "    </tr>\n",
       "    <tr>\n",
       "      <th>param.batch_size</th>\n",
       "      <td>8.0</td>\n",
       "      <td>8.0</td>\n",
       "      <td>8.0</td>\n",
       "    </tr>\n",
       "    <tr>\n",
       "      <th>param.runtime</th>\n",
       "      <td>3.0</td>\n",
       "      <td>3.0</td>\n",
       "      <td>3.0</td>\n",
       "    </tr>\n",
       "    <tr>\n",
       "      <th>param.agent</th>\n",
       "      <td>neural_epsilon_greedy_agent</td>\n",
       "      <td>linear_thompson_sampling_agent</td>\n",
       "      <td>linear_ucb_agent</td>\n",
       "    </tr>\n",
       "    <tr>\n",
       "      <th>param.temp</th>\n",
       "      <td>0.05</td>\n",
       "      <td>0.05</td>\n",
       "      <td>0.05</td>\n",
       "    </tr>\n",
       "    <tr>\n",
       "      <th>param.num_actions</th>\n",
       "      <td>5.0</td>\n",
       "      <td>5.0</td>\n",
       "      <td>5.0</td>\n",
       "    </tr>\n",
       "    <tr>\n",
       "      <th>param.layers</th>\n",
       "      <td>[32, 16, 8]</td>\n",
       "      <td>[32, 16, 8]</td>\n",
       "      <td>[32, 16, 8]</td>\n",
       "    </tr>\n",
       "    <tr>\n",
       "      <th>param.epsilon</th>\n",
       "      <td>0.05</td>\n",
       "      <td>N/A</td>\n",
       "      <td>N/A</td>\n",
       "    </tr>\n",
       "    <tr>\n",
       "      <th>param.context_dim</th>\n",
       "      <td>15.0</td>\n",
       "      <td>15.0</td>\n",
       "      <td>15.0</td>\n",
       "    </tr>\n",
       "    <tr>\n",
       "      <th>param.per_arm</th>\n",
       "      <td>False</td>\n",
       "      <td>False</td>\n",
       "      <td>False</td>\n",
       "    </tr>\n",
       "    <tr>\n",
       "      <th>metric.FinalRegret</th>\n",
       "      <td>47.25</td>\n",
       "      <td>-0.0</td>\n",
       "      <td>0.0</td>\n",
       "    </tr>\n",
       "    <tr>\n",
       "      <th>time_series_metric.AverageReturnMetric</th>\n",
       "      <td>-172.599487</td>\n",
       "      <td>-43.799366</td>\n",
       "      <td>-43.300701</td>\n",
       "    </tr>\n",
       "    <tr>\n",
       "      <th>time_series_metric.SuboptimalArmsMetric</th>\n",
       "      <td>0.5</td>\n",
       "      <td>0.0</td>\n",
       "      <td>0.0</td>\n",
       "    </tr>\n",
       "    <tr>\n",
       "      <th>time_series_metric.RegretMetric</th>\n",
       "      <td>47.249599</td>\n",
       "      <td>-0.000332</td>\n",
       "      <td>0.003699</td>\n",
       "    </tr>\n",
       "  </tbody>\n",
       "</table>\n",
       "</div>"
      ],
      "text/plain": [
       "                                                                    0  \\\n",
       "experiment_name                          01d-linear-reward-bandits-v1   \n",
       "run_name                                    epsgreedy-20240313-184653   \n",
       "run_type                                         system.ExperimentRun   \n",
       "state                                                        COMPLETE   \n",
       "param.agent_alpha                                                 N/A   \n",
       "param.training_loops                                             50.0   \n",
       "param.network                                                QNetwork   \n",
       "param.forget                                                      N/A   \n",
       "param.batch_size                                                  8.0   \n",
       "param.runtime                                                     3.0   \n",
       "param.agent                               neural_epsilon_greedy_agent   \n",
       "param.temp                                                       0.05   \n",
       "param.num_actions                                                 5.0   \n",
       "param.layers                                              [32, 16, 8]   \n",
       "param.epsilon                                                    0.05   \n",
       "param.context_dim                                                15.0   \n",
       "param.per_arm                                                   False   \n",
       "metric.FinalRegret                                              47.25   \n",
       "time_series_metric.AverageReturnMetric                    -172.599487   \n",
       "time_series_metric.SuboptimalArmsMetric                           0.5   \n",
       "time_series_metric.RegretMetric                             47.249599   \n",
       "\n",
       "                                                                      1  \\\n",
       "experiment_name                            01d-linear-reward-bandits-v1   \n",
       "run_name                                          lints-20240313-184305   \n",
       "run_type                                           system.ExperimentRun   \n",
       "state                                                          COMPLETE   \n",
       "param.agent_alpha                                                   0.1   \n",
       "param.training_loops                                               50.0   \n",
       "param.network                                                       N/A   \n",
       "param.forget                                                       0.98   \n",
       "param.batch_size                                                    8.0   \n",
       "param.runtime                                                       3.0   \n",
       "param.agent                              linear_thompson_sampling_agent   \n",
       "param.temp                                                         0.05   \n",
       "param.num_actions                                                   5.0   \n",
       "param.layers                                                [32, 16, 8]   \n",
       "param.epsilon                                                       N/A   \n",
       "param.context_dim                                                  15.0   \n",
       "param.per_arm                                                     False   \n",
       "metric.FinalRegret                                                 -0.0   \n",
       "time_series_metric.AverageReturnMetric                       -43.799366   \n",
       "time_series_metric.SuboptimalArmsMetric                             0.0   \n",
       "time_series_metric.RegretMetric                               -0.000332   \n",
       "\n",
       "                                                                    2  \n",
       "experiment_name                          01d-linear-reward-bandits-v1  \n",
       "run_name                                       linucb-20240313-183942  \n",
       "run_type                                         system.ExperimentRun  \n",
       "state                                                        COMPLETE  \n",
       "param.agent_alpha                                                 0.1  \n",
       "param.training_loops                                             50.0  \n",
       "param.network                                                     N/A  \n",
       "param.forget                                                     0.98  \n",
       "param.batch_size                                                  8.0  \n",
       "param.runtime                                                     3.0  \n",
       "param.agent                                          linear_ucb_agent  \n",
       "param.temp                                                       0.05  \n",
       "param.num_actions                                                 5.0  \n",
       "param.layers                                              [32, 16, 8]  \n",
       "param.epsilon                                                     N/A  \n",
       "param.context_dim                                                15.0  \n",
       "param.per_arm                                                   False  \n",
       "metric.FinalRegret                                                0.0  \n",
       "time_series_metric.AverageReturnMetric                     -43.300701  \n",
       "time_series_metric.SuboptimalArmsMetric                           0.0  \n",
       "time_series_metric.RegretMetric                              0.003699  "
      ]
     },
     "execution_count": 57,
     "metadata": {},
     "output_type": "execute_result"
    }
   ],
   "source": [
    "experiment_df = aiplatform.get_experiment_df()\n",
    "experiment_df = experiment_df[experiment_df.experiment_name == EXPERIMENT_NAME]\n",
    "experiment_df.T"
   ]
  },
  {
   "cell_type": "code",
   "execution_count": 58,
   "id": "aa4646ac-af1c-4356-88a0-e763baceb0fb",
   "metadata": {},
   "outputs": [
    {
     "name": "stdout",
     "output_type": "stream",
     "text": [
      "linucb-20240313-183942\n",
      "lints-20240313-184305\n",
      "epsgreedy-20240313-184653\n",
      "len(df_list)     : 3\n",
      "len(i_run_names) : 3\n"
     ]
    }
   ],
   "source": [
    "df_list = []\n",
    "i_run_names = []\n",
    "\n",
    "for i_run_name in all_run_names:\n",
    "    \n",
    "    print(i_run_name)\n",
    "    \n",
    "    experiment_run = aiplatform.ExperimentRun(\n",
    "        run_name=i_run_name,\n",
    "        experiment=EXPERIMENT_NAME, \n",
    "        project=PROJECT_ID, \n",
    "        location=LOCATION\n",
    "    )\n",
    "    \n",
    "    temp_df = experiment_run.get_time_series_data_frame()\n",
    "    temp_df = temp_df.groupby('step').agg(\n",
    "        {\n",
    "            \"AverageReturnMetric\": max,\n",
    "            \"RegretMetric\": max,\n",
    "            \"SuboptimalArmsMetric\": max,\n",
    "        }\n",
    "    )\n",
    "\n",
    "    df_list.append(temp_df)\n",
    "    i_run_names.append(i_run_name)\n",
    "\n",
    "print(f\"len(df_list)     : {len(df_list)}\")\n",
    "print(f\"len(i_run_names) : {len(i_run_names)}\")"
   ]
  },
  {
   "cell_type": "code",
   "execution_count": 59,
   "id": "8d6e595a-ebcc-4428-859e-02c9fcb53a1d",
   "metadata": {},
   "outputs": [
    {
     "name": "stdout",
     "output_type": "stream",
     "text": [
      "Metric table for run: linucb-20240313-183942\n",
      "\n",
      "len(df_list[0])     : 49\n"
     ]
    },
    {
     "data": {
      "text/html": [
       "<div>\n",
       "<style scoped>\n",
       "    .dataframe tbody tr th:only-of-type {\n",
       "        vertical-align: middle;\n",
       "    }\n",
       "\n",
       "    .dataframe tbody tr th {\n",
       "        vertical-align: top;\n",
       "    }\n",
       "\n",
       "    .dataframe thead th {\n",
       "        text-align: right;\n",
       "    }\n",
       "</style>\n",
       "<table border=\"1\" class=\"dataframe\">\n",
       "  <thead>\n",
       "    <tr style=\"text-align: right;\">\n",
       "      <th></th>\n",
       "      <th>AverageReturnMetric</th>\n",
       "      <th>RegretMetric</th>\n",
       "      <th>SuboptimalArmsMetric</th>\n",
       "    </tr>\n",
       "    <tr>\n",
       "      <th>step</th>\n",
       "      <th></th>\n",
       "      <th></th>\n",
       "      <th></th>\n",
       "    </tr>\n",
       "  </thead>\n",
       "  <tbody>\n",
       "    <tr>\n",
       "      <th>1</th>\n",
       "      <td>-148.104324</td>\n",
       "      <td>25.380543</td>\n",
       "      <td>0.75</td>\n",
       "    </tr>\n",
       "    <tr>\n",
       "      <th>2</th>\n",
       "      <td>-158.701538</td>\n",
       "      <td>42.500019</td>\n",
       "      <td>1.00</td>\n",
       "    </tr>\n",
       "    <tr>\n",
       "      <th>3</th>\n",
       "      <td>-45.700886</td>\n",
       "      <td>44.624905</td>\n",
       "      <td>1.00</td>\n",
       "    </tr>\n",
       "  </tbody>\n",
       "</table>\n",
       "</div>"
      ],
      "text/plain": [
       "      AverageReturnMetric  RegretMetric  SuboptimalArmsMetric\n",
       "step                                                         \n",
       "1             -148.104324     25.380543                  0.75\n",
       "2             -158.701538     42.500019                  1.00\n",
       "3              -45.700886     44.624905                  1.00"
      ]
     },
     "execution_count": 59,
     "metadata": {},
     "output_type": "execute_result"
    }
   ],
   "source": [
    "print(f\"Metric table for run: {i_run_names[0]}\\n\")\n",
    "print(f\"len(df_list[0])     : {len(df_list[0])}\")\n",
    "df_list[0].head(3)"
   ]
  },
  {
   "cell_type": "code",
   "execution_count": 60,
   "id": "f471302e-a42a-4dc8-ac7a-86fecf6b40b5",
   "metadata": {},
   "outputs": [
    {
     "name": "stdout",
     "output_type": "stream",
     "text": [
      "Metric table for run: lints-20240313-184305\n",
      "\n",
      "len(df_list[1])     : 49\n"
     ]
    },
    {
     "data": {
      "text/html": [
       "<div>\n",
       "<style scoped>\n",
       "    .dataframe tbody tr th:only-of-type {\n",
       "        vertical-align: middle;\n",
       "    }\n",
       "\n",
       "    .dataframe tbody tr th {\n",
       "        vertical-align: top;\n",
       "    }\n",
       "\n",
       "    .dataframe thead th {\n",
       "        text-align: right;\n",
       "    }\n",
       "</style>\n",
       "<table border=\"1\" class=\"dataframe\">\n",
       "  <thead>\n",
       "    <tr style=\"text-align: right;\">\n",
       "      <th></th>\n",
       "      <th>AverageReturnMetric</th>\n",
       "      <th>RegretMetric</th>\n",
       "      <th>SuboptimalArmsMetric</th>\n",
       "    </tr>\n",
       "    <tr>\n",
       "      <th>step</th>\n",
       "      <th></th>\n",
       "      <th></th>\n",
       "      <th></th>\n",
       "    </tr>\n",
       "  </thead>\n",
       "  <tbody>\n",
       "    <tr>\n",
       "      <th>1</th>\n",
       "      <td>-87.296608</td>\n",
       "      <td>48.870941</td>\n",
       "      <td>0.750</td>\n",
       "    </tr>\n",
       "    <tr>\n",
       "      <th>2</th>\n",
       "      <td>-185.104767</td>\n",
       "      <td>27.132473</td>\n",
       "      <td>0.500</td>\n",
       "    </tr>\n",
       "    <tr>\n",
       "      <th>3</th>\n",
       "      <td>-180.604218</td>\n",
       "      <td>57.752823</td>\n",
       "      <td>0.875</td>\n",
       "    </tr>\n",
       "  </tbody>\n",
       "</table>\n",
       "</div>"
      ],
      "text/plain": [
       "      AverageReturnMetric  RegretMetric  SuboptimalArmsMetric\n",
       "step                                                         \n",
       "1              -87.296608     48.870941                 0.750\n",
       "2             -185.104767     27.132473                 0.500\n",
       "3             -180.604218     57.752823                 0.875"
      ]
     },
     "execution_count": 60,
     "metadata": {},
     "output_type": "execute_result"
    }
   ],
   "source": [
    "print(f\"Metric table for run: {i_run_names[1]}\\n\")\n",
    "print(f\"len(df_list[1])     : {len(df_list[1])}\")\n",
    "df_list[1].head(3)"
   ]
  },
  {
   "cell_type": "code",
   "execution_count": 61,
   "id": "90ab1be5-4d2b-44ff-8c3f-592623b0740c",
   "metadata": {},
   "outputs": [
    {
     "name": "stdout",
     "output_type": "stream",
     "text": [
      "Metric table for run: epsgreedy-20240313-184653\n",
      "\n",
      "len(df_list[2])     : 49\n"
     ]
    },
    {
     "data": {
      "text/html": [
       "<div>\n",
       "<style scoped>\n",
       "    .dataframe tbody tr th:only-of-type {\n",
       "        vertical-align: middle;\n",
       "    }\n",
       "\n",
       "    .dataframe tbody tr th {\n",
       "        vertical-align: top;\n",
       "    }\n",
       "\n",
       "    .dataframe thead th {\n",
       "        text-align: right;\n",
       "    }\n",
       "</style>\n",
       "<table border=\"1\" class=\"dataframe\">\n",
       "  <thead>\n",
       "    <tr style=\"text-align: right;\">\n",
       "      <th></th>\n",
       "      <th>AverageReturnMetric</th>\n",
       "      <th>RegretMetric</th>\n",
       "      <th>SuboptimalArmsMetric</th>\n",
       "    </tr>\n",
       "    <tr>\n",
       "      <th>step</th>\n",
       "      <th></th>\n",
       "      <th></th>\n",
       "      <th></th>\n",
       "    </tr>\n",
       "  </thead>\n",
       "  <tbody>\n",
       "    <tr>\n",
       "      <th>1</th>\n",
       "      <td>-80.602882</td>\n",
       "      <td>64.126205</td>\n",
       "      <td>0.75</td>\n",
       "    </tr>\n",
       "    <tr>\n",
       "      <th>2</th>\n",
       "      <td>-19.498714</td>\n",
       "      <td>28.624956</td>\n",
       "      <td>0.50</td>\n",
       "    </tr>\n",
       "    <tr>\n",
       "      <th>3</th>\n",
       "      <td>-53.401146</td>\n",
       "      <td>41.501526</td>\n",
       "      <td>0.75</td>\n",
       "    </tr>\n",
       "  </tbody>\n",
       "</table>\n",
       "</div>"
      ],
      "text/plain": [
       "      AverageReturnMetric  RegretMetric  SuboptimalArmsMetric\n",
       "step                                                         \n",
       "1              -80.602882     64.126205                  0.75\n",
       "2              -19.498714     28.624956                  0.50\n",
       "3              -53.401146     41.501526                  0.75"
      ]
     },
     "execution_count": 61,
     "metadata": {},
     "output_type": "execute_result"
    }
   ],
   "source": [
    "print(f\"Metric table for run: {i_run_names[2]}\\n\")\n",
    "print(f\"len(df_list[2])     : {len(df_list[2])}\")\n",
    "df_list[2].head(3)"
   ]
  },
  {
   "cell_type": "markdown",
   "id": "0e7b6958-d56d-4263-8c90-73f248acc3c1",
   "metadata": {
    "tags": []
   },
   "source": [
    "## Clean up"
   ]
  },
  {
   "cell_type": "code",
   "execution_count": null,
   "id": "83bd0a53-3dc5-45a8-a9fc-cf93bb5ed182",
   "metadata": {},
   "outputs": [],
   "source": [
    "# # Delete experiment\n",
    "# exp = vertex_ai.Experiment(EXPERIMENT_NAME)\n",
    "# exp.delete(delete_backing_tensorboard_runs=True)\n",
    "\n",
    "# # Delete Tensorboard\n",
    "# vertex_ai_tb.delete()"
   ]
  }
 ],
 "metadata": {
  "environment": {
   "kernel": "conda-base-py",
   "name": "workbench-notebooks.m126",
   "type": "gcloud",
   "uri": "us-docker.pkg.dev/deeplearning-platform-release/gcr.io/workbench-notebooks:m126"
  },
  "kernelspec": {
   "display_name": "Python 3 (ipykernel) (Local)",
   "language": "python",
   "name": "conda-base-py"
  },
  "language_info": {
   "codemirror_mode": {
    "name": "ipython",
    "version": 3
   },
   "file_extension": ".py",
   "mimetype": "text/x-python",
   "name": "python",
   "nbconvert_exporter": "python",
   "pygments_lexer": "ipython3",
   "version": "3.10.15"
  }
 },
 "nbformat": 4,
 "nbformat_minor": 5
}
