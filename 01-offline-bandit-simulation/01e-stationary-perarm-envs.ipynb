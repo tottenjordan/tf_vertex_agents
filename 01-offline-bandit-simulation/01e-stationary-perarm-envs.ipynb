{
 "cells": [
  {
   "cell_type": "markdown",
   "id": "c6f6df3d-0777-4c26-bb69-bbe090ddbe70",
   "metadata": {},
   "source": [
    "# Train Contextual Bandits with simple linear, stationary simulation environment\n",
    "\n",
    "> In this notebook, we'll evaluate the performance of Contextual Bandits in stationary, stochastic environments. These are environments whose statistics (e.g., distribution of rewards) do not change over time\n",
    "\n",
    "* A linear  environment is an environment where the expected reward for each arm `k` is linearly related to the context features `x`\n",
    "* Train and evaluate linear and non-linear (neural) Contextual Bandit algorithms\n",
    "* We'll show that linear-based agents converge faster on such an environment, compared to non-linear agents, becasue the problem is linear (by the reward calculation construction)"
   ]
  },
  {
   "cell_type": "markdown",
   "id": "14ac7392-ccb3-4c22-b109-31904f45364f",
   "metadata": {},
   "source": [
    "### Per-arm environment\n",
    "In this example we will use the [StationaryStochasticPerArmPyEnvironment](https://github.com/tensorflow/agents/blob/master/tf_agents/bandits/environments/stationary_stochastic_per_arm_py_environment.py) environment to simulate offline training data for training a contextual bandit with **per-arm features**\n",
    "\n",
    "\n",
    "To initialize the per-arm environment, one has to define functions that generate:\n",
    "\n",
    "* *global and per-arm features*: These functions have no input parameters and generate a single (global or per-arm) feature vector when called.\n",
    "\n",
    "* *rewards*: This function takes as parameter the concatenation of a global and a per-arm feature vector, and generates a reward. Basically this is the function that the agent will have to \"guess\". \n",
    "\n",
    "It is worth noting here that in the per-arm case the reward function is identical for every arm. This is a fundamental difference from the classic bandit case, where the agent has to estimate reward functions for each arm independently."
   ]
  },
  {
   "cell_type": "markdown",
   "id": "cd4f45fa-b534-499a-a0b5-a29b8b57d701",
   "metadata": {},
   "source": [
    "## Load notebook config\n",
    "\n",
    "* use the prefix defined in `00-env-setup`"
   ]
  },
  {
   "cell_type": "code",
   "execution_count": 1,
   "id": "2e198023-ff4e-464c-92ab-aefdef472ead",
   "metadata": {
    "tags": []
   },
   "outputs": [
    {
     "name": "stdout",
     "output_type": "stream",
     "text": [
      "PREFIX: rec-bandits-v2\n"
     ]
    }
   ],
   "source": [
    "VERSION        = \"v2\"                       # TODO\n",
    "PREFIX         = f'rec-bandits-{VERSION}'   # TODO\n",
    "\n",
    "print(f\"PREFIX: {PREFIX}\")"
   ]
  },
  {
   "cell_type": "code",
   "execution_count": 2,
   "id": "a9908f71-9e57-47b8-b6cf-04792e7cea2b",
   "metadata": {
    "tags": []
   },
   "outputs": [
    {
     "name": "stdout",
     "output_type": "stream",
     "text": [
      "\n",
      "PROJECT_ID               = \"hybrid-vertex\"\n",
      "PROJECT_NUM              = \"934903580331\"\n",
      "LOCATION                 = \"us-central1\"\n",
      "\n",
      "REGION                   = \"us-central1\"\n",
      "BQ_LOCATION              = \"US\"\n",
      "VPC_NETWORK_NAME         = \"ucaip-haystack-vpc-network\"\n",
      "VERTEX_SA                = \"934903580331-compute@developer.gserviceaccount.com\"\n",
      "\n",
      "PREFIX                   = \"rec-bandits-v2\"\n",
      "VERSION                  = \"v2\"\n",
      "\n",
      "BUCKET_NAME              = \"rec-bandits-v2-hybrid-vertex-bucket\"\n",
      "BUCKET_URI               = \"gs://rec-bandits-v2-hybrid-vertex-bucket\"\n",
      "DATA_GCS_PREFIX          = \"data\"\n",
      "DATA_PATH                = \"gs://rec-bandits-v2-hybrid-vertex-bucket/data\"\n",
      "VOCAB_SUBDIR             = \"vocabs\"\n",
      "VOCAB_FILENAME           = \"vocab_dict.pkl\"\n",
      "\n",
      "VPC_NETWORK_FULL         = \"projects/934903580331/global/networks/ucaip-haystack-vpc-network\"\n",
      "\n",
      "BIGQUERY_DATASET_NAME    = \"mvlens_rec_bandits_v2\"\n",
      "BIGQUERY_TABLE_NAME      = \"training_dataset\"\n",
      "\n",
      "REPOSITORY               = \"rl-movielens-rec-bandits-v2\"\n",
      "\n",
      "DOCKERNAME_01            = \"Dockerfile_train_my_perarm_env\"\n",
      "IMAGE_NAME_01            = \"train-my-perarm-env-v2\"\n",
      "IMAGE_URI_01             = \"gcr.io/hybrid-vertex/train-my-perarm-env-v2\"\n",
      "\n",
      "DOCKERNAME_02            = \"Dockerfile_perarm_feats\"\n",
      "IMAGE_NAME_02            = \"train-perarm-feats-v2\"\n",
      "IMAGE_URI_02             = \"gcr.io/hybrid-vertex/train-perarm-feats-v2\"\n",
      "\n",
      "DOCKERNAME_03            = \"Dockerfile_ranking_bandit\"\n",
      "IMAGE_NAME_03            = \"train-rank-bandit-v2\"\n",
      "IMAGE_URI_03             = \"gcr.io/hybrid-vertex/train-rank-bandit-v2\"\n",
      "\n",
      "DOCKERNAME_04            = \"Dockerfile_train_bandit_e2e\"\n",
      "IMAGE_NAME_04            = \"train-mab-e2e-v2\"\n",
      "IMAGE_URI_04             = \"gcr.io/hybrid-vertex/train-mab-e2e-v2\"\n",
      "\n",
      "DOCKERNAME_04_pred       = \"Dockerfile_pred_bandit_e2e\"\n",
      "IMAGE_NAME_04_pred       = \"pred-mab-e2e-v2\"\n",
      "IMAGE_URI_04_pred        = \"gcr.io/hybrid-vertex/pred-mab-e2e-v2\"\n",
      "\n",
      "REMOTE_IMAGE_NAME        = \"us-central1-docker.pkg.dev/hybrid-vertex/rl-movielens-rec-bandits-v2/local_docker_tfa\"\n",
      "REPO_DOCKER_PATH_PREFIX  = \"src\"\n",
      "\n"
     ]
    }
   ],
   "source": [
    "# staging GCS\n",
    "GCP_PROJECTS             = !gcloud config get-value project\n",
    "PROJECT_ID               = GCP_PROJECTS[0]\n",
    "\n",
    "# GCS bucket and paths\n",
    "BUCKET_NAME              = f'{PREFIX}-{PROJECT_ID}-bucket'\n",
    "BUCKET_URI               = f'gs://{BUCKET_NAME}'\n",
    "\n",
    "config = !gsutil cat {BUCKET_URI}/config/notebook_env.py\n",
    "print(config.n)\n",
    "exec(config.n)"
   ]
  },
  {
   "cell_type": "markdown",
   "id": "28954e08-7a8f-472b-84ee-07ddcc1f627a",
   "metadata": {},
   "source": [
    "## imports"
   ]
  },
  {
   "cell_type": "code",
   "execution_count": 3,
   "id": "5c309527-3f86-426a-ab08-71f170bdf091",
   "metadata": {
    "tags": []
   },
   "outputs": [],
   "source": [
    "import os\n",
    "os.environ['TF_CPP_MIN_LOG_LEVEL'] = '2'"
   ]
  },
  {
   "cell_type": "code",
   "execution_count": 4,
   "id": "451b6a26-aa56-4c4c-bbea-42c8a613538b",
   "metadata": {
    "tags": []
   },
   "outputs": [],
   "source": [
    "import functools\n",
    "from collections import defaultdict\n",
    "from typing import Callable, Dict, List, Optional, TypeVar\n",
    "from datetime import datetime\n",
    "import time\n",
    "from pprint import pprint\n",
    "import pickle as pkl\n",
    "\n",
    "from tqdm import tqdm\n",
    "\n",
    "# logging\n",
    "import logging\n",
    "logging.disable(logging.WARNING)\n",
    "\n",
    "import warnings\n",
    "warnings.filterwarnings('ignore')\n",
    "\n",
    "import matplotlib.pyplot as plt\n",
    "import numpy as np\n",
    "\n",
    "# google cloud\n",
    "from google.cloud import aiplatform, storage\n",
    "\n",
    "# tensorflow\n",
    "import tensorflow as tf\n",
    "# from tf_agents.agents import TFAgent\n",
    "\n",
    "from tf_agents.bandits.environments import stationary_stochastic_per_arm_py_environment as p_a_env\n",
    "from tf_agents.bandits.metrics import tf_metrics as tf_bandit_metrics\n",
    "from tf_agents.drivers import dynamic_step_driver\n",
    "from tf_agents.environments import tf_py_environment\n",
    "from tf_agents.replay_buffers import tf_uniform_replay_buffer\n",
    "from tf_agents.specs import tensor_spec\n",
    "from tf_agents.trajectories import time_step as ts\n",
    "\n",
    "from tf_agents.bandits.agents import lin_ucb_agent\n",
    "from tf_agents.bandits.agents import linear_thompson_sampling_agent as lin_ts_agent\n",
    "from tf_agents.bandits.agents import neural_epsilon_greedy_agent\n",
    "from tf_agents.bandits.agents import neural_linucb_agent\n",
    "from tf_agents.bandits.networks import global_and_arm_feature_network\n",
    "from tf_agents.bandits.policies import policy_utilities\n",
    "\n",
    "from tf_agents.bandits.specs import utils as bandit_spec_utils\n",
    "from tf_agents.trajectories import trajectory\n",
    "\n",
    "from tf_agents.bandits.replay_buffers import bandit_replay_buffer\n",
    "from tf_agents.drivers import dynamic_step_driver\n",
    "from tf_agents.eval import metric_utils\n",
    "# from tf_agents.google.metrics import export_utils\n",
    "from tf_agents.metrics import export_utils\n",
    "from tf_agents.metrics import tf_metrics\n",
    "from tf_agents.policies import policy_saver\n",
    "\n",
    "# GPU\n",
    "from numba import cuda \n",
    "import gc\n",
    "\n",
    "import sys\n",
    "sys.path.append(\"..\")\n",
    "\n",
    "# this repo\n",
    "from src.utils import policy_util\n",
    "from src.data import data_utils, data_config\n",
    "from src.agents import agent_factory as agent_factory\n",
    "from src.networks import encoding_network as emb_features\n",
    "\n",
    "# tf exceptions and vars\n",
    "if tf.__version__[0] != \"2\":\n",
    "    raise Exception(\"The trainer only runs with TensorFlow version 2.\")\n",
    "\n",
    "T = TypeVar(\"T\")"
   ]
  },
  {
   "cell_type": "code",
   "execution_count": 5,
   "id": "ca46f859-9128-4fe8-8019-268b75aa5412",
   "metadata": {
    "tags": []
   },
   "outputs": [
    {
     "name": "stdout",
     "output_type": "stream",
     "text": [
      "/home/jupyter/tf_vertex_agents/01-offline-bandit-simulation\n"
     ]
    }
   ],
   "source": [
    "!pwd"
   ]
  },
  {
   "cell_type": "code",
   "execution_count": 6,
   "id": "623b22ed-3ea4-4c38-ace7-e5a2668a8526",
   "metadata": {
    "tags": []
   },
   "outputs": [
    {
     "name": "stdout",
     "output_type": "stream",
     "text": [
      "Num GPUs Available:  1\n"
     ]
    }
   ],
   "source": [
    "print(\"Num GPUs Available: \", len(tf.config.list_physical_devices('GPU')))"
   ]
  },
  {
   "cell_type": "code",
   "execution_count": 8,
   "id": "b0088156-3897-40cf-81fe-2b31fcfb0f74",
   "metadata": {
    "tags": []
   },
   "outputs": [
    {
     "data": {
      "text/plain": [
       "14"
      ]
     },
     "execution_count": 8,
     "metadata": {},
     "output_type": "execute_result"
    }
   ],
   "source": [
    "device = cuda.get_current_device()\n",
    "device.reset()\n",
    "gc.collect()"
   ]
  },
  {
   "cell_type": "code",
   "execution_count": 9,
   "id": "7adaff25-dece-4ccf-8e42-50762702c569",
   "metadata": {
    "tags": []
   },
   "outputs": [],
   "source": [
    "# cloud storage client\n",
    "storage_client = storage.Client(project=PROJECT_ID)\n",
    "\n",
    "# Vertex client\n",
    "aiplatform.init(project=PROJECT_ID, location=LOCATION)"
   ]
  },
  {
   "cell_type": "markdown",
   "id": "380b558c-e411-4a1f-9a88-f47a5bd6c69e",
   "metadata": {},
   "source": [
    "# Data prep"
   ]
  },
  {
   "cell_type": "markdown",
   "id": "b634a4da-4448-4b0c-aa9d-f7618be93c5e",
   "metadata": {},
   "source": [
    "## Read TF Records (for testing)"
   ]
  },
  {
   "cell_type": "code",
   "execution_count": 10,
   "id": "567c7360-e18c-40e1-99c1-be20d51bca74",
   "metadata": {
    "tags": []
   },
   "outputs": [
    {
     "name": "stdout",
     "output_type": "stream",
     "text": [
      "GCS_DATA_PATH: gs://rec-bandits-v2-hybrid-vertex-bucket/data/movielens/m1m\n",
      "gs://rec-bandits-v2-hybrid-vertex-bucket/data/movielens/m1m/action-embeddings/\n",
      "gs://rec-bandits-v2-hybrid-vertex-bucket/data/movielens/m1m/mv_b128_g12_a16/\n",
      "gs://rec-bandits-v2-hybrid-vertex-bucket/data/movielens/m1m/mv_b128_g12_a16_v4/\n",
      "gs://rec-bandits-v2-hybrid-vertex-bucket/data/movielens/m1m/mv_b128_g12_a16_v5/\n",
      "gs://rec-bandits-v2-hybrid-vertex-bucket/data/movielens/m1m/mv_b128_g12_a16_v6/\n",
      "gs://rec-bandits-v2-hybrid-vertex-bucket/data/movielens/m1m/mv_b128_g12_a16_v7/\n",
      "gs://rec-bandits-v2-hybrid-vertex-bucket/data/movielens/m1m/train/\n",
      "gs://rec-bandits-v2-hybrid-vertex-bucket/data/movielens/m1m/val/\n",
      "gs://rec-bandits-v2-hybrid-vertex-bucket/data/movielens/m1m/vocabs/\n"
     ]
    }
   ],
   "source": [
    "EXAMPLE_GEN_GCS_PATH = data_config.EXAMPLE_GEN_GCS_PATH\n",
    "GCS_DATA_PATH = f\"{BUCKET_URI}/{EXAMPLE_GEN_GCS_PATH}\"\n",
    "\n",
    "print(f\"GCS_DATA_PATH: {GCS_DATA_PATH}\")\n",
    "\n",
    "!gsutil ls $GCS_DATA_PATH"
   ]
  },
  {
   "cell_type": "code",
   "execution_count": 11,
   "id": "46484443-2bba-474b-9c2c-226bc8a67357",
   "metadata": {
    "tags": []
   },
   "outputs": [],
   "source": [
    "options = tf.data.Options()\n",
    "options.experimental_distribute.auto_shard_policy = tf.data.experimental.AutoShardPolicy.AUTO"
   ]
  },
  {
   "cell_type": "code",
   "execution_count": 12,
   "id": "31ab8fe2-a423-43de-bec2-753521f7f5aa",
   "metadata": {
    "tags": []
   },
   "outputs": [
    {
     "data": {
      "text/plain": [
       "['gs://rec-bandits-v2-hybrid-vertex-bucket/data/movielens/m1m/val/ml-1m-gen-001-of-003.tfrecord',\n",
       " 'gs://rec-bandits-v2-hybrid-vertex-bucket/data/movielens/m1m/val/ml-1m-gen-002-of-003.tfrecord',\n",
       " 'gs://rec-bandits-v2-hybrid-vertex-bucket/data/movielens/m1m/val/ml-1m-gen-003-of-003.tfrecord']"
      ]
     },
     "execution_count": 12,
     "metadata": {},
     "output_type": "execute_result"
    }
   ],
   "source": [
    "SPLIT = \"val\" # \"train\" | \"val\"\n",
    "\n",
    "train_files = []\n",
    "for blob in storage_client.list_blobs(f\"{BUCKET_NAME}\", prefix=f'{EXAMPLE_GEN_GCS_PATH}/{SPLIT}'):\n",
    "    if '.tfrecord' in blob.name:\n",
    "        train_files.append(blob.public_url.replace(\"https://storage.googleapis.com/\", \"gs://\"))\n",
    "        \n",
    "train_files"
   ]
  },
  {
   "cell_type": "code",
   "execution_count": 13,
   "id": "3245e4d3-ef41-4c87-98c5-2c749224623f",
   "metadata": {
    "tags": []
   },
   "outputs": [
    {
     "name": "stdout",
     "output_type": "stream",
     "text": [
      "{'target_movie_genres': <tf.Tensor: shape=(1, 10), dtype=string, numpy=\n",
      "array([[b'Animation', b\"Children's\", b'Comedy', b'Musical', b'Romance',\n",
      "        b'UNK', b'UNK', b'UNK', b'UNK', b'UNK']], dtype=object)>,\n",
      " 'target_movie_id': <tf.Tensor: shape=(1,), dtype=string, numpy=array([b'2012'], dtype=object)>,\n",
      " 'target_movie_rating': <tf.Tensor: shape=(1,), dtype=float32, numpy=array([4.], dtype=float32)>,\n",
      " 'target_movie_title': <tf.Tensor: shape=(1,), dtype=string, numpy=array([b'Little Mermaid, The (1989)'], dtype=object)>,\n",
      " 'target_movie_year': <tf.Tensor: shape=(1,), dtype=int64, numpy=array([1989])>,\n",
      " 'target_rating_timestamp': <tf.Tensor: shape=(1,), dtype=int64, numpy=array([973200386])>,\n",
      " 'user_age': <tf.Tensor: shape=(1,), dtype=int64, numpy=array([25])>,\n",
      " 'user_gender': <tf.Tensor: shape=(1,), dtype=string, numpy=array([b'F'], dtype=object)>,\n",
      " 'user_id': <tf.Tensor: shape=(1,), dtype=string, numpy=array([b'2749'], dtype=object)>,\n",
      " 'user_occupation_text': <tf.Tensor: shape=(1,), dtype=string, numpy=array([b'scientist'], dtype=object)>,\n",
      " 'user_zip_code': <tf.Tensor: shape=(1,), dtype=string, numpy=array([b'91360'], dtype=object)>}\n"
     ]
    }
   ],
   "source": [
    "train_dataset = tf.data.TFRecordDataset(train_files)\n",
    "train_dataset = train_dataset.map(data_utils._parse_function)\n",
    "\n",
    "for x in train_dataset.batch(1).take(1):\n",
    "    pprint(x)"
   ]
  },
  {
   "cell_type": "markdown",
   "id": "23aa5ff5-64b9-479d-85e8-495f5d085439",
   "metadata": {},
   "source": [
    "### get vocab"
   ]
  },
  {
   "cell_type": "code",
   "execution_count": 14,
   "id": "1977de25-fabb-47be-a9df-c7dfeee83e0d",
   "metadata": {
    "tags": []
   },
   "outputs": [
    {
     "name": "stdout",
     "output_type": "stream",
     "text": [
      "Downloading vocab...\n",
      "Downloaded vocab from: gs://rec-bandits-v2-hybrid-vertex-bucket/data/movielens/m1m/vocabs/vocab_dict.pkl\n",
      "\n",
      "'movie_id'\n",
      "'movie_year'\n",
      "'movie_genre'\n",
      "'movie_title'\n",
      "'user_id'\n",
      "'user_gender_vocab'\n",
      "'user_age_vocab'\n",
      "'user_occ_vocab'\n",
      "'user_zip_vocab'\n",
      "'min_timestamp'\n",
      "'max_timestamp'\n",
      "'timestamp_buckets'\n"
     ]
    }
   ],
   "source": [
    "EXISTING_VOCAB_FILE = f'gs://{BUCKET_NAME}/{EXAMPLE_GEN_GCS_PATH}/vocabs/{VOCAB_FILENAME}'\n",
    "print(f\"Downloading vocab...\")\n",
    "\n",
    "os.system(f'gsutil -q cp {EXISTING_VOCAB_FILE} .')\n",
    "print(f\"Downloaded vocab from: {EXISTING_VOCAB_FILE}\\n\")\n",
    "\n",
    "filehandler = open(VOCAB_FILENAME, 'rb')\n",
    "vocab_dict = pkl.load(filehandler)\n",
    "filehandler.close()\n",
    "\n",
    "for key in vocab_dict.keys():\n",
    "    pprint(key)"
   ]
  },
  {
   "cell_type": "markdown",
   "id": "4abf9a90-99d2-4ff9-b952-70de43b2e14a",
   "metadata": {},
   "source": [
    "# Global & Per-Arm feature embedding models "
   ]
  },
  {
   "cell_type": "code",
   "execution_count": 15,
   "id": "c6e89ea9-8bff-496f-ac04-cf18a54ae5a6",
   "metadata": {
    "tags": []
   },
   "outputs": [],
   "source": [
    "# from src.perarm_features import emb_feature as emb_features # tmp"
   ]
  },
  {
   "cell_type": "code",
   "execution_count": 16,
   "id": "6c74e2e7-23d4-4652-a54b-b9c335285856",
   "metadata": {
    "tags": []
   },
   "outputs": [
    {
     "name": "stdout",
     "output_type": "stream",
     "text": [
      "EXPECTED_GLOBAL_DIM: 48\n",
      "EXPECTED_PER_ARM_DIM: 64\n",
      "EXPECTED_GLOBAL_LAYERS      : [48, 24, 12]\n",
      "EXPECTED_ARM_LAYERS         : [64, 32, 16]\n",
      "EXPECTED_COMMON_LAYERS      : [28, 14]\n"
     ]
    }
   ],
   "source": [
    "NUM_OOV_BUCKETS        = 1\n",
    "GLOBAL_EMBEDDING_SIZE  = 8\n",
    "MV_EMBEDDING_SIZE      = 16\n",
    "\n",
    "NUM_GLOBAL_FEATURES = len(data_utils.USER_FEATURE_NAMES)     # 6\n",
    "NUM_ARM_FEATURES    = len(data_utils.MOVIE_FEATURE_NAMES)    # 5\n",
    "EXPECTED_GLOBAL_DIM  = GLOBAL_EMBEDDING_SIZE * NUM_GLOBAL_FEATURES\n",
    "EXPECTED_PER_ARM_DIM = MV_EMBEDDING_SIZE * NUM_ARM_FEATURES\n",
    "print(f\"EXPECTED_GLOBAL_DIM: {EXPECTED_GLOBAL_DIM}\")\n",
    "print(f\"EXPECTED_PER_ARM_DIM: {EXPECTED_PER_ARM_DIM}\")\n",
    "\n",
    "EXPECTED_GLOBAL_LAYERS   = [\n",
    "    EXPECTED_GLOBAL_DIM, \n",
    "    int(EXPECTED_GLOBAL_DIM/2), \n",
    "    int(EXPECTED_GLOBAL_DIM/4)\n",
    "]\n",
    "EXPECTED_ARM_LAYERS      = [\n",
    "    EXPECTED_PER_ARM_DIM, \n",
    "    int(EXPECTED_PER_ARM_DIM/2), \n",
    "    int(EXPECTED_PER_ARM_DIM/4)\n",
    "]\n",
    "EXPECTED_FIRST_COMMON_LAYER = EXPECTED_GLOBAL_LAYERS[-1] + EXPECTED_ARM_LAYERS[-1]\n",
    "EXPECTED_COMMON_LAYERS = [\n",
    "    int(EXPECTED_FIRST_COMMON_LAYER), \n",
    "    int(EXPECTED_FIRST_COMMON_LAYER/2), \n",
    "    # int(EXPECTED_FIRST_COMMON_LAYER/4)\n",
    "]\n",
    "print(f\"EXPECTED_GLOBAL_LAYERS      : {EXPECTED_GLOBAL_LAYERS}\")\n",
    "print(f\"EXPECTED_ARM_LAYERS         : {EXPECTED_ARM_LAYERS}\")\n",
    "print(f\"EXPECTED_COMMON_LAYERS      : {EXPECTED_COMMON_LAYERS}\")"
   ]
  },
  {
   "cell_type": "code",
   "execution_count": 17,
   "id": "e51dd01f-918e-484c-a470-15b64aea776a",
   "metadata": {
    "tags": []
   },
   "outputs": [],
   "source": [
    "# test emb models\n",
    "for i in range(1):\n",
    "    \n",
    "    iterator = iter(train_dataset.batch(1))\n",
    "    data = next(iterator)\n",
    "\n",
    "# data"
   ]
  },
  {
   "cell_type": "code",
   "execution_count": 18,
   "id": "e30c3ecb-cf5a-4822-8b2d-32c1aac898b7",
   "metadata": {
    "tags": []
   },
   "outputs": [
    {
     "data": {
      "text/plain": [
       "<src.networks.encoding_network.EmbeddingModel at 0x7f84f2d1f2e0>"
      ]
     },
     "execution_count": 18,
     "metadata": {},
     "output_type": "execute_result"
    }
   ],
   "source": [
    "embs = emb_features.EmbeddingModel(\n",
    "    vocab_dict = vocab_dict,\n",
    "    num_oov_buckets = NUM_OOV_BUCKETS,\n",
    "    global_emb_size = GLOBAL_EMBEDDING_SIZE,\n",
    "    mv_emb_size = MV_EMBEDDING_SIZE,\n",
    "    max_genre_length = data_config.MAX_GENRE_LENGTH\n",
    ")\n",
    "\n",
    "embs"
   ]
  },
  {
   "cell_type": "code",
   "execution_count": 19,
   "id": "05aa3547-8d4a-4c07-99d7-d3eda127e366",
   "metadata": {
    "tags": []
   },
   "outputs": [
    {
     "name": "stdout",
     "output_type": "stream",
     "text": [
      "GLOBAL_DIM: 48\n"
     ]
    },
    {
     "data": {
      "text/plain": [
       "<tf.Tensor: shape=(1, 48), dtype=float32, numpy=\n",
       "array([[ 0.03550036,  0.01731533, -0.03978125,  0.01874312, -0.0038344 ,\n",
       "        -0.03336596,  0.01778824,  0.04830175, -0.01753397,  0.0040573 ,\n",
       "        -0.01028163,  0.04428658, -0.00746302,  0.01691324, -0.00794927,\n",
       "        -0.03885757, -0.01825232, -0.04766802, -0.03006848,  0.04394672,\n",
       "         0.00674511, -0.02479986, -0.01803653, -0.04812895,  0.03827614,\n",
       "        -0.03791507, -0.02425692,  0.03472933,  0.03134836,  0.04239199,\n",
       "        -0.02438303,  0.00321413,  0.04131898, -0.03339032,  0.0202208 ,\n",
       "        -0.04571062,  0.02636274, -0.04394542, -0.04560263,  0.02085142,\n",
       "        -0.03818982, -0.01287759, -0.03224362, -0.01536641,  0.02314736,\n",
       "         0.02948577,  0.0111272 ,  0.01876749]], dtype=float32)>"
      ]
     },
     "execution_count": 19,
     "metadata": {},
     "output_type": "execute_result"
    }
   ],
   "source": [
    "test_globals = embs._get_global_context_features(data)\n",
    "\n",
    "GLOBAL_DIM = test_globals.shape[1]            \n",
    "# shape checks out at batch_dim, nactions, arm feats\n",
    "print(f\"GLOBAL_DIM: {GLOBAL_DIM}\")\n",
    "\n",
    "test_globals"
   ]
  },
  {
   "cell_type": "code",
   "execution_count": 20,
   "id": "ab464f9c-8c5c-4710-acbf-6026e3f94a20",
   "metadata": {
    "tags": []
   },
   "outputs": [
    {
     "name": "stdout",
     "output_type": "stream",
     "text": [
      "PER_ARM_DIM: 64\n"
     ]
    },
    {
     "data": {
      "text/plain": [
       "<tf.Tensor: shape=(1, 64), dtype=float32, numpy=\n",
       "array([[ 0.01002486, -0.04383309,  0.04623233,  0.01555018,  0.04327723,\n",
       "        -0.03532438,  0.00176246,  0.00974243, -0.02478372,  0.01745776,\n",
       "         0.00104468,  0.02477149, -0.02248683, -0.04108915, -0.00766801,\n",
       "         0.03532412, -0.03926522, -0.02776006,  0.02954669, -0.00035161,\n",
       "         0.01939535, -0.03072044, -0.03413245, -0.04269062,  0.02764543,\n",
       "        -0.01064493,  0.04009312,  0.01257156,  0.03595196,  0.02881234,\n",
       "        -0.0294647 ,  0.03248973,  0.00664924,  0.02459118, -0.01932558,\n",
       "        -0.03857942, -0.02142439, -0.04112445, -0.034876  , -0.04838977,\n",
       "        -0.03873003,  0.03286084, -0.00169672, -0.02437301,  0.04185465,\n",
       "        -0.00813793,  0.00613487, -0.03551369, -0.31257877, -0.29547882,\n",
       "        -0.2707994 ,  0.01963731, -0.22862116, -0.07780953,  0.26325667,\n",
       "         0.12580194,  0.22885154,  0.23683012, -0.1783251 , -0.11061694,\n",
       "         0.09106117, -0.00099419, -0.22898737,  0.26427513]],\n",
       "      dtype=float32)>"
      ]
     },
     "execution_count": 20,
     "metadata": {},
     "output_type": "execute_result"
    }
   ],
   "source": [
    "test_arms = embs._get_per_arm_features(data)\n",
    "\n",
    "PER_ARM_DIM = test_arms.shape[1]\n",
    "# shape checks out at batch_dim, nactions, arm feats\n",
    "print(f\"PER_ARM_DIM: {PER_ARM_DIM}\")\n",
    "\n",
    "test_arms"
   ]
  },
  {
   "cell_type": "markdown",
   "id": "e448de36-168b-487c-bcaa-91335a07dec9",
   "metadata": {},
   "source": [
    "# Sampling and reward functions"
   ]
  },
  {
   "cell_type": "markdown",
   "id": "c9f5b1bc-c0a4-4859-80e8-d9627102d24c",
   "metadata": {},
   "source": [
    "The preproccesing layers will ultimately feed the two sampling functions described below. These sampling functions will be used to create [trajectories](https://github.com/tensorflow/agents/blob/master/tf_agents/trajectories/trajectory.py#L36) (i.e., the training examples for our model)\n",
    "\n",
    "`global_context_sampling_fn`: \n",
    "* A function that outputs a random 1d array or list of ints or floats\n",
    "* This output is the global context. Its shape and type must be consistent across calls.\n",
    "\n",
    "`arm_context_sampling_fn`: \n",
    "* A function that outputs a random 1 array or list of ints or floats (same type as the output of `global_context_sampling_fn`). \n",
    "* This output is the per-arm context. Its shape must be consistent across calls.\n",
    "\n",
    "`reward_fn`: function takes the concatenation of a global and a per-arm feature, and outputs a possibly random reward."
   ]
  },
  {
   "cell_type": "code",
   "execution_count": 21,
   "id": "b58bda81-3666-4745-addc-20c2204a650c",
   "metadata": {
    "tags": []
   },
   "outputs": [],
   "source": [
    "BATCH_SIZE      = 128\n",
    "EVAL_BATCH_SIZE = 1\n",
    "NUM_ACTIONS     = 5"
   ]
  },
  {
   "cell_type": "markdown",
   "id": "0a848199-4867-4e3c-a2a3-dc353ff19b84",
   "metadata": {},
   "source": [
    "## Sampling global context"
   ]
  },
  {
   "cell_type": "code",
   "execution_count": 22,
   "id": "a69d014a-a912-44c1-8d3f-6e2502a43453",
   "metadata": {
    "tags": []
   },
   "outputs": [
    {
     "data": {
      "text/plain": [
       "array([ 0., -1., -1., -1.,  0.,  0., -1., -1.,  0., -1., -1., -1.,  0.,\n",
       "        0.,  0.,  0.,  0.,  0., -1., -1., -1.,  0.,  0.,  0., -1.,  0.,\n",
       "        0., -1., -1., -1.,  0.,  0., -1., -1., -1., -1.,  0., -1.,  0.,\n",
       "       -1., -1.,  0.,  0.,  0., -1.,  0.,  0.,  0.], dtype=float32)"
      ]
     },
     "execution_count": 22,
     "metadata": {},
     "output_type": "execute_result"
    }
   ],
   "source": [
    "def example_global_context_sampling_fn():\n",
    "    # return np.random.randint(0, 10, [2])  # 2-dimensional global features.\n",
    "    return np.random.randint(-1, 1, [GLOBAL_DIM]).astype(np.float32)\n",
    "\n",
    "example_global_context_sampling_fn()"
   ]
  },
  {
   "cell_type": "code",
   "execution_count": 23,
   "id": "6764bf5d-426b-4048-95a8-a18fa9868983",
   "metadata": {
    "tags": []
   },
   "outputs": [],
   "source": [
    "global_iterator = iter(train_dataset.batch(1).repeat())\n",
    "\n",
    "def global_context_sampling_fn():\n",
    "    \n",
    "    data = next(global_iterator)\n",
    "    \n",
    "    return embs._get_global_context_features(data)[0].numpy()"
   ]
  },
  {
   "cell_type": "code",
   "execution_count": 24,
   "id": "a0ea939e-96c3-4682-a478-08352d928929",
   "metadata": {
    "tags": []
   },
   "outputs": [
    {
     "name": "stdout",
     "output_type": "stream",
     "text": [
      "shape: (48,)\n"
     ]
    },
    {
     "data": {
      "text/plain": [
       "array([ 0.03550036,  0.01731533, -0.03978125,  0.01874312, -0.0038344 ,\n",
       "       -0.03336596,  0.01778824,  0.04830175, -0.01753397,  0.0040573 ,\n",
       "       -0.01028163,  0.04428658, -0.00746302,  0.01691324, -0.00794927,\n",
       "       -0.03885757, -0.01825232, -0.04766802, -0.03006848,  0.04394672,\n",
       "        0.00674511, -0.02479986, -0.01803653, -0.04812895,  0.03827614,\n",
       "       -0.03791507, -0.02425692,  0.03472933,  0.03134836,  0.04239199,\n",
       "       -0.02438303,  0.00321413,  0.04131898, -0.03339032,  0.0202208 ,\n",
       "       -0.04571062,  0.02636274, -0.04394542, -0.04560263,  0.02085142,\n",
       "       -0.03818982, -0.01287759, -0.03224362, -0.01536641,  0.02314736,\n",
       "        0.02948577,  0.0111272 ,  0.01876749], dtype=float32)"
      ]
     },
     "execution_count": 24,
     "metadata": {},
     "output_type": "execute_result"
    }
   ],
   "source": [
    "test_global_sampling = global_context_sampling_fn()\n",
    "print(f\"shape: {test_global_sampling.shape}\")\n",
    "\n",
    "test_global_sampling"
   ]
  },
  {
   "cell_type": "markdown",
   "id": "edbd1a57-aad1-4929-ae9f-0f2e7ea6c49f",
   "metadata": {},
   "source": [
    "## Sampling arm context"
   ]
  },
  {
   "cell_type": "code",
   "execution_count": 25,
   "id": "3ddfb64e-f139-44ab-a60d-b91f4d13a89c",
   "metadata": {
    "tags": []
   },
   "outputs": [
    {
     "data": {
      "text/plain": [
       "array([ 0., -1., -1., -1.,  1.,  0.,  1.,  2.,  2.,  0., -2.,  0., -2.,\n",
       "        2.,  1., -1.,  1.,  2., -2.,  0.,  0., -1., -2.,  0.,  2.,  2.,\n",
       "        2.,  2., -2., -1., -2.,  0.,  0., -1., -2., -2.,  2.,  2.,  2.,\n",
       "        1.,  1., -2.,  2.,  1., -2.,  0., -2.,  1.,  0.,  2.,  0.,  2.,\n",
       "       -1., -1., -2.,  0.,  0., -2.,  1.,  2.,  1.,  2.,  2.,  2.],\n",
       "      dtype=float32)"
      ]
     },
     "execution_count": 25,
     "metadata": {},
     "output_type": "execute_result"
    }
   ],
   "source": [
    "def example_arm_context_sampling_fn():\n",
    "    # return np.random.randint(-3, 4, [3])  # 3-dimensional arm features.\n",
    "    return np.random.randint(-2, 3, [PER_ARM_DIM]).astype(np.float32)\n",
    "\n",
    "example_arm_context_sampling_fn()"
   ]
  },
  {
   "cell_type": "code",
   "execution_count": 26,
   "id": "932b3267-78a1-4244-85f6-92726ad132ba",
   "metadata": {
    "tags": []
   },
   "outputs": [],
   "source": [
    "arm_iterator = iter(train_dataset.batch(1).repeat())\n",
    "# arm_iterator = iter(train_dataset.repeat())\n",
    "\n",
    "def arm_context_sampling_fn():\n",
    "    \n",
    "    data = next(arm_iterator)\n",
    "    \n",
    "    return embs._get_per_arm_features(data)[0].numpy()"
   ]
  },
  {
   "cell_type": "code",
   "execution_count": 27,
   "id": "caa8ce68-d959-4307-a920-2d48078d228c",
   "metadata": {
    "tags": []
   },
   "outputs": [
    {
     "name": "stdout",
     "output_type": "stream",
     "text": [
      "shape: (64,)\n"
     ]
    },
    {
     "data": {
      "text/plain": [
       "array([ 0.01002486, -0.04383309,  0.04623233,  0.01555018,  0.04327723,\n",
       "       -0.03532438,  0.00176246,  0.00974243, -0.02478372,  0.01745776,\n",
       "        0.00104468,  0.02477149, -0.02248683, -0.04108915, -0.00766801,\n",
       "        0.03532412, -0.03926522, -0.02776006,  0.02954669, -0.00035161,\n",
       "        0.01939535, -0.03072044, -0.03413245, -0.04269062,  0.02764543,\n",
       "       -0.01064493,  0.04009312,  0.01257156,  0.03595196,  0.02881234,\n",
       "       -0.0294647 ,  0.03248973,  0.00664924,  0.02459118, -0.01932558,\n",
       "       -0.03857942, -0.02142439, -0.04112445, -0.034876  , -0.04838977,\n",
       "       -0.03873003,  0.03286084, -0.00169672, -0.02437301,  0.04185465,\n",
       "       -0.00813793,  0.00613487, -0.03551369, -0.31257877, -0.29547882,\n",
       "       -0.2707994 ,  0.01963731, -0.22862116, -0.07780953,  0.26325667,\n",
       "        0.12580194,  0.22885154,  0.23683012, -0.1783251 , -0.11061694,\n",
       "        0.09106117, -0.00099419, -0.22898737,  0.26427513], dtype=float32)"
      ]
     },
     "execution_count": 27,
     "metadata": {},
     "output_type": "execute_result"
    }
   ],
   "source": [
    "test_arm_sampling = arm_context_sampling_fn()\n",
    "print(f\"shape: {test_arm_sampling.shape}\")\n",
    "\n",
    "test_arm_sampling"
   ]
  },
  {
   "cell_type": "markdown",
   "id": "c70ee40b-eb02-47e8-ab8a-00a1ee6c1891",
   "metadata": {},
   "source": [
    "### Reward function \n",
    "\n",
    "> compute the dot product between global user context features and arm context features\n",
    "\n",
    "In this environment, the reward function will take as input the concatenation of the global and arm features generated from the provided sampling functions. See it used in the environment's `_apply_action()` function [here](https://github.com/tensorflow/agents/blob/master/tf_agents/bandits/environments/stationary_stochastic_per_arm_py_environment.py#L170C18-L170C28)\n",
    "\n",
    "```python\n",
    "feat_concat = np.concatenate((test_global_sampling, test_arm_sampling))\n",
    "reward = np.dot(feat_concat[:GLOBAL_DIM], feat_concat[PER_ARM_DIM:])\n",
    "```\n",
    "\n",
    "**Implementation of LinUCB and LinTS**\n",
    "* As opposed to the numbered-actions case, linear models with arm features require the estimation of only one hidden parameter\n",
    "* This parameter is the vector of length `GLOBAL_DIM + PER_ARM_DIM` that defines the linear relationship between the actions and the reward\n",
    "* So all the updates to covariance matrices and reward accumulators have only 1 instance. Then sampling or optimistic choices are taken as before"
   ]
  },
  {
   "cell_type": "code",
   "execution_count": 28,
   "id": "2cc4b52c-b47a-4bae-8c4e-44bfe5cc8280",
   "metadata": {
    "tags": []
   },
   "outputs": [
    {
     "data": {
      "text/plain": [
       "array([ 0.03550036,  0.01731533, -0.03978125,  0.01874312, -0.0038344 ,\n",
       "       -0.03336596,  0.01778824,  0.04830175, -0.01753397,  0.0040573 ,\n",
       "       -0.01028163,  0.04428658, -0.00746302,  0.01691324, -0.00794927,\n",
       "       -0.03885757, -0.01825232, -0.04766802, -0.03006848,  0.04394672,\n",
       "        0.00674511, -0.02479986, -0.01803653, -0.04812895,  0.03827614,\n",
       "       -0.03791507, -0.02425692,  0.03472933,  0.03134836,  0.04239199,\n",
       "       -0.02438303,  0.00321413,  0.04131898, -0.03339032,  0.0202208 ,\n",
       "       -0.04571062,  0.02636274, -0.04394542, -0.04560263,  0.02085142,\n",
       "       -0.03818982, -0.01287759, -0.03224362, -0.01536641,  0.02314736,\n",
       "        0.02948577,  0.0111272 ,  0.01876749], dtype=float32)"
      ]
     },
     "execution_count": 28,
     "metadata": {},
     "output_type": "execute_result"
    }
   ],
   "source": [
    "test_global_sampling #[0]"
   ]
  },
  {
   "cell_type": "code",
   "execution_count": 29,
   "id": "7e708a42-3edc-4335-adeb-657f207865f1",
   "metadata": {
    "tags": []
   },
   "outputs": [
    {
     "data": {
      "text/plain": [
       "array([ 0.01002486, -0.04383309,  0.04623233,  0.01555018,  0.04327723,\n",
       "       -0.03532438,  0.00176246,  0.00974243, -0.02478372,  0.01745776,\n",
       "        0.00104468,  0.02477149, -0.02248683, -0.04108915, -0.00766801,\n",
       "        0.03532412, -0.03926522, -0.02776006,  0.02954669, -0.00035161,\n",
       "        0.01939535, -0.03072044, -0.03413245, -0.04269062,  0.02764543,\n",
       "       -0.01064493,  0.04009312,  0.01257156,  0.03595196,  0.02881234,\n",
       "       -0.0294647 ,  0.03248973,  0.00664924,  0.02459118, -0.01932558,\n",
       "       -0.03857942, -0.02142439, -0.04112445, -0.034876  , -0.04838977,\n",
       "       -0.03873003,  0.03286084, -0.00169672, -0.02437301,  0.04185465,\n",
       "       -0.00813793,  0.00613487, -0.03551369, -0.31257877, -0.29547882,\n",
       "       -0.2707994 ,  0.01963731, -0.22862116, -0.07780953,  0.26325667,\n",
       "        0.12580194,  0.22885154,  0.23683012, -0.1783251 , -0.11061694,\n",
       "        0.09106117, -0.00099419, -0.22898737,  0.26427513], dtype=float32)"
      ]
     },
     "execution_count": 29,
     "metadata": {},
     "output_type": "execute_result"
    }
   ],
   "source": [
    "test_arm_sampling #[0]"
   ]
  },
  {
   "cell_type": "code",
   "execution_count": 30,
   "id": "8c65a5e6-24e9-417d-a747-6aed423adc62",
   "metadata": {
    "tags": []
   },
   "outputs": [],
   "source": [
    "HIDDEN_PARAM = list(np.random.randint(-10, 10, [GLOBAL_DIM + PER_ARM_DIM]))\n",
    "\n",
    "class LinearNormalReward(object):\n",
    "    def __init__(self, theta):\n",
    "        self.theta = theta\n",
    "\n",
    "    def __call__(self, x):\n",
    "        mu = np.dot(x, self.theta)\n",
    "        return np.random.normal(mu, 1)\n",
    "    \n",
    "reward_fn = LinearNormalReward(HIDDEN_PARAM)"
   ]
  },
  {
   "cell_type": "markdown",
   "id": "2f4bb435-caad-487e-afb7-212595b72a83",
   "metadata": {},
   "source": [
    "## Initialize environment"
   ]
  },
  {
   "cell_type": "code",
   "execution_count": 31,
   "id": "b7e89c02-e871-4f0a-8781-8107e35ef243",
   "metadata": {
    "tags": []
   },
   "outputs": [
    {
     "name": "stdout",
     "output_type": "stream",
     "text": [
      "BATCH_SIZE      : 128\n",
      "EVAL_BATCH_SIZE : 1\n",
      "NUM_ACTIONS     : 5\n",
      "GLOBAL_DIM      : 48\n",
      "PER_ARM_DIM     : 64\n"
     ]
    }
   ],
   "source": [
    "print(f\"BATCH_SIZE      : {BATCH_SIZE}\")\n",
    "print(f\"EVAL_BATCH_SIZE : {EVAL_BATCH_SIZE}\")\n",
    "print(f\"NUM_ACTIONS     : {NUM_ACTIONS}\")\n",
    "print(f\"GLOBAL_DIM      : {GLOBAL_DIM}\")\n",
    "print(f\"PER_ARM_DIM     : {PER_ARM_DIM}\")"
   ]
  },
  {
   "cell_type": "code",
   "execution_count": 32,
   "id": "ccca2db4-712a-4c0b-8dab-013ae9508553",
   "metadata": {
    "tags": []
   },
   "outputs": [],
   "source": [
    "per_arm_py_env = p_a_env.StationaryStochasticPerArmPyEnvironment(\n",
    "    global_context_sampling_fn=global_context_sampling_fn,\n",
    "    arm_context_sampling_fn=arm_context_sampling_fn,\n",
    "    max_num_actions=NUM_ACTIONS,\n",
    "    reward_fn=reward_fn,\n",
    "    batch_size=BATCH_SIZE\n",
    ")\n",
    "per_arm_tf_env = tf_py_environment.TFPyEnvironment(per_arm_py_env)"
   ]
  },
  {
   "cell_type": "code",
   "execution_count": 33,
   "id": "ed2b460f-e696-46c2-b87a-091df2698f54",
   "metadata": {
    "tags": []
   },
   "outputs": [
    {
     "name": "stdout",
     "output_type": "stream",
     "text": [
      "\n",
      "Rewards after taking an action:  tf.Tensor(\n",
      "[0. 0. 0. 0. 0. 0. 0. 0. 0. 0. 0. 0. 0. 0. 0. 0. 0. 0. 0. 0. 0. 0. 0. 0.\n",
      " 0. 0. 0. 0. 0. 0. 0. 0. 0. 0. 0. 0. 0. 0. 0. 0. 0. 0. 0. 0. 0. 0. 0. 0.\n",
      " 0. 0. 0. 0. 0. 0. 0. 0. 0. 0. 0. 0. 0. 0. 0. 0. 0. 0. 0. 0. 0. 0. 0. 0.\n",
      " 0. 0. 0. 0. 0. 0. 0. 0. 0. 0. 0. 0. 0. 0. 0. 0. 0. 0. 0. 0. 0. 0. 0. 0.\n",
      " 0. 0. 0. 0. 0. 0. 0. 0. 0. 0. 0. 0. 0. 0. 0. 0. 0. 0. 0. 0. 0. 0. 0. 0.\n",
      " 0. 0. 0. 0. 0. 0. 0. 0.], shape=(128,), dtype=float32)\n"
     ]
    }
   ],
   "source": [
    "# print('observation spec: ', per_arm_tf_env.observation_spec())\n",
    "# print('\\nAn observation: ', per_arm_tf_env.reset().observation)\n",
    "\n",
    "action = tf.zeros(BATCH_SIZE, dtype=tf.int32)\n",
    "time_step = per_arm_tf_env.step(action)\n",
    "print('\\nRewards after taking an action: ', time_step.reward)"
   ]
  },
  {
   "cell_type": "code",
   "execution_count": 34,
   "id": "17aadc6e-7a03-4401-9457-0769ce8d83e0",
   "metadata": {
    "tags": []
   },
   "outputs": [],
   "source": [
    "observation_spec = per_arm_tf_env.observation_spec()\n",
    "# observation_spec"
   ]
  },
  {
   "cell_type": "code",
   "execution_count": 35,
   "id": "1a421768-8df4-496d-9b79-16138f2c445a",
   "metadata": {
    "tags": []
   },
   "outputs": [],
   "source": [
    "time_step_spec = ts.time_step_spec(observation_spec)\n",
    "# time_step_spec"
   ]
  },
  {
   "cell_type": "code",
   "execution_count": 36,
   "id": "b84d293b-835a-4512-99bb-c9c956bf3904",
   "metadata": {
    "tags": []
   },
   "outputs": [],
   "source": [
    "action_spec = tensor_spec.BoundedTensorSpec(\n",
    "    dtype=tf.int32, \n",
    "    shape=(), \n",
    "    minimum=0, \n",
    "    maximum=NUM_ACTIONS - 1\n",
    ")\n",
    "# action_spec"
   ]
  },
  {
   "cell_type": "markdown",
   "id": "a44e3199-8d32-4ca8-ab1d-ae1c246d3597",
   "metadata": {},
   "source": [
    "## Define Agent Policy"
   ]
  },
  {
   "cell_type": "code",
   "execution_count": 37,
   "id": "a5eac943-be90-4000-a4ab-c01b0849f4ef",
   "metadata": {
    "tags": []
   },
   "outputs": [
    {
     "name": "stdout",
     "output_type": "stream",
     "text": [
      "{'batch_size': 128,\n",
      " 'common_layers': [28, 14],\n",
      " 'encoding_dim': 14,\n",
      " 'epsilon': 0.01,\n",
      " 'eval_batch_size': 1,\n",
      " 'global_layers': [48, 24, 12],\n",
      " 'learning_rate': 0.05,\n",
      " 'model_type': 'NeuralLinUCB',\n",
      " 'network_type': 'commontower',\n",
      " 'num_actions': 5,\n",
      " 'per_arm_layers': [64, 32, 16]}\n"
     ]
    }
   ],
   "source": [
    "# ================================\n",
    "# Agents\n",
    "# ================================\n",
    "AGENT_TYPE      = 'NeuralLinUCB' # 'LinUCB' | 'LinTS |, 'epsGreedy' | 'NeuralLinUCB'\n",
    "\n",
    "# Parameters for linear agents (LinUCB and LinTS).\n",
    "AGENT_ALPHA     = 0.1\n",
    "\n",
    "# Parameters for neural agents (NeuralEpsGreedy and NerualLinUCB).\n",
    "EPSILON         = 0.01\n",
    "LR              = 0.05\n",
    "\n",
    "# Parameters for NeuralLinUCB\n",
    "ENCODING_DIM    = 1\n",
    "EPS_PHASE_STEPS = 1000\n",
    "\n",
    "# ================================\n",
    "# Agent's Preprocess Network\n",
    "# ================================\n",
    " # beginning should be of size: GLOBAL_DIM\n",
    "GLOBAL_LAYERS   = [GLOBAL_DIM, int(GLOBAL_DIM/2), int(GLOBAL_DIM/4)]\n",
    "ARM_LAYERS      = [PER_ARM_DIM, int(PER_ARM_DIM/2), int(PER_ARM_DIM/4)]\n",
    "FIRST_COMMON_LAYER = GLOBAL_LAYERS[-1] + ARM_LAYERS[-1] # min(GLOBAL_LAYERS[-1], ARM_LAYERS[-1])\n",
    "\n",
    "COMMON_LAYERS = [\n",
    "    int(FIRST_COMMON_LAYER),\n",
    "    int(FIRST_COMMON_LAYER/2),\n",
    "    # int(FIRST_COMMON_LAYER/4)\n",
    "]\n",
    "\n",
    "NETWORK_TYPE    = \"commontower\" # 'commontower' | 'dotproduct'\n",
    "\n",
    "if AGENT_TYPE == 'NeuralLinUCB':\n",
    "    NETWORK_TYPE = 'commontower'\n",
    "    ENCODING_DIM = COMMON_LAYERS[-1]\n",
    "    \n",
    "if NETWORK_TYPE == 'dotproduct':\n",
    "    assert GLOBAL_LAYERS[0] == ARM_LAYERS[0]\n",
    "\n",
    "\n",
    "HPARAMS = {  # TODO - streamline and consolidate\n",
    "    \"batch_size\": BATCH_SIZE,\n",
    "    \"eval_batch_size\" : EVAL_BATCH_SIZE,\n",
    "    \"num_actions\": NUM_ACTIONS,\n",
    "    \"model_type\": AGENT_TYPE,\n",
    "    \"network_type\": NETWORK_TYPE,\n",
    "    \"global_layers\": GLOBAL_LAYERS,\n",
    "    \"per_arm_layers\": ARM_LAYERS,\n",
    "    \"common_layers\": COMMON_LAYERS,\n",
    "    \"learning_rate\": LR,\n",
    "    \"epsilon\": EPSILON,\n",
    "    \"encoding_dim\": ENCODING_DIM\n",
    "}\n",
    "pprint(HPARAMS)"
   ]
  },
  {
   "cell_type": "code",
   "execution_count": 38,
   "id": "d45cb370-b6d5-46d3-afc5-238d9ef45656",
   "metadata": {
    "tags": []
   },
   "outputs": [
    {
     "name": "stdout",
     "output_type": "stream",
     "text": [
      "agent: neural_linucb_agent\n",
      "Network: commontower\n"
     ]
    }
   ],
   "source": [
    "global_step = tf.compat.v1.train.get_or_create_global_step()\n",
    "\n",
    "agent = agent_factory.PerArmAgentFactory._get_agent(\n",
    "    agent_type = AGENT_TYPE,\n",
    "    network_type = NETWORK_TYPE,\n",
    "    time_step_spec = time_step_spec,\n",
    "    action_spec = action_spec,\n",
    "    observation_spec=observation_spec,\n",
    "    global_layers = GLOBAL_LAYERS,\n",
    "    arm_layers = ARM_LAYERS,\n",
    "    common_layers = COMMON_LAYERS,\n",
    "    agent_alpha = AGENT_ALPHA,\n",
    "    learning_rate = LR,\n",
    "    epsilon = EPSILON,\n",
    "    train_step_counter = global_step,\n",
    "    output_dim = ENCODING_DIM,\n",
    "    eps_phase_steps = EPS_PHASE_STEPS,\n",
    "    summarize_grads_and_vars = False,\n",
    "    debug_summaries = True\n",
    ")\n",
    "      \n",
    "agent.initialize()\n",
    "print(f'agent: {agent.name}')\n",
    "\n",
    "if NETWORK_TYPE:\n",
    "    print(f\"Network: {NETWORK_TYPE}\")"
   ]
  },
  {
   "cell_type": "markdown",
   "id": "f6be8938-f35f-4858-895b-1a7f7d13a7cd",
   "metadata": {},
   "source": [
    "### The Flow of Training Data\n",
    "\n",
    "look at the data specification in the agent. The training_data_spec attribute of the agent specifies what elements and structure the training data should have."
   ]
  },
  {
   "cell_type": "code",
   "execution_count": 39,
   "id": "82761ce9-3392-4253-a3f2-ad2c3d300040",
   "metadata": {
    "tags": []
   },
   "outputs": [
    {
     "name": "stdout",
     "output_type": "stream",
     "text": [
      "training data spec:  Trajectory(\n",
      "{'action': BoundedTensorSpec(shape=(), dtype=tf.int32, name='action', minimum=array(0, dtype=int32), maximum=array(4, dtype=int32)),\n",
      " 'discount': BoundedTensorSpec(shape=(), dtype=tf.float32, name='discount', minimum=array(0., dtype=float32), maximum=array(1., dtype=float32)),\n",
      " 'next_step_type': TensorSpec(shape=(), dtype=tf.int32, name='step_type'),\n",
      " 'observation': DictWrapper({'global': TensorSpec(shape=(48,), dtype=tf.float32, name=None)}),\n",
      " 'policy_info': PerArmPolicyInfo(log_probability=(), predicted_rewards_mean=TensorSpec(shape=(5,), dtype=tf.float32, name=None), multiobjective_scalarized_predicted_rewards_mean=(), predicted_rewards_optimistic=(), predicted_rewards_sampled=(), bandit_policy_type=(), chosen_arm_features=TensorSpec(shape=(64,), dtype=tf.float32, name=None)),\n",
      " 'reward': TensorSpec(shape=(), dtype=tf.float32, name='reward'),\n",
      " 'step_type': TensorSpec(shape=(), dtype=tf.int32, name='step_type')})\n"
     ]
    }
   ],
   "source": [
    "print('training data spec: ', agent.training_data_spec)"
   ]
  },
  {
   "cell_type": "code",
   "execution_count": 40,
   "id": "ce10bdf3-7274-484b-8f36-021b0c5be062",
   "metadata": {
    "tags": []
   },
   "outputs": [],
   "source": [
    "def _all_rewards(observation, hidden_param):\n",
    "    \"\"\"Outputs rewards for all actions, given an observation.\"\"\"\n",
    "    hidden_param = tf.cast(hidden_param, dtype=tf.float32)\n",
    "    global_obs = observation[bandit_spec_utils.GLOBAL_FEATURE_KEY]\n",
    "    per_arm_obs = observation[bandit_spec_utils.PER_ARM_FEATURE_KEY]\n",
    "    num_actions = tf.shape(per_arm_obs)[1]\n",
    "    tiled_global = tf.tile(\n",
    "        tf.expand_dims(global_obs, axis=1), [1, num_actions, 1]\n",
    "    )\n",
    "    concatenated = tf.concat([tiled_global, per_arm_obs], axis=-1)\n",
    "    rewards = tf.linalg.matvec(concatenated, hidden_param)\n",
    "    return rewards\n",
    "\n",
    "def optimal_reward(observation):\n",
    "    \"\"\"\n",
    "    Outputs the maximum expected reward \n",
    "    for every element in the batch.\n",
    "    \"\"\"\n",
    "    return tf.reduce_max(_all_rewards(observation, HIDDEN_PARAM), axis=1)\n",
    "\n",
    "regret_metric = tf_bandit_metrics.RegretMetric(optimal_reward)"
   ]
  },
  {
   "cell_type": "code",
   "execution_count": 41,
   "id": "1e9fc119-2cc8-47a1-a7bf-f6a03c95f6db",
   "metadata": {
    "tags": []
   },
   "outputs": [],
   "source": [
    "def optimal_action(observation, hidden_param):\n",
    "    \n",
    "    return tf.argmax(\n",
    "        _all_rewards(observation, hidden_param), axis=1, output_type=tf.int32\n",
    "    )\n",
    "\n",
    "optimal_action_fn = functools.partial(\n",
    "    optimal_action, hidden_param=HIDDEN_PARAM\n",
    ")\n",
    "\n",
    "suboptimal_arms_metric = tf_bandit_metrics.SuboptimalArmsMetric(\n",
    "    optimal_action_fn\n",
    ")"
   ]
  },
  {
   "cell_type": "code",
   "execution_count": 42,
   "id": "3e951e25-2a2f-4685-a878-432a8836c43c",
   "metadata": {
    "tags": []
   },
   "outputs": [
    {
     "data": {
      "text/plain": [
       "[<tf_agents.bandits.metrics.tf_metrics.RegretMetric at 0x7f84143066b0>,\n",
       " <tf_agents.bandits.metrics.tf_metrics.SuboptimalArmsMetric at 0x7f8414307280>]"
      ]
     },
     "execution_count": 42,
     "metadata": {},
     "output_type": "execute_result"
    }
   ],
   "source": [
    "metrics = [regret_metric, suboptimal_arms_metric]\n",
    "metrics"
   ]
  },
  {
   "cell_type": "markdown",
   "id": "71ad9c4c-ab48-4158-b172-3dd0ddcfb131",
   "metadata": {},
   "source": [
    "# Training"
   ]
  },
  {
   "cell_type": "markdown",
   "id": "6783f164-c1e0-4e14-8878-0c3a31c227ce",
   "metadata": {},
   "source": [
    "## Vertex AI Experiments"
   ]
  },
  {
   "cell_type": "code",
   "execution_count": 43,
   "id": "beb65597-f005-46bd-adc2-81694863ed67",
   "metadata": {
    "tags": []
   },
   "outputs": [],
   "source": [
    "VERSION = \"v2\""
   ]
  },
  {
   "cell_type": "code",
   "execution_count": 44,
   "id": "bf761d34-69d9-400a-a554-ccec38ab5764",
   "metadata": {
    "tags": []
   },
   "outputs": [
    {
     "name": "stdout",
     "output_type": "stream",
     "text": [
      "EXPERIMENT_NAME   : 01e-stationary-perarm-envs-v2\n",
      "RUN_NAME          : run-20241121-221245\n",
      "\n",
      "CHECKPT_DIR       : gs://rec-bandits-v2-hybrid-vertex-bucket/01e-stationary-perarm-envs-v2/chkpoint\n",
      "BASE_OUTPUT_DIR   : gs://rec-bandits-v2-hybrid-vertex-bucket/01e-stationary-perarm-envs-v2/run-20241121-221245\n",
      "LOG_DIR           : gs://rec-bandits-v2-hybrid-vertex-bucket/01e-stationary-perarm-envs-v2/run-20241121-221245/logs\n",
      "ROOT_DIR          : gs://rec-bandits-v2-hybrid-vertex-bucket/01e-stationary-perarm-envs-v2/run-20241121-221245/root\n",
      "ARTIFACTS_DIR     : gs://rec-bandits-v2-hybrid-vertex-bucket/01e-stationary-perarm-envs-v2/run-20241121-221245/artifacts\n"
     ]
    }
   ],
   "source": [
    "EXPERIMENT_NAME   = f'01e-stationary-perarm-envs-{VERSION}'\n",
    "\n",
    "# new experiment\n",
    "invoke_time       = time.strftime(\"%Y%m%d-%H%M%S\")\n",
    "RUN_NAME          = f'run-{invoke_time}'\n",
    "\n",
    "CHECKPT_DIR       = f\"{BUCKET_URI}/{EXPERIMENT_NAME}/chkpoint\"\n",
    "BASE_OUTPUT_DIR   = f'{BUCKET_URI}/{EXPERIMENT_NAME}/{RUN_NAME}'\n",
    "LOG_DIR           = f\"{BASE_OUTPUT_DIR}/logs\"\n",
    "ROOT_DIR          = f\"{BASE_OUTPUT_DIR}/root\"       # Root directory for writing logs/summaries/checkpoints.\n",
    "ARTIFACTS_DIR     = f\"{BASE_OUTPUT_DIR}/artifacts\"  # Where the trained model will be saved and restored.\n",
    "\n",
    "print(f\"EXPERIMENT_NAME   : {EXPERIMENT_NAME}\")\n",
    "print(f\"RUN_NAME          : {RUN_NAME}\\n\")\n",
    "print(f\"CHECKPT_DIR       : {CHECKPT_DIR}\")\n",
    "print(f\"BASE_OUTPUT_DIR   : {BASE_OUTPUT_DIR}\")\n",
    "print(f\"LOG_DIR           : {LOG_DIR}\")\n",
    "print(f\"ROOT_DIR          : {ROOT_DIR}\")\n",
    "print(f\"ARTIFACTS_DIR     : {ARTIFACTS_DIR}\")"
   ]
  },
  {
   "cell_type": "markdown",
   "id": "3ac54af0-d8ab-4bef-b1f3-266e9a15bd6f",
   "metadata": {},
   "source": [
    "### Create TensorBoard"
   ]
  },
  {
   "cell_type": "code",
   "execution_count": 45,
   "id": "598e3eee-e8eb-4082-8160-67edf47ff7e8",
   "metadata": {
    "tags": []
   },
   "outputs": [],
   "source": [
    "NEW_TENSORBOARD = True"
   ]
  },
  {
   "cell_type": "code",
   "execution_count": 46,
   "id": "540cd50a-8399-4893-92f4-6b82f2208588",
   "metadata": {
    "tags": []
   },
   "outputs": [
    {
     "name": "stdout",
     "output_type": "stream",
     "text": [
      "TB_RESOURCE_NAME : projects/934903580331/locations/us-central1/tensorboards/305202437638062080\n",
      "TB display name  : 01e-stationary-perarm-envs-v2\n",
      "TB_ID            : 305202437638062080\n"
     ]
    }
   ],
   "source": [
    "if NEW_TENSORBOARD:\n",
    "    # create new TB instance\n",
    "    TENSORBOARD_DISPLAY_NAME=f\"{EXPERIMENT_NAME}\"\n",
    "\n",
    "    tensorboard = aiplatform.Tensorboard.create(\n",
    "        display_name=TENSORBOARD_DISPLAY_NAME\n",
    "        , project=PROJECT_ID\n",
    "        , location=REGION\n",
    "    )\n",
    "\n",
    "    TB_RESOURCE_NAME = tensorboard.resource_name\n",
    "else:\n",
    "    # use existing TB instance\n",
    "    # TB_RESOURCE_NAME = 'projects/934903580331/locations/us-central1/tensorboards/XXXXXXX' # TODO\n",
    "    tensorboard = aiplatform.Tensorboard(\n",
    "        tensorboard_name=TB_RESOURCE_NAME\n",
    "    )\n",
    "\n",
    "TB_ID = TB_RESOURCE_NAME.split('/')[-1]\n",
    "\n",
    "print(f\"TB_RESOURCE_NAME : {TB_RESOURCE_NAME}\")\n",
    "print(f\"TB display name  : {tensorboard.display_name}\")\n",
    "print(f\"TB_ID            : {TB_ID}\")"
   ]
  },
  {
   "cell_type": "markdown",
   "id": "4fa3a43c-a19f-4775-a653-3784d9ac5922",
   "metadata": {
    "tags": []
   },
   "source": [
    "## Trainer loop"
   ]
  },
  {
   "cell_type": "code",
   "execution_count": 47,
   "id": "daa54d53-48cf-4b15-9416-7d820ed77a18",
   "metadata": {
    "tags": []
   },
   "outputs": [
    {
     "data": {
      "text/html": [
       "\n",
       "        \n",
       "    <link rel=\"stylesheet\" href=\"https://fonts.googleapis.com/icon?family=Material+Icons\">\n",
       "    <style>\n",
       "      .view-vertex-resource,\n",
       "      .view-vertex-resource:hover,\n",
       "      .view-vertex-resource:visited {\n",
       "        position: relative;\n",
       "        display: inline-flex;\n",
       "        flex-direction: row;\n",
       "        height: 32px;\n",
       "        padding: 0 12px;\n",
       "          margin: 4px 18px;\n",
       "        gap: 4px;\n",
       "        border-radius: 4px;\n",
       "\n",
       "        align-items: center;\n",
       "        justify-content: center;\n",
       "        background-color: rgb(255, 255, 255);\n",
       "        color: rgb(51, 103, 214);\n",
       "\n",
       "        font-family: Roboto,\"Helvetica Neue\",sans-serif;\n",
       "        font-size: 13px;\n",
       "        font-weight: 500;\n",
       "        text-transform: uppercase;\n",
       "        text-decoration: none !important;\n",
       "\n",
       "        transition: box-shadow 280ms cubic-bezier(0.4, 0, 0.2, 1) 0s;\n",
       "        box-shadow: 0px 3px 1px -2px rgba(0,0,0,0.2), 0px 2px 2px 0px rgba(0,0,0,0.14), 0px 1px 5px 0px rgba(0,0,0,0.12);\n",
       "      }\n",
       "      .view-vertex-resource:active {\n",
       "        box-shadow: 0px 5px 5px -3px rgba(0,0,0,0.2),0px 8px 10px 1px rgba(0,0,0,0.14),0px 3px 14px 2px rgba(0,0,0,0.12);\n",
       "      }\n",
       "      .view-vertex-resource:active .view-vertex-ripple::before {\n",
       "        position: absolute;\n",
       "        top: 0;\n",
       "        bottom: 0;\n",
       "        left: 0;\n",
       "        right: 0;\n",
       "        border-radius: 4px;\n",
       "        pointer-events: none;\n",
       "\n",
       "        content: '';\n",
       "        background-color: rgb(51, 103, 214);\n",
       "        opacity: 0.12;\n",
       "      }\n",
       "      .view-vertex-icon {\n",
       "        font-size: 18px;\n",
       "      }\n",
       "    </style>\n",
       "  \n",
       "        <a class=\"view-vertex-resource\" id=\"view-vertex-resource-3d945bdd-15f6-4c39-afd5-f28c2192c57e\" href=\"#view-view-vertex-resource-3d945bdd-15f6-4c39-afd5-f28c2192c57e\">\n",
       "          <span class=\"material-icons view-vertex-icon\">science</span>\n",
       "          <span>View Experiment</span>\n",
       "        </a>\n",
       "        \n",
       "        <script>\n",
       "          (function () {\n",
       "            const link = document.getElementById('view-vertex-resource-3d945bdd-15f6-4c39-afd5-f28c2192c57e');\n",
       "            link.addEventListener('click', (e) => {\n",
       "              if (window.google?.colab?.openUrl) {\n",
       "                window.google.colab.openUrl('https://console.cloud.google.com/vertex-ai/experiments/locations/us-central1/experiments/01e-stationary-perarm-envs-v2/runs?project=hybrid-vertex');\n",
       "              } else {\n",
       "                window.open('https://console.cloud.google.com/vertex-ai/experiments/locations/us-central1/experiments/01e-stationary-perarm-envs-v2/runs?project=hybrid-vertex', '_blank');\n",
       "              }\n",
       "              e.stopPropagation();\n",
       "              e.preventDefault();\n",
       "            });\n",
       "          })();\n",
       "        </script>\n",
       "    "
      ],
      "text/plain": [
       "<IPython.core.display.HTML object>"
      ]
     },
     "metadata": {},
     "output_type": "display_data"
    }
   ],
   "source": [
    "aiplatform.init(\n",
    "    project=PROJECT_ID,\n",
    "    location=REGION,\n",
    "    experiment=EXPERIMENT_NAME,\n",
    "    # experiment_tensorboard=TB_ID\n",
    ")"
   ]
  },
  {
   "cell_type": "code",
   "execution_count": 48,
   "id": "4fcb892f-6a71-4c16-9d60-6392f4cf9e0e",
   "metadata": {
    "tags": []
   },
   "outputs": [
    {
     "name": "stdout",
     "output_type": "stream",
     "text": [
      "LOG_INTERVAL: 10\n"
     ]
    }
   ],
   "source": [
    "TRAINING_LOOPS = 50\n",
    "STEPS_PER_LOOP = 1\n",
    "LOG_INTERVAL = TRAINING_LOOPS // 5\n",
    "\n",
    "TEST_HPT_FLAG  = False # True | False\n",
    "\n",
    "_ARTIFACTS_DIR = ARTIFACTS_DIR if not TEST_HPT_FLAG else None\n",
    "_ROOT_DIR      = ROOT_DIR if not TEST_HPT_FLAG else None\n",
    "\n",
    "summary_writer = tf.summary.create_file_writer(LOG_DIR)\n",
    "summary_writer.set_as_default()\n",
    "\n",
    "print(f'LOG_INTERVAL: {LOG_INTERVAL}')"
   ]
  },
  {
   "cell_type": "code",
   "execution_count": 50,
   "id": "5d4bf3c5-139a-4769-a0b8-0f558a68ab03",
   "metadata": {
    "tags": []
   },
   "outputs": [],
   "source": [
    "PROFILER=False"
   ]
  },
  {
   "cell_type": "code",
   "execution_count": 51,
   "id": "59e9ad45-f5f9-4d77-9a71-e777b2784510",
   "metadata": {
    "tags": []
   },
   "outputs": [
    {
     "name": "stdout",
     "output_type": "stream",
     "text": [
      "step = 0: train loss = 8.170900344848633\n",
      "step = 10: train loss = 6.939599990844727\n",
      "step = 20: train loss = 3.4516000747680664\n",
      "step = 30: train loss = 2.1482999324798584\n",
      "step = 40: train loss = 2.3008999824523926\n",
      "runtime_mins: 20\n",
      "saved policy checkpoint to: gs://rec-bandits-v2-hybrid-vertex-bucket/01e-stationary-perarm-envs-v2/chkpoint\n",
      "train runtime_mins: 20\n"
     ]
    }
   ],
   "source": [
    "#start the timer and training\n",
    "start_time = time.time()\n",
    "\n",
    "metric_results = policy_util.train(\n",
    "    agent=agent,\n",
    "    environment=per_arm_tf_env,\n",
    "    log_dir=LOG_DIR,\n",
    "    # model_dir = BASE_OUTPUT_DIR,\n",
    "    chkpt_dir = CHECKPT_DIR,\n",
    "    training_loops=TRAINING_LOOPS,\n",
    "    steps_per_loop=STEPS_PER_LOOP,\n",
    "    additional_metrics=metrics,\n",
    "    # save_policy=False,\n",
    "    artifacts_dir=_ARTIFACTS_DIR,\n",
    "    root_dir=_ROOT_DIR,\n",
    "    run_hyperparameter_tuning=TEST_HPT_FLAG,\n",
    "    profiler = PROFILER,\n",
    "    train_summary_writer = summary_writer,\n",
    "    chkpt_interval = 10,\n",
    "    global_step = global_step\n",
    ")\n",
    "\n",
    "end_time = time.time()\n",
    "runtime_mins = int((end_time - start_time) / 60)\n",
    "print(f\"train runtime_mins: {runtime_mins}\")"
   ]
  },
  {
   "cell_type": "markdown",
   "id": "f92ab2c5-26ea-4028-a965-c8292249511f",
   "metadata": {},
   "source": [
    "## Evaluate trained policy with TensorBoard"
   ]
  },
  {
   "cell_type": "markdown",
   "id": "709c217f-cc9f-46f2-b9aa-3664c8484ec4",
   "metadata": {},
   "source": [
    "<img src=\"imgs/linear_ss_env_train.png\" \n",
    "     align=\"center\" \n",
    "     width=\"850\"\n",
    "     height=\"850\"/>"
   ]
  },
  {
   "cell_type": "code",
   "execution_count": 52,
   "id": "64c6bf86-417c-467b-adeb-b92d42915e19",
   "metadata": {
    "tags": []
   },
   "outputs": [],
   "source": [
    "%load_ext tensorboard\n",
    "# %reload_ext tensorboard"
   ]
  },
  {
   "cell_type": "code",
   "execution_count": 54,
   "id": "78204efa-aec3-422b-b692-1aa4be4a86f3",
   "metadata": {
    "tags": []
   },
   "outputs": [],
   "source": [
    "# %tensorboard --logdir=$LOG_DIR "
   ]
  },
  {
   "cell_type": "code",
   "execution_count": 56,
   "id": "37c4df1e-9594-4b76-92b4-a3255e5ad71d",
   "metadata": {
    "tags": []
   },
   "outputs": [
    {
     "name": "stdout",
     "output_type": "stream",
     "text": [
      "No known TensorBoard instances running.\n"
     ]
    }
   ],
   "source": [
    "from tensorboard import notebook\n",
    "notebook.list()"
   ]
  },
  {
   "cell_type": "markdown",
   "id": "29e782f2-2beb-439a-85fd-e455f679ac09",
   "metadata": {},
   "source": [
    "**Finished**"
   ]
  }
 ],
 "metadata": {
  "environment": {
   "kernel": "conda-base-py",
   "name": "workbench-notebooks.m126",
   "type": "gcloud",
   "uri": "us-docker.pkg.dev/deeplearning-platform-release/gcr.io/workbench-notebooks:m126"
  },
  "kernelspec": {
   "display_name": "Python 3 (ipykernel) (Local)",
   "language": "python",
   "name": "conda-base-py"
  },
  "language_info": {
   "codemirror_mode": {
    "name": "ipython",
    "version": 3
   },
   "file_extension": ".py",
   "mimetype": "text/x-python",
   "name": "python",
   "nbconvert_exporter": "python",
   "pygments_lexer": "ipython3",
   "version": "3.10.15"
  }
 },
 "nbformat": 4,
 "nbformat_minor": 5
}
