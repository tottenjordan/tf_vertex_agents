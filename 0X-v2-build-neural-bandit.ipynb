{
 "cells": [
  {
   "cell_type": "markdown",
   "id": "20186113-434a-46b9-887a-a90644015544",
   "metadata": {},
   "source": [
    "# Build per-arm bandit with `EncodingNetwork` "
   ]
  },
  {
   "cell_type": "markdown",
   "id": "71e1cc80-f6d2-4c3c-88a6-79ba18146af0",
   "metadata": {},
   "source": [
    "## Notes"
   ]
  },
  {
   "cell_type": "markdown",
   "id": "1257ebc8-1f8d-4317-b103-830c4915957a",
   "metadata": {},
   "source": [
    "### references\n",
    "\n",
    "**TF-Agent tutorials:**\n",
    "\n",
    "(1) [Multi-Armed Bandits with Per-Arm Features](https://www.tensorflow.org/agents/tutorials/per_arm_bandits_tutorial)\n",
    "\n",
    "* step-by-step guide on how to use the TF-Agents library for contextual bandits problems where the actions (arms) have their own features, such as a list of movies represented by features (genre, year of release, ...)\n",
    "\n",
    "(2) [Networks](https://www.tensorflow.org/agents/tutorials/8_networks_tutorial)\n",
    "\n",
    "* define custom networks for your agents\n",
    "* The networks help us define the model that is trained by agents\n",
    "\n",
    "(3) [Ranking](https://www.tensorflow.org/agents/tutorials/ranking_tutorial)\n",
    "\n",
    "* ranking algorithms implemented as part of the TF-Agents Bandits library \n",
    "* In a ranking problem, in every iteration an agent is presented with a set of items, and is tasked with ranking some or all of them to a list\n",
    "* This ranking decision then receives some form of feedback (maybe a user does or does not click on one or more of the selected items for example)\n",
    "* The goal of the agent is to optimize some metric/reward with the goal of making better decisions over time"
   ]
  },
  {
   "cell_type": "markdown",
   "id": "4ebd295e-2dcf-447c-b5c3-120cb9618d73",
   "metadata": {},
   "source": [
    "### background\n",
    "\n",
    "**Arm features**\n",
    "* In some bandits use cases, each arm has its own features. For example, in movie recommendation problems, the user features play the role of the context and the movies play the role of the arms (aka actions) \n",
    "* Each movie has its own features, such as `text description`, `metadata`, `trailer content` features and so on\n",
    "\n",
    "These problems are often referred to as `arm features problems`"
   ]
  },
  {
   "cell_type": "markdown",
   "id": "8b43f6ae-355c-4b28-ab76-8002ec3560cf",
   "metadata": {},
   "source": [
    "# setup notebook environment"
   ]
  },
  {
   "cell_type": "code",
   "execution_count": 1,
   "id": "b607559b-5cb9-4e2a-b4e2-a4103a03f6a0",
   "metadata": {},
   "outputs": [
    {
     "name": "stdout",
     "output_type": "stream",
     "text": [
      "aiplatform SDK version: 1.26.0\n"
     ]
    }
   ],
   "source": [
    "! python3 -c \"import google.cloud.aiplatform; print('aiplatform SDK version: {}'.format(google.cloud.aiplatform.__version__))\""
   ]
  },
  {
   "cell_type": "markdown",
   "id": "2b30ef95-19f8-43a0-80c7-4e92d992a698",
   "metadata": {},
   "source": [
    "## Load env config\n",
    "\n",
    "* use the prefix from `00-env-setup`"
   ]
  },
  {
   "cell_type": "code",
   "execution_count": 2,
   "id": "f8fe1d6b-5cc4-4f04-9d66-1218f636dab1",
   "metadata": {},
   "outputs": [],
   "source": [
    "PREFIX = 'mabv1'"
   ]
  },
  {
   "cell_type": "code",
   "execution_count": 3,
   "id": "e1fc6a03-f6ab-4084-a9eb-3ee969303067",
   "metadata": {},
   "outputs": [
    {
     "name": "stdout",
     "output_type": "stream",
     "text": [
      "\n",
      "PROJECT_ID               = \"hybrid-vertex\"\n",
      "PROJECT_NUM              = \"934903580331\"\n",
      "LOCATION                 = \"us-central1\"\n",
      "\n",
      "REGION                   = \"us-central1\"\n",
      "BQ_LOCATION              = \"US\"\n",
      "VPC_NETWORK_NAME         = \"ucaip-haystack-vpc-network\"\n",
      "\n",
      "VERTEX_SA                = \"934903580331-compute@developer.gserviceaccount.com\"\n",
      "\n",
      "PREFIX                   = \"mabv1\"\n",
      "VERSION                  = \"v1\"\n",
      "\n",
      "BUCKET_NAME              = \"mabv1-hybrid-vertex-bucket\"\n",
      "DATA_GCS_PREFIX          = \"data\"\n",
      "DATA_PATH                = \"gs://mabv1-hybrid-vertex-bucket/data\"\n",
      "BUCKET_URI               = \"gs://mabv1-hybrid-vertex-bucket\"\n",
      "\n",
      "VPC_NETWORK_FULL         = \"projects/934903580331/global/networks/ucaip-haystack-vpc-network\"\n",
      "\n",
      "BIGQUERY_DATASET_ID      = \"hybrid-vertex.movielens_dataset_mabv1\"\n",
      "BIGQUERY_TABLE_ID        = \"hybrid-vertex.movielens_dataset_mabv1.training_dataset\"\n",
      "\n",
      "REPO_DOCKER_PATH_PREFIX  = \"src\"\n",
      "RL_SUB_DIR               = \"per_arm_rl\"\n",
      "\n"
     ]
    }
   ],
   "source": [
    "# staging GCS\n",
    "GCP_PROJECTS             = !gcloud config get-value project\n",
    "PROJECT_ID               = GCP_PROJECTS[0]\n",
    "\n",
    "# GCS bucket and paths\n",
    "BUCKET_NAME              = f'{PREFIX}-{PROJECT_ID}-bucket'\n",
    "BUCKET_URI               = f'gs://{BUCKET_NAME}'\n",
    "\n",
    "config = !gsutil cat {BUCKET_URI}/config/notebook_env.py\n",
    "print(config.n)\n",
    "exec(config.n)"
   ]
  },
  {
   "cell_type": "code",
   "execution_count": 4,
   "id": "2951b0cb-f5b5-437b-8e60-5b19aa98a9f9",
   "metadata": {},
   "outputs": [],
   "source": [
    "# ! gsutil ls $BUCKET_URI"
   ]
  },
  {
   "cell_type": "markdown",
   "id": "0412d4a8-57e6-46a6-a1cc-79eda9dc7044",
   "metadata": {},
   "source": [
    "## imports"
   ]
  },
  {
   "cell_type": "code",
   "execution_count": 5,
   "id": "04ed6f19-461e-47b2-99e6-6533372f49ec",
   "metadata": {},
   "outputs": [],
   "source": [
    "import os\n",
    "os.environ['TF_CPP_MIN_LOG_LEVEL'] = '2'"
   ]
  },
  {
   "cell_type": "code",
   "execution_count": 7,
   "id": "700ff6d8-c406-4b95-8435-890e2597578e",
   "metadata": {},
   "outputs": [],
   "source": [
    "import functools\n",
    "from collections import defaultdict\n",
    "from typing import Callable, Dict, List, Optional, TypeVar\n",
    "from datetime import datetime\n",
    "import time\n",
    "from pprint import pprint\n",
    "import pickle as pkl\n",
    "\n",
    "# logging\n",
    "import logging\n",
    "logging.disable(logging.WARNING)\n",
    "\n",
    "import matplotlib.pyplot as plt\n",
    "import numpy as np\n",
    "\n",
    "# google cloud\n",
    "from google.cloud import aiplatform, storage\n",
    "\n",
    "# tensorflow\n",
    "import tensorflow as tf\n",
    "from tf_agents.agents import TFAgent\n",
    "\n",
    "# GPU\n",
    "from numba import cuda \n",
    "import gc\n",
    "\n",
    "# my project\n",
    "from src.per_arm_rl import data_utils\n",
    "from src.per_arm_rl import data_config\n",
    "\n",
    "# tf exceptions and vars\n",
    "if tf.__version__[0] != \"2\":\n",
    "    raise Exception(\"The trainer only runs with TensorFlow version 2.\")\n",
    "\n",
    "T = TypeVar(\"T\")"
   ]
  },
  {
   "cell_type": "markdown",
   "id": "d5932fdb-6c52-40c1-8982-73043aec365d",
   "metadata": {},
   "source": [
    "### detect GPUs & reset devices"
   ]
  },
  {
   "cell_type": "code",
   "execution_count": 8,
   "id": "86056d0f-264d-4e91-bd7c-c01ec1978954",
   "metadata": {},
   "outputs": [
    {
     "name": "stdout",
     "output_type": "stream",
     "text": [
      "Num GPUs Available:  1\n"
     ]
    }
   ],
   "source": [
    "# gpus = tf.config.experimental.list_physical_devices('GPU')\n",
    "# for gpu in gpus:\n",
    "#     tf.config.experimental.set_memory_growth(gpu, True)\n",
    "    \n",
    "# gpus\n",
    "\n",
    "print(\"Num GPUs Available: \", len(tf.config.list_physical_devices('GPU')))"
   ]
  },
  {
   "cell_type": "code",
   "execution_count": 10,
   "id": "ad238cbb-4e17-490f-b9ca-61b0b2facf6a",
   "metadata": {},
   "outputs": [
    {
     "data": {
      "text/plain": [
       "14"
      ]
     },
     "execution_count": 10,
     "metadata": {},
     "output_type": "execute_result"
    }
   ],
   "source": [
    "device = cuda.get_current_device()\n",
    "device.reset()\n",
    "gc.collect()"
   ]
  },
  {
   "cell_type": "markdown",
   "id": "62ed3980-935d-4888-b146-0779123c8827",
   "metadata": {},
   "source": [
    "### Initialize Google Cloud SDK Clients"
   ]
  },
  {
   "cell_type": "code",
   "execution_count": 11,
   "id": "c379affe-f4d2-46f4-8978-ac1c284bac97",
   "metadata": {},
   "outputs": [],
   "source": [
    "# cloud storage client\n",
    "storage_client = storage.Client(project=PROJECT_ID)\n",
    "\n",
    "# Vertex client\n",
    "aiplatform.init(project=PROJECT_ID, location=LOCATION)"
   ]
  },
  {
   "cell_type": "markdown",
   "id": "e2a69631-daf5-4cd2-bfd7-d1ece76c3976",
   "metadata": {},
   "source": [
    "# Data prep"
   ]
  },
  {
   "cell_type": "markdown",
   "id": "0b364d92-026c-4d2f-97ed-631dab496deb",
   "metadata": {},
   "source": [
    "### Read TF Records"
   ]
  },
  {
   "cell_type": "code",
   "execution_count": 12,
   "id": "85e5e712-dbf6-42f8-9f7d-1d9d6fa3b3f9",
   "metadata": {},
   "outputs": [],
   "source": [
    "options = tf.data.Options()\n",
    "options.experimental_distribute.auto_shard_policy = tf.data.experimental.AutoShardPolicy.AUTO"
   ]
  },
  {
   "cell_type": "code",
   "execution_count": 13,
   "id": "22b9c216-b368-4b58-b9d1-f35c44008c63",
   "metadata": {},
   "outputs": [
    {
     "data": {
      "text/plain": [
       "['gs://mabv1-hybrid-vertex-bucket/data/val/ml-ratings-100k-val.tfrecord']"
      ]
     },
     "execution_count": 13,
     "metadata": {},
     "output_type": "execute_result"
    }
   ],
   "source": [
    "train_files = []\n",
    "for blob in storage_client.list_blobs(f\"{BUCKET_NAME}\", prefix=f'{DATA_GCS_PREFIX}/val'): # tmp TODO - \"train\"\n",
    "    if '.tfrecord' in blob.name:\n",
    "        train_files.append(blob.public_url.replace(\"https://storage.googleapis.com/\", \"gs://\"))\n",
    "        \n",
    "train_files"
   ]
  },
  {
   "cell_type": "code",
   "execution_count": 14,
   "id": "89711072-2807-4c08-9056-f67e8a39cc03",
   "metadata": {},
   "outputs": [
    {
     "name": "stdout",
     "output_type": "stream",
     "text": [
      "{'bucketized_user_age': <tf.Tensor: shape=(1,), dtype=float32, numpy=array([25.], dtype=float32)>,\n",
      " 'movie_genres': <tf.Tensor: shape=(1, 1), dtype=int64, numpy=array([[4]])>,\n",
      " 'movie_id': <tf.Tensor: shape=(1,), dtype=string, numpy=array([b'211'], dtype=object)>,\n",
      " 'timestamp': <tf.Tensor: shape=(1,), dtype=int64, numpy=array([874948475])>,\n",
      " 'user_id': <tf.Tensor: shape=(1,), dtype=string, numpy=array([b'346'], dtype=object)>,\n",
      " 'user_occupation_text': <tf.Tensor: shape=(1,), dtype=string, numpy=array([b'other'], dtype=object)>,\n",
      " 'user_rating': <tf.Tensor: shape=(1,), dtype=float32, numpy=array([4.], dtype=float32)>}\n"
     ]
    }
   ],
   "source": [
    "train_dataset = tf.data.TFRecordDataset(train_files)\n",
    "train_dataset = train_dataset.map(data_utils.parse_tfrecord)\n",
    "\n",
    "for x in train_dataset.batch(1).take(1):\n",
    "    pprint(x)"
   ]
  },
  {
   "cell_type": "markdown",
   "id": "67b4f947-e217-472f-ad08-7b11e829a613",
   "metadata": {},
   "source": [
    "### get vocab\n",
    "\n",
    "**TODO:** \n",
    "* streamline vocab calls"
   ]
  },
  {
   "cell_type": "code",
   "execution_count": 21,
   "id": "12b5616e-7175-4570-90de-2c0cff335f8d",
   "metadata": {},
   "outputs": [
    {
     "name": "stdout",
     "output_type": "stream",
     "text": [
      "GENERATE_VOCABS: False\n"
     ]
    }
   ],
   "source": [
    "GENERATE_VOCABS = False\n",
    "print(f\"GENERATE_VOCABS: {GENERATE_VOCABS}\")\n",
    "\n",
    "VOCAB_SUBDIR   = \"vocabs\"\n",
    "VOCAB_FILENAME = \"vocab_dict.pkl\""
   ]
  },
  {
   "cell_type": "code",
   "execution_count": 22,
   "id": "3051a3d3-4cda-45e4-8a77-fad4496ff562",
   "metadata": {},
   "outputs": [
    {
     "name": "stdout",
     "output_type": "stream",
     "text": [
      "Downloading vocab...\n",
      "Downloaded vocab from: gs://mabv1-hybrid-vertex-bucket/vocabs/vocab_dict.pkl\n",
      "\n",
      "'movie_id'\n",
      "'user_id'\n",
      "'user_occupation_text'\n",
      "'movie_genres'\n",
      "'bucketized_user_age'\n",
      "'max_timestamp'\n",
      "'min_timestamp'\n",
      "'timestamp_buckets'\n"
     ]
    }
   ],
   "source": [
    "if not GENERATE_VOCABS:\n",
    "\n",
    "    EXISTING_VOCAB_FILE = f'gs://{BUCKET_NAME}/{VOCAB_SUBDIR}/{VOCAB_FILENAME}'\n",
    "    print(f\"Downloading vocab...\")\n",
    "    \n",
    "    os.system(f'gsutil -q cp {EXISTING_VOCAB_FILE} .')\n",
    "    print(f\"Downloaded vocab from: {EXISTING_VOCAB_FILE}\\n\")\n",
    "\n",
    "    filehandler = open(VOCAB_FILENAME, 'rb')\n",
    "    vocab_dict = pkl.load(filehandler)\n",
    "    filehandler.close()\n",
    "    \n",
    "    for key in vocab_dict.keys():\n",
    "        pprint(key)"
   ]
  },
  {
   "cell_type": "markdown",
   "id": "ff47bc89-7031-422c-9db6-18a69fa35676",
   "metadata": {},
   "source": [
    "# Per-Arm Bandits"
   ]
  },
  {
   "cell_type": "code",
   "execution_count": 15,
   "id": "427eea7c-9cd5-495c-9bfc-0d52a05d9adf",
   "metadata": {},
   "outputs": [],
   "source": [
    "from tf_agents.bandits.agents import lin_ucb_agent\n",
    "from tf_agents.bandits.environments import stationary_stochastic_per_arm_py_environment as p_a_env\n",
    "from tf_agents.bandits.metrics import tf_metrics as tf_bandit_metrics\n",
    "from tf_agents.drivers import dynamic_step_driver\n",
    "from tf_agents.environments import tf_py_environment\n",
    "from tf_agents.replay_buffers import tf_uniform_replay_buffer\n",
    "from tf_agents.specs import tensor_spec\n",
    "from tf_agents.trajectories import time_step as ts\n",
    "\n",
    "nest = tf.nest"
   ]
  },
  {
   "cell_type": "markdown",
   "id": "a06eba6a-9cbc-422f-924c-db213876dade",
   "metadata": {},
   "source": [
    "## define preprocessing layers for global and arm features\n",
    "\n",
    "The preproccesing layers will ultimately feed the two functions described below, both of which will ultimately feed the `Environment`\n",
    "\n",
    "`global_context_sampling_fn`: \n",
    "* A function that outputs a random 1d array or list of ints or floats\n",
    "* This output is the global context. Its shape and type must be consistent across calls.\n",
    "\n",
    "`arm_context_sampling_fn`: \n",
    "* A function that outputs a random 1 array or list of ints or floats (same type as the output of `global_context_sampling_fn`). * This output is the per-arm context. Its shape must be consistent across calls."
   ]
  },
  {
   "cell_type": "code",
   "execution_count": 16,
   "id": "17750122-51c8-4cfd-a9bf-67b2b3ae79ad",
   "metadata": {},
   "outputs": [],
   "source": [
    "NUM_OOV_BUCKETS        = 1\n",
    "GLOBAL_EMBEDDING_SIZE  = 4\n",
    "MV_EMBEDDING_SIZE      = 8 #32"
   ]
  },
  {
   "cell_type": "markdown",
   "id": "4063e8c9-56b1-441a-88ed-41aff472cbb8",
   "metadata": {},
   "source": [
    "### global preprcoessing layers"
   ]
  },
  {
   "cell_type": "code",
   "execution_count": 19,
   "id": "12f205cd-b918-40f4-9bfc-c36727ac0e18",
   "metadata": {},
   "outputs": [],
   "source": [
    "# global_inputs = []\n",
    "# global_features = []"
   ]
  },
  {
   "cell_type": "markdown",
   "id": "1c06ea19-8bdc-40e1-98f6-f28da6961268",
   "metadata": {},
   "source": [
    "#### user ID"
   ]
  },
  {
   "cell_type": "code",
   "execution_count": 23,
   "id": "eadb0bef-3fe8-4e51-bc80-0ca0e0493844",
   "metadata": {},
   "outputs": [],
   "source": [
    "user_id_input_layer = tf.keras.Input(\n",
    "    name=\"user_id\",\n",
    "    shape=(1,),\n",
    "    dtype=tf.string\n",
    ")\n",
    "\n",
    "user_id_lookup = tf.keras.layers.StringLookup(\n",
    "    max_tokens=len(vocab_dict['user_id']) + NUM_OOV_BUCKETS,\n",
    "    num_oov_indices=NUM_OOV_BUCKETS,\n",
    "    mask_token=None,\n",
    "    vocabulary=vocab_dict['user_id'],\n",
    ")(user_id_input_layer)\n",
    "\n",
    "user_id_embedding = tf.keras.layers.Embedding(\n",
    "    # Let's use the explicit vocabulary lookup.\n",
    "    input_dim=len(vocab_dict['user_id']) + NUM_OOV_BUCKETS,\n",
    "    output_dim=GLOBAL_EMBEDDING_SIZE\n",
    ")(user_id_lookup)\n",
    "\n",
    "user_id_embedding = tf.reduce_sum(user_id_embedding, axis=-2)\n",
    "\n",
    "# global_inputs.append(user_id_input_layer)\n",
    "# global_features.append(user_id_embedding)"
   ]
  },
  {
   "cell_type": "code",
   "execution_count": 31,
   "id": "3a0aca0c-a710-4d0b-b9fe-9613d308149e",
   "metadata": {},
   "outputs": [
    {
     "name": "stdout",
     "output_type": "stream",
     "text": [
      "tf.Tensor([b'346'], shape=(1,), dtype=string)\n",
      "tf.Tensor([[-0.02583126 -0.04207677 -0.03458632  0.0164226 ]], shape=(1, 4), dtype=float32)\n"
     ]
    }
   ],
   "source": [
    "test_user_id_model = tf.keras.Model(inputs=user_id_input_layer, outputs=user_id_embedding)\n",
    "\n",
    "for x in train_dataset.batch(1).take(1):\n",
    "    print(x[\"user_id\"])\n",
    "    print(test_user_id_model(x[\"user_id\"]))"
   ]
  },
  {
   "cell_type": "markdown",
   "id": "d924a649-2b22-4cad-a58b-61b400b5024f",
   "metadata": {},
   "source": [
    "#### user AGE"
   ]
  },
  {
   "cell_type": "code",
   "execution_count": 33,
   "id": "4fed6ae1-3aa3-427d-8db9-c17009af2ea4",
   "metadata": {},
   "outputs": [],
   "source": [
    "user_age_input_layer = tf.keras.Input(\n",
    "    name=\"bucketized_user_age\",\n",
    "    shape=(1,),\n",
    "    dtype=tf.float32\n",
    ")\n",
    "\n",
    "user_age_lookup = tf.keras.layers.IntegerLookup(\n",
    "    vocabulary=vocab_dict['bucketized_user_age'],\n",
    "    num_oov_indices=NUM_OOV_BUCKETS,\n",
    "    oov_value=0,\n",
    ")(user_age_input_layer)\n",
    "\n",
    "user_age_embedding = tf.keras.layers.Embedding(\n",
    "    # Let's use the explicit vocabulary lookup.\n",
    "    input_dim=len(vocab_dict['bucketized_user_age']) + NUM_OOV_BUCKETS,\n",
    "    output_dim=GLOBAL_EMBEDDING_SIZE\n",
    ")(user_age_lookup)\n",
    "\n",
    "user_age_embedding = tf.reduce_sum(user_age_embedding, axis=-2)\n",
    "\n",
    "# global_inputs.append(user_age_input_layer)\n",
    "# global_features.append(user_age_embedding)"
   ]
  },
  {
   "cell_type": "code",
   "execution_count": 35,
   "id": "56f81ef0-e652-4b6b-a7dc-546bf2d1e2f5",
   "metadata": {},
   "outputs": [
    {
     "name": "stdout",
     "output_type": "stream",
     "text": [
      "tf.Tensor([25.], shape=(1,), dtype=float32)\n",
      "tf.Tensor([[ 0.00287176  0.04646393 -0.03537762 -0.04847401]], shape=(1, 4), dtype=float32)\n"
     ]
    }
   ],
   "source": [
    "test_user_age_model = tf.keras.Model(inputs=user_age_input_layer, outputs=user_age_embedding)\n",
    "\n",
    "for x in train_dataset.batch(1).take(1):\n",
    "    print(x[\"bucketized_user_age\"])\n",
    "    print(test_user_age_model(x[\"bucketized_user_age\"]))"
   ]
  },
  {
   "cell_type": "markdown",
   "id": "68ba76d2-d138-4247-b233-57ae0e1c90c4",
   "metadata": {},
   "source": [
    "#### user OCC"
   ]
  },
  {
   "cell_type": "code",
   "execution_count": 34,
   "id": "4f726232-b156-4f74-acab-9488956fe3f0",
   "metadata": {},
   "outputs": [],
   "source": [
    "user_occ_input_layer = tf.keras.Input(\n",
    "    name=\"user_occupation_text\",\n",
    "    shape=(1,),\n",
    "    dtype=tf.string\n",
    ")\n",
    "\n",
    "user_occ_lookup = tf.keras.layers.StringLookup(\n",
    "    max_tokens=len(vocab_dict['user_occupation_text']) + NUM_OOV_BUCKETS,\n",
    "    num_oov_indices=NUM_OOV_BUCKETS,\n",
    "    mask_token=None,\n",
    "    vocabulary=vocab_dict['user_occupation_text'],\n",
    ")(user_occ_input_layer)\n",
    "\n",
    "user_occ_embedding = tf.keras.layers.Embedding(\n",
    "    # Let's use the explicit vocabulary lookup.\n",
    "    input_dim=len(vocab_dict['user_occupation_text']) + NUM_OOV_BUCKETS,\n",
    "    output_dim=GLOBAL_EMBEDDING_SIZE\n",
    ")(user_occ_lookup)\n",
    "\n",
    "user_occ_embedding = tf.reduce_sum(user_occ_embedding, axis=-2)\n",
    "\n",
    "# global_inputs.append(user_occ_input_layer)\n",
    "# global_features.append(user_occ_embedding)"
   ]
  },
  {
   "cell_type": "code",
   "execution_count": 36,
   "id": "abb362a1-d1f0-47f0-bbf2-beaa07ebda02",
   "metadata": {},
   "outputs": [
    {
     "name": "stdout",
     "output_type": "stream",
     "text": [
      "tf.Tensor([b'other'], shape=(1,), dtype=string)\n",
      "tf.Tensor([[-0.02817255  0.02386321  0.00724526  0.03607016]], shape=(1, 4), dtype=float32)\n"
     ]
    }
   ],
   "source": [
    "test_user_occ_model = tf.keras.Model(inputs=user_occ_input_layer, outputs=user_occ_embedding)\n",
    "\n",
    "for x in train_dataset.batch(1).take(1):\n",
    "    print(x[\"user_occupation_text\"])\n",
    "    print(test_user_occ_model(x[\"user_occupation_text\"]))"
   ]
  },
  {
   "cell_type": "markdown",
   "id": "7e072e83-acf4-46c9-8d92-418fa497cd50",
   "metadata": {},
   "source": [
    "#### user Timestamp"
   ]
  },
  {
   "cell_type": "code",
   "execution_count": 37,
   "id": "e9b72286-4e8e-4285-b91b-2f30f2ff6856",
   "metadata": {},
   "outputs": [],
   "source": [
    "user_ts_input_layer = tf.keras.Input(\n",
    "    name=\"timestamp\",\n",
    "    shape=(1,),\n",
    "    dtype=tf.int64\n",
    ")\n",
    "\n",
    "user_ts_lookup = tf.keras.layers.Discretization(\n",
    "    vocab_dict['timestamp_buckets'].tolist()\n",
    ")(user_ts_input_layer)\n",
    "\n",
    "user_ts_embedding = tf.keras.layers.Embedding(\n",
    "    # Let's use the explicit vocabulary lookup.\n",
    "    input_dim=len(vocab_dict['timestamp_buckets'].tolist()) + NUM_OOV_BUCKETS,\n",
    "    output_dim=GLOBAL_EMBEDDING_SIZE\n",
    ")(user_ts_lookup)\n",
    "\n",
    "user_ts_embedding = tf.reduce_sum(user_ts_embedding, axis=-2)\n",
    "\n",
    "# global_inputs.append(user_ts_input_layer)\n",
    "# global_features.append(user_ts_embedding)"
   ]
  },
  {
   "cell_type": "code",
   "execution_count": 38,
   "id": "78a3e08b-88ff-4575-a0e0-80d7c75baa9d",
   "metadata": {},
   "outputs": [
    {
     "name": "stdout",
     "output_type": "stream",
     "text": [
      "tf.Tensor([874948475], shape=(1,), dtype=int64)\n",
      "tf.Tensor([[-0.01595841  0.04967744 -0.04279407 -0.01032622]], shape=(1, 4), dtype=float32)\n"
     ]
    }
   ],
   "source": [
    "test_user_ts_model = tf.keras.Model(inputs=user_ts_input_layer, outputs=user_ts_embedding)\n",
    "\n",
    "for x in train_dataset.batch(1).take(1):\n",
    "    print(x[\"timestamp\"])\n",
    "    print(test_user_ts_model(x[\"timestamp\"]))"
   ]
  },
  {
   "cell_type": "markdown",
   "id": "f1066734-9c48-46ca-8dcb-2eb16a4a3eb7",
   "metadata": {},
   "source": [
    "### create `global_context_sampling_fn()`"
   ]
  },
  {
   "cell_type": "code",
   "execution_count": 126,
   "id": "92be6716-3186-4155-9ca5-272f80ff53bd",
   "metadata": {},
   "outputs": [],
   "source": [
    "def global_context_sampling_fn():\n",
    "    \"\"\"\n",
    "    This function generates a single global observation vector.\n",
    "    \"\"\"\n",
    "    # for x in train_dataset.take(1).as_numpy_iterator():\n",
    "    for x in train_dataset.batch(1).take(1):\n",
    "        user_id_value = x['user_id']\n",
    "        user_age_value = x['bucketized_user_age']\n",
    "        user_occ_value = x['user_occupation_text']\n",
    "        user_ts_value = x['timestamp']\n",
    "        \n",
    "        _id = test_user_id_model(user_id_value)\n",
    "        _age = test_user_age_model(user_age_value)\n",
    "        _occ = test_user_occ_model(user_occ_value)\n",
    "        _ts = test_user_ts_model(user_ts_value)\n",
    "        \n",
    "        # # tmp - insepct numpy() values\n",
    "        # print(_id.numpy()) #[0])\n",
    "        # print(_age.numpy()) #[0])\n",
    "        # print(_occ.numpy()) #[0])\n",
    "        # print(_ts.numpy()) #[0])\n",
    "        \n",
    "        # to numpy array\n",
    "        _id = np.array(_id.numpy()[0])\n",
    "        _age = np.array(_age.numpy()[0])\n",
    "        _occ = np.array(_occ.numpy()[0])\n",
    "        _ts = np.array(_ts.numpy()[0])\n",
    "        \n",
    "        concat = np.concatenate(\n",
    "            [_id, _age, _occ, _ts], axis=-1\n",
    "        ).astype(np.float32)\n",
    "        \n",
    "        return concat"
   ]
  },
  {
   "cell_type": "code",
   "execution_count": 127,
   "id": "307f8f7f-1a52-418e-96c7-8aa93cdf4c69",
   "metadata": {},
   "outputs": [
    {
     "name": "stdout",
     "output_type": "stream",
     "text": [
      "<class 'numpy.ndarray'>\n"
     ]
    },
    {
     "data": {
      "text/plain": [
       "array([-0.02583126, -0.04207677, -0.03458632,  0.0164226 ,  0.00287176,\n",
       "        0.04646393, -0.03537762, -0.04847401, -0.02817255,  0.02386321,\n",
       "        0.00724526,  0.03607016, -0.01595841,  0.04967744, -0.04279407,\n",
       "       -0.01032622], dtype=float32)"
      ]
     },
     "execution_count": 127,
     "metadata": {},
     "output_type": "execute_result"
    }
   ],
   "source": [
    "global_context_sampling_fn()"
   ]
  },
  {
   "cell_type": "code",
   "execution_count": 51,
   "id": "025c8b5c-1c4f-4e70-9f3f-722ae3186fe8",
   "metadata": {},
   "outputs": [],
   "source": [
    "GLOBAL_DIM = 40\n",
    "GLOBAL_BOUND = 10\n",
    "\n",
    "def test_global_context_sampling_fn():\n",
    "    \"\"\"This function generates a single global observation vector.\"\"\"\n",
    "    return np.random.randint(\n",
    "      -GLOBAL_BOUND, GLOBAL_BOUND, [GLOBAL_DIM]).astype(np.float32)"
   ]
  },
  {
   "cell_type": "code",
   "execution_count": 52,
   "id": "c1a51aaf-b49d-48ec-97ac-e46e8edcfa91",
   "metadata": {},
   "outputs": [
    {
     "data": {
      "text/plain": [
       "array([ -1.,   9.,   0.,  -6.,  -7.,  -9.,  -8.,  -8.,   1., -10.,  -8.,\n",
       "         0.,  -7.,  -5.,  -2.,  -1.,  -1.,   2.,   9.,  -8.,   1.,   5.,\n",
       "         3.,  -8.,  -3.,   3.,  -5.,  -2.,   4.,  -6.,   6.,  -9.,   3.,\n",
       "         1., -10.,  -5.,   6.,  -5.,  -3.,  -9.], dtype=float32)"
      ]
     },
     "execution_count": 52,
     "metadata": {},
     "output_type": "execute_result"
    }
   ],
   "source": [
    "test_global_context_sampling_fn()"
   ]
  },
  {
   "cell_type": "markdown",
   "id": "0104490c-ada4-40fb-8a75-9a77136db00b",
   "metadata": {},
   "source": [
    "### arm preprocessing layers"
   ]
  },
  {
   "cell_type": "markdown",
   "id": "fe0dda1b-fa6c-4178-b6d6-3c1449091b6d",
   "metadata": {},
   "source": [
    "#### movie ID"
   ]
  },
  {
   "cell_type": "code",
   "execution_count": 129,
   "id": "767df2d8-0cdd-4f53-90f3-01f555e496ba",
   "metadata": {},
   "outputs": [],
   "source": [
    "mv_id_input_layer = tf.keras.Input(\n",
    "    name=\"movie_id\",\n",
    "    shape=(1,),\n",
    "    dtype=tf.string\n",
    ")\n",
    "\n",
    "mv_id_lookup = tf.keras.layers.StringLookup(\n",
    "    max_tokens=len(vocab_dict['movie_id']) + NUM_OOV_BUCKETS,\n",
    "    num_oov_indices=NUM_OOV_BUCKETS,\n",
    "    mask_token=None,\n",
    "    vocabulary=vocab_dict['movie_id'],\n",
    ")(mv_id_input_layer)\n",
    "\n",
    "mv_id_embedding = tf.keras.layers.Embedding(\n",
    "    # Let's use the explicit vocabulary lookup.\n",
    "    input_dim=len(vocab_dict['movie_id']) + NUM_OOV_BUCKETS,\n",
    "    output_dim=MV_EMBEDDING_SIZE\n",
    ")(mv_id_lookup)\n",
    "\n",
    "mv_id_embedding = tf.reduce_sum(mv_id_embedding, axis=-2)\n",
    "\n",
    "# arm_inputs.append(mv_id_input_layer)\n",
    "# arm_features.append(mv_id_embedding)"
   ]
  },
  {
   "cell_type": "code",
   "execution_count": 130,
   "id": "0a64bdc9-710f-4f61-82fd-3d2f51591c1c",
   "metadata": {},
   "outputs": [
    {
     "name": "stdout",
     "output_type": "stream",
     "text": [
      "tf.Tensor([b'211'], shape=(1,), dtype=string)\n",
      "tf.Tensor(\n",
      "[[-0.04766324  0.04516241 -0.03255399 -0.04533198 -0.04379729  0.0467107\n",
      "  -0.00805283  0.02642926]], shape=(1, 8), dtype=float32)\n"
     ]
    }
   ],
   "source": [
    "test_mv_id_model = tf.keras.Model(inputs=mv_id_input_layer, outputs=mv_id_embedding)\n",
    "\n",
    "for x in train_dataset.batch(1).take(1):\n",
    "    print(x[\"movie_id\"])\n",
    "    print(test_mv_id_model(x[\"movie_id\"]))"
   ]
  },
  {
   "cell_type": "markdown",
   "id": "9bb9f3bd-e4e4-4a26-891e-e04450303f99",
   "metadata": {},
   "source": [
    "#### movie genre"
   ]
  },
  {
   "cell_type": "code",
   "execution_count": 131,
   "id": "a1f35343-6416-4311-bff5-4df2bd74ec81",
   "metadata": {},
   "outputs": [],
   "source": [
    "mv_genre_input_layer = tf.keras.Input(\n",
    "    name=\"movie_genres\",\n",
    "    shape=(1,),\n",
    "    dtype=tf.float32\n",
    ")\n",
    "\n",
    "mv_genre_lookup = tf.keras.layers.IntegerLookup(\n",
    "    vocabulary=vocab_dict['movie_genres'],\n",
    "    num_oov_indices=NUM_OOV_BUCKETS,\n",
    "    oov_value=0,\n",
    ")(mv_genre_input_layer)\n",
    "\n",
    "mv_genre_embedding = tf.keras.layers.Embedding(\n",
    "    # Let's use the explicit vocabulary lookup.\n",
    "    input_dim=len(vocab_dict['movie_genres']) + NUM_OOV_BUCKETS,\n",
    "    output_dim=MV_EMBEDDING_SIZE\n",
    ")(mv_genre_lookup)\n",
    "\n",
    "mv_genre_embedding = tf.reduce_sum(mv_genre_embedding, axis=-2)\n",
    "\n",
    "# arm_inputs.append(mv_genre_input_layer)\n",
    "# arm_features.append(mv_genre_embedding)"
   ]
  },
  {
   "cell_type": "code",
   "execution_count": 132,
   "id": "effa4e73-1568-4cc2-a972-7a6df0ba8f6b",
   "metadata": {},
   "outputs": [
    {
     "name": "stdout",
     "output_type": "stream",
     "text": [
      "tf.Tensor([[4]], shape=(1, 1), dtype=int64)\n",
      "tf.Tensor(\n",
      "[[-0.0385772   0.0493708  -0.00875748  0.00334692  0.01747172  0.04738164\n",
      "   0.00484369 -0.0458091 ]], shape=(1, 8), dtype=float32)\n"
     ]
    }
   ],
   "source": [
    "test_mv_gen_model = tf.keras.Model(inputs=mv_genre_input_layer, outputs=mv_genre_embedding)\n",
    "\n",
    "for x in train_dataset.batch(1).take(1):\n",
    "    print(x[\"movie_genres\"])\n",
    "    print(test_mv_gen_model(x[\"movie_genres\"]))"
   ]
  },
  {
   "cell_type": "markdown",
   "id": "ed21d4da-01b9-4fc3-a905-2f3c75dbafef",
   "metadata": {},
   "source": [
    "### create `arm_context_sampling_fn()`"
   ]
  },
  {
   "cell_type": "code",
   "execution_count": 145,
   "id": "e53deb4f-3a99-4935-88bc-d9f90197da83",
   "metadata": {},
   "outputs": [],
   "source": [
    "def per_arm_context_sampling_fn():\n",
    "    \"\"\"\n",
    "    This function generates a single per-arm observation vector\n",
    "    \"\"\"\n",
    "    for x in train_dataset.batch(1).take(1):\n",
    "        mv_id_value = x['movie_id']\n",
    "        mv_gen_value = x['movie_genres'][0]\n",
    "        \n",
    "        _mid = test_mv_id_model(mv_id_value)\n",
    "        _mgen = test_mv_gen_model(mv_gen_value)\n",
    "        \n",
    "        # to numpy array\n",
    "        _mid = np.array(_mid.numpy()[0])\n",
    "        _mgen = np.array(_mgen.numpy()[0])\n",
    "        \n",
    "        # print(_mid)\n",
    "        # print(_mgen)\n",
    "        \n",
    "        concat = np.concatenate([_mid, _mgen], axis=-1).astype(np.float32)\n",
    "        \n",
    "        return concat"
   ]
  },
  {
   "cell_type": "code",
   "execution_count": 146,
   "id": "a0e8993b-aa11-4b26-bf02-8430a4c34993",
   "metadata": {},
   "outputs": [
    {
     "data": {
      "text/plain": [
       "array([-0.04766324,  0.04516241, -0.03255399, -0.04533198, -0.04379729,\n",
       "        0.0467107 , -0.00805283,  0.02642926, -0.0385772 ,  0.0493708 ,\n",
       "       -0.00875748,  0.00334692,  0.01747172,  0.04738164,  0.00484369,\n",
       "       -0.0458091 ], dtype=float32)"
      ]
     },
     "execution_count": 146,
     "metadata": {},
     "output_type": "execute_result"
    }
   ],
   "source": [
    "per_arm_context_sampling_fn()"
   ]
  },
  {
   "cell_type": "markdown",
   "id": "8313dbbc-2df5-46ee-acb3-47e81693ab42",
   "metadata": {},
   "source": [
    "## define reward function"
   ]
  },
  {
   "cell_type": "code",
   "execution_count": 152,
   "id": "4c30a859-4b6e-4856-8587-2ad6bdf7074b",
   "metadata": {},
   "outputs": [
    {
     "name": "stdout",
     "output_type": "stream",
     "text": [
      "16\n",
      "16\n"
     ]
    }
   ],
   "source": [
    "GLOBAL_DIM = global_context_sampling_fn()\n",
    "GLOBAL_DIM = GLOBAL_DIM.shape[0]\n",
    "print(GLOBAL_DIM)\n",
    "\n",
    "PER_ARM_DIM = per_arm_context_sampling_fn()\n",
    "PER_ARM_DIM = PER_ARM_DIM.shape[0]\n",
    "print(PER_ARM_DIM)"
   ]
  },
  {
   "cell_type": "code",
   "execution_count": 269,
   "id": "6d645532-bae4-4d76-a99a-65f6f203d15e",
   "metadata": {
    "tags": []
   },
   "outputs": [],
   "source": [
    "PARAM_BOUND = 10 \n",
    "\n",
    "# should be similar to\n",
    "reward_param = list(np.random.randint(-PARAM_BOUND, PARAM_BOUND, [GLOBAL_DIM + PER_ARM_DIM]))\n",
    "# reward_param"
   ]
  },
  {
   "cell_type": "code",
   "execution_count": 165,
   "id": "931258fe-6a86-49ab-9e92-203155e7650a",
   "metadata": {},
   "outputs": [
    {
     "data": {
      "text/plain": [
       "32"
      ]
     },
     "execution_count": 165,
     "metadata": {},
     "output_type": "execute_result"
    }
   ],
   "source": [
    "len(reward_param)"
   ]
  },
  {
   "cell_type": "code",
   "execution_count": null,
   "id": "afc45587-ca6a-4a64-b0ae-259babbfa74f",
   "metadata": {},
   "outputs": [
    {
     "data": {
      "text/plain": [
       "1.1144518535584211"
      ]
     },
     "execution_count": 164,
     "metadata": {},
     "output_type": "execute_result"
    }
   ],
   "source": [
    "test_global_out = global_context_sampling_fn()\n",
    "test_arm_out = per_arm_context_sampling_fn()\n",
    "\n",
    "x_x = np.concatenate([test_global_out, test_arm_out], axis=-1)\n",
    "# x_x\n",
    "mu = np.dot(x_x, reward_param)\n",
    "mu"
   ]
  },
  {
   "cell_type": "code",
   "execution_count": 168,
   "id": "96485ec8-43b0-4916-8de9-26a272039037",
   "metadata": {},
   "outputs": [],
   "source": [
    "VARIANCE = 100.0 \n",
    "\n",
    "def linear_normal_reward_fn(x):\n",
    "    \"\"\"This function generates a reward from the concatenated global and per-arm observations.\"\"\"\n",
    "    mu = np.dot(x, reward_param)\n",
    "    return np.random.normal(mu, VARIANCE)"
   ]
  },
  {
   "cell_type": "code",
   "execution_count": 169,
   "id": "822d41ea-264b-4a92-9e9c-699441ae03a9",
   "metadata": {},
   "outputs": [
    {
     "data": {
      "text/plain": [
       "113.71864410600686"
      ]
     },
     "execution_count": 169,
     "metadata": {},
     "output_type": "execute_result"
    }
   ],
   "source": [
    "linear_normal_reward_fn(x_x)"
   ]
  },
  {
   "cell_type": "code",
   "execution_count": 154,
   "id": "329cab98-caac-401f-ab5d-5ecf382bba80",
   "metadata": {},
   "outputs": [],
   "source": [
    "# def _get_rewards(element):\n",
    "#     \"\"\"Calculates reward for the actions.\"\"\"\n",
    "\n",
    "#     def _calc_reward(x):\n",
    "#         \"\"\"Calculates reward for a single action.\"\"\"\n",
    "#         r0 = lambda: tf.constant(0.0)\n",
    "#         r1 = lambda: tf.constant(-10.0)\n",
    "#         r2 = lambda: tf.constant(2.0)\n",
    "#         r3 = lambda: tf.constant(3.0)\n",
    "#         r4 = lambda: tf.constant(4.0)\n",
    "#         r5 = lambda: tf.constant(10.0)\n",
    "#         c1 = tf.equal(x, 1.0)\n",
    "#         c2 = tf.equal(x, 2.0)\n",
    "#         c3 = tf.equal(x, 3.0)\n",
    "#         c4 = tf.equal(x, 4.0)\n",
    "#         c5 = tf.equal(x, 5.0)\n",
    "#         return tf.case([(c1, r1), (c2, r2), (c3, r3),(c4, r4),(c5, r5)], default=r0, exclusive=True)\n",
    "\n",
    "#     return tf.map_fn(\n",
    "#         fn=_calc_reward, \n",
    "#         elems=element['user_rating'], \n",
    "#         dtype=tf.float32\n",
    "#     )"
   ]
  },
  {
   "cell_type": "code",
   "execution_count": 268,
   "id": "2e884a48-2ca0-4253-b455-3a430d6a7744",
   "metadata": {},
   "outputs": [],
   "source": [
    "# for x in train_dataset.batch(1).take(3):\n",
    "#     print(f\"Rating: {x['user_rating']}\")\n",
    "#     print(f\"Reward: {_get_rewards(x)}\") #[\"user_rating\"]))\n",
    "\n",
    "### output ####\n",
    "# Rating: [4.]\n",
    "# Reward: [4.]\n",
    "# Rating: [4.]\n",
    "# Reward: [4.]\n",
    "# Rating: [1.]\n",
    "# Reward: [-10.]"
   ]
  },
  {
   "cell_type": "markdown",
   "id": "489f5b5d-a15d-4d2e-b5c8-b56aa393311b",
   "metadata": {},
   "source": [
    "## define environment"
   ]
  },
  {
   "cell_type": "code",
   "execution_count": 239,
   "id": "420101ac-35bf-4000-add1-b0777b9d6c39",
   "metadata": {},
   "outputs": [],
   "source": [
    "NUM_ACTIONS = 10\n",
    "BATCH_SIZE = 8"
   ]
  },
  {
   "cell_type": "code",
   "execution_count": 240,
   "id": "a3113fbf-ac12-4f05-8ae0-f6a906914724",
   "metadata": {},
   "outputs": [],
   "source": [
    "per_arm_py_env = p_a_env.StationaryStochasticPerArmPyEnvironment(\n",
    "    global_context_sampling_fn,\n",
    "    per_arm_context_sampling_fn,\n",
    "    NUM_ACTIONS,\n",
    "    linear_normal_reward_fn, # _get_rewards\n",
    "    batch_size=BATCH_SIZE\n",
    ")\n",
    "per_arm_tf_env = tf_py_environment.TFPyEnvironment(per_arm_py_env)"
   ]
  },
  {
   "cell_type": "code",
   "execution_count": 241,
   "id": "897bbc9c-a549-4b39-be95-90a91e7c8cb3",
   "metadata": {},
   "outputs": [
    {
     "name": "stdout",
     "output_type": "stream",
     "text": [
      "observation spec:  {'global': TensorSpec(shape=(16,), dtype=tf.float32, name=None), 'per_arm': TensorSpec(shape=(10, 16), dtype=tf.float32, name=None)}\n"
     ]
    }
   ],
   "source": [
    "print('observation spec: ', per_arm_tf_env.observation_spec())"
   ]
  },
  {
   "cell_type": "code",
   "execution_count": 242,
   "id": "0c5007c0-dc03-41d5-acb1-d7d26eee586e",
   "metadata": {
    "collapsed": true,
    "jupyter": {
     "outputs_hidden": true
    },
    "tags": []
   },
   "outputs": [
    {
     "name": "stdout",
     "output_type": "stream",
     "text": [
      "\n",
      "An observation:  {'global': <tf.Tensor: shape=(8, 16), dtype=float32, numpy=\n",
      "array([[-0.02583126, -0.04207677, -0.03458632,  0.0164226 ,  0.00287176,\n",
      "         0.04646393, -0.03537762, -0.04847401, -0.02817255,  0.02386321,\n",
      "         0.00724526,  0.03607016, -0.01595841,  0.04967744, -0.04279407,\n",
      "        -0.01032622],\n",
      "       [-0.02583126, -0.04207677, -0.03458632,  0.0164226 ,  0.00287176,\n",
      "         0.04646393, -0.03537762, -0.04847401, -0.02817255,  0.02386321,\n",
      "         0.00724526,  0.03607016, -0.01595841,  0.04967744, -0.04279407,\n",
      "        -0.01032622],\n",
      "       [-0.02583126, -0.04207677, -0.03458632,  0.0164226 ,  0.00287176,\n",
      "         0.04646393, -0.03537762, -0.04847401, -0.02817255,  0.02386321,\n",
      "         0.00724526,  0.03607016, -0.01595841,  0.04967744, -0.04279407,\n",
      "        -0.01032622],\n",
      "       [-0.02583126, -0.04207677, -0.03458632,  0.0164226 ,  0.00287176,\n",
      "         0.04646393, -0.03537762, -0.04847401, -0.02817255,  0.02386321,\n",
      "         0.00724526,  0.03607016, -0.01595841,  0.04967744, -0.04279407,\n",
      "        -0.01032622],\n",
      "       [-0.02583126, -0.04207677, -0.03458632,  0.0164226 ,  0.00287176,\n",
      "         0.04646393, -0.03537762, -0.04847401, -0.02817255,  0.02386321,\n",
      "         0.00724526,  0.03607016, -0.01595841,  0.04967744, -0.04279407,\n",
      "        -0.01032622],\n",
      "       [-0.02583126, -0.04207677, -0.03458632,  0.0164226 ,  0.00287176,\n",
      "         0.04646393, -0.03537762, -0.04847401, -0.02817255,  0.02386321,\n",
      "         0.00724526,  0.03607016, -0.01595841,  0.04967744, -0.04279407,\n",
      "        -0.01032622],\n",
      "       [-0.02583126, -0.04207677, -0.03458632,  0.0164226 ,  0.00287176,\n",
      "         0.04646393, -0.03537762, -0.04847401, -0.02817255,  0.02386321,\n",
      "         0.00724526,  0.03607016, -0.01595841,  0.04967744, -0.04279407,\n",
      "        -0.01032622],\n",
      "       [-0.02583126, -0.04207677, -0.03458632,  0.0164226 ,  0.00287176,\n",
      "         0.04646393, -0.03537762, -0.04847401, -0.02817255,  0.02386321,\n",
      "         0.00724526,  0.03607016, -0.01595841,  0.04967744, -0.04279407,\n",
      "        -0.01032622]], dtype=float32)>, 'per_arm': <tf.Tensor: shape=(8, 10, 16), dtype=float32, numpy=\n",
      "array([[[-0.04766324,  0.04516241, -0.03255399, ...,  0.04738164,\n",
      "          0.00484369, -0.0458091 ],\n",
      "        [-0.04766324,  0.04516241, -0.03255399, ...,  0.04738164,\n",
      "          0.00484369, -0.0458091 ],\n",
      "        [-0.04766324,  0.04516241, -0.03255399, ...,  0.04738164,\n",
      "          0.00484369, -0.0458091 ],\n",
      "        ...,\n",
      "        [-0.04766324,  0.04516241, -0.03255399, ...,  0.04738164,\n",
      "          0.00484369, -0.0458091 ],\n",
      "        [-0.04766324,  0.04516241, -0.03255399, ...,  0.04738164,\n",
      "          0.00484369, -0.0458091 ],\n",
      "        [-0.04766324,  0.04516241, -0.03255399, ...,  0.04738164,\n",
      "          0.00484369, -0.0458091 ]],\n",
      "\n",
      "       [[-0.04766324,  0.04516241, -0.03255399, ...,  0.04738164,\n",
      "          0.00484369, -0.0458091 ],\n",
      "        [-0.04766324,  0.04516241, -0.03255399, ...,  0.04738164,\n",
      "          0.00484369, -0.0458091 ],\n",
      "        [-0.04766324,  0.04516241, -0.03255399, ...,  0.04738164,\n",
      "          0.00484369, -0.0458091 ],\n",
      "        ...,\n",
      "        [-0.04766324,  0.04516241, -0.03255399, ...,  0.04738164,\n",
      "          0.00484369, -0.0458091 ],\n",
      "        [-0.04766324,  0.04516241, -0.03255399, ...,  0.04738164,\n",
      "          0.00484369, -0.0458091 ],\n",
      "        [-0.04766324,  0.04516241, -0.03255399, ...,  0.04738164,\n",
      "          0.00484369, -0.0458091 ]],\n",
      "\n",
      "       [[-0.04766324,  0.04516241, -0.03255399, ...,  0.04738164,\n",
      "          0.00484369, -0.0458091 ],\n",
      "        [-0.04766324,  0.04516241, -0.03255399, ...,  0.04738164,\n",
      "          0.00484369, -0.0458091 ],\n",
      "        [-0.04766324,  0.04516241, -0.03255399, ...,  0.04738164,\n",
      "          0.00484369, -0.0458091 ],\n",
      "        ...,\n",
      "        [-0.04766324,  0.04516241, -0.03255399, ...,  0.04738164,\n",
      "          0.00484369, -0.0458091 ],\n",
      "        [-0.04766324,  0.04516241, -0.03255399, ...,  0.04738164,\n",
      "          0.00484369, -0.0458091 ],\n",
      "        [-0.04766324,  0.04516241, -0.03255399, ...,  0.04738164,\n",
      "          0.00484369, -0.0458091 ]],\n",
      "\n",
      "       ...,\n",
      "\n",
      "       [[-0.04766324,  0.04516241, -0.03255399, ...,  0.04738164,\n",
      "          0.00484369, -0.0458091 ],\n",
      "        [-0.04766324,  0.04516241, -0.03255399, ...,  0.04738164,\n",
      "          0.00484369, -0.0458091 ],\n",
      "        [-0.04766324,  0.04516241, -0.03255399, ...,  0.04738164,\n",
      "          0.00484369, -0.0458091 ],\n",
      "        ...,\n",
      "        [-0.04766324,  0.04516241, -0.03255399, ...,  0.04738164,\n",
      "          0.00484369, -0.0458091 ],\n",
      "        [-0.04766324,  0.04516241, -0.03255399, ...,  0.04738164,\n",
      "          0.00484369, -0.0458091 ],\n",
      "        [-0.04766324,  0.04516241, -0.03255399, ...,  0.04738164,\n",
      "          0.00484369, -0.0458091 ]],\n",
      "\n",
      "       [[-0.04766324,  0.04516241, -0.03255399, ...,  0.04738164,\n",
      "          0.00484369, -0.0458091 ],\n",
      "        [-0.04766324,  0.04516241, -0.03255399, ...,  0.04738164,\n",
      "          0.00484369, -0.0458091 ],\n",
      "        [-0.04766324,  0.04516241, -0.03255399, ...,  0.04738164,\n",
      "          0.00484369, -0.0458091 ],\n",
      "        ...,\n",
      "        [-0.04766324,  0.04516241, -0.03255399, ...,  0.04738164,\n",
      "          0.00484369, -0.0458091 ],\n",
      "        [-0.04766324,  0.04516241, -0.03255399, ...,  0.04738164,\n",
      "          0.00484369, -0.0458091 ],\n",
      "        [-0.04766324,  0.04516241, -0.03255399, ...,  0.04738164,\n",
      "          0.00484369, -0.0458091 ]],\n",
      "\n",
      "       [[-0.04766324,  0.04516241, -0.03255399, ...,  0.04738164,\n",
      "          0.00484369, -0.0458091 ],\n",
      "        [-0.04766324,  0.04516241, -0.03255399, ...,  0.04738164,\n",
      "          0.00484369, -0.0458091 ],\n",
      "        [-0.04766324,  0.04516241, -0.03255399, ...,  0.04738164,\n",
      "          0.00484369, -0.0458091 ],\n",
      "        ...,\n",
      "        [-0.04766324,  0.04516241, -0.03255399, ...,  0.04738164,\n",
      "          0.00484369, -0.0458091 ],\n",
      "        [-0.04766324,  0.04516241, -0.03255399, ...,  0.04738164,\n",
      "          0.00484369, -0.0458091 ],\n",
      "        [-0.04766324,  0.04516241, -0.03255399, ...,  0.04738164,\n",
      "          0.00484369, -0.0458091 ]]], dtype=float32)>}\n"
     ]
    }
   ],
   "source": [
    "print('\\nAn observation: ', per_arm_tf_env.reset().observation)"
   ]
  },
  {
   "cell_type": "code",
   "execution_count": 243,
   "id": "11c13ae2-0cb3-45ad-9cf7-cf75a712fb7d",
   "metadata": {},
   "outputs": [
    {
     "name": "stdout",
     "output_type": "stream",
     "text": [
      "\n",
      "Rewards after taking an action:  tf.Tensor(\n",
      "[  24.199184    62.48732   -132.08417    131.18488      1.3451474\n",
      "  -50.468956   -42.02937     35.61168  ], shape=(8,), dtype=float32)\n"
     ]
    }
   ],
   "source": [
    "action = tf.zeros(BATCH_SIZE, dtype=tf.int32)\n",
    "time_step = per_arm_tf_env.step(action)\n",
    "print('\\nRewards after taking an action: ', time_step.reward)"
   ]
  },
  {
   "cell_type": "code",
   "execution_count": 244,
   "id": "40f88242-084d-4a08-aea0-11d70466336b",
   "metadata": {},
   "outputs": [],
   "source": [
    "observation_spec = per_arm_tf_env.observation_spec()\n",
    "time_step_spec = ts.time_step_spec(observation_spec)\n",
    "# time_step_spec"
   ]
  },
  {
   "cell_type": "code",
   "execution_count": 245,
   "id": "0f5615a7-6ae1-4ffe-9703-a9e2e6a53419",
   "metadata": {},
   "outputs": [],
   "source": [
    "action_spec = tensor_spec.BoundedTensorSpec(\n",
    "    dtype=tf.int32, shape=(), minimum=0, maximum=NUM_ACTIONS - 1)\n",
    "\n",
    "# action_spec"
   ]
  },
  {
   "cell_type": "code",
   "execution_count": 246,
   "id": "45a60e11-1c81-4016-bd51-e83b070c522b",
   "metadata": {},
   "outputs": [],
   "source": [
    "agent = lin_ucb_agent.LinearUCBAgent(\n",
    "    time_step_spec=time_step_spec,\n",
    "    action_spec=action_spec,\n",
    "    accepts_per_arm_features=True\n",
    ")\n",
    "\n",
    "# agent"
   ]
  },
  {
   "cell_type": "markdown",
   "id": "b19a35ac-be89-4647-b4da-5933bf4f33a6",
   "metadata": {},
   "source": [
    "## The flow of training data"
   ]
  },
  {
   "cell_type": "code",
   "execution_count": 247,
   "id": "46d2d711-c0da-42af-9038-dc46391f35ab",
   "metadata": {},
   "outputs": [
    {
     "name": "stdout",
     "output_type": "stream",
     "text": [
      "training data spec:  Trajectory(\n",
      "{'action': BoundedTensorSpec(shape=(), dtype=tf.int32, name=None, minimum=array(0, dtype=int32), maximum=array(9, dtype=int32)),\n",
      " 'discount': BoundedTensorSpec(shape=(), dtype=tf.float32, name='discount', minimum=array(0., dtype=float32), maximum=array(1., dtype=float32)),\n",
      " 'next_step_type': TensorSpec(shape=(), dtype=tf.int32, name='step_type'),\n",
      " 'observation': DictWrapper({'global': TensorSpec(shape=(16,), dtype=tf.float32, name=None)}),\n",
      " 'policy_info': PerArmPolicyInfo(log_probability=(), predicted_rewards_mean=(), multiobjective_scalarized_predicted_rewards_mean=(), predicted_rewards_optimistic=(), predicted_rewards_sampled=(), bandit_policy_type=(), chosen_arm_features=TensorSpec(shape=(16,), dtype=tf.float32, name=None)),\n",
      " 'reward': TensorSpec(shape=(), dtype=tf.float32, name='reward'),\n",
      " 'step_type': TensorSpec(shape=(), dtype=tf.int32, name='step_type')})\n"
     ]
    }
   ],
   "source": [
    "print('training data spec: ', agent.training_data_spec)"
   ]
  },
  {
   "cell_type": "code",
   "execution_count": 248,
   "id": "ec33187a-3794-4824-b3e6-ddc594129e92",
   "metadata": {},
   "outputs": [
    {
     "name": "stdout",
     "output_type": "stream",
     "text": [
      "observation spec in training:  {'global': TensorSpec(shape=(16,), dtype=tf.float32, name=None)}\n"
     ]
    }
   ],
   "source": [
    "print('observation spec in training: ', agent.training_data_spec.observation)"
   ]
  },
  {
   "cell_type": "code",
   "execution_count": 249,
   "id": "4c5e2a2b-f957-48d4-b9da-a0c13e7eb603",
   "metadata": {},
   "outputs": [
    {
     "name": "stdout",
     "output_type": "stream",
     "text": [
      "chosen arm features:  TensorSpec(shape=(16,), dtype=tf.float32, name=None)\n"
     ]
    }
   ],
   "source": [
    "print('chosen arm features: ', agent.training_data_spec.policy_info.chosen_arm_features)"
   ]
  },
  {
   "cell_type": "markdown",
   "id": "165a655e-6944-4b96-9c0c-d9465b3de2ac",
   "metadata": {},
   "source": [
    "## Defining the Regret Metric"
   ]
  },
  {
   "cell_type": "code",
   "execution_count": 250,
   "id": "f6f98a09-2791-4a22-b014-178ef387596a",
   "metadata": {},
   "outputs": [
    {
     "data": {
      "text/plain": [
       "<tf_agents.bandits.metrics.tf_metrics.RegretMetric at 0x7fe5a92f2da0>"
      ]
     },
     "execution_count": 250,
     "metadata": {},
     "output_type": "execute_result"
    }
   ],
   "source": [
    "def _all_rewards(observation, hidden_param):\n",
    "    \"\"\"Outputs rewards for all actions, given an observation.\"\"\"\n",
    "    hidden_param = tf.cast(hidden_param, dtype=tf.float32)\n",
    "    global_obs = observation['global']\n",
    "    per_arm_obs = observation['per_arm']\n",
    "    num_actions = tf.shape(per_arm_obs)[1]\n",
    "    tiled_global = tf.tile(\n",
    "        tf.expand_dims(global_obs, axis=1), [1, num_actions, 1])\n",
    "    concatenated = tf.concat([tiled_global, per_arm_obs], axis=-1)\n",
    "    rewards = tf.linalg.matvec(concatenated, hidden_param)\n",
    "    return rewards\n",
    "\n",
    "def optimal_reward(observation):\n",
    "    \"\"\"Outputs the maximum expected reward for every element in the batch.\"\"\"\n",
    "    return tf.reduce_max(_all_rewards(observation, reward_param), axis=1)\n",
    "\n",
    "regret_metric = tf_bandit_metrics.RegretMetric(optimal_reward)\n",
    "regret_metric"
   ]
  },
  {
   "cell_type": "markdown",
   "id": "c8874943-2949-4c0d-a800-de56bdf478a4",
   "metadata": {},
   "source": [
    "## Training Loop\n",
    "\n",
    "* train stationary env [example](https://github.com/418sec/agents/blob/master/tf_agents/bandits/agents/examples/v2/train_eval_per_arm_stationary_linear.py)\n",
    "* train loop [src](https://github.com/418sec/agents/blob/master/tf_agents/bandits/agents/examples/v2/trainer.py)\n",
    "\n",
    "\n",
    "**TODO**\n",
    "* add checkpointer\n",
    "* add ditribution strategy (GPU support)"
   ]
  },
  {
   "cell_type": "code",
   "execution_count": 277,
   "id": "ca2d6a26-70da-4d00-a317-e722760f2a72",
   "metadata": {},
   "outputs": [],
   "source": [
    "from tf_agents.bandits.agents.examples.v2 import trainer"
   ]
  },
  {
   "cell_type": "code",
   "execution_count": 278,
   "id": "2e398e5f-dbd4-4f42-9692-8ba44354c21f",
   "metadata": {},
   "outputs": [
    {
     "name": "stdout",
     "output_type": "stream",
     "text": [
      "EXPERIMENT_NAME   : linear-bandit-v1\n",
      "RUN_NAME          : run-20230727-224130\n",
      "LOG_DIR           : gs://mabv1-hybrid-vertex-bucket/linear-bandit-v1/run-20230727-224130/tb-logs\n",
      "ROOT_DIR          : gs://mabv1-hybrid-vertex-bucket/linear-bandit-v1/run-20230727-224130/root\n",
      "ARTIFACTS_DIR     : gs://mabv1-hybrid-vertex-bucket/linear-bandit-v1/run-20230727-224130/artifacts\n"
     ]
    }
   ],
   "source": [
    "EXPERIMENT_NAME   = f'linear-bandit-v1'\n",
    "\n",
    "# new experiment\n",
    "invoke_time       = time.strftime(\"%Y%m%d-%H%M%S\")\n",
    "RUN_NAME          = f'run-{invoke_time}'\n",
    "\n",
    "LOG_DIR           = f\"{BUCKET_URI}/{EXPERIMENT_NAME}/{RUN_NAME}/tb-logs\"\n",
    "ROOT_DIR          = f\"{BUCKET_URI}/{EXPERIMENT_NAME}/{RUN_NAME}/root\"       # Root directory for writing logs/summaries/checkpoints.\n",
    "ARTIFACTS_DIR     = f\"{BUCKET_URI}/{EXPERIMENT_NAME}/{RUN_NAME}/artifacts\"  # Where the trained model will be saved and restored.\n",
    "\n",
    "aiplatform.init(\n",
    "    project=PROJECT_ID,\n",
    "    location=REGION,\n",
    "    experiment=EXPERIMENT_NAME\n",
    ")\n",
    "\n",
    "print(f\"EXPERIMENT_NAME   : {EXPERIMENT_NAME}\")\n",
    "print(f\"RUN_NAME          : {RUN_NAME}\")\n",
    "print(f\"LOG_DIR           : {LOG_DIR}\")\n",
    "print(f\"ROOT_DIR          : {ROOT_DIR}\")\n",
    "print(f\"ARTIFACTS_DIR     : {ARTIFACTS_DIR}\")"
   ]
  },
  {
   "cell_type": "code",
   "execution_count": 279,
   "id": "20a48e3c-adbe-4972-b6fe-ada9ae6334d1",
   "metadata": {},
   "outputs": [],
   "source": [
    "import tensorflow as tf\n",
    "from src.per_arm_rl import trainer_common_v7 as trainer_common\n",
    "\n",
    "TRAINING_LOOPS = 200\n",
    "STEPS_PER_LOOP = 2\n",
    "drop_arm_feature_fn = None"
   ]
  },
  {
   "cell_type": "code",
   "execution_count": 280,
   "id": "d56d096e-7e8c-4d12-bead-d5927f0caf03",
   "metadata": {},
   "outputs": [],
   "source": [
    "replay_buffer = tf_uniform_replay_buffer.TFUniformReplayBuffer(\n",
    "    data_spec=agent.policy.trajectory_spec,\n",
    "    batch_size=BATCH_SIZE,\n",
    "    max_length=STEPS_PER_LOOP\n",
    ")\n",
    "\n",
    "observers = [replay_buffer.add_batch, regret_metric]\n",
    "\n",
    "driver = dynamic_step_driver.DynamicStepDriver(\n",
    "    env=per_arm_tf_env,\n",
    "    policy=agent.collect_policy,\n",
    "    num_steps=STEPS_PER_LOOP * BATCH_SIZE,\n",
    "    observers=observers\n",
    ")"
   ]
  },
  {
   "cell_type": "code",
   "execution_count": null,
   "id": "8ca5cd13-46cb-47f1-96ff-001df278948a",
   "metadata": {},
   "outputs": [
    {
     "name": "stdout",
     "output_type": "stream",
     "text": [
      "starting train loop...\n",
      "step = 0: loss = 11688.7802734375; execution time: 0\n"
     ]
    }
   ],
   "source": [
    "#start the timer and training\n",
    "start_time = time.time()\n",
    "\n",
    "metric_results, regret_values = trainer_common.train_perarm(\n",
    "    agent = agent,\n",
    "    replay_buffer = replay_buffer,\n",
    "    driver = driver,\n",
    "    environment = per_arm_tf_env,\n",
    "    num_iterations = TRAINING_LOOPS,\n",
    "    steps_per_loop = STEPS_PER_LOOP,\n",
    "    log_interval = 1,\n",
    "    regret_metric = regret_metric,\n",
    "    additional_metrics = [regret_metric],\n",
    "    log_dir=LOG_DIR,\n",
    "    model_dir=ARTIFACTS_DIR\n",
    ")\n",
    "\n",
    "end_time = time.time()\n",
    "runtime_mins = int((end_time - start_time) / 60)\n",
    "print(f\"complete train job in {runtime_mins} minutes\")"
   ]
  },
  {
   "cell_type": "markdown",
   "id": "30032707-ea5c-48f9-829f-d1bd6c986882",
   "metadata": {},
   "source": [
    "### log experiment to Vertex"
   ]
  },
  {
   "cell_type": "code",
   "execution_count": 272,
   "id": "3c6c7295-ee12-4516-bb0b-00a9eb68801a",
   "metadata": {},
   "outputs": [
    {
     "data": {
      "text/plain": [
       "3.812655448913574"
      ]
     },
     "execution_count": 272,
     "metadata": {},
     "output_type": "execute_result"
    }
   ],
   "source": [
    "float(metric_results[\"RegretMetric\"][-1])"
   ]
  },
  {
   "cell_type": "code",
   "execution_count": 276,
   "id": "294b2d03-8d8b-4e43-9404-5b1d1e2dbc32",
   "metadata": {},
   "outputs": [],
   "source": [
    "aiplatform.start_run(\n",
    "    RUN_NAME\n",
    "    # , tensorboard=TB_RESOURCE_NAME\n",
    "    , resume=False\n",
    ")\n",
    "\n",
    "aiplatform.log_params(\n",
    "    {\n",
    "        \"runtime\": runtime_mins,\n",
    "        \"batch_size\": BATCH_SIZE, \n",
    "        \"training_loops\": TRAINING_LOOPS,\n",
    "        \"steps_pre_loop\": STEPS_PER_LOOP,\n",
    "        # \"rank_k\": RANK_K,\n",
    "        \"num_actions\": NUM_ACTIONS,\n",
    "        \"per_arm\": \"True\",\n",
    "    }\n",
    ")\n",
    "\n",
    "# gather the metrics for the last epoch to be saved in metrics\n",
    "aiplatform.log_metrics(\n",
    "    {\n",
    "        \"AverageReturnMetric\" : float(metric_results[\"AverageReturnMetric\"][-1])\n",
    "        , \"FinalRegretMetric\" : float(metric_results[\"RegretMetric\"][-1])\n",
    "    }\n",
    ")\n",
    "\n",
    "aiplatform.end_run()"
   ]
  },
  {
   "cell_type": "markdown",
   "id": "98c78ba7-de28-4d16-9bc3-7ab710e2d521",
   "metadata": {},
   "source": [
    "### bandit eval"
   ]
  },
  {
   "cell_type": "code",
   "execution_count": 274,
   "id": "b4b4a349-67de-43a6-8936-1ba8e06f6a3a",
   "metadata": {},
   "outputs": [],
   "source": [
    "# metric_results"
   ]
  },
  {
   "cell_type": "code",
   "execution_count": 259,
   "id": "bcb5c2bd-6a76-45ea-9753-fbc6425e222d",
   "metadata": {},
   "outputs": [
    {
     "name": "stdout",
     "output_type": "stream",
     "text": [
      "NumberOfEpisodes\n",
      "AverageEpisodeLengthMetric\n",
      "AverageReturnMetric\n",
      "RegretMetric\n"
     ]
    }
   ],
   "source": [
    "for key in metric_results:\n",
    "    print(key)"
   ]
  },
  {
   "cell_type": "code",
   "execution_count": 267,
   "id": "660080a6-8362-415a-8869-33d46c8ff50c",
   "metadata": {},
   "outputs": [
    {
     "data": {
      "image/png": "[encoded data removed]",
      "text/plain": [
       "<Figure size 640x480 with 1 Axes>"
      ]
     },
     "metadata": {},
     "output_type": "display_data"
    }
   ],
   "source": [
    "plt.plot(regret_values)\n",
    "plt.title('Regret of LinUCB on the Linear per-arm environment')\n",
    "plt.xlabel('Number of Iterations')\n",
    "_ = plt.ylabel('Average Regret')"
   ]
  },
  {
   "cell_type": "code",
   "execution_count": 260,
   "id": "6fce5879-aca0-4842-b56c-2731b2d33d84",
   "metadata": {},
   "outputs": [],
   "source": [
    "def plot(metric_results, metric_name):\n",
    "    plt.plot(metric_results[metric_name])\n",
    "    plt.ylabel(metric_name)\n",
    "    plt.xlabel(\"Step\")\n",
    "    plt.title(\"{} versus Step\".format(metric_name))"
   ]
  },
  {
   "cell_type": "code",
   "execution_count": 261,
   "id": "40edd180-16ac-46c3-b08d-f375124188bf",
   "metadata": {},
   "outputs": [
    {
     "data": {
      "image/png": "[encoded data removed]",
      "text/plain": [
       "<Figure size 640x480 with 1 Axes>"
      ]
     },
     "metadata": {},
     "output_type": "display_data"
    }
   ],
   "source": [
    "plot(metric_results, \"RegretMetric\")"
   ]
  },
  {
   "cell_type": "code",
   "execution_count": 262,
   "id": "37694f99-723c-41e2-9da8-5a6549edaba3",
   "metadata": {},
   "outputs": [
    {
     "data": {
      "image/png": "[encoded data removed]",
      "text/plain": [
       "<Figure size 640x480 with 1 Axes>"
      ]
     },
     "metadata": {},
     "output_type": "display_data"
    }
   ],
   "source": [
    "plot(metric_results, \"AverageReturnMetric\")"
   ]
  },
  {
   "cell_type": "markdown",
   "id": "46bbd212-db7c-4b95-83af-ec7b6885845f",
   "metadata": {},
   "source": [
    "#### TensorBoard"
   ]
  },
  {
   "cell_type": "code",
   "execution_count": 263,
   "id": "c74689e4-f966-452c-a957-f5f43a184a4b",
   "metadata": {},
   "outputs": [],
   "source": [
    "%load_ext tensorboard\n",
    "# %reload_ext tensorboard"
   ]
  },
  {
   "cell_type": "code",
   "execution_count": 264,
   "id": "a689a0fd-9a5f-4baa-81b0-8306390f492a",
   "metadata": {},
   "outputs": [
    {
     "data": {
      "text/html": [
       "\n",
       "      <iframe id=\"tensorboard-frame-b611a52c3f70dd5e\" width=\"100%\" height=\"800\" frameborder=\"0\">\n",
       "      </iframe>\n",
       "      <script>\n",
       "        (function() {\n",
       "          const frame = document.getElementById(\"tensorboard-frame-b611a52c3f70dd5e\");\n",
       "          const url = new URL(\"/proxy/6006/\", window.location);\n",
       "          const port = 0;\n",
       "          if (port) {\n",
       "            url.port = port;\n",
       "          }\n",
       "          frame.src = url;\n",
       "        })();\n",
       "      </script>\n",
       "    "
      ],
      "text/plain": [
       "<IPython.core.display.HTML object>"
      ]
     },
     "metadata": {},
     "output_type": "display_data"
    }
   ],
   "source": [
    "%tensorboard --logdir=$LOG_DIR"
   ]
  },
  {
   "cell_type": "markdown",
   "id": "166f26b9-1c5e-47a1-bcab-61e7afa4d931",
   "metadata": {
    "tags": []
   },
   "source": [
    "# Neural Bandits\n",
    "\n",
    "* `ActorNetwork` and `EncodingNetwork`"
   ]
  },
  {
   "cell_type": "code",
   "execution_count": 200,
   "id": "dcff2e79-e0a9-4d46-896a-9d1129ac413a",
   "metadata": {},
   "outputs": [],
   "source": [
    "from tf_agents.bandits.agents import neural_epsilon_greedy_agent as eps_greedy_agent\n",
    "from tf_agents.bandits.metrics import tf_metrics as tf_bandit_metrics\n",
    "from tf_agents.bandits.networks import global_and_arm_feature_network"
   ]
  },
  {
   "cell_type": "code",
   "execution_count": 201,
   "id": "9390909d-c0e6-4cee-bdb9-c668a8a7ad8c",
   "metadata": {},
   "outputs": [],
   "source": [
    "LAYERS = [16, 4]\n",
    "LR = 0.05\n",
    "EPSILON = 0.02"
   ]
  },
  {
   "cell_type": "code",
   "execution_count": 202,
   "id": "0d78a5f7-b982-416f-841f-a40ae464d82e",
   "metadata": {},
   "outputs": [],
   "source": [
    "network = (\n",
    "    global_and_arm_feature_network.create_feed_forward_dot_product_network(\n",
    "        per_arm_tf_env.time_step_spec().observation,\n",
    "        global_layers=LAYERS,\n",
    "        arm_layers=LAYERS\n",
    "    )\n",
    ")"
   ]
  },
  {
   "cell_type": "code",
   "execution_count": 203,
   "id": "79c9ca26-1efd-450f-a080-8771fba543f0",
   "metadata": {},
   "outputs": [],
   "source": [
    "eps_agent = eps_greedy_agent.NeuralEpsilonGreedyAgent(\n",
    "    time_step_spec=per_arm_tf_env.time_step_spec(),\n",
    "    action_spec=per_arm_tf_env.action_spec(),\n",
    "    reward_network=network,\n",
    "    optimizer=tf.compat.v1.train.AdamOptimizer(learning_rate=LR),\n",
    "    epsilon=EPSILON,\n",
    "    emit_policy_info='predicted_rewards_mean',\n",
    "    info_fields_to_inherit_from_greedy=['predicted_rewards_mean']\n",
    ")"
   ]
  },
  {
   "cell_type": "code",
   "execution_count": 210,
   "id": "013dbde9-901c-4aeb-b5e7-1ce74ccbd5f2",
   "metadata": {},
   "outputs": [
    {
     "name": "stdout",
     "output_type": "stream",
     "text": [
      "training data spec:  Trajectory(\n",
      "{'action': BoundedTensorSpec(shape=(), dtype=tf.int32, name='action', minimum=array(0, dtype=int32), maximum=array(9, dtype=int32)),\n",
      " 'discount': BoundedTensorSpec(shape=(), dtype=tf.float32, name='discount', minimum=array(0., dtype=float32), maximum=array(1., dtype=float32)),\n",
      " 'next_step_type': TensorSpec(shape=(), dtype=tf.int32, name='step_type'),\n",
      " 'observation': DictWrapper({'global': TensorSpec(shape=(16,), dtype=tf.float32, name=None), 'per_arm': TensorSpec(shape=(10, 16), dtype=tf.float32, name=None)}),\n",
      " 'policy_info': PolicyInfo(log_probability=(), predicted_rewards_mean=TensorSpec(shape=(10,), dtype=tf.float32, name=None), multiobjective_scalarized_predicted_rewards_mean=(), predicted_rewards_optimistic=(), predicted_rewards_sampled=(), bandit_policy_type=()),\n",
      " 'reward': TensorSpec(shape=(), dtype=tf.float32, name='reward'),\n",
      " 'step_type': TensorSpec(shape=(), dtype=tf.int32, name='step_type')})\n"
     ]
    }
   ],
   "source": [
    "print('training data spec: ', eps_agent.training_data_spec)"
   ]
  },
  {
   "cell_type": "code",
   "execution_count": 211,
   "id": "c37d0604-d73c-4db4-a1f2-858d6cc84989",
   "metadata": {},
   "outputs": [
    {
     "name": "stdout",
     "output_type": "stream",
     "text": [
      "observation spec in training:  {'global': TensorSpec(shape=(16,), dtype=tf.float32, name=None), 'per_arm': TensorSpec(shape=(10, 16), dtype=tf.float32, name=None)}\n"
     ]
    }
   ],
   "source": [
    "print('observation spec in training: ', eps_agent.training_data_spec.observation)"
   ]
  },
  {
   "cell_type": "code",
   "execution_count": 213,
   "id": "449ccbaf-2245-40f9-ad23-9b16e1aa03ef",
   "metadata": {},
   "outputs": [],
   "source": [
    "# print('chosen arm features: ', eps_agent.training_data_spec.policy_info.chosen_arm_features)"
   ]
  },
  {
   "cell_type": "code",
   "execution_count": 214,
   "id": "8851d632-62dd-4c41-ae5e-1c944e0ff9ac",
   "metadata": {},
   "outputs": [],
   "source": [
    "TRAINING_LOOPS=10\n",
    "STEPS_PER_LOOP=1"
   ]
  },
  {
   "cell_type": "code",
   "execution_count": 215,
   "id": "b6639883-0549-4fd0-83c1-a2723f946b48",
   "metadata": {},
   "outputs": [
    {
     "name": "stdout",
     "output_type": "stream",
     "text": [
      "complete train job in 1 minutes\n"
     ]
    }
   ],
   "source": [
    "replay_buffer = tf_uniform_replay_buffer.TFUniformReplayBuffer(\n",
    "    data_spec=eps_agent.policy.trajectory_spec,\n",
    "    batch_size=BATCH_SIZE,\n",
    "    max_length=steps_per_loop)\n",
    "\n",
    "observers = [replay_buffer.add_batch, regret_metric]\n",
    "\n",
    "driver = dynamic_step_driver.DynamicStepDriver(\n",
    "    env=per_arm_tf_env,\n",
    "    policy=eps_agent.collect_policy,\n",
    "    num_steps=steps_per_loop * BATCH_SIZE,\n",
    "    observers=observers\n",
    ")\n",
    "\n",
    "regret_values = []\n",
    "\n",
    "#start the timer and training\n",
    "start_time = time.time()\n",
    "\n",
    "for _ in range(TRAINING_LOOPS):\n",
    "    driver.run()\n",
    "    loss_info = eps_agent.train(replay_buffer.gather_all())\n",
    "    replay_buffer.clear()\n",
    "    regret_values.append(regret_metric.result())\n",
    "    \n",
    "end_time = time.time()\n",
    "runtime_mins = int((end_time - start_time) / 60)\n",
    "print(f\"complete train job in {runtime_mins} minutes\")"
   ]
  },
  {
   "cell_type": "code",
   "execution_count": 216,
   "id": "3c46b97b-64bb-4b34-90fa-9d54ab8d2775",
   "metadata": {},
   "outputs": [
    {
     "data": {
      "image/png": "[encoded data removed]",
      "text/plain": [
       "<Figure size 640x480 with 1 Axes>"
      ]
     },
     "metadata": {},
     "output_type": "display_data"
    }
   ],
   "source": [
    "plt.plot(regret_values)\n",
    "plt.title('Regret of LinUCB on the Linear per-arm environment')\n",
    "plt.xlabel('Number of Iterations')\n",
    "_ = plt.ylabel('Average Regret')"
   ]
  },
  {
   "cell_type": "markdown",
   "id": "b1ada77e-a81d-408e-9c1e-7bfab1ffaf71",
   "metadata": {
    "jp-MarkdownHeadingCollapsed": true,
    "tags": []
   },
   "source": [
    "#### TODO"
   ]
  },
  {
   "cell_type": "code",
   "execution_count": null,
   "id": "8bca1220-b08c-46af-9f20-6032d61cb73c",
   "metadata": {},
   "outputs": [],
   "source": [
    "# elif FLAGS.agent == 'NeuralLinUCB':\n",
    "# obs_spec = environment.observation_spec()\n",
    "# network = (\n",
    "#     global_and_arm_feature_network.create_feed_forward_common_tower_network(\n",
    "#         obs_spec, (40, 30), (30, 40), (40, 20), ENCODING_DIM\n",
    "#     )\n",
    "# )\n",
    "# agent = neural_linucb_agent.NeuralLinUCBAgent(\n",
    "#     time_step_spec=environment.time_step_spec(),\n",
    "#     action_spec=environment.action_spec(),\n",
    "#     encoding_network=network,\n",
    "#     encoding_network_num_train_steps=EPS_PHASE_STEPS,\n",
    "#     encoding_dim=ENCODING_DIM,\n",
    "#     optimizer=tf.compat.v1.train.AdamOptimizer(learning_rate=LR),\n",
    "#     alpha=1.0,\n",
    "#     gamma=1.0,\n",
    "#     epsilon_greedy=EPSILON,\n",
    "#     accepts_per_arm_features=True,\n",
    "#     debug_summaries=True,\n",
    "#     summarize_grads_and_vars=True,\n",
    "#     emit_policy_info=policy_utilities.InfoFields.PREDICTED_REWARDS_MEAN,\n",
    "# )"
   ]
  }
 ],
 "metadata": {
  "environment": {
   "kernel": "python3",
   "name": "tf2-gpu.2-11.m109",
   "type": "gcloud",
   "uri": "gcr.io/deeplearning-platform-release/tf2-gpu.2-11:m109"
  },
  "kernelspec": {
   "display_name": "Python 3",
   "language": "python",
   "name": "python3"
  },
  "language_info": {
   "codemirror_mode": {
    "name": "ipython",
    "version": 3
   },
   "file_extension": ".py",
   "mimetype": "text/x-python",
   "name": "python",
   "nbconvert_exporter": "python",
   "pygments_lexer": "ipython3",
   "version": "3.10.11"
  }
 },
 "nbformat": 4,
 "nbformat_minor": 5
}
