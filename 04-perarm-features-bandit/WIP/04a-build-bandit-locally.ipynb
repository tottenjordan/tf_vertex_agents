{
 "cells": [
  {
   "cell_type": "markdown",
   "id": "20186113-434a-46b9-887a-a90644015544",
   "metadata": {},
   "source": [
    "# Build Neural Linear Bandits with per-arm features\n",
    "\n",
    "**Exploring linear and nonlinear** (e.g., those with neural network-based value functions) bandit methods for recommendations using TF-Agents\n",
    "\n",
    "> Neural linear bandits provide a nice way to leverage the representation power of deep learning and the bandit approach for uncertainty measure and efficient exploration"
   ]
  },
  {
   "cell_type": "markdown",
   "id": "71e1cc80-f6d2-4c3c-88a6-79ba18146af0",
   "metadata": {
    "tags": []
   },
   "source": [
    "## Notes"
   ]
  },
  {
   "cell_type": "markdown",
   "id": "1992e479-1aed-401a-ad25-714537f8e7a6",
   "metadata": {
    "tags": []
   },
   "source": [
    "### Why generalize bandits to neural network models?"
   ]
  },
  {
   "cell_type": "markdown",
   "id": "b828dd5d-fa1b-4d56-a1a8-e1bed7fb4717",
   "metadata": {},
   "source": [
    "* NeuralLinear Bandits are linear contextual bandits use the last layer representation of the neural network as the contextual features\n",
    "* NeuralLinear works well [paper](https://arxiv.org/pdf/1802.09127.pdf)\n",
    "* Decouples representation learning and uncertainty estimation\n",
    "* Computationally inexpensive \n",
    "* Achieves superior performance on multiple datasets"
   ]
  },
  {
   "cell_type": "markdown",
   "id": "e7a2c7ee-c96b-49d1-b825-d004d729b8fe",
   "metadata": {
    "tags": []
   },
   "source": [
    "### Arm features"
   ]
  },
  {
   "cell_type": "markdown",
   "id": "4ebd295e-2dcf-447c-b5c3-120cb9618d73",
   "metadata": {},
   "source": [
    "* In some bandits use cases, each arm has its own features. For example, in movie recommendation problems, the user features play the role of the context and the movies play the role of the arms (aka actions) \n",
    "* Each movie has its own features, such as `text description`, `metadata`, `trailer content` features and so on\n",
    "\n",
    "These problems are often referred to as `arm features problems`"
   ]
  },
  {
   "cell_type": "markdown",
   "id": "231a80d8-6325-4754-8a26-36f7dc942d1f",
   "metadata": {
    "tags": []
   },
   "source": [
    "### Methods in this notebook:"
   ]
  },
  {
   "cell_type": "markdown",
   "id": "16090153-a1fa-4c94-956c-f3ea232da57b",
   "metadata": {},
   "source": [
    "* [global_and_arm_feature_networks](https://www.tensorflow.org/agents/api_docs/python/tf_agents/bandits/networks/global_and_arm_feature_network) to preprocess user (global) and item (per-arm) features, and output rewards\n",
    "* `EncodingNetwork` to define a mapping of pre-processing layers to apply to a network's input \n",
    "* `ActorNetworks` to learn a mapping from observations to actions. These networks are usually used by our policies to generate actions"
   ]
  },
  {
   "cell_type": "markdown",
   "id": "1257ebc8-1f8d-4317-b103-830c4915957a",
   "metadata": {
    "tags": []
   },
   "source": [
    "### references"
   ]
  },
  {
   "cell_type": "markdown",
   "id": "001d3894-b4a6-459f-b7a4-2a1f8ea03296",
   "metadata": {},
   "source": [
    "**TF-Agent tutorials:**\n",
    "\n",
    "(1) [Multi-Armed Bandits with Per-Arm Features](https://www.tensorflow.org/agents/tutorials/per_arm_bandits_tutorial)\n",
    "\n",
    "* step-by-step guide on how to use the TF-Agents library for contextual bandits problems where the actions (arms) have their own features, such as a list of movies represented by features (genre, year of release, ...)\n",
    "\n",
    "(2) [Networks](https://www.tensorflow.org/agents/tutorials/8_networks_tutorial)\n",
    "\n",
    "* define custom networks for your agents\n",
    "* The networks help us define the model that is trained by agents\n",
    "\n",
    "(3) [Ranking](https://www.tensorflow.org/agents/tutorials/ranking_tutorial)\n",
    "\n",
    "* ranking algorithms implemented as part of the TF-Agents Bandits library \n",
    "* In a ranking problem, in every iteration an agent is presented with a set of items, and is tasked with ranking some or all of them to a list\n",
    "* This ranking decision then receives some form of feedback (maybe a user does or does not click on one or more of the selected items for example)\n",
    "* The goal of the agent is to optimize some metric/reward with the goal of making better decisions over time"
   ]
  },
  {
   "cell_type": "markdown",
   "id": "8b43f6ae-355c-4b28-ab76-8002ec3560cf",
   "metadata": {
    "tags": []
   },
   "source": [
    "# setup notebook environment"
   ]
  },
  {
   "cell_type": "code",
   "execution_count": 621,
   "id": "b0365ddc-7035-458e-9d3e-f8dfd6c71eed",
   "metadata": {},
   "outputs": [],
   "source": [
    "# !pwd"
   ]
  },
  {
   "cell_type": "code",
   "execution_count": 1,
   "id": "46b5efda-4f00-4281-9afa-a9244540c7d3",
   "metadata": {},
   "outputs": [
    {
     "data": {
      "text/plain": [
       "'/home/jupyter/tf_vertex_agents/04-perarm-features-bandit'"
      ]
     },
     "execution_count": 1,
     "metadata": {},
     "output_type": "execute_result"
    }
   ],
   "source": [
    "import os\n",
    "\n",
    "root_path = '/home/jupyter/tf_vertex_agents/04-perarm-features-bandit'\n",
    "os.chdir(root_path)\n",
    "os.getcwd()"
   ]
  },
  {
   "cell_type": "code",
   "execution_count": 2,
   "id": "b607559b-5cb9-4e2a-b4e2-a4103a03f6a0",
   "metadata": {},
   "outputs": [
    {
     "name": "stdout",
     "output_type": "stream",
     "text": [
      "aiplatform SDK version: 1.26.0\n"
     ]
    }
   ],
   "source": [
    "! python3 -c \"import google.cloud.aiplatform; print('aiplatform SDK version: {}'.format(google.cloud.aiplatform.__version__))\""
   ]
  },
  {
   "cell_type": "markdown",
   "id": "2b30ef95-19f8-43a0-80c7-4e92d992a698",
   "metadata": {},
   "source": [
    "## Load env config\n",
    "\n",
    "* use the prefix from `00-env-setup`"
   ]
  },
  {
   "cell_type": "code",
   "execution_count": 1713,
   "id": "f8fe1d6b-5cc4-4f04-9d66-1218f636dab1",
   "metadata": {},
   "outputs": [],
   "source": [
    "PREFIX = 'mabv1'"
   ]
  },
  {
   "cell_type": "code",
   "execution_count": 4,
   "id": "e1fc6a03-f6ab-4084-a9eb-3ee969303067",
   "metadata": {},
   "outputs": [
    {
     "name": "stdout",
     "output_type": "stream",
     "text": [
      "\n",
      "PROJECT_ID               = \"hybrid-vertex\"\n",
      "PROJECT_NUM              = \"934903580331\"\n",
      "LOCATION                 = \"us-central1\"\n",
      "\n",
      "REGION                   = \"us-central1\"\n",
      "BQ_LOCATION              = \"US\"\n",
      "VPC_NETWORK_NAME         = \"ucaip-haystack-vpc-network\"\n",
      "\n",
      "VERTEX_SA                = \"934903580331-compute@developer.gserviceaccount.com\"\n",
      "\n",
      "PREFIX                   = \"mabv1\"\n",
      "VERSION                  = \"v1\"\n",
      "\n",
      "BUCKET_NAME              = \"mabv1-hybrid-vertex-bucket\"\n",
      "DATA_GCS_PREFIX          = \"data\"\n",
      "DATA_PATH                = \"gs://mabv1-hybrid-vertex-bucket/data\"\n",
      "BUCKET_URI               = \"gs://mabv1-hybrid-vertex-bucket\"\n",
      "\n",
      "VPC_NETWORK_FULL         = \"projects/934903580331/global/networks/ucaip-haystack-vpc-network\"\n",
      "\n",
      "BIGQUERY_DATASET_ID      = \"hybrid-vertex.movielens_dataset_mabv1\"\n",
      "BIGQUERY_TABLE_ID        = \"hybrid-vertex.movielens_dataset_mabv1.training_dataset\"\n",
      "\n",
      "REPO_DOCKER_PATH_PREFIX  = \"src\"\n",
      "RL_SUB_DIR               = \"per_arm_rl\"\n",
      "\n"
     ]
    }
   ],
   "source": [
    "# staging GCS\n",
    "GCP_PROJECTS             = !gcloud config get-value project\n",
    "PROJECT_ID               = GCP_PROJECTS[0]\n",
    "\n",
    "# GCS bucket and paths\n",
    "BUCKET_NAME              = f'{PREFIX}-{PROJECT_ID}-bucket'\n",
    "BUCKET_URI               = f'gs://{BUCKET_NAME}'\n",
    "\n",
    "config = !gsutil cat {BUCKET_URI}/config/notebook_env.py\n",
    "print(config.n)\n",
    "exec(config.n)"
   ]
  },
  {
   "cell_type": "markdown",
   "id": "0412d4a8-57e6-46a6-a1cc-79eda9dc7044",
   "metadata": {},
   "source": [
    "## imports"
   ]
  },
  {
   "cell_type": "code",
   "execution_count": 5,
   "id": "04ed6f19-461e-47b2-99e6-6533372f49ec",
   "metadata": {},
   "outputs": [],
   "source": [
    "import os\n",
    "os.environ['TF_CPP_MIN_LOG_LEVEL'] = '2'"
   ]
  },
  {
   "cell_type": "code",
   "execution_count": 6,
   "id": "700ff6d8-c406-4b95-8435-890e2597578e",
   "metadata": {},
   "outputs": [],
   "source": [
    "import functools\n",
    "from collections import defaultdict\n",
    "from typing import Callable, Dict, List, Optional, TypeVar\n",
    "from datetime import datetime\n",
    "import time\n",
    "from pprint import pprint\n",
    "import pickle as pkl\n",
    "\n",
    "# logging\n",
    "import logging\n",
    "logging.disable(logging.WARNING)\n",
    "\n",
    "import matplotlib.pyplot as plt\n",
    "import numpy as np\n",
    "\n",
    "# google cloud\n",
    "from google.cloud import aiplatform, storage\n",
    "\n",
    "# tensorflow\n",
    "import tensorflow as tf\n",
    "from tf_agents.agents import TFAgent\n",
    "\n",
    "from tf_agents.bandits.environments import stationary_stochastic_per_arm_py_environment as p_a_env\n",
    "from tf_agents.bandits.metrics import tf_metrics as tf_bandit_metrics\n",
    "from tf_agents.drivers import dynamic_step_driver\n",
    "from tf_agents.environments import tf_py_environment\n",
    "from tf_agents.replay_buffers import tf_uniform_replay_buffer\n",
    "from tf_agents.specs import tensor_spec\n",
    "from tf_agents.trajectories import time_step as ts\n",
    "\n",
    "from tf_agents.bandits.agents import lin_ucb_agent\n",
    "from tf_agents.bandits.agents import linear_thompson_sampling_agent as lin_ts_agent\n",
    "from tf_agents.bandits.agents import neural_epsilon_greedy_agent\n",
    "from tf_agents.bandits.agents import neural_linucb_agent\n",
    "from tf_agents.bandits.networks import global_and_arm_feature_network\n",
    "\n",
    "# GPU\n",
    "from numba import cuda \n",
    "import gc\n",
    "\n",
    "# my project\n",
    "from src.per_arm_rl import data_utils\n",
    "from src.per_arm_rl import data_config\n",
    "\n",
    "# tf exceptions and vars\n",
    "if tf.__version__[0] != \"2\":\n",
    "    raise Exception(\"The trainer only runs with TensorFlow version 2.\")\n",
    "\n",
    "T = TypeVar(\"T\")"
   ]
  },
  {
   "cell_type": "markdown",
   "id": "d5932fdb-6c52-40c1-8982-73043aec365d",
   "metadata": {},
   "source": [
    "### detect GPUs & reset devices"
   ]
  },
  {
   "cell_type": "code",
   "execution_count": 7,
   "id": "86056d0f-264d-4e91-bd7c-c01ec1978954",
   "metadata": {},
   "outputs": [
    {
     "name": "stdout",
     "output_type": "stream",
     "text": [
      "Num GPUs Available:  1\n"
     ]
    }
   ],
   "source": [
    "# gpus = tf.config.experimental.list_physical_devices('GPU')\n",
    "# for gpu in gpus:\n",
    "#     tf.config.experimental.set_memory_growth(gpu, True)\n",
    "    \n",
    "# gpus\n",
    "\n",
    "print(\"Num GPUs Available: \", len(tf.config.list_physical_devices('GPU')))"
   ]
  },
  {
   "cell_type": "code",
   "execution_count": 10,
   "id": "ad238cbb-4e17-490f-b9ca-61b0b2facf6a",
   "metadata": {},
   "outputs": [
    {
     "data": {
      "text/plain": [
       "19"
      ]
     },
     "execution_count": 10,
     "metadata": {},
     "output_type": "execute_result"
    }
   ],
   "source": [
    "device = cuda.get_current_device()\n",
    "device.reset()\n",
    "gc.collect()"
   ]
  },
  {
   "cell_type": "markdown",
   "id": "62ed3980-935d-4888-b146-0779123c8827",
   "metadata": {},
   "source": [
    "### Initialize Google Cloud SDK Clients"
   ]
  },
  {
   "cell_type": "code",
   "execution_count": 11,
   "id": "c379affe-f4d2-46f4-8978-ac1c284bac97",
   "metadata": {},
   "outputs": [],
   "source": [
    "# cloud storage client\n",
    "storage_client = storage.Client(project=PROJECT_ID)\n",
    "\n",
    "# Vertex client\n",
    "aiplatform.init(project=PROJECT_ID, location=LOCATION)"
   ]
  },
  {
   "cell_type": "markdown",
   "id": "e2a69631-daf5-4cd2-bfd7-d1ece76c3976",
   "metadata": {
    "toc-hr-collapsed": true
   },
   "source": [
    "# Data prep"
   ]
  },
  {
   "cell_type": "markdown",
   "id": "0b364d92-026c-4d2f-97ed-631dab496deb",
   "metadata": {},
   "source": [
    "### Read TF Records"
   ]
  },
  {
   "cell_type": "code",
   "execution_count": 12,
   "id": "85e5e712-dbf6-42f8-9f7d-1d9d6fa3b3f9",
   "metadata": {},
   "outputs": [],
   "source": [
    "options = tf.data.Options()\n",
    "options.experimental_distribute.auto_shard_policy = tf.data.experimental.AutoShardPolicy.AUTO"
   ]
  },
  {
   "cell_type": "code",
   "execution_count": 13,
   "id": "22b9c216-b368-4b58-b9d1-f35c44008c63",
   "metadata": {},
   "outputs": [
    {
     "data": {
      "text/plain": [
       "['gs://mabv1-hybrid-vertex-bucket/data/val/ml-ratings-100k-val.tfrecord']"
      ]
     },
     "execution_count": 13,
     "metadata": {},
     "output_type": "execute_result"
    }
   ],
   "source": [
    "train_files = []\n",
    "for blob in storage_client.list_blobs(f\"{BUCKET_NAME}\", prefix=f'{DATA_GCS_PREFIX}/val'): # tmp TODO - \"train\"\n",
    "    if '.tfrecord' in blob.name:\n",
    "        train_files.append(blob.public_url.replace(\"https://storage.googleapis.com/\", \"gs://\"))\n",
    "        \n",
    "train_files"
   ]
  },
  {
   "cell_type": "code",
   "execution_count": 14,
   "id": "89711072-2807-4c08-9056-f67e8a39cc03",
   "metadata": {},
   "outputs": [
    {
     "name": "stdout",
     "output_type": "stream",
     "text": [
      "{'bucketized_user_age': <tf.Tensor: shape=(1,), dtype=float32, numpy=array([25.], dtype=float32)>,\n",
      " 'movie_genres': <tf.Tensor: shape=(1, 1), dtype=int64, numpy=array([[4]])>,\n",
      " 'movie_id': <tf.Tensor: shape=(1,), dtype=string, numpy=array([b'211'], dtype=object)>,\n",
      " 'timestamp': <tf.Tensor: shape=(1,), dtype=int64, numpy=array([874948475])>,\n",
      " 'user_id': <tf.Tensor: shape=(1,), dtype=string, numpy=array([b'346'], dtype=object)>,\n",
      " 'user_occupation_text': <tf.Tensor: shape=(1,), dtype=string, numpy=array([b'other'], dtype=object)>,\n",
      " 'user_rating': <tf.Tensor: shape=(1,), dtype=float32, numpy=array([4.], dtype=float32)>}\n"
     ]
    }
   ],
   "source": [
    "train_dataset = tf.data.TFRecordDataset(train_files)\n",
    "train_dataset = train_dataset.map(data_utils.parse_tfrecord)\n",
    "\n",
    "for x in train_dataset.batch(1).take(1):\n",
    "    pprint(x)"
   ]
  },
  {
   "cell_type": "markdown",
   "id": "67b4f947-e217-472f-ad08-7b11e829a613",
   "metadata": {},
   "source": [
    "### get vocab\n",
    "\n",
    "**TODO:** \n",
    "* streamline vocab calls"
   ]
  },
  {
   "cell_type": "code",
   "execution_count": 15,
   "id": "12b5616e-7175-4570-90de-2c0cff335f8d",
   "metadata": {},
   "outputs": [
    {
     "name": "stdout",
     "output_type": "stream",
     "text": [
      "GENERATE_VOCABS: False\n"
     ]
    }
   ],
   "source": [
    "GENERATE_VOCABS = False\n",
    "print(f\"GENERATE_VOCABS: {GENERATE_VOCABS}\")\n",
    "\n",
    "VOCAB_SUBDIR   = \"vocabs\"\n",
    "VOCAB_FILENAME = \"vocab_dict.pkl\""
   ]
  },
  {
   "cell_type": "code",
   "execution_count": 16,
   "id": "3051a3d3-4cda-45e4-8a77-fad4496ff562",
   "metadata": {},
   "outputs": [
    {
     "name": "stdout",
     "output_type": "stream",
     "text": [
      "Downloading vocab...\n",
      "Downloaded vocab from: gs://mabv1-hybrid-vertex-bucket/vocabs/vocab_dict.pkl\n",
      "\n",
      "'movie_id'\n",
      "'user_id'\n",
      "'user_occupation_text'\n",
      "'movie_genres'\n",
      "'bucketized_user_age'\n",
      "'max_timestamp'\n",
      "'min_timestamp'\n",
      "'timestamp_buckets'\n"
     ]
    }
   ],
   "source": [
    "if not GENERATE_VOCABS:\n",
    "\n",
    "    EXISTING_VOCAB_FILE = f'gs://{BUCKET_NAME}/{VOCAB_SUBDIR}/{VOCAB_FILENAME}'\n",
    "    print(f\"Downloading vocab...\")\n",
    "    \n",
    "    os.system(f'gsutil -q cp {EXISTING_VOCAB_FILE} .')\n",
    "    print(f\"Downloaded vocab from: {EXISTING_VOCAB_FILE}\\n\")\n",
    "\n",
    "    filehandler = open(VOCAB_FILENAME, 'rb')\n",
    "    vocab_dict = pkl.load(filehandler)\n",
    "    filehandler.close()\n",
    "    \n",
    "    for key in vocab_dict.keys():\n",
    "        pprint(key)"
   ]
  },
  {
   "cell_type": "markdown",
   "id": "ff47bc89-7031-422c-9db6-18a69fa35676",
   "metadata": {},
   "source": [
    "# Per-Arm Bandits"
   ]
  },
  {
   "cell_type": "code",
   "execution_count": 17,
   "id": "427eea7c-9cd5-495c-9bfc-0d52a05d9adf",
   "metadata": {},
   "outputs": [],
   "source": [
    "from tf_agents.bandits.agents import lin_ucb_agent\n",
    "from tf_agents.bandits.environments import stationary_stochastic_per_arm_py_environment as p_a_env\n",
    "from tf_agents.bandits.metrics import tf_metrics as tf_bandit_metrics\n",
    "from tf_agents.drivers import dynamic_step_driver\n",
    "from tf_agents.environments import tf_py_environment\n",
    "from tf_agents.replay_buffers import tf_uniform_replay_buffer\n",
    "from tf_agents.specs import tensor_spec\n",
    "from tf_agents.trajectories import time_step as ts\n",
    "\n",
    "nest = tf.nest"
   ]
  },
  {
   "cell_type": "raw",
   "id": "b8d58dd5-2fa1-4f1a-9448-570f0815f990",
   "metadata": {},
   "source": [
    "## define preprocessing layers for global and arm features\n",
    "\n",
    "The preproccesing layers will ultimately feed the two functions described below, both of which will ultimately feed the `Environment`\n",
    "\n",
    "`global_context_sampling_fn`: \n",
    "* A function that outputs a random 1d array or list of ints or floats\n",
    "* This output is the global context. Its shape and type must be consistent across calls.\n",
    "\n",
    "`arm_context_sampling_fn`: \n",
    "* A function that outputs a random 1 array or list of ints or floats (same type as the output of `global_context_sampling_fn`). * This output is the per-arm context. Its shape must be consistent across calls."
   ]
  },
  {
   "cell_type": "code",
   "execution_count": 18,
   "id": "17750122-51c8-4cfd-a9bf-67b2b3ae79ad",
   "metadata": {},
   "outputs": [],
   "source": [
    "NUM_OOV_BUCKETS        = 1\n",
    "GLOBAL_EMBEDDING_SIZE  = 4\n",
    "MV_EMBEDDING_SIZE      = 8 #32"
   ]
  },
  {
   "cell_type": "markdown",
   "id": "4063e8c9-56b1-441a-88ed-41aff472cbb8",
   "metadata": {
    "toc-hr-collapsed": true
   },
   "source": [
    "### global preprcoessing layers"
   ]
  },
  {
   "cell_type": "code",
   "execution_count": 19,
   "id": "12f205cd-b918-40f4-9bfc-c36727ac0e18",
   "metadata": {},
   "outputs": [],
   "source": [
    "# global_inputs = []\n",
    "# global_features = []"
   ]
  },
  {
   "cell_type": "markdown",
   "id": "1c06ea19-8bdc-40e1-98f6-f28da6961268",
   "metadata": {},
   "source": [
    "#### user ID"
   ]
  },
  {
   "cell_type": "code",
   "execution_count": 20,
   "id": "eadb0bef-3fe8-4e51-bc80-0ca0e0493844",
   "metadata": {},
   "outputs": [],
   "source": [
    "user_id_input_layer = tf.keras.Input(\n",
    "    name=\"user_id\",\n",
    "    shape=(1,),\n",
    "    dtype=tf.string\n",
    ")\n",
    "\n",
    "user_id_lookup = tf.keras.layers.StringLookup(\n",
    "    max_tokens=len(vocab_dict['user_id']) + NUM_OOV_BUCKETS,\n",
    "    num_oov_indices=NUM_OOV_BUCKETS,\n",
    "    mask_token=None,\n",
    "    vocabulary=vocab_dict['user_id'],\n",
    ")(user_id_input_layer)\n",
    "\n",
    "user_id_embedding = tf.keras.layers.Embedding(\n",
    "    # Let's use the explicit vocabulary lookup.\n",
    "    input_dim=len(vocab_dict['user_id']) + NUM_OOV_BUCKETS,\n",
    "    output_dim=GLOBAL_EMBEDDING_SIZE\n",
    ")(user_id_lookup)\n",
    "\n",
    "user_id_embedding = tf.reduce_sum(user_id_embedding, axis=-2)\n",
    "\n",
    "# global_inputs.append(user_id_input_layer)\n",
    "# global_features.append(user_id_embedding)"
   ]
  },
  {
   "cell_type": "code",
   "execution_count": 21,
   "id": "3a0aca0c-a710-4d0b-b9fe-9613d308149e",
   "metadata": {},
   "outputs": [
    {
     "name": "stdout",
     "output_type": "stream",
     "text": [
      "tf.Tensor([b'346'], shape=(1,), dtype=string)\n",
      "tf.Tensor([[-0.02599    -0.03078079  0.03106076  0.00133444]], shape=(1, 4), dtype=float32)\n"
     ]
    }
   ],
   "source": [
    "test_user_id_model = tf.keras.Model(inputs=user_id_input_layer, outputs=user_id_embedding)\n",
    "\n",
    "for x in train_dataset.batch(1).take(1):\n",
    "    print(x[\"user_id\"])\n",
    "    print(test_user_id_model(x[\"user_id\"]))"
   ]
  },
  {
   "cell_type": "markdown",
   "id": "d924a649-2b22-4cad-a58b-61b400b5024f",
   "metadata": {},
   "source": [
    "#### user AGE"
   ]
  },
  {
   "cell_type": "code",
   "execution_count": 22,
   "id": "4fed6ae1-3aa3-427d-8db9-c17009af2ea4",
   "metadata": {},
   "outputs": [],
   "source": [
    "user_age_input_layer = tf.keras.Input(\n",
    "    name=\"bucketized_user_age\",\n",
    "    shape=(1,),\n",
    "    dtype=tf.float32\n",
    ")\n",
    "\n",
    "user_age_lookup = tf.keras.layers.IntegerLookup(\n",
    "    vocabulary=vocab_dict['bucketized_user_age'],\n",
    "    num_oov_indices=NUM_OOV_BUCKETS,\n",
    "    oov_value=0,\n",
    ")(user_age_input_layer)\n",
    "\n",
    "user_age_embedding = tf.keras.layers.Embedding(\n",
    "    # Let's use the explicit vocabulary lookup.\n",
    "    input_dim=len(vocab_dict['bucketized_user_age']) + NUM_OOV_BUCKETS,\n",
    "    output_dim=GLOBAL_EMBEDDING_SIZE\n",
    ")(user_age_lookup)\n",
    "\n",
    "user_age_embedding = tf.reduce_sum(user_age_embedding, axis=-2)\n",
    "\n",
    "# global_inputs.append(user_age_input_layer)\n",
    "# global_features.append(user_age_embedding)"
   ]
  },
  {
   "cell_type": "code",
   "execution_count": 23,
   "id": "56f81ef0-e652-4b6b-a7dc-546bf2d1e2f5",
   "metadata": {},
   "outputs": [
    {
     "name": "stdout",
     "output_type": "stream",
     "text": [
      "tf.Tensor([25.], shape=(1,), dtype=float32)\n",
      "tf.Tensor([[ 0.02207417 -0.02917665  0.02782809 -0.02822751]], shape=(1, 4), dtype=float32)\n"
     ]
    }
   ],
   "source": [
    "test_user_age_model = tf.keras.Model(inputs=user_age_input_layer, outputs=user_age_embedding)\n",
    "\n",
    "for x in train_dataset.batch(1).take(1):\n",
    "    print(x[\"bucketized_user_age\"])\n",
    "    print(test_user_age_model(x[\"bucketized_user_age\"]))"
   ]
  },
  {
   "cell_type": "markdown",
   "id": "68ba76d2-d138-4247-b233-57ae0e1c90c4",
   "metadata": {},
   "source": [
    "#### user OCC"
   ]
  },
  {
   "cell_type": "code",
   "execution_count": 24,
   "id": "4f726232-b156-4f74-acab-9488956fe3f0",
   "metadata": {},
   "outputs": [],
   "source": [
    "user_occ_input_layer = tf.keras.Input(\n",
    "    name=\"user_occupation_text\",\n",
    "    shape=(1,),\n",
    "    dtype=tf.string\n",
    ")\n",
    "\n",
    "user_occ_lookup = tf.keras.layers.StringLookup(\n",
    "    max_tokens=len(vocab_dict['user_occupation_text']) + NUM_OOV_BUCKETS,\n",
    "    num_oov_indices=NUM_OOV_BUCKETS,\n",
    "    mask_token=None,\n",
    "    vocabulary=vocab_dict['user_occupation_text'],\n",
    ")(user_occ_input_layer)\n",
    "\n",
    "user_occ_embedding = tf.keras.layers.Embedding(\n",
    "    # Let's use the explicit vocabulary lookup.\n",
    "    input_dim=len(vocab_dict['user_occupation_text']) + NUM_OOV_BUCKETS,\n",
    "    output_dim=GLOBAL_EMBEDDING_SIZE\n",
    ")(user_occ_lookup)\n",
    "\n",
    "user_occ_embedding = tf.reduce_sum(user_occ_embedding, axis=-2)\n",
    "\n",
    "# global_inputs.append(user_occ_input_layer)\n",
    "# global_features.append(user_occ_embedding)"
   ]
  },
  {
   "cell_type": "code",
   "execution_count": 25,
   "id": "abb362a1-d1f0-47f0-bbf2-beaa07ebda02",
   "metadata": {},
   "outputs": [
    {
     "name": "stdout",
     "output_type": "stream",
     "text": [
      "tf.Tensor([b'other'], shape=(1,), dtype=string)\n",
      "tf.Tensor([[-0.04523091  0.0495333  -0.01482558 -0.04208376]], shape=(1, 4), dtype=float32)\n"
     ]
    }
   ],
   "source": [
    "test_user_occ_model = tf.keras.Model(inputs=user_occ_input_layer, outputs=user_occ_embedding)\n",
    "\n",
    "for x in train_dataset.batch(1).take(1):\n",
    "    print(x[\"user_occupation_text\"])\n",
    "    print(test_user_occ_model(x[\"user_occupation_text\"]))"
   ]
  },
  {
   "cell_type": "markdown",
   "id": "7e072e83-acf4-46c9-8d92-418fa497cd50",
   "metadata": {},
   "source": [
    "#### user Timestamp"
   ]
  },
  {
   "cell_type": "code",
   "execution_count": 26,
   "id": "e9b72286-4e8e-4285-b91b-2f30f2ff6856",
   "metadata": {},
   "outputs": [],
   "source": [
    "user_ts_input_layer = tf.keras.Input(\n",
    "    name=\"timestamp\",\n",
    "    shape=(1,),\n",
    "    dtype=tf.int64\n",
    ")\n",
    "\n",
    "user_ts_lookup = tf.keras.layers.Discretization(\n",
    "    vocab_dict['timestamp_buckets'].tolist()\n",
    ")(user_ts_input_layer)\n",
    "\n",
    "user_ts_embedding = tf.keras.layers.Embedding(\n",
    "    # Let's use the explicit vocabulary lookup.\n",
    "    input_dim=len(vocab_dict['timestamp_buckets'].tolist()) + NUM_OOV_BUCKETS,\n",
    "    output_dim=GLOBAL_EMBEDDING_SIZE\n",
    ")(user_ts_lookup)\n",
    "\n",
    "user_ts_embedding = tf.reduce_sum(user_ts_embedding, axis=-2)\n",
    "\n",
    "# global_inputs.append(user_ts_input_layer)\n",
    "# global_features.append(user_ts_embedding)"
   ]
  },
  {
   "cell_type": "code",
   "execution_count": 27,
   "id": "78a3e08b-88ff-4575-a0e0-80d7c75baa9d",
   "metadata": {},
   "outputs": [
    {
     "name": "stdout",
     "output_type": "stream",
     "text": [
      "tf.Tensor([874948475], shape=(1,), dtype=int64)\n",
      "tf.Tensor([[ 0.00741076 -0.04264941  0.00693322 -0.03396516]], shape=(1, 4), dtype=float32)\n"
     ]
    }
   ],
   "source": [
    "test_user_ts_model = tf.keras.Model(inputs=user_ts_input_layer, outputs=user_ts_embedding)\n",
    "\n",
    "for x in train_dataset.batch(1).take(1):\n",
    "    print(x[\"timestamp\"])\n",
    "    print(test_user_ts_model(x[\"timestamp\"]))"
   ]
  },
  {
   "cell_type": "markdown",
   "id": "f1066734-9c48-46ca-8dcb-2eb16a4a3eb7",
   "metadata": {},
   "source": [
    "### create `global_context_sampling_fn()`"
   ]
  },
  {
   "cell_type": "code",
   "execution_count": 29,
   "id": "9900cf33-8dbe-44de-9f3f-9bab00ad2627",
   "metadata": {},
   "outputs": [],
   "source": [
    "# get_user_id_emb_model\n",
    "# get_user_age_emb_model\n",
    "# get_user_occ_emb_model\n",
    "# get_ts_emb_model\n"
   ]
  },
  {
   "cell_type": "code",
   "execution_count": 30,
   "id": "92be6716-3186-4155-9ca5-272f80ff53bd",
   "metadata": {},
   "outputs": [],
   "source": [
    "def global_context_sampling_fn():\n",
    "    \"\"\"\n",
    "    This function generates a single global observation vector.\n",
    "    \"\"\"\n",
    "    # for x in train_dataset.take(1).as_numpy_iterator():\n",
    "    for x in train_dataset.batch(1).take(1):\n",
    "        user_id_value = x['user_id']\n",
    "        user_age_value = x['bucketized_user_age']\n",
    "        user_occ_value = x['user_occupation_text']\n",
    "        user_ts_value = x['timestamp']\n",
    "        \n",
    "        _id = test_user_id_model(user_id_value)\n",
    "        _age = test_user_age_model(user_age_value)\n",
    "        _occ = test_user_occ_model(user_occ_value)\n",
    "        _ts = test_user_ts_model(user_ts_value)\n",
    "        \n",
    "        # # tmp - insepct numpy() values\n",
    "        # print(_id.numpy()) #[0])\n",
    "        # print(_age.numpy()) #[0])\n",
    "        # print(_occ.numpy()) #[0])\n",
    "        # print(_ts.numpy()) #[0])\n",
    "        \n",
    "        # to numpy array\n",
    "        _id = np.array(_id.numpy()[0])\n",
    "        _age = np.array(_age.numpy()[0])\n",
    "        _occ = np.array(_occ.numpy()[0])\n",
    "        _ts = np.array(_ts.numpy()[0])\n",
    "        \n",
    "        concat = np.concatenate(\n",
    "            [_id, _age, _occ, _ts], axis=-1\n",
    "        ).astype(np.float32)\n",
    "        \n",
    "        return concat"
   ]
  },
  {
   "cell_type": "code",
   "execution_count": 31,
   "id": "307f8f7f-1a52-418e-96c7-8aa93cdf4c69",
   "metadata": {},
   "outputs": [
    {
     "data": {
      "text/plain": [
       "array([-0.02599   , -0.03078079,  0.03106076,  0.00133444,  0.02207417,\n",
       "       -0.02917665,  0.02782809, -0.02822751, -0.04523091,  0.0495333 ,\n",
       "       -0.01482558, -0.04208376,  0.00741076, -0.04264941,  0.00693322,\n",
       "       -0.03396516], dtype=float32)"
      ]
     },
     "execution_count": 31,
     "metadata": {},
     "output_type": "execute_result"
    }
   ],
   "source": [
    "global_context_sampling_fn()"
   ]
  },
  {
   "cell_type": "code",
   "execution_count": 32,
   "id": "025c8b5c-1c4f-4e70-9f3f-722ae3186fe8",
   "metadata": {},
   "outputs": [],
   "source": [
    "GLOBAL_DIM = 40\n",
    "GLOBAL_BOUND = 10\n",
    "\n",
    "def test_global_context_sampling_fn():\n",
    "    \"\"\"This function generates a single global observation vector.\"\"\"\n",
    "    return np.random.randint(\n",
    "      -GLOBAL_BOUND, GLOBAL_BOUND, [GLOBAL_DIM]).astype(np.float32)"
   ]
  },
  {
   "cell_type": "code",
   "execution_count": 33,
   "id": "c1a51aaf-b49d-48ec-97ac-e46e8edcfa91",
   "metadata": {},
   "outputs": [
    {
     "data": {
      "text/plain": [
       "array([  3., -10.,   5.,   4.,   5.,  -8.,  -3.,   4.,  -8.,  -8.,  -3.,\n",
       "        -3.,   6.,  -6.,   5.,  -7.,   5.,   4.,   7.,   9.,   1.,   6.,\n",
       "        -3.,  -1., -10.,  -2.,  -9.,  -3.,  -2.,  -1.,   5.,  -8.,   9.,\n",
       "        -3.,   9., -10.,   2.,   6.,  -1.,  -9.], dtype=float32)"
      ]
     },
     "execution_count": 33,
     "metadata": {},
     "output_type": "execute_result"
    }
   ],
   "source": [
    "test_global_context_sampling_fn()"
   ]
  },
  {
   "cell_type": "markdown",
   "id": "0104490c-ada4-40fb-8a75-9a77136db00b",
   "metadata": {
    "tags": [],
    "toc-hr-collapsed": true
   },
   "source": [
    "### arm preprocessing layers"
   ]
  },
  {
   "cell_type": "markdown",
   "id": "fe0dda1b-fa6c-4178-b6d6-3c1449091b6d",
   "metadata": {},
   "source": [
    "#### movie ID"
   ]
  },
  {
   "cell_type": "code",
   "execution_count": 34,
   "id": "767df2d8-0cdd-4f53-90f3-01f555e496ba",
   "metadata": {},
   "outputs": [],
   "source": [
    "mv_id_input_layer = tf.keras.Input(\n",
    "    name=\"movie_id\",\n",
    "    shape=(1,),\n",
    "    dtype=tf.string\n",
    ")\n",
    "\n",
    "mv_id_lookup = tf.keras.layers.StringLookup(\n",
    "    max_tokens=len(vocab_dict['movie_id']) + NUM_OOV_BUCKETS,\n",
    "    num_oov_indices=NUM_OOV_BUCKETS,\n",
    "    mask_token=None,\n",
    "    vocabulary=vocab_dict['movie_id'],\n",
    ")(mv_id_input_layer)\n",
    "\n",
    "mv_id_embedding = tf.keras.layers.Embedding(\n",
    "    # Let's use the explicit vocabulary lookup.\n",
    "    input_dim=len(vocab_dict['movie_id']) + NUM_OOV_BUCKETS,\n",
    "    output_dim=MV_EMBEDDING_SIZE\n",
    ")(mv_id_lookup)\n",
    "\n",
    "mv_id_embedding = tf.reduce_sum(mv_id_embedding, axis=-2)\n",
    "\n",
    "# arm_inputs.append(mv_id_input_layer)\n",
    "# arm_features.append(mv_id_embedding)"
   ]
  },
  {
   "cell_type": "code",
   "execution_count": 35,
   "id": "0a64bdc9-710f-4f61-82fd-3d2f51591c1c",
   "metadata": {},
   "outputs": [
    {
     "name": "stdout",
     "output_type": "stream",
     "text": [
      "tf.Tensor([b'211'], shape=(1,), dtype=string)\n",
      "tf.Tensor(\n",
      "[[-0.02780459 -0.00370889 -0.02864446 -0.02917221 -0.01603731  0.02465415\n",
      "   0.01583499 -0.03253644]], shape=(1, 8), dtype=float32)\n"
     ]
    }
   ],
   "source": [
    "test_mv_id_model = tf.keras.Model(inputs=mv_id_input_layer, outputs=mv_id_embedding)\n",
    "\n",
    "for x in train_dataset.batch(1).take(1):\n",
    "    print(x[\"movie_id\"])\n",
    "    print(test_mv_id_model(x[\"movie_id\"]))"
   ]
  },
  {
   "cell_type": "markdown",
   "id": "9bb9f3bd-e4e4-4a26-891e-e04450303f99",
   "metadata": {},
   "source": [
    "#### movie genre"
   ]
  },
  {
   "cell_type": "code",
   "execution_count": 36,
   "id": "a1f35343-6416-4311-bff5-4df2bd74ec81",
   "metadata": {},
   "outputs": [],
   "source": [
    "mv_genre_input_layer = tf.keras.Input(\n",
    "    name=\"movie_genres\",\n",
    "    shape=(1,),\n",
    "    dtype=tf.float32\n",
    ")\n",
    "\n",
    "mv_genre_lookup = tf.keras.layers.IntegerLookup(\n",
    "    vocabulary=vocab_dict['movie_genres'],\n",
    "    num_oov_indices=NUM_OOV_BUCKETS,\n",
    "    oov_value=0,\n",
    ")(mv_genre_input_layer)\n",
    "\n",
    "mv_genre_embedding = tf.keras.layers.Embedding(\n",
    "    # Let's use the explicit vocabulary lookup.\n",
    "    input_dim=len(vocab_dict['movie_genres']) + NUM_OOV_BUCKETS,\n",
    "    output_dim=MV_EMBEDDING_SIZE\n",
    ")(mv_genre_lookup)\n",
    "\n",
    "mv_genre_embedding = tf.reduce_sum(mv_genre_embedding, axis=-2)\n",
    "\n",
    "# arm_inputs.append(mv_genre_input_layer)\n",
    "# arm_features.append(mv_genre_embedding)"
   ]
  },
  {
   "cell_type": "code",
   "execution_count": 37,
   "id": "effa4e73-1568-4cc2-a972-7a6df0ba8f6b",
   "metadata": {},
   "outputs": [
    {
     "name": "stdout",
     "output_type": "stream",
     "text": [
      "tf.Tensor([[4]], shape=(1, 1), dtype=int64)\n",
      "tf.Tensor(\n",
      "[[ 0.03956462  0.04351255  0.01470714  0.04936441  0.01360733 -0.0412104\n",
      "   0.02928157  0.01699198]], shape=(1, 8), dtype=float32)\n"
     ]
    }
   ],
   "source": [
    "test_mv_gen_model = tf.keras.Model(inputs=mv_genre_input_layer, outputs=mv_genre_embedding)\n",
    "\n",
    "for x in train_dataset.batch(1).take(1):\n",
    "    print(x[\"movie_genres\"])\n",
    "    print(test_mv_gen_model(x[\"movie_genres\"]))"
   ]
  },
  {
   "cell_type": "markdown",
   "id": "ed21d4da-01b9-4fc3-a905-2f3c75dbafef",
   "metadata": {},
   "source": [
    "### create `arm_context_sampling_fn()`"
   ]
  },
  {
   "cell_type": "code",
   "execution_count": 38,
   "id": "e53deb4f-3a99-4935-88bc-d9f90197da83",
   "metadata": {},
   "outputs": [],
   "source": [
    "def per_arm_context_sampling_fn():\n",
    "    \"\"\"\n",
    "    This function generates a single per-arm observation vector\n",
    "    \"\"\"\n",
    "    for x in train_dataset.batch(1).take(1):\n",
    "        mv_id_value = x['movie_id']\n",
    "        mv_gen_value = x['movie_genres'][0]\n",
    "        \n",
    "        _mid = test_mv_id_model(mv_id_value)\n",
    "        _mgen = test_mv_gen_model(mv_gen_value)\n",
    "        \n",
    "        # to numpy array\n",
    "        _mid = np.array(_mid.numpy()[0])\n",
    "        _mgen = np.array(_mgen.numpy()[0])\n",
    "        \n",
    "        # print(_mid)\n",
    "        # print(_mgen)\n",
    "        \n",
    "        concat = np.concatenate([_mid, _mgen], axis=-1).astype(np.float32)\n",
    "        \n",
    "        return concat"
   ]
  },
  {
   "cell_type": "code",
   "execution_count": 39,
   "id": "a0e8993b-aa11-4b26-bf02-8430a4c34993",
   "metadata": {},
   "outputs": [
    {
     "data": {
      "text/plain": [
       "array([-0.02780459, -0.00370889, -0.02864446, -0.02917221, -0.01603731,\n",
       "        0.02465415,  0.01583499, -0.03253644,  0.03956462,  0.04351255,\n",
       "        0.01470714,  0.04936441,  0.01360733, -0.0412104 ,  0.02928157,\n",
       "        0.01699198], dtype=float32)"
      ]
     },
     "execution_count": 39,
     "metadata": {},
     "output_type": "execute_result"
    }
   ],
   "source": [
    "per_arm_context_sampling_fn()"
   ]
  },
  {
   "cell_type": "markdown",
   "id": "8313dbbc-2df5-46ee-acb3-47e81693ab42",
   "metadata": {},
   "source": [
    "## define reward function"
   ]
  },
  {
   "cell_type": "code",
   "execution_count": 40,
   "id": "882d8558-89f2-4962-931a-7c2be0ab1a50",
   "metadata": {},
   "outputs": [],
   "source": [
    "# JT - TODO\n",
    "\n",
    "# from tf_agents.trajectories import time_step as ts\n",
    "# from tf_agents.trajectories import trajectory\n",
    "# # from tf_agents.typing import types\n",
    "\n",
    "# discounts = tf.ones((BATCH_SIZE,), dtype=tf.float32)\n",
    "# rewards = tf.ones((BATCH_SIZE,), dtype=tf.float32)\n",
    "# actions = tf.ones((BATCH_SIZE,), dtype=tf.float32)\n",
    "\n",
    "# next_step_types = tf.ones((BATCH_SIZE,), dtype=tf.int32) * ts.StepType.MID\n",
    "\n",
    "# step_types = tf.concat([[ts.StepType.FIRST], next_step_types[1:]], axis=0)\n",
    "\n",
    "# traj = trajectory.Trajectory(\n",
    "#     step_type=step_types,\n",
    "#     observation=observation, #obs_tensor_spec,\n",
    "#     action=actions,\n",
    "#     policy_info=(),\n",
    "#     next_step_type=next_step_types,\n",
    "#     reward=rewards,\n",
    "#     discount=discounts\n",
    "# )\n",
    "# traj"
   ]
  },
  {
   "cell_type": "code",
   "execution_count": 41,
   "id": "4c30a859-4b6e-4856-8587-2ad6bdf7074b",
   "metadata": {},
   "outputs": [
    {
     "name": "stdout",
     "output_type": "stream",
     "text": [
      "16\n",
      "16\n"
     ]
    }
   ],
   "source": [
    "GLOBAL_DIM = global_context_sampling_fn()\n",
    "GLOBAL_DIM = GLOBAL_DIM.shape[0]\n",
    "print(GLOBAL_DIM)\n",
    "\n",
    "PER_ARM_DIM = per_arm_context_sampling_fn()\n",
    "PER_ARM_DIM = PER_ARM_DIM.shape[0]\n",
    "print(PER_ARM_DIM)"
   ]
  },
  {
   "cell_type": "code",
   "execution_count": 90,
   "id": "6d645532-bae4-4d76-a99a-65f6f203d15e",
   "metadata": {
    "tags": []
   },
   "outputs": [
    {
     "name": "stdout",
     "output_type": "stream",
     "text": [
      "32\n"
     ]
    }
   ],
   "source": [
    "PARAM_BOUND = 5 \n",
    "\n",
    "# should be similar to\n",
    "reward_param = list(np.random.randint(-PARAM_BOUND, PARAM_BOUND, [GLOBAL_DIM + PER_ARM_DIM]))\n",
    "print(len(reward_param))\n",
    "# reward_param"
   ]
  },
  {
   "cell_type": "code",
   "execution_count": 94,
   "id": "afc45587-ca6a-4a64-b0ae-259babbfa74f",
   "metadata": {},
   "outputs": [
    {
     "data": {
      "text/plain": [
       "-0.24167780205607414"
      ]
     },
     "execution_count": 94,
     "metadata": {},
     "output_type": "execute_result"
    }
   ],
   "source": [
    "test_global_out = global_context_sampling_fn()\n",
    "test_arm_out = per_arm_context_sampling_fn()\n",
    "\n",
    "x_x = np.concatenate([test_global_out, test_arm_out], axis=-1)\n",
    "# x_x\n",
    "mu = np.dot(x_x, reward_param)\n",
    "mu"
   ]
  },
  {
   "cell_type": "code",
   "execution_count": 95,
   "id": "306e2b6e-bcbd-4636-80d1-1954b2d359eb",
   "metadata": {},
   "outputs": [
    {
     "name": "stdout",
     "output_type": "stream",
     "text": [
      "32\n"
     ]
    },
    {
     "data": {
      "text/plain": [
       "-0.07835058681666851"
      ]
     },
     "execution_count": 95,
     "metadata": {},
     "output_type": "execute_result"
    }
   ],
   "source": [
    "reward_param = list(np.ones(32))\n",
    "print(len(reward_param))\n",
    "\n",
    "mu = np.dot(x_x, reward_param)\n",
    "mu"
   ]
  },
  {
   "cell_type": "code",
   "execution_count": 88,
   "id": "96485ec8-43b0-4916-8de9-26a272039037",
   "metadata": {},
   "outputs": [],
   "source": [
    "VARIANCE = 100.0 \n",
    "\n",
    "def linear_normal_reward_fn(x):\n",
    "    \"\"\"This function generates a reward from the concatenated global and per-arm observations.\"\"\"\n",
    "    mu = np.dot(x, reward_param)\n",
    "    return np.random.normal(mu, VARIANCE)"
   ]
  },
  {
   "cell_type": "code",
   "execution_count": 89,
   "id": "822d41ea-264b-4a92-9e9c-699441ae03a9",
   "metadata": {},
   "outputs": [
    {
     "data": {
      "text/plain": [
       "-46.9599440925143"
      ]
     },
     "execution_count": 89,
     "metadata": {},
     "output_type": "execute_result"
    }
   ],
   "source": [
    "linear_normal_reward_fn(x_x)"
   ]
  },
  {
   "cell_type": "code",
   "execution_count": 47,
   "id": "329cab98-caac-401f-ab5d-5ecf382bba80",
   "metadata": {},
   "outputs": [],
   "source": [
    "# def _get_rewards(element):\n",
    "#     \"\"\"Calculates reward for the actions.\"\"\"\n",
    "\n",
    "#     def _calc_reward(x):\n",
    "#         \"\"\"Calculates reward for a single action.\"\"\"\n",
    "#         r0 = lambda: tf.constant(0.0)\n",
    "#         r1 = lambda: tf.constant(-10.0)\n",
    "#         r2 = lambda: tf.constant(2.0)\n",
    "#         r3 = lambda: tf.constant(3.0)\n",
    "#         r4 = lambda: tf.constant(4.0)\n",
    "#         r5 = lambda: tf.constant(10.0)\n",
    "#         c1 = tf.equal(x, 1.0)\n",
    "#         c2 = tf.equal(x, 2.0)\n",
    "#         c3 = tf.equal(x, 3.0)\n",
    "#         c4 = tf.equal(x, 4.0)\n",
    "#         c5 = tf.equal(x, 5.0)\n",
    "#         return tf.case([(c1, r1), (c2, r2), (c3, r3),(c4, r4),(c5, r5)], default=r0, exclusive=True)\n",
    "\n",
    "#     return tf.map_fn(\n",
    "#         fn=_calc_reward, \n",
    "#         elems=element['user_rating'], \n",
    "#         dtype=tf.float32\n",
    "#     )"
   ]
  },
  {
   "cell_type": "code",
   "execution_count": 48,
   "id": "2e884a48-2ca0-4253-b455-3a430d6a7744",
   "metadata": {},
   "outputs": [],
   "source": [
    "# for x in train_dataset.batch(1).take(3):\n",
    "#     print(f\"Rating: {x['user_rating']}\")\n",
    "#     print(f\"Reward: {_get_rewards(x)}\") #[\"user_rating\"]))\n",
    "\n",
    "# ## output ####\n",
    "# Rating: [4.]\n",
    "# Reward: [4.]\n",
    "# Rating: [4.]\n",
    "# Reward: [4.]\n",
    "# Rating: [1.]\n",
    "# Reward: [-10.]"
   ]
  },
  {
   "cell_type": "markdown",
   "id": "489f5b5d-a15d-4d2e-b5c8-b56aa393311b",
   "metadata": {},
   "source": [
    "## define environment\n",
    "\n",
    "`num_actions_fn`:\n",
    "* a function that outputs a single integer specifying the number of actions for a given time step. \n",
    "* The number of actions will be encoded in the observation by the feature key `num_actions`"
   ]
  },
  {
   "cell_type": "code",
   "execution_count": 49,
   "id": "420101ac-35bf-4000-add1-b0777b9d6c39",
   "metadata": {},
   "outputs": [],
   "source": [
    "NUM_ACTIONS = 10\n",
    "BATCH_SIZE = 20\n",
    "\n",
    "# num_actions_fn = None\n",
    "num_actions_fn = lambda: NUM_ACTIONS"
   ]
  },
  {
   "cell_type": "code",
   "execution_count": 50,
   "id": "a3113fbf-ac12-4f05-8ae0-f6a906914724",
   "metadata": {},
   "outputs": [],
   "source": [
    "per_arm_py_env = p_a_env.StationaryStochasticPerArmPyEnvironment(\n",
    "    global_context_sampling_fn = global_context_sampling_fn,\n",
    "    arm_context_sampling_fn = per_arm_context_sampling_fn,\n",
    "    max_num_actions = NUM_ACTIONS,\n",
    "    reward_fn = linear_normal_reward_fn, # _get_rewards\n",
    "    num_actions_fn = num_actions_fn,\n",
    "    batch_size=BATCH_SIZE\n",
    ")\n",
    "per_arm_tf_env = tf_py_environment.TFPyEnvironment(per_arm_py_env)"
   ]
  },
  {
   "cell_type": "code",
   "execution_count": 51,
   "id": "897bbc9c-a549-4b39-be95-90a91e7c8cb3",
   "metadata": {},
   "outputs": [
    {
     "name": "stdout",
     "output_type": "stream",
     "text": [
      "observation spec:  {'global': TensorSpec(shape=(16,), dtype=tf.float32, name=None), 'per_arm': TensorSpec(shape=(10, 16), dtype=tf.float32, name=None), 'num_actions': BoundedTensorSpec(shape=(), dtype=tf.int64, name=None, minimum=array(1), maximum=array(10))}\n"
     ]
    }
   ],
   "source": [
    "print('observation spec: ', per_arm_tf_env.observation_spec())"
   ]
  },
  {
   "cell_type": "code",
   "execution_count": 52,
   "id": "c0d8c084-180e-4920-accb-9b2317d9a610",
   "metadata": {},
   "outputs": [
    {
     "name": "stdout",
     "output_type": "stream",
     "text": [
      "reward_spec:  TensorSpec(shape=(), dtype=tf.float32, name='reward')\n"
     ]
    }
   ],
   "source": [
    "print('reward_spec: ', per_arm_tf_env.reward_spec())"
   ]
  },
  {
   "cell_type": "code",
   "execution_count": 53,
   "id": "0c5007c0-dc03-41d5-acb1-d7d26eee586e",
   "metadata": {
    "tags": []
   },
   "outputs": [
    {
     "name": "stdout",
     "output_type": "stream",
     "text": [
      "\n",
      "An observation:  {'global': <tf.Tensor: shape=(20, 16), dtype=float32, numpy=\n",
      "array([[-0.02599   , -0.03078079,  0.03106076,  0.00133444,  0.02207417,\n",
      "        -0.02917665,  0.02782809, -0.02822751, -0.04523091,  0.0495333 ,\n",
      "        -0.01482558, -0.04208376,  0.00741076, -0.04264941,  0.00693322,\n",
      "        -0.03396516],\n",
      "       [-0.02599   , -0.03078079,  0.03106076,  0.00133444,  0.02207417,\n",
      "        -0.02917665,  0.02782809, -0.02822751, -0.04523091,  0.0495333 ,\n",
      "        -0.01482558, -0.04208376,  0.00741076, -0.04264941,  0.00693322,\n",
      "        -0.03396516],\n",
      "       [-0.02599   , -0.03078079,  0.03106076,  0.00133444,  0.02207417,\n",
      "        -0.02917665,  0.02782809, -0.02822751, -0.04523091,  0.0495333 ,\n",
      "        -0.01482558, -0.04208376,  0.00741076, -0.04264941,  0.00693322,\n",
      "        -0.03396516],\n",
      "       [-0.02599   , -0.03078079,  0.03106076,  0.00133444,  0.02207417,\n",
      "        -0.02917665,  0.02782809, -0.02822751, -0.04523091,  0.0495333 ,\n",
      "        -0.01482558, -0.04208376,  0.00741076, -0.04264941,  0.00693322,\n",
      "        -0.03396516],\n",
      "       [-0.02599   , -0.03078079,  0.03106076,  0.00133444,  0.02207417,\n",
      "        -0.02917665,  0.02782809, -0.02822751, -0.04523091,  0.0495333 ,\n",
      "        -0.01482558, -0.04208376,  0.00741076, -0.04264941,  0.00693322,\n",
      "        -0.03396516],\n",
      "       [-0.02599   , -0.03078079,  0.03106076,  0.00133444,  0.02207417,\n",
      "        -0.02917665,  0.02782809, -0.02822751, -0.04523091,  0.0495333 ,\n",
      "        -0.01482558, -0.04208376,  0.00741076, -0.04264941,  0.00693322,\n",
      "        -0.03396516],\n",
      "       [-0.02599   , -0.03078079,  0.03106076,  0.00133444,  0.02207417,\n",
      "        -0.02917665,  0.02782809, -0.02822751, -0.04523091,  0.0495333 ,\n",
      "        -0.01482558, -0.04208376,  0.00741076, -0.04264941,  0.00693322,\n",
      "        -0.03396516],\n",
      "       [-0.02599   , -0.03078079,  0.03106076,  0.00133444,  0.02207417,\n",
      "        -0.02917665,  0.02782809, -0.02822751, -0.04523091,  0.0495333 ,\n",
      "        -0.01482558, -0.04208376,  0.00741076, -0.04264941,  0.00693322,\n",
      "        -0.03396516],\n",
      "       [-0.02599   , -0.03078079,  0.03106076,  0.00133444,  0.02207417,\n",
      "        -0.02917665,  0.02782809, -0.02822751, -0.04523091,  0.0495333 ,\n",
      "        -0.01482558, -0.04208376,  0.00741076, -0.04264941,  0.00693322,\n",
      "        -0.03396516],\n",
      "       [-0.02599   , -0.03078079,  0.03106076,  0.00133444,  0.02207417,\n",
      "        -0.02917665,  0.02782809, -0.02822751, -0.04523091,  0.0495333 ,\n",
      "        -0.01482558, -0.04208376,  0.00741076, -0.04264941,  0.00693322,\n",
      "        -0.03396516],\n",
      "       [-0.02599   , -0.03078079,  0.03106076,  0.00133444,  0.02207417,\n",
      "        -0.02917665,  0.02782809, -0.02822751, -0.04523091,  0.0495333 ,\n",
      "        -0.01482558, -0.04208376,  0.00741076, -0.04264941,  0.00693322,\n",
      "        -0.03396516],\n",
      "       [-0.02599   , -0.03078079,  0.03106076,  0.00133444,  0.02207417,\n",
      "        -0.02917665,  0.02782809, -0.02822751, -0.04523091,  0.0495333 ,\n",
      "        -0.01482558, -0.04208376,  0.00741076, -0.04264941,  0.00693322,\n",
      "        -0.03396516],\n",
      "       [-0.02599   , -0.03078079,  0.03106076,  0.00133444,  0.02207417,\n",
      "        -0.02917665,  0.02782809, -0.02822751, -0.04523091,  0.0495333 ,\n",
      "        -0.01482558, -0.04208376,  0.00741076, -0.04264941,  0.00693322,\n",
      "        -0.03396516],\n",
      "       [-0.02599   , -0.03078079,  0.03106076,  0.00133444,  0.02207417,\n",
      "        -0.02917665,  0.02782809, -0.02822751, -0.04523091,  0.0495333 ,\n",
      "        -0.01482558, -0.04208376,  0.00741076, -0.04264941,  0.00693322,\n",
      "        -0.03396516],\n",
      "       [-0.02599   , -0.03078079,  0.03106076,  0.00133444,  0.02207417,\n",
      "        -0.02917665,  0.02782809, -0.02822751, -0.04523091,  0.0495333 ,\n",
      "        -0.01482558, -0.04208376,  0.00741076, -0.04264941,  0.00693322,\n",
      "        -0.03396516],\n",
      "       [-0.02599   , -0.03078079,  0.03106076,  0.00133444,  0.02207417,\n",
      "        -0.02917665,  0.02782809, -0.02822751, -0.04523091,  0.0495333 ,\n",
      "        -0.01482558, -0.04208376,  0.00741076, -0.04264941,  0.00693322,\n",
      "        -0.03396516],\n",
      "       [-0.02599   , -0.03078079,  0.03106076,  0.00133444,  0.02207417,\n",
      "        -0.02917665,  0.02782809, -0.02822751, -0.04523091,  0.0495333 ,\n",
      "        -0.01482558, -0.04208376,  0.00741076, -0.04264941,  0.00693322,\n",
      "        -0.03396516],\n",
      "       [-0.02599   , -0.03078079,  0.03106076,  0.00133444,  0.02207417,\n",
      "        -0.02917665,  0.02782809, -0.02822751, -0.04523091,  0.0495333 ,\n",
      "        -0.01482558, -0.04208376,  0.00741076, -0.04264941,  0.00693322,\n",
      "        -0.03396516],\n",
      "       [-0.02599   , -0.03078079,  0.03106076,  0.00133444,  0.02207417,\n",
      "        -0.02917665,  0.02782809, -0.02822751, -0.04523091,  0.0495333 ,\n",
      "        -0.01482558, -0.04208376,  0.00741076, -0.04264941,  0.00693322,\n",
      "        -0.03396516],\n",
      "       [-0.02599   , -0.03078079,  0.03106076,  0.00133444,  0.02207417,\n",
      "        -0.02917665,  0.02782809, -0.02822751, -0.04523091,  0.0495333 ,\n",
      "        -0.01482558, -0.04208376,  0.00741076, -0.04264941,  0.00693322,\n",
      "        -0.03396516]], dtype=float32)>, 'per_arm': <tf.Tensor: shape=(20, 10, 16), dtype=float32, numpy=\n",
      "array([[[-0.02780459, -0.00370889, -0.02864446, ..., -0.0412104 ,\n",
      "          0.02928157,  0.01699198],\n",
      "        [-0.02780459, -0.00370889, -0.02864446, ..., -0.0412104 ,\n",
      "          0.02928157,  0.01699198],\n",
      "        [-0.02780459, -0.00370889, -0.02864446, ..., -0.0412104 ,\n",
      "          0.02928157,  0.01699198],\n",
      "        ...,\n",
      "        [-0.02780459, -0.00370889, -0.02864446, ..., -0.0412104 ,\n",
      "          0.02928157,  0.01699198],\n",
      "        [-0.02780459, -0.00370889, -0.02864446, ..., -0.0412104 ,\n",
      "          0.02928157,  0.01699198],\n",
      "        [-0.02780459, -0.00370889, -0.02864446, ..., -0.0412104 ,\n",
      "          0.02928157,  0.01699198]],\n",
      "\n",
      "       [[-0.02780459, -0.00370889, -0.02864446, ..., -0.0412104 ,\n",
      "          0.02928157,  0.01699198],\n",
      "        [-0.02780459, -0.00370889, -0.02864446, ..., -0.0412104 ,\n",
      "          0.02928157,  0.01699198],\n",
      "        [-0.02780459, -0.00370889, -0.02864446, ..., -0.0412104 ,\n",
      "          0.02928157,  0.01699198],\n",
      "        ...,\n",
      "        [-0.02780459, -0.00370889, -0.02864446, ..., -0.0412104 ,\n",
      "          0.02928157,  0.01699198],\n",
      "        [-0.02780459, -0.00370889, -0.02864446, ..., -0.0412104 ,\n",
      "          0.02928157,  0.01699198],\n",
      "        [-0.02780459, -0.00370889, -0.02864446, ..., -0.0412104 ,\n",
      "          0.02928157,  0.01699198]],\n",
      "\n",
      "       [[-0.02780459, -0.00370889, -0.02864446, ..., -0.0412104 ,\n",
      "          0.02928157,  0.01699198],\n",
      "        [-0.02780459, -0.00370889, -0.02864446, ..., -0.0412104 ,\n",
      "          0.02928157,  0.01699198],\n",
      "        [-0.02780459, -0.00370889, -0.02864446, ..., -0.0412104 ,\n",
      "          0.02928157,  0.01699198],\n",
      "        ...,\n",
      "        [-0.02780459, -0.00370889, -0.02864446, ..., -0.0412104 ,\n",
      "          0.02928157,  0.01699198],\n",
      "        [-0.02780459, -0.00370889, -0.02864446, ..., -0.0412104 ,\n",
      "          0.02928157,  0.01699198],\n",
      "        [-0.02780459, -0.00370889, -0.02864446, ..., -0.0412104 ,\n",
      "          0.02928157,  0.01699198]],\n",
      "\n",
      "       ...,\n",
      "\n",
      "       [[-0.02780459, -0.00370889, -0.02864446, ..., -0.0412104 ,\n",
      "          0.02928157,  0.01699198],\n",
      "        [-0.02780459, -0.00370889, -0.02864446, ..., -0.0412104 ,\n",
      "          0.02928157,  0.01699198],\n",
      "        [-0.02780459, -0.00370889, -0.02864446, ..., -0.0412104 ,\n",
      "          0.02928157,  0.01699198],\n",
      "        ...,\n",
      "        [-0.02780459, -0.00370889, -0.02864446, ..., -0.0412104 ,\n",
      "          0.02928157,  0.01699198],\n",
      "        [-0.02780459, -0.00370889, -0.02864446, ..., -0.0412104 ,\n",
      "          0.02928157,  0.01699198],\n",
      "        [-0.02780459, -0.00370889, -0.02864446, ..., -0.0412104 ,\n",
      "          0.02928157,  0.01699198]],\n",
      "\n",
      "       [[-0.02780459, -0.00370889, -0.02864446, ..., -0.0412104 ,\n",
      "          0.02928157,  0.01699198],\n",
      "        [-0.02780459, -0.00370889, -0.02864446, ..., -0.0412104 ,\n",
      "          0.02928157,  0.01699198],\n",
      "        [-0.02780459, -0.00370889, -0.02864446, ..., -0.0412104 ,\n",
      "          0.02928157,  0.01699198],\n",
      "        ...,\n",
      "        [-0.02780459, -0.00370889, -0.02864446, ..., -0.0412104 ,\n",
      "          0.02928157,  0.01699198],\n",
      "        [-0.02780459, -0.00370889, -0.02864446, ..., -0.0412104 ,\n",
      "          0.02928157,  0.01699198],\n",
      "        [-0.02780459, -0.00370889, -0.02864446, ..., -0.0412104 ,\n",
      "          0.02928157,  0.01699198]],\n",
      "\n",
      "       [[-0.02780459, -0.00370889, -0.02864446, ..., -0.0412104 ,\n",
      "          0.02928157,  0.01699198],\n",
      "        [-0.02780459, -0.00370889, -0.02864446, ..., -0.0412104 ,\n",
      "          0.02928157,  0.01699198],\n",
      "        [-0.02780459, -0.00370889, -0.02864446, ..., -0.0412104 ,\n",
      "          0.02928157,  0.01699198],\n",
      "        ...,\n",
      "        [-0.02780459, -0.00370889, -0.02864446, ..., -0.0412104 ,\n",
      "          0.02928157,  0.01699198],\n",
      "        [-0.02780459, -0.00370889, -0.02864446, ..., -0.0412104 ,\n",
      "          0.02928157,  0.01699198],\n",
      "        [-0.02780459, -0.00370889, -0.02864446, ..., -0.0412104 ,\n",
      "          0.02928157,  0.01699198]]], dtype=float32)>, 'num_actions': <tf.Tensor: shape=(20,), dtype=int64, numpy=\n",
      "array([10, 10, 10, 10, 10, 10, 10, 10, 10, 10, 10, 10, 10, 10, 10, 10, 10,\n",
      "       10, 10, 10])>}\n"
     ]
    }
   ],
   "source": [
    "print('\\nAn observation: ', per_arm_tf_env.reset().observation)"
   ]
  },
  {
   "cell_type": "code",
   "execution_count": 54,
   "id": "11c13ae2-0cb3-45ad-9cf7-cf75a712fb7d",
   "metadata": {},
   "outputs": [
    {
     "name": "stdout",
     "output_type": "stream",
     "text": [
      "\n",
      "Rewards after taking an action:  tf.Tensor(\n",
      "[-150.27821   134.48189  -297.2999   -140.62787     6.723917   84.13467\n",
      "    0.922849  -36.420517  -20.886211   -7.858317   10.700291  -92.6265\n",
      "  -79.65316   -64.81762    17.944258 -147.62914    77.474724   62.227337\n",
      " -102.064545  191.07434 ], shape=(20,), dtype=float32)\n"
     ]
    }
   ],
   "source": [
    "action = tf.zeros(BATCH_SIZE, dtype=tf.int32)\n",
    "time_step = per_arm_tf_env.step(action)\n",
    "print('\\nRewards after taking an action: ', time_step.reward)"
   ]
  },
  {
   "cell_type": "markdown",
   "id": "5bee00db-5a4a-4880-b567-307b0a41c82e",
   "metadata": {
    "tags": []
   },
   "source": [
    "## The Agent\n",
    "\n",
    "**Note** that contextual bandits form a special case of RL, where the actions taken by the agent do not alter the state of the environment \n",
    "\n",
    "> “Contextual” refers to the fact that the agent chooses among a set of actions while having knowledge of the context (environment observation)"
   ]
  },
  {
   "cell_type": "markdown",
   "id": "867e8834-b652-4c21-8061-9b684a80e182",
   "metadata": {
    "tags": []
   },
   "source": [
    "### agent types"
   ]
  },
  {
   "cell_type": "markdown",
   "id": "cf19f410-4fac-4539-95a2-543034d1a0fe",
   "metadata": {},
   "source": [
    "**Possible Agent Types:**\n",
    "\n",
    "```\n",
    "AGENT_TYPE = ['LinUCB', 'LinTS', 'epsGreedy', 'NeuralLinUCB']\n",
    "```\n",
    "\n",
    "**LinearUCBAgent:** (`LinUCB`)\n",
    "* An agent implementing the Linear UCB bandit algorithm\n",
    "* (whitepaper) [A contextual bandit approach to personalized news recommendation](https://arxiv.org/abs/1003.0146)\n",
    "* [docs](https://www.tensorflow.org/agents/api_docs/python/tf_agents/bandits/agents/lin_ucb_agent/LinearUCBAgent)\n",
    "\n",
    "**LinearThompsonSamplingAgent:** (`LinTS`)\n",
    "* Implements the Linear Thompson Sampling Agent from the paper: [Thompson Sampling for Contextual Bandits with Linear Payoffs](https://arxiv.org/abs/1209.3352)\n",
    "* the agent maintains two parameters `weight_covariances` and `parameter_estimators`, and updates them based on experience.\n",
    "* The inverse of the weight covariance parameters are updated with the outer product of the observations using the Woodbury inverse matrix update, while the parameter estimators are updated by the reward-weighted observation vectors for every action\n",
    "* [docs](https://www.tensorflow.org/agents/api_docs/python/tf_agents/bandits/agents/linear_thompson_sampling_agent/LinearThompsonSamplingAgent)\n",
    "\n",
    "**NeuralEpsilonGreedyAgent:** (`epsGreedy`) \n",
    "* A neural network based epsilon greedy agent\n",
    "* This agent receives a neural network that it trains to predict rewards\n",
    "* The action is chosen greedily with respect to the prediction with probability `1 - epsilon`, and uniformly randomly with probability epsilon\n",
    "* [docs](https://www.tensorflow.org/agents/api_docs/python/tf_agents/bandits/agents/neural_epsilon_greedy_agent/NeuralEpsilonGreedyAgent)\n",
    "\n",
    "**NeuralLinUCBAgent:** (`NeuralLinUCB`)\n",
    "* An agent implementing the LinUCB algorithm on top of a neural network\n",
    "* `ENCODING_DIM` is the output dimension of the encoding network \n",
    "> * This output will be used by either a linear reward layer and epsilon greedy exploration, or by a LinUCB logic, depending on the number of training steps executed so far\n",
    "* `EPS_PHASE_STEPS` is the number training steps to run for training the encoding network before switching to `LinUCB`\n",
    "> * If negative, the encoding network is assumed to be already trained\n",
    "> * If the number of steps is less than or equal to `EPS_PHASE_STEPS`, `epsilon greedy` is used, otherwise `LinUCB`\n",
    "* [docs](https://www.tensorflow.org/agents/api_docs/python/tf_agents/bandits/agents/neural_linucb_agent/NeuralLinUCBAgent)"
   ]
  },
  {
   "cell_type": "markdown",
   "id": "9b1aba6b-453f-4698-b04a-4455859e15e3",
   "metadata": {
    "tags": []
   },
   "source": [
    "### network types"
   ]
  },
  {
   "cell_type": "markdown",
   "id": "e6dba97d-92b6-46c9-b401-449d7e56b491",
   "metadata": {
    "jp-MarkdownHeadingCollapsed": true,
    "tags": []
   },
   "source": [
    "Which network architecture to use for the `epsGreedy` or `NeuralLinUCB` agents\n",
    "\n",
    "```\n",
    "NETWORK_TYPE = ['commontower', 'dotproduct']\n",
    "```\n",
    "\n",
    "**GlobalAndArmCommonTowerNetwork:** (`commontower`)\n",
    "* This network takes the output of the global and per-arm networks, and leads them through a common network, that in turn outputs reward estimates\n",
    "> * `GLOBAL_LAYERS` - Iterable of ints. Specifies the layers of the global tower\n",
    "> * `ARM_LAYERS` - Iterable of ints. Specifies the layers of the arm tower\n",
    "> * `COMMON_LAYERS` - Iterable of ints. Specifies the layers of the common tower\n",
    "* The network produced by this function can be used either in `GreedyRewardPredictionPolicy`, or `NeuralLinUCBPolicy`\n",
    "> * In the former case, the network must have `output_dim=1`, it is going to be an instance of `QNetwork`, and used in the policy as a reward prediction network\n",
    "> * In the latter case, the network will be an encoding network with its output consumed by a reward layer or a `LinUCB` method. The specified `output_dim` will be the encoding dimension\n",
    "* [docs](https://www.tensorflow.org/agents/api_docs/python/tf_agents/bandits/networks/global_and_arm_feature_network/GlobalAndArmCommonTowerNetwork)\n",
    "\n",
    "**GlobalAndArmDotProductNetwork:** (`dotproduct`)\n",
    "* This network calculates the **dot product** of the output of the global and per-arm networks and returns them as reward estimates\n",
    "> * `GLOBAL_LAYERS` - Iterable of ints. Specifies the layers of the global tower\n",
    "> * `ARM_LAYERS` - Iterable of ints. Specifies the layers of the arm tower\n",
    "* [docs](https://www.tensorflow.org/agents/api_docs/python/tf_agents/bandits/networks/global_and_arm_feature_network/GlobalAndArmDotProductNetwork)"
   ]
  },
  {
   "cell_type": "markdown",
   "id": "99f496e4-dba1-498f-a216-e6af56471383",
   "metadata": {},
   "source": [
    "### define agent and network (optional)"
   ]
  },
  {
   "cell_type": "code",
   "execution_count": 55,
   "id": "557a70e6-e20f-4bf3-b8dc-04f25e45400c",
   "metadata": {},
   "outputs": [
    {
     "name": "stdout",
     "output_type": "stream",
     "text": [
      "AGENT_TYPE      : epsGreedy\n",
      "NETWORK_TYPE    : dotproduct\n",
      "AGENT_ALPHA     : 0.1\n",
      "EPSILON         : 0.01\n",
      "LR              : 0.05\n",
      "ENCODING_DIM    : 5\n",
      "EPS_PHASE_STEPS : 1000\n",
      "GLOBAL_LAYERS   : [16, 4]\n",
      "ARM_LAYERS      : [16, 4]\n",
      "COMMON_LAYERS   : [4]\n"
     ]
    }
   ],
   "source": [
    "# ================================\n",
    "# Agents\n",
    "# ================================\n",
    "AGENT_TYPE      = 'epsGreedy' # 'LinUCB' | 'LinTS |, 'epsGreedy' | 'NeuralLinUCB'\n",
    "\n",
    "# Parameters for linear agents (LinUCB and LinTS).\n",
    "AGENT_ALPHA     = 0.1\n",
    "\n",
    "# Parameters for neural agents (NeuralEpsGreedy and NerualLinUCB).\n",
    "EPSILON         = 0.01\n",
    "LR              = 0.05\n",
    "\n",
    "# Parameters for NeuralLinUCB\n",
    "ENCODING_DIM    = 5\n",
    "EPS_PHASE_STEPS = 1000\n",
    "\n",
    "# ================================\n",
    "# Agent's Preprocess Network\n",
    "# ================================\n",
    "NETWORK_TYPE    = \"dotproduct\" # 'commontower' | 'dotproduct'\n",
    "\n",
    "if AGENT_TYPE == 'NeuralLinUCB':\n",
    "    NETWORK_TYPE = 'commontower'\n",
    "    \n",
    "\n",
    "GLOBAL_LAYERS   = [16, 4]\n",
    "ARM_LAYERS      = [16, 4]\n",
    "COMMON_LAYERS   = [4]\n",
    "\n",
    "observation_and_action_constraint_splitter = None\n",
    "\n",
    "print(f\"AGENT_TYPE      : {AGENT_TYPE}\")\n",
    "print(f\"NETWORK_TYPE    : {NETWORK_TYPE}\")\n",
    "print(f\"AGENT_ALPHA     : {AGENT_ALPHA}\")\n",
    "print(f\"EPSILON         : {EPSILON}\")\n",
    "print(f\"LR              : {LR}\")\n",
    "print(f\"ENCODING_DIM    : {ENCODING_DIM}\")\n",
    "print(f\"EPS_PHASE_STEPS : {EPS_PHASE_STEPS}\")\n",
    "print(f\"GLOBAL_LAYERS   : {GLOBAL_LAYERS}\")\n",
    "print(f\"ARM_LAYERS      : {ARM_LAYERS}\")\n",
    "print(f\"COMMON_LAYERS   : {COMMON_LAYERS}\")"
   ]
  },
  {
   "cell_type": "code",
   "execution_count": 56,
   "id": "5414c280-170b-405e-b9da-48756d721b43",
   "metadata": {},
   "outputs": [
    {
     "name": "stdout",
     "output_type": "stream",
     "text": [
      "Agent: neural_epsilon_greedy_agent\n",
      "\n",
      "Network: GlobalAndArmDotProductNetwork\n"
     ]
    }
   ],
   "source": [
    "from tf_agents.bandits.policies import policy_utilities\n",
    "\n",
    "network = None\n",
    "\n",
    "if AGENT_TYPE == 'LinUCB':\n",
    "    agent = lin_ucb_agent.LinearUCBAgent(\n",
    "        time_step_spec=per_arm_tf_env.time_step_spec(),\n",
    "        action_spec=per_arm_tf_env.action_spec(),\n",
    "        alpha=AGENT_ALPHA,\n",
    "        accepts_per_arm_features=True,\n",
    "        dtype=tf.float32,\n",
    "    )\n",
    "elif AGENT_TYPE == 'LinTS':\n",
    "    agent = lin_ts_agent.LinearThompsonSamplingAgent(\n",
    "        time_step_spec=per_arm_tf_env.time_step_spec(),\n",
    "        action_spec=per_arm_tf_env.action_spec(),\n",
    "        alpha=AGENT_ALPHA,\n",
    "        observation_and_action_constraint_splitter=(\n",
    "            observation_and_action_constraint_splitter\n",
    "        ),\n",
    "        accepts_per_arm_features=True,\n",
    "        dtype=tf.float32,\n",
    "    )\n",
    "elif AGENT_TYPE == 'epsGreedy':\n",
    "    obs_spec = per_arm_tf_env.observation_spec()\n",
    "    if NETWORK_TYPE == 'commontower':\n",
    "        network = global_and_arm_feature_network.create_feed_forward_common_tower_network(\n",
    "            observation_spec = obs_spec, \n",
    "            global_layers = GLOBAL_LAYERS, \n",
    "            arm_layers = ARM_LAYERS, \n",
    "            common_layers = COMMON_LAYERS,\n",
    "            # output_dim = 1\n",
    "        )\n",
    "    elif NETWORK_TYPE == 'dotproduct':\n",
    "        network = global_and_arm_feature_network.create_feed_forward_dot_product_network(\n",
    "            observation_spec = obs_spec, \n",
    "            global_layers = GLOBAL_LAYERS, \n",
    "            arm_layers = ARM_LAYERS\n",
    "        )\n",
    "    agent = neural_epsilon_greedy_agent.NeuralEpsilonGreedyAgent(\n",
    "        time_step_spec=per_arm_tf_env.time_step_spec(),\n",
    "        action_spec=per_arm_tf_env.action_spec(),\n",
    "        reward_network=network,\n",
    "        optimizer=tf.compat.v1.train.AdamOptimizer(learning_rate=LR),\n",
    "        epsilon=EPSILON,\n",
    "        observation_and_action_constraint_splitter=(\n",
    "            observation_and_action_constraint_splitter\n",
    "        ),\n",
    "        accepts_per_arm_features=True,\n",
    "        emit_policy_info=policy_utilities.InfoFields.PREDICTED_REWARDS_MEAN,\n",
    "    )\n",
    "\n",
    "elif AGENT_TYPE == 'NeuralLinUCB':\n",
    "    obs_spec = per_arm_tf_env.observation_spec()\n",
    "    network = (\n",
    "        global_and_arm_feature_network.create_feed_forward_common_tower_network(\n",
    "            observation_spec = obs_spec, \n",
    "            global_layers = GLOBAL_LAYERS, \n",
    "            arm_layers = ARM_LAYERS, \n",
    "            common_layers = COMMON_LAYERS,\n",
    "            output_dim = ENCODING_DIM\n",
    "        )\n",
    "    )\n",
    "    agent = neural_linucb_agent.NeuralLinUCBAgent(\n",
    "        time_step_spec=per_arm_tf_env.time_step_spec(),\n",
    "        action_spec=per_arm_tf_env.action_spec(),\n",
    "        encoding_network=network,\n",
    "        encoding_network_num_train_steps=EPS_PHASE_STEPS,\n",
    "        encoding_dim=ENCODING_DIM,\n",
    "        optimizer=tf.compat.v1.train.AdamOptimizer(learning_rate=LR),\n",
    "        alpha=1.0,\n",
    "        gamma=1.0,\n",
    "        epsilon_greedy=EPSILON,\n",
    "        accepts_per_arm_features=True,\n",
    "        debug_summaries=True,\n",
    "        summarize_grads_and_vars=True,\n",
    "        emit_policy_info=policy_utilities.InfoFields.PREDICTED_REWARDS_MEAN,\n",
    "    )\n",
    "    \n",
    "print(f\"Agent: {agent.name}\\n\")\n",
    "\n",
    "if network:\n",
    "    print(f\"Network: {network.name}\")"
   ]
  },
  {
   "cell_type": "code",
   "execution_count": 57,
   "id": "4587a396-919c-4c6e-bf37-542715987195",
   "metadata": {},
   "outputs": [
    {
     "name": "stdout",
     "output_type": "stream",
     "text": [
      "_TupleWrapper(Trajectory(\n",
      "{'action': BoundedTensorSpec(shape=(), dtype=tf.int32, name='action', minimum=array(0, dtype=int32), maximum=array(9, dtype=int32)),\n",
      " 'discount': BoundedTensorSpec(shape=(), dtype=tf.float32, name='discount', minimum=array(0., dtype=float32), maximum=array(1., dtype=float32)),\n",
      " 'next_step_type': TensorSpec(shape=(), dtype=tf.int32, name='step_type'),\n",
      " 'observation': DictWrapper({'global': TensorSpec(shape=(16,), dtype=tf.float32, name=None), 'per_arm': TensorSpec(shape=(10, 16), dtype=tf.float32, name=None), 'num_actions': BoundedTensorSpec(shape=(), dtype=tf.int64, name=None, minimum=array(1), maximum=array(10))}),\n",
      " 'policy_info': PerArmPolicyInfo(log_probability=(), predicted_rewards_mean=TensorSpec(shape=(10,), dtype=tf.float32, name=None), multiobjective_scalarized_predicted_rewards_mean=(), predicted_rewards_optimistic=(), predicted_rewards_sampled=(), bandit_policy_type=(), chosen_arm_features=TensorSpec(shape=(16,), dtype=tf.float32, name=None)),\n",
      " 'reward': TensorSpec(shape=(), dtype=tf.float32, name='reward'),\n",
      " 'step_type': TensorSpec(shape=(), dtype=tf.int32, name='step_type')}))\n"
     ]
    }
   ],
   "source": [
    "pprint(agent.policy.trajectory_spec)"
   ]
  },
  {
   "cell_type": "code",
   "execution_count": 58,
   "id": "40f88242-084d-4a08-aea0-11d70466336b",
   "metadata": {},
   "outputs": [],
   "source": [
    "# observation_spec = per_arm_tf_env.observation_spec()\n",
    "# time_step_spec = ts.time_step_spec(observation_spec)\n",
    "# time_step_spec"
   ]
  },
  {
   "cell_type": "code",
   "execution_count": 59,
   "id": "0f5615a7-6ae1-4ffe-9703-a9e2e6a53419",
   "metadata": {},
   "outputs": [],
   "source": [
    "# action_spec = tensor_spec.BoundedTensorSpec(\n",
    "#     dtype=tf.int32, shape=(), minimum=0, maximum=NUM_ACTIONS - 1)\n",
    "\n",
    "# action_spec"
   ]
  },
  {
   "cell_type": "code",
   "execution_count": 60,
   "id": "45a60e11-1c81-4016-bd51-e83b070c522b",
   "metadata": {},
   "outputs": [],
   "source": [
    "# agent = lin_ucb_agent.LinearUCBAgent(\n",
    "#     time_step_spec=time_step_spec,\n",
    "#     action_spec=action_spec,\n",
    "#     accepts_per_arm_features=True\n",
    "# )\n",
    "\n",
    "# agent"
   ]
  },
  {
   "cell_type": "markdown",
   "id": "b19a35ac-be89-4647-b4da-5933bf4f33a6",
   "metadata": {},
   "source": [
    "## The flow of training data"
   ]
  },
  {
   "cell_type": "code",
   "execution_count": 61,
   "id": "46d2d711-c0da-42af-9038-dc46391f35ab",
   "metadata": {},
   "outputs": [
    {
     "name": "stdout",
     "output_type": "stream",
     "text": [
      "training data spec:  Trajectory(\n",
      "{'action': BoundedTensorSpec(shape=(), dtype=tf.int32, name='action', minimum=array(0, dtype=int32), maximum=array(9, dtype=int32)),\n",
      " 'discount': BoundedTensorSpec(shape=(), dtype=tf.float32, name='discount', minimum=array(0., dtype=float32), maximum=array(1., dtype=float32)),\n",
      " 'next_step_type': TensorSpec(shape=(), dtype=tf.int32, name='step_type'),\n",
      " 'observation': DictWrapper({'global': TensorSpec(shape=(16,), dtype=tf.float32, name=None), 'num_actions': BoundedTensorSpec(shape=(), dtype=tf.int64, name=None, minimum=array(1), maximum=array(10))}),\n",
      " 'policy_info': PerArmPolicyInfo(log_probability=(), predicted_rewards_mean=TensorSpec(shape=(10,), dtype=tf.float32, name=None), multiobjective_scalarized_predicted_rewards_mean=(), predicted_rewards_optimistic=(), predicted_rewards_sampled=(), bandit_policy_type=(), chosen_arm_features=TensorSpec(shape=(16,), dtype=tf.float32, name=None)),\n",
      " 'reward': TensorSpec(shape=(), dtype=tf.float32, name='reward'),\n",
      " 'step_type': TensorSpec(shape=(), dtype=tf.int32, name='step_type')})\n"
     ]
    }
   ],
   "source": [
    "print('training data spec: ', agent.training_data_spec)"
   ]
  },
  {
   "cell_type": "code",
   "execution_count": 62,
   "id": "ec33187a-3794-4824-b3e6-ddc594129e92",
   "metadata": {},
   "outputs": [
    {
     "name": "stdout",
     "output_type": "stream",
     "text": [
      "observation spec in training:  {'global': TensorSpec(shape=(16,), dtype=tf.float32, name=None), 'num_actions': BoundedTensorSpec(shape=(), dtype=tf.int64, name=None, minimum=array(1), maximum=array(10))}\n"
     ]
    }
   ],
   "source": [
    "print('observation spec in training: ', agent.training_data_spec.observation)"
   ]
  },
  {
   "cell_type": "code",
   "execution_count": 63,
   "id": "4c5e2a2b-f957-48d4-b9da-a0c13e7eb603",
   "metadata": {},
   "outputs": [
    {
     "name": "stdout",
     "output_type": "stream",
     "text": [
      "chosen arm features:  TensorSpec(shape=(16,), dtype=tf.float32, name=None)\n"
     ]
    }
   ],
   "source": [
    "print('chosen arm features: ', agent.training_data_spec.policy_info.chosen_arm_features)"
   ]
  },
  {
   "cell_type": "markdown",
   "id": "165a655e-6944-4b96-9c0c-d9465b3de2ac",
   "metadata": {},
   "source": [
    "## Defining the Regret Metric"
   ]
  },
  {
   "cell_type": "code",
   "execution_count": 64,
   "id": "f6f98a09-2791-4a22-b014-178ef387596a",
   "metadata": {},
   "outputs": [],
   "source": [
    "def _all_rewards(observation, hidden_param):\n",
    "    \"\"\"Outputs rewards for all actions, given an observation.\"\"\"\n",
    "    hidden_param = tf.cast(hidden_param, dtype=tf.float32)\n",
    "    global_obs = observation['global']\n",
    "    per_arm_obs = observation['per_arm']\n",
    "    num_actions = tf.shape(per_arm_obs)[1]\n",
    "    tiled_global = tf.tile(\n",
    "        tf.expand_dims(global_obs, axis=1), [1, num_actions, 1])\n",
    "    concatenated = tf.concat([tiled_global, per_arm_obs], axis=-1)\n",
    "    rewards = tf.linalg.matvec(concatenated, hidden_param)\n",
    "    return rewards\n",
    "\n",
    "def optimal_reward(observation, hidden_param):\n",
    "    \"\"\"Outputs the maximum expected reward for every element in the batch.\"\"\"\n",
    "    return tf.reduce_max(\n",
    "        _all_rewards(observation, hidden_param), axis=1\n",
    "    )\n",
    "\n",
    "def optimal_action(observation, hidden_param):\n",
    "    return tf.argmax(\n",
    "        _all_rewards(observation, hidden_param), axis=1, output_type=tf.int32\n",
    "    )\n",
    "\n",
    "# works\n",
    "# regret_metric = tf_bandit_metrics.RegretMetric(optimal_reward)\n",
    "\n",
    "# new\n",
    "optimal_reward_fn = functools.partial(\n",
    "    optimal_reward, hidden_param=reward_param\n",
    ")\n",
    "optimal_action_fn = functools.partial(\n",
    "    optimal_action, hidden_param=reward_param\n",
    ")\n",
    "\n",
    "suboptimal_arms_metric = tf_bandit_metrics.SuboptimalArmsMetric(\n",
    "    optimal_action_fn\n",
    ")\n",
    "\n",
    "regret_metric = tf_bandit_metrics.RegretMetric(optimal_reward_fn)\n",
    "\n",
    "metrics = [regret_metric, suboptimal_arms_metric]"
   ]
  },
  {
   "cell_type": "markdown",
   "id": "c8874943-2949-4c0d-a800-de56bdf478a4",
   "metadata": {},
   "source": [
    "## Training Loop\n",
    "\n",
    "* train stationary env [example](https://github.com/418sec/agents/blob/master/tf_agents/bandits/agents/examples/v2/train_eval_per_arm_stationary_linear.py)\n",
    "* train loop [src](https://github.com/418sec/agents/blob/master/tf_agents/bandits/agents/examples/v2/trainer.py)\n",
    "\n",
    "`async_steps_per_loop`: \n",
    "* an optional integer for simulating offline or asynchronous training\n",
    "* In each training loop iteration, the driver runs this many times, each executing `steps_per_loop` driver steps, and then the agent gets asynchronously trained over this many batches sampled from the replay buffer\n",
    "* When unset or set to 1, the function performs synchronous training, where the agent gets trained on a single batch immediately after the driver runs.\n",
    "\n",
    "\n",
    "**TODO**\n",
    "* add checkpointer\n",
    "* add ditribution strategy (GPU support)"
   ]
  },
  {
   "cell_type": "code",
   "execution_count": 65,
   "id": "ca2d6a26-70da-4d00-a317-e722760f2a72",
   "metadata": {},
   "outputs": [],
   "source": [
    "from tf_agents.bandits.agents.examples.v2 import trainer"
   ]
  },
  {
   "cell_type": "code",
   "execution_count": 66,
   "id": "2e398e5f-dbd4-4f42-9692-8ba44354c21f",
   "metadata": {},
   "outputs": [
    {
     "name": "stdout",
     "output_type": "stream",
     "text": [
      "EXPERIMENT_NAME   : neural-linear-bandits-v1\n",
      "RUN_NAME          : run-20230808-035548\n",
      "LOG_DIR           : gs://mabv1-hybrid-vertex-bucket/neural-linear-bandits-v1/run-20230808-035548/tb-logs\n",
      "ROOT_DIR          : gs://mabv1-hybrid-vertex-bucket/neural-linear-bandits-v1/run-20230808-035548/root\n",
      "ARTIFACTS_DIR     : gs://mabv1-hybrid-vertex-bucket/neural-linear-bandits-v1/run-20230808-035548/artifacts\n"
     ]
    }
   ],
   "source": [
    "EXPERIMENT_NAME   = f'neural-linear-bandits-v1'\n",
    "\n",
    "# new experiment\n",
    "invoke_time       = time.strftime(\"%Y%m%d-%H%M%S\")\n",
    "RUN_NAME          = f'run-{invoke_time}'\n",
    "\n",
    "LOG_DIR           = f\"{BUCKET_URI}/{EXPERIMENT_NAME}/{RUN_NAME}/tb-logs\"\n",
    "ROOT_DIR          = f\"{BUCKET_URI}/{EXPERIMENT_NAME}/{RUN_NAME}/root\"       # Root directory for writing logs/summaries/checkpoints.\n",
    "ARTIFACTS_DIR     = f\"{BUCKET_URI}/{EXPERIMENT_NAME}/{RUN_NAME}/artifacts\"  # Where the trained model will be saved and restored.\n",
    "\n",
    "aiplatform.init(\n",
    "    project=PROJECT_ID,\n",
    "    location=REGION,\n",
    "    experiment=EXPERIMENT_NAME\n",
    ")\n",
    "\n",
    "print(f\"EXPERIMENT_NAME   : {EXPERIMENT_NAME}\")\n",
    "print(f\"RUN_NAME          : {RUN_NAME}\")\n",
    "print(f\"LOG_DIR           : {LOG_DIR}\")\n",
    "print(f\"ROOT_DIR          : {ROOT_DIR}\")\n",
    "print(f\"ARTIFACTS_DIR     : {ARTIFACTS_DIR}\")"
   ]
  },
  {
   "cell_type": "code",
   "execution_count": 68,
   "id": "20a48e3c-adbe-4972-b6fe-ada9ae6334d1",
   "metadata": {},
   "outputs": [],
   "source": [
    "import tensorflow as tf\n",
    "from tf_agents.metrics import tf_metrics\n",
    "\n",
    "from src.perarm_features import trainer_common as trainer_common\n",
    "\n",
    "TRAINING_LOOPS = 25\n",
    "STEPS_PER_LOOP = 2\n",
    "drop_arm_feature_fn = None\n",
    "ASYNC_STEPS_PER_LOOP = 1"
   ]
  },
  {
   "cell_type": "code",
   "execution_count": 69,
   "id": "d56d096e-7e8c-4d12-bead-d5927f0caf03",
   "metadata": {},
   "outputs": [],
   "source": [
    "\n",
    "# put these in trainer_common.py\n",
    "\n",
    "# replay_buffer = tf_uniform_replay_buffer.TFUniformReplayBuffer(\n",
    "#     data_spec=agent.policy.trajectory_spec,\n",
    "#     batch_size=BATCH_SIZE,\n",
    "#     max_length=STEPS_PER_LOOP * ASYNC_STEPS_PER_LOOP\n",
    "# )\n",
    "\n",
    "# # `step_metric` records the number of individual rounds of bandit interaction;\n",
    "# # that is, (number of trajectories) * batch_size.\n",
    "# step_metric = tf_metrics.EnvironmentSteps()\n",
    "\n",
    "# observers = [replay_buffer.add_batch, regret_metric, step_metric, suboptimal_arms_metric]\n",
    "\n",
    "# driver = dynamic_step_driver.DynamicStepDriver(\n",
    "#     env=per_arm_tf_env,\n",
    "#     policy=agent.collect_policy,\n",
    "#     num_steps=STEPS_PER_LOOP * BATCH_SIZE,\n",
    "#     observers=observers\n",
    "# )"
   ]
  },
  {
   "cell_type": "code",
   "execution_count": 70,
   "id": "8ca5cd13-46cb-47f1-96ff-001df278948a",
   "metadata": {},
   "outputs": [
    {
     "name": "stdout",
     "output_type": "stream",
     "text": [
      "setting checkpoint_manager: gs://mabv1-hybrid-vertex-bucket/neural-linear-bandits-v1/run-20230808-035548/root/chkpoint\n",
      "starting_loop: 0\n",
      "starting train loop...\n",
      "step = 0: loss = 8324.009765625; execution time: 1\n",
      "step = 1: loss = 6709.85986328125; execution time: 1\n",
      "step = 2: loss = 12530.330078125; execution time: 0\n",
      "step = 3: loss = 9894.7001953125; execution time: 0\n",
      "step = 4: loss = 8768.9697265625; execution time: 1\n",
      "step = 5: loss = 7674.60009765625; execution time: 0\n",
      "step = 6: loss = 13309.6201171875; execution time: 0\n",
      "step = 7: loss = 6386.52001953125; execution time: 0\n",
      "step = 8: loss = 9392.3798828125; execution time: 0\n",
      "step = 9: loss = 14712.580078125; execution time: 0\n",
      "step = 10: loss = 10188.759765625; execution time: 1\n",
      "step = 11: loss = 6219.5498046875; execution time: 0\n",
      "step = 12: loss = 7561.740234375; execution time: 0\n",
      "step = 13: loss = 11981.4697265625; execution time: 0\n",
      "step = 14: loss = 14318.349609375; execution time: 0\n",
      "step = 15: loss = 13009.4296875; execution time: 0\n",
      "step = 16: loss = 18136.119140625; execution time: 0\n",
      "step = 17: loss = 12257.7099609375; execution time: 0\n",
      "step = 18: loss = 9032.7001953125; execution time: 0\n",
      "step = 19: loss = 6323.60009765625; execution time: 0\n",
      "step = 20: loss = 9049.8701171875; execution time: 0\n",
      "step = 21: loss = 10969.73046875; execution time: 0\n",
      "step = 22: loss = 9576.4404296875; execution time: 0\n",
      "step = 23: loss = 9468.8896484375; execution time: 0\n",
      "step = 24: loss = 7873.77978515625; execution time: 0\n",
      "runtime_mins: 25\n",
      "saved trained policy to: gs://mabv1-hybrid-vertex-bucket/neural-linear-bandits-v1/run-20230808-035548/artifacts\n",
      "complete train job in 25 minutes\n"
     ]
    }
   ],
   "source": [
    "#start the timer and training\n",
    "start_time = time.time()\n",
    "\n",
    "metric_results = trainer_common.train_perarm(\n",
    "    agent = agent,\n",
    "    # replay_buffer = replay_buffer,\n",
    "    # driver = driver,\n",
    "    environment = per_arm_tf_env,\n",
    "    # step_metric = step_metric,\n",
    "    num_iterations = TRAINING_LOOPS,\n",
    "    steps_per_loop = STEPS_PER_LOOP,\n",
    "    log_interval = 1,\n",
    "    # regret_metric = regret_metric,\n",
    "    log_dir=LOG_DIR,\n",
    "    model_dir=ARTIFACTS_DIR,\n",
    "    root_dir=ROOT_DIR,\n",
    "    async_steps_per_loop = ASYNC_STEPS_PER_LOOP,\n",
    "    resume_training_loops = False,\n",
    "    get_replay_buffer_fn = None,\n",
    "    get_training_loop_fn = None,\n",
    "    training_data_spec_transformation_fn = None,\n",
    "    additional_metrics = metrics\n",
    ")\n",
    "\n",
    "end_time = time.time()\n",
    "runtime_mins = int((end_time - start_time) / 60)\n",
    "print(f\"complete train job in {runtime_mins} minutes\")"
   ]
  },
  {
   "cell_type": "markdown",
   "id": "98c78ba7-de28-4d16-9bc3-7ab710e2d521",
   "metadata": {},
   "source": [
    "### bandit eval"
   ]
  },
  {
   "cell_type": "code",
   "execution_count": 568,
   "id": "b4b4a349-67de-43a6-8936-1ba8e06f6a3a",
   "metadata": {},
   "outputs": [],
   "source": [
    "# len(metric_results['RegretMetric'])\n",
    "# metric_results"
   ]
  },
  {
   "cell_type": "code",
   "execution_count": 71,
   "id": "bcb5c2bd-6a76-45ea-9753-fbc6425e222d",
   "metadata": {},
   "outputs": [
    {
     "name": "stdout",
     "output_type": "stream",
     "text": [
      "NumberOfEpisodes\n",
      "AverageEpisodeLengthMetric\n",
      "RegretMetric\n",
      "SuboptimalArmsMetric\n",
      "AverageReturnMetric\n"
     ]
    }
   ],
   "source": [
    "for key in metric_results:\n",
    "    print(key)"
   ]
  },
  {
   "cell_type": "code",
   "execution_count": 72,
   "id": "6fce5879-aca0-4842-b56c-2731b2d33d84",
   "metadata": {},
   "outputs": [],
   "source": [
    "def plot(metric_results, metric_name):\n",
    "    plt.plot(metric_results[metric_name])\n",
    "    plt.ylabel(metric_name)\n",
    "    plt.xlabel(\"Step\")\n",
    "    plt.title(\"{} versus Step\".format(metric_name))"
   ]
  },
  {
   "cell_type": "code",
   "execution_count": 73,
   "id": "40edd180-16ac-46c3-b08d-f375124188bf",
   "metadata": {},
   "outputs": [
    {
     "data": {
      "image/png": "[encoded data removed]",
      "text/plain": [
       "<Figure size 640x480 with 1 Axes>"
      ]
     },
     "metadata": {},
     "output_type": "display_data"
    }
   ],
   "source": [
    "plot(metric_results, \"RegretMetric\")"
   ]
  },
  {
   "cell_type": "code",
   "execution_count": 74,
   "id": "37694f99-723c-41e2-9da8-5a6549edaba3",
   "metadata": {},
   "outputs": [
    {
     "data": {
      "image/png": "[encoded data removed]",
      "text/plain": [
       "<Figure size 640x480 with 1 Axes>"
      ]
     },
     "metadata": {},
     "output_type": "display_data"
    }
   ],
   "source": [
    "plot(metric_results, \"AverageReturnMetric\")"
   ]
  },
  {
   "cell_type": "markdown",
   "id": "46bbd212-db7c-4b95-83af-ec7b6885845f",
   "metadata": {},
   "source": [
    "#### TensorBoard"
   ]
  },
  {
   "cell_type": "code",
   "execution_count": 75,
   "id": "c74689e4-f966-452c-a957-f5f43a184a4b",
   "metadata": {},
   "outputs": [],
   "source": [
    "# %load_ext tensorboard\n",
    "%reload_ext tensorboard"
   ]
  },
  {
   "cell_type": "code",
   "execution_count": 76,
   "id": "a689a0fd-9a5f-4baa-81b0-8306390f492a",
   "metadata": {},
   "outputs": [
    {
     "data": {
      "text/html": [
       "\n",
       "      <iframe id=\"tensorboard-frame-9111db0572ce722\" width=\"100%\" height=\"800\" frameborder=\"0\">\n",
       "      </iframe>\n",
       "      <script>\n",
       "        (function() {\n",
       "          const frame = document.getElementById(\"tensorboard-frame-9111db0572ce722\");\n",
       "          const url = new URL(\"/proxy/6006/\", window.location);\n",
       "          const port = 0;\n",
       "          if (port) {\n",
       "            url.port = port;\n",
       "          }\n",
       "          frame.src = url;\n",
       "        })();\n",
       "      </script>\n",
       "    "
      ],
      "text/plain": [
       "<IPython.core.display.HTML object>"
      ]
     },
     "metadata": {},
     "output_type": "display_data"
    }
   ],
   "source": [
    "%tensorboard --logdir=$LOG_DIR"
   ]
  },
  {
   "cell_type": "markdown",
   "id": "2e312e7c-e47a-49d0-85fb-80bf51f58e61",
   "metadata": {},
   "source": [
    "### log experiment to Vertex"
   ]
  },
  {
   "cell_type": "code",
   "execution_count": 77,
   "id": "99560e10-d674-45e1-a14c-439f199419bf",
   "metadata": {},
   "outputs": [
    {
     "name": "stdout",
     "output_type": "stream",
     "text": [
      "NETWORK_NAME    : GlobalAndArmDotProductNetwork\n",
      "GLOBAL_LAYERS   : [16, 4]\n",
      "ARM_LAYERS      : [16, 4]\n",
      "COMMON_LAYERS   : [4]\n",
      "ENCODING_DIM    : 5\n",
      "EPS_PHASE_STEPS : 1000\n"
     ]
    }
   ],
   "source": [
    "if not network:\n",
    "    NETWORK_NAME = \"None\"\n",
    "    GLOBAL_LAYERS = \"None\"\n",
    "    ARM_LAYERS = \"None\"\n",
    "    COMMON_LAYERS = \"None\"\n",
    "    ENCODING_DIM = \"None\"\n",
    "    EPS_PHASE_STEPS = \"None\"\n",
    "else:\n",
    "    NETWORK_NAME = network.name\n",
    "    GLOBAL_LAYERS = GLOBAL_LAYERS\n",
    "    ARM_LAYERS = ARM_LAYERS\n",
    "    COMMON_LAYERS = COMMON_LAYERS\n",
    "    ENCODING_DIM = ENCODING_DIM\n",
    "    EPS_PHASE_STEPS = EPS_PHASE_STEPS\n",
    "\n",
    "print(f\"NETWORK_NAME    : {NETWORK_NAME}\")\n",
    "print(f\"GLOBAL_LAYERS   : {GLOBAL_LAYERS}\")\n",
    "print(f\"ARM_LAYERS      : {ARM_LAYERS}\")\n",
    "print(f\"COMMON_LAYERS   : {COMMON_LAYERS}\")\n",
    "print(f\"ENCODING_DIM    : {ENCODING_DIM}\")\n",
    "print(f\"EPS_PHASE_STEPS : {EPS_PHASE_STEPS}\")"
   ]
  },
  {
   "cell_type": "code",
   "execution_count": 78,
   "id": "954971eb-5d72-4727-83c2-b06f204f2a27",
   "metadata": {},
   "outputs": [],
   "source": [
    "aiplatform.start_run(\n",
    "    RUN_NAME\n",
    "    # , tensorboard=TB_RESOURCE_NAME\n",
    "    , resume=False\n",
    ")\n",
    "\n",
    "aiplatform.log_params(\n",
    "    {\n",
    "        \"agent_type\": agent.name,\n",
    "        \"network\": NETWORK_NAME,\n",
    "        \"runtime\": runtime_mins,\n",
    "        \"batch_size\": BATCH_SIZE, \n",
    "        \"training_loops\": TRAINING_LOOPS,\n",
    "        \"steps_pre_loop\": STEPS_PER_LOOP,\n",
    "        # \"rank_k\": RANK_K,\n",
    "        \"num_actions\": NUM_ACTIONS,\n",
    "        \"per_arm\": \"True\",\n",
    "        \"global_lyrs\": str(GLOBAL_LAYERS),\n",
    "        \"arm_lyrs\": str(ARM_LAYERS),\n",
    "        \"common_lyrs\": str(COMMON_LAYERS),\n",
    "        \"encoding_dim\": ENCODING_DIM,\n",
    "        \"eps_steps\": EPS_PHASE_STEPS,\n",
    "    }\n",
    ")\n",
    "\n",
    "# gather the metrics for the last epoch to be saved in metrics\n",
    "aiplatform.log_metrics(\n",
    "    {\n",
    "        \"AverageReturnMetric\" : float(metric_results[\"AverageReturnMetric\"][-1])\n",
    "        , \"FinalRegretMetric\" : float(metric_results[\"RegretMetric\"][-1])\n",
    "    }\n",
    ")\n",
    "\n",
    "aiplatform.end_run()"
   ]
  },
  {
   "cell_type": "markdown",
   "id": "38136270-c034-4807-b8e5-165fd7e9b7fb",
   "metadata": {},
   "source": [
    "# Off-Policy training"
   ]
  },
  {
   "cell_type": "code",
   "execution_count": 1751,
   "id": "e5e9e31d-e12a-4e07-91cd-884ee1cf6064",
   "metadata": {},
   "outputs": [],
   "source": [
    "def _get_rewards(element):\n",
    "    \"\"\"Calculates reward for the actions.\"\"\"\n",
    "\n",
    "    def _calc_reward(x):\n",
    "        \"\"\"Calculates reward for a single action.\"\"\"\n",
    "        r0 = lambda: tf.constant(0.0)\n",
    "        r1 = lambda: tf.constant(-10.0)\n",
    "        r2 = lambda: tf.constant(2.0)\n",
    "        r3 = lambda: tf.constant(3.0)\n",
    "        r4 = lambda: tf.constant(4.0)\n",
    "        r5 = lambda: tf.constant(10.0)\n",
    "        c1 = tf.equal(x, 1.0)\n",
    "        c2 = tf.equal(x, 2.0)\n",
    "        c3 = tf.equal(x, 3.0)\n",
    "        c4 = tf.equal(x, 4.0)\n",
    "        c5 = tf.equal(x, 5.0)\n",
    "        return tf.case([(c1, r1), (c2, r2), (c3, r3),(c4, r4),(c5, r5)], default=r0, exclusive=True)\n",
    "\n",
    "    return tf.map_fn(\n",
    "        fn=_calc_reward, \n",
    "        elems=element['user_rating'], \n",
    "        dtype=tf.float32\n",
    "    )"
   ]
  },
  {
   "cell_type": "code",
   "execution_count": 1752,
   "id": "396809c3-c1c9-4326-b445-3a953389c1c3",
   "metadata": {},
   "outputs": [],
   "source": [
    "def _get_global_feature_list(input_features):\n",
    "    \"\"\"Return list of global features.\"\"\"\n",
    "    global_feature_names = ['user_id', 'bucketized_user_age', 'user_occupation_text', 'timestamp']\n",
    "    global_features = []\n",
    "    for global_feature in global_feature_names:\n",
    "        if global_feature in input_features:\n",
    "            global_features.append(input_features[global_feature])\n",
    "        else:\n",
    "            logging.error('Missing global feature %s', global_feature)\n",
    "    return global_features\n",
    "\n",
    "def _get_per_arm_feature_dict(input_features):\n",
    "    \"\"\"Returns a dictionary mapping feature key to per arm features.\"\"\"\n",
    "    per_arm_feature_names = ['movie_id', 'movie_genres']\n",
    "    arm_features = {}\n",
    "    for per_arm_feature in per_arm_feature_names:\n",
    "        if per_arm_feature in input_features:\n",
    "            arm_features[per_arm_feature] = input_features[per_arm_feature]\n",
    "        else:\n",
    "            logging.error('Missing per arm feature %s', per_arm_feature)\n",
    "    return arm_features\n",
    "\n",
    "def _add_outer_dimension(x):\n",
    "    \"\"\"Adds an extra outer dimension.\"\"\"\n",
    "    if isinstance(x, dict):\n",
    "        for key, value in x.items():\n",
    "            x[key] = tf.expand_dims(value, 1)\n",
    "        return x\n",
    "    return tf.expand_dims(x, 1)"
   ]
  },
  {
   "cell_type": "markdown",
   "id": "872d88cf-f26c-4cb2-afca-3719bee86ded",
   "metadata": {},
   "source": [
    "#### tmp - debugging"
   ]
  },
  {
   "cell_type": "code",
   "execution_count": 1753,
   "id": "6883c898-4bba-499c-899c-e7fcba99244b",
   "metadata": {},
   "outputs": [],
   "source": [
    "# for x in train_dataset.batch(1).take(1):\n",
    "#     testy = _get_per_arm_feature_dict(x)\n",
    "\n",
    "###    \n",
    "# testz = _add_outer_dimension(testy)\n",
    "# >>>>\n",
    "# {'movie_id': <tf.Tensor: shape=(1, 1), dtype=string, numpy=array([[b'211']], dtype=object)>,\n",
    "#  'movie_genres': <tf.Tensor: shape=(1, 1, 1), dtype=int64, numpy=array([[[4]]])>}\n",
    "\n",
    "### \n",
    "# testx = tensor_spec.add_outer_dim(\n",
    "#     specs=testy,\n",
    "#     dim=None\n",
    "# )\n",
    "# >>>>\n",
    "# {'movie_id': TensorSpec(shape=(None, 1), dtype=tf.string, name=None),\n",
    "#  'movie_genres': TensorSpec(shape=(None, 1, 1), dtype=tf.int64, name=None)}"
   ]
  },
  {
   "cell_type": "markdown",
   "id": "78d6b115-bcd3-4c05-9dc8-4feba22a7626",
   "metadata": {},
   "source": [
    "#### tmp - debugging\n",
    "\n",
    "```\n",
    "InvalidArgumentError: Exception encountered when calling layer 'tf.math.reduce_sum' (type TFOpLambda).\n",
    "\n",
    "{{function_node __wrapped__Sum_device_/job:localhost/replica:0/task:0/device:GPU:0}} Invalid reduction dimension (-2 for input with 1 dimension(s) [Op:Sum] name: \n",
    "\n",
    "Call arguments received by layer 'tf.math.reduce_sum' (type TFOpLambda):\n",
    "  • input_tensor=tf.Tensor(shape=(4,), dtype=float32)\n",
    "  • axis=-2\n",
    "  • keepdims=False\n",
    "  • name=None\n",
    "```"
   ]
  },
  {
   "cell_type": "code",
   "execution_count": 1754,
   "id": "d62e1390-d3a9-4e4a-864f-c0339d3892b1",
   "metadata": {},
   "outputs": [],
   "source": [
    "# # _id = test_user_id_model(user_id_value)\n",
    "# # .batch(1)\n",
    "# for x in train_dataset.take(1):\n",
    "#     user_id_value = x['user_id']\n",
    "#     print(user_id_value)\n",
    "#     _id = test_user_id_model(user_id_value)\n",
    "#     print(_id)\n",
    "#     # XXX = tf.math.reduce_sum(_id, axis=-2)\n",
    "#     # print(XXX)"
   ]
  },
  {
   "cell_type": "markdown",
   "id": "8d76ca24-29f5-4748-828f-40488fafc038",
   "metadata": {},
   "source": [
    "## global and arm feature generators"
   ]
  },
  {
   "cell_type": "code",
   "execution_count": 1755,
   "id": "d34b6564-20b3-4492-aa43-607eebf81146",
   "metadata": {},
   "outputs": [],
   "source": [
    "def _get_global_context_features(x):\n",
    "    \"\"\"\n",
    "    This function generates a single global observation vector.\n",
    "    \"\"\"\n",
    "    user_id_value = x['user_id']\n",
    "    user_age_value = x['bucketized_user_age']\n",
    "    user_occ_value = x['user_occupation_text']\n",
    "    user_ts_value = x['timestamp']\n",
    "\n",
    "    _id = test_user_id_model(user_id_value) # input_tensor=tf.Tensor(shape=(4,), dtype=float32)\n",
    "    _age = test_user_age_model(user_age_value)\n",
    "    _occ = test_user_occ_model(user_occ_value)\n",
    "    _ts = test_user_ts_model(user_ts_value)\n",
    "\n",
    "    # # tmp - insepct numpy() values\n",
    "    # print(_id.numpy()) #[0])\n",
    "    # print(_age.numpy()) #[0])\n",
    "    # print(_occ.numpy()) #[0])\n",
    "    # print(_ts.numpy()) #[0])\n",
    "\n",
    "    # to numpy array\n",
    "    _id = np.array(_id.numpy()[0])\n",
    "    _age = np.array(_age.numpy()[0])\n",
    "    _occ = np.array(_occ.numpy()[0])\n",
    "    _ts = np.array(_ts.numpy()[0])\n",
    "\n",
    "    concat = np.concatenate(\n",
    "        [_id, _age, _occ, _ts], axis=-1 # -1\n",
    "    ).astype(np.float32)\n",
    "\n",
    "    return concat\n",
    "\n",
    "def _get_per_arm_features(x):\n",
    "    \"\"\"\n",
    "    This function generates a single per-arm observation vector\n",
    "    \"\"\"\n",
    "    mv_id_value = x['movie_id']\n",
    "    mv_gen_value = x['movie_genres'][0]\n",
    "\n",
    "    _mid = test_mv_id_model(mv_id_value)\n",
    "    _mgen = test_mv_gen_model(mv_gen_value)\n",
    "\n",
    "    # to numpy array\n",
    "    _mid = np.array(_mid.numpy()[0])\n",
    "    _mgen = np.array(_mgen.numpy()[0])\n",
    "\n",
    "    # print(_mid)\n",
    "    # print(_mgen)\n",
    "\n",
    "    concat = np.concatenate(\n",
    "        [_mid, _mgen], axis=-1 # -1\n",
    "    ).astype(np.float32)\n",
    "    # concat = tf.concat([_mid, _mgen], axis=-1).astype(np.float32)\n",
    "\n",
    "    return concat"
   ]
  },
  {
   "cell_type": "code",
   "execution_count": 1756,
   "id": "077f3507-833b-4aeb-83e3-b5f17d1e35a1",
   "metadata": {},
   "outputs": [
    {
     "name": "stdout",
     "output_type": "stream",
     "text": [
      "(16,)\n"
     ]
    },
    {
     "data": {
      "text/plain": [
       "array([-0.02599   , -0.03078079,  0.03106076,  0.00133444,  0.02207417,\n",
       "       -0.02917665,  0.02782809, -0.02822751, -0.04523091,  0.0495333 ,\n",
       "       -0.01482558, -0.04208376,  0.00741076, -0.04264941,  0.00693322,\n",
       "       -0.03396516], dtype=float32)"
      ]
     },
     "execution_count": 1756,
     "metadata": {},
     "output_type": "execute_result"
    }
   ],
   "source": [
    "for x in train_dataset.batch(1).take(1):\n",
    "    test_globals = _get_global_context_features(x)\n",
    "\n",
    "print(test_globals.shape)\n",
    "test_globals"
   ]
  },
  {
   "cell_type": "code",
   "execution_count": 1759,
   "id": "e933c988-684d-4e8d-a762-4ddeef5f3a67",
   "metadata": {},
   "outputs": [
    {
     "name": "stdout",
     "output_type": "stream",
     "text": [
      "(16,)\n"
     ]
    },
    {
     "data": {
      "text/plain": [
       "array([-0.02780459, -0.00370889, -0.02864446, -0.02917221, -0.01603731,\n",
       "        0.02465415,  0.01583499, -0.03253644,  0.03956462,  0.04351255,\n",
       "        0.01470714,  0.04936441,  0.01360733, -0.0412104 ,  0.02928157,\n",
       "        0.01699198], dtype=float32)"
      ]
     },
     "execution_count": 1759,
     "metadata": {},
     "output_type": "execute_result"
    }
   ],
   "source": [
    "for x in train_dataset.batch(1).take(1):\n",
    "    test_arms = _get_per_arm_features(x)\n",
    "\n",
    "print(test_arms.shape)\n",
    "test_arms"
   ]
  },
  {
   "cell_type": "markdown",
   "id": "ffed0831-a80e-4834-a0c3-be9ea2563ca8",
   "metadata": {},
   "source": [
    "## trajectory function\n",
    "\n",
    "* see [test example](https://github.com/tensorflow/agents/blob/master/tf_agents/bandits/policies/reward_prediction_policies_test.py#L309)\n",
    "* see [create_per_arm_observation_spec src](https://github.com/tensorflow/agents/blob/master/tf_agents/specs/bandit_spec_utils.py#L39)"
   ]
  },
  {
   "cell_type": "code",
   "execution_count": 1760,
   "id": "45ec6b65-7e74-48f8-8a69-a29be9959e25",
   "metadata": {},
   "outputs": [
    {
     "name": "stdout",
     "output_type": "stream",
     "text": [
      "1\n"
     ]
    }
   ],
   "source": [
    "HPARAMS = {\n",
    "    \"batch_size\":8,\n",
    "    \"num_docs_to_rank\":1,\n",
    "    \"model_type\": \"neural_epsilon_greedy\",\n",
    "    \"network_type\": 'commontower',\n",
    "    \"global_layers\": [16,4],\n",
    "    \"per_arm_layers\": [16,4],\n",
    "    \"common_layers\": [4],\n",
    "    \"learning_rate\": 0.05,\n",
    "    \"epsilon\":0.01,\n",
    "}\n",
    "\n",
    "num_actions = HPARAMS['num_docs_to_rank']\n",
    "# num_actions=tf.convert_to_tensor(num_actions, dtype=tf.int32)\n",
    "print(num_actions)"
   ]
  },
  {
   "cell_type": "markdown",
   "id": "1e8f396e-33ce-439f-8bb6-1aee9edbb092",
   "metadata": {},
   "source": [
    "[create_per_arm_observation_spec](https://github.com/tensorflow/agents/blob/master/tf_agents/specs/bandit_spec_utils.py#L39)\n",
    "```\n",
    "def create_per_arm_observation_spec(\n",
    "    global_dim: int,\n",
    "    per_arm_dim: int,\n",
    "    max_num_actions: Optional[int] = None,\n",
    "    add_num_actions_feature: bool = False,\n",
    ") -> types.NestedTensorSpec:\n",
    "  \"\"\"Creates an observation spec with per-arm features and possibly action mask.\n",
    "\n",
    "  Args:\n",
    "    global_dim: (int) The global feature dimension.\n",
    "    per_arm_dim: (int) The per-arm feature dimension.\n",
    "    max_num_actions: If specified (int), this is the maximum number of actions\n",
    "      in any sample, and the num_actions dimension of the per-arm features will\n",
    "      be set to this number. The actual number of actions for a given sample can\n",
    "      be lower than this parameter: it can be specified via the\n",
    "      NUM_ACTIONS_FEATURE_KEY, or an action mask.\n",
    "    add_num_actions_feature: (bool) whether to use the `num_actions` feature key\n",
    "      to encode the number of actions per sample.\n",
    "\n",
    "  Returns:\n",
    "    A nested structure of observation spec.\n",
    "  \"\"\"\n",
    " ```"
   ]
  },
  {
   "cell_type": "markdown",
   "id": "f0ab412f-a66e-4d6d-9450-d21bf88363df",
   "metadata": {},
   "source": [
    "#### Debugging from test_script\n",
    "\n",
    "* [src](https://github.com/tensorflow/agents/blob/master/tf_agents/bandits/policies/reward_prediction_policies_test.py)"
   ]
  },
  {
   "cell_type": "code",
   "execution_count": 1761,
   "id": "4cd21107-4dba-439e-99aa-527e9cb9042f",
   "metadata": {},
   "outputs": [
    {
     "data": {
      "text/plain": [
       "{'global': TensorSpec(shape=(16,), dtype=tf.float32, name=None),\n",
       " 'per_arm': TensorSpec(shape=(1, 16), dtype=tf.float32, name=None)}"
      ]
     },
     "execution_count": 1761,
     "metadata": {},
     "output_type": "execute_result"
    }
   ],
   "source": [
    "obs_spec = bandit_spec_utils.create_per_arm_observation_spec(GLOBAL_DIM, PER_ARM_DIM, num_actions) # 2,3,4\n",
    "obs_spec"
   ]
  },
  {
   "cell_type": "code",
   "execution_count": 1762,
   "id": "cb4ee969-7afb-4efc-ae86-b9810cfbdcea",
   "metadata": {},
   "outputs": [
    {
     "data": {
      "text/plain": [
       "TimeStep(\n",
       "{'discount': BoundedTensorSpec(shape=(), dtype=tf.float32, name='discount', minimum=array(0., dtype=float32), maximum=array(1., dtype=float32)),\n",
       " 'observation': {'global': TensorSpec(shape=(16,), dtype=tf.float32, name=None),\n",
       "                 'per_arm': TensorSpec(shape=(1, 16), dtype=tf.float32, name=None)},\n",
       " 'reward': TensorSpec(shape=(), dtype=tf.float32, name='reward'),\n",
       " 'step_type': TensorSpec(shape=(), dtype=tf.int32, name='step_type')})"
      ]
     },
     "execution_count": 1762,
     "metadata": {},
     "output_type": "execute_result"
    }
   ],
   "source": [
    "time_step_spec = ts.time_step_spec(obs_spec)\n",
    "time_step_spec"
   ]
  },
  {
   "cell_type": "code",
   "execution_count": 1763,
   "id": "b36c4ef8-6a9d-4e9a-8360-912c3050132f",
   "metadata": {},
   "outputs": [
    {
     "data": {
      "text/plain": [
       "BoundedTensorSpec(shape=(), dtype=tf.int32, name=None, minimum=array(0, dtype=int32), maximum=array(3, dtype=int32))"
      ]
     },
     "execution_count": 1763,
     "metadata": {},
     "output_type": "execute_result"
    }
   ],
   "source": [
    "action_spec = tensor_spec.BoundedTensorSpec((), tf.int32, 0, 3)\n",
    "action_spec"
   ]
  },
  {
   "cell_type": "code",
   "execution_count": null,
   "id": "5a50afe0-7ea5-413d-8fa7-50dc9fc5acaa",
   "metadata": {},
   "outputs": [],
   "source": [
    "# reward_network = (\n",
    "#     global_and_arm_feature_network.create_feed_forward_common_tower_network(\n",
    "#         obs_spec, (4, 3), (3, 4), (4, 2)\n",
    "#     )\n",
    "# )"
   ]
  },
  {
   "cell_type": "code",
   "execution_count": null,
   "id": "bc9bba1f-4b8a-4c31-9b1d-fe9249c6ea09",
   "metadata": {},
   "outputs": [],
   "source": [
    "    # policy = policy_class(\n",
    "    #     time_step_spec,\n",
    "    #     action_spec,\n",
    "    #     reward_network=reward_network,\n",
    "    #     accepts_per_arm_features=True,\n",
    "    #     emit_policy_info=('predicted_rewards_mean',),\n",
    "    # )\n",
    "    # just from test script"
   ]
  },
  {
   "cell_type": "code",
   "execution_count": 1770,
   "id": "bb609ecb-a2bf-472f-9096-3bcc220b4690",
   "metadata": {},
   "outputs": [
    {
     "data": {
      "text/plain": [
       "<tf.Tensor: shape=(16, 1, 16), dtype=float32, numpy=\n",
       "array([[[232., 240., 215.,  59.,  25.,  31., 182., 198., 113., 242.,\n",
       "          71.,   6.,  58., 179., 210., 185.]],\n",
       "\n",
       "       [[ 62., 190., 141.,  75., 166., 255., 125., 118.,  78., 233.,\n",
       "         183.,  68., 171., 114., 253., 228.]],\n",
       "\n",
       "       [[  7., 252., 108.,   8., 105., 246.,  94.,  35.,  55., 112.,\n",
       "         209., 207., 172.,   1.,  97.,  67.]],\n",
       "\n",
       "       [[117., 149.,  42.,  39.,  37.,  98.,  61.,  50., 160., 214.,\n",
       "         249., 167.,   4.,  85.,  95.,  45.]],\n",
       "\n",
       "       [[203., 199.,  34.,  81.,  15., 181.,   2., 205.,  49.,  21.,\n",
       "         103., 254., 236., 126.,  79.,   9.]],\n",
       "\n",
       "       [[189., 229., 129.,  44.,  84., 213.,  69.,   5., 104., 110.,\n",
       "          77., 212., 200., 100.,  17.,  41.]],\n",
       "\n",
       "       [[ 87., 146., 148., 170.,  51.,  91.,  38.,  99., 115., 186.,\n",
       "         238., 244., 122.,  18., 234., 151.]],\n",
       "\n",
       "       [[169.,  54.,  80., 237., 132.,  53., 134.,  96.,  56., 226.,\n",
       "          86., 127.,  46., 111., 131.,  16.]],\n",
       "\n",
       "       [[143., 138., 154., 227., 222., 243., 216.,  90.,  30., 193.,\n",
       "         165., 140., 120., 150.,  14., 230.]],\n",
       "\n",
       "       [[ 13., 121., 195., 231.,  88., 142., 224., 218., 204., 136.,\n",
       "          72.,  40.,  43., 155., 217.,  92.]],\n",
       "\n",
       "       [[241., 175., 247.,  93., 178., 184.,   0.,  22., 245.,  19.,\n",
       "          74.,  52.,   3.,  73.,  11., 153.]],\n",
       "\n",
       "       [[250., 162., 219.,  83., 177., 145., 248., 223., 164., 137.,\n",
       "          47.,  48., 124.,  64., 225.,  36.]],\n",
       "\n",
       "       [[197.,  20., 116., 161., 158., 220.,  27., 180.,  33., 156.,\n",
       "         107.,  60., 194., 201., 191., 109.]],\n",
       "\n",
       "       [[ 26., 133., 135., 221.,  10., 208.,  70., 196., 159., 173.,\n",
       "         139., 202., 168.,  65.,  66., 174.]],\n",
       "\n",
       "       [[ 76., 188.,  82., 123., 157., 176., 211.,  28., 152., 163.,\n",
       "         128., 106., 192.,  32., 251.,  63.]],\n",
       "\n",
       "       [[ 57.,  89., 206., 144., 239., 119., 147., 235., 102., 187.,\n",
       "          29., 130.,  12., 101.,  23.,  24.]]], dtype=float32)>"
      ]
     },
     "execution_count": 1770,
     "metadata": {},
     "output_type": "execute_result"
    }
   ],
   "source": [
    "action_feature = tf.cast(\n",
    "    tf.reshape(tf.random.shuffle(tf.range(256)), shape=[GLOBAL_DIM, num_actions, PER_ARM_DIM]), # 2, 4, 3\n",
    "    dtype=tf.float32,\n",
    ")\n",
    "action_feature #- TODO - comeback"
   ]
  },
  {
   "cell_type": "code",
   "execution_count": 1767,
   "id": "42240bab-455f-4674-8caa-2e38e3188a09",
   "metadata": {},
   "outputs": [
    {
     "data": {
      "text/plain": [
       "{'global': <tf.Tensor: shape=(2, 2), dtype=float32, numpy=\n",
       " array([[1., 2.],\n",
       "        [3., 4.]], dtype=float32)>,\n",
       " 'per_arm': <tf.Tensor: shape=(16, 1, 16), dtype=float32, numpy=\n",
       " array([[[214., 159.,  86.,  72.,  44., 218., 116., 162., 211.,  60.,\n",
       "          244.,  80., 164.,  66., 215., 188.]],\n",
       " \n",
       "        [[ 43., 243., 114.,  48.,  17., 172., 119., 141.,  38., 187.,\n",
       "          135., 204., 209., 221., 155., 205.]],\n",
       " \n",
       "        [[102., 129., 236., 223.,   8., 111.,  33., 250., 107., 248.,\n",
       "            9.,  58., 242., 125.,  77.,   2.]],\n",
       " \n",
       "        [[  7., 168.,   3., 123., 234., 117.,  84., 101.,  19., 196.,\n",
       "          230., 255.,  24., 150.,  73., 167.]],\n",
       " \n",
       "        [[132.,  30.,  16., 122., 235., 112., 178., 180., 190.,  76.,\n",
       "          171.,  87., 240., 124., 200., 251.]],\n",
       " \n",
       "        [[127.,  45., 198., 136., 254.,  46., 229.,  85., 193., 128.,\n",
       "           70., 133., 142.,  51.,   4.,  67.]],\n",
       " \n",
       "        [[ 64.,  36.,  41., 170., 241.,   1., 113.,  32., 137., 118.,\n",
       "          219.,  26., 181., 208.,  42., 201.]],\n",
       " \n",
       "        [[126., 194.,  15., 224.,  49., 220., 169., 203., 216.,  63.,\n",
       "           14.,  82.,  50.,  83., 245., 120.]],\n",
       " \n",
       "        [[212.,  96.,  39., 166., 151., 156., 189.,  23., 183., 199.,\n",
       "          226., 100.,  55., 165.,  81.,  88.]],\n",
       " \n",
       "        [[179., 104., 145., 110.,  34.,  52., 232., 146., 247., 217.,\n",
       "          139.,  79., 207., 147., 109., 143.]],\n",
       " \n",
       "        [[ 56., 210.,   5.,  62.,  54.,  18., 175.,  27., 144.,  37.,\n",
       "           98., 108., 238.,  93.,  71., 227.]],\n",
       " \n",
       "        [[ 40.,  28., 185., 213., 131., 176., 202.,  99.,  90., 239.,\n",
       "           13., 158.,  78., 148., 140.,   6.]],\n",
       " \n",
       "        [[ 68., 246., 231.,  89., 160.,  47., 206.,  21., 228.,  12.,\n",
       "           35., 134., 154.,  94., 195., 249.]],\n",
       " \n",
       "        [[ 57., 186., 225., 152.,  59., 174., 197., 173., 177., 233.,\n",
       "           74., 103.,  92., 105., 253., 192.]],\n",
       " \n",
       "        [[222., 138.,  61.,  53., 157., 115.,  22.,   0.,  31., 153.,\n",
       "          161.,  11., 182.,  97.,  91., 121.]],\n",
       " \n",
       "        [[ 69., 130., 163.,  10.,  95.,  20.,  25.,  75.,  29., 191.,\n",
       "           65., 252., 237., 184., 106., 149.]]], dtype=float32)>}"
      ]
     },
     "execution_count": 1767,
     "metadata": {},
     "output_type": "execute_result"
    }
   ],
   "source": [
    "_test_observations = {\n",
    "    bandit_spec_utils.GLOBAL_FEATURE_KEY: tf.constant(\n",
    "        [[1, 2], [3, 4]], dtype=tf.float32\n",
    "    ),\n",
    "    bandit_spec_utils.PER_ARM_FEATURE_KEY: action_feature,\n",
    "}\n",
    "\n",
    "_test_observations"
   ]
  },
  {
   "cell_type": "code",
   "execution_count": 1768,
   "id": "4f6d4e7d-c762-4c73-a704-df5682dedf7c",
   "metadata": {},
   "outputs": [
    {
     "data": {
      "text/plain": [
       "TimeStep(\n",
       "{'discount': array([1., 1.], dtype=float32),\n",
       " 'observation': array([-0.02599   , -0.03078079,  0.03106076,  0.00133444,  0.02207417,\n",
       "       -0.02917665,  0.02782809, -0.02822751, -0.04523091,  0.0495333 ,\n",
       "       -0.01482558, -0.04208376,  0.00741076, -0.04264941,  0.00693322,\n",
       "       -0.03396516], dtype=float32),\n",
       " 'reward': array([0., 0.], dtype=float32),\n",
       " 'step_type': array([0, 0], dtype=int32)})"
      ]
     },
     "execution_count": 1768,
     "metadata": {},
     "output_type": "execute_result"
    }
   ],
   "source": [
    "time_step = ts.restart(observations, batch_size=2)\n",
    "time_step"
   ]
  },
  {
   "cell_type": "code",
   "execution_count": 1806,
   "id": "a7ff41c9-0bd6-46ca-97a9-5df130d1eb0f",
   "metadata": {},
   "outputs": [],
   "source": [
    "# action_step = policy.action(time_step, seed=1)\n",
    "# action_step"
   ]
  },
  {
   "cell_type": "code",
   "execution_count": 1780,
   "id": "47a792c1-347b-461c-b11e-54223cb16b37",
   "metadata": {},
   "outputs": [
    {
     "data": {
      "text/plain": [
       "<tf.Tensor: shape=(16, 1), dtype=float32, numpy=\n",
       "array([[ 0.03700204],\n",
       "       [-0.00503105],\n",
       "       [ 0.0033116 ],\n",
       "       [-0.00502714],\n",
       "       [ 0.02094278],\n",
       "       [ 0.030205  ],\n",
       "       [-0.03883966],\n",
       "       [-0.03852518],\n",
       "       [-0.02759117],\n",
       "       [ 0.01288647],\n",
       "       [-0.02875481],\n",
       "       [-0.01569642],\n",
       "       [ 0.01138375],\n",
       "       [ 0.04505277],\n",
       "       [-0.04091054],\n",
       "       [-0.01733469]], dtype=float32)>"
      ]
     },
     "execution_count": 1780,
     "metadata": {},
     "output_type": "execute_result"
    }
   ],
   "source": [
    "for x in train_dataset.batch(1).take(16):\n",
    "    arm_features = _get_per_arm_features(x)\n",
    "    arm_features = _add_outer_dimension(arm_features)\n",
    "    \n",
    "arm_features"
   ]
  },
  {
   "cell_type": "markdown",
   "id": "8733a494-36d7-4ade-826f-88413f09ecd9",
   "metadata": {},
   "source": [
    "### Trajectory fn"
   ]
  },
  {
   "cell_type": "code",
   "execution_count": 1822,
   "id": "19734467-3a84-4ebd-abea-3374261d9313",
   "metadata": {},
   "outputs": [],
   "source": [
    "# from tf_agents.bandits.specs import utils as bandit_spec_utils\n",
    "# from tf_agents.trajectories import trajectory\n",
    "\n",
    "# # replay_buffer_signature = tensor_spec.add_outer_dim(\n",
    "# #       replay_buffer_signature\n",
    "# # )\n",
    "\n",
    "\n",
    "# def _trajectory_fn(element): # hparams\n",
    "#     \"\"\"Converts a dataset element into a trajectory.\"\"\"\n",
    "#     global_features = _get_global_context_features(element)\n",
    "#     arm_features = _get_per_arm_features(element)\n",
    "    \n",
    "#     # # tmp \n",
    "#     # print(f\"global_features: {global_features}\")\n",
    "#     # print(f\"arm_features: {arm_features}\")\n",
    "    \n",
    "#     # Adds a time dimension.\n",
    "#     # arm_features = _add_outer_dimension(arm_features)\n",
    "#     # arm_features = tensor_spec.add_outer_dim(arm_features)\n",
    "    \n",
    "#     # observations\n",
    "#     observation = {\n",
    "#         bandit_spec_utils.GLOBAL_FEATURE_KEY:\n",
    "#             global_features,\n",
    "#             # _add_outer_dimension(global_features)\n",
    "#         bandit_spec_utils.PER_ARM_FEATURE_KEY:\n",
    "#             arm_features\n",
    "#             # _add_outer_dimension(arm_features),\n",
    "#     }\n",
    "#     # print(\"after adding extra dim...\")\n",
    "#     # print(f\"observation: {observation}\")\n",
    "#     # print(f\"arm_features: {arm_features}\")\n",
    "    \n",
    "#     # reward = tensor_spec.add_outer_dim(_get_rewards(element))\n",
    "#     reward = _get_rewards(element)\n",
    "#     # print(f\"reward: {reward}\")\n",
    "    \n",
    "#     # To emit the predicted rewards in policy_info, we need to create dummy\n",
    "#     # rewards to match the definition in TensorSpec for the ones specified in\n",
    "#     # emit_policy_info set.\n",
    "#     # dummy_rewards = tf.zeros([HPARAMS['batch_size'], 1, HPARAMS['num_docs_to_rank']])\n",
    "#     # dummy_rewards = tf.zeros([HPARAMS['batch_size'], HPARAMS['num_docs_to_rank']])\n",
    "#     dummy_rewards = tf.zeros([HPARAMS['num_docs_to_rank']])\n",
    "#     policy_info = policy_utilities.PerArmPolicyInfo(\n",
    "#         chosen_arm_features=arm_features,\n",
    "#         # Pass dummy mean rewards here to match the model_spec for emitting\n",
    "#         # mean rewards in policy info\n",
    "#         predicted_rewards_mean=dummy_rewards\n",
    "#     )\n",
    "    \n",
    "# # tf_agents.policies.utils.create_chosen_arm_features_info_spec(\n",
    "# #     observation_spec: tf_agents.typing.types.NestedTensorSpec\n",
    "# # ) -> tf_agents.typing.types.NestedTensorSpec\n",
    "    \n",
    "#     if HPARAMS['model_type'] == 'neural_ucb':\n",
    "#         policy_info = policy_info._replace(\n",
    "#             predicted_rewards_optimistic=dummy_rewards\n",
    "#         )\n",
    "        \n",
    "#     # print(f\"observation: {observation}\")\n",
    "#     # print(f\"reward: {reward}\")\n",
    "#     # print(f\"policy_info: {policy_info}\")\n",
    "#     # print(f\"dummy_rewards: {dummy_rewards}\")\n",
    "    \n",
    "#     return trajectory.single_step(\n",
    "#         observation=observation,\n",
    "#         action=tf.zeros_like(\n",
    "#             reward, dtype=tf.int32\n",
    "#         ),  # Arm features are copied from policy info, put dummy zeros here\n",
    "#         policy_info=policy_info,\n",
    "#         reward=reward,\n",
    "#         discount=tf.zeros_like(reward)\n",
    "#     )\n"
   ]
  },
  {
   "cell_type": "markdown",
   "id": "0da7ce9d-82f8-4c1a-b6a5-d15ca0d6288b",
   "metadata": {},
   "source": [
    "**TODO:**\n",
    "* investigate `add_outer_dims_nest` [src](https://github.com/tensorflow/agents/blob/master/tf_agents/specs/tensor_spec.py#L472C5-L472C24)"
   ]
  },
  {
   "cell_type": "code",
   "execution_count": 1782,
   "id": "4ba729b2-b05c-4ca1-b095-18643efa70f8",
   "metadata": {
    "tags": []
   },
   "outputs": [
    {
     "data": {
      "text/plain": [
       "Trajectory(\n",
       "{'action': <tf.Tensor: shape=(1,), dtype=int32, numpy=array([0], dtype=int32)>,\n",
       " 'discount': <tf.Tensor: shape=(1,), dtype=float32, numpy=array([0.], dtype=float32)>,\n",
       " 'next_step_type': <tf.Tensor: shape=(1,), dtype=int32, numpy=array([2], dtype=int32)>,\n",
       " 'observation': {'global': <tf.Tensor: shape=(16,), dtype=float32, numpy=\n",
       "array([-0.02599   , -0.03078079,  0.03106076,  0.00133444,  0.02207417,\n",
       "       -0.02917665,  0.02782809, -0.02822751, -0.04523091,  0.0495333 ,\n",
       "       -0.01482558, -0.04208376,  0.00741076, -0.04264941,  0.00693322,\n",
       "       -0.03396516], dtype=float32)>,\n",
       "                 'per_arm': <tf.Tensor: shape=(16,), dtype=float32, numpy=\n",
       "array([-0.02780459, -0.00370889, -0.02864446, -0.02917221, -0.01603731,\n",
       "        0.02465415,  0.01583499, -0.03253644,  0.03956462,  0.04351255,\n",
       "        0.01470714,  0.04936441,  0.01360733, -0.0412104 ,  0.02928157,\n",
       "        0.01699198], dtype=float32)>},\n",
       " 'policy_info': PerArmPolicyInfo(log_probability=(), predicted_rewards_mean=<tf.Tensor: shape=(1,), dtype=float32, numpy=array([0.], dtype=float32)>, multiobjective_scalarized_predicted_rewards_mean=(), predicted_rewards_optimistic=(), predicted_rewards_sampled=(), bandit_policy_type=(), chosen_arm_features=<tf.Tensor: shape=(16,), dtype=float32, numpy=\n",
       "array([-0.02780459, -0.00370889, -0.02864446, -0.02917221, -0.01603731,\n",
       "        0.02465415,  0.01583499, -0.03253644,  0.03956462,  0.04351255,\n",
       "        0.01470714,  0.04936441,  0.01360733, -0.0412104 ,  0.02928157,\n",
       "        0.01699198], dtype=float32)>),\n",
       " 'reward': <tf.Tensor: shape=(1,), dtype=float32, numpy=array([4.], dtype=float32)>,\n",
       " 'step_type': <tf.Tensor: shape=(1,), dtype=int32, numpy=array([0], dtype=int32)>})"
      ]
     },
     "execution_count": 1782,
     "metadata": {},
     "output_type": "execute_result"
    }
   ],
   "source": [
    "# for x in train_dataset.batch(1).take(1):\n",
    "#     single_traj = _trajectory_fn(x)\n",
    "\n",
    "# single_traj"
   ]
  },
  {
   "cell_type": "markdown",
   "id": "6771b0e4-3178-491c-8e7a-3a977a14eed7",
   "metadata": {
    "tags": []
   },
   "source": [
    "### Observation Spec\n",
    "\n",
    "* see [src](https://github.com/tensorflow/agents/blob/master/tf_agents/specs/bandit_spec_utils.py#L39)"
   ]
  },
  {
   "cell_type": "code",
   "execution_count": 1783,
   "id": "1735f71e-914a-4b3d-9466-e871299eccf5",
   "metadata": {},
   "outputs": [
    {
     "name": "stdout",
     "output_type": "stream",
     "text": [
      "16\n",
      "16\n"
     ]
    }
   ],
   "source": [
    "GLOBAL_DIM = global_context_sampling_fn()\n",
    "GLOBAL_DIM = GLOBAL_DIM.shape[0]\n",
    "print(GLOBAL_DIM)\n",
    "\n",
    "PER_ARM_DIM = per_arm_context_sampling_fn()\n",
    "PER_ARM_DIM = PER_ARM_DIM.shape[0]\n",
    "print(PER_ARM_DIM)"
   ]
  },
  {
   "cell_type": "code",
   "execution_count": 1718,
   "id": "15f1cea7-632e-4c44-a4eb-069b5a70733c",
   "metadata": {},
   "outputs": [],
   "source": [
    "# global_spec = tensor_spec.TensorSpec([GLOBAL_DIM], tf.float32)\n",
    "# per_arm_spec = tensor_spec.TensorSpec([None, PER_ARM_DIM], tf.float32)\n",
    "# observation_spec = {'global': global_spec, 'per_arm': per_arm_spec}\n",
    "# observation_spec"
   ]
  },
  {
   "cell_type": "markdown",
   "id": "7a4c7902-5eb7-4f0a-af36-c61b3f45b4b2",
   "metadata": {},
   "source": [
    "This observation spec allows the user to have a global observation of fixed dimension (as usual), and an unspecified number of per-arm features (also of fixed dimension). \n",
    "* Then, the actions output by the policy are still integers as usual, and they indicate which row of the arm-features it has chosen. \n",
    "* So the action spec has to be the following (describing a single integer value without boundaries):"
   ]
  },
  {
   "cell_type": "code",
   "execution_count": null,
   "id": "9d40ee24-0ffd-440b-a214-5f68c1f899af",
   "metadata": {},
   "outputs": [],
   "source": [
    "# action_spec = tensor_spec.TensorSpec((), tf.int32)\n",
    "# action_spec"
   ]
  },
  {
   "cell_type": "markdown",
   "id": "cd230c27-5528-476f-8f17-c047e9fc36ba",
   "metadata": {},
   "source": [
    "**XLA compatibility:**\n",
    "* Since dynamic tensor shapes are not compatible with XLA, the number of arm features (and consequently, number of arms for a step) cannot be dynamic. \n",
    "* One workaround is to fix the maximum number of arms for a problem, then pad the arm features in steps with fewer arms, and use action masking to indicate how many arms are actually active. \n",
    "\n",
    "In this case, the specs change as follows:"
   ]
  },
  {
   "cell_type": "code",
   "execution_count": 1925,
   "id": "3e5abf7d-559d-43ee-a631-c78e7bca1e62",
   "metadata": {},
   "outputs": [
    {
     "name": "stdout",
     "output_type": "stream",
     "text": [
      "1\n"
     ]
    }
   ],
   "source": [
    "num_actions = HPARAMS['num_docs_to_rank']\n",
    "# num_actions=tf.convert_to_tensor(num_actions, dtype=tf.int32)\n",
    "print(num_actions)"
   ]
  },
  {
   "cell_type": "code",
   "execution_count": null,
   "id": "d20348f5-9e1e-47af-a87a-115f28bd1abf",
   "metadata": {},
   "outputs": [],
   "source": [
    "# global_spec = tensor_spec.TensorSpec(shape=[GLOBAL_DIM], dtype=tf.float32)\n",
    "# per_arm_spec = tensor_spec.TensorSpec(shape=[num_actions, PER_ARM_DIM], dtype=tf.float32)\n",
    "\n",
    "# add outer nested dim\n",
    "# global_spec = tensor_spec.add_outer_dims_nest(      # add_outer_dim\n",
    "#     specs=global_spec,\n",
    "#     outer_dims=[HPARAMS['batch_size']]\n",
    "# )\n",
    "# per_arm_spec = tensor_spec.add_outer_dims_nest( # add_outer_dim\n",
    "#     specs=per_arm_spec,\n",
    "#     outer_dims=[HPARAMS['batch_size']]\n",
    "# )\n",
    "\n",
    "# observation_spec = {'global': global_spec, 'per_arm': per_arm_spec}"
   ]
  },
  {
   "cell_type": "code",
   "execution_count": 1953,
   "id": "ced640fe-ad9e-4932-8641-7c83a22d0013",
   "metadata": {},
   "outputs": [
    {
     "data": {
      "text/plain": [
       "{'global': TensorSpec(shape=(16,), dtype=tf.float32, name=None),\n",
       " 'per_arm': TensorSpec(shape=(1, 16), dtype=tf.float32, name=None)}"
      ]
     },
     "execution_count": 1953,
     "metadata": {},
     "output_type": "execute_result"
    }
   ],
   "source": [
    "observation_spec = bandit_spec_utils.create_per_arm_observation_spec(\n",
    "    GLOBAL_DIM, PER_ARM_DIM, num_actions, add_num_actions_feature=False\n",
    ") # 2,3,4\n",
    "\n",
    "observation_spec"
   ]
  },
  {
   "cell_type": "code",
   "execution_count": 1721,
   "id": "29f9d300-9914-4712-bbeb-e5a833306799",
   "metadata": {},
   "outputs": [
    {
     "data": {
      "text/plain": [
       "TensorSpec(shape=(16,), dtype=tf.float32, name=None)"
      ]
     },
     "execution_count": 1721,
     "metadata": {},
     "output_type": "execute_result"
    }
   ],
   "source": [
    "# import tf_agents\n",
    "\n",
    "# test_chosen_arm_feats = tf_agents.policies.utils.create_chosen_arm_features_info_spec(observation_spec=observation_spec)\n",
    "# test_chosen_arm_feats"
   ]
  },
  {
   "cell_type": "markdown",
   "id": "ee9c7b66-05e8-486c-9e14-f2b1feb6206a",
   "metadata": {},
   "source": [
    "### Action Spec\n",
    "\n",
    "> The time_step_spec and action_spec are specifications for the input time step and the output action\n",
    "\n",
    "```\n",
    "    if (\n",
    "        not tensor_spec.is_bounded(action_spec)\n",
    "        or not tensor_spec.is_discrete(action_spec)\n",
    "        or action_spec.shape.rank > 1\n",
    "        or action_spec.shape.num_elements() != 1\n",
    "    ):\n",
    "      raise NotImplementedError(\n",
    "          'action_spec must be a BoundedTensorSpec of type int32 and shape (). '\n",
    "          'Found {}.'.format(action_spec)\n",
    "      )\n",
    "```\n",
    "\n",
    "* [src](https://github.com/tensorflow/agents/blob/master/tf_agents/bandits/policies/reward_prediction_base_policy.py#L97)"
   ]
  },
  {
   "cell_type": "code",
   "execution_count": 1951,
   "id": "bf5e68ee-15b7-4f32-8961-b57d72f91233",
   "metadata": {},
   "outputs": [
    {
     "data": {
      "text/plain": [
       "BoundedTensorSpec(shape=(), dtype=tf.int32, name=None, minimum=array(0, dtype=int32), maximum=array(3, dtype=int32))"
      ]
     },
     "execution_count": 1951,
     "metadata": {},
     "output_type": "execute_result"
    }
   ],
   "source": [
    "action_spec_test = tensor_spec.BoundedTensorSpec((), tf.int32, 0, 3)\n",
    "action_spec_test"
   ]
  },
  {
   "cell_type": "code",
   "execution_count": 1969,
   "id": "2fc70e1b-3a25-4f87-bacc-4a43e5dd7ee5",
   "metadata": {},
   "outputs": [
    {
     "data": {
      "text/plain": [
       "BoundedTensorSpec(shape=(), dtype=tf.int32, name='action_spec', minimum=array(0, dtype=int32), maximum=array(0, dtype=int32))"
      ]
     },
     "execution_count": 1969,
     "metadata": {},
     "output_type": "execute_result"
    }
   ],
   "source": [
    "action_spec = tensor_spec.BoundedTensorSpec(\n",
    "    shape=(), \n",
    "    dtype=tf.int32,\n",
    "    minimum=tf.constant(0),                # 0  | Variable()\n",
    "    maximum=num_actions-tf.constant(1),    # -1 | Variable()\n",
    "    name=\"action_spec\"\n",
    ")\n",
    "action_spec"
   ]
  },
  {
   "cell_type": "code",
   "execution_count": 1928,
   "id": "f3591673-1c7f-4fd0-ae58-b4c1fffe328e",
   "metadata": {},
   "outputs": [
    {
     "name": "stdout",
     "output_type": "stream",
     "text": [
      "len(flat_action_spec): 1\n",
      "flat_action_spec     : [BoundedTensorSpec(shape=(), dtype=tf.int32, name='action_spec', minimum=array(0, dtype=int32), maximum=array(0, dtype=int32))]\n"
     ]
    },
    {
     "data": {
      "text/plain": [
       "BoundedTensorSpec(shape=(), dtype=tf.int32, name='action_spec', minimum=array(0, dtype=int32), maximum=array(0, dtype=int32))"
      ]
     },
     "execution_count": 1928,
     "metadata": {},
     "output_type": "execute_result"
    }
   ],
   "source": [
    "# len() should not be > 1\n",
    "flat_action_spec = tf.nest.flatten(action_spec)\n",
    "print(f\"len(flat_action_spec): {len(flat_action_spec)}\")\n",
    "print(f\"flat_action_spec     : {flat_action_spec}\")\n",
    "\n",
    "action_spec = flat_action_spec[0]\n",
    "action_spec"
   ]
  },
  {
   "cell_type": "code",
   "execution_count": 1929,
   "id": "a991904e-332e-48f5-b0cc-9b5f7704b475",
   "metadata": {},
   "outputs": [
    {
     "name": "stdout",
     "output_type": "stream",
     "text": [
      "expected_num_actions: 1\n",
      "predicted_rewards_mean: TensorSpec(shape=(1,), dtype=tf.float32, name=None)\n"
     ]
    }
   ],
   "source": [
    "expected_num_actions = action_spec.maximum - action_spec.minimum + 1\n",
    "print(f\"expected_num_actions: {expected_num_actions}\")\n",
    "\n",
    "predicted_rewards_mean = tensor_spec.TensorSpec([expected_num_actions])\n",
    "print(f\"predicted_rewards_mean: {predicted_rewards_mean}\")"
   ]
  },
  {
   "cell_type": "code",
   "execution_count": null,
   "id": "8826bd77-4ec0-4d66-a2fe-57ba961c262d",
   "metadata": {},
   "outputs": [],
   "source": [
    "# bandit_policy_type = (\n",
    "#   policy_utilities.create_bandit_policy_type_tensor_spec(shape=[1])\n",
    "# )"
   ]
  },
  {
   "cell_type": "code",
   "execution_count": 1726,
   "id": "3c36eba0-8474-4ecf-a51e-a369a64353e1",
   "metadata": {},
   "outputs": [],
   "source": [
    "# observation_spec.update({bandit_spec_utils.NUM_ACTIONS_FEATURE_KEY: action_spec})\n",
    "# observation_spec\n",
    "\n",
    "# TODO - JT check "
   ]
  },
  {
   "cell_type": "markdown",
   "id": "d6bcedd3-909d-4be4-9c4d-aa02ceea4d93",
   "metadata": {},
   "source": [
    "### Time step spec"
   ]
  },
  {
   "cell_type": "code",
   "execution_count": 1952,
   "id": "96002050-a6be-4ace-ba0f-12726b24d164",
   "metadata": {},
   "outputs": [
    {
     "data": {
      "text/plain": [
       "TimeStep(\n",
       "{'discount': BoundedTensorSpec(shape=(), dtype=tf.float32, name='discount', minimum=array(0., dtype=float32), maximum=array(1., dtype=float32)),\n",
       " 'observation': {'global': TensorSpec(shape=(2,), dtype=tf.float32, name=None),\n",
       "                 'per_arm': TensorSpec(shape=(4, 3), dtype=tf.float32, name=None)},\n",
       " 'reward': TensorSpec(shape=(), dtype=tf.float32, name='reward'),\n",
       " 'step_type': TensorSpec(shape=(), dtype=tf.int32, name='step_type')})"
      ]
     },
     "execution_count": 1952,
     "metadata": {},
     "output_type": "execute_result"
    }
   ],
   "source": [
    "time_step_spec_test = ts.time_step_spec(obs_spec)\n",
    "time_step_spec_test"
   ]
  },
  {
   "cell_type": "code",
   "execution_count": 1950,
   "id": "83ce9aa0-9f5c-4968-b8f5-7128e79375e9",
   "metadata": {},
   "outputs": [
    {
     "data": {
      "text/plain": [
       "TimeStep(\n",
       "{'discount': array([1., 1.], dtype=float32),\n",
       " 'observation': array([-0.02599   , -0.03078079,  0.03106076,  0.00133444,  0.02207417,\n",
       "       -0.02917665,  0.02782809, -0.02822751, -0.04523091,  0.0495333 ,\n",
       "       -0.01482558, -0.04208376,  0.00741076, -0.04264941,  0.00693322,\n",
       "       -0.03396516], dtype=float32),\n",
       " 'reward': array([0., 0.], dtype=float32),\n",
       " 'step_type': array([0, 0], dtype=int32)})"
      ]
     },
     "execution_count": 1950,
     "metadata": {},
     "output_type": "execute_result"
    }
   ],
   "source": [
    "# time_step = ts.restart(observations, batch_size=2)\n",
    "\n",
    "# >>>\n",
    "\n",
    "# TimeStep(\n",
    "# {'discount': array([1., 1.], dtype=float32),\n",
    "#  'observation': array([-0.02599   , -0.03078079,  0.03106076,  0.00133444,  0.02207417,\n",
    "#        -0.02917665,  0.02782809, -0.02822751, -0.04523091,  0.0495333 ,\n",
    "#        -0.01482558, -0.04208376,  0.00741076, -0.04264941,  0.00693322,\n",
    "#        -0.03396516], dtype=float32),\n",
    "#  'reward': array([0., 0.], dtype=float32),\n",
    "#  'step_type': array([0, 0], dtype=int32)})"
   ]
  },
  {
   "cell_type": "code",
   "execution_count": 1956,
   "id": "c0b6f534-2e12-418b-951d-e83af3098ddd",
   "metadata": {},
   "outputs": [
    {
     "data": {
      "text/plain": [
       "TimeStep(\n",
       "{'discount': BoundedTensorSpec(shape=(), dtype=tf.float32, name='discount', minimum=array(0., dtype=float32), maximum=array(1., dtype=float32)),\n",
       " 'observation': {'global': TensorSpec(shape=(16,), dtype=tf.float32, name=None),\n",
       "                 'per_arm': TensorSpec(shape=(1, 16), dtype=tf.float32, name=None)},\n",
       " 'reward': TensorSpec(shape=(), dtype=tf.float32, name='reward'),\n",
       " 'step_type': TensorSpec(shape=(), dtype=tf.int32, name='step_type')})"
      ]
     },
     "execution_count": 1956,
     "metadata": {},
     "output_type": "execute_result"
    }
   ],
   "source": [
    "time_step_spec = ts.time_step_spec(\n",
    "    observation_spec = observation_spec, \n",
    "    # reward_spec = _reward_spec\n",
    ")\n",
    "time_step_spec"
   ]
  },
  {
   "cell_type": "markdown",
   "id": "81f4b432-4935-40e5-abaa-028f8ebb7377",
   "metadata": {},
   "source": [
    "## chosen arm features"
   ]
  },
  {
   "cell_type": "code",
   "execution_count": 1957,
   "id": "ba3691eb-880b-4638-b1c1-d4697f60c82a",
   "metadata": {},
   "outputs": [
    {
     "data": {
      "text/plain": [
       "TensorSpec(shape=(16,), dtype=tf.float32, name=None)"
      ]
     },
     "execution_count": 1957,
     "metadata": {},
     "output_type": "execute_result"
    }
   ],
   "source": [
    "chosen_arm_features_info = (\n",
    "  policy_utilities.create_chosen_arm_features_info_spec(\n",
    "      time_step_spec.observation,\n",
    "  )\n",
    ")\n",
    "chosen_arm_features_info"
   ]
  },
  {
   "cell_type": "code",
   "execution_count": 1966,
   "id": "f4eaee34-6948-457f-90b1-abfdd2aff49e",
   "metadata": {},
   "outputs": [
    {
     "data": {
      "text/plain": [
       "{'global': TensorSpec(shape=(16,), dtype=tf.float32, name=None),\n",
       " 'per_arm': TensorSpec(shape=(1, 16), dtype=tf.float32, name=None)}"
      ]
     },
     "execution_count": 1966,
     "metadata": {},
     "output_type": "execute_result"
    }
   ],
   "source": [
    "time_step_spec.observation"
   ]
  },
  {
   "cell_type": "markdown",
   "id": "ce5be46e-0760-4c3a-b406-db4d0c968d6d",
   "metadata": {},
   "source": [
    "```\n",
    "class BanditPolicyType(object):\n",
    "  \"\"\"Enumeration of bandit policy types.\"\"\"\n",
    "\n",
    "  # No bandit policy type specified.\n",
    "  UNKNOWN = 0\n",
    "  # Greedy decision made by bandit agent.\n",
    "  GREEDY = 1\n",
    "  # Random decision for exploration made by epsilon-greedy agent sampled from\n",
    "  # uniform distribution over actions.\n",
    "  UNIFORM = 2\n",
    "  # Decision made by Boltzmann exploration.\n",
    "  BOLTZMANN = 3\n",
    "  # Decision made by FALCON.\n",
    "  FALCON = 4\n",
    "```"
   ]
  },
  {
   "cell_type": "code",
   "execution_count": 1958,
   "id": "477471ec-de96-41b0-be71-a926dffae066",
   "metadata": {},
   "outputs": [
    {
     "data": {
      "text/plain": [
       "BoundedTensorSpec(shape=(1,), dtype=tf.int32, name=None, minimum=array(0, dtype=int32), maximum=array(4, dtype=int32))"
      ]
     },
     "execution_count": 1958,
     "metadata": {},
     "output_type": "execute_result"
    }
   ],
   "source": [
    "bandit_policy_type = (\n",
    "    policy_utilities.create_bandit_policy_type_tensor_spec(shape=[1])\n",
    ")\n",
    "bandit_policy_type"
   ]
  },
  {
   "cell_type": "code",
   "execution_count": 1959,
   "id": "cb544fc5-615b-4f54-a4c0-603616679c1d",
   "metadata": {},
   "outputs": [
    {
     "data": {
      "text/plain": [
       "PerArmPolicyInfo(log_probability=(), predicted_rewards_mean=TensorSpec(shape=(1,), dtype=tf.float32, name=None), multiobjective_scalarized_predicted_rewards_mean=(), predicted_rewards_optimistic=(), predicted_rewards_sampled=(), bandit_policy_type=BoundedTensorSpec(shape=(1,), dtype=tf.int32, name=None, minimum=array(0, dtype=int32), maximum=array(4, dtype=int32)), chosen_arm_features=TensorSpec(shape=(16,), dtype=tf.float32, name=None))"
      ]
     },
     "execution_count": 1959,
     "metadata": {},
     "output_type": "execute_result"
    }
   ],
   "source": [
    "info_spec = policy_utilities.PerArmPolicyInfo(\n",
    "  predicted_rewards_mean=predicted_rewards_mean,\n",
    "  bandit_policy_type=bandit_policy_type,\n",
    "  chosen_arm_features=chosen_arm_features_info,\n",
    ")\n",
    "info_spec"
   ]
  },
  {
   "cell_type": "markdown",
   "id": "ef88b7ca-2cf6-4962-a47f-97ad6be652e2",
   "metadata": {},
   "source": [
    "## define Agent & network"
   ]
  },
  {
   "cell_type": "code",
   "execution_count": 1960,
   "id": "eb95db2f-39f9-4caf-a7b5-360618a6ac7a",
   "metadata": {},
   "outputs": [
    {
     "name": "stdout",
     "output_type": "stream",
     "text": [
      "Agent: OffpolicyNeuralEpsGreedyAgent\n",
      "\n",
      "Network: global_and_arm_common_tower_network_70\n"
     ]
    }
   ],
   "source": [
    "from tf_agents.bandits.agents import greedy_reward_prediction_agent\n",
    "\n",
    "network = None\n",
    "observation_and_action_constraint_splitter = None\n",
    "\n",
    "# global_step = tf.Variable(0)\n",
    "global_step = tf.compat.v1.train.get_or_create_global_step()\n",
    "\n",
    "if HPARAMS['network_type'] == 'commontower':\n",
    "    network = global_and_arm_feature_network.create_feed_forward_common_tower_network(\n",
    "        observation_spec = observation_spec, \n",
    "        global_layers = HPARAMS['global_layers'], \n",
    "        arm_layers = HPARAMS['per_arm_layers'], \n",
    "        common_layers = HPARAMS['common_layers'],\n",
    "        output_dim = 1\n",
    "    )\n",
    "elif HPARAMS['network_type'] == 'dotproduct':\n",
    "    network = global_and_arm_feature_network.create_feed_forward_dot_product_network(\n",
    "        observation_spec = observation_spec, \n",
    "        global_layers = HPARAMS['global_layers'], \n",
    "        arm_layers = HPARAMS['per_arm_layers']\n",
    "    )\n",
    "    \n",
    "# agent = greedy_reward_prediction_agent.GreedyRewardPredictionAgent()\n",
    "    \n",
    "agent = neural_epsilon_greedy_agent.NeuralEpsilonGreedyAgent(\n",
    "    time_step_spec=time_step_spec,\n",
    "    action_spec=action_spec,\n",
    "    reward_network=network,\n",
    "    optimizer=tf.compat.v1.train.AdamOptimizer(learning_rate=HPARAMS['learning_rate']),\n",
    "    epsilon=HPARAMS['epsilon'],\n",
    "    observation_and_action_constraint_splitter=(\n",
    "        observation_and_action_constraint_splitter\n",
    "    ),\n",
    "    accepts_per_arm_features=True,\n",
    "    emit_policy_info=(policy_utilities.InfoFields.PREDICTED_REWARDS_MEAN),\n",
    "    train_step_counter=global_step,\n",
    "    # info_fields_to_inherit_from_greedy=[\n",
    "    #     policy_utilities.InfoFields.PREDICTED_REWARDS_MEAN\n",
    "    # ],\n",
    "    name='OffpolicyNeuralEpsGreedyAgent'\n",
    ")\n",
    "agent.initialize()\n",
    "\n",
    "print(f\"Agent: {agent.name}\\n\")\n",
    "if network:\n",
    "    print(f\"Network: {network.name}\")"
   ]
  },
  {
   "cell_type": "code",
   "execution_count": 1961,
   "id": "e72f7c41-c462-441b-933b-0c276ad67225",
   "metadata": {},
   "outputs": [
    {
     "name": "stdout",
     "output_type": "stream",
     "text": [
      "TimeStep Spec (for each batch):\n",
      " TimeStep(\n",
      "{'discount': BoundedTensorSpec(shape=(), dtype=tf.float32, name='discount', minimum=array(0., dtype=float32), maximum=array(1., dtype=float32)),\n",
      " 'observation': DictWrapper({'global': TensorSpec(shape=(16,), dtype=tf.float32, name=None), 'per_arm': TensorSpec(shape=(1, 16), dtype=tf.float32, name=None)}),\n",
      " 'reward': TensorSpec(shape=(), dtype=tf.float32, name='reward'),\n",
      " 'step_type': TensorSpec(shape=(), dtype=tf.int32, name='step_type')}) \n",
      "\n"
     ]
    }
   ],
   "source": [
    "print(\"TimeStep Spec (for each batch):\\n\", agent.time_step_spec, \"\\n\")"
   ]
  },
  {
   "cell_type": "code",
   "execution_count": 1962,
   "id": "71aa359d-28c5-40af-a8d0-2d140a2da3a1",
   "metadata": {},
   "outputs": [
    {
     "name": "stdout",
     "output_type": "stream",
     "text": [
      "Action Spec (for each batch):\n",
      " BoundedTensorSpec(shape=(), dtype=tf.int32, name='action_spec', minimum=array(0, dtype=int32), maximum=array(0, dtype=int32)) \n",
      "\n"
     ]
    }
   ],
   "source": [
    "print(\"Action Spec (for each batch):\\n\", agent.action_spec, \"\\n\")"
   ]
  },
  {
   "cell_type": "code",
   "execution_count": 1963,
   "id": "65ba7b4a-9544-46e0-b3a5-89ba145917e3",
   "metadata": {},
   "outputs": [
    {
     "name": "stdout",
     "output_type": "stream",
     "text": [
      "_TupleWrapper(Trajectory(\n",
      "{'action': BoundedTensorSpec(shape=(), dtype=tf.int32, name='action_spec', minimum=array(0, dtype=int32), maximum=array(0, dtype=int32)),\n",
      " 'discount': BoundedTensorSpec(shape=(), dtype=tf.float32, name='discount', minimum=array(0., dtype=float32), maximum=array(1., dtype=float32)),\n",
      " 'next_step_type': TensorSpec(shape=(), dtype=tf.int32, name='step_type'),\n",
      " 'observation': DictWrapper({'global': TensorSpec(shape=(16,), dtype=tf.float32, name=None), 'per_arm': TensorSpec(shape=(1, 16), dtype=tf.float32, name=None)}),\n",
      " 'policy_info': PerArmPolicyInfo(log_probability=(), predicted_rewards_mean=TensorSpec(shape=(1,), dtype=tf.float32, name=None), multiobjective_scalarized_predicted_rewards_mean=(), predicted_rewards_optimistic=(), predicted_rewards_sampled=(), bandit_policy_type=(), chosen_arm_features=TensorSpec(shape=(16,), dtype=tf.float32, name=None)),\n",
      " 'reward': TensorSpec(shape=(), dtype=tf.float32, name='reward'),\n",
      " 'step_type': TensorSpec(shape=(), dtype=tf.int32, name='step_type')}))\n"
     ]
    }
   ],
   "source": [
    "pprint(agent.policy.trajectory_spec) # TODO check observation between this and next cell"
   ]
  },
  {
   "cell_type": "code",
   "execution_count": 1964,
   "id": "a5ce9aab-8ce8-40d2-9c4c-22293b09655c",
   "metadata": {},
   "outputs": [
    {
     "name": "stdout",
     "output_type": "stream",
     "text": [
      "training data spec:  Trajectory(\n",
      "{'action': BoundedTensorSpec(shape=(), dtype=tf.int32, name='action_spec', minimum=array(0, dtype=int32), maximum=array(0, dtype=int32)),\n",
      " 'discount': BoundedTensorSpec(shape=(), dtype=tf.float32, name='discount', minimum=array(0., dtype=float32), maximum=array(1., dtype=float32)),\n",
      " 'next_step_type': TensorSpec(shape=(), dtype=tf.int32, name='step_type'),\n",
      " 'observation': DictWrapper({'global': TensorSpec(shape=(16,), dtype=tf.float32, name=None)}),\n",
      " 'policy_info': PerArmPolicyInfo(log_probability=(), predicted_rewards_mean=TensorSpec(shape=(1,), dtype=tf.float32, name=None), multiobjective_scalarized_predicted_rewards_mean=(), predicted_rewards_optimistic=(), predicted_rewards_sampled=(), bandit_policy_type=(), chosen_arm_features=TensorSpec(shape=(16,), dtype=tf.float32, name=None)),\n",
      " 'reward': TensorSpec(shape=(), dtype=tf.float32, name='reward'),\n",
      " 'step_type': TensorSpec(shape=(), dtype=tf.int32, name='step_type')})\n"
     ]
    }
   ],
   "source": [
    "print('training data spec: ', agent.training_data_spec)"
   ]
  },
  {
   "cell_type": "code",
   "execution_count": 1965,
   "id": "ac017837-8837-4f10-b158-91ab1f7e7849",
   "metadata": {},
   "outputs": [
    {
     "name": "stdout",
     "output_type": "stream",
     "text": [
      "observation spec in training:  {'global': TensorSpec(shape=(16,), dtype=tf.float32, name=None)}\n"
     ]
    }
   ],
   "source": [
    "print('observation spec in training: ', agent.training_data_spec.observation)"
   ]
  },
  {
   "cell_type": "code",
   "execution_count": 1940,
   "id": "fbbbd916-149f-4aa6-bc30-4582a684179a",
   "metadata": {},
   "outputs": [
    {
     "name": "stdout",
     "output_type": "stream",
     "text": [
      "chosen arm features:  TensorSpec(shape=(16,), dtype=tf.float32, name=None)\n"
     ]
    }
   ],
   "source": [
    "print('chosen arm features: ', agent.training_data_spec.policy_info.chosen_arm_features)"
   ]
  },
  {
   "cell_type": "markdown",
   "id": "66054a77-6abf-4809-ab37-80c7d94675ce",
   "metadata": {},
   "source": [
    "### Trajectory fn"
   ]
  },
  {
   "cell_type": "code",
   "execution_count": 1944,
   "id": "080b03f9-5679-436e-a672-229d4b773805",
   "metadata": {},
   "outputs": [],
   "source": [
    "from tf_agents.bandits.specs import utils as bandit_spec_utils\n",
    "from tf_agents.trajectories import trajectory\n",
    "\n",
    "# replay_buffer_signature = tensor_spec.add_outer_dim(\n",
    "#       replay_buffer_signature\n",
    "# )\n",
    "\n",
    "\n",
    "def _trajectory_fn(element): # hparams\n",
    "    \"\"\"\n",
    "    Converts a dataset element into a trajectory.\n",
    "    \"\"\"\n",
    "    # specs\n",
    "    obs_spec = bandit_spec_utils.create_per_arm_observation_spec(\n",
    "        GLOBAL_DIM, PER_ARM_DIM, num_actions, add_num_actions_feature=False\n",
    "    )\n",
    "    time_step_spec = ts.time_step_spec(obs_spec)\n",
    "    action_spec = tensor_spec.BoundedTensorSpec((), tf.int32, 0, num_actions-tf.constant(1))\n",
    "\n",
    "    # process features from train example\n",
    "    global_features = _get_global_context_features(element)\n",
    "    arm_features = _get_per_arm_features(element)\n",
    "    \n",
    "    # # tmp \n",
    "    # print(f\"global_features: {global_features}\")\n",
    "    # print(f\"arm_features: {arm_features}\")\n",
    "    \n",
    "    # Adds a time dimension.\n",
    "    # arm_features = _add_outer_dimension(arm_features)\n",
    "    # arm_features = tensor_spec.add_outer_dim(arm_features)\n",
    "    \n",
    "    # observations\n",
    "    observation = {\n",
    "        bandit_spec_utils.GLOBAL_FEATURE_KEY:\n",
    "            global_features,\n",
    "            # _add_outer_dimension(global_features)\n",
    "        # bandit_spec_utils.PER_ARM_FEATURE_KEY:\n",
    "        #     arm_features\n",
    "            # _add_outer_dimension(arm_features),\n",
    "    }\n",
    "    # print(\"after adding extra dim...\")\n",
    "    # print(f\"observation: {observation}\")\n",
    "    # print(f\"arm_features: {arm_features}\")\n",
    "    \n",
    "    # ts spec\n",
    "    chosen_arm_features_info = (\n",
    "      policy_utilities.create_chosen_arm_features_info_spec(\n",
    "          time_step_spec.observation,\n",
    "      )\n",
    "    )\n",
    "    \n",
    "    # reward = tensor_spec.add_outer_dim(_get_rewards(element))\n",
    "    reward = _get_rewards(element)\n",
    "    # print(f\"reward: {reward}\")\n",
    "    \n",
    "    # To emit the predicted rewards in policy_info, we need to create dummy\n",
    "    # rewards to match the definition in TensorSpec for the ones specified in\n",
    "    # emit_policy_info set.\n",
    "    dummy_rewards = tf.zeros([HPARAMS['batch_size'], 1, HPARAMS['num_docs_to_rank']])\n",
    "    # dummy_rewards = tf.zeros([HPARAMS['batch_size'], HPARAMS['num_docs_to_rank']])\n",
    "    # dummy_rewards = tf.zeros([HPARAMS['num_docs_to_rank']])\n",
    "    policy_info = policy_utilities.PerArmPolicyInfo(\n",
    "        chosen_arm_features=arm_features,\n",
    "        # Pass dummy mean rewards here to match the model_spec for emitting\n",
    "        # mean rewards in policy info\n",
    "        predicted_rewards_mean=dummy_rewards\n",
    "    )\n",
    "    \n",
    "# tf_agents.policies.utils.create_chosen_arm_features_info_spec(\n",
    "#     observation_spec: tf_agents.typing.types.NestedTensorSpec\n",
    "# ) -> tf_agents.typing.types.NestedTensorSpec\n",
    "    \n",
    "    if HPARAMS['model_type'] == 'neural_ucb':\n",
    "        policy_info = policy_info._replace(\n",
    "            predicted_rewards_optimistic=dummy_rewards\n",
    "        )\n",
    "        \n",
    "    # print(f\"observation: {observation}\")\n",
    "    # print(f\"reward: {reward}\")\n",
    "    # print(f\"policy_info: {policy_info}\")\n",
    "    # print(f\"dummy_rewards: {dummy_rewards}\")\n",
    "    \n",
    "    return trajectory.single_step(\n",
    "        observation=observation,\n",
    "        action=tf.zeros_like(\n",
    "            reward, dtype=tf.int32\n",
    "        ),  # Arm features are copied from policy info, put dummy zeros here\n",
    "        policy_info=policy_info,\n",
    "        reward=reward,\n",
    "        discount=tf.zeros_like(reward)\n",
    "    )"
   ]
  },
  {
   "cell_type": "code",
   "execution_count": null,
   "id": "e563b2ea-c44b-497b-bac4-e06d6bdaadad",
   "metadata": {},
   "outputs": [],
   "source": [
    "# for x in train_dataset.batch(2).take(1):\n",
    "#     single_traj = _trajectory_fn(x)\n",
    "    \n",
    "# single_traj"
   ]
  },
  {
   "cell_type": "code",
   "execution_count": 1970,
   "id": "7d931eef-f448-42d6-87ce-f24799cacdb5",
   "metadata": {},
   "outputs": [
    {
     "data": {
      "text/plain": [
       "_TupleWrapper(Trajectory(\n",
       "{'action': BoundedTensorSpec(shape=(), dtype=tf.int32, name='action_spec', minimum=array(0, dtype=int32), maximum=array(0, dtype=int32)),\n",
       " 'discount': BoundedTensorSpec(shape=(), dtype=tf.float32, name='discount', minimum=array(0., dtype=float32), maximum=array(1., dtype=float32)),\n",
       " 'next_step_type': TensorSpec(shape=(), dtype=tf.int32, name='step_type'),\n",
       " 'observation': DictWrapper({'global': TensorSpec(shape=(16,), dtype=tf.float32, name=None), 'per_arm': TensorSpec(shape=(1, 16), dtype=tf.float32, name=None)}),\n",
       " 'policy_info': PerArmPolicyInfo(log_probability=(), predicted_rewards_mean=TensorSpec(shape=(1,), dtype=tf.float32, name=None), multiobjective_scalarized_predicted_rewards_mean=(), predicted_rewards_optimistic=(), predicted_rewards_sampled=(), bandit_policy_type=(), chosen_arm_features=TensorSpec(shape=(16,), dtype=tf.float32, name=None)),\n",
       " 'reward': TensorSpec(shape=(), dtype=tf.float32, name='reward'),\n",
       " 'step_type': TensorSpec(shape=(), dtype=tf.int32, name='step_type')}))"
      ]
     },
     "execution_count": 1970,
     "metadata": {},
     "output_type": "execute_result"
    }
   ],
   "source": [
    "agent.policy.trajectory_spec"
   ]
  },
  {
   "cell_type": "markdown",
   "id": "16f35a8a-6e7f-4da4-8001-98349dfef6bb",
   "metadata": {
    "jp-MarkdownHeadingCollapsed": true,
    "tags": []
   },
   "source": [
    "### replay buffers\n",
    "\n",
    "* Note that when the replay buffer object is initialized, it requires the `data_spec` of the elements that it will store. * This spec corresponds to the TensorSpec of trajectory elements that will be added to the buffer\n",
    "* This spec is usually acquired by looking at an agent's `agent.collect_data_spec` which defines the shapes, types, and structures expected by the agent when training"
   ]
  },
  {
   "cell_type": "code",
   "execution_count": 1797,
   "id": "0e4482e8-f681-409d-a0f6-d018813b21b7",
   "metadata": {},
   "outputs": [],
   "source": [
    "import reverb\n",
    "from tf_agents.replay_buffers import reverb_replay_buffer\n",
    "from tf_agents.replay_buffers import reverb_utils"
   ]
  },
  {
   "cell_type": "code",
   "execution_count": 1798,
   "id": "32ba8ed3-1fef-4912-b69c-9e9d81e185d4",
   "metadata": {},
   "outputs": [
    {
     "data": {
      "text/plain": [
       "_TupleWrapper(Trajectory(\n",
       "{'action': BoundedTensorSpec(shape=(), dtype=tf.int32, name='action_spec', minimum=array(0, dtype=int32), maximum=array(1, dtype=int32)),\n",
       " 'discount': BoundedTensorSpec(shape=(), dtype=tf.float32, name='discount', minimum=array(0., dtype=float32), maximum=array(1., dtype=float32)),\n",
       " 'next_step_type': TensorSpec(shape=(), dtype=tf.int32, name='step_type'),\n",
       " 'observation': DictWrapper({'global': TensorSpec(shape=(16,), dtype=tf.float32, name=None), 'per_arm': TensorSpec(shape=(1, 16), dtype=tf.float32, name=None)}),\n",
       " 'policy_info': PerArmPolicyInfo(log_probability=(), predicted_rewards_mean=TensorSpec(shape=(2,), dtype=tf.float32, name=None), multiobjective_scalarized_predicted_rewards_mean=(), predicted_rewards_optimistic=(), predicted_rewards_sampled=(), bandit_policy_type=(), chosen_arm_features=TensorSpec(shape=(16,), dtype=tf.float32, name=None)),\n",
       " 'reward': TensorSpec(shape=(), dtype=tf.float32, name='reward'),\n",
       " 'step_type': TensorSpec(shape=(), dtype=tf.int32, name='step_type')}))"
      ]
     },
     "execution_count": 1798,
     "metadata": {},
     "output_type": "execute_result"
    }
   ],
   "source": [
    "agent.collect_data_spec"
   ]
  },
  {
   "cell_type": "code",
   "execution_count": 1799,
   "id": "950cc38d-c904-413b-a838-fe558904caf8",
   "metadata": {},
   "outputs": [
    {
     "data": {
      "text/plain": [
       "Trajectory(\n",
       "{'action': BoundedTensorSpec(shape=(), dtype=tf.int32, name='action_spec', minimum=array(0, dtype=int32), maximum=array(1, dtype=int32)),\n",
       " 'discount': BoundedTensorSpec(shape=(), dtype=tf.float32, name='discount', minimum=array(0., dtype=float32), maximum=array(1., dtype=float32)),\n",
       " 'next_step_type': TensorSpec(shape=(), dtype=tf.int32, name='step_type'),\n",
       " 'observation': DictWrapper({'global': TensorSpec(shape=(16,), dtype=tf.float32, name=None), 'per_arm': TensorSpec(shape=(1, 16), dtype=tf.float32, name=None)}),\n",
       " 'policy_info': PerArmPolicyInfo(log_probability=(), predicted_rewards_mean=TensorSpec(shape=(2,), dtype=tf.float32, name=None), multiobjective_scalarized_predicted_rewards_mean=(), predicted_rewards_optimistic=(), predicted_rewards_sampled=(), bandit_policy_type=(), chosen_arm_features=TensorSpec(shape=(16,), dtype=tf.float32, name=None)),\n",
       " 'reward': TensorSpec(shape=(), dtype=tf.float32, name='reward'),\n",
       " 'step_type': TensorSpec(shape=(), dtype=tf.int32, name='step_type')})"
      ]
     },
     "execution_count": 1799,
     "metadata": {},
     "output_type": "execute_result"
    }
   ],
   "source": [
    "# replay_buffer_signature = tensor_spec.from_spec(\n",
    "#       agent.collect_data_spec\n",
    "# )\n",
    "# replay_buffer_signature"
   ]
  },
  {
   "cell_type": "code",
   "execution_count": 1800,
   "id": "cdb33123-d5eb-41ce-abc9-342baa16ad10",
   "metadata": {},
   "outputs": [
    {
     "data": {
      "text/plain": [
       "Trajectory(\n",
       "{'action': BoundedTensorSpec(shape=(None,), dtype=tf.int32, name='action_spec', minimum=array(0, dtype=int32), maximum=array(1, dtype=int32)),\n",
       " 'discount': BoundedTensorSpec(shape=(None,), dtype=tf.float32, name='discount', minimum=array(0., dtype=float32), maximum=array(1., dtype=float32)),\n",
       " 'next_step_type': TensorSpec(shape=(None,), dtype=tf.int32, name='step_type'),\n",
       " 'observation': DictWrapper({'global': TensorSpec(shape=(None, 16), dtype=tf.float32, name=None), 'per_arm': TensorSpec(shape=(None, 1, 16), dtype=tf.float32, name=None)}),\n",
       " 'policy_info': PerArmPolicyInfo(log_probability=(), predicted_rewards_mean=TensorSpec(shape=(None, 2), dtype=tf.float32, name=None), multiobjective_scalarized_predicted_rewards_mean=(), predicted_rewards_optimistic=(), predicted_rewards_sampled=(), bandit_policy_type=(), chosen_arm_features=TensorSpec(shape=(None, 16), dtype=tf.float32, name=None)),\n",
       " 'reward': TensorSpec(shape=(None,), dtype=tf.float32, name='reward'),\n",
       " 'step_type': TensorSpec(shape=(None,), dtype=tf.int32, name='step_type')})"
      ]
     },
     "execution_count": 1800,
     "metadata": {},
     "output_type": "execute_result"
    }
   ],
   "source": [
    "# replay_buffer_signature = tensor_spec.add_outer_dim(\n",
    "#       replay_buffer_signature\n",
    "# )\n",
    "# replay_buffer_signature"
   ]
  },
  {
   "cell_type": "code",
   "execution_count": 1801,
   "id": "3df54f96-08ae-484a-89aa-e0c66646b51f",
   "metadata": {},
   "outputs": [
    {
     "name": "stderr",
     "output_type": "stream",
     "text": [
      "[reverb/cc/platform/tfrecord_checkpointer.cc:162]  Initializing TFRecordCheckpointer in /var/tmp/tmp9ec1pvzn.\n",
      "[reverb/cc/platform/tfrecord_checkpointer.cc:567] Loading latest checkpoint from /var/tmp/tmp9ec1pvzn\n",
      "[reverb/cc/platform/default/server.cc:71] Started replay server on port 42605\n"
     ]
    },
    {
     "data": {
      "text/plain": [
       "<tf_agents.replay_buffers.reverb_replay_buffer.ReverbReplayBuffer at 0x7f6d5c5894b0>"
      ]
     },
     "execution_count": 1801,
     "metadata": {},
     "output_type": "execute_result"
    }
   ],
   "source": [
    "# table_name = 'uniform_table'\n",
    "# replay_buffer_capacity = 2000 # @param {type:\"integer\"}\n",
    "\n",
    "# table = reverb.Table(\n",
    "#     table_name,\n",
    "#     max_size=replay_buffer_capacity,\n",
    "#     sampler=reverb.selectors.Uniform(),\n",
    "#     remover=reverb.selectors.Fifo(),\n",
    "#     rate_limiter=reverb.rate_limiters.MinSize(1),\n",
    "#     signature=replay_buffer_signature\n",
    "# )\n",
    "# reverb_server = reverb.Server([table])\n",
    "\n",
    "# replay_buffer = reverb_replay_buffer.ReverbReplayBuffer(\n",
    "#     agent.collect_data_spec,\n",
    "#     table_name=table_name,\n",
    "#     sequence_length=None,\n",
    "#     local_server=reverb_server\n",
    "# )\n",
    "\n",
    "# rb_observer = reverb_utils.ReverbAddEpisodeObserver(\n",
    "#     replay_buffer.py_client,\n",
    "#     table_name,\n",
    "#     replay_buffer_capacity\n",
    "# )\n",
    "\n",
    "# replay_buffer"
   ]
  },
  {
   "cell_type": "code",
   "execution_count": 1597,
   "id": "37a2138f-2c54-4e9c-86a2-fefd3e64ef11",
   "metadata": {},
   "outputs": [],
   "source": [
    "# num_iterations = 15                 # @param {type:\"integer\"}\n",
    "# collect_episodes_per_iteration = 2  # @param {type:\"integer\"}\n",
    "\n",
    "# fc_layer_params = (100,)\n",
    "\n",
    "# learning_rate = 1e-3   # @param {type:\"number\"}\n",
    "# log_interval = 25      # @param {type:\"integer\"}\n",
    "# num_eval_episodes = 10 # @param {type:\"integer\"}\n",
    "# eval_interval = 50     # @param {type:\"integer\"}\n",
    "\n",
    "# def collect_episode(\n",
    "#     environment, policy, num_episodes\n",
    "# ):    \n",
    "#     driver = py_driver.PyDriver(\n",
    "#         environment,\n",
    "#         py_tf_eager_policy.PyTFEagerPolicy(\n",
    "#             policy, \n",
    "#             use_tf_function=True\n",
    "#         ),\n",
    "#         [rb_observer],\n",
    "#         max_episodes=num_episodes\n",
    "#     )\n",
    "#     initial_time_step = environment.reset()\n",
    "#     driver.run(initial_time_step)"
   ]
  },
  {
   "cell_type": "code",
   "execution_count": 1599,
   "id": "b9ea3d7e-406e-473d-a363-1c6f89c1a0d6",
   "metadata": {},
   "outputs": [],
   "source": [
    "# for _ in range(num_iterations):\n",
    "    \n",
    "#     # Collect a few episodes using collect_policy and save to the replay buffer.\n",
    "#     collect_episode(\n",
    "#         train_py_env, tf_agent.collect_policy, collect_episodes_per_iteration\n",
    "#     )\n",
    "\n",
    "#     # Use data from the buffer and update the agent's network.\n",
    "#     iterator = iter(replay_buffer.as_dataset(sample_batch_size=1))\n",
    "    \n",
    "#     trajectories, _ = next(iterator)\n",
    "    \n",
    "#     train_loss = tf_agent.train(experience=trajectories)  \n",
    "\n",
    "#     replay_buffer.clear()\n",
    "\n",
    "#     step = tf_agent.train_step_counter.numpy()\n",
    "\n",
    "#     if step % log_interval == 0:\n",
    "#         print('step = {0}: loss = {1}'.format(step, train_loss.loss))"
   ]
  },
  {
   "cell_type": "code",
   "execution_count": 1600,
   "id": "1b25eb8f-14fe-4f7b-8a9e-4447c33abd1d",
   "metadata": {},
   "outputs": [],
   "source": [
    "# batch_size = 32\n",
    "# max_length = 100\n",
    "\n",
    "# replay_buffer = tf_uniform_replay_buffer.TFUniformReplayBuffer(\n",
    "#     data_spec,\n",
    "#     batch_size=batch_size,\n",
    "#     max_length=max_length\n",
    "# )"
   ]
  },
  {
   "cell_type": "markdown",
   "id": "a77b011f-695c-433b-9bee-e62bf560746b",
   "metadata": {},
   "source": [
    "## train loop"
   ]
  },
  {
   "cell_type": "code",
   "execution_count": 1601,
   "id": "2c87762d-df4c-4d8f-82e5-c486eba5a79f",
   "metadata": {},
   "outputs": [],
   "source": [
    "# from tf_agents.utils import common\n",
    "\n",
    "# agent.initialize()\n",
    "\n",
    "# # (Optional) Optimize by wrapping some of the code in a graph using TF function.\n",
    "# agent.train = common.function(agent.train)\n",
    "\n",
    "# # Reset the train step\n",
    "# agent.train_step_counter.assign(0)"
   ]
  },
  {
   "cell_type": "markdown",
   "id": "26b6057c-2690-4530-a453-7984f456ab8c",
   "metadata": {},
   "source": [
    "`agent.train(experience=...)`\n",
    "\n",
    "where `experience` is a batch of trajectories data in the form of a Trajectory. \n",
    "* The structure of experience must match that of `self.training_data_spec`. \n",
    "* All tensors in experience must be shaped [batch, time, ...] where time must be equal to self.train_step_length if that property is not None."
   ]
  },
  {
   "cell_type": "code",
   "execution_count": 1942,
   "id": "a349ecc4-81aa-4067-9880-20cd25f661ac",
   "metadata": {},
   "outputs": [
    {
     "name": "stdout",
     "output_type": "stream",
     "text": [
      "training data spec:  Trajectory(\n",
      "{'action': BoundedTensorSpec(shape=(), dtype=tf.int32, name='action_spec', minimum=array(0, dtype=int32), maximum=array(0, dtype=int32)),\n",
      " 'discount': BoundedTensorSpec(shape=(), dtype=tf.float32, name='discount', minimum=array(0., dtype=float32), maximum=array(1., dtype=float32)),\n",
      " 'next_step_type': TensorSpec(shape=(), dtype=tf.int32, name='step_type'),\n",
      " 'observation': DictWrapper({'global': TensorSpec(shape=(16,), dtype=tf.float32, name=None), 'num_actions': BoundedTensorSpec(shape=(), dtype=tf.int32, name=None, minimum=array(1, dtype=int32), maximum=array(1, dtype=int32))}),\n",
      " 'policy_info': PerArmPolicyInfo(log_probability=(), predicted_rewards_mean=TensorSpec(shape=(1,), dtype=tf.float32, name=None), multiobjective_scalarized_predicted_rewards_mean=(), predicted_rewards_optimistic=(), predicted_rewards_sampled=(), bandit_policy_type=(), chosen_arm_features=TensorSpec(shape=(16,), dtype=tf.float32, name=None)),\n",
      " 'reward': TensorSpec(shape=(), dtype=tf.float32, name='reward'),\n",
      " 'step_type': TensorSpec(shape=(), dtype=tf.int32, name='step_type')})\n"
     ]
    }
   ],
   "source": [
    "print('training data spec: ', agent.training_data_spec)"
   ]
  },
  {
   "cell_type": "code",
   "execution_count": 1946,
   "id": "f7670671-8205-4776-96fe-95464182f8b8",
   "metadata": {
    "tags": []
   },
   "outputs": [
    {
     "data": {
      "text/plain": [
       "Trajectory(\n",
       "{'action': <tf.Tensor: shape=(8,), dtype=int32, numpy=array([0, 0, 0, 0, 0, 0, 0, 0], dtype=int32)>,\n",
       " 'discount': <tf.Tensor: shape=(8,), dtype=float32, numpy=array([0., 0., 0., 0., 0., 0., 0., 0.], dtype=float32)>,\n",
       " 'next_step_type': <tf.Tensor: shape=(8,), dtype=int32, numpy=array([2, 2, 2, 2, 2, 2, 2, 2], dtype=int32)>,\n",
       " 'observation': {'global': <tf.Tensor: shape=(16,), dtype=float32, numpy=\n",
       "array([-0.02599   , -0.03078079,  0.03106076,  0.00133444,  0.02207417,\n",
       "       -0.02917665,  0.02782809, -0.02822751, -0.04523091,  0.0495333 ,\n",
       "       -0.01482558, -0.04208376,  0.00741076, -0.04264941,  0.00693322,\n",
       "       -0.03396516], dtype=float32)>},\n",
       " 'policy_info': PerArmPolicyInfo(log_probability=(), predicted_rewards_mean=<tf.Tensor: shape=(8, 1), dtype=float32, numpy=\n",
       "array([[0.],\n",
       "       [0.],\n",
       "       [0.],\n",
       "       [0.],\n",
       "       [0.],\n",
       "       [0.],\n",
       "       [0.],\n",
       "       [0.]], dtype=float32)>, multiobjective_scalarized_predicted_rewards_mean=(), predicted_rewards_optimistic=(), predicted_rewards_sampled=(), bandit_policy_type=(), chosen_arm_features=<tf.Tensor: shape=(16,), dtype=float32, numpy=\n",
       "array([-0.02780459, -0.00370889, -0.02864446, -0.02917221, -0.01603731,\n",
       "        0.02465415,  0.01583499, -0.03253644,  0.03956462,  0.04351255,\n",
       "        0.01470714,  0.04936441,  0.01360733, -0.0412104 ,  0.02928157,\n",
       "        0.01699198], dtype=float32)>),\n",
       " 'reward': <tf.Tensor: shape=(8,), dtype=float32, numpy=array([  4.,   4., -10.,  10.,   3.,   2.,  10.,  10.], dtype=float32)>,\n",
       " 'step_type': <tf.Tensor: shape=(8,), dtype=int32, numpy=array([0, 0, 0, 0, 0, 0, 0, 0], dtype=int32)>})"
      ]
     },
     "execution_count": 1946,
     "metadata": {},
     "output_type": "execute_result"
    }
   ],
   "source": [
    "for x in train_dataset.batch(HPARAMS['batch_size']).take(1):\n",
    "    single_traj = _trajectory_fn(x)\n",
    "    \n",
    "single_traj"
   ]
  },
  {
   "cell_type": "code",
   "execution_count": 1743,
   "id": "d3bf9065-5b38-4213-9b2e-927ea397e77d",
   "metadata": {},
   "outputs": [],
   "source": [
    "# single_traj.observation['global'].shape\n",
    "# <tf.Tensor: shape=(16,), dtype=float32, numpy=\n",
    "# array([-0.02599   , -0.03078079,  0.03106076,  0.00133444,  0.02207417,\n",
    "#        -0.02917665,  0.02782809, -0.02822751, -0.04523091,  0.0495333 ,\n",
    "#        -0.01482558, -0.04208376,  0.00741076, -0.04264941,  0.00693322,\n",
    "#        -0.03396516], dtype=float32)>\n",
    "\n",
    "# agent.training_data_spec.observation['global'].shape\n",
    "# >TensorSpec(shape=(16,), dtype=tf.float32, name=None)\n",
    "\n",
    "# single_traj.policy_info.chosen_arm_features\n",
    "# <tf.Tensor: shape=(16,), dtype=float32, numpy=\n",
    "# array([-0.02780459, -0.00370889, -0.02864446, -0.02917221, -0.01603731,\n",
    "#         0.02465415,  0.01583499, -0.03253644,  0.03956462,  0.04351255,\n",
    "#         0.01470714,  0.04936441,  0.01360733, -0.0412104 ,  0.02928157,\n",
    "#         0.01699198], dtype=float32)>\n",
    "\n",
    "# agent.training_data_spec.policy_info.chosen_arm_features\n",
    "# TensorSpec(shape=(), dtype=tf.float32, name=None)"
   ]
  },
  {
   "cell_type": "code",
   "execution_count": 1914,
   "id": "b75574f5-0fa7-4d33-bc91-b1ea4671a021",
   "metadata": {},
   "outputs": [
    {
     "data": {
      "text/plain": [
       "TensorSpec(shape=(16,), dtype=tf.float32, name=None)"
      ]
     },
     "execution_count": 1914,
     "metadata": {},
     "output_type": "execute_result"
    }
   ],
   "source": [
    "agent.training_data_spec.policy_info.chosen_arm_features"
   ]
  },
  {
   "cell_type": "code",
   "execution_count": 1900,
   "id": "1103f98c-9547-4293-9010-499534e724d5",
   "metadata": {},
   "outputs": [
    {
     "data": {
      "text/plain": [
       "<tf.Tensor: shape=(16, 1), dtype=float32, numpy=\n",
       "array([[-0.02780459],\n",
       "       [-0.00370889],\n",
       "       [-0.02864446],\n",
       "       [-0.02917221],\n",
       "       [-0.01603731],\n",
       "       [ 0.02465415],\n",
       "       [ 0.01583499],\n",
       "       [-0.03253644],\n",
       "       [ 0.03956462],\n",
       "       [ 0.04351255],\n",
       "       [ 0.01470714],\n",
       "       [ 0.04936441],\n",
       "       [ 0.01360733],\n",
       "       [-0.0412104 ],\n",
       "       [ 0.02928157],\n",
       "       [ 0.01699198]], dtype=float32)>"
      ]
     },
     "execution_count": 1900,
     "metadata": {},
     "output_type": "execute_result"
    }
   ],
   "source": [
    "# # test_chosen = _add_outer_dimension(single_traj.policy_info.chosen_arm_features)\n",
    "# test_chosen = tf.expand_dims(tf.reshape(single_traj.policy_info.chosen_arm_features, [-1]), -1)\n",
    "# test_chosen"
   ]
  },
  {
   "cell_type": "code",
   "execution_count": 1917,
   "id": "8492d02c-f947-45a1-944d-6706422f79cb",
   "metadata": {},
   "outputs": [],
   "source": [
    "# nest_utils.is_batched_nested_tensors(\n",
    "#     tensors=test_chosen,\n",
    "#     specs=agent.training_data_spec.policy_info.chosen_arm_features,\n",
    "#     num_outer_dims=1,\n",
    "#     allow_extra_fields=False,\n",
    "#     check_dtypes=True\n",
    "# )"
   ]
  },
  {
   "cell_type": "code",
   "execution_count": 1920,
   "id": "c81ccd84-874d-4f4a-ab04-27ed58a35dd7",
   "metadata": {},
   "outputs": [
    {
     "data": {
      "text/plain": [
       "False"
      ]
     },
     "execution_count": 1920,
     "metadata": {},
     "output_type": "execute_result"
    }
   ],
   "source": [
    "from tf_agents.utils import nest_utils\n",
    "\n",
    "nest_utils.is_batched_nested_tensors(\n",
    "    tensors=single_traj.policy_info.chosen_arm_features,\n",
    "    specs=agent.training_data_spec.policy_info.chosen_arm_features,\n",
    "    num_outer_dims=1,\n",
    "    allow_extra_fields=False,\n",
    "    check_dtypes=True\n",
    ")\n",
    "\n",
    "# nest_utils.is_batched_nested_tensors(\n",
    "#     tensors=single_traj.observation['global'],\n",
    "#     specs=agent.training_data_spec.observation['global'],\n",
    "#     num_outer_dims=0,\n",
    "#     allow_extra_fields=False,\n",
    "#     check_dtypes=True\n",
    "# )\n",
    "\n",
    "# nest_utils.is_batched_nested_tensors(\n",
    "#     tensors=single_traj.action,\n",
    "#     specs=agent.training_data_spec.action,\n",
    "#     num_outer_dims=1,\n",
    "#     allow_extra_fields=False,\n",
    "#     check_dtypes=True\n",
    "# )"
   ]
  },
  {
   "cell_type": "code",
   "execution_count": 1947,
   "id": "90a2124c-7e7c-420e-88c2-5845a7b20e70",
   "metadata": {},
   "outputs": [
    {
     "name": "stdout",
     "output_type": "stream",
     "text": [
      "print data: {'bucketized_user_age': <tf.Tensor: shape=(8,), dtype=float32, numpy=array([25., 45., 18., 25., 35., 45., 50., 25.], dtype=float32)>, 'movie_genres': <tf.Tensor: shape=(8, 1), dtype=int64, numpy=\n",
      "array([[4],\n",
      "       [7],\n",
      "       [7],\n",
      "       [1],\n",
      "       [0],\n",
      "       [4],\n",
      "       [7],\n",
      "       [0]])>, 'movie_id': <tf.Tensor: shape=(8,), dtype=string, numpy=\n",
      "array([b'211', b'678', b'135', b'97', b'568', b'150', b'483', b'121'],\n",
      "      dtype=object)>, 'timestamp': <tf.Tensor: shape=(8,), dtype=int64, numpy=\n",
      "array([874948475, 888638193, 887747108, 882475618, 875350485, 875946055,\n",
      "       879453933, 880149166])>, 'user_id': <tf.Tensor: shape=(8,), dtype=string, numpy=\n",
      "array([b'346', b'602', b'393', b'152', b'738', b'382', b'85', b'152'],\n",
      "      dtype=object)>, 'user_occupation_text': <tf.Tensor: shape=(8,), dtype=string, numpy=\n",
      "array([b'other', b'other', b'student', b'educator', b'technician',\n",
      "       b'engineer', b'educator', b'educator'], dtype=object)>, 'user_rating': <tf.Tensor: shape=(8,), dtype=float32, numpy=array([4., 4., 1., 5., 3., 2., 5., 5.], dtype=float32)>}\n",
      "print trajectories: Trajectory(\n",
      "{'action': <tf.Tensor: shape=(8,), dtype=int32, numpy=array([0, 0, 0, 0, 0, 0, 0, 0], dtype=int32)>,\n",
      " 'discount': <tf.Tensor: shape=(8,), dtype=float32, numpy=array([0., 0., 0., 0., 0., 0., 0., 0.], dtype=float32)>,\n",
      " 'next_step_type': <tf.Tensor: shape=(8,), dtype=int32, numpy=array([2, 2, 2, 2, 2, 2, 2, 2], dtype=int32)>,\n",
      " 'observation': {'global': <tf.Tensor: shape=(16,), dtype=float32, numpy=\n",
      "array([-0.02599   , -0.03078079,  0.03106076,  0.00133444,  0.02207417,\n",
      "       -0.02917665,  0.02782809, -0.02822751, -0.04523091,  0.0495333 ,\n",
      "       -0.01482558, -0.04208376,  0.00741076, -0.04264941,  0.00693322,\n",
      "       -0.03396516], dtype=float32)>},\n",
      " 'policy_info': PerArmPolicyInfo(log_probability=(), predicted_rewards_mean=<tf.Tensor: shape=(8, 1), dtype=float32, numpy=\n",
      "array([[0.],\n",
      "       [0.],\n",
      "       [0.],\n",
      "       [0.],\n",
      "       [0.],\n",
      "       [0.],\n",
      "       [0.],\n",
      "       [0.]], dtype=float32)>, multiobjective_scalarized_predicted_rewards_mean=(), predicted_rewards_optimistic=(), predicted_rewards_sampled=(), bandit_policy_type=(), chosen_arm_features=<tf.Tensor: shape=(16,), dtype=float32, numpy=\n",
      "array([-0.02780459, -0.00370889, -0.02864446, -0.02917221, -0.01603731,\n",
      "        0.02465415,  0.01583499, -0.03253644,  0.03956462,  0.04351255,\n",
      "        0.01470714,  0.04936441,  0.01360733, -0.0412104 ,  0.02928157,\n",
      "        0.01699198], dtype=float32)>),\n",
      " 'reward': <tf.Tensor: shape=(8,), dtype=float32, numpy=array([  4.,   4., -10.,  10.,   3.,   2.,  10.,  10.], dtype=float32)>,\n",
      " 'step_type': <tf.Tensor: shape=(8,), dtype=int32, numpy=array([0, 0, 0, 0, 0, 0, 0, 0], dtype=int32)>})\n"
     ]
    },
    {
     "ename": "ValueError",
     "evalue": "Tensors and specs do not have matching structures:\n  Trajectory(\n{'action': .,\n 'discount': .,\n 'next_step_type': .,\n 'observation': {'global': .},\n 'policy_info': PerArmPolicyInfo(log_probability=(), predicted_rewards_mean=., multiobjective_scalarized_predicted_rewards_mean=(), predicted_rewards_optimistic=(), predicted_rewards_sampled=(), bandit_policy_type=(), chosen_arm_features=.),\n 'reward': .,\n 'step_type': .})\nvs.\n  Trajectory(\n{'action': .,\n 'discount': .,\n 'next_step_type': .,\n 'observation': DictWrapper({'global': ., 'num_actions': .}),\n 'policy_info': PerArmPolicyInfo(log_probability=(), predicted_rewards_mean=., multiobjective_scalarized_predicted_rewards_mean=(), predicted_rewards_optimistic=(), predicted_rewards_sampled=(), bandit_policy_type=(), chosen_arm_features=.),\n 'reward': .,\n 'step_type': .})\nValues:\n  Trajectory(\n{'action': <tf.Tensor 'experience_2:0' shape=(8,) dtype=int32>,\n 'discount': <tf.Tensor 'experience_7:0' shape=(8,) dtype=float32>,\n 'next_step_type': <tf.Tensor 'experience_5:0' shape=(8,) dtype=int32>,\n 'observation': {'global': <tf.Tensor 'experience_1:0' shape=(16,) dtype=float32>},\n 'policy_info': PerArmPolicyInfo(log_probability=(), predicted_rewards_mean=<tf.Tensor 'experience_3:0' shape=(8, 1) dtype=float32>, multiobjective_scalarized_predicted_rewards_mean=(), predicted_rewards_optimistic=(), predicted_rewards_sampled=(), bandit_policy_type=(), chosen_arm_features=<tf.Tensor 'experience_4:0' shape=(16,) dtype=float32>),\n 'reward': <tf.Tensor 'experience_6:0' shape=(8,) dtype=float32>,\n 'step_type': <tf.Tensor 'experience:0' shape=(8,) dtype=int32>})\nvs.\n  Trajectory(\n{'action': BoundedTensorSpec(shape=(), dtype=tf.int32, name='action_spec', minimum=array(0, dtype=int32), maximum=array(0, dtype=int32)),\n 'discount': BoundedTensorSpec(shape=(), dtype=tf.float32, name='discount', minimum=array(0., dtype=float32), maximum=array(1., dtype=float32)),\n 'next_step_type': TensorSpec(shape=(), dtype=tf.int32, name='step_type'),\n 'observation': DictWrapper({'global': TensorSpec(shape=(16,), dtype=tf.float32, name=None), 'num_actions': BoundedTensorSpec(shape=(), dtype=tf.int32, name=None, minimum=array(1, dtype=int32), maximum=array(1, dtype=int32))}),\n 'policy_info': PerArmPolicyInfo(log_probability=(), predicted_rewards_mean=TensorSpec(shape=(1,), dtype=tf.float32, name=None), multiobjective_scalarized_predicted_rewards_mean=(), predicted_rewards_optimistic=(), predicted_rewards_sampled=(), bandit_policy_type=(), chosen_arm_features=TensorSpec(shape=(16,), dtype=tf.float32, name=None)),\n 'reward': TensorSpec(shape=(), dtype=tf.float32, name='reward'),\n 'step_type': TensorSpec(shape=(), dtype=tf.int32, name='step_type')}).",
     "output_type": "error",
     "traceback": [
      "\u001b[0;31m---------------------------------------------------------------------------\u001b[0m",
      "\u001b[0;31mValueError\u001b[0m                                Traceback (most recent call last)",
      "Cell \u001b[0;32mIn[1947], line 28\u001b[0m\n\u001b[1;32m     25\u001b[0m     \u001b[38;5;66;03m# All tensors in experience must be shaped [batch, time, ...] \u001b[39;00m\n\u001b[1;32m     26\u001b[0m     step \u001b[38;5;241m=\u001b[39m agent\u001b[38;5;241m.\u001b[39mtrain_step_counter\u001b[38;5;241m.\u001b[39mnumpy()\n\u001b[0;32m---> 28\u001b[0m     loss \u001b[38;5;241m=\u001b[39m \u001b[43magent\u001b[49m\u001b[38;5;241;43m.\u001b[39;49m\u001b[43mtrain\u001b[49m\u001b[43m(\u001b[49m\u001b[43mexperience\u001b[49m\u001b[38;5;241;43m=\u001b[39;49m\u001b[43mtrajectories\u001b[49m\u001b[43m)\u001b[49m\n\u001b[1;32m     30\u001b[0m     \u001b[38;5;28;01mbreak\u001b[39;00m\n\u001b[1;32m     32\u001b[0m \u001b[38;5;66;03m#     for x in train_dataset.batch(1).take(1): #HPARAMS['batch_size']).take(1):\u001b[39;00m\n\u001b[1;32m     33\u001b[0m \u001b[38;5;66;03m#         # print(f\"print X: {len(x)}\")\u001b[39;00m\n\u001b[1;32m     34\u001b[0m \u001b[38;5;66;03m#         # break\u001b[39;00m\n\u001b[0;32m   (...)\u001b[0m\n\u001b[1;32m     48\u001b[0m \n\u001b[1;32m     49\u001b[0m \u001b[38;5;66;03m# train_outputs(agent.policy, train_loss)\u001b[39;00m\n",
      "File \u001b[0;32m/opt/conda/lib/python3.10/site-packages/tensorflow/python/util/traceback_utils.py:153\u001b[0m, in \u001b[0;36mfilter_traceback.<locals>.error_handler\u001b[0;34m(*args, **kwargs)\u001b[0m\n\u001b[1;32m    151\u001b[0m \u001b[38;5;28;01mexcept\u001b[39;00m \u001b[38;5;167;01mException\u001b[39;00m \u001b[38;5;28;01mas\u001b[39;00m e:\n\u001b[1;32m    152\u001b[0m   filtered_tb \u001b[38;5;241m=\u001b[39m _process_traceback_frames(e\u001b[38;5;241m.\u001b[39m__traceback__)\n\u001b[0;32m--> 153\u001b[0m   \u001b[38;5;28;01mraise\u001b[39;00m e\u001b[38;5;241m.\u001b[39mwith_traceback(filtered_tb) \u001b[38;5;28;01mfrom\u001b[39;00m \u001b[38;5;28;01mNone\u001b[39;00m\n\u001b[1;32m    154\u001b[0m \u001b[38;5;28;01mfinally\u001b[39;00m:\n\u001b[1;32m    155\u001b[0m   \u001b[38;5;28;01mdel\u001b[39;00m filtered_tb\n",
      "File \u001b[0;32m/opt/conda/lib/python3.10/site-packages/tf_agents/agents/tf_agent.py:330\u001b[0m, in \u001b[0;36mTFAgent.train\u001b[0;34m(self, experience, weights, **kwargs)\u001b[0m\n\u001b[1;32m    325\u001b[0m   \u001b[38;5;28;01mraise\u001b[39;00m \u001b[38;5;167;01mRuntimeError\u001b[39;00m(\n\u001b[1;32m    326\u001b[0m       \u001b[38;5;124m\"\u001b[39m\u001b[38;5;124mCannot find _train_fn.  Did \u001b[39m\u001b[38;5;132;01m%s\u001b[39;00m\u001b[38;5;124m.__init__ call super?\u001b[39m\u001b[38;5;124m\"\u001b[39m\n\u001b[1;32m    327\u001b[0m       \u001b[38;5;241m%\u001b[39m \u001b[38;5;28mtype\u001b[39m(\u001b[38;5;28mself\u001b[39m)\u001b[38;5;241m.\u001b[39m\u001b[38;5;18m__name__\u001b[39m)\n\u001b[1;32m    329\u001b[0m \u001b[38;5;28;01mif\u001b[39;00m \u001b[38;5;28mself\u001b[39m\u001b[38;5;241m.\u001b[39m_enable_functions:\n\u001b[0;32m--> 330\u001b[0m   loss_info \u001b[38;5;241m=\u001b[39m \u001b[38;5;28;43mself\u001b[39;49m\u001b[38;5;241;43m.\u001b[39;49m\u001b[43m_train_fn\u001b[49m\u001b[43m(\u001b[49m\n\u001b[1;32m    331\u001b[0m \u001b[43m      \u001b[49m\u001b[43mexperience\u001b[49m\u001b[38;5;241;43m=\u001b[39;49m\u001b[43mexperience\u001b[49m\u001b[43m,\u001b[49m\u001b[43m \u001b[49m\u001b[43mweights\u001b[49m\u001b[38;5;241;43m=\u001b[39;49m\u001b[43mweights\u001b[49m\u001b[43m,\u001b[49m\u001b[43m \u001b[49m\u001b[38;5;241;43m*\u001b[39;49m\u001b[38;5;241;43m*\u001b[39;49m\u001b[43mkwargs\u001b[49m\u001b[43m)\u001b[49m\n\u001b[1;32m    332\u001b[0m \u001b[38;5;28;01melse\u001b[39;00m:\n\u001b[1;32m    333\u001b[0m   loss_info \u001b[38;5;241m=\u001b[39m \u001b[38;5;28mself\u001b[39m\u001b[38;5;241m.\u001b[39m_train(experience\u001b[38;5;241m=\u001b[39mexperience, weights\u001b[38;5;241m=\u001b[39mweights, \u001b[38;5;241m*\u001b[39m\u001b[38;5;241m*\u001b[39mkwargs)\n",
      "File \u001b[0;32m/opt/conda/lib/python3.10/site-packages/tf_agents/utils/common.py:188\u001b[0m, in \u001b[0;36mfunction_in_tf1.<locals>.maybe_wrap.<locals>.with_check_resource_vars\u001b[0;34m(*fn_args, **fn_kwargs)\u001b[0m\n\u001b[1;32m    184\u001b[0m check_tf1_allowed()\n\u001b[1;32m    185\u001b[0m \u001b[38;5;28;01mif\u001b[39;00m has_eager_been_enabled():\n\u001b[1;32m    186\u001b[0m   \u001b[38;5;66;03m# We're either in eager mode or in tf.function mode (no in-between); so\u001b[39;00m\n\u001b[1;32m    187\u001b[0m   \u001b[38;5;66;03m# autodep-like behavior is already expected of fn.\u001b[39;00m\n\u001b[0;32m--> 188\u001b[0m   \u001b[38;5;28;01mreturn\u001b[39;00m \u001b[43mfn\u001b[49m\u001b[43m(\u001b[49m\u001b[38;5;241;43m*\u001b[39;49m\u001b[43mfn_args\u001b[49m\u001b[43m,\u001b[49m\u001b[43m \u001b[49m\u001b[38;5;241;43m*\u001b[39;49m\u001b[38;5;241;43m*\u001b[39;49m\u001b[43mfn_kwargs\u001b[49m\u001b[43m)\u001b[49m\n\u001b[1;32m    189\u001b[0m \u001b[38;5;28;01mif\u001b[39;00m \u001b[38;5;129;01mnot\u001b[39;00m resource_variables_enabled():\n\u001b[1;32m    190\u001b[0m   \u001b[38;5;28;01mraise\u001b[39;00m \u001b[38;5;167;01mRuntimeError\u001b[39;00m(MISSING_RESOURCE_VARIABLES_ERROR)\n",
      "File \u001b[0;32m/opt/conda/lib/python3.10/site-packages/tf_agents/bandits/agents/greedy_reward_prediction_agent.py:228\u001b[0m, in \u001b[0;36mGreedyRewardPredictionAgent._train\u001b[0;34m(self, experience, weights)\u001b[0m\n\u001b[1;32m    227\u001b[0m \u001b[38;5;28;01mdef\u001b[39;00m \u001b[38;5;21m_train\u001b[39m(\u001b[38;5;28mself\u001b[39m, experience, weights):\n\u001b[0;32m--> 228\u001b[0m   experience \u001b[38;5;241m=\u001b[39m \u001b[38;5;28;43mself\u001b[39;49m\u001b[38;5;241;43m.\u001b[39;49m\u001b[43m_as_trajectory\u001b[49m\u001b[43m(\u001b[49m\u001b[43mexperience\u001b[49m\u001b[43m)\u001b[49m\n\u001b[1;32m    230\u001b[0m   \u001b[38;5;28;01mwith\u001b[39;00m tf\u001b[38;5;241m.\u001b[39mGradientTape() \u001b[38;5;28;01mas\u001b[39;00m tape:\n\u001b[1;32m    231\u001b[0m     loss_info \u001b[38;5;241m=\u001b[39m \u001b[38;5;28mself\u001b[39m\u001b[38;5;241m.\u001b[39m_loss(experience, weights\u001b[38;5;241m=\u001b[39mweights, training\u001b[38;5;241m=\u001b[39m\u001b[38;5;28;01mTrue\u001b[39;00m)\n",
      "File \u001b[0;32m/opt/conda/lib/python3.10/site-packages/tf_agents/agents/data_converter.py:340\u001b[0m, in \u001b[0;36mAsTrajectory.__call__\u001b[0;34m(self, value)\u001b[0m\n\u001b[1;32m    338\u001b[0m \u001b[38;5;28;01melse\u001b[39;00m:\n\u001b[1;32m    339\u001b[0m   \u001b[38;5;28;01mraise\u001b[39;00m \u001b[38;5;167;01mTypeError\u001b[39;00m(\u001b[38;5;124m'\u001b[39m\u001b[38;5;124mInput type not supported: \u001b[39m\u001b[38;5;132;01m{}\u001b[39;00m\u001b[38;5;124m'\u001b[39m\u001b[38;5;241m.\u001b[39mformat(value))\n\u001b[0;32m--> 340\u001b[0m \u001b[43m_validate_trajectory\u001b[49m\u001b[43m(\u001b[49m\n\u001b[1;32m    341\u001b[0m \u001b[43m    \u001b[49m\u001b[43mvalue\u001b[49m\u001b[43m,\u001b[49m\u001b[43m \u001b[49m\u001b[38;5;28;43mself\u001b[39;49m\u001b[38;5;241;43m.\u001b[39;49m\u001b[43m_data_context\u001b[49m\u001b[38;5;241;43m.\u001b[39;49m\u001b[43mtrajectory_spec\u001b[49m\u001b[43m,\u001b[49m\n\u001b[1;32m    342\u001b[0m \u001b[43m    \u001b[49m\u001b[43msequence_length\u001b[49m\u001b[38;5;241;43m=\u001b[39;49m\u001b[38;5;28;43mself\u001b[39;49m\u001b[38;5;241;43m.\u001b[39;49m\u001b[43m_sequence_length\u001b[49m\u001b[43m,\u001b[49m\n\u001b[1;32m    343\u001b[0m \u001b[43m    \u001b[49m\u001b[43mnum_outer_dims\u001b[49m\u001b[38;5;241;43m=\u001b[39;49m\u001b[38;5;28;43mself\u001b[39;49m\u001b[38;5;241;43m.\u001b[39;49m\u001b[43m_num_outer_dims\u001b[49m\u001b[43m)\u001b[49m\n\u001b[1;32m    344\u001b[0m value \u001b[38;5;241m=\u001b[39m nest_utils\u001b[38;5;241m.\u001b[39mprune_extra_keys(\n\u001b[1;32m    345\u001b[0m     \u001b[38;5;28mself\u001b[39m\u001b[38;5;241m.\u001b[39m_data_context\u001b[38;5;241m.\u001b[39mtrajectory_spec, value)\n\u001b[1;32m    346\u001b[0m \u001b[38;5;28;01mreturn\u001b[39;00m value\n",
      "File \u001b[0;32m/opt/conda/lib/python3.10/site-packages/tf_agents/agents/data_converter.py:174\u001b[0m, in \u001b[0;36m_validate_trajectory\u001b[0;34m(value, trajectory_spec, sequence_length, num_outer_dims)\u001b[0m\n\u001b[1;32m    168\u001b[0m \u001b[38;5;28;01mdef\u001b[39;00m \u001b[38;5;21m_validate_trajectory\u001b[39m(\n\u001b[1;32m    169\u001b[0m     value: trajectory\u001b[38;5;241m.\u001b[39mTrajectory,\n\u001b[1;32m    170\u001b[0m     trajectory_spec: trajectory\u001b[38;5;241m.\u001b[39mTrajectory,\n\u001b[1;32m    171\u001b[0m     sequence_length: typing\u001b[38;5;241m.\u001b[39mOptional[\u001b[38;5;28mint\u001b[39m],\n\u001b[1;32m    172\u001b[0m     num_outer_dims: te\u001b[38;5;241m.\u001b[39mLiteral[\u001b[38;5;241m1\u001b[39m, \u001b[38;5;241m2\u001b[39m] \u001b[38;5;241m=\u001b[39m \u001b[38;5;241m2\u001b[39m):  \u001b[38;5;66;03m# pylint: disable=bad-whitespace\u001b[39;00m\n\u001b[1;32m    173\u001b[0m \u001b[38;5;250m  \u001b[39m\u001b[38;5;124;03m\"\"\"Validate a Trajectory given its spec and a sequence length.\"\"\"\u001b[39;00m\n\u001b[0;32m--> 174\u001b[0m   \u001b[38;5;28;01mif\u001b[39;00m \u001b[38;5;129;01mnot\u001b[39;00m \u001b[43mnest_utils\u001b[49m\u001b[38;5;241;43m.\u001b[39;49m\u001b[43mis_batched_nested_tensors\u001b[49m\u001b[43m(\u001b[49m\n\u001b[1;32m    175\u001b[0m \u001b[43m      \u001b[49m\u001b[43mvalue\u001b[49m\u001b[43m,\u001b[49m\u001b[43m \u001b[49m\u001b[43mtrajectory_spec\u001b[49m\u001b[43m,\u001b[49m\u001b[43m \u001b[49m\u001b[43mnum_outer_dims\u001b[49m\u001b[38;5;241;43m=\u001b[39;49m\u001b[43mnum_outer_dims\u001b[49m\u001b[43m,\u001b[49m\n\u001b[1;32m    176\u001b[0m \u001b[43m      \u001b[49m\u001b[43mallow_extra_fields\u001b[49m\u001b[38;5;241;43m=\u001b[39;49m\u001b[38;5;28;43;01mTrue\u001b[39;49;00m\u001b[43m)\u001b[49m:\n\u001b[1;32m    177\u001b[0m     debug_str_1 \u001b[38;5;241m=\u001b[39m tf\u001b[38;5;241m.\u001b[39mnest\u001b[38;5;241m.\u001b[39mmap_structure(\u001b[38;5;28;01mlambda\u001b[39;00m tp: tp\u001b[38;5;241m.\u001b[39mshape, value)\n\u001b[1;32m    178\u001b[0m     debug_str_2 \u001b[38;5;241m=\u001b[39m tf\u001b[38;5;241m.\u001b[39mnest\u001b[38;5;241m.\u001b[39mmap_structure(\n\u001b[1;32m    179\u001b[0m         \u001b[38;5;28;01mlambda\u001b[39;00m spec: spec\u001b[38;5;241m.\u001b[39mshape, trajectory_spec)\n",
      "File \u001b[0;32m/opt/conda/lib/python3.10/site-packages/tf_agents/utils/nest_utils.py:468\u001b[0m, in \u001b[0;36mis_batched_nested_tensors\u001b[0;34m(tensors, specs, num_outer_dims, allow_extra_fields, check_dtypes)\u001b[0m\n\u001b[1;32m    465\u001b[0m \u001b[38;5;28;01mif\u001b[39;00m allow_extra_fields:\n\u001b[1;32m    466\u001b[0m   tensors \u001b[38;5;241m=\u001b[39m prune_extra_keys(specs, tensors)\n\u001b[0;32m--> 468\u001b[0m \u001b[43massert_same_structure\u001b[49m\u001b[43m(\u001b[49m\n\u001b[1;32m    469\u001b[0m \u001b[43m    \u001b[49m\u001b[43mtensors\u001b[49m\u001b[43m,\u001b[49m\n\u001b[1;32m    470\u001b[0m \u001b[43m    \u001b[49m\u001b[43mspecs\u001b[49m\u001b[43m,\u001b[49m\n\u001b[1;32m    471\u001b[0m \u001b[43m    \u001b[49m\u001b[43mmessage\u001b[49m\u001b[38;5;241;43m=\u001b[39;49m\u001b[38;5;124;43m'\u001b[39;49m\u001b[38;5;124;43mTensors and specs do not have matching structures\u001b[39;49m\u001b[38;5;124;43m'\u001b[39;49m\u001b[43m)\u001b[49m\n\u001b[1;32m    472\u001b[0m flat_tensors \u001b[38;5;241m=\u001b[39m nest\u001b[38;5;241m.\u001b[39mflatten(tensors)\n\u001b[1;32m    473\u001b[0m flat_specs \u001b[38;5;241m=\u001b[39m tf\u001b[38;5;241m.\u001b[39mnest\u001b[38;5;241m.\u001b[39mflatten(specs)\n",
      "File \u001b[0;32m/opt/conda/lib/python3.10/site-packages/tf_agents/utils/nest_utils.py:124\u001b[0m, in \u001b[0;36massert_same_structure\u001b[0;34m(nest1, nest2, check_types, expand_composites, allow_shallow_nest1, message)\u001b[0m\n\u001b[1;32m    120\u001b[0m str1 \u001b[38;5;241m=\u001b[39m tf\u001b[38;5;241m.\u001b[39mnest\u001b[38;5;241m.\u001b[39mmap_structure(\n\u001b[1;32m    121\u001b[0m     \u001b[38;5;28;01mlambda\u001b[39;00m _: _DOT, nest1, expand_composites\u001b[38;5;241m=\u001b[39mexpand_composites)\n\u001b[1;32m    122\u001b[0m str2 \u001b[38;5;241m=\u001b[39m tf\u001b[38;5;241m.\u001b[39mnest\u001b[38;5;241m.\u001b[39mmap_structure(\n\u001b[1;32m    123\u001b[0m     \u001b[38;5;28;01mlambda\u001b[39;00m _: _DOT, nest2, expand_composites\u001b[38;5;241m=\u001b[39mexpand_composites)\n\u001b[0;32m--> 124\u001b[0m \u001b[38;5;28;01mraise\u001b[39;00m exception(\u001b[38;5;124m'\u001b[39m\u001b[38;5;132;01m{}\u001b[39;00m\u001b[38;5;124m:\u001b[39m\u001b[38;5;130;01m\\n\u001b[39;00m\u001b[38;5;124m  \u001b[39m\u001b[38;5;132;01m{}\u001b[39;00m\u001b[38;5;130;01m\\n\u001b[39;00m\u001b[38;5;124mvs.\u001b[39m\u001b[38;5;130;01m\\n\u001b[39;00m\u001b[38;5;124m  \u001b[39m\u001b[38;5;132;01m{}\u001b[39;00m\u001b[38;5;130;01m\\n\u001b[39;00m\u001b[38;5;124mValues:\u001b[39m\u001b[38;5;130;01m\\n\u001b[39;00m\u001b[38;5;124m  \u001b[39m\u001b[38;5;132;01m{}\u001b[39;00m\u001b[38;5;130;01m\\n\u001b[39;00m\u001b[38;5;124mvs.\u001b[39m\u001b[38;5;130;01m\\n\u001b[39;00m\u001b[38;5;124m  \u001b[39m\u001b[38;5;132;01m{}\u001b[39;00m\u001b[38;5;124m.\u001b[39m\u001b[38;5;124m'\u001b[39m\n\u001b[1;32m    125\u001b[0m                 \u001b[38;5;241m.\u001b[39mformat(message, str1, str2, nest1, nest2))\n",
      "\u001b[0;31mValueError\u001b[0m: Tensors and specs do not have matching structures:\n  Trajectory(\n{'action': .,\n 'discount': .,\n 'next_step_type': .,\n 'observation': {'global': .},\n 'policy_info': PerArmPolicyInfo(log_probability=(), predicted_rewards_mean=., multiobjective_scalarized_predicted_rewards_mean=(), predicted_rewards_optimistic=(), predicted_rewards_sampled=(), bandit_policy_type=(), chosen_arm_features=.),\n 'reward': .,\n 'step_type': .})\nvs.\n  Trajectory(\n{'action': .,\n 'discount': .,\n 'next_step_type': .,\n 'observation': DictWrapper({'global': ., 'num_actions': .}),\n 'policy_info': PerArmPolicyInfo(log_probability=(), predicted_rewards_mean=., multiobjective_scalarized_predicted_rewards_mean=(), predicted_rewards_optimistic=(), predicted_rewards_sampled=(), bandit_policy_type=(), chosen_arm_features=.),\n 'reward': .,\n 'step_type': .})\nValues:\n  Trajectory(\n{'action': <tf.Tensor 'experience_2:0' shape=(8,) dtype=int32>,\n 'discount': <tf.Tensor 'experience_7:0' shape=(8,) dtype=float32>,\n 'next_step_type': <tf.Tensor 'experience_5:0' shape=(8,) dtype=int32>,\n 'observation': {'global': <tf.Tensor 'experience_1:0' shape=(16,) dtype=float32>},\n 'policy_info': PerArmPolicyInfo(log_probability=(), predicted_rewards_mean=<tf.Tensor 'experience_3:0' shape=(8, 1) dtype=float32>, multiobjective_scalarized_predicted_rewards_mean=(), predicted_rewards_optimistic=(), predicted_rewards_sampled=(), bandit_policy_type=(), chosen_arm_features=<tf.Tensor 'experience_4:0' shape=(16,) dtype=float32>),\n 'reward': <tf.Tensor 'experience_6:0' shape=(8,) dtype=float32>,\n 'step_type': <tf.Tensor 'experience:0' shape=(8,) dtype=int32>})\nvs.\n  Trajectory(\n{'action': BoundedTensorSpec(shape=(), dtype=tf.int32, name='action_spec', minimum=array(0, dtype=int32), maximum=array(0, dtype=int32)),\n 'discount': BoundedTensorSpec(shape=(), dtype=tf.float32, name='discount', minimum=array(0., dtype=float32), maximum=array(1., dtype=float32)),\n 'next_step_type': TensorSpec(shape=(), dtype=tf.int32, name='step_type'),\n 'observation': DictWrapper({'global': TensorSpec(shape=(16,), dtype=tf.float32, name=None), 'num_actions': BoundedTensorSpec(shape=(), dtype=tf.int32, name=None, minimum=array(1, dtype=int32), maximum=array(1, dtype=int32))}),\n 'policy_info': PerArmPolicyInfo(log_probability=(), predicted_rewards_mean=TensorSpec(shape=(1,), dtype=tf.float32, name=None), multiobjective_scalarized_predicted_rewards_mean=(), predicted_rewards_optimistic=(), predicted_rewards_sampled=(), bandit_policy_type=(), chosen_arm_features=TensorSpec(shape=(16,), dtype=tf.float32, name=None)),\n 'reward': TensorSpec(shape=(), dtype=tf.float32, name='reward'),\n 'step_type': TensorSpec(shape=(), dtype=tf.int32, name='step_type')})."
     ]
    }
   ],
   "source": [
    "import collections\n",
    "from tf_agents.utils import common\n",
    "\n",
    "NUM_EPOCHS = 1\n",
    "\n",
    "# global_step = tf.compat.v1.train.get_global_step()\n",
    "\n",
    "# (Optional) Optimize by wrapping some of the code in a graph using TF function.\n",
    "agent.train = common.function(agent.train)\n",
    "\n",
    "# Reset the train step\n",
    "agent.train_step_counter.assign(0)\n",
    "\n",
    "train_loss = collections.defaultdict(list)\n",
    "\n",
    "for epoch in range(NUM_EPOCHS):\n",
    "    \n",
    "    iterator = iter(train_dataset.batch(HPARAMS['batch_size']))\n",
    "    data = next(iterator)\n",
    "    print(f\"print data: {data}\")\n",
    "    \n",
    "    trajectories = _trajectory_fn(data)\n",
    "    print(f\"print trajectories: {trajectories}\")\n",
    "    \n",
    "    # All tensors in experience must be shaped [batch, time, ...] \n",
    "    step = agent.train_step_counter.numpy()\n",
    "    \n",
    "    loss = agent.train(experience=trajectories)\n",
    "    \n",
    "    break\n",
    "    \n",
    "#     for x in train_dataset.batch(1).take(1): #HPARAMS['batch_size']).take(1):\n",
    "#         # print(f\"print X: {len(x)}\")\n",
    "#         # break\n",
    "#         step = agent.train_step_counter.numpy()\n",
    "#         print(f\"step X: {step}\")\n",
    "#         trajectories = _trajectory_fn(x)\n",
    "#         # print(f\"print trajectories: {trajectories}\")\n",
    "#         # break\n",
    "    \n",
    "#         loss = agent.train(experience=trajectories)\n",
    "\n",
    "#         train_loss[f\"epoch:{epoch + 1}\"].append(loss.numpy())\n",
    "    \n",
    "# train_outputs = collections.namedtuple(\n",
    "#     \"TrainOutputs\",[\"policy\", \"train_loss\"]\n",
    "# )\n",
    "\n",
    "# train_outputs(agent.policy, train_loss)"
   ]
  },
  {
   "cell_type": "code",
   "execution_count": 1395,
   "id": "cfdb8771-4b75-4632-873b-b07b0d71959e",
   "metadata": {},
   "outputs": [
    {
     "data": {
      "text/plain": [
       "Trajectory(\n",
       "{'action': <tf.Tensor: shape=(2,), dtype=int32, numpy=array([0, 0], dtype=int32)>,\n",
       " 'discount': <tf.Tensor: shape=(2,), dtype=float32, numpy=array([0., 0.], dtype=float32)>,\n",
       " 'next_step_type': <tf.Tensor: shape=(2,), dtype=int32, numpy=array([2, 2], dtype=int32)>,\n",
       " 'observation': {'global': <tf.Tensor: shape=(16, 1), dtype=float32, numpy=\n",
       "array([[-0.02599   ],\n",
       "       [-0.03078079],\n",
       "       [ 0.03106076],\n",
       "       [ 0.00133444],\n",
       "       [ 0.02207417],\n",
       "       [-0.02917665],\n",
       "       [ 0.02782809],\n",
       "       [-0.02822751],\n",
       "       [-0.04523091],\n",
       "       [ 0.0495333 ],\n",
       "       [-0.01482558],\n",
       "       [-0.04208376],\n",
       "       [ 0.00741076],\n",
       "       [-0.04264941],\n",
       "       [ 0.00693322],\n",
       "       [-0.03396516]], dtype=float32)>},\n",
       " 'policy_info': PerArmPolicyInfo(log_probability=(), predicted_rewards_mean=<tf.Tensor: shape=(3,), dtype=float32, numpy=array([0., 0., 0.], dtype=float32)>, multiobjective_scalarized_predicted_rewards_mean=(), predicted_rewards_optimistic=(), predicted_rewards_sampled=(), bandit_policy_type=(), chosen_arm_features=<tf.Tensor: shape=(16,), dtype=float32, numpy=\n",
       "array([-0.02780459, -0.00370889, -0.02864446, -0.02917221, -0.01603731,\n",
       "        0.02465415,  0.01583499, -0.03253644,  0.03956462,  0.04351255,\n",
       "        0.01470714,  0.04936441,  0.01360733, -0.0412104 ,  0.02928157,\n",
       "        0.01699198], dtype=float32)>),\n",
       " 'reward': <tf.Tensor: shape=(2,), dtype=float32, numpy=array([4., 4.], dtype=float32)>,\n",
       " 'step_type': <tf.Tensor: shape=(2,), dtype=int32, numpy=array([0, 0], dtype=int32)>})"
      ]
     },
     "execution_count": 1395,
     "metadata": {},
     "output_type": "execute_result"
    }
   ],
   "source": [
    "trajectories"
   ]
  },
  {
   "cell_type": "code",
   "execution_count": 1501,
   "id": "77efee76-7c6b-4911-b1b9-165f68029adf",
   "metadata": {},
   "outputs": [],
   "source": [
    "from tf_agents.trajectories import trajectory\n",
    "from tf_agents import trajectories\n",
    "from typing import Any, Dict, List\n",
    "\n",
    "def get_trajectory_from_environment(element): # hparams\n",
    "    \"\"\"Converts a dataset element into a trajectory.\"\"\"\n",
    "    \n",
    "    orig_trajectory = agent.policy.trajectory_spec\n",
    "    # print(f\"orig_trajectory.step_type: {orig_trajectory.step_type}\")\n",
    "    # print(f\"orig_trajectory.next_step_type: {orig_trajectory.next_step_type}\")\n",
    "    \n",
    "    global_features = _get_global_context_features(element)\n",
    "    arm_features = _get_per_arm_features(element)\n",
    "    \n",
    "    # Adds a time dimension.\n",
    "    # arm_features = _add_outer_dimension(arm_features)\n",
    "    observation = {\n",
    "        bandit_spec_utils.GLOBAL_FEATURE_KEY:\n",
    "            global_features,\n",
    "            # _add_outer_dimension(global_features)\n",
    "        # bandit_spec_utils.PER_ARM_FEATURE_KEY:\n",
    "        #     _add_outer_dimension(arm_features),\n",
    "    }\n",
    "    \n",
    "    # reward = _add_outer_dimension(_get_rewards(element))\n",
    "    reward = _get_rewards(element)\n",
    "    # print(f\"reward:  {reward}\")\n",
    "    # print(f\"reward shape:  {tf.shape(reward).numpy()}\")\n",
    "    \n",
    "    reward_2 = tf.expand_dims(reward, 0)\n",
    "    # print(f\"reward_2:  {reward_2}\")\n",
    "    # print(f\"reward_2 shape:  {tf.shape(reward_2).numpy()}\")\n",
    "    \n",
    "    \n",
    "    dummy_rewards = tf.zeros([HPARAMS['num_docs_to_rank']])\n",
    "    policy_info = policy_utilities.PerArmPolicyInfo(\n",
    "        chosen_arm_features=arm_features,\n",
    "        predicted_rewards_mean=dummy_rewards\n",
    "    )\n",
    "    if HPARAMS['model_type'] == 'neural_ucb':\n",
    "        policy_info = policy_info._replace(\n",
    "            predicted_rewards_optimistic=dummy_rewards\n",
    "        )\n",
    "        \n",
    "    # observation\n",
    "    obs = observation['global']\n",
    "    # print(f\"obs:  {obs}\")\n",
    "    # print(f\"obs shape:  {tf.shape(obs).numpy()}\")\n",
    "    \n",
    "    obs_2 = tf.expand_dims(obs, 0)\n",
    "    # print(f\"obs_2:  {obs_2}\")\n",
    "    # print(f\"obs_2 shape:  {tf.shape(obs_2).numpy()}\")\n",
    "    \n",
    "    return trajectory.Trajectory(\n",
    "        observation=obs_2,\n",
    "        action=tf.zeros_like(\n",
    "            reward_2, dtype=tf.int32\n",
    "        ),  # Arm features are copied from policy info, put dummy zeros here\n",
    "        policy_info=policy_info,\n",
    "        reward=reward_2,\n",
    "        discount=tf.zeros_like(reward_2),\n",
    "        step_type=orig_trajectory.step_type,\n",
    "        next_step_type=orig_trajectory.next_step_type\n",
    "    )\n",
    "\n",
    "def build_dict_from_trajectory(\n",
    "    step: int,\n",
    "    next_step: int,\n",
    "    trajectory: trajectories.Trajectory) -> Dict[str, Any]:\n",
    "    \"\"\"Builds a dict from `trajectory` data.\n",
    "\n",
    "    Args:\n",
    "    trajectory: A `trajectories.Trajectory` object.\n",
    "\n",
    "    Returns:\n",
    "    A dict holding the same data as `trajectory`.\n",
    "    \"\"\"\n",
    "    trajectory_dict = {\n",
    "        \"step_type\": [step].numpy(),\n",
    "        \"observation\": [{\n",
    "            \"observation_batch\": batch\n",
    "        } for batch in trajectory.observation.numpy().tolist()],\n",
    "        \"action\": trajectory.action.numpy().tolist(),\n",
    "        \"policy_info\": trajectory.policy_info,\n",
    "        \"next_step_type\": [next_step],\n",
    "        \"reward\": trajectory.reward.numpy().tolist(),\n",
    "        \"discount\": trajectory.discount.numpy().tolist(),\n",
    "    }\n",
    "    return trajectory_dict"
   ]
  },
  {
   "cell_type": "code",
   "execution_count": 1511,
   "id": "47ec38ec-b5f8-4d6c-b413-f9470fe8140a",
   "metadata": {},
   "outputs": [
    {
     "data": {
      "text/plain": [
       "[5]"
      ]
     },
     "execution_count": 1511,
     "metadata": {},
     "output_type": "execute_result"
    }
   ],
   "source": [
    "step=5\n",
    "\n",
    "[step]"
   ]
  },
  {
   "cell_type": "code",
   "execution_count": 1516,
   "id": "7b20f4ec-09ad-4037-ae74-aee98b85f6ed",
   "metadata": {},
   "outputs": [
    {
     "data": {
      "text/plain": [
       "<module 'tf_agents.trajectories' from '/opt/conda/lib/python3.10/site-packages/tf_agents/trajectories/__init__.py'>"
      ]
     },
     "execution_count": 1516,
     "metadata": {},
     "output_type": "execute_result"
    }
   ],
   "source": [
    "trajectories#.reward.numpy().tolist()"
   ]
  },
  {
   "cell_type": "code",
   "execution_count": 1512,
   "id": "ad148f57-8156-49b2-a5a4-1ce360d540b6",
   "metadata": {},
   "outputs": [
    {
     "data": {
      "text/plain": [
       "<module 'tf_agents.trajectories.trajectory' from '/opt/conda/lib/python3.10/site-packages/tf_agents/trajectories/trajectory.py'>"
      ]
     },
     "execution_count": 1512,
     "metadata": {},
     "output_type": "execute_result"
    }
   ],
   "source": [
    "trajectory"
   ]
  },
  {
   "cell_type": "code",
   "execution_count": 1488,
   "id": "1c8156e2-15bf-413f-a25a-abc0bf60ecb5",
   "metadata": {},
   "outputs": [],
   "source": [
    "VERSION = 'v1'\n",
    "\n",
    "DATASET_FILE = f'{VERSION}-off-policy-trajectories.json'\n",
    "!touch $DATASET_FILE"
   ]
  },
  {
   "cell_type": "code",
   "execution_count": 1491,
   "id": "12bce6a7-02cb-44bc-a3ba-3652e7cbe018",
   "metadata": {},
   "outputs": [
    {
     "name": "stdout",
     "output_type": "stream",
     "text": [
      "dataset_size: 20000\n",
      "small_count: 200.0\n"
     ]
    }
   ],
   "source": [
    "dataset_size = len(list(train_dataset))\n",
    "print(f\"dataset_size: {dataset_size}\")\n",
    "\n",
    "small_count = dataset_size/100\n",
    "print(f\"small_count: {small_count}\")"
   ]
  },
  {
   "cell_type": "code",
   "execution_count": 1580,
   "id": "2853014b-613f-4b9a-a6a8-31567f5c3efb",
   "metadata": {},
   "outputs": [],
   "source": [
    "import time\n",
    "import json\n",
    "\n",
    "def write_trajectories_to_file(\n",
    "    dataset_size: int,\n",
    "    data_file: str,\n",
    "    batch_size: int,\n",
    "):\n",
    "    batched_dataset = train_dataset.batch(batch_size)\n",
    "    print(f\"writting file...\")\n",
    "    \n",
    "    data_list = []\n",
    "    \n",
    "    start_time = time.time()\n",
    "    step = 1\n",
    "    with open(data_file, \"w\") as f:\n",
    "        for x in batched_dataset.take(count=dataset_size):\n",
    "            # print(f\"step: {step}\")\n",
    "            nexx_step = step + 1\n",
    "            # print(f\"nexx_step: {nexx_step}\")\n",
    "\n",
    "            single_traj = get_trajectory_from_environment(x)\n",
    "            print(single_traj)\n",
    "            \n",
    "            _trajectory_dict = build_dict_from_trajectory(step=step, next_step=nexx_step, trajectory=single_traj)\n",
    "            # print(type(trajectory_dict))\n",
    "            decoded = _trajectory_dict.decode('utf-8')\n",
    "            print(f\"decoded: {decoded}\")\n",
    "            data_list.append(_trajectory_dict)\n",
    "\n",
    "            step+=1\n",
    "            \n",
    "            break\n",
    "            \n",
    "        for entry in data_list:\n",
    "            traj_dict_tmp = {}\n",
    "            traj_dict_tmp['step_type'] = entry['step_type']\n",
    "            traj_dict_tmp['observation'] = entry['observation']\n",
    "            traj_dict_tmp['action'] = entry['action']\n",
    "            traj_dict_tmp['policy_info'] = entry['policy_info']\n",
    "            traj_dict_tmp['next_step_type'] = entry['next_step_type']\n",
    "            traj_dict_tmp['reward'] = entry['reward']\n",
    "            traj_dict_tmp['discount'] = entry['discount']\n",
    "            \n",
    "            # f.write(json.dumps(traj_dict_tmp) + \"\\n\")\n",
    "            \n",
    "        print(f\"writting to file complete...\")\n",
    "\n",
    "    end_time = time.time()\n",
    "    runtime_mins = int((end_time - start_time) / 60)\n",
    "    print(f\"runtime_mins: {runtime_mins}\")\n",
    "\n",
    "    return data_list"
   ]
  },
  {
   "cell_type": "code",
   "execution_count": 1581,
   "id": "d1fd03bf-6fb3-4da7-82c7-99cf394d077d",
   "metadata": {},
   "outputs": [
    {
     "name": "stdout",
     "output_type": "stream",
     "text": [
      "writting file...\n",
      "Trajectory(\n",
      "{'action': <tf.Tensor: shape=(1, 2), dtype=int32, numpy=array([[0, 0]], dtype=int32)>,\n",
      " 'discount': <tf.Tensor: shape=(1, 2), dtype=float32, numpy=array([[0., 0.]], dtype=float32)>,\n",
      " 'next_step_type': TensorSpec(shape=(), dtype=tf.int32, name='step_type'),\n",
      " 'observation': <tf.Tensor: shape=(1, 16), dtype=float32, numpy=\n",
      "array([[-0.02599   , -0.03078079,  0.03106076,  0.00133444,  0.02207417,\n",
      "        -0.02917665,  0.02782809, -0.02822751, -0.04523091,  0.0495333 ,\n",
      "        -0.01482558, -0.04208376,  0.00741076, -0.04264941,  0.00693322,\n",
      "        -0.03396516]], dtype=float32)>,\n",
      " 'policy_info': PerArmPolicyInfo(log_probability=(), predicted_rewards_mean=<tf.Tensor: shape=(3,), dtype=float32, numpy=array([0., 0., 0.], dtype=float32)>, multiobjective_scalarized_predicted_rewards_mean=(), predicted_rewards_optimistic=(), predicted_rewards_sampled=(), bandit_policy_type=(), chosen_arm_features=array([-0.02780459, -0.00370889, -0.02864446, -0.02917221, -0.01603731,\n",
      "        0.02465415,  0.01583499, -0.03253644,  0.03956462,  0.04351255,\n",
      "        0.01470714,  0.04936441,  0.01360733, -0.0412104 ,  0.02928157,\n",
      "        0.01699198], dtype=float32)),\n",
      " 'reward': <tf.Tensor: shape=(1, 2), dtype=float32, numpy=array([[4., 4.]], dtype=float32)>,\n",
      " 'step_type': TensorSpec(shape=(), dtype=tf.int32, name='step_type')})\n"
     ]
    },
    {
     "ename": "AttributeError",
     "evalue": "'dict' object has no attribute 'decode'",
     "output_type": "error",
     "traceback": [
      "\u001b[0;31m---------------------------------------------------------------------------\u001b[0m",
      "\u001b[0;31mAttributeError\u001b[0m                            Traceback (most recent call last)",
      "Cell \u001b[0;32mIn[1581], line 1\u001b[0m\n\u001b[0;32m----> 1\u001b[0m sample_data_list \u001b[38;5;241m=\u001b[39m \u001b[43mwrite_trajectories_to_file\u001b[49m\u001b[43m(\u001b[49m\n\u001b[1;32m      2\u001b[0m \u001b[43m    \u001b[49m\u001b[43mdataset_size\u001b[49m\u001b[38;5;241;43m=\u001b[39;49m\u001b[38;5;28;43mint\u001b[39;49m\u001b[43m(\u001b[49m\u001b[43msmall_count\u001b[49m\u001b[43m)\u001b[49m\u001b[43m,\u001b[49m\n\u001b[1;32m      3\u001b[0m \u001b[43m    \u001b[49m\u001b[43mdata_file\u001b[49m\u001b[38;5;241;43m=\u001b[39;49m\u001b[43mDATASET_FILE\u001b[49m\u001b[43m,\u001b[49m\n\u001b[1;32m      4\u001b[0m \u001b[43m    \u001b[49m\u001b[43mbatch_size\u001b[49m\u001b[38;5;241;43m=\u001b[39;49m\u001b[38;5;241;43m2\u001b[39;49m\n\u001b[1;32m      5\u001b[0m \u001b[43m)\u001b[49m\n\u001b[1;32m      7\u001b[0m sample_data_list[\u001b[38;5;241m0\u001b[39m]\n",
      "Cell \u001b[0;32mIn[1580], line 27\u001b[0m, in \u001b[0;36mwrite_trajectories_to_file\u001b[0;34m(dataset_size, data_file, batch_size)\u001b[0m\n\u001b[1;32m     25\u001b[0m _trajectory_dict \u001b[38;5;241m=\u001b[39m build_dict_from_trajectory(step\u001b[38;5;241m=\u001b[39mstep, next_step\u001b[38;5;241m=\u001b[39mnexx_step, trajectory\u001b[38;5;241m=\u001b[39msingle_traj)\n\u001b[1;32m     26\u001b[0m \u001b[38;5;66;03m# print(type(trajectory_dict))\u001b[39;00m\n\u001b[0;32m---> 27\u001b[0m decoded \u001b[38;5;241m=\u001b[39m \u001b[43m_trajectory_dict\u001b[49m\u001b[38;5;241;43m.\u001b[39;49m\u001b[43mdecode\u001b[49m(\u001b[38;5;124m'\u001b[39m\u001b[38;5;124mutf-8\u001b[39m\u001b[38;5;124m'\u001b[39m)\n\u001b[1;32m     28\u001b[0m \u001b[38;5;28mprint\u001b[39m(\u001b[38;5;124mf\u001b[39m\u001b[38;5;124m\"\u001b[39m\u001b[38;5;124mdecoded: \u001b[39m\u001b[38;5;132;01m{\u001b[39;00mdecoded\u001b[38;5;132;01m}\u001b[39;00m\u001b[38;5;124m\"\u001b[39m)\n\u001b[1;32m     29\u001b[0m data_list\u001b[38;5;241m.\u001b[39mappend(_trajectory_dict)\n",
      "\u001b[0;31mAttributeError\u001b[0m: 'dict' object has no attribute 'decode'"
     ]
    }
   ],
   "source": [
    "sample_data_list = write_trajectories_to_file(\n",
    "    dataset_size=int(small_count),\n",
    "    data_file=DATASET_FILE,\n",
    "    batch_size=2\n",
    ")\n",
    "\n",
    "sample_data_list[0]"
   ]
  },
  {
   "cell_type": "code",
   "execution_count": 1575,
   "id": "48a01e65-0ba3-4ea1-b011-bb80581ae351",
   "metadata": {
    "tags": []
   },
   "outputs": [
    {
     "data": {
      "text/plain": [
       "dict"
      ]
     },
     "execution_count": 1575,
     "metadata": {},
     "output_type": "execute_result"
    }
   ],
   "source": [
    "# for entry in _trajectory_dict:\n",
    "#     print(type(entry))\n",
    "#     print(entry)\n",
    "\n",
    "for entry in sample_data_list:\n",
    "    traj_dict_tmp = {}\n",
    "    traj_dict_tmp['step_type'] = entry['step_type']\n",
    "    # print(f\"traj_dict_tmp: {traj_dict_tmp}\")\n",
    "    \n",
    "    traj_dict_tmp['observation'] = entry['observation']\n",
    "    # print(f\"traj_dict_tmp: {traj_dict_tmp}\")\n",
    "    \n",
    "    traj_dict_tmp['action'] = entry['action']\n",
    "    traj_dict_tmp['policy_info'] = entry['policy_info']\n",
    "    traj_dict_tmp['next_step_type'] = entry['next_step_type']\n",
    "    traj_dict_tmp['reward'] = entry['reward']\n",
    "    traj_dict_tmp['discount'] = entry['discount']\n",
    "    \n",
    "type(traj_dict_tmp)"
   ]
  },
  {
   "cell_type": "code",
   "execution_count": 1571,
   "id": "191dbd66-d61f-4055-8d41-9a56f20d6fa2",
   "metadata": {},
   "outputs": [
    {
     "data": {
      "text/plain": [
       "{'step_type': [10],\n",
       " 'observation': [{'observation_batch': [0.01847800239920616,\n",
       "    0.02198561653494835,\n",
       "    0.014523360878229141,\n",
       "    0.030534852296113968,\n",
       "    -0.042274583131074905,\n",
       "    0.042358625680208206,\n",
       "    -0.03376084566116333,\n",
       "    -0.02007082663476467,\n",
       "    -0.034898411482572556,\n",
       "    -0.0003517270088195801,\n",
       "    0.044689346104860306,\n",
       "    0.03770342841744423,\n",
       "    0.047657739371061325,\n",
       "    -0.0015833377838134766,\n",
       "    0.010477341711521149,\n",
       "    0.044041361659765244]}],\n",
       " 'action': [[0, 0]],\n",
       " 'policy_info': PerArmPolicyInfo(log_probability=(), predicted_rewards_mean=<tf.Tensor: shape=(3,), dtype=float32, numpy=array([0., 0., 0.], dtype=float32)>, multiobjective_scalarized_predicted_rewards_mean=(), predicted_rewards_optimistic=(), predicted_rewards_sampled=(), bandit_policy_type=(), chosen_arm_features=array([-0.03809992, -0.03608539,  0.03337479,  0.02976027,  0.02404537,\n",
       "         0.02131835, -0.03314126, -0.03678827,  0.04321641, -0.03485628,\n",
       "         0.02968835,  0.00450085, -0.01462041,  0.04984425, -0.00887213,\n",
       "        -0.04515211], dtype=float32)),\n",
       " 'next_step_type': [11],\n",
       " 'reward': [[4.0, 10.0]],\n",
       " 'discount': [[0.0, 0.0]]}"
      ]
     },
     "execution_count": 1571,
     "metadata": {},
     "output_type": "execute_result"
    }
   ],
   "source": [
    "traj_dict_tmp"
   ]
  },
  {
   "cell_type": "code",
   "execution_count": 1577,
   "id": "3b6f1598-be46-4398-9eec-32e609b7dc6c",
   "metadata": {},
   "outputs": [],
   "source": [
    "# with open(DATASET_FILE, \"w\") as f:\n",
    "#     f.write(json.dump(traj_dict_tmp, f) + \"\\n\")"
   ]
  },
  {
   "cell_type": "code",
   "execution_count": 1557,
   "id": "8c850d51-eb5b-4cdf-9f5b-bd0853a39c3a",
   "metadata": {},
   "outputs": [
    {
     "data": {
      "text/plain": [
       "[{'observation_batch': [-0.025989998131990433,\n",
       "   -0.030780792236328125,\n",
       "   0.031060758978128433,\n",
       "   0.0013344399631023407,\n",
       "   0.02207416668534279,\n",
       "   -0.029176652431488037,\n",
       "   0.02782808616757393,\n",
       "   -0.028227508068084717,\n",
       "   -0.045230913907289505,\n",
       "   0.04953329637646675,\n",
       "   -0.014825582504272461,\n",
       "   -0.04208376258611679,\n",
       "   0.007410764694213867,\n",
       "   -0.042649414390325546,\n",
       "   0.006933223456144333,\n",
       "   -0.033965159207582474]}]"
      ]
     },
     "execution_count": 1557,
     "metadata": {},
     "output_type": "execute_result"
    }
   ],
   "source": [
    "sample_data_list[0]['observation']"
   ]
  },
  {
   "cell_type": "code",
   "execution_count": 1553,
   "id": "0205d198-cff8-461c-935e-eaaf79034e40",
   "metadata": {},
   "outputs": [
    {
     "name": "stdout",
     "output_type": "stream",
     "text": [
      "step_type\n"
     ]
    },
    {
     "ename": "AttributeError",
     "evalue": "'str' object has no attribute 'step_type'",
     "output_type": "error",
     "traceback": [
      "\u001b[0;31m---------------------------------------------------------------------------\u001b[0m",
      "\u001b[0;31mAttributeError\u001b[0m                            Traceback (most recent call last)",
      "Cell \u001b[0;32mIn[1553], line 4\u001b[0m\n\u001b[1;32m      2\u001b[0m \u001b[38;5;28;01mfor\u001b[39;00m entry \u001b[38;5;129;01min\u001b[39;00m sample_data_list[\u001b[38;5;241m0\u001b[39m]:\n\u001b[1;32m      3\u001b[0m     \u001b[38;5;28mprint\u001b[39m(entry) \u001b[38;5;66;03m#['observation']\u001b[39;00m\n\u001b[0;32m----> 4\u001b[0m     \u001b[38;5;28mprint\u001b[39m(\u001b[43mentry\u001b[49m\u001b[38;5;241;43m.\u001b[39;49m\u001b[43mstep_type\u001b[49m)\n",
      "\u001b[0;31mAttributeError\u001b[0m: 'str' object has no attribute 'step_type'"
     ]
    }
   ],
   "source": [
    "# sample_data_list[0]['step_type']\n",
    "for entry in sample_data_list[0]:\n",
    "    print(entry) #['observation']\n",
    "    print(entry.step_type)"
   ]
  },
  {
   "cell_type": "code",
   "execution_count": null,
   "id": "b129a381-c108-4a37-9914-6a8b79db7d50",
   "metadata": {},
   "outputs": [],
   "source": [
    "train_utils.upload_blob(\n",
    "    bucket_name='two-tower-models',\n",
    "    source_file_name=CANDIDATE_EMB_JSON,\n",
    "    destination_blob_name=f'{RUN_NAME}/candidates/candidate_embeddings.json'\n",
    ")"
   ]
  },
  {
   "cell_type": "code",
   "execution_count": 1498,
   "id": "766414fb-30aa-4c16-a8d4-66ee79a8be3d",
   "metadata": {},
   "outputs": [
    {
     "name": "stdout",
     "output_type": "stream",
     "text": [
      "{'bucketized_user_age': <tf.Tensor: shape=(2,), dtype=float32, numpy=array([25., 45.], dtype=float32)>, 'movie_genres': <tf.Tensor: shape=(2, 1), dtype=int64, numpy=\n",
      "array([[4],\n",
      "       [7]])>, 'movie_id': <tf.Tensor: shape=(2,), dtype=string, numpy=array([b'211', b'678'], dtype=object)>, 'timestamp': <tf.Tensor: shape=(2,), dtype=int64, numpy=array([874948475, 888638193])>, 'user_id': <tf.Tensor: shape=(2,), dtype=string, numpy=array([b'346', b'602'], dtype=object)>, 'user_occupation_text': <tf.Tensor: shape=(2,), dtype=string, numpy=array([b'other', b'other'], dtype=object)>, 'user_rating': <tf.Tensor: shape=(2,), dtype=float32, numpy=array([4., 4.], dtype=float32)>}\n"
     ]
    }
   ],
   "source": [
    "batched_dataset = train_dataset.batch(2)\n",
    "\n",
    "for example in batched_dataset.take(count=10):\n",
    "    print(example)\n",
    "    # print(example[0])\n",
    "    break\n",
    "    # traj_dict = build_dict_from_trajectory(example[0])"
   ]
  },
  {
   "cell_type": "code",
   "execution_count": 1420,
   "id": "3f2df15f-6746-4ef4-b93f-b35c89bba2fa",
   "metadata": {},
   "outputs": [
    {
     "name": "stdout",
     "output_type": "stream",
     "text": [
      "test: 16\n",
      "[16  1]\n",
      "thingy: [[[-0.02599   ]\n",
      "  [-0.03078079]\n",
      "  [ 0.03106076]\n",
      "  [ 0.00133444]\n",
      "  [ 0.02207417]\n",
      "  [-0.02917665]\n",
      "  [ 0.02782809]\n",
      "  [-0.02822751]\n",
      "  [-0.04523091]\n",
      "  [ 0.0495333 ]\n",
      "  [-0.01482558]\n",
      "  [-0.04208376]\n",
      "  [ 0.00741076]\n",
      "  [-0.04264941]\n",
      "  [ 0.00693322]\n",
      "  [-0.03396516]]]\n",
      "[ 1 16  1]\n"
     ]
    }
   ],
   "source": [
    "# len(thing['global'].numpy().tolist())\n",
    "test = thing['global'].numpy().tolist()\n",
    "print(f\"test: {len(test)}\")\n",
    "print(tf.shape(test).numpy())\n",
    "\n",
    "thingy = tf.expand_dims(test, axis=0)\n",
    "print(f\"thingy: {thingy}\")\n",
    "print(tf.shape(thingy).numpy())"
   ]
  },
  {
   "cell_type": "code",
   "execution_count": 1422,
   "id": "a529c4c0-9960-42ae-9f46-5609811932d6",
   "metadata": {},
   "outputs": [
    {
     "name": "stdout",
     "output_type": "stream",
     "text": [
      "[2 2 3]\n",
      "[2 3 2]\n"
     ]
    }
   ],
   "source": [
    "x = tf.constant([[[ 1,  2,  3],\n",
    "                  [ 4,  5,  6]],\n",
    "                 [[ 7,  8,  9],\n",
    "                  [10, 11, 12]]])\n",
    "print(tf.shape(x).numpy())\n",
    "\n",
    "y = tf.transpose(x, perm=[0, 2, 1])\n",
    "print(tf.shape(y).numpy())"
   ]
  },
  {
   "cell_type": "code",
   "execution_count": 424,
   "id": "6728f217-d1b1-4a96-b832-b63474f03380",
   "metadata": {
    "collapsed": true,
    "jupyter": {
     "outputs_hidden": true
    },
    "tags": []
   },
   "outputs": [
    {
     "name": "stdout",
     "output_type": "stream",
     "text": [
      "reward: [[  4.]\n",
      " [  4.]\n",
      " [-10.]\n",
      " [ 10.]\n",
      " [  3.]\n",
      " [  2.]\n",
      " [ 10.]\n",
      " [ 10.]]\n",
      "dummy_rewards: [[0. 0. 0.]\n",
      " [0. 0. 0.]\n",
      " [0. 0. 0.]\n",
      " [0. 0. 0.]\n",
      " [0. 0. 0.]\n",
      " [0. 0. 0.]\n",
      " [0. 0. 0.]\n",
      " [0. 0. 0.]]\n",
      "Trajectory(\n",
      "{'action': <tf.Tensor: shape=(8, 1), dtype=int32, numpy=\n",
      "array([[0],\n",
      "       [0],\n",
      "       [0],\n",
      "       [0],\n",
      "       [0],\n",
      "       [0],\n",
      "       [0],\n",
      "       [0]], dtype=int32)>,\n",
      " 'discount': <tf.Tensor: shape=(8, 1), dtype=float32, numpy=\n",
      "array([[0.],\n",
      "       [0.],\n",
      "       [0.],\n",
      "       [0.],\n",
      "       [0.],\n",
      "       [0.],\n",
      "       [0.],\n",
      "       [0.]], dtype=float32)>,\n",
      " 'next_step_type': <tf.Tensor: shape=(8, 1), dtype=int32, numpy=\n",
      "array([[2],\n",
      "       [2],\n",
      "       [2],\n",
      "       [2],\n",
      "       [2],\n",
      "       [2],\n",
      "       [2],\n",
      "       [2]], dtype=int32)>,\n",
      " 'observation': {'global': <tf.Tensor: shape=(16, 1), dtype=float32, numpy=\n",
      "array([[-0.02599   ],\n",
      "       [-0.03078079],\n",
      "       [ 0.03106076],\n",
      "       [ 0.00133444],\n",
      "       [ 0.02207417],\n",
      "       [-0.02917665],\n",
      "       [ 0.02782809],\n",
      "       [-0.02822751],\n",
      "       [-0.04523091],\n",
      "       [ 0.0495333 ],\n",
      "       [-0.01482558],\n",
      "       [-0.04208376],\n",
      "       [ 0.00741076],\n",
      "       [-0.04264941],\n",
      "       [ 0.00693322],\n",
      "       [-0.03396516]], dtype=float32)>},\n",
      " 'policy_info': PerArmPolicyInfo(log_probability=(), predicted_rewards_mean=<tf.Tensor: shape=(8, 3), dtype=float32, numpy=\n",
      "array([[0., 0., 0.],\n",
      "       [0., 0., 0.],\n",
      "       [0., 0., 0.],\n",
      "       [0., 0., 0.],\n",
      "       [0., 0., 0.],\n",
      "       [0., 0., 0.],\n",
      "       [0., 0., 0.],\n",
      "       [0., 0., 0.]], dtype=float32)>, multiobjective_scalarized_predicted_rewards_mean=(), predicted_rewards_optimistic=(), predicted_rewards_sampled=(), bandit_policy_type=(), chosen_arm_features=<tf.Tensor: shape=(16, 1), dtype=float32, numpy=\n",
      "array([[-0.02780459],\n",
      "       [-0.00370889],\n",
      "       [-0.02864446],\n",
      "       [-0.02917221],\n",
      "       [-0.01603731],\n",
      "       [ 0.02465415],\n",
      "       [ 0.01583499],\n",
      "       [-0.03253644],\n",
      "       [ 0.03956462],\n",
      "       [ 0.04351255],\n",
      "       [ 0.01470714],\n",
      "       [ 0.04936441],\n",
      "       [ 0.01360733],\n",
      "       [-0.0412104 ],\n",
      "       [ 0.02928157],\n",
      "       [ 0.01699198]], dtype=float32)>),\n",
      " 'reward': <tf.Tensor: shape=(8, 1), dtype=float32, numpy=\n",
      "array([[  4.],\n",
      "       [  4.],\n",
      "       [-10.],\n",
      "       [ 10.],\n",
      "       [  3.],\n",
      "       [  2.],\n",
      "       [ 10.],\n",
      "       [ 10.]], dtype=float32)>,\n",
      " 'step_type': <tf.Tensor: shape=(8, 1), dtype=int32, numpy=\n",
      "array([[0],\n",
      "       [0],\n",
      "       [0],\n",
      "       [0],\n",
      "       [0],\n",
      "       [0],\n",
      "       [0],\n",
      "       [0]], dtype=int32)>})\n"
     ]
    },
    {
     "ename": "ValueError",
     "evalue": "Received a mix of batched and unbatched Tensors, or Tensors are not compatible with Specs.  num_outer_dims: 2.\nSaw tensor_shapes:\n   Trajectory(\n{'action': TensorShape([8, 1]),\n 'discount': TensorShape([8, 1]),\n 'next_step_type': TensorShape([8, 1]),\n 'observation': DictWrapper({'global': TensorShape([16, 1])}),\n 'policy_info': PerArmPolicyInfo(log_probability=(), predicted_rewards_mean=TensorShape([8, 3]), multiobjective_scalarized_predicted_rewards_mean=(), predicted_rewards_optimistic=(), predicted_rewards_sampled=(), bandit_policy_type=(), chosen_arm_features=TensorShape([16, 1])),\n 'reward': TensorShape([8, 1]),\n 'step_type': TensorShape([8, 1])})\nAnd spec_shapes:\n   Trajectory(\n{'action': TensorShape([]),\n 'discount': TensorShape([]),\n 'next_step_type': TensorShape([]),\n 'observation': DictWrapper({'global': TensorShape([16])}),\n 'policy_info': PerArmPolicyInfo(log_probability=(), predicted_rewards_mean=TensorShape([3]), multiobjective_scalarized_predicted_rewards_mean=(), predicted_rewards_optimistic=(), predicted_rewards_sampled=(), bandit_policy_type=(), chosen_arm_features=TensorShape([16])),\n 'reward': TensorShape([]),\n 'step_type': TensorShape([])})",
     "output_type": "error",
     "traceback": [
      "\u001b[0;31m---------------------------------------------------------------------------\u001b[0m",
      "\u001b[0;31mValueError\u001b[0m                                Traceback (most recent call last)",
      "Cell \u001b[0;32mIn[424], line 11\u001b[0m\n\u001b[1;32m      9\u001b[0m         trajectory \u001b[38;5;241m=\u001b[39m _trajectory_fn(parsed_record, HPARAMS)\n\u001b[1;32m     10\u001b[0m         \u001b[38;5;28mprint\u001b[39m(trajectory)\n\u001b[0;32m---> 11\u001b[0m         loss, _ \u001b[38;5;241m=\u001b[39m \u001b[43magent\u001b[49m\u001b[38;5;241;43m.\u001b[39;49m\u001b[43mtrain\u001b[49m\u001b[43m(\u001b[49m\u001b[43mtrajectory\u001b[49m\u001b[43m)\u001b[49m\n\u001b[1;32m     12\u001b[0m         train_loss[\u001b[38;5;124mf\u001b[39m\u001b[38;5;124m\"\u001b[39m\u001b[38;5;124mepoch:\u001b[39m\u001b[38;5;132;01m{\u001b[39;00mepoch\u001b[38;5;250m \u001b[39m\u001b[38;5;241m+\u001b[39m\u001b[38;5;250m \u001b[39m\u001b[38;5;241m1\u001b[39m\u001b[38;5;132;01m}\u001b[39;00m\u001b[38;5;124m\"\u001b[39m]\u001b[38;5;241m.\u001b[39mappend(loss\u001b[38;5;241m.\u001b[39mnumpy())\n\u001b[1;32m     14\u001b[0m train_outputs \u001b[38;5;241m=\u001b[39m collections\u001b[38;5;241m.\u001b[39mnamedtuple(\n\u001b[1;32m     15\u001b[0m     \u001b[38;5;124m\"\u001b[39m\u001b[38;5;124mTrainOutputs\u001b[39m\u001b[38;5;124m\"\u001b[39m,[\u001b[38;5;124m\"\u001b[39m\u001b[38;5;124mpolicy\u001b[39m\u001b[38;5;124m\"\u001b[39m, \u001b[38;5;124m\"\u001b[39m\u001b[38;5;124mtrain_loss\u001b[39m\u001b[38;5;124m\"\u001b[39m]\n\u001b[1;32m     16\u001b[0m )\n",
      "File \u001b[0;32m/opt/conda/lib/python3.10/site-packages/tensorflow/python/util/traceback_utils.py:153\u001b[0m, in \u001b[0;36mfilter_traceback.<locals>.error_handler\u001b[0;34m(*args, **kwargs)\u001b[0m\n\u001b[1;32m    151\u001b[0m \u001b[38;5;28;01mexcept\u001b[39;00m \u001b[38;5;167;01mException\u001b[39;00m \u001b[38;5;28;01mas\u001b[39;00m e:\n\u001b[1;32m    152\u001b[0m   filtered_tb \u001b[38;5;241m=\u001b[39m _process_traceback_frames(e\u001b[38;5;241m.\u001b[39m__traceback__)\n\u001b[0;32m--> 153\u001b[0m   \u001b[38;5;28;01mraise\u001b[39;00m e\u001b[38;5;241m.\u001b[39mwith_traceback(filtered_tb) \u001b[38;5;28;01mfrom\u001b[39;00m \u001b[38;5;28;01mNone\u001b[39;00m\n\u001b[1;32m    154\u001b[0m \u001b[38;5;28;01mfinally\u001b[39;00m:\n\u001b[1;32m    155\u001b[0m   \u001b[38;5;28;01mdel\u001b[39;00m filtered_tb\n",
      "File \u001b[0;32m/opt/conda/lib/python3.10/site-packages/tf_agents/agents/tf_agent.py:330\u001b[0m, in \u001b[0;36mTFAgent.train\u001b[0;34m(self, experience, weights, **kwargs)\u001b[0m\n\u001b[1;32m    325\u001b[0m   \u001b[38;5;28;01mraise\u001b[39;00m \u001b[38;5;167;01mRuntimeError\u001b[39;00m(\n\u001b[1;32m    326\u001b[0m       \u001b[38;5;124m\"\u001b[39m\u001b[38;5;124mCannot find _train_fn.  Did \u001b[39m\u001b[38;5;132;01m%s\u001b[39;00m\u001b[38;5;124m.__init__ call super?\u001b[39m\u001b[38;5;124m\"\u001b[39m\n\u001b[1;32m    327\u001b[0m       \u001b[38;5;241m%\u001b[39m \u001b[38;5;28mtype\u001b[39m(\u001b[38;5;28mself\u001b[39m)\u001b[38;5;241m.\u001b[39m\u001b[38;5;18m__name__\u001b[39m)\n\u001b[1;32m    329\u001b[0m \u001b[38;5;28;01mif\u001b[39;00m \u001b[38;5;28mself\u001b[39m\u001b[38;5;241m.\u001b[39m_enable_functions:\n\u001b[0;32m--> 330\u001b[0m   loss_info \u001b[38;5;241m=\u001b[39m \u001b[38;5;28;43mself\u001b[39;49m\u001b[38;5;241;43m.\u001b[39;49m\u001b[43m_train_fn\u001b[49m\u001b[43m(\u001b[49m\n\u001b[1;32m    331\u001b[0m \u001b[43m      \u001b[49m\u001b[43mexperience\u001b[49m\u001b[38;5;241;43m=\u001b[39;49m\u001b[43mexperience\u001b[49m\u001b[43m,\u001b[49m\u001b[43m \u001b[49m\u001b[43mweights\u001b[49m\u001b[38;5;241;43m=\u001b[39;49m\u001b[43mweights\u001b[49m\u001b[43m,\u001b[49m\u001b[43m \u001b[49m\u001b[38;5;241;43m*\u001b[39;49m\u001b[38;5;241;43m*\u001b[39;49m\u001b[43mkwargs\u001b[49m\u001b[43m)\u001b[49m\n\u001b[1;32m    332\u001b[0m \u001b[38;5;28;01melse\u001b[39;00m:\n\u001b[1;32m    333\u001b[0m   loss_info \u001b[38;5;241m=\u001b[39m \u001b[38;5;28mself\u001b[39m\u001b[38;5;241m.\u001b[39m_train(experience\u001b[38;5;241m=\u001b[39mexperience, weights\u001b[38;5;241m=\u001b[39mweights, \u001b[38;5;241m*\u001b[39m\u001b[38;5;241m*\u001b[39mkwargs)\n",
      "File \u001b[0;32m/opt/conda/lib/python3.10/site-packages/tf_agents/utils/common.py:188\u001b[0m, in \u001b[0;36mfunction_in_tf1.<locals>.maybe_wrap.<locals>.with_check_resource_vars\u001b[0;34m(*fn_args, **fn_kwargs)\u001b[0m\n\u001b[1;32m    184\u001b[0m check_tf1_allowed()\n\u001b[1;32m    185\u001b[0m \u001b[38;5;28;01mif\u001b[39;00m has_eager_been_enabled():\n\u001b[1;32m    186\u001b[0m   \u001b[38;5;66;03m# We're either in eager mode or in tf.function mode (no in-between); so\u001b[39;00m\n\u001b[1;32m    187\u001b[0m   \u001b[38;5;66;03m# autodep-like behavior is already expected of fn.\u001b[39;00m\n\u001b[0;32m--> 188\u001b[0m   \u001b[38;5;28;01mreturn\u001b[39;00m \u001b[43mfn\u001b[49m\u001b[43m(\u001b[49m\u001b[38;5;241;43m*\u001b[39;49m\u001b[43mfn_args\u001b[49m\u001b[43m,\u001b[49m\u001b[43m \u001b[49m\u001b[38;5;241;43m*\u001b[39;49m\u001b[38;5;241;43m*\u001b[39;49m\u001b[43mfn_kwargs\u001b[49m\u001b[43m)\u001b[49m\n\u001b[1;32m    189\u001b[0m \u001b[38;5;28;01mif\u001b[39;00m \u001b[38;5;129;01mnot\u001b[39;00m resource_variables_enabled():\n\u001b[1;32m    190\u001b[0m   \u001b[38;5;28;01mraise\u001b[39;00m \u001b[38;5;167;01mRuntimeError\u001b[39;00m(MISSING_RESOURCE_VARIABLES_ERROR)\n",
      "File \u001b[0;32m/opt/conda/lib/python3.10/site-packages/tf_agents/bandits/agents/greedy_reward_prediction_agent.py:228\u001b[0m, in \u001b[0;36mGreedyRewardPredictionAgent._train\u001b[0;34m(self, experience, weights)\u001b[0m\n\u001b[1;32m    227\u001b[0m \u001b[38;5;28;01mdef\u001b[39;00m \u001b[38;5;21m_train\u001b[39m(\u001b[38;5;28mself\u001b[39m, experience, weights):\n\u001b[0;32m--> 228\u001b[0m   experience \u001b[38;5;241m=\u001b[39m \u001b[38;5;28;43mself\u001b[39;49m\u001b[38;5;241;43m.\u001b[39;49m\u001b[43m_as_trajectory\u001b[49m\u001b[43m(\u001b[49m\u001b[43mexperience\u001b[49m\u001b[43m)\u001b[49m\n\u001b[1;32m    230\u001b[0m   \u001b[38;5;28;01mwith\u001b[39;00m tf\u001b[38;5;241m.\u001b[39mGradientTape() \u001b[38;5;28;01mas\u001b[39;00m tape:\n\u001b[1;32m    231\u001b[0m     loss_info \u001b[38;5;241m=\u001b[39m \u001b[38;5;28mself\u001b[39m\u001b[38;5;241m.\u001b[39m_loss(experience, weights\u001b[38;5;241m=\u001b[39mweights, training\u001b[38;5;241m=\u001b[39m\u001b[38;5;28;01mTrue\u001b[39;00m)\n",
      "File \u001b[0;32m/opt/conda/lib/python3.10/site-packages/tf_agents/agents/data_converter.py:340\u001b[0m, in \u001b[0;36mAsTrajectory.__call__\u001b[0;34m(self, value)\u001b[0m\n\u001b[1;32m    338\u001b[0m \u001b[38;5;28;01melse\u001b[39;00m:\n\u001b[1;32m    339\u001b[0m   \u001b[38;5;28;01mraise\u001b[39;00m \u001b[38;5;167;01mTypeError\u001b[39;00m(\u001b[38;5;124m'\u001b[39m\u001b[38;5;124mInput type not supported: \u001b[39m\u001b[38;5;132;01m{}\u001b[39;00m\u001b[38;5;124m'\u001b[39m\u001b[38;5;241m.\u001b[39mformat(value))\n\u001b[0;32m--> 340\u001b[0m \u001b[43m_validate_trajectory\u001b[49m\u001b[43m(\u001b[49m\n\u001b[1;32m    341\u001b[0m \u001b[43m    \u001b[49m\u001b[43mvalue\u001b[49m\u001b[43m,\u001b[49m\u001b[43m \u001b[49m\u001b[38;5;28;43mself\u001b[39;49m\u001b[38;5;241;43m.\u001b[39;49m\u001b[43m_data_context\u001b[49m\u001b[38;5;241;43m.\u001b[39;49m\u001b[43mtrajectory_spec\u001b[49m\u001b[43m,\u001b[49m\n\u001b[1;32m    342\u001b[0m \u001b[43m    \u001b[49m\u001b[43msequence_length\u001b[49m\u001b[38;5;241;43m=\u001b[39;49m\u001b[38;5;28;43mself\u001b[39;49m\u001b[38;5;241;43m.\u001b[39;49m\u001b[43m_sequence_length\u001b[49m\u001b[43m,\u001b[49m\n\u001b[1;32m    343\u001b[0m \u001b[43m    \u001b[49m\u001b[43mnum_outer_dims\u001b[49m\u001b[38;5;241;43m=\u001b[39;49m\u001b[38;5;28;43mself\u001b[39;49m\u001b[38;5;241;43m.\u001b[39;49m\u001b[43m_num_outer_dims\u001b[49m\u001b[43m)\u001b[49m\n\u001b[1;32m    344\u001b[0m value \u001b[38;5;241m=\u001b[39m nest_utils\u001b[38;5;241m.\u001b[39mprune_extra_keys(\n\u001b[1;32m    345\u001b[0m     \u001b[38;5;28mself\u001b[39m\u001b[38;5;241m.\u001b[39m_data_context\u001b[38;5;241m.\u001b[39mtrajectory_spec, value)\n\u001b[1;32m    346\u001b[0m \u001b[38;5;28;01mreturn\u001b[39;00m value\n",
      "File \u001b[0;32m/opt/conda/lib/python3.10/site-packages/tf_agents/agents/data_converter.py:174\u001b[0m, in \u001b[0;36m_validate_trajectory\u001b[0;34m(value, trajectory_spec, sequence_length, num_outer_dims)\u001b[0m\n\u001b[1;32m    168\u001b[0m \u001b[38;5;28;01mdef\u001b[39;00m \u001b[38;5;21m_validate_trajectory\u001b[39m(\n\u001b[1;32m    169\u001b[0m     value: trajectory\u001b[38;5;241m.\u001b[39mTrajectory,\n\u001b[1;32m    170\u001b[0m     trajectory_spec: trajectory\u001b[38;5;241m.\u001b[39mTrajectory,\n\u001b[1;32m    171\u001b[0m     sequence_length: typing\u001b[38;5;241m.\u001b[39mOptional[\u001b[38;5;28mint\u001b[39m],\n\u001b[1;32m    172\u001b[0m     num_outer_dims: te\u001b[38;5;241m.\u001b[39mLiteral[\u001b[38;5;241m1\u001b[39m, \u001b[38;5;241m2\u001b[39m] \u001b[38;5;241m=\u001b[39m \u001b[38;5;241m2\u001b[39m):  \u001b[38;5;66;03m# pylint: disable=bad-whitespace\u001b[39;00m\n\u001b[1;32m    173\u001b[0m \u001b[38;5;250m  \u001b[39m\u001b[38;5;124;03m\"\"\"Validate a Trajectory given its spec and a sequence length.\"\"\"\u001b[39;00m\n\u001b[0;32m--> 174\u001b[0m   \u001b[38;5;28;01mif\u001b[39;00m \u001b[38;5;129;01mnot\u001b[39;00m \u001b[43mnest_utils\u001b[49m\u001b[38;5;241;43m.\u001b[39;49m\u001b[43mis_batched_nested_tensors\u001b[49m\u001b[43m(\u001b[49m\n\u001b[1;32m    175\u001b[0m \u001b[43m      \u001b[49m\u001b[43mvalue\u001b[49m\u001b[43m,\u001b[49m\u001b[43m \u001b[49m\u001b[43mtrajectory_spec\u001b[49m\u001b[43m,\u001b[49m\u001b[43m \u001b[49m\u001b[43mnum_outer_dims\u001b[49m\u001b[38;5;241;43m=\u001b[39;49m\u001b[43mnum_outer_dims\u001b[49m\u001b[43m,\u001b[49m\n\u001b[1;32m    176\u001b[0m \u001b[43m      \u001b[49m\u001b[43mallow_extra_fields\u001b[49m\u001b[38;5;241;43m=\u001b[39;49m\u001b[38;5;28;43;01mTrue\u001b[39;49;00m\u001b[43m)\u001b[49m:\n\u001b[1;32m    177\u001b[0m     debug_str_1 \u001b[38;5;241m=\u001b[39m tf\u001b[38;5;241m.\u001b[39mnest\u001b[38;5;241m.\u001b[39mmap_structure(\u001b[38;5;28;01mlambda\u001b[39;00m tp: tp\u001b[38;5;241m.\u001b[39mshape, value)\n\u001b[1;32m    178\u001b[0m     debug_str_2 \u001b[38;5;241m=\u001b[39m tf\u001b[38;5;241m.\u001b[39mnest\u001b[38;5;241m.\u001b[39mmap_structure(\n\u001b[1;32m    179\u001b[0m         \u001b[38;5;28;01mlambda\u001b[39;00m spec: spec\u001b[38;5;241m.\u001b[39mshape, trajectory_spec)\n",
      "File \u001b[0;32m/opt/conda/lib/python3.10/site-packages/tf_agents/utils/nest_utils.py:546\u001b[0m, in \u001b[0;36mis_batched_nested_tensors\u001b[0;34m(tensors, specs, num_outer_dims, allow_extra_fields, check_dtypes)\u001b[0m\n\u001b[1;32m    541\u001b[0m \u001b[38;5;28;01mif\u001b[39;00m \u001b[38;5;28mall\u001b[39m(\n\u001b[1;32m    542\u001b[0m     discrepancy \u001b[38;5;241m==\u001b[39m tensor_ndims_discrepancy[\u001b[38;5;241m0\u001b[39m]\n\u001b[1;32m    543\u001b[0m     \u001b[38;5;28;01mfor\u001b[39;00m discrepancy \u001b[38;5;129;01min\u001b[39;00m tensor_ndims_discrepancy) \u001b[38;5;129;01mand\u001b[39;00m \u001b[38;5;28mall\u001b[39m(tensor_matches_spec):\n\u001b[1;32m    544\u001b[0m   \u001b[38;5;28;01mreturn\u001b[39;00m \u001b[38;5;28;01mFalse\u001b[39;00m\n\u001b[0;32m--> 546\u001b[0m \u001b[38;5;28;01mraise\u001b[39;00m \u001b[38;5;167;01mValueError\u001b[39;00m(\n\u001b[1;32m    547\u001b[0m     \u001b[38;5;124m'\u001b[39m\u001b[38;5;124mReceived a mix of batched and unbatched Tensors, or Tensors\u001b[39m\u001b[38;5;124m'\u001b[39m\n\u001b[1;32m    548\u001b[0m     \u001b[38;5;124m'\u001b[39m\u001b[38;5;124m are not compatible with Specs.  num_outer_dims: \u001b[39m\u001b[38;5;132;01m%d\u001b[39;00m\u001b[38;5;124m.\u001b[39m\u001b[38;5;130;01m\\n\u001b[39;00m\u001b[38;5;124m'\u001b[39m\n\u001b[1;32m    549\u001b[0m     \u001b[38;5;124m'\u001b[39m\u001b[38;5;124mSaw tensor_shapes:\u001b[39m\u001b[38;5;130;01m\\n\u001b[39;00m\u001b[38;5;124m   \u001b[39m\u001b[38;5;132;01m%s\u001b[39;00m\u001b[38;5;130;01m\\n\u001b[39;00m\u001b[38;5;124m'\u001b[39m\n\u001b[1;32m    550\u001b[0m     \u001b[38;5;124m'\u001b[39m\u001b[38;5;124mAnd spec_shapes:\u001b[39m\u001b[38;5;130;01m\\n\u001b[39;00m\u001b[38;5;124m   \u001b[39m\u001b[38;5;132;01m%s\u001b[39;00m\u001b[38;5;124m'\u001b[39m \u001b[38;5;241m%\u001b[39m\n\u001b[1;32m    551\u001b[0m     (num_outer_dims, tf\u001b[38;5;241m.\u001b[39mnest\u001b[38;5;241m.\u001b[39mpack_sequence_as(specs, tensor_shapes),\n\u001b[1;32m    552\u001b[0m      tf\u001b[38;5;241m.\u001b[39mnest\u001b[38;5;241m.\u001b[39mpack_sequence_as(specs, spec_shapes)))\n",
      "\u001b[0;31mValueError\u001b[0m: Received a mix of batched and unbatched Tensors, or Tensors are not compatible with Specs.  num_outer_dims: 2.\nSaw tensor_shapes:\n   Trajectory(\n{'action': TensorShape([8, 1]),\n 'discount': TensorShape([8, 1]),\n 'next_step_type': TensorShape([8, 1]),\n 'observation': DictWrapper({'global': TensorShape([16, 1])}),\n 'policy_info': PerArmPolicyInfo(log_probability=(), predicted_rewards_mean=TensorShape([8, 3]), multiobjective_scalarized_predicted_rewards_mean=(), predicted_rewards_optimistic=(), predicted_rewards_sampled=(), bandit_policy_type=(), chosen_arm_features=TensorShape([16, 1])),\n 'reward': TensorShape([8, 1]),\n 'step_type': TensorShape([8, 1])})\nAnd spec_shapes:\n   Trajectory(\n{'action': TensorShape([]),\n 'discount': TensorShape([]),\n 'next_step_type': TensorShape([]),\n 'observation': DictWrapper({'global': TensorShape([16])}),\n 'policy_info': PerArmPolicyInfo(log_probability=(), predicted_rewards_mean=TensorShape([3]), multiobjective_scalarized_predicted_rewards_mean=(), predicted_rewards_optimistic=(), predicted_rewards_sampled=(), bandit_policy_type=(), chosen_arm_features=TensorShape([16])),\n 'reward': TensorShape([]),\n 'step_type': TensorShape([])})"
     ]
    }
   ],
   "source": [
    "# import collections\n",
    "\n",
    "# NUM_EPOCHS = 10\n",
    "\n",
    "# train_loss = collections.defaultdict(list)\n",
    "\n",
    "# for epoch in range(NUM_EPOCHS):\n",
    "#     for parsed_record in train_dataset.batch(HPARAMS['batch_size']): #.take(1):\n",
    "#         trajectory = _trajectory_fn(parsed_record, HPARAMS)\n",
    "#         print(trajectory)\n",
    "#         loss, _ = agent.train(trajectory)\n",
    "#         train_loss[f\"epoch:{epoch + 1}\"].append(loss.numpy())\n",
    "        \n",
    "# train_outputs = collections.namedtuple(\n",
    "#     \"TrainOutputs\",[\"policy\", \"train_loss\"]\n",
    "# )\n",
    "\n",
    "# train_outputs(agent.policy, train_loss)"
   ]
  },
  {
   "cell_type": "markdown",
   "id": "47cefc6c-dbab-46c1-b4d2-48b01ce80a51",
   "metadata": {},
   "source": [
    "see `TFUniformReplayBuffer` [docs](https://www.tensorflow.org/agents/api_docs/python/tf_agents/replay_buffers/TFUniformReplayBuffer)"
   ]
  },
  {
   "cell_type": "code",
   "execution_count": 440,
   "id": "443a8215-4eee-4d12-8f2f-8ac59132fee3",
   "metadata": {},
   "outputs": [],
   "source": [
    "# max_length = 1000\n",
    "\n",
    "# replay_buffer = tf_uniform_replay_buffer.TFUniformReplayBuffer(\n",
    "#     data_spec = agent.policy.trajectory_spec,\n",
    "#     batch_size=HPARAMS['batch_size'],\n",
    "#     max_length=max_length\n",
    "# )\n",
    "# # Add an observer that adds to the replay buffer:\n",
    "# replay_observer = [replay_buffer.add_batch]"
   ]
  },
  {
   "cell_type": "code",
   "execution_count": 442,
   "id": "2c774a28-1193-44ff-a595-c965fe46d4d5",
   "metadata": {},
   "outputs": [
    {
     "data": {
      "text/plain": [
       "<tf_agents.replay_buffers.tf_uniform_replay_buffer.TFUniformReplayBuffer at 0x7f6d6694de40>"
      ]
     },
     "execution_count": 442,
     "metadata": {},
     "output_type": "execute_result"
    }
   ],
   "source": [
    "# # Read the replay buffer as a Dataset,\n",
    "# # read batches of 4 elements, each with 2 timesteps:\n",
    "# dataset = replay_buffer.as_dataset(\n",
    "#     sample_batch_size=4,\n",
    "#     num_steps=2)"
   ]
  },
  {
   "cell_type": "code",
   "execution_count": 510,
   "id": "40c94339-05ef-4ab8-8ec9-b5bdc1cdfc39",
   "metadata": {},
   "outputs": [
    {
     "name": "stdout",
     "output_type": "stream",
     "text": [
      "reward: [[  4.]\n",
      " [  4.]\n",
      " [-10.]\n",
      " [ 10.]\n",
      " [  3.]\n",
      " [  2.]\n",
      " [ 10.]\n",
      " [ 10.]]\n",
      "dummy_rewards: [[0. 0. 0.]\n",
      " [0. 0. 0.]\n",
      " [0. 0. 0.]\n",
      " [0. 0. 0.]\n",
      " [0. 0. 0.]\n",
      " [0. 0. 0.]\n",
      " [0. 0. 0.]\n",
      " [0. 0. 0.]]\n",
      "Trajectory(\n",
      "{'action': <tf.Tensor: shape=(8, 1), dtype=int32, numpy=\n",
      "array([[0],\n",
      "       [0],\n",
      "       [0],\n",
      "       [0],\n",
      "       [0],\n",
      "       [0],\n",
      "       [0],\n",
      "       [0]], dtype=int32)>,\n",
      " 'discount': <tf.Tensor: shape=(8, 1), dtype=float32, numpy=\n",
      "array([[0.],\n",
      "       [0.],\n",
      "       [0.],\n",
      "       [0.],\n",
      "       [0.],\n",
      "       [0.],\n",
      "       [0.],\n",
      "       [0.]], dtype=float32)>,\n",
      " 'next_step_type': <tf.Tensor: shape=(8, 1), dtype=int32, numpy=\n",
      "array([[2],\n",
      "       [2],\n",
      "       [2],\n",
      "       [2],\n",
      "       [2],\n",
      "       [2],\n",
      "       [2],\n",
      "       [2]], dtype=int32)>,\n",
      " 'observation': {'global': <tf.Tensor: shape=(16, 1), dtype=float32, numpy=\n",
      "array([[-0.02599   ],\n",
      "       [-0.03078079],\n",
      "       [ 0.03106076],\n",
      "       [ 0.00133444],\n",
      "       [ 0.02207417],\n",
      "       [-0.02917665],\n",
      "       [ 0.02782809],\n",
      "       [-0.02822751],\n",
      "       [-0.04523091],\n",
      "       [ 0.0495333 ],\n",
      "       [-0.01482558],\n",
      "       [-0.04208376],\n",
      "       [ 0.00741076],\n",
      "       [-0.04264941],\n",
      "       [ 0.00693322],\n",
      "       [-0.03396516]], dtype=float32)>},\n",
      " 'policy_info': PerArmPolicyInfo(log_probability=(), predicted_rewards_mean=<tf.Tensor: shape=(8, 3), dtype=float32, numpy=\n",
      "array([[0., 0., 0.],\n",
      "       [0., 0., 0.],\n",
      "       [0., 0., 0.],\n",
      "       [0., 0., 0.],\n",
      "       [0., 0., 0.],\n",
      "       [0., 0., 0.],\n",
      "       [0., 0., 0.],\n",
      "       [0., 0., 0.]], dtype=float32)>, multiobjective_scalarized_predicted_rewards_mean=(), predicted_rewards_optimistic=(), predicted_rewards_sampled=(), bandit_policy_type=(), chosen_arm_features=<tf.Tensor: shape=(16, 1), dtype=float32, numpy=\n",
      "array([[-0.02780459],\n",
      "       [-0.00370889],\n",
      "       [-0.02864446],\n",
      "       [-0.02917221],\n",
      "       [-0.01603731],\n",
      "       [ 0.02465415],\n",
      "       [ 0.01583499],\n",
      "       [-0.03253644],\n",
      "       [ 0.03956462],\n",
      "       [ 0.04351255],\n",
      "       [ 0.01470714],\n",
      "       [ 0.04936441],\n",
      "       [ 0.01360733],\n",
      "       [-0.0412104 ],\n",
      "       [ 0.02928157],\n",
      "       [ 0.01699198]], dtype=float32)>),\n",
      " 'reward': <tf.Tensor: shape=(8, 1), dtype=float32, numpy=\n",
      "array([[  4.],\n",
      "       [  4.],\n",
      "       [-10.],\n",
      "       [ 10.],\n",
      "       [  3.],\n",
      "       [  2.],\n",
      "       [ 10.],\n",
      "       [ 10.]], dtype=float32)>,\n",
      " 'step_type': <tf.Tensor: shape=(8, 1), dtype=int32, numpy=\n",
      "array([[0],\n",
      "       [0],\n",
      "       [0],\n",
      "       [0],\n",
      "       [0],\n",
      "       [0],\n",
      "       [0],\n",
      "       [0]], dtype=int32)>})\n"
     ]
    }
   ],
   "source": [
    "# for x in train_dataset.batch(HPARAMS['batch_size']).take(1):\n",
    "#     trajectory = _trajectory_fn(x)\n",
    "#     print(trajectory)"
   ]
  },
  {
   "cell_type": "code",
   "execution_count": 193,
   "id": "5a3a4686-022f-488b-8d74-f6e96a4e532d",
   "metadata": {},
   "outputs": [
    {
     "name": "stdout",
     "output_type": "stream",
     "text": [
      "{'bucketized_user_age': <tf.Tensor: shape=(1,), dtype=float32, numpy=array([25.], dtype=float32)>,\n",
      " 'movie_genres': <tf.Tensor: shape=(1, 1), dtype=int64, numpy=array([[4]])>,\n",
      " 'movie_id': <tf.Tensor: shape=(1,), dtype=string, numpy=array([b'211'], dtype=object)>,\n",
      " 'timestamp': <tf.Tensor: shape=(1,), dtype=int64, numpy=array([874948475])>,\n",
      " 'user_id': <tf.Tensor: shape=(1,), dtype=string, numpy=array([b'346'], dtype=object)>,\n",
      " 'user_occupation_text': <tf.Tensor: shape=(1,), dtype=string, numpy=array([b'other'], dtype=object)>,\n",
      " 'user_rating': <tf.Tensor: shape=(1,), dtype=float32, numpy=array([4.], dtype=float32)>}\n"
     ]
    }
   ],
   "source": [
    "for x in train_dataset.batch(1).take(1):\n",
    "    pprint(x)"
   ]
  },
  {
   "cell_type": "markdown",
   "id": "4b00d965-fd98-48c6-9d89-89081ebe531d",
   "metadata": {},
   "source": [
    "# Bandito's Part 2"
   ]
  },
  {
   "cell_type": "code",
   "execution_count": 1623,
   "id": "a2fb1bb0-42ff-4fa0-896d-309237fae8b7",
   "metadata": {},
   "outputs": [],
   "source": [
    "def _get_global_context_features(x):\n",
    "    \"\"\"\n",
    "    This function generates a single global observation vector.\n",
    "    \"\"\"\n",
    "    user_id_value = x['user_id']\n",
    "    user_age_value = x['bucketized_user_age']\n",
    "    user_occ_value = x['user_occupation_text']\n",
    "    user_ts_value = x['timestamp']\n",
    "\n",
    "    _id = test_user_id_model(user_id_value) # input_tensor=tf.Tensor(shape=(4,), dtype=float32)\n",
    "    _age = test_user_age_model(user_age_value)\n",
    "    _occ = test_user_occ_model(user_occ_value)\n",
    "    _ts = test_user_ts_model(user_ts_value)\n",
    "\n",
    "    # # tmp - insepct numpy() values\n",
    "    # print(_id.numpy()) #[0])\n",
    "    # print(_age.numpy()) #[0])\n",
    "    # print(_occ.numpy()) #[0])\n",
    "    # print(_ts.numpy()) #[0])\n",
    "\n",
    "    # to numpy array\n",
    "    _id = np.array(_id.numpy()[0])\n",
    "    _age = np.array(_age.numpy()[0])\n",
    "    _occ = np.array(_occ.numpy()[0])\n",
    "    _ts = np.array(_ts.numpy()[0])\n",
    "\n",
    "    concat = np.concatenate(\n",
    "        [_id, _age, _occ, _ts], axis=-1 # -1\n",
    "    ).astype(np.float32)\n",
    "\n",
    "    return concat\n",
    "\n",
    "def _get_per_arm_features(x):\n",
    "    \"\"\"\n",
    "    This function generates a single per-arm observation vector\n",
    "    \"\"\"\n",
    "    mv_id_value = x['movie_id']\n",
    "    mv_gen_value = x['movie_genres'][0]\n",
    "\n",
    "    _mid = test_mv_id_model(mv_id_value)\n",
    "    _mgen = test_mv_gen_model(mv_gen_value)\n",
    "\n",
    "    # to numpy array\n",
    "    _mid = np.array(_mid.numpy()[0])\n",
    "    _mgen = np.array(_mgen.numpy()[0])\n",
    "\n",
    "    # print(_mid)\n",
    "    # print(_mgen)\n",
    "\n",
    "    concat = np.concatenate(\n",
    "        [_mid, _mgen], axis=-1 # -1\n",
    "    ).astype(np.float32)\n",
    "    # concat = tf.concat([_mid, _mgen], axis=-1).astype(np.float32)\n",
    "\n",
    "    return concat"
   ]
  },
  {
   "cell_type": "code",
   "execution_count": 1624,
   "id": "3756a957-5cd2-4f52-80f7-685ed8e9a851",
   "metadata": {},
   "outputs": [
    {
     "name": "stdout",
     "output_type": "stream",
     "text": [
      "16\n",
      "16\n"
     ]
    }
   ],
   "source": [
    "GLOBAL_DIM = global_context_sampling_fn()\n",
    "GLOBAL_DIM = GLOBAL_DIM.shape[0]\n",
    "print(GLOBAL_DIM)\n",
    "\n",
    "PER_ARM_DIM = per_arm_context_sampling_fn()\n",
    "PER_ARM_DIM = PER_ARM_DIM.shape[0]\n",
    "print(PER_ARM_DIM)"
   ]
  },
  {
   "cell_type": "code",
   "execution_count": 1627,
   "id": "4d85cd9a-1c66-42fd-9b6a-6db977fafc0d",
   "metadata": {},
   "outputs": [],
   "source": [
    "from tf_agents.bandits.specs import utils as bandit_spec_utils\n",
    "from tf_agents.trajectories import trajectory\n",
    "\n",
    "HPARAMS = {\n",
    "    \"batch_size\":8,\n",
    "    \"num_docs_to_rank\":3,\n",
    "    \"model_type\": \"neural_epsilon_greedy\",\n",
    "    \"network_type\": 'commontower',\n",
    "    \"global_layers\": [16,4],\n",
    "    \"per_arm_layers\": [16,4],\n",
    "    \"common_layers\": [4],\n",
    "    \"learning_rate\": 0.05,\n",
    "    \"epsilon\":0.01,\n",
    "}\n",
    "\n",
    "async_steps_per_loop = 1"
   ]
  },
  {
   "cell_type": "code",
   "execution_count": 1626,
   "id": "72acf106-e385-4fce-b954-eb84b915dce8",
   "metadata": {},
   "outputs": [
    {
     "name": "stdout",
     "output_type": "stream",
     "text": [
      "3\n"
     ]
    },
    {
     "data": {
      "text/plain": [
       "{'global': TensorSpec(shape=(16,), dtype=tf.float32, name=None),\n",
       " 'per_arm': TensorSpec(shape=(3, 16), dtype=tf.float32, name=None)}"
      ]
     },
     "execution_count": 1626,
     "metadata": {},
     "output_type": "execute_result"
    }
   ],
   "source": [
    "num_actions = HPARAMS['num_docs_to_rank']\n",
    "# num_actions=tf.convert_to_tensor(num_actions, dtype=tf.int32)\n",
    "print(num_actions)\n",
    "\n",
    "global_spec = tensor_spec.TensorSpec(shape=[GLOBAL_DIM], dtype=tf.float32)\n",
    "per_arm_spec = tensor_spec.TensorSpec(shape=[num_actions, PER_ARM_DIM], dtype=tf.float32)\n",
    "\n",
    "observation_spec = {'global': global_spec, 'per_arm': per_arm_spec}\n",
    "observation_spec"
   ]
  },
  {
   "cell_type": "code",
   "execution_count": 1628,
   "id": "30c68f99-c5ac-44e7-87e9-f842412a7e8b",
   "metadata": {},
   "outputs": [],
   "source": [
    "import tf_agents\n",
    "\n",
    "# test_chosen_arm_feats = tf_agents.policies.utils.create_chosen_arm_features_info_spec(observation_spec=observation_spec)\n",
    "# test_chosen_arm_feats"
   ]
  },
  {
   "cell_type": "code",
   "execution_count": 1629,
   "id": "43589dc7-80bf-4ff1-bf3e-5a8e52af7a88",
   "metadata": {},
   "outputs": [
    {
     "data": {
      "text/plain": [
       "BoundedTensorSpec(shape=(), dtype=tf.int32, name='action_spec', minimum=array(0, dtype=int32), maximum=array(2, dtype=int32))"
      ]
     },
     "execution_count": 1629,
     "metadata": {},
     "output_type": "execute_result"
    }
   ],
   "source": [
    "action_spec = tensor_spec.BoundedTensorSpec(\n",
    "    shape=(), \n",
    "    dtype=tf.int32,\n",
    "    minimum=tf.Variable(0), # 0 \n",
    "    maximum=num_actions-tf.Variable(1), # -1\n",
    "    name=\"action_spec\"\n",
    ")\n",
    "action_spec"
   ]
  },
  {
   "cell_type": "code",
   "execution_count": 1631,
   "id": "69264d46-ffc8-4bd2-9bd7-ced5aefa546e",
   "metadata": {},
   "outputs": [
    {
     "data": {
      "text/plain": [
       "TimeStep(\n",
       "{'discount': BoundedTensorSpec(shape=(), dtype=tf.float32, name='discount', minimum=array(0., dtype=float32), maximum=array(1., dtype=float32)),\n",
       " 'observation': {'global': TensorSpec(shape=(16,), dtype=tf.float32, name=None),\n",
       "                 'per_arm': TensorSpec(shape=(3, 16), dtype=tf.float32, name=None)},\n",
       " 'reward': TensorSpec(shape=(), dtype=tf.float32, name='reward'),\n",
       " 'step_type': TensorSpec(shape=(), dtype=tf.int32, name='step_type')})"
      ]
     },
     "execution_count": 1631,
     "metadata": {},
     "output_type": "execute_result"
    }
   ],
   "source": [
    "time_step_spec = ts.time_step_spec(\n",
    "    observation_spec = observation_spec, \n",
    "    # reward_spec = _reward_spec\n",
    ")\n",
    "time_step_spec"
   ]
  },
  {
   "cell_type": "code",
   "execution_count": 1632,
   "id": "1ed87615-357f-45eb-b23c-c8412e8766ea",
   "metadata": {},
   "outputs": [
    {
     "name": "stdout",
     "output_type": "stream",
     "text": [
      "Agent: OffpolicyNeuralEpsGreedyAgent\n",
      "\n",
      "Network: global_and_arm_common_tower_network_63\n"
     ]
    }
   ],
   "source": [
    "from tf_agents.bandits.agents import greedy_reward_prediction_agent\n",
    "\n",
    "network = None\n",
    "observation_and_action_constraint_splitter = None\n",
    "\n",
    "# global_step = tf.Variable(0)\n",
    "global_step = tf.compat.v1.train.get_or_create_global_step()\n",
    "\n",
    "if HPARAMS['network_type'] == 'commontower':\n",
    "    network = global_and_arm_feature_network.create_feed_forward_common_tower_network(\n",
    "        observation_spec = observation_spec, \n",
    "        global_layers = HPARAMS['global_layers'], \n",
    "        arm_layers = HPARAMS['per_arm_layers'], \n",
    "        common_layers = HPARAMS['common_layers'],\n",
    "        # output_dim = 1\n",
    "    )\n",
    "elif HPARAMS['network_type'] == 'dotproduct':\n",
    "    network = global_and_arm_feature_network.create_feed_forward_dot_product_network(\n",
    "        observation_spec = observation_spec, \n",
    "        global_layers = HPARAMS['global_layers'], \n",
    "        arm_layers = HPARAMS['per_arm_layers']\n",
    "    )\n",
    "    \n",
    "# agent = greedy_reward_prediction_agent.GreedyRewardPredictionAgent()\n",
    "    \n",
    "agent = neural_epsilon_greedy_agent.NeuralEpsilonGreedyAgent(\n",
    "    time_step_spec=time_step_spec,\n",
    "    action_spec=action_spec,\n",
    "    reward_network=network,\n",
    "    optimizer=tf.compat.v1.train.AdamOptimizer(learning_rate=HPARAMS['learning_rate']),\n",
    "    epsilon=HPARAMS['epsilon'],\n",
    "    observation_and_action_constraint_splitter=(\n",
    "        observation_and_action_constraint_splitter\n",
    "    ),\n",
    "    accepts_per_arm_features=True,\n",
    "    emit_policy_info=policy_utilities.InfoFields.PREDICTED_REWARDS_MEAN,\n",
    "    train_step_counter=global_step,\n",
    "    info_fields_to_inherit_from_greedy=[\n",
    "        policy_utilities.InfoFields.PREDICTED_REWARDS_MEAN\n",
    "    ],\n",
    "    name='OffpolicyNeuralEpsGreedyAgent'\n",
    ")\n",
    "agent.initialize()\n",
    "\n",
    "print(f\"Agent: {agent.name}\\n\")\n",
    "if network:\n",
    "    print(f\"Network: {network.name}\")"
   ]
  },
  {
   "cell_type": "code",
   "execution_count": 1633,
   "id": "c11d03b5-270a-4f31-ac0d-a7496527f390",
   "metadata": {},
   "outputs": [],
   "source": [
    "data_spec = agent.policy.trajectory_spec"
   ]
  },
  {
   "cell_type": "code",
   "execution_count": 1636,
   "id": "c64e44af-0dbe-444b-a998-7f15ad05f8e6",
   "metadata": {},
   "outputs": [],
   "source": [
    "from tf_agents.bandits.replay_buffers import bandit_replay_buffer\n",
    "\n",
    "steps_per_loop=2\n",
    "\n",
    "def _get_replay_buffer(\n",
    "    data_spec, batch_size, steps_per_loop, async_steps_per_loop\n",
    "):\n",
    "    \"\"\"Return a `TFUniformReplayBuffer` for the given `agent`.\"\"\"\n",
    "    return bandit_replay_buffer.BanditReplayBuffer(\n",
    "        data_spec=data_spec,\n",
    "        batch_size=batch_size,\n",
    "        max_length=steps_per_loop * async_steps_per_loop,\n",
    "    )\n",
    "\n",
    "# if get_replay_buffer_fn is None:\n",
    "get_replay_buffer_fn = _get_replay_buffer\n",
    "\n",
    "replay_buffer = get_replay_buffer_fn(\n",
    "    data_spec, HPARAMS['batch_size'], steps_per_loop, async_steps_per_loop\n",
    ")"
   ]
  },
  {
   "cell_type": "code",
   "execution_count": 1637,
   "id": "6e640d30-65c3-443e-bd17-9b3fe571c752",
   "metadata": {},
   "outputs": [
    {
     "data": {
      "text/plain": [
       "<tf_agents.replay_buffers.tf_uniform_replay_buffer.TFUniformReplayBuffer at 0x7f6d64e6dc60>"
      ]
     },
     "execution_count": 1637,
     "metadata": {},
     "output_type": "execute_result"
    }
   ],
   "source": [
    "# `step_metric` records the number of individual rounds of bandit interaction;\n",
    "# that is, (number of trajectories) * batch_size.\n",
    "step_metric = tf_metrics.EnvironmentSteps()\n",
    "metrics = [\n",
    "    tf_metrics.NumberOfEpisodes(),\n",
    "    tf_metrics.AverageEpisodeLengthMetric(batch_size=environment.batch_size),\n",
    "] # + list(additional_metrics)"
   ]
  },
  {
   "cell_type": "code",
   "execution_count": 1638,
   "id": "ea32b764-9689-4f4b-a667-63e6ad61c8de",
   "metadata": {},
   "outputs": [
    {
     "data": {
      "text/plain": [
       "<bound method ReplayBuffer.add_batch of <tf_agents.replay_buffers.tf_uniform_replay_buffer.TFUniformReplayBuffer object at 0x7f6d64e6dc60>>"
      ]
     },
     "execution_count": 1638,
     "metadata": {},
     "output_type": "execute_result"
    }
   ],
   "source": [
    "# if training_data_spec_transformation_fn is not None:\n",
    "#     add_batch_fn = lambda data: replay_buffer.add_batch(\n",
    "#         training_data_spec_transformation_fn(data)\n",
    "#     )\n",
    "# else:\n",
    "\n",
    "add_batch_fn = replay_buffer.add_batch\n",
    "add_batch_fn"
   ]
  },
  {
   "cell_type": "code",
   "execution_count": 1640,
   "id": "5c5b56d6-be3d-4a56-a2aa-4b92a10a6adc",
   "metadata": {},
   "outputs": [
    {
     "data": {
      "text/plain": [
       "[<bound method ReplayBuffer.add_batch of <tf_agents.replay_buffers.tf_uniform_replay_buffer.TFUniformReplayBuffer object at 0x7f6d64e6dc60>>,\n",
       " <tf_agents.metrics.tf_metrics.EnvironmentSteps at 0x7f6d66ab73a0>,\n",
       " <tf_agents.bandits.metrics.tf_metrics.RegretMetric at 0x7f71a8649960>,\n",
       " <tf_agents.bandits.metrics.tf_metrics.SuboptimalArmsMetric at 0x7f71a8649bd0>]"
      ]
     },
     "execution_count": 1640,
     "metadata": {},
     "output_type": "execute_result"
    }
   ],
   "source": [
    "step_metric = tf_metrics.EnvironmentSteps()\n",
    "\n",
    "observers = [add_batch_fn, step_metric] + metrics\n",
    "observers"
   ]
  },
  {
   "cell_type": "code",
   "execution_count": 1646,
   "id": "781797ad-142c-4542-89d6-f30d8c81bac2",
   "metadata": {},
   "outputs": [],
   "source": [
    "def set_expected_shape(experience, num_steps):\n",
    "    \"\"\"Sets expected shape.\"\"\"\n",
    "\n",
    "    def set_time_dim(input_tensor, steps):\n",
    "        tensor_shape = input_tensor.shape.as_list()\n",
    "        if len(tensor_shape) < 2:\n",
    "            raise ValueError(\n",
    "                'input_tensor is expected to be of rank-2, but found otherwise: '\n",
    "                f'input_tensor={input_tensor}, tensor_shape={tensor_shape}'\n",
    "            )\n",
    "        tensor_shape[1] = steps\n",
    "        input_tensor.set_shape(tensor_shape)\n",
    "\n",
    "    tf.nest.map_structure(lambda t: set_time_dim(t, num_steps), experience)"
   ]
  },
  {
   "cell_type": "code",
   "execution_count": 1704,
   "id": "1ca8f81a-d8ea-47f8-8e74-8eb9e1f234fa",
   "metadata": {},
   "outputs": [],
   "source": [
    "def _trajectory_fn(element): # hparams\n",
    "    \"\"\"Converts a dataset element into a trajectory.\"\"\"\n",
    "    global_features = _get_global_context_features(element)\n",
    "    arm_features = _get_per_arm_features(element)\n",
    "    \n",
    "    # obs spec\n",
    "    observation = {\n",
    "        bandit_spec_utils.GLOBAL_FEATURE_KEY:\n",
    "            global_features,\n",
    "            # _add_outer_dimension(global_features)\n",
    "        # bandit_spec_utils.PER_ARM_FEATURE_KEY:\n",
    "        #     _add_outer_dimension(arm_features),\n",
    "    }\n",
    "    # reward = tensor_spec.add_outer_dim(_get_rewards(element))\n",
    "    reward = _get_rewards(element)\n",
    "    # print(f\"reward: {reward}\")\n",
    "    \n",
    "    # To emit the predicted rewards in policy_info, we need to create dummy\n",
    "    # rewards to match the definition in TensorSpec for the ones specified in\n",
    "    # emit_policy_info set.\n",
    "    # dummy_rewards = tf.zeros([HPARAMS['batch_size'], 1, HPARAMS['num_docs_to_rank']])\n",
    "    # dummy_rewards = tf.zeros([HPARAMS['batch_size'], HPARAMS['num_docs_to_rank']])\n",
    "    dummy_rewards = tf.zeros([HPARAMS['num_docs_to_rank']])\n",
    "    policy_info = policy_utilities.PerArmPolicyInfo(\n",
    "        chosen_arm_features=arm_features,\n",
    "        # Pass dummy mean rewards here to match the model_spec for emitting\n",
    "        # mean rewards in policy info\n",
    "        predicted_rewards_mean=dummy_rewards\n",
    "    )\n",
    "    \n",
    "# tf_agents.policies.utils.create_chosen_arm_features_info_spec(\n",
    "#     observation_spec: tf_agents.typing.types.NestedTensorSpec\n",
    "# ) -> tf_agents.typing.types.NestedTensorSpec\n",
    "    \n",
    "    if HPARAMS['model_type'] == 'neural_ucb':\n",
    "        policy_info = policy_info._replace(\n",
    "            predicted_rewards_optimistic=dummy_rewards\n",
    "        )\n",
    "        \n",
    "    # print(f\"observation: {observation}\")\n",
    "    # print(f\"reward: {reward}\")\n",
    "    # print(f\"policy_info: {policy_info}\")\n",
    "    # print(f\"dummy_rewards: {dummy_rewards}\")\n",
    "    \n",
    "    return trajectory.single_step(\n",
    "        observation=observation,\n",
    "        action=tf.zeros_like(\n",
    "            reward, dtype=tf.int32\n",
    "        ),  # Arm features are copied from policy info, put dummy zeros here\n",
    "        policy_info=policy_info, # policy_info,\n",
    "        reward=reward,\n",
    "        discount=tf.zeros_like(reward)\n",
    "    )"
   ]
  },
  {
   "cell_type": "code",
   "execution_count": 1705,
   "id": "9d307199-7220-4420-a5e7-1b349a35cc5c",
   "metadata": {},
   "outputs": [],
   "source": [
    "def _get_training_loop(\n",
    "    batch_size, \n",
    "    replay_buffer, \n",
    "    agent, \n",
    "    steps, \n",
    "    async_steps_per_loop\n",
    "):\n",
    "    \"\"\"\n",
    "    Returns a `tf.function` that runs the driver and training loops.\n",
    "    \"\"\"\n",
    "\n",
    "    def _export_metrics_and_summaries(step, metrics):\n",
    "        \"\"\"Exports metrics and tf summaries.\"\"\"\n",
    "        metric_utils.log_metrics(metrics)\n",
    "        export_utils.export_metrics(step=step, metrics=metrics)\n",
    "        for metric in metrics:\n",
    "            metric.tf_summaries(train_step=step)\n",
    "\n",
    "    def training_loop(train_step, metrics):\n",
    "        \"\"\"Returns a function that runs a single training loop and logs metrics.\"\"\"\n",
    "        # for batch_id in range(async_steps_per_loop):\n",
    "        #     # driver.run()\n",
    "        #     _export_metrics_and_summaries(\n",
    "        #         step=train_step * async_steps_per_loop + batch_id, metrics=metrics\n",
    "        #     )\n",
    "        # batch_size = driver.env.batch_size\n",
    "        # dataset_it = iter(\n",
    "        #     replay_buffer.as_dataset(\n",
    "        #         sample_batch_size=batch_size,\n",
    "        #         num_steps=steps,\n",
    "        #         single_deterministic_pass=True,\n",
    "        #     )\n",
    "        # )\n",
    "        dataset = train_dataset.batch(batch_size)\n",
    "        dataset_it = iter(dataset)\n",
    "        # data = next(iterator)\n",
    "\n",
    "        for batch_id in range(async_steps_per_loop):\n",
    "            # experience, unused_info = dataset_it.get_next()\n",
    "            experience, _ = next(dataset_it)\n",
    "            print(f\"experience-v1: {experience}\")\n",
    "            set_expected_shape(experience, steps)\n",
    "            print(f\"experience-v2: {experience}\")\n",
    "            \n",
    "            trajectories = _trajectory_fn(experience)\n",
    "            \n",
    "            loss_info = agent.train(experience=trajectories)\n",
    "            \n",
    "            export_utils.export_metrics(\n",
    "                step=train_step * async_steps_per_loop + batch_id,\n",
    "                metrics=[],\n",
    "                loss_info=loss_info,\n",
    "            )\n",
    "\n",
    "        replay_buffer.clear()\n",
    "\n",
    "    return training_loop"
   ]
  },
  {
   "cell_type": "code",
   "execution_count": 1684,
   "id": "ab2d2b46-1390-4292-9a5f-a330e8f7dd69",
   "metadata": {},
   "outputs": [],
   "source": [
    "# testy = next(dataset_it) \n",
    "# testy = dataset_it.get_next()\n",
    "# testy"
   ]
  },
  {
   "cell_type": "code",
   "execution_count": 1685,
   "id": "c1a259c8-7288-410b-9e7d-1ca5cbda8598",
   "metadata": {},
   "outputs": [],
   "source": [
    "get_training_loop_fn = _get_training_loop\n",
    "\n",
    "training_looper = get_training_loop_fn(\n",
    "    HPARAMS['batch_size'], replay_buffer, agent, steps_per_loop, async_steps_per_loop\n",
    ")"
   ]
  },
  {
   "cell_type": "code",
   "execution_count": 1686,
   "id": "843ada6c-2810-499b-b392-85691e7e7260",
   "metadata": {},
   "outputs": [
    {
     "ename": "ValueError",
     "evalue": "too many values to unpack (expected 2)",
     "output_type": "error",
     "traceback": [
      "\u001b[0;31m---------------------------------------------------------------------------\u001b[0m",
      "\u001b[0;31mValueError\u001b[0m                                Traceback (most recent call last)",
      "Cell \u001b[0;32mIn[1686], line 1\u001b[0m\n\u001b[0;32m----> 1\u001b[0m \u001b[43mtraining_looper\u001b[49m\u001b[43m(\u001b[49m\u001b[43mtrain_step\u001b[49m\u001b[38;5;241;43m=\u001b[39;49m\u001b[38;5;241;43m1\u001b[39;49m\u001b[43m,\u001b[49m\u001b[43m \u001b[49m\u001b[43mmetrics\u001b[49m\u001b[38;5;241;43m=\u001b[39;49m\u001b[43mmetrics\u001b[49m\u001b[43m)\u001b[49m\n",
      "Cell \u001b[0;32mIn[1683], line 39\u001b[0m, in \u001b[0;36m_get_training_loop.<locals>.training_loop\u001b[0;34m(train_step, metrics)\u001b[0m\n\u001b[1;32m     36\u001b[0m \u001b[38;5;66;03m# data = next(iterator)\u001b[39;00m\n\u001b[1;32m     38\u001b[0m \u001b[38;5;28;01mfor\u001b[39;00m batch_id \u001b[38;5;129;01min\u001b[39;00m \u001b[38;5;28mrange\u001b[39m(async_steps_per_loop):\n\u001b[0;32m---> 39\u001b[0m     experience, unused_info \u001b[38;5;241m=\u001b[39m dataset_it\u001b[38;5;241m.\u001b[39mget_next()\n\u001b[1;32m     40\u001b[0m     \u001b[38;5;66;03m# experience, _ = next(dataset_it)\u001b[39;00m\n\u001b[1;32m     41\u001b[0m     \u001b[38;5;28mprint\u001b[39m(\u001b[38;5;124mf\u001b[39m\u001b[38;5;124m\"\u001b[39m\u001b[38;5;124mexperience-v1: \u001b[39m\u001b[38;5;132;01m{\u001b[39;00mexperience\u001b[38;5;132;01m}\u001b[39;00m\u001b[38;5;124m\"\u001b[39m)\n",
      "\u001b[0;31mValueError\u001b[0m: too many values to unpack (expected 2)"
     ]
    }
   ],
   "source": [
    "training_looper(train_step=1, metrics=metrics)"
   ]
  },
  {
   "cell_type": "code",
   "execution_count": 1680,
   "id": "fdeb93ea-cc42-4160-a2d8-0c12cfd1c176",
   "metadata": {},
   "outputs": [
    {
     "ename": "ValueError",
     "evalue": "too many values to unpack (expected 2)",
     "output_type": "error",
     "traceback": [
      "\u001b[0;31m---------------------------------------------------------------------------\u001b[0m",
      "\u001b[0;31mValueError\u001b[0m                                Traceback (most recent call last)",
      "Cell \u001b[0;32mIn[1680], line 12\u001b[0m\n\u001b[1;32m      8\u001b[0m train_loss \u001b[38;5;241m=\u001b[39m collections\u001b[38;5;241m.\u001b[39mdefaultdict(\u001b[38;5;28mlist\u001b[39m)\n\u001b[1;32m     10\u001b[0m \u001b[38;5;28;01mfor\u001b[39;00m i \u001b[38;5;129;01min\u001b[39;00m \u001b[38;5;28mrange\u001b[39m(NUM_EPOCHS):\n\u001b[0;32m---> 12\u001b[0m     \u001b[43mtraining_loop\u001b[49m\u001b[43m(\u001b[49m\u001b[43mtrain_step\u001b[49m\u001b[38;5;241;43m=\u001b[39;49m\u001b[43mi\u001b[49m\u001b[43m,\u001b[49m\u001b[43m \u001b[49m\u001b[43mmetrics\u001b[49m\u001b[38;5;241;43m=\u001b[39;49m\u001b[43mmetrics\u001b[49m\u001b[43m)\u001b[49m\n\u001b[1;32m     14\u001b[0m     \u001b[38;5;66;03m# iterator = iter(train_dataset.batch(2))\u001b[39;00m\n\u001b[1;32m     15\u001b[0m     \u001b[38;5;66;03m# data = next(iterator)\u001b[39;00m\n\u001b[1;32m     16\u001b[0m     \u001b[38;5;66;03m# pprint(f\"print data: {data}\")\u001b[39;00m\n\u001b[0;32m   (...)\u001b[0m\n\u001b[1;32m     23\u001b[0m     \n\u001b[1;32m     24\u001b[0m \u001b[38;5;66;03m#     loss = agent.train(experience=trajectories)\u001b[39;00m\n",
      "Cell \u001b[0;32mIn[1676], line 40\u001b[0m, in \u001b[0;36m_get_training_loop.<locals>.training_loop\u001b[0;34m(train_step, metrics)\u001b[0m\n\u001b[1;32m     36\u001b[0m \u001b[38;5;66;03m# data = next(iterator)\u001b[39;00m\n\u001b[1;32m     38\u001b[0m \u001b[38;5;28;01mfor\u001b[39;00m batch_id \u001b[38;5;129;01min\u001b[39;00m \u001b[38;5;28mrange\u001b[39m(async_steps_per_loop):\n\u001b[1;32m     39\u001b[0m     \u001b[38;5;66;03m# experience, unused_info = dataset_it.get_next()\u001b[39;00m\n\u001b[0;32m---> 40\u001b[0m     experience, _ \u001b[38;5;241m=\u001b[39m \u001b[38;5;28mnext\u001b[39m(dataset_it)\n\u001b[1;32m     41\u001b[0m     \u001b[38;5;28mprint\u001b[39m(\u001b[38;5;124mf\u001b[39m\u001b[38;5;124m\"\u001b[39m\u001b[38;5;124mexperience-v1: \u001b[39m\u001b[38;5;132;01m{\u001b[39;00mexperience\u001b[38;5;132;01m}\u001b[39;00m\u001b[38;5;124m\"\u001b[39m)\n\u001b[1;32m     42\u001b[0m     set_expected_shape(experience, steps)\n",
      "\u001b[0;31mValueError\u001b[0m: too many values to unpack (expected 2)"
     ]
    }
   ],
   "source": [
    "NUM_EPOCHS = 3\n",
    "\n",
    "# agent.train = common.function(agent.train)\n",
    "\n",
    "# # Reset the train step\n",
    "# agent.train_step_counter.assign(0)\n",
    "\n",
    "# train_loss = collections.defaultdict(list)\n",
    "\n",
    "for i in range(NUM_EPOCHS):\n",
    "    \n",
    "    training_looper(train_step=i, metrics=metrics)\n",
    "    \n",
    "    # iterator = iter(train_dataset.batch(2))\n",
    "    # data = next(iterator)\n",
    "    # pprint(f\"print data: {data}\")\n",
    "    \n",
    "#     trajectories = _trajectory_fn(data)\n",
    "#     # pprint(f\"print trajectories: {trajectories}\")\n",
    "    \n",
    "#     # All tensors in experience must be shaped [batch, time, ...] \n",
    "#     step = agent.train_step_counter.numpy()\n",
    "    \n",
    "#     loss = agent.train(experience=trajectories)"
   ]
  },
  {
   "cell_type": "code",
   "execution_count": 1644,
   "id": "26880ec7-58c6-466a-97ee-e1ca0ea453d9",
   "metadata": {},
   "outputs": [
    {
     "name": "stdout",
     "output_type": "stream",
     "text": [
      "EXPERIMENT_NAME   : banditos-2\n",
      "RUN_NAME          : run-20230809-151029\n",
      "LOG_DIR           : gs://mabv1-hybrid-vertex-bucket/banditos-2/run-20230809-151029/logs\n",
      "ROOT_DIR          : gs://mabv1-hybrid-vertex-bucket/banditos-2/run-20230809-151029/root\n",
      "ARTIFACTS_DIR     : gs://mabv1-hybrid-vertex-bucket/banditos-2/run-20230809-151029/artifacts\n"
     ]
    }
   ],
   "source": [
    "EXPERIMENT_NAME   = f'banditos-2'\n",
    "\n",
    "# new experiment\n",
    "invoke_time       = time.strftime(\"%Y%m%d-%H%M%S\")\n",
    "RUN_NAME          = f'run-{invoke_time}'\n",
    "\n",
    "LOG_DIR           = f\"{BUCKET_URI}/{EXPERIMENT_NAME}/{RUN_NAME}/logs\"\n",
    "ROOT_DIR          = f\"{BUCKET_URI}/{EXPERIMENT_NAME}/{RUN_NAME}/root\"       # Root directory for writing logs/summaries/checkpoints.\n",
    "ARTIFACTS_DIR     = f\"{BUCKET_URI}/{EXPERIMENT_NAME}/{RUN_NAME}/artifacts\"  # Where the trained model will be saved and restored.\n",
    "\n",
    "aiplatform.init(\n",
    "    project=PROJECT_ID,\n",
    "    location=REGION,\n",
    "    experiment=EXPERIMENT_NAME\n",
    ")\n",
    "\n",
    "print(f\"EXPERIMENT_NAME   : {EXPERIMENT_NAME}\")\n",
    "print(f\"RUN_NAME          : {RUN_NAME}\")\n",
    "print(f\"LOG_DIR           : {LOG_DIR}\")\n",
    "print(f\"ROOT_DIR          : {ROOT_DIR}\")\n",
    "print(f\"ARTIFACTS_DIR     : {ARTIFACTS_DIR}\")"
   ]
  },
  {
   "cell_type": "code",
   "execution_count": 1706,
   "id": "61d1af39-95b5-470a-a3ed-497c75d3d24a",
   "metadata": {},
   "outputs": [],
   "source": [
    "train_step_counter = tf.compat.v1.train.get_or_create_global_step()\n",
    "\n",
    "summary_writer = tf.summary.create_file_writer(LOG_DIR)\n",
    "summary_writer.set_as_default()"
   ]
  },
  {
   "cell_type": "code",
   "execution_count": 1708,
   "id": "211d1f91-67ef-42d9-be2f-22581ecf83cd",
   "metadata": {},
   "outputs": [],
   "source": [
    "# for i in range(starting_loop, training_loops):\n",
    "#     training_loop(train_step=i, metrics=metrics)"
   ]
  },
  {
   "cell_type": "code",
   "execution_count": 1709,
   "id": "62da450c-c2ea-4d25-9725-a581b2a3d43e",
   "metadata": {},
   "outputs": [],
   "source": [
    "data_spec = agent.policy.trajectory_spec"
   ]
  },
  {
   "cell_type": "code",
   "execution_count": 1710,
   "id": "4eedb557-5c0a-4428-a6bd-5dd12b4e6eae",
   "metadata": {},
   "outputs": [],
   "source": [
    "def training_loop(train_step, metrics, steps):\n",
    "    \"\"\"Returns a function that runs a single training loop and logs metrics.\"\"\"\n",
    "    # for batch_id in range(async_steps_per_loop):\n",
    "    #     # driver.run()\n",
    "    #     _export_metrics_and_summaries(\n",
    "    #         step=train_step * async_steps_per_loop + batch_id, metrics=metrics\n",
    "    #     )\n",
    "    # batch_size = driver.env.batch_size\n",
    "    # dataset_it = iter(\n",
    "    #     replay_buffer.as_dataset(\n",
    "    #         sample_batch_size=batch_size,\n",
    "    #         num_steps=steps,\n",
    "    #         single_deterministic_pass=True,\n",
    "    #     )\n",
    "    # )\n",
    "    dataset = train_dataset.batch(1) # HPARAMS['batch_size']\n",
    "    dataset_it = iter(dataset)\n",
    "    # data = next(iterator)\n",
    "\n",
    "    for batch_id in range(async_steps_per_loop):\n",
    "        # experience, unused_info = dataset_it.get_next()\n",
    "        experience = next(dataset_it)\n",
    "        print(f\"experience-v1: {experience}\")\n",
    "        # set_expected_shape(experience, steps)\n",
    "        # print(f\"experience-v2: {experience}\")\n",
    "\n",
    "        trajectories = _trajectory_fn(experience)\n",
    "\n",
    "        loss_info = agent.train(experience=trajectories)\n",
    "\n",
    "        export_utils.export_metrics(\n",
    "            step=train_step * async_steps_per_loop + batch_id,\n",
    "            metrics=[],\n",
    "            loss_info=loss_info,\n",
    "        )\n",
    "\n",
    "    # replay_buffer.clear()\n",
    "\n",
    "    return training_loop"
   ]
  },
  {
   "cell_type": "code",
   "execution_count": 1711,
   "id": "92bba49d-a014-4169-968c-92cd9103279c",
   "metadata": {},
   "outputs": [],
   "source": [
    "# dataset = train_dataset.batch(1) # HPARAMS['batch_size']\n",
    "# dataset_it = iter(dataset)\n",
    "\n",
    "# experience = next(dataset_it)"
   ]
  },
  {
   "cell_type": "code",
   "execution_count": 1712,
   "id": "89c5a71e-c7b1-4e17-81d4-5f7c2c34b353",
   "metadata": {},
   "outputs": [
    {
     "name": "stdout",
     "output_type": "stream",
     "text": [
      "experience-v1: {'bucketized_user_age': <tf.Tensor: shape=(1,), dtype=float32, numpy=array([25.], dtype=float32)>, 'movie_genres': <tf.Tensor: shape=(1, 1), dtype=int64, numpy=array([[4]])>, 'movie_id': <tf.Tensor: shape=(1,), dtype=string, numpy=array([b'211'], dtype=object)>, 'timestamp': <tf.Tensor: shape=(1,), dtype=int64, numpy=array([874948475])>, 'user_id': <tf.Tensor: shape=(1,), dtype=string, numpy=array([b'346'], dtype=object)>, 'user_occupation_text': <tf.Tensor: shape=(1,), dtype=string, numpy=array([b'other'], dtype=object)>, 'user_rating': <tf.Tensor: shape=(1,), dtype=float32, numpy=array([4.], dtype=float32)>}\n"
     ]
    },
    {
     "ename": "ValueError",
     "evalue": "Received a mix of batched and unbatched Tensors, or Tensors are not compatible with Specs.  num_outer_dims: 2.\nSaw tensor_shapes:\n   Trajectory(\n{'action': TensorShape([1]),\n 'discount': TensorShape([1]),\n 'next_step_type': TensorShape([1]),\n 'observation': DictWrapper({'global': TensorShape([16])}),\n 'policy_info': PerArmPolicyInfo(log_probability=(), predicted_rewards_mean=TensorShape([3]), multiobjective_scalarized_predicted_rewards_mean=(), predicted_rewards_optimistic=(), predicted_rewards_sampled=(), bandit_policy_type=(), chosen_arm_features=TensorShape([16])),\n 'reward': TensorShape([1]),\n 'step_type': TensorShape([1])})\nAnd spec_shapes:\n   Trajectory(\n{'action': TensorShape([]),\n 'discount': TensorShape([]),\n 'next_step_type': TensorShape([]),\n 'observation': DictWrapper({'global': TensorShape([16])}),\n 'policy_info': PerArmPolicyInfo(log_probability=(), predicted_rewards_mean=TensorShape([3]), multiobjective_scalarized_predicted_rewards_mean=(), predicted_rewards_optimistic=(), predicted_rewards_sampled=(), bandit_policy_type=(), chosen_arm_features=TensorShape([16])),\n 'reward': TensorShape([]),\n 'step_type': TensorShape([])})",
     "output_type": "error",
     "traceback": [
      "\u001b[0;31m---------------------------------------------------------------------------\u001b[0m",
      "\u001b[0;31mValueError\u001b[0m                                Traceback (most recent call last)",
      "Cell \u001b[0;32mIn[1712], line 1\u001b[0m\n\u001b[0;32m----> 1\u001b[0m \u001b[43mtraining_loop\u001b[49m\u001b[43m(\u001b[49m\u001b[38;5;241;43m1\u001b[39;49m\u001b[43m,\u001b[49m\u001b[43mmetrics\u001b[49m\u001b[43m,\u001b[49m\u001b[43m \u001b[49m\u001b[43msteps_per_loop\u001b[49m\u001b[43m)\u001b[49m\n",
      "Cell \u001b[0;32mIn[1710], line 29\u001b[0m, in \u001b[0;36mtraining_loop\u001b[0;34m(train_step, metrics, steps)\u001b[0m\n\u001b[1;32m     24\u001b[0m     \u001b[38;5;66;03m# set_expected_shape(experience, steps)\u001b[39;00m\n\u001b[1;32m     25\u001b[0m     \u001b[38;5;66;03m# print(f\"experience-v2: {experience}\")\u001b[39;00m\n\u001b[1;32m     27\u001b[0m     trajectories \u001b[38;5;241m=\u001b[39m _trajectory_fn(experience)\n\u001b[0;32m---> 29\u001b[0m     loss_info \u001b[38;5;241m=\u001b[39m \u001b[43magent\u001b[49m\u001b[38;5;241;43m.\u001b[39;49m\u001b[43mtrain\u001b[49m\u001b[43m(\u001b[49m\u001b[43mexperience\u001b[49m\u001b[38;5;241;43m=\u001b[39;49m\u001b[43mtrajectories\u001b[49m\u001b[43m)\u001b[49m\n\u001b[1;32m     31\u001b[0m     export_utils\u001b[38;5;241m.\u001b[39mexport_metrics(\n\u001b[1;32m     32\u001b[0m         step\u001b[38;5;241m=\u001b[39mtrain_step \u001b[38;5;241m*\u001b[39m async_steps_per_loop \u001b[38;5;241m+\u001b[39m batch_id,\n\u001b[1;32m     33\u001b[0m         metrics\u001b[38;5;241m=\u001b[39m[],\n\u001b[1;32m     34\u001b[0m         loss_info\u001b[38;5;241m=\u001b[39mloss_info,\n\u001b[1;32m     35\u001b[0m     )\n\u001b[1;32m     37\u001b[0m \u001b[38;5;66;03m# replay_buffer.clear()\u001b[39;00m\n",
      "File \u001b[0;32m/opt/conda/lib/python3.10/site-packages/tensorflow/python/util/traceback_utils.py:153\u001b[0m, in \u001b[0;36mfilter_traceback.<locals>.error_handler\u001b[0;34m(*args, **kwargs)\u001b[0m\n\u001b[1;32m    151\u001b[0m \u001b[38;5;28;01mexcept\u001b[39;00m \u001b[38;5;167;01mException\u001b[39;00m \u001b[38;5;28;01mas\u001b[39;00m e:\n\u001b[1;32m    152\u001b[0m   filtered_tb \u001b[38;5;241m=\u001b[39m _process_traceback_frames(e\u001b[38;5;241m.\u001b[39m__traceback__)\n\u001b[0;32m--> 153\u001b[0m   \u001b[38;5;28;01mraise\u001b[39;00m e\u001b[38;5;241m.\u001b[39mwith_traceback(filtered_tb) \u001b[38;5;28;01mfrom\u001b[39;00m \u001b[38;5;28;01mNone\u001b[39;00m\n\u001b[1;32m    154\u001b[0m \u001b[38;5;28;01mfinally\u001b[39;00m:\n\u001b[1;32m    155\u001b[0m   \u001b[38;5;28;01mdel\u001b[39;00m filtered_tb\n",
      "File \u001b[0;32m/opt/conda/lib/python3.10/site-packages/tf_agents/agents/tf_agent.py:330\u001b[0m, in \u001b[0;36mTFAgent.train\u001b[0;34m(self, experience, weights, **kwargs)\u001b[0m\n\u001b[1;32m    325\u001b[0m   \u001b[38;5;28;01mraise\u001b[39;00m \u001b[38;5;167;01mRuntimeError\u001b[39;00m(\n\u001b[1;32m    326\u001b[0m       \u001b[38;5;124m\"\u001b[39m\u001b[38;5;124mCannot find _train_fn.  Did \u001b[39m\u001b[38;5;132;01m%s\u001b[39;00m\u001b[38;5;124m.__init__ call super?\u001b[39m\u001b[38;5;124m\"\u001b[39m\n\u001b[1;32m    327\u001b[0m       \u001b[38;5;241m%\u001b[39m \u001b[38;5;28mtype\u001b[39m(\u001b[38;5;28mself\u001b[39m)\u001b[38;5;241m.\u001b[39m\u001b[38;5;18m__name__\u001b[39m)\n\u001b[1;32m    329\u001b[0m \u001b[38;5;28;01mif\u001b[39;00m \u001b[38;5;28mself\u001b[39m\u001b[38;5;241m.\u001b[39m_enable_functions:\n\u001b[0;32m--> 330\u001b[0m   loss_info \u001b[38;5;241m=\u001b[39m \u001b[38;5;28;43mself\u001b[39;49m\u001b[38;5;241;43m.\u001b[39;49m\u001b[43m_train_fn\u001b[49m\u001b[43m(\u001b[49m\n\u001b[1;32m    331\u001b[0m \u001b[43m      \u001b[49m\u001b[43mexperience\u001b[49m\u001b[38;5;241;43m=\u001b[39;49m\u001b[43mexperience\u001b[49m\u001b[43m,\u001b[49m\u001b[43m \u001b[49m\u001b[43mweights\u001b[49m\u001b[38;5;241;43m=\u001b[39;49m\u001b[43mweights\u001b[49m\u001b[43m,\u001b[49m\u001b[43m \u001b[49m\u001b[38;5;241;43m*\u001b[39;49m\u001b[38;5;241;43m*\u001b[39;49m\u001b[43mkwargs\u001b[49m\u001b[43m)\u001b[49m\n\u001b[1;32m    332\u001b[0m \u001b[38;5;28;01melse\u001b[39;00m:\n\u001b[1;32m    333\u001b[0m   loss_info \u001b[38;5;241m=\u001b[39m \u001b[38;5;28mself\u001b[39m\u001b[38;5;241m.\u001b[39m_train(experience\u001b[38;5;241m=\u001b[39mexperience, weights\u001b[38;5;241m=\u001b[39mweights, \u001b[38;5;241m*\u001b[39m\u001b[38;5;241m*\u001b[39mkwargs)\n",
      "File \u001b[0;32m/opt/conda/lib/python3.10/site-packages/tf_agents/utils/common.py:188\u001b[0m, in \u001b[0;36mfunction_in_tf1.<locals>.maybe_wrap.<locals>.with_check_resource_vars\u001b[0;34m(*fn_args, **fn_kwargs)\u001b[0m\n\u001b[1;32m    184\u001b[0m check_tf1_allowed()\n\u001b[1;32m    185\u001b[0m \u001b[38;5;28;01mif\u001b[39;00m has_eager_been_enabled():\n\u001b[1;32m    186\u001b[0m   \u001b[38;5;66;03m# We're either in eager mode or in tf.function mode (no in-between); so\u001b[39;00m\n\u001b[1;32m    187\u001b[0m   \u001b[38;5;66;03m# autodep-like behavior is already expected of fn.\u001b[39;00m\n\u001b[0;32m--> 188\u001b[0m   \u001b[38;5;28;01mreturn\u001b[39;00m \u001b[43mfn\u001b[49m\u001b[43m(\u001b[49m\u001b[38;5;241;43m*\u001b[39;49m\u001b[43mfn_args\u001b[49m\u001b[43m,\u001b[49m\u001b[43m \u001b[49m\u001b[38;5;241;43m*\u001b[39;49m\u001b[38;5;241;43m*\u001b[39;49m\u001b[43mfn_kwargs\u001b[49m\u001b[43m)\u001b[49m\n\u001b[1;32m    189\u001b[0m \u001b[38;5;28;01mif\u001b[39;00m \u001b[38;5;129;01mnot\u001b[39;00m resource_variables_enabled():\n\u001b[1;32m    190\u001b[0m   \u001b[38;5;28;01mraise\u001b[39;00m \u001b[38;5;167;01mRuntimeError\u001b[39;00m(MISSING_RESOURCE_VARIABLES_ERROR)\n",
      "File \u001b[0;32m/opt/conda/lib/python3.10/site-packages/tf_agents/bandits/agents/greedy_reward_prediction_agent.py:228\u001b[0m, in \u001b[0;36mGreedyRewardPredictionAgent._train\u001b[0;34m(self, experience, weights)\u001b[0m\n\u001b[1;32m    227\u001b[0m \u001b[38;5;28;01mdef\u001b[39;00m \u001b[38;5;21m_train\u001b[39m(\u001b[38;5;28mself\u001b[39m, experience, weights):\n\u001b[0;32m--> 228\u001b[0m   experience \u001b[38;5;241m=\u001b[39m \u001b[38;5;28;43mself\u001b[39;49m\u001b[38;5;241;43m.\u001b[39;49m\u001b[43m_as_trajectory\u001b[49m\u001b[43m(\u001b[49m\u001b[43mexperience\u001b[49m\u001b[43m)\u001b[49m\n\u001b[1;32m    230\u001b[0m   \u001b[38;5;28;01mwith\u001b[39;00m tf\u001b[38;5;241m.\u001b[39mGradientTape() \u001b[38;5;28;01mas\u001b[39;00m tape:\n\u001b[1;32m    231\u001b[0m     loss_info \u001b[38;5;241m=\u001b[39m \u001b[38;5;28mself\u001b[39m\u001b[38;5;241m.\u001b[39m_loss(experience, weights\u001b[38;5;241m=\u001b[39mweights, training\u001b[38;5;241m=\u001b[39m\u001b[38;5;28;01mTrue\u001b[39;00m)\n",
      "File \u001b[0;32m/opt/conda/lib/python3.10/site-packages/tf_agents/agents/data_converter.py:340\u001b[0m, in \u001b[0;36mAsTrajectory.__call__\u001b[0;34m(self, value)\u001b[0m\n\u001b[1;32m    338\u001b[0m \u001b[38;5;28;01melse\u001b[39;00m:\n\u001b[1;32m    339\u001b[0m   \u001b[38;5;28;01mraise\u001b[39;00m \u001b[38;5;167;01mTypeError\u001b[39;00m(\u001b[38;5;124m'\u001b[39m\u001b[38;5;124mInput type not supported: \u001b[39m\u001b[38;5;132;01m{}\u001b[39;00m\u001b[38;5;124m'\u001b[39m\u001b[38;5;241m.\u001b[39mformat(value))\n\u001b[0;32m--> 340\u001b[0m \u001b[43m_validate_trajectory\u001b[49m\u001b[43m(\u001b[49m\n\u001b[1;32m    341\u001b[0m \u001b[43m    \u001b[49m\u001b[43mvalue\u001b[49m\u001b[43m,\u001b[49m\u001b[43m \u001b[49m\u001b[38;5;28;43mself\u001b[39;49m\u001b[38;5;241;43m.\u001b[39;49m\u001b[43m_data_context\u001b[49m\u001b[38;5;241;43m.\u001b[39;49m\u001b[43mtrajectory_spec\u001b[49m\u001b[43m,\u001b[49m\n\u001b[1;32m    342\u001b[0m \u001b[43m    \u001b[49m\u001b[43msequence_length\u001b[49m\u001b[38;5;241;43m=\u001b[39;49m\u001b[38;5;28;43mself\u001b[39;49m\u001b[38;5;241;43m.\u001b[39;49m\u001b[43m_sequence_length\u001b[49m\u001b[43m,\u001b[49m\n\u001b[1;32m    343\u001b[0m \u001b[43m    \u001b[49m\u001b[43mnum_outer_dims\u001b[49m\u001b[38;5;241;43m=\u001b[39;49m\u001b[38;5;28;43mself\u001b[39;49m\u001b[38;5;241;43m.\u001b[39;49m\u001b[43m_num_outer_dims\u001b[49m\u001b[43m)\u001b[49m\n\u001b[1;32m    344\u001b[0m value \u001b[38;5;241m=\u001b[39m nest_utils\u001b[38;5;241m.\u001b[39mprune_extra_keys(\n\u001b[1;32m    345\u001b[0m     \u001b[38;5;28mself\u001b[39m\u001b[38;5;241m.\u001b[39m_data_context\u001b[38;5;241m.\u001b[39mtrajectory_spec, value)\n\u001b[1;32m    346\u001b[0m \u001b[38;5;28;01mreturn\u001b[39;00m value\n",
      "File \u001b[0;32m/opt/conda/lib/python3.10/site-packages/tf_agents/agents/data_converter.py:174\u001b[0m, in \u001b[0;36m_validate_trajectory\u001b[0;34m(value, trajectory_spec, sequence_length, num_outer_dims)\u001b[0m\n\u001b[1;32m    168\u001b[0m \u001b[38;5;28;01mdef\u001b[39;00m \u001b[38;5;21m_validate_trajectory\u001b[39m(\n\u001b[1;32m    169\u001b[0m     value: trajectory\u001b[38;5;241m.\u001b[39mTrajectory,\n\u001b[1;32m    170\u001b[0m     trajectory_spec: trajectory\u001b[38;5;241m.\u001b[39mTrajectory,\n\u001b[1;32m    171\u001b[0m     sequence_length: typing\u001b[38;5;241m.\u001b[39mOptional[\u001b[38;5;28mint\u001b[39m],\n\u001b[1;32m    172\u001b[0m     num_outer_dims: te\u001b[38;5;241m.\u001b[39mLiteral[\u001b[38;5;241m1\u001b[39m, \u001b[38;5;241m2\u001b[39m] \u001b[38;5;241m=\u001b[39m \u001b[38;5;241m2\u001b[39m):  \u001b[38;5;66;03m# pylint: disable=bad-whitespace\u001b[39;00m\n\u001b[1;32m    173\u001b[0m \u001b[38;5;250m  \u001b[39m\u001b[38;5;124;03m\"\"\"Validate a Trajectory given its spec and a sequence length.\"\"\"\u001b[39;00m\n\u001b[0;32m--> 174\u001b[0m   \u001b[38;5;28;01mif\u001b[39;00m \u001b[38;5;129;01mnot\u001b[39;00m \u001b[43mnest_utils\u001b[49m\u001b[38;5;241;43m.\u001b[39;49m\u001b[43mis_batched_nested_tensors\u001b[49m\u001b[43m(\u001b[49m\n\u001b[1;32m    175\u001b[0m \u001b[43m      \u001b[49m\u001b[43mvalue\u001b[49m\u001b[43m,\u001b[49m\u001b[43m \u001b[49m\u001b[43mtrajectory_spec\u001b[49m\u001b[43m,\u001b[49m\u001b[43m \u001b[49m\u001b[43mnum_outer_dims\u001b[49m\u001b[38;5;241;43m=\u001b[39;49m\u001b[43mnum_outer_dims\u001b[49m\u001b[43m,\u001b[49m\n\u001b[1;32m    176\u001b[0m \u001b[43m      \u001b[49m\u001b[43mallow_extra_fields\u001b[49m\u001b[38;5;241;43m=\u001b[39;49m\u001b[38;5;28;43;01mTrue\u001b[39;49;00m\u001b[43m)\u001b[49m:\n\u001b[1;32m    177\u001b[0m     debug_str_1 \u001b[38;5;241m=\u001b[39m tf\u001b[38;5;241m.\u001b[39mnest\u001b[38;5;241m.\u001b[39mmap_structure(\u001b[38;5;28;01mlambda\u001b[39;00m tp: tp\u001b[38;5;241m.\u001b[39mshape, value)\n\u001b[1;32m    178\u001b[0m     debug_str_2 \u001b[38;5;241m=\u001b[39m tf\u001b[38;5;241m.\u001b[39mnest\u001b[38;5;241m.\u001b[39mmap_structure(\n\u001b[1;32m    179\u001b[0m         \u001b[38;5;28;01mlambda\u001b[39;00m spec: spec\u001b[38;5;241m.\u001b[39mshape, trajectory_spec)\n",
      "File \u001b[0;32m/opt/conda/lib/python3.10/site-packages/tf_agents/utils/nest_utils.py:546\u001b[0m, in \u001b[0;36mis_batched_nested_tensors\u001b[0;34m(tensors, specs, num_outer_dims, allow_extra_fields, check_dtypes)\u001b[0m\n\u001b[1;32m    541\u001b[0m \u001b[38;5;28;01mif\u001b[39;00m \u001b[38;5;28mall\u001b[39m(\n\u001b[1;32m    542\u001b[0m     discrepancy \u001b[38;5;241m==\u001b[39m tensor_ndims_discrepancy[\u001b[38;5;241m0\u001b[39m]\n\u001b[1;32m    543\u001b[0m     \u001b[38;5;28;01mfor\u001b[39;00m discrepancy \u001b[38;5;129;01min\u001b[39;00m tensor_ndims_discrepancy) \u001b[38;5;129;01mand\u001b[39;00m \u001b[38;5;28mall\u001b[39m(tensor_matches_spec):\n\u001b[1;32m    544\u001b[0m   \u001b[38;5;28;01mreturn\u001b[39;00m \u001b[38;5;28;01mFalse\u001b[39;00m\n\u001b[0;32m--> 546\u001b[0m \u001b[38;5;28;01mraise\u001b[39;00m \u001b[38;5;167;01mValueError\u001b[39;00m(\n\u001b[1;32m    547\u001b[0m     \u001b[38;5;124m'\u001b[39m\u001b[38;5;124mReceived a mix of batched and unbatched Tensors, or Tensors\u001b[39m\u001b[38;5;124m'\u001b[39m\n\u001b[1;32m    548\u001b[0m     \u001b[38;5;124m'\u001b[39m\u001b[38;5;124m are not compatible with Specs.  num_outer_dims: \u001b[39m\u001b[38;5;132;01m%d\u001b[39;00m\u001b[38;5;124m.\u001b[39m\u001b[38;5;130;01m\\n\u001b[39;00m\u001b[38;5;124m'\u001b[39m\n\u001b[1;32m    549\u001b[0m     \u001b[38;5;124m'\u001b[39m\u001b[38;5;124mSaw tensor_shapes:\u001b[39m\u001b[38;5;130;01m\\n\u001b[39;00m\u001b[38;5;124m   \u001b[39m\u001b[38;5;132;01m%s\u001b[39;00m\u001b[38;5;130;01m\\n\u001b[39;00m\u001b[38;5;124m'\u001b[39m\n\u001b[1;32m    550\u001b[0m     \u001b[38;5;124m'\u001b[39m\u001b[38;5;124mAnd spec_shapes:\u001b[39m\u001b[38;5;130;01m\\n\u001b[39;00m\u001b[38;5;124m   \u001b[39m\u001b[38;5;132;01m%s\u001b[39;00m\u001b[38;5;124m'\u001b[39m \u001b[38;5;241m%\u001b[39m\n\u001b[1;32m    551\u001b[0m     (num_outer_dims, tf\u001b[38;5;241m.\u001b[39mnest\u001b[38;5;241m.\u001b[39mpack_sequence_as(specs, tensor_shapes),\n\u001b[1;32m    552\u001b[0m      tf\u001b[38;5;241m.\u001b[39mnest\u001b[38;5;241m.\u001b[39mpack_sequence_as(specs, spec_shapes)))\n",
      "\u001b[0;31mValueError\u001b[0m: Received a mix of batched and unbatched Tensors, or Tensors are not compatible with Specs.  num_outer_dims: 2.\nSaw tensor_shapes:\n   Trajectory(\n{'action': TensorShape([1]),\n 'discount': TensorShape([1]),\n 'next_step_type': TensorShape([1]),\n 'observation': DictWrapper({'global': TensorShape([16])}),\n 'policy_info': PerArmPolicyInfo(log_probability=(), predicted_rewards_mean=TensorShape([3]), multiobjective_scalarized_predicted_rewards_mean=(), predicted_rewards_optimistic=(), predicted_rewards_sampled=(), bandit_policy_type=(), chosen_arm_features=TensorShape([16])),\n 'reward': TensorShape([1]),\n 'step_type': TensorShape([1])})\nAnd spec_shapes:\n   Trajectory(\n{'action': TensorShape([]),\n 'discount': TensorShape([]),\n 'next_step_type': TensorShape([]),\n 'observation': DictWrapper({'global': TensorShape([16])}),\n 'policy_info': PerArmPolicyInfo(log_probability=(), predicted_rewards_mean=TensorShape([3]), multiobjective_scalarized_predicted_rewards_mean=(), predicted_rewards_optimistic=(), predicted_rewards_sampled=(), bandit_policy_type=(), chosen_arm_features=TensorShape([16])),\n 'reward': TensorShape([]),\n 'step_type': TensorShape([])})"
     ]
    }
   ],
   "source": [
    "training_loop(1,metrics, steps_per_loop)"
   ]
  },
  {
   "cell_type": "code",
   "execution_count": 1695,
   "id": "3b2e2ed9-ab79-44b2-939b-6286e5faff78",
   "metadata": {},
   "outputs": [
    {
     "data": {
      "text/plain": [
       "{'bucketized_user_age': <tf.Tensor: shape=(1,), dtype=float32, numpy=array([25.], dtype=float32)>,\n",
       " 'movie_genres': <tf.Tensor: shape=(1, 1), dtype=int64, numpy=array([[4]])>,\n",
       " 'movie_id': <tf.Tensor: shape=(1,), dtype=string, numpy=array([b'211'], dtype=object)>,\n",
       " 'timestamp': <tf.Tensor: shape=(1,), dtype=int64, numpy=array([874948475])>,\n",
       " 'user_id': <tf.Tensor: shape=(1,), dtype=string, numpy=array([b'346'], dtype=object)>,\n",
       " 'user_occupation_text': <tf.Tensor: shape=(1,), dtype=string, numpy=array([b'other'], dtype=object)>,\n",
       " 'user_rating': <tf.Tensor: shape=(1,), dtype=float32, numpy=array([4.], dtype=float32)>}"
      ]
     },
     "execution_count": 1695,
     "metadata": {},
     "output_type": "execute_result"
    }
   ],
   "source": [
    "experience"
   ]
  },
  {
   "cell_type": "code",
   "execution_count": null,
   "id": "53db8881-c4af-4ae8-b294-85fd8a7a2637",
   "metadata": {},
   "outputs": [],
   "source": []
  },
  {
   "cell_type": "markdown",
   "id": "166f26b9-1c5e-47a1-bcab-61e7afa4d931",
   "metadata": {
    "jp-MarkdownHeadingCollapsed": true,
    "tags": []
   },
   "source": [
    "# Neural Bandits\n",
    "\n",
    "* `ActorNetwork` and `EncodingNetwork`"
   ]
  },
  {
   "cell_type": "code",
   "execution_count": 200,
   "id": "dcff2e79-e0a9-4d46-896a-9d1129ac413a",
   "metadata": {},
   "outputs": [],
   "source": [
    "from tf_agents.bandits.agents import neural_epsilon_greedy_agent as eps_greedy_agent\n",
    "from tf_agents.bandits.metrics import tf_metrics as tf_bandit_metrics\n",
    "from tf_agents.bandits.networks import global_and_arm_feature_network"
   ]
  },
  {
   "cell_type": "code",
   "execution_count": 201,
   "id": "9390909d-c0e6-4cee-bdb9-c668a8a7ad8c",
   "metadata": {},
   "outputs": [],
   "source": [
    "LAYERS = [16, 4]\n",
    "LR = 0.05\n",
    "EPSILON = 0.02"
   ]
  },
  {
   "cell_type": "code",
   "execution_count": 202,
   "id": "0d78a5f7-b982-416f-841f-a40ae464d82e",
   "metadata": {},
   "outputs": [],
   "source": [
    "network = (\n",
    "    global_and_arm_feature_network.create_feed_forward_dot_product_network(\n",
    "        per_arm_tf_env.time_step_spec().observation,\n",
    "        global_layers=LAYERS,\n",
    "        arm_layers=LAYERS\n",
    "    )\n",
    ")"
   ]
  },
  {
   "cell_type": "code",
   "execution_count": 203,
   "id": "79c9ca26-1efd-450f-a080-8771fba543f0",
   "metadata": {},
   "outputs": [],
   "source": [
    "agent = eps_greedy_agent.NeuralEpsilonGreedyAgent(\n",
    "    time_step_spec=per_arm_tf_env.time_step_spec(),\n",
    "    action_spec=per_arm_tf_env.action_spec(),\n",
    "    reward_network=network,\n",
    "    optimizer=tf.compat.v1.train.AdamOptimizer(learning_rate=LR),\n",
    "    epsilon=EPSILON,\n",
    "    emit_policy_info='predicted_rewards_mean',\n",
    "    info_fields_to_inherit_from_greedy=['predicted_rewards_mean']\n",
    ")"
   ]
  },
  {
   "cell_type": "code",
   "execution_count": 210,
   "id": "013dbde9-901c-4aeb-b5e7-1ce74ccbd5f2",
   "metadata": {},
   "outputs": [
    {
     "name": "stdout",
     "output_type": "stream",
     "text": [
      "training data spec:  Trajectory(\n",
      "{'action': BoundedTensorSpec(shape=(), dtype=tf.int32, name='action', minimum=array(0, dtype=int32), maximum=array(9, dtype=int32)),\n",
      " 'discount': BoundedTensorSpec(shape=(), dtype=tf.float32, name='discount', minimum=array(0., dtype=float32), maximum=array(1., dtype=float32)),\n",
      " 'next_step_type': TensorSpec(shape=(), dtype=tf.int32, name='step_type'),\n",
      " 'observation': DictWrapper({'global': TensorSpec(shape=(16,), dtype=tf.float32, name=None), 'per_arm': TensorSpec(shape=(10, 16), dtype=tf.float32, name=None)}),\n",
      " 'policy_info': PolicyInfo(log_probability=(), predicted_rewards_mean=TensorSpec(shape=(10,), dtype=tf.float32, name=None), multiobjective_scalarized_predicted_rewards_mean=(), predicted_rewards_optimistic=(), predicted_rewards_sampled=(), bandit_policy_type=()),\n",
      " 'reward': TensorSpec(shape=(), dtype=tf.float32, name='reward'),\n",
      " 'step_type': TensorSpec(shape=(), dtype=tf.int32, name='step_type')})\n"
     ]
    }
   ],
   "source": [
    "print('training data spec: ', agent.training_data_spec)"
   ]
  },
  {
   "cell_type": "code",
   "execution_count": 211,
   "id": "c37d0604-d73c-4db4-a1f2-858d6cc84989",
   "metadata": {},
   "outputs": [
    {
     "name": "stdout",
     "output_type": "stream",
     "text": [
      "observation spec in training:  {'global': TensorSpec(shape=(16,), dtype=tf.float32, name=None), 'per_arm': TensorSpec(shape=(10, 16), dtype=tf.float32, name=None)}\n"
     ]
    }
   ],
   "source": [
    "print('observation spec in training: ', agent.training_data_spec.observation)"
   ]
  },
  {
   "cell_type": "code",
   "execution_count": 213,
   "id": "449ccbaf-2245-40f9-ad23-9b16e1aa03ef",
   "metadata": {},
   "outputs": [],
   "source": [
    "# print('chosen arm features: ', agent.training_data_spec.policy_info.chosen_arm_features)"
   ]
  },
  {
   "cell_type": "code",
   "execution_count": 214,
   "id": "8851d632-62dd-4c41-ae5e-1c944e0ff9ac",
   "metadata": {},
   "outputs": [],
   "source": [
    "TRAINING_LOOPS=10\n",
    "STEPS_PER_LOOP=1"
   ]
  },
  {
   "cell_type": "code",
   "execution_count": 215,
   "id": "b6639883-0549-4fd0-83c1-a2723f946b48",
   "metadata": {},
   "outputs": [
    {
     "name": "stdout",
     "output_type": "stream",
     "text": [
      "complete train job in 1 minutes\n"
     ]
    }
   ],
   "source": [
    "replay_buffer = tf_uniform_replay_buffer.TFUniformReplayBuffer(\n",
    "    data_spec=agent.policy.trajectory_spec,\n",
    "    batch_size=BATCH_SIZE,\n",
    "    max_length=steps_per_loop)\n",
    "\n",
    "observers = [replay_buffer.add_batch, regret_metric]\n",
    "\n",
    "driver = dynamic_step_driver.DynamicStepDriver(\n",
    "    env=per_arm_tf_env,\n",
    "    policy=agent.collect_policy,\n",
    "    num_steps=steps_per_loop * BATCH_SIZE,\n",
    "    observers=observers\n",
    ")\n",
    "\n",
    "regret_values = []\n",
    "\n",
    "#start the timer and training\n",
    "start_time = time.time()\n",
    "\n",
    "for _ in range(TRAINING_LOOPS):\n",
    "    driver.run()\n",
    "    loss_info = agent.train(replay_buffer.gather_all())\n",
    "    replay_buffer.clear()\n",
    "    regret_values.append(regret_metric.result())\n",
    "    \n",
    "end_time = time.time()\n",
    "runtime_mins = int((end_time - start_time) / 60)\n",
    "print(f\"complete train job in {runtime_mins} minutes\")"
   ]
  },
  {
   "cell_type": "code",
   "execution_count": 216,
   "id": "3c46b97b-64bb-4b34-90fa-9d54ab8d2775",
   "metadata": {},
   "outputs": [
    {
     "data": {
      "image/png": "[encoded data removed]",
      "text/plain": [
       "<Figure size 640x480 with 1 Axes>"
      ]
     },
     "metadata": {},
     "output_type": "display_data"
    }
   ],
   "source": [
    "plt.plot(regret_values)\n",
    "plt.title('Regret of LinUCB on the Linear per-arm environment')\n",
    "plt.xlabel('Number of Iterations')\n",
    "_ = plt.ylabel('Average Regret')"
   ]
  },
  {
   "cell_type": "markdown",
   "id": "b1ada77e-a81d-408e-9c1e-7bfab1ffaf71",
   "metadata": {
    "tags": []
   },
   "source": [
    "#### TODO"
   ]
  },
  {
   "cell_type": "code",
   "execution_count": null,
   "id": "8bca1220-b08c-46af-9f20-6032d61cb73c",
   "metadata": {},
   "outputs": [],
   "source": [
    "# elif FLAGS.agent == 'NeuralLinUCB':\n",
    "# obs_spec = environment.observation_spec()\n",
    "# network = (\n",
    "#     global_and_arm_feature_network.create_feed_forward_common_tower_network(\n",
    "#         obs_spec, (40, 30), (30, 40), (40, 20), ENCODING_DIM\n",
    "#     )\n",
    "# )\n",
    "# agent = neural_linucb_agent.NeuralLinUCBAgent(\n",
    "#     time_step_spec=environment.time_step_spec(),\n",
    "#     action_spec=environment.action_spec(),\n",
    "#     encoding_network=network,\n",
    "#     encoding_network_num_train_steps=EPS_PHASE_STEPS,\n",
    "#     encoding_dim=ENCODING_DIM,\n",
    "#     optimizer=tf.compat.v1.train.AdamOptimizer(learning_rate=LR),\n",
    "#     alpha=1.0,\n",
    "#     gamma=1.0,\n",
    "#     epsilon_greedy=EPSILON,\n",
    "#     accepts_per_arm_features=True,\n",
    "#     debug_summaries=True,\n",
    "#     summarize_grads_and_vars=True,\n",
    "#     emit_policy_info=policy_utilities.InfoFields.PREDICTED_REWARDS_MEAN,\n",
    "# )"
   ]
  },
  {
   "cell_type": "markdown",
   "id": "71c7403d-a6b2-4a46-979c-a9942a2a4149",
   "metadata": {},
   "source": [
    "# Ranking"
   ]
  },
  {
   "cell_type": "code",
   "execution_count": 21,
   "id": "b91482a5-2c42-4e0f-89d8-558d2462850d",
   "metadata": {},
   "outputs": [],
   "source": [
    "global_dim = 9 \n",
    "item_dim   = 11 \n",
    "num_items  = 50\n",
    "num_slots  = 3 \n",
    "distance_threshold = 5.0 \n",
    "batch_size = 128  \n",
    "\n",
    "def global_sampling_fn():\n",
    "    return np.random.randint(-1, 1, [global_dim]).astype(np.float32)\n",
    "\n",
    "def item_sampling_fn():\n",
    "    return np.random.randint(-2, 3, [item_dim]).astype(np.float32)\n",
    "\n",
    "# Inner product with excess dimensions ignored.\n",
    "scores_weight_matrix = np.eye(11, 9, dtype=np.float32)"
   ]
  },
  {
   "cell_type": "code",
   "execution_count": 22,
   "id": "4027d62e-33f0-4e5c-9d2c-22eb59896d5a",
   "metadata": {},
   "outputs": [
    {
     "data": {
      "text/plain": [
       "array([-1., -1., -1.,  0., -1.,  0., -1.,  0., -1.], dtype=float32)"
      ]
     },
     "execution_count": 22,
     "metadata": {},
     "output_type": "execute_result"
    }
   ],
   "source": [
    "global_sampling_fn()"
   ]
  },
  {
   "cell_type": "code",
   "execution_count": 23,
   "id": "62aea43d-d918-4ffb-9a04-00fd301f2ffb",
   "metadata": {},
   "outputs": [
    {
     "data": {
      "text/plain": [
       "array([-1.,  0.,  0., -1.,  0.,  2.,  0., -2.,  0.,  0.,  1.],\n",
       "      dtype=float32)"
      ]
     },
     "execution_count": 23,
     "metadata": {},
     "output_type": "execute_result"
    }
   ],
   "source": [
    "item_sampling_fn()"
   ]
  },
  {
   "cell_type": "code",
   "execution_count": 24,
   "id": "8f62c49c-4627-4be1-b354-a5ea379b85f7",
   "metadata": {},
   "outputs": [
    {
     "data": {
      "text/plain": [
       "array([[1., 0., 0., 0., 0., 0., 0., 0., 0.],\n",
       "       [0., 1., 0., 0., 0., 0., 0., 0., 0.],\n",
       "       [0., 0., 1., 0., 0., 0., 0., 0., 0.],\n",
       "       [0., 0., 0., 1., 0., 0., 0., 0., 0.],\n",
       "       [0., 0., 0., 0., 1., 0., 0., 0., 0.],\n",
       "       [0., 0., 0., 0., 0., 1., 0., 0., 0.],\n",
       "       [0., 0., 0., 0., 0., 0., 1., 0., 0.],\n",
       "       [0., 0., 0., 0., 0., 0., 0., 1., 0.],\n",
       "       [0., 0., 0., 0., 0., 0., 0., 0., 1.],\n",
       "       [0., 0., 0., 0., 0., 0., 0., 0., 0.],\n",
       "       [0., 0., 0., 0., 0., 0., 0., 0., 0.]], dtype=float32)"
      ]
     },
     "execution_count": 24,
     "metadata": {},
     "output_type": "execute_result"
    }
   ],
   "source": [
    "scores_weight_matrix"
   ]
  },
  {
   "cell_type": "code",
   "execution_count": null,
   "id": "f244b2ee-03c0-4135-bdff-20f05acf9d77",
   "metadata": {},
   "outputs": [],
   "source": []
  }
 ],
 "metadata": {
  "environment": {
   "kernel": "python3",
   "name": "tf2-gpu.2-11.m109",
   "type": "gcloud",
   "uri": "gcr.io/deeplearning-platform-release/tf2-gpu.2-11:m109"
  },
  "kernelspec": {
   "display_name": "Python 3",
   "language": "python",
   "name": "python3"
  },
  "language_info": {
   "codemirror_mode": {
    "name": "ipython",
    "version": 3
   },
   "file_extension": ".py",
   "mimetype": "text/x-python",
   "name": "python",
   "nbconvert_exporter": "python",
   "pygments_lexer": "ipython3",
   "version": "3.10.11"
  }
 },
 "nbformat": 4,
 "nbformat_minor": 5
}
