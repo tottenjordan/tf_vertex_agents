{
 "cells": [
  {
   "cell_type": "markdown",
   "id": "64583cdb-2502-4f40-a254-8fa68abe7a32",
   "metadata": {},
   "source": [
    "# Build custom container for Vertex training"
   ]
  },
  {
   "cell_type": "code",
   "execution_count": 1,
   "id": "4e1beb37-0c48-4110-8ca0-24ab78c72b39",
   "metadata": {},
   "outputs": [
    {
     "name": "stdout",
     "output_type": "stream",
     "text": [
      "/home/jupyter/tf_vertex_agents/04-perarm-features-bandit\n"
     ]
    }
   ],
   "source": [
    "!pwd"
   ]
  },
  {
   "cell_type": "markdown",
   "id": "66298299-d4ad-460e-8ab3-ea9fbc012086",
   "metadata": {},
   "source": [
    "## Load env config\n",
    "\n",
    "* use the prefix from `00-env-setup`"
   ]
  },
  {
   "cell_type": "code",
   "execution_count": 2,
   "id": "f1d2542f-d87b-436d-b4bb-08edcbb532ee",
   "metadata": {},
   "outputs": [],
   "source": [
    "PREFIX = 'mabv1'"
   ]
  },
  {
   "cell_type": "code",
   "execution_count": 3,
   "id": "35449112-3c26-4ea9-8c3a-21c283951350",
   "metadata": {},
   "outputs": [
    {
     "name": "stdout",
     "output_type": "stream",
     "text": [
      "\n",
      "PROJECT_ID               = \"wortz-project-352116\"\n",
      "PROJECT_NUM              = \"679926387543\"\n",
      "LOCATION                 = \"us-central1\"\n",
      "\n",
      "REGION                   = \"us-central1\"\n",
      "BQ_LOCATION              = \"US\"\n",
      "VPC_NETWORK_NAME         = \"ucaip-haystack-vpc-network\"\n",
      "\n",
      "VERTEX_SA                = \"679926387543-compute@developer.gserviceaccount.com\"\n",
      "\n",
      "PREFIX                   = \"mabv1\"\n",
      "VERSION                  = \"v1\"\n",
      "\n",
      "BUCKET_NAME              = \"mabv1-wortz-project-352116-bucket\"\n",
      "BUCKET_URI               = \"gs://mabv1-wortz-project-352116-bucket\"\n",
      "DATA_GCS_PREFIX          = \"data\"\n",
      "DATA_PATH                = \"gs://mabv1-wortz-project-352116-bucket/data\"\n",
      "VOCAB_SUBDIR             = \"vocabs\"\n",
      "VOCAB_FILENAME           = \"vocab_dict.pkl\"\n",
      "\n",
      "VPC_NETWORK_FULL         = \"projects/679926387543/global/networks/ucaip-haystack-vpc-network\"\n",
      "\n",
      "BIGQUERY_DATASET_ID      = \"wortz-project-352116.movielens_dataset_mabv1\"\n",
      "BIGQUERY_TABLE_ID        = \"wortz-project-352116.movielens_dataset_mabv1.training_dataset\"\n",
      "\n",
      "REPO_DOCKER_PATH_PREFIX  = \"src\"\n",
      "RL_SUB_DIR               = \"per_arm_rl\"\n",
      "REPOSITORY               = \"rl-movielens-mabv1\"\n",
      "\n"
     ]
    }
   ],
   "source": [
    "# staging GCS\n",
    "GCP_PROJECTS             = !gcloud config get-value project\n",
    "PROJECT_ID               = GCP_PROJECTS[0]\n",
    "\n",
    "# GCS bucket and paths\n",
    "BUCKET_NAME              = f'{PREFIX}-{PROJECT_ID}-bucket'\n",
    "BUCKET_URI               = f'gs://{BUCKET_NAME}'\n",
    "\n",
    "config = !gsutil cat {BUCKET_URI}/config/notebook_env.py\n",
    "print(config.n)\n",
    "exec(config.n)"
   ]
  },
  {
   "cell_type": "code",
   "execution_count": 4,
   "id": "8b16af06-e188-4f4e-a04b-4e0eb8873ca1",
   "metadata": {},
   "outputs": [
    {
     "name": "stdout",
     "output_type": "stream",
     "text": [
      "gs://mabv1-wortz-project-352116-bucket/config/\n",
      "gs://mabv1-wortz-project-352116-bucket/data/\n",
      "gs://mabv1-wortz-project-352116-bucket/generative-trajectories/\n",
      "gs://mabv1-wortz-project-352116-bucket/neural-linear-bandits-v1/\n",
      "gs://mabv1-wortz-project-352116-bucket/vocabs/\n"
     ]
    }
   ],
   "source": [
    "! gsutil ls $BUCKET_URI"
   ]
  },
  {
   "cell_type": "markdown",
   "id": "be79c652-45c8-4b5f-b410-4908829375a3",
   "metadata": {},
   "source": [
    "## imports"
   ]
  },
  {
   "cell_type": "code",
   "execution_count": 5,
   "id": "92272ed8-bfb5-4b40-b7f4-cdbe029f3bf6",
   "metadata": {},
   "outputs": [],
   "source": [
    "import os\n",
    "os.environ['TF_CPP_MIN_LOG_LEVEL'] = '2'"
   ]
  },
  {
   "cell_type": "markdown",
   "id": "261a452d-8ce7-427b-8091-d7d41c57e556",
   "metadata": {},
   "source": [
    "# Build Image"
   ]
  },
  {
   "cell_type": "markdown",
   "id": "5b9bdef1-ac23-49be-96fd-25795f483643",
   "metadata": {},
   "source": [
    "## Container Image Variables"
   ]
  },
  {
   "cell_type": "code",
   "execution_count": 6,
   "id": "6121a632-eeb0-4d33-912d-2812b88321d8",
   "metadata": {},
   "outputs": [
    {
     "name": "stdout",
     "output_type": "stream",
     "text": [
      "DOCKERNAME        = Dockerfile_perarm_feats\n",
      "REPOSITORY        = rl-movielens-mabv1\n",
      "IMAGE_NAME        = train-perarm-feats-v1\n",
      "REMOTE_IMAGE_NAME = us-central1-docker.pkg.dev/wortz-project-352116/rl-movielens-mabv1/train-perarm-feats-v1\n"
     ]
    }
   ],
   "source": [
    "DOCKERNAME                = f'Dockerfile_perarm_feats'\n",
    "\n",
    "REPOSITORY                = f'rl-movielens-{PREFIX}'\n",
    "IMAGE_NAME                = f'train-perarm-feats-{VERSION}'\n",
    "\n",
    "REMOTE_IMAGE_NAME         = f\"{REGION}-docker.pkg.dev/{PROJECT_ID}/{REPOSITORY}/{IMAGE_NAME}\"\n",
    "\n",
    "print(f\"DOCKERNAME        = {DOCKERNAME}\")\n",
    "print(f\"REPOSITORY        = {REPOSITORY}\")\n",
    "print(f\"IMAGE_NAME        = {IMAGE_NAME}\")\n",
    "print(f\"REMOTE_IMAGE_NAME = {REMOTE_IMAGE_NAME}\")"
   ]
  },
  {
   "cell_type": "markdown",
   "id": "bf953a8e-d282-4d7b-9a7d-fd0bee28c70a",
   "metadata": {},
   "source": [
    "## Create Artifact Repository\n",
    "\n",
    "If you don't have an existing artifact repository, create one using the gcloud command below"
   ]
  },
  {
   "cell_type": "code",
   "execution_count": 7,
   "id": "f8288932-054a-46e6-90e8-326e015f2115",
   "metadata": {},
   "outputs": [],
   "source": [
    "# ! gcloud artifacts repositories create $REPOSITORY --repository-format=docker --location=$LOCATION"
   ]
  },
  {
   "cell_type": "markdown",
   "id": "8411ff1c-cbf7-437c-ba54-b223ad3693c6",
   "metadata": {},
   "source": [
    "## Local Docker build\n",
    "\n",
    "Provide a name for your dockerfile and make sure you are authenticated"
   ]
  },
  {
   "cell_type": "code",
   "execution_count": 8,
   "id": "e2ddd661-18a9-4ed9-85d0-716b0c094026",
   "metadata": {},
   "outputs": [
    {
     "name": "stdout",
     "output_type": "stream",
     "text": [
      "\u001b[1;33mWARNING:\u001b[0m Your config file at [/home/jupyter/.docker/config.json] contains these credential helper entries:\n",
      "\n",
      "{\n",
      "  \"credHelpers\": {\n",
      "    \"gcr.io\": \"gcloud\",\n",
      "    \"us.gcr.io\": \"gcloud\",\n",
      "    \"eu.gcr.io\": \"gcloud\",\n",
      "    \"asia.gcr.io\": \"gcloud\",\n",
      "    \"staging-k8s.gcr.io\": \"gcloud\",\n",
      "    \"marketplace.gcr.io\": \"gcloud\",\n",
      "    \"us-central1-docker.pkg.dev\": \"gcloud\"\n",
      "  }\n",
      "}\n",
      "Adding credentials for: us-central1-docker.pkg.dev\n",
      "gcloud credential helpers already registered correctly.\n"
     ]
    }
   ],
   "source": [
    "! gcloud auth configure-docker $REGION-docker.pkg.dev --quiet"
   ]
  },
  {
   "cell_type": "markdown",
   "id": "cb1374bc-7b85-4e65-86ab-2721ce4908b3",
   "metadata": {},
   "source": [
    "### Create Dockerfile"
   ]
  },
  {
   "cell_type": "code",
   "execution_count": 9,
   "id": "88a8b25d-e55c-4a00-ab0e-1151eae8eaea",
   "metadata": {},
   "outputs": [
    {
     "data": {
      "text/plain": [
       "'/home/jupyter/tf_vertex_agents'"
      ]
     },
     "execution_count": 9,
     "metadata": {},
     "output_type": "execute_result"
    }
   ],
   "source": [
    "import os\n",
    "\n",
    "root_path = '..'\n",
    "os.chdir(root_path)\n",
    "os.getcwd()"
   ]
  },
  {
   "cell_type": "code",
   "execution_count": 46,
   "id": "79387322-1f77-4cd2-b0cc-6c5cd6dc268c",
   "metadata": {},
   "outputs": [
    {
     "name": "stdout",
     "output_type": "stream",
     "text": [
      "Overwriting Dockerfile\n"
     ]
    }
   ],
   "source": [
    "%%writefile Dockerfile\n",
    "\n",
    "FROM gcr.io/deeplearning-platform-release/base-cu113.py310\n",
    "\n",
    "#updated to be a derivative image - good for general GCP usage\n",
    "\n",
    "ENV PYTHONUNBUFFERED True\n",
    "\n",
    "ENV APP_HOME /workspace\n",
    "\n",
    "WORKDIR $APP_HOME\n",
    "\n",
    "# COPY requirements.txt $APP_HOME/requirements.txt\n",
    "COPY /requirements.txt $APP_HOME/requirements.txt\n",
    "\n",
    "RUN pip install --upgrade pip\n",
    "RUN pip install --no-cache-dir -r $APP_HOME/requirements.txt\n",
    "\n",
    "RUN ls $APP_HOME\n",
    "\n",
    "# ADD src $APP_HOME/src\n",
    "# RUN ls src\n",
    "COPY src/perarm_features $APP_HOME/src/perarm_features\n",
    "COPY src/per_arm_rl $APP_HOME/src/per_arm_rl\n",
    "\n",
    "RUN ls $APP_HOME\n",
    "\n",
    "RUN export PYTHONPATH=${PYTHONPATH}:${APP_HOME}/\n",
    "\n",
    "# Sets up the entry point to invoke the task.\n",
    "ENTRYPOINT [\"python3\", \"-m\", \"src.perarm_features.task\"]"
   ]
  },
  {
   "cell_type": "markdown",
   "id": "629eb246-f2fc-48a0-8478-4f9c99dddd0b",
   "metadata": {},
   "source": [
    "### Build Image Locally"
   ]
  },
  {
   "cell_type": "code",
   "execution_count": null,
   "id": "4a82cbe6-0ed5-478f-a38f-e6dedc114e2c",
   "metadata": {
    "tags": []
   },
   "outputs": [
    {
     "name": "stdout",
     "output_type": "stream",
     "text": [
      "Sending build context to Docker daemon  117.7MB\n",
      "Step 1/13 : FROM gcr.io/deeplearning-platform-release/base-cu113.py310\n",
      "latest: Pulling from deeplearning-platform-release/base-cu113.py310\n",
      "\n",
      "\u001b[1B351b9876: Pulling fs layer \n",
      "\u001b[1Bfdd4cb87: Pulling fs layer \n",
      "\u001b[1B33b03941: Pulling fs layer \n",
      "\u001b[1B420ffd93: Pulling fs layer \n",
      "\u001b[1B4dad10e9: Pulling fs layer \n",
      "\u001b[1B78304786: Pulling fs layer \n",
      "\u001b[1Bf3f1d840: Pulling fs layer \n",
      "\u001b[1B9842b228: Pulling fs layer \n",
      "\u001b[1Bcdc05756: Pulling fs layer \n",
      "\u001b[1Bb08ca694: Pulling fs layer \n",
      "\u001b[1B2cb29222: Pulling fs layer \n",
      "\u001b[1B83c5e84f: Pulling fs layer \n",
      "\u001b[1Ba3a5047e: Pulling fs layer \n",
      "\u001b[1B0a22815b: Pulling fs layer \n",
      "\u001b[1Bb700ef54: Pulling fs layer \n",
      "\u001b[1Bc8d1312d: Pulling fs layer \n",
      "\u001b[1Bdf4e233c: Pulling fs layer \n",
      "\u001b[1B2cdf5f7e: Pulling fs layer \n",
      "\u001b[1Becb0700e: Pulling fs layer \n",
      "\u001b[1Bbdf3320f: Pulling fs layer \n",
      "\u001b[1B22039c10: Pulling fs layer \n",
      "\u001b[1Bb71c7b87: Pulling fs layer \n",
      "\u001b[1B213d239d: Pulling fs layer \n",
      "\u001b[1Bcb2fbb76: Pulling fs layer \n",
      "\u001b[1B32f9e341: Pulling fs layer \n",
      "\u001b[1Bdd23c9e6: Pulling fs layer \n",
      "\u001b[1B3243375c: Pulling fs layer \n",
      "\u001b[1B53050b2e: Pulling fs layer \n",
      "\u001b[1Be36971b8: Pulling fs layer \n",
      "\u001b[1Bb0417a25: Pulling fs layer \n",
      "\u001b[1B1c74a7be: Pulling fs layer \n",
      "\u001b[1B5fb5e469: Pulling fs layer \n",
      "\u001b[1Bdf884ab8: Pulling fs layer \n",
      "\u001b[1B2797ebf0: Pulling fs layer \n",
      "\u001b[26B08ca694: Extracting    400MB/1.568GBB\u001b[34A\u001b[2K\u001b[33A\u001b[2K\u001b[35A\u001b[2K\u001b[34A\u001b[2K\u001b[33A\u001b[2K\u001b[35A\u001b[2K\u001b[29A\u001b[2K\u001b[28A\u001b[2K\u001b[27A\u001b[2K\u001b[27A\u001b[2K\u001b[35A\u001b[2KVerifying Checksum \u001b[26A\u001b[2K\u001b[35A\u001b[2K\u001b[30A\u001b[2K\u001b[24A\u001b[2K\u001b[30A\u001b[2K\u001b[26A\u001b[2K\u001b[30A\u001b[2K\u001b[24A\u001b[2K\u001b[35A\u001b[2K\u001b[24A\u001b[2K\u001b[35A\u001b[2K\u001b[26A\u001b[2K\u001b[35A\u001b[2K\u001b[30A\u001b[2K\u001b[35A\u001b[2K\u001b[26A\u001b[2K\u001b[30A\u001b[2K\u001b[30A\u001b[2K\u001b[35A\u001b[2K\u001b[26A\u001b[2K\u001b[26A\u001b[2K\u001b[35A\u001b[2K\u001b[26A\u001b[2K\u001b[35A\u001b[2K\u001b[30A\u001b[2K\u001b[26A\u001b[2K\u001b[24A\u001b[2K\u001b[30A\u001b[2K\u001b[24A\u001b[2K\u001b[26A\u001b[2K\u001b[24A\u001b[2K\u001b[30A\u001b[2K\u001b[24A\u001b[2K\u001b[30A\u001b[2K\u001b[35A\u001b[2K\u001b[26A\u001b[2K\u001b[30A\u001b[2K\u001b[24A\u001b[2K\u001b[35A\u001b[2K\u001b[30A\u001b[2K\u001b[35A\u001b[2K\u001b[26A\u001b[2K\u001b[24A\u001b[2K\u001b[26A\u001b[2K\u001b[24A\u001b[2K\u001b[35A\u001b[2K\u001b[24A\u001b[2K\u001b[35A\u001b[2K\u001b[26A\u001b[2K\u001b[30A\u001b[2K\u001b[26A\u001b[2K\u001b[35A\u001b[2K\u001b[26A\u001b[2K\u001b[35A\u001b[2K\u001b[24A\u001b[2K\u001b[30A\u001b[2K\u001b[26A\u001b[2K\u001b[34A\u001b[2K\u001b[30A\u001b[2K\u001b[34A\u001b[2K\u001b[24A\u001b[2K\u001b[34A\u001b[2K\u001b[24A\u001b[2K\u001b[34A\u001b[2K\u001b[26A\u001b[2K\u001b[34A\u001b[2K\u001b[26A\u001b[2K\u001b[34A\u001b[2K\u001b[26A\u001b[2K\u001b[34A\u001b[2K\u001b[24A\u001b[2K\u001b[24A\u001b[2K\u001b[24A\u001b[2K\u001b[24A\u001b[2K\u001b[24A\u001b[2K\u001b[24A\u001b[2K\u001b[24A\u001b[2K\u001b[33A\u001b[2K\u001b[24A\u001b[2K\u001b[33A\u001b[2K\u001b[24A\u001b[2K\u001b[30A\u001b[2K\u001b[30A\u001b[2K\u001b[33A\u001b[2K\u001b[30A\u001b[2K\u001b[33A\u001b[2K\u001b[30A\u001b[2K\u001b[26A\u001b[2K\u001b[30A\u001b[2K\u001b[33A\u001b[2K\u001b[26A\u001b[2K\u001b[32A\u001b[2K\u001b[26A\u001b[2K\u001b[24A\u001b[2K\u001b[26A\u001b[2K\u001b[31A\u001b[2K\u001b[30A\u001b[2K\u001b[24A\u001b[2K\u001b[26A\u001b[2K\u001b[30A\u001b[2K\u001b[26A\u001b[2K\u001b[24A\u001b[2K\u001b[26A\u001b[2K\u001b[31A\u001b[2K\u001b[26A\u001b[2K\u001b[24A\u001b[2K\u001b[24A\u001b[2K\u001b[24A\u001b[2K\u001b[30A\u001b[2K\u001b[24A\u001b[2K\u001b[24A\u001b[2K\u001b[24A\u001b[2K\u001b[24A\u001b[2K\u001b[24A\u001b[2K\u001b[24A\u001b[2K\u001b[24A\u001b[2K\u001b[24A\u001b[2K\u001b[26A\u001b[2K\u001b[24A\u001b[2K\u001b[26A\u001b[2K\u001b[24A\u001b[2K\u001b[26A\u001b[2K\u001b[24A\u001b[2K\u001b[26A\u001b[2K\u001b[24A\u001b[2K\u001b[26A\u001b[2K\u001b[24A\u001b[2K\u001b[26A\u001b[2K\u001b[24A\u001b[2K\u001b[26A\u001b[2K\u001b[24A\u001b[2K\u001b[26A\u001b[2K\u001b[24A\u001b[2K\u001b[26A\u001b[2K\u001b[24A\u001b[2K\u001b[26A\u001b[2K\u001b[24A\u001b[2K\u001b[26A\u001b[2K\u001b[24A\u001b[2K\u001b[26A\u001b[2K\u001b[26A\u001b[2K\u001b[26A\u001b[2K\u001b[26A\u001b[2K\u001b[26A\u001b[2K\u001b[26A\u001b[2K\u001b[26A\u001b[2K\u001b[26A\u001b[2K\u001b[26A\u001b[2K\u001b[26A\u001b[2K\u001b[26A\u001b[2K\u001b[26A\u001b[2KDownloading  732.2MB/1.568GB\u001b[26A\u001b[2K\u001b[30A\u001b[2K\u001b[26A\u001b[2K\u001b[30A\u001b[2K\u001b[26A\u001b[2K\u001b[30A\u001b[2K\u001b[26A\u001b[2K\u001b[30A\u001b[2K\u001b[26A\u001b[2K\u001b[30A\u001b[2K\u001b[26A\u001b[2K\u001b[30A\u001b[2K\u001b[26A\u001b[2K\u001b[30A\u001b[2K\u001b[26A\u001b[2K\u001b[30A\u001b[2K\u001b[26A\u001b[2K\u001b[30A\u001b[2K\u001b[26A\u001b[2K\u001b[30A\u001b[2K\u001b[26A\u001b[2K\u001b[30A\u001b[2K\u001b[26A\u001b[2K\u001b[30A\u001b[2K\u001b[26A\u001b[2K\u001b[24A\u001b[2K\u001b[26A\u001b[2K\u001b[24A\u001b[2K\u001b[26A\u001b[2K\u001b[24A\u001b[2K\u001b[26A\u001b[2K\u001b[24A\u001b[2K\u001b[26A\u001b[2K\u001b[24A\u001b[2K\u001b[26A\u001b[2K\u001b[24A\u001b[2K\u001b[26A\u001b[2K\u001b[24A\u001b[2K\u001b[26A\u001b[2K\u001b[24A\u001b[2K\u001b[26A\u001b[2K\u001b[24A\u001b[2K\u001b[26A\u001b[2K\u001b[24A\u001b[2K\u001b[26A\u001b[2K\u001b[24A\u001b[2K\u001b[26A\u001b[2K\u001b[24A\u001b[2K\u001b[26A\u001b[2K\u001b[24A\u001b[2K\u001b[26A\u001b[2K\u001b[24A\u001b[2K\u001b[26A\u001b[2K\u001b[24A\u001b[2K\u001b[26A\u001b[2K\u001b[30A\u001b[2K\u001b[26A\u001b[2K\u001b[24A\u001b[2K\u001b[23A\u001b[2K\u001b[24A\u001b[2K\u001b[26A\u001b[2K\u001b[24A\u001b[2K\u001b[26A\u001b[2K\u001b[24A\u001b[2K\u001b[26A\u001b[2K\u001b[30A\u001b[2K\u001b[26A\u001b[2K\u001b[24A\u001b[2K\u001b[26A\u001b[2K\u001b[24A\u001b[2K\u001b[26A\u001b[2K\u001b[24A\u001b[2K\u001b[26A\u001b[2K\u001b[24A\u001b[2K\u001b[26A\u001b[2K\u001b[24A\u001b[2K\u001b[30A\u001b[2K\u001b[24A\u001b[2K\u001b[26A\u001b[2K\u001b[24A\u001b[2K\u001b[26A\u001b[2K\u001b[24A\u001b[2K\u001b[26A\u001b[2K\u001b[24A\u001b[2K\u001b[26A\u001b[2K\u001b[24A\u001b[2K\u001b[26A\u001b[2K\u001b[23A\u001b[2K\u001b[26A\u001b[2K\u001b[24A\u001b[2K\u001b[26A\u001b[2K\u001b[30A\u001b[2K\u001b[26A\u001b[2K\u001b[24A\u001b[2K\u001b[26A\u001b[2K\u001b[24A\u001b[2K\u001b[26A\u001b[2K\u001b[24A\u001b[2K\u001b[26A\u001b[2K\u001b[24A\u001b[2K\u001b[30A\u001b[2K\u001b[24A\u001b[2K\u001b[26A\u001b[2K\u001b[24A\u001b[2K\u001b[23A\u001b[2K\u001b[24A\u001b[2K\u001b[30A\u001b[2K\u001b[24A\u001b[2K\u001b[30A\u001b[2K\u001b[24A\u001b[2K\u001b[23A\u001b[2K\u001b[24A\u001b[2K\u001b[23A\u001b[2K\u001b[24A\u001b[2K\u001b[23A\u001b[2K\u001b[30A\u001b[2K\u001b[23A\u001b[2K\u001b[30A\u001b[2K\u001b[23A\u001b[2K\u001b[24A\u001b[2K\u001b[30A\u001b[2K\u001b[30A\u001b[2K\u001b[26A\u001b[2K\u001b[24A\u001b[2K\u001b[26A\u001b[2K\u001b[30A\u001b[2K\u001b[24A\u001b[2K\u001b[30A\u001b[2K\u001b[24A\u001b[2K\u001b[26A\u001b[2K\u001b[26A\u001b[2K\u001b[30A\u001b[2K\u001b[26A\u001b[2K\u001b[30A\u001b[2K\u001b[26A\u001b[2K\u001b[30A\u001b[2K\u001b[30A\u001b[2K\u001b[23A\u001b[2K\u001b[26A\u001b[2K\u001b[26A\u001b[2K\u001b[24A\u001b[2K\u001b[26A\u001b[2K\u001b[23A\u001b[2K\u001b[26A\u001b[2K\u001b[23A\u001b[2K\u001b[26A\u001b[2K\u001b[23A\u001b[2K\u001b[26A\u001b[2K\u001b[23A\u001b[2K\u001b[26A\u001b[2K\u001b[23A\u001b[2K\u001b[26A\u001b[2K\u001b[24A\u001b[2K\u001b[30A\u001b[2K\u001b[23A\u001b[2K\u001b[30A\u001b[2K\u001b[24A\u001b[2K\u001b[30A\u001b[2K\u001b[23A\u001b[2K\u001b[26A\u001b[2K\u001b[23A\u001b[2K\u001b[26A\u001b[2K\u001b[24A\u001b[2K\u001b[26A\u001b[2K\u001b[24A\u001b[2K\u001b[23A\u001b[2K\u001b[24A\u001b[2K\u001b[30A\u001b[2K\u001b[24A\u001b[2K\u001b[30A\u001b[2K\u001b[24A\u001b[2K\u001b[30A\u001b[2K\u001b[24A\u001b[2K\u001b[30A\u001b[2K\u001b[24A\u001b[2K\u001b[30A\u001b[2K\u001b[24A\u001b[2K\u001b[30A\u001b[2K\u001b[24A\u001b[2K\u001b[30A\u001b[2K\u001b[24A\u001b[2K\u001b[26A\u001b[2K\u001b[24A\u001b[2K\u001b[24A\u001b[2K\u001b[24A\u001b[2KExtracting  183.3MB/1.021GB\u001b[24A\u001b[2K\u001b[24A\u001b[2K\u001b[24A\u001b[2K\u001b[24A\u001b[2K\u001b[24A\u001b[2K\u001b[24A\u001b[2K\u001b[24A\u001b[2K\u001b[24A\u001b[2K\u001b[24A\u001b[2K\u001b[30A\u001b[2K\u001b[30A\u001b[2K\u001b[30A\u001b[2K\u001b[30A\u001b[2K\u001b[30A\u001b[2K\u001b[30A\u001b[2K\u001b[20A\u001b[2K\u001b[30A\u001b[2K\u001b[20A\u001b[2K\u001b[30A\u001b[2K\u001b[20A\u001b[2K\u001b[30A\u001b[2K\u001b[20A\u001b[2K\u001b[24A\u001b[2K\u001b[20A\u001b[2K\u001b[24A\u001b[2K\u001b[20A\u001b[2K\u001b[24A\u001b[2K\u001b[20A\u001b[2K\u001b[20A\u001b[2KExtracting    283MB/1.021GB\u001b[20A\u001b[2K\u001b[30A\u001b[2K\u001b[20A\u001b[2K\u001b[24A\u001b[2K\u001b[20A\u001b[2K\u001b[24A\u001b[2K\u001b[20A\u001b[2K\u001b[30A\u001b[2K\u001b[20A\u001b[2K\u001b[24A\u001b[2K\u001b[20A\u001b[2K\u001b[30A\u001b[2K\u001b[20A\u001b[2K\u001b[30A\u001b[2K\u001b[20A\u001b[2K\u001b[24A\u001b[2K\u001b[20A\u001b[2K\u001b[30A\u001b[2K\u001b[20A\u001b[2K\u001b[30A\u001b[2K\u001b[19A\u001b[2K\u001b[30A\u001b[2K\u001b[19A\u001b[2K\u001b[18A\u001b[2K\u001b[19A\u001b[2K\u001b[18A\u001b[2K\u001b[18A\u001b[2K\u001b[19A\u001b[2K\u001b[18A\u001b[2K\u001b[19A\u001b[2K\u001b[18A\u001b[2K\u001b[19A\u001b[2K\u001b[17A\u001b[2K\u001b[20A\u001b[2K\u001b[19A\u001b[2K\u001b[14A\u001b[2K\u001b[19A\u001b[2K\u001b[12A\u001b[2K\u001b[30A\u001b[2K\u001b[19A\u001b[2K\u001b[30A\u001b[2K\u001b[19A\u001b[2K\u001b[30A\u001b[2K\u001b[19A\u001b[2K\u001b[9A\u001b[2K\u001b[19A\u001b[2K\u001b[30A\u001b[2K\u001b[7A\u001b[2K\u001b[30A\u001b[2K\u001b[6A\u001b[2K\u001b[5A\u001b[2K\u001b[19A\u001b[2K\u001b[4A\u001b[2K\u001b[19A\u001b[2K\u001b[13A\u001b[2K\u001b[19A\u001b[2K\u001b[13A\u001b[2K\u001b[19A\u001b[2K\u001b[13A\u001b[2K\u001b[30A\u001b[2K\u001b[13A\u001b[2K\u001b[19A\u001b[2K\u001b[3A\u001b[2K\u001b[19A\u001b[2K\u001b[30A\u001b[2K\u001b[19A\u001b[2K\u001b[13A\u001b[2K\u001b[30A\u001b[2K\u001b[2A\u001b[2K\u001b[30A\u001b[2K\u001b[13A\u001b[2K\u001b[30A\u001b[2K\u001b[13A\u001b[2K\u001b[1A\u001b[2K\u001b[2A\u001b[2K\u001b[30A\u001b[2K\u001b[2A\u001b[2K\u001b[30A\u001b[2K\u001b[2A\u001b[2K\u001b[1A\u001b[2K\u001b[2A\u001b[2K\u001b[1A\u001b[2K\u001b[2A\u001b[2K\u001b[1A\u001b[2K\u001b[2A\u001b[2K\u001b[1A\u001b[2K\u001b[2A\u001b[2K\u001b[1A\u001b[2K\u001b[1A\u001b[2K\u001b[2A\u001b[2K\u001b[1A\u001b[2K\u001b[2A\u001b[2K\u001b[1A\u001b[2K\u001b[2A\u001b[2K\u001b[1A\u001b[2K\u001b[2A\u001b[2K\u001b[1A\u001b[2K\u001b[2A\u001b[2K\u001b[1A\u001b[2K\u001b[30A\u001b[2K\u001b[1A\u001b[2K\u001b[30A\u001b[2K\u001b[1A\u001b[2K\u001b[30A\u001b[2K\u001b[1A\u001b[2K\u001b[30A\u001b[2K\u001b[2A\u001b[2K\u001b[30A\u001b[2K\u001b[2A\u001b[2K\u001b[30A\u001b[2K\u001b[2A\u001b[2K\u001b[30A\u001b[2K\u001b[2A\u001b[2K\u001b[30A\u001b[2K\u001b[2A\u001b[2K\u001b[30A\u001b[2K\u001b[2A\u001b[2K\u001b[30A\u001b[2K\u001b[2A\u001b[2K\u001b[30A\u001b[2K\u001b[2A\u001b[2K\u001b[30A\u001b[2K\u001b[2A\u001b[2K\u001b[30A\u001b[2K\u001b[2A\u001b[2K\u001b[30A\u001b[2K\u001b[30A\u001b[2K\u001b[2A\u001b[2K\u001b[30A\u001b[2K\u001b[2A\u001b[2K\u001b[30A\u001b[2K\u001b[2A\u001b[2K\u001b[2A\u001b[2K\u001b[2A\u001b[2K\u001b[2A\u001b[2K\u001b[2A\u001b[2K\u001b[2A\u001b[2K\u001b[30A\u001b[2K\u001b[2A\u001b[2K\u001b[2A\u001b[2K\u001b[2A\u001b[2K\u001b[30A\u001b[2K\u001b[2A\u001b[2K\u001b[30A\u001b[2K\u001b[30A\u001b[2K\u001b[2A\u001b[2K\u001b[2A\u001b[2K\u001b[2A\u001b[2K\u001b[2A\u001b[2K\u001b[30A\u001b[2K\u001b[2A\u001b[2K\u001b[30A\u001b[2K\u001b[30A\u001b[2K\u001b[2A\u001b[2K\u001b[30A\u001b[2K\u001b[30A\u001b[2K\u001b[2A\u001b[2K\u001b[2A\u001b[2K\u001b[2A\u001b[2K\u001b[2A\u001b[2K\u001b[30A\u001b[2K\u001b[2A\u001b[2K\u001b[30A\u001b[2K\u001b[2A\u001b[2K\u001b[30A\u001b[2K\u001b[2A\u001b[2K\u001b[30A\u001b[2K\u001b[2A\u001b[2K\u001b[30A\u001b[2K\u001b[2A\u001b[2K\u001b[30A\u001b[2K\u001b[2A\u001b[2K\u001b[30A\u001b[2K\u001b[2A\u001b[2K\u001b[30A\u001b[2K\u001b[2A\u001b[2K\u001b[30A\u001b[2K\u001b[2A\u001b[2K\u001b[30A\u001b[2K\u001b[2A\u001b[2K\u001b[30A\u001b[2K\u001b[2A\u001b[2K\u001b[30A\u001b[2K\u001b[2A\u001b[2K\u001b[30A\u001b[2K\u001b[30A\u001b[2K\u001b[30A\u001b[2K\u001b[2A\u001b[2K\u001b[2A\u001b[2K\u001b[30A\u001b[2K\u001b[2A\u001b[2K\u001b[30A\u001b[2K\u001b[2A\u001b[2K\u001b[30A\u001b[2K\u001b[2A\u001b[2K\u001b[30A\u001b[2K\u001b[2A\u001b[2K\u001b[30A\u001b[2K\u001b[2A\u001b[2K\u001b[30A\u001b[2K\u001b[2A\u001b[2K\u001b[30A\u001b[2K\u001b[30A\u001b[2K\u001b[30A\u001b[2K\u001b[2A\u001b[2K\u001b[30A\u001b[2K\u001b[2A\u001b[2K\u001b[30A\u001b[2K\u001b[2A\u001b[2K\u001b[30A\u001b[2K\u001b[2A\u001b[2K\u001b[30A\u001b[2K\u001b[2A\u001b[2K\u001b[30A\u001b[2K\u001b[2A\u001b[2K\u001b[30A\u001b[2K\u001b[2A\u001b[2K\u001b[30A\u001b[2K\u001b[2A\u001b[2K\u001b[30A\u001b[2K\u001b[2A\u001b[2K\u001b[30A\u001b[2K\u001b[2A\u001b[2K\u001b[30A\u001b[2K\u001b[2A\u001b[2K\u001b[30A\u001b[2K\u001b[2A\u001b[2K\u001b[30A\u001b[2K\u001b[2A\u001b[2K\u001b[30A\u001b[2K\u001b[2A\u001b[2K\u001b[30A\u001b[2K\u001b[2A\u001b[2K\u001b[30A\u001b[2K\u001b[2A\u001b[2K\u001b[30A\u001b[2K\u001b[2A\u001b[2K\u001b[30A\u001b[2K\u001b[2A\u001b[2K\u001b[30A\u001b[2K\u001b[2A\u001b[2K\u001b[30A\u001b[2K\u001b[30A\u001b[2K\u001b[30A\u001b[2K\u001b[30A\u001b[2K\u001b[30A\u001b[2K\u001b[30A\u001b[2K\u001b[30A\u001b[2K\u001b[30A\u001b[2K\u001b[30A\u001b[2K\u001b[30A\u001b[2K\u001b[30A\u001b[2K\u001b[30A\u001b[2K\u001b[30A\u001b[2K\u001b[30A\u001b[2K\u001b[30A\u001b[2K\u001b[30A\u001b[2K\u001b[30A\u001b[2K\u001b[30A\u001b[2K\u001b[30A\u001b[2K\u001b[30A\u001b[2K\u001b[30A\u001b[2K\u001b[30A\u001b[2K\u001b[30A\u001b[2K\u001b[30A\u001b[2K\u001b[30A\u001b[2K\u001b[30A\u001b[2K\u001b[30A\u001b[2K\u001b[30A\u001b[2K\u001b[30A\u001b[2K\u001b[30A\u001b[2K\u001b[30A\u001b[2K\u001b[30A\u001b[2K\u001b[30A\u001b[2K\u001b[30A\u001b[2K\u001b[30A\u001b[2K\u001b[30A\u001b[2K\u001b[30A\u001b[2K\u001b[30A\u001b[2K\u001b[30A\u001b[2K\u001b[30A\u001b[2K\u001b[29A\u001b[2K\u001b[29A\u001b[2K\u001b[28A\u001b[2K\u001b[28A\u001b[2K\u001b[27A\u001b[2K\u001b[26A\u001b[2K\u001b[26A\u001b[2K\u001b[26A\u001b[2K\u001b[26A\u001b[2K\u001b[26A\u001b[2K\u001b[26A\u001b[2K\u001b[26A\u001b[2K\u001b[26A\u001b[2K\u001b[26A\u001b[2K\u001b[26A\u001b[2K\u001b[26A\u001b[2K\u001b[26A\u001b[2K\u001b[26A\u001b[2K\u001b[26A\u001b[2K\u001b[26A\u001b[2K\u001b[26A\u001b[2K\u001b[26A\u001b[2K\u001b[26A\u001b[2K\u001b[26A\u001b[2K\u001b[26A\u001b[2K\u001b[26A\u001b[2K\u001b[26A\u001b[2K\u001b[26A\u001b[2K\u001b[26A\u001b[2K\u001b[26A\u001b[2K\u001b[26A\u001b[2K\u001b[26A\u001b[2K\u001b[26A\u001b[2K\u001b[26A\u001b[2K\u001b[26A\u001b[2K\u001b[26A\u001b[2K\u001b[26A\u001b[2K\u001b[26A\u001b[2K\u001b[26A\u001b[2K\u001b[26A\u001b[2K\u001b[26A\u001b[2K\u001b[26A\u001b[2K\u001b[26A\u001b[2K\u001b[26A\u001b[2K\u001b[26A\u001b[2K\u001b[26A\u001b[2K\u001b[26A\u001b[2K\u001b[26A\u001b[2K\u001b[26A\u001b[2K\u001b[26A\u001b[2K\u001b[26A\u001b[2K\u001b[26A\u001b[2K\u001b[26A\u001b[2K\u001b[26A\u001b[2K\u001b[26A\u001b[2K\u001b[26A\u001b[2K\u001b[26A\u001b[2K\u001b[26A\u001b[2K\u001b[26A\u001b[2K\u001b[26A\u001b[2K\u001b[26A\u001b[2K\u001b[26A\u001b[2K\u001b[26A\u001b[2K\u001b[26A\u001b[2K\u001b[26A\u001b[2K\u001b[26A\u001b[2K\u001b[26A\u001b[2K\u001b[26A\u001b[2K\u001b[26A\u001b[2K\u001b[26A\u001b[2K\u001b[26A\u001b[2K\u001b[26A\u001b[2K\u001b[26A\u001b[2K\u001b[26A\u001b[2K\u001b[26A\u001b[2K\u001b[26A\u001b[2K\u001b[26A\u001b[2K\u001b[26A\u001b[2K\u001b[26A\u001b[2K"
     ]
    }
   ],
   "source": [
    "!docker build -t $REMOTE_IMAGE_NAME -f Dockerfile ."
   ]
  },
  {
   "cell_type": "code",
   "execution_count": 30,
   "id": "6cc451b4-0293-4425-811c-a2bf93ad1c0e",
   "metadata": {},
   "outputs": [
    {
     "name": "stdout",
     "output_type": "stream",
     "text": [
      "Creating temporary tarball archive of 98 file(s) totalling 86.0 MiB before compression.\n",
      "Uploading tarball of [./] to [gs://wortz-project-352116_cloudbuild/source/1692588979.095783-ca5671936edb4440bf3a1ff97920132d.tgz]\n",
      "\u001b[1;31mERROR:\u001b[0m (gcloud.builds.submit) PERMISSION_DENIED: The caller does not have permission\n"
     ]
    }
   ],
   "source": [
    "# !gcloud builds submit ./ --region $REGION --tag $REMOTE_IMAGE_NAME "
   ]
  },
  {
   "cell_type": "markdown",
   "id": "a6110439-f66a-4d6b-8105-17a08ce9b8da",
   "metadata": {},
   "source": [
    "### Push container to Registry"
   ]
  },
  {
   "cell_type": "code",
   "execution_count": 31,
   "id": "54a714cf-053c-4f14-b375-2a42ae2092f9",
   "metadata": {},
   "outputs": [
    {
     "name": "stdout",
     "output_type": "stream",
     "text": [
      "Using default tag: latest\n",
      "The push refers to repository [us-central1-docker.pkg.dev/wortz-project-352116/rl-movielens-mabv1/train-perarm-feats-v1]\n",
      "\n",
      "\u001b[1Be4407469: Preparing \n",
      "\u001b[1B13137420: Preparing \n",
      "\u001b[1Bf052da70: Preparing \n",
      "\u001b[1B29ac24a3: Preparing \n",
      "\u001b[1Bc78b3f70: Preparing \n",
      "\u001b[1B9ffc4ad6: Preparing \n",
      "\u001b[1B1a3b336f: Preparing \n",
      "\u001b[1B4990d0ba: Preparing \n",
      "\u001b[1Bdb13266b: Preparing \n",
      "\u001b[1Bb1eee192: Preparing \n",
      "\u001b[1Bc6cd33a6: Preparing \n",
      "\u001b[1B72026017: Preparing \n",
      "\u001b[1B18a5eaf8: Preparing \n",
      "\u001b[1Ba9b258e5: Layer already exists \u001b[7A\u001b[2K\u001b[2A\u001b[2Klatest: digest: sha256:3b4428cbd993a6fcc704a7c3d6504f3d0c621045e849c4533342ff63cbb83f38 size: 3264\n"
     ]
    }
   ],
   "source": [
    "# ### push the container to registry\n",
    "!docker push $REMOTE_IMAGE_NAME"
   ]
  },
  {
   "cell_type": "code",
   "execution_count": null,
   "id": "1c3fbc9b-1ddf-4a1f-88ae-3ba6403f2bcd",
   "metadata": {},
   "outputs": [],
   "source": []
  }
 ],
 "metadata": {
  "environment": {
   "kernel": "python3",
   "name": "tf2-gpu.2-11.m109",
   "type": "gcloud",
   "uri": "gcr.io/deeplearning-platform-release/tf2-gpu.2-11:m109"
  },
  "kernelspec": {
   "display_name": "TensorFlow 2-11 (Local)",
   "language": "python",
   "name": "local-conda-env-tensorflow-tensorflow"
  },
  "language_info": {
   "codemirror_mode": {
    "name": "ipython",
    "version": 3
   },
   "file_extension": ".py",
   "mimetype": "text/x-python",
   "name": "python",
   "nbconvert_exporter": "python",
   "pygments_lexer": "ipython3",
   "version": "3.10.12"
  }
 },
 "nbformat": 4,
 "nbformat_minor": 5
}
