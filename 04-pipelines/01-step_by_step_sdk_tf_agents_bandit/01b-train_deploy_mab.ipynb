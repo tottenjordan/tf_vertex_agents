{
 "cells": [
  {
   "cell_type": "code",
   "execution_count": null,
   "metadata": {
    "id": "f11e1b3d"
   },
   "outputs": [],
   "source": [
    "# Copyright 2021 Google LLC\n",
    "#\n",
    "# Licensed under the Apache License, Version 2.0 (the \"License\");\n",
    "# you may not use this file except in compliance with the License.\n",
    "# You may obtain a copy of the License at\n",
    "#\n",
    "#     https://www.apache.org/licenses/LICENSE-2.0\n",
    "#\n",
    "# Unless required by applicable law or agreed to in writing, software\n",
    "# distributed under the License is distributed on an \"AS IS\" BASIS,\n",
    "# WITHOUT WARRANTIES OR CONDITIONS OF ANY KIND, either express or implied.\n",
    "# See the License for the specific language governing permissions and\n",
    "# limitations under the License."
   ]
  },
  {
   "cell_type": "markdown",
   "metadata": {},
   "source": [
    "# Multi-Armed Bandit\n",
    "\n",
    "* not utilizing `per-arm` features; simple implementation to focus on MLOPs pieces in subsequent notebooks\n",
    "\n",
    "> **TODO**"
   ]
  },
  {
   "cell_type": "markdown",
   "metadata": {
    "id": "aa8753fd"
   },
   "source": [
    "# Step by Step Guide to Building Reinforcement Learning Applications using Vertex AI"
   ]
  },
  {
   "cell_type": "markdown",
   "metadata": {
    "id": "b36aad4b"
   },
   "source": [
    "<table align=\"left\">\n",
    "\n",
    "  <td>\n",
    "    <a href=\"https://colab.research.google.com/github/GoogleCloudPlatform/vertex-ai-samples/tree/master/community-content/tf_agents_bandits_movie_recommendation_with_kfp_and_vertex_sdk/step_by_step_sdk_tf_agents_bandits_movie_recommendation/step_by_step_sdk_tf_agents_bandits_movie_recommendation.ipynb\">\n",
    "      <img src=\"https://cloud.google.com/ml-engine/images/colab-logo-32px.png\" alt=\"Colab logo\"> Run in Colab\n",
    "    </a>\n",
    "  </td>\n",
    "  <td>\n",
    "    <a href=\"https://github.com/GoogleCloudPlatform/vertex-ai-samples/tree/master/community-content/tf_agents_bandits_movie_recommendation_with_kfp_and_vertex_sdk/step_by_step_sdk_tf_agents_bandits_movie_recommendation/step_by_step_sdk_tf_agents_bandits_movie_recommendation.ipynb\">\n",
    "      <img src=\"https://cloud.google.com/ml-engine/images/github-logo-32px.png\" alt=\"GitHub logo\">\n",
    "      View on GitHub\n",
    "    </a>\n",
    "  </td>\n",
    "</table>"
   ]
  },
  {
   "cell_type": "markdown",
   "metadata": {},
   "source": [
    "## Overview\n",
    "This demo showcases the use of [TF-Agents](https://www.tensorflow.org/agents) and [Vertex AI](https://cloud.google.com/vertex-ai) in building a movie recommendation system with reinforcement learning. The demo is intended for developers interested in creating reinforcement learning applications using TensorFlow and the TF-Agents library, leveraging Vertex AI services (including custom training, custom prediction, model deployment over managed endpoints, and prediction fetching). It is recommended for developers to have familiarity with basic reinforcement learning theory, particularly the contextual bandits formulation, and the TF-Agents interface. Note that contextual bandits form a special case of RL, where the actions taken by the agent do not alter the state of the environment. “Contextual” refers to the fact that the agent chooses among a set of actions while having knowledge of the context (environment observation)."
   ]
  },
  {
   "cell_type": "markdown",
   "metadata": {},
   "source": [
    "### Objective"
   ]
  },
  {
   "cell_type": "markdown",
   "metadata": {
    "id": "a27e7ec1"
   },
   "source": [
    "In this notebook, you will learn how to train and deploy a TF-Agents multi-armed bandit algorithm, and how to use Vertex AI for custom training, custom serving, and endpoint deployment.\n",
    "\n",
    "For custom training, you will implement on-policy training, in which you actively interact with a simulation environment based on MovieLens to (1) obtain environment observations, (2) choose actions using the data-collecting policy given the observations, and (3) obtain environment feedback in the form of rewards that correspond to (1)(2). These pieces of data form the training data records. This process is different from off-policy training, where you do not necessarily have training data asscociated with the actual actions outputted by the policy.\n",
    "\n",
    "**Main goals:**\n",
    "* Run a local [TF-Agents](https://www.tensorflow.org/agents) implementation\n",
    "* Run the same implementation in [Vertex AI](https://cloud.google.com/vertex-ai) managed services\n",
    "\n",
    "**we will also cover:**\n",
    "1. Building custom containers for Vertex Training as well as Prediction\n",
    "2. Hyperparameter tuning with Vertex AI\n",
    "3. Deploying trained policies to Vertex online endpoints\n",
    "\n",
    "\n",
    "This demo references code from [this TF-Agents example](https://github.com/tensorflow/agents/blob/master/tf_agents/bandits/agents/examples/v2/train_eval_movielens.py), [this Vertex AI SDK custom container training example](https://github.com/GoogleCloudPlatform/ai-platform-samples/blob/master/ai-platform-unified/notebooks/unofficial/sdk/AI_Platform_(Unified)_SDK_BigQuery_Custom_Container_Training.ipynb), and [this Vertex AI SDK custom container prediction example](https://github.com/GoogleCloudPlatform/ai-platform-samples/blob/master/ai-platform-unified/notebooks/unofficial/sdk/AI_Platform_(Unified)_SDK_Custom_Container_Prediction.ipynb)."
   ]
  },
  {
   "cell_type": "markdown",
   "metadata": {},
   "source": [
    "## Load notebook config\n",
    "\n",
    "* use the prefix defined in `00-env-setup`"
   ]
  },
  {
   "cell_type": "code",
   "execution_count": 9,
   "metadata": {},
   "outputs": [
    {
     "name": "stdout",
     "output_type": "stream",
     "text": [
      "PREFIX: rec-bandits-v2\n"
     ]
    }
   ],
   "source": [
    "VERSION        = \"v2\"                       # TODO\n",
    "PREFIX         = f'rec-bandits-{VERSION}'   # TODO\n",
    "\n",
    "# PREFIX = 'mabv1'\n",
    "\n",
    "print(f\"PREFIX: {PREFIX}\")"
   ]
  },
  {
   "cell_type": "code",
   "execution_count": 10,
   "metadata": {},
   "outputs": [
    {
     "name": "stdout",
     "output_type": "stream",
     "text": [
      "\n",
      "PROJECT_ID               = \"hybrid-vertex\"\n",
      "PROJECT_NUM              = \"934903580331\"\n",
      "LOCATION                 = \"us-central1\"\n",
      "\n",
      "REGION                   = \"us-central1\"\n",
      "BQ_LOCATION              = \"US\"\n",
      "VPC_NETWORK_NAME         = \"ucaip-haystack-vpc-network\"\n",
      "\n",
      "VERTEX_SA                = \"934903580331-compute@developer.gserviceaccount.com\"\n",
      "\n",
      "PREFIX                   = \"rec-bandits-v2\"\n",
      "VERSION                  = \"v2\"\n",
      "\n",
      "BUCKET_NAME              = \"rec-bandits-v2-hybrid-vertex-bucket\"\n",
      "BUCKET_URI               = \"gs://rec-bandits-v2-hybrid-vertex-bucket\"\n",
      "DATA_GCS_PREFIX          = \"data\"\n",
      "DATA_PATH                = \"gs://rec-bandits-v2-hybrid-vertex-bucket/data\"\n",
      "VOCAB_SUBDIR             = \"vocabs\"\n",
      "VOCAB_FILENAME           = \"vocab_dict.pkl\"\n",
      "\n",
      "VPC_NETWORK_FULL         = \"projects/934903580331/global/networks/ucaip-haystack-vpc-network\"\n",
      "\n",
      "BIGQUERY_DATASET_ID      = \"hybrid_vertex.movielens_ds_rec_bandits_v2\"\n",
      "BIGQUERY_TABLE_ID        = \"hybrid_vertex.movielens_ds_rec_bandits_v2.training_dataset\"\n",
      "\n",
      "REPO_DOCKER_PATH_PREFIX  = \"src\"\n",
      "RL_SUB_DIR               = \"per_arm_rl\"\n",
      "\n",
      "REPOSITORY               = \"rl-movielens-rec-bandits-v2\"\n",
      "IMAGE_NAME               = \"train-perarm-feats-v2\"\n",
      "DOCKERNAME               = \"Dockerfile_perarm_feats\"\n",
      "\n",
      "IMAGE_URI_01             = \"gcr.io/hybrid-vertex/train-perarm-feats-v2-01\"\n",
      "IMAGE_URI_02             = \"gcr.io/hybrid-vertex/train-perarm-feats-v2-02\"\n",
      "\n",
      "REMOTE_IMAGE_NAME        = \"us-central1-docker.pkg.dev/hybrid-vertex/rl-movielens-rec-bandits-v2/train-perarm-feats-v2\"\n",
      "\n"
     ]
    }
   ],
   "source": [
    "# staging GCS\n",
    "GCP_PROJECTS             = !gcloud config get-value project\n",
    "PROJECT_ID               = GCP_PROJECTS[0]\n",
    "\n",
    "# GCS bucket and paths\n",
    "BUCKET_NAME              = f'{PREFIX}-{PROJECT_ID}-bucket'\n",
    "BUCKET_URI               = f'gs://{BUCKET_NAME}'\n",
    "\n",
    "config = !gsutil cat {BUCKET_URI}/config/notebook_env.py\n",
    "print(config.n)\n",
    "exec(config.n)"
   ]
  },
  {
   "cell_type": "markdown",
   "metadata": {
    "id": "d5eee5de"
   },
   "source": [
    "### Import libraries and define constants"
   ]
  },
  {
   "cell_type": "code",
   "execution_count": 75,
   "metadata": {},
   "outputs": [],
   "source": [
    "os.environ['TF_CPP_MIN_LOG_LEVEL'] = '2'\n",
    "# !export PYTHONWARNINGS=\"ignore\""
   ]
  },
  {
   "cell_type": "code",
   "execution_count": 77,
   "metadata": {
    "id": "fcf2a9c4"
   },
   "outputs": [],
   "source": [
    "import functools\n",
    "import json\n",
    "import os\n",
    "from collections import defaultdict\n",
    "from typing import Callable, Dict, List, Optional, TypeVar\n",
    "\n",
    "import time\n",
    "from pprint import pprint\n",
    "\n",
    "import matplotlib.pyplot as plt\n",
    "import numpy as np\n",
    "\n",
    "import tensorflow as tf\n",
    "\n",
    "from google.cloud import aiplatform, storage\n",
    "\n",
    "from tf_agents.agents import TFAgent\n",
    "from tf_agents.bandits.agents import lin_ucb_agent\n",
    "from tf_agents.bandits.agents.examples.v2 import trainer\n",
    "from tf_agents.bandits.environments import (environment_utilities,\n",
    "                                            movielens_py_environment)\n",
    "from tf_agents.bandits.metrics import tf_metrics as tf_bandit_metrics\n",
    "from tf_agents.drivers import dynamic_step_driver\n",
    "from tf_agents.environments import TFEnvironment, tf_py_environment\n",
    "from tf_agents.eval import metric_utils\n",
    "from tf_agents.metrics import tf_metrics\n",
    "from tf_agents.metrics.tf_metric import TFStepMetric\n",
    "from tf_agents.policies import policy_saver\n",
    "\n",
    "# logging\n",
    "import logging\n",
    "logging.disable(logging.WARNING)\n",
    "\n",
    "#python warning \n",
    "import warnings\n",
    "warnings.filterwarnings(\"ignore\")\n",
    "\n",
    "if tf.__version__[0] != \"2\":\n",
    "    raise Exception(\"The trainer only runs with TensorFlow version 2.\")\n",
    "\n",
    "T = TypeVar(\"T\")"
   ]
  },
  {
   "cell_type": "markdown",
   "metadata": {},
   "source": [
    "## Set Vertex Experiment"
   ]
  },
  {
   "cell_type": "code",
   "execution_count": 92,
   "metadata": {},
   "outputs": [],
   "source": [
    "EXPERIMENT_NAME   = f'sxs-rl-{PREFIX}'\n",
    "\n",
    "# new experiment\n",
    "invoke_time       = time.strftime(\"%Y%m%d-%H%M%S\")\n",
    "RUN_NAME          = f'run-{invoke_time}'\n",
    "\n",
    "BASE_OUTPUT_DIR   = f'{BUCKET_URI}/{EXPERIMENT_NAME}/{RUN_NAME}'\n",
    "LOG_DIR           = f\"{BASE_OUTPUT_DIR}/logs\"\n",
    "ROOT_DIR          = f\"{BASE_OUTPUT_DIR}/root\"       # Root directory for writing logs/summaries/checkpoints.\n",
    "ARTIFACTS_DIR     = f\"{BASE_OUTPUT_DIR}/artifacts\"  # Where the trained model will be saved and restored.\n",
    "\n",
    "aiplatform.init(\n",
    "    project=PROJECT_ID,\n",
    "    location=REGION,\n",
    "    experiment=EXPERIMENT_NAME\n",
    ")"
   ]
  },
  {
   "cell_type": "code",
   "execution_count": 93,
   "metadata": {
    "id": "1b5689db"
   },
   "outputs": [
    {
     "name": "stdout",
     "output_type": "stream",
     "text": [
      "EXPERIMENT_NAME    : sxs-rl-rec-bandits-v2\n",
      "RUN_NAME           : run-20231019-041358\n",
      "\n",
      "BASE_OUTPUT_DIR    : gs://rec-bandits-v2-hybrid-vertex-bucket/sxs-rl-rec-bandits-v2/run-20231019-041358\n",
      "LOG_DIR            : gs://rec-bandits-v2-hybrid-vertex-bucket/sxs-rl-rec-bandits-v2/run-20231019-041358/logs\n",
      "ROOT_DIR           : gs://rec-bandits-v2-hybrid-vertex-bucket/sxs-rl-rec-bandits-v2/run-20231019-041358/root\n",
      "ARTIFACTS_DIR      : gs://rec-bandits-v2-hybrid-vertex-bucket/sxs-rl-rec-bandits-v2/run-20231019-041358/artifacts\n",
      "DATA_PATH_KFP_DEMO : gs://rec-bandits-v2-hybrid-vertex-bucket/data/kfp_demo_data/u.data\n"
     ]
    }
   ],
   "source": [
    "# TODO - add to 00-env-setup\n",
    "DATA_PATH_KFP_DEMO = f\"{DATA_PATH}/kfp_demo_data/u.data\"\n",
    "\n",
    "print(f\"EXPERIMENT_NAME    : {EXPERIMENT_NAME}\")\n",
    "print(f\"RUN_NAME           : {RUN_NAME}\\n\")\n",
    "print(f\"BASE_OUTPUT_DIR    : {BASE_OUTPUT_DIR}\")\n",
    "print(f\"LOG_DIR            : {LOG_DIR}\")\n",
    "print(f\"ROOT_DIR           : {ROOT_DIR}\")\n",
    "print(f\"ARTIFACTS_DIR      : {ARTIFACTS_DIR}\")\n",
    "print(f\"DATA_PATH_KFP_DEMO : {DATA_PATH_KFP_DEMO}\")"
   ]
  },
  {
   "cell_type": "code",
   "execution_count": 95,
   "metadata": {
    "id": "a6cdf060"
   },
   "outputs": [],
   "source": [
    "# Set hyperparameters\n",
    "BATCH_SIZE       = 8      # Training and prediction batch size.\n",
    "TRAINING_LOOPS   = 50     # Number of training iterations.\n",
    "STEPS_PER_LOOP   = 2      # Number of driver steps per training iteration.\n",
    "\n",
    "# Set MovieLens simulation environment parameters.\n",
    "RANK_K           = 20     # Rank for matrix factorization in the MovieLens environment; also the observation dimension.\n",
    "NUM_ACTIONS      = 20     # Number of actions (movie items) to choose from.\n",
    "PER_ARM          = False  # Use the non-per-arm version of the MovieLens environment.\n",
    "\n",
    "# Set agent parameters.\n",
    "TIKHONOV_WEIGHT  = 0.001  # LinUCB Tikhonov regularization weight.\n",
    "AGENT_ALPHA      = 10.0   # LinUCB exploration parameter that multiplies the confidence intervals."
   ]
  },
  {
   "cell_type": "markdown",
   "metadata": {
    "id": "a172d4ef"
   },
   "source": [
    "## Implement and execute locally (optional)"
   ]
  },
  {
   "cell_type": "markdown",
   "metadata": {
    "id": "c4554cda"
   },
   "source": [
    "### Define RL modules [locally]\n",
    "\n",
    "Define a [MovieLens-specific bandits environment](https://www.tensorflow.org/agents/api_docs/python/tf_agents/bandits/environments/movielens_py_environment/MovieLensPyEnvironment), a [Linear UCB agent](https://www.tensorflow.org/agents/api_docs/python/tf_agents/bandits/agents/lin_ucb_agent) and the [regret metric](https://www.tensorflow.org/agents/api_docs/python/tf_agents/bandits/metrics/tf_metrics/RegretMetric)."
   ]
  },
  {
   "cell_type": "code",
   "execution_count": 96,
   "metadata": {
    "id": "797db45e"
   },
   "outputs": [
    {
     "name": "stdout",
     "output_type": "stream",
     "text": [
      "TimeStep Spec (for each batch):\n",
      " TimeStep(\n",
      "{'discount': BoundedTensorSpec(shape=(), dtype=tf.float32, name='discount', minimum=array(0., dtype=float32), maximum=array(1., dtype=float32)),\n",
      " 'observation': TensorSpec(shape=(20,), dtype=tf.float64, name='observation'),\n",
      " 'reward': TensorSpec(shape=(), dtype=tf.float32, name='reward'),\n",
      " 'step_type': TensorSpec(shape=(), dtype=tf.int32, name='step_type')}) \n",
      "\n",
      "Action Spec (for each batch):\n",
      " BoundedTensorSpec(shape=(), dtype=tf.int32, name='action', minimum=array(0, dtype=int32), maximum=array(19, dtype=int32)) \n",
      "\n",
      "Reward Spec (for each batch):\n",
      " TensorSpec(shape=(), dtype=tf.float32, name='reward') \n",
      "\n",
      "metrics : [<tf_agents.bandits.metrics.tf_metrics.RegretMetric object at 0x7f15c0486350>, <tf_agents.bandits.metrics.tf_metrics.SuboptimalArmsMetric object at 0x7f15c0484850>]\n"
     ]
    }
   ],
   "source": [
    "# Define RL environment.\n",
    "env = movielens_py_environment.MovieLensPyEnvironment(\n",
    "    DATA_PATH_KFP_DEMO, \n",
    "    RANK_K, \n",
    "    BATCH_SIZE, \n",
    "    num_movies=NUM_ACTIONS, \n",
    "    csv_delimiter=\"\\t\"\n",
    ")\n",
    "environment = tf_py_environment.TFPyEnvironment(env)\n",
    "\n",
    "# Define RL agent/algorithm.\n",
    "agent = lin_ucb_agent.LinearUCBAgent(\n",
    "    time_step_spec=environment.time_step_spec(),\n",
    "    action_spec=environment.action_spec(),\n",
    "    tikhonov_weight=TIKHONOV_WEIGHT,\n",
    "    alpha=AGENT_ALPHA,\n",
    "    dtype=tf.float32,\n",
    "    accepts_per_arm_features=PER_ARM\n",
    ")\n",
    "print(\"TimeStep Spec (for each batch):\\n\", agent.time_step_spec, \"\\n\")\n",
    "print(\"Action Spec (for each batch):\\n\", agent.action_spec, \"\\n\")\n",
    "print(\"Reward Spec (for each batch):\\n\", environment.reward_spec(), \"\\n\")\n",
    "\n",
    "# Define RL metric.\n",
    "optimal_reward_fn = functools.partial(\n",
    "    environment_utilities.compute_optimal_reward_with_movielens_environment,\n",
    "    environment=environment\n",
    ")\n",
    "\n",
    "regret_metric = tf_bandit_metrics.RegretMetric(optimal_reward_fn)\n",
    "\n",
    "\n",
    "optimal_action_fn = functools.partial(\n",
    "    environment_utilities.compute_optimal_action_with_movielens_environment,\n",
    "    environment=environment,\n",
    ")\n",
    "suboptimal_arms_metric = tf_bandit_metrics.SuboptimalArmsMetric(\n",
    "    optimal_action_fn\n",
    ")\n",
    "\n",
    "metrics = [regret_metric, suboptimal_arms_metric]\n",
    "print(f\"metrics : {metrics}\")"
   ]
  },
  {
   "cell_type": "markdown",
   "metadata": {
    "id": "5d59e7c7"
   },
   "source": [
    "### Train the model [locally]\n",
    "\n",
    "Define the training logic (on-policy training). The following function is the same as [trainer.train](https://github.com/tensorflow/agents/blob/r0.8.0/tf_agents/bandits/agents/examples/v2/trainer.py#L104), but it keeps track of intermediate metric values and saves different artifacts to different locations. You can also directly invoke [trainer.train](https://github.com/tensorflow/agents/blob/r0.8.0/tf_agents/bandits/agents/examples/v2/trainer.py#L104) which also trains the policy."
   ]
  },
  {
   "cell_type": "code",
   "execution_count": 97,
   "metadata": {
    "id": "3ba2b6e7"
   },
   "outputs": [],
   "source": [
    "def train(\n",
    "    root_dir: str,\n",
    "    log_dir: str,\n",
    "    agent: TFAgent,\n",
    "    environment: TFEnvironment,\n",
    "    training_loops: int,\n",
    "    steps_per_loop: int,\n",
    "    additional_metrics: Optional[List[TFStepMetric]] = None,\n",
    "    training_data_spec_transformation_fn: Optional[Callable[[T], T]] = None,\n",
    ") -> Dict[str, List[float]]:\n",
    "    \"\"\"Performs `training_loops` iterations of training on the agent's policy.\n",
    "\n",
    "    Uses the `environment` as the problem formulation and source of immediate\n",
    "    feedback and the agent's algorithm, to perform `training-loops` iterations\n",
    "    of on-policy training on the policy.\n",
    "    If one or more baseline_reward_fns are provided, the regret is computed\n",
    "    against each one of them. Here is example baseline_reward_fn:\n",
    "    def baseline_reward_fn(observation, per_action_reward_fns):\n",
    "        rewards = ... # compute reward for each arm\n",
    "        optimal_action_reward = ... # take the maximum reward\n",
    "        return optimal_action_reward\n",
    "\n",
    "    Args:\n",
    "        root_dir: Path to the directory where training artifacts are written.\n",
    "        agent: An instance of `TFAgent`.\n",
    "        environment: An instance of `TFEnvironment`.\n",
    "        training_loops: An integer indicating how many training loops should be run.\n",
    "        steps_per_loop: An integer indicating how many driver steps should be\n",
    "           executed and presented to the trainer during each training loop.\n",
    "        additional_metrics: Optional; list of metric objects to log, in addition to\n",
    "          default metrics `NumberOfEpisodes`, `AverageReturnMetric`, and\n",
    "          `AverageEpisodeLengthMetric`.\n",
    "        training_data_spec_transformation_fn: Optional; function that transforms\n",
    "          the data items before they get to the replay buffer.\n",
    "\n",
    "    Returns:\n",
    "        A dict mapping metric names (eg. \"AverageReturnMetric\") to a list of\n",
    "        intermediate metric values over `training_loops` iterations of training.\n",
    "    \"\"\"\n",
    "    \n",
    "    # summary_writer = tf.summary.create_file_writer(root_dir)\n",
    "    train_summary_writer = tf.compat.v2.summary.create_file_writer(\n",
    "        log_dir, flush_millis=10 * 1000\n",
    "    )\n",
    "    train_summary_writer.set_as_default()\n",
    "    \n",
    "    \n",
    "    if training_data_spec_transformation_fn is None:\n",
    "        data_spec = agent.policy.trajectory_spec\n",
    "    else:\n",
    "        data_spec = training_data_spec_transformation_fn(\n",
    "            agent.policy.trajectory_spec)\n",
    "    replay_buffer = trainer._get_replay_buffer(\n",
    "        data_spec\n",
    "        , environment.batch_size\n",
    "        ,steps_per_loop\n",
    "        , 1\n",
    "    )\n",
    "\n",
    "    # `step_metric` records the number of individual rounds of bandit interaction;\n",
    "    # that is, (number of trajectories) * batch_size.\n",
    "    step_metric = tf_metrics.EnvironmentSteps()\n",
    "    metrics = [\n",
    "        tf_metrics.NumberOfEpisodes(),\n",
    "        tf_metrics.AverageEpisodeLengthMetric(batch_size=environment.batch_size)\n",
    "    ]\n",
    "    if additional_metrics:\n",
    "        metrics += additional_metrics\n",
    "\n",
    "    if isinstance(environment.reward_spec(), dict):\n",
    "        metrics += [tf_metrics.AverageReturnMultiMetric(\n",
    "            reward_spec=environment.reward_spec(),\n",
    "            batch_size=environment.batch_size)]\n",
    "    else:\n",
    "        metrics += [\n",
    "            tf_metrics.AverageReturnMetric(batch_size=environment.batch_size)]\n",
    "\n",
    "    # Store intermediate metric results, indexed by metric names.\n",
    "    m_results = defaultdict(list)\n",
    "\n",
    "    if training_data_spec_transformation_fn is not None:\n",
    "        def add_batch_fn(data): return replay_buffer.add_batch(training_data_spec_transformation_fn(data)) \n",
    "        \n",
    "    else:\n",
    "        add_batch_fn = replay_buffer.add_batch\n",
    "\n",
    "    observers = [add_batch_fn, step_metric] + metrics\n",
    "\n",
    "    driver = dynamic_step_driver.DynamicStepDriver(\n",
    "        env=environment,\n",
    "        policy=agent.collect_policy,\n",
    "        num_steps=steps_per_loop * environment.batch_size,\n",
    "        observers=observers\n",
    "    )\n",
    "    \n",
    "    # policy saver\n",
    "    train_step_counter = tf.compat.v1.train.get_or_create_global_step()\n",
    "    saver = policy_saver.PolicySaver(agent.policy, train_step=train_step_counter)\n",
    "\n",
    "    # training_loop = trainer.get_training_loop_fn(\n",
    "    training_loop = trainer._get_training_loop(        # jt TODO\n",
    "        driver=driver\n",
    "        , replay_buffer=replay_buffer\n",
    "        , agent=agent\n",
    "        , steps=steps_per_loop\n",
    "        , async_steps_per_loop=1\n",
    "    )\n",
    "\n",
    "    # for _ in range(training_loops):\n",
    "    for t_step in range(training_loops):\n",
    "        training_loop(    # JT TODO\n",
    "            train_step=t_step\n",
    "            , metrics=metrics\n",
    "        )\n",
    "        metric_utils.log_metrics(metrics)\n",
    "        for metric in metrics:\n",
    "            metric.tf_summaries(train_step=step_metric.result())\n",
    "            m_results[type(metric).__name__].append(metric.result().numpy())\n",
    "            \n",
    "        if t_step > 0 and t_step % 10 == 0:\n",
    "            \n",
    "            regret = m_results[\"RegretMetric\"][-1]\n",
    "            avg_return = m_results[\"AverageReturnMetric\"][-1]\n",
    "            \n",
    "            step_log = f'step: {t_step} | Regret: {\"%.1f\" % regret}; AvgReturn: {\"%.1f\" % avg_return}'\n",
    "            print(step_log)\n",
    "                \n",
    "                \n",
    "    saver.save(root_dir)\n",
    "    print(f\"saved policy to: {root_dir}\")\n",
    "    \n",
    "    return m_results"
   ]
  },
  {
   "cell_type": "markdown",
   "metadata": {
    "id": "35fb761a"
   },
   "source": [
    "Train the RL policy and gather intermediate metric results"
   ]
  },
  {
   "cell_type": "code",
   "execution_count": 99,
   "metadata": {
    "id": "416255c2"
   },
   "outputs": [
    {
     "name": "stdout",
     "output_type": "stream",
     "text": [
      "step: 10 | Regret: 3.4; AvgReturn: 1.1\n",
      "step: 20 | Regret: 3.9; AvgReturn: 0.4\n",
      "step: 30 | Regret: 1.6; AvgReturn: 2.5\n",
      "step: 40 | Regret: 1.4; AvgReturn: 2.8\n",
      "saved policy to: gs://rec-bandits-v2-hybrid-vertex-bucket/sxs-rl-rec-bandits-v2/run-20231019-041358/root\n",
      "runtime_mins: 1\n"
     ]
    }
   ],
   "source": [
    "start_time = time.time()\n",
    "\n",
    "m_results = train(\n",
    "    root_dir=ROOT_DIR,\n",
    "    log_dir=LOG_DIR,\n",
    "    agent=agent,\n",
    "    environment=environment,\n",
    "    training_loops=TRAINING_LOOPS,\n",
    "    steps_per_loop=STEPS_PER_LOOP,\n",
    "    additional_metrics=metrics\n",
    ")\n",
    "\n",
    "runtime_mins = int((time.time() - start_time) / 60)\n",
    "print(f\"runtime_mins: {runtime_mins}\")"
   ]
  },
  {
   "cell_type": "code",
   "execution_count": 100,
   "metadata": {},
   "outputs": [
    {
     "data": {
      "text/plain": [
       "2.6"
      ]
     },
     "execution_count": 100,
     "metadata": {},
     "output_type": "execute_result"
    }
   ],
   "source": [
    "m_results['AverageReturnMetric'][-1]"
   ]
  },
  {
   "cell_type": "markdown",
   "metadata": {
    "id": "9b8cd364"
   },
   "source": [
    "### Evaluate RL metrics [locally]\n",
    "\n",
    "You can visualize how the regret and average return metrics evolve over training steps."
   ]
  },
  {
   "cell_type": "code",
   "execution_count": 101,
   "metadata": {
    "id": "02da0069"
   },
   "outputs": [],
   "source": [
    "def plot(m_results, metric_name):\n",
    "    plt.plot(m_results[metric_name])\n",
    "    plt.ylabel(metric_name)\n",
    "    plt.xlabel(\"Step\")\n",
    "    plt.title(\"{} versus Step\".format(metric_name))"
   ]
  },
  {
   "cell_type": "code",
   "execution_count": 102,
   "metadata": {
    "id": "37c36cb2"
   },
   "outputs": [
    {
     "data": {
      "image/png": "[encoded data removed]",
      "text/plain": [
       "<Figure size 640x480 with 1 Axes>"
      ]
     },
     "metadata": {},
     "output_type": "display_data"
    }
   ],
   "source": [
    "plot(m_results, \"RegretMetric\")"
   ]
  },
  {
   "cell_type": "code",
   "execution_count": 103,
   "metadata": {
    "id": "c58d38a2"
   },
   "outputs": [
    {
     "data": {
      "image/png": "[encoded data removed]",
      "text/plain": [
       "<Figure size 640x480 with 1 Axes>"
      ]
     },
     "metadata": {},
     "output_type": "display_data"
    }
   ],
   "source": [
    "plot(m_results, \"AverageReturnMetric\")"
   ]
  },
  {
   "cell_type": "code",
   "execution_count": 104,
   "metadata": {},
   "outputs": [
    {
     "data": {
      "text/plain": [
       "'gs://rec-bandits-v2-hybrid-vertex-bucket/sxs-rl-rec-bandits-v2/run-20231019-041358/logs'"
      ]
     },
     "execution_count": 104,
     "metadata": {},
     "output_type": "execute_result"
    }
   ],
   "source": [
    "LOG_DIR"
   ]
  },
  {
   "cell_type": "code",
   "execution_count": 106,
   "metadata": {},
   "outputs": [],
   "source": [
    "# %load_ext tensorboard\n",
    "%reload_ext tensorboard"
   ]
  },
  {
   "cell_type": "code",
   "execution_count": 271,
   "metadata": {},
   "outputs": [],
   "source": [
    "# %tensorboard --logdir=$LOG_DIR"
   ]
  },
  {
   "cell_type": "markdown",
   "metadata": {
    "id": "18f04365"
   },
   "source": [
    "## Execute in Vertex AI Training\n",
    "\n",
    "This section consists of the following steps:\n",
    "1.   Run unit tests on `policy_util` and `task` modules\n",
    "2.   Create hyperparameter tuning and training custom container\n",
    "3.   Submit hyperparameter tuning job [optional]\n",
    "4.   Create custom prediction container\n",
    "5.   Submit custom container training job\n",
    "6.   Deploy trained model to Endpoint\n",
    "7.   Predict on the Endpoint"
   ]
  },
  {
   "cell_type": "markdown",
   "metadata": {
    "id": "db60f0d0"
   },
   "source": [
    "### Run unit tests on `policy_util` and `task` modules\n",
    "\n",
    "Run unit tests on the modules in `src/training/`."
   ]
  },
  {
   "cell_type": "code",
   "execution_count": 123,
   "metadata": {},
   "outputs": [
    {
     "name": "stdout",
     "output_type": "stream",
     "text": [
      "\n",
      "PREFIX             = \"rec-bandits-v2\"\n",
      "BUCKET_NAME        = \"rec-bandits-v2-hybrid-vertex-bucket\"\n",
      "EXPERIMENT_NAME    = \"sxs-rl-rec-bandits-v2\"\n",
      "RUN_NAME           = \"run-20231019-041358\"\n",
      "BASE_OUTPUT_DIR    = \"gs://rec-bandits-v2-hybrid-vertex-bucket/sxs-rl-rec-bandits-v2/run-20231019-041358\"\n",
      "LOG_DIR            = \"gs://rec-bandits-v2-hybrid-vertex-bucket/sxs-rl-rec-bandits-v2/run-20231019-041358/logs\"\n",
      "ROOT_DIR           = \"gs://rec-bandits-v2-hybrid-vertex-bucket/sxs-rl-rec-bandits-v2/run-20231019-041358/root\"\n",
      "ARTIFACTS_DIR      = \"gs://rec-bandits-v2-hybrid-vertex-bucket/sxs-rl-rec-bandits-v2/run-20231019-041358/artifacts\"\n",
      "DATA_PATH_KFP_DEMO = \"gs://rec-bandits-v2-hybrid-vertex-bucket/data/kfp_demo_data/u.data\"\n",
      "\n"
     ]
    }
   ],
   "source": [
    "data_config = f'''\n",
    "PREFIX             = \\\"{PREFIX}\\\"\n",
    "BUCKET_NAME        = \\\"{BUCKET_NAME}\\\"\n",
    "EXPERIMENT_NAME    = \\\"{EXPERIMENT_NAME}\\\"\n",
    "RUN_NAME           = \\\"{RUN_NAME}\\\"\n",
    "BASE_OUTPUT_DIR    = \\\"{BASE_OUTPUT_DIR}\\\"\n",
    "LOG_DIR            = \\\"{LOG_DIR}\\\"\n",
    "ROOT_DIR           = \\\"{ROOT_DIR}\\\"\n",
    "ARTIFACTS_DIR      = \\\"{ARTIFACTS_DIR}\\\"\n",
    "DATA_PATH_KFP_DEMO = \\\"{DATA_PATH_KFP_DEMO}\\\"\n",
    "'''\n",
    "print(data_config)"
   ]
  },
  {
   "cell_type": "code",
   "execution_count": 124,
   "metadata": {},
   "outputs": [],
   "source": [
    "with open(f'src/utils/data_config.py', 'w') as f:\n",
    "    f.write(data_config)"
   ]
  },
  {
   "cell_type": "markdown",
   "metadata": {},
   "source": [
    "### clear device"
   ]
  },
  {
   "cell_type": "code",
   "execution_count": 128,
   "metadata": {},
   "outputs": [],
   "source": [
    "from numba import cuda \n",
    "device = cuda.get_current_device()\n",
    "device.reset()"
   ]
  },
  {
   "cell_type": "code",
   "execution_count": 129,
   "metadata": {},
   "outputs": [
    {
     "data": {
      "text/plain": [
       "14"
      ]
     },
     "execution_count": 129,
     "metadata": {},
     "output_type": "execute_result"
    }
   ],
   "source": [
    "import gc\n",
    "gc.collect()"
   ]
  },
  {
   "cell_type": "markdown",
   "metadata": {},
   "source": [
    "### Run commands in-notebook or copy to terminal window (preferred)"
   ]
  },
  {
   "cell_type": "code",
   "execution_count": 131,
   "metadata": {
    "id": "262fc060"
   },
   "outputs": [],
   "source": [
    "# ! python3 -m unittest src/tests/test_policy_util.py"
   ]
  },
  {
   "cell_type": "code",
   "execution_count": 113,
   "metadata": {
    "id": "b60196e2"
   },
   "outputs": [],
   "source": [
    "# ! python3 -m unittest src/tests/test_task.py"
   ]
  },
  {
   "cell_type": "markdown",
   "metadata": {
    "id": "3726c506"
   },
   "source": [
    "### Create custom container for Vertex AI, and account for hyperparameter tuning\n",
    "\n",
    "Create a custom container that can be used for both hyperparameter tuning and training. The associated source code is in `src/training/`. This serves as the inner script of the custom container.\n",
    "As before, the training function is the same as [trainer.train](https://github.com/tensorflow/agents/blob/r0.8.0/tf_agents/bandits/agents/examples/v2/trainer.py#L104), but it keeps track of intermediate metric values, supports hyperparameter tuning, and (for training) saves artifacts to different locations. The training logic for hyperparameter tuning and training is the same.\n",
    "\n",
    "#### Execute hyperparameter tuning:\n",
    "- The code does not save model artifacts. It takes in command-line arguments as hyperparameter values from the Vertex AI Hyperparameter Tuning service, and reports training result metric to Vertex AI at each trial using cloudml-hypertune.\n",
    "- Note that if you decide to save model artifacts, saving them to the same directory may cause overwriting errors if you use parallel trials in the hyperparameter tuning job. The recommended approach is to save each trial's artifacts to a different sub-directory. This would also allow you to recover all the artifacts from different trials and can potentially save you from re-training.\n",
    "- Read more about hyperparameter tuning for custom containers [here](https://cloud.google.com/vertex-ai/docs/training/containers-overview#hyperparameter_tuning_with_custom_containers); read about hyperparameter tuning support [here](https://cloud.google.com/vertex-ai/docs/training/hyperparameter-tuning-overview).\n",
    "\n",
    "#### Execute training:\n",
    "- The code saves model artifacts to `os.environ[\"AIP_MODEL_DIR\"]` in addition to `ARTIFACTS_DIR`, as required [here](https://github.com/googleapis/python-aiplatform/blob/v0.8.0/google/cloud/aiplatform/training_jobs.py#L2202).\n",
    "- If you want to make changes to the function, make sure to still save the trained policy as a SavedModel to clean directories, and avoid saving checkpoints and other artifacts, so that deploying the model to endpoints works."
   ]
  },
  {
   "cell_type": "code",
   "execution_count": 150,
   "metadata": {
    "id": "bc407245"
   },
   "outputs": [
    {
     "name": "stdout",
     "output_type": "stream",
     "text": [
      "TRAIN_MAB_IMAGE_NAME : train_hpt_mab_e2e\n",
      "TRAIN_MAB_IMAGE_URI  : gcr.io/hybrid-vertex/train_hpt_mab_e2e\n",
      "DOCKERNAME_MAB       : Dockerfile_train_mab_e2e\n"
     ]
    }
   ],
   "source": [
    "print(f\"IMAGE_NAME_04 : {IMAGE_NAME_04}\")\n",
    "print(f\"IMAGE_URI_04  : {IMAGE_URI_04}\")\n",
    "print(f\"DOCKERNAME_04 : {DOCKERNAME_04}\")"
   ]
  },
  {
   "cell_type": "markdown",
   "metadata": {
    "id": "0cb2b0eb"
   },
   "source": [
    "#### Create a Cloud Build YAML file\n",
    "\n",
    "Use [Kaniko](https://github.com/GoogleContainerTools/kaniko) to build the hyperparameter-tuning/training container. You can apply caching and specify the build machine type. Alternatively, you can also use Docker build."
   ]
  },
  {
   "cell_type": "code",
   "execution_count": 151,
   "metadata": {},
   "outputs": [
    {
     "name": "stdout",
     "output_type": "stream",
     "text": [
      "Overwriting cloudbuild.yaml\n"
     ]
    }
   ],
   "source": [
    "%%writefile cloudbuild.yaml\n",
    "\n",
    "steps:\n",
    "- name: 'gcr.io/cloud-builders/docker'\n",
    "  args: ['build', '-t', '$_IMAGE_URI', '$_FILE_LOCATION', '-f', '$_FILE_LOCATION/$_DOCKERNAME']\n",
    "images:\n",
    "- '$_IMAGE_URI'"
   ]
  },
  {
   "cell_type": "markdown",
   "metadata": {
    "id": "eb8520d3"
   },
   "source": [
    "#### Write a Dockerfile\n",
    "\n",
    "- Use the [cloudml-hypertune](https://github.com/GoogleCloudPlatform/cloudml-hypertune) Python package to report training metrics to Vertex AI for hyperparameter tuning.\n",
    "- Use the Google [Cloud Storage client library](https://cloud.google.com/storage/docs/reference/libraries) to read the best hyperparameters learned from a previous hyperarameter tuning job during training."
   ]
  },
  {
   "cell_type": "code",
   "execution_count": 160,
   "metadata": {},
   "outputs": [
    {
     "name": "stdout",
     "output_type": "stream",
     "text": [
      "gpu_profiling : True\n"
     ]
    }
   ],
   "source": [
    "gpu_profiling = True # True | False\n",
    "\n",
    "print(f\"gpu_profiling : {gpu_profiling}\")"
   ]
  },
  {
   "cell_type": "code",
   "execution_count": 161,
   "metadata": {},
   "outputs": [
    {
     "name": "stdout",
     "output_type": "stream",
     "text": [
      "TRAIN_BASE_IMAGE : gcr.io/deeplearning-platform-release/tf2-gpu.2-13.py310\n",
      "NVTOP_RUN        : RUN apt update && apt -y install nvtop\n",
      "RUN_EXPORT       : RUN export PYTHONPATH=${PYTHONPATH}:${APP_HOME}/\n"
     ]
    }
   ],
   "source": [
    "if gpu_profiling:\n",
    "    # TRAIN_BASE_IMAGE = 'tensorflow/tensorflow:2.13.0-gpu'\n",
    "    TRAIN_BASE_IMAGE = 'gcr.io/deeplearning-platform-release/tf2-gpu.2-13.py310'\n",
    "    NVTOP_RUN = 'RUN apt update && apt -y install nvtop'\n",
    "    # NVTOP_RUN = 'RUN apt-get update && apt-get -y install nvtop'\n",
    "else:\n",
    "    TRAIN_BASE_IMAGE = 'python:3.10'\n",
    "    NVTOP_RUN = None\n",
    "    \n",
    "RUN_EXPORT = \"RUN export PYTHONPATH=${PYTHONPATH}:${APP_HOME}/\"\n",
    "    \n",
    "print(f\"TRAIN_BASE_IMAGE : {TRAIN_BASE_IMAGE}\")\n",
    "print(f\"NVTOP_RUN        : {NVTOP_RUN}\")\n",
    "print(f\"RUN_EXPORT       : {RUN_EXPORT}\")"
   ]
  },
  {
   "cell_type": "code",
   "execution_count": 162,
   "metadata": {
    "id": "7105edd4"
   },
   "outputs": [
    {
     "name": "stdout",
     "output_type": "stream",
     "text": [
      "\n",
      "# Specifies base image and tag.\n",
      "# FROM gcr.io/google-appengine/python\n",
      "FROM gcr.io/deeplearning-platform-release/tf2-gpu.2-13.py310\n",
      "\n",
      "ENV PYTHONUNBUFFERED True\n",
      "WORKDIR /root\n",
      "\n",
      "RUN pip install --upgrade pip\n",
      "\n",
      "RUN pip install cloudml-hypertune==0.1.0.dev6\n",
      "RUN pip install google-cloud-storage==1.39.0\n",
      "RUN pip install tensorflow==2.13.0\n",
      "RUN pip install tensorboard-plugin-profile==2.13.1\n",
      "RUN pip install tf-agents==0.17.0\n",
      "RUN pip install matplotlib==3.8.0\n",
      "RUN pip install urllib3==1.26.6\n",
      "\n",
      "RUN apt update && apt -y install nvtop\n",
      "\n",
      "# Copies training code to the Docker image.\n",
      "COPY src/training /root/src/training\n",
      "\n",
      "RUN export PYTHONPATH=${PYTHONPATH}:${APP_HOME}/\n",
      "\n",
      "# Sets up the entry point to invoke the task.\n",
      "ENTRYPOINT [\"python3\", \"-m\", \"src.training.task\"]\n",
      "\n"
     ]
    }
   ],
   "source": [
    "dockerfile = f'''\n",
    "# Specifies base image and tag.\n",
    "# FROM gcr.io/google-appengine/python\n",
    "FROM {TRAIN_BASE_IMAGE}\n",
    "\n",
    "ENV PYTHONUNBUFFERED True\n",
    "WORKDIR /root\n",
    "\n",
    "RUN pip install --upgrade pip\n",
    "\n",
    "RUN pip install cloudml-hypertune==0.1.0.dev6\n",
    "RUN pip install google-cloud-storage==1.39.0\n",
    "RUN pip install tensorflow==2.13.0\n",
    "RUN pip install tensorboard-plugin-profile==2.13.1\n",
    "RUN pip install tf-agents==0.17.0\n",
    "RUN pip install matplotlib==3.8.0\n",
    "RUN pip install urllib3==1.26.6\n",
    "\n",
    "{NVTOP_RUN}\n",
    "\n",
    "# Copies training code to the Docker image.\n",
    "COPY src/training /root/src/training\n",
    "\n",
    "{RUN_EXPORT}\n",
    "\n",
    "# Sets up the entry point to invoke the task.\n",
    "ENTRYPOINT [\"python3\", \"-m\", \"src.training.task\"]\n",
    "'''\n",
    "print(dockerfile)"
   ]
  },
  {
   "cell_type": "code",
   "execution_count": 163,
   "metadata": {},
   "outputs": [],
   "source": [
    "with open(f'{DOCKERNAME_MAB}', 'w') as f:\n",
    "    f.write(dockerfile)"
   ]
  },
  {
   "cell_type": "markdown",
   "metadata": {},
   "source": [
    "### Files that will be included in Cloud Build image\n",
    "* to adjust this see the gcloudignore section at the end of `00-env-setup.ipynb` notebook"
   ]
  },
  {
   "cell_type": "code",
   "execution_count": 270,
   "metadata": {},
   "outputs": [
    {
     "name": "stdout",
     "output_type": "stream",
     "text": [
      "requirements.txt\n",
      "instances.json\n",
      "Dockerfile_predict_mab_e2e\n",
      "Dockerfile_train_mab_e2e\n",
      "cloudbuild.yaml\n",
      "src/prediction/prestart.sh\n",
      "src/prediction/main.py\n",
      "src/training/policy_util.py\n",
      "src/training/task.py\n",
      "src/utils/data_config.py\n",
      "hptuning/result.json\n"
     ]
    }
   ],
   "source": [
    "# check eligble files\n",
    "!gcloud meta list-files-for-upload"
   ]
  },
  {
   "cell_type": "markdown",
   "metadata": {
    "id": "e8dcc653"
   },
   "source": [
    "#### Build the custom container with Cloud Build"
   ]
  },
  {
   "cell_type": "code",
   "execution_count": 165,
   "metadata": {},
   "outputs": [
    {
     "name": "stdout",
     "output_type": "stream",
     "text": [
      "DOCKERNAME    : Dockerfile_train_mab_e2e\n",
      "IMAGE_URI     : gcr.io/hybrid-vertex/train_hpt_mab_e2e\n",
      "FILE_LOCATION : .\n",
      "MACHINE_TYPE  : e2-highcpu-32\n"
     ]
    }
   ],
   "source": [
    "# image definitions for training\n",
    "MACHINE_TYPE          ='e2-highcpu-32'\n",
    "FILE_LOCATION         = \".\" # './src'\n",
    "\n",
    "DOCKERNAME            = DOCKERNAME_04\n",
    "IMAGE_URI             = IMAGE_URI_04\n",
    "\n",
    "print(f\"DOCKERNAME    : {DOCKERNAME}\")\n",
    "print(f\"IMAGE_URI     : {IMAGE_URI}\")\n",
    "print(f\"FILE_LOCATION : {FILE_LOCATION}\")\n",
    "print(f\"MACHINE_TYPE  : {MACHINE_TYPE}\")"
   ]
  },
  {
   "cell_type": "markdown",
   "metadata": {},
   "source": [
    "Copy printed command below && run in a **notebook terminal** to continue working in-notebook while image builds"
   ]
  },
  {
   "cell_type": "code",
   "execution_count": null,
   "metadata": {},
   "outputs": [],
   "source": [
    "CLOUD_BUILD_CMD = f'''gcloud builds submit --config ./cloudbuild.yaml \\\n",
    "--substitutions _DOCKERNAME={DOCKERNAME},_IMAGE_URI={IMAGE_URI},_FILE_LOCATION={FILE_LOCATION} \\\n",
    "--timeout=2h \\\n",
    "--machine-type={MACHINE_TYPE} \\\n",
    "--quiet\n",
    "'''\n",
    "print(CLOUD_BUILD_CMD)"
   ]
  },
  {
   "cell_type": "code",
   "execution_count": 214,
   "metadata": {
    "tags": []
   },
   "outputs": [],
   "source": [
    "# ! gcloud builds submit --config ./cloudbuild.yaml \\\n",
    "#     --substitutions _DOCKERNAME=$DOCKERNAME,_IMAGE_URI=$IMAGE_URI,_FILE_LOCATION=$FILE_LOCATION \\\n",
    "#     --timeout=2h \\\n",
    "#     --machine-type=$MACHINE_TYPE \\\n",
    "#     --quiet"
   ]
  },
  {
   "cell_type": "markdown",
   "metadata": {
    "id": "2bb1b30a"
   },
   "source": [
    "### Submit hyperparameter tuning job [optional]\n",
    "\n",
    "- Submit a hyperparameter training job with the custom container. Read more details for using Python packages as an alternative to using custom containers in the example shown [here](https://cloud.google.com/vertex-ai/docs/training/using-hyperparameter-tuning#create).\n",
    "- Define the hyperparameter(s), max trial count, parallel trial count, parameter search algorithm, machine spec, accelerators, worker pool, etc.\n",
    "\n",
    "> **TODO:** add Tensorboard resource to hpt job"
   ]
  },
  {
   "cell_type": "code",
   "execution_count": 206,
   "metadata": {
    "id": "9fb3158b"
   },
   "outputs": [
    {
     "name": "stdout",
     "output_type": "stream",
     "text": [
      "HPTUNING_RESULT_DIR  : hptuning\n",
      "HPTUNING_RESULT_FILE : result.json\n",
      "HPTUNING_RESULT_PATH : sxs-rl-rec-bandits-v2/run-20231019-041358/hptuning/result.json\n",
      "HPTUNING_RESULT_URI  : gs://rec-bandits-v2-hybrid-vertex-bucket/sxs-rl-rec-bandits-v2/run-20231019-041358/hptuning/result.json\n"
     ]
    }
   ],
   "source": [
    "RUN_HYPERPARAMETER_TUNING       = True   # Execute hyperparameter tuning instead of regular training.\n",
    "TRAIN_WITH_BEST_HYPERPARAMETERS = False  # Do not train. \n",
    "\n",
    "HPTUNING_RESULT_DIR                = \"hptuning\"\n",
    "HPTUNING_RESULT_FILE               = \"result.json\"\n",
    "HPTUNING_RESULT_PATH               = f\"{EXPERIMENT_NAME}/{RUN_NAME}/{HPTUNING_RESULT_DIR}/{HPTUNING_RESULT_FILE}\"\n",
    "HPTUNING_RESULT_URI                = f\"{BUCKET_URI}/{HPTUNING_RESULT_PATH}\"\n",
    "\n",
    "print(f\"HPTUNING_RESULT_DIR  : {HPTUNING_RESULT_DIR}\")\n",
    "print(f\"HPTUNING_RESULT_FILE : {HPTUNING_RESULT_FILE}\")\n",
    "print(f\"HPTUNING_RESULT_PATH : {HPTUNING_RESULT_PATH}\")\n",
    "print(f\"HPTUNING_RESULT_URI  : {HPTUNING_RESULT_URI}\")"
   ]
  },
  {
   "cell_type": "code",
   "execution_count": 168,
   "metadata": {
    "id": "f1222fe3"
   },
   "outputs": [],
   "source": [
    "aiplatform.init(project=PROJECT_ID, location=REGION, staging_bucket=BUCKET_NAME)"
   ]
  },
  {
   "cell_type": "code",
   "execution_count": 169,
   "metadata": {
    "id": "6dbfdf0f"
   },
   "outputs": [],
   "source": [
    "def create_hyperparameter_tuning_job_sample(\n",
    "    project: str,\n",
    "    display_name: str,\n",
    "    image_uri: str,\n",
    "    args: List[str],\n",
    "    location: str = \"us-central1\",\n",
    "    api_endpoint: str = \"us-central1-aiplatform.googleapis.com\"\n",
    ") -> None:\n",
    "    \"\"\"Creates a hyperparameter tuning job using a custom container.\n",
    "\n",
    "    Args:\n",
    "        project: GCP project ID.\n",
    "        display_name: GCP console display name for the hyperparameter tuning job in\n",
    "            Vertex AI.\n",
    "        image_uri: URI to the hyperparameter tuning container image in Container\n",
    "            Registry.\n",
    "        args: Arguments passed to the container.\n",
    "        location: Service location.\n",
    "        api_endpoint: API endpoint, eg. `<location>-aiplatform.googleapis.com`.\n",
    "\n",
    "    Returns:\n",
    "        A string of the hyperparameter tuning job ID.\n",
    "    \"\"\"\n",
    "    # The AI Platform services require regional API endpoints.\n",
    "    client_options = {\"api_endpoint\": api_endpoint}\n",
    "    # Initialize client that will be used to create and send requests.\n",
    "    # This client only needs to be created once, and can be reused for multiple requests.\n",
    "    client = aiplatform.gapic.JobServiceClient(client_options=client_options)\n",
    "\n",
    "    # study_spec\n",
    "    # Metric based on which to evaluate which combination of hyperparameter(s) to choose\n",
    "    metric = {\n",
    "        \"metric_id\": \"final_average_return\",  # Metric you report to Vertex AI.\n",
    "        \"goal\": aiplatform.gapic.StudySpec.MetricSpec.GoalType.MAXIMIZE,\n",
    "    }\n",
    "\n",
    "    # Hyperparameter(s) to tune\n",
    "    training_loops = {\n",
    "        \"parameter_id\": \"training-loops\",\n",
    "        \"discrete_value_spec\": {\"values\": [4, 16]},\n",
    "        \"scale_type\": aiplatform.gapic.StudySpec.ParameterSpec.ScaleType.UNIT_LINEAR_SCALE,\n",
    "    }\n",
    "    steps_per_loop = {\n",
    "        \"parameter_id\": \"steps-per-loop\",\n",
    "        \"discrete_value_spec\": {\"values\": [1, 2]},\n",
    "        \"scale_type\": aiplatform.gapic.StudySpec.ParameterSpec.ScaleType.UNIT_LINEAR_SCALE,\n",
    "    }\n",
    "\n",
    "    # trial_job_spec\n",
    "    machine_spec = {\n",
    "        \"machine_type\": \"n1-highcpu-16\",\n",
    "        \"accelerator_type\": aiplatform.gapic.AcceleratorType.ACCELERATOR_TYPE_UNSPECIFIED,\n",
    "        \"accelerator_count\": None,\n",
    "    }\n",
    "    worker_pool_spec = {\n",
    "        \"machine_spec\": machine_spec,\n",
    "        \"replica_count\": 1,\n",
    "        \"container_spec\": {\n",
    "            \"image_uri\": image_uri,\n",
    "            \"args\": args,\n",
    "        },\n",
    "    }\n",
    "\n",
    "    # hyperparameter_tuning_job\n",
    "    hyperparameter_tuning_job = {\n",
    "        \"display_name\": display_name,\n",
    "        \"max_trial_count\": 4,\n",
    "        \"parallel_trial_count\": 2,\n",
    "        \"study_spec\": {\n",
    "            \"metrics\": [metric],\n",
    "            \"parameters\": [training_loops, steps_per_loop],\n",
    "            \"algorithm\": aiplatform.gapic.StudySpec.Algorithm.RANDOM_SEARCH,\n",
    "        },\n",
    "        \"trial_job_spec\": {\"worker_pool_specs\": [worker_pool_spec]},\n",
    "    }\n",
    "    parent = f\"projects/{project}/locations/{location}\"\n",
    "\n",
    "    # Create job\n",
    "    response = client.create_hyperparameter_tuning_job(\n",
    "        parent=parent,\n",
    "        hyperparameter_tuning_job=hyperparameter_tuning_job)\n",
    "    job_id = response.name.split(\"/\")[-1]\n",
    "    print(\"Job ID:\", job_id)\n",
    "    print(\"Job config:\", response)\n",
    "\n",
    "    return job_id"
   ]
  },
  {
   "cell_type": "code",
   "execution_count": 170,
   "metadata": {},
   "outputs": [
    {
     "name": "stdout",
     "output_type": "stream",
     "text": [
      "TRAIN_MAB_IMAGE_NAME : train_hpt_mab_e2e\n",
      "TRAIN_MAB_IMAGE_URI  : gcr.io/hybrid-vertex/train_hpt_mab_e2e\n",
      "DOCKERNAME_MAB       : Dockerfile_train_mab_e2e\n"
     ]
    }
   ],
   "source": [
    "print(f\"TRAIN_MAB_IMAGE_NAME : {TRAIN_MAB_IMAGE_NAME}\")\n",
    "print(f\"TRAIN_MAB_IMAGE_URI  : {TRAIN_MAB_IMAGE_URI}\")\n",
    "print(f\"DOCKERNAME_MAB       : {DOCKERNAME_MAB}\")"
   ]
  },
  {
   "cell_type": "code",
   "execution_count": 172,
   "metadata": {
    "id": "aa831e5e"
   },
   "outputs": [
    {
     "name": "stdout",
     "output_type": "stream",
     "text": [
      "['--data-path=gs://rec-bandits-v2-hybrid-vertex-bucket/data/kfp_demo_data/u.data',\n",
      " '--batch-size=8',\n",
      " '--rank-k=20',\n",
      " '--num-actions=20',\n",
      " '--tikhonov-weight=0.001',\n",
      " '--agent-alpha=10.0',\n",
      " '--run-hyperparameter-tuning']\n"
     ]
    }
   ],
   "source": [
    "args = [\n",
    "    f\"--data-path={DATA_PATH_KFP_DEMO}\",\n",
    "    f\"--batch-size={BATCH_SIZE}\",\n",
    "    f\"--rank-k={RANK_K}\",\n",
    "    f\"--num-actions={NUM_ACTIONS}\",\n",
    "    f\"--tikhonov-weight={TIKHONOV_WEIGHT}\",\n",
    "    f\"--agent-alpha={AGENT_ALPHA}\",\n",
    "]\n",
    "if RUN_HYPERPARAMETER_TUNING:\n",
    "    args.append(\"--run-hyperparameter-tuning\")\n",
    "elif TRAIN_WITH_BEST_HYPERPARAMETERS:\n",
    "    args.append(\"--train-with-best-hyperparameters\")\n",
    "    \n",
    "pprint(args)"
   ]
  },
  {
   "cell_type": "code",
   "execution_count": 173,
   "metadata": {
    "id": "763c9af3"
   },
   "outputs": [
    {
     "name": "stdout",
     "output_type": "stream",
     "text": [
      "Job ID: 3763149808160735232\n",
      "Job config: name: \"projects/934903580331/locations/us-central1/hyperparameterTuningJobs/3763149808160735232\"\n",
      "display_name: \"mab-hpt-tuning-job\"\n",
      "study_spec {\n",
      "  metrics {\n",
      "    metric_id: \"final_average_return\"\n",
      "    goal: MAXIMIZE\n",
      "  }\n",
      "  parameters {\n",
      "    parameter_id: \"training-loops\"\n",
      "    discrete_value_spec {\n",
      "      values: 4.0\n",
      "      values: 16.0\n",
      "    }\n",
      "    scale_type: UNIT_LINEAR_SCALE\n",
      "  }\n",
      "  parameters {\n",
      "    parameter_id: \"steps-per-loop\"\n",
      "    discrete_value_spec {\n",
      "      values: 1.0\n",
      "      values: 2.0\n",
      "    }\n",
      "    scale_type: UNIT_LINEAR_SCALE\n",
      "  }\n",
      "  algorithm: RANDOM_SEARCH\n",
      "}\n",
      "max_trial_count: 4\n",
      "parallel_trial_count: 2\n",
      "trial_job_spec {\n",
      "  worker_pool_specs {\n",
      "    machine_spec {\n",
      "      machine_type: \"n1-highcpu-16\"\n",
      "    }\n",
      "    replica_count: 1\n",
      "    disk_spec {\n",
      "      boot_disk_type: \"pd-ssd\"\n",
      "      boot_disk_size_gb: 100\n",
      "    }\n",
      "    container_spec {\n",
      "      image_uri: \"gcr.io/hybrid-vertex/train_hpt_mab_e2e:latest\"\n",
      "      args: \"--data-path=gs://rec-bandits-v2-hybrid-vertex-bucket/data/kfp_demo_data/u.data\"\n",
      "      args: \"--batch-size=8\"\n",
      "      args: \"--rank-k=20\"\n",
      "      args: \"--num-actions=20\"\n",
      "      args: \"--tikhonov-weight=0.001\"\n",
      "      args: \"--agent-alpha=10.0\"\n",
      "      args: \"--run-hyperparameter-tuning\"\n",
      "    }\n",
      "  }\n",
      "}\n",
      "state: JOB_STATE_PENDING\n",
      "create_time {\n",
      "  seconds: 1697695795\n",
      "  nanos: 420660000\n",
      "}\n",
      "update_time {\n",
      "  seconds: 1697695795\n",
      "  nanos: 420660000\n",
      "}\n",
      "\n"
     ]
    }
   ],
   "source": [
    "job_id = create_hyperparameter_tuning_job_sample(\n",
    "    project=PROJECT_ID,\n",
    "    display_name=\"mab-hpt-tuning-job\",\n",
    "    image_uri=f\"gcr.io/{PROJECT_ID}/{TRAIN_MAB_IMAGE_NAME}:latest\",\n",
    "    args=args,\n",
    "    location=REGION,\n",
    "    api_endpoint=f\"{REGION}-aiplatform.googleapis.com\"\n",
    ")"
   ]
  },
  {
   "cell_type": "markdown",
   "metadata": {
    "id": "bafc0e05"
   },
   "source": [
    "It will take ~20 minutes to complete.\n",
    "\n",
    "#### Check hyperparameter tuning job status\n",
    "\n",
    "- Read more about managing jobs [here](https://cloud.google.com/vertex-ai/docs/training/using-hyperparameter-tuning#manage)."
   ]
  },
  {
   "cell_type": "code",
   "execution_count": 177,
   "metadata": {
    "id": "c959a9f3"
   },
   "outputs": [],
   "source": [
    "def get_hyperparameter_tuning_job_sample(\n",
    "    project: str,\n",
    "    hyperparameter_tuning_job_id: str,\n",
    "    location: str = \"us-central1\",\n",
    "    api_endpoint: str = \"us-central1-aiplatform.googleapis.com\",\n",
    ") -> aiplatform.HyperparameterTuningJob:\n",
    "    \"\"\"Gets the current status of a hyperparameter tuning job.\n",
    "\n",
    "    Args:\n",
    "        project: GCP project ID.\n",
    "        hyperparameter_tuning_job_id: Hyperparameter tuning job ID.\n",
    "        location: Service location.\n",
    "        api_endpoint: API endpoint, eg. `<location>-aiplatform.googleapis.com`.\n",
    "\n",
    "    Returns:\n",
    "        Details of the hyperparameter tuning job, such as its running status,\n",
    "        results of its trials, etc.\n",
    "    \"\"\"\n",
    "    # The AI Platform services require regional API endpoints.\n",
    "    client_options = {\"api_endpoint\": api_endpoint}\n",
    "    # Initialize client that will be used to create and send requests.\n",
    "    # This client only needs to be created once, and can be reused for multiple requests.\n",
    "    client = aiplatform.gapic.JobServiceClient(client_options=client_options)\n",
    "    name = client.hyperparameter_tuning_job_path(\n",
    "        project=project,\n",
    "        location=location,\n",
    "        hyperparameter_tuning_job=hyperparameter_tuning_job_id)\n",
    "    response = client.get_hyperparameter_tuning_job(name=name)\n",
    "    return response"
   ]
  },
  {
   "cell_type": "code",
   "execution_count": 178,
   "metadata": {
    "collapsed": true,
    "id": "7742abe2",
    "jupyter": {
     "outputs_hidden": true
    },
    "tags": []
   },
   "outputs": [
    {
     "name": "stdout",
     "output_type": "stream",
     "text": [
      "Job succeeded.\n",
      "Job Time: 0:22:08.361312\n",
      "Trials: [id: \"1\"\n",
      "state: SUCCEEDED\n",
      "parameters {\n",
      "  parameter_id: \"steps-per-loop\"\n",
      "  value {\n",
      "    number_value: 2.0\n",
      "  }\n",
      "}\n",
      "parameters {\n",
      "  parameter_id: \"training-loops\"\n",
      "  value {\n",
      "    number_value: 4.0\n",
      "  }\n",
      "}\n",
      "final_measurement {\n",
      "  step_count: 1\n",
      "  metrics {\n",
      "    metric_id: \"final_average_return\"\n",
      "    value: 0.30000001192092896\n",
      "  }\n",
      "}\n",
      "start_time {\n",
      "  seconds: 1697695805\n",
      "  nanos: 515489343\n",
      "}\n",
      "end_time {\n",
      "  seconds: 1697696088\n",
      "}\n",
      ", id: \"2\"\n",
      "state: SUCCEEDED\n",
      "parameters {\n",
      "  parameter_id: \"steps-per-loop\"\n",
      "  value {\n",
      "    number_value: 2.0\n",
      "  }\n",
      "}\n",
      "parameters {\n",
      "  parameter_id: \"training-loops\"\n",
      "  value {\n",
      "    number_value: 16.0\n",
      "  }\n",
      "}\n",
      "final_measurement {\n",
      "  step_count: 1\n",
      "  metrics {\n",
      "    metric_id: \"final_average_return\"\n",
      "    value: 0.699999988079071\n",
      "  }\n",
      "}\n",
      "start_time {\n",
      "  seconds: 1697695805\n",
      "  nanos: 515696004\n",
      "}\n",
      "end_time {\n",
      "  seconds: 1697696091\n",
      "}\n",
      ", id: \"3\"\n",
      "state: SUCCEEDED\n",
      "parameters {\n",
      "  parameter_id: \"steps-per-loop\"\n",
      "  value {\n",
      "    number_value: 2.0\n",
      "  }\n",
      "}\n",
      "parameters {\n",
      "  parameter_id: \"training-loops\"\n",
      "  value {\n",
      "    number_value: 16.0\n",
      "  }\n",
      "}\n",
      "final_measurement {\n",
      "  step_count: 1\n",
      "  metrics {\n",
      "    metric_id: \"final_average_return\"\n",
      "    value: 2.217103233723974e-15\n",
      "  }\n",
      "}\n",
      "start_time {\n",
      "  seconds: 1697696482\n",
      "  nanos: 778072092\n",
      "}\n",
      "end_time {\n",
      "  seconds: 1697696763\n",
      "}\n",
      ", id: \"4\"\n",
      "state: SUCCEEDED\n",
      "parameters {\n",
      "  parameter_id: \"steps-per-loop\"\n",
      "  value {\n",
      "    number_value: 2.0\n",
      "  }\n",
      "}\n",
      "parameters {\n",
      "  parameter_id: \"training-loops\"\n",
      "  value {\n",
      "    number_value: 4.0\n",
      "  }\n",
      "}\n",
      "final_measurement {\n",
      "  step_count: 1\n",
      "  metrics {\n",
      "    metric_id: \"final_average_return\"\n",
      "    value: 1.2999999523162842\n",
      "  }\n",
      "}\n",
      "start_time {\n",
      "  seconds: 1697696482\n",
      "  nanos: 778211866\n",
      "}\n",
      "end_time {\n",
      "  seconds: 1697696762\n",
      "}\n",
      "]\n"
     ]
    }
   ],
   "source": [
    "import time\n",
    "\n",
    "trials = None\n",
    "while True:\n",
    "    response = get_hyperparameter_tuning_job_sample(\n",
    "        project=PROJECT_ID,\n",
    "        hyperparameter_tuning_job_id=job_id,\n",
    "        location=REGION,\n",
    "        api_endpoint=f\"{REGION}-aiplatform.googleapis.com\")\n",
    "    if response.state.name == 'JOB_STATE_SUCCEEDED':\n",
    "        print(\"Job succeeded.\\nJob Time:\", response.update_time - response.create_time)\n",
    "        trials = response.trials\n",
    "        print(\"Trials:\", trials)\n",
    "        break\n",
    "    elif response.state.name == \"JOB_STATE_FAILED\":\n",
    "        print(\"Job failed.\")\n",
    "        break\n",
    "    elif response.state.name == \"JOB_STATE_CANCELLED\":\n",
    "        print(\"Job cancelled.\")\n",
    "        break\n",
    "    else:\n",
    "        print(f\"Current job status: {response.state.name}.\")\n",
    "    time.sleep(60)"
   ]
  },
  {
   "cell_type": "markdown",
   "metadata": {
    "id": "72e0a69d"
   },
   "source": [
    "#### Find the best combination(s) hyperparameter(s) for each metric"
   ]
  },
  {
   "cell_type": "code",
   "execution_count": 196,
   "metadata": {
    "id": "389e131c"
   },
   "outputs": [
    {
     "name": "stdout",
     "output_type": "stream",
     "text": [
      "Best hyperparameter value(s):\n",
      "Metric=final_average_return: [{'steps-per-loop': 2.0, 'training-loops': 4.0}]\n"
     ]
    }
   ],
   "source": [
    "if trials:\n",
    "    # Dict mapping from metric names to the best metric values seen so far\n",
    "    best_objective_values = dict.fromkeys(\n",
    "        [metric.metric_id for metric in trials[0].final_measurement.metrics],\n",
    "        -np.inf)\n",
    "    # Dict mapping from metric names to a list of the best combination(s) of\n",
    "    # hyperparameter(s). Each combination is a dict mapping from hyperparameter\n",
    "    # names to their values.\n",
    "    best_params = defaultdict(list)\n",
    "    for trial in trials:\n",
    "        # `final_measurement` and `parameters` are `RepeatedComposite` objects.\n",
    "        # Reference the structure above to extract the value of your interest.\n",
    "        for metric in trial.final_measurement.metrics:\n",
    "            params = {\n",
    "                param.parameter_id: param.value.number_value for param in trial.parameters\n",
    "            }\n",
    "            \n",
    "            if metric.value > best_objective_values[metric.metric_id]:\n",
    "                best_params[metric.metric_id] = [params]\n",
    "            elif metric.value == best_objective_values[metric.metric_id]:\n",
    "                best_params[param.parameter_id].append(params)  # Handle cases where multiple hyperparameter values lead to the same performance.\n",
    "    print(\"Best hyperparameter value(s):\")\n",
    "    for metric, params in best_params.items():\n",
    "        print(f\"Metric={metric}: {sorted(params)}\")\n",
    "else:\n",
    "    print(\"No hyperparameter tuning job trials found.\")"
   ]
  },
  {
   "cell_type": "code",
   "execution_count": 207,
   "metadata": {},
   "outputs": [
    {
     "name": "stdout",
     "output_type": "stream",
     "text": [
      "BEST_PARAM_DICT       : {'steps-per-loop': 2.0, 'training-loops': 4.0}\n",
      "LOCAL_HPT_RESULT_PATH : hptuning/result.json\n"
     ]
    }
   ],
   "source": [
    "BEST_PARAM_DICT = best_params[\"final_average_return\"][0]\n",
    "print(f\"BEST_PARAM_DICT       : {BEST_PARAM_DICT}\")\n",
    "\n",
    "LOCAL_HPT_RESULT_DIR = \"hptuning/\"\n",
    "LOCAL_HPT_RESULT_PATH = os.path.join(LOCAL_HPT_RESULT_DIR, \"result.json\")\n",
    "\n",
    "print(f\"LOCAL_HPT_RESULT_PATH : {LOCAL_HPT_RESULT_PATH}\")\n",
    "\n",
    "! rm -rf $LOCAL_HPT_RESULT_DIR\n",
    "! mkdir $LOCAL_HPT_RESULT_DIR"
   ]
  },
  {
   "cell_type": "markdown",
   "metadata": {
    "id": "a0497a5c"
   },
   "source": [
    "#### Convert a combination of best hyperparameter(s) for a metric of interest to JSON"
   ]
  },
  {
   "cell_type": "code",
   "execution_count": 208,
   "metadata": {
    "id": "ebced166"
   },
   "outputs": [],
   "source": [
    "with open(LOCAL_HPT_RESULT_PATH, \"w\") as f:\n",
    "    json_dumps_str = json.dumps(BEST_PARAM_DICT)\n",
    "    f.write(json_dumps_str)"
   ]
  },
  {
   "cell_type": "markdown",
   "metadata": {
    "id": "4a38871a"
   },
   "source": [
    "#### Upload the best hyperparameter(s) to GCS for use in training"
   ]
  },
  {
   "cell_type": "code",
   "execution_count": 211,
   "metadata": {
    "id": "0a674285"
   },
   "outputs": [
    {
     "name": "stdout",
     "output_type": "stream",
     "text": [
      "Copying file://hptuning/result.json [Content-Type=application/json]...\n",
      "/ [1 files][   46.0 B/   46.0 B]                                                \n",
      "Operation completed over 1 objects/46.0 B.                                       \n"
     ]
    }
   ],
   "source": [
    "!gsutil -q cp $LOCAL_HPT_RESULT_PATH $HPTUNING_RESULT_URI"
   ]
  },
  {
   "cell_type": "markdown",
   "metadata": {
    "id": "2b402962"
   },
   "source": [
    "## Create custom prediction container\n",
    "\n",
    "As with training, create a custom prediction container. This container handles the TF-Agents specific logic that is different from a regular TensorFlow Model. Specifically, it finds the predicted action using a trained policy. The associated source code is in `src/prediction/`.\n",
    "See other options for Vertex AI predictions [here](https://cloud.google.com/vertex-ai/docs/predictions/getting-predictions).\n",
    "\n",
    "#### Serve predictions:\n",
    "- Use [`tensorflow.saved_model.load`](https://www.tensorflow.org/agents/api_docs/python/tf_agents/policies/PolicySaver#usage), instead of [`tf_agents.policies.policy_loader.load`](https://github.com/tensorflow/agents/blob/r0.8.0/tf_agents/policies/policy_loader.py#L26), to load the trained policy, because the latter produces an object of type [`SavedModelPyTFEagerPolicy`](https://github.com/tensorflow/agents/blob/402b8aa81ca1b578ec1f687725d4ccb4115386d2/tf_agents/policies/py_tf_eager_policy.py#L137) whose `action()` is not compatible for use here.\n",
    "- Note that prediction requests contain only observation data but not reward. This is because: The prediction task is a standalone request that doesn't require prior knowledge of the system state. Meanwhile, end users only know what they observe at the moment. Reward is a piece of information that comes after the action has been made, so the end users would not have knowledge of said reward. In handling prediction requests, you create a [`TimeStep`](https://www.tensorflow.org/agents/api_docs/python/tf_agents/trajectories/TimeStep) object (consisting of `observation`, `reward`, `discount`, `step_type`) using the [`restart()`](https://www.tensorflow.org/agents/api_docs/python/tf_agents/trajectories/restart) function which takes in an `observation`. This function creates the *first* TimeStep in a trajectory of steps, where reward is 0, discount is 1 and step_type is marked as the first timestep. In other words, each prediction request forms the first `TimeStep` in a brand new trajectory.\n",
    "- For the prediction response, avoid using NumPy-typed values; instead, convert them to native Python values using methods such as [`tolist()`](https://numpy.org/doc/stable/reference/generated/numpy.ndarray.tolist.html) as opposed to `list()`.\n",
    "- There exists a prestart script in `src/prediction`. FastAPI executes this script before starting up the server. The `PORT` environment variable is set to equal `AIP_HTTP_PORT` in order to run FastAPI on the same port expected by Vertex AI."
   ]
  },
  {
   "cell_type": "code",
   "execution_count": 212,
   "metadata": {
    "id": "1723a927"
   },
   "outputs": [
    {
     "name": "stdout",
     "output_type": "stream",
     "text": [
      "PRED_MAB_IMAGE_NAME : mab_custom_prediction_rec_bandits_v2\n",
      "PRED_MAB_IMAGE_URI  : gcr.io/hybrid-vertex/mab_custom_prediction_rec_bandits_v2\n",
      "DOCKERNAME_MAB_PRED : Dockerfile_predict_mab_e2e\n",
      "ARTIFACTS_DIR       : gs://rec-bandits-v2-hybrid-vertex-bucket/sxs-rl-rec-bandits-v2/run-20231019-041358/artifacts\n"
     ]
    }
   ],
   "source": [
    "print(f\"DOCKERNAME_04_pred   : {DOCKERNAME_04_pred}\")\n",
    "print(f\"IMAGE_NAME_04_pred   : {IMAGE_NAME_04_pred}\")\n",
    "print(f\"IMAGE_URI_04_pred    : {IMAGE_URI_04_pred}\")"
   ]
  },
  {
   "cell_type": "markdown",
   "metadata": {
    "id": "e3dc8994"
   },
   "source": [
    "#### Create a Cloud Build YAML file\n",
    "\n",
    "Use [Kaniko](https://github.com/GoogleContainerTools/kaniko) to build the custom prediction container."
   ]
  },
  {
   "cell_type": "code",
   "execution_count": 114,
   "metadata": {
    "id": "15ca50b2"
   },
   "outputs": [],
   "source": [
    "CLOUD_BUILD_CONFIG = f'''\n",
    "steps:\n",
    "- name: 'gcr.io/cloud-builders/docker'\n",
    "  args: ['build', '-t', '$_IMAGE_URI', '$_FILE_LOCATION', '-f', '$_FILE_LOCATION/$_DOCKERNAME']\n",
    "  env: ['AIP_STORAGE_URI={ARTIFACTS_DIR}']\n",
    "images:\n",
    "- '$_IMAGE_URI'\n",
    "'''\n",
    "print(CLOUD_BUILD_CONFIG)"
   ]
  },
  {
   "cell_type": "code",
   "execution_count": null,
   "metadata": {},
   "outputs": [],
   "source": [
    "CLOUD_BUILD_YAML = 'cloudbuild.yaml'\n",
    "\n",
    "with open(f'{CLOUD_BUILD_YAML}', 'w') as f:\n",
    "    f.write(CLOUD_BUILD_CONFIG)"
   ]
  },
  {
   "cell_type": "markdown",
   "metadata": {
    "id": "65e32312"
   },
   "source": [
    "#### Define dependencies\n",
    "\n",
    "- Note that the dependencies should be compatiable with one another"
   ]
  },
  {
   "cell_type": "code",
   "execution_count": 115,
   "metadata": {
    "id": "4945bc35"
   },
   "outputs": [
    {
     "name": "stdout",
     "output_type": "stream",
     "text": [
      "Overwriting requirements.txt\n"
     ]
    }
   ],
   "source": [
    "# %%writefile requirements.txt\n",
    "# numpy\n",
    "# six\n",
    "# typing-extensions~=4.6.3\n",
    "# pillow\n",
    "# tf-agents==0.17.0\n",
    "# tensorflow==2.13.0"
   ]
  },
  {
   "cell_type": "markdown",
   "metadata": {
    "id": "201c8b24"
   },
   "source": [
    "#### Write a Dockerfile\n",
    "\n",
    "Note: leave the server directory `app`."
   ]
  },
  {
   "cell_type": "code",
   "execution_count": 116,
   "metadata": {
    "id": "3f8b0df0"
   },
   "outputs": [
    {
     "name": "stdout",
     "output_type": "stream",
     "text": [
      "Overwriting Dockerfile\n"
     ]
    }
   ],
   "source": [
    "dockerfile = f'''\n",
    "FROM tiangolo/uvicorn-gunicorn-fastapi:python3.10\n",
    "\n",
    "COPY src/prediction /app\n",
    "COPY requirements.txt /app/requirements.txt\n",
    "\n",
    "RUN pip3 install -r /app/requirements.txt\n",
    "'''\n",
    "print(dockerfile)"
   ]
  },
  {
   "cell_type": "code",
   "execution_count": null,
   "metadata": {},
   "outputs": [],
   "source": [
    "with open(f'{DOCKERNAME_MAB_PRED}', 'w') as f:\n",
    "    f.write(dockerfile)"
   ]
  },
  {
   "cell_type": "markdown",
   "metadata": {
    "id": "9dd4cffc"
   },
   "source": [
    "#### Build the prediction container with Cloud Build\n",
    "\n",
    "> run command in terminal"
   ]
  },
  {
   "cell_type": "code",
   "execution_count": null,
   "metadata": {},
   "outputs": [],
   "source": [
    "# image definitions for training\n",
    "MACHINE_TYPE            ='e2-highcpu-32'\n",
    "FILE_LOCATION           = \".\" # './src'\n",
    "\n",
    "DOCKERNAME            = DOCKERNAME_04_pred\n",
    "IMAGE_URI             = IMAGE_URI_04_pred\n",
    "\n",
    "print(f\"DOCKERNAME    : {DOCKERNAME}\")\n",
    "print(f\"IMAGE_URI     : {IMAGE_URI}\")\n",
    "print(f\"FILE_LOCATION : {FILE_LOCATION}\")\n",
    "print(f\"MACHINE_TYPE  : {MACHINE_TYPE}\")"
   ]
  },
  {
   "cell_type": "code",
   "execution_count": null,
   "metadata": {},
   "outputs": [],
   "source": [
    "CLOUD_BUILD_CMD = f'''gcloud builds submit --config ./{CLOUD_BUILD_YAML} \\\n",
    "--substitutions _DOCKERNAME={DOCKERNAME},_IMAGE_URI={IMAGE_URI},_FILE_LOCATION={FILE_LOCATION} \\\n",
    "--timeout=2h \\\n",
    "--machine-type={MACHINE_TYPE} \\\n",
    "--quiet\n",
    "'''\n",
    "print(CLOUD_BUILD_CMD)"
   ]
  },
  {
   "cell_type": "code",
   "execution_count": 175,
   "metadata": {
    "id": "9d4417c4",
    "tags": []
   },
   "outputs": [],
   "source": [
    "# ! gcloud builds submit --config cloudbuild.yaml"
   ]
  },
  {
   "cell_type": "markdown",
   "metadata": {
    "id": "6895e6d5"
   },
   "source": [
    "### Submit custom container training job\n",
    "\n",
    "- Note again that the bucket must be in the same regional location as the service location and it should not be multi-regional.\n",
    "- Read more of CustomContainerTrainingJob's source code [here](https://github.com/googleapis/python-aiplatform/blob/v0.8.0/google/cloud/aiplatform/training_jobs.py#L2153).\n",
    "- Like with local execution, you can use TensorBoard Profiler to track the training process and resources, and visualize the corresponding artifacts using the command: `%tensorboard --logdir $LOG_DIR`."
   ]
  },
  {
   "cell_type": "code",
   "execution_count": 216,
   "metadata": {
    "id": "9f05d08a"
   },
   "outputs": [],
   "source": [
    "aiplatform.init(project=PROJECT_ID, location=REGION, staging_bucket=BUCKET_NAME)"
   ]
  },
  {
   "cell_type": "code",
   "execution_count": 217,
   "metadata": {
    "id": "ab31a8da"
   },
   "outputs": [],
   "source": [
    "RUN_HYPERPARAMETER_TUNING       = False  # Execute regular training instead of hyperparameter tuning.\n",
    "TRAIN_WITH_BEST_HYPERPARAMETERS = True   #{type:\"bool\"} Whether to use learned hyperparameters in training."
   ]
  },
  {
   "cell_type": "code",
   "execution_count": 220,
   "metadata": {
    "id": "218eca21"
   },
   "outputs": [
    {
     "name": "stdout",
     "output_type": "stream",
     "text": [
      "['--artifacts-dir=gs://rec-bandits-v2-hybrid-vertex-bucket/sxs-rl-rec-bandits-v2/run-20231019-041358/artifacts',\n",
      " '--profiler-dir=gs://rec-bandits-v2-hybrid-vertex-bucket/sxs-rl-rec-bandits-v2/run-20231019-041358/logs',\n",
      " '--data-path=gs://rec-bandits-v2-hybrid-vertex-bucket/data/kfp_demo_data/u.data',\n",
      " '--batch-size=8',\n",
      " '--rank-k=20',\n",
      " '--num-actions=20',\n",
      " '--tikhonov-weight=0.001',\n",
      " '--agent-alpha=10.0',\n",
      " '--train-with-best-hyperparameters',\n",
      " '--best-hyperparameters-bucket=rec-bandits-v2-hybrid-vertex-bucket',\n",
      " '--best-hyperparameters-path=sxs-rl-rec-bandits-v2/run-20231019-041358/hptuning/result.json']\n"
     ]
    }
   ],
   "source": [
    "args = [\n",
    "    f\"--artifacts-dir={ARTIFACTS_DIR}\",\n",
    "    f\"--profiler-dir={LOG_DIR}\",\n",
    "    f\"--data-path={DATA_PATH_KFP_DEMO}\",\n",
    "    f\"--batch-size={BATCH_SIZE}\",\n",
    "    f\"--rank-k={RANK_K}\",\n",
    "    f\"--num-actions={NUM_ACTIONS}\",\n",
    "    f\"--tikhonov-weight={TIKHONOV_WEIGHT}\",\n",
    "    f\"--agent-alpha={AGENT_ALPHA}\",\n",
    "]\n",
    "if RUN_HYPERPARAMETER_TUNING:\n",
    "    args.append(\"--run-hyperparameter-tuning\")\n",
    "elif TRAIN_WITH_BEST_HYPERPARAMETERS:\n",
    "    args.append(\"--train-with-best-hyperparameters\")\n",
    "    args.append(f\"--best-hyperparameters-bucket={BUCKET_NAME}\")\n",
    "    args.append(f\"--best-hyperparameters-path={HPTUNING_RESULT_PATH}\")\n",
    "    \n",
    "pprint(args)"
   ]
  },
  {
   "cell_type": "code",
   "execution_count": 224,
   "metadata": {
    "id": "e8080155"
   },
   "outputs": [
    {
     "name": "stdout",
     "output_type": "stream",
     "text": [
      "Training Spec: container_spec {\n",
      "  image_uri: \"gcr.io/hybrid-vertex/mab_custom_prediction_rec_bandits_v2:latest\"\n",
      "  predict_route: \"/predict\"\n",
      "  health_route: \"/health\"\n",
      "}\n",
      "\n"
     ]
    }
   ],
   "source": [
    "TRAIN_CMD = [\"python3\", \"-m\", \"src.training.task\"] + args\n",
    "\n",
    "job = aiplatform.CustomContainerTrainingJob(\n",
    "    display_name=\"tuned-mab-training\",\n",
    "    container_uri=f\"{TRAIN_MAB_IMAGE_URI}:latest\",\n",
    "    command=TRAIN_CMD,\n",
    "    model_serving_container_image_uri=f\"{PRED_MAB_IMAGE_URI}:latest\",\n",
    "    model_serving_container_predict_route=\"/predict\",\n",
    "    model_serving_container_health_route=\"/health\"\n",
    ")\n",
    "\n",
    "print(\"Training Spec:\", job._managed_model)"
   ]
  },
  {
   "cell_type": "code",
   "execution_count": 225,
   "metadata": {},
   "outputs": [],
   "source": [
    "model = job.run(\n",
    "    model_display_name=f\"movielens-mab-{PREFIX}\",\n",
    "    replica_count=1,\n",
    "    machine_type=\"n1-standard-4\",\n",
    "    accelerator_type=\"ACCELERATOR_TYPE_UNSPECIFIED\",\n",
    "    accelerator_count=0,\n",
    "    sync=False\n",
    ")"
   ]
  },
  {
   "cell_type": "code",
   "execution_count": 228,
   "metadata": {
    "id": "3971b79d"
   },
   "outputs": [
    {
     "name": "stdout",
     "output_type": "stream",
     "text": [
      "Model display name: movielens-mab-rec-bandits-v2\n",
      "Model ID: 8072656152573247488\n"
     ]
    }
   ],
   "source": [
    "print(\"Model display name:\", model.display_name)\n",
    "print(\"Model ID:\", model.name)"
   ]
  },
  {
   "cell_type": "markdown",
   "metadata": {
    "id": "bfd47f03"
   },
   "source": [
    "### Deploy trained model to an Endpoint\n",
    "\n",
    "* see `model.deploy()` [source code](https://github.com/googleapis/python-aiplatform/blob/main/google/cloud/aiplatform/models.py#L748)"
   ]
  },
  {
   "cell_type": "code",
   "execution_count": 229,
   "metadata": {
    "id": "1c2fd020"
   },
   "outputs": [],
   "source": [
    "endpoint = model.deploy(\n",
    "    sync=False,\n",
    "    machine_type=\"n1-standard-4\"\n",
    ")"
   ]
  },
  {
   "cell_type": "code",
   "execution_count": 260,
   "metadata": {
    "id": "cffc159f"
   },
   "outputs": [
    {
     "name": "stdout",
     "output_type": "stream",
     "text": [
      "Endpoint display name: movielens-mab-rec-bandits-v2_endpoint\n",
      "Endpoint ID: 7494361414874693632\n"
     ]
    }
   ],
   "source": [
    "ENDPOINT_ID = endpoint.name\n",
    "ENDPOINT_DISPLAY_NAME = endpoint.display_name\n",
    "\n",
    "print(\"Endpoint display name:\", ENDPOINT_DISPLAY_NAME)\n",
    "print(\"Endpoint ID:\", ENDPOINT_ID)"
   ]
  },
  {
   "cell_type": "markdown",
   "metadata": {
    "id": "c85b31b0"
   },
   "source": [
    "## Predict on the Endpoint\n",
    "- Put prediction input(s) into a list named `instances`. The observation should of dimension (BATCH_SIZE, RANK_K). Read more about the MovieLens simulation environment observation [here](https://github.com/tensorflow/agents/blob/v0.8.0/tf_agents/bandits/environments/movielens_py_environment.py#L32-L138).\n",
    "- Read more about the endpoint prediction API [here](https://cloud.google.com/sdk/gcloud/reference/ai/endpoints/predict).\n",
    "\n",
    "\n",
    "*Note: if experiencing the error below, check `protobuf` version:*\n",
    "\n",
    "```python\n",
    "AttributeError: 'google.protobuf.pyext._message.RepeatedCompositeCo' object has no attribute 'WhichOneof'AttributeError: 'google.protobuf.pyext._message.RepeatedCompositeCo' object has no attribute 'WhichOneof'\n",
    "```\n",
    "\n",
    "Common packages to update:\n",
    "\n",
    "```\n",
    "pip install -U protobuf \n",
    "pip install -U google-api-core\n",
    "pip install -U google-cloud-core\n",
    "pip install -U google-auth\n",
    "```"
   ]
  },
  {
   "cell_type": "code",
   "execution_count": 259,
   "metadata": {
    "id": "670e5055"
   },
   "outputs": [],
   "source": [
    "endpoint.predict(\n",
    "    instances=[\n",
    "        {\"observation\": [list(np.ones(20)) for _ in range(8)]},\n",
    "    ]\n",
    ")"
   ]
  },
  {
   "cell_type": "markdown",
   "metadata": {},
   "source": [
    "### predict request with `gcloud`"
   ]
  },
  {
   "cell_type": "code",
   "execution_count": 265,
   "metadata": {},
   "outputs": [],
   "source": [
    "TEST_INSTANCE = {\"observation\": [list(np.ones(20)) for _ in range(8)]}\n",
    "\n",
    "TEST_TO_JSON = {\n",
    "    \"instances\": [TEST_INSTANCE]\n",
    "}\n",
    "\n",
    "with open('instances.json', \"w\") as f:\n",
    "    json_dumps_str = json.dumps(TEST_TO_JSON)\n",
    "    f.write(json_dumps_str)"
   ]
  },
  {
   "cell_type": "code",
   "execution_count": 266,
   "metadata": {},
   "outputs": [
    {
     "name": "stdout",
     "output_type": "stream",
     "text": [
      "Using endpoint [https://us-central1-prediction-aiplatform.googleapis.com/]\n",
      "[{'PolicyStep 0': [4, 4, 4, 4, 4, 4, 4, 4]}]\n"
     ]
    }
   ],
   "source": [
    "!gcloud ai endpoints predict $ENDPOINT_ID --region=$REGION --json-request=instances.json"
   ]
  },
  {
   "cell_type": "markdown",
   "metadata": {},
   "source": [
    "# Summary"
   ]
  },
  {
   "cell_type": "markdown",
   "metadata": {},
   "source": [
    "### What exactly is the purpose of the MovieLens simulation environment?"
   ]
  },
  {
   "cell_type": "markdown",
   "metadata": {},
   "source": [
    "The MovieLens environment *simulates* real-world environment containing users and their respective preferences. Internally, the MovieLens simulation environment takes the user-by-movie-item rating matrix and performs a `RANK_K` matrix factorization on the rating matrix, in order to address the sparsity of the matrix. After this construction step, the environment can generate user vectors of dimension `RANK_K` to represent users in the simulation environment, and is able to determine the approximate reward for any user and movie item pair. In RL's language, user vectors are observations, recommended movie items are actions, and approximate ratings are rewards. This environment therefore defines the RL problem at hand: how to recommend movies that maximize user ratings, in a simulated world of users with their respective preferences defined by the MovieLens dataset, while having zero knowledge of the internal mechanism of the environment.\n",
    "\n",
    "Note here the user vectors may not be in the same dimension as in the original rating matrix, and the approximate ratings (to address the sparsity of rating data) may not equal the original ratings. The individual entries in the user vectors do not correspond to real-world meanings, such as user age, etc.. In prediction requests, the observations are user vectors that lie in the same space as those generated by the MovieLens simulation environment. In other words, they represent users in the same way as the user vectors/observations generated by the MovieLens environment.\n",
    "\n",
    "The reason why this demo adopts the MovieLens environment is to base itself on a public dataset without needing to communicate with the real world; such communication adds overhead to the necessary steps of the demo and likely relies on a specific implementation that is difficult to generalize to your production requirements."
   ]
  },
  {
   "cell_type": "markdown",
   "metadata": {},
   "source": [
    "### How to apply this demo in production"
   ]
  },
  {
   "cell_type": "markdown",
   "metadata": {},
   "source": [
    "#### Step 0: Demo\n",
    "\n",
    "Walk through this demo, which uses the MovieLens simulation environment.\n",
    "\n",
    "#### Step 1: Offline Simulation\n",
    "\n",
    "To evaluate the performance of your RL model, you may need to run offline simulation first to determine if your RL model meets production criteria. In this case, you may have a static dataset, similar to the MovieLens dataset but potentially larger, and you can construct a custom simulation environment to use in place of the MovieLens one. In the custom environment, you may decide how to formulate observations and rewards, such as in terms of how to represent users with user vectors and what those vectors look like, perhaps via an embedding layer in a neural network. You may apply the rest of the steps and code in this demo just as you did for MovieLens, and then evaluate your model. After offline simulation, you may proceed to the next-steps of launching your model, such as A/B testing.\n",
    "\n",
    "#### Step 2: Real-World System\n",
    "\n",
    "When you deploy the steps in this demo in production, you would replace the MovieLens simulation environment with a real-world system or communication mechanism that binds to the real world. In training, you pull user vectors/observations and ratings/rewards from the real-world environment. Now, the individual entries in the user vectors may have actual meanings such as user age. Again, you may decide how to formulate observations and rewards. In prediction, the observations packaged in prediction requests are again the same kind of user vectors as in training, with the same real-world meanings; you would generate them with the same mechanism.\n",
    "\n",
    "Your goal for prediction would again be to determine what movie items to recommend for a particular user. You would represent said user with a user vector using the mechanism you determined, send that vector in as the observation, and obtain the recommended movie item in the response."
   ]
  },
  {
   "cell_type": "markdown",
   "metadata": {
    "id": "51780141"
   },
   "source": [
    "### Performance and scalability analysis"
   ]
  },
  {
   "cell_type": "markdown",
   "metadata": {},
   "source": [
    "You can use TensorBoard Profiler, as well as other TensorBoard features, to analyze training performance and find solutions to speed up and/or better scale your application."
   ]
  },
  {
   "cell_type": "markdown",
   "metadata": {
    "id": "f532a8c5"
   },
   "source": [
    "## Cleaning up\n",
    "\n",
    "To clean up all Google Cloud resources used in this project, you can [delete the Google Cloud\n",
    "project](https://cloud.google.com/resource-manager/docs/creating-managing-projects#shutting_down_projects) you used for the tutorial.\n",
    "\n",
    "Otherwise, you can delete the individual resources you created in this tutorial:"
   ]
  },
  {
   "cell_type": "code",
   "execution_count": null,
   "metadata": {
    "id": "4eb6a875"
   },
   "outputs": [],
   "source": [
    "# # Delete endpoint resource\n",
    "# ! gcloud ai endpoints delete $endpoint.name --quiet --region $REGION\n",
    "\n",
    "# # Delete model resource\n",
    "# ! gcloud ai models delete $model.name --quiet\n",
    "\n",
    "# # Delete Cloud Storage objects that were created\n",
    "# ! gsutil -m rm -r $ARTIFACTS_DIR"
   ]
  }
 ],
 "metadata": {
  "colab": {
   "collapsed_sections": [],
   "name": "step_by_step_sdk_tf_agents_bandits_movie_recommendation.ipynb",
   "toc_visible": true
  },
  "environment": {
   "kernel": "python3",
   "name": "tf2-gpu.2-13.m112",
   "type": "gcloud",
   "uri": "gcr.io/deeplearning-platform-release/tf2-gpu.2-13:m112"
  },
  "kernelspec": {
   "display_name": "Python 3",
   "language": "python",
   "name": "python3"
  },
  "language_info": {
   "codemirror_mode": {
    "name": "ipython",
    "version": 3
   },
   "file_extension": ".py",
   "mimetype": "text/x-python",
   "name": "python",
   "nbconvert_exporter": "python",
   "pygments_lexer": "ipython3",
   "version": "3.10.12"
  }
 },
 "nbformat": 4,
 "nbformat_minor": 4
}
