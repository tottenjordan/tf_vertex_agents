{
 "cells": [
  {
   "cell_type": "code",
   "execution_count": 1,
   "metadata": {
    "id": "ur8xi4C7S06n"
   },
   "outputs": [],
   "source": [
    "# Copyright 2021 Google LLC\n",
    "#\n",
    "# Licensed under the Apache License, Version 2.0 (the \"License\");\n",
    "# you may not use this file except in compliance with the License.\n",
    "# You may obtain a copy of the License at\n",
    "#\n",
    "#     https://www.apache.org/licenses/LICENSE-2.0\n",
    "#\n",
    "# Unless required by applicable law or agreed to in writing, software\n",
    "# distributed under the License is distributed on an \"AS IS\" BASIS,\n",
    "# WITHOUT WARRANTIES OR CONDITIONS OF ANY KIND, either express or implied.\n",
    "# See the License for the specific language governing permissions and\n",
    "# limitations under the License."
   ]
  },
  {
   "cell_type": "markdown",
   "metadata": {
    "id": "zFWqF3Y4Gilg"
   },
   "source": [
    "# Guide to Building End-to-End Reinforcement Learning Application Pipelines using Vertex AI"
   ]
  },
  {
   "cell_type": "markdown",
   "metadata": {
    "id": "JAPoU8Sm5E6e"
   },
   "source": [
    "<table align=\"left\">\n",
    "\n",
    "  <td>\n",
    "    <a href=\"https://colab.research.google.com/github/GoogleCloudPlatform/vertex-ai-samples/tree/master/community-content/tf_agents_bandits_movie_recommendation_with_kfp_and_vertex_sdk/mlops_pipeline_tf_agents_bandits_movie_recommendation/mlops_pipeline_tf_agents_bandits_movie_recommendation.ipynb\">\n",
    "      <img src=\"https://cloud.google.com/ml-engine/images/colab-logo-32px.png\" alt=\"Colab logo\"> Run in Colab\n",
    "    </a>\n",
    "  </td>\n",
    "  <td>\n",
    "    <a href=\"https://github.com/GoogleCloudPlatform/vertex-ai-samples/tree/master/community-content/tf_agents_bandits_movie_recommendation_with_kfp_and_vertex_sdk/mlops_pipeline_tf_agents_bandits_movie_recommendation/mlops_pipeline_tf_agents_bandits_movie_recommendation.ipynb\">\n",
    "      <img src=\"https://cloud.google.com/ml-engine/images/github-logo-32px.png\" alt=\"GitHub logo\">\n",
    "      View on GitHub\n",
    "    </a>\n",
    "  </td>\n",
    "</table>"
   ]
  },
  {
   "cell_type": "markdown",
   "metadata": {},
   "source": [
    "## Overview\n",
    "\n",
    "This demo showcases the use of [TF-Agents](https://www.tensorflow.org/agents), [Kubeflow Pipelines (KFP)](https://www.kubeflow.org/docs/components/pipelines/overview/pipelines-overview/) and [Vertex AI](https://cloud.google.com/vertex-ai), particularly [Vertex Pipelines](https://cloud.google.com/vertex-ai/docs/pipelines), in building an end-to-end reinforcement learning (RL) pipeline of a movie recommendation system. The demo is intended for developers who want to create RL applications using TensorFlow, TF-Agents and Vertex AI services, and those who want to build end-to-end production pipelines using KFP and Vertex Pipelines. It is recommended for developers to have familiarity with RL and the contextual bandits formulation, and the TF-Agents interface."
   ]
  },
  {
   "cell_type": "markdown",
   "metadata": {},
   "source": [
    "### Dataset\n",
    "\n",
    "This demo uses the [MovieLens 100K](https://www.kaggle.com/prajitdatta/movielens-100k-dataset) dataset to simulate an environment with users and their respective preferences. It is available at `gs://cloud-samples-data/vertex-ai/community-content/tf_agents_bandits_movie_recommendation_with_kfp_and_vertex_sdk/u.data`.\n"
   ]
  },
  {
   "cell_type": "markdown",
   "metadata": {},
   "source": [
    "### Objective\n",
    "\n",
    "In this notebook, you will learn how to build an end-to-end RL pipeline for a TF-Agents (particularly the bandits module) based movie recommendation system, using [KFP](https://www.kubeflow.org/docs/components/pipelines/overview/pipelines-overview/), [Vertex AI](https://cloud.google.com/vertex-ai) and particularly [Vertex Pipelines](https://cloud.google.com/vertex-ai/docs/pipelines) which is fully managed and highly scalable.\n",
    "\n",
    "This Vertex Pipeline includes the following components:\n",
    "1. *Generator* to generate MovieLens simulation data\n",
    "2. *Ingester* to ingest data\n",
    "3. *Trainer* to train the RL policy\n",
    "4. *Deployer* to deploy the trained policy to a Vertex AI endpoint\n",
    "\n",
    "After pipeline construction, you (1) create the *Simulator* (which utilizes Cloud Functions, Cloud Scheduler and Pub/Sub) to send simulated MovieLens prediction requests, (2) create the *Logger* to asynchronously log prediction inputs and results (which utilizes Cloud Functions, Pub/Sub and a hook in the prediction code), and (3) create the *Trigger* to trigger recurrent re-training.\n",
    "\n",
    "A more general ML pipeline is demonstrated in [MLOps on Vertex AI](https://github.com/ksalama/ucaip-labs)."
   ]
  },
  {
   "cell_type": "markdown",
   "metadata": {},
   "source": [
    "## Load notebook config\n",
    "\n",
    "* use the prefix defined in `00-env-setup`"
   ]
  },
  {
   "cell_type": "code",
   "execution_count": 2,
   "metadata": {},
   "outputs": [
    {
     "name": "stdout",
     "output_type": "stream",
     "text": [
      "PREFIX: rec-bandits-v2\n"
     ]
    }
   ],
   "source": [
    "VERSION        = \"v2\"                       # TODO\n",
    "PREFIX         = f'rec-bandits-{VERSION}'   # TODO\n",
    "\n",
    "print(f\"PREFIX: {PREFIX}\")"
   ]
  },
  {
   "cell_type": "code",
   "execution_count": 3,
   "metadata": {},
   "outputs": [
    {
     "name": "stdout",
     "output_type": "stream",
     "text": [
      "\n",
      "PROJECT_ID               = \"hybrid-vertex\"\n",
      "PROJECT_NUM              = \"934903580331\"\n",
      "LOCATION                 = \"us-central1\"\n",
      "\n",
      "REGION                   = \"us-central1\"\n",
      "BQ_LOCATION              = \"US\"\n",
      "VPC_NETWORK_NAME         = \"ucaip-haystack-vpc-network\"\n",
      "\n",
      "VERTEX_SA                = \"934903580331-compute@developer.gserviceaccount.com\"\n",
      "\n",
      "PREFIX                   = \"rec-bandits-v2\"\n",
      "VERSION                  = \"v2\"\n",
      "\n",
      "BUCKET_NAME              = \"rec-bandits-v2-hybrid-vertex-bucket\"\n",
      "BUCKET_URI               = \"gs://rec-bandits-v2-hybrid-vertex-bucket\"\n",
      "DATA_GCS_PREFIX          = \"data\"\n",
      "DATA_PATH                = \"gs://rec-bandits-v2-hybrid-vertex-bucket/data\"\n",
      "VOCAB_SUBDIR             = \"vocabs\"\n",
      "VOCAB_FILENAME           = \"vocab_dict.pkl\"\n",
      "DATA_PATH_KFP_DEMO       = \"gs://rec-bandits-v2-hybrid-vertex-bucket/data/kfp_demo_data/u.data\"\n",
      "\n",
      "VPC_NETWORK_FULL         = \"projects/934903580331/global/networks/ucaip-haystack-vpc-network\"\n",
      "\n",
      "BIGQUERY_DATASET_NAME    = \"rec_bandits_v2_bucket\"\n",
      "BIGQUERY_TABLE_NAME      = \"training_dataset\"\n",
      "\n",
      "REPOSITORY               = \"rl-movielens-rec-bandits-v2\"\n",
      "\n",
      "DOCKERNAME_01            = \"Dockerfile_train_my_perarm_env\"\n",
      "IMAGE_NAME_01            = \"train-my-perarm-env-v2\"\n",
      "IMAGE_URI_01             = \"gcr.io/hybrid-vertex/train-my-perarm-env-v2\"\n",
      "\n",
      "DOCKERNAME_02            = \"Dockerfile_perarm_feats\"\n",
      "IMAGE_NAME_02            = \"train-perarm-feats-v2\"\n",
      "IMAGE_URI_02             = \"gcr.io/hybrid-vertex/train-perarm-feats-v2\"\n",
      "\n",
      "DOCKERNAME_03            = \"Dockerfile_ranking_bandit\"\n",
      "IMAGE_NAME_03            = \"train-rank-bandit-v2\"\n",
      "IMAGE_URI_03             = \"gcr.io/hybrid-vertex/train-rank-bandit-v2\"\n",
      "\n",
      "DOCKERNAME_04            = \"Dockerfile_train_mab_e2e\"\n",
      "IMAGE_NAME_04            = \"train-mab-e2e-v2\"\n",
      "IMAGE_URI_04             = \"gcr.io/hybrid-vertex/train-mab-e2e-v2\"\n",
      "\n",
      "DOCKERNAME_04_pred       = \"Dockerfile_pred_mab_e2e\"\n",
      "IMAGE_NAME_04_pred       = \"pred-mab-e2e-v2\"\n",
      "IMAGE_URI_04_pred        = \"gcr.io/hybrid-vertex/pred-mab-e2e-v2\"\n",
      "\n",
      "REMOTE_IMAGE_NAME        = \"us-central1-docker.pkg.dev/hybrid-vertex/rl-movielens-rec-bandits-v2/local_docker_tfa\"\n",
      "\n",
      "REPO_DOCKER_PATH_PREFIX  = \"src\"\n",
      "RL_SUB_DIR               = \"per_arm_rl\"\n",
      "\n"
     ]
    }
   ],
   "source": [
    "# staging GCS\n",
    "GCP_PROJECTS             = !gcloud config get-value project\n",
    "PROJECT_ID               = GCP_PROJECTS[0]\n",
    "\n",
    "# GCS bucket and paths\n",
    "BUCKET_NAME              = f'{PREFIX}-{PROJECT_ID}-bucket'\n",
    "BUCKET_URI               = f'gs://{BUCKET_NAME}'\n",
    "\n",
    "config = !gsutil cat {BUCKET_URI}/config/notebook_env.py\n",
    "print(config.n)\n",
    "exec(config.n)"
   ]
  },
  {
   "cell_type": "code",
   "execution_count": 4,
   "metadata": {},
   "outputs": [
    {
     "name": "stdout",
     "output_type": "stream",
     "text": [
      "google_cloud_pipeline_components version: 2.4.1\n"
     ]
    }
   ],
   "source": [
    "! python3 -c \"import google_cloud_pipeline_components; print('google_cloud_pipeline_components version: {}'.format(google_cloud_pipeline_components.__version__))\""
   ]
  },
  {
   "cell_type": "markdown",
   "metadata": {
    "id": "XoEqT2Y4DJmf"
   },
   "source": [
    "### Import libraries and define constants"
   ]
  },
  {
   "cell_type": "code",
   "execution_count": 6,
   "metadata": {},
   "outputs": [],
   "source": [
    "import os\n",
    "\n",
    "os.environ['TF_CPP_MIN_LOG_LEVEL'] = '2'"
   ]
  },
  {
   "cell_type": "code",
   "execution_count": 7,
   "metadata": {
    "id": "pRUOFELefqf1"
   },
   "outputs": [
    {
     "name": "stdout",
     "output_type": "stream",
     "text": [
      "kfp version: 2.3.0\n",
      "bigquery SDK version: 3.11.4\n",
      "vertex_ai SDK version: 1.33.1\n"
     ]
    }
   ],
   "source": [
    "import sys\n",
    "import time \n",
    "\n",
    "from google.cloud import aiplatform as vertex_ai\n",
    "from google.cloud import bigquery\n",
    "\n",
    "### pipelines\n",
    "import kfp\n",
    "from kfp import compiler, dsl\n",
    "from kfp.dsl import Artifact, Dataset, Input, Metrics, Model, Output, component\n",
    "\n",
    "from google_cloud_pipeline_components.v1.model import ModelUploadOp\n",
    "from google_cloud_pipeline_components.v1.endpoint import ModelDeployOp, EndpointCreateOp\n",
    "from google_cloud_pipeline_components.types import artifact_types\n",
    "# from kfp.components import importer_node\n",
    "\n",
    "# logging\n",
    "import logging\n",
    "logging.disable(logging.WARNING)\n",
    "\n",
    "#python warning \n",
    "import warnings\n",
    "warnings.filterwarnings(\"ignore\")\n",
    "\n",
    "print(f'kfp version: {kfp.__version__}')\n",
    "print(f'bigquery SDK version: {bigquery.__version__}')\n",
    "print(f'vertex_ai SDK version: {vertex_ai.__version__}')"
   ]
  },
  {
   "cell_type": "markdown",
   "metadata": {
    "id": "fuN1uU27VaU3"
   },
   "source": [
    "## Set Vertex AI Experiment"
   ]
  },
  {
   "cell_type": "code",
   "execution_count": 8,
   "metadata": {},
   "outputs": [
    {
     "name": "stdout",
     "output_type": "stream",
     "text": [
      "EXPERIMENT_NAME    : mab-pipe-rec-bandits-v2\n",
      "RUN_NAME           : run-20231019-184119\n",
      "\n",
      "BASE_OUTPUT_DIR    : gs://rec-bandits-v2-hybrid-vertex-bucket/mab-pipe-rec-bandits-v2/run-20231019-184119\n",
      "LOG_DIR            : gs://rec-bandits-v2-hybrid-vertex-bucket/mab-pipe-rec-bandits-v2/run-20231019-184119/logs\n",
      "ROOT_DIR           : gs://rec-bandits-v2-hybrid-vertex-bucket/mab-pipe-rec-bandits-v2/run-20231019-184119/root\n",
      "ARTIFACTS_DIR      : gs://rec-bandits-v2-hybrid-vertex-bucket/mab-pipe-rec-bandits-v2/run-20231019-184119/artifacts\n",
      "DATA_PATH_KFP_DEMO : gs://rec-bandits-v2-hybrid-vertex-bucket/data/kfp_demo_data/u.data\n"
     ]
    }
   ],
   "source": [
    "EXPERIMENT_NAME   = f'mab-pipe-{PREFIX}'\n",
    "\n",
    "# new experiment\n",
    "invoke_time       = time.strftime(\"%Y%m%d-%H%M%S\")\n",
    "RUN_NAME          = f'run-{invoke_time}'\n",
    "\n",
    "BASE_OUTPUT_DIR   = f'{BUCKET_URI}/{EXPERIMENT_NAME}/{RUN_NAME}'\n",
    "LOG_DIR           = f\"{BASE_OUTPUT_DIR}/logs\"\n",
    "ROOT_DIR          = f\"{BASE_OUTPUT_DIR}/root\"       # Root directory for writing logs/summaries/checkpoints.\n",
    "ARTIFACTS_DIR     = f\"{BASE_OUTPUT_DIR}/artifacts\"  # Where the trained model will be saved and restored.\n",
    "\n",
    "vertex_ai.init(\n",
    "    project=PROJECT_ID,\n",
    "    location=REGION,\n",
    "    experiment=EXPERIMENT_NAME\n",
    ")\n",
    "\n",
    "bigquery_client = bigquery.Client(project=PROJECT_ID, location=BQ_LOCATION)\n",
    "\n",
    "print(f\"EXPERIMENT_NAME    : {EXPERIMENT_NAME}\")\n",
    "print(f\"RUN_NAME           : {RUN_NAME}\\n\")\n",
    "print(f\"BASE_OUTPUT_DIR    : {BASE_OUTPUT_DIR}\")\n",
    "print(f\"LOG_DIR            : {LOG_DIR}\")\n",
    "print(f\"ROOT_DIR           : {ROOT_DIR}\")\n",
    "print(f\"ARTIFACTS_DIR      : {ARTIFACTS_DIR}\")\n",
    "print(f\"DATA_PATH_KFP_DEMO : {DATA_PATH_KFP_DEMO}\")"
   ]
  },
  {
   "cell_type": "markdown",
   "metadata": {
    "id": "E6ppE7imft-y"
   },
   "source": [
    "# Create the RL pipeline components\n",
    "\n",
    "This section consists of the following steps:\n",
    "1. Create the *Generator* to generate MovieLens simulation data\n",
    "2. Create the *Ingester* to ingest data\n",
    "3. Create the *Trainer* to train the RL policy\n",
    "4. Create the *Deployer* to deploy the trained policy to a Vertex AI endpoint\n",
    "\n",
    "After pipeline construction, create the *Simulator* to send simulated MovieLens prediction requests, create the *Logger* to asynchronously log prediction inputs and results, and create the *Trigger* to trigger re-training.\n",
    "\n",
    "Here's the entire workflow:\n",
    "1. The startup pipeline has the following components: Generator --> Ingester --> Trainer --> Deployer. This pipeline only runs once.\n",
    "2. Then, the Simulator generates prediction requests (e.g. every 5 mins),  and the Logger gets invoked immediately at each prediction request and logs each prediction request asynchronously into BigQuery. The Trigger runs the re-training pipeline (e.g. every 30 mins) with the following components: Ingester --> Trainer --> Deploy.\n",
    "\n",
    "You can find the KFP SDK documentation [here](https://www.kubeflow.org/docs/components/pipelines/sdk/sdk-overview/)."
   ]
  },
  {
   "cell_type": "code",
   "execution_count": 9,
   "metadata": {},
   "outputs": [],
   "source": [
    "data_config = f'''\n",
    "PROJECT_ID          = \\\"{PROJECT_ID}\\\"\n",
    "PREFIX              = \\\"{PREFIX}\\\"\n",
    "BUCKET_NAME         = \\\"{BUCKET_NAME}\\\"\n",
    "EXPERIMENT_NAME     = \\\"{EXPERIMENT_NAME}\\\"\n",
    "RUN_NAME            = \\\"{RUN_NAME}\\\"\n",
    "DATA_PATH           = \\\"{DATA_PATH}\\\"\n",
    "BASE_OUTPUT_DIR     = \\\"{BASE_OUTPUT_DIR}\\\"\n",
    "LOG_DIR             = \\\"{LOG_DIR}\\\"\n",
    "ROOT_DIR            = \\\"{ROOT_DIR}\\\"\n",
    "ARTIFACTS_DIR       = \\\"{ARTIFACTS_DIR}\\\"\n",
    "DATA_PATH_KFP_DEMO  = \\\"{DATA_PATH_KFP_DEMO}\\\"\n",
    "BQ_LOCATION         = \\\"{BQ_LOCATION}\\\"\n",
    "BIGQUERY_DATASET_NAME = \\\"{BIGQUERY_DATASET_NAME}\\\"\n",
    "BIGQUERY_TABLE_NAME   = \\\"{BIGQUERY_TABLE_NAME}\\\"\n",
    "'''\n",
    "# print(data_config)\n",
    "\n",
    "with open(f'src/utils/data_config.py', 'w') as f:\n",
    "    f.write(data_config)"
   ]
  },
  {
   "cell_type": "markdown",
   "metadata": {},
   "source": [
    "leave these variables as they are..."
   ]
  },
  {
   "cell_type": "code",
   "execution_count": 12,
   "metadata": {},
   "outputs": [],
   "source": [
    "# Dataset parameters\n",
    "BIGQUERY_MAX_ROWS = 5                                      # Maximum number of rows of data in BigQuery to ingest.\n",
    "BIGQUERY_TMP_FILE = ('tmp.json')"
   ]
  },
  {
   "cell_type": "markdown",
   "metadata": {
    "id": "dxTLuuWEGilo"
   },
   "source": [
    "## (1) Generator\n",
    "\n",
    "> Create the *Generator* to generate MovieLens simulation data\n",
    "\n",
    "Create the Generator component to generate the initial set of training data using a MovieLens simulation environment and a random data-collecting policy. Store the generated data in BigQuery.\n",
    "\n",
    "The Generator source code is [`src/generator/generator_component.py`](src/generator/generator_component.py)."
   ]
  },
  {
   "cell_type": "markdown",
   "metadata": {
    "id": "ay1ztxwIGilo"
   },
   "source": [
    "### Run unit tests on the Generator component\n",
    "\n",
    "Tests for [`src/generator/test_generator_component.py`](src/generator/test_generator_component.py)\n",
    "* To avoid printing long test logs in-notebook, run the below commands in a notebook terminal"
   ]
  },
  {
   "cell_type": "code",
   "execution_count": 10,
   "metadata": {
    "id": "R9FQacKtGilo"
   },
   "outputs": [],
   "source": [
    "# ! python3 -m unittest src.generator.test_generator_component"
   ]
  },
  {
   "cell_type": "code",
   "execution_count": null,
   "metadata": {},
   "outputs": [],
   "source": [
    "from src.generator.generator_component import generate_movielens_dataset_for_bigquery\n",
    "\n",
    "# generate_movielens_dataset_for_bigquery(\n",
    "#     project_id=PROJECT_ID,\n",
    "#     raw_data_path=DATA_PATH_KFP_DEMO,\n",
    "#     batch_size=8,\n",
    "#     rank_k=20,\n",
    "#     num_actions=20,\n",
    "#     driver_steps=3,\n",
    "#     bigquery_tmp_file=BIGQUERY_TMP_FILE,\n",
    "#     bigquery_dataset_name=BIGQUERY_DATASET_NAME,\n",
    "#     bigquery_location=BQ_LOCATION,\n",
    "#     bigquery_table_name=BIGQUERY_TABLE_NAME,\n",
    "# )\n",
    "\n",
    "# ==============================================================================\n",
    "\n",
    "# # generate_movielens_dataset_for_bigquery().bigquery_dataset_name\n",
    "# ==============================================================================\n",
    "# \"\"\"The Generator component for generating MovieLens simulation data.\"\"\"\n",
    "# =============================================================================="
   ]
  },
  {
   "cell_type": "code",
   "execution_count": 19,
   "metadata": {},
   "outputs": [],
   "source": [
    "from typing import NamedTuple\n",
    "@component(\n",
    "    base_image=\"tensorflow/tensorflow:2.13.0\",\n",
    "    output_component_file='./src/trainer2/generate_op.yaml',\n",
    "    packages_to_install=[\n",
    "      \"google-cloud-bigquery\",\n",
    "      \"tensorflow==2.13.0\",\n",
    "      \"tf-agents==0.17.0\",\n",
    "    ],\n",
    ")\n",
    "def generate_movielens_dataset_for_bigquery(\n",
    "    project_id: str,\n",
    "    raw_data_path: str,\n",
    "    batch_size: int,\n",
    "    rank_k: int,\n",
    "    num_actions: int,\n",
    "    driver_steps: int,\n",
    "    bigquery_tmp_file: str,\n",
    "    bigquery_dataset_name: str,\n",
    "    bigquery_location: str,\n",
    "    bigquery_table_name: str\n",
    ") -> NamedTuple(\"Outputs\", [\n",
    "    (\"bigquery_dataset_name\", str),\n",
    "    (\"bigquery_location\", str),\n",
    "    (\"bigquery_table_name\", str),\n",
    "]):\n",
    "  \"\"\"Generates BigQuery training data using a MovieLens simulation environment.\n",
    "\n",
    "  Serves as the Generator pipeline component:\n",
    "  1. Generates `trajectories.Trajectory` data by applying a random policy on\n",
    "    MovieLens simulation environment.\n",
    "  2. Converts `trajectories.Trajectory` data to JSON format.\n",
    "  3. Loads JSON-formatted data into BigQuery.\n",
    "\n",
    "  This function is to be built into a Kubeflow Pipelines (KFP) component. As a\n",
    "  result, this function must be entirely self-contained. This means that the\n",
    "  import statements and helper functions must reside within itself.\n",
    "\n",
    "  Args:\n",
    "    project_id: GCP project ID. This is required because otherwise the BigQuery\n",
    "      client will use the ID of the tenant GCP project created as a result of\n",
    "      KFP, which doesn't have proper access to BigQuery.\n",
    "    raw_data_path: Path to MovieLens 100K's \"u.data\" file.\n",
    "    batch_size: Batch size of environment generated quantities eg. rewards.\n",
    "    rank_k: Rank for matrix factorization in the MovieLens environment; also\n",
    "      the observation dimension.\n",
    "    num_actions: Number of actions (movie items) to choose from.\n",
    "    driver_steps: Number of steps to run per batch.\n",
    "    bigquery_tmp_file: Path to a JSON file containing the training dataset.\n",
    "    bigquery_dataset_name: A string of the BigQuery dataset ID in the format of\n",
    "      \"project.dataset\".\n",
    "    bigquery_location: A string of the BigQuery dataset location.\n",
    "    bigquery_table_name: A string of the BigQuery table ID in the format of\n",
    "      \"table_name\".\n",
    "\n",
    "  Returns:\n",
    "    A NamedTuple of (`bigquery_dataset_name`, `bigquery_location`,\n",
    "    `bigquery_table_name`).\n",
    "  \"\"\"\n",
    "  # pylint: disable=g-import-not-at-top\n",
    "  import collections\n",
    "  import json\n",
    "  from typing import Any, Dict\n",
    "\n",
    "  from google.cloud import bigquery\n",
    "\n",
    "  from tf_agents import replay_buffers\n",
    "  from tf_agents import trajectories\n",
    "  from tf_agents.bandits.agents.examples.v2 import trainer\n",
    "  from tf_agents.bandits.environments import movielens_py_environment\n",
    "  from tf_agents.drivers import dynamic_step_driver\n",
    "  from tf_agents.environments import tf_py_environment\n",
    "  from tf_agents.policies import random_tf_policy\n",
    "\n",
    "  def generate_simulation_data(\n",
    "      raw_data_path: str,\n",
    "      batch_size: int,\n",
    "      rank_k: int,\n",
    "      num_actions: int,\n",
    "      driver_steps: int) -> replay_buffers.TFUniformReplayBuffer:\n",
    "    \"\"\"Generates `trajectories.Trajectory` data from the simulation environment.\n",
    "\n",
    "    Constructs a MovieLens simulation environment, and generates a set of\n",
    "    `trajectories.Trajectory` data using a random policy.\n",
    "\n",
    "    Args:\n",
    "      raw_data_path: Path to MovieLens 100K's \"u.data\" file.\n",
    "      batch_size: Batch size of environment generated quantities eg. rewards.\n",
    "      rank_k: Rank for matrix factorization in the MovieLens environment; also\n",
    "        the observation dimension.\n",
    "      num_actions: Number of actions (movie items) to choose from.\n",
    "      driver_steps: Number of steps to run per batch.\n",
    "\n",
    "    Returns:\n",
    "      A replay buffer holding randomly generated`trajectories.Trajectory` data.\n",
    "    \"\"\"\n",
    "    # Create MovieLens simulation environment.\n",
    "    env = movielens_py_environment.MovieLensPyEnvironment(\n",
    "        raw_data_path,\n",
    "        rank_k,\n",
    "        batch_size,\n",
    "        num_movies=num_actions,\n",
    "        csv_delimiter=\"\\t\")\n",
    "    environment = tf_py_environment.TFPyEnvironment(env)\n",
    "\n",
    "    # Define random policy for collecting data.\n",
    "    random_policy = random_tf_policy.RandomTFPolicy(\n",
    "        action_spec=environment.action_spec(),\n",
    "        time_step_spec=environment.time_step_spec())\n",
    "\n",
    "    # Use replay buffer and observers to keep track of Trajectory data.\n",
    "    data_spec = random_policy.trajectory_spec\n",
    "    replay_buffer = trainer._get_replay_buffer(\n",
    "        data_spec\n",
    "        , environment.batch_size\n",
    "        , driver_steps\n",
    "        , 1\n",
    "    )\n",
    "    observers = [replay_buffer.add_batch]\n",
    "\n",
    "    # Run driver to apply the random policy in the simulation environment.\n",
    "    driver = dynamic_step_driver.DynamicStepDriver(\n",
    "        env=environment,\n",
    "        policy=random_policy,\n",
    "        num_steps=driver_steps * environment.batch_size,\n",
    "        observers=observers)\n",
    "    driver.run()\n",
    "\n",
    "    return replay_buffer\n",
    "\n",
    "  def build_dict_from_trajectory(\n",
    "      trajectory: trajectories.Trajectory) -> Dict[str, Any]:\n",
    "    \"\"\"Builds a dict from `trajectory` data.\n",
    "\n",
    "    Args:\n",
    "      trajectory: A `trajectories.Trajectory` object.\n",
    "\n",
    "    Returns:\n",
    "      A dict holding the same data as `trajectory`.\n",
    "    \"\"\"\n",
    "    trajectory_dict = {\n",
    "        \"step_type\": trajectory.step_type.numpy().tolist(),\n",
    "        \"observation\": [{\n",
    "            \"observation_batch\": batch\n",
    "        } for batch in trajectory.observation.numpy().tolist()],\n",
    "        \"action\": trajectory.action.numpy().tolist(),\n",
    "        \"policy_info\": trajectory.policy_info,\n",
    "        \"next_step_type\": trajectory.next_step_type.numpy().tolist(),\n",
    "        \"reward\": trajectory.reward.numpy().tolist(),\n",
    "        \"discount\": trajectory.discount.numpy().tolist(),\n",
    "    }\n",
    "    return trajectory_dict\n",
    "\n",
    "  def write_replay_buffer_to_file(\n",
    "      replay_buffer: replay_buffers.TFUniformReplayBuffer,\n",
    "      batch_size: int,\n",
    "      dataset_file: str) -> None:\n",
    "    \"\"\"Writes replay buffer data to a file, each JSON in one line.\n",
    "\n",
    "    Each `trajectories.Trajectory` object in `replay_buffer` will be written as\n",
    "    one line to the `dataset_file` in JSON format. I.e., the `dataset_file`\n",
    "    would be a newline-delimited JSON file.\n",
    "\n",
    "    Args:\n",
    "      replay_buffer: A `replay_buffers.TFUniformReplayBuffer` holding\n",
    "        `trajectories.Trajectory` objects.\n",
    "      batch_size: Batch size of environment generated quantities eg. rewards.\n",
    "      dataset_file: File path. Will be overwritten if already exists.\n",
    "    \"\"\"\n",
    "    dataset = replay_buffer.as_dataset(sample_batch_size=batch_size)\n",
    "    dataset_size = replay_buffer.num_frames().numpy()\n",
    "\n",
    "    with open(dataset_file, \"w\") as f:\n",
    "      for example in dataset.take(count=dataset_size):\n",
    "        traj_dict = build_dict_from_trajectory(example[0])\n",
    "        f.write(json.dumps(traj_dict) + \"\\n\")\n",
    "\n",
    "  def load_dataset_into_bigquery(\n",
    "      project_id: str,\n",
    "      dataset_file: str,\n",
    "      bigquery_dataset_name: str,\n",
    "      bigquery_location: str,\n",
    "      bigquery_table_name: str) -> None:\n",
    "    \"\"\"Loads training dataset into BigQuery table.\n",
    "\n",
    "    Loads training dataset of `trajectories.Trajectory` in newline delimited\n",
    "    JSON into a BigQuery dataset and table, using a BigQuery client.\n",
    "\n",
    "    Args:\n",
    "      project_id: GCP project ID. This is required because otherwise the\n",
    "        BigQuery client will use the ID of the tenant GCP project created as a\n",
    "        result of KFP, which doesn't have proper access to BigQuery.\n",
    "      dataset_file: Path to a JSON file containing the training dataset.\n",
    "      bigquery_dataset_name: A string of the BigQuery dataset ID in the format of\n",
    "        \"dataset_name\".\n",
    "      bigquery_location: A string of the BigQuery dataset location.\n",
    "      bigquery_table_name: A string of the BigQuery table ID in the format of\n",
    "        \"project.dataset.table\".\n",
    "    \"\"\"\n",
    "    \n",
    "    _bq_dataset_ref = f\"{project_id}.{bigquery_dataset_name}\"\n",
    "    \n",
    "    # Construct a BigQuery client object.\n",
    "    client = bigquery.Client(project=project_id)\n",
    "\n",
    "    # Construct a full Dataset object to send to the API.\n",
    "    dataset = bigquery.Dataset(_bq_dataset_ref)\n",
    "\n",
    "    # Specify the geographic location where the dataset should reside.\n",
    "    dataset.location = bigquery_location\n",
    "\n",
    "    # Create the dataset, or get the dataset if it exists.\n",
    "    dataset = client.create_dataset(dataset = dataset, exists_ok=True, timeout=30)\n",
    "\n",
    "    job_config = bigquery.LoadJobConfig(\n",
    "        schema=[\n",
    "            bigquery.SchemaField(\"step_type\", \"INT64\", mode=\"REPEATED\"),\n",
    "            bigquery.SchemaField(\n",
    "                \"observation\",\n",
    "                \"RECORD\",\n",
    "                mode=\"REPEATED\",\n",
    "                fields=[\n",
    "                    bigquery.SchemaField(\"observation_batch\", \"FLOAT64\",\n",
    "                                         \"REPEATED\")\n",
    "                ]),\n",
    "            bigquery.SchemaField(\"action\", \"INT64\", mode=\"REPEATED\"),\n",
    "            bigquery.SchemaField(\"policy_info\", \"FLOAT64\", mode=\"REPEATED\"),\n",
    "            bigquery.SchemaField(\"next_step_type\", \"INT64\", mode=\"REPEATED\"),\n",
    "            bigquery.SchemaField(\"reward\", \"FLOAT64\", mode=\"REPEATED\"),\n",
    "            bigquery.SchemaField(\"discount\", \"FLOAT64\", mode=\"REPEATED\"),\n",
    "        ],\n",
    "        source_format=bigquery.SourceFormat.NEWLINE_DELIMITED_JSON,\n",
    "    )\n",
    "    \n",
    "    _bq_table_ref = f\"{project_id}.{bigquery_dataset_name}.{bigquery_table_name}\"\n",
    "\n",
    "    with open(dataset_file, \"rb\") as source_file:\n",
    "      load_job = client.load_table_from_file(\n",
    "          source_file, _bq_table_ref, job_config=job_config)\n",
    "\n",
    "    load_job.result()  # Wait for the job to complete.\n",
    "\n",
    "  replay_buffer = generate_simulation_data(\n",
    "      raw_data_path=raw_data_path,\n",
    "      batch_size=batch_size,\n",
    "      rank_k=rank_k,\n",
    "      num_actions=num_actions,\n",
    "      driver_steps=driver_steps\n",
    "  )\n",
    "\n",
    "  write_replay_buffer_to_file(\n",
    "      replay_buffer=replay_buffer,\n",
    "      batch_size=batch_size,\n",
    "      dataset_file=bigquery_tmp_file\n",
    "  )\n",
    "\n",
    "  load_dataset_into_bigquery(project_id, bigquery_tmp_file, bigquery_dataset_name,\n",
    "                             bigquery_location, bigquery_table_name)\n",
    "\n",
    "  outputs = collections.namedtuple(\n",
    "      \"Outputs\",\n",
    "      [\"bigquery_dataset_name\", \"bigquery_location\", \"bigquery_table_name\"])\n",
    "\n",
    "  return outputs(bigquery_dataset_name, bigquery_location, bigquery_table_name)\n",
    "\n",
    "# compiler.Compiler().compile(pipeline_func=generator_comp, package_path=\"./src/trainer2/generate_op.yaml\")"
   ]
  },
  {
   "cell_type": "markdown",
   "metadata": {
    "id": "1gpYFPPBOWQP"
   },
   "source": [
    "## (2) Ingestor\n",
    "\n",
    "> Create the *Ingester* to ingest data\n",
    "\n",
    "Create the Ingester component to ingest data from BigQuery, package them as `tf.train.Example` objects, and output TFRecord files.\n",
    "\n",
    "Read more about `tf.train.Example` and TFRecord [here](https://www.tensorflow.org/tutorials/load_data/tfrecord).\n",
    "\n",
    "The Ingester component source code is in [`src/ingester/ingester_component.py`](src/ingester/ingester_component.py)."
   ]
  },
  {
   "cell_type": "markdown",
   "metadata": {
    "id": "ZQkLU7wyOWQP"
   },
   "source": [
    "### Run unit tests on the Ingester component"
   ]
  },
  {
   "cell_type": "code",
   "execution_count": 20,
   "metadata": {
    "id": "Ej4rNnnEOWQP"
   },
   "outputs": [],
   "source": [
    "# ! python3 -m unittest src.ingester.test_ingester_component"
   ]
  },
  {
   "cell_type": "code",
   "execution_count": 21,
   "metadata": {},
   "outputs": [],
   "source": [
    "# ingestor_comp = src.ingester.ingest_bigquery_dataset_into_tfrecord(\n",
    "#     project_id=PROJECT_ID,\n",
    "#     bigquery_table_name=BIGQUERY_TABLE_NAME,\n",
    "#     bigquery_dataset_name=BIGQUERY_DATASET_NAME,\n",
    "#     bigquery_max_rows=10000,\n",
    "#     tfrecord_file=TFRECORD_FILE,\n",
    "# )"
   ]
  },
  {
   "cell_type": "code",
   "execution_count": 44,
   "metadata": {},
   "outputs": [],
   "source": [
    "from typing import NamedTuple\n",
    "@component(\n",
    "    base_image=\"tensorflow/tensorflow:2.13.0\",\n",
    "    output_component_file='./src/trainer2/ingest_op.yaml',\n",
    "    packages_to_install=[\n",
    "      \"google-cloud-bigquery\",\n",
    "      \"tensorflow==2.13.0\",\n",
    "    ],\n",
    ")\n",
    "def ingest_bigquery_dataset_into_tfrecord(\n",
    "    project_id: str,\n",
    "    bigquery_table_name: str,\n",
    "    bigquery_dataset_name: str,\n",
    "    tfrecord_file: str,\n",
    "    bigquery_max_rows: int = None\n",
    ") -> NamedTuple(\"Outputs\", [\n",
    "    (\"tfrecord_file\", str),\n",
    "]):\n",
    "  \"\"\"Ingests data from BigQuery, formats them and outputs TFRecord files.\n",
    "\n",
    "  Serves as the Ingester pipeline component:\n",
    "  1. Reads data in BigQuery that contains 7 pieces of data: `step_type`,\n",
    "    `observation`, `action`, `policy_info`, `next_step_type`, `reward`,\n",
    "    `discount`.\n",
    "  2. Packages the data as `tf.train.Example` objects and outputs them as\n",
    "    TFRecord files.\n",
    "\n",
    "  This function is to be built into a Kubeflow Pipelines (KFP) component. As a\n",
    "  result, this function must be entirely self-contained. This means that the\n",
    "  import statements and helper functions must reside within itself.\n",
    "\n",
    "  Args:\n",
    "    project_id: GCP project ID. This is required because otherwise the BigQuery\n",
    "      client will use the ID of the tenant GCP project created as a result of\n",
    "      KFP, which doesn't have proper access to BigQuery.\n",
    "    bigquery_table_name: A string of the BigQuery table ID in the format of\n",
    "      \"bigquery_table_name\".\n",
    "    tfrecord_file: Path to file to write the ingestion result TFRecords.\n",
    "    bigquery_max_rows: Optional; maximum number of rows to ingest.\n",
    "\n",
    "  Returns:\n",
    "    A NamedTuple of the path to the output TFRecord file.\n",
    "  \"\"\"\n",
    "  # pylint: disable=g-import-not-at-top\n",
    "  import collections\n",
    "  from typing import Optional\n",
    "\n",
    "  from google.cloud import bigquery\n",
    "\n",
    "  import tensorflow as tf\n",
    "\n",
    "  def read_data_from_bigquery(\n",
    "      project_id: str,\n",
    "      bigquery_table_name: str,\n",
    "      bigquery_dataset_name: str,\n",
    "      bigquery_max_rows: Optional[int]) -> bigquery.table.RowIterator:\n",
    "    \"\"\"Reads data from BigQuery at `bigquery_table_name` and creates an iterator.\n",
    "\n",
    "    The table contains 7 columns that form `trajectories.Trajectory` objects:\n",
    "    `step_type`, `observation`, `action`, `policy_info`, `next_step_type`,\n",
    "    `reward`, `discount`.\n",
    "\n",
    "    Args:\n",
    "      project_id: GCP project ID. This is required because otherwise the\n",
    "        BigQuery client will use the ID of the tenant GCP project created as a\n",
    "        result of KFP, which doesn't have proper access to BigQuery.\n",
    "      bigquery_table_name: A string of the BigQuery table ID in the format of\n",
    "        \"project.dataset.table\".\n",
    "      bigquery_max_rows: Optional; maximum number of rows to fetch.\n",
    "\n",
    "    Returns:\n",
    "      A row iterator over all data at `bigquery_table_name`.\n",
    "    \"\"\"\n",
    "    # Construct a BigQuery client object.\n",
    "    client = bigquery.Client(project=project_id)\n",
    "    \n",
    "    _bq_table_id = f\"{project_id}.{bigquery_dataset_name}.{bigquery_table_name}\"\n",
    "\n",
    "    # Get dataset.\n",
    "    query_job = client.query(\n",
    "        f\"\"\"\n",
    "        SELECT * FROM `{_bq_table_id}`\n",
    "        \"\"\"\n",
    "    )\n",
    "    table = query_job.result(max_results=bigquery_max_rows)\n",
    "\n",
    "    return table\n",
    "\n",
    "  def _bytes_feature(tensor: tf.Tensor) -> tf.train.Feature:\n",
    "    \"\"\"Returns a `tf.train.Feature` with bytes from `tensor`.\n",
    "\n",
    "    Args:\n",
    "      tensor: A `tf.Tensor` object.\n",
    "\n",
    "    Returns:\n",
    "      A `tf.train.Feature` object containing bytes that represent the content of\n",
    "      `tensor`.\n",
    "    \"\"\"\n",
    "    value = tf.io.serialize_tensor(tensor)\n",
    "    if isinstance(value, type(tf.constant(0))):\n",
    "      value = value.numpy()\n",
    "    return tf.train.Feature(bytes_list=tf.train.BytesList(value=[value]))\n",
    "\n",
    "  def build_example(data_row: bigquery.table.Row) -> tf.train.Example:\n",
    "    \"\"\"Builds a `tf.train.Example` from `data_row` content.\n",
    "\n",
    "    Args:\n",
    "      data_row: A `bigquery.table.Row` object that contains 7 pieces of data:\n",
    "        `step_type`, `observation`, `action`, `policy_info`, `next_step_type`,\n",
    "        `reward`, `discount`. Each piece of data except `observation` is a 1D\n",
    "        array; `observation` is a 1D array of `{\"observation_batch\": 1D array}.`\n",
    "\n",
    "    Returns:\n",
    "      A `tf.train.Example` object holding the same data as `data_row`.\n",
    "    \"\"\"\n",
    "    feature = {\n",
    "        \"step_type\":\n",
    "            _bytes_feature(data_row.get(\"step_type\")),\n",
    "        \"observation\":\n",
    "            _bytes_feature([\n",
    "                observation[\"observation_batch\"]\n",
    "                for observation in data_row.get(\"observation\")\n",
    "            ]),\n",
    "        \"action\":\n",
    "            _bytes_feature(data_row.get(\"action\")),\n",
    "        \"policy_info\":\n",
    "            _bytes_feature(data_row.get(\"policy_info\")),\n",
    "        \"next_step_type\":\n",
    "            _bytes_feature(data_row.get(\"next_step_type\")),\n",
    "        \"reward\":\n",
    "            _bytes_feature(data_row.get(\"reward\")),\n",
    "        \"discount\":\n",
    "            _bytes_feature(data_row.get(\"discount\")),\n",
    "    }\n",
    "    example_proto = tf.train.Example(\n",
    "        features=tf.train.Features(feature=feature))\n",
    "    return example_proto\n",
    "\n",
    "  def write_tfrecords(\n",
    "      tfrecord_file: str,\n",
    "      table: bigquery.table.RowIterator) -> None:\n",
    "    \"\"\"Writes the row data in `table` into TFRecords in `tfrecord_file`.\n",
    "\n",
    "    Args:\n",
    "      tfrecord_file: Path to file to write the TFRecords.\n",
    "      table: A row iterator over all data to be written.\n",
    "    \"\"\"\n",
    "    with tf.io.TFRecordWriter(tfrecord_file) as writer:\n",
    "      for data_row in table:\n",
    "        example = build_example(data_row)\n",
    "        writer.write(example.SerializeToString())\n",
    "\n",
    "  table = read_data_from_bigquery(\n",
    "      project_id=project_id,\n",
    "      bigquery_dataset_name=bigquery_dataset_name,\n",
    "      bigquery_table_name=bigquery_table_name,\n",
    "      bigquery_max_rows=bigquery_max_rows\n",
    "  )\n",
    "\n",
    "  write_tfrecords(tfrecord_file, table)\n",
    "\n",
    "  outputs = collections.namedtuple(\n",
    "      \"Outputs\",\n",
    "      [\"tfrecord_file\"])\n",
    "\n",
    "  return outputs(tfrecord_file)"
   ]
  },
  {
   "cell_type": "markdown",
   "metadata": {
    "id": "KFdSpGAWWkL9"
   },
   "source": [
    "## (3) Trainer\n",
    "\n",
    "> Create the *Trainer* to train the RL policy\n",
    "\n",
    "Create the Trainer component to train the RL policy on the training dataset, and then submit a remote custom training job to Vertex AI. This component trains a policy using the TF-Agents LinUCB agent on the MovieLens simulation dataset, and saves the trained policy as a `SavedModel`.\n",
    "\n",
    "The Trainer component source code is in [`src/trainer/trainer_component.py`](src/trainer/trainer_component.py). You use additional Vertex AI platform code in pipeline construction to submit the training code defined in `Trainer` as a custom training job to Vertex AI. (The additional code is similar to what [`kfp.v2.google.experimental.run_as_aiplatform_custom_job`](https://github.com/kubeflow/pipelines/blob/master/sdk/python/kfp/v2/google/experimental/custom_job.py) does. You can find an example notebook [here](https://github.com/GoogleCloudPlatform/ai-platform-samples/blob/master/ai-platform-unified/notebooks/official/pipelines/google_cloud_pipeline_components_model_train_upload_deploy.ipynb) for how to use that first-party Trainer component.)\n",
    "\n",
    "The Trainer performs **off-policy training**, where you train a policy on a static set of pre-collected data records containing information including `observation`, `action` and `reward`. For a data record, the policy in training might not output the same action given the observation in that data record.\n",
    "\n",
    "If you're interested in pipeline metrics, read about [KFP Pipeline Metrics](https://www.kubeflow.org/docs/components/pipelines/sdk/pipelines-metrics/) here."
   ]
  },
  {
   "cell_type": "code",
   "execution_count": 45,
   "metadata": {
    "id": "fh5S-bcCcHn3"
   },
   "outputs": [],
   "source": [
    "TRAINING_REPLICA_COUNT = 1                                  # Number of replica to run the custom training job.\n",
    "TRAINING_MACHINE_TYPE = (\"n1-highcpu-16\")                   # Type of machine to run the custom training job.\n",
    "TRAINING_ACCELERATOR_TYPE = \"ACCELERATOR_TYPE_UNSPECIFIED\"  # Type of accelerators to run the custom training job.\n",
    "TRAINING_ACCELERATOR_COUNT = 0                              # Number of accelerators for the custom training job."
   ]
  },
  {
   "cell_type": "markdown",
   "metadata": {
    "id": "MH3UOVU8WkL9"
   },
   "source": [
    "### Run unit tests on the Trainer component"
   ]
  },
  {
   "cell_type": "code",
   "execution_count": 46,
   "metadata": {
    "id": "CEJ7_ymvWkL9"
   },
   "outputs": [],
   "source": [
    "# ! python3 -m unittest src.trainer.test_trainer_component"
   ]
  },
  {
   "cell_type": "code",
   "execution_count": 47,
   "metadata": {},
   "outputs": [],
   "source": [
    "# ingestor_comp = src.trainer.train_reinforcement_learning_policy(\n",
    "#     training_artifacts_dir=ARTIFACTS_DIR,\n",
    "#     tfrecord_file=TFRECORD_FILE,\n",
    "#     num_epochs=5,\n",
    "#     rank_k=20,\n",
    "#     num_actions=20,\n",
    "#     tikhonov_weight=0.01,\n",
    "#     agent_alpha=10,\n",
    "#     project=PROJECT_ID,\n",
    "#     location=REGION,\n",
    "# )"
   ]
  },
  {
   "cell_type": "code",
   "execution_count": 68,
   "metadata": {},
   "outputs": [],
   "source": [
    "from typing import NamedTuple\n",
    "@component(\n",
    "    base_image=\"tensorflow/tensorflow:2.13.0\",\n",
    "    output_component_file='./src/trainer2/component_train_job_op.yaml',\n",
    "    packages_to_install=[\n",
    "      \"tensorflow==2.13.0\",\n",
    "      \"tf-agents==0.17.0\",\n",
    "    ],\n",
    ")\n",
    "def train_reinforcement_learning_policy(\n",
    "    training_artifacts_dir: str,\n",
    "    tfrecord_file: str,\n",
    "    num_epochs: int,\n",
    "    rank_k: int,\n",
    "    num_actions: int,\n",
    "    tikhonov_weight: float,\n",
    "    agent_alpha: float\n",
    ") -> NamedTuple(\"Outputs\", [\n",
    "    (\"training_artifacts_dir\", str),\n",
    "]):\n",
    "  \"\"\"Implements off-policy training for a policy on dataset of TFRecord files.\n",
    "\n",
    "  The Trainer's task is to submit a remote training job to Vertex AI, with the\n",
    "  training logic of a specified custom training container. The task will be\n",
    "  handled by: `kfp.v2.google.experimental.run_as_aiplatform_custom_job` (which\n",
    "  takes in the component made from this placeholder function)\n",
    "\n",
    "  This function is to be built into a Kubeflow Pipelines (KFP) component. As a\n",
    "  result, this function must be entirely self-contained. This means that the\n",
    "  import statements and helper functions must reside within itself.\n",
    "\n",
    "  Args:\n",
    "    training_artifacts_dir: Path to store the Trainer artifacts (trained\n",
    "      policy).\n",
    "    tfrecord_file: Path to file to write the ingestion result TFRecords.\n",
    "    num_epochs: Number of training epochs.\n",
    "    rank_k: Rank for matrix factorization in the MovieLens environment; also\n",
    "      the observation dimension.\n",
    "    num_actions: Number of actions (movie items) to choose from.\n",
    "    tikhonov_weight: LinUCB Tikhonov regularization weight of the Trainer.\n",
    "    agent_alpha: LinUCB exploration parameter that multiplies the confidence\n",
    "      intervals of the Trainer.\n",
    "\n",
    "  Returns:\n",
    "    A NamedTuple of (`training_artifacts_dir`).\n",
    "  \"\"\"\n",
    "  # pylint: disable=g-import-not-at-top\n",
    "  import collections\n",
    "  from typing import Dict, List, NamedTuple  # pylint: disable=redefined-outer-name,reimported\n",
    "\n",
    "  import tensorflow as tf\n",
    "\n",
    "  from tf_agents import agents\n",
    "  from tf_agents import policies\n",
    "  from tf_agents import trajectories\n",
    "  from tf_agents.bandits.agents import lin_ucb_agent\n",
    "  from tf_agents.policies import policy_saver\n",
    "  from tf_agents.specs import tensor_spec\n",
    "\n",
    "  import logging\n",
    "\n",
    "  per_arm = False  # Using the non-per-arm version of the MovieLens environment.\n",
    "\n",
    "  # Mapping from feature name to serialized value\n",
    "  feature_description = {\n",
    "      \"step_type\": tf.io.FixedLenFeature((), tf.string),\n",
    "      \"observation\": tf.io.FixedLenFeature((), tf.string),\n",
    "      \"action\": tf.io.FixedLenFeature((), tf.string),\n",
    "      \"policy_info\": tf.io.FixedLenFeature((), tf.string),\n",
    "      \"next_step_type\": tf.io.FixedLenFeature((), tf.string),\n",
    "      \"reward\": tf.io.FixedLenFeature((), tf.string),\n",
    "      \"discount\": tf.io.FixedLenFeature((), tf.string),\n",
    "  }\n",
    "\n",
    "  def _parse_record(raw_record: tf.Tensor) -> Dict[str, tf.Tensor]:\n",
    "    \"\"\"Parses a serialized `tf.train.Example` proto.\n",
    "\n",
    "    Args:\n",
    "      raw_record: A serialized data record of a `tf.train.Example` proto.\n",
    "\n",
    "    Returns:\n",
    "      A dict mapping feature names to values as `tf.Tensor` objects of type\n",
    "      string containing serialized protos, following `feature_description`.\n",
    "    \"\"\"\n",
    "    return tf.io.parse_single_example(raw_record, feature_description)\n",
    "\n",
    "  def build_trajectory(\n",
    "      parsed_record: Dict[str, tf.Tensor],\n",
    "      policy_info: policies.utils.PolicyInfo) -> trajectories.Trajectory:\n",
    "    \"\"\"Builds a `trajectories.Trajectory` object from `parsed_record`.\n",
    "\n",
    "    Args:\n",
    "      parsed_record: A dict mapping feature names to values as `tf.Tensor`\n",
    "        objects of type string containing serialized protos.\n",
    "      policy_info: Policy information specification.\n",
    "\n",
    "    Returns:\n",
    "      A `trajectories.Trajectory` object that contains values as de-serialized\n",
    "      `tf.Tensor` objects from `parsed_record`.\n",
    "    \"\"\"\n",
    "    return trajectories.Trajectory(\n",
    "        step_type=tf.expand_dims(\n",
    "            tf.io.parse_tensor(parsed_record[\"step_type\"], out_type=tf.int32),\n",
    "            axis=1),\n",
    "        observation=tf.expand_dims(\n",
    "            tf.io.parse_tensor(\n",
    "                parsed_record[\"observation\"], out_type=tf.float32),\n",
    "            axis=1),\n",
    "        action=tf.expand_dims(\n",
    "            tf.io.parse_tensor(parsed_record[\"action\"], out_type=tf.int32),\n",
    "            axis=1),\n",
    "        policy_info=policy_info,\n",
    "        next_step_type=tf.expand_dims(\n",
    "            tf.io.parse_tensor(\n",
    "                parsed_record[\"next_step_type\"], out_type=tf.int32),\n",
    "            axis=1),\n",
    "        reward=tf.expand_dims(\n",
    "            tf.io.parse_tensor(parsed_record[\"reward\"], out_type=tf.float32),\n",
    "            axis=1),\n",
    "        discount=tf.expand_dims(\n",
    "            tf.io.parse_tensor(parsed_record[\"discount\"], out_type=tf.float32),\n",
    "            axis=1))\n",
    "\n",
    "  def train_policy_on_trajectory(\n",
    "      agent: agents.TFAgent,\n",
    "      tfrecord_file: str,\n",
    "      num_epochs: int\n",
    "  ) -> NamedTuple(\"TrainOutputs\", [\n",
    "      (\"policy\", policies.TFPolicy),\n",
    "      (\"train_loss\", Dict[str, List[float]]),\n",
    "  ]):\n",
    "    \"\"\"Trains the policy in `agent` on the dataset of `tfrecord_file`.\n",
    "\n",
    "    Parses `tfrecord_file` as `tf.train.Example` objects, packages them into\n",
    "    `trajectories.Trajectory` objects, and trains the agent's policy on these\n",
    "    trajectory objects.\n",
    "\n",
    "    Args:\n",
    "      agent: A TF-Agents agent that carries the policy to train.\n",
    "      tfrecord_file: Path to the TFRecord file containing the training dataset.\n",
    "      num_epochs: Number of epochs to train the policy.\n",
    "\n",
    "    Returns:\n",
    "      A NamedTuple of (a trained TF-Agents policy, a dict mapping from\n",
    "      \"epoch<i>\" to lists of loss values produced at each training step).\n",
    "    \"\"\"\n",
    "    raw_dataset = tf.data.TFRecordDataset([tfrecord_file])\n",
    "    parsed_dataset = raw_dataset.map(_parse_record)\n",
    "\n",
    "    train_loss = collections.defaultdict(list)\n",
    "    for epoch in range(num_epochs):\n",
    "      for parsed_record in parsed_dataset:\n",
    "        trajectory = build_trajectory(parsed_record, agent.policy.info_spec)\n",
    "        loss, _ = agent.train(trajectory)\n",
    "        train_loss[f\"epoch{epoch + 1}\"].append(loss.numpy())\n",
    "\n",
    "    train_outputs = collections.namedtuple(\n",
    "        \"TrainOutputs\",\n",
    "        [\"policy\", \"train_loss\"])\n",
    "    return train_outputs(agent.policy, train_loss)\n",
    "\n",
    "  def execute_training_and_save_policy(\n",
    "      training_artifacts_dir: str,\n",
    "      tfrecord_file: str,\n",
    "      num_epochs: int,\n",
    "      rank_k: int,\n",
    "      num_actions: int,\n",
    "      tikhonov_weight: float,\n",
    "      agent_alpha: float) -> None:\n",
    "    \"\"\"Executes training for the policy and saves the policy.\n",
    "\n",
    "    Args:\n",
    "      training_artifacts_dir: Path to store the Trainer artifacts (trained\n",
    "        policy).\n",
    "      tfrecord_file: Path to file to write the ingestion result TFRecords.\n",
    "      num_epochs: Number of training epochs.\n",
    "      rank_k: Rank for matrix factorization in the MovieLens environment; also\n",
    "        the observation dimension.\n",
    "      num_actions: Number of actions (movie items) to choose from.\n",
    "      tikhonov_weight: LinUCB Tikhonov regularization weight of the Trainer.\n",
    "      agent_alpha: LinUCB exploration parameter that multiplies the confidence\n",
    "        intervals of the Trainer.\n",
    "    \"\"\"\n",
    "    # Define time step and action specs for one batch.\n",
    "    time_step_spec = trajectories.TimeStep(\n",
    "        step_type=tensor_spec.TensorSpec(\n",
    "            shape=(), dtype=tf.int32, name=\"step_type\"),\n",
    "        reward=tensor_spec.TensorSpec(\n",
    "            shape=(), dtype=tf.float32, name=\"reward\"),\n",
    "        discount=tensor_spec.BoundedTensorSpec(\n",
    "            shape=(), dtype=tf.float32, name=\"discount\", minimum=0.,\n",
    "            maximum=1.),\n",
    "        observation=tensor_spec.TensorSpec(\n",
    "            shape=(rank_k,), dtype=tf.float32,\n",
    "            name=\"observation\"))\n",
    "\n",
    "    action_spec = tensor_spec.BoundedTensorSpec(\n",
    "        shape=(),\n",
    "        dtype=tf.int32,\n",
    "        name=\"action\",\n",
    "        minimum=0,\n",
    "        maximum=num_actions - 1)\n",
    "\n",
    "    # Define RL agent/algorithm.\n",
    "    agent = lin_ucb_agent.LinearUCBAgent(\n",
    "        time_step_spec=time_step_spec,\n",
    "        action_spec=action_spec,\n",
    "        tikhonov_weight=tikhonov_weight,\n",
    "        alpha=agent_alpha,\n",
    "        dtype=tf.float32,\n",
    "        accepts_per_arm_features=per_arm)\n",
    "    agent.initialize()\n",
    "    logging.info(\"TimeStep Spec (for each batch):\\n%s\\n\", agent.time_step_spec)\n",
    "    logging.info(\"Action Spec (for each batch):\\n%s\\n\", agent.action_spec)\n",
    "\n",
    "    # Perform off-policy training.\n",
    "    policy, _ = train_policy_on_trajectory(\n",
    "        agent=agent,\n",
    "        tfrecord_file=tfrecord_file,\n",
    "        num_epochs=num_epochs)\n",
    "\n",
    "    # Save trained policy.\n",
    "    saver = policy_saver.PolicySaver(policy)\n",
    "    saver.save(training_artifacts_dir)\n",
    "\n",
    "  execute_training_and_save_policy(\n",
    "      training_artifacts_dir=training_artifacts_dir,\n",
    "      tfrecord_file=tfrecord_file,\n",
    "      num_epochs=num_epochs,\n",
    "      rank_k=rank_k,\n",
    "      num_actions=num_actions,\n",
    "      tikhonov_weight=tikhonov_weight,\n",
    "      agent_alpha=agent_alpha)\n",
    "\n",
    "  outputs = collections.namedtuple(\n",
    "      \"Outputs\",\n",
    "      [\"training_artifacts_dir\"])\n",
    "\n",
    "  return outputs(training_artifacts_dir)\n",
    "\n",
    "# compiler.Compiler().compile(train_op, \"./src/trainer2/component_train_job_op.yaml\")"
   ]
  },
  {
   "cell_type": "markdown",
   "metadata": {
    "id": "5cz7h6V4ibYb"
   },
   "source": [
    "## (4) Deployer \n",
    "\n",
    "> Create the *Deployer* to deploy the trained policy to a Vertex AI endpoint\n",
    "\n",
    "Use [`google_cloud_pipeline_components.aiplatform`](https://cloud.google.com/vertex-ai/docs/pipelines/build-pipeline#google-cloud-components) components during pipeline construction to:\n",
    "1. Upload the trained policy\n",
    "2. Create a Vertex AI endpoint\n",
    "3. Deploy the uploaded trained policy to the endpoint\n",
    "\n",
    "These 3 components formulate the Deployer. They support flexible configurations; for instance, if you want to set up traffic splitting for the endpoint to run A/B testing, you may pass in your configurations to [google_cloud_pipeline_components.aiplatform.ModelDeployOp](https://google-cloud-pipeline-components.readthedocs.io/en/google-cloud-pipeline-components-0.1.3/google_cloud_pipeline_components.aiplatform.html#google_cloud_pipeline_components.aiplatform.ModelDeployOp)."
   ]
  },
  {
   "cell_type": "code",
   "execution_count": 48,
   "metadata": {
    "id": "E7dbkbDMcR-m"
   },
   "outputs": [
    {
     "name": "stdout",
     "output_type": "stream",
     "text": [
      "TRAINED_POLICY_DISPLAY_NAME : trained-linucb-policy-v2\n",
      "ENDPOINT_DISPLAY_NAME       : mab-linucb-endpoint-v2\n"
     ]
    }
   ],
   "source": [
    "# # Deployer parameters\n",
    "# TRAINED_POLICY_DISPLAY_NAME = (f\"trained-linucb-policy-{VERSION}\")\n",
    "# TRAFFIC_SPLIT = {\"0\": 100}\n",
    "# ENDPOINT_DISPLAY_NAME = f\"mab-linucb-endpoint-{VERSION}\" \n",
    "# ENDPOINT_MACHINE_TYPE = \"n1-standard-4\"                     # Type of machine of the prediction endpoint.\n",
    "# ENDPOINT_REPLICA_COUNT = 1                                  # Number of replicas of the prediction endpoint.\n",
    "# ENDPOINT_ACCELERATOR_TYPE = \"ACCELERATOR_TYPE_UNSPECIFIED\"  # Type of accelerators to run the custom training job.\n",
    "# ENDPOINT_ACCELERATOR_COUNT = 0                              # Number of accelerators for the custom training job.\n",
    "\n",
    "# print(f\"TRAINED_POLICY_DISPLAY_NAME : {TRAINED_POLICY_DISPLAY_NAME}\")\n",
    "# print(f\"ENDPOINT_DISPLAY_NAME       : {ENDPOINT_DISPLAY_NAME}\")"
   ]
  },
  {
   "cell_type": "markdown",
   "metadata": {
    "id": "Ldr0yDs6ibYb"
   },
   "source": [
    "### Prediction container (custom)\n",
    "\n",
    "> Create a custom prediction container using Cloud Build\n",
    "\n",
    "Before setting up the Deployer, define and build a custom prediction container that serves predictions using the trained policy. The source code, Cloud Build YAML configuration file and Dockerfile are in `src/prediction_container`.\n",
    "\n",
    "This prediction container is the serving container for the deployed, trained policy. See a more detailed guide on building prediction custom containers in the step-by-step guide (`04-pipelines/.../train_deploy_mab.ipynb`)"
   ]
  },
  {
   "cell_type": "code",
   "execution_count": 49,
   "metadata": {
    "id": "cKZd3Q_Pcfzo"
   },
   "outputs": [],
   "source": [
    "# Prediction container parameters\n",
    "PREDICTION_CONTAINER_DIR = \"src/prediction_container\"\n",
    "\n",
    "# Logger parameters \n",
    "LOGGER_PUBSUB_TOPIC = \"logger-pubsub-topic\"      # Pub/Sub topic name for the Logger.\n",
    "LOGGER_CLOUD_FUNCTION = \"logger-cloud-function\"  # Cloud Functions name for the Logger."
   ]
  },
  {
   "cell_type": "markdown",
   "metadata": {
    "id": "jkReLZUAibYb"
   },
   "source": [
    "### Serving CI/CD with Cloud Build\n",
    "\n",
    "> Create a Cloud Build YAML file using Kaniko build\n",
    "\n",
    "Note: For this application, you are recommended to use `E2_HIGHCPU_8` or other high resouce machine configurations instead of the standard machine type listed [here](https://cloud.google.com/build/docs/api/reference/rest/v1/projects.builds#Build.MachineType) to prevent out-of-memory errors."
   ]
  },
  {
   "cell_type": "code",
   "execution_count": 50,
   "metadata": {
    "id": "RUvEWUucibYc"
   },
   "outputs": [],
   "source": [
    "cloudbuild_yaml = \"\"\"steps:\n",
    "- name: \"gcr.io/kaniko-project/executor:latest\"\n",
    "  args: [\"--destination=gcr.io/{PROJECT_ID}/{IMAGE_NAME_04_pred}:latest\",\n",
    "         \"--cache=false\",\n",
    "         \"--cache-ttl=99h\"]\n",
    "  env: [\"AIP_STORAGE_URI={ARTIFACTS_DIR}\",\n",
    "        \"PROJECT_ID={PROJECT_ID}\",\n",
    "        \"LOGGER_PUBSUB_TOPIC={LOGGER_PUBSUB_TOPIC}\"]\n",
    "options:\n",
    "  machineType: \"E2_HIGHCPU_8\"\n",
    "\"\"\".format(\n",
    "    PROJECT_ID=PROJECT_ID,\n",
    "    IMAGE_NAME_04_pred=IMAGE_NAME_04_pred,\n",
    "    ARTIFACTS_DIR=ARTIFACTS_DIR,\n",
    "    LOGGER_PUBSUB_TOPIC=LOGGER_PUBSUB_TOPIC,\n",
    ")\n",
    "# uncomment to print and view before writting\n",
    "# print(cloudbuild_yaml)\n",
    "\n",
    "with open(f\"{PREDICTION_CONTAINER_DIR}/cloudbuild.yaml\", \"w\") as fp:\n",
    "    fp.write(cloudbuild_yaml)"
   ]
  },
  {
   "cell_type": "markdown",
   "metadata": {
    "id": "kByjVm5yibYc"
   },
   "source": [
    "### Run unit tests on the prediction code"
   ]
  },
  {
   "cell_type": "code",
   "execution_count": 51,
   "metadata": {
    "id": "tzLU1V6fibYc"
   },
   "outputs": [],
   "source": [
    "# ! python3 -m unittest src.prediction_container.test_main"
   ]
  },
  {
   "cell_type": "markdown",
   "metadata": {
    "id": "RelRBSFvibYc"
   },
   "source": [
    "### Build custom prediction container"
   ]
  },
  {
   "cell_type": "code",
   "execution_count": 52,
   "metadata": {
    "id": "9uHbODeXibYd",
    "tags": []
   },
   "outputs": [],
   "source": [
    "# ! gcloud builds submit --config $PREDICTION_CONTAINER_DIR/cloudbuild.yaml $PREDICTION_CONTAINER_DIR"
   ]
  },
  {
   "cell_type": "code",
   "execution_count": 53,
   "metadata": {},
   "outputs": [
    {
     "name": "stdout",
     "output_type": "stream",
     "text": [
      "gcloud builds submit --config src/prediction_container/cloudbuild.yaml src/prediction_container\n"
     ]
    }
   ],
   "source": [
    "CLOUD_BUILD_CMD = f'gcloud builds submit --config {PREDICTION_CONTAINER_DIR}/cloudbuild.yaml {PREDICTION_CONTAINER_DIR}'\n",
    "\n",
    "print(CLOUD_BUILD_CMD)"
   ]
  },
  {
   "cell_type": "markdown",
   "metadata": {},
   "source": [
    "## Create Managed TensorBoard instance"
   ]
  },
  {
   "cell_type": "code",
   "execution_count": 54,
   "metadata": {},
   "outputs": [
    {
     "name": "stdout",
     "output_type": "stream",
     "text": [
      "TB_RESOURCE_NAME: projects/934903580331/locations/us-central1/tensorboards/3188552934224822272\n",
      "TB display name: mab-pipe-rec-bandits-v2-run-20231019-184119\n"
     ]
    }
   ],
   "source": [
    "# # create new TB instance\n",
    "TENSORBOARD_DISPLAY_NAME=f\"{EXPERIMENT_NAME}-{RUN_NAME}\"\n",
    "\n",
    "tensorboard = vertex_ai.Tensorboard.create(\n",
    "    display_name=TENSORBOARD_DISPLAY_NAME\n",
    "    , project=PROJECT_ID\n",
    "    , location=REGION\n",
    ")\n",
    "\n",
    "TB_RESOURCE_NAME = tensorboard.resource_name\n",
    "\n",
    "# use existing TB instance\n",
    "# TB_RESOURCE_NAME = 'projects/934903580331/locations/us-central1/tensorboards/6924469145035603968'\n",
    "\n",
    "print(f\"TB_RESOURCE_NAME: {TB_RESOURCE_NAME}\")\n",
    "print(f\"TB display name: {tensorboard.display_name}\")"
   ]
  },
  {
   "cell_type": "markdown",
   "metadata": {
    "id": "nW154IyqGilq",
    "tags": []
   },
   "source": [
    "# Build RL pipeline\n",
    "\n",
    "You author the pipeline using custom KFP components built from the previous section, and [create a pipeline run](https://cloud.google.com/vertex-ai/docs/pipelines/run-pipeline#kubeflow-pipelines-sdk) using Vertex AI Pipelines. You can read more about whether to enable execution caching [here](https://cloud.google.com/vertex-ai/docs/pipelines/build-pipeline#caching). You can also specifically configure the `worker pool spec` for training if for instance you want to train at scale and/or at a higher speed; you can adjust the `replica count`, `machine type`, `accelerator` type and count, and many other specifications.\n",
    "\n",
    "Here, you build a \"startup\" pipeline that generates randomly sampled training data (with the `Generator`) as the first step. This pipeline runs only once."
   ]
  },
  {
   "cell_type": "code",
   "execution_count": 55,
   "metadata": {},
   "outputs": [],
   "source": [
    "from google_cloud_pipeline_components.v1.custom_job import utils as pipe_utils\n",
    "from google_cloud_pipeline_components.v1.custom_job import create_custom_training_job_from_component as custom_train_comp\n",
    "from kfp.components import load_component_from_url, load_component_from_file"
   ]
  },
  {
   "cell_type": "markdown",
   "metadata": {},
   "source": [
    "**PIPE_VERSION** is an *optional* label to help organize pipeline runs or *versions*"
   ]
  },
  {
   "cell_type": "code",
   "execution_count": 82,
   "metadata": {},
   "outputs": [],
   "source": [
    "PIPE_VERSION = \"v8\""
   ]
  },
  {
   "cell_type": "markdown",
   "metadata": {},
   "source": [
    "### Online Agent's Endpoint"
   ]
  },
  {
   "cell_type": "code",
   "execution_count": 102,
   "metadata": {},
   "outputs": [
    {
     "name": "stdout",
     "output_type": "stream",
     "text": [
      "TRAINED_POLICY_DISPLAY_NAME : trained-linucb-policy-v8\n",
      "ENDPOINT_DISPLAY_NAME       : mab-linucb-endpoint-v8\n"
     ]
    }
   ],
   "source": [
    "# Deployer parameters\n",
    "TRAINED_POLICY_DISPLAY_NAME = (f\"trained-linucb-policy-{PIPE_VERSION}\")\n",
    "TRAFFIC_SPLIT = {\"0\": 100}\n",
    "ENDPOINT_DISPLAY_NAME = f\"mab-linucb-endpoint-{PIPE_VERSION}\" \n",
    "ENDPOINT_MACHINE_TYPE = \"n1-standard-4\"                     # Type of machine of the prediction endpoint.\n",
    "ENDPOINT_REPLICA_COUNT = 1                                  # Number of replicas of the prediction endpoint.\n",
    "ENDPOINT_ACCELERATOR_TYPE = \"ACCELERATOR_TYPE_UNSPECIFIED\"  # Type of accelerators to run the custom training job.\n",
    "ENDPOINT_ACCELERATOR_COUNT = 0                              # Number of accelerators for the custom training job.\n",
    "\n",
    "print(f\"TRAINED_POLICY_DISPLAY_NAME : {TRAINED_POLICY_DISPLAY_NAME}\")\n",
    "print(f\"ENDPOINT_DISPLAY_NAME       : {ENDPOINT_DISPLAY_NAME}\")"
   ]
  },
  {
   "cell_type": "markdown",
   "metadata": {},
   "source": [
    "### Pipeline parameters"
   ]
  },
  {
   "cell_type": "code",
   "execution_count": 83,
   "metadata": {},
   "outputs": [
    {
     "name": "stdout",
     "output_type": "stream",
     "text": [
      "PIPELINE_ROOT  : gs://rec-bandits-v2-hybrid-vertex-bucket/mab-pipe-rec-bandits-v2/run-20231019-184119/pipeline_v8_root\n",
      "TFRECORD_FILE : gs://rec-bandits-v2-hybrid-vertex-bucket/mab-pipe-rec-bandits-v2/run-20231019-184119/pipeline_v8_root/trainer_input_path/*\n"
     ]
    }
   ],
   "source": [
    "# pipeline root\n",
    "PIPELINE_ROOT = f\"{BASE_OUTPUT_DIR}/pipeline_{PIPE_VERSION}_root\"  # Root directory for pipeline artifacts.\n",
    "print(\"PIPELINE_ROOT  :\", PIPELINE_ROOT)\n",
    "\n",
    "# Data params\n",
    "TFRECORD_FILE = (f\"{PIPELINE_ROOT}/trainer_input_path/*\")  # TFRecord file to be used for training.\n",
    "print(f\"TFRECORD_FILE : {TFRECORD_FILE}\")\n",
    "\n",
    "# Dataset parameters\n",
    "BIGQUERY_MAX_ROWS = 5                                      # Maximum number of rows of data in BigQuery to ingest.\n",
    "BIGQUERY_TMP_FILE = ('tmp.json')"
   ]
  },
  {
   "cell_type": "markdown",
   "metadata": {},
   "source": [
    "### Load custom pipeline steps from component YAML"
   ]
  },
  {
   "cell_type": "code",
   "execution_count": 84,
   "metadata": {},
   "outputs": [
    {
     "name": "stdout",
     "output_type": "stream",
     "text": [
      "generate_op : generate-movielens-dataset-for-bigquery\n",
      "train_op    : train-reinforcement-learning-policy\n",
      "ingest_op   : ingest-bigquery-dataset-into-tfrecord\n"
     ]
    }
   ],
   "source": [
    "# generate_op = load_component_from_file(\"./src/generator/component.yaml\")\n",
    "generate_op = load_component_from_file(\"./src/trainer2/generate_op.yaml\")\n",
    "\n",
    "# ingest_op = load_component_from_file(\"./src/ingester/component.yaml\")\n",
    "ingest_op = load_component_from_file(\"./src/trainer2/ingest_op.yaml\")\n",
    "\n",
    "# TODO\n",
    "# train_op = load_component_from_file(\"./src/trainer/component.yaml\")\n",
    "# train_op = load_component_from_file(\"./src/trainer2/component_train_job_op.yaml\")\n",
    "\n",
    "print(f\"generate_op : {generate_op.name}\")\n",
    "print(f\"train_op    : {train_op.name}\")\n",
    "print(f\"ingest_op   : {ingest_op.name}\")"
   ]
  },
  {
   "cell_type": "markdown",
   "metadata": {},
   "source": [
    "### Create Train Job Component\n",
    "\n",
    "**TODO**\n",
    "* I'm confused with this - don't understand yet\n",
    "\n",
    "**References**\n",
    "* google cloud components [ReadTheDocs](https://google-cloud-pipeline-components.readthedocs.io/en/google-cloud-pipeline-components-2.0.0/api/v1/model.html#v1.model.ModelUploadOp)\n",
    "* Google Cloud Components source [code on GitHub](https://github.com/kubeflow/pipelines/tree/master/components/google-cloud/google_cloud_pipeline_components)\n",
    "  * code example: [lightweight python function](https://github.com/GoogleCloudPlatform/vertex-ai-samples/blob/main/notebooks/official/pipelines/custom_model_training_and_batch_prediction.ipynb) converting to `CustomJob`\n",
    "  * code example: [self-contained training component to Vertex AI Training](https://github.com/GoogleCloudPlatform/vertex-ai-samples/blob/9901150c5c82e9646a68c8c800fdf9d0c407c574/notebooks/official/pipelines/get_started_with_machine_management.ipynb#L445)\n",
    "* `kfp` source [code on GitHub](https://github.com/kubeflow/pipelines/tree/master/sdk/python/kfp)"
   ]
  },
  {
   "cell_type": "code",
   "execution_count": 85,
   "metadata": {},
   "outputs": [
    {
     "data": {
      "text/plain": [
       "<kfp.dsl.yaml_component.YamlComponent at 0x7fcc4f60a350>"
      ]
     },
     "execution_count": 85,
     "metadata": {},
     "output_type": "execute_result"
    }
   ],
   "source": [
    "# no decorator needed, presumably this is handled in `pipe_utils`?\n",
    "\n",
    "# Run the Trainer component and submit custom job to Vertex AI.\n",
    "component_train_job_op = pipe_utils.create_custom_training_job_from_component(\n",
    "    component_spec=train_reinforcement_learning_policy,\n",
    "    display_name='mab-training-job',\n",
    "    replica_count=TRAINING_REPLICA_COUNT,\n",
    "    machine_type=TRAINING_MACHINE_TYPE,\n",
    "    accelerator_type=TRAINING_ACCELERATOR_TYPE,\n",
    "    accelerator_count=TRAINING_ACCELERATOR_COUNT,\n",
    "    enable_web_access=True,\n",
    "    restart_job_on_worker_restart=False,\n",
    "    base_output_directory=BASE_OUTPUT_DIR,\n",
    "    tensorboard=TB_RESOURCE_NAME,\n",
    "    service_account=VERTEX_SA,\n",
    ")\n",
    "\n",
    "# compiler.Compiler().compile(train_op, \"./src/trainer2/component_train_job_op.yaml\")"
   ]
  },
  {
   "cell_type": "code",
   "execution_count": 86,
   "metadata": {},
   "outputs": [
    {
     "data": {
      "text/plain": [
       "['agent_alpha',\n",
       " 'num_actions',\n",
       " 'num_epochs',\n",
       " 'rank_k',\n",
       " 'tfrecord_file',\n",
       " 'tikhonov_weight',\n",
       " 'training_artifacts_dir']"
      ]
     },
     "execution_count": 86,
     "metadata": {},
     "output_type": "execute_result"
    }
   ],
   "source": [
    "component_train_job_op.required_inputs"
   ]
  },
  {
   "cell_type": "markdown",
   "metadata": {},
   "source": [
    "## Create pipeline"
   ]
  },
  {
   "cell_type": "code",
   "execution_count": 87,
   "metadata": {},
   "outputs": [
    {
     "name": "stdout",
     "output_type": "stream",
     "text": [
      "Pipeline Display Name: mab-agent-mlops-pipe-v8\n"
     ]
    }
   ],
   "source": [
    "PIPELINE_NAME = f'mab-agent-mlops-pipe-{PIPE_VERSION}'.replace('_', '-')\n",
    "print(\"Pipeline Display Name:\", PIPELINE_NAME)"
   ]
  },
  {
   "cell_type": "code",
   "execution_count": 88,
   "metadata": {
    "id": "cvXJzhSSGilq",
    "tags": []
   },
   "outputs": [],
   "source": [
    "@dsl.pipeline(\n",
    "    name=f\"{PIPELINE_NAME}-startup\"\n",
    ")\n",
    "def pipeline(\n",
    "    # Pipeline configs\n",
    "    project_id: str,\n",
    "    raw_data_path: str,\n",
    "    training_artifacts_dir: str,\n",
    "    tb_resource_name: str,\n",
    "    base_train_output_uri: str,\n",
    "    # BigQuery configs\n",
    "    bigquery_dataset_name: str,\n",
    "    bigquery_location: str,\n",
    "    bigquery_table_name: str,\n",
    "    bigquery_max_rows: int = 10000,\n",
    "    # TF-Agents RL configs\n",
    "    batch_size: int = 8,\n",
    "    rank_k: int = 20,\n",
    "    num_actions: int = 20,\n",
    "    driver_steps: int = 3,\n",
    "    num_epochs: int = 5,\n",
    "    tikhonov_weight: float = 0.01,\n",
    "    agent_alpha: float = 10,\n",
    ") -> None:\n",
    "    \"\"\"Authors a RL pipeline for MovieLens movie recommendation system.\n",
    "\n",
    "    Integrates the Generator, Ingester, Trainer and Deployer components. This\n",
    "    pipeline generates initial training data with a random policy and runs once\n",
    "    as the initiation of the system.\n",
    "\n",
    "    Args:\n",
    "      project_id: GCP project ID. This is required because otherwise the BigQuery\n",
    "        client will use the ID of the tenant GCP project created as a result of\n",
    "        KFP, which doesn't have proper access to BigQuery.\n",
    "      raw_data_path: Path to MovieLens 100K's \"u.data\" file.\n",
    "      training_artifacts_dir: Path to store the Trainer artifacts (trained policy).\n",
    "\n",
    "      bigquery_dataset: A string of the BigQuery dataset ID in the format of\n",
    "        \"project.dataset\".\n",
    "      bigquery_location: A string of the BigQuery dataset location.\n",
    "      bigquery_table_name: A string of the BigQuery table ID in the format of\n",
    "        \"table_name\".\n",
    "      bigquery_max_rows: Optional; maximum number of rows to ingest.\n",
    "\n",
    "      batch_size: Optional; batch size of environment generated quantities eg.\n",
    "        rewards.\n",
    "      rank_k: Optional; rank for matrix factorization in the MovieLens environment;\n",
    "        also the observation dimension.\n",
    "      num_actions: Optional; number of actions (movie items) to choose from.\n",
    "      driver_steps: Optional; number of steps to run per batch.\n",
    "      num_epochs: Optional; number of training epochs.\n",
    "      tikhonov_weight: Optional; LinUCB Tikhonov regularization weight of the\n",
    "        Trainer.\n",
    "      agent_alpha: Optional; LinUCB exploration parameter that multiplies the\n",
    "        confidence intervals of the Trainer.\n",
    "    \"\"\"\n",
    "    \n",
    "    from kfp.dsl import importer_node\n",
    "    \n",
    "    # Run the Generator component -> simulated data, in trajectory form, stored in BigQuery\n",
    "    generate_task = (\n",
    "        generate_op(\n",
    "            project_id=project_id,\n",
    "            raw_data_path=raw_data_path,\n",
    "            batch_size=batch_size,\n",
    "            rank_k=rank_k,\n",
    "            num_actions=num_actions,\n",
    "            driver_steps=driver_steps,\n",
    "            bigquery_tmp_file=BIGQUERY_TMP_FILE,\n",
    "            bigquery_dataset_name=bigquery_dataset_name,\n",
    "            bigquery_location=bigquery_location,\n",
    "            bigquery_table_name=bigquery_table_name,\n",
    "        )\n",
    "        .set_display_name(\"Generator\")\n",
    "        .set_caching_options(True)\n",
    "    )\n",
    "    \n",
    "    # Run the Ingester component -> write Trajectories to TFRecords\n",
    "    ingest_task = (\n",
    "        ingest_op(\n",
    "            project_id=project_id,\n",
    "            bigquery_table_name=generate_task.outputs[\"bigquery_table_name\"],\n",
    "            bigquery_dataset_name=generate_task.outputs[\"bigquery_dataset_name\"],\n",
    "            bigquery_max_rows=bigquery_max_rows,\n",
    "            tfrecord_file=TFRECORD_FILE,\n",
    "        )\n",
    "        .set_display_name(\"Ingestor\")\n",
    "        .set_caching_options(True)\n",
    "    )\n",
    "\n",
    "    # create_custom_training_job_op_from_component\n",
    "    # Convert the train_op component into a Vertex AI Custom Job pre-built component\n",
    "    train_task = (\n",
    "        component_train_job_op(\n",
    "            training_artifacts_dir=training_artifacts_dir,\n",
    "            tfrecord_file=ingest_task.outputs[\"tfrecord_file\"],\n",
    "            num_epochs=num_epochs,\n",
    "            rank_k=rank_k,\n",
    "            num_actions=num_actions,\n",
    "            tikhonov_weight=tikhonov_weight,\n",
    "            agent_alpha=agent_alpha,\n",
    "            project=PROJECT_ID,\n",
    "            location=REGION,\n",
    "        )\n",
    "        .set_display_name(\"TrainerTask\")\n",
    "        .set_caching_options(True)\n",
    "    )\n",
    "    \n",
    "    # import trained policy to the pipeline DAG; policy is now an artifact in the metadata graph\n",
    "    import_unmanaged_model_task = (\n",
    "        importer_node.importer(\n",
    "            artifact_uri=train_task.outputs[\"training_artifacts_dir\"],\n",
    "            artifact_class=artifact_types.UnmanagedContainerModel,\n",
    "            metadata={\n",
    "                \"containerSpec\": {\n",
    "                    \"imageUri\": f\"gcr.io/{PROJECT_ID}/{IMAGE_NAME_04_pred}:latest\"\n",
    "                }\n",
    "            },\n",
    "        )\n",
    "    )\n",
    "\n",
    "    # Run the Deployer components.\n",
    "    # Upload the trained policy as a model.\n",
    "    model_upload_op = (\n",
    "        ModelUploadOp(\n",
    "            project=project_id,\n",
    "            display_name=TRAINED_POLICY_DISPLAY_NAME,\n",
    "            unmanaged_container_model=import_unmanaged_model_task.outputs[\"artifact\"],\n",
    "            # artifact_uri=train_task.outputs[\"training_artifacts_dir\"],\n",
    "            # serving_container_image_uri=f\"gcr.io/{PROJECT_ID}/{IMAGE_NAME_04_pred}:latest\",\n",
    "        )\n",
    "        .set_display_name(\"Register Trained Policy\")\n",
    "        .set_caching_options(True)\n",
    "    )\n",
    "    # Create a Vertex AI endpoint. (This operation can occur in parallel with\n",
    "    # the Generator, Ingester, Trainer components.)\n",
    "    endpoint_create_op = (\n",
    "        EndpointCreateOp(\n",
    "            project=project_id, \n",
    "            display_name=ENDPOINT_DISPLAY_NAME\n",
    "        )\n",
    "        .set_display_name(\"Create Online Endpoint\")\n",
    "        .set_caching_options(True)\n",
    "    )\n",
    "    # Deploy the uploaded, trained policy to the created endpoint. (This operation\n",
    "    # has to occur after both model uploading and endpoint creation complete.)\n",
    "    deploy_op = (\n",
    "        ModelDeployOp(\n",
    "            endpoint=endpoint_create_op.outputs[\"endpoint\"],\n",
    "            model=model_upload_op.outputs[\"model\"],\n",
    "            deployed_model_display_name=TRAINED_POLICY_DISPLAY_NAME,\n",
    "            traffic_split=TRAFFIC_SPLIT,\n",
    "            dedicated_resources_machine_type=ENDPOINT_MACHINE_TYPE,\n",
    "            dedicated_resources_accelerator_type=ENDPOINT_ACCELERATOR_TYPE,\n",
    "            dedicated_resources_accelerator_count=ENDPOINT_ACCELERATOR_COUNT,\n",
    "            dedicated_resources_min_replica_count=ENDPOINT_REPLICA_COUNT,\n",
    "        )\n",
    "        .set_display_name(\"Deploy Policy\")\n",
    "        .set_caching_options(True)\n",
    "    )"
   ]
  },
  {
   "cell_type": "markdown",
   "metadata": {},
   "source": [
    "### Compile pipeline"
   ]
  },
  {
   "cell_type": "code",
   "execution_count": 89,
   "metadata": {},
   "outputs": [
    {
     "name": "stdout",
     "output_type": "stream",
     "text": [
      "PIPELINE_SPEC_GCS_URI: gs://rec-bandits-v2-hybrid-vertex-bucket/mab-pipe-rec-bandits-v2/run-20231019-184119/pipeline_v8_root/custom_pipeline_spec.json\n"
     ]
    }
   ],
   "source": [
    "PIPELINE_SPEC_LOCAL_PATH = \"custom_pipeline_spec.json\"                      # Path to pipeline specification file.\n",
    "\n",
    "# remove any spec from previous runs\n",
    "! rm -f $PIPELINE_SPEC_LOCAL_PATH\n",
    "\n",
    "PIPELINE_SPEC_GCS_URI = f'{PIPELINE_ROOT}/{PIPELINE_SPEC_LOCAL_PATH}'\n",
    "print(\"PIPELINE_SPEC_GCS_URI:\", PIPELINE_SPEC_GCS_URI)\n",
    "\n",
    "# Compile the authored pipeline.\n",
    "compiler.Compiler().compile(\n",
    "    pipeline_func=pipeline, \n",
    "    package_path=PIPELINE_SPEC_LOCAL_PATH\n",
    ")"
   ]
  },
  {
   "cell_type": "markdown",
   "metadata": {},
   "source": [
    "Copy spec to pipeline root..."
   ]
  },
  {
   "cell_type": "code",
   "execution_count": 90,
   "metadata": {},
   "outputs": [],
   "source": [
    "!gsutil -q cp ./$PIPELINE_SPEC_LOCAL_PATH $PIPELINE_SPEC_GCS_URI"
   ]
  },
  {
   "cell_type": "markdown",
   "metadata": {},
   "source": [
    "## Submit Pipeline to Vetex AI"
   ]
  },
  {
   "cell_type": "code",
   "execution_count": 91,
   "metadata": {
    "id": "icYK0WoRGilr"
   },
   "outputs": [],
   "source": [
    "# Create a pipeline run job.\n",
    "job = vertex_ai.PipelineJob(\n",
    "    display_name=f\"{PIPELINE_NAME}-startup\",\n",
    "    template_path=PIPELINE_SPEC_GCS_URI,\n",
    "    pipeline_root=PIPELINE_ROOT,\n",
    "    failure_policy='fast', # slow | fast\n",
    "    parameter_values={\n",
    "        # Pipeline configs\n",
    "        \"project_id\": PROJECT_ID,\n",
    "        \"raw_data_path\": DATA_PATH_KFP_DEMO,\n",
    "        \"training_artifacts_dir\": ARTIFACTS_DIR,\n",
    "        \"base_train_output_uri\": BASE_OUTPUT_DIR,\n",
    "        \"tb_resource_name\":TB_RESOURCE_NAME,\n",
    "        # BigQuery configs\n",
    "        \"bigquery_dataset_name\": BIGQUERY_DATASET_NAME,\n",
    "        \"bigquery_location\": BQ_LOCATION,\n",
    "        \"bigquery_table_name\": BIGQUERY_TABLE_NAME,\n",
    "        # \"bigquery_max_rows\": 10000,\n",
    "        \"batch_size\": 8, # int = 8,\n",
    "        \"rank_k\": 20, # int = 20,\n",
    "        \"num_actions\": 20, # int = 20,\n",
    "        \"driver_steps\": 3, # int = 3,\n",
    "        \"num_epochs\": 5, # int = 5,\n",
    "        \"tikhonov_weight\": 0.01, # float = 0.01,\n",
    "        \"agent_alpha\": 10, # float = 10,\n",
    "    },\n",
    "    enable_caching=True,\n",
    ")\n",
    "\n",
    "job.run(\n",
    "    sync=False,\n",
    "    service_account=VERTEX_SA,\n",
    "    # network=f'projects/{PROJECT_NUM}/global/networks/{VPC_NETWORK_NAME}'\n",
    ")"
   ]
  },
  {
   "cell_type": "markdown",
   "metadata": {
    "id": "_YDDhAx5i1UL"
   },
   "source": [
    "# Create the *Simulator* to send simulated MovieLens prediction requests\n",
    "\n",
    "Create the Simulator to [obtain observations](https://github.com/tensorflow/agents/blob/v0.8.0/tf_agents/bandits/environments/movielens_py_environment.py#L118-L125) from the MovieLens simulation environment, formats them, and sends prediction requests to the Vertex AI endpoint.\n",
    "\n",
    "The workflow is: Cloud Scheduler --> Pub/Sub --> Cloud Functions --> Endpoint\n",
    "\n",
    "In production, this Simulator logic can be modified to that of gathering real-world input features as observations, getting prediction results from the endpoint and communicating those results to real-world users.\n",
    "\n",
    "The Simulator source code is [`src/simulator/main.py`](src/simulator/main.py)."
   ]
  },
  {
   "cell_type": "markdown",
   "metadata": {},
   "source": [
    "**TODO**\n",
    "* parameterize Cloud Function args"
   ]
  },
  {
   "cell_type": "code",
   "execution_count": 95,
   "metadata": {
    "id": "Sxz6T0yjcoX2"
   },
   "outputs": [
    {
     "name": "stdout",
     "output_type": "stream",
     "text": [
      "SIMULATOR_PUBSUB_TOPIC      : simulator-pubsub-topic-v8\n",
      "SIMULATOR_CLOUD_FUNCTION    : simulator-cloud-function-v8\n",
      "SIMULATOR_SCHEDULER_JOB     : simulator-scheduler-job-v8\n",
      "SIMULATOR_SCHEDULE          : */5 * * * *\n",
      "SIMULATOR_SCHEDULER_MESSAGE : simulator-message-v8\n"
     ]
    }
   ],
   "source": [
    "# Simulator parameters\n",
    "\n",
    "# Pub/Sub topic name for the Simulator.\n",
    "SIMULATOR_PUBSUB_TOPIC = (\n",
    "    f\"simulator-pubsub-topic-{PIPE_VERSION}\"\n",
    ")\n",
    "\n",
    "# Cloud Functions name for the Simulator.\n",
    "SIMULATOR_CLOUD_FUNCTION = (\n",
    "    f\"simulator-cloud-function-{PIPE_VERSION}\"\n",
    ")\n",
    "\n",
    "# Cloud Scheduler cron job name for the Simulator.\n",
    "SIMULATOR_SCHEDULER_JOB = (\n",
    "    f\"simulator-scheduler-job-{PIPE_VERSION}\"\n",
    ")\n",
    "\n",
    "# Cloud Scheduler cron job schedule for the Simulator. Eg. \"*/5 * * * *\" means every 5 mins.\n",
    "SIMULATOR_SCHEDULE = \"*/5 * * * *\"\n",
    "\n",
    "# Cloud Scheduler message for the Simulator.\n",
    "SIMULATOR_SCHEDULER_MESSAGE = (\n",
    "    f\"simulator-message-{PIPE_VERSION}\"\n",
    ")\n",
    "# TF-Agents RL configs\n",
    "BATCH_SIZE = 8\n",
    "RANK_K = 20\n",
    "NUM_ACTIONS = 20\n",
    "\n",
    "print(f\"SIMULATOR_PUBSUB_TOPIC      : {SIMULATOR_PUBSUB_TOPIC}\")\n",
    "print(f\"SIMULATOR_CLOUD_FUNCTION    : {SIMULATOR_CLOUD_FUNCTION}\")\n",
    "print(f\"SIMULATOR_SCHEDULER_JOB     : {SIMULATOR_SCHEDULER_JOB}\")\n",
    "print(f\"SIMULATOR_SCHEDULE          : {SIMULATOR_SCHEDULE}\")\n",
    "print(f\"SIMULATOR_SCHEDULER_MESSAGE : {SIMULATOR_SCHEDULER_MESSAGE}\")"
   ]
  },
  {
   "cell_type": "markdown",
   "metadata": {
    "id": "6JkcpQmpi1UL"
   },
   "source": [
    "### Run unit tests on the Simulator"
   ]
  },
  {
   "cell_type": "code",
   "execution_count": null,
   "metadata": {
    "id": "GoNH1VS_i1UL"
   },
   "outputs": [],
   "source": [
    "# ! python3 -m unittest src.simulator.test_main"
   ]
  },
  {
   "cell_type": "markdown",
   "metadata": {
    "id": "0g8bl_pCi1UL"
   },
   "source": [
    "### Create a Pub/Sub topic\n",
    "\n",
    "- Read more about creating Pub/Sub topics [here](https://cloud.google.com/functions/docs/tutorials/pubsub)"
   ]
  },
  {
   "cell_type": "code",
   "execution_count": 96,
   "metadata": {
    "id": "5apj2cEri1UL"
   },
   "outputs": [
    {
     "name": "stdout",
     "output_type": "stream",
     "text": [
      "Created topic [projects/hybrid-vertex/topics/simulator-pubsub-topic-v8].\n"
     ]
    }
   ],
   "source": [
    "# ! gcloud pubsub topics create $SIMULATOR_PUBSUB_TOPIC"
   ]
  },
  {
   "cell_type": "markdown",
   "metadata": {
    "id": "jA8gMvqXi1UM"
   },
   "source": [
    "### Set up a recurrent Cloud Scheduler job for the Pub/Sub topic\n",
    "\n",
    "- Read more about possible ways to create cron jobs [here](https://cloud.google.com/scheduler/docs/creating#gcloud).\n",
    "- Read about the cron job schedule format [here](https://man7.org/linux/man-pages/man5/crontab.5.html)."
   ]
  },
  {
   "cell_type": "code",
   "execution_count": 97,
   "metadata": {
    "id": "snTyjFkDi1UM"
   },
   "outputs": [
    {
     "name": "stdout",
     "output_type": "stream",
     "text": [
      "simulator-scheduler-job-v8 --schedule=*/5 * * * * --topic=simulator-pubsub-topic-v8 --message-body=simulator-message-v8\n"
     ]
    }
   ],
   "source": [
    "scheduler_job_args = \" \".join(\n",
    "    [\n",
    "        SIMULATOR_SCHEDULER_JOB,\n",
    "        f\"--schedule='{SIMULATOR_SCHEDULE}'\",\n",
    "        f\"--topic={SIMULATOR_PUBSUB_TOPIC}\",\n",
    "        f\"--message-body={SIMULATOR_SCHEDULER_MESSAGE}\",\n",
    "    ]\n",
    ")\n",
    "\n",
    "! echo $scheduler_job_args"
   ]
  },
  {
   "cell_type": "code",
   "execution_count": 100,
   "metadata": {
    "id": "4pY_Gs_Di1UM"
   },
   "outputs": [
    {
     "name": "stdout",
     "output_type": "stream",
     "text": [
      "name: projects/hybrid-vertex/locations/us-central1/jobs/simulator-scheduler-job-v8\n",
      "pubsubTarget:\n",
      "  data: c2ltdWxhdG9yLW1lc3NhZ2Utdjg=\n",
      "  topicName: projects/hybrid-vertex/topics/simulator-pubsub-topic-v8\n",
      "retryConfig:\n",
      "  maxBackoffDuration: 3600s\n",
      "  maxDoublings: 16\n",
      "  maxRetryDuration: 0s\n",
      "  minBackoffDuration: 5s\n",
      "schedule: '*/5 * * * *'\n",
      "state: ENABLED\n",
      "timeZone: Etc/UTC\n",
      "userUpdateTime: '2023-10-19T20:13:22Z'\n"
     ]
    }
   ],
   "source": [
    "! gcloud scheduler jobs create pubsub $scheduler_job_args --location=$REGION"
   ]
  },
  {
   "cell_type": "markdown",
   "metadata": {
    "id": "HjyV2Arei1UM"
   },
   "source": [
    "### Define the *Simulator* logic in a Cloud Function to be triggered periodically, and deploy this Function\n",
    "\n",
    "- Specify dependencies of the Function in [`src/simulator/requirements.txt`](src/simulator/requirements.txt).\n",
    "- Read more about the available configurable arguments for deploying a Function [here](https://cloud.google.com/sdk/gcloud/reference/functions/deploy). For instance, based on the complexity of your Function, you may want to adjust its memory and timeout.\n",
    "- Note that the environment variables in `ENV_VARS` should be comma-separated; there should not be additional spaces, or other characters in between. Read more about setting/updating/deleting environment variables [here](https://cloud.google.com/functions/docs/env-var).\n",
    "- Read more about sending predictions to Vertex endpoints [here](https://cloud.google.com/vertex-ai/docs/predictions/online-predictions-custom-models)."
   ]
  },
  {
   "cell_type": "code",
   "execution_count": 101,
   "metadata": {
    "id": "0LJ2C_pdibYg"
   },
   "outputs": [
    {
     "name": "stdout",
     "output_type": "stream",
     "text": [
      "Using endpoint [https://us-central1-aiplatform.googleapis.com/]\n",
      "ENDPOINT_ID          DISPLAY_NAME\n",
      "6324832886641917952  mab-linucb-endpoint-v2\n",
      "4323827277205864448  mab-linucb-endpoint-v2\n",
      "7899685381338038272  mab-linucb-endpoint-v2\n",
      "982156353696956416   mab-linucb-endpoint-v2 \n",
      "\n"
     ]
    }
   ],
   "source": [
    "endpoints = ! gcloud ai endpoints list \\\n",
    "    --region=$REGION \\\n",
    "    --filter=display_name=$ENDPOINT_DISPLAY_NAME\n",
    "print(\"\\n\".join(endpoints), \"\\n\")"
   ]
  },
  {
   "cell_type": "code",
   "execution_count": 105,
   "metadata": {},
   "outputs": [
    {
     "name": "stdout",
     "output_type": "stream",
     "text": [
      "ENDPOINT_ID=6324832886641917952\n"
     ]
    }
   ],
   "source": [
    "ENDPOINT_ID = endpoints[2].split(\" \")[0]\n",
    "print(f\"ENDPOINT_ID={ENDPOINT_ID}\")"
   ]
  },
  {
   "cell_type": "code",
   "execution_count": 106,
   "metadata": {
    "id": "V4xwXBBgi1UM"
   },
   "outputs": [
    {
     "name": "stdout",
     "output_type": "stream",
     "text": [
      "PROJECT_ID=hybrid-vertex,REGION=us-central1,ENDPOINT_ID=6324832886641917952,RAW_DATA_PATH=gs://rec-bandits-v2-hybrid-vertex-bucket/data/kfp_demo_data/u.data,BATCH_SIZE=8,RANK_K=20,NUM_ACTIONS=20\n"
     ]
    }
   ],
   "source": [
    "ENV_VARS = \",\".join(\n",
    "    [\n",
    "        f\"PROJECT_ID={PROJECT_ID}\",\n",
    "        f\"REGION={REGION}\",\n",
    "        f\"ENDPOINT_ID={ENDPOINT_ID}\",\n",
    "        f\"RAW_DATA_PATH={DATA_PATH_KFP_DEMO}\",\n",
    "        f\"BATCH_SIZE={BATCH_SIZE}\",\n",
    "        f\"RANK_K={RANK_K}\",\n",
    "        f\"NUM_ACTIONS={NUM_ACTIONS}\",\n",
    "    ]\n",
    ")\n",
    "\n",
    "! echo $ENV_VARS"
   ]
  },
  {
   "cell_type": "markdown",
   "metadata": {},
   "source": [
    "#### Deploy Cloud Function\n",
    "Ingress settings control what traffic can reach the function\n",
    "* Default == `all` \n",
    "* `INGRESS_SETTINGS` must be one of: `all`, `internal-only`, `internal-and-gclb`\n",
    "\n",
    "If neededing to update your org policy, see `constraints/cloudfunctions.allowedIngressSettings` in the [IAM & Admin Console](https://pantheon.corp.google.com/iam-admin/orgpolicies/list?e=13802955&mods=-ai_platform_fake_service,-ai_platform_staging_service&). Also refer to the Cloud Functions documentation e.g.,  [gcloud functions deploy](https://cloud.google.com/sdk/gcloud/reference/functions/deploy) and [secure and control access](https://cloud.google.com/functions/docs/securing/using-vpc-service-controls#console)"
   ]
  },
  {
   "cell_type": "code",
   "execution_count": 125,
   "metadata": {},
   "outputs": [],
   "source": [
    "# get org ID\n",
    "# ! gcloud organizations list"
   ]
  },
  {
   "cell_type": "code",
   "execution_count": 111,
   "metadata": {},
   "outputs": [],
   "source": [
    "# !gcloud resource-manager org-policies allow cloudfunctions.allowedIngressSettings ALLOW_INTERNAL_ONLY \\\n",
    "#     --organization $YOUR_ORG_ID"
   ]
  },
  {
   "cell_type": "code",
   "execution_count": 112,
   "metadata": {
    "id": "0yiHxUMBi1UM"
   },
   "outputs": [
    {
     "name": "stdout",
     "output_type": "stream",
     "text": [
      "\u001b[1;33mWARNING:\u001b[0m Effective May 15, 2023, Container Registry (used by default by Cloud Functions 1st gen for storing build artifacts) is deprecated: https://cloud.google.com/artifact-registry/docs/transition/transition-from-gcr. Artifact Registry is the recommended successor that you can use by adding the '--docker_registry=artifact-registry' flag.\n",
      "\n",
      "\u001b[1;33mWARNING:\u001b[0m Secuirty check for Container Registry repository that stores this function's image has not succeeded. To mitigate risks of disclosing sensitive data, it is recommended to keep your repositories private. This setting can be verified in Google Container Registry.\n",
      "\n",
      "Deploying function (may take a while - up to 2 minutes)...⠹                    \n",
      "For Cloud Build Logs, visit: https://console.cloud.google.com/cloud-build/builds;region=us-central1/1fd773a7-6308-4480-9f39-788809060fed?project=934903580331\n",
      "Deploying function (may take a while - up to 2 minutes)...done.                \n",
      "availableMemoryMb: 512\n",
      "buildId: 1fd773a7-6308-4480-9f39-788809060fed\n",
      "buildName: projects/934903580331/locations/us-central1/builds/1fd773a7-6308-4480-9f39-788809060fed\n",
      "dockerRegistry: CONTAINER_REGISTRY\n",
      "entryPoint: simulate\n",
      "environmentVariables:\n",
      "  BATCH_SIZE: '8'\n",
      "  ENDPOINT_ID: '6324832886641917952'\n",
      "  NUM_ACTIONS: '20'\n",
      "  PROJECT_ID: hybrid-vertex\n",
      "  RANK_K: '20'\n",
      "  RAW_DATA_PATH: gs://rec-bandits-v2-hybrid-vertex-bucket/data/kfp_demo_data/u.data\n",
      "  REGION: us-central1\n",
      "eventTrigger:\n",
      "  eventType: google.pubsub.topic.publish\n",
      "  failurePolicy: {}\n",
      "  resource: projects/hybrid-vertex/topics/simulator-pubsub-topic-v8\n",
      "  service: pubsub.googleapis.com\n",
      "ingressSettings: ALLOW_INTERNAL_AND_GCLB\n",
      "labels:\n",
      "  deployment-tool: cli-gcloud\n",
      "maxInstances: 3000\n",
      "name: projects/hybrid-vertex/locations/us-central1/functions/simulator-cloud-function-v8\n",
      "runtime: python310\n",
      "serviceAccountEmail: hybrid-vertex@appspot.gserviceaccount.com\n",
      "sourceArchiveUrl: gs://rec-bandits-v2-hybrid-vertex-bucket/us-central1-simulator-cloud-function-v8-vnzizhrhdsgb.zip\n",
      "status: ACTIVE\n",
      "timeout: 200s\n",
      "updateTime: '2023-10-19T21:01:48.082Z'\n",
      "versionId: '1'\n"
     ]
    }
   ],
   "source": [
    "! gcloud functions deploy $SIMULATOR_CLOUD_FUNCTION \\\n",
    "    --gen2 \\\n",
    "    --region=$REGION \\\n",
    "    --trigger-topic=$SIMULATOR_PUBSUB_TOPIC \\\n",
    "    --runtime=python310 \\\n",
    "    --memory=512MB \\\n",
    "    --timeout=200s \\\n",
    "    --source=src/simulator \\\n",
    "    --entry-point=simulate \\\n",
    "    --stage-bucket=$BUCKET_NAME \\\n",
    "    --update-env-vars=$ENV_VARS \\\n",
    "    --no-allow-unauthenticated \\\n",
    "    --ingress-settings=internal-and-gclb"
   ]
  },
  {
   "cell_type": "markdown",
   "metadata": {
    "id": "213JWEcLxAhN"
   },
   "source": [
    "## Create the *Logger* to asynchronously log prediction inputs and results\n",
    "\n",
    "Create the Logger to get environment feedback as rewards from the MovieLens simulation environment based on prediction observations and predicted actions, formulate trajectory data, and store said data back to BigQuery. The Logger closes the RL feedback loop from prediction to training data, and allows re-training of the policy on new training data.\n",
    "\n",
    "The Logger is triggered by a hook in the prediction code. At each prediction request, the prediction code messages a Pub/Sub topic, which triggers the Logger code.\n",
    "\n",
    "The workflow is: prediction container code (at prediction request) --> Pub/Sub --> Cloud Functions (logging predictions back to BigQuery)\n",
    "\n",
    "In production, this Logger logic can be modified to that of gathering real-world feedback (rewards) based on observations and predicted actions.\n",
    "\n",
    "The Logger source code is [`src/logger/main.py`](src/logger/main.py)."
   ]
  },
  {
   "cell_type": "markdown",
   "metadata": {
    "id": "gIuPCKRjxAhN"
   },
   "source": [
    "### Run unit tests on the Logger"
   ]
  },
  {
   "cell_type": "code",
   "execution_count": null,
   "metadata": {
    "id": "-eVdF88gxAhN"
   },
   "outputs": [],
   "source": [
    "# ! python3 -m unittest src.logger.test_main"
   ]
  },
  {
   "cell_type": "markdown",
   "metadata": {
    "id": "hs56EW17xAhO"
   },
   "source": [
    "### Create a Pub/Sub topic\n",
    "\n",
    "- Read more about creating Pub/Sub topics [here](https://cloud.google.com/functions/docs/tutorials/pubsub)"
   ]
  },
  {
   "cell_type": "code",
   "execution_count": 114,
   "metadata": {
    "id": "ydoCTizJxAhO"
   },
   "outputs": [
    {
     "name": "stdout",
     "output_type": "stream",
     "text": [
      "Created topic [projects/hybrid-vertex/topics/logger-pubsub-topic].\n"
     ]
    }
   ],
   "source": [
    "! gcloud pubsub topics create $LOGGER_PUBSUB_TOPIC"
   ]
  },
  {
   "cell_type": "markdown",
   "metadata": {
    "id": "FnlsMxfjxAhO"
   },
   "source": [
    "### Define the *Logger* logic in a Cloud Function to be triggered by a Pub/Sub topic, which is triggered by the prediction code at each prediction request.\n",
    "\n",
    "- Specify dependencies of the Function in [`src/logger/requirements.txt`](src/logger/requirements.txt).\n",
    "- Read more about the available configurable arguments for deploying a Function [here](https://cloud.google.com/sdk/gcloud/reference/functions/deploy). For instance, based on the complexity of your Function, you may want to adjust its memory and timeout.\n",
    "- Note that the environment variables in `ENV_VARS` should be comma-separated; there should not be additional spaces, or other characters in between. Read more about setting/updating/deleting environment variables [here](https://cloud.google.com/functions/docs/env-var).\n",
    "\n",
    "arg stash\n",
    "* `--no-allow-unauthenticated`"
   ]
  },
  {
   "cell_type": "code",
   "execution_count": 115,
   "metadata": {
    "id": "DwrukBPHxAhO"
   },
   "outputs": [
    {
     "name": "stdout",
     "output_type": "stream",
     "text": [
      "PROJECT_ID=hybrid-vertex,RAW_DATA_PATH=gs://rec-bandits-v2-hybrid-vertex-bucket/data/kfp_demo_data/u.data,BATCH_SIZE=8,RANK_K=20,NUM_ACTIONS=20,BIGQUERY_TMP_FILE=tmp.json,BIGQUERY_DATASET_NAME=rec_bandits_v2_bucket,BIGQUERY_LOCATION=US,BIGQUERY_TABLE_NAME=training_dataset\n"
     ]
    }
   ],
   "source": [
    "ENV_VARS = \",\".join(\n",
    "    [\n",
    "        f\"PROJECT_ID={PROJECT_ID}\",\n",
    "        f\"RAW_DATA_PATH={DATA_PATH_KFP_DEMO}\",\n",
    "        f\"BATCH_SIZE={BATCH_SIZE}\",\n",
    "        f\"RANK_K={RANK_K}\",\n",
    "        f\"NUM_ACTIONS={NUM_ACTIONS}\",\n",
    "        f\"BIGQUERY_TMP_FILE={BIGQUERY_TMP_FILE}\",\n",
    "        f\"BIGQUERY_DATASET_NAME={BIGQUERY_DATASET_NAME}\",\n",
    "        f\"BIGQUERY_LOCATION={BQ_LOCATION}\",\n",
    "        f\"BIGQUERY_TABLE_NAME={BIGQUERY_TABLE_NAME}\",\n",
    "    ]\n",
    ")\n",
    "\n",
    "! echo $ENV_VARS"
   ]
  },
  {
   "cell_type": "code",
   "execution_count": 117,
   "metadata": {
    "id": "OykKRkScxAhO"
   },
   "outputs": [],
   "source": [
    "! gcloud functions deploy -q $LOGGER_CLOUD_FUNCTION \\\n",
    "    --gen2 \\\n",
    "    --region=$REGION \\\n",
    "    --trigger-topic=$LOGGER_PUBSUB_TOPIC \\\n",
    "    --runtime=python310 \\\n",
    "    --memory=512MB \\\n",
    "    --timeout=200s \\\n",
    "    --source=src/logger \\\n",
    "    --entry-point=log \\\n",
    "    --stage-bucket=$BUCKET_NAME \\\n",
    "    --update-env-vars=$ENV_VARS \\\n",
    "    --ingress-settings=internal-and-gclb"
   ]
  },
  {
   "cell_type": "markdown",
   "metadata": {},
   "source": [
    "# Retraining pipeline \n",
    "\n",
    "Topics\n",
    "* discuss continous learning / near-real time learning\n",
    "* built-in exploration strategies\n",
    "* objectives "
   ]
  },
  {
   "cell_type": "markdown",
   "metadata": {},
   "source": [
    "## Set Vertex AI Experiment"
   ]
  },
  {
   "cell_type": "code",
   "execution_count": null,
   "metadata": {},
   "outputs": [],
   "source": [
    "# EXPERIMENT_NAME   = f'mab-retrain-pipe-{PREFIX}'\n",
    "\n",
    "# invoke_time       = time.strftime(\"%Y%m%d-%H%M%S\")\n",
    "# RUN_NAME          = f'run-{invoke_time}'\n",
    "\n",
    "# BASE_OUTPUT_DIR   = f'{BUCKET_URI}/{EXPERIMENT_NAME}/{RUN_NAME}'\n",
    "# LOG_DIR           = f\"{BASE_OUTPUT_DIR}/logs\"\n",
    "# ROOT_DIR          = f\"{BASE_OUTPUT_DIR}/root\"       # Root directory for writing logs/summaries/checkpoints.\n",
    "# ARTIFACTS_DIR     = f\"{BASE_OUTPUT_DIR}/artifacts\"  # Where the trained model will be saved and restored.\n",
    "\n",
    "# vertex_ai.init(\n",
    "#     project=PROJECT_ID,\n",
    "#     location=REGION,\n",
    "#     experiment=EXPERIMENT_NAME\n",
    "# )\n",
    "\n",
    "# bigquery_client = bigquery.Client(project=PROJECT_ID, location=BQ_LOCATION)\n",
    "\n",
    "print(f\"EXPERIMENT_NAME    : {EXPERIMENT_NAME}\")\n",
    "print(f\"RUN_NAME           : {RUN_NAME}\\n\")\n",
    "print(f\"BASE_OUTPUT_DIR    : {BASE_OUTPUT_DIR}\")\n",
    "print(f\"LOG_DIR            : {LOG_DIR}\")\n",
    "print(f\"ROOT_DIR           : {ROOT_DIR}\")\n",
    "print(f\"ARTIFACTS_DIR      : {ARTIFACTS_DIR}\")"
   ]
  },
  {
   "cell_type": "markdown",
   "metadata": {
    "id": "n0YSz3xtJcci"
   },
   "source": [
    "## Create the *Trigger* to trigger re-training\n",
    "\n",
    "Create a pipeline scheduler object that recurrently re-runs the pipeline and trains the policy on new data. You create a pipeline for orchestration on Vertex Pipelines\n",
    "\n",
    "When the Simulator sends prediction requests to the endpoint, the Logger is triggered by the hook in the prediction code to log prediction results to BigQuery, as new training data. As this pipeline has a recurrent schedule, it utlizes the new training data in training a new policy, therefore closing the feedback loop. \n",
    "\n",
    "> Theoretically speaking, if you set the pipeline scheduler to be infinitely frequent, then you would be approaching real-time, continuous training."
   ]
  },
  {
   "cell_type": "code",
   "execution_count": 126,
   "metadata": {
    "id": "-YmLQ-ykJcci"
   },
   "outputs": [],
   "source": [
    "# Schedule to trigger the pipeline. Eg. \"*/30 * * * *\" means every 30 mins.\n",
    "TRIGGER_SCHEDULE = \"*/30 * * * *\""
   ]
  },
  {
   "cell_type": "code",
   "execution_count": 127,
   "metadata": {},
   "outputs": [],
   "source": [
    "\n",
    "# component_train_job_op = pipe_utils.create_custom_training_job_from_component(\n",
    "#     component_spec=train_reinforcement_learning_policy,\n",
    "#     display_name='mab-training-job',\n",
    "#     replica_count=TRAINING_REPLICA_COUNT,\n",
    "#     machine_type=TRAINING_MACHINE_TYPE,\n",
    "#     accelerator_type=TRAINING_ACCELERATOR_TYPE,\n",
    "#     accelerator_count=TRAINING_ACCELERATOR_COUNT,\n",
    "#     enable_web_access=True,\n",
    "#     restart_job_on_worker_restart=False,\n",
    "#     base_output_directory=BASE_OUTPUT_DIR,\n",
    "#     tensorboard=TB_RESOURCE_NAME,\n",
    "#     service_account=VERTEX_SA,\n",
    "# )\n",
    "# component_train_job_op"
   ]
  },
  {
   "cell_type": "code",
   "execution_count": 128,
   "metadata": {},
   "outputs": [],
   "source": [
    "# ingest_op = load_component_from_file(\"./src/ingester/component.yaml\")\n",
    "ingest_op = load_component_from_file(\"./src/trainer2/ingest_op.yaml\")\n",
    "\n",
    "# train_op = load_component_from_file(\"./src/trainer/component.yaml\")\n",
    "# train_op = load_component_from_file(\"./src/trainer2/component_train_job_op.yaml\")"
   ]
  },
  {
   "cell_type": "code",
   "execution_count": 129,
   "metadata": {
    "id": "ay1x-rgIJcci"
   },
   "outputs": [],
   "source": [
    "@dsl.pipeline(\n",
    "    name=f\"{PIPELINE_NAME}-retraining\"\n",
    ")\n",
    "def pipeline(\n",
    "    # Pipeline configs\n",
    "    project_id: str,\n",
    "    training_artifacts_dir: str,\n",
    "    base_train_output_uri: str,\n",
    "    # BigQuery configs\n",
    "    bigquery_table_name: str,\n",
    "    bigquery_dataset_name: str,\n",
    "    bigquery_location: str,\n",
    "    bigquery_max_rows: int = 10000,\n",
    "    # TF-Agents RL configs\n",
    "    # batch_size: int = 8,\n",
    "    rank_k: int = 20,\n",
    "    num_actions: int = 20,\n",
    "    num_epochs: int = 5,\n",
    "    tikhonov_weight: float = 0.01,\n",
    "    agent_alpha: float = 10,\n",
    ") -> None:\n",
    "    \"\"\"Authors a re-training pipeline for MovieLens movie recommendation system.\n",
    "\n",
    "    Integrates the Ingester, Trainer and Deployer components.\n",
    "\n",
    "    Args:\n",
    "      project_id: GCP project ID. This is required because otherwise the BigQuery\n",
    "        client will use the ID of the tenant GCP project created as a result of\n",
    "        KFP, which doesn't have proper access to BigQuery.\n",
    "      training_artifacts_dir: Path to store the Trainer artifacts (trained policy).\n",
    "\n",
    "      bigquery_table_name: A string of the BigQuery table ID in the format of\n",
    "        \"table_name\".\n",
    "      bigquery_max_rows: Optional; maximum number of rows to ingest.\n",
    "\n",
    "      rank_k: Optional; rank for matrix factorization in the MovieLens environment;\n",
    "        also the observation dimension.\n",
    "      num_actions: Optional; number of actions (movie items) to choose from.\n",
    "      num_epochs: Optional; number of training epochs.\n",
    "      tikhonov_weight: Optional; LinUCB Tikhonov regularization weight of the\n",
    "        Trainer.\n",
    "      agent_alpha: Optional; LinUCB exploration parameter that multiplies the\n",
    "        confidence intervals of the Trainer.\n",
    "    \"\"\"\n",
    "    \n",
    "    from kfp.dsl import importer_node\n",
    "    \n",
    "    # Run the Ingester component.\n",
    "    ingest_task = (\n",
    "        ingest_op(\n",
    "            project_id=project_id,\n",
    "            bigquery_table_name=bigquery_table_name,\n",
    "            bigquery_dataset_name=bigquery_dataset_name,\n",
    "            bigquery_max_rows=bigquery_max_rows,\n",
    "            tfrecord_file=TFRECORD_FILE,\n",
    "        )\n",
    "        .set_display_name(\"Ingestor\")\n",
    "        .set_caching_options(True)\n",
    "    )\n",
    "    \n",
    "    # =====================================================\n",
    "    # TODO: add step for creating new TensorBoard instance\n",
    "    # =====================================================\n",
    "    \n",
    "    \n",
    "    train_task = (\n",
    "        component_train_job_op(\n",
    "            training_artifacts_dir=training_artifacts_dir,\n",
    "            tfrecord_file=ingest_task.outputs[\"tfrecord_file\"],\n",
    "            num_epochs=num_epochs,\n",
    "            rank_k=rank_k,\n",
    "            num_actions=num_actions,\n",
    "            tikhonov_weight=tikhonov_weight,\n",
    "            agent_alpha=agent_alpha,\n",
    "            project=PROJECT_ID,\n",
    "            location=REGION,\n",
    "        )\n",
    "        .set_display_name(\"TrainerTask\")\n",
    "        .set_caching_options(True)\n",
    "    )\n",
    "    \n",
    "    # =====================================================\n",
    "    # TODO: step for building prediction container?\n",
    "    # =====================================================\n",
    "    \n",
    "    import_unmanaged_model_task = (\n",
    "        importer_node.importer(\n",
    "            artifact_uri=train_task.outputs[\"training_artifacts_dir\"],\n",
    "            artifact_class=artifact_types.UnmanagedContainerModel,\n",
    "            metadata={\n",
    "                \"containerSpec\": {\n",
    "                    \"imageUri\": f\"gcr.io/{PROJECT_ID}/{IMAGE_NAME_04_pred}:latest\"\n",
    "                }\n",
    "            },\n",
    "        )\n",
    "    )\n",
    "\n",
    "    # # Run the Deployer components.\n",
    "    # # Upload the trained policy as a model.\n",
    "    \n",
    "    model_upload_op = (\n",
    "        ModelUploadOp(\n",
    "            project=project_id,\n",
    "            display_name=TRAINED_POLICY_DISPLAY_NAME,\n",
    "            unmanaged_container_model=import_unmanaged_model_task.outputs[\"artifact\"],\n",
    "            # artifact_uri=train_task.outputs[\"training_artifacts_dir\"],\n",
    "            # serving_container_image_uri=f\"gcr.io/{PROJECT_ID}/{IMAGE_NAME_04_pred}:latest\",\n",
    "        )\n",
    "        .set_display_name(\"Register Trained Policy\")\n",
    "        .set_caching_options(True)\n",
    "    )\n",
    "    \n",
    "    \n",
    "    # Create a Vertex AI endpoint. (This operation can occur in parallel with\n",
    "    # the Generator, Ingester, Trainer components.)\n",
    "    \n",
    "    endpoint_create_op = (\n",
    "        EndpointCreateOp(\n",
    "            project=project_id, \n",
    "            display_name=ENDPOINT_DISPLAY_NAME\n",
    "        )\n",
    "        .set_display_name(\"Create Online Endpoint\")\n",
    "        .set_caching_options(True)\n",
    "    )\n",
    "        \n",
    "    # Deploy the uploaded, trained policy to the created endpoint. \n",
    "    # (Occurs after both model registered and endpoint created)\n",
    "    \n",
    "    deploy_op = (\n",
    "        ModelDeployOp(\n",
    "            endpoint=endpoint_create_op.outputs[\"endpoint\"],\n",
    "            model=model_upload_op.outputs[\"model\"],\n",
    "            deployed_model_display_name=TRAINED_POLICY_DISPLAY_NAME,\n",
    "            # traffic_split=TRAFFIC_SPLIT,\n",
    "            dedicated_resources_machine_type=ENDPOINT_MACHINE_TYPE,\n",
    "            dedicated_resources_accelerator_type=ENDPOINT_ACCELERATOR_TYPE,\n",
    "            dedicated_resources_accelerator_count=ENDPOINT_ACCELERATOR_COUNT,\n",
    "            dedicated_resources_min_replica_count=ENDPOINT_REPLICA_COUNT,\n",
    "        )\n",
    "        .set_display_name(\"Deploy Policy\")\n",
    "        .set_caching_options(True)\n",
    "    )"
   ]
  },
  {
   "cell_type": "code",
   "execution_count": 130,
   "metadata": {},
   "outputs": [
    {
     "name": "stdout",
     "output_type": "stream",
     "text": [
      "PIPELINE_SPEC_GCS_URI: gs://rec-bandits-v2-hybrid-vertex-bucket/mab-pipe-rec-bandits-v2/run-20231019-184119/pipeline_v8_root/custom_pipeline_spec.json\n"
     ]
    }
   ],
   "source": [
    "# TODO: add timestamp to spec file??\n",
    "\n",
    "PIPELINE_SPEC_LOCAL_PATH = \"custom_pipeline_spec.json\"                      # Path to pipeline specification file.\n",
    "\n",
    "# # remove any spec from previous runs\n",
    "# ! rm -f $PIPELINE_SPEC_LOCAL_PATH\n",
    "\n",
    "PIPELINE_SPEC_GCS_URI = f'{PIPELINE_ROOT}/{PIPELINE_SPEC_LOCAL_PATH}'\n",
    "print(\"PIPELINE_SPEC_GCS_URI:\", PIPELINE_SPEC_GCS_URI)\n",
    "\n",
    "# Compile the authored pipeline.\n",
    "compiler.Compiler().compile(\n",
    "    pipeline_func=pipeline, \n",
    "    package_path=PIPELINE_SPEC_LOCAL_PATH\n",
    ")"
   ]
  },
  {
   "cell_type": "code",
   "execution_count": 131,
   "metadata": {},
   "outputs": [],
   "source": [
    "!gsutil -q cp ./$PIPELINE_SPEC_LOCAL_PATH $PIPELINE_SPEC_GCS_URI"
   ]
  },
  {
   "cell_type": "code",
   "execution_count": 132,
   "metadata": {},
   "outputs": [],
   "source": [
    "# Create a pipeline run job.\n",
    "job = vertex_ai.PipelineJob(\n",
    "    display_name=f\"{PIPELINE_NAME}-startup\",\n",
    "    template_path=PIPELINE_SPEC_GCS_URI,\n",
    "    pipeline_root=PIPELINE_ROOT,\n",
    "    failure_policy='fast', # slow | fast\n",
    "    parameter_values={\n",
    "        # Pipeline configs\n",
    "        \"project_id\": PROJECT_ID,\n",
    "        # \"raw_data_path\": DATA_PATH_KFP_DEMO,\n",
    "        \"training_artifacts_dir\": ARTIFACTS_DIR,\n",
    "        \"base_train_output_uri\": BASE_OUTPUT_DIR,\n",
    "        # \"tb_resource_name\":TB_RESOURCE_NAME,\n",
    "        # BigQuery configs\n",
    "        \"bigquery_dataset_name\": BIGQUERY_DATASET_NAME,\n",
    "        \"bigquery_location\": BQ_LOCATION,\n",
    "        \"bigquery_table_name\": BIGQUERY_TABLE_NAME,\n",
    "        # \"bigquery_max_rows\": 10000,\n",
    "        # \"batch_size\": 8, # int = 8,\n",
    "        \"rank_k\": 20, # int = 20,\n",
    "        \"num_actions\": 20, # int = 20,\n",
    "        # \"driver_steps\": 3, # int = 3,\n",
    "        \"num_epochs\": 5, # int = 5,\n",
    "        \"tikhonov_weight\": 0.01, # float = 0.01,\n",
    "        \"agent_alpha\": 10, # float = 10,\n",
    "    },\n",
    "    enable_caching=False,\n",
    ")\n",
    "\n",
    "job.run(\n",
    "    sync=False,\n",
    "    service_account=VERTEX_SA,\n",
    "    # network=f'projects/{PROJECT_NUM}/global/networks/{VPC_NETWORK_NAME}'\n",
    ")"
   ]
  },
  {
   "cell_type": "markdown",
   "metadata": {
    "id": "9yPjcm75Jcci"
   },
   "source": [
    "**TODO**\n",
    "* retrain trigger\n",
    "* improve train script (include more metrics, managed TB, GPU, massive datasets\n",
    "* experiemtal design for testing agents (see gabor's blog)\n",
    "* Fix 2nd Cloud function"
   ]
  },
  {
   "cell_type": "markdown",
   "metadata": {
    "id": "TpV-iwP9qw9c"
   },
   "source": [
    "## Cleaning up\n",
    "\n",
    "To clean up all Google Cloud resources used in this project, you can [delete the Google Cloud\n",
    "project](https://cloud.google.com/resource-manager/docs/creating-managing-projects#shutting_down_projects) you used for the tutorial.\n",
    "\n",
    "Otherwise, you can delete the individual resources you created in this tutorial (you also need to clean up other resources that are difficult to delete here, such as the all/partial of data in BigQuery, the recurring pipeline and its Scheduler job, the uploaded policy/model, etc.):"
   ]
  },
  {
   "cell_type": "code",
   "execution_count": null,
   "metadata": {
    "id": "sx_vKniMq9ZX"
   },
   "outputs": [],
   "source": [
    "# # Delete endpoint resource.\n",
    "# ! gcloud ai endpoints delete $ENDPOINT_ID --quiet --region $REGION\n",
    "\n",
    "# # Delete Pub/Sub topics.\n",
    "# ! gcloud pubsub topics delete $SIMULATOR_PUBSUB_TOPIC --quiet\n",
    "# ! gcloud pubsub topics delete $LOGGER_PUBSUB_TOPIC --quiet\n",
    "\n",
    "# # Delete Cloud Functions.\n",
    "# ! gcloud functions delete $SIMULATOR_CLOUD_FUNCTION --quiet\n",
    "# ! gcloud functions delete $LOGGER_CLOUD_FUNCTION --quiet\n",
    "\n",
    "# # Delete Scheduler job.\n",
    "# ! gcloud scheduler jobs delete $SIMULATOR_SCHEDULER_JOB --quiet\n",
    "\n",
    "# # Delete Cloud Storage objects that were created.\n",
    "# ! gsutil -m rm -r $PIPELINE_ROOT\n",
    "# ! gsutil -m rm -r $ARTIFACTS_DIR"
   ]
  }
 ],
 "metadata": {
  "colab": {
   "collapsed_sections": [],
   "name": "mlops_pipeline_tf_agents_bandits_movie_recommendation.ipynb",
   "toc_visible": true
  },
  "environment": {
   "kernel": "python3",
   "name": "tf2-gpu.2-13.m112",
   "type": "gcloud",
   "uri": "gcr.io/deeplearning-platform-release/tf2-gpu.2-13:m112"
  },
  "kernelspec": {
   "display_name": "Python 3",
   "language": "python",
   "name": "python3"
  },
  "language_info": {
   "codemirror_mode": {
    "name": "ipython",
    "version": 3
   },
   "file_extension": ".py",
   "mimetype": "text/x-python",
   "name": "python",
   "nbconvert_exporter": "python",
   "pygments_lexer": "ipython3",
   "version": "3.10.12"
  }
 },
 "nbformat": 4,
 "nbformat_minor": 4
}
