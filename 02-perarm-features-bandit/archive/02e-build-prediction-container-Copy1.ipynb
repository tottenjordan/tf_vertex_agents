{
 "cells": [
  {
   "cell_type": "markdown",
   "id": "5a03307f-546e-485f-bf38-3f8acc0b4196",
   "metadata": {},
   "source": [
    "# Build custom container for Vertex Prediction"
   ]
  },
  {
   "cell_type": "code",
   "execution_count": 1,
   "id": "025a45dd-21a9-4110-9ca5-294ae0911feb",
   "metadata": {},
   "outputs": [
    {
     "name": "stdout",
     "output_type": "stream",
     "text": [
      "/home/jupyter/tf_vertex_agents/02-perarm-features-bandit\n"
     ]
    }
   ],
   "source": [
    "!pwd"
   ]
  },
  {
   "cell_type": "code",
   "execution_count": 2,
   "id": "994fffc8-c58f-4dd0-97c2-7116d8ecda43",
   "metadata": {},
   "outputs": [
    {
     "name": "stdout",
     "output_type": "stream",
     "text": [
      "PREFIX: rec-bandits-v2\n"
     ]
    }
   ],
   "source": [
    "# PREFIX = 'mabv1'\n",
    "VERSION        = \"v2\"                       # TODO\n",
    "PREFIX         = f'rec-bandits-{VERSION}'   # TODO\n",
    "\n",
    "print(f\"PREFIX: {PREFIX}\")"
   ]
  },
  {
   "cell_type": "code",
   "execution_count": 3,
   "id": "d8cc89ad-d0da-4421-b4fd-b232e733bd66",
   "metadata": {},
   "outputs": [
    {
     "name": "stdout",
     "output_type": "stream",
     "text": [
      "\n",
      "PROJECT_ID               = \"hybrid-vertex\"\n",
      "PROJECT_NUM              = \"934903580331\"\n",
      "LOCATION                 = \"us-central1\"\n",
      "\n",
      "REGION                   = \"us-central1\"\n",
      "BQ_LOCATION              = \"US\"\n",
      "VPC_NETWORK_NAME         = \"ucaip-haystack-vpc-network\"\n",
      "\n",
      "VERTEX_SA                = \"934903580331-compute@developer.gserviceaccount.com\"\n",
      "\n",
      "PREFIX                   = \"rec-bandits-v2\"\n",
      "VERSION                  = \"v2\"\n",
      "\n",
      "BUCKET_NAME              = \"rec-bandits-v2-hybrid-vertex-bucket\"\n",
      "BUCKET_URI               = \"gs://rec-bandits-v2-hybrid-vertex-bucket\"\n",
      "DATA_GCS_PREFIX          = \"data\"\n",
      "DATA_PATH                = \"gs://rec-bandits-v2-hybrid-vertex-bucket/data\"\n",
      "VOCAB_SUBDIR             = \"vocabs\"\n",
      "VOCAB_FILENAME           = \"vocab_dict.pkl\"\n",
      "DATA_PATH_KFP_DEMO       = \"gs://rec-bandits-v2-hybrid-vertex-bucket/data/kfp_demo_data/u.data\"\n",
      "\n",
      "VPC_NETWORK_FULL         = \"projects/934903580331/global/networks/ucaip-haystack-vpc-network\"\n",
      "\n",
      "BIGQUERY_DATASET_NAME    = \"mvlens_rec_bandits_v2\"\n",
      "BIGQUERY_TABLE_NAME      = \"training_dataset\"\n",
      "\n",
      "REPOSITORY               = \"rl-movielens-rec-bandits-v2\"\n",
      "\n",
      "DOCKERNAME_01            = \"Dockerfile_train_my_perarm_env\"\n",
      "IMAGE_NAME_01            = \"train-my-perarm-env-v2\"\n",
      "IMAGE_URI_01             = \"gcr.io/hybrid-vertex/train-my-perarm-env-v2\"\n",
      "\n",
      "DOCKERNAME_02            = \"Dockerfile_perarm_feats\"\n",
      "IMAGE_NAME_02            = \"train-perarm-feats-v2\"\n",
      "IMAGE_URI_02             = \"gcr.io/hybrid-vertex/train-perarm-feats-v2\"\n",
      "\n",
      "DOCKERNAME_03            = \"Dockerfile_ranking_bandit\"\n",
      "IMAGE_NAME_03            = \"train-rank-bandit-v2\"\n",
      "IMAGE_URI_03             = \"gcr.io/hybrid-vertex/train-rank-bandit-v2\"\n",
      "\n",
      "DOCKERNAME_04            = \"Dockerfile_train_mab_e2e\"\n",
      "IMAGE_NAME_04            = \"train-mab-e2e-v2\"\n",
      "IMAGE_URI_04             = \"gcr.io/hybrid-vertex/train-mab-e2e-v2\"\n",
      "\n",
      "DOCKERNAME_04_pred       = \"Dockerfile_pred_mab_e2e\"\n",
      "IMAGE_NAME_04_pred       = \"pred-mab-e2e-v2\"\n",
      "IMAGE_URI_04_pred        = \"gcr.io/hybrid-vertex/pred-mab-e2e-v2\"\n",
      "\n",
      "REMOTE_IMAGE_NAME        = \"us-central1-docker.pkg.dev/hybrid-vertex/rl-movielens-rec-bandits-v2/local_docker_tfa\"\n",
      "\n",
      "REPO_DOCKER_PATH_PREFIX  = \"src\"\n",
      "RL_SUB_DIR               = \"per_arm_rl\"\n",
      "\n"
     ]
    }
   ],
   "source": [
    "# staging GCS\n",
    "GCP_PROJECTS             = !gcloud config get-value project\n",
    "PROJECT_ID               = GCP_PROJECTS[0]\n",
    "\n",
    "# GCS bucket and paths\n",
    "BUCKET_NAME              = f'{PREFIX}-{PROJECT_ID}-bucket'\n",
    "BUCKET_URI               = f'gs://{BUCKET_NAME}'\n",
    "\n",
    "config = !gsutil cat {BUCKET_URI}/config/notebook_env.py\n",
    "print(config.n)\n",
    "exec(config.n)"
   ]
  },
  {
   "cell_type": "code",
   "execution_count": 4,
   "id": "7d3ecb2a-f76a-4699-8a80-8e1ffeb86993",
   "metadata": {},
   "outputs": [
    {
     "name": "stdout",
     "output_type": "stream",
     "text": [
      "DOCKERNAME_02_PRED = Dockerfile_predict_mab_02e\n",
      "REPOSITORY         = rl-movielens-rec-bandits-v2\n",
      "IMAGE_NAME_02_PRED = pred-perarm-feats-02e\n",
      "IMAGE_URI_02_PRED  = gcr.io/hybrid-vertex/pred-perarm-feats-02e\n",
      "REMOTE_IMAGE_NAME  = us-central1-docker.pkg.dev/hybrid-vertex/rl-movielens-rec-bandits-v2/pred-perarm-feats-02e\n"
     ]
    }
   ],
   "source": [
    "# TODO incorporate to 00-env-setup\n",
    "DOCKERNAME_02_PRED = 'Dockerfile_predict_mab_02e'\n",
    "IMAGE_NAME_02_PRED = \"pred-perarm-feats-02e\"\n",
    "IMAGE_URI_02_PRED  = f\"gcr.io/hybrid-vertex/{IMAGE_NAME_02_PRED}\"\n",
    "REMOTE_IMAGE_NAME  = f\"{REGION}-docker.pkg.dev/{PROJECT_ID}/{REPOSITORY}/{IMAGE_NAME_02_PRED}\"\n",
    "\n",
    "print(f\"DOCKERNAME_02_PRED = {DOCKERNAME_02_PRED}\")\n",
    "print(f\"REPOSITORY         = {REPOSITORY}\")\n",
    "print(f\"IMAGE_NAME_02_PRED = {IMAGE_NAME_02_PRED}\")\n",
    "print(f\"IMAGE_URI_02_PRED  = {IMAGE_URI_02_PRED}\")\n",
    "print(f\"REMOTE_IMAGE_NAME  = {REMOTE_IMAGE_NAME}\")"
   ]
  },
  {
   "cell_type": "markdown",
   "id": "785f880d-1b3e-4cae-82ba-ff185f923771",
   "metadata": {},
   "source": [
    "## Create Artifact Repository\n",
    "If you don't have an existing artifact repository, create one using the gcloud command below"
   ]
  },
  {
   "cell_type": "code",
   "execution_count": 5,
   "id": "54f30fbc-3801-4363-a70b-df4ca753e3ac",
   "metadata": {},
   "outputs": [],
   "source": [
    "# ! gcloud artifacts repositories create $REPOSITORY --repository-format=docker --location=$LOCATION"
   ]
  },
  {
   "cell_type": "code",
   "execution_count": 6,
   "id": "719729f2-5416-4d83-b902-268e854f2caa",
   "metadata": {},
   "outputs": [
    {
     "data": {
      "text/plain": [
       "'/home/jupyter/tf_vertex_agents'"
      ]
     },
     "execution_count": 6,
     "metadata": {},
     "output_type": "execute_result"
    }
   ],
   "source": [
    "import os\n",
    "\n",
    "root_path = '..'\n",
    "os.chdir(root_path)\n",
    "os.getcwd()"
   ]
  },
  {
   "cell_type": "markdown",
   "id": "9768908f-2994-409b-81b1-dee20441479b",
   "metadata": {},
   "source": [
    "## Set gcloudignore"
   ]
  },
  {
   "cell_type": "code",
   "execution_count": 7,
   "id": "e550e969-8ae6-4042-8152-5f3865f997b4",
   "metadata": {},
   "outputs": [
    {
     "name": "stdout",
     "output_type": "stream",
     "text": [
      "Updated property [gcloudignore/enabled].\n"
     ]
    }
   ],
   "source": [
    "! gcloud config set gcloudignore/enabled true"
   ]
  },
  {
   "cell_type": "markdown",
   "id": "f99d846d-9225-4a6f-a5a7-9ff33e4db2fc",
   "metadata": {},
   "source": [
    "run this in terminal from root to clear `__pycache__` files..."
   ]
  },
  {
   "cell_type": "code",
   "execution_count": 8,
   "id": "7f757ed1-16f4-4e2d-b451-e404338c6085",
   "metadata": {},
   "outputs": [],
   "source": [
    "# find . | grep -E \"(/__pycache__$|\\.pyc$|\\.pyo$)\" | xargs rm -rf"
   ]
  },
  {
   "cell_type": "code",
   "execution_count": 9,
   "id": "178ef8df-dfce-4403-863b-bea33be79024",
   "metadata": {},
   "outputs": [],
   "source": [
    "# !tree src -L 2 -I \"archive\""
   ]
  },
  {
   "cell_type": "markdown",
   "id": "de37c4a7-286a-4477-bc67-08de525d0940",
   "metadata": {},
   "source": [
    "## Create serving app"
   ]
  },
  {
   "cell_type": "code",
   "execution_count": 10,
   "id": "43a75043-b876-4715-b801-c9a1dfff032a",
   "metadata": {},
   "outputs": [
    {
     "name": "stdout",
     "output_type": "stream",
     "text": [
      "archive  per_arm_rl  perarm_features  pred  ranking  serve\n"
     ]
    }
   ],
   "source": [
    "!ls src"
   ]
  },
  {
   "cell_type": "code",
   "execution_count": 11,
   "id": "e8cf24fe-945b-45c3-b665-a6c37880b799",
   "metadata": {},
   "outputs": [],
   "source": [
    "SERVING_DIR = \"serve\"\n",
    "SERVING_APP_DIR = \"app\"\n",
    "\n",
    "# ! rm -f $SERVING_APP_DIR"
   ]
  },
  {
   "cell_type": "code",
   "execution_count": 12,
   "id": "150e431c-2eb6-4154-9b83-f0941899eda8",
   "metadata": {},
   "outputs": [],
   "source": [
    "# %mkdir src/$SERVING_APP_DIR\n",
    "\n",
    "# Make folder for Python training script\n",
    "! rm -rf src/$SERVING_DIR\n",
    "! mkdir src/$SERVING_DIR\n",
    "\n",
    "# Make the predictor subfolder\n",
    "! mkdir src/$SERVING_DIR/$SERVING_APP_DIR"
   ]
  },
  {
   "cell_type": "code",
   "execution_count": 13,
   "id": "10b51f7a-65f5-45af-b8e3-bcbd13f8c9bd",
   "metadata": {},
   "outputs": [],
   "source": [
    "! cp -r ./src/pred/* ./src/$SERVING_DIR/$SERVING_APP_DIR/"
   ]
  },
  {
   "cell_type": "code",
   "execution_count": 14,
   "id": "88c707ef-65d7-440b-87dd-4a67f427aa06",
   "metadata": {},
   "outputs": [
    {
     "name": "stdout",
     "output_type": "stream",
     "text": [
      "archive  per_arm_rl  perarm_features  pred  ranking  serve\n"
     ]
    }
   ],
   "source": [
    "!ls src"
   ]
  },
  {
   "cell_type": "code",
   "execution_count": 15,
   "id": "52a30afd-7649-4684-9e4e-fb7dc6ad8de4",
   "metadata": {},
   "outputs": [
    {
     "name": "stdout",
     "output_type": "stream",
     "text": [
      "__init__.py\temb_features_pred.py  prestart.sh\tvocab_dict.pkl\n",
      "data_config.py\tmain.py\t\t      requirements.txt\n"
     ]
    }
   ],
   "source": [
    "! ls ./src/$SERVING_DIR/$SERVING_APP_DIR"
   ]
  },
  {
   "cell_type": "markdown",
   "id": "6c54c0de-af45-4a16-8847-a20a646c63d1",
   "metadata": {},
   "source": [
    "overwrite `.gcloudignore`..."
   ]
  },
  {
   "cell_type": "code",
   "execution_count": 16,
   "id": "72f21b25-bbc1-4544-a7b5-a6e42a37b943",
   "metadata": {},
   "outputs": [],
   "source": [
    "# .ipynb_checkpoints/*\n",
    "# *cpython-37.pyc\n",
    "# **.cpython-310.pyc\n",
    "\n",
    "# src/per_arm_rl/*\n",
    "# src/perarm_features/*\n",
    "# */__pycache__/*"
   ]
  },
  {
   "cell_type": "code",
   "execution_count": 18,
   "id": "923acbf8-ba98-4903-953d-14a0b02eebd5",
   "metadata": {},
   "outputs": [
    {
     "name": "stdout",
     "output_type": "stream",
     "text": [
      "Overwriting .gcloudignore\n"
     ]
    }
   ],
   "source": [
    "%%writefile .gcloudignore\n",
    ".gcloudignore\n",
    ".ipynb_checkpoints/*\n",
    "*.cpython-310.pyc\n",
    "WIP/*\n",
    "imgs/*\n",
    "learning/*\n",
    "*.png\n",
    "*.ipynb\n",
    ".git\n",
    ".github\n",
    ".gitignore\n",
    ".DS_Store\n",
    "*.md\n",
    "*.tfrecord\n",
    "src/ranking/*\n",
    "src/archive/*\n",
    "04-pipelines/*\n",
    "01-baseline-perarm-bandit/*\n",
    "Dockerfile_perarm_feats\n",
    "Dockerfile_perarm_feats_tpu\n",
    "Dockerfile_predict_mab_02\n",
    "Dockerfile_train_my_perarm_env\n",
    "vertex_env/*\n",
    "credentials.json"
   ]
  },
  {
   "cell_type": "code",
   "execution_count": 19,
   "id": "082ee6bd-2b82-4dd2-a8b1-144f8e319626",
   "metadata": {},
   "outputs": [
    {
     "name": "stdout",
     "output_type": "stream",
     "text": [
      "requirements.txt\n",
      "pred_instances.json\n",
      "Dockerfile_predict_mab_02e\n",
      "cloudbuild.yaml\n",
      "02-perarm-features-bandit/vocab_dict.pkl\n",
      "src/pred/emb_features_pred.py\n",
      "src/pred/requirements.txt\n",
      "src/pred/__init__.py\n",
      "src/pred/vocab_dict.pkl\n",
      "src/pred/prestart.sh\n",
      "src/pred/main.py\n",
      "src/pred/data_config.py\n",
      "src/per_arm_rl/utils_config.py\n",
      "src/per_arm_rl/perarm_task.py\n",
      "src/per_arm_rl/__init__.py\n",
      "src/per_arm_rl/my_per_arm_py_env.py\n",
      "src/per_arm_rl/policy_util.py\n",
      "src/per_arm_rl/train_utils.py\n",
      "src/per_arm_rl/trainer_baseline.py\n",
      "src/per_arm_rl/data_utils.py\n",
      "src/per_arm_rl/data_config.py\n",
      "src/serve/app/emb_features_pred.py\n",
      "src/serve/app/requirements.txt\n",
      "src/serve/app/__init__.py\n",
      "src/serve/app/vocab_dict.pkl\n",
      "src/serve/app/prestart.sh\n",
      "src/serve/app/main.py\n",
      "src/serve/app/data_config.py\n",
      "src/perarm_features/train_perarm.py\n",
      "src/perarm_features/reward_factory.py\n",
      "src/perarm_features/emb_features.py\n",
      "src/perarm_features/agent_factory.py\n",
      "src/perarm_features/__init__.py\n",
      "src/perarm_features/trainer_common.py\n",
      "src/perarm_features/task.py\n",
      "src/perarm_features/eval_perarm.py\n",
      "src/perarm_features/ranking_bandit_policy.py\n",
      "03-ranking/vocab_dict.pkl\n"
     ]
    }
   ],
   "source": [
    "!gcloud meta list-files-for-upload"
   ]
  },
  {
   "cell_type": "code",
   "execution_count": 21,
   "id": "973cd062-1638-4635-acc8-86347f0c9582",
   "metadata": {},
   "outputs": [
    {
     "name": "stdout",
     "output_type": "stream",
     "text": [
      "\u001b[01;34msrc\u001b[00m\n",
      "├── \u001b[01;34mper_arm_rl\u001b[00m\n",
      "│   ├── __init__.py\n",
      "│   ├── data_config.py\n",
      "│   ├── data_utils.py\n",
      "│   ├── my_per_arm_py_env.py\n",
      "│   ├── perarm_task.py\n",
      "│   ├── policy_util.py\n",
      "│   ├── train_utils.py\n",
      "│   ├── trainer_baseline.py\n",
      "│   └── utils_config.py\n",
      "├── \u001b[01;34mperarm_features\u001b[00m\n",
      "│   ├── __init__.py\n",
      "│   ├── agent_factory.py\n",
      "│   ├── emb_features.py\n",
      "│   ├── eval_perarm.py\n",
      "│   ├── ranking_bandit_policy.py\n",
      "│   ├── reward_factory.py\n",
      "│   ├── task.py\n",
      "│   ├── train_perarm.py\n",
      "│   └── trainer_common.py\n",
      "├── \u001b[01;34mpred\u001b[00m\n",
      "│   ├── __init__.py\n",
      "│   ├── data_config.py\n",
      "│   ├── emb_features_pred.py\n",
      "│   ├── main.py\n",
      "│   ├── prestart.sh\n",
      "│   ├── requirements.txt\n",
      "│   └── vocab_dict.pkl\n",
      "├── \u001b[01;34mranking\u001b[00m\n",
      "│   ├── jw_perarm_mv_env.py\n",
      "│   ├── jw_perarm_mv_env_tf.py\n",
      "│   ├── ranking_trainer.py\n",
      "│   ├── repeated_feature_perarm_network.py\n",
      "│   ├── stationary_stochastic_repeated_feature_py_environment.py\n",
      "│   └── tmp_cascading_bandit_perarm_env.py\n",
      "└── \u001b[01;34mserve\u001b[00m\n",
      "    └── \u001b[01;34mapp\u001b[00m\n",
      "        ├── __init__.py\n",
      "        ├── data_config.py\n",
      "        ├── emb_features_pred.py\n",
      "        ├── main.py\n",
      "        ├── prestart.sh\n",
      "        ├── requirements.txt\n",
      "        └── vocab_dict.pkl\n",
      "\n",
      "6 directories, 38 files\n"
     ]
    }
   ],
   "source": [
    "!tree src -L 3 -I \"archive\""
   ]
  },
  {
   "cell_type": "markdown",
   "id": "49031c58-3ffa-4af7-a00c-5ffd12a5e203",
   "metadata": {},
   "source": [
    "## Build Dockerfile"
   ]
  },
  {
   "cell_type": "code",
   "execution_count": 22,
   "id": "d2daac7e-4c1a-4875-9a72-fe1738bbd3f6",
   "metadata": {},
   "outputs": [],
   "source": [
    "# COPY src/prediction /app\n",
    "# COPY src/perarm_features /app/perarm_features\n",
    "\n",
    "# CMD [\"sh\", \"-c\", \"uvicorn src.prediction.main:app --host 0.0.0.0 --port $AIP_HTTP_PORT\"]\n",
    "\n",
    "# ENV PYTHONUNBUFFERED True\n",
    "\n",
    "# ARG FOO=bar\n",
    "# ARG FOO\n",
    "# RUN echo \"these steps will be executed again if the value of FOO changes\"\n",
    "\n",
    "# COPY src/perarm_features $APP_HOME/src/perarm_features\n",
    "# COPY src/per_arm_rl $APP_HOME/src/per_arm_rl\n",
    "# COPY src/prediction $APP_HOME/src/prediction\n",
    "\n",
    "# ADD src $APP_HOME/src\n",
    "\n",
    "# COPY src/pred $APP_HOME\n",
    "\n",
    "# RUN pip3 install --no-cache-dir -r $APP_HOME/requirements.txt\n",
    "# CMD [\"sh\", \"-c\", \"uvicorn main:app --host 0.0.0.0 --port 7080\"]"
   ]
  },
  {
   "cell_type": "code",
   "execution_count": 23,
   "id": "eef3a761-a1bb-49db-a283-b79c270f3870",
   "metadata": {},
   "outputs": [
    {
     "name": "stdout",
     "output_type": "stream",
     "text": [
      "\n",
      "FROM tiangolo/uvicorn-gunicorn-fastapi:python3.10\n",
      "# FROM gcr.io/deeplearning-platform-release/tf2-cpu.2-13.py310\n",
      "# FROM tensorflow/tensorflow:2.14.0\n",
      "\n",
      "# Allow statements and log messages to immediately appear in the logs.\n",
      "ENV PYTHONUNBUFFERED True\n",
      "\n",
      "ENV APP_HOME /app\n",
      "\n",
      "WORKDIR $APP_HOME\n",
      "\n",
      "COPY ./app /$APP_HOME\n",
      "\n",
      "RUN ls $APP_HOME\n",
      "\n",
      "RUN pip3 install --upgrade pip && pip3 install --no-cache-dir -r $APP_HOME/requirements.txt\n",
      "\n",
      "EXPOSE 80\n",
      "\n",
      "CMD [\"sh\", \"-c\", \"uvicorn main:app --host 0.0.0.0 --port $AIP_HTTP_PORT\"]\n",
      "\n"
     ]
    }
   ],
   "source": [
    "dockerfile = f'''\n",
    "FROM tiangolo/uvicorn-gunicorn-fastapi:python3.10\n",
    "# FROM gcr.io/deeplearning-platform-release/tf2-cpu.2-13.py310\n",
    "# FROM tensorflow/tensorflow:2.14.0\n",
    "\n",
    "# Allow statements and log messages to immediately appear in the logs.\n",
    "ENV PYTHONUNBUFFERED True\n",
    "\n",
    "ENV APP_HOME /app\n",
    "\n",
    "WORKDIR $APP_HOME\n",
    "\n",
    "COPY ./app /$APP_HOME\n",
    "\n",
    "RUN ls $APP_HOME\n",
    "\n",
    "RUN pip3 install --upgrade pip && pip3 install --no-cache-dir -r $APP_HOME/requirements.txt\n",
    "\n",
    "EXPOSE 80\n",
    "\n",
    "CMD [\"sh\", \"-c\", \"uvicorn main:app --host 0.0.0.0 --port $AIP_HTTP_PORT\"]\n",
    "'''\n",
    "print(dockerfile)"
   ]
  },
  {
   "cell_type": "code",
   "execution_count": 24,
   "id": "458ce72a-8efc-48a6-ad56-e4bdb04ddf3d",
   "metadata": {},
   "outputs": [],
   "source": [
    "with open(f'src/{SERVING_DIR}/{DOCKERNAME_02_PRED}', 'w') as f:\n",
    "    f.write(dockerfile)"
   ]
  },
  {
   "cell_type": "code",
   "execution_count": 25,
   "id": "98797dff-287f-4382-abf8-a5b2c97b1f1d",
   "metadata": {},
   "outputs": [],
   "source": [
    "# %%bash -s $MODEL_DIR \n",
    "\n",
    "# MODEL_DIR=$1\n",
    "\n",
    "# mkdir -p ./serve/model/\n",
    "# gsutil cp -r ${MODEL_DIR} ./serve/model/ \n",
    "\n",
    "# cat > ./serve/Dockerfile <<EOF\n",
    "# FROM tiangolo/uvicorn-gunicorn-fastapi:python3.7\n",
    "\n",
    "# COPY ./app /app\n",
    "# COPY ./model /\n",
    "# COPY requirements.txt requirements.txt\n",
    "\n",
    "# RUN pip install -r requirements.txt\n",
    "\n",
    "# EXPOSE 7080\n",
    "# CMD [\"uvicorn\", \"main:app\", \"--host\", \"0.0.0.0\", \"--port\", \"7080\"]\n",
    "\n",
    "# EOF"
   ]
  },
  {
   "cell_type": "code",
   "execution_count": 26,
   "id": "0e2ee6a0-621e-4e43-b885-657638aa2ca7",
   "metadata": {},
   "outputs": [
    {
     "name": "stdout",
     "output_type": "stream",
     "text": [
      "FILE_LOCATION : ./src/serve\n",
      "MACHINE_TYPE  : e2-highcpu-32\n"
     ]
    }
   ],
   "source": [
    "# image definitions for training\n",
    "MACHINE_TYPE            ='e2-highcpu-32'\n",
    "FILE_LOCATION           = f\"./src/{SERVING_DIR}\" # './src'\n",
    "\n",
    "print(f\"FILE_LOCATION : {FILE_LOCATION}\")\n",
    "print(f\"MACHINE_TYPE  : {MACHINE_TYPE}\")"
   ]
  },
  {
   "cell_type": "code",
   "execution_count": 27,
   "id": "fe847011-f7db-4a49-9fcd-288393585251",
   "metadata": {
    "collapsed": true,
    "jupyter": {
     "outputs_hidden": true
    },
    "tags": []
   },
   "outputs": [
    {
     "name": "stdout",
     "output_type": "stream",
     "text": [
      "Creating temporary tarball archive of 39 file(s) totalling 820.8 KiB before compression.\n",
      "Uploading tarball of [.] to [gs://hybrid-vertex_cloudbuild/source/1700046469.187503-dcbf29813b914ce4b252c64e7e879c14.tgz]\n",
      "Created [https://cloudbuild.googleapis.com/v1/projects/hybrid-vertex/locations/global/builds/c9f3737a-5929-4e1a-9c5b-50b210ae130d].\n",
      "Logs are available at [ https://console.cloud.google.com/cloud-build/builds/c9f3737a-5929-4e1a-9c5b-50b210ae130d?project=934903580331 ].\n",
      "----------------------------- REMOTE BUILD OUTPUT ------------------------------\n",
      "starting build \"c9f3737a-5929-4e1a-9c5b-50b210ae130d\"\n",
      "\n",
      "FETCHSOURCE\n",
      "Fetching storage object: gs://hybrid-vertex_cloudbuild/source/1700046469.187503-dcbf29813b914ce4b252c64e7e879c14.tgz#1700046469844197\n",
      "Copying gs://hybrid-vertex_cloudbuild/source/1700046469.187503-dcbf29813b914ce4b252c64e7e879c14.tgz#1700046469844197...\n",
      "/ [1 files][125.6 KiB/125.6 KiB]                                                \n",
      "Operation completed over 1 objects/125.6 KiB.                                    \n",
      "BUILD\n",
      "Already have image (with digest): gcr.io/cloud-builders/docker\n",
      "Sending build context to Docker daemon    170kB\n",
      "Step 1/9 : FROM tiangolo/uvicorn-gunicorn-fastapi:python3.10\n",
      "python3.10: Pulling from tiangolo/uvicorn-gunicorn-fastapi\n",
      "8457fd5474e7: Already exists\n",
      "13baa2029dde: Already exists\n",
      "325c5bf4c2f2: Already exists\n",
      "7e18a660069f: Already exists\n",
      "98a59f0ffede: Already exists\n",
      "e3cb1213d9ec: Pulling fs layer\n",
      "d24e1a6f6cd5: Pulling fs layer\n",
      "e492d35e7ce7: Pulling fs layer\n",
      "ba0e0b2897d7: Pulling fs layer\n",
      "6c6f8e0e40b6: Pulling fs layer\n",
      "d38c5e2f6984: Pulling fs layer\n",
      "d48bcc84b572: Pulling fs layer\n",
      "682ff061468d: Pulling fs layer\n",
      "b3ef9a3bc722: Pulling fs layer\n",
      "5a8fd11fa903: Pulling fs layer\n",
      "76c7c252102c: Pulling fs layer\n",
      "4f4fb700ef54: Pulling fs layer\n",
      "430ed19c400b: Pulling fs layer\n",
      "8b501c5367b2: Pulling fs layer\n",
      "598dfe9ec58e: Pulling fs layer\n",
      "6c6f8e0e40b6: Waiting\n",
      "d38c5e2f6984: Waiting\n",
      "d48bcc84b572: Waiting\n",
      "4f4fb700ef54: Waiting\n",
      "682ff061468d: Waiting\n",
      "b3ef9a3bc722: Waiting\n",
      "430ed19c400b: Waiting\n",
      "5a8fd11fa903: Waiting\n",
      "8b501c5367b2: Waiting\n",
      "ba0e0b2897d7: Waiting\n",
      "d24e1a6f6cd5: Download complete\n",
      "e492d35e7ce7: Download complete\n",
      "e3cb1213d9ec: Verifying Checksum\n",
      "e3cb1213d9ec: Download complete\n",
      "ba0e0b2897d7: Download complete\n",
      "6c6f8e0e40b6: Verifying Checksum\n",
      "6c6f8e0e40b6: Download complete\n",
      "d38c5e2f6984: Verifying Checksum\n",
      "d38c5e2f6984: Download complete\n",
      "d48bcc84b572: Verifying Checksum\n",
      "d48bcc84b572: Download complete\n",
      "e3cb1213d9ec: Pull complete\n",
      "682ff061468d: Verifying Checksum\n",
      "682ff061468d: Download complete\n",
      "b3ef9a3bc722: Verifying Checksum\n",
      "b3ef9a3bc722: Download complete\n",
      "d24e1a6f6cd5: Pull complete\n",
      "5a8fd11fa903: Verifying Checksum\n",
      "5a8fd11fa903: Download complete\n",
      "76c7c252102c: Download complete\n",
      "4f4fb700ef54: Verifying Checksum\n",
      "4f4fb700ef54: Download complete\n",
      "e492d35e7ce7: Pull complete\n",
      "ba0e0b2897d7: Pull complete\n",
      "430ed19c400b: Verifying Checksum\n",
      "430ed19c400b: Download complete\n",
      "598dfe9ec58e: Verifying Checksum\n",
      "598dfe9ec58e: Download complete\n",
      "8b501c5367b2: Verifying Checksum\n",
      "8b501c5367b2: Download complete\n",
      "6c6f8e0e40b6: Pull complete\n",
      "d38c5e2f6984: Pull complete\n",
      "d48bcc84b572: Pull complete\n",
      "682ff061468d: Pull complete\n",
      "b3ef9a3bc722: Pull complete\n",
      "5a8fd11fa903: Pull complete\n",
      "76c7c252102c: Pull complete\n",
      "4f4fb700ef54: Pull complete\n",
      "430ed19c400b: Pull complete\n",
      "8b501c5367b2: Pull complete\n",
      "598dfe9ec58e: Pull complete\n",
      "Digest: sha256:2a80884468ce451987f329fac07c362bae80e23d03a54993db6c4e3d7e972729\n",
      "Status: Downloaded newer image for tiangolo/uvicorn-gunicorn-fastapi:python3.10\n",
      " ---> b8befe3f1c87\n",
      "Step 2/9 : ENV PYTHONUNBUFFERED True\n",
      " ---> Running in 70cef1304beb\n",
      "Removing intermediate container 70cef1304beb\n",
      " ---> 159922f7d9a7\n",
      "Step 3/9 : ENV APP_HOME /app\n",
      " ---> Running in 10dcbe23dd9d\n",
      "Removing intermediate container 10dcbe23dd9d\n",
      " ---> 062bcd21b16e\n",
      "Step 4/9 : WORKDIR $APP_HOME\n",
      " ---> Running in 7fe44bdeae83\n",
      "Removing intermediate container 7fe44bdeae83\n",
      " ---> 08a453334c16\n",
      "Step 5/9 : COPY ./app /$APP_HOME\n",
      " ---> 000de2498264\n",
      "Step 6/9 : RUN ls $APP_HOME\n",
      " ---> Running in da2293e705b3\n",
      "__init__.py\n",
      "data_config.py\n",
      "emb_features_pred.py\n",
      "main.py\n",
      "prestart.sh\n",
      "requirements.txt\n",
      "vocab_dict.pkl\n",
      "Removing intermediate container da2293e705b3\n",
      " ---> 995951e9d648\n",
      "Step 7/9 : RUN pip3 install --upgrade pip && pip3 install --no-cache-dir -r $APP_HOME/requirements.txt\n",
      " ---> Running in b5f3234b266f\n",
      "Requirement already satisfied: pip in /usr/local/lib/python3.10/site-packages (23.0.1)\n",
      "Collecting pip\n",
      "  Downloading pip-23.3.1-py3-none-any.whl (2.1 MB)\n",
      "     ━━━━━━━━━━━━━━━━━━━━━━━━━━━━━━━━━━━━━━━━ 2.1/2.1 MB 15.1 MB/s eta 0:00:00\n",
      "Installing collected packages: pip\n",
      "  Attempting uninstall: pip\n",
      "    Found existing installation: pip 23.0.1\n",
      "    Uninstalling pip-23.0.1:\n",
      "      Successfully uninstalled pip-23.0.1\n",
      "Successfully installed pip-23.3.1\n",
      "\u001b[91mWARNING: Running pip as the 'root' user can result in broken permissions and conflicting behaviour with the system package manager. It is recommended to use a virtual environment instead: https://pip.pypa.io/warnings/venv\n",
      "\u001b[0mCollecting google-cloud-aiplatform==1.33.1 (from -r /app/requirements.txt (line 1))\n",
      "  Downloading google_cloud_aiplatform-1.33.1-py2.py3-none-any.whl.metadata (27 kB)\n",
      "Collecting google-cloud-storage (from -r /app/requirements.txt (line 2))\n",
      "  Downloading google_cloud_storage-2.13.0-py2.py3-none-any.whl.metadata (6.1 kB)\n",
      "Collecting numpy (from -r /app/requirements.txt (line 3))\n",
      "  Downloading numpy-1.26.2-cp310-cp310-manylinux_2_17_x86_64.manylinux2014_x86_64.whl.metadata (61 kB)\n",
      "     ━━━━━━━━━━━━━━━━━━━━━━━━━━━━━━━━━━━━━━━━ 61.2/61.2 kB 14.4 MB/s eta 0:00:00\n",
      "Collecting six (from -r /app/requirements.txt (line 4))\n",
      "  Downloading six-1.16.0-py2.py3-none-any.whl (11 kB)\n",
      "Requirement already satisfied: typing-extensions in /usr/local/lib/python3.10/site-packages (from -r /app/requirements.txt (line 5)) (4.8.0)\n",
      "Collecting tensorflow==2.13.1 (from -r /app/requirements.txt (line 6))\n",
      "  Downloading tensorflow-2.13.1-cp310-cp310-manylinux_2_17_x86_64.manylinux2014_x86_64.whl.metadata (3.4 kB)\n",
      "Collecting tf-agents==0.17.0 (from -r /app/requirements.txt (line 7))\n",
      "  Downloading tf_agents-0.17.0-py3-none-any.whl.metadata (12 kB)\n",
      "Collecting urllib3 (from -r /app/requirements.txt (line 8))\n",
      "  Downloading urllib3-2.1.0-py3-none-any.whl.metadata (6.4 kB)\n",
      "Collecting pillow (from -r /app/requirements.txt (line 9))\n",
      "  Downloading Pillow-10.1.0-cp310-cp310-manylinux_2_28_x86_64.whl.metadata (9.5 kB)\n",
      "Collecting google-api-core!=2.0.*,!=2.1.*,!=2.2.*,!=2.3.*,!=2.4.*,!=2.5.*,!=2.6.*,!=2.7.*,<3.0.0dev,>=1.32.0 (from google-api-core[grpc]!=2.0.*,!=2.1.*,!=2.2.*,!=2.3.*,!=2.4.*,!=2.5.*,!=2.6.*,!=2.7.*,<3.0.0dev,>=1.32.0->google-cloud-aiplatform==1.33.1->-r /app/requirements.txt (line 1))\n",
      "  Downloading google_api_core-2.14.0-py3-none-any.whl.metadata (2.6 kB)\n",
      "Collecting proto-plus<2.0.0dev,>=1.22.0 (from google-cloud-aiplatform==1.33.1->-r /app/requirements.txt (line 1))\n",
      "  Downloading proto_plus-1.22.3-py3-none-any.whl.metadata (2.2 kB)\n",
      "Collecting protobuf!=3.20.0,!=3.20.1,!=4.21.0,!=4.21.1,!=4.21.2,!=4.21.3,!=4.21.4,!=4.21.5,<5.0.0dev,>=3.19.5 (from google-cloud-aiplatform==1.33.1->-r /app/requirements.txt (line 1))\n",
      "  Downloading protobuf-4.25.0-cp37-abi3-manylinux2014_x86_64.whl.metadata (541 bytes)\n",
      "Collecting packaging>=14.3 (from google-cloud-aiplatform==1.33.1->-r /app/requirements.txt (line 1))\n",
      "  Downloading packaging-23.2-py3-none-any.whl.metadata (3.2 kB)\n",
      "Collecting google-cloud-bigquery<4.0.0dev,>=1.15.0 (from google-cloud-aiplatform==1.33.1->-r /app/requirements.txt (line 1))\n",
      "  Downloading google_cloud_bigquery-3.13.0-py2.py3-none-any.whl.metadata (8.5 kB)\n",
      "Collecting google-cloud-resource-manager<3.0.0dev,>=1.3.3 (from google-cloud-aiplatform==1.33.1->-r /app/requirements.txt (line 1))\n",
      "  Downloading google_cloud_resource_manager-1.10.4-py2.py3-none-any.whl.metadata (5.2 kB)\n",
      "Collecting shapely<2.0.0 (from google-cloud-aiplatform==1.33.1->-r /app/requirements.txt (line 1))\n",
      "  Downloading Shapely-1.8.5.post1-cp310-cp310-manylinux_2_12_x86_64.manylinux2010_x86_64.whl (2.0 MB)\n",
      "     ━━━━━━━━━━━━━━━━━━━━━━━━━━━━━━━━━━━━━━━━ 2.0/2.0 MB 86.6 MB/s eta 0:00:00\n",
      "Collecting absl-py>=1.0.0 (from tensorflow==2.13.1->-r /app/requirements.txt (line 6))\n",
      "  Downloading absl_py-2.0.0-py3-none-any.whl.metadata (2.3 kB)\n",
      "Collecting astunparse>=1.6.0 (from tensorflow==2.13.1->-r /app/requirements.txt (line 6))\n",
      "  Downloading astunparse-1.6.3-py2.py3-none-any.whl (12 kB)\n",
      "Collecting flatbuffers>=23.1.21 (from tensorflow==2.13.1->-r /app/requirements.txt (line 6))\n",
      "  Downloading flatbuffers-23.5.26-py2.py3-none-any.whl.metadata (850 bytes)\n",
      "Collecting gast<=0.4.0,>=0.2.1 (from tensorflow==2.13.1->-r /app/requirements.txt (line 6))\n",
      "  Downloading gast-0.4.0-py3-none-any.whl (9.8 kB)\n",
      "Collecting google-pasta>=0.1.1 (from tensorflow==2.13.1->-r /app/requirements.txt (line 6))\n",
      "  Downloading google_pasta-0.2.0-py3-none-any.whl (57 kB)\n",
      "     ━━━━━━━━━━━━━━━━━━━━━━━━━━━━━━━━━━━━━━━ 57.5/57.5 kB 184.2 MB/s eta 0:00:00\n",
      "Collecting grpcio<2.0,>=1.24.3 (from tensorflow==2.13.1->-r /app/requirements.txt (line 6))\n",
      "  Downloading grpcio-1.59.2-cp310-cp310-manylinux_2_17_x86_64.manylinux2014_x86_64.whl.metadata (4.0 kB)\n",
      "Collecting h5py>=2.9.0 (from tensorflow==2.13.1->-r /app/requirements.txt (line 6))\n",
      "  Downloading h5py-3.10.0-cp310-cp310-manylinux_2_17_x86_64.manylinux2014_x86_64.whl.metadata (2.5 kB)\n",
      "Collecting keras<2.14,>=2.13.1 (from tensorflow==2.13.1->-r /app/requirements.txt (line 6))\n",
      "  Downloading keras-2.13.1-py3-none-any.whl.metadata (2.4 kB)\n",
      "Collecting libclang>=13.0.0 (from tensorflow==2.13.1->-r /app/requirements.txt (line 6))\n",
      "  Downloading libclang-16.0.6-py2.py3-none-manylinux2010_x86_64.whl.metadata (5.2 kB)\n",
      "Collecting numpy (from -r /app/requirements.txt (line 3))\n",
      "  Downloading numpy-1.24.3-cp310-cp310-manylinux_2_17_x86_64.manylinux2014_x86_64.whl (17.3 MB)\n",
      "     ━━━━━━━━━━━━━━━━━━━━━━━━━━━━━━━━━━━━━━━ 17.3/17.3 MB 228.1 MB/s eta 0:00:00\n",
      "Collecting opt-einsum>=2.3.2 (from tensorflow==2.13.1->-r /app/requirements.txt (line 6))\n",
      "  Downloading opt_einsum-3.3.0-py3-none-any.whl (65 kB)\n",
      "     ━━━━━━━━━━━━━━━━━━━━━━━━━━━━━━━━━━━━━━━ 65.5/65.5 kB 186.3 MB/s eta 0:00:00\n",
      "Requirement already satisfied: setuptools in /usr/local/lib/python3.10/site-packages (from tensorflow==2.13.1->-r /app/requirements.txt (line 6)) (65.5.1)\n",
      "Collecting tensorboard<2.14,>=2.13 (from tensorflow==2.13.1->-r /app/requirements.txt (line 6))\n",
      "  Downloading tensorboard-2.13.0-py3-none-any.whl (5.6 MB)\n",
      "     ━━━━━━━━━━━━━━━━━━━━━━━━━━━━━━━━━━━━━━━━ 5.6/5.6 MB 226.9 MB/s eta 0:00:00\n",
      "Collecting tensorflow-estimator<2.14,>=2.13.0 (from tensorflow==2.13.1->-r /app/requirements.txt (line 6))\n",
      "  Downloading tensorflow_estimator-2.13.0-py2.py3-none-any.whl.metadata (1.3 kB)\n",
      "Collecting termcolor>=1.1.0 (from tensorflow==2.13.1->-r /app/requirements.txt (line 6))\n",
      "  Downloading termcolor-2.3.0-py3-none-any.whl (6.9 kB)\n",
      "Collecting typing-extensions (from -r /app/requirements.txt (line 5))\n",
      "  Downloading typing_extensions-4.5.0-py3-none-any.whl (27 kB)\n",
      "Collecting wrapt>=1.11.0 (from tensorflow==2.13.1->-r /app/requirements.txt (line 6))\n",
      "  Downloading wrapt-1.16.0-cp310-cp310-manylinux_2_5_x86_64.manylinux1_x86_64.manylinux_2_17_x86_64.manylinux2014_x86_64.whl.metadata (6.6 kB)\n",
      "Collecting tensorflow-io-gcs-filesystem>=0.23.1 (from tensorflow==2.13.1->-r /app/requirements.txt (line 6))\n",
      "  Downloading tensorflow_io_gcs_filesystem-0.34.0-cp310-cp310-manylinux_2_12_x86_64.manylinux2010_x86_64.whl.metadata (14 kB)\n",
      "Collecting cloudpickle>=1.3 (from tf-agents==0.17.0->-r /app/requirements.txt (line 7))\n",
      "  Downloading cloudpickle-3.0.0-py3-none-any.whl.metadata (7.0 kB)\n",
      "Collecting gin-config>=0.4.0 (from tf-agents==0.17.0->-r /app/requirements.txt (line 7))\n",
      "  Downloading gin_config-0.5.0-py3-none-any.whl (61 kB)\n",
      "     ━━━━━━━━━━━━━━━━━━━━━━━━━━━━━━━━━━━━━━━ 61.3/61.3 kB 168.5 MB/s eta 0:00:00\n",
      "Collecting gym<=0.23.0,>=0.17.0 (from tf-agents==0.17.0->-r /app/requirements.txt (line 7))\n",
      "  Downloading gym-0.23.0.tar.gz (624 kB)\n",
      "     ━━━━━━━━━━━━━━━━━━━━━━━━━━━━━━━━━━━━━ 624.4/624.4 kB 244.0 MB/s eta 0:00:00\n",
      "  Installing build dependencies: started\n",
      "  Installing build dependencies: finished with status 'done'\n",
      "  Getting requirements to build wheel: started\n",
      "  Getting requirements to build wheel: finished with status 'done'\n",
      "  Preparing metadata (pyproject.toml): started\n",
      "  Preparing metadata (pyproject.toml): finished with status 'done'\n",
      "Collecting pygame==2.1.3 (from tf-agents==0.17.0->-r /app/requirements.txt (line 7))\n",
      "  Downloading pygame-2.1.3-cp310-cp310-manylinux_2_17_x86_64.manylinux2014_x86_64.whl (13.7 MB)\n",
      "     ━━━━━━━━━━━━━━━━━━━━━━━━━━━━━━━━━━━━━━━ 13.7/13.7 MB 221.7 MB/s eta 0:00:00\n",
      "Collecting tensorflow-probability~=0.20.1 (from tf-agents==0.17.0->-r /app/requirements.txt (line 7))\n",
      "  Downloading tensorflow_probability-0.20.1-py2.py3-none-any.whl.metadata (13 kB)\n",
      "Collecting google-auth<3.0dev,>=2.23.3 (from google-cloud-storage->-r /app/requirements.txt (line 2))\n",
      "  Downloading google_auth-2.23.4-py2.py3-none-any.whl.metadata (4.7 kB)\n",
      "Collecting google-cloud-core<3.0dev,>=2.3.0 (from google-cloud-storage->-r /app/requirements.txt (line 2))\n",
      "  Downloading google_cloud_core-2.3.3-py2.py3-none-any.whl.metadata (2.5 kB)\n",
      "Collecting google-resumable-media>=2.6.0 (from google-cloud-storage->-r /app/requirements.txt (line 2))\n",
      "  Downloading google_resumable_media-2.6.0-py2.py3-none-any.whl.metadata (2.1 kB)\n",
      "Collecting requests<3.0.0dev,>=2.18.0 (from google-cloud-storage->-r /app/requirements.txt (line 2))\n",
      "  Downloading requests-2.31.0-py3-none-any.whl.metadata (4.6 kB)\n",
      "Collecting google-crc32c<2.0dev,>=1.0 (from google-cloud-storage->-r /app/requirements.txt (line 2))\n",
      "  Downloading google_crc32c-1.5.0-cp310-cp310-manylinux_2_17_x86_64.manylinux2014_x86_64.whl (32 kB)\n",
      "Requirement already satisfied: wheel<1.0,>=0.23.0 in /usr/local/lib/python3.10/site-packages (from astunparse>=1.6.0->tensorflow==2.13.1->-r /app/requirements.txt (line 6)) (0.41.3)\n",
      "Collecting googleapis-common-protos<2.0.dev0,>=1.56.2 (from google-api-core!=2.0.*,!=2.1.*,!=2.2.*,!=2.3.*,!=2.4.*,!=2.5.*,!=2.6.*,!=2.7.*,<3.0.0dev,>=1.32.0->google-api-core[grpc]!=2.0.*,!=2.1.*,!=2.2.*,!=2.3.*,!=2.4.*,!=2.5.*,!=2.6.*,!=2.7.*,<3.0.0dev,>=1.32.0->google-cloud-aiplatform==1.33.1->-r /app/requirements.txt (line 1))\n",
      "  Downloading googleapis_common_protos-1.61.0-py2.py3-none-any.whl.metadata (1.5 kB)\n",
      "Collecting grpcio-status<2.0.dev0,>=1.33.2 (from google-api-core[grpc]!=2.0.*,!=2.1.*,!=2.2.*,!=2.3.*,!=2.4.*,!=2.5.*,!=2.6.*,!=2.7.*,<3.0.0dev,>=1.32.0->google-cloud-aiplatform==1.33.1->-r /app/requirements.txt (line 1))\n",
      "  Downloading grpcio_status-1.59.2-py3-none-any.whl.metadata (1.3 kB)\n",
      "Collecting cachetools<6.0,>=2.0.0 (from google-auth<3.0dev,>=2.23.3->google-cloud-storage->-r /app/requirements.txt (line 2))\n",
      "  Downloading cachetools-5.3.2-py3-none-any.whl.metadata (5.2 kB)\n",
      "Collecting pyasn1-modules>=0.2.1 (from google-auth<3.0dev,>=2.23.3->google-cloud-storage->-r /app/requirements.txt (line 2))\n",
      "  Downloading pyasn1_modules-0.3.0-py2.py3-none-any.whl (181 kB)\n",
      "     ━━━━━━━━━━━━━━━━━━━━━━━━━━━━━━━━━━━━━ 181.3/181.3 kB 222.0 MB/s eta 0:00:00\n",
      "Collecting rsa<5,>=3.1.4 (from google-auth<3.0dev,>=2.23.3->google-cloud-storage->-r /app/requirements.txt (line 2))\n",
      "  Downloading rsa-4.9-py3-none-any.whl (34 kB)\n",
      "Collecting python-dateutil<3.0dev,>=2.7.2 (from google-cloud-bigquery<4.0.0dev,>=1.15.0->google-cloud-aiplatform==1.33.1->-r /app/requirements.txt (line 1))\n",
      "  Downloading python_dateutil-2.8.2-py2.py3-none-any.whl (247 kB)\n",
      "     ━━━━━━━━━━━━━━━━━━━━━━━━━━━━━━━━━━━━━ 247.7/247.7 kB 226.9 MB/s eta 0:00:00\n",
      "Collecting grpc-google-iam-v1<1.0.0dev,>=0.12.4 (from google-cloud-resource-manager<3.0.0dev,>=1.3.3->google-cloud-aiplatform==1.33.1->-r /app/requirements.txt (line 1))\n",
      "  Downloading grpc_google_iam_v1-0.12.7-py2.py3-none-any.whl.metadata (3.3 kB)\n",
      "Collecting gym-notices>=0.0.4 (from gym<=0.23.0,>=0.17.0->tf-agents==0.17.0->-r /app/requirements.txt (line 7))\n",
      "  Downloading gym_notices-0.0.8-py3-none-any.whl (3.0 kB)\n",
      "Collecting charset-normalizer<4,>=2 (from requests<3.0.0dev,>=2.18.0->google-cloud-storage->-r /app/requirements.txt (line 2))\n",
      "  Downloading charset_normalizer-3.3.2-cp310-cp310-manylinux_2_17_x86_64.manylinux2014_x86_64.whl.metadata (33 kB)\n",
      "Requirement already satisfied: idna<4,>=2.5 in /usr/local/lib/python3.10/site-packages (from requests<3.0.0dev,>=2.18.0->google-cloud-storage->-r /app/requirements.txt (line 2)) (3.4)\n",
      "Requirement already satisfied: certifi>=2017.4.17 in /usr/local/lib/python3.10/site-packages (from requests<3.0.0dev,>=2.18.0->google-cloud-storage->-r /app/requirements.txt (line 2)) (2023.7.22)\n",
      "Collecting google-auth-oauthlib<1.1,>=0.5 (from tensorboard<2.14,>=2.13->tensorflow==2.13.1->-r /app/requirements.txt (line 6))\n",
      "  Downloading google_auth_oauthlib-1.0.0-py2.py3-none-any.whl (18 kB)\n",
      "Collecting markdown>=2.6.8 (from tensorboard<2.14,>=2.13->tensorflow==2.13.1->-r /app/requirements.txt (line 6))\n",
      "  Downloading Markdown-3.5.1-py3-none-any.whl.metadata (7.1 kB)\n",
      "Collecting tensorboard-data-server<0.8.0,>=0.7.0 (from tensorboard<2.14,>=2.13->tensorflow==2.13.1->-r /app/requirements.txt (line 6))\n",
      "  Downloading tensorboard_data_server-0.7.2-py3-none-manylinux_2_31_x86_64.whl.metadata (1.1 kB)\n",
      "Collecting werkzeug>=1.0.1 (from tensorboard<2.14,>=2.13->tensorflow==2.13.1->-r /app/requirements.txt (line 6))\n",
      "  Downloading werkzeug-3.0.1-py3-none-any.whl.metadata (4.1 kB)\n",
      "Collecting decorator (from tensorflow-probability~=0.20.1->tf-agents==0.17.0->-r /app/requirements.txt (line 7))\n",
      "  Downloading decorator-5.1.1-py3-none-any.whl (9.1 kB)\n",
      "Collecting dm-tree (from tensorflow-probability~=0.20.1->tf-agents==0.17.0->-r /app/requirements.txt (line 7))\n",
      "  Downloading dm_tree-0.1.8-cp310-cp310-manylinux_2_17_x86_64.manylinux2014_x86_64.whl (152 kB)\n",
      "     ━━━━━━━━━━━━━━━━━━━━━━━━━━━━━━━━━━━━━ 152.8/152.8 kB 209.2 MB/s eta 0:00:00\n",
      "Collecting requests-oauthlib>=0.7.0 (from google-auth-oauthlib<1.1,>=0.5->tensorboard<2.14,>=2.13->tensorflow==2.13.1->-r /app/requirements.txt (line 6))\n",
      "  Downloading requests_oauthlib-1.3.1-py2.py3-none-any.whl (23 kB)\n",
      "Collecting pyasn1<0.6.0,>=0.4.6 (from pyasn1-modules>=0.2.1->google-auth<3.0dev,>=2.23.3->google-cloud-storage->-r /app/requirements.txt (line 2))\n",
      "  Downloading pyasn1-0.5.0-py2.py3-none-any.whl (83 kB)\n",
      "     ━━━━━━━━━━━━━━━━━━━━━━━━━━━━━━━━━━━━━━━ 83.9/83.9 kB 198.9 MB/s eta 0:00:00\n",
      "Requirement already satisfied: MarkupSafe>=2.1.1 in /usr/local/lib/python3.10/site-packages (from werkzeug>=1.0.1->tensorboard<2.14,>=2.13->tensorflow==2.13.1->-r /app/requirements.txt (line 6)) (2.1.3)\n",
      "Collecting oauthlib>=3.0.0 (from requests-oauthlib>=0.7.0->google-auth-oauthlib<1.1,>=0.5->tensorboard<2.14,>=2.13->tensorflow==2.13.1->-r /app/requirements.txt (line 6))\n",
      "  Downloading oauthlib-3.2.2-py3-none-any.whl (151 kB)\n",
      "     ━━━━━━━━━━━━━━━━━━━━━━━━━━━━━━━━━━━━━ 151.7/151.7 kB 219.0 MB/s eta 0:00:00\n",
      "Downloading google_cloud_aiplatform-1.33.1-py2.py3-none-any.whl (2.9 MB)\n",
      "   ━━━━━━━━━━━━━━━━━━━━━━━━━━━━━━━━━━━━━━━━ 2.9/2.9 MB 227.7 MB/s eta 0:00:00\n",
      "Downloading tensorflow-2.13.1-cp310-cp310-manylinux_2_17_x86_64.manylinux2014_x86_64.whl (479.7 MB)\n",
      "   ━━━━━━━━━━━━━━━━━━━━━━━━━━━━━━━━━━━━━━━ 479.7/479.7 MB 196.2 MB/s eta 0:00:00\n",
      "Downloading tf_agents-0.17.0-py3-none-any.whl (1.4 MB)\n",
      "   ━━━━━━━━━━━━━━━━━━━━━━━━━━━━━━━━━━━━━━━━ 1.4/1.4 MB 252.0 MB/s eta 0:00:00\n",
      "Downloading google_cloud_storage-2.13.0-py2.py3-none-any.whl (121 kB)\n",
      "   ━━━━━━━━━━━━━━━━━━━━━━━━━━━━━━━━━━━━━━━ 121.1/121.1 kB 207.8 MB/s eta 0:00:00\n",
      "Downloading urllib3-2.1.0-py3-none-any.whl (104 kB)\n",
      "   ━━━━━━━━━━━━━━━━━━━━━━━━━━━━━━━━━━━━━━━ 104.6/104.6 kB 200.9 MB/s eta 0:00:00\n",
      "Downloading Pillow-10.1.0-cp310-cp310-manylinux_2_28_x86_64.whl (3.6 MB)\n",
      "   ━━━━━━━━━━━━━━━━━━━━━━━━━━━━━━━━━━━━━━━━ 3.6/3.6 MB 215.6 MB/s eta 0:00:00\n",
      "Downloading absl_py-2.0.0-py3-none-any.whl (130 kB)\n",
      "   ━━━━━━━━━━━━━━━━━━━━━━━━━━━━━━━━━━━━━━━ 130.2/130.2 kB 205.9 MB/s eta 0:00:00\n",
      "Downloading cloudpickle-3.0.0-py3-none-any.whl (20 kB)\n",
      "Downloading flatbuffers-23.5.26-py2.py3-none-any.whl (26 kB)\n",
      "Downloading google_api_core-2.14.0-py3-none-any.whl (122 kB)\n",
      "   ━━━━━━━━━━━━━━━━━━━━━━━━━━━━━━━━━━━━━━━ 122.2/122.2 kB 214.3 MB/s eta 0:00:00\n",
      "Downloading google_auth-2.23.4-py2.py3-none-any.whl (183 kB)\n",
      "   ━━━━━━━━━━━━━━━━━━━━━━━━━━━━━━━━━━━━━━━ 183.3/183.3 kB 219.7 MB/s eta 0:00:00\n",
      "Downloading google_cloud_bigquery-3.13.0-py2.py3-none-any.whl (222 kB)\n",
      "   ━━━━━━━━━━━━━━━━━━━━━━━━━━━━━━━━━━━━━━━ 222.8/222.8 kB 231.5 MB/s eta 0:00:00\n",
      "Downloading google_cloud_core-2.3.3-py2.py3-none-any.whl (29 kB)\n",
      "Downloading google_cloud_resource_manager-1.10.4-py2.py3-none-any.whl (320 kB)\n",
      "   ━━━━━━━━━━━━━━━━━━━━━━━━━━━━━━━━━━━━━━━ 321.0/321.0 kB 149.1 MB/s eta 0:00:00\n",
      "Downloading google_resumable_media-2.6.0-py2.py3-none-any.whl (80 kB)\n",
      "   ━━━━━━━━━━━━━━━━━━━━━━━━━━━━━━━━━━━━━━━━ 80.3/80.3 kB 193.7 MB/s eta 0:00:00\n",
      "Downloading grpcio-1.59.2-cp310-cp310-manylinux_2_17_x86_64.manylinux2014_x86_64.whl (5.3 MB)\n",
      "   ━━━━━━━━━━━━━━━━━━━━━━━━━━━━━━━━━━━━━━━━ 5.3/5.3 MB 210.9 MB/s eta 0:00:00\n",
      "Downloading h5py-3.10.0-cp310-cp310-manylinux_2_17_x86_64.manylinux2014_x86_64.whl (4.8 MB)\n",
      "   ━━━━━━━━━━━━━━━━━━━━━━━━━━━━━━━━━━━━━━━━ 4.8/4.8 MB 248.9 MB/s eta 0:00:00\n",
      "Downloading keras-2.13.1-py3-none-any.whl (1.7 MB)\n",
      "   ━━━━━━━━━━━━━━━━━━━━━━━━━━━━━━━━━━━━━━━━ 1.7/1.7 MB 235.3 MB/s eta 0:00:00\n",
      "Downloading libclang-16.0.6-py2.py3-none-manylinux2010_x86_64.whl (22.9 MB)\n",
      "   ━━━━━━━━━━━━━━━━━━━━━━━━━━━━━━━━━━━━━━━━ 22.9/22.9 MB 204.8 MB/s eta 0:00:00\n",
      "Downloading packaging-23.2-py3-none-any.whl (53 kB)\n",
      "   ━━━━━━━━━━━━━━━━━━━━━━━━━━━━━━━━━━━━━━━━ 53.0/53.0 kB 169.4 MB/s eta 0:00:00\n",
      "Downloading proto_plus-1.22.3-py3-none-any.whl (48 kB)\n",
      "   ━━━━━━━━━━━━━━━━━━━━━━━━━━━━━━━━━━━━━━━━ 48.1/48.1 kB 165.5 MB/s eta 0:00:00\n",
      "Downloading protobuf-4.25.0-cp37-abi3-manylinux2014_x86_64.whl (294 kB)\n",
      "   ━━━━━━━━━━━━━━━━━━━━━━━━━━━━━━━━━━━━━━━ 294.4/294.4 kB 241.5 MB/s eta 0:00:00\n",
      "Downloading requests-2.31.0-py3-none-any.whl (62 kB)\n",
      "   ━━━━━━━━━━━━━━━━━━━━━━━━━━━━━━━━━━━━━━━━ 62.6/62.6 kB 178.5 MB/s eta 0:00:00\n",
      "Downloading tensorflow_estimator-2.13.0-py2.py3-none-any.whl (440 kB)\n",
      "   ━━━━━━━━━━━━━━━━━━━━━━━━━━━━━━━━━━━━━━━ 440.8/440.8 kB 168.1 MB/s eta 0:00:00\n",
      "Downloading tensorflow_io_gcs_filesystem-0.34.0-cp310-cp310-manylinux_2_12_x86_64.manylinux2010_x86_64.whl (2.4 MB)\n",
      "   ━━━━━━━━━━━━━━━━━━━━━━━━━━━━━━━━━━━━━━━━ 2.4/2.4 MB 220.2 MB/s eta 0:00:00\n",
      "Downloading tensorflow_probability-0.20.1-py2.py3-none-any.whl (6.9 MB)\n",
      "   ━━━━━━━━━━━━━━━━━━━━━━━━━━━━━━━━━━━━━━━━ 6.9/6.9 MB 200.7 MB/s eta 0:00:00\n",
      "Downloading wrapt-1.16.0-cp310-cp310-manylinux_2_5_x86_64.manylinux1_x86_64.manylinux_2_17_x86_64.manylinux2014_x86_64.whl (80 kB)\n",
      "   ━━━━━━━━━━━━━━━━━━━━━━━━━━━━━━━━━━━━━━━━ 80.3/80.3 kB 184.0 MB/s eta 0:00:00\n",
      "Downloading cachetools-5.3.2-py3-none-any.whl (9.3 kB)\n",
      "Downloading charset_normalizer-3.3.2-cp310-cp310-manylinux_2_17_x86_64.manylinux2014_x86_64.whl (142 kB)\n",
      "   ━━━━━━━━━━━━━━━━━━━━━━━━━━━━━━━━━━━━━━━ 142.1/142.1 kB 214.3 MB/s eta 0:00:00\n",
      "Downloading googleapis_common_protos-1.61.0-py2.py3-none-any.whl (230 kB)\n",
      "   ━━━━━━━━━━━━━━━━━━━━━━━━━━━━━━━━━━━━━━━ 230.9/230.9 kB 237.5 MB/s eta 0:00:00\n",
      "Downloading grpc_google_iam_v1-0.12.7-py2.py3-none-any.whl (26 kB)\n",
      "Downloading grpcio_status-1.59.2-py3-none-any.whl (14 kB)\n",
      "Downloading Markdown-3.5.1-py3-none-any.whl (102 kB)\n",
      "   ━━━━━━━━━━━━━━━━━━━━━━━━━━━━━━━━━━━━━━━ 102.2/102.2 kB 205.5 MB/s eta 0:00:00\n",
      "Downloading tensorboard_data_server-0.7.2-py3-none-manylinux_2_31_x86_64.whl (6.6 MB)\n",
      "   ━━━━━━━━━━━━━━━━━━━━━━━━━━━━━━━━━━━━━━━━ 6.6/6.6 MB 42.5 MB/s eta 0:00:00\n",
      "Downloading werkzeug-3.0.1-py3-none-any.whl (226 kB)\n",
      "   ━━━━━━━━━━━━━━━━━━━━━━━━━━━━━━━━━━━━━━━ 226.7/226.7 kB 230.6 MB/s eta 0:00:00\n",
      "Building wheels for collected packages: gym\n",
      "  Building wheel for gym (pyproject.toml): started\n",
      "  Building wheel for gym (pyproject.toml): finished with status 'done'\n",
      "  Created wheel for gym: filename=gym-0.23.0-py3-none-any.whl size=697631 sha256=c6be0ba1e1ea9ab9bd7804b0dd87ae5367361c7eb5b0a9eb67aaeded3aa4ec0f\n",
      "  Stored in directory: /tmp/pip-ephem-wheel-cache-2o76ckil/wheels/3d/6f/b4/3991d4fae11d0ecb0754c11cc1b4e7745012850da4efaaf0b1\n",
      "Successfully built gym\n",
      "Installing collected packages: libclang, gym-notices, gin-config, flatbuffers, dm-tree, wrapt, werkzeug, urllib3, typing-extensions, termcolor, tensorflow-io-gcs-filesystem, tensorflow-estimator, tensorboard-data-server, six, shapely, pygame, pyasn1, protobuf, pillow, packaging, oauthlib, numpy, markdown, keras, grpcio, google-crc32c, gast, decorator, cloudpickle, charset-normalizer, cachetools, absl-py, tensorflow-probability, rsa, requests, python-dateutil, pyasn1-modules, proto-plus, opt-einsum, h5py, gym, googleapis-common-protos, google-resumable-media, google-pasta, astunparse, tf-agents, requests-oauthlib, grpcio-status, google-auth, grpc-google-iam-v1, google-auth-oauthlib, google-api-core, tensorboard, google-cloud-core, tensorflow, google-cloud-storage, google-cloud-resource-manager, google-cloud-bigquery, google-cloud-aiplatform\n",
      "  Attempting uninstall: typing-extensions\n",
      "    Found existing installation: typing_extensions 4.8.0\n",
      "    Uninstalling typing_extensions-4.8.0:\n",
      "      Successfully uninstalled typing_extensions-4.8.0\n",
      "Successfully installed absl-py-2.0.0 astunparse-1.6.3 cachetools-5.3.2 charset-normalizer-3.3.2 cloudpickle-3.0.0 decorator-5.1.1 dm-tree-0.1.8 flatbuffers-23.5.26 gast-0.4.0 gin-config-0.5.0 google-api-core-2.14.0 google-auth-2.23.4 google-auth-oauthlib-1.0.0 google-cloud-aiplatform-1.33.1 google-cloud-bigquery-3.13.0 google-cloud-core-2.3.3 google-cloud-resource-manager-1.10.4 google-cloud-storage-2.13.0 google-crc32c-1.5.0 google-pasta-0.2.0 google-resumable-media-2.6.0 googleapis-common-protos-1.61.0 grpc-google-iam-v1-0.12.7 grpcio-1.59.2 grpcio-status-1.59.2 gym-0.23.0 gym-notices-0.0.8 h5py-3.10.0 keras-2.13.1 libclang-16.0.6 markdown-3.5.1 numpy-1.24.3 oauthlib-3.2.2 opt-einsum-3.3.0 packaging-23.2 pillow-10.1.0 proto-plus-1.22.3 protobuf-4.25.0 pyasn1-0.5.0 pyasn1-modules-0.3.0 pygame-2.1.3 python-dateutil-2.8.2 requests-2.31.0 requests-oauthlib-1.3.1 rsa-4.9 shapely-1.8.5.post1 six-1.16.0 tensorboard-2.13.0 tensorboard-data-server-0.7.2 tensorflow-2.13.1 tensorflow-estimator-2.13.0 tensorflow-io-gcs-filesystem-0.34.0 tensorflow-probability-0.20.1 termcolor-2.3.0 tf-agents-0.17.0 typing-extensions-4.5.0 urllib3-2.1.0 werkzeug-3.0.1 wrapt-1.16.0\n",
      "\u001b[91mWARNING: Running pip as the 'root' user can result in broken permissions and conflicting behaviour with the system package manager. It is recommended to use a virtual environment instead: https://pip.pypa.io/warnings/venv\n",
      "\u001b[0mRemoving intermediate container b5f3234b266f\n",
      " ---> 19d8b2dbe31b\n",
      "Step 8/9 : EXPOSE 80\n",
      " ---> Running in e9a04c6339b8\n",
      "Removing intermediate container e9a04c6339b8\n",
      " ---> b1c54685e964\n",
      "Step 9/9 : CMD [\"sh\", \"-c\", \"uvicorn main:app --host 0.0.0.0 --port $AIP_HTTP_PORT\"]\n",
      " ---> Running in 1c9474a5b7ea\n",
      "Removing intermediate container 1c9474a5b7ea\n",
      " ---> fa1437f7db67\n",
      "Successfully built fa1437f7db67\n",
      "Successfully tagged gcr.io/hybrid-vertex/pred-perarm-feats-02e:latest\n",
      "PUSH\n",
      "Pushing gcr.io/hybrid-vertex/pred-perarm-feats-02e\n",
      "The push refers to repository [gcr.io/hybrid-vertex/pred-perarm-feats-02e]\n",
      "2296c18ce74a: Preparing\n",
      "604053bd020d: Preparing\n",
      "1dcbc342f278: Preparing\n",
      "f458ee667b3f: Preparing\n",
      "5943f8a4c9d7: Preparing\n",
      "5f70bf18a086: Preparing\n",
      "3a35806054ee: Preparing\n",
      "04cbdf61bc40: Preparing\n",
      "0ccd13277e8a: Preparing\n",
      "2c1259f73ea3: Preparing\n",
      "ebdacb31f761: Preparing\n",
      "3081c3d12e2c: Preparing\n",
      "e61eae33bdcb: Preparing\n",
      "6494d6ae00cf: Preparing\n",
      "1e3fbde8cc06: Preparing\n",
      "2c28a1134d49: Preparing\n",
      "cbbb99b21213: Preparing\n",
      "86e50e0709ee: Preparing\n",
      "12b956927ba2: Preparing\n",
      "266def75d28e: Preparing\n",
      "29e49b59edda: Preparing\n",
      "1777ac7d307b: Preparing\n",
      "e61eae33bdcb: Waiting\n",
      "6494d6ae00cf: Waiting\n",
      "1e3fbde8cc06: Waiting\n",
      "2c28a1134d49: Waiting\n",
      "cbbb99b21213: Waiting\n",
      "86e50e0709ee: Waiting\n",
      "12b956927ba2: Waiting\n",
      "266def75d28e: Waiting\n",
      "29e49b59edda: Waiting\n",
      "1777ac7d307b: Waiting\n",
      "0ccd13277e8a: Waiting\n",
      "5f70bf18a086: Waiting\n",
      "3a35806054ee: Waiting\n",
      "3081c3d12e2c: Waiting\n",
      "04cbdf61bc40: Waiting\n",
      "5943f8a4c9d7: Layer already exists\n",
      "f458ee667b3f: Layer already exists\n",
      "1dcbc342f278: Layer already exists\n",
      "5f70bf18a086: Layer already exists\n",
      "3a35806054ee: Layer already exists\n",
      "04cbdf61bc40: Layer already exists\n",
      "0ccd13277e8a: Layer already exists\n",
      "2c1259f73ea3: Layer already exists\n",
      "ebdacb31f761: Layer already exists\n",
      "3081c3d12e2c: Layer already exists\n",
      "e61eae33bdcb: Layer already exists\n",
      "6494d6ae00cf: Layer already exists\n",
      "2c28a1134d49: Layer already exists\n",
      "1e3fbde8cc06: Layer already exists\n",
      "cbbb99b21213: Layer already exists\n",
      "86e50e0709ee: Layer already exists\n",
      "12b956927ba2: Layer already exists\n",
      "266def75d28e: Layer already exists\n",
      "29e49b59edda: Layer already exists\n",
      "1777ac7d307b: Layer already exists\n",
      "604053bd020d: Pushed\n",
      "2296c18ce74a: Pushed\n",
      "latest: digest: sha256:5dceda427735962d99ef9b03ebe2c86ecac9e0d55ea2038a4f149f72d1a99517 size: 4921\n",
      "DONE\n",
      "--------------------------------------------------------------------------------\n",
      "ID                                    CREATE_TIME                DURATION  SOURCE                                                                                       IMAGES                                                STATUS\n",
      "c9f3737a-5929-4e1a-9c5b-50b210ae130d  2023-11-15T11:07:50+00:00  2M58S     gs://hybrid-vertex_cloudbuild/source/1700046469.187503-dcbf29813b914ce4b252c64e7e879c14.tgz  gcr.io/hybrid-vertex/pred-perarm-feats-02e (+1 more)  SUCCESS\n"
     ]
    }
   ],
   "source": [
    "! gcloud builds submit --config ./cloudbuild.yaml \\\n",
    "    --substitutions _DOCKERNAME=$DOCKERNAME_02_PRED,_IMAGE_URI=$IMAGE_URI_02_PRED,_FILE_LOCATION=$FILE_LOCATION \\\n",
    "    --timeout=2h \\\n",
    "    --machine-type=$MACHINE_TYPE"
   ]
  },
  {
   "cell_type": "markdown",
   "id": "acce630d-7b39-4321-bfc9-dd47a0f7364c",
   "metadata": {
    "jp-MarkdownHeadingCollapsed": true,
    "tags": []
   },
   "source": [
    "## (Optional) Build Image Locally"
   ]
  },
  {
   "cell_type": "code",
   "execution_count": 23,
   "id": "99614fd9-75e7-4665-b6d7-a95fbd5adfcf",
   "metadata": {},
   "outputs": [],
   "source": [
    "ARTIFACTS_DIR = 'gs://rec-bandits-v2-hybrid-vertex-bucket/scale-comparisons-v1/run-20231107-161324/artifacts'"
   ]
  },
  {
   "cell_type": "code",
   "execution_count": 24,
   "id": "3330e8a3-a90c-4f9f-98f7-378e20f67823",
   "metadata": {},
   "outputs": [
    {
     "name": "stdout",
     "output_type": "stream",
     "text": [
      "gcloud auth configure-docker us-central1-docker.pkg.dev\n"
     ]
    }
   ],
   "source": [
    "# ! gcloud auth configure-docker $REGION-docker.pkg.dev --quiet\n",
    "print(f\"gcloud auth configure-docker {REGION}-docker.pkg.dev\")"
   ]
  },
  {
   "cell_type": "code",
   "execution_count": 25,
   "id": "2af96f30-3b81-4e6b-90d2-7e944a515a10",
   "metadata": {},
   "outputs": [
    {
     "name": "stdout",
     "output_type": "stream",
     "text": [
      "copy these commands into terminal:\n",
      "\n",
      "virtualenv vertex_env\n",
      "source vertex_env/bin/activate\n"
     ]
    }
   ],
   "source": [
    "print(\"copy these commands into terminal:\\n\")\n",
    "print(f\"virtualenv vertex_env\")\n",
    "print(f\"source vertex_env/bin/activate\")"
   ]
  },
  {
   "cell_type": "code",
   "execution_count": 27,
   "id": "0ec27f8d-4ff6-45fc-a0b6-34728dabf539",
   "metadata": {
    "tags": []
   },
   "outputs": [
    {
     "name": "stdout",
     "output_type": "stream",
     "text": [
      "copy these commands into terminal:\n",
      "\n",
      "cd serve\n",
      "export REMOTE_IMAGE_NAME=us-central1-docker.pkg.dev/hybrid-vertex/rl-movielens-rec-bandits-v2/pred-perarm-feats-02e\n",
      "export DOCKERNAME=Dockerfile_predict_mab_02e\n",
      "export ARTIFACTS_DIR=gs://rec-bandits-v2-hybrid-vertex-bucket/scale-comparisons-v1/run-20231107-161324/artifacts\n",
      "export IMAGE_NAME_02_PRED=pred-perarm-feats-02e\n",
      "docker build --no-cache -t $REMOTE_IMAGE_NAME -f ./$DOCKERNAME .\n"
     ]
    }
   ],
   "source": [
    "# # set variables if running in terminal\n",
    "print(\"copy these commands into terminal:\\n\")\n",
    "print(f\"cd {SERVING_DIR}\")\n",
    "print(f\"export REMOTE_IMAGE_NAME={REMOTE_IMAGE_NAME}\")\n",
    "print(f\"export DOCKERNAME={DOCKERNAME_02_PRED}\")\n",
    "print(f\"export ARTIFACTS_DIR={ARTIFACTS_DIR}\")\n",
    "print(f\"export IMAGE_NAME_02_PRED={IMAGE_NAME_02_PRED}\")\n",
    "\n",
    "print(f\"docker build --no-cache -t $REMOTE_IMAGE_NAME -f ./$DOCKERNAME .\")\n",
    "# print(f\"docker build --no-cache -t $REMOTE_IMAGE_NAME -f ./src/pred/$DOCKERNAME .\")"
   ]
  },
  {
   "cell_type": "code",
   "execution_count": 39,
   "id": "d559618b-0fb7-49c2-8931-d31b056a0802",
   "metadata": {},
   "outputs": [
    {
     "name": "stdout",
     "output_type": "stream",
     "text": [
      "copy this command into terminal:\n",
      "\n",
      "docker push $REMOTE_IMAGE_NAME\n"
     ]
    }
   ],
   "source": [
    "# ### push the container to registry\n",
    "\n",
    "print(\"copy this command into terminal:\\n\")\n",
    "print(f\"docker push $REMOTE_IMAGE_NAME\")\n",
    "\n",
    "# !docker push $REMOTE_IMAGE_NAME"
   ]
  },
  {
   "cell_type": "code",
   "execution_count": 28,
   "id": "a8d250d0-8c35-4abb-989e-095a3b440590",
   "metadata": {},
   "outputs": [
    {
     "name": "stdout",
     "output_type": "stream",
     "text": [
      "429bab9f02d672e92bc7a319f99ff7070c0e2af8e4e5e57a0797cb931a65bff8\n",
      "CONTAINER ID   IMAGE                                                                                        COMMAND                  CREATED                  STATUS                  PORTS                                                 NAMES\n",
      "429bab9f02d6   us-central1-docker.pkg.dev/hybrid-vertex/rl-movielens-rec-bandits-v2/pred-perarm-feats-02e   \"/entrypoint.sh sh -…\"   Less than a second ago   Up Less than a second   0.0.0.0:7080->7080/tcp, :::7080->7080/tcp, 8080/tcp   pred-perarm-feats-02e\n"
     ]
    }
   ],
   "source": [
    "# ! docker rm local-fastapi 2>/dev/null\n",
    "docker run -t -d -p 7080:7080 \\\n",
    "    --name=local-fastapi \\\n",
    "    -e AIP_HTTP_PORT=7080 \\\n",
    "    -e AIP_HEALTH_ROUTE=/health \\\n",
    "    -e AIP_PREDICT_ROUTE=/predict \\\n",
    "    -e AIP_STORAGE_URI=$ARTIFACTS_DIR \\\n",
    "    -e AIP_MODEL_DIR=$ARTIFACTS_DIR \\\n",
    "    $REMOTE_IMAGE_NAME\n",
    "! docker container ls"
   ]
  },
  {
   "cell_type": "code",
   "execution_count": 33,
   "id": "569d0ab7-2b31-4eb1-9971-9492301c190f",
   "metadata": {},
   "outputs": [
    {
     "name": "stdout",
     "output_type": "stream",
     "text": [
      "Error response from daemon: No such container: pred-perarm-feats-02e\n"
     ]
    }
   ],
   "source": [
    "# ! docker stop $IMAGE_NAME_02_PRED"
   ]
  },
  {
   "cell_type": "code",
   "execution_count": 57,
   "id": "c9d55ae0-45e6-49fc-8ca6-42925181f6f7",
   "metadata": {},
   "outputs": [
    {
     "name": "stdout",
     "output_type": "stream",
     "text": [
      "copy this command into terminal:\n",
      "\n",
      "\n",
      "docker run -d -p 80:8080 --name=$IMAGE_NAME_02_PRED -e AIP_HTTP_PORT=8080 -e AIP_HEALTH_ROUTE=/health -e AIP_PREDICT_ROUTE=/predict -e AIP_STORAGE_URI=$ARTIFACTS_DIR $REMOTE_IMAGE_NAME\n",
      "\n"
     ]
    }
   ],
   "source": [
    "# print(\"copy this command into terminal:\\n\")\n",
    "# COMMAND=f'''\n",
    "# docker run -d -p 80:8080 --name=$IMAGE_NAME_02_PRED -e AIP_HTTP_PORT=8080 -e AIP_HEALTH_ROUTE=/health -e AIP_PREDICT_ROUTE=/predict -e AIP_STORAGE_URI=$ARTIFACTS_DIR $REMOTE_IMAGE_NAME\n",
    "# '''\n",
    "# print(COMMAND)"
   ]
  },
  {
   "cell_type": "code",
   "execution_count": 30,
   "id": "3975b8b6-1ecf-4468-bb08-5cdd83aa83a7",
   "metadata": {},
   "outputs": [
    {
     "name": "stdout",
     "output_type": "stream",
     "text": [
      "curl: (7) Failed to connect to localhost port 7080: Connection refused\n"
     ]
    }
   ],
   "source": [
    "# print(\"copy this command into terminal:\\n\")\n",
    "# print(f\"curl localhost/health\")\n",
    "\n",
    "# ! curl localhost/health\n",
    "\n",
    "! curl http://localhost:7080/health"
   ]
  },
  {
   "cell_type": "code",
   "execution_count": 40,
   "id": "dbc68bbf-b5cd-422f-b840-1b09de2eb944",
   "metadata": {},
   "outputs": [
    {
     "name": "stdout",
     "output_type": "stream",
     "text": [
      "copy this command into terminal:\n",
      "\n",
      "docker kill $REMOTE_IMAGE_NAME\n"
     ]
    }
   ],
   "source": [
    "print(\"copy this command into terminal:\\n\")\n",
    "# print(f\"docker kill $IMAGE_NAME_02_PRED\")\n",
    "print(f\"docker kill $REMOTE_IMAGE_NAME\")"
   ]
  },
  {
   "cell_type": "code",
   "execution_count": 37,
   "id": "768a5f17-3fcc-44bc-8d1b-646eb712abd9",
   "metadata": {},
   "outputs": [
    {
     "name": "stdout",
     "output_type": "stream",
     "text": [
      "copy this command into terminal:\n",
      "\n",
      "docker rm $REMOTE_IMAGE_NAME\n"
     ]
    }
   ],
   "source": [
    "print(\"copy this command into terminal:\\n\")\n",
    "# print(f\"docker rm $IMAGE_NAME_02_PRED\")\n",
    "print(f\"docker rm $REMOTE_IMAGE_NAME\")"
   ]
  },
  {
   "cell_type": "markdown",
   "id": "e0a4b80c-3c0d-418a-ba68-100ebf46a31a",
   "metadata": {
    "tags": []
   },
   "source": [
    "# Debugging pred container"
   ]
  },
  {
   "cell_type": "markdown",
   "id": "927d3986-5bbd-4e7d-895d-600494951736",
   "metadata": {
    "tags": []
   },
   "source": [
    "## tmp - Vertex AI Local Predict\n",
    "\n",
    "* [source](https://github.com/GoogleCloudPlatform/vertex-ai-samples/blob/main/notebooks/community/prediction/custom_prediction_routines/SDK_Triton_PyTorch_Local_Prediction.ipynb)"
   ]
  },
  {
   "cell_type": "code",
   "execution_count": 82,
   "id": "7c7bc973-1a7f-4a7d-ae9b-234bb9719cd2",
   "metadata": {},
   "outputs": [],
   "source": [
    "CREDENTIALS_FILE = \"./credentials.json\"\n",
    "# CREDENTIALS_FILE = \"/home/jupyter/.config/gcloud/application_default_credentials.json\""
   ]
  },
  {
   "cell_type": "code",
   "execution_count": 83,
   "id": "71b4ae5f-f0d5-403e-bb5e-34140ec4ed16",
   "metadata": {},
   "outputs": [
    {
     "name": "stdout",
     "output_type": "stream",
     "text": [
      "created key [7afabb0cfe6a9d4edbec8bcb0854f45f460ac3ed] of type [json] as [./credentials.json] for [934903580331-compute@developer.gserviceaccount.com]\n"
     ]
    }
   ],
   "source": [
    "!gcloud iam service-accounts keys create $CREDENTIALS_FILE \\\n",
    "    --iam-account=$VERTEX_SA"
   ]
  },
  {
   "cell_type": "code",
   "execution_count": 61,
   "id": "715fe742-116c-4f82-aadd-fea04fdbd6e6",
   "metadata": {},
   "outputs": [],
   "source": [
    "from google.cloud.aiplatform.prediction import LocalModel\n",
    "\n",
    "local_model = LocalModel(\n",
    "    serving_container_image_uri=REMOTE_IMAGE_NAME,\n",
    "    serving_container_predict_route=\"/predict\",\n",
    "    serving_container_health_route=\"/health\",\n",
    "    serving_container_ports=[8080],\n",
    ")"
   ]
  },
  {
   "cell_type": "markdown",
   "id": "dad52c05-d047-45f8-9985-3de25892f535",
   "metadata": {},
   "source": [
    "You can check out the serving container spec of the image."
   ]
  },
  {
   "cell_type": "code",
   "execution_count": 62,
   "id": "20f45615-f781-49e7-b45a-05a5947074bf",
   "metadata": {},
   "outputs": [
    {
     "data": {
      "text/plain": [
       "image_uri: \"us-central1-docker.pkg.dev/hybrid-vertex/rl-movielens-rec-bandits-v2/pred-perarm-feats-03\"\n",
       "ports {\n",
       "  container_port: 8080\n",
       "}\n",
       "predict_route: \"/predict\"\n",
       "health_route: \"/health\""
      ]
     },
     "execution_count": 62,
     "metadata": {},
     "output_type": "execute_result"
    }
   ],
   "source": [
    "local_model.get_serving_container_spec()"
   ]
  },
  {
   "cell_type": "code",
   "execution_count": 64,
   "id": "11d4e3ba-82dd-40dd-9639-3e7e14db815c",
   "metadata": {},
   "outputs": [],
   "source": [
    "# local_model."
   ]
  },
  {
   "cell_type": "code",
   "execution_count": 65,
   "id": "aad897e5-e4c4-46d2-b83f-442cdfbfadbe",
   "metadata": {},
   "outputs": [],
   "source": [
    "INPUT_FILE = \"pred_instances.json\""
   ]
  },
  {
   "cell_type": "code",
   "execution_count": 66,
   "id": "293beb63-09af-439f-9e96-eaad55ee5e31",
   "metadata": {},
   "outputs": [
    {
     "name": "stdout",
     "output_type": "stream",
     "text": [
      "Writing pred_instances.json\n"
     ]
    }
   ],
   "source": [
    "%%writefile $INPUT_FILE\n",
    "{\n",
    "    \"instances\": [\n",
    "        {\n",
    "            'bucketized_user_age': 25.0,\n",
    "            'movie_genres':[4],\n",
    "            'movie_id': '211',\n",
    "            'timestamp':874948475,\n",
    "            'user_id': '346',\n",
    "            'user_occupation_text':'other',\n",
    "            'user_rating': 4.,\n",
    "        }\n",
    "    ]\n",
    "}"
   ]
  },
  {
   "cell_type": "code",
   "execution_count": 84,
   "id": "02fcd078-7afd-4f93-a5e9-e02fbd1b8bd7",
   "metadata": {
    "tags": []
   },
   "outputs": [],
   "source": [
    "with local_model.deploy_to_local_endpoint(\n",
    "    artifact_uri=ARTIFACTS_DIR,\n",
    "    credential_path=CREDENTIALS_FILE,\n",
    ") as local_endpoint:\n",
    "    predict_response = local_endpoint.predict(\n",
    "        request_file=INPUT_FILE,\n",
    "        headers={\"Content-Type\": \"application/json\"},\n",
    "    )\n",
    "\n",
    "    health_check_response = local_endpoint.run_health_check()"
   ]
  },
  {
   "cell_type": "code",
   "execution_count": 85,
   "id": "8b7a0aba-0b3e-41d7-9b28-a95621a8e37d",
   "metadata": {},
   "outputs": [
    {
     "name": "stdout",
     "output_type": "stream",
     "text": [
      "<Response [500]> b'Internal Server Error'\n"
     ]
    }
   ],
   "source": [
    "print(predict_response, predict_response.content)"
   ]
  },
  {
   "cell_type": "code",
   "execution_count": 86,
   "id": "e4dce578-082b-4561-b972-9d8a975e58bc",
   "metadata": {},
   "outputs": [
    {
     "name": "stdout",
     "output_type": "stream",
     "text": [
      "<Response [200]> b'{}'\n"
     ]
    }
   ],
   "source": [
    "print(health_check_response, health_check_response.content)"
   ]
  },
  {
   "cell_type": "code",
   "execution_count": 87,
   "id": "5a769a1d-d8e4-42be-8a79-acea6ec60ae5",
   "metadata": {},
   "outputs": [],
   "source": [
    "local_endpoint.print_container_logs(show_all=True)"
   ]
  },
  {
   "cell_type": "markdown",
   "id": "609edd5a-22b2-4581-adc9-56f67a318d6c",
   "metadata": {
    "tags": []
   },
   "source": [
    "### test local predict from remote image"
   ]
  },
  {
   "cell_type": "code",
   "execution_count": 72,
   "id": "3e49875c-66ac-40fe-9f86-b197ca9b98ee",
   "metadata": {},
   "outputs": [
    {
     "name": "stderr",
     "output_type": "stream",
     "text": [
      "/opt/conda/lib/python3.10/subprocess.py:955: RuntimeWarning: line buffering (buffering=1) isn't supported in binary mode, the default buffer size will be used\n",
      "  self.stdin = io.open(p2cwrite, 'wb', bufsize)\n",
      "/opt/conda/lib/python3.10/subprocess.py:961: RuntimeWarning: line buffering (buffering=1) isn't supported in binary mode, the default buffer size will be used\n",
      "  self.stdout = io.open(c2pread, 'rb', bufsize)\n"
     ]
    },
    {
     "data": {
      "text/plain": [
       "image_uri: \"us-central1-docker.pkg.dev/hybrid-vertex/rl-movielens-rec-bandits-v2/pred-perarm-feats-03\"\n",
       "ports {\n",
       "  container_port: 8080\n",
       "}\n",
       "predict_route: \"/predict\"\n",
       "health_route: \"/health\""
      ]
     },
     "execution_count": 72,
     "metadata": {},
     "output_type": "execute_result"
    }
   ],
   "source": [
    "local_model_ar = local_model.copy_image(\n",
    "    f\"{REGION}-docker.pkg.dev/{PROJECT_ID}/{REPOSITORY}/{IMAGE_NAME_02_PRED}\"\n",
    ")\n",
    "\n",
    "local_model_ar.get_serving_container_spec()"
   ]
  },
  {
   "cell_type": "code",
   "execution_count": null,
   "id": "31d4c40e-c8d4-4f2e-b5ea-4e0827a21f12",
   "metadata": {},
   "outputs": [],
   "source": [
    "# local_model_ar."
   ]
  },
  {
   "cell_type": "markdown",
   "id": "c0a98bfc-0ae8-4870-b55e-c7ca4ab49a82",
   "metadata": {
    "tags": []
   },
   "source": [
    "## tmp - jw docker predict\n",
    "\n",
    "* [source](https://github.com/jswortz/google-vertex-cpr-pipeline-example/blob/master/SDK_Pytorch_Custom_Predict-MLOps-Edition.ipynb)"
   ]
  },
  {
   "cell_type": "code",
   "execution_count": 46,
   "id": "2ac6a3b8-82d5-4935-bc15-bb0041312bf6",
   "metadata": {},
   "outputs": [
    {
     "data": {
      "text/plain": [
       "'MjEx'"
      ]
     },
     "execution_count": 46,
     "metadata": {},
     "output_type": "execute_result"
    }
   ],
   "source": [
    "base64_test = base64.b64encode(b'211').decode(\"utf-8\")\n",
    "base64_test"
   ]
  },
  {
   "cell_type": "code",
   "execution_count": 57,
   "id": "7c5b5bb2-19a9-406a-a54e-b741368c53e0",
   "metadata": {},
   "outputs": [
    {
     "name": "stdout",
     "output_type": "stream",
     "text": [
      "[{'bucketized_user_age': 25.0,\n",
      "  'movie_genres': [4],\n",
      "  'movie_id': '211',\n",
      "  'timestamp': 874948475,\n",
      "  'user_id': '346',\n",
      "  'user_occupation_text': 'other',\n",
      "  'user_rating': 4.0}]\n"
     ]
    }
   ],
   "source": [
    "import requests\n",
    "import json\n",
    "from pprint import pprint\n",
    "import base64\n",
    "\n",
    "TEST_INSTANCE = [\n",
    "    {\n",
    "        'bucketized_user_age': 25.0,\n",
    "        'movie_genres':[4],\n",
    "        'movie_id': '211',\n",
    "        'timestamp':874948475,\n",
    "        'user_id': '346',\n",
    "        'user_occupation_text':'other',\n",
    "        'user_rating': 4.,\n",
    "    }\n",
    "]\n",
    "\n",
    "# TEST_INSTANCE = [{\n",
    "#     'bucketized_user_age': 25.,\n",
    "#     'movie_genres':[4],\n",
    "#     'movie_id': base64.b64encode(b'211').decode(\"utf-8\"),\n",
    "#     'timestamp':[874948475],\n",
    "#     'user_id': base64.b64encode(b'346').decode(\"utf-8\"),\n",
    "#     'user_occupation_text':base64.b64encode(b'other').decode(\"utf-8\"),\n",
    "#     'user_rating': [4.],\n",
    "# }]\n",
    "pprint(TEST_INSTANCE)"
   ]
  },
  {
   "cell_type": "code",
   "execution_count": 76,
   "id": "7e48ddce-7dea-4a39-9b6e-8b4f6b9f5c37",
   "metadata": {},
   "outputs": [
    {
     "name": "stdout",
     "output_type": "stream",
     "text": [
      "Google formatted instance:  {\"instances\": [{\"bucketized_user_age\": 25.0, \"movie_genres\": [4], \"movie_id\": \"211\", \"timestamp\": 874948475, \"user_id\": \"346\", \"user_occupation_text\": \"other\", \"user_rating\": 4.0}]}\n"
     ]
    }
   ],
   "source": [
    "json_instance = json.dumps({\"instances\": TEST_INSTANCE})\n",
    "\n",
    "print(\"Google formatted instance: \", json_instance)"
   ]
  },
  {
   "cell_type": "code",
   "execution_count": 42,
   "id": "3c1e0778-e9c7-43f6-a4cc-a877cbaf765c",
   "metadata": {},
   "outputs": [],
   "source": [
    "# requests.post('http://localhost/predict', data=json_instance).json()"
   ]
  },
  {
   "cell_type": "markdown",
   "id": "06e2a13e-7870-45b0-813f-4a93ebb89019",
   "metadata": {
    "jp-MarkdownHeadingCollapsed": true,
    "tags": []
   },
   "source": [
    "### tmp - http response body"
   ]
  },
  {
   "cell_type": "code",
   "execution_count": 58,
   "id": "842f0754-dee6-4182-88ef-a38fe62c32d8",
   "metadata": {},
   "outputs": [
    {
     "data": {
      "text/plain": [
       "content_type: \"application/json\"\n",
       "data: \"[{\\\"bucketized_user_age\\\": 25.0, \\\"movie_genres\\\": [4], \\\"movie_id\\\": \\\"211\\\", \\\"timestamp\\\": 874948475, \\\"user_id\\\": \\\"346\\\", \\\"user_occupation_text\\\": \\\"other\\\", \\\"user_rating\\\": 4.0}]\""
      ]
     },
     "execution_count": 58,
     "metadata": {},
     "output_type": "execute_result"
    }
   ],
   "source": [
    "from google.api import httpbody_pb2\n",
    "\n",
    "http_body = httpbody_pb2.HttpBody(\n",
    "    data=json.dumps(TEST_INSTANCE).encode(\"utf-8\"),\n",
    "    content_type=\"application/json\",\n",
    ")\n",
    "\n",
    "http_body"
   ]
  },
  {
   "cell_type": "code",
   "execution_count": 78,
   "id": "5fd7a369-7cec-4f17-8676-548f31049189",
   "metadata": {},
   "outputs": [],
   "source": [
    "# requests.post('http://localhost/predict', data=http_body).json()"
   ]
  },
  {
   "cell_type": "code",
   "execution_count": 33,
   "id": "d53c3946-b1f6-4cba-9330-3cba04ad98b5",
   "metadata": {},
   "outputs": [
    {
     "data": {
      "text/plain": [
       "{'instances': {'bucketized_user_age': [25.0],\n",
       "  'movie_genres': [[4]],\n",
       "  'movie_id': ['211'],\n",
       "  'timestamp': [874948475],\n",
       "  'user_id': ['346'],\n",
       "  'user_occupation_text': ['other'],\n",
       "  'user_rating': [4.0]}}"
      ]
     },
     "execution_count": 33,
     "metadata": {},
     "output_type": "execute_result"
    }
   ],
   "source": [
    "contents = json.loads(json_instance)\n",
    "contents"
   ]
  },
  {
   "cell_type": "markdown",
   "id": "00aab49c-7f99-44ce-a7da-ade0697a0109",
   "metadata": {},
   "source": [
    "# Register and Deploy policy"
   ]
  },
  {
   "cell_type": "code",
   "execution_count": 94,
   "id": "9fa07c23-b38b-4e3d-be1b-5a18313afa12",
   "metadata": {},
   "outputs": [],
   "source": [
    "from google.cloud import aiplatform as vertex_ai\n",
    "from google.cloud import storage\n",
    "\n",
    "from tf_agents.policies import py_tf_eager_policy"
   ]
  },
  {
   "cell_type": "code",
   "execution_count": 29,
   "id": "64482b92-4b4c-47fc-a281-9cb1255e890a",
   "metadata": {},
   "outputs": [
    {
     "name": "stdout",
     "output_type": "stream",
     "text": [
      "DOCKERNAME_02_PRED = Dockerfile_predict_mab_02e\n",
      "REPOSITORY         = rl-movielens-rec-bandits-v2\n",
      "IMAGE_NAME_02_PRED = pred-perarm-feats-02e\n",
      "IMAGE_URI_02_PRED  = gcr.io/hybrid-vertex/pred-perarm-feats-02e\n",
      "REMOTE_IMAGE_NAME  = us-central1-docker.pkg.dev/hybrid-vertex/rl-movielens-rec-bandits-v2/pred-perarm-feats-02e\n"
     ]
    }
   ],
   "source": [
    "print(f\"DOCKERNAME_02_PRED = {DOCKERNAME_02_PRED}\")\n",
    "print(f\"REPOSITORY         = {REPOSITORY}\")\n",
    "print(f\"IMAGE_NAME_02_PRED = {IMAGE_NAME_02_PRED}\")\n",
    "print(f\"IMAGE_URI_02_PRED  = {IMAGE_URI_02_PRED}\")\n",
    "print(f\"REMOTE_IMAGE_NAME  = {REMOTE_IMAGE_NAME}\")"
   ]
  },
  {
   "cell_type": "markdown",
   "id": "951891fe-f70f-4d73-aa3f-50e909c0abce",
   "metadata": {},
   "source": [
    "### Upload to Vertex AI Model Registry"
   ]
  },
  {
   "cell_type": "code",
   "execution_count": 30,
   "id": "b3d8cfbe-e4c3-4fa8-b355-faa8a06aa45f",
   "metadata": {},
   "outputs": [],
   "source": [
    "AGENT_TYPE = \"epsGreedy\"\n",
    "# ARTIFACTS_DIR = 'gs://rec-bandits-v2-hybrid-vertex-bucket/scale-comparisons-v1/run-20231107-161324/artifacts'\n",
    "ARTIFACTS_DIR = \"gs://rec-bandits-v2-hybrid-vertex-bucket/02-scale-compare-v2/run-20231115-094131/artifacts\""
   ]
  },
  {
   "cell_type": "code",
   "execution_count": 95,
   "id": "c7140b89-e1c3-4892-93ab-3324341178d4",
   "metadata": {},
   "outputs": [],
   "source": [
    "test_policy = py_tf_eager_policy.SavedModelPyTFEagerPolicy(\n",
    "    ARTIFACTS_DIR, load_specs_from_pbtxt=True\n",
    ")"
   ]
  },
  {
   "cell_type": "code",
   "execution_count": 98,
   "id": "19f572f2-e64d-49ef-8fb7-22522bf702f9",
   "metadata": {},
   "outputs": [],
   "source": [
    "# test_policy."
   ]
  },
  {
   "cell_type": "code",
   "execution_count": 31,
   "id": "3c90daa2-84d6-4ef7-b82a-023b9e17fc1e",
   "metadata": {},
   "outputs": [
    {
     "name": "stdout",
     "output_type": "stream",
     "text": [
      "Creating Model\n",
      "Create Model backing LRO: projects/934903580331/locations/us-central1/models/3417658172104507392/operations/8239509722147848192\n",
      "Model created. Resource name: projects/934903580331/locations/us-central1/models/3417658172104507392@1\n",
      "To use this Model in another session:\n",
      "model = aiplatform.Model('projects/934903580331/locations/us-central1/models/3417658172104507392@1')\n",
      "display_name    : trained-epsGreedy-v1\n",
      "uploaded_policy : <google.cloud.aiplatform.models.Model object at 0x7f7d501dc9d0> \n",
      "resource name: projects/934903580331/locations/us-central1/models/3417658172104507392\n"
     ]
    }
   ],
   "source": [
    "uploaded_policy = vertex_ai.Model.upload(\n",
    "    display_name=f'trained-{AGENT_TYPE}-v1',\n",
    "    artifact_uri=ARTIFACTS_DIR,\n",
    "    serving_container_image_uri=f\"{IMAGE_URI_02_PRED}:latest\",\n",
    "    # serving_container_image_uri=f\"{REMOTE_IMAGE_NAME}:latest\",\n",
    "    serving_container_predict_route=\"/predict\",\n",
    "    serving_container_health_route=\"/health\",\n",
    "    sync=True,\n",
    ")\n",
    "\n",
    "print(f\"display_name    : {uploaded_policy.display_name}\")\n",
    "print(f\"uploaded_policy : {uploaded_policy}\")"
   ]
  },
  {
   "cell_type": "markdown",
   "id": "6b1be143-b141-4970-b533-e79b51a1fe4c",
   "metadata": {},
   "source": [
    "## Create endpoint"
   ]
  },
  {
   "cell_type": "code",
   "execution_count": 32,
   "id": "37c74b19-54b1-4a34-8228-b13b2c80b020",
   "metadata": {},
   "outputs": [
    {
     "name": "stdout",
     "output_type": "stream",
     "text": [
      "display_name : endpoint-epsGreedy-v2\n",
      "endpoint     : <google.cloud.aiplatform.models.Endpoint object at 0x7f7d807d16f0> \n",
      "resource name: projects/934903580331/locations/us-central1/endpoints/3091072432329457664\n"
     ]
    }
   ],
   "source": [
    "# endpoint = vertex_ai.Endpoint.create(\n",
    "#     display_name=f'endpoint-{AGENT_TYPE}-v2',\n",
    "#     project=PROJECT_ID,\n",
    "#     location=LOCATION,\n",
    "#     sync=True,\n",
    "# )\n",
    "\n",
    "# endpoint = vertex_ai.Endpoint('211442683091091456')\n",
    "endpoint = vertex_ai.Endpoint('3091072432329457664')\n",
    "\n",
    "print(f\"display_name : {endpoint.display_name}\")\n",
    "print(f\"endpoint     : {endpoint}\")"
   ]
  },
  {
   "cell_type": "markdown",
   "id": "4e4bd377-cff2-48d1-b420-95bef603cefb",
   "metadata": {},
   "source": [
    "## Deploy Registered policy to endpoint"
   ]
  },
  {
   "cell_type": "code",
   "execution_count": 33,
   "id": "f397175c-cc35-4e29-845e-e251c18e8fa9",
   "metadata": {},
   "outputs": [
    {
     "name": "stdout",
     "output_type": "stream",
     "text": [
      "Deploying model to Endpoint : projects/934903580331/locations/us-central1/endpoints/3091072432329457664\n",
      "Deploy Endpoint model backing LRO: projects/934903580331/locations/us-central1/endpoints/3091072432329457664/operations/516962261114290176\n",
      "Endpoint model deployed. Resource name: projects/934903580331/locations/us-central1/endpoints/3091072432329457664\n",
      "display_name    : endpoint-epsGreedy-v2\n",
      "\n",
      "deployed_policy : <google.cloud.aiplatform.models.Endpoint object at 0x7f7d807d16f0> \n",
      "resource name: projects/934903580331/locations/us-central1/endpoints/3091072432329457664\n"
     ]
    },
    {
     "data": {
      "text/plain": [
       "<google.cloud.aiplatform.models.Endpoint object at 0x7f7d807d16f0> \n",
       "resource name: projects/934903580331/locations/us-central1/endpoints/3091072432329457664"
      ]
     },
     "execution_count": 33,
     "metadata": {},
     "output_type": "execute_result"
    }
   ],
   "source": [
    "deployed_policy = uploaded_policy.deploy(\n",
    "    endpoint=endpoint,\n",
    "    deployed_model_display_name=f'deployed-{AGENT_TYPE}-v1',\n",
    "    machine_type=\"n1-standard-4\",\n",
    "    min_replica_count=1,\n",
    "    max_replica_count=1,\n",
    "    accelerator_type=None,\n",
    "    accelerator_count=0,\n",
    "    sync=True,\n",
    ")\n",
    "\n",
    "print(f\"display_name    : {deployed_policy.display_name}\\n\")\n",
    "print(f\"deployed_policy : {deployed_policy}\")\n",
    "\n",
    "deployed_policy"
   ]
  },
  {
   "cell_type": "markdown",
   "id": "ab7829ae-b4af-4311-886c-b6f331d3ec2a",
   "metadata": {},
   "source": [
    "### Test endpoint"
   ]
  },
  {
   "cell_type": "code",
   "execution_count": 215,
   "id": "fbd01d97-d321-4440-8753-c207b11bb97c",
   "metadata": {},
   "outputs": [
    {
     "data": {
      "text/plain": [
       "[1.0,\n",
       " 1.0,\n",
       " 1.0,\n",
       " 1.0,\n",
       " 1.0,\n",
       " 1.0,\n",
       " 1.0,\n",
       " 1.0,\n",
       " 1.0,\n",
       " 1.0,\n",
       " 1.0,\n",
       " 1.0,\n",
       " 1.0,\n",
       " 1.0,\n",
       " 1.0,\n",
       " 1.0,\n",
       " 1.0,\n",
       " 1.0,\n",
       " 1.0,\n",
       " 1.0]"
      ]
     },
     "execution_count": 215,
     "metadata": {},
     "output_type": "execute_result"
    }
   ],
   "source": [
    "TEST_INSTANCE = {\"observation\": [list(np.ones(20)) for _ in range(8)]}\n",
    "TEST_INSTANCE[\"observation\"][1]"
   ]
  },
  {
   "cell_type": "code",
   "execution_count": 36,
   "id": "d6955b44-c1de-4633-b16a-1b7b106955f1",
   "metadata": {},
   "outputs": [
    {
     "data": {
      "text/plain": [
       "'rec-bandits-v2-hybrid-vertex-bucket'"
      ]
     },
     "execution_count": 36,
     "metadata": {},
     "output_type": "execute_result"
    }
   ],
   "source": [
    "# !pwd"
   ]
  },
  {
   "cell_type": "code",
   "execution_count": 50,
   "id": "81b1aad6-7e88-477f-ab82-c80f6c0ed72d",
   "metadata": {},
   "outputs": [],
   "source": [
    "import os\n",
    "os.environ['TF_CPP_MIN_LOG_LEVEL'] = '2'\n",
    "\n",
    "import numpy as np\n",
    "\n",
    "# tensorflow\n",
    "import tensorflow as tf\n",
    "\n",
    "from google.cloud import storage\n",
    "storage_client = storage.Client(project=PROJECT_ID)\n",
    "\n",
    "# this repo\n",
    "from src.per_arm_rl import data_utils"
   ]
  },
  {
   "cell_type": "code",
   "execution_count": 142,
   "id": "92f15083-83b0-47d8-b48d-7d376514d529",
   "metadata": {},
   "outputs": [
    {
     "data": {
      "text/plain": [
       "<_BatchDataset element_spec={'bucketized_user_age': TensorSpec(shape=(None,), dtype=tf.float32, name=None), 'movie_genres': TensorSpec(shape=(None, 1), dtype=tf.int64, name=None), 'movie_id': TensorSpec(shape=(None,), dtype=tf.string, name=None), 'timestamp': TensorSpec(shape=(None,), dtype=tf.int64, name=None), 'user_id': TensorSpec(shape=(None,), dtype=tf.string, name=None), 'user_occupation_text': TensorSpec(shape=(None,), dtype=tf.string, name=None), 'user_rating': TensorSpec(shape=(None,), dtype=tf.float32, name=None)}>"
      ]
     },
     "execution_count": 142,
     "metadata": {},
     "output_type": "execute_result"
    }
   ],
   "source": [
    "SPLIT = \"val\"\n",
    "eval_batch_size = 1\n",
    "NUM_EVAL_STEPS = 20\n",
    "\n",
    "val_files = []\n",
    "for blob in storage_client.list_blobs(f\"{BUCKET_NAME}\", prefix=f'{DATA_GCS_PREFIX}/{SPLIT}'):\n",
    "    if '.tfrecord' in blob.name:\n",
    "        val_files.append(blob.public_url.replace(\"https://storage.googleapis.com/\", \"gs://\"))\n",
    "        \n",
    "val_dataset = tf.data.TFRecordDataset(val_files)\n",
    "val_dataset = val_dataset.map(data_utils.parse_tfrecord, num_parallel_calls=tf.data.AUTOTUNE)\n",
    "\n",
    "# eval dataset\n",
    "eval_ds = val_dataset.batch(eval_batch_size)\n",
    "\n",
    "# if NUM_EVAL_STEPS > 0:\n",
    "#     eval_ds = eval_ds.take(NUM_EVAL_STEPS)\n",
    "\n",
    "# eval_ds = eval_ds.prefetch(tf.data.AUTOTUNE)\n",
    "\n",
    "eval_ds"
   ]
  },
  {
   "cell_type": "code",
   "execution_count": 201,
   "id": "007291c6-ef49-4b05-b8df-5fcc086a5906",
   "metadata": {},
   "outputs": [
    {
     "data": {
      "text/plain": [
       "[{'bucketized_user_age': <tf.Tensor: shape=(1,), dtype=float32, numpy=array([25.], dtype=float32)>,\n",
       "  'movie_genres': <tf.Tensor: shape=(1, 1), dtype=int64, numpy=array([[4]])>,\n",
       "  'movie_id': <tf.Tensor: shape=(1,), dtype=string, numpy=array([b'211'], dtype=object)>,\n",
       "  'timestamp': <tf.Tensor: shape=(1,), dtype=int64, numpy=array([874948475])>,\n",
       "  'user_id': <tf.Tensor: shape=(1,), dtype=string, numpy=array([b'346'], dtype=object)>,\n",
       "  'user_occupation_text': <tf.Tensor: shape=(1,), dtype=string, numpy=array([b'other'], dtype=object)>,\n",
       "  'user_rating': <tf.Tensor: shape=(1,), dtype=float32, numpy=array([4.], dtype=float32)>},\n",
       " {'bucketized_user_age': <tf.Tensor: shape=(1,), dtype=float32, numpy=array([25.], dtype=float32)>,\n",
       "  'movie_genres': <tf.Tensor: shape=(1, 1), dtype=int64, numpy=array([[4]])>,\n",
       "  'movie_id': <tf.Tensor: shape=(1,), dtype=string, numpy=array([b'211'], dtype=object)>,\n",
       "  'timestamp': <tf.Tensor: shape=(1,), dtype=int64, numpy=array([874948475])>,\n",
       "  'user_id': <tf.Tensor: shape=(1,), dtype=string, numpy=array([b'346'], dtype=object)>,\n",
       "  'user_occupation_text': <tf.Tensor: shape=(1,), dtype=string, numpy=array([b'other'], dtype=object)>,\n",
       "  'user_rating': <tf.Tensor: shape=(1,), dtype=float32, numpy=array([4.], dtype=float32)>}]"
      ]
     },
     "execution_count": 201,
     "metadata": {},
     "output_type": "execute_result"
    }
   ],
   "source": [
    "data_list = [] \n",
    "\n",
    "for i in range(2):\n",
    "    \n",
    "    iterator = iter(val_dataset.batch(1))\n",
    "    data = next(iterator)\n",
    "    data_list.append(data)\n",
    "\n",
    "data_list"
   ]
  },
  {
   "cell_type": "code",
   "execution_count": 203,
   "id": "a6a3e9e1-b178-4637-b31b-9db84669a1d1",
   "metadata": {},
   "outputs": [
    {
     "data": {
      "text/plain": [
       "2"
      ]
     },
     "execution_count": 203,
     "metadata": {},
     "output_type": "execute_result"
    }
   ],
   "source": [
    "len(data_list)"
   ]
  },
  {
   "cell_type": "code",
   "execution_count": 204,
   "id": "bf8d717f-4484-4694-b47b-8dc7b3a899ed",
   "metadata": {
    "collapsed": true,
    "jupyter": {
     "outputs_hidden": true
    },
    "tags": []
   },
   "outputs": [
    {
     "data": {
      "text/plain": [
       "[array([[-0.02284321, -0.04486708,  0.01871774, -0.03706668, -0.03948395,\n",
       "          0.00815228,  0.04989055, -0.00984588, -0.03338911, -0.00469216,\n",
       "         -0.01469489,  0.01931005,  0.00450007,  0.04033008, -0.04139885,\n",
       "          0.03369157, -0.02654978,  0.02733845,  0.02188141,  0.03641399,\n",
       "         -0.01575927, -0.04570995, -0.04994596, -0.04506509,  0.03897073,\n",
       "         -0.02349632, -0.01979375, -0.00072138,  0.00268871, -0.04270414,\n",
       "          0.04827886,  0.00287588, -0.02039087, -0.00033497,  0.01710043,\n",
       "          0.04911342,  0.03376654,  0.03906982, -0.02361402, -0.03907317,\n",
       "         -0.00081597, -0.02704746, -0.03288104, -0.01972567, -0.02979683,\n",
       "          0.01936915, -0.02871168,  0.0135267 , -0.03308724,  0.01739838,\n",
       "         -0.0053169 , -0.0357516 ,  0.0214668 , -0.00639789,  0.03177608,\n",
       "          0.01960037,  0.03402347,  0.02833668,  0.03471385,  0.01466086,\n",
       "          0.01016812, -0.01258299, -0.04159774,  0.04512725, -0.01855729,\n",
       "          0.00272835,  0.02515319,  0.01827284,  0.00879399, -0.03101027,\n",
       "         -0.0374768 , -0.02107671, -0.02565775, -0.037301  ,  0.00176016,\n",
       "         -0.00600945, -0.03830427, -0.01250456, -0.01604456, -0.02158929,\n",
       "         -0.00606835, -0.03855998,  0.00192545,  0.00310738,  0.03374011,\n",
       "         -0.02463402,  0.003676  ,  0.01382129, -0.00599585, -0.04706679,\n",
       "          0.02555828,  0.01347831,  0.01335103, -0.04827634,  0.00585429,\n",
       "          0.04404742,  0.01531978, -0.03814347,  0.01539499,  0.02676066,\n",
       "          0.01656533,  0.00573428, -0.00989838, -0.02043386,  0.03552807,\n",
       "         -0.014947  , -0.04892334, -0.02810138,  0.01765951,  0.01742082,\n",
       "         -0.00136448, -0.02301559, -0.00886382, -0.00713097, -0.01193533,\n",
       "         -0.03373116,  0.04031863,  0.00443442, -0.04826274,  0.04392072,\n",
       "         -0.02591031,  0.01183714, -0.02822387,  0.02259351,  0.01179058,\n",
       "          0.03769896,  0.01659248,  0.01294983, -0.0221037 ,  0.01019211,\n",
       "         -0.00850185, -0.02145463, -0.01652647,  0.0272725 ,  0.04860225,\n",
       "         -0.02672522,  0.04547247, -0.0021404 , -0.02037339,  0.04160942,\n",
       "          0.03190171, -0.03708269,  0.01324243, -0.04280135,  0.00164081,\n",
       "          0.02333093, -0.03183174, -0.00783378, -0.00867095,  0.04970113,\n",
       "          0.02439096,  0.02545813,  0.04391602,  0.02014397,  0.01264885,\n",
       "         -0.03202355, -0.03163578,  0.03735579,  0.04292728,  0.00447596,\n",
       "         -0.01086847,  0.0089    , -0.00278008, -0.0426381 , -0.00266879,\n",
       "         -0.01963253,  0.04287729, -0.04609953, -0.04541909, -0.01231552,\n",
       "          0.0096383 ,  0.03548444,  0.00404842,  0.03709576, -0.03108264,\n",
       "          0.0494118 ,  0.01670628,  0.0040831 , -0.02788026, -0.04136518,\n",
       "          0.04846395, -0.02066976,  0.01795897, -0.00199509, -0.02784421,\n",
       "          0.02597522,  0.02176214,  0.02884015,  0.00629431, -0.04724199,\n",
       "          0.0280426 ,  0.01769564, -0.00040029,  0.04029502, -0.04940471,\n",
       "         -0.01218089, -0.0475058 , -0.015547  , -0.00985551,  0.00190338,\n",
       "          0.03642287, -0.01860201, -0.01297051,  0.04269964, -0.04638997,\n",
       "          0.01882559,  0.04802141,  0.03413414,  0.04364718, -0.01741977,\n",
       "          0.04268492,  0.04599992, -0.01086944,  0.02325492,  0.03774426,\n",
       "          0.03724023,  0.03269916, -0.01052532,  0.02949381,  0.02042684,\n",
       "          0.02410301, -0.02889872, -0.02798599,  0.016071  , -0.03838195,\n",
       "         -0.00085533,  0.04071743, -0.03826542, -0.00435062, -0.03676201,\n",
       "          0.00019598, -0.0104463 ,  0.03699547,  0.0213783 , -0.03411857,\n",
       "          0.04420605,  0.03144039,  0.03206578, -0.00334531,  0.02404957,\n",
       "          0.03609062, -0.03571334,  0.0043864 ,  0.01668054,  0.03959489,\n",
       "         -0.01433558, -0.02661883, -0.03389221,  0.0182589 , -0.02977916,\n",
       "         -0.00305368, -0.01978543, -0.0387383 , -0.01727823,  0.01951184,\n",
       "         -0.00389649]], dtype=float32),\n",
       " array([[-0.02284321, -0.04486708,  0.01871774, -0.03706668, -0.03948395,\n",
       "          0.00815228,  0.04989055, -0.00984588, -0.03338911, -0.00469216,\n",
       "         -0.01469489,  0.01931005,  0.00450007,  0.04033008, -0.04139885,\n",
       "          0.03369157, -0.02654978,  0.02733845,  0.02188141,  0.03641399,\n",
       "         -0.01575927, -0.04570995, -0.04994596, -0.04506509,  0.03897073,\n",
       "         -0.02349632, -0.01979375, -0.00072138,  0.00268871, -0.04270414,\n",
       "          0.04827886,  0.00287588, -0.02039087, -0.00033497,  0.01710043,\n",
       "          0.04911342,  0.03376654,  0.03906982, -0.02361402, -0.03907317,\n",
       "         -0.00081597, -0.02704746, -0.03288104, -0.01972567, -0.02979683,\n",
       "          0.01936915, -0.02871168,  0.0135267 , -0.03308724,  0.01739838,\n",
       "         -0.0053169 , -0.0357516 ,  0.0214668 , -0.00639789,  0.03177608,\n",
       "          0.01960037,  0.03402347,  0.02833668,  0.03471385,  0.01466086,\n",
       "          0.01016812, -0.01258299, -0.04159774,  0.04512725, -0.01855729,\n",
       "          0.00272835,  0.02515319,  0.01827284,  0.00879399, -0.03101027,\n",
       "         -0.0374768 , -0.02107671, -0.02565775, -0.037301  ,  0.00176016,\n",
       "         -0.00600945, -0.03830427, -0.01250456, -0.01604456, -0.02158929,\n",
       "         -0.00606835, -0.03855998,  0.00192545,  0.00310738,  0.03374011,\n",
       "         -0.02463402,  0.003676  ,  0.01382129, -0.00599585, -0.04706679,\n",
       "          0.02555828,  0.01347831,  0.01335103, -0.04827634,  0.00585429,\n",
       "          0.04404742,  0.01531978, -0.03814347,  0.01539499,  0.02676066,\n",
       "          0.01656533,  0.00573428, -0.00989838, -0.02043386,  0.03552807,\n",
       "         -0.014947  , -0.04892334, -0.02810138,  0.01765951,  0.01742082,\n",
       "         -0.00136448, -0.02301559, -0.00886382, -0.00713097, -0.01193533,\n",
       "         -0.03373116,  0.04031863,  0.00443442, -0.04826274,  0.04392072,\n",
       "         -0.02591031,  0.01183714, -0.02822387,  0.02259351,  0.01179058,\n",
       "          0.03769896,  0.01659248,  0.01294983, -0.0221037 ,  0.01019211,\n",
       "         -0.00850185, -0.02145463, -0.01652647,  0.0272725 ,  0.04860225,\n",
       "         -0.02672522,  0.04547247, -0.0021404 , -0.02037339,  0.04160942,\n",
       "          0.03190171, -0.03708269,  0.01324243, -0.04280135,  0.00164081,\n",
       "          0.02333093, -0.03183174, -0.00783378, -0.00867095,  0.04970113,\n",
       "          0.02439096,  0.02545813,  0.04391602,  0.02014397,  0.01264885,\n",
       "         -0.03202355, -0.03163578,  0.03735579,  0.04292728,  0.00447596,\n",
       "         -0.01086847,  0.0089    , -0.00278008, -0.0426381 , -0.00266879,\n",
       "         -0.01963253,  0.04287729, -0.04609953, -0.04541909, -0.01231552,\n",
       "          0.0096383 ,  0.03548444,  0.00404842,  0.03709576, -0.03108264,\n",
       "          0.0494118 ,  0.01670628,  0.0040831 , -0.02788026, -0.04136518,\n",
       "          0.04846395, -0.02066976,  0.01795897, -0.00199509, -0.02784421,\n",
       "          0.02597522,  0.02176214,  0.02884015,  0.00629431, -0.04724199,\n",
       "          0.0280426 ,  0.01769564, -0.00040029,  0.04029502, -0.04940471,\n",
       "         -0.01218089, -0.0475058 , -0.015547  , -0.00985551,  0.00190338,\n",
       "          0.03642287, -0.01860201, -0.01297051,  0.04269964, -0.04638997,\n",
       "          0.01882559,  0.04802141,  0.03413414,  0.04364718, -0.01741977,\n",
       "          0.04268492,  0.04599992, -0.01086944,  0.02325492,  0.03774426,\n",
       "          0.03724023,  0.03269916, -0.01052532,  0.02949381,  0.02042684,\n",
       "          0.02410301, -0.02889872, -0.02798599,  0.016071  , -0.03838195,\n",
       "         -0.00085533,  0.04071743, -0.03826542, -0.00435062, -0.03676201,\n",
       "          0.00019598, -0.0104463 ,  0.03699547,  0.0213783 , -0.03411857,\n",
       "          0.04420605,  0.03144039,  0.03206578, -0.00334531,  0.02404957,\n",
       "          0.03609062, -0.03571334,  0.0043864 ,  0.01668054,  0.03959489,\n",
       "         -0.01433558, -0.02661883, -0.03389221,  0.0182589 , -0.02977916,\n",
       "         -0.00305368, -0.01978543, -0.0387383 , -0.01727823,  0.01951184,\n",
       "         -0.00389649]], dtype=float32)]"
      ]
     },
     "execution_count": 204,
     "metadata": {},
     "output_type": "execute_result"
    }
   ],
   "source": [
    "global_fets_list = []\n",
    "for instance in data_list:\n",
    "    global_feat_infer = embs._get_global_context_features(instance)\n",
    "    arm_feat_infer = embs._get_per_arm_features(instances)\n",
    "    \n",
    "global_fets_list"
   ]
  },
  {
   "cell_type": "code",
   "execution_count": 206,
   "id": "df558707-1be9-4e96-893a-ac6e229768b8",
   "metadata": {},
   "outputs": [
    {
     "data": {
      "text/plain": [
       "2"
      ]
     },
     "execution_count": 206,
     "metadata": {},
     "output_type": "execute_result"
    }
   ],
   "source": [
    "len(global_fets_list)"
   ]
  },
  {
   "cell_type": "code",
   "execution_count": 208,
   "id": "40cfb69c-68ff-4508-92db-3796a98ce8af",
   "metadata": {},
   "outputs": [
    {
     "data": {
      "text/plain": [
       "256"
      ]
     },
     "execution_count": 208,
     "metadata": {},
     "output_type": "execute_result"
    }
   ],
   "source": [
    "len(global_fets_list[0][0])"
   ]
  },
  {
   "cell_type": "code",
   "execution_count": 167,
   "id": "e0e3cf0e-2a9a-4db3-b9ae-84b494650c03",
   "metadata": {},
   "outputs": [
    {
     "name": "stdout",
     "output_type": "stream",
     "text": [
      "{'bucketized_user_age': [25.0], 'movie_genres': [[4]], 'movie_id': [b'211'], 'timestamp': [874948475], 'user_id': [b'346'], 'user_occupation_text': [b'other'], 'user_rating': [4.0]}\n"
     ]
    }
   ],
   "source": [
    "for tensor_dict in eval_ds.take(1):\n",
    "    td_keys = tensor_dict.keys()\n",
    "    list_dict = {}\n",
    "    for k in td_keys:\n",
    "        val = tensor_dict[k].numpy()\n",
    "        # val = val.item().tolist()\n",
    "        val = val.tolist()\n",
    "        # list_dict.update({k: tensor_dict[k].numpy()})\n",
    "        list_dict.update({k: val})\n",
    "    print(list_dict)"
   ]
  },
  {
   "cell_type": "code",
   "execution_count": 182,
   "id": "b2e4e4ca-0259-42c6-ae87-795f701fabd9",
   "metadata": {},
   "outputs": [
    {
     "data": {
      "text/plain": [
       "{'instances': {'bucketized_user_age': [25.0],\n",
       "  'movie_genres': [[4]],\n",
       "  'movie_id': [b'211'],\n",
       "  'timestamp': [874948475],\n",
       "  'user_id': [b'346'],\n",
       "  'user_occupation_text': [b'other'],\n",
       "  'user_rating': [4.0]}}"
      ]
     },
     "execution_count": 182,
     "metadata": {},
     "output_type": "execute_result"
    }
   ],
   "source": [
    "instances = {\"instances\": list_dict}\n",
    "instances"
   ]
  },
  {
   "cell_type": "code",
   "execution_count": 189,
   "id": "c2efcb60-27bb-4b36-acc7-d83f6bcdd20f",
   "metadata": {},
   "outputs": [
    {
     "data": {
      "text/plain": [
       "{'instances': {'bucketized_user_age': [25.0],\n",
       "  'movie_genres': [4],\n",
       "  'movie_id': ['211'],\n",
       "  'timestamp': [874948475],\n",
       "  'user_id': '346',\n",
       "  'user_occupation_text': ['other'],\n",
       "  'user_rating': [4.0]}}"
      ]
     },
     "execution_count": 189,
     "metadata": {},
     "output_type": "execute_result"
    }
   ],
   "source": [
    "jt_iter_test = {\n",
    "    'bucketized_user_age': [25.0],\n",
    "    'movie_genres': [4],\n",
    "    'movie_id': ['211'],\n",
    "    'timestamp': [874948475],\n",
    "    'user_id': '346',\n",
    "    'user_occupation_text': ['other'],\n",
    "    'user_rating': [4.0]\n",
    "}\n",
    "\n",
    "instances = {\"instances\": jt_iter_test}\n",
    "instances"
   ]
  },
  {
   "cell_type": "code",
   "execution_count": 190,
   "id": "0a84a590-a756-4e76-937b-00a8abd2b185",
   "metadata": {},
   "outputs": [
    {
     "ename": "InternalServerError",
     "evalue": "500 Internal Server Error",
     "output_type": "error",
     "traceback": [
      "\u001b[0;31m---------------------------------------------------------------------------\u001b[0m",
      "\u001b[0;31m_InactiveRpcError\u001b[0m                         Traceback (most recent call last)",
      "File \u001b[0;32m/opt/conda/lib/python3.10/site-packages/google/api_core/grpc_helpers.py:75\u001b[0m, in \u001b[0;36m_wrap_unary_errors.<locals>.error_remapped_callable\u001b[0;34m(*args, **kwargs)\u001b[0m\n\u001b[1;32m     74\u001b[0m \u001b[38;5;28;01mtry\u001b[39;00m:\n\u001b[0;32m---> 75\u001b[0m     \u001b[38;5;28;01mreturn\u001b[39;00m \u001b[43mcallable_\u001b[49m\u001b[43m(\u001b[49m\u001b[38;5;241;43m*\u001b[39;49m\u001b[43margs\u001b[49m\u001b[43m,\u001b[49m\u001b[43m \u001b[49m\u001b[38;5;241;43m*\u001b[39;49m\u001b[38;5;241;43m*\u001b[39;49m\u001b[43mkwargs\u001b[49m\u001b[43m)\u001b[49m\n\u001b[1;32m     76\u001b[0m \u001b[38;5;28;01mexcept\u001b[39;00m grpc\u001b[38;5;241m.\u001b[39mRpcError \u001b[38;5;28;01mas\u001b[39;00m exc:\n",
      "File \u001b[0;32m~/.local/lib/python3.10/site-packages/grpc/_channel.py:1161\u001b[0m, in \u001b[0;36m_UnaryUnaryMultiCallable.__call__\u001b[0;34m(self, request, timeout, metadata, credentials, wait_for_ready, compression)\u001b[0m\n\u001b[1;32m   1155\u001b[0m (\n\u001b[1;32m   1156\u001b[0m     state,\n\u001b[1;32m   1157\u001b[0m     call,\n\u001b[1;32m   1158\u001b[0m ) \u001b[38;5;241m=\u001b[39m \u001b[38;5;28mself\u001b[39m\u001b[38;5;241m.\u001b[39m_blocking(\n\u001b[1;32m   1159\u001b[0m     request, timeout, metadata, credentials, wait_for_ready, compression\n\u001b[1;32m   1160\u001b[0m )\n\u001b[0;32m-> 1161\u001b[0m \u001b[38;5;28;01mreturn\u001b[39;00m \u001b[43m_end_unary_response_blocking\u001b[49m\u001b[43m(\u001b[49m\u001b[43mstate\u001b[49m\u001b[43m,\u001b[49m\u001b[43m \u001b[49m\u001b[43mcall\u001b[49m\u001b[43m,\u001b[49m\u001b[43m \u001b[49m\u001b[38;5;28;43;01mFalse\u001b[39;49;00m\u001b[43m,\u001b[49m\u001b[43m \u001b[49m\u001b[38;5;28;43;01mNone\u001b[39;49;00m\u001b[43m)\u001b[49m\n",
      "File \u001b[0;32m~/.local/lib/python3.10/site-packages/grpc/_channel.py:1004\u001b[0m, in \u001b[0;36m_end_unary_response_blocking\u001b[0;34m(state, call, with_call, deadline)\u001b[0m\n\u001b[1;32m   1003\u001b[0m \u001b[38;5;28;01melse\u001b[39;00m:\n\u001b[0;32m-> 1004\u001b[0m     \u001b[38;5;28;01mraise\u001b[39;00m _InactiveRpcError(state)\n",
      "\u001b[0;31m_InactiveRpcError\u001b[0m: <_InactiveRpcError of RPC that terminated with:\n\tstatus = StatusCode.INTERNAL\n\tdetails = \"Internal Server Error\"\n\tdebug_error_string = \"UNKNOWN:Error received from peer ipv4:74.125.126.95:443 {grpc_message:\"Internal Server Error\", grpc_status:13, created_time:\"2023-11-15T14:01:47.358996602+00:00\"}\"\n>",
      "\nThe above exception was the direct cause of the following exception:\n",
      "\u001b[0;31mInternalServerError\u001b[0m                       Traceback (most recent call last)",
      "Cell \u001b[0;32mIn[190], line 1\u001b[0m\n\u001b[0;32m----> 1\u001b[0m \u001b[43mdeployed_policy\u001b[49m\u001b[38;5;241;43m.\u001b[39;49m\u001b[43mpredict\u001b[49m\u001b[43m(\u001b[49m\n\u001b[1;32m      2\u001b[0m \u001b[43m    \u001b[49m\u001b[43minstances\u001b[49m\u001b[38;5;241;43m=\u001b[39;49m\u001b[43mjt_iter_test\u001b[49m\u001b[43m,\u001b[49m\n\u001b[1;32m      3\u001b[0m \u001b[43m)\u001b[49m\n",
      "File \u001b[0;32m/opt/conda/lib/python3.10/site-packages/google/cloud/aiplatform/models.py:1596\u001b[0m, in \u001b[0;36mEndpoint.predict\u001b[0;34m(self, instances, parameters, timeout, use_raw_predict)\u001b[0m\n\u001b[1;32m   1583\u001b[0m     \u001b[38;5;28;01mreturn\u001b[39;00m Prediction(\n\u001b[1;32m   1584\u001b[0m         predictions\u001b[38;5;241m=\u001b[39mjson_response[\u001b[38;5;124m\"\u001b[39m\u001b[38;5;124mpredictions\u001b[39m\u001b[38;5;124m\"\u001b[39m],\n\u001b[1;32m   1585\u001b[0m         deployed_model_id\u001b[38;5;241m=\u001b[39mraw_predict_response\u001b[38;5;241m.\u001b[39mheaders[\n\u001b[0;32m   (...)\u001b[0m\n\u001b[1;32m   1593\u001b[0m         ),\n\u001b[1;32m   1594\u001b[0m     )\n\u001b[1;32m   1595\u001b[0m \u001b[38;5;28;01melse\u001b[39;00m:\n\u001b[0;32m-> 1596\u001b[0m     prediction_response \u001b[38;5;241m=\u001b[39m \u001b[38;5;28;43mself\u001b[39;49m\u001b[38;5;241;43m.\u001b[39;49m\u001b[43m_prediction_client\u001b[49m\u001b[38;5;241;43m.\u001b[39;49m\u001b[43mpredict\u001b[49m\u001b[43m(\u001b[49m\n\u001b[1;32m   1597\u001b[0m \u001b[43m        \u001b[49m\u001b[43mendpoint\u001b[49m\u001b[38;5;241;43m=\u001b[39;49m\u001b[38;5;28;43mself\u001b[39;49m\u001b[38;5;241;43m.\u001b[39;49m\u001b[43m_gca_resource\u001b[49m\u001b[38;5;241;43m.\u001b[39;49m\u001b[43mname\u001b[49m\u001b[43m,\u001b[49m\n\u001b[1;32m   1598\u001b[0m \u001b[43m        \u001b[49m\u001b[43minstances\u001b[49m\u001b[38;5;241;43m=\u001b[39;49m\u001b[43minstances\u001b[49m\u001b[43m,\u001b[49m\n\u001b[1;32m   1599\u001b[0m \u001b[43m        \u001b[49m\u001b[43mparameters\u001b[49m\u001b[38;5;241;43m=\u001b[39;49m\u001b[43mparameters\u001b[49m\u001b[43m,\u001b[49m\n\u001b[1;32m   1600\u001b[0m \u001b[43m        \u001b[49m\u001b[43mtimeout\u001b[49m\u001b[38;5;241;43m=\u001b[39;49m\u001b[43mtimeout\u001b[49m\u001b[43m,\u001b[49m\n\u001b[1;32m   1601\u001b[0m \u001b[43m    \u001b[49m\u001b[43m)\u001b[49m\n\u001b[1;32m   1603\u001b[0m     \u001b[38;5;28;01mreturn\u001b[39;00m Prediction(\n\u001b[1;32m   1604\u001b[0m         predictions\u001b[38;5;241m=\u001b[39m[\n\u001b[1;32m   1605\u001b[0m             json_format\u001b[38;5;241m.\u001b[39mMessageToDict(item)\n\u001b[0;32m   (...)\u001b[0m\n\u001b[1;32m   1610\u001b[0m         model_resource_name\u001b[38;5;241m=\u001b[39mprediction_response\u001b[38;5;241m.\u001b[39mmodel,\n\u001b[1;32m   1611\u001b[0m     )\n",
      "File \u001b[0;32m/opt/conda/lib/python3.10/site-packages/google/cloud/aiplatform_v1/services/prediction_service/client.py:604\u001b[0m, in \u001b[0;36mPredictionServiceClient.predict\u001b[0;34m(self, request, endpoint, instances, parameters, retry, timeout, metadata)\u001b[0m\n\u001b[1;32m    599\u001b[0m metadata \u001b[38;5;241m=\u001b[39m \u001b[38;5;28mtuple\u001b[39m(metadata) \u001b[38;5;241m+\u001b[39m (\n\u001b[1;32m    600\u001b[0m     gapic_v1\u001b[38;5;241m.\u001b[39mrouting_header\u001b[38;5;241m.\u001b[39mto_grpc_metadata(((\u001b[38;5;124m\"\u001b[39m\u001b[38;5;124mendpoint\u001b[39m\u001b[38;5;124m\"\u001b[39m, request\u001b[38;5;241m.\u001b[39mendpoint),)),\n\u001b[1;32m    601\u001b[0m )\n\u001b[1;32m    603\u001b[0m \u001b[38;5;66;03m# Send the request.\u001b[39;00m\n\u001b[0;32m--> 604\u001b[0m response \u001b[38;5;241m=\u001b[39m \u001b[43mrpc\u001b[49m\u001b[43m(\u001b[49m\n\u001b[1;32m    605\u001b[0m \u001b[43m    \u001b[49m\u001b[43mrequest\u001b[49m\u001b[43m,\u001b[49m\n\u001b[1;32m    606\u001b[0m \u001b[43m    \u001b[49m\u001b[43mretry\u001b[49m\u001b[38;5;241;43m=\u001b[39;49m\u001b[43mretry\u001b[49m\u001b[43m,\u001b[49m\n\u001b[1;32m    607\u001b[0m \u001b[43m    \u001b[49m\u001b[43mtimeout\u001b[49m\u001b[38;5;241;43m=\u001b[39;49m\u001b[43mtimeout\u001b[49m\u001b[43m,\u001b[49m\n\u001b[1;32m    608\u001b[0m \u001b[43m    \u001b[49m\u001b[43mmetadata\u001b[49m\u001b[38;5;241;43m=\u001b[39;49m\u001b[43mmetadata\u001b[49m\u001b[43m,\u001b[49m\n\u001b[1;32m    609\u001b[0m \u001b[43m\u001b[49m\u001b[43m)\u001b[49m\n\u001b[1;32m    611\u001b[0m \u001b[38;5;66;03m# Done; return the response.\u001b[39;00m\n\u001b[1;32m    612\u001b[0m \u001b[38;5;28;01mreturn\u001b[39;00m response\n",
      "File \u001b[0;32m/opt/conda/lib/python3.10/site-packages/google/api_core/gapic_v1/method.py:131\u001b[0m, in \u001b[0;36m_GapicCallable.__call__\u001b[0;34m(self, timeout, retry, compression, *args, **kwargs)\u001b[0m\n\u001b[1;32m    128\u001b[0m \u001b[38;5;28;01mif\u001b[39;00m \u001b[38;5;28mself\u001b[39m\u001b[38;5;241m.\u001b[39m_compression \u001b[38;5;129;01mis\u001b[39;00m \u001b[38;5;129;01mnot\u001b[39;00m \u001b[38;5;28;01mNone\u001b[39;00m:\n\u001b[1;32m    129\u001b[0m     kwargs[\u001b[38;5;124m\"\u001b[39m\u001b[38;5;124mcompression\u001b[39m\u001b[38;5;124m\"\u001b[39m] \u001b[38;5;241m=\u001b[39m compression\n\u001b[0;32m--> 131\u001b[0m \u001b[38;5;28;01mreturn\u001b[39;00m \u001b[43mwrapped_func\u001b[49m\u001b[43m(\u001b[49m\u001b[38;5;241;43m*\u001b[39;49m\u001b[43margs\u001b[49m\u001b[43m,\u001b[49m\u001b[43m \u001b[49m\u001b[38;5;241;43m*\u001b[39;49m\u001b[38;5;241;43m*\u001b[39;49m\u001b[43mkwargs\u001b[49m\u001b[43m)\u001b[49m\n",
      "File \u001b[0;32m/opt/conda/lib/python3.10/site-packages/google/api_core/grpc_helpers.py:77\u001b[0m, in \u001b[0;36m_wrap_unary_errors.<locals>.error_remapped_callable\u001b[0;34m(*args, **kwargs)\u001b[0m\n\u001b[1;32m     75\u001b[0m     \u001b[38;5;28;01mreturn\u001b[39;00m callable_(\u001b[38;5;241m*\u001b[39margs, \u001b[38;5;241m*\u001b[39m\u001b[38;5;241m*\u001b[39mkwargs)\n\u001b[1;32m     76\u001b[0m \u001b[38;5;28;01mexcept\u001b[39;00m grpc\u001b[38;5;241m.\u001b[39mRpcError \u001b[38;5;28;01mas\u001b[39;00m exc:\n\u001b[0;32m---> 77\u001b[0m     \u001b[38;5;28;01mraise\u001b[39;00m exceptions\u001b[38;5;241m.\u001b[39mfrom_grpc_error(exc) \u001b[38;5;28;01mfrom\u001b[39;00m \u001b[38;5;21;01mexc\u001b[39;00m\n",
      "\u001b[0;31mInternalServerError\u001b[0m: 500 Internal Server Error"
     ]
    }
   ],
   "source": [
    "deployed_policy.predict(\n",
    "    instances=jt_iter_test,\n",
    ")"
   ]
  },
  {
   "cell_type": "markdown",
   "id": "2d6c0777-c15f-48ed-84cc-53d9e41443cd",
   "metadata": {},
   "source": [
    "### local reproduce"
   ]
  },
  {
   "cell_type": "code",
   "execution_count": 122,
   "id": "dc283799-84b9-4384-9edb-ba4ab52216b4",
   "metadata": {},
   "outputs": [],
   "source": [
    "import pickle as pkl\n",
    "\n",
    "LOCAL_VOCAB_FILENAME = './src/pred/vocab_dict.pkl'\n",
    "\n",
    "filehandler = open(f\"{LOCAL_VOCAB_FILENAME}\", 'rb')\n",
    "vocab_dict = pkl.load(filehandler)\n",
    "filehandler.close()"
   ]
  },
  {
   "cell_type": "code",
   "execution_count": 123,
   "id": "1fc4d971-98dd-4993-b6d0-72131d2f9d5d",
   "metadata": {},
   "outputs": [],
   "source": [
    "from src.pred import emb_features_pred as emb_features\n",
    "# from src.perarm_features import emb_features as emb_features"
   ]
  },
  {
   "cell_type": "code",
   "execution_count": 124,
   "id": "c7d126a0-5c5e-40d6-879a-1bd4284bc242",
   "metadata": {},
   "outputs": [
    {
     "data": {
      "text/plain": [
       "<src.pred.emb_features_pred.EmbeddingModel at 0x7f7b2e3b7be0>"
      ]
     },
     "execution_count": 124,
     "metadata": {},
     "output_type": "execute_result"
    }
   ],
   "source": [
    "embs = emb_features.EmbeddingModel(\n",
    "    vocab_dict = vocab_dict,\n",
    "    num_oov_buckets = 1,\n",
    "    global_emb_size = 64,\n",
    "    mv_emb_size = 32,\n",
    ")\n",
    "\n",
    "embs"
   ]
  },
  {
   "cell_type": "code",
   "execution_count": 125,
   "id": "7623b3b6-c591-4239-91a9-a18d6194cbb2",
   "metadata": {},
   "outputs": [
    {
     "data": {
      "text/plain": [
       "{'bucketized_user_age': <tf.Tensor: shape=(1,), dtype=float32, numpy=array([25.], dtype=float32)>,\n",
       " 'movie_genres': <tf.Tensor: shape=(1, 1), dtype=int64, numpy=array([[4]])>,\n",
       " 'movie_id': <tf.Tensor: shape=(1,), dtype=string, numpy=array([b'211'], dtype=object)>,\n",
       " 'timestamp': <tf.Tensor: shape=(1,), dtype=int64, numpy=array([874948475])>,\n",
       " 'user_id': <tf.Tensor: shape=(1,), dtype=string, numpy=array([b'346'], dtype=object)>,\n",
       " 'user_occupation_text': <tf.Tensor: shape=(1,), dtype=string, numpy=array([b'other'], dtype=object)>,\n",
       " 'user_rating': <tf.Tensor: shape=(1,), dtype=float32, numpy=array([4.], dtype=float32)>}"
      ]
     },
     "execution_count": 125,
     "metadata": {},
     "output_type": "execute_result"
    }
   ],
   "source": [
    "x"
   ]
  },
  {
   "cell_type": "code",
   "execution_count": 135,
   "id": "2e2bfd49-4a91-4912-afe9-8a3a6cf30a88",
   "metadata": {},
   "outputs": [
    {
     "data": {
      "text/plain": [
       "{'bucketized_user_age': 25.0,\n",
       " 'movie_genres': array([4]),\n",
       " 'movie_id': b'211',\n",
       " 'timestamp': 874948475,\n",
       " 'user_id': b'346',\n",
       " 'user_occupation_text': b'other',\n",
       " 'user_rating': 4.0}"
      ]
     },
     "execution_count": 135,
     "metadata": {},
     "output_type": "execute_result"
    }
   ],
   "source": [
    "val_iter = val_dataset.as_numpy_iterator()\n",
    "iter_x = val_iter.next()\n",
    "\n",
    "iter_x # TypeError: Inputs to a layer should be tensors. Got 'b'346'' (of type <class 'bytes'>) as input for layer 'model'."
   ]
  },
  {
   "cell_type": "code",
   "execution_count": 137,
   "id": "67e96be0-ab15-4986-80db-f64b4e7cae51",
   "metadata": {},
   "outputs": [],
   "source": [
    "jt_iter_test = {\n",
    "    'bucketized_user_age': [25.0],\n",
    "    'movie_genres': [4],\n",
    "    'movie_id': ['211'],\n",
    "    'timestamp': [874948475],\n",
    "    'user_id': ['346'],\n",
    "    'user_occupation_text': ['other'],\n",
    "    'user_rating': [4.0]\n",
    "}"
   ]
  },
  {
   "cell_type": "code",
   "execution_count": 216,
   "id": "eb8a49d3-61e6-4a4f-90ce-06354de61d7b",
   "metadata": {},
   "outputs": [
    {
     "data": {
      "text/plain": [
       "{'bucketized_user_age': <tf.Tensor: shape=(1,), dtype=float32, numpy=array([25.], dtype=float32)>,\n",
       " 'movie_genres': <tf.Tensor: shape=(1, 1), dtype=int64, numpy=array([[4]])>,\n",
       " 'movie_id': <tf.Tensor: shape=(1,), dtype=string, numpy=array([b'211'], dtype=object)>,\n",
       " 'timestamp': <tf.Tensor: shape=(1,), dtype=int64, numpy=array([874948475])>,\n",
       " 'user_id': <tf.Tensor: shape=(1,), dtype=string, numpy=array([b'346'], dtype=object)>,\n",
       " 'user_occupation_text': <tf.Tensor: shape=(1,), dtype=string, numpy=array([b'other'], dtype=object)>,\n",
       " 'user_rating': <tf.Tensor: shape=(1,), dtype=float32, numpy=array([4.], dtype=float32)>}"
      ]
     },
     "execution_count": 216,
     "metadata": {},
     "output_type": "execute_result"
    }
   ],
   "source": [
    "data"
   ]
  },
  {
   "cell_type": "code",
   "execution_count": 187,
   "id": "d0625ef7-8bd4-4c96-82f9-7fc60fea4c15",
   "metadata": {},
   "outputs": [
    {
     "data": {
      "text/plain": [
       "array([[-0.02284321, -0.04486708,  0.01871774, -0.03706668, -0.03948395,\n",
       "         0.00815228,  0.04989055, -0.00984588, -0.03338911, -0.00469216,\n",
       "        -0.01469489,  0.01931005,  0.00450007,  0.04033008, -0.04139885,\n",
       "         0.03369157, -0.02654978,  0.02733845,  0.02188141,  0.03641399,\n",
       "        -0.01575927, -0.04570995, -0.04994596, -0.04506509,  0.03897073,\n",
       "        -0.02349632, -0.01979375, -0.00072138,  0.00268871, -0.04270414,\n",
       "         0.04827886,  0.00287588, -0.02039087, -0.00033497,  0.01710043,\n",
       "         0.04911342,  0.03376654,  0.03906982, -0.02361402, -0.03907317,\n",
       "        -0.00081597, -0.02704746, -0.03288104, -0.01972567, -0.02979683,\n",
       "         0.01936915, -0.02871168,  0.0135267 , -0.03308724,  0.01739838,\n",
       "        -0.0053169 , -0.0357516 ,  0.0214668 , -0.00639789,  0.03177608,\n",
       "         0.01960037,  0.03402347,  0.02833668,  0.03471385,  0.01466086,\n",
       "         0.01016812, -0.01258299, -0.04159774,  0.04512725, -0.01855729,\n",
       "         0.00272835,  0.02515319,  0.01827284,  0.00879399, -0.03101027,\n",
       "        -0.0374768 , -0.02107671, -0.02565775, -0.037301  ,  0.00176016,\n",
       "        -0.00600945, -0.03830427, -0.01250456, -0.01604456, -0.02158929,\n",
       "        -0.00606835, -0.03855998,  0.00192545,  0.00310738,  0.03374011,\n",
       "        -0.02463402,  0.003676  ,  0.01382129, -0.00599585, -0.04706679,\n",
       "         0.02555828,  0.01347831,  0.01335103, -0.04827634,  0.00585429,\n",
       "         0.04404742,  0.01531978, -0.03814347,  0.01539499,  0.02676066,\n",
       "         0.01656533,  0.00573428, -0.00989838, -0.02043386,  0.03552807,\n",
       "        -0.014947  , -0.04892334, -0.02810138,  0.01765951,  0.01742082,\n",
       "        -0.00136448, -0.02301559, -0.00886382, -0.00713097, -0.01193533,\n",
       "        -0.03373116,  0.04031863,  0.00443442, -0.04826274,  0.04392072,\n",
       "        -0.02591031,  0.01183714, -0.02822387,  0.02259351,  0.01179058,\n",
       "         0.03769896,  0.01659248,  0.01294983, -0.0221037 ,  0.01019211,\n",
       "        -0.00850185, -0.02145463, -0.01652647,  0.0272725 ,  0.04860225,\n",
       "        -0.02672522,  0.04547247, -0.0021404 , -0.02037339,  0.04160942,\n",
       "         0.03190171, -0.03708269,  0.01324243, -0.04280135,  0.00164081,\n",
       "         0.02333093, -0.03183174, -0.00783378, -0.00867095,  0.04970113,\n",
       "         0.02439096,  0.02545813,  0.04391602,  0.02014397,  0.01264885,\n",
       "        -0.03202355, -0.03163578,  0.03735579,  0.04292728,  0.00447596,\n",
       "        -0.01086847,  0.0089    , -0.00278008, -0.0426381 , -0.00266879,\n",
       "        -0.01963253,  0.04287729, -0.04609953, -0.04541909, -0.01231552,\n",
       "         0.0096383 ,  0.03548444,  0.00404842,  0.03709576, -0.03108264,\n",
       "         0.0494118 ,  0.01670628,  0.0040831 , -0.02788026, -0.04136518,\n",
       "         0.04846395, -0.02066976,  0.01795897, -0.00199509, -0.02784421,\n",
       "         0.02597522,  0.02176214,  0.02884015,  0.00629431, -0.04724199,\n",
       "         0.0280426 ,  0.01769564, -0.00040029,  0.04029502, -0.04940471,\n",
       "        -0.01218089, -0.0475058 , -0.015547  , -0.00985551,  0.00190338,\n",
       "         0.03642287, -0.01860201, -0.01297051,  0.04269964, -0.04638997,\n",
       "         0.01882559,  0.04802141,  0.03413414,  0.04364718, -0.01741977,\n",
       "         0.04268492,  0.04599992, -0.01086944,  0.02325492,  0.03774426,\n",
       "         0.03724023,  0.03269916, -0.01052532,  0.02949381,  0.02042684,\n",
       "         0.02410301, -0.02889872, -0.02798599,  0.016071  , -0.03838195,\n",
       "        -0.00085533,  0.04071743, -0.03826542, -0.00435062, -0.03676201,\n",
       "         0.00019598, -0.0104463 ,  0.03699547,  0.0213783 , -0.03411857,\n",
       "         0.04420605,  0.03144039,  0.03206578, -0.00334531,  0.02404957,\n",
       "         0.03609062, -0.03571334,  0.0043864 ,  0.01668054,  0.03959489,\n",
       "        -0.01433558, -0.02661883, -0.03389221,  0.0182589 , -0.02977916,\n",
       "        -0.00305368, -0.01978543, -0.0387383 , -0.01727823,  0.01951184,\n",
       "        -0.00389649]], dtype=float32)"
      ]
     },
     "execution_count": 187,
     "metadata": {},
     "output_type": "execute_result"
    }
   ],
   "source": [
    "# global_feat_infer = embs._get_global_context_features([[jt_iter_test]])\n",
    "\n",
    "global_feat_infer = embs._get_global_context_features(data)\n",
    "global_feat_infer"
   ]
  },
  {
   "cell_type": "code",
   "execution_count": 117,
   "id": "d0ae5f58-6eba-4ae9-b1c5-3431855f3013",
   "metadata": {},
   "outputs": [
    {
     "data": {
      "text/plain": [
       "array([b'346'], dtype=object)"
      ]
     },
     "execution_count": 117,
     "metadata": {},
     "output_type": "execute_result"
    }
   ],
   "source": [
    "np.array(x['user_id'].numpy())"
   ]
  },
  {
   "cell_type": "markdown",
   "id": "cd801da5-a78e-43f8-90d4-291e4ac08b17",
   "metadata": {},
   "source": [
    "#### Raw Predict\n",
    "\n",
    "* see [example](https://github.com/GoogleCloudPlatform/vertex-ai-samples/blob/ef8b70db32813b8a2f128ab5ef1d170aea739e7f/notebooks/official/prediction/get_started_with_raw_predict.ipynb)"
   ]
  },
  {
   "cell_type": "code",
   "execution_count": 238,
   "id": "90071b47-a610-4b79-915b-1b72f332ff57",
   "metadata": {},
   "outputs": [
    {
     "data": {
      "text/plain": [
       "{'bucketized_user_age': <tf.Tensor: shape=(1,), dtype=float32, numpy=array([25.], dtype=float32)>,\n",
       " 'movie_genres': <tf.Tensor: shape=(1, 1), dtype=int64, numpy=array([[4]])>,\n",
       " 'movie_id': <tf.Tensor: shape=(1,), dtype=string, numpy=array([b'211'], dtype=object)>,\n",
       " 'timestamp': <tf.Tensor: shape=(1,), dtype=int64, numpy=array([874948475])>,\n",
       " 'user_id': <tf.Tensor: shape=(1,), dtype=string, numpy=array([b'346'], dtype=object)>,\n",
       " 'user_occupation_text': <tf.Tensor: shape=(1,), dtype=string, numpy=array([b'other'], dtype=object)>,\n",
       " 'user_rating': <tf.Tensor: shape=(1,), dtype=float32, numpy=array([4.], dtype=float32)>}"
      ]
     },
     "execution_count": 238,
     "metadata": {},
     "output_type": "execute_result"
    }
   ],
   "source": [
    "# jt_raw_test = {\n",
    "#     'bucketized_user_age': tf.constant([25.0], dtype=tf.float32),\n",
    "#     'movie_genres': tf.constant([4], dtype=tf.int64),\n",
    "#     'movie_id': tf.constant(['211'], dtype=tf.string),\n",
    "#     'timestamp': tf.constant([874948475], dtype=tf.int64),\n",
    "#     'user_id': tf.constant(['346'], dtype=tf.string),\n",
    "#     'user_occupation_text': tf.constant(['other'], dtype=tf.string),\n",
    "#     'user_rating': tf.constant([4.0], dtype=tf.float32)\n",
    "# }\n",
    "\n",
    "# jt_raw_test = {\n",
    "#     'bucketized_user_age': [25.0],\n",
    "#     'movie_genres': [[4]],\n",
    "#     'movie_id': [b'211'],\n",
    "#     'timestamp': [874948475],\n",
    "#     'user_id': ['346'],\n",
    "#     'user_occupation_text': [b'other'],\n",
    "#     'user_rating': [4.0]\n",
    "# }\n",
    "\n",
    "jt_raw_test = data#['user_id']\n",
    "\n",
    "jt_raw_test"
   ]
  },
  {
   "cell_type": "code",
   "execution_count": 240,
   "id": "4cffd21c-d573-44cd-9a02-42feb0431168",
   "metadata": {},
   "outputs": [
    {
     "data": {
      "text/plain": [
       "{'instances': {'bucketized_user_age': [25.0],\n",
       "  'movie_genres': [[4]],\n",
       "  'movie_id': [b'211'],\n",
       "  'timestamp': [874948475],\n",
       "  'user_id': [b'346'],\n",
       "  'user_occupation_text': [b'other'],\n",
       "  'user_rating': [4.0]}}"
      ]
     },
     "execution_count": 240,
     "metadata": {},
     "output_type": "execute_result"
    }
   ],
   "source": [
    "# jt_raw_test.numpy().tolist()\n",
    "\n",
    "tes = [25.0]\n",
    "\n",
    "jt_raw_test['user_id'].numpy().tolist()\n",
    "\n",
    "TEST_INSTANCE = {\n",
    "    \"instances\":\n",
    "    {\n",
    "        'bucketized_user_age': jt_raw_test['bucketized_user_age'].numpy().tolist(),\n",
    "        'movie_genres': jt_raw_test['movie_genres'].numpy().tolist(),\n",
    "        'movie_id': jt_raw_test['movie_id'].numpy().tolist(),\n",
    "        'timestamp': jt_raw_test['timestamp'].numpy().tolist(),\n",
    "        'user_id': jt_raw_test['user_id'].numpy().tolist(),\n",
    "        'user_occupation_text': jt_raw_test['user_occupation_text'].numpy().tolist(),\n",
    "        'user_rating': jt_raw_test['user_rating'].numpy().tolist()\n",
    "    }\n",
    "}\n",
    "TEST_INSTANCE"
   ]
  },
  {
   "cell_type": "code",
   "execution_count": 242,
   "id": "5316f7ec-af63-4530-9e24-a7575ff3809c",
   "metadata": {},
   "outputs": [
    {
     "data": {
      "text/plain": [
       "{'bucketized_user_age': [25.0],\n",
       " 'movie_genres': [[4]],\n",
       " 'movie_id': [b'211'],\n",
       " 'timestamp': [874948475],\n",
       " 'user_id': [b'346'],\n",
       " 'user_occupation_text': [b'other'],\n",
       " 'user_rating': [4.0]}"
      ]
     },
     "execution_count": 242,
     "metadata": {},
     "output_type": "execute_result"
    }
   ],
   "source": [
    "TEST_INSTANCE['instances']"
   ]
  },
  {
   "cell_type": "code",
   "execution_count": 244,
   "id": "4f23f0b2-a386-4988-ae86-87e2a47da83c",
   "metadata": {},
   "outputs": [
    {
     "data": {
      "text/plain": [
       "<tf.Tensor: shape=(1,), dtype=string, numpy=array([b'346'], dtype=object)>"
      ]
     },
     "execution_count": 244,
     "metadata": {},
     "output_type": "execute_result"
    }
   ],
   "source": [
    "tf.constant(TEST_INSTANCE['instances']['user_id'])"
   ]
  },
  {
   "cell_type": "code",
   "execution_count": 218,
   "id": "795fb355-149d-4e73-b5fc-1f074c1b9127",
   "metadata": {},
   "outputs": [
    {
     "data": {
      "text/plain": [
       "<tf.Tensor: shape=(1, 64), dtype=float32, numpy=\n",
       "array([[-0.02284321, -0.04486708,  0.01871774, -0.03706668, -0.03948395,\n",
       "         0.00815228,  0.04989055, -0.00984588, -0.03338911, -0.00469216,\n",
       "        -0.01469489,  0.01931005,  0.00450007,  0.04033008, -0.04139885,\n",
       "         0.03369157, -0.02654978,  0.02733845,  0.02188141,  0.03641399,\n",
       "        -0.01575927, -0.04570995, -0.04994596, -0.04506509,  0.03897073,\n",
       "        -0.02349632, -0.01979375, -0.00072138,  0.00268871, -0.04270414,\n",
       "         0.04827886,  0.00287588, -0.02039087, -0.00033497,  0.01710043,\n",
       "         0.04911342,  0.03376654,  0.03906982, -0.02361402, -0.03907317,\n",
       "        -0.00081597, -0.02704746, -0.03288104, -0.01972567, -0.02979683,\n",
       "         0.01936915, -0.02871168,  0.0135267 , -0.03308724,  0.01739838,\n",
       "        -0.0053169 , -0.0357516 ,  0.0214668 , -0.00639789,  0.03177608,\n",
       "         0.01960037,  0.03402347,  0.02833668,  0.03471385,  0.01466086,\n",
       "         0.01016812, -0.01258299, -0.04159774,  0.04512725]],\n",
       "      dtype=float32)>"
      ]
     },
     "execution_count": 218,
     "metadata": {},
     "output_type": "execute_result"
    }
   ],
   "source": [
    "embs.user_id_model(jt_raw_test['user_id'])"
   ]
  },
  {
   "cell_type": "code",
   "execution_count": 243,
   "id": "764f8123-1d66-41c5-9444-45c1b78e8642",
   "metadata": {},
   "outputs": [
    {
     "data": {
      "text/plain": [
       "<tf.Tensor: shape=(1, 64), dtype=float32, numpy=\n",
       "array([[-0.02284321, -0.04486708,  0.01871774, -0.03706668, -0.03948395,\n",
       "         0.00815228,  0.04989055, -0.00984588, -0.03338911, -0.00469216,\n",
       "        -0.01469489,  0.01931005,  0.00450007,  0.04033008, -0.04139885,\n",
       "         0.03369157, -0.02654978,  0.02733845,  0.02188141,  0.03641399,\n",
       "        -0.01575927, -0.04570995, -0.04994596, -0.04506509,  0.03897073,\n",
       "        -0.02349632, -0.01979375, -0.00072138,  0.00268871, -0.04270414,\n",
       "         0.04827886,  0.00287588, -0.02039087, -0.00033497,  0.01710043,\n",
       "         0.04911342,  0.03376654,  0.03906982, -0.02361402, -0.03907317,\n",
       "        -0.00081597, -0.02704746, -0.03288104, -0.01972567, -0.02979683,\n",
       "         0.01936915, -0.02871168,  0.0135267 , -0.03308724,  0.01739838,\n",
       "        -0.0053169 , -0.0357516 ,  0.0214668 , -0.00639789,  0.03177608,\n",
       "         0.01960037,  0.03402347,  0.02833668,  0.03471385,  0.01466086,\n",
       "         0.01016812, -0.01258299, -0.04159774,  0.04512725]],\n",
       "      dtype=float32)>"
      ]
     },
     "execution_count": 243,
     "metadata": {},
     "output_type": "execute_result"
    }
   ],
   "source": [
    "embs.user_id_model(tf.constant(TEST_INSTANCE['instances']['user_id']))"
   ]
  },
  {
   "cell_type": "code",
   "execution_count": 219,
   "id": "90e1972f-1a80-40b7-8799-3e1e28f884fa",
   "metadata": {},
   "outputs": [
    {
     "data": {
      "text/plain": [
       "array([[-0.02284321, -0.04486708,  0.01871774, -0.03706668, -0.03948395,\n",
       "         0.00815228,  0.04989055, -0.00984588, -0.03338911, -0.00469216,\n",
       "        -0.01469489,  0.01931005,  0.00450007,  0.04033008, -0.04139885,\n",
       "         0.03369157, -0.02654978,  0.02733845,  0.02188141,  0.03641399,\n",
       "        -0.01575927, -0.04570995, -0.04994596, -0.04506509,  0.03897073,\n",
       "        -0.02349632, -0.01979375, -0.00072138,  0.00268871, -0.04270414,\n",
       "         0.04827886,  0.00287588, -0.02039087, -0.00033497,  0.01710043,\n",
       "         0.04911342,  0.03376654,  0.03906982, -0.02361402, -0.03907317,\n",
       "        -0.00081597, -0.02704746, -0.03288104, -0.01972567, -0.02979683,\n",
       "         0.01936915, -0.02871168,  0.0135267 , -0.03308724,  0.01739838,\n",
       "        -0.0053169 , -0.0357516 ,  0.0214668 , -0.00639789,  0.03177608,\n",
       "         0.01960037,  0.03402347,  0.02833668,  0.03471385,  0.01466086,\n",
       "         0.01016812, -0.01258299, -0.04159774,  0.04512725]],\n",
       "      dtype=float32)"
      ]
     },
     "execution_count": 219,
     "metadata": {},
     "output_type": "execute_result"
    }
   ],
   "source": [
    "np.array(embs.user_id_model(jt_raw_test['user_id']).numpy())"
   ]
  },
  {
   "cell_type": "code",
   "execution_count": 246,
   "id": "19dcb084-9263-4f99-8f1e-16a7d9b68b8e",
   "metadata": {},
   "outputs": [
    {
     "ename": "InternalServerError",
     "evalue": "500 Internal Server Error",
     "output_type": "error",
     "traceback": [
      "\u001b[0;31m---------------------------------------------------------------------------\u001b[0m",
      "\u001b[0;31m_InactiveRpcError\u001b[0m                         Traceback (most recent call last)",
      "File \u001b[0;32m/opt/conda/lib/python3.10/site-packages/google/api_core/grpc_helpers.py:75\u001b[0m, in \u001b[0;36m_wrap_unary_errors.<locals>.error_remapped_callable\u001b[0;34m(*args, **kwargs)\u001b[0m\n\u001b[1;32m     74\u001b[0m \u001b[38;5;28;01mtry\u001b[39;00m:\n\u001b[0;32m---> 75\u001b[0m     \u001b[38;5;28;01mreturn\u001b[39;00m \u001b[43mcallable_\u001b[49m\u001b[43m(\u001b[49m\u001b[38;5;241;43m*\u001b[39;49m\u001b[43margs\u001b[49m\u001b[43m,\u001b[49m\u001b[43m \u001b[49m\u001b[38;5;241;43m*\u001b[39;49m\u001b[38;5;241;43m*\u001b[39;49m\u001b[43mkwargs\u001b[49m\u001b[43m)\u001b[49m\n\u001b[1;32m     76\u001b[0m \u001b[38;5;28;01mexcept\u001b[39;00m grpc\u001b[38;5;241m.\u001b[39mRpcError \u001b[38;5;28;01mas\u001b[39;00m exc:\n",
      "File \u001b[0;32m~/.local/lib/python3.10/site-packages/grpc/_channel.py:1161\u001b[0m, in \u001b[0;36m_UnaryUnaryMultiCallable.__call__\u001b[0;34m(self, request, timeout, metadata, credentials, wait_for_ready, compression)\u001b[0m\n\u001b[1;32m   1155\u001b[0m (\n\u001b[1;32m   1156\u001b[0m     state,\n\u001b[1;32m   1157\u001b[0m     call,\n\u001b[1;32m   1158\u001b[0m ) \u001b[38;5;241m=\u001b[39m \u001b[38;5;28mself\u001b[39m\u001b[38;5;241m.\u001b[39m_blocking(\n\u001b[1;32m   1159\u001b[0m     request, timeout, metadata, credentials, wait_for_ready, compression\n\u001b[1;32m   1160\u001b[0m )\n\u001b[0;32m-> 1161\u001b[0m \u001b[38;5;28;01mreturn\u001b[39;00m \u001b[43m_end_unary_response_blocking\u001b[49m\u001b[43m(\u001b[49m\u001b[43mstate\u001b[49m\u001b[43m,\u001b[49m\u001b[43m \u001b[49m\u001b[43mcall\u001b[49m\u001b[43m,\u001b[49m\u001b[43m \u001b[49m\u001b[38;5;28;43;01mFalse\u001b[39;49;00m\u001b[43m,\u001b[49m\u001b[43m \u001b[49m\u001b[38;5;28;43;01mNone\u001b[39;49;00m\u001b[43m)\u001b[49m\n",
      "File \u001b[0;32m~/.local/lib/python3.10/site-packages/grpc/_channel.py:1004\u001b[0m, in \u001b[0;36m_end_unary_response_blocking\u001b[0;34m(state, call, with_call, deadline)\u001b[0m\n\u001b[1;32m   1003\u001b[0m \u001b[38;5;28;01melse\u001b[39;00m:\n\u001b[0;32m-> 1004\u001b[0m     \u001b[38;5;28;01mraise\u001b[39;00m _InactiveRpcError(state)\n",
      "\u001b[0;31m_InactiveRpcError\u001b[0m: <_InactiveRpcError of RPC that terminated with:\n\tstatus = StatusCode.INTERNAL\n\tdetails = \"Internal Server Error\"\n\tdebug_error_string = \"UNKNOWN:Error received from peer ipv4:142.250.103.95:443 {created_time:\"2023-11-15T14:30:45.714901951+00:00\", grpc_status:13, grpc_message:\"Internal Server Error\"}\"\n>",
      "\nThe above exception was the direct cause of the following exception:\n",
      "\u001b[0;31mInternalServerError\u001b[0m                       Traceback (most recent call last)",
      "Cell \u001b[0;32mIn[246], line 1\u001b[0m\n\u001b[0;32m----> 1\u001b[0m \u001b[43mdeployed_policy\u001b[49m\u001b[38;5;241;43m.\u001b[39;49m\u001b[43mpredict\u001b[49m\u001b[43m(\u001b[49m\n\u001b[1;32m      2\u001b[0m \u001b[43m    \u001b[49m\u001b[43minstances\u001b[49m\u001b[38;5;241;43m=\u001b[39;49m\u001b[43m[\u001b[49m\u001b[43mTEST_INSTANCE\u001b[49m\u001b[43m]\u001b[49m\u001b[43m,\u001b[49m\n\u001b[1;32m      3\u001b[0m \u001b[43m)\u001b[49m\n",
      "File \u001b[0;32m/opt/conda/lib/python3.10/site-packages/google/cloud/aiplatform/models.py:1596\u001b[0m, in \u001b[0;36mEndpoint.predict\u001b[0;34m(self, instances, parameters, timeout, use_raw_predict)\u001b[0m\n\u001b[1;32m   1583\u001b[0m     \u001b[38;5;28;01mreturn\u001b[39;00m Prediction(\n\u001b[1;32m   1584\u001b[0m         predictions\u001b[38;5;241m=\u001b[39mjson_response[\u001b[38;5;124m\"\u001b[39m\u001b[38;5;124mpredictions\u001b[39m\u001b[38;5;124m\"\u001b[39m],\n\u001b[1;32m   1585\u001b[0m         deployed_model_id\u001b[38;5;241m=\u001b[39mraw_predict_response\u001b[38;5;241m.\u001b[39mheaders[\n\u001b[0;32m   (...)\u001b[0m\n\u001b[1;32m   1593\u001b[0m         ),\n\u001b[1;32m   1594\u001b[0m     )\n\u001b[1;32m   1595\u001b[0m \u001b[38;5;28;01melse\u001b[39;00m:\n\u001b[0;32m-> 1596\u001b[0m     prediction_response \u001b[38;5;241m=\u001b[39m \u001b[38;5;28;43mself\u001b[39;49m\u001b[38;5;241;43m.\u001b[39;49m\u001b[43m_prediction_client\u001b[49m\u001b[38;5;241;43m.\u001b[39;49m\u001b[43mpredict\u001b[49m\u001b[43m(\u001b[49m\n\u001b[1;32m   1597\u001b[0m \u001b[43m        \u001b[49m\u001b[43mendpoint\u001b[49m\u001b[38;5;241;43m=\u001b[39;49m\u001b[38;5;28;43mself\u001b[39;49m\u001b[38;5;241;43m.\u001b[39;49m\u001b[43m_gca_resource\u001b[49m\u001b[38;5;241;43m.\u001b[39;49m\u001b[43mname\u001b[49m\u001b[43m,\u001b[49m\n\u001b[1;32m   1598\u001b[0m \u001b[43m        \u001b[49m\u001b[43minstances\u001b[49m\u001b[38;5;241;43m=\u001b[39;49m\u001b[43minstances\u001b[49m\u001b[43m,\u001b[49m\n\u001b[1;32m   1599\u001b[0m \u001b[43m        \u001b[49m\u001b[43mparameters\u001b[49m\u001b[38;5;241;43m=\u001b[39;49m\u001b[43mparameters\u001b[49m\u001b[43m,\u001b[49m\n\u001b[1;32m   1600\u001b[0m \u001b[43m        \u001b[49m\u001b[43mtimeout\u001b[49m\u001b[38;5;241;43m=\u001b[39;49m\u001b[43mtimeout\u001b[49m\u001b[43m,\u001b[49m\n\u001b[1;32m   1601\u001b[0m \u001b[43m    \u001b[49m\u001b[43m)\u001b[49m\n\u001b[1;32m   1603\u001b[0m     \u001b[38;5;28;01mreturn\u001b[39;00m Prediction(\n\u001b[1;32m   1604\u001b[0m         predictions\u001b[38;5;241m=\u001b[39m[\n\u001b[1;32m   1605\u001b[0m             json_format\u001b[38;5;241m.\u001b[39mMessageToDict(item)\n\u001b[0;32m   (...)\u001b[0m\n\u001b[1;32m   1610\u001b[0m         model_resource_name\u001b[38;5;241m=\u001b[39mprediction_response\u001b[38;5;241m.\u001b[39mmodel,\n\u001b[1;32m   1611\u001b[0m     )\n",
      "File \u001b[0;32m/opt/conda/lib/python3.10/site-packages/google/cloud/aiplatform_v1/services/prediction_service/client.py:604\u001b[0m, in \u001b[0;36mPredictionServiceClient.predict\u001b[0;34m(self, request, endpoint, instances, parameters, retry, timeout, metadata)\u001b[0m\n\u001b[1;32m    599\u001b[0m metadata \u001b[38;5;241m=\u001b[39m \u001b[38;5;28mtuple\u001b[39m(metadata) \u001b[38;5;241m+\u001b[39m (\n\u001b[1;32m    600\u001b[0m     gapic_v1\u001b[38;5;241m.\u001b[39mrouting_header\u001b[38;5;241m.\u001b[39mto_grpc_metadata(((\u001b[38;5;124m\"\u001b[39m\u001b[38;5;124mendpoint\u001b[39m\u001b[38;5;124m\"\u001b[39m, request\u001b[38;5;241m.\u001b[39mendpoint),)),\n\u001b[1;32m    601\u001b[0m )\n\u001b[1;32m    603\u001b[0m \u001b[38;5;66;03m# Send the request.\u001b[39;00m\n\u001b[0;32m--> 604\u001b[0m response \u001b[38;5;241m=\u001b[39m \u001b[43mrpc\u001b[49m\u001b[43m(\u001b[49m\n\u001b[1;32m    605\u001b[0m \u001b[43m    \u001b[49m\u001b[43mrequest\u001b[49m\u001b[43m,\u001b[49m\n\u001b[1;32m    606\u001b[0m \u001b[43m    \u001b[49m\u001b[43mretry\u001b[49m\u001b[38;5;241;43m=\u001b[39;49m\u001b[43mretry\u001b[49m\u001b[43m,\u001b[49m\n\u001b[1;32m    607\u001b[0m \u001b[43m    \u001b[49m\u001b[43mtimeout\u001b[49m\u001b[38;5;241;43m=\u001b[39;49m\u001b[43mtimeout\u001b[49m\u001b[43m,\u001b[49m\n\u001b[1;32m    608\u001b[0m \u001b[43m    \u001b[49m\u001b[43mmetadata\u001b[49m\u001b[38;5;241;43m=\u001b[39;49m\u001b[43mmetadata\u001b[49m\u001b[43m,\u001b[49m\n\u001b[1;32m    609\u001b[0m \u001b[43m\u001b[49m\u001b[43m)\u001b[49m\n\u001b[1;32m    611\u001b[0m \u001b[38;5;66;03m# Done; return the response.\u001b[39;00m\n\u001b[1;32m    612\u001b[0m \u001b[38;5;28;01mreturn\u001b[39;00m response\n",
      "File \u001b[0;32m/opt/conda/lib/python3.10/site-packages/google/api_core/gapic_v1/method.py:131\u001b[0m, in \u001b[0;36m_GapicCallable.__call__\u001b[0;34m(self, timeout, retry, compression, *args, **kwargs)\u001b[0m\n\u001b[1;32m    128\u001b[0m \u001b[38;5;28;01mif\u001b[39;00m \u001b[38;5;28mself\u001b[39m\u001b[38;5;241m.\u001b[39m_compression \u001b[38;5;129;01mis\u001b[39;00m \u001b[38;5;129;01mnot\u001b[39;00m \u001b[38;5;28;01mNone\u001b[39;00m:\n\u001b[1;32m    129\u001b[0m     kwargs[\u001b[38;5;124m\"\u001b[39m\u001b[38;5;124mcompression\u001b[39m\u001b[38;5;124m\"\u001b[39m] \u001b[38;5;241m=\u001b[39m compression\n\u001b[0;32m--> 131\u001b[0m \u001b[38;5;28;01mreturn\u001b[39;00m \u001b[43mwrapped_func\u001b[49m\u001b[43m(\u001b[49m\u001b[38;5;241;43m*\u001b[39;49m\u001b[43margs\u001b[49m\u001b[43m,\u001b[49m\u001b[43m \u001b[49m\u001b[38;5;241;43m*\u001b[39;49m\u001b[38;5;241;43m*\u001b[39;49m\u001b[43mkwargs\u001b[49m\u001b[43m)\u001b[49m\n",
      "File \u001b[0;32m/opt/conda/lib/python3.10/site-packages/google/api_core/grpc_helpers.py:77\u001b[0m, in \u001b[0;36m_wrap_unary_errors.<locals>.error_remapped_callable\u001b[0;34m(*args, **kwargs)\u001b[0m\n\u001b[1;32m     75\u001b[0m     \u001b[38;5;28;01mreturn\u001b[39;00m callable_(\u001b[38;5;241m*\u001b[39margs, \u001b[38;5;241m*\u001b[39m\u001b[38;5;241m*\u001b[39mkwargs)\n\u001b[1;32m     76\u001b[0m \u001b[38;5;28;01mexcept\u001b[39;00m grpc\u001b[38;5;241m.\u001b[39mRpcError \u001b[38;5;28;01mas\u001b[39;00m exc:\n\u001b[0;32m---> 77\u001b[0m     \u001b[38;5;28;01mraise\u001b[39;00m exceptions\u001b[38;5;241m.\u001b[39mfrom_grpc_error(exc) \u001b[38;5;28;01mfrom\u001b[39;00m \u001b[38;5;21;01mexc\u001b[39;00m\n",
      "\u001b[0;31mInternalServerError\u001b[0m: 500 Internal Server Error"
     ]
    }
   ],
   "source": [
    "deployed_policy.predict(\n",
    "    instances=[TEST_INSTANCE],\n",
    ")"
   ]
  },
  {
   "cell_type": "code",
   "execution_count": 164,
   "id": "4937309f-060a-4c6a-b5c5-15050e903a06",
   "metadata": {},
   "outputs": [],
   "source": [
    "import json\n",
    "\n",
    "from google.api import httpbody_pb2\n",
    "from google.cloud import aiplatform_v1"
   ]
  },
  {
   "cell_type": "code",
   "execution_count": 179,
   "id": "c6f67b8e-9e96-4be4-b61f-3be33a0fb7e3",
   "metadata": {},
   "outputs": [
    {
     "ename": "TypeError",
     "evalue": "Object of type EagerTensor is not JSON serializable",
     "output_type": "error",
     "traceback": [
      "\u001b[0;31m---------------------------------------------------------------------------\u001b[0m",
      "\u001b[0;31mTypeError\u001b[0m                                 Traceback (most recent call last)",
      "Cell \u001b[0;32mIn[179], line 47\u001b[0m\n\u001b[1;32m      1\u001b[0m \u001b[38;5;66;03m# TEST_INSTANCE = {\u001b[39;00m\n\u001b[1;32m      2\u001b[0m \u001b[38;5;66;03m#     \"instances\": [\u001b[39;00m\n\u001b[1;32m      3\u001b[0m \u001b[38;5;66;03m#         {\u001b[39;00m\n\u001b[0;32m   (...)\u001b[0m\n\u001b[1;32m     29\u001b[0m \u001b[38;5;66;03m#     \"instances\": jt_raw_test\u001b[39;00m\n\u001b[1;32m     30\u001b[0m \u001b[38;5;66;03m# }\u001b[39;00m\n\u001b[1;32m     32\u001b[0m TEST_INSTANCE \u001b[38;5;241m=\u001b[39m {\n\u001b[1;32m     33\u001b[0m     \u001b[38;5;124m\"\u001b[39m\u001b[38;5;124minstances\u001b[39m\u001b[38;5;124m\"\u001b[39m: [\n\u001b[1;32m     34\u001b[0m         {\n\u001b[0;32m   (...)\u001b[0m\n\u001b[1;32m     43\u001b[0m     ]\n\u001b[1;32m     44\u001b[0m }\n\u001b[1;32m     46\u001b[0m http_body \u001b[38;5;241m=\u001b[39m httpbody_pb2\u001b[38;5;241m.\u001b[39mHttpBody(\n\u001b[0;32m---> 47\u001b[0m     data\u001b[38;5;241m=\u001b[39m\u001b[43mjson\u001b[49m\u001b[38;5;241;43m.\u001b[39;49m\u001b[43mdumps\u001b[49m\u001b[43m(\u001b[49m\u001b[43mTEST_INSTANCE\u001b[49m\u001b[43m)\u001b[49m\u001b[38;5;241m.\u001b[39mencode(\u001b[38;5;124m\"\u001b[39m\u001b[38;5;124mutf-8\u001b[39m\u001b[38;5;124m\"\u001b[39m),\n\u001b[1;32m     48\u001b[0m     content_type\u001b[38;5;241m=\u001b[39m\u001b[38;5;124m\"\u001b[39m\u001b[38;5;124mapplication/json\u001b[39m\u001b[38;5;124m\"\u001b[39m,\n\u001b[1;32m     49\u001b[0m )\n\u001b[1;32m     51\u001b[0m req \u001b[38;5;241m=\u001b[39m aiplatform_v1\u001b[38;5;241m.\u001b[39mRawPredictRequest(\n\u001b[1;32m     52\u001b[0m     http_body\u001b[38;5;241m=\u001b[39mhttp_body, endpoint\u001b[38;5;241m=\u001b[39mendpoint\u001b[38;5;241m.\u001b[39mresource_name\n\u001b[1;32m     53\u001b[0m )\n\u001b[1;32m     55\u001b[0m req\n",
      "File \u001b[0;32m/opt/conda/lib/python3.10/json/__init__.py:231\u001b[0m, in \u001b[0;36mdumps\u001b[0;34m(obj, skipkeys, ensure_ascii, check_circular, allow_nan, cls, indent, separators, default, sort_keys, **kw)\u001b[0m\n\u001b[1;32m    226\u001b[0m \u001b[38;5;66;03m# cached encoder\u001b[39;00m\n\u001b[1;32m    227\u001b[0m \u001b[38;5;28;01mif\u001b[39;00m (\u001b[38;5;129;01mnot\u001b[39;00m skipkeys \u001b[38;5;129;01mand\u001b[39;00m ensure_ascii \u001b[38;5;129;01mand\u001b[39;00m\n\u001b[1;32m    228\u001b[0m     check_circular \u001b[38;5;129;01mand\u001b[39;00m allow_nan \u001b[38;5;129;01mand\u001b[39;00m\n\u001b[1;32m    229\u001b[0m     \u001b[38;5;28mcls\u001b[39m \u001b[38;5;129;01mis\u001b[39;00m \u001b[38;5;28;01mNone\u001b[39;00m \u001b[38;5;129;01mand\u001b[39;00m indent \u001b[38;5;129;01mis\u001b[39;00m \u001b[38;5;28;01mNone\u001b[39;00m \u001b[38;5;129;01mand\u001b[39;00m separators \u001b[38;5;129;01mis\u001b[39;00m \u001b[38;5;28;01mNone\u001b[39;00m \u001b[38;5;129;01mand\u001b[39;00m\n\u001b[1;32m    230\u001b[0m     default \u001b[38;5;129;01mis\u001b[39;00m \u001b[38;5;28;01mNone\u001b[39;00m \u001b[38;5;129;01mand\u001b[39;00m \u001b[38;5;129;01mnot\u001b[39;00m sort_keys \u001b[38;5;129;01mand\u001b[39;00m \u001b[38;5;129;01mnot\u001b[39;00m kw):\n\u001b[0;32m--> 231\u001b[0m     \u001b[38;5;28;01mreturn\u001b[39;00m \u001b[43m_default_encoder\u001b[49m\u001b[38;5;241;43m.\u001b[39;49m\u001b[43mencode\u001b[49m\u001b[43m(\u001b[49m\u001b[43mobj\u001b[49m\u001b[43m)\u001b[49m\n\u001b[1;32m    232\u001b[0m \u001b[38;5;28;01mif\u001b[39;00m \u001b[38;5;28mcls\u001b[39m \u001b[38;5;129;01mis\u001b[39;00m \u001b[38;5;28;01mNone\u001b[39;00m:\n\u001b[1;32m    233\u001b[0m     \u001b[38;5;28mcls\u001b[39m \u001b[38;5;241m=\u001b[39m JSONEncoder\n",
      "File \u001b[0;32m/opt/conda/lib/python3.10/json/encoder.py:199\u001b[0m, in \u001b[0;36mJSONEncoder.encode\u001b[0;34m(self, o)\u001b[0m\n\u001b[1;32m    195\u001b[0m         \u001b[38;5;28;01mreturn\u001b[39;00m encode_basestring(o)\n\u001b[1;32m    196\u001b[0m \u001b[38;5;66;03m# This doesn't pass the iterator directly to ''.join() because the\u001b[39;00m\n\u001b[1;32m    197\u001b[0m \u001b[38;5;66;03m# exceptions aren't as detailed.  The list call should be roughly\u001b[39;00m\n\u001b[1;32m    198\u001b[0m \u001b[38;5;66;03m# equivalent to the PySequence_Fast that ''.join() would do.\u001b[39;00m\n\u001b[0;32m--> 199\u001b[0m chunks \u001b[38;5;241m=\u001b[39m \u001b[38;5;28;43mself\u001b[39;49m\u001b[38;5;241;43m.\u001b[39;49m\u001b[43miterencode\u001b[49m\u001b[43m(\u001b[49m\u001b[43mo\u001b[49m\u001b[43m,\u001b[49m\u001b[43m \u001b[49m\u001b[43m_one_shot\u001b[49m\u001b[38;5;241;43m=\u001b[39;49m\u001b[38;5;28;43;01mTrue\u001b[39;49;00m\u001b[43m)\u001b[49m\n\u001b[1;32m    200\u001b[0m \u001b[38;5;28;01mif\u001b[39;00m \u001b[38;5;129;01mnot\u001b[39;00m \u001b[38;5;28misinstance\u001b[39m(chunks, (\u001b[38;5;28mlist\u001b[39m, \u001b[38;5;28mtuple\u001b[39m)):\n\u001b[1;32m    201\u001b[0m     chunks \u001b[38;5;241m=\u001b[39m \u001b[38;5;28mlist\u001b[39m(chunks)\n",
      "File \u001b[0;32m/opt/conda/lib/python3.10/json/encoder.py:257\u001b[0m, in \u001b[0;36mJSONEncoder.iterencode\u001b[0;34m(self, o, _one_shot)\u001b[0m\n\u001b[1;32m    252\u001b[0m \u001b[38;5;28;01melse\u001b[39;00m:\n\u001b[1;32m    253\u001b[0m     _iterencode \u001b[38;5;241m=\u001b[39m _make_iterencode(\n\u001b[1;32m    254\u001b[0m         markers, \u001b[38;5;28mself\u001b[39m\u001b[38;5;241m.\u001b[39mdefault, _encoder, \u001b[38;5;28mself\u001b[39m\u001b[38;5;241m.\u001b[39mindent, floatstr,\n\u001b[1;32m    255\u001b[0m         \u001b[38;5;28mself\u001b[39m\u001b[38;5;241m.\u001b[39mkey_separator, \u001b[38;5;28mself\u001b[39m\u001b[38;5;241m.\u001b[39mitem_separator, \u001b[38;5;28mself\u001b[39m\u001b[38;5;241m.\u001b[39msort_keys,\n\u001b[1;32m    256\u001b[0m         \u001b[38;5;28mself\u001b[39m\u001b[38;5;241m.\u001b[39mskipkeys, _one_shot)\n\u001b[0;32m--> 257\u001b[0m \u001b[38;5;28;01mreturn\u001b[39;00m \u001b[43m_iterencode\u001b[49m\u001b[43m(\u001b[49m\u001b[43mo\u001b[49m\u001b[43m,\u001b[49m\u001b[43m \u001b[49m\u001b[38;5;241;43m0\u001b[39;49m\u001b[43m)\u001b[49m\n",
      "File \u001b[0;32m/opt/conda/lib/python3.10/json/encoder.py:179\u001b[0m, in \u001b[0;36mJSONEncoder.default\u001b[0;34m(self, o)\u001b[0m\n\u001b[1;32m    160\u001b[0m \u001b[38;5;28;01mdef\u001b[39;00m \u001b[38;5;21mdefault\u001b[39m(\u001b[38;5;28mself\u001b[39m, o):\n\u001b[1;32m    161\u001b[0m \u001b[38;5;250m    \u001b[39m\u001b[38;5;124;03m\"\"\"Implement this method in a subclass such that it returns\u001b[39;00m\n\u001b[1;32m    162\u001b[0m \u001b[38;5;124;03m    a serializable object for ``o``, or calls the base implementation\u001b[39;00m\n\u001b[1;32m    163\u001b[0m \u001b[38;5;124;03m    (to raise a ``TypeError``).\u001b[39;00m\n\u001b[0;32m   (...)\u001b[0m\n\u001b[1;32m    177\u001b[0m \n\u001b[1;32m    178\u001b[0m \u001b[38;5;124;03m    \"\"\"\u001b[39;00m\n\u001b[0;32m--> 179\u001b[0m     \u001b[38;5;28;01mraise\u001b[39;00m \u001b[38;5;167;01mTypeError\u001b[39;00m(\u001b[38;5;124mf\u001b[39m\u001b[38;5;124m'\u001b[39m\u001b[38;5;124mObject of type \u001b[39m\u001b[38;5;132;01m{\u001b[39;00mo\u001b[38;5;241m.\u001b[39m\u001b[38;5;18m__class__\u001b[39m\u001b[38;5;241m.\u001b[39m\u001b[38;5;18m__name__\u001b[39m\u001b[38;5;132;01m}\u001b[39;00m\u001b[38;5;124m \u001b[39m\u001b[38;5;124m'\u001b[39m\n\u001b[1;32m    180\u001b[0m                     \u001b[38;5;124mf\u001b[39m\u001b[38;5;124m'\u001b[39m\u001b[38;5;124mis not JSON serializable\u001b[39m\u001b[38;5;124m'\u001b[39m)\n",
      "\u001b[0;31mTypeError\u001b[0m: Object of type EagerTensor is not JSON serializable"
     ]
    }
   ],
   "source": [
    "# TEST_INSTANCE = {\n",
    "#     \"instances\": [\n",
    "#         {\n",
    "#             'bucketized_user_age': [25.0],\n",
    "#             'movie_genres': [4],\n",
    "#             'movie_id': ['211'],\n",
    "#             'timestamp': [874948475],\n",
    "#             'user_id': [['346']],\n",
    "#             'user_occupation_text': ['other'],\n",
    "#             'user_rating': [4.0]\n",
    "#         }\n",
    "#     ]\n",
    "# }\n",
    "\n",
    "# TEST_INSTANCE = {\n",
    "#     \"instances\":\n",
    "#     {\n",
    "#         'bucketized_user_age': [25.0],\n",
    "#         'movie_genres': [4],\n",
    "#         'movie_id': ['211'],\n",
    "#         'timestamp': [874948475],\n",
    "#         'user_id': ['346'],\n",
    "#         'user_occupation_text': ['other'],\n",
    "#         'user_rating': [4.0]\n",
    "#     }\n",
    "# }\n",
    "\n",
    "# TEST_INSTANCE = {\n",
    "#     \"instances\": jt_raw_test\n",
    "# }\n",
    "\n",
    "TEST_INSTANCE = {\n",
    "    \"instances\": [\n",
    "        {\n",
    "            'bucketized_user_age': tf.constant([25.0], dtype=tf.float32),\n",
    "            'movie_genres': tf.constant([4], dtype=tf.int64),\n",
    "            'movie_id': tf.constant(['211'], dtype=tf.string),\n",
    "            'timestamp': tf.constant([874948475], dtype=tf.int64),\n",
    "            'user_id': tf.constant(['346'], dtype=tf.string),\n",
    "            'user_occupation_text': tf.constant(['other'], dtype=tf.string),\n",
    "            'user_rating': tf.constant([4.0], dtype=tf.float32)\n",
    "        }\n",
    "    ]\n",
    "}\n",
    "\n",
    "http_body = httpbody_pb2.HttpBody(\n",
    "    data=json.dumps(TEST_INSTANCE).encode(\"utf-8\"),\n",
    "    content_type=\"application/json\",\n",
    ")\n",
    "\n",
    "req = aiplatform_v1.RawPredictRequest(\n",
    "    http_body=http_body, endpoint=endpoint.resource_name\n",
    ")\n",
    "\n",
    "req"
   ]
  },
  {
   "cell_type": "code",
   "execution_count": 159,
   "id": "f348ea29-89fc-4f4f-b22b-7aa0148c368e",
   "metadata": {},
   "outputs": [
    {
     "data": {
      "text/plain": [
       "<google.cloud.aiplatform_v1.services.prediction_service.client.PredictionServiceClient at 0x7f77cc1eeb30>"
      ]
     },
     "execution_count": 159,
     "metadata": {},
     "output_type": "execute_result"
    }
   ],
   "source": [
    "API_ENDPOINT = \"{}-aiplatform.googleapis.com\".format(REGION)\n",
    "client_options = {\"api_endpoint\": API_ENDPOINT}\n",
    "\n",
    "pred_client = vertex_ai.gapic.PredictionServiceClient(client_options=client_options)\n",
    "pred_client"
   ]
  },
  {
   "cell_type": "code",
   "execution_count": 160,
   "id": "ba6f5f40-0270-439e-b946-3e91705c1eee",
   "metadata": {},
   "outputs": [
    {
     "ename": "InternalServerError",
     "evalue": "500 Internal Server Error",
     "output_type": "error",
     "traceback": [
      "\u001b[0;31m---------------------------------------------------------------------------\u001b[0m",
      "\u001b[0;31m_InactiveRpcError\u001b[0m                         Traceback (most recent call last)",
      "File \u001b[0;32m/opt/conda/lib/python3.10/site-packages/google/api_core/grpc_helpers.py:75\u001b[0m, in \u001b[0;36m_wrap_unary_errors.<locals>.error_remapped_callable\u001b[0;34m(*args, **kwargs)\u001b[0m\n\u001b[1;32m     74\u001b[0m \u001b[38;5;28;01mtry\u001b[39;00m:\n\u001b[0;32m---> 75\u001b[0m     \u001b[38;5;28;01mreturn\u001b[39;00m \u001b[43mcallable_\u001b[49m\u001b[43m(\u001b[49m\u001b[38;5;241;43m*\u001b[39;49m\u001b[43margs\u001b[49m\u001b[43m,\u001b[49m\u001b[43m \u001b[49m\u001b[38;5;241;43m*\u001b[39;49m\u001b[38;5;241;43m*\u001b[39;49m\u001b[43mkwargs\u001b[49m\u001b[43m)\u001b[49m\n\u001b[1;32m     76\u001b[0m \u001b[38;5;28;01mexcept\u001b[39;00m grpc\u001b[38;5;241m.\u001b[39mRpcError \u001b[38;5;28;01mas\u001b[39;00m exc:\n",
      "File \u001b[0;32m~/.local/lib/python3.10/site-packages/grpc/_channel.py:1161\u001b[0m, in \u001b[0;36m_UnaryUnaryMultiCallable.__call__\u001b[0;34m(self, request, timeout, metadata, credentials, wait_for_ready, compression)\u001b[0m\n\u001b[1;32m   1155\u001b[0m (\n\u001b[1;32m   1156\u001b[0m     state,\n\u001b[1;32m   1157\u001b[0m     call,\n\u001b[1;32m   1158\u001b[0m ) \u001b[38;5;241m=\u001b[39m \u001b[38;5;28mself\u001b[39m\u001b[38;5;241m.\u001b[39m_blocking(\n\u001b[1;32m   1159\u001b[0m     request, timeout, metadata, credentials, wait_for_ready, compression\n\u001b[1;32m   1160\u001b[0m )\n\u001b[0;32m-> 1161\u001b[0m \u001b[38;5;28;01mreturn\u001b[39;00m \u001b[43m_end_unary_response_blocking\u001b[49m\u001b[43m(\u001b[49m\u001b[43mstate\u001b[49m\u001b[43m,\u001b[49m\u001b[43m \u001b[49m\u001b[43mcall\u001b[49m\u001b[43m,\u001b[49m\u001b[43m \u001b[49m\u001b[38;5;28;43;01mFalse\u001b[39;49;00m\u001b[43m,\u001b[49m\u001b[43m \u001b[49m\u001b[38;5;28;43;01mNone\u001b[39;49;00m\u001b[43m)\u001b[49m\n",
      "File \u001b[0;32m~/.local/lib/python3.10/site-packages/grpc/_channel.py:1004\u001b[0m, in \u001b[0;36m_end_unary_response_blocking\u001b[0;34m(state, call, with_call, deadline)\u001b[0m\n\u001b[1;32m   1003\u001b[0m \u001b[38;5;28;01melse\u001b[39;00m:\n\u001b[0;32m-> 1004\u001b[0m     \u001b[38;5;28;01mraise\u001b[39;00m _InactiveRpcError(state)\n",
      "\u001b[0;31m_InactiveRpcError\u001b[0m: <_InactiveRpcError of RPC that terminated with:\n\tstatus = StatusCode.INTERNAL\n\tdetails = \"Internal Server Error\"\n\tdebug_error_string = \"UNKNOWN:Error received from peer ipv4:108.177.121.95:443 {created_time:\"2023-11-15T13:34:53.170385275+00:00\", grpc_status:13, grpc_message:\"Internal Server Error\"}\"\n>",
      "\nThe above exception was the direct cause of the following exception:\n",
      "\u001b[0;31mInternalServerError\u001b[0m                       Traceback (most recent call last)",
      "Cell \u001b[0;32mIn[160], line 1\u001b[0m\n\u001b[0;32m----> 1\u001b[0m response \u001b[38;5;241m=\u001b[39m \u001b[43mpred_client\u001b[49m\u001b[38;5;241;43m.\u001b[39;49m\u001b[43mraw_predict\u001b[49m\u001b[43m(\u001b[49m\u001b[43mreq\u001b[49m\u001b[43m)\u001b[49m\n\u001b[1;32m      2\u001b[0m \u001b[38;5;28mprint\u001b[39m(response)\n",
      "File \u001b[0;32m/opt/conda/lib/python3.10/site-packages/google/cloud/aiplatform_v1/services/prediction_service/client.py:790\u001b[0m, in \u001b[0;36mPredictionServiceClient.raw_predict\u001b[0;34m(self, request, endpoint, http_body, retry, timeout, metadata)\u001b[0m\n\u001b[1;32m    785\u001b[0m metadata \u001b[38;5;241m=\u001b[39m \u001b[38;5;28mtuple\u001b[39m(metadata) \u001b[38;5;241m+\u001b[39m (\n\u001b[1;32m    786\u001b[0m     gapic_v1\u001b[38;5;241m.\u001b[39mrouting_header\u001b[38;5;241m.\u001b[39mto_grpc_metadata(((\u001b[38;5;124m\"\u001b[39m\u001b[38;5;124mendpoint\u001b[39m\u001b[38;5;124m\"\u001b[39m, request\u001b[38;5;241m.\u001b[39mendpoint),)),\n\u001b[1;32m    787\u001b[0m )\n\u001b[1;32m    789\u001b[0m \u001b[38;5;66;03m# Send the request.\u001b[39;00m\n\u001b[0;32m--> 790\u001b[0m response \u001b[38;5;241m=\u001b[39m \u001b[43mrpc\u001b[49m\u001b[43m(\u001b[49m\n\u001b[1;32m    791\u001b[0m \u001b[43m    \u001b[49m\u001b[43mrequest\u001b[49m\u001b[43m,\u001b[49m\n\u001b[1;32m    792\u001b[0m \u001b[43m    \u001b[49m\u001b[43mretry\u001b[49m\u001b[38;5;241;43m=\u001b[39;49m\u001b[43mretry\u001b[49m\u001b[43m,\u001b[49m\n\u001b[1;32m    793\u001b[0m \u001b[43m    \u001b[49m\u001b[43mtimeout\u001b[49m\u001b[38;5;241;43m=\u001b[39;49m\u001b[43mtimeout\u001b[49m\u001b[43m,\u001b[49m\n\u001b[1;32m    794\u001b[0m \u001b[43m    \u001b[49m\u001b[43mmetadata\u001b[49m\u001b[38;5;241;43m=\u001b[39;49m\u001b[43mmetadata\u001b[49m\u001b[43m,\u001b[49m\n\u001b[1;32m    795\u001b[0m \u001b[43m\u001b[49m\u001b[43m)\u001b[49m\n\u001b[1;32m    797\u001b[0m \u001b[38;5;66;03m# Done; return the response.\u001b[39;00m\n\u001b[1;32m    798\u001b[0m \u001b[38;5;28;01mreturn\u001b[39;00m response\n",
      "File \u001b[0;32m/opt/conda/lib/python3.10/site-packages/google/api_core/gapic_v1/method.py:131\u001b[0m, in \u001b[0;36m_GapicCallable.__call__\u001b[0;34m(self, timeout, retry, compression, *args, **kwargs)\u001b[0m\n\u001b[1;32m    128\u001b[0m \u001b[38;5;28;01mif\u001b[39;00m \u001b[38;5;28mself\u001b[39m\u001b[38;5;241m.\u001b[39m_compression \u001b[38;5;129;01mis\u001b[39;00m \u001b[38;5;129;01mnot\u001b[39;00m \u001b[38;5;28;01mNone\u001b[39;00m:\n\u001b[1;32m    129\u001b[0m     kwargs[\u001b[38;5;124m\"\u001b[39m\u001b[38;5;124mcompression\u001b[39m\u001b[38;5;124m\"\u001b[39m] \u001b[38;5;241m=\u001b[39m compression\n\u001b[0;32m--> 131\u001b[0m \u001b[38;5;28;01mreturn\u001b[39;00m \u001b[43mwrapped_func\u001b[49m\u001b[43m(\u001b[49m\u001b[38;5;241;43m*\u001b[39;49m\u001b[43margs\u001b[49m\u001b[43m,\u001b[49m\u001b[43m \u001b[49m\u001b[38;5;241;43m*\u001b[39;49m\u001b[38;5;241;43m*\u001b[39;49m\u001b[43mkwargs\u001b[49m\u001b[43m)\u001b[49m\n",
      "File \u001b[0;32m/opt/conda/lib/python3.10/site-packages/google/api_core/grpc_helpers.py:77\u001b[0m, in \u001b[0;36m_wrap_unary_errors.<locals>.error_remapped_callable\u001b[0;34m(*args, **kwargs)\u001b[0m\n\u001b[1;32m     75\u001b[0m     \u001b[38;5;28;01mreturn\u001b[39;00m callable_(\u001b[38;5;241m*\u001b[39margs, \u001b[38;5;241m*\u001b[39m\u001b[38;5;241m*\u001b[39mkwargs)\n\u001b[1;32m     76\u001b[0m \u001b[38;5;28;01mexcept\u001b[39;00m grpc\u001b[38;5;241m.\u001b[39mRpcError \u001b[38;5;28;01mas\u001b[39;00m exc:\n\u001b[0;32m---> 77\u001b[0m     \u001b[38;5;28;01mraise\u001b[39;00m exceptions\u001b[38;5;241m.\u001b[39mfrom_grpc_error(exc) \u001b[38;5;28;01mfrom\u001b[39;00m \u001b[38;5;21;01mexc\u001b[39;00m\n",
      "\u001b[0;31mInternalServerError\u001b[0m: 500 Internal Server Error"
     ]
    }
   ],
   "source": [
    "response = pred_client.raw_predict(req)\n",
    "print(response)"
   ]
  },
  {
   "cell_type": "code",
   "execution_count": 153,
   "id": "9c3914e2-00f7-41f1-b47e-f48a5868822b",
   "metadata": {},
   "outputs": [
    {
     "ename": "ValueError",
     "evalue": "Unable to coerce value: <tf.Tensor: shape=(1,), dtype=float32, numpy=array([25.], dtype=float32)>",
     "output_type": "error",
     "traceback": [
      "\u001b[0;31m---------------------------------------------------------------------------\u001b[0m",
      "\u001b[0;31mValueError\u001b[0m                                Traceback (most recent call last)",
      "Cell \u001b[0;32mIn[153], line 1\u001b[0m\n\u001b[0;32m----> 1\u001b[0m \u001b[43mdeployed_policy\u001b[49m\u001b[38;5;241;43m.\u001b[39;49m\u001b[43mpredict\u001b[49m\u001b[43m(\u001b[49m\n\u001b[1;32m      2\u001b[0m \u001b[43m    \u001b[49m\u001b[43minstances\u001b[49m\u001b[38;5;241;43m=\u001b[39;49m\u001b[43m[\u001b[49m\u001b[43m[\u001b[49m\u001b[43mdata\u001b[49m\u001b[43m]\u001b[49m\u001b[43m]\u001b[49m\u001b[43m,\u001b[49m\n\u001b[1;32m      3\u001b[0m \u001b[43m)\u001b[49m\n",
      "File \u001b[0;32m/opt/conda/lib/python3.10/site-packages/google/cloud/aiplatform/models.py:1596\u001b[0m, in \u001b[0;36mEndpoint.predict\u001b[0;34m(self, instances, parameters, timeout, use_raw_predict)\u001b[0m\n\u001b[1;32m   1583\u001b[0m     \u001b[38;5;28;01mreturn\u001b[39;00m Prediction(\n\u001b[1;32m   1584\u001b[0m         predictions\u001b[38;5;241m=\u001b[39mjson_response[\u001b[38;5;124m\"\u001b[39m\u001b[38;5;124mpredictions\u001b[39m\u001b[38;5;124m\"\u001b[39m],\n\u001b[1;32m   1585\u001b[0m         deployed_model_id\u001b[38;5;241m=\u001b[39mraw_predict_response\u001b[38;5;241m.\u001b[39mheaders[\n\u001b[0;32m   (...)\u001b[0m\n\u001b[1;32m   1593\u001b[0m         ),\n\u001b[1;32m   1594\u001b[0m     )\n\u001b[1;32m   1595\u001b[0m \u001b[38;5;28;01melse\u001b[39;00m:\n\u001b[0;32m-> 1596\u001b[0m     prediction_response \u001b[38;5;241m=\u001b[39m \u001b[38;5;28;43mself\u001b[39;49m\u001b[38;5;241;43m.\u001b[39;49m\u001b[43m_prediction_client\u001b[49m\u001b[38;5;241;43m.\u001b[39;49m\u001b[43mpredict\u001b[49m\u001b[43m(\u001b[49m\n\u001b[1;32m   1597\u001b[0m \u001b[43m        \u001b[49m\u001b[43mendpoint\u001b[49m\u001b[38;5;241;43m=\u001b[39;49m\u001b[38;5;28;43mself\u001b[39;49m\u001b[38;5;241;43m.\u001b[39;49m\u001b[43m_gca_resource\u001b[49m\u001b[38;5;241;43m.\u001b[39;49m\u001b[43mname\u001b[49m\u001b[43m,\u001b[49m\n\u001b[1;32m   1598\u001b[0m \u001b[43m        \u001b[49m\u001b[43minstances\u001b[49m\u001b[38;5;241;43m=\u001b[39;49m\u001b[43minstances\u001b[49m\u001b[43m,\u001b[49m\n\u001b[1;32m   1599\u001b[0m \u001b[43m        \u001b[49m\u001b[43mparameters\u001b[49m\u001b[38;5;241;43m=\u001b[39;49m\u001b[43mparameters\u001b[49m\u001b[43m,\u001b[49m\n\u001b[1;32m   1600\u001b[0m \u001b[43m        \u001b[49m\u001b[43mtimeout\u001b[49m\u001b[38;5;241;43m=\u001b[39;49m\u001b[43mtimeout\u001b[49m\u001b[43m,\u001b[49m\n\u001b[1;32m   1601\u001b[0m \u001b[43m    \u001b[49m\u001b[43m)\u001b[49m\n\u001b[1;32m   1603\u001b[0m     \u001b[38;5;28;01mreturn\u001b[39;00m Prediction(\n\u001b[1;32m   1604\u001b[0m         predictions\u001b[38;5;241m=\u001b[39m[\n\u001b[1;32m   1605\u001b[0m             json_format\u001b[38;5;241m.\u001b[39mMessageToDict(item)\n\u001b[0;32m   (...)\u001b[0m\n\u001b[1;32m   1610\u001b[0m         model_resource_name\u001b[38;5;241m=\u001b[39mprediction_response\u001b[38;5;241m.\u001b[39mmodel,\n\u001b[1;32m   1611\u001b[0m     )\n",
      "File \u001b[0;32m/opt/conda/lib/python3.10/site-packages/google/cloud/aiplatform_v1/services/prediction_service/client.py:589\u001b[0m, in \u001b[0;36mPredictionServiceClient.predict\u001b[0;34m(self, request, endpoint, instances, parameters, retry, timeout, metadata)\u001b[0m\n\u001b[1;32m    587\u001b[0m     request\u001b[38;5;241m.\u001b[39mendpoint \u001b[38;5;241m=\u001b[39m endpoint\n\u001b[1;32m    588\u001b[0m \u001b[38;5;28;01mif\u001b[39;00m instances \u001b[38;5;129;01mis\u001b[39;00m \u001b[38;5;129;01mnot\u001b[39;00m \u001b[38;5;28;01mNone\u001b[39;00m:\n\u001b[0;32m--> 589\u001b[0m     \u001b[43mrequest\u001b[49m\u001b[38;5;241;43m.\u001b[39;49m\u001b[43minstances\u001b[49m\u001b[38;5;241;43m.\u001b[39;49m\u001b[43mextend\u001b[49m\u001b[43m(\u001b[49m\u001b[43minstances\u001b[49m\u001b[43m)\u001b[49m\n\u001b[1;32m    590\u001b[0m \u001b[38;5;28;01mif\u001b[39;00m parameters \u001b[38;5;129;01mis\u001b[39;00m \u001b[38;5;129;01mnot\u001b[39;00m \u001b[38;5;28;01mNone\u001b[39;00m:\n\u001b[1;32m    591\u001b[0m     request\u001b[38;5;241m.\u001b[39mparameters \u001b[38;5;241m=\u001b[39m parameters\n",
      "File \u001b[0;32m/opt/conda/lib/python3.10/_collections_abc.py:1149\u001b[0m, in \u001b[0;36mMutableSequence.extend\u001b[0;34m(self, values)\u001b[0m\n\u001b[1;32m   1147\u001b[0m     values \u001b[38;5;241m=\u001b[39m \u001b[38;5;28mlist\u001b[39m(values)\n\u001b[1;32m   1148\u001b[0m \u001b[38;5;28;01mfor\u001b[39;00m v \u001b[38;5;129;01min\u001b[39;00m values:\n\u001b[0;32m-> 1149\u001b[0m     \u001b[38;5;28;43mself\u001b[39;49m\u001b[38;5;241;43m.\u001b[39;49m\u001b[43mappend\u001b[49m\u001b[43m(\u001b[49m\u001b[43mv\u001b[49m\u001b[43m)\u001b[49m\n",
      "File \u001b[0;32m/opt/conda/lib/python3.10/_collections_abc.py:1128\u001b[0m, in \u001b[0;36mMutableSequence.append\u001b[0;34m(self, value)\u001b[0m\n\u001b[1;32m   1126\u001b[0m \u001b[38;5;28;01mdef\u001b[39;00m \u001b[38;5;21mappend\u001b[39m(\u001b[38;5;28mself\u001b[39m, value):\n\u001b[1;32m   1127\u001b[0m     \u001b[38;5;124m'\u001b[39m\u001b[38;5;124mS.append(value) -- append value to the end of the sequence\u001b[39m\u001b[38;5;124m'\u001b[39m\n\u001b[0;32m-> 1128\u001b[0m     \u001b[38;5;28;43mself\u001b[39;49m\u001b[38;5;241;43m.\u001b[39;49m\u001b[43minsert\u001b[49m\u001b[43m(\u001b[49m\u001b[38;5;28;43mlen\u001b[39;49m\u001b[43m(\u001b[49m\u001b[38;5;28;43mself\u001b[39;49m\u001b[43m)\u001b[49m\u001b[43m,\u001b[49m\u001b[43m \u001b[49m\u001b[43mvalue\u001b[49m\u001b[43m)\u001b[49m\n",
      "File \u001b[0;32m/opt/conda/lib/python3.10/site-packages/proto/marshal/collections/repeated.py:183\u001b[0m, in \u001b[0;36mRepeatedComposite.insert\u001b[0;34m(self, index, value)\u001b[0m\n\u001b[1;32m    181\u001b[0m \u001b[38;5;28;01mdef\u001b[39;00m \u001b[38;5;21minsert\u001b[39m(\u001b[38;5;28mself\u001b[39m, index: \u001b[38;5;28mint\u001b[39m, value):\n\u001b[1;32m    182\u001b[0m \u001b[38;5;250m    \u001b[39m\u001b[38;5;124;03m\"\"\"Insert ``value`` in the sequence before ``index``.\"\"\"\u001b[39;00m\n\u001b[0;32m--> 183\u001b[0m     pb_value \u001b[38;5;241m=\u001b[39m \u001b[38;5;28;43mself\u001b[39;49m\u001b[38;5;241;43m.\u001b[39;49m\u001b[43m_marshal\u001b[49m\u001b[38;5;241;43m.\u001b[39;49m\u001b[43mto_proto\u001b[49m\u001b[43m(\u001b[49m\u001b[38;5;28;43mself\u001b[39;49m\u001b[38;5;241;43m.\u001b[39;49m\u001b[43m_pb_type\u001b[49m\u001b[43m,\u001b[49m\u001b[43m \u001b[49m\u001b[43mvalue\u001b[49m\u001b[43m)\u001b[49m\n\u001b[1;32m    184\u001b[0m     \u001b[38;5;28mself\u001b[39m\u001b[38;5;241m.\u001b[39mpb\u001b[38;5;241m.\u001b[39minsert(index, pb_value)\n",
      "File \u001b[0;32m/opt/conda/lib/python3.10/site-packages/proto/marshal/marshal.py:228\u001b[0m, in \u001b[0;36mBaseMarshal.to_proto\u001b[0;34m(self, proto_type, value, strict)\u001b[0m\n\u001b[1;32m    225\u001b[0m     recursive_type \u001b[38;5;241m=\u001b[39m \u001b[38;5;28mtype\u001b[39m(proto_type()\u001b[38;5;241m.\u001b[39mvalue)\n\u001b[1;32m    226\u001b[0m     \u001b[38;5;28;01mreturn\u001b[39;00m {k: \u001b[38;5;28mself\u001b[39m\u001b[38;5;241m.\u001b[39mto_proto(recursive_type, v) \u001b[38;5;28;01mfor\u001b[39;00m k, v \u001b[38;5;129;01min\u001b[39;00m value\u001b[38;5;241m.\u001b[39mitems()}\n\u001b[0;32m--> 228\u001b[0m pb_value \u001b[38;5;241m=\u001b[39m \u001b[38;5;28;43mself\u001b[39;49m\u001b[38;5;241;43m.\u001b[39;49m\u001b[43mget_rule\u001b[49m\u001b[43m(\u001b[49m\u001b[43mproto_type\u001b[49m\u001b[38;5;241;43m=\u001b[39;49m\u001b[43mproto_type\u001b[49m\u001b[43m)\u001b[49m\u001b[38;5;241;43m.\u001b[39;49m\u001b[43mto_proto\u001b[49m\u001b[43m(\u001b[49m\u001b[43mvalue\u001b[49m\u001b[43m)\u001b[49m\n\u001b[1;32m    230\u001b[0m \u001b[38;5;66;03m# Sanity check: If we are in strict mode, did we get the value we want?\u001b[39;00m\n\u001b[1;32m    231\u001b[0m \u001b[38;5;28;01mif\u001b[39;00m strict \u001b[38;5;129;01mand\u001b[39;00m \u001b[38;5;129;01mnot\u001b[39;00m \u001b[38;5;28misinstance\u001b[39m(pb_value, proto_type):\n",
      "File \u001b[0;32m/opt/conda/lib/python3.10/site-packages/google/cloud/aiplatform/utils/enhanced_library/_decorators.py:33\u001b[0m, in \u001b[0;36mConversionValueRule.to_proto\u001b[0;34m(self, value)\u001b[0m\n\u001b[1;32m     31\u001b[0m     \u001b[38;5;28;01mreturn\u001b[39;00m value\u001b[38;5;241m.\u001b[39mto_value()\n\u001b[1;32m     32\u001b[0m \u001b[38;5;28;01melse\u001b[39;00m:\n\u001b[0;32m---> 33\u001b[0m     \u001b[38;5;28;01mreturn\u001b[39;00m \u001b[38;5;28;43msuper\u001b[39;49m\u001b[43m(\u001b[49m\u001b[43m)\u001b[49m\u001b[38;5;241;43m.\u001b[39;49m\u001b[43mto_proto\u001b[49m\u001b[43m(\u001b[49m\u001b[43mvalue\u001b[49m\u001b[43m)\u001b[49m\n",
      "File \u001b[0;32m/opt/conda/lib/python3.10/site-packages/proto/marshal/rules/struct.py:78\u001b[0m, in \u001b[0;36mValueRule.to_proto\u001b[0;34m(self, value)\u001b[0m\n\u001b[1;32m     75\u001b[0m     \u001b[38;5;28;01mreturn\u001b[39;00m struct_pb2\u001b[38;5;241m.\u001b[39mValue(string_value\u001b[38;5;241m=\u001b[39mvalue)\n\u001b[1;32m     76\u001b[0m \u001b[38;5;28;01mif\u001b[39;00m \u001b[38;5;28misinstance\u001b[39m(value, collections\u001b[38;5;241m.\u001b[39mabc\u001b[38;5;241m.\u001b[39mSequence):\n\u001b[1;32m     77\u001b[0m     \u001b[38;5;28;01mreturn\u001b[39;00m struct_pb2\u001b[38;5;241m.\u001b[39mValue(\n\u001b[0;32m---> 78\u001b[0m         list_value\u001b[38;5;241m=\u001b[39m\u001b[38;5;28;43mself\u001b[39;49m\u001b[38;5;241;43m.\u001b[39;49m\u001b[43m_marshal\u001b[49m\u001b[38;5;241;43m.\u001b[39;49m\u001b[43mto_proto\u001b[49m\u001b[43m(\u001b[49m\u001b[43mstruct_pb2\u001b[49m\u001b[38;5;241;43m.\u001b[39;49m\u001b[43mListValue\u001b[49m\u001b[43m,\u001b[49m\u001b[43m \u001b[49m\u001b[43mvalue\u001b[49m\u001b[43m)\u001b[49m,\n\u001b[1;32m     79\u001b[0m     )\n\u001b[1;32m     80\u001b[0m \u001b[38;5;28;01mif\u001b[39;00m \u001b[38;5;28misinstance\u001b[39m(value, collections\u001b[38;5;241m.\u001b[39mabc\u001b[38;5;241m.\u001b[39mMapping):\n\u001b[1;32m     81\u001b[0m     \u001b[38;5;28;01mreturn\u001b[39;00m struct_pb2\u001b[38;5;241m.\u001b[39mValue(\n\u001b[1;32m     82\u001b[0m         struct_value\u001b[38;5;241m=\u001b[39m\u001b[38;5;28mself\u001b[39m\u001b[38;5;241m.\u001b[39m_marshal\u001b[38;5;241m.\u001b[39mto_proto(struct_pb2\u001b[38;5;241m.\u001b[39mStruct, value),\n\u001b[1;32m     83\u001b[0m     )\n",
      "File \u001b[0;32m/opt/conda/lib/python3.10/site-packages/proto/marshal/marshal.py:228\u001b[0m, in \u001b[0;36mBaseMarshal.to_proto\u001b[0;34m(self, proto_type, value, strict)\u001b[0m\n\u001b[1;32m    225\u001b[0m     recursive_type \u001b[38;5;241m=\u001b[39m \u001b[38;5;28mtype\u001b[39m(proto_type()\u001b[38;5;241m.\u001b[39mvalue)\n\u001b[1;32m    226\u001b[0m     \u001b[38;5;28;01mreturn\u001b[39;00m {k: \u001b[38;5;28mself\u001b[39m\u001b[38;5;241m.\u001b[39mto_proto(recursive_type, v) \u001b[38;5;28;01mfor\u001b[39;00m k, v \u001b[38;5;129;01min\u001b[39;00m value\u001b[38;5;241m.\u001b[39mitems()}\n\u001b[0;32m--> 228\u001b[0m pb_value \u001b[38;5;241m=\u001b[39m \u001b[38;5;28;43mself\u001b[39;49m\u001b[38;5;241;43m.\u001b[39;49m\u001b[43mget_rule\u001b[49m\u001b[43m(\u001b[49m\u001b[43mproto_type\u001b[49m\u001b[38;5;241;43m=\u001b[39;49m\u001b[43mproto_type\u001b[49m\u001b[43m)\u001b[49m\u001b[38;5;241;43m.\u001b[39;49m\u001b[43mto_proto\u001b[49m\u001b[43m(\u001b[49m\u001b[43mvalue\u001b[49m\u001b[43m)\u001b[49m\n\u001b[1;32m    230\u001b[0m \u001b[38;5;66;03m# Sanity check: If we are in strict mode, did we get the value we want?\u001b[39;00m\n\u001b[1;32m    231\u001b[0m \u001b[38;5;28;01mif\u001b[39;00m strict \u001b[38;5;129;01mand\u001b[39;00m \u001b[38;5;129;01mnot\u001b[39;00m \u001b[38;5;28misinstance\u001b[39m(pb_value, proto_type):\n",
      "File \u001b[0;32m/opt/conda/lib/python3.10/site-packages/proto/marshal/rules/struct.py:111\u001b[0m, in \u001b[0;36mListValueRule.to_proto\u001b[0;34m(self, value)\u001b[0m\n\u001b[1;32m    107\u001b[0m     \u001b[38;5;28;01mreturn\u001b[39;00m struct_pb2\u001b[38;5;241m.\u001b[39mListValue(values\u001b[38;5;241m=\u001b[39m[v \u001b[38;5;28;01mfor\u001b[39;00m v \u001b[38;5;129;01min\u001b[39;00m value\u001b[38;5;241m.\u001b[39mpb])\n\u001b[1;32m    109\u001b[0m \u001b[38;5;66;03m# We got a list (or something list-like); convert it.\u001b[39;00m\n\u001b[1;32m    110\u001b[0m \u001b[38;5;28;01mreturn\u001b[39;00m struct_pb2\u001b[38;5;241m.\u001b[39mListValue(\n\u001b[0;32m--> 111\u001b[0m     values\u001b[38;5;241m=\u001b[39m[\u001b[38;5;28mself\u001b[39m\u001b[38;5;241m.\u001b[39m_marshal\u001b[38;5;241m.\u001b[39mto_proto(struct_pb2\u001b[38;5;241m.\u001b[39mValue, v) \u001b[38;5;28;01mfor\u001b[39;00m v \u001b[38;5;129;01min\u001b[39;00m value]\n\u001b[1;32m    112\u001b[0m )\n",
      "File \u001b[0;32m/opt/conda/lib/python3.10/site-packages/proto/marshal/rules/struct.py:111\u001b[0m, in \u001b[0;36m<listcomp>\u001b[0;34m(.0)\u001b[0m\n\u001b[1;32m    107\u001b[0m     \u001b[38;5;28;01mreturn\u001b[39;00m struct_pb2\u001b[38;5;241m.\u001b[39mListValue(values\u001b[38;5;241m=\u001b[39m[v \u001b[38;5;28;01mfor\u001b[39;00m v \u001b[38;5;129;01min\u001b[39;00m value\u001b[38;5;241m.\u001b[39mpb])\n\u001b[1;32m    109\u001b[0m \u001b[38;5;66;03m# We got a list (or something list-like); convert it.\u001b[39;00m\n\u001b[1;32m    110\u001b[0m \u001b[38;5;28;01mreturn\u001b[39;00m struct_pb2\u001b[38;5;241m.\u001b[39mListValue(\n\u001b[0;32m--> 111\u001b[0m     values\u001b[38;5;241m=\u001b[39m[\u001b[38;5;28;43mself\u001b[39;49m\u001b[38;5;241;43m.\u001b[39;49m\u001b[43m_marshal\u001b[49m\u001b[38;5;241;43m.\u001b[39;49m\u001b[43mto_proto\u001b[49m\u001b[43m(\u001b[49m\u001b[43mstruct_pb2\u001b[49m\u001b[38;5;241;43m.\u001b[39;49m\u001b[43mValue\u001b[49m\u001b[43m,\u001b[49m\u001b[43m \u001b[49m\u001b[43mv\u001b[49m\u001b[43m)\u001b[49m \u001b[38;5;28;01mfor\u001b[39;00m v \u001b[38;5;129;01min\u001b[39;00m value]\n\u001b[1;32m    112\u001b[0m )\n",
      "File \u001b[0;32m/opt/conda/lib/python3.10/site-packages/proto/marshal/marshal.py:228\u001b[0m, in \u001b[0;36mBaseMarshal.to_proto\u001b[0;34m(self, proto_type, value, strict)\u001b[0m\n\u001b[1;32m    225\u001b[0m     recursive_type \u001b[38;5;241m=\u001b[39m \u001b[38;5;28mtype\u001b[39m(proto_type()\u001b[38;5;241m.\u001b[39mvalue)\n\u001b[1;32m    226\u001b[0m     \u001b[38;5;28;01mreturn\u001b[39;00m {k: \u001b[38;5;28mself\u001b[39m\u001b[38;5;241m.\u001b[39mto_proto(recursive_type, v) \u001b[38;5;28;01mfor\u001b[39;00m k, v \u001b[38;5;129;01min\u001b[39;00m value\u001b[38;5;241m.\u001b[39mitems()}\n\u001b[0;32m--> 228\u001b[0m pb_value \u001b[38;5;241m=\u001b[39m \u001b[38;5;28;43mself\u001b[39;49m\u001b[38;5;241;43m.\u001b[39;49m\u001b[43mget_rule\u001b[49m\u001b[43m(\u001b[49m\u001b[43mproto_type\u001b[49m\u001b[38;5;241;43m=\u001b[39;49m\u001b[43mproto_type\u001b[49m\u001b[43m)\u001b[49m\u001b[38;5;241;43m.\u001b[39;49m\u001b[43mto_proto\u001b[49m\u001b[43m(\u001b[49m\u001b[43mvalue\u001b[49m\u001b[43m)\u001b[49m\n\u001b[1;32m    230\u001b[0m \u001b[38;5;66;03m# Sanity check: If we are in strict mode, did we get the value we want?\u001b[39;00m\n\u001b[1;32m    231\u001b[0m \u001b[38;5;28;01mif\u001b[39;00m strict \u001b[38;5;129;01mand\u001b[39;00m \u001b[38;5;129;01mnot\u001b[39;00m \u001b[38;5;28misinstance\u001b[39m(pb_value, proto_type):\n",
      "File \u001b[0;32m/opt/conda/lib/python3.10/site-packages/google/cloud/aiplatform/utils/enhanced_library/_decorators.py:33\u001b[0m, in \u001b[0;36mConversionValueRule.to_proto\u001b[0;34m(self, value)\u001b[0m\n\u001b[1;32m     31\u001b[0m     \u001b[38;5;28;01mreturn\u001b[39;00m value\u001b[38;5;241m.\u001b[39mto_value()\n\u001b[1;32m     32\u001b[0m \u001b[38;5;28;01melse\u001b[39;00m:\n\u001b[0;32m---> 33\u001b[0m     \u001b[38;5;28;01mreturn\u001b[39;00m \u001b[38;5;28;43msuper\u001b[39;49m\u001b[43m(\u001b[49m\u001b[43m)\u001b[49m\u001b[38;5;241;43m.\u001b[39;49m\u001b[43mto_proto\u001b[49m\u001b[43m(\u001b[49m\u001b[43mvalue\u001b[49m\u001b[43m)\u001b[49m\n",
      "File \u001b[0;32m/opt/conda/lib/python3.10/site-packages/proto/marshal/rules/struct.py:82\u001b[0m, in \u001b[0;36mValueRule.to_proto\u001b[0;34m(self, value)\u001b[0m\n\u001b[1;32m     77\u001b[0m     \u001b[38;5;28;01mreturn\u001b[39;00m struct_pb2\u001b[38;5;241m.\u001b[39mValue(\n\u001b[1;32m     78\u001b[0m         list_value\u001b[38;5;241m=\u001b[39m\u001b[38;5;28mself\u001b[39m\u001b[38;5;241m.\u001b[39m_marshal\u001b[38;5;241m.\u001b[39mto_proto(struct_pb2\u001b[38;5;241m.\u001b[39mListValue, value),\n\u001b[1;32m     79\u001b[0m     )\n\u001b[1;32m     80\u001b[0m \u001b[38;5;28;01mif\u001b[39;00m \u001b[38;5;28misinstance\u001b[39m(value, collections\u001b[38;5;241m.\u001b[39mabc\u001b[38;5;241m.\u001b[39mMapping):\n\u001b[1;32m     81\u001b[0m     \u001b[38;5;28;01mreturn\u001b[39;00m struct_pb2\u001b[38;5;241m.\u001b[39mValue(\n\u001b[0;32m---> 82\u001b[0m         struct_value\u001b[38;5;241m=\u001b[39m\u001b[38;5;28;43mself\u001b[39;49m\u001b[38;5;241;43m.\u001b[39;49m\u001b[43m_marshal\u001b[49m\u001b[38;5;241;43m.\u001b[39;49m\u001b[43mto_proto\u001b[49m\u001b[43m(\u001b[49m\u001b[43mstruct_pb2\u001b[49m\u001b[38;5;241;43m.\u001b[39;49m\u001b[43mStruct\u001b[49m\u001b[43m,\u001b[49m\u001b[43m \u001b[49m\u001b[43mvalue\u001b[49m\u001b[43m)\u001b[49m,\n\u001b[1;32m     83\u001b[0m     )\n\u001b[1;32m     84\u001b[0m \u001b[38;5;28;01mraise\u001b[39;00m \u001b[38;5;167;01mValueError\u001b[39;00m(\u001b[38;5;124m\"\u001b[39m\u001b[38;5;124mUnable to coerce value: \u001b[39m\u001b[38;5;132;01m%r\u001b[39;00m\u001b[38;5;124m\"\u001b[39m \u001b[38;5;241m%\u001b[39m value)\n",
      "File \u001b[0;32m/opt/conda/lib/python3.10/site-packages/proto/marshal/marshal.py:228\u001b[0m, in \u001b[0;36mBaseMarshal.to_proto\u001b[0;34m(self, proto_type, value, strict)\u001b[0m\n\u001b[1;32m    225\u001b[0m     recursive_type \u001b[38;5;241m=\u001b[39m \u001b[38;5;28mtype\u001b[39m(proto_type()\u001b[38;5;241m.\u001b[39mvalue)\n\u001b[1;32m    226\u001b[0m     \u001b[38;5;28;01mreturn\u001b[39;00m {k: \u001b[38;5;28mself\u001b[39m\u001b[38;5;241m.\u001b[39mto_proto(recursive_type, v) \u001b[38;5;28;01mfor\u001b[39;00m k, v \u001b[38;5;129;01min\u001b[39;00m value\u001b[38;5;241m.\u001b[39mitems()}\n\u001b[0;32m--> 228\u001b[0m pb_value \u001b[38;5;241m=\u001b[39m \u001b[38;5;28;43mself\u001b[39;49m\u001b[38;5;241;43m.\u001b[39;49m\u001b[43mget_rule\u001b[49m\u001b[43m(\u001b[49m\u001b[43mproto_type\u001b[49m\u001b[38;5;241;43m=\u001b[39;49m\u001b[43mproto_type\u001b[49m\u001b[43m)\u001b[49m\u001b[38;5;241;43m.\u001b[39;49m\u001b[43mto_proto\u001b[49m\u001b[43m(\u001b[49m\u001b[43mvalue\u001b[49m\u001b[43m)\u001b[49m\n\u001b[1;32m    230\u001b[0m \u001b[38;5;66;03m# Sanity check: If we are in strict mode, did we get the value we want?\u001b[39;00m\n\u001b[1;32m    231\u001b[0m \u001b[38;5;28;01mif\u001b[39;00m strict \u001b[38;5;129;01mand\u001b[39;00m \u001b[38;5;129;01mnot\u001b[39;00m \u001b[38;5;28misinstance\u001b[39m(pb_value, proto_type):\n",
      "File \u001b[0;32m/opt/conda/lib/python3.10/site-packages/proto/marshal/rules/struct.py:139\u001b[0m, in \u001b[0;36mStructRule.to_proto\u001b[0;34m(self, value)\u001b[0m\n\u001b[1;32m    133\u001b[0m     \u001b[38;5;28;01mreturn\u001b[39;00m struct_pb2\u001b[38;5;241m.\u001b[39mStruct(\n\u001b[1;32m    134\u001b[0m         fields\u001b[38;5;241m=\u001b[39m{k: v \u001b[38;5;28;01mfor\u001b[39;00m k, v \u001b[38;5;129;01min\u001b[39;00m value\u001b[38;5;241m.\u001b[39mpb\u001b[38;5;241m.\u001b[39mitems()},\n\u001b[1;32m    135\u001b[0m     )\n\u001b[1;32m    137\u001b[0m \u001b[38;5;66;03m# We got a dict (or something dict-like); convert it.\u001b[39;00m\n\u001b[1;32m    138\u001b[0m answer \u001b[38;5;241m=\u001b[39m struct_pb2\u001b[38;5;241m.\u001b[39mStruct(\n\u001b[0;32m--> 139\u001b[0m     fields\u001b[38;5;241m=\u001b[39m{\n\u001b[1;32m    140\u001b[0m         k: \u001b[38;5;28mself\u001b[39m\u001b[38;5;241m.\u001b[39m_marshal\u001b[38;5;241m.\u001b[39mto_proto(struct_pb2\u001b[38;5;241m.\u001b[39mValue, v) \u001b[38;5;28;01mfor\u001b[39;00m k, v \u001b[38;5;129;01min\u001b[39;00m value\u001b[38;5;241m.\u001b[39mitems()\n\u001b[1;32m    141\u001b[0m     }\n\u001b[1;32m    142\u001b[0m )\n\u001b[1;32m    143\u001b[0m \u001b[38;5;28;01mreturn\u001b[39;00m answer\n",
      "File \u001b[0;32m/opt/conda/lib/python3.10/site-packages/proto/marshal/rules/struct.py:140\u001b[0m, in \u001b[0;36m<dictcomp>\u001b[0;34m(.0)\u001b[0m\n\u001b[1;32m    133\u001b[0m     \u001b[38;5;28;01mreturn\u001b[39;00m struct_pb2\u001b[38;5;241m.\u001b[39mStruct(\n\u001b[1;32m    134\u001b[0m         fields\u001b[38;5;241m=\u001b[39m{k: v \u001b[38;5;28;01mfor\u001b[39;00m k, v \u001b[38;5;129;01min\u001b[39;00m value\u001b[38;5;241m.\u001b[39mpb\u001b[38;5;241m.\u001b[39mitems()},\n\u001b[1;32m    135\u001b[0m     )\n\u001b[1;32m    137\u001b[0m \u001b[38;5;66;03m# We got a dict (or something dict-like); convert it.\u001b[39;00m\n\u001b[1;32m    138\u001b[0m answer \u001b[38;5;241m=\u001b[39m struct_pb2\u001b[38;5;241m.\u001b[39mStruct(\n\u001b[1;32m    139\u001b[0m     fields\u001b[38;5;241m=\u001b[39m{\n\u001b[0;32m--> 140\u001b[0m         k: \u001b[38;5;28;43mself\u001b[39;49m\u001b[38;5;241;43m.\u001b[39;49m\u001b[43m_marshal\u001b[49m\u001b[38;5;241;43m.\u001b[39;49m\u001b[43mto_proto\u001b[49m\u001b[43m(\u001b[49m\u001b[43mstruct_pb2\u001b[49m\u001b[38;5;241;43m.\u001b[39;49m\u001b[43mValue\u001b[49m\u001b[43m,\u001b[49m\u001b[43m \u001b[49m\u001b[43mv\u001b[49m\u001b[43m)\u001b[49m \u001b[38;5;28;01mfor\u001b[39;00m k, v \u001b[38;5;129;01min\u001b[39;00m value\u001b[38;5;241m.\u001b[39mitems()\n\u001b[1;32m    141\u001b[0m     }\n\u001b[1;32m    142\u001b[0m )\n\u001b[1;32m    143\u001b[0m \u001b[38;5;28;01mreturn\u001b[39;00m answer\n",
      "File \u001b[0;32m/opt/conda/lib/python3.10/site-packages/proto/marshal/marshal.py:228\u001b[0m, in \u001b[0;36mBaseMarshal.to_proto\u001b[0;34m(self, proto_type, value, strict)\u001b[0m\n\u001b[1;32m    225\u001b[0m     recursive_type \u001b[38;5;241m=\u001b[39m \u001b[38;5;28mtype\u001b[39m(proto_type()\u001b[38;5;241m.\u001b[39mvalue)\n\u001b[1;32m    226\u001b[0m     \u001b[38;5;28;01mreturn\u001b[39;00m {k: \u001b[38;5;28mself\u001b[39m\u001b[38;5;241m.\u001b[39mto_proto(recursive_type, v) \u001b[38;5;28;01mfor\u001b[39;00m k, v \u001b[38;5;129;01min\u001b[39;00m value\u001b[38;5;241m.\u001b[39mitems()}\n\u001b[0;32m--> 228\u001b[0m pb_value \u001b[38;5;241m=\u001b[39m \u001b[38;5;28;43mself\u001b[39;49m\u001b[38;5;241;43m.\u001b[39;49m\u001b[43mget_rule\u001b[49m\u001b[43m(\u001b[49m\u001b[43mproto_type\u001b[49m\u001b[38;5;241;43m=\u001b[39;49m\u001b[43mproto_type\u001b[49m\u001b[43m)\u001b[49m\u001b[38;5;241;43m.\u001b[39;49m\u001b[43mto_proto\u001b[49m\u001b[43m(\u001b[49m\u001b[43mvalue\u001b[49m\u001b[43m)\u001b[49m\n\u001b[1;32m    230\u001b[0m \u001b[38;5;66;03m# Sanity check: If we are in strict mode, did we get the value we want?\u001b[39;00m\n\u001b[1;32m    231\u001b[0m \u001b[38;5;28;01mif\u001b[39;00m strict \u001b[38;5;129;01mand\u001b[39;00m \u001b[38;5;129;01mnot\u001b[39;00m \u001b[38;5;28misinstance\u001b[39m(pb_value, proto_type):\n",
      "File \u001b[0;32m/opt/conda/lib/python3.10/site-packages/google/cloud/aiplatform/utils/enhanced_library/_decorators.py:33\u001b[0m, in \u001b[0;36mConversionValueRule.to_proto\u001b[0;34m(self, value)\u001b[0m\n\u001b[1;32m     31\u001b[0m     \u001b[38;5;28;01mreturn\u001b[39;00m value\u001b[38;5;241m.\u001b[39mto_value()\n\u001b[1;32m     32\u001b[0m \u001b[38;5;28;01melse\u001b[39;00m:\n\u001b[0;32m---> 33\u001b[0m     \u001b[38;5;28;01mreturn\u001b[39;00m \u001b[38;5;28;43msuper\u001b[39;49m\u001b[43m(\u001b[49m\u001b[43m)\u001b[49m\u001b[38;5;241;43m.\u001b[39;49m\u001b[43mto_proto\u001b[49m\u001b[43m(\u001b[49m\u001b[43mvalue\u001b[49m\u001b[43m)\u001b[49m\n",
      "File \u001b[0;32m/opt/conda/lib/python3.10/site-packages/proto/marshal/rules/struct.py:84\u001b[0m, in \u001b[0;36mValueRule.to_proto\u001b[0;34m(self, value)\u001b[0m\n\u001b[1;32m     80\u001b[0m \u001b[38;5;28;01mif\u001b[39;00m \u001b[38;5;28misinstance\u001b[39m(value, collections\u001b[38;5;241m.\u001b[39mabc\u001b[38;5;241m.\u001b[39mMapping):\n\u001b[1;32m     81\u001b[0m     \u001b[38;5;28;01mreturn\u001b[39;00m struct_pb2\u001b[38;5;241m.\u001b[39mValue(\n\u001b[1;32m     82\u001b[0m         struct_value\u001b[38;5;241m=\u001b[39m\u001b[38;5;28mself\u001b[39m\u001b[38;5;241m.\u001b[39m_marshal\u001b[38;5;241m.\u001b[39mto_proto(struct_pb2\u001b[38;5;241m.\u001b[39mStruct, value),\n\u001b[1;32m     83\u001b[0m     )\n\u001b[0;32m---> 84\u001b[0m \u001b[38;5;28;01mraise\u001b[39;00m \u001b[38;5;167;01mValueError\u001b[39;00m(\u001b[38;5;124m\"\u001b[39m\u001b[38;5;124mUnable to coerce value: \u001b[39m\u001b[38;5;132;01m%r\u001b[39;00m\u001b[38;5;124m\"\u001b[39m \u001b[38;5;241m%\u001b[39m value)\n",
      "\u001b[0;31mValueError\u001b[0m: Unable to coerce value: <tf.Tensor: shape=(1,), dtype=float32, numpy=array([25.], dtype=float32)>"
     ]
    }
   ],
   "source": [
    "deployed_policy.predict(\n",
    "    instances=data,\n",
    ")"
   ]
  },
  {
   "cell_type": "code",
   "execution_count": null,
   "id": "54280055-98fd-446e-9766-dd362b2dd279",
   "metadata": {},
   "outputs": [],
   "source": []
  },
  {
   "cell_type": "code",
   "execution_count": 46,
   "id": "25b1e15c-d39c-4ae8-925e-0dafad56cdbe",
   "metadata": {},
   "outputs": [
    {
     "ename": "ValueError",
     "evalue": "Unable to coerce value: <tf.Tensor: shape=(1,), dtype=float32, numpy=array([25.], dtype=float32)>",
     "output_type": "error",
     "traceback": [
      "\u001b[0;31m---------------------------------------------------------------------------\u001b[0m",
      "\u001b[0;31mValueError\u001b[0m                                Traceback (most recent call last)",
      "Cell \u001b[0;32mIn[46], line 3\u001b[0m\n\u001b[1;32m      1\u001b[0m \u001b[38;5;28;01mfor\u001b[39;00m x \u001b[38;5;129;01min\u001b[39;00m eval_ds\u001b[38;5;241m.\u001b[39mtake(\u001b[38;5;241m1\u001b[39m):\n\u001b[0;32m----> 3\u001b[0m     \u001b[43mdeployed_policy\u001b[49m\u001b[38;5;241;43m.\u001b[39;49m\u001b[43mpredict\u001b[49m\u001b[43m(\u001b[49m\n\u001b[1;32m      4\u001b[0m \u001b[43m        \u001b[49m\u001b[43minstances\u001b[49m\u001b[38;5;241;43m=\u001b[39;49m\u001b[43m[\u001b[49m\u001b[43mx\u001b[49m\u001b[43m]\u001b[49m\u001b[43m,\u001b[49m\n\u001b[1;32m      5\u001b[0m \u001b[43m    \u001b[49m\u001b[43m)\u001b[49m\n",
      "File \u001b[0;32m/opt/conda/lib/python3.10/site-packages/google/cloud/aiplatform/models.py:1596\u001b[0m, in \u001b[0;36mEndpoint.predict\u001b[0;34m(self, instances, parameters, timeout, use_raw_predict)\u001b[0m\n\u001b[1;32m   1583\u001b[0m     \u001b[38;5;28;01mreturn\u001b[39;00m Prediction(\n\u001b[1;32m   1584\u001b[0m         predictions\u001b[38;5;241m=\u001b[39mjson_response[\u001b[38;5;124m\"\u001b[39m\u001b[38;5;124mpredictions\u001b[39m\u001b[38;5;124m\"\u001b[39m],\n\u001b[1;32m   1585\u001b[0m         deployed_model_id\u001b[38;5;241m=\u001b[39mraw_predict_response\u001b[38;5;241m.\u001b[39mheaders[\n\u001b[0;32m   (...)\u001b[0m\n\u001b[1;32m   1593\u001b[0m         ),\n\u001b[1;32m   1594\u001b[0m     )\n\u001b[1;32m   1595\u001b[0m \u001b[38;5;28;01melse\u001b[39;00m:\n\u001b[0;32m-> 1596\u001b[0m     prediction_response \u001b[38;5;241m=\u001b[39m \u001b[38;5;28;43mself\u001b[39;49m\u001b[38;5;241;43m.\u001b[39;49m\u001b[43m_prediction_client\u001b[49m\u001b[38;5;241;43m.\u001b[39;49m\u001b[43mpredict\u001b[49m\u001b[43m(\u001b[49m\n\u001b[1;32m   1597\u001b[0m \u001b[43m        \u001b[49m\u001b[43mendpoint\u001b[49m\u001b[38;5;241;43m=\u001b[39;49m\u001b[38;5;28;43mself\u001b[39;49m\u001b[38;5;241;43m.\u001b[39;49m\u001b[43m_gca_resource\u001b[49m\u001b[38;5;241;43m.\u001b[39;49m\u001b[43mname\u001b[49m\u001b[43m,\u001b[49m\n\u001b[1;32m   1598\u001b[0m \u001b[43m        \u001b[49m\u001b[43minstances\u001b[49m\u001b[38;5;241;43m=\u001b[39;49m\u001b[43minstances\u001b[49m\u001b[43m,\u001b[49m\n\u001b[1;32m   1599\u001b[0m \u001b[43m        \u001b[49m\u001b[43mparameters\u001b[49m\u001b[38;5;241;43m=\u001b[39;49m\u001b[43mparameters\u001b[49m\u001b[43m,\u001b[49m\n\u001b[1;32m   1600\u001b[0m \u001b[43m        \u001b[49m\u001b[43mtimeout\u001b[49m\u001b[38;5;241;43m=\u001b[39;49m\u001b[43mtimeout\u001b[49m\u001b[43m,\u001b[49m\n\u001b[1;32m   1601\u001b[0m \u001b[43m    \u001b[49m\u001b[43m)\u001b[49m\n\u001b[1;32m   1603\u001b[0m     \u001b[38;5;28;01mreturn\u001b[39;00m Prediction(\n\u001b[1;32m   1604\u001b[0m         predictions\u001b[38;5;241m=\u001b[39m[\n\u001b[1;32m   1605\u001b[0m             json_format\u001b[38;5;241m.\u001b[39mMessageToDict(item)\n\u001b[0;32m   (...)\u001b[0m\n\u001b[1;32m   1610\u001b[0m         model_resource_name\u001b[38;5;241m=\u001b[39mprediction_response\u001b[38;5;241m.\u001b[39mmodel,\n\u001b[1;32m   1611\u001b[0m     )\n",
      "File \u001b[0;32m/opt/conda/lib/python3.10/site-packages/google/cloud/aiplatform_v1/services/prediction_service/client.py:589\u001b[0m, in \u001b[0;36mPredictionServiceClient.predict\u001b[0;34m(self, request, endpoint, instances, parameters, retry, timeout, metadata)\u001b[0m\n\u001b[1;32m    587\u001b[0m     request\u001b[38;5;241m.\u001b[39mendpoint \u001b[38;5;241m=\u001b[39m endpoint\n\u001b[1;32m    588\u001b[0m \u001b[38;5;28;01mif\u001b[39;00m instances \u001b[38;5;129;01mis\u001b[39;00m \u001b[38;5;129;01mnot\u001b[39;00m \u001b[38;5;28;01mNone\u001b[39;00m:\n\u001b[0;32m--> 589\u001b[0m     \u001b[43mrequest\u001b[49m\u001b[38;5;241;43m.\u001b[39;49m\u001b[43minstances\u001b[49m\u001b[38;5;241;43m.\u001b[39;49m\u001b[43mextend\u001b[49m\u001b[43m(\u001b[49m\u001b[43minstances\u001b[49m\u001b[43m)\u001b[49m\n\u001b[1;32m    590\u001b[0m \u001b[38;5;28;01mif\u001b[39;00m parameters \u001b[38;5;129;01mis\u001b[39;00m \u001b[38;5;129;01mnot\u001b[39;00m \u001b[38;5;28;01mNone\u001b[39;00m:\n\u001b[1;32m    591\u001b[0m     request\u001b[38;5;241m.\u001b[39mparameters \u001b[38;5;241m=\u001b[39m parameters\n",
      "File \u001b[0;32m/opt/conda/lib/python3.10/_collections_abc.py:1149\u001b[0m, in \u001b[0;36mMutableSequence.extend\u001b[0;34m(self, values)\u001b[0m\n\u001b[1;32m   1147\u001b[0m     values \u001b[38;5;241m=\u001b[39m \u001b[38;5;28mlist\u001b[39m(values)\n\u001b[1;32m   1148\u001b[0m \u001b[38;5;28;01mfor\u001b[39;00m v \u001b[38;5;129;01min\u001b[39;00m values:\n\u001b[0;32m-> 1149\u001b[0m     \u001b[38;5;28;43mself\u001b[39;49m\u001b[38;5;241;43m.\u001b[39;49m\u001b[43mappend\u001b[49m\u001b[43m(\u001b[49m\u001b[43mv\u001b[49m\u001b[43m)\u001b[49m\n",
      "File \u001b[0;32m/opt/conda/lib/python3.10/_collections_abc.py:1128\u001b[0m, in \u001b[0;36mMutableSequence.append\u001b[0;34m(self, value)\u001b[0m\n\u001b[1;32m   1126\u001b[0m \u001b[38;5;28;01mdef\u001b[39;00m \u001b[38;5;21mappend\u001b[39m(\u001b[38;5;28mself\u001b[39m, value):\n\u001b[1;32m   1127\u001b[0m     \u001b[38;5;124m'\u001b[39m\u001b[38;5;124mS.append(value) -- append value to the end of the sequence\u001b[39m\u001b[38;5;124m'\u001b[39m\n\u001b[0;32m-> 1128\u001b[0m     \u001b[38;5;28;43mself\u001b[39;49m\u001b[38;5;241;43m.\u001b[39;49m\u001b[43minsert\u001b[49m\u001b[43m(\u001b[49m\u001b[38;5;28;43mlen\u001b[39;49m\u001b[43m(\u001b[49m\u001b[38;5;28;43mself\u001b[39;49m\u001b[43m)\u001b[49m\u001b[43m,\u001b[49m\u001b[43m \u001b[49m\u001b[43mvalue\u001b[49m\u001b[43m)\u001b[49m\n",
      "File \u001b[0;32m/opt/conda/lib/python3.10/site-packages/proto/marshal/collections/repeated.py:183\u001b[0m, in \u001b[0;36mRepeatedComposite.insert\u001b[0;34m(self, index, value)\u001b[0m\n\u001b[1;32m    181\u001b[0m \u001b[38;5;28;01mdef\u001b[39;00m \u001b[38;5;21minsert\u001b[39m(\u001b[38;5;28mself\u001b[39m, index: \u001b[38;5;28mint\u001b[39m, value):\n\u001b[1;32m    182\u001b[0m \u001b[38;5;250m    \u001b[39m\u001b[38;5;124;03m\"\"\"Insert ``value`` in the sequence before ``index``.\"\"\"\u001b[39;00m\n\u001b[0;32m--> 183\u001b[0m     pb_value \u001b[38;5;241m=\u001b[39m \u001b[38;5;28;43mself\u001b[39;49m\u001b[38;5;241;43m.\u001b[39;49m\u001b[43m_marshal\u001b[49m\u001b[38;5;241;43m.\u001b[39;49m\u001b[43mto_proto\u001b[49m\u001b[43m(\u001b[49m\u001b[38;5;28;43mself\u001b[39;49m\u001b[38;5;241;43m.\u001b[39;49m\u001b[43m_pb_type\u001b[49m\u001b[43m,\u001b[49m\u001b[43m \u001b[49m\u001b[43mvalue\u001b[49m\u001b[43m)\u001b[49m\n\u001b[1;32m    184\u001b[0m     \u001b[38;5;28mself\u001b[39m\u001b[38;5;241m.\u001b[39mpb\u001b[38;5;241m.\u001b[39minsert(index, pb_value)\n",
      "File \u001b[0;32m/opt/conda/lib/python3.10/site-packages/proto/marshal/marshal.py:228\u001b[0m, in \u001b[0;36mBaseMarshal.to_proto\u001b[0;34m(self, proto_type, value, strict)\u001b[0m\n\u001b[1;32m    225\u001b[0m     recursive_type \u001b[38;5;241m=\u001b[39m \u001b[38;5;28mtype\u001b[39m(proto_type()\u001b[38;5;241m.\u001b[39mvalue)\n\u001b[1;32m    226\u001b[0m     \u001b[38;5;28;01mreturn\u001b[39;00m {k: \u001b[38;5;28mself\u001b[39m\u001b[38;5;241m.\u001b[39mto_proto(recursive_type, v) \u001b[38;5;28;01mfor\u001b[39;00m k, v \u001b[38;5;129;01min\u001b[39;00m value\u001b[38;5;241m.\u001b[39mitems()}\n\u001b[0;32m--> 228\u001b[0m pb_value \u001b[38;5;241m=\u001b[39m \u001b[38;5;28;43mself\u001b[39;49m\u001b[38;5;241;43m.\u001b[39;49m\u001b[43mget_rule\u001b[49m\u001b[43m(\u001b[49m\u001b[43mproto_type\u001b[49m\u001b[38;5;241;43m=\u001b[39;49m\u001b[43mproto_type\u001b[49m\u001b[43m)\u001b[49m\u001b[38;5;241;43m.\u001b[39;49m\u001b[43mto_proto\u001b[49m\u001b[43m(\u001b[49m\u001b[43mvalue\u001b[49m\u001b[43m)\u001b[49m\n\u001b[1;32m    230\u001b[0m \u001b[38;5;66;03m# Sanity check: If we are in strict mode, did we get the value we want?\u001b[39;00m\n\u001b[1;32m    231\u001b[0m \u001b[38;5;28;01mif\u001b[39;00m strict \u001b[38;5;129;01mand\u001b[39;00m \u001b[38;5;129;01mnot\u001b[39;00m \u001b[38;5;28misinstance\u001b[39m(pb_value, proto_type):\n",
      "File \u001b[0;32m/opt/conda/lib/python3.10/site-packages/google/cloud/aiplatform/utils/enhanced_library/_decorators.py:33\u001b[0m, in \u001b[0;36mConversionValueRule.to_proto\u001b[0;34m(self, value)\u001b[0m\n\u001b[1;32m     31\u001b[0m     \u001b[38;5;28;01mreturn\u001b[39;00m value\u001b[38;5;241m.\u001b[39mto_value()\n\u001b[1;32m     32\u001b[0m \u001b[38;5;28;01melse\u001b[39;00m:\n\u001b[0;32m---> 33\u001b[0m     \u001b[38;5;28;01mreturn\u001b[39;00m \u001b[38;5;28;43msuper\u001b[39;49m\u001b[43m(\u001b[49m\u001b[43m)\u001b[49m\u001b[38;5;241;43m.\u001b[39;49m\u001b[43mto_proto\u001b[49m\u001b[43m(\u001b[49m\u001b[43mvalue\u001b[49m\u001b[43m)\u001b[49m\n",
      "File \u001b[0;32m/opt/conda/lib/python3.10/site-packages/proto/marshal/rules/struct.py:82\u001b[0m, in \u001b[0;36mValueRule.to_proto\u001b[0;34m(self, value)\u001b[0m\n\u001b[1;32m     77\u001b[0m     \u001b[38;5;28;01mreturn\u001b[39;00m struct_pb2\u001b[38;5;241m.\u001b[39mValue(\n\u001b[1;32m     78\u001b[0m         list_value\u001b[38;5;241m=\u001b[39m\u001b[38;5;28mself\u001b[39m\u001b[38;5;241m.\u001b[39m_marshal\u001b[38;5;241m.\u001b[39mto_proto(struct_pb2\u001b[38;5;241m.\u001b[39mListValue, value),\n\u001b[1;32m     79\u001b[0m     )\n\u001b[1;32m     80\u001b[0m \u001b[38;5;28;01mif\u001b[39;00m \u001b[38;5;28misinstance\u001b[39m(value, collections\u001b[38;5;241m.\u001b[39mabc\u001b[38;5;241m.\u001b[39mMapping):\n\u001b[1;32m     81\u001b[0m     \u001b[38;5;28;01mreturn\u001b[39;00m struct_pb2\u001b[38;5;241m.\u001b[39mValue(\n\u001b[0;32m---> 82\u001b[0m         struct_value\u001b[38;5;241m=\u001b[39m\u001b[38;5;28;43mself\u001b[39;49m\u001b[38;5;241;43m.\u001b[39;49m\u001b[43m_marshal\u001b[49m\u001b[38;5;241;43m.\u001b[39;49m\u001b[43mto_proto\u001b[49m\u001b[43m(\u001b[49m\u001b[43mstruct_pb2\u001b[49m\u001b[38;5;241;43m.\u001b[39;49m\u001b[43mStruct\u001b[49m\u001b[43m,\u001b[49m\u001b[43m \u001b[49m\u001b[43mvalue\u001b[49m\u001b[43m)\u001b[49m,\n\u001b[1;32m     83\u001b[0m     )\n\u001b[1;32m     84\u001b[0m \u001b[38;5;28;01mraise\u001b[39;00m \u001b[38;5;167;01mValueError\u001b[39;00m(\u001b[38;5;124m\"\u001b[39m\u001b[38;5;124mUnable to coerce value: \u001b[39m\u001b[38;5;132;01m%r\u001b[39;00m\u001b[38;5;124m\"\u001b[39m \u001b[38;5;241m%\u001b[39m value)\n",
      "File \u001b[0;32m/opt/conda/lib/python3.10/site-packages/proto/marshal/marshal.py:228\u001b[0m, in \u001b[0;36mBaseMarshal.to_proto\u001b[0;34m(self, proto_type, value, strict)\u001b[0m\n\u001b[1;32m    225\u001b[0m     recursive_type \u001b[38;5;241m=\u001b[39m \u001b[38;5;28mtype\u001b[39m(proto_type()\u001b[38;5;241m.\u001b[39mvalue)\n\u001b[1;32m    226\u001b[0m     \u001b[38;5;28;01mreturn\u001b[39;00m {k: \u001b[38;5;28mself\u001b[39m\u001b[38;5;241m.\u001b[39mto_proto(recursive_type, v) \u001b[38;5;28;01mfor\u001b[39;00m k, v \u001b[38;5;129;01min\u001b[39;00m value\u001b[38;5;241m.\u001b[39mitems()}\n\u001b[0;32m--> 228\u001b[0m pb_value \u001b[38;5;241m=\u001b[39m \u001b[38;5;28;43mself\u001b[39;49m\u001b[38;5;241;43m.\u001b[39;49m\u001b[43mget_rule\u001b[49m\u001b[43m(\u001b[49m\u001b[43mproto_type\u001b[49m\u001b[38;5;241;43m=\u001b[39;49m\u001b[43mproto_type\u001b[49m\u001b[43m)\u001b[49m\u001b[38;5;241;43m.\u001b[39;49m\u001b[43mto_proto\u001b[49m\u001b[43m(\u001b[49m\u001b[43mvalue\u001b[49m\u001b[43m)\u001b[49m\n\u001b[1;32m    230\u001b[0m \u001b[38;5;66;03m# Sanity check: If we are in strict mode, did we get the value we want?\u001b[39;00m\n\u001b[1;32m    231\u001b[0m \u001b[38;5;28;01mif\u001b[39;00m strict \u001b[38;5;129;01mand\u001b[39;00m \u001b[38;5;129;01mnot\u001b[39;00m \u001b[38;5;28misinstance\u001b[39m(pb_value, proto_type):\n",
      "File \u001b[0;32m/opt/conda/lib/python3.10/site-packages/proto/marshal/rules/struct.py:139\u001b[0m, in \u001b[0;36mStructRule.to_proto\u001b[0;34m(self, value)\u001b[0m\n\u001b[1;32m    133\u001b[0m     \u001b[38;5;28;01mreturn\u001b[39;00m struct_pb2\u001b[38;5;241m.\u001b[39mStruct(\n\u001b[1;32m    134\u001b[0m         fields\u001b[38;5;241m=\u001b[39m{k: v \u001b[38;5;28;01mfor\u001b[39;00m k, v \u001b[38;5;129;01min\u001b[39;00m value\u001b[38;5;241m.\u001b[39mpb\u001b[38;5;241m.\u001b[39mitems()},\n\u001b[1;32m    135\u001b[0m     )\n\u001b[1;32m    137\u001b[0m \u001b[38;5;66;03m# We got a dict (or something dict-like); convert it.\u001b[39;00m\n\u001b[1;32m    138\u001b[0m answer \u001b[38;5;241m=\u001b[39m struct_pb2\u001b[38;5;241m.\u001b[39mStruct(\n\u001b[0;32m--> 139\u001b[0m     fields\u001b[38;5;241m=\u001b[39m{\n\u001b[1;32m    140\u001b[0m         k: \u001b[38;5;28mself\u001b[39m\u001b[38;5;241m.\u001b[39m_marshal\u001b[38;5;241m.\u001b[39mto_proto(struct_pb2\u001b[38;5;241m.\u001b[39mValue, v) \u001b[38;5;28;01mfor\u001b[39;00m k, v \u001b[38;5;129;01min\u001b[39;00m value\u001b[38;5;241m.\u001b[39mitems()\n\u001b[1;32m    141\u001b[0m     }\n\u001b[1;32m    142\u001b[0m )\n\u001b[1;32m    143\u001b[0m \u001b[38;5;28;01mreturn\u001b[39;00m answer\n",
      "File \u001b[0;32m/opt/conda/lib/python3.10/site-packages/proto/marshal/rules/struct.py:140\u001b[0m, in \u001b[0;36m<dictcomp>\u001b[0;34m(.0)\u001b[0m\n\u001b[1;32m    133\u001b[0m     \u001b[38;5;28;01mreturn\u001b[39;00m struct_pb2\u001b[38;5;241m.\u001b[39mStruct(\n\u001b[1;32m    134\u001b[0m         fields\u001b[38;5;241m=\u001b[39m{k: v \u001b[38;5;28;01mfor\u001b[39;00m k, v \u001b[38;5;129;01min\u001b[39;00m value\u001b[38;5;241m.\u001b[39mpb\u001b[38;5;241m.\u001b[39mitems()},\n\u001b[1;32m    135\u001b[0m     )\n\u001b[1;32m    137\u001b[0m \u001b[38;5;66;03m# We got a dict (or something dict-like); convert it.\u001b[39;00m\n\u001b[1;32m    138\u001b[0m answer \u001b[38;5;241m=\u001b[39m struct_pb2\u001b[38;5;241m.\u001b[39mStruct(\n\u001b[1;32m    139\u001b[0m     fields\u001b[38;5;241m=\u001b[39m{\n\u001b[0;32m--> 140\u001b[0m         k: \u001b[38;5;28;43mself\u001b[39;49m\u001b[38;5;241;43m.\u001b[39;49m\u001b[43m_marshal\u001b[49m\u001b[38;5;241;43m.\u001b[39;49m\u001b[43mto_proto\u001b[49m\u001b[43m(\u001b[49m\u001b[43mstruct_pb2\u001b[49m\u001b[38;5;241;43m.\u001b[39;49m\u001b[43mValue\u001b[49m\u001b[43m,\u001b[49m\u001b[43m \u001b[49m\u001b[43mv\u001b[49m\u001b[43m)\u001b[49m \u001b[38;5;28;01mfor\u001b[39;00m k, v \u001b[38;5;129;01min\u001b[39;00m value\u001b[38;5;241m.\u001b[39mitems()\n\u001b[1;32m    141\u001b[0m     }\n\u001b[1;32m    142\u001b[0m )\n\u001b[1;32m    143\u001b[0m \u001b[38;5;28;01mreturn\u001b[39;00m answer\n",
      "File \u001b[0;32m/opt/conda/lib/python3.10/site-packages/proto/marshal/marshal.py:228\u001b[0m, in \u001b[0;36mBaseMarshal.to_proto\u001b[0;34m(self, proto_type, value, strict)\u001b[0m\n\u001b[1;32m    225\u001b[0m     recursive_type \u001b[38;5;241m=\u001b[39m \u001b[38;5;28mtype\u001b[39m(proto_type()\u001b[38;5;241m.\u001b[39mvalue)\n\u001b[1;32m    226\u001b[0m     \u001b[38;5;28;01mreturn\u001b[39;00m {k: \u001b[38;5;28mself\u001b[39m\u001b[38;5;241m.\u001b[39mto_proto(recursive_type, v) \u001b[38;5;28;01mfor\u001b[39;00m k, v \u001b[38;5;129;01min\u001b[39;00m value\u001b[38;5;241m.\u001b[39mitems()}\n\u001b[0;32m--> 228\u001b[0m pb_value \u001b[38;5;241m=\u001b[39m \u001b[38;5;28;43mself\u001b[39;49m\u001b[38;5;241;43m.\u001b[39;49m\u001b[43mget_rule\u001b[49m\u001b[43m(\u001b[49m\u001b[43mproto_type\u001b[49m\u001b[38;5;241;43m=\u001b[39;49m\u001b[43mproto_type\u001b[49m\u001b[43m)\u001b[49m\u001b[38;5;241;43m.\u001b[39;49m\u001b[43mto_proto\u001b[49m\u001b[43m(\u001b[49m\u001b[43mvalue\u001b[49m\u001b[43m)\u001b[49m\n\u001b[1;32m    230\u001b[0m \u001b[38;5;66;03m# Sanity check: If we are in strict mode, did we get the value we want?\u001b[39;00m\n\u001b[1;32m    231\u001b[0m \u001b[38;5;28;01mif\u001b[39;00m strict \u001b[38;5;129;01mand\u001b[39;00m \u001b[38;5;129;01mnot\u001b[39;00m \u001b[38;5;28misinstance\u001b[39m(pb_value, proto_type):\n",
      "File \u001b[0;32m/opt/conda/lib/python3.10/site-packages/google/cloud/aiplatform/utils/enhanced_library/_decorators.py:33\u001b[0m, in \u001b[0;36mConversionValueRule.to_proto\u001b[0;34m(self, value)\u001b[0m\n\u001b[1;32m     31\u001b[0m     \u001b[38;5;28;01mreturn\u001b[39;00m value\u001b[38;5;241m.\u001b[39mto_value()\n\u001b[1;32m     32\u001b[0m \u001b[38;5;28;01melse\u001b[39;00m:\n\u001b[0;32m---> 33\u001b[0m     \u001b[38;5;28;01mreturn\u001b[39;00m \u001b[38;5;28;43msuper\u001b[39;49m\u001b[43m(\u001b[49m\u001b[43m)\u001b[49m\u001b[38;5;241;43m.\u001b[39;49m\u001b[43mto_proto\u001b[49m\u001b[43m(\u001b[49m\u001b[43mvalue\u001b[49m\u001b[43m)\u001b[49m\n",
      "File \u001b[0;32m/opt/conda/lib/python3.10/site-packages/proto/marshal/rules/struct.py:84\u001b[0m, in \u001b[0;36mValueRule.to_proto\u001b[0;34m(self, value)\u001b[0m\n\u001b[1;32m     80\u001b[0m \u001b[38;5;28;01mif\u001b[39;00m \u001b[38;5;28misinstance\u001b[39m(value, collections\u001b[38;5;241m.\u001b[39mabc\u001b[38;5;241m.\u001b[39mMapping):\n\u001b[1;32m     81\u001b[0m     \u001b[38;5;28;01mreturn\u001b[39;00m struct_pb2\u001b[38;5;241m.\u001b[39mValue(\n\u001b[1;32m     82\u001b[0m         struct_value\u001b[38;5;241m=\u001b[39m\u001b[38;5;28mself\u001b[39m\u001b[38;5;241m.\u001b[39m_marshal\u001b[38;5;241m.\u001b[39mto_proto(struct_pb2\u001b[38;5;241m.\u001b[39mStruct, value),\n\u001b[1;32m     83\u001b[0m     )\n\u001b[0;32m---> 84\u001b[0m \u001b[38;5;28;01mraise\u001b[39;00m \u001b[38;5;167;01mValueError\u001b[39;00m(\u001b[38;5;124m\"\u001b[39m\u001b[38;5;124mUnable to coerce value: \u001b[39m\u001b[38;5;132;01m%r\u001b[39;00m\u001b[38;5;124m\"\u001b[39m \u001b[38;5;241m%\u001b[39m value)\n",
      "\u001b[0;31mValueError\u001b[0m: Unable to coerce value: <tf.Tensor: shape=(1,), dtype=float32, numpy=array([25.], dtype=float32)>"
     ]
    }
   ],
   "source": [
    "for x in eval_ds.take(1):\n",
    "\n",
    "    deployed_policy.predict(\n",
    "        instances=[x],\n",
    "    )"
   ]
  },
  {
   "cell_type": "code",
   "execution_count": 45,
   "id": "1d5ef0ff-026b-4acc-9d6a-2ce21462114b",
   "metadata": {},
   "outputs": [
    {
     "data": {
      "text/plain": [
       "{'bucketized_user_age': <tf.Tensor: shape=(1,), dtype=float32, numpy=array([25.], dtype=float32)>,\n",
       " 'movie_genres': <tf.Tensor: shape=(1, 1), dtype=int64, numpy=array([[4]])>,\n",
       " 'movie_id': <tf.Tensor: shape=(1,), dtype=string, numpy=array([b'211'], dtype=object)>,\n",
       " 'timestamp': <tf.Tensor: shape=(1,), dtype=int64, numpy=array([874948475])>,\n",
       " 'user_id': <tf.Tensor: shape=(1,), dtype=string, numpy=array([b'346'], dtype=object)>,\n",
       " 'user_occupation_text': <tf.Tensor: shape=(1,), dtype=string, numpy=array([b'other'], dtype=object)>,\n",
       " 'user_rating': <tf.Tensor: shape=(1,), dtype=float32, numpy=array([4.], dtype=float32)>}"
      ]
     },
     "execution_count": 45,
     "metadata": {},
     "output_type": "execute_result"
    }
   ],
   "source": [
    "x"
   ]
  },
  {
   "cell_type": "code",
   "execution_count": 143,
   "id": "a8a25010-4f2a-457d-9ba8-ecbcf241cece",
   "metadata": {},
   "outputs": [
    {
     "data": {
      "text/plain": [
       "<_BatchDataset element_spec={'bucketized_user_age': TensorSpec(shape=(None,), dtype=tf.float32, name=None), 'movie_genres': TensorSpec(shape=(None, 1), dtype=tf.int64, name=None), 'movie_id': TensorSpec(shape=(None,), dtype=tf.string, name=None), 'timestamp': TensorSpec(shape=(None,), dtype=tf.int64, name=None), 'user_id': TensorSpec(shape=(None,), dtype=tf.string, name=None), 'user_occupation_text': TensorSpec(shape=(None,), dtype=tf.string, name=None), 'user_rating': TensorSpec(shape=(None,), dtype=tf.float32, name=None)}>"
      ]
     },
     "execution_count": 143,
     "metadata": {},
     "output_type": "execute_result"
    }
   ],
   "source": [
    "eval_ds"
   ]
  },
  {
   "cell_type": "code",
   "execution_count": null,
   "id": "f60a9572-2afb-4426-a395-ccd8cc8fcfb9",
   "metadata": {},
   "outputs": [],
   "source": [
    "for i in range(1):\n",
    "    \n",
    "    iterator = iter(train_dataset.batch(1))\n",
    "    data = next(iterator)\n",
    "\n",
    "data"
   ]
  },
  {
   "cell_type": "code",
   "execution_count": 145,
   "id": "bca354de-79c0-4095-b289-e23032f9c6d3",
   "metadata": {},
   "outputs": [
    {
     "ename": "ValueError",
     "evalue": "Unable to coerce value: <tf.Tensor: shape=(1,), dtype=float32, numpy=array([25.], dtype=float32)>",
     "output_type": "error",
     "traceback": [
      "\u001b[0;31m---------------------------------------------------------------------------\u001b[0m",
      "\u001b[0;31mValueError\u001b[0m                                Traceback (most recent call last)",
      "Cell \u001b[0;32mIn[145], line 3\u001b[0m\n\u001b[1;32m      1\u001b[0m \u001b[38;5;28;01mfor\u001b[39;00m x \u001b[38;5;129;01min\u001b[39;00m eval_ds\u001b[38;5;241m.\u001b[39mtake(\u001b[38;5;241m1\u001b[39m):\n\u001b[0;32m----> 3\u001b[0m     \u001b[43mdeployed_policy\u001b[49m\u001b[38;5;241;43m.\u001b[39;49m\u001b[43mpredict\u001b[49m\u001b[43m(\u001b[49m\n\u001b[1;32m      4\u001b[0m \u001b[43m        \u001b[49m\u001b[43minstances\u001b[49m\u001b[38;5;241;43m=\u001b[39;49m\u001b[43m[\u001b[49m\u001b[43mx\u001b[49m\u001b[43m]\u001b[49m\u001b[43m,\u001b[49m\n\u001b[1;32m      5\u001b[0m \u001b[43m    \u001b[49m\u001b[43m)\u001b[49m\n",
      "File \u001b[0;32m/opt/conda/lib/python3.10/site-packages/google/cloud/aiplatform/models.py:1596\u001b[0m, in \u001b[0;36mEndpoint.predict\u001b[0;34m(self, instances, parameters, timeout, use_raw_predict)\u001b[0m\n\u001b[1;32m   1583\u001b[0m     \u001b[38;5;28;01mreturn\u001b[39;00m Prediction(\n\u001b[1;32m   1584\u001b[0m         predictions\u001b[38;5;241m=\u001b[39mjson_response[\u001b[38;5;124m\"\u001b[39m\u001b[38;5;124mpredictions\u001b[39m\u001b[38;5;124m\"\u001b[39m],\n\u001b[1;32m   1585\u001b[0m         deployed_model_id\u001b[38;5;241m=\u001b[39mraw_predict_response\u001b[38;5;241m.\u001b[39mheaders[\n\u001b[0;32m   (...)\u001b[0m\n\u001b[1;32m   1593\u001b[0m         ),\n\u001b[1;32m   1594\u001b[0m     )\n\u001b[1;32m   1595\u001b[0m \u001b[38;5;28;01melse\u001b[39;00m:\n\u001b[0;32m-> 1596\u001b[0m     prediction_response \u001b[38;5;241m=\u001b[39m \u001b[38;5;28;43mself\u001b[39;49m\u001b[38;5;241;43m.\u001b[39;49m\u001b[43m_prediction_client\u001b[49m\u001b[38;5;241;43m.\u001b[39;49m\u001b[43mpredict\u001b[49m\u001b[43m(\u001b[49m\n\u001b[1;32m   1597\u001b[0m \u001b[43m        \u001b[49m\u001b[43mendpoint\u001b[49m\u001b[38;5;241;43m=\u001b[39;49m\u001b[38;5;28;43mself\u001b[39;49m\u001b[38;5;241;43m.\u001b[39;49m\u001b[43m_gca_resource\u001b[49m\u001b[38;5;241;43m.\u001b[39;49m\u001b[43mname\u001b[49m\u001b[43m,\u001b[49m\n\u001b[1;32m   1598\u001b[0m \u001b[43m        \u001b[49m\u001b[43minstances\u001b[49m\u001b[38;5;241;43m=\u001b[39;49m\u001b[43minstances\u001b[49m\u001b[43m,\u001b[49m\n\u001b[1;32m   1599\u001b[0m \u001b[43m        \u001b[49m\u001b[43mparameters\u001b[49m\u001b[38;5;241;43m=\u001b[39;49m\u001b[43mparameters\u001b[49m\u001b[43m,\u001b[49m\n\u001b[1;32m   1600\u001b[0m \u001b[43m        \u001b[49m\u001b[43mtimeout\u001b[49m\u001b[38;5;241;43m=\u001b[39;49m\u001b[43mtimeout\u001b[49m\u001b[43m,\u001b[49m\n\u001b[1;32m   1601\u001b[0m \u001b[43m    \u001b[49m\u001b[43m)\u001b[49m\n\u001b[1;32m   1603\u001b[0m     \u001b[38;5;28;01mreturn\u001b[39;00m Prediction(\n\u001b[1;32m   1604\u001b[0m         predictions\u001b[38;5;241m=\u001b[39m[\n\u001b[1;32m   1605\u001b[0m             json_format\u001b[38;5;241m.\u001b[39mMessageToDict(item)\n\u001b[0;32m   (...)\u001b[0m\n\u001b[1;32m   1610\u001b[0m         model_resource_name\u001b[38;5;241m=\u001b[39mprediction_response\u001b[38;5;241m.\u001b[39mmodel,\n\u001b[1;32m   1611\u001b[0m     )\n",
      "File \u001b[0;32m/opt/conda/lib/python3.10/site-packages/google/cloud/aiplatform_v1/services/prediction_service/client.py:589\u001b[0m, in \u001b[0;36mPredictionServiceClient.predict\u001b[0;34m(self, request, endpoint, instances, parameters, retry, timeout, metadata)\u001b[0m\n\u001b[1;32m    587\u001b[0m     request\u001b[38;5;241m.\u001b[39mendpoint \u001b[38;5;241m=\u001b[39m endpoint\n\u001b[1;32m    588\u001b[0m \u001b[38;5;28;01mif\u001b[39;00m instances \u001b[38;5;129;01mis\u001b[39;00m \u001b[38;5;129;01mnot\u001b[39;00m \u001b[38;5;28;01mNone\u001b[39;00m:\n\u001b[0;32m--> 589\u001b[0m     \u001b[43mrequest\u001b[49m\u001b[38;5;241;43m.\u001b[39;49m\u001b[43minstances\u001b[49m\u001b[38;5;241;43m.\u001b[39;49m\u001b[43mextend\u001b[49m\u001b[43m(\u001b[49m\u001b[43minstances\u001b[49m\u001b[43m)\u001b[49m\n\u001b[1;32m    590\u001b[0m \u001b[38;5;28;01mif\u001b[39;00m parameters \u001b[38;5;129;01mis\u001b[39;00m \u001b[38;5;129;01mnot\u001b[39;00m \u001b[38;5;28;01mNone\u001b[39;00m:\n\u001b[1;32m    591\u001b[0m     request\u001b[38;5;241m.\u001b[39mparameters \u001b[38;5;241m=\u001b[39m parameters\n",
      "File \u001b[0;32m/opt/conda/lib/python3.10/_collections_abc.py:1149\u001b[0m, in \u001b[0;36mMutableSequence.extend\u001b[0;34m(self, values)\u001b[0m\n\u001b[1;32m   1147\u001b[0m     values \u001b[38;5;241m=\u001b[39m \u001b[38;5;28mlist\u001b[39m(values)\n\u001b[1;32m   1148\u001b[0m \u001b[38;5;28;01mfor\u001b[39;00m v \u001b[38;5;129;01min\u001b[39;00m values:\n\u001b[0;32m-> 1149\u001b[0m     \u001b[38;5;28;43mself\u001b[39;49m\u001b[38;5;241;43m.\u001b[39;49m\u001b[43mappend\u001b[49m\u001b[43m(\u001b[49m\u001b[43mv\u001b[49m\u001b[43m)\u001b[49m\n",
      "File \u001b[0;32m/opt/conda/lib/python3.10/_collections_abc.py:1128\u001b[0m, in \u001b[0;36mMutableSequence.append\u001b[0;34m(self, value)\u001b[0m\n\u001b[1;32m   1126\u001b[0m \u001b[38;5;28;01mdef\u001b[39;00m \u001b[38;5;21mappend\u001b[39m(\u001b[38;5;28mself\u001b[39m, value):\n\u001b[1;32m   1127\u001b[0m     \u001b[38;5;124m'\u001b[39m\u001b[38;5;124mS.append(value) -- append value to the end of the sequence\u001b[39m\u001b[38;5;124m'\u001b[39m\n\u001b[0;32m-> 1128\u001b[0m     \u001b[38;5;28;43mself\u001b[39;49m\u001b[38;5;241;43m.\u001b[39;49m\u001b[43minsert\u001b[49m\u001b[43m(\u001b[49m\u001b[38;5;28;43mlen\u001b[39;49m\u001b[43m(\u001b[49m\u001b[38;5;28;43mself\u001b[39;49m\u001b[43m)\u001b[49m\u001b[43m,\u001b[49m\u001b[43m \u001b[49m\u001b[43mvalue\u001b[49m\u001b[43m)\u001b[49m\n",
      "File \u001b[0;32m/opt/conda/lib/python3.10/site-packages/proto/marshal/collections/repeated.py:183\u001b[0m, in \u001b[0;36mRepeatedComposite.insert\u001b[0;34m(self, index, value)\u001b[0m\n\u001b[1;32m    181\u001b[0m \u001b[38;5;28;01mdef\u001b[39;00m \u001b[38;5;21minsert\u001b[39m(\u001b[38;5;28mself\u001b[39m, index: \u001b[38;5;28mint\u001b[39m, value):\n\u001b[1;32m    182\u001b[0m \u001b[38;5;250m    \u001b[39m\u001b[38;5;124;03m\"\"\"Insert ``value`` in the sequence before ``index``.\"\"\"\u001b[39;00m\n\u001b[0;32m--> 183\u001b[0m     pb_value \u001b[38;5;241m=\u001b[39m \u001b[38;5;28;43mself\u001b[39;49m\u001b[38;5;241;43m.\u001b[39;49m\u001b[43m_marshal\u001b[49m\u001b[38;5;241;43m.\u001b[39;49m\u001b[43mto_proto\u001b[49m\u001b[43m(\u001b[49m\u001b[38;5;28;43mself\u001b[39;49m\u001b[38;5;241;43m.\u001b[39;49m\u001b[43m_pb_type\u001b[49m\u001b[43m,\u001b[49m\u001b[43m \u001b[49m\u001b[43mvalue\u001b[49m\u001b[43m)\u001b[49m\n\u001b[1;32m    184\u001b[0m     \u001b[38;5;28mself\u001b[39m\u001b[38;5;241m.\u001b[39mpb\u001b[38;5;241m.\u001b[39minsert(index, pb_value)\n",
      "File \u001b[0;32m/opt/conda/lib/python3.10/site-packages/proto/marshal/marshal.py:228\u001b[0m, in \u001b[0;36mBaseMarshal.to_proto\u001b[0;34m(self, proto_type, value, strict)\u001b[0m\n\u001b[1;32m    225\u001b[0m     recursive_type \u001b[38;5;241m=\u001b[39m \u001b[38;5;28mtype\u001b[39m(proto_type()\u001b[38;5;241m.\u001b[39mvalue)\n\u001b[1;32m    226\u001b[0m     \u001b[38;5;28;01mreturn\u001b[39;00m {k: \u001b[38;5;28mself\u001b[39m\u001b[38;5;241m.\u001b[39mto_proto(recursive_type, v) \u001b[38;5;28;01mfor\u001b[39;00m k, v \u001b[38;5;129;01min\u001b[39;00m value\u001b[38;5;241m.\u001b[39mitems()}\n\u001b[0;32m--> 228\u001b[0m pb_value \u001b[38;5;241m=\u001b[39m \u001b[38;5;28;43mself\u001b[39;49m\u001b[38;5;241;43m.\u001b[39;49m\u001b[43mget_rule\u001b[49m\u001b[43m(\u001b[49m\u001b[43mproto_type\u001b[49m\u001b[38;5;241;43m=\u001b[39;49m\u001b[43mproto_type\u001b[49m\u001b[43m)\u001b[49m\u001b[38;5;241;43m.\u001b[39;49m\u001b[43mto_proto\u001b[49m\u001b[43m(\u001b[49m\u001b[43mvalue\u001b[49m\u001b[43m)\u001b[49m\n\u001b[1;32m    230\u001b[0m \u001b[38;5;66;03m# Sanity check: If we are in strict mode, did we get the value we want?\u001b[39;00m\n\u001b[1;32m    231\u001b[0m \u001b[38;5;28;01mif\u001b[39;00m strict \u001b[38;5;129;01mand\u001b[39;00m \u001b[38;5;129;01mnot\u001b[39;00m \u001b[38;5;28misinstance\u001b[39m(pb_value, proto_type):\n",
      "File \u001b[0;32m/opt/conda/lib/python3.10/site-packages/google/cloud/aiplatform/utils/enhanced_library/_decorators.py:33\u001b[0m, in \u001b[0;36mConversionValueRule.to_proto\u001b[0;34m(self, value)\u001b[0m\n\u001b[1;32m     31\u001b[0m     \u001b[38;5;28;01mreturn\u001b[39;00m value\u001b[38;5;241m.\u001b[39mto_value()\n\u001b[1;32m     32\u001b[0m \u001b[38;5;28;01melse\u001b[39;00m:\n\u001b[0;32m---> 33\u001b[0m     \u001b[38;5;28;01mreturn\u001b[39;00m \u001b[38;5;28;43msuper\u001b[39;49m\u001b[43m(\u001b[49m\u001b[43m)\u001b[49m\u001b[38;5;241;43m.\u001b[39;49m\u001b[43mto_proto\u001b[49m\u001b[43m(\u001b[49m\u001b[43mvalue\u001b[49m\u001b[43m)\u001b[49m\n",
      "File \u001b[0;32m/opt/conda/lib/python3.10/site-packages/proto/marshal/rules/struct.py:82\u001b[0m, in \u001b[0;36mValueRule.to_proto\u001b[0;34m(self, value)\u001b[0m\n\u001b[1;32m     77\u001b[0m     \u001b[38;5;28;01mreturn\u001b[39;00m struct_pb2\u001b[38;5;241m.\u001b[39mValue(\n\u001b[1;32m     78\u001b[0m         list_value\u001b[38;5;241m=\u001b[39m\u001b[38;5;28mself\u001b[39m\u001b[38;5;241m.\u001b[39m_marshal\u001b[38;5;241m.\u001b[39mto_proto(struct_pb2\u001b[38;5;241m.\u001b[39mListValue, value),\n\u001b[1;32m     79\u001b[0m     )\n\u001b[1;32m     80\u001b[0m \u001b[38;5;28;01mif\u001b[39;00m \u001b[38;5;28misinstance\u001b[39m(value, collections\u001b[38;5;241m.\u001b[39mabc\u001b[38;5;241m.\u001b[39mMapping):\n\u001b[1;32m     81\u001b[0m     \u001b[38;5;28;01mreturn\u001b[39;00m struct_pb2\u001b[38;5;241m.\u001b[39mValue(\n\u001b[0;32m---> 82\u001b[0m         struct_value\u001b[38;5;241m=\u001b[39m\u001b[38;5;28;43mself\u001b[39;49m\u001b[38;5;241;43m.\u001b[39;49m\u001b[43m_marshal\u001b[49m\u001b[38;5;241;43m.\u001b[39;49m\u001b[43mto_proto\u001b[49m\u001b[43m(\u001b[49m\u001b[43mstruct_pb2\u001b[49m\u001b[38;5;241;43m.\u001b[39;49m\u001b[43mStruct\u001b[49m\u001b[43m,\u001b[49m\u001b[43m \u001b[49m\u001b[43mvalue\u001b[49m\u001b[43m)\u001b[49m,\n\u001b[1;32m     83\u001b[0m     )\n\u001b[1;32m     84\u001b[0m \u001b[38;5;28;01mraise\u001b[39;00m \u001b[38;5;167;01mValueError\u001b[39;00m(\u001b[38;5;124m\"\u001b[39m\u001b[38;5;124mUnable to coerce value: \u001b[39m\u001b[38;5;132;01m%r\u001b[39;00m\u001b[38;5;124m\"\u001b[39m \u001b[38;5;241m%\u001b[39m value)\n",
      "File \u001b[0;32m/opt/conda/lib/python3.10/site-packages/proto/marshal/marshal.py:228\u001b[0m, in \u001b[0;36mBaseMarshal.to_proto\u001b[0;34m(self, proto_type, value, strict)\u001b[0m\n\u001b[1;32m    225\u001b[0m     recursive_type \u001b[38;5;241m=\u001b[39m \u001b[38;5;28mtype\u001b[39m(proto_type()\u001b[38;5;241m.\u001b[39mvalue)\n\u001b[1;32m    226\u001b[0m     \u001b[38;5;28;01mreturn\u001b[39;00m {k: \u001b[38;5;28mself\u001b[39m\u001b[38;5;241m.\u001b[39mto_proto(recursive_type, v) \u001b[38;5;28;01mfor\u001b[39;00m k, v \u001b[38;5;129;01min\u001b[39;00m value\u001b[38;5;241m.\u001b[39mitems()}\n\u001b[0;32m--> 228\u001b[0m pb_value \u001b[38;5;241m=\u001b[39m \u001b[38;5;28;43mself\u001b[39;49m\u001b[38;5;241;43m.\u001b[39;49m\u001b[43mget_rule\u001b[49m\u001b[43m(\u001b[49m\u001b[43mproto_type\u001b[49m\u001b[38;5;241;43m=\u001b[39;49m\u001b[43mproto_type\u001b[49m\u001b[43m)\u001b[49m\u001b[38;5;241;43m.\u001b[39;49m\u001b[43mto_proto\u001b[49m\u001b[43m(\u001b[49m\u001b[43mvalue\u001b[49m\u001b[43m)\u001b[49m\n\u001b[1;32m    230\u001b[0m \u001b[38;5;66;03m# Sanity check: If we are in strict mode, did we get the value we want?\u001b[39;00m\n\u001b[1;32m    231\u001b[0m \u001b[38;5;28;01mif\u001b[39;00m strict \u001b[38;5;129;01mand\u001b[39;00m \u001b[38;5;129;01mnot\u001b[39;00m \u001b[38;5;28misinstance\u001b[39m(pb_value, proto_type):\n",
      "File \u001b[0;32m/opt/conda/lib/python3.10/site-packages/proto/marshal/rules/struct.py:139\u001b[0m, in \u001b[0;36mStructRule.to_proto\u001b[0;34m(self, value)\u001b[0m\n\u001b[1;32m    133\u001b[0m     \u001b[38;5;28;01mreturn\u001b[39;00m struct_pb2\u001b[38;5;241m.\u001b[39mStruct(\n\u001b[1;32m    134\u001b[0m         fields\u001b[38;5;241m=\u001b[39m{k: v \u001b[38;5;28;01mfor\u001b[39;00m k, v \u001b[38;5;129;01min\u001b[39;00m value\u001b[38;5;241m.\u001b[39mpb\u001b[38;5;241m.\u001b[39mitems()},\n\u001b[1;32m    135\u001b[0m     )\n\u001b[1;32m    137\u001b[0m \u001b[38;5;66;03m# We got a dict (or something dict-like); convert it.\u001b[39;00m\n\u001b[1;32m    138\u001b[0m answer \u001b[38;5;241m=\u001b[39m struct_pb2\u001b[38;5;241m.\u001b[39mStruct(\n\u001b[0;32m--> 139\u001b[0m     fields\u001b[38;5;241m=\u001b[39m{\n\u001b[1;32m    140\u001b[0m         k: \u001b[38;5;28mself\u001b[39m\u001b[38;5;241m.\u001b[39m_marshal\u001b[38;5;241m.\u001b[39mto_proto(struct_pb2\u001b[38;5;241m.\u001b[39mValue, v) \u001b[38;5;28;01mfor\u001b[39;00m k, v \u001b[38;5;129;01min\u001b[39;00m value\u001b[38;5;241m.\u001b[39mitems()\n\u001b[1;32m    141\u001b[0m     }\n\u001b[1;32m    142\u001b[0m )\n\u001b[1;32m    143\u001b[0m \u001b[38;5;28;01mreturn\u001b[39;00m answer\n",
      "File \u001b[0;32m/opt/conda/lib/python3.10/site-packages/proto/marshal/rules/struct.py:140\u001b[0m, in \u001b[0;36m<dictcomp>\u001b[0;34m(.0)\u001b[0m\n\u001b[1;32m    133\u001b[0m     \u001b[38;5;28;01mreturn\u001b[39;00m struct_pb2\u001b[38;5;241m.\u001b[39mStruct(\n\u001b[1;32m    134\u001b[0m         fields\u001b[38;5;241m=\u001b[39m{k: v \u001b[38;5;28;01mfor\u001b[39;00m k, v \u001b[38;5;129;01min\u001b[39;00m value\u001b[38;5;241m.\u001b[39mpb\u001b[38;5;241m.\u001b[39mitems()},\n\u001b[1;32m    135\u001b[0m     )\n\u001b[1;32m    137\u001b[0m \u001b[38;5;66;03m# We got a dict (or something dict-like); convert it.\u001b[39;00m\n\u001b[1;32m    138\u001b[0m answer \u001b[38;5;241m=\u001b[39m struct_pb2\u001b[38;5;241m.\u001b[39mStruct(\n\u001b[1;32m    139\u001b[0m     fields\u001b[38;5;241m=\u001b[39m{\n\u001b[0;32m--> 140\u001b[0m         k: \u001b[38;5;28;43mself\u001b[39;49m\u001b[38;5;241;43m.\u001b[39;49m\u001b[43m_marshal\u001b[49m\u001b[38;5;241;43m.\u001b[39;49m\u001b[43mto_proto\u001b[49m\u001b[43m(\u001b[49m\u001b[43mstruct_pb2\u001b[49m\u001b[38;5;241;43m.\u001b[39;49m\u001b[43mValue\u001b[49m\u001b[43m,\u001b[49m\u001b[43m \u001b[49m\u001b[43mv\u001b[49m\u001b[43m)\u001b[49m \u001b[38;5;28;01mfor\u001b[39;00m k, v \u001b[38;5;129;01min\u001b[39;00m value\u001b[38;5;241m.\u001b[39mitems()\n\u001b[1;32m    141\u001b[0m     }\n\u001b[1;32m    142\u001b[0m )\n\u001b[1;32m    143\u001b[0m \u001b[38;5;28;01mreturn\u001b[39;00m answer\n",
      "File \u001b[0;32m/opt/conda/lib/python3.10/site-packages/proto/marshal/marshal.py:228\u001b[0m, in \u001b[0;36mBaseMarshal.to_proto\u001b[0;34m(self, proto_type, value, strict)\u001b[0m\n\u001b[1;32m    225\u001b[0m     recursive_type \u001b[38;5;241m=\u001b[39m \u001b[38;5;28mtype\u001b[39m(proto_type()\u001b[38;5;241m.\u001b[39mvalue)\n\u001b[1;32m    226\u001b[0m     \u001b[38;5;28;01mreturn\u001b[39;00m {k: \u001b[38;5;28mself\u001b[39m\u001b[38;5;241m.\u001b[39mto_proto(recursive_type, v) \u001b[38;5;28;01mfor\u001b[39;00m k, v \u001b[38;5;129;01min\u001b[39;00m value\u001b[38;5;241m.\u001b[39mitems()}\n\u001b[0;32m--> 228\u001b[0m pb_value \u001b[38;5;241m=\u001b[39m \u001b[38;5;28;43mself\u001b[39;49m\u001b[38;5;241;43m.\u001b[39;49m\u001b[43mget_rule\u001b[49m\u001b[43m(\u001b[49m\u001b[43mproto_type\u001b[49m\u001b[38;5;241;43m=\u001b[39;49m\u001b[43mproto_type\u001b[49m\u001b[43m)\u001b[49m\u001b[38;5;241;43m.\u001b[39;49m\u001b[43mto_proto\u001b[49m\u001b[43m(\u001b[49m\u001b[43mvalue\u001b[49m\u001b[43m)\u001b[49m\n\u001b[1;32m    230\u001b[0m \u001b[38;5;66;03m# Sanity check: If we are in strict mode, did we get the value we want?\u001b[39;00m\n\u001b[1;32m    231\u001b[0m \u001b[38;5;28;01mif\u001b[39;00m strict \u001b[38;5;129;01mand\u001b[39;00m \u001b[38;5;129;01mnot\u001b[39;00m \u001b[38;5;28misinstance\u001b[39m(pb_value, proto_type):\n",
      "File \u001b[0;32m/opt/conda/lib/python3.10/site-packages/google/cloud/aiplatform/utils/enhanced_library/_decorators.py:33\u001b[0m, in \u001b[0;36mConversionValueRule.to_proto\u001b[0;34m(self, value)\u001b[0m\n\u001b[1;32m     31\u001b[0m     \u001b[38;5;28;01mreturn\u001b[39;00m value\u001b[38;5;241m.\u001b[39mto_value()\n\u001b[1;32m     32\u001b[0m \u001b[38;5;28;01melse\u001b[39;00m:\n\u001b[0;32m---> 33\u001b[0m     \u001b[38;5;28;01mreturn\u001b[39;00m \u001b[38;5;28;43msuper\u001b[39;49m\u001b[43m(\u001b[49m\u001b[43m)\u001b[49m\u001b[38;5;241;43m.\u001b[39;49m\u001b[43mto_proto\u001b[49m\u001b[43m(\u001b[49m\u001b[43mvalue\u001b[49m\u001b[43m)\u001b[49m\n",
      "File \u001b[0;32m/opt/conda/lib/python3.10/site-packages/proto/marshal/rules/struct.py:84\u001b[0m, in \u001b[0;36mValueRule.to_proto\u001b[0;34m(self, value)\u001b[0m\n\u001b[1;32m     80\u001b[0m \u001b[38;5;28;01mif\u001b[39;00m \u001b[38;5;28misinstance\u001b[39m(value, collections\u001b[38;5;241m.\u001b[39mabc\u001b[38;5;241m.\u001b[39mMapping):\n\u001b[1;32m     81\u001b[0m     \u001b[38;5;28;01mreturn\u001b[39;00m struct_pb2\u001b[38;5;241m.\u001b[39mValue(\n\u001b[1;32m     82\u001b[0m         struct_value\u001b[38;5;241m=\u001b[39m\u001b[38;5;28mself\u001b[39m\u001b[38;5;241m.\u001b[39m_marshal\u001b[38;5;241m.\u001b[39mto_proto(struct_pb2\u001b[38;5;241m.\u001b[39mStruct, value),\n\u001b[1;32m     83\u001b[0m     )\n\u001b[0;32m---> 84\u001b[0m \u001b[38;5;28;01mraise\u001b[39;00m \u001b[38;5;167;01mValueError\u001b[39;00m(\u001b[38;5;124m\"\u001b[39m\u001b[38;5;124mUnable to coerce value: \u001b[39m\u001b[38;5;132;01m%r\u001b[39;00m\u001b[38;5;124m\"\u001b[39m \u001b[38;5;241m%\u001b[39m value)\n",
      "\u001b[0;31mValueError\u001b[0m: Unable to coerce value: <tf.Tensor: shape=(1,), dtype=float32, numpy=array([25.], dtype=float32)>"
     ]
    }
   ],
   "source": [
    "for x in eval_ds.take(1):\n",
    "\n",
    "    deployed_policy.predict(\n",
    "        instances=[x],\n",
    "    )"
   ]
  },
  {
   "cell_type": "markdown",
   "id": "25f58e24-9528-4774-9694-f473cad00cfa",
   "metadata": {},
   "source": [
    "## Clean up"
   ]
  },
  {
   "cell_type": "code",
   "execution_count": 34,
   "id": "3a4b9e4c-d93a-46ef-9a9e-c12344555b94",
   "metadata": {},
   "outputs": [],
   "source": [
    "# endpoint.delete(force=True)\n",
    "\n",
    "# uploaded_policy.delete()"
   ]
  },
  {
   "cell_type": "code",
   "execution_count": null,
   "id": "7577cf6a-1390-49d0-98db-3e6d81e05e05",
   "metadata": {},
   "outputs": [],
   "source": []
  },
  {
   "cell_type": "code",
   "execution_count": null,
   "id": "961e0bd0-23a2-4c8f-b1a6-9d634902f20b",
   "metadata": {},
   "outputs": [],
   "source": [
    "import os\n",
    "import sys\n",
    "import logging\n",
    "import numpy as np\n",
    "import pickle as pkl\n",
    "from typing import Dict, Any, Tuple\n",
    "\n",
    "logging.disable(logging.WARNING)\n",
    "\n",
    "# google cloud\n",
    "from google.cloud.aiplatform.prediction.predictor import Predictor\n",
    "from google.cloud.aiplatform.utils import prediction_utils\n",
    "from google.cloud import storage\n",
    "\n",
    "# tensorflow\n",
    "import tensorflow as tf\n",
    "import tf_agents\n",
    "from tf_agents.policies import py_tf_eager_policy\n",
    "from tf_agents.trajectories import time_step as ts\n",
    "\n",
    "# this repo\n",
    "sys.path.extend([f'./{name}' for name in os.listdir(\".\") if os.path.isdir(name)])\n",
    "\n",
    "import data_config as data_config\n",
    "import emb_features_pred as emb_features\n",
    "import reward_factory as reward_factory\n",
    "\n",
    "os.environ[\"PROJECT_ID\"] = data_config.PROJECT_ID\n",
    "\n",
    "# ==================================\n",
    "# get trajectory step for prediction\n",
    "# ==================================\n",
    "def _get_pred_step(feature, reward_np):\n",
    "    \n",
    "    infer_step = ts.TimeStep(\n",
    "        tf.constant(ts.StepType.FIRST, dtype=tf.int32, shape=[],name='step_type'),\n",
    "        tf.constant(reward_np, dtype=tf.float32, shape=[], name='reward'),\n",
    "        tf.constant(1.0, dtype=tf.float32, shape=[], name='discount'),\n",
    "        feature\n",
    "    )\n",
    "    \n",
    "    return infer_step\n",
    "\n",
    "# ==================================\n",
    "# prediction logic\n",
    "# ==================================\n",
    "class BanditPolicyPredictor(Predictor):\n",
    "    \n",
    "    \"\"\"\n",
    "    Interface of the Predictor class for Custom Prediction Routines.\n",
    "    \n",
    "    The Predictor is responsible for the ML logic for processing a prediction request.\n",
    "    \n",
    "    Specifically, the Predictor must define:\n",
    "        (1) How to load all model artifacts used during prediction into memory.\n",
    "        (2) The logic that should be executed at predict time.\n",
    "    \n",
    "    When using the default PredictionHandler, the Predictor will be invoked as follows:\n",
    "    \n",
    "      predictor.postprocess(predictor.predict(predictor.preprocess(prediction_input)))\n",
    "    \n",
    "    \"\"\"\n",
    "    \n",
    "    def __init__(self):\n",
    "        \n",
    "        self._local_vocab_filename = \"./vocab_dict.pkl\"\n",
    "        self._num_oov_buckets = data_config.NUM_OOV_BUCKETS\n",
    "        self._global_embedding_size = data_config.GLOBAL_EMBEDDING_SIZE\n",
    "        self._mv_embedding_size = data_config.MV_EMBEDDING_SIZE\n",
    "        return\n",
    "        \n",
    "    def load(self, artifacts_uri: str):\n",
    "        \"\"\"\n",
    "        Loads trained policy dir & vocabulary\n",
    "        Args:\n",
    "            artifacts_uri (str):\n",
    "                Required. The value of the environment variable AIP_STORAGE_URI.\n",
    "                has `vocab_dict.pkl` and `artifacts/` directory\n",
    "        \n",
    "        \"\"\"\n",
    "        prediction_utils.download_model_artifacts(artifacts_uri)\n",
    "        \n",
    "        # init deploy policy\n",
    "        self._deployment_policy = py_tf_eager_policy.SavedModelPyTFEagerPolicy(\n",
    "            'artifacts', load_specs_from_pbtxt=True\n",
    "        )\n",
    "        \n",
    "        # load vocab dict\n",
    "        filehandler = open(f\"{self._local_vocab_filename}\", 'rb')\n",
    "        self._vocab_dict = pkl.load(filehandler)\n",
    "        filehandler.close()\n",
    "        \n",
    "        # only if no custom preprocessor is defined\n",
    "        # self._preprocessor = preprocessor\n",
    "        \n",
    "    def preprocess(self, prediction_input: Dict): # -> Tuple[Dict, float]:\n",
    "        \"\"\"\n",
    "        Args:\n",
    "            prediction_input (Any):\n",
    "                Required. The prediction input that needs to be preprocessed.\n",
    "        Returns:\n",
    "            The preprocessed prediction input.        \n",
    "        \"\"\"\n",
    "        # inputs = super().preprocess(prediction_input)\n",
    "        \n",
    "        dummy_arm = tf.zeros([1, data_config.PER_ARM_DIM], dtype=tf.float32)\n",
    "        \n",
    "        batch_size = len(prediction_input[\"instances\"])\n",
    "        assert batch_size == 1, 'prediction batch_size must be == 1'\n",
    "        \n",
    "        self._embs = emb_features.EmbeddingModel(\n",
    "            vocab_dict = self._vocab_dict,\n",
    "            num_oov_buckets = self._num_oov_buckets,\n",
    "            global_emb_size = self._global_embedding_size,\n",
    "            mv_emb_size = self._mv_embedding_size,\n",
    "        )\n",
    "        \n",
    "        # preprocess example\n",
    "        rebuild_ex = {}\n",
    "\n",
    "        for x in prediction_input[\"instances\"]:\n",
    "            rebuild_ex['bucketized_user_age'] = tf.constant([x[\"bucketized_user_age\"]], dtype=tf.float32)\n",
    "            rebuild_ex['movie_genres'] = tf.constant([x[\"movie_genres\"]], dtype=tf.int64)\n",
    "            rebuild_ex['movie_id'] = tf.constant([x[\"movie_id\"]], dtype=tf.string)\n",
    "            rebuild_ex['timestamp'] = tf.constant([x[\"timestamp\"]], dtype=tf.int64)\n",
    "            rebuild_ex['user_id'] = tf.constant([x[\"user_id\"]], dtype=tf.string)\n",
    "            rebuild_ex['user_occupation_text'] = tf.constant([x[\"user_occupation_text\"]], dtype=tf.string)\n",
    "            rebuild_ex['user_rating'] = tf.constant([x[\"user_rating\"]], dtype=tf.float32)\n",
    "        \n",
    "        global_feat_infer = self._embs._get_global_context_features(rebuild_ex)\n",
    "        logging.info(f'global_feat_infer: {global_feat_infer}')          # tmp - debugging\n",
    "        \n",
    "        arm_feat_infer = self._embs._get_per_arm_features(rebuild_ex)    # tmp - debugging\n",
    "        logging.info(f'arm_feat_infer: {arm_feat_infer}')\n",
    "    \n",
    "        rewards = reward_factory._get_rewards(rebuild_ex)\n",
    "        logging.info(f'rewards: {rewards}')                              # tmp - debugging\n",
    "        \n",
    "        actual_reward = rewards.numpy()[0]\n",
    "        logging.info(f'actual_reward: {actual_reward}')                  # tmp - debugging\n",
    "        \n",
    "        arm_feat_infer = tf.reshape(arm_feat_infer, [1, data_config.PER_ARM_DIM])\n",
    "        concat_arm = tf.concat([arm_feat_infer, dummy_arm], axis=0)      # tmp - debugging\n",
    "        \n",
    "        # flatten global\n",
    "        flat_global_infer = tf.reshape(global_feat_infer, [data_config.GLOBAL_DIM])\n",
    "        feature = {'global': flat_global_infer, 'per_arm': concat_arm}\n",
    "        logging.info(f'feature: {feature}')                              # tmp - debugging\n",
    "        \n",
    "        trajectory_step = _get_pred_step(feature, actual_reward)\n",
    "        logging.info(f'trajectory_step: {trajectory_step}')\n",
    "        \n",
    "        # prediction = self._deployment_policy.action(trajectory_step)\n",
    "        \n",
    "        return trajectory_step\n",
    "    \n",
    "    def predict(self, instances) -> Dict:\n",
    "        \"\"\"\n",
    "        Performs prediction.\n",
    "        \"\"\"\n",
    "        \n",
    "        prediction = self._deployment_policy.action(instances) # trajectory_step\n",
    "        \n",
    "        return {\"predictions\": prediction}\n",
    "        \n",
    "\n",
    "#     def postprocess(self, prediction_results: Any) -> Any:\n",
    "#         \"\"\" \n",
    "#         TODO:\n",
    "#              Convert predictions to item IDs\n",
    "#         \"\"\"\n",
    "        \n",
    "#         pass"
   ]
  },
  {
   "cell_type": "code",
   "execution_count": null,
   "id": "a76f69b9-75f5-4735-9c29-ac35d0ade6e7",
   "metadata": {},
   "outputs": [],
   "source": []
  },
  {
   "cell_type": "markdown",
   "id": "e098affd-3723-438e-a44d-cf2f4c8f8fcf",
   "metadata": {},
   "source": [
    "**Finished**"
   ]
  }
 ],
 "metadata": {
  "environment": {
   "kernel": "python3",
   "name": "tf2-gpu.2-13.m112",
   "type": "gcloud",
   "uri": "gcr.io/deeplearning-platform-release/tf2-gpu.2-13:m112"
  },
  "kernelspec": {
   "display_name": "Python 3",
   "language": "python",
   "name": "python3"
  },
  "language_info": {
   "codemirror_mode": {
    "name": "ipython",
    "version": 3
   },
   "file_extension": ".py",
   "mimetype": "text/x-python",
   "name": "python",
   "nbconvert_exporter": "python",
   "pygments_lexer": "ipython3",
   "version": "3.10.12"
  }
 },
 "nbformat": 4,
 "nbformat_minor": 5
}
