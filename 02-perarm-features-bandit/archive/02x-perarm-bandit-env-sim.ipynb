{
 "cells": [
  {
   "cell_type": "markdown",
   "id": "5143511a-905b-4d0b-ad2b-26290d975a00",
   "metadata": {},
   "source": [
    "# Build simulation environment for Contextual Bandits"
   ]
  },
  {
   "cell_type": "markdown",
   "id": "908034a9-4fa8-4f60-a2dc-de1e0aefb1fe",
   "metadata": {},
   "source": [
    "> We don’t actually have to implement the Environment in TF-Agents because during training the data is read offline from logs, and during inference, the policy is served in the actual production environment as a SavedModel on a Vertex endpoint. It may be useful to have an environment for running simulation experiments though."
   ]
  },
  {
   "cell_type": "markdown",
   "id": "19953613-91ed-4670-a886-9d061bc3f9c4",
   "metadata": {},
   "source": [
    "## Load notebook config\n",
    "\n",
    "* use the prefix defined in `00-env-setup`"
   ]
  },
  {
   "cell_type": "code",
   "execution_count": 1,
   "id": "871e43ab-8853-47ce-b201-23624d15bbb2",
   "metadata": {},
   "outputs": [
    {
     "name": "stdout",
     "output_type": "stream",
     "text": [
      "PREFIX: rec-bandits-v2\n"
     ]
    }
   ],
   "source": [
    "VERSION        = \"v2\"                       # TODO\n",
    "PREFIX         = f'rec-bandits-{VERSION}'   # TODO\n",
    "\n",
    "print(f\"PREFIX: {PREFIX}\")"
   ]
  },
  {
   "cell_type": "code",
   "execution_count": 2,
   "id": "77ddb0ba-d548-4ca7-80b6-7ed80ad8652e",
   "metadata": {},
   "outputs": [
    {
     "name": "stdout",
     "output_type": "stream",
     "text": [
      "\n",
      "PROJECT_ID               = \"hybrid-vertex\"\n",
      "PROJECT_NUM              = \"934903580331\"\n",
      "LOCATION                 = \"us-central1\"\n",
      "\n",
      "REGION                   = \"us-central1\"\n",
      "BQ_LOCATION              = \"US\"\n",
      "VPC_NETWORK_NAME         = \"ucaip-haystack-vpc-network\"\n",
      "\n",
      "VERTEX_SA                = \"934903580331-compute@developer.gserviceaccount.com\"\n",
      "\n",
      "PREFIX                   = \"rec-bandits-v2\"\n",
      "VERSION                  = \"v2\"\n",
      "\n",
      "BUCKET_NAME              = \"rec-bandits-v2-hybrid-vertex-bucket\"\n",
      "BUCKET_URI               = \"gs://rec-bandits-v2-hybrid-vertex-bucket\"\n",
      "DATA_GCS_PREFIX          = \"data\"\n",
      "DATA_PATH                = \"gs://rec-bandits-v2-hybrid-vertex-bucket/data\"\n",
      "VOCAB_SUBDIR             = \"vocabs\"\n",
      "VOCAB_FILENAME           = \"vocab_dict.pkl\"\n",
      "DATA_PATH_KFP_DEMO       = \"gs://rec-bandits-v2-hybrid-vertex-bucket/data/kfp_demo_data/u.data\"\n",
      "\n",
      "VPC_NETWORK_FULL         = \"projects/934903580331/global/networks/ucaip-haystack-vpc-network\"\n",
      "\n",
      "BIGQUERY_DATASET_NAME    = \"mvlens_rec_bandits_v2\"\n",
      "BIGQUERY_TABLE_NAME      = \"training_dataset\"\n",
      "\n",
      "REPOSITORY               = \"rl-movielens-rec-bandits-v2\"\n",
      "\n",
      "DOCKERNAME_01            = \"Dockerfile_train_my_perarm_env\"\n",
      "IMAGE_NAME_01            = \"train-my-perarm-env-v2\"\n",
      "IMAGE_URI_01             = \"gcr.io/hybrid-vertex/train-my-perarm-env-v2\"\n",
      "\n",
      "DOCKERNAME_02            = \"Dockerfile_perarm_feats\"\n",
      "IMAGE_NAME_02            = \"train-perarm-feats-v2\"\n",
      "IMAGE_URI_02             = \"gcr.io/hybrid-vertex/train-perarm-feats-v2\"\n",
      "\n",
      "DOCKERNAME_03            = \"Dockerfile_ranking_bandit\"\n",
      "IMAGE_NAME_03            = \"train-rank-bandit-v2\"\n",
      "IMAGE_URI_03             = \"gcr.io/hybrid-vertex/train-rank-bandit-v2\"\n",
      "\n",
      "DOCKERNAME_04            = \"Dockerfile_train_mab_e2e\"\n",
      "IMAGE_NAME_04            = \"train-mab-e2e-v2\"\n",
      "IMAGE_URI_04             = \"gcr.io/hybrid-vertex/train-mab-e2e-v2\"\n",
      "\n",
      "DOCKERNAME_04_pred       = \"Dockerfile_pred_mab_e2e\"\n",
      "IMAGE_NAME_04_pred       = \"pred-mab-e2e-v2\"\n",
      "IMAGE_URI_04_pred        = \"gcr.io/hybrid-vertex/pred-mab-e2e-v2\"\n",
      "\n",
      "REMOTE_IMAGE_NAME        = \"us-central1-docker.pkg.dev/hybrid-vertex/rl-movielens-rec-bandits-v2/local_docker_tfa\"\n",
      "\n",
      "REPO_DOCKER_PATH_PREFIX  = \"src\"\n",
      "RL_SUB_DIR               = \"per_arm_rl\"\n",
      "\n"
     ]
    }
   ],
   "source": [
    "# staging GCS\n",
    "GCP_PROJECTS             = !gcloud config get-value project\n",
    "PROJECT_ID               = GCP_PROJECTS[0]\n",
    "\n",
    "# GCS bucket and paths\n",
    "BUCKET_NAME              = f'{PREFIX}-{PROJECT_ID}-bucket'\n",
    "BUCKET_URI               = f'gs://{BUCKET_NAME}'\n",
    "\n",
    "config = !gsutil cat {BUCKET_URI}/config/notebook_env.py\n",
    "print(config.n)\n",
    "exec(config.n)"
   ]
  },
  {
   "cell_type": "markdown",
   "id": "1e7cd112-4572-494f-84dc-384ddea510b8",
   "metadata": {},
   "source": [
    "## imports"
   ]
  },
  {
   "cell_type": "code",
   "execution_count": 3,
   "id": "df53330d-5126-4bb8-9bc3-eb1b10e87347",
   "metadata": {},
   "outputs": [],
   "source": [
    "import os\n",
    "os.environ['TF_CPP_MIN_LOG_LEVEL'] = '2'"
   ]
  },
  {
   "cell_type": "code",
   "execution_count": 4,
   "id": "1b92c423-03ef-4897-b2c8-3efdb6bee19d",
   "metadata": {},
   "outputs": [],
   "source": [
    "import functools\n",
    "from collections import defaultdict\n",
    "from typing import Callable, Dict, List, Optional, TypeVar\n",
    "from datetime import datetime\n",
    "import time\n",
    "from pprint import pprint\n",
    "import pickle as pkl\n",
    "\n",
    "from tqdm import tqdm\n",
    "\n",
    "# logging\n",
    "# logging\n",
    "import logging\n",
    "logging.disable(logging.WARNING)\n",
    "\n",
    "import warnings\n",
    "warnings.filterwarnings('ignore')\n",
    "\n",
    "import matplotlib.pyplot as plt\n",
    "import numpy as np\n",
    "\n",
    "# google cloud\n",
    "from google.cloud import aiplatform, storage\n",
    "\n",
    "# tensorflow\n",
    "import tensorflow as tf\n",
    "# from tf_agents.agents import TFAgent\n",
    "\n",
    "from tf_agents.bandits.environments import stationary_stochastic_per_arm_py_environment as p_a_env\n",
    "from tf_agents.bandits.metrics import tf_metrics as tf_bandit_metrics\n",
    "from tf_agents.drivers import dynamic_step_driver\n",
    "from tf_agents.environments import tf_py_environment\n",
    "from tf_agents.replay_buffers import tf_uniform_replay_buffer\n",
    "from tf_agents.specs import tensor_spec\n",
    "from tf_agents.trajectories import time_step as ts\n",
    "\n",
    "from tf_agents.bandits.agents import lin_ucb_agent\n",
    "from tf_agents.bandits.agents import linear_thompson_sampling_agent as lin_ts_agent\n",
    "from tf_agents.bandits.agents import neural_epsilon_greedy_agent\n",
    "from tf_agents.bandits.agents import neural_linucb_agent\n",
    "from tf_agents.bandits.networks import global_and_arm_feature_network\n",
    "from tf_agents.bandits.policies import policy_utilities\n",
    "\n",
    "from tf_agents.bandits.specs import utils as bandit_spec_utils\n",
    "from tf_agents.trajectories import trajectory\n",
    "\n",
    "# GPU\n",
    "from numba import cuda \n",
    "import gc\n",
    "\n",
    "import sys\n",
    "sys.path.append(\"..\")\n",
    "\n",
    "# this repo\n",
    "from src.per_arm_rl import data_utils\n",
    "from src.per_arm_rl import data_config\n",
    "from src.per_arm_rl import train_utils as train_utils\n",
    "\n",
    "# tf exceptions and vars\n",
    "if tf.__version__[0] != \"2\":\n",
    "    raise Exception(\"The trainer only runs with TensorFlow version 2.\")\n",
    "\n",
    "T = TypeVar(\"T\")"
   ]
  },
  {
   "cell_type": "code",
   "execution_count": 5,
   "id": "ec8b8810-8338-4319-b6a7-a7ba774f61cb",
   "metadata": {},
   "outputs": [
    {
     "name": "stdout",
     "output_type": "stream",
     "text": [
      "Num GPUs Available:  1\n"
     ]
    }
   ],
   "source": [
    "print(\"Num GPUs Available: \", len(tf.config.list_physical_devices('GPU')))"
   ]
  },
  {
   "cell_type": "code",
   "execution_count": 8,
   "id": "5b821389-5352-4ba0-9fe4-28be3a9da3a4",
   "metadata": {},
   "outputs": [
    {
     "data": {
      "text/plain": [
       "14"
      ]
     },
     "execution_count": 8,
     "metadata": {},
     "output_type": "execute_result"
    }
   ],
   "source": [
    "device = cuda.get_current_device()\n",
    "device.reset()\n",
    "gc.collect()"
   ]
  },
  {
   "cell_type": "code",
   "execution_count": 9,
   "id": "3ca75e5e-1715-4f2c-ab1b-149dae58a216",
   "metadata": {},
   "outputs": [],
   "source": [
    "# cloud storage client\n",
    "storage_client = storage.Client(project=PROJECT_ID)\n",
    "\n",
    "# Vertex client\n",
    "aiplatform.init(project=PROJECT_ID, location=LOCATION)"
   ]
  },
  {
   "cell_type": "markdown",
   "id": "04a96d65-5960-4247-9e7e-e5c669c06ec5",
   "metadata": {},
   "source": [
    "# Data prep"
   ]
  },
  {
   "cell_type": "markdown",
   "id": "2b7a4255-81fe-4dc7-abdd-f91d74d01e26",
   "metadata": {},
   "source": [
    "### Read TF Records (for testing)"
   ]
  },
  {
   "cell_type": "code",
   "execution_count": 10,
   "id": "cec8476f-1705-40da-84f1-bf99ebc89ab3",
   "metadata": {},
   "outputs": [],
   "source": [
    "options = tf.data.Options()\n",
    "options.experimental_distribute.auto_shard_policy = tf.data.experimental.AutoShardPolicy.AUTO"
   ]
  },
  {
   "cell_type": "code",
   "execution_count": 11,
   "id": "ecaa5b72-3637-49b5-b86e-2c9652b1d684",
   "metadata": {},
   "outputs": [
    {
     "data": {
      "text/plain": [
       "['gs://rec-bandits-v2-hybrid-vertex-bucket/data/train/ml-ratings-100k-train.tfrecord']"
      ]
     },
     "execution_count": 11,
     "metadata": {},
     "output_type": "execute_result"
    }
   ],
   "source": [
    "SPLIT = \"train\" # \"train\" | \"val\"\n",
    "\n",
    "train_files = []\n",
    "for blob in storage_client.list_blobs(f\"{BUCKET_NAME}\", prefix=f'{DATA_GCS_PREFIX}/{SPLIT}'):\n",
    "    if '.tfrecord' in blob.name:\n",
    "        train_files.append(blob.public_url.replace(\"https://storage.googleapis.com/\", \"gs://\"))\n",
    "        \n",
    "train_files"
   ]
  },
  {
   "cell_type": "code",
   "execution_count": 12,
   "id": "a545cd70-2e26-402b-bf57-e050412b322f",
   "metadata": {},
   "outputs": [
    {
     "name": "stdout",
     "output_type": "stream",
     "text": [
      "{'bucketized_user_age': <tf.Tensor: shape=(1,), dtype=float32, numpy=array([35.], dtype=float32)>,\n",
      " 'movie_genres': <tf.Tensor: shape=(1, 1), dtype=int64, numpy=array([[7]])>,\n",
      " 'movie_id': <tf.Tensor: shape=(1,), dtype=string, numpy=array([b'898'], dtype=object)>,\n",
      " 'timestamp': <tf.Tensor: shape=(1,), dtype=int64, numpy=array([885409515])>,\n",
      " 'user_id': <tf.Tensor: shape=(1,), dtype=string, numpy=array([b'681'], dtype=object)>,\n",
      " 'user_occupation_text': <tf.Tensor: shape=(1,), dtype=string, numpy=array([b'marketing'], dtype=object)>,\n",
      " 'user_rating': <tf.Tensor: shape=(1,), dtype=float32, numpy=array([4.], dtype=float32)>}\n"
     ]
    }
   ],
   "source": [
    "train_dataset = tf.data.TFRecordDataset(train_files)\n",
    "train_dataset = train_dataset.map(data_utils.parse_tfrecord)\n",
    "\n",
    "for x in train_dataset.batch(1).take(1):\n",
    "    pprint(x)"
   ]
  },
  {
   "cell_type": "markdown",
   "id": "31df66bf-391f-4ed0-9ac3-e28804210cf8",
   "metadata": {},
   "source": [
    "### get vocab"
   ]
  },
  {
   "cell_type": "code",
   "execution_count": 13,
   "id": "bc8a222c-0f2d-4c5e-8fae-a054c78d0ecc",
   "metadata": {},
   "outputs": [
    {
     "name": "stdout",
     "output_type": "stream",
     "text": [
      "GENERATE_VOCABS: False\n"
     ]
    }
   ],
   "source": [
    "GENERATE_VOCABS = False\n",
    "\n",
    "print(f\"GENERATE_VOCABS: {GENERATE_VOCABS}\")"
   ]
  },
  {
   "cell_type": "code",
   "execution_count": 14,
   "id": "1d5bd761-5062-46e5-9e81-47af9081ee98",
   "metadata": {},
   "outputs": [
    {
     "name": "stdout",
     "output_type": "stream",
     "text": [
      "Downloading vocab...\n",
      "Downloaded vocab from: gs://rec-bandits-v2-hybrid-vertex-bucket/vocabs/vocab_dict.pkl\n",
      "\n",
      "'movie_id'\n",
      "'user_id'\n",
      "'user_occupation_text'\n",
      "'movie_genres'\n",
      "'bucketized_user_age'\n",
      "'max_timestamp'\n",
      "'min_timestamp'\n",
      "'timestamp_buckets'\n"
     ]
    }
   ],
   "source": [
    "if not GENERATE_VOCABS:\n",
    "\n",
    "    EXISTING_VOCAB_FILE = f'gs://{BUCKET_NAME}/{VOCAB_SUBDIR}/{VOCAB_FILENAME}'\n",
    "    print(f\"Downloading vocab...\")\n",
    "    \n",
    "    os.system(f'gsutil -q cp {EXISTING_VOCAB_FILE} .')\n",
    "    print(f\"Downloaded vocab from: {EXISTING_VOCAB_FILE}\\n\")\n",
    "\n",
    "    filehandler = open(VOCAB_FILENAME, 'rb')\n",
    "    vocab_dict = pkl.load(filehandler)\n",
    "    filehandler.close()\n",
    "    \n",
    "    for key in vocab_dict.keys():\n",
    "        pprint(key)"
   ]
  },
  {
   "cell_type": "markdown",
   "id": "2bb82311-b625-4c36-b527-aab4a41fe80c",
   "metadata": {},
   "source": [
    "# Global & Per-Arm feature embedding models "
   ]
  },
  {
   "cell_type": "code",
   "execution_count": 15,
   "id": "0831686e-a988-4cf3-90e9-e22fbc9586c4",
   "metadata": {},
   "outputs": [],
   "source": [
    "NUM_OOV_BUCKETS        = 1\n",
    "GLOBAL_EMBEDDING_SIZE  = 16\n",
    "MV_EMBEDDING_SIZE      = 32 #32"
   ]
  },
  {
   "cell_type": "code",
   "execution_count": 16,
   "id": "a9afc0aa-ae55-4472-9281-d691691195dc",
   "metadata": {},
   "outputs": [],
   "source": [
    "# test emb models\n",
    "for i in range(1):\n",
    "    \n",
    "    iterator = iter(train_dataset.batch(1))\n",
    "    data = next(iterator)\n",
    "\n",
    "# data"
   ]
  },
  {
   "cell_type": "code",
   "execution_count": 17,
   "id": "7cadd0eb-b8b3-4698-8581-a5c3384a0fea",
   "metadata": {},
   "outputs": [
    {
     "data": {
      "text/plain": [
       "<src.perarm_features.emb_features.EmbeddingModel at 0x7f6d7a247d90>"
      ]
     },
     "execution_count": 17,
     "metadata": {},
     "output_type": "execute_result"
    }
   ],
   "source": [
    "from src.perarm_features import emb_features as emb_features\n",
    "\n",
    "embs = emb_features.EmbeddingModel(\n",
    "    vocab_dict = vocab_dict,\n",
    "    num_oov_buckets = NUM_OOV_BUCKETS,\n",
    "    global_emb_size = GLOBAL_EMBEDDING_SIZE,\n",
    "    mv_emb_size = MV_EMBEDDING_SIZE,\n",
    ")\n",
    "\n",
    "embs"
   ]
  },
  {
   "cell_type": "code",
   "execution_count": 18,
   "id": "f057376f-7552-4a41-8efd-7c0626677164",
   "metadata": {},
   "outputs": [
    {
     "name": "stdout",
     "output_type": "stream",
     "text": [
      "GLOBAL_DIM: 64\n"
     ]
    },
    {
     "data": {
      "text/plain": [
       "array([[ 0.02560623,  0.04996201, -0.02733735,  0.03722043,  0.00106382,\n",
       "        -0.04151837,  0.02446752, -0.04860686, -0.02274541,  0.01816983,\n",
       "         0.00305855,  0.03821209,  0.00152123,  0.03743393, -0.03659732,\n",
       "         0.04404802,  0.04549373,  0.00014117,  0.02265188, -0.00787976,\n",
       "         0.0344757 ,  0.02863226, -0.02340043,  0.03109679, -0.0215041 ,\n",
       "        -0.03428183, -0.00710988,  0.00291734, -0.02234285, -0.01963607,\n",
       "        -0.01539563,  0.02970156,  0.01404101, -0.02399408, -0.02793763,\n",
       "         0.02238429, -0.0070901 , -0.00609569,  0.00235384, -0.02958481,\n",
       "        -0.01794749, -0.00678216, -0.03158905,  0.02893423, -0.04684692,\n",
       "        -0.00139488,  0.04669246, -0.0403015 ,  0.01173333,  0.01212993,\n",
       "        -0.03434511,  0.04520059,  0.00654713,  0.03948832, -0.00753876,\n",
       "         0.04629998,  0.04719556, -0.04131585, -0.00026382, -0.02070122,\n",
       "        -0.01709671,  0.00919009, -0.04144082, -0.02827168]],\n",
       "      dtype=float32)"
      ]
     },
     "execution_count": 18,
     "metadata": {},
     "output_type": "execute_result"
    }
   ],
   "source": [
    "test_globals = embs._get_global_context_features(data)\n",
    "\n",
    "GLOBAL_DIM = test_globals.shape[1]            \n",
    "# shape checks out at batch_dim, nactions, arm feats\n",
    "print(f\"GLOBAL_DIM: {GLOBAL_DIM}\")\n",
    "\n",
    "test_globals"
   ]
  },
  {
   "cell_type": "code",
   "execution_count": 19,
   "id": "af57b6cb-b958-444f-8ed4-0d1104430e22",
   "metadata": {},
   "outputs": [
    {
     "name": "stdout",
     "output_type": "stream",
     "text": [
      "PER_ARM_DIM: 64\n"
     ]
    },
    {
     "data": {
      "text/plain": [
       "array([[ 0.01430434, -0.04188953, -0.01161367,  0.02332661,  0.03167341,\n",
       "        -0.04201597,  0.01272173,  0.00640515, -0.01636521,  0.01928968,\n",
       "         0.0328281 ,  0.02553642,  0.04215515, -0.00747236,  0.02098953,\n",
       "         0.01868815,  0.03517028,  0.00097396,  0.03820369, -0.03115127,\n",
       "        -0.013776  , -0.00013181, -0.00010111, -0.03186439,  0.03549296,\n",
       "        -0.04023425, -0.03269843,  0.03159671,  0.00131979,  0.02956401,\n",
       "         0.03241475,  0.04090616,  0.02711692, -0.00559483, -0.03396928,\n",
       "         0.00620606,  0.01955731,  0.00588924,  0.02815548,  0.00862215,\n",
       "        -0.04191413,  0.03958312, -0.02553884,  0.01931732, -0.01996559,\n",
       "         0.03728619, -0.02157672,  0.04640156, -0.02094539, -0.04508194,\n",
       "        -0.00395827, -0.0122221 , -0.00396011,  0.02415613, -0.02206255,\n",
       "        -0.0144966 ,  0.04065723,  0.0040987 ,  0.00883876,  0.00113531,\n",
       "         0.00081302,  0.0146402 , -0.02878844, -0.00266696]],\n",
       "      dtype=float32)"
      ]
     },
     "execution_count": 19,
     "metadata": {},
     "output_type": "execute_result"
    }
   ],
   "source": [
    "test_arms = embs._get_per_arm_features(data)\n",
    "\n",
    "PER_ARM_DIM = test_arms.shape[1]            \n",
    "# shape checks out at batch_dim, nactions, arm feats\n",
    "print(f\"PER_ARM_DIM: {PER_ARM_DIM}\")\n",
    "\n",
    "test_arms"
   ]
  },
  {
   "cell_type": "code",
   "execution_count": 20,
   "id": "e66acb23-2324-4373-acdc-113d43ed8147",
   "metadata": {},
   "outputs": [
    {
     "data": {
      "text/plain": [
       "(1, 64)"
      ]
     },
     "execution_count": 20,
     "metadata": {},
     "output_type": "execute_result"
    }
   ],
   "source": [
    "test_arms.shape"
   ]
  },
  {
   "cell_type": "markdown",
   "id": "97949d3e-0064-4fb9-89b0-16fb61d3e746",
   "metadata": {},
   "source": [
    "# Per-arm environment"
   ]
  },
  {
   "cell_type": "markdown",
   "id": "a08d7af9-9b53-46cd-8223-eea9804bacfa",
   "metadata": {},
   "source": [
    "In this example we will use the [StationaryStochasticPerArmPyEnvironment](https://github.com/tensorflow/agents/blob/master/tf_agents/bandits/environments/stationary_stochastic_per_arm_py_environment.py) environment to simulate offline training data for training a contextual bandit with **per-arm features**\n",
    "\n",
    "To initialize the per-arm environment, one has to define functions that generate\n",
    "\n",
    "* *global and per-arm features*: These functions have no input parameters and generate a single (global or per-arm) feature vector when called.\n",
    "\n",
    "* *rewards*: This function takes as parameter the concatenation of a global and a per-arm feature vector, and generates a reward. Basically this is the function that the agent will have to \"guess\". \n",
    "\n",
    "It is worth noting here that in the per-arm case the reward function is identical for every arm. This is a fundamental difference from the classic bandit case, where the agent has to estimate reward functions for each arm independently."
   ]
  },
  {
   "cell_type": "markdown",
   "id": "6fd4a4ec-ba81-4681-8e99-d609d4d9f643",
   "metadata": {},
   "source": [
    "## Sampling and reward functions"
   ]
  },
  {
   "cell_type": "markdown",
   "id": "a417340c-2e0d-4dd7-8b8e-08cab44cf49b",
   "metadata": {},
   "source": [
    "The preproccesing layers will ultimately feed the two sampling functions described below. These sampling functions will be used to create [trajectories](https://github.com/tensorflow/agents/blob/master/tf_agents/trajectories/trajectory.py#L36) (i.e., the training examples for our model)\n",
    "\n",
    "`global_context_sampling_fn`: \n",
    "* A function that outputs a random 1d array or list of ints or floats\n",
    "* This output is the global context. Its shape and type must be consistent across calls.\n",
    "\n",
    "`arm_context_sampling_fn`: \n",
    "* A function that outputs a random 1 array or list of ints or floats (same type as the output of `global_context_sampling_fn`). \n",
    "* This output is the per-arm context. Its shape must be consistent across calls.\n",
    "\n",
    "`reward_fn`: function takes the concatenation of a global and a per-arm feature, and outputs a possibly random reward."
   ]
  },
  {
   "cell_type": "code",
   "execution_count": 21,
   "id": "39fd8e62-5507-470d-ba36-3e280aa0633d",
   "metadata": {},
   "outputs": [],
   "source": [
    "BATCH_SIZE      = 128\n",
    "EVAL_BATCH_SIZE = 1\n",
    "NUM_ACTIONS     = 20"
   ]
  },
  {
   "cell_type": "markdown",
   "id": "a4d46485-7b01-435e-b358-55a66bd41b8b",
   "metadata": {},
   "source": [
    "### sampling global context"
   ]
  },
  {
   "cell_type": "code",
   "execution_count": 22,
   "id": "554168af-6dea-4e04-8ff4-8217ad3278c3",
   "metadata": {},
   "outputs": [
    {
     "data": {
      "text/plain": [
       "array([-1., -1.,  0.,  0.,  0.,  0., -1., -1., -1., -1.,  0., -1., -1.,\n",
       "       -1.,  0.,  0., -1.,  0., -1., -1.,  0.,  0.,  0.,  0.,  0., -1.,\n",
       "        0., -1., -1.,  0.,  0., -1.,  0., -1., -1.,  0.,  0., -1., -1.,\n",
       "        0., -1., -1.,  0.,  0., -1.,  0.,  0.,  0., -1., -1.,  0., -1.,\n",
       "        0.,  0., -1., -1.,  0.,  0.,  0., -1.,  0.,  0., -1.,  0.],\n",
       "      dtype=float32)"
      ]
     },
     "execution_count": 22,
     "metadata": {},
     "output_type": "execute_result"
    }
   ],
   "source": [
    "def example_global_context_sampling_fn():\n",
    "    # return np.random.randint(0, 10, [2])  # 2-dimensional global features.\n",
    "    return np.random.randint(-1, 1, [GLOBAL_DIM]).astype(np.float32)\n",
    "\n",
    "example_global_context_sampling_fn()"
   ]
  },
  {
   "cell_type": "code",
   "execution_count": 23,
   "id": "35af564a-a969-4ee3-a105-45699bb3cfe9",
   "metadata": {},
   "outputs": [],
   "source": [
    "global_iterator = iter(train_dataset.batch(1).repeat())\n",
    "\n",
    "def global_context_sampling_fn():\n",
    "    \n",
    "    data = next(global_iterator)\n",
    "    \n",
    "    return embs._get_global_context_features(data)[0]"
   ]
  },
  {
   "cell_type": "code",
   "execution_count": 24,
   "id": "6a2bbc38-107c-4072-a3ec-a10c32a8fb7a",
   "metadata": {},
   "outputs": [
    {
     "name": "stdout",
     "output_type": "stream",
     "text": [
      "shape: (64,)\n"
     ]
    },
    {
     "data": {
      "text/plain": [
       "array([ 0.02560623,  0.04996201, -0.02733735,  0.03722043,  0.00106382,\n",
       "       -0.04151837,  0.02446752, -0.04860686, -0.02274541,  0.01816983,\n",
       "        0.00305855,  0.03821209,  0.00152123,  0.03743393, -0.03659732,\n",
       "        0.04404802,  0.04549373,  0.00014117,  0.02265188, -0.00787976,\n",
       "        0.0344757 ,  0.02863226, -0.02340043,  0.03109679, -0.0215041 ,\n",
       "       -0.03428183, -0.00710988,  0.00291734, -0.02234285, -0.01963607,\n",
       "       -0.01539563,  0.02970156,  0.01404101, -0.02399408, -0.02793763,\n",
       "        0.02238429, -0.0070901 , -0.00609569,  0.00235384, -0.02958481,\n",
       "       -0.01794749, -0.00678216, -0.03158905,  0.02893423, -0.04684692,\n",
       "       -0.00139488,  0.04669246, -0.0403015 ,  0.01173333,  0.01212993,\n",
       "       -0.03434511,  0.04520059,  0.00654713,  0.03948832, -0.00753876,\n",
       "        0.04629998,  0.04719556, -0.04131585, -0.00026382, -0.02070122,\n",
       "       -0.01709671,  0.00919009, -0.04144082, -0.02827168], dtype=float32)"
      ]
     },
     "execution_count": 24,
     "metadata": {},
     "output_type": "execute_result"
    }
   ],
   "source": [
    "test_global_sampling = global_context_sampling_fn()\n",
    "print(f\"shape: {test_global_sampling.shape}\")\n",
    "\n",
    "test_global_sampling"
   ]
  },
  {
   "cell_type": "markdown",
   "id": "3900ea38-8039-4911-861f-720eacd9faab",
   "metadata": {},
   "source": [
    "### sampling arm context"
   ]
  },
  {
   "cell_type": "code",
   "execution_count": 25,
   "id": "46bade73-a8af-4877-9b77-584a586db5c1",
   "metadata": {},
   "outputs": [
    {
     "data": {
      "text/plain": [
       "array([-2.,  1., -1., -1.,  2.,  1., -1.,  0.,  0., -2.,  0., -1., -2.,\n",
       "       -1.,  2.,  0., -2.,  1.,  1.,  2.,  2.,  2.,  1.,  2.,  0., -2.,\n",
       "       -2.,  2.,  0.,  2.,  1.,  1., -1., -1.,  0.,  0.,  0.,  0.,  2.,\n",
       "       -2.,  2., -2.,  0., -2., -2.,  1., -1.,  2., -1.,  0., -2.,  0.,\n",
       "        0.,  0.,  2., -1.,  1., -2., -2.,  0.,  2., -1.,  2., -2.],\n",
       "      dtype=float32)"
      ]
     },
     "execution_count": 25,
     "metadata": {},
     "output_type": "execute_result"
    }
   ],
   "source": [
    "def example_arm_context_sampling_fn():\n",
    "    # return np.random.randint(-3, 4, [3])  # 3-dimensional arm features.\n",
    "    return np.random.randint(-2, 3, [PER_ARM_DIM]).astype(np.float32)\n",
    "\n",
    "example_arm_context_sampling_fn()"
   ]
  },
  {
   "cell_type": "code",
   "execution_count": 26,
   "id": "5b4363e3-61c0-42f9-a0d0-f62f65b42c21",
   "metadata": {},
   "outputs": [],
   "source": [
    "arm_iterator = iter(train_dataset.batch(1).repeat())\n",
    "# arm_iterator = iter(train_dataset.repeat())\n",
    "\n",
    "def arm_context_sampling_fn():\n",
    "    \n",
    "    data = next(arm_iterator)\n",
    "    \n",
    "    return embs._get_per_arm_features(data)[0]"
   ]
  },
  {
   "cell_type": "code",
   "execution_count": 27,
   "id": "913be0b6-1516-4cee-8da4-303945ed6332",
   "metadata": {},
   "outputs": [
    {
     "name": "stdout",
     "output_type": "stream",
     "text": [
      "shape: (64,)\n"
     ]
    },
    {
     "data": {
      "text/plain": [
       "array([ 0.01430434, -0.04188953, -0.01161367,  0.02332661,  0.03167341,\n",
       "       -0.04201597,  0.01272173,  0.00640515, -0.01636521,  0.01928968,\n",
       "        0.0328281 ,  0.02553642,  0.04215515, -0.00747236,  0.02098953,\n",
       "        0.01868815,  0.03517028,  0.00097396,  0.03820369, -0.03115127,\n",
       "       -0.013776  , -0.00013181, -0.00010111, -0.03186439,  0.03549296,\n",
       "       -0.04023425, -0.03269843,  0.03159671,  0.00131979,  0.02956401,\n",
       "        0.03241475,  0.04090616,  0.02711692, -0.00559483, -0.03396928,\n",
       "        0.00620606,  0.01955731,  0.00588924,  0.02815548,  0.00862215,\n",
       "       -0.04191413,  0.03958312, -0.02553884,  0.01931732, -0.01996559,\n",
       "        0.03728619, -0.02157672,  0.04640156, -0.02094539, -0.04508194,\n",
       "       -0.00395827, -0.0122221 , -0.00396011,  0.02415613, -0.02206255,\n",
       "       -0.0144966 ,  0.04065723,  0.0040987 ,  0.00883876,  0.00113531,\n",
       "        0.00081302,  0.0146402 , -0.02878844, -0.00266696], dtype=float32)"
      ]
     },
     "execution_count": 27,
     "metadata": {},
     "output_type": "execute_result"
    }
   ],
   "source": [
    "test_arm_sampling = arm_context_sampling_fn()\n",
    "print(f\"shape: {test_arm_sampling.shape}\")\n",
    "\n",
    "test_arm_sampling"
   ]
  },
  {
   "cell_type": "markdown",
   "id": "7d88b7a0-b13c-417f-b18b-738a263a0d0f",
   "metadata": {},
   "source": [
    "### reward function \n",
    "\n",
    "> compute the dot product between global user context features and arm context features\n",
    "\n",
    "In this environment, the reward function will take as input the concatenation of the global and arm features generated from the provided sampling functions. See it used in the environment's `_apply_action()` function [here](https://github.com/tensorflow/agents/blob/master/tf_agents/bandits/environments/stationary_stochastic_per_arm_py_environment.py#L170C18-L170C28)\n",
    "\n",
    "```python\n",
    "feat_concat = np.concatenate((test_global_sampling, test_arm_sampling))\n",
    "reward = np.dot(feat_concat[:GLOBAL_DIM], feat_concat[PER_ARM_DIM:])\n",
    "```"
   ]
  },
  {
   "cell_type": "code",
   "execution_count": 28,
   "id": "01cc00cc-9883-44c8-90b3-2faba48ef3c4",
   "metadata": {},
   "outputs": [
    {
     "data": {
      "text/plain": [
       "array([ 0.02560623,  0.04996201, -0.02733735,  0.03722043,  0.00106382,\n",
       "       -0.04151837,  0.02446752, -0.04860686, -0.02274541,  0.01816983,\n",
       "        0.00305855,  0.03821209,  0.00152123,  0.03743393, -0.03659732,\n",
       "        0.04404802,  0.04549373,  0.00014117,  0.02265188, -0.00787976,\n",
       "        0.0344757 ,  0.02863226, -0.02340043,  0.03109679, -0.0215041 ,\n",
       "       -0.03428183, -0.00710988,  0.00291734, -0.02234285, -0.01963607,\n",
       "       -0.01539563,  0.02970156,  0.01404101, -0.02399408, -0.02793763,\n",
       "        0.02238429, -0.0070901 , -0.00609569,  0.00235384, -0.02958481,\n",
       "       -0.01794749, -0.00678216, -0.03158905,  0.02893423, -0.04684692,\n",
       "       -0.00139488,  0.04669246, -0.0403015 ,  0.01173333,  0.01212993,\n",
       "       -0.03434511,  0.04520059,  0.00654713,  0.03948832, -0.00753876,\n",
       "        0.04629998,  0.04719556, -0.04131585, -0.00026382, -0.02070122,\n",
       "       -0.01709671,  0.00919009, -0.04144082, -0.02827168], dtype=float32)"
      ]
     },
     "execution_count": 28,
     "metadata": {},
     "output_type": "execute_result"
    }
   ],
   "source": [
    "test_global_sampling #[0]"
   ]
  },
  {
   "cell_type": "code",
   "execution_count": 29,
   "id": "9787d047-5dbc-4af2-8a86-02e2899ba330",
   "metadata": {},
   "outputs": [
    {
     "data": {
      "text/plain": [
       "array([ 0.01430434, -0.04188953, -0.01161367,  0.02332661,  0.03167341,\n",
       "       -0.04201597,  0.01272173,  0.00640515, -0.01636521,  0.01928968,\n",
       "        0.0328281 ,  0.02553642,  0.04215515, -0.00747236,  0.02098953,\n",
       "        0.01868815,  0.03517028,  0.00097396,  0.03820369, -0.03115127,\n",
       "       -0.013776  , -0.00013181, -0.00010111, -0.03186439,  0.03549296,\n",
       "       -0.04023425, -0.03269843,  0.03159671,  0.00131979,  0.02956401,\n",
       "        0.03241475,  0.04090616,  0.02711692, -0.00559483, -0.03396928,\n",
       "        0.00620606,  0.01955731,  0.00588924,  0.02815548,  0.00862215,\n",
       "       -0.04191413,  0.03958312, -0.02553884,  0.01931732, -0.01996559,\n",
       "        0.03728619, -0.02157672,  0.04640156, -0.02094539, -0.04508194,\n",
       "       -0.00395827, -0.0122221 , -0.00396011,  0.02415613, -0.02206255,\n",
       "       -0.0144966 ,  0.04065723,  0.0040987 ,  0.00883876,  0.00113531,\n",
       "        0.00081302,  0.0146402 , -0.02878844, -0.00266696], dtype=float32)"
      ]
     },
     "execution_count": 29,
     "metadata": {},
     "output_type": "execute_result"
    }
   ],
   "source": [
    "test_arm_sampling #[0]"
   ]
  },
  {
   "cell_type": "code",
   "execution_count": 30,
   "id": "deca3a3e-7cd8-4927-baad-a91954a100b3",
   "metadata": {},
   "outputs": [],
   "source": [
    "# def dot_reward_fn(x):\n",
    "#     \"\"\"\n",
    "#     This function generates a reward from the \n",
    "#     concatenated global and per-arm observations.\n",
    "#     \"\"\"\n",
    "#     _globals = x[:GLOBAL_DIM]\n",
    "#     _arms = x[PER_ARM_DIM:]\n",
    "    \n",
    "#     return (1 - np.dot(_globals, _arms))\n",
    "\n",
    "# # test reward function\n",
    "# feat_concat = np.concatenate((test_global_sampling, test_arm_sampling))\n",
    "# reward_fn = dot_reward_fn(feat_concat)\n",
    "\n",
    "# reward_fn"
   ]
  },
  {
   "cell_type": "code",
   "execution_count": 31,
   "id": "28cfe62b-faf5-43fb-9abe-4939e84157a6",
   "metadata": {},
   "outputs": [],
   "source": [
    "# HIDDEN_PARAM = [0, 1, 2, 3, 4, 5, 6, 7, 8]\n",
    "HIDDEN_PARAM = list(np.random.randint(0, 10, [GLOBAL_DIM + PER_ARM_DIM]))\n",
    "\n",
    "class LinearNormalReward(object):\n",
    "    def __init__(self, theta):\n",
    "        self.theta = theta\n",
    "\n",
    "    def __call__(self, x):\n",
    "        mu = np.dot(x, self.theta)\n",
    "        return np.random.normal(mu, 1)\n",
    "    \n",
    "reward_fn = LinearNormalReward(HIDDEN_PARAM)"
   ]
  },
  {
   "cell_type": "code",
   "execution_count": 32,
   "id": "6564e7ba-282b-4b56-a23d-6aa7b279fe76",
   "metadata": {},
   "outputs": [],
   "source": [
    "# HIDDEN_PARAM"
   ]
  },
  {
   "cell_type": "markdown",
   "id": "a55d3c5f-bf7e-43f4-8bf7-f197052403f7",
   "metadata": {},
   "source": [
    "## Initialize environment"
   ]
  },
  {
   "cell_type": "code",
   "execution_count": 33,
   "id": "eb65016e-1f05-4f97-9b36-1baa76ec15fd",
   "metadata": {},
   "outputs": [
    {
     "name": "stdout",
     "output_type": "stream",
     "text": [
      "BATCH_SIZE      : 128\n",
      "EVAL_BATCH_SIZE : 1\n",
      "NUM_ACTIONS     : 20\n",
      "GLOBAL_DIM      : 64\n",
      "PER_ARM_DIM     : 64\n"
     ]
    }
   ],
   "source": [
    "print(f\"BATCH_SIZE      : {BATCH_SIZE}\")\n",
    "print(f\"EVAL_BATCH_SIZE : {EVAL_BATCH_SIZE}\")\n",
    "print(f\"NUM_ACTIONS     : {NUM_ACTIONS}\")\n",
    "print(f\"GLOBAL_DIM      : {GLOBAL_DIM}\")\n",
    "print(f\"PER_ARM_DIM     : {PER_ARM_DIM}\")"
   ]
  },
  {
   "cell_type": "code",
   "execution_count": 34,
   "id": "251bc9f4-d3fb-4456-9e6f-5109ec0c3941",
   "metadata": {},
   "outputs": [],
   "source": [
    "per_arm_py_env = p_a_env.StationaryStochasticPerArmPyEnvironment(\n",
    "    global_context_sampling_fn=global_context_sampling_fn,\n",
    "    arm_context_sampling_fn=arm_context_sampling_fn,\n",
    "    max_num_actions=NUM_ACTIONS,\n",
    "    reward_fn=reward_fn,\n",
    "    batch_size=BATCH_SIZE\n",
    ")\n",
    "per_arm_tf_env = tf_py_environment.TFPyEnvironment(per_arm_py_env)"
   ]
  },
  {
   "cell_type": "code",
   "execution_count": 35,
   "id": "e39630da-3b8e-4b1b-bfb5-547f9eb045db",
   "metadata": {},
   "outputs": [
    {
     "name": "stdout",
     "output_type": "stream",
     "text": [
      "observation spec:  {'global': TensorSpec(shape=(64,), dtype=tf.float32, name=None), 'per_arm': TensorSpec(shape=(20, 64), dtype=tf.float32, name=None)}\n",
      "\n",
      "An observation:  {'global': <tf.Tensor: shape=(128, 64), dtype=float32, numpy=\n",
      "array([[ 0.038438  ,  0.04694191, -0.01301454, ...,  0.0289537 ,\n",
      "         0.04755742,  0.01584301],\n",
      "       [ 0.02199021, -0.03940614,  0.00566893, ...,  0.02097298,\n",
      "         0.01509607,  0.01821813],\n",
      "       [-0.0063985 ,  0.02290446,  0.02884017, ...,  0.04446329,\n",
      "        -0.01486733,  0.03763047],\n",
      "       ...,\n",
      "       [ 0.03704048,  0.01097709, -0.02253014, ..., -0.02082306,\n",
      "         0.04666927,  0.0136126 ],\n",
      "       [-0.04199537, -0.03981917, -0.04960741, ..., -0.02389327,\n",
      "        -0.01837663,  0.01564028],\n",
      "       [ 0.04111017,  0.01226275, -0.03543228, ..., -0.02974961,\n",
      "         0.03558877,  0.0074252 ]], dtype=float32)>, 'per_arm': <tf.Tensor: shape=(128, 20, 64), dtype=float32, numpy=\n",
      "array([[[-0.02406737,  0.02257529, -0.02256111, ..., -0.04114496,\n",
      "         -0.01940041, -0.04829013],\n",
      "        [-0.03926723, -0.01188944,  0.01391739, ...,  0.00333869,\n",
      "         -0.03410938,  0.0038163 ],\n",
      "        [-0.00822514, -0.04161964,  0.00138219, ...,  0.0146402 ,\n",
      "         -0.02878844, -0.00266696],\n",
      "        ...,\n",
      "        [ 0.01624617, -0.01106896,  0.00753327, ...,  0.00025585,\n",
      "         -0.03942351, -0.04864986],\n",
      "        [ 0.0175193 , -0.02530178, -0.0187482 , ...,  0.00333869,\n",
      "         -0.03410938,  0.0038163 ],\n",
      "        [-0.04364435, -0.02808315,  0.00420136, ..., -0.02415827,\n",
      "         -0.01612301, -0.01528677]],\n",
      "\n",
      "       [[-0.01660727, -0.01072693,  0.00783885, ...,  0.00936887,\n",
      "         -0.01836812,  0.0315378 ],\n",
      "        [-0.01601541,  0.02551803,  0.02250509, ...,  0.00025585,\n",
      "         -0.03942351, -0.04864986],\n",
      "        [-0.02654173,  0.0238429 ,  0.04540424, ...,  0.00025585,\n",
      "         -0.03942351, -0.04864986],\n",
      "        ...,\n",
      "        [ 0.02333548,  0.03823228,  0.02627988, ..., -0.02206692,\n",
      "          0.04275068, -0.01177708],\n",
      "        [ 0.01700968, -0.01521454,  0.01819013, ...,  0.00025585,\n",
      "         -0.03942351, -0.04864986],\n",
      "        [-0.01740689,  0.00741289,  0.04769026, ...,  0.00025585,\n",
      "         -0.03942351, -0.04864986]],\n",
      "\n",
      "       [[ 0.04678566,  0.0327691 , -0.04577659, ...,  0.00025585,\n",
      "         -0.03942351, -0.04864986],\n",
      "        [ 0.02817717,  0.02451524, -0.00496991, ...,  0.00333869,\n",
      "         -0.03410938,  0.0038163 ],\n",
      "        [ 0.01981996,  0.00099319,  0.04173743, ...,  0.0146402 ,\n",
      "         -0.02878844, -0.00266696],\n",
      "        ...,\n",
      "        [ 0.02333548,  0.03823228,  0.02627988, ..., -0.02206692,\n",
      "          0.04275068, -0.01177708],\n",
      "        [ 0.03058   , -0.02155711,  0.00428302, ...,  0.00333869,\n",
      "         -0.03410938,  0.0038163 ],\n",
      "        [-0.01351573,  0.04585786, -0.0394857 , ...,  0.0146402 ,\n",
      "         -0.02878844, -0.00266696]],\n",
      "\n",
      "       ...,\n",
      "\n",
      "       [[ 0.02224198,  0.03385416, -0.00585095, ...,  0.00025585,\n",
      "         -0.03942351, -0.04864986],\n",
      "        [ 0.04651267, -0.01836141, -0.04482068, ...,  0.00025585,\n",
      "         -0.03942351, -0.04864986],\n",
      "        [-0.01986657,  0.04470991,  0.00876713, ...,  0.00333869,\n",
      "         -0.03410938,  0.0038163 ],\n",
      "        ...,\n",
      "        [-0.02513225,  0.00800576,  0.02260863, ...,  0.00025585,\n",
      "         -0.03942351, -0.04864986],\n",
      "        [ 0.03416694, -0.00661101, -0.02143828, ...,  0.00025585,\n",
      "         -0.03942351, -0.04864986],\n",
      "        [ 0.04255987, -0.04924747, -0.04198638, ...,  0.00025585,\n",
      "         -0.03942351, -0.04864986]],\n",
      "\n",
      "       [[ 0.00674448,  0.01293064, -0.00482976, ...,  0.0146402 ,\n",
      "         -0.02878844, -0.00266696],\n",
      "        [-0.01323112, -0.03150803, -0.03935981, ...,  0.00333869,\n",
      "         -0.03410938,  0.0038163 ],\n",
      "        [-0.00877713,  0.0164575 , -0.02391179, ..., -0.03409653,\n",
      "          0.02124992,  0.00629455],\n",
      "        ...,\n",
      "        [ 0.00839447, -0.0461921 ,  0.03226331, ...,  0.00333869,\n",
      "         -0.03410938,  0.0038163 ],\n",
      "        [-0.01138104, -0.04615476,  0.00495516, ...,  0.00025585,\n",
      "         -0.03942351, -0.04864986],\n",
      "        [ 0.00838708, -0.04406163,  0.04533783, ...,  0.00333869,\n",
      "         -0.03410938,  0.0038163 ]],\n",
      "\n",
      "       [[-0.04653928, -0.01329514, -0.02095922, ...,  0.00333869,\n",
      "         -0.03410938,  0.0038163 ],\n",
      "        [ 0.02039242,  0.02980819,  0.02684388, ...,  0.0146402 ,\n",
      "         -0.02878844, -0.00266696],\n",
      "        [ 0.02770109, -0.04141148, -0.03356028, ...,  0.0146402 ,\n",
      "         -0.02878844, -0.00266696],\n",
      "        ...,\n",
      "        [ 0.02486415,  0.01386524,  0.02525976, ...,  0.0146402 ,\n",
      "         -0.02878844, -0.00266696],\n",
      "        [ 0.04238966,  0.00250169,  0.01086147, ...,  0.00025585,\n",
      "         -0.03942351, -0.04864986],\n",
      "        [-0.00182586, -0.03432816,  0.00491469, ..., -0.03409653,\n",
      "          0.02124992,  0.00629455]]], dtype=float32)>}\n",
      "\n",
      "Rewards after taking an action:  tf.Tensor(\n",
      "[ 5.083055    1.893018   -2.111819   -0.21228258 -2.2392633  -0.39490265\n",
      " -1.8741814  -1.0135204  -0.65729976 -2.0200584  -3.0356464  -2.6017745\n",
      " -3.08703     2.3961585  -1.6271317  -4.224331   -1.5658636  -2.2913105\n",
      " -3.3797383  -1.7338265   2.616976    1.0160584   0.2911742  -5.282868\n",
      " -2.2621398  -1.3005152   2.350364   -3.2659206   0.81505305  2.0961204\n",
      "  2.578646    1.7642423   0.2626222   3.6968951   0.12240891 -0.27924678\n",
      " -0.01255187  1.716289   -0.976472   -0.04623196 -3.283569    0.49218807\n",
      " -0.5548042  -2.492351    0.6930729  -3.8926158   0.9141558  -0.45976046\n",
      " -2.4564288  -3.1946244  -1.47268    -0.3914341  -0.09364907 -1.4050949\n",
      "  1.6998012  -0.43612295 -0.69575995  0.9058646  -0.99373543 -1.7025726\n",
      "  0.580433    1.3034698   0.04612322  0.8223289   2.862332   -2.9030166\n",
      " -1.1671234   3.1656463  -2.2189496   1.8662454  -1.6793973  -0.07068197\n",
      " -0.05442738  2.119085   -3.608122   -0.68185925  3.338094   -2.2258275\n",
      "  0.5993194  -1.2889177  -1.147465    1.1213478  -2.8208523   0.1918585\n",
      " -2.833316   -1.1598558  -1.4844729  -1.6394365   2.529307    0.6278852\n",
      "  1.3549097   0.5053144  -1.6121835  -3.2609382  -0.62481576 -2.4403903\n",
      " -0.6749266   1.3747511  -0.34960282 -1.6471329   0.66106296 -1.189954\n",
      " -4.024065    1.0078379  -0.5194875  -0.9669847  -3.229877   -4.351221\n",
      " -1.9439042  -0.49038061  1.0931331   0.9976617   1.3646008   3.453683\n",
      "  0.2592267  -0.5875817  -2.9538343  -0.43835914  1.680427   -1.6020383\n",
      "  0.8152656   5.3913627   3.3544428  -1.7764465  -0.76450706  1.4993197\n",
      " -1.2202868  -1.1712788 ], shape=(128,), dtype=float32)\n"
     ]
    }
   ],
   "source": [
    "print('observation spec: ', per_arm_tf_env.observation_spec())\n",
    "print('\\nAn observation: ', per_arm_tf_env.reset().observation)\n",
    "\n",
    "action = tf.zeros(BATCH_SIZE, dtype=tf.int32)\n",
    "time_step = per_arm_tf_env.step(action)\n",
    "print('\\nRewards after taking an action: ', time_step.reward)"
   ]
  },
  {
   "cell_type": "code",
   "execution_count": 36,
   "id": "9d0ed802-066b-47b0-bc83-9f378d5c5ce0",
   "metadata": {},
   "outputs": [
    {
     "data": {
      "text/plain": [
       "{'global': TensorSpec(shape=(64,), dtype=tf.float32, name=None),\n",
       " 'per_arm': TensorSpec(shape=(20, 64), dtype=tf.float32, name=None)}"
      ]
     },
     "execution_count": 36,
     "metadata": {},
     "output_type": "execute_result"
    }
   ],
   "source": [
    "observation_spec = per_arm_tf_env.observation_spec()\n",
    "observation_spec"
   ]
  },
  {
   "cell_type": "code",
   "execution_count": 37,
   "id": "759906ff-28e6-47ec-85fa-190b9edc339b",
   "metadata": {},
   "outputs": [
    {
     "data": {
      "text/plain": [
       "TimeStep(\n",
       "{'discount': BoundedTensorSpec(shape=(), dtype=tf.float32, name='discount', minimum=array(0., dtype=float32), maximum=array(1., dtype=float32)),\n",
       " 'observation': {'global': TensorSpec(shape=(64,), dtype=tf.float32, name=None),\n",
       "                 'per_arm': TensorSpec(shape=(20, 64), dtype=tf.float32, name=None)},\n",
       " 'reward': TensorSpec(shape=(), dtype=tf.float32, name='reward'),\n",
       " 'step_type': TensorSpec(shape=(), dtype=tf.int32, name='step_type')})"
      ]
     },
     "execution_count": 37,
     "metadata": {},
     "output_type": "execute_result"
    }
   ],
   "source": [
    "time_step_spec = ts.time_step_spec(observation_spec)\n",
    "time_step_spec"
   ]
  },
  {
   "cell_type": "code",
   "execution_count": 38,
   "id": "f32f3d7d-35af-4a62-8acf-e87ffb7a7ba3",
   "metadata": {},
   "outputs": [
    {
     "data": {
      "text/plain": [
       "BoundedTensorSpec(shape=(), dtype=tf.int32, name=None, minimum=array(0, dtype=int32), maximum=array(19, dtype=int32))"
      ]
     },
     "execution_count": 38,
     "metadata": {},
     "output_type": "execute_result"
    }
   ],
   "source": [
    "action_spec = tensor_spec.BoundedTensorSpec(\n",
    "    dtype=tf.int32, \n",
    "    shape=(), \n",
    "    minimum=0, \n",
    "    maximum=NUM_ACTIONS - 1\n",
    ")\n",
    "action_spec"
   ]
  },
  {
   "cell_type": "markdown",
   "id": "dc8f6d52-32bc-4dec-877a-f78f13572500",
   "metadata": {},
   "source": [
    "## Define Agent Policy"
   ]
  },
  {
   "cell_type": "markdown",
   "id": "78f3527b-d7fb-466a-9fd0-59066e3e6450",
   "metadata": {},
   "source": [
    "### agent config"
   ]
  },
  {
   "cell_type": "code",
   "execution_count": 39,
   "id": "b9d87736-0baf-49e6-a0e4-11451dde2001",
   "metadata": {},
   "outputs": [
    {
     "name": "stdout",
     "output_type": "stream",
     "text": [
      "{'batch_size': 128,\n",
      " 'common_layers': [16, 8],\n",
      " 'epsilon': 0.01,\n",
      " 'eval_batch_size': 1,\n",
      " 'global_layers': [64, 32, 16],\n",
      " 'learning_rate': 0.05,\n",
      " 'model_type': 'LinUCB',\n",
      " 'network_type': 'dotproduct',\n",
      " 'num_actions': 20,\n",
      " 'per_arm_layers': [64, 32, 16]}\n"
     ]
    }
   ],
   "source": [
    "# ================================\n",
    "# Agents\n",
    "# ================================\n",
    "AGENT_TYPE      = 'LinUCB' # 'LinUCB' | 'LinTS |, 'epsGreedy' | 'NeuralLinUCB'\n",
    "\n",
    "# Parameters for linear agents (LinUCB and LinTS).\n",
    "AGENT_ALPHA     = 0.1\n",
    "\n",
    "# Parameters for neural agents (NeuralEpsGreedy and NerualLinUCB).\n",
    "EPSILON         = 0.01\n",
    "LR              = 0.05\n",
    "\n",
    "# Parameters for NeuralLinUCB\n",
    "ENCODING_DIM    = 1\n",
    "EPS_PHASE_STEPS = 1000\n",
    "\n",
    "# ================================\n",
    "# Agent's Preprocess Network\n",
    "# ================================\n",
    "NETWORK_TYPE    = \"dotproduct\" # 'dotproduct' | 'dotproduct'\n",
    "\n",
    "if AGENT_TYPE == 'NeuralLinUCB':\n",
    "    NETWORK_TYPE = 'commontower'\n",
    "    \n",
    "GLOBAL_LAYERS   = [64, 32, 16] # beginning should be of size: GLOBAL_DIM\n",
    "ARM_LAYERS      = [64, 32, 16] # beginning should be of size: PER_ARM_DIM\n",
    "COMMON_LAYERS   = [16, 8]\n",
    "\n",
    "HPARAMS = {  # TODO - streamline and consolidate\n",
    "    \"batch_size\": BATCH_SIZE,\n",
    "    \"eval_batch_size\" : EVAL_BATCH_SIZE,\n",
    "    \"num_actions\": NUM_ACTIONS,\n",
    "    \"model_type\": AGENT_TYPE,\n",
    "    \"network_type\": NETWORK_TYPE,\n",
    "    \"global_layers\": GLOBAL_LAYERS,\n",
    "    \"per_arm_layers\": ARM_LAYERS,\n",
    "    \"common_layers\": COMMON_LAYERS,\n",
    "    \"learning_rate\": LR,\n",
    "    \"epsilon\": EPSILON,\n",
    "}\n",
    "pprint(HPARAMS)"
   ]
  },
  {
   "cell_type": "code",
   "execution_count": 40,
   "id": "cfb5dca4-3ab3-408e-8132-28c5cf7b4c7c",
   "metadata": {},
   "outputs": [
    {
     "name": "stdout",
     "output_type": "stream",
     "text": [
      "agent: linear_ucb_agent\n",
      "Network: dotproduct\n"
     ]
    }
   ],
   "source": [
    "from src.perarm_features import agent_factory as agent_factory\n",
    "\n",
    "global_step = tf.compat.v1.train.get_or_create_global_step()\n",
    "\n",
    "agent = agent_factory.PerArmAgentFactory._get_agent(\n",
    "    agent_type = AGENT_TYPE,\n",
    "    network_type = NETWORK_TYPE,\n",
    "    time_step_spec = time_step_spec,\n",
    "    action_spec = action_spec,\n",
    "    observation_spec=observation_spec,\n",
    "    global_layers = GLOBAL_LAYERS,\n",
    "    arm_layers = ARM_LAYERS,\n",
    "    common_layers = COMMON_LAYERS,\n",
    "    agent_alpha = AGENT_ALPHA,\n",
    "    learning_rate = LR,\n",
    "    epsilon = EPSILON,\n",
    "    train_step_counter = global_step,\n",
    "    output_dim = ENCODING_DIM,\n",
    "    eps_phase_steps = EPS_PHASE_STEPS,\n",
    "    summarize_grads_and_vars = True,\n",
    "    debug_summaries = True\n",
    ")\n",
    "      \n",
    "agent.initialize()\n",
    "print(f'agent: {agent.name}')\n",
    "\n",
    "# if network:\n",
    "#     print(f\"Network: {network}\")\n",
    "\n",
    "if NETWORK_TYPE:\n",
    "    print(f\"Network: {NETWORK_TYPE}\")"
   ]
  },
  {
   "cell_type": "markdown",
   "id": "933622cb-15a0-4e58-8c42-913ad123c8ec",
   "metadata": {},
   "source": [
    "### The Flow of Training Data\n",
    "\n",
    "look at the data specification in the agent. The training_data_spec attribute of the agent specifies what elements and structure the training data should have."
   ]
  },
  {
   "cell_type": "code",
   "execution_count": 41,
   "id": "62348d05-e062-4a38-829c-865e6337a803",
   "metadata": {},
   "outputs": [
    {
     "name": "stdout",
     "output_type": "stream",
     "text": [
      "training data spec:  Trajectory(\n",
      "{'action': BoundedTensorSpec(shape=(), dtype=tf.int32, name=None, minimum=array(0, dtype=int32), maximum=array(19, dtype=int32)),\n",
      " 'discount': BoundedTensorSpec(shape=(), dtype=tf.float32, name='discount', minimum=array(0., dtype=float32), maximum=array(1., dtype=float32)),\n",
      " 'next_step_type': TensorSpec(shape=(), dtype=tf.int32, name='step_type'),\n",
      " 'observation': DictWrapper({'global': TensorSpec(shape=(64,), dtype=tf.float32, name=None)}),\n",
      " 'policy_info': PerArmPolicyInfo(log_probability=(), predicted_rewards_mean=(), multiobjective_scalarized_predicted_rewards_mean=(), predicted_rewards_optimistic=(), predicted_rewards_sampled=(), bandit_policy_type=(), chosen_arm_features=TensorSpec(shape=(64,), dtype=tf.float32, name=None)),\n",
      " 'reward': TensorSpec(shape=(), dtype=tf.float32, name='reward'),\n",
      " 'step_type': TensorSpec(shape=(), dtype=tf.int32, name='step_type')})\n"
     ]
    }
   ],
   "source": [
    "print('training data spec: ', agent.training_data_spec)"
   ]
  },
  {
   "cell_type": "code",
   "execution_count": 42,
   "id": "f6249236-350a-4491-9ea7-ec7bd0223de5",
   "metadata": {},
   "outputs": [],
   "source": [
    "def _all_rewards(observation, hidden_param):\n",
    "    \"\"\"Outputs rewards for all actions, given an observation.\"\"\"\n",
    "    hidden_param = tf.cast(hidden_param, dtype=tf.float32)\n",
    "    global_obs = observation[bandit_spec_utils.GLOBAL_FEATURE_KEY]\n",
    "    per_arm_obs = observation[bandit_spec_utils.PER_ARM_FEATURE_KEY]\n",
    "    num_actions = tf.shape(per_arm_obs)[1]\n",
    "    tiled_global = tf.tile(\n",
    "        tf.expand_dims(global_obs, axis=1), [1, num_actions, 1]\n",
    "    )\n",
    "    concatenated = tf.concat([tiled_global, per_arm_obs], axis=-1)\n",
    "    rewards = tf.linalg.matvec(concatenated, hidden_param)\n",
    "    return rewards\n",
    "\n",
    "def optimal_reward(observation):\n",
    "    \"\"\"\n",
    "    Outputs the maximum expected reward \n",
    "    for every element in the batch.\n",
    "    \"\"\"\n",
    "    return tf.reduce_max(_all_rewards(observation, HIDDEN_PARAM), axis=1)\n",
    "\n",
    "regret_metric = tf_bandit_metrics.RegretMetric(optimal_reward)"
   ]
  },
  {
   "cell_type": "code",
   "execution_count": 43,
   "id": "4f8ba3a2-5d8c-4ca6-869f-b1948243f01c",
   "metadata": {},
   "outputs": [],
   "source": [
    "def optimal_action(observation, hidden_param):\n",
    "    \n",
    "    return tf.argmax(\n",
    "        _all_rewards(observation, hidden_param), axis=1, output_type=tf.int32\n",
    "    )\n",
    "\n",
    "optimal_action_fn = functools.partial(\n",
    "    optimal_action, hidden_param=HIDDEN_PARAM\n",
    ")\n",
    "\n",
    "suboptimal_arms_metric = tf_bandit_metrics.SuboptimalArmsMetric(\n",
    "    optimal_action_fn\n",
    ")"
   ]
  },
  {
   "cell_type": "markdown",
   "id": "fce465bb-2d59-4957-9dff-2b9714509dea",
   "metadata": {},
   "source": [
    "# Training"
   ]
  },
  {
   "cell_type": "markdown",
   "id": "d088841a-cda5-4e1a-afcc-0747f3079ffc",
   "metadata": {
    "tags": []
   },
   "source": [
    "## Simple train"
   ]
  },
  {
   "cell_type": "code",
   "execution_count": null,
   "id": "ba977e88-839e-49ba-9c82-0f56b2ab8698",
   "metadata": {},
   "outputs": [],
   "source": [
    "num_iterations = 100\n",
    "steps_per_loop = 1\n",
    "LOG_INTERVAL = num_iterations / 10\n",
    "\n",
    "print(f'LOG_INTERVAL: {LOG_INTERVAL}')"
   ]
  },
  {
   "cell_type": "code",
   "execution_count": 44,
   "id": "1d5cc2e8-d5e0-4b8f-9e94-a7f298ce64d0",
   "metadata": {},
   "outputs": [],
   "source": [
    "replay_buffer = tf_uniform_replay_buffer.TFUniformReplayBuffer(\n",
    "    data_spec=agent.policy.trajectory_spec,\n",
    "    batch_size=BATCH_SIZE,\n",
    "    max_length=steps_per_loop\n",
    ")\n",
    "\n",
    "observers = [replay_buffer.add_batch, regret_metric]\n",
    "\n",
    "driver = dynamic_step_driver.DynamicStepDriver(\n",
    "    env=per_arm_tf_env,\n",
    "    policy=agent.collect_policy,\n",
    "    num_steps=steps_per_loop * BATCH_SIZE,\n",
    "    observers=observers\n",
    ")\n",
    "\n",
    "regret_values = []\n",
    "\n",
    "print(f\"starting train loop...\")\n",
    "start_time = time.time()\n",
    "\n",
    "for i in range(num_iterations):\n",
    "    driver.run()\n",
    "    loss_info = agent.train(replay_buffer.gather_all())\n",
    "    replay_buffer.clear()\n",
    "    regret_values.append(regret_metric.result())\n",
    "    \n",
    "    # print step loss\n",
    "    if i % LOG_INTERVAL == 0:\n",
    "        print(\n",
    "            'iteration = {0}: step = {1}; regret = {2}'.format(\n",
    "                i, global_step.numpy(), round((regret_metric.result().numpy()), 2)\n",
    "            )\n",
    "        )\n",
    "        \n",
    "runtime_mins = int((time.time() - start_time) / 60)\n",
    "print(f\"train runtime_mins: {runtime_mins}\")"
   ]
  },
  {
   "cell_type": "code",
   "execution_count": 64,
   "id": "adada5fc-40d1-48c8-bc3c-3949b7f07ff5",
   "metadata": {},
   "outputs": [
    {
     "data": {
      "text/plain": [
       "38400"
      ]
     },
     "execution_count": 64,
     "metadata": {},
     "output_type": "execute_result"
    }
   ],
   "source": [
    "global_step.numpy()"
   ]
  },
  {
   "cell_type": "code",
   "execution_count": 45,
   "id": "d2916477-6c25-4a2b-9758-8589b20d8ddb",
   "metadata": {},
   "outputs": [
    {
     "data": {
      "image/png": "[encoded data removed]",
      "text/plain": [
       "<Figure size 640x480 with 1 Axes>"
      ]
     },
     "metadata": {},
     "output_type": "display_data"
    }
   ],
   "source": [
    "plt.plot(regret_values)\n",
    "plt.title('Regret of LinUCB on the Linear per-arm environment')\n",
    "plt.xlabel('Number of Iterations')\n",
    "_ = plt.ylabel('Average Regret')"
   ]
  },
  {
   "cell_type": "markdown",
   "id": "b1202a96-b952-426c-b5ee-58712f2bcaa9",
   "metadata": {},
   "source": [
    "## Trainer loop"
   ]
  },
  {
   "cell_type": "markdown",
   "id": "12606879-6d47-4830-979f-f0fe4ea5775e",
   "metadata": {},
   "source": [
    "#### Vertex AI Experiments"
   ]
  },
  {
   "cell_type": "code",
   "execution_count": 46,
   "id": "eca97969-c446-4056-9f2c-79d412f38750",
   "metadata": {},
   "outputs": [
    {
     "name": "stdout",
     "output_type": "stream",
     "text": [
      "EXPERIMENT_NAME   : perarm-linear-env-rec-bandits-v2\n",
      "RUN_NAME          : run-20231101-131544\n",
      "\n",
      "BASE_OUTPUT_DIR   : gs://rec-bandits-v2-hybrid-vertex-bucket/perarm-linear-env-rec-bandits-v2/run-20231101-131544\n",
      "LOG_DIR           : gs://rec-bandits-v2-hybrid-vertex-bucket/perarm-linear-env-rec-bandits-v2/run-20231101-131544/logs\n",
      "ROOT_DIR          : gs://rec-bandits-v2-hybrid-vertex-bucket/perarm-linear-env-rec-bandits-v2/run-20231101-131544/root\n",
      "ARTIFACTS_DIR     : gs://rec-bandits-v2-hybrid-vertex-bucket/perarm-linear-env-rec-bandits-v2/run-20231101-131544/artifacts\n"
     ]
    }
   ],
   "source": [
    "EXPERIMENT_NAME   = f'perarm-linear-env-{PREFIX}'\n",
    "\n",
    "# new experiment\n",
    "invoke_time       = time.strftime(\"%Y%m%d-%H%M%S\")\n",
    "RUN_NAME          = f'run-{invoke_time}'\n",
    "\n",
    "BASE_OUTPUT_DIR   = f'{BUCKET_URI}/{EXPERIMENT_NAME}/{RUN_NAME}'\n",
    "LOG_DIR           = f\"{BASE_OUTPUT_DIR}/logs\"\n",
    "ROOT_DIR          = f\"{BASE_OUTPUT_DIR}/root\"       # Root directory for writing logs/summaries/checkpoints.\n",
    "ARTIFACTS_DIR     = f\"{BASE_OUTPUT_DIR}/artifacts\"  # Where the trained model will be saved and restored.\n",
    "\n",
    "aiplatform.init(\n",
    "    project=PROJECT_ID,\n",
    "    location=REGION,\n",
    "    experiment=EXPERIMENT_NAME\n",
    ")\n",
    "\n",
    "print(f\"EXPERIMENT_NAME   : {EXPERIMENT_NAME}\")\n",
    "print(f\"RUN_NAME          : {RUN_NAME}\\n\")\n",
    "print(f\"BASE_OUTPUT_DIR   : {BASE_OUTPUT_DIR}\")\n",
    "print(f\"LOG_DIR           : {LOG_DIR}\")\n",
    "print(f\"ROOT_DIR          : {ROOT_DIR}\")\n",
    "print(f\"ARTIFACTS_DIR     : {ARTIFACTS_DIR}\")"
   ]
  },
  {
   "cell_type": "markdown",
   "id": "a886a703-1e2b-47c3-a8a4-3d60e069cdc7",
   "metadata": {},
   "source": [
    "#### Define helper functions"
   ]
  },
  {
   "cell_type": "code",
   "execution_count": 47,
   "id": "7dd75286-969b-4cd3-8e7d-98b6db6bb5b1",
   "metadata": {},
   "outputs": [],
   "source": [
    "from tf_agents.bandits.replay_buffers import bandit_replay_buffer\n",
    "from tf_agents.drivers import dynamic_step_driver\n",
    "from tf_agents.eval import metric_utils\n",
    "# from tf_agents.google.metrics import export_utils\n",
    "from tf_agents.metrics import export_utils\n",
    "from tf_agents.metrics import tf_metrics\n",
    "from tf_agents.policies import policy_saver"
   ]
  },
  {
   "cell_type": "code",
   "execution_count": 48,
   "id": "181282bd-87c8-45cd-8cb5-5ccb5ece114f",
   "metadata": {},
   "outputs": [],
   "source": [
    "def _get_replay_buffer(\n",
    "    data_spec, batch_size, steps_per_loop, async_steps_per_loop\n",
    "):\n",
    "    \"\"\"Return a `TFUniformReplayBuffer` for the given `agent`.\"\"\"\n",
    "    return bandit_replay_buffer.BanditReplayBuffer(\n",
    "        data_spec=data_spec,\n",
    "        batch_size=batch_size,\n",
    "        max_length=steps_per_loop * async_steps_per_loop,\n",
    "    )\n",
    "\n",
    "\n",
    "def set_expected_shape(experience, num_steps):\n",
    "    \"\"\"Sets expected shape.\"\"\"\n",
    "\n",
    "    def set_time_dim(input_tensor, steps):\n",
    "        tensor_shape = input_tensor.shape.as_list()\n",
    "        if len(tensor_shape) < 2:\n",
    "            raise ValueError(\n",
    "                'input_tensor is expected to be of rank-2, but found otherwise: '\n",
    "                f'input_tensor={input_tensor}, tensor_shape={tensor_shape}'\n",
    "            )\n",
    "        tensor_shape[1] = steps\n",
    "        input_tensor.set_shape(tensor_shape)\n",
    "\n",
    "    tf.nest.map_structure(lambda t: set_time_dim(t, num_steps), experience)"
   ]
  },
  {
   "cell_type": "code",
   "execution_count": 49,
   "id": "d7bbbbbe-15d1-4107-a426-0a229da43348",
   "metadata": {},
   "outputs": [],
   "source": [
    "def _get_training_loop(\n",
    "    driver, replay_buffer, agent, steps, async_steps_per_loop\n",
    "):\n",
    "    \"\"\"Returns a `tf.function` that runs the driver and training loops.\n",
    "\n",
    "    Args:\n",
    "    driver: an instance of `Driver`.\n",
    "    replay_buffer: an instance of `ReplayBuffer`.\n",
    "    agent: an instance of `TFAgent`.\n",
    "    steps: an integer indicating how many driver steps should be executed and\n",
    "      presented to the trainer during each training loop.\n",
    "    async_steps_per_loop: an integer. In each training loop, the driver runs\n",
    "      this many times, and then the agent gets asynchronously trained over this\n",
    "      many batches sampled from the replay buffer.\n",
    "    \"\"\"\n",
    "\n",
    "    def _export_metrics_and_summaries(step, metrics):\n",
    "        \"\"\"Exports metrics and tf summaries.\"\"\"\n",
    "        metric_utils.log_metrics(metrics)\n",
    "        export_utils.export_metrics(step=step, metrics=metrics)\n",
    "        for metric in metrics:\n",
    "            metric.tf_summaries(train_step=step)\n",
    "\n",
    "    def training_loop(train_step, metrics):\n",
    "        \"\"\"Returns a function that runs a single training loop and logs metrics.\"\"\"\n",
    "        for batch_id in range(async_steps_per_loop):\n",
    "            driver.run()\n",
    "            _export_metrics_and_summaries(\n",
    "                step=train_step * async_steps_per_loop + batch_id, metrics=metrics\n",
    "            )\n",
    "        batch_size = driver.env.batch_size\n",
    "        dataset_it = iter(\n",
    "            replay_buffer.as_dataset(\n",
    "                sample_batch_size=batch_size,\n",
    "                num_steps=steps,\n",
    "                single_deterministic_pass=True,\n",
    "            )\n",
    "        )\n",
    "        for batch_id in range(async_steps_per_loop):\n",
    "            experience, unused_buffer_info = dataset_it.get_next()\n",
    "            set_expected_shape(experience, steps)\n",
    "            loss_info = agent.train(experience)\n",
    "            export_utils.export_metrics(\n",
    "                step=train_step * async_steps_per_loop + batch_id,\n",
    "                metrics=[],\n",
    "                loss_info=loss_info,\n",
    "            )\n",
    "            if train_step % 10 == 0:\n",
    "                print(\n",
    "                    f'step = {train_step}: train loss = {round(loss_info.loss.numpy(), 2)}'\n",
    "                )\n",
    "\n",
    "        replay_buffer.clear()\n",
    "\n",
    "    return training_loop"
   ]
  },
  {
   "cell_type": "code",
   "execution_count": 50,
   "id": "455d916b-2c60-45d6-8bdc-fdd4e73925f7",
   "metadata": {},
   "outputs": [],
   "source": [
    "AGENT_CHECKPOINT_NAME = 'agent'\n",
    "STEP_CHECKPOINT_NAME = 'step'\n",
    "CHECKPOINT_FILE_PREFIX = 'ckpt'\n",
    "\n",
    "def restore_and_get_checkpoint_manager(root_dir, agent, metrics, step_metric):\n",
    "    \"\"\"Restores from `root_dir` and returns a function that writes checkpoints.\"\"\"\n",
    "    trackable_objects = {metric.name: metric for metric in metrics}\n",
    "    trackable_objects[AGENT_CHECKPOINT_NAME] = agent\n",
    "    trackable_objects[STEP_CHECKPOINT_NAME] = step_metric\n",
    "    checkpoint = tf.train.Checkpoint(**trackable_objects)\n",
    "    checkpoint_manager = tf.train.CheckpointManager(\n",
    "        checkpoint=checkpoint, directory=root_dir, max_to_keep=5\n",
    "    )\n",
    "    latest = checkpoint_manager.latest_checkpoint\n",
    "    if latest is not None:\n",
    "        logging.info('Restoring checkpoint from %s.', latest)\n",
    "        checkpoint.restore(latest)\n",
    "        logging.info('Successfully restored to step %s.', step_metric.result())\n",
    "    else:\n",
    "        logging.info(\n",
    "            'Did not find a pre-existing checkpoint. Starting from scratch.'\n",
    "        )\n",
    "    return checkpoint_manager"
   ]
  },
  {
   "cell_type": "code",
   "execution_count": 51,
   "id": "f5d8e378-c0ef-4a85-b92c-ea64201b1897",
   "metadata": {},
   "outputs": [],
   "source": [
    "def train(\n",
    "    # root_dir,\n",
    "    artifact_dir,\n",
    "    log_dir,\n",
    "    agent,\n",
    "    environment,\n",
    "    training_loops,\n",
    "    steps_per_loop,\n",
    "    async_steps_per_loop=None,\n",
    "    additional_metrics=(),\n",
    "    get_replay_buffer_fn=None,\n",
    "    get_training_loop_fn=None,\n",
    "    training_data_spec_transformation_fn=None,\n",
    "    save_policy=True,\n",
    "    resume_training_loops=True,\n",
    "):\n",
    "    \"\"\"Perform `training_loops` iterations of training.\n",
    "\n",
    "    Checkpoint results.\n",
    "\n",
    "    If one or more baseline_reward_fns are provided, the regret is computed\n",
    "    against each one of them. Here is example baseline_reward_fn:\n",
    "\n",
    "    def baseline_reward_fn(observation, per_action_reward_fns):\n",
    "    rewards = ... # compute reward for each arm\n",
    "    optimal_action_reward = ... # take the maximum reward\n",
    "    return optimal_action_reward\n",
    "    \"\"\"\n",
    "\n",
    "    # TODO(b/127641485): create evaluation loop with configurable metrics.\n",
    "    if training_data_spec_transformation_fn is None:\n",
    "        data_spec = agent.policy.trajectory_spec\n",
    "    else:\n",
    "        data_spec = training_data_spec_transformation_fn(\n",
    "            agent.policy.trajectory_spec\n",
    "        )\n",
    "    if async_steps_per_loop is None:\n",
    "        async_steps_per_loop = 1\n",
    "    if get_replay_buffer_fn is None:\n",
    "        get_replay_buffer_fn = _get_replay_buffer\n",
    "    replay_buffer = get_replay_buffer_fn(\n",
    "        data_spec, environment.batch_size, steps_per_loop, async_steps_per_loop\n",
    "    )\n",
    "\n",
    "    # `step_metric` records the number of individual rounds of bandit interaction;\n",
    "    # that is, (number of trajectories) * batch_size.\n",
    "    step_metric = tf_metrics.EnvironmentSteps()\n",
    "    metrics = [\n",
    "        tf_metrics.NumberOfEpisodes(),\n",
    "        tf_metrics.AverageEpisodeLengthMetric(batch_size=environment.batch_size),\n",
    "    ] + list(additional_metrics)\n",
    "\n",
    "    # If the reward anything else than a single scalar, we're adding multimetric\n",
    "    # average reward.\n",
    "    if isinstance(\n",
    "        environment.reward_spec(), dict\n",
    "    ) or environment.reward_spec().shape != tf.TensorShape(()):\n",
    "        metrics += [\n",
    "            tf_metrics.AverageReturnMultiMetric(\n",
    "                reward_spec=environment.reward_spec(),\n",
    "                batch_size=environment.batch_size,\n",
    "            )\n",
    "        ]\n",
    "    if not isinstance(environment.reward_spec(), dict):\n",
    "        metrics += [\n",
    "            tf_metrics.AverageReturnMetric(batch_size=environment.batch_size)\n",
    "        ]\n",
    "\n",
    "    if training_data_spec_transformation_fn is not None:\n",
    "        add_batch_fn = lambda data: replay_buffer.add_batch(  # pylint: disable=g-long-lambda\n",
    "        training_data_spec_transformation_fn(data)\n",
    "    )\n",
    "    else:\n",
    "        add_batch_fn = replay_buffer.add_batch\n",
    "\n",
    "    observers = [add_batch_fn, step_metric] + metrics\n",
    "\n",
    "    driver = dynamic_step_driver.DynamicStepDriver(\n",
    "        env=environment,\n",
    "        policy=agent.collect_policy,\n",
    "        num_steps=steps_per_loop * environment.batch_size,\n",
    "        observers=observers,\n",
    "    )\n",
    "\n",
    "    if get_training_loop_fn is None:\n",
    "        get_training_loop_fn = _get_training_loop\n",
    "    training_loop = get_training_loop_fn(\n",
    "        driver, replay_buffer, agent, steps_per_loop, async_steps_per_loop\n",
    "    )\n",
    "    checkpoint_manager = restore_and_get_checkpoint_manager(\n",
    "        artifact_dir, agent, metrics, step_metric\n",
    "    )\n",
    "    train_step_counter = tf.compat.v1.train.get_or_create_global_step()\n",
    "    if save_policy:\n",
    "        saver = policy_saver.PolicySaver(\n",
    "            agent.policy, train_step=train_step_counter\n",
    "        )\n",
    "\n",
    "    summary_writer = tf.summary.create_file_writer(log_dir)\n",
    "    summary_writer.set_as_default()\n",
    "\n",
    "    if resume_training_loops:\n",
    "        train_step_count_per_loop = (\n",
    "            steps_per_loop * environment.batch_size * async_steps_per_loop\n",
    "        )\n",
    "        last_checkpointed_step = step_metric.result().numpy()\n",
    "        if last_checkpointed_step % train_step_count_per_loop != 0:\n",
    "            raise ValueError(\n",
    "                'Last checkpointed step is expected to be a multiple of '\n",
    "                'steps_per_loop * batch_size * async_steps_per_loop, but found '\n",
    "                f'otherwise: last checkpointed step: {last_checkpointed_step}, '\n",
    "                f'steps_per_loop: {steps_per_loop}, batch_size: '\n",
    "                f'{environment.batch_size}, async_steps_per_loop: '\n",
    "                f'{async_steps_per_loop}'\n",
    "            )\n",
    "        starting_loop = last_checkpointed_step // train_step_count_per_loop\n",
    "    else:\n",
    "        starting_loop = 0\n",
    "\n",
    "    for i in range(starting_loop, training_loops):\n",
    "        training_loop(train_step=i, metrics=metrics)\n",
    "        checkpoint_manager.save()\n",
    "        if save_policy & (i % 100 == 0):\n",
    "            saver.save(os.path.join(artifact_dir, 'policy_%d' % step_metric.result()))"
   ]
  },
  {
   "cell_type": "code",
   "execution_count": 52,
   "id": "371043b3-e5cc-4615-ae80-66ec10bf761c",
   "metadata": {},
   "outputs": [],
   "source": [
    "TRAINING_LOOPS = 100\n",
    "STEPS_PER_LOOP = 2"
   ]
  },
  {
   "cell_type": "code",
   "execution_count": null,
   "id": "f53b2b59-8551-444f-b93f-c7756071ff6f",
   "metadata": {},
   "outputs": [
    {
     "name": "stdout",
     "output_type": "stream",
     "text": [
      "starting train loop...\n",
      "step = 0: train loss = 1.2799999713897705\n",
      "step = 10: train loss = 1.0099999904632568\n"
     ]
    }
   ],
   "source": [
    "print(f\"starting train loop...\")\n",
    "start_time = time.time()\n",
    "\n",
    "train(\n",
    "    # root_dir=BASE_OUTPUT_DIR,\n",
    "      artifact_dir=ARTIFACTS_DIR,\n",
    "      log_dir=LOG_DIR,\n",
    "      agent=agent,\n",
    "      environment=per_arm_tf_env,\n",
    "      training_loops=TRAINING_LOOPS,\n",
    "      steps_per_loop=STEPS_PER_LOOP,\n",
    "      additional_metrics=[regret_metric, suboptimal_arms_metric],\n",
    "      training_data_spec_transformation_fn=None,\n",
    ")\n",
    "\n",
    "runtime_mins = int((time.time() - start_time) / 60)\n",
    "print(f\"train runtime_mins: {runtime_mins}\")"
   ]
  },
  {
   "cell_type": "markdown",
   "id": "dad02eb5-8b49-4519-938a-511f83b1c532",
   "metadata": {},
   "source": [
    "### evlauate training job"
   ]
  },
  {
   "cell_type": "code",
   "execution_count": 65,
   "id": "8885594c-3729-4a92-b9f1-4d1c9ae6433d",
   "metadata": {},
   "outputs": [],
   "source": [
    "# %load_ext tensorboard\n",
    "%reload_ext tensorboard"
   ]
  },
  {
   "cell_type": "code",
   "execution_count": 66,
   "id": "0e2177cc-95ca-40cf-bca7-bd2140323647",
   "metadata": {},
   "outputs": [
    {
     "data": {
      "text/html": [
       "\n",
       "      <iframe id=\"tensorboard-frame-46d95b6ec4c6b2f1\" width=\"100%\" height=\"800\" frameborder=\"0\">\n",
       "      </iframe>\n",
       "      <script>\n",
       "        (function() {\n",
       "          const frame = document.getElementById(\"tensorboard-frame-46d95b6ec4c6b2f1\");\n",
       "          const url = new URL(\"/proxy/6006/\", window.location);\n",
       "          const port = 0;\n",
       "          if (port) {\n",
       "            url.port = port;\n",
       "          }\n",
       "          frame.src = url;\n",
       "        })();\n",
       "      </script>\n",
       "    "
      ],
      "text/plain": [
       "<IPython.core.display.HTML object>"
      ]
     },
     "metadata": {},
     "output_type": "display_data"
    }
   ],
   "source": [
    "%tensorboard --logdir=$LOG_DIR "
   ]
  },
  {
   "cell_type": "markdown",
   "id": "74fc2ab7-c1ce-4254-881d-21fc0e2bd6ad",
   "metadata": {},
   "source": [
    "**Finished**"
   ]
  }
 ],
 "metadata": {
  "environment": {
   "kernel": "python3",
   "name": "tf2-gpu.2-13.m112",
   "type": "gcloud",
   "uri": "gcr.io/deeplearning-platform-release/tf2-gpu.2-13:m112"
  },
  "kernelspec": {
   "display_name": "Python 3",
   "language": "python",
   "name": "python3"
  },
  "language_info": {
   "codemirror_mode": {
    "name": "ipython",
    "version": 3
   },
   "file_extension": ".py",
   "mimetype": "text/x-python",
   "name": "python",
   "nbconvert_exporter": "python",
   "pygments_lexer": "ipython3",
   "version": "3.10.12"
  }
 },
 "nbformat": 4,
 "nbformat_minor": 5
}
