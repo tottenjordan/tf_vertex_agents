{
 "cells": [
  {
   "cell_type": "markdown",
   "id": "64583cdb-2502-4f40-a254-8fa68abe7a32",
   "metadata": {},
   "source": [
    "# Build custom container for Vertex training"
   ]
  },
  {
   "cell_type": "code",
   "execution_count": 1,
   "id": "4e1beb37-0c48-4110-8ca0-24ab78c72b39",
   "metadata": {},
   "outputs": [
    {
     "name": "stdout",
     "output_type": "stream",
     "text": [
      "/home/jupyter/tf_vertex_agents/02-perarm-features-bandit\n"
     ]
    }
   ],
   "source": [
    "!pwd"
   ]
  },
  {
   "cell_type": "markdown",
   "id": "66298299-d4ad-460e-8ab3-ea9fbc012086",
   "metadata": {},
   "source": [
    "## Load env config\n",
    "\n",
    "* use the prefix from `00-env-setup`"
   ]
  },
  {
   "cell_type": "code",
   "execution_count": 2,
   "id": "f1d2542f-d87b-436d-b4bb-08edcbb532ee",
   "metadata": {},
   "outputs": [],
   "source": [
    "PREFIX = 'mabv1'"
   ]
  },
  {
   "cell_type": "code",
   "execution_count": 3,
   "id": "35449112-3c26-4ea9-8c3a-21c283951350",
   "metadata": {},
   "outputs": [
    {
     "name": "stdout",
     "output_type": "stream",
     "text": [
      "\n",
      "PROJECT_ID               = \"hybrid-vertex\"\n",
      "PROJECT_NUM              = \"934903580331\"\n",
      "LOCATION                 = \"us-central1\"\n",
      "\n",
      "REGION                   = \"us-central1\"\n",
      "BQ_LOCATION              = \"US\"\n",
      "VPC_NETWORK_NAME         = \"ucaip-haystack-vpc-network\"\n",
      "\n",
      "VERTEX_SA                = \"934903580331-compute@developer.gserviceaccount.com\"\n",
      "\n",
      "PREFIX                   = \"mabv1\"\n",
      "VERSION                  = \"v1\"\n",
      "\n",
      "BUCKET_NAME              = \"mabv1-hybrid-vertex-bucket\"\n",
      "BUCKET_URI               = \"gs://mabv1-hybrid-vertex-bucket\"\n",
      "DATA_GCS_PREFIX          = \"data\"\n",
      "DATA_PATH                = \"gs://mabv1-hybrid-vertex-bucket/data\"\n",
      "VOCAB_SUBDIR             = \"vocabs\"\n",
      "VOCAB_FILENAME           = \"vocab_dict.pkl\"\n",
      "\n",
      "VPC_NETWORK_FULL         = \"projects/934903580331/global/networks/ucaip-haystack-vpc-network\"\n",
      "\n",
      "BIGQUERY_DATASET_ID      = \"hybrid-vertex.movielens_dataset_mabv1\"\n",
      "BIGQUERY_TABLE_ID        = \"hybrid-vertex.movielens_dataset_mabv1.training_dataset\"\n",
      "\n",
      "REPO_DOCKER_PATH_PREFIX  = \"src\"\n",
      "RL_SUB_DIR               = \"per_arm_rl\"\n",
      "\n",
      "REPOSITORY               = \"rl-movielens-mabv1\"\n",
      "IMAGE_NAME               = \"train-perarm-feats-v1\"\n",
      "REMOTE_IMAGE_NAME        = \"us-central1-docker.pkg.dev/hybrid-vertex/rl-movielens-mabv1/train-perarm-feats-v1\"\n",
      "DOCKERNAME               = \"Dockerfile_perarm_feats\"\n",
      "\n"
     ]
    }
   ],
   "source": [
    "# staging GCS\n",
    "GCP_PROJECTS             = !gcloud config get-value project\n",
    "PROJECT_ID               = GCP_PROJECTS[0]\n",
    "\n",
    "# GCS bucket and paths\n",
    "BUCKET_NAME              = f'{PREFIX}-{PROJECT_ID}-bucket'\n",
    "BUCKET_URI               = f'gs://{BUCKET_NAME}'\n",
    "\n",
    "config = !gsutil cat {BUCKET_URI}/config/notebook_env.py\n",
    "print(config.n)\n",
    "exec(config.n)"
   ]
  },
  {
   "cell_type": "code",
   "execution_count": 4,
   "id": "8b16af06-e188-4f4e-a04b-4e0eb8873ca1",
   "metadata": {},
   "outputs": [
    {
     "name": "stdout",
     "output_type": "stream",
     "text": [
      "gs://mabv1-hybrid-vertex-bucket/acc-paf-v2/\n",
      "gs://mabv1-hybrid-vertex-bucket/aiplatform-custom-training-2023-07-13-22:02:47.458/\n",
      "gs://mabv1-hybrid-vertex-bucket/aiplatform-custom-training-2023-07-14-12:09:06.643/\n",
      "gs://mabv1-hybrid-vertex-bucket/aiplatform-custom-training-2023-07-14-12:46:07.509/\n",
      "gs://mabv1-hybrid-vertex-bucket/aiplatform-custom-training-2023-07-14-13:48:08.938/\n",
      "gs://mabv1-hybrid-vertex-bucket/aiplatform-custom-training-2023-07-17-18:35:00.675/\n",
      "gs://mabv1-hybrid-vertex-bucket/aiplatform-custom-training-2023-07-17-18:50:42.146/\n",
      "gs://mabv1-hybrid-vertex-bucket/archived/\n",
      "gs://mabv1-hybrid-vertex-bucket/banditos-2/\n",
      "gs://mabv1-hybrid-vertex-bucket/baseline-bandit-v1/\n",
      "gs://mabv1-hybrid-vertex-bucket/config/\n",
      "gs://mabv1-hybrid-vertex-bucket/custom-neural-bandits-a100/\n",
      "gs://mabv1-hybrid-vertex-bucket/custom-neural-bandits-v1/\n",
      "gs://mabv1-hybrid-vertex-bucket/data/\n",
      "gs://mabv1-hybrid-vertex-bucket/linear-bandit-v1/\n",
      "gs://mabv1-hybrid-vertex-bucket/mab-local-classy-v1/\n",
      "gs://mabv1-hybrid-vertex-bucket/mab-local-v4/\n",
      "gs://mabv1-hybrid-vertex-bucket/mab-local-v5/\n",
      "gs://mabv1-hybrid-vertex-bucket/mab-local-v6/\n",
      "gs://mabv1-hybrid-vertex-bucket/mab-v1/\n",
      "gs://mabv1-hybrid-vertex-bucket/mab-v2/\n",
      "gs://mabv1-hybrid-vertex-bucket/mab-v3/\n",
      "gs://mabv1-hybrid-vertex-bucket/neural-bandit-v2/\n",
      "gs://mabv1-hybrid-vertex-bucket/neural-linear-bandits-v1/\n",
      "gs://mabv1-hybrid-vertex-bucket/perarm-local-test/\n",
      "gs://mabv1-hybrid-vertex-bucket/scale-mod-v1/\n",
      "gs://mabv1-hybrid-vertex-bucket/scale-paf-bandits-v1/\n",
      "gs://mabv1-hybrid-vertex-bucket/scale-paf-bandits-v2/\n",
      "gs://mabv1-hybrid-vertex-bucket/scale-paf-v1/\n",
      "gs://mabv1-hybrid-vertex-bucket/scale-paf-v2/\n",
      "gs://mabv1-hybrid-vertex-bucket/scale-perarm-hpt-v2/\n",
      "gs://mabv1-hybrid-vertex-bucket/scale-perarm-hpt-v3/\n",
      "gs://mabv1-hybrid-vertex-bucket/scale-perarm-hpt/\n",
      "gs://mabv1-hybrid-vertex-bucket/vocabs/\n"
     ]
    }
   ],
   "source": [
    "! gsutil ls $BUCKET_URI"
   ]
  },
  {
   "cell_type": "markdown",
   "id": "be79c652-45c8-4b5f-b410-4908829375a3",
   "metadata": {},
   "source": [
    "## imports"
   ]
  },
  {
   "cell_type": "code",
   "execution_count": 5,
   "id": "92272ed8-bfb5-4b40-b7f4-cdbe029f3bf6",
   "metadata": {},
   "outputs": [],
   "source": [
    "import os\n",
    "os.environ['TF_CPP_MIN_LOG_LEVEL'] = '2'"
   ]
  },
  {
   "cell_type": "markdown",
   "id": "261a452d-8ce7-427b-8091-d7d41c57e556",
   "metadata": {},
   "source": [
    "# Build Image"
   ]
  },
  {
   "cell_type": "markdown",
   "id": "5b9bdef1-ac23-49be-96fd-25795f483643",
   "metadata": {},
   "source": [
    "## Container Image Variables"
   ]
  },
  {
   "cell_type": "code",
   "execution_count": 6,
   "id": "eedbe408-e2fe-4944-912f-f2b1f6587440",
   "metadata": {},
   "outputs": [
    {
     "name": "stdout",
     "output_type": "stream",
     "text": [
      "DOCKERNAME        = Dockerfile_perarm_feats\n",
      "REPOSITORY        = rl-movielens-mabv1\n",
      "IMAGE_NAME        = train-perarm-feats-v1\n",
      "REMOTE_IMAGE_NAME = us-central1-docker.pkg.dev/hybrid-vertex/rl-movielens-mabv1/train-perarm-feats-v1\n"
     ]
    }
   ],
   "source": [
    "print(f\"DOCKERNAME        = {DOCKERNAME}\")\n",
    "print(f\"REPOSITORY        = {REPOSITORY}\")\n",
    "print(f\"IMAGE_NAME        = {IMAGE_NAME}\")\n",
    "print(f\"REMOTE_IMAGE_NAME = {REMOTE_IMAGE_NAME}\")"
   ]
  },
  {
   "cell_type": "markdown",
   "id": "bf953a8e-d282-4d7b-9a7d-fd0bee28c70a",
   "metadata": {},
   "source": [
    "## Create Artifact Repository\n",
    "\n",
    "If you don't have an existing artifact repository, create one using the gcloud command below"
   ]
  },
  {
   "cell_type": "code",
   "execution_count": 7,
   "id": "f8288932-054a-46e6-90e8-326e015f2115",
   "metadata": {},
   "outputs": [],
   "source": [
    "# ! gcloud artifacts repositories create $REPOSITORY --repository-format=docker --location=$LOCATION"
   ]
  },
  {
   "cell_type": "markdown",
   "id": "8411ff1c-cbf7-437c-ba54-b223ad3693c6",
   "metadata": {},
   "source": [
    "## Local Docker build\n",
    "\n",
    "Provide a name for your dockerfile and make sure you are authenticated"
   ]
  },
  {
   "cell_type": "code",
   "execution_count": 8,
   "id": "e2ddd661-18a9-4ed9-85d0-716b0c094026",
   "metadata": {},
   "outputs": [
    {
     "name": "stdout",
     "output_type": "stream",
     "text": [
      "\u001b[1;33mWARNING:\u001b[0m Your config file at [/home/jupyter/.docker/config.json] contains these credential helper entries:\n",
      "\n",
      "{\n",
      "  \"credHelpers\": {\n",
      "    \"gcr.io\": \"gcloud\",\n",
      "    \"us.gcr.io\": \"gcloud\",\n",
      "    \"eu.gcr.io\": \"gcloud\",\n",
      "    \"asia.gcr.io\": \"gcloud\",\n",
      "    \"staging-k8s.gcr.io\": \"gcloud\",\n",
      "    \"marketplace.gcr.io\": \"gcloud\",\n",
      "    \"us-central1-docker.pkg.dev\": \"gcloud\"\n",
      "  }\n",
      "}\n",
      "Adding credentials for: us-central1-docker.pkg.dev\n",
      "gcloud credential helpers already registered correctly.\n"
     ]
    }
   ],
   "source": [
    "! gcloud auth configure-docker $REGION-docker.pkg.dev --quiet"
   ]
  },
  {
   "cell_type": "markdown",
   "id": "cb1374bc-7b85-4e65-86ab-2721ce4908b3",
   "metadata": {},
   "source": [
    "### Create Dockerfile"
   ]
  },
  {
   "cell_type": "code",
   "execution_count": 9,
   "id": "88a8b25d-e55c-4a00-ab0e-1151eae8eaea",
   "metadata": {},
   "outputs": [
    {
     "data": {
      "text/plain": [
       "'/home/jupyter/tf_vertex_agents'"
      ]
     },
     "execution_count": 9,
     "metadata": {},
     "output_type": "execute_result"
    }
   ],
   "source": [
    "import os\n",
    "\n",
    "root_path = '..'\n",
    "os.chdir(root_path)\n",
    "os.getcwd()"
   ]
  },
  {
   "cell_type": "markdown",
   "id": "2bffd9bb-6d22-4d4e-9eb8-893472702837",
   "metadata": {},
   "source": [
    "### Create train image\n",
    "\n",
    "* see [example Dockerfile for GPU](https://github.com/GoogleCloudPlatform/cloudml-samples/blob/main/pytorch/containers/quickstart/mnist/Dockerfile-gpu) jobs in Vertex AI\n",
    "* see deep learning container [example here](https://cloud.google.com/deep-learning-containers/docs/derivative-container), and here for [available DL containers](https://cloud.google.com/deep-learning-containers/docs/choosing-container#versions)"
   ]
  },
  {
   "cell_type": "code",
   "execution_count": 10,
   "id": "7022f8d1-43d0-4291-91b8-4cb27491c2e5",
   "metadata": {},
   "outputs": [
    {
     "name": "stdout",
     "output_type": "stream",
     "text": [
      "gpu_profiling : True\n"
     ]
    }
   ],
   "source": [
    "gpu_profiling = True # True | False\n",
    "\n",
    "print(f\"gpu_profiling : {gpu_profiling}\")"
   ]
  },
  {
   "cell_type": "code",
   "execution_count": 11,
   "id": "4596864b-f059-438d-a04f-7416c436b644",
   "metadata": {},
   "outputs": [
    {
     "name": "stdout",
     "output_type": "stream",
     "text": [
      "TRAIN_BASE_IMAGE : gcr.io/deeplearning-platform-release/tf2-gpu.2-12.py310\n",
      "NVTOP_RUN        : RUN apt update && apt -y install nvtop\n",
      "RUN_EXPORT       : RUN export PYTHONPATH=${PYTHONPATH}:${APP_HOME}/\n"
     ]
    }
   ],
   "source": [
    "# TRAIN_BASE_IMAGE = 'us-docker.pkg.dev/vertex-ai/training/tf-gpu.2-11:latest'\n",
    "# docker pull tensorflow/tensorflow:2.13.0-gpu\n",
    "\n",
    "if gpu_profiling:\n",
    "    # TRAIN_BASE_IMAGE = 'tensorflow/tensorflow:2.13.0-gpu'\n",
    "    TRAIN_BASE_IMAGE = 'gcr.io/deeplearning-platform-release/tf2-gpu.2-12.py310'\n",
    "    NVTOP_RUN = 'RUN apt update && apt -y install nvtop'\n",
    "    # NVTOP_RUN = 'RUN apt-get update && apt-get -y install nvtop'\n",
    "else:\n",
    "    TRAIN_BASE_IMAGE = 'python:3.10'\n",
    "    NVTOP_RUN = None\n",
    "    \n",
    "RUN_EXPORT = \"RUN export PYTHONPATH=${PYTHONPATH}:${APP_HOME}/\"\n",
    "    \n",
    "print(f\"TRAIN_BASE_IMAGE : {TRAIN_BASE_IMAGE}\")\n",
    "print(f\"NVTOP_RUN        : {NVTOP_RUN}\")\n",
    "print(f\"RUN_EXPORT       : {RUN_EXPORT}\")"
   ]
  },
  {
   "cell_type": "code",
   "execution_count": 12,
   "id": "8b1b1fc6-022b-4e56-b62f-673179bab7ed",
   "metadata": {},
   "outputs": [
    {
     "name": "stdout",
     "output_type": "stream",
     "text": [
      "\n",
      "FROM gcr.io/deeplearning-platform-release/tf2-gpu.2-12.py310\n",
      "\n",
      "ENV PYTHONUNBUFFERED True\n",
      "\n",
      "ENV APP_HOME /workspace\n",
      "\n",
      "WORKDIR $APP_HOME\n",
      "\n",
      "COPY /requirements.txt $APP_HOME/requirements.txt\n",
      "\n",
      "RUN pip install --upgrade pip\n",
      "RUN pip install --no-cache-dir -r $APP_HOME/requirements.txt\n",
      "\n",
      "RUN ls $APP_HOME\n",
      "\n",
      "COPY src/perarm_features $APP_HOME/src/perarm_features\n",
      "COPY src/per_arm_rl $APP_HOME/src/per_arm_rl\n",
      "\n",
      "RUN apt update && apt -y install nvtop\n",
      "\n",
      "RUN ls $APP_HOME\n",
      "\n",
      "RUN export PYTHONPATH=${PYTHONPATH}:${APP_HOME}/\n",
      "\n",
      "# Sets up the entry point to invoke the task.\n",
      "ENTRYPOINT [\"python3\", \"-m\", \"src.perarm_features.task\"]\n",
      "\n"
     ]
    }
   ],
   "source": [
    "dockerfile = f'''\n",
    "FROM {TRAIN_BASE_IMAGE}\n",
    "\n",
    "ENV PYTHONUNBUFFERED True\n",
    "\n",
    "ENV APP_HOME /workspace\n",
    "\n",
    "WORKDIR $APP_HOME\n",
    "\n",
    "COPY /requirements.txt $APP_HOME/requirements.txt\n",
    "\n",
    "RUN pip install --upgrade pip\n",
    "RUN pip install --no-cache-dir -r $APP_HOME/requirements.txt\n",
    "\n",
    "RUN ls $APP_HOME\n",
    "\n",
    "COPY src/perarm_features $APP_HOME/src/perarm_features\n",
    "COPY src/per_arm_rl $APP_HOME/src/per_arm_rl\n",
    "\n",
    "{NVTOP_RUN}\n",
    "\n",
    "RUN ls $APP_HOME\n",
    "\n",
    "{RUN_EXPORT}\n",
    "\n",
    "# Sets up the entry point to invoke the task.\n",
    "ENTRYPOINT [\"python3\", \"-m\", \"src.perarm_features.task\"]\n",
    "'''\n",
    "print(dockerfile)"
   ]
  },
  {
   "cell_type": "code",
   "execution_count": 13,
   "id": "1cc6cb35-fcb6-4b4d-a665-b6c038ca6f29",
   "metadata": {},
   "outputs": [],
   "source": [
    "with open(f'{DOCKERNAME}', 'w') as f:\n",
    "    f.write(dockerfile)"
   ]
  },
  {
   "cell_type": "markdown",
   "id": "629eb246-f2fc-48a0-8478-4f9c99dddd0b",
   "metadata": {},
   "source": [
    "### Build Image Locally"
   ]
  },
  {
   "cell_type": "code",
   "execution_count": 14,
   "id": "4a82cbe6-0ed5-478f-a38f-e6dedc114e2c",
   "metadata": {
    "tags": []
   },
   "outputs": [
    {
     "name": "stdout",
     "output_type": "stream",
     "text": [
      "Sending build context to Docker daemon  57.82MB\n",
      "Step 1/14 : FROM gcr.io/deeplearning-platform-release/tf2-gpu.2-12.py310\n",
      " ---> 2524f8ab2f7e\n",
      "Step 2/14 : ENV PYTHONUNBUFFERED True\n",
      " ---> Using cache\n",
      " ---> 78620b4bd1ba\n",
      "Step 3/14 : ENV APP_HOME /workspace\n",
      " ---> Using cache\n",
      " ---> af6c2c2d0959\n",
      "Step 4/14 : WORKDIR $APP_HOME\n",
      " ---> Using cache\n",
      " ---> 5295cba61bdd\n",
      "Step 5/14 : COPY /requirements.txt $APP_HOME/requirements.txt\n",
      " ---> Using cache\n",
      " ---> 9bb4f721d629\n",
      "Step 6/14 : RUN pip install --upgrade pip\n",
      " ---> Using cache\n",
      " ---> 69182a76aef7\n",
      "Step 7/14 : RUN pip install --no-cache-dir -r $APP_HOME/requirements.txt\n",
      " ---> Using cache\n",
      " ---> c4e8869aba16\n",
      "Step 8/14 : RUN ls $APP_HOME\n",
      " ---> Using cache\n",
      " ---> 9c7f8de78b7f\n",
      "Step 9/14 : COPY src/perarm_features $APP_HOME/src/perarm_features\n",
      " ---> a947d6459e4c\n",
      "Step 10/14 : COPY src/per_arm_rl $APP_HOME/src/per_arm_rl\n",
      " ---> c6aee222d53f\n",
      "Step 11/14 : RUN apt update && apt -y install nvtop\n",
      " ---> Running in 8304b7a96b6c\n",
      "\u001b[91m\n",
      "WARNING: apt does not have a stable CLI interface. Use with caution in scripts.\n",
      "\n",
      "\u001b[0mGet:1 http://security.ubuntu.com/ubuntu jammy-security InRelease [110 kB]\n",
      "Get:2 http://archive.ubuntu.com/ubuntu jammy InRelease [270 kB]\n",
      "Get:3 http://packages.cloud.google.com/apt gcsfuse-focal InRelease [5020 B]\n",
      "Get:4 https://packages.cloud.google.com/apt cloud-sdk InRelease [6361 B]\n",
      "Get:5 https://developer.download.nvidia.com/compute/cuda/repos/ubuntu2204/x86_64  InRelease [1581 B]\n",
      "Get:6 https://packages.cloud.google.com/apt google-fast-socket InRelease [5015 B]\n",
      "Get:7 http://packages.cloud.google.com/apt gcsfuse-focal/main amd64 Packages [2778 B]\n",
      "Get:8 http://archive.ubuntu.com/ubuntu jammy-updates InRelease [119 kB]\n",
      "Get:9 http://archive.ubuntu.com/ubuntu jammy-backports InRelease [109 kB]\n",
      "Get:10 https://packages.cloud.google.com/apt cloud-sdk/main amd64 Packages [499 kB]\n",
      "Get:11 http://security.ubuntu.com/ubuntu jammy-security/multiverse amd64 Packages [44.0 kB]\n",
      "Get:12 http://security.ubuntu.com/ubuntu jammy-security/universe amd64 Packages [990 kB]\n",
      "Get:13 https://developer.download.nvidia.com/compute/cuda/repos/ubuntu2204/x86_64  Packages [494 kB]\n",
      "Get:14 http://security.ubuntu.com/ubuntu jammy-security/restricted amd64 Packages [984 kB]\n",
      "Get:15 http://archive.ubuntu.com/ubuntu jammy/multiverse amd64 Packages [266 kB]\n",
      "Get:16 http://security.ubuntu.com/ubuntu jammy-security/main amd64 Packages [909 kB]\n",
      "Get:17 http://archive.ubuntu.com/ubuntu jammy/universe amd64 Packages [17.5 MB]\n",
      "Get:18 https://packages.cloud.google.com/apt google-fast-socket/main amd64 Packages [447 B]\n",
      "Get:19 http://archive.ubuntu.com/ubuntu jammy/restricted amd64 Packages [164 kB]\n",
      "Get:20 http://archive.ubuntu.com/ubuntu jammy/main amd64 Packages [1792 kB]\n",
      "Get:21 http://archive.ubuntu.com/ubuntu jammy-updates/restricted amd64 Packages [1010 kB]\n",
      "Get:22 http://archive.ubuntu.com/ubuntu jammy-updates/main amd64 Packages [1182 kB]\n",
      "Get:23 http://archive.ubuntu.com/ubuntu jammy-updates/multiverse amd64 Packages [49.8 kB]\n",
      "Get:24 http://archive.ubuntu.com/ubuntu jammy-updates/universe amd64 Packages [1251 kB]\n",
      "Get:25 http://archive.ubuntu.com/ubuntu jammy-backports/main amd64 Packages [49.2 kB]\n",
      "Get:26 http://archive.ubuntu.com/ubuntu jammy-backports/universe amd64 Packages [25.6 kB]\n",
      "Fetched 27.8 MB in 2s (12.2 MB/s)\n",
      "Reading package lists...\n",
      "Building dependency tree...\n",
      "Reading state information...\n",
      "28 packages can be upgraded. Run 'apt list --upgradable' to see them.\n",
      "\u001b[91mW: http://packages.cloud.google.com/apt/dists/gcsfuse-focal/InRelease: Key is stored in legacy trusted.gpg keyring (/etc/apt/trusted.gpg), see the DEPRECATION section in apt-key(8) for details.\n",
      "W: https://packages.cloud.google.com/apt/dists/google-fast-socket/InRelease: Key is stored in legacy trusted.gpg keyring (/etc/apt/trusted.gpg), see the DEPRECATION section in apt-key(8) for details.\n",
      "\u001b[0m\u001b[91m\n",
      "WARNING: apt does not have a stable CLI interface. Use with caution in scripts.\n",
      "\n",
      "\u001b[0mReading package lists...\n",
      "Building dependency tree...\n",
      "Reading state information...\n",
      "The following NEW packages will be installed:\n",
      "  nvtop\n",
      "0 upgraded, 1 newly installed, 0 to remove and 28 not upgraded.\n",
      "Need to get 43.9 kB of archives.\n",
      "After this operation, 106 kB of additional disk space will be used.\n",
      "Get:1 http://archive.ubuntu.com/ubuntu jammy/multiverse amd64 nvtop amd64 1.2.2-1 [43.9 kB]\n",
      "\u001b[91mdebconf: unable to initialize frontend: Dialog\n",
      "debconf: (TERM is not set, so the dialog frontend is not usable.)\n",
      "debconf: falling back to frontend: Readline\n",
      "\u001b[0m\u001b[91mdebconf: unable to initialize frontend: Readline\n",
      "debconf: (This frontend requires a controlling tty.)\n",
      "debconf: falling back to frontend: Teletype\n",
      "\u001b[0m\u001b[91mdpkg-preconfigure: unable to re-open stdin: \n",
      "\u001b[0mFetched 43.9 kB in 0s (88.8 kB/s)\n",
      "Selecting previously unselected package nvtop.\n",
      "(Reading database ... 93090 files and directories currently installed.)\n",
      "Preparing to unpack .../nvtop_1.2.2-1_amd64.deb ...\n",
      "Unpacking nvtop (1.2.2-1) ...\n",
      "Setting up nvtop (1.2.2-1) ...\n",
      "Processing triggers for man-db (2.10.2-1) ...\n",
      "Removing intermediate container 8304b7a96b6c\n",
      " ---> 09dd0b4aca75\n",
      "Step 12/14 : RUN ls $APP_HOME\n",
      " ---> Running in 3ca7f7189782\n",
      "requirements.txt\n",
      "src\n",
      "Removing intermediate container 3ca7f7189782\n",
      " ---> 6d897c7e8223\n",
      "Step 13/14 : RUN export PYTHONPATH=${PYTHONPATH}:${APP_HOME}/\n",
      " ---> Running in 16ff5c3eba20\n",
      "Removing intermediate container 16ff5c3eba20\n",
      " ---> 406e0bd89a7a\n",
      "Step 14/14 : ENTRYPOINT [\"python3\", \"-m\", \"src.perarm_features.task\"]\n",
      " ---> Running in abbccaa00a80\n",
      "Removing intermediate container abbccaa00a80\n",
      " ---> 3eb11b28cbf6\n",
      "Successfully built 3eb11b28cbf6\n",
      "Successfully tagged us-central1-docker.pkg.dev/hybrid-vertex/rl-movielens-mabv1/train-perarm-feats-v1:latest\n"
     ]
    }
   ],
   "source": [
    "!docker build -t $REMOTE_IMAGE_NAME -f $DOCKERNAME ."
   ]
  },
  {
   "cell_type": "markdown",
   "id": "a6110439-f66a-4d6b-8105-17a08ce9b8da",
   "metadata": {},
   "source": [
    "### Push container to Registry"
   ]
  },
  {
   "cell_type": "code",
   "execution_count": 15,
   "id": "54a714cf-053c-4f14-b375-2a42ae2092f9",
   "metadata": {},
   "outputs": [
    {
     "name": "stdout",
     "output_type": "stream",
     "text": [
      "Using default tag: latest\n",
      "The push refers to repository [us-central1-docker.pkg.dev/hybrid-vertex/rl-movielens-mabv1/train-perarm-feats-v1]\n",
      "\n",
      "\u001b[1Bf0c66012: Preparing \n",
      "\u001b[1B99436e5c: Preparing \n",
      "\u001b[1Bb118db97: Preparing \n",
      "\u001b[1B9ca10308: Preparing \n",
      "\u001b[1B6d90e42a: Preparing \n",
      "\u001b[1Bb03d4a93: Preparing \n",
      "\u001b[1B11a33a47: Preparing \n",
      "\u001b[1B3b613946: Preparing \n",
      "\u001b[1B7ec48755: Preparing \n",
      "\u001b[1B9ff1f1f7: Preparing \n",
      "\u001b[1B1fb4c0a9: Preparing \n",
      "\u001b[1B78387552: Preparing \n",
      "\u001b[1B7aaa2b94: Preparing \n",
      "\u001b[1Bf6acfb89: Preparing \n",
      "\u001b[1B6b281212: Preparing \n",
      "\u001b[1B9c238a16: Preparing \n",
      "\u001b[1B6524d219: Preparing \n",
      "\u001b[1B336bfcaa: Preparing \n",
      "\u001b[1Bbf0cc5a6: Preparing \n",
      "\u001b[1Bb6b1b66a: Preparing \n",
      "\u001b[1B7db027f2: Preparing \n",
      "\u001b[1B4587e03b: Preparing \n",
      "\u001b[1B54b6913d: Preparing \n",
      "\u001b[1B03d8f0fd: Preparing \n",
      "\u001b[1B7cfb894b: Preparing \n",
      "\u001b[1B91ee4880: Preparing \n",
      "\u001b[1B99a10105: Preparing \n",
      "\u001b[1Be763119e: Preparing \n",
      "\u001b[1B8921f21c: Preparing \n",
      "\u001b[1B21ef34cd: Preparing \n",
      "\u001b[1Bdc117f9b: Preparing \n",
      "\u001b[1Bbf18a086: Preparing \n",
      "\u001b[1Bc08beb30: Preparing \n",
      "\u001b[1B64fa0a1e: Preparing \n",
      "\u001b[1Bcf47cbae: Preparing \n",
      "\u001b[1Bcdbb4b45: Preparing \n",
      "\u001b[1Bb2bc65e7: Preparing \n",
      "\u001b[1Ba6feba89: Preparing \n",
      "\u001b[34B03d4a93: Waiting g \n",
      "\u001b[1Baf0c2ae0: Preparing \n",
      "\u001b[1B73079fce: Preparing \n",
      "\u001b[36B1a33a47: Waiting g \n",
      "\u001b[1Bfb4bee8f: Preparing \n",
      "\u001b[37Bb613946: Waiting g \n",
      "\u001b[1Bf76d88ee: Preparing \n",
      "\u001b[46B0c66012: Pushed   47.57MB/47.49MB\u001b[41A\u001b[2K\u001b[39A\u001b[2K\u001b[36A\u001b[2K\u001b[32A\u001b[2K\u001b[45A\u001b[2K\u001b[28A\u001b[2K\u001b[25A\u001b[2K\u001b[19A\u001b[2K\u001b[14A\u001b[2K\u001b[10A\u001b[2K\u001b[4A\u001b[2K\u001b[2A\u001b[2K\u001b[46A\u001b[2K\u001b[46A\u001b[2K\u001b[46A\u001b[2K\u001b[46A\u001b[2K\u001b[46A\u001b[2K\u001b[46A\u001b[2K\u001b[46A\u001b[2K\u001b[46A\u001b[2K\u001b[46A\u001b[2K\u001b[46A\u001b[2K\u001b[46A\u001b[2K\u001b[46A\u001b[2K\u001b[46A\u001b[2K\u001b[46A\u001b[2K\u001b[46A\u001b[2K\u001b[46A\u001b[2Klatest: digest: sha256:e890104d1217f19a34850fef3f39ca46e006ba9fae16039bf92bd0c372dc042b size: 9968\n"
     ]
    }
   ],
   "source": [
    "# ### push the container to registry\n",
    "!docker push $REMOTE_IMAGE_NAME"
   ]
  },
  {
   "cell_type": "markdown",
   "id": "19bc85f6-a86e-48f2-a040-89f35376d57c",
   "metadata": {},
   "source": [
    "### GPU profiling\n",
    "\n",
    "> enter these commands in the Vertex interactive terminal:\n",
    "\n",
    "```bash\n",
    "sudo apt update\n",
    "sudo apt -y install nvtop\n",
    "```"
   ]
  },
  {
   "cell_type": "markdown",
   "id": "18df8169-e4ed-45fb-9279-85e966bc6f3e",
   "metadata": {},
   "source": [
    "**Finished**"
   ]
  }
 ],
 "metadata": {
  "environment": {
   "kernel": "python3",
   "name": "tf2-gpu.2-11.m109",
   "type": "gcloud",
   "uri": "gcr.io/deeplearning-platform-release/tf2-gpu.2-11:m109"
  },
  "kernelspec": {
   "display_name": "Python 3",
   "language": "python",
   "name": "python3"
  },
  "language_info": {
   "codemirror_mode": {
    "name": "ipython",
    "version": 3
   },
   "file_extension": ".py",
   "mimetype": "text/x-python",
   "name": "python",
   "nbconvert_exporter": "python",
   "pygments_lexer": "ipython3",
   "version": "3.10.11"
  }
 },
 "nbformat": 4,
 "nbformat_minor": 5
}
