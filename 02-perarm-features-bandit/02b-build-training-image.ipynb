{
 "cells": [
  {
   "cell_type": "markdown",
   "id": "64583cdb-2502-4f40-a254-8fa68abe7a32",
   "metadata": {},
   "source": [
    "# Build custom container for Vertex training"
   ]
  },
  {
   "cell_type": "code",
   "execution_count": 1,
   "id": "4e1beb37-0c48-4110-8ca0-24ab78c72b39",
   "metadata": {},
   "outputs": [
    {
     "name": "stdout",
     "output_type": "stream",
     "text": [
      "/home/jupyter/tf_vertex_agents/02-perarm-features-bandit\n"
     ]
    }
   ],
   "source": [
    "!pwd"
   ]
  },
  {
   "cell_type": "markdown",
   "id": "66298299-d4ad-460e-8ab3-ea9fbc012086",
   "metadata": {},
   "source": [
    "## Load env config\n",
    "\n",
    "* use the prefix from `00-env-setup`"
   ]
  },
  {
   "cell_type": "code",
   "execution_count": 2,
   "id": "f1d2542f-d87b-436d-b4bb-08edcbb532ee",
   "metadata": {},
   "outputs": [],
   "source": [
    "PREFIX = 'mabv1'"
   ]
  },
  {
   "cell_type": "code",
   "execution_count": 3,
   "id": "35449112-3c26-4ea9-8c3a-21c283951350",
   "metadata": {},
   "outputs": [
    {
     "name": "stdout",
     "output_type": "stream",
     "text": [
      "\n",
      "PROJECT_ID               = \"hybrid-vertex\"\n",
      "PROJECT_NUM              = \"934903580331\"\n",
      "LOCATION                 = \"us-central1\"\n",
      "\n",
      "REGION                   = \"us-central1\"\n",
      "BQ_LOCATION              = \"US\"\n",
      "VPC_NETWORK_NAME         = \"ucaip-haystack-vpc-network\"\n",
      "\n",
      "VERTEX_SA                = \"934903580331-compute@developer.gserviceaccount.com\"\n",
      "\n",
      "PREFIX                   = \"mabv1\"\n",
      "VERSION                  = \"v1\"\n",
      "\n",
      "BUCKET_NAME              = \"mabv1-hybrid-vertex-bucket\"\n",
      "BUCKET_URI               = \"gs://mabv1-hybrid-vertex-bucket\"\n",
      "DATA_GCS_PREFIX          = \"data\"\n",
      "DATA_PATH                = \"gs://mabv1-hybrid-vertex-bucket/data\"\n",
      "VOCAB_SUBDIR             = \"vocabs\"\n",
      "VOCAB_FILENAME           = \"vocab_dict.pkl\"\n",
      "\n",
      "VPC_NETWORK_FULL         = \"projects/934903580331/global/networks/ucaip-haystack-vpc-network\"\n",
      "\n",
      "BIGQUERY_DATASET_ID      = \"hybrid-vertex.movielens_dataset_mabv1\"\n",
      "BIGQUERY_TABLE_ID        = \"hybrid-vertex.movielens_dataset_mabv1.training_dataset\"\n",
      "\n",
      "REPO_DOCKER_PATH_PREFIX  = \"src\"\n",
      "RL_SUB_DIR               = \"per_arm_rl\"\n",
      "\n",
      "REPOSITORY               = \"rl-movielens-mabv1\"\n",
      "IMAGE_NAME               = \"train-perarm-feats-v1\"\n",
      "REMOTE_IMAGE_NAME        = \"us-central1-docker.pkg.dev/hybrid-vertex/rl-movielens-mabv1/train-perarm-feats-v1\"\n",
      "DOCKERNAME               = \"Dockerfile_perarm_feats\"\n",
      "\n"
     ]
    }
   ],
   "source": [
    "# staging GCS\n",
    "GCP_PROJECTS             = !gcloud config get-value project\n",
    "PROJECT_ID               = GCP_PROJECTS[0]\n",
    "\n",
    "# GCS bucket and paths\n",
    "BUCKET_NAME              = f'{PREFIX}-{PROJECT_ID}-bucket'\n",
    "BUCKET_URI               = f'gs://{BUCKET_NAME}'\n",
    "\n",
    "config = !gsutil cat {BUCKET_URI}/config/notebook_env.py\n",
    "print(config.n)\n",
    "exec(config.n)"
   ]
  },
  {
   "cell_type": "code",
   "execution_count": 4,
   "id": "8b16af06-e188-4f4e-a04b-4e0eb8873ca1",
   "metadata": {},
   "outputs": [],
   "source": [
    "# ! gsutil ls $BUCKET_URI"
   ]
  },
  {
   "cell_type": "markdown",
   "id": "be79c652-45c8-4b5f-b410-4908829375a3",
   "metadata": {},
   "source": [
    "## imports"
   ]
  },
  {
   "cell_type": "code",
   "execution_count": 5,
   "id": "92272ed8-bfb5-4b40-b7f4-cdbe029f3bf6",
   "metadata": {},
   "outputs": [],
   "source": [
    "import os\n",
    "os.environ['TF_CPP_MIN_LOG_LEVEL'] = '2'"
   ]
  },
  {
   "cell_type": "markdown",
   "id": "261a452d-8ce7-427b-8091-d7d41c57e556",
   "metadata": {},
   "source": [
    "# Build Image"
   ]
  },
  {
   "cell_type": "code",
   "execution_count": 6,
   "id": "d192a4dd-b3e1-4c48-b69f-fd022078e85e",
   "metadata": {},
   "outputs": [],
   "source": [
    "# !tree src"
   ]
  },
  {
   "cell_type": "markdown",
   "id": "5b9bdef1-ac23-49be-96fd-25795f483643",
   "metadata": {},
   "source": [
    "## Container Image Variables"
   ]
  },
  {
   "cell_type": "code",
   "execution_count": 7,
   "id": "eedbe408-e2fe-4944-912f-f2b1f6587440",
   "metadata": {},
   "outputs": [
    {
     "name": "stdout",
     "output_type": "stream",
     "text": [
      "DOCKERNAME        = Dockerfile_perarm_feats\n",
      "REPOSITORY        = rl-movielens-mabv1\n",
      "IMAGE_NAME        = train-perarm-feats-v1\n",
      "REMOTE_IMAGE_NAME = us-central1-docker.pkg.dev/hybrid-vertex/rl-movielens-mabv1/train-perarm-feats-v1\n"
     ]
    }
   ],
   "source": [
    "print(f\"DOCKERNAME        = {DOCKERNAME}\")\n",
    "print(f\"REPOSITORY        = {REPOSITORY}\")\n",
    "print(f\"IMAGE_NAME        = {IMAGE_NAME}\")\n",
    "print(f\"REMOTE_IMAGE_NAME = {REMOTE_IMAGE_NAME}\")"
   ]
  },
  {
   "cell_type": "markdown",
   "id": "bf953a8e-d282-4d7b-9a7d-fd0bee28c70a",
   "metadata": {},
   "source": [
    "## Create Artifact Repository\n",
    "\n",
    "If you don't have an existing artifact repository, create one using the gcloud command below"
   ]
  },
  {
   "cell_type": "code",
   "execution_count": 8,
   "id": "f8288932-054a-46e6-90e8-326e015f2115",
   "metadata": {},
   "outputs": [],
   "source": [
    "# ! gcloud artifacts repositories create $REPOSITORY --repository-format=docker --location=$LOCATION"
   ]
  },
  {
   "cell_type": "markdown",
   "id": "8411ff1c-cbf7-437c-ba54-b223ad3693c6",
   "metadata": {},
   "source": [
    "## Local Docker build\n",
    "\n",
    "Provide a name for your dockerfile and make sure you are authenticated"
   ]
  },
  {
   "cell_type": "code",
   "execution_count": 9,
   "id": "e2ddd661-18a9-4ed9-85d0-716b0c094026",
   "metadata": {},
   "outputs": [
    {
     "name": "stdout",
     "output_type": "stream",
     "text": [
      "\u001b[1;33mWARNING:\u001b[0m Your config file at [/home/jupyter/.docker/config.json] contains these credential helper entries:\n",
      "\n",
      "{\n",
      "  \"credHelpers\": {\n",
      "    \"gcr.io\": \"gcloud\",\n",
      "    \"us.gcr.io\": \"gcloud\",\n",
      "    \"eu.gcr.io\": \"gcloud\",\n",
      "    \"asia.gcr.io\": \"gcloud\",\n",
      "    \"staging-k8s.gcr.io\": \"gcloud\",\n",
      "    \"marketplace.gcr.io\": \"gcloud\",\n",
      "    \"us-central1-docker.pkg.dev\": \"gcloud\"\n",
      "  }\n",
      "}\n",
      "Adding credentials for: us-central1-docker.pkg.dev\n",
      "gcloud credential helpers already registered correctly.\n",
      "\n",
      "\n",
      "To take a quick anonymous survey, run:\n",
      "  $ gcloud survey\n",
      "\n"
     ]
    }
   ],
   "source": [
    "! gcloud auth configure-docker $REGION-docker.pkg.dev --quiet"
   ]
  },
  {
   "cell_type": "markdown",
   "id": "cb1374bc-7b85-4e65-86ab-2721ce4908b3",
   "metadata": {},
   "source": [
    "### Create Dockerfile"
   ]
  },
  {
   "cell_type": "code",
   "execution_count": 10,
   "id": "88a8b25d-e55c-4a00-ab0e-1151eae8eaea",
   "metadata": {},
   "outputs": [
    {
     "data": {
      "text/plain": [
       "'/home/jupyter/tf_vertex_agents'"
      ]
     },
     "execution_count": 10,
     "metadata": {},
     "output_type": "execute_result"
    }
   ],
   "source": [
    "import os\n",
    "\n",
    "root_path = '..'\n",
    "os.chdir(root_path)\n",
    "os.getcwd()"
   ]
  },
  {
   "cell_type": "markdown",
   "id": "2bffd9bb-6d22-4d4e-9eb8-893472702837",
   "metadata": {},
   "source": [
    "### Create train image\n",
    "\n",
    "* see [example Dockerfile for GPU](https://github.com/GoogleCloudPlatform/cloudml-samples/blob/main/pytorch/containers/quickstart/mnist/Dockerfile-gpu) jobs in Vertex AI\n",
    "* see deep learning container [example here](https://cloud.google.com/deep-learning-containers/docs/derivative-container), and here for [available DL containers](https://cloud.google.com/deep-learning-containers/docs/choosing-container#versions)"
   ]
  },
  {
   "cell_type": "code",
   "execution_count": 11,
   "id": "7022f8d1-43d0-4291-91b8-4cb27491c2e5",
   "metadata": {},
   "outputs": [
    {
     "name": "stdout",
     "output_type": "stream",
     "text": [
      "gpu_profiling : True\n"
     ]
    }
   ],
   "source": [
    "gpu_profiling = True # True | False\n",
    "\n",
    "print(f\"gpu_profiling : {gpu_profiling}\")"
   ]
  },
  {
   "cell_type": "code",
   "execution_count": 12,
   "id": "4596864b-f059-438d-a04f-7416c436b644",
   "metadata": {},
   "outputs": [
    {
     "name": "stdout",
     "output_type": "stream",
     "text": [
      "TRAIN_BASE_IMAGE : gcr.io/deeplearning-platform-release/tf2-gpu.2-12.py310\n",
      "NVTOP_RUN        : RUN apt update && apt -y install nvtop\n",
      "RUN_EXPORT       : RUN export PYTHONPATH=${PYTHONPATH}:${APP_HOME}/\n"
     ]
    }
   ],
   "source": [
    "# TRAIN_BASE_IMAGE = 'us-docker.pkg.dev/vertex-ai/training/tf-gpu.2-11:latest'\n",
    "# docker pull tensorflow/tensorflow:2.13.0-gpu\n",
    "\n",
    "if gpu_profiling:\n",
    "    # TRAIN_BASE_IMAGE = 'tensorflow/tensorflow:2.13.0-gpu'\n",
    "    TRAIN_BASE_IMAGE = 'gcr.io/deeplearning-platform-release/tf2-gpu.2-12.py310'\n",
    "    NVTOP_RUN = 'RUN apt update && apt -y install nvtop'\n",
    "    # NVTOP_RUN = 'RUN apt-get update && apt-get -y install nvtop'\n",
    "else:\n",
    "    TRAIN_BASE_IMAGE = 'python:3.10'\n",
    "    NVTOP_RUN = None\n",
    "    \n",
    "RUN_EXPORT = \"RUN export PYTHONPATH=${PYTHONPATH}:${APP_HOME}/\"\n",
    "    \n",
    "print(f\"TRAIN_BASE_IMAGE : {TRAIN_BASE_IMAGE}\")\n",
    "print(f\"NVTOP_RUN        : {NVTOP_RUN}\")\n",
    "print(f\"RUN_EXPORT       : {RUN_EXPORT}\")"
   ]
  },
  {
   "cell_type": "code",
   "execution_count": 13,
   "id": "8b1b1fc6-022b-4e56-b62f-673179bab7ed",
   "metadata": {},
   "outputs": [
    {
     "name": "stdout",
     "output_type": "stream",
     "text": [
      "\n",
      "FROM gcr.io/deeplearning-platform-release/tf2-gpu.2-12.py310\n",
      "\n",
      "ENV PYTHONUNBUFFERED True\n",
      "\n",
      "ENV APP_HOME /workspace\n",
      "\n",
      "WORKDIR $APP_HOME\n",
      "\n",
      "COPY /requirements.txt $APP_HOME/requirements.txt\n",
      "\n",
      "RUN pip install --upgrade pip\n",
      "RUN pip install --no-cache-dir -r $APP_HOME/requirements.txt\n",
      "\n",
      "RUN ls $APP_HOME\n",
      "\n",
      "COPY src/perarm_features $APP_HOME/src/perarm_features\n",
      "COPY src/per_arm_rl $APP_HOME/src/per_arm_rl\n",
      "\n",
      "RUN apt update && apt -y install nvtop\n",
      "\n",
      "RUN ls $APP_HOME\n",
      "\n",
      "RUN export PYTHONPATH=${PYTHONPATH}:${APP_HOME}/\n",
      "\n",
      "# Sets up the entry point to invoke the task.\n",
      "ENTRYPOINT [\"python3\", \"-m\", \"src.perarm_features.task\"]\n",
      "\n"
     ]
    }
   ],
   "source": [
    "dockerfile = f'''\n",
    "FROM {TRAIN_BASE_IMAGE}\n",
    "\n",
    "ENV PYTHONUNBUFFERED True\n",
    "\n",
    "ENV APP_HOME /workspace\n",
    "\n",
    "WORKDIR $APP_HOME\n",
    "\n",
    "COPY /requirements.txt $APP_HOME/requirements.txt\n",
    "\n",
    "RUN pip install --upgrade pip\n",
    "RUN pip install --no-cache-dir -r $APP_HOME/requirements.txt\n",
    "\n",
    "RUN ls $APP_HOME\n",
    "\n",
    "COPY src/perarm_features $APP_HOME/src/perarm_features\n",
    "COPY src/per_arm_rl $APP_HOME/src/per_arm_rl\n",
    "\n",
    "{NVTOP_RUN}\n",
    "\n",
    "RUN ls $APP_HOME\n",
    "\n",
    "{RUN_EXPORT}\n",
    "\n",
    "# Sets up the entry point to invoke the task.\n",
    "ENTRYPOINT [\"python3\", \"-m\", \"src.perarm_features.task\"]\n",
    "'''\n",
    "print(dockerfile)"
   ]
  },
  {
   "cell_type": "code",
   "execution_count": 14,
   "id": "1cc6cb35-fcb6-4b4d-a665-b6c038ca6f29",
   "metadata": {},
   "outputs": [],
   "source": [
    "with open(f'{DOCKERNAME}', 'w') as f:\n",
    "    f.write(dockerfile)"
   ]
  },
  {
   "cell_type": "markdown",
   "id": "629eb246-f2fc-48a0-8478-4f9c99dddd0b",
   "metadata": {},
   "source": [
    "### Build Image Locally"
   ]
  },
  {
   "cell_type": "code",
   "execution_count": 15,
   "id": "4a82cbe6-0ed5-478f-a38f-e6dedc114e2c",
   "metadata": {
    "tags": []
   },
   "outputs": [
    {
     "name": "stdout",
     "output_type": "stream",
     "text": [
      "Sending build context to Docker daemon   79.4MB\n",
      "Step 1/14 : FROM gcr.io/deeplearning-platform-release/tf2-gpu.2-12.py310\n",
      "latest: Pulling from deeplearning-platform-release/tf2-gpu.2-12.py310\n",
      "\n",
      "\u001b[1B1dcae6ca: Pulling fs layer \n",
      "\u001b[1Bc00479c6: Pulling fs layer \n",
      "\u001b[1Bfa233a80: Pulling fs layer \n",
      "\u001b[1Bf70b397f: Pulling fs layer \n",
      "\u001b[1Ba42bc712: Pulling fs layer \n",
      "\u001b[1B1e6a2dfe: Pulling fs layer \n",
      "\u001b[1Be6c74f13: Pulling fs layer \n",
      "\u001b[1B03310895: Pulling fs layer \n",
      "\u001b[1Ba5c35cf0: Pulling fs layer \n",
      "\u001b[1Bb5cae66b: Pulling fs layer \n",
      "\u001b[1Bc15a6664: Pulling fs layer \n",
      "\u001b[1Ba8ea64b5: Pulling fs layer \n",
      "\u001b[1B7e334275: Pulling fs layer \n",
      "\u001b[1Bdeece3a2: Pulling fs layer \n",
      "\u001b[1Bb700ef54: Pulling fs layer \n",
      "\u001b[1B82b52526: Pulling fs layer \n",
      "\u001b[1B6f03fe15: Pulling fs layer \n",
      "\u001b[1B20986992: Pulling fs layer \n",
      "\u001b[1B5634e631: Pulling fs layer \n",
      "\u001b[1Bfd77f613: Pulling fs layer \n",
      "\u001b[1B5ccf2133: Pulling fs layer \n",
      "\u001b[1B8fb8d7a7: Pulling fs layer \n",
      "\u001b[1B5d33e4c4: Pulling fs layer \n",
      "\u001b[13B8ea64b5: Waiting fs layer \n",
      "\u001b[1B3d172136: Pulling fs layer \n",
      "\u001b[22B42bc712: Waiting fs layer \n",
      "\u001b[1B939b4fd5: Pulling fs layer \n",
      "\u001b[1B0ba8d192: Pulling fs layer \n",
      "\u001b[1B214b779c: Pulling fs layer \n",
      "\u001b[1B8c47258b: Pulling fs layer \n",
      "\u001b[19Be334275: Waiting fs layer \n",
      "\u001b[27Be6a2dfe: Waiting fs layer \n",
      "\u001b[1B1b6d3a0f: Pulling fs layer \n",
      "\u001b[1B2153a832: Pulling fs layer \n",
      "\u001b[1B9027c903: Pulling fs layer \n",
      "\u001b[1B9f147d9f: Pulling fs layer \n",
      "\u001b[31B6c74f13: Waiting fs layer \n",
      "\u001b[1B791346a7: Pulling fs layer \n",
      "\u001b[1Bccbc9f2f: Pull complete 9.6MB/149.6MBB\u001b[38A\u001b[2K\u001b[36A\u001b[2K\u001b[39A\u001b[2K\u001b[39A\u001b[2K\u001b[33A\u001b[2K\u001b[39A\u001b[2K\u001b[37A\u001b[2K\u001b[31A\u001b[2K\u001b[30A\u001b[2K\u001b[29A\u001b[2K\u001b[30A\u001b[2K\u001b[34A\u001b[2K\u001b[30A\u001b[2K\u001b[34A\u001b[2K\u001b[30A\u001b[2K\u001b[34A\u001b[2K\u001b[30A\u001b[2K\u001b[39A\u001b[2K\u001b[30A\u001b[2K\u001b[39A\u001b[2K\u001b[30A\u001b[2K\u001b[30A\u001b[2K\u001b[30A\u001b[2K\u001b[30A\u001b[2K\u001b[30A\u001b[2K\u001b[38A\u001b[2K\u001b[30A\u001b[2K\u001b[38A\u001b[2K\u001b[30A\u001b[2K\u001b[38A\u001b[2K\u001b[38A\u001b[2K\u001b[30A\u001b[2K\u001b[30A\u001b[2K\u001b[37A\u001b[2K\u001b[30A\u001b[2K\u001b[37A\u001b[2K\u001b[30A\u001b[2K\u001b[37A\u001b[2K\u001b[30A\u001b[2K\u001b[37A\u001b[2K\u001b[30A\u001b[2K\u001b[37A\u001b[2K\u001b[30A\u001b[2K\u001b[37A\u001b[2K\u001b[30A\u001b[2K\u001b[37A\u001b[2K\u001b[34A\u001b[2K\u001b[37A\u001b[2K\u001b[34A\u001b[2K\u001b[37A\u001b[2K\u001b[30A\u001b[2K\u001b[37A\u001b[2K\u001b[37A\u001b[2K\u001b[36A\u001b[2K\u001b[30A\u001b[2K\u001b[28A\u001b[2K\u001b[30A\u001b[2K\u001b[28A\u001b[2K\u001b[30A\u001b[2K\u001b[28A\u001b[2K\u001b[30A\u001b[2K\u001b[28A\u001b[2K\u001b[30A\u001b[2K\u001b[28A\u001b[2K\u001b[30A\u001b[2K\u001b[28A\u001b[2K\u001b[30A\u001b[2K\u001b[28A\u001b[2K\u001b[30A\u001b[2K\u001b[28A\u001b[2K\u001b[30A\u001b[2K\u001b[28A\u001b[2K\u001b[30A\u001b[2K\u001b[28A\u001b[2K\u001b[30A\u001b[2K\u001b[28A\u001b[2K\u001b[30A\u001b[2K\u001b[28A\u001b[2K\u001b[30A\u001b[2K\u001b[28A\u001b[2K\u001b[30A\u001b[2K\u001b[28A\u001b[2K\u001b[30A\u001b[2K\u001b[28A\u001b[2K\u001b[30A\u001b[2K\u001b[28A\u001b[2K\u001b[30A\u001b[2K\u001b[34A\u001b[2K\u001b[30A\u001b[2K\u001b[34A\u001b[2K\u001b[30A\u001b[2K\u001b[34A\u001b[2K\u001b[30A\u001b[2K\u001b[34A\u001b[2K\u001b[30A\u001b[2K\u001b[34A\u001b[2K\u001b[30A\u001b[2K\u001b[34A\u001b[2K\u001b[30A\u001b[2K\u001b[34A\u001b[2K\u001b[30A\u001b[2K\u001b[34A\u001b[2K\u001b[30A\u001b[2K\u001b[34A\u001b[2K\u001b[30A\u001b[2K\u001b[34A\u001b[2K\u001b[30A\u001b[2K\u001b[34A\u001b[2K\u001b[30A\u001b[2K\u001b[34A\u001b[2K\u001b[30A\u001b[2K\u001b[34A\u001b[2K\u001b[30A\u001b[2K\u001b[34A\u001b[2K\u001b[30A\u001b[2K\u001b[34A\u001b[2K\u001b[30A\u001b[2K\u001b[34A\u001b[2K\u001b[30A\u001b[2K\u001b[28A\u001b[2K\u001b[28A\u001b[2K\u001b[30A\u001b[2K\u001b[28A\u001b[2K\u001b[30A\u001b[2K\u001b[28A\u001b[2K\u001b[30A\u001b[2K\u001b[30A\u001b[2K\u001b[28A\u001b[2K\u001b[30A\u001b[2K\u001b[28A\u001b[2K\u001b[30A\u001b[2K\u001b[28A\u001b[2K\u001b[30A\u001b[2K\u001b[34A\u001b[2K\u001b[30A\u001b[2K\u001b[30A\u001b[2K\u001b[30A\u001b[2K\u001b[30A\u001b[2K\u001b[30A\u001b[2K\u001b[30A\u001b[2K\u001b[30A\u001b[2K\u001b[34A\u001b[2K\u001b[30A\u001b[2K\u001b[34A\u001b[2K\u001b[30A\u001b[2K\u001b[34A\u001b[2K\u001b[30A\u001b[2K\u001b[34A\u001b[2K\u001b[30A\u001b[2K\u001b[34A\u001b[2K\u001b[30A\u001b[2K\u001b[34A\u001b[2K\u001b[30A\u001b[2K\u001b[34A\u001b[2K\u001b[30A\u001b[2K\u001b[28A\u001b[2K\u001b[30A\u001b[2K\u001b[28A\u001b[2K\u001b[30A\u001b[2K\u001b[28A\u001b[2K\u001b[30A\u001b[2K\u001b[28A\u001b[2K\u001b[30A\u001b[2K\u001b[28A\u001b[2K\u001b[30A\u001b[2K\u001b[28A\u001b[2K\u001b[30A\u001b[2K\u001b[28A\u001b[2K\u001b[30A\u001b[2K\u001b[28A\u001b[2K\u001b[28A\u001b[2K\u001b[28A\u001b[2K\u001b[28A\u001b[2K\u001b[28A\u001b[2K\u001b[28A\u001b[2K\u001b[28A\u001b[2K\u001b[28A\u001b[2K\u001b[28A\u001b[2K\u001b[28A\u001b[2K\u001b[28A\u001b[2K\u001b[30A\u001b[2K\u001b[28A\u001b[2K\u001b[30A\u001b[2K\u001b[28A\u001b[2K\u001b[30A\u001b[2K\u001b[34A\u001b[2K\u001b[30A\u001b[2K\u001b[34A\u001b[2K\u001b[30A\u001b[2K\u001b[34A\u001b[2K\u001b[28A\u001b[2K\u001b[27A\u001b[2K\u001b[28A\u001b[2K\u001b[34A\u001b[2K\u001b[30A\u001b[2K\u001b[34A\u001b[2K\u001b[30A\u001b[2K\u001b[34A\u001b[2K\u001b[30A\u001b[2K\u001b[34A\u001b[2K\u001b[30A\u001b[2K\u001b[34A\u001b[2K\u001b[30A\u001b[2K\u001b[34A\u001b[2K\u001b[30A\u001b[2K\u001b[28A\u001b[2K\u001b[30A\u001b[2K\u001b[28A\u001b[2K\u001b[30A\u001b[2K\u001b[26A\u001b[2K\u001b[25A\u001b[2K\u001b[34A\u001b[2K\u001b[30A\u001b[2K\u001b[34A\u001b[2K\u001b[30A\u001b[2K\u001b[34A\u001b[2K\u001b[30A\u001b[2K\u001b[34A\u001b[2K\u001b[30A\u001b[2K\u001b[34A\u001b[2K\u001b[28A\u001b[2K\u001b[34A\u001b[2K\u001b[30A\u001b[2K\u001b[34A\u001b[2K\u001b[30A\u001b[2K\u001b[34A\u001b[2K\u001b[24A\u001b[2K\u001b[34A\u001b[2K\u001b[24A\u001b[2K\u001b[34A\u001b[2K\u001b[24A\u001b[2K\u001b[34A\u001b[2K\u001b[24A\u001b[2K\u001b[30A\u001b[2K\u001b[24A\u001b[2K\u001b[30A\u001b[2K\u001b[24A\u001b[2K\u001b[28A\u001b[2K\u001b[24A\u001b[2K\u001b[28A\u001b[2K\u001b[24A\u001b[2K\u001b[30A\u001b[2K\u001b[24A\u001b[2K\u001b[30A\u001b[2K\u001b[24A\u001b[2K\u001b[30A\u001b[2K\u001b[34A\u001b[2K\u001b[34A\u001b[2K\u001b[30A\u001b[2K\u001b[23A\u001b[2K\u001b[30A\u001b[2K\u001b[23A\u001b[2K\u001b[30A\u001b[2K\u001b[23A\u001b[2K\u001b[30A\u001b[2K\u001b[23A\u001b[2K\u001b[34A\u001b[2K\u001b[23A\u001b[2K\u001b[34A\u001b[2K\u001b[23A\u001b[2K\u001b[34A\u001b[2K\u001b[23A\u001b[2K\u001b[34A\u001b[2K\u001b[23A\u001b[2K\u001b[34A\u001b[2K\u001b[23A\u001b[2K\u001b[34A\u001b[2K\u001b[23A\u001b[2K\u001b[34A\u001b[2K\u001b[23A\u001b[2K\u001b[34A\u001b[2K\u001b[23A\u001b[2K\u001b[34A\u001b[2K\u001b[23A\u001b[2K\u001b[34A\u001b[2K\u001b[23A\u001b[2K\u001b[34A\u001b[2K\u001b[23A\u001b[2K\u001b[34A\u001b[2K\u001b[23A\u001b[2K\u001b[34A\u001b[2K\u001b[30A\u001b[2K\u001b[34A\u001b[2K\u001b[30A\u001b[2K\u001b[34A\u001b[2K\u001b[30A\u001b[2K\u001b[34A\u001b[2K\u001b[19A\u001b[2K\u001b[34A\u001b[2K\u001b[18A\u001b[2K\u001b[34A\u001b[2K\u001b[30A\u001b[2K\u001b[34A\u001b[2K\u001b[30A\u001b[2K\u001b[34A\u001b[2K\u001b[16A\u001b[2K\u001b[34A\u001b[2K\u001b[30A\u001b[2K\u001b[34A\u001b[2K\u001b[14A\u001b[2K\u001b[34A\u001b[2K\u001b[30A\u001b[2K\u001b[30A\u001b[2K\u001b[11A\u001b[2K\u001b[30A\u001b[2K\u001b[34A\u001b[2K\u001b[30A\u001b[2K\u001b[34A\u001b[2K\u001b[30A\u001b[2K\u001b[34A\u001b[2K\u001b[8A\u001b[2K\u001b[34A\u001b[2K\u001b[30A\u001b[2K\u001b[34A\u001b[2K\u001b[6A\u001b[2K\u001b[34A\u001b[2K\u001b[30A\u001b[2K\u001b[34A\u001b[2K\u001b[30A\u001b[2K\u001b[5A\u001b[2K\u001b[3A\u001b[2K\u001b[30A\u001b[2K\u001b[3A\u001b[2K\u001b[5A\u001b[2K\u001b[3A\u001b[2K\u001b[30A\u001b[2K\u001b[3A\u001b[2K\u001b[30A\u001b[2K\u001b[3A\u001b[2K\u001b[34A\u001b[2K\u001b[3A\u001b[2K\u001b[34A\u001b[2K\u001b[3A\u001b[2K\u001b[34A\u001b[2K\u001b[3A\u001b[2K\u001b[5A\u001b[2K\u001b[30A\u001b[2K\u001b[5A\u001b[2K\u001b[30A\u001b[2K\u001b[34A\u001b[2K\u001b[30A\u001b[2K\u001b[34A\u001b[2K\u001b[30A\u001b[2K\u001b[34A\u001b[2K\u001b[3A\u001b[2K\u001b[34A\u001b[2K\u001b[30A\u001b[2K\u001b[34A\u001b[2K\u001b[30A\u001b[2K\u001b[3A\u001b[2K\u001b[2A\u001b[2K\u001b[3A\u001b[2K\u001b[2A\u001b[2K\u001b[34A\u001b[2K\u001b[2A\u001b[2K\u001b[34A\u001b[2K\u001b[2A\u001b[2K\u001b[34A\u001b[2K\u001b[3A\u001b[2K\u001b[34A\u001b[2K\u001b[34A\u001b[2K\u001b[34A\u001b[2K\u001b[34A\u001b[2K\u001b[34A\u001b[2K\u001b[34A\u001b[2K\u001b[3A\u001b[2K\u001b[34A\u001b[2K\u001b[3A\u001b[2K\u001b[34A\u001b[2K\u001b[34A\u001b[2K\u001b[3A\u001b[2K\u001b[34A\u001b[2K\u001b[3A\u001b[2K\u001b[34A\u001b[2K\u001b[1A\u001b[2K\u001b[34A\u001b[2K\u001b[3A\u001b[2K\u001b[34A\u001b[2K\u001b[34A\u001b[2K\u001b[34A\u001b[2K\u001b[34A\u001b[2K\u001b[5A\u001b[2K\u001b[3A\u001b[2K\u001b[5A\u001b[2K\u001b[5A\u001b[2K\u001b[5A\u001b[2K\u001b[3A\u001b[2K\u001b[5A\u001b[2K\u001b[5A\u001b[2K\u001b[5A\u001b[2K\u001b[5A\u001b[2K\u001b[5A\u001b[2K\u001b[3A\u001b[2K\u001b[5A\u001b[2K\u001b[3A\u001b[2K\u001b[5A\u001b[2K\u001b[3A\u001b[2K\u001b[5A\u001b[2K\u001b[3A\u001b[2K\u001b[5A\u001b[2K\u001b[3A\u001b[2K\u001b[5A\u001b[2K\u001b[3A\u001b[2K\u001b[5A\u001b[2K\u001b[34A\u001b[2K\u001b[5A\u001b[2K\u001b[34A\u001b[2K\u001b[5A\u001b[2K\u001b[34A\u001b[2K\u001b[3A\u001b[2K\u001b[3A\u001b[2K\u001b[3A\u001b[2K\u001b[5A\u001b[2K\u001b[34A\u001b[2K\u001b[3A\u001b[2K\u001b[34A\u001b[2K\u001b[3A\u001b[2K\u001b[34A\u001b[2K\u001b[3A\u001b[2K\u001b[34A\u001b[2K\u001b[3A\u001b[2K\u001b[34A\u001b[2K\u001b[5A\u001b[2K\u001b[34A\u001b[2K\u001b[3A\u001b[2K\u001b[34A\u001b[2K\u001b[3A\u001b[2K\u001b[34A\u001b[2K\u001b[3A\u001b[2K\u001b[3A\u001b[2K\u001b[3A\u001b[2K\u001b[34A\u001b[2K\u001b[3A\u001b[2K\u001b[34A\u001b[2K\u001b[3A\u001b[2K\u001b[34A\u001b[2K\u001b[3A\u001b[2K\u001b[34A\u001b[2K\u001b[3A\u001b[2K\u001b[34A\u001b[2K\u001b[3A\u001b[2K\u001b[34A\u001b[2K\u001b[3A\u001b[2K\u001b[34A\u001b[2K\u001b[3A\u001b[2K\u001b[34A\u001b[2K\u001b[3A\u001b[2K\u001b[34A\u001b[2K\u001b[3A\u001b[2K\u001b[34A\u001b[2K\u001b[3A\u001b[2K\u001b[34A\u001b[2K\u001b[3A\u001b[2K\u001b[34A\u001b[2K\u001b[3A\u001b[2K\u001b[34A\u001b[2K\u001b[3A\u001b[2K\u001b[34A\u001b[2K\u001b[3A\u001b[2K\u001b[34A\u001b[2K\u001b[3A\u001b[2K\u001b[34A\u001b[2K\u001b[3A\u001b[2K\u001b[34A\u001b[2K\u001b[3A\u001b[2K\u001b[34A\u001b[2K\u001b[3A\u001b[2K\u001b[34A\u001b[2K\u001b[3A\u001b[2K\u001b[5A\u001b[2K\u001b[3A\u001b[2K\u001b[5A\u001b[2K\u001b[3A\u001b[2K\u001b[5A\u001b[2K\u001b[3A\u001b[2K\u001b[34A\u001b[2K\u001b[5A\u001b[2K\u001b[34A\u001b[2K\u001b[5A\u001b[2K\u001b[34A\u001b[2K\u001b[3A\u001b[2K\u001b[34A\u001b[2K\u001b[5A\u001b[2K\u001b[34A\u001b[2K\u001b[5A\u001b[2K\u001b[34A\u001b[2K\u001b[5A\u001b[2K\u001b[3A\u001b[2K\u001b[5A\u001b[2K\u001b[5A\u001b[2K\u001b[3A\u001b[2K\u001b[3A\u001b[2K\u001b[3A\u001b[2K\u001b[3A\u001b[2K\u001b[3A\u001b[2K\u001b[3A\u001b[2K\u001b[3A\u001b[2K\u001b[3A\u001b[2K\u001b[3A\u001b[2K\u001b[3A\u001b[2K\u001b[3A\u001b[2K\u001b[3A\u001b[2K\u001b[3A\u001b[2K\u001b[34A\u001b[2K\u001b[34A\u001b[2K\u001b[34A\u001b[2K\u001b[34A\u001b[2K\u001b[34A\u001b[2K\u001b[3A\u001b[2K\u001b[34A\u001b[2K\u001b[3A\u001b[2K\u001b[3A\u001b[2K\u001b[34A\u001b[2K\u001b[3A\u001b[2K\u001b[34A\u001b[2K\u001b[3A\u001b[2K\u001b[3A\u001b[2K\u001b[3A\u001b[2K\u001b[3A\u001b[2K\u001b[3A\u001b[2K\u001b[3A\u001b[2K\u001b[3A\u001b[2K\u001b[33A\u001b[2K\u001b[33A\u001b[2K\u001b[3A\u001b[2K\u001b[32A\u001b[2K\u001b[3A\u001b[2K\u001b[32A\u001b[2K\u001b[3A\u001b[2K\u001b[31A\u001b[2K\u001b[3A\u001b[2K\u001b[30A\u001b[2K\u001b[30A\u001b[2K\u001b[30A\u001b[2K\u001b[30A\u001b[2K\u001b[30A\u001b[2K\u001b[30A\u001b[2K\u001b[30A\u001b[2K\u001b[30A\u001b[2K\u001b[30A\u001b[2K\u001b[30A\u001b[2K\u001b[30A\u001b[2K\u001b[30A\u001b[2K\u001b[30A\u001b[2K\u001b[30A\u001b[2K\u001b[30A\u001b[2K\u001b[30A\u001b[2K\u001b[30A\u001b[2K\u001b[30A\u001b[2K\u001b[30A\u001b[2K\u001b[3A\u001b[2K\u001b[3A\u001b[2K\u001b[3A\u001b[2K\u001b[3A\u001b[2K\u001b[3A\u001b[2K\u001b[3A\u001b[2K\u001b[30A\u001b[2K\u001b[30A\u001b[2K\u001b[30A\u001b[2K\u001b[30A\u001b[2K\u001b[30A\u001b[2K\u001b[30A\u001b[2K\u001b[30A\u001b[2K\u001b[30A\u001b[2K\u001b[30A\u001b[2K\u001b[30A\u001b[2K\u001b[30A\u001b[2K\u001b[30A\u001b[2K\u001b[30A\u001b[2K\u001b[30A\u001b[2K\u001b[30A\u001b[2K\u001b[30A\u001b[2K\u001b[30A\u001b[2K\u001b[30A\u001b[2K\u001b[30A\u001b[2K\u001b[30A\u001b[2K\u001b[30A\u001b[2K\u001b[30A\u001b[2K\u001b[30A\u001b[2K\u001b[30A\u001b[2K\u001b[30A\u001b[2K\u001b[30A\u001b[2K\u001b[30A\u001b[2K\u001b[30A\u001b[2K\u001b[30A\u001b[2K\u001b[30A\u001b[2K\u001b[30A\u001b[2K\u001b[30A\u001b[2K\u001b[30A\u001b[2K\u001b[30A\u001b[2K\u001b[30A\u001b[2K\u001b[30A\u001b[2K\u001b[30A\u001b[2K\u001b[30A\u001b[2K\u001b[30A\u001b[2K\u001b[30A\u001b[2K\u001b[30A\u001b[2K\u001b[30A\u001b[2K\u001b[30A\u001b[2K\u001b[30A\u001b[2K\u001b[30A\u001b[2K\u001b[30A\u001b[2K\u001b[30A\u001b[2K\u001b[30A\u001b[2K\u001b[30A\u001b[2K\u001b[30A\u001b[2K\u001b[30A\u001b[2K\u001b[30A\u001b[2K\u001b[30A\u001b[2K\u001b[30A\u001b[2K\u001b[30A\u001b[2K\u001b[30A\u001b[2K\u001b[30A\u001b[2K\u001b[30A\u001b[2K\u001b[30A\u001b[2K\u001b[30A\u001b[2K\u001b[30A\u001b[2K\u001b[30A\u001b[2K\u001b[30A\u001b[2K\u001b[30A\u001b[2K\u001b[30A\u001b[2K\u001b[30A\u001b[2K\u001b[30A\u001b[2K\u001b[30A\u001b[2K\u001b[30A\u001b[2K\u001b[30A\u001b[2K\u001b[30A\u001b[2K\u001b[30A\u001b[2K\u001b[30A\u001b[2K\u001b[30A\u001b[2K\u001b[30A\u001b[2K\u001b[30A\u001b[2K\u001b[30A\u001b[2K\u001b[30A\u001b[2K\u001b[30A\u001b[2K\u001b[30A\u001b[2K\u001b[30A\u001b[2K\u001b[30A\u001b[2K\u001b[30A\u001b[2K\u001b[30A\u001b[2K\u001b[30A\u001b[2K\u001b[30A\u001b[2K\u001b[30A\u001b[2K\u001b[30A\u001b[2K\u001b[30A\u001b[2K\u001b[30A\u001b[2K\u001b[30A\u001b[2K\u001b[30A\u001b[2K\u001b[30A\u001b[2K\u001b[30A\u001b[2K\u001b[30A\u001b[2K\u001b[30A\u001b[2K\u001b[30A\u001b[2K\u001b[30A\u001b[2K\u001b[30A\u001b[2K\u001b[30A\u001b[2K\u001b[30A\u001b[2K\u001b[30A\u001b[2K\u001b[30A\u001b[2K\u001b[30A\u001b[2K\u001b[30A\u001b[2K\u001b[30A\u001b[2K\u001b[30A\u001b[2K\u001b[30A\u001b[2K\u001b[30A\u001b[2K\u001b[30A\u001b[2K\u001b[30A\u001b[2K\u001b[30A\u001b[2K\u001b[30A\u001b[2K\u001b[30A\u001b[2K\u001b[30A\u001b[2K\u001b[30A\u001b[2K\u001b[30A\u001b[2K\u001b[30A\u001b[2K\u001b[30A\u001b[2K\u001b[30A\u001b[2K\u001b[30A\u001b[2K\u001b[30A\u001b[2K\u001b[30A\u001b[2K\u001b[30A\u001b[2K\u001b[30A\u001b[2K\u001b[30A\u001b[2K\u001b[30A\u001b[2K\u001b[30A\u001b[2K\u001b[30A\u001b[2K\u001b[30A\u001b[2K\u001b[30A\u001b[2K\u001b[30A\u001b[2K\u001b[30A\u001b[2K\u001b[30A\u001b[2K\u001b[30A\u001b[2K\u001b[30A\u001b[2K\u001b[30A\u001b[2K\u001b[30A\u001b[2K\u001b[30A\u001b[2K\u001b[30A\u001b[2K\u001b[30A\u001b[2K\u001b[30A\u001b[2K\u001b[30A\u001b[2K\u001b[30A\u001b[2K\u001b[30A\u001b[2K\u001b[30A\u001b[2K\u001b[30A\u001b[2K\u001b[30A\u001b[2K\u001b[30A\u001b[2K\u001b[30A\u001b[2K\u001b[30A\u001b[2K\u001b[30A\u001b[2K\u001b[30A\u001b[2K\u001b[30A\u001b[2K\u001b[30A\u001b[2K\u001b[30A\u001b[2K\u001b[30A\u001b[2K\u001b[30A\u001b[2K\u001b[30A\u001b[2K\u001b[30A\u001b[2K\u001b[30A\u001b[2K\u001b[30A\u001b[2K\u001b[30A\u001b[2K\u001b[30A\u001b[2K\u001b[30A\u001b[2K\u001b[30A\u001b[2K\u001b[30A\u001b[2K\u001b[30A\u001b[2K\u001b[30A\u001b[2K\u001b[30A\u001b[2K\u001b[30A\u001b[2K\u001b[30A\u001b[2K\u001b[30A\u001b[2K\u001b[30A\u001b[2K\u001b[30A\u001b[2K\u001b[30A\u001b[2K\u001b[30A\u001b[2K\u001b[30A\u001b[2K\u001b[30A\u001b[2K\u001b[30A\u001b[2K\u001b[30A\u001b[2K\u001b[30A\u001b[2K\u001b[30A\u001b[2K\u001b[30A\u001b[2K\u001b[30A\u001b[2K\u001b[30A\u001b[2K\u001b[30A\u001b[2K\u001b[30A\u001b[2K\u001b[30A\u001b[2K\u001b[30A\u001b[2K\u001b[30A\u001b[2K\u001b[30A\u001b[2K\u001b[30A\u001b[2K\u001b[30A\u001b[2K\u001b[30A\u001b[2K\u001b[30A\u001b[2K\u001b[30A\u001b[2K\u001b[30A\u001b[2K\u001b[30A\u001b[2K\u001b[30A\u001b[2K\u001b[30A\u001b[2K\u001b[30A\u001b[2K\u001b[30A\u001b[2K\u001b[30A\u001b[2K\u001b[30A\u001b[2K\u001b[30A\u001b[2K\u001b[30A\u001b[2K\u001b[30A\u001b[2K\u001b[30A\u001b[2K\u001b[30A\u001b[2K\u001b[30A\u001b[2K\u001b[30A\u001b[2K\u001b[30A\u001b[2K\u001b[30A\u001b[2K\u001b[30A\u001b[2K\u001b[30A\u001b[2K\u001b[30A\u001b[2K\u001b[30A\u001b[2K\u001b[30A\u001b[2K\u001b[30A\u001b[2K\u001b[30A\u001b[2K\u001b[30A\u001b[2K\u001b[30A\u001b[2K\u001b[30A\u001b[2K\u001b[30A\u001b[2K\u001b[30A\u001b[2K\u001b[30A\u001b[2K\u001b[30A\u001b[2K\u001b[30A\u001b[2K\u001b[30A\u001b[2K\u001b[30A\u001b[2K\u001b[30A\u001b[2K\u001b[30A\u001b[2K\u001b[30A\u001b[2K\u001b[30A\u001b[2K\u001b[30A\u001b[2K\u001b[30A\u001b[2K\u001b[30A\u001b[2K\u001b[30A\u001b[2K\u001b[30A\u001b[2K\u001b[30A\u001b[2K\u001b[30A\u001b[2K\u001b[30A\u001b[2K\u001b[30A\u001b[2K\u001b[30A\u001b[2K\u001b[30A\u001b[2K\u001b[30A\u001b[2K\u001b[30A\u001b[2K\u001b[30A\u001b[2K\u001b[30A\u001b[2K\u001b[30A\u001b[2K\u001b[30A\u001b[2K\u001b[30A\u001b[2K\u001b[30A\u001b[2K\u001b[30A\u001b[2K\u001b[30A\u001b[2K\u001b[30A\u001b[2K\u001b[30A\u001b[2K\u001b[30A\u001b[2K\u001b[30A\u001b[2K\u001b[30A\u001b[2K\u001b[30A\u001b[2K\u001b[30A\u001b[2K\u001b[30A\u001b[2K\u001b[30A\u001b[2K\u001b[30A\u001b[2K\u001b[30A\u001b[2K\u001b[30A\u001b[2K\u001b[30A\u001b[2K\u001b[30A\u001b[2K\u001b[30A\u001b[2K\u001b[30A\u001b[2K\u001b[30A\u001b[2K\u001b[30A\u001b[2K\u001b[30A\u001b[2K\u001b[30A\u001b[2K\u001b[30A\u001b[2K\u001b[30A\u001b[2K\u001b[30A\u001b[2K\u001b[30A\u001b[2K\u001b[30A\u001b[2K\u001b[30A\u001b[2K\u001b[30A\u001b[2K\u001b[30A\u001b[2K\u001b[30A\u001b[2K\u001b[30A\u001b[2K\u001b[30A\u001b[2K\u001b[30A\u001b[2K\u001b[29A\u001b[2K\u001b[29A\u001b[2K\u001b[28A\u001b[2K\u001b[28A\u001b[2K\u001b[28A\u001b[2K\u001b[28A\u001b[2K\u001b[28A\u001b[2K\u001b[28A\u001b[2K\u001b[28A\u001b[2K\u001b[28A\u001b[2K\u001b[28A\u001b[2K\u001b[28A\u001b[2K\u001b[28A\u001b[2K\u001b[28A\u001b[2K\u001b[28A\u001b[2K\u001b[28A\u001b[2K\u001b[28A\u001b[2K\u001b[28A\u001b[2K\u001b[28A\u001b[2K\u001b[28A\u001b[2K\u001b[28A\u001b[2K\u001b[28A\u001b[2K\u001b[28A\u001b[2K\u001b[28A\u001b[2K\u001b[28A\u001b[2K\u001b[28A\u001b[2K\u001b[28A\u001b[2K\u001b[28A\u001b[2K\u001b[28A\u001b[2K\u001b[28A\u001b[2K\u001b[28A\u001b[2K\u001b[28A\u001b[2K\u001b[28A\u001b[2K\u001b[28A\u001b[2K\u001b[28A\u001b[2K\u001b[28A\u001b[2K\u001b[28A\u001b[2K\u001b[28A\u001b[2K\u001b[28A\u001b[2K\u001b[28A\u001b[2K\u001b[28A\u001b[2K\u001b[28A\u001b[2K\u001b[28A\u001b[2K\u001b[28A\u001b[2K\u001b[28A\u001b[2K\u001b[28A\u001b[2K\u001b[28A\u001b[2K\u001b[28A\u001b[2K\u001b[28A\u001b[2K\u001b[28A\u001b[2K\u001b[28A\u001b[2K\u001b[28A\u001b[2K\u001b[28A\u001b[2K\u001b[28A\u001b[2K\u001b[28A\u001b[2K\u001b[28A\u001b[2K\u001b[28A\u001b[2K\u001b[28A\u001b[2K\u001b[28A\u001b[2K\u001b[28A\u001b[2K\u001b[28A\u001b[2K\u001b[28A\u001b[2K\u001b[28A\u001b[2K\u001b[28A\u001b[2K\u001b[28A\u001b[2K\u001b[28A\u001b[2K\u001b[28A\u001b[2K\u001b[28A\u001b[2K\u001b[28A\u001b[2K\u001b[28A\u001b[2K\u001b[28A\u001b[2K\u001b[28A\u001b[2K\u001b[28A\u001b[2K\u001b[28A\u001b[2K\u001b[28A\u001b[2K\u001b[28A\u001b[2K\u001b[28A\u001b[2K\u001b[28A\u001b[2K\u001b[28A\u001b[2K\u001b[28A\u001b[2K\u001b[28A\u001b[2K\u001b[28A\u001b[2K\u001b[28A\u001b[2K\u001b[28A\u001b[2K\u001b[28A\u001b[2K\u001b[28A\u001b[2K\u001b[28A\u001b[2K\u001b[28A\u001b[2K\u001b[28A\u001b[2K\u001b[28A\u001b[2K\u001b[28A\u001b[2K\u001b[28A\u001b[2K\u001b[28A\u001b[2K\u001b[28A\u001b[2K\u001b[28A\u001b[2K\u001b[28A\u001b[2K\u001b[28A\u001b[2K\u001b[28A\u001b[2K\u001b[28A\u001b[2K\u001b[28A\u001b[2K\u001b[28A\u001b[2K\u001b[28A\u001b[2K\u001b[28A\u001b[2K\u001b[28A\u001b[2K\u001b[28A\u001b[2K\u001b[28A\u001b[2K\u001b[28A\u001b[2K\u001b[28A\u001b[2K\u001b[28A\u001b[2K\u001b[28A\u001b[2K\u001b[28A\u001b[2K\u001b[28A\u001b[2K\u001b[28A\u001b[2K\u001b[28A\u001b[2K\u001b[28A\u001b[2K\u001b[28A\u001b[2K\u001b[28A\u001b[2K\u001b[28A\u001b[2K\u001b[28A\u001b[2K\u001b[28A\u001b[2K\u001b[28A\u001b[2K\u001b[28A\u001b[2K\u001b[28A\u001b[2K\u001b[28A\u001b[2K\u001b[28A\u001b[2K\u001b[28A\u001b[2K\u001b[28A\u001b[2K\u001b[28A\u001b[2K\u001b[28A\u001b[2K\u001b[28A\u001b[2K\u001b[28A\u001b[2K\u001b[28A\u001b[2K\u001b[28A\u001b[2K\u001b[28A\u001b[2K\u001b[28A\u001b[2K\u001b[28A\u001b[2K\u001b[28A\u001b[2K\u001b[28A\u001b[2K\u001b[28A\u001b[2K\u001b[28A\u001b[2K\u001b[28A\u001b[2K\u001b[28A\u001b[2K\u001b[28A\u001b[2K\u001b[28A\u001b[2K\u001b[28A\u001b[2K\u001b[28A\u001b[2K\u001b[28A\u001b[2K\u001b[28A\u001b[2K\u001b[28A\u001b[2K\u001b[28A\u001b[2K\u001b[28A\u001b[2K\u001b[28A\u001b[2K\u001b[28A\u001b[2K\u001b[28A\u001b[2K\u001b[28A\u001b[2K\u001b[28A\u001b[2K\u001b[28A\u001b[2K\u001b[28A\u001b[2K\u001b[28A\u001b[2K\u001b[28A\u001b[2K\u001b[28A\u001b[2K\u001b[28A\u001b[2K\u001b[28A\u001b[2K\u001b[28A\u001b[2K\u001b[28A\u001b[2K\u001b[28A\u001b[2K\u001b[28A\u001b[2K\u001b[28A\u001b[2K\u001b[28A\u001b[2K\u001b[28A\u001b[2K\u001b[28A\u001b[2K\u001b[28A\u001b[2K\u001b[28A\u001b[2K\u001b[28A\u001b[2K\u001b[28A\u001b[2K\u001b[28A\u001b[2K\u001b[27A\u001b[2K\u001b[27A\u001b[2K\u001b[27A\u001b[2K\u001b[27A\u001b[2K\u001b[27A\u001b[2K\u001b[27A\u001b[2K\u001b[27A\u001b[2K\u001b[27A\u001b[2K\u001b[27A\u001b[2K\u001b[27A\u001b[2K\u001b[27A\u001b[2K\u001b[27A\u001b[2K\u001b[27A\u001b[2K\u001b[27A\u001b[2K\u001b[27A\u001b[2K\u001b[27A\u001b[2K\u001b[27A\u001b[2K\u001b[27A\u001b[2K\u001b[27A\u001b[2K\u001b[26A\u001b[2K\u001b[26A\u001b[2K\u001b[25A\u001b[2K\u001b[25A\u001b[2K\u001b[24A\u001b[2K\u001b[24A\u001b[2K\u001b[24A\u001b[2K\u001b[24A\u001b[2K\u001b[24A\u001b[2K\u001b[24A\u001b[2K\u001b[24A\u001b[2K\u001b[24A\u001b[2K\u001b[24A\u001b[2K\u001b[24A\u001b[2K\u001b[24A\u001b[2K\u001b[24A\u001b[2K\u001b[24A\u001b[2K\u001b[24A\u001b[2K\u001b[24A\u001b[2K\u001b[24A\u001b[2K\u001b[24A\u001b[2K\u001b[24A\u001b[2K\u001b[24A\u001b[2K\u001b[24A\u001b[2K\u001b[24A\u001b[2K\u001b[24A\u001b[2K\u001b[24A\u001b[2K\u001b[24A\u001b[2K\u001b[24A\u001b[2K\u001b[24A\u001b[2K\u001b[24A\u001b[2K\u001b[24A\u001b[2K\u001b[24A\u001b[2K\u001b[24A\u001b[2K\u001b[24A\u001b[2K\u001b[24A\u001b[2K\u001b[24A\u001b[2K\u001b[24A\u001b[2K\u001b[24A\u001b[2K\u001b[24A\u001b[2K\u001b[24A\u001b[2K\u001b[24A\u001b[2K\u001b[24A\u001b[2K\u001b[24A\u001b[2K\u001b[24A\u001b[2K\u001b[24A\u001b[2K\u001b[24A\u001b[2K\u001b[24A\u001b[2K\u001b[24A\u001b[2K\u001b[24A\u001b[2K\u001b[24A\u001b[2K\u001b[24A\u001b[2K\u001b[24A\u001b[2K\u001b[24A\u001b[2K\u001b[24A\u001b[2K\u001b[24A\u001b[2K\u001b[24A\u001b[2K\u001b[24A\u001b[2K\u001b[24A\u001b[2K\u001b[24A\u001b[2K\u001b[24A\u001b[2K\u001b[24A\u001b[2K\u001b[24A\u001b[2K\u001b[24A\u001b[2K\u001b[24A\u001b[2K\u001b[24A\u001b[2K\u001b[24A\u001b[2K\u001b[24A\u001b[2K\u001b[24A\u001b[2K\u001b[24A\u001b[2K\u001b[24A\u001b[2K\u001b[24A\u001b[2K\u001b[24A\u001b[2K\u001b[24A\u001b[2K\u001b[24A\u001b[2K\u001b[24A\u001b[2K\u001b[24A\u001b[2K\u001b[24A\u001b[2K\u001b[24A\u001b[2K\u001b[24A\u001b[2K\u001b[24A\u001b[2K\u001b[24A\u001b[2K\u001b[24A\u001b[2K\u001b[24A\u001b[2K\u001b[24A\u001b[2K\u001b[23A\u001b[2K\u001b[23A\u001b[2K\u001b[23A\u001b[2K\u001b[23A\u001b[2K\u001b[23A\u001b[2K\u001b[23A\u001b[2K\u001b[23A\u001b[2K\u001b[23A\u001b[2K\u001b[23A\u001b[2K\u001b[23A\u001b[2K\u001b[23A\u001b[2K\u001b[23A\u001b[2K\u001b[23A\u001b[2K\u001b[23A\u001b[2K\u001b[23A\u001b[2K\u001b[23A\u001b[2K\u001b[23A\u001b[2K\u001b[23A\u001b[2K\u001b[23A\u001b[2K\u001b[23A\u001b[2K\u001b[23A\u001b[2K\u001b[23A\u001b[2K\u001b[23A\u001b[2K\u001b[23A\u001b[2K\u001b[23A\u001b[2K\u001b[23A\u001b[2K\u001b[23A\u001b[2K\u001b[23A\u001b[2K\u001b[23A\u001b[2K\u001b[23A\u001b[2K\u001b[23A\u001b[2K\u001b[23A\u001b[2K\u001b[23A\u001b[2K\u001b[23A\u001b[2K\u001b[23A\u001b[2K\u001b[23A\u001b[2K\u001b[23A\u001b[2K\u001b[23A\u001b[2K\u001b[23A\u001b[2K\u001b[23A\u001b[2K\u001b[23A\u001b[2K\u001b[23A\u001b[2K\u001b[23A\u001b[2K\u001b[23A\u001b[2K\u001b[23A\u001b[2K\u001b[23A\u001b[2K\u001b[23A\u001b[2K\u001b[23A\u001b[2K\u001b[23A\u001b[2K\u001b[23A\u001b[2K\u001b[23A\u001b[2K\u001b[23A\u001b[2K\u001b[23A\u001b[2K\u001b[23A\u001b[2K\u001b[23A\u001b[2K\u001b[23A\u001b[2K\u001b[23A\u001b[2K\u001b[23A\u001b[2K\u001b[23A\u001b[2K\u001b[23A\u001b[2K\u001b[23A\u001b[2K\u001b[23A\u001b[2K\u001b[23A\u001b[2K\u001b[23A\u001b[2K\u001b[23A\u001b[2K\u001b[23A\u001b[2K\u001b[23A\u001b[2K\u001b[23A\u001b[2K\u001b[23A\u001b[2K\u001b[23A\u001b[2K\u001b[23A\u001b[2K\u001b[23A\u001b[2K\u001b[23A\u001b[2K\u001b[23A\u001b[2K\u001b[23A\u001b[2K\u001b[23A\u001b[2K\u001b[23A\u001b[2K\u001b[23A\u001b[2K\u001b[23A\u001b[2K\u001b[23A\u001b[2K\u001b[23A\u001b[2K\u001b[22A\u001b[2K\u001b[22A\u001b[2K\u001b[22A\u001b[2K\u001b[22A\u001b[2K\u001b[22A\u001b[2K\u001b[22A\u001b[2K\u001b[21A\u001b[2K\u001b[21A\u001b[2K\u001b[21A\u001b[2K\u001b[20A\u001b[2K\u001b[20A\u001b[2K\u001b[20A\u001b[2K\u001b[20A\u001b[2K\u001b[20A\u001b[2K\u001b[19A\u001b[2K\u001b[19A\u001b[2K\u001b[18A\u001b[2K\u001b[18A\u001b[2K\u001b[17A\u001b[2K\u001b[17A\u001b[2K\u001b[17A\u001b[2K\u001b[17A\u001b[2K\u001b[17A\u001b[2K\u001b[17A\u001b[2K\u001b[17A\u001b[2K\u001b[17A\u001b[2K\u001b[17A\u001b[2K\u001b[17A\u001b[2K\u001b[17A\u001b[2K\u001b[17A\u001b[2K\u001b[17A\u001b[2K\u001b[17A\u001b[2K\u001b[17A\u001b[2K\u001b[17A\u001b[2K\u001b[17A\u001b[2K\u001b[17A\u001b[2K\u001b[17A\u001b[2K\u001b[17A\u001b[2K\u001b[17A\u001b[2K\u001b[17A\u001b[2K\u001b[17A\u001b[2K\u001b[17A\u001b[2K\u001b[17A\u001b[2K\u001b[17A\u001b[2K\u001b[17A\u001b[2K\u001b[17A\u001b[2K\u001b[17A\u001b[2K\u001b[17A\u001b[2K\u001b[17A\u001b[2K\u001b[17A\u001b[2K\u001b[17A\u001b[2K\u001b[17A\u001b[2K\u001b[17A\u001b[2K\u001b[16A\u001b[2K\u001b[16A\u001b[2K\u001b[15A\u001b[2K\u001b[15A\u001b[2K\u001b[14A\u001b[2K\u001b[14A\u001b[2K\u001b[13A\u001b[2K\u001b[13A\u001b[2K\u001b[12A\u001b[2K\u001b[12A\u001b[2K\u001b[11A\u001b[2K\u001b[11A\u001b[2K\u001b[10A\u001b[2K\u001b[10A\u001b[2K\u001b[9A\u001b[2K\u001b[8A\u001b[2K\u001b[8A\u001b[2K\u001b[7A\u001b[2K\u001b[7A\u001b[2K\u001b[6A\u001b[2K\u001b[6A\u001b[2K\u001b[6A\u001b[2K\u001b[5A\u001b[2K\u001b[5A\u001b[2K\u001b[5A\u001b[2K\u001b[5A\u001b[2K\u001b[5A\u001b[2K\u001b[5A\u001b[2K\u001b[5A\u001b[2K\u001b[5A\u001b[2K\u001b[5A\u001b[2K\u001b[5A\u001b[2K\u001b[5A\u001b[2K\u001b[5A\u001b[2K\u001b[5A\u001b[2K\u001b[5A\u001b[2K\u001b[5A\u001b[2K\u001b[5A\u001b[2K\u001b[5A\u001b[2K\u001b[5A\u001b[2K\u001b[5A\u001b[2K\u001b[5A\u001b[2K\u001b[5A\u001b[2K\u001b[5A\u001b[2K\u001b[5A\u001b[2K\u001b[5A\u001b[2K\u001b[5A\u001b[2K\u001b[5A\u001b[2K\u001b[5A\u001b[2K\u001b[5A\u001b[2K\u001b[5A\u001b[2K\u001b[5A\u001b[2K\u001b[5A\u001b[2K\u001b[5A\u001b[2K\u001b[5A\u001b[2K\u001b[5A\u001b[2K\u001b[5A\u001b[2K\u001b[5A\u001b[2K\u001b[5A\u001b[2K\u001b[5A\u001b[2K\u001b[5A\u001b[2K\u001b[5A\u001b[2K\u001b[5A\u001b[2K\u001b[5A\u001b[2K\u001b[5A\u001b[2K\u001b[5A\u001b[2K\u001b[5A\u001b[2K\u001b[5A\u001b[2K\u001b[5A\u001b[2K\u001b[5A\u001b[2K\u001b[5A\u001b[2K\u001b[5A\u001b[2K\u001b[5A\u001b[2K\u001b[5A\u001b[2K\u001b[5A\u001b[2K\u001b[5A\u001b[2K\u001b[5A\u001b[2K\u001b[5A\u001b[2K\u001b[5A\u001b[2K\u001b[5A\u001b[2K\u001b[5A\u001b[2K\u001b[5A\u001b[2K\u001b[5A\u001b[2K\u001b[5A\u001b[2K\u001b[5A\u001b[2K\u001b[5A\u001b[2K\u001b[5A\u001b[2K\u001b[5A\u001b[2K\u001b[5A\u001b[2K\u001b[5A\u001b[2K\u001b[5A\u001b[2K\u001b[5A\u001b[2K\u001b[5A\u001b[2K\u001b[5A\u001b[2K\u001b[5A\u001b[2K\u001b[5A\u001b[2K\u001b[5A\u001b[2K\u001b[5A\u001b[2K\u001b[5A\u001b[2K\u001b[5A\u001b[2K\u001b[5A\u001b[2K\u001b[5A\u001b[2K\u001b[5A\u001b[2K\u001b[5A\u001b[2K\u001b[5A\u001b[2K\u001b[5A\u001b[2K\u001b[5A\u001b[2K\u001b[5A\u001b[2K\u001b[5A\u001b[2K\u001b[5A\u001b[2K\u001b[5A\u001b[2K\u001b[5A\u001b[2K\u001b[5A\u001b[2K\u001b[5A\u001b[2K\u001b[5A\u001b[2K\u001b[5A\u001b[2K\u001b[5A\u001b[2K\u001b[5A\u001b[2K\u001b[5A\u001b[2K\u001b[5A\u001b[2K\u001b[5A\u001b[2K\u001b[5A\u001b[2K\u001b[5A\u001b[2K\u001b[5A\u001b[2K\u001b[5A\u001b[2K\u001b[5A\u001b[2K\u001b[5A\u001b[2K\u001b[5A\u001b[2K\u001b[5A\u001b[2K\u001b[5A\u001b[2K\u001b[5A\u001b[2K\u001b[5A\u001b[2K\u001b[5A\u001b[2K\u001b[5A\u001b[2K\u001b[5A\u001b[2K\u001b[5A\u001b[2K\u001b[5A\u001b[2K\u001b[5A\u001b[2K\u001b[5A\u001b[2K\u001b[5A\u001b[2K\u001b[5A\u001b[2K\u001b[5A\u001b[2K\u001b[5A\u001b[2K\u001b[5A\u001b[2K\u001b[5A\u001b[2K\u001b[5A\u001b[2K\u001b[5A\u001b[2K\u001b[5A\u001b[2K\u001b[5A\u001b[2K\u001b[5A\u001b[2K\u001b[5A\u001b[2K\u001b[5A\u001b[2K\u001b[5A\u001b[2K\u001b[5A\u001b[2K\u001b[5A\u001b[2K\u001b[5A\u001b[2K\u001b[5A\u001b[2K\u001b[5A\u001b[2K\u001b[5A\u001b[2K\u001b[5A\u001b[2K\u001b[5A\u001b[2K\u001b[5A\u001b[2K\u001b[5A\u001b[2K\u001b[5A\u001b[2K\u001b[5A\u001b[2K\u001b[5A\u001b[2K\u001b[5A\u001b[2K\u001b[5A\u001b[2K\u001b[5A\u001b[2K\u001b[5A\u001b[2K\u001b[5A\u001b[2K\u001b[5A\u001b[2K\u001b[4A\u001b[2K\u001b[4A\u001b[2K\u001b[3A\u001b[2K\u001b[3A\u001b[2K\u001b[3A\u001b[2K\u001b[3A\u001b[2K\u001b[3A\u001b[2K\u001b[3A\u001b[2K\u001b[3A\u001b[2K\u001b[3A\u001b[2K\u001b[3A\u001b[2K\u001b[3A\u001b[2K\u001b[3A\u001b[2K\u001b[3A\u001b[2K\u001b[3A\u001b[2K\u001b[3A\u001b[2K\u001b[3A\u001b[2K\u001b[3A\u001b[2K\u001b[3A\u001b[2K\u001b[3A\u001b[2K\u001b[3A\u001b[2K\u001b[3A\u001b[2K\u001b[3A\u001b[2K\u001b[3A\u001b[2K\u001b[3A\u001b[2K\u001b[3A\u001b[2K\u001b[3A\u001b[2K\u001b[3A\u001b[2K\u001b[3A\u001b[2K\u001b[3A\u001b[2K\u001b[3A\u001b[2K\u001b[3A\u001b[2K\u001b[3A\u001b[2K\u001b[3A\u001b[2K\u001b[3A\u001b[2K\u001b[3A\u001b[2K\u001b[3A\u001b[2K\u001b[3A\u001b[2K\u001b[3A\u001b[2K\u001b[3A\u001b[2K\u001b[3A\u001b[2K\u001b[3A\u001b[2K\u001b[3A\u001b[2K\u001b[3A\u001b[2K\u001b[3A\u001b[2K\u001b[3A\u001b[2K\u001b[3A\u001b[2K\u001b[3A\u001b[2K\u001b[3A\u001b[2K\u001b[3A\u001b[2K\u001b[3A\u001b[2K\u001b[3A\u001b[2K\u001b[3A\u001b[2K\u001b[3A\u001b[2K\u001b[3A\u001b[2K\u001b[3A\u001b[2K\u001b[3A\u001b[2K\u001b[3A\u001b[2K\u001b[3A\u001b[2K\u001b[3A\u001b[2K\u001b[3A\u001b[2K\u001b[3A\u001b[2K\u001b[3A\u001b[2K\u001b[3A\u001b[2K\u001b[3A\u001b[2K\u001b[3A\u001b[2K\u001b[3A\u001b[2K\u001b[3A\u001b[2K\u001b[3A\u001b[2K\u001b[3A\u001b[2K\u001b[3A\u001b[2K\u001b[3A\u001b[2K\u001b[3A\u001b[2K\u001b[3A\u001b[2K\u001b[3A\u001b[2K\u001b[3A\u001b[2K\u001b[3A\u001b[2K\u001b[3A\u001b[2K\u001b[3A\u001b[2K\u001b[3A\u001b[2K\u001b[3A\u001b[2K\u001b[3A\u001b[2K\u001b[3A\u001b[2K\u001b[3A\u001b[2K\u001b[3A\u001b[2K\u001b[3A\u001b[2K\u001b[3A\u001b[2K\u001b[3A\u001b[2K\u001b[3A\u001b[2K\u001b[3A\u001b[2K\u001b[3A\u001b[2K\u001b[3A\u001b[2K\u001b[3A\u001b[2K\u001b[3A\u001b[2K\u001b[3A\u001b[2K\u001b[3A\u001b[2K\u001b[3A\u001b[2K\u001b[3A\u001b[2K\u001b[3A\u001b[2K\u001b[3A\u001b[2K\u001b[3A\u001b[2K\u001b[3A\u001b[2K\u001b[3A\u001b[2K\u001b[3A\u001b[2K\u001b[3A\u001b[2K\u001b[3A\u001b[2K\u001b[3A\u001b[2K\u001b[3A\u001b[2K\u001b[3A\u001b[2K\u001b[3A\u001b[2K\u001b[3A\u001b[2K\u001b[3A\u001b[2K\u001b[3A\u001b[2K\u001b[3A\u001b[2K\u001b[3A\u001b[2K\u001b[3A\u001b[2K\u001b[3A\u001b[2K\u001b[3A\u001b[2K\u001b[3A\u001b[2K\u001b[3A\u001b[2K\u001b[3A\u001b[2K\u001b[3A\u001b[2K\u001b[3A\u001b[2K\u001b[3A\u001b[2K\u001b[3A\u001b[2K\u001b[3A\u001b[2K\u001b[3A\u001b[2K\u001b[3A\u001b[2K\u001b[3A\u001b[2K\u001b[3A\u001b[2K\u001b[3A\u001b[2K\u001b[3A\u001b[2K\u001b[3A\u001b[2K\u001b[3A\u001b[2K\u001b[3A\u001b[2K\u001b[3A\u001b[2K\u001b[3A\u001b[2K\u001b[3A\u001b[2K\u001b[3A\u001b[2K\u001b[3A\u001b[2K\u001b[3A\u001b[2K\u001b[3A\u001b[2K\u001b[3A\u001b[2K\u001b[3A\u001b[2K\u001b[3A\u001b[2K\u001b[3A\u001b[2K\u001b[3A\u001b[2K\u001b[3A\u001b[2K\u001b[3A\u001b[2K\u001b[3A\u001b[2K\u001b[3A\u001b[2K\u001b[3A\u001b[2K\u001b[3A\u001b[2K\u001b[3A\u001b[2K\u001b[3A\u001b[2K\u001b[3A\u001b[2K\u001b[3A\u001b[2K\u001b[3A\u001b[2K\u001b[3A\u001b[2K\u001b[3A\u001b[2K\u001b[3A\u001b[2K\u001b[3A\u001b[2K\u001b[3A\u001b[2K\u001b[3A\u001b[2K\u001b[3A\u001b[2K\u001b[3A\u001b[2K\u001b[3A\u001b[2K\u001b[3A\u001b[2K\u001b[3A\u001b[2K\u001b[3A\u001b[2K\u001b[3A\u001b[2K\u001b[3A\u001b[2K\u001b[3A\u001b[2K\u001b[3A\u001b[2K\u001b[3A\u001b[2K\u001b[3A\u001b[2K\u001b[3A\u001b[2K\u001b[3A\u001b[2K\u001b[3A\u001b[2K\u001b[3A\u001b[2K\u001b[3A\u001b[2K\u001b[3A\u001b[2K\u001b[3A\u001b[2K\u001b[3A\u001b[2K\u001b[3A\u001b[2K\u001b[3A\u001b[2K\u001b[3A\u001b[2K\u001b[3A\u001b[2K\u001b[3A\u001b[2K\u001b[3A\u001b[2K\u001b[3A\u001b[2K\u001b[3A\u001b[2K\u001b[3A\u001b[2K\u001b[3A\u001b[2K\u001b[3A\u001b[2K\u001b[3A\u001b[2K\u001b[3A\u001b[2K\u001b[3A\u001b[2K\u001b[3A\u001b[2K\u001b[3A\u001b[2K\u001b[3A\u001b[2K\u001b[3A\u001b[2K\u001b[3A\u001b[2K\u001b[3A\u001b[2K\u001b[3A\u001b[2K\u001b[3A\u001b[2K\u001b[3A\u001b[2K\u001b[3A\u001b[2K\u001b[3A\u001b[2K\u001b[3A\u001b[2K\u001b[3A\u001b[2K\u001b[3A\u001b[2K\u001b[3A\u001b[2K\u001b[3A\u001b[2K\u001b[3A\u001b[2K\u001b[3A\u001b[2K\u001b[3A\u001b[2K\u001b[3A\u001b[2K\u001b[3A\u001b[2K\u001b[3A\u001b[2K\u001b[3A\u001b[2K\u001b[3A\u001b[2K\u001b[3A\u001b[2K\u001b[3A\u001b[2K\u001b[3A\u001b[2K\u001b[3A\u001b[2K\u001b[3A\u001b[2K\u001b[3A\u001b[2K\u001b[3A\u001b[2K\u001b[3A\u001b[2K\u001b[3A\u001b[2K\u001b[3A\u001b[2K\u001b[3A\u001b[2K\u001b[3A\u001b[2K\u001b[3A\u001b[2K\u001b[3A\u001b[2K\u001b[3A\u001b[2K\u001b[3A\u001b[2K\u001b[3A\u001b[2K\u001b[3A\u001b[2K\u001b[3A\u001b[2K\u001b[3A\u001b[2K\u001b[3A\u001b[2K\u001b[3A\u001b[2K\u001b[3A\u001b[2K\u001b[3A\u001b[2K\u001b[3A\u001b[2K\u001b[3A\u001b[2K\u001b[3A\u001b[2K\u001b[3A\u001b[2K\u001b[3A\u001b[2K\u001b[3A\u001b[2K\u001b[3A\u001b[2K\u001b[3A\u001b[2K\u001b[3A\u001b[2K\u001b[3A\u001b[2K\u001b[3A\u001b[2K\u001b[3A\u001b[2K\u001b[3A\u001b[2K\u001b[3A\u001b[2K\u001b[3A\u001b[2K\u001b[3A\u001b[2K\u001b[3A\u001b[2K\u001b[3A\u001b[2K\u001b[3A\u001b[2K\u001b[3A\u001b[2K\u001b[3A\u001b[2K\u001b[3A\u001b[2K\u001b[3A\u001b[2K\u001b[3A\u001b[2K\u001b[3A\u001b[2K\u001b[3A\u001b[2K\u001b[3A\u001b[2K\u001b[3A\u001b[2K\u001b[3A\u001b[2K\u001b[3A\u001b[2K\u001b[3A\u001b[2K\u001b[3A\u001b[2K\u001b[3A\u001b[2K\u001b[3A\u001b[2K\u001b[3A\u001b[2K\u001b[3A\u001b[2K\u001b[3A\u001b[2K\u001b[3A\u001b[2K\u001b[3A\u001b[2K\u001b[3A\u001b[2K\u001b[3A\u001b[2K\u001b[3A\u001b[2K\u001b[3A\u001b[2K\u001b[3A\u001b[2K\u001b[3A\u001b[2K\u001b[3A\u001b[2K\u001b[3A\u001b[2K\u001b[3A\u001b[2K\u001b[3A\u001b[2K\u001b[3A\u001b[2K\u001b[3A\u001b[2K\u001b[3A\u001b[2K\u001b[3A\u001b[2K\u001b[3A\u001b[2K\u001b[3A\u001b[2K\u001b[3A\u001b[2K\u001b[3A\u001b[2K\u001b[3A\u001b[2K\u001b[3A\u001b[2K\u001b[3A\u001b[2K\u001b[3A\u001b[2K\u001b[3A\u001b[2K\u001b[3A\u001b[2K\u001b[3A\u001b[2K\u001b[3A\u001b[2K\u001b[3A\u001b[2K\u001b[3A\u001b[2K\u001b[3A\u001b[2K\u001b[3A\u001b[2K\u001b[3A\u001b[2K\u001b[3A\u001b[2K\u001b[3A\u001b[2K\u001b[3A\u001b[2K\u001b[3A\u001b[2K\u001b[3A\u001b[2K\u001b[3A\u001b[2K\u001b[3A\u001b[2K\u001b[3A\u001b[2K\u001b[3A\u001b[2K\u001b[3A\u001b[2K\u001b[3A\u001b[2K\u001b[3A\u001b[2K\u001b[3A\u001b[2K\u001b[3A\u001b[2K\u001b[3A\u001b[2K\u001b[3A\u001b[2K\u001b[3A\u001b[2K\u001b[3A\u001b[2K\u001b[3A\u001b[2K\u001b[3A\u001b[2K\u001b[3A\u001b[2K\u001b[3A\u001b[2K\u001b[3A\u001b[2K\u001b[3A\u001b[2K\u001b[3A\u001b[2K\u001b[3A\u001b[2K\u001b[3A\u001b[2K\u001b[3A\u001b[2K\u001b[3A\u001b[2K\u001b[3A\u001b[2K\u001b[3A\u001b[2K\u001b[3A\u001b[2K\u001b[3A\u001b[2K\u001b[3A\u001b[2K\u001b[3A\u001b[2K\u001b[3A\u001b[2K\u001b[3A\u001b[2K\u001b[3A\u001b[2K\u001b[3A\u001b[2K\u001b[3A\u001b[2K\u001b[3A\u001b[2K\u001b[3A\u001b[2K\u001b[3A\u001b[2K\u001b[3A\u001b[2K\u001b[3A\u001b[2K\u001b[3A\u001b[2K\u001b[3A\u001b[2K\u001b[3A\u001b[2K\u001b[3A\u001b[2K\u001b[3A\u001b[2K\u001b[3A\u001b[2K\u001b[3A\u001b[2K\u001b[3A\u001b[2K\u001b[3A\u001b[2K\u001b[3A\u001b[2K\u001b[3A\u001b[2K\u001b[3A\u001b[2K\u001b[3A\u001b[2K\u001b[3A\u001b[2K\u001b[3A\u001b[2K\u001b[3A\u001b[2K\u001b[3A\u001b[2K\u001b[3A\u001b[2K\u001b[3A\u001b[2K\u001b[3A\u001b[2K\u001b[3A\u001b[2K\u001b[3A\u001b[2K\u001b[3A\u001b[2K\u001b[3A\u001b[2K\u001b[3A\u001b[2K\u001b[3A\u001b[2K\u001b[3A\u001b[2K\u001b[3A\u001b[2K\u001b[3A\u001b[2K\u001b[3A\u001b[2K\u001b[3A\u001b[2K\u001b[3A\u001b[2K\u001b[3A\u001b[2K\u001b[3A\u001b[2K\u001b[3A\u001b[2K\u001b[3A\u001b[2K\u001b[3A\u001b[2K\u001b[3A\u001b[2K\u001b[3A\u001b[2K\u001b[3A\u001b[2K\u001b[3A\u001b[2K\u001b[3A\u001b[2K\u001b[3A\u001b[2K\u001b[3A\u001b[2K\u001b[3A\u001b[2K\u001b[3A\u001b[2K\u001b[3A\u001b[2K\u001b[3A\u001b[2K\u001b[3A\u001b[2K\u001b[3A\u001b[2K\u001b[3A\u001b[2K\u001b[3A\u001b[2K\u001b[3A\u001b[2K\u001b[3A\u001b[2K\u001b[3A\u001b[2K\u001b[3A\u001b[2K\u001b[3A\u001b[2K\u001b[3A\u001b[2K\u001b[3A\u001b[2K\u001b[3A\u001b[2K\u001b[3A\u001b[2K\u001b[3A\u001b[2K\u001b[3A\u001b[2K\u001b[3A\u001b[2K\u001b[3A\u001b[2K\u001b[3A\u001b[2K\u001b[3A\u001b[2K\u001b[3A\u001b[2K\u001b[3A\u001b[2K\u001b[3A\u001b[2K\u001b[3A\u001b[2K\u001b[3A\u001b[2K\u001b[3A\u001b[2K\u001b[3A\u001b[2K\u001b[3A\u001b[2K\u001b[3A\u001b[2K\u001b[3A\u001b[2K\u001b[3A\u001b[2K\u001b[3A\u001b[2K\u001b[3A\u001b[2K\u001b[3A\u001b[2K\u001b[3A\u001b[2K\u001b[3A\u001b[2K\u001b[3A\u001b[2K\u001b[3A\u001b[2K\u001b[3A\u001b[2K\u001b[3A\u001b[2K\u001b[3A\u001b[2K\u001b[3A\u001b[2K\u001b[3A\u001b[2K\u001b[3A\u001b[2K\u001b[3A\u001b[2K\u001b[3A\u001b[2K\u001b[3A\u001b[2K\u001b[2A\u001b[2K\u001b[2A\u001b[2K\u001b[2A\u001b[2K\u001b[2A\u001b[2K\u001b[2A\u001b[2K\u001b[1A\u001b[2K\u001b[1A\u001b[2K\u001b[1A\u001b[2K\u001b[1A\u001b[2K\u001b[1A\u001b[2K\u001b[1A\u001b[2K\u001b[1A\u001b[2K\u001b[1A\u001b[2K\u001b[1A\u001b[2K\u001b[1A\u001b[2K\u001b[1A\u001b[2K\u001b[1A\u001b[2KDigest: sha256:00accd28674a583beb7300a961600860cb795dcbf77391dc743cf2dc8047a53c\n",
      "Status: Downloaded newer image for gcr.io/deeplearning-platform-release/tf2-gpu.2-12.py310:latest\n",
      " ---> f68b013817df\n",
      "Step 2/14 : ENV PYTHONUNBUFFERED True\n",
      " ---> Running in e94a542543e9\n",
      "Removing intermediate container e94a542543e9\n",
      " ---> 93395e4e336a\n",
      "Step 3/14 : ENV APP_HOME /workspace\n",
      " ---> Running in 7a6db7a86447\n",
      "Removing intermediate container 7a6db7a86447\n",
      " ---> 0ddaac30db48\n",
      "Step 4/14 : WORKDIR $APP_HOME\n",
      " ---> Running in f7c358ba83c0\n",
      "Removing intermediate container f7c358ba83c0\n",
      " ---> 9a40c97a747b\n",
      "Step 5/14 : COPY /requirements.txt $APP_HOME/requirements.txt\n",
      " ---> e8a28b2eef7a\n",
      "Step 6/14 : RUN pip install --upgrade pip\n",
      " ---> Running in f5baf2574f94\n",
      "Requirement already satisfied: pip in /opt/conda/lib/python3.10/site-packages (23.2.1)\n",
      "\u001b[91mWARNING: Running pip as the 'root' user can result in broken permissions and conflicting behaviour with the system package manager. It is recommended to use a virtual environment instead: https://pip.pypa.io/warnings/venv\n",
      "\u001b[0mRemoving intermediate container f5baf2574f94\n",
      " ---> cc6415ed8617\n",
      "Step 7/14 : RUN pip install --no-cache-dir -r $APP_HOME/requirements.txt\n",
      " ---> Running in 450d46adc351\n",
      "Requirement already satisfied: google-cloud-aiplatform in /opt/conda/lib/python3.10/site-packages (from -r /workspace/requirements.txt (line 1)) (1.31.0)\n",
      "Requirement already satisfied: google-cloud-storage in /opt/conda/lib/python3.10/site-packages (from -r /workspace/requirements.txt (line 2)) (2.10.0)\n",
      "Requirement already satisfied: numpy in /opt/conda/lib/python3.10/site-packages (from -r /workspace/requirements.txt (line 3)) (1.23.5)\n",
      "Collecting tensorflow==2.13.0 (from -r /workspace/requirements.txt (line 4))\n",
      "  Obtaining dependency information for tensorflow==2.13.0 from https://files.pythonhosted.org/packages/5a/f2/5c2f878c62c8b79c629b11b33516bb55054d7677eba6f56f3a20296b56bd/tensorflow-2.13.0-cp310-cp310-manylinux_2_17_x86_64.manylinux2014_x86_64.whl.metadata\n",
      "  Downloading tensorflow-2.13.0-cp310-cp310-manylinux_2_17_x86_64.manylinux2014_x86_64.whl.metadata (3.4 kB)\n",
      "Collecting tf-agents==0.17.0 (from -r /workspace/requirements.txt (line 5))\n",
      "  Obtaining dependency information for tf-agents==0.17.0 from https://files.pythonhosted.org/packages/0f/b0/d34b8986cbbccec4a989a0674e98453a3d4daa30059dce4345036aebe023/tf_agents-0.17.0-py3-none-any.whl.metadata\n",
      "  Downloading tf_agents-0.17.0-py3-none-any.whl.metadata (12 kB)\n",
      "Requirement already satisfied: tensorboard in /opt/conda/lib/python3.10/site-packages (from -r /workspace/requirements.txt (line 6)) (2.12.3)\n",
      "Requirement already satisfied: tensorboard-plugin-profile in /opt/conda/lib/python3.10/site-packages (from -r /workspace/requirements.txt (line 7)) (2.13.1)\n",
      "Collecting tensorboard-plugin-wit (from -r /workspace/requirements.txt (line 8))\n",
      "  Downloading tensorboard_plugin_wit-1.8.1-py3-none-any.whl (781 kB)\n",
      "     ━━━━━━━━━━━━━━━━━━━━━━━━━━━━━━━━━━━━━━ 781.3/781.3 kB 15.0 MB/s eta 0:00:00\n",
      "Requirement already satisfied: tensorboard-data-server in /opt/conda/lib/python3.10/site-packages (from -r /workspace/requirements.txt (line 9)) (0.7.1)\n",
      "Requirement already satisfied: tensorflow-io in /opt/conda/lib/python3.10/site-packages (from -r /workspace/requirements.txt (line 10)) (0.31.0)\n",
      "Requirement already satisfied: urllib3 in /opt/conda/lib/python3.10/site-packages (from -r /workspace/requirements.txt (line 11)) (1.26.15)\n",
      "Requirement already satisfied: pillow in /opt/conda/lib/python3.10/site-packages (from -r /workspace/requirements.txt (line 12)) (10.0.0)\n",
      "Collecting gsutil (from -r /workspace/requirements.txt (line 13))\n",
      "  Downloading gsutil-5.26.tar.gz (3.0 MB)\n",
      "     ━━━━━━━━━━━━━━━━━━━━━━━━━━━━━━━━━━━━━━━━ 3.0/3.0 MB 115.2 MB/s eta 0:00:00\n",
      "  Preparing metadata (setup.py): started\n",
      "  Preparing metadata (setup.py): finished with status 'done'\n",
      "Requirement already satisfied: absl-py>=1.0.0 in /opt/conda/lib/python3.10/site-packages (from tensorflow==2.13.0->-r /workspace/requirements.txt (line 4)) (1.4.0)\n",
      "Requirement already satisfied: astunparse>=1.6.0 in /opt/conda/lib/python3.10/site-packages (from tensorflow==2.13.0->-r /workspace/requirements.txt (line 4)) (1.6.3)\n",
      "Requirement already satisfied: flatbuffers>=23.1.21 in /opt/conda/lib/python3.10/site-packages (from tensorflow==2.13.0->-r /workspace/requirements.txt (line 4)) (23.5.26)\n",
      "Requirement already satisfied: gast<=0.4.0,>=0.2.1 in /opt/conda/lib/python3.10/site-packages (from tensorflow==2.13.0->-r /workspace/requirements.txt (line 4)) (0.4.0)\n",
      "Requirement already satisfied: google-pasta>=0.1.1 in /opt/conda/lib/python3.10/site-packages (from tensorflow==2.13.0->-r /workspace/requirements.txt (line 4)) (0.2.0)\n",
      "Requirement already satisfied: grpcio<2.0,>=1.24.3 in /opt/conda/lib/python3.10/site-packages (from tensorflow==2.13.0->-r /workspace/requirements.txt (line 4)) (1.48.1)\n",
      "Requirement already satisfied: h5py>=2.9.0 in /opt/conda/lib/python3.10/site-packages (from tensorflow==2.13.0->-r /workspace/requirements.txt (line 4)) (3.9.0)\n",
      "Collecting keras<2.14,>=2.13.1 (from tensorflow==2.13.0->-r /workspace/requirements.txt (line 4))\n",
      "  Obtaining dependency information for keras<2.14,>=2.13.1 from https://files.pythonhosted.org/packages/2e/f3/19da7511b45e80216cbbd9467137b2d28919c58ba1ccb971435cb631e470/keras-2.13.1-py3-none-any.whl.metadata\n",
      "  Downloading keras-2.13.1-py3-none-any.whl.metadata (2.4 kB)\n",
      "Requirement already satisfied: libclang>=13.0.0 in /opt/conda/lib/python3.10/site-packages (from tensorflow==2.13.0->-r /workspace/requirements.txt (line 4)) (16.0.6)\n",
      "Requirement already satisfied: opt-einsum>=2.3.2 in /opt/conda/lib/python3.10/site-packages (from tensorflow==2.13.0->-r /workspace/requirements.txt (line 4)) (3.3.0)\n",
      "Requirement already satisfied: packaging in /opt/conda/lib/python3.10/site-packages (from tensorflow==2.13.0->-r /workspace/requirements.txt (line 4)) (23.1)\n",
      "Requirement already satisfied: protobuf!=4.21.0,!=4.21.1,!=4.21.2,!=4.21.3,!=4.21.4,!=4.21.5,<5.0.0dev,>=3.20.3 in /opt/conda/lib/python3.10/site-packages (from tensorflow==2.13.0->-r /workspace/requirements.txt (line 4)) (3.20.3)\n",
      "Requirement already satisfied: setuptools in /opt/conda/lib/python3.10/site-packages (from tensorflow==2.13.0->-r /workspace/requirements.txt (line 4)) (68.1.2)\n",
      "Requirement already satisfied: six>=1.12.0 in /opt/conda/lib/python3.10/site-packages (from tensorflow==2.13.0->-r /workspace/requirements.txt (line 4)) (1.16.0)\n",
      "Collecting tensorboard (from -r /workspace/requirements.txt (line 6))\n",
      "  Downloading tensorboard-2.13.0-py3-none-any.whl (5.6 MB)\n",
      "     ━━━━━━━━━━━━━━━━━━━━━━━━━━━━━━━━━━━━━━━━ 5.6/5.6 MB 156.4 MB/s eta 0:00:00\n",
      "Collecting tensorflow-estimator<2.14,>=2.13.0 (from tensorflow==2.13.0->-r /workspace/requirements.txt (line 4))\n",
      "  Obtaining dependency information for tensorflow-estimator<2.14,>=2.13.0 from https://files.pythonhosted.org/packages/72/5c/c318268d96791c6222ad7df1651bbd1b2409139afeb6f468c0f327177016/tensorflow_estimator-2.13.0-py2.py3-none-any.whl.metadata\n",
      "  Downloading tensorflow_estimator-2.13.0-py2.py3-none-any.whl.metadata (1.3 kB)\n",
      "Requirement already satisfied: termcolor>=1.1.0 in /opt/conda/lib/python3.10/site-packages (from tensorflow==2.13.0->-r /workspace/requirements.txt (line 4)) (2.3.0)\n",
      "Requirement already satisfied: typing-extensions<4.6.0,>=3.6.6 in /opt/conda/lib/python3.10/site-packages (from tensorflow==2.13.0->-r /workspace/requirements.txt (line 4)) (4.5.0)\n",
      "Requirement already satisfied: wrapt>=1.11.0 in /opt/conda/lib/python3.10/site-packages (from tensorflow==2.13.0->-r /workspace/requirements.txt (line 4)) (1.14.1)\n",
      "Requirement already satisfied: tensorflow-io-gcs-filesystem>=0.23.1 in /opt/conda/lib/python3.10/site-packages (from tensorflow==2.13.0->-r /workspace/requirements.txt (line 4)) (0.31.0)\n",
      "Requirement already satisfied: cloudpickle>=1.3 in /opt/conda/lib/python3.10/site-packages (from tf-agents==0.17.0->-r /workspace/requirements.txt (line 5)) (2.2.1)\n",
      "Collecting gin-config>=0.4.0 (from tf-agents==0.17.0->-r /workspace/requirements.txt (line 5))\n",
      "  Downloading gin_config-0.5.0-py3-none-any.whl (61 kB)\n",
      "     ━━━━━━━━━━━━━━━━━━━━━━━━━━━━━━━━━━━━━━━ 61.3/61.3 kB 185.7 MB/s eta 0:00:00\n",
      "Collecting gym<=0.23.0,>=0.17.0 (from tf-agents==0.17.0->-r /workspace/requirements.txt (line 5))\n",
      "  Downloading gym-0.23.0.tar.gz (624 kB)\n",
      "     ━━━━━━━━━━━━━━━━━━━━━━━━━━━━━━━━━━━━━ 624.4/624.4 kB 217.2 MB/s eta 0:00:00\n",
      "  Installing build dependencies: started\n",
      "  Installing build dependencies: finished with status 'done'\n",
      "  Getting requirements to build wheel: started\n",
      "  Getting requirements to build wheel: finished with status 'done'\n",
      "  Preparing metadata (pyproject.toml): started\n",
      "  Preparing metadata (pyproject.toml): finished with status 'done'\n",
      "Collecting pygame==2.1.3 (from tf-agents==0.17.0->-r /workspace/requirements.txt (line 5))\n",
      "  Downloading pygame-2.1.3-cp310-cp310-manylinux_2_17_x86_64.manylinux2014_x86_64.whl (13.7 MB)\n",
      "     ━━━━━━━━━━━━━━━━━━━━━━━━━━━━━━━━━━━━━━━ 13.7/13.7 MB 204.8 MB/s eta 0:00:00\n",
      "Collecting tensorflow-probability~=0.20.1 (from tf-agents==0.17.0->-r /workspace/requirements.txt (line 5))\n",
      "  Obtaining dependency information for tensorflow-probability~=0.20.1 from https://files.pythonhosted.org/packages/ed/a4/dddf262db60c11c67790276e77f0c34a45ce38cafadd4843aa69195e654b/tensorflow_probability-0.20.1-py2.py3-none-any.whl.metadata\n",
      "  Downloading tensorflow_probability-0.20.1-py2.py3-none-any.whl.metadata (13 kB)\n",
      "Requirement already satisfied: google-api-core[grpc]!=2.0.*,!=2.1.*,!=2.2.*,!=2.3.*,!=2.4.*,!=2.5.*,!=2.6.*,!=2.7.*,<3.0.0dev,>=1.32.0 in /opt/conda/lib/python3.10/site-packages (from google-cloud-aiplatform->-r /workspace/requirements.txt (line 1)) (1.34.0)\n",
      "Requirement already satisfied: proto-plus<2.0.0dev,>=1.22.0 in /opt/conda/lib/python3.10/site-packages (from google-cloud-aiplatform->-r /workspace/requirements.txt (line 1)) (1.22.3)\n",
      "Requirement already satisfied: google-cloud-bigquery<4.0.0dev,>=1.15.0 in /opt/conda/lib/python3.10/site-packages (from google-cloud-aiplatform->-r /workspace/requirements.txt (line 1)) (3.11.4)\n",
      "Requirement already satisfied: google-cloud-resource-manager<3.0.0dev,>=1.3.3 in /opt/conda/lib/python3.10/site-packages (from google-cloud-aiplatform->-r /workspace/requirements.txt (line 1)) (1.10.3)\n",
      "Requirement already satisfied: shapely<2.0.0 in /opt/conda/lib/python3.10/site-packages (from google-cloud-aiplatform->-r /workspace/requirements.txt (line 1)) (1.8.5.post1)\n",
      "Requirement already satisfied: google-auth<3.0dev,>=1.25.0 in /opt/conda/lib/python3.10/site-packages (from google-cloud-storage->-r /workspace/requirements.txt (line 2)) (2.22.0)\n",
      "Requirement already satisfied: google-cloud-core<3.0dev,>=2.3.0 in /opt/conda/lib/python3.10/site-packages (from google-cloud-storage->-r /workspace/requirements.txt (line 2)) (2.3.3)\n",
      "Requirement already satisfied: google-resumable-media>=2.3.2 in /opt/conda/lib/python3.10/site-packages (from google-cloud-storage->-r /workspace/requirements.txt (line 2)) (2.5.0)\n",
      "Requirement already satisfied: requests<3.0.0dev,>=2.18.0 in /opt/conda/lib/python3.10/site-packages (from google-cloud-storage->-r /workspace/requirements.txt (line 2)) (2.31.0)\n",
      "Collecting grpcio<2.0,>=1.24.3 (from tensorflow==2.13.0->-r /workspace/requirements.txt (line 4))\n",
      "  Obtaining dependency information for grpcio<2.0,>=1.24.3 from https://files.pythonhosted.org/packages/20/7f/e76618521aa9d33c6c1c9c3473f866da521678aa6ea2f4df3a896757748c/grpcio-1.59.0-cp310-cp310-manylinux_2_17_x86_64.manylinux2014_x86_64.whl.metadata\n",
      "  Downloading grpcio-1.59.0-cp310-cp310-manylinux_2_17_x86_64.manylinux2014_x86_64.whl.metadata (4.0 kB)\n",
      "Requirement already satisfied: google-auth-oauthlib<1.1,>=0.5 in /opt/conda/lib/python3.10/site-packages (from tensorboard->-r /workspace/requirements.txt (line 6)) (1.0.0)\n",
      "Requirement already satisfied: markdown>=2.6.8 in /opt/conda/lib/python3.10/site-packages (from tensorboard->-r /workspace/requirements.txt (line 6)) (3.4.4)\n",
      "Requirement already satisfied: werkzeug>=1.0.1 in /opt/conda/lib/python3.10/site-packages (from tensorboard->-r /workspace/requirements.txt (line 6)) (2.1.2)\n",
      "Requirement already satisfied: wheel>=0.26 in /opt/conda/lib/python3.10/site-packages (from tensorboard->-r /workspace/requirements.txt (line 6)) (0.41.2)\n",
      "Requirement already satisfied: gviz-api>=1.9.0 in /opt/conda/lib/python3.10/site-packages (from tensorboard-plugin-profile->-r /workspace/requirements.txt (line 7)) (1.10.0)\n",
      "Collecting argcomplete>=1.9.4 (from gsutil->-r /workspace/requirements.txt (line 13))\n",
      "  Obtaining dependency information for argcomplete>=1.9.4 from https://files.pythonhosted.org/packages/1e/05/223116a4a5905d6b26bff334ffc7b74474fafe23fcb10532caf0ef86ca69/argcomplete-3.1.2-py3-none-any.whl.metadata\n",
      "  Downloading argcomplete-3.1.2-py3-none-any.whl.metadata (16 kB)\n",
      "Requirement already satisfied: crcmod>=1.7 in /opt/conda/lib/python3.10/site-packages (from gsutil->-r /workspace/requirements.txt (line 13)) (1.7)\n",
      "Requirement already satisfied: fasteners>=0.14.1 in /opt/conda/lib/python3.10/site-packages (from gsutil->-r /workspace/requirements.txt (line 13)) (0.18)\n",
      "Collecting gcs-oauth2-boto-plugin>=3.0 (from gsutil->-r /workspace/requirements.txt (line 13))\n",
      "  Downloading gcs-oauth2-boto-plugin-3.0.tar.gz (20 kB)\n",
      "  Preparing metadata (setup.py): started\n",
      "  Preparing metadata (setup.py): finished with status 'done'\n",
      "Collecting google-apitools>=0.5.32 (from gsutil->-r /workspace/requirements.txt (line 13))\n",
      "  Downloading google_apitools-0.5.32-py3-none-any.whl (135 kB)\n",
      "     ━━━━━━━━━━━━━━━━━━━━━━━━━━━━━━━━━━━━━ 135.7/135.7 kB 205.2 MB/s eta 0:00:00\n",
      "Collecting httplib2==0.20.4 (from gsutil->-r /workspace/requirements.txt (line 13))\n",
      "  Downloading httplib2-0.20.4-py3-none-any.whl (96 kB)\n",
      "     ━━━━━━━━━━━━━━━━━━━━━━━━━━━━━━━━━━━━━━━ 96.6/96.6 kB 192.7 MB/s eta 0:00:00\n",
      "Collecting google-reauth>=0.1.0 (from gsutil->-r /workspace/requirements.txt (line 13))\n",
      "  Downloading google_reauth-0.1.1-py2.py3-none-any.whl (17 kB)\n",
      "Collecting monotonic>=1.4 (from gsutil->-r /workspace/requirements.txt (line 13))\n",
      "  Downloading monotonic-1.6-py2.py3-none-any.whl (8.2 kB)\n",
      "Requirement already satisfied: pyOpenSSL>=0.13 in /opt/conda/lib/python3.10/site-packages (from gsutil->-r /workspace/requirements.txt (line 13)) (23.2.0)\n",
      "Collecting retry_decorator>=1.0.0 (from gsutil->-r /workspace/requirements.txt (line 13))\n",
      "  Downloading retry_decorator-1.1.1.tar.gz (3.9 kB)\n",
      "  Preparing metadata (setup.py): started\n",
      "  Preparing metadata (setup.py): finished with status 'done'\n",
      "Requirement already satisfied: pyparsing!=3.0.0,!=3.0.1,!=3.0.2,!=3.0.3,<4,>=2.4.2 in /opt/conda/lib/python3.10/site-packages (from httplib2==0.20.4->gsutil->-r /workspace/requirements.txt (line 13)) (3.0.9)\n",
      "Collecting werkzeug>=1.0.1 (from tensorboard->-r /workspace/requirements.txt (line 6))\n",
      "  Downloading Werkzeug-2.0.3-py3-none-any.whl (289 kB)\n",
      "     ━━━━━━━━━━━━━━━━━━━━━━━━━━━━━━━━━━━━━ 289.2/289.2 kB 221.2 MB/s eta 0:00:00\n",
      "Collecting rsa==4.7.2 (from gcs-oauth2-boto-plugin>=3.0->gsutil->-r /workspace/requirements.txt (line 13))\n",
      "  Downloading rsa-4.7.2-py3-none-any.whl (34 kB)\n",
      "Collecting boto>=2.29.1 (from gcs-oauth2-boto-plugin>=3.0->gsutil->-r /workspace/requirements.txt (line 13))\n",
      "  Downloading boto-2.49.0-py2.py3-none-any.whl (1.4 MB)\n",
      "     ━━━━━━━━━━━━━━━━━━━━━━━━━━━━━━━━━━━━━━━━ 1.4/1.4 MB 90.6 MB/s eta 0:00:00\n",
      "Requirement already satisfied: oauth2client>=2.2.0 in /opt/conda/lib/python3.10/site-packages (from gcs-oauth2-boto-plugin>=3.0->gsutil->-r /workspace/requirements.txt (line 13)) (4.1.3)\n",
      "Requirement already satisfied: pyasn1>=0.1.3 in /opt/conda/lib/python3.10/site-packages (from rsa==4.7.2->gcs-oauth2-boto-plugin>=3.0->gsutil->-r /workspace/requirements.txt (line 13)) (0.4.8)\n",
      "Requirement already satisfied: googleapis-common-protos<2.0dev,>=1.56.2 in /opt/conda/lib/python3.10/site-packages (from google-api-core[grpc]!=2.0.*,!=2.1.*,!=2.2.*,!=2.3.*,!=2.4.*,!=2.5.*,!=2.6.*,!=2.7.*,<3.0.0dev,>=1.32.0->google-cloud-aiplatform->-r /workspace/requirements.txt (line 1)) (1.60.0)\n",
      "Requirement already satisfied: grpcio-status<2.0dev,>=1.33.2 in /opt/conda/lib/python3.10/site-packages (from google-api-core[grpc]!=2.0.*,!=2.1.*,!=2.2.*,!=2.3.*,!=2.4.*,!=2.5.*,!=2.6.*,!=2.7.*,<3.0.0dev,>=1.32.0->google-cloud-aiplatform->-r /workspace/requirements.txt (line 1)) (1.48.1)\n",
      "Requirement already satisfied: cachetools<6.0,>=2.0.0 in /opt/conda/lib/python3.10/site-packages (from google-auth<3.0dev,>=1.25.0->google-cloud-storage->-r /workspace/requirements.txt (line 2)) (4.2.4)\n",
      "Requirement already satisfied: pyasn1-modules>=0.2.1 in /opt/conda/lib/python3.10/site-packages (from google-auth<3.0dev,>=1.25.0->google-cloud-storage->-r /workspace/requirements.txt (line 2)) (0.2.7)\n",
      "Requirement already satisfied: requests-oauthlib>=0.7.0 in /opt/conda/lib/python3.10/site-packages (from google-auth-oauthlib<1.1,>=0.5->tensorboard->-r /workspace/requirements.txt (line 6)) (1.3.1)\n",
      "Requirement already satisfied: aiohttp<4.0.0.dev0,>=3.6.2 in /opt/conda/lib/python3.10/site-packages (from google-auth<3.0dev,>=1.25.0->google-cloud-storage->-r /workspace/requirements.txt (line 2)) (3.8.5)\n",
      "Requirement already satisfied: python-dateutil<3.0dev,>=2.7.2 in /opt/conda/lib/python3.10/site-packages (from google-cloud-bigquery<4.0.0dev,>=1.15.0->google-cloud-aiplatform->-r /workspace/requirements.txt (line 1)) (2.8.2)\n",
      "Requirement already satisfied: grpc-google-iam-v1<1.0.0dev,>=0.12.4 in /opt/conda/lib/python3.10/site-packages (from google-cloud-resource-manager<3.0.0dev,>=1.3.3->google-cloud-aiplatform->-r /workspace/requirements.txt (line 1)) (0.12.6)\n",
      "Requirement already satisfied: pyu2f in /opt/conda/lib/python3.10/site-packages (from google-reauth>=0.1.0->gsutil->-r /workspace/requirements.txt (line 13)) (0.1.5)\n",
      "Requirement already satisfied: google-crc32c<2.0dev,>=1.0 in /opt/conda/lib/python3.10/site-packages (from google-resumable-media>=2.3.2->google-cloud-storage->-r /workspace/requirements.txt (line 2)) (1.5.0)\n",
      "Collecting gym-notices>=0.0.4 (from gym<=0.23.0,>=0.17.0->tf-agents==0.17.0->-r /workspace/requirements.txt (line 5))\n",
      "  Downloading gym_notices-0.0.8-py3-none-any.whl (3.0 kB)\n",
      "Requirement already satisfied: cryptography!=40.0.0,!=40.0.1,<42,>=38.0.0 in /opt/conda/lib/python3.10/site-packages (from pyOpenSSL>=0.13->gsutil->-r /workspace/requirements.txt (line 13)) (41.0.3)\n",
      "Requirement already satisfied: charset-normalizer<4,>=2 in /opt/conda/lib/python3.10/site-packages (from requests<3.0.0dev,>=2.18.0->google-cloud-storage->-r /workspace/requirements.txt (line 2)) (3.2.0)\n",
      "Requirement already satisfied: idna<4,>=2.5 in /opt/conda/lib/python3.10/site-packages (from requests<3.0.0dev,>=2.18.0->google-cloud-storage->-r /workspace/requirements.txt (line 2)) (3.4)\n",
      "Requirement already satisfied: certifi>=2017.4.17 in /opt/conda/lib/python3.10/site-packages (from requests<3.0.0dev,>=2.18.0->google-cloud-storage->-r /workspace/requirements.txt (line 2)) (2023.7.22)\n",
      "Requirement already satisfied: decorator in /opt/conda/lib/python3.10/site-packages (from tensorflow-probability~=0.20.1->tf-agents==0.17.0->-r /workspace/requirements.txt (line 5)) (5.1.1)\n",
      "Requirement already satisfied: dm-tree in /opt/conda/lib/python3.10/site-packages (from tensorflow-probability~=0.20.1->tf-agents==0.17.0->-r /workspace/requirements.txt (line 5)) (0.1.8)\n",
      "Requirement already satisfied: attrs>=17.3.0 in /opt/conda/lib/python3.10/site-packages (from aiohttp<4.0.0.dev0,>=3.6.2->google-auth<3.0dev,>=1.25.0->google-cloud-storage->-r /workspace/requirements.txt (line 2)) (23.1.0)\n",
      "Requirement already satisfied: multidict<7.0,>=4.5 in /opt/conda/lib/python3.10/site-packages (from aiohttp<4.0.0.dev0,>=3.6.2->google-auth<3.0dev,>=1.25.0->google-cloud-storage->-r /workspace/requirements.txt (line 2)) (6.0.4)\n",
      "Requirement already satisfied: async-timeout<5.0,>=4.0.0a3 in /opt/conda/lib/python3.10/site-packages (from aiohttp<4.0.0.dev0,>=3.6.2->google-auth<3.0dev,>=1.25.0->google-cloud-storage->-r /workspace/requirements.txt (line 2)) (4.0.3)\n",
      "Requirement already satisfied: yarl<2.0,>=1.0 in /opt/conda/lib/python3.10/site-packages (from aiohttp<4.0.0.dev0,>=3.6.2->google-auth<3.0dev,>=1.25.0->google-cloud-storage->-r /workspace/requirements.txt (line 2)) (1.9.2)\n",
      "Requirement already satisfied: frozenlist>=1.1.1 in /opt/conda/lib/python3.10/site-packages (from aiohttp<4.0.0.dev0,>=3.6.2->google-auth<3.0dev,>=1.25.0->google-cloud-storage->-r /workspace/requirements.txt (line 2)) (1.4.0)\n",
      "Requirement already satisfied: aiosignal>=1.1.2 in /opt/conda/lib/python3.10/site-packages (from aiohttp<4.0.0.dev0,>=3.6.2->google-auth<3.0dev,>=1.25.0->google-cloud-storage->-r /workspace/requirements.txt (line 2)) (1.3.1)\n",
      "Requirement already satisfied: cffi>=1.12 in /opt/conda/lib/python3.10/site-packages (from cryptography!=40.0.0,!=40.0.1,<42,>=38.0.0->pyOpenSSL>=0.13->gsutil->-r /workspace/requirements.txt (line 13)) (1.15.1)\n",
      "Requirement already satisfied: oauthlib>=3.0.0 in /opt/conda/lib/python3.10/site-packages (from requests-oauthlib>=0.7.0->google-auth-oauthlib<1.1,>=0.5->tensorboard->-r /workspace/requirements.txt (line 6)) (3.2.2)\n",
      "Requirement already satisfied: pycparser in /opt/conda/lib/python3.10/site-packages (from cffi>=1.12->cryptography!=40.0.0,!=40.0.1,<42,>=38.0.0->pyOpenSSL>=0.13->gsutil->-r /workspace/requirements.txt (line 13)) (2.21)\n",
      "Downloading tensorflow-2.13.0-cp310-cp310-manylinux_2_17_x86_64.manylinux2014_x86_64.whl (524.1 MB)\n",
      "   ━━━━━━━━━━━━━━━━━━━━━━━━━━━━━━━━━━━━━━━ 524.1/524.1 MB 227.1 MB/s eta 0:00:00\n",
      "Downloading tf_agents-0.17.0-py3-none-any.whl (1.4 MB)\n",
      "   ━━━━━━━━━━━━━━━━━━━━━━━━━━━━━━━━━━━━━━━━ 1.4/1.4 MB 243.0 MB/s eta 0:00:00\n",
      "Downloading argcomplete-3.1.2-py3-none-any.whl (41 kB)\n",
      "   ━━━━━━━━━━━━━━━━━━━━━━━━━━━━━━━━━━━━━━━━ 41.5/41.5 kB 179.3 MB/s eta 0:00:00\n",
      "Downloading grpcio-1.59.0-cp310-cp310-manylinux_2_17_x86_64.manylinux2014_x86_64.whl (5.3 MB)\n",
      "   ━━━━━━━━━━━━━━━━━━━━━━━━━━━━━━━━━━━━━━━━ 5.3/5.3 MB 222.2 MB/s eta 0:00:00\n",
      "Downloading keras-2.13.1-py3-none-any.whl (1.7 MB)\n",
      "   ━━━━━━━━━━━━━━━━━━━━━━━━━━━━━━━━━━━━━━━━ 1.7/1.7 MB 135.4 MB/s eta 0:00:00\n",
      "Downloading tensorflow_estimator-2.13.0-py2.py3-none-any.whl (440 kB)\n",
      "   ━━━━━━━━━━━━━━━━━━━━━━━━━━━━━━━━━━━━━━━ 440.8/440.8 kB 226.6 MB/s eta 0:00:00\n",
      "Downloading tensorflow_probability-0.20.1-py2.py3-none-any.whl (6.9 MB)\n",
      "   ━━━━━━━━━━━━━━━━━━━━━━━━━━━━━━━━━━━━━━━━ 6.9/6.9 MB 147.2 MB/s eta 0:00:00\n",
      "Building wheels for collected packages: gsutil, gcs-oauth2-boto-plugin, gym, retry_decorator\n",
      "  Building wheel for gsutil (setup.py): started\n",
      "  Building wheel for gsutil (setup.py): finished with status 'done'\n",
      "  Created wheel for gsutil: filename=gsutil-5.26-py3-none-any.whl size=3792508 sha256=237bc2a66d24676b2b70d9d5690b15a179edc17c2b04f45da8f1a7b0d89654a0\n",
      "  Stored in directory: /tmp/pip-ephem-wheel-cache-8dpjk6xx/wheels/46/50/9a/6e6ee3382badc9e8f7e9619b7b635a2f1c3ff5ebe060b7237e\n",
      "  Building wheel for gcs-oauth2-boto-plugin (setup.py): started\n",
      "  Building wheel for gcs-oauth2-boto-plugin (setup.py): finished with status 'done'\n",
      "  Created wheel for gcs-oauth2-boto-plugin: filename=gcs_oauth2_boto_plugin-3.0-py3-none-any.whl size=23214 sha256=1c6d012abd9b2b5453535ac464e0ce095872759d0124ab7e6335bcc380b0d402\n",
      "  Stored in directory: /tmp/pip-ephem-wheel-cache-8dpjk6xx/wheels/77/2a/cd/c7b51b51563ebefe01488e3ecb19df401ea6725771937d3bc6\n",
      "  Building wheel for gym (pyproject.toml): started\n",
      "  Building wheel for gym (pyproject.toml): finished with status 'done'\n",
      "  Created wheel for gym: filename=gym-0.23.0-py3-none-any.whl size=697632 sha256=d50722401cf2f5fb06a2607af90e0ae920413714e01f1715b3c2f4a5965c4ddb\n",
      "  Stored in directory: /tmp/pip-ephem-wheel-cache-8dpjk6xx/wheels/3d/6f/b4/3991d4fae11d0ecb0754c11cc1b4e7745012850da4efaaf0b1\n",
      "  Building wheel for retry_decorator (setup.py): started\n",
      "  Building wheel for retry_decorator (setup.py): finished with status 'done'\n",
      "  Created wheel for retry_decorator: filename=retry_decorator-1.1.1-py2.py3-none-any.whl size=3639 sha256=ba1258ffef9f3a16b9d024ff69fa98b2e5e89fa8e2bdf3cba1a52acd40906d26\n",
      "  Stored in directory: /tmp/pip-ephem-wheel-cache-8dpjk6xx/wheels/dd/ac/77/8c54eac0d373d9eacfbe42599710c9bf91b4c5985297f6922a\n",
      "Successfully built gsutil gcs-oauth2-boto-plugin gym retry_decorator\n",
      "Installing collected packages: tensorboard-plugin-wit, retry_decorator, monotonic, gym-notices, gin-config, boto, werkzeug, tensorflow-probability, tensorflow-estimator, rsa, pygame, keras, httplib2, gym, grpcio, argcomplete, tf-agents, google-reauth, google-apitools, tensorboard, gcs-oauth2-boto-plugin, tensorflow, gsutil\n",
      "  Attempting uninstall: werkzeug\n",
      "    Found existing installation: Werkzeug 2.1.2\n",
      "    Uninstalling Werkzeug-2.1.2:\n",
      "      Successfully uninstalled Werkzeug-2.1.2\n",
      "  Attempting uninstall: tensorflow-probability\n",
      "    Found existing installation: tensorflow-probability 0.21.0\n",
      "    Uninstalling tensorflow-probability-0.21.0:\n",
      "      Successfully uninstalled tensorflow-probability-0.21.0\n",
      "  Attempting uninstall: tensorflow-estimator\n",
      "    Found existing installation: tensorflow-estimator 2.12.0\n",
      "    Uninstalling tensorflow-estimator-2.12.0:\n",
      "      Successfully uninstalled tensorflow-estimator-2.12.0\n",
      "  Attempting uninstall: rsa\n",
      "    Found existing installation: rsa 4.9\n",
      "    Uninstalling rsa-4.9:\n",
      "      Successfully uninstalled rsa-4.9\n",
      "  Attempting uninstall: keras\n",
      "    Found existing installation: keras 2.12.0\n",
      "    Uninstalling keras-2.12.0:\n",
      "      Successfully uninstalled keras-2.12.0\n",
      "  Attempting uninstall: httplib2\n",
      "    Found existing installation: httplib2 0.21.0\n",
      "    Uninstalling httplib2-0.21.0:\n",
      "      Successfully uninstalled httplib2-0.21.0\n",
      "  Attempting uninstall: grpcio\n",
      "    Found existing installation: grpcio 1.48.1\n",
      "    Uninstalling grpcio-1.48.1:\n",
      "      Successfully uninstalled grpcio-1.48.1\n",
      "  Attempting uninstall: google-apitools\n",
      "    Found existing installation: google-apitools 0.5.31\n",
      "    Uninstalling google-apitools-0.5.31:\n",
      "      Successfully uninstalled google-apitools-0.5.31\n",
      "  Attempting uninstall: tensorboard\n",
      "    Found existing installation: tensorboard 2.12.3\n",
      "    Uninstalling tensorboard-2.12.3:\n",
      "      Successfully uninstalled tensorboard-2.12.3\n",
      "  Attempting uninstall: tensorflow\n",
      "    Found existing installation: tensorflow 2.12.0\n",
      "    Uninstalling tensorflow-2.12.0:\n",
      "      Successfully uninstalled tensorflow-2.12.0\n",
      "Successfully installed argcomplete-3.1.2 boto-2.49.0 gcs-oauth2-boto-plugin-3.0 gin-config-0.5.0 google-apitools-0.5.32 google-reauth-0.1.1 grpcio-1.57.0 gsutil-5.26 gym-0.23.0 gym-notices-0.0.8 httplib2-0.20.4 keras-2.13.1 monotonic-1.6 pygame-2.1.3 retry_decorator-1.1.1 rsa-4.7.2 tensorboard-2.13.0 tensorboard-plugin-wit-1.8.1 tensorflow-2.13.0 tensorflow-estimator-2.13.0 tensorflow-probability-0.20.1 tf-agents-0.17.0 werkzeug-2.0.3\n",
      "\u001b[91mWARNING: Running pip as the 'root' user can result in broken permissions and conflicting behaviour with the system package manager. It is recommended to use a virtual environment instead: https://pip.pypa.io/warnings/venv\n",
      "\u001b[0mRemoving intermediate container 450d46adc351\n",
      " ---> 26e60b956066\n",
      "Step 8/14 : RUN ls $APP_HOME\n",
      " ---> Running in d67817fec3c6\n",
      "requirements.txt\n",
      "Removing intermediate container d67817fec3c6\n",
      " ---> 34000ae2aab3\n",
      "Step 9/14 : COPY src/perarm_features $APP_HOME/src/perarm_features\n",
      " ---> 841d30f50038\n",
      "Step 10/14 : COPY src/per_arm_rl $APP_HOME/src/per_arm_rl\n",
      " ---> 055f0a35260f\n",
      "Step 11/14 : RUN apt update && apt -y install nvtop\n",
      " ---> Running in 98fc3a2e59ad\n",
      "\u001b[91m\n",
      "WARNING: apt does not have a stable CLI interface. Use with caution in scripts.\n",
      "\n",
      "\u001b[0mGet:1 http://archive.ubuntu.com/ubuntu jammy InRelease [270 kB]\n",
      "Get:2 http://packages.cloud.google.com/apt gcsfuse-focal InRelease [5023 B]\n",
      "Get:3 https://developer.download.nvidia.com/compute/cuda/repos/ubuntu2204/x86_64  InRelease [1581 B]\n",
      "Get:4 http://security.ubuntu.com/ubuntu jammy-security InRelease [110 kB]\n",
      "Get:5 https://packages.cloud.google.com/apt cloud-sdk InRelease [6361 B]\n",
      "Get:6 http://archive.ubuntu.com/ubuntu jammy-updates InRelease [119 kB]\n",
      "Get:7 http://archive.ubuntu.com/ubuntu jammy-backports InRelease [109 kB]\n",
      "Get:8 http://packages.cloud.google.com/apt gcsfuse-focal/main amd64 Packages [2851 B]\n",
      "Get:9 https://developer.download.nvidia.com/compute/cuda/repos/ubuntu2204/x86_64  Packages [518 kB]\n",
      "Get:10 http://archive.ubuntu.com/ubuntu jammy/universe amd64 Packages [17.5 MB]\n",
      "Get:11 https://packages.cloud.google.com/apt google-fast-socket InRelease [5015 B]\n",
      "Get:12 http://archive.ubuntu.com/ubuntu jammy/multiverse amd64 Packages [266 kB]\n",
      "Get:13 http://archive.ubuntu.com/ubuntu jammy/main amd64 Packages [1792 kB]\n",
      "Get:14 http://archive.ubuntu.com/ubuntu jammy/restricted amd64 Packages [164 kB]\n",
      "Get:15 http://archive.ubuntu.com/ubuntu jammy-updates/restricted amd64 Packages [1244 kB]\n",
      "Get:16 http://archive.ubuntu.com/ubuntu jammy-updates/universe amd64 Packages [1266 kB]\n",
      "Get:17 https://packages.cloud.google.com/apt cloud-sdk/main amd64 Packages [522 kB]\n",
      "Get:18 http://archive.ubuntu.com/ubuntu jammy-updates/main amd64 Packages [1337 kB]\n",
      "Get:19 http://archive.ubuntu.com/ubuntu jammy-updates/multiverse amd64 Packages [49.8 kB]\n",
      "Get:20 http://archive.ubuntu.com/ubuntu jammy-backports/main amd64 Packages [50.4 kB]\n",
      "Get:21 http://archive.ubuntu.com/ubuntu jammy-backports/universe amd64 Packages [28.1 kB]\n",
      "Get:22 http://security.ubuntu.com/ubuntu jammy-security/restricted amd64 Packages [1223 kB]\n",
      "Get:23 https://packages.cloud.google.com/apt google-fast-socket/main amd64 Packages [447 B]\n",
      "Get:24 http://security.ubuntu.com/ubuntu jammy-security/main amd64 Packages [1078 kB]\n",
      "Get:25 http://security.ubuntu.com/ubuntu jammy-security/multiverse amd64 Packages [44.0 kB]\n",
      "Get:26 http://security.ubuntu.com/ubuntu jammy-security/universe amd64 Packages [1002 kB]\n",
      "Fetched 28.7 MB in 2s (12.3 MB/s)\n",
      "Reading package lists...\n",
      "Building dependency tree...\n",
      "Reading state information...\n",
      "30 packages can be upgraded. Run 'apt list --upgradable' to see them.\n",
      "\u001b[91mW: http://packages.cloud.google.com/apt/dists/gcsfuse-focal/InRelease: Key is stored in legacy trusted.gpg keyring (/etc/apt/trusted.gpg), see the DEPRECATION section in apt-key(8) for details.\n",
      "W: https://packages.cloud.google.com/apt/dists/google-fast-socket/InRelease: Key is stored in legacy trusted.gpg keyring (/etc/apt/trusted.gpg), see the DEPRECATION section in apt-key(8) for details.\n",
      "\u001b[0m\u001b[91m\n",
      "WARNING: apt does not have a stable CLI interface. Use with caution in scripts.\n",
      "\n",
      "\u001b[0mReading package lists...\n",
      "Building dependency tree...\n",
      "Reading state information...\n",
      "The following NEW packages will be installed:\n",
      "  nvtop\n",
      "0 upgraded, 1 newly installed, 0 to remove and 30 not upgraded.\n",
      "Need to get 43.9 kB of archives.\n",
      "After this operation, 106 kB of additional disk space will be used.\n",
      "Get:1 http://archive.ubuntu.com/ubuntu jammy/multiverse amd64 nvtop amd64 1.2.2-1 [43.9 kB]\n",
      "\u001b[91mdebconf: unable to initialize frontend: Dialog\n",
      "debconf: (TERM is not set, so the dialog frontend is not usable.)\n",
      "debconf: falling back to frontend: Readline\n",
      "\u001b[0m\u001b[91mdebconf: unable to initialize frontend: Readline\n",
      "debconf: (This frontend requires a controlling tty.)\n",
      "debconf: falling back to frontend: Teletype\n",
      "\u001b[0m\u001b[91mdpkg-preconfigure: unable to re-open stdin: \n",
      "\u001b[0mFetched 43.9 kB in 9s (4913 B/s)\n",
      "Selecting previously unselected package nvtop.\n",
      "(Reading database ... 93502 files and directories currently installed.)\n",
      "Preparing to unpack .../nvtop_1.2.2-1_amd64.deb ...\n",
      "Unpacking nvtop (1.2.2-1) ...\n",
      "Setting up nvtop (1.2.2-1) ...\n",
      "Processing triggers for man-db (2.10.2-1) ...\n",
      "Removing intermediate container 98fc3a2e59ad\n",
      " ---> 6bbfee40b771\n",
      "Step 12/14 : RUN ls $APP_HOME\n",
      " ---> Running in 732cfd6b9312\n",
      "requirements.txt\n",
      "src\n",
      "Removing intermediate container 732cfd6b9312\n",
      " ---> 19e5c415527a\n",
      "Step 13/14 : RUN export PYTHONPATH=${PYTHONPATH}:${APP_HOME}/\n",
      " ---> Running in d6e6e22a043e\n",
      "Removing intermediate container d6e6e22a043e\n",
      " ---> ba7e5d988f33\n",
      "Step 14/14 : ENTRYPOINT [\"python3\", \"-m\", \"src.perarm_features.task\"]\n",
      " ---> Running in 27ba2e36c60b\n",
      "Removing intermediate container 27ba2e36c60b\n",
      " ---> 396e2996e177\n",
      "Successfully built 396e2996e177\n",
      "Successfully tagged us-central1-docker.pkg.dev/hybrid-vertex/rl-movielens-mabv1/train-perarm-feats-v1:latest\n"
     ]
    }
   ],
   "source": [
    "!docker build -t $REMOTE_IMAGE_NAME -f $DOCKERNAME ."
   ]
  },
  {
   "cell_type": "markdown",
   "id": "a6110439-f66a-4d6b-8105-17a08ce9b8da",
   "metadata": {},
   "source": [
    "### Push container to Registry"
   ]
  },
  {
   "cell_type": "code",
   "execution_count": 16,
   "id": "54a714cf-053c-4f14-b375-2a42ae2092f9",
   "metadata": {},
   "outputs": [
    {
     "name": "stdout",
     "output_type": "stream",
     "text": [
      "Using default tag: latest\n",
      "The push refers to repository [us-central1-docker.pkg.dev/hybrid-vertex/rl-movielens-mabv1/train-perarm-feats-v1]\n",
      "\n",
      "\u001b[1B4588a995: Preparing \n",
      "\u001b[1B1be53798: Preparing \n",
      "\u001b[1Ba4275e68: Preparing \n",
      "\u001b[1B888d60b4: Preparing \n",
      "\u001b[1B660aaeb4: Preparing \n",
      "\u001b[1Beb5dce44: Preparing \n",
      "\u001b[1B5e48771c: Preparing \n",
      "\u001b[1B66a42995: Preparing \n",
      "\u001b[1Be50f8e92: Preparing \n",
      "\u001b[1Be289181a: Preparing \n",
      "\u001b[1Bb5a27b90: Preparing \n",
      "\u001b[1B492dc9b6: Preparing \n",
      "\u001b[1B1042b0da: Preparing \n",
      "\u001b[1B03634fe6: Preparing \n",
      "\u001b[1Bb1b74e71: Preparing \n",
      "\u001b[1Bf31f5d7e: Preparing \n",
      "\u001b[1B6195ee3c: Preparing \n",
      "\u001b[1Bffbd43ec: Preparing \n",
      "\u001b[1B8feea017: Preparing \n",
      "\u001b[1Bbdb31fb7: Preparing \n",
      "\u001b[1B6623bd9c: Preparing \n",
      "\u001b[1B3903d06c: Preparing \n",
      "\u001b[1Bc3339ceb: Preparing \n",
      "\u001b[1B0b71d36c: Preparing \n",
      "\u001b[1B979ef0d7: Preparing \n",
      "\u001b[1B16d8d213: Preparing \n",
      "\u001b[1Bca06987e: Preparing \n",
      "\u001b[1B4c28b064: Preparing \n",
      "\u001b[1B82c8dc78: Preparing \n",
      "\u001b[1B3b5920e8: Preparing \n",
      "\u001b[1B5d7e0e9a: Preparing \n",
      "\u001b[27Bb5dce44: Waiting g \n",
      "\u001b[1Bcdbeba29: Preparing \n",
      "\u001b[1B82e04ede: Preparing \n",
      "\u001b[29Be48771c: Waiting g \n",
      "\u001b[29B6a42995: Waiting g \n",
      "\u001b[29B50f8e92: Waiting g \n",
      "\u001b[1Ba6feba89: Preparing \n",
      "\u001b[30B289181a: Waiting g \n",
      "\u001b[30B5a27b90: Waiting g \n",
      "\u001b[30B92dc9b6: Waiting g \n",
      "\u001b[1B215846ee: Preparing \n",
      "\u001b[21B3339ceb: Waiting g \n",
      "\u001b[31B3634fe6: Waiting g \n",
      "\u001b[18Bc28b064: Waiting g \n",
      "\u001b[37B289181a: Pushed    5.19GB/4.913GB\u001b[46A\u001b[2K\u001b[46A\u001b[2K\u001b[46A\u001b[2K\u001b[44A\u001b[2K\u001b[41A\u001b[2K\u001b[43A\u001b[2K\u001b[46A\u001b[2K\u001b[40A\u001b[2K\u001b[45A\u001b[2K\u001b[43A\u001b[2K\u001b[41A\u001b[2K\u001b[38A\u001b[2K\u001b[46A\u001b[2K\u001b[37A\u001b[2K\u001b[46A\u001b[2K\u001b[37A\u001b[2K\u001b[46A\u001b[2K\u001b[43A\u001b[2K\u001b[39A\u001b[2K\u001b[43A\u001b[2K\u001b[37A\u001b[2K\u001b[43A\u001b[2K\u001b[37A\u001b[2K\u001b[46A\u001b[2K\u001b[37A\u001b[2K\u001b[46A\u001b[2K\u001b[37A\u001b[2K\u001b[46A\u001b[2K\u001b[38A\u001b[2K\u001b[46A\u001b[2K\u001b[38A\u001b[2K\u001b[43A\u001b[2K\u001b[46A\u001b[2K\u001b[37A\u001b[2K\u001b[46A\u001b[2K\u001b[37A\u001b[2K\u001b[43A\u001b[2K\u001b[37A\u001b[2K\u001b[39A\u001b[2K\u001b[37A\u001b[2K\u001b[46A\u001b[2K\u001b[37A\u001b[2K\u001b[46A\u001b[2K\u001b[43A\u001b[2K\u001b[37A\u001b[2K\u001b[39A\u001b[2K\u001b[43A\u001b[2K\u001b[46A\u001b[2K\u001b[43A\u001b[2K\u001b[37A\u001b[2K\u001b[43A\u001b[2K\u001b[46A\u001b[2K\u001b[43A\u001b[2K\u001b[36A\u001b[2K\u001b[43A\u001b[2K\u001b[37A\u001b[2K\u001b[39A\u001b[2K\u001b[37A\u001b[2K\u001b[43A\u001b[2K\u001b[34A\u001b[2K\u001b[43A\u001b[2K\u001b[37A\u001b[2K\u001b[37A\u001b[2K\u001b[39A\u001b[2K\u001b[37A\u001b[2K\u001b[43A\u001b[2K\u001b[37A\u001b[2K\u001b[35A\u001b[2K\u001b[37A\u001b[2K\u001b[35A\u001b[2K\u001b[37A\u001b[2K\u001b[39A\u001b[2K\u001b[43A\u001b[2K\u001b[32A\u001b[2K\u001b[39A\u001b[2K\u001b[35A\u001b[2K\u001b[39A\u001b[2K\u001b[43A\u001b[2K\u001b[39A\u001b[2K\u001b[43A\u001b[2K\u001b[39A\u001b[2K\u001b[37A\u001b[2K\u001b[39A\u001b[2K\u001b[37A\u001b[2K\u001b[43A\u001b[2K\u001b[37A\u001b[2K\u001b[43A\u001b[2K\u001b[30A\u001b[2K\u001b[35A\u001b[2K\u001b[37A\u001b[2K\u001b[43A\u001b[2K\u001b[37A\u001b[2K\u001b[43A\u001b[2K\u001b[35A\u001b[2K\u001b[29A\u001b[2K\u001b[35A\u001b[2K\u001b[39A\u001b[2K\u001b[37A\u001b[2K\u001b[39A\u001b[2K\u001b[35A\u001b[2K\u001b[37A\u001b[2K\u001b[28A\u001b[2K\u001b[35A\u001b[2K\u001b[43A\u001b[2K\u001b[37A\u001b[2K\u001b[43A\u001b[2K\u001b[39A\u001b[2K\u001b[43A\u001b[2K\u001b[39A\u001b[2K\u001b[35A\u001b[2K\u001b[37A\u001b[2K\u001b[35A\u001b[2K\u001b[37A\u001b[2K\u001b[39A\u001b[2K\u001b[43A\u001b[2K\u001b[37A\u001b[2K\u001b[43A\u001b[2K\u001b[26A\u001b[2K\u001b[43A\u001b[2K\u001b[39A\u001b[2K\u001b[43A\u001b[2K\u001b[35A\u001b[2K\u001b[43A\u001b[2K\u001b[37A\u001b[2K\u001b[43A\u001b[2K\u001b[24A\u001b[2K\u001b[43A\u001b[2K\u001b[37A\u001b[2K\u001b[35A\u001b[2K\u001b[43A\u001b[2K\u001b[37A\u001b[2K\u001b[43A\u001b[2K\u001b[37A\u001b[2K\u001b[43A\u001b[2K\u001b[37A\u001b[2K\u001b[35A\u001b[2K\u001b[43A\u001b[2K\u001b[35A\u001b[2K\u001b[23A\u001b[2K\u001b[37A\u001b[2K\u001b[35A\u001b[2K\u001b[23A\u001b[2K\u001b[35A\u001b[2K\u001b[43A\u001b[2K\u001b[39A\u001b[2K\u001b[43A\u001b[2K\u001b[37A\u001b[2K\u001b[35A\u001b[2K\u001b[37A\u001b[2K\u001b[22A\u001b[2K\u001b[43A\u001b[2K\u001b[35A\u001b[2K\u001b[43A\u001b[2K\u001b[22A\u001b[2K\u001b[43A\u001b[2K\u001b[21A\u001b[2K\u001b[43A\u001b[2K\u001b[35A\u001b[2K\u001b[43A\u001b[2K\u001b[35A\u001b[2K\u001b[43A\u001b[2K\u001b[35A\u001b[2K\u001b[43A\u001b[2K\u001b[20A\u001b[2K\u001b[37A\u001b[2K\u001b[20A\u001b[2K\u001b[35A\u001b[2K\u001b[20A\u001b[2K\u001b[23A\u001b[2K\u001b[20A\u001b[2K\u001b[23A\u001b[2K\u001b[20A\u001b[2K\u001b[35A\u001b[2K\u001b[20A\u001b[2K\u001b[35A\u001b[2K\u001b[20A\u001b[2K\u001b[43A\u001b[2K\u001b[20A\u001b[2K\u001b[43A\u001b[2K\u001b[20A\u001b[2K\u001b[43A\u001b[2K\u001b[20A\u001b[2K\u001b[35A\u001b[2K\u001b[23A\u001b[2K\u001b[35A\u001b[2K\u001b[43A\u001b[2K\u001b[35A\u001b[2K\u001b[43A\u001b[2K\u001b[37A\u001b[2K\u001b[35A\u001b[2K\u001b[37A\u001b[2K\u001b[20A\u001b[2K\u001b[43A\u001b[2K\u001b[37A\u001b[2K\u001b[43A\u001b[2K\u001b[35A\u001b[2K\u001b[19A\u001b[2K\u001b[23A\u001b[2K\u001b[19A\u001b[2K\u001b[35A\u001b[2K\u001b[43A\u001b[2K\u001b[19A\u001b[2K\u001b[43A\u001b[2K\u001b[37A\u001b[2K\u001b[23A\u001b[2K\u001b[37A\u001b[2K\u001b[23A\u001b[2K\u001b[37A\u001b[2K\u001b[23A\u001b[2K\u001b[43A\u001b[2K\u001b[37A\u001b[2K\u001b[18A\u001b[2K\u001b[37A\u001b[2K\u001b[18A\u001b[2K\u001b[35A\u001b[2K\u001b[18A\u001b[2K\u001b[37A\u001b[2K\u001b[18A\u001b[2K\u001b[43A\u001b[2K\u001b[18A\u001b[2K\u001b[43A\u001b[2K\u001b[37A\u001b[2K\u001b[18A\u001b[2K\u001b[35A\u001b[2K\u001b[18A\u001b[2K\u001b[35A\u001b[2K\u001b[18A\u001b[2K\u001b[35A\u001b[2K\u001b[18A\u001b[2K\u001b[23A\u001b[2K\u001b[37A\u001b[2K\u001b[18A\u001b[2K\u001b[35A\u001b[2K\u001b[18A\u001b[2K\u001b[35A\u001b[2K\u001b[18A\u001b[2K\u001b[35A\u001b[2K\u001b[23A\u001b[2K\u001b[35A\u001b[2K\u001b[43A\u001b[2K\u001b[18A\u001b[2K\u001b[43A\u001b[2K\u001b[18A\u001b[2K\u001b[43A\u001b[2K\u001b[18A\u001b[2K\u001b[43A\u001b[2K\u001b[37A\u001b[2K\u001b[43A\u001b[2K\u001b[37A\u001b[2K\u001b[43A\u001b[2K\u001b[37A\u001b[2K\u001b[43A\u001b[2K\u001b[18A\u001b[2K\u001b[43A\u001b[2K\u001b[18A\u001b[2K\u001b[18A\u001b[2K\u001b[23A\u001b[2K\u001b[35A\u001b[2K\u001b[37A\u001b[2K\u001b[35A\u001b[2K\u001b[17A\u001b[2K\u001b[43A\u001b[2K\u001b[17A\u001b[2K\u001b[35A\u001b[2K\u001b[23A\u001b[2K\u001b[37A\u001b[2K\u001b[23A\u001b[2K\u001b[17A\u001b[2K\u001b[43A\u001b[2K\u001b[17A\u001b[2K\u001b[43A\u001b[2K\u001b[17A\u001b[2K\u001b[37A\u001b[2K\u001b[23A\u001b[2K\u001b[35A\u001b[2K\u001b[17A\u001b[2K\u001b[35A\u001b[2K\u001b[17A\u001b[2K\u001b[23A\u001b[2K\u001b[17A\u001b[2K\u001b[35A\u001b[2K\u001b[17A\u001b[2K\u001b[37A\u001b[2K\u001b[17A\u001b[2K\u001b[23A\u001b[2K\u001b[17A\u001b[2K\u001b[23A\u001b[2K\u001b[35A\u001b[2K\u001b[37A\u001b[2K\u001b[43A\u001b[2K\u001b[37A\u001b[2K\u001b[23A\u001b[2K\u001b[37A\u001b[2K\u001b[37A\u001b[2K\u001b[17A\u001b[2K\u001b[37A\u001b[2K\u001b[35A\u001b[2K\u001b[43A\u001b[2K\u001b[35A\u001b[2K\u001b[37A\u001b[2K\u001b[17A\u001b[2K\u001b[37A\u001b[2K\u001b[43A\u001b[2K\u001b[37A\u001b[2K\u001b[23A\u001b[2K\u001b[43A\u001b[2K\u001b[17A\u001b[2K\u001b[37A\u001b[2K\u001b[17A\u001b[2K\u001b[37A\u001b[2K\u001b[17A\u001b[2K\u001b[35A\u001b[2K\u001b[17A\u001b[2K\u001b[37A\u001b[2K\u001b[23A\u001b[2K\u001b[35A\u001b[2K\u001b[23A\u001b[2K\u001b[35A\u001b[2K\u001b[43A\u001b[2K\u001b[23A\u001b[2K\u001b[43A\u001b[2K\u001b[23A\u001b[2K\u001b[43A\u001b[2K\u001b[23A\u001b[2K\u001b[35A\u001b[2K\u001b[37A\u001b[2K\u001b[35A\u001b[2K\u001b[17A\u001b[2K\u001b[23A\u001b[2K\u001b[17A\u001b[2K\u001b[43A\u001b[2K\u001b[35A\u001b[2K\u001b[37A\u001b[2K\u001b[43A\u001b[2K\u001b[17A\u001b[2K\u001b[43A\u001b[2K\u001b[17A\u001b[2K\u001b[43A\u001b[2K\u001b[35A\u001b[2K\u001b[43A\u001b[2K\u001b[35A\u001b[2K\u001b[17A\u001b[2K\u001b[23A\u001b[2K\u001b[17A\u001b[2K\u001b[23A\u001b[2K\u001b[35A\u001b[2K\u001b[23A\u001b[2K\u001b[35A\u001b[2K\u001b[23A\u001b[2K\u001b[37A\u001b[2K\u001b[43A\u001b[2K\u001b[37A\u001b[2K\u001b[23A\u001b[2K\u001b[17A\u001b[2K\u001b[35A\u001b[2K\u001b[35A\u001b[2K\u001b[43A\u001b[2K\u001b[17A\u001b[2K\u001b[37A\u001b[2K\u001b[17A\u001b[2K\u001b[23A\u001b[2K\u001b[17A\u001b[2K\u001b[23A\u001b[2K\u001b[37A\u001b[2K\u001b[23A\u001b[2K\u001b[43A\u001b[2K\u001b[23A\u001b[2K\u001b[35A\u001b[2K\u001b[23A\u001b[2K\u001b[37A\u001b[2K\u001b[23A\u001b[2K\u001b[37A\u001b[2K\u001b[35A\u001b[2K\u001b[17A\u001b[2K\u001b[35A\u001b[2K\u001b[17A\u001b[2K\u001b[35A\u001b[2K\u001b[37A\u001b[2K\u001b[43A\u001b[2K\u001b[37A\u001b[2K\u001b[23A\u001b[2K\u001b[35A\u001b[2K\u001b[23A\u001b[2K\u001b[43A\u001b[2K\u001b[37A\u001b[2K\u001b[35A\u001b[2K\u001b[17A\u001b[2K\u001b[43A\u001b[2K\u001b[17A\u001b[2K\u001b[43A\u001b[2K\u001b[35A\u001b[2K\u001b[43A\u001b[2K\u001b[17A\u001b[2K\u001b[43A\u001b[2K\u001b[17A\u001b[2K\u001b[43A\u001b[2K\u001b[23A\u001b[2K\u001b[35A\u001b[2K\u001b[37A\u001b[2K\u001b[35A\u001b[2K\u001b[43A\u001b[2K\u001b[35A\u001b[2K\u001b[37A\u001b[2K\u001b[17A\u001b[2K\u001b[35A\u001b[2K\u001b[17A\u001b[2K\u001b[35A\u001b[2K\u001b[23A\u001b[2K\u001b[35A\u001b[2K\u001b[23A\u001b[2K\u001b[35A\u001b[2K\u001b[23A\u001b[2K\u001b[35A\u001b[2K\u001b[23A\u001b[2K\u001b[35A\u001b[2K\u001b[23A\u001b[2K\u001b[23A\u001b[2K\u001b[43A\u001b[2K\u001b[23A\u001b[2K\u001b[37A\u001b[2K\u001b[23A\u001b[2K\u001b[37A\u001b[2K\u001b[23A\u001b[2K\u001b[37A\u001b[2K\u001b[43A\u001b[2K\u001b[23A\u001b[2K\u001b[43A\u001b[2K\u001b[23A\u001b[2K\u001b[43A\u001b[2K\u001b[23A\u001b[2K\u001b[43A\u001b[2K\u001b[35A\u001b[2K\u001b[17A\u001b[2K\u001b[35A\u001b[2K\u001b[17A\u001b[2K\u001b[37A\u001b[2K\u001b[23A\u001b[2K\u001b[17A\u001b[2K\u001b[35A\u001b[2K\u001b[17A\u001b[2K\u001b[37A\u001b[2K\u001b[17A\u001b[2K\u001b[37A\u001b[2K\u001b[23A\u001b[2K\u001b[37A\u001b[2K\u001b[35A\u001b[2K\u001b[43A\u001b[2K\u001b[35A\u001b[2K\u001b[23A\u001b[2K\u001b[37A\u001b[2K\u001b[23A\u001b[2K\u001b[37A\u001b[2K\u001b[35A\u001b[2K\u001b[43A\u001b[2K\u001b[35A\u001b[2K\u001b[43A\u001b[2K\u001b[35A\u001b[2K\u001b[23A\u001b[2K\u001b[35A\u001b[2K\u001b[43A\u001b[2K\u001b[17A\u001b[2K\u001b[35A\u001b[2K\u001b[17A\u001b[2K\u001b[43A\u001b[2K\u001b[17A\u001b[2K\u001b[37A\u001b[2K\u001b[17A\u001b[2K\u001b[37A\u001b[2K\u001b[17A\u001b[2K\u001b[43A\u001b[2K\u001b[23A\u001b[2K\u001b[43A\u001b[2K\u001b[23A\u001b[2K\u001b[43A\u001b[2K\u001b[37A\u001b[2K\u001b[43A\u001b[2K\u001b[17A\u001b[2K\u001b[23A\u001b[2K\u001b[35A\u001b[2K\u001b[37A\u001b[2K\u001b[35A\u001b[2K\u001b[23A\u001b[2K\u001b[35A\u001b[2K\u001b[23A\u001b[2K\u001b[43A\u001b[2K\u001b[35A\u001b[2K\u001b[43A\u001b[2K\u001b[23A\u001b[2K\u001b[17A\u001b[2K\u001b[37A\u001b[2K\u001b[17A\u001b[2K\u001b[43A\u001b[2K\u001b[35A\u001b[2K\u001b[43A\u001b[2K\u001b[37A\u001b[2K\u001b[43A\u001b[2K\u001b[37A\u001b[2K\u001b[17A\u001b[2K\u001b[23A\u001b[2K\u001b[35A\u001b[2K\u001b[23A\u001b[2K\u001b[35A\u001b[2K\u001b[17A\u001b[2K\u001b[35A\u001b[2K\u001b[37A\u001b[2K\u001b[23A\u001b[2K\u001b[35A\u001b[2K\u001b[23A\u001b[2K\u001b[43A\u001b[2K\u001b[17A\u001b[2K\u001b[43A\u001b[2K\u001b[17A\u001b[2K\u001b[23A\u001b[2K\u001b[17A\u001b[2K\u001b[23A\u001b[2K\u001b[17A\u001b[2K\u001b[37A\u001b[2K\u001b[43A\u001b[2K\u001b[23A\u001b[2K\u001b[17A\u001b[2K\u001b[35A\u001b[2K\u001b[23A\u001b[2K\u001b[35A\u001b[2K\u001b[16A\u001b[2K\u001b[17A\u001b[2K\u001b[37A\u001b[2K\u001b[17A\u001b[2K\u001b[35A\u001b[2K\u001b[16A\u001b[2K\u001b[35A\u001b[2K\u001b[16A\u001b[2K\u001b[43A\u001b[2K\u001b[17A\u001b[2K\u001b[16A\u001b[2K\u001b[37A\u001b[2K\u001b[17A\u001b[2K\u001b[37A\u001b[2K\u001b[17A\u001b[2K\u001b[37A\u001b[2K\u001b[17A\u001b[2K\u001b[16A\u001b[2K\u001b[17A\u001b[2K\u001b[16A\u001b[2K\u001b[17A\u001b[2K\u001b[16A\u001b[2K\u001b[37A\u001b[2K\u001b[16A\u001b[2K\u001b[37A\u001b[2K\u001b[16A\u001b[2K\u001b[37A\u001b[2K\u001b[16A\u001b[2K\u001b[37A\u001b[2K\u001b[16A\u001b[2K\u001b[35A\u001b[2K\u001b[16A\u001b[2K\u001b[37A\u001b[2K\u001b[16A\u001b[2K\u001b[37A\u001b[2K\u001b[16A\u001b[2K\u001b[43A\u001b[2K\u001b[35A\u001b[2K\u001b[16A\u001b[2K\u001b[37A\u001b[2K\u001b[16A\u001b[2K\u001b[37A\u001b[2K\u001b[16A\u001b[2K\u001b[43A\u001b[2K\u001b[35A\u001b[2K\u001b[43A\u001b[2K\u001b[35A\u001b[2K\u001b[43A\u001b[2K\u001b[35A\u001b[2K\u001b[43A\u001b[2K\u001b[37A\u001b[2K\u001b[43A\u001b[2K\u001b[37A\u001b[2K\u001b[16A\u001b[2K\u001b[37A\u001b[2K\u001b[35A\u001b[2K\u001b[37A\u001b[2K\u001b[35A\u001b[2K\u001b[16A\u001b[2K\u001b[35A\u001b[2K\u001b[16A\u001b[2K\u001b[37A\u001b[2K\u001b[35A\u001b[2K\u001b[17A\u001b[2K\u001b[35A\u001b[2K\u001b[17A\u001b[2K\u001b[35A\u001b[2K\u001b[16A\u001b[2K\u001b[37A\u001b[2K\u001b[16A\u001b[2K\u001b[37A\u001b[2K\u001b[17A\u001b[2K\u001b[37A\u001b[2K\u001b[35A\u001b[2K\u001b[37A\u001b[2K\u001b[43A\u001b[2K\u001b[17A\u001b[2K\u001b[43A\u001b[2K\u001b[17A\u001b[2K\u001b[37A\u001b[2K\u001b[16A\u001b[2K\u001b[37A\u001b[2K\u001b[16A\u001b[2K\u001b[37A\u001b[2K\u001b[16A\u001b[2K\u001b[17A\u001b[2K\u001b[37A\u001b[2K\u001b[17A\u001b[2K\u001b[37A\u001b[2K\u001b[35A\u001b[2K\u001b[37A\u001b[2K\u001b[43A\u001b[2K\u001b[37A\u001b[2K\u001b[16A\u001b[2K\u001b[17A\u001b[2K\u001b[16A\u001b[2K\u001b[35A\u001b[2K\u001b[16A\u001b[2K\u001b[43A\u001b[2K\u001b[37A\u001b[2K\u001b[16A\u001b[2K\u001b[17A\u001b[2K\u001b[16A\u001b[2K\u001b[17A\u001b[2K\u001b[16A\u001b[2K\u001b[43A\u001b[2K\u001b[17A\u001b[2K\u001b[16A\u001b[2K\u001b[37A\u001b[2K\u001b[16A\u001b[2K\u001b[17A\u001b[2K\u001b[16A\u001b[2K\u001b[43A\u001b[2K\u001b[37A\u001b[2K\u001b[43A\u001b[2K\u001b[17A\u001b[2K\u001b[43A\u001b[2K\u001b[35A\u001b[2K\u001b[43A\u001b[2K\u001b[16A\u001b[2K\u001b[43A\u001b[2K\u001b[16A\u001b[2K\u001b[43A\u001b[2K\u001b[17A\u001b[2K\u001b[43A\u001b[2K\u001b[37A\u001b[2K\u001b[35A\u001b[2K\u001b[17A\u001b[2K\u001b[43A\u001b[2K\u001b[17A\u001b[2K\u001b[35A\u001b[2K\u001b[37A\u001b[2K\u001b[17A\u001b[2K\u001b[16A\u001b[2K\u001b[17A\u001b[2K\u001b[35A\u001b[2K\u001b[37A\u001b[2K\u001b[35A\u001b[2K\u001b[43A\u001b[2K\u001b[16A\u001b[2K\u001b[17A\u001b[2K\u001b[16A\u001b[2K\u001b[17A\u001b[2K\u001b[16A\u001b[2K\u001b[35A\u001b[2K\u001b[16A\u001b[2K\u001b[35A\u001b[2K\u001b[16A\u001b[2K\u001b[37A\u001b[2K\u001b[17A\u001b[2K\u001b[37A\u001b[2K\u001b[35A\u001b[2K\u001b[16A\u001b[2K\u001b[17A\u001b[2K\u001b[16A\u001b[2K\u001b[17A\u001b[2K\u001b[16A\u001b[2K\u001b[17A\u001b[2K\u001b[35A\u001b[2K\u001b[37A\u001b[2K\u001b[43A\u001b[2K\u001b[37A\u001b[2K\u001b[43A\u001b[2K\u001b[35A\u001b[2K\u001b[43A\u001b[2K\u001b[16A\u001b[2K\u001b[43A\u001b[2K\u001b[35A\u001b[2K\u001b[16A\u001b[2K\u001b[35A\u001b[2K\u001b[16A\u001b[2K\u001b[17A\u001b[2K\u001b[37A\u001b[2K\u001b[17A\u001b[2K\u001b[37A\u001b[2K\u001b[35A\u001b[2K\u001b[43A\u001b[2K\u001b[37A\u001b[2K\u001b[16A\u001b[2K\u001b[16A\u001b[2K\u001b[35A\u001b[2K\u001b[16A\u001b[2K\u001b[43A\u001b[2K\u001b[17A\u001b[2K\u001b[16A\u001b[2K\u001b[35A\u001b[2K\u001b[17A\u001b[2K\u001b[35A\u001b[2K\u001b[37A\u001b[2K\u001b[43A\u001b[2K\u001b[17A\u001b[2K\u001b[16A\u001b[2K\u001b[17A\u001b[2K\u001b[16A\u001b[2K\u001b[17A\u001b[2K\u001b[35A\u001b[2K\u001b[16A\u001b[2K\u001b[43A\u001b[2K\u001b[16A\u001b[2K\u001b[43A\u001b[2K\u001b[35A\u001b[2K\u001b[43A\u001b[2K\u001b[35A\u001b[2K\u001b[16A\u001b[2K\u001b[37A\u001b[2K\u001b[35A\u001b[2K\u001b[43A\u001b[2K\u001b[35A\u001b[2K\u001b[16A\u001b[2K\u001b[35A\u001b[2K\u001b[16A\u001b[2K\u001b[35A\u001b[2K\u001b[16A\u001b[2K\u001b[35A\u001b[2K\u001b[17A\u001b[2K\u001b[37A\u001b[2K\u001b[35A\u001b[2K\u001b[16A\u001b[2K\u001b[35A\u001b[2K\u001b[16A\u001b[2K\u001b[35A\u001b[2K\u001b[37A\u001b[2K\u001b[43A\u001b[2K\u001b[35A\u001b[2K\u001b[16A\u001b[2K\u001b[35A\u001b[2K\u001b[37A\u001b[2K\u001b[17A\u001b[2K\u001b[35A\u001b[2K\u001b[43A\u001b[2K\u001b[37A\u001b[2K\u001b[43A\u001b[2K\u001b[17A\u001b[2K\u001b[16A\u001b[2K\u001b[17A\u001b[2K\u001b[37A\u001b[2K\u001b[43A\u001b[2K\u001b[17A\u001b[2K\u001b[16A\u001b[2K\u001b[17A\u001b[2K\u001b[16A\u001b[2K\u001b[17A\u001b[2K\u001b[37A\u001b[2K\u001b[43A\u001b[2K\u001b[17A\u001b[2K\u001b[16A\u001b[2K\u001b[17A\u001b[2K\u001b[35A\u001b[2K\u001b[17A\u001b[2K\u001b[35A\u001b[2K\u001b[43A\u001b[2K\u001b[37A\u001b[2K\u001b[43A\u001b[2K\u001b[37A\u001b[2K\u001b[43A\u001b[2K\u001b[37A\u001b[2K\u001b[35A\u001b[2K\u001b[43A\u001b[2K\u001b[35A\u001b[2K\u001b[43A\u001b[2K\u001b[16A\u001b[2K\u001b[43A\u001b[2K\u001b[17A\u001b[2K\u001b[35A\u001b[2K\u001b[43A\u001b[2K\u001b[35A\u001b[2K\u001b[43A\u001b[2K\u001b[35A\u001b[2K\u001b[43A\u001b[2K\u001b[16A\u001b[2K\u001b[17A\u001b[2K\u001b[35A\u001b[2K\u001b[17A\u001b[2K\u001b[37A\u001b[2K\u001b[17A\u001b[2K\u001b[16A\u001b[2K\u001b[17A\u001b[2K\u001b[16A\u001b[2K\u001b[35A\u001b[2K\u001b[16A\u001b[2K\u001b[35A\u001b[2K\u001b[17A\u001b[2K\u001b[37A\u001b[2K\u001b[17A\u001b[2K\u001b[37A\u001b[2K\u001b[17A\u001b[2K\u001b[37A\u001b[2K\u001b[35A\u001b[2K\u001b[43A\u001b[2K\u001b[35A\u001b[2K\u001b[43A\u001b[2K\u001b[35A\u001b[2K\u001b[37A\u001b[2K\u001b[43A\u001b[2K\u001b[16A\u001b[2K\u001b[43A\u001b[2K\u001b[16A\u001b[2K\u001b[43A\u001b[2K\u001b[17A\u001b[2K\u001b[37A\u001b[2K\u001b[17A\u001b[2K\u001b[37A\u001b[2K\u001b[43A\u001b[2K\u001b[17A\u001b[2K\u001b[43A\u001b[2K\u001b[37A\u001b[2K\u001b[43A\u001b[2K\u001b[35A\u001b[2K\u001b[16A\u001b[2K\u001b[35A\u001b[2K\u001b[17A\u001b[2K\u001b[35A\u001b[2K\u001b[16A\u001b[2K\u001b[43A\u001b[2K\u001b[35A\u001b[2K\u001b[43A\u001b[2K\u001b[35A\u001b[2K\u001b[17A\u001b[2K\u001b[43A\u001b[2K\u001b[16A\u001b[2K\u001b[43A\u001b[2K\u001b[37A\u001b[2K\u001b[43A\u001b[2K\u001b[37A\u001b[2K\u001b[43A\u001b[2K\u001b[37A\u001b[2K\u001b[17A\u001b[2K\u001b[43A\u001b[2K\u001b[17A\u001b[2K\u001b[43A\u001b[2K\u001b[37A\u001b[2K\u001b[16A\u001b[2K\u001b[43A\u001b[2K\u001b[16A\u001b[2K\u001b[43A\u001b[2K\u001b[16A\u001b[2K\u001b[17A\u001b[2K\u001b[16A\u001b[2K\u001b[17A\u001b[2K\u001b[37A\u001b[2K\u001b[17A\u001b[2K\u001b[35A\u001b[2K\u001b[16A\u001b[2K\u001b[37A\u001b[2K\u001b[16A\u001b[2K\u001b[17A\u001b[2K\u001b[43A\u001b[2K\u001b[17A\u001b[2K\u001b[35A\u001b[2K\u001b[16A\u001b[2K\u001b[35A\u001b[2K\u001b[16A\u001b[2K\u001b[17A\u001b[2K\u001b[16A\u001b[2K\u001b[17A\u001b[2K\u001b[43A\u001b[2K\u001b[17A\u001b[2K\u001b[35A\u001b[2K\u001b[16A\u001b[2K\u001b[37A\u001b[2K\u001b[16A\u001b[2K\u001b[37A\u001b[2K\u001b[16A\u001b[2K\u001b[17A\u001b[2K\u001b[43A\u001b[2K\u001b[16A\u001b[2K\u001b[35A\u001b[2K\u001b[16A\u001b[2K\u001b[35A\u001b[2K\u001b[43A\u001b[2K\u001b[35A\u001b[2K\u001b[43A\u001b[2K\u001b[17A\u001b[2K\u001b[37A\u001b[2K\u001b[17A\u001b[2K\u001b[35A\u001b[2K\u001b[35A\u001b[2K\u001b[16A\u001b[2K\u001b[35A\u001b[2K\u001b[37A\u001b[2K\u001b[35A\u001b[2K\u001b[37A\u001b[2K\u001b[35A\u001b[2K\u001b[37A\u001b[2K\u001b[17A\u001b[2K\u001b[35A\u001b[2K\u001b[17A\u001b[2K\u001b[37A\u001b[2K\u001b[17A\u001b[2K\u001b[37A\u001b[2K\u001b[43A\u001b[2K\u001b[16A\u001b[2K\u001b[43A\u001b[2K\u001b[17A\u001b[2K\u001b[35A\u001b[2K\u001b[17A\u001b[2K\u001b[35A\u001b[2K\u001b[17A\u001b[2K\u001b[35A\u001b[2K\u001b[43A\u001b[2K\u001b[16A\u001b[2K\u001b[43A\u001b[2K\u001b[37A\u001b[2K\u001b[35A\u001b[2K\u001b[37A\u001b[2K\u001b[16A\u001b[2K\u001b[37A\u001b[2K\u001b[16A\u001b[2K\u001b[43A\u001b[2K\u001b[16A\u001b[2K\u001b[35A\u001b[2K\u001b[16A\u001b[2K\u001b[35A\u001b[2K\u001b[17A\u001b[2K\u001b[35A\u001b[2K\u001b[17A\u001b[2K\u001b[17A\u001b[2K\u001b[16A\u001b[2K\u001b[35A\u001b[2K\u001b[17A\u001b[2K\u001b[35A\u001b[2K\u001b[35A\u001b[2K\u001b[16A\u001b[2K\u001b[35A\u001b[2K\u001b[43A\u001b[2K\u001b[35A\u001b[2K\u001b[37A\u001b[2K\u001b[35A\u001b[2K\u001b[17A\u001b[2K\u001b[35A\u001b[2K\u001b[16A\u001b[2K\u001b[43A\u001b[2K\u001b[17A\u001b[2K\u001b[16A\u001b[2K\u001b[35A\u001b[2K\u001b[16A\u001b[2K\u001b[35A\u001b[2K\u001b[37A\u001b[2K\u001b[35A\u001b[2K\u001b[37A\u001b[2K\u001b[35A\u001b[2K\u001b[16A\u001b[2K\u001b[35A\u001b[2K\u001b[16A\u001b[2K\u001b[17A\u001b[2K\u001b[16A\u001b[2K\u001b[17A\u001b[2K\u001b[43A\u001b[2K\u001b[17A\u001b[2K\u001b[35A\u001b[2K\u001b[16A\u001b[2K\u001b[37A\u001b[2K\u001b[43A\u001b[2K\u001b[17A\u001b[2K\u001b[43A\u001b[2K\u001b[17A\u001b[2K\u001b[35A\u001b[2K\u001b[17A\u001b[2K\u001b[35A\u001b[2K\u001b[17A\u001b[2K\u001b[35A\u001b[2K\u001b[37A\u001b[2K\u001b[35A\u001b[2K\u001b[37A\u001b[2K\u001b[35A\u001b[2K\u001b[17A\u001b[2K\u001b[35A\u001b[2K\u001b[17A\u001b[2K\u001b[35A\u001b[2K\u001b[37A\u001b[2K\u001b[43A\u001b[2K\u001b[37A\u001b[2K\u001b[35A\u001b[2K\u001b[43A\u001b[2K\u001b[16A\u001b[2K\u001b[35A\u001b[2K\u001b[17A\u001b[2K\u001b[35A\u001b[2K\u001b[37A\u001b[2K\u001b[16A\u001b[2K\u001b[37A\u001b[2K\u001b[17A\u001b[2K\u001b[37A\u001b[2K\u001b[16A\u001b[2K\u001b[35A\u001b[2K\u001b[16A\u001b[2K\u001b[17A\u001b[2K\u001b[16A\u001b[2K\u001b[43A\u001b[2K\u001b[16A\u001b[2K\u001b[37A\u001b[2K\u001b[16A\u001b[2K\u001b[35A\u001b[2K\u001b[37A\u001b[2K\u001b[35A\u001b[2K\u001b[16A\u001b[2K\u001b[43A\u001b[2K\u001b[37A\u001b[2K\u001b[35A\u001b[2K\u001b[17A\u001b[2K\u001b[35A\u001b[2K\u001b[16A\u001b[2K\u001b[37A\u001b[2K\u001b[35A\u001b[2K\u001b[17A\u001b[2K\u001b[37A\u001b[2K\u001b[17A\u001b[2K\u001b[37A\u001b[2K\u001b[16A\u001b[2K\u001b[37A\u001b[2K\u001b[43A\u001b[2K\u001b[37A\u001b[2K\u001b[43A\u001b[2K\u001b[37A\u001b[2K\u001b[43A\u001b[2K\u001b[17A\u001b[2K\u001b[37A\u001b[2K\u001b[17A\u001b[2K\u001b[43A\u001b[2K\u001b[35A\u001b[2K\u001b[43A\u001b[2K\u001b[17A\u001b[2K\u001b[16A\u001b[2K\u001b[37A\u001b[2K\u001b[17A\u001b[2K\u001b[37A\u001b[2K\u001b[17A\u001b[2K\u001b[16A\u001b[2K\u001b[17A\u001b[2K\u001b[16A\u001b[2K\u001b[17A\u001b[2K\u001b[43A\u001b[2K\u001b[35A\u001b[2K\u001b[43A\u001b[2K\u001b[16A\u001b[2K\u001b[35A\u001b[2K\u001b[37A\u001b[2K\u001b[43A\u001b[2K\u001b[37A\u001b[2K\u001b[43A\u001b[2K\u001b[35A\u001b[2K\u001b[16A\u001b[2K\u001b[35A\u001b[2K\u001b[16A\u001b[2K\u001b[17A\u001b[2K\u001b[16A\u001b[2K\u001b[17A\u001b[2K\u001b[37A\u001b[2K\u001b[43A\u001b[2K\u001b[35A\u001b[2K\u001b[16A\u001b[2K\u001b[35A\u001b[2K\u001b[43A\u001b[2K\u001b[35A\u001b[2K\u001b[37A\u001b[2K\u001b[16A\u001b[2K\u001b[35A\u001b[2K\u001b[16A\u001b[2K\u001b[35A\u001b[2K\u001b[17A\u001b[2K\u001b[35A\u001b[2K\u001b[17A\u001b[2K\u001b[35A\u001b[2K\u001b[43A\u001b[2K\u001b[16A\u001b[2K\u001b[37A\u001b[2K\u001b[37A\u001b[2K\u001b[16A\u001b[2K\u001b[37A\u001b[2K\u001b[43A\u001b[2K\u001b[37A\u001b[2K\u001b[43A\u001b[2K\u001b[37A\u001b[2K\u001b[43A\u001b[2K\u001b[16A\u001b[2K\u001b[37A\u001b[2K\u001b[16A\u001b[2K\u001b[37A\u001b[2K\u001b[43A\u001b[2K\u001b[14A\u001b[2K\u001b[43A\u001b[2K\u001b[35A\u001b[2K\u001b[43A\u001b[2K\u001b[16A\u001b[2K\u001b[16A\u001b[2K\u001b[35A\u001b[2K\u001b[16A\u001b[2K\u001b[35A\u001b[2K\u001b[43A\u001b[2K\u001b[35A\u001b[2K\u001b[37A\u001b[2K\u001b[43A\u001b[2K\u001b[37A\u001b[2K\u001b[16A\u001b[2K\u001b[35A\u001b[2K\u001b[16A\u001b[2K\u001b[35A\u001b[2K\u001b[37A\u001b[2K\u001b[16A\u001b[2K\u001b[35A\u001b[2K\u001b[43A\u001b[2K\u001b[35A\u001b[2K\u001b[13A\u001b[2K\u001b[35A\u001b[2K\u001b[13A\u001b[2K\u001b[35A\u001b[2K\u001b[43A\u001b[2K\u001b[35A\u001b[2K\u001b[16A\u001b[2K\u001b[35A\u001b[2K\u001b[37A\u001b[2K\u001b[35A\u001b[2K\u001b[13A\u001b[2K\u001b[35A\u001b[2K\u001b[37A\u001b[2K\u001b[35A\u001b[2K\u001b[35A\u001b[2K\u001b[43A\u001b[2K\u001b[35A\u001b[2K\u001b[13A\u001b[2K\u001b[16A\u001b[2K\u001b[37A\u001b[2K\u001b[35A\u001b[2K\u001b[13A\u001b[2K\u001b[35A\u001b[2K\u001b[43A\u001b[2K\u001b[35A\u001b[2K\u001b[16A\u001b[2K\u001b[35A\u001b[2K\u001b[37A\u001b[2K\u001b[35A\u001b[2K\u001b[43A\u001b[2K\u001b[35A\u001b[2K\u001b[43A\u001b[2K\u001b[37A\u001b[2K\u001b[35A\u001b[2K\u001b[37A\u001b[2K\u001b[16A\u001b[2K\u001b[37A\u001b[2K\u001b[16A\u001b[2K\u001b[13A\u001b[2K\u001b[16A\u001b[2K\u001b[35A\u001b[2K\u001b[16A\u001b[2K\u001b[43A\u001b[2K\u001b[16A\u001b[2K\u001b[43A\u001b[2K\u001b[13A\u001b[2K\u001b[16A\u001b[2K\u001b[35A\u001b[2K\u001b[37A\u001b[2K\u001b[13A\u001b[2K\u001b[37A\u001b[2K\u001b[43A\u001b[2K\u001b[37A\u001b[2K\u001b[43A\u001b[2K\u001b[16A\u001b[2K\u001b[13A\u001b[2K\u001b[37A\u001b[2K\u001b[13A\u001b[2K\u001b[37A\u001b[2K\u001b[13A\u001b[2K\u001b[37A\u001b[2K\u001b[43A\u001b[2K\u001b[37A\u001b[2K\u001b[35A\u001b[2K\u001b[16A\u001b[2K\u001b[37A\u001b[2K\u001b[16A\u001b[2K\u001b[37A\u001b[2K\u001b[16A\u001b[2K\u001b[37A\u001b[2K\u001b[43A\u001b[2K\u001b[16A\u001b[2K\u001b[35A\u001b[2K\u001b[16A\u001b[2K\u001b[35A\u001b[2K\u001b[16A\u001b[2K\u001b[13A\u001b[2K\u001b[37A\u001b[2K\u001b[13A\u001b[2K\u001b[16A\u001b[2K\u001b[13A\u001b[2K\u001b[16A\u001b[2K\u001b[43A\u001b[2K\u001b[13A\u001b[2K\u001b[16A\u001b[2K\u001b[13A\u001b[2K\u001b[35A\u001b[2K\u001b[16A\u001b[2K\u001b[35A\u001b[2K\u001b[43A\u001b[2K\u001b[13A\u001b[2K\u001b[16A\u001b[2K\u001b[13A\u001b[2K\u001b[35A\u001b[2K\u001b[13A\u001b[2K\u001b[35A\u001b[2K\u001b[16A\u001b[2K\u001b[37A\u001b[2K\u001b[16A\u001b[2K\u001b[37A\u001b[2K\u001b[16A\u001b[2K\u001b[43A\u001b[2K\u001b[16A\u001b[2K\u001b[35A\u001b[2K\u001b[16A\u001b[2K\u001b[35A\u001b[2K\u001b[13A\u001b[2K\u001b[16A\u001b[2K\u001b[13A\u001b[2K\u001b[16A\u001b[2K\u001b[43A\u001b[2K\u001b[37A\u001b[2K\u001b[43A\u001b[2K\u001b[13A\u001b[2K\u001b[16A\u001b[2K\u001b[43A\u001b[2K\u001b[16A\u001b[2K\u001b[13A\u001b[2K\u001b[37A\u001b[2K\u001b[16A\u001b[2K\u001b[37A\u001b[2K\u001b[35A\u001b[2K\u001b[43A\u001b[2K\u001b[35A\u001b[2K\u001b[37A\u001b[2K\u001b[35A\u001b[2K\u001b[43A\u001b[2K\u001b[16A\u001b[2K\u001b[13A\u001b[2K\u001b[35A\u001b[2K\u001b[13A\u001b[2K\u001b[35A\u001b[2K\u001b[43A\u001b[2K\u001b[37A\u001b[2K\u001b[13A\u001b[2K\u001b[37A\u001b[2K\u001b[35A\u001b[2K\u001b[16A\u001b[2K\u001b[35A\u001b[2K\u001b[16A\u001b[2K\u001b[35A\u001b[2K\u001b[13A\u001b[2K\u001b[43A\u001b[2K\u001b[13A\u001b[2K\u001b[16A\u001b[2K\u001b[13A\u001b[2K\u001b[16A\u001b[2K\u001b[35A\u001b[2K\u001b[37A\u001b[2K\u001b[16A\u001b[2K\u001b[37A\u001b[2K\u001b[35A\u001b[2K\u001b[35A\u001b[2K\u001b[13A\u001b[2K\u001b[35A\u001b[2K\u001b[13A\u001b[2K\u001b[35A\u001b[2K\u001b[16A\u001b[2K\u001b[35A\u001b[2K\u001b[43A\u001b[2K\u001b[35A\u001b[2K\u001b[43A\u001b[2K\u001b[35A\u001b[2K\u001b[43A\u001b[2K\u001b[16A\u001b[2K\u001b[13A\u001b[2K\u001b[16A\u001b[2K\u001b[13A\u001b[2K\u001b[43A\u001b[2K\u001b[35A\u001b[2K\u001b[13A\u001b[2K\u001b[35A\u001b[2K\u001b[43A\u001b[2K\u001b[35A\u001b[2K\u001b[43A\u001b[2K\u001b[16A\u001b[2K\u001b[43A\u001b[2K\u001b[13A\u001b[2K\u001b[16A\u001b[2K\u001b[43A\u001b[2K\u001b[16A\u001b[2K\u001b[43A\u001b[2K\u001b[16A\u001b[2K\u001b[43A\u001b[2K\u001b[13A\u001b[2K\u001b[43A\u001b[2K\u001b[35A\u001b[2K\u001b[43A\u001b[2K\u001b[37A\u001b[2K\u001b[43A\u001b[2K\u001b[16A\u001b[2K\u001b[43A\u001b[2K\u001b[35A\u001b[2K\u001b[37A\u001b[2K\u001b[35A\u001b[2K\u001b[37A\u001b[2K\u001b[35A\u001b[2K\u001b[13A\u001b[2K\u001b[16A\u001b[2K\u001b[13A\u001b[2K\u001b[16A\u001b[2K\u001b[35A\u001b[2K\u001b[13A\u001b[2K\u001b[43A\u001b[2K\u001b[35A\u001b[2K\u001b[43A\u001b[2K\u001b[35A\u001b[2K\u001b[13A\u001b[2K\u001b[35A\u001b[2K\u001b[37A\u001b[2K\u001b[43A\u001b[2K\u001b[37A\u001b[2K\u001b[13A\u001b[2K\u001b[35A\u001b[2K\u001b[13A\u001b[2K\u001b[35A\u001b[2K\u001b[16A\u001b[2K\u001b[35A\u001b[2K\u001b[37A\u001b[2K\u001b[13A\u001b[2K\u001b[37A\u001b[2K\u001b[13A\u001b[2K\u001b[37A\u001b[2K\u001b[13A\u001b[2K\u001b[43A\u001b[2K\u001b[13A\u001b[2K\u001b[37A\u001b[2K\u001b[35A\u001b[2K\u001b[16A\u001b[2K\u001b[35A\u001b[2K\u001b[16A\u001b[2K\u001b[37A\u001b[2K\u001b[16A\u001b[2K\u001b[16A\u001b[2K\u001b[35A\u001b[2K\u001b[16A\u001b[2K\u001b[35A\u001b[2K\u001b[12A\u001b[2K\u001b[43A\u001b[2K\u001b[10A\u001b[2K\u001b[43A\u001b[2K\u001b[8A\u001b[2K\u001b[7A\u001b[2K\u001b[6A\u001b[2K\u001b[16A\u001b[2K\u001b[35A\u001b[2K\u001b[16A\u001b[2K\u001b[35A\u001b[2K\u001b[1A\u001b[2K\u001b[43A\u001b[2K\u001b[37A\u001b[2K\u001b[43A\u001b[2K\u001b[16A\u001b[2K\u001b[43A\u001b[2K\u001b[16A\u001b[2K\u001b[43A\u001b[2K\u001b[35A\u001b[2K\u001b[43A\u001b[2K\u001b[35A\u001b[2K\u001b[43A\u001b[2K\u001b[35A\u001b[2K\u001b[16A\u001b[2K\u001b[43A\u001b[2K\u001b[16A\u001b[2K\u001b[43A\u001b[2K\u001b[16A\u001b[2K\u001b[43A\u001b[2K\u001b[37A\u001b[2K\u001b[16A\u001b[2K\u001b[37A\u001b[2K\u001b[16A\u001b[2K\u001b[43A\u001b[2K\u001b[16A\u001b[2K\u001b[35A\u001b[2K\u001b[37A\u001b[2K\u001b[35A\u001b[2K\u001b[37A\u001b[2K\u001b[35A\u001b[2K\u001b[43A\u001b[2K\u001b[43A\u001b[2K\u001b[16A\u001b[2K\u001b[35A\u001b[2K\u001b[16A\u001b[2K\u001b[35A\u001b[2K\u001b[16A\u001b[2K\u001b[37A\u001b[2K\u001b[16A\u001b[2K\u001b[37A\u001b[2K\u001b[16A\u001b[2K\u001b[37A\u001b[2K\u001b[35A\u001b[2K\u001b[37A\u001b[2K\u001b[35A\u001b[2K\u001b[16A\u001b[2K\u001b[37A\u001b[2K\u001b[16A\u001b[2K\u001b[37A\u001b[2K\u001b[16A\u001b[2K\u001b[37A\u001b[2K\u001b[35A\u001b[2K\u001b[16A\u001b[2K\u001b[35A\u001b[2K\u001b[16A\u001b[2K\u001b[35A\u001b[2K\u001b[16A\u001b[2K\u001b[35A\u001b[2K\u001b[16A\u001b[2K\u001b[35A\u001b[2K\u001b[16A\u001b[2K\u001b[35A\u001b[2K\u001b[16A\u001b[2K\u001b[37A\u001b[2K\u001b[16A\u001b[2K\u001b[35A\u001b[2K\u001b[16A\u001b[2K\u001b[35A\u001b[2K\u001b[16A\u001b[2K\u001b[35A\u001b[2K\u001b[16A\u001b[2K\u001b[37A\u001b[2K\u001b[35A\u001b[2K\u001b[37A\u001b[2K\u001b[16A\u001b[2K\u001b[37A\u001b[2K\u001b[16A\u001b[2K\u001b[37A\u001b[2K\u001b[16A\u001b[2K\u001b[35A\u001b[2K\u001b[16A\u001b[2K\u001b[35A\u001b[2K\u001b[16A\u001b[2K\u001b[35A\u001b[2K\u001b[16A\u001b[2K\u001b[16A\u001b[2K\u001b[16A\u001b[2K\u001b[35A\u001b[2K\u001b[16A\u001b[2K\u001b[35A\u001b[2K\u001b[16A\u001b[2K\u001b[35A\u001b[2K\u001b[16A\u001b[2K\u001b[35A\u001b[2K\u001b[16A\u001b[2K\u001b[37A\u001b[2K\u001b[37A\u001b[2K\u001b[35A\u001b[2K\u001b[37A\u001b[2K\u001b[35A\u001b[2K\u001b[37A\u001b[2K\u001b[35A\u001b[2K\u001b[37A\u001b[2K\u001b[35A\u001b[2K\u001b[37A\u001b[2K\u001b[37A\u001b[2K\u001b[35A\u001b[2K\u001b[37A\u001b[2K\u001b[35A\u001b[2K\u001b[37A\u001b[2K\u001b[35A\u001b[2K\u001b[37A\u001b[2K\u001b[35A\u001b[2K\u001b[37A\u001b[2K\u001b[35A\u001b[2K\u001b[37A\u001b[2K\u001b[16A\u001b[2K\u001b[37A\u001b[2K\u001b[37A\u001b[2K\u001b[16A\u001b[2K\u001b[37A\u001b[2K\u001b[35A\u001b[2K\u001b[37A\u001b[2K\u001b[35A\u001b[2K\u001b[37A\u001b[2K\u001b[35A\u001b[2K\u001b[37A\u001b[2K\u001b[35A\u001b[2K\u001b[37A\u001b[2K\u001b[37A\u001b[2K\u001b[37A\u001b[2K\u001b[37A\u001b[2K\u001b[37A\u001b[2K\u001b[37A\u001b[2K\u001b[37A\u001b[2K\u001b[37A\u001b[2K\u001b[35A\u001b[2K\u001b[37A\u001b[2K\u001b[37A\u001b[2K\u001b[37A\u001b[2K\u001b[37A\u001b[2K\u001b[37A\u001b[2K\u001b[37A\u001b[2K\u001b[35A\u001b[2K\u001b[37A\u001b[2K\u001b[35A\u001b[2K\u001b[37A\u001b[2K\u001b[35A\u001b[2K\u001b[35A\u001b[2K\u001b[35A\u001b[2K\u001b[35A\u001b[2K\u001b[35A\u001b[2K\u001b[35A\u001b[2K\u001b[35A\u001b[2K\u001b[37A\u001b[2K\u001b[35A\u001b[2K\u001b[37A\u001b[2K\u001b[35A\u001b[2K\u001b[37A\u001b[2K\u001b[35A\u001b[2K\u001b[37A\u001b[2K\u001b[37A\u001b[2K\u001b[37A\u001b[2K\u001b[37A\u001b[2K\u001b[35A\u001b[2K\u001b[37A\u001b[2K\u001b[35A\u001b[2K\u001b[37A\u001b[2K\u001b[35A\u001b[2K\u001b[37A\u001b[2K\u001b[35A\u001b[2K\u001b[37A\u001b[2K\u001b[35A\u001b[2K\u001b[37A\u001b[2K\u001b[37A\u001b[2K\u001b[37A\u001b[2K\u001b[35A\u001b[2K\u001b[37A\u001b[2K\u001b[35A\u001b[2K\u001b[37A\u001b[2K\u001b[35A\u001b[2K\u001b[37A\u001b[2K\u001b[35A\u001b[2K\u001b[37A\u001b[2K\u001b[37A\u001b[2K\u001b[35A\u001b[2K\u001b[35A\u001b[2K\u001b[35A\u001b[2K\u001b[37A\u001b[2K\u001b[37A\u001b[2K\u001b[35A\u001b[2K\u001b[37A\u001b[2K\u001b[35A\u001b[2K\u001b[37A\u001b[2K\u001b[35A\u001b[2K\u001b[37A\u001b[2K\u001b[35A\u001b[2K\u001b[37A\u001b[2K\u001b[35A\u001b[2K\u001b[37A\u001b[2K\u001b[35A\u001b[2K\u001b[37A\u001b[2K\u001b[35A\u001b[2K\u001b[37A\u001b[2K\u001b[35A\u001b[2K\u001b[37A\u001b[2K\u001b[35A\u001b[2K\u001b[37A\u001b[2K\u001b[35A\u001b[2K\u001b[37A\u001b[2K\u001b[35A\u001b[2K\u001b[37A\u001b[2K\u001b[37A\u001b[2K\u001b[37A\u001b[2K\u001b[37A\u001b[2K\u001b[37A\u001b[2K\u001b[35A\u001b[2K\u001b[37A\u001b[2K\u001b[35A\u001b[2K\u001b[35A\u001b[2K\u001b[35A\u001b[2K\u001b[35A\u001b[2K\u001b[35A\u001b[2K\u001b[37A\u001b[2K\u001b[35A\u001b[2K\u001b[37A\u001b[2K\u001b[35A\u001b[2K\u001b[37A\u001b[2K\u001b[35A\u001b[2K\u001b[37A\u001b[2K\u001b[35A\u001b[2K\u001b[37A\u001b[2K\u001b[35A\u001b[2K\u001b[37A\u001b[2K\u001b[35A\u001b[2K\u001b[37A\u001b[2K\u001b[35A\u001b[2K\u001b[37A\u001b[2K\u001b[35A\u001b[2K\u001b[37A\u001b[2K\u001b[35A\u001b[2K\u001b[37A\u001b[2K\u001b[35A\u001b[2K\u001b[37A\u001b[2K\u001b[37A\u001b[2K\u001b[37A\u001b[2K\u001b[37A\u001b[2K\u001b[37A\u001b[2K\u001b[35A\u001b[2K\u001b[37A\u001b[2K\u001b[37A\u001b[2K\u001b[37A\u001b[2K\u001b[35A\u001b[2K\u001b[37A\u001b[2K\u001b[35A\u001b[2K\u001b[37A\u001b[2K\u001b[37A\u001b[2K\u001b[37A\u001b[2K\u001b[37A\u001b[2K\u001b[35A\u001b[2K\u001b[35A\u001b[2K\u001b[35A\u001b[2K\u001b[35A\u001b[2K\u001b[35A\u001b[2K\u001b[37A\u001b[2K\u001b[35A\u001b[2K\u001b[37A\u001b[2K\u001b[35A\u001b[2K\u001b[35A\u001b[2K\u001b[37A\u001b[2K\u001b[35A\u001b[2K\u001b[37A\u001b[2K\u001b[35A\u001b[2K\u001b[37A\u001b[2K\u001b[35A\u001b[2K\u001b[35A\u001b[2K\u001b[35A\u001b[2K\u001b[37A\u001b[2K\u001b[35A\u001b[2K\u001b[37A\u001b[2K\u001b[35A\u001b[2K\u001b[37A\u001b[2K\u001b[37A\u001b[2K\u001b[35A\u001b[2K\u001b[35A\u001b[2K\u001b[37A\u001b[2K\u001b[35A\u001b[2K\u001b[37A\u001b[2K\u001b[35A\u001b[2K\u001b[37A\u001b[2K\u001b[35A\u001b[2K\u001b[37A\u001b[2K\u001b[35A\u001b[2K\u001b[37A\u001b[2K\u001b[35A\u001b[2K\u001b[37A\u001b[2K\u001b[35A\u001b[2K\u001b[37A\u001b[2K\u001b[35A\u001b[2K\u001b[37A\u001b[2K\u001b[35A\u001b[2K\u001b[37A\u001b[2K\u001b[35A\u001b[2K\u001b[37A\u001b[2K\u001b[37A\u001b[2K\u001b[37A\u001b[2K\u001b[37A\u001b[2K\u001b[35A\u001b[2K\u001b[35A\u001b[2K\u001b[37A\u001b[2K\u001b[35A\u001b[2K\u001b[37A\u001b[2K\u001b[35A\u001b[2K\u001b[37A\u001b[2K\u001b[35A\u001b[2K\u001b[35A\u001b[2K\u001b[35A\u001b[2K\u001b[37A\u001b[2K\u001b[35A\u001b[2K\u001b[37A\u001b[2K\u001b[35A\u001b[2K\u001b[37A\u001b[2K\u001b[35A\u001b[2K\u001b[37A\u001b[2K\u001b[35A\u001b[2K\u001b[37A\u001b[2K\u001b[35A\u001b[2K\u001b[37A\u001b[2K\u001b[35A\u001b[2K\u001b[37A\u001b[2K\u001b[35A\u001b[2K\u001b[37A\u001b[2K\u001b[35A\u001b[2K\u001b[37A\u001b[2K\u001b[37A\u001b[2K\u001b[35A\u001b[2K\u001b[35A\u001b[2K\u001b[35A\u001b[2K\u001b[37A\u001b[2K\u001b[35A\u001b[2K\u001b[35A\u001b[2K\u001b[35A\u001b[2K\u001b[35A\u001b[2K\u001b[37A\u001b[2K\u001b[35A\u001b[2K\u001b[37A\u001b[2K\u001b[35A\u001b[2K\u001b[37A\u001b[2K\u001b[35A\u001b[2K\u001b[37A\u001b[2K\u001b[35A\u001b[2K\u001b[37A\u001b[2K\u001b[37A\u001b[2K\u001b[37A\u001b[2K\u001b[37A\u001b[2K\u001b[37A\u001b[2K\u001b[37A\u001b[2K\u001b[35A\u001b[2K\u001b[35A\u001b[2K\u001b[35A\u001b[2K\u001b[37A\u001b[2K\u001b[35A\u001b[2K\u001b[35A\u001b[2K\u001b[35A\u001b[2K\u001b[37A\u001b[2K\u001b[35A\u001b[2K\u001b[37A\u001b[2K\u001b[35A\u001b[2K\u001b[37A\u001b[2K\u001b[35A\u001b[2K\u001b[35A\u001b[2K\u001b[35A\u001b[2K\u001b[35A\u001b[2K\u001b[35A\u001b[2K\u001b[35A\u001b[2K\u001b[37A\u001b[2K\u001b[35A\u001b[2K\u001b[37A\u001b[2K\u001b[35A\u001b[2K\u001b[37A\u001b[2K\u001b[35A\u001b[2K\u001b[37A\u001b[2K\u001b[37A\u001b[2K\u001b[35A\u001b[2K\u001b[37A\u001b[2K\u001b[35A\u001b[2K\u001b[37A\u001b[2K\u001b[35A\u001b[2K\u001b[37A\u001b[2K\u001b[35A\u001b[2K\u001b[37A\u001b[2K\u001b[35A\u001b[2K\u001b[37A\u001b[2K\u001b[37A\u001b[2K\u001b[37A\u001b[2K\u001b[37A\u001b[2K\u001b[37A\u001b[2K\u001b[35A\u001b[2K\u001b[37A\u001b[2K\u001b[35A\u001b[2K\u001b[37A\u001b[2K\u001b[35A\u001b[2K\u001b[37A\u001b[2K\u001b[37A\u001b[2K\u001b[37A\u001b[2K\u001b[37A\u001b[2K\u001b[37A\u001b[2K\u001b[37A\u001b[2K\u001b[37A\u001b[2K\u001b[35A\u001b[2K\u001b[37A\u001b[2K\u001b[35A\u001b[2K\u001b[37A\u001b[2K\u001b[37A\u001b[2K\u001b[37A\u001b[2K\u001b[37A\u001b[2K\u001b[37A\u001b[2K\u001b[37A\u001b[2K\u001b[35A\u001b[2K\u001b[37A\u001b[2K\u001b[37A\u001b[2K\u001b[35A\u001b[2K\u001b[35A\u001b[2K\u001b[35A\u001b[2K\u001b[35A\u001b[2K\u001b[37A\u001b[2K\u001b[37A\u001b[2K\u001b[35A\u001b[2K\u001b[35A\u001b[2K\u001b[35A\u001b[2K\u001b[35A\u001b[2K\u001b[35A\u001b[2K\u001b[37A\u001b[2K\u001b[35A\u001b[2K\u001b[37A\u001b[2K\u001b[35A\u001b[2K\u001b[37A\u001b[2K\u001b[35A\u001b[2K\u001b[37A\u001b[2K\u001b[37A\u001b[2K\u001b[37A\u001b[2K\u001b[35A\u001b[2K\u001b[37A\u001b[2K\u001b[35A\u001b[2K\u001b[35A\u001b[2K\u001b[37A\u001b[2K\u001b[35A\u001b[2K\u001b[37A\u001b[2K\u001b[35A\u001b[2K\u001b[37A\u001b[2K\u001b[35A\u001b[2K\u001b[37A\u001b[2K\u001b[35A\u001b[2K\u001b[37A\u001b[2K\u001b[37A\u001b[2K\u001b[35A\u001b[2K\u001b[37A\u001b[2K\u001b[35A\u001b[2K\u001b[37A\u001b[2K\u001b[35A\u001b[2K\u001b[37A\u001b[2K\u001b[35A\u001b[2K\u001b[37A\u001b[2K\u001b[35A\u001b[2K\u001b[37A\u001b[2K\u001b[35A\u001b[2K\u001b[37A\u001b[2K\u001b[35A\u001b[2K\u001b[37A\u001b[2K\u001b[35A\u001b[2K\u001b[37A\u001b[2K\u001b[35A\u001b[2K\u001b[37A\u001b[2K\u001b[35A\u001b[2K\u001b[37A\u001b[2K\u001b[35A\u001b[2K\u001b[35A\u001b[2K\u001b[35A\u001b[2K\u001b[37A\u001b[2K\u001b[35A\u001b[2K\u001b[37A\u001b[2K\u001b[35A\u001b[2K\u001b[37A\u001b[2K\u001b[35A\u001b[2K\u001b[37A\u001b[2K\u001b[35A\u001b[2K\u001b[37A\u001b[2K\u001b[35A\u001b[2K\u001b[35A\u001b[2K\u001b[35A\u001b[2K\u001b[35A\u001b[2K\u001b[35A\u001b[2K\u001b[37A\u001b[2K\u001b[37A\u001b[2K\u001b[35A\u001b[2K\u001b[37A\u001b[2K\u001b[37A\u001b[2K\u001b[37A\u001b[2K\u001b[37A\u001b[2K\u001b[37A\u001b[2K\u001b[37A\u001b[2K\u001b[37A\u001b[2K\u001b[37A\u001b[2K\u001b[37A\u001b[2K\u001b[37A\u001b[2K\u001b[37A\u001b[2K\u001b[37A\u001b[2K\u001b[37A\u001b[2K\u001b[37A\u001b[2K\u001b[37A\u001b[2K\u001b[37A\u001b[2K\u001b[37A\u001b[2K\u001b[37A\u001b[2K\u001b[37A\u001b[2K\u001b[37A\u001b[2K\u001b[37A\u001b[2K\u001b[37A\u001b[2K\u001b[37A\u001b[2K\u001b[37A\u001b[2K\u001b[37A\u001b[2K\u001b[37A\u001b[2K\u001b[37A\u001b[2K\u001b[37A\u001b[2K\u001b[37A\u001b[2K\u001b[37A\u001b[2K\u001b[37A\u001b[2K\u001b[37A\u001b[2K\u001b[37A\u001b[2K\u001b[37A\u001b[2K\u001b[37A\u001b[2K\u001b[37A\u001b[2K\u001b[37A\u001b[2K\u001b[37A\u001b[2K\u001b[37A\u001b[2K\u001b[37A\u001b[2K\u001b[37A\u001b[2K\u001b[37A\u001b[2K\u001b[37A\u001b[2K\u001b[37A\u001b[2K\u001b[37A\u001b[2K\u001b[37A\u001b[2K\u001b[37A\u001b[2K\u001b[37A\u001b[2K\u001b[37A\u001b[2K\u001b[37A\u001b[2K\u001b[37A\u001b[2K\u001b[37A\u001b[2K\u001b[37A\u001b[2K\u001b[37A\u001b[2K\u001b[37A\u001b[2K\u001b[37A\u001b[2K\u001b[37A\u001b[2K\u001b[37A\u001b[2K\u001b[37A\u001b[2K\u001b[37A\u001b[2K\u001b[37A\u001b[2K\u001b[37A\u001b[2K\u001b[37A\u001b[2K\u001b[37A\u001b[2K\u001b[37A\u001b[2K\u001b[37A\u001b[2K\u001b[37A\u001b[2K\u001b[37A\u001b[2K\u001b[37A\u001b[2K\u001b[37A\u001b[2K\u001b[37A\u001b[2K\u001b[37A\u001b[2K\u001b[37A\u001b[2K\u001b[37A\u001b[2K\u001b[37A\u001b[2K\u001b[37A\u001b[2K\u001b[37A\u001b[2K\u001b[37A\u001b[2K\u001b[37A\u001b[2K\u001b[37A\u001b[2K\u001b[37A\u001b[2K\u001b[37A\u001b[2K\u001b[37A\u001b[2K\u001b[37A\u001b[2K\u001b[37A\u001b[2K\u001b[37A\u001b[2K\u001b[37A\u001b[2K\u001b[37A\u001b[2K\u001b[37A\u001b[2K\u001b[37A\u001b[2K\u001b[37A\u001b[2K\u001b[37A\u001b[2K\u001b[37A\u001b[2K\u001b[37A\u001b[2K\u001b[37A\u001b[2K\u001b[37A\u001b[2K\u001b[37A\u001b[2K\u001b[37A\u001b[2K\u001b[37A\u001b[2K\u001b[37A\u001b[2K\u001b[37A\u001b[2K\u001b[37A\u001b[2K\u001b[37A\u001b[2K\u001b[37A\u001b[2K\u001b[37A\u001b[2K\u001b[37A\u001b[2K\u001b[37A\u001b[2K\u001b[37A\u001b[2K\u001b[37A\u001b[2K\u001b[37A\u001b[2K\u001b[37A\u001b[2K\u001b[37A\u001b[2K\u001b[37A\u001b[2K\u001b[37A\u001b[2K\u001b[37A\u001b[2K\u001b[37A\u001b[2K\u001b[37A\u001b[2K\u001b[37A\u001b[2K\u001b[37A\u001b[2K\u001b[37A\u001b[2K\u001b[37A\u001b[2K\u001b[37A\u001b[2K\u001b[37A\u001b[2K\u001b[37A\u001b[2K\u001b[37A\u001b[2K\u001b[37A\u001b[2K\u001b[37A\u001b[2K\u001b[37A\u001b[2K\u001b[37A\u001b[2K\u001b[37A\u001b[2K\u001b[37A\u001b[2K\u001b[37A\u001b[2K\u001b[37A\u001b[2K\u001b[37A\u001b[2K\u001b[37A\u001b[2K\u001b[37A\u001b[2K\u001b[37A\u001b[2K\u001b[37A\u001b[2K\u001b[37A\u001b[2K\u001b[37A\u001b[2K\u001b[37A\u001b[2K\u001b[37A\u001b[2K\u001b[37A\u001b[2K\u001b[37A\u001b[2K\u001b[37A\u001b[2K\u001b[37A\u001b[2K\u001b[37A\u001b[2K\u001b[37A\u001b[2K\u001b[37A\u001b[2K\u001b[37A\u001b[2K\u001b[37A\u001b[2K\u001b[37A\u001b[2K\u001b[37A\u001b[2K\u001b[37A\u001b[2K\u001b[37A\u001b[2K\u001b[37A\u001b[2K\u001b[37A\u001b[2K\u001b[37A\u001b[2K\u001b[37A\u001b[2K\u001b[37A\u001b[2K\u001b[37A\u001b[2K\u001b[37A\u001b[2K\u001b[37A\u001b[2K\u001b[37A\u001b[2K\u001b[37A\u001b[2K\u001b[37A\u001b[2K\u001b[37A\u001b[2K\u001b[37A\u001b[2K\u001b[37A\u001b[2K\u001b[37A\u001b[2K\u001b[37A\u001b[2K\u001b[37A\u001b[2K\u001b[37A\u001b[2K\u001b[37A\u001b[2K\u001b[37A\u001b[2K\u001b[37A\u001b[2K\u001b[37A\u001b[2K\u001b[37A\u001b[2K\u001b[37A\u001b[2K\u001b[37A\u001b[2K\u001b[37A\u001b[2K\u001b[37A\u001b[2K\u001b[37A\u001b[2K\u001b[37A\u001b[2K\u001b[37A\u001b[2K\u001b[37A\u001b[2K\u001b[37A\u001b[2K\u001b[37A\u001b[2K\u001b[37A\u001b[2K\u001b[37A\u001b[2K\u001b[37A\u001b[2K\u001b[37A\u001b[2K\u001b[37A\u001b[2K\u001b[37A\u001b[2K\u001b[37A\u001b[2K\u001b[37A\u001b[2K\u001b[37A\u001b[2K\u001b[37A\u001b[2K\u001b[37A\u001b[2K\u001b[37A\u001b[2K\u001b[37A\u001b[2K\u001b[37A\u001b[2K\u001b[37A\u001b[2K\u001b[37A\u001b[2K\u001b[37A\u001b[2K\u001b[37A\u001b[2K\u001b[37A\u001b[2K\u001b[37A\u001b[2K\u001b[37A\u001b[2K\u001b[37A\u001b[2K\u001b[37A\u001b[2K\u001b[37A\u001b[2K\u001b[37A\u001b[2K\u001b[37A\u001b[2K\u001b[37A\u001b[2K\u001b[37A\u001b[2K\u001b[37A\u001b[2K\u001b[37A\u001b[2K\u001b[37A\u001b[2K\u001b[37A\u001b[2K\u001b[37A\u001b[2K\u001b[37A\u001b[2K\u001b[37A\u001b[2K\u001b[37A\u001b[2K\u001b[37A\u001b[2K\u001b[37A\u001b[2K\u001b[37A\u001b[2K\u001b[37A\u001b[2K\u001b[37A\u001b[2K\u001b[37A\u001b[2K\u001b[37A\u001b[2K\u001b[37A\u001b[2K\u001b[37A\u001b[2K\u001b[37A\u001b[2K\u001b[37A\u001b[2K\u001b[37A\u001b[2K\u001b[37A\u001b[2K\u001b[37A\u001b[2K\u001b[37A\u001b[2K\u001b[37A\u001b[2K\u001b[37A\u001b[2K\u001b[37A\u001b[2K\u001b[37A\u001b[2K\u001b[37A\u001b[2K\u001b[37A\u001b[2K\u001b[37A\u001b[2K\u001b[37A\u001b[2K\u001b[37A\u001b[2K\u001b[37A\u001b[2K\u001b[37A\u001b[2K\u001b[37A\u001b[2K\u001b[37A\u001b[2K\u001b[37A\u001b[2K\u001b[37A\u001b[2K\u001b[37A\u001b[2K\u001b[37A\u001b[2K\u001b[37A\u001b[2K\u001b[37A\u001b[2K\u001b[37A\u001b[2K\u001b[37A\u001b[2K\u001b[37A\u001b[2K\u001b[37A\u001b[2K\u001b[37A\u001b[2K\u001b[37A\u001b[2K\u001b[37A\u001b[2K\u001b[37A\u001b[2K\u001b[37A\u001b[2K\u001b[37A\u001b[2K\u001b[37A\u001b[2K\u001b[37A\u001b[2K\u001b[37A\u001b[2K\u001b[37A\u001b[2K\u001b[37A\u001b[2K\u001b[37A\u001b[2K\u001b[37A\u001b[2K\u001b[37A\u001b[2K\u001b[37A\u001b[2K\u001b[37A\u001b[2K\u001b[37A\u001b[2K\u001b[37A\u001b[2K\u001b[37A\u001b[2K\u001b[37A\u001b[2K\u001b[37A\u001b[2K\u001b[37A\u001b[2K\u001b[37A\u001b[2K\u001b[37A\u001b[2K\u001b[37A\u001b[2K\u001b[37A\u001b[2K\u001b[37A\u001b[2K\u001b[37A\u001b[2K\u001b[37A\u001b[2K\u001b[37A\u001b[2K\u001b[37A\u001b[2K\u001b[37A\u001b[2K\u001b[37A\u001b[2K\u001b[37A\u001b[2K\u001b[37A\u001b[2K\u001b[37A\u001b[2K\u001b[37A\u001b[2K\u001b[37A\u001b[2K\u001b[37A\u001b[2K\u001b[37A\u001b[2K\u001b[37A\u001b[2K\u001b[37A\u001b[2K\u001b[37A\u001b[2K\u001b[37A\u001b[2K\u001b[37A\u001b[2K\u001b[37A\u001b[2K\u001b[37A\u001b[2K\u001b[37A\u001b[2K\u001b[37A\u001b[2K\u001b[37A\u001b[2K\u001b[37A\u001b[2K\u001b[37A\u001b[2K\u001b[37A\u001b[2K\u001b[37A\u001b[2K\u001b[37A\u001b[2K\u001b[37A\u001b[2K\u001b[37A\u001b[2K\u001b[37A\u001b[2K\u001b[37A\u001b[2K\u001b[37A\u001b[2K\u001b[37A\u001b[2K\u001b[37A\u001b[2K\u001b[37A\u001b[2K\u001b[37A\u001b[2K\u001b[37A\u001b[2K\u001b[37A\u001b[2K\u001b[37A\u001b[2K\u001b[37A\u001b[2K\u001b[37A\u001b[2K\u001b[37A\u001b[2K\u001b[37A\u001b[2K\u001b[37A\u001b[2K\u001b[37A\u001b[2K\u001b[37A\u001b[2K\u001b[37A\u001b[2K\u001b[37A\u001b[2K\u001b[37A\u001b[2K\u001b[37A\u001b[2K\u001b[37A\u001b[2K\u001b[37A\u001b[2K\u001b[37A\u001b[2K\u001b[37A\u001b[2K\u001b[37A\u001b[2K\u001b[37A\u001b[2K\u001b[37A\u001b[2K\u001b[37A\u001b[2K\u001b[37A\u001b[2K\u001b[37A\u001b[2K\u001b[37A\u001b[2K\u001b[37A\u001b[2K\u001b[37A\u001b[2K\u001b[37A\u001b[2K\u001b[37A\u001b[2K\u001b[37A\u001b[2K\u001b[37A\u001b[2K\u001b[37A\u001b[2K\u001b[37A\u001b[2K\u001b[37A\u001b[2K\u001b[37A\u001b[2K\u001b[37A\u001b[2K\u001b[37A\u001b[2K\u001b[37A\u001b[2K\u001b[37A\u001b[2K\u001b[37A\u001b[2K\u001b[37A\u001b[2K\u001b[37A\u001b[2K\u001b[37A\u001b[2K\u001b[37A\u001b[2K\u001b[37A\u001b[2K\u001b[37A\u001b[2K\u001b[37A\u001b[2K\u001b[37A\u001b[2K\u001b[37A\u001b[2K\u001b[37A\u001b[2K\u001b[37A\u001b[2K\u001b[37A\u001b[2K\u001b[37A\u001b[2K\u001b[37A\u001b[2K\u001b[37A\u001b[2K\u001b[37A\u001b[2K\u001b[37A\u001b[2K\u001b[37A\u001b[2K\u001b[37A\u001b[2K\u001b[37A\u001b[2K\u001b[37A\u001b[2K\u001b[37A\u001b[2K\u001b[37A\u001b[2K\u001b[37A\u001b[2K\u001b[37A\u001b[2K\u001b[37A\u001b[2K\u001b[37A\u001b[2K\u001b[37A\u001b[2K\u001b[37A\u001b[2K\u001b[37A\u001b[2K\u001b[37A\u001b[2K\u001b[37A\u001b[2K\u001b[37A\u001b[2K\u001b[37A\u001b[2K\u001b[37A\u001b[2K\u001b[37A\u001b[2K\u001b[37A\u001b[2K\u001b[37A\u001b[2K\u001b[37A\u001b[2K\u001b[37A\u001b[2K\u001b[37A\u001b[2K\u001b[37A\u001b[2K\u001b[37A\u001b[2K\u001b[37A\u001b[2K\u001b[37A\u001b[2K\u001b[37A\u001b[2K\u001b[37A\u001b[2K\u001b[37A\u001b[2K\u001b[37A\u001b[2K\u001b[37A\u001b[2K\u001b[37A\u001b[2K\u001b[37A\u001b[2K\u001b[37A\u001b[2K\u001b[37A\u001b[2K\u001b[37A\u001b[2K\u001b[37A\u001b[2K\u001b[37A\u001b[2K\u001b[37A\u001b[2K\u001b[37A\u001b[2K\u001b[37A\u001b[2K\u001b[37A\u001b[2K\u001b[37A\u001b[2K\u001b[37A\u001b[2K\u001b[37A\u001b[2K\u001b[37A\u001b[2K\u001b[37A\u001b[2K\u001b[37A\u001b[2K\u001b[37A\u001b[2K\u001b[37A\u001b[2K\u001b[37A\u001b[2K\u001b[37A\u001b[2K\u001b[37A\u001b[2K\u001b[37A\u001b[2K\u001b[37A\u001b[2K\u001b[37A\u001b[2K\u001b[37A\u001b[2K\u001b[37A\u001b[2K\u001b[37A\u001b[2K\u001b[37A\u001b[2K\u001b[37A\u001b[2K\u001b[37A\u001b[2K\u001b[37A\u001b[2K\u001b[37A\u001b[2K\u001b[37A\u001b[2K\u001b[37A\u001b[2K\u001b[37A\u001b[2K\u001b[37A\u001b[2K\u001b[37A\u001b[2K\u001b[37A\u001b[2K\u001b[37A\u001b[2K\u001b[37A\u001b[2K\u001b[37A\u001b[2K\u001b[37A\u001b[2K\u001b[37A\u001b[2K\u001b[37A\u001b[2K\u001b[37A\u001b[2K\u001b[37A\u001b[2K\u001b[37A\u001b[2K\u001b[37A\u001b[2K\u001b[37A\u001b[2K\u001b[37A\u001b[2K\u001b[37A\u001b[2K\u001b[37A\u001b[2K\u001b[37A\u001b[2K\u001b[37A\u001b[2K\u001b[37A\u001b[2K\u001b[37A\u001b[2K\u001b[37A\u001b[2K\u001b[37A\u001b[2K\u001b[37A\u001b[2K\u001b[37A\u001b[2K\u001b[37A\u001b[2K\u001b[37A\u001b[2K\u001b[37A\u001b[2K\u001b[37A\u001b[2K\u001b[37A\u001b[2K\u001b[37A\u001b[2K\u001b[37A\u001b[2K\u001b[37A\u001b[2K\u001b[37A\u001b[2K\u001b[37A\u001b[2K\u001b[37A\u001b[2K\u001b[37A\u001b[2K\u001b[37A\u001b[2K\u001b[37A\u001b[2K\u001b[37A\u001b[2K\u001b[37A\u001b[2K\u001b[37A\u001b[2K\u001b[37A\u001b[2K\u001b[37A\u001b[2K\u001b[37A\u001b[2K\u001b[37A\u001b[2K\u001b[37A\u001b[2K\u001b[37A\u001b[2K\u001b[37A\u001b[2K\u001b[37A\u001b[2K\u001b[37A\u001b[2K\u001b[37A\u001b[2K\u001b[37A\u001b[2K\u001b[37A\u001b[2K\u001b[37A\u001b[2K\u001b[37A\u001b[2K\u001b[37A\u001b[2K\u001b[37A\u001b[2K\u001b[37A\u001b[2K\u001b[37A\u001b[2K\u001b[37A\u001b[2K\u001b[37A\u001b[2K\u001b[37A\u001b[2K\u001b[37A\u001b[2K\u001b[37A\u001b[2K\u001b[37A\u001b[2K\u001b[37A\u001b[2K\u001b[37A\u001b[2K\u001b[37A\u001b[2K\u001b[37A\u001b[2K\u001b[37A\u001b[2K\u001b[37A\u001b[2K\u001b[37A\u001b[2K\u001b[37A\u001b[2K\u001b[37A\u001b[2K\u001b[37A\u001b[2K\u001b[37A\u001b[2K\u001b[37A\u001b[2K\u001b[37A\u001b[2K\u001b[37A\u001b[2K\u001b[37A\u001b[2K\u001b[37A\u001b[2K\u001b[37A\u001b[2K\u001b[37A\u001b[2K\u001b[37A\u001b[2K\u001b[37A\u001b[2K\u001b[37A\u001b[2K\u001b[37A\u001b[2K\u001b[37A\u001b[2K\u001b[37A\u001b[2K\u001b[37A\u001b[2K\u001b[37A\u001b[2K\u001b[37A\u001b[2K\u001b[37A\u001b[2K\u001b[37A\u001b[2K\u001b[37A\u001b[2K\u001b[37A\u001b[2K\u001b[37A\u001b[2K\u001b[37A\u001b[2K\u001b[37A\u001b[2K\u001b[37A\u001b[2K\u001b[37A\u001b[2K\u001b[37A\u001b[2K\u001b[37A\u001b[2K\u001b[37A\u001b[2K\u001b[37A\u001b[2K\u001b[37A\u001b[2K\u001b[37A\u001b[2K\u001b[37A\u001b[2K\u001b[37A\u001b[2K\u001b[37A\u001b[2K\u001b[37A\u001b[2K\u001b[37A\u001b[2K\u001b[37A\u001b[2K\u001b[37A\u001b[2K\u001b[37A\u001b[2K\u001b[37A\u001b[2K\u001b[37A\u001b[2K\u001b[37A\u001b[2K\u001b[37A\u001b[2K\u001b[37A\u001b[2K\u001b[37A\u001b[2K\u001b[37A\u001b[2K\u001b[37A\u001b[2K\u001b[37A\u001b[2K\u001b[37A\u001b[2K\u001b[37A\u001b[2K\u001b[37A\u001b[2K\u001b[37A\u001b[2K\u001b[37A\u001b[2K\u001b[37A\u001b[2K\u001b[37A\u001b[2K\u001b[37A\u001b[2K\u001b[37A\u001b[2K\u001b[37A\u001b[2K\u001b[37A\u001b[2K\u001b[37A\u001b[2K\u001b[37A\u001b[2K\u001b[37A\u001b[2K\u001b[37A\u001b[2K\u001b[37A\u001b[2K\u001b[37A\u001b[2K\u001b[37A\u001b[2K\u001b[37A\u001b[2K\u001b[37A\u001b[2K\u001b[37A\u001b[2K\u001b[37A\u001b[2K\u001b[37A\u001b[2K\u001b[37A\u001b[2K\u001b[37A\u001b[2K\u001b[37A\u001b[2K\u001b[37A\u001b[2K\u001b[37A\u001b[2K\u001b[37A\u001b[2K\u001b[37A\u001b[2K\u001b[37A\u001b[2K\u001b[37A\u001b[2K\u001b[37A\u001b[2K\u001b[37A\u001b[2K\u001b[37A\u001b[2K\u001b[37A\u001b[2K\u001b[37A\u001b[2K\u001b[37A\u001b[2K\u001b[37A\u001b[2K\u001b[37A\u001b[2K\u001b[37A\u001b[2K\u001b[37A\u001b[2K\u001b[37A\u001b[2K\u001b[37A\u001b[2K\u001b[37A\u001b[2K\u001b[37A\u001b[2K\u001b[37A\u001b[2K\u001b[37A\u001b[2K\u001b[37A\u001b[2K\u001b[37A\u001b[2K\u001b[37A\u001b[2K\u001b[37A\u001b[2K\u001b[37A\u001b[2K\u001b[37A\u001b[2K\u001b[37A\u001b[2K\u001b[37A\u001b[2K\u001b[37A\u001b[2K\u001b[37A\u001b[2K\u001b[37A\u001b[2K\u001b[37A\u001b[2K\u001b[37A\u001b[2K\u001b[37A\u001b[2K\u001b[37A\u001b[2K\u001b[37A\u001b[2K\u001b[37A\u001b[2K\u001b[37A\u001b[2K\u001b[37A\u001b[2K\u001b[37A\u001b[2K\u001b[37A\u001b[2K\u001b[37A\u001b[2K\u001b[37A\u001b[2K\u001b[37A\u001b[2K\u001b[37A\u001b[2K\u001b[37A\u001b[2K\u001b[37A\u001b[2K\u001b[37A\u001b[2K\u001b[37A\u001b[2K\u001b[37A\u001b[2K\u001b[37A\u001b[2K\u001b[37A\u001b[2K\u001b[37A\u001b[2K\u001b[37A\u001b[2K\u001b[37A\u001b[2K\u001b[37A\u001b[2K\u001b[37A\u001b[2K\u001b[37A\u001b[2K\u001b[37A\u001b[2K\u001b[37A\u001b[2K\u001b[37A\u001b[2K\u001b[37A\u001b[2K\u001b[37A\u001b[2K\u001b[37A\u001b[2K\u001b[37A\u001b[2K\u001b[37A\u001b[2K\u001b[37A\u001b[2K\u001b[37A\u001b[2K\u001b[37A\u001b[2K\u001b[37A\u001b[2K\u001b[37A\u001b[2K\u001b[37A\u001b[2K\u001b[37A\u001b[2K\u001b[37A\u001b[2K\u001b[37A\u001b[2K\u001b[37A\u001b[2K\u001b[37A\u001b[2K\u001b[37A\u001b[2K\u001b[37A\u001b[2K\u001b[37A\u001b[2K\u001b[37A\u001b[2K\u001b[37A\u001b[2K\u001b[37A\u001b[2K\u001b[37A\u001b[2K\u001b[37A\u001b[2K\u001b[37A\u001b[2K\u001b[37A\u001b[2K\u001b[37A\u001b[2K\u001b[37A\u001b[2K\u001b[37A\u001b[2K\u001b[37A\u001b[2K\u001b[37A\u001b[2K\u001b[37A\u001b[2K\u001b[37A\u001b[2K\u001b[37A\u001b[2K\u001b[37A\u001b[2K\u001b[37A\u001b[2K\u001b[37A\u001b[2K\u001b[37A\u001b[2K\u001b[37A\u001b[2K\u001b[37A\u001b[2K\u001b[37A\u001b[2K\u001b[37A\u001b[2K\u001b[37A\u001b[2K\u001b[37A\u001b[2K\u001b[37A\u001b[2K\u001b[37A\u001b[2K\u001b[37A\u001b[2K\u001b[37A\u001b[2K\u001b[37A\u001b[2K\u001b[37A\u001b[2K\u001b[37A\u001b[2K\u001b[37A\u001b[2K\u001b[37A\u001b[2K\u001b[37A\u001b[2K\u001b[37A\u001b[2K\u001b[37A\u001b[2K\u001b[37A\u001b[2K\u001b[37A\u001b[2K\u001b[37A\u001b[2K\u001b[37A\u001b[2K\u001b[37A\u001b[2K\u001b[37A\u001b[2K\u001b[37A\u001b[2K\u001b[37A\u001b[2K\u001b[37A\u001b[2K\u001b[37A\u001b[2K\u001b[37A\u001b[2K\u001b[37A\u001b[2K\u001b[37A\u001b[2K\u001b[37A\u001b[2K\u001b[37A\u001b[2K\u001b[37A\u001b[2K\u001b[37A\u001b[2K\u001b[37A\u001b[2K\u001b[37A\u001b[2K\u001b[37A\u001b[2K\u001b[37A\u001b[2K\u001b[37A\u001b[2K\u001b[37A\u001b[2K\u001b[37A\u001b[2K\u001b[37A\u001b[2K\u001b[37A\u001b[2K\u001b[37A\u001b[2K\u001b[37A\u001b[2K\u001b[37A\u001b[2K\u001b[37A\u001b[2K\u001b[37A\u001b[2K\u001b[37A\u001b[2K\u001b[37A\u001b[2K\u001b[37A\u001b[2K\u001b[37A\u001b[2K\u001b[37A\u001b[2K\u001b[37A\u001b[2K\u001b[37A\u001b[2K\u001b[37A\u001b[2K\u001b[37A\u001b[2K\u001b[37A\u001b[2K\u001b[37A\u001b[2K\u001b[37A\u001b[2K\u001b[37A\u001b[2K\u001b[37A\u001b[2K\u001b[37A\u001b[2K\u001b[37A\u001b[2K\u001b[37A\u001b[2K\u001b[37A\u001b[2K\u001b[37A\u001b[2K\u001b[37A\u001b[2K\u001b[37A\u001b[2K\u001b[37A\u001b[2K\u001b[37A\u001b[2K\u001b[37A\u001b[2K\u001b[37A\u001b[2K\u001b[37A\u001b[2K\u001b[37A\u001b[2K\u001b[37A\u001b[2K\u001b[37A\u001b[2K\u001b[37A\u001b[2K\u001b[37A\u001b[2K\u001b[37A\u001b[2K\u001b[37A\u001b[2K\u001b[37A\u001b[2K\u001b[37A\u001b[2K\u001b[37A\u001b[2K\u001b[37A\u001b[2K\u001b[37A\u001b[2K\u001b[37A\u001b[2K\u001b[37A\u001b[2K\u001b[37A\u001b[2K\u001b[37A\u001b[2K\u001b[37A\u001b[2K\u001b[37A\u001b[2K\u001b[37A\u001b[2K\u001b[37A\u001b[2K\u001b[37A\u001b[2K\u001b[37A\u001b[2K\u001b[37A\u001b[2K\u001b[37A\u001b[2K\u001b[37A\u001b[2K\u001b[37A\u001b[2K\u001b[37A\u001b[2K\u001b[37A\u001b[2K\u001b[37A\u001b[2K\u001b[37A\u001b[2K\u001b[37A\u001b[2K\u001b[37A\u001b[2K\u001b[37A\u001b[2K\u001b[37A\u001b[2K\u001b[37A\u001b[2K\u001b[37A\u001b[2K\u001b[37A\u001b[2K\u001b[37A\u001b[2K\u001b[37A\u001b[2K\u001b[37A\u001b[2K\u001b[37A\u001b[2K\u001b[37A\u001b[2K\u001b[37A\u001b[2K\u001b[37A\u001b[2K\u001b[37A\u001b[2K\u001b[37A\u001b[2K\u001b[37A\u001b[2K\u001b[37A\u001b[2K\u001b[37A\u001b[2K\u001b[37A\u001b[2K\u001b[37A\u001b[2K\u001b[37A\u001b[2K\u001b[37A\u001b[2K\u001b[37A\u001b[2K\u001b[37A\u001b[2K\u001b[37A\u001b[2K\u001b[37A\u001b[2K\u001b[37A\u001b[2K\u001b[37A\u001b[2K\u001b[37A\u001b[2K\u001b[37A\u001b[2K\u001b[37A\u001b[2K\u001b[37A\u001b[2K\u001b[37A\u001b[2K\u001b[37A\u001b[2K\u001b[37A\u001b[2K\u001b[37A\u001b[2K\u001b[37A\u001b[2K\u001b[37A\u001b[2K\u001b[37A\u001b[2K\u001b[37A\u001b[2K\u001b[37A\u001b[2K\u001b[37A\u001b[2K\u001b[37A\u001b[2K\u001b[37A\u001b[2K\u001b[37A\u001b[2K\u001b[37A\u001b[2K\u001b[37A\u001b[2K\u001b[37A\u001b[2K\u001b[37A\u001b[2K\u001b[37A\u001b[2K\u001b[37A\u001b[2K\u001b[37A\u001b[2K\u001b[37A\u001b[2K\u001b[37A\u001b[2K\u001b[37A\u001b[2K\u001b[37A\u001b[2K\u001b[37A\u001b[2K\u001b[37A\u001b[2K\u001b[37A\u001b[2K\u001b[37A\u001b[2K\u001b[37A\u001b[2K\u001b[37A\u001b[2K\u001b[37A\u001b[2K\u001b[37A\u001b[2K\u001b[37A\u001b[2K\u001b[37A\u001b[2K\u001b[37A\u001b[2K\u001b[37A\u001b[2K\u001b[37A\u001b[2K\u001b[37A\u001b[2K\u001b[37A\u001b[2K\u001b[37A\u001b[2K\u001b[37A\u001b[2K\u001b[37A\u001b[2K\u001b[37A\u001b[2K\u001b[37A\u001b[2K\u001b[37A\u001b[2K\u001b[37A\u001b[2K\u001b[37A\u001b[2K\u001b[37A\u001b[2K\u001b[37A\u001b[2K\u001b[37A\u001b[2K\u001b[37A\u001b[2K\u001b[37A\u001b[2K\u001b[37A\u001b[2K\u001b[37A\u001b[2K\u001b[37A\u001b[2K\u001b[37A\u001b[2K\u001b[37A\u001b[2K\u001b[37A\u001b[2K\u001b[37A\u001b[2K\u001b[37A\u001b[2K\u001b[37A\u001b[2K\u001b[37A\u001b[2K\u001b[37A\u001b[2K\u001b[37A\u001b[2K\u001b[37A\u001b[2K\u001b[37A\u001b[2K\u001b[37A\u001b[2K\u001b[37A\u001b[2K\u001b[37A\u001b[2K\u001b[37A\u001b[2K\u001b[37A\u001b[2K\u001b[37A\u001b[2K\u001b[37A\u001b[2K\u001b[37A\u001b[2K\u001b[37A\u001b[2K\u001b[37A\u001b[2K\u001b[37A\u001b[2K\u001b[37A\u001b[2K\u001b[37A\u001b[2K\u001b[37A\u001b[2K\u001b[37A\u001b[2K\u001b[37A\u001b[2K\u001b[37A\u001b[2K\u001b[37A\u001b[2K\u001b[37A\u001b[2K\u001b[37A\u001b[2K\u001b[37A\u001b[2K\u001b[37A\u001b[2K\u001b[37A\u001b[2K\u001b[37A\u001b[2K\u001b[37A\u001b[2K\u001b[37A\u001b[2K\u001b[37A\u001b[2K\u001b[37A\u001b[2K\u001b[37A\u001b[2K\u001b[37A\u001b[2K\u001b[37A\u001b[2K\u001b[37A\u001b[2K\u001b[37A\u001b[2K\u001b[37A\u001b[2K\u001b[37A\u001b[2K\u001b[37A\u001b[2K\u001b[37A\u001b[2K\u001b[37A\u001b[2K\u001b[37A\u001b[2K\u001b[37A\u001b[2K\u001b[37A\u001b[2K\u001b[37A\u001b[2K\u001b[37A\u001b[2K\u001b[37A\u001b[2K\u001b[37A\u001b[2K\u001b[37A\u001b[2K\u001b[37A\u001b[2K\u001b[37A\u001b[2K\u001b[37A\u001b[2K\u001b[37A\u001b[2K\u001b[37A\u001b[2K\u001b[37A\u001b[2K\u001b[37A\u001b[2K\u001b[37A\u001b[2K\u001b[37A\u001b[2K\u001b[37A\u001b[2K\u001b[37A\u001b[2K\u001b[37A\u001b[2K\u001b[37A\u001b[2K\u001b[37A\u001b[2K\u001b[37A\u001b[2K\u001b[37A\u001b[2K\u001b[37A\u001b[2K\u001b[37A\u001b[2K\u001b[37A\u001b[2K\u001b[37A\u001b[2K\u001b[37A\u001b[2K\u001b[37A\u001b[2K\u001b[37A\u001b[2K\u001b[37A\u001b[2K\u001b[37A\u001b[2K\u001b[37A\u001b[2K\u001b[37A\u001b[2K\u001b[37A\u001b[2K\u001b[37A\u001b[2K\u001b[37A\u001b[2K\u001b[37A\u001b[2K\u001b[37A\u001b[2K\u001b[37A\u001b[2K\u001b[37A\u001b[2K\u001b[37A\u001b[2K\u001b[37A\u001b[2K\u001b[37A\u001b[2K\u001b[37A\u001b[2K\u001b[37A\u001b[2K\u001b[37A\u001b[2K\u001b[37A\u001b[2K\u001b[37A\u001b[2K\u001b[37A\u001b[2K\u001b[37A\u001b[2K\u001b[37A\u001b[2K\u001b[37A\u001b[2K\u001b[37A\u001b[2K\u001b[37A\u001b[2K\u001b[37A\u001b[2K\u001b[37A\u001b[2K\u001b[37A\u001b[2K\u001b[37A\u001b[2K\u001b[37A\u001b[2K\u001b[37A\u001b[2K\u001b[37A\u001b[2K\u001b[37A\u001b[2K\u001b[37A\u001b[2K\u001b[37A\u001b[2K\u001b[37A\u001b[2K\u001b[37A\u001b[2K\u001b[37A\u001b[2K\u001b[37A\u001b[2K\u001b[37A\u001b[2K\u001b[37A\u001b[2K\u001b[37A\u001b[2K\u001b[37A\u001b[2K\u001b[37A\u001b[2K\u001b[37A\u001b[2K\u001b[37A\u001b[2K\u001b[37A\u001b[2K\u001b[37A\u001b[2K\u001b[37A\u001b[2K\u001b[37A\u001b[2K\u001b[37A\u001b[2K\u001b[37A\u001b[2K\u001b[37A\u001b[2K\u001b[37A\u001b[2K\u001b[37A\u001b[2K\u001b[37A\u001b[2K\u001b[37A\u001b[2K\u001b[37A\u001b[2K\u001b[37A\u001b[2K\u001b[37A\u001b[2K\u001b[37A\u001b[2K\u001b[37A\u001b[2K\u001b[37A\u001b[2K\u001b[37A\u001b[2K\u001b[37A\u001b[2K\u001b[37A\u001b[2K\u001b[37A\u001b[2K\u001b[37A\u001b[2K\u001b[37A\u001b[2K\u001b[37A\u001b[2K\u001b[37A\u001b[2K\u001b[37A\u001b[2K\u001b[37A\u001b[2K\u001b[37A\u001b[2K\u001b[37A\u001b[2K\u001b[37A\u001b[2K\u001b[37A\u001b[2K\u001b[37A\u001b[2K\u001b[37A\u001b[2K\u001b[37A\u001b[2K\u001b[37A\u001b[2K\u001b[37A\u001b[2K\u001b[37A\u001b[2K\u001b[37A\u001b[2K\u001b[37A\u001b[2K\u001b[37A\u001b[2K\u001b[37A\u001b[2K\u001b[37A\u001b[2K\u001b[37A\u001b[2K\u001b[37A\u001b[2K\u001b[37A\u001b[2K\u001b[37A\u001b[2K\u001b[37A\u001b[2K\u001b[37A\u001b[2K\u001b[37A\u001b[2K\u001b[37A\u001b[2K\u001b[37A\u001b[2K\u001b[37A\u001b[2K\u001b[37A\u001b[2K\u001b[37A\u001b[2K\u001b[37A\u001b[2K\u001b[37A\u001b[2K\u001b[37A\u001b[2K\u001b[37A\u001b[2K\u001b[37A\u001b[2K\u001b[37A\u001b[2K\u001b[37A\u001b[2K\u001b[37A\u001b[2K\u001b[37A\u001b[2K\u001b[37A\u001b[2K\u001b[37A\u001b[2K\u001b[37A\u001b[2K\u001b[37A\u001b[2K\u001b[37A\u001b[2K\u001b[37A\u001b[2K\u001b[37A\u001b[2K\u001b[37A\u001b[2K\u001b[37A\u001b[2K\u001b[37A\u001b[2K\u001b[37A\u001b[2K\u001b[37A\u001b[2K\u001b[37A\u001b[2K\u001b[37A\u001b[2K\u001b[37A\u001b[2K\u001b[37A\u001b[2K\u001b[37A\u001b[2K\u001b[37A\u001b[2K\u001b[37A\u001b[2K\u001b[37A\u001b[2K\u001b[37A\u001b[2K\u001b[37A\u001b[2K\u001b[37A\u001b[2K\u001b[37A\u001b[2K\u001b[37A\u001b[2K\u001b[37A\u001b[2K\u001b[37A\u001b[2K\u001b[37A\u001b[2K\u001b[37A\u001b[2K\u001b[37A\u001b[2K\u001b[37A\u001b[2K\u001b[37A\u001b[2K\u001b[37A\u001b[2K\u001b[37A\u001b[2K\u001b[37A\u001b[2K\u001b[37A\u001b[2K\u001b[37A\u001b[2K\u001b[37A\u001b[2K\u001b[37A\u001b[2K\u001b[37A\u001b[2K\u001b[37A\u001b[2K\u001b[37A\u001b[2K\u001b[37A\u001b[2K\u001b[37A\u001b[2K\u001b[37A\u001b[2K\u001b[37A\u001b[2K\u001b[37A\u001b[2K\u001b[37A\u001b[2K\u001b[37A\u001b[2K\u001b[37A\u001b[2K\u001b[37A\u001b[2K\u001b[37A\u001b[2K\u001b[37A\u001b[2K\u001b[37A\u001b[2K\u001b[37A\u001b[2K\u001b[37A\u001b[2K\u001b[37A\u001b[2K\u001b[37A\u001b[2K\u001b[37A\u001b[2K\u001b[37A\u001b[2K\u001b[37A\u001b[2K\u001b[37A\u001b[2K\u001b[37A\u001b[2K\u001b[37A\u001b[2K\u001b[37A\u001b[2K\u001b[37A\u001b[2K\u001b[37A\u001b[2K\u001b[37A\u001b[2K\u001b[37A\u001b[2K\u001b[37A\u001b[2K\u001b[37A\u001b[2K\u001b[37A\u001b[2K\u001b[37A\u001b[2K\u001b[37A\u001b[2K\u001b[37A\u001b[2K\u001b[37A\u001b[2K\u001b[37A\u001b[2K\u001b[37A\u001b[2K\u001b[37A\u001b[2K\u001b[37A\u001b[2K\u001b[37A\u001b[2K\u001b[37A\u001b[2K\u001b[37A\u001b[2K\u001b[37A\u001b[2K\u001b[37A\u001b[2K\u001b[37A\u001b[2K\u001b[37A\u001b[2K\u001b[37A\u001b[2K\u001b[37A\u001b[2K\u001b[37A\u001b[2K\u001b[37A\u001b[2K\u001b[37A\u001b[2K\u001b[37A\u001b[2K\u001b[37A\u001b[2K\u001b[37A\u001b[2K\u001b[37A\u001b[2K\u001b[37A\u001b[2K\u001b[37A\u001b[2K\u001b[37A\u001b[2K\u001b[37A\u001b[2K\u001b[37A\u001b[2K\u001b[37A\u001b[2K\u001b[37A\u001b[2K\u001b[37A\u001b[2K\u001b[37A\u001b[2K\u001b[37A\u001b[2K\u001b[37A\u001b[2K\u001b[37A\u001b[2K\u001b[37A\u001b[2K\u001b[37A\u001b[2K\u001b[37A\u001b[2K\u001b[37A\u001b[2K\u001b[37A\u001b[2K\u001b[37A\u001b[2K\u001b[37A\u001b[2K\u001b[37A\u001b[2K\u001b[37A\u001b[2K\u001b[37A\u001b[2K\u001b[37A\u001b[2K\u001b[37A\u001b[2K\u001b[37A\u001b[2K\u001b[37A\u001b[2K\u001b[37A\u001b[2K\u001b[37A\u001b[2K\u001b[37A\u001b[2K\u001b[37A\u001b[2K\u001b[37A\u001b[2K\u001b[37A\u001b[2K\u001b[37A\u001b[2K\u001b[37A\u001b[2K\u001b[37A\u001b[2K\u001b[37A\u001b[2K\u001b[37A\u001b[2K\u001b[37A\u001b[2K\u001b[37A\u001b[2K\u001b[37A\u001b[2K\u001b[37A\u001b[2K\u001b[37A\u001b[2K\u001b[37A\u001b[2K\u001b[37A\u001b[2K\u001b[37A\u001b[2K\u001b[37A\u001b[2K\u001b[37A\u001b[2K\u001b[37A\u001b[2K\u001b[37A\u001b[2K\u001b[37A\u001b[2K\u001b[37A\u001b[2K\u001b[37A\u001b[2K\u001b[37A\u001b[2K\u001b[37A\u001b[2K\u001b[37A\u001b[2K\u001b[37A\u001b[2K\u001b[37A\u001b[2Klatest: digest: sha256:6a4419fe18c10a94327948d895dcc16986c7370cd37617874387eb74b617b691 size: 9968\n"
     ]
    }
   ],
   "source": [
    "# ### push the container to registry\n",
    "!docker push $REMOTE_IMAGE_NAME"
   ]
  },
  {
   "cell_type": "markdown",
   "id": "19bc85f6-a86e-48f2-a040-89f35376d57c",
   "metadata": {},
   "source": [
    "### GPU profiling\n",
    "\n",
    "> enter these commands in the Vertex interactive terminal:\n",
    "\n",
    "```bash\n",
    "sudo apt update\n",
    "sudo apt -y install nvtop\n",
    "```"
   ]
  },
  {
   "cell_type": "markdown",
   "id": "18df8169-e4ed-45fb-9279-85e966bc6f3e",
   "metadata": {},
   "source": [
    "**Finished**"
   ]
  }
 ],
 "metadata": {
  "environment": {
   "kernel": "python3",
   "name": "tf2-gpu.2-11.m109",
   "type": "gcloud",
   "uri": "gcr.io/deeplearning-platform-release/tf2-gpu.2-11:m109"
  },
  "kernelspec": {
   "display_name": "Python 3",
   "language": "python",
   "name": "python3"
  },
  "language_info": {
   "codemirror_mode": {
    "name": "ipython",
    "version": 3
   },
   "file_extension": ".py",
   "mimetype": "text/x-python",
   "name": "python",
   "nbconvert_exporter": "python",
   "pygments_lexer": "ipython3",
   "version": "3.10.11"
  }
 },
 "nbformat": 4,
 "nbformat_minor": 5
}
