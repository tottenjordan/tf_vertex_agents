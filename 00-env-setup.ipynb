{
 "cells": [
  {
   "cell_type": "markdown",
   "id": "9e4e2cbd-33b0-47e0-b1c0-596921415742",
   "metadata": {},
   "source": [
    "# Environment Setup for training TF-Agents"
   ]
  },
  {
   "cell_type": "markdown",
   "id": "0a9497e0-2c91-4375-95af-95087d3021e2",
   "metadata": {},
   "source": [
    "## Install Packages\n",
    "Run `pip requirements.txt` in either (1) the notebook cell below or (2) in a notebook terminal window"
   ]
  },
  {
   "cell_type": "code",
   "execution_count": 2,
   "id": "eb4610a9-d160-47f5-a141-9aada673f2f9",
   "metadata": {},
   "outputs": [],
   "source": [
    "# !pwd"
   ]
  },
  {
   "cell_type": "code",
   "execution_count": 3,
   "id": "a8e85584-fff1-4a46-931c-ee86faec08f8",
   "metadata": {},
   "outputs": [],
   "source": [
    "import os\n",
    "\n",
    "# The Vertex AI Workbench Notebook product has specific requirements\n",
    "IS_WORKBENCH_NOTEBOOK = os.getenv(\"DL_ANACONDA_HOME\")\n",
    "IS_USER_MANAGED_WORKBENCH_NOTEBOOK = os.path.exists(\n",
    "    \"/opt/deeplearning/metadata/env_version\"\n",
    ")\n",
    "\n",
    "# Vertex AI Notebook requires dependencies to be installed with '--user'\n",
    "USER_FLAG = \"\"\n",
    "if IS_WORKBENCH_NOTEBOOK:\n",
    "    USER_FLAG = \"--user\"\n",
    "\n",
    "# !pip install --no-cache-dir -r ./requirements.txt --user -q"
   ]
  },
  {
   "cell_type": "markdown",
   "id": "d92cae7b-f56a-46ce-ad60-4a1d4a59e090",
   "metadata": {},
   "source": [
    "## Set vars"
   ]
  },
  {
   "cell_type": "code",
   "execution_count": 20,
   "id": "23489b2a-cec0-4ce6-9e25-6aa3c5815bd6",
   "metadata": {},
   "outputs": [
    {
     "name": "stdout",
     "output_type": "stream",
     "text": [
      "PREFIX = mabv1\n"
     ]
    }
   ],
   "source": [
    "# naming convention for all cloud resources\n",
    "VERSION        = \"v1\"              # TODO\n",
    "PREFIX         = f'mab{VERSION}'   # TODO\n",
    "\n",
    "print(f\"PREFIX = {PREFIX}\")"
   ]
  },
  {
   "cell_type": "markdown",
   "id": "45ffbf4b-e0f7-46b3-adc2-7eb6bf67dec3",
   "metadata": {},
   "source": [
    "### GCP project"
   ]
  },
  {
   "cell_type": "code",
   "execution_count": 21,
   "id": "6feb8bda-6180-4464-8548-3c63cc6f66f7",
   "metadata": {},
   "outputs": [
    {
     "name": "stdout",
     "output_type": "stream",
     "text": [
      "PROJECT_ID       = hybrid-vertex\n",
      "PROJECT_NUM      = 934903580331\n",
      "VPC_NETWORK_NAME = ucaip-haystack-vpc-network\n",
      "LOCATION         = us-central1\n",
      "REGION           = us-central1\n",
      "BQ_LOCATION      = US\n"
     ]
    }
   ],
   "source": [
    "# creds, PROJECT_ID = google.auth.default()\n",
    "GCP_PROJECTS             = !gcloud config get-value project\n",
    "PROJECT_ID               = GCP_PROJECTS[0]\n",
    "\n",
    "PROJECT_NUM              = !gcloud projects describe $PROJECT_ID --format=\"value(projectNumber)\"\n",
    "PROJECT_NUM              = PROJECT_NUM[0]\n",
    "\n",
    "VERTEX_SA                = f'{PROJECT_NUM}-compute@developer.gserviceaccount.com'\n",
    "\n",
    "VPC_NETWORK_NAME         = \"ucaip-haystack-vpc-network\"\n",
    "\n",
    "# locations / regions for cloud resources\n",
    "LOCATION                 = 'us-central1'        \n",
    "REGION                   = LOCATION\n",
    "BQ_LOCATION              = 'US'\n",
    "\n",
    "print(f\"PROJECT_ID       = {PROJECT_ID}\")\n",
    "print(f\"PROJECT_NUM      = {PROJECT_NUM}\")\n",
    "print(f\"VPC_NETWORK_NAME = {VPC_NETWORK_NAME}\")\n",
    "print(f\"LOCATION         = {LOCATION}\")\n",
    "print(f\"REGION           = {REGION}\")\n",
    "print(f\"BQ_LOCATION      = {BQ_LOCATION}\")"
   ]
  },
  {
   "cell_type": "markdown",
   "id": "bb38e632-60d9-4d39-911b-545b0a84333f",
   "metadata": {},
   "source": [
    "### Define Cloud Resource Names and Args"
   ]
  },
  {
   "cell_type": "code",
   "execution_count": 22,
   "id": "86a4850f-ed86-4c07-8efa-a704b3a381ed",
   "metadata": {},
   "outputs": [
    {
     "name": "stdout",
     "output_type": "stream",
     "text": [
      "BUCKET_NAME          : mabv1-hybrid-vertex-bucket\n",
      "BUCKET_URI           : gs://mabv1-hybrid-vertex-bucket\n",
      "DATA_GCS_PREFIX      : data\n",
      "DATA_PATH            : gs://mabv1-hybrid-vertex-bucket/data\n",
      "VPC_NETWORK_FULL     : projects/934903580331/global/networks/ucaip-haystack-vpc-network\n",
      "BIGQUERY_DATASET_ID  : hybrid-vertex.movielens_dataset_mabv1\n",
      "BIGQUERY_TABLE_ID    : hybrid-vertex.movielens_dataset_mabv1.training_dataset\n"
     ]
    }
   ],
   "source": [
    "# GCS bucket and paths\n",
    "BUCKET_NAME              = f'{PREFIX}-{PROJECT_ID}-bucket'\n",
    "BUCKET_URI               = f'gs://{BUCKET_NAME}'\n",
    "\n",
    "# Location to write TF-Records for MovieLens 100K dataset\n",
    "DATA_GCS_PREFIX          = \"data\"\n",
    "DATA_PATH                = f\"{BUCKET_URI}/{DATA_GCS_PREFIX}\"\n",
    "\n",
    "VPC_NETWORK_FULL         = f\"projects/{PROJECT_NUM}/global/networks/{VPC_NETWORK_NAME}\"\n",
    "\n",
    "# BigQuery parameters (used for the Generator, Ingester, Logger)\n",
    "BIGQUERY_DATASET_ID      = f\"{PROJECT_ID}.movielens_dataset_{PREFIX}\"\n",
    "BIGQUERY_TABLE_ID        = f\"{BIGQUERY_DATASET_ID}.training_dataset\"\n",
    "\n",
    "print(f\"BUCKET_NAME          : {BUCKET_NAME}\")\n",
    "print(f\"BUCKET_URI           : {BUCKET_URI}\")\n",
    "print(f\"DATA_GCS_PREFIX      : {DATA_GCS_PREFIX}\")\n",
    "print(f\"DATA_PATH            : {DATA_PATH}\")\n",
    "print(f\"VPC_NETWORK_FULL     : {VPC_NETWORK_FULL}\")\n",
    "print(f\"BIGQUERY_DATASET_ID  : {BIGQUERY_DATASET_ID}\")\n",
    "print(f\"BIGQUERY_TABLE_ID    : {BIGQUERY_TABLE_ID}\")"
   ]
  },
  {
   "cell_type": "code",
   "execution_count": 13,
   "id": "e096698e-97e8-4881-b065-a9248de6e2d2",
   "metadata": {},
   "outputs": [],
   "source": [
    "# create bucket\n",
    "! gsutil mb -l $REGION $BUCKET_URI"
   ]
  },
  {
   "cell_type": "code",
   "execution_count": 24,
   "id": "dd2373bb-2f7d-40e1-ae58-060f2c2888cb",
   "metadata": {},
   "outputs": [],
   "source": [
    "! gsutil ls $BUCKET_URI"
   ]
  },
  {
   "cell_type": "markdown",
   "id": "05194be0-ca5c-4efa-9818-ef9de36ab042",
   "metadata": {},
   "source": [
    "## Repo structure\n",
    "\n",
    "* these variables are used to structure the repo\n",
    "* this means they are required for correctly building Dockerfile's, importing classes, etc."
   ]
  },
  {
   "cell_type": "code",
   "execution_count": 31,
   "id": "e7cf09cf-4a01-4b89-aee7-a42b77283f30",
   "metadata": {},
   "outputs": [
    {
     "name": "stdout",
     "output_type": "stream",
     "text": [
      "REPO_DOCKER_PATH_PREFIX  : src\n",
      "RL_SUB_DIR               : per_arm_rl\n"
     ]
    }
   ],
   "source": [
    "REPO_DOCKER_PATH_PREFIX          = 'src'\n",
    "RL_SUB_DIR                       = 'per_arm_rl'\n",
    "\n",
    "print(f\"REPO_DOCKER_PATH_PREFIX  : {REPO_DOCKER_PATH_PREFIX}\")\n",
    "print(f\"RL_SUB_DIR               : {RL_SUB_DIR}\")"
   ]
  },
  {
   "cell_type": "markdown",
   "id": "930d0e7c-4db6-445a-8bbc-af351b3e9782",
   "metadata": {},
   "source": [
    "## Save Notebook Configuration Data\n",
    "If you want to avoid having to re-enter these across notebooks"
   ]
  },
  {
   "cell_type": "code",
   "execution_count": 32,
   "id": "eed3d8bb-f4d2-493e-ae8c-66830ca12d0e",
   "metadata": {},
   "outputs": [
    {
     "name": "stdout",
     "output_type": "stream",
     "text": [
      "\n",
      "PROJECT_ID               = \"hybrid-vertex\"\n",
      "PROJECT_NUM              = \"934903580331\"\n",
      "LOCATION                 = \"us-central1\"\n",
      "\n",
      "REGION                   = \"us-central1\"\n",
      "BQ_LOCATION              = \"US\"\n",
      "VPC_NETWORK_NAME         = \"ucaip-haystack-vpc-network\"\n",
      "\n",
      "VERTEX_SA                = \"934903580331-compute@developer.gserviceaccount.com\"\n",
      "\n",
      "PREFIX                   = \"mabv1\"\n",
      "VERSION                  = \"v1\"\n",
      "\n",
      "BUCKET_NAME              = \"mabv1-hybrid-vertex-bucket\"\n",
      "DATA_GCS_PREFIX          = \"data\"\n",
      "DATA_PATH                = \"gs://mabv1-hybrid-vertex-bucket/data\"\n",
      "BUCKET_URI               = \"gs://mabv1-hybrid-vertex-bucket\"\n",
      "\n",
      "VPC_NETWORK_FULL         = \"projects/934903580331/global/networks/ucaip-haystack-vpc-network\"\n",
      "\n",
      "BIGQUERY_DATASET_ID      = \"hybrid-vertex.movielens_dataset_mabv1\"\n",
      "BIGQUERY_TABLE_ID        = \"hybrid-vertex.movielens_dataset_mabv1.training_dataset\"\n",
      "\n",
      "REPO_DOCKER_PATH_PREFIX  = \"src\"\n",
      "RL_SUB_DIR               = \"per_arm_rl\"\n",
      "\n"
     ]
    }
   ],
   "source": [
    "config = f\"\"\"\n",
    "PROJECT_ID               = \\\"{PROJECT_ID}\\\"\n",
    "PROJECT_NUM              = \\\"{PROJECT_NUM}\\\"\n",
    "LOCATION                 = \\\"{LOCATION}\\\"\n",
    "\n",
    "REGION                   = \\\"{REGION}\\\"\n",
    "BQ_LOCATION              = \\\"{BQ_LOCATION}\\\"\n",
    "VPC_NETWORK_NAME         = \\\"{VPC_NETWORK_NAME}\\\"\n",
    "\n",
    "VERTEX_SA                = \\\"{VERTEX_SA}\\\"\n",
    "\n",
    "PREFIX                   = \\\"{PREFIX}\\\"\n",
    "VERSION                  = \\\"{VERSION}\\\"\n",
    "\n",
    "BUCKET_NAME              = \\\"{BUCKET_NAME}\\\"\n",
    "DATA_GCS_PREFIX          = \\\"{DATA_GCS_PREFIX}\\\"\n",
    "DATA_PATH                = \\\"{DATA_PATH}\\\"\n",
    "BUCKET_URI               = \\\"{BUCKET_URI}\\\"\n",
    "\n",
    "VPC_NETWORK_FULL         = \\\"{VPC_NETWORK_FULL}\\\"\n",
    "\n",
    "BIGQUERY_DATASET_ID      = \\\"{BIGQUERY_DATASET_ID}\\\"\n",
    "BIGQUERY_TABLE_ID        = \\\"{BIGQUERY_TABLE_ID}\\\"\n",
    "\n",
    "REPO_DOCKER_PATH_PREFIX  = \\\"{REPO_DOCKER_PATH_PREFIX}\\\"\n",
    "RL_SUB_DIR               = \\\"{RL_SUB_DIR}\\\"\n",
    "\"\"\"\n",
    "print(config)"
   ]
  },
  {
   "cell_type": "code",
   "execution_count": 33,
   "id": "d58b9443-c5cc-456b-bd92-1ac5543d7afa",
   "metadata": {},
   "outputs": [
    {
     "name": "stdout",
     "output_type": "stream",
     "text": [
      "Copying from <STDIN>...\n",
      "/ [1 files][    0.0 B/    0.0 B]                                                \n",
      "Operation completed over 1 objects.                                              \n"
     ]
    }
   ],
   "source": [
    "!echo '{config}' | gsutil cp - {BUCKET_URI}/config/notebook_env.py"
   ]
  },
  {
   "cell_type": "code",
   "execution_count": 34,
   "id": "efb374e1-ec22-468b-82c1-cae19aba8031",
   "metadata": {},
   "outputs": [
    {
     "name": "stdout",
     "output_type": "stream",
     "text": [
      "gs://mabv1-hybrid-vertex-bucket/aiplatform-custom-training-2023-07-13-22:02:47.458/\n",
      "gs://mabv1-hybrid-vertex-bucket/aiplatform-custom-training-2023-07-14-12:09:06.643/\n",
      "gs://mabv1-hybrid-vertex-bucket/aiplatform-custom-training-2023-07-14-12:46:07.509/\n",
      "gs://mabv1-hybrid-vertex-bucket/aiplatform-custom-training-2023-07-14-13:48:08.938/\n",
      "gs://mabv1-hybrid-vertex-bucket/archived/\n",
      "gs://mabv1-hybrid-vertex-bucket/config/\n",
      "gs://mabv1-hybrid-vertex-bucket/data/\n",
      "gs://mabv1-hybrid-vertex-bucket/data_stats/\n",
      "gs://mabv1-hybrid-vertex-bucket/perarm-local-test/\n",
      "gs://mabv1-hybrid-vertex-bucket/scale-perarm-hpt/\n"
     ]
    }
   ],
   "source": [
    "!gsutil ls $BUCKET_URI"
   ]
  },
  {
   "cell_type": "code",
   "execution_count": null,
   "id": "1c535fcc-18ac-4bfd-90ea-5008a379133e",
   "metadata": {},
   "outputs": [],
   "source": []
  },
  {
   "cell_type": "code",
   "execution_count": null,
   "id": "03219843-7ad8-4324-93e3-5b1c4f0844cb",
   "metadata": {},
   "outputs": [],
   "source": []
  },
  {
   "cell_type": "code",
   "execution_count": null,
   "id": "0b922d2d-5451-4ac9-b26f-deb79c5a6fa4",
   "metadata": {},
   "outputs": [],
   "source": []
  },
  {
   "cell_type": "code",
   "execution_count": null,
   "id": "4eafbfd4-8497-4a5f-884b-4fb4dbd652d9",
   "metadata": {},
   "outputs": [],
   "source": []
  },
  {
   "cell_type": "code",
   "execution_count": null,
   "id": "a1e6503e-dd7e-491e-b3a8-0519d8ece23a",
   "metadata": {},
   "outputs": [],
   "source": []
  },
  {
   "cell_type": "code",
   "execution_count": null,
   "id": "eb5cd8e8-14cd-4904-9c29-5fcca701bac2",
   "metadata": {},
   "outputs": [],
   "source": []
  }
 ],
 "metadata": {
  "environment": {
   "kernel": "python3",
   "name": "tf2-gpu.2-11.m109",
   "type": "gcloud",
   "uri": "gcr.io/deeplearning-platform-release/tf2-gpu.2-11:m109"
  },
  "kernelspec": {
   "display_name": "Python 3",
   "language": "python",
   "name": "python3"
  },
  "language_info": {
   "codemirror_mode": {
    "name": "ipython",
    "version": 3
   },
   "file_extension": ".py",
   "mimetype": "text/x-python",
   "name": "python",
   "nbconvert_exporter": "python",
   "pygments_lexer": "ipython3",
   "version": "3.10.11"
  }
 },
 "nbformat": 4,
 "nbformat_minor": 5
}
