{
 "cells": [
  {
   "cell_type": "markdown",
   "id": "9e4e2cbd-33b0-47e0-b1c0-596921415742",
   "metadata": {},
   "source": [
    "# Environment Setup for training TF-Agents"
   ]
  },
  {
   "cell_type": "markdown",
   "id": "0a9497e0-2c91-4375-95af-95087d3021e2",
   "metadata": {},
   "source": [
    "## Install Packages\n",
    "Run `pip requirements.txt` in either (1) the notebook cell below or (2) in a notebook terminal window"
   ]
  },
  {
   "cell_type": "code",
   "execution_count": 1,
   "id": "eb4610a9-d160-47f5-a141-9aada673f2f9",
   "metadata": {},
   "outputs": [],
   "source": [
    "# !pwd"
   ]
  },
  {
   "cell_type": "code",
   "execution_count": 2,
   "id": "a8e85584-fff1-4a46-931c-ee86faec08f8",
   "metadata": {},
   "outputs": [],
   "source": [
    "import os\n",
    "\n",
    "# The Vertex AI Workbench Notebook product has specific requirements\n",
    "IS_WORKBENCH_NOTEBOOK = os.getenv(\"DL_ANACONDA_HOME\")\n",
    "IS_USER_MANAGED_WORKBENCH_NOTEBOOK = os.path.exists(\n",
    "    \"/opt/deeplearning/metadata/env_version\"\n",
    ")\n",
    "\n",
    "# Vertex AI Notebook requires dependencies to be installed with '--user'\n",
    "USER_FLAG = \"\"\n",
    "if IS_WORKBENCH_NOTEBOOK:\n",
    "    USER_FLAG = \"--user\"\n",
    "\n",
    "# !pip install --no-cache-dir -r ./requirements.txt --user -q"
   ]
  },
  {
   "cell_type": "markdown",
   "id": "d92cae7b-f56a-46ce-ad60-4a1d4a59e090",
   "metadata": {},
   "source": [
    "## Set vars"
   ]
  },
  {
   "cell_type": "code",
   "execution_count": 3,
   "id": "23489b2a-cec0-4ce6-9e25-6aa3c5815bd6",
   "metadata": {},
   "outputs": [
    {
     "name": "stdout",
     "output_type": "stream",
     "text": [
      "PREFIX = rec-bandits-v2\n"
     ]
    }
   ],
   "source": [
    "# naming convention for all cloud resources\n",
    "VERSION        = \"v2\"              # TODO\n",
    "PREFIX         = f'rec-bandits-{VERSION}'   # TODO\n",
    "\n",
    "print(f\"PREFIX = {PREFIX}\")"
   ]
  },
  {
   "cell_type": "markdown",
   "id": "45ffbf4b-e0f7-46b3-adc2-7eb6bf67dec3",
   "metadata": {},
   "source": [
    "### GCP project"
   ]
  },
  {
   "cell_type": "code",
   "execution_count": 4,
   "id": "6feb8bda-6180-4464-8548-3c63cc6f66f7",
   "metadata": {},
   "outputs": [
    {
     "name": "stdout",
     "output_type": "stream",
     "text": [
      "PROJECT_ID       = hybrid-vertex\n",
      "PROJECT_NUM      = 934903580331\n",
      "VPC_NETWORK_NAME = ucaip-haystack-vpc-network\n",
      "LOCATION         = us-central1\n",
      "REGION           = us-central1\n",
      "BQ_LOCATION      = US\n"
     ]
    }
   ],
   "source": [
    "# creds, PROJECT_ID = google.auth.default()\n",
    "GCP_PROJECTS             = !gcloud config get-value project\n",
    "PROJECT_ID               = GCP_PROJECTS[0]\n",
    "\n",
    "PROJECT_NUM              = !gcloud projects describe $PROJECT_ID --format=\"value(projectNumber)\"\n",
    "PROJECT_NUM              = PROJECT_NUM[0]\n",
    "\n",
    "VERTEX_SA                = f'{PROJECT_NUM}-compute@developer.gserviceaccount.com'\n",
    "\n",
    "VPC_NETWORK_NAME         = \"ucaip-haystack-vpc-network\"\n",
    "\n",
    "# locations / regions for cloud resources\n",
    "LOCATION                 = 'us-central1'        \n",
    "REGION                   = LOCATION\n",
    "BQ_LOCATION              = 'US'\n",
    "\n",
    "print(f\"PROJECT_ID       = {PROJECT_ID}\")\n",
    "print(f\"PROJECT_NUM      = {PROJECT_NUM}\")\n",
    "print(f\"VPC_NETWORK_NAME = {VPC_NETWORK_NAME}\")\n",
    "print(f\"LOCATION         = {LOCATION}\")\n",
    "print(f\"REGION           = {REGION}\")\n",
    "print(f\"BQ_LOCATION      = {BQ_LOCATION}\")"
   ]
  },
  {
   "cell_type": "markdown",
   "id": "bb38e632-60d9-4d39-911b-545b0a84333f",
   "metadata": {},
   "source": [
    "### Define Cloud Resource Names and Args"
   ]
  },
  {
   "cell_type": "code",
   "execution_count": 5,
   "id": "86a4850f-ed86-4c07-8efa-a704b3a381ed",
   "metadata": {},
   "outputs": [
    {
     "name": "stdout",
     "output_type": "stream",
     "text": [
      "BUCKET_NAME          : rec-bandits-v2-hybrid-vertex-bucket\n",
      "BUCKET_URI           : gs://rec-bandits-v2-hybrid-vertex-bucket\n",
      "DATA_GCS_PREFIX      : data\n",
      "DATA_PATH            : gs://rec-bandits-v2-hybrid-vertex-bucket/data\n",
      "VOCAB_SUBDIR         : vocabs\n",
      "VOCAB_FILENAME       : vocab_dict.pkl\n",
      "VPC_NETWORK_FULL     : projects/934903580331/global/networks/ucaip-haystack-vpc-network\n",
      "BIGQUERY_DATASET_ID  : hybrid_vertex.movielens_ds_rec_bandits_v2\n",
      "BIGQUERY_TABLE_ID    : hybrid_vertex.movielens_ds_rec_bandits_v2.training_dataset\n",
      "REPOSITORY           : rl-movielens-rec-bandits-v2\n",
      "IMAGE_NAME           : train-perarm-feats-v2\n",
      "DOCKERNAME           : Dockerfile_perarm_feats\n",
      "IMAGE_URI_01         : gcr.io/hybrid-vertex/train-perarm-feats-v2-01\n",
      "IMAGE_URI_02         : gcr.io/hybrid-vertex/train-perarm-feats-v2-02\n",
      "REMOTE_IMAGE_NAME    : us-central1-docker.pkg.dev/hybrid-vertex/rl-movielens-rec-bandits-v2/train-perarm-feats-v2\n"
     ]
    }
   ],
   "source": [
    "# GCS bucket and paths\n",
    "BUCKET_NAME              = f'{PREFIX}-{PROJECT_ID}-bucket'\n",
    "BUCKET_URI               = f'gs://{BUCKET_NAME}'\n",
    "\n",
    "# Location to write TF-Records for MovieLens 100K dataset\n",
    "DATA_GCS_PREFIX          = \"data\"\n",
    "DATA_PATH                = f\"{BUCKET_URI}/{DATA_GCS_PREFIX}\"\n",
    "VOCAB_SUBDIR             = \"vocabs\"\n",
    "VOCAB_FILENAME           = 'vocab_dict.pkl'\n",
    "\n",
    "VPC_NETWORK_FULL         = f\"projects/{PROJECT_NUM}/global/networks/{VPC_NETWORK_NAME}\"\n",
    "\n",
    "# BigQuery parameters (used for the Generator, Ingester, Logger)\n",
    "BIGQUERY_DATASET_ID      = f\"{PROJECT_ID}.movielens_ds_{PREFIX}\".replace(\"-\",\"_\")\n",
    "BIGQUERY_TABLE_ID        = f\"{BIGQUERY_DATASET_ID}.training_dataset\"\n",
    "\n",
    "# container registry\n",
    "REPOSITORY                = f'rl-movielens-{PREFIX}'\n",
    "IMAGE_NAME                = f'train-perarm-feats-{VERSION}'\n",
    "DOCKERNAME                = f'Dockerfile_perarm_feats'\n",
    "\n",
    "# cloud build\n",
    "IMAGE_URI_01              = f'gcr.io/{PROJECT_ID}/{IMAGE_NAME}-01'\n",
    "IMAGE_URI_02              = f'gcr.io/{PROJECT_ID}/{IMAGE_NAME}-02'\n",
    "\n",
    "# docker (local build)\n",
    "REMOTE_IMAGE_NAME         = f\"{REGION}-docker.pkg.dev/{PROJECT_ID}/{REPOSITORY}/{IMAGE_NAME}\"\n",
    "\n",
    "print(f\"BUCKET_NAME          : {BUCKET_NAME}\")\n",
    "print(f\"BUCKET_URI           : {BUCKET_URI}\")\n",
    "\n",
    "print(f\"DATA_GCS_PREFIX      : {DATA_GCS_PREFIX}\")\n",
    "print(f\"DATA_PATH            : {DATA_PATH}\")\n",
    "print(f\"VOCAB_SUBDIR         : {VOCAB_SUBDIR}\")\n",
    "print(f\"VOCAB_FILENAME       : {VOCAB_FILENAME}\")\n",
    "\n",
    "print(f\"VPC_NETWORK_FULL     : {VPC_NETWORK_FULL}\")\n",
    "\n",
    "print(f\"BIGQUERY_DATASET_ID  : {BIGQUERY_DATASET_ID}\")\n",
    "print(f\"BIGQUERY_TABLE_ID    : {BIGQUERY_TABLE_ID}\")\n",
    "\n",
    "print(f\"REPOSITORY           : {REPOSITORY}\")\n",
    "print(f\"IMAGE_NAME           : {IMAGE_NAME}\")\n",
    "print(f\"DOCKERNAME           : {DOCKERNAME}\")\n",
    "\n",
    "print(f\"IMAGE_URI_01         : {IMAGE_URI_01}\")\n",
    "print(f\"IMAGE_URI_02         : {IMAGE_URI_02}\")\n",
    "print(f\"REMOTE_IMAGE_NAME    : {REMOTE_IMAGE_NAME}\")"
   ]
  },
  {
   "cell_type": "code",
   "execution_count": 8,
   "id": "e096698e-97e8-4881-b065-a9248de6e2d2",
   "metadata": {},
   "outputs": [],
   "source": [
    "# # create bucket\n",
    "# ! gsutil mb -l $REGION $BUCKET_URI"
   ]
  },
  {
   "cell_type": "code",
   "execution_count": 9,
   "id": "240f7504-fcd8-4b03-96d7-440d214f397d",
   "metadata": {},
   "outputs": [],
   "source": [
    "# ! gsutil iam ch serviceAccount:{VERTEX_SA}:roles/storage.objects.get $BUCKET_URI\n",
    "# ! gsutil iam ch serviceAccount:{VERTEX_SA}:roles/storage.objects.get $BUCKET_URI"
   ]
  },
  {
   "cell_type": "markdown",
   "id": "05194be0-ca5c-4efa-9818-ef9de36ab042",
   "metadata": {},
   "source": [
    "## Repo structure\n",
    "\n",
    "* these variables are used to structure the repo\n",
    "* this means they are required for correctly building Dockerfile's, importing classes, etc."
   ]
  },
  {
   "cell_type": "code",
   "execution_count": 10,
   "id": "e7cf09cf-4a01-4b89-aee7-a42b77283f30",
   "metadata": {},
   "outputs": [
    {
     "name": "stdout",
     "output_type": "stream",
     "text": [
      "REPO_DOCKER_PATH_PREFIX  : src\n",
      "RL_SUB_DIR               : per_arm_rl\n"
     ]
    }
   ],
   "source": [
    "REPO_DOCKER_PATH_PREFIX          = 'src'\n",
    "RL_SUB_DIR                       = 'per_arm_rl'\n",
    "\n",
    "print(f\"REPO_DOCKER_PATH_PREFIX  : {REPO_DOCKER_PATH_PREFIX}\")\n",
    "print(f\"RL_SUB_DIR               : {RL_SUB_DIR}\")"
   ]
  },
  {
   "cell_type": "markdown",
   "id": "930d0e7c-4db6-445a-8bbc-af351b3e9782",
   "metadata": {},
   "source": [
    "## Save Notebook Configuration Data\n",
    "If you want to avoid having to re-enter these across notebooks"
   ]
  },
  {
   "cell_type": "code",
   "execution_count": 11,
   "id": "eed3d8bb-f4d2-493e-ae8c-66830ca12d0e",
   "metadata": {},
   "outputs": [
    {
     "name": "stdout",
     "output_type": "stream",
     "text": [
      "\n",
      "PROJECT_ID               = \"hybrid-vertex\"\n",
      "PROJECT_NUM              = \"934903580331\"\n",
      "LOCATION                 = \"us-central1\"\n",
      "\n",
      "REGION                   = \"us-central1\"\n",
      "BQ_LOCATION              = \"US\"\n",
      "VPC_NETWORK_NAME         = \"ucaip-haystack-vpc-network\"\n",
      "\n",
      "VERTEX_SA                = \"934903580331-compute@developer.gserviceaccount.com\"\n",
      "\n",
      "PREFIX                   = \"rec-bandits-v2\"\n",
      "VERSION                  = \"v2\"\n",
      "\n",
      "BUCKET_NAME              = \"rec-bandits-v2-hybrid-vertex-bucket\"\n",
      "BUCKET_URI               = \"gs://rec-bandits-v2-hybrid-vertex-bucket\"\n",
      "DATA_GCS_PREFIX          = \"data\"\n",
      "DATA_PATH                = \"gs://rec-bandits-v2-hybrid-vertex-bucket/data\"\n",
      "VOCAB_SUBDIR             = \"vocabs\"\n",
      "VOCAB_FILENAME           = \"vocab_dict.pkl\"\n",
      "\n",
      "VPC_NETWORK_FULL         = \"projects/934903580331/global/networks/ucaip-haystack-vpc-network\"\n",
      "\n",
      "BIGQUERY_DATASET_ID      = \"hybrid_vertex.movielens_ds_rec_bandits_v2\"\n",
      "BIGQUERY_TABLE_ID        = \"hybrid_vertex.movielens_ds_rec_bandits_v2.training_dataset\"\n",
      "\n",
      "REPO_DOCKER_PATH_PREFIX  = \"src\"\n",
      "RL_SUB_DIR               = \"per_arm_rl\"\n",
      "\n",
      "REPOSITORY               = \"rl-movielens-rec-bandits-v2\"\n",
      "IMAGE_NAME               = \"train-perarm-feats-v2\"\n",
      "DOCKERNAME               = \"Dockerfile_perarm_feats\"\n",
      "\n",
      "IMAGE_URI_01             = \"gcr.io/hybrid-vertex/train-perarm-feats-v2-01\"\n",
      "IMAGE_URI_02             = \"gcr.io/hybrid-vertex/train-perarm-feats-v2-02\"\n",
      "\n",
      "REMOTE_IMAGE_NAME        = \"us-central1-docker.pkg.dev/hybrid-vertex/rl-movielens-rec-bandits-v2/train-perarm-feats-v2\"\n",
      "\n"
     ]
    }
   ],
   "source": [
    "config = f\"\"\"\n",
    "PROJECT_ID               = \\\"{PROJECT_ID}\\\"\n",
    "PROJECT_NUM              = \\\"{PROJECT_NUM}\\\"\n",
    "LOCATION                 = \\\"{LOCATION}\\\"\n",
    "\n",
    "REGION                   = \\\"{REGION}\\\"\n",
    "BQ_LOCATION              = \\\"{BQ_LOCATION}\\\"\n",
    "VPC_NETWORK_NAME         = \\\"{VPC_NETWORK_NAME}\\\"\n",
    "\n",
    "VERTEX_SA                = \\\"{VERTEX_SA}\\\"\n",
    "\n",
    "PREFIX                   = \\\"{PREFIX}\\\"\n",
    "VERSION                  = \\\"{VERSION}\\\"\n",
    "\n",
    "BUCKET_NAME              = \\\"{BUCKET_NAME}\\\"\n",
    "BUCKET_URI               = \\\"{BUCKET_URI}\\\"\n",
    "DATA_GCS_PREFIX          = \\\"{DATA_GCS_PREFIX}\\\"\n",
    "DATA_PATH                = \\\"{DATA_PATH}\\\"\n",
    "VOCAB_SUBDIR             = \\\"{VOCAB_SUBDIR}\\\"\n",
    "VOCAB_FILENAME           = \\\"{VOCAB_FILENAME}\\\"\n",
    "\n",
    "VPC_NETWORK_FULL         = \\\"{VPC_NETWORK_FULL}\\\"\n",
    "\n",
    "BIGQUERY_DATASET_ID      = \\\"{BIGQUERY_DATASET_ID}\\\"\n",
    "BIGQUERY_TABLE_ID        = \\\"{BIGQUERY_TABLE_ID}\\\"\n",
    "\n",
    "REPO_DOCKER_PATH_PREFIX  = \\\"{REPO_DOCKER_PATH_PREFIX}\\\"\n",
    "RL_SUB_DIR               = \\\"{RL_SUB_DIR}\\\"\n",
    "\n",
    "REPOSITORY               = \\\"{REPOSITORY}\\\"\n",
    "IMAGE_NAME               = \\\"{IMAGE_NAME}\\\"\n",
    "DOCKERNAME               = \\\"{DOCKERNAME}\\\"\n",
    "\n",
    "IMAGE_URI_01             = \\\"{IMAGE_URI_01}\\\"\n",
    "IMAGE_URI_02             = \\\"{IMAGE_URI_02}\\\"\n",
    "\n",
    "REMOTE_IMAGE_NAME        = \\\"{REMOTE_IMAGE_NAME}\\\"\n",
    "\"\"\"\n",
    "print(config)"
   ]
  },
  {
   "cell_type": "code",
   "execution_count": 12,
   "id": "d58b9443-c5cc-456b-bd92-1ac5543d7afa",
   "metadata": {},
   "outputs": [
    {
     "name": "stdout",
     "output_type": "stream",
     "text": [
      "Copying from <STDIN>...\n",
      "/ [1 files][    0.0 B/    0.0 B]                                                \n",
      "Operation completed over 1 objects.                                              \n"
     ]
    }
   ],
   "source": [
    "!echo '{config}' | gsutil cp - {BUCKET_URI}/config/notebook_env.py"
   ]
  },
  {
   "cell_type": "code",
   "execution_count": 13,
   "id": "efb374e1-ec22-468b-82c1-cae19aba8031",
   "metadata": {},
   "outputs": [
    {
     "name": "stdout",
     "output_type": "stream",
     "text": [
      "gs://rec-bandits-v2-hybrid-vertex-bucket/acc-paf-v3/\n",
      "gs://rec-bandits-v2-hybrid-vertex-bucket/baseline-perarm-local-v1/\n",
      "gs://rec-bandits-v2-hybrid-vertex-bucket/config/\n",
      "gs://rec-bandits-v2-hybrid-vertex-bucket/data/\n",
      "gs://rec-bandits-v2-hybrid-vertex-bucket/env-ranker-rec-bandits-v2/\n",
      "gs://rec-bandits-v2-hybrid-vertex-bucket/local-ranker-rec-bandits-v2/\n",
      "gs://rec-bandits-v2-hybrid-vertex-bucket/mab-local-classy-v3/\n",
      "gs://rec-bandits-v2-hybrid-vertex-bucket/scale-perarm-hpt-v3/\n",
      "gs://rec-bandits-v2-hybrid-vertex-bucket/v2-acc-cuda-alloc/\n",
      "gs://rec-bandits-v2-hybrid-vertex-bucket/v2-acc-input-data-v1/\n",
      "gs://rec-bandits-v2-hybrid-vertex-bucket/v2-acc-local-one-device/\n",
      "gs://rec-bandits-v2-hybrid-vertex-bucket/v2-acc-local-oned-thdc-4/\n",
      "gs://rec-bandits-v2-hybrid-vertex-bucket/v2-acc-local-v1/\n",
      "gs://rec-bandits-v2-hybrid-vertex-bucket/v2-acc-no-summaries/\n",
      "gs://rec-bandits-v2-hybrid-vertex-bucket/v2-local-2a-v1/\n",
      "gs://rec-bandits-v2-hybrid-vertex-bucket/v2-scale-mod-v1/\n",
      "gs://rec-bandits-v2-hybrid-vertex-bucket/v2-scale-t4-docker/\n",
      "gs://rec-bandits-v2-hybrid-vertex-bucket/v2-scale-t4-v1/\n",
      "gs://rec-bandits-v2-hybrid-vertex-bucket/v2-scale-tf214-v1/\n",
      "gs://rec-bandits-v2-hybrid-vertex-bucket/v2-scale-tf214-v2/\n",
      "gs://rec-bandits-v2-hybrid-vertex-bucket/v3-acc-input-data-v1/\n",
      "gs://rec-bandits-v2-hybrid-vertex-bucket/v3-scale-t4-v1/\n",
      "gs://rec-bandits-v2-hybrid-vertex-bucket/vocabs/\n"
     ]
    }
   ],
   "source": [
    "!gsutil ls $BUCKET_URI"
   ]
  },
  {
   "cell_type": "markdown",
   "id": "2b510374-62d0-4dbd-9145-63ac2c36b4f9",
   "metadata": {},
   "source": [
    "# gitignore"
   ]
  },
  {
   "cell_type": "code",
   "execution_count": 16,
   "id": "03219843-7ad8-4324-93e3-5b1c4f0844cb",
   "metadata": {},
   "outputs": [
    {
     "name": "stdout",
     "output_type": "stream",
     "text": [
      "Overwriting .gitignore\n"
     ]
    }
   ],
   "source": [
    "%%writefile .gitignore\n",
    "*.cpython-310.pyc\n",
    "*checkpoint*\n",
    "*.ipynb_checkpoints/*\n",
    "*WIP*\n",
    "# .gcloudignore\n",
    "# .git\n",
    "# .github\n",
    "# *__pycache__\n",
    "# *cpython-37.pyc\n",
    "# .gitignore\n",
    "# .DS_Store"
   ]
  },
  {
   "cell_type": "markdown",
   "id": "1c613951-bd35-4075-a11d-849c38a83d17",
   "metadata": {},
   "source": [
    "# gcloudignore"
   ]
  },
  {
   "cell_type": "code",
   "execution_count": 5,
   "id": "4eafbfd4-8497-4a5f-884b-4fb4dbd652d9",
   "metadata": {},
   "outputs": [
    {
     "name": "stdout",
     "output_type": "stream",
     "text": [
      "Updated property [gcloudignore/enabled].\n"
     ]
    }
   ],
   "source": [
    "! gcloud config set gcloudignore/enabled true"
   ]
  },
  {
   "cell_type": "code",
   "execution_count": 2,
   "id": "a1e6503e-dd7e-491e-b3a8-0519d8ece23a",
   "metadata": {},
   "outputs": [
    {
     "name": "stdout",
     "output_type": "stream",
     "text": [
      "Overwriting .gcloudignore\n"
     ]
    }
   ],
   "source": [
    "%%writefile .gcloudignore\n",
    ".gcloudignore\n",
    "/WIP/\n",
    "# /img/\n",
    "*.pkl\n",
    "*.png\n",
    "*.ipynb\n",
    ".git\n",
    ".github\n",
    ".ipynb_checkpoints/*\n",
    "*__pycache__\n",
    "*cpython-37.pyc\n",
    "/hptuning/*\n",
    "/imgs/*\n",
    "README.md\n",
    ".gitignore\n",
    ".DS_Store\n",
    "*.tfrecord\n",
    "src/archive/*\n",
    "00-archived/*\n",
    "learning/*\n",
    "04-pipelines/*"
   ]
  },
  {
   "cell_type": "code",
   "execution_count": 13,
   "id": "eb5cd8e8-14cd-4904-9c29-5fcca701bac2",
   "metadata": {},
   "outputs": [
    {
     "name": "stdout",
     "output_type": "stream",
     "text": [
      "Dockerfile_perarm_feats\n",
      "requirements.txt\n",
      "cloudbuild.yaml\n",
      "src/per_arm_rl/perarm_task.py\n",
      "src/per_arm_rl/__init__.py\n",
      "src/per_arm_rl/my_per_arm_py_env.py\n",
      "src/per_arm_rl/policy_util.py\n",
      "src/per_arm_rl/train_utils.py\n",
      "src/per_arm_rl/trainer_baseline.py\n",
      "src/per_arm_rl/data_utils.py\n",
      "src/per_arm_rl/data_config.py\n",
      "src/perarm_features/train_perarm.py\n",
      "src/perarm_features/reward_factory.py\n",
      "src/perarm_features/emb_features.py\n",
      "src/perarm_features/agent_factory.py\n",
      "src/perarm_features/__init__.py\n",
      "src/perarm_features/trainer_common.py\n",
      "src/perarm_features/task.py\n",
      "src/perarm_features/eval_perarm.py\n",
      "src/perarm_features/ranking_bandit_policy.py\n"
     ]
    }
   ],
   "source": [
    "# check eligble files\n",
    "!gcloud meta list-files-for-upload"
   ]
  },
  {
   "cell_type": "markdown",
   "id": "17431096-a82a-4571-9203-1e6a3d5e32f1",
   "metadata": {},
   "source": [
    "**Finished**"
   ]
  }
 ],
 "metadata": {
  "environment": {
   "kernel": "python3",
   "name": "tf2-gpu.2-13.m112",
   "type": "gcloud",
   "uri": "gcr.io/deeplearning-platform-release/tf2-gpu.2-13:m112"
  },
  "kernelspec": {
   "display_name": "Python 3",
   "language": "python",
   "name": "python3"
  },
  "language_info": {
   "codemirror_mode": {
    "name": "ipython",
    "version": 3
   },
   "file_extension": ".py",
   "mimetype": "text/x-python",
   "name": "python",
   "nbconvert_exporter": "python",
   "pygments_lexer": "ipython3",
   "version": "3.10.12"
  }
 },
 "nbformat": 4,
 "nbformat_minor": 5
}
