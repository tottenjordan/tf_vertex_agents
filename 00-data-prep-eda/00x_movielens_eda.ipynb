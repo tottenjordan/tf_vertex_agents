{
 "cells": [
  {
   "cell_type": "markdown",
   "id": "882c1d90-b3c2-4712-8afb-3f6430758735",
   "metadata": {},
   "source": [
    "# Data analysis\n",
    "\n",
    "> TODO"
   ]
  },
  {
   "cell_type": "markdown",
   "id": "8e5123ab-4767-489c-b6ff-20cda53ccc37",
   "metadata": {},
   "source": [
    "## Notebook config"
   ]
  },
  {
   "cell_type": "code",
   "execution_count": 1,
   "id": "ac1094e1-d6aa-4f6d-b9a4-38fc80270ae8",
   "metadata": {},
   "outputs": [
    {
     "name": "stdout",
     "output_type": "stream",
     "text": [
      "PREFIX: rec-bandits-v2\n"
     ]
    }
   ],
   "source": [
    "VERSION        = \"v2\"                       # TODO\n",
    "PREFIX         = f'rec-bandits-{VERSION}'   # TODO\n",
    "\n",
    "print(f\"PREFIX: {PREFIX}\")"
   ]
  },
  {
   "cell_type": "code",
   "execution_count": 2,
   "id": "cb8a7c93-4146-409c-9a4f-10d02a6254e2",
   "metadata": {},
   "outputs": [
    {
     "name": "stdout",
     "output_type": "stream",
     "text": [
      "\n",
      "PROJECT_ID               = \"hybrid-vertex\"\n",
      "PROJECT_NUM              = \"934903580331\"\n",
      "LOCATION                 = \"us-central1\"\n",
      "\n",
      "REGION                   = \"us-central1\"\n",
      "BQ_LOCATION              = \"US\"\n",
      "VPC_NETWORK_NAME         = \"ucaip-haystack-vpc-network\"\n",
      "\n",
      "VERTEX_SA                = \"934903580331-compute@developer.gserviceaccount.com\"\n",
      "\n",
      "PREFIX                   = \"rec-bandits-v2\"\n",
      "VERSION                  = \"v2\"\n",
      "\n",
      "BUCKET_NAME              = \"rec-bandits-v2-hybrid-vertex-bucket\"\n",
      "BUCKET_URI               = \"gs://rec-bandits-v2-hybrid-vertex-bucket\"\n",
      "DATA_GCS_PREFIX          = \"data\"\n",
      "DATA_PATH                = \"gs://rec-bandits-v2-hybrid-vertex-bucket/data\"\n",
      "VOCAB_SUBDIR             = \"vocabs\"\n",
      "VOCAB_FILENAME           = \"vocab_dict.pkl\"\n",
      "DATA_PATH_KFP_DEMO       = \"gs://rec-bandits-v2-hybrid-vertex-bucket/data/kfp_demo_data/u.data\"\n",
      "\n",
      "VPC_NETWORK_FULL         = \"projects/934903580331/global/networks/ucaip-haystack-vpc-network\"\n",
      "\n",
      "BIGQUERY_DATASET_NAME    = \"mvlens_rec_bandits_v2\"\n",
      "BIGQUERY_TABLE_NAME      = \"training_dataset\"\n",
      "\n",
      "REPOSITORY               = \"rl-movielens-rec-bandits-v2\"\n",
      "\n",
      "DOCKERNAME_01            = \"Dockerfile_train_my_perarm_env\"\n",
      "IMAGE_NAME_01            = \"train-my-perarm-env-v2\"\n",
      "IMAGE_URI_01             = \"gcr.io/hybrid-vertex/train-my-perarm-env-v2\"\n",
      "\n",
      "DOCKERNAME_02            = \"Dockerfile_perarm_feats\"\n",
      "IMAGE_NAME_02            = \"train-perarm-feats-v2\"\n",
      "IMAGE_URI_02             = \"gcr.io/hybrid-vertex/train-perarm-feats-v2\"\n",
      "\n",
      "DOCKERNAME_03            = \"Dockerfile_ranking_bandit\"\n",
      "IMAGE_NAME_03            = \"train-rank-bandit-v2\"\n",
      "IMAGE_URI_03             = \"gcr.io/hybrid-vertex/train-rank-bandit-v2\"\n",
      "\n",
      "DOCKERNAME_04            = \"Dockerfile_train_mab_e2e\"\n",
      "IMAGE_NAME_04            = \"train-mab-e2e-v2\"\n",
      "IMAGE_URI_04             = \"gcr.io/hybrid-vertex/train-mab-e2e-v2\"\n",
      "\n",
      "DOCKERNAME_04_pred       = \"Dockerfile_pred_mab_e2e\"\n",
      "IMAGE_NAME_04_pred       = \"pred-mab-e2e-v2\"\n",
      "IMAGE_URI_04_pred        = \"gcr.io/hybrid-vertex/pred-mab-e2e-v2\"\n",
      "\n",
      "REMOTE_IMAGE_NAME        = \"us-central1-docker.pkg.dev/hybrid-vertex/rl-movielens-rec-bandits-v2/local_docker_tfa\"\n",
      "\n",
      "REPO_DOCKER_PATH_PREFIX  = \"src\"\n",
      "RL_SUB_DIR               = \"per_arm_rl\"\n",
      "\n"
     ]
    }
   ],
   "source": [
    "# staging GCS\n",
    "GCP_PROJECTS             = !gcloud config get-value project\n",
    "PROJECT_ID               = GCP_PROJECTS[0]\n",
    "\n",
    "# GCS bucket and paths\n",
    "BUCKET_NAME              = f'{PREFIX}-{PROJECT_ID}-bucket'\n",
    "BUCKET_URI               = f'gs://{BUCKET_NAME}'\n",
    "\n",
    "config = !gsutil cat {BUCKET_URI}/config/notebook_env.py\n",
    "print(config.n)\n",
    "exec(config.n)"
   ]
  },
  {
   "cell_type": "code",
   "execution_count": 3,
   "id": "e057f721-b670-4a33-97ed-a11410f8021f",
   "metadata": {},
   "outputs": [],
   "source": [
    "# logging\n",
    "import logging\n",
    "logging.disable(logging.WARNING)\n",
    "\n",
    "import warnings\n",
    "warnings.filterwarnings('ignore')\n",
    "\n",
    "import sys\n",
    "sys.path.append(\"..\")\n",
    "\n",
    "# this repo\n",
    "from src.data import data_config as data_config"
   ]
  },
  {
   "cell_type": "code",
   "execution_count": 4,
   "id": "e3a4fea0-3546-479e-ba3b-b9c033ebd2eb",
   "metadata": {},
   "outputs": [],
   "source": [
    "# google cloud\n",
    "from google.cloud import aiplatform, storage\n",
    "\n",
    "# cloud storage client\n",
    "storage_client = storage.Client(project=PROJECT_ID)\n",
    "# bucket = storage_client.bucket(BUCKET_NAME)\n",
    "\n",
    "# Vertex client\n",
    "aiplatform.init(project=PROJECT_ID, location=LOCATION)"
   ]
  },
  {
   "cell_type": "code",
   "execution_count": 5,
   "id": "f33cc469-e78e-4fcf-886c-f0b7e4c05d09",
   "metadata": {},
   "outputs": [
    {
     "name": "stdout",
     "output_type": "stream",
     "text": [
      "TAG     : m1m\n",
      "DATA_TAG: movielens/m1m\n",
      "gs://rec-bandits-v2-hybrid-vertex-bucket/data/movielens/m1m/train/\n",
      "gs://rec-bandits-v2-hybrid-vertex-bucket/data/movielens/m1m/val/\n",
      "gs://rec-bandits-v2-hybrid-vertex-bucket/data/movielens/m1m/vocabs/\n"
     ]
    }
   ],
   "source": [
    "DATA_SET = \"movielens\"\n",
    "TAG      = data_config.EXAMPLE_GEN_GCS_PATH.split(\"/\")[-1]\n",
    "DATA_TAG = f\"{DATA_SET}/{TAG}\"\n",
    "\n",
    "print(f\"TAG     : {TAG}\")\n",
    "print(f\"DATA_TAG: {DATA_TAG}\")\n",
    "\n",
    "! gsutil ls $DATA_PATH/$DATA_TAG"
   ]
  },
  {
   "cell_type": "markdown",
   "id": "16fdd8ab-fd0e-4c54-9411-5e98ea50af5b",
   "metadata": {},
   "source": [
    "## imports "
   ]
  },
  {
   "cell_type": "code",
   "execution_count": 6,
   "id": "4f9732ce-92b6-4645-97af-23f90229bd59",
   "metadata": {},
   "outputs": [],
   "source": [
    "import csv\n",
    "import os\n",
    "import re\n",
    "import datetime\n",
    "import collections\n",
    "import statistics\n",
    "\n",
    "from matplotlib import pyplot as plt\n",
    "from matplotlib import dates\n",
    "import pandas\n",
    "import seaborn as sns"
   ]
  },
  {
   "cell_type": "markdown",
   "id": "1a4c2645-0e34-4b24-88a7-eb962b2449ef",
   "metadata": {},
   "source": [
    "## Set data path \n",
    "\n",
    "```\n",
    "├── __init__.py\n",
    "├── data\n",
    "│   ├── examples\n",
    "│   └── raw\n",
    "│       └── datasets\n",
    "│           ├── ml-1m\n",
    "│           │   ├── README\n",
    "│           │   ├── movies.dat\n",
    "│           │   ├── ratings.dat\n",
    "│           │   └── users.dat\n",
    "```"
   ]
  },
  {
   "cell_type": "code",
   "execution_count": 19,
   "id": "bdb2e377-901d-456f-b728-ab4f064e5087",
   "metadata": {},
   "outputs": [
    {
     "data": {
      "text/plain": [
       "'../src/data/data/raw/datasets/ml-1m/users.dat'"
      ]
     },
     "execution_count": 19,
     "metadata": {},
     "output_type": "execute_result"
    }
   ],
   "source": [
    "LOCAL_MV_PATH = \"../src/data/data/raw/datasets/ml-1m\"\n",
    "\n",
    "test_path = os.path.join(LOCAL_MV_PATH, 'users.dat')\n",
    "test_path"
   ]
  },
  {
   "cell_type": "code",
   "execution_count": 22,
   "id": "229bedac-2743-4f49-9458-580bc8289902",
   "metadata": {},
   "outputs": [
    {
     "name": "stdout",
     "output_type": "stream",
     "text": [
      "1::F::1::10::48067\n",
      "\n"
     ]
    }
   ],
   "source": [
    "# sys.path.append(\"..\")\n",
    "\n",
    "with open(test_path, encoding='ISO-8859-1') as movies_file:\n",
    "    for line in movies_file:\n",
    "        print(line)\n",
    "        break"
   ]
  },
  {
   "cell_type": "markdown",
   "id": "2fe7eca7-6459-4d84-b22d-f5fd6b9281bc",
   "metadata": {},
   "source": [
    "## parser function"
   ]
  },
  {
   "cell_type": "code",
   "execution_count": 23,
   "id": "fb8ef50d-8464-43df-87a9-da766b271663",
   "metadata": {
    "tags": []
   },
   "outputs": [],
   "source": [
    "def read_data_100k(dir_path):\n",
    "    \"\"\"\n",
    "    Read the MovieLens 100k dataset.\n",
    "\n",
    "    Args:\n",
    "    dir_path: a string, which is the path to the directory of the file.\n",
    "\n",
    "    Returns:\n",
    "    A tuple of three elements:\n",
    "      a dict of movies data\n",
    "      a dict of ratings data\n",
    "      a dict of users data\n",
    "\n",
    "    The movies data dict maps a movie_id string to a dict with keys: \"title\",\n",
    "        \"genres\", \"release_year\", \"release_date\".\n",
    "    The ratings data dict contains keys \"user_ids\",\n",
    "        \"movie_ids\", \"ratings\", \"timestamps\". Each entry is a list of corresponding\n",
    "        values. For instance, user_ids[i] corresponds to the user_id value of the\n",
    "        ith record.\n",
    "    The users data dict maps a user_id string to a dict with keys: \"age\",\n",
    "        \"gender\", \"occupation\", \"zip_code\".\n",
    "    \"\"\"\n",
    "    movies_file_path = os.path.join(dir_path, 'movies.dat')\n",
    "    users_file_path = os.path.join(dir_path, 'users.dat')\n",
    "    ratings_file_path = os.path.join(dir_path, 'ratings.dat')\n",
    "\n",
    "    # A list for converting genre index to genre label for 100K dataset.\n",
    "    # \"Children's\" changed to \"Children\" in the list for consistency.\n",
    "    all_genre_list = [\n",
    "        'Unknown', 'Action', 'Adventure', 'Animation', 'Children', 'Comedy',\n",
    "        'Crime', 'Documentary', 'Drama', 'Fantasy', 'Film-Noir', 'Horror',\n",
    "        'Musical', 'Mystery', 'Romance', 'Sci-Fi', 'Thriller', 'War', 'Western',\n",
    "    ]\n",
    "    # A dict for converting month string to month integer\n",
    "    month_to_int = {\n",
    "        'Jan': 1,\n",
    "        'Feb': 2,\n",
    "        'Mar': 3,\n",
    "        'Apr': 4,\n",
    "        'May': 5,\n",
    "        'Jun': 6,\n",
    "        'Jul': 7,\n",
    "        'Aug': 8,\n",
    "        'Sep': 9,\n",
    "        'Oct': 10,\n",
    "        'Nov': 11,\n",
    "        'Dec': 12,\n",
    "    }\n",
    "    movie_data_map = {}\n",
    "    with open(movies_file_path, encoding='ISO-8859-1') as movies_file:\n",
    "        for line in movies_file:\n",
    "        # Row format: <movie id>|<movie title>|<release date>|\\\n",
    "        # <video release date>|<IMDb URL>|<19 fields for each genre>|.\n",
    "            (\n",
    "                movie_id,\n",
    "                movie_title,\n",
    "                release_date_str,\n",
    "                _,\n",
    "                _,\n",
    "                *genre_bools,\n",
    "            ) = line.strip().split('|')\n",
    "            genre_list = []\n",
    "            for index, genre_indicator in enumerate(genre_bools):\n",
    "                if genre_indicator == '1':\n",
    "                    genre_list.append(all_genre_list[index])\n",
    "            # Search for release year in title\n",
    "            search_result = re.findall('\\([12][09][0-9][0-9]\\)', movie_title)\n",
    "            if search_result is None or len(search_result) != 1:\n",
    "                print('Found released title anomaly')\n",
    "                print(line)\n",
    "                release_year = None\n",
    "            else:\n",
    "                release_year = int(search_result[0][1:5])\n",
    "            if len(release_date_str) == 11:\n",
    "                day_str, month_str, year_str = release_date_str.split('-')\n",
    "                release_date = datetime.date(\n",
    "                    int(year_str),\n",
    "                    month_to_int[month_str],\n",
    "                    int(day_str)\n",
    "                )\n",
    "            else:\n",
    "                release_date = None\n",
    "\n",
    "            movie_data_map[movie_id] = {\n",
    "                'title': movie_title,\n",
    "                'genres': genre_list,\n",
    "                'release_year': release_year,\n",
    "                'release_date': release_date,\n",
    "            }\n",
    "\n",
    "    user_data_map = {}\n",
    "    with open(users_file_path, mode='r', encoding='ISO-8859-1') as users_file:\n",
    "        for line in users_file:\n",
    "            (\n",
    "                user_id,\n",
    "                age,\n",
    "                gender_str,\n",
    "                occupation_str,\n",
    "                zip_code,\n",
    "            ) = line.strip().split('|')\n",
    "            \n",
    "            user_data_map[user_id] = {\n",
    "                'gender': gender_str,\n",
    "                'age': int(age),\n",
    "                'occupation': occupation_str,\n",
    "                'zip_code': zip_code,\n",
    "            }\n",
    "\n",
    "    user_id_list = []\n",
    "    movie_id_list = []\n",
    "    rating_list = []\n",
    "    timestamp_list = []\n",
    "    with open(ratings_file_path, mode='r', encoding='ISO-8859-1') as ratings_file:\n",
    "        for i, line in enumerate(ratings_file):\n",
    "            user_id, movie_id, rating, timestamp = line.strip().split('\\t')\n",
    "            user_id_list.append(user_id)\n",
    "            movie_id_list.append(movie_id)\n",
    "            rating_list.append(float(rating))\n",
    "            timestamp_list.append(datetime.datetime.fromtimestamp(int(timestamp)))\n",
    "    \n",
    "    rating_dict = {\n",
    "        'user_id_list': user_id_list,\n",
    "        'movie_id_list': movie_id_list,\n",
    "        'rating_list': rating_list,\n",
    "        'timestamp_list': timestamp_list,\n",
    "    }\n",
    "  \n",
    "    return movie_data_map, rating_dict, user_data_map"
   ]
  },
  {
   "cell_type": "markdown",
   "id": "99a97769-29a2-4d60-a6f9-09c38261d1da",
   "metadata": {},
   "source": [
    "## Utility functions"
   ]
  },
  {
   "cell_type": "code",
   "execution_count": 24,
   "id": "5c50e7c1-8ddd-469e-831a-cd7242d8faf9",
   "metadata": {
    "tags": []
   },
   "outputs": [],
   "source": [
    "def gen_histogram(\n",
    "    value_list,\n",
    "    title=None,\n",
    "    x_label=None,\n",
    "    y_label=None,\n",
    "    dpi=120,\n",
    "    **kwargs,\n",
    "):\n",
    "    mean = statistics.mean(value_list)\n",
    "    stdev = statistics.stdev(value_list)\n",
    "    plt.figure(dpi=dpi)\n",
    "    plt.hist(value_list, **kwargs)\n",
    "    plt.axvline(mean, ls='dashed')\n",
    "    plt.axvline(mean - stdev, ls='dotted')\n",
    "    plt.axvline(mean + stdev, ls='dotted')\n",
    "    plt.title(title)\n",
    "    plt.xlabel(x_label)\n",
    "    plt.ylabel(y_label)\n",
    "\n",
    "def gen_bar_graph(\n",
    "    item_list,\n",
    "    title=None,\n",
    "    x_label=None,\n",
    "    y_label=None,\n",
    "    figsize=None,\n",
    "    dpi=120,\n",
    "    **kwargs,\n",
    "):\n",
    "    item_counter = collections.Counter(item_list)\n",
    "    count_list = list(item_counter.items())\n",
    "    count_list.sort(reverse=True, key=lambda x: x[1])\n",
    "    item_list, count_list = zip(*count_list)\n",
    "    plt.figure(dpi=120, figsize=figsize)\n",
    "    plt.bar(item_list, count_list, **kwargs)\n",
    "    plt.title(title)\n",
    "    plt.xlabel(x_label)\n",
    "    plt.ylabel(y_label)\n",
    "\n",
    "def gen_count_distribution_graph(item_list, **kwargs):\n",
    "    item_counter = collections.Counter(item_list)\n",
    "    count_list = [c for _, c in item_counter.items()]\n",
    "    gen_histogram(count_list, **kwargs)\n",
    "    return count_list\n",
    "\n",
    "def dict_to_list(input_dict, keys, none_check=None):\n",
    "    record_lists = [[] for _ in keys]\n",
    "    for _, item in input_dict.items():\n",
    "        for i, key in enumerate(keys):\n",
    "            if none_check is not None and key in none_check and item[key] is None:\n",
    "                continue\n",
    "            record_lists[i].append(item[key])\n",
    "    \n",
    "    final_dict = {}\n",
    "    for i, key in enumerate(keys):\n",
    "        final_dict[key + '_list'] = record_lists[i]\n",
    "    \n",
    "    return final_dict\n",
    "\n",
    "def categorical_boxplot(\n",
    "    num_col,\n",
    "    cat_col,\n",
    "    num_name,\n",
    "    cat_name,\n",
    "    title=None,\n",
    "    figsize=None,\n",
    "    showmeans=True,\n",
    "    order=None,\n",
    "):\n",
    "    combined_df = pandas.DataFrame([cat_col, num_col]).transpose()\n",
    "    combined_df.columns = [cat_name, num_name]\n",
    "    plt.figure(figsize=figsize)\n",
    "    sns.boxplot(x=cat_name, y=num_name, data=combined_df, showmeans=showmeans, order=order)\n",
    "    plt.title(title)\n",
    "\n",
    "def get_denormalized_col_dict(rating_col_dict, movie_dict, user_dict):\n",
    "    movie_genres_list = []\n",
    "    movie_release_year_list = []\n",
    "    movie_release_date_list = []\n",
    "    user_gender_list = []\n",
    "    user_age_list = []\n",
    "    user_occupation_list = []\n",
    "    user_zip_code_list = []\n",
    "    for i in range(len(rating_col_dict['user_id_list'])):\n",
    "        user_id = rating_col_dict['user_id_list'][i]\n",
    "        user_info = user_dict[user_id]\n",
    "        user_gender_list.append(user_info['gender'])\n",
    "        user_age_list.append(user_info['age'])\n",
    "        user_occupation_list.append(user_info['occupation'])\n",
    "        user_zip_code_list.append(user_info['zip_code'])\n",
    "        movie_id = rating_col_dict['movie_id_list'][i]\n",
    "        movie_info = movie_dict[movie_id]\n",
    "        movie_genres_list.append(movie_info['genres'])\n",
    "        movie_release_year_list.append(movie_info['release_year'])\n",
    "        movie_release_date_list.append(movie_info['release_date'])\n",
    "    return {\n",
    "        **rating_col_dict,\n",
    "        'movie_genres_list': movie_genres_list,\n",
    "        'movie_release_year_list': movie_release_year_list,\n",
    "        'movie_release_date_list': movie_release_date_list,\n",
    "        'user_gender_list': user_gender_list,\n",
    "        'user_age_list': user_age_list,\n",
    "        'user_occupation_list': user_occupation_list,\n",
    "        'user_zip_code_list': user_zip_code_list,\n",
    "    }"
   ]
  },
  {
   "cell_type": "markdown",
   "id": "2ea255a6-985f-4069-8b91-420290427bb0",
   "metadata": {},
   "source": [
    "### Anomalies\n",
    "\n",
    "> 100k dataset\n",
    "\n",
    "*   The movie with id 267 appears to be an empty movie. It have \"unknown\" title, no release dates, and no genre. However, it is referenced by 9 rating records.\n",
    "*   The release years from the titles are often different from the release dates field. The release years from the titles are the years in which movies are initially released. The dates from the release date field are dates when movies are released in US theatres. Movies may have different release year and release date if it\n",
    "  *   had initial limited release\n",
    "  *   was first released in a country other than US\n",
    "  *   was released multiple times (old movies)"
   ]
  },
  {
   "cell_type": "markdown",
   "id": "642f9ec1-9158-472e-8bf4-6d8d21ed0018",
   "metadata": {},
   "source": [
    "## Read data"
   ]
  },
  {
   "cell_type": "code",
   "execution_count": 25,
   "id": "1f5a4dcf-7164-4344-8758-6989ea428f33",
   "metadata": {},
   "outputs": [
    {
     "ename": "ValueError",
     "evalue": "not enough values to unpack (expected at least 5, got 3)",
     "output_type": "error",
     "traceback": [
      "\u001b[0;31m---------------------------------------------------------------------------\u001b[0m",
      "\u001b[0;31mValueError\u001b[0m                                Traceback (most recent call last)",
      "Cell \u001b[0;32mIn[25], line 1\u001b[0m\n\u001b[0;32m----> 1\u001b[0m movie_dict, rating_col_dict, user_dict \u001b[38;5;241m=\u001b[39m \u001b[43mread_data_100k\u001b[49m\u001b[43m(\u001b[49m\u001b[43mLOCAL_MV_PATH\u001b[49m\u001b[43m)\u001b[49m\n",
      "Cell \u001b[0;32mIn[23], line 54\u001b[0m, in \u001b[0;36mread_data_100k\u001b[0;34m(dir_path)\u001b[0m\n\u001b[1;32m     50\u001b[0m \u001b[38;5;28;01mwith\u001b[39;00m \u001b[38;5;28mopen\u001b[39m(movies_file_path, encoding\u001b[38;5;241m=\u001b[39m\u001b[38;5;124m'\u001b[39m\u001b[38;5;124mISO-8859-1\u001b[39m\u001b[38;5;124m'\u001b[39m) \u001b[38;5;28;01mas\u001b[39;00m movies_file:\n\u001b[1;32m     51\u001b[0m     \u001b[38;5;28;01mfor\u001b[39;00m line \u001b[38;5;129;01min\u001b[39;00m movies_file:\n\u001b[1;32m     52\u001b[0m     \u001b[38;5;66;03m# Row format: <movie id>|<movie title>|<release date>|\\\u001b[39;00m\n\u001b[1;32m     53\u001b[0m     \u001b[38;5;66;03m# <video release date>|<IMDb URL>|<19 fields for each genre>|.\u001b[39;00m\n\u001b[0;32m---> 54\u001b[0m         (\n\u001b[1;32m     55\u001b[0m             movie_id,\n\u001b[1;32m     56\u001b[0m             movie_title,\n\u001b[1;32m     57\u001b[0m             release_date_str,\n\u001b[1;32m     58\u001b[0m             _,\n\u001b[1;32m     59\u001b[0m             _,\n\u001b[1;32m     60\u001b[0m             \u001b[38;5;241m*\u001b[39mgenre_bools,\n\u001b[1;32m     61\u001b[0m         ) \u001b[38;5;241m=\u001b[39m line\u001b[38;5;241m.\u001b[39mstrip()\u001b[38;5;241m.\u001b[39msplit(\u001b[38;5;124m'\u001b[39m\u001b[38;5;124m|\u001b[39m\u001b[38;5;124m'\u001b[39m)\n\u001b[1;32m     62\u001b[0m         genre_list \u001b[38;5;241m=\u001b[39m []\n\u001b[1;32m     63\u001b[0m         \u001b[38;5;28;01mfor\u001b[39;00m index, genre_indicator \u001b[38;5;129;01min\u001b[39;00m \u001b[38;5;28menumerate\u001b[39m(genre_bools):\n",
      "\u001b[0;31mValueError\u001b[0m: not enough values to unpack (expected at least 5, got 3)"
     ]
    }
   ],
   "source": [
    "movie_dict, rating_col_dict, user_dict = read_data_100k(LOCAL_MV_PATH)"
   ]
  },
  {
   "cell_type": "markdown",
   "id": "36969e4b-8f3a-4bac-9121-f1f954fcd6b8",
   "metadata": {},
   "source": [
    "# Statistical plots of ratings data:"
   ]
  },
  {
   "cell_type": "markdown",
   "id": "d5f463dc-fd56-4944-bfbb-a9c686cbedd6",
   "metadata": {},
   "source": [
    "## Distribution of Rating Scores\n",
    "\n",
    "Below is the plot of distribution of rating scores. Each bar between i and j represent the number of ratings with score i.\n",
    "\n",
    "The plot shows that the distribution is left skewed. There are multiple potential reason for this\n",
    "\n",
    "*   Users who would watch and rate a movie are likely interested in the movie already and are likely to give high scores (selection bias).\n",
    "*   Users do not tend to give low scores (1-2) unless they are really disappointed.\n",
    "\n",
    "Such skewness might make a model likely to predict high rating scores. However, when recommending a movie to a user who did not choose the movie him/herself, the probability distribution of the user's rating of the movie can be different from that of the users who voluntarily watched and rated the movie. Therefore the model probably will need adjusting for such bias."
   ]
  },
  {
   "cell_type": "markdown",
   "id": "19df9c71-b542-4939-a73e-30148372c3a4",
   "metadata": {},
   "source": [
    "## Plot of the Distribution of Rating Scores"
   ]
  },
  {
   "cell_type": "code",
   "execution_count": null,
   "id": "d5918ded-2796-4e72-9e36-2f925017edff",
   "metadata": {},
   "outputs": [],
   "source": [
    "ratings_bins = [1 * i - 0.5 for i in range(1, 7)]\n",
    "\n",
    "gen_histogram(\n",
    "    [rating - 0.5 for rating in rating_col_dict['rating_list']],\n",
    "    title='Distribution of Rating Scores',\n",
    "    x_label='Rating Score',\n",
    "    y_label='Count',\n",
    "    bins=ratings_bins,\n",
    ")"
   ]
  },
  {
   "cell_type": "markdown",
   "id": "fe133b92-959c-4c6f-be96-8acb31b94351",
   "metadata": {},
   "source": [
    "## Number of Ratings over Time\n",
    "\n",
    "> Below is the plot of number of ratings over time. The dates are formatted as `yy:mm:dd` The plot shows a high spike just around 97.11.22. The cause of the spike is not immediately clear. However, such imbalance might cause a model to learn more of the data distribution around 97.11.22 and overlook the data distribution at other times."
   ]
  },
  {
   "cell_type": "markdown",
   "id": "3e46f8bd-3359-4bee-a4ce-64a6e3d5dc09",
   "metadata": {},
   "source": [
    "### Plot of the Number of Ratings over Time"
   ]
  },
  {
   "cell_type": "code",
   "execution_count": null,
   "id": "14039f58-5f84-4f72-a5a3-3bcf6b859db1",
   "metadata": {},
   "outputs": [],
   "source": [
    "plt.figure(dpi=120)\n",
    "plt.hist([dates.date2num(v) for v in rating_col_dict['timestamp_list']], bins=20)\n",
    "plt.axes().xaxis.set_major_formatter(dates.DateFormatter('%y.%m.%d'))\n",
    "plt.title('Number of Ratings over Time')"
   ]
  },
  {
   "cell_type": "markdown",
   "id": "7ecc11bb-237c-4ba3-8921-afecc8f94e2a",
   "metadata": {},
   "source": [
    "## Distribution of Rating Frequency of Each User\n",
    "\n",
    "Below is a plot of the rating frequency of each user. Note that the dataset only contains users who have rated at least 20 movies. The plot shows a heavy tailed distribution with most users rating only around 30 to 40 movies, but there are also outlier users who have rated more than 400 movies.\n",
    "\n",
    "This is a natural distribution as most users would not spend too much time on rating movies, but there exist some movie fans who might be especially willing to rate many movies.\n",
    "\n",
    "As shown in the cell, 0.16 of all users contributed 0.44 of all ratings. As a result, a model may be heavily influenced by the small group of users who contributed many ratings. The information from users who rated fewer movies might be covered up."
   ]
  },
  {
   "cell_type": "code",
   "execution_count": null,
   "id": "25979209-0d42-4228-ab98-a5b601f66c41",
   "metadata": {},
   "outputs": [],
   "source": [
    "# Plot of the Distribution of Rating Frequency of Each User\n",
    "\n",
    "user_count_list = gen_count_distribution_graph(\n",
    "    rating_col_dict['user_id_list'],\n",
    "    title='Distribution of Number of Ratings of Each User',\n",
    "    x_label='Number of Ratings',\n",
    "    y_label='Number of Users',\n",
    "    bins=20,\n",
    ")\n",
    "\n",
    "total_sum = sum(user_count_list)\n",
    "heavy_user_count_list = [count for count in user_count_list if count > 200]\n",
    "heavy_user_count_sum = sum(heavy_user_count_list)\n",
    "print('%.2f of all users rated over 200 movies' % (float(len(heavy_user_count_list)) / len(user_count_list)))\n",
    "print('These users contributed %.2f of the total ratings' % (float(heavy_user_count_sum) / total_sum))"
   ]
  },
  {
   "cell_type": "markdown",
   "id": "81c669b6-883e-48f7-aa5d-595bfb2755d5",
   "metadata": {},
   "source": [
    "## Distribution of Rating Frequency of Each Movie\n",
    "\n",
    "Below is the plot of the distribution of rating frequency of each movie. Similar to the previous plot, it also shows a heavy tailed distribution with most movies having fewer than 50 ratings. However, some movies have over 300 ratings.\n",
    "\n",
    "This is natural distribution as most movies would not receive too many ratings except a few blockbuster movies.\n",
    "\n",
    "As shown in the cell, 0.12 of all movies had 0.48 of all ratings. If not handled properly, a model would be more likely to recommend a movie with many ratings rather than movies with fewer ratings. As a result, the recommendation might be dominated by popular movies and the less popular ones might be ignored."
   ]
  },
  {
   "cell_type": "markdown",
   "id": "b643ba3c-4706-46cc-9fb0-2f1eb46e0445",
   "metadata": {},
   "source": [
    "### Plot of the Distribution of Rating Frequency of Each Movie"
   ]
  },
  {
   "cell_type": "code",
   "execution_count": null,
   "id": "38417582-0757-42ae-9902-6b6474048ffa",
   "metadata": {},
   "outputs": [],
   "source": [
    "# Plot of the Distribution of Rating Frequency of Each Movie\n",
    "\n",
    "movie_count_list = gen_count_distribution_graph(\n",
    "    rating_col_dict['movie_id_list'],\n",
    "    title='Distribution of Number of Ratings of Each Movie',\n",
    "    x_label='Number of Ratings',\n",
    "    y_label='Number of Movies',\n",
    ")\n",
    "\n",
    "total_sum = sum(movie_count_list)\n",
    "heavy_movie_count_list = [count for count in movie_count_list if count > 150]\n",
    "heavy_movie_count_sum = sum(heavy_movie_count_list)\n",
    "print('%.2f of all movies had over 150 ratings' % (float(len(heavy_movie_count_list)) / len(movie_count_list)))\n",
    "print('These movies had %.2f of the total ratings' % (float(heavy_movie_count_sum) / total_sum))"
   ]
  },
  {
   "cell_type": "markdown",
   "id": "00a97d87-3168-417a-bcfe-a12793fd15ff",
   "metadata": {},
   "source": [
    "# Statistical plots of movies data:"
   ]
  },
  {
   "cell_type": "markdown",
   "id": "fe61814a-6b1f-48f6-b234-3571328411f2",
   "metadata": {},
   "source": [
    "## Convert `movie_dict` to Dictionary of Columns"
   ]
  },
  {
   "cell_type": "code",
   "execution_count": null,
   "id": "aa86dd87-5db9-48a2-895b-4ef4287a067b",
   "metadata": {},
   "outputs": [],
   "source": [
    "# Convert `movie_dict` to Dictionary of Columns\n",
    "\n",
    "movie_col_dict = dict_to_list(\n",
    "    movie_dict,\n",
    "    ['genres', 'release_date'],\n",
    "    none_check=['release_date'],\n",
    ")"
   ]
  },
  {
   "cell_type": "markdown",
   "id": "86bc8d61-945d-4a6b-91a0-df5aee27d302",
   "metadata": {},
   "source": [
    "## Distribution of Movie Genre\n",
    "\n",
    "> Below is a plot of the genre distribution of all movies. As shown, drama and comedy genres contain the most movies. The number of movies each of these two genres contain is over twice the number of movies any other genre contains. When using the genre information, a model is likely to give higher score to movies of more popular genres."
   ]
  },
  {
   "cell_type": "markdown",
   "id": "47ffda14-5a7c-4425-94ca-6680e32374af",
   "metadata": {},
   "source": [
    "### Plot of the Genre Distribution"
   ]
  },
  {
   "cell_type": "code",
   "execution_count": null,
   "id": "5e879658-58e3-4d67-b9e4-5211bbc8aef6",
   "metadata": {},
   "outputs": [],
   "source": [
    "# Plot of the Genre Distribution\n",
    "\n",
    "all_genre_list = []\n",
    "\n",
    "for genre_list in movie_col_dict['genres_list']:\n",
    "    all_genre_list.extend(genre_list)\n",
    "\n",
    "gen_bar_graph(\n",
    "    all_genre_list,\n",
    "    title='Genre Distribution',\n",
    "    x_label='Genres',\n",
    "    y_label='Count',\n",
    "    figsize=(22, 6),\n",
    ")"
   ]
  },
  {
   "cell_type": "markdown",
   "id": "5cfd0ff2-05bd-4f16-b0eb-d2273d875d96",
   "metadata": {},
   "source": [
    "## Number of Movies by Release Date\n",
    "\n",
    "Below is a plot of the distribution of movie release date. As shown in the plot, most movies in the dataset are released near the time this dataset was generated. This might be due to the fact that people are more likely to watch and rate up-to-date movies than old movies. New movies likely have better quality because of advancement in film making techniques and are more accessible than old movies.\n",
    "\n",
    "A model using the release date information is likely to recommend mostly new movies. However, if a user shows special interest in older movies, it might be good for the model to recommend old movies over new movies."
   ]
  },
  {
   "cell_type": "markdown",
   "id": "0c64be6c-82aa-4ec8-9262-5b3b10beccf7",
   "metadata": {},
   "source": [
    "### Plot of the Release Date Distribution"
   ]
  },
  {
   "cell_type": "code",
   "execution_count": null,
   "id": "b8230e41-7211-4113-8952-38d1b23aaa86",
   "metadata": {},
   "outputs": [],
   "source": [
    "# Plot of the Release Date Distribution\n",
    "\n",
    "plt.figure(dpi=120)\n",
    "plt.hist(\n",
    "    [dates.date2num(v) for v in movie_col_dict['release_date_list']],\n",
    "    bins=20,\n",
    ")\n",
    "plt.axes().xaxis.set_major_formatter(dates.DateFormatter('%y.%m.%d'))\n",
    "plt.title('Number of Movies by Release Date')\n",
    "plt.xlabel('Release Date')\n",
    "plt.ylabel('Number of Movies')"
   ]
  },
  {
   "cell_type": "markdown",
   "id": "570cbc59-4533-4330-b04b-97de87c77f3b",
   "metadata": {},
   "source": [
    "# Statistical plots of users data:"
   ]
  },
  {
   "cell_type": "markdown",
   "id": "aa3cc687-0d15-461a-8fe8-1866620208bc",
   "metadata": {},
   "source": [
    "## Convert `user_dict` to Dictionary of Columns"
   ]
  },
  {
   "cell_type": "code",
   "execution_count": null,
   "id": "058064c0-5ed7-4565-b2b9-f58256857be3",
   "metadata": {},
   "outputs": [],
   "source": [
    "# Convert `user_dict` to Dictionary of Columns\n",
    "\n",
    "user_col_dict = dict_to_list(\n",
    "    user_dict,\n",
    "    ['gender', 'age', 'occupation', 'zip_code'],\n",
    ")"
   ]
  },
  {
   "cell_type": "markdown",
   "id": "ea779950-4e9c-4721-a036-52cc95e296d5",
   "metadata": {},
   "source": [
    "### Plot of Gender Distribution\n",
    "\n",
    "> Below is a plot of the user gender distribution. The dataset contains much more male users than female users. As a result, the model might perform worse on the female population than on the male population. Such imbalance can cause performance and gender bias issues."
   ]
  },
  {
   "cell_type": "code",
   "execution_count": null,
   "id": "22665262-c88c-40f6-bbc9-1687d591358a",
   "metadata": {},
   "outputs": [],
   "source": [
    "gen_bar_graph(\n",
    "    user_col_dict['gender_list'],\n",
    "    title='Gender Distribution',\n",
    "    x_label='Gender',\n",
    "    y_label='Count',\n",
    ")"
   ]
  },
  {
   "cell_type": "markdown",
   "id": "49c0317f-48b8-4140-8c87-adcd2a5fbc6d",
   "metadata": {},
   "source": [
    "### Plot of Age Distribution\n",
    "\n",
    "Below is a plot of user age distribution. Most users are in the 20-30 age range. Age ranges of below 15 and above 52 have the least number of users. People who are too young are unlikely to have access to technology, and people who are old might have difficulty using technology.\n",
    "\n",
    "Due to such imbalance, a model is likely to have varying performances on different age groups. It is likely to perform better on users of age between 20-30 and worse on users of age below 15 or above 52. Furthermore, the movie taste of different age groups can be different. It might be bad for a model to recommend a movie targeting users between 20 and 30 to a user who is over 60. More importantly, a model should not recommend movies for adults with explicit content to younger users."
   ]
  },
  {
   "cell_type": "code",
   "execution_count": null,
   "id": "71c2b587-c688-4996-87b2-0bc162619873",
   "metadata": {},
   "outputs": [],
   "source": [
    "gen_histogram(\n",
    "    user_col_dict['age_list'],\n",
    "    title='Age Distribution',\n",
    "    x_label='Age',\n",
    "    y_label='Number of Users'\n",
    ")"
   ]
  },
  {
   "cell_type": "markdown",
   "id": "d052b5c0-6238-4abb-aec8-36b2613f31f8",
   "metadata": {},
   "source": [
    "### Plot of Occupation Distribution\n",
    "\n",
    "Below is a plot of user occupation distribution. The occupation with the most users is student, which almost twice the number of users of any other occupation. Such distribution also explains the large number of users between 20-30.\n",
    "\n",
    "When using occupation data, imbalance again poses a threat to the model. The model is likely to perform better on users of frequently occurring occupation."
   ]
  },
  {
   "cell_type": "code",
   "execution_count": null,
   "id": "df12296f-9c48-4ef8-ad21-60203c646f5d",
   "metadata": {},
   "outputs": [],
   "source": [
    "gen_bar_graph(\n",
    "    user_col_dict['occupation_list'],\n",
    "    title='User Occupation Distribution',\n",
    "    x_label='Occupation',\n",
    "    y_label='Number of Users',\n",
    "    figsize=(26, 6),\n",
    "    width=0.6\n",
    ")"
   ]
  },
  {
   "cell_type": "markdown",
   "id": "23a4ffb4-9dc5-480b-9c51-bbe14d94cec6",
   "metadata": {},
   "source": [
    "### Plot of Zip Code Frequency Distribution\n",
    "\n",
    "> Below is a plot of user zip code distribution. It resembles the other frequency distribution plots but has a lighter tail. Most zip codes appear only once in the dataset, but there are also zip codes appearing more frequently (over 4 times). However, these zip codes are rare and they do not appear significantly more frequently in the user data. Hence, the outlier zip codes would not have as much influence as the outlier users or movies in previous plots."
   ]
  },
  {
   "cell_type": "code",
   "execution_count": null,
   "id": "1f9cb4dc-37f4-4287-a6b0-2d90d9cb63bf",
   "metadata": {},
   "outputs": [],
   "source": [
    "count_list = gen_count_distribution_graph(\n",
    "    user_col_dict['zip_code_list'],\n",
    "    title='Zip Code Count Distribution',\n",
    "    x_label='Zip Code Count',\n",
    "    y_label='Frequency',\n",
    ")"
   ]
  },
  {
   "cell_type": "markdown",
   "id": "9349897b-c228-4b67-ba48-dc83cdf3dbf8",
   "metadata": {},
   "source": [
    "# Statistical plots of joined data"
   ]
  },
  {
   "cell_type": "markdown",
   "id": "0b2d2919-8568-413b-bffe-be993b37ff93",
   "metadata": {},
   "source": [
    "### Denormalize Data"
   ]
  },
  {
   "cell_type": "code",
   "execution_count": null,
   "id": "cc5a2727-b103-4411-a60e-d75804bd8717",
   "metadata": {},
   "outputs": [],
   "source": [
    "joined_data = get_denormalized_col_dict(rating_col_dict, movie_dict, user_dict)"
   ]
  },
  {
   "cell_type": "markdown",
   "id": "497d9b77-25c7-45b7-b902-6a4f9b3ea147",
   "metadata": {},
   "source": [
    "## Number of ratings for each genre\n",
    "\n",
    "Below is a plot of the number of ratings for each genre. The distribution of ratings over genres is a bit more even than the distribution of movies over genres. The rankings of the genres are similar, but there are still differences. For instance, there are more movies under the children genre than under the Sci-Fi genre, but the movies under the Sci-Fi genre have more ratings than those under the children genre. The reason might be that the audience of children's movies are less likely to make a rating than the audience of Sci-Fi movies."
   ]
  },
  {
   "cell_type": "code",
   "execution_count": null,
   "id": "c37e4872-9c41-4233-8a86-37c47890b698",
   "metadata": {},
   "outputs": [],
   "source": [
    "all_genre_list = []\n",
    "for genre_list in joined_data['movie_genres_list']:\n",
    "    all_genre_list.extend(genre_list)\n",
    "\n",
    "gen_bar_graph(\n",
    "    all_genre_list,\n",
    "    title='Number of Ratings of Each Movie Genre',\n",
    "    x_label='Genres',\n",
    "    y_label='Number of Ratings',\n",
    "    figsize=(22, 6),\n",
    ")"
   ]
  },
  {
   "cell_type": "markdown",
   "id": "8f741697-0a66-44bb-87a4-86e4a9d6d5cc",
   "metadata": {},
   "source": [
    "## Rating Score Distribution of Different Genres\n",
    "\n",
    "Below is a plot of the rating score distribution of each genre. As shown in the plot, the rating score distributions are very similar across genres. All mean rating scores (marked by green triangles) are between 3 and 4. However, film-noir, drama, war, and documentary are four genres with higher rating scores. Hence it is possible that a ranking model might give movies of these genres high scores even when a user might not actually like movies of these genres."
   ]
  },
  {
   "cell_type": "code",
   "execution_count": null,
   "id": "167177ab-7c0d-4640-a844-314c2b68e802",
   "metadata": {},
   "outputs": [],
   "source": [
    "expanded_genre_list = []\n",
    "expanded_rating_list = []\n",
    "for i, genre_seq in enumerate(joined_data['movie_genres_list']):\n",
    "    for genre in genre_seq:\n",
    "        expanded_genre_list.append(genre)\n",
    "        expanded_rating_list.append(joined_data['rating_list'][i])\n",
    "\n",
    "categorical_boxplot(\n",
    "    expanded_rating_list,\n",
    "    expanded_genre_list,\n",
    "    'rating',\n",
    "    'genre',\n",
    "    title='Distribution of Rating Score over Different Genres',\n",
    "    figsize=(24, 5),\n",
    ")"
   ]
  },
  {
   "cell_type": "markdown",
   "id": "ef695653-8b4b-48ad-a36a-104a61ff9822",
   "metadata": {},
   "source": [
    "## Rating Score over Hour of a Day\n",
    "\n",
    "Below is a plot of the rating score distribution over different hours of a day. 0 represents the first hour of the day whereas 23 represents the last hour of the day. The score distributions are mostly the same, except for between 9 am and 4 pm. The score distribution over the hours in this time interval fluctuates. Below the plot of distributions of rating scores, we also plotted a distribution of the number of ratings. It is clear from the plot that the fluctuations are likely to be caused by the small number of ratings during those hours rather than a real pattern in user behavior."
   ]
  },
  {
   "cell_type": "code",
   "execution_count": null,
   "id": "67d3001d-83ff-4116-ab5e-9f39215f2dc6",
   "metadata": {},
   "outputs": [],
   "source": [
    "hour_in_day_list = [\n",
    "    (int(timestamp.timestamp()) % 86400) // 3600\n",
    "    for timestamp in joined_data['timestamp_list']\n",
    "]\n",
    "\n",
    "hour_in_day_ratings = [[] for _ in range(24)]\n",
    "\n",
    "for hour_in_day, rating in zip(hour_in_day_list, joined_data['rating_list']):\n",
    "     hour_in_day_ratings[hour_in_day].append(rating)\n",
    "\n",
    "plt.figure(figsize=(20, 5))\n",
    "sns.boxplot(data=hour_in_day_ratings, showmeans=True)\n",
    "plt.title('Distribution of Rating Scores over Hours in a Day')\n",
    "plt.xlabel('Hour in a Day')\n",
    "plt.ylabel('Rating Score')\n",
    "\n",
    "hour_in_day_rating_count = [[len(hour_ratings)] for hour_ratings in hour_in_day_ratings]\n",
    "\n",
    "plt.figure(figsize=(20, 5))\n",
    "sns.barplot(data=hour_in_day_rating_count)\n",
    "plt.title('Number of Ratings over Hours in a Day')\n",
    "plt.xlabel('Hour in a Day')\n",
    "plt.ylabel('Number of Ratings')"
   ]
  },
  {
   "cell_type": "markdown",
   "id": "c43471b0-29a1-4e35-96ec-b48dc414b592",
   "metadata": {},
   "source": [
    "## Occupation and Timestamp Interaction\n",
    "\n",
    "We explore the interaction between occupation and timestamp features below. Two features interact when the effect of one feature on the user's choices is dependent on another feature. In the case of occupation and timestamp features, we investigate whether the preferences of users of a specific occupation change over time.\n",
    "\n",
    "To investigate such effect, we first group the ratings by user occupations. Then, for a specified occupation, we plot the user preferences over months with multiple plots. Since there are too many movies and the ratings for each movie might fluctuate a lot, we will show user preferences by their preferences of movie genres. For each month, we plot the rating score distribution over different genres.\n",
    "\n",
    "Since most users are students, we first plot the preferences of students over time."
   ]
  },
  {
   "cell_type": "code",
   "execution_count": null,
   "id": "1ae08fa3-48ef-4ab5-89a6-8e40d3988994",
   "metadata": {},
   "outputs": [],
   "source": [
    "specified_occupation = 'student'\n",
    "\n",
    "specified_occupation_examples = {\n",
    "    'rating_list': [],\n",
    "    'timestamp_list': [],\n",
    "    'genre_list': [],\n",
    "}\n",
    "for i, occupation in enumerate(joined_data['user_occupation_list']):\n",
    "    if occupation == specified_occupation:\n",
    "        specified_occupation_examples['rating_list'].append(joined_data['rating_list'][i])\n",
    "        specified_occupation_examples['timestamp_list'].append(joined_data['timestamp_list'][i])\n",
    "        specified_occupation_examples['genre_list'].append(joined_data['movie_genres_list'][i])\n",
    "\n",
    "rating_by_month = [{'rating_list': [], 'genre_list': []} for _ in range(8)]\n",
    "for i, timestamp in enumerate(specified_occupation_examples['timestamp_list']):\n",
    "    month_index = timestamp.month - 9 + ((timestamp.year - 1997) * 12)\n",
    "    for genre in specified_occupation_examples['genre_list'][i]:\n",
    "        rating_by_month[month_index]['rating_list'].append(specified_occupation_examples['rating_list'][i])\n",
    "        rating_by_month[month_index]['genre_list'].append(genre)\n",
    "\n",
    "for month_index in range(8):\n",
    "    categorical_boxplot(\n",
    "        rating_by_month[month_index]['rating_list'],\n",
    "        rating_by_month[month_index]['genre_list'],\n",
    "        'rating',\n",
    "        'genre',\n",
    "        title='Rating Score Distribution over Genres during Month {:d} for Occupation {:s}'.format(month_index + 1, specified_occupation),\n",
    "        figsize=(20, 3),\n",
    "        order=[\n",
    "            'Unknown', 'Action', 'Adventure', 'Animation', 'Children', 'Comedy',\n",
    "            'Crime', 'Documentary', 'Drama', 'Fantasy', 'Film-Noir', 'Horror',\n",
    "            'Musical', 'Mystery', 'Romance', 'Sci-Fi', 'Thriller', 'War', 'Western',\n",
    "        ],\n",
    "    )"
   ]
  },
  {
   "cell_type": "markdown",
   "id": "ff68769e-b70e-45ca-a703-853579186491",
   "metadata": {},
   "source": [
    "There are some fluctuations in the rating score distribution. One of the genres with large fluctuations is documentary. In the first two months it has an average rating of around 4 and in the 7th month the average rating dropped to almost 3. However, documentary is also one of the least watched genres. Its fluctionations might simply be caused by a small sample size. On the other hand, genres such as drama and comedy have relatively stable average ratings.\n",
    "\n",
    "Since the action of rating a movie shows preference as well, we can also use the number of ratings over genres as a sign of movie preferences. We still investigate the student users. Below are the plots."
   ]
  },
  {
   "cell_type": "code",
   "execution_count": null,
   "id": "8eb8bd49-bbd0-4d31-8406-b0f462276b0b",
   "metadata": {},
   "outputs": [],
   "source": [
    "for month_index in range(8):\n",
    "    gen_bar_graph(\n",
    "        rating_by_month[month_index]['genre_list'],\n",
    "        title='Number of Rated Movies over Genres during Month {:d} for Occupation {:s}'.format(\n",
    "            month_index + 1, specified_occupation\n",
    "        ),\n",
    "        x_label='Genres',\n",
    "        y_label='Count',\n",
    "        figsize=(18, 2),\n",
    "    )"
   ]
  },
  {
   "cell_type": "markdown",
   "id": "fce227f6-5d6f-41af-be38-b7b0d31c999e",
   "metadata": {},
   "source": [
    "# inspect TF-Records"
   ]
  },
  {
   "cell_type": "code",
   "execution_count": null,
   "id": "cec0a7de-dcb1-42ee-96bc-3365ac7d9760",
   "metadata": {},
   "outputs": [],
   "source": [
    "import os\n",
    "import numpy as np\n",
    "import pandas as pd\n",
    "from pprint import pprint\n",
    "import matplotlib.pyplot as plt\n",
    "os.environ['TF_CPP_MIN_LOG_LEVEL'] = '2'\n",
    "\n",
    "import collections\n",
    "import functools\n",
    "import io\n",
    "import os\n",
    "import requests"
   ]
  },
  {
   "cell_type": "code",
   "execution_count": null,
   "id": "345380ff-09e7-438d-9567-8f71e16f1a14",
   "metadata": {},
   "outputs": [],
   "source": [
    "import sys\n",
    "sys.path.append(\"..\")\n",
    "\n",
    "# this repo\n",
    "from src.data import data_utils, data_config"
   ]
  },
  {
   "cell_type": "code",
   "execution_count": null,
   "id": "3409f266-339c-4868-8516-6d21081f8a6b",
   "metadata": {},
   "outputs": [],
   "source": [
    "EXAMPLE_GEN_GCS_PATH = data_config.EXAMPLE_GEN_GCS_PATH\n",
    "GCS_DATA_PATH = f\"{BUCKET_URI}/{EXAMPLE_GEN_GCS_PATH}\"\n",
    "\n",
    "print(f\"GCS_DATA_PATH: {GCS_DATA_PATH}\")\n",
    "\n",
    "!gsutil ls $GCS_DATA_PATH"
   ]
  },
  {
   "cell_type": "markdown",
   "id": "6534fe46-3716-4e64-ad7a-cc95b56f7b99",
   "metadata": {},
   "source": [
    "## get decoded features"
   ]
  },
  {
   "cell_type": "code",
   "execution_count": null,
   "id": "a719e59f-6cb9-441e-b344-545f4b518972",
   "metadata": {},
   "outputs": [],
   "source": [
    "feature_description = {\n",
    "    # target/label item features\n",
    "    'target_movie_id': tf.io.FixedLenFeature(shape=(), dtype=tf.string),\n",
    "    'target_movie_rating': tf.io.FixedLenFeature(shape=(), dtype=tf.float32),\n",
    "    'target_rating_timestamp': tf.io.FixedLenFeature(shape=(), dtype=tf.int64),\n",
    "    'target_movie_genres': tf.io.FixedLenFeature(shape=(data_config.MAX_GENRE_LENGTH), dtype=tf.string),\n",
    "    'target_movie_year': tf.io.FixedLenFeature(shape=(), dtype=tf.int64),\n",
    "    'target_movie_title': tf.io.FixedLenFeature(shape=(), dtype=tf.string),\n",
    "\n",
    "    # user - global context features\n",
    "    'user_id': tf.io.FixedLenFeature(shape=(), dtype=tf.string),\n",
    "    'user_gender': tf.io.FixedLenFeature(shape=(), dtype=tf.string),\n",
    "    'user_age': tf.io.FixedLenFeature(shape=(), dtype=tf.int64),\n",
    "    'user_occupation_text': tf.io.FixedLenFeature(shape=(), dtype=tf.string),\n",
    "    'user_zip_code': tf.io.FixedLenFeature(shape=(), dtype=tf.string),\n",
    "}\n",
    "\n",
    "options = tf.data.Options()\n",
    "options.experimental_distribute.auto_shard_policy = tf.data.experimental.AutoShardPolicy.AUTO"
   ]
  },
  {
   "cell_type": "code",
   "execution_count": null,
   "id": "205284a3-0bcc-413a-b3cc-4ee181623259",
   "metadata": {},
   "outputs": [],
   "source": [
    "SPLIT = \"train\" # \"train\" | \"val\"\n",
    "\n",
    "train_files = []\n",
    "for blob in storage_client.list_blobs(f\"{BUCKET_NAME}\", prefix=f'{EXAMPLE_GEN_GCS_PATH}/{SPLIT}'):\n",
    "    if '.tfrecord' in blob.name:\n",
    "        train_files.append(blob.public_url.replace(\"https://storage.googleapis.com/\", \"gs://\"))\n",
    "        \n",
    "train_files = train_files[:1]\n",
    "# train_files\n",
    "\n",
    "train_dataset = tf.data.TFRecordDataset(train_files)\n",
    "train_dataset = train_dataset.map(data_utils._parse_function)\n",
    "\n",
    "for x in train_dataset.batch(1).take(1):\n",
    "    pprint(x)"
   ]
  },
  {
   "cell_type": "code",
   "execution_count": null,
   "id": "ab28740d-5086-430e-ba46-7d66737d4865",
   "metadata": {},
   "outputs": [],
   "source": [
    "# test_iter = train_dataset.as_numpy_iterator()\n",
    "\n",
    "for element in train_dataset.as_numpy_iterator():\n",
    "    pprint(element)\n",
    "    break"
   ]
  },
  {
   "cell_type": "code",
   "execution_count": null,
   "id": "b0f9c729-ad3f-43b9-9ee7-701a7103f583",
   "metadata": {},
   "outputs": [],
   "source": [
    "df = pd.DataFrame(\n",
    "    train_dataset.as_numpy_iterator(),\n",
    "    columns=[\n",
    "        'target_movie_genres', \n",
    "        'target_movie_id', \n",
    "        'target_movie_rating',\n",
    "        'target_movie_title',\n",
    "        'target_movie_year',\n",
    "        'target_rating_timestamp',\n",
    "        'user_age',\n",
    "        'user_gender',\n",
    "        'user_id',\n",
    "        'user_occupation_text',\n",
    "        'user_zip_code',\n",
    "    ]\n",
    ")\n",
    "print('Shape', df.shape)\n",
    "df.head()"
   ]
  },
  {
   "cell_type": "code",
   "execution_count": null,
   "id": "84f5e45b-f604-4d18-aa2e-fa208c3b4d44",
   "metadata": {},
   "outputs": [],
   "source": [
    "df['target_movie_genres'][0].tolist()[0].decode()\n",
    "\n",
    "#.bytes_list.value[0].decode()"
   ]
  },
  {
   "cell_type": "code",
   "execution_count": null,
   "id": "066a1cb1-0fdd-42b9-8f07-47dc660578cb",
   "metadata": {},
   "outputs": [],
   "source": [
    "print('Num users:', len(set(df.user_id)))\n",
    "print('Num movies:', len(set(df.target_movie_id)))"
   ]
  },
  {
   "cell_type": "markdown",
   "id": "511c1419-8c11-4b30-a87d-5221b2710ec7",
   "metadata": {},
   "source": [
    "### movie ratings"
   ]
  },
  {
   "cell_type": "code",
   "execution_count": null,
   "id": "11dfa160-a33b-4bf6-b424-e1091d7e32e9",
   "metadata": {},
   "outputs": [],
   "source": [
    "ratings = df.target_movie_rating.tolist()\n",
    "\n",
    "plt.hist(ratings, bins=5)\n",
    "plt.xticks([1, 2, 3, 4, 5])\n",
    "plt.ylabel('Count')\n",
    "plt.xlabel('Rating')\n",
    "plt.show()\n",
    "\n",
    "print('Average rating:', np.mean(ratings))\n",
    "print('Median rating:', np.median(ratings))"
   ]
  },
  {
   "cell_type": "markdown",
   "id": "a68c0df4-0316-4b72-bfd0-022071605acb",
   "metadata": {},
   "source": [
    "### movie genres"
   ]
  },
  {
   "cell_type": "code",
   "execution_count": null,
   "id": "84459c8e-8e29-4c3f-80b8-6e5377f76da5",
   "metadata": {},
   "outputs": [],
   "source": [
    "movie_genres_list = df.target_movie_genres.tolist()\n",
    "movie_genres_list[0]"
   ]
  },
  {
   "cell_type": "code",
   "execution_count": null,
   "id": "b30bd2e9-18d3-47bb-a186-2067cc444b5e",
   "metadata": {},
   "outputs": [],
   "source": [
    "# Count the number of times each genre describes a movie.\n",
    "genre_count = collections.defaultdict(int)\n",
    "counter = 0\n",
    "for genres in movie_genres_list:\n",
    "    curr_genres_list = genres.tolist()\n",
    "    for genre in curr_genres_list:\n",
    "        genre = genre.decode()\n",
    "        if genre != \"UNK\":\n",
    "            genre_count[genre] += 1\n",
    "    # if counter == 3:\n",
    "    #     break\n",
    "    # counter += 1    # break\n",
    "\n",
    "genre_name_list, genre_count_list = zip(*genre_count.items())\n",
    "\n",
    "genre_count"
   ]
  },
  {
   "cell_type": "code",
   "execution_count": null,
   "id": "27beba91-af44-4306-8cd2-38754d0b1360",
   "metadata": {},
   "outputs": [],
   "source": [
    "plt.figure(figsize=(11, 11))\n",
    "plt.pie(genre_count_list, labels=genre_name_list, autopct='%1.1f%%')\n",
    "plt.title('MovieLens Movie Genres')\n",
    "plt.show()\n",
    "\n",
    "\n",
    "# fig, ax = plt.subplots()\n",
    "# ax.pie(sizes, labels=labels, autopct='%1.1f%%')"
   ]
  },
  {
   "cell_type": "markdown",
   "id": "30ba5eec-62a8-46ca-b8ec-8d7e5cc6f298",
   "metadata": {},
   "source": [
    "## User genre ratings"
   ]
  },
  {
   "cell_type": "code",
   "execution_count": null,
   "id": "6fce2356-8eed-400a-887c-ea98536d7ada",
   "metadata": {},
   "outputs": [],
   "source": [
    "def print_top_genres_for_user(df, user_id):\n",
    "    \"\"\"\n",
    "    Prints top movie genres for user with ID user_id.\n",
    "    \"\"\"\n",
    "    user_ratings_df = df[df.user_id == user_id]\n",
    "    num_user_records = user_ratings_df.shape[0]\n",
    "    print(f\"\\nUser: {user_id.decode()} has {num_user_records} records\")\n",
    "    \n",
    "    movie_ids = user_ratings_df.target_movie_id\n",
    "    genre_count = collections.Counter()\n",
    "    \n",
    "    for movie_id in movie_ids:\n",
    "        genres_list = df[df.target_movie_id == movie_id].target_movie_genres.tolist()[0].tolist()\n",
    "        for genre in genres_list:\n",
    "            genre = genre.decode()\n",
    "            if genre != \"UNK\":\n",
    "                genre_count[genre] += 1\n",
    "                \n",
    "    # print(f'Genre: freq - % total')\n",
    "    for (genre, freq) in genre_count.most_common(5):\n",
    "        print(f'{genre}: {freq} - {round((freq/num_user_records), 2)} %')"
   ]
  },
  {
   "cell_type": "code",
   "execution_count": null,
   "id": "b5900e99-3862-49eb-8648-1dfa98eb7d2e",
   "metadata": {},
   "outputs": [],
   "source": [
    "# test_user_id = b'5155'\n",
    "# test_user_id.decode()\n",
    "# movie_genres_list[0].tolist()\n",
    "# df.user_id.tolist()\n",
    "\n",
    "user_list = [\n",
    "    b'2173',\n",
    "    b'5155',\n",
    "    b'4464',\n",
    "    b'1180',\n",
    "    b'258',\n",
    "    b'5637',\n",
    "    b'3100',\n",
    "    b'1201',\n",
    "    b'1976',\n",
    "]\n",
    "\n",
    "for user in user_list:\n",
    "    print_top_genres_for_user(df, user_id=user)"
   ]
  },
  {
   "cell_type": "code",
   "execution_count": null,
   "id": "441996d3-be1a-4578-bd8d-8795cc36a024",
   "metadata": {},
   "outputs": [],
   "source": [
    "test_user_ratings_df.shape[0]"
   ]
  },
  {
   "cell_type": "code",
   "execution_count": null,
   "id": "6c18bf30-0102-45f6-a5a6-1fb9ddaa9e42",
   "metadata": {},
   "outputs": [],
   "source": []
  },
  {
   "cell_type": "code",
   "execution_count": null,
   "id": "6263198b-2b73-44d3-b1a6-11690addbeb1",
   "metadata": {},
   "outputs": [],
   "source": []
  }
 ],
 "metadata": {
  "environment": {
   "kernel": "python3",
   "name": "tf2-gpu.2-13.m112",
   "type": "gcloud",
   "uri": "gcr.io/deeplearning-platform-release/tf2-gpu.2-13:m112"
  },
  "kernelspec": {
   "display_name": "Python 3",
   "language": "python",
   "name": "python3"
  },
  "language_info": {
   "codemirror_mode": {
    "name": "ipython",
    "version": 3
   },
   "file_extension": ".py",
   "mimetype": "text/x-python",
   "name": "python",
   "nbconvert_exporter": "python",
   "pygments_lexer": "ipython3",
   "version": "3.10.12"
  }
 },
 "nbformat": 4,
 "nbformat_minor": 5
}
