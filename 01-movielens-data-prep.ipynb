{
 "cells": [
  {
   "cell_type": "markdown",
   "id": "bef58d66-b85e-49ca-baa1-eae9d3af08b4",
   "metadata": {},
   "source": [
    "# Preparing off-policy training data for RL\n",
    "\n",
    "> \"Off-policy\" refers to the situation where for a data record, given its observation, the current policy in training might not choose the same action as the one in said data record"
   ]
  },
  {
   "cell_type": "markdown",
   "id": "0035c271-1aff-48cc-841f-38470a314aaf",
   "metadata": {
    "tags": []
   },
   "source": [
    "## Load env config\n",
    "\n",
    "* use the prefix from `00-env-setup`"
   ]
  },
  {
   "cell_type": "code",
   "execution_count": 1,
   "id": "c5fe16f7-704a-4d31-96e9-8cd2c1cbc87b",
   "metadata": {},
   "outputs": [
    {
     "name": "stdout",
     "output_type": "stream",
     "text": [
      "PREFIX: rec-bandits-v2\n"
     ]
    }
   ],
   "source": [
    "VERSION        = \"v2\"                       # TODO\n",
    "PREFIX         = f'rec-bandits-{VERSION}'   # TODO\n",
    "\n",
    "print(f\"PREFIX: {PREFIX}\")"
   ]
  },
  {
   "cell_type": "markdown",
   "id": "a0d04e4d-afd5-45f4-a5f5-db4126b3f514",
   "metadata": {},
   "source": [
    "**run the next cell to populate env vars**"
   ]
  },
  {
   "cell_type": "code",
   "execution_count": 2,
   "id": "67fb5c09-bdf4-4a7e-abb9-aae601788a01",
   "metadata": {},
   "outputs": [
    {
     "name": "stdout",
     "output_type": "stream",
     "text": [
      "\n",
      "PROJECT_ID               = \"hybrid-vertex\"\n",
      "PROJECT_NUM              = \"934903580331\"\n",
      "LOCATION                 = \"us-central1\"\n",
      "\n",
      "REGION                   = \"us-central1\"\n",
      "BQ_LOCATION              = \"US\"\n",
      "VPC_NETWORK_NAME         = \"ucaip-haystack-vpc-network\"\n",
      "\n",
      "VERTEX_SA                = \"934903580331-compute@developer.gserviceaccount.com\"\n",
      "\n",
      "PREFIX                   = \"rec-bandits-v2\"\n",
      "VERSION                  = \"v2\"\n",
      "\n",
      "BUCKET_NAME              = \"rec-bandits-v2-hybrid-vertex-bucket\"\n",
      "BUCKET_URI               = \"gs://rec-bandits-v2-hybrid-vertex-bucket\"\n",
      "DATA_GCS_PREFIX          = \"data\"\n",
      "DATA_PATH                = \"gs://rec-bandits-v2-hybrid-vertex-bucket/data\"\n",
      "VOCAB_SUBDIR             = \"vocabs\"\n",
      "VOCAB_FILENAME           = \"vocab_dict.pkl\"\n",
      "\n",
      "VPC_NETWORK_FULL         = \"projects/934903580331/global/networks/ucaip-haystack-vpc-network\"\n",
      "\n",
      "BIGQUERY_DATASET_ID      = \"hybrid_vertex.movielens_ds_rec_bandits_v2\"\n",
      "BIGQUERY_TABLE_ID        = \"hybrid_vertex.movielens_ds_rec_bandits_v2.training_dataset\"\n",
      "\n",
      "REPO_DOCKER_PATH_PREFIX  = \"src\"\n",
      "RL_SUB_DIR               = \"per_arm_rl\"\n",
      "\n",
      "REPOSITORY               = \"rl-movielens-rec-bandits-v2\"\n",
      "IMAGE_NAME               = \"train-perarm-feats-v2\"\n",
      "DOCKERNAME               = \"Dockerfile_perarm_feats\"\n",
      "\n",
      "IMAGE_URI                = \"gcr.io/hybrid-vertex/train-perarm-feats-v2\"\n",
      "\n",
      "REMOTE_IMAGE_NAME        = \"us-central1-docker.pkg.dev/hybrid-vertex/rl-movielens-rec-bandits-v2/train-perarm-feats-v2\"\n",
      "\n"
     ]
    }
   ],
   "source": [
    "# staging GCS\n",
    "GCP_PROJECTS             = !gcloud config get-value project\n",
    "PROJECT_ID               = GCP_PROJECTS[0]\n",
    "\n",
    "# GCS bucket and paths\n",
    "BUCKET_NAME              = f'{PREFIX}-{PROJECT_ID}-bucket'\n",
    "BUCKET_URI               = f'gs://{BUCKET_NAME}'\n",
    "\n",
    "config = !gsutil cat {BUCKET_URI}/config/notebook_env.py\n",
    "print(config.n)\n",
    "exec(config.n)"
   ]
  },
  {
   "cell_type": "code",
   "execution_count": 3,
   "id": "e10356aa-db4d-48e9-974f-caee57a3a29c",
   "metadata": {},
   "outputs": [
    {
     "name": "stdout",
     "output_type": "stream",
     "text": [
      "gs://rec-bandits-v2-hybrid-vertex-bucket/acc-paf-v3/\n",
      "gs://rec-bandits-v2-hybrid-vertex-bucket/baseline-perarm-local-v1/\n",
      "gs://rec-bandits-v2-hybrid-vertex-bucket/config/\n",
      "gs://rec-bandits-v2-hybrid-vertex-bucket/data/\n",
      "gs://rec-bandits-v2-hybrid-vertex-bucket/env-ranker-rec-bandits-v2/\n",
      "gs://rec-bandits-v2-hybrid-vertex-bucket/local-ranker-rec-bandits-v2/\n",
      "gs://rec-bandits-v2-hybrid-vertex-bucket/mab-local-classy-v3/\n",
      "gs://rec-bandits-v2-hybrid-vertex-bucket/v2-acc-cuda-alloc/\n",
      "gs://rec-bandits-v2-hybrid-vertex-bucket/v2-acc-input-data-v1/\n",
      "gs://rec-bandits-v2-hybrid-vertex-bucket/v2-acc-local-one-device/\n",
      "gs://rec-bandits-v2-hybrid-vertex-bucket/v2-acc-local-oned-thdc-4/\n",
      "gs://rec-bandits-v2-hybrid-vertex-bucket/v2-acc-local-v1/\n",
      "gs://rec-bandits-v2-hybrid-vertex-bucket/v2-acc-no-summaries/\n",
      "gs://rec-bandits-v2-hybrid-vertex-bucket/v2-local-2a-v1/\n",
      "gs://rec-bandits-v2-hybrid-vertex-bucket/v2-scale-mod-v1/\n",
      "gs://rec-bandits-v2-hybrid-vertex-bucket/v2-scale-t4-docker/\n",
      "gs://rec-bandits-v2-hybrid-vertex-bucket/v2-scale-t4-v1/\n",
      "gs://rec-bandits-v2-hybrid-vertex-bucket/v2-scale-tf214-v1/\n",
      "gs://rec-bandits-v2-hybrid-vertex-bucket/v2-scale-tf214-v2/\n",
      "gs://rec-bandits-v2-hybrid-vertex-bucket/v3-acc-input-data-v1/\n",
      "gs://rec-bandits-v2-hybrid-vertex-bucket/v3-scale-t4-v1/\n",
      "gs://rec-bandits-v2-hybrid-vertex-bucket/vocabs/\n"
     ]
    }
   ],
   "source": [
    "! gsutil ls $BUCKET_URI"
   ]
  },
  {
   "cell_type": "markdown",
   "id": "20ff6716-afc3-4456-8784-f8f1d4796671",
   "metadata": {},
   "source": [
    "## imports"
   ]
  },
  {
   "cell_type": "code",
   "execution_count": 4,
   "id": "86c8c72b-6472-47b5-836d-c924c75859a2",
   "metadata": {},
   "outputs": [],
   "source": [
    "import os\n",
    "os.environ['TF_CPP_MIN_LOG_LEVEL'] = '2'"
   ]
  },
  {
   "cell_type": "code",
   "execution_count": 5,
   "id": "5be08889-6644-46ac-bd9b-1ce6c2d533d0",
   "metadata": {},
   "outputs": [],
   "source": [
    "import numpy as np\n",
    "import sys\n",
    "import time\n",
    "from pprint import pprint\n",
    "from IPython import display\n",
    "import matplotlib.pyplot as plt\n",
    "\n",
    "import logging\n",
    "logging.disable(logging.WARNING)\n",
    "\n",
    "import tensorflow as tf\n",
    "import tensorflow_datasets as tfds\n",
    "# import tensorflow_recommenders as tfrs\n",
    "\n",
    "# GPU\n",
    "from numba import cuda\n",
    "import gc\n",
    "\n",
    "# google cloud\n",
    "from google.cloud import aiplatform, storage\n",
    "\n",
    "from src.per_arm_rl import data_utils as data_utils\n",
    "from src.per_arm_rl import data_config # as data_config"
   ]
  },
  {
   "cell_type": "code",
   "execution_count": 6,
   "id": "851a6ded-cf88-47b6-a31a-b0cfe28b6951",
   "metadata": {},
   "outputs": [
    {
     "data": {
      "text/plain": [
       "[PhysicalDevice(name='/physical_device:GPU:0', device_type='GPU')]"
      ]
     },
     "execution_count": 6,
     "metadata": {},
     "output_type": "execute_result"
    }
   ],
   "source": [
    "gpus = tf.config.experimental.list_physical_devices('GPU')\n",
    "for gpu in gpus:\n",
    "    tf.config.experimental.set_memory_growth(gpu, True)\n",
    "    \n",
    "gpus"
   ]
  },
  {
   "cell_type": "code",
   "execution_count": 8,
   "id": "61009c45-dbf3-494c-a67f-72d2b9aa9c59",
   "metadata": {},
   "outputs": [
    {
     "data": {
      "text/plain": [
       "14"
      ]
     },
     "execution_count": 8,
     "metadata": {},
     "output_type": "execute_result"
    }
   ],
   "source": [
    "device = cuda.get_current_device()\n",
    "device.reset()\n",
    "gc.collect()"
   ]
  },
  {
   "cell_type": "markdown",
   "id": "17326c68-5251-486d-9558-57f42b932ca7",
   "metadata": {},
   "source": [
    "### Initialize GCP clients"
   ]
  },
  {
   "cell_type": "code",
   "execution_count": 9,
   "id": "60ac9153-79b0-473f-98bf-a59237463ae6",
   "metadata": {},
   "outputs": [],
   "source": [
    "# cloud storage client\n",
    "storage_client = storage.Client(project=PROJECT_ID)\n",
    "\n",
    "# Vertex client\n",
    "aiplatform.init(project=PROJECT_ID, location=LOCATION)"
   ]
  },
  {
   "cell_type": "markdown",
   "id": "cad05d51-44be-4e80-a948-4969476ea0bc",
   "metadata": {
    "tags": []
   },
   "source": [
    "### Create `data_utils.py`\n",
    "\n",
    "> this will be used to support data processing throughout the development workflow"
   ]
  },
  {
   "cell_type": "markdown",
   "id": "b17762dd-50c3-48a1-b061-ed7575373754",
   "metadata": {},
   "source": [
    "## Prepare Movielens dataset"
   ]
  },
  {
   "cell_type": "markdown",
   "id": "37fd55a7-c3a5-4a44-981f-9ed3d22da39b",
   "metadata": {},
   "source": [
    "### load data from Tensorflow Datasets\n",
    "\n",
    "* see [TFDS documentation](https://www.tensorflow.org/datasets/catalog/movielens#movielens100k-ratings) for more details on this dataset, feature descriptions, and other versions"
   ]
  },
  {
   "cell_type": "code",
   "execution_count": 10,
   "id": "b870c306-0bb5-454d-82d4-a1a086480e30",
   "metadata": {},
   "outputs": [
    {
     "name": "stdout",
     "output_type": "stream",
     "text": [
      "{'bucketized_user_age': <tf.Tensor: shape=(1,), dtype=float32, numpy=array([45.], dtype=float32)>,\n",
      " 'movie_genres': <tf.Tensor: shape=(1, 1), dtype=int64, numpy=array([[7]])>,\n",
      " 'movie_id': <tf.Tensor: shape=(1,), dtype=string, numpy=array([b'357'], dtype=object)>,\n",
      " 'movie_title': <tf.Tensor: shape=(1,), dtype=string, numpy=array([b\"One Flew Over the Cuckoo's Nest (1975)\"], dtype=object)>,\n",
      " 'raw_user_age': <tf.Tensor: shape=(1,), dtype=float32, numpy=array([46.], dtype=float32)>,\n",
      " 'timestamp': <tf.Tensor: shape=(1,), dtype=int64, numpy=array([879024327])>,\n",
      " 'user_gender': <tf.Tensor: shape=(1,), dtype=bool, numpy=array([ True])>,\n",
      " 'user_id': <tf.Tensor: shape=(1,), dtype=string, numpy=array([b'138'], dtype=object)>,\n",
      " 'user_occupation_label': <tf.Tensor: shape=(1,), dtype=int64, numpy=array([4])>,\n",
      " 'user_occupation_text': <tf.Tensor: shape=(1,), dtype=string, numpy=array([b'doctor'], dtype=object)>,\n",
      " 'user_rating': <tf.Tensor: shape=(1,), dtype=float32, numpy=array([4.], dtype=float32)>,\n",
      " 'user_zip_code': <tf.Tensor: shape=(1,), dtype=string, numpy=array([b'53211'], dtype=object)>}\n"
     ]
    }
   ],
   "source": [
    "ratings = tfds.load(\"movielens/100k-ratings\", split=\"train\")\n",
    "\n",
    "for x in ratings.batch(1).take(1):\n",
    "    pprint(x)"
   ]
  },
  {
   "cell_type": "code",
   "execution_count": 29,
   "id": "faab048c-d2f7-42ca-b2c5-e21d4a05621e",
   "metadata": {},
   "outputs": [
    {
     "data": {
      "text/plain": [
       "<_PrefetchDataset element_spec={'bucketized_user_age': TensorSpec(shape=(), dtype=tf.float32, name=None), 'movie_genres': TensorSpec(shape=(None,), dtype=tf.int64, name=None), 'movie_id': TensorSpec(shape=(), dtype=tf.string, name=None), 'movie_title': TensorSpec(shape=(), dtype=tf.string, name=None), 'raw_user_age': TensorSpec(shape=(), dtype=tf.float32, name=None), 'timestamp': TensorSpec(shape=(), dtype=tf.int64, name=None), 'user_gender': TensorSpec(shape=(), dtype=tf.bool, name=None), 'user_id': TensorSpec(shape=(), dtype=tf.string, name=None), 'user_occupation_label': TensorSpec(shape=(), dtype=tf.int64, name=None), 'user_occupation_text': TensorSpec(shape=(), dtype=tf.string, name=None), 'user_rating': TensorSpec(shape=(), dtype=tf.float32, name=None), 'user_zip_code': TensorSpec(shape=(), dtype=tf.string, name=None)}>"
      ]
     },
     "execution_count": 29,
     "metadata": {},
     "output_type": "execute_result"
    }
   ],
   "source": [
    "ratings"
   ]
  },
  {
   "cell_type": "code",
   "execution_count": 11,
   "id": "0ccc32a3-9fa2-428b-83ba-0de1f006ffd0",
   "metadata": {},
   "outputs": [],
   "source": [
    "tf.random.set_seed(42)\n",
    "shuffled = ratings.shuffle(100_000, seed=42, reshuffle_each_iteration=False)\n",
    "\n",
    "train = shuffled.take(80_000)\n",
    "val = shuffled.skip(80_000).take(20_000)"
   ]
  },
  {
   "cell_type": "markdown",
   "id": "53de08f1-f581-4437-9d46-89ec79b18f7f",
   "metadata": {},
   "source": [
    "### write dataset to TF Records"
   ]
  },
  {
   "cell_type": "code",
   "execution_count": 12,
   "id": "0ba4cc81-ee20-4adc-8ff8-ac01e0da0125",
   "metadata": {},
   "outputs": [
    {
     "name": "stdout",
     "output_type": "stream",
     "text": [
      "FULL_DATA_PATH   : gs://rec-bandits-v2-hybrid-vertex-bucket/data\n",
      "TRAIN_DATA_PATH  : gs://rec-bandits-v2-hybrid-vertex-bucket/data/train\n",
      "VAL_DATA_PATH    : gs://rec-bandits-v2-hybrid-vertex-bucket/data/val\n"
     ]
    }
   ],
   "source": [
    "# full dataset\n",
    "TF_RECORD_FILE_full = \"ml-ratings-100k-full.tfrecord\"\n",
    "LOCAL_TF_RECORD_full = f\"./{TF_RECORD_FILE_full}\"\n",
    "\n",
    "# train split\n",
    "TF_RECORD_FILE_train = \"ml-ratings-100k-train.tfrecord\"\n",
    "LOCAL_TF_RECORD_train = f\"./{TF_RECORD_FILE_train}\"\n",
    "\n",
    "# val split\n",
    "TF_RECORD_FILE_val = \"ml-ratings-100k-val.tfrecord\"\n",
    "LOCAL_TF_RECORD_val = f\"./{TF_RECORD_FILE_val}\"\n",
    "\n",
    "# paths\n",
    "FULL_DATA_PATH = f\"{DATA_PATH}\"\n",
    "TRAIN_DATA_PATH = f\"{DATA_PATH}/train\"\n",
    "VAL_DATA_PATH = f\"{DATA_PATH}/val\"\n",
    "\n",
    "print(f\"FULL_DATA_PATH   : {FULL_DATA_PATH}\")\n",
    "print(f\"TRAIN_DATA_PATH  : {TRAIN_DATA_PATH}\")\n",
    "print(f\"VAL_DATA_PATH    : {VAL_DATA_PATH}\")"
   ]
  },
  {
   "cell_type": "code",
   "execution_count": 13,
   "id": "726ea348-c0d3-4fbb-8d4d-1dd37887ae1e",
   "metadata": {},
   "outputs": [],
   "source": [
    "data_utils.write_tfrecords(TF_RECORD_FILE_full, ratings, list_wise=False)"
   ]
  },
  {
   "cell_type": "code",
   "execution_count": 14,
   "id": "45de7fb7-952a-43e3-8768-69887118f8fb",
   "metadata": {},
   "outputs": [],
   "source": [
    "data_utils.write_tfrecords(TF_RECORD_FILE_train, train, list_wise=False)"
   ]
  },
  {
   "cell_type": "code",
   "execution_count": 17,
   "id": "f487f06d-dad9-48f8-9d80-719251b56dbb",
   "metadata": {},
   "outputs": [],
   "source": [
    "data_utils.write_tfrecords(TF_RECORD_FILE_val, val, list_wise=False)"
   ]
  },
  {
   "cell_type": "markdown",
   "id": "e784205b-3c94-4aec-b271-e9bef7fdf9ee",
   "metadata": {},
   "source": [
    "### save TF Records to GCS"
   ]
  },
  {
   "cell_type": "code",
   "execution_count": 18,
   "id": "1ee120b0-dc8e-4f17-92bc-2139963d5579",
   "metadata": {},
   "outputs": [],
   "source": [
    "# LOCAL_TF_RECORD = f\"./{TF_RECORD_FILE}\"\n",
    "# ! gsutil -q cp $LOCAL_TF_RECORD $DATA_PATH/train/\n",
    "# ! gsutil ls $DATA_PATH\n",
    "\n",
    "! gsutil -q cp $LOCAL_TF_RECORD_full $FULL_DATA_PATH/\n",
    "! gsutil -q cp $LOCAL_TF_RECORD_train $TRAIN_DATA_PATH/\n",
    "! gsutil -q cp $LOCAL_TF_RECORD_val $VAL_DATA_PATH/"
   ]
  },
  {
   "cell_type": "code",
   "execution_count": 19,
   "id": "ccf90898-11a6-4274-aec2-297feec8e419",
   "metadata": {},
   "outputs": [
    {
     "name": "stdout",
     "output_type": "stream",
     "text": [
      "gs://rec-bandits-v2-hybrid-vertex-bucket/data/ml-ratings-100k-full.tfrecord\n",
      "gs://rec-bandits-v2-hybrid-vertex-bucket/data/listwise-3n-train/\n",
      "gs://rec-bandits-v2-hybrid-vertex-bucket/data/listwise-3n-val/\n",
      "gs://rec-bandits-v2-hybrid-vertex-bucket/data/train/\n",
      "gs://rec-bandits-v2-hybrid-vertex-bucket/data/val/\n"
     ]
    }
   ],
   "source": [
    "! gsutil ls $DATA_PATH"
   ]
  },
  {
   "cell_type": "markdown",
   "id": "b7a150e2-29c1-42e5-b513-85f6b27bafd6",
   "metadata": {},
   "source": [
    "## validate TF Records"
   ]
  },
  {
   "cell_type": "code",
   "execution_count": 17,
   "id": "afdbc480-8977-4caf-b08f-29a665ef3f3e",
   "metadata": {},
   "outputs": [
    {
     "data": {
      "text/plain": [
       "['gs://rec-bandits-v2-hybrid-vertex-bucket/data/ml-ratings-100k-full.tfrecord']"
      ]
     },
     "execution_count": 17,
     "metadata": {},
     "output_type": "execute_result"
    }
   ],
   "source": [
    "train_files = []\n",
    "for blob in storage_client.list_blobs(f\"{BUCKET_NAME}\", prefix=f'{DATA_GCS_PREFIX}/', delimiter='/'):\n",
    "    if '.tfrecord' in blob.name:\n",
    "        train_files.append(blob.public_url.replace(\"https://storage.googleapis.com/\", \"gs://\"))\n",
    "        \n",
    "train_files"
   ]
  },
  {
   "cell_type": "code",
   "execution_count": 18,
   "id": "7bde3b62-cf77-4750-ab69-47638cbc7184",
   "metadata": {},
   "outputs": [
    {
     "data": {
      "text/plain": [
       "<TFRecordDatasetV2 element_spec=TensorSpec(shape=(), dtype=tf.string, name=None)>"
      ]
     },
     "execution_count": 18,
     "metadata": {},
     "output_type": "execute_result"
    }
   ],
   "source": [
    "train_dataset = tf.data.TFRecordDataset(train_files)\n",
    "train_dataset"
   ]
  },
  {
   "cell_type": "code",
   "execution_count": 19,
   "id": "a1cb0935-4de2-4812-a983-414ca17755cd",
   "metadata": {},
   "outputs": [
    {
     "name": "stdout",
     "output_type": "stream",
     "text": [
      "{'bucketized_user_age': <tf.Tensor: shape=(1,), dtype=float32, numpy=array([45.], dtype=float32)>,\n",
      " 'movie_genres': <tf.Tensor: shape=(1, 1), dtype=int64, numpy=array([[7]])>,\n",
      " 'movie_id': <tf.Tensor: shape=(1,), dtype=string, numpy=array([b'357'], dtype=object)>,\n",
      " 'timestamp': <tf.Tensor: shape=(1,), dtype=int64, numpy=array([879024327])>,\n",
      " 'user_id': <tf.Tensor: shape=(1,), dtype=string, numpy=array([b'138'], dtype=object)>,\n",
      " 'user_occupation_text': <tf.Tensor: shape=(1,), dtype=string, numpy=array([b'doctor'], dtype=object)>,\n",
      " 'user_rating': <tf.Tensor: shape=(1,), dtype=float32, numpy=array([4.], dtype=float32)>}\n"
     ]
    }
   ],
   "source": [
    "train_dataset = train_dataset.map(data_utils.parse_tfrecord)\n",
    "\n",
    "for x in train_dataset.batch(1).take(1):\n",
    "    pprint(x)"
   ]
  },
  {
   "cell_type": "code",
   "execution_count": 20,
   "id": "7ecfc599-498a-4c9e-9737-ec1cdacdd1ca",
   "metadata": {},
   "outputs": [
    {
     "data": {
      "text/plain": [
       "array([1., 2., 3., 4., 5.], dtype=float32)"
      ]
     },
     "execution_count": 20,
     "metadata": {},
     "output_type": "execute_result"
    }
   ],
   "source": [
    "# Get the unique movies and users\n",
    "unique_user_ratings = train_dataset.map(lambda x: x[\"user_rating\"])\n",
    "\n",
    "unique_user_ratings = np.unique([x.numpy() for x in unique_user_ratings])\n",
    "\n",
    "unique_user_ratings"
   ]
  },
  {
   "cell_type": "markdown",
   "id": "add6d7f1-aa8a-4459-8d7a-e8f6363edede",
   "metadata": {},
   "source": [
    "# Generate look-up dicts\n",
    "\n",
    "**TODO** - use more Tensorflow native method for generating vocabs and stats"
   ]
  },
  {
   "cell_type": "markdown",
   "id": "c73e451f-865d-4614-a77d-a1ef1dce0714",
   "metadata": {},
   "source": [
    "### unique IDs"
   ]
  },
  {
   "cell_type": "code",
   "execution_count": 23,
   "id": "8b468833-642b-436f-8ddb-692f9221e38f",
   "metadata": {},
   "outputs": [
    {
     "name": "stdout",
     "output_type": "stream",
     "text": [
      "len(unique_movie_ids) : 1682\n",
      "unique_movie_ids      : [b'1' b'10']\n"
     ]
    }
   ],
   "source": [
    "# Get the unique movies and users\n",
    "unique_movie_ids = train_dataset.map(lambda x: x[\"movie_id\"])\n",
    "\n",
    "unique_movie_ids = np.unique([x.numpy() for x in unique_movie_ids])\n",
    "\n",
    "MOVIELENS_NUM_MOVIES = len(unique_movie_ids)\n",
    "\n",
    "print(f\"len(unique_movie_ids) : {len(unique_movie_ids)}\")\n",
    "print(f\"unique_movie_ids      : {unique_movie_ids[:2]}\")"
   ]
  },
  {
   "cell_type": "code",
   "execution_count": 24,
   "id": "889c41d2-c4df-496a-8424-bba6bb3d0aae",
   "metadata": {},
   "outputs": [
    {
     "name": "stdout",
     "output_type": "stream",
     "text": [
      "len(unique_occ_ids) : 21\n",
      "unique_occ_ids      : [b'administrator' b'artist']\n"
     ]
    }
   ],
   "source": [
    "# Get the unique movies and users\n",
    "# unique_movie_ids = ratings.map(lambda x: x[\"movie_id\"])\n",
    "unique_occ_ids = train_dataset.map(lambda x: x[\"user_occupation_text\"])\n",
    "\n",
    "unique_occ_ids = np.unique([x.numpy() for x in unique_occ_ids])\n",
    "\n",
    "NUM_OCCS = len(unique_occ_ids)\n",
    "\n",
    "print(f\"len(unique_occ_ids) : {len(unique_occ_ids)}\")\n",
    "print(f\"unique_occ_ids      : {unique_occ_ids[:2]}\")"
   ]
  },
  {
   "cell_type": "code",
   "execution_count": 25,
   "id": "089c1bf7-f5ac-4343-8dae-a8f1c908a9a6",
   "metadata": {},
   "outputs": [
    {
     "name": "stdout",
     "output_type": "stream",
     "text": [
      "len(unique_user_ids) : 943\n",
      "unique_user_ids      : [b'1' b'10']\n"
     ]
    }
   ],
   "source": [
    "# unique_user_ids = ratings.map(lambda x: x[\"user_id\"])\n",
    "unique_user_ids = train_dataset.map(lambda x: x[\"user_id\"])\n",
    "\n",
    "unique_user_ids = np.unique([x.numpy() for x in unique_user_ids])\n",
    "\n",
    "MOVIELENS_NUM_USERS = len(unique_user_ids)\n",
    "\n",
    "print(f\"len(unique_user_ids) : {len(unique_user_ids)}\")\n",
    "print(f\"unique_user_ids      : {unique_user_ids[:2]}\")"
   ]
  },
  {
   "cell_type": "markdown",
   "id": "e507fd5b-c398-41ea-8b5c-7a6b7e4886d2",
   "metadata": {},
   "source": [
    "### lookup dictionaries"
   ]
  },
  {
   "cell_type": "code",
   "execution_count": 26,
   "id": "b17cf48c-e0e2-4d65-9b4b-25d7c50d0502",
   "metadata": {},
   "outputs": [
    {
     "name": "stdout",
     "output_type": "stream",
     "text": [
      "USER_AGE_DIM: 7\n"
     ]
    },
    {
     "data": {
      "text/plain": [
       "{1.0: 0, 35.0: 1, 45.0: 2, 18.0: 3, 50.0: 4, 56.0: 5, 25.0: 6}"
      ]
     },
     "execution_count": 26,
     "metadata": {},
     "output_type": "execute_result"
    }
   ],
   "source": [
    "USER_AGE_LOOKUP = data_utils.get_dictionary_lookup_by_tf_data_key(\n",
    "    key = 'bucketized_user_age'\n",
    "    , dataset= train_dataset\n",
    ")\n",
    "\n",
    "USER_AGE_DIM = len(USER_AGE_LOOKUP)\n",
    "print(f\"USER_AGE_DIM: {USER_AGE_DIM}\")\n",
    "\n",
    "USER_AGE_LOOKUP"
   ]
  },
  {
   "cell_type": "code",
   "execution_count": 27,
   "id": "188f1142-c814-4f6f-9ae6-9dddeaa1005b",
   "metadata": {
    "tags": []
   },
   "outputs": [
    {
     "name": "stdout",
     "output_type": "stream",
     "text": [
      "USER_OCC_DIM: 21\n"
     ]
    }
   ],
   "source": [
    "USER_OCC_LOOKUP = data_utils.get_dictionary_lookup_by_tf_data_key(\n",
    "    key = 'user_occupation_text'\n",
    "    , dataset= train_dataset\n",
    ")\n",
    "USER_OCC_DIM = len(USER_OCC_LOOKUP)\n",
    "print(f\"USER_OCC_DIM: {USER_OCC_DIM}\")\n",
    "\n",
    "# USER_OCC_LOOKUP"
   ]
  },
  {
   "cell_type": "code",
   "execution_count": 28,
   "id": "3b6aafa8-8550-417a-8a67-ff602d79c8c5",
   "metadata": {
    "tags": []
   },
   "outputs": [
    {
     "name": "stdout",
     "output_type": "stream",
     "text": [
      "MOVIE_GEN_DIM: 19\n"
     ]
    }
   ],
   "source": [
    "MOVIE_GEN_LOOKUP = data_utils.get_dictionary_lookup_by_tf_data_key(\n",
    "    key = 'movie_genres'\n",
    "    , dataset= train_dataset\n",
    ")\n",
    "MOVIE_GEN_DIM = len(MOVIE_GEN_LOOKUP)\n",
    "print(f\"MOVIE_GEN_DIM: {MOVIE_GEN_DIM}\")\n",
    "\n",
    "# MOVIE_GEN_LOOKUP"
   ]
  },
  {
   "cell_type": "markdown",
   "id": "4e68a8e3-c56c-40d8-9544-992e62488b3b",
   "metadata": {
    "tags": []
   },
   "source": [
    "## create `data_config.py`\n",
    "\n",
    "> write data config for subsequent notebooks"
   ]
  },
  {
   "cell_type": "code",
   "execution_count": 29,
   "id": "1557f99e-9fa4-4fd6-9c1b-96b42f9b353d",
   "metadata": {},
   "outputs": [],
   "source": [
    "config = f'''\n",
    "USER_AGE_LOOKUP       = {USER_AGE_LOOKUP}\n",
    "USER_AGE_DIM          = {USER_AGE_DIM}\n",
    "\n",
    "USER_OCC_LOOKUP       = {USER_OCC_LOOKUP}\n",
    "USER_OCC_DIM          = {USER_OCC_DIM}\n",
    "\n",
    "MOVIE_GEN_LOOKUP      = {MOVIE_GEN_LOOKUP}\n",
    "MOVIE_GEN_DIM         = {MOVIE_GEN_DIM}\n",
    "\n",
    "MOVIELENS_NUM_MOVIES  = {MOVIELENS_NUM_MOVIES}\n",
    "MOVIELENS_NUM_USERS   = {MOVIELENS_NUM_USERS}\n",
    "'''\n",
    "# TODO - cleanup\n",
    "with open(f'{REPO_DOCKER_PATH_PREFIX}/{RL_SUB_DIR}/data_config.py', 'w') as f:\n",
    "    f.write(config)"
   ]
  },
  {
   "cell_type": "markdown",
   "id": "dd1c21b7-1778-486a-9cd8-048fc41df4f1",
   "metadata": {
    "tags": []
   },
   "source": [
    "### Validate creating the ratings matrix"
   ]
  },
  {
   "cell_type": "code",
   "execution_count": 12,
   "id": "fe4ca765-7c25-43c6-8191-68e06360cb53",
   "metadata": {},
   "outputs": [],
   "source": [
    "from src.per_arm_rl import data_config as data_config"
   ]
  },
  {
   "cell_type": "code",
   "execution_count": 13,
   "id": "38b07ca7-f609-46cf-8234-6ceb4e4c1fec",
   "metadata": {},
   "outputs": [
    {
     "data": {
      "text/plain": [
       "{1.0: 0, 35.0: 1, 45.0: 2, 18.0: 3, 50.0: 4, 56.0: 5, 25.0: 6}"
      ]
     },
     "execution_count": 13,
     "metadata": {},
     "output_type": "execute_result"
    }
   ],
   "source": [
    "data_config.USER_AGE_LOOKUP"
   ]
  },
  {
   "cell_type": "code",
   "execution_count": 14,
   "id": "c5625bfa-c1b8-4fc0-8c91-1f9569ce84ca",
   "metadata": {
    "tags": []
   },
   "outputs": [
    {
     "data": {
      "text/plain": [
       "{b'salesman': 0,\n",
       " b'programmer': 1,\n",
       " b'writer': 2,\n",
       " b'librarian': 3,\n",
       " b'marketing': 4,\n",
       " b'homemaker': 5,\n",
       " b'scientist': 6,\n",
       " b'entertainment': 7,\n",
       " b'engineer': 8,\n",
       " b'executive': 9,\n",
       " b'student': 10,\n",
       " b'technician': 11,\n",
       " b'none': 12,\n",
       " b'artist': 13,\n",
       " b'doctor': 14,\n",
       " b'lawyer': 15,\n",
       " b'retired': 16,\n",
       " b'administrator': 17,\n",
       " b'other': 18,\n",
       " b'educator': 19,\n",
       " b'healthcare': 20}"
      ]
     },
     "execution_count": 14,
     "metadata": {},
     "output_type": "execute_result"
    }
   ],
   "source": [
    "data_config.USER_OCC_LOOKUP"
   ]
  },
  {
   "cell_type": "code",
   "execution_count": 15,
   "id": "54b19bdd-1564-4781-b1b9-6a2bef3fab93",
   "metadata": {
    "tags": []
   },
   "outputs": [
    {
     "data": {
      "text/plain": [
       "{0: 0,\n",
       " 1: 1,\n",
       " 2: 2,\n",
       " 3: 3,\n",
       " 4: 4,\n",
       " 5: 5,\n",
       " 6: 6,\n",
       " 7: 7,\n",
       " 8: 8,\n",
       " 9: 9,\n",
       " 10: 10,\n",
       " 12: 11,\n",
       " 13: 12,\n",
       " 14: 13,\n",
       " 15: 14,\n",
       " 16: 15,\n",
       " 17: 16,\n",
       " 18: 17,\n",
       " 19: 18}"
      ]
     },
     "execution_count": 15,
     "metadata": {},
     "output_type": "execute_result"
    }
   ],
   "source": [
    "data_config.MOVIE_GEN_LOOKUP"
   ]
  },
  {
   "cell_type": "markdown",
   "id": "ca361ffc-36ea-4cc2-8286-7aa5ee2f3288",
   "metadata": {},
   "source": [
    "**Test movielens rating matrix**"
   ]
  },
  {
   "cell_type": "code",
   "execution_count": 30,
   "id": "9075e0d2-01a5-49a7-a422-8a66be6afebf",
   "metadata": {},
   "outputs": [
    {
     "data": {
      "text/plain": [
       "<_MapDataset element_spec={'user_id': TensorSpec(shape=(), dtype=tf.string, name=None), 'movie_id': TensorSpec(shape=(), dtype=tf.string, name=None), 'user_rating': TensorSpec(shape=(), dtype=tf.float32, name=None), 'bucketized_user_age': TensorSpec(shape=(), dtype=tf.float32, name=None), 'user_occupation_text': TensorSpec(shape=(), dtype=tf.string, name=None), 'movie_genres': TensorSpec(shape=(), dtype=tf.int64, name=None)}>"
      ]
     },
     "execution_count": 30,
     "metadata": {},
     "output_type": "execute_result"
    }
   ],
   "source": [
    "local_data = train_dataset.map(\n",
    "    lambda x: {\n",
    "        'user_id': x['user_id']\n",
    "        ,'movie_id':  x['movie_id']\n",
    "        ,'user_rating':  x['user_rating']\n",
    "        ,'bucketized_user_age': x['bucketized_user_age']\n",
    "        ,'user_occupation_text': x['user_occupation_text']\n",
    "        ,'movie_genres': x['movie_genres'][0]\n",
    "    }\n",
    ")\n",
    "local_data"
   ]
  },
  {
   "cell_type": "code",
   "execution_count": 31,
   "id": "bbfbfb4b-731c-4ff3-80dd-5810bfc26f95",
   "metadata": {},
   "outputs": [
    {
     "data": {
      "text/plain": [
       "array([[0., 0., 0., ..., 0., 0., 0.],\n",
       "       [0., 0., 0., ..., 0., 0., 0.],\n",
       "       [0., 0., 0., ..., 0., 0., 0.],\n",
       "       ...,\n",
       "       [0., 0., 0., ..., 0., 0., 0.],\n",
       "       [0., 0., 0., ..., 0., 0., 0.],\n",
       "       [0., 0., 0., ..., 0., 0., 0.]])"
      ]
     },
     "execution_count": 31,
     "metadata": {},
     "output_type": "execute_result"
    }
   ],
   "source": [
    "ratings_matrix = np.zeros([data_config.MOVIELENS_NUM_USERS, data_config.MOVIELENS_NUM_MOVIES])\n",
    "ratings_matrix"
   ]
  },
  {
   "cell_type": "code",
   "execution_count": 33,
   "id": "027560e1-db7a-4805-b6de-18a86884c99b",
   "metadata": {},
   "outputs": [],
   "source": [
    "user_age_int = []\n",
    "user_occ_int = []\n",
    "mov_gen_int = []\n",
    "\n",
    "for row in local_data:\n",
    "    ratings_matrix[\n",
    "        int(row['user_id'].numpy()) - 1\n",
    "        , int(row['movie_id'].numpy()) - 1\n",
    "    ] = float(row['user_rating'].numpy())\n",
    "\n",
    "    user_age_int.append(\n",
    "        float(data_config.USER_AGE_LOOKUP[row['bucketized_user_age'].numpy()]) + .0001\n",
    "    )\n",
    "    user_occ_int.append(\n",
    "        float(data_config.USER_OCC_LOOKUP[row['user_occupation_text'].numpy()]) + .0001\n",
    "    )\n",
    "    mov_gen_int.append(\n",
    "        float(data_config.MOVIE_GEN_LOOKUP[row['movie_genres'].numpy()]) + .0001\n",
    "    ) "
   ]
  },
  {
   "cell_type": "code",
   "execution_count": 34,
   "id": "a963e007-56bb-4830-9826-b854e80e1bea",
   "metadata": {},
   "outputs": [
    {
     "data": {
      "text/plain": [
       "array([[5., 3., 4., ..., 0., 0., 0.],\n",
       "       [4., 0., 0., ..., 0., 0., 0.],\n",
       "       [0., 0., 0., ..., 0., 0., 0.],\n",
       "       ...,\n",
       "       [5., 0., 0., ..., 0., 0., 0.],\n",
       "       [0., 0., 0., ..., 0., 0., 0.],\n",
       "       [0., 5., 0., ..., 0., 0., 0.]])"
      ]
     },
     "execution_count": 34,
     "metadata": {},
     "output_type": "execute_result"
    }
   ],
   "source": [
    "ratings_matrix"
   ]
  },
  {
   "cell_type": "code",
   "execution_count": 35,
   "id": "457a53f5-ad3a-4559-a70f-a7c3aee6b6d0",
   "metadata": {},
   "outputs": [
    {
     "data": {
      "text/plain": [
       "array([2.0001, 6.0001, 3.0001, ..., 3.0001, 1.0001, 3.0001])"
      ]
     },
     "execution_count": 35,
     "metadata": {},
     "output_type": "execute_result"
    }
   ],
   "source": [
    "np.array(user_age_int)"
   ]
  },
  {
   "cell_type": "code",
   "execution_count": 36,
   "id": "5ddac0e4-18e8-4b1b-ac86-42a608ad471b",
   "metadata": {},
   "outputs": [
    {
     "data": {
      "text/plain": [
       "array([14.0001,  7.0001, 10.0001, ..., 10.0001,  2.0001, 10.0001])"
      ]
     },
     "execution_count": 36,
     "metadata": {},
     "output_type": "execute_result"
    }
   ],
   "source": [
    "np.array(user_occ_int)"
   ]
  },
  {
   "cell_type": "code",
   "execution_count": 37,
   "id": "a7aace75-55bc-4538-91be-422b88e5409d",
   "metadata": {},
   "outputs": [
    {
     "data": {
      "text/plain": [
       "array([7.00010e+00, 4.00010e+00, 4.00010e+00, ..., 1.00001e+01,\n",
       "       1.00000e-04, 4.00010e+00])"
      ]
     },
     "execution_count": 37,
     "metadata": {},
     "output_type": "execute_result"
    }
   ],
   "source": [
    "np.array(mov_gen_int)"
   ]
  },
  {
   "cell_type": "markdown",
   "id": "d313edbf-7e38-4b6c-8b72-7b8e607a70fa",
   "metadata": {},
   "source": [
    "The commands above are executed when calling the `load_movielens_ratings()` function below:"
   ]
  },
  {
   "cell_type": "code",
   "execution_count": 21,
   "id": "fc9d1512-9318-46dd-999d-f87f9c9d9b2f",
   "metadata": {},
   "outputs": [
    {
     "name": "stdout",
     "output_type": "stream",
     "text": [
      "num outputs: 4\n"
     ]
    },
    {
     "data": {
      "text/plain": [
       "(array([[5., 3., 4., ..., 0., 0., 0.],\n",
       "        [4., 0., 0., ..., 0., 0., 0.],\n",
       "        [0., 0., 0., ..., 0., 0., 0.],\n",
       "        ...,\n",
       "        [5., 0., 0., ..., 0., 0., 0.],\n",
       "        [0., 0., 0., ..., 0., 0., 0.],\n",
       "        [0., 5., 0., ..., 0., 0., 0.]]),\n",
       " array([2.0001, 6.0001, 3.0001, ..., 3.0001, 1.0001, 3.0001]),\n",
       " array([14.0001,  7.0001, 10.0001, ..., 10.0001,  2.0001, 10.0001]),\n",
       " array([7.00010e+00, 4.00010e+00, 4.00010e+00, ..., 1.00001e+01,\n",
       "        1.00000e-04, 4.00010e+00]))"
      ]
     },
     "execution_count": 21,
     "metadata": {},
     "output_type": "execute_result"
    }
   ],
   "source": [
    "test_dataset_load = data_utils.load_movielens_ratings(\n",
    "    ratings_dataset = train_dataset\n",
    "    , num_users = data_config.MOVIELENS_NUM_USERS\n",
    "    , num_movies = data_config.MOVIELENS_NUM_MOVIES\n",
    "    , user_age_lookup_dict = data_config.USER_AGE_LOOKUP\n",
    "    , user_occ_lookup_dict = data_config.USER_OCC_LOOKUP\n",
    "    , movie_gen_lookup_dict = data_config.MOVIE_GEN_LOOKUP\n",
    ")\n",
    "\n",
    "print(f\"num outputs: {len(test_dataset_load)}\")\n",
    "\n",
    "test_dataset_load"
   ]
  },
  {
   "cell_type": "code",
   "execution_count": 22,
   "id": "a51ae0c6-e5d1-4982-99ac-4a538d6e0315",
   "metadata": {},
   "outputs": [
    {
     "name": "stdout",
     "output_type": "stream",
     "text": [
      "(943, 1682)\n"
     ]
    },
    {
     "data": {
      "text/plain": [
       "array([[5., 3., 4., ..., 0., 0., 0.],\n",
       "       [4., 0., 0., ..., 0., 0., 0.],\n",
       "       [0., 0., 0., ..., 0., 0., 0.],\n",
       "       ...,\n",
       "       [5., 0., 0., ..., 0., 0., 0.],\n",
       "       [0., 0., 0., ..., 0., 0., 0.],\n",
       "       [0., 5., 0., ..., 0., 0., 0.]])"
      ]
     },
     "execution_count": 22,
     "metadata": {},
     "output_type": "execute_result"
    }
   ],
   "source": [
    "ratings_matrix = test_dataset_load[0]\n",
    "print(ratings_matrix.shape)\n",
    "ratings_matrix"
   ]
  },
  {
   "cell_type": "code",
   "execution_count": 23,
   "id": "f55014ae-fc94-4a1a-a2dd-fde3970b5387",
   "metadata": {},
   "outputs": [
    {
     "name": "stdout",
     "output_type": "stream",
     "text": [
      "2.0001\n"
     ]
    },
    {
     "data": {
      "text/plain": [
       "array([2.0001, 6.0001, 3.0001, ..., 3.0001, 1.0001, 3.0001])"
      ]
     },
     "execution_count": 23,
     "metadata": {},
     "output_type": "execute_result"
    }
   ],
   "source": [
    "user_age_int = test_dataset_load[1]\n",
    "print(user_age_int[0])\n",
    "user_age_int"
   ]
  },
  {
   "cell_type": "code",
   "execution_count": 36,
   "id": "6118d665-03c8-4456-aa83-4364a0da4653",
   "metadata": {},
   "outputs": [
    {
     "name": "stdout",
     "output_type": "stream",
     "text": [
      "[ 6.0001 20.0001 10.0001 ... 10.0001 13.0001 10.0001]\n"
     ]
    },
    {
     "data": {
      "text/plain": [
       "array([ 6.0001, 20.0001, 10.0001, ..., 10.0001, 13.0001, 10.0001])"
      ]
     },
     "execution_count": 36,
     "metadata": {},
     "output_type": "execute_result"
    }
   ],
   "source": [
    "user_occ_int = test_dataset_load[2]\n",
    "print(user_occ_int)\n",
    "user_occ_int"
   ]
  },
  {
   "cell_type": "code",
   "execution_count": 38,
   "id": "6fa20d27-8719-4d60-bc71-75398cf0c298",
   "metadata": {},
   "outputs": [
    {
     "name": "stdout",
     "output_type": "stream",
     "text": [
      "[7.00010e+00 4.00010e+00 4.00010e+00 ... 1.00001e+01 1.00000e-04\n",
      " 4.00010e+00]\n"
     ]
    },
    {
     "data": {
      "text/plain": [
       "array([7.00010e+00, 4.00010e+00, 4.00010e+00, ..., 1.00001e+01,\n",
       "       1.00000e-04, 4.00010e+00])"
      ]
     },
     "execution_count": 38,
     "metadata": {},
     "output_type": "execute_result"
    }
   ],
   "source": [
    "mov_gen_int = test_dataset_load[3]\n",
    "print(mov_gen_int)\n",
    "mov_gen_int"
   ]
  },
  {
   "cell_type": "markdown",
   "id": "1c9370b8-85fb-420d-8812-a01c7f6baa94",
   "metadata": {},
   "source": [
    "# Ranking Data (listwise)"
   ]
  },
  {
   "cell_type": "markdown",
   "id": "8666a2f8-5f7f-41e2-9820-c3aebaf52bc6",
   "metadata": {},
   "source": [
    "**define how many items should be in each example's item list:**"
   ]
  },
  {
   "cell_type": "code",
   "execution_count": 27,
   "id": "3962a8a1-63a4-4149-86fb-bd57b3356ae3",
   "metadata": {},
   "outputs": [],
   "source": [
    "NUM_EXAMPLES_PER_LIST = 5 # 3 | 5"
   ]
  },
  {
   "cell_type": "markdown",
   "id": "25889912-d06e-4274-871b-a11983b77ee5",
   "metadata": {},
   "source": [
    "**write this value to config file for `data_util` functions**"
   ]
  },
  {
   "cell_type": "code",
   "execution_count": null,
   "id": "d89edf12-be15-4977-ab9b-cf64848aafe8",
   "metadata": {},
   "outputs": [],
   "source": [
    "config = f'''\n",
    "NUM_EXAMPLES_PER_LIST = {NUM_EXAMPLES_PER_LIST}\n",
    "'''\n",
    "# TODO - cleanup\n",
    "with open(f'{REPO_DOCKER_PATH_PREFIX}/{RL_SUB_DIR}/utils_config.py', 'w') as f:\n",
    "    f.write(config)"
   ]
  },
  {
   "cell_type": "code",
   "execution_count": 28,
   "id": "177ca352-a258-4f38-b83e-ade22469e261",
   "metadata": {},
   "outputs": [
    {
     "data": {
      "text/plain": [
       "5"
      ]
     },
     "execution_count": 28,
     "metadata": {},
     "output_type": "execute_result"
    }
   ],
   "source": [
    "from src.per_arm_rl import utils_config as utils_config\n",
    "\n",
    "utils_config.NUM_EXAMPLES_PER_LIST"
   ]
  },
  {
   "cell_type": "code",
   "execution_count": 29,
   "id": "47f1bbbc-a9ba-4300-8488-41e8fd85cfea",
   "metadata": {},
   "outputs": [],
   "source": [
    "import array\n",
    "import collections\n",
    "import numpy as np\n",
    "from typing import Dict, List, Optional, Text, Tuple\n",
    "\n",
    "from pprint import pprint\n",
    "\n",
    "from src.per_arm_rl import data_utils as data_utils"
   ]
  },
  {
   "cell_type": "code",
   "execution_count": 45,
   "id": "be676f8b-8f0a-40a7-813f-ff610c0de51d",
   "metadata": {},
   "outputs": [],
   "source": [
    "# train = shuffled.take(80_000)\n",
    "# val = shuffled.skip(80_000).take(20_000)"
   ]
  },
  {
   "cell_type": "code",
   "execution_count": 13,
   "id": "94ca0a4e-7fb8-4abf-909b-6edae99bae00",
   "metadata": {},
   "outputs": [
    {
     "name": "stdout",
     "output_type": "stream",
     "text": [
      "{'bucketized_user_age': <tf.Tensor: shape=(1,), dtype=float32, numpy=array([35.], dtype=float32)>,\n",
      " 'movie_genres': <tf.Tensor: shape=(1, 1), dtype=int64, numpy=array([[7]])>,\n",
      " 'movie_id': <tf.Tensor: shape=(1,), dtype=string, numpy=array([b'898'], dtype=object)>,\n",
      " 'movie_title': <tf.Tensor: shape=(1,), dtype=string, numpy=array([b'Postman, The (1997)'], dtype=object)>,\n",
      " 'raw_user_age': <tf.Tensor: shape=(1,), dtype=float32, numpy=array([44.], dtype=float32)>,\n",
      " 'timestamp': <tf.Tensor: shape=(1,), dtype=int64, numpy=array([885409515])>,\n",
      " 'user_gender': <tf.Tensor: shape=(1,), dtype=bool, numpy=array([False])>,\n",
      " 'user_id': <tf.Tensor: shape=(1,), dtype=string, numpy=array([b'681'], dtype=object)>,\n",
      " 'user_occupation_label': <tf.Tensor: shape=(1,), dtype=int64, numpy=array([14])>,\n",
      " 'user_occupation_text': <tf.Tensor: shape=(1,), dtype=string, numpy=array([b'marketing'], dtype=object)>,\n",
      " 'user_rating': <tf.Tensor: shape=(1,), dtype=float32, numpy=array([4.], dtype=float32)>,\n",
      " 'user_zip_code': <tf.Tensor: shape=(1,), dtype=string, numpy=array([b'97208'], dtype=object)>}\n"
     ]
    }
   ],
   "source": [
    "for x in train.batch(1).take(1):\n",
    "    pprint(x)"
   ]
  },
  {
   "cell_type": "markdown",
   "id": "a39d0a02-f38a-4497-9ae5-e0408c316c20",
   "metadata": {},
   "source": [
    "## Create train listwise ds"
   ]
  },
  {
   "cell_type": "code",
   "execution_count": 17,
   "id": "66ba907a-5896-4019-897c-883d97e8193b",
   "metadata": {},
   "outputs": [],
   "source": [
    "NUM_EXAMPLES_PER_LIST = 5    # 3 | 5"
   ]
  },
  {
   "cell_type": "code",
   "execution_count": 26,
   "id": "8b9557d1-8a83-484b-a0ce-0c9bbf5cad2a",
   "metadata": {},
   "outputs": [],
   "source": [
    "config = f'''\n",
    "NUM_EXAMPLES_PER_LIST = {NUM_EXAMPLES_PER_LIST}\n",
    "'''\n",
    "# TODO - cleanup\n",
    "with open(f'{REPO_DOCKER_PATH_PREFIX}/{RL_SUB_DIR}/utils_config.py', 'w') as f:\n",
    "    f.write(config)"
   ]
  },
  {
   "cell_type": "code",
   "execution_count": null,
   "id": "cb90fe01-754b-41bb-b3e8-a4cfa3e432be",
   "metadata": {},
   "outputs": [],
   "source": [
    "from src.per_arm_rl import utils_config as utils_config\n",
    "\n",
    "utils_config.NUM_EXAMPLES_PER_LIST"
   ]
  },
  {
   "cell_type": "code",
   "execution_count": 18,
   "id": "35020d6c-1f95-4889-a53a-a834e90a41aa",
   "metadata": {},
   "outputs": [],
   "source": [
    "# We sample 50 lists for each user for the training data. For each list we\n",
    "# sample (3 | 5) movies from the movies the user rated.\n",
    "train_lw = data_utils.create_listwise_ds(\n",
    "    train,\n",
    "    num_list_per_user=50,\n",
    "    num_examples_per_list=NUM_EXAMPLES_PER_LIST,\n",
    "    seed=42\n",
    ")"
   ]
  },
  {
   "cell_type": "code",
   "execution_count": 19,
   "id": "e3072352-812f-4694-91a9-dd35ae2de309",
   "metadata": {},
   "outputs": [
    {
     "name": "stdout",
     "output_type": "stream",
     "text": [
      "{'movie_genres': <tf.Tensor: shape=(5,), dtype=int64, numpy=array([4, 7, 7, 2, 7])>,\n",
      " 'movie_id': <tf.Tensor: shape=(5,), dtype=string, numpy=array([b'294', b'690', b'1176', b'538', b'310'], dtype=object)>,\n",
      " 'user_id': <tf.Tensor: shape=(), dtype=string, numpy=b'681'>,\n",
      " 'user_rating': <tf.Tensor: shape=(5,), dtype=float32, numpy=array([5., 4., 4., 3., 3.], dtype=float32)>}\n"
     ]
    }
   ],
   "source": [
    "for example in train_lw.skip(7).take(1):\n",
    "    pprint(example)"
   ]
  },
  {
   "cell_type": "code",
   "execution_count": 20,
   "id": "0fbd2831-131b-4642-8f90-88a4387cf6ba",
   "metadata": {},
   "outputs": [
    {
     "data": {
      "text/plain": [
       "array([5., 4., 4., 3., 3.], dtype=float32)"
      ]
     },
     "execution_count": 20,
     "metadata": {},
     "output_type": "execute_result"
    }
   ],
   "source": [
    "example['user_rating'].numpy()"
   ]
  },
  {
   "cell_type": "code",
   "execution_count": 21,
   "id": "5a66defc-80ec-4de0-8a73-fa53034aa30f",
   "metadata": {},
   "outputs": [
    {
     "data": {
      "text/plain": [
       "47150"
      ]
     },
     "execution_count": 21,
     "metadata": {},
     "output_type": "execute_result"
    }
   ],
   "source": [
    "len(list(train_lw))"
   ]
  },
  {
   "cell_type": "markdown",
   "id": "f2c0a366-d55c-4ff4-899a-afc4c4e4c42b",
   "metadata": {},
   "source": [
    "### write TF records file"
   ]
  },
  {
   "cell_type": "code",
   "execution_count": 23,
   "id": "2c866a87-a3a3-43eb-8ff4-4ccc00380fb4",
   "metadata": {},
   "outputs": [
    {
     "data": {
      "text/plain": [
       "'gs://rec-bandits-v2-hybrid-vertex-bucket/data'"
      ]
     },
     "execution_count": 23,
     "metadata": {},
     "output_type": "execute_result"
    }
   ],
   "source": [
    "DATA_PATH"
   ]
  },
  {
   "cell_type": "code",
   "execution_count": 24,
   "id": "837454ff-2770-4e05-a6dd-1b0709101207",
   "metadata": {},
   "outputs": [],
   "source": [
    "# train split\n",
    "TF_RECORD_FILE_lw_train = f\"ml-100k-listwise-{NUM_EXAMPLES_PER_LIST}n-train.tfrecord\"\n",
    "LOCAL_TF_RECORD_lw_train = f\"./{TF_RECORD_FILE_lw_train}\""
   ]
  },
  {
   "cell_type": "code",
   "execution_count": 25,
   "id": "75505dad-4ca8-44ab-9581-81c76d52dd49",
   "metadata": {
    "tags": []
   },
   "outputs": [],
   "source": [
    "data_utils.write_tfrecords(LOCAL_TF_RECORD_lw_train, train_lw, list_wise=True)"
   ]
  },
  {
   "cell_type": "markdown",
   "id": "fc397923-11fd-49ee-b2ff-4776552cd347",
   "metadata": {},
   "source": [
    "#### validate TRAIN TF record file(s)"
   ]
  },
  {
   "cell_type": "code",
   "execution_count": 30,
   "id": "49743b94-b06c-416f-b696-f11e784fcdce",
   "metadata": {},
   "outputs": [
    {
     "name": "stdout",
     "output_type": "stream",
     "text": [
      "{'movie_genres': <tf.Tensor: shape=(1, 5), dtype=int64, numpy=array([[ 7,  4,  7,  7, 10]])>,\n",
      " 'movie_id': <tf.Tensor: shape=(1, 5), dtype=string, numpy=array([[b'898', b'294', b'258', b'1176', b'682']], dtype=object)>,\n",
      " 'user_id': <tf.Tensor: shape=(1,), dtype=string, numpy=array([b'681'], dtype=object)>,\n",
      " 'user_rating': <tf.Tensor: shape=(1, 5), dtype=float32, numpy=array([[4., 5., 1., 4., 1.]], dtype=float32)>}\n"
     ]
    }
   ],
   "source": [
    "# test TF record local\n",
    "tmp_lw_dataset = tf.data.TFRecordDataset(LOCAL_TF_RECORD_lw_train)\n",
    "tmp_lw_dataset = tmp_lw_dataset.map(data_utils.parse_lw_tfrecord)\n",
    "\n",
    "for x in tmp_lw_dataset.batch(1).take(1):\n",
    "    pprint(x)"
   ]
  },
  {
   "cell_type": "code",
   "execution_count": 31,
   "id": "992a5f12-0c15-45e5-82c0-0bccb20cefad",
   "metadata": {},
   "outputs": [],
   "source": [
    "lw_train_prefix = f\"{DATA_GCS_PREFIX}/listwise-{NUM_EXAMPLES_PER_LIST}n-train\"\n",
    "LW_TRAIN_DATA_PATH = f\"{BUCKET_URI}/{lw_train_prefix}\"\n",
    "\n",
    "! gsutil -q cp $LOCAL_TF_RECORD_lw_train $LW_TRAIN_DATA_PATH/"
   ]
  },
  {
   "cell_type": "code",
   "execution_count": 32,
   "id": "17020338-10aa-4a4d-8da3-535f6f397c1a",
   "metadata": {},
   "outputs": [
    {
     "name": "stdout",
     "output_type": "stream",
     "text": [
      "gs://rec-bandits-v2-hybrid-vertex-bucket/data/listwise-5n-train/ml-100k-listwise-5n-train.tfrecord\n"
     ]
    }
   ],
   "source": [
    "# ! gsutil ls $LW_TRAIN_DATA_PATH"
   ]
  },
  {
   "cell_type": "code",
   "execution_count": 33,
   "id": "81b15949-e614-4ecb-abd2-3a21703ccd25",
   "metadata": {},
   "outputs": [
    {
     "name": "stdout",
     "output_type": "stream",
     "text": [
      "{'movie_genres': <tf.Tensor: shape=(1, 5), dtype=int64, numpy=array([[ 7,  4,  7,  7, 10]])>,\n",
      " 'movie_id': <tf.Tensor: shape=(1, 5), dtype=string, numpy=array([[b'898', b'294', b'258', b'1176', b'682']], dtype=object)>,\n",
      " 'user_id': <tf.Tensor: shape=(1,), dtype=string, numpy=array([b'681'], dtype=object)>,\n",
      " 'user_rating': <tf.Tensor: shape=(1, 5), dtype=float32, numpy=array([[4., 5., 1., 4., 1.]], dtype=float32)>}\n"
     ]
    }
   ],
   "source": [
    "test_lw_files = []\n",
    "\n",
    "for blob in storage_client.list_blobs(f\"{BUCKET_NAME}\", prefix=f'{lw_train_prefix}/', delimiter='/'):\n",
    "    if '.tfrecord' in blob.name:\n",
    "        test_lw_files.append(blob.public_url.replace(\"https://storage.googleapis.com/\", \"gs://\"))\n",
    "        \n",
    "tmp_lw_dataset = tf.data.TFRecordDataset(test_lw_files)\n",
    "tmp_lw_dataset = tmp_lw_dataset.map(data_utils.parse_lw_tfrecord)\n",
    "\n",
    "for x in tmp_lw_dataset.batch(1).take(1):\n",
    "    pprint(x)"
   ]
  },
  {
   "cell_type": "markdown",
   "id": "4ca0e367-c23a-4d60-bfb5-9a208fb0fde7",
   "metadata": {},
   "source": [
    "## Create val listwise ds"
   ]
  },
  {
   "cell_type": "code",
   "execution_count": 34,
   "id": "921fd852-a329-4c49-956c-042ae6bdd763",
   "metadata": {},
   "outputs": [],
   "source": [
    "val_lw = data_utils.create_listwise_ds(\n",
    "    val,\n",
    "    num_list_per_user=1,\n",
    "    num_examples_per_list=NUM_EXAMPLES_PER_LIST,\n",
    "    seed=42\n",
    ")"
   ]
  },
  {
   "cell_type": "code",
   "execution_count": 35,
   "id": "4b08ef32-f3e9-475b-937f-40c44d784a10",
   "metadata": {},
   "outputs": [
    {
     "name": "stdout",
     "output_type": "stream",
     "text": [
      "{'movie_genres': <tf.Tensor: shape=(5,), dtype=int64, numpy=array([ 3,  0,  0,  0, 19])>,\n",
      " 'movie_id': <tf.Tensor: shape=(5,), dtype=string, numpy=array([b'94', b'245', b'403', b'50', b'470'], dtype=object)>,\n",
      " 'user_id': <tf.Tensor: shape=(), dtype=string, numpy=b'346'>,\n",
      " 'user_rating': <tf.Tensor: shape=(5,), dtype=float32, numpy=array([3., 4., 3., 5., 3.], dtype=float32)>}\n",
      "{'movie_genres': <tf.Tensor: shape=(5,), dtype=int64, numpy=array([7, 0, 0, 2, 7])>,\n",
      " 'movie_id': <tf.Tensor: shape=(5,), dtype=string, numpy=array([b'678', b'127', b'343', b'1', b'125'], dtype=object)>,\n",
      " 'user_id': <tf.Tensor: shape=(), dtype=string, numpy=b'602'>,\n",
      " 'user_rating': <tf.Tensor: shape=(5,), dtype=float32, numpy=array([4., 5., 2., 4., 4.], dtype=float32)>}\n",
      "{'movie_genres': <tf.Tensor: shape=(5,), dtype=int64, numpy=array([4, 7, 4, 0, 4])>,\n",
      " 'movie_id': <tf.Tensor: shape=(5,), dtype=string, numpy=array([b'168', b'1053', b'26', b'110', b'1048'], dtype=object)>,\n",
      " 'user_id': <tf.Tensor: shape=(), dtype=string, numpy=b'393'>,\n",
      " 'user_rating': <tf.Tensor: shape=(5,), dtype=float32, numpy=array([4., 3., 3., 2., 3.], dtype=float32)>}\n"
     ]
    }
   ],
   "source": [
    "for example in val_lw.take(3):\n",
    "    pprint(example)"
   ]
  },
  {
   "cell_type": "code",
   "execution_count": 36,
   "id": "9fb5890e-61dc-4fd8-9375-a4bf7e1342c3",
   "metadata": {},
   "outputs": [
    {
     "data": {
      "text/plain": [
       "836"
      ]
     },
     "execution_count": 36,
     "metadata": {},
     "output_type": "execute_result"
    }
   ],
   "source": [
    "len(list(val_lw))"
   ]
  },
  {
   "cell_type": "markdown",
   "id": "3017c7bb-0ec1-4685-bca0-c08e4cd0bdf7",
   "metadata": {},
   "source": [
    "### write TF records file"
   ]
  },
  {
   "cell_type": "code",
   "execution_count": 37,
   "id": "9897b50e-f67d-4f4f-8103-bae419f3976d",
   "metadata": {},
   "outputs": [],
   "source": [
    "# val split\n",
    "TF_RECORD_FILE_lw_val = f\"ml-100k-listwise-{NUM_EXAMPLES_PER_LIST}n-val.tfrecord\"\n",
    "LOCAL_TF_RECORD_lw_val = f\"./{TF_RECORD_FILE_lw_val}\""
   ]
  },
  {
   "cell_type": "code",
   "execution_count": 38,
   "id": "2c4bc5df-8dca-479a-85e0-2f21379b564e",
   "metadata": {},
   "outputs": [],
   "source": [
    "data_utils.write_tfrecords(LOCAL_TF_RECORD_lw_val, val_lw, list_wise=True)"
   ]
  },
  {
   "cell_type": "markdown",
   "id": "115ddf56-345d-4bc6-835f-7461b56f14a0",
   "metadata": {},
   "source": [
    "#### validate VAL TF record file(s)"
   ]
  },
  {
   "cell_type": "code",
   "execution_count": 39,
   "id": "1efbcd84-ae93-4da9-a9de-3d2cd8442492",
   "metadata": {},
   "outputs": [
    {
     "name": "stdout",
     "output_type": "stream",
     "text": [
      "{'movie_genres': <tf.Tensor: shape=(1, 5), dtype=int64, numpy=array([[ 3,  0,  0,  0, 19]])>,\n",
      " 'movie_id': <tf.Tensor: shape=(1, 5), dtype=string, numpy=array([[b'94', b'245', b'403', b'50', b'470']], dtype=object)>,\n",
      " 'user_id': <tf.Tensor: shape=(1,), dtype=string, numpy=array([b'346'], dtype=object)>,\n",
      " 'user_rating': <tf.Tensor: shape=(1, 5), dtype=float32, numpy=array([[3., 4., 3., 5., 3.]], dtype=float32)>}\n"
     ]
    }
   ],
   "source": [
    "# test TF record local\n",
    "tmp_lw_dataset = tf.data.TFRecordDataset(LOCAL_TF_RECORD_lw_val)\n",
    "tmp_lw_dataset = tmp_lw_dataset.map(data_utils.parse_lw_tfrecord)\n",
    "\n",
    "for x in tmp_lw_dataset.batch(1).take(1):\n",
    "    pprint(x)"
   ]
  },
  {
   "cell_type": "code",
   "execution_count": 40,
   "id": "25d7b22f-e126-468a-9cc1-6189a842027e",
   "metadata": {},
   "outputs": [],
   "source": [
    "lw_val_prefix = f\"{DATA_GCS_PREFIX}/listwise-{NUM_EXAMPLES_PER_LIST}n-val\"\n",
    "LW_VAL_DATA_PATH = f\"{BUCKET_URI}/{lw_val_prefix}\"\n",
    "\n",
    "! gsutil -q cp $LOCAL_TF_RECORD_lw_val $LW_VAL_DATA_PATH/"
   ]
  },
  {
   "cell_type": "code",
   "execution_count": 41,
   "id": "c8c73ec4-9b52-480d-bab8-df43e45b590f",
   "metadata": {},
   "outputs": [
    {
     "name": "stdout",
     "output_type": "stream",
     "text": [
      "gs://rec-bandits-v2-hybrid-vertex-bucket/data/listwise-5n-val/ml-100k-listwise-5n-val.tfrecord\n"
     ]
    }
   ],
   "source": [
    "# ! gsutil ls $LW_VAL_DATA_PATH"
   ]
  },
  {
   "cell_type": "code",
   "execution_count": 42,
   "id": "0de7724b-dd51-48c0-b4aa-646818378ce3",
   "metadata": {},
   "outputs": [
    {
     "name": "stdout",
     "output_type": "stream",
     "text": [
      "{'movie_genres': <tf.Tensor: shape=(1, 5), dtype=int64, numpy=array([[ 3,  0,  0,  0, 19]])>,\n",
      " 'movie_id': <tf.Tensor: shape=(1, 5), dtype=string, numpy=array([[b'94', b'245', b'403', b'50', b'470']], dtype=object)>,\n",
      " 'user_id': <tf.Tensor: shape=(1,), dtype=string, numpy=array([b'346'], dtype=object)>,\n",
      " 'user_rating': <tf.Tensor: shape=(1, 5), dtype=float32, numpy=array([[3., 4., 3., 5., 3.]], dtype=float32)>}\n"
     ]
    }
   ],
   "source": [
    "test_lw_files = []\n",
    "\n",
    "for blob in storage_client.list_blobs(f\"{BUCKET_NAME}\", prefix=f'{lw_val_prefix}/', delimiter='/'):\n",
    "    if '.tfrecord' in blob.name:\n",
    "        test_lw_files.append(blob.public_url.replace(\"https://storage.googleapis.com/\", \"gs://\"))\n",
    "        \n",
    "tmp_lw_dataset = tf.data.TFRecordDataset(test_lw_files)\n",
    "tmp_lw_dataset = tmp_lw_dataset.map(data_utils.parse_lw_tfrecord)\n",
    "\n",
    "for x in tmp_lw_dataset.batch(1).take(1):\n",
    "    pprint(x)"
   ]
  },
  {
   "cell_type": "markdown",
   "id": "54154d91-333e-4c13-a11f-4fa1c2340255",
   "metadata": {},
   "source": [
    "### get uniques"
   ]
  },
  {
   "cell_type": "code",
   "execution_count": 71,
   "id": "fd916482-424b-487f-aaa1-b2f100eed877",
   "metadata": {},
   "outputs": [
    {
     "data": {
      "text/plain": [
       "1682"
      ]
     },
     "execution_count": 71,
     "metadata": {},
     "output_type": "execute_result"
    }
   ],
   "source": [
    "movies = ratings.map(lambda x: x[\"movie_id\"])\n",
    "unique_movie_ids = np.unique(np.concatenate(list(movies.batch(1000))))\n",
    "\n",
    "len(unique_movie_ids)"
   ]
  },
  {
   "cell_type": "code",
   "execution_count": 72,
   "id": "742fb9ac-78c9-4175-8e8b-b96eef9d6388",
   "metadata": {},
   "outputs": [
    {
     "data": {
      "text/plain": [
       "943"
      ]
     },
     "execution_count": 72,
     "metadata": {},
     "output_type": "execute_result"
    }
   ],
   "source": [
    "users = ratings.map(lambda x: x[\"user_id\"])\n",
    "\n",
    "unique_user_ids = np.unique(np.concatenate(list(users.batch(1000))))\n",
    "\n",
    "len(unique_user_ids)"
   ]
  },
  {
   "cell_type": "markdown",
   "id": "9aceae66-3fa4-4630-ac3e-e0d122970225",
   "metadata": {},
   "source": [
    "# Copy vocab file to GCS"
   ]
  },
  {
   "cell_type": "code",
   "execution_count": 74,
   "id": "eb492c8b-f2b9-45ea-be6d-574daba6cb10",
   "metadata": {},
   "outputs": [
    {
     "name": "stdout",
     "output_type": "stream",
     "text": [
      "Copying file://02-perarm-features-bandit/vocab_dict.pkl [Content-Type=application/octet-stream]...\n",
      "/ [1 files][142.9 KiB/142.9 KiB]                                                \n",
      "Operation completed over 1 objects/142.9 KiB.                                    \n"
     ]
    }
   ],
   "source": [
    "!gsutil cp 02-perarm-features-bandit/vocab_dict.pkl gs://$BUCKET_NAME/$VOCAB_SUBDIR/$VOCAB_FILENAME"
   ]
  },
  {
   "cell_type": "code",
   "execution_count": 75,
   "id": "2d3e2e6a-5318-4fe4-8c4b-3907c555fd1d",
   "metadata": {},
   "outputs": [
    {
     "name": "stdout",
     "output_type": "stream",
     "text": [
      "gs://rec-bandits-v2-hybrid-vertex-bucket/vocabs/vocab_dict.pkl\n"
     ]
    }
   ],
   "source": [
    "!gsutil ls gs://$BUCKET_NAME/$VOCAB_SUBDIR"
   ]
  },
  {
   "cell_type": "markdown",
   "id": "eb75da56-1c5f-43a6-9e8a-6550b3769ba1",
   "metadata": {},
   "source": [
    "**Finished**"
   ]
  }
 ],
 "metadata": {
  "environment": {
   "kernel": "python3",
   "name": "tf2-gpu.2-13.m112",
   "type": "gcloud",
   "uri": "gcr.io/deeplearning-platform-release/tf2-gpu.2-13:m112"
  },
  "kernelspec": {
   "display_name": "Python 3",
   "language": "python",
   "name": "python3"
  },
  "language_info": {
   "codemirror_mode": {
    "name": "ipython",
    "version": 3
   },
   "file_extension": ".py",
   "mimetype": "text/x-python",
   "name": "python",
   "nbconvert_exporter": "python",
   "pygments_lexer": "ipython3",
   "version": "3.10.12"
  }
 },
 "nbformat": 4,
 "nbformat_minor": 5
}
