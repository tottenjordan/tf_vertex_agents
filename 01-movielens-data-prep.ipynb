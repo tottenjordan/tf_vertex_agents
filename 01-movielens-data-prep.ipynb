{
 "cells": [
  {
   "cell_type": "markdown",
   "id": "bef58d66-b85e-49ca-baa1-eae9d3af08b4",
   "metadata": {},
   "source": [
    "# Preparing off-policy training data for RL\n",
    "\n",
    "> \"Off-policy\" refers to the situation where for a data record, given its observation, the current policy in training might not choose the same action as the one in said data record"
   ]
  },
  {
   "cell_type": "markdown",
   "id": "0035c271-1aff-48cc-841f-38470a314aaf",
   "metadata": {
    "tags": []
   },
   "source": [
    "## Load env config\n",
    "\n",
    "* use the prefix from `00-env-setup`"
   ]
  },
  {
   "cell_type": "code",
   "execution_count": 1,
   "id": "c5fe16f7-704a-4d31-96e9-8cd2c1cbc87b",
   "metadata": {},
   "outputs": [
    {
     "name": "stdout",
     "output_type": "stream",
     "text": [
      "PREFIX: rec-bandits-v1\n"
     ]
    }
   ],
   "source": [
    "VERSION        = \"v1\"                       # TODO\n",
    "PREFIX         = f'rec-bandits-{VERSION}'   # TODO\n",
    "\n",
    "print(f\"PREFIX: {PREFIX}\")"
   ]
  },
  {
   "cell_type": "markdown",
   "id": "a0d04e4d-afd5-45f4-a5f5-db4126b3f514",
   "metadata": {},
   "source": [
    "**run the next cell to populate env vars**"
   ]
  },
  {
   "cell_type": "code",
   "execution_count": 2,
   "id": "67fb5c09-bdf4-4a7e-abb9-aae601788a01",
   "metadata": {},
   "outputs": [
    {
     "name": "stdout",
     "output_type": "stream",
     "text": [
      "\n",
      "PROJECT_ID               = \"hybrid-vertex\"\n",
      "PROJECT_NUM              = \"934903580331\"\n",
      "LOCATION                 = \"us-central1\"\n",
      "\n",
      "REGION                   = \"us-central1\"\n",
      "BQ_LOCATION              = \"US\"\n",
      "VPC_NETWORK_NAME         = \"ucaip-haystack-vpc-network\"\n",
      "\n",
      "VERTEX_SA                = \"934903580331-compute@developer.gserviceaccount.com\"\n",
      "\n",
      "PREFIX                   = \"rec-bandits-v1\"\n",
      "VERSION                  = \"v1\"\n",
      "\n",
      "BUCKET_NAME              = \"rec-bandits-v1-hybrid-vertex-bucket\"\n",
      "BUCKET_URI               = \"gs://rec-bandits-v1-hybrid-vertex-bucket\"\n",
      "DATA_GCS_PREFIX          = \"data\"\n",
      "DATA_PATH                = \"gs://rec-bandits-v1-hybrid-vertex-bucket/data\"\n",
      "VOCAB_SUBDIR             = \"vocabs\"\n",
      "VOCAB_FILENAME           = \"vocab_dict.pkl\"\n",
      "\n",
      "VPC_NETWORK_FULL         = \"projects/934903580331/global/networks/ucaip-haystack-vpc-network\"\n",
      "\n",
      "BIGQUERY_DATASET_ID      = \"hybrid_vertex.movielens_ds_rec_bandits_v1\"\n",
      "BIGQUERY_TABLE_ID        = \"hybrid_vertex.movielens_ds_rec_bandits_v1.training_dataset\"\n",
      "\n",
      "REPO_DOCKER_PATH_PREFIX  = \"src\"\n",
      "RL_SUB_DIR               = \"per_arm_rl\"\n",
      "\n",
      "REPOSITORY               = \"rl-movielens-rec-bandits-v1\"\n",
      "IMAGE_NAME               = \"train-perarm-feats-v1\"\n",
      "REMOTE_IMAGE_NAME        = \"us-central1-docker.pkg.dev/hybrid-vertex/rl-movielens-rec-bandits-v1/train-perarm-feats-v1\"\n",
      "DOCKERNAME               = \"Dockerfile_perarm_feats\"\n",
      "\n"
     ]
    }
   ],
   "source": [
    "# staging GCS\n",
    "GCP_PROJECTS             = !gcloud config get-value project\n",
    "PROJECT_ID               = GCP_PROJECTS[0]\n",
    "\n",
    "# GCS bucket and paths\n",
    "BUCKET_NAME              = f'{PREFIX}-{PROJECT_ID}-bucket'\n",
    "BUCKET_URI               = f'gs://{BUCKET_NAME}'\n",
    "\n",
    "config = !gsutil cat {BUCKET_URI}/config/notebook_env.py\n",
    "print(config.n)\n",
    "exec(config.n)"
   ]
  },
  {
   "cell_type": "code",
   "execution_count": 3,
   "id": "e10356aa-db4d-48e9-974f-caee57a3a29c",
   "metadata": {},
   "outputs": [
    {
     "name": "stdout",
     "output_type": "stream",
     "text": [
      "gs://rec-bandits-v1-hybrid-vertex-bucket/config/\n",
      "gs://rec-bandits-v1-hybrid-vertex-bucket/data/\n"
     ]
    }
   ],
   "source": [
    "! gsutil ls $BUCKET_URI"
   ]
  },
  {
   "cell_type": "markdown",
   "id": "20ff6716-afc3-4456-8784-f8f1d4796671",
   "metadata": {},
   "source": [
    "## imports"
   ]
  },
  {
   "cell_type": "code",
   "execution_count": 4,
   "id": "86c8c72b-6472-47b5-836d-c924c75859a2",
   "metadata": {},
   "outputs": [],
   "source": [
    "import os\n",
    "os.environ['TF_CPP_MIN_LOG_LEVEL'] = '2'"
   ]
  },
  {
   "cell_type": "code",
   "execution_count": 5,
   "id": "5be08889-6644-46ac-bd9b-1ce6c2d533d0",
   "metadata": {},
   "outputs": [],
   "source": [
    "import numpy as np\n",
    "import sys\n",
    "import time\n",
    "from pprint import pprint\n",
    "from IPython import display\n",
    "import matplotlib.pyplot as plt\n",
    "\n",
    "import logging\n",
    "logging.disable(logging.WARNING)\n",
    "\n",
    "import tensorflow as tf\n",
    "import tensorflow_datasets as tfds\n",
    "import tensorflow_recommenders as tfrs\n",
    "\n",
    "# GPU\n",
    "from numba import cuda\n",
    "import gc\n",
    "\n",
    "# google cloud\n",
    "from google.cloud import aiplatform, storage\n",
    "\n",
    "from src.per_arm_rl import data_utils\n",
    "from src.per_arm_rl import data_config # as data_config"
   ]
  },
  {
   "cell_type": "code",
   "execution_count": 6,
   "id": "851a6ded-cf88-47b6-a31a-b0cfe28b6951",
   "metadata": {},
   "outputs": [
    {
     "data": {
      "text/plain": [
       "[PhysicalDevice(name='/physical_device:GPU:0', device_type='GPU')]"
      ]
     },
     "execution_count": 6,
     "metadata": {},
     "output_type": "execute_result"
    }
   ],
   "source": [
    "gpus = tf.config.experimental.list_physical_devices('GPU')\n",
    "for gpu in gpus:\n",
    "    tf.config.experimental.set_memory_growth(gpu, True)\n",
    "    \n",
    "gpus"
   ]
  },
  {
   "cell_type": "code",
   "execution_count": 8,
   "id": "61009c45-dbf3-494c-a67f-72d2b9aa9c59",
   "metadata": {},
   "outputs": [
    {
     "data": {
      "text/plain": [
       "14"
      ]
     },
     "execution_count": 8,
     "metadata": {},
     "output_type": "execute_result"
    }
   ],
   "source": [
    "device = cuda.get_current_device()\n",
    "device.reset()\n",
    "gc.collect()"
   ]
  },
  {
   "cell_type": "markdown",
   "id": "17326c68-5251-486d-9558-57f42b932ca7",
   "metadata": {},
   "source": [
    "### Initialize GCP clients"
   ]
  },
  {
   "cell_type": "code",
   "execution_count": 9,
   "id": "60ac9153-79b0-473f-98bf-a59237463ae6",
   "metadata": {},
   "outputs": [],
   "source": [
    "# cloud storage client\n",
    "storage_client = storage.Client(project=PROJECT_ID)\n",
    "\n",
    "# Vertex client\n",
    "aiplatform.init(project=PROJECT_ID, location=LOCATION)"
   ]
  },
  {
   "cell_type": "markdown",
   "id": "cad05d51-44be-4e80-a948-4969476ea0bc",
   "metadata": {
    "tags": []
   },
   "source": [
    "### Create `data_utils.py`\n",
    "\n",
    "> this will be used to support data processing throughout the development workflow"
   ]
  },
  {
   "cell_type": "markdown",
   "id": "b17762dd-50c3-48a1-b061-ed7575373754",
   "metadata": {},
   "source": [
    "## Prepare Movielens dataset"
   ]
  },
  {
   "cell_type": "markdown",
   "id": "37fd55a7-c3a5-4a44-981f-9ed3d22da39b",
   "metadata": {},
   "source": [
    "### load data from Tensorflow Datasets\n",
    "\n",
    "* see [TFDS documentation](https://www.tensorflow.org/datasets/catalog/movielens#movielens100k-ratings) for more details on this dataset, feature descriptions, and other versions"
   ]
  },
  {
   "cell_type": "code",
   "execution_count": 10,
   "id": "b870c306-0bb5-454d-82d4-a1a086480e30",
   "metadata": {},
   "outputs": [
    {
     "name": "stdout",
     "output_type": "stream",
     "text": [
      "{'bucketized_user_age': <tf.Tensor: shape=(1,), dtype=float32, numpy=array([45.], dtype=float32)>,\n",
      " 'movie_genres': <tf.Tensor: shape=(1, 1), dtype=int64, numpy=array([[7]])>,\n",
      " 'movie_id': <tf.Tensor: shape=(1,), dtype=string, numpy=array([b'357'], dtype=object)>,\n",
      " 'movie_title': <tf.Tensor: shape=(1,), dtype=string, numpy=array([b\"One Flew Over the Cuckoo's Nest (1975)\"], dtype=object)>,\n",
      " 'raw_user_age': <tf.Tensor: shape=(1,), dtype=float32, numpy=array([46.], dtype=float32)>,\n",
      " 'timestamp': <tf.Tensor: shape=(1,), dtype=int64, numpy=array([879024327])>,\n",
      " 'user_gender': <tf.Tensor: shape=(1,), dtype=bool, numpy=array([ True])>,\n",
      " 'user_id': <tf.Tensor: shape=(1,), dtype=string, numpy=array([b'138'], dtype=object)>,\n",
      " 'user_occupation_label': <tf.Tensor: shape=(1,), dtype=int64, numpy=array([4])>,\n",
      " 'user_occupation_text': <tf.Tensor: shape=(1,), dtype=string, numpy=array([b'doctor'], dtype=object)>,\n",
      " 'user_rating': <tf.Tensor: shape=(1,), dtype=float32, numpy=array([4.], dtype=float32)>,\n",
      " 'user_zip_code': <tf.Tensor: shape=(1,), dtype=string, numpy=array([b'53211'], dtype=object)>}\n"
     ]
    }
   ],
   "source": [
    "ratings = tfds.load(\"movielens/100k-ratings\", split=\"train\")\n",
    "\n",
    "for x in ratings.batch(1).take(1):\n",
    "    pprint(x)"
   ]
  },
  {
   "cell_type": "code",
   "execution_count": 11,
   "id": "0ccc32a3-9fa2-428b-83ba-0de1f006ffd0",
   "metadata": {},
   "outputs": [],
   "source": [
    "tf.random.set_seed(42)\n",
    "shuffled = ratings.shuffle(100_000, seed=42, reshuffle_each_iteration=False)\n",
    "\n",
    "train = shuffled.take(80_000)\n",
    "val = shuffled.skip(80_000).take(20_000)"
   ]
  },
  {
   "cell_type": "markdown",
   "id": "53de08f1-f581-4437-9d46-89ec79b18f7f",
   "metadata": {},
   "source": [
    "### write dataset to TF Records"
   ]
  },
  {
   "cell_type": "code",
   "execution_count": 12,
   "id": "0ba4cc81-ee20-4adc-8ff8-ac01e0da0125",
   "metadata": {},
   "outputs": [
    {
     "name": "stdout",
     "output_type": "stream",
     "text": [
      "FULL_DATA_PATH   : gs://rec-bandits-v1-hybrid-vertex-bucket/data\n",
      "TRAIN_DATA_PATH  : gs://rec-bandits-v1-hybrid-vertex-bucket/data/train\n",
      "VAL_DATA_PATH    : gs://rec-bandits-v1-hybrid-vertex-bucket/data/val\n"
     ]
    }
   ],
   "source": [
    "# full dataset\n",
    "TF_RECORD_FILE_full = \"ml-ratings-100k-full.tfrecord\"\n",
    "LOCAL_TF_RECORD_full = f\"./{TF_RECORD_FILE_full}\"\n",
    "\n",
    "# train split\n",
    "TF_RECORD_FILE_train = \"ml-ratings-100k-train.tfrecord\"\n",
    "LOCAL_TF_RECORD_train = f\"./{TF_RECORD_FILE_train}\"\n",
    "\n",
    "# val split\n",
    "TF_RECORD_FILE_val = \"ml-ratings-100k-val.tfrecord\"\n",
    "LOCAL_TF_RECORD_val = f\"./{TF_RECORD_FILE_val}\"\n",
    "\n",
    "# paths\n",
    "FULL_DATA_PATH = f\"{DATA_PATH}\"\n",
    "TRAIN_DATA_PATH = f\"{DATA_PATH}/train\"\n",
    "VAL_DATA_PATH = f\"{DATA_PATH}/val\"\n",
    "\n",
    "print(f\"FULL_DATA_PATH   : {FULL_DATA_PATH}\")\n",
    "print(f\"TRAIN_DATA_PATH  : {TRAIN_DATA_PATH}\")\n",
    "print(f\"VAL_DATA_PATH    : {VAL_DATA_PATH}\")"
   ]
  },
  {
   "cell_type": "code",
   "execution_count": 13,
   "id": "726ea348-c0d3-4fbb-8d4d-1dd37887ae1e",
   "metadata": {},
   "outputs": [],
   "source": [
    "data_utils.write_tfrecords(TF_RECORD_FILE_full, ratings, list_wise=False)"
   ]
  },
  {
   "cell_type": "code",
   "execution_count": 14,
   "id": "45de7fb7-952a-43e3-8768-69887118f8fb",
   "metadata": {},
   "outputs": [],
   "source": [
    "data_utils.write_tfrecords(TF_RECORD_FILE_train, train, list_wise=False)"
   ]
  },
  {
   "cell_type": "code",
   "execution_count": 15,
   "id": "f487f06d-dad9-48f8-9d80-719251b56dbb",
   "metadata": {},
   "outputs": [],
   "source": [
    "data_utils.write_tfrecords(TF_RECORD_FILE_val, val, list_wise=False)"
   ]
  },
  {
   "cell_type": "markdown",
   "id": "e784205b-3c94-4aec-b271-e9bef7fdf9ee",
   "metadata": {},
   "source": [
    "### save TF Records to GCS"
   ]
  },
  {
   "cell_type": "code",
   "execution_count": 16,
   "id": "1ee120b0-dc8e-4f17-92bc-2139963d5579",
   "metadata": {},
   "outputs": [],
   "source": [
    "# LOCAL_TF_RECORD = f\"./{TF_RECORD_FILE}\"\n",
    "# ! gsutil -q cp $LOCAL_TF_RECORD $DATA_PATH/train/\n",
    "# ! gsutil ls $DATA_PATH\n",
    "\n",
    "! gsutil -q cp $LOCAL_TF_RECORD_full $FULL_DATA_PATH/\n",
    "! gsutil -q cp $LOCAL_TF_RECORD_train $TRAIN_DATA_PATH/\n",
    "! gsutil -q cp $LOCAL_TF_RECORD_val $VAL_DATA_PATH/"
   ]
  },
  {
   "cell_type": "code",
   "execution_count": 17,
   "id": "ccf90898-11a6-4274-aec2-297feec8e419",
   "metadata": {},
   "outputs": [
    {
     "name": "stdout",
     "output_type": "stream",
     "text": [
      "gs://rec-bandits-v1-hybrid-vertex-bucket/data/ml-ratings-100k-full.tfrecord\n",
      "gs://rec-bandits-v1-hybrid-vertex-bucket/data/train/\n",
      "gs://rec-bandits-v1-hybrid-vertex-bucket/data/val/\n"
     ]
    }
   ],
   "source": [
    "! gsutil ls $DATA_PATH"
   ]
  },
  {
   "cell_type": "markdown",
   "id": "b7a150e2-29c1-42e5-b513-85f6b27bafd6",
   "metadata": {},
   "source": [
    "## validate TF Records"
   ]
  },
  {
   "cell_type": "code",
   "execution_count": 20,
   "id": "afdbc480-8977-4caf-b08f-29a665ef3f3e",
   "metadata": {},
   "outputs": [
    {
     "data": {
      "text/plain": [
       "['gs://rec-bandits-v1-hybrid-vertex-bucket/data/ml-ratings-100k-full.tfrecord']"
      ]
     },
     "execution_count": 20,
     "metadata": {},
     "output_type": "execute_result"
    }
   ],
   "source": [
    "train_files = []\n",
    "for blob in storage_client.list_blobs(f\"{BUCKET_NAME}\", prefix=f'{DATA_GCS_PREFIX}/', delimiter='/'):\n",
    "    if '.tfrecord' in blob.name:\n",
    "        train_files.append(blob.public_url.replace(\"https://storage.googleapis.com/\", \"gs://\"))\n",
    "        \n",
    "train_files"
   ]
  },
  {
   "cell_type": "code",
   "execution_count": 21,
   "id": "7bde3b62-cf77-4750-ab69-47638cbc7184",
   "metadata": {},
   "outputs": [
    {
     "data": {
      "text/plain": [
       "<TFRecordDatasetV2 element_spec=TensorSpec(shape=(), dtype=tf.string, name=None)>"
      ]
     },
     "execution_count": 21,
     "metadata": {},
     "output_type": "execute_result"
    }
   ],
   "source": [
    "train_dataset = tf.data.TFRecordDataset(train_files)\n",
    "\n",
    "train_dataset"
   ]
  },
  {
   "cell_type": "code",
   "execution_count": 22,
   "id": "a1cb0935-4de2-4812-a983-414ca17755cd",
   "metadata": {},
   "outputs": [
    {
     "name": "stdout",
     "output_type": "stream",
     "text": [
      "{'bucketized_user_age': <tf.Tensor: shape=(1,), dtype=float32, numpy=array([45.], dtype=float32)>,\n",
      " 'movie_genres': <tf.Tensor: shape=(1, 1), dtype=int64, numpy=array([[7]])>,\n",
      " 'movie_id': <tf.Tensor: shape=(1,), dtype=string, numpy=array([b'357'], dtype=object)>,\n",
      " 'timestamp': <tf.Tensor: shape=(1,), dtype=int64, numpy=array([879024327])>,\n",
      " 'user_id': <tf.Tensor: shape=(1,), dtype=string, numpy=array([b'138'], dtype=object)>,\n",
      " 'user_occupation_text': <tf.Tensor: shape=(1,), dtype=string, numpy=array([b'doctor'], dtype=object)>,\n",
      " 'user_rating': <tf.Tensor: shape=(1,), dtype=float32, numpy=array([4.], dtype=float32)>}\n"
     ]
    }
   ],
   "source": [
    "train_dataset = train_dataset.map(data_utils.parse_tfrecord)\n",
    "\n",
    "for x in train_dataset.batch(1).take(1):\n",
    "    pprint(x)"
   ]
  },
  {
   "cell_type": "markdown",
   "id": "add6d7f1-aa8a-4459-8d7a-e8f6363edede",
   "metadata": {},
   "source": [
    "## Generate look-up dicts\n",
    "\n",
    "**TODO** - use more Tensorflow native method for generating vocabs and stats"
   ]
  },
  {
   "cell_type": "markdown",
   "id": "c73e451f-865d-4614-a77d-a1ef1dce0714",
   "metadata": {},
   "source": [
    "### unique IDs"
   ]
  },
  {
   "cell_type": "code",
   "execution_count": 23,
   "id": "8b468833-642b-436f-8ddb-692f9221e38f",
   "metadata": {},
   "outputs": [
    {
     "name": "stdout",
     "output_type": "stream",
     "text": [
      "len(unique_movie_ids) : 1682\n",
      "unique_movie_ids      : [b'1' b'10']\n"
     ]
    }
   ],
   "source": [
    "# Get the unique movies and users\n",
    "unique_movie_ids = train_dataset.map(lambda x: x[\"movie_id\"])\n",
    "\n",
    "unique_movie_ids = np.unique([x.numpy() for x in unique_movie_ids])\n",
    "\n",
    "MOVIELENS_NUM_MOVIES = len(unique_movie_ids)\n",
    "\n",
    "print(f\"len(unique_movie_ids) : {len(unique_movie_ids)}\")\n",
    "print(f\"unique_movie_ids      : {unique_movie_ids[:2]}\")"
   ]
  },
  {
   "cell_type": "code",
   "execution_count": 24,
   "id": "889c41d2-c4df-496a-8424-bba6bb3d0aae",
   "metadata": {},
   "outputs": [
    {
     "name": "stdout",
     "output_type": "stream",
     "text": [
      "len(unique_occ_ids) : 21\n",
      "unique_occ_ids      : [b'administrator' b'artist']\n"
     ]
    }
   ],
   "source": [
    "# Get the unique movies and users\n",
    "# unique_movie_ids = ratings.map(lambda x: x[\"movie_id\"])\n",
    "unique_occ_ids = train_dataset.map(lambda x: x[\"user_occupation_text\"])\n",
    "\n",
    "unique_occ_ids = np.unique([x.numpy() for x in unique_occ_ids])\n",
    "\n",
    "NUM_OCCS = len(unique_occ_ids)\n",
    "\n",
    "print(f\"len(unique_occ_ids) : {len(unique_occ_ids)}\")\n",
    "print(f\"unique_occ_ids      : {unique_occ_ids[:2]}\")"
   ]
  },
  {
   "cell_type": "code",
   "execution_count": 25,
   "id": "089c1bf7-f5ac-4343-8dae-a8f1c908a9a6",
   "metadata": {},
   "outputs": [
    {
     "name": "stdout",
     "output_type": "stream",
     "text": [
      "len(unique_user_ids) : 943\n",
      "unique_user_ids      : [b'1' b'10']\n"
     ]
    }
   ],
   "source": [
    "# unique_user_ids = ratings.map(lambda x: x[\"user_id\"])\n",
    "unique_user_ids = train_dataset.map(lambda x: x[\"user_id\"])\n",
    "\n",
    "unique_user_ids = np.unique([x.numpy() for x in unique_user_ids])\n",
    "\n",
    "MOVIELENS_NUM_USERS = len(unique_user_ids)\n",
    "\n",
    "print(f\"len(unique_user_ids) : {len(unique_user_ids)}\")\n",
    "print(f\"unique_user_ids      : {unique_user_ids[:2]}\")"
   ]
  },
  {
   "cell_type": "markdown",
   "id": "e507fd5b-c398-41ea-8b5c-7a6b7e4886d2",
   "metadata": {},
   "source": [
    "### lookup dictionaries"
   ]
  },
  {
   "cell_type": "code",
   "execution_count": 26,
   "id": "b17cf48c-e0e2-4d65-9b4b-25d7c50d0502",
   "metadata": {},
   "outputs": [
    {
     "name": "stdout",
     "output_type": "stream",
     "text": [
      "USER_AGE_DIM: 7\n"
     ]
    },
    {
     "data": {
      "text/plain": [
       "{1.0: 0, 35.0: 1, 45.0: 2, 18.0: 3, 50.0: 4, 56.0: 5, 25.0: 6}"
      ]
     },
     "execution_count": 26,
     "metadata": {},
     "output_type": "execute_result"
    }
   ],
   "source": [
    "USER_AGE_LOOKUP = data_utils.get_dictionary_lookup_by_tf_data_key(\n",
    "    key = 'bucketized_user_age'\n",
    "    , dataset= train_dataset\n",
    ")\n",
    "\n",
    "USER_AGE_DIM = len(USER_AGE_LOOKUP)\n",
    "print(f\"USER_AGE_DIM: {USER_AGE_DIM}\")\n",
    "\n",
    "USER_AGE_LOOKUP"
   ]
  },
  {
   "cell_type": "code",
   "execution_count": 27,
   "id": "188f1142-c814-4f6f-9ae6-9dddeaa1005b",
   "metadata": {
    "tags": []
   },
   "outputs": [
    {
     "name": "stdout",
     "output_type": "stream",
     "text": [
      "USER_OCC_DIM: 21\n"
     ]
    }
   ],
   "source": [
    "USER_OCC_LOOKUP = data_utils.get_dictionary_lookup_by_tf_data_key(\n",
    "    key = 'user_occupation_text'\n",
    "    , dataset= train_dataset\n",
    ")\n",
    "USER_OCC_DIM = len(USER_OCC_LOOKUP)\n",
    "print(f\"USER_OCC_DIM: {USER_OCC_DIM}\")\n",
    "\n",
    "# USER_OCC_LOOKUP"
   ]
  },
  {
   "cell_type": "code",
   "execution_count": 28,
   "id": "3b6aafa8-8550-417a-8a67-ff602d79c8c5",
   "metadata": {
    "tags": []
   },
   "outputs": [
    {
     "name": "stdout",
     "output_type": "stream",
     "text": [
      "MOVIE_GEN_DIM: 19\n"
     ]
    }
   ],
   "source": [
    "MOVIE_GEN_LOOKUP = data_utils.get_dictionary_lookup_by_tf_data_key(\n",
    "    key = 'movie_genres'\n",
    "    , dataset= train_dataset\n",
    ")\n",
    "MOVIE_GEN_DIM = len(MOVIE_GEN_LOOKUP)\n",
    "print(f\"MOVIE_GEN_DIM: {MOVIE_GEN_DIM}\")\n",
    "\n",
    "# MOVIE_GEN_LOOKUP"
   ]
  },
  {
   "cell_type": "markdown",
   "id": "4e68a8e3-c56c-40d8-9544-992e62488b3b",
   "metadata": {
    "tags": []
   },
   "source": [
    "## create `data_config.py`\n",
    "\n",
    "> write data config for subsequent notebooks"
   ]
  },
  {
   "cell_type": "code",
   "execution_count": 29,
   "id": "1557f99e-9fa4-4fd6-9c1b-96b42f9b353d",
   "metadata": {},
   "outputs": [],
   "source": [
    "config = f'''\n",
    "USER_AGE_LOOKUP       = {USER_AGE_LOOKUP}\n",
    "USER_AGE_DIM          = {USER_AGE_DIM}\n",
    "\n",
    "USER_OCC_LOOKUP       = {USER_OCC_LOOKUP}\n",
    "USER_OCC_DIM          = {USER_OCC_DIM}\n",
    "\n",
    "MOVIE_GEN_LOOKUP      = {MOVIE_GEN_LOOKUP}\n",
    "MOVIE_GEN_DIM         = {MOVIE_GEN_DIM}\n",
    "\n",
    "MOVIELENS_NUM_MOVIES  = {MOVIELENS_NUM_MOVIES}\n",
    "MOVIELENS_NUM_USERS   = {MOVIELENS_NUM_USERS}\n",
    "'''\n",
    "# TODO - cleanup\n",
    "with open(f'{REPO_DOCKER_PATH_PREFIX}/{RL_SUB_DIR}/data_config.py', 'w') as f:\n",
    "    f.write(config)"
   ]
  },
  {
   "cell_type": "markdown",
   "id": "dd1c21b7-1778-486a-9cd8-048fc41df4f1",
   "metadata": {
    "tags": []
   },
   "source": [
    "### Validate creating the ratings matrix"
   ]
  },
  {
   "cell_type": "code",
   "execution_count": 30,
   "id": "fe4ca765-7c25-43c6-8191-68e06360cb53",
   "metadata": {},
   "outputs": [],
   "source": [
    "from src.per_arm_rl import data_config as data_config"
   ]
  },
  {
   "cell_type": "code",
   "execution_count": 31,
   "id": "38b07ca7-f609-46cf-8234-6ceb4e4c1fec",
   "metadata": {},
   "outputs": [
    {
     "data": {
      "text/plain": [
       "{1.0: 0, 35.0: 1, 45.0: 2, 18.0: 3, 50.0: 4, 56.0: 5, 25.0: 6}"
      ]
     },
     "execution_count": 31,
     "metadata": {},
     "output_type": "execute_result"
    }
   ],
   "source": [
    "data_config.USER_AGE_LOOKUP"
   ]
  },
  {
   "cell_type": "code",
   "execution_count": 32,
   "id": "c5625bfa-c1b8-4fc0-8c91-1f9569ce84ca",
   "metadata": {
    "tags": []
   },
   "outputs": [
    {
     "data": {
      "text/plain": [
       "{b'none': 0,\n",
       " b'technician': 1,\n",
       " b'executive': 2,\n",
       " b'other': 3,\n",
       " b'homemaker': 4,\n",
       " b'programmer': 5,\n",
       " b'student': 6,\n",
       " b'doctor': 7,\n",
       " b'administrator': 8,\n",
       " b'artist': 9,\n",
       " b'entertainment': 10,\n",
       " b'healthcare': 11,\n",
       " b'librarian': 12,\n",
       " b'engineer': 13,\n",
       " b'marketing': 14,\n",
       " b'lawyer': 15,\n",
       " b'educator': 16,\n",
       " b'salesman': 17,\n",
       " b'writer': 18,\n",
       " b'scientist': 19,\n",
       " b'retired': 20}"
      ]
     },
     "execution_count": 32,
     "metadata": {},
     "output_type": "execute_result"
    }
   ],
   "source": [
    "data_config.USER_OCC_LOOKUP"
   ]
  },
  {
   "cell_type": "code",
   "execution_count": 33,
   "id": "54b19bdd-1564-4781-b1b9-6a2bef3fab93",
   "metadata": {
    "tags": []
   },
   "outputs": [
    {
     "data": {
      "text/plain": [
       "{0: 0,\n",
       " 1: 1,\n",
       " 2: 2,\n",
       " 3: 3,\n",
       " 4: 4,\n",
       " 5: 5,\n",
       " 6: 6,\n",
       " 7: 7,\n",
       " 8: 8,\n",
       " 9: 9,\n",
       " 10: 10,\n",
       " 12: 11,\n",
       " 13: 12,\n",
       " 14: 13,\n",
       " 15: 14,\n",
       " 16: 15,\n",
       " 17: 16,\n",
       " 18: 17,\n",
       " 19: 18}"
      ]
     },
     "execution_count": 33,
     "metadata": {},
     "output_type": "execute_result"
    }
   ],
   "source": [
    "data_config.MOVIE_GEN_LOOKUP"
   ]
  },
  {
   "cell_type": "code",
   "execution_count": 34,
   "id": "fc9d1512-9318-46dd-999d-f87f9c9d9b2f",
   "metadata": {},
   "outputs": [],
   "source": [
    "# test_dataset_load = data_utils.load_movielens_ratings(\n",
    "#     ratings_dataset = train_dataset\n",
    "#     , num_users = data_config.MOVIELENS_NUM_USERS\n",
    "#     , num_movies = data_config.MOVIELENS_NUM_MOVIES\n",
    "#     , user_age_lookup_dict = data_config.USER_AGE_LOOKUP\n",
    "#     , user_occ_lookup_dict = data_config.USER_OCC_LOOKUP\n",
    "#     , movie_gen_lookup_dict = data_config.MOVIE_GEN_LOOKUP\n",
    "# )\n",
    "\n",
    "# test_dataset_load"
   ]
  },
  {
   "cell_type": "code",
   "execution_count": 35,
   "id": "f55014ae-fc94-4a1a-a2dd-fde3970b5387",
   "metadata": {},
   "outputs": [],
   "source": [
    "# ratings_matrix = test_dataset_load[0]\n",
    "# print(ratings_matrix.shape)\n",
    "# ratings_matrix"
   ]
  },
  {
   "cell_type": "markdown",
   "id": "7c88f5ea-0d35-430f-82f7-643797d8c861",
   "metadata": {},
   "source": [
    "# Data splits"
   ]
  },
  {
   "cell_type": "code",
   "execution_count": 36,
   "id": "4472f001-870d-4075-85c9-1d143b3a2928",
   "metadata": {},
   "outputs": [],
   "source": [
    "# tf.random.set_seed(42)\n",
    "# shuffled = ratings.shuffle(100_000, seed=42, reshuffle_each_iteration=False)\n",
    "\n",
    "# train = shuffled.take(80_000)\n",
    "# test = shuffled.skip(80_000).take(20_000)"
   ]
  },
  {
   "cell_type": "code",
   "execution_count": 37,
   "id": "720e135e-3397-42bf-bb62-782e962c95a9",
   "metadata": {},
   "outputs": [],
   "source": [
    "# for x in train.batch(1).take(1):\n",
    "#     pprint(x)"
   ]
  },
  {
   "cell_type": "code",
   "execution_count": 38,
   "id": "173fc850-0989-46d5-891e-0b097a8a1701",
   "metadata": {},
   "outputs": [],
   "source": [
    "# for x in val.batch(1).take(1):\n",
    "#     pprint(x)"
   ]
  },
  {
   "cell_type": "markdown",
   "id": "5e0bae96-18d4-4805-b853-10190b60670f",
   "metadata": {},
   "source": [
    "### write TF Records"
   ]
  },
  {
   "cell_type": "code",
   "execution_count": 39,
   "id": "25610e02-8902-4be5-b034-13330f1d0d0f",
   "metadata": {},
   "outputs": [],
   "source": [
    "# TF_RECORD_FILE_train = \"ml-ratings-100k-train.tfrecord\"\n",
    "# LOCAL_TF_RECORD_train = f\"./{TF_RECORD_FILE_train}\"\n",
    "\n",
    "# TF_RECORD_FILE_val = \"ml-ratings-100k-val.tfrecord\"\n",
    "# LOCAL_TF_RECORD_val = f\"./{TF_RECORD_FILE_val}\"\n",
    "\n",
    "# TRAIN_DATA_PATH = f\"{DATA_PATH}/train\"\n",
    "# VAL_DATA_PATH = f\"{DATA_PATH}/val\"\n",
    "\n",
    "# print(f\"TRAIN_DATA_PATH  : {TRAIN_DATA_PATH}\")\n",
    "# print(f\"VAL_DATA_PATH    : {VAL_DATA_PATH}\")"
   ]
  },
  {
   "cell_type": "code",
   "execution_count": 40,
   "id": "8034f48a-fd06-4f76-9f07-ba8142053625",
   "metadata": {},
   "outputs": [],
   "source": [
    "# data_utils.write_tfrecords(TF_RECORD_FILE_train, train)"
   ]
  },
  {
   "cell_type": "code",
   "execution_count": 41,
   "id": "acec3b8c-f28e-4729-a79e-be89dd746d82",
   "metadata": {},
   "outputs": [],
   "source": [
    "# data_utils.write_tfrecords(TF_RECORD_FILE_val, val)"
   ]
  },
  {
   "cell_type": "code",
   "execution_count": 42,
   "id": "27f8a411-73af-4bbf-8749-aee2727f1e25",
   "metadata": {},
   "outputs": [],
   "source": [
    "# ! gsutil -q cp $LOCAL_TF_RECORD_train $TRAIN_DATA_PATH/\n",
    "# ! gsutil -q cp $LOCAL_TF_RECORD_val $VAL_DATA_PATH/"
   ]
  },
  {
   "cell_type": "code",
   "execution_count": 43,
   "id": "39772781-5f4d-4374-868f-ec97c11375d1",
   "metadata": {},
   "outputs": [],
   "source": [
    "# ! gsutil ls $DATA_PATH"
   ]
  },
  {
   "cell_type": "markdown",
   "id": "2bc90ffc-d2fd-4136-872f-9f7d7aa6b3b4",
   "metadata": {},
   "source": [
    "### validate TF Records"
   ]
  },
  {
   "cell_type": "code",
   "execution_count": 44,
   "id": "429a30d0-91da-4b0b-bac2-0708d981eb4b",
   "metadata": {},
   "outputs": [],
   "source": [
    "# ## validate\n",
    "\n",
    "# train_files = []\n",
    "# for blob in storage_client.list_blobs(f\"{BUCKET_NAME}\", prefix=f'{DATA_GCS_PREFIX}/train'):\n",
    "#     if '.tfrecord' in blob.name:\n",
    "#         train_files.append(blob.public_url.replace(\"https://storage.googleapis.com/\", \"gs://\"))\n",
    "        \n",
    "# train_files"
   ]
  },
  {
   "cell_type": "code",
   "execution_count": 45,
   "id": "690f448f-7646-4cf6-9ca5-5026f89293d1",
   "metadata": {},
   "outputs": [],
   "source": [
    "# train_dataset = tf.data.TFRecordDataset(train_files)\n",
    "\n",
    "# train_dataset = train_dataset.map(data_utils.parse_tfrecord)\n",
    "\n",
    "# for x in train_dataset.batch(1).take(1):\n",
    "#     pprint(x)"
   ]
  },
  {
   "cell_type": "code",
   "execution_count": 46,
   "id": "5185e569-fdcd-43c9-841f-dbbf1af5f03e",
   "metadata": {},
   "outputs": [],
   "source": [
    "# # Get the unique movies and users\n",
    "# unique_user_ratings = train_dataset.map(lambda x: x[\"user_rating\"])\n",
    "\n",
    "# unique_user_ratings = np.unique([x.numpy() for x in unique_user_ratings])\n",
    "\n",
    "# unique_user_ratings"
   ]
  },
  {
   "cell_type": "markdown",
   "id": "1c9370b8-85fb-420d-8812-a01c7f6baa94",
   "metadata": {},
   "source": [
    "# Ranking Data (listwise)"
   ]
  },
  {
   "cell_type": "code",
   "execution_count": 47,
   "id": "25f1ea59-3ef8-4c7b-91fe-d78fd11dbdae",
   "metadata": {},
   "outputs": [],
   "source": [
    "# ratings = ratings.map(lambda x: {\n",
    "#     \"movie_title\": x[\"movie_title\"],\n",
    "#     \"user_id\": x[\"user_id\"],\n",
    "#     \"user_rating\": x[\"user_rating\"],\n",
    "# })\n",
    "\n",
    "# ratings"
   ]
  },
  {
   "cell_type": "code",
   "execution_count": 48,
   "id": "3bb594d8-dd9e-464a-8532-83dc898d2e13",
   "metadata": {},
   "outputs": [],
   "source": [
    "# unique_user_ids = np.unique(\n",
    "#     np.concatenate(list(ratings.batch(1_000).map(lambda x: x[\"user_id\"])))\n",
    "# )"
   ]
  },
  {
   "cell_type": "code",
   "execution_count": 49,
   "id": "305fd71d-dbde-4237-b49e-f8645d2ff625",
   "metadata": {},
   "outputs": [],
   "source": [
    "# for x in ratings.batch(1).take(1):\n",
    "#     pprint(x)"
   ]
  },
  {
   "cell_type": "code",
   "execution_count": 50,
   "id": "e8a5cedd-835c-47a9-ac7f-eff4f67a3402",
   "metadata": {},
   "outputs": [],
   "source": [
    "# movies = tfds.load(\"movielens/100k-movies\", split=\"train\")\n",
    "# movies = movies.map(lambda x: x[\"movie_title\"])\n",
    "# movies"
   ]
  },
  {
   "cell_type": "code",
   "execution_count": 51,
   "id": "cae6b901-9076-4107-8a3a-2b27aceb8072",
   "metadata": {},
   "outputs": [],
   "source": [
    "# unique_movie_titles = np.unique(\n",
    "#     np.concatenate(list(movies.batch(1000)))\n",
    "# )"
   ]
  },
  {
   "cell_type": "code",
   "execution_count": 52,
   "id": "1c41fbff-f98b-44fb-9a6b-ddfed8018bf2",
   "metadata": {},
   "outputs": [],
   "source": [
    "# tf.random.set_seed(42)\n",
    "\n",
    "# # Split between train and tests sets, as before.\n",
    "# shuffled = ratings.shuffle(100_000, seed=42, reshuffle_each_iteration=False)\n",
    "\n",
    "# train = shuffled.take(80_000)\n",
    "# test = shuffled.skip(80_000).take(20_000)"
   ]
  },
  {
   "cell_type": "markdown",
   "id": "6e0facd5-12b7-4356-8c88-6778e42d3152",
   "metadata": {},
   "source": [
    "### write tf-record for train (listwise)"
   ]
  },
  {
   "cell_type": "code",
   "execution_count": 53,
   "id": "688abda8-8b76-4049-8367-8d51b78c914c",
   "metadata": {},
   "outputs": [],
   "source": [
    "# # We sample 50 lists for each user for the training data. For each list we\n",
    "# # sample 5 movies from the movies the user rated.\n",
    "# train = tfrs.examples.movielens.sample_listwise(\n",
    "#     train,\n",
    "#     num_list_per_user=50,\n",
    "#     num_examples_per_list=5,\n",
    "#     seed=42\n",
    "# )\n",
    "\n",
    "# train"
   ]
  },
  {
   "cell_type": "code",
   "execution_count": 54,
   "id": "c569d275-a7ac-4f04-aa60-596e194c5a44",
   "metadata": {},
   "outputs": [],
   "source": [
    "# for x in train.batch(1).take(1):\n",
    "#     pprint(x)"
   ]
  },
  {
   "cell_type": "code",
   "execution_count": 55,
   "id": "9d1be3a1-0076-4e37-aaef-587658fc3308",
   "metadata": {},
   "outputs": [],
   "source": [
    "# type(x['user_rating'].numpy())"
   ]
  },
  {
   "cell_type": "code",
   "execution_count": 56,
   "id": "61a54b9a-3817-4a21-9c1d-e5f076ebaeb5",
   "metadata": {},
   "outputs": [],
   "source": [
    "# # train split\n",
    "# TF_RECORD_listwise_train = \"ml-ratings-100k-listwise-train.tfrecord\"\n",
    "# LOCAL_TF_RECORD_listwise_train = f\"./{TF_RECORD_listwise_train}\"\n",
    "\n",
    "# # paths\n",
    "# TRAIN_DATA_PATH_listwise = f\"{DATA_PATH}/listwise/train\"\n",
    "\n",
    "# print(f\"TRAIN_DATA_PATH_listwise   : {TRAIN_DATA_PATH_listwise}\")"
   ]
  },
  {
   "cell_type": "code",
   "execution_count": 57,
   "id": "50a7823d-a166-4185-a662-a514f0f4d851",
   "metadata": {},
   "outputs": [],
   "source": [
    "# from src.per_arm_rl import data_utils_v3 as data_utils"
   ]
  },
  {
   "cell_type": "code",
   "execution_count": 58,
   "id": "b0a380b2-50f3-4b4d-bbc1-4be2ef2a508a",
   "metadata": {},
   "outputs": [],
   "source": [
    "# train"
   ]
  },
  {
   "cell_type": "code",
   "execution_count": 59,
   "id": "30766d34-c317-4a5d-a987-f29a80e6aea1",
   "metadata": {},
   "outputs": [],
   "source": [
    "# for f0,f1,f2 in train.take(1):\n",
    "#     print(f0)\n",
    "#     print(f1)\n",
    "#     print(f2)"
   ]
  },
  {
   "cell_type": "code",
   "execution_count": 60,
   "id": "6e300f90-4c03-43b7-b9d9-ea8ab9669af9",
   "metadata": {},
   "outputs": [],
   "source": [
    "# f0"
   ]
  },
  {
   "cell_type": "code",
   "execution_count": 61,
   "id": "7c3316bd-b048-4111-8c3b-4c78ce3b4bbc",
   "metadata": {},
   "outputs": [],
   "source": [
    "# def tf_serialize_example(f0,f1,f2):\n",
    "#     tf_string = tf.py_function(\n",
    "#         serialize_example,\n",
    "#         (f0, f1, f2),\n",
    "#         tf.string\n",
    "#     )   \n",
    "#     return tf.reshape(tf_string, ())"
   ]
  },
  {
   "cell_type": "code",
   "execution_count": 62,
   "id": "e3b78f1b-7406-47f1-a573-2e231af7f5f7",
   "metadata": {},
   "outputs": [],
   "source": [
    "# tf_serialize_example(f0, f1, f2)"
   ]
  },
  {
   "cell_type": "code",
   "execution_count": 63,
   "id": "bec0abf0-2751-4d67-b2d2-7ad026133a20",
   "metadata": {},
   "outputs": [],
   "source": [
    "# train = tf.data.TFRecordDataset(train)\n",
    "# train"
   ]
  },
  {
   "cell_type": "code",
   "execution_count": 64,
   "id": "8cca8d4f-91a2-4032-9515-f5bf3a904803",
   "metadata": {},
   "outputs": [],
   "source": [
    "# data_utils.write_tfrecords(TF_RECORD_listwise_train, train, list_wise=True)"
   ]
  },
  {
   "cell_type": "code",
   "execution_count": 65,
   "id": "4a46bdc1-cb95-4a2f-bbad-da746c079dc2",
   "metadata": {},
   "outputs": [],
   "source": [
    "# ! gsutil -q cp $LOCAL_TF_RECORD_listwise_train $TRAIN_DATA_PATH_listwise/"
   ]
  },
  {
   "cell_type": "markdown",
   "id": "e1265e5b-e79a-40e3-ab9d-bd749274fd15",
   "metadata": {},
   "source": [
    "### write tf-record for val (listwise)"
   ]
  },
  {
   "cell_type": "code",
   "execution_count": 66,
   "id": "6fb6709a-0626-4b90-8fda-ff67d529653c",
   "metadata": {},
   "outputs": [],
   "source": [
    "# test = tfrs.examples.movielens.sample_listwise(\n",
    "#     val,\n",
    "#     num_list_per_user=1,\n",
    "#     num_examples_per_list=5,\n",
    "#     seed=42\n",
    "# )\n",
    "\n",
    "# test"
   ]
  },
  {
   "cell_type": "code",
   "execution_count": null,
   "id": "547033b1-240a-4103-8c71-edbd76a0273c",
   "metadata": {},
   "outputs": [],
   "source": []
  },
  {
   "cell_type": "code",
   "execution_count": 67,
   "id": "f5bd0282-37e7-4fca-ad1b-6cc43ea39604",
   "metadata": {},
   "outputs": [],
   "source": [
    "# # val split\n",
    "# TF_RECORD_FILE_val = \"ml-ratings-100k-val.tfrecord\"\n",
    "# LOCAL_TF_RECORD_val = f\"./{TF_RECORD_FILE_val}\""
   ]
  },
  {
   "cell_type": "markdown",
   "id": "eb75da56-1c5f-43a6-9e8a-6550b3769ba1",
   "metadata": {},
   "source": [
    "**Finished**"
   ]
  }
 ],
 "metadata": {
  "environment": {
   "kernel": "python3",
   "name": "tf2-gpu.2-11.m109",
   "type": "gcloud",
   "uri": "gcr.io/deeplearning-platform-release/tf2-gpu.2-11:m109"
  },
  "kernelspec": {
   "display_name": "Python 3",
   "language": "python",
   "name": "python3"
  },
  "language_info": {
   "codemirror_mode": {
    "name": "ipython",
    "version": 3
   },
   "file_extension": ".py",
   "mimetype": "text/x-python",
   "name": "python",
   "nbconvert_exporter": "python",
   "pygments_lexer": "ipython3",
   "version": "3.10.11"
  }
 },
 "nbformat": 4,
 "nbformat_minor": 5
}
