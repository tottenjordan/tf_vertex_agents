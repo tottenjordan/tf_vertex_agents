{
 "cells": [
  {
   "cell_type": "markdown",
   "id": "a01cffb8-8045-4314-b56a-8ac9154c6066",
   "metadata": {},
   "source": [
    "# Scale per-arm Banidt training with Vertex AI"
   ]
  },
  {
   "cell_type": "markdown",
   "id": "bf3c6cb3-7970-4fab-a102-8c8749ecd3fc",
   "metadata": {
    "tags": []
   },
   "source": [
    "## Overview"
   ]
  },
  {
   "cell_type": "markdown",
   "id": "29580d03-390d-4d90-a5c0-14c16338ddbe",
   "metadata": {
    "tags": []
   },
   "source": [
    "### Notebook Objectives:\n",
    "* Create hyperparameter tuning and training custom container\n",
    "* Submit hyperparameter tuning job (optional)\n",
    "* Create custom prediction container\n",
    "* Submit custom container training job\n",
    "* Deploy trained model to Endpoint\n",
    "* Predict on the Endpoint"
   ]
  },
  {
   "cell_type": "markdown",
   "id": "64261791-880e-41c7-b6e9-a39698c66d51",
   "metadata": {
    "jp-MarkdownHeadingCollapsed": true,
    "tags": []
   },
   "source": [
    "**TODO** - fix vars -Create hyperparameter tuning and training custom container\n",
    "\n",
    "Create a custom container that can be used for both hyperparameter tuning and training. The associated source code is in `src/per_arm_rl/`. This serves as the inner script of the custom container.\n",
    "As before, the training function is the same as [trainer.train](https://github.com/tensorflow/agents/blob/r0.8.0/tf_agents/bandits/agents/examples/v2/trainer.py#L104), but it keeps track of intermediate metric values, supports hyperparameter tuning, and (for training) saves artifacts to different locations. The training logic for hyperparameter tuning and training is the same.\n",
    "\n",
    "**Execute hyperparameter tuning:**\n",
    "* The code does not save model artifacts. It takes in command-line arguments as hyperparameter values from the Vertex AI Hyperparameter Tuning service, and reports training result metric to Vertex AI at each trial using cloudml-hypertune.\n",
    "* Note that if you decide to save model artifacts, saving them to the same directory may cause overwriting errors if you use parallel trials in the hyperparameter tuning job. The recommended approach is to save each trial's artifacts to a different sub-directory. This would also allow you to recover all the artifacts from different trials and can potentially save you from re-training.\n",
    "* Read more about hyperparameter tuning for custom containers [here](https://cloud.google.com/vertex-ai/docs/training/containers-overview#hyperparameter_tuning_with_custom_containers); read about hyperparameter tuning support [here](https://cloud.google.com/vertex-ai/docs/training/hyperparameter-tuning-overview).\n",
    "\n",
    "**Execute training:**\n",
    "* The code saves model artifacts to `os.environ[\"AIP_MODEL_DIR\"]` in addition to `ARTIFACTS_DIR`, as required [here](https://github.com/googleapis/python-aiplatform/blob/v0.8.0/google/cloud/aiplatform/training_jobs.py#L2202).\n",
    "* If you want to make changes to the function, make sure to still save the trained policy as a SavedModel to clean directories\n",
    "* avoid saving checkpoints and other artifacts, so that deploying the model to endpoints works."
   ]
  },
  {
   "cell_type": "markdown",
   "id": "967ea275-15ba-40b6-acb1-94d5d18996b1",
   "metadata": {},
   "source": [
    "## Notebook setup"
   ]
  },
  {
   "cell_type": "markdown",
   "id": "bef2ae96-b5b5-4b10-9d9c-0b00d533ef46",
   "metadata": {},
   "source": [
    "### set vars"
   ]
  },
  {
   "cell_type": "code",
   "execution_count": 155,
   "id": "dd715ec5-f0fb-432b-bef4-a05a57586c6d",
   "metadata": {},
   "outputs": [
    {
     "name": "stdout",
     "output_type": "stream",
     "text": [
      "PREFIX: rec-bandits-v2\n"
     ]
    }
   ],
   "source": [
    "# PREFIX = 'mabv1'\n",
    "VERSION        = \"v2\"                       # TODO\n",
    "PREFIX         = f'rec-bandits-{VERSION}'   # TODO\n",
    "\n",
    "print(f\"PREFIX: {PREFIX}\")"
   ]
  },
  {
   "cell_type": "markdown",
   "id": "7bd6fddd-38f5-4e8f-9beb-54b7cc631290",
   "metadata": {},
   "source": [
    "**run the next cell to populate env vars**"
   ]
  },
  {
   "cell_type": "code",
   "execution_count": 156,
   "id": "82643015-091b-444a-83a6-e24100a48a38",
   "metadata": {},
   "outputs": [
    {
     "name": "stdout",
     "output_type": "stream",
     "text": [
      "\n",
      "PROJECT_ID               = \"hybrid-vertex\"\n",
      "PROJECT_NUM              = \"934903580331\"\n",
      "LOCATION                 = \"us-central1\"\n",
      "\n",
      "REGION                   = \"us-central1\"\n",
      "BQ_LOCATION              = \"US\"\n",
      "VPC_NETWORK_NAME         = \"ucaip-haystack-vpc-network\"\n",
      "\n",
      "VERTEX_SA                = \"934903580331-compute@developer.gserviceaccount.com\"\n",
      "\n",
      "PREFIX                   = \"rec-bandits-v2\"\n",
      "VERSION                  = \"v2\"\n",
      "\n",
      "BUCKET_NAME              = \"rec-bandits-v2-hybrid-vertex-bucket\"\n",
      "BUCKET_URI               = \"gs://rec-bandits-v2-hybrid-vertex-bucket\"\n",
      "DATA_GCS_PREFIX          = \"data\"\n",
      "DATA_PATH                = \"gs://rec-bandits-v2-hybrid-vertex-bucket/data\"\n",
      "VOCAB_SUBDIR             = \"vocabs\"\n",
      "VOCAB_FILENAME           = \"vocab_dict.pkl\"\n",
      "\n",
      "VPC_NETWORK_FULL         = \"projects/934903580331/global/networks/ucaip-haystack-vpc-network\"\n",
      "\n",
      "BIGQUERY_DATASET_ID      = \"hybrid_vertex.movielens_ds_rec_bandits_v2\"\n",
      "BIGQUERY_TABLE_ID        = \"hybrid_vertex.movielens_ds_rec_bandits_v2.training_dataset\"\n",
      "\n",
      "REPO_DOCKER_PATH_PREFIX  = \"src\"\n",
      "RL_SUB_DIR               = \"per_arm_rl\"\n",
      "\n",
      "REPOSITORY               = \"rl-movielens-rec-bandits-v2\"\n",
      "IMAGE_NAME               = \"train-perarm-feats-v2\"\n",
      "DOCKERNAME               = \"Dockerfile_perarm_feats\"\n",
      "\n",
      "IMAGE_URI_01             = \"gcr.io/hybrid-vertex/train-perarm-feats-v2-01\"\n",
      "IMAGE_URI_02             = \"gcr.io/hybrid-vertex/train-perarm-feats-v2-02\"\n",
      "\n",
      "REMOTE_IMAGE_NAME        = \"us-central1-docker.pkg.dev/hybrid-vertex/rl-movielens-rec-bandits-v2/train-perarm-feats-v2\"\n",
      "\n"
     ]
    }
   ],
   "source": [
    "# staging GCS\n",
    "GCP_PROJECTS             = !gcloud config get-value project\n",
    "PROJECT_ID               = GCP_PROJECTS[0]\n",
    "\n",
    "# GCS bucket and paths\n",
    "BUCKET_NAME              = f'{PREFIX}-{PROJECT_ID}-bucket'\n",
    "BUCKET_URI               = f'gs://{BUCKET_NAME}'\n",
    "\n",
    "config = !gsutil cat {BUCKET_URI}/config/notebook_env.py\n",
    "print(config.n)\n",
    "exec(config.n)"
   ]
  },
  {
   "cell_type": "markdown",
   "id": "6f0ab55c-3ca8-4348-b902-749b19a6c57f",
   "metadata": {},
   "source": [
    "### imports"
   ]
  },
  {
   "cell_type": "code",
   "execution_count": 3,
   "id": "0e52ce64-2afe-4d2f-a43d-68775ee7cb80",
   "metadata": {},
   "outputs": [],
   "source": [
    "import os\n",
    "os.environ['TF_CPP_MIN_LOG_LEVEL'] = '2'"
   ]
  },
  {
   "cell_type": "code",
   "execution_count": 4,
   "id": "ce8b63e1-84a3-4417-adf4-ff3f0dfe9fc6",
   "metadata": {},
   "outputs": [],
   "source": [
    "import functools\n",
    "import json\n",
    "from collections import defaultdict\n",
    "from typing import Callable, Dict, List, Optional, TypeVar\n",
    "from datetime import datetime\n",
    "import time\n",
    "\n",
    "import logging\n",
    "logging.disable(logging.WARNING)\n",
    "\n",
    "import matplotlib.pyplot as plt\n",
    "import numpy as np\n",
    "\n",
    "# google cloud\n",
    "from google.cloud import aiplatform, storage\n",
    "from google.cloud.aiplatform import hyperparameter_tuning as hpt\n",
    "\n",
    "# tensorflow\n",
    "import tensorflow as tf\n",
    "from tf_agents.agents import TFAgent\n",
    "from tf_agents.bandits.agents import lin_ucb_agent\n",
    "from tf_agents.bandits.agents.examples.v2 import trainer\n",
    "from tf_agents.bandits.environments import (environment_utilities,\n",
    "                                            movielens_py_environment)\n",
    "from tf_agents.bandits.metrics import tf_metrics as tf_bandit_metrics\n",
    "from tf_agents.drivers import dynamic_step_driver\n",
    "from tf_agents.environments import TFEnvironment, tf_py_environment\n",
    "from tf_agents.eval import metric_utils\n",
    "from tf_agents.metrics import tf_metrics\n",
    "from tf_agents.metrics.tf_metric import TFStepMetric\n",
    "from tf_agents.policies import policy_saver\n",
    "\n",
    "# GPU\n",
    "from numba import cuda \n",
    "import gc\n",
    "\n",
    "if tf.__version__[0] != \"2\":\n",
    "    raise Exception(\"The trainer only runs with TensorFlow version 2.\")\n",
    "\n",
    "T = TypeVar(\"T\")"
   ]
  },
  {
   "cell_type": "code",
   "execution_count": 8,
   "id": "1f8aa37b-acaa-479f-aba2-b4fc8eaa7974",
   "metadata": {},
   "outputs": [
    {
     "data": {
      "text/plain": [
       "14"
      ]
     },
     "execution_count": 8,
     "metadata": {},
     "output_type": "execute_result"
    }
   ],
   "source": [
    "device = cuda.get_current_device()\n",
    "device.reset()\n",
    "gc.collect()"
   ]
  },
  {
   "cell_type": "code",
   "execution_count": 9,
   "id": "18ecec03-be21-41d9-b1da-e94ea3a0a96d",
   "metadata": {},
   "outputs": [],
   "source": [
    "import sys\n",
    "sys.path.append(\"..\")\n",
    "\n",
    "# my project\n",
    "from src.per_arm_rl import data_utils\n",
    "from src.per_arm_rl import data_config"
   ]
  },
  {
   "cell_type": "code",
   "execution_count": 10,
   "id": "63cd20c0-7446-49df-9a1e-41a89065e430",
   "metadata": {},
   "outputs": [],
   "source": [
    "# cloud storage client\n",
    "storage_client = storage.Client(project=PROJECT_ID)\n",
    "\n",
    "# Vertex client\n",
    "aiplatform.init(project=PROJECT_ID, location=LOCATION)"
   ]
  },
  {
   "cell_type": "code",
   "execution_count": 11,
   "id": "4dda7603-ff83-4878-af18-66da744b9648",
   "metadata": {},
   "outputs": [
    {
     "name": "stdout",
     "output_type": "stream",
     "text": [
      "gs://rec-bandits-v2-hybrid-vertex-bucket/data/ml-ratings-100k-full.tfrecord\n",
      "gs://rec-bandits-v2-hybrid-vertex-bucket/data/listwise-3n-train/\n",
      "gs://rec-bandits-v2-hybrid-vertex-bucket/data/listwise-3n-val/\n",
      "gs://rec-bandits-v2-hybrid-vertex-bucket/data/listwise-5n-train/\n",
      "gs://rec-bandits-v2-hybrid-vertex-bucket/data/listwise-5n-val/\n",
      "gs://rec-bandits-v2-hybrid-vertex-bucket/data/train/\n",
      "gs://rec-bandits-v2-hybrid-vertex-bucket/data/val/\n"
     ]
    }
   ],
   "source": [
    "! gsutil ls $DATA_PATH"
   ]
  },
  {
   "cell_type": "markdown",
   "id": "6678fcb8-4b41-42aa-92ec-c3b07f7747e0",
   "metadata": {},
   "source": [
    "## Build train application"
   ]
  },
  {
   "cell_type": "markdown",
   "id": "fd895298-c435-414d-b84a-908cf0932ba4",
   "metadata": {},
   "source": [
    "### Vertex Experiments"
   ]
  },
  {
   "cell_type": "code",
   "execution_count": 12,
   "id": "b6322612-2a66-4b05-b600-dbae4d307efb",
   "metadata": {},
   "outputs": [
    {
     "name": "stdout",
     "output_type": "stream",
     "text": [
      "EXPERIMENT_NAME   : scale-perarm-hpt-v3\n",
      "RUN_NAME          : run-20231018-151159\n",
      "BASE_OUTPUT_DIR   : gs://rec-bandits-v2-hybrid-vertex-bucket/scale-perarm-hpt-v3/run-20231018-151159\n",
      "ROOT_DIR          : gs://rec-bandits-v2-hybrid-vertex-bucket/scale-perarm-hpt-v3/run-20231018-151159/root\n",
      "ARTIFACTS_DIR     : gs://rec-bandits-v2-hybrid-vertex-bucket/scale-perarm-hpt-v3/run-20231018-151159/artifacts\n"
     ]
    }
   ],
   "source": [
    "EXPERIMENT_NAME   = f'scale-perarm-hpt-v3'\n",
    "\n",
    "invoke_time       = time.strftime(\"%Y%m%d-%H%M%S\")\n",
    "RUN_NAME          = f'run-{invoke_time}'\n",
    "\n",
    "BASE_OUTPUT_DIR   = f'gs://{BUCKET_NAME}/{EXPERIMENT_NAME}/{RUN_NAME}'\n",
    "LOG_DIR           = f\"{BASE_OUTPUT_DIR}/logs\"\n",
    "ROOT_DIR          = f\"{BASE_OUTPUT_DIR}/root\"                               # Root directory for writing logs/summaries/checkpoints.\n",
    "ARTIFACTS_DIR     = f\"{BASE_OUTPUT_DIR}/artifacts\"                          # Where the trained model will be saved and restored.\n",
    "\n",
    "print(f\"EXPERIMENT_NAME   : {EXPERIMENT_NAME}\")\n",
    "print(f\"RUN_NAME          : {RUN_NAME}\")\n",
    "print(f\"BASE_OUTPUT_DIR   : {BASE_OUTPUT_DIR}\")\n",
    "print(f\"LOG_DIR           : {LOG_DIR}\")\n",
    "print(f\"ROOT_DIR          : {ROOT_DIR}\")\n",
    "print(f\"ARTIFACTS_DIR     : {ARTIFACTS_DIR}\")"
   ]
  },
  {
   "cell_type": "markdown",
   "id": "b106007a-9ed4-4237-88a9-bf4bbe459b15",
   "metadata": {},
   "source": [
    "### Create a Cloud Build YAML file"
   ]
  },
  {
   "cell_type": "code",
   "execution_count": 13,
   "id": "a448db20-3021-4d07-9559-661be6a04eb4",
   "metadata": {},
   "outputs": [],
   "source": [
    "# %%writefile cloudbuild.yaml\n",
    "\n",
    "# steps:\n",
    "# - name: 'gcr.io/cloud-builders/docker'\n",
    "#   args: ['build', '-t', '$_IMAGE_URI', '$_FILE_LOCATION', '-f', '$_FILE_LOCATION/Dockerfile_$_DOCKERNAME']\n",
    "#   env: ['AIP_STORAGE_URI=$_ARTIFACTS_DIR']\n",
    "# images:\n",
    "# - '$_IMAGE_URI'"
   ]
  },
  {
   "cell_type": "markdown",
   "id": "d3180b65-d636-40a2-aaa2-7b6a797e43b3",
   "metadata": {},
   "source": [
    "### Write a Dockerfile\n",
    "* Use the [cloudml-hypertune](https://github.com/GoogleCloudPlatform/cloudml-hypertune) Python package to report training metrics to Vertex AI for hyperparameter tuning\n",
    "* Use the Google [Cloud Storage client library](https://cloud.google.com/storage/docs/reference/libraries) to read the best hyperparameters learned from a previous hyperarameter tuning job during training"
   ]
  },
  {
   "cell_type": "code",
   "execution_count": 14,
   "id": "20db1e12-1e16-4ec9-89c7-2a3b181cb715",
   "metadata": {},
   "outputs": [],
   "source": [
    "DOCKERNAME = 'Dockerfile_train_my_perarm_env'"
   ]
  },
  {
   "cell_type": "code",
   "execution_count": 15,
   "id": "59ea1b9d-6237-4e12-9b86-9a5ec23d7459",
   "metadata": {},
   "outputs": [],
   "source": [
    "# %%writefile Dockerfile_{DOCKERNAME}\n",
    "\n",
    "# # Specifies base image and tag.\n",
    "# # FROM gcr.io/google-appengine/python\n",
    "# FROM python:3.10\n",
    "# ENV PYTHONUNBUFFERED True\n",
    "\n",
    "# WORKDIR /root\n",
    "\n",
    "# # Installs additional packages.\n",
    "# RUN pip3 install cloudml-hypertune\n",
    "# RUN pip3 install google-cloud-storage\n",
    "# RUN pip3 install google-cloud-aiplatform\n",
    "# RUN pip3 install tensorflow==2.12.0\n",
    "# RUN pip3 install tensorboard\n",
    "# RUN pip3 install tensorboard-plugin-profile\n",
    "# RUN pip3 install tensorboard-plugin-wit\n",
    "# RUN pip3 install tensorboard-data-server\n",
    "# RUN pip3 install tensorflow-io\n",
    "# RUN pip3 install tf-agents==0.17.0\n",
    "# RUN pip3 install matplotlib\n",
    "# RUN pip3 install urllib3\n",
    "\n",
    "# # Copies training code to the Docker image.\n",
    "# COPY src/per_arm_rl /root/src/per_arm_rl\n",
    "\n",
    "# # Sets up the entry point to invoke the task.\n",
    "# ENTRYPOINT [\"python3\", \"-m\", \"src.per_arm_rl.task\"]"
   ]
  },
  {
   "cell_type": "markdown",
   "id": "0092f87b-c113-4325-9696-658ee6cf5860",
   "metadata": {},
   "source": [
    "#### Build the custom container with Cloud Build"
   ]
  },
  {
   "cell_type": "code",
   "execution_count": 16,
   "id": "b4d54ef7-cb8d-42ee-9500-3a4e0be7e2a4",
   "metadata": {},
   "outputs": [],
   "source": [
    "# export PROJECT_ID=hybrid-vertex\n",
    "# export HPTUNING_TRAINING_CONTAINER=hptuning-training-custom-container\n",
    "# export IMAGE_URI=gcr.io/hybrid-vertex/hptuning-training-custom-container\n",
    "\n",
    "# ! docker build -t $IMAGE_URI Dockerfile_train_perarm"
   ]
  },
  {
   "cell_type": "code",
   "execution_count": 17,
   "id": "9eafefba-a58f-46aa-a331-fc0abea93702",
   "metadata": {},
   "outputs": [],
   "source": [
    "# HPTUNING_TRAINING_CONTAINER = \"hptuning-training-custom-container\"\n",
    "\n",
    "# # Docker definitions for training\n",
    "# IMAGE_URI = f'gcr.io/{PROJECT_ID}/{HPTUNING_TRAINING_CONTAINER}'\n",
    "# MACHINE_TYPE ='e2-highcpu-32'\n",
    "# FILE_LOCATION = './'\n",
    "\n",
    "# print(f\"export DOCKERNAME    = {DOCKERNAME}\")\n",
    "# print(f\"export IMAGE_URI     = {IMAGE_URI}\")\n",
    "# print(f\"export FILE_LOCATION = {FILE_LOCATION}\")\n",
    "# print(f\"export MACHINE_TYPE  = {MACHINE_TYPE}\")\n",
    "# print(f\"export ARTIFACTS_DIR = {ARTIFACTS_DIR}\")"
   ]
  },
  {
   "cell_type": "code",
   "execution_count": 18,
   "id": "d2f64125-fd4a-459b-9034-2d084f85a095",
   "metadata": {
    "tags": []
   },
   "outputs": [],
   "source": [
    "# ! gcloud builds submit --config cloudbuild.yaml \\\n",
    "#     --substitutions _DOCKERNAME=$DOCKERNAME,_IMAGE_URI=$IMAGE_URI,_FILE_LOCATION=$FILE_LOCATION,_ARTIFACTS_DIR=$ARTIFACTS_DIR \\\n",
    "#     --timeout=2h \\\n",
    "#     --machine-type=$MACHINE_TYPE"
   ]
  },
  {
   "cell_type": "markdown",
   "id": "307bb759-0a14-4746-8d81-f846e318b1ed",
   "metadata": {},
   "source": [
    "## Prepare (hpt) training job for Vertex AI\n",
    "* Submit a hyperparameter training job with the custom container. Read more details for using Python packages as an alternative to using custom containers in the example shown [here](https://cloud.google.com/vertex-ai/docs/training/using-hyperparameter-tuning#create)\n",
    "* Define the hyperparameter(s), max trial count, parallel trial count, parameter search algorithm, machine spec, accelerators, worker pool, etc."
   ]
  },
  {
   "cell_type": "code",
   "execution_count": 19,
   "id": "3b8fcea2-db92-42ec-98ab-5f42d91da2dd",
   "metadata": {},
   "outputs": [
    {
     "name": "stdout",
     "output_type": "stream",
     "text": [
      "HPTUNING_RESULT_DIR  : hptuning\n",
      "HPTUNING_RESULT_FILE : result.json\n",
      "HPTUNING_RESULT_PATH : scale-perarm-hpt-v3/run-20231018-151159/hptuning/result.json\n",
      "HPTUNING_RESULT_URI  : gs://rec-bandits-v2-hybrid-vertex-bucket/scale-perarm-hpt-v3/run-20231018-151159/hptuning/result.json\n"
     ]
    }
   ],
   "source": [
    "# Execute hyperparameter tuning instead of regular training\n",
    "RUN_HYPERPARAMETER_TUNING          = True\n",
    "TRAIN_WITH_BEST_HYPERPARAMETERS    = False  # Do not train.\n",
    "\n",
    "# Directory to store the best hyperparameter(s) in `BUCKET_NAME` and locally (temporarily)\n",
    "HPTUNING_RESULT_DIR                = \"hptuning\"\n",
    "HPTUNING_RESULT_FILE               = \"result.json\"\n",
    "HPTUNING_RESULT_PATH               = f\"{EXPERIMENT_NAME}/{RUN_NAME}/{HPTUNING_RESULT_DIR}/{HPTUNING_RESULT_FILE}\"\n",
    "HPTUNING_RESULT_URI                = f\"{BUCKET_URI}/{HPTUNING_RESULT_PATH}\"\n",
    "\n",
    "print(f\"HPTUNING_RESULT_DIR  : {HPTUNING_RESULT_DIR}\")\n",
    "print(f\"HPTUNING_RESULT_FILE : {HPTUNING_RESULT_FILE}\")\n",
    "print(f\"HPTUNING_RESULT_PATH : {HPTUNING_RESULT_PATH}\")\n",
    "print(f\"HPTUNING_RESULT_URI  : {HPTUNING_RESULT_URI}\")"
   ]
  },
  {
   "cell_type": "markdown",
   "id": "05f3e816-d9f3-4b91-9327-fdc27eba54a4",
   "metadata": {},
   "source": [
    "### Accelerators"
   ]
  },
  {
   "cell_type": "code",
   "execution_count": 20,
   "id": "831ae50e-d4c7-4a8a-bb13-40279a7c2946",
   "metadata": {},
   "outputs": [
    {
     "name": "stdout",
     "output_type": "stream",
     "text": [
      "ACCELERATOR: t4\n"
     ]
    }
   ],
   "source": [
    "ACCELERATOR = \"t4\" # str: \"a100\" | \"t4\" | None | l4\n",
    "ACCELERATOR = str(ACCELERATOR)\n",
    "print(f\"ACCELERATOR: {ACCELERATOR}\")"
   ]
  },
  {
   "cell_type": "code",
   "execution_count": 21,
   "id": "e0f7958f-5520-45f0-b069-3d3aaaf2a0e9",
   "metadata": {},
   "outputs": [
    {
     "name": "stdout",
     "output_type": "stream",
     "text": [
      "WORKER_MACHINE_TYPE            : n1-highcpu-16\n",
      "REPLICA_COUNT                  : 1\n",
      "ACCELERATOR_TYPE               : NVIDIA_TESLA_T4\n",
      "PER_MACHINE_ACCELERATOR_COUNT  : 1\n",
      "DISTRIBUTE_STRATEGY            : single\n",
      "REDUCTION_SERVER_COUNT         : 0\n",
      "REDUCTION_SERVER_MACHINE_TYPE  : n1-highcpu-16\n",
      "TF_GPU_THREAD_COUNT            : 4\n"
     ]
    }
   ],
   "source": [
    "if ACCELERATOR == \"a100\":\n",
    "    WORKER_MACHINE_TYPE = 'a2-highgpu-1g'\n",
    "    REPLICA_COUNT = 1\n",
    "    ACCELERATOR_TYPE = 'NVIDIA_TESLA_A100'\n",
    "    PER_MACHINE_ACCELERATOR_COUNT = 1\n",
    "    REDUCTION_SERVER_COUNT = 0                                                      \n",
    "    REDUCTION_SERVER_MACHINE_TYPE = \"n1-highcpu-16\"\n",
    "    DISTRIBUTE_STRATEGY = 'single'\n",
    "elif ACCELERATOR == 't4':\n",
    "    WORKER_MACHINE_TYPE = 'n1-highcpu-16'\n",
    "    REPLICA_COUNT = 1\n",
    "    ACCELERATOR_TYPE = 'NVIDIA_TESLA_T4'\n",
    "    PER_MACHINE_ACCELERATOR_COUNT = 1\n",
    "    DISTRIBUTE_STRATEGY = 'single'\n",
    "    REDUCTION_SERVER_COUNT = 0                                                      \n",
    "    REDUCTION_SERVER_MACHINE_TYPE = \"n1-highcpu-16\"\n",
    "elif ACCELERATOR == 'l4':\n",
    "    WORKER_MACHINE_TYPE = \"g2-standard-16\"\n",
    "    REPLICA_COUNT = 1\n",
    "    ACCELERATOR_TYPE = 'NVIDIA_L4'\n",
    "    PER_MACHINE_ACCELERATOR_COUNT = 1\n",
    "    DISTRIBUTE_STRATEGY = 'single'\n",
    "    REDUCTION_SERVER_COUNT = 0                                                      \n",
    "    REDUCTION_SERVER_MACHINE_TYPE = \"n1-highcpu-16\"\n",
    "elif ACCELERATOR == 'tpu':\n",
    "    WORKER_MACHINE_TYPE = \"cloud-tpu\"\n",
    "    REPLICA_COUNT = 1\n",
    "    ACCELERATOR_TYPE = 'TPU_v3'\n",
    "    PER_MACHINE_ACCELERATOR_COUNT = 8 # 8 | +32+ for TPU Pods\n",
    "    DISTRIBUTE_STRATEGY = 'single'\n",
    "    REDUCTION_SERVER_COUNT = 0                                                      \n",
    "    REDUCTION_SERVER_MACHINE_TYPE = None\n",
    "elif ACCELERATOR == \"False\":\n",
    "    WORKER_MACHINE_TYPE = 'n2-highmem-32' # 'n1-highmem-96'n | 'n2-highmem-92'\n",
    "    REPLICA_COUNT = 1\n",
    "    ACCELERATOR_TYPE = None\n",
    "    PER_MACHINE_ACCELERATOR_COUNT = 0\n",
    "    DISTRIBUTE_STRATEGY = 'single'\n",
    "    REDUCTION_SERVER_COUNT = 0                                                      \n",
    "    REDUCTION_SERVER_MACHINE_TYPE = \"n1-highcpu-16\"\n",
    "    \n",
    "TF_GPU_THREAD_COUNT   = '4'      # '1' | '4' | '8'\n",
    "\n",
    "print(f\"WORKER_MACHINE_TYPE            : {WORKER_MACHINE_TYPE}\")\n",
    "print(f\"REPLICA_COUNT                  : {REPLICA_COUNT}\")\n",
    "print(f\"ACCELERATOR_TYPE               : {ACCELERATOR_TYPE}\")\n",
    "print(f\"PER_MACHINE_ACCELERATOR_COUNT  : {PER_MACHINE_ACCELERATOR_COUNT}\")\n",
    "print(f\"DISTRIBUTE_STRATEGY            : {DISTRIBUTE_STRATEGY}\")\n",
    "print(f\"REDUCTION_SERVER_COUNT         : {REDUCTION_SERVER_COUNT}\")\n",
    "print(f\"REDUCTION_SERVER_MACHINE_TYPE  : {REDUCTION_SERVER_MACHINE_TYPE}\")\n",
    "print(f\"TF_GPU_THREAD_COUNT            : {TF_GPU_THREAD_COUNT}\")"
   ]
  },
  {
   "cell_type": "markdown",
   "id": "b5213898-3252-4eaf-a50f-1166e640a2d5",
   "metadata": {},
   "source": [
    "### Create Tensorboard"
   ]
  },
  {
   "cell_type": "code",
   "execution_count": 23,
   "id": "32e1fd75-c50c-453c-8cc6-b85416836648",
   "metadata": {},
   "outputs": [
    {
     "name": "stdout",
     "output_type": "stream",
     "text": [
      "TB_RESOURCE_NAME: projects/934903580331/locations/us-central1/tensorboards/468378759293042688\n",
      "TB display name: scale-perarm-hpt-v3-run-20231018-151159\n"
     ]
    }
   ],
   "source": [
    "# # create new TB instance\n",
    "TENSORBOARD_DISPLAY_NAME=f\"{EXPERIMENT_NAME}-{RUN_NAME}\"\n",
    "\n",
    "tensorboard = aiplatform.Tensorboard.create(\n",
    "    display_name=TENSORBOARD_DISPLAY_NAME\n",
    "    , project=PROJECT_ID\n",
    "    , location=REGION\n",
    ")\n",
    "\n",
    "TB_RESOURCE_NAME = tensorboard.resource_name\n",
    "\n",
    "print(f\"TB_RESOURCE_NAME: {TB_RESOURCE_NAME}\")\n",
    "print(f\"TB display name: {tensorboard.display_name}\")"
   ]
  },
  {
   "cell_type": "markdown",
   "id": "e8c14bc7-7fcb-402f-adbf-8cb35e039edd",
   "metadata": {},
   "source": [
    "### Set training args"
   ]
  },
  {
   "cell_type": "code",
   "execution_count": 24,
   "id": "d74207b8-dbb5-4baf-8c86-f8f0b594e8d7",
   "metadata": {},
   "outputs": [
    {
     "name": "stdout",
     "output_type": "stream",
     "text": [
      "BATCH_SIZE       : 128\n",
      "TRAINING_LOOPS   : 200\n",
      "STEPS_PER_LOOP   : 6\n",
      "RANK_K           : 20\n",
      "NUM_ACTIONS      : 20\n",
      "PER_ARM          : True\n",
      "TIKHONOV_WEIGHT  : 0.001\n",
      "AGENT_ALPHA      : 10.0\n"
     ]
    }
   ],
   "source": [
    "# Set hyperparameters.\n",
    "BATCH_SIZE       = 128       # Training and prediction batch size.\n",
    "TRAINING_LOOPS   = 200      # Number of training iterations.\n",
    "STEPS_PER_LOOP   = 6       # Number of driver steps per training iteration.\n",
    "\n",
    "# Set MovieLens simulation environment parameters.\n",
    "RANK_K           = 20      # Rank for matrix factorization in the MovieLens environment; also the observation dimension.\n",
    "NUM_ACTIONS      = 20      # Number of actions (movie items) to choose from.\n",
    "PER_ARM          = True    # Use the non-per-arm version of the MovieLens environment.\n",
    "\n",
    "# Set agent parameters.\n",
    "TIKHONOV_WEIGHT  = 0.001   # LinUCB Tikhonov regularization weight.\n",
    "AGENT_ALPHA      = 10.0    # LinUCB exploration parameter that multiplies the confidence intervals.\n",
    "\n",
    "CHKPT_INTERVAL       = TRAINING_LOOPS - 1\n",
    "\n",
    "print(f\"BATCH_SIZE       : {BATCH_SIZE}\")\n",
    "print(f\"TRAINING_LOOPS   : {TRAINING_LOOPS}\")\n",
    "print(f\"STEPS_PER_LOOP   : {STEPS_PER_LOOP}\")\n",
    "print(f\"RANK_K           : {RANK_K}\")\n",
    "print(f\"NUM_ACTIONS      : {NUM_ACTIONS}\")\n",
    "print(f\"PER_ARM          : {PER_ARM}\")\n",
    "print(f\"TIKHONOV_WEIGHT  : {TIKHONOV_WEIGHT}\")\n",
    "print(f\"AGENT_ALPHA      : {AGENT_ALPHA}\")\n",
    "print(f\"CHKPT_INTERVAL   : {CHKPT_INTERVAL}\")"
   ]
  },
  {
   "cell_type": "code",
   "execution_count": 25,
   "id": "03b3cc89-1401-480c-8d4e-1422227860f7",
   "metadata": {},
   "outputs": [
    {
     "name": "stdout",
     "output_type": "stream",
     "text": [
      "[{'container_spec': {'args': ['--data-path=gs://rec-bandits-v2-hybrid-vertex-bucket/data',\n",
      "                              '--bucket_name=rec-bandits-v2-hybrid-vertex-bucket',\n",
      "                              '--data_gcs_prefix=data',\n",
      "                              '--data_path=gs://rec-bandits-v2-hybrid-vertex-bucket/data',\n",
      "                              '--project_number=934903580331',\n",
      "                              '--batch-size=128',\n",
      "                              '--rank-k=20',\n",
      "                              '--num-actions=20',\n",
      "                              '--tikhonov-weight=0.001',\n",
      "                              '--agent-alpha=10.0',\n",
      "                              '--training_loops=200',\n",
      "                              '--steps-per-loop=6',\n",
      "                              '--distribute=single',\n",
      "                              '--artifacts_dir=gs://rec-bandits-v2-hybrid-vertex-bucket/scale-perarm-hpt-v3/run-20231018-151159/artifacts',\n",
      "                              '--root_dir=gs://rec-bandits-v2-hybrid-vertex-bucket/scale-perarm-hpt-v3/run-20231018-151159/root',\n",
      "                              '--experiment_name=scale-perarm-hpt-v3',\n",
      "                              '--experiment_run=run-20231018-151159',\n",
      "                              '--run-hyperparameter-tuning'],\n",
      "                     'image_uri': 'gcr.io/hybrid-vertex/train-perarm-feats-v2:latest'},\n",
      "  'machine_spec': {'accelerator_count': 1,\n",
      "                   'accelerator_type': 'NVIDIA_TESLA_T4',\n",
      "                   'machine_type': 'n1-highcpu-16'},\n",
      "  'replica_count': 1}]\n"
     ]
    }
   ],
   "source": [
    "WORKER_ARGS = [\n",
    "    f\"--data-path={DATA_PATH}\"               # TODO - remove duplicate arg\n",
    "    , f\"--bucket_name={BUCKET_NAME}\"\n",
    "    , f\"--data_gcs_prefix={DATA_GCS_PREFIX}\"\n",
    "    , f\"--data_path={DATA_PATH}\"\n",
    "    , f\"--project_number={PROJECT_NUM}\"\n",
    "    , f\"--batch-size={BATCH_SIZE}\"\n",
    "    , f\"--rank-k={RANK_K}\"\n",
    "    , f\"--num-actions={NUM_ACTIONS}\"\n",
    "    , f\"--tikhonov-weight={TIKHONOV_WEIGHT}\"\n",
    "    , f\"--agent-alpha={AGENT_ALPHA}\"\n",
    "    , f\"--training_loops={TRAINING_LOOPS}\"\n",
    "    , f\"--steps-per-loop={STEPS_PER_LOOP}\"\n",
    "    , f\"--distribute={DISTRIBUTE_STRATEGY}\"\n",
    "    , f\"--artifacts_dir={ARTIFACTS_DIR}\"\n",
    "    , f\"--root_dir={ROOT_DIR}\"\n",
    "    , f\"--log_dir={LOG_DIR}\"\n",
    "    , f\"--experiment_name={EXPERIMENT_NAME}\"\n",
    "    , f\"--experiment_run={RUN_NAME}\"\n",
    "    , f\"--tf_gpu_thread_count={TF_GPU_THREAD_COUNT}\"\n",
    "    , f\"--chkpt_interval={CHKPT_INTERVAL}\"\n",
    "    # , f\"--profiler\"\n",
    "    # , f\"--sum_grads_vars\"\n",
    "    # , f\"--debug_summaries\"\n",
    "    , f\"--use_gpu\"\n",
    "    # , f\"--use_tpu\"\n",
    "]\n",
    "\n",
    "if RUN_HYPERPARAMETER_TUNING:\n",
    "    WORKER_ARGS.append(\"--run-hyperparameter-tuning\")\n",
    "    \n",
    "elif TRAIN_WITH_BEST_HYPERPARAMETERS:\n",
    "    WORKER_ARGS.append(\"--train-with-best-hyperparameters\")\n",
    "    \n",
    "from src.per_arm_rl import train_utils\n",
    "\n",
    "WORKER_POOL_SPECS = train_utils.prepare_worker_pool_specs(\n",
    "    image_uri=f\"{IMAGE_URI_01}:latest\",\n",
    "    args=WORKER_ARGS,\n",
    "    replica_count=REPLICA_COUNT,\n",
    "    machine_type=WORKER_MACHINE_TYPE,\n",
    "    accelerator_count=PER_MACHINE_ACCELERATOR_COUNT,\n",
    "    accelerator_type=ACCELERATOR_TYPE,\n",
    "    reduction_server_count=REDUCTION_SERVER_COUNT,\n",
    "    reduction_server_machine_type=REDUCTION_SERVER_MACHINE_TYPE,\n",
    ")\n",
    "\n",
    "from pprint import pprint\n",
    "pprint(WORKER_POOL_SPECS)"
   ]
  },
  {
   "cell_type": "markdown",
   "id": "e9c8ee96-89e0-45d5-a1a6-14a3997358dd",
   "metadata": {},
   "source": [
    "### Define parameter spec\n",
    "\n",
    "Next, define the 1parameter_spec1, which is a dictionary specifying the parameters you want to optimize. The **dictionary key** is the string you assigned to the command line argument for each hyperparameter, and the **dictionary value** is the parameter specification.\n",
    "\n",
    "For each hyperparameter, you need to define the `Type` as well as the bounds for the values that the tuning service will try. Hyperparameters can be of type `Double`, `Integer`, `Categorical`, or `Discrete`. If you select the type `Double` or `Integer`, you need to provide a minimum and maximum value. And if you select `Categorical` or `Discrete` you need to provide the values. For the `Double` and `Integer` types, you also need to provide the scaling value. Learn more about [Using an Appropriate Scale](https://www.youtube.com/watch?v=cSoK_6Rkbfg)."
   ]
  },
  {
   "cell_type": "code",
   "execution_count": 26,
   "id": "3c289fe7-edb7-4b7b-ad21-49e8e8946b27",
   "metadata": {},
   "outputs": [],
   "source": [
    "# Dictionary representing parameters to optimize.\n",
    "# The dictionary key is the parameter_id, which is passed into your training\n",
    "# job as a command line argument,\n",
    "# And the dictionary value is the parameter specification of the metric.\n",
    "parameter_spec = {\n",
    "    # \"steps-per-loop\": hpt.DiscreteParameterSpec(values=[2, 4], scale=None),\n",
    "    \"batch-size\": hpt.DiscreteParameterSpec(values=[16, 32, 128], scale=None),\n",
    "    \"num-actions\": hpt.DiscreteParameterSpec(values=[8, 24, 32], scale=None),\n",
    "    # \"training-loops\": hpt.DiscreteParameterSpec(values=[4, 6, 8], scale=None),\n",
    "}"
   ]
  },
  {
   "cell_type": "markdown",
   "id": "6c99738c-0b2c-4a48-9025-21f82b634617",
   "metadata": {},
   "source": [
    "The final spec to define is `metric_spec`, which is a dictionary representing the metric to optimize. The dictionary key is the `hyperparameter_metric_tag` that you set in your training application code, and the value is the optimization goal."
   ]
  },
  {
   "cell_type": "code",
   "execution_count": 27,
   "id": "b926ea3b-1631-476c-a7a5-fe2f5841f1e3",
   "metadata": {},
   "outputs": [],
   "source": [
    "# Dictionary representing metrics to optimize.\n",
    "# The dictionary key is the metric_id, which is reported by your training job,\n",
    "# And the dictionary value is the optimization goal of the metric.\n",
    "metric_spec = {\"final_average_return\": \"maximize\"}"
   ]
  },
  {
   "cell_type": "markdown",
   "id": "2576033c-f80f-44ed-bfa7-c2a594bef0ec",
   "metadata": {},
   "source": [
    "## [1] Submit (hpt) train job"
   ]
  },
  {
   "cell_type": "code",
   "execution_count": 28,
   "id": "657b600d-770c-4acd-844e-9b6620213a40",
   "metadata": {},
   "outputs": [
    {
     "name": "stdout",
     "output_type": "stream",
     "text": [
      "JOB_NAME: mvl-hpt-run-20231018-151159\n"
     ]
    }
   ],
   "source": [
    "aiplatform.init(\n",
    "    project=PROJECT_ID\n",
    "    , location=REGION\n",
    "    , experiment=EXPERIMENT_NAME\n",
    "    # , staging_bucket=ROOT_DIR\n",
    ")\n",
    "\n",
    "JOB_NAME = f\"mvl-hpt-{RUN_NAME}\"\n",
    "print(f\"JOB_NAME: {JOB_NAME}\")"
   ]
  },
  {
   "cell_type": "code",
   "execution_count": 29,
   "id": "a8135819-0b02-40db-a8b9-3e924660630f",
   "metadata": {},
   "outputs": [],
   "source": [
    "# Create a CustomJob\n",
    "my_custom_hpt_job = aiplatform.CustomJob(\n",
    "    display_name=JOB_NAME\n",
    "    , project=PROJECT_ID\n",
    "    , worker_pool_specs=WORKER_POOL_SPECS\n",
    "    , base_output_dir=BASE_OUTPUT_DIR\n",
    "    , staging_bucket=ROOT_DIR\n",
    ")"
   ]
  },
  {
   "cell_type": "markdown",
   "id": "f6e62b4a-0f73-473d-9394-ec74688a302f",
   "metadata": {},
   "source": [
    "Then, create and run a HyperparameterTuningJob.\n",
    "\n",
    "> see [source code](https://github.com/googleapis/python-aiplatform/blob/main/google/cloud/aiplatform/hyperparameter_tuning.py)\n",
    "\n",
    "There are a few arguments to note:\n",
    "\n",
    "* `max_trial_count`: Sets an upper bound on the number of trials the service will run. The recommended practice is to start with a smaller number of trials and get a sense of how impactful your chosen hyperparameters are before scaling up.\n",
    "\n",
    "* `parallel_trial_count`: If you use parallel trials, the service provisions multiple training processing clusters. The worker pool spec that you specify when creating the job is used for each individual training cluster. Increasing the number of parallel trials reduces the amount of time the hyperparameter tuning job takes to run; however, it can reduce the effectiveness of the job overall. This is because the default tuning strategy uses results of previous trials to inform the assignment of values in subsequent trials.\n",
    "\n",
    "* `search_algorithm`: The available search algorithms are grid, random, or default (None). The default option applies Bayesian optimization to search the space of possible hyperparameter values and is the recommended algorithm."
   ]
  },
  {
   "cell_type": "code",
   "execution_count": 30,
   "id": "bb39f023-77fb-4624-aa67-7873a026e9fd",
   "metadata": {},
   "outputs": [],
   "source": [
    "# Create and run HyperparameterTuningJob\n",
    "\n",
    "hp_job = aiplatform.HyperparameterTuningJob(\n",
    "    display_name=JOB_NAME,\n",
    "    custom_job=my_custom_hpt_job,\n",
    "    metric_spec=metric_spec,\n",
    "    parameter_spec=parameter_spec,\n",
    "    max_trial_count=6,\n",
    "    parallel_trial_count=6,\n",
    "    project=PROJECT_ID,\n",
    "    search_algorithm=\"random\",\n",
    ")\n",
    "\n",
    "hp_job.run(\n",
    "    sync=False\n",
    "    , service_account=VERTEX_SA\n",
    "    , restart_job_on_worker_restart = False \n",
    "    , enable_web_access = True\n",
    "    , tensorboard = TB_RESOURCE_NAME\n",
    ")"
   ]
  },
  {
   "cell_type": "code",
   "execution_count": 32,
   "id": "7246e29b-f37f-458c-a63a-01cfdf71224b",
   "metadata": {},
   "outputs": [
    {
     "name": "stdout",
     "output_type": "stream",
     "text": [
      "Job Name: mvl-hpt-run-20231018-151159\n",
      "Job Resource Name: projects/934903580331/locations/us-central1/hyperparameterTuningJobs/4194334288109371392\n",
      "\n"
     ]
    }
   ],
   "source": [
    "print(f\"Job Name: {hp_job.display_name}\")\n",
    "print(f\"Job Resource Name: {hp_job.resource_name}\\n\")\n",
    "# print(f\"Check training progress at {custom_job._dashboard_uri()}\")"
   ]
  },
  {
   "cell_type": "markdown",
   "id": "b0a06fed-f0e3-4136-8e11-913455cf0485",
   "metadata": {},
   "source": [
    "#### Find the best combination(s) hyperparameter(s) for each metric"
   ]
  },
  {
   "cell_type": "code",
   "execution_count": 89,
   "id": "8c496d69-b89a-4e15-9342-2ca58585d17d",
   "metadata": {},
   "outputs": [
    {
     "name": "stdout",
     "output_type": "stream",
     "text": [
      "('3', 16.0, 24.0, 2.032210111618042)\n"
     ]
    }
   ],
   "source": [
    "best_test = (None, None, None, 0.0)\n",
    "for trial in hp_job.trials:\n",
    "    # print(trial)\n",
    "    # Keep track of the best outcome\n",
    "    if float(trial.final_measurement.metrics[0].value) > best_test[3]:\n",
    "        # print(trial.final_measurement.metrics[0].value)\n",
    "        # print(trial.parameters[0].value)\n",
    "        try:\n",
    "            best_test = (\n",
    "                trial.id,\n",
    "                trial.parameters[0].value.number_value,\n",
    "                trial.parameters[1].value.number_value,\n",
    "                trial.final_measurement.metrics[0].value,\n",
    "            )\n",
    "        except:\n",
    "            best_test = (\n",
    "                trial.id,\n",
    "                trial.parameters[0].value.number_value,\n",
    "                None,\n",
    "                trial.final_measurement.metrics[0].value,\n",
    "            )\n",
    "\n",
    "print(best_test)"
   ]
  },
  {
   "cell_type": "code",
   "execution_count": 93,
   "id": "44f17d3d-e14d-4f10-a678-e8ecd31c9ed1",
   "metadata": {},
   "outputs": [
    {
     "data": {
      "text/plain": [
       "16"
      ]
     },
     "execution_count": 93,
     "metadata": {},
     "output_type": "execute_result"
    }
   ],
   "source": [
    "BATCH_SIZE_best = int(best_test[1])\n",
    "BATCH_SIZE_best"
   ]
  },
  {
   "cell_type": "code",
   "execution_count": 94,
   "id": "1b4b05e7-2326-4a6c-9cc5-4bda0d73c4bb",
   "metadata": {},
   "outputs": [
    {
     "data": {
      "text/plain": [
       "24"
      ]
     },
     "execution_count": 94,
     "metadata": {},
     "output_type": "execute_result"
    }
   ],
   "source": [
    "NUM_ACTIONS_best = int(best_test[2])\n",
    "NUM_ACTIONS_best"
   ]
  },
  {
   "cell_type": "code",
   "execution_count": 96,
   "id": "eaf59c25-606f-4686-ae73-744285da0c3e",
   "metadata": {
    "tags": []
   },
   "outputs": [],
   "source": [
    "# if hp_job.trials:\n",
    "#     best_objective_values = dict.fromkeys(\n",
    "#         [metric.metric_id for metric in hp_job.trials[0].final_measurement.metrics]\n",
    "#         , -np.inf\n",
    "#     )\n",
    "#     best_params = defaultdict(list)\n",
    "#     for trial in hp_job.trials:\n",
    "#         for metric in trial.final_measurement.metrics:\n",
    "#             # here\n",
    "#             params = {\n",
    "#                 param.parameter_id: param.value for param in trial.parameters\n",
    "#             }\n",
    "#             if metric.value > best_objective_values[metric.metric_id]:\n",
    "#                 best_params[metric.metric_id] = [params]\n",
    "#             elif metric.value == best_objective_values[metric.metric_id]:\n",
    "#                 best_params[param.parameter_id].append(params)  # Handle cases where multiple hyperparameter values lead to the same performance.\n",
    "#     print(\"Best hyperparameter value(s):\")\n",
    "#     for metric, params in best_params.items():\n",
    "#         print(f\"Metric={metric}: {sorted(params)}\")"
   ]
  },
  {
   "cell_type": "markdown",
   "id": "f615339b-fd88-4239-9c67-27157ade7ea6",
   "metadata": {},
   "source": [
    "#### Convert a combination of best hyperparameter(s) for a metric of interest to JSON"
   ]
  },
  {
   "cell_type": "code",
   "execution_count": 97,
   "id": "0574bda0-f1f9-438f-b4b9-67754a769bd0",
   "metadata": {},
   "outputs": [],
   "source": [
    "# LOCAL_RESULTS_FILE = \"result.json\"  # {\"batch-size\": 8.0, \"steps-per-loop\": 2.0}\n",
    "\n",
    "# with open(LOCAL_RESULTS_FILE, \"w\") as f:\n",
    "#     json.dump(best_params[\"final_average_return\"][0], f)"
   ]
  },
  {
   "cell_type": "markdown",
   "id": "98a63794-61bb-415a-b08d-aebbb35abeb2",
   "metadata": {},
   "source": [
    "#### Upload the best hyperparameter(s) to GCS for use in training"
   ]
  },
  {
   "cell_type": "code",
   "execution_count": 98,
   "id": "2a3f7eab-f1ff-4cea-8359-b17516d584ce",
   "metadata": {},
   "outputs": [],
   "source": [
    "# !gsutil -q cp $LOCAL_RESULTS_FILE $HPTUNING_RESULT_URI\n",
    "\n",
    "# !gsutil ls $HPTUNING_RESULT_URI"
   ]
  },
  {
   "cell_type": "markdown",
   "id": "cfe724c1-2dcb-4d10-8cec-fb56fb088120",
   "metadata": {},
   "source": [
    "## [2] Submit custom container training job\n",
    "\n",
    "- Note again that the bucket must be in the same regional location as the service location and it should not be multi-regional.\n",
    "- Read more of CustomContainerTrainingJob's source code [here](https://github.com/googleapis/python-aiplatform/blob/v0.8.0/google/cloud/aiplatform/training_jobs.py#L2153).\n",
    "- Like with local execution, you can use TensorBoard Profiler to track the training process and resources, and visualize the corresponding artifacts using the command: `%tensorboard --logdir $PROFILER_DIR`."
   ]
  },
  {
   "cell_type": "code",
   "execution_count": 231,
   "id": "421336fc-8031-45c4-afb1-3579e7b95d86",
   "metadata": {},
   "outputs": [
    {
     "name": "stdout",
     "output_type": "stream",
     "text": [
      "EXPERIMENT_NAME   : scale-perarm-hpt\n",
      "RUN_NAME          : run-20231018-203331\n",
      "BASE_OUTPUT_DIR   : gs://rec-bandits-v2-hybrid-vertex-bucket/scale-perarm-hpt/run-20231018-203331\n",
      "LOG_DIR           : gs://rec-bandits-v2-hybrid-vertex-bucket/scale-perarm-hpt/run-20231018-203331/logs\n",
      "ROOT_DIR          : gs://rec-bandits-v2-hybrid-vertex-bucket/scale-perarm-hpt/run-20231018-203331/root\n",
      "ARTIFACTS_DIR     : gs://rec-bandits-v2-hybrid-vertex-bucket/scale-perarm-hpt/run-20231018-203331/artifacts\n"
     ]
    }
   ],
   "source": [
    "EXPERIMENT_NAME   = f'scale-perarm-hpt'\n",
    "\n",
    "invoke_time       = time.strftime(\"%Y%m%d-%H%M%S\")\n",
    "RUN_NAME          = f'run-{invoke_time}'\n",
    "\n",
    "BASE_OUTPUT_DIR   = f'gs://{BUCKET_NAME}/{EXPERIMENT_NAME}/{RUN_NAME}'\n",
    "LOG_DIR           = f\"{BASE_OUTPUT_DIR}/logs\"\n",
    "ROOT_DIR          = f\"{BASE_OUTPUT_DIR}/root\"                               # Root directory for writing logs/summaries/checkpoints.\n",
    "ARTIFACTS_DIR     = f\"{BASE_OUTPUT_DIR}/artifacts\"                          # Where the trained model will be saved and restored.\n",
    "\n",
    "print(f\"EXPERIMENT_NAME   : {EXPERIMENT_NAME}\")\n",
    "print(f\"RUN_NAME          : {RUN_NAME}\")\n",
    "print(f\"BASE_OUTPUT_DIR   : {BASE_OUTPUT_DIR}\")\n",
    "print(f\"LOG_DIR           : {LOG_DIR}\")\n",
    "print(f\"ROOT_DIR          : {ROOT_DIR}\")\n",
    "print(f\"ARTIFACTS_DIR     : {ARTIFACTS_DIR}\")"
   ]
  },
  {
   "cell_type": "code",
   "execution_count": 232,
   "id": "98865883-8f1e-49c8-8172-82fcfa6dfe07",
   "metadata": {},
   "outputs": [],
   "source": [
    "# aiplatform.init(project=PROJECT_ID, location=REGION, staging_bucket=BUCKET_NAME)"
   ]
  },
  {
   "cell_type": "code",
   "execution_count": 233,
   "id": "59c73f27-f79b-403e-9b77-1bfdc843c377",
   "metadata": {},
   "outputs": [],
   "source": [
    "RUN_HYPERPARAMETER_TUNING       = False \n",
    "TRAIN_WITH_BEST_HYPERPARAMETERS = False   "
   ]
  },
  {
   "cell_type": "markdown",
   "id": "95b1dc2e-ec7b-424b-9a4a-de40cfdd4b51",
   "metadata": {},
   "source": [
    "### set Tensorboard"
   ]
  },
  {
   "cell_type": "code",
   "execution_count": 234,
   "id": "fe2866e1-3f4e-4bf0-a97e-760cf5c58cad",
   "metadata": {},
   "outputs": [
    {
     "name": "stdout",
     "output_type": "stream",
     "text": [
      "TB_RESOURCE_NAME: projects/934903580331/locations/us-central1/tensorboards/3765013686528245760\n",
      "TB display name: scale-perarm-hpt-run-20231018-203331\n"
     ]
    }
   ],
   "source": [
    "# # create new TB instance\n",
    "TENSORBOARD_DISPLAY_NAME=f\"{EXPERIMENT_NAME}-{RUN_NAME}\"\n",
    "\n",
    "tensorboard = aiplatform.Tensorboard.create(\n",
    "    display_name=TENSORBOARD_DISPLAY_NAME\n",
    "    , project=PROJECT_ID\n",
    "    , location=REGION\n",
    "    # , location=\"asia-southeast1\"\n",
    ")\n",
    "\n",
    "TB_RESOURCE_NAME = tensorboard.resource_name\n",
    "\n",
    "# use existing TB instance\n",
    "# TB_RESOURCE_NAME = 'projects/934903580331/locations/us-central1/tensorboards/6924469145035603968'\n",
    "\n",
    "print(f\"TB_RESOURCE_NAME: {TB_RESOURCE_NAME}\")\n",
    "print(f\"TB display name: {tensorboard.display_name}\")"
   ]
  },
  {
   "cell_type": "markdown",
   "id": "71603efe-bfa5-4ec6-8103-cec850fb839e",
   "metadata": {},
   "source": [
    "### set training args"
   ]
  },
  {
   "cell_type": "code",
   "execution_count": 235,
   "id": "ccca6c0b-26a2-479e-a386-94a39c199f6a",
   "metadata": {},
   "outputs": [
    {
     "name": "stdout",
     "output_type": "stream",
     "text": [
      "BATCH_SIZE     : 16\n",
      "TRAINING_LOOPS : 100\n",
      "STEPS_PER_LOOP : 1\n",
      "NUM_ACTIONS    : 24\n",
      "CHKPT_INTERVAL : 20\n"
     ]
    }
   ],
   "source": [
    "# Set hyperparameters.\n",
    "BATCH_SIZE       = BATCH_SIZE_best\n",
    "TRAINING_LOOPS   = 100\n",
    "STEPS_PER_LOOP   = 1\n",
    "NUM_ACTIONS      = NUM_ACTIONS_best\n",
    "\n",
    "CHKPT_INTERVAL       = TRAINING_LOOPS // 5\n",
    "\n",
    "print(f\"BATCH_SIZE     : {BATCH_SIZE}\")\n",
    "print(f\"TRAINING_LOOPS : {TRAINING_LOOPS}\")\n",
    "print(f\"STEPS_PER_LOOP : {STEPS_PER_LOOP}\")\n",
    "print(f\"NUM_ACTIONS    : {NUM_ACTIONS}\")\n",
    "print(f\"CHKPT_INTERVAL : {CHKPT_INTERVAL}\")"
   ]
  },
  {
   "cell_type": "code",
   "execution_count": 236,
   "id": "c28c490b-6764-4bc7-8552-10fea73a0d43",
   "metadata": {},
   "outputs": [
    {
     "name": "stdout",
     "output_type": "stream",
     "text": [
      "[{'container_spec': {'args': ['--data-path=gs://rec-bandits-v2-hybrid-vertex-bucket/data',\n",
      "                              '--bucket_name=rec-bandits-v2-hybrid-vertex-bucket',\n",
      "                              '--data_gcs_prefix=data',\n",
      "                              '--data_path=gs://rec-bandits-v2-hybrid-vertex-bucket/data',\n",
      "                              '--project_number=934903580331',\n",
      "                              '--batch-size=16',\n",
      "                              '--rank-k=20',\n",
      "                              '--num-actions=24',\n",
      "                              '--tikhonov-weight=0.001',\n",
      "                              '--agent-alpha=10.0',\n",
      "                              '--training_loops=100',\n",
      "                              '--steps-per-loop=1',\n",
      "                              '--distribute=single',\n",
      "                              '--artifacts_dir=gs://rec-bandits-v2-hybrid-vertex-bucket/scale-perarm-hpt/run-20231018-203331/artifacts',\n",
      "                              '--root_dir=gs://rec-bandits-v2-hybrid-vertex-bucket/scale-perarm-hpt/run-20231018-203331/root',\n",
      "                              '--log_dir=gs://rec-bandits-v2-hybrid-vertex-bucket/scale-perarm-hpt/run-20231018-203331/logs',\n",
      "                              '--experiment_name=scale-perarm-hpt',\n",
      "                              '--experiment_run=run-20231018-203331',\n",
      "                              '--tf_gpu_thread_count=4',\n",
      "                              '--chkpt_interval=20',\n",
      "                              '--profiler',\n",
      "                              '--debug_summaries',\n",
      "                              '--use_gpu'],\n",
      "                     'image_uri': 'gcr.io/hybrid-vertex/train-perarm-feats-v2-01:latest'},\n",
      "  'machine_spec': {'accelerator_count': 1,\n",
      "                   'accelerator_type': 'NVIDIA_TESLA_T4',\n",
      "                   'machine_type': 'n1-highcpu-16'},\n",
      "  'replica_count': 1}]\n"
     ]
    }
   ],
   "source": [
    "WORKER_ARGS = [\n",
    "    f\"--data-path={DATA_PATH}\"               # TODO - remove duplicate arg\n",
    "    , f\"--bucket_name={BUCKET_NAME}\"\n",
    "    , f\"--data_gcs_prefix={DATA_GCS_PREFIX}\"\n",
    "    , f\"--data_path={DATA_PATH}\"\n",
    "    , f\"--project_number={PROJECT_NUM}\"\n",
    "    , f\"--batch-size={BATCH_SIZE}\"\n",
    "    , f\"--rank-k={RANK_K}\"\n",
    "    , f\"--num-actions={NUM_ACTIONS_best}\"\n",
    "    , f\"--tikhonov-weight={TIKHONOV_WEIGHT}\"\n",
    "    , f\"--agent-alpha={AGENT_ALPHA}\"\n",
    "    , f\"--training_loops={TRAINING_LOOPS}\"\n",
    "    , f\"--steps-per-loop={STEPS_PER_LOOP}\"\n",
    "    , f\"--distribute={DISTRIBUTE_STRATEGY}\"\n",
    "    , f\"--artifacts_dir={ARTIFACTS_DIR}\"\n",
    "    , f\"--root_dir={ROOT_DIR}\"\n",
    "    , f\"--log_dir={LOG_DIR}\"\n",
    "    , f\"--experiment_name={EXPERIMENT_NAME}\"\n",
    "    , f\"--experiment_run={RUN_NAME}\"\n",
    "    , f\"--tf_gpu_thread_count={TF_GPU_THREAD_COUNT}\"\n",
    "    , f\"--chkpt_interval={CHKPT_INTERVAL}\"\n",
    "    , f\"--profiler\"\n",
    "    # , f\"--sum_grads_vars\"\n",
    "    , f\"--debug_summaries\"\n",
    "    , f\"--use_gpu\"\n",
    "    # , f\"--use_tpu\"\n",
    "]\n",
    "\n",
    "if RUN_HYPERPARAMETER_TUNING:\n",
    "    WORKER_ARGS.append(\"--run-hyperparameter-tuning\")\n",
    "elif TRAIN_WITH_BEST_HYPERPARAMETERS:\n",
    "    WORKER_ARGS.append(\"--train-with-best-hyperparameters\")\n",
    "    WORKER_ARGS.append(f\"--best-hyperparameters-bucket={BUCKET_NAME}\")\n",
    "    WORKER_ARGS.append(f\"--best-hyperparameters-path={HPTUNING_RESULT_PATH}\")\n",
    "    \n",
    "from src.per_arm_rl import train_utils\n",
    "\n",
    "WORKER_POOL_SPECS = train_utils.prepare_worker_pool_specs(\n",
    "    image_uri=f\"{IMAGE_URI_01}:latest\",\n",
    "    args=WORKER_ARGS,\n",
    "    replica_count=REPLICA_COUNT,\n",
    "    machine_type=WORKER_MACHINE_TYPE,\n",
    "    accelerator_count=PER_MACHINE_ACCELERATOR_COUNT,\n",
    "    accelerator_type=ACCELERATOR_TYPE,\n",
    "    reduction_server_count=REDUCTION_SERVER_COUNT,\n",
    "    reduction_server_machine_type=REDUCTION_SERVER_MACHINE_TYPE,\n",
    ")\n",
    "\n",
    "from pprint import pprint\n",
    "pprint(WORKER_POOL_SPECS)"
   ]
  },
  {
   "cell_type": "code",
   "execution_count": 237,
   "id": "c437f0d1-f5e5-4dcc-b08c-efd964bd4f9c",
   "metadata": {},
   "outputs": [
    {
     "name": "stdout",
     "output_type": "stream",
     "text": [
      "JOB_NAME: mvl-best-train-run-20231018-203331\n"
     ]
    }
   ],
   "source": [
    "aiplatform.init(\n",
    "    project=PROJECT_ID\n",
    "    , location=REGION\n",
    "    , experiment=EXPERIMENT_NAME\n",
    "    # , staging_bucket=ROOT_DIR\n",
    ")\n",
    "\n",
    "JOB_NAME = f\"mvl-best-train-{RUN_NAME}\"\n",
    "print(f\"JOB_NAME: {JOB_NAME}\")"
   ]
  },
  {
   "cell_type": "code",
   "execution_count": 238,
   "id": "45b07bef-7efa-4cfa-981a-59a75eaefeec",
   "metadata": {},
   "outputs": [],
   "source": [
    "# Create a CustomJob\n",
    "job = aiplatform.CustomJob(\n",
    "    display_name=JOB_NAME\n",
    "    , project=PROJECT_ID\n",
    "    , worker_pool_specs=WORKER_POOL_SPECS\n",
    "    , base_output_dir=BASE_OUTPUT_DIR\n",
    "    , staging_bucket=ROOT_DIR\n",
    "    # , location=\"asia-southeast1\" # TODO\n",
    ")"
   ]
  },
  {
   "cell_type": "code",
   "execution_count": 239,
   "id": "ce86a695-93f4-4d88-b8e1-d032d8fff054",
   "metadata": {},
   "outputs": [],
   "source": [
    "job.run(\n",
    "    tensorboard=TB_RESOURCE_NAME,\n",
    "    service_account=VERTEX_SA,\n",
    "    restart_job_on_worker_restart=False,\n",
    "    enable_web_access=True,\n",
    "    sync=False,\n",
    ")"
   ]
  },
  {
   "cell_type": "markdown",
   "id": "7e44765f-46e6-4bcb-821c-d632bd11a898",
   "metadata": {},
   "source": [
    "### TensorBoard Profiler"
   ]
  },
  {
   "cell_type": "code",
   "execution_count": 240,
   "id": "f444ff4d-ef4a-4c3e-81b7-2931b5f6e4f2",
   "metadata": {},
   "outputs": [
    {
     "name": "stdout",
     "output_type": "stream",
     "text": [
      "TB_LOGS_PATH: gs://rec-bandits-v2-hybrid-vertex-bucket/scale-perarm-hpt/run-20231018-203331/logs\n"
     ]
    }
   ],
   "source": [
    "# os.environ['TF_CPP_MIN_LOG_LEVEL'] = '2'\n",
    "\n",
    "# import tensorflow as tf\n",
    "\n",
    "TB_LOGS_PATH = f'{LOG_DIR}' # \n",
    "print(f\"TB_LOGS_PATH: {TB_LOGS_PATH}\")"
   ]
  },
  {
   "cell_type": "code",
   "execution_count": 243,
   "id": "66789dee-8c0b-42ec-9a39-ab06d57e412e",
   "metadata": {},
   "outputs": [],
   "source": [
    "# %load_ext tensorboard\n",
    "%reload_ext tensorboard"
   ]
  },
  {
   "cell_type": "code",
   "execution_count": 245,
   "id": "113ed591-2570-4d6a-a779-2754e012225b",
   "metadata": {},
   "outputs": [],
   "source": [
    "%tensorboard --logdir=$TB_LOGS_PATH"
   ]
  },
  {
   "cell_type": "markdown",
   "id": "5c8878e9-399d-4c10-a0d6-4d6dc4ea3be7",
   "metadata": {},
   "source": [
    "## Making predictions\n",
    "\n",
    "* When a policy is trained, given a new observation request (i.e. a user vector), \n",
    "* the policy will inference (produce) actions, which are the recommended movies. \n",
    "* In TF-Agents, observations are abstracted in a named tuple,\n",
    "\n",
    "```\n",
    "TimeStep(‘step_type’, ‘discount’, ‘reward’, ‘observation’)\n",
    "```\n",
    "\n",
    "* the policy map time steps to actions"
   ]
  },
  {
   "cell_type": "code",
   "execution_count": null,
   "id": "d6d2e592-5486-4b21-8274-aaec9a890dae",
   "metadata": {},
   "outputs": [],
   "source": [
    "# ARTIFACTS_DIR = \"gs://mabv1-hybrid-vertex-bucket/scale-perarm-hpt/run-20230717-211248/model\"\n",
    "\n",
    "!gsutil ls $ARTIFACTS_DIR"
   ]
  },
  {
   "cell_type": "code",
   "execution_count": 97,
   "id": "5b8b465f-f764-49fb-b035-8f610b6c756f",
   "metadata": {},
   "outputs": [
    {
     "data": {
      "text/plain": [
       "<tensorflow.python.saved_model.load.Loader._recreate_base_user_object.<locals>._UserObject at 0x7fa450365570>"
      ]
     },
     "execution_count": 97,
     "metadata": {},
     "output_type": "execute_result"
    }
   ],
   "source": [
    "trained_policy = tf.saved_model.load(MODEL_DIR)\n",
    "trained_policy"
   ]
  },
  {
   "cell_type": "code",
   "execution_count": 100,
   "id": "dfa1889f-608e-4666-b286-ed77a1fc92bf",
   "metadata": {},
   "outputs": [
    {
     "name": "stdout",
     "output_type": "stream",
     "text": [
      "Loaded policy at step: %d -1\n"
     ]
    }
   ],
   "source": [
    "# train_step = trained_policy.get_train_step()\n",
    "# print('Loaded policy at step: %d', train_step.numpy())"
   ]
  },
  {
   "cell_type": "code",
   "execution_count": 170,
   "id": "f22e67b2-c0de-47ea-97f6-e4d84b41bcd1",
   "metadata": {},
   "outputs": [],
   "source": [
    "from src.per_arm_rl import my_per_arm_py_env as my_per_arm_py_env\n",
    "\n",
    "env = my_per_arm_py_env.MyMovieLensPerArmPyEnvironment(\n",
    "    project_number = PROJECT_NUM\n",
    "    , data_path = DATA_PATH\n",
    "    , bucket_name = BUCKET_NAME\n",
    "    , data_gcs_prefix = DATA_GCS_PREFIX\n",
    "    , user_age_lookup_dict = data_config.USER_AGE_LOOKUP\n",
    "    , user_occ_lookup_dict = data_config.USER_OCC_LOOKUP\n",
    "    , movie_gen_lookup_dict = data_config.MOVIE_GEN_LOOKUP\n",
    "    , num_users = data_config.MOVIELENS_NUM_USERS\n",
    "    , num_movies = data_config.MOVIELENS_NUM_MOVIES\n",
    "    , rank_k = RANK_K\n",
    "    , batch_size = BATCH_SIZE\n",
    "    , num_actions = NUM_ACTIONS\n",
    ")\n",
    "\n",
    "environment = tf_py_environment.TFPyEnvironment(env)"
   ]
  },
  {
   "cell_type": "code",
   "execution_count": 177,
   "id": "2e542503-f5bb-40dc-bdb0-6dacb0afdedf",
   "metadata": {
    "tags": []
   },
   "outputs": [
    {
     "data": {
      "text/plain": [
       "[2, 9, 11, 0, 12, 5, 7, 13]"
      ]
     },
     "execution_count": 177,
     "metadata": {},
     "output_type": "execute_result"
    }
   ],
   "source": [
    "observation_array = environment._observe()\n",
    "\n",
    "time_step = tf_agents.trajectories.restart(\n",
    "    observation=observation_array,\n",
    "    batch_size=tf.convert_to_tensor([BATCH_SIZE]),\n",
    ")\n",
    "\n",
    "action_step = trained_policy.action(time_step)\n",
    "\n",
    "action_step.action.numpy().tolist()"
   ]
  },
  {
   "cell_type": "markdown",
   "id": "055c931e-d69e-47cb-b7af-0d85b8ad03bd",
   "metadata": {},
   "source": [
    "### debugging"
   ]
  },
  {
   "cell_type": "code",
   "execution_count": 178,
   "id": "5ae456bf-6d03-41bb-b6bb-f5c345a5bbcd",
   "metadata": {
    "tags": []
   },
   "outputs": [
    {
     "data": {
      "text/plain": [
       "{'global': <tf.Tensor: shape=(8, 22), dtype=float32, numpy=\n",
       " array([[-2.93424092e-02,  1.21775474e-02,  3.43246460e-02,\n",
       "         -3.27415764e-02, -1.81793012e-02, -3.88447121e-02,\n",
       "          5.79259545e-03, -2.34962348e-02, -3.24628595e-03,\n",
       "          3.40082720e-02, -2.29820684e-02, -6.14768942e-04,\n",
       "          3.24703840e-04,  6.10099500e-03,  2.94740163e-02,\n",
       "         -1.70867296e-03, -1.08436979e-02,  4.27724496e-02,\n",
       "          6.29528239e-02, -2.03116778e-02,  6.00010014e+00,\n",
       "          1.50001001e+01],\n",
       "        [-5.58640324e-02,  3.56975570e-02, -5.23380339e-02,\n",
       "         -3.14981118e-02,  4.17792089e-02,  4.70291600e-02,\n",
       "          6.71838149e-02, -1.15915332e-02, -6.09778147e-03,\n",
       "         -7.18918741e-02, -9.12436005e-03, -1.62272230e-02,\n",
       "          4.79080118e-02, -7.91483298e-02,  3.40030827e-02,\n",
       "         -3.72561365e-02,  2.77148210e-03,  5.98525517e-02,\n",
       "         -5.55859469e-02,  1.00681789e-01,  1.00010002e+00,\n",
       "          7.00010014e+00],\n",
       "        [-1.25767207e-02, -1.81108192e-02,  3.78824696e-02,\n",
       "          1.99778099e-02,  2.47696117e-02, -3.34141473e-03,\n",
       "          1.41469548e-02, -2.42375825e-02,  3.81397381e-02,\n",
       "         -1.61925554e-02,  6.58141077e-02,  1.39474683e-02,\n",
       "          1.61183514e-02, -4.39680042e-03, -9.93907824e-03,\n",
       "         -2.82930490e-02,  3.09323613e-03,  4.24743667e-02,\n",
       "          3.84851582e-02,  7.84974545e-03,  1.00010002e+00,\n",
       "          1.80000992e+01],\n",
       "        [-2.88276076e-02,  2.33261120e-02,  1.37448302e-02,\n",
       "         -3.24697755e-02,  1.60954408e-02, -5.86545765e-02,\n",
       "          4.70236577e-02,  3.05260997e-02,  1.83475465e-02,\n",
       "          1.57275740e-02, -2.32415348e-02,  1.89339723e-02,\n",
       "         -4.32425551e-02, -5.06859533e-02, -1.90667789e-02,\n",
       "         -8.61680601e-03, -7.25596678e-03,  2.37075635e-03,\n",
       "         -8.06506723e-03,  1.19535485e-02,  6.00010014e+00,\n",
       "          9.00010014e+00],\n",
       "        [-6.76529948e-03, -2.63302773e-02,  2.53714547e-02,\n",
       "         -2.98459642e-02, -1.40514039e-02, -1.14489086e-02,\n",
       "          1.50022656e-02, -7.70863518e-03,  2.10634340e-03,\n",
       "         -1.19938515e-02,  2.20075287e-02, -1.86828729e-02,\n",
       "         -3.92794702e-03, -2.44445167e-02, -5.87659106e-02,\n",
       "          9.84079204e-04, -3.04556009e-03, -3.01892729e-03,\n",
       "          1.19985733e-02,  5.17546711e-03,  6.00010014e+00,\n",
       "          9.00010014e+00],\n",
       "        [-4.04615793e-03, -2.08766647e-02,  2.02126633e-02,\n",
       "         -3.39380875e-02, -3.02499346e-02,  1.30593311e-03,\n",
       "          1.27979275e-02, -3.31971282e-03,  1.65692833e-03,\n",
       "         -2.52598140e-04, -1.10787675e-02, -9.75355133e-03,\n",
       "          1.06276339e-02,  3.35022481e-03,  2.85652988e-02,\n",
       "         -6.34480221e-03,  1.70732886e-02,  7.75871752e-03,\n",
       "          1.89699996e-02, -6.01801276e-03,  6.00010014e+00,\n",
       "          1.30001001e+01],\n",
       "        [-9.64617729e-03,  1.39617110e-02,  2.46733651e-02,\n",
       "          7.37233926e-03,  1.31281372e-02, -5.14326198e-03,\n",
       "          9.49300453e-03,  6.66562933e-03,  3.09520923e-02,\n",
       "         -8.16847663e-03, -1.05138328e-02, -2.63712159e-03,\n",
       "         -9.95505042e-03, -1.09537048e-02, -8.94109067e-03,\n",
       "          1.44108338e-02,  1.57486647e-02,  4.00693715e-02,\n",
       "         -6.10366091e-03,  2.11101752e-02,  4.00010014e+00,\n",
       "          1.40001001e+01],\n",
       "        [-5.54393828e-02,  9.26174968e-03, -4.01513278e-02,\n",
       "         -1.73276998e-02,  3.55370939e-02,  7.28245685e-03,\n",
       "         -2.53780149e-02, -7.59463236e-02, -4.23404239e-02,\n",
       "         -2.19987091e-02,  1.19096804e-02,  1.08110882e-01,\n",
       "         -4.90403138e-02, -2.97054574e-02,  1.92432925e-02,\n",
       "         -1.22798989e-02,  3.40930670e-02, -1.67666972e-02,\n",
       "         -2.17197109e-02,  1.06678193e-03,  2.00009990e+00,\n",
       "          4.00010014e+00]], dtype=float32)>,\n",
       " 'per_arm': <tf.Tensor: shape=(8, 20, 21), dtype=float32, numpy=\n",
       " array([[[-2.20500771e-03, -5.73565811e-03,  8.58613476e-03, ...,\n",
       "          -9.98645835e-03,  1.04255800e-03,  9.99999975e-05],\n",
       "         [-1.62567652e-03, -2.70252465e-03,  2.02055526e-04, ...,\n",
       "          -3.96892056e-03, -1.11329546e-02,  9.99999975e-05],\n",
       "         [-4.67515849e-02, -7.83489496e-02,  5.86066535e-03, ...,\n",
       "           3.00249904e-02, -4.27101478e-02,  5.00010014e+00],\n",
       "         ...,\n",
       "         [-1.59967411e-03, -2.43821065e-03, -5.06299268e-03, ...,\n",
       "           7.09974905e-03, -2.00780132e-03,  9.99999975e-05],\n",
       "         [-2.12636637e-03, -6.36503473e-03, -2.00103340e-03, ...,\n",
       "          -4.22167405e-03, -4.41726390e-03,  4.00010014e+00],\n",
       "         [-1.11584552e-03, -3.59215681e-03,  9.33839381e-03, ...,\n",
       "          -3.80187179e-03, -7.12191686e-04,  7.00010014e+00]],\n",
       " \n",
       "        [[-4.66827266e-02,  9.42989346e-03, -3.12117226e-02, ...,\n",
       "           1.35678379e-02, -4.22969880e-03,  7.00010014e+00],\n",
       "         [-6.26256515e-04,  5.17084613e-04,  3.04906629e-04, ...,\n",
       "          -1.26112357e-03,  1.06783921e-03,  4.00010014e+00],\n",
       "         [-6.47201855e-03, -5.59959887e-03, -1.56560671e-02, ...,\n",
       "           1.32516790e-02,  3.50488978e-03,  9.99999975e-05],\n",
       "         ...,\n",
       "         [-3.12758813e-04, -1.75562908e-03,  6.52517192e-04, ...,\n",
       "          -4.42214124e-03, -3.01003573e-04,  7.00010014e+00],\n",
       "         [-3.58667283e-04,  9.86200990e-04,  8.59011954e-04, ...,\n",
       "           1.35460787e-03,  2.80933850e-03,  4.00010014e+00],\n",
       "         [-8.36209147e-05, -8.71818280e-04,  4.33796667e-04, ...,\n",
       "          -4.78980271e-03, -1.59536267e-03,  4.00010014e+00]],\n",
       " \n",
       "        [[-2.51697842e-02, -4.49579582e-02, -1.90109722e-02, ...,\n",
       "          -2.19371300e-02, -2.91146580e-02,  7.00010014e+00],\n",
       "         [-4.12938243e-04,  1.30802940e-03,  7.91714585e-04, ...,\n",
       "           1.88590714e-03, -1.20145630e-03,  4.00010014e+00],\n",
       "         [-1.94612090e-02,  3.23033296e-02,  2.65963189e-02, ...,\n",
       "           1.78307425e-02,  2.39774492e-02,  7.00010014e+00],\n",
       "         ...,\n",
       "         [-5.17657325e-02, -8.38209242e-02, -2.50061303e-02, ...,\n",
       "          -6.77779391e-02, -1.21888556e-02,  7.00010014e+00],\n",
       "         [-1.49953542e-02, -9.73030739e-03, -2.54759081e-02, ...,\n",
       "           5.30642690e-03,  2.05106847e-02,  5.00010014e+00],\n",
       "         [-6.44703256e-03, -1.27053233e-02,  1.93389915e-02, ...,\n",
       "          -3.62138785e-02, -1.11699747e-02,  9.99999975e-05]],\n",
       " \n",
       "        ...,\n",
       " \n",
       "        [[-3.79555207e-03, -9.72590409e-03,  3.16229975e-03, ...,\n",
       "           2.94016162e-03, -1.06334481e-02,  9.99999975e-05],\n",
       "         [-1.22068552e-02, -2.08801981e-02,  3.05569149e-03, ...,\n",
       "          -8.77284817e-03, -3.69774699e-02,  9.99999975e-05],\n",
       "         [-5.06625650e-03, -8.40868393e-04, -9.66512784e-03, ...,\n",
       "           1.11000389e-02, -1.67239327e-02,  7.00010014e+00],\n",
       "         ...,\n",
       "         [-2.32252735e-03, -2.21092533e-03, -6.14170171e-03, ...,\n",
       "           1.80381853e-02, -3.92132299e-03,  4.00010014e+00],\n",
       "         [-2.17486336e-03, -2.39336491e-03,  1.02864504e-02, ...,\n",
       "          -1.61451399e-02,  2.50160345e-03,  5.00010014e+00],\n",
       "         [-1.18823498e-02,  2.19545607e-02,  2.45898999e-02, ...,\n",
       "           5.14865713e-03,  3.71873453e-02,  9.99999975e-05]],\n",
       " \n",
       "        [[-3.72004753e-04, -7.47140090e-04, -1.38570520e-03, ...,\n",
       "           3.97971272e-03,  6.48855884e-03,  1.50001001e+01],\n",
       "         [-1.36699295e-02, -1.56952050e-02, -2.32205298e-02, ...,\n",
       "          -2.05519162e-02, -1.57200545e-02,  9.99999975e-05],\n",
       "         [-6.39628172e-02,  5.45518585e-02,  2.75331065e-02, ...,\n",
       "          -3.79705727e-02, -6.68562436e-03,  1.00001001e+01],\n",
       "         ...,\n",
       "         [-2.42338167e-03,  2.97663896e-03,  5.94716566e-03, ...,\n",
       "          -9.16906353e-03, -6.81335456e-04,  4.00010014e+00],\n",
       "         [-4.11046483e-02, -8.07167683e-03, -7.34216049e-02, ...,\n",
       "          -1.35765420e-02,  5.92427813e-02,  5.00010014e+00],\n",
       "         [-9.48232118e-05, -1.17778906e-03,  8.89299787e-04, ...,\n",
       "          -9.71801986e-04, -9.17258265e-04,  9.99999975e-05]],\n",
       " \n",
       "        [[-1.42711319e-03, -2.28412868e-03,  1.08605775e-03, ...,\n",
       "          -1.15825972e-02, -7.78348278e-03,  4.00010014e+00],\n",
       "         [-7.39452313e-04,  4.89327358e-04,  9.48672765e-04, ...,\n",
       "          -1.77843124e-03, -3.46066407e-03,  4.00010014e+00],\n",
       "         [-2.12636637e-03, -6.36503473e-03, -2.00103340e-03, ...,\n",
       "          -4.22167405e-03, -4.41726390e-03,  4.00010014e+00],\n",
       "         ...,\n",
       "         [-4.44793463e-04,  1.59856526e-03,  4.56587353e-04, ...,\n",
       "          -3.59238102e-03,  4.43860795e-03,  9.99999975e-05],\n",
       "         [-3.47670459e-04, -1.44592288e-03,  1.50427688e-03, ...,\n",
       "          -3.97594471e-04,  3.26828379e-03,  1.30001001e+01],\n",
       "         [-4.28768653e-05, -5.75652753e-04,  5.00363007e-04, ...,\n",
       "           2.61078618e-04, -3.10227653e-04,  7.00010014e+00]]],\n",
       "       dtype=float32)>}"
      ]
     },
     "execution_count": 178,
     "metadata": {},
     "output_type": "execute_result"
    }
   ],
   "source": [
    "observation_array"
   ]
  },
  {
   "cell_type": "code",
   "execution_count": 179,
   "id": "b8d6ede1-3c60-4e0c-9e2e-411861fe3b40",
   "metadata": {
    "collapsed": true,
    "jupyter": {
     "outputs_hidden": true
    },
    "tags": []
   },
   "outputs": [
    {
     "data": {
      "text/plain": [
       "TimeStep(\n",
       "{'discount': <tf.Tensor: shape=(8,), dtype=float32, numpy=array([1., 1., 1., 1., 1., 1., 1., 1.], dtype=float32)>,\n",
       " 'observation': {'global': <tf.Tensor: shape=(8, 22), dtype=float32, numpy=\n",
       "array([[-2.93424092e-02,  1.21775474e-02,  3.43246460e-02,\n",
       "        -3.27415764e-02, -1.81793012e-02, -3.88447121e-02,\n",
       "         5.79259545e-03, -2.34962348e-02, -3.24628595e-03,\n",
       "         3.40082720e-02, -2.29820684e-02, -6.14768942e-04,\n",
       "         3.24703840e-04,  6.10099500e-03,  2.94740163e-02,\n",
       "        -1.70867296e-03, -1.08436979e-02,  4.27724496e-02,\n",
       "         6.29528239e-02, -2.03116778e-02,  6.00010014e+00,\n",
       "         1.50001001e+01],\n",
       "       [-5.58640324e-02,  3.56975570e-02, -5.23380339e-02,\n",
       "        -3.14981118e-02,  4.17792089e-02,  4.70291600e-02,\n",
       "         6.71838149e-02, -1.15915332e-02, -6.09778147e-03,\n",
       "        -7.18918741e-02, -9.12436005e-03, -1.62272230e-02,\n",
       "         4.79080118e-02, -7.91483298e-02,  3.40030827e-02,\n",
       "        -3.72561365e-02,  2.77148210e-03,  5.98525517e-02,\n",
       "        -5.55859469e-02,  1.00681789e-01,  1.00010002e+00,\n",
       "         7.00010014e+00],\n",
       "       [-1.25767207e-02, -1.81108192e-02,  3.78824696e-02,\n",
       "         1.99778099e-02,  2.47696117e-02, -3.34141473e-03,\n",
       "         1.41469548e-02, -2.42375825e-02,  3.81397381e-02,\n",
       "        -1.61925554e-02,  6.58141077e-02,  1.39474683e-02,\n",
       "         1.61183514e-02, -4.39680042e-03, -9.93907824e-03,\n",
       "        -2.82930490e-02,  3.09323613e-03,  4.24743667e-02,\n",
       "         3.84851582e-02,  7.84974545e-03,  1.00010002e+00,\n",
       "         1.80000992e+01],\n",
       "       [-2.88276076e-02,  2.33261120e-02,  1.37448302e-02,\n",
       "        -3.24697755e-02,  1.60954408e-02, -5.86545765e-02,\n",
       "         4.70236577e-02,  3.05260997e-02,  1.83475465e-02,\n",
       "         1.57275740e-02, -2.32415348e-02,  1.89339723e-02,\n",
       "        -4.32425551e-02, -5.06859533e-02, -1.90667789e-02,\n",
       "        -8.61680601e-03, -7.25596678e-03,  2.37075635e-03,\n",
       "        -8.06506723e-03,  1.19535485e-02,  6.00010014e+00,\n",
       "         9.00010014e+00],\n",
       "       [-6.76529948e-03, -2.63302773e-02,  2.53714547e-02,\n",
       "        -2.98459642e-02, -1.40514039e-02, -1.14489086e-02,\n",
       "         1.50022656e-02, -7.70863518e-03,  2.10634340e-03,\n",
       "        -1.19938515e-02,  2.20075287e-02, -1.86828729e-02,\n",
       "        -3.92794702e-03, -2.44445167e-02, -5.87659106e-02,\n",
       "         9.84079204e-04, -3.04556009e-03, -3.01892729e-03,\n",
       "         1.19985733e-02,  5.17546711e-03,  6.00010014e+00,\n",
       "         9.00010014e+00],\n",
       "       [-4.04615793e-03, -2.08766647e-02,  2.02126633e-02,\n",
       "        -3.39380875e-02, -3.02499346e-02,  1.30593311e-03,\n",
       "         1.27979275e-02, -3.31971282e-03,  1.65692833e-03,\n",
       "        -2.52598140e-04, -1.10787675e-02, -9.75355133e-03,\n",
       "         1.06276339e-02,  3.35022481e-03,  2.85652988e-02,\n",
       "        -6.34480221e-03,  1.70732886e-02,  7.75871752e-03,\n",
       "         1.89699996e-02, -6.01801276e-03,  6.00010014e+00,\n",
       "         1.30001001e+01],\n",
       "       [-9.64617729e-03,  1.39617110e-02,  2.46733651e-02,\n",
       "         7.37233926e-03,  1.31281372e-02, -5.14326198e-03,\n",
       "         9.49300453e-03,  6.66562933e-03,  3.09520923e-02,\n",
       "        -8.16847663e-03, -1.05138328e-02, -2.63712159e-03,\n",
       "        -9.95505042e-03, -1.09537048e-02, -8.94109067e-03,\n",
       "         1.44108338e-02,  1.57486647e-02,  4.00693715e-02,\n",
       "        -6.10366091e-03,  2.11101752e-02,  4.00010014e+00,\n",
       "         1.40001001e+01],\n",
       "       [-5.54393828e-02,  9.26174968e-03, -4.01513278e-02,\n",
       "        -1.73276998e-02,  3.55370939e-02,  7.28245685e-03,\n",
       "        -2.53780149e-02, -7.59463236e-02, -4.23404239e-02,\n",
       "        -2.19987091e-02,  1.19096804e-02,  1.08110882e-01,\n",
       "        -4.90403138e-02, -2.97054574e-02,  1.92432925e-02,\n",
       "        -1.22798989e-02,  3.40930670e-02, -1.67666972e-02,\n",
       "        -2.17197109e-02,  1.06678193e-03,  2.00009990e+00,\n",
       "         4.00010014e+00]], dtype=float32)>,\n",
       "                 'per_arm': <tf.Tensor: shape=(8, 20, 21), dtype=float32, numpy=\n",
       "array([[[-2.20500771e-03, -5.73565811e-03,  8.58613476e-03, ...,\n",
       "         -9.98645835e-03,  1.04255800e-03,  9.99999975e-05],\n",
       "        [-1.62567652e-03, -2.70252465e-03,  2.02055526e-04, ...,\n",
       "         -3.96892056e-03, -1.11329546e-02,  9.99999975e-05],\n",
       "        [-4.67515849e-02, -7.83489496e-02,  5.86066535e-03, ...,\n",
       "          3.00249904e-02, -4.27101478e-02,  5.00010014e+00],\n",
       "        ...,\n",
       "        [-1.59967411e-03, -2.43821065e-03, -5.06299268e-03, ...,\n",
       "          7.09974905e-03, -2.00780132e-03,  9.99999975e-05],\n",
       "        [-2.12636637e-03, -6.36503473e-03, -2.00103340e-03, ...,\n",
       "         -4.22167405e-03, -4.41726390e-03,  4.00010014e+00],\n",
       "        [-1.11584552e-03, -3.59215681e-03,  9.33839381e-03, ...,\n",
       "         -3.80187179e-03, -7.12191686e-04,  7.00010014e+00]],\n",
       "\n",
       "       [[-4.66827266e-02,  9.42989346e-03, -3.12117226e-02, ...,\n",
       "          1.35678379e-02, -4.22969880e-03,  7.00010014e+00],\n",
       "        [-6.26256515e-04,  5.17084613e-04,  3.04906629e-04, ...,\n",
       "         -1.26112357e-03,  1.06783921e-03,  4.00010014e+00],\n",
       "        [-6.47201855e-03, -5.59959887e-03, -1.56560671e-02, ...,\n",
       "          1.32516790e-02,  3.50488978e-03,  9.99999975e-05],\n",
       "        ...,\n",
       "        [-3.12758813e-04, -1.75562908e-03,  6.52517192e-04, ...,\n",
       "         -4.42214124e-03, -3.01003573e-04,  7.00010014e+00],\n",
       "        [-3.58667283e-04,  9.86200990e-04,  8.59011954e-04, ...,\n",
       "          1.35460787e-03,  2.80933850e-03,  4.00010014e+00],\n",
       "        [-8.36209147e-05, -8.71818280e-04,  4.33796667e-04, ...,\n",
       "         -4.78980271e-03, -1.59536267e-03,  4.00010014e+00]],\n",
       "\n",
       "       [[-2.51697842e-02, -4.49579582e-02, -1.90109722e-02, ...,\n",
       "         -2.19371300e-02, -2.91146580e-02,  7.00010014e+00],\n",
       "        [-4.12938243e-04,  1.30802940e-03,  7.91714585e-04, ...,\n",
       "          1.88590714e-03, -1.20145630e-03,  4.00010014e+00],\n",
       "        [-1.94612090e-02,  3.23033296e-02,  2.65963189e-02, ...,\n",
       "          1.78307425e-02,  2.39774492e-02,  7.00010014e+00],\n",
       "        ...,\n",
       "        [-5.17657325e-02, -8.38209242e-02, -2.50061303e-02, ...,\n",
       "         -6.77779391e-02, -1.21888556e-02,  7.00010014e+00],\n",
       "        [-1.49953542e-02, -9.73030739e-03, -2.54759081e-02, ...,\n",
       "          5.30642690e-03,  2.05106847e-02,  5.00010014e+00],\n",
       "        [-6.44703256e-03, -1.27053233e-02,  1.93389915e-02, ...,\n",
       "         -3.62138785e-02, -1.11699747e-02,  9.99999975e-05]],\n",
       "\n",
       "       ...,\n",
       "\n",
       "       [[-3.79555207e-03, -9.72590409e-03,  3.16229975e-03, ...,\n",
       "          2.94016162e-03, -1.06334481e-02,  9.99999975e-05],\n",
       "        [-1.22068552e-02, -2.08801981e-02,  3.05569149e-03, ...,\n",
       "         -8.77284817e-03, -3.69774699e-02,  9.99999975e-05],\n",
       "        [-5.06625650e-03, -8.40868393e-04, -9.66512784e-03, ...,\n",
       "          1.11000389e-02, -1.67239327e-02,  7.00010014e+00],\n",
       "        ...,\n",
       "        [-2.32252735e-03, -2.21092533e-03, -6.14170171e-03, ...,\n",
       "          1.80381853e-02, -3.92132299e-03,  4.00010014e+00],\n",
       "        [-2.17486336e-03, -2.39336491e-03,  1.02864504e-02, ...,\n",
       "         -1.61451399e-02,  2.50160345e-03,  5.00010014e+00],\n",
       "        [-1.18823498e-02,  2.19545607e-02,  2.45898999e-02, ...,\n",
       "          5.14865713e-03,  3.71873453e-02,  9.99999975e-05]],\n",
       "\n",
       "       [[-3.72004753e-04, -7.47140090e-04, -1.38570520e-03, ...,\n",
       "          3.97971272e-03,  6.48855884e-03,  1.50001001e+01],\n",
       "        [-1.36699295e-02, -1.56952050e-02, -2.32205298e-02, ...,\n",
       "         -2.05519162e-02, -1.57200545e-02,  9.99999975e-05],\n",
       "        [-6.39628172e-02,  5.45518585e-02,  2.75331065e-02, ...,\n",
       "         -3.79705727e-02, -6.68562436e-03,  1.00001001e+01],\n",
       "        ...,\n",
       "        [-2.42338167e-03,  2.97663896e-03,  5.94716566e-03, ...,\n",
       "         -9.16906353e-03, -6.81335456e-04,  4.00010014e+00],\n",
       "        [-4.11046483e-02, -8.07167683e-03, -7.34216049e-02, ...,\n",
       "         -1.35765420e-02,  5.92427813e-02,  5.00010014e+00],\n",
       "        [-9.48232118e-05, -1.17778906e-03,  8.89299787e-04, ...,\n",
       "         -9.71801986e-04, -9.17258265e-04,  9.99999975e-05]],\n",
       "\n",
       "       [[-1.42711319e-03, -2.28412868e-03,  1.08605775e-03, ...,\n",
       "         -1.15825972e-02, -7.78348278e-03,  4.00010014e+00],\n",
       "        [-7.39452313e-04,  4.89327358e-04,  9.48672765e-04, ...,\n",
       "         -1.77843124e-03, -3.46066407e-03,  4.00010014e+00],\n",
       "        [-2.12636637e-03, -6.36503473e-03, -2.00103340e-03, ...,\n",
       "         -4.22167405e-03, -4.41726390e-03,  4.00010014e+00],\n",
       "        ...,\n",
       "        [-4.44793463e-04,  1.59856526e-03,  4.56587353e-04, ...,\n",
       "         -3.59238102e-03,  4.43860795e-03,  9.99999975e-05],\n",
       "        [-3.47670459e-04, -1.44592288e-03,  1.50427688e-03, ...,\n",
       "         -3.97594471e-04,  3.26828379e-03,  1.30001001e+01],\n",
       "        [-4.28768653e-05, -5.75652753e-04,  5.00363007e-04, ...,\n",
       "          2.61078618e-04, -3.10227653e-04,  7.00010014e+00]]],\n",
       "      dtype=float32)>},\n",
       " 'reward': <tf.Tensor: shape=(8,), dtype=float32, numpy=array([0., 0., 0., 0., 0., 0., 0., 0.], dtype=float32)>,\n",
       " 'step_type': <tf.Tensor: shape=(8,), dtype=int32, numpy=array([0, 0, 0, 0, 0, 0, 0, 0], dtype=int32)>})"
      ]
     },
     "execution_count": 179,
     "metadata": {},
     "output_type": "execute_result"
    }
   ],
   "source": [
    "time_step"
   ]
  },
  {
   "cell_type": "code",
   "execution_count": 181,
   "id": "4ff21900-0965-49a0-a805-7929fb06263e",
   "metadata": {},
   "outputs": [],
   "source": [
    "# action_step"
   ]
  },
  {
   "cell_type": "code",
   "execution_count": 171,
   "id": "be7cc8dc-ba10-4b11-8243-628d16e86825",
   "metadata": {
    "collapsed": true,
    "jupyter": {
     "outputs_hidden": true
    },
    "tags": []
   },
   "outputs": [
    {
     "data": {
      "text/plain": [
       "{'global': <tf.Tensor: shape=(8, 22), dtype=float32, numpy=\n",
       " array([[-4.7207270e-02,  3.4380693e-02,  3.2353580e-03,  2.4785951e-02,\n",
       "         -2.1616893e-02,  2.0435546e-02, -1.6932882e-02, -4.6546906e-02,\n",
       "          7.4772812e-02,  3.8104949e-03, -4.0298931e-02, -1.5616004e-02,\n",
       "         -2.8407177e-02,  1.3371499e-01, -1.3817169e-02,  7.9589628e-02,\n",
       "          2.9432276e-02,  1.3362209e-02,  3.4628764e-02,  1.5013713e-02,\n",
       "          3.0000999e+00,  1.8000099e+01],\n",
       "        [-3.1404246e-02,  1.3404934e-02,  8.3384868e-03, -7.0392655e-04,\n",
       "          1.5290237e-03, -4.3489054e-02,  6.4241186e-02,  1.3640903e-02,\n",
       "          7.7757924e-03,  9.0712858e-03, -5.2332234e-02, -2.8096840e-02,\n",
       "         -3.3365856e-03,  2.2077200e-03,  2.4335524e-02,  5.3830449e-02,\n",
       "         -2.3229025e-02, -2.5175557e-02,  4.3426618e-02,  9.7907074e-03,\n",
       "          1.0001000e+00,  1.8000099e+01],\n",
       "        [-4.3206816e-03, -2.4147367e-02,  2.4132678e-02, -3.6364350e-02,\n",
       "         -3.6980886e-02,  5.2587246e-03,  6.5641068e-03, -8.7228371e-03,\n",
       "         -6.4521511e-03, -2.3794277e-03, -9.1756415e-03, -5.2802754e-03,\n",
       "          1.1735465e-02, -3.3063143e-03,  4.0404081e-02, -1.6552564e-02,\n",
       "          1.6499633e-02,  8.2994830e-03,  1.4382938e-02,  5.5278506e-04,\n",
       "          3.0000999e+00,  8.0001001e+00],\n",
       "        [-5.5541430e-02,  6.2341407e-02,  6.5121189e-02,  6.4422674e-02,\n",
       "         -9.9401018e-03,  4.7465775e-02, -4.5609150e-02,  3.1457882e-02,\n",
       "         -7.3452041e-02, -3.3208131e-04, -1.1129616e-02, -3.5809331e-02,\n",
       "          9.1243193e-02, -2.5326062e-02,  8.2685202e-02,  6.2387809e-02,\n",
       "          4.0683907e-02,  1.2867254e-03,  4.6779815e-02,  4.6882857e-02,\n",
       "          3.0000999e+00,  8.0001001e+00],\n",
       "        [-4.7207270e-02,  3.4380693e-02,  3.2353580e-03,  2.4785951e-02,\n",
       "         -2.1616893e-02,  2.0435546e-02, -1.6932882e-02, -4.6546906e-02,\n",
       "          7.4772812e-02,  3.8104949e-03, -4.0298931e-02, -1.5616004e-02,\n",
       "         -2.8407177e-02,  1.3371499e-01, -1.3817169e-02,  7.9589628e-02,\n",
       "          2.9432276e-02,  1.3362209e-02,  3.4628764e-02,  1.5013713e-02,\n",
       "          3.0000999e+00,  1.8000099e+01],\n",
       "        [-3.8523504e-03, -2.1948934e-02,  2.5236128e-02, -3.0632654e-02,\n",
       "         -3.1734403e-02,  6.2558302e-03,  5.7642455e-03, -2.4298963e-03,\n",
       "         -2.9983104e-03, -2.2497796e-03,  1.0514694e-02, -1.5944952e-02,\n",
       "          5.2458197e-03,  7.4892915e-03, -3.5007663e-02, -1.1720130e-02,\n",
       "         -1.1189191e-02,  9.3832472e-03, -1.9406533e-02,  1.6370162e-02,\n",
       "          4.0001001e+00,  7.0001001e+00],\n",
       "        [-4.0010870e-03, -2.4550362e-02,  1.5686106e-02, -3.2185342e-02,\n",
       "         -2.3343416e-02, -8.5203862e-03,  1.9518820e-04,  2.6398648e-03,\n",
       "         -1.5205493e-02, -1.9932935e-02, -1.8241253e-02, -2.6834367e-02,\n",
       "         -1.9807634e-03,  4.6308441e-03, -5.2440681e-02,  5.8852150e-03,\n",
       "          8.5662706e-03, -1.4693756e-02,  1.2517217e-02,  1.9050479e-02,\n",
       "          3.0000999e+00,  8.0001001e+00],\n",
       "        [-1.3371220e-02, -4.5975484e-02,  4.6113294e-02, -2.7918210e-02,\n",
       "          3.1941349e-03, -3.0313844e-03,  1.2141287e-02, -3.5160163e-03,\n",
       "          4.4602968e-02,  8.0993911e-03,  4.3818064e-02,  6.7544268e-03,\n",
       "          2.5758881e-02, -7.0451554e-03,  7.4534051e-02,  1.3690572e-02,\n",
       "         -5.5861776e-03,  1.1973862e-02,  5.2928597e-02, -4.3685075e-02,\n",
       "          1.0001000e+00,  2.0000999e+00]], dtype=float32)>,\n",
       " 'per_arm': <tf.Tensor: shape=(8, 20, 21), dtype=float32, numpy=\n",
       " array([[[-8.29202181e-04,  8.05086282e-04,  2.65227817e-03, ...,\n",
       "           2.21823939e-04,  3.21857259e-03,  1.00010002e+00],\n",
       "         [-1.23990690e-02, -3.17890048e-02,  2.56616459e-03, ...,\n",
       "          -2.23176274e-02, -1.06938146e-02,  9.99999975e-05],\n",
       "         [-3.49291787e-03, -1.36767211e-03,  9.87370498e-03, ...,\n",
       "          -3.83211602e-03,  2.36983225e-03,  9.99999975e-05],\n",
       "         ...,\n",
       "         [-6.43153035e-05, -8.63479159e-04,  7.50544539e-04, ...,\n",
       "           3.91617941e-04, -4.65341465e-04,  9.99999975e-05],\n",
       "         [-2.82184947e-02,  1.14116110e-02,  1.61120761e-03, ...,\n",
       "          -3.13933641e-02,  1.06789190e-02,  7.00010014e+00],\n",
       "         [-3.57426666e-02, -1.05731063e-01,  6.21947274e-02, ...,\n",
       "          -3.74508053e-02,  4.56495211e-03,  7.00010014e+00]],\n",
       " \n",
       "        [[-1.55145945e-02, -1.73439067e-02, -1.32784005e-02, ...,\n",
       "          -7.31670111e-03,  1.58528741e-02,  9.99999975e-05],\n",
       "         [-4.28768653e-05, -5.75652753e-04,  5.00363007e-04, ...,\n",
       "           2.61078618e-04, -3.10227653e-04,  9.99999975e-05],\n",
       "         [-7.06003141e-03, -1.15022447e-03, -1.15191983e-02, ...,\n",
       "           2.91087665e-02, -5.07214386e-03,  4.00010014e+00],\n",
       "         ...,\n",
       "         [-2.61071417e-02, -8.93509295e-03, -5.62105328e-02, ...,\n",
       "           4.32971083e-02,  4.16209735e-02,  9.99999975e-05],\n",
       "         [-1.17028528e-03,  4.50077886e-03,  4.20733029e-03, ...,\n",
       "           8.41412111e-04,  8.69771000e-03,  2.00009990e+00],\n",
       "         [-1.45517373e-02, -1.81894861e-02,  2.63004843e-02, ...,\n",
       "          -2.56993119e-02, -9.71171260e-03,  5.00010014e+00]],\n",
       " \n",
       "        [[-1.15209128e-04,  2.77080340e-04, -2.17344335e-04, ...,\n",
       "           1.11750606e-03, -1.53854955e-03,  1.80000992e+01],\n",
       "         [-3.87735269e-03, -7.88124092e-03, -6.95940666e-03, ...,\n",
       "          -1.14770439e-02, -1.80497766e-02,  4.00010014e+00],\n",
       "         [-4.85677418e-04,  2.87010393e-04,  2.48339842e-03, ...,\n",
       "          -2.08692439e-03,  4.55546333e-03,  7.00010014e+00],\n",
       "         ...,\n",
       "         [-1.39973615e-03,  1.65907943e-06, -2.05790461e-03, ...,\n",
       "          -3.18853720e-03, -1.92049681e-03,  1.20001001e+01],\n",
       "         [-1.61095476e-03, -1.93671079e-03, -2.39923596e-03, ...,\n",
       "           5.29191969e-03,  2.76752608e-03,  4.00010014e+00],\n",
       "         [-7.74572929e-03, -7.20019499e-03, -1.68978758e-02, ...,\n",
       "           2.23821364e-02,  6.78094383e-03,  7.00010014e+00]],\n",
       " \n",
       "        ...,\n",
       " \n",
       "        [[-1.84892341e-02, -5.19157480e-03, -1.68358199e-02, ...,\n",
       "           4.97162789e-02, -5.01484424e-03,  5.00010014e+00],\n",
       "         [-3.26733058e-03, -4.17882018e-03, -4.63859504e-03, ...,\n",
       "          -2.42590577e-05, -6.29769359e-03,  4.00010014e+00],\n",
       "         [-1.06580239e-02, -1.46435900e-02,  2.49096192e-02, ...,\n",
       "          -1.21638877e-02,  2.23507243e-03,  7.00010014e+00],\n",
       "         ...,\n",
       "         [-3.38437618e-03, -1.06880944e-02,  9.12759453e-03, ...,\n",
       "          -9.02122818e-03, -6.49280520e-03,  9.99999975e-05],\n",
       "         [-1.99042680e-03,  2.00684275e-03,  1.21466233e-03, ...,\n",
       "           1.43286623e-02,  2.17247056e-03,  7.00010014e+00],\n",
       "         [-5.60043030e-04, -1.51145493e-03,  8.77345446e-05, ...,\n",
       "          -4.97453939e-03, -7.26125389e-03,  4.00010014e+00]],\n",
       " \n",
       "        [[-6.34896941e-03, -6.24648016e-03, -9.66642052e-03, ...,\n",
       "           1.22551923e-03, -9.08911787e-03,  6.00010014e+00],\n",
       "         [-8.46394897e-02,  1.21298863e-03, -7.55290613e-02, ...,\n",
       "          -3.22075165e-03,  4.74031530e-02,  9.99999975e-05],\n",
       "         [-1.00765529e-03, -2.90432450e-04, -2.54061073e-03, ...,\n",
       "          -1.39412854e-03,  1.75990735e-03,  7.00010014e+00],\n",
       "         ...,\n",
       "         [-1.44867441e-02,  6.98272546e-04,  2.60334346e-03, ...,\n",
       "           1.03303082e-02, -1.59522444e-02,  9.99999975e-05],\n",
       "         [-8.08746293e-02,  2.10797470e-02, -5.09998389e-02, ...,\n",
       "          -3.97694632e-02, -2.91890115e-03,  9.99999975e-05],\n",
       "         [-1.46549824e-03, -5.66009781e-04, -4.74662520e-03, ...,\n",
       "           9.21837520e-03, -9.31129046e-03,  4.00010014e+00]],\n",
       " \n",
       "        [[-2.54819961e-03, -4.65232035e-04, -3.87236406e-03, ...,\n",
       "           1.89376855e-03, -2.43985243e-02,  6.00010014e+00],\n",
       "         [-3.04137095e-04,  6.23037980e-04, -2.80353590e-04, ...,\n",
       "          -3.07548326e-04,  1.52987638e-03,  9.99999975e-05],\n",
       "         [-3.21832020e-04, -2.20096973e-03,  3.43318796e-03, ...,\n",
       "          -4.78950189e-03,  3.20157065e-04,  9.99999975e-05],\n",
       "         ...,\n",
       "         [-7.75047531e-03, -8.11498426e-03, -2.02951711e-02, ...,\n",
       "           3.60083301e-03,  4.25865687e-03,  9.99999975e-05],\n",
       "         [-7.62079668e-04,  8.01309478e-04,  5.06157347e-04, ...,\n",
       "           8.79270607e-04, -4.05721134e-03,  4.00010014e+00],\n",
       "         [-2.44210823e-03,  2.31362088e-03,  7.57657271e-03, ...,\n",
       "          -1.16080814e-03,  2.23471224e-02,  7.00010014e+00]]],\n",
       "       dtype=float32)>}"
      ]
     },
     "execution_count": 171,
     "metadata": {},
     "output_type": "execute_result"
    }
   ],
   "source": [
    "observation_array = environment._observe()\n",
    "observation_array"
   ]
  },
  {
   "cell_type": "code",
   "execution_count": 173,
   "id": "2ab7ef60-8f8e-4db9-ac0d-dfb04c8a8357",
   "metadata": {
    "collapsed": true,
    "jupyter": {
     "outputs_hidden": true
    },
    "tags": []
   },
   "outputs": [
    {
     "data": {
      "text/plain": [
       "TimeStep(\n",
       "{'discount': <tf.Tensor: shape=(8,), dtype=float32, numpy=array([1., 1., 1., 1., 1., 1., 1., 1.], dtype=float32)>,\n",
       " 'observation': {'global': <tf.Tensor: shape=(8, 22), dtype=float32, numpy=\n",
       "array([[-4.7207270e-02,  3.4380693e-02,  3.2353580e-03,  2.4785951e-02,\n",
       "        -2.1616893e-02,  2.0435546e-02, -1.6932882e-02, -4.6546906e-02,\n",
       "         7.4772812e-02,  3.8104949e-03, -4.0298931e-02, -1.5616004e-02,\n",
       "        -2.8407177e-02,  1.3371499e-01, -1.3817169e-02,  7.9589628e-02,\n",
       "         2.9432276e-02,  1.3362209e-02,  3.4628764e-02,  1.5013713e-02,\n",
       "         3.0000999e+00,  1.8000099e+01],\n",
       "       [-3.1404246e-02,  1.3404934e-02,  8.3384868e-03, -7.0392655e-04,\n",
       "         1.5290237e-03, -4.3489054e-02,  6.4241186e-02,  1.3640903e-02,\n",
       "         7.7757924e-03,  9.0712858e-03, -5.2332234e-02, -2.8096840e-02,\n",
       "        -3.3365856e-03,  2.2077200e-03,  2.4335524e-02,  5.3830449e-02,\n",
       "        -2.3229025e-02, -2.5175557e-02,  4.3426618e-02,  9.7907074e-03,\n",
       "         1.0001000e+00,  1.8000099e+01],\n",
       "       [-4.3206816e-03, -2.4147367e-02,  2.4132678e-02, -3.6364350e-02,\n",
       "        -3.6980886e-02,  5.2587246e-03,  6.5641068e-03, -8.7228371e-03,\n",
       "        -6.4521511e-03, -2.3794277e-03, -9.1756415e-03, -5.2802754e-03,\n",
       "         1.1735465e-02, -3.3063143e-03,  4.0404081e-02, -1.6552564e-02,\n",
       "         1.6499633e-02,  8.2994830e-03,  1.4382938e-02,  5.5278506e-04,\n",
       "         3.0000999e+00,  8.0001001e+00],\n",
       "       [-5.5541430e-02,  6.2341407e-02,  6.5121189e-02,  6.4422674e-02,\n",
       "        -9.9401018e-03,  4.7465775e-02, -4.5609150e-02,  3.1457882e-02,\n",
       "        -7.3452041e-02, -3.3208131e-04, -1.1129616e-02, -3.5809331e-02,\n",
       "         9.1243193e-02, -2.5326062e-02,  8.2685202e-02,  6.2387809e-02,\n",
       "         4.0683907e-02,  1.2867254e-03,  4.6779815e-02,  4.6882857e-02,\n",
       "         3.0000999e+00,  8.0001001e+00],\n",
       "       [-4.7207270e-02,  3.4380693e-02,  3.2353580e-03,  2.4785951e-02,\n",
       "        -2.1616893e-02,  2.0435546e-02, -1.6932882e-02, -4.6546906e-02,\n",
       "         7.4772812e-02,  3.8104949e-03, -4.0298931e-02, -1.5616004e-02,\n",
       "        -2.8407177e-02,  1.3371499e-01, -1.3817169e-02,  7.9589628e-02,\n",
       "         2.9432276e-02,  1.3362209e-02,  3.4628764e-02,  1.5013713e-02,\n",
       "         3.0000999e+00,  1.8000099e+01],\n",
       "       [-3.8523504e-03, -2.1948934e-02,  2.5236128e-02, -3.0632654e-02,\n",
       "        -3.1734403e-02,  6.2558302e-03,  5.7642455e-03, -2.4298963e-03,\n",
       "        -2.9983104e-03, -2.2497796e-03,  1.0514694e-02, -1.5944952e-02,\n",
       "         5.2458197e-03,  7.4892915e-03, -3.5007663e-02, -1.1720130e-02,\n",
       "        -1.1189191e-02,  9.3832472e-03, -1.9406533e-02,  1.6370162e-02,\n",
       "         4.0001001e+00,  7.0001001e+00],\n",
       "       [-4.0010870e-03, -2.4550362e-02,  1.5686106e-02, -3.2185342e-02,\n",
       "        -2.3343416e-02, -8.5203862e-03,  1.9518820e-04,  2.6398648e-03,\n",
       "        -1.5205493e-02, -1.9932935e-02, -1.8241253e-02, -2.6834367e-02,\n",
       "        -1.9807634e-03,  4.6308441e-03, -5.2440681e-02,  5.8852150e-03,\n",
       "         8.5662706e-03, -1.4693756e-02,  1.2517217e-02,  1.9050479e-02,\n",
       "         3.0000999e+00,  8.0001001e+00],\n",
       "       [-1.3371220e-02, -4.5975484e-02,  4.6113294e-02, -2.7918210e-02,\n",
       "         3.1941349e-03, -3.0313844e-03,  1.2141287e-02, -3.5160163e-03,\n",
       "         4.4602968e-02,  8.0993911e-03,  4.3818064e-02,  6.7544268e-03,\n",
       "         2.5758881e-02, -7.0451554e-03,  7.4534051e-02,  1.3690572e-02,\n",
       "        -5.5861776e-03,  1.1973862e-02,  5.2928597e-02, -4.3685075e-02,\n",
       "         1.0001000e+00,  2.0000999e+00]], dtype=float32)>,\n",
       "                 'per_arm': <tf.Tensor: shape=(8, 20, 21), dtype=float32, numpy=\n",
       "array([[[-8.29202181e-04,  8.05086282e-04,  2.65227817e-03, ...,\n",
       "          2.21823939e-04,  3.21857259e-03,  1.00010002e+00],\n",
       "        [-1.23990690e-02, -3.17890048e-02,  2.56616459e-03, ...,\n",
       "         -2.23176274e-02, -1.06938146e-02,  9.99999975e-05],\n",
       "        [-3.49291787e-03, -1.36767211e-03,  9.87370498e-03, ...,\n",
       "         -3.83211602e-03,  2.36983225e-03,  9.99999975e-05],\n",
       "        ...,\n",
       "        [-6.43153035e-05, -8.63479159e-04,  7.50544539e-04, ...,\n",
       "          3.91617941e-04, -4.65341465e-04,  9.99999975e-05],\n",
       "        [-2.82184947e-02,  1.14116110e-02,  1.61120761e-03, ...,\n",
       "         -3.13933641e-02,  1.06789190e-02,  7.00010014e+00],\n",
       "        [-3.57426666e-02, -1.05731063e-01,  6.21947274e-02, ...,\n",
       "         -3.74508053e-02,  4.56495211e-03,  7.00010014e+00]],\n",
       "\n",
       "       [[-1.55145945e-02, -1.73439067e-02, -1.32784005e-02, ...,\n",
       "         -7.31670111e-03,  1.58528741e-02,  9.99999975e-05],\n",
       "        [-4.28768653e-05, -5.75652753e-04,  5.00363007e-04, ...,\n",
       "          2.61078618e-04, -3.10227653e-04,  9.99999975e-05],\n",
       "        [-7.06003141e-03, -1.15022447e-03, -1.15191983e-02, ...,\n",
       "          2.91087665e-02, -5.07214386e-03,  4.00010014e+00],\n",
       "        ...,\n",
       "        [-2.61071417e-02, -8.93509295e-03, -5.62105328e-02, ...,\n",
       "          4.32971083e-02,  4.16209735e-02,  9.99999975e-05],\n",
       "        [-1.17028528e-03,  4.50077886e-03,  4.20733029e-03, ...,\n",
       "          8.41412111e-04,  8.69771000e-03,  2.00009990e+00],\n",
       "        [-1.45517373e-02, -1.81894861e-02,  2.63004843e-02, ...,\n",
       "         -2.56993119e-02, -9.71171260e-03,  5.00010014e+00]],\n",
       "\n",
       "       [[-1.15209128e-04,  2.77080340e-04, -2.17344335e-04, ...,\n",
       "          1.11750606e-03, -1.53854955e-03,  1.80000992e+01],\n",
       "        [-3.87735269e-03, -7.88124092e-03, -6.95940666e-03, ...,\n",
       "         -1.14770439e-02, -1.80497766e-02,  4.00010014e+00],\n",
       "        [-4.85677418e-04,  2.87010393e-04,  2.48339842e-03, ...,\n",
       "         -2.08692439e-03,  4.55546333e-03,  7.00010014e+00],\n",
       "        ...,\n",
       "        [-1.39973615e-03,  1.65907943e-06, -2.05790461e-03, ...,\n",
       "         -3.18853720e-03, -1.92049681e-03,  1.20001001e+01],\n",
       "        [-1.61095476e-03, -1.93671079e-03, -2.39923596e-03, ...,\n",
       "          5.29191969e-03,  2.76752608e-03,  4.00010014e+00],\n",
       "        [-7.74572929e-03, -7.20019499e-03, -1.68978758e-02, ...,\n",
       "          2.23821364e-02,  6.78094383e-03,  7.00010014e+00]],\n",
       "\n",
       "       ...,\n",
       "\n",
       "       [[-1.84892341e-02, -5.19157480e-03, -1.68358199e-02, ...,\n",
       "          4.97162789e-02, -5.01484424e-03,  5.00010014e+00],\n",
       "        [-3.26733058e-03, -4.17882018e-03, -4.63859504e-03, ...,\n",
       "         -2.42590577e-05, -6.29769359e-03,  4.00010014e+00],\n",
       "        [-1.06580239e-02, -1.46435900e-02,  2.49096192e-02, ...,\n",
       "         -1.21638877e-02,  2.23507243e-03,  7.00010014e+00],\n",
       "        ...,\n",
       "        [-3.38437618e-03, -1.06880944e-02,  9.12759453e-03, ...,\n",
       "         -9.02122818e-03, -6.49280520e-03,  9.99999975e-05],\n",
       "        [-1.99042680e-03,  2.00684275e-03,  1.21466233e-03, ...,\n",
       "          1.43286623e-02,  2.17247056e-03,  7.00010014e+00],\n",
       "        [-5.60043030e-04, -1.51145493e-03,  8.77345446e-05, ...,\n",
       "         -4.97453939e-03, -7.26125389e-03,  4.00010014e+00]],\n",
       "\n",
       "       [[-6.34896941e-03, -6.24648016e-03, -9.66642052e-03, ...,\n",
       "          1.22551923e-03, -9.08911787e-03,  6.00010014e+00],\n",
       "        [-8.46394897e-02,  1.21298863e-03, -7.55290613e-02, ...,\n",
       "         -3.22075165e-03,  4.74031530e-02,  9.99999975e-05],\n",
       "        [-1.00765529e-03, -2.90432450e-04, -2.54061073e-03, ...,\n",
       "         -1.39412854e-03,  1.75990735e-03,  7.00010014e+00],\n",
       "        ...,\n",
       "        [-1.44867441e-02,  6.98272546e-04,  2.60334346e-03, ...,\n",
       "          1.03303082e-02, -1.59522444e-02,  9.99999975e-05],\n",
       "        [-8.08746293e-02,  2.10797470e-02, -5.09998389e-02, ...,\n",
       "         -3.97694632e-02, -2.91890115e-03,  9.99999975e-05],\n",
       "        [-1.46549824e-03, -5.66009781e-04, -4.74662520e-03, ...,\n",
       "          9.21837520e-03, -9.31129046e-03,  4.00010014e+00]],\n",
       "\n",
       "       [[-2.54819961e-03, -4.65232035e-04, -3.87236406e-03, ...,\n",
       "          1.89376855e-03, -2.43985243e-02,  6.00010014e+00],\n",
       "        [-3.04137095e-04,  6.23037980e-04, -2.80353590e-04, ...,\n",
       "         -3.07548326e-04,  1.52987638e-03,  9.99999975e-05],\n",
       "        [-3.21832020e-04, -2.20096973e-03,  3.43318796e-03, ...,\n",
       "         -4.78950189e-03,  3.20157065e-04,  9.99999975e-05],\n",
       "        ...,\n",
       "        [-7.75047531e-03, -8.11498426e-03, -2.02951711e-02, ...,\n",
       "          3.60083301e-03,  4.25865687e-03,  9.99999975e-05],\n",
       "        [-7.62079668e-04,  8.01309478e-04,  5.06157347e-04, ...,\n",
       "          8.79270607e-04, -4.05721134e-03,  4.00010014e+00],\n",
       "        [-2.44210823e-03,  2.31362088e-03,  7.57657271e-03, ...,\n",
       "         -1.16080814e-03,  2.23471224e-02,  7.00010014e+00]]],\n",
       "      dtype=float32)>},\n",
       " 'reward': <tf.Tensor: shape=(8,), dtype=float32, numpy=array([0., 0., 0., 0., 0., 0., 0., 0.], dtype=float32)>,\n",
       " 'step_type': <tf.Tensor: shape=(8,), dtype=int32, numpy=array([0, 0, 0, 0, 0, 0, 0, 0], dtype=int32)>})"
      ]
     },
     "execution_count": 173,
     "metadata": {},
     "output_type": "execute_result"
    }
   ],
   "source": [
    "time_step = tf_agents.trajectories.restart(\n",
    "    observation=observation_array,\n",
    "    batch_size=tf.convert_to_tensor([BATCH_SIZE]),\n",
    ")\n",
    "time_step"
   ]
  },
  {
   "cell_type": "code",
   "execution_count": 174,
   "id": "24d7badc-6a24-481c-8729-36ad898f2755",
   "metadata": {
    "collapsed": true,
    "jupyter": {
     "outputs_hidden": true
    },
    "tags": []
   },
   "outputs": [
    {
     "data": {
      "text/plain": [
       "PolicyStep(action=<tf.Tensor: shape=(8,), dtype=int32, numpy=array([11, 10, 10,  0, 14, 10,  4, 11], dtype=int32)>, state=(), info=PerArmPolicyInfo(log_probability=(), predicted_rewards_mean=(), multiobjective_scalarized_predicted_rewards_mean=(), predicted_rewards_optimistic=(), predicted_rewards_sampled=(), bandit_policy_type=(), chosen_arm_features=<tf.Tensor: shape=(8, 21), dtype=float32, numpy=\n",
       "array([[-7.54112229e-02, -7.72761703e-02, -3.46641243e-02,\n",
       "         2.24941876e-02,  5.09656742e-02, -1.24314584e-01,\n",
       "         8.77733678e-02,  6.58942834e-02,  5.93432225e-02,\n",
       "        -9.74757150e-02, -7.19200298e-02, -4.67373803e-02,\n",
       "         1.61329145e-03, -1.49870683e-02,  1.62771083e-02,\n",
       "        -9.17898342e-02, -3.04824840e-02, -7.57825375e-02,\n",
       "        -1.04961675e-02, -4.03923541e-02,  7.00010014e+00],\n",
       "       [-5.49132079e-02,  6.67439029e-02,  6.70201927e-02,\n",
       "        -6.18030084e-03,  5.20040421e-03, -3.73893976e-02,\n",
       "        -3.29198316e-02,  4.10452299e-02, -3.06791905e-02,\n",
       "         5.03080152e-02, -2.40441430e-02,  6.06877990e-02,\n",
       "        -8.06315392e-02, -4.12485003e-03,  2.61559337e-03,\n",
       "         6.14616573e-02, -5.65274842e-02,  9.15479567e-03,\n",
       "         1.56243863e-02, -3.68483849e-02,  1.20001001e+01],\n",
       "       [-4.27957326e-02, -5.61747998e-02,  5.29999658e-02,\n",
       "         8.90246183e-02,  2.44768094e-02,  1.56172719e-02,\n",
       "        -3.83313261e-02, -1.46827810e-02, -4.84804325e-02,\n",
       "         1.37572708e-02,  6.02315813e-02,  1.74559597e-02,\n",
       "         5.80491237e-02,  4.00060642e-04,  7.10769370e-03,\n",
       "        -1.71814170e-02,  5.82856089e-02, -3.08946408e-02,\n",
       "        -1.28888199e-02,  5.34388237e-02,  1.10001001e+01],\n",
       "       [-9.12951156e-02,  4.64930907e-02, -3.14418003e-02,\n",
       "         3.52051668e-02, -1.84032116e-02, -2.31777038e-02,\n",
       "         1.32823616e-01,  6.99568400e-03, -6.40395135e-02,\n",
       "         6.58600405e-02, -3.85516249e-02, -8.72069597e-02,\n",
       "         1.90990530e-02, -1.98763870e-02,  4.58565541e-03,\n",
       "        -3.61317024e-02, -1.17447693e-03,  4.01233807e-02,\n",
       "        -6.26885071e-02, -2.95105670e-02,  7.00010014e+00],\n",
       "       [-5.86337224e-02, -6.18238077e-02,  1.45916361e-02,\n",
       "         2.66227312e-02,  1.22357391e-01,  2.54512280e-02,\n",
       "         3.32755945e-03,  3.33821326e-02, -1.94050313e-03,\n",
       "        -2.50858217e-02,  2.02255212e-02, -1.20116688e-01,\n",
       "         1.72552336e-02, -1.30996965e-02,  6.39406070e-02,\n",
       "        -5.18700480e-02,  2.90429518e-02, -2.93689370e-02,\n",
       "        -3.09805963e-02,  2.17056796e-02,  4.00010014e+00],\n",
       "       [-3.17914486e-02,  5.63595667e-02,  4.63072583e-02,\n",
       "        -2.81975605e-02,  2.96790116e-02, -1.72035098e-02,\n",
       "        -2.27224454e-02,  3.39235850e-02, -1.49903651e-02,\n",
       "         2.84974258e-02, -3.29641663e-02, -4.29728720e-03,\n",
       "        -5.86838461e-02, -2.73265149e-02, -1.55374361e-02,\n",
       "        -5.16556203e-02,  7.06551224e-03,  1.06104370e-02,\n",
       "        -3.43483430e-03,  2.77333297e-02,  5.00010014e+00],\n",
       "       [-7.54112229e-02, -7.72761703e-02, -3.46641243e-02,\n",
       "         2.24941876e-02,  5.09656742e-02, -1.24314584e-01,\n",
       "         8.77733678e-02,  6.58942834e-02,  5.93432225e-02,\n",
       "        -9.74757150e-02, -7.19200298e-02, -4.67373803e-02,\n",
       "         1.61329145e-03, -1.49870683e-02,  1.62771083e-02,\n",
       "        -9.17898342e-02, -3.04824840e-02, -7.57825375e-02,\n",
       "        -1.04961675e-02, -4.03923541e-02,  7.00010014e+00],\n",
       "       [-2.64102370e-02, -6.90181106e-02,  1.51378708e-02,\n",
       "        -4.47308235e-02, -4.19485308e-02, -3.06050293e-02,\n",
       "        -5.09120151e-03,  3.63955386e-02, -3.73908579e-02,\n",
       "        -4.26956043e-02, -5.38514890e-02, -3.24087888e-02,\n",
       "        -1.17856031e-02,  3.83904427e-02, -7.06571564e-02,\n",
       "         3.03413346e-02, -5.10570267e-03, -4.05708402e-02,\n",
       "         2.91399378e-02,  1.35516813e-02,  4.00010014e+00]], dtype=float32)>))"
      ]
     },
     "execution_count": 174,
     "metadata": {},
     "output_type": "execute_result"
    }
   ],
   "source": [
    "action_step = trained_policy.action(time_step)\n",
    "action_step"
   ]
  },
  {
   "cell_type": "code",
   "execution_count": 175,
   "id": "575e930a-e229-4417-b50f-0d805623cc1f",
   "metadata": {},
   "outputs": [
    {
     "data": {
      "text/plain": [
       "[11, 10, 10, 0, 14, 10, 4, 11]"
      ]
     },
     "execution_count": 175,
     "metadata": {},
     "output_type": "execute_result"
    }
   ],
   "source": [
    "action_step.action.numpy().tolist()"
   ]
  },
  {
   "cell_type": "markdown",
   "id": "95f30f6c-c1ca-46f6-8540-4070dcef9b47",
   "metadata": {},
   "source": [
    "## Archive"
   ]
  },
  {
   "cell_type": "code",
   "execution_count": 101,
   "id": "e634197e-a2c8-4ab8-b05d-4e6f2339ac01",
   "metadata": {},
   "outputs": [
    {
     "name": "stdout",
     "output_type": "stream",
     "text": [
      "GLOBAL_KEY  : global\n",
      "PER_ARM_KEY : per_arm\n"
     ]
    }
   ],
   "source": [
    "from tf_agents.bandits.specs import utils as bandit_spec_utils\n",
    "\n",
    "GLOBAL_KEY = bandit_spec_utils.GLOBAL_FEATURE_KEY\n",
    "PER_ARM_KEY = bandit_spec_utils.PER_ARM_FEATURE_KEY\n",
    "\n",
    "# observation = {'per_arm': TensorSpec(shape=(None, 20, 21), dtype=tf.float32, name='observation/per_arm'), 'global': TensorSpec(shape=(None, 22), dtype=tf.float32, name='observation/global')}\n",
    "# observation\n",
    "\n",
    "print(f\"GLOBAL_KEY  : {GLOBAL_KEY}\")\n",
    "print(f\"PER_ARM_KEY : {PER_ARM_KEY}\")"
   ]
  },
  {
   "cell_type": "code",
   "execution_count": null,
   "id": "3b8abc60-2d29-4bc9-8932-8e7eaa7b6b04",
   "metadata": {},
   "outputs": [],
   "source": [
    "# batched_observations = {\n",
    "#     GLOBAL_KEY:\n",
    "#         tf.convert_to_tensor(combined_user_features, dtype=tf.float32),\n",
    "#     PER_ARM_KEY:\n",
    "#         tf.convert_to_tensor(current_movies, dtype=tf.float32),\n",
    "# }\n",
    "\n",
    "# print(f\"batched_observations  : {batched_observations}\")"
   ]
  },
  {
   "cell_type": "code",
   "execution_count": 104,
   "id": "317bc9d9-6447-44a6-8e10-d64a90dce941",
   "metadata": {
    "collapsed": true,
    "jupyter": {
     "outputs_hidden": true
    },
    "tags": []
   },
   "outputs": [
    {
     "name": "stdout",
     "output_type": "stream",
     "text": [
      "observation  : {'global': array([[0, 0, 0, 0, 0, 0, 0, 0, 0, 0, 0, 0, 0, 0, 0, 0, 0, 0, 0, 0, 0, 0],\n",
      "       [0, 0, 0, 0, 0, 0, 0, 0, 0, 0, 0, 0, 0, 0, 0, 0, 0, 0, 0, 0, 0, 0],\n",
      "       [0, 0, 0, 0, 0, 0, 0, 0, 0, 0, 0, 0, 0, 0, 0, 0, 0, 0, 0, 0, 0, 0],\n",
      "       [0, 0, 0, 0, 0, 0, 0, 0, 0, 0, 0, 0, 0, 0, 0, 0, 0, 0, 0, 0, 0, 0],\n",
      "       [0, 0, 0, 0, 0, 0, 0, 0, 0, 0, 0, 0, 0, 0, 0, 0, 0, 0, 0, 0, 0, 0],\n",
      "       [0, 0, 0, 0, 0, 0, 0, 0, 0, 0, 0, 0, 0, 0, 0, 0, 0, 0, 0, 0, 0, 0],\n",
      "       [0, 0, 0, 0, 0, 0, 0, 0, 0, 0, 0, 0, 0, 0, 0, 0, 0, 0, 0, 0, 0, 0],\n",
      "       [0, 0, 0, 0, 0, 0, 0, 0, 0, 0, 0, 0, 0, 0, 0, 0, 0, 0, 0, 0, 0, 0]],\n",
      "      dtype=int32), 'per_arm': array([[[0, 0, 0, ..., 0, 0, 0],\n",
      "        [0, 0, 0, ..., 0, 0, 0],\n",
      "        [0, 0, 0, ..., 0, 0, 0],\n",
      "        ...,\n",
      "        [0, 0, 0, ..., 0, 0, 0],\n",
      "        [0, 0, 0, ..., 0, 0, 0],\n",
      "        [0, 0, 0, ..., 0, 0, 0]],\n",
      "\n",
      "       [[0, 0, 0, ..., 0, 0, 0],\n",
      "        [0, 0, 0, ..., 0, 0, 0],\n",
      "        [0, 0, 0, ..., 0, 0, 0],\n",
      "        ...,\n",
      "        [0, 0, 0, ..., 0, 0, 0],\n",
      "        [0, 0, 0, ..., 0, 0, 0],\n",
      "        [0, 0, 0, ..., 0, 0, 0]],\n",
      "\n",
      "       [[0, 0, 0, ..., 0, 0, 0],\n",
      "        [0, 0, 0, ..., 0, 0, 0],\n",
      "        [0, 0, 0, ..., 0, 0, 0],\n",
      "        ...,\n",
      "        [0, 0, 0, ..., 0, 0, 0],\n",
      "        [0, 0, 0, ..., 0, 0, 0],\n",
      "        [0, 0, 0, ..., 0, 0, 0]],\n",
      "\n",
      "       ...,\n",
      "\n",
      "       [[0, 0, 0, ..., 0, 0, 0],\n",
      "        [0, 0, 0, ..., 0, 0, 0],\n",
      "        [0, 0, 0, ..., 0, 0, 0],\n",
      "        ...,\n",
      "        [0, 0, 0, ..., 0, 0, 0],\n",
      "        [0, 0, 0, ..., 0, 0, 0],\n",
      "        [0, 0, 0, ..., 0, 0, 0]],\n",
      "\n",
      "       [[0, 0, 0, ..., 0, 0, 0],\n",
      "        [0, 0, 0, ..., 0, 0, 0],\n",
      "        [0, 0, 0, ..., 0, 0, 0],\n",
      "        ...,\n",
      "        [0, 0, 0, ..., 0, 0, 0],\n",
      "        [0, 0, 0, ..., 0, 0, 0],\n",
      "        [0, 0, 0, ..., 0, 0, 0]],\n",
      "\n",
      "       [[0, 0, 0, ..., 0, 0, 0],\n",
      "        [0, 0, 0, ..., 0, 0, 0],\n",
      "        [0, 0, 0, ..., 0, 0, 0],\n",
      "        ...,\n",
      "        [0, 0, 0, ..., 0, 0, 0],\n",
      "        [0, 0, 0, ..., 0, 0, 0],\n",
      "        [0, 0, 0, ..., 0, 0, 0]]], dtype=int32)}\n"
     ]
    }
   ],
   "source": [
    "observation = {\n",
    "    GLOBAL_KEY:\n",
    "        np.zeros([BATCH_SIZE, RANK_K + 2], dtype=np.int32), #making space like above for dimensions\n",
    "    PER_ARM_KEY:\n",
    "        np.zeros([BATCH_SIZE, NUM_ACTIONS, RANK_K + 1], dtype=np.int32),\n",
    "}\n",
    "\n",
    "print(f\"observation  : {observation}\")"
   ]
  },
  {
   "cell_type": "code",
   "execution_count": 161,
   "id": "77c86aa4-7dbf-427b-a923-82b27456e00b",
   "metadata": {},
   "outputs": [
    {
     "name": "stdout",
     "output_type": "stream",
     "text": [
      "observation_spec  : {'global': ArraySpec(shape=(22,), dtype=dtype('float32'), name='observation/global'), 'per_arm': ArraySpec(shape=(20, 21), dtype=dtype('float32'), name='per_arm/global')}\n"
     ]
    }
   ],
   "source": [
    "from tf_agents.specs import array_spec\n",
    "\n",
    "observation_spec = {\n",
    "    GLOBAL_KEY:\n",
    "        array_spec.ArraySpec(shape=[RANK_K + 2], dtype=np.float32, name='observation/global'),     # creating +space for user age and occupation\n",
    "    PER_ARM_KEY:\n",
    "        array_spec.ArraySpec(\n",
    "            shape=[NUM_ACTIONS, RANK_K + 1], dtype=np.float32, name='per_arm/global'),   # creating +1 space for movie genre\n",
    "}\n",
    "\n",
    "print(f\"observation_spec  : {observation_spec}\")"
   ]
  },
  {
   "cell_type": "code",
   "execution_count": null,
   "id": "08b51f5e-5fb0-4775-89ca-6cb74ad44cd2",
   "metadata": {},
   "outputs": [],
   "source": [
    "from tf_agents.specs import tensor_spec"
   ]
  },
  {
   "cell_type": "code",
   "execution_count": 162,
   "id": "4bb2aa1c-f7db-4a2e-9cab-948e62a94508",
   "metadata": {},
   "outputs": [
    {
     "name": "stdout",
     "output_type": "stream",
     "text": [
      "reward_spec  : {'reward': ArraySpec(shape=(8,), dtype=dtype('float32'), name='reward')}\n",
      "discount_spec  : {'discount': ArraySpec(shape=(8,), dtype=dtype('float32'), name='discount')}\n",
      "step_type_spec  : {'step_type': ArraySpec(shape=(8,), dtype=dtype('int32'), name='step_type')}\n"
     ]
    }
   ],
   "source": [
    "reward_spec = {\n",
    "    \"reward\": array_spec.ArraySpec(shape=[BATCH_SIZE], dtype=np.float32, name=\"reward\")\n",
    "}\n",
    "\n",
    "discount_spec = {\n",
    "    \"discount\": array_spec.ArraySpec(shape=[BATCH_SIZE], dtype=np.float32, name=\"discount\")\n",
    "}\n",
    "\n",
    "step_type_spec = {\n",
    "    \"step_type\": array_spec.ArraySpec(shape=[BATCH_SIZE], dtype=np.int32, name=\"step_type\")\n",
    "}\n",
    "\n",
    "print(f\"reward_spec  : {reward_spec}\")\n",
    "print(f\"discount_spec  : {discount_spec}\")\n",
    "print(f\"step_type_spec  : {step_type_spec}\")"
   ]
  },
  {
   "cell_type": "code",
   "execution_count": 163,
   "id": "4727a16b-d58a-4d30-a342-4370ffcf4b8a",
   "metadata": {},
   "outputs": [],
   "source": [
    "from tensorflow.python.framework import tensor_spec as ts  # TF internal\n",
    "\n",
    "TensorSpec = tf.TensorSpec\n",
    "BoundedTensorSpec = ts.BoundedTensorSpec\n",
    "\n",
    "def is_bounded(spec):\n",
    "    if isinstance(spec, (array_spec.BoundedArraySpec, BoundedTensorSpec)):\n",
    "        return True\n",
    "    elif hasattr(spec, \"minimum\") and hasattr(spec, \"maximum\"):\n",
    "        return hasattr(spec, \"dtype\") and hasattr(spec, \"shape\")\n",
    "\n",
    "def from_spec(spec):\n",
    "    \"\"\"\n",
    "    Maps the given spec into corresponding TensorSpecs keeping bounds.\n",
    "    \"\"\"\n",
    "\n",
    "    def _convert_to_tensor_spec(s):\n",
    "        # Need to check bounded first as non bounded specs are base class.\n",
    "        if isinstance(s, tf.TypeSpec):\n",
    "            return s\n",
    "        if is_bounded(s):\n",
    "            return BoundedTensorSpec.from_spec(s)\n",
    "        elif isinstance(s, array_spec.ArraySpec):\n",
    "            return TensorSpec.from_spec(s)\n",
    "        else:\n",
    "            raise ValueError(\n",
    "                \"No known conversion from type `%s` to a TensorSpec.  Saw:\\n  %s\" % (type(s), s)\n",
    "            )\n",
    "\n",
    "    return tf.nest.map_structure(_convert_to_tensor_spec, spec)"
   ]
  },
  {
   "cell_type": "code",
   "execution_count": 164,
   "id": "e3439c24-a4cf-44cf-9237-bd4365e732c5",
   "metadata": {},
   "outputs": [
    {
     "name": "stdout",
     "output_type": "stream",
     "text": [
      "obs_tensor_spec       : {'global': TensorSpec(shape=(22,), dtype=tf.float32, name='observation/global'), 'per_arm': TensorSpec(shape=(20, 21), dtype=tf.float32, name='per_arm/global')}\n",
      "discount_tensor_spec  : {'discount': TensorSpec(shape=(8,), dtype=tf.float32, name='discount')}\n",
      "reward_tensor_spec    : {'reward': TensorSpec(shape=(8,), dtype=tf.float32, name='reward')}\n",
      "step_type_tensor_spec : {'step_type': TensorSpec(shape=(8,), dtype=tf.int32, name='step_type')}\n"
     ]
    }
   ],
   "source": [
    "obs_tensor_spec = from_spec(observation_spec)\n",
    "discount_tensor_spec = from_spec(discount_spec)\n",
    "reward_tensor_spec = from_spec(reward_spec) \n",
    "step_type_tensor_spec = from_spec(step_type_spec) \n",
    "\n",
    "print(f\"obs_tensor_spec       : {obs_tensor_spec}\")\n",
    "print(f\"discount_tensor_spec  : {discount_tensor_spec}\")\n",
    "print(f\"reward_tensor_spec    : {reward_tensor_spec}\")\n",
    "print(f\"step_type_tensor_spec : {step_type_tensor_spec}\")"
   ]
  },
  {
   "cell_type": "code",
   "execution_count": null,
   "id": "bfd000c8-f348-485a-83d6-33421c3300e8",
   "metadata": {},
   "outputs": [],
   "source": [
    "# from tf_agents.trajectories import time_step as ts\n",
    "\n",
    "# time_step = ts.TimeStep(\n",
    "#     step_type=step_type,\n",
    "#     observation=observation,\n",
    "#     reward=tf.zeros_like(step_type, tf.float32),\n",
    "#     discount=tf.ones_like(step_type, tf.float32))"
   ]
  },
  {
   "cell_type": "code",
   "execution_count": 165,
   "id": "b1fe063c-0cff-47bd-9dbf-679bb39db1e4",
   "metadata": {},
   "outputs": [
    {
     "data": {
      "text/plain": [
       "Trajectory(\n",
       "{'action': <tf.Tensor: shape=(8,), dtype=float32, numpy=array([1., 1., 1., 1., 1., 1., 1., 1.], dtype=float32)>,\n",
       " 'discount': {'discount': TensorSpec(shape=(8,), dtype=tf.float32, name='discount')},\n",
       " 'next_step_type': <tf.Tensor: shape=(8,), dtype=int32, numpy=array([1, 1, 1, 1, 1, 1, 1, 1], dtype=int32)>,\n",
       " 'observation': {'global': TensorSpec(shape=(22,), dtype=tf.float32, name='observation/global'),\n",
       "                 'per_arm': TensorSpec(shape=(20, 21), dtype=tf.float32, name='per_arm/global')},\n",
       " 'policy_info': (),\n",
       " 'reward': {'reward': TensorSpec(shape=(8,), dtype=tf.float32, name='reward')},\n",
       " 'step_type': {'step_type': TensorSpec(shape=(8,), dtype=tf.int32, name='step_type')}})"
      ]
     },
     "execution_count": 165,
     "metadata": {},
     "output_type": "execute_result"
    }
   ],
   "source": [
    "from tf_agents.trajectories import time_step as ts\n",
    "from tf_agents.trajectories import trajectory\n",
    "\n",
    "traj = trajectory.Trajectory(\n",
    "    step_type=step_type_tensor_spec,\n",
    "    observation=obs_tensor_spec,\n",
    "    action=actions,\n",
    "    policy_info=(),\n",
    "    next_step_type=next_step_types,\n",
    "    reward=reward_tensor_spec,\n",
    "    discount=discount_tensor_spec\n",
    ")\n",
    "traj"
   ]
  },
  {
   "cell_type": "code",
   "execution_count": 166,
   "id": "c9af4f2f-ced8-4bf3-820c-bc7188dad95e",
   "metadata": {},
   "outputs": [
    {
     "data": {
      "text/plain": [
       "{'step_type': TensorSpec(shape=(8,), dtype=tf.int32, name='step_type')}"
      ]
     },
     "execution_count": 166,
     "metadata": {},
     "output_type": "execute_result"
    }
   ],
   "source": [
    "traj.step_type"
   ]
  },
  {
   "cell_type": "code",
   "execution_count": 167,
   "id": "716fc3b4-6c4b-49fc-b3bb-c99185ded0de",
   "metadata": {},
   "outputs": [
    {
     "data": {
      "text/plain": [
       "TimeStep(\n",
       "{'discount': {'discount': TensorSpec(shape=(8,), dtype=tf.float32, name='discount')},\n",
       " 'observation': {'global': TensorSpec(shape=(22,), dtype=tf.float32, name='observation/global'),\n",
       "                 'per_arm': TensorSpec(shape=(20, 21), dtype=tf.float32, name='per_arm/global')},\n",
       " 'reward': {'reward': TensorSpec(shape=(8,), dtype=tf.float32, name='reward')},\n",
       " 'step_type': {'step_type': TensorSpec(shape=(8,), dtype=tf.int32, name='step_type')}})"
      ]
     },
     "execution_count": 167,
     "metadata": {},
     "output_type": "execute_result"
    }
   ],
   "source": [
    "time_step = ts.TimeStep(\n",
    "    step_type=traj.step_type,\n",
    "    observation=traj.observation,\n",
    "    reward=traj.reward,\n",
    "    discount=traj.discount\n",
    ")\n",
    "\n",
    "time_step"
   ]
  },
  {
   "cell_type": "code",
   "execution_count": null,
   "id": "375fee4c-fde8-4f31-8a14-c7dbe588ac21",
   "metadata": {},
   "outputs": [],
   "source": [
    "time_step.restart()"
   ]
  },
  {
   "cell_type": "code",
   "execution_count": 168,
   "id": "59c08feb-4892-4378-9c3d-6fd2ba552bba",
   "metadata": {},
   "outputs": [
    {
     "ename": "ValueError",
     "evalue": "Could not find matching concrete function to call loaded from the SavedModel. Got:\n  Positional arguments (2 total):\n    * TimeStep(\n{'discount': {'discount': <tf.Tensor 'discount:0' shape=(8,) dtype=float32>},\n 'observation': {'global': <tf.Tensor 'observation/global:0' shape=(22,) dtype=float32>,\n                 'per_arm': <tf.Tensor 'per_arm/global:0' shape=(20, 21) dtype=float32>},\n 'reward': {'reward': <tf.Tensor 'reward:0' shape=(8,) dtype=float32>},\n 'step_type': {'step_type': <tf.Tensor 'step_type:0' shape=(8,) dtype=int32>}})\n    * ()\n  Keyword arguments: {}\n\n Expected these arguments to match one of the following 2 option(s):\n\nOption 1:\n  Positional arguments (2 total):\n    * TimeStep(step_type=TensorSpec(shape=(None,), dtype=tf.int32, name='step_type'), reward=TensorSpec(shape=(None,), dtype=tf.float32, name='reward'), discount=TensorSpec(shape=(None,), dtype=tf.float32, name='discount'), observation={'global': TensorSpec(shape=(None, 22), dtype=tf.float32, name='observation/global'), 'per_arm': TensorSpec(shape=(None, 20, 21), dtype=tf.float32, name='observation/per_arm')})\n    * ()\n  Keyword arguments: {}\n\nOption 2:\n  Positional arguments (2 total):\n    * TimeStep(step_type=TensorSpec(shape=(None,), dtype=tf.int32, name='time_step_step_type'), reward=TensorSpec(shape=(None,), dtype=tf.float32, name='time_step_reward'), discount=TensorSpec(shape=(None,), dtype=tf.float32, name='time_step_discount'), observation={'global': TensorSpec(shape=(None, 22), dtype=tf.float32, name='time_step_observation_global'), 'per_arm': TensorSpec(shape=(None, 20, 21), dtype=tf.float32, name='time_step_observation_per_arm')})\n    * ()\n  Keyword arguments: {}",
     "output_type": "error",
     "traceback": [
      "\u001b[0;31m---------------------------------------------------------------------------\u001b[0m",
      "\u001b[0;31mValueError\u001b[0m                                Traceback (most recent call last)",
      "Cell \u001b[0;32mIn[168], line 1\u001b[0m\n\u001b[0;32m----> 1\u001b[0m action_step \u001b[38;5;241m=\u001b[39m \u001b[43mtrained_policy\u001b[49m\u001b[38;5;241;43m.\u001b[39;49m\u001b[43maction\u001b[49m\u001b[43m(\u001b[49m\u001b[43mtime_step\u001b[49m\u001b[43m)\u001b[49m\n\u001b[1;32m      2\u001b[0m action_step\n",
      "File \u001b[0;32m~/.local/lib/python3.10/site-packages/tensorflow/python/util/traceback_utils.py:153\u001b[0m, in \u001b[0;36mfilter_traceback.<locals>.error_handler\u001b[0;34m(*args, **kwargs)\u001b[0m\n\u001b[1;32m    151\u001b[0m \u001b[38;5;28;01mexcept\u001b[39;00m \u001b[38;5;167;01mException\u001b[39;00m \u001b[38;5;28;01mas\u001b[39;00m e:\n\u001b[1;32m    152\u001b[0m   filtered_tb \u001b[38;5;241m=\u001b[39m _process_traceback_frames(e\u001b[38;5;241m.\u001b[39m__traceback__)\n\u001b[0;32m--> 153\u001b[0m   \u001b[38;5;28;01mraise\u001b[39;00m e\u001b[38;5;241m.\u001b[39mwith_traceback(filtered_tb) \u001b[38;5;28;01mfrom\u001b[39;00m \u001b[38;5;28;01mNone\u001b[39;00m\n\u001b[1;32m    154\u001b[0m \u001b[38;5;28;01mfinally\u001b[39;00m:\n\u001b[1;32m    155\u001b[0m   \u001b[38;5;28;01mdel\u001b[39;00m filtered_tb\n",
      "File \u001b[0;32m~/.local/lib/python3.10/site-packages/tensorflow/python/saved_model/function_deserialization.py:295\u001b[0m, in \u001b[0;36mrecreate_function.<locals>.restored_function_body\u001b[0;34m(*args, **kwargs)\u001b[0m\n\u001b[1;32m    291\u001b[0m   positional, keyword \u001b[38;5;241m=\u001b[39m concrete_function\u001b[38;5;241m.\u001b[39mstructured_input_signature\n\u001b[1;32m    292\u001b[0m   signature_descriptions\u001b[38;5;241m.\u001b[39mappend(\n\u001b[1;32m    293\u001b[0m       \u001b[38;5;124m\"\u001b[39m\u001b[38;5;124mOption \u001b[39m\u001b[38;5;132;01m{}\u001b[39;00m\u001b[38;5;124m:\u001b[39m\u001b[38;5;130;01m\\n\u001b[39;00m\u001b[38;5;124m  \u001b[39m\u001b[38;5;132;01m{}\u001b[39;00m\u001b[38;5;130;01m\\n\u001b[39;00m\u001b[38;5;124m  Keyword arguments: \u001b[39m\u001b[38;5;132;01m{}\u001b[39;00m\u001b[38;5;124m\"\u001b[39m\u001b[38;5;241m.\u001b[39mformat(\n\u001b[1;32m    294\u001b[0m           index \u001b[38;5;241m+\u001b[39m \u001b[38;5;241m1\u001b[39m, _pretty_format_positional(positional), keyword))\n\u001b[0;32m--> 295\u001b[0m \u001b[38;5;28;01mraise\u001b[39;00m \u001b[38;5;167;01mValueError\u001b[39;00m(\n\u001b[1;32m    296\u001b[0m     \u001b[38;5;124m\"\u001b[39m\u001b[38;5;124mCould not find matching concrete function to call loaded from the \u001b[39m\u001b[38;5;124m\"\u001b[39m\n\u001b[1;32m    297\u001b[0m     \u001b[38;5;124mf\u001b[39m\u001b[38;5;124m\"\u001b[39m\u001b[38;5;124mSavedModel. Got:\u001b[39m\u001b[38;5;130;01m\\n\u001b[39;00m\u001b[38;5;124m  \u001b[39m\u001b[38;5;132;01m{\u001b[39;00m_pretty_format_positional(args)\u001b[38;5;132;01m}\u001b[39;00m\u001b[38;5;130;01m\\n\u001b[39;00m\u001b[38;5;124m  Keyword \u001b[39m\u001b[38;5;124m\"\u001b[39m\n\u001b[1;32m    298\u001b[0m     \u001b[38;5;124mf\u001b[39m\u001b[38;5;124m\"\u001b[39m\u001b[38;5;124marguments: \u001b[39m\u001b[38;5;132;01m{\u001b[39;00mkwargs\u001b[38;5;132;01m}\u001b[39;00m\u001b[38;5;130;01m\\n\u001b[39;00m\u001b[38;5;130;01m\\n\u001b[39;00m\u001b[38;5;124m Expected these arguments to match one of the \u001b[39m\u001b[38;5;124m\"\u001b[39m\n\u001b[1;32m    299\u001b[0m     \u001b[38;5;124mf\u001b[39m\u001b[38;5;124m\"\u001b[39m\u001b[38;5;124mfollowing \u001b[39m\u001b[38;5;132;01m{\u001b[39;00m\u001b[38;5;28mlen\u001b[39m(saved_function\u001b[38;5;241m.\u001b[39mconcrete_functions)\u001b[38;5;132;01m}\u001b[39;00m\u001b[38;5;124m option(s):\u001b[39m\u001b[38;5;130;01m\\n\u001b[39;00m\u001b[38;5;130;01m\\n\u001b[39;00m\u001b[38;5;124m\"\u001b[39m\n\u001b[1;32m    300\u001b[0m     \u001b[38;5;124mf\u001b[39m\u001b[38;5;124m\"\u001b[39m\u001b[38;5;132;01m{\u001b[39;00m(\u001b[38;5;28mchr\u001b[39m(\u001b[38;5;241m10\u001b[39m)\u001b[38;5;241m+\u001b[39m\u001b[38;5;28mchr\u001b[39m(\u001b[38;5;241m10\u001b[39m))\u001b[38;5;241m.\u001b[39mjoin(signature_descriptions)\u001b[38;5;132;01m}\u001b[39;00m\u001b[38;5;124m\"\u001b[39m)\n",
      "\u001b[0;31mValueError\u001b[0m: Could not find matching concrete function to call loaded from the SavedModel. Got:\n  Positional arguments (2 total):\n    * TimeStep(\n{'discount': {'discount': <tf.Tensor 'discount:0' shape=(8,) dtype=float32>},\n 'observation': {'global': <tf.Tensor 'observation/global:0' shape=(22,) dtype=float32>,\n                 'per_arm': <tf.Tensor 'per_arm/global:0' shape=(20, 21) dtype=float32>},\n 'reward': {'reward': <tf.Tensor 'reward:0' shape=(8,) dtype=float32>},\n 'step_type': {'step_type': <tf.Tensor 'step_type:0' shape=(8,) dtype=int32>}})\n    * ()\n  Keyword arguments: {}\n\n Expected these arguments to match one of the following 2 option(s):\n\nOption 1:\n  Positional arguments (2 total):\n    * TimeStep(step_type=TensorSpec(shape=(None,), dtype=tf.int32, name='step_type'), reward=TensorSpec(shape=(None,), dtype=tf.float32, name='reward'), discount=TensorSpec(shape=(None,), dtype=tf.float32, name='discount'), observation={'global': TensorSpec(shape=(None, 22), dtype=tf.float32, name='observation/global'), 'per_arm': TensorSpec(shape=(None, 20, 21), dtype=tf.float32, name='observation/per_arm')})\n    * ()\n  Keyword arguments: {}\n\nOption 2:\n  Positional arguments (2 total):\n    * TimeStep(step_type=TensorSpec(shape=(None,), dtype=tf.int32, name='time_step_step_type'), reward=TensorSpec(shape=(None,), dtype=tf.float32, name='time_step_reward'), discount=TensorSpec(shape=(None,), dtype=tf.float32, name='time_step_discount'), observation={'global': TensorSpec(shape=(None, 22), dtype=tf.float32, name='time_step_observation_global'), 'per_arm': TensorSpec(shape=(None, 20, 21), dtype=tf.float32, name='time_step_observation_per_arm')})\n    * ()\n  Keyword arguments: {}"
     ]
    }
   ],
   "source": [
    "action_step = trained_policy.action(time_step)\n",
    "action_step"
   ]
  },
  {
   "cell_type": "code",
   "execution_count": 132,
   "id": "efc6e028-7105-4fa8-a89f-905c83c51301",
   "metadata": {},
   "outputs": [],
   "source": [
    "# # discounts = tf.ones((BATCH_SIZE,), dtype=tf.float32)\n",
    "# discounts = list(np.ones((BATCH_SIZE,), dtype=np.float32))\n",
    "# discounts"
   ]
  },
  {
   "cell_type": "code",
   "execution_count": 144,
   "id": "38e2762f-d690-43b4-b829-b6d0114ad044",
   "metadata": {
    "tags": []
   },
   "outputs": [
    {
     "data": {
      "text/plain": [
       "Trajectory(\n",
       "{'action': <tf.Tensor: shape=(8,), dtype=float32, numpy=array([1., 1., 1., 1., 1., 1., 1., 1.], dtype=float32)>,\n",
       " 'discount': <tf.Tensor: shape=(8,), dtype=float32, numpy=array([1., 1., 1., 1., 1., 1., 1., 1.], dtype=float32)>,\n",
       " 'next_step_type': <tf.Tensor: shape=(8,), dtype=int32, numpy=array([1, 1, 1, 1, 1, 1, 1, 1], dtype=int32)>,\n",
       " 'observation': {'global': array([[0, 0, 0, 0, 0, 0, 0, 0, 0, 0, 0, 0, 0, 0, 0, 0, 0, 0, 0, 0, 0, 0],\n",
       "       [0, 0, 0, 0, 0, 0, 0, 0, 0, 0, 0, 0, 0, 0, 0, 0, 0, 0, 0, 0, 0, 0],\n",
       "       [0, 0, 0, 0, 0, 0, 0, 0, 0, 0, 0, 0, 0, 0, 0, 0, 0, 0, 0, 0, 0, 0],\n",
       "       [0, 0, 0, 0, 0, 0, 0, 0, 0, 0, 0, 0, 0, 0, 0, 0, 0, 0, 0, 0, 0, 0],\n",
       "       [0, 0, 0, 0, 0, 0, 0, 0, 0, 0, 0, 0, 0, 0, 0, 0, 0, 0, 0, 0, 0, 0],\n",
       "       [0, 0, 0, 0, 0, 0, 0, 0, 0, 0, 0, 0, 0, 0, 0, 0, 0, 0, 0, 0, 0, 0],\n",
       "       [0, 0, 0, 0, 0, 0, 0, 0, 0, 0, 0, 0, 0, 0, 0, 0, 0, 0, 0, 0, 0, 0],\n",
       "       [0, 0, 0, 0, 0, 0, 0, 0, 0, 0, 0, 0, 0, 0, 0, 0, 0, 0, 0, 0, 0, 0]],\n",
       "      dtype=int32),\n",
       "                 'per_arm': array([[[0, 0, 0, ..., 0, 0, 0],\n",
       "        [0, 0, 0, ..., 0, 0, 0],\n",
       "        [0, 0, 0, ..., 0, 0, 0],\n",
       "        ...,\n",
       "        [0, 0, 0, ..., 0, 0, 0],\n",
       "        [0, 0, 0, ..., 0, 0, 0],\n",
       "        [0, 0, 0, ..., 0, 0, 0]],\n",
       "\n",
       "       [[0, 0, 0, ..., 0, 0, 0],\n",
       "        [0, 0, 0, ..., 0, 0, 0],\n",
       "        [0, 0, 0, ..., 0, 0, 0],\n",
       "        ...,\n",
       "        [0, 0, 0, ..., 0, 0, 0],\n",
       "        [0, 0, 0, ..., 0, 0, 0],\n",
       "        [0, 0, 0, ..., 0, 0, 0]],\n",
       "\n",
       "       [[0, 0, 0, ..., 0, 0, 0],\n",
       "        [0, 0, 0, ..., 0, 0, 0],\n",
       "        [0, 0, 0, ..., 0, 0, 0],\n",
       "        ...,\n",
       "        [0, 0, 0, ..., 0, 0, 0],\n",
       "        [0, 0, 0, ..., 0, 0, 0],\n",
       "        [0, 0, 0, ..., 0, 0, 0]],\n",
       "\n",
       "       ...,\n",
       "\n",
       "       [[0, 0, 0, ..., 0, 0, 0],\n",
       "        [0, 0, 0, ..., 0, 0, 0],\n",
       "        [0, 0, 0, ..., 0, 0, 0],\n",
       "        ...,\n",
       "        [0, 0, 0, ..., 0, 0, 0],\n",
       "        [0, 0, 0, ..., 0, 0, 0],\n",
       "        [0, 0, 0, ..., 0, 0, 0]],\n",
       "\n",
       "       [[0, 0, 0, ..., 0, 0, 0],\n",
       "        [0, 0, 0, ..., 0, 0, 0],\n",
       "        [0, 0, 0, ..., 0, 0, 0],\n",
       "        ...,\n",
       "        [0, 0, 0, ..., 0, 0, 0],\n",
       "        [0, 0, 0, ..., 0, 0, 0],\n",
       "        [0, 0, 0, ..., 0, 0, 0]],\n",
       "\n",
       "       [[0, 0, 0, ..., 0, 0, 0],\n",
       "        [0, 0, 0, ..., 0, 0, 0],\n",
       "        [0, 0, 0, ..., 0, 0, 0],\n",
       "        ...,\n",
       "        [0, 0, 0, ..., 0, 0, 0],\n",
       "        [0, 0, 0, ..., 0, 0, 0],\n",
       "        [0, 0, 0, ..., 0, 0, 0]]], dtype=int32)},\n",
       " 'policy_info': (),\n",
       " 'reward': <tf.Tensor: shape=(8,), dtype=float32, numpy=array([1., 1., 1., 1., 1., 1., 1., 1.], dtype=float32)>,\n",
       " 'step_type': <tf.Tensor: shape=(8,), dtype=int32, numpy=array([0, 1, 1, 1, 1, 1, 1, 1], dtype=int32)>})"
      ]
     },
     "execution_count": 144,
     "metadata": {},
     "output_type": "execute_result"
    }
   ],
   "source": [
    "from tf_agents.trajectories import time_step as ts\n",
    "from tf_agents.trajectories import trajectory\n",
    "# from tf_agents.typing import types\n",
    "\n",
    "discounts = tf.ones((BATCH_SIZE,), dtype=tf.float32)\n",
    "rewards = tf.ones((BATCH_SIZE,), dtype=tf.float32)\n",
    "actions = tf.ones((BATCH_SIZE,), dtype=tf.float32)\n",
    "\n",
    "next_step_types = tf.ones((BATCH_SIZE,), dtype=tf.int32) * ts.StepType.MID\n",
    "\n",
    "step_types = tf.concat([[ts.StepType.FIRST], next_step_types[1:]], axis=0)\n",
    "\n",
    "traj = trajectory.Trajectory(\n",
    "    step_type=step_types,\n",
    "    observation=observation, #obs_tensor_spec,\n",
    "    action=actions,\n",
    "    policy_info=(),\n",
    "    next_step_type=next_step_types,\n",
    "    reward=rewards,\n",
    "    discount=discounts\n",
    ")\n",
    "traj"
   ]
  },
  {
   "cell_type": "code",
   "execution_count": 151,
   "id": "8fe6b6c4-043f-4adc-87c8-6c4ee1b1460f",
   "metadata": {},
   "outputs": [
    {
     "data": {
      "text/plain": [
       "<tf.Tensor: shape=(1, 8), dtype=int32, numpy=array([[0, 1, 1, 1, 1, 1, 1, 1]], dtype=int32)>"
      ]
     },
     "execution_count": 151,
     "metadata": {},
     "output_type": "execute_result"
    }
   ],
   "source": [
    "step_type = tf.expand_dims(traj.step_type, axis=0)\n",
    "\n",
    "# step_type_tensor_spec = from_spec(step_type) \n",
    "\n",
    "step_type"
   ]
  },
  {
   "cell_type": "code",
   "execution_count": 146,
   "id": "93dc2c68-72d6-4609-b915-72427c747cde",
   "metadata": {
    "collapsed": true,
    "jupyter": {
     "outputs_hidden": true
    },
    "tags": []
   },
   "outputs": [
    {
     "data": {
      "text/plain": [
       "{'global': <tf.Tensor: shape=(1, 8, 22), dtype=int32, numpy=\n",
       " array([[[0, 0, 0, 0, 0, 0, 0, 0, 0, 0, 0, 0, 0, 0, 0, 0, 0, 0, 0, 0, 0,\n",
       "          0],\n",
       "         [0, 0, 0, 0, 0, 0, 0, 0, 0, 0, 0, 0, 0, 0, 0, 0, 0, 0, 0, 0, 0,\n",
       "          0],\n",
       "         [0, 0, 0, 0, 0, 0, 0, 0, 0, 0, 0, 0, 0, 0, 0, 0, 0, 0, 0, 0, 0,\n",
       "          0],\n",
       "         [0, 0, 0, 0, 0, 0, 0, 0, 0, 0, 0, 0, 0, 0, 0, 0, 0, 0, 0, 0, 0,\n",
       "          0],\n",
       "         [0, 0, 0, 0, 0, 0, 0, 0, 0, 0, 0, 0, 0, 0, 0, 0, 0, 0, 0, 0, 0,\n",
       "          0],\n",
       "         [0, 0, 0, 0, 0, 0, 0, 0, 0, 0, 0, 0, 0, 0, 0, 0, 0, 0, 0, 0, 0,\n",
       "          0],\n",
       "         [0, 0, 0, 0, 0, 0, 0, 0, 0, 0, 0, 0, 0, 0, 0, 0, 0, 0, 0, 0, 0,\n",
       "          0],\n",
       "         [0, 0, 0, 0, 0, 0, 0, 0, 0, 0, 0, 0, 0, 0, 0, 0, 0, 0, 0, 0, 0,\n",
       "          0]]], dtype=int32)>,\n",
       " 'per_arm': <tf.Tensor: shape=(1, 8, 20, 21), dtype=int32, numpy=\n",
       " array([[[[0, 0, 0, ..., 0, 0, 0],\n",
       "          [0, 0, 0, ..., 0, 0, 0],\n",
       "          [0, 0, 0, ..., 0, 0, 0],\n",
       "          ...,\n",
       "          [0, 0, 0, ..., 0, 0, 0],\n",
       "          [0, 0, 0, ..., 0, 0, 0],\n",
       "          [0, 0, 0, ..., 0, 0, 0]],\n",
       " \n",
       "         [[0, 0, 0, ..., 0, 0, 0],\n",
       "          [0, 0, 0, ..., 0, 0, 0],\n",
       "          [0, 0, 0, ..., 0, 0, 0],\n",
       "          ...,\n",
       "          [0, 0, 0, ..., 0, 0, 0],\n",
       "          [0, 0, 0, ..., 0, 0, 0],\n",
       "          [0, 0, 0, ..., 0, 0, 0]],\n",
       " \n",
       "         [[0, 0, 0, ..., 0, 0, 0],\n",
       "          [0, 0, 0, ..., 0, 0, 0],\n",
       "          [0, 0, 0, ..., 0, 0, 0],\n",
       "          ...,\n",
       "          [0, 0, 0, ..., 0, 0, 0],\n",
       "          [0, 0, 0, ..., 0, 0, 0],\n",
       "          [0, 0, 0, ..., 0, 0, 0]],\n",
       " \n",
       "         ...,\n",
       " \n",
       "         [[0, 0, 0, ..., 0, 0, 0],\n",
       "          [0, 0, 0, ..., 0, 0, 0],\n",
       "          [0, 0, 0, ..., 0, 0, 0],\n",
       "          ...,\n",
       "          [0, 0, 0, ..., 0, 0, 0],\n",
       "          [0, 0, 0, ..., 0, 0, 0],\n",
       "          [0, 0, 0, ..., 0, 0, 0]],\n",
       " \n",
       "         [[0, 0, 0, ..., 0, 0, 0],\n",
       "          [0, 0, 0, ..., 0, 0, 0],\n",
       "          [0, 0, 0, ..., 0, 0, 0],\n",
       "          ...,\n",
       "          [0, 0, 0, ..., 0, 0, 0],\n",
       "          [0, 0, 0, ..., 0, 0, 0],\n",
       "          [0, 0, 0, ..., 0, 0, 0]],\n",
       " \n",
       "         [[0, 0, 0, ..., 0, 0, 0],\n",
       "          [0, 0, 0, ..., 0, 0, 0],\n",
       "          [0, 0, 0, ..., 0, 0, 0],\n",
       "          ...,\n",
       "          [0, 0, 0, ..., 0, 0, 0],\n",
       "          [0, 0, 0, ..., 0, 0, 0],\n",
       "          [0, 0, 0, ..., 0, 0, 0]]]], dtype=int32)>}"
      ]
     },
     "execution_count": 146,
     "metadata": {},
     "output_type": "execute_result"
    }
   ],
   "source": [
    "traj_observation = tf.nest.map_structure(lambda x: tf.expand_dims(x, axis=0),traj.observation)\n",
    "traj_observation"
   ]
  },
  {
   "cell_type": "code",
   "execution_count": 147,
   "id": "e31583eb-4e59-4d50-8a78-e3cf35ead9be",
   "metadata": {
    "collapsed": true,
    "jupyter": {
     "outputs_hidden": true
    },
    "tags": []
   },
   "outputs": [
    {
     "data": {
      "text/plain": [
       "TimeStep(\n",
       "{'discount': <tf.Tensor: shape=(1, 8), dtype=float32, numpy=array([[1., 1., 1., 1., 1., 1., 1., 1.]], dtype=float32)>,\n",
       " 'observation': {'global': <tf.Tensor: shape=(1, 8, 22), dtype=int32, numpy=\n",
       "array([[[0, 0, 0, 0, 0, 0, 0, 0, 0, 0, 0, 0, 0, 0, 0, 0, 0, 0, 0, 0, 0,\n",
       "         0],\n",
       "        [0, 0, 0, 0, 0, 0, 0, 0, 0, 0, 0, 0, 0, 0, 0, 0, 0, 0, 0, 0, 0,\n",
       "         0],\n",
       "        [0, 0, 0, 0, 0, 0, 0, 0, 0, 0, 0, 0, 0, 0, 0, 0, 0, 0, 0, 0, 0,\n",
       "         0],\n",
       "        [0, 0, 0, 0, 0, 0, 0, 0, 0, 0, 0, 0, 0, 0, 0, 0, 0, 0, 0, 0, 0,\n",
       "         0],\n",
       "        [0, 0, 0, 0, 0, 0, 0, 0, 0, 0, 0, 0, 0, 0, 0, 0, 0, 0, 0, 0, 0,\n",
       "         0],\n",
       "        [0, 0, 0, 0, 0, 0, 0, 0, 0, 0, 0, 0, 0, 0, 0, 0, 0, 0, 0, 0, 0,\n",
       "         0],\n",
       "        [0, 0, 0, 0, 0, 0, 0, 0, 0, 0, 0, 0, 0, 0, 0, 0, 0, 0, 0, 0, 0,\n",
       "         0],\n",
       "        [0, 0, 0, 0, 0, 0, 0, 0, 0, 0, 0, 0, 0, 0, 0, 0, 0, 0, 0, 0, 0,\n",
       "         0]]], dtype=int32)>,\n",
       "                 'per_arm': <tf.Tensor: shape=(1, 8, 20, 21), dtype=int32, numpy=\n",
       "array([[[[0, 0, 0, ..., 0, 0, 0],\n",
       "         [0, 0, 0, ..., 0, 0, 0],\n",
       "         [0, 0, 0, ..., 0, 0, 0],\n",
       "         ...,\n",
       "         [0, 0, 0, ..., 0, 0, 0],\n",
       "         [0, 0, 0, ..., 0, 0, 0],\n",
       "         [0, 0, 0, ..., 0, 0, 0]],\n",
       "\n",
       "        [[0, 0, 0, ..., 0, 0, 0],\n",
       "         [0, 0, 0, ..., 0, 0, 0],\n",
       "         [0, 0, 0, ..., 0, 0, 0],\n",
       "         ...,\n",
       "         [0, 0, 0, ..., 0, 0, 0],\n",
       "         [0, 0, 0, ..., 0, 0, 0],\n",
       "         [0, 0, 0, ..., 0, 0, 0]],\n",
       "\n",
       "        [[0, 0, 0, ..., 0, 0, 0],\n",
       "         [0, 0, 0, ..., 0, 0, 0],\n",
       "         [0, 0, 0, ..., 0, 0, 0],\n",
       "         ...,\n",
       "         [0, 0, 0, ..., 0, 0, 0],\n",
       "         [0, 0, 0, ..., 0, 0, 0],\n",
       "         [0, 0, 0, ..., 0, 0, 0]],\n",
       "\n",
       "        ...,\n",
       "\n",
       "        [[0, 0, 0, ..., 0, 0, 0],\n",
       "         [0, 0, 0, ..., 0, 0, 0],\n",
       "         [0, 0, 0, ..., 0, 0, 0],\n",
       "         ...,\n",
       "         [0, 0, 0, ..., 0, 0, 0],\n",
       "         [0, 0, 0, ..., 0, 0, 0],\n",
       "         [0, 0, 0, ..., 0, 0, 0]],\n",
       "\n",
       "        [[0, 0, 0, ..., 0, 0, 0],\n",
       "         [0, 0, 0, ..., 0, 0, 0],\n",
       "         [0, 0, 0, ..., 0, 0, 0],\n",
       "         ...,\n",
       "         [0, 0, 0, ..., 0, 0, 0],\n",
       "         [0, 0, 0, ..., 0, 0, 0],\n",
       "         [0, 0, 0, ..., 0, 0, 0]],\n",
       "\n",
       "        [[0, 0, 0, ..., 0, 0, 0],\n",
       "         [0, 0, 0, ..., 0, 0, 0],\n",
       "         [0, 0, 0, ..., 0, 0, 0],\n",
       "         ...,\n",
       "         [0, 0, 0, ..., 0, 0, 0],\n",
       "         [0, 0, 0, ..., 0, 0, 0],\n",
       "         [0, 0, 0, ..., 0, 0, 0]]]], dtype=int32)>},\n",
       " 'reward': <tf.Tensor: shape=(1, 8), dtype=float32, numpy=array([[0., 0., 0., 0., 0., 0., 0., 0.]], dtype=float32)>,\n",
       " 'step_type': <tf.Tensor: shape=(1, 8), dtype=int32, numpy=array([[0, 1, 1, 1, 1, 1, 1, 1]], dtype=int32)>})"
      ]
     },
     "execution_count": 147,
     "metadata": {},
     "output_type": "execute_result"
    }
   ],
   "source": [
    "time_step = ts.TimeStep(\n",
    "    step_type=step_type,\n",
    "    observation=traj_observation,\n",
    "    reward=tf.zeros_like(step_type, tf.float32),\n",
    "    discount=tf.ones_like(step_type, tf.float32))\n",
    "\n",
    "time_step"
   ]
  },
  {
   "cell_type": "code",
   "execution_count": 149,
   "id": "a2752dd6-a7fd-43bf-8d1a-cd1377eb7403",
   "metadata": {
    "collapsed": true,
    "jupyter": {
     "outputs_hidden": true
    },
    "tags": []
   },
   "outputs": [
    {
     "ename": "ValueError",
     "evalue": "Could not find matching concrete function to call loaded from the SavedModel. Got:\n  Positional arguments (2 total):\n    * TimeStep(\n{'discount': <tf.Tensor 'time_step_2:0' shape=(1, 8) dtype=float32>,\n 'observation': {'global': <tf.Tensor 'time_step_3:0' shape=(1, 8, 22) dtype=int32>,\n                 'per_arm': <tf.Tensor 'time_step_4:0' shape=(1, 8, 20, 21) dtype=int32>},\n 'reward': <tf.Tensor 'time_step_1:0' shape=(1, 8) dtype=float32>,\n 'step_type': <tf.Tensor 'time_step:0' shape=(1, 8) dtype=int32>})\n    * ()\n  Keyword arguments: {}\n\n Expected these arguments to match one of the following 2 option(s):\n\nOption 1:\n  Positional arguments (2 total):\n    * TimeStep(step_type=TensorSpec(shape=(None,), dtype=tf.int32, name='step_type'), reward=TensorSpec(shape=(None,), dtype=tf.float32, name='reward'), discount=TensorSpec(shape=(None,), dtype=tf.float32, name='discount'), observation={'global': TensorSpec(shape=(None, 22), dtype=tf.float32, name='observation/global'), 'per_arm': TensorSpec(shape=(None, 20, 21), dtype=tf.float32, name='observation/per_arm')})\n    * ()\n  Keyword arguments: {}\n\nOption 2:\n  Positional arguments (2 total):\n    * TimeStep(step_type=TensorSpec(shape=(None,), dtype=tf.int32, name='time_step_step_type'), reward=TensorSpec(shape=(None,), dtype=tf.float32, name='time_step_reward'), discount=TensorSpec(shape=(None,), dtype=tf.float32, name='time_step_discount'), observation={'global': TensorSpec(shape=(None, 22), dtype=tf.float32, name='time_step_observation_global'), 'per_arm': TensorSpec(shape=(None, 20, 21), dtype=tf.float32, name='time_step_observation_per_arm')})\n    * ()\n  Keyword arguments: {}",
     "output_type": "error",
     "traceback": [
      "\u001b[0;31m---------------------------------------------------------------------------\u001b[0m",
      "\u001b[0;31mValueError\u001b[0m                                Traceback (most recent call last)",
      "Cell \u001b[0;32mIn[149], line 1\u001b[0m\n\u001b[0;32m----> 1\u001b[0m action_step \u001b[38;5;241m=\u001b[39m \u001b[43mtrained_policy\u001b[49m\u001b[38;5;241;43m.\u001b[39;49m\u001b[43maction\u001b[49m\u001b[43m(\u001b[49m\u001b[43mtime_step\u001b[49m\u001b[43m)\u001b[49m\n\u001b[1;32m      2\u001b[0m action_step\n",
      "File \u001b[0;32m~/.local/lib/python3.10/site-packages/tensorflow/python/util/traceback_utils.py:153\u001b[0m, in \u001b[0;36mfilter_traceback.<locals>.error_handler\u001b[0;34m(*args, **kwargs)\u001b[0m\n\u001b[1;32m    151\u001b[0m \u001b[38;5;28;01mexcept\u001b[39;00m \u001b[38;5;167;01mException\u001b[39;00m \u001b[38;5;28;01mas\u001b[39;00m e:\n\u001b[1;32m    152\u001b[0m   filtered_tb \u001b[38;5;241m=\u001b[39m _process_traceback_frames(e\u001b[38;5;241m.\u001b[39m__traceback__)\n\u001b[0;32m--> 153\u001b[0m   \u001b[38;5;28;01mraise\u001b[39;00m e\u001b[38;5;241m.\u001b[39mwith_traceback(filtered_tb) \u001b[38;5;28;01mfrom\u001b[39;00m \u001b[38;5;28;01mNone\u001b[39;00m\n\u001b[1;32m    154\u001b[0m \u001b[38;5;28;01mfinally\u001b[39;00m:\n\u001b[1;32m    155\u001b[0m   \u001b[38;5;28;01mdel\u001b[39;00m filtered_tb\n",
      "File \u001b[0;32m~/.local/lib/python3.10/site-packages/tensorflow/python/saved_model/function_deserialization.py:295\u001b[0m, in \u001b[0;36mrecreate_function.<locals>.restored_function_body\u001b[0;34m(*args, **kwargs)\u001b[0m\n\u001b[1;32m    291\u001b[0m   positional, keyword \u001b[38;5;241m=\u001b[39m concrete_function\u001b[38;5;241m.\u001b[39mstructured_input_signature\n\u001b[1;32m    292\u001b[0m   signature_descriptions\u001b[38;5;241m.\u001b[39mappend(\n\u001b[1;32m    293\u001b[0m       \u001b[38;5;124m\"\u001b[39m\u001b[38;5;124mOption \u001b[39m\u001b[38;5;132;01m{}\u001b[39;00m\u001b[38;5;124m:\u001b[39m\u001b[38;5;130;01m\\n\u001b[39;00m\u001b[38;5;124m  \u001b[39m\u001b[38;5;132;01m{}\u001b[39;00m\u001b[38;5;130;01m\\n\u001b[39;00m\u001b[38;5;124m  Keyword arguments: \u001b[39m\u001b[38;5;132;01m{}\u001b[39;00m\u001b[38;5;124m\"\u001b[39m\u001b[38;5;241m.\u001b[39mformat(\n\u001b[1;32m    294\u001b[0m           index \u001b[38;5;241m+\u001b[39m \u001b[38;5;241m1\u001b[39m, _pretty_format_positional(positional), keyword))\n\u001b[0;32m--> 295\u001b[0m \u001b[38;5;28;01mraise\u001b[39;00m \u001b[38;5;167;01mValueError\u001b[39;00m(\n\u001b[1;32m    296\u001b[0m     \u001b[38;5;124m\"\u001b[39m\u001b[38;5;124mCould not find matching concrete function to call loaded from the \u001b[39m\u001b[38;5;124m\"\u001b[39m\n\u001b[1;32m    297\u001b[0m     \u001b[38;5;124mf\u001b[39m\u001b[38;5;124m\"\u001b[39m\u001b[38;5;124mSavedModel. Got:\u001b[39m\u001b[38;5;130;01m\\n\u001b[39;00m\u001b[38;5;124m  \u001b[39m\u001b[38;5;132;01m{\u001b[39;00m_pretty_format_positional(args)\u001b[38;5;132;01m}\u001b[39;00m\u001b[38;5;130;01m\\n\u001b[39;00m\u001b[38;5;124m  Keyword \u001b[39m\u001b[38;5;124m\"\u001b[39m\n\u001b[1;32m    298\u001b[0m     \u001b[38;5;124mf\u001b[39m\u001b[38;5;124m\"\u001b[39m\u001b[38;5;124marguments: \u001b[39m\u001b[38;5;132;01m{\u001b[39;00mkwargs\u001b[38;5;132;01m}\u001b[39;00m\u001b[38;5;130;01m\\n\u001b[39;00m\u001b[38;5;130;01m\\n\u001b[39;00m\u001b[38;5;124m Expected these arguments to match one of the \u001b[39m\u001b[38;5;124m\"\u001b[39m\n\u001b[1;32m    299\u001b[0m     \u001b[38;5;124mf\u001b[39m\u001b[38;5;124m\"\u001b[39m\u001b[38;5;124mfollowing \u001b[39m\u001b[38;5;132;01m{\u001b[39;00m\u001b[38;5;28mlen\u001b[39m(saved_function\u001b[38;5;241m.\u001b[39mconcrete_functions)\u001b[38;5;132;01m}\u001b[39;00m\u001b[38;5;124m option(s):\u001b[39m\u001b[38;5;130;01m\\n\u001b[39;00m\u001b[38;5;130;01m\\n\u001b[39;00m\u001b[38;5;124m\"\u001b[39m\n\u001b[1;32m    300\u001b[0m     \u001b[38;5;124mf\u001b[39m\u001b[38;5;124m\"\u001b[39m\u001b[38;5;132;01m{\u001b[39;00m(\u001b[38;5;28mchr\u001b[39m(\u001b[38;5;241m10\u001b[39m)\u001b[38;5;241m+\u001b[39m\u001b[38;5;28mchr\u001b[39m(\u001b[38;5;241m10\u001b[39m))\u001b[38;5;241m.\u001b[39mjoin(signature_descriptions)\u001b[38;5;132;01m}\u001b[39;00m\u001b[38;5;124m\"\u001b[39m)\n",
      "\u001b[0;31mValueError\u001b[0m: Could not find matching concrete function to call loaded from the SavedModel. Got:\n  Positional arguments (2 total):\n    * TimeStep(\n{'discount': <tf.Tensor 'time_step_2:0' shape=(1, 8) dtype=float32>,\n 'observation': {'global': <tf.Tensor 'time_step_3:0' shape=(1, 8, 22) dtype=int32>,\n                 'per_arm': <tf.Tensor 'time_step_4:0' shape=(1, 8, 20, 21) dtype=int32>},\n 'reward': <tf.Tensor 'time_step_1:0' shape=(1, 8) dtype=float32>,\n 'step_type': <tf.Tensor 'time_step:0' shape=(1, 8) dtype=int32>})\n    * ()\n  Keyword arguments: {}\n\n Expected these arguments to match one of the following 2 option(s):\n\nOption 1:\n  Positional arguments (2 total):\n    * TimeStep(step_type=TensorSpec(shape=(None,), dtype=tf.int32, name='step_type'), reward=TensorSpec(shape=(None,), dtype=tf.float32, name='reward'), discount=TensorSpec(shape=(None,), dtype=tf.float32, name='discount'), observation={'global': TensorSpec(shape=(None, 22), dtype=tf.float32, name='observation/global'), 'per_arm': TensorSpec(shape=(None, 20, 21), dtype=tf.float32, name='observation/per_arm')})\n    * ()\n  Keyword arguments: {}\n\nOption 2:\n  Positional arguments (2 total):\n    * TimeStep(step_type=TensorSpec(shape=(None,), dtype=tf.int32, name='time_step_step_type'), reward=TensorSpec(shape=(None,), dtype=tf.float32, name='time_step_reward'), discount=TensorSpec(shape=(None,), dtype=tf.float32, name='time_step_discount'), observation={'global': TensorSpec(shape=(None, 22), dtype=tf.float32, name='time_step_observation_global'), 'per_arm': TensorSpec(shape=(None, 20, 21), dtype=tf.float32, name='time_step_observation_per_arm')})\n    * ()\n  Keyword arguments: {}"
     ]
    }
   ],
   "source": [
    "action_step = trained_policy.action(time_step)\n",
    "action_step"
   ]
  },
  {
   "cell_type": "code",
   "execution_count": 116,
   "id": "85a59113-620a-4526-b67a-3cf345474861",
   "metadata": {},
   "outputs": [
    {
     "data": {
      "text/plain": [
       "TimeStep(\n",
       "{'discount': array([1., 1., 1., 1., 1., 1., 1., 1.], dtype=float32),\n",
       " 'observation': {'global': TensorSpec(shape=(22,), dtype=tf.float32, name=None),\n",
       "                 'per_arm': TensorSpec(shape=(20, 21), dtype=tf.float32, name=None)},\n",
       " 'reward': array([0., 0., 0., 0., 0., 0., 0., 0.], dtype=float32),\n",
       " 'step_type': array([0, 0, 0, 0, 0, 0, 0, 0], dtype=int32)})"
      ]
     },
     "execution_count": 116,
     "metadata": {},
     "output_type": "execute_result"
    }
   ],
   "source": [
    "time_step = tf_agents.trajectories.restart(\n",
    "    observation=tensor_spec,\n",
    "    batch_size=tf.convert_to_tensor([BATCH_SIZE]),\n",
    ")\n",
    "time_step"
   ]
  },
  {
   "cell_type": "code",
   "execution_count": 117,
   "id": "64ef804e-08a4-435d-a9b0-d9c7c2871eed",
   "metadata": {},
   "outputs": [
    {
     "ename": "ValueError",
     "evalue": "Could not find matching concrete function to call loaded from the SavedModel. Got:\n  Positional arguments (2 total):\n    * TimeStep(\n{'discount': <tf.Tensor 'time_step_2:0' shape=(8,) dtype=float32>,\n 'observation': {'global': <tf.Tensor 'time_step_3:0' shape=(22,) dtype=float32>,\n                 'per_arm': <tf.Tensor 'time_step_4:0' shape=(20, 21) dtype=float32>},\n 'reward': <tf.Tensor 'time_step_1:0' shape=(8,) dtype=float32>,\n 'step_type': <tf.Tensor 'time_step:0' shape=(8,) dtype=int32>})\n    * ()\n  Keyword arguments: {}\n\n Expected these arguments to match one of the following 2 option(s):\n\nOption 1:\n  Positional arguments (2 total):\n    * TimeStep(step_type=TensorSpec(shape=(None,), dtype=tf.int32, name='step_type'), reward=TensorSpec(shape=(None,), dtype=tf.float32, name='reward'), discount=TensorSpec(shape=(None,), dtype=tf.float32, name='discount'), observation={'global': TensorSpec(shape=(None, 22), dtype=tf.float32, name='observation/global'), 'per_arm': TensorSpec(shape=(None, 20, 21), dtype=tf.float32, name='observation/per_arm')})\n    * ()\n  Keyword arguments: {}\n\nOption 2:\n  Positional arguments (2 total):\n    * TimeStep(step_type=TensorSpec(shape=(None,), dtype=tf.int32, name='time_step_step_type'), reward=TensorSpec(shape=(None,), dtype=tf.float32, name='time_step_reward'), discount=TensorSpec(shape=(None,), dtype=tf.float32, name='time_step_discount'), observation={'global': TensorSpec(shape=(None, 22), dtype=tf.float32, name='time_step_observation_global'), 'per_arm': TensorSpec(shape=(None, 20, 21), dtype=tf.float32, name='time_step_observation_per_arm')})\n    * ()\n  Keyword arguments: {}",
     "output_type": "error",
     "traceback": [
      "\u001b[0;31m---------------------------------------------------------------------------\u001b[0m",
      "\u001b[0;31mValueError\u001b[0m                                Traceback (most recent call last)",
      "Cell \u001b[0;32mIn[117], line 1\u001b[0m\n\u001b[0;32m----> 1\u001b[0m action_step \u001b[38;5;241m=\u001b[39m \u001b[43mtrained_policy\u001b[49m\u001b[38;5;241;43m.\u001b[39;49m\u001b[43maction\u001b[49m\u001b[43m(\u001b[49m\u001b[43mtime_step\u001b[49m\u001b[43m)\u001b[49m\n\u001b[1;32m      2\u001b[0m action_step\n",
      "File \u001b[0;32m~/.local/lib/python3.10/site-packages/tensorflow/python/util/traceback_utils.py:153\u001b[0m, in \u001b[0;36mfilter_traceback.<locals>.error_handler\u001b[0;34m(*args, **kwargs)\u001b[0m\n\u001b[1;32m    151\u001b[0m \u001b[38;5;28;01mexcept\u001b[39;00m \u001b[38;5;167;01mException\u001b[39;00m \u001b[38;5;28;01mas\u001b[39;00m e:\n\u001b[1;32m    152\u001b[0m   filtered_tb \u001b[38;5;241m=\u001b[39m _process_traceback_frames(e\u001b[38;5;241m.\u001b[39m__traceback__)\n\u001b[0;32m--> 153\u001b[0m   \u001b[38;5;28;01mraise\u001b[39;00m e\u001b[38;5;241m.\u001b[39mwith_traceback(filtered_tb) \u001b[38;5;28;01mfrom\u001b[39;00m \u001b[38;5;28;01mNone\u001b[39;00m\n\u001b[1;32m    154\u001b[0m \u001b[38;5;28;01mfinally\u001b[39;00m:\n\u001b[1;32m    155\u001b[0m   \u001b[38;5;28;01mdel\u001b[39;00m filtered_tb\n",
      "File \u001b[0;32m~/.local/lib/python3.10/site-packages/tensorflow/python/saved_model/function_deserialization.py:295\u001b[0m, in \u001b[0;36mrecreate_function.<locals>.restored_function_body\u001b[0;34m(*args, **kwargs)\u001b[0m\n\u001b[1;32m    291\u001b[0m   positional, keyword \u001b[38;5;241m=\u001b[39m concrete_function\u001b[38;5;241m.\u001b[39mstructured_input_signature\n\u001b[1;32m    292\u001b[0m   signature_descriptions\u001b[38;5;241m.\u001b[39mappend(\n\u001b[1;32m    293\u001b[0m       \u001b[38;5;124m\"\u001b[39m\u001b[38;5;124mOption \u001b[39m\u001b[38;5;132;01m{}\u001b[39;00m\u001b[38;5;124m:\u001b[39m\u001b[38;5;130;01m\\n\u001b[39;00m\u001b[38;5;124m  \u001b[39m\u001b[38;5;132;01m{}\u001b[39;00m\u001b[38;5;130;01m\\n\u001b[39;00m\u001b[38;5;124m  Keyword arguments: \u001b[39m\u001b[38;5;132;01m{}\u001b[39;00m\u001b[38;5;124m\"\u001b[39m\u001b[38;5;241m.\u001b[39mformat(\n\u001b[1;32m    294\u001b[0m           index \u001b[38;5;241m+\u001b[39m \u001b[38;5;241m1\u001b[39m, _pretty_format_positional(positional), keyword))\n\u001b[0;32m--> 295\u001b[0m \u001b[38;5;28;01mraise\u001b[39;00m \u001b[38;5;167;01mValueError\u001b[39;00m(\n\u001b[1;32m    296\u001b[0m     \u001b[38;5;124m\"\u001b[39m\u001b[38;5;124mCould not find matching concrete function to call loaded from the \u001b[39m\u001b[38;5;124m\"\u001b[39m\n\u001b[1;32m    297\u001b[0m     \u001b[38;5;124mf\u001b[39m\u001b[38;5;124m\"\u001b[39m\u001b[38;5;124mSavedModel. Got:\u001b[39m\u001b[38;5;130;01m\\n\u001b[39;00m\u001b[38;5;124m  \u001b[39m\u001b[38;5;132;01m{\u001b[39;00m_pretty_format_positional(args)\u001b[38;5;132;01m}\u001b[39;00m\u001b[38;5;130;01m\\n\u001b[39;00m\u001b[38;5;124m  Keyword \u001b[39m\u001b[38;5;124m\"\u001b[39m\n\u001b[1;32m    298\u001b[0m     \u001b[38;5;124mf\u001b[39m\u001b[38;5;124m\"\u001b[39m\u001b[38;5;124marguments: \u001b[39m\u001b[38;5;132;01m{\u001b[39;00mkwargs\u001b[38;5;132;01m}\u001b[39;00m\u001b[38;5;130;01m\\n\u001b[39;00m\u001b[38;5;130;01m\\n\u001b[39;00m\u001b[38;5;124m Expected these arguments to match one of the \u001b[39m\u001b[38;5;124m\"\u001b[39m\n\u001b[1;32m    299\u001b[0m     \u001b[38;5;124mf\u001b[39m\u001b[38;5;124m\"\u001b[39m\u001b[38;5;124mfollowing \u001b[39m\u001b[38;5;132;01m{\u001b[39;00m\u001b[38;5;28mlen\u001b[39m(saved_function\u001b[38;5;241m.\u001b[39mconcrete_functions)\u001b[38;5;132;01m}\u001b[39;00m\u001b[38;5;124m option(s):\u001b[39m\u001b[38;5;130;01m\\n\u001b[39;00m\u001b[38;5;130;01m\\n\u001b[39;00m\u001b[38;5;124m\"\u001b[39m\n\u001b[1;32m    300\u001b[0m     \u001b[38;5;124mf\u001b[39m\u001b[38;5;124m\"\u001b[39m\u001b[38;5;132;01m{\u001b[39;00m(\u001b[38;5;28mchr\u001b[39m(\u001b[38;5;241m10\u001b[39m)\u001b[38;5;241m+\u001b[39m\u001b[38;5;28mchr\u001b[39m(\u001b[38;5;241m10\u001b[39m))\u001b[38;5;241m.\u001b[39mjoin(signature_descriptions)\u001b[38;5;132;01m}\u001b[39;00m\u001b[38;5;124m\"\u001b[39m)\n",
      "\u001b[0;31mValueError\u001b[0m: Could not find matching concrete function to call loaded from the SavedModel. Got:\n  Positional arguments (2 total):\n    * TimeStep(\n{'discount': <tf.Tensor 'time_step_2:0' shape=(8,) dtype=float32>,\n 'observation': {'global': <tf.Tensor 'time_step_3:0' shape=(22,) dtype=float32>,\n                 'per_arm': <tf.Tensor 'time_step_4:0' shape=(20, 21) dtype=float32>},\n 'reward': <tf.Tensor 'time_step_1:0' shape=(8,) dtype=float32>,\n 'step_type': <tf.Tensor 'time_step:0' shape=(8,) dtype=int32>})\n    * ()\n  Keyword arguments: {}\n\n Expected these arguments to match one of the following 2 option(s):\n\nOption 1:\n  Positional arguments (2 total):\n    * TimeStep(step_type=TensorSpec(shape=(None,), dtype=tf.int32, name='step_type'), reward=TensorSpec(shape=(None,), dtype=tf.float32, name='reward'), discount=TensorSpec(shape=(None,), dtype=tf.float32, name='discount'), observation={'global': TensorSpec(shape=(None, 22), dtype=tf.float32, name='observation/global'), 'per_arm': TensorSpec(shape=(None, 20, 21), dtype=tf.float32, name='observation/per_arm')})\n    * ()\n  Keyword arguments: {}\n\nOption 2:\n  Positional arguments (2 total):\n    * TimeStep(step_type=TensorSpec(shape=(None,), dtype=tf.int32, name='time_step_step_type'), reward=TensorSpec(shape=(None,), dtype=tf.float32, name='time_step_reward'), discount=TensorSpec(shape=(None,), dtype=tf.float32, name='time_step_discount'), observation={'global': TensorSpec(shape=(None, 22), dtype=tf.float32, name='time_step_observation_global'), 'per_arm': TensorSpec(shape=(None, 20, 21), dtype=tf.float32, name='time_step_observation_per_arm')})\n    * ()\n  Keyword arguments: {}"
     ]
    }
   ],
   "source": [
    "action_step = trained_policy.action(time_step)\n",
    "action_step"
   ]
  },
  {
   "cell_type": "code",
   "execution_count": null,
   "id": "69bca398-f3eb-47ef-b672-a4337dec62c6",
   "metadata": {},
   "outputs": [],
   "source": []
  },
  {
   "cell_type": "code",
   "execution_count": 110,
   "id": "a1ba0d8a-7370-4636-8268-8eedb39b56b2",
   "metadata": {
    "collapsed": true,
    "jupyter": {
     "outputs_hidden": true
    },
    "tags": []
   },
   "outputs": [
    {
     "data": {
      "text/plain": [
       "TimeStep(\n",
       "{'discount': array([1., 1., 1., 1., 1., 1., 1., 1.], dtype=float32),\n",
       " 'observation': {'global': array([[0, 0, 0, 0, 0, 0, 0, 0, 0, 0, 0, 0, 0, 0, 0, 0, 0, 0, 0, 0, 0, 0],\n",
       "       [0, 0, 0, 0, 0, 0, 0, 0, 0, 0, 0, 0, 0, 0, 0, 0, 0, 0, 0, 0, 0, 0],\n",
       "       [0, 0, 0, 0, 0, 0, 0, 0, 0, 0, 0, 0, 0, 0, 0, 0, 0, 0, 0, 0, 0, 0],\n",
       "       [0, 0, 0, 0, 0, 0, 0, 0, 0, 0, 0, 0, 0, 0, 0, 0, 0, 0, 0, 0, 0, 0],\n",
       "       [0, 0, 0, 0, 0, 0, 0, 0, 0, 0, 0, 0, 0, 0, 0, 0, 0, 0, 0, 0, 0, 0],\n",
       "       [0, 0, 0, 0, 0, 0, 0, 0, 0, 0, 0, 0, 0, 0, 0, 0, 0, 0, 0, 0, 0, 0],\n",
       "       [0, 0, 0, 0, 0, 0, 0, 0, 0, 0, 0, 0, 0, 0, 0, 0, 0, 0, 0, 0, 0, 0],\n",
       "       [0, 0, 0, 0, 0, 0, 0, 0, 0, 0, 0, 0, 0, 0, 0, 0, 0, 0, 0, 0, 0, 0]],\n",
       "      dtype=int32),\n",
       "                 'per_arm': array([[[0, 0, 0, ..., 0, 0, 0],\n",
       "        [0, 0, 0, ..., 0, 0, 0],\n",
       "        [0, 0, 0, ..., 0, 0, 0],\n",
       "        ...,\n",
       "        [0, 0, 0, ..., 0, 0, 0],\n",
       "        [0, 0, 0, ..., 0, 0, 0],\n",
       "        [0, 0, 0, ..., 0, 0, 0]],\n",
       "\n",
       "       [[0, 0, 0, ..., 0, 0, 0],\n",
       "        [0, 0, 0, ..., 0, 0, 0],\n",
       "        [0, 0, 0, ..., 0, 0, 0],\n",
       "        ...,\n",
       "        [0, 0, 0, ..., 0, 0, 0],\n",
       "        [0, 0, 0, ..., 0, 0, 0],\n",
       "        [0, 0, 0, ..., 0, 0, 0]],\n",
       "\n",
       "       [[0, 0, 0, ..., 0, 0, 0],\n",
       "        [0, 0, 0, ..., 0, 0, 0],\n",
       "        [0, 0, 0, ..., 0, 0, 0],\n",
       "        ...,\n",
       "        [0, 0, 0, ..., 0, 0, 0],\n",
       "        [0, 0, 0, ..., 0, 0, 0],\n",
       "        [0, 0, 0, ..., 0, 0, 0]],\n",
       "\n",
       "       ...,\n",
       "\n",
       "       [[0, 0, 0, ..., 0, 0, 0],\n",
       "        [0, 0, 0, ..., 0, 0, 0],\n",
       "        [0, 0, 0, ..., 0, 0, 0],\n",
       "        ...,\n",
       "        [0, 0, 0, ..., 0, 0, 0],\n",
       "        [0, 0, 0, ..., 0, 0, 0],\n",
       "        [0, 0, 0, ..., 0, 0, 0]],\n",
       "\n",
       "       [[0, 0, 0, ..., 0, 0, 0],\n",
       "        [0, 0, 0, ..., 0, 0, 0],\n",
       "        [0, 0, 0, ..., 0, 0, 0],\n",
       "        ...,\n",
       "        [0, 0, 0, ..., 0, 0, 0],\n",
       "        [0, 0, 0, ..., 0, 0, 0],\n",
       "        [0, 0, 0, ..., 0, 0, 0]],\n",
       "\n",
       "       [[0, 0, 0, ..., 0, 0, 0],\n",
       "        [0, 0, 0, ..., 0, 0, 0],\n",
       "        [0, 0, 0, ..., 0, 0, 0],\n",
       "        ...,\n",
       "        [0, 0, 0, ..., 0, 0, 0],\n",
       "        [0, 0, 0, ..., 0, 0, 0],\n",
       "        [0, 0, 0, ..., 0, 0, 0]]], dtype=int32)},\n",
       " 'reward': array([0., 0., 0., 0., 0., 0., 0., 0.], dtype=float32),\n",
       " 'step_type': array([0, 0, 0, 0, 0, 0, 0, 0], dtype=int32)})"
      ]
     },
     "execution_count": 110,
     "metadata": {},
     "output_type": "execute_result"
    }
   ],
   "source": [
    "time_step = tf_agents.trajectories.restart(\n",
    "    observation=observation,\n",
    "    batch_size=tf.convert_to_tensor([BATCH_SIZE]),\n",
    ")\n",
    "time_step"
   ]
  },
  {
   "cell_type": "code",
   "execution_count": 111,
   "id": "6bc0b4af-9eda-4863-8112-a62b8298fd0e",
   "metadata": {},
   "outputs": [
    {
     "ename": "ValueError",
     "evalue": "Could not find matching concrete function to call loaded from the SavedModel. Got:\n  Positional arguments (2 total):\n    * TimeStep(\n{'discount': <tf.Tensor 'time_step_2:0' shape=(8,) dtype=float32>,\n 'observation': {'global': <tf.Tensor 'time_step_3:0' shape=(8, 22) dtype=int32>,\n                 'per_arm': <tf.Tensor 'time_step_4:0' shape=(8, 20, 21) dtype=int32>},\n 'reward': <tf.Tensor 'time_step_1:0' shape=(8,) dtype=float32>,\n 'step_type': <tf.Tensor 'time_step:0' shape=(8,) dtype=int32>})\n    * ()\n  Keyword arguments: {}\n\n Expected these arguments to match one of the following 2 option(s):\n\nOption 1:\n  Positional arguments (2 total):\n    * TimeStep(step_type=TensorSpec(shape=(None,), dtype=tf.int32, name='step_type'), reward=TensorSpec(shape=(None,), dtype=tf.float32, name='reward'), discount=TensorSpec(shape=(None,), dtype=tf.float32, name='discount'), observation={'global': TensorSpec(shape=(None, 22), dtype=tf.float32, name='observation/global'), 'per_arm': TensorSpec(shape=(None, 20, 21), dtype=tf.float32, name='observation/per_arm')})\n    * ()\n  Keyword arguments: {}\n\nOption 2:\n  Positional arguments (2 total):\n    * TimeStep(step_type=TensorSpec(shape=(None,), dtype=tf.int32, name='time_step_step_type'), reward=TensorSpec(shape=(None,), dtype=tf.float32, name='time_step_reward'), discount=TensorSpec(shape=(None,), dtype=tf.float32, name='time_step_discount'), observation={'global': TensorSpec(shape=(None, 22), dtype=tf.float32, name='time_step_observation_global'), 'per_arm': TensorSpec(shape=(None, 20, 21), dtype=tf.float32, name='time_step_observation_per_arm')})\n    * ()\n  Keyword arguments: {}",
     "output_type": "error",
     "traceback": [
      "\u001b[0;31m---------------------------------------------------------------------------\u001b[0m",
      "\u001b[0;31mValueError\u001b[0m                                Traceback (most recent call last)",
      "Cell \u001b[0;32mIn[111], line 1\u001b[0m\n\u001b[0;32m----> 1\u001b[0m action_step \u001b[38;5;241m=\u001b[39m \u001b[43mtrained_policy\u001b[49m\u001b[38;5;241;43m.\u001b[39;49m\u001b[43maction\u001b[49m\u001b[43m(\u001b[49m\u001b[43mtime_step\u001b[49m\u001b[43m)\u001b[49m\n\u001b[1;32m      2\u001b[0m action_step\n",
      "File \u001b[0;32m~/.local/lib/python3.10/site-packages/tensorflow/python/util/traceback_utils.py:153\u001b[0m, in \u001b[0;36mfilter_traceback.<locals>.error_handler\u001b[0;34m(*args, **kwargs)\u001b[0m\n\u001b[1;32m    151\u001b[0m \u001b[38;5;28;01mexcept\u001b[39;00m \u001b[38;5;167;01mException\u001b[39;00m \u001b[38;5;28;01mas\u001b[39;00m e:\n\u001b[1;32m    152\u001b[0m   filtered_tb \u001b[38;5;241m=\u001b[39m _process_traceback_frames(e\u001b[38;5;241m.\u001b[39m__traceback__)\n\u001b[0;32m--> 153\u001b[0m   \u001b[38;5;28;01mraise\u001b[39;00m e\u001b[38;5;241m.\u001b[39mwith_traceback(filtered_tb) \u001b[38;5;28;01mfrom\u001b[39;00m \u001b[38;5;28;01mNone\u001b[39;00m\n\u001b[1;32m    154\u001b[0m \u001b[38;5;28;01mfinally\u001b[39;00m:\n\u001b[1;32m    155\u001b[0m   \u001b[38;5;28;01mdel\u001b[39;00m filtered_tb\n",
      "File \u001b[0;32m~/.local/lib/python3.10/site-packages/tensorflow/python/saved_model/function_deserialization.py:295\u001b[0m, in \u001b[0;36mrecreate_function.<locals>.restored_function_body\u001b[0;34m(*args, **kwargs)\u001b[0m\n\u001b[1;32m    291\u001b[0m   positional, keyword \u001b[38;5;241m=\u001b[39m concrete_function\u001b[38;5;241m.\u001b[39mstructured_input_signature\n\u001b[1;32m    292\u001b[0m   signature_descriptions\u001b[38;5;241m.\u001b[39mappend(\n\u001b[1;32m    293\u001b[0m       \u001b[38;5;124m\"\u001b[39m\u001b[38;5;124mOption \u001b[39m\u001b[38;5;132;01m{}\u001b[39;00m\u001b[38;5;124m:\u001b[39m\u001b[38;5;130;01m\\n\u001b[39;00m\u001b[38;5;124m  \u001b[39m\u001b[38;5;132;01m{}\u001b[39;00m\u001b[38;5;130;01m\\n\u001b[39;00m\u001b[38;5;124m  Keyword arguments: \u001b[39m\u001b[38;5;132;01m{}\u001b[39;00m\u001b[38;5;124m\"\u001b[39m\u001b[38;5;241m.\u001b[39mformat(\n\u001b[1;32m    294\u001b[0m           index \u001b[38;5;241m+\u001b[39m \u001b[38;5;241m1\u001b[39m, _pretty_format_positional(positional), keyword))\n\u001b[0;32m--> 295\u001b[0m \u001b[38;5;28;01mraise\u001b[39;00m \u001b[38;5;167;01mValueError\u001b[39;00m(\n\u001b[1;32m    296\u001b[0m     \u001b[38;5;124m\"\u001b[39m\u001b[38;5;124mCould not find matching concrete function to call loaded from the \u001b[39m\u001b[38;5;124m\"\u001b[39m\n\u001b[1;32m    297\u001b[0m     \u001b[38;5;124mf\u001b[39m\u001b[38;5;124m\"\u001b[39m\u001b[38;5;124mSavedModel. Got:\u001b[39m\u001b[38;5;130;01m\\n\u001b[39;00m\u001b[38;5;124m  \u001b[39m\u001b[38;5;132;01m{\u001b[39;00m_pretty_format_positional(args)\u001b[38;5;132;01m}\u001b[39;00m\u001b[38;5;130;01m\\n\u001b[39;00m\u001b[38;5;124m  Keyword \u001b[39m\u001b[38;5;124m\"\u001b[39m\n\u001b[1;32m    298\u001b[0m     \u001b[38;5;124mf\u001b[39m\u001b[38;5;124m\"\u001b[39m\u001b[38;5;124marguments: \u001b[39m\u001b[38;5;132;01m{\u001b[39;00mkwargs\u001b[38;5;132;01m}\u001b[39;00m\u001b[38;5;130;01m\\n\u001b[39;00m\u001b[38;5;130;01m\\n\u001b[39;00m\u001b[38;5;124m Expected these arguments to match one of the \u001b[39m\u001b[38;5;124m\"\u001b[39m\n\u001b[1;32m    299\u001b[0m     \u001b[38;5;124mf\u001b[39m\u001b[38;5;124m\"\u001b[39m\u001b[38;5;124mfollowing \u001b[39m\u001b[38;5;132;01m{\u001b[39;00m\u001b[38;5;28mlen\u001b[39m(saved_function\u001b[38;5;241m.\u001b[39mconcrete_functions)\u001b[38;5;132;01m}\u001b[39;00m\u001b[38;5;124m option(s):\u001b[39m\u001b[38;5;130;01m\\n\u001b[39;00m\u001b[38;5;130;01m\\n\u001b[39;00m\u001b[38;5;124m\"\u001b[39m\n\u001b[1;32m    300\u001b[0m     \u001b[38;5;124mf\u001b[39m\u001b[38;5;124m\"\u001b[39m\u001b[38;5;132;01m{\u001b[39;00m(\u001b[38;5;28mchr\u001b[39m(\u001b[38;5;241m10\u001b[39m)\u001b[38;5;241m+\u001b[39m\u001b[38;5;28mchr\u001b[39m(\u001b[38;5;241m10\u001b[39m))\u001b[38;5;241m.\u001b[39mjoin(signature_descriptions)\u001b[38;5;132;01m}\u001b[39;00m\u001b[38;5;124m\"\u001b[39m)\n",
      "\u001b[0;31mValueError\u001b[0m: Could not find matching concrete function to call loaded from the SavedModel. Got:\n  Positional arguments (2 total):\n    * TimeStep(\n{'discount': <tf.Tensor 'time_step_2:0' shape=(8,) dtype=float32>,\n 'observation': {'global': <tf.Tensor 'time_step_3:0' shape=(8, 22) dtype=int32>,\n                 'per_arm': <tf.Tensor 'time_step_4:0' shape=(8, 20, 21) dtype=int32>},\n 'reward': <tf.Tensor 'time_step_1:0' shape=(8,) dtype=float32>,\n 'step_type': <tf.Tensor 'time_step:0' shape=(8,) dtype=int32>})\n    * ()\n  Keyword arguments: {}\n\n Expected these arguments to match one of the following 2 option(s):\n\nOption 1:\n  Positional arguments (2 total):\n    * TimeStep(step_type=TensorSpec(shape=(None,), dtype=tf.int32, name='step_type'), reward=TensorSpec(shape=(None,), dtype=tf.float32, name='reward'), discount=TensorSpec(shape=(None,), dtype=tf.float32, name='discount'), observation={'global': TensorSpec(shape=(None, 22), dtype=tf.float32, name='observation/global'), 'per_arm': TensorSpec(shape=(None, 20, 21), dtype=tf.float32, name='observation/per_arm')})\n    * ()\n  Keyword arguments: {}\n\nOption 2:\n  Positional arguments (2 total):\n    * TimeStep(step_type=TensorSpec(shape=(None,), dtype=tf.int32, name='time_step_step_type'), reward=TensorSpec(shape=(None,), dtype=tf.float32, name='time_step_reward'), discount=TensorSpec(shape=(None,), dtype=tf.float32, name='time_step_discount'), observation={'global': TensorSpec(shape=(None, 22), dtype=tf.float32, name='time_step_observation_global'), 'per_arm': TensorSpec(shape=(None, 20, 21), dtype=tf.float32, name='time_step_observation_per_arm')})\n    * ()\n  Keyword arguments: {}"
     ]
    }
   ],
   "source": [
    "action_step = trained_policy.action(time_step)\n",
    "action_step"
   ]
  },
  {
   "cell_type": "code",
   "execution_count": null,
   "id": "7dc8f560-2352-4828-81db-79a88017f583",
   "metadata": {},
   "outputs": [],
   "source": [
    "predictions = action_step.action.numpy().tolist()\n",
    "predictions"
   ]
  },
  {
   "cell_type": "code",
   "execution_count": null,
   "id": "4eeba1ed-7347-46ca-aa96-ab1ba895f3a5",
   "metadata": {},
   "outputs": [],
   "source": []
  },
  {
   "cell_type": "code",
   "execution_count": null,
   "id": "bac4829c-5ff4-4d9c-bec2-0abc8f445849",
   "metadata": {},
   "outputs": [],
   "source": []
  },
  {
   "cell_type": "code",
   "execution_count": 61,
   "id": "75f85fa4-5780-4f3d-881f-193bab70d8a9",
   "metadata": {},
   "outputs": [],
   "source": [
    "instances=[\n",
    "    {\"observation\": [list(np.ones(RANK_K)) for _ in range(BATCH_SIZE)]},\n",
    "]\n",
    "# instances"
   ]
  },
  {
   "cell_type": "code",
   "execution_count": 63,
   "id": "03a1fb51-7196-4c34-8d96-899671f3c830",
   "metadata": {
    "collapsed": true,
    "jupyter": {
     "outputs_hidden": true
    },
    "tags": []
   },
   "outputs": [
    {
     "name": "stdout",
     "output_type": "stream",
     "text": [
      "batch_size: 8\n"
     ]
    },
    {
     "ename": "ValueError",
     "evalue": "Could not find matching concrete function to call loaded from the SavedModel. Got:\n  Positional arguments (2 total):\n    * TimeStep(\n{'discount': <tf.Tensor 'time_step_2:0' shape=(8,) dtype=float32>,\n 'observation': [[<tf.Tensor 'time_step_3:0' shape=() dtype=float64>,\n                  <tf.Tensor 'time_step_4:0' shape=() dtype=float64>,\n                  <tf.Tensor 'time_step_5:0' shape=() dtype=float64>,\n                  <tf.Tensor 'time_step_6:0' shape=() dtype=float64>,\n                  <tf.Tensor 'time_step_7:0' shape=() dtype=float64>,\n                  <tf.Tensor 'time_step_8:0' shape=() dtype=float64>,\n                  <tf.Tensor 'time_step_9:0' shape=() dtype=float64>,\n                  <tf.Tensor 'time_step_10:0' shape=() dtype=float64>,\n                  <tf.Tensor 'time_step_11:0' shape=() dtype=float64>,\n                  <tf.Tensor 'time_step_12:0' shape=() dtype=float64>,\n                  <tf.Tensor 'time_step_13:0' shape=() dtype=float64>,\n                  <tf.Tensor 'time_step_14:0' shape=() dtype=float64>,\n                  <tf.Tensor 'time_step_15:0' shape=() dtype=float64>,\n                  <tf.Tensor 'time_step_16:0' shape=() dtype=float64>,\n                  <tf.Tensor 'time_step_17:0' shape=() dtype=float64>,\n                  <tf.Tensor 'time_step_18:0' shape=() dtype=float64>,\n                  <tf.Tensor 'time_step_19:0' shape=() dtype=float64>,\n                  <tf.Tensor 'time_step_20:0' shape=() dtype=float64>,\n                  <tf.Tensor 'time_step_21:0' shape=() dtype=float64>,\n                  <tf.Tensor 'time_step_22:0' shape=() dtype=float64>],\n                 [<tf.Tensor 'time_step_23:0' shape=() dtype=float64>,\n                  <tf.Tensor 'time_step_24:0' shape=() dtype=float64>,\n                  <tf.Tensor 'time_step_25:0' shape=() dtype=float64>,\n                  <tf.Tensor 'time_step_26:0' shape=() dtype=float64>,\n                  <tf.Tensor 'time_step_27:0' shape=() dtype=float64>,\n                  <tf.Tensor 'time_step_28:0' shape=() dtype=float64>,\n                  <tf.Tensor 'time_step_29:0' shape=() dtype=float64>,\n                  <tf.Tensor 'time_step_30:0' shape=() dtype=float64>,\n                  <tf.Tensor 'time_step_31:0' shape=() dtype=float64>,\n                  <tf.Tensor 'time_step_32:0' shape=() dtype=float64>,\n                  <tf.Tensor 'time_step_33:0' shape=() dtype=float64>,\n                  <tf.Tensor 'time_step_34:0' shape=() dtype=float64>,\n                  <tf.Tensor 'time_step_35:0' shape=() dtype=float64>,\n                  <tf.Tensor 'time_step_36:0' shape=() dtype=float64>,\n                  <tf.Tensor 'time_step_37:0' shape=() dtype=float64>,\n                  <tf.Tensor 'time_step_38:0' shape=() dtype=float64>,\n                  <tf.Tensor 'time_step_39:0' shape=() dtype=float64>,\n                  <tf.Tensor 'time_step_40:0' shape=() dtype=float64>,\n                  <tf.Tensor 'time_step_41:0' shape=() dtype=float64>,\n                  <tf.Tensor 'time_step_42:0' shape=() dtype=float64>],\n                 [<tf.Tensor 'time_step_43:0' shape=() dtype=float64>,\n                  <tf.Tensor 'time_step_44:0' shape=() dtype=float64>,\n                  <tf.Tensor 'time_step_45:0' shape=() dtype=float64>,\n                  <tf.Tensor 'time_step_46:0' shape=() dtype=float64>,\n                  <tf.Tensor 'time_step_47:0' shape=() dtype=float64>,\n                  <tf.Tensor 'time_step_48:0' shape=() dtype=float64>,\n                  <tf.Tensor 'time_step_49:0' shape=() dtype=float64>,\n                  <tf.Tensor 'time_step_50:0' shape=() dtype=float64>,\n                  <tf.Tensor 'time_step_51:0' shape=() dtype=float64>,\n                  <tf.Tensor 'time_step_52:0' shape=() dtype=float64>,\n                  <tf.Tensor 'time_step_53:0' shape=() dtype=float64>,\n                  <tf.Tensor 'time_step_54:0' shape=() dtype=float64>,\n                  <tf.Tensor 'time_step_55:0' shape=() dtype=float64>,\n                  <tf.Tensor 'time_step_56:0' shape=() dtype=float64>,\n                  <tf.Tensor 'time_step_57:0' shape=() dtype=float64>,\n                  <tf.Tensor 'time_step_58:0' shape=() dtype=float64>,\n                  <tf.Tensor 'time_step_59:0' shape=() dtype=float64>,\n                  <tf.Tensor 'time_step_60:0' shape=() dtype=float64>,\n                  <tf.Tensor 'time_step_61:0' shape=() dtype=float64>,\n                  <tf.Tensor 'time_step_62:0' shape=() dtype=float64>],\n                 [<tf.Tensor 'time_step_63:0' shape=() dtype=float64>,\n                  <tf.Tensor 'time_step_64:0' shape=() dtype=float64>,\n                  <tf.Tensor 'time_step_65:0' shape=() dtype=float64>,\n                  <tf.Tensor 'time_step_66:0' shape=() dtype=float64>,\n                  <tf.Tensor 'time_step_67:0' shape=() dtype=float64>,\n                  <tf.Tensor 'time_step_68:0' shape=() dtype=float64>,\n                  <tf.Tensor 'time_step_69:0' shape=() dtype=float64>,\n                  <tf.Tensor 'time_step_70:0' shape=() dtype=float64>,\n                  <tf.Tensor 'time_step_71:0' shape=() dtype=float64>,\n                  <tf.Tensor 'time_step_72:0' shape=() dtype=float64>,\n                  <tf.Tensor 'time_step_73:0' shape=() dtype=float64>,\n                  <tf.Tensor 'time_step_74:0' shape=() dtype=float64>,\n                  <tf.Tensor 'time_step_75:0' shape=() dtype=float64>,\n                  <tf.Tensor 'time_step_76:0' shape=() dtype=float64>,\n                  <tf.Tensor 'time_step_77:0' shape=() dtype=float64>,\n                  <tf.Tensor 'time_step_78:0' shape=() dtype=float64>,\n                  <tf.Tensor 'time_step_79:0' shape=() dtype=float64>,\n                  <tf.Tensor 'time_step_80:0' shape=() dtype=float64>,\n                  <tf.Tensor 'time_step_81:0' shape=() dtype=float64>,\n                  <tf.Tensor 'time_step_82:0' shape=() dtype=float64>],\n                 [<tf.Tensor 'time_step_83:0' shape=() dtype=float64>,\n                  <tf.Tensor 'time_step_84:0' shape=() dtype=float64>,\n                  <tf.Tensor 'time_step_85:0' shape=() dtype=float64>,\n                  <tf.Tensor 'time_step_86:0' shape=() dtype=float64>,\n                  <tf.Tensor 'time_step_87:0' shape=() dtype=float64>,\n                  <tf.Tensor 'time_step_88:0' shape=() dtype=float64>,\n                  <tf.Tensor 'time_step_89:0' shape=() dtype=float64>,\n                  <tf.Tensor 'time_step_90:0' shape=() dtype=float64>,\n                  <tf.Tensor 'time_step_91:0' shape=() dtype=float64>,\n                  <tf.Tensor 'time_step_92:0' shape=() dtype=float64>,\n                  <tf.Tensor 'time_step_93:0' shape=() dtype=float64>,\n                  <tf.Tensor 'time_step_94:0' shape=() dtype=float64>,\n                  <tf.Tensor 'time_step_95:0' shape=() dtype=float64>,\n                  <tf.Tensor 'time_step_96:0' shape=() dtype=float64>,\n                  <tf.Tensor 'time_step_97:0' shape=() dtype=float64>,\n                  <tf.Tensor 'time_step_98:0' shape=() dtype=float64>,\n                  <tf.Tensor 'time_step_99:0' shape=() dtype=float64>,\n                  <tf.Tensor 'time_step_100:0' shape=() dtype=float64>,\n                  <tf.Tensor 'time_step_101:0' shape=() dtype=float64>,\n                  <tf.Tensor 'time_step_102:0' shape=() dtype=float64>],\n                 [<tf.Tensor 'time_step_103:0' shape=() dtype=float64>,\n                  <tf.Tensor 'time_step_104:0' shape=() dtype=float64>,\n                  <tf.Tensor 'time_step_105:0' shape=() dtype=float64>,\n                  <tf.Tensor 'time_step_106:0' shape=() dtype=float64>,\n                  <tf.Tensor 'time_step_107:0' shape=() dtype=float64>,\n                  <tf.Tensor 'time_step_108:0' shape=() dtype=float64>,\n                  <tf.Tensor 'time_step_109:0' shape=() dtype=float64>,\n                  <tf.Tensor 'time_step_110:0' shape=() dtype=float64>,\n                  <tf.Tensor 'time_step_111:0' shape=() dtype=float64>,\n                  <tf.Tensor 'time_step_112:0' shape=() dtype=float64>,\n                  <tf.Tensor 'time_step_113:0' shape=() dtype=float64>,\n                  <tf.Tensor 'time_step_114:0' shape=() dtype=float64>,\n                  <tf.Tensor 'time_step_115:0' shape=() dtype=float64>,\n                  <tf.Tensor 'time_step_116:0' shape=() dtype=float64>,\n                  <tf.Tensor 'time_step_117:0' shape=() dtype=float64>,\n                  <tf.Tensor 'time_step_118:0' shape=() dtype=float64>,\n                  <tf.Tensor 'time_step_119:0' shape=() dtype=float64>,\n                  <tf.Tensor 'time_step_120:0' shape=() dtype=float64>,\n                  <tf.Tensor 'time_step_121:0' shape=() dtype=float64>,\n                  <tf.Tensor 'time_step_122:0' shape=() dtype=float64>],\n                 [<tf.Tensor 'time_step_123:0' shape=() dtype=float64>,\n                  <tf.Tensor 'time_step_124:0' shape=() dtype=float64>,\n                  <tf.Tensor 'time_step_125:0' shape=() dtype=float64>,\n                  <tf.Tensor 'time_step_126:0' shape=() dtype=float64>,\n                  <tf.Tensor 'time_step_127:0' shape=() dtype=float64>,\n                  <tf.Tensor 'time_step_128:0' shape=() dtype=float64>,\n                  <tf.Tensor 'time_step_129:0' shape=() dtype=float64>,\n                  <tf.Tensor 'time_step_130:0' shape=() dtype=float64>,\n                  <tf.Tensor 'time_step_131:0' shape=() dtype=float64>,\n                  <tf.Tensor 'time_step_132:0' shape=() dtype=float64>,\n                  <tf.Tensor 'time_step_133:0' shape=() dtype=float64>,\n                  <tf.Tensor 'time_step_134:0' shape=() dtype=float64>,\n                  <tf.Tensor 'time_step_135:0' shape=() dtype=float64>,\n                  <tf.Tensor 'time_step_136:0' shape=() dtype=float64>,\n                  <tf.Tensor 'time_step_137:0' shape=() dtype=float64>,\n                  <tf.Tensor 'time_step_138:0' shape=() dtype=float64>,\n                  <tf.Tensor 'time_step_139:0' shape=() dtype=float64>,\n                  <tf.Tensor 'time_step_140:0' shape=() dtype=float64>,\n                  <tf.Tensor 'time_step_141:0' shape=() dtype=float64>,\n                  <tf.Tensor 'time_step_142:0' shape=() dtype=float64>],\n                 [<tf.Tensor 'time_step_143:0' shape=() dtype=float64>,\n                  <tf.Tensor 'time_step_144:0' shape=() dtype=float64>,\n                  <tf.Tensor 'time_step_145:0' shape=() dtype=float64>,\n                  <tf.Tensor 'time_step_146:0' shape=() dtype=float64>,\n                  <tf.Tensor 'time_step_147:0' shape=() dtype=float64>,\n                  <tf.Tensor 'time_step_148:0' shape=() dtype=float64>,\n                  <tf.Tensor 'time_step_149:0' shape=() dtype=float64>,\n                  <tf.Tensor 'time_step_150:0' shape=() dtype=float64>,\n                  <tf.Tensor 'time_step_151:0' shape=() dtype=float64>,\n                  <tf.Tensor 'time_step_152:0' shape=() dtype=float64>,\n                  <tf.Tensor 'time_step_153:0' shape=() dtype=float64>,\n                  <tf.Tensor 'time_step_154:0' shape=() dtype=float64>,\n                  <tf.Tensor 'time_step_155:0' shape=() dtype=float64>,\n                  <tf.Tensor 'time_step_156:0' shape=() dtype=float64>,\n                  <tf.Tensor 'time_step_157:0' shape=() dtype=float64>,\n                  <tf.Tensor 'time_step_158:0' shape=() dtype=float64>,\n                  <tf.Tensor 'time_step_159:0' shape=() dtype=float64>,\n                  <tf.Tensor 'time_step_160:0' shape=() dtype=float64>,\n                  <tf.Tensor 'time_step_161:0' shape=() dtype=float64>,\n                  <tf.Tensor 'time_step_162:0' shape=() dtype=float64>]],\n 'reward': <tf.Tensor 'time_step_1:0' shape=(8,) dtype=float32>,\n 'step_type': <tf.Tensor 'time_step:0' shape=(8,) dtype=int32>})\n    * ()\n  Keyword arguments: {}\n\n Expected these arguments to match one of the following 2 option(s):\n\nOption 1:\n  Positional arguments (2 total):\n    * TimeStep(step_type=TensorSpec(shape=(None,), dtype=tf.int32, name='step_type'), reward=TensorSpec(shape=(None,), dtype=tf.float32, name='reward'), discount=TensorSpec(shape=(None,), dtype=tf.float32, name='discount'), observation={'per_arm': TensorSpec(shape=(None, 20, 21), dtype=tf.float32, name='observation/per_arm'), 'global': TensorSpec(shape=(None, 22), dtype=tf.float32, name='observation/global')})\n    * ()\n  Keyword arguments: {}\n\nOption 2:\n  Positional arguments (2 total):\n    * TimeStep(step_type=TensorSpec(shape=(None,), dtype=tf.int32, name='time_step_step_type'), reward=TensorSpec(shape=(None,), dtype=tf.float32, name='time_step_reward'), discount=TensorSpec(shape=(None,), dtype=tf.float32, name='time_step_discount'), observation={'global': TensorSpec(shape=(None, 22), dtype=tf.float32, name='time_step_observation_global'), 'per_arm': TensorSpec(shape=(None, 20, 21), dtype=tf.float32, name='time_step_observation_per_arm')})\n    * ()\n  Keyword arguments: {}",
     "output_type": "error",
     "traceback": [
      "\u001b[0;31m---------------------------------------------------------------------------\u001b[0m",
      "\u001b[0;31mValueError\u001b[0m                                Traceback (most recent call last)",
      "Cell \u001b[0;32mIn[63], line 13\u001b[0m\n\u001b[1;32m      7\u001b[0m     \u001b[38;5;28mprint\u001b[39m(\u001b[38;5;124mf\u001b[39m\u001b[38;5;124m\"\u001b[39m\u001b[38;5;124mbatch_size: \u001b[39m\u001b[38;5;132;01m{\u001b[39;00mbatch_size\u001b[38;5;132;01m}\u001b[39;00m\u001b[38;5;124m\"\u001b[39m)\n\u001b[1;32m      9\u001b[0m     time_step \u001b[38;5;241m=\u001b[39m tf_agents\u001b[38;5;241m.\u001b[39mtrajectories\u001b[38;5;241m.\u001b[39mrestart(\n\u001b[1;32m     10\u001b[0m         observation\u001b[38;5;241m=\u001b[39minstance[\u001b[38;5;124m\"\u001b[39m\u001b[38;5;124mobservation\u001b[39m\u001b[38;5;124m\"\u001b[39m]\n\u001b[1;32m     11\u001b[0m         , batch_size\u001b[38;5;241m=\u001b[39mtf\u001b[38;5;241m.\u001b[39mconvert_to_tensor([batch_size])\n\u001b[1;32m     12\u001b[0m     )\n\u001b[0;32m---> 13\u001b[0m     policy_step \u001b[38;5;241m=\u001b[39m \u001b[43mloaded_model\u001b[49m\u001b[38;5;241;43m.\u001b[39;49m\u001b[43maction\u001b[49m\u001b[43m(\u001b[49m\u001b[43mtime_step\u001b[49m\u001b[43m)\u001b[49m\n\u001b[1;32m     15\u001b[0m     predictions\u001b[38;5;241m.\u001b[39mappend(\n\u001b[1;32m     16\u001b[0m         {\u001b[38;5;124mf\u001b[39m\u001b[38;5;124m\"\u001b[39m\u001b[38;5;124mPolicyStep \u001b[39m\u001b[38;5;132;01m{\u001b[39;00mindex\u001b[38;5;132;01m}\u001b[39;00m\u001b[38;5;124m\"\u001b[39m: policy_step\u001b[38;5;241m.\u001b[39maction\u001b[38;5;241m.\u001b[39mnumpy()\u001b[38;5;241m.\u001b[39mtolist()}\n\u001b[1;32m     17\u001b[0m     )\n\u001b[1;32m     19\u001b[0m predictions\n",
      "File \u001b[0;32m~/.local/lib/python3.10/site-packages/tensorflow/python/util/traceback_utils.py:153\u001b[0m, in \u001b[0;36mfilter_traceback.<locals>.error_handler\u001b[0;34m(*args, **kwargs)\u001b[0m\n\u001b[1;32m    151\u001b[0m \u001b[38;5;28;01mexcept\u001b[39;00m \u001b[38;5;167;01mException\u001b[39;00m \u001b[38;5;28;01mas\u001b[39;00m e:\n\u001b[1;32m    152\u001b[0m   filtered_tb \u001b[38;5;241m=\u001b[39m _process_traceback_frames(e\u001b[38;5;241m.\u001b[39m__traceback__)\n\u001b[0;32m--> 153\u001b[0m   \u001b[38;5;28;01mraise\u001b[39;00m e\u001b[38;5;241m.\u001b[39mwith_traceback(filtered_tb) \u001b[38;5;28;01mfrom\u001b[39;00m \u001b[38;5;28;01mNone\u001b[39;00m\n\u001b[1;32m    154\u001b[0m \u001b[38;5;28;01mfinally\u001b[39;00m:\n\u001b[1;32m    155\u001b[0m   \u001b[38;5;28;01mdel\u001b[39;00m filtered_tb\n",
      "File \u001b[0;32m~/.local/lib/python3.10/site-packages/tensorflow/python/saved_model/function_deserialization.py:295\u001b[0m, in \u001b[0;36mrecreate_function.<locals>.restored_function_body\u001b[0;34m(*args, **kwargs)\u001b[0m\n\u001b[1;32m    291\u001b[0m   positional, keyword \u001b[38;5;241m=\u001b[39m concrete_function\u001b[38;5;241m.\u001b[39mstructured_input_signature\n\u001b[1;32m    292\u001b[0m   signature_descriptions\u001b[38;5;241m.\u001b[39mappend(\n\u001b[1;32m    293\u001b[0m       \u001b[38;5;124m\"\u001b[39m\u001b[38;5;124mOption \u001b[39m\u001b[38;5;132;01m{}\u001b[39;00m\u001b[38;5;124m:\u001b[39m\u001b[38;5;130;01m\\n\u001b[39;00m\u001b[38;5;124m  \u001b[39m\u001b[38;5;132;01m{}\u001b[39;00m\u001b[38;5;130;01m\\n\u001b[39;00m\u001b[38;5;124m  Keyword arguments: \u001b[39m\u001b[38;5;132;01m{}\u001b[39;00m\u001b[38;5;124m\"\u001b[39m\u001b[38;5;241m.\u001b[39mformat(\n\u001b[1;32m    294\u001b[0m           index \u001b[38;5;241m+\u001b[39m \u001b[38;5;241m1\u001b[39m, _pretty_format_positional(positional), keyword))\n\u001b[0;32m--> 295\u001b[0m \u001b[38;5;28;01mraise\u001b[39;00m \u001b[38;5;167;01mValueError\u001b[39;00m(\n\u001b[1;32m    296\u001b[0m     \u001b[38;5;124m\"\u001b[39m\u001b[38;5;124mCould not find matching concrete function to call loaded from the \u001b[39m\u001b[38;5;124m\"\u001b[39m\n\u001b[1;32m    297\u001b[0m     \u001b[38;5;124mf\u001b[39m\u001b[38;5;124m\"\u001b[39m\u001b[38;5;124mSavedModel. Got:\u001b[39m\u001b[38;5;130;01m\\n\u001b[39;00m\u001b[38;5;124m  \u001b[39m\u001b[38;5;132;01m{\u001b[39;00m_pretty_format_positional(args)\u001b[38;5;132;01m}\u001b[39;00m\u001b[38;5;130;01m\\n\u001b[39;00m\u001b[38;5;124m  Keyword \u001b[39m\u001b[38;5;124m\"\u001b[39m\n\u001b[1;32m    298\u001b[0m     \u001b[38;5;124mf\u001b[39m\u001b[38;5;124m\"\u001b[39m\u001b[38;5;124marguments: \u001b[39m\u001b[38;5;132;01m{\u001b[39;00mkwargs\u001b[38;5;132;01m}\u001b[39;00m\u001b[38;5;130;01m\\n\u001b[39;00m\u001b[38;5;130;01m\\n\u001b[39;00m\u001b[38;5;124m Expected these arguments to match one of the \u001b[39m\u001b[38;5;124m\"\u001b[39m\n\u001b[1;32m    299\u001b[0m     \u001b[38;5;124mf\u001b[39m\u001b[38;5;124m\"\u001b[39m\u001b[38;5;124mfollowing \u001b[39m\u001b[38;5;132;01m{\u001b[39;00m\u001b[38;5;28mlen\u001b[39m(saved_function\u001b[38;5;241m.\u001b[39mconcrete_functions)\u001b[38;5;132;01m}\u001b[39;00m\u001b[38;5;124m option(s):\u001b[39m\u001b[38;5;130;01m\\n\u001b[39;00m\u001b[38;5;130;01m\\n\u001b[39;00m\u001b[38;5;124m\"\u001b[39m\n\u001b[1;32m    300\u001b[0m     \u001b[38;5;124mf\u001b[39m\u001b[38;5;124m\"\u001b[39m\u001b[38;5;132;01m{\u001b[39;00m(\u001b[38;5;28mchr\u001b[39m(\u001b[38;5;241m10\u001b[39m)\u001b[38;5;241m+\u001b[39m\u001b[38;5;28mchr\u001b[39m(\u001b[38;5;241m10\u001b[39m))\u001b[38;5;241m.\u001b[39mjoin(signature_descriptions)\u001b[38;5;132;01m}\u001b[39;00m\u001b[38;5;124m\"\u001b[39m)\n",
      "\u001b[0;31mValueError\u001b[0m: Could not find matching concrete function to call loaded from the SavedModel. Got:\n  Positional arguments (2 total):\n    * TimeStep(\n{'discount': <tf.Tensor 'time_step_2:0' shape=(8,) dtype=float32>,\n 'observation': [[<tf.Tensor 'time_step_3:0' shape=() dtype=float64>,\n                  <tf.Tensor 'time_step_4:0' shape=() dtype=float64>,\n                  <tf.Tensor 'time_step_5:0' shape=() dtype=float64>,\n                  <tf.Tensor 'time_step_6:0' shape=() dtype=float64>,\n                  <tf.Tensor 'time_step_7:0' shape=() dtype=float64>,\n                  <tf.Tensor 'time_step_8:0' shape=() dtype=float64>,\n                  <tf.Tensor 'time_step_9:0' shape=() dtype=float64>,\n                  <tf.Tensor 'time_step_10:0' shape=() dtype=float64>,\n                  <tf.Tensor 'time_step_11:0' shape=() dtype=float64>,\n                  <tf.Tensor 'time_step_12:0' shape=() dtype=float64>,\n                  <tf.Tensor 'time_step_13:0' shape=() dtype=float64>,\n                  <tf.Tensor 'time_step_14:0' shape=() dtype=float64>,\n                  <tf.Tensor 'time_step_15:0' shape=() dtype=float64>,\n                  <tf.Tensor 'time_step_16:0' shape=() dtype=float64>,\n                  <tf.Tensor 'time_step_17:0' shape=() dtype=float64>,\n                  <tf.Tensor 'time_step_18:0' shape=() dtype=float64>,\n                  <tf.Tensor 'time_step_19:0' shape=() dtype=float64>,\n                  <tf.Tensor 'time_step_20:0' shape=() dtype=float64>,\n                  <tf.Tensor 'time_step_21:0' shape=() dtype=float64>,\n                  <tf.Tensor 'time_step_22:0' shape=() dtype=float64>],\n                 [<tf.Tensor 'time_step_23:0' shape=() dtype=float64>,\n                  <tf.Tensor 'time_step_24:0' shape=() dtype=float64>,\n                  <tf.Tensor 'time_step_25:0' shape=() dtype=float64>,\n                  <tf.Tensor 'time_step_26:0' shape=() dtype=float64>,\n                  <tf.Tensor 'time_step_27:0' shape=() dtype=float64>,\n                  <tf.Tensor 'time_step_28:0' shape=() dtype=float64>,\n                  <tf.Tensor 'time_step_29:0' shape=() dtype=float64>,\n                  <tf.Tensor 'time_step_30:0' shape=() dtype=float64>,\n                  <tf.Tensor 'time_step_31:0' shape=() dtype=float64>,\n                  <tf.Tensor 'time_step_32:0' shape=() dtype=float64>,\n                  <tf.Tensor 'time_step_33:0' shape=() dtype=float64>,\n                  <tf.Tensor 'time_step_34:0' shape=() dtype=float64>,\n                  <tf.Tensor 'time_step_35:0' shape=() dtype=float64>,\n                  <tf.Tensor 'time_step_36:0' shape=() dtype=float64>,\n                  <tf.Tensor 'time_step_37:0' shape=() dtype=float64>,\n                  <tf.Tensor 'time_step_38:0' shape=() dtype=float64>,\n                  <tf.Tensor 'time_step_39:0' shape=() dtype=float64>,\n                  <tf.Tensor 'time_step_40:0' shape=() dtype=float64>,\n                  <tf.Tensor 'time_step_41:0' shape=() dtype=float64>,\n                  <tf.Tensor 'time_step_42:0' shape=() dtype=float64>],\n                 [<tf.Tensor 'time_step_43:0' shape=() dtype=float64>,\n                  <tf.Tensor 'time_step_44:0' shape=() dtype=float64>,\n                  <tf.Tensor 'time_step_45:0' shape=() dtype=float64>,\n                  <tf.Tensor 'time_step_46:0' shape=() dtype=float64>,\n                  <tf.Tensor 'time_step_47:0' shape=() dtype=float64>,\n                  <tf.Tensor 'time_step_48:0' shape=() dtype=float64>,\n                  <tf.Tensor 'time_step_49:0' shape=() dtype=float64>,\n                  <tf.Tensor 'time_step_50:0' shape=() dtype=float64>,\n                  <tf.Tensor 'time_step_51:0' shape=() dtype=float64>,\n                  <tf.Tensor 'time_step_52:0' shape=() dtype=float64>,\n                  <tf.Tensor 'time_step_53:0' shape=() dtype=float64>,\n                  <tf.Tensor 'time_step_54:0' shape=() dtype=float64>,\n                  <tf.Tensor 'time_step_55:0' shape=() dtype=float64>,\n                  <tf.Tensor 'time_step_56:0' shape=() dtype=float64>,\n                  <tf.Tensor 'time_step_57:0' shape=() dtype=float64>,\n                  <tf.Tensor 'time_step_58:0' shape=() dtype=float64>,\n                  <tf.Tensor 'time_step_59:0' shape=() dtype=float64>,\n                  <tf.Tensor 'time_step_60:0' shape=() dtype=float64>,\n                  <tf.Tensor 'time_step_61:0' shape=() dtype=float64>,\n                  <tf.Tensor 'time_step_62:0' shape=() dtype=float64>],\n                 [<tf.Tensor 'time_step_63:0' shape=() dtype=float64>,\n                  <tf.Tensor 'time_step_64:0' shape=() dtype=float64>,\n                  <tf.Tensor 'time_step_65:0' shape=() dtype=float64>,\n                  <tf.Tensor 'time_step_66:0' shape=() dtype=float64>,\n                  <tf.Tensor 'time_step_67:0' shape=() dtype=float64>,\n                  <tf.Tensor 'time_step_68:0' shape=() dtype=float64>,\n                  <tf.Tensor 'time_step_69:0' shape=() dtype=float64>,\n                  <tf.Tensor 'time_step_70:0' shape=() dtype=float64>,\n                  <tf.Tensor 'time_step_71:0' shape=() dtype=float64>,\n                  <tf.Tensor 'time_step_72:0' shape=() dtype=float64>,\n                  <tf.Tensor 'time_step_73:0' shape=() dtype=float64>,\n                  <tf.Tensor 'time_step_74:0' shape=() dtype=float64>,\n                  <tf.Tensor 'time_step_75:0' shape=() dtype=float64>,\n                  <tf.Tensor 'time_step_76:0' shape=() dtype=float64>,\n                  <tf.Tensor 'time_step_77:0' shape=() dtype=float64>,\n                  <tf.Tensor 'time_step_78:0' shape=() dtype=float64>,\n                  <tf.Tensor 'time_step_79:0' shape=() dtype=float64>,\n                  <tf.Tensor 'time_step_80:0' shape=() dtype=float64>,\n                  <tf.Tensor 'time_step_81:0' shape=() dtype=float64>,\n                  <tf.Tensor 'time_step_82:0' shape=() dtype=float64>],\n                 [<tf.Tensor 'time_step_83:0' shape=() dtype=float64>,\n                  <tf.Tensor 'time_step_84:0' shape=() dtype=float64>,\n                  <tf.Tensor 'time_step_85:0' shape=() dtype=float64>,\n                  <tf.Tensor 'time_step_86:0' shape=() dtype=float64>,\n                  <tf.Tensor 'time_step_87:0' shape=() dtype=float64>,\n                  <tf.Tensor 'time_step_88:0' shape=() dtype=float64>,\n                  <tf.Tensor 'time_step_89:0' shape=() dtype=float64>,\n                  <tf.Tensor 'time_step_90:0' shape=() dtype=float64>,\n                  <tf.Tensor 'time_step_91:0' shape=() dtype=float64>,\n                  <tf.Tensor 'time_step_92:0' shape=() dtype=float64>,\n                  <tf.Tensor 'time_step_93:0' shape=() dtype=float64>,\n                  <tf.Tensor 'time_step_94:0' shape=() dtype=float64>,\n                  <tf.Tensor 'time_step_95:0' shape=() dtype=float64>,\n                  <tf.Tensor 'time_step_96:0' shape=() dtype=float64>,\n                  <tf.Tensor 'time_step_97:0' shape=() dtype=float64>,\n                  <tf.Tensor 'time_step_98:0' shape=() dtype=float64>,\n                  <tf.Tensor 'time_step_99:0' shape=() dtype=float64>,\n                  <tf.Tensor 'time_step_100:0' shape=() dtype=float64>,\n                  <tf.Tensor 'time_step_101:0' shape=() dtype=float64>,\n                  <tf.Tensor 'time_step_102:0' shape=() dtype=float64>],\n                 [<tf.Tensor 'time_step_103:0' shape=() dtype=float64>,\n                  <tf.Tensor 'time_step_104:0' shape=() dtype=float64>,\n                  <tf.Tensor 'time_step_105:0' shape=() dtype=float64>,\n                  <tf.Tensor 'time_step_106:0' shape=() dtype=float64>,\n                  <tf.Tensor 'time_step_107:0' shape=() dtype=float64>,\n                  <tf.Tensor 'time_step_108:0' shape=() dtype=float64>,\n                  <tf.Tensor 'time_step_109:0' shape=() dtype=float64>,\n                  <tf.Tensor 'time_step_110:0' shape=() dtype=float64>,\n                  <tf.Tensor 'time_step_111:0' shape=() dtype=float64>,\n                  <tf.Tensor 'time_step_112:0' shape=() dtype=float64>,\n                  <tf.Tensor 'time_step_113:0' shape=() dtype=float64>,\n                  <tf.Tensor 'time_step_114:0' shape=() dtype=float64>,\n                  <tf.Tensor 'time_step_115:0' shape=() dtype=float64>,\n                  <tf.Tensor 'time_step_116:0' shape=() dtype=float64>,\n                  <tf.Tensor 'time_step_117:0' shape=() dtype=float64>,\n                  <tf.Tensor 'time_step_118:0' shape=() dtype=float64>,\n                  <tf.Tensor 'time_step_119:0' shape=() dtype=float64>,\n                  <tf.Tensor 'time_step_120:0' shape=() dtype=float64>,\n                  <tf.Tensor 'time_step_121:0' shape=() dtype=float64>,\n                  <tf.Tensor 'time_step_122:0' shape=() dtype=float64>],\n                 [<tf.Tensor 'time_step_123:0' shape=() dtype=float64>,\n                  <tf.Tensor 'time_step_124:0' shape=() dtype=float64>,\n                  <tf.Tensor 'time_step_125:0' shape=() dtype=float64>,\n                  <tf.Tensor 'time_step_126:0' shape=() dtype=float64>,\n                  <tf.Tensor 'time_step_127:0' shape=() dtype=float64>,\n                  <tf.Tensor 'time_step_128:0' shape=() dtype=float64>,\n                  <tf.Tensor 'time_step_129:0' shape=() dtype=float64>,\n                  <tf.Tensor 'time_step_130:0' shape=() dtype=float64>,\n                  <tf.Tensor 'time_step_131:0' shape=() dtype=float64>,\n                  <tf.Tensor 'time_step_132:0' shape=() dtype=float64>,\n                  <tf.Tensor 'time_step_133:0' shape=() dtype=float64>,\n                  <tf.Tensor 'time_step_134:0' shape=() dtype=float64>,\n                  <tf.Tensor 'time_step_135:0' shape=() dtype=float64>,\n                  <tf.Tensor 'time_step_136:0' shape=() dtype=float64>,\n                  <tf.Tensor 'time_step_137:0' shape=() dtype=float64>,\n                  <tf.Tensor 'time_step_138:0' shape=() dtype=float64>,\n                  <tf.Tensor 'time_step_139:0' shape=() dtype=float64>,\n                  <tf.Tensor 'time_step_140:0' shape=() dtype=float64>,\n                  <tf.Tensor 'time_step_141:0' shape=() dtype=float64>,\n                  <tf.Tensor 'time_step_142:0' shape=() dtype=float64>],\n                 [<tf.Tensor 'time_step_143:0' shape=() dtype=float64>,\n                  <tf.Tensor 'time_step_144:0' shape=() dtype=float64>,\n                  <tf.Tensor 'time_step_145:0' shape=() dtype=float64>,\n                  <tf.Tensor 'time_step_146:0' shape=() dtype=float64>,\n                  <tf.Tensor 'time_step_147:0' shape=() dtype=float64>,\n                  <tf.Tensor 'time_step_148:0' shape=() dtype=float64>,\n                  <tf.Tensor 'time_step_149:0' shape=() dtype=float64>,\n                  <tf.Tensor 'time_step_150:0' shape=() dtype=float64>,\n                  <tf.Tensor 'time_step_151:0' shape=() dtype=float64>,\n                  <tf.Tensor 'time_step_152:0' shape=() dtype=float64>,\n                  <tf.Tensor 'time_step_153:0' shape=() dtype=float64>,\n                  <tf.Tensor 'time_step_154:0' shape=() dtype=float64>,\n                  <tf.Tensor 'time_step_155:0' shape=() dtype=float64>,\n                  <tf.Tensor 'time_step_156:0' shape=() dtype=float64>,\n                  <tf.Tensor 'time_step_157:0' shape=() dtype=float64>,\n                  <tf.Tensor 'time_step_158:0' shape=() dtype=float64>,\n                  <tf.Tensor 'time_step_159:0' shape=() dtype=float64>,\n                  <tf.Tensor 'time_step_160:0' shape=() dtype=float64>,\n                  <tf.Tensor 'time_step_161:0' shape=() dtype=float64>,\n                  <tf.Tensor 'time_step_162:0' shape=() dtype=float64>]],\n 'reward': <tf.Tensor 'time_step_1:0' shape=(8,) dtype=float32>,\n 'step_type': <tf.Tensor 'time_step:0' shape=(8,) dtype=int32>})\n    * ()\n  Keyword arguments: {}\n\n Expected these arguments to match one of the following 2 option(s):\n\nOption 1:\n  Positional arguments (2 total):\n    * TimeStep(step_type=TensorSpec(shape=(None,), dtype=tf.int32, name='step_type'), reward=TensorSpec(shape=(None,), dtype=tf.float32, name='reward'), discount=TensorSpec(shape=(None,), dtype=tf.float32, name='discount'), observation={'per_arm': TensorSpec(shape=(None, 20, 21), dtype=tf.float32, name='observation/per_arm'), 'global': TensorSpec(shape=(None, 22), dtype=tf.float32, name='observation/global')})\n    * ()\n  Keyword arguments: {}\n\nOption 2:\n  Positional arguments (2 total):\n    * TimeStep(step_type=TensorSpec(shape=(None,), dtype=tf.int32, name='time_step_step_type'), reward=TensorSpec(shape=(None,), dtype=tf.float32, name='time_step_reward'), discount=TensorSpec(shape=(None,), dtype=tf.float32, name='time_step_discount'), observation={'global': TensorSpec(shape=(None, 22), dtype=tf.float32, name='time_step_observation_global'), 'per_arm': TensorSpec(shape=(None, 20, 21), dtype=tf.float32, name='time_step_observation_per_arm')})\n    * ()\n  Keyword arguments: {}"
     ]
    }
   ],
   "source": [
    "import tf_agents\n",
    "\n",
    "predictions = []\n",
    "for index, instance in enumerate(instances):\n",
    "    # Unpack request body and reconstruct TimeStep. Rewards default to 0.\n",
    "    batch_size = len(instance[\"observation\"])\n",
    "    print(f\"batch_size: {batch_size}\")\n",
    "\n",
    "    time_step = tf_agents.trajectories.restart(\n",
    "        observation=instance[\"observation\"]\n",
    "        , batch_size=tf.convert_to_tensor([batch_size])\n",
    "    )\n",
    "    policy_step = loaded_model.action(time_step)\n",
    "\n",
    "    predictions.append(\n",
    "        {f\"PolicyStep {index}\": policy_step.action.numpy().tolist()}\n",
    "    )\n",
    "    \n",
    "predictions\n",
    "\n",
    "# Option 1:\n",
    "#   Positional arguments (2 total):\n",
    "#     * TimeStep(step_type=TensorSpec(shape=(None,), dtype=tf.int32, name='step_type'), \n",
    "# reward=TensorSpec(shape=(None,), dtype=tf.float32, name='reward'), \n",
    "# discount=TensorSpec(shape=(None,), dtype=tf.float32, name='discount'), \n",
    "# observation={'per_arm': TensorSpec(shape=(None, 20, 21), dtype=tf.float32, name='observation/per_arm'), 'global': TensorSpec(shape=(None, 22), dtype=tf.float32, name='observation/global')})\n",
    "#     * ()\n",
    "#   Keyword arguments: {}"
   ]
  },
  {
   "cell_type": "code",
   "execution_count": null,
   "id": "098e8a32-5adb-4c76-94df-da920313824c",
   "metadata": {},
   "outputs": [],
   "source": [
    "# @app.post(os.environ[\"AIP_PREDICT_ROUTE\"])\n",
    "async def predict(request: Request):\n",
    "    \"\"\"\n",
    "    Handles prediction requests.\n",
    "\n",
    "    Unpacks observations in prediction requests and queries the trained policy for\n",
    "    predicted actions.\n",
    "\n",
    "    Args:\n",
    "      request: Incoming prediction requests that contain observations.\n",
    "\n",
    "    Returns:\n",
    "      A dict with the key `predictions` mapping to a list of predicted actions\n",
    "      corresponding to each observation in the prediction request.\n",
    "    \"\"\"\n",
    "    body = await request.json()\n",
    "    instances = body[\"instances\"]\n",
    "\n",
    "    predictions = []\n",
    "    for index, instance in enumerate(instances):\n",
    "        # Unpack request body and reconstruct TimeStep. Rewards default to 0.\n",
    "        batch_size = len(instance[\"observation\"])\n",
    "        \n",
    "        time_step = tf_agents.trajectories.restart(\n",
    "            observation=instance[\"observation\"]\n",
    "            , batch_size=tf.convert_to_tensor([batch_size])\n",
    "        )\n",
    "        policy_step = _model.action(time_step)\n",
    "\n",
    "        predictions.append(\n",
    "            {f\"PolicyStep {index}\": policy_step.action.numpy().tolist()}\n",
    "        )\n",
    "\n",
    "    return {\n",
    "        \"predictions\": predictions\n",
    "    }"
   ]
  },
  {
   "cell_type": "code",
   "execution_count": null,
   "id": "4bf89211-58d2-449f-9bee-c93835eb2a1f",
   "metadata": {},
   "outputs": [],
   "source": []
  },
  {
   "cell_type": "code",
   "execution_count": 142,
   "id": "6ca9d1e0-492e-42c6-ba55-d80deaad65a0",
   "metadata": {},
   "outputs": [],
   "source": [
    "# endpoint = model.deploy(machine_type=\"n1-standard-4\")"
   ]
  },
  {
   "cell_type": "code",
   "execution_count": 143,
   "id": "2b501650-6f91-4365-ba59-d4e84ee6f7e5",
   "metadata": {},
   "outputs": [
    {
     "name": "stdout",
     "output_type": "stream",
     "text": [
      "Endpoint display name: mabv1-perarm-model_endpoint\n",
      "Endpoint ID: 1696656392821145600\n"
     ]
    }
   ],
   "source": [
    "# print(\"Endpoint display name:\", endpoint.display_name)\n",
    "# print(\"Endpoint ID:\", endpoint.name)"
   ]
  },
  {
   "cell_type": "markdown",
   "id": "a5eb45c9-2482-4338-bd2c-c6d5e142018c",
   "metadata": {},
   "source": [
    "### Predict on the Endpoint\n",
    "- Put prediction input(s) into a list named `instances`. The observation should of dimension (BATCH_SIZE, RANK_K). Read more about the MovieLens simulation environment observation [here](https://github.com/tensorflow/agents/blob/v0.8.0/tf_agents/bandits/environments/movielens_py_environment.py#L32-L138).\n",
    "- Read more about the endpoint prediction API [here](https://cloud.google.com/sdk/gcloud/reference/ai/endpoints/predict)."
   ]
  },
  {
   "cell_type": "code",
   "execution_count": 147,
   "id": "758e7a3b-80a6-4b74-9db1-c2675c6f37f5",
   "metadata": {},
   "outputs": [],
   "source": [
    "## TODO\n",
    "\n",
    "# endpoint.predict(\n",
    "#     instances=[\n",
    "#         {\"observation\": [list(np.ones(21)) for _ in range(8)]},\n",
    "#     ]\n",
    "# )"
   ]
  },
  {
   "cell_type": "markdown",
   "id": "8de9634a-80d0-4058-a88d-aa0e566573ba",
   "metadata": {},
   "source": [
    "## Cleaning up\n",
    "\n",
    "To clean up all Google Cloud resources used in this project, you can [delete the Google Cloud\n",
    "project](https://cloud.google.com/resource-manager/docs/creating-managing-projects#shutting_down_projects) you used for the tutorial.\n",
    "\n",
    "Otherwise, you can delete the individual resources you created in this tutorial:"
   ]
  },
  {
   "cell_type": "code",
   "execution_count": null,
   "id": "67abc70e-6546-45e2-aba2-c1e65ba8b319",
   "metadata": {},
   "outputs": [],
   "source": [
    "# # Delete endpoint resource\n",
    "# ! gcloud ai endpoints delete $endpoint.name --quiet --region $REGION\n",
    "\n",
    "# # Delete model resource\n",
    "# ! gcloud ai models delete $model.name --quiet\n",
    "\n",
    "# # Delete Cloud Storage objects that were created\n",
    "# ! gsutil -m rm -r $ARTIFACTS_DIR"
   ]
  }
 ],
 "metadata": {
  "environment": {
   "kernel": "python3",
   "name": "tf2-gpu.2-13.m112",
   "type": "gcloud",
   "uri": "gcr.io/deeplearning-platform-release/tf2-gpu.2-13:m112"
  },
  "kernelspec": {
   "display_name": "Python 3",
   "language": "python",
   "name": "python3"
  },
  "language_info": {
   "codemirror_mode": {
    "name": "ipython",
    "version": 3
   },
   "file_extension": ".py",
   "mimetype": "text/x-python",
   "name": "python",
   "nbconvert_exporter": "python",
   "pygments_lexer": "ipython3",
   "version": "3.10.12"
  }
 },
 "nbformat": 4,
 "nbformat_minor": 5
}
