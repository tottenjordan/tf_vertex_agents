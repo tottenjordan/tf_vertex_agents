{
 "cells": [
  {
   "cell_type": "markdown",
   "id": "e888c2fa-8bba-4d0c-8ae5-5a83224215f3",
   "metadata": {},
   "source": [
    "# Build per-arm Bandit model with TF-Agents and execute locally with Vertex AI"
   ]
  },
  {
   "cell_type": "markdown",
   "id": "cf77d870-0f7d-4736-a5ed-6b14ad825e52",
   "metadata": {},
   "source": [
    "## background\n",
    "\n",
    "**Arm features**\n",
    "* In some bandits use cases, each arm has its own features. For example, in movie recommendation problems, the user features play the role of the context and the movies play the role of the arms (aka actions) \n",
    "* Each movie has its own features, such as `text description`, `metadata`, `trailer content` features and so on\n",
    "\n",
    "These problems are often referred to as `arm features problems`"
   ]
  },
  {
   "cell_type": "code",
   "execution_count": 1,
   "id": "a02fe987-d962-44b5-ae30-8669d80f3464",
   "metadata": {},
   "outputs": [
    {
     "name": "stdout",
     "output_type": "stream",
     "text": [
      "aiplatform SDK version: 1.33.1\n"
     ]
    }
   ],
   "source": [
    "! python3 -c \"import google.cloud.aiplatform; print('aiplatform SDK version: {}'.format(google.cloud.aiplatform.__version__))\""
   ]
  },
  {
   "cell_type": "markdown",
   "id": "baa85e9e-47cb-41ec-b3d0-e4cc9e494613",
   "metadata": {},
   "source": [
    "## Load env config\n",
    "\n",
    "* use the prefix from `00-env-setup`"
   ]
  },
  {
   "cell_type": "code",
   "execution_count": 2,
   "id": "be5c2458-ac47-4542-a005-222e2529fb88",
   "metadata": {},
   "outputs": [
    {
     "name": "stdout",
     "output_type": "stream",
     "text": [
      "PREFIX: rec-bandits-v2\n"
     ]
    }
   ],
   "source": [
    "# PREFIX = 'mabv1'\n",
    "VERSION        = \"v2\"                       # TODO\n",
    "PREFIX         = f'rec-bandits-{VERSION}'   # TODO\n",
    "\n",
    "print(f\"PREFIX: {PREFIX}\")"
   ]
  },
  {
   "cell_type": "markdown",
   "id": "3a605f33-a1f3-4e98-be57-a5cdae4bc8f8",
   "metadata": {},
   "source": [
    "**run the next cell to populate env vars**"
   ]
  },
  {
   "cell_type": "code",
   "execution_count": 3,
   "id": "26c0d6d1-8264-46d2-a1a9-98ef8539e33e",
   "metadata": {},
   "outputs": [
    {
     "name": "stdout",
     "output_type": "stream",
     "text": [
      "\n",
      "PROJECT_ID               = \"hybrid-vertex\"\n",
      "PROJECT_NUM              = \"934903580331\"\n",
      "LOCATION                 = \"us-central1\"\n",
      "\n",
      "REGION                   = \"us-central1\"\n",
      "BQ_LOCATION              = \"US\"\n",
      "VPC_NETWORK_NAME         = \"ucaip-haystack-vpc-network\"\n",
      "\n",
      "VERTEX_SA                = \"934903580331-compute@developer.gserviceaccount.com\"\n",
      "\n",
      "PREFIX                   = \"rec-bandits-v2\"\n",
      "VERSION                  = \"v2\"\n",
      "\n",
      "BUCKET_NAME              = \"rec-bandits-v2-hybrid-vertex-bucket\"\n",
      "BUCKET_URI               = \"gs://rec-bandits-v2-hybrid-vertex-bucket\"\n",
      "DATA_GCS_PREFIX          = \"data\"\n",
      "DATA_PATH                = \"gs://rec-bandits-v2-hybrid-vertex-bucket/data\"\n",
      "VOCAB_SUBDIR             = \"vocabs\"\n",
      "VOCAB_FILENAME           = \"vocab_dict.pkl\"\n",
      "\n",
      "VPC_NETWORK_FULL         = \"projects/934903580331/global/networks/ucaip-haystack-vpc-network\"\n",
      "\n",
      "BIGQUERY_DATASET_ID      = \"hybrid_vertex.movielens_ds_rec_bandits_v2\"\n",
      "BIGQUERY_TABLE_ID        = \"hybrid_vertex.movielens_ds_rec_bandits_v2.training_dataset\"\n",
      "\n",
      "REPO_DOCKER_PATH_PREFIX  = \"src\"\n",
      "RL_SUB_DIR               = \"per_arm_rl\"\n",
      "\n",
      "REPOSITORY               = \"rl-movielens-rec-bandits-v2\"\n",
      "IMAGE_NAME               = \"train-perarm-feats-v2\"\n",
      "DOCKERNAME               = \"Dockerfile_perarm_feats\"\n",
      "\n",
      "IMAGE_URI                = \"gcr.io/hybrid-vertex/train-perarm-feats-v2\"\n",
      "\n",
      "REMOTE_IMAGE_NAME        = \"us-central1-docker.pkg.dev/hybrid-vertex/rl-movielens-rec-bandits-v2/train-perarm-feats-v2\"\n",
      "\n"
     ]
    }
   ],
   "source": [
    "# staging GCS\n",
    "GCP_PROJECTS             = !gcloud config get-value project\n",
    "PROJECT_ID               = GCP_PROJECTS[0]\n",
    "\n",
    "# GCS bucket and paths\n",
    "BUCKET_NAME              = f'{PREFIX}-{PROJECT_ID}-bucket'\n",
    "BUCKET_URI               = f'gs://{BUCKET_NAME}'\n",
    "\n",
    "config = !gsutil cat {BUCKET_URI}/config/notebook_env.py\n",
    "print(config.n)\n",
    "exec(config.n)"
   ]
  },
  {
   "cell_type": "code",
   "execution_count": 4,
   "id": "cf267dfa-3e59-4ea1-a0b6-e1c7f1ce8675",
   "metadata": {},
   "outputs": [],
   "source": [
    "# ! gsutil ls $BUCKET_URI"
   ]
  },
  {
   "cell_type": "markdown",
   "id": "e2e03648-23ef-4ebb-b4f4-c28dd2a3c7b0",
   "metadata": {},
   "source": [
    "## imports"
   ]
  },
  {
   "cell_type": "code",
   "execution_count": 5,
   "id": "edf25e4c-afd4-4be2-9784-ee43124f9101",
   "metadata": {},
   "outputs": [],
   "source": [
    "import os\n",
    "os.environ['TF_CPP_MIN_LOG_LEVEL'] = '2'"
   ]
  },
  {
   "cell_type": "code",
   "execution_count": 6,
   "id": "1000b866-e997-43bf-9891-6ce80aa69019",
   "metadata": {},
   "outputs": [],
   "source": [
    "import functools\n",
    "import json\n",
    "from collections import defaultdict\n",
    "from typing import Callable, Dict, List, Optional, TypeVar\n",
    "from datetime import datetime\n",
    "import time\n",
    "from pprint import pprint\n",
    "\n",
    "import logging\n",
    "logging.disable(logging.WARNING)\n",
    "\n",
    "import matplotlib.pyplot as plt\n",
    "import numpy as np\n",
    "\n",
    "# google cloud\n",
    "from google.cloud import aiplatform, storage\n",
    "\n",
    "# tensorflow\n",
    "import tensorflow as tf\n",
    "from tf_agents.agents import TFAgent\n",
    "from tf_agents.bandits.agents import lin_ucb_agent\n",
    "from tf_agents.bandits.agents.examples.v2 import trainer\n",
    "from tf_agents.bandits.environments import (environment_utilities,\n",
    "                                            movielens_py_environment,\n",
    "                                            movielens_per_arm_py_environment)\n",
    "from tf_agents.bandits.metrics import tf_metrics as tf_bandit_metrics\n",
    "from tf_agents.drivers import dynamic_step_driver\n",
    "from tf_agents.environments import TFEnvironment, tf_py_environment\n",
    "from tf_agents.eval import metric_utils\n",
    "from tf_agents.metrics import tf_metrics\n",
    "from tf_agents.metrics.tf_metric import TFStepMetric\n",
    "from tf_agents.policies import policy_saver\n",
    "\n",
    "# GPU\n",
    "from numba import cuda \n",
    "import gc\n",
    "\n",
    "# tf exceptions and vars\n",
    "if tf.__version__[0] != \"2\":\n",
    "    raise Exception(\"The trainer only runs with TensorFlow version 2.\")\n",
    "\n",
    "T = TypeVar(\"T\")"
   ]
  },
  {
   "cell_type": "code",
   "execution_count": 7,
   "id": "8f7abfc0-1196-4d7a-9cc9-5ff50c5d927d",
   "metadata": {},
   "outputs": [],
   "source": [
    "import sys\n",
    "sys.path.append(\"..\")\n",
    "\n",
    "# my project\n",
    "from src.per_arm_rl import data_utils\n",
    "from src.per_arm_rl import data_config\n",
    "from src.per_arm_rl import trainer_baseline"
   ]
  },
  {
   "cell_type": "markdown",
   "id": "10411736-7b03-418a-883e-0157cc183d04",
   "metadata": {},
   "source": [
    "### detect GPUs & reset devices"
   ]
  },
  {
   "cell_type": "code",
   "execution_count": 8,
   "id": "c3cc5e8e-4b02-4df4-8eea-7c40466cd241",
   "metadata": {},
   "outputs": [
    {
     "name": "stdout",
     "output_type": "stream",
     "text": [
      "Num GPUs Available:  1\n"
     ]
    }
   ],
   "source": [
    "print(\"Num GPUs Available: \", len(tf.config.list_physical_devices('GPU')))"
   ]
  },
  {
   "cell_type": "code",
   "execution_count": 10,
   "id": "a75044a2-d511-4727-84d2-780648fc191a",
   "metadata": {},
   "outputs": [
    {
     "data": {
      "text/plain": [
       "14"
      ]
     },
     "execution_count": 10,
     "metadata": {},
     "output_type": "execute_result"
    }
   ],
   "source": [
    "device = cuda.get_current_device()\n",
    "device.reset()\n",
    "gc.collect()"
   ]
  },
  {
   "cell_type": "markdown",
   "id": "6f7e69b4-7fe1-40fd-b42c-e3a24f8f4598",
   "metadata": {},
   "source": [
    "### Initialize Google Cloud SDK Clients"
   ]
  },
  {
   "cell_type": "code",
   "execution_count": 11,
   "id": "ef21e778-2043-450e-a78b-4c75416bf7fc",
   "metadata": {},
   "outputs": [],
   "source": [
    "# cloud storage client\n",
    "storage_client = storage.Client(project=PROJECT_ID)\n",
    "\n",
    "# Vertex client\n",
    "aiplatform.init(project=PROJECT_ID, location=LOCATION)"
   ]
  },
  {
   "cell_type": "markdown",
   "id": "99900b37-e159-43dd-b63b-e7c0e20a4ab1",
   "metadata": {},
   "source": [
    "# Data prep"
   ]
  },
  {
   "cell_type": "markdown",
   "id": "29776aca-6af4-4002-934d-fef353b60b33",
   "metadata": {},
   "source": [
    "### copy sample data to $DATA_PATH"
   ]
  },
  {
   "cell_type": "markdown",
   "id": "041283b5-de0f-4fbc-a40f-81f28e38ed0c",
   "metadata": {},
   "source": [
    "### Load data config"
   ]
  },
  {
   "cell_type": "code",
   "execution_count": 12,
   "id": "bad14ac8-0789-4ad5-bb52-e22e23db3860",
   "metadata": {},
   "outputs": [
    {
     "name": "stdout",
     "output_type": "stream",
     "text": [
      "USER_AGE_LOOKUP: {1.0: 0, 35.0: 1, 45.0: 2, 18.0: 3, 50.0: 4, 56.0: 5, 25.0: 6}\n",
      "USER_AGE_DIM: 7\n",
      "USER_OCC_LOOKUP: {b'salesman': 0, b'programmer': 1, b'writer': 2, b'librarian': 3, b'marketing': 4, b'homemaker': 5, b'scientist': 6, b'entertainment': 7, b'engineer': 8, b'executive': 9, b'student': 10, b'technician': 11, b'none': 12, b'artist': 13, b'doctor': 14, b'lawyer': 15, b'retired': 16, b'administrator': 17, b'other': 18, b'educator': 19, b'healthcare': 20}\n",
      "USER_OCC_DIM: 21\n",
      "MOVIE_GEN_LOOKUP: {0: 0, 1: 1, 2: 2, 3: 3, 4: 4, 5: 5, 6: 6, 7: 7, 8: 8, 9: 9, 10: 10, 12: 11, 13: 12, 14: 13, 15: 14, 16: 15, 17: 16, 18: 17, 19: 18}\n",
      "MOVIE_GEN_DIM: 19\n",
      "MOVIELENS_NUM_MOVIES: 1682\n",
      "MOVIELENS_NUM_USERS: 943\n"
     ]
    }
   ],
   "source": [
    "# test variables are set\n",
    "print(f\"USER_AGE_LOOKUP: {data_config.USER_AGE_LOOKUP}\")\n",
    "print(f\"USER_AGE_DIM: {data_config.USER_AGE_DIM}\")\n",
    "\n",
    "print(f\"USER_OCC_LOOKUP: {data_config.USER_OCC_LOOKUP}\")\n",
    "print(f\"USER_OCC_DIM: {data_config.USER_OCC_DIM}\")\n",
    "\n",
    "print(f\"MOVIE_GEN_LOOKUP: {data_config.MOVIE_GEN_LOOKUP}\")\n",
    "print(f\"MOVIE_GEN_DIM: {data_config.MOVIE_GEN_DIM}\")\n",
    "\n",
    "print(f\"MOVIELENS_NUM_MOVIES: {data_config.MOVIELENS_NUM_MOVIES}\")\n",
    "print(f\"MOVIELENS_NUM_USERS: {data_config.MOVIELENS_NUM_USERS}\")"
   ]
  },
  {
   "cell_type": "code",
   "execution_count": 13,
   "id": "048786b6-e466-4cb6-84e2-50c6184405e5",
   "metadata": {},
   "outputs": [],
   "source": [
    "# type(data_config.USER_OCC_LOOKUP)"
   ]
  },
  {
   "cell_type": "markdown",
   "id": "201610e6-b3be-4e09-a290-ea3c24230c70",
   "metadata": {},
   "source": [
    "### Read TF Records"
   ]
  },
  {
   "cell_type": "code",
   "execution_count": 14,
   "id": "1265b4ca-e231-475e-a63e-515b673cf39d",
   "metadata": {},
   "outputs": [],
   "source": [
    "options = tf.data.Options()\n",
    "options.experimental_distribute.auto_shard_policy = tf.data.experimental.AutoShardPolicy.AUTO"
   ]
  },
  {
   "cell_type": "code",
   "execution_count": 15,
   "id": "40cb3c57-c48b-499d-8a2e-fc1006818b97",
   "metadata": {},
   "outputs": [
    {
     "data": {
      "text/plain": [
       "['gs://rec-bandits-v2-hybrid-vertex-bucket/data/ml-ratings-100k-full.tfrecord']"
      ]
     },
     "execution_count": 15,
     "metadata": {},
     "output_type": "execute_result"
    }
   ],
   "source": [
    "SPLIT = \"train\" # \"train\" | \"val\"\n",
    "\n",
    "train_files = []\n",
    "for blob in storage_client.list_blobs(f\"{BUCKET_NAME}\", prefix=f'{DATA_GCS_PREFIX}/', delimiter=\"/\"): # {SPLIT}\n",
    "    if '.tfrecord' in blob.name:\n",
    "        train_files.append(blob.public_url.replace(\"https://storage.googleapis.com/\", \"gs://\"))\n",
    "        \n",
    "train_files"
   ]
  },
  {
   "cell_type": "code",
   "execution_count": 16,
   "id": "8580ef60-9448-44be-8b81-19e7ebae7a67",
   "metadata": {},
   "outputs": [
    {
     "data": {
      "text/plain": [
       "<_MapDataset element_spec={'bucketized_user_age': TensorSpec(shape=(), dtype=tf.float32, name=None), 'movie_genres': TensorSpec(shape=(1,), dtype=tf.int64, name=None), 'movie_id': TensorSpec(shape=(), dtype=tf.string, name=None), 'timestamp': TensorSpec(shape=(), dtype=tf.int64, name=None), 'user_id': TensorSpec(shape=(), dtype=tf.string, name=None), 'user_occupation_text': TensorSpec(shape=(), dtype=tf.string, name=None), 'user_rating': TensorSpec(shape=(), dtype=tf.float32, name=None)}>"
      ]
     },
     "execution_count": 16,
     "metadata": {},
     "output_type": "execute_result"
    }
   ],
   "source": [
    "train_dataset = tf.data.TFRecordDataset(train_files)\n",
    "\n",
    "train_dataset = train_dataset.map(data_utils.parse_tfrecord)\n",
    "\n",
    "train_dataset"
   ]
  },
  {
   "cell_type": "code",
   "execution_count": 17,
   "id": "15e942d0-e779-4de9-9e32-6dc65fd27fe4",
   "metadata": {},
   "outputs": [
    {
     "name": "stdout",
     "output_type": "stream",
     "text": [
      "{'bucketized_user_age': <tf.Tensor: shape=(1,), dtype=float32, numpy=array([45.], dtype=float32)>,\n",
      " 'movie_genres': <tf.Tensor: shape=(1, 1), dtype=int64, numpy=array([[7]])>,\n",
      " 'movie_id': <tf.Tensor: shape=(1,), dtype=string, numpy=array([b'357'], dtype=object)>,\n",
      " 'timestamp': <tf.Tensor: shape=(1,), dtype=int64, numpy=array([879024327])>,\n",
      " 'user_id': <tf.Tensor: shape=(1,), dtype=string, numpy=array([b'138'], dtype=object)>,\n",
      " 'user_occupation_text': <tf.Tensor: shape=(1,), dtype=string, numpy=array([b'doctor'], dtype=object)>,\n",
      " 'user_rating': <tf.Tensor: shape=(1,), dtype=float32, numpy=array([4.], dtype=float32)>}\n",
      "{'bucketized_user_age': <tf.Tensor: shape=(1,), dtype=float32, numpy=array([25.], dtype=float32)>,\n",
      " 'movie_genres': <tf.Tensor: shape=(1, 1), dtype=int64, numpy=array([[4]])>,\n",
      " 'movie_id': <tf.Tensor: shape=(1,), dtype=string, numpy=array([b'709'], dtype=object)>,\n",
      " 'timestamp': <tf.Tensor: shape=(1,), dtype=int64, numpy=array([875654590])>,\n",
      " 'user_id': <tf.Tensor: shape=(1,), dtype=string, numpy=array([b'92'], dtype=object)>,\n",
      " 'user_occupation_text': <tf.Tensor: shape=(1,), dtype=string, numpy=array([b'entertainment'], dtype=object)>,\n",
      " 'user_rating': <tf.Tensor: shape=(1,), dtype=float32, numpy=array([2.], dtype=float32)>}\n"
     ]
    }
   ],
   "source": [
    "for x in train_dataset.batch(1).take(2):\n",
    "    pprint(x)"
   ]
  },
  {
   "cell_type": "markdown",
   "id": "695f980f-8ae9-415c-8978-08e0e9112c1e",
   "metadata": {},
   "source": [
    "# Define RL modules"
   ]
  },
  {
   "cell_type": "code",
   "execution_count": 19,
   "id": "e084e425-594d-40d6-ac04-e63c68e6dbe4",
   "metadata": {},
   "outputs": [],
   "source": [
    "# !pwd"
   ]
  },
  {
   "cell_type": "markdown",
   "id": "37bcaf16-ef88-4dce-a8e2-72f20d244dff",
   "metadata": {},
   "source": [
    "# Train RL modules"
   ]
  },
  {
   "cell_type": "markdown",
   "id": "19dd649a-1055-4376-8c1c-1543bfd849f1",
   "metadata": {},
   "source": [
    "### set hyperparameters"
   ]
  },
  {
   "cell_type": "code",
   "execution_count": 20,
   "id": "30fd48c5-b137-4823-80d0-7ac462684fee",
   "metadata": {},
   "outputs": [
    {
     "name": "stdout",
     "output_type": "stream",
     "text": [
      "BATCH_SIZE       : 128\n",
      "TRAINING_LOOPS   : 100\n",
      "STEPS_PER_LOOP   : 2\n",
      "RANK_K           : 20\n",
      "NUM_ACTIONS      : 10\n",
      "PER_ARM          : True\n",
      "TIKHONOV_WEIGHT  : 0.001\n",
      "AGENT_ALPHA      : 10.0\n"
     ]
    }
   ],
   "source": [
    "# Set hyperparameters.\n",
    "BATCH_SIZE       = 128      # Training and prediction batch size.\n",
    "TRAINING_LOOPS   = 100     # Number of training iterations.\n",
    "STEPS_PER_LOOP   = 2      # Number of driver steps per training iteration.\n",
    "\n",
    "# Set MovieLens simulation environment parameters.\n",
    "RANK_K           = 20     # Rank for matrix factorization in the MovieLens environment; also the observation dimension.\n",
    "NUM_ACTIONS      = 10     # Number of actions (movie items) to choose from.\n",
    "PER_ARM          = True   # Use the non-per-arm version of the MovieLens environment.\n",
    "\n",
    "# Set agent parameters.\n",
    "TIKHONOV_WEIGHT  = 0.001   # LinUCB Tikhonov regularization weight.\n",
    "AGENT_ALPHA      = 10.0    # LinUCB exploration parameter that multiplies the confidence intervals.\n",
    "\n",
    "print(f\"BATCH_SIZE       : {BATCH_SIZE}\")\n",
    "print(f\"TRAINING_LOOPS   : {TRAINING_LOOPS}\")\n",
    "print(f\"STEPS_PER_LOOP   : {STEPS_PER_LOOP}\")\n",
    "print(f\"RANK_K           : {RANK_K}\")\n",
    "print(f\"NUM_ACTIONS      : {NUM_ACTIONS}\")\n",
    "print(f\"PER_ARM          : {PER_ARM}\")\n",
    "print(f\"TIKHONOV_WEIGHT  : {TIKHONOV_WEIGHT}\")\n",
    "print(f\"AGENT_ALPHA      : {AGENT_ALPHA}\")"
   ]
  },
  {
   "cell_type": "markdown",
   "id": "c024c122-7701-4391-97c1-48660589b098",
   "metadata": {},
   "source": [
    "### Define RL environment"
   ]
  },
  {
   "cell_type": "markdown",
   "id": "1fed298e-0361-4b28-9ee9-e82af4c6d4ea",
   "metadata": {},
   "source": [
    "One can define a bandit environment by subclassing `BanditTFEnvironment`, or, similarly to RL environments, one can define a `BanditPyEnvironment` and wrap it with `TFPyEnvironment`\n",
    "\n",
    "> See `src.per_arm_rl.my_per_arm_py_env.py` for an example custom environment which implements a per-arm version of the MovieLens environment"
   ]
  },
  {
   "cell_type": "code",
   "execution_count": 21,
   "id": "e648e97f-a9ff-46d3-a7f3-09b04723b1fc",
   "metadata": {},
   "outputs": [],
   "source": [
    "from src.per_arm_rl import my_per_arm_py_env as my_per_arm_py_env"
   ]
  },
  {
   "cell_type": "code",
   "execution_count": 22,
   "id": "6374c0c6-44d3-4972-90ca-577626e8f13d",
   "metadata": {},
   "outputs": [
    {
     "data": {
      "text/plain": [
       "943"
      ]
     },
     "execution_count": 22,
     "metadata": {},
     "output_type": "execute_result"
    }
   ],
   "source": [
    "data_config.MOVIELENS_NUM_USERS"
   ]
  },
  {
   "cell_type": "code",
   "execution_count": 23,
   "id": "00eddb55-19f3-4bd8-89cf-3a1a75bcba9a",
   "metadata": {},
   "outputs": [],
   "source": [
    "env = my_per_arm_py_env.MyMovieLensPerArmPyEnvironment(\n",
    "    project_number = PROJECT_NUM\n",
    "    , data_path = DATA_PATH\n",
    "    , bucket_name = BUCKET_NAME\n",
    "    , data_gcs_prefix = f\"{DATA_GCS_PREFIX}\"\n",
    "    , user_age_lookup_dict = data_config.USER_AGE_LOOKUP\n",
    "    , user_occ_lookup_dict = data_config.USER_OCC_LOOKUP\n",
    "    , movie_gen_lookup_dict = data_config.MOVIE_GEN_LOOKUP\n",
    "    , num_users = data_config.MOVIELENS_NUM_USERS\n",
    "    , num_movies = data_config.MOVIELENS_NUM_MOVIES\n",
    "    , rank_k = RANK_K\n",
    "    , batch_size = BATCH_SIZE\n",
    "    , num_actions = NUM_ACTIONS\n",
    ")\n",
    "\n",
    "environment = tf_py_environment.TFPyEnvironment(env)"
   ]
  },
  {
   "cell_type": "code",
   "execution_count": 24,
   "id": "8b3af019-dea7-43b9-bcf1-ade3c723fb96",
   "metadata": {},
   "outputs": [
    {
     "data": {
      "text/plain": [
       "{0: 0,\n",
       " 1: 1,\n",
       " 2: 2,\n",
       " 3: 3,\n",
       " 4: 4,\n",
       " 5: 5,\n",
       " 6: 6,\n",
       " 7: 7,\n",
       " 8: 8,\n",
       " 9: 9,\n",
       " 10: 10,\n",
       " 12: 11,\n",
       " 13: 12,\n",
       " 14: 13,\n",
       " 15: 14,\n",
       " 16: 15,\n",
       " 17: 16,\n",
       " 18: 17,\n",
       " 19: 18}"
      ]
     },
     "execution_count": 24,
     "metadata": {},
     "output_type": "execute_result"
    }
   ],
   "source": [
    "env.movie_gen_lookup_dict"
   ]
  },
  {
   "cell_type": "code",
   "execution_count": 25,
   "id": "34665952-999c-48bf-8f04-a863d0a3e1fc",
   "metadata": {},
   "outputs": [
    {
     "data": {
      "text/plain": [
       "<_MapDataset element_spec={'bucketized_user_age': TensorSpec(shape=(), dtype=tf.float32, name=None), 'movie_genres': TensorSpec(shape=(1,), dtype=tf.int64, name=None), 'movie_id': TensorSpec(shape=(), dtype=tf.string, name=None), 'timestamp': TensorSpec(shape=(), dtype=tf.int64, name=None), 'user_id': TensorSpec(shape=(), dtype=tf.string, name=None), 'user_occupation_text': TensorSpec(shape=(), dtype=tf.string, name=None), 'user_rating': TensorSpec(shape=(), dtype=tf.float32, name=None)}>"
      ]
     },
     "execution_count": 25,
     "metadata": {},
     "output_type": "execute_result"
    }
   ],
   "source": [
    "env.dataset"
   ]
  },
  {
   "cell_type": "code",
   "execution_count": 26,
   "id": "2af0b8a6-a490-4701-a4fa-1549e0ff6151",
   "metadata": {},
   "outputs": [
    {
     "data": {
      "text/plain": [
       "array([14.0001,  7.0001, 10.0001, ..., 10.0001,  2.0001, 10.0001])"
      ]
     },
     "execution_count": 26,
     "metadata": {},
     "output_type": "execute_result"
    }
   ],
   "source": [
    "env._user_occ_int"
   ]
  },
  {
   "cell_type": "code",
   "execution_count": 27,
   "id": "9b78a117-6c3a-4fd6-90c5-3ba60c684268",
   "metadata": {},
   "outputs": [
    {
     "data": {
      "text/plain": [
       "{'global': TensorSpec(shape=(22,), dtype=tf.float32, name=None),\n",
       " 'per_arm': TensorSpec(shape=(10, 21), dtype=tf.float32, name=None)}"
      ]
     },
     "execution_count": 27,
     "metadata": {},
     "output_type": "execute_result"
    }
   ],
   "source": [
    "environment.observation_spec()"
   ]
  },
  {
   "cell_type": "code",
   "execution_count": 28,
   "id": "f290dca3-8db5-4d17-a289-ef7599b0774e",
   "metadata": {},
   "outputs": [
    {
     "data": {
      "text/plain": [
       "TimeStep(\n",
       "{'discount': BoundedTensorSpec(shape=(), dtype=tf.float32, name='discount', minimum=array(0., dtype=float32), maximum=array(1., dtype=float32)),\n",
       " 'observation': {'global': TensorSpec(shape=(22,), dtype=tf.float32, name=None),\n",
       "                 'per_arm': TensorSpec(shape=(10, 21), dtype=tf.float32, name=None)},\n",
       " 'reward': TensorSpec(shape=(), dtype=tf.float32, name='reward'),\n",
       " 'step_type': TensorSpec(shape=(), dtype=tf.int32, name='step_type')})"
      ]
     },
     "execution_count": 28,
     "metadata": {},
     "output_type": "execute_result"
    }
   ],
   "source": [
    "environment.time_step_spec()"
   ]
  },
  {
   "cell_type": "code",
   "execution_count": 29,
   "id": "2d31c452-5e93-40aa-8a63-16950bbc9071",
   "metadata": {},
   "outputs": [
    {
     "data": {
      "text/plain": [
       "BoundedTensorSpec(shape=(), dtype=tf.int32, name='action', minimum=array(0, dtype=int32), maximum=array(9, dtype=int32))"
      ]
     },
     "execution_count": 29,
     "metadata": {},
     "output_type": "execute_result"
    }
   ],
   "source": [
    "environment.action_spec()"
   ]
  },
  {
   "cell_type": "markdown",
   "id": "a2105b5f-1d7d-448e-a222-b117288444e5",
   "metadata": {},
   "source": [
    "### Define RL agent/algorithm"
   ]
  },
  {
   "cell_type": "code",
   "execution_count": 30,
   "id": "ddb82b68-49fe-48d5-a3a2-27a2fc9c88bc",
   "metadata": {},
   "outputs": [
    {
     "name": "stdout",
     "output_type": "stream",
     "text": [
      "TimeStep Spec (for each batch):\n",
      " TimeStep(\n",
      "{'discount': BoundedTensorSpec(shape=(), dtype=tf.float32, name='discount', minimum=array(0., dtype=float32), maximum=array(1., dtype=float32)),\n",
      " 'observation': DictWrapper({'global': TensorSpec(shape=(22,), dtype=tf.float32, name=None), 'per_arm': TensorSpec(shape=(10, 21), dtype=tf.float32, name=None)}),\n",
      " 'reward': TensorSpec(shape=(), dtype=tf.float32, name='reward'),\n",
      " 'step_type': TensorSpec(shape=(), dtype=tf.int32, name='step_type')}) \n",
      "\n",
      "Action Spec (for each batch)  :\n",
      " BoundedTensorSpec(shape=(), dtype=tf.int32, name='action', minimum=array(0, dtype=int32), maximum=array(9, dtype=int32)) \n",
      "\n",
      "Reward Spec (for each batch)  :\n",
      " TensorSpec(shape=(), dtype=tf.float32, name='reward') \n",
      "\n"
     ]
    }
   ],
   "source": [
    "agent = lin_ucb_agent.LinearUCBAgent(\n",
    "    time_step_spec = environment.time_step_spec()\n",
    "    , action_spec = environment.action_spec()\n",
    "    , tikhonov_weight = TIKHONOV_WEIGHT\n",
    "    , alpha = AGENT_ALPHA\n",
    "    , dtype = tf.float32\n",
    "    , accepts_per_arm_features = PER_ARM\n",
    "    , summarize_grads_and_vars = True\n",
    "    , enable_summaries = True,\n",
    ")\n",
    "\n",
    "print(\"TimeStep Spec (for each batch):\\n\", agent.time_step_spec, \"\\n\")\n",
    "print(\"Action Spec (for each batch)  :\\n\", agent.action_spec, \"\\n\")\n",
    "print(\"Reward Spec (for each batch)  :\\n\", environment.reward_spec(), \"\\n\")"
   ]
  },
  {
   "cell_type": "markdown",
   "id": "0312eafa-bff0-443f-bf73-2e814b542767",
   "metadata": {},
   "source": [
    "#### The flow of training data"
   ]
  },
  {
   "cell_type": "markdown",
   "id": "9c04b975-bcd1-47fb-b14d-66b2360b74df",
   "metadata": {},
   "source": [
    "First, let us have a look at the data specification in the agent. The `training_data_spec` attribute of the agent specifies what elements and structure the training data should have."
   ]
  },
  {
   "cell_type": "code",
   "execution_count": 31,
   "id": "7f3eb808-2cd8-4617-8592-1aaaf88d3ad1",
   "metadata": {},
   "outputs": [
    {
     "name": "stdout",
     "output_type": "stream",
     "text": [
      "training data spec:  Trajectory(\n",
      "{'action': BoundedTensorSpec(shape=(), dtype=tf.int32, name='action', minimum=array(0, dtype=int32), maximum=array(9, dtype=int32)),\n",
      " 'discount': BoundedTensorSpec(shape=(), dtype=tf.float32, name='discount', minimum=array(0., dtype=float32), maximum=array(1., dtype=float32)),\n",
      " 'next_step_type': TensorSpec(shape=(), dtype=tf.int32, name='step_type'),\n",
      " 'observation': DictWrapper({'global': TensorSpec(shape=(22,), dtype=tf.float32, name=None)}),\n",
      " 'policy_info': PerArmPolicyInfo(log_probability=(), predicted_rewards_mean=(), multiobjective_scalarized_predicted_rewards_mean=(), predicted_rewards_optimistic=(), predicted_rewards_sampled=(), bandit_policy_type=(), chosen_arm_features=TensorSpec(shape=(21,), dtype=tf.float32, name=None)),\n",
      " 'reward': TensorSpec(shape=(), dtype=tf.float32, name='reward'),\n",
      " 'step_type': TensorSpec(shape=(), dtype=tf.int32, name='step_type')})\n"
     ]
    }
   ],
   "source": [
    "print('training data spec: ', agent.training_data_spec)"
   ]
  },
  {
   "cell_type": "markdown",
   "id": "760d851e-6b53-4542-abf6-153132da27b6",
   "metadata": {},
   "source": [
    "If we have a closer look to the `observation` part of the spec, we see that it does not contain per-arm features!"
   ]
  },
  {
   "cell_type": "code",
   "execution_count": 32,
   "id": "3dd0294b-df84-4a28-90be-6fc319e1a77a",
   "metadata": {},
   "outputs": [
    {
     "name": "stdout",
     "output_type": "stream",
     "text": [
      "observation spec in training:  {'global': TensorSpec(shape=(22,), dtype=tf.float32, name=None)}\n"
     ]
    }
   ],
   "source": [
    "print('observation spec in training: ', agent.training_data_spec.observation)"
   ]
  },
  {
   "cell_type": "markdown",
   "id": "13ab4548-4618-4e15-953c-dbb16faab6a7",
   "metadata": {},
   "source": [
    "What happened to the per-arm features? To answer this question, first we note that when the LinUCB agent trains, it does not need the per-arm features of all arms, it only needs those of the **chosen arm**. Hence, it makes sense to drop the tensor of shape `[BATCH_SIZE, NUM_ACTIONS, PER_ARM_DIM]`, as it is very wasteful, especially if the number of actions is large.\n",
    "\n",
    "But still, the per-arm features of the chosen arm must be somewhere! To this end, we make sure that the LinUCB policy stores the features of the chosen arm within the `policy_info` field of the training data:"
   ]
  },
  {
   "cell_type": "code",
   "execution_count": 33,
   "id": "55976caa-2105-4cd9-b872-e82cb3c51a94",
   "metadata": {},
   "outputs": [
    {
     "name": "stdout",
     "output_type": "stream",
     "text": [
      "chosen arm features:  TensorSpec(shape=(21,), dtype=tf.float32, name=None)\n"
     ]
    }
   ],
   "source": [
    "print('chosen arm features: ', agent.training_data_spec.policy_info.chosen_arm_features)"
   ]
  },
  {
   "cell_type": "markdown",
   "id": "6df5785f-66f8-45f8-aa03-58cf3a117d64",
   "metadata": {},
   "source": [
    "### Define RL metric"
   ]
  },
  {
   "cell_type": "markdown",
   "id": "0fdc7f42-13cd-4e7a-9220-934166fcd9ef",
   "metadata": {},
   "source": [
    "Bandits' most important metric is **regret**, calculated as the difference between the reward collected by the agent and the expected reward of an oracle policy that has access to the reward functions of the environment. The [RegretMetric](https://github.com/tensorflow/agents/blob/master/tf_agents/bandits/metrics/tf_metrics.py) thus needs a `baseline_reward_fn` function that calculates the best achievable expected reward given an observation. For our example, we need to take the maximum of the no-noise equivalents of the reward functions that we already defined for the environment."
   ]
  },
  {
   "cell_type": "code",
   "execution_count": 34,
   "id": "8680c971-1b81-439f-877d-1893f4a8a158",
   "metadata": {},
   "outputs": [],
   "source": [
    "optimal_reward_fn = functools.partial(\n",
    "    environment_utilities.compute_optimal_reward_with_movielens_environment\n",
    "    , environment=environment\n",
    ")\n",
    "\n",
    "regret_metric = tf_bandit_metrics.RegretMetric(optimal_reward_fn)\n",
    "\n",
    "suboptimal_arms_metric = tf_bandit_metrics.SuboptimalArmsMetric(\n",
    "  optimal_action_fn\n",
    ")\n",
    "\n",
    "metrics = [regret_metric, suboptimal_arms_metric]"
   ]
  },
  {
   "cell_type": "code",
   "execution_count": 35,
   "id": "b60cec8c-6dd5-4816-a3b1-ec61d0b53187",
   "metadata": {},
   "outputs": [
    {
     "data": {
      "text/plain": [
       "[<tf_agents.bandits.metrics.tf_metrics.RegretMetric at 0x7f948c093610>]"
      ]
     },
     "execution_count": 35,
     "metadata": {},
     "output_type": "execute_result"
    }
   ],
   "source": [
    "metrics"
   ]
  },
  {
   "cell_type": "code",
   "execution_count": 36,
   "id": "ded04fbb-57a2-47cb-b7e8-daf6cce7aff1",
   "metadata": {},
   "outputs": [],
   "source": [
    "# optimal_reward_fn"
   ]
  },
  {
   "cell_type": "markdown",
   "id": "5195e0ff-6a36-4cb8-b170-fb0c8910660a",
   "metadata": {},
   "source": [
    "## Train (locally)"
   ]
  },
  {
   "cell_type": "markdown",
   "id": "765c72aa-73fc-4900-9a5b-c9e831cfd922",
   "metadata": {},
   "source": [
    "A **policy** in a bandit problem works the same way as in an RL problem: it provides an action (or a distribution of actions), given an observation as input.\n",
    "* For more details, see the [TF-Agents Policy tutorial](https://github.com/tensorflow/agents/blob/master/docs/tutorials/3_policies_tutorial.ipynb).\n",
    "* As with environments, there are two ways to construct a policy: One can create a `PyPolicy` and wrap it with `TFPyPolicy`, or directly create a `TFPolicy`\n",
    "\n",
    "**Replay buffers**\n",
    "* Reinforcement learning algorithms use `replay buffers` to store trajectories of experience when executing a policy in an environment. * During training, replay buffers are queried for a subset of the trajectories (either a sequential subset or a sample) to \"replay\" the agent's experience."
   ]
  },
  {
   "cell_type": "markdown",
   "id": "db72a780-63b6-4eb7-a274-3d9e357fdf85",
   "metadata": {},
   "source": [
    "### Define the training logic (on-policy training)"
   ]
  },
  {
   "cell_type": "markdown",
   "id": "d9523045-4f43-4a67-83a6-275aa3118e31",
   "metadata": {},
   "source": [
    "> The following function is the same as [trainer.train](https://github.com/tensorflow/agents/blob/master/tf_agents/bandits/agents/examples/v2/trainer.py#L130), but it keeps track of intermediate metric values and saves different artifacts to different locations. You can also directly invoke [trainer.train](https://github.com/tensorflow/agents/blob/master/tf_agents/bandits/agents/examples/v2/trainer.py#L130) which also trains the policy."
   ]
  },
  {
   "cell_type": "markdown",
   "id": "e887e408-45db-4c95-aa84-268b0f573252",
   "metadata": {},
   "source": [
    "### set Vertex Exeperiment"
   ]
  },
  {
   "cell_type": "code",
   "execution_count": 37,
   "id": "bea2c0a5-96f2-44fb-8e28-3f5b68698d39",
   "metadata": {},
   "outputs": [
    {
     "name": "stdout",
     "output_type": "stream",
     "text": [
      "EXPERIMENT_NAME   : baseline-perarm-local-v1\n",
      "RUN_NAME          : run-20231018-135448\n",
      "LOG_DIR           : gs://rec-bandits-v2-hybrid-vertex-bucket/baseline-perarm-local-v1/run-20231018-135448/tb-logs\n",
      "ROOT_DIR          : gs://rec-bandits-v2-hybrid-vertex-bucket/baseline-perarm-local-v1/run-20231018-135448/root\n",
      "ARTIFACTS_DIR     : gs://rec-bandits-v2-hybrid-vertex-bucket/baseline-perarm-local-v1/run-20231018-135448/artifacts\n"
     ]
    }
   ],
   "source": [
    "EXPERIMENT_NAME   = f'baseline-perarm-local-v1'\n",
    "\n",
    "invoke_time       = time.strftime(\"%Y%m%d-%H%M%S\")\n",
    "RUN_NAME          = f'run-{invoke_time}'\n",
    "\n",
    "LOG_DIR           = f\"{BUCKET_URI}/{EXPERIMENT_NAME}/{RUN_NAME}/tb-logs\"\n",
    "ROOT_DIR          = f\"{BUCKET_URI}/{EXPERIMENT_NAME}/{RUN_NAME}/root\"       # Root directory for writing logs/summaries/checkpoints.\n",
    "ARTIFACTS_DIR     = f\"{BUCKET_URI}/{EXPERIMENT_NAME}/{RUN_NAME}/artifacts\"  # Where the trained model will be saved and restored.\n",
    "\n",
    "aiplatform.init(\n",
    "    project=PROJECT_ID,\n",
    "    location=REGION,\n",
    "    experiment=EXPERIMENT_NAME\n",
    ")\n",
    "\n",
    "print(f\"EXPERIMENT_NAME   : {EXPERIMENT_NAME}\")\n",
    "print(f\"RUN_NAME          : {RUN_NAME}\")\n",
    "print(f\"LOG_DIR           : {LOG_DIR}\")\n",
    "print(f\"ROOT_DIR          : {ROOT_DIR}\")\n",
    "print(f\"ARTIFACTS_DIR     : {ARTIFACTS_DIR}\")"
   ]
  },
  {
   "cell_type": "markdown",
   "id": "21bbf357-011e-48fe-a714-1d9f8012329d",
   "metadata": {},
   "source": [
    "### train RL agent"
   ]
  },
  {
   "cell_type": "markdown",
   "id": "5bf7498c-4257-48ee-ab96-8903d13bcd95",
   "metadata": {},
   "source": [
    "> TODO: out-of-bounds index error"
   ]
  },
  {
   "cell_type": "code",
   "execution_count": 39,
   "id": "bd567c85-810d-4bcf-b920-29fad009349f",
   "metadata": {},
   "outputs": [
    {
     "name": "stdout",
     "output_type": "stream",
     "text": [
      "step = 0: train loss = 0.6000000238418579\n",
      "step = 25: train loss = 0.9599999785423279\n",
      "step = 50: train loss = 1.0\n",
      "step = 75: train loss = 0.9100000262260437\n"
     ]
    }
   ],
   "source": [
    "#start the timer and training\n",
    "start_time = time.time()\n",
    "\n",
    "# tf.profiler.experimental.start(LOG_DIR)\n",
    "\n",
    "metric_results = trainer_baseline.train(\n",
    "    root_dir=LOG_DIR,\n",
    "    agent=agent,\n",
    "    environment=environment,\n",
    "    training_loops=TRAINING_LOOPS,\n",
    "    steps_per_loop=STEPS_PER_LOOP,\n",
    "    additional_metrics=metrics,\n",
    "    save_policy=True\n",
    ")\n",
    "# tf.profiler.experimental.stop()\n",
    "\n",
    "end_time = time.time()\n",
    "runtime_mins = int((end_time - start_time) / 60)"
   ]
  },
  {
   "cell_type": "code",
   "execution_count": 40,
   "id": "abfa8137-834c-4fe7-998e-6d585c347dec",
   "metadata": {
    "tags": []
   },
   "outputs": [],
   "source": [
    "metric_results"
   ]
  },
  {
   "cell_type": "markdown",
   "id": "25933df7-7527-4eda-b25c-d166f93b29b0",
   "metadata": {},
   "source": [
    "### log Vertex Experiment run"
   ]
  },
  {
   "cell_type": "code",
   "execution_count": 37,
   "id": "cb43ea65-3c72-44c8-9373-e5c7ea46e2d5",
   "metadata": {},
   "outputs": [],
   "source": [
    "# aiplatform.start_run(\n",
    "#     RUN_NAME\n",
    "#     , tensorboard=TB_RESOURCE_NAME\n",
    "#     , resume=False\n",
    "# )\n",
    "\n",
    "# aiplatform.log_params(\n",
    "#     {\n",
    "#         \"runtime\": runtime_mins,\n",
    "#         \"batch_size\": BATCH_SIZE, \n",
    "#         \"training_loops\": TRAINING_LOOPS,\n",
    "#         \"steps_pre_loop\": STEPS_PER_LOOP,\n",
    "#         \"rank_k\": RANK_K,\n",
    "#         \"num_actions\": NUM_ACTIONS,\n",
    "#         \"per_arm\": PER_ARM,\n",
    "#         \"tikhonov_weight\": TIKHONOV_WEIGHT,\n",
    "#         \"agent_alpha\": AGENT_ALPHA,\n",
    "#     }\n",
    "# )\n",
    "\n",
    "# # gather the metrics for the last epoch to be saved in metrics\n",
    "# aiplatform.log_metrics(\n",
    "#     {\n",
    "#         \"AverageReturnMetric\" : float(metric_results[\"AverageReturnMetric\"][-1])\n",
    "#         , \"FinalRegretMetric\" : float(metric_results[\"RegretMetric\"][-1])\n",
    "#     }\n",
    "# )\n",
    "\n",
    "# aiplatform.end_run()"
   ]
  },
  {
   "cell_type": "markdown",
   "id": "eb309b7e-ea8d-496a-88d8-61c18cf1259c",
   "metadata": {},
   "source": [
    "## Evaluate RL metrics"
   ]
  },
  {
   "cell_type": "code",
   "execution_count": 39,
   "id": "75d1843b-c763-4ca3-bed6-d954c680a66d",
   "metadata": {},
   "outputs": [],
   "source": [
    "# def plot(metric_results, metric_name):\n",
    "#     plt.plot(metric_results[metric_name])\n",
    "#     plt.ylabel(metric_name)\n",
    "#     plt.xlabel(\"Step\")\n",
    "#     plt.title(\"{} versus Step\".format(metric_name))"
   ]
  },
  {
   "cell_type": "code",
   "execution_count": 40,
   "id": "9a7ada8a-77b3-43f4-8631-aee319dc6523",
   "metadata": {},
   "outputs": [
    {
     "data": {
      "image/png": "[encoded data removed]",
      "text/plain": [
       "<Figure size 640x480 with 1 Axes>"
      ]
     },
     "metadata": {},
     "output_type": "display_data"
    }
   ],
   "source": [
    "# plot(metric_results, \"RegretMetric\")"
   ]
  },
  {
   "cell_type": "code",
   "execution_count": 41,
   "id": "5ea3de56-3540-4258-88ce-fafea4ec50a7",
   "metadata": {},
   "outputs": [
    {
     "data": {
      "image/png": "[encoded data removed]",
      "text/plain": [
       "<Figure size 640x480 with 1 Axes>"
      ]
     },
     "metadata": {},
     "output_type": "display_data"
    }
   ],
   "source": [
    "# plot(metric_results, \"AverageReturnMetric\")"
   ]
  },
  {
   "cell_type": "markdown",
   "id": "a2ceaca0-c58d-4c37-90ea-f4a00e034aee",
   "metadata": {
    "tags": []
   },
   "source": [
    "### Profiler"
   ]
  },
  {
   "cell_type": "code",
   "execution_count": 41,
   "id": "f3401ad6-ac68-49a6-8d16-3b3edf667eaf",
   "metadata": {},
   "outputs": [],
   "source": [
    "%load_ext tensorboard\n",
    "# %reload_ext tensorboard"
   ]
  },
  {
   "cell_type": "code",
   "execution_count": 42,
   "id": "22644f6b-1996-4c16-a81c-431b5cd68977",
   "metadata": {},
   "outputs": [
    {
     "data": {
      "text/html": [
       "\n",
       "      <iframe id=\"tensorboard-frame-83c4e49e2ee8997e\" width=\"100%\" height=\"800\" frameborder=\"0\">\n",
       "      </iframe>\n",
       "      <script>\n",
       "        (function() {\n",
       "          const frame = document.getElementById(\"tensorboard-frame-83c4e49e2ee8997e\");\n",
       "          const url = new URL(\"/proxy/6007/\", window.location);\n",
       "          const port = 0;\n",
       "          if (port) {\n",
       "            url.port = port;\n",
       "          }\n",
       "          frame.src = url;\n",
       "        })();\n",
       "      </script>\n",
       "    "
      ],
      "text/plain": [
       "<IPython.core.display.HTML object>"
      ]
     },
     "metadata": {},
     "output_type": "display_data"
    }
   ],
   "source": [
    "%tensorboard --logdir=$LOG_DIR"
   ]
  },
  {
   "cell_type": "markdown",
   "id": "55ac6fd2-87c4-4c35-9ad5-96ff18235297",
   "metadata": {},
   "source": [
    "### load trained policy"
   ]
  },
  {
   "cell_type": "code",
   "execution_count": 43,
   "id": "588302a5-f514-44db-807a-af741e78b1ef",
   "metadata": {},
   "outputs": [
    {
     "name": "stdout",
     "output_type": "stream",
     "text": [
      "gs://mabv1-hybrid-vertex-bucket/baseline-perarm-local-v1/run-20231004-130954/tb-logs/\n",
      "gs://mabv1-hybrid-vertex-bucket/baseline-perarm-local-v1/run-20231004-130954/tb-logs/checkpoint\n",
      "gs://mabv1-hybrid-vertex-bucket/baseline-perarm-local-v1/run-20231004-130954/tb-logs/ckpt-100.data-00000-of-00001\n",
      "gs://mabv1-hybrid-vertex-bucket/baseline-perarm-local-v1/run-20231004-130954/tb-logs/ckpt-100.index\n",
      "gs://mabv1-hybrid-vertex-bucket/baseline-perarm-local-v1/run-20231004-130954/tb-logs/ckpt-96.data-00000-of-00001\n",
      "gs://mabv1-hybrid-vertex-bucket/baseline-perarm-local-v1/run-20231004-130954/tb-logs/ckpt-96.index\n",
      "gs://mabv1-hybrid-vertex-bucket/baseline-perarm-local-v1/run-20231004-130954/tb-logs/ckpt-97.data-00000-of-00001\n",
      "gs://mabv1-hybrid-vertex-bucket/baseline-perarm-local-v1/run-20231004-130954/tb-logs/ckpt-97.index\n",
      "gs://mabv1-hybrid-vertex-bucket/baseline-perarm-local-v1/run-20231004-130954/tb-logs/ckpt-98.data-00000-of-00001\n",
      "gs://mabv1-hybrid-vertex-bucket/baseline-perarm-local-v1/run-20231004-130954/tb-logs/ckpt-98.index\n",
      "gs://mabv1-hybrid-vertex-bucket/baseline-perarm-local-v1/run-20231004-130954/tb-logs/ckpt-99.data-00000-of-00001\n",
      "gs://mabv1-hybrid-vertex-bucket/baseline-perarm-local-v1/run-20231004-130954/tb-logs/ckpt-99.index\n",
      "gs://mabv1-hybrid-vertex-bucket/baseline-perarm-local-v1/run-20231004-130954/tb-logs/events.out.tfevents.1696425019.jt-tfa-bandit-rankers-2023.3668078.0.v2\n",
      "gs://mabv1-hybrid-vertex-bucket/baseline-perarm-local-v1/run-20231004-130954/tb-logs/policy_256/\n"
     ]
    }
   ],
   "source": [
    "!gsutil ls $LOG_DIR"
   ]
  },
  {
   "cell_type": "code",
   "execution_count": 48,
   "id": "6e580390-784b-4d3c-8a19-35fa3c4a1a89",
   "metadata": {},
   "outputs": [],
   "source": [
    "# trained_policy = tf.saved_model.load(LOG_DIR)\n",
    "# trained_policy"
   ]
  },
  {
   "cell_type": "markdown",
   "id": "3e58e1c3-2005-41df-a1ad-a4fc285a4bda",
   "metadata": {},
   "source": [
    "# Make predictions"
   ]
  },
  {
   "cell_type": "code",
   "execution_count": 205,
   "id": "c9ab8477-c608-49f1-bcd5-cdc17b927d4f",
   "metadata": {},
   "outputs": [],
   "source": [
    "environment._u_hat\n",
    "\n",
    "sampled_user_ages = np.ones(BATCH_SIZE)\n",
    "sampled_user_occ = np.ones(BATCH_SIZE)\n",
    "\n",
    "SAMPLED_USER_INDICES = np.random.randint(NUM_USERS, size=BATCH_SIZE)\n",
    "SAMPLED_USER_INDICES\n",
    "\n",
    "combined_user_features = np.concatenate(\n",
    "    (\n",
    "        environment._u_hat[SAMPLED_USER_INDICES]\n",
    "        , sampled_user_ages.reshape(-1,1)\n",
    "        , sampled_user_occ.reshape(-1,1)\n",
    "    )\n",
    "    , axis=1\n",
    ")"
   ]
  },
  {
   "cell_type": "code",
   "execution_count": 206,
   "id": "cb70266c-a9e5-46af-b131-0c47569ade49",
   "metadata": {},
   "outputs": [
    {
     "data": {
      "text/plain": [
       "array([75, 30, 34,  2, 33, 96, 78, 85])"
      ]
     },
     "execution_count": 206,
     "metadata": {},
     "output_type": "execute_result"
    }
   ],
   "source": [
    "SAMPLED_USER_INDICES"
   ]
  },
  {
   "cell_type": "code",
   "execution_count": 210,
   "id": "00ca5868-d8e8-473e-9645-b43f377213f4",
   "metadata": {},
   "outputs": [],
   "source": [
    "sampled_u_hats_pred = environment._u_hat[SAMPLED_USER_INDICES]\n",
    "# sampled_u_hats_pred"
   ]
  },
  {
   "cell_type": "code",
   "execution_count": 204,
   "id": "79805063-2ecf-4176-a183-27438b1847ca",
   "metadata": {},
   "outputs": [
    {
     "data": {
      "text/plain": [
       "array([[-0.0658043 ,  0.00597506, -0.00613256, ...,  0.01743993,\n",
       "        -0.03573092,  0.03894605],\n",
       "       [-0.01402104, -0.04662602,  0.05257856, ...,  0.01171281,\n",
       "         0.01670101, -0.01658576],\n",
       "       [-0.00565798, -0.02561845,  0.02336183, ..., -0.01843041,\n",
       "        -0.02539826, -0.0020144 ],\n",
       "       ...,\n",
       "       [-0.00744452, -0.02502129,  0.00616532, ..., -0.03812664,\n",
       "         0.03884653,  0.01103627],\n",
       "       [-0.02403119,  0.00809611,  0.02288736, ..., -0.0200555 ,\n",
       "         0.00571077, -0.00570774],\n",
       "       [-0.04224209, -0.01092715, -0.05854604, ...,  0.02310407,\n",
       "        -0.03948996, -0.0340745 ]], dtype=float32)"
      ]
     },
     "execution_count": 204,
     "metadata": {},
     "output_type": "execute_result"
    }
   ],
   "source": [
    "environment._u_hat"
   ]
  },
  {
   "cell_type": "code",
   "execution_count": 212,
   "id": "23b9dffd-bd52-45ad-bc73-1acb0ce11ff2",
   "metadata": {},
   "outputs": [
    {
     "data": {
      "text/plain": [
       "(8, 22)"
      ]
     },
     "execution_count": 212,
     "metadata": {},
     "output_type": "execute_result"
    }
   ],
   "source": [
    "# user_ids_pred = np.array([1,2,3,4,5,6,7])\n",
    "user_age_pred = np.array([1,1,1,1,1,1,1,1])\n",
    "user_occ_pred = np.array([1,1,1,1,1,1,1,1])\n",
    "\n",
    "combined_user_features = np.concatenate(\n",
    "    (\n",
    "        # user_ids_pred\n",
    "        sampled_u_hats_pred\n",
    "        , user_age_pred.reshape(-1,1)\n",
    "        , user_occ_pred.reshape(-1,1)\n",
    "    )\n",
    "    , axis=1\n",
    ")\n",
    "\n",
    "combined_user_features.shape"
   ]
  },
  {
   "cell_type": "markdown",
   "id": "39f6e480-b01a-4b35-90fc-9220a26086c4",
   "metadata": {},
   "source": [
    "# Notes\n",
    "* debugging tips and things to consider"
   ]
  },
  {
   "cell_type": "markdown",
   "id": "833a4490-a64f-44fb-83c2-b0ddc5866b92",
   "metadata": {},
   "source": [
    "### Observation spec"
   ]
  },
  {
   "cell_type": "code",
   "execution_count": 189,
   "id": "4b02504c-ec8d-464f-b847-1d313f77f0f5",
   "metadata": {
    "collapsed": true,
    "jupyter": {
     "outputs_hidden": true
    },
    "tags": []
   },
   "outputs": [
    {
     "name": "stdout",
     "output_type": "stream",
     "text": [
      "observation_dict  : {'global': array([[0, 0, 0, 0, 0, 0, 0, 0, 0, 0, 0, 0, 0, 0, 0, 0, 0, 0, 0, 0, 0, 0],\n",
      "       [0, 0, 0, 0, 0, 0, 0, 0, 0, 0, 0, 0, 0, 0, 0, 0, 0, 0, 0, 0, 0, 0],\n",
      "       [0, 0, 0, 0, 0, 0, 0, 0, 0, 0, 0, 0, 0, 0, 0, 0, 0, 0, 0, 0, 0, 0],\n",
      "       [0, 0, 0, 0, 0, 0, 0, 0, 0, 0, 0, 0, 0, 0, 0, 0, 0, 0, 0, 0, 0, 0],\n",
      "       [0, 0, 0, 0, 0, 0, 0, 0, 0, 0, 0, 0, 0, 0, 0, 0, 0, 0, 0, 0, 0, 0],\n",
      "       [0, 0, 0, 0, 0, 0, 0, 0, 0, 0, 0, 0, 0, 0, 0, 0, 0, 0, 0, 0, 0, 0],\n",
      "       [0, 0, 0, 0, 0, 0, 0, 0, 0, 0, 0, 0, 0, 0, 0, 0, 0, 0, 0, 0, 0, 0],\n",
      "       [0, 0, 0, 0, 0, 0, 0, 0, 0, 0, 0, 0, 0, 0, 0, 0, 0, 0, 0, 0, 0, 0]],\n",
      "      dtype=int32), 'per_arm': array([[[0, 0, 0, ..., 0, 0, 0],\n",
      "        [0, 0, 0, ..., 0, 0, 0],\n",
      "        [0, 0, 0, ..., 0, 0, 0],\n",
      "        ...,\n",
      "        [0, 0, 0, ..., 0, 0, 0],\n",
      "        [0, 0, 0, ..., 0, 0, 0],\n",
      "        [0, 0, 0, ..., 0, 0, 0]],\n",
      "\n",
      "       [[0, 0, 0, ..., 0, 0, 0],\n",
      "        [0, 0, 0, ..., 0, 0, 0],\n",
      "        [0, 0, 0, ..., 0, 0, 0],\n",
      "        ...,\n",
      "        [0, 0, 0, ..., 0, 0, 0],\n",
      "        [0, 0, 0, ..., 0, 0, 0],\n",
      "        [0, 0, 0, ..., 0, 0, 0]],\n",
      "\n",
      "       [[0, 0, 0, ..., 0, 0, 0],\n",
      "        [0, 0, 0, ..., 0, 0, 0],\n",
      "        [0, 0, 0, ..., 0, 0, 0],\n",
      "        ...,\n",
      "        [0, 0, 0, ..., 0, 0, 0],\n",
      "        [0, 0, 0, ..., 0, 0, 0],\n",
      "        [0, 0, 0, ..., 0, 0, 0]],\n",
      "\n",
      "       ...,\n",
      "\n",
      "       [[0, 0, 0, ..., 0, 0, 0],\n",
      "        [0, 0, 0, ..., 0, 0, 0],\n",
      "        [0, 0, 0, ..., 0, 0, 0],\n",
      "        ...,\n",
      "        [0, 0, 0, ..., 0, 0, 0],\n",
      "        [0, 0, 0, ..., 0, 0, 0],\n",
      "        [0, 0, 0, ..., 0, 0, 0]],\n",
      "\n",
      "       [[0, 0, 0, ..., 0, 0, 0],\n",
      "        [0, 0, 0, ..., 0, 0, 0],\n",
      "        [0, 0, 0, ..., 0, 0, 0],\n",
      "        ...,\n",
      "        [0, 0, 0, ..., 0, 0, 0],\n",
      "        [0, 0, 0, ..., 0, 0, 0],\n",
      "        [0, 0, 0, ..., 0, 0, 0]],\n",
      "\n",
      "       [[0, 0, 0, ..., 0, 0, 0],\n",
      "        [0, 0, 0, ..., 0, 0, 0],\n",
      "        [0, 0, 0, ..., 0, 0, 0],\n",
      "        ...,\n",
      "        [0, 0, 0, ..., 0, 0, 0],\n",
      "        [0, 0, 0, ..., 0, 0, 0],\n",
      "        [0, 0, 0, ..., 0, 0, 0]]], dtype=int32)}\n"
     ]
    }
   ],
   "source": [
    "# observation_list = [list(np.ones(RANK_K + 2)) for _ in range(BATCH_SIZE)]\n",
    "# observation_list\n",
    "\n",
    "# batched_observations = {\n",
    "#     GLOBAL_KEY:\n",
    "#         tf.convert_to_tensor(combined_user_features, dtype=tf.float32),\n",
    "#     PER_ARM_KEY:\n",
    "#         tf.convert_to_tensor(current_movies, dtype=tf.float32),\n",
    "# }\n",
    "\n",
    "# batched_observations\n",
    "\n",
    "observation_dict = {\n",
    "    GLOBAL_KEY:\n",
    "        np.zeros([BATCH_SIZE, RANK_K + 2], dtype=np.int32), #making space like above for dimensions\n",
    "    PER_ARM_KEY:\n",
    "        np.zeros([BATCH_SIZE, NUM_ACTIONS, RANK_K + 1], dtype=np.int32),\n",
    "}\n",
    "\n",
    "print(f\"observation_dict  : {observation_dict}\")"
   ]
  },
  {
   "cell_type": "code",
   "execution_count": 193,
   "id": "29e6cca4-d25a-4262-86b9-af66f1592800",
   "metadata": {},
   "outputs": [
    {
     "data": {
      "text/plain": [
       "array([[-0.0658043 ,  0.00597506, -0.00613256, ...,  0.01743993,\n",
       "        -0.03573092,  0.03894605],\n",
       "       [-0.01402104, -0.04662602,  0.05257856, ...,  0.01171281,\n",
       "         0.01670101, -0.01658576],\n",
       "       [-0.00565798, -0.02561845,  0.02336183, ..., -0.01843041,\n",
       "        -0.02539826, -0.0020144 ],\n",
       "       ...,\n",
       "       [-0.00744452, -0.02502129,  0.00616532, ..., -0.03812664,\n",
       "         0.03884653,  0.01103627],\n",
       "       [-0.02403119,  0.00809611,  0.02288736, ..., -0.0200555 ,\n",
       "         0.00571077, -0.00570774],\n",
       "       [-0.04224209, -0.01092715, -0.05854604, ...,  0.02310407,\n",
       "        -0.03948996, -0.0340745 ]], dtype=float32)"
      ]
     },
     "execution_count": 193,
     "metadata": {},
     "output_type": "execute_result"
    }
   ],
   "source": [
    "environment._u_hat"
   ]
  },
  {
   "cell_type": "code",
   "execution_count": 198,
   "id": "17c1f756-ef80-4e79-89a0-21d1ac4cbc11",
   "metadata": {},
   "outputs": [
    {
     "data": {
      "text/plain": [
       "(943, 20)"
      ]
     },
     "execution_count": 198,
     "metadata": {},
     "output_type": "execute_result"
    }
   ],
   "source": [
    "env_u_hat = environment._u_hat\n",
    "env_u_hat.shape"
   ]
  },
  {
   "cell_type": "code",
   "execution_count": 202,
   "id": "279d3571-4c1d-40ea-9332-52b2527a9d40",
   "metadata": {},
   "outputs": [
    {
     "data": {
      "text/plain": [
       "numpy.ndarray"
      ]
     },
     "execution_count": 202,
     "metadata": {},
     "output_type": "execute_result"
    }
   ],
   "source": [
    "type(sampled_user_ages)"
   ]
  },
  {
   "cell_type": "code",
   "execution_count": 196,
   "id": "e477e53f-4baa-4383-8d22-d94689b5af99",
   "metadata": {},
   "outputs": [
    {
     "data": {
      "text/plain": [
       "(8, 22)"
      ]
     },
     "execution_count": 196,
     "metadata": {},
     "output_type": "execute_result"
    }
   ],
   "source": [
    "combined_user_features.shape"
   ]
  },
  {
   "cell_type": "code",
   "execution_count": null,
   "id": "9af77784-7855-49a9-8cbe-e6b6d96b5782",
   "metadata": {},
   "outputs": [],
   "source": [
    "batched_observations = {\n",
    "    GLOBAL_KEY:\n",
    "        self._u_hat[sampled_user_indices],\n",
    "    PER_ARM_KEY:\n",
    "        current_movies,\n",
    "}\n",
    "return batched_observations"
   ]
  },
  {
   "cell_type": "code",
   "execution_count": 191,
   "id": "d183ac62-c7d6-4564-bdc0-83274eab02ad",
   "metadata": {},
   "outputs": [
    {
     "data": {
      "text/plain": [
       "TimeStep(\n",
       "{'discount': array([1., 1., 1., 1., 1., 1., 1., 1.], dtype=float32),\n",
       " 'observation': {'global': array([[0, 0, 0, 0, 0, 0, 0, 0, 0, 0, 0, 0, 0, 0, 0, 0, 0, 0, 0, 0, 0, 0],\n",
       "       [0, 0, 0, 0, 0, 0, 0, 0, 0, 0, 0, 0, 0, 0, 0, 0, 0, 0, 0, 0, 0, 0],\n",
       "       [0, 0, 0, 0, 0, 0, 0, 0, 0, 0, 0, 0, 0, 0, 0, 0, 0, 0, 0, 0, 0, 0],\n",
       "       [0, 0, 0, 0, 0, 0, 0, 0, 0, 0, 0, 0, 0, 0, 0, 0, 0, 0, 0, 0, 0, 0],\n",
       "       [0, 0, 0, 0, 0, 0, 0, 0, 0, 0, 0, 0, 0, 0, 0, 0, 0, 0, 0, 0, 0, 0],\n",
       "       [0, 0, 0, 0, 0, 0, 0, 0, 0, 0, 0, 0, 0, 0, 0, 0, 0, 0, 0, 0, 0, 0],\n",
       "       [0, 0, 0, 0, 0, 0, 0, 0, 0, 0, 0, 0, 0, 0, 0, 0, 0, 0, 0, 0, 0, 0],\n",
       "       [0, 0, 0, 0, 0, 0, 0, 0, 0, 0, 0, 0, 0, 0, 0, 0, 0, 0, 0, 0, 0, 0]],\n",
       "      dtype=int32),\n",
       "                 'per_arm': array([[[0, 0, 0, ..., 0, 0, 0],\n",
       "        [0, 0, 0, ..., 0, 0, 0],\n",
       "        [0, 0, 0, ..., 0, 0, 0],\n",
       "        ...,\n",
       "        [0, 0, 0, ..., 0, 0, 0],\n",
       "        [0, 0, 0, ..., 0, 0, 0],\n",
       "        [0, 0, 0, ..., 0, 0, 0]],\n",
       "\n",
       "       [[0, 0, 0, ..., 0, 0, 0],\n",
       "        [0, 0, 0, ..., 0, 0, 0],\n",
       "        [0, 0, 0, ..., 0, 0, 0],\n",
       "        ...,\n",
       "        [0, 0, 0, ..., 0, 0, 0],\n",
       "        [0, 0, 0, ..., 0, 0, 0],\n",
       "        [0, 0, 0, ..., 0, 0, 0]],\n",
       "\n",
       "       [[0, 0, 0, ..., 0, 0, 0],\n",
       "        [0, 0, 0, ..., 0, 0, 0],\n",
       "        [0, 0, 0, ..., 0, 0, 0],\n",
       "        ...,\n",
       "        [0, 0, 0, ..., 0, 0, 0],\n",
       "        [0, 0, 0, ..., 0, 0, 0],\n",
       "        [0, 0, 0, ..., 0, 0, 0]],\n",
       "\n",
       "       ...,\n",
       "\n",
       "       [[0, 0, 0, ..., 0, 0, 0],\n",
       "        [0, 0, 0, ..., 0, 0, 0],\n",
       "        [0, 0, 0, ..., 0, 0, 0],\n",
       "        ...,\n",
       "        [0, 0, 0, ..., 0, 0, 0],\n",
       "        [0, 0, 0, ..., 0, 0, 0],\n",
       "        [0, 0, 0, ..., 0, 0, 0]],\n",
       "\n",
       "       [[0, 0, 0, ..., 0, 0, 0],\n",
       "        [0, 0, 0, ..., 0, 0, 0],\n",
       "        [0, 0, 0, ..., 0, 0, 0],\n",
       "        ...,\n",
       "        [0, 0, 0, ..., 0, 0, 0],\n",
       "        [0, 0, 0, ..., 0, 0, 0],\n",
       "        [0, 0, 0, ..., 0, 0, 0]],\n",
       "\n",
       "       [[0, 0, 0, ..., 0, 0, 0],\n",
       "        [0, 0, 0, ..., 0, 0, 0],\n",
       "        [0, 0, 0, ..., 0, 0, 0],\n",
       "        ...,\n",
       "        [0, 0, 0, ..., 0, 0, 0],\n",
       "        [0, 0, 0, ..., 0, 0, 0],\n",
       "        [0, 0, 0, ..., 0, 0, 0]]], dtype=int32)},\n",
       " 'reward': array([0., 0., 0., 0., 0., 0., 0., 0.], dtype=float32),\n",
       " 'step_type': array([0, 0, 0, 0, 0, 0, 0, 0], dtype=int32)})"
      ]
     },
     "execution_count": 191,
     "metadata": {},
     "output_type": "execute_result"
    }
   ],
   "source": [
    "time_step = tf_agents.trajectories.restart(\n",
    "    observation=observation_dict,\n",
    "    batch_size=tf.convert_to_tensor([BATCH_SIZE]),\n",
    ")\n",
    "time_step"
   ]
  },
  {
   "cell_type": "code",
   "execution_count": null,
   "id": "a68d3fc4-69f3-4c92-a8a0-738b57937963",
   "metadata": {},
   "outputs": [],
   "source": [
    "action_step = trained_policy.action(time_step)\n",
    "action_step.action.numpy().tolist()"
   ]
  },
  {
   "cell_type": "code",
   "execution_count": 184,
   "id": "d894e533-1adb-46ad-b2b7-690d4910a1ef",
   "metadata": {},
   "outputs": [
    {
     "data": {
      "text/plain": [
       "[10, 17, 10, 15, 0, 14, 1, 15]"
      ]
     },
     "execution_count": 184,
     "metadata": {},
     "output_type": "execute_result"
    }
   ],
   "source": [
    "observation_array = environment._observe()\n",
    "\n",
    "time_step = tf_agents.trajectories.restart(\n",
    "    observation=observation_array,\n",
    "    batch_size=tf.convert_to_tensor([BATCH_SIZE]),\n",
    ")\n",
    "\n",
    "action_step = trained_policy.action(time_step)\n",
    "\n",
    "action_step.action.numpy().tolist()"
   ]
  },
  {
   "cell_type": "markdown",
   "id": "180dd65b-3eb7-453f-a406-736e657e4b69",
   "metadata": {},
   "source": [
    "### debugging"
   ]
  },
  {
   "cell_type": "code",
   "execution_count": 122,
   "id": "c1347b22-95ad-4659-aa1b-5542322f9928",
   "metadata": {
    "tags": []
   },
   "outputs": [
    {
     "data": {
      "text/plain": [
       "{'global': <tf.Tensor: shape=(8, 22), dtype=float32, numpy=\n",
       " array([[-1.2873987e-02, -2.1390352e-02,  4.6473794e-02,  1.2905279e-02,\n",
       "          1.8002745e-02,  1.7323282e-02,  4.0619403e-02, -1.8831192e-03,\n",
       "          3.5232522e-02, -4.7737733e-02,  3.5911977e-02,  2.8632969e-02,\n",
       "          1.5208208e-03, -8.5478518e-03, -1.0778209e-02,  4.2909261e-02,\n",
       "          4.1823767e-02,  2.3449438e-03, -2.0098533e-02,  5.6047082e-02,\n",
       "          3.0000999e+00,  2.0000999e+00],\n",
       "        [-1.7549284e-02,  3.1996551e-03,  1.8386850e-02,  1.2473919e-02,\n",
       "          4.3198387e-03, -3.2752186e-02,  4.4371351e-03, -1.9762106e-02,\n",
       "          1.8484747e-02, -2.2252942e-03,  1.6091483e-02,  1.3519984e-02,\n",
       "         -1.0761653e-02,  8.0836611e-03, -1.6782213e-02, -4.3056097e-02,\n",
       "          6.2738741e-03,  4.5072705e-02,  3.1135675e-02, -3.9139803e-02,\n",
       "          2.0000999e+00,  6.0001001e+00],\n",
       "        [-3.9113931e-02,  2.2795230e-02,  5.0533485e-02, -1.0424367e-02,\n",
       "          2.6395298e-03,  4.1149292e-02, -3.2692634e-02, -7.8519657e-02,\n",
       "         -4.8243895e-02, -2.7656512e-02, -2.0028943e-02,  4.0305164e-02,\n",
       "         -6.9849446e-02, -6.1262265e-02, -2.4702676e-02,  3.0071849e-02,\n",
       "         -1.4172895e-02,  3.9096251e-03, -9.3963020e-02,  1.0849109e-02,\n",
       "          3.0000999e+00,  1.0001000e+00],\n",
       "        [-2.2663567e-03, -1.2628444e-02,  9.8473970e-03, -1.2694818e-02,\n",
       "         -1.0959377e-02,  1.9858012e-04,  3.1304575e-04,  4.7121397e-03,\n",
       "         -1.2588921e-02, -8.7891007e-03,  3.1366097e-03, -1.2273650e-02,\n",
       "         -8.3603797e-04,  4.6333144e-03, -4.7809560e-02,  6.3083405e-03,\n",
       "          4.9088523e-04, -4.4955194e-04, -1.8104333e-02,  1.3597207e-02,\n",
       "          6.0001001e+00,  7.0001001e+00],\n",
       "        [-2.2167875e-02,  1.2536277e-02, -1.7687703e-02, -3.4533106e-03,\n",
       "         -9.7395561e-04, -3.9468765e-02, -5.0388258e-03, -5.2861206e-02,\n",
       "         -1.1303232e-02,  2.0371899e-03,  3.3693574e-02, -2.4683505e-02,\n",
       "         -5.8054896e-03,  6.1930665e-03,  1.0427003e-02,  4.1616924e-02,\n",
       "         -1.5383828e-02, -3.2544232e-03, -2.5327120e-02, -1.2492494e-02,\n",
       "          1.0001000e+00,  1.0000100e+01],\n",
       "        [-4.1911234e-03, -2.1382326e-02,  2.2324307e-02, -2.7237877e-02,\n",
       "         -3.2178011e-02,  2.3002455e-03,  8.8810585e-03, -4.1775783e-03,\n",
       "         -2.1771407e-03, -4.8314328e-03, -6.9652050e-04, -7.2319941e-03,\n",
       "          3.6515722e-03,  3.7923125e-03,  1.4353522e-02, -1.3905171e-02,\n",
       "          2.1384411e-02,  8.0052391e-03,  1.0051272e-02, -8.3712366e-05,\n",
       "          3.0000999e+00,  1.0001000e+00],\n",
       "        [-4.6851360e-03, -2.6658496e-02,  2.3727177e-02, -4.4710722e-02,\n",
       "         -3.5555456e-02,  5.8987434e-04,  4.9641971e-03, -5.0817900e-03,\n",
       "         -3.4699070e-03, -1.3401484e-03, -1.8579310e-02, -1.8398866e-02,\n",
       "          6.5504727e-03,  2.7638904e-03,  2.1280380e-02, -6.1360123e-03,\n",
       "          1.9883523e-02,  6.9567114e-03,  3.0264968e-02,  3.4094385e-03,\n",
       "          4.0001001e+00,  1.0000100e+01],\n",
       "        [-4.0815556e-03, -2.1441216e-02,  2.0187514e-02, -1.8101037e-02,\n",
       "         -3.3084545e-02,  1.9783156e-03,  1.2061572e-02,  5.3611257e-06,\n",
       "         -1.8473940e-02, -3.0445675e-03,  4.2965794e-03, -6.1851898e-03,\n",
       "         -1.6279216e-03, -7.1232617e-03, -2.3565523e-02, -7.6087648e-03,\n",
       "          3.2481069e-03, -9.5731067e-03, -2.6677027e-02,  1.7741676e-02,\n",
       "          1.0001000e+00,  1.6000099e+01]], dtype=float32)>,\n",
       " 'per_arm': <tf.Tensor: shape=(8, 20, 21), dtype=float32, numpy=\n",
       " array([[[-2.45361007e-03, -2.92136287e-03, -5.75422216e-03, ...,\n",
       "          -4.81287250e-04, -2.11178837e-03,  1.00010002e+00],\n",
       "         [-3.05079102e-05, -3.14309873e-04,  1.38755247e-04, ...,\n",
       "          -1.36341993e-03, -4.51916800e-04,  9.99999975e-05],\n",
       "         [-3.79535579e-03, -3.25503119e-04,  5.68946963e-03, ...,\n",
       "          -1.94089692e-02, -1.90546121e-02,  4.00010014e+00],\n",
       "         ...,\n",
       "         [-1.11329940e-03,  1.43702328e-03,  2.02982780e-03, ...,\n",
       "           2.78853159e-03,  1.29813673e-02,  3.00009990e+00],\n",
       "         [-4.07728627e-02,  3.73689756e-02,  4.69364822e-02, ...,\n",
       "          -1.80372801e-02,  3.16854753e-02,  7.00010014e+00],\n",
       "         [-1.37804542e-03, -2.85017828e-04, -2.67751236e-03, ...,\n",
       "           5.52168535e-03,  3.16262455e-03,  9.99999975e-05]],\n",
       " \n",
       "        [[-1.20330823e-03, -4.98745264e-03,  1.50035985e-03, ...,\n",
       "          -9.95009579e-03,  4.25171480e-03,  5.00010014e+00],\n",
       "         [-1.68291898e-03, -1.32073625e-03, -4.95322561e-03, ...,\n",
       "           5.22100972e-03, -4.80568316e-03,  7.00010014e+00],\n",
       "         [-3.23382020e-02, -6.03822321e-02,  3.86517085e-02, ...,\n",
       "           5.63373119e-02,  2.24683322e-02,  9.99999975e-05],\n",
       "         ...,\n",
       "         [-2.24759593e-03, -2.71949032e-03,  9.98066831e-03, ...,\n",
       "          -5.07900119e-03,  8.86321254e-03,  9.99999975e-05],\n",
       "         [-9.20904786e-05, -2.85553942e-05, -1.99222864e-04, ...,\n",
       "          -1.73619163e-04, -1.20851997e-04,  1.50001001e+01],\n",
       "         [-2.91126333e-02, -3.90886003e-03, -3.06362808e-02, ...,\n",
       "           6.04755320e-02,  1.81077956e-03,  7.00010014e+00]],\n",
       " \n",
       "        [[-6.49211556e-03, -1.87542066e-02, -8.78968742e-03, ...,\n",
       "          -1.51654659e-02, -2.36299913e-02,  3.00009990e+00],\n",
       "         [-1.42169390e-02,  2.19279267e-02,  1.61169395e-02, ...,\n",
       "          -2.56459811e-03,  2.46088132e-02,  9.99999975e-05],\n",
       "         [-3.83604225e-03, -4.63060220e-04,  8.44266091e-04, ...,\n",
       "           7.53060158e-04,  5.40694175e-03,  7.00010014e+00],\n",
       "         ...,\n",
       "         [-2.20500771e-03, -5.73565811e-03,  8.58613476e-03, ...,\n",
       "          -9.98645835e-03,  1.04255800e-03,  9.99999975e-05],\n",
       "         [-8.82324353e-02,  3.06533072e-02,  1.75767783e-02, ...,\n",
       "          -3.41812405e-03, -3.69071998e-02,  9.99999975e-05],\n",
       "         [-3.38992081e-03,  3.99953499e-03,  9.26515460e-03, ...,\n",
       "           1.49930781e-03,  4.63056099e-03,  9.99999975e-05]],\n",
       " \n",
       "        ...,\n",
       " \n",
       "        [[-4.33196463e-02, -1.42904953e-03, -6.44150702e-03, ...,\n",
       "          -4.44425531e-02, -1.63391158e-02,  7.00010014e+00],\n",
       "         [-2.71668006e-03, -1.60325447e-03, -8.78070714e-05, ...,\n",
       "           2.88806227e-03, -7.07147643e-03,  7.00010014e+00],\n",
       "         [-3.99636710e-03, -1.01199951e-02,  7.84650911e-03, ...,\n",
       "          -1.56412758e-02,  1.05380290e-03,  4.00010014e+00],\n",
       "         ...,\n",
       "         [-2.07843888e-03, -4.74509830e-03,  4.31946618e-03, ...,\n",
       "          -1.23380814e-02, -3.30665614e-03,  1.00001001e+01],\n",
       "         [-3.13063711e-02,  4.16836672e-04, -9.87183955e-03, ...,\n",
       "          -1.77202765e-02, -1.57370660e-02,  7.00010014e+00],\n",
       "         [-1.76518485e-02, -3.04364171e-02, -1.84713025e-02, ...,\n",
       "          -1.92363989e-02, -2.81894952e-02,  7.00010014e+00]],\n",
       " \n",
       "        [[-1.06811300e-02,  1.81978494e-02,  1.93559676e-02, ...,\n",
       "           3.37250158e-02, -4.07577900e-04,  9.99999975e-05],\n",
       "         [-3.38634327e-02,  1.61442608e-02, -1.10798869e-02, ...,\n",
       "           1.74906440e-02, -1.60444509e-02,  4.00010014e+00],\n",
       "         [-9.57235534e-05,  2.19103051e-04, -2.45190895e-04, ...,\n",
       "           1.42034236e-03, -1.59646734e-03,  7.00010014e+00],\n",
       "         ...,\n",
       "         [-2.77776234e-02,  1.26524188e-03, -4.66899984e-02, ...,\n",
       "           2.93325458e-04,  2.61382945e-02,  1.00010002e+00],\n",
       "         [-6.34083117e-04, -4.70469211e-04, -1.21125160e-03, ...,\n",
       "           2.29137787e-03,  3.57117085e-03,  7.00010014e+00],\n",
       "         [-8.52288038e-04,  9.69147484e-04,  1.30425498e-03, ...,\n",
       "          -3.68028507e-03,  3.79158417e-04,  5.00010014e+00]],\n",
       " \n",
       "        [[-4.28768653e-05, -5.75652753e-04,  5.00363007e-04, ...,\n",
       "           2.61078618e-04, -3.10227653e-04,  7.00010014e+00],\n",
       "         [-7.59480172e-04, -1.38399715e-03,  4.63851867e-03, ...,\n",
       "          -5.15667070e-03,  1.70866144e-03,  4.00010014e+00],\n",
       "         [-4.05767420e-03, -6.32916577e-03,  9.61427484e-03, ...,\n",
       "          -2.26913430e-02, -2.29998287e-02,  9.99999975e-05],\n",
       "         ...,\n",
       "         [-5.37639891e-04, -5.24676405e-04, -7.10247376e-04, ...,\n",
       "          -3.04722297e-03, -5.76995197e-04,  9.99999975e-05],\n",
       "         [-8.30628350e-03,  8.67146906e-03, -1.03562595e-02, ...,\n",
       "          -7.58770155e-03,  3.17260064e-02,  1.00001001e+01],\n",
       "         [-9.89714358e-03, -1.74833331e-02, -1.80335995e-02, ...,\n",
       "          -1.06928870e-02, -6.26652502e-03,  1.00001001e+01]]],\n",
       "       dtype=float32)>}"
      ]
     },
     "execution_count": 122,
     "metadata": {},
     "output_type": "execute_result"
    }
   ],
   "source": [
    "observation_array = environment._observe()\n",
    "observation_array"
   ]
  },
  {
   "cell_type": "code",
   "execution_count": 123,
   "id": "5f8c4b93-79a9-40ce-a0f4-89730044d97e",
   "metadata": {},
   "outputs": [
    {
     "data": {
      "text/plain": [
       "TimeStep(\n",
       "{'discount': <tf.Tensor: shape=(8,), dtype=float32, numpy=array([1., 1., 1., 1., 1., 1., 1., 1.], dtype=float32)>,\n",
       " 'observation': {'global': <tf.Tensor: shape=(8, 22), dtype=float32, numpy=\n",
       "array([[-1.2873987e-02, -2.1390352e-02,  4.6473794e-02,  1.2905279e-02,\n",
       "         1.8002745e-02,  1.7323282e-02,  4.0619403e-02, -1.8831192e-03,\n",
       "         3.5232522e-02, -4.7737733e-02,  3.5911977e-02,  2.8632969e-02,\n",
       "         1.5208208e-03, -8.5478518e-03, -1.0778209e-02,  4.2909261e-02,\n",
       "         4.1823767e-02,  2.3449438e-03, -2.0098533e-02,  5.6047082e-02,\n",
       "         3.0000999e+00,  2.0000999e+00],\n",
       "       [-1.7549284e-02,  3.1996551e-03,  1.8386850e-02,  1.2473919e-02,\n",
       "         4.3198387e-03, -3.2752186e-02,  4.4371351e-03, -1.9762106e-02,\n",
       "         1.8484747e-02, -2.2252942e-03,  1.6091483e-02,  1.3519984e-02,\n",
       "        -1.0761653e-02,  8.0836611e-03, -1.6782213e-02, -4.3056097e-02,\n",
       "         6.2738741e-03,  4.5072705e-02,  3.1135675e-02, -3.9139803e-02,\n",
       "         2.0000999e+00,  6.0001001e+00],\n",
       "       [-3.9113931e-02,  2.2795230e-02,  5.0533485e-02, -1.0424367e-02,\n",
       "         2.6395298e-03,  4.1149292e-02, -3.2692634e-02, -7.8519657e-02,\n",
       "        -4.8243895e-02, -2.7656512e-02, -2.0028943e-02,  4.0305164e-02,\n",
       "        -6.9849446e-02, -6.1262265e-02, -2.4702676e-02,  3.0071849e-02,\n",
       "        -1.4172895e-02,  3.9096251e-03, -9.3963020e-02,  1.0849109e-02,\n",
       "         3.0000999e+00,  1.0001000e+00],\n",
       "       [-2.2663567e-03, -1.2628444e-02,  9.8473970e-03, -1.2694818e-02,\n",
       "        -1.0959377e-02,  1.9858012e-04,  3.1304575e-04,  4.7121397e-03,\n",
       "        -1.2588921e-02, -8.7891007e-03,  3.1366097e-03, -1.2273650e-02,\n",
       "        -8.3603797e-04,  4.6333144e-03, -4.7809560e-02,  6.3083405e-03,\n",
       "         4.9088523e-04, -4.4955194e-04, -1.8104333e-02,  1.3597207e-02,\n",
       "         6.0001001e+00,  7.0001001e+00],\n",
       "       [-2.2167875e-02,  1.2536277e-02, -1.7687703e-02, -3.4533106e-03,\n",
       "        -9.7395561e-04, -3.9468765e-02, -5.0388258e-03, -5.2861206e-02,\n",
       "        -1.1303232e-02,  2.0371899e-03,  3.3693574e-02, -2.4683505e-02,\n",
       "        -5.8054896e-03,  6.1930665e-03,  1.0427003e-02,  4.1616924e-02,\n",
       "        -1.5383828e-02, -3.2544232e-03, -2.5327120e-02, -1.2492494e-02,\n",
       "         1.0001000e+00,  1.0000100e+01],\n",
       "       [-4.1911234e-03, -2.1382326e-02,  2.2324307e-02, -2.7237877e-02,\n",
       "        -3.2178011e-02,  2.3002455e-03,  8.8810585e-03, -4.1775783e-03,\n",
       "        -2.1771407e-03, -4.8314328e-03, -6.9652050e-04, -7.2319941e-03,\n",
       "         3.6515722e-03,  3.7923125e-03,  1.4353522e-02, -1.3905171e-02,\n",
       "         2.1384411e-02,  8.0052391e-03,  1.0051272e-02, -8.3712366e-05,\n",
       "         3.0000999e+00,  1.0001000e+00],\n",
       "       [-4.6851360e-03, -2.6658496e-02,  2.3727177e-02, -4.4710722e-02,\n",
       "        -3.5555456e-02,  5.8987434e-04,  4.9641971e-03, -5.0817900e-03,\n",
       "        -3.4699070e-03, -1.3401484e-03, -1.8579310e-02, -1.8398866e-02,\n",
       "         6.5504727e-03,  2.7638904e-03,  2.1280380e-02, -6.1360123e-03,\n",
       "         1.9883523e-02,  6.9567114e-03,  3.0264968e-02,  3.4094385e-03,\n",
       "         4.0001001e+00,  1.0000100e+01],\n",
       "       [-4.0815556e-03, -2.1441216e-02,  2.0187514e-02, -1.8101037e-02,\n",
       "        -3.3084545e-02,  1.9783156e-03,  1.2061572e-02,  5.3611257e-06,\n",
       "        -1.8473940e-02, -3.0445675e-03,  4.2965794e-03, -6.1851898e-03,\n",
       "        -1.6279216e-03, -7.1232617e-03, -2.3565523e-02, -7.6087648e-03,\n",
       "         3.2481069e-03, -9.5731067e-03, -2.6677027e-02,  1.7741676e-02,\n",
       "         1.0001000e+00,  1.6000099e+01]], dtype=float32)>,\n",
       "                 'per_arm': <tf.Tensor: shape=(8, 20, 21), dtype=float32, numpy=\n",
       "array([[[-2.45361007e-03, -2.92136287e-03, -5.75422216e-03, ...,\n",
       "         -4.81287250e-04, -2.11178837e-03,  1.00010002e+00],\n",
       "        [-3.05079102e-05, -3.14309873e-04,  1.38755247e-04, ...,\n",
       "         -1.36341993e-03, -4.51916800e-04,  9.99999975e-05],\n",
       "        [-3.79535579e-03, -3.25503119e-04,  5.68946963e-03, ...,\n",
       "         -1.94089692e-02, -1.90546121e-02,  4.00010014e+00],\n",
       "        ...,\n",
       "        [-1.11329940e-03,  1.43702328e-03,  2.02982780e-03, ...,\n",
       "          2.78853159e-03,  1.29813673e-02,  3.00009990e+00],\n",
       "        [-4.07728627e-02,  3.73689756e-02,  4.69364822e-02, ...,\n",
       "         -1.80372801e-02,  3.16854753e-02,  7.00010014e+00],\n",
       "        [-1.37804542e-03, -2.85017828e-04, -2.67751236e-03, ...,\n",
       "          5.52168535e-03,  3.16262455e-03,  9.99999975e-05]],\n",
       "\n",
       "       [[-1.20330823e-03, -4.98745264e-03,  1.50035985e-03, ...,\n",
       "         -9.95009579e-03,  4.25171480e-03,  5.00010014e+00],\n",
       "        [-1.68291898e-03, -1.32073625e-03, -4.95322561e-03, ...,\n",
       "          5.22100972e-03, -4.80568316e-03,  7.00010014e+00],\n",
       "        [-3.23382020e-02, -6.03822321e-02,  3.86517085e-02, ...,\n",
       "          5.63373119e-02,  2.24683322e-02,  9.99999975e-05],\n",
       "        ...,\n",
       "        [-2.24759593e-03, -2.71949032e-03,  9.98066831e-03, ...,\n",
       "         -5.07900119e-03,  8.86321254e-03,  9.99999975e-05],\n",
       "        [-9.20904786e-05, -2.85553942e-05, -1.99222864e-04, ...,\n",
       "         -1.73619163e-04, -1.20851997e-04,  1.50001001e+01],\n",
       "        [-2.91126333e-02, -3.90886003e-03, -3.06362808e-02, ...,\n",
       "          6.04755320e-02,  1.81077956e-03,  7.00010014e+00]],\n",
       "\n",
       "       [[-6.49211556e-03, -1.87542066e-02, -8.78968742e-03, ...,\n",
       "         -1.51654659e-02, -2.36299913e-02,  3.00009990e+00],\n",
       "        [-1.42169390e-02,  2.19279267e-02,  1.61169395e-02, ...,\n",
       "         -2.56459811e-03,  2.46088132e-02,  9.99999975e-05],\n",
       "        [-3.83604225e-03, -4.63060220e-04,  8.44266091e-04, ...,\n",
       "          7.53060158e-04,  5.40694175e-03,  7.00010014e+00],\n",
       "        ...,\n",
       "        [-2.20500771e-03, -5.73565811e-03,  8.58613476e-03, ...,\n",
       "         -9.98645835e-03,  1.04255800e-03,  9.99999975e-05],\n",
       "        [-8.82324353e-02,  3.06533072e-02,  1.75767783e-02, ...,\n",
       "         -3.41812405e-03, -3.69071998e-02,  9.99999975e-05],\n",
       "        [-3.38992081e-03,  3.99953499e-03,  9.26515460e-03, ...,\n",
       "          1.49930781e-03,  4.63056099e-03,  9.99999975e-05]],\n",
       "\n",
       "       ...,\n",
       "\n",
       "       [[-4.33196463e-02, -1.42904953e-03, -6.44150702e-03, ...,\n",
       "         -4.44425531e-02, -1.63391158e-02,  7.00010014e+00],\n",
       "        [-2.71668006e-03, -1.60325447e-03, -8.78070714e-05, ...,\n",
       "          2.88806227e-03, -7.07147643e-03,  7.00010014e+00],\n",
       "        [-3.99636710e-03, -1.01199951e-02,  7.84650911e-03, ...,\n",
       "         -1.56412758e-02,  1.05380290e-03,  4.00010014e+00],\n",
       "        ...,\n",
       "        [-2.07843888e-03, -4.74509830e-03,  4.31946618e-03, ...,\n",
       "         -1.23380814e-02, -3.30665614e-03,  1.00001001e+01],\n",
       "        [-3.13063711e-02,  4.16836672e-04, -9.87183955e-03, ...,\n",
       "         -1.77202765e-02, -1.57370660e-02,  7.00010014e+00],\n",
       "        [-1.76518485e-02, -3.04364171e-02, -1.84713025e-02, ...,\n",
       "         -1.92363989e-02, -2.81894952e-02,  7.00010014e+00]],\n",
       "\n",
       "       [[-1.06811300e-02,  1.81978494e-02,  1.93559676e-02, ...,\n",
       "          3.37250158e-02, -4.07577900e-04,  9.99999975e-05],\n",
       "        [-3.38634327e-02,  1.61442608e-02, -1.10798869e-02, ...,\n",
       "          1.74906440e-02, -1.60444509e-02,  4.00010014e+00],\n",
       "        [-9.57235534e-05,  2.19103051e-04, -2.45190895e-04, ...,\n",
       "          1.42034236e-03, -1.59646734e-03,  7.00010014e+00],\n",
       "        ...,\n",
       "        [-2.77776234e-02,  1.26524188e-03, -4.66899984e-02, ...,\n",
       "          2.93325458e-04,  2.61382945e-02,  1.00010002e+00],\n",
       "        [-6.34083117e-04, -4.70469211e-04, -1.21125160e-03, ...,\n",
       "          2.29137787e-03,  3.57117085e-03,  7.00010014e+00],\n",
       "        [-8.52288038e-04,  9.69147484e-04,  1.30425498e-03, ...,\n",
       "         -3.68028507e-03,  3.79158417e-04,  5.00010014e+00]],\n",
       "\n",
       "       [[-4.28768653e-05, -5.75652753e-04,  5.00363007e-04, ...,\n",
       "          2.61078618e-04, -3.10227653e-04,  7.00010014e+00],\n",
       "        [-7.59480172e-04, -1.38399715e-03,  4.63851867e-03, ...,\n",
       "         -5.15667070e-03,  1.70866144e-03,  4.00010014e+00],\n",
       "        [-4.05767420e-03, -6.32916577e-03,  9.61427484e-03, ...,\n",
       "         -2.26913430e-02, -2.29998287e-02,  9.99999975e-05],\n",
       "        ...,\n",
       "        [-5.37639891e-04, -5.24676405e-04, -7.10247376e-04, ...,\n",
       "         -3.04722297e-03, -5.76995197e-04,  9.99999975e-05],\n",
       "        [-8.30628350e-03,  8.67146906e-03, -1.03562595e-02, ...,\n",
       "         -7.58770155e-03,  3.17260064e-02,  1.00001001e+01],\n",
       "        [-9.89714358e-03, -1.74833331e-02, -1.80335995e-02, ...,\n",
       "         -1.06928870e-02, -6.26652502e-03,  1.00001001e+01]]],\n",
       "      dtype=float32)>},\n",
       " 'reward': <tf.Tensor: shape=(8,), dtype=float32, numpy=array([0., 0., 0., 0., 0., 0., 0., 0.], dtype=float32)>,\n",
       " 'step_type': <tf.Tensor: shape=(8,), dtype=int32, numpy=array([0, 0, 0, 0, 0, 0, 0, 0], dtype=int32)>})"
      ]
     },
     "execution_count": 123,
     "metadata": {},
     "output_type": "execute_result"
    }
   ],
   "source": [
    "import tf_agents\n",
    "\n",
    "time_step = tf_agents.trajectories.restart(\n",
    "    observation=observation_array,\n",
    "    batch_size=tf.convert_to_tensor([BATCH_SIZE]),\n",
    ")\n",
    "time_step"
   ]
  },
  {
   "cell_type": "code",
   "execution_count": 124,
   "id": "998fcca0-9388-4070-a8d2-aad4b4f594fe",
   "metadata": {},
   "outputs": [
    {
     "data": {
      "text/plain": [
       "PolicyStep(action=<tf.Tensor: shape=(8,), dtype=int32, numpy=array([18,  4, 18,  8, 18,  6, 17, 14], dtype=int32)>, state=(), info=PerArmPolicyInfo(log_probability=(), predicted_rewards_mean=(), multiobjective_scalarized_predicted_rewards_mean=(), predicted_rewards_optimistic=(), predicted_rewards_sampled=(), bandit_policy_type=(), chosen_arm_features=<tf.Tensor: shape=(8, 21), dtype=float32, numpy=\n",
       "array([[-4.07728627e-02,  3.73689756e-02,  4.69364822e-02,\n",
       "        -1.36779407e-02,  4.09221426e-02,  7.41495490e-02,\n",
       "         2.38642823e-02, -2.87586208e-02,  7.93194398e-02,\n",
       "        -9.33892429e-02, -6.31138384e-02,  1.45214591e-02,\n",
       "        -2.04371829e-02, -3.38719003e-02, -3.12873907e-02,\n",
       "         1.15584182e-02, -2.91644130e-03,  1.69797353e-02,\n",
       "        -1.80372801e-02,  3.16854753e-02,  7.00010014e+00],\n",
       "       [-9.31553021e-02,  2.30988413e-02, -4.64833453e-02,\n",
       "        -4.15738858e-03, -4.10822546e-03, -1.66582465e-02,\n",
       "         1.56104028e-01, -3.71573344e-02, -3.01199071e-02,\n",
       "         4.21681032e-02, -5.88604771e-02, -3.97748798e-02,\n",
       "        -1.11259654e-01, -6.23396151e-02, -2.41564102e-02,\n",
       "        -5.13379462e-02, -7.10714236e-03,  2.41655093e-02,\n",
       "        -4.31774668e-02, -5.73795289e-02,  9.99999975e-05],\n",
       "       [-8.82324353e-02,  3.06533072e-02,  1.75767783e-02,\n",
       "        -2.63533108e-02,  4.23102118e-02, -7.91078899e-03,\n",
       "        -2.85310466e-02, -2.10500672e-01, -3.11932191e-02,\n",
       "         1.74277946e-02, -5.03268540e-02,  8.78900662e-02,\n",
       "         5.81769198e-02,  4.17553261e-02, -6.89416006e-02,\n",
       "        -1.11602275e-02,  4.03245203e-02,  6.19316809e-02,\n",
       "        -3.41812405e-03, -3.69071998e-02,  9.99999975e-05],\n",
       "       [-8.08746293e-02,  2.10797470e-02, -5.09998389e-02,\n",
       "         3.92500013e-02, -8.19609091e-02, -9.39707160e-02,\n",
       "         1.74429733e-02, -1.10248290e-02,  4.30527329e-02,\n",
       "        -8.26750621e-02, -1.01708155e-02,  9.23709292e-03,\n",
       "        -7.84891173e-02,  3.73213142e-02,  3.32216322e-02,\n",
       "        -2.25259643e-02, -5.70911095e-02,  1.82144493e-02,\n",
       "        -3.97694632e-02, -2.91890115e-03,  9.99999975e-05],\n",
       "       [-6.10209629e-02, -1.24717616e-01,  8.87469724e-02,\n",
       "        -1.55724853e-01, -1.05198823e-01,  9.72299278e-03,\n",
       "         4.45707254e-02, -2.88579371e-02, -2.56256126e-02,\n",
       "        -9.74794757e-03, -5.66305108e-02,  7.25218430e-02,\n",
       "         5.90866338e-03,  2.20090114e-02,  2.44719416e-01,\n",
       "         1.16708688e-02,  2.19240606e-01, -4.08418961e-02,\n",
       "         1.14927888e-01,  7.58887967e-03,  9.99999975e-05],\n",
       "       [-7.84080848e-02,  2.04515178e-02, -5.14324717e-02,\n",
       "        -4.29082327e-02,  2.93800309e-02, -9.71257873e-03,\n",
       "         2.81866025e-02, -8.39408487e-02, -4.48698699e-02,\n",
       "         3.35951033e-03, -2.52580829e-02,  4.30716015e-02,\n",
       "         2.02637482e-02,  1.02797426e-01, -5.76781929e-02,\n",
       "        -5.67455366e-02, -1.36804464e-03, -6.83914870e-02,\n",
       "        -4.25246358e-03, -3.63940038e-02,  4.00010014e+00],\n",
       "       [-2.77776234e-02,  1.26524188e-03, -4.66899984e-02,\n",
       "        -1.90920681e-02, -3.14943530e-02, -1.72748454e-02,\n",
       "         1.15352524e-02,  4.15332019e-02,  5.71609139e-02,\n",
       "        -6.20739311e-02,  4.39759679e-02, -1.34277679e-02,\n",
       "         4.34905998e-02,  3.72010395e-02,  2.89525073e-02,\n",
       "        -6.74220920e-03,  2.95090303e-03, -1.65622737e-02,\n",
       "         2.93325458e-04,  2.61382945e-02,  1.00010002e+00],\n",
       "       [-6.36621118e-02, -1.32046521e-01,  2.51102913e-02,\n",
       "        -9.67510492e-02, -1.62268989e-02, -5.29066771e-02,\n",
       "         2.34329631e-03,  1.62236616e-02, -9.34461430e-02,\n",
       "         8.43402464e-03, -2.53591519e-02, -9.94303823e-02,\n",
       "        -4.57088985e-02,  9.00954474e-03, -2.06989780e-01,\n",
       "         4.35381010e-02,  2.56925914e-02, -9.26750805e-03,\n",
       "         8.94687511e-03,  1.20044626e-01,  9.99999975e-05]], dtype=float32)>))"
      ]
     },
     "execution_count": 124,
     "metadata": {},
     "output_type": "execute_result"
    }
   ],
   "source": [
    "action_step = trained_policy.action(time_step)\n",
    "action_step"
   ]
  },
  {
   "cell_type": "code",
   "execution_count": 125,
   "id": "467e46da-f9c1-4763-afee-4c398ac2bec1",
   "metadata": {},
   "outputs": [
    {
     "data": {
      "text/plain": [
       "[18, 4, 18, 8, 18, 6, 17, 14]"
      ]
     },
     "execution_count": 125,
     "metadata": {},
     "output_type": "execute_result"
    }
   ],
   "source": [
    "action_step = trained_policy.action(time_step)\n",
    "\n",
    "action_step.action.numpy().tolist()"
   ]
  },
  {
   "cell_type": "code",
   "execution_count": 126,
   "id": "335054a0-8e35-4429-9a5a-611c24a80a6a",
   "metadata": {},
   "outputs": [
    {
     "data": {
      "text/plain": [
       "[18, 4, 18, 8, 18, 6, 17, 14]"
      ]
     },
     "execution_count": 126,
     "metadata": {},
     "output_type": "execute_result"
    }
   ],
   "source": [
    "action_step = trained_policy.action(time_step)\n",
    "\n",
    "action_step.action.numpy().tolist()"
   ]
  },
  {
   "cell_type": "code",
   "execution_count": 127,
   "id": "2d0ea358-eb00-4ac8-b680-52c01bac54c4",
   "metadata": {},
   "outputs": [
    {
     "data": {
      "text/plain": [
       "[17, 3, 1, 19, 16, 6, 12, 5]"
      ]
     },
     "execution_count": 127,
     "metadata": {},
     "output_type": "execute_result"
    }
   ],
   "source": [
    "observation_array = environment._observe()\n",
    "\n",
    "time_step = tf_agents.trajectories.restart(\n",
    "    observation=observation_array,\n",
    "    batch_size=tf.convert_to_tensor([BATCH_SIZE]),\n",
    ")\n",
    "\n",
    "action_step = trained_policy.action(time_step)\n",
    "\n",
    "action_step.action.numpy().tolist()"
   ]
  },
  {
   "cell_type": "code",
   "execution_count": 128,
   "id": "0e9f0594-e466-4309-b478-39e5b78c2154",
   "metadata": {},
   "outputs": [
    {
     "data": {
      "text/plain": [
       "[14, 0, 13, 17, 1, 3, 3, 2]"
      ]
     },
     "execution_count": 128,
     "metadata": {},
     "output_type": "execute_result"
    }
   ],
   "source": [
    "observation_array = environment._observe()\n",
    "\n",
    "time_step = tf_agents.trajectories.restart(\n",
    "    observation=observation_array,\n",
    "    batch_size=tf.convert_to_tensor([BATCH_SIZE]),\n",
    ")\n",
    "\n",
    "action_step = trained_policy.action(time_step)\n",
    "\n",
    "action_step.action.numpy().tolist()"
   ]
  }
 ],
 "metadata": {
  "environment": {
   "kernel": "python3",
   "name": "tf2-gpu.2-13.m112",
   "type": "gcloud",
   "uri": "gcr.io/deeplearning-platform-release/tf2-gpu.2-13:m112"
  },
  "kernelspec": {
   "display_name": "Python 3",
   "language": "python",
   "name": "python3"
  },
  "language_info": {
   "codemirror_mode": {
    "name": "ipython",
    "version": 3
   },
   "file_extension": ".py",
   "mimetype": "text/x-python",
   "name": "python",
   "nbconvert_exporter": "python",
   "pygments_lexer": "ipython3",
   "version": "3.10.12"
  }
 },
 "nbformat": 4,
 "nbformat_minor": 5
}
