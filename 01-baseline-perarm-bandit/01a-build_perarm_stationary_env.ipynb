{
 "cells": [
  {
   "cell_type": "markdown",
   "id": "c6f6df3d-0777-4c26-bb69-bbe090ddbe70",
   "metadata": {},
   "source": [
    "# Build simple, stationary simulation environment for Contextual Bandits\n",
    "\n",
    "> We don’t actually have to implement the Environment in TF-Agents because during training the data is read offline from logs, and during inference, the policy is served in the actual production environment as a SavedModel on a Vertex endpoint. It may be useful to have an environment for running simulation experiments though."
   ]
  },
  {
   "cell_type": "markdown",
   "id": "cd4f45fa-b534-499a-a0b5-a29b8b57d701",
   "metadata": {},
   "source": [
    "## Load notebook config\n",
    "\n",
    "* use the prefix defined in `00-env-setup`"
   ]
  },
  {
   "cell_type": "code",
   "execution_count": 1,
   "id": "2e198023-ff4e-464c-92ab-aefdef472ead",
   "metadata": {},
   "outputs": [
    {
     "name": "stdout",
     "output_type": "stream",
     "text": [
      "PREFIX: rec-bandits-v2\n"
     ]
    }
   ],
   "source": [
    "VERSION        = \"v2\"                       # TODO\n",
    "PREFIX         = f'rec-bandits-{VERSION}'   # TODO\n",
    "\n",
    "print(f\"PREFIX: {PREFIX}\")"
   ]
  },
  {
   "cell_type": "code",
   "execution_count": 2,
   "id": "a9908f71-9e57-47b8-b6cf-04792e7cea2b",
   "metadata": {},
   "outputs": [
    {
     "name": "stdout",
     "output_type": "stream",
     "text": [
      "\n",
      "PROJECT_ID               = \"hybrid-vertex\"\n",
      "PROJECT_NUM              = \"934903580331\"\n",
      "LOCATION                 = \"us-central1\"\n",
      "\n",
      "REGION                   = \"us-central1\"\n",
      "BQ_LOCATION              = \"US\"\n",
      "VPC_NETWORK_NAME         = \"ucaip-haystack-vpc-network\"\n",
      "\n",
      "VERTEX_SA                = \"934903580331-compute@developer.gserviceaccount.com\"\n",
      "\n",
      "PREFIX                   = \"rec-bandits-v2\"\n",
      "VERSION                  = \"v2\"\n",
      "\n",
      "BUCKET_NAME              = \"rec-bandits-v2-hybrid-vertex-bucket\"\n",
      "BUCKET_URI               = \"gs://rec-bandits-v2-hybrid-vertex-bucket\"\n",
      "DATA_GCS_PREFIX          = \"data\"\n",
      "DATA_PATH                = \"gs://rec-bandits-v2-hybrid-vertex-bucket/data\"\n",
      "VOCAB_SUBDIR             = \"vocabs\"\n",
      "VOCAB_FILENAME           = \"vocab_dict.pkl\"\n",
      "DATA_PATH_KFP_DEMO       = \"gs://rec-bandits-v2-hybrid-vertex-bucket/data/kfp_demo_data/u.data\"\n",
      "\n",
      "VPC_NETWORK_FULL         = \"projects/934903580331/global/networks/ucaip-haystack-vpc-network\"\n",
      "\n",
      "BIGQUERY_DATASET_NAME    = \"mvlens_rec_bandits_v2\"\n",
      "BIGQUERY_TABLE_NAME      = \"training_dataset\"\n",
      "\n",
      "REPOSITORY               = \"rl-movielens-rec-bandits-v2\"\n",
      "\n",
      "DOCKERNAME_01            = \"Dockerfile_train_my_perarm_env\"\n",
      "IMAGE_NAME_01            = \"train-my-perarm-env-v2\"\n",
      "IMAGE_URI_01             = \"gcr.io/hybrid-vertex/train-my-perarm-env-v2\"\n",
      "\n",
      "DOCKERNAME_02            = \"Dockerfile_perarm_feats\"\n",
      "IMAGE_NAME_02            = \"train-perarm-feats-v2\"\n",
      "IMAGE_URI_02             = \"gcr.io/hybrid-vertex/train-perarm-feats-v2\"\n",
      "\n",
      "DOCKERNAME_03            = \"Dockerfile_ranking_bandit\"\n",
      "IMAGE_NAME_03            = \"train-rank-bandit-v2\"\n",
      "IMAGE_URI_03             = \"gcr.io/hybrid-vertex/train-rank-bandit-v2\"\n",
      "\n",
      "DOCKERNAME_04            = \"Dockerfile_train_mab_e2e\"\n",
      "IMAGE_NAME_04            = \"train-mab-e2e-v2\"\n",
      "IMAGE_URI_04             = \"gcr.io/hybrid-vertex/train-mab-e2e-v2\"\n",
      "\n",
      "DOCKERNAME_04_pred       = \"Dockerfile_pred_mab_e2e\"\n",
      "IMAGE_NAME_04_pred       = \"pred-mab-e2e-v2\"\n",
      "IMAGE_URI_04_pred        = \"gcr.io/hybrid-vertex/pred-mab-e2e-v2\"\n",
      "\n",
      "REMOTE_IMAGE_NAME        = \"us-central1-docker.pkg.dev/hybrid-vertex/rl-movielens-rec-bandits-v2/local_docker_tfa\"\n",
      "\n",
      "REPO_DOCKER_PATH_PREFIX  = \"src\"\n",
      "RL_SUB_DIR               = \"per_arm_rl\"\n",
      "\n"
     ]
    }
   ],
   "source": [
    "# staging GCS\n",
    "GCP_PROJECTS             = !gcloud config get-value project\n",
    "PROJECT_ID               = GCP_PROJECTS[0]\n",
    "\n",
    "# GCS bucket and paths\n",
    "BUCKET_NAME              = f'{PREFIX}-{PROJECT_ID}-bucket'\n",
    "BUCKET_URI               = f'gs://{BUCKET_NAME}'\n",
    "\n",
    "config = !gsutil cat {BUCKET_URI}/config/notebook_env.py\n",
    "print(config.n)\n",
    "exec(config.n)"
   ]
  },
  {
   "cell_type": "markdown",
   "id": "28954e08-7a8f-472b-84ee-07ddcc1f627a",
   "metadata": {},
   "source": [
    "## imports"
   ]
  },
  {
   "cell_type": "code",
   "execution_count": 3,
   "id": "5c309527-3f86-426a-ab08-71f170bdf091",
   "metadata": {},
   "outputs": [],
   "source": [
    "import os\n",
    "os.environ['TF_CPP_MIN_LOG_LEVEL'] = '2'"
   ]
  },
  {
   "cell_type": "code",
   "execution_count": 4,
   "id": "451b6a26-aa56-4c4c-bbea-42c8a613538b",
   "metadata": {},
   "outputs": [],
   "source": [
    "import functools\n",
    "from collections import defaultdict\n",
    "from typing import Callable, Dict, List, Optional, TypeVar\n",
    "from datetime import datetime\n",
    "import time\n",
    "from pprint import pprint\n",
    "import pickle as pkl\n",
    "\n",
    "from tqdm import tqdm\n",
    "\n",
    "# logging\n",
    "# logging\n",
    "import logging\n",
    "logging.disable(logging.WARNING)\n",
    "\n",
    "import warnings\n",
    "warnings.filterwarnings('ignore')\n",
    "\n",
    "import matplotlib.pyplot as plt\n",
    "import numpy as np\n",
    "\n",
    "# google cloud\n",
    "from google.cloud import aiplatform, storage\n",
    "\n",
    "# tensorflow\n",
    "import tensorflow as tf\n",
    "# from tf_agents.agents import TFAgent\n",
    "\n",
    "from tf_agents.bandits.environments import stationary_stochastic_per_arm_py_environment as p_a_env\n",
    "from tf_agents.bandits.metrics import tf_metrics as tf_bandit_metrics\n",
    "from tf_agents.drivers import dynamic_step_driver\n",
    "from tf_agents.environments import tf_py_environment\n",
    "from tf_agents.replay_buffers import tf_uniform_replay_buffer\n",
    "from tf_agents.specs import tensor_spec\n",
    "from tf_agents.trajectories import time_step as ts\n",
    "\n",
    "from tf_agents.bandits.agents import lin_ucb_agent\n",
    "from tf_agents.bandits.agents import linear_thompson_sampling_agent as lin_ts_agent\n",
    "from tf_agents.bandits.agents import neural_epsilon_greedy_agent\n",
    "from tf_agents.bandits.agents import neural_linucb_agent\n",
    "from tf_agents.bandits.networks import global_and_arm_feature_network\n",
    "from tf_agents.bandits.policies import policy_utilities\n",
    "\n",
    "from tf_agents.bandits.specs import utils as bandit_spec_utils\n",
    "from tf_agents.trajectories import trajectory\n",
    "\n",
    "# GPU\n",
    "from numba import cuda \n",
    "import gc\n",
    "\n",
    "import sys\n",
    "sys.path.append(\"..\")\n",
    "\n",
    "# this repo\n",
    "from src.per_arm_rl import data_utils\n",
    "from src.per_arm_rl import data_config\n",
    "from src.per_arm_rl import train_utils as train_utils\n",
    "\n",
    "# tf exceptions and vars\n",
    "if tf.__version__[0] != \"2\":\n",
    "    raise Exception(\"The trainer only runs with TensorFlow version 2.\")\n",
    "\n",
    "T = TypeVar(\"T\")"
   ]
  },
  {
   "cell_type": "code",
   "execution_count": 5,
   "id": "623b22ed-3ea4-4c38-ace7-e5a2668a8526",
   "metadata": {},
   "outputs": [
    {
     "name": "stdout",
     "output_type": "stream",
     "text": [
      "Num GPUs Available:  1\n"
     ]
    }
   ],
   "source": [
    "print(\"Num GPUs Available: \", len(tf.config.list_physical_devices('GPU')))"
   ]
  },
  {
   "cell_type": "code",
   "execution_count": 7,
   "id": "b0088156-3897-40cf-81fe-2b31fcfb0f74",
   "metadata": {},
   "outputs": [
    {
     "data": {
      "text/plain": [
       "14"
      ]
     },
     "execution_count": 7,
     "metadata": {},
     "output_type": "execute_result"
    }
   ],
   "source": [
    "device = cuda.get_current_device()\n",
    "device.reset()\n",
    "gc.collect()"
   ]
  },
  {
   "cell_type": "code",
   "execution_count": 8,
   "id": "7adaff25-dece-4ccf-8e42-50762702c569",
   "metadata": {},
   "outputs": [],
   "source": [
    "# cloud storage client\n",
    "storage_client = storage.Client(project=PROJECT_ID)\n",
    "\n",
    "# Vertex client\n",
    "aiplatform.init(project=PROJECT_ID, location=LOCATION)"
   ]
  },
  {
   "cell_type": "markdown",
   "id": "380b558c-e411-4a1f-9a88-f47a5bd6c69e",
   "metadata": {},
   "source": [
    "# Data prep"
   ]
  },
  {
   "cell_type": "markdown",
   "id": "b634a4da-4448-4b0c-aa9d-f7618be93c5e",
   "metadata": {},
   "source": [
    "### Read TF Records (for testing)"
   ]
  },
  {
   "cell_type": "code",
   "execution_count": 9,
   "id": "46484443-2bba-474b-9c2c-226bc8a67357",
   "metadata": {},
   "outputs": [],
   "source": [
    "options = tf.data.Options()\n",
    "options.experimental_distribute.auto_shard_policy = tf.data.experimental.AutoShardPolicy.AUTO"
   ]
  },
  {
   "cell_type": "code",
   "execution_count": 10,
   "id": "31ab8fe2-a423-43de-bec2-753521f7f5aa",
   "metadata": {},
   "outputs": [
    {
     "data": {
      "text/plain": [
       "['gs://rec-bandits-v2-hybrid-vertex-bucket/data/train/ml-ratings-100k-train.tfrecord']"
      ]
     },
     "execution_count": 10,
     "metadata": {},
     "output_type": "execute_result"
    }
   ],
   "source": [
    "SPLIT = \"train\" # \"train\" | \"val\"\n",
    "\n",
    "train_files = []\n",
    "for blob in storage_client.list_blobs(f\"{BUCKET_NAME}\", prefix=f'{DATA_GCS_PREFIX}/{SPLIT}'):\n",
    "    if '.tfrecord' in blob.name:\n",
    "        train_files.append(blob.public_url.replace(\"https://storage.googleapis.com/\", \"gs://\"))\n",
    "        \n",
    "train_files"
   ]
  },
  {
   "cell_type": "code",
   "execution_count": 11,
   "id": "3245e4d3-ef41-4c87-98c5-2c749224623f",
   "metadata": {},
   "outputs": [
    {
     "name": "stdout",
     "output_type": "stream",
     "text": [
      "{'bucketized_user_age': <tf.Tensor: shape=(1,), dtype=float32, numpy=array([35.], dtype=float32)>,\n",
      " 'movie_genres': <tf.Tensor: shape=(1, 1), dtype=int64, numpy=array([[7]])>,\n",
      " 'movie_id': <tf.Tensor: shape=(1,), dtype=string, numpy=array([b'898'], dtype=object)>,\n",
      " 'timestamp': <tf.Tensor: shape=(1,), dtype=int64, numpy=array([885409515])>,\n",
      " 'user_id': <tf.Tensor: shape=(1,), dtype=string, numpy=array([b'681'], dtype=object)>,\n",
      " 'user_occupation_text': <tf.Tensor: shape=(1,), dtype=string, numpy=array([b'marketing'], dtype=object)>,\n",
      " 'user_rating': <tf.Tensor: shape=(1,), dtype=float32, numpy=array([4.], dtype=float32)>}\n"
     ]
    }
   ],
   "source": [
    "train_dataset = tf.data.TFRecordDataset(train_files)\n",
    "train_dataset = train_dataset.map(data_utils.parse_tfrecord)\n",
    "\n",
    "for x in train_dataset.batch(1).take(1):\n",
    "    pprint(x)"
   ]
  },
  {
   "cell_type": "markdown",
   "id": "23aa5ff5-64b9-479d-85e8-495f5d085439",
   "metadata": {},
   "source": [
    "### get vocab"
   ]
  },
  {
   "cell_type": "code",
   "execution_count": 12,
   "id": "26d3805b-0e6c-47fd-8961-486e2d828ac3",
   "metadata": {},
   "outputs": [
    {
     "name": "stdout",
     "output_type": "stream",
     "text": [
      "GENERATE_VOCABS: False\n"
     ]
    }
   ],
   "source": [
    "GENERATE_VOCABS = False\n",
    "\n",
    "print(f\"GENERATE_VOCABS: {GENERATE_VOCABS}\")"
   ]
  },
  {
   "cell_type": "code",
   "execution_count": 13,
   "id": "1977de25-fabb-47be-a9df-c7dfeee83e0d",
   "metadata": {},
   "outputs": [
    {
     "name": "stdout",
     "output_type": "stream",
     "text": [
      "Downloading vocab...\n",
      "Downloaded vocab from: gs://rec-bandits-v2-hybrid-vertex-bucket/vocabs/vocab_dict.pkl\n",
      "\n",
      "'movie_id'\n",
      "'user_id'\n",
      "'user_occupation_text'\n",
      "'movie_genres'\n",
      "'bucketized_user_age'\n",
      "'max_timestamp'\n",
      "'min_timestamp'\n",
      "'timestamp_buckets'\n"
     ]
    }
   ],
   "source": [
    "if not GENERATE_VOCABS:\n",
    "\n",
    "    EXISTING_VOCAB_FILE = f'gs://{BUCKET_NAME}/{VOCAB_SUBDIR}/{VOCAB_FILENAME}'\n",
    "    print(f\"Downloading vocab...\")\n",
    "    \n",
    "    os.system(f'gsutil -q cp {EXISTING_VOCAB_FILE} .')\n",
    "    print(f\"Downloaded vocab from: {EXISTING_VOCAB_FILE}\\n\")\n",
    "\n",
    "    filehandler = open(VOCAB_FILENAME, 'rb')\n",
    "    vocab_dict = pkl.load(filehandler)\n",
    "    filehandler.close()\n",
    "    \n",
    "    for key in vocab_dict.keys():\n",
    "        pprint(key)"
   ]
  },
  {
   "cell_type": "markdown",
   "id": "4abf9a90-99d2-4ff9-b952-70de43b2e14a",
   "metadata": {},
   "source": [
    "# Global & Per-Arm feature embedding models "
   ]
  },
  {
   "cell_type": "code",
   "execution_count": 14,
   "id": "6c74e2e7-23d4-4652-a54b-b9c335285856",
   "metadata": {},
   "outputs": [],
   "source": [
    "NUM_OOV_BUCKETS        = 1\n",
    "GLOBAL_EMBEDDING_SIZE  = 16\n",
    "MV_EMBEDDING_SIZE      = 32 #32"
   ]
  },
  {
   "cell_type": "code",
   "execution_count": 15,
   "id": "e51dd01f-918e-484c-a470-15b64aea776a",
   "metadata": {},
   "outputs": [],
   "source": [
    "# test emb models\n",
    "for i in range(1):\n",
    "    \n",
    "    iterator = iter(train_dataset.batch(1))\n",
    "    data = next(iterator)\n",
    "\n",
    "# data"
   ]
  },
  {
   "cell_type": "code",
   "execution_count": 16,
   "id": "e30c3ecb-cf5a-4822-8b2d-32c1aac898b7",
   "metadata": {},
   "outputs": [
    {
     "data": {
      "text/plain": [
       "<src.perarm_features.emb_features.EmbeddingModel at 0x7f955258f0d0>"
      ]
     },
     "execution_count": 16,
     "metadata": {},
     "output_type": "execute_result"
    }
   ],
   "source": [
    "from src.perarm_features import emb_features as emb_features\n",
    "\n",
    "embs = emb_features.EmbeddingModel(\n",
    "    vocab_dict = vocab_dict,\n",
    "    num_oov_buckets = NUM_OOV_BUCKETS,\n",
    "    global_emb_size = GLOBAL_EMBEDDING_SIZE,\n",
    "    mv_emb_size = MV_EMBEDDING_SIZE,\n",
    ")\n",
    "\n",
    "embs"
   ]
  },
  {
   "cell_type": "code",
   "execution_count": 17,
   "id": "05aa3547-8d4a-4c07-99d7-d3eda127e366",
   "metadata": {},
   "outputs": [
    {
     "name": "stdout",
     "output_type": "stream",
     "text": [
      "GLOBAL_DIM: 64\n"
     ]
    },
    {
     "data": {
      "text/plain": [
       "array([[ 0.02731404,  0.03594217,  0.03344276, -0.04835403, -0.00827014,\n",
       "         0.01403605, -0.00979906,  0.0194653 , -0.01118604,  0.04069335,\n",
       "         0.02415854,  0.04182682,  0.02889749,  0.02076601, -0.01326566,\n",
       "         0.01865456, -0.00241132,  0.01150358,  0.00548441,  0.03184443,\n",
       "         0.02236363,  0.0344076 ,  0.02602575,  0.02437485, -0.0138417 ,\n",
       "         0.03948382, -0.04705184, -0.03388592, -0.01995178, -0.04867974,\n",
       "         0.02038659, -0.02148888, -0.03461696,  0.04165244,  0.01054373,\n",
       "         0.02754701,  0.02482244, -0.03805066,  0.03890474,  0.00804413,\n",
       "         0.02925266, -0.03692269, -0.02855203, -0.03242917,  0.00935664,\n",
       "         0.0318357 , -0.00942959, -0.00609057, -0.04536   ,  0.0299711 ,\n",
       "         0.00188203, -0.01822484, -0.00627633, -0.0048218 , -0.03093013,\n",
       "        -0.0183364 ,  0.02294909,  0.04238458, -0.04049527, -0.00250386,\n",
       "        -0.01270334,  0.04114563, -0.04066461, -0.00343477]],\n",
       "      dtype=float32)"
      ]
     },
     "execution_count": 17,
     "metadata": {},
     "output_type": "execute_result"
    }
   ],
   "source": [
    "test_globals = embs._get_global_context_features(data)\n",
    "\n",
    "GLOBAL_DIM = test_globals.shape[1]            \n",
    "# shape checks out at batch_dim, nactions, arm feats\n",
    "print(f\"GLOBAL_DIM: {GLOBAL_DIM}\")\n",
    "\n",
    "test_globals"
   ]
  },
  {
   "cell_type": "code",
   "execution_count": 18,
   "id": "ab464f9c-8c5c-4710-acbf-6026e3f94a20",
   "metadata": {},
   "outputs": [
    {
     "name": "stdout",
     "output_type": "stream",
     "text": [
      "PER_ARM_DIM: 64\n"
     ]
    },
    {
     "data": {
      "text/plain": [
       "array([[ 0.0362566 ,  0.04874635, -0.01021256, -0.02524313, -0.04266393,\n",
       "        -0.02576411, -0.0038408 ,  0.02606005, -0.00204116, -0.03945231,\n",
       "        -0.00218217,  0.00286134, -0.01127555,  0.01614518,  0.00852165,\n",
       "         0.02233168, -0.04271724, -0.04897275,  0.01439644,  0.02527407,\n",
       "        -0.04444082,  0.01037391,  0.00720001,  0.04597943,  0.03944049,\n",
       "        -0.00335429,  0.04896206, -0.03227259, -0.02424966,  0.01273069,\n",
       "         0.01218826,  0.00738228, -0.03414822,  0.012218  ,  0.01465772,\n",
       "         0.03616271,  0.00962234,  0.03468337,  0.03572166,  0.01206065,\n",
       "         0.03147422,  0.03400825,  0.04753527, -0.00299136, -0.04273902,\n",
       "        -0.0008821 , -0.03362963, -0.02573446, -0.02656493,  0.01455635,\n",
       "         0.03480292, -0.01571823,  0.00412048, -0.02974764,  0.00825649,\n",
       "         0.04838322,  0.01764262,  0.00468855, -0.03110298, -0.01964635,\n",
       "         0.03942678, -0.03471339, -0.02636656, -0.01877259]],\n",
       "      dtype=float32)"
      ]
     },
     "execution_count": 18,
     "metadata": {},
     "output_type": "execute_result"
    }
   ],
   "source": [
    "test_arms = embs._get_per_arm_features(data)\n",
    "\n",
    "PER_ARM_DIM = test_arms.shape[1]            \n",
    "# shape checks out at batch_dim, nactions, arm feats\n",
    "print(f\"PER_ARM_DIM: {PER_ARM_DIM}\")\n",
    "\n",
    "test_arms"
   ]
  },
  {
   "cell_type": "markdown",
   "id": "16d84b24-191b-4818-a644-f13afb04d09a",
   "metadata": {},
   "source": [
    "# Stationary Stochastic Per-arm environment"
   ]
  },
  {
   "cell_type": "markdown",
   "id": "9a4aa944-cd5b-4efd-b915-a4e438d344dd",
   "metadata": {},
   "source": [
    "# Per-arm environment\n",
    "In this example we will use the [StationaryStochasticPerArmPyEnvironment](https://github.com/tensorflow/agents/blob/master/tf_agents/bandits/environments/stationary_stochastic_per_arm_py_environment.py) environment to simulate offline training data for training a contextual bandit with **per-arm features**\n",
    "​\n",
    "To initialize the per-arm environment, one has to define functions that generate\n",
    "​\n",
    "* *global and per-arm features*: These functions have no input parameters and generate a single (global or per-arm) feature vector when called.\n",
    "​\n",
    "* *rewards*: This function takes as parameter the concatenation of a global and a per-arm feature vector, and generates a reward. Basically this is the function that the agent will have to \"guess\". \n",
    "​\n",
    "It is worth noting here that in the per-arm case the reward function is identical for every arm. This is a fundamental difference from the classic bandit case, where the agent has to estimate reward functions for each arm independently."
   ]
  },
  {
   "cell_type": "markdown",
   "id": "e448de36-168b-487c-bcaa-91335a07dec9",
   "metadata": {},
   "source": [
    "## Sampling and reward functions"
   ]
  },
  {
   "cell_type": "markdown",
   "id": "c9f5b1bc-c0a4-4859-80e8-d9627102d24c",
   "metadata": {},
   "source": [
    "The preproccesing layers will ultimately feed the two sampling functions described below. These sampling functions will be used to create [trajectories](https://github.com/tensorflow/agents/blob/master/tf_agents/trajectories/trajectory.py#L36) (i.e., the training examples for our model)\n",
    "\n",
    "`global_context_sampling_fn`: \n",
    "* A function that outputs a random 1d array or list of ints or floats\n",
    "* This output is the global context. Its shape and type must be consistent across calls.\n",
    "\n",
    "`arm_context_sampling_fn`: \n",
    "* A function that outputs a random 1 array or list of ints or floats (same type as the output of `global_context_sampling_fn`). \n",
    "* This output is the per-arm context. Its shape must be consistent across calls.\n",
    "\n",
    "`reward_fn`: function takes the concatenation of a global and a per-arm feature, and outputs a possibly random reward."
   ]
  },
  {
   "cell_type": "code",
   "execution_count": 19,
   "id": "b58bda81-3666-4745-addc-20c2204a650c",
   "metadata": {},
   "outputs": [],
   "source": [
    "BATCH_SIZE      = 128\n",
    "EVAL_BATCH_SIZE = 1\n",
    "NUM_ACTIONS     = 20"
   ]
  },
  {
   "cell_type": "markdown",
   "id": "0a848199-4867-4e3c-a2a3-dc353ff19b84",
   "metadata": {},
   "source": [
    "### sampling global context"
   ]
  },
  {
   "cell_type": "code",
   "execution_count": 20,
   "id": "a69d014a-a912-44c1-8d3f-6e2502a43453",
   "metadata": {},
   "outputs": [
    {
     "data": {
      "text/plain": [
       "array([ 0., -1.,  0.,  0., -1.,  0.,  0.,  0.,  0.,  0.,  0.,  0.,  0.,\n",
       "       -1.,  0.,  0.,  0., -1.,  0., -1., -1., -1., -1., -1., -1.,  0.,\n",
       "        0.,  0.,  0.,  0., -1.,  0.,  0., -1.,  0., -1., -1., -1.,  0.,\n",
       "       -1., -1.,  0., -1.,  0.,  0., -1., -1.,  0., -1., -1.,  0.,  0.,\n",
       "       -1.,  0.,  0., -1.,  0., -1.,  0.,  0., -1., -1.,  0.,  0.],\n",
       "      dtype=float32)"
      ]
     },
     "execution_count": 20,
     "metadata": {},
     "output_type": "execute_result"
    }
   ],
   "source": [
    "def example_global_context_sampling_fn():\n",
    "    # return np.random.randint(0, 10, [2])  # 2-dimensional global features.\n",
    "    return np.random.randint(-1, 1, [GLOBAL_DIM]).astype(np.float32)\n",
    "\n",
    "example_global_context_sampling_fn()"
   ]
  },
  {
   "cell_type": "code",
   "execution_count": 21,
   "id": "6764bf5d-426b-4048-95a8-a18fa9868983",
   "metadata": {},
   "outputs": [],
   "source": [
    "global_iterator = iter(train_dataset.batch(1).repeat())\n",
    "\n",
    "def global_context_sampling_fn():\n",
    "    \n",
    "    data = next(global_iterator)\n",
    "    \n",
    "    return embs._get_global_context_features(data)[0]"
   ]
  },
  {
   "cell_type": "code",
   "execution_count": 22,
   "id": "a0ea939e-96c3-4682-a478-08352d928929",
   "metadata": {},
   "outputs": [
    {
     "name": "stdout",
     "output_type": "stream",
     "text": [
      "shape: (64,)\n"
     ]
    },
    {
     "data": {
      "text/plain": [
       "array([ 0.02731404,  0.03594217,  0.03344276, -0.04835403, -0.00827014,\n",
       "        0.01403605, -0.00979906,  0.0194653 , -0.01118604,  0.04069335,\n",
       "        0.02415854,  0.04182682,  0.02889749,  0.02076601, -0.01326566,\n",
       "        0.01865456, -0.00241132,  0.01150358,  0.00548441,  0.03184443,\n",
       "        0.02236363,  0.0344076 ,  0.02602575,  0.02437485, -0.0138417 ,\n",
       "        0.03948382, -0.04705184, -0.03388592, -0.01995178, -0.04867974,\n",
       "        0.02038659, -0.02148888, -0.03461696,  0.04165244,  0.01054373,\n",
       "        0.02754701,  0.02482244, -0.03805066,  0.03890474,  0.00804413,\n",
       "        0.02925266, -0.03692269, -0.02855203, -0.03242917,  0.00935664,\n",
       "        0.0318357 , -0.00942959, -0.00609057, -0.04536   ,  0.0299711 ,\n",
       "        0.00188203, -0.01822484, -0.00627633, -0.0048218 , -0.03093013,\n",
       "       -0.0183364 ,  0.02294909,  0.04238458, -0.04049527, -0.00250386,\n",
       "       -0.01270334,  0.04114563, -0.04066461, -0.00343477], dtype=float32)"
      ]
     },
     "execution_count": 22,
     "metadata": {},
     "output_type": "execute_result"
    }
   ],
   "source": [
    "test_global_sampling = global_context_sampling_fn()\n",
    "print(f\"shape: {test_global_sampling.shape}\")\n",
    "\n",
    "test_global_sampling"
   ]
  },
  {
   "cell_type": "code",
   "execution_count": 23,
   "id": "3ddfb64e-f139-44ab-a60d-b91f4d13a89c",
   "metadata": {},
   "outputs": [
    {
     "data": {
      "text/plain": [
       "array([ 1.,  0.,  0., -1.,  2.,  0., -2.,  0.,  1.,  2., -2., -1.,  1.,\n",
       "       -2.,  0.,  0.,  0.,  0.,  1., -1., -2., -1.,  1.,  1., -2., -1.,\n",
       "        2.,  1., -2.,  1., -2.,  2.,  2., -2., -2.,  2., -2., -2., -2.,\n",
       "       -2.,  0., -1.,  1.,  1., -2.,  0.,  1.,  1.,  1., -1.,  0., -2.,\n",
       "       -1.,  1.,  2., -2.,  2.,  0.,  2.,  2., -1.,  2., -1.,  0.],\n",
       "      dtype=float32)"
      ]
     },
     "execution_count": 23,
     "metadata": {},
     "output_type": "execute_result"
    }
   ],
   "source": [
    "def example_arm_context_sampling_fn():\n",
    "    # return np.random.randint(-3, 4, [3])  # 3-dimensional arm features.\n",
    "    return np.random.randint(-2, 3, [PER_ARM_DIM]).astype(np.float32)\n",
    "\n",
    "example_arm_context_sampling_fn()"
   ]
  },
  {
   "cell_type": "code",
   "execution_count": 24,
   "id": "932b3267-78a1-4244-85f6-92726ad132ba",
   "metadata": {},
   "outputs": [],
   "source": [
    "arm_iterator = iter(train_dataset.batch(1).repeat())\n",
    "# arm_iterator = iter(train_dataset.repeat())\n",
    "\n",
    "def arm_context_sampling_fn():\n",
    "    \n",
    "    data = next(arm_iterator)\n",
    "    \n",
    "    return embs._get_per_arm_features(data)[0]"
   ]
  },
  {
   "cell_type": "code",
   "execution_count": 25,
   "id": "c9a58863-a639-44a1-a53e-d4e299e9ec94",
   "metadata": {},
   "outputs": [
    {
     "name": "stdout",
     "output_type": "stream",
     "text": [
      "shape: (64,)\n"
     ]
    },
    {
     "data": {
      "text/plain": [
       "array([ 0.0362566 ,  0.04874635, -0.01021256, -0.02524313, -0.04266393,\n",
       "       -0.02576411, -0.0038408 ,  0.02606005, -0.00204116, -0.03945231,\n",
       "       -0.00218217,  0.00286134, -0.01127555,  0.01614518,  0.00852165,\n",
       "        0.02233168, -0.04271724, -0.04897275,  0.01439644,  0.02527407,\n",
       "       -0.04444082,  0.01037391,  0.00720001,  0.04597943,  0.03944049,\n",
       "       -0.00335429,  0.04896206, -0.03227259, -0.02424966,  0.01273069,\n",
       "        0.01218826,  0.00738228, -0.03414822,  0.012218  ,  0.01465772,\n",
       "        0.03616271,  0.00962234,  0.03468337,  0.03572166,  0.01206065,\n",
       "        0.03147422,  0.03400825,  0.04753527, -0.00299136, -0.04273902,\n",
       "       -0.0008821 , -0.03362963, -0.02573446, -0.02656493,  0.01455635,\n",
       "        0.03480292, -0.01571823,  0.00412048, -0.02974764,  0.00825649,\n",
       "        0.04838322,  0.01764262,  0.00468855, -0.03110298, -0.01964635,\n",
       "        0.03942678, -0.03471339, -0.02636656, -0.01877259], dtype=float32)"
      ]
     },
     "execution_count": 25,
     "metadata": {},
     "output_type": "execute_result"
    }
   ],
   "source": [
    "test_arm_sampling = arm_context_sampling_fn()\n",
    "print(f\"shape: {test_arm_sampling.shape}\")\n",
    "\n",
    "test_arm_sampling"
   ]
  },
  {
   "cell_type": "markdown",
   "id": "c70ee40b-eb02-47e8-ab8a-00a1ee6c1891",
   "metadata": {},
   "source": [
    "### reward function \n",
    "\n",
    "> compute the dot product between global user context features and arm context features\n",
    "\n",
    "In this environment, the reward function will take as input the concatenation of the global and arm features generated from the provided sampling functions. See it used in the environment's `_apply_action()` function [here](https://github.com/tensorflow/agents/blob/master/tf_agents/bandits/environments/stationary_stochastic_per_arm_py_environment.py#L170C18-L170C28)\n",
    "\n",
    "```python\n",
    "feat_concat = np.concatenate((test_global_sampling, test_arm_sampling))\n",
    "reward = np.dot(feat_concat[:GLOBAL_DIM], feat_concat[PER_ARM_DIM:])\n",
    "```"
   ]
  },
  {
   "cell_type": "code",
   "execution_count": 26,
   "id": "2cc4b52c-b47a-4bae-8c4e-44bfe5cc8280",
   "metadata": {},
   "outputs": [
    {
     "data": {
      "text/plain": [
       "array([ 0.02731404,  0.03594217,  0.03344276, -0.04835403, -0.00827014,\n",
       "        0.01403605, -0.00979906,  0.0194653 , -0.01118604,  0.04069335,\n",
       "        0.02415854,  0.04182682,  0.02889749,  0.02076601, -0.01326566,\n",
       "        0.01865456, -0.00241132,  0.01150358,  0.00548441,  0.03184443,\n",
       "        0.02236363,  0.0344076 ,  0.02602575,  0.02437485, -0.0138417 ,\n",
       "        0.03948382, -0.04705184, -0.03388592, -0.01995178, -0.04867974,\n",
       "        0.02038659, -0.02148888, -0.03461696,  0.04165244,  0.01054373,\n",
       "        0.02754701,  0.02482244, -0.03805066,  0.03890474,  0.00804413,\n",
       "        0.02925266, -0.03692269, -0.02855203, -0.03242917,  0.00935664,\n",
       "        0.0318357 , -0.00942959, -0.00609057, -0.04536   ,  0.0299711 ,\n",
       "        0.00188203, -0.01822484, -0.00627633, -0.0048218 , -0.03093013,\n",
       "       -0.0183364 ,  0.02294909,  0.04238458, -0.04049527, -0.00250386,\n",
       "       -0.01270334,  0.04114563, -0.04066461, -0.00343477], dtype=float32)"
      ]
     },
     "execution_count": 26,
     "metadata": {},
     "output_type": "execute_result"
    }
   ],
   "source": [
    "test_global_sampling #[0]"
   ]
  },
  {
   "cell_type": "code",
   "execution_count": 27,
   "id": "7e708a42-3edc-4335-adeb-657f207865f1",
   "metadata": {},
   "outputs": [
    {
     "data": {
      "text/plain": [
       "array([ 0.0362566 ,  0.04874635, -0.01021256, -0.02524313, -0.04266393,\n",
       "       -0.02576411, -0.0038408 ,  0.02606005, -0.00204116, -0.03945231,\n",
       "       -0.00218217,  0.00286134, -0.01127555,  0.01614518,  0.00852165,\n",
       "        0.02233168, -0.04271724, -0.04897275,  0.01439644,  0.02527407,\n",
       "       -0.04444082,  0.01037391,  0.00720001,  0.04597943,  0.03944049,\n",
       "       -0.00335429,  0.04896206, -0.03227259, -0.02424966,  0.01273069,\n",
       "        0.01218826,  0.00738228, -0.03414822,  0.012218  ,  0.01465772,\n",
       "        0.03616271,  0.00962234,  0.03468337,  0.03572166,  0.01206065,\n",
       "        0.03147422,  0.03400825,  0.04753527, -0.00299136, -0.04273902,\n",
       "       -0.0008821 , -0.03362963, -0.02573446, -0.02656493,  0.01455635,\n",
       "        0.03480292, -0.01571823,  0.00412048, -0.02974764,  0.00825649,\n",
       "        0.04838322,  0.01764262,  0.00468855, -0.03110298, -0.01964635,\n",
       "        0.03942678, -0.03471339, -0.02636656, -0.01877259], dtype=float32)"
      ]
     },
     "execution_count": 27,
     "metadata": {},
     "output_type": "execute_result"
    }
   ],
   "source": [
    "test_arm_sampling #[0]"
   ]
  },
  {
   "cell_type": "code",
   "execution_count": 28,
   "id": "8c65a5e6-24e9-417d-a747-6aed423adc62",
   "metadata": {},
   "outputs": [],
   "source": [
    "HIDDEN_PARAM = list(np.random.randint(0, 10, [GLOBAL_DIM + PER_ARM_DIM]))\n",
    "\n",
    "class LinearNormalReward(object):\n",
    "    def __init__(self, theta):\n",
    "        self.theta = theta\n",
    "\n",
    "    def __call__(self, x):\n",
    "        mu = np.dot(x, self.theta)\n",
    "        return np.random.normal(mu, 1)\n",
    "    \n",
    "reward_fn = LinearNormalReward(HIDDEN_PARAM)"
   ]
  },
  {
   "cell_type": "markdown",
   "id": "2f4bb435-caad-487e-afb7-212595b72a83",
   "metadata": {},
   "source": [
    "## Initialize environment"
   ]
  },
  {
   "cell_type": "code",
   "execution_count": 29,
   "id": "b7e89c02-e871-4f0a-8781-8107e35ef243",
   "metadata": {},
   "outputs": [
    {
     "name": "stdout",
     "output_type": "stream",
     "text": [
      "BATCH_SIZE      : 128\n",
      "EVAL_BATCH_SIZE : 1\n",
      "NUM_ACTIONS     : 20\n",
      "GLOBAL_DIM      : 64\n",
      "PER_ARM_DIM     : 64\n"
     ]
    }
   ],
   "source": [
    "print(f\"BATCH_SIZE      : {BATCH_SIZE}\")\n",
    "print(f\"EVAL_BATCH_SIZE : {EVAL_BATCH_SIZE}\")\n",
    "print(f\"NUM_ACTIONS     : {NUM_ACTIONS}\")\n",
    "print(f\"GLOBAL_DIM      : {GLOBAL_DIM}\")\n",
    "print(f\"PER_ARM_DIM     : {PER_ARM_DIM}\")"
   ]
  },
  {
   "cell_type": "code",
   "execution_count": 30,
   "id": "ccca2db4-712a-4c0b-8dab-013ae9508553",
   "metadata": {},
   "outputs": [],
   "source": [
    "per_arm_py_env = p_a_env.StationaryStochasticPerArmPyEnvironment(\n",
    "    global_context_sampling_fn=global_context_sampling_fn,\n",
    "    arm_context_sampling_fn=arm_context_sampling_fn,\n",
    "    max_num_actions=NUM_ACTIONS,\n",
    "    reward_fn=reward_fn,\n",
    "    batch_size=BATCH_SIZE\n",
    ")\n",
    "per_arm_tf_env = tf_py_environment.TFPyEnvironment(per_arm_py_env)"
   ]
  },
  {
   "cell_type": "code",
   "execution_count": 31,
   "id": "ed2b460f-e696-46c2-b87a-091df2698f54",
   "metadata": {},
   "outputs": [
    {
     "name": "stdout",
     "output_type": "stream",
     "text": [
      "observation spec:  {'global': TensorSpec(shape=(64,), dtype=tf.float32, name=None), 'per_arm': TensorSpec(shape=(20, 64), dtype=tf.float32, name=None)}\n",
      "\n",
      "An observation:  {'global': <tf.Tensor: shape=(128, 64), dtype=float32, numpy=\n",
      "array([[ 0.03192339, -0.03220441, -0.00170213, ...,  0.00310396,\n",
      "         0.03064561, -0.03263334],\n",
      "       [ 0.01267178, -0.00528771,  0.02785582, ...,  0.01308961,\n",
      "         0.02286167, -0.01323335],\n",
      "       [ 0.04763751,  0.01983177, -0.00740807, ..., -0.03224056,\n",
      "         0.02473337,  0.01345133],\n",
      "       ...,\n",
      "       [-0.02622602,  0.01304486,  0.02955768, ...,  0.03367165,\n",
      "         0.04720174, -0.02269682],\n",
      "       [-0.00347071, -0.02007688,  0.04407592, ...,  0.04882068,\n",
      "        -0.04419731,  0.01314156],\n",
      "       [-0.00204362, -0.01787074,  0.00158056, ...,  0.04409382,\n",
      "        -0.03745927, -0.04002011]], dtype=float32)>, 'per_arm': <tf.Tensor: shape=(128, 20, 64), dtype=float32, numpy=\n",
      "array([[[-4.31373492e-02, -3.99982817e-02,  4.68917601e-02, ...,\n",
      "         -3.23323160e-02,  5.69928810e-03, -2.99291257e-02],\n",
      "        [ 2.77543403e-02,  2.80905031e-02, -3.57163437e-02, ...,\n",
      "          1.82673074e-02, -4.87562791e-02, -2.87107714e-02],\n",
      "        [ 7.55798817e-03,  1.17151514e-02, -1.06469542e-03, ...,\n",
      "         -3.47133875e-02, -2.63665561e-02, -1.87725909e-02],\n",
      "        ...,\n",
      "        [-3.44463363e-02,  3.55622284e-02,  7.24256039e-04, ...,\n",
      "         -1.11936815e-02,  7.10232183e-03,  1.72182061e-02],\n",
      "        [-8.55660439e-03,  4.06270735e-02,  7.74493068e-03, ...,\n",
      "          1.82673074e-02, -4.87562791e-02, -2.87107714e-02],\n",
      "        [-1.88340303e-02,  3.74509580e-02,  3.34864967e-02, ...,\n",
      "         -4.83828075e-02, -3.38417068e-02, -7.53619522e-03]],\n",
      "\n",
      "       [[-3.46973911e-02, -3.75499018e-02, -1.65315717e-03, ...,\n",
      "          2.87227519e-02, -3.81244346e-03, -1.78107135e-02],\n",
      "        [-3.29475179e-02,  1.46451108e-02,  3.35770361e-02, ...,\n",
      "         -1.11936815e-02,  7.10232183e-03,  1.72182061e-02],\n",
      "        [ 7.36948103e-03,  2.35676207e-02, -1.94434077e-03, ...,\n",
      "         -1.11936815e-02,  7.10232183e-03,  1.72182061e-02],\n",
      "        ...,\n",
      "        [ 7.14975595e-03, -3.66514921e-03, -1.87134854e-02, ...,\n",
      "         -4.84191664e-02,  3.73833254e-03,  3.11759599e-02],\n",
      "        [-1.50561817e-02,  2.44393609e-02, -4.03014049e-02, ...,\n",
      "         -1.11936815e-02,  7.10232183e-03,  1.72182061e-02],\n",
      "        [-4.21285853e-02, -4.70354408e-03,  3.85001041e-02, ...,\n",
      "         -1.11936815e-02,  7.10232183e-03,  1.72182061e-02]],\n",
      "\n",
      "       [[-1.45712011e-02,  1.00969188e-02,  4.18331288e-02, ...,\n",
      "         -1.11936815e-02,  7.10232183e-03,  1.72182061e-02],\n",
      "        [-4.45892811e-02, -3.80068421e-02, -3.72647122e-03, ...,\n",
      "          1.82673074e-02, -4.87562791e-02, -2.87107714e-02],\n",
      "        [ 1.47302262e-02,  1.96580030e-02, -3.20814401e-02, ...,\n",
      "         -3.47133875e-02, -2.63665561e-02, -1.87725909e-02],\n",
      "        ...,\n",
      "        [ 7.14975595e-03, -3.66514921e-03, -1.87134854e-02, ...,\n",
      "         -4.84191664e-02,  3.73833254e-03,  3.11759599e-02],\n",
      "        [-2.94936057e-02,  4.27694805e-02,  3.46030481e-02, ...,\n",
      "          1.82673074e-02, -4.87562791e-02, -2.87107714e-02],\n",
      "        [-2.92877089e-02,  3.10460478e-03, -1.12711266e-03, ...,\n",
      "         -3.47133875e-02, -2.63665561e-02, -1.87725909e-02]],\n",
      "\n",
      "       ...,\n",
      "\n",
      "       [[-2.91050803e-02, -3.58340144e-02,  7.34613091e-03, ...,\n",
      "         -1.11936815e-02,  7.10232183e-03,  1.72182061e-02],\n",
      "        [ 3.66707705e-02,  3.64899747e-02, -8.09290260e-03, ...,\n",
      "         -1.11936815e-02,  7.10232183e-03,  1.72182061e-02],\n",
      "        [ 2.03837790e-02, -7.40103796e-03,  2.73263194e-02, ...,\n",
      "          1.82673074e-02, -4.87562791e-02, -2.87107714e-02],\n",
      "        ...,\n",
      "        [-4.32132967e-02, -2.66224146e-02, -4.15104143e-02, ...,\n",
      "         -1.11936815e-02,  7.10232183e-03,  1.72182061e-02],\n",
      "        [-4.39646505e-02, -2.21144408e-04, -4.01563533e-02, ...,\n",
      "         -1.11936815e-02,  7.10232183e-03,  1.72182061e-02],\n",
      "        [-2.42811199e-02, -4.56517227e-02,  2.99199559e-02, ...,\n",
      "         -1.11936815e-02,  7.10232183e-03,  1.72182061e-02]],\n",
      "\n",
      "       [[-2.48788726e-02,  4.08100002e-02, -6.54894114e-03, ...,\n",
      "         -3.47133875e-02, -2.63665561e-02, -1.87725909e-02],\n",
      "        [-4.20478210e-02,  3.76450159e-02, -2.72548925e-02, ...,\n",
      "          1.82673074e-02, -4.87562791e-02, -2.87107714e-02],\n",
      "        [-2.89750695e-02, -1.87126547e-03,  3.10897827e-03, ...,\n",
      "         -3.71498093e-02,  4.26640548e-02, -3.41913328e-02],\n",
      "        ...,\n",
      "        [ 2.32735611e-02, -3.27633172e-02, -9.74758714e-03, ...,\n",
      "          1.82673074e-02, -4.87562791e-02, -2.87107714e-02],\n",
      "        [-2.92594675e-02,  1.70753337e-02, -6.87357038e-03, ...,\n",
      "         -1.11936815e-02,  7.10232183e-03,  1.72182061e-02],\n",
      "        [ 3.99183482e-04, -9.51896980e-03,  8.15019011e-05, ...,\n",
      "          1.82673074e-02, -4.87562791e-02, -2.87107714e-02]],\n",
      "\n",
      "       [[-1.95200685e-02, -2.49529481e-02,  8.94992426e-03, ...,\n",
      "          1.82673074e-02, -4.87562791e-02, -2.87107714e-02],\n",
      "        [-3.66076231e-02, -2.67018080e-02,  5.80760092e-03, ...,\n",
      "         -3.47133875e-02, -2.63665561e-02, -1.87725909e-02],\n",
      "        [ 4.12194394e-02,  3.24502923e-02,  2.12355740e-02, ...,\n",
      "         -3.47133875e-02, -2.63665561e-02, -1.87725909e-02],\n",
      "        ...,\n",
      "        [-3.44117507e-02, -4.13884521e-02, -4.50140014e-02, ...,\n",
      "         -3.47133875e-02, -2.63665561e-02, -1.87725909e-02],\n",
      "        [-2.76736859e-02,  2.60606743e-02,  2.94110924e-03, ...,\n",
      "         -1.11936815e-02,  7.10232183e-03,  1.72182061e-02],\n",
      "        [-1.30671486e-02, -3.36293578e-02, -3.93329635e-02, ...,\n",
      "         -3.71498093e-02,  4.26640548e-02, -3.41913328e-02]]],\n",
      "      dtype=float32)>}\n",
      "\n",
      "Rewards after taking an action:  tf.Tensor(\n",
      "[-1.2760173   1.1013511   0.80284923 -0.4679644   1.6532092  -0.2543985\n",
      " -0.04661327 -2.8672848   0.6930183  -1.2640004  -0.04408525 -0.371141\n",
      "  2.849713   -0.26313046  0.06971022 -1.9718461  -0.09884528 -1.50501\n",
      " -0.89890844  0.72545445 -1.6546085   2.234512    0.42057773  2.957359\n",
      "  2.2239888  -0.5857686  -2.1709821   4.051247   -1.7739493   0.44223374\n",
      "  0.74213326  0.6501675  -0.69806063  2.217753    0.01885598 -0.24265487\n",
      "  2.7936647  -1.2305826   1.6232793  -0.231598   -1.5562531  -1.5605018\n",
      "  4.372738    0.3765886  -0.5506179  -1.7477778   0.34916663  0.05244953\n",
      "  3.0891018   3.2463338  -1.9778087  -2.1096754  -0.56210905  2.5213792\n",
      "  0.9334368  -0.17589298  2.0625927  -3.0452733  -2.6659338  -1.421268\n",
      "  0.02845545 -1.859713   -3.6315668  -2.2999306  -1.3094579  -1.2179343\n",
      " -2.133064   -1.3075204   0.75974256  0.08941019  0.6251917   1.9928572\n",
      " -2.17317     0.03425027  3.090372    0.24089213 -0.11956897  4.8179317\n",
      "  0.11659022 -1.2125477  -0.1714046   0.92003405  0.18538713  0.7681739\n",
      "  1.4317305  -0.9358259   0.17519958  1.8443346  -2.6097448  -1.4979949\n",
      " -3.192965   -0.0982742  -1.2079732   0.62675035 -3.1145797  -2.8411553\n",
      " -3.0666327  -1.913111    2.9564495  -3.374796    0.3187331  -1.5538418\n",
      " -1.1602483  -1.3098954  -1.3752948   1.0972528   3.3485818  -1.3805288\n",
      " -1.3951033  -1.9257616   2.0178828   2.2042384  -0.8189807  -0.09692545\n",
      "  0.96370924  1.2017509   0.06948341  3.299316    3.9933293  -0.99797535\n",
      "  1.4353247  -0.40948486 -2.3875277  -2.3692713   2.1622672   1.2730906\n",
      "  2.0833569  -1.8644531 ], shape=(128,), dtype=float32)\n"
     ]
    }
   ],
   "source": [
    "print('observation spec: ', per_arm_tf_env.observation_spec())\n",
    "print('\\nAn observation: ', per_arm_tf_env.reset().observation)\n",
    "\n",
    "action = tf.zeros(BATCH_SIZE, dtype=tf.int32)\n",
    "time_step = per_arm_tf_env.step(action)\n",
    "print('\\nRewards after taking an action: ', time_step.reward)"
   ]
  },
  {
   "cell_type": "code",
   "execution_count": 32,
   "id": "17aadc6e-7a03-4401-9457-0769ce8d83e0",
   "metadata": {},
   "outputs": [
    {
     "data": {
      "text/plain": [
       "{'global': TensorSpec(shape=(64,), dtype=tf.float32, name=None),\n",
       " 'per_arm': TensorSpec(shape=(20, 64), dtype=tf.float32, name=None)}"
      ]
     },
     "execution_count": 32,
     "metadata": {},
     "output_type": "execute_result"
    }
   ],
   "source": [
    "observation_spec = per_arm_tf_env.observation_spec()\n",
    "observation_spec"
   ]
  },
  {
   "cell_type": "code",
   "execution_count": 33,
   "id": "1a421768-8df4-496d-9b79-16138f2c445a",
   "metadata": {},
   "outputs": [
    {
     "data": {
      "text/plain": [
       "TimeStep(\n",
       "{'discount': BoundedTensorSpec(shape=(), dtype=tf.float32, name='discount', minimum=array(0., dtype=float32), maximum=array(1., dtype=float32)),\n",
       " 'observation': {'global': TensorSpec(shape=(64,), dtype=tf.float32, name=None),\n",
       "                 'per_arm': TensorSpec(shape=(20, 64), dtype=tf.float32, name=None)},\n",
       " 'reward': TensorSpec(shape=(), dtype=tf.float32, name='reward'),\n",
       " 'step_type': TensorSpec(shape=(), dtype=tf.int32, name='step_type')})"
      ]
     },
     "execution_count": 33,
     "metadata": {},
     "output_type": "execute_result"
    }
   ],
   "source": [
    "time_step_spec = ts.time_step_spec(observation_spec)\n",
    "time_step_spec"
   ]
  },
  {
   "cell_type": "code",
   "execution_count": 34,
   "id": "b84d293b-835a-4512-99bb-c9c956bf3904",
   "metadata": {},
   "outputs": [
    {
     "data": {
      "text/plain": [
       "BoundedTensorSpec(shape=(), dtype=tf.int32, name=None, minimum=array(0, dtype=int32), maximum=array(19, dtype=int32))"
      ]
     },
     "execution_count": 34,
     "metadata": {},
     "output_type": "execute_result"
    }
   ],
   "source": [
    "action_spec = tensor_spec.BoundedTensorSpec(\n",
    "    dtype=tf.int32, \n",
    "    shape=(), \n",
    "    minimum=0, \n",
    "    maximum=NUM_ACTIONS - 1\n",
    ")\n",
    "action_spec"
   ]
  },
  {
   "cell_type": "markdown",
   "id": "a44e3199-8d32-4ca8-ab1d-ae1c246d3597",
   "metadata": {},
   "source": [
    "## Define Agent Policy"
   ]
  },
  {
   "cell_type": "code",
   "execution_count": 35,
   "id": "a5eac943-be90-4000-a4ab-c01b0849f4ef",
   "metadata": {},
   "outputs": [
    {
     "name": "stdout",
     "output_type": "stream",
     "text": [
      "{'batch_size': 128,\n",
      " 'common_layers': [16, 8],\n",
      " 'epsilon': 0.01,\n",
      " 'eval_batch_size': 1,\n",
      " 'global_layers': [64, 32, 16],\n",
      " 'learning_rate': 0.05,\n",
      " 'model_type': 'LinUCB',\n",
      " 'network_type': 'dotproduct',\n",
      " 'num_actions': 20,\n",
      " 'per_arm_layers': [64, 32, 16]}\n"
     ]
    }
   ],
   "source": [
    "# ================================\n",
    "# Agents\n",
    "# ================================\n",
    "AGENT_TYPE      = 'LinUCB' # 'LinUCB' | 'LinTS |, 'epsGreedy' | 'NeuralLinUCB'\n",
    "\n",
    "# Parameters for linear agents (LinUCB and LinTS).\n",
    "AGENT_ALPHA     = 0.1\n",
    "\n",
    "# Parameters for neural agents (NeuralEpsGreedy and NerualLinUCB).\n",
    "EPSILON         = 0.01\n",
    "LR              = 0.05\n",
    "\n",
    "# Parameters for NeuralLinUCB\n",
    "ENCODING_DIM    = 1\n",
    "EPS_PHASE_STEPS = 1000\n",
    "\n",
    "# ================================\n",
    "# Agent's Preprocess Network\n",
    "# ================================\n",
    "NETWORK_TYPE    = \"dotproduct\" # 'dotproduct' | 'dotproduct'\n",
    "\n",
    "if AGENT_TYPE == 'NeuralLinUCB':\n",
    "    NETWORK_TYPE = 'commontower'\n",
    "    \n",
    "GLOBAL_LAYERS   = [64, 32, 16] # beginning should be of size: GLOBAL_DIM\n",
    "ARM_LAYERS      = [64, 32, 16] # beginning should be of size: PER_ARM_DIM\n",
    "COMMON_LAYERS   = [16, 8]\n",
    "\n",
    "HPARAMS = {  # TODO - streamline and consolidate\n",
    "    \"batch_size\": BATCH_SIZE,\n",
    "    \"eval_batch_size\" : EVAL_BATCH_SIZE,\n",
    "    \"num_actions\": NUM_ACTIONS,\n",
    "    \"model_type\": AGENT_TYPE,\n",
    "    \"network_type\": NETWORK_TYPE,\n",
    "    \"global_layers\": GLOBAL_LAYERS,\n",
    "    \"per_arm_layers\": ARM_LAYERS,\n",
    "    \"common_layers\": COMMON_LAYERS,\n",
    "    \"learning_rate\": LR,\n",
    "    \"epsilon\": EPSILON,\n",
    "}\n",
    "pprint(HPARAMS)"
   ]
  },
  {
   "cell_type": "code",
   "execution_count": 36,
   "id": "d45cb370-b6d5-46d3-afc5-238d9ef45656",
   "metadata": {},
   "outputs": [
    {
     "name": "stdout",
     "output_type": "stream",
     "text": [
      "agent: linear_ucb_agent\n",
      "Network: dotproduct\n"
     ]
    }
   ],
   "source": [
    "from src.perarm_features import agent_factory as agent_factory\n",
    "\n",
    "global_step = tf.compat.v1.train.get_or_create_global_step()\n",
    "\n",
    "agent = agent_factory.PerArmAgentFactory._get_agent(\n",
    "    agent_type = AGENT_TYPE,\n",
    "    network_type = NETWORK_TYPE,\n",
    "    time_step_spec = time_step_spec,\n",
    "    action_spec = action_spec,\n",
    "    observation_spec=observation_spec,\n",
    "    global_layers = GLOBAL_LAYERS,\n",
    "    arm_layers = ARM_LAYERS,\n",
    "    common_layers = COMMON_LAYERS,\n",
    "    agent_alpha = AGENT_ALPHA,\n",
    "    learning_rate = LR,\n",
    "    epsilon = EPSILON,\n",
    "    train_step_counter = global_step,\n",
    "    output_dim = ENCODING_DIM,\n",
    "    eps_phase_steps = EPS_PHASE_STEPS,\n",
    "    summarize_grads_and_vars = True,\n",
    "    debug_summaries = True\n",
    ")\n",
    "      \n",
    "agent.initialize()\n",
    "print(f'agent: {agent.name}')\n",
    "\n",
    "# if network:\n",
    "#     print(f\"Network: {network}\")\n",
    "\n",
    "if NETWORK_TYPE:\n",
    "    print(f\"Network: {NETWORK_TYPE}\")"
   ]
  },
  {
   "cell_type": "markdown",
   "id": "f6be8938-f35f-4858-895b-1a7f7d13a7cd",
   "metadata": {},
   "source": [
    "### The Flow of Training Data\n",
    "\n",
    "look at the data specification in the agent. The training_data_spec attribute of the agent specifies what elements and structure the training data should have."
   ]
  },
  {
   "cell_type": "code",
   "execution_count": 37,
   "id": "82761ce9-3392-4253-a3f2-ad2c3d300040",
   "metadata": {},
   "outputs": [
    {
     "name": "stdout",
     "output_type": "stream",
     "text": [
      "training data spec:  Trajectory(\n",
      "{'action': BoundedTensorSpec(shape=(), dtype=tf.int32, name=None, minimum=array(0, dtype=int32), maximum=array(19, dtype=int32)),\n",
      " 'discount': BoundedTensorSpec(shape=(), dtype=tf.float32, name='discount', minimum=array(0., dtype=float32), maximum=array(1., dtype=float32)),\n",
      " 'next_step_type': TensorSpec(shape=(), dtype=tf.int32, name='step_type'),\n",
      " 'observation': DictWrapper({'global': TensorSpec(shape=(64,), dtype=tf.float32, name=None)}),\n",
      " 'policy_info': PerArmPolicyInfo(log_probability=(), predicted_rewards_mean=(), multiobjective_scalarized_predicted_rewards_mean=(), predicted_rewards_optimistic=(), predicted_rewards_sampled=(), bandit_policy_type=(), chosen_arm_features=TensorSpec(shape=(64,), dtype=tf.float32, name=None)),\n",
      " 'reward': TensorSpec(shape=(), dtype=tf.float32, name='reward'),\n",
      " 'step_type': TensorSpec(shape=(), dtype=tf.int32, name='step_type')})\n"
     ]
    }
   ],
   "source": [
    "print('training data spec: ', agent.training_data_spec)"
   ]
  },
  {
   "cell_type": "code",
   "execution_count": 38,
   "id": "ce10bdf3-7274-484b-8f36-021b0c5be062",
   "metadata": {},
   "outputs": [],
   "source": [
    "def _all_rewards(observation, hidden_param):\n",
    "    \"\"\"Outputs rewards for all actions, given an observation.\"\"\"\n",
    "    hidden_param = tf.cast(hidden_param, dtype=tf.float32)\n",
    "    global_obs = observation[bandit_spec_utils.GLOBAL_FEATURE_KEY]\n",
    "    per_arm_obs = observation[bandit_spec_utils.PER_ARM_FEATURE_KEY]\n",
    "    num_actions = tf.shape(per_arm_obs)[1]\n",
    "    tiled_global = tf.tile(\n",
    "        tf.expand_dims(global_obs, axis=1), [1, num_actions, 1]\n",
    "    )\n",
    "    concatenated = tf.concat([tiled_global, per_arm_obs], axis=-1)\n",
    "    rewards = tf.linalg.matvec(concatenated, hidden_param)\n",
    "    return rewards\n",
    "\n",
    "def optimal_reward(observation):\n",
    "    \"\"\"\n",
    "    Outputs the maximum expected reward \n",
    "    for every element in the batch.\n",
    "    \"\"\"\n",
    "    return tf.reduce_max(_all_rewards(observation, HIDDEN_PARAM), axis=1)\n",
    "\n",
    "regret_metric = tf_bandit_metrics.RegretMetric(optimal_reward)"
   ]
  },
  {
   "cell_type": "code",
   "execution_count": 39,
   "id": "1e9fc119-2cc8-47a1-a7bf-f6a03c95f6db",
   "metadata": {},
   "outputs": [],
   "source": [
    "def optimal_action(observation, hidden_param):\n",
    "    \n",
    "    return tf.argmax(\n",
    "        _all_rewards(observation, hidden_param), axis=1, output_type=tf.int32\n",
    "    )\n",
    "\n",
    "optimal_action_fn = functools.partial(\n",
    "    optimal_action, hidden_param=HIDDEN_PARAM\n",
    ")\n",
    "\n",
    "suboptimal_arms_metric = tf_bandit_metrics.SuboptimalArmsMetric(\n",
    "    optimal_action_fn\n",
    ")"
   ]
  },
  {
   "cell_type": "markdown",
   "id": "71ad9c4c-ab48-4158-b172-3dd0ddcfb131",
   "metadata": {},
   "source": [
    "# Training"
   ]
  },
  {
   "cell_type": "markdown",
   "id": "7bc25fe7-f557-4108-80ff-e8a0cd90a867",
   "metadata": {},
   "source": [
    "## Simple train"
   ]
  },
  {
   "cell_type": "code",
   "execution_count": 40,
   "id": "de6e6ad7-6638-40e0-ad97-aea2842e392d",
   "metadata": {},
   "outputs": [
    {
     "name": "stdout",
     "output_type": "stream",
     "text": [
      "LOG_INTERVAL: 10\n"
     ]
    }
   ],
   "source": [
    "num_iterations = 100\n",
    "steps_per_loop = 1\n",
    "LOG_INTERVAL = num_iterations // 10\n",
    "\n",
    "print(f'LOG_INTERVAL: {LOG_INTERVAL}')"
   ]
  },
  {
   "cell_type": "code",
   "execution_count": 42,
   "id": "5787164f-9873-422b-88ed-8dc661aaa9ff",
   "metadata": {},
   "outputs": [
    {
     "name": "stdout",
     "output_type": "stream",
     "text": [
      "starting train loop...\n",
      "iteration = 0: step = 128; regret = 2.630000114440918\n",
      "iteration = 10: step = 1408; regret = 0.23999999463558197\n",
      "iteration = 20: step = 2688; regret = 0.07000000029802322\n",
      "iteration = 30: step = 3968; regret = 0.17000000178813934\n",
      "iteration = 40: step = 5248; regret = -0.05999999865889549\n",
      "iteration = 50: step = 6528; regret = 0.0\n",
      "iteration = 60: step = 7808; regret = 0.009999999776482582\n",
      "iteration = 70: step = 9088; regret = -0.05999999865889549\n",
      "iteration = 80: step = 10368; regret = 0.03999999910593033\n",
      "iteration = 90: step = 11648; regret = -0.07000000029802322\n",
      "train runtime_mins: 27\n"
     ]
    }
   ],
   "source": [
    "replay_buffer = tf_uniform_replay_buffer.TFUniformReplayBuffer(\n",
    "    data_spec=agent.policy.trajectory_spec,\n",
    "    batch_size=BATCH_SIZE,\n",
    "    max_length=steps_per_loop\n",
    ")\n",
    "\n",
    "observers = [replay_buffer.add_batch, regret_metric]\n",
    "\n",
    "driver = dynamic_step_driver.DynamicStepDriver(\n",
    "    env=per_arm_tf_env,\n",
    "    policy=agent.collect_policy,\n",
    "    num_steps=steps_per_loop, #* BATCH_SIZE,\n",
    "    observers=observers\n",
    ")\n",
    "\n",
    "regret_values = []\n",
    "\n",
    "print(f\"starting train loop...\")\n",
    "start_time = time.time()\n",
    "\n",
    "for i in range(num_iterations):\n",
    "    driver.run()\n",
    "    loss_info = agent.train(replay_buffer.gather_all())\n",
    "    replay_buffer.clear()\n",
    "    regret_values.append(regret_metric.result())\n",
    "    \n",
    "    # print step loss\n",
    "    if i % LOG_INTERVAL == 0:\n",
    "        print(\n",
    "            'iteration = {0}: step = {1}; regret = {2}'.format(\n",
    "                i, global_step.numpy(), round((regret_metric.result().numpy()), 2)\n",
    "            )\n",
    "        )\n",
    "        \n",
    "runtime_mins = int((time.time() - start_time) / 60)\n",
    "print(f\"train runtime_mins: {runtime_mins}\")"
   ]
  },
  {
   "cell_type": "code",
   "execution_count": 43,
   "id": "a7863f7e-185f-4884-9c8f-c054ba0cb693",
   "metadata": {},
   "outputs": [
    {
     "data": {
      "image/png": "[encoded data removed]",
      "text/plain": [
       "<Figure size 640x480 with 1 Axes>"
      ]
     },
     "metadata": {},
     "output_type": "display_data"
    }
   ],
   "source": [
    "plt.plot(regret_values)\n",
    "plt.title(f'Regret of {agent.name} on the Linear per-arm environment')\n",
    "plt.xlabel('Number of Iterations')\n",
    "_ = plt.ylabel('Average Regret')"
   ]
  },
  {
   "cell_type": "markdown",
   "id": "f5ca835c-125e-4175-b35e-23b5e13efb64",
   "metadata": {},
   "source": [
    "## Trainer loop"
   ]
  },
  {
   "cell_type": "markdown",
   "id": "2369d405-05a7-4c63-9bac-b25f57820003",
   "metadata": {},
   "source": [
    "### Vertex AI Experiments"
   ]
  },
  {
   "cell_type": "code",
   "execution_count": 44,
   "id": "3d698d08-e97a-494b-b739-713b79f70395",
   "metadata": {},
   "outputs": [
    {
     "name": "stdout",
     "output_type": "stream",
     "text": [
      "EXPERIMENT_NAME   : ss-perarm-env-rec-bandits-v2\n",
      "RUN_NAME          : run-20231102-113241\n",
      "\n",
      "BASE_OUTPUT_DIR   : gs://rec-bandits-v2-hybrid-vertex-bucket/ss-perarm-env-rec-bandits-v2/run-20231102-113241\n",
      "LOG_DIR           : gs://rec-bandits-v2-hybrid-vertex-bucket/ss-perarm-env-rec-bandits-v2/run-20231102-113241/logs\n",
      "ROOT_DIR          : gs://rec-bandits-v2-hybrid-vertex-bucket/ss-perarm-env-rec-bandits-v2/run-20231102-113241/root\n",
      "ARTIFACTS_DIR     : gs://rec-bandits-v2-hybrid-vertex-bucket/ss-perarm-env-rec-bandits-v2/run-20231102-113241/artifacts\n"
     ]
    }
   ],
   "source": [
    "EXPERIMENT_NAME   = f'ss-perarm-env-{PREFIX}'\n",
    "\n",
    "# new experiment\n",
    "invoke_time       = time.strftime(\"%Y%m%d-%H%M%S\")\n",
    "RUN_NAME          = f'run-{invoke_time}'\n",
    "\n",
    "BASE_OUTPUT_DIR   = f'{BUCKET_URI}/{EXPERIMENT_NAME}/{RUN_NAME}'\n",
    "LOG_DIR           = f\"{BASE_OUTPUT_DIR}/logs\"\n",
    "ROOT_DIR          = f\"{BASE_OUTPUT_DIR}/root\"       # Root directory for writing logs/summaries/checkpoints.\n",
    "ARTIFACTS_DIR     = f\"{BASE_OUTPUT_DIR}/artifacts\"  # Where the trained model will be saved and restored.\n",
    "\n",
    "aiplatform.init(\n",
    "    project=PROJECT_ID,\n",
    "    location=REGION,\n",
    "    experiment=EXPERIMENT_NAME\n",
    ")\n",
    "\n",
    "print(f\"EXPERIMENT_NAME   : {EXPERIMENT_NAME}\")\n",
    "print(f\"RUN_NAME          : {RUN_NAME}\\n\")\n",
    "print(f\"BASE_OUTPUT_DIR   : {BASE_OUTPUT_DIR}\")\n",
    "print(f\"LOG_DIR           : {LOG_DIR}\")\n",
    "print(f\"ROOT_DIR          : {ROOT_DIR}\")\n",
    "print(f\"ARTIFACTS_DIR     : {ARTIFACTS_DIR}\")"
   ]
  },
  {
   "cell_type": "markdown",
   "id": "f67ebad9-1395-42bf-9940-c9a43aef51c5",
   "metadata": {},
   "source": [
    "### Define helper functions"
   ]
  },
  {
   "cell_type": "code",
   "execution_count": 45,
   "id": "ed489ff9-1679-44e9-8cac-655a9b9760ee",
   "metadata": {},
   "outputs": [],
   "source": [
    "from tf_agents.bandits.replay_buffers import bandit_replay_buffer\n",
    "from tf_agents.drivers import dynamic_step_driver\n",
    "from tf_agents.eval import metric_utils\n",
    "# from tf_agents.google.metrics import export_utils\n",
    "from tf_agents.metrics import export_utils\n",
    "from tf_agents.metrics import tf_metrics\n",
    "from tf_agents.policies import policy_saver"
   ]
  },
  {
   "cell_type": "code",
   "execution_count": 46,
   "id": "56fc4ef4-73c8-4696-9c97-791e9a3f3df5",
   "metadata": {},
   "outputs": [],
   "source": [
    "def _get_replay_buffer(\n",
    "    data_spec, batch_size, steps_per_loop, async_steps_per_loop\n",
    "):\n",
    "    \"\"\"Return a `TFUniformReplayBuffer` for the given `agent`.\"\"\"\n",
    "    return bandit_replay_buffer.BanditReplayBuffer(\n",
    "        data_spec=data_spec,\n",
    "        batch_size=batch_size,\n",
    "        max_length=steps_per_loop * async_steps_per_loop,\n",
    "    )\n",
    "\n",
    "\n",
    "def set_expected_shape(experience, num_steps):\n",
    "    \"\"\"Sets expected shape.\"\"\"\n",
    "\n",
    "    def set_time_dim(input_tensor, steps):\n",
    "        tensor_shape = input_tensor.shape.as_list()\n",
    "        if len(tensor_shape) < 2:\n",
    "            raise ValueError(\n",
    "                'input_tensor is expected to be of rank-2, but found otherwise: '\n",
    "                f'input_tensor={input_tensor}, tensor_shape={tensor_shape}'\n",
    "            )\n",
    "        tensor_shape[1] = steps\n",
    "        input_tensor.set_shape(tensor_shape)\n",
    "\n",
    "    tf.nest.map_structure(lambda t: set_time_dim(t, num_steps), experience)\n",
    "    \n",
    "def _get_training_loop(\n",
    "    driver, replay_buffer, agent, steps, async_steps_per_loop\n",
    "):\n",
    "    \"\"\"Returns a `tf.function` that runs the driver and training loops.\n",
    "\n",
    "    Args:\n",
    "    driver: an instance of `Driver`.\n",
    "    replay_buffer: an instance of `ReplayBuffer`.\n",
    "    agent: an instance of `TFAgent`.\n",
    "    steps: an integer indicating how many driver steps should be executed and\n",
    "      presented to the trainer during each training loop.\n",
    "    async_steps_per_loop: an integer. In each training loop, the driver runs\n",
    "      this many times, and then the agent gets asynchronously trained over this\n",
    "      many batches sampled from the replay buffer.\n",
    "    \"\"\"\n",
    "\n",
    "    def _export_metrics_and_summaries(step, metrics):\n",
    "        \"\"\"Exports metrics and tf summaries.\"\"\"\n",
    "        metric_utils.log_metrics(metrics)\n",
    "        export_utils.export_metrics(step=step, metrics=metrics)\n",
    "        for metric in metrics:\n",
    "            metric.tf_summaries(train_step=step)\n",
    "\n",
    "    def training_loop(train_step, metrics):\n",
    "        \"\"\"Returns a function that runs a single training loop and logs metrics.\"\"\"\n",
    "        for batch_id in range(async_steps_per_loop):\n",
    "            driver.run()\n",
    "            _export_metrics_and_summaries(\n",
    "                step=train_step * async_steps_per_loop + batch_id, metrics=metrics\n",
    "            )\n",
    "        batch_size = driver.env.batch_size\n",
    "        dataset_it = iter(\n",
    "            replay_buffer.as_dataset(\n",
    "                sample_batch_size=batch_size,\n",
    "                num_steps=steps,\n",
    "                single_deterministic_pass=True,\n",
    "            )\n",
    "        )\n",
    "        for batch_id in range(async_steps_per_loop):\n",
    "            experience, unused_buffer_info = dataset_it.get_next()\n",
    "            set_expected_shape(experience, steps)\n",
    "            loss_info = agent.train(experience)\n",
    "            export_utils.export_metrics(\n",
    "                step=train_step * async_steps_per_loop + batch_id,\n",
    "                metrics=[],\n",
    "                loss_info=loss_info,\n",
    "            )\n",
    "            if train_step % 10 == 0:\n",
    "                print(\n",
    "                    f'step = {train_step}: train loss = {round(loss_info.loss.numpy(), 2)}'\n",
    "                )\n",
    "\n",
    "        replay_buffer.clear()\n",
    "\n",
    "    return training_loop"
   ]
  },
  {
   "cell_type": "code",
   "execution_count": 47,
   "id": "f97a8eda-8012-4abb-8a9b-210aca105696",
   "metadata": {},
   "outputs": [],
   "source": [
    "AGENT_CHECKPOINT_NAME = 'agent'\n",
    "STEP_CHECKPOINT_NAME = 'step'\n",
    "CHECKPOINT_FILE_PREFIX = 'ckpt'\n",
    "\n",
    "def restore_and_get_checkpoint_manager(root_dir, agent, metrics, step_metric):\n",
    "    \"\"\"Restores from `root_dir` and returns a function that writes checkpoints.\"\"\"\n",
    "    trackable_objects = {metric.name: metric for metric in metrics}\n",
    "    trackable_objects[AGENT_CHECKPOINT_NAME] = agent\n",
    "    trackable_objects[STEP_CHECKPOINT_NAME] = step_metric\n",
    "    checkpoint = tf.train.Checkpoint(**trackable_objects)\n",
    "    checkpoint_manager = tf.train.CheckpointManager(\n",
    "        checkpoint=checkpoint, directory=root_dir, max_to_keep=5\n",
    "    )\n",
    "    latest = checkpoint_manager.latest_checkpoint\n",
    "    if latest is not None:\n",
    "        logging.info('Restoring checkpoint from %s.', latest)\n",
    "        checkpoint.restore(latest)\n",
    "        logging.info('Successfully restored to step %s.', step_metric.result())\n",
    "    else:\n",
    "        logging.info(\n",
    "            'Did not find a pre-existing checkpoint. Starting from scratch.'\n",
    "        )\n",
    "    return checkpoint_manager"
   ]
  },
  {
   "cell_type": "code",
   "execution_count": 48,
   "id": "8097d347-af69-416d-8b96-5db7bb9d8783",
   "metadata": {},
   "outputs": [],
   "source": [
    "def train(\n",
    "    # root_dir,\n",
    "    artifact_dir,\n",
    "    log_dir,\n",
    "    agent,\n",
    "    environment,\n",
    "    training_loops,\n",
    "    steps_per_loop,\n",
    "    async_steps_per_loop=None,\n",
    "    additional_metrics=(),\n",
    "    get_replay_buffer_fn=None,\n",
    "    get_training_loop_fn=None,\n",
    "    training_data_spec_transformation_fn=None,\n",
    "    save_policy=True,\n",
    "    resume_training_loops=True,\n",
    "):\n",
    "    \"\"\"Perform `training_loops` iterations of training.\n",
    "\n",
    "    Checkpoint results.\n",
    "\n",
    "    If one or more baseline_reward_fns are provided, the regret is computed\n",
    "    against each one of them. Here is example baseline_reward_fn:\n",
    "\n",
    "    def baseline_reward_fn(observation, per_action_reward_fns):\n",
    "    rewards = ... # compute reward for each arm\n",
    "    optimal_action_reward = ... # take the maximum reward\n",
    "    return optimal_action_reward\n",
    "    \"\"\"\n",
    "\n",
    "    # TODO(b/127641485): create evaluation loop with configurable metrics.\n",
    "    if training_data_spec_transformation_fn is None:\n",
    "        data_spec = agent.policy.trajectory_spec\n",
    "    else:\n",
    "        data_spec = training_data_spec_transformation_fn(\n",
    "            agent.policy.trajectory_spec\n",
    "        )\n",
    "    if async_steps_per_loop is None:\n",
    "        async_steps_per_loop = 1\n",
    "    if get_replay_buffer_fn is None:\n",
    "        get_replay_buffer_fn = _get_replay_buffer\n",
    "    replay_buffer = get_replay_buffer_fn(\n",
    "        data_spec, environment.batch_size, steps_per_loop, async_steps_per_loop\n",
    "    )\n",
    "\n",
    "    # `step_metric` records the number of individual rounds of bandit interaction;\n",
    "    # that is, (number of trajectories) * batch_size.\n",
    "    step_metric = tf_metrics.EnvironmentSteps()\n",
    "    metrics = [\n",
    "        tf_metrics.NumberOfEpisodes(),\n",
    "        tf_metrics.AverageEpisodeLengthMetric(batch_size=environment.batch_size),\n",
    "    ] + list(additional_metrics)\n",
    "\n",
    "    # If the reward anything else than a single scalar, we're adding multimetric\n",
    "    # average reward.\n",
    "    if isinstance(\n",
    "        environment.reward_spec(), dict\n",
    "    ) or environment.reward_spec().shape != tf.TensorShape(()):\n",
    "        metrics += [\n",
    "            tf_metrics.AverageReturnMultiMetric(\n",
    "                reward_spec=environment.reward_spec(),\n",
    "                batch_size=environment.batch_size,\n",
    "            )\n",
    "        ]\n",
    "    if not isinstance(environment.reward_spec(), dict):\n",
    "        metrics += [\n",
    "            tf_metrics.AverageReturnMetric(batch_size=environment.batch_size)\n",
    "        ]\n",
    "\n",
    "    if training_data_spec_transformation_fn is not None:\n",
    "        add_batch_fn = lambda data: replay_buffer.add_batch(  # pylint: disable=g-long-lambda\n",
    "        training_data_spec_transformation_fn(data)\n",
    "    )\n",
    "    else:\n",
    "        add_batch_fn = replay_buffer.add_batch\n",
    "\n",
    "    observers = [add_batch_fn, step_metric] + metrics\n",
    "\n",
    "    driver = dynamic_step_driver.DynamicStepDriver(\n",
    "        env=environment,\n",
    "        policy=agent.collect_policy,\n",
    "        num_steps=steps_per_loop * environment.batch_size,\n",
    "        observers=observers,\n",
    "    )\n",
    "\n",
    "    if get_training_loop_fn is None:\n",
    "        get_training_loop_fn = _get_training_loop\n",
    "    training_loop = get_training_loop_fn(\n",
    "        driver, replay_buffer, agent, steps_per_loop, async_steps_per_loop\n",
    "    )\n",
    "    checkpoint_manager = restore_and_get_checkpoint_manager(\n",
    "        artifact_dir, agent, metrics, step_metric\n",
    "    )\n",
    "    train_step_counter = tf.compat.v1.train.get_or_create_global_step()\n",
    "    if save_policy:\n",
    "        saver = policy_saver.PolicySaver(\n",
    "            agent.policy, train_step=train_step_counter\n",
    "        )\n",
    "\n",
    "    summary_writer = tf.summary.create_file_writer(log_dir)\n",
    "    summary_writer.set_as_default()\n",
    "\n",
    "    if resume_training_loops:\n",
    "        train_step_count_per_loop = (\n",
    "            steps_per_loop * environment.batch_size * async_steps_per_loop\n",
    "        )\n",
    "        last_checkpointed_step = step_metric.result().numpy()\n",
    "        if last_checkpointed_step % train_step_count_per_loop != 0:\n",
    "            raise ValueError(\n",
    "                'Last checkpointed step is expected to be a multiple of '\n",
    "                'steps_per_loop * batch_size * async_steps_per_loop, but found '\n",
    "                f'otherwise: last checkpointed step: {last_checkpointed_step}, '\n",
    "                f'steps_per_loop: {steps_per_loop}, batch_size: '\n",
    "                f'{environment.batch_size}, async_steps_per_loop: '\n",
    "                f'{async_steps_per_loop}'\n",
    "            )\n",
    "        starting_loop = last_checkpointed_step // train_step_count_per_loop\n",
    "    else:\n",
    "        starting_loop = 0\n",
    "\n",
    "    for i in range(starting_loop, training_loops):\n",
    "        training_loop(train_step=i, metrics=metrics)\n",
    "        checkpoint_manager.save()\n",
    "        if save_policy & (i % 100 == 0):\n",
    "            saver.save(os.path.join(artifact_dir, 'policy_%d' % step_metric.result()))"
   ]
  },
  {
   "cell_type": "code",
   "execution_count": 49,
   "id": "74b54425-2941-4134-84e8-e206f27e5bca",
   "metadata": {},
   "outputs": [],
   "source": [
    "TRAINING_LOOPS = 100\n",
    "STEPS_PER_LOOP = 2"
   ]
  },
  {
   "cell_type": "code",
   "execution_count": 50,
   "id": "a1727445-bf66-4341-884f-f6b0dc0c32aa",
   "metadata": {},
   "outputs": [
    {
     "name": "stdout",
     "output_type": "stream",
     "text": [
      "starting train loop...\n",
      "step = 0: train loss = 1.090000033378601\n",
      "step = 10: train loss = 1.0099999904632568\n",
      "step = 20: train loss = 1.149999976158142\n",
      "step = 30: train loss = 1.1200000047683716\n",
      "step = 40: train loss = 0.8700000047683716\n",
      "step = 50: train loss = 0.9100000262260437\n",
      "step = 60: train loss = 1.149999976158142\n",
      "step = 70: train loss = 1.0399999618530273\n",
      "step = 80: train loss = 1.0800000429153442\n",
      "step = 90: train loss = 1.090000033378601\n",
      "train runtime_mins: 57\n"
     ]
    }
   ],
   "source": [
    "print(f\"starting train loop...\")\n",
    "start_time = time.time()\n",
    "\n",
    "train(\n",
    "    # root_dir=BASE_OUTPUT_DIR,\n",
    "      artifact_dir=ARTIFACTS_DIR,\n",
    "      log_dir=LOG_DIR,\n",
    "      agent=agent,\n",
    "      environment=per_arm_tf_env,\n",
    "      training_loops=TRAINING_LOOPS,\n",
    "      steps_per_loop=STEPS_PER_LOOP,\n",
    "      additional_metrics=[regret_metric, suboptimal_arms_metric],\n",
    "      training_data_spec_transformation_fn=None,\n",
    ")\n",
    "\n",
    "runtime_mins = int((time.time() - start_time) / 60)\n",
    "print(f\"train runtime_mins: {runtime_mins}\")"
   ]
  },
  {
   "cell_type": "markdown",
   "id": "4a51b685-e550-4c4c-a7a4-358d1e409699",
   "metadata": {},
   "source": [
    "### evlauate training job"
   ]
  },
  {
   "cell_type": "code",
   "execution_count": 51,
   "id": "fbfa73ff-b934-444f-a544-0b2a6e858773",
   "metadata": {},
   "outputs": [],
   "source": [
    "# %load_ext tensorboard\n",
    "%reload_ext tensorboard"
   ]
  },
  {
   "cell_type": "code",
   "execution_count": 52,
   "id": "abb55b32-be63-49bd-95dd-d9f089431193",
   "metadata": {},
   "outputs": [
    {
     "data": {
      "text/html": [
       "\n",
       "      <iframe id=\"tensorboard-frame-cb7de80710c1e579\" width=\"100%\" height=\"800\" frameborder=\"0\">\n",
       "      </iframe>\n",
       "      <script>\n",
       "        (function() {\n",
       "          const frame = document.getElementById(\"tensorboard-frame-cb7de80710c1e579\");\n",
       "          const url = new URL(\"/proxy/6006/\", window.location);\n",
       "          const port = 0;\n",
       "          if (port) {\n",
       "            url.port = port;\n",
       "          }\n",
       "          frame.src = url;\n",
       "        })();\n",
       "      </script>\n",
       "    "
      ],
      "text/plain": [
       "<IPython.core.display.HTML object>"
      ]
     },
     "metadata": {},
     "output_type": "display_data"
    }
   ],
   "source": [
    "%tensorboard --logdir=$LOG_DIR "
   ]
  },
  {
   "cell_type": "markdown",
   "id": "29e782f2-2beb-439a-85fd-e455f679ac09",
   "metadata": {},
   "source": [
    "**Finished**"
   ]
  }
 ],
 "metadata": {
  "environment": {
   "kernel": "python3",
   "name": "tf2-gpu.2-13.m112",
   "type": "gcloud",
   "uri": "gcr.io/deeplearning-platform-release/tf2-gpu.2-13:m112"
  },
  "kernelspec": {
   "display_name": "Python 3",
   "language": "python",
   "name": "python3"
  },
  "language_info": {
   "codemirror_mode": {
    "name": "ipython",
    "version": 3
   },
   "file_extension": ".py",
   "mimetype": "text/x-python",
   "name": "python",
   "nbconvert_exporter": "python",
   "pygments_lexer": "ipython3",
   "version": "3.10.12"
  }
 },
 "nbformat": 4,
 "nbformat_minor": 5
}
