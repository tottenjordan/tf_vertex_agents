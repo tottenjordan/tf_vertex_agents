{
 "cells": [
  {
   "cell_type": "code",
   "execution_count": 1,
   "id": "a2c6c83f-dfd4-4beb-9776-e802523062cd",
   "metadata": {},
   "outputs": [],
   "source": [
    "import os\n",
    "os.environ['TF_CPP_MIN_LOG_LEVEL'] = '2'"
   ]
  },
  {
   "cell_type": "code",
   "execution_count": 2,
   "id": "6e74fec3-186a-483d-8bec-b75060d4b9a3",
   "metadata": {},
   "outputs": [],
   "source": [
    "import functools\n",
    "import matplotlib.pyplot as plt\n",
    "import numpy as np\n",
    "import tensorflow as tf\n",
    "\n",
    "from tf_agents.bandits.agents import lin_ucb_agent\n",
    "from tf_agents.bandits.environments import stationary_stochastic_per_arm_py_environment as p_a_env\n",
    "from tf_agents.bandits.metrics import tf_metrics as tf_bandit_metrics\n",
    "from tf_agents.drivers import dynamic_step_driver\n",
    "from tf_agents.environments import tf_py_environment\n",
    "from tf_agents.replay_buffers import tf_uniform_replay_buffer\n",
    "from tf_agents.specs import tensor_spec\n",
    "from tf_agents.trajectories import time_step as ts\n",
    "\n",
    "nest = tf.nest"
   ]
  },
  {
   "cell_type": "markdown",
   "id": "9813d79e-ce38-4a97-99d9-97b7ff050ba3",
   "metadata": {
    "tags": []
   },
   "source": [
    "# Simple Example"
   ]
  },
  {
   "cell_type": "code",
   "execution_count": 2,
   "id": "8a66b5a3-8801-42be-8548-a2aa60527741",
   "metadata": {},
   "outputs": [],
   "source": [
    "# The dimension of the global features.\n",
    "GLOBAL_DIM = 40  #@param {type:\"integer\"}\n",
    "\n",
    "# The elements of the global feature will be integers in [-GLOBAL_BOUND, GLOBAL_BOUND).\n",
    "GLOBAL_BOUND = 10  #@param {type:\"integer\"}\n",
    "\n",
    "# The dimension of the per-arm features.\n",
    "PER_ARM_DIM = 50  #@param {type:\"integer\"}\n",
    "\n",
    "# The elements of the PER-ARM feature will be integers in [-PER_ARM_BOUND, PER_ARM_BOUND).\n",
    "PER_ARM_BOUND = 6  #@param {type:\"integer\"}\n",
    "\n",
    "# The variance of the Gaussian distribution that generates the rewards.\n",
    "VARIANCE = 100.0  #@param {type: \"number\"}\n",
    "\n",
    "# The elements of the linear reward parameter will be integers in [-PARAM_BOUND, PARAM_BOUND).\n",
    "PARAM_BOUND = 10  #@param {type: \"integer\"}\n",
    "\n",
    "NUM_ACTIONS = 70  #@param {type:\"integer\"}\n",
    "BATCH_SIZE = 20  #@param {type:\"integer\"}\n",
    "\n",
    "# Parameter for linear reward function acting on the\n",
    "# concatenation of global and per-arm features.\n",
    "reward_param = list(np.random.randint(\n",
    "      -PARAM_BOUND, PARAM_BOUND, [GLOBAL_DIM + PER_ARM_DIM]))"
   ]
  },
  {
   "cell_type": "markdown",
   "id": "ec617737-2c97-4784-8b8c-73c7e4c479c8",
   "metadata": {},
   "source": [
    "### A Simple Per-Arm Environment\n",
    "The stationary stochastic environment, explained in the other tutorial, has a per-arm counterpart.\n",
    "\n",
    "To initialize the per-arm environment, one has to define functions that generate\n",
    "\n",
    "* `global and per-arm features`: These functions have no input parameters and generate a single (global or per-arm) feature vector when called.\n",
    "* `rewards`: This function takes as parameter the concatenation of a global and a per-arm feature vector, and generates a reward. Basically this is the function that the agent will have to \"guess\". It is worth noting here that in the per-arm case the reward function is identical for every arm. This is a fundamental difference from the classic bandit case, where the agent has to estimate reward functions for each arm independently."
   ]
  },
  {
   "cell_type": "code",
   "execution_count": 3,
   "id": "481dfc21-aeaa-434d-812c-0db7a355dbfe",
   "metadata": {},
   "outputs": [],
   "source": [
    "def global_context_sampling_fn():\n",
    "    \"\"\"\n",
    "    This function generates a single global observation vector.\n",
    "    \"\"\"\n",
    "    return np.random.randint(\n",
    "        -GLOBAL_BOUND\n",
    "        , GLOBAL_BOUND\n",
    "        , [GLOBAL_DIM]\n",
    "    ).astype(np.float32)\n",
    "\n",
    "def per_arm_context_sampling_fn():\n",
    "    \"\"\"\"\n",
    "    This function generates a single per-arm observation vector.\n",
    "    \"\"\"\n",
    "    return np.random.randint(\n",
    "        -PER_ARM_BOUND\n",
    "        , PER_ARM_BOUND\n",
    "        , [PER_ARM_DIM]\n",
    "    ).astype(np.float32)\n",
    "\n",
    "def linear_normal_reward_fn(x):\n",
    "    \"\"\"\n",
    "    This function generates a reward from the concatenated global and per-arm observations.\n",
    "    \"\"\"\n",
    "    mu = np.dot(x, reward_param)\n",
    "    return np.random.normal(mu, VARIANCE)"
   ]
  },
  {
   "cell_type": "code",
   "execution_count": 4,
   "id": "f2233125-043a-4841-b7d4-8d53f6c6f251",
   "metadata": {},
   "outputs": [
    {
     "data": {
      "text/plain": [
       "<tf_agents.environments.tf_py_environment.TFPyEnvironment at 0x7f9d1c91a560>"
      ]
     },
     "execution_count": 4,
     "metadata": {},
     "output_type": "execute_result"
    }
   ],
   "source": [
    "per_arm_py_env = p_a_env.StationaryStochasticPerArmPyEnvironment(\n",
    "    global_context_sampling_fn,\n",
    "    per_arm_context_sampling_fn,\n",
    "    NUM_ACTIONS,\n",
    "    linear_normal_reward_fn,\n",
    "    batch_size=BATCH_SIZE\n",
    ")\n",
    "\n",
    "per_arm_tf_env = tf_py_environment.TFPyEnvironment(per_arm_py_env)\n",
    "per_arm_tf_env"
   ]
  },
  {
   "cell_type": "markdown",
   "id": "dfeddbec-d7cd-4fe6-b1d4-c6d9f14bf84f",
   "metadata": {},
   "source": [
    "We see that the observation spec is a dictionary with two elements:\n",
    "\n",
    "* One with key `'global'`: this is the global context part, with shape matching the parameter `GLOBAL_DIM`.\n",
    "* One with key `'per_arm'`: this is the per-arm context, and its shape is `[NUM_ACTIONS, PER_ARM_DIM]`. This part is the placeholder for the arm features for every arm in a time step."
   ]
  },
  {
   "cell_type": "code",
   "execution_count": 5,
   "id": "50c79ee2-36e1-4911-9545-8c59096c2afe",
   "metadata": {},
   "outputs": [
    {
     "name": "stdout",
     "output_type": "stream",
     "text": [
      "observation spec:  {'global': TensorSpec(shape=(40,), dtype=tf.float32, name=None), 'per_arm': TensorSpec(shape=(70, 50), dtype=tf.float32, name=None)}\n"
     ]
    },
    {
     "name": "stderr",
     "output_type": "stream",
     "text": [
      "2023-07-11 11:25:20.905935: I tensorflow/compiler/xla/stream_executor/cuda/cuda_gpu_executor.cc:996] successful NUMA node read from SysFS had negative value (-1), but there must be at least one NUMA node, so returning NUMA node zero. See more at https://github.com/torvalds/linux/blob/v6.0/Documentation/ABI/testing/sysfs-bus-pci#L344-L355\n",
      "2023-07-11 11:25:20.907809: I tensorflow/compiler/xla/stream_executor/cuda/cuda_gpu_executor.cc:996] successful NUMA node read from SysFS had negative value (-1), but there must be at least one NUMA node, so returning NUMA node zero. See more at https://github.com/torvalds/linux/blob/v6.0/Documentation/ABI/testing/sysfs-bus-pci#L344-L355\n",
      "2023-07-11 11:25:20.913677: I tensorflow/compiler/xla/stream_executor/cuda/cuda_gpu_executor.cc:996] successful NUMA node read from SysFS had negative value (-1), but there must be at least one NUMA node, so returning NUMA node zero. See more at https://github.com/torvalds/linux/blob/v6.0/Documentation/ABI/testing/sysfs-bus-pci#L344-L355\n",
      "2023-07-11 11:25:20.915368: I tensorflow/compiler/xla/stream_executor/cuda/cuda_gpu_executor.cc:996] successful NUMA node read from SysFS had negative value (-1), but there must be at least one NUMA node, so returning NUMA node zero. See more at https://github.com/torvalds/linux/blob/v6.0/Documentation/ABI/testing/sysfs-bus-pci#L344-L355\n",
      "2023-07-11 11:25:20.916979: I tensorflow/compiler/xla/stream_executor/cuda/cuda_gpu_executor.cc:996] successful NUMA node read from SysFS had negative value (-1), but there must be at least one NUMA node, so returning NUMA node zero. See more at https://github.com/torvalds/linux/blob/v6.0/Documentation/ABI/testing/sysfs-bus-pci#L344-L355\n",
      "2023-07-11 11:25:20.918584: I tensorflow/compiler/xla/stream_executor/cuda/cuda_gpu_executor.cc:996] successful NUMA node read from SysFS had negative value (-1), but there must be at least one NUMA node, so returning NUMA node zero. See more at https://github.com/torvalds/linux/blob/v6.0/Documentation/ABI/testing/sysfs-bus-pci#L344-L355\n",
      "2023-07-11 11:25:21.619258: I tensorflow/compiler/xla/stream_executor/cuda/cuda_gpu_executor.cc:996] successful NUMA node read from SysFS had negative value (-1), but there must be at least one NUMA node, so returning NUMA node zero. See more at https://github.com/torvalds/linux/blob/v6.0/Documentation/ABI/testing/sysfs-bus-pci#L344-L355\n",
      "2023-07-11 11:25:21.621104: I tensorflow/compiler/xla/stream_executor/cuda/cuda_gpu_executor.cc:996] successful NUMA node read from SysFS had negative value (-1), but there must be at least one NUMA node, so returning NUMA node zero. See more at https://github.com/torvalds/linux/blob/v6.0/Documentation/ABI/testing/sysfs-bus-pci#L344-L355\n",
      "2023-07-11 11:25:21.622783: I tensorflow/compiler/xla/stream_executor/cuda/cuda_gpu_executor.cc:996] successful NUMA node read from SysFS had negative value (-1), but there must be at least one NUMA node, so returning NUMA node zero. See more at https://github.com/torvalds/linux/blob/v6.0/Documentation/ABI/testing/sysfs-bus-pci#L344-L355\n",
      "2023-07-11 11:25:21.624321: I tensorflow/compiler/xla/stream_executor/cuda/cuda_gpu_executor.cc:996] successful NUMA node read from SysFS had negative value (-1), but there must be at least one NUMA node, so returning NUMA node zero. See more at https://github.com/torvalds/linux/blob/v6.0/Documentation/ABI/testing/sysfs-bus-pci#L344-L355\n",
      "2023-07-11 11:25:21.625897: I tensorflow/compiler/xla/stream_executor/cuda/cuda_gpu_executor.cc:996] successful NUMA node read from SysFS had negative value (-1), but there must be at least one NUMA node, so returning NUMA node zero. See more at https://github.com/torvalds/linux/blob/v6.0/Documentation/ABI/testing/sysfs-bus-pci#L344-L355\n",
      "2023-07-11 11:25:21.627387: I tensorflow/compiler/xla/stream_executor/cuda/cuda_gpu_executor.cc:996] successful NUMA node read from SysFS had negative value (-1), but there must be at least one NUMA node, so returning NUMA node zero. See more at https://github.com/torvalds/linux/blob/v6.0/Documentation/ABI/testing/sysfs-bus-pci#L344-L355\n",
      "2023-07-11 11:25:22.818822: I tensorflow/compiler/xla/stream_executor/cuda/cuda_gpu_executor.cc:996] successful NUMA node read from SysFS had negative value (-1), but there must be at least one NUMA node, so returning NUMA node zero. See more at https://github.com/torvalds/linux/blob/v6.0/Documentation/ABI/testing/sysfs-bus-pci#L344-L355\n",
      "2023-07-11 11:25:22.820655: I tensorflow/compiler/xla/stream_executor/cuda/cuda_gpu_executor.cc:996] successful NUMA node read from SysFS had negative value (-1), but there must be at least one NUMA node, so returning NUMA node zero. See more at https://github.com/torvalds/linux/blob/v6.0/Documentation/ABI/testing/sysfs-bus-pci#L344-L355\n",
      "2023-07-11 11:25:22.822386: I tensorflow/compiler/xla/stream_executor/cuda/cuda_gpu_executor.cc:996] successful NUMA node read from SysFS had negative value (-1), but there must be at least one NUMA node, so returning NUMA node zero. See more at https://github.com/torvalds/linux/blob/v6.0/Documentation/ABI/testing/sysfs-bus-pci#L344-L355\n",
      "2023-07-11 11:25:22.823994: I tensorflow/compiler/xla/stream_executor/cuda/cuda_gpu_executor.cc:996] successful NUMA node read from SysFS had negative value (-1), but there must be at least one NUMA node, so returning NUMA node zero. See more at https://github.com/torvalds/linux/blob/v6.0/Documentation/ABI/testing/sysfs-bus-pci#L344-L355\n",
      "2023-07-11 11:25:22.825543: I tensorflow/compiler/xla/stream_executor/cuda/cuda_gpu_executor.cc:996] successful NUMA node read from SysFS had negative value (-1), but there must be at least one NUMA node, so returning NUMA node zero. See more at https://github.com/torvalds/linux/blob/v6.0/Documentation/ABI/testing/sysfs-bus-pci#L344-L355\n",
      "2023-07-11 11:25:22.827008: I tensorflow/core/common_runtime/gpu/gpu_device.cc:1635] Created device /job:localhost/replica:0/task:0/device:GPU:0 with 12607 MB memory:  -> device: 0, name: Tesla T4, pci bus id: 0000:00:04.0, compute capability: 7.5\n",
      "2023-07-11 11:25:22.827534: I tensorflow/compiler/xla/stream_executor/cuda/cuda_gpu_executor.cc:996] successful NUMA node read from SysFS had negative value (-1), but there must be at least one NUMA node, so returning NUMA node zero. See more at https://github.com/torvalds/linux/blob/v6.0/Documentation/ABI/testing/sysfs-bus-pci#L344-L355\n",
      "2023-07-11 11:25:22.829046: I tensorflow/core/common_runtime/gpu/gpu_device.cc:1635] Created device /job:localhost/replica:0/task:0/device:GPU:1 with 12613 MB memory:  -> device: 1, name: Tesla T4, pci bus id: 0000:00:05.0, compute capability: 7.5\n"
     ]
    },
    {
     "name": "stdout",
     "output_type": "stream",
     "text": [
      "\n",
      "An observation:  {'global': <tf.Tensor: shape=(20, 40), dtype=float32, numpy=\n",
      "array([[ -7.,  -2.,   7.,  -9.,  -1.,   8.,  -2.,   1., -10.,   7.,   4.,\n",
      "          6.,   0.,  -3.,  -5.,  -9.,   0.,  -5., -10.,   1., -10.,   7.,\n",
      "         -7.,   3.,   6.,  -6.,  -2.,  -6.,   0.,   6., -10.,  -6.,   2.,\n",
      "         -3.,   1.,  -3.,  -5.,   7.,   1.,  -1.],\n",
      "       [ -2.,   6.,   1.,   6.,   2.,   7.,  -2.,  -2.,   9.,  -1.,   6.,\n",
      "         -8.,  -9.,   9.,  -9.,   2.,  -8.,   6.,  -4.,  -5.,   6.,  -4.,\n",
      "         -4.,  -5.,  -9.,  -3.,  -2.,   8.,   6.,  -8.,  -5.,   7.,  -1.,\n",
      "         -8.,   8.,  -6.,   8., -10.,  -2.,   5.],\n",
      "       [  6.,   2.,   4., -10.,  -4.,   8.,   8.,   5.,   8.,   8.,   6.,\n",
      "          3.,   3.,  -9.,   9.,  -8.,   8.,   1.,  -8.,   9.,   1.,   8.,\n",
      "         -9.,   8.,  -2.,   2.,   5.,   6.,  -2.,   8.,   8., -10.,   6.,\n",
      "         -8.,   1.,   0.,  -6.,  -3.,   0.,   2.],\n",
      "       [  7.,  -3.,  -1.,  -4.,   3.,  -8.,   9.,  -9.,   8.,   2.,  -1.,\n",
      "         -2.,   0.,  -7.,   6.,   1.,  -5.,   1.,  -8.,   5.,  -7.,   4.,\n",
      "         -6.,  -9.,   9.,   8.,  -2.,   9.,  -8.,   9.,   8., -10.,  -7.,\n",
      "         -7.,   9.,  -7.,   1.,  -9.,   4.,   8.],\n",
      "       [ -8.,   0.,  -3.,  -2.,  -5.,   7.,  -4.,   9.,   2.,   3.,   1.,\n",
      "         -4.,   4.,  -7.,   0.,  -8., -10.,  -1.,  -5.,  -7.,  -7.,  -1.,\n",
      "         -3.,   3.,  -5.,  -2.,   4.,   0.,  -5.,   3.,   4.,   8.,  -2.,\n",
      "         -4.,  -2.,   3.,  -4.,  -2.,   7.,   5.],\n",
      "       [ -3.,  -3.,   8., -10.,   4.,  -7.,  -3.,   5.,   3.,   9.,  -7.,\n",
      "          6.,   9.,  -9.,   6.,   7.,   7.,   3.,   5.,  -5.,   1.,  -7.,\n",
      "         -8.,   6.,  -1., -10.,  -8.,  -9.,  -6.,   9., -10.,   4.,  -8.,\n",
      "         -1.,   3.,   6.,  -6.,   5.,  -5.,  -4.],\n",
      "       [  4., -10.,   7.,  -4.,   3.,   5.,   0.,   6.,   3.,   7.,  -7.,\n",
      "          8.,   1.,  -7.,  -3.,  -5.,   6.,   4.,   6.,  -5.,  -8.,   6.,\n",
      "         -8.,  -3.,  -5.,   0.,  -6.,   7.,   4.,   0.,   1.,  -3.,   1.,\n",
      "         -2.,  -1.,   6.,  -1.,  -1.,   3.,   7.],\n",
      "       [  5.,  -6.,  -9.,   2.,   1.,  -1.,  -8.,   2.,   9.,   8.,  -6.,\n",
      "          2.,   6.,  -5.,  -9.,   9.,   9.,   7.,   0.,  -5.,   4.,  -2.,\n",
      "          5., -10.,   0.,  -7.,  -7.,   9.,   6.,   7.,  -7.,  -7.,  -7.,\n",
      "          3.,  -1.,   8.,   7.,  -9.,   4.,  -6.],\n",
      "       [ -8.,   7.,   9.,   3.,  -3.,   7.,  -2.,   2.,   4.,  -9.,   7.,\n",
      "          8.,  -3.,  -5.,  -8.,  -7.,   8.,   2.,  -5.,   4.,  -2.,  -2.,\n",
      "         -9.,  -6.,   5.,  -6.,  -7.,   2.,  -1.,  -6., -10.,   3.,   9.,\n",
      "         -3.,   7.,   8.,  -2.,  -4.,   8.,   7.],\n",
      "       [  2.,   4.,   2., -10.,  -8.,  -2.,  -2.,  -4.,  -4.,   6.,  -4.,\n",
      "          3.,   9.,   8.,   8.,   8.,   1.,   5.,  -5.,   3.,   4.,   7.,\n",
      "         -4.,  -7.,  -2.,   4.,  -7.,  -4.,   6.,   0.,  -3., -10.,  -8.,\n",
      "          1.,   8.,  -3.,  -4.,  -1.,  -2.,  -2.],\n",
      "       [ -9.,   4.,   0.,   4.,   1.,  -3.,   6.,   3.,   3.,   2.,  -8.,\n",
      "         -3.,   6.,   1.,   1.,   2.,  -1.,  -7.,   8.,  -5.,   5.,  -3.,\n",
      "          8.,   6.,  -6.,  -2.,  -9.,  -3., -10.,  -3.,  -3.,   0.,  -2.,\n",
      "         -1.,   7.,   3.,   7.,  -9.,   1.,  -1.],\n",
      "       [  2.,   1.,  -4., -10.,  -1.,  -8.,  -4.,  -5.,  -3.,   2.,  -7.,\n",
      "         -9.,   7.,  -6.,   0.,  -7.,   5.,   8.,   1.,   8.,   7.,  -1.,\n",
      "         -6.,  -7.,   7.,   5.,   6.,  -1.,  -2.,  -7., -10.,   1.,  -6.,\n",
      "          6., -10.,  -3.,  -9.,   2.,   8.,   8.],\n",
      "       [  9.,  -8.,   4., -10.,  -6.,   7.,  -5.,  -3.,   8.,  -1.,  -9.,\n",
      "         -2.,  -6.,   1.,   9.,   4.,  -9., -10.,   7.,  -7.,   9.,  -3.,\n",
      "         -9.,  -6.,  -8.,   9.,   6.,   4.,   2., -10.,   4., -10.,  -1.,\n",
      "          3.,   0.,  -6.,  -2.,  -2.,  -6.,  -6.],\n",
      "       [  3.,   2., -10.,   7.,  -5.,  -9.,  -1.,  -9.,   8.,  -5.,   9.,\n",
      "         -3.,  -7.,  -4.,   9.,  -7.,  -4.,  -7.,   3.,  -5.,   9.,   2.,\n",
      "          7.,  -5.,   8.,  -3.,  -5.,  -1.,   8., -10.,   2.,  -7.,   6.,\n",
      "          1.,  -1., -10.,   6.,  -4.,  -7.,  -2.],\n",
      "       [  3.,  -6., -10.,   6.,  -5.,  -7.,   2.,   3.,  -8.,  -2.,  -4.,\n",
      "        -10.,  -6.,  -1.,   8.,  -8.,  -9.,   0.,   6.,   6.,   5.,  -6.,\n",
      "         -7.,  -8.,  -7.,   1.,  -5.,  -4.,  -7.,  -2.,  -9.,  -8.,  -6.,\n",
      "         -1.,  -4.,  -1.,  -2.,  -4.,   6.,   1.],\n",
      "       [  1.,  -7.,   1.,  -8.,   9.,  -5.,   4.,   6.,  -5.,   3.,   8.,\n",
      "         -8.,   3.,   5.,   5.,   4.,   3.,  -9., -10.,   2.,  -6.,   9.,\n",
      "         -1.,  -9.,   2.,  -5.,   2.,  -9.,   2.,  -7.,   5.,  -3.,  -1.,\n",
      "          2.,   4.,   6.,   3.,  -2.,   5.,   9.],\n",
      "       [ -2.,   0.,   3.,   0., -10.,   2.,   9.,  -9.,  -9.,  -9.,  -4.,\n",
      "          4.,   1.,   7.,  -1.,  -1.,  -9.,  -6.,   8., -10.,   9.,  -4.,\n",
      "          9.,   2.,   9.,  -8.,   9.,  -6.,   0.,   6.,  -9.,   9.,  -8.,\n",
      "         -4.,   8.,  -4.,   4.,   1.,  -6.,  -8.],\n",
      "       [  1.,   5.,  -8.,   4.,  -3.,  -8.,   0.,   4.,   0.,  -3.,  -3.,\n",
      "          6.,   9.,   7.,  -9.,   1.,   3.,  -8.,   7.,   7.,   0.,   9.,\n",
      "          5.,   6.,   9.,  -7.,  -8.,   2.,   3.,  -2.,  -9.,   6., -10.,\n",
      "         -5.,  -8.,   2.,   4.,   1.,  -2.,   8.],\n",
      "       [  8.,   6.,   0.,   6.,   3.,   5.,  -4.,   3.,   9.,  -4.,  -2.,\n",
      "          5.,   6.,  -7.,   9.,   8.,   6.,  -1.,   9.,  -5.,   7.,  -7.,\n",
      "          5.,  -7.,   5.,  -4.,  -4.,   3.,  -3.,  -1.,   9.,   5.,  -1.,\n",
      "         -4.,  -2.,  -6.,   5.,   9.,  -7.,   2.],\n",
      "       [ -8.,   0.,   7.,  -8.,  -7.,   3.,  -6.,  -7.,  -4.,  -3.,   7.,\n",
      "          7.,  -9.,  -3.,   9.,  -3.,   9.,   8.,   2.,   9.,   6.,  -7.,\n",
      "          9.,  -3.,  -1.,   0.,  -6.,   2.,  -3.,  -4.,  -4.,  -7.,  -2.,\n",
      "         -2.,  -2.,   6., -10.,  -4.,   7.,  -8.]], dtype=float32)>, 'per_arm': <tf.Tensor: shape=(20, 70, 50), dtype=float32, numpy=\n",
      "array([[[-1.,  2., -1., ..., -4., -1., -1.],\n",
      "        [ 1.,  1.,  4., ...,  0.,  1.,  2.],\n",
      "        [ 1., -5.,  2., ...,  0., -1.,  3.],\n",
      "        ...,\n",
      "        [ 5., -4., -3., ..., -5.,  2., -1.],\n",
      "        [ 5., -1., -3., ..., -1.,  4., -5.],\n",
      "        [-3., -3.,  0., ..., -2.,  2.,  5.]],\n",
      "\n",
      "       [[ 1., -5., -5., ..., -6.,  5.,  0.],\n",
      "        [-4., -5., -6., ..., -1., -5., -3.],\n",
      "        [-5., -2., -1., ..., -4., -4.,  1.],\n",
      "        ...,\n",
      "        [ 0.,  1.,  2., ...,  1., -1., -3.],\n",
      "        [-3.,  2.,  3., ...,  3., -2.,  3.],\n",
      "        [-4., -2., -2., ..., -5.,  5.,  2.]],\n",
      "\n",
      "       [[ 0., -2.,  5., ..., -2., -5.,  2.],\n",
      "        [-3., -1., -2., ..., -5.,  2., -3.],\n",
      "        [-1., -1., -3., ..., -2.,  4., -5.],\n",
      "        ...,\n",
      "        [-3.,  1., -6., ..., -3., -5.,  0.],\n",
      "        [-1.,  2.,  3., ...,  0.,  1., -2.],\n",
      "        [ 3., -1.,  2., ...,  1.,  0., -6.]],\n",
      "\n",
      "       ...,\n",
      "\n",
      "       [[-1., -2., -1., ..., -4., -5., -4.],\n",
      "        [-2.,  4.,  2., ..., -2.,  5.,  4.],\n",
      "        [-3., -5., -4., ...,  2.,  5., -3.],\n",
      "        ...,\n",
      "        [-3.,  3.,  5., ..., -6.,  3., -1.],\n",
      "        [ 2., -4.,  4., ...,  5., -5., -4.],\n",
      "        [-6.,  1.,  5., ...,  5.,  5.,  2.]],\n",
      "\n",
      "       [[-4., -2., -3., ...,  4.,  0., -4.],\n",
      "        [ 4.,  0., -2., ...,  3., -5., -6.],\n",
      "        [-6., -2., -1., ..., -3., -2., -2.],\n",
      "        ...,\n",
      "        [ 5.,  5.,  5., ...,  4., -2., -1.],\n",
      "        [-1.,  3.,  4., ..., -3., -6.,  2.],\n",
      "        [-1.,  3., -1., ..., -3., -6.,  1.]],\n",
      "\n",
      "       [[-2.,  1., -1., ..., -5.,  1., -2.],\n",
      "        [-1., -5., -2., ..., -2.,  2., -2.],\n",
      "        [ 5., -2.,  5., ..., -6., -3., -3.],\n",
      "        ...,\n",
      "        [-6.,  3.,  1., ..., -1.,  4., -5.],\n",
      "        [ 2.,  5.,  2., ...,  3.,  1., -2.],\n",
      "        [ 1., -5.,  5., ..., -2., -6., -1.]]], dtype=float32)>}\n",
      "\n",
      "Rewards after taking an action:  tf.Tensor(\n",
      "[-111.404625   338.8658    -411.27457   -431.04065    150.64694\n",
      " -649.7307    -387.58994    567.69965   -122.82248     -1.5637933\n",
      "  332.23404     43.527485  -203.11511    -70.737274   109.495636\n",
      "   -2.7800748  285.018     -341.11584    -68.886734   238.18066  ], shape=(20,), dtype=float32)\n"
     ]
    }
   ],
   "source": [
    "print('observation spec: ', per_arm_tf_env.observation_spec())\n",
    "print('\\nAn observation: ', per_arm_tf_env.reset().observation)\n",
    "\n",
    "action = tf.zeros(BATCH_SIZE, dtype=tf.int32)\n",
    "time_step = per_arm_tf_env.step(action)\n",
    "print('\\nRewards after taking an action: ', time_step.reward)"
   ]
  },
  {
   "cell_type": "code",
   "execution_count": 6,
   "id": "45e5eb4d-e038-4fb5-8a88-d2bd3e3b2505",
   "metadata": {},
   "outputs": [],
   "source": [
    "observation_spec = per_arm_tf_env.observation_spec()\n",
    "\n",
    "time_step_spec = ts.time_step_spec(observation_spec)\n",
    "\n",
    "action_spec = tensor_spec.BoundedTensorSpec(\n",
    "    dtype=tf.int32\n",
    "    , shape=()\n",
    "    , minimum=0\n",
    "    , maximum=NUM_ACTIONS - 1\n",
    ")\n",
    "\n",
    "agent = lin_ucb_agent.LinearUCBAgent(\n",
    "    time_step_spec=time_step_spec\n",
    "    , action_spec=action_spec\n",
    "    , accepts_per_arm_features=True\n",
    ")"
   ]
  },
  {
   "cell_type": "markdown",
   "id": "f8e8ce2a-5ef7-4905-999a-6688a3b35b2a",
   "metadata": {},
   "source": [
    "## The Flow of Training Data"
   ]
  },
  {
   "cell_type": "markdown",
   "id": "7c57c4a7-bc27-41b6-a639-80c0add1c1b8",
   "metadata": {},
   "source": [
    "First, let us have a look at the data specification in the agent. \n",
    "\n",
    "The `training_data_spec` attribute of the agent specifies what elements and structure the training data should have."
   ]
  },
  {
   "cell_type": "code",
   "execution_count": 7,
   "id": "936443d5-8379-453b-a163-ef7699baaf52",
   "metadata": {},
   "outputs": [
    {
     "name": "stdout",
     "output_type": "stream",
     "text": [
      "training data spec:  Trajectory(\n",
      "{'action': BoundedTensorSpec(shape=(), dtype=tf.int32, name=None, minimum=array(0, dtype=int32), maximum=array(69, dtype=int32)),\n",
      " 'discount': BoundedTensorSpec(shape=(), dtype=tf.float32, name='discount', minimum=array(0., dtype=float32), maximum=array(1., dtype=float32)),\n",
      " 'next_step_type': TensorSpec(shape=(), dtype=tf.int32, name='step_type'),\n",
      " 'observation': DictWrapper({'global': TensorSpec(shape=(40,), dtype=tf.float32, name=None)}),\n",
      " 'policy_info': PerArmPolicyInfo(log_probability=(), predicted_rewards_mean=(), multiobjective_scalarized_predicted_rewards_mean=(), predicted_rewards_optimistic=(), predicted_rewards_sampled=(), bandit_policy_type=(), chosen_arm_features=TensorSpec(shape=(50,), dtype=tf.float32, name=None)),\n",
      " 'reward': TensorSpec(shape=(), dtype=tf.float32, name='reward'),\n",
      " 'step_type': TensorSpec(shape=(), dtype=tf.int32, name='step_type')})\n"
     ]
    }
   ],
   "source": [
    "print('training data spec: ', agent.training_data_spec)"
   ]
  },
  {
   "cell_type": "markdown",
   "id": "324a713e-25d7-4656-ac5d-916d02a554a8",
   "metadata": {},
   "source": [
    "If we have a closer look to the `observation` part of the spec, we see that it does not contain per-arm features!"
   ]
  },
  {
   "cell_type": "code",
   "execution_count": 8,
   "id": "30151b9d-a7fc-4f8b-bbdb-a2658d35da12",
   "metadata": {},
   "outputs": [
    {
     "name": "stdout",
     "output_type": "stream",
     "text": [
      "observation spec in training:  {'global': TensorSpec(shape=(40,), dtype=tf.float32, name=None)}\n"
     ]
    }
   ],
   "source": [
    "print('observation spec in training: ', agent.training_data_spec.observation)"
   ]
  },
  {
   "cell_type": "markdown",
   "id": "4a01e090-6c43-4e2a-9da8-151893bfff60",
   "metadata": {},
   "source": [
    "What happened to the per-arm features? To answer this question, first we note that when the LinUCB agent trains:\n",
    "* **does not need the per-arm features of all arms**\n",
    "* **only needs those of the chosen arm**\n",
    "\n",
    "Hence, it makes sense to drop the tensor of shape `[BATCH_SIZE, NUM_ACTIONS, PER_ARM_DIM]`, as it is very wasteful, especially if the number of actions is large.\n",
    "\n",
    "But still, the per-arm features of the chosen arm must be somewhere! To this end, we make sure that the LinUCB policy stores the features of the chosen arm within the `policy_info` field of the training data:"
   ]
  },
  {
   "cell_type": "code",
   "execution_count": 9,
   "id": "64c39812-2bc9-48fa-84a5-dd037cfe180d",
   "metadata": {},
   "outputs": [
    {
     "name": "stdout",
     "output_type": "stream",
     "text": [
      "chosen arm features:  TensorSpec(shape=(50,), dtype=tf.float32, name=None)\n"
     ]
    }
   ],
   "source": [
    "print('chosen arm features: ', agent.training_data_spec.policy_info.chosen_arm_features)"
   ]
  },
  {
   "cell_type": "markdown",
   "id": "cabf56e1-5afc-472e-9799-69614d712345",
   "metadata": {},
   "source": [
    "We see from the shape that the `chosen_arm_features` field has only the feature vector of one arm, and that will be the chosen arm. Note that the `policy_info`, and with it the `chosen_arm_features`, is part of the training data, as we saw from inspecting the training data spec, and thus it is available at training time."
   ]
  },
  {
   "cell_type": "markdown",
   "id": "f84f97b9-a07a-4b46-b552-da02a47fd9fe",
   "metadata": {},
   "source": [
    "## Defining the Regret Metric"
   ]
  },
  {
   "cell_type": "markdown",
   "id": "98e1e849-7df8-4ad1-9b1d-2d94d135dc9f",
   "metadata": {},
   "source": [
    "Before starting the training loop, we define some utility functions that help calculate the regret of our agent. These functions help determining the optimal expected reward given the set of actions (given by their arm features) and the linear parameter that is hidden from the agent."
   ]
  },
  {
   "cell_type": "code",
   "execution_count": 10,
   "id": "ce87b873-6798-400c-b6de-c98f3b02c453",
   "metadata": {},
   "outputs": [],
   "source": [
    "def _all_rewards(observation, hidden_param):\n",
    "    \"\"\"\n",
    "    Outputs rewards for all actions, given an observation.\n",
    "    \"\"\"\n",
    "    hidden_param = tf.cast(hidden_param, dtype=tf.float32)\n",
    "    global_obs = observation['global']\n",
    "    per_arm_obs = observation['per_arm']\n",
    "    num_actions = tf.shape(per_arm_obs)[1]\n",
    "    \n",
    "    tiled_global = tf.tile(\n",
    "        tf.expand_dims(global_obs, axis=1)\n",
    "        , [1, num_actions, 1]\n",
    "    )\n",
    "    \n",
    "    concatenated = tf.concat([tiled_global, per_arm_obs], axis=-1)\n",
    "    rewards = tf.linalg.matvec(concatenated, hidden_param)\n",
    "    return rewards\n",
    "\n",
    "def optimal_reward(observation):\n",
    "    \"\"\"\n",
    "    Outputs the maximum expected reward for every element in the batch.\n",
    "    \"\"\"\n",
    "    return tf.reduce_max(_all_rewards(observation, reward_param), axis=1)\n",
    "\n",
    "regret_metric = tf_bandit_metrics.RegretMetric(optimal_reward)  "
   ]
  },
  {
   "cell_type": "markdown",
   "id": "ddb7c34a-93b4-43a1-84d8-9558e056f5fa",
   "metadata": {},
   "source": [
    "Now we are all set for starting our bandit training loop. The driver below takes care of choosing actions using the policy, storing rewards of chosen actions in the replay buffer, calculating the predefined regret metric, and executing the training step of the agent."
   ]
  },
  {
   "cell_type": "code",
   "execution_count": 11,
   "id": "1120f962-8cc5-4683-bb28-6355410876b9",
   "metadata": {},
   "outputs": [
    {
     "name": "stdout",
     "output_type": "stream",
     "text": [
      "WARNING:tensorflow:From /var/tmp/ipykernel_476458/3706088629.py:21: ReplayBuffer.gather_all (from tf_agents.replay_buffers.replay_buffer) is deprecated and will be removed in a future version.\n",
      "Instructions for updating:\n",
      "Use `as_dataset(..., single_deterministic_pass=True)` instead.\n"
     ]
    }
   ],
   "source": [
    "num_iterations = 20 # @param\n",
    "steps_per_loop = 1 # @param\n",
    "\n",
    "replay_buffer = tf_uniform_replay_buffer.TFUniformReplayBuffer(\n",
    "    data_spec=agent.policy.trajectory_spec,\n",
    "    batch_size=BATCH_SIZE,\n",
    "    max_length=steps_per_loop)\n",
    "\n",
    "observers = [replay_buffer.add_batch, regret_metric]\n",
    "\n",
    "driver = dynamic_step_driver.DynamicStepDriver(\n",
    "    env=per_arm_tf_env,\n",
    "    policy=agent.collect_policy,\n",
    "    num_steps=steps_per_loop * BATCH_SIZE,\n",
    "    observers=observers)\n",
    "\n",
    "regret_values = []\n",
    "\n",
    "for _ in range(num_iterations):\n",
    "    driver.run()\n",
    "    loss_info = agent.train(replay_buffer.gather_all())\n",
    "    replay_buffer.clear()\n",
    "    regret_values.append(regret_metric.result())"
   ]
  },
  {
   "cell_type": "code",
   "execution_count": 12,
   "id": "2796c47c-f912-4206-9e47-19a8983363dc",
   "metadata": {},
   "outputs": [
    {
     "data": {
      "image/png": "[encoded data removed]",
      "text/plain": [
       "<Figure size 640x480 with 1 Axes>"
      ]
     },
     "metadata": {},
     "output_type": "display_data"
    }
   ],
   "source": [
    "plt.plot(regret_values)\n",
    "plt.title('Regret of LinUCB on the Linear per-arm environment')\n",
    "plt.xlabel('Number of Iterations')\n",
    "_ = plt.ylabel('Average Regret')"
   ]
  },
  {
   "cell_type": "markdown",
   "id": "d19cec5f-86fc-42a0-b4c0-7901fbdeae71",
   "metadata": {},
   "source": [
    "# Movielens example"
   ]
  },
  {
   "cell_type": "markdown",
   "id": "0626a342-17e0-4b60-ab3a-eeb9962383b9",
   "metadata": {},
   "source": [
    "Now consider the scenario where an agent recommends to a user the next movie to watch. Every time a decision has to be made, the agent receives as context some information about the user (watch history, genre preference, etc...), as well as the list of movies to choose from.\n",
    "\n",
    "We could try to formulate this problem by having the user information as the context and the arms would be movie_1, movie_2, ..., movie_K, but this approach has multiple shortcomings:\n",
    "\n",
    "* The number of actions would have to be all the movies in the system and it is cumbersome to add a new movie.\n",
    "* The agent has to learn a model for every single movie.\n",
    "* Similarity between movies is not taken into account.\n",
    "\n",
    "Instead of numbering the movies, we can do something more intuitive: we can represent movies with a set of features including genre, length, cast, rating, year, etc. The advantages of this approach are manifold:\n",
    "\n",
    "* Generalisation across movies.\n",
    "* The agent learns just one reward function that models reward with user and movie features.\n",
    "* Easy to remove from, or introduce new movies to the system."
   ]
  },
  {
   "cell_type": "code",
   "execution_count": null,
   "id": "7bd02315-f05d-4925-994f-7074601e68ab",
   "metadata": {},
   "outputs": [],
   "source": [
    "# The dimension of the global features.\n",
    "GLOBAL_DIM = 40  # 40 users\n",
    "\n",
    "# The elements of the global feature will be integers in [-GLOBAL_BOUND, GLOBAL_BOUND).\n",
    "GLOBAL_BOUND = 10  # of each user, -10,10 to describe user features\n",
    "\n",
    "# The dimension of the per-arm features.\n",
    "PER_ARM_DIM = 50  # movies\n",
    "\n",
    "# The elements of the PER-ARM feature will be integers in [-PER_ARM_BOUND, PER_ARM_BOUND).\n",
    "PER_ARM_BOUND = 6  # cardinality of movie feature\n",
    "\n",
    "# The variance of the Gaussian distribution that generates the rewards.\n",
    "VARIANCE = 100.0  #@param {type: \"number\"}\n",
    "\n",
    "# The elements of the linear reward parameter will be integers in [-PARAM_BOUND, PARAM_BOUND).\n",
    "PARAM_BOUND = 10  #@param {type: \"integer\"}\n",
    "\n",
    "NUM_ACTIONS = 70  #@param {type:\"integer\"}\n",
    "BATCH_SIZE = 20  #@param {type:\"integer\"}\n",
    "\n",
    "# Parameter for linear reward function acting on the\n",
    "# concatenation of global and per-arm features.\n",
    "reward_param = list(np.random.randint(\n",
    "      -PARAM_BOUND, PARAM_BOUND, [GLOBAL_DIM + PER_ARM_DIM]))"
   ]
  },
  {
   "cell_type": "code",
   "execution_count": 3,
   "id": "f9f7f214-beb3-47b8-9cec-e02714e8c3a0",
   "metadata": {},
   "outputs": [],
   "source": [
    "import tensorflow_datasets as tfds\n",
    "from pprint import pprint"
   ]
  },
  {
   "cell_type": "markdown",
   "id": "4701b47f-f0c8-442a-820e-778d02324d87",
   "metadata": {},
   "source": [
    "## Data\n",
    "* see [here](https://www.tensorflow.org/datasets/catalog/movielens#movielens100k-ratings) for `Movielens` data dictionary\n",
    "\n",
    "Movie recommendation\n",
    "* `arms`: movies (items being recommended)\n",
    "* `global_features`: **TODO**\n",
    "* `arm_features`: **TODO**"
   ]
  },
  {
   "cell_type": "markdown",
   "id": "45c8863f-88ad-4841-a69b-b2ebcb5931f0",
   "metadata": {},
   "source": [
    "### movies data"
   ]
  },
  {
   "cell_type": "code",
   "execution_count": 20,
   "id": "2efb2c91-f45a-404c-91fd-25435d28573c",
   "metadata": {},
   "outputs": [
    {
     "name": "stdout",
     "output_type": "stream",
     "text": [
      "{'movie_genres': <tf.Tensor: shape=(1, 1), dtype=int64, numpy=array([[4]])>,\n",
      " 'movie_id': <tf.Tensor: shape=(1,), dtype=string, numpy=array([b'1681'], dtype=object)>,\n",
      " 'movie_title': <tf.Tensor: shape=(1,), dtype=string, numpy=array([b'You So Crazy (1994)'], dtype=object)>}\n"
     ]
    }
   ],
   "source": [
    "movies = tfds.load(\"movielens/100k-movies\", split=\"train\")\n",
    "\n",
    "for x in movies.batch(1).take(1):\n",
    "    pprint(x)"
   ]
  },
  {
   "cell_type": "markdown",
   "id": "741f8569-224a-45ff-b290-8ac4518f3c50",
   "metadata": {},
   "source": [
    "#### unique movie IDs"
   ]
  },
  {
   "cell_type": "code",
   "execution_count": 23,
   "id": "b607e44c-70f5-4e3b-ac47-a006be17332a",
   "metadata": {},
   "outputs": [
    {
     "name": "stdout",
     "output_type": "stream",
     "text": [
      "len(unique_movie_ids) : 1682\n",
      "unique_movie_ids      : [b'1' b'10' b'100' ... b'997' b'998' b'999']\n"
     ]
    }
   ],
   "source": [
    "unique_movie_ids = movies.map(lambda x: x[\"movie_id\"])\n",
    "unique_movie_ids = np.unique(np.concatenate(list(unique_movie_ids.batch(1000))))\n",
    "\n",
    "print(f\"len(unique_movie_ids) : {len(unique_movie_ids)}\")\n",
    "print(f\"unique_movie_ids      : {unique_movie_ids[:2]}\")"
   ]
  },
  {
   "cell_type": "markdown",
   "id": "0092c954-23dd-4de6-a1a0-5e90221b8590",
   "metadata": {},
   "source": [
    "#### parsed movie feature dict"
   ]
  },
  {
   "cell_type": "code",
   "execution_count": 24,
   "id": "4fbfe922-eb49-4a81-b364-a9d58d64fb02",
   "metadata": {},
   "outputs": [
    {
     "name": "stdout",
     "output_type": "stream",
     "text": [
      "{'movie_genres': <tf.Tensor: shape=(1, 1), dtype=int64, numpy=array([[4]])>,\n",
      " 'movie_id': <tf.Tensor: shape=(1,), dtype=string, numpy=array([b'1681'], dtype=object)>,\n",
      " 'movie_title': <tf.Tensor: shape=(1,), dtype=string, numpy=array([b'You So Crazy (1994)'], dtype=object)>}\n",
      "{'movie_genres': <tf.Tensor: shape=(1, 2), dtype=int64, numpy=array([[4, 7]])>,\n",
      " 'movie_id': <tf.Tensor: shape=(1,), dtype=string, numpy=array([b'1457'], dtype=object)>,\n",
      " 'movie_title': <tf.Tensor: shape=(1,), dtype=string, numpy=array([b'Love Is All There Is (1996)'], dtype=object)>}\n"
     ]
    }
   ],
   "source": [
    "parsed_movies = movies.map(lambda x: {\n",
    "    \"movie_id\": x[\"movie_id\"]\n",
    "    , \"movie_title\": x[\"movie_title\"]\n",
    "    , \"movie_genres\": x[\"movie_genres\"]\n",
    "})\n",
    "\n",
    "for x in parsed_movies.batch(1).take(2):\n",
    "    pprint(x)"
   ]
  },
  {
   "cell_type": "markdown",
   "id": "1bb3ea60-1f3c-49c4-9c2d-97d60b1766a2",
   "metadata": {},
   "source": [
    "### user and ratings data"
   ]
  },
  {
   "cell_type": "code",
   "execution_count": 25,
   "id": "fcc31a7a-fa81-42f6-b753-e347f57b6242",
   "metadata": {},
   "outputs": [
    {
     "name": "stdout",
     "output_type": "stream",
     "text": [
      "{'bucketized_user_age': <tf.Tensor: shape=(1,), dtype=float32, numpy=array([45.], dtype=float32)>,\n",
      " 'movie_genres': <tf.Tensor: shape=(1, 1), dtype=int64, numpy=array([[7]])>,\n",
      " 'movie_id': <tf.Tensor: shape=(1,), dtype=string, numpy=array([b'357'], dtype=object)>,\n",
      " 'movie_title': <tf.Tensor: shape=(1,), dtype=string, numpy=array([b\"One Flew Over the Cuckoo's Nest (1975)\"], dtype=object)>,\n",
      " 'raw_user_age': <tf.Tensor: shape=(1,), dtype=float32, numpy=array([46.], dtype=float32)>,\n",
      " 'timestamp': <tf.Tensor: shape=(1,), dtype=int64, numpy=array([879024327])>,\n",
      " 'user_gender': <tf.Tensor: shape=(1,), dtype=bool, numpy=array([ True])>,\n",
      " 'user_id': <tf.Tensor: shape=(1,), dtype=string, numpy=array([b'138'], dtype=object)>,\n",
      " 'user_occupation_label': <tf.Tensor: shape=(1,), dtype=int64, numpy=array([4])>,\n",
      " 'user_occupation_text': <tf.Tensor: shape=(1,), dtype=string, numpy=array([b'doctor'], dtype=object)>,\n",
      " 'user_rating': <tf.Tensor: shape=(1,), dtype=float32, numpy=array([4.], dtype=float32)>,\n",
      " 'user_zip_code': <tf.Tensor: shape=(1,), dtype=string, numpy=array([b'53211'], dtype=object)>}\n"
     ]
    }
   ],
   "source": [
    "ratings = tfds.load(\"movielens/100k-ratings\", split=\"train\")\n",
    "\n",
    "for x in ratings.batch(1).take(1):\n",
    "    pprint(x)"
   ]
  },
  {
   "cell_type": "markdown",
   "id": "99f64cfb-918a-4032-af79-6a8c563dfe79",
   "metadata": {},
   "source": [
    "#### unique user IDs"
   ]
  },
  {
   "cell_type": "code",
   "execution_count": 31,
   "id": "ba8cbb1a-7571-4139-9853-599b1914c0f1",
   "metadata": {},
   "outputs": [
    {
     "name": "stdout",
     "output_type": "stream",
     "text": [
      "len(unique_user_ids) : 943\n",
      "unique_user_ids      : [b'1' b'10']\n"
     ]
    }
   ],
   "source": [
    "# unique_user_ids = ratings.batch(1_000).map(lambda x: x[\"user_id\"])\n",
    "unique_user_ids = ratings.map(lambda x: x[\"user_id\"])\n",
    "unique_user_ids = np.unique(np.concatenate(list(unique_user_ids.batch(1000))))\n",
    "\n",
    "print(f\"len(unique_user_ids) : {len(unique_user_ids)}\")\n",
    "print(f\"unique_user_ids      : {unique_user_ids[:2]}\")"
   ]
  },
  {
   "cell_type": "markdown",
   "id": "e5a53001-daaf-4ce9-a981-bb7666cdfdd2",
   "metadata": {},
   "source": [
    "#### parsed user feature dict"
   ]
  },
  {
   "cell_type": "code",
   "execution_count": 32,
   "id": "f470b96b-7678-4a2d-bf84-51e73fdc6951",
   "metadata": {},
   "outputs": [
    {
     "name": "stdout",
     "output_type": "stream",
     "text": [
      "{'movie_id': <tf.Tensor: shape=(1,), dtype=string, numpy=array([b'357'], dtype=object)>,\n",
      " 'timestamp': <tf.Tensor: shape=(1,), dtype=int64, numpy=array([879024327])>,\n",
      " 'user_id': <tf.Tensor: shape=(1,), dtype=string, numpy=array([b'138'], dtype=object)>,\n",
      " 'user_occupation_label': <tf.Tensor: shape=(1,), dtype=int64, numpy=array([4])>,\n",
      " 'user_rating': <tf.Tensor: shape=(1,), dtype=float32, numpy=array([4.], dtype=float32)>}\n"
     ]
    }
   ],
   "source": [
    "parsed_ratings = ratings.map(lambda x: {\n",
    "    \"movie_id\": x[\"movie_id\"]\n",
    "    , \"movie_title\": x[\"movie_title\"]\n",
    "    , \"movie_genres\": x[\"movie_genres\"]\n",
    "    , \"user_id\": x[\"user_id\"]\n",
    "    , \"user_occupation_label\": x[\"user_occupation_label\"]\n",
    "    , \"user_rating\": x[\"user_rating\"]\n",
    "    , \"timestamp\": x[\"timestamp\"]\n",
    "})\n",
    "\n",
    "for x in parsed_ratings.batch(1).take(1):\n",
    "    pprint(x)"
   ]
  },
  {
   "cell_type": "markdown",
   "id": "7a47e21b-187d-4623-a1a2-f7d84ed7f4b2",
   "metadata": {},
   "source": [
    "#### timestamp features"
   ]
  },
  {
   "cell_type": "code",
   "execution_count": 30,
   "id": "502408a8-99c6-4e0c-8322-ab1eece0a3c6",
   "metadata": {},
   "outputs": [
    {
     "name": "stdout",
     "output_type": "stream",
     "text": [
      "max_timestamp     : 893286638\n",
      "min_timestamp     : 874724710\n",
      "timestamp_buckets : [8.74724710e+08 8.74743291e+08]\n"
     ]
    }
   ],
   "source": [
    "timestamps = np.concatenate(list(parsed_ratings.map(lambda x: x[\"timestamp\"]).batch(1_000)))\n",
    "\n",
    "max_timestamp = timestamps.max()\n",
    "min_timestamp = timestamps.min()\n",
    "\n",
    "timestamp_buckets = np.linspace(\n",
    "    min_timestamp\n",
    "    , max_timestamp\n",
    "    , num=1000\n",
    ")\n",
    "\n",
    "print(f\"max_timestamp     : {max_timestamp}\")\n",
    "print(f\"min_timestamp     : {min_timestamp}\")\n",
    "print(f\"timestamp_buckets : {timestamp_buckets[:2]}\")"
   ]
  },
  {
   "cell_type": "markdown",
   "id": "cc339735-eba1-452d-bcce-fb3f0849124f",
   "metadata": {},
   "source": [
    "## Custom Networks"
   ]
  },
  {
   "cell_type": "code",
   "execution_count": null,
   "id": "5903d157-8eff-476b-b16e-be8e34f002aa",
   "metadata": {},
   "outputs": [],
   "source": [
    "from tf_agents.environments import random_py_environment\n",
    "from tf_agents.environments import tf_py_environment\n",
    "from tf_agents.networks import encoding_network\n",
    "from tf_agents.networks import network\n",
    "from tf_agents.networks import utils\n",
    "from tf_agents.specs import array_spec\n",
    "from tf_agents.utils import common as common_utils\n",
    "from tf_agents.utils import nest_utils"
   ]
  },
  {
   "cell_type": "code",
   "execution_count": null,
   "id": "c8ae82c3-0a55-459b-8f58-f9653f04ea98",
   "metadata": {},
   "outputs": [],
   "source": [
    "class ActorNetwork(network.Network):\n",
    "\n",
    "    def __init__(self,\n",
    "                 observation_spec,\n",
    "                 action_spec,\n",
    "                 preprocessing_layers=None,\n",
    "                 preprocessing_combiner=None,\n",
    "                 conv_layer_params=None,\n",
    "                 fc_layer_params=(75, 40),\n",
    "                 dropout_layer_params=None,\n",
    "                 activation_fn=tf.keras.activations.relu,\n",
    "                 enable_last_layer_zero_initializer=False,\n",
    "                 name='ActorNetwork'):\n",
    "        super(ActorNetwork, self).__init__(\n",
    "            input_tensor_spec=observation_spec, state_spec=(), name=name)\n",
    "\n",
    "        # For simplicity we will only support a single action float output.\n",
    "        self._action_spec = action_spec\n",
    "        flat_action_spec = tf.nest.flatten(action_spec)\n",
    "        if len(flat_action_spec) > 1:\n",
    "            raise ValueError('Only a single action is supported by this network')\n",
    "        \n",
    "        self._single_action_spec = flat_action_spec[0]\n",
    "        if self._single_action_spec.dtype not in [tf.float32, tf.float64]:\n",
    "            raise ValueError('Only float actions are supported by this network.')\n",
    "\n",
    "        kernel_initializer = tf.keras.initializers.VarianceScaling(\n",
    "            scale=1. / 3.\n",
    "            , mode='fan_in'\n",
    "            , distribution='uniform'\n",
    "        )\n",
    "        \n",
    "        self._encoder = encoding_network.EncodingNetwork(\n",
    "            observation_spec\n",
    "            , preprocessing_layers=preprocessing_layers\n",
    "            , preprocessing_combiner=preprocessing_combiner\n",
    "            , conv_layer_params=conv_layer_params\n",
    "            , fc_layer_params=fc_layer_params\n",
    "            , dropout_layer_params=dropout_layer_params\n",
    "            , activation_fn=activation_fn\n",
    "            , kernel_initializer=kernel_initializer\n",
    "            , batch_squash=False\n",
    "        )\n",
    "\n",
    "        initializer = tf.keras.initializers.RandomUniform(\n",
    "            minval=-0.003\n",
    "            , maxval=0.003\n",
    "        )\n",
    "\n",
    "        self._action_projection_layer = tf.keras.layers.Dense(\n",
    "            , flat_action_spec[0].shape.num_elements()\n",
    "            , activation=tf.keras.activations.tanh\n",
    "            , kernel_initializer=initializer\n",
    "            , name='action'\n",
    "        )\n",
    "\n",
    "    def call(self, observations, step_type=(), network_state=()):\n",
    "        outer_rank = nest_utils.get_outer_rank(observations, self.input_tensor_spec)\n",
    "        \n",
    "        # We use batch_squash here in case the observations have a time sequence\n",
    "        # compoment.\n",
    "        batch_squash = utils.BatchSquash(outer_rank)\n",
    "        observations = tf.nest.map_structure(batch_squash.flatten, observations)\n",
    "\n",
    "        state, network_state = self._encoder(\n",
    "            observations\n",
    "            , step_type=step_type\n",
    "            , network_state=network_state\n",
    "        )\n",
    "        \n",
    "        actions = self._action_projection_layer(state)\n",
    "        actions = common_utils.scale_to_spec(actions, self._single_action_spec)\n",
    "        actions = batch_squash.unflatten(actions)\n",
    "        \n",
    "        return tf.nest.pack_sequence_as(self._action_spec, [actions]), network_state"
   ]
  },
  {
   "cell_type": "code",
   "execution_count": null,
   "id": "a0098bd9-c1f3-48fd-b667-c5bb4bc41413",
   "metadata": {},
   "outputs": [],
   "source": []
  },
  {
   "cell_type": "markdown",
   "id": "0181f63b-7f08-4b7e-8522-cc1f82d0ab5b",
   "metadata": {},
   "source": [
    "#### [internal] agent_trainer_common.py\n",
    "\n",
    "* [src](https://critique.corp.google.com/cl/323064095/depot/google3/learning/smartchoices/training/models/agent_trainer_common.py)"
   ]
  },
  {
   "cell_type": "code",
   "execution_count": null,
   "id": "86c0dbf2-aa5b-4a53-9e70-62674a49cab3",
   "metadata": {},
   "outputs": [],
   "source": [
    "# Input data reader\n",
    "READER = tf.data.RecordIODataset\n",
    "\n",
    "def _create_dataset_fn(\n",
    "    tf_transform_output\n",
    "    , data_files\n",
    "    , agent_wrapper\n",
    "    , randomize_input=True\n",
    "    , trajectory_fn=None\n",
    "):\n",
    "    \"\"\"\n",
    "    Creates the dataset_fn needed by the dataset wrapping replay buffer.\n",
    "    \"\"\"\n",
    "\n",
    "    def _dataset_fn(\n",
    "        batch_size\n",
    "        , num_steps\n",
    "        , sequence_preprocess_fn\n",
    "        , num_parallel_calls\n",
    "    ):\n",
    "        \"\"\"\n",
    "        Creates tf.Dataset containing Trajectory objects.\n",
    "        \"\"\"\n",
    "\n",
    "        if sequence_preprocess_fn is not None:\n",
    "            raise NotImplementedError('sequence_preprocess_fn is not supported.')\n",
    "\n",
    "        # TODO(dzats): Currently ignore numsteps. Determine how to handle this in\n",
    "        # the future.\n",
    "        del num_steps\n",
    "\n",
    "        # Parse features from tf.examples using TFX supported tensor types.\n",
    "        dataset = contrib_data.make_batched_features_dataset(\n",
    "            data_files\n",
    "            , batch_size\n",
    "            , tf_transform_output.raw_feature_spec()\n",
    "            , reader=READER\n",
    "            , shuffle=randomize_input\n",
    "        )\n",
    "        \n",
    "        # Apply tf.transforms.\n",
    "        dataset = dataset.map(\n",
    "            tf_transform_output.transform_raw_features\n",
    "            , num_parallel_calls=num_parallel_calls\n",
    "        )\n",
    "        \n",
    "        # Cast tensors to types required by the model.\n",
    "        dataset = dataset.map(\n",
    "            functools.partial(agent_wrapper.cast_fn)\n",
    "            , num_parallel_calls=num_parallel_calls\n",
    "        )\n",
    "        \n",
    "        # Convert dataset to Trajectory objects.\n",
    "        dataset = dataset.map(\n",
    "            functools.partial(trajectory_fn)\n",
    "            , num_parallel_calls=num_parallel_calls\n",
    "        )\n",
    "        return dataset\n",
    "\n",
    "      return _dataset_fn"
   ]
  },
  {
   "cell_type": "code",
   "execution_count": null,
   "id": "e64c1fdf-13b2-47bb-b9e6-021f82925180",
   "metadata": {},
   "outputs": [],
   "source": [
    "def _create_learner(\n",
    "    tf_transform_output\n",
    "    , checkpointer\n",
    "    , agent_wrapper\n",
    "    , batch_size\n",
    "    , trainer_inputs\n",
    "    , dist_strategy\n",
    "    , summary_writers=None\n",
    "):\n",
    "    \"\"\"\n",
    "    Creates OffPolicyLearner.\n",
    "\n",
    "    Args:\n",
    "      tf_transform_output: A `TFTransformOutput` object specifying the output of\n",
    "        tf transform.\n",
    "      checkpointer: A `CheckPointer` that checkpoints state for TF-Agents.\n",
    "      agent_wrapper: A `trainer_util.AgentWrapper`.\n",
    "      batch_size: The batch size.\n",
    "      trainer_inputs: A `TensorflowTrainerInputs` object.\n",
    "      dist_strategy: A `tf.distribute.Strategy` object.\n",
    "      summary_writers: List of `tf.summary.SummaryWriter` objects or None. If\n",
    "        None, learner will not write summaries for TensorBoard.\n",
    "\n",
    "    Returns:\n",
    "      `off_policy_learner.OffPolicyLeaner`\n",
    "    \"\"\"\n",
    "    replay_buffer = dwrb.DatasetWrappingReplayBuffer(\n",
    "        data_spec=agent_wrapper.model.collect_data_spec\n",
    "        , capacity=1\n",
    "        , buffer_mode=mode.SERVER_CLIENT\n",
    "        , dataset_fn=_create_dataset_fn(\n",
    "            tf_transform_output\n",
    "            , trainer_inputs.examples_by_split[TRAIN_EXAMPLE_SPLIT]\n",
    "            , agent_wrapper\n",
    "            , randomize_input=True\n",
    "            , trajectory_fn=agent_wrapper.train_trajectory_fn\n",
    "        )\n",
    "    )\n",
    "    \n",
    "    return off_policy_learner.OffPolicyLearner(\n",
    "        agent=agent_wrapper.model\n",
    "        , replay_buffer=replay_buffer\n",
    "        , sample_batch_size=batch_size\n",
    "        , strategy=dist_strategy\n",
    "        , summary_writers=summary_writers\n",
    "        , train_checkpointer=checkpointer\n",
    "        , train_checkpoint_steps_frequency=LEARNER_CHECKPOINT_STEPS_FREQUENCY\n",
    "        , policy_checkpointer=checkpointer\n",
    "        , policy_checkpoint_steps_frequency=LEARNER_CHECKPOINT_STEPS_FREQUENCY\n",
    "        , log_interval=LEARNER_LOG_SUMMARIES_INTERVAL\n",
    "        , exit_grace_period_seconds=0\n",
    "  )"
   ]
  }
 ],
 "metadata": {
  "environment": {
   "kernel": "python3",
   "name": "tf2-gpu.2-11.m109",
   "type": "gcloud",
   "uri": "gcr.io/deeplearning-platform-release/tf2-gpu.2-11:m109"
  },
  "kernelspec": {
   "display_name": "Python 3",
   "language": "python",
   "name": "python3"
  },
  "language_info": {
   "codemirror_mode": {
    "name": "ipython",
    "version": 3
   },
   "file_extension": ".py",
   "mimetype": "text/x-python",
   "name": "python",
   "nbconvert_exporter": "python",
   "pygments_lexer": "ipython3",
   "version": "3.10.11"
  }
 },
 "nbformat": 4,
 "nbformat_minor": 5
}
